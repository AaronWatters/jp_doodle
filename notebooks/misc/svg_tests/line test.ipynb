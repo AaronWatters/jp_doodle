{
 "cells": [
  {
   "cell_type": "code",
   "execution_count": 1,
   "metadata": {},
   "outputs": [],
   "source": [
    "from jp_doodle import dual_canvas, auto_capture\n",
    "from IPython.display import display\n",
    "import math"
   ]
  },
  {
   "cell_type": "code",
   "execution_count": 2,
   "metadata": {},
   "outputs": [
    {
     "data": {
      "application/vnd.jupyter.widget-view+json": {
       "model_id": "5c493a216a974a63b0166c9c3128d779",
       "version_major": 2,
       "version_minor": 0
      },
      "text/plain": [
       "DualCanvasWidget(status='deferring flush until render')"
      ]
     },
     "metadata": {},
     "output_type": "display_data"
    }
   ],
   "source": [
    "demo = dual_canvas.DualCanvasWidget(width=320, height=220)\n",
    "display(demo)\n",
    "\n",
    "for i in range(20):\n",
    "    theta = i * 2 * math.pi / 20;\n",
    "    color = \"rgb(\" + repr(i * 10) + \",\" + repr(255 - i*10) + \",\" + repr(i * 10) + \")\"\n",
    "    c = math.cos(theta);\n",
    "    s = math.sin(theta);\n",
    "    w = 4 + 2 * s;\n",
    "    demo.line(-c*20, s*20, c*100, s*100, color=color, lineWidth=w);\n",
    "\n",
    "# Fit the figure into the available space\n",
    "demo.fit(None, 10);"
   ]
  },
  {
   "cell_type": "code",
   "execution_count": 3,
   "metadata": {},
   "outputs": [
    {
     "data": {
      "text/html": [
       "\n",
       "<svg viewBox=\"0 0 320 220\" xmlns=\"http://www.w3.org/2000/svg\">\n",
       "  <g transform=\"scale(1 1) translate(160 110)\">\n",
       "\t<line x1=\"-20\" y1=\"0\" x2=\"100\" y2=\"0\" fill=\"rgb(0,255,0)\" stroke=\"rgb(0,255,0)\" style=\"stroke-width:4\" draw_on_canvas=\"{}\" object_index=\"0\" shape_name=\"line\" coordinate_conversion=\"{}\" lineDash=\"None\" sample_pixel=\"{'x': 140, 'y': 110}\" />\n",
       "\t<line x1=\"-19.02113032590307\" y1=\"-6.180339887498948\" x2=\"95.10565162951535\" y2=\"-30.901699437494738\" fill=\"rgb(10,245,10)\" stroke=\"rgb(10,245,10)\" style=\"stroke-width:4.618033988749895\" draw_on_canvas=\"{}\" object_index=\"1\" shape_name=\"line\" coordinate_conversion=\"{}\" lineDash=\"None\" sample_pixel=\"{'x': 141, 'y': 116}\" />\n",
       "\t<line x1=\"-16.18033988749895\" y1=\"-11.755705045849464\" x2=\"80.90169943749474\" y2=\"-58.778525229247315\" fill=\"rgb(20,235,20)\" stroke=\"rgb(20,235,20)\" style=\"stroke-width:5.175570504584947\" draw_on_canvas=\"{}\" object_index=\"2\" shape_name=\"line\" coordinate_conversion=\"{}\" lineDash=\"None\" sample_pixel=\"{'x': 144, 'y': 122}\" />\n",
       "\t<line x1=\"-11.755705045849465\" y1=\"-16.180339887498945\" x2=\"58.77852522924732\" y2=\"-80.90169943749473\" fill=\"rgb(30,225,30)\" stroke=\"rgb(30,225,30)\" style=\"stroke-width:5.618033988749895\" draw_on_canvas=\"{}\" object_index=\"3\" shape_name=\"line\" coordinate_conversion=\"{}\" lineDash=\"None\" sample_pixel=\"{'x': 148, 'y': 126}\" />\n",
       "\t<line x1=\"-6.180339887498949\" y1=\"-19.02113032590307\" x2=\"30.901699437494745\" y2=\"-95.10565162951535\" fill=\"rgb(40,215,40)\" stroke=\"rgb(40,215,40)\" style=\"stroke-width:5.902113032590307\" draw_on_canvas=\"{}\" object_index=\"4\" shape_name=\"line\" coordinate_conversion=\"{}\" lineDash=\"None\" sample_pixel=\"{'x': 154, 'y': 129}\" />\n",
       "\t<line x1=\"-1.2246467991473533e-15\" y1=\"-20\" x2=\"6.123233995736766e-15\" y2=\"-100\" fill=\"rgb(50,205,50)\" stroke=\"rgb(50,205,50)\" style=\"stroke-width:6\" draw_on_canvas=\"{}\" object_index=\"5\" shape_name=\"line\" coordinate_conversion=\"{}\" lineDash=\"None\" sample_pixel=\"{'x': 160, 'y': 130}\" />\n",
       "\t<line x1=\"6.180339887498947\" y1=\"-19.021130325903073\" x2=\"-30.901699437494734\" y2=\"-95.10565162951536\" fill=\"rgb(60,195,60)\" stroke=\"rgb(60,195,60)\" style=\"stroke-width:5.902113032590307\" draw_on_canvas=\"{}\" object_index=\"6\" shape_name=\"line\" coordinate_conversion=\"{}\" lineDash=\"None\" sample_pixel=\"{'x': 166, 'y': 129}\" />\n",
       "\t<line x1=\"11.75570504584946\" y1=\"-16.18033988749895\" x2=\"-58.7785252292473\" y2=\"-80.90169943749474\" fill=\"rgb(70,185,70)\" stroke=\"rgb(70,185,70)\" style=\"stroke-width:5.618033988749895\" draw_on_canvas=\"{}\" object_index=\"7\" shape_name=\"line\" coordinate_conversion=\"{}\" lineDash=\"None\" sample_pixel=\"{'x': 172, 'y': 126}\" />\n",
       "\t<line x1=\"16.180339887498945\" y1=\"-11.755705045849465\" x2=\"-80.90169943749473\" y2=\"-58.77852522924732\" fill=\"rgb(80,175,80)\" stroke=\"rgb(80,175,80)\" style=\"stroke-width:5.175570504584947\" draw_on_canvas=\"{}\" object_index=\"8\" shape_name=\"line\" coordinate_conversion=\"{}\" lineDash=\"None\" sample_pixel=\"{'x': 176, 'y': 122}\" />\n",
       "\t<line x1=\"19.02113032590307\" y1=\"-6.18033988749895\" x2=\"-95.10565162951535\" y2=\"-30.901699437494752\" fill=\"rgb(90,165,90)\" stroke=\"rgb(90,165,90)\" style=\"stroke-width:4.618033988749895\" draw_on_canvas=\"{}\" object_index=\"9\" shape_name=\"line\" coordinate_conversion=\"{}\" lineDash=\"None\" sample_pixel=\"{'x': 179, 'y': 116}\" />\n",
       "\t<line x1=\"20\" y1=\"-2.4492935982947065e-15\" x2=\"-100\" y2=\"-1.2246467991473532e-14\" fill=\"rgb(100,155,100)\" stroke=\"rgb(100,155,100)\" style=\"stroke-width:4\" draw_on_canvas=\"{}\" object_index=\"10\" shape_name=\"line\" coordinate_conversion=\"{}\" lineDash=\"None\" sample_pixel=\"{'x': 180, 'y': 110}\" />\n",
       "\t<line x1=\"19.021130325903076\" y1=\"6.180339887498938\" x2=\"-95.10565162951538\" y2=\"30.90169943749469\" fill=\"rgb(110,145,110)\" stroke=\"rgb(110,145,110)\" style=\"stroke-width:3.381966011250106\" draw_on_canvas=\"{}\" object_index=\"11\" shape_name=\"line\" coordinate_conversion=\"{}\" lineDash=\"None\" sample_pixel=\"{'x': 179, 'y': 104}\" />\n",
       "\t<line x1=\"16.18033988749895\" y1=\"11.75570504584946\" x2=\"-80.90169943749474\" y2=\"58.7785252292473\" fill=\"rgb(120,135,120)\" stroke=\"rgb(120,135,120)\" style=\"stroke-width:2.824429495415054\" draw_on_canvas=\"{}\" object_index=\"12\" shape_name=\"line\" coordinate_conversion=\"{}\" lineDash=\"None\" sample_pixel=\"{'x': 176, 'y': 98}\" />\n",
       "\t<line x1=\"11.755705045849465\" y1=\"16.180339887498945\" x2=\"-58.77852522924732\" y2=\"80.90169943749473\" fill=\"rgb(130,125,130)\" stroke=\"rgb(130,125,130)\" style=\"stroke-width:2.381966011250105\" draw_on_canvas=\"{}\" object_index=\"13\" shape_name=\"line\" coordinate_conversion=\"{}\" lineDash=\"None\" sample_pixel=\"{'x': 172, 'y': 94}\" />\n",
       "\t<line x1=\"6.180339887498951\" y1=\"19.02113032590307\" x2=\"-30.901699437494756\" y2=\"95.10565162951535\" fill=\"rgb(140,115,140)\" stroke=\"rgb(140,115,140)\" style=\"stroke-width:2.0978869674096927\" draw_on_canvas=\"{}\" object_index=\"14\" shape_name=\"line\" coordinate_conversion=\"{}\" lineDash=\"None\" sample_pixel=\"{'x': 166, 'y': 91}\" />\n",
       "\t<line x1=\"3.673940397442059e-15\" y1=\"20\" x2=\"-1.8369701987210297e-14\" y2=\"100\" fill=\"rgb(150,105,150)\" stroke=\"rgb(150,105,150)\" style=\"stroke-width:2\" draw_on_canvas=\"{}\" object_index=\"15\" shape_name=\"line\" coordinate_conversion=\"{}\" lineDash=\"None\" sample_pixel=\"{'x': 160, 'y': 90}\" />\n",
       "\t<line x1=\"-6.180339887498945\" y1=\"19.021130325903073\" x2=\"30.901699437494724\" y2=\"95.10565162951536\" fill=\"rgb(160,95,160)\" stroke=\"rgb(160,95,160)\" style=\"stroke-width:2.0978869674096927\" draw_on_canvas=\"{}\" object_index=\"16\" shape_name=\"line\" coordinate_conversion=\"{}\" lineDash=\"None\" sample_pixel=\"{'x': 154, 'y': 91}\" />\n",
       "\t<line x1=\"-11.755705045849458\" y1=\"16.180339887498953\" x2=\"58.77852522924729\" y2=\"80.90169943749476\" fill=\"rgb(170,85,170)\" stroke=\"rgb(170,85,170)\" style=\"stroke-width:2.381966011250105\" draw_on_canvas=\"{}\" object_index=\"17\" shape_name=\"line\" coordinate_conversion=\"{}\" lineDash=\"None\" sample_pixel=\"{'x': 148, 'y': 94}\" />\n",
       "\t<line x1=\"-16.180339887498945\" y1=\"11.755705045849465\" x2=\"80.90169943749473\" y2=\"58.77852522924732\" fill=\"rgb(180,75,180)\" stroke=\"rgb(180,75,180)\" style=\"stroke-width:2.8244294954150533\" draw_on_canvas=\"{}\" object_index=\"18\" shape_name=\"line\" coordinate_conversion=\"{}\" lineDash=\"None\" sample_pixel=\"{'x': 144, 'y': 98}\" />\n",
       "\t<line x1=\"-19.02113032590307\" y1=\"6.180339887498953\" x2=\"95.10565162951535\" y2=\"30.901699437494763\" fill=\"rgb(190,65,190)\" stroke=\"rgb(190,65,190)\" style=\"stroke-width:3.3819660112501047\" draw_on_canvas=\"{}\" object_index=\"19\" shape_name=\"line\" coordinate_conversion=\"{}\" lineDash=\"None\" sample_pixel=\"{'x': 141, 'y': 104}\" />\n",
       "\t</g>\n",
       "</svg>\n"
      ],
      "text/plain": [
       "<IPython.core.display.HTML object>"
      ]
     },
     "metadata": {},
     "output_type": "display_data"
    }
   ],
   "source": [
    "from jp_doodle import svg_translation\n",
    "svg_translation.display_as_svg(demo)"
   ]
  }
 ],
 "metadata": {
  "kernelspec": {
   "display_name": "Python 3",
   "language": "python",
   "name": "python3"
  },
  "language_info": {
   "codemirror_mode": {
    "name": "ipython",
    "version": 3
   },
   "file_extension": ".py",
   "mimetype": "text/x-python",
   "name": "python",
   "nbconvert_exporter": "python",
   "pygments_lexer": "ipython3",
   "version": "3.7.0"
  }
 },
 "nbformat": 4,
 "nbformat_minor": 4
}
