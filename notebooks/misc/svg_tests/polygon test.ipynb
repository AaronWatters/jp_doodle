{
 "cells": [
  {
   "cell_type": "code",
   "execution_count": 1,
   "metadata": {},
   "outputs": [],
   "source": [
    "from jp_doodle import dual_canvas\n",
    "from IPython.display import display\n",
    "import math"
   ]
  },
  {
   "cell_type": "code",
   "execution_count": 2,
   "metadata": {},
   "outputs": [
    {
     "data": {
      "application/vnd.jupyter.widget-view+json": {
       "model_id": "0e9126851378469eb0d567b1ff538f06",
       "version_major": 2,
       "version_minor": 0
      },
      "text/plain": [
       "DualCanvasWidget(status='deferring flush until render')"
      ]
     },
     "metadata": {},
     "output_type": "display_data"
    }
   ],
   "source": [
    "demo = dual_canvas.DualCanvasWidget(width=320, height=220)\n",
    "display(demo)\n",
    "\n",
    "\n",
    "points1 = [[5,0], [4,2], [4,4], [3,6], [3,5], [1,4], [2,3], [2,2], [3,1], [0,0]]\n",
    "points2 = [[i*2+10,j*2+10] for (i,j) in points1]\n",
    "points3 = [[i*4+20,j*4+20] for (i,j) in points1]\n",
    "\n",
    "demo.polygon(name=\"full filled\", points= points1, color=\"green\")\n",
    "demo.polygon(name= \"stroked closed\", points= points2, color=\"red\",\n",
    "    fill= False, close= True, lineWidth=1)\n",
    "demo.polygon(name= \"stroked open\", points= points3, color=\"cyan\",\n",
    "    fill= False, close= False, lineWidth=5)\n",
    "\n",
    "demo.fit(None, 10);"
   ]
  },
  {
   "cell_type": "code",
   "execution_count": 3,
   "metadata": {},
   "outputs": [
    {
     "data": {
      "text/plain": [
       "[{'shape_name': 'canvas',\n",
       "  'width': 320,\n",
       "  'height': 220,\n",
       "  'lineWidth': 1,\n",
       "  'fillColor': 'black',\n",
       "  'strokeStyle': 'black',\n",
       "  'translate_scale': {'x': 26.545454545454547,\n",
       "   'y': 10,\n",
       "   'w': 3.4375,\n",
       "   'h': 3.4375,\n",
       "   'model_height': 64,\n",
       "   'model_intercept': 44},\n",
       "  'font': 'normal 10px Arial',\n",
       "  'y_up': True,\n",
       "  'style': 'border:1px solid #d3d3d3;'},\n",
       " {'points': [[5, 0],\n",
       "   [4, 2],\n",
       "   [4, 4],\n",
       "   [3, 6],\n",
       "   [3, 5],\n",
       "   [1, 4],\n",
       "   [2, 3],\n",
       "   [2, 2],\n",
       "   [3, 1],\n",
       "   [0, 0]],\n",
       "  'color': 'green',\n",
       "  'close': True,\n",
       "  'fill': True,\n",
       "  'name': 'full filled',\n",
       "  'draw_on_canvas': {},\n",
       "  'pseudocolor_array': [128, 0, 0],\n",
       "  'pseudocolor': 'rgb(128,0,0)',\n",
       "  'change': {},\n",
       "  'forget': {},\n",
       "  'visible': {},\n",
       "  'on': {},\n",
       "  'off': {},\n",
       "  'transition': {},\n",
       "  'object_index': 0,\n",
       "  'shape_name': 'polygon',\n",
       "  'coordinate_conversion': {},\n",
       "  'cx': 0,\n",
       "  'cy': 0,\n",
       "  'degrees': 0,\n",
       "  'get_vertices': {},\n",
       "  'sample_pixel': {'x': 108, 'y': 34}},\n",
       " {'points': [[20, 10],\n",
       "   [18, 14],\n",
       "   [18, 18],\n",
       "   [16, 22],\n",
       "   [16, 20],\n",
       "   [12, 18],\n",
       "   [14, 16],\n",
       "   [14, 14],\n",
       "   [16, 12],\n",
       "   [10, 10]],\n",
       "  'color': 'red',\n",
       "  'close': True,\n",
       "  'fill': False,\n",
       "  'name': 'stroked closed',\n",
       "  'lineWidth': 1,\n",
       "  'draw_on_canvas': {},\n",
       "  'pseudocolor_array': [0, 128, 0],\n",
       "  'pseudocolor': 'rgb(0,128,0)',\n",
       "  'change': {},\n",
       "  'forget': {},\n",
       "  'visible': {},\n",
       "  'on': {},\n",
       "  'off': {},\n",
       "  'transition': {},\n",
       "  'object_index': 1,\n",
       "  'shape_name': 'polygon',\n",
       "  'coordinate_conversion': {},\n",
       "  'cx': 0,\n",
       "  'cy': 0,\n",
       "  'degrees': 0,\n",
       "  'get_vertices': {},\n",
       "  'sample_pixel': {'x': 160, 'y': 69}},\n",
       " {'points': [[40, 20],\n",
       "   [36, 28],\n",
       "   [36, 36],\n",
       "   [32, 44],\n",
       "   [32, 40],\n",
       "   [24, 36],\n",
       "   [28, 32],\n",
       "   [28, 28],\n",
       "   [32, 24],\n",
       "   [20, 20]],\n",
       "  'color': 'cyan',\n",
       "  'close': False,\n",
       "  'fill': False,\n",
       "  'name': 'stroked open',\n",
       "  'lineWidth': 5,\n",
       "  'draw_on_canvas': {},\n",
       "  'pseudocolor_array': [128, 128, 0],\n",
       "  'pseudocolor': 'rgb(128,128,0)',\n",
       "  'change': {},\n",
       "  'forget': {},\n",
       "  'visible': {},\n",
       "  'on': {},\n",
       "  'off': {},\n",
       "  'transition': {},\n",
       "  'object_index': 2,\n",
       "  'shape_name': 'polygon',\n",
       "  'coordinate_conversion': {},\n",
       "  'cx': 0,\n",
       "  'cy': 0,\n",
       "  'degrees': 0,\n",
       "  'get_vertices': {},\n",
       "  'sample_pixel': {'x': 229, 'y': 103}}]"
      ]
     },
     "execution_count": 3,
     "metadata": {},
     "output_type": "execute_result"
    }
   ],
   "source": [
    "demo.get_raw_draw_information()"
   ]
  },
  {
   "cell_type": "code",
   "execution_count": 4,
   "metadata": {},
   "outputs": [
    {
     "data": {
      "text/html": [
       "\n",
       "<svg viewBox=\"0 0 320 220\" xmlns=\"http://www.w3.org/2000/svg\">\n",
       "  <g transform=\"scale(3.4375 3.4375) translate(26.545454545454547 10)\">\n",
       "\t<polygon points=\"5,44 4,42 4,40 3,38 3,39 1,40 2,41 2,42 3,43 0,44\" stroke=\"green\" style=\"stroke-width:1\" fill=\"green\" />\n",
       "\t<polygon points=\"20,34 18,30 18,26 16,22 16,24 12,26 14,28 14,30 16,32 10,34\" stroke=\"red\" style=\"stroke-width:1\" fill=\"transparent\" />\n",
       "\t<polyline points=\"40,24 36,16 36,8 32,0 32,4 24,8 28,12 28,16 32,20 20,24\" stroke=\"cyan\" style=\"stroke-width:5\" fill=\"transparent\" />\n",
       "\t</g>\n",
       "</svg>\n"
      ],
      "text/plain": [
       "<IPython.core.display.HTML object>"
      ]
     },
     "metadata": {},
     "output_type": "display_data"
    }
   ],
   "source": [
    "from jp_doodle import svg_translation\n",
    "\n",
    "svg_translation.display_as_svg(demo)"
   ]
  }
 ],
 "metadata": {
  "kernelspec": {
   "display_name": "Python 3",
   "language": "python",
   "name": "python3"
  },
  "language_info": {
   "codemirror_mode": {
    "name": "ipython",
    "version": 3
   },
   "file_extension": ".py",
   "mimetype": "text/x-python",
   "name": "python",
   "nbconvert_exporter": "python",
   "pygments_lexer": "ipython3",
   "version": "3.7.0"
  }
 },
 "nbformat": 4,
 "nbformat_minor": 4
}
