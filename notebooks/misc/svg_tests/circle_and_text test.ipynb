{
 "cells": [
  {
   "cell_type": "code",
   "execution_count": 1,
   "metadata": {},
   "outputs": [],
   "source": [
    "from jp_doodle import dual_canvas, auto_capture\n",
    "from IPython.display import display"
   ]
  },
  {
   "cell_type": "code",
   "execution_count": 16,
   "metadata": {},
   "outputs": [
    {
     "data": {
      "application/vnd.jupyter.widget-view+json": {
       "model_id": "9cc32a15ce094913b5ac6401487ea033",
       "version_major": 2,
       "version_minor": 0
      },
      "text/plain": [
       "DualCanvasWidget(status='deferring flush until render')"
      ]
     },
     "metadata": {},
     "output_type": "display_data"
    }
   ],
   "source": [
    "widget = dual_canvas.DualCanvasWidget(width=120, height=120)\n",
    "\n",
    "# this circle cannot be mutated and does not respond to events because it is not named.\n",
    "widget.circle(x=0, y=0, r=100, color=\"#e99\")\n",
    "\n",
    "# this text is named and can be mutated and can respond to events\n",
    "txt1 = widget.text(x=0, y=0, text=\"Click me please\", degrees=45, name=True,\n",
    "           font= \"40pt Arial\", color=\"#e3e\", background=\"#9e9\", align=\"center\", valign=\"center\")\n",
    "\n",
    "# add a click event bound to the txt which transitions the text rotation\n",
    "def on_click(*ignored):\n",
    "    txt1.transition(text=\"That tickles\", degrees=720, color=\"#f90\", background=\"#009\", seconds_duration=5)\n",
    "\n",
    "txt1.on(\"click\", on_click)\n",
    "\n",
    "widget.fit()\n",
    "\n",
    "widget"
   ]
  },
  {
   "cell_type": "code",
   "execution_count": 17,
   "metadata": {},
   "outputs": [
    {
     "data": {
      "text/plain": [
       "[{'shape_name': 'canvas',\n",
       "  'width': 120,\n",
       "  'height': 120,\n",
       "  'lineWidth': 1,\n",
       "  'fillColor': 'black',\n",
       "  'strokeStyle': 'black',\n",
       "  'translate_scale': {'x': 157.46090382125126,\n",
       "   'y': 157.46090382125126,\n",
       "   'w': 0.3810469681293819,\n",
       "   'h': 0.3810469681293819,\n",
       "   'model_height': 314.92180764250253,\n",
       "   'model_intercept': 0},\n",
       "  'font': 'normal 10px Arial',\n",
       "  'y_up': True,\n",
       "  'style': 'border:1px solid #d3d3d3;'},\n",
       " {'x': 0,\n",
       "  'y': 0,\n",
       "  'r': 100,\n",
       "  'color': '#e99',\n",
       "  'fill': True,\n",
       "  'draw_on_canvas': {},\n",
       "  'object_index': 0,\n",
       "  'shape_name': 'circle',\n",
       "  'start': 0,\n",
       "  'arc': 6.283185307179586,\n",
       "  'coordinate_conversion': {},\n",
       "  'fcenter': {'x': 0, 'y': 0},\n",
       "  'sample_pixel': {'x': 60, 'y': 60}},\n",
       " {'x': 0,\n",
       "  'y': 0,\n",
       "  'text': 'Click me please',\n",
       "  'color': '#e3e',\n",
       "  'degrees': 45,\n",
       "  'align': 'center',\n",
       "  'font': '40pt Arial',\n",
       "  'name': 'text_6_1594329686023',\n",
       "  'background': '#9e9',\n",
       "  'valign': 'center',\n",
       "  'draw_on_canvas': {},\n",
       "  'pseudocolor_array': [128, 0, 0],\n",
       "  'pseudocolor': 'rgb(128,0,0)',\n",
       "  'change': {},\n",
       "  'forget': {},\n",
       "  'visible': {},\n",
       "  'on': {},\n",
       "  'off': {},\n",
       "  'transition': {},\n",
       "  'object_index': 1,\n",
       "  'shape_name': 'text',\n",
       "  'coordinate_conversion': {},\n",
       "  'draw_mask': {},\n",
       "  'sample_pixel': {'x': 60, 'y': 60}}]"
      ]
     },
     "execution_count": 17,
     "metadata": {},
     "output_type": "execute_result"
    }
   ],
   "source": [
    "widget.get_raw_draw_information()"
   ]
  },
  {
   "cell_type": "code",
   "execution_count": 18,
   "metadata": {},
   "outputs": [
    {
     "data": {
      "text/html": [
       "\n",
       "<svg viewBox=\"0 0 120 120\" xmlns=\"http://www.w3.org/2000/svg\">\n",
       "  <g transform=\"scale(0.3810469681293819 0.3810469681293819) translate(157.46090382125126 157.46090382125126)\">\n",
       "\t<circle cx=\"0\" cy=\"0.0\" r=\"100\" fill=\"#e99\" />\n",
       "\t<text fill=\"#e3e\" transform=\"rotate(-45, 0, 0.0)\" alignment-baseline=\"middle\" text-anchor=\"middle\" font-family=\"40pt Arial\" >Click me please</text>\n",
       "\t</g>\n",
       "</svg>\n"
      ],
      "text/plain": [
       "<IPython.core.display.HTML object>"
      ]
     },
     "metadata": {},
     "output_type": "display_data"
    }
   ],
   "source": [
    "from jp_doodle import svg_translation\n",
    "\n",
    "svg_translation.display_as_svg(widget)"
   ]
  }
 ],
 "metadata": {
  "kernelspec": {
   "display_name": "Python 3",
   "language": "python",
   "name": "python3"
  },
  "language_info": {
   "codemirror_mode": {
    "name": "ipython",
    "version": 3
   },
   "file_extension": ".py",
   "mimetype": "text/x-python",
   "name": "python",
   "nbconvert_exporter": "python",
   "pygments_lexer": "ipython3",
   "version": "3.7.0"
  }
 },
 "nbformat": 4,
 "nbformat_minor": 4
}
