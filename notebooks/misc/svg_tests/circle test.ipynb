{
 "cells": [
  {
   "cell_type": "code",
   "execution_count": 3,
   "metadata": {},
   "outputs": [
    {
     "data": {
      "application/vnd.jupyter.widget-view+json": {
       "model_id": "72384bfe3fc544f7a3dbbcba06aef9a4",
       "version_major": 2,
       "version_minor": 0
      },
      "text/plain": [
       "DualCanvasWidget(status='deferring flush until render')"
      ]
     },
     "metadata": {},
     "output_type": "display_data"
    }
   ],
   "source": [
    "# three circles going upwards from left to right\n",
    "\n",
    "from jp_doodle import dual_canvas, auto_capture\n",
    "from IPython.display import display\n",
    "\n",
    "demo = dual_canvas.DualCanvasWidget(width=320, height=220)\n",
    "\n",
    "colors = \"red blue green\".split()\n",
    "\n",
    "for i in range(3):\n",
    "    offset = i * 30\n",
    "    demo.circle(x=offset, y=offset, r=10, color=colors[i])\n",
    "    \n",
    "demo.fit()\n",
    "\n",
    "demo"
   ]
  },
  {
   "cell_type": "code",
   "execution_count": 4,
   "metadata": {},
   "outputs": [
    {
     "data": {
      "text/plain": [
       "[{'shape_name': 'canvas',\n",
       "  'width': 320,\n",
       "  'height': 220,\n",
       "  'lineWidth': 1,\n",
       "  'fillColor': 'black',\n",
       "  'strokeStyle': 'black',\n",
       "  'translate_scale': {'x': 29.345454545454547,\n",
       "   'y': 10.8,\n",
       "   'w': 2.696078431372549,\n",
       "   'h': 2.696078431372549,\n",
       "   'model_height': 81.6,\n",
       "   'model_intercept': 59.99999999999999},\n",
       "  'font': 'normal 10px Arial',\n",
       "  'y_up': True,\n",
       "  'style': 'border:1px solid #d3d3d3;'},\n",
       " {'x': 0,\n",
       "  'y': 0,\n",
       "  'r': 10,\n",
       "  'color': 'red',\n",
       "  'fill': True,\n",
       "  'draw_on_canvas': {},\n",
       "  'object_index': 0,\n",
       "  'shape_name': 'circle',\n",
       "  'start': 0,\n",
       "  'arc': 6.283185307179586,\n",
       "  'coordinate_conversion': {},\n",
       "  'fcenter': {'x': 0, 'y': 0},\n",
       "  'sample_pixel': {'x': 79, 'y': 29}},\n",
       " {'x': 30,\n",
       "  'y': 30,\n",
       "  'r': 10,\n",
       "  'color': 'blue',\n",
       "  'fill': True,\n",
       "  'draw_on_canvas': {},\n",
       "  'object_index': 1,\n",
       "  'shape_name': 'circle',\n",
       "  'start': 0,\n",
       "  'arc': 6.283185307179586,\n",
       "  'coordinate_conversion': {},\n",
       "  'fcenter': {'x': 30, 'y': 30},\n",
       "  'sample_pixel': {'x': 160, 'y': 110}},\n",
       " {'x': 60,\n",
       "  'y': 60,\n",
       "  'r': 10,\n",
       "  'color': 'green',\n",
       "  'fill': True,\n",
       "  'draw_on_canvas': {},\n",
       "  'object_index': 2,\n",
       "  'shape_name': 'circle',\n",
       "  'start': 0,\n",
       "  'arc': 6.283185307179586,\n",
       "  'coordinate_conversion': {},\n",
       "  'fcenter': {'x': 60, 'y': 60},\n",
       "  'sample_pixel': {'x': 241, 'y': 191}}]"
      ]
     },
     "execution_count": 4,
     "metadata": {},
     "output_type": "execute_result"
    }
   ],
   "source": [
    "demo.get_raw_draw_information()"
   ]
  },
  {
   "cell_type": "code",
   "execution_count": 5,
   "metadata": {},
   "outputs": [
    {
     "data": {
      "text/html": [
       "\n",
       "<svg viewBox=\"0 0 320 220\" xmlns=\"http://www.w3.org/2000/svg\">\n",
       "  <g transform=\"scale(2.696078431372549 2.696078431372549) translate(29.345454545454547 10.8)\">\n",
       "\t<circle cx=\"0\" cy=\"0\" r=\"10\" fill=\"red\" />\n",
       "\t<circle cx=\"30\" cy=\"30\" r=\"10\" fill=\"blue\" />\n",
       "\t<circle cx=\"60\" cy=\"60\" r=\"10\" fill=\"green\" />\n",
       "\t</g>\n",
       "</svg>\n"
      ],
      "text/plain": [
       "<IPython.core.display.HTML object>"
      ]
     },
     "metadata": {},
     "output_type": "display_data"
    }
   ],
   "source": [
    "from jp_doodle import svg_translation\n",
    "\n",
    "svg_translation.display_as_svg(demo)"
   ]
  },
  {
   "cell_type": "code",
   "execution_count": null,
   "metadata": {},
   "outputs": [],
   "source": []
  }
 ],
 "metadata": {
  "kernelspec": {
   "display_name": "Python 3",
   "language": "python",
   "name": "python3"
  },
  "language_info": {
   "codemirror_mode": {
    "name": "ipython",
    "version": 3
   },
   "file_extension": ".py",
   "mimetype": "text/x-python",
   "name": "python",
   "nbconvert_exporter": "python",
   "pygments_lexer": "ipython3",
   "version": "3.6.8"
  }
 },
 "nbformat": 4,
 "nbformat_minor": 4
}
