{
 "cells": [
  {
   "cell_type": "code",
   "execution_count": null,
   "metadata": {},
   "outputs": [],
   "source": [
    "from jp_doodle import dual_canvas\n",
    "from IPython.display import display\n",
    "import math"
   ]
  },
  {
   "cell_type": "code",
   "execution_count": null,
   "metadata": {},
   "outputs": [],
   "source": [
    "demo = dual_canvas.DualCanvasWidget(width=320, height=220)\n",
    "display(demo)\n",
    "\n",
    "demo.text(name= \"full\", x=-20, y=20, \n",
    "    text=\"Cookie\", font= \"40pt Arial\", valign=None, color=\"#ee3\", background=\"#9e9\")\n",
    "demo.text(name=\"rotated\", x=-30, y=-40, text=u\"UP\\u2192\", color=\"#7DD\",valign=None,\n",
    "    font=\"40pt Times\", degrees=92)\n",
    "demo.text(name=\"transparent\", x=20, y=-10, text=\"EYES ONLY\",\n",
    "    color=\"rgba(222,111,111,0.3)\", degrees=45, align=\"center\",valign=None,\n",
    "          background=\"rgba(0,0,0,0.05)\",\n",
    "    font=\"30pt Courier\")\n",
    "demo.text(name=\"left aligned\", text=u\"\\u2190EXIT\", x=20, y=-20, \n",
    "    degrees=-10, align=\"left\",valign=None, color=\"rgba(200,150,50,0.8)\",\n",
    "    font=\"20pt Arial\")\n",
    "\n",
    "# Fit the figure into the available space\n",
    "demo.fit(None, 10);"
   ]
  },
  {
   "cell_type": "code",
   "execution_count": null,
   "metadata": {
    "scrolled": false
   },
   "outputs": [],
   "source": [
    "# Note that the \"Cookie\" description has the dictionary 'background_rect': {...}\n",
    "#   This provides the geometry for the rectangle which should be drawn first behind the text \n",
    "#   with the same rotation and color from  attribute \"background\".\n",
    "\n",
    "demo.get_raw_draw_information()"
   ]
  },
  {
   "cell_type": "code",
   "execution_count": null,
   "metadata": {},
   "outputs": [],
   "source": [
    "from jp_doodle import svg_translation\n",
    "\n",
    "print (svg_translation.canvas_as_svg_text(demo))"
   ]
  },
  {
   "cell_type": "code",
   "execution_count": null,
   "metadata": {},
   "outputs": [],
   "source": [
    "svg_translation.display_as_svg(demo)"
   ]
  },
  {
   "cell_type": "code",
   "execution_count": null,
   "metadata": {},
   "outputs": [],
   "source": []
  }
 ],
 "metadata": {
  "kernelspec": {
   "display_name": "Python 3",
   "language": "python",
   "name": "python3"
  },
  "language_info": {
   "codemirror_mode": {
    "name": "ipython",
    "version": 3
   },
   "file_extension": ".py",
   "mimetype": "text/x-python",
   "name": "python",
   "nbconvert_exporter": "python",
   "pygments_lexer": "ipython3",
   "version": "3.6.8"
  }
 },
 "nbformat": 4,
 "nbformat_minor": 4
}
