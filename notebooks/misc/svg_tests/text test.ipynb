{
 "cells": [
  {
   "cell_type": "code",
   "execution_count": 1,
   "metadata": {},
   "outputs": [],
   "source": [
    "from jp_doodle import dual_canvas\n",
    "from IPython.display import display\n",
    "import math"
   ]
  },
  {
   "cell_type": "code",
   "execution_count": 2,
   "metadata": {},
   "outputs": [
    {
     "data": {
      "application/vnd.jupyter.widget-view+json": {
       "model_id": "57a68f4f29ae41d89206c78291eb7e10",
       "version_major": 2,
       "version_minor": 0
      },
      "text/plain": [
       "DualCanvasWidget(status='deferring flush until render')"
      ]
     },
     "metadata": {},
     "output_type": "display_data"
    }
   ],
   "source": [
    "demo = dual_canvas.DualCanvasWidget(width=320, height=220)\n",
    "display(demo)\n",
    "\n",
    "demo.text(name= \"full\", x=-20, y=20, \n",
    "    text=\"Cookie\", font= \"40pt Arial\", valign=None, color=\"#ee3\", background=\"#9e9\")\n",
    "demo.text(name=\"rotated\", x=-30, y=-40, text=u\"UP\\u2192\", color=\"#7DD\",valign=None,\n",
    "    font=\"40pt Times\", degrees=92)\n",
    "demo.text(name=\"transparent\", x=20, y=-10, text=\"EYES ONLY\",\n",
    "    color=\"rgba(222,111,111,0.3)\", degrees=45, align=\"center\",valign=None,\n",
    "          background=\"rgba(0,0,0,0.05)\",\n",
    "    font=\"30pt Courier\")\n",
    "demo.text(name=\"left aligned\", text=u\"\\u2190EXIT\", x=20, y=-20, \n",
    "    degrees=-10, align=\"left\",valign=None, color=\"rgba(200,150,50,0.8)\",\n",
    "    font=\"20pt Arial\")\n",
    "\n",
    "# Fit the figure into the available space\n",
    "demo.fit(None, 10);"
   ]
  },
  {
   "cell_type": "code",
   "execution_count": 4,
   "metadata": {},
   "outputs": [
    {
     "data": {
      "text/plain": [
       "[{'shape_name': 'canvas',\n",
       "  'width': 320,\n",
       "  'height': 220,\n",
       "  'lineWidth': 1,\n",
       "  'fillColor': 'black',\n",
       "  'strokeStyle': 'black',\n",
       "  'translate_scale': {'x': 138.00743880125165,\n",
       "   'y': 104.52715792401892,\n",
       "   'w': 1.030464735886522,\n",
       "   'h': 1.030464735886522,\n",
       "   'model_height': 213.4959036814891,\n",
       "   'model_intercept': 4.441587833451251},\n",
       "  'font': 'normal 10px Arial',\n",
       "  'y_up': True,\n",
       "  'style': 'border:1px solid #d3d3d3;'},\n",
       " {'x': -20,\n",
       "  'y': 20,\n",
       "  'text': 'Cookie',\n",
       "  'color': '#ee3',\n",
       "  'degrees': 0,\n",
       "  'align': 'left',\n",
       "  'font': '40pt Arial',\n",
       "  'name': 'full',\n",
       "  'valign': None,\n",
       "  'background': '#9e9',\n",
       "  'draw_on_canvas': {},\n",
       "  'pseudocolor_array': [128, 0, 0],\n",
       "  'pseudocolor': 'rgb(128,0,0)',\n",
       "  'change': {},\n",
       "  'forget': {},\n",
       "  'visible': {},\n",
       "  'on': {},\n",
       "  'off': {},\n",
       "  'transition': {},\n",
       "  'object_index': 0,\n",
       "  'shape_name': 'text',\n",
       "  'coordinate_conversion': {},\n",
       "  'draw_mask': {},\n",
       "  'sample_pixel': {'x': 207, 'y': 149}},\n",
       " {'x': -30,\n",
       "  'y': -40,\n",
       "  'text': 'UP→',\n",
       "  'color': '#7DD',\n",
       "  'degrees': 92,\n",
       "  'align': 'left',\n",
       "  'font': '40pt Times',\n",
       "  'name': 'rotated',\n",
       "  'valign': None,\n",
       "  'draw_on_canvas': {},\n",
       "  'pseudocolor_array': [0, 128, 0],\n",
       "  'pseudocolor': 'rgb(0,128,0)',\n",
       "  'change': {},\n",
       "  'forget': {},\n",
       "  'visible': {},\n",
       "  'on': {},\n",
       "  'off': {},\n",
       "  'transition': {},\n",
       "  'object_index': 1,\n",
       "  'shape_name': 'text',\n",
       "  'background': None,\n",
       "  'coordinate_conversion': {},\n",
       "  'draw_mask': {},\n",
       "  'sample_pixel': {'x': 79, 'y': 128}},\n",
       " {'x': 20,\n",
       "  'y': -10,\n",
       "  'text': 'EYES ONLY',\n",
       "  'color': 'rgba(222,111,111,0.3)',\n",
       "  'degrees': 45,\n",
       "  'align': 'center',\n",
       "  'font': '30pt Courier',\n",
       "  'name': 'transparent',\n",
       "  'valign': None,\n",
       "  'background': 'rgba(0,0,0,0.05)',\n",
       "  'draw_on_canvas': {},\n",
       "  'pseudocolor_array': [128, 128, 0],\n",
       "  'pseudocolor': 'rgb(128,128,0)',\n",
       "  'change': {},\n",
       "  'forget': {},\n",
       "  'visible': {},\n",
       "  'on': {},\n",
       "  'off': {},\n",
       "  'transition': {},\n",
       "  'object_index': 2,\n",
       "  'shape_name': 'text',\n",
       "  'coordinate_conversion': {},\n",
       "  'draw_mask': {},\n",
       "  'sample_pixel': {'x': 150, 'y': 110}},\n",
       " {'x': 20,\n",
       "  'y': -20,\n",
       "  'text': '←EXIT',\n",
       "  'color': 'rgba(200,150,50,0.8)',\n",
       "  'degrees': -10,\n",
       "  'align': 'left',\n",
       "  'font': '20pt Arial',\n",
       "  'name': 'left aligned',\n",
       "  'valign': None,\n",
       "  'draw_on_canvas': {},\n",
       "  'pseudocolor_array': [0, 0, 128],\n",
       "  'pseudocolor': 'rgb(0,0,128)',\n",
       "  'change': {},\n",
       "  'forget': {},\n",
       "  'visible': {},\n",
       "  'on': {},\n",
       "  'off': {},\n",
       "  'transition': {},\n",
       "  'object_index': 3,\n",
       "  'shape_name': 'text',\n",
       "  'background': None,\n",
       "  'coordinate_conversion': {},\n",
       "  'draw_mask': {},\n",
       "  'sample_pixel': {'x': 209, 'y': 92}}]"
      ]
     },
     "execution_count": 4,
     "metadata": {},
     "output_type": "execute_result"
    }
   ],
   "source": [
    "demo.get_raw_draw_information()"
   ]
  },
  {
   "cell_type": "code",
   "execution_count": 5,
   "metadata": {},
   "outputs": [
    {
     "data": {
      "text/html": [
       "\n",
       "<svg viewBox=\"0 0 320 220\" xmlns=\"http://www.w3.org/2000/svg\">\n",
       "  <g transform=\"scale(1.030464735886522 1.030464735886522) translate(138.00743880125165 104.52715792401892)\">\n",
       "\t<text fill=\"#ee3\" text-anchor=\"end\" font-size=\"40\" font-family=\"Arial\" >Cookie</text>\n",
       "\t<text fill=\"#7DD\" transform=\"rotate(-92, -30, 44.44158783345125)\" text-anchor=\"end\" font-size=\"40\" font-family=\"Times\" >UP→</text>\n",
       "\t<text fill=\"rgba(222,111,111,0.3)\" transform=\"rotate(-45, 20, 14.441587833451251)\" text-anchor=\"middle\" font-size=\"30\" font-family=\"Courier\" >EYES ONLY</text>\n",
       "\t<text fill=\"rgba(200,150,50,0.8)\" transform=\"rotate(10, 20, 24.44158783345125)\" text-anchor=\"end\" font-size=\"20\" font-family=\"Arial\" >←EXIT</text>\n",
       "\t</g>\n",
       "</svg>\n"
      ],
      "text/plain": [
       "<IPython.core.display.HTML object>"
      ]
     },
     "metadata": {},
     "output_type": "display_data"
    }
   ],
   "source": [
    "from jp_doodle import svg_translation\n",
    "\n",
    "svg_translation.display_as_svg(demo)"
   ]
  }
 ],
 "metadata": {
  "kernelspec": {
   "display_name": "Python 3",
   "language": "python",
   "name": "python3"
  },
  "language_info": {
   "codemirror_mode": {
    "name": "ipython",
    "version": 3
   },
   "file_extension": ".py",
   "mimetype": "text/x-python",
   "name": "python",
   "nbconvert_exporter": "python",
   "pygments_lexer": "ipython3",
   "version": "3.7.0"
  }
 },
 "nbformat": 4,
 "nbformat_minor": 4
}
