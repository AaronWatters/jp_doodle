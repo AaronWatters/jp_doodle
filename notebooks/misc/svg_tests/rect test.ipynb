{
 "cells": [
  {
   "cell_type": "code",
   "execution_count": 1,
   "metadata": {},
   "outputs": [],
   "source": [
    "from jp_doodle import dual_canvas, auto_capture\n",
    "from IPython.display import display\n",
    "import math"
   ]
  },
  {
   "cell_type": "code",
   "execution_count": 5,
   "metadata": {},
   "outputs": [
    {
     "data": {
      "application/vnd.jupyter.widget-view+json": {
       "model_id": "88250ecbd820440399d3a90c5cf52a03",
       "version_major": 2,
       "version_minor": 0
      },
      "text/plain": [
       "DualCanvasWidget(status='deferring flush until render')"
      ]
     },
     "metadata": {},
     "output_type": "display_data"
    }
   ],
   "source": [
    "demo = dual_canvas.DualCanvasWidget(width=320, height=220)\n",
    "display(demo)\n",
    "\n",
    "demo.rect(name=\"full\", x=0, y=0, w=50, h=30, color=\"green\")\n",
    "demo.rect(name=\"stroked rotated\", x=0, y=-20, w=40, h=90, color=\"#7DD\",\n",
    "    degrees=33, fill=False, lineWidth=5)\n",
    "demo.rect(name=\"stroked transparent\", x=-20, y=0, \n",
    "    w=100, h=40, color=\"rgba(2,22,222,0.5)\",\n",
    "    fill=False, lineWidth=10)\n",
    "demo.rect(name=\"negative rotated\", x=60, y=20, \n",
    "    degrees=-10, w=-30, h=-50, color=\"rgba(200,150,50,0.8)\")\n",
    "\n",
    "# Fit the figure into the available space\n",
    "demo.fit(None, 10);"
   ]
  },
  {
   "cell_type": "code",
   "execution_count": 3,
   "metadata": {},
   "outputs": [],
   "source": [
    "# demo.get_raw_draw_information()"
   ]
  },
  {
   "cell_type": "code",
   "execution_count": 6,
   "metadata": {},
   "outputs": [
    {
     "data": {
      "text/html": [
       "\n",
       "<svg viewBox=\"0 0 320 220\" xmlns=\"http://www.w3.org/2000/svg\">\n",
       "  <g transform=\"scale(1.7390438239897745 1.7390438239897745) translate(76.51333851480325 39.2403876506104)\">\n",
       "\t<rect width=\"50\" height=\"30\" stroke=\"green\" style=\"stroke-width:1\" fill=\"green\" x=\"0\" y=\"18.02552486507885\" />\n",
       "\t<rect width=\"40\" height=\"90\" stroke=\"#7DD\" style=\"stroke-width:5\" fill=\"transparent\" transform=\"rotate(-33, 0, 68.02552486507885)\" />\n",
       "\t<rect width=\"100\" height=\"40\" stroke=\"rgba(2,22,222,0.5)\" style=\"stroke-width:10\" fill=\"transparent\" x=\"-20\" y=\"8.02552486507885\" />\n",
       "\t<rect width=\"30\" height=\"50\" stroke=\"rgba(200,150,50,0.8)\" style=\"stroke-width:1\" fill=\"rgba(200,150,50,0.8)\" transform=\"rotate(10, 30, 78.02552486507885)\" />\n",
       "\t</g>\n",
       "</svg>\n"
      ],
      "text/plain": [
       "<IPython.core.display.HTML object>"
      ]
     },
     "metadata": {},
     "output_type": "display_data"
    }
   ],
   "source": [
    "from jp_doodle import svg_translation\n",
    "svg_translation.display_as_svg(demo)"
   ]
  },
  {
   "cell_type": "code",
   "execution_count": null,
   "metadata": {},
   "outputs": [],
   "source": []
  }
 ],
 "metadata": {
  "kernelspec": {
   "display_name": "Python 3",
   "language": "python",
   "name": "python3"
  },
  "language_info": {
   "codemirror_mode": {
    "name": "ipython",
    "version": 3
   },
   "file_extension": ".py",
   "mimetype": "text/x-python",
   "name": "python",
   "nbconvert_exporter": "python",
   "pygments_lexer": "ipython3",
   "version": "3.7.0"
  }
 },
 "nbformat": 4,
 "nbformat_minor": 4
}
