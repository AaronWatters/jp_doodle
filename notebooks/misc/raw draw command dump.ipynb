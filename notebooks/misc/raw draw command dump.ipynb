{
 "cells": [
  {
   "cell_type": "markdown",
   "metadata": {},
   "source": [
    "# This notebook demonstrates dumping draw state from a canvas"
   ]
  },
  {
   "cell_type": "code",
   "execution_count": 1,
   "metadata": {},
   "outputs": [
    {
     "data": {
      "application/vnd.jupyter.widget-view+json": {
       "model_id": "0ec9a77cfb6743f59126fea7b7128791",
       "version_major": 2,
       "version_minor": 0
      },
      "text/plain": [
       "DualCanvasWidget(status='deferring flush until render')"
      ]
     },
     "metadata": {},
     "output_type": "display_data"
    }
   ],
   "source": [
    "from jp_doodle import dual_canvas, auto_capture\n",
    "from IPython.display import display\n",
    "\n",
    "demo = dual_canvas.DualCanvasWidget(width=320, height=220)\n",
    "\n",
    "demo.circle(x=0, y=0, r=100, color=\"#e99\")\n",
    "txt = demo.text(x=0, y=0, text=\"Hello World\", degrees=45, name=True,\n",
    "           font= \"40pt Arial\", color=\"#ee3\", background=\"#9e9\", align=\"center\", valign=\"center\")\n",
    "demo.line(-100, 100, 100, -100, \"blue\")\n",
    "demo.polygon([[-10, -10], [10, -10], [-10, 10],] )\n",
    "demo.fit()\n",
    "display(demo)"
   ]
  },
  {
   "cell_type": "code",
   "execution_count": 2,
   "metadata": {},
   "outputs": [
    {
     "data": {
      "text/plain": [
       "[{'shape_name': 'canvas',\n",
       "  'width': 320,\n",
       "  'height': 220,\n",
       "  'lineWidth': 1,\n",
       "  'fillColor': 'black',\n",
       "  'strokeStyle': 'black',\n",
       "  'translate_scale': {'x': 175.495088110546,\n",
       "   'y': 120.65287307600036,\n",
       "   'w': 0.9117064284968165,\n",
       "   'h': 0.9117064284968165,\n",
       "   'model_height': 241.30574615200072,\n",
       "   'model_intercept': 0},\n",
       "  'font': 'normal 10px Arial',\n",
       "  'y_up': True,\n",
       "  'style': 'border:1px solid #d3d3d3;'},\n",
       " {'x': 0,\n",
       "  'y': 0,\n",
       "  'r': 100,\n",
       "  'color': '#e99',\n",
       "  'fill': True,\n",
       "  'draw_on_canvas': {},\n",
       "  'object_index': 0,\n",
       "  'shape_name': 'circle',\n",
       "  'start': 0,\n",
       "  'arc': 6.283185307179586,\n",
       "  'coordinate_conversion': {},\n",
       "  'fcenter': {'x': 0, 'y': 0},\n",
       "  'sample_pixel': {'x': 160, 'y': 110}},\n",
       " {'x': 0,\n",
       "  'y': 0,\n",
       "  'text': 'Hello World',\n",
       "  'color': '#ee3',\n",
       "  'degrees': 45,\n",
       "  'align': 'center',\n",
       "  'font': '40pt Arial',\n",
       "  'name': 'text_1_1594312499112',\n",
       "  'background': '#9e9',\n",
       "  'valign': 'center',\n",
       "  'draw_on_canvas': {},\n",
       "  'pseudocolor_array': [128, 0, 0],\n",
       "  'pseudocolor': 'rgb(128,0,0)',\n",
       "  'change': {},\n",
       "  'forget': {},\n",
       "  'visible': {},\n",
       "  'on': {},\n",
       "  'off': {},\n",
       "  'transition': {},\n",
       "  'object_index': 1,\n",
       "  'shape_name': 'text',\n",
       "  'coordinate_conversion': {},\n",
       "  'draw_mask': {},\n",
       "  'sample_pixel': {'x': 160, 'y': 110}},\n",
       " {'x1': -100,\n",
       "  'y1': 100,\n",
       "  'x2': 100,\n",
       "  'y2': -100,\n",
       "  'color': 'blue',\n",
       "  'draw_on_canvas': {},\n",
       "  'object_index': 2,\n",
       "  'shape_name': 'line',\n",
       "  'lineWidth': 1,\n",
       "  'coordinate_conversion': {},\n",
       "  'lineDash': None,\n",
       "  'sample_pixel': {'x': 69, 'y': 201}},\n",
       " {'points': [[-10, -10], [10, -10], [-10, 10]],\n",
       "  'color': 'black',\n",
       "  'close': True,\n",
       "  'fill': True,\n",
       "  'draw_on_canvas': {},\n",
       "  'object_index': 3,\n",
       "  'shape_name': 'polygon',\n",
       "  'coordinate_conversion': {},\n",
       "  'cx': 0,\n",
       "  'cy': 0,\n",
       "  'degrees': 0,\n",
       "  'get_vertices': {},\n",
       "  'sample_pixel': {'x': 151, 'y': 101}}]"
      ]
     },
     "execution_count": 2,
     "metadata": {},
     "output_type": "execute_result"
    }
   ],
   "source": [
    "demo.get_raw_draw_information()"
   ]
  },
  {
   "cell_type": "markdown",
   "metadata": {},
   "source": [
    "# Converting a draw canvas to an SVG snapshot"
   ]
  },
  {
   "cell_type": "code",
   "execution_count": 3,
   "metadata": {},
   "outputs": [],
   "source": [
    "from jp_doodle import svg_translation"
   ]
  },
  {
   "cell_type": "code",
   "execution_count": 4,
   "metadata": {},
   "outputs": [
    {
     "name": "stdout",
     "output_type": "stream",
     "text": [
      "SVG draw method not yet defined: 'line'\n",
      "SVG draw method not yet defined: 'polygon'\n",
      "\n",
      "<svg viewBox=\"0 0 320 220\" xmlns=\"http://www.w3.org/2000/svg\">\n",
      "  <g transform=\"scale(0.9117064284968165 0.9117064284968165) translate(175.495088110546 120.65287307600036)\">\n",
      "\t<circle cx=\"0\" cy=\"0\" r=\"100\" fill=\"#e99\" />\n",
      "\t<text fill=\"#ee3\" transform=\"rotate(-45, 0, 0)\" alignment-baseline=\"middle\" text-anchor=\"middle\" font-family=\"40pt Arial\" >Hello World</text>\n",
      "\t</g>\n",
      "</svg>\n",
      "\n"
     ]
    }
   ],
   "source": [
    "txt = svg_translation.canvas_as_svg_text(demo)\n",
    "print(txt)"
   ]
  },
  {
   "cell_type": "code",
   "execution_count": 5,
   "metadata": {},
   "outputs": [
    {
     "name": "stdout",
     "output_type": "stream",
     "text": [
      "SVG draw method not yet defined: 'line'\n",
      "SVG draw method not yet defined: 'polygon'\n"
     ]
    },
    {
     "data": {
      "text/html": [
       "\n",
       "<svg viewBox=\"0 0 320 220\" xmlns=\"http://www.w3.org/2000/svg\">\n",
       "  <g transform=\"scale(0.9117064284968165 0.9117064284968165) translate(175.495088110546 120.65287307600036)\">\n",
       "\t<circle cx=\"0\" cy=\"0\" r=\"100\" fill=\"#e99\" />\n",
       "\t<text fill=\"#ee3\" transform=\"rotate(-45, 0, 0)\" alignment-baseline=\"middle\" text-anchor=\"middle\" font-family=\"40pt Arial\" >Hello World</text>\n",
       "\t</g>\n",
       "</svg>\n"
      ],
      "text/plain": [
       "<IPython.core.display.HTML object>"
      ]
     },
     "metadata": {},
     "output_type": "display_data"
    }
   ],
   "source": [
    "svg_translation.display_as_svg(demo)"
   ]
  },
  {
   "cell_type": "code",
   "execution_count": null,
   "metadata": {},
   "outputs": [],
   "source": []
  }
 ],
 "metadata": {
  "kernelspec": {
   "display_name": "Python 3",
   "language": "python",
   "name": "python3"
  },
  "language_info": {
   "codemirror_mode": {
    "name": "ipython",
    "version": 3
   },
   "file_extension": ".py",
   "mimetype": "text/x-python",
   "name": "python",
   "nbconvert_exporter": "python",
   "pygments_lexer": "ipython3",
   "version": "3.6.8"
  }
 },
 "nbformat": 4,
 "nbformat_minor": 4
}
