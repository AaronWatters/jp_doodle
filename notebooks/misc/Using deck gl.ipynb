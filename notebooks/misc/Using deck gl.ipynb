{
 "cells": [
  {
   "cell_type": "markdown",
   "metadata": {},
   "source": [
    "# How to use proxy widgets to load and use deck.gl\n",
    "\n",
    "This notebook shows how to use\n",
    "<a href=\"https://github.com/AaronWatters/jp_proxy_widget/blob/master/notebooks/Tutorial.ipynb\">\n",
    "a proxy widget</a> to load a map component implemented using \n",
    "<a href=\"https://github.com/uber/deck.gl\">deck.gl</a>.\n",
    "\n",
    "The code is adopted from the deck.gl hello world standalone example.  It requires internet\n",
    "access and a mapbox access key to work properly.\n",
    "\n",
    "Unless you are running on my laptop ;c) \n",
    "you will need to provide a mapbox access token\n",
    "below in the third cell."
   ]
  },
  {
   "cell_type": "code",
   "execution_count": 4,
   "metadata": {
    "collapsed": true
   },
   "outputs": [],
   "source": [
    "import jp_proxy_widget\n",
    "from jp_doodle import doodle_files"
   ]
  },
  {
   "cell_type": "code",
   "execution_count": 5,
   "metadata": {
    "collapsed": false
   },
   "outputs": [],
   "source": [
    "widget = jp_proxy_widget.JSProxyWidget()\n",
    "\n",
    "# Load styles and javascript libraries.\n",
    "widget.load_css(\"https://api.tiles.mapbox.com/mapbox-gl-js/v0.44.1/mapbox-gl.css\")\n",
    "js1 = \"https://unpkg.com/deck.gl@~5.2.0/deckgl.min.js\"\n",
    "js2 = \"https://api.tiles.mapbox.com/mapbox-gl-js/v0.44.1/mapbox-gl.js\"\n",
    "widget.load_js_files([js1, js2]) #  -- requires token?"
   ]
  },
  {
   "cell_type": "code",
   "execution_count": null,
   "metadata": {
    "collapsed": true
   },
   "outputs": [],
   "source": [
    "# load the access token\n",
    "try:\n",
    "    access_token = open(\"../../../../misc/mapbox_access_token.txt\").read().strip()\n",
    "    print(\"Access token found in the file system.\")\n",
    "except:\n",
    "    print(\"PLEASE PROVIDE AN ACCESS TOKEN HERE.\")\n",
    "    access_token = \"<mapbox access token>\"\n",
    "\n",
    "text = \"Hi there!\"\n",
    "print(\"Creating a text layer with text: \" + repr(text))"
   ]
  },
  {
   "cell_type": "code",
   "execution_count": 7,
   "metadata": {
    "collapsed": false
   },
   "outputs": [
    {
     "data": {
      "application/vnd.jupyter.widget-view+json": {
       "model_id": "e634561b7c6b4454a44ae84e079f1052",
       "version_major": 2,
       "version_minor": 0
      },
      "text/html": [
       "<p>Failed to display Jupyter Widget of type <code>JSProxyWidget</code>.</p>\n",
       "<p>\n",
       "  If you're reading this message in Jupyter Notebook or JupyterLab, it may mean\n",
       "  that the widgets JavaScript is still loading. If this message persists, it\n",
       "  likely means that the widgets JavaScript library is either not installed or\n",
       "  not enabled. See the <a href=\"https://ipywidgets.readthedocs.io/en/stable/user_install.html\">Jupyter\n",
       "  Widgets Documentation</a> for setup instructions.\n",
       "</p>\n",
       "<p>\n",
       "  If you're reading this message in another notebook frontend (for example, a static\n",
       "  rendering on GitHub or <a href=\"https://nbviewer.jupyter.org/\">NBViewer</a>),\n",
       "  it may mean that your frontend doesn't currently support widgets.\n",
       "</p>\n"
      ],
      "text/plain": [
       "JSProxyWidget(status=u'Not yet rendered')"
      ]
     },
     "metadata": {},
     "output_type": "display_data"
    }
   ],
   "source": [
    "\n",
    "widget.js_init(\"\"\"\n",
    "element.empty();\n",
    "\n",
    "element.deckgl = new deck.DeckGL({\n",
    "    mapboxApiAccessToken: access_token,\n",
    "    container: element[0],\n",
    "    longitude: -122.45,\n",
    "    latitude: 37.8,\n",
    "    zoom: 12,\n",
    "    layers: [\n",
    "      new deck.ScatterplotLayer({\n",
    "        data: [\n",
    "          {position: [-122.45, 37.8], color: [255, 0, 0], radius: 1000}\n",
    "        ]\n",
    "      }),\n",
    "      new deck.TextLayer({\n",
    "        data: [\n",
    "          {position: [-122.45, 37.8], text: text}\n",
    "        ]\n",
    "      })\n",
    "    ]\n",
    "  });\n",
    "  \n",
    "element.height(300);\n",
    "\"\"\", text=text, access_token=access_token)\n",
    "\n",
    "widget"
   ]
  },
  {
   "cell_type": "markdown",
   "metadata": {},
   "source": [
    "If it worked you should see something like this screenshot:\n",
    "\n",
    "<img src=\"deck.png\" width=\"800\">"
   ]
  },
  {
   "cell_type": "code",
   "execution_count": null,
   "metadata": {
    "collapsed": true
   },
   "outputs": [],
   "source": []
  }
 ],
 "metadata": {
  "kernelspec": {
   "display_name": "Python 2",
   "language": "python",
   "name": "python2"
  },
  "language_info": {
   "codemirror_mode": {
    "name": "ipython",
    "version": 2
   },
   "file_extension": ".py",
   "mimetype": "text/x-python",
   "name": "python",
   "nbconvert_exporter": "python",
   "pygments_lexer": "ipython2",
   "version": "2.7.13"
  }
 },
 "nbformat": 4,
 "nbformat_minor": 2
}
