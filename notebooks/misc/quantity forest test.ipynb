{
 "cells": [
  {
   "cell_type": "code",
   "execution_count": null,
   "metadata": {
    "collapsed": false,
    "deletable": true,
    "editable": true
   },
   "outputs": [],
   "source": [
    "from jp_doodle import doodle_files\n",
    "qf_js = doodle_files.vendor_path(\"js/quantity_forest.js\")\n",
    "from jp_doodle import dual_canvas\n",
    "import jp_proxy_widget"
   ]
  },
  {
   "cell_type": "code",
   "execution_count": null,
   "metadata": {
    "collapsed": false,
    "deletable": true,
    "editable": true
   },
   "outputs": [],
   "source": [
    "w = jp_proxy_widget.JSProxyWidget()\n",
    "w.load_js_files([qf_js])\n",
    "dual_canvas.load_requirements(w)\n",
    "w.js_init(\"\"\"\n",
    "element.quantity_forest.example(element);\n",
    "\"\"\")\n",
    "w.debugging_display()"
   ]
  },
  {
   "cell_type": "code",
   "execution_count": null,
   "metadata": {
    "collapsed": false,
    "deletable": true,
    "editable": true
   },
   "outputs": [],
   "source": [
    "from jp_doodle import quantity_forest"
   ]
  },
  {
   "cell_type": "code",
   "execution_count": null,
   "metadata": {
    "collapsed": false,
    "deletable": true,
    "editable": true
   },
   "outputs": [],
   "source": [
    "c = dual_canvas.DualCanvasWidget(width=800)\n",
    "F = quantity_forest.FileSystemExplorer(c, \"~/repos\", degrees=45, background=\"#ddf\")\n",
    "#print F.directory_usage(\"../../..\")"
   ]
  },
  {
   "cell_type": "code",
   "execution_count": null,
   "metadata": {
    "collapsed": false,
    "deletable": true,
    "editable": true
   },
   "outputs": [],
   "source": [
    "c.debugging_display()"
   ]
  },
  {
   "cell_type": "code",
   "execution_count": null,
   "metadata": {
    "collapsed": false,
    "deletable": true,
    "editable": true
   },
   "outputs": [],
   "source": [
    "c2 = dual_canvas.DualCanvasWidget(width=800, height=800)\n",
    "F2 = quantity_forest.FileSystemExplorer(\n",
    "    c2, \"~/repos\", \n",
    "    enable_deletions=True, horizontal=True, \n",
    "    font=\"normal 20px Arial\", dy=200, dh=50, degrees=-2, \n",
    "    background=\"rgb(249,255,240)\", opacity=1.0, clearHeight=800)\n",
    "c2.debugging_display()"
   ]
  },
  {
   "cell_type": "code",
   "execution_count": null,
   "metadata": {
    "collapsed": false,
    "deletable": true,
    "editable": true
   },
   "outputs": [],
   "source": [
    "import yaml"
   ]
  },
  {
   "cell_type": "code",
   "execution_count": null,
   "metadata": {
    "collapsed": false,
    "deletable": true,
    "editable": true
   },
   "outputs": [],
   "source": [
    "yaml"
   ]
  },
  {
   "cell_type": "code",
   "execution_count": null,
   "metadata": {
    "collapsed": true,
    "deletable": true,
    "editable": true
   },
   "outputs": [],
   "source": []
  }
 ],
 "metadata": {
  "kernelspec": {
   "display_name": "Python 2",
   "language": "python",
   "name": "python2"
  },
  "language_info": {
   "codemirror_mode": {
    "name": "ipython",
    "version": 2
   },
   "file_extension": ".py",
   "mimetype": "text/x-python",
   "name": "python",
   "nbconvert_exporter": "python",
   "pygments_lexer": "ipython2",
   "version": "2.7.13"
  }
 },
 "nbformat": 4,
 "nbformat_minor": 2
}
