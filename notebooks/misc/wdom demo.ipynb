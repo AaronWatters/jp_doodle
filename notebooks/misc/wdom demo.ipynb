{
 "cells": [
  {
   "cell_type": "markdown",
   "metadata": {},
   "source": [
    "<img src=\"wdom.png\" width=\"500\">\n",
    "\n",
    "# wdom demo\n",
    "\n",
    "This notebook is a demonstration of how to use `jp_doodle.wdom` to construct\n",
    "HTML fragments embedded in a Jupyter notebook and how to attach events to those\n",
    "elements.\n",
    "\n",
    "The `jp_doodle.wdom` package is inspired by \n",
    "<a href=\"https://github.com/nteract/vdom\">https://github.com/nteract/vdom</a>"
   ]
  },
  {
   "cell_type": "code",
   "execution_count": null,
   "metadata": {},
   "outputs": [],
   "source": [
    "from jp_doodle import wdom\n",
    "from jp_doodle.wdom import h1, p, img, div, b, WDOM"
   ]
  },
  {
   "cell_type": "code",
   "execution_count": null,
   "metadata": {},
   "outputs": [],
   "source": [
    "x = WDOM(\n",
    "    div(\n",
    "        h1('Our Incredibly Declarative Example'),\n",
    "        p('Can you believe we wrote this ', b('in Python'), '?'),\n",
    "        img(src=\"https://media.giphy.com/media/xUPGcguWZHRC2HyBRS/giphy.gif\"),\n",
    "        p('What will ', b('you'), ' create next?'),\n",
    "    ))\n",
    "x"
   ]
  },
  {
   "cell_type": "code",
   "execution_count": null,
   "metadata": {},
   "outputs": [],
   "source": [
    "image = img(src=\"https://media.giphy.com/media/xUPGcguWZHRC2HyBRS/giphy.gif\")\n",
    "other_src = \"https://media.giphy.com/media/xT9Igjn6wv0kWFRm48/giphy.gif\"\n",
    "with_event = WDOM(\n",
    "    div(\n",
    "        h1('Click the image to change the source.'),\n",
    "        image,\n",
    "        p('Please.'),\n",
    "    ))\n",
    "def on_click(*ignored):\n",
    "    image.element.attr(\"src\", other_src)\n",
    "image.element.on(\"click\", on_click)\n",
    "with_event"
   ]
  },
  {
   "cell_type": "code",
   "execution_count": null,
   "metadata": {},
   "outputs": [],
   "source": []
  }
 ],
 "metadata": {
  "kernelspec": {
   "display_name": "Python 3",
   "language": "python",
   "name": "python3"
  },
  "language_info": {
   "codemirror_mode": {
    "name": "ipython",
    "version": 3
   },
   "file_extension": ".py",
   "mimetype": "text/x-python",
   "name": "python",
   "nbconvert_exporter": "python",
   "pygments_lexer": "ipython3",
   "version": "3.7.0"
  }
 },
 "nbformat": 4,
 "nbformat_minor": 2
}
