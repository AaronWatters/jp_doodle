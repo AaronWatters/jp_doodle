{
 "cells": [
  {
   "cell_type": "markdown",
   "metadata": {},
   "source": [
    "# Creating directed network displays\n",
    "\n",
    "The `jp_doodle.directed_network` module provides a Jupyter\n",
    "widget interface to the interactive network explorer implemented\n",
    "in `directed_network.js.`\n",
    "\n",
    "The networks may be constructed from a JSON package or programmatically\n",
    "and the edges and nodes of the network can use default configurations\n",
    "or may be configured individually.\n",
    "\n",
    "The network below is constructed programmatically and some of the\n",
    "edge configurations are specified for the edges individually."
   ]
  },
  {
   "cell_type": "code",
   "execution_count": 1,
   "metadata": {},
   "outputs": [],
   "source": [
    "from jp_doodle import directed_network"
   ]
  },
  {
   "cell_type": "code",
   "execution_count": 9,
   "metadata": {},
   "outputs": [
    {
     "data": {
      "text/html": [
       "<style>.container { width:100% !important; }</style>"
      ],
      "text/plain": [
       "<IPython.core.display.HTML object>"
      ]
     },
     "metadata": {},
     "output_type": "display_data"
    },
    {
     "data": {
      "application/vnd.jupyter.widget-view+json": {
       "model_id": "7bb3d374a8cb49d18c0a0bbd6e907dc4",
       "version_major": 2,
       "version_minor": 0
      },
      "text/plain": [
       "Network_Widget(status='Not yet rendered')"
      ]
     },
     "metadata": {},
     "output_type": "display_data"
    }
   ],
   "source": [
    "\n",
    "DG = directed_network.graph(\n",
    "        min_color=\"red\",\n",
    "        min_threshold_color=\"yellow\",\n",
    "        max_threshold_color=\"cyan\",\n",
    "        max_color=\"blue\",\n",
    "        default_layout=\"relax\",  # or \"grid\" or \"skeleton\"\n",
    "        separator_radius=6,\n",
    "        link_radius=1,\n",
    "        min_change=1,\n",
    "        undo_limit=10,\n",
    "        font=\"normal 14px Arial\",  # default node font\n",
    "        color=\"#fa7\", # default node color\n",
    "        background=\"#259\",  # default node background\n",
    "        src_font=None,  # override src font\n",
    "        src_color=None, # override src colot\n",
    "        src_background=None, # override src background\n",
    "        )\n",
    "# special configuration for some nodes:\n",
    "for i in range(5, 10):\n",
    "    DG.node(i, color=\"white\", background=\"#a00\", font=\"bold 20px Arial\")\n",
    "for i in range(15):\n",
    "    # edges with source, destination, and other configurations\n",
    "    DG.edge(i, i+1, 2, color=\"green\")\n",
    "    DG.edge(i+1, i, -2, color=\"black\")\n",
    "    DG.edge(i, -1, -0.5, lineDash=[1,1,2], lineWidth=3)\n",
    "DG.display_all()\n",
    "DG"
   ]
  },
  {
   "cell_type": "markdown",
   "metadata": {},
   "source": [
    "The widget allows the user to\n",
    "\n",
    "<dl>\n",
    "<li> drag nodes of the network to new positions with the mouse,\n",
    "<li> adjust the display size,\n",
    "<li> find a subset of the network of interest,\n",
    "<li> focus on lassoed elements or remove lassoed elements,\n",
    "<li> reset the layout for the nodes of the network,\n",
    "<li> display visible node and edges as text.\n",
    "<li> specify a region of \"too small\" edge weights to exclude from view,\n",
    "<li> select nodes to display by matching names or \"glob\" patterns for names.\n",
    "</dl>\n",
    "\n",
    "\n",
    "# Setting defaults\n",
    "\n",
    "The following widget is also constructed programmatically but only uses\n",
    "default configurations for nodes and edges."
   ]
  },
  {
   "cell_type": "code",
   "execution_count": 3,
   "metadata": {},
   "outputs": [
    {
     "data": {
      "text/html": [
       "<style>.container { width:100% !important; }</style>"
      ],
      "text/plain": [
       "<IPython.core.display.HTML object>"
      ]
     },
     "metadata": {},
     "output_type": "display_data"
    },
    {
     "data": {
      "application/vnd.jupyter.widget-view+json": {
       "model_id": "e1b9e4fceea84f07a40b66151dfbd5ed",
       "version_major": 2,
       "version_minor": 0
      },
      "text/plain": [
       "Network_Widget(status='Not yet rendered')"
      ]
     },
     "metadata": {},
     "output_type": "display_data"
    }
   ],
   "source": [
    "DG = directed_network.graph(\n",
    "        default_layout=\"relax\",  # or \"grid\" or \"skeleton\"\n",
    "        lineWidth=4,\n",
    "        font=\"normal 12px Arial\",  # default node font\n",
    "        color=\"#fa7\", # default node color\n",
    "        shape=\"circle\",  # default node shape\n",
    "        radius=5,\n",
    "        src_shape=\"text\",\n",
    "        src_font=\"bold 14px Arial\",  # override src font\n",
    "        src_color=\"#eee\", # override src color\n",
    "        src_background=\"#111\", # override src background\n",
    "        )\n",
    "for i in range(15):\n",
    "    DG.edge(i, i+1, i*0.1 + 1)\n",
    "    DG.edge(i, i-2, -0.5 - i*0.2)\n",
    "    DG.edge(i, i+15, -1)\n",
    "DG.display_all()\n",
    "DG"
   ]
  },
  {
   "cell_type": "code",
   "execution_count": null,
   "metadata": {},
   "outputs": [],
   "source": []
  }
 ],
 "metadata": {
  "kernelspec": {
   "display_name": "Python 3",
   "language": "python",
   "name": "python3"
  },
  "language_info": {
   "codemirror_mode": {
    "name": "ipython",
    "version": 3
   },
   "file_extension": ".py",
   "mimetype": "text/x-python",
   "name": "python",
   "nbconvert_exporter": "python",
   "pygments_lexer": "ipython3",
   "version": "3.6.8"
  }
 },
 "nbformat": 4,
 "nbformat_minor": 2
}
