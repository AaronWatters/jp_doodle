{
 "cells": [
  {
   "cell_type": "markdown",
   "metadata": {},
   "source": [
    "# How to use `dialogExtend` with jp_proxy_widgets\n",
    "\n",
    "The `dialogExtend` `jQueryUI` plugin extends the dialog component with various features\n",
    "such as maximization, minimization, and so forth.  Below is a screen shot of an extended dialog\n",
    "\n",
    "<img src=\"dialogextend.png\" width=\"600\"/>\n",
    "\n",
    "The code for the plugin is designed to be loaded using the `require` module loader.\n",
    "The following demo shows how to load and use the module using jp_proxy_widgets.\n",
    "\n",
    "A quick demo:"
   ]
  },
  {
   "cell_type": "code",
   "execution_count": null,
   "metadata": {},
   "outputs": [],
   "source": [
    "import jp_proxy_widget\n",
    "cdn_url = \"https://cdn.jsdelivr.net/npm/binary-com-jquery-dialogextended@1.0.0/jquery.dialogextend.js\"\n",
    "module_id = \"dialogExtend\"\n",
    "\n",
    "# Load the module using a widget (any widget -- the module loads to the global jQuery object).\n",
    "loader = jp_proxy_widget.JSProxyWidget()\n",
    "\n",
    "# Configure the module to be loaded.\n",
    "loader.require_js(module_id, cdn_url)\n",
    "\n",
    "# Load the module\n",
    "loader.js_init(\"\"\"\n",
    "    element.requirejs([module_identifier], function(module_value) {\n",
    "        element.html(\"loaded \" + module_identifier + \" : \" + module_value);\n",
    "    });\n",
    "\"\"\", module_identifier=module_id)\n",
    "loader"
   ]
  },
  {
   "cell_type": "code",
   "execution_count": null,
   "metadata": {},
   "outputs": [],
   "source": [
    "widget = jp_proxy_widget.JSProxyWidget()\n",
    "#widget.element.html(\"Hello world\")\n",
    "\n",
    "# xxxx I'm not sure why this didn't work...\n",
    "#widget.element.dialog({ \"title\" : \"Your Title\" }).dialogExtend({\n",
    "#        \"maximizable\" : True,\n",
    "#        \"dblclick\" : \"maximize\",\n",
    "#        \"icons\" : { \"maximize\" : \"ui-icon-arrow-4-diag\" },\n",
    "#\t})\n",
    "\n",
    "widget.js_init(\"\"\"\n",
    "// but the Javascript equivalent works.\n",
    "element.html(\"Hello world\")\n",
    "element.dialog({ \"title\" : \"Your Title\" }).dialogExtend({\n",
    "        \"maximizable\" : true,\n",
    "        \"dblclick\" : \"maximize\",\n",
    "        \"icons\" : { \"maximize\" : \"ui-icon-arrow-4-diag\" },\n",
    "\t});\n",
    "\"\"\")\n",
    "widget"
   ]
  },
  {
   "cell_type": "code",
   "execution_count": null,
   "metadata": {},
   "outputs": [],
   "source": []
  }
 ],
 "metadata": {
  "kernelspec": {
   "display_name": "Python 3",
   "language": "python",
   "name": "python3"
  },
  "language_info": {
   "codemirror_mode": {
    "name": "ipython",
    "version": 3
   },
   "file_extension": ".py",
   "mimetype": "text/x-python",
   "name": "python",
   "nbconvert_exporter": "python",
   "pygments_lexer": "ipython3",
   "version": "3.6.8"
  }
 },
 "nbformat": 4,
 "nbformat_minor": 4
}
