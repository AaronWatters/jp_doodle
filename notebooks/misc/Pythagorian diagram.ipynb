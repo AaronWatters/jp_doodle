{
 "cells": [
  {
   "cell_type": "markdown",
   "metadata": {},
   "source": [
    "# Proving the Pythagorian theorem using a diagram\n",
    "\n",
    "This is my favorite proof of the Pythagorean theorem, proved with the aid of a jp_doodle diagram.\n",
    "\n",
    "We want to make something like this, but neater:\n",
    "\n",
    "\n",
    "<img src=\"pythagorean_diagram.jpg\">"
   ]
  },
  {
   "cell_type": "code",
   "execution_count": 1,
   "metadata": {},
   "outputs": [],
   "source": [
    "# some constants\n",
    "\n",
    "theta_char = \"𝜃\"\n",
    "phi_char = \"ϕ\"\n",
    "t90_degrees = \"90°\"\n",
    "a = 3.0\n",
    "b = 4.0\n",
    "side = a + b"
   ]
  },
  {
   "cell_type": "code",
   "execution_count": 2,
   "metadata": {},
   "outputs": [],
   "source": [
    "# The diagram\n",
    "from jp_doodle.dual_canvas import swatch"
   ]
  },
  {
   "cell_type": "code",
   "execution_count": 15,
   "metadata": {},
   "outputs": [
    {
     "data": {
      "application/vnd.jupyter.widget-view+json": {
       "model_id": "05ffa89e2e3841438b406d9954ae8983",
       "version_major": 2,
       "version_minor": 0
      },
      "text/plain": [
       "DualCanvasWidget(status='deferring flush until render')"
      ]
     },
     "metadata": {},
     "output_type": "display_data"
    }
   ],
   "source": [
    "halfside = side/2\n",
    "\n",
    "# Here the model height is big in order to make the text larger.\n",
    "diagram = swatch(pixels=500, model_height=side * 2)\n",
    "\n",
    "# Draw big pink square with black outline\n",
    "diagram.frame_rect(0, 0, side, side, color=\"pink\")\n",
    "diagram.frame_rect(0, 0, side, side, fill=False)\n",
    "\n",
    "# Draw small triangles inside the square\n",
    "diagram.polygon([[0,0], [0,a], (b,0)], color=\"lightblue\")\n",
    "diagram.polygon([(b,0), (side,0), (side, b)], color=\"lightblue\")\n",
    "diagram.polygon([(side,b),(side,side), (a,side)], color=\"lightblue\")\n",
    "diagram.polygon([(b,0), (side,0), (side, b)], color=\"lightblue\")\n",
    "diagram.polygon([(a,side), (0,side), (0,a)], color=\"lightblue\")\n",
    "\n",
    "# [label some reference points useful during development (disabled now)]\n",
    "if 0:\n",
    "    D = dict(O=0, a=a, b=b, side=side)\n",
    "    for (xname, x) in D.items():\n",
    "        for (yname, y) in D.items():\n",
    "            label = \". \" + xname + \",\" + yname\n",
    "            diagram.text(x, y, label)\n",
    "            \n",
    "# draw little square 90 degree markers\n",
    "diagram.rect(0, 0, 10, 10, fill=False)\n",
    "diagram.rect(0, side, 10, -10, fill=False)\n",
    "diagram.rect(side, side, -10, -10, fill=False)\n",
    "diagram.rect(side, 0, -10, 10, fill=False)\n",
    "    \n",
    "# angle notations\n",
    "diagram.text(side * 0.6, side * 0.92, phi_char)\n",
    "diagram.text(side * 0.94, side * 0.4, phi_char)\n",
    "diagram.text(side * 0.94, b * 1.15, theta_char)\n",
    "diagram.text(side * 0.65, side * 0.04, theta_char)\n",
    "diagram.text(side * 0.9, b, t90_degrees, valign=\"center\")\n",
    "\n",
    "# length markings on right and bottom of big square\n",
    "diagram.text(b * 0.5, 0, \"B\", valign=\"top\", align=\"center\")\n",
    "diagram.text(b + 0.5 * a, 0, \"A\", valign=\"top\", align=\"center\")\n",
    "diagram.text(side, 0.5 * b, \" B\", valign=\"center\")\n",
    "diagram.text(side, b + 0.5 * a, \" A\", valign=\"center\")\n",
    "# c is a bit tricky\n",
    "cx = 0.5 * (a + side) - 0.02 * side\n",
    "cy = 0.5 * (side + b) - 0.02 * side\n",
    "diagram.text(cx, cy, \"C\", align=\"center\", valign=\"center\")\n",
    "cx = 0.5 * (b + side) - 0.03 * side\n",
    "cy = 0.5 * b + 0.03 * side\n",
    "diagram.text(cx, cy, \"C\", align=\"center\", valign=\"center\")\n",
    "\n",
    "# tick marks separating \"a\" and \"b\"\n",
    "diagram.rect(b, 0, 1, -10)\n",
    "diagram.rect(side, b, 10, 1)\n",
    "diagram.fit()"
   ]
  },
  {
   "cell_type": "code",
   "execution_count": 16,
   "metadata": {},
   "outputs": [
    {
     "data": {
      "text/html": [
       "<img src=\"Pythagorean_doodle.png\"/>"
      ],
      "text/plain": [
       "<IPython.core.display.HTML object>"
      ]
     },
     "metadata": {},
     "output_type": "display_data"
    }
   ],
   "source": [
    "# Hide the \"live\" widget and show an image generated from the widget instead\n",
    "from jp_doodle.auto_capture import embed_hidden\n",
    "\n",
    "with embed_hidden(diagram.from_widget, \"Pythagorean_doodle.png\"):\n",
    "     pass"
   ]
  },
  {
   "cell_type": "markdown",
   "metadata": {},
   "source": [
    "### Proof:\n",
    "\n",
    "By similar triangles we have the pink polygon is a square with area $C^2$.\n",
    "\n",
    "\n",
    "The big square has sides of length $A + B$ so the area of the big square can be expressed\n",
    "\n",
    "$$\n",
    "(A + B)^2 = A^2 + 2AB + B^2\n",
    "$$\n",
    "\n",
    "The area of the big square is also the area of the little square $C^2$ plus the area of the 4 similar blue triangles, each  with area\n",
    "$AB/2$.  So we can write\n",
    "$$\n",
    "A^2 + 2AB + B^2 = \n",
    "C^2 + 4(AB/2) = \n",
    "C^2 + 2AB\n",
    "$$\n",
    "Cancelling the $2AB$ in the equation gives\n",
    "$$\n",
    "A^2 + B^2 = C^2\n",
    "$$\n",
    "which is the Pythagorean theorem. ∎"
   ]
  },
  {
   "cell_type": "code",
   "execution_count": null,
   "metadata": {},
   "outputs": [],
   "source": []
  },
  {
   "cell_type": "code",
   "execution_count": null,
   "metadata": {},
   "outputs": [],
   "source": []
  },
  {
   "cell_type": "code",
   "execution_count": null,
   "metadata": {},
   "outputs": [],
   "source": []
  }
 ],
 "metadata": {
  "kernelspec": {
   "display_name": "Python 3",
   "language": "python",
   "name": "python3"
  },
  "language_info": {
   "codemirror_mode": {
    "name": "ipython",
    "version": 3
   },
   "file_extension": ".py",
   "mimetype": "text/x-python",
   "name": "python",
   "nbconvert_exporter": "python",
   "pygments_lexer": "ipython3",
   "version": "3.6.8"
  }
 },
 "nbformat": 4,
 "nbformat_minor": 4
}
