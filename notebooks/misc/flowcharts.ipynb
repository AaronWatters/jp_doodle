{
 "cells": [
  {
   "cell_type": "markdown",
   "metadata": {},
   "source": [
    "# Flow chart demo\n",
    "\n",
    "This is a demo of using <a href=\"https://github.com/adrai/flowchart.js\">https://github.com/adrai/flowchart.js</a>\n",
    "to make flowcharts in a jupyter notebook, using proxy widgets.\n",
    "\n",
    "The demo was contributed by <a href=\"https://github.com/psychemedia\">https://github.com/psychemedia</a>.\n",
    "\n",
    "Thanks!\n",
    "\n",
    "<img src=\"flowchart.png\" width=\"400\"/>"
   ]
  },
  {
   "cell_type": "code",
   "execution_count": 1,
   "metadata": {},
   "outputs": [
    {
     "data": {
      "application/vnd.jupyter.widget-view+json": {
       "model_id": "7489842274fb48a3bff21f63ae2e6fcf",
       "version_major": 2,
       "version_minor": 0
      },
      "text/plain": [
       "FlowchartWidget(status='Not yet rendered')"
      ]
     },
     "metadata": {},
     "output_type": "display_data"
    }
   ],
   "source": [
    "import jp_proxy_widget\n",
    "\n",
    "fcode = '''\n",
    "st=>start: Start|past:>http://www.google.com[blank]\n",
    "e=>end: End|future:>http://www.google.com\n",
    "op1=>operation: My Operation|past\n",
    "op2=>operation: Stuff|current\n",
    "sub1=>subroutine: My Subroutine|invalid\n",
    "cond=>condition: Yes\n",
    "or No?|approved:>http://www.google.com\n",
    "c2=>condition: Good idea|rejected\n",
    "io=>inputoutput: catch something...|future\n",
    "\n",
    "st->op1(right)->cond\n",
    "cond(yes, right)->c2\n",
    "cond(no)->sub1(left)->op1\n",
    "c2(yes)->io->e\n",
    "c2(no)->op2->e\n",
    "'''\n",
    "\n",
    "class FlowchartWidget(jp_proxy_widget.JSProxyWidget):\n",
    "    def __init__(self, *pargs, **kwargs):\n",
    "        super(FlowchartWidget, self).__init__(*pargs, **kwargs)\n",
    "        e = self.element\n",
    "        \n",
    "        # Call some standard jQuery method on the widget element:\n",
    "        e.empty()\n",
    "        # This is for the controls as well as the simulator\n",
    "        e.width(\"1000\") # 1181px 2362\n",
    "        e.height(\"1000\") # 551px 1143\n",
    "        html = '<div id=\"fchart_canvas\"></div>'\n",
    "        e.html(html)\n",
    "        self.load_js_files([\"https://cdnjs.cloudflare.com/ajax/libs/raphael/2.3.0/raphael.min.js\",\n",
    "                            'https://cdnjs.cloudflare.com/ajax/libs/flowchart/1.13.0/flowchart.js'])\n",
    "        \n",
    "    def charter(self, chart):\n",
    "        self.set_element(\"chartdef\", chart)\n",
    "        self.js_init(\"chart = flowchart.parse(element.chartdef); chart.drawSVG('fchart_canvas');\")\n",
    "        \n",
    "testEmbed = FlowchartWidget()\n",
    "testEmbed.charter(fcode)\n",
    "testEmbed"
   ]
  },
  {
   "cell_type": "code",
   "execution_count": null,
   "metadata": {},
   "outputs": [],
   "source": []
  }
 ],
 "metadata": {
  "kernelspec": {
   "display_name": "Python 3",
   "language": "python",
   "name": "python3"
  },
  "language_info": {
   "codemirror_mode": {
    "name": "ipython",
    "version": 3
   },
   "file_extension": ".py",
   "mimetype": "text/x-python",
   "name": "python",
   "nbconvert_exporter": "python",
   "pygments_lexer": "ipython3",
   "version": "3.6.8"
  }
 },
 "nbformat": 4,
 "nbformat_minor": 4
}
