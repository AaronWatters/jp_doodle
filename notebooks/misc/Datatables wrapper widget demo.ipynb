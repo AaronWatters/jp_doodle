{
 "cells": [
  {
   "cell_type": "markdown",
   "metadata": {},
   "source": [
    "<img src=\"datatable.png\" width=\"600\">\n",
    "\n",
    "# Data tables demonstration\n",
    "\n",
    "This notebook demonstrates the use of the `DataTables` wrapper\n",
    "provided by `jp_doodle`."
   ]
  },
  {
   "cell_type": "code",
   "execution_count": null,
   "metadata": {},
   "outputs": [],
   "source": [
    "from jp_doodle import data_tables\n",
    "data_tables.widen_notebook()\n",
    "\n",
    "# Get process information using psutil\n",
    "import psutil\n",
    "\n",
    "atts = (\"uids.real pid ppid num_fds cpu_percent num_threads name exe \" +\n",
    "        \"memory_info.rss memory_info.vms memory_info.pfaults memory_info.pageins \"\n",
    "        \"memory_percent\"\n",
    "       ).split()\n",
    "\n",
    "def process_data_line(process_object, atts=atts):\n",
    "    try:\n",
    "        d = process_object.as_dict()\n",
    "    except:\n",
    "        print (\"exception converting\", process_object)\n",
    "    L = []\n",
    "    for a in atts:\n",
    "        #print(\"getting \" + a)\n",
    "        v = \"missing\"\n",
    "        try:\n",
    "            k = a\n",
    "            if \".\" in a:\n",
    "                #print(a)\n",
    "                [k, m] = a.split(\".\")\n",
    "                x = d[k]\n",
    "                if x:\n",
    "                    v = getattr(d[k], m)\n",
    "                else:\n",
    "                    v = \"missing\"\n",
    "            else:\n",
    "                v = d[k]\n",
    "        except:\n",
    "            print (\"exception getting\", a, \"from\", process_object)\n",
    "        L.append(v)\n",
    "    return L\n",
    "    \n",
    "process_data_lines = [process_data_line(p) for p in psutil.process_iter()]\n",
    "process_data_lines = filter(None, process_data_lines)\n",
    "#process_data_lines[0]"
   ]
  },
  {
   "cell_type": "code",
   "execution_count": null,
   "metadata": {},
   "outputs": [],
   "source": [
    "# Display rows and headers as a DataTable\n",
    "data_tables.Table1(atts, process_data_lines)"
   ]
  },
  {
   "cell_type": "code",
   "execution_count": null,
   "metadata": {},
   "outputs": [],
   "source": []
  }
 ],
 "metadata": {
  "kernelspec": {
   "display_name": "Python 3",
   "language": "python",
   "name": "python3"
  },
  "language_info": {
   "codemirror_mode": {
    "name": "ipython",
    "version": 3
   },
   "file_extension": ".py",
   "mimetype": "text/x-python",
   "name": "python",
   "nbconvert_exporter": "python",
   "pygments_lexer": "ipython3",
   "version": "3.7.0"
  }
 },
 "nbformat": 4,
 "nbformat_minor": 2
}
