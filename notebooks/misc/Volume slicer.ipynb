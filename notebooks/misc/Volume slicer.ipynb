{
 "cells": [
  {
   "cell_type": "markdown",
   "metadata": {},
   "source": [
    "<img src=\"head_image.png\" width=\"300\"/>\n",
    "\n",
    "# Image volume slicer\n",
    "\n",
    "This page demonstrates how to use `jp_doodle.stream_image_array.VolumeImageViewer` to\n",
    "explore a 3d image volume.\n",
    "\n",
    "First make a synthetic 3d volume using numpy."
   ]
  },
  {
   "cell_type": "code",
   "execution_count": null,
   "metadata": {},
   "outputs": [],
   "source": [
    "import numpy as np\n",
    "\n",
    "(nx, ny, nz) = (230, 200, 240)\n",
    "#(nx, ny) = (512,512)\n",
    "x = np.linspace(-3, 3, nx)\n",
    "y = np.linspace(-2, 3, ny)\n",
    "z = np.linspace(-2, 2, nz)\n",
    "xv, yv, zv = np.meshgrid(x, y, z)\n",
    "blue = np.array([0,0,255]).reshape([1,1,3])\n",
    "yellow = np.array([255,255,0]).reshape([1,1,3])\n",
    "\n",
    "def testArray(a=.1, b=.1, c=-1.2, d=-.2, e=.2):\n",
    "    level =  np.sin(a * xv * xv + b * yv * yv + c * xv * yv + d + e * zv * zv)\n",
    "    return np.cos(level * 2) % 0.5\n",
    "\n",
    "A = testArray()\n",
    "A[10:100, 100:120, 50:100] = 0.0\n",
    "A.shape"
   ]
  },
  {
   "cell_type": "code",
   "execution_count": null,
   "metadata": {},
   "outputs": [],
   "source": [
    "# View the volume\n",
    "from jp_doodle import stream_image_array\n",
    "from jp_doodle import dual_canvas\n",
    "\n",
    "c3 = dual_canvas.SnapshotCanvas(\"ylm.png\", width=820, height=520)\n",
    "S = stream_image_array.VolumeImageViewer(A, c3)\n",
    "c3.fit()\n",
    "c3.display_all()"
   ]
  },
  {
   "cell_type": "code",
   "execution_count": null,
   "metadata": {},
   "outputs": [],
   "source": []
  }
 ],
 "metadata": {
  "kernelspec": {
   "display_name": "Python 3",
   "language": "python",
   "name": "python3"
  },
  "language_info": {
   "codemirror_mode": {
    "name": "ipython",
    "version": 3
   },
   "file_extension": ".py",
   "mimetype": "text/x-python",
   "name": "python",
   "nbconvert_exporter": "python",
   "pygments_lexer": "ipython3",
   "version": "3.7.0"
  }
 },
 "nbformat": 4,
 "nbformat_minor": 2
}
