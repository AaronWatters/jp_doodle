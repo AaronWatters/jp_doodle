{
 "cells": [
  {
   "cell_type": "markdown",
   "metadata": {},
   "source": [
    "# Ace editor demo\n",
    "\n",
    "This notebook demonstrates how to use the Ace code editor\n",
    "in a Jupyter notebook."
   ]
  },
  {
   "cell_type": "code",
   "execution_count": 1,
   "metadata": {},
   "outputs": [],
   "source": [
    "import jp_proxy_widget"
   ]
  },
  {
   "cell_type": "code",
   "execution_count": 4,
   "metadata": {},
   "outputs": [
    {
     "data": {
      "application/vnd.jupyter.widget-view+json": {
       "model_id": "41470b5293cc4cc8a85dea629e3314e4",
       "version_major": 2,
       "version_minor": 0
      },
      "text/plain": [
       "JSProxyWidget(status='Not yet rendered')"
      ]
     },
     "metadata": {},
     "output_type": "display_data"
    }
   ],
   "source": [
    "ace_test = jp_proxy_widget.JSProxyWidget()\n",
    "\n",
    "def load_test():\n",
    "    ace_test.js_init(\"\"\"\n",
    "        // load ace from a CDN using require.js\n",
    "        element.requirejs.config({\n",
    "          paths: {\n",
    "              //d3: '//cdnjs.cloudflare.com/ajax/libs/d3/3.4.8/d3.min',\n",
    "              ace: '//pagecdn.io/lib/ace/1.4.8'\n",
    "          }\n",
    "        });\n",
    "        // Use require.js to load ace.\n",
    "        element.requirejs([\"ace/ace\"], function(ace) {\n",
    "            element.html(\"ace is loaded: \" + ace)\n",
    "            var e = $('<div id=\"editor\"></div>').appendTo(element);\n",
    "            e.width(\"500px\");\n",
    "            e.height(\"300px\");\n",
    "            var editor = ace.edit(e[0]);\n",
    "        });\n",
    "    \"\"\")\n",
    "\n",
    "# wrap the load operation in 'uses_require' to initialize require.js.\n",
    "ace_test.uses_require(load_test)\n",
    "ace_test"
   ]
  },
  {
   "cell_type": "code",
   "execution_count": null,
   "metadata": {},
   "outputs": [],
   "source": [
    "ace_test.js_debug()\n"
   ]
  },
  {
   "cell_type": "code",
   "execution_count": null,
   "metadata": {},
   "outputs": [],
   "source": []
  }
 ],
 "metadata": {
  "kernelspec": {
   "display_name": "Python 3",
   "language": "python",
   "name": "python3"
  },
  "language_info": {
   "codemirror_mode": {
    "name": "ipython",
    "version": 3
   },
   "file_extension": ".py",
   "mimetype": "text/x-python",
   "name": "python",
   "nbconvert_exporter": "python",
   "pygments_lexer": "ipython3",
   "version": "3.6.8"
  }
 },
 "nbformat": 4,
 "nbformat_minor": 2
}
