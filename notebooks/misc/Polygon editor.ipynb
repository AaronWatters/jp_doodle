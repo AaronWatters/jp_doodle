{
 "cells": [
  {
   "cell_type": "code",
   "execution_count": 36,
   "metadata": {
    "collapsed": false
   },
   "outputs": [
    {
     "data": {
      "application/vnd.jupyter.widget-view+json": {
       "model_id": "257046b0a12c435e80f156ed6c277b2e",
       "version_major": 2,
       "version_minor": 0
      },
      "text/html": [
       "<p>Failed to display Jupyter Widget of type <code>Tab</code>.</p>\n",
       "<p>\n",
       "  If you're reading this message in Jupyter Notebook or JupyterLab, it may mean\n",
       "  that the widgets JavaScript is still loading. If this message persists, it\n",
       "  likely means that the widgets JavaScript library is either not installed or\n",
       "  not enabled. See the <a href=\"https://ipywidgets.readthedocs.io/en/stable/user_install.html\">Jupyter\n",
       "  Widgets Documentation</a> for setup instructions.\n",
       "</p>\n",
       "<p>\n",
       "  If you're reading this message in another notebook frontend (for example, a static\n",
       "  rendering on GitHub or <a href=\"https://nbviewer.jupyter.org/\">NBViewer</a>),\n",
       "  it may mean that your frontend doesn't currently support widgets.\n",
       "</p>\n"
      ],
      "text/plain": [
       "Tab(children=(VBox(children=(SnapshotCanvas(status=u'Not yet rendered'), JSProxyWidget(status=u'Not yet rendered'))), HTML(value=u'<img src=\"editted polygon.png\" id=\"snapshot_id_71_1536169403016\"/>\\n <div id=\"snapshot_id_72_1536169403016\">editted polygon.png</div>')), _titles={u'1': 'Snapshot', u'0': 'Canvas'})"
      ]
     },
     "metadata": {},
     "output_type": "display_data"
    }
   ],
   "source": [
    "\n",
    "from jp_doodle import dual_canvas\n",
    "from IPython.display import display\n",
    "\n",
    "poly_edit = dual_canvas.SnapshotCanvas(\"editted polygon.png\", width=320, height=320)\n",
    "poly_edit.display_all()\n",
    "poly_edit.js_init(\"\"\"\n",
    "\n",
    "// Add a light backdrop\n",
    "element.rect({x:-15, y:-15, w:370, h:370, color:\"#def\"})\n",
    "\n",
    "// Edit in cartesian area [-1:1] x [-1:1]\n",
    "let frame = element.frame_region(20, 20, 300, 300, \n",
    "            -1, -1, 1, 1);\n",
    "\n",
    "// Show axes for reference\n",
    "frame.lower_left_axes({\n",
    "            x_anchor: 0,\n",
    "            y_anchor: 0,\n",
    "            tick_line_config: {color: \"green\"},\n",
    "            tick_text_config: {color: \"blue\"},\n",
    "            max_tick_count: 5\n",
    "            })\n",
    "\n",
    "// Helpful informative text.\n",
    "var info_div = $(\"<div>Useful information should show up here eventually.</div>\").appendTo(element);\n",
    "\n",
    "// Store polygon points here.\n",
    "var polygon_points = [];\n",
    "\n",
    "// Convenience to add a point to the polygon\n",
    "var push_location = function (location) {\n",
    "    polygon_points.push([location.x, location.y]);\n",
    "}\n",
    "\n",
    "var start_polygon = function () {\n",
    "    // wait for a mouse click to define the first point of the polygon.\n",
    "    frame.forget_objects([\"poly\", \"circ\"]);   // forget graphical objects if they exist.\n",
    "    element.reset_events();\n",
    "    polygon_points = [];\n",
    "    \n",
    "    // The graphical polygon to edit\n",
    "    frame.polygon({name: \"poly\", points: polygon_points, color:\"red\", close:false, fill:false, lineWidth:5});\n",
    "    \n",
    "    // A circle to track the mouse\n",
    "    frame.circle({name: \"circ\", x:0, y:0, r:5, color:\"magenta\", hide:true});\n",
    "    \n",
    "    var track_mouse = function(event) {\n",
    "        var frame_location = frame.event_model_location(event);\n",
    "        frame.change_element(\"circ\", {x: frame_location.x, y: frame_location.y, hide: false});\n",
    "    };\n",
    "    element.on_canvas_event(\"mousemove\", track_mouse);\n",
    "    \n",
    "    var start_click = function(event) {  \n",
    "        var frame_location = frame.event_model_location(event);\n",
    "        // store the initial point and a mouse tracking point\n",
    "        polygon_points = [];\n",
    "        push_location(frame_location);  // first vertex\n",
    "        push_location(frame_location);  // mouse tracking vertex\n",
    "        // switch modes to continue polygon after a short delay in case of duplicate mouse clicks\n",
    "        element.reset_events();\n",
    "        setTimeout(continue_polygon, 100);\n",
    "    };\n",
    "    element.on_canvas_event(\"click\", start_click);\n",
    "    \n",
    "    info_div.html(\"<div>Click to start polygon.</div>\")\n",
    "};\n",
    "\n",
    "var continue_polygon = function () {\n",
    "    // space bar drops a point, mouse click completes the polygon\n",
    "    element.reset_events();\n",
    "    \n",
    "    var track_mouse = function(event) {\n",
    "        // track the cursor\n",
    "        var frame_location = frame.event_model_location(event);\n",
    "        frame.change_element(\"circ\", {x: frame_location.x, y: frame_location.y, hide: false});\n",
    "        // change the last polygon point to track the cursor\n",
    "        polygon_points.pop();\n",
    "        push_location(frame_location);  // replace mouse tracking vertex\n",
    "        frame.change_element(\"poly\", {points: polygon_points});\n",
    "        // set the focus to the canvas so the canvas can recieve keyboard events.\n",
    "        element.focus_canvas();\n",
    "    };\n",
    "    element.on_canvas_event(\"mousemove\", track_mouse);\n",
    "    \n",
    "    var dot_drops_point = function (event) {\n",
    "        // When the user hits \".\" drop a new vertex on the polygon\n",
    "        const dot_key_code = 190;\n",
    "        if (event.keyCode == dot_key_code) {\n",
    "            // 'keydown' events do not have locations.  Duplicate the tracking vertex.\n",
    "            var vertex = polygon_points.pop();\n",
    "            polygon_points.push(vertex);  // dropped location\n",
    "            polygon_points.push(vertex);  // mouse tracking vertex\n",
    "            frame.change_element(\"poly\", {points: polygon_points});\n",
    "        }\n",
    "    }\n",
    "    element.on_canvas_event(\"keydown\", dot_drops_point);\n",
    "    \n",
    "    var stop_click = function(event) {  \n",
    "        // When the user \"clicks\" in \"continue\" mode, complete the polygon.\n",
    "        var frame_location = frame.event_model_location(event);\n",
    "        // switch modes to continue polygon\n",
    "        frame.change_element(\"circ\", {hide: true});\n",
    "        // change the last polygon point to track the cursor\n",
    "        polygon_points.pop();  // remove previous mouse tracking vertex\n",
    "        polygon_points.push([frame_location.x, frame_location.y]);\n",
    "        frame.change_element(\"poly\", {points: polygon_points, close: true});\n",
    "        element.reset_events();\n",
    "        info_div.html(\"<div>Polygon complete.</div>\")\n",
    "    };\n",
    "    element.on_canvas_event(\"click\", stop_click);\n",
    "    \n",
    "    info_div.html(\"<div>Type '.' to add a vertex. Click to complete polygon.</div>\");\n",
    "};\n",
    "\n",
    "start_polygon();\n",
    "\n",
    "$(\"<button>Restart</button>\")\n",
    ".appendTo(element)\n",
    ".click(start_polygon);\n",
    "\"\"\")"
   ]
  },
  {
   "cell_type": "code",
   "execution_count": 22,
   "metadata": {
    "collapsed": false
   },
   "outputs": [
    {
     "data": {
      "text/plain": [
       "[9,\n",
       " [['function',\n",
       "   ['method',\n",
       "    ['element'],\n",
       "    'New',\n",
       "    ['get', ['window'], 'Function'],\n",
       "    ['list', 'element', 'debugger;']],\n",
       "   ['element']]],\n",
       " 1]"
      ]
     },
     "execution_count": 22,
     "metadata": {},
     "output_type": "execute_result"
    }
   ],
   "source": [
    "poly_edit.js_debug()"
   ]
  },
  {
   "cell_type": "code",
   "execution_count": null,
   "metadata": {
    "collapsed": true
   },
   "outputs": [],
   "source": []
  }
 ],
 "metadata": {
  "kernelspec": {
   "display_name": "Python 2",
   "language": "python",
   "name": "python2"
  },
  "language_info": {
   "codemirror_mode": {
    "name": "ipython",
    "version": 2
   },
   "file_extension": ".py",
   "mimetype": "text/x-python",
   "name": "python",
   "nbconvert_exporter": "python",
   "pygments_lexer": "ipython2",
   "version": "2.7.13"
  },
  "widgets": {
   "application/vnd.jupyter.widget-state+json": {
    "state": {
     "003578b2d6c34689832f47fa40900ba5": {
      "model_module": "@jupyter-widgets/controls",
      "model_module_version": "1.0.0",
      "model_name": "VBoxModel",
      "state": {
       "children": [
        "IPY_MODEL_d2d3d39d8f41448fa0811cc232c89877",
        "IPY_MODEL_fb6f1f175f82451bb4c6a8a64e3c07b1"
       ],
       "layout": "IPY_MODEL_a9b980739c4c4da4add2c22077dec471"
      }
     },
     "010f61c8734143f681abe6d035ebadc0": {
      "model_module": "@jupyter-widgets/base",
      "model_module_version": "1.0.0",
      "model_name": "LayoutModel",
      "state": {}
     },
     "0188b5fd94814fc28b0b67b19516fddd": {
      "model_module": "@jupyter-widgets/base",
      "model_module_version": "1.0.0",
      "model_name": "LayoutModel",
      "state": {}
     },
     "02e0ffb1e6794663a56ae0477d322746": {
      "model_module": "jp_proxy_widget",
      "model_module_version": "^0.3.4",
      "model_name": "JSProxyModel",
      "state": {
       "_model_module_version": "^0.3.4",
       "_send_counter": 8,
       "_view_module_version": "^0.3.4",
       "error_msg": "Error: Error in element.New SyntaxError: Unexpected string",
       "layout": "IPY_MODEL_d1d1f48f9fcb457c98d8003b10103e18",
       "rendered": true,
       "status": "Rendered."
      }
     },
     "03209838462142db843112af422d6497": {
      "model_module": "@jupyter-widgets/controls",
      "model_module_version": "1.0.0",
      "model_name": "TabModel",
      "state": {
       "_titles": {
        "0": "Canvas",
        "1": "Snapshot"
       },
       "children": [
        "IPY_MODEL_4d4d839ddb8d45cba8084fdacda4c33c",
        "IPY_MODEL_44c6686c680842ffa0fa969803e15eee"
       ],
       "layout": "IPY_MODEL_e79559be6f884f9daed71096fa01a174"
      }
     },
     "03eb06cbe9a24b7bb2d4d4e197f549f0": {
      "model_module": "@jupyter-widgets/controls",
      "model_module_version": "1.0.0",
      "model_name": "DescriptionStyleModel",
      "state": {
       "description_width": ""
      }
     },
     "048cf9733572423bb5045661cb9ded3a": {
      "model_module": "@jupyter-widgets/controls",
      "model_module_version": "1.0.0",
      "model_name": "DescriptionStyleModel",
      "state": {
       "description_width": ""
      }
     },
     "0666ca0513dc49f6b9a91aa65e3729e8": {
      "model_module": "@jupyter-widgets/base",
      "model_module_version": "1.0.0",
      "model_name": "LayoutModel",
      "state": {}
     },
     "06942139d3ab4041a687af88433088fb": {
      "model_module": "jp_proxy_widget",
      "model_module_version": "^0.3.4",
      "model_name": "JSProxyModel",
      "state": {
       "_model_module_version": "^0.3.4",
       "_send_counter": 2,
       "_view_module_version": "^0.3.4",
       "error_msg": "No error",
       "layout": "IPY_MODEL_7581eef7d7eb4fa0ba2d55d9a4e25211",
       "rendered": true,
       "status": "Got results."
      }
     },
     "07141ec1ad8d46dcbcb95b1567d1c1cb": {
      "model_module": "@jupyter-widgets/controls",
      "model_module_version": "1.0.0",
      "model_name": "VBoxModel",
      "state": {
       "children": [
        "IPY_MODEL_13087c0ca34946218887413d4f2ea387",
        "IPY_MODEL_1ec2e3adfd6549d4aa3f8a06ce382bfd"
       ],
       "layout": "IPY_MODEL_913d408f415a4c2397f9c7afff9dc434"
      }
     },
     "0748d814cdaa4977953a0c23b334e72d": {
      "model_module": "@jupyter-widgets/controls",
      "model_module_version": "1.0.0",
      "model_name": "VBoxModel",
      "state": {
       "children": [
        "IPY_MODEL_785da05a7a604614a09a403935d5d6e7",
        "IPY_MODEL_07f6ce5f26e748c49592a76a86f3e5f8"
       ],
       "layout": "IPY_MODEL_d148e30ecc0e47de9242005895747785"
      }
     },
     "07b82b1251074233be123d4b2b6e2ff1": {
      "model_module": "@jupyter-widgets/base",
      "model_module_version": "1.0.0",
      "model_name": "LayoutModel",
      "state": {}
     },
     "07eb89ac17e74672a7d8c54e2d66718d": {
      "model_module": "@jupyter-widgets/base",
      "model_module_version": "1.0.0",
      "model_name": "LayoutModel",
      "state": {}
     },
     "07f3301bbb9840f7afa9de190e4b7be9": {
      "model_module": "@jupyter-widgets/controls",
      "model_module_version": "1.0.0",
      "model_name": "DescriptionStyleModel",
      "state": {
       "description_width": ""
      }
     },
     "07f6ce5f26e748c49592a76a86f3e5f8": {
      "model_module": "jp_proxy_widget",
      "model_module_version": "^0.3.4",
      "model_name": "JSProxyModel",
      "state": {
       "_model_module_version": "^0.3.4",
       "_send_counter": 2,
       "_view_module_version": "^0.3.4",
       "error_msg": "No error",
       "layout": "IPY_MODEL_4e2cf2a8cf59477ca2434b06397a2f79",
       "rendered": true,
       "status": "Got results."
      }
     },
     "084ded73ea42485b953584ac179958df": {
      "model_module": "@jupyter-widgets/base",
      "model_module_version": "1.0.0",
      "model_name": "LayoutModel",
      "state": {}
     },
     "0902f1e0121f44f4ade5f433a169153e": {
      "model_module": "@jupyter-widgets/base",
      "model_module_version": "1.0.0",
      "model_name": "LayoutModel",
      "state": {}
     },
     "0917fcd5459e42a7a44f18b9e0110090": {
      "model_module": "@jupyter-widgets/controls",
      "model_module_version": "1.0.0",
      "model_name": "HTMLModel",
      "state": {
       "layout": "IPY_MODEL_4bc3c25c1a764d73a338e55699d3627c",
       "style": "IPY_MODEL_a5fd47c6654b4b4d93299325b49853b9",
       "value": "<img src=\"editted polygon.png\" id=\"snapshot_id_17_1536161629320\"/>\n <div id=\"snapshot_id_18_1536161629320\">editted polygon.png</div>"
      }
     },
     "09b3b2ac3a694211b3968541b388b66b": {
      "model_module": "@jupyter-widgets/base",
      "model_module_version": "1.0.0",
      "model_name": "LayoutModel",
      "state": {}
     },
     "0a0010b5ba534391a48a600d06460c08": {
      "model_module": "jp_proxy_widget",
      "model_module_version": "^0.3.4",
      "model_name": "JSProxyModel",
      "state": {
       "_model_module_version": "^0.3.4",
       "_send_counter": 10,
       "_view_module_version": "^0.3.4",
       "error_msg": "No error",
       "layout": "IPY_MODEL_35051dfda78a4adbbf19fca2fb42d62a",
       "rendered": true,
       "status": "Got results."
      }
     },
     "0a3024a0ada84bef953f3bdb2a329899": {
      "model_module": "@jupyter-widgets/base",
      "model_module_version": "1.0.0",
      "model_name": "LayoutModel",
      "state": {}
     },
     "0a458f2ad8604c1cbbf8da8aa6253cd4": {
      "model_module": "@jupyter-widgets/base",
      "model_module_version": "1.0.0",
      "model_name": "LayoutModel",
      "state": {}
     },
     "0bf1ec5e870c41a5a8fd5979d2f4fd27": {
      "model_module": "@jupyter-widgets/base",
      "model_module_version": "1.0.0",
      "model_name": "LayoutModel",
      "state": {}
     },
     "0c2537dab2a54e399db4532bb81b42ab": {
      "model_module": "@jupyter-widgets/base",
      "model_module_version": "1.0.0",
      "model_name": "LayoutModel",
      "state": {}
     },
     "0d5940a5af3e4f80a283dfa922d76374": {
      "model_module": "@jupyter-widgets/base",
      "model_module_version": "1.0.0",
      "model_name": "LayoutModel",
      "state": {}
     },
     "0d7174a602744d1b9a083df90e85fdc7": {
      "model_module": "@jupyter-widgets/controls",
      "model_module_version": "1.0.0",
      "model_name": "TabModel",
      "state": {
       "_titles": {
        "0": "Canvas",
        "1": "Snapshot"
       },
       "children": [
        "IPY_MODEL_e633a92aa10b44bb86b070ed8dc51ccf",
        "IPY_MODEL_f5b0167198d644a1a2da133482499025"
       ],
       "layout": "IPY_MODEL_6f0ce65d7eb8408d85f29ee6979e3961"
      }
     },
     "0db1cf53ab694c599cba5d351a30714a": {
      "model_module": "@jupyter-widgets/base",
      "model_module_version": "1.0.0",
      "model_name": "LayoutModel",
      "state": {}
     },
     "0e8b602f18e54831bcbba622d37b79b3": {
      "model_module": "@jupyter-widgets/controls",
      "model_module_version": "1.0.0",
      "model_name": "HTMLModel",
      "state": {
       "layout": "IPY_MODEL_e8a21641140a48368dee4b53b4e27700",
       "style": "IPY_MODEL_6f5859d8211e43608a41fd46fa72fcf8",
       "value": "<img src=\"editted polygon.png\" id=\"snapshot_id_29_1536163103250\"/>\n <div id=\"snapshot_id_30_1536163103251\">editted polygon.png</div>"
      }
     },
     "0f17987237884ad0a5474cae69d4bd6e": {
      "model_module": "@jupyter-widgets/controls",
      "model_module_version": "1.0.0",
      "model_name": "DescriptionStyleModel",
      "state": {
       "description_width": ""
      }
     },
     "0fa855acf506467e8479634a6322a684": {
      "model_module": "@jupyter-widgets/base",
      "model_module_version": "1.0.0",
      "model_name": "LayoutModel",
      "state": {}
     },
     "101fe064d46a4c81b9091cdb67726670": {
      "model_module": "@jupyter-widgets/controls",
      "model_module_version": "1.0.0",
      "model_name": "DescriptionStyleModel",
      "state": {
       "description_width": ""
      }
     },
     "1051c538618342d5aac233c6af624ee6": {
      "model_module": "jp_proxy_widget",
      "model_module_version": "^0.3.4",
      "model_name": "JSProxyModel",
      "state": {
       "_model_module_version": "^0.3.4",
       "_send_counter": 2,
       "_view_module_version": "^0.3.4",
       "error_msg": "No error",
       "layout": "IPY_MODEL_e4bce5f97bc74d389cd3df6c19ca2cf7",
       "rendered": true,
       "status": "Got results."
      }
     },
     "11332343dc414564916672796ce18393": {
      "model_module": "@jupyter-widgets/controls",
      "model_module_version": "1.0.0",
      "model_name": "HTMLModel",
      "state": {
       "layout": "IPY_MODEL_9cae3c12aec6447ea607b856bd0cf517",
       "style": "IPY_MODEL_048cf9733572423bb5045661cb9ded3a",
       "value": "<img src=\"rotated_spider.png\" id=\"snapshot_id_1_1536155300021\"/>\n <div id=\"snapshot_id_2_1536155300021\">rotated_spider.png</div>"
      }
     },
     "11ee352b8cef44059d82bcff34af2ab9": {
      "model_module": "jp_proxy_widget",
      "model_module_version": "^0.3.4",
      "model_name": "JSProxyModel",
      "state": {
       "_model_module_version": "^0.3.4",
       "_send_counter": 8,
       "_view_module_version": "^0.3.4",
       "error_msg": "No error",
       "layout": "IPY_MODEL_07b82b1251074233be123d4b2b6e2ff1",
       "rendered": true,
       "status": "Got results."
      }
     },
     "1272b5ac68444ab1a0e8c3ed3ac41c5e": {
      "model_module": "@jupyter-widgets/base",
      "model_module_version": "1.0.0",
      "model_name": "LayoutModel",
      "state": {}
     },
     "12dfdcf30a844928acf7111686e2f1a6": {
      "model_module": "@jupyter-widgets/base",
      "model_module_version": "1.0.0",
      "model_name": "LayoutModel",
      "state": {}
     },
     "13087c0ca34946218887413d4f2ea387": {
      "model_module": "jp_proxy_widget",
      "model_module_version": "^0.3.4",
      "model_name": "JSProxyModel",
      "state": {
       "_model_module_version": "^0.3.4",
       "_send_counter": 8,
       "_view_module_version": "^0.3.4",
       "error_msg": "No error",
       "layout": "IPY_MODEL_6eb50745ec904558b260c76b16a02f20",
       "rendered": true,
       "status": "Got results."
      }
     },
     "139d8e22684c40a38e4538d9a3e79f56": {
      "model_module": "jp_proxy_widget",
      "model_module_version": "^0.3.4",
      "model_name": "JSProxyModel",
      "state": {
       "_model_module_version": "^0.3.4",
       "_send_counter": 2,
       "_view_module_version": "^0.3.4",
       "error_msg": "No error",
       "layout": "IPY_MODEL_5774e78d6146454682ef385ea5ac67be",
       "rendered": true,
       "status": "Got results."
      }
     },
     "14c08e1bedb84a61a7ca218bb5dadf69": {
      "model_module": "jp_proxy_widget",
      "model_module_version": "^0.3.4",
      "model_name": "JSProxyModel",
      "state": {
       "_model_module_version": "^0.3.4",
       "_send_counter": 8,
       "_view_module_version": "^0.3.4",
       "error_msg": "No error",
       "layout": "IPY_MODEL_f0a79b02006c4c4a994b865c13ec2e2f",
       "rendered": true,
       "status": "Got results."
      }
     },
     "15671e05b9b349fb9f620cf10ee4949c": {
      "model_module": "@jupyter-widgets/base",
      "model_module_version": "1.0.0",
      "model_name": "LayoutModel",
      "state": {}
     },
     "15767a644c444980aa5c2af57a01aa9e": {
      "model_module": "@jupyter-widgets/controls",
      "model_module_version": "1.0.0",
      "model_name": "DescriptionStyleModel",
      "state": {
       "description_width": ""
      }
     },
     "159ea404f5f647438e2bd40dbbe91cd1": {
      "model_module": "jp_proxy_widget",
      "model_module_version": "^0.3.4",
      "model_name": "JSProxyModel",
      "state": {
       "_model_module_version": "^0.3.4",
       "_send_counter": 8,
       "_view_module_version": "^0.3.4",
       "error_msg": "No error",
       "layout": "IPY_MODEL_9f2fbcb64a18423d896e9a831f084c39",
       "rendered": true,
       "status": "Got results."
      }
     },
     "15da9edd7a814cc99708de5de92d776a": {
      "model_module": "@jupyter-widgets/controls",
      "model_module_version": "1.0.0",
      "model_name": "HTMLModel",
      "state": {
       "layout": "IPY_MODEL_adc1f2f0d15c4a41a1013af3c3318d0f",
       "style": "IPY_MODEL_cad50fb655ca437f844a14101ada9f7a",
       "value": "<img src=\"editted polygon.png\" id=\"snapshot_id_11_1536159939823\"/>\n <div id=\"snapshot_id_12_1536159939823\">editted polygon.png</div>"
      }
     },
     "1601851a866243e4b081f07d9d0afb23": {
      "model_module": "jp_proxy_widget",
      "model_module_version": "^0.3.4",
      "model_name": "JSProxyModel",
      "state": {
       "_model_module_version": "^0.3.4",
       "_send_counter": 8,
       "_view_module_version": "^0.3.4",
       "error_msg": "No error",
       "layout": "IPY_MODEL_3db7f80a4c0447e0998478a9ad15c8bd",
       "rendered": true,
       "status": "Got results."
      }
     },
     "168ae9fa904949df8b9a79c10469a560": {
      "model_module": "@jupyter-widgets/base",
      "model_module_version": "1.0.0",
      "model_name": "LayoutModel",
      "state": {}
     },
     "168c26c6ded04e5fbcea930f1d50af39": {
      "model_module": "@jupyter-widgets/controls",
      "model_module_version": "1.0.0",
      "model_name": "VBoxModel",
      "state": {
       "children": [
        "IPY_MODEL_c26f91243027446491429106edd29b5b",
        "IPY_MODEL_2530252dca444b3b8b56499d9d80bb2e"
       ],
       "layout": "IPY_MODEL_5222de2a9c2b4ef38381c856ddce7bc9"
      }
     },
     "1721312fdbb5483a98af138a74fb1479": {
      "model_module": "@jupyter-widgets/base",
      "model_module_version": "1.0.0",
      "model_name": "LayoutModel",
      "state": {}
     },
     "17a02096ea9f4b5482be447f7e8d6b97": {
      "model_module": "@jupyter-widgets/controls",
      "model_module_version": "1.0.0",
      "model_name": "HTMLModel",
      "state": {
       "layout": "IPY_MODEL_4c49e191f4a7440fa09c1effe754d207",
       "style": "IPY_MODEL_423a212905da43339aae1a38ddf8d93a",
       "value": "<img src=\"rotated_spider.png\" id=\"snapshot_id_7_1536157507879\"/>\n <div id=\"snapshot_id_8_1536157507879\">rotated_spider.png</div>"
      }
     },
     "1802faf40acb444cbfd2bcdbf6fa7922": {
      "model_module": "@jupyter-widgets/base",
      "model_module_version": "1.0.0",
      "model_name": "LayoutModel",
      "state": {}
     },
     "1808bb0c72a54cd5a7ab903c929b8902": {
      "model_module": "@jupyter-widgets/controls",
      "model_module_version": "1.0.0",
      "model_name": "TabModel",
      "state": {
       "_titles": {
        "0": "Canvas",
        "1": "Snapshot"
       },
       "children": [
        "IPY_MODEL_83931bf363634c18818477e41db142d4",
        "IPY_MODEL_5f2d7364c6a3404f9027e0348f327cbc"
       ],
       "layout": "IPY_MODEL_75252c733ecc4627b611f8af6405b3a0"
      }
     },
     "1835904b74a649119824e716d75a01dd": {
      "model_module": "@jupyter-widgets/controls",
      "model_module_version": "1.0.0",
      "model_name": "TabModel",
      "state": {
       "_titles": {
        "0": "Canvas",
        "1": "Snapshot"
       },
       "children": [
        "IPY_MODEL_6e8ca11e06614799a6c00e7a9d65730b",
        "IPY_MODEL_5c67e0b508294e56a4ebd7c0b6f82b16"
       ],
       "layout": "IPY_MODEL_eec7d6a6df7f4074a4d080c6d9b68850"
      }
     },
     "185d703c94924a77bd23ff28efba9f7c": {
      "model_module": "@jupyter-widgets/controls",
      "model_module_version": "1.0.0",
      "model_name": "TabModel",
      "state": {
       "_titles": {
        "0": "Canvas",
        "1": "Snapshot"
       },
       "children": [
        "IPY_MODEL_168c26c6ded04e5fbcea930f1d50af39",
        "IPY_MODEL_f79510da314a4d4ea9dd9c0fa6179edc"
       ],
       "layout": "IPY_MODEL_4393eea9491a47ca9515a6c2d9a90c6e"
      }
     },
     "18baadb0c1bb4ef585dbd90fa3d73dd8": {
      "model_module": "@jupyter-widgets/base",
      "model_module_version": "1.0.0",
      "model_name": "LayoutModel",
      "state": {}
     },
     "1916e26c385346f7a228f57b07af0591": {
      "model_module": "jp_proxy_widget",
      "model_module_version": "^0.3.4",
      "model_name": "JSProxyModel",
      "state": {
       "_model_module_version": "^0.3.4",
       "_send_counter": 8,
       "_view_module_version": "^0.3.4",
       "error_msg": "No error",
       "layout": "IPY_MODEL_6b0ea79ee23841b4b0179346fd5249ce",
       "rendered": true,
       "status": "Got results."
      }
     },
     "19c94341f6ed4b968e4ca12010af066e": {
      "model_module": "@jupyter-widgets/base",
      "model_module_version": "1.0.0",
      "model_name": "LayoutModel",
      "state": {}
     },
     "19ce6e36dbf646a685cac504abc58032": {
      "model_module": "@jupyter-widgets/base",
      "model_module_version": "1.0.0",
      "model_name": "LayoutModel",
      "state": {}
     },
     "19e53ac2531147bcb4d512e7618bcb4b": {
      "model_module": "@jupyter-widgets/controls",
      "model_module_version": "1.0.0",
      "model_name": "TabModel",
      "state": {
       "_titles": {
        "0": "Canvas",
        "1": "Snapshot"
       },
       "children": [
        "IPY_MODEL_9cd2ef625b694680834a7e22a51df513",
        "IPY_MODEL_71c9172e195d4b53b6958b02c94be273"
       ],
       "layout": "IPY_MODEL_1802faf40acb444cbfd2bcdbf6fa7922"
      }
     },
     "1a39e630b92742528de9ca6e683de68e": {
      "model_module": "@jupyter-widgets/base",
      "model_module_version": "1.0.0",
      "model_name": "LayoutModel",
      "state": {}
     },
     "1a4bccbb74174403899a4c0b85e39ac0": {
      "model_module": "@jupyter-widgets/base",
      "model_module_version": "1.0.0",
      "model_name": "LayoutModel",
      "state": {}
     },
     "1a7dea7240f94ddba7453e9ca78ac72b": {
      "model_module": "@jupyter-widgets/base",
      "model_module_version": "1.0.0",
      "model_name": "LayoutModel",
      "state": {}
     },
     "1cb2e6629bfd46b8a52cff200ac48957": {
      "model_module": "@jupyter-widgets/base",
      "model_module_version": "1.0.0",
      "model_name": "LayoutModel",
      "state": {}
     },
     "1cde1e71e3304ef88d50f7ff1cc6ccbb": {
      "model_module": "@jupyter-widgets/controls",
      "model_module_version": "1.0.0",
      "model_name": "DescriptionStyleModel",
      "state": {
       "description_width": ""
      }
     },
     "1ce1f0908cc8406b8ffbeb57f72267e2": {
      "model_module": "@jupyter-widgets/base",
      "model_module_version": "1.0.0",
      "model_name": "LayoutModel",
      "state": {}
     },
     "1d0e193ba0c742c4b0d4ae7d3d42d2fe": {
      "model_module": "@jupyter-widgets/controls",
      "model_module_version": "1.0.0",
      "model_name": "TabModel",
      "state": {
       "_titles": {
        "0": "Canvas",
        "1": "Snapshot"
       },
       "children": [
        "IPY_MODEL_c260973f29764f52b56a741de8f13c21",
        "IPY_MODEL_fee57aba8ae74751b51d528ce3d4f3ae"
       ],
       "layout": "IPY_MODEL_0db1cf53ab694c599cba5d351a30714a"
      }
     },
     "1d3222768ff1443d87c3c0d4a2a7ed40": {
      "model_module": "@jupyter-widgets/base",
      "model_module_version": "1.0.0",
      "model_name": "LayoutModel",
      "state": {}
     },
     "1da2f16cacf4435f868dd9563c801c13": {
      "model_module": "@jupyter-widgets/controls",
      "model_module_version": "1.0.0",
      "model_name": "HTMLModel",
      "state": {
       "layout": "IPY_MODEL_82ec915b69b644dab9278fd72187b758",
       "style": "IPY_MODEL_6bf1db2fde1f4edd991d2ff5c60235d3",
       "value": "<img src=\"editted polygon.png\" id=\"snapshot_id_43_1536165197311\"/>\n <div id=\"snapshot_id_44_1536165197311\">editted polygon.png</div>"
      }
     },
     "1e7fc3545db54c87bdd02f97041a2f20": {
      "model_module": "@jupyter-widgets/base",
      "model_module_version": "1.0.0",
      "model_name": "LayoutModel",
      "state": {}
     },
     "1ec2e3adfd6549d4aa3f8a06ce382bfd": {
      "model_module": "jp_proxy_widget",
      "model_module_version": "^0.3.4",
      "model_name": "JSProxyModel",
      "state": {
       "_model_module_version": "^0.3.4",
       "_send_counter": 2,
       "_view_module_version": "^0.3.4",
       "error_msg": "No error",
       "layout": "IPY_MODEL_fb02282faa184849b8d5d4d353d339ac",
       "rendered": true,
       "status": "Got results."
      }
     },
     "1ec829bb242c4b01982ab3546577a628": {
      "model_module": "@jupyter-widgets/controls",
      "model_module_version": "1.0.0",
      "model_name": "HTMLModel",
      "state": {
       "layout": "IPY_MODEL_451702c8f79d4155b1aa0a3347d9f3c3",
       "style": "IPY_MODEL_2843d434bad24de4b3a9c63444d939d4",
       "value": "<img src=\"editted polygon.png\" id=\"snapshot_id_19_1536162322006\"/>\n <div id=\"snapshot_id_20_1536162322006\">editted polygon.png</div>"
      }
     },
     "1eef2149f54b4b18ad0b19608d989c2d": {
      "model_module": "@jupyter-widgets/base",
      "model_module_version": "1.0.0",
      "model_name": "LayoutModel",
      "state": {}
     },
     "204bae8384bf4b76aec8b4247f138bf7": {
      "model_module": "@jupyter-widgets/base",
      "model_module_version": "1.0.0",
      "model_name": "LayoutModel",
      "state": {}
     },
     "2063917b01e746578dc953004cde87d4": {
      "model_module": "@jupyter-widgets/controls",
      "model_module_version": "1.0.0",
      "model_name": "HTMLModel",
      "state": {
       "layout": "IPY_MODEL_e535248ce1284780ba796a1961aabcda",
       "style": "IPY_MODEL_7fa5b152a9e04f06aedbf09f36b33127",
       "value": "<img src=\"rotated_spider.png\" id=\"snapshot_id_1_1536097036949\"/>\n <div id=\"snapshot_id_2_1536097036949\">rotated_spider.png</div>"
      }
     },
     "20a443f0e4c94a568686532e9c5ce603": {
      "model_module": "jp_proxy_widget",
      "model_module_version": "^0.3.4",
      "model_name": "JSProxyModel",
      "state": {
       "_model_module_version": "^0.3.4",
       "_send_counter": 8,
       "_view_module_version": "^0.3.4",
       "error_msg": "No error",
       "layout": "IPY_MODEL_406e13cfea3c495ebb89585e7282da79",
       "rendered": true,
       "status": "Got results."
      }
     },
     "20ac432dcc524887b824b1497139b060": {
      "model_module": "@jupyter-widgets/controls",
      "model_module_version": "1.0.0",
      "model_name": "TabModel",
      "state": {
       "_titles": {
        "0": "Canvas",
        "1": "Snapshot"
       },
       "children": [
        "IPY_MODEL_35bc703698f84a0fa1c0fc77f1bffb8b",
        "IPY_MODEL_4e4da35036e84f318d119e85150264c0"
       ],
       "layout": "IPY_MODEL_dd981a891ee2465f9a1f49138c4efcbd"
      }
     },
     "20b98ba03794449ea6d2a071ec45f7a8": {
      "model_module": "jp_proxy_widget",
      "model_module_version": "^0.3.4",
      "model_name": "JSProxyModel",
      "state": {
       "_model_module_version": "^0.3.4",
       "_send_counter": 8,
       "_view_module_version": "^0.3.4",
       "error_msg": "No error",
       "layout": "IPY_MODEL_0188b5fd94814fc28b0b67b19516fddd",
       "rendered": true,
       "status": "Got results."
      }
     },
     "20cf4408f34f48ad89d3262e3523d695": {
      "model_module": "@jupyter-widgets/controls",
      "model_module_version": "1.0.0",
      "model_name": "TabModel",
      "state": {
       "_titles": {
        "0": "Canvas",
        "1": "Snapshot"
       },
       "children": [
        "IPY_MODEL_07141ec1ad8d46dcbcb95b1567d1c1cb",
        "IPY_MODEL_17a02096ea9f4b5482be447f7e8d6b97"
       ],
       "layout": "IPY_MODEL_b97289eff09e4a8ab9156e92a7b0b181"
      }
     },
     "20d90538fd07414db8eeec170b6e0790": {
      "model_module": "@jupyter-widgets/base",
      "model_module_version": "1.0.0",
      "model_name": "LayoutModel",
      "state": {}
     },
     "21d3139405314380ac10a2cf219f3ec4": {
      "model_module": "jp_proxy_widget",
      "model_module_version": "^0.3.4",
      "model_name": "JSProxyModel",
      "state": {
       "_model_module_version": "^0.3.4",
       "_send_counter": 10,
       "_view_module_version": "^0.3.4",
       "error_msg": "No error",
       "layout": "IPY_MODEL_0bf1ec5e870c41a5a8fd5979d2f4fd27",
       "rendered": true,
       "status": "Got results."
      }
     },
     "21d8c2801967437288467cbe15f08acc": {
      "model_module": "jp_proxy_widget",
      "model_module_version": "^0.3.4",
      "model_name": "JSProxyModel",
      "state": {
       "_model_module_version": "^0.3.4",
       "_send_counter": 8,
       "_view_module_version": "^0.3.4",
       "error_msg": "No error",
       "layout": "IPY_MODEL_1a4bccbb74174403899a4c0b85e39ac0",
       "rendered": true,
       "status": "Got results."
      }
     },
     "222cffbbc60642938967c37cd4082e14": {
      "model_module": "jp_proxy_widget",
      "model_module_version": "^0.3.4",
      "model_name": "JSProxyModel",
      "state": {
       "_model_module_version": "^0.3.4",
       "_send_counter": 2,
       "_view_module_version": "^0.3.4",
       "error_msg": "No error",
       "layout": "IPY_MODEL_a26d9b5c5c4f4e94b7848d93cc429bff",
       "rendered": true,
       "status": "Got results."
      }
     },
     "2273823bc0f44ad59fd96e7cc7babf58": {
      "model_module": "@jupyter-widgets/base",
      "model_module_version": "1.0.0",
      "model_name": "LayoutModel",
      "state": {}
     },
     "22b2af41a8854cb6b8b597716ceeb270": {
      "model_module": "jp_proxy_widget",
      "model_module_version": "^0.3.4",
      "model_name": "JSProxyModel",
      "state": {
       "_model_module_version": "^0.3.4",
       "_send_counter": 8,
       "_view_module_version": "^0.3.4",
       "error_msg": "No error",
       "layout": "IPY_MODEL_ede2a12f02214a098a27115f2640efc9",
       "rendered": true,
       "status": "Got results."
      }
     },
     "22fd5d3a721d489192762c18aeb1a404": {
      "model_module": "@jupyter-widgets/base",
      "model_module_version": "1.0.0",
      "model_name": "LayoutModel",
      "state": {}
     },
     "2337db9a80704284bd8d7f0a8ec31367": {
      "model_module": "@jupyter-widgets/base",
      "model_module_version": "1.0.0",
      "model_name": "LayoutModel",
      "state": {}
     },
     "241c2f8eb9a24517842a05f363d8d223": {
      "model_module": "@jupyter-widgets/base",
      "model_module_version": "1.0.0",
      "model_name": "LayoutModel",
      "state": {}
     },
     "245306f061a8492f8f61d72ae57b19dc": {
      "model_module": "@jupyter-widgets/base",
      "model_module_version": "1.0.0",
      "model_name": "LayoutModel",
      "state": {}
     },
     "2483482faa134149b4c8c8b412b12bb0": {
      "model_module": "@jupyter-widgets/base",
      "model_module_version": "1.0.0",
      "model_name": "LayoutModel",
      "state": {}
     },
     "2530252dca444b3b8b56499d9d80bb2e": {
      "model_module": "jp_proxy_widget",
      "model_module_version": "^0.3.4",
      "model_name": "JSProxyModel",
      "state": {
       "_model_module_version": "^0.3.4",
       "_send_counter": 2,
       "_view_module_version": "^0.3.4",
       "error_msg": "No error",
       "layout": "IPY_MODEL_c41169bde19d4ead865df9a78d44d89b",
       "rendered": true,
       "status": "Got results."
      }
     },
     "257046b0a12c435e80f156ed6c277b2e": {
      "model_module": "@jupyter-widgets/controls",
      "model_module_version": "1.0.0",
      "model_name": "TabModel",
      "state": {
       "_titles": {
        "0": "Canvas",
        "1": "Snapshot"
       },
       "children": [
        "IPY_MODEL_3c9eb9152dfd485ab5b199479912dcd4",
        "IPY_MODEL_aafbfde9cb924106aef1a0b8df87ffa3"
       ],
       "layout": "IPY_MODEL_b2bdfbdd579a40e884634b9b2f316aaf",
       "selected_index": 1
      }
     },
     "257ce653c0fe48588575702768ffd051": {
      "model_module": "@jupyter-widgets/controls",
      "model_module_version": "1.0.0",
      "model_name": "HTMLModel",
      "state": {
       "layout": "IPY_MODEL_7613aa1f63124af4af708c0699cce2bb",
       "style": "IPY_MODEL_8dd288404a094536a9896ce6aab4bcd1",
       "value": "<img src=\"editted polygon.png\" id=\"snapshot_id_56_1536168326657\"/>\n <div id=\"snapshot_id_57_1536168326657\">editted polygon.png</div>"
      }
     },
     "25e5b34d3e8f4d98bd3384c55a1047aa": {
      "model_module": "@jupyter-widgets/base",
      "model_module_version": "1.0.0",
      "model_name": "LayoutModel",
      "state": {}
     },
     "2725746a41b14cc882339f6265042333": {
      "model_module": "@jupyter-widgets/base",
      "model_module_version": "1.0.0",
      "model_name": "LayoutModel",
      "state": {}
     },
     "27c9be5c2c76467fa84ef471f0c2fb66": {
      "model_module": "jp_proxy_widget",
      "model_module_version": "^0.3.4",
      "model_name": "JSProxyModel",
      "state": {
       "_model_module_version": "^0.3.4",
       "_send_counter": 2,
       "_view_module_version": "^0.3.4",
       "error_msg": "No error",
       "layout": "IPY_MODEL_4e0ad273bfe24351acc07d70c690a698",
       "rendered": true,
       "status": "Got results."
      }
     },
     "27f727be13074b9685bbe7e759c8c476": {
      "model_module": "@jupyter-widgets/controls",
      "model_module_version": "1.0.0",
      "model_name": "HTMLModel",
      "state": {
       "layout": "IPY_MODEL_4ef23a1a076349f0951d30720cb3e74e",
       "style": "IPY_MODEL_4678e065a4364b13abb296c9f22d7ca6",
       "value": "<img src=\"rotated_spider.png\" id=\"snapshot_id_1_1536158064041\"/>\n <div id=\"snapshot_id_2_1536158064041\">rotated_spider.png</div>"
      }
     },
     "2843d434bad24de4b3a9c63444d939d4": {
      "model_module": "@jupyter-widgets/controls",
      "model_module_version": "1.0.0",
      "model_name": "DescriptionStyleModel",
      "state": {
       "description_width": ""
      }
     },
     "294c0f103fa64c7798118e64faf33896": {
      "model_module": "@jupyter-widgets/base",
      "model_module_version": "1.0.0",
      "model_name": "LayoutModel",
      "state": {}
     },
     "2b0f2405332c45f3afd8d7584236a8dd": {
      "model_module": "@jupyter-widgets/base",
      "model_module_version": "1.0.0",
      "model_name": "LayoutModel",
      "state": {}
     },
     "2b2ce0c0336c4396be1a9eba00e2d802": {
      "model_module": "jp_proxy_widget",
      "model_module_version": "^0.3.4",
      "model_name": "JSProxyModel",
      "state": {
       "_model_module_version": "^0.3.4",
       "_send_counter": 2,
       "_view_module_version": "^0.3.4",
       "error_msg": "No error",
       "layout": "IPY_MODEL_c56423cee6c14c989a2d1c5c07eb6f6c",
       "rendered": true,
       "status": "Got results."
      }
     },
     "2b883d387e0d4b9ba5c6b615fa2fa522": {
      "model_module": "@jupyter-widgets/controls",
      "model_module_version": "1.0.0",
      "model_name": "VBoxModel",
      "state": {
       "children": [
        "IPY_MODEL_31e74aa0b975400ea8791f5cfa5bfd18",
        "IPY_MODEL_8018bf6245834392a7ab3800250a2d9e"
       ],
       "layout": "IPY_MODEL_1cb2e6629bfd46b8a52cff200ac48957"
      }
     },
     "2b8e5f5e87c047df828e01f7034e65ae": {
      "model_module": "@jupyter-widgets/controls",
      "model_module_version": "1.0.0",
      "model_name": "TabModel",
      "state": {
       "_titles": {
        "0": "Canvas",
        "1": "Snapshot"
       },
       "children": [
        "IPY_MODEL_8358a83275dc4c3f9055f3693ab772a4",
        "IPY_MODEL_b17d5beeec474dbaac250b0dda27510d"
       ],
       "layout": "IPY_MODEL_324b311704f54b9abce656e76622a781"
      }
     },
     "2bb079a6e6aa4ee5abb9919a1b897c67": {
      "model_module": "@jupyter-widgets/base",
      "model_module_version": "1.0.0",
      "model_name": "LayoutModel",
      "state": {}
     },
     "2bc17f4044c24932aaad9df3d26bb888": {
      "model_module": "jp_proxy_widget",
      "model_module_version": "^0.3.4",
      "model_name": "JSProxyModel",
      "state": {
       "_model_module_version": "^0.3.4",
       "_send_counter": 8,
       "_view_module_version": "^0.3.4",
       "error_msg": "No error",
       "layout": "IPY_MODEL_5fc85e85fc544e2eb28d7b264daaffba",
       "rendered": true,
       "status": "Got results."
      }
     },
     "2c0a91277e9e42609b9fd40a33b2a33e": {
      "model_module": "@jupyter-widgets/controls",
      "model_module_version": "1.0.0",
      "model_name": "TabModel",
      "state": {
       "_titles": {
        "0": "Canvas",
        "1": "Snapshot"
       },
       "children": [
        "IPY_MODEL_7391b65dbf6444e1b792488b096f056b",
        "IPY_MODEL_b088a6ff588240ccb4a4749516d83d2e"
       ],
       "layout": "IPY_MODEL_c8e81ec3b03d4505a8e1ed426d134a04"
      }
     },
     "2c37504b462b40199040a1d748738338": {
      "model_module": "jp_proxy_widget",
      "model_module_version": "^0.3.4",
      "model_name": "JSProxyModel",
      "state": {
       "_model_module_version": "^0.3.4",
       "_send_counter": 2,
       "_view_module_version": "^0.3.4",
       "error_msg": "No error",
       "layout": "IPY_MODEL_4470c6d14c4d4392a31669b07b840333",
       "rendered": true,
       "status": "Got results."
      }
     },
     "2cfcd12fe5b8491a9d64d50c245bb4c3": {
      "model_module": "jp_proxy_widget",
      "model_module_version": "^0.3.4",
      "model_name": "JSProxyModel",
      "state": {
       "_model_module_version": "^0.3.4",
       "_send_counter": 10,
       "_view_module_version": "^0.3.4",
       "error_msg": "No error",
       "layout": "IPY_MODEL_294c0f103fa64c7798118e64faf33896",
       "rendered": true,
       "status": "Got results."
      }
     },
     "2d70e6380e3648a7bd6363d4c5fc7ff4": {
      "model_module": "@jupyter-widgets/controls",
      "model_module_version": "1.0.0",
      "model_name": "VBoxModel",
      "state": {
       "children": [
        "IPY_MODEL_14c08e1bedb84a61a7ca218bb5dadf69",
        "IPY_MODEL_5cad3da76d8b46c4acb78228a2d6456f"
       ],
       "layout": "IPY_MODEL_ccf5902cb6374b5ea77cd7c97e63b745"
      }
     },
     "2db7c8566d604269960c448d9b58cea0": {
      "model_module": "jp_proxy_widget",
      "model_module_version": "^0.3.4",
      "model_name": "JSProxyModel",
      "state": {
       "_model_module_version": "^0.3.4",
       "_send_counter": 8,
       "_view_module_version": "^0.3.4",
       "error_msg": "No error",
       "layout": "IPY_MODEL_cec872d887c2481fa3ae5be5ff6f068d",
       "rendered": true,
       "status": "Got results."
      }
     },
     "2eabaac2276e4337b25979bc83704d8f": {
      "model_module": "@jupyter-widgets/base",
      "model_module_version": "1.0.0",
      "model_name": "LayoutModel",
      "state": {}
     },
     "2f1147e431434712936f02aaa5a7b511": {
      "model_module": "@jupyter-widgets/controls",
      "model_module_version": "1.0.0",
      "model_name": "DescriptionStyleModel",
      "state": {
       "description_width": ""
      }
     },
     "2fc230c1c49640909934a9da78ea0316": {
      "model_module": "@jupyter-widgets/controls",
      "model_module_version": "1.0.0",
      "model_name": "VBoxModel",
      "state": {
       "children": [
        "IPY_MODEL_e35be46be18e4c1b8ded5a5863f8fb09",
        "IPY_MODEL_9dba7769b30249d9b00ae9d4e332ecbe"
       ],
       "layout": "IPY_MODEL_b4dcc816d34940aba031a4d302c5b72b"
      }
     },
     "3025241d0b6d4ec1a189948eb1b0623c": {
      "model_module": "@jupyter-widgets/base",
      "model_module_version": "1.0.0",
      "model_name": "LayoutModel",
      "state": {}
     },
     "30578b827a7747b09d3af49e560d428c": {
      "model_module": "@jupyter-widgets/base",
      "model_module_version": "1.0.0",
      "model_name": "LayoutModel",
      "state": {}
     },
     "30939dab735649ca83579620bfb83ce3": {
      "model_module": "@jupyter-widgets/base",
      "model_module_version": "1.0.0",
      "model_name": "LayoutModel",
      "state": {}
     },
     "315ab81b6dcf42499970ba9adaae3875": {
      "model_module": "jp_proxy_widget",
      "model_module_version": "^0.3.4",
      "model_name": "JSProxyModel",
      "state": {
       "_model_module_version": "^0.3.4",
       "_send_counter": 2,
       "_view_module_version": "^0.3.4",
       "error_msg": "No error",
       "layout": "IPY_MODEL_4550f7eaa66545198cf4f92e70876568",
       "rendered": true,
       "status": "Got results."
      }
     },
     "318d27ee33f74887bc917999c0008675": {
      "model_module": "@jupyter-widgets/base",
      "model_module_version": "1.0.0",
      "model_name": "LayoutModel",
      "state": {}
     },
     "31b141f7e14843d0bc509cffebecea69": {
      "model_module": "@jupyter-widgets/base",
      "model_module_version": "1.0.0",
      "model_name": "LayoutModel",
      "state": {}
     },
     "31e74aa0b975400ea8791f5cfa5bfd18": {
      "model_module": "jp_proxy_widget",
      "model_module_version": "^0.3.4",
      "model_name": "JSProxyModel",
      "state": {
       "_model_module_version": "^0.3.4",
       "_send_counter": 8,
       "_view_module_version": "^0.3.4",
       "error_msg": "No error",
       "layout": "IPY_MODEL_617a67d1051840df82c861ecfa7d90a4",
       "rendered": true,
       "status": "Got results."
      }
     },
     "32286afaf6a64931b5f9c3b309fe9514": {
      "model_module": "jp_proxy_widget",
      "model_module_version": "^0.3.4",
      "model_name": "JSProxyModel",
      "state": {
       "_model_module_version": "^0.3.4",
       "_send_counter": 8,
       "_view_module_version": "^0.3.4",
       "error_msg": "No error",
       "layout": "IPY_MODEL_0902f1e0121f44f4ade5f433a169153e",
       "rendered": true,
       "status": "Got results."
      }
     },
     "324b311704f54b9abce656e76622a781": {
      "model_module": "@jupyter-widgets/base",
      "model_module_version": "1.0.0",
      "model_name": "LayoutModel",
      "state": {}
     },
     "325852e1105a4a1e9e3feabdf7fccb69": {
      "model_module": "jp_proxy_widget",
      "model_module_version": "^0.3.4",
      "model_name": "JSProxyModel",
      "state": {
       "_model_module_version": "^0.3.4",
       "_send_counter": 2,
       "_view_module_version": "^0.3.4",
       "error_msg": "No error",
       "layout": "IPY_MODEL_6f033d0cf905409485e596a42ba2feb1",
       "rendered": true,
       "status": "Got results."
      }
     },
     "327ce8f301b44573b031fe70ae1d656d": {
      "model_module": "@jupyter-widgets/base",
      "model_module_version": "1.0.0",
      "model_name": "LayoutModel",
      "state": {}
     },
     "33b20b95ff914fc58d4d0e047d32fa89": {
      "model_module": "@jupyter-widgets/controls",
      "model_module_version": "1.0.0",
      "model_name": "VBoxModel",
      "state": {
       "children": [
        "IPY_MODEL_3f18ea8232a9482487ca8e73f429f358",
        "IPY_MODEL_1051c538618342d5aac233c6af624ee6"
       ],
       "layout": "IPY_MODEL_99e36a4fda3947b0b5b32548c559e233"
      }
     },
     "34f077f3d02348319137cf1ddb6cdaef": {
      "model_module": "@jupyter-widgets/base",
      "model_module_version": "1.0.0",
      "model_name": "LayoutModel",
      "state": {}
     },
     "34ff22ed65d445569ff503932b195645": {
      "model_module": "@jupyter-widgets/controls",
      "model_module_version": "1.0.0",
      "model_name": "VBoxModel",
      "state": {
       "children": [
        "IPY_MODEL_a877dfb60708444583c9a8667e08661e",
        "IPY_MODEL_fc4ebfd7c9e54f2bba12f2710d043edc"
       ],
       "layout": "IPY_MODEL_9a5452507950413abbed06f3e003138c"
      }
     },
     "35051dfda78a4adbbf19fca2fb42d62a": {
      "model_module": "@jupyter-widgets/base",
      "model_module_version": "1.0.0",
      "model_name": "LayoutModel",
      "state": {}
     },
     "353e1936c9de472ca982a41c7387a5f5": {
      "model_module": "@jupyter-widgets/base",
      "model_module_version": "1.0.0",
      "model_name": "LayoutModel",
      "state": {}
     },
     "35650ec855354248adad24affc5ad32c": {
      "model_module": "jp_proxy_widget",
      "model_module_version": "^0.3.4",
      "model_name": "JSProxyModel",
      "state": {
       "_model_module_version": "^0.3.4",
       "_send_counter": 8,
       "_view_module_version": "^0.3.4",
       "error_msg": "No error",
       "layout": "IPY_MODEL_a048771136ff4be497951a5d4bef8bd7",
       "rendered": true,
       "status": "Got results."
      }
     },
     "35bc703698f84a0fa1c0fc77f1bffb8b": {
      "model_module": "@jupyter-widgets/controls",
      "model_module_version": "1.0.0",
      "model_name": "VBoxModel",
      "state": {
       "children": [
        "IPY_MODEL_4b618b72f4bf46a6ba1bf7c6782eadd0",
        "IPY_MODEL_f41bf5675aa7475c9fea9dc4157d8fd5"
       ],
       "layout": "IPY_MODEL_2483482faa134149b4c8c8b412b12bb0"
      }
     },
     "36b3e2daf70c4a3d8d8cba8f781c96dc": {
      "model_module": "@jupyter-widgets/base",
      "model_module_version": "1.0.0",
      "model_name": "LayoutModel",
      "state": {}
     },
     "36e062d4b6ff45f69d0a1fc88c3b21aa": {
      "model_module": "@jupyter-widgets/base",
      "model_module_version": "1.0.0",
      "model_name": "LayoutModel",
      "state": {}
     },
     "375d84e7a3f64c1187691020dfc877f2": {
      "model_module": "@jupyter-widgets/controls",
      "model_module_version": "1.0.0",
      "model_name": "DescriptionStyleModel",
      "state": {
       "description_width": ""
      }
     },
     "37a2a009732149e58076583e5fed7db0": {
      "model_module": "@jupyter-widgets/base",
      "model_module_version": "1.0.0",
      "model_name": "LayoutModel",
      "state": {}
     },
     "37d0384f1927452d8fdf23ee015c6aa0": {
      "model_module": "@jupyter-widgets/base",
      "model_module_version": "1.0.0",
      "model_name": "LayoutModel",
      "state": {}
     },
     "385b41ebdc5e45b9b027ec5940133311": {
      "model_module": "@jupyter-widgets/base",
      "model_module_version": "1.0.0",
      "model_name": "LayoutModel",
      "state": {}
     },
     "388994d0f0dd4b588b19178b3efa8d2e": {
      "model_module": "@jupyter-widgets/controls",
      "model_module_version": "1.0.0",
      "model_name": "DescriptionStyleModel",
      "state": {
       "description_width": ""
      }
     },
     "38acbbeec7814ddea071ea22c5f2d6a2": {
      "model_module": "jp_proxy_widget",
      "model_module_version": "^0.3.4",
      "model_name": "JSProxyModel",
      "state": {
       "_model_module_version": "^0.3.4",
       "_send_counter": 8,
       "_view_module_version": "^0.3.4",
       "error_msg": "No error",
       "layout": "IPY_MODEL_1721312fdbb5483a98af138a74fb1479",
       "rendered": true,
       "status": "Got results."
      }
     },
     "38c5f5cb76d0439da7f49bf21d8d89d0": {
      "model_module": "@jupyter-widgets/base",
      "model_module_version": "1.0.0",
      "model_name": "LayoutModel",
      "state": {}
     },
     "39033cd010f7491485a07c58b7fbd668": {
      "model_module": "jp_proxy_widget",
      "model_module_version": "^0.3.4",
      "model_name": "JSProxyModel",
      "state": {
       "_model_module_version": "^0.3.4",
       "_send_counter": 2,
       "_view_module_version": "^0.3.4",
       "error_msg": "No error",
       "layout": "IPY_MODEL_b7e6ad4e24a346ec97a9f7a36d9f8c3b",
       "rendered": true,
       "status": "Got results."
      }
     },
     "392d8e69002a466ebfd995754ca99066": {
      "model_module": "@jupyter-widgets/base",
      "model_module_version": "1.0.0",
      "model_name": "LayoutModel",
      "state": {}
     },
     "39d34df79214465da6bb916341dc507d": {
      "model_module": "@jupyter-widgets/controls",
      "model_module_version": "1.0.0",
      "model_name": "DescriptionStyleModel",
      "state": {
       "description_width": ""
      }
     },
     "3abbf1ffff3648c5b564612a6a603c51": {
      "model_module": "@jupyter-widgets/controls",
      "model_module_version": "1.0.0",
      "model_name": "TabModel",
      "state": {
       "_titles": {
        "0": "Canvas",
        "1": "Snapshot"
       },
       "children": [
        "IPY_MODEL_f423ca6dee4542bf9a5e4801c4e0a2dd",
        "IPY_MODEL_49f7108aba3b42d7ae4acd3fb8fd8c80"
       ],
       "layout": "IPY_MODEL_93038727bee247d1a14abc0559f395d6"
      }
     },
     "3adb756f6b5f42ee8654f730349d4345": {
      "model_module": "@jupyter-widgets/base",
      "model_module_version": "1.0.0",
      "model_name": "LayoutModel",
      "state": {}
     },
     "3b87b7fc007045d99bd8b2e15cbfcb73": {
      "model_module": "jp_proxy_widget",
      "model_module_version": "^0.3.4",
      "model_name": "JSProxyModel",
      "state": {
       "_model_module_version": "^0.3.4",
       "_send_counter": 2,
       "_view_module_version": "^0.3.4",
       "error_msg": "No error",
       "layout": "IPY_MODEL_ec89f6758c744ec28bb2a55de94fa568",
       "rendered": true,
       "status": "Got results."
      }
     },
     "3c2da9b9eb19496b84d19797f8e1bfdb": {
      "model_module": "@jupyter-widgets/controls",
      "model_module_version": "1.0.0",
      "model_name": "HTMLModel",
      "state": {
       "layout": "IPY_MODEL_0666ca0513dc49f6b9a91aa65e3729e8",
       "style": "IPY_MODEL_8be0a2d04f7a4589993ca356bbfd75ea",
       "value": "<img src=\"editted polygon.png\" id=\"snapshot_id_37_1536163827453\"/>\n <div id=\"snapshot_id_38_1536163827453\">editted polygon.png</div>"
      }
     },
     "3c8197af732b4c6ea30d2cf83941b4af": {
      "model_module": "jp_proxy_widget",
      "model_module_version": "^0.3.4",
      "model_name": "JSProxyModel",
      "state": {
       "_model_module_version": "^0.3.4",
       "_send_counter": 2,
       "_view_module_version": "^0.3.4",
       "error_msg": "No error",
       "layout": "IPY_MODEL_a95d280b7afe411796167eaa8f70cf5d",
       "rendered": true,
       "status": "Got results."
      }
     },
     "3c9404d394dc4680b67210beb6df55b3": {
      "model_module": "jp_proxy_widget",
      "model_module_version": "^0.3.4",
      "model_name": "JSProxyModel",
      "state": {
       "_model_module_version": "^0.3.4",
       "_send_counter": 22,
       "_view_module_version": "^0.3.4",
       "error_msg": "No error",
       "layout": "IPY_MODEL_a3b82f3e499144129050575bbd863167",
       "rendered": true,
       "status": "Got results."
      }
     },
     "3c9eb9152dfd485ab5b199479912dcd4": {
      "model_module": "@jupyter-widgets/controls",
      "model_module_version": "1.0.0",
      "model_name": "VBoxModel",
      "state": {
       "children": [
        "IPY_MODEL_3c9404d394dc4680b67210beb6df55b3",
        "IPY_MODEL_5e909f45e676483fa6c23acb724631de"
       ],
       "layout": "IPY_MODEL_dec5c678789b41179306a34a2193065e"
      }
     },
     "3d415e23f55847caa172c7f9ed5cfb95": {
      "model_module": "jp_proxy_widget",
      "model_module_version": "^0.3.4",
      "model_name": "JSProxyModel",
      "state": {
       "_model_module_version": "^0.3.4",
       "_send_counter": 2,
       "_view_module_version": "^0.3.4",
       "error_msg": "No error",
       "layout": "IPY_MODEL_cad14892131d4c6ab7fc68e3abb301c0",
       "rendered": true,
       "status": "Got results."
      }
     },
     "3db7f80a4c0447e0998478a9ad15c8bd": {
      "model_module": "@jupyter-widgets/base",
      "model_module_version": "1.0.0",
      "model_name": "LayoutModel",
      "state": {}
     },
     "3de761f2086146e1a4986dcd5aabdc3a": {
      "model_module": "@jupyter-widgets/base",
      "model_module_version": "1.0.0",
      "model_name": "LayoutModel",
      "state": {}
     },
     "3df0446a280a4bffb15d6431c38a3fa3": {
      "model_module": "@jupyter-widgets/base",
      "model_module_version": "1.0.0",
      "model_name": "LayoutModel",
      "state": {}
     },
     "3e1a07dbd90a439c92c10adea0650ac0": {
      "model_module": "jp_proxy_widget",
      "model_module_version": "^0.3.4",
      "model_name": "JSProxyModel",
      "state": {
       "_model_module_version": "^0.3.4",
       "_send_counter": 2,
       "_view_module_version": "^0.3.4",
       "error_msg": "No error",
       "layout": "IPY_MODEL_1ce1f0908cc8406b8ffbeb57f72267e2",
       "rendered": true,
       "status": "Got results."
      }
     },
     "3e7781bf16384b98a44f18d0903a3297": {
      "model_module": "@jupyter-widgets/controls",
      "model_module_version": "1.0.0",
      "model_name": "TabModel",
      "state": {
       "_titles": {
        "0": "Canvas",
        "1": "Snapshot"
       },
       "children": [
        "IPY_MODEL_b9fc4cef1d8142cf809b62aa4e43dfd0",
        "IPY_MODEL_4c408973ff7a4aadb88de31be33941e7"
       ],
       "layout": "IPY_MODEL_4f8d97e801fd4da5a6b7c4ca33f008d8"
      }
     },
     "3eb047259ffa4c78a0d3f63866f4e91d": {
      "model_module": "jp_proxy_widget",
      "model_module_version": "^0.3.4",
      "model_name": "JSProxyModel",
      "state": {
       "_model_module_version": "^0.3.4",
       "_send_counter": 2,
       "_view_module_version": "^0.3.4",
       "error_msg": "No error",
       "layout": "IPY_MODEL_2b0f2405332c45f3afd8d7584236a8dd",
       "rendered": true,
       "status": "Got results."
      }
     },
     "3f0a1d1c9c204472bcd27f8cd6ce269e": {
      "model_module": "@jupyter-widgets/controls",
      "model_module_version": "1.0.0",
      "model_name": "TabModel",
      "state": {
       "_titles": {
        "0": "Canvas",
        "1": "Snapshot"
       },
       "children": [
        "IPY_MODEL_44e5589e818648278acc902c4fe12c5a",
        "IPY_MODEL_846ac3b4448049989d7952b9d55da481"
       ],
       "layout": "IPY_MODEL_6711732ffe6a4a5e924e62b79fe28403"
      }
     },
     "3f18ea8232a9482487ca8e73f429f358": {
      "model_module": "jp_proxy_widget",
      "model_module_version": "^0.3.4",
      "model_name": "JSProxyModel",
      "state": {
       "_model_module_version": "^0.3.4",
       "_send_counter": 8,
       "_view_module_version": "^0.3.4",
       "error_msg": "No error",
       "layout": "IPY_MODEL_9d3b9b757113445d99b8d0f6fea99b4f",
       "rendered": true,
       "status": "Got results."
      }
     },
     "402cf12b473543c1b46fe7e87c98bc59": {
      "model_module": "@jupyter-widgets/controls",
      "model_module_version": "1.0.0",
      "model_name": "DescriptionStyleModel",
      "state": {
       "description_width": ""
      }
     },
     "40358103c25440cf9347b2685b723b3d": {
      "model_module": "@jupyter-widgets/controls",
      "model_module_version": "1.0.0",
      "model_name": "TabModel",
      "state": {
       "_titles": {
        "0": "Canvas",
        "1": "Snapshot"
       },
       "children": [
        "IPY_MODEL_d958a9f62ea04c788e8d7dc1abbf4f39",
        "IPY_MODEL_eb330d9fba5240aa90c2bc08e41975b5"
       ],
       "layout": "IPY_MODEL_789c20f7c76a42d3b6dbe11633bec745",
       "selected_index": 1
      }
     },
     "40473cbcfbbf47cba1863fa66529ef4e": {
      "model_module": "@jupyter-widgets/controls",
      "model_module_version": "1.0.0",
      "model_name": "VBoxModel",
      "state": {
       "children": [
        "IPY_MODEL_0a0010b5ba534391a48a600d06460c08",
        "IPY_MODEL_6162eafe8f74461ba977fee4ffaa043a"
       ],
       "layout": "IPY_MODEL_8ca9679546464b5ba4e5a2cbada68043"
      }
     },
     "406e13cfea3c495ebb89585e7282da79": {
      "model_module": "@jupyter-widgets/base",
      "model_module_version": "1.0.0",
      "model_name": "LayoutModel",
      "state": {}
     },
     "4089cab3e544471e8977cb837155218c": {
      "model_module": "@jupyter-widgets/controls",
      "model_module_version": "1.0.0",
      "model_name": "TabModel",
      "state": {
       "_titles": {
        "0": "Canvas",
        "1": "Snapshot"
       },
       "children": [
        "IPY_MODEL_34ff22ed65d445569ff503932b195645",
        "IPY_MODEL_563d195fb5c54acbb37e2883f0e60559"
       ],
       "layout": "IPY_MODEL_6b16d1f5064049039bc27e18bf383896"
      }
     },
     "40936957e6d34b55a0e6a5afb78e0b90": {
      "model_module": "@jupyter-widgets/controls",
      "model_module_version": "1.0.0",
      "model_name": "TabModel",
      "state": {
       "_titles": {
        "0": "Canvas",
        "1": "Snapshot"
       },
       "children": [
        "IPY_MODEL_daf7d4cf8a5245dfa5bdf6ef38a7e6aa",
        "IPY_MODEL_f574526291cc4965bfee9e148317b44b"
       ],
       "layout": "IPY_MODEL_c5a6f39dbdc542d88167f8a88ec26a68"
      }
     },
     "40f6ec54220d44359cb9168d0e051c70": {
      "model_module": "jp_proxy_widget",
      "model_module_version": "^0.3.4",
      "model_name": "JSProxyModel",
      "state": {
       "_model_module_version": "^0.3.4",
       "_send_counter": 2,
       "_view_module_version": "^0.3.4",
       "error_msg": "No error",
       "layout": "IPY_MODEL_30578b827a7747b09d3af49e560d428c",
       "rendered": true,
       "status": "Got results."
      }
     },
     "423a212905da43339aae1a38ddf8d93a": {
      "model_module": "@jupyter-widgets/controls",
      "model_module_version": "1.0.0",
      "model_name": "DescriptionStyleModel",
      "state": {
       "description_width": ""
      }
     },
     "42cf1c34cf344b62a99dcb3792f28055": {
      "model_module": "@jupyter-widgets/base",
      "model_module_version": "1.0.0",
      "model_name": "LayoutModel",
      "state": {}
     },
     "4393eea9491a47ca9515a6c2d9a90c6e": {
      "model_module": "@jupyter-widgets/base",
      "model_module_version": "1.0.0",
      "model_name": "LayoutModel",
      "state": {}
     },
     "43c22efc615d44239e638b1b1ff05579": {
      "model_module": "@jupyter-widgets/base",
      "model_module_version": "1.0.0",
      "model_name": "LayoutModel",
      "state": {}
     },
     "4470c6d14c4d4392a31669b07b840333": {
      "model_module": "@jupyter-widgets/base",
      "model_module_version": "1.0.0",
      "model_name": "LayoutModel",
      "state": {}
     },
     "44726e092b1d4d37a3530d42e0d8613a": {
      "model_module": "@jupyter-widgets/base",
      "model_module_version": "1.0.0",
      "model_name": "LayoutModel",
      "state": {}
     },
     "44c6686c680842ffa0fa969803e15eee": {
      "model_module": "@jupyter-widgets/controls",
      "model_module_version": "1.0.0",
      "model_name": "HTMLModel",
      "state": {
       "layout": "IPY_MODEL_8ed1803d5ac645e5bae98f11806e7a6b",
       "style": "IPY_MODEL_ecdd957b902b4e349127b7bfd0f7b5f4",
       "value": "<img src=\"editted polygon.png\" id=\"snapshot_id_25_1536162809159\"/>\n <div id=\"snapshot_id_26_1536162809159\">editted polygon.png</div>"
      }
     },
     "44e5589e818648278acc902c4fe12c5a": {
      "model_module": "@jupyter-widgets/controls",
      "model_module_version": "1.0.0",
      "model_name": "VBoxModel",
      "state": {
       "children": [
        "IPY_MODEL_93856d64be134b72a0453f023f98bf14",
        "IPY_MODEL_df12d9d32f1948f4987e1368cd5c0b01"
       ],
       "layout": "IPY_MODEL_a343de6332014b5687e02bd3eac1540e"
      }
     },
     "44eff55f58ae4f45b059c239830822a8": {
      "model_module": "@jupyter-widgets/controls",
      "model_module_version": "1.0.0",
      "model_name": "TabModel",
      "state": {
       "_titles": {
        "0": "Canvas",
        "1": "Snapshot"
       },
       "children": [
        "IPY_MODEL_6987b6a3037142a898555ddf925ffb9a",
        "IPY_MODEL_ef3989fff0af4cbe9e1e55da05f5b2d0"
       ],
       "layout": "IPY_MODEL_392d8e69002a466ebfd995754ca99066"
      }
     },
     "451702c8f79d4155b1aa0a3347d9f3c3": {
      "model_module": "@jupyter-widgets/base",
      "model_module_version": "1.0.0",
      "model_name": "LayoutModel",
      "state": {}
     },
     "451f6337b4b74e149c475d4ebab81e7e": {
      "model_module": "@jupyter-widgets/base",
      "model_module_version": "1.0.0",
      "model_name": "LayoutModel",
      "state": {}
     },
     "4550f7eaa66545198cf4f92e70876568": {
      "model_module": "@jupyter-widgets/base",
      "model_module_version": "1.0.0",
      "model_name": "LayoutModel",
      "state": {}
     },
     "4628de94f0e7486097944328d433d124": {
      "model_module": "@jupyter-widgets/controls",
      "model_module_version": "1.0.0",
      "model_name": "TabModel",
      "state": {
       "_titles": {
        "0": "Canvas",
        "1": "Snapshot"
       },
       "children": [
        "IPY_MODEL_95d0e5d4de4c4b078e38343ffcd7b8b0",
        "IPY_MODEL_b4353842b159404bb91465905248c329"
       ],
       "layout": "IPY_MODEL_d2290b2984444e0784db9bf60c41a921"
      }
     },
     "462fa2c3e01843b1a674172825277a31": {
      "model_module": "@jupyter-widgets/base",
      "model_module_version": "1.0.0",
      "model_name": "LayoutModel",
      "state": {}
     },
     "4678e065a4364b13abb296c9f22d7ca6": {
      "model_module": "@jupyter-widgets/controls",
      "model_module_version": "1.0.0",
      "model_name": "DescriptionStyleModel",
      "state": {
       "description_width": ""
      }
     },
     "46acca7e2c8e4a65b297e29dc696f912": {
      "model_module": "@jupyter-widgets/controls",
      "model_module_version": "1.0.0",
      "model_name": "DescriptionStyleModel",
      "state": {
       "description_width": ""
      }
     },
     "470a5363fae540a6aa77c6e196ac873d": {
      "model_module": "@jupyter-widgets/controls",
      "model_module_version": "1.0.0",
      "model_name": "VBoxModel",
      "state": {
       "children": [
        "IPY_MODEL_159ea404f5f647438e2bd40dbbe91cd1",
        "IPY_MODEL_06942139d3ab4041a687af88433088fb"
       ],
       "layout": "IPY_MODEL_318d27ee33f74887bc917999c0008675"
      }
     },
     "47541a70e39641c99260c810fdb3ab7d": {
      "model_module": "@jupyter-widgets/controls",
      "model_module_version": "1.0.0",
      "model_name": "VBoxModel",
      "state": {
       "children": [
        "IPY_MODEL_b400bd4ebe0149e7b7d2b67182194eb2",
        "IPY_MODEL_86b10db7d4b748fda7f5aa87e0c94689"
       ],
       "layout": "IPY_MODEL_31b141f7e14843d0bc509cffebecea69"
      }
     },
     "479617eac0504fb69565a679aec071e1": {
      "model_module": "@jupyter-widgets/base",
      "model_module_version": "1.0.0",
      "model_name": "LayoutModel",
      "state": {}
     },
     "479fd10eb59240aa871341beb8278905": {
      "model_module": "@jupyter-widgets/base",
      "model_module_version": "1.0.0",
      "model_name": "LayoutModel",
      "state": {}
     },
     "47ba8aee11254813a1593804a9d68fb6": {
      "model_module": "@jupyter-widgets/controls",
      "model_module_version": "1.0.0",
      "model_name": "TabModel",
      "state": {
       "_titles": {
        "0": "Canvas",
        "1": "Snapshot"
       },
       "children": [
        "IPY_MODEL_33b20b95ff914fc58d4d0e047d32fa89",
        "IPY_MODEL_6297fd3cb938466a930b49f1dc305653"
       ],
       "layout": "IPY_MODEL_64e49d41cde549c58210f06435b91e1f"
      }
     },
     "481d3371c7014189b6d3402e1518bd28": {
      "model_module": "@jupyter-widgets/controls",
      "model_module_version": "1.0.0",
      "model_name": "HTMLModel",
      "state": {
       "layout": "IPY_MODEL_7c684219c8d04943b8df0948a69240e0",
       "style": "IPY_MODEL_e9d1b5bfc1d74a52bd1d6bca4946c916",
       "value": "<img src=\"editted polygon.png\" id=\"snapshot_id_39_1536164293428\"/>\n <div id=\"snapshot_id_40_1536164293428\">editted polygon.png</div>"
      }
     },
     "483a6fe6fc1b4477bfad7fe9f4992cb2": {
      "model_module": "@jupyter-widgets/base",
      "model_module_version": "1.0.0",
      "model_name": "LayoutModel",
      "state": {}
     },
     "484834ceeead49e3ac52bf09c2ed4a83": {
      "model_module": "@jupyter-widgets/controls",
      "model_module_version": "1.0.0",
      "model_name": "DescriptionStyleModel",
      "state": {
       "description_width": ""
      }
     },
     "48c574e4d5eb4e4bbb63df2a4bb6cb20": {
      "model_module": "@jupyter-widgets/base",
      "model_module_version": "1.0.0",
      "model_name": "LayoutModel",
      "state": {}
     },
     "48f8fcc161714f1dbee9a910b5b2152d": {
      "model_module": "jp_proxy_widget",
      "model_module_version": "^0.3.4",
      "model_name": "JSProxyModel",
      "state": {
       "_model_module_version": "^0.3.4",
       "_send_counter": 8,
       "_view_module_version": "^0.3.4",
       "error_msg": "No error",
       "layout": "IPY_MODEL_a245a13326be4fe3a9976b4e431fc8b7",
       "rendered": true,
       "status": "Got results."
      }
     },
     "497b739478af430bbd02be6e823f37c5": {
      "model_module": "@jupyter-widgets/base",
      "model_module_version": "1.0.0",
      "model_name": "LayoutModel",
      "state": {}
     },
     "49e430f1484640cea175e684ec8faa6a": {
      "model_module": "@jupyter-widgets/base",
      "model_module_version": "1.0.0",
      "model_name": "LayoutModel",
      "state": {}
     },
     "49f7108aba3b42d7ae4acd3fb8fd8c80": {
      "model_module": "@jupyter-widgets/controls",
      "model_module_version": "1.0.0",
      "model_name": "HTMLModel",
      "state": {
       "layout": "IPY_MODEL_1272b5ac68444ab1a0e8c3ed3ac41c5e",
       "style": "IPY_MODEL_07f3301bbb9840f7afa9de190e4b7be9",
       "value": "<img src=\"editted polygon.png\" id=\"snapshot_id_33_1536163637731\"/>\n <div id=\"snapshot_id_34_1536163637731\">editted polygon.png</div>"
      }
     },
     "4b618b72f4bf46a6ba1bf7c6782eadd0": {
      "model_module": "jp_proxy_widget",
      "model_module_version": "^0.3.4",
      "model_name": "JSProxyModel",
      "state": {
       "_model_module_version": "^0.3.4",
       "_send_counter": 8,
       "_view_module_version": "^0.3.4",
       "error_msg": "No error",
       "layout": "IPY_MODEL_55600dbdbc06433a800af724ba98c365",
       "rendered": true,
       "status": "Got results."
      }
     },
     "4bc3c25c1a764d73a338e55699d3627c": {
      "model_module": "@jupyter-widgets/base",
      "model_module_version": "1.0.0",
      "model_name": "LayoutModel",
      "state": {}
     },
     "4c408973ff7a4aadb88de31be33941e7": {
      "model_module": "@jupyter-widgets/controls",
      "model_module_version": "1.0.0",
      "model_name": "HTMLModel",
      "state": {
       "layout": "IPY_MODEL_e0d4b977eccd49d983372b267a4ff032",
       "style": "IPY_MODEL_1cde1e71e3304ef88d50f7ff1cc6ccbb",
       "value": "<img src=\"rotated_spider.png\" id=\"snapshot_id_17_1536154876838\"/>\n <div id=\"snapshot_id_18_1536154876838\">rotated_spider.png</div>"
      }
     },
     "4c40e0a9704e4984b9d4ea61031927da": {
      "model_module": "jp_proxy_widget",
      "model_module_version": "^0.3.4",
      "model_name": "JSProxyModel",
      "state": {
       "_model_module_version": "^0.3.4",
       "_send_counter": 2,
       "_view_module_version": "^0.3.4",
       "error_msg": "No error",
       "layout": "IPY_MODEL_f93113183e184bafa4a298ee82668c2a",
       "rendered": true,
       "status": "Got results."
      }
     },
     "4c49e191f4a7440fa09c1effe754d207": {
      "model_module": "@jupyter-widgets/base",
      "model_module_version": "1.0.0",
      "model_name": "LayoutModel",
      "state": {}
     },
     "4cbca3f53e584c9daba38272b9d06245": {
      "model_module": "jp_proxy_widget",
      "model_module_version": "^0.3.4",
      "model_name": "JSProxyModel",
      "state": {
       "_model_module_version": "^0.3.4",
       "_send_counter": 2,
       "_view_module_version": "^0.3.4",
       "error_msg": "No error",
       "layout": "IPY_MODEL_adfc042a5cb945acb60a96bdd2af723b",
       "rendered": true,
       "status": "Got results."
      }
     },
     "4d4d839ddb8d45cba8084fdacda4c33c": {
      "model_module": "@jupyter-widgets/controls",
      "model_module_version": "1.0.0",
      "model_name": "VBoxModel",
      "state": {
       "children": [
        "IPY_MODEL_f99f956fc8a949f4aed56548bcf7b4e2",
        "IPY_MODEL_27c9be5c2c76467fa84ef471f0c2fb66"
       ],
       "layout": "IPY_MODEL_ff03c23e55304e9a8adc909230da6461"
      }
     },
     "4e0ad273bfe24351acc07d70c690a698": {
      "model_module": "@jupyter-widgets/base",
      "model_module_version": "1.0.0",
      "model_name": "LayoutModel",
      "state": {}
     },
     "4e2cf2a8cf59477ca2434b06397a2f79": {
      "model_module": "@jupyter-widgets/base",
      "model_module_version": "1.0.0",
      "model_name": "LayoutModel",
      "state": {}
     },
     "4e4da35036e84f318d119e85150264c0": {
      "model_module": "@jupyter-widgets/controls",
      "model_module_version": "1.0.0",
      "model_name": "HTMLModel",
      "state": {
       "layout": "IPY_MODEL_ce4b4b6f17b847229aad640a23b89f1f",
       "style": "IPY_MODEL_d8ca86444d7d4325a7eec4aaeac523e3",
       "value": "<img src=\"editted polygon.png\" id=\"snapshot_id_64_1536168459072\"/>\n <div id=\"snapshot_id_65_1536168459072\">editted polygon.png</div>"
      }
     },
     "4e573c2d44254de5a8bf792fbb2e3c27": {
      "model_module": "@jupyter-widgets/controls",
      "model_module_version": "1.0.0",
      "model_name": "HTMLModel",
      "state": {
       "layout": "IPY_MODEL_81bb2b5bd38847ed8b54de2f39e8de87",
       "style": "IPY_MODEL_65423249598b43dd864f1d24b630cbe1",
       "value": "<img src=\"rotated_spider.png\" id=\"snapshot_id_3_1536158953096\"/>\n <div id=\"snapshot_id_4_1536158953096\">rotated_spider.png</div>"
      }
     },
     "4ef23a1a076349f0951d30720cb3e74e": {
      "model_module": "@jupyter-widgets/base",
      "model_module_version": "1.0.0",
      "model_name": "LayoutModel",
      "state": {}
     },
     "4f22bd054845423cb209ff9456d0292a": {
      "model_module": "jp_proxy_widget",
      "model_module_version": "^0.3.4",
      "model_name": "JSProxyModel",
      "state": {
       "_model_module_version": "^0.3.4",
       "_send_counter": 10,
       "_view_module_version": "^0.3.4",
       "error_msg": "No error",
       "layout": "IPY_MODEL_bc5862895836428292b93bfb302ca650",
       "rendered": true,
       "status": "Got results."
      }
     },
     "4f4e3ed718194c1899ef47ee37e7c0b7": {
      "model_module": "@jupyter-widgets/controls",
      "model_module_version": "1.0.0",
      "model_name": "TabModel",
      "state": {
       "_titles": {
        "0": "Canvas",
        "1": "Snapshot"
       },
       "children": [
        "IPY_MODEL_e05c066b56584daea4b9cc34799792e1",
        "IPY_MODEL_257ce653c0fe48588575702768ffd051"
       ],
       "layout": "IPY_MODEL_e65664c146974b22a42af74829fe2ee5"
      }
     },
     "4f4f67237adf4d7c9808ff2ae2948c0b": {
      "model_module": "@jupyter-widgets/base",
      "model_module_version": "1.0.0",
      "model_name": "LayoutModel",
      "state": {}
     },
     "4f8d97e801fd4da5a6b7c4ca33f008d8": {
      "model_module": "@jupyter-widgets/base",
      "model_module_version": "1.0.0",
      "model_name": "LayoutModel",
      "state": {}
     },
     "4fa3978e634e41ee8fa614cec1b898e7": {
      "model_module": "@jupyter-widgets/controls",
      "model_module_version": "1.0.0",
      "model_name": "DescriptionStyleModel",
      "state": {
       "description_width": ""
      }
     },
     "500b87287c09454bb4178b41e14ffec3": {
      "model_module": "@jupyter-widgets/base",
      "model_module_version": "1.0.0",
      "model_name": "LayoutModel",
      "state": {}
     },
     "5059841b7e2a4a7a89a86bc13924b02e": {
      "model_module": "@jupyter-widgets/base",
      "model_module_version": "1.0.0",
      "model_name": "LayoutModel",
      "state": {}
     },
     "50e04f9436e64280bfb0c0989297faa2": {
      "model_module": "@jupyter-widgets/base",
      "model_module_version": "1.0.0",
      "model_name": "LayoutModel",
      "state": {}
     },
     "5148a26dddc8491795a3d6a47f5b9c67": {
      "model_module": "@jupyter-widgets/controls",
      "model_module_version": "1.0.0",
      "model_name": "TabModel",
      "state": {
       "_titles": {
        "0": "Canvas",
        "1": "Snapshot"
       },
       "children": [
        "IPY_MODEL_be27ccae9ebf41ccaf69834582599f4b",
        "IPY_MODEL_ed499fbbd54d443cba4ee5f7ce0d208e"
       ],
       "layout": "IPY_MODEL_2eabaac2276e4337b25979bc83704d8f"
      }
     },
     "518db9ced59249b99cee65043c39e71a": {
      "model_module": "@jupyter-widgets/base",
      "model_module_version": "1.0.0",
      "model_name": "LayoutModel",
      "state": {}
     },
     "51d8741659d34238a438279cb4b777a4": {
      "model_module": "@jupyter-widgets/controls",
      "model_module_version": "1.0.0",
      "model_name": "HTMLModel",
      "state": {
       "layout": "IPY_MODEL_db6dfe509d9b46b09d4c7a9d7eb5cc01",
       "style": "IPY_MODEL_8707e08acefb4bf1918247b1242895fa",
       "value": "<img src=\"rotated_spider.png\" id=\"snapshot_id_5_1536157424588\"/>\n <div id=\"snapshot_id_6_1536157424588\">rotated_spider.png</div>"
      }
     },
     "5222de2a9c2b4ef38381c856ddce7bc9": {
      "model_module": "@jupyter-widgets/base",
      "model_module_version": "1.0.0",
      "model_name": "LayoutModel",
      "state": {}
     },
     "543bb1e44f92433385855d274406896c": {
      "model_module": "@jupyter-widgets/controls",
      "model_module_version": "1.0.0",
      "model_name": "DescriptionStyleModel",
      "state": {
       "description_width": ""
      }
     },
     "55600dbdbc06433a800af724ba98c365": {
      "model_module": "@jupyter-widgets/base",
      "model_module_version": "1.0.0",
      "model_name": "LayoutModel",
      "state": {}
     },
     "563d195fb5c54acbb37e2883f0e60559": {
      "model_module": "@jupyter-widgets/controls",
      "model_module_version": "1.0.0",
      "model_name": "HTMLModel",
      "state": {
       "layout": "IPY_MODEL_19c94341f6ed4b968e4ca12010af066e",
       "style": "IPY_MODEL_388994d0f0dd4b588b19178b3efa8d2e",
       "value": "<img src=\"editted polygon.png\" id=\"snapshot_id_62_1536168437951\"/>\n <div id=\"snapshot_id_63_1536168437951\">editted polygon.png</div>"
      }
     },
     "56fdc6d554d14ea9ab4b2e7482260887": {
      "model_module": "jp_proxy_widget",
      "model_module_version": "^0.3.4",
      "model_name": "JSProxyModel",
      "state": {
       "_model_module_version": "^0.3.4",
       "_send_counter": 15,
       "_view_module_version": "^0.3.4",
       "error_msg": "No error",
       "layout": "IPY_MODEL_e88aaa5991ea4f30b520e73d4353f588",
       "rendered": true,
       "status": "Got results."
      }
     },
     "5774e78d6146454682ef385ea5ac67be": {
      "model_module": "@jupyter-widgets/base",
      "model_module_version": "1.0.0",
      "model_name": "LayoutModel",
      "state": {}
     },
     "57e2a81bbe4d43b2839e23fbcd8b9ec7": {
      "model_module": "@jupyter-widgets/controls",
      "model_module_version": "1.0.0",
      "model_name": "HTMLModel",
      "state": {
       "layout": "IPY_MODEL_43c22efc615d44239e638b1b1ff05579",
       "style": "IPY_MODEL_a608b39f19284ec283367ab5d337358b",
       "value": "<img src=\"editted polygon.png\" id=\"snapshot_id_60_1536168415002\"/>\n <div id=\"snapshot_id_61_1536168415002\">editted polygon.png</div>"
      }
     },
     "58e932cc109d4a0dae6ac2a668c14a24": {
      "model_module": "@jupyter-widgets/controls",
      "model_module_version": "1.0.0",
      "model_name": "DescriptionStyleModel",
      "state": {
       "description_width": ""
      }
     },
     "5a2df75430504eeaafed89dc55dccd58": {
      "model_module": "jp_proxy_widget",
      "model_module_version": "^0.3.4",
      "model_name": "JSProxyModel",
      "state": {
       "_model_module_version": "^0.3.4",
       "_send_counter": 2,
       "_view_module_version": "^0.3.4",
       "error_msg": "No error",
       "layout": "IPY_MODEL_dfa3c971ab7746bd9ffbfa503a994e05",
       "rendered": true,
       "status": "Got results."
      }
     },
     "5a440135213641cfa710f992a0d643f3": {
      "model_module": "@jupyter-widgets/base",
      "model_module_version": "1.0.0",
      "model_name": "LayoutModel",
      "state": {}
     },
     "5b2146dd792c42a98ed945fc77d73e4f": {
      "model_module": "@jupyter-widgets/controls",
      "model_module_version": "1.0.0",
      "model_name": "VBoxModel",
      "state": {
       "children": [
        "IPY_MODEL_20a443f0e4c94a568686532e9c5ce603",
        "IPY_MODEL_3e1a07dbd90a439c92c10adea0650ac0"
       ],
       "layout": "IPY_MODEL_36e062d4b6ff45f69d0a1fc88c3b21aa"
      }
     },
     "5c2ea4129058465da5cfdcf7555549fe": {
      "model_module": "@jupyter-widgets/base",
      "model_module_version": "1.0.0",
      "model_name": "LayoutModel",
      "state": {}
     },
     "5c67e0b508294e56a4ebd7c0b6f82b16": {
      "model_module": "@jupyter-widgets/controls",
      "model_module_version": "1.0.0",
      "model_name": "HTMLModel",
      "state": {
       "layout": "IPY_MODEL_9ffb70b2e2144bc8abe55b2844d9e55d",
       "style": "IPY_MODEL_6f61b0e67c4f4a41a4612823c72178b9",
       "value": "<img src=\"editted polygon.png\" id=\"snapshot_id_41_1536164468688\"/>\n <div id=\"snapshot_id_42_1536164468688\">editted polygon.png</div>"
      }
     },
     "5c878c36ff6f4b90acc97e0f32c996b1": {
      "model_module": "@jupyter-widgets/base",
      "model_module_version": "1.0.0",
      "model_name": "LayoutModel",
      "state": {}
     },
     "5c9d8b0c6e674073b41ebc32adaba1ca": {
      "model_module": "@jupyter-widgets/base",
      "model_module_version": "1.0.0",
      "model_name": "LayoutModel",
      "state": {}
     },
     "5cad3da76d8b46c4acb78228a2d6456f": {
      "model_module": "jp_proxy_widget",
      "model_module_version": "^0.3.4",
      "model_name": "JSProxyModel",
      "state": {
       "_model_module_version": "^0.3.4",
       "_send_counter": 2,
       "_view_module_version": "^0.3.4",
       "error_msg": "No error",
       "layout": "IPY_MODEL_18baadb0c1bb4ef585dbd90fa3d73dd8",
       "rendered": true,
       "status": "Got results."
      }
     },
     "5ce56809ad0447eba29bf4a3daecb34b": {
      "model_module": "@jupyter-widgets/base",
      "model_module_version": "1.0.0",
      "model_name": "LayoutModel",
      "state": {}
     },
     "5d00a019fbf3456b936624792f8dc87e": {
      "model_module": "@jupyter-widgets/controls",
      "model_module_version": "1.0.0",
      "model_name": "VBoxModel",
      "state": {
       "children": [
        "IPY_MODEL_caecb03b9bea47dcb90d9aae4716253b",
        "IPY_MODEL_a5e60392470c4b67b10bb7fa53ff1ee1"
       ],
       "layout": "IPY_MODEL_76fe39c6f53f490e8be9230ab3f095d8"
      }
     },
     "5d287a7b7d9346e3ab2b5c9055efd26b": {
      "model_module": "@jupyter-widgets/controls",
      "model_module_version": "1.0.0",
      "model_name": "DescriptionStyleModel",
      "state": {
       "description_width": ""
      }
     },
     "5dfef84b72034719af5e8655445f3462": {
      "model_module": "@jupyter-widgets/controls",
      "model_module_version": "1.0.0",
      "model_name": "TabModel",
      "state": {
       "_titles": {
        "0": "Canvas",
        "1": "Snapshot"
       },
       "children": [
        "IPY_MODEL_951c86f474444f03a8b6c7e094c38155",
        "IPY_MODEL_51d8741659d34238a438279cb4b777a4"
       ],
       "layout": "IPY_MODEL_5f5d77db7c5e41eb9b275d2f6534f071"
      }
     },
     "5e909f45e676483fa6c23acb724631de": {
      "model_module": "jp_proxy_widget",
      "model_module_version": "^0.3.4",
      "model_name": "JSProxyModel",
      "state": {
       "_model_module_version": "^0.3.4",
       "_send_counter": 2,
       "_view_module_version": "^0.3.4",
       "error_msg": "No error",
       "layout": "IPY_MODEL_ebc2fdb47bf545b4af933a1074373264",
       "rendered": true,
       "status": "call back to <function callback_function at 0x10de9f050>"
      }
     },
     "5f2d7364c6a3404f9027e0348f327cbc": {
      "model_module": "@jupyter-widgets/controls",
      "model_module_version": "1.0.0",
      "model_name": "HTMLModel",
      "state": {
       "layout": "IPY_MODEL_790d8649a2134c269b14155f4ee8ee95",
       "style": "IPY_MODEL_80622ebda0f4415fb522316747d32fe4",
       "value": "<img src=\"editted polygon.png\" id=\"snapshot_id_58_1536168351596\"/>\n <div id=\"snapshot_id_59_1536168351596\">editted polygon.png</div>"
      }
     },
     "5f5d77db7c5e41eb9b275d2f6534f071": {
      "model_module": "@jupyter-widgets/base",
      "model_module_version": "1.0.0",
      "model_name": "LayoutModel",
      "state": {}
     },
     "5fc85e85fc544e2eb28d7b264daaffba": {
      "model_module": "@jupyter-widgets/base",
      "model_module_version": "1.0.0",
      "model_name": "LayoutModel",
      "state": {}
     },
     "605c435294b64baf911c1d27dba4f010": {
      "model_module": "jp_proxy_widget",
      "model_module_version": "^0.3.4",
      "model_name": "JSProxyModel",
      "state": {
       "_model_module_version": "^0.3.4",
       "_send_counter": 2,
       "_view_module_version": "^0.3.4",
       "error_msg": "No error",
       "layout": "IPY_MODEL_77808f7a4ebe470dba6d0d257b1728e5",
       "rendered": true,
       "status": "Got results."
      }
     },
     "6162eafe8f74461ba977fee4ffaa043a": {
      "model_module": "jp_proxy_widget",
      "model_module_version": "^0.3.4",
      "model_name": "JSProxyModel",
      "state": {
       "_model_module_version": "^0.3.4",
       "_send_counter": 2,
       "_view_module_version": "^0.3.4",
       "error_msg": "No error",
       "layout": "IPY_MODEL_8eea4d902172456ab69edb30f8d106fa",
       "rendered": true,
       "status": "Got results."
      }
     },
     "617a67d1051840df82c861ecfa7d90a4": {
      "model_module": "@jupyter-widgets/base",
      "model_module_version": "1.0.0",
      "model_name": "LayoutModel",
      "state": {}
     },
     "6297fd3cb938466a930b49f1dc305653": {
      "model_module": "@jupyter-widgets/controls",
      "model_module_version": "1.0.0",
      "model_name": "HTMLModel",
      "state": {
       "layout": "IPY_MODEL_6d74488943554203b9b7e9ce7964e053",
       "style": "IPY_MODEL_7e55e22e95554585a95e3e593240286e",
       "value": "<img src=\"editted polygon.png\" id=\"snapshot_id_35_1536163657726\"/>\n <div id=\"snapshot_id_36_1536163657726\">editted polygon.png</div>"
      }
     },
     "63ef7bfe129e49e38274781121b60646": {
      "model_module": "jp_proxy_widget",
      "model_module_version": "^0.3.4",
      "model_name": "JSProxyModel",
      "state": {
       "_model_module_version": "^0.3.4",
       "_send_counter": 2,
       "_view_module_version": "^0.3.4",
       "error_msg": "No error",
       "layout": "IPY_MODEL_5c878c36ff6f4b90acc97e0f32c996b1",
       "rendered": true,
       "status": "Got results."
      }
     },
     "64e49d41cde549c58210f06435b91e1f": {
      "model_module": "@jupyter-widgets/base",
      "model_module_version": "1.0.0",
      "model_name": "LayoutModel",
      "state": {}
     },
     "6515510b380241fa8e5bdb369dc70260": {
      "model_module": "jp_proxy_widget",
      "model_module_version": "^0.3.4",
      "model_name": "JSProxyModel",
      "state": {
       "_model_module_version": "^0.3.4",
       "_send_counter": 2,
       "_view_module_version": "^0.3.4",
       "error_msg": "No error",
       "layout": "IPY_MODEL_702eea9b28254f02bf03946c8e056619",
       "rendered": true,
       "status": "Got results."
      }
     },
     "6538de2395cd4dae92f7bfb76d24859c": {
      "model_module": "@jupyter-widgets/base",
      "model_module_version": "1.0.0",
      "model_name": "LayoutModel",
      "state": {}
     },
     "65423249598b43dd864f1d24b630cbe1": {
      "model_module": "@jupyter-widgets/controls",
      "model_module_version": "1.0.0",
      "model_name": "DescriptionStyleModel",
      "state": {
       "description_width": ""
      }
     },
     "65616c27458341dbbe2ac6c2e5606ade": {
      "model_module": "@jupyter-widgets/controls",
      "model_module_version": "1.0.0",
      "model_name": "DescriptionStyleModel",
      "state": {
       "description_width": ""
      }
     },
     "6648b45300414b41b8f5f27807056551": {
      "model_module": "@jupyter-widgets/controls",
      "model_module_version": "1.0.0",
      "model_name": "VBoxModel",
      "state": {
       "children": [
        "IPY_MODEL_822bc08ad3844d7d9d59211b0c190382",
        "IPY_MODEL_325852e1105a4a1e9e3feabdf7fccb69"
       ],
       "layout": "IPY_MODEL_0a458f2ad8604c1cbbf8da8aa6253cd4"
      }
     },
     "66dd41c86b274891aec4cd27cb960475": {
      "model_module": "@jupyter-widgets/base",
      "model_module_version": "1.0.0",
      "model_name": "LayoutModel",
      "state": {}
     },
     "66f9b41a6f9d419c9071610be41678a2": {
      "model_module": "jp_proxy_widget",
      "model_module_version": "^0.3.4",
      "model_name": "JSProxyModel",
      "state": {
       "_model_module_version": "^0.3.4",
       "_send_counter": 2,
       "_view_module_version": "^0.3.4",
       "error_msg": "No error",
       "layout": "IPY_MODEL_b58467cca3dd42bbb91f20c3c20a887a",
       "rendered": true,
       "status": "Got results."
      }
     },
     "6711732ffe6a4a5e924e62b79fe28403": {
      "model_module": "@jupyter-widgets/base",
      "model_module_version": "1.0.0",
      "model_name": "LayoutModel",
      "state": {}
     },
     "6735f3d9eb394f01b4b74252a97884c2": {
      "model_module": "jp_proxy_widget",
      "model_module_version": "^0.3.4",
      "model_name": "JSProxyModel",
      "state": {
       "_model_module_version": "^0.3.4",
       "_send_counter": 2,
       "_view_module_version": "^0.3.4",
       "error_msg": "No error",
       "layout": "IPY_MODEL_8321315952774bd38865867060a6ed9f",
       "rendered": true,
       "status": "call back to <function callback_function at 0x107d8f050>"
      }
     },
     "676eb859897847ecaee8715aa51042be": {
      "model_module": "jp_proxy_widget",
      "model_module_version": "^0.3.4",
      "model_name": "JSProxyModel",
      "state": {
       "_model_module_version": "^0.3.4",
       "_send_counter": 2,
       "_view_module_version": "^0.3.4",
       "error_msg": "No error",
       "layout": "IPY_MODEL_09b3b2ac3a694211b3968541b388b66b",
       "rendered": true,
       "status": "Got results."
      }
     },
     "6900cc55e05b409ab74701002034e585": {
      "model_module": "jp_proxy_widget",
      "model_module_version": "^0.3.4",
      "model_name": "JSProxyModel",
      "state": {
       "_model_module_version": "^0.3.4",
       "_send_counter": 2,
       "_view_module_version": "^0.3.4",
       "error_msg": "No error",
       "layout": "IPY_MODEL_aec11d0db3a649a38f4ff08d657ca72c",
       "rendered": true,
       "status": "Got results."
      }
     },
     "697e93aab81b41758f588725644bb4fa": {
      "model_module": "@jupyter-widgets/base",
      "model_module_version": "1.0.0",
      "model_name": "LayoutModel",
      "state": {}
     },
     "6987b6a3037142a898555ddf925ffb9a": {
      "model_module": "@jupyter-widgets/controls",
      "model_module_version": "1.0.0",
      "model_name": "VBoxModel",
      "state": {
       "children": [
        "IPY_MODEL_cb4f6071177b49fe9d588eda55bc3413",
        "IPY_MODEL_77e914bb6e6b46d1abc85dfeff061dcb"
       ],
       "layout": "IPY_MODEL_42cf1c34cf344b62a99dcb3792f28055"
      }
     },
     "6a8818f02b93454db9c23d5276ee68ca": {
      "model_module": "jp_proxy_widget",
      "model_module_version": "^0.3.4",
      "model_name": "JSProxyModel",
      "state": {
       "_model_module_version": "^0.3.4",
       "_send_counter": 2,
       "_view_module_version": "^0.3.4",
       "error_msg": "No error",
       "layout": "IPY_MODEL_e2f4fb2bd8ef43a2b27b4d9744747b3c",
       "rendered": true,
       "status": "Got results."
      }
     },
     "6b0ea79ee23841b4b0179346fd5249ce": {
      "model_module": "@jupyter-widgets/base",
      "model_module_version": "1.0.0",
      "model_name": "LayoutModel",
      "state": {}
     },
     "6b16d1f5064049039bc27e18bf383896": {
      "model_module": "@jupyter-widgets/base",
      "model_module_version": "1.0.0",
      "model_name": "LayoutModel",
      "state": {}
     },
     "6b2e61d80cf449c99f878e8ea11e8e83": {
      "model_module": "@jupyter-widgets/controls",
      "model_module_version": "1.0.0",
      "model_name": "DescriptionStyleModel",
      "state": {
       "description_width": ""
      }
     },
     "6bf1db2fde1f4edd991d2ff5c60235d3": {
      "model_module": "@jupyter-widgets/controls",
      "model_module_version": "1.0.0",
      "model_name": "DescriptionStyleModel",
      "state": {
       "description_width": ""
      }
     },
     "6c192c145269418380d3fe1f66117d4e": {
      "model_module": "@jupyter-widgets/controls",
      "model_module_version": "1.0.0",
      "model_name": "TabModel",
      "state": {
       "_titles": {
        "0": "Canvas",
        "1": "Snapshot"
       },
       "children": [
        "IPY_MODEL_b9e75c89c27b4e2fa9a32b258984fe73",
        "IPY_MODEL_27f727be13074b9685bbe7e759c8c476"
       ],
       "layout": "IPY_MODEL_07eb89ac17e74672a7d8c54e2d66718d"
      }
     },
     "6d74488943554203b9b7e9ce7964e053": {
      "model_module": "@jupyter-widgets/base",
      "model_module_version": "1.0.0",
      "model_name": "LayoutModel",
      "state": {}
     },
     "6daa3499556744e3922174274d9347dd": {
      "model_module": "@jupyter-widgets/base",
      "model_module_version": "1.0.0",
      "model_name": "LayoutModel",
      "state": {}
     },
     "6e8ca11e06614799a6c00e7a9d65730b": {
      "model_module": "@jupyter-widgets/controls",
      "model_module_version": "1.0.0",
      "model_name": "VBoxModel",
      "state": {
       "children": [
        "IPY_MODEL_df9974f384844a41936b3d1c9a25f40b",
        "IPY_MODEL_222cffbbc60642938967c37cd4082e14"
       ],
       "layout": "IPY_MODEL_084ded73ea42485b953584ac179958df"
      }
     },
     "6e9c3a36370a4303aaa1cf42f465fabb": {
      "model_module": "@jupyter-widgets/base",
      "model_module_version": "1.0.0",
      "model_name": "LayoutModel",
      "state": {}
     },
     "6eb50745ec904558b260c76b16a02f20": {
      "model_module": "@jupyter-widgets/base",
      "model_module_version": "1.0.0",
      "model_name": "LayoutModel",
      "state": {}
     },
     "6ee43924fa10486bbe4aeb01e28f2592": {
      "model_module": "@jupyter-widgets/controls",
      "model_module_version": "1.0.0",
      "model_name": "TabModel",
      "state": {
       "_titles": {
        "0": "Canvas",
        "1": "Snapshot"
       },
       "children": [
        "IPY_MODEL_89773e1223e540ae8b3cb1771b268cb6",
        "IPY_MODEL_9c8ba9fe8b1744b8a897aef5579163c7"
       ],
       "layout": "IPY_MODEL_2bb079a6e6aa4ee5abb9919a1b897c67"
      }
     },
     "6f033d0cf905409485e596a42ba2feb1": {
      "model_module": "@jupyter-widgets/base",
      "model_module_version": "1.0.0",
      "model_name": "LayoutModel",
      "state": {}
     },
     "6f0ce65d7eb8408d85f29ee6979e3961": {
      "model_module": "@jupyter-widgets/base",
      "model_module_version": "1.0.0",
      "model_name": "LayoutModel",
      "state": {}
     },
     "6f5859d8211e43608a41fd46fa72fcf8": {
      "model_module": "@jupyter-widgets/controls",
      "model_module_version": "1.0.0",
      "model_name": "DescriptionStyleModel",
      "state": {
       "description_width": ""
      }
     },
     "6f61b0e67c4f4a41a4612823c72178b9": {
      "model_module": "@jupyter-widgets/controls",
      "model_module_version": "1.0.0",
      "model_name": "DescriptionStyleModel",
      "state": {
       "description_width": ""
      }
     },
     "6fd9f5c9ad9549de87776be8dc3cb6b1": {
      "model_module": "@jupyter-widgets/controls",
      "model_module_version": "1.0.0",
      "model_name": "TabModel",
      "state": {
       "_titles": {
        "0": "Canvas",
        "1": "Snapshot"
       },
       "children": [
        "IPY_MODEL_e5f6355cfb5a455598172f21b0762faa",
        "IPY_MODEL_b6fe0ce9ec67482d8cd74bb077fc01be"
       ],
       "layout": "IPY_MODEL_38c5f5cb76d0439da7f49bf21d8d89d0"
      }
     },
     "702eea9b28254f02bf03946c8e056619": {
      "model_module": "@jupyter-widgets/base",
      "model_module_version": "1.0.0",
      "model_name": "LayoutModel",
      "state": {}
     },
     "710bfa68450547d6b7028d87e473110f": {
      "model_module": "jp_proxy_widget",
      "model_module_version": "^0.3.4",
      "model_name": "JSProxyModel",
      "state": {
       "_model_module_version": "^0.3.4",
       "_send_counter": 8,
       "_view_module_version": "^0.3.4",
       "error_msg": "No error",
       "layout": "IPY_MODEL_4f4f67237adf4d7c9808ff2ae2948c0b",
       "rendered": true,
       "status": "Got results."
      }
     },
     "71c830b5a6f54af7b2035126b5409aba": {
      "model_module": "@jupyter-widgets/base",
      "model_module_version": "1.0.0",
      "model_name": "LayoutModel",
      "state": {}
     },
     "71c9172e195d4b53b6958b02c94be273": {
      "model_module": "@jupyter-widgets/controls",
      "model_module_version": "1.0.0",
      "model_name": "HTMLModel",
      "state": {
       "layout": "IPY_MODEL_e23f81e82d8c422097a9a0364983e8a0",
       "style": "IPY_MODEL_f6dcffaf9438401da07c88ed560c886e",
       "value": "<img src=\"editted polygon.png\" id=\"snapshot_id_47_1536165748046\"/>\n <div id=\"snapshot_id_48_1536165748046\">editted polygon.png</div>"
      }
     },
     "7222717df8504dd6aedf07d7ae015be1": {
      "model_module": "@jupyter-widgets/controls",
      "model_module_version": "1.0.0",
      "model_name": "TabModel",
      "state": {
       "_titles": {
        "0": "Canvas",
        "1": "Snapshot"
       },
       "children": [
        "IPY_MODEL_5b2146dd792c42a98ed945fc77d73e4f",
        "IPY_MODEL_99214fd6b21e46998ea19ee032772778"
       ],
       "layout": "IPY_MODEL_245306f061a8492f8f61d72ae57b19dc"
      }
     },
     "72be3d04415a4693a4b2837b6243b0fb": {
      "model_module": "@jupyter-widgets/base",
      "model_module_version": "1.0.0",
      "model_name": "LayoutModel",
      "state": {}
     },
     "738055a44241436da7d02b8cfe70fd6e": {
      "model_module": "jp_proxy_widget",
      "model_module_version": "^0.3.4",
      "model_name": "JSProxyModel",
      "state": {
       "_model_module_version": "^0.3.4",
       "_send_counter": 8,
       "_view_module_version": "^0.3.4",
       "error_msg": "No error",
       "layout": "IPY_MODEL_dc5ff0c2545a41089dfa2cf7210fee07",
       "rendered": true,
       "status": "Got results."
      }
     },
     "7391b65dbf6444e1b792488b096f056b": {
      "model_module": "@jupyter-widgets/controls",
      "model_module_version": "1.0.0",
      "model_name": "VBoxModel",
      "state": {
       "children": [
        "IPY_MODEL_20b98ba03794449ea6d2a071ec45f7a8",
        "IPY_MODEL_d52cd05968d24cf48c36c2d4ac7b3654"
       ],
       "layout": "IPY_MODEL_37d0384f1927452d8fdf23ee015c6aa0"
      }
     },
     "7439aa7708da4b1f80af4803d7c9f5cf": {
      "model_module": "@jupyter-widgets/controls",
      "model_module_version": "1.0.0",
      "model_name": "VBoxModel",
      "state": {
       "children": [
        "IPY_MODEL_96a1563c2cf541d79e43d42b7c8c2a29",
        "IPY_MODEL_63ef7bfe129e49e38274781121b60646"
       ],
       "layout": "IPY_MODEL_353e1936c9de472ca982a41c7387a5f5"
      }
     },
     "75252c733ecc4627b611f8af6405b3a0": {
      "model_module": "@jupyter-widgets/base",
      "model_module_version": "1.0.0",
      "model_name": "LayoutModel",
      "state": {}
     },
     "7581eef7d7eb4fa0ba2d55d9a4e25211": {
      "model_module": "@jupyter-widgets/base",
      "model_module_version": "1.0.0",
      "model_name": "LayoutModel",
      "state": {}
     },
     "7613aa1f63124af4af708c0699cce2bb": {
      "model_module": "@jupyter-widgets/base",
      "model_module_version": "1.0.0",
      "model_name": "LayoutModel",
      "state": {}
     },
     "7614f83ce20b4c8ea40e5ed4dfa09f36": {
      "model_module": "jp_proxy_widget",
      "model_module_version": "^0.3.4",
      "model_name": "JSProxyModel",
      "state": {
       "_model_module_version": "^0.3.4",
       "_send_counter": 8,
       "_view_module_version": "^0.3.4",
       "error_msg": "No error",
       "layout": "IPY_MODEL_f03f8a0ac06544b4ad0ff601a627d70a",
       "rendered": true,
       "status": "Got results."
      }
     },
     "766130ce60744d4ebceb56f30230459d": {
      "model_module": "@jupyter-widgets/base",
      "model_module_version": "1.0.0",
      "model_name": "LayoutModel",
      "state": {}
     },
     "7690395b6a2947faba484e0ea41ee161": {
      "model_module": "jp_proxy_widget",
      "model_module_version": "^0.3.4",
      "model_name": "JSProxyModel",
      "state": {
       "_model_module_version": "^0.3.4",
       "_send_counter": 8,
       "_view_module_version": "^0.3.4",
       "error_msg": "No error",
       "layout": "IPY_MODEL_85cdc2546750406cb8d92c283fa08800",
       "rendered": true,
       "status": "Got results."
      }
     },
     "769ac7e332c64bf48aa97173a8fd5fdb": {
      "model_module": "jp_proxy_widget",
      "model_module_version": "^0.3.4",
      "model_name": "JSProxyModel",
      "state": {
       "_model_module_version": "^0.3.4",
       "_send_counter": 2,
       "_view_module_version": "^0.3.4",
       "error_msg": "No error",
       "layout": "IPY_MODEL_a3b3ec982c5448469d29ef8b36fab538",
       "rendered": true,
       "status": "Got results."
      }
     },
     "76fe39c6f53f490e8be9230ab3f095d8": {
      "model_module": "@jupyter-widgets/base",
      "model_module_version": "1.0.0",
      "model_name": "LayoutModel",
      "state": {}
     },
     "776f3420e2df468cb41fdf6d7656467e": {
      "model_module": "jp_proxy_widget",
      "model_module_version": "^0.3.4",
      "model_name": "JSProxyModel",
      "state": {
       "_model_module_version": "^0.3.4",
       "_send_counter": 2,
       "_view_module_version": "^0.3.4",
       "error_msg": "No error",
       "layout": "IPY_MODEL_dabfc003924646398ad1bc689387820f",
       "rendered": true,
       "status": "Got results."
      }
     },
     "77808f7a4ebe470dba6d0d257b1728e5": {
      "model_module": "@jupyter-widgets/base",
      "model_module_version": "1.0.0",
      "model_name": "LayoutModel",
      "state": {}
     },
     "77e914bb6e6b46d1abc85dfeff061dcb": {
      "model_module": "jp_proxy_widget",
      "model_module_version": "^0.3.4",
      "model_name": "JSProxyModel",
      "state": {
       "_model_module_version": "^0.3.4",
       "_send_counter": 2,
       "_view_module_version": "^0.3.4",
       "error_msg": "No error",
       "layout": "IPY_MODEL_f0b43cfde44a40a9b89b2618b6dbb23a",
       "rendered": true,
       "status": "Got results."
      }
     },
     "785da05a7a604614a09a403935d5d6e7": {
      "model_module": "jp_proxy_widget",
      "model_module_version": "^0.3.4",
      "model_name": "JSProxyModel",
      "state": {
       "_model_module_version": "^0.3.4",
       "_send_counter": 10,
       "_view_module_version": "^0.3.4",
       "error_msg": "Error: Error in element.New SyntaxError: Unexpected end of input",
       "layout": "IPY_MODEL_c5491ec7bffc434ebf03f6821f90320e",
       "rendered": true,
       "status": "Rendered."
      }
     },
     "789c20f7c76a42d3b6dbe11633bec745": {
      "model_module": "@jupyter-widgets/base",
      "model_module_version": "1.0.0",
      "model_name": "LayoutModel",
      "state": {}
     },
     "7906c05790964216b39aadaa46d642ad": {
      "model_module": "@jupyter-widgets/base",
      "model_module_version": "1.0.0",
      "model_name": "LayoutModel",
      "state": {}
     },
     "790d8649a2134c269b14155f4ee8ee95": {
      "model_module": "@jupyter-widgets/base",
      "model_module_version": "1.0.0",
      "model_name": "LayoutModel",
      "state": {}
     },
     "7944a060149a4a9f81f3535d5fa14582": {
      "model_module": "@jupyter-widgets/base",
      "model_module_version": "1.0.0",
      "model_name": "LayoutModel",
      "state": {}
     },
     "7a14529c040c4e888daf2756943891f6": {
      "model_module": "@jupyter-widgets/base",
      "model_module_version": "1.0.0",
      "model_name": "LayoutModel",
      "state": {}
     },
     "7a29efab4a204c7a9abaf65b2854e1a1": {
      "model_module": "@jupyter-widgets/controls",
      "model_module_version": "1.0.0",
      "model_name": "HTMLModel",
      "state": {
       "layout": "IPY_MODEL_1eef2149f54b4b18ad0b19608d989c2d",
       "style": "IPY_MODEL_efe4555a3aef4b089137b0b9af5a5633",
       "value": "<img src=\"editted polygon.png\" id=\"snapshot_id_13_1536159966970\"/>\n <div id=\"snapshot_id_14_1536159966970\">editted polygon.png</div>"
      }
     },
     "7b159bdbd0e34ddaa210b40b8669afc0": {
      "model_module": "jp_proxy_widget",
      "model_module_version": "^0.3.4",
      "model_name": "JSProxyModel",
      "state": {
       "_model_module_version": "^0.3.4",
       "_send_counter": 2,
       "_view_module_version": "^0.3.4",
       "error_msg": "No error",
       "layout": "IPY_MODEL_697e93aab81b41758f588725644bb4fa",
       "rendered": true,
       "status": "Got results."
      }
     },
     "7bcc3497ed36402d9e3727cb19e047f3": {
      "model_module": "jp_proxy_widget",
      "model_module_version": "^0.3.4",
      "model_name": "JSProxyModel",
      "state": {
       "_model_module_version": "^0.3.4",
       "_send_counter": 10,
       "_view_module_version": "^0.3.4",
       "error_msg": "Error: cannot add point with NaN NaN,NaN",
       "layout": "IPY_MODEL_8a1913beca67487fa38f174eee9aeda3",
       "rendered": true,
       "status": "Rendered."
      }
     },
     "7be3f539d3f945c1ac17e8989b0f39aa": {
      "model_module": "@jupyter-widgets/controls",
      "model_module_version": "1.0.0",
      "model_name": "TabModel",
      "state": {
       "_titles": {
        "0": "Canvas",
        "1": "Snapshot"
       },
       "children": [
        "IPY_MODEL_d376dff8723a45628e80753b2e2f5265",
        "IPY_MODEL_481d3371c7014189b6d3402e1518bd28"
       ],
       "layout": "IPY_MODEL_15671e05b9b349fb9f620cf10ee4949c"
      }
     },
     "7c134aad05c84f75af5427733f0af417": {
      "model_module": "@jupyter-widgets/base",
      "model_module_version": "1.0.0",
      "model_name": "LayoutModel",
      "state": {}
     },
     "7c684219c8d04943b8df0948a69240e0": {
      "model_module": "@jupyter-widgets/base",
      "model_module_version": "1.0.0",
      "model_name": "LayoutModel",
      "state": {}
     },
     "7d7764f6e5b34028b059e0d707a058a2": {
      "model_module": "@jupyter-widgets/base",
      "model_module_version": "1.0.0",
      "model_name": "LayoutModel",
      "state": {}
     },
     "7ddcf969b867450c99b7c228a96c3de7": {
      "model_module": "@jupyter-widgets/base",
      "model_module_version": "1.0.0",
      "model_name": "LayoutModel",
      "state": {}
     },
     "7e55e22e95554585a95e3e593240286e": {
      "model_module": "@jupyter-widgets/controls",
      "model_module_version": "1.0.0",
      "model_name": "DescriptionStyleModel",
      "state": {
       "description_width": ""
      }
     },
     "7fa5b152a9e04f06aedbf09f36b33127": {
      "model_module": "@jupyter-widgets/controls",
      "model_module_version": "1.0.0",
      "model_name": "DescriptionStyleModel",
      "state": {
       "description_width": ""
      }
     },
     "7fd7d2d576644696a4c809a9d7d2657b": {
      "model_module": "@jupyter-widgets/base",
      "model_module_version": "1.0.0",
      "model_name": "LayoutModel",
      "state": {}
     },
     "8018bf6245834392a7ab3800250a2d9e": {
      "model_module": "jp_proxy_widget",
      "model_module_version": "^0.3.4",
      "model_name": "JSProxyModel",
      "state": {
       "_model_module_version": "^0.3.4",
       "_send_counter": 2,
       "_view_module_version": "^0.3.4",
       "error_msg": "No error",
       "layout": "IPY_MODEL_cbeeb3bfd0a849128f0b5db8a4e50176",
       "rendered": true,
       "status": "Got results."
      }
     },
     "80622ebda0f4415fb522316747d32fe4": {
      "model_module": "@jupyter-widgets/controls",
      "model_module_version": "1.0.0",
      "model_name": "DescriptionStyleModel",
      "state": {
       "description_width": ""
      }
     },
     "8071cb8949bb416dadf885488afd0b10": {
      "model_module": "@jupyter-widgets/base",
      "model_module_version": "1.0.0",
      "model_name": "LayoutModel",
      "state": {}
     },
     "80913bbe4c5c4c66afe9110b124d25c4": {
      "model_module": "jp_proxy_widget",
      "model_module_version": "^0.3.4",
      "model_name": "JSProxyModel",
      "state": {
       "_model_module_version": "^0.3.4",
       "_send_counter": 2,
       "_view_module_version": "^0.3.4",
       "error_msg": "No error",
       "layout": "IPY_MODEL_b9f6e1e4b3744ab999c7c3928033635a",
       "rendered": true,
       "status": "Got results."
      }
     },
     "81bb2b5bd38847ed8b54de2f39e8de87": {
      "model_module": "@jupyter-widgets/base",
      "model_module_version": "1.0.0",
      "model_name": "LayoutModel",
      "state": {}
     },
     "822bc08ad3844d7d9d59211b0c190382": {
      "model_module": "jp_proxy_widget",
      "model_module_version": "^0.3.4",
      "model_name": "JSProxyModel",
      "state": {
       "_model_module_version": "^0.3.4",
       "_send_counter": 8,
       "_view_module_version": "^0.3.4",
       "error_msg": "No error",
       "layout": "IPY_MODEL_ce635c9f6aa24c83b71c573fb3e5ec96",
       "rendered": true,
       "status": "Got results."
      }
     },
     "82ec915b69b644dab9278fd72187b758": {
      "model_module": "@jupyter-widgets/base",
      "model_module_version": "1.0.0",
      "model_name": "LayoutModel",
      "state": {}
     },
     "82f23e07d52c48b9b822c8391fffafc0": {
      "model_module": "@jupyter-widgets/controls",
      "model_module_version": "1.0.0",
      "model_name": "TabModel",
      "state": {
       "_titles": {
        "0": "Canvas",
        "1": "Snapshot"
       },
       "children": [
        "IPY_MODEL_8bf87f7824de4788af64069f8ea14278",
        "IPY_MODEL_a2cda90213b74cb3a7b25fe8578ae2e5"
       ],
       "layout": "IPY_MODEL_b1325f570e97488fac0a7477a278dc08"
      }
     },
     "8321315952774bd38865867060a6ed9f": {
      "model_module": "@jupyter-widgets/base",
      "model_module_version": "1.0.0",
      "model_name": "LayoutModel",
      "state": {}
     },
     "8358a83275dc4c3f9055f3693ab772a4": {
      "model_module": "@jupyter-widgets/controls",
      "model_module_version": "1.0.0",
      "model_name": "VBoxModel",
      "state": {
       "children": [
        "IPY_MODEL_32286afaf6a64931b5f9c3b309fe9514",
        "IPY_MODEL_e9850ae1608842bfa76457dd74eba4d8"
       ],
       "layout": "IPY_MODEL_dc34bc0323e645c6bdc99e4e8744694e"
      }
     },
     "83931bf363634c18818477e41db142d4": {
      "model_module": "@jupyter-widgets/controls",
      "model_module_version": "1.0.0",
      "model_name": "VBoxModel",
      "state": {
       "children": [
        "IPY_MODEL_f3b942dac6ed4a97993595a9044c3f47",
        "IPY_MODEL_80913bbe4c5c4c66afe9110b124d25c4"
       ],
       "layout": "IPY_MODEL_dd884ed7f0d746159fe29531ca6bbd87"
      }
     },
     "846ac3b4448049989d7952b9d55da481": {
      "model_module": "@jupyter-widgets/controls",
      "model_module_version": "1.0.0",
      "model_name": "HTMLModel",
      "state": {
       "layout": "IPY_MODEL_e2d0129908da410192bae30831d6cb0b",
       "style": "IPY_MODEL_0f17987237884ad0a5474cae69d4bd6e",
       "value": "<img src=\"rotated_spider.png\" id=\"snapshot_id_3_1536156663786\"/>\n <div id=\"snapshot_id_4_1536156663786\">rotated_spider.png</div>"
      }
     },
     "848ade6afe0049bd98b8467403d7607d": {
      "model_module": "@jupyter-widgets/controls",
      "model_module_version": "1.0.0",
      "model_name": "HTMLModel",
      "state": {
       "layout": "IPY_MODEL_85d8d01010764c0b82355768de23f470",
       "style": "IPY_MODEL_58e932cc109d4a0dae6ac2a668c14a24",
       "value": "<img src=\"editted polygon.png\" id=\"snapshot_id_45_1536165661077\"/>\n <div id=\"snapshot_id_46_1536165661077\">editted polygon.png</div>"
      }
     },
     "848e14610b254a5ba076b468c141b050": {
      "model_module": "@jupyter-widgets/controls",
      "model_module_version": "1.0.0",
      "model_name": "HTMLModel",
      "state": {
       "layout": "IPY_MODEL_b1845720451448f8a4a4fb496b611b6c",
       "style": "IPY_MODEL_46acca7e2c8e4a65b297e29dc696f912",
       "value": "<img src=\"rotated_spider.png\" id=\"snapshot_id_9_1536097105356\"/>\n <div id=\"snapshot_id_10_1536097105356\">rotated_spider.png</div>"
      }
     },
     "854d05a85fcd4ce98dfacea8d8fe7850": {
      "model_module": "@jupyter-widgets/controls",
      "model_module_version": "1.0.0",
      "model_name": "DescriptionStyleModel",
      "state": {
       "description_width": ""
      }
     },
     "85568def50df470bb781372deb994ed2": {
      "model_module": "@jupyter-widgets/controls",
      "model_module_version": "1.0.0",
      "model_name": "TabModel",
      "state": {
       "_titles": {
        "0": "Canvas",
        "1": "Snapshot"
       },
       "children": [
        "IPY_MODEL_ebcdac76c5504dcd93fbf23fde3a1f7d",
        "IPY_MODEL_ef1d54063d864451815956ebee4ff064"
       ],
       "layout": "IPY_MODEL_12dfdcf30a844928acf7111686e2f1a6"
      }
     },
     "855cfd009c1a43daaa6f27fc7d90e6cd": {
      "model_module": "@jupyter-widgets/base",
      "model_module_version": "1.0.0",
      "model_name": "LayoutModel",
      "state": {}
     },
     "8575936b22e04d719131e66c3e3dfe11": {
      "model_module": "@jupyter-widgets/base",
      "model_module_version": "1.0.0",
      "model_name": "LayoutModel",
      "state": {}
     },
     "85a3d6dd4ce245478bc0fdf4df8e6b14": {
      "model_module": "@jupyter-widgets/controls",
      "model_module_version": "1.0.0",
      "model_name": "HTMLModel",
      "state": {
       "layout": "IPY_MODEL_ed5c4a03888a440d848d726027f2df21",
       "style": "IPY_MODEL_65616c27458341dbbe2ac6c2e5606ade",
       "value": "<img src=\"rotated_spider.png\" id=\"snapshot_id_1_1536155546628\"/>\n <div id=\"snapshot_id_2_1536155546628\">rotated_spider.png</div>"
      }
     },
     "85cdc2546750406cb8d92c283fa08800": {
      "model_module": "@jupyter-widgets/base",
      "model_module_version": "1.0.0",
      "model_name": "LayoutModel",
      "state": {}
     },
     "85d8d01010764c0b82355768de23f470": {
      "model_module": "@jupyter-widgets/base",
      "model_module_version": "1.0.0",
      "model_name": "LayoutModel",
      "state": {}
     },
     "85f08a1f75b24abe97a6de9cf0ea4c20": {
      "model_module": "@jupyter-widgets/controls",
      "model_module_version": "1.0.0",
      "model_name": "TabModel",
      "state": {
       "_titles": {
        "0": "Canvas",
        "1": "Snapshot"
       },
       "children": [
        "IPY_MODEL_e150a84a466d4be3b78bada300b64533",
        "IPY_MODEL_a288020da97149f5ae4ea9ccaeadac5e"
       ],
       "layout": "IPY_MODEL_88460377a6244d9492d1202722d21d4b",
       "selected_index": 1
      }
     },
     "86375a35225b42bab052890e00bcc72d": {
      "model_module": "@jupyter-widgets/controls",
      "model_module_version": "1.0.0",
      "model_name": "DescriptionStyleModel",
      "state": {
       "description_width": ""
      }
     },
     "86554c1f14074c0596f3daeb555a23f8": {
      "model_module": "@jupyter-widgets/controls",
      "model_module_version": "1.0.0",
      "model_name": "TabModel",
      "state": {
       "_titles": {
        "0": "Canvas",
        "1": "Snapshot"
       },
       "children": [
        "IPY_MODEL_ee4b64321cb84800b31dd2aa8a2ccfe0",
        "IPY_MODEL_f1f44446ae5c48ecb63434d7b02f451e"
       ],
       "layout": "IPY_MODEL_204bae8384bf4b76aec8b4247f138bf7"
      }
     },
     "86b10db7d4b748fda7f5aa87e0c94689": {
      "model_module": "jp_proxy_widget",
      "model_module_version": "^0.3.4",
      "model_name": "JSProxyModel",
      "state": {
       "_model_module_version": "^0.3.4",
       "_send_counter": 2,
       "_view_module_version": "^0.3.4",
       "error_msg": "No error",
       "layout": "IPY_MODEL_b8945f43dcfd4d54b55616ff60786923",
       "rendered": true,
       "status": "Got results."
      }
     },
     "8707e08acefb4bf1918247b1242895fa": {
      "model_module": "@jupyter-widgets/controls",
      "model_module_version": "1.0.0",
      "model_name": "DescriptionStyleModel",
      "state": {
       "description_width": ""
      }
     },
     "88460377a6244d9492d1202722d21d4b": {
      "model_module": "@jupyter-widgets/base",
      "model_module_version": "1.0.0",
      "model_name": "LayoutModel",
      "state": {}
     },
     "8910ae41e39b4ea89d7c5672e1514d0e": {
      "model_module": "@jupyter-widgets/controls",
      "model_module_version": "1.0.0",
      "model_name": "HTMLModel",
      "state": {
       "layout": "IPY_MODEL_1d3222768ff1443d87c3c0d4a2a7ed40",
       "style": "IPY_MODEL_402cf12b473543c1b46fe7e87c98bc59",
       "value": "<img src=\"rotated_spider.png\" id=\"snapshot_id_1_1536156363467\"/>\n <div id=\"snapshot_id_2_1536156363467\">rotated_spider.png</div>"
      }
     },
     "89773e1223e540ae8b3cb1771b268cb6": {
      "model_module": "@jupyter-widgets/controls",
      "model_module_version": "1.0.0",
      "model_name": "VBoxModel",
      "state": {
       "children": [
        "IPY_MODEL_d014a69805064300807bbc985ec4bb15",
        "IPY_MODEL_2c37504b462b40199040a1d748738338"
       ],
       "layout": "IPY_MODEL_bc7e4306369444479bb9392d4fb8aa55"
      }
     },
     "89a643f6560941a992bcacafe84f8d5e": {
      "model_module": "@jupyter-widgets/controls",
      "model_module_version": "1.0.0",
      "model_name": "DescriptionStyleModel",
      "state": {
       "description_width": ""
      }
     },
     "8a1913beca67487fa38f174eee9aeda3": {
      "model_module": "@jupyter-widgets/base",
      "model_module_version": "1.0.0",
      "model_name": "LayoutModel",
      "state": {}
     },
     "8aa53fb6148148a5acc8dd30a3cd00bd": {
      "model_module": "jp_proxy_widget",
      "model_module_version": "^0.3.4",
      "model_name": "JSProxyModel",
      "state": {
       "_model_module_version": "^0.3.4",
       "_send_counter": 2,
       "_view_module_version": "^0.3.4",
       "error_msg": "No error",
       "layout": "IPY_MODEL_c9ef625fc9ac4fc6a12a181baa6c1313",
       "rendered": true,
       "status": "Got results."
      }
     },
     "8ab055353fd04ed3a601238d12e36448": {
      "model_module": "@jupyter-widgets/controls",
      "model_module_version": "1.0.0",
      "model_name": "VBoxModel",
      "state": {
       "children": [
        "IPY_MODEL_2db7c8566d604269960c448d9b58cea0",
        "IPY_MODEL_4c40e0a9704e4984b9d4ea61031927da"
       ],
       "layout": "IPY_MODEL_e8594d57a37f4cc7a6b80fd8ee38ba19"
      }
     },
     "8b6002f3ec594cc69593185b0d9b250d": {
      "model_module": "@jupyter-widgets/controls",
      "model_module_version": "1.0.0",
      "model_name": "TabModel",
      "state": {
       "_titles": {
        "0": "Canvas",
        "1": "Snapshot"
       },
       "children": [
        "IPY_MODEL_e9bcd8125caf478983e262b8eacb5974",
        "IPY_MODEL_8e4d94cafb7f4390a16eed2b482ef4c7"
       ],
       "layout": "IPY_MODEL_df0aec0ec2714ca589f0beab8ebc1588"
      }
     },
     "8b95450ed8714fd7b3065058581720a5": {
      "model_module": "@jupyter-widgets/base",
      "model_module_version": "1.0.0",
      "model_name": "LayoutModel",
      "state": {}
     },
     "8be0a2d04f7a4589993ca356bbfd75ea": {
      "model_module": "@jupyter-widgets/controls",
      "model_module_version": "1.0.0",
      "model_name": "DescriptionStyleModel",
      "state": {
       "description_width": ""
      }
     },
     "8bf87f7824de4788af64069f8ea14278": {
      "model_module": "@jupyter-widgets/controls",
      "model_module_version": "1.0.0",
      "model_name": "VBoxModel",
      "state": {
       "children": [
        "IPY_MODEL_b7509929dcdf4c25a51814875b45e44b",
        "IPY_MODEL_3eb047259ffa4c78a0d3f63866f4e91d"
       ],
       "layout": "IPY_MODEL_48c574e4d5eb4e4bbb63df2a4bb6cb20"
      }
     },
     "8c69aad1de3b4f758c0f4b2d97ae647f": {
      "model_module": "@jupyter-widgets/base",
      "model_module_version": "1.0.0",
      "model_name": "LayoutModel",
      "state": {}
     },
     "8ca9679546464b5ba4e5a2cbada68043": {
      "model_module": "@jupyter-widgets/base",
      "model_module_version": "1.0.0",
      "model_name": "LayoutModel",
      "state": {}
     },
     "8dd288404a094536a9896ce6aab4bcd1": {
      "model_module": "@jupyter-widgets/controls",
      "model_module_version": "1.0.0",
      "model_name": "DescriptionStyleModel",
      "state": {
       "description_width": ""
      }
     },
     "8e4d94cafb7f4390a16eed2b482ef4c7": {
      "model_module": "@jupyter-widgets/controls",
      "model_module_version": "1.0.0",
      "model_name": "HTMLModel",
      "state": {
       "layout": "IPY_MODEL_aa0b4f8c5f86466fb05ff94e1c31601e",
       "style": "IPY_MODEL_924710e4e1e64c6299f81f02f4fbf85d",
       "value": "<img src=\"rotated_spider.png\" id=\"snapshot_id_7_1536097088720\"/>\n <div id=\"snapshot_id_8_1536097088720\">rotated_spider.png</div>"
      }
     },
     "8ed1803d5ac645e5bae98f11806e7a6b": {
      "model_module": "@jupyter-widgets/base",
      "model_module_version": "1.0.0",
      "model_name": "LayoutModel",
      "state": {}
     },
     "8eea4d902172456ab69edb30f8d106fa": {
      "model_module": "@jupyter-widgets/base",
      "model_module_version": "1.0.0",
      "model_name": "LayoutModel",
      "state": {}
     },
     "8fe023c9c2eb46d2bc66100a282debb3": {
      "model_module": "@jupyter-widgets/controls",
      "model_module_version": "1.0.0",
      "model_name": "VBoxModel",
      "state": {
       "children": [
        "IPY_MODEL_4f22bd054845423cb209ff9456d0292a",
        "IPY_MODEL_769ac7e332c64bf48aa97173a8fd5fdb"
       ],
       "layout": "IPY_MODEL_34f077f3d02348319137cf1ddb6cdaef"
      }
     },
     "913d408f415a4c2397f9c7afff9dc434": {
      "model_module": "@jupyter-widgets/base",
      "model_module_version": "1.0.0",
      "model_name": "LayoutModel",
      "state": {}
     },
     "91d43f74f1544eb2a03efab832498f5e": {
      "model_module": "@jupyter-widgets/base",
      "model_module_version": "1.0.0",
      "model_name": "LayoutModel",
      "state": {}
     },
     "924710e4e1e64c6299f81f02f4fbf85d": {
      "model_module": "@jupyter-widgets/controls",
      "model_module_version": "1.0.0",
      "model_name": "DescriptionStyleModel",
      "state": {
       "description_width": ""
      }
     },
     "92f735a19cc74a3a9b161cead3a5c9d3": {
      "model_module": "@jupyter-widgets/controls",
      "model_module_version": "1.0.0",
      "model_name": "HTMLModel",
      "state": {
       "layout": "IPY_MODEL_451f6337b4b74e149c475d4ebab81e7e",
       "style": "IPY_MODEL_4fa3978e634e41ee8fa614cec1b898e7",
       "value": "<img src=\"editted polygon.png\" id=\"snapshot_id_49_1536165795733\"/>\n <div id=\"snapshot_id_50_1536165795733\">editted polygon.png</div>"
      }
     },
     "93038727bee247d1a14abc0559f395d6": {
      "model_module": "@jupyter-widgets/base",
      "model_module_version": "1.0.0",
      "model_name": "LayoutModel",
      "state": {}
     },
     "934cef01aead49779b34fa4400d791e1": {
      "model_module": "@jupyter-widgets/controls",
      "model_module_version": "1.0.0",
      "model_name": "TabModel",
      "state": {
       "_titles": {
        "0": "Canvas",
        "1": "Snapshot"
       },
       "children": [
        "IPY_MODEL_e42ee8f8299446659385be6d8bde231b",
        "IPY_MODEL_11332343dc414564916672796ce18393"
       ],
       "layout": "IPY_MODEL_1a7dea7240f94ddba7453e9ca78ac72b"
      }
     },
     "93562b86897042bb82a66c0372d3c718": {
      "model_module": "@jupyter-widgets/base",
      "model_module_version": "1.0.0",
      "model_name": "LayoutModel",
      "state": {}
     },
     "935dee9830c04ffa847e05e763a1da15": {
      "model_module": "@jupyter-widgets/base",
      "model_module_version": "1.0.0",
      "model_name": "LayoutModel",
      "state": {}
     },
     "93856d64be134b72a0453f023f98bf14": {
      "model_module": "jp_proxy_widget",
      "model_module_version": "^0.3.4",
      "model_name": "JSProxyModel",
      "state": {
       "_model_module_version": "^0.3.4",
       "_send_counter": 8,
       "_view_module_version": "^0.3.4",
       "error_msg": "No error",
       "layout": "IPY_MODEL_7944a060149a4a9f81f3535d5fa14582",
       "rendered": true,
       "status": "Got results."
      }
     },
     "94809965a3794ebbad2030c5e56480d4": {
      "model_module": "@jupyter-widgets/base",
      "model_module_version": "1.0.0",
      "model_name": "LayoutModel",
      "state": {}
     },
     "949dd2f0573b4253ae3df630df5312f3": {
      "model_module": "@jupyter-widgets/controls",
      "model_module_version": "1.0.0",
      "model_name": "VBoxModel",
      "state": {
       "children": [
        "IPY_MODEL_7614f83ce20b4c8ea40e5ed4dfa09f36",
        "IPY_MODEL_a28aa83a176143b88f9b0c2da2bbfe5b"
       ],
       "layout": "IPY_MODEL_2273823bc0f44ad59fd96e7cc7babf58"
      }
     },
     "951c86f474444f03a8b6c7e094c38155": {
      "model_module": "@jupyter-widgets/controls",
      "model_module_version": "1.0.0",
      "model_name": "VBoxModel",
      "state": {
       "children": [
        "IPY_MODEL_bd06111d15cd4bfbaeaae7c73af80b3c",
        "IPY_MODEL_983e30970461471eb3c8ce31a9821a8c"
       ],
       "layout": "IPY_MODEL_3de761f2086146e1a4986dcd5aabdc3a"
      }
     },
     "95d0e5d4de4c4b078e38343ffcd7b8b0": {
      "model_module": "@jupyter-widgets/controls",
      "model_module_version": "1.0.0",
      "model_name": "VBoxModel",
      "state": {
       "children": [
        "IPY_MODEL_738055a44241436da7d02b8cfe70fd6e",
        "IPY_MODEL_e7877798ec7249ec9d08a8e358cd5b79"
       ],
       "layout": "IPY_MODEL_ea624f423cdf472aaf4d912cafe1ab0a"
      }
     },
     "96787c30174c45629d85e352c74c79dd": {
      "model_module": "jp_proxy_widget",
      "model_module_version": "^0.3.4",
      "model_name": "JSProxyModel",
      "state": {
       "_model_module_version": "^0.3.4",
       "_send_counter": 8,
       "_view_module_version": "^0.3.4",
       "error_msg": "No error",
       "layout": "IPY_MODEL_cf1d9fee057c4a1494804583027e7306",
       "rendered": true,
       "status": "Got results."
      }
     },
     "96a1563c2cf541d79e43d42b7c8c2a29": {
      "model_module": "jp_proxy_widget",
      "model_module_version": "^0.3.4",
      "model_name": "JSProxyModel",
      "state": {
       "_model_module_version": "^0.3.4",
       "_send_counter": 8,
       "_view_module_version": "^0.3.4",
       "error_msg": "No error",
       "layout": "IPY_MODEL_b2c3b21a30ff4090bd4d8c317cdef34f",
       "rendered": true,
       "status": "Got results."
      }
     },
     "96d47c5e83f54ce5bb318e6d75d1f477": {
      "model_module": "@jupyter-widgets/base",
      "model_module_version": "1.0.0",
      "model_name": "LayoutModel",
      "state": {}
     },
     "97783a04f5f541bea2f53f5244a6d3af": {
      "model_module": "@jupyter-widgets/base",
      "model_module_version": "1.0.0",
      "model_name": "LayoutModel",
      "state": {}
     },
     "97ca01a509fb450e873928d39d373493": {
      "model_module": "@jupyter-widgets/base",
      "model_module_version": "1.0.0",
      "model_name": "LayoutModel",
      "state": {}
     },
     "983e30970461471eb3c8ce31a9821a8c": {
      "model_module": "jp_proxy_widget",
      "model_module_version": "^0.3.4",
      "model_name": "JSProxyModel",
      "state": {
       "_model_module_version": "^0.3.4",
       "_send_counter": 2,
       "_view_module_version": "^0.3.4",
       "error_msg": "No error",
       "layout": "IPY_MODEL_8c69aad1de3b4f758c0f4b2d97ae647f",
       "rendered": true,
       "status": "Got results."
      }
     },
     "98aec32d02814208a2d8fba4d8feec53": {
      "model_module": "@jupyter-widgets/controls",
      "model_module_version": "1.0.0",
      "model_name": "DescriptionStyleModel",
      "state": {
       "description_width": ""
      }
     },
     "99214fd6b21e46998ea19ee032772778": {
      "model_module": "@jupyter-widgets/controls",
      "model_module_version": "1.0.0",
      "model_name": "HTMLModel",
      "state": {
       "layout": "IPY_MODEL_20d90538fd07414db8eeec170b6e0790",
       "style": "IPY_MODEL_5d287a7b7d9346e3ab2b5c9055efd26b",
       "value": "<img src=\"editted polygon.png\" id=\"snapshot_id_27_1536162864797\"/>\n <div id=\"snapshot_id_28_1536162864797\">editted polygon.png</div>"
      }
     },
     "9927bd905c79408f87b9425a96887fe0": {
      "model_module": "jp_proxy_widget",
      "model_module_version": "^0.3.4",
      "model_name": "JSProxyModel",
      "state": {
       "_model_module_version": "^0.3.4",
       "_send_counter": 2,
       "_view_module_version": "^0.3.4",
       "error_msg": "No error",
       "layout": "IPY_MODEL_25e5b34d3e8f4d98bd3384c55a1047aa",
       "rendered": true,
       "status": "Got results."
      }
     },
     "994d4ce90c5d4bbf94f92e39ea408ca8": {
      "model_module": "@jupyter-widgets/controls",
      "model_module_version": "1.0.0",
      "model_name": "TabModel",
      "state": {
       "_titles": {
        "0": "Canvas",
        "1": "Snapshot"
       },
       "children": [
        "IPY_MODEL_6648b45300414b41b8f5f27807056551",
        "IPY_MODEL_ef9656bb9d7a47f193e2302643ee9ccd"
       ],
       "layout": "IPY_MODEL_ff15f0b2022b4ed2a83dc9db25e82911"
      }
     },
     "99e36a4fda3947b0b5b32548c559e233": {
      "model_module": "@jupyter-widgets/base",
      "model_module_version": "1.0.0",
      "model_name": "LayoutModel",
      "state": {}
     },
     "9a5452507950413abbed06f3e003138c": {
      "model_module": "@jupyter-widgets/base",
      "model_module_version": "1.0.0",
      "model_name": "LayoutModel",
      "state": {}
     },
     "9a730b2d09ba42898eeab3f82374246e": {
      "model_module": "@jupyter-widgets/controls",
      "model_module_version": "1.0.0",
      "model_name": "DescriptionStyleModel",
      "state": {
       "description_width": ""
      }
     },
     "9b0a98fed44444fb90bf1f44ec6e218f": {
      "model_module": "@jupyter-widgets/controls",
      "model_module_version": "1.0.0",
      "model_name": "TabModel",
      "state": {
       "_titles": {
        "0": "Canvas",
        "1": "Snapshot"
       },
       "children": [
        "IPY_MODEL_8fe023c9c2eb46d2bc66100a282debb3",
        "IPY_MODEL_85a3d6dd4ce245478bc0fdf4df8e6b14"
       ],
       "layout": "IPY_MODEL_fe256efd7b5549fc9268b6053e45770f"
      }
     },
     "9bfb99e84d5241719b56f4f186376ff7": {
      "model_module": "@jupyter-widgets/base",
      "model_module_version": "1.0.0",
      "model_name": "LayoutModel",
      "state": {}
     },
     "9c8ba9fe8b1744b8a897aef5579163c7": {
      "model_module": "@jupyter-widgets/controls",
      "model_module_version": "1.0.0",
      "model_name": "HTMLModel",
      "state": {
       "layout": "IPY_MODEL_8071cb8949bb416dadf885488afd0b10",
       "style": "IPY_MODEL_2f1147e431434712936f02aaa5a7b511",
       "value": "<img src=\"editted polygon.png\" id=\"snapshot_id_69_1536169331184\"/>\n <div id=\"snapshot_id_70_1536169331184\">editted polygon.png</div>"
      }
     },
     "9cae3c12aec6447ea607b856bd0cf517": {
      "model_module": "@jupyter-widgets/base",
      "model_module_version": "1.0.0",
      "model_name": "LayoutModel",
      "state": {}
     },
     "9cd2ef625b694680834a7e22a51df513": {
      "model_module": "@jupyter-widgets/controls",
      "model_module_version": "1.0.0",
      "model_name": "VBoxModel",
      "state": {
       "children": [
        "IPY_MODEL_aad1e98c0d9e44fa960e0c3d65d6e067",
        "IPY_MODEL_139d8e22684c40a38e4538d9a3e79f56"
       ],
       "layout": "IPY_MODEL_5ce56809ad0447eba29bf4a3daecb34b"
      }
     },
     "9d3b9b757113445d99b8d0f6fea99b4f": {
      "model_module": "@jupyter-widgets/base",
      "model_module_version": "1.0.0",
      "model_name": "LayoutModel",
      "state": {}
     },
     "9db0f229c3034c3c97a5642050729d9c": {
      "model_module": "@jupyter-widgets/base",
      "model_module_version": "1.0.0",
      "model_name": "LayoutModel",
      "state": {}
     },
     "9dba7769b30249d9b00ae9d4e332ecbe": {
      "model_module": "jp_proxy_widget",
      "model_module_version": "^0.3.4",
      "model_name": "JSProxyModel",
      "state": {
       "_model_module_version": "^0.3.4",
       "_send_counter": 2,
       "_view_module_version": "^0.3.4",
       "error_msg": "No error",
       "layout": "IPY_MODEL_da677a97e1b0409fa4c289b00381b52b",
       "rendered": true,
       "status": "Got results."
      }
     },
     "9e22cf10e705486f9481c03df44481f1": {
      "model_module": "@jupyter-widgets/base",
      "model_module_version": "1.0.0",
      "model_name": "LayoutModel",
      "state": {}
     },
     "9f2fbcb64a18423d896e9a831f084c39": {
      "model_module": "@jupyter-widgets/base",
      "model_module_version": "1.0.0",
      "model_name": "LayoutModel",
      "state": {}
     },
     "9fb430e01c844b00b54c68077c7441f8": {
      "model_module": "@jupyter-widgets/base",
      "model_module_version": "1.0.0",
      "model_name": "LayoutModel",
      "state": {}
     },
     "9ffb70b2e2144bc8abe55b2844d9e55d": {
      "model_module": "@jupyter-widgets/base",
      "model_module_version": "1.0.0",
      "model_name": "LayoutModel",
      "state": {}
     },
     "a048771136ff4be497951a5d4bef8bd7": {
      "model_module": "@jupyter-widgets/base",
      "model_module_version": "1.0.0",
      "model_name": "LayoutModel",
      "state": {}
     },
     "a05e131f4bbf4f97a37ef15ae483baa3": {
      "model_module": "@jupyter-widgets/base",
      "model_module_version": "1.0.0",
      "model_name": "LayoutModel",
      "state": {}
     },
     "a245a13326be4fe3a9976b4e431fc8b7": {
      "model_module": "@jupyter-widgets/base",
      "model_module_version": "1.0.0",
      "model_name": "LayoutModel",
      "state": {}
     },
     "a26d9b5c5c4f4e94b7848d93cc429bff": {
      "model_module": "@jupyter-widgets/base",
      "model_module_version": "1.0.0",
      "model_name": "LayoutModel",
      "state": {}
     },
     "a288020da97149f5ae4ea9ccaeadac5e": {
      "model_module": "@jupyter-widgets/controls",
      "model_module_version": "1.0.0",
      "model_name": "HTMLModel",
      "state": {
       "layout": "IPY_MODEL_ddf3e178975343db9156f0712aa4ab5e",
       "style": "IPY_MODEL_854d05a85fcd4ce98dfacea8d8fe7850",
       "value": "<img src=\"editted polygon.png\" id=\"snapshot_id_66_1536168479534\"/>\n <div id=\"snapshot_id_67_1536168479534\">editted polygon.png</div>"
      }
     },
     "a28aa83a176143b88f9b0c2da2bbfe5b": {
      "model_module": "jp_proxy_widget",
      "model_module_version": "^0.3.4",
      "model_name": "JSProxyModel",
      "state": {
       "_model_module_version": "^0.3.4",
       "_send_counter": 2,
       "_view_module_version": "^0.3.4",
       "error_msg": "No error",
       "layout": "IPY_MODEL_44726e092b1d4d37a3530d42e0d8613a",
       "rendered": true,
       "status": "Got results."
      }
     },
     "a2cda90213b74cb3a7b25fe8578ae2e5": {
      "model_module": "@jupyter-widgets/controls",
      "model_module_version": "1.0.0",
      "model_name": "HTMLModel",
      "state": {
       "layout": "IPY_MODEL_d060c868c76d45a2ab5587b0220b9d77",
       "style": "IPY_MODEL_ea5015d2051749f78960fb7b6d449c7e",
       "value": "<img src=\"rotated_spider.png\" id=\"snapshot_id_15_1536101054743\"/>\n <div id=\"snapshot_id_16_1536101054743\">rotated_spider.png</div>"
      }
     },
     "a316a7f881f34ad0a437a1e397e93aed": {
      "model_module": "@jupyter-widgets/controls",
      "model_module_version": "1.0.0",
      "model_name": "TabModel",
      "state": {
       "_titles": {
        "0": "Canvas",
        "1": "Snapshot"
       },
       "children": [
        "IPY_MODEL_f99d237e1aca4450abe27748f1e820b7",
        "IPY_MODEL_cd2375aeffe641babc2a6a8ed20e4a43"
       ],
       "layout": "IPY_MODEL_766130ce60744d4ebceb56f30230459d"
      }
     },
     "a343de6332014b5687e02bd3eac1540e": {
      "model_module": "@jupyter-widgets/base",
      "model_module_version": "1.0.0",
      "model_name": "LayoutModel",
      "state": {}
     },
     "a3b3ec982c5448469d29ef8b36fab538": {
      "model_module": "@jupyter-widgets/base",
      "model_module_version": "1.0.0",
      "model_name": "LayoutModel",
      "state": {}
     },
     "a3b82f3e499144129050575bbd863167": {
      "model_module": "@jupyter-widgets/base",
      "model_module_version": "1.0.0",
      "model_name": "LayoutModel",
      "state": {}
     },
     "a3e9c8c5872a42478426b63963dfbd65": {
      "model_module": "@jupyter-widgets/controls",
      "model_module_version": "1.0.0",
      "model_name": "VBoxModel",
      "state": {
       "children": [
        "IPY_MODEL_beeaefcc65f24cd19c8000304bf74609",
        "IPY_MODEL_abdfe4d58bfe4b9b94646e3a5a8b117d"
       ],
       "layout": "IPY_MODEL_168ae9fa904949df8b9a79c10469a560"
      }
     },
     "a41004061085433daa30cc5c4310e7cd": {
      "model_module": "jp_proxy_widget",
      "model_module_version": "^0.3.4",
      "model_name": "JSProxyModel",
      "state": {
       "_model_module_version": "^0.3.4",
       "_send_counter": 8,
       "_view_module_version": "^0.3.4",
       "error_msg": "No error",
       "layout": "IPY_MODEL_6538de2395cd4dae92f7bfb76d24859c",
       "rendered": true,
       "status": "Got results."
      }
     },
     "a4acf7041b974823b2f157bf3adad3a6": {
      "model_module": "@jupyter-widgets/controls",
      "model_module_version": "1.0.0",
      "model_name": "TabModel",
      "state": {
       "_titles": {
        "0": "Canvas",
        "1": "Snapshot"
       },
       "children": [
        "IPY_MODEL_2b883d387e0d4b9ba5c6b615fa2fa522",
        "IPY_MODEL_848ade6afe0049bd98b8467403d7607d"
       ],
       "layout": "IPY_MODEL_91d43f74f1544eb2a03efab832498f5e"
      }
     },
     "a534dea967e24847bbc1d6949418c797": {
      "model_module": "@jupyter-widgets/base",
      "model_module_version": "1.0.0",
      "model_name": "LayoutModel",
      "state": {}
     },
     "a589333906aa44869fbf441d92afdba9": {
      "model_module": "@jupyter-widgets/base",
      "model_module_version": "1.0.0",
      "model_name": "LayoutModel",
      "state": {}
     },
     "a5e60392470c4b67b10bb7fa53ff1ee1": {
      "model_module": "jp_proxy_widget",
      "model_module_version": "^0.3.4",
      "model_name": "JSProxyModel",
      "state": {
       "_model_module_version": "^0.3.4",
       "_send_counter": 2,
       "_view_module_version": "^0.3.4",
       "error_msg": "No error",
       "layout": "IPY_MODEL_ed6c51b7f6aa47e79943e9a3203ad6ba",
       "rendered": true,
       "status": "Got results."
      }
     },
     "a5fd47c6654b4b4d93299325b49853b9": {
      "model_module": "@jupyter-widgets/controls",
      "model_module_version": "1.0.0",
      "model_name": "DescriptionStyleModel",
      "state": {
       "description_width": ""
      }
     },
     "a608b39f19284ec283367ab5d337358b": {
      "model_module": "@jupyter-widgets/controls",
      "model_module_version": "1.0.0",
      "model_name": "DescriptionStyleModel",
      "state": {
       "description_width": ""
      }
     },
     "a63d74d95e80498e9131ca3215a07e2b": {
      "model_module": "@jupyter-widgets/controls",
      "model_module_version": "1.0.0",
      "model_name": "TabModel",
      "state": {
       "_titles": {
        "0": "Canvas",
        "1": "Snapshot"
       },
       "children": [
        "IPY_MODEL_0748d814cdaa4977953a0c23b334e72d",
        "IPY_MODEL_2063917b01e746578dc953004cde87d4"
       ],
       "layout": "IPY_MODEL_94809965a3794ebbad2030c5e56480d4"
      }
     },
     "a6ded2f3e0cc421a9b509d41858e6534": {
      "model_module": "@jupyter-widgets/base",
      "model_module_version": "1.0.0",
      "model_name": "LayoutModel",
      "state": {}
     },
     "a877dfb60708444583c9a8667e08661e": {
      "model_module": "jp_proxy_widget",
      "model_module_version": "^0.3.4",
      "model_name": "JSProxyModel",
      "state": {
       "_model_module_version": "^0.3.4",
       "_send_counter": 8,
       "_view_module_version": "^0.3.4",
       "error_msg": "No error",
       "layout": "IPY_MODEL_50e04f9436e64280bfb0c0989297faa2",
       "rendered": true,
       "status": "Got results."
      }
     },
     "a8fdaf2113b84a8c90d7e873bc72951f": {
      "model_module": "@jupyter-widgets/controls",
      "model_module_version": "1.0.0",
      "model_name": "TabModel",
      "state": {
       "_titles": {
        "0": "Canvas",
        "1": "Snapshot"
       },
       "children": [
        "IPY_MODEL_c72f24c78e194c7db3ce730dbdcba340",
        "IPY_MODEL_92f735a19cc74a3a9b161cead3a5c9d3"
       ],
       "layout": "IPY_MODEL_479fd10eb59240aa871341beb8278905"
      }
     },
     "a95d280b7afe411796167eaa8f70cf5d": {
      "model_module": "@jupyter-widgets/base",
      "model_module_version": "1.0.0",
      "model_name": "LayoutModel",
      "state": {}
     },
     "a9b980739c4c4da4add2c22077dec471": {
      "model_module": "@jupyter-widgets/base",
      "model_module_version": "1.0.0",
      "model_name": "LayoutModel",
      "state": {}
     },
     "aa0b4f8c5f86466fb05ff94e1c31601e": {
      "model_module": "@jupyter-widgets/base",
      "model_module_version": "1.0.0",
      "model_name": "LayoutModel",
      "state": {}
     },
     "aa8d280390024463a10784ac423eaaf1": {
      "model_module": "@jupyter-widgets/controls",
      "model_module_version": "1.0.0",
      "model_name": "TabModel",
      "state": {
       "_titles": {
        "0": "Canvas",
        "1": "Snapshot"
       },
       "children": [
        "IPY_MODEL_8ab055353fd04ed3a601238d12e36448",
        "IPY_MODEL_ef67dd23f93840f585bde173d69bf790"
       ],
       "layout": "IPY_MODEL_c5208c091b94440687c21256e9ebf2d4"
      }
     },
     "aad1e98c0d9e44fa960e0c3d65d6e067": {
      "model_module": "jp_proxy_widget",
      "model_module_version": "^0.3.4",
      "model_name": "JSProxyModel",
      "state": {
       "_model_module_version": "^0.3.4",
       "_send_counter": 8,
       "_view_module_version": "^0.3.4",
       "error_msg": "No error",
       "layout": "IPY_MODEL_9e22cf10e705486f9481c03df44481f1",
       "rendered": true,
       "status": "Got results."
      }
     },
     "aafbfde9cb924106aef1a0b8df87ffa3": {
      "model_module": "@jupyter-widgets/controls",
      "model_module_version": "1.0.0",
      "model_name": "HTMLModel",
      "state": {
       "layout": "IPY_MODEL_b58624822bb245cc90d4f3de1c0f7800",
       "style": "IPY_MODEL_39d34df79214465da6bb916341dc507d",
       "value": "<img src=\"editted polygon.png\" id=\"snapshot_id_71_1536169403016\"/>\n <div id=\"snapshot_id_72_1536169403016\">editted polygon.png</div>"
      }
     },
     "abdfe4d58bfe4b9b94646e3a5a8b117d": {
      "model_module": "jp_proxy_widget",
      "model_module_version": "^0.3.4",
      "model_name": "JSProxyModel",
      "state": {
       "_model_module_version": "^0.3.4",
       "_send_counter": 2,
       "_view_module_version": "^0.3.4",
       "error_msg": "No error",
       "layout": "IPY_MODEL_241c2f8eb9a24517842a05f363d8d223",
       "rendered": true,
       "status": "Got results."
      }
     },
     "ad7a2fe3453e40418701dbf45a4136fc": {
      "model_module": "@jupyter-widgets/controls",
      "model_module_version": "1.0.0",
      "model_name": "HTMLModel",
      "state": {
       "layout": "IPY_MODEL_5059841b7e2a4a7a89a86bc13924b02e",
       "style": "IPY_MODEL_375d84e7a3f64c1187691020dfc877f2",
       "value": "<img src=\"rotated_spider.png\" id=\"snapshot_id_5_1536158980610\"/>\n <div id=\"snapshot_id_6_1536158980610\">rotated_spider.png</div>"
      }
     },
     "adc1f2f0d15c4a41a1013af3c3318d0f": {
      "model_module": "@jupyter-widgets/base",
      "model_module_version": "1.0.0",
      "model_name": "LayoutModel",
      "state": {}
     },
     "adfc042a5cb945acb60a96bdd2af723b": {
      "model_module": "@jupyter-widgets/base",
      "model_module_version": "1.0.0",
      "model_name": "LayoutModel",
      "state": {}
     },
     "aec11d0db3a649a38f4ff08d657ca72c": {
      "model_module": "@jupyter-widgets/base",
      "model_module_version": "1.0.0",
      "model_name": "LayoutModel",
      "state": {}
     },
     "aefb81cac6ad4e5b8a37db330e80c8d2": {
      "model_module": "jp_proxy_widget",
      "model_module_version": "^0.3.4",
      "model_name": "JSProxyModel",
      "state": {
       "_model_module_version": "^0.3.4",
       "_send_counter": 2,
       "_view_module_version": "^0.3.4",
       "error_msg": "No error",
       "layout": "IPY_MODEL_96d47c5e83f54ce5bb318e6d75d1f477",
       "rendered": true,
       "status": "call back to <function callback_function at 0x10de7c320>"
      }
     },
     "af17230c9d034956b1030d9126377e58": {
      "model_module": "@jupyter-widgets/base",
      "model_module_version": "1.0.0",
      "model_name": "LayoutModel",
      "state": {}
     },
     "b06086c3e229485ab3ef30e24610dbf8": {
      "model_module": "@jupyter-widgets/base",
      "model_module_version": "1.0.0",
      "model_name": "LayoutModel",
      "state": {}
     },
     "b088a6ff588240ccb4a4749516d83d2e": {
      "model_module": "@jupyter-widgets/controls",
      "model_module_version": "1.0.0",
      "model_name": "HTMLModel",
      "state": {
       "layout": "IPY_MODEL_7d7764f6e5b34028b059e0d707a058a2",
       "style": "IPY_MODEL_484834ceeead49e3ac52bf09c2ed4a83",
       "value": "<img src=\"rotated_spider.png\" id=\"snapshot_id_7_1536159071118\"/>\n <div id=\"snapshot_id_8_1536159071118\">rotated_spider.png</div>"
      }
     },
     "b1325f570e97488fac0a7477a278dc08": {
      "model_module": "@jupyter-widgets/base",
      "model_module_version": "1.0.0",
      "model_name": "LayoutModel",
      "state": {}
     },
     "b17d5beeec474dbaac250b0dda27510d": {
      "model_module": "@jupyter-widgets/controls",
      "model_module_version": "1.0.0",
      "model_name": "HTMLModel",
      "state": {
       "layout": "IPY_MODEL_af17230c9d034956b1030d9126377e58",
       "style": "IPY_MODEL_ee913cda864043c18a94da6501c6bf9c",
       "value": "<img src=\"rotated_spider.png\" id=\"snapshot_id_13_1536101036935\"/>\n <div id=\"snapshot_id_14_1536101036935\">rotated_spider.png</div>"
      }
     },
     "b1845720451448f8a4a4fb496b611b6c": {
      "model_module": "@jupyter-widgets/base",
      "model_module_version": "1.0.0",
      "model_name": "LayoutModel",
      "state": {}
     },
     "b2737b240f744d23955a5b92f76b1636": {
      "model_module": "@jupyter-widgets/controls",
      "model_module_version": "1.0.0",
      "model_name": "VBoxModel",
      "state": {
       "children": [
        "IPY_MODEL_21d8c2801967437288467cbe15f08acc",
        "IPY_MODEL_3d415e23f55847caa172c7f9ed5cfb95"
       ],
       "layout": "IPY_MODEL_1a39e630b92742528de9ca6e683de68e"
      }
     },
     "b2bdfbdd579a40e884634b9b2f316aaf": {
      "model_module": "@jupyter-widgets/base",
      "model_module_version": "1.0.0",
      "model_name": "LayoutModel",
      "state": {}
     },
     "b2c3b21a30ff4090bd4d8c317cdef34f": {
      "model_module": "@jupyter-widgets/base",
      "model_module_version": "1.0.0",
      "model_name": "LayoutModel",
      "state": {}
     },
     "b2ed90231d194224a42c2a63d997708a": {
      "model_module": "@jupyter-widgets/base",
      "model_module_version": "1.0.0",
      "model_name": "LayoutModel",
      "state": {}
     },
     "b400bd4ebe0149e7b7d2b67182194eb2": {
      "model_module": "jp_proxy_widget",
      "model_module_version": "^0.3.4",
      "model_name": "JSProxyModel",
      "state": {
       "_model_module_version": "^0.3.4",
       "_send_counter": 8,
       "_view_module_version": "^0.3.4",
       "error_msg": "No error",
       "layout": "IPY_MODEL_d58deb57b91b497ab133a306431d94b8",
       "rendered": true,
       "status": "Got results."
      }
     },
     "b4353842b159404bb91465905248c329": {
      "model_module": "@jupyter-widgets/controls",
      "model_module_version": "1.0.0",
      "model_name": "HTMLModel",
      "state": {
       "layout": "IPY_MODEL_500b87287c09454bb4178b41e14ffec3",
       "style": "IPY_MODEL_89a643f6560941a992bcacafe84f8d5e",
       "value": "<img src=\"editted polygon.png\" id=\"snapshot_id_31_1536163166993\"/>\n <div id=\"snapshot_id_32_1536163166993\">editted polygon.png</div>"
      }
     },
     "b4dcc816d34940aba031a4d302c5b72b": {
      "model_module": "@jupyter-widgets/base",
      "model_module_version": "1.0.0",
      "model_name": "LayoutModel",
      "state": {}
     },
     "b58467cca3dd42bbb91f20c3c20a887a": {
      "model_module": "@jupyter-widgets/base",
      "model_module_version": "1.0.0",
      "model_name": "LayoutModel",
      "state": {}
     },
     "b58624822bb245cc90d4f3de1c0f7800": {
      "model_module": "@jupyter-widgets/base",
      "model_module_version": "1.0.0",
      "model_name": "LayoutModel",
      "state": {}
     },
     "b6220097f9224f0698465d513514b8e6": {
      "model_module": "@jupyter-widgets/controls",
      "model_module_version": "1.0.0",
      "model_name": "DescriptionStyleModel",
      "state": {
       "description_width": ""
      }
     },
     "b66f8d89bfe0497192f9f66e4310e7ef": {
      "model_module": "jp_proxy_widget",
      "model_module_version": "^0.3.4",
      "model_name": "JSProxyModel",
      "state": {
       "_model_module_version": "^0.3.4",
       "_send_counter": 2,
       "_view_module_version": "^0.3.4",
       "error_msg": "No error",
       "layout": "IPY_MODEL_36b3e2daf70c4a3d8d8cba8f781c96dc",
       "rendered": true,
       "status": "Got results."
      }
     },
     "b6fe0ce9ec67482d8cd74bb077fc01be": {
      "model_module": "@jupyter-widgets/controls",
      "model_module_version": "1.0.0",
      "model_name": "HTMLModel",
      "state": {
       "layout": "IPY_MODEL_30939dab735649ca83579620bfb83ce3",
       "style": "IPY_MODEL_c49e892997094e03bd9153536ac9fed7",
       "value": "<img src=\"rotated_spider.png\" id=\"snapshot_id_1_1536156139164\"/>\n <div id=\"snapshot_id_2_1536156139164\">rotated_spider.png</div>"
      }
     },
     "b7509929dcdf4c25a51814875b45e44b": {
      "model_module": "jp_proxy_widget",
      "model_module_version": "^0.3.4",
      "model_name": "JSProxyModel",
      "state": {
       "_model_module_version": "^0.3.4",
       "_send_counter": 8,
       "_view_module_version": "^0.3.4",
       "error_msg": "No error",
       "layout": "IPY_MODEL_497b739478af430bbd02be6e823f37c5",
       "rendered": true,
       "status": "Got results."
      }
     },
     "b7e6ad4e24a346ec97a9f7a36d9f8c3b": {
      "model_module": "@jupyter-widgets/base",
      "model_module_version": "1.0.0",
      "model_name": "LayoutModel",
      "state": {}
     },
     "b8945f43dcfd4d54b55616ff60786923": {
      "model_module": "@jupyter-widgets/base",
      "model_module_version": "1.0.0",
      "model_name": "LayoutModel",
      "state": {}
     },
     "b97289eff09e4a8ab9156e92a7b0b181": {
      "model_module": "@jupyter-widgets/base",
      "model_module_version": "1.0.0",
      "model_name": "LayoutModel",
      "state": {}
     },
     "b9e75c89c27b4e2fa9a32b258984fe73": {
      "model_module": "@jupyter-widgets/controls",
      "model_module_version": "1.0.0",
      "model_name": "VBoxModel",
      "state": {
       "children": [
        "IPY_MODEL_c99cd1c756fe420dacbff2a760a23b10",
        "IPY_MODEL_d341c06b7aaf416292eef0037b140b7e"
       ],
       "layout": "IPY_MODEL_ff80111788e24d868236418e280bb789"
      }
     },
     "b9f6e1e4b3744ab999c7c3928033635a": {
      "model_module": "@jupyter-widgets/base",
      "model_module_version": "1.0.0",
      "model_name": "LayoutModel",
      "state": {}
     },
     "b9fc4cef1d8142cf809b62aa4e43dfd0": {
      "model_module": "@jupyter-widgets/controls",
      "model_module_version": "1.0.0",
      "model_name": "VBoxModel",
      "state": {
       "children": [
        "IPY_MODEL_11ee352b8cef44059d82bcff34af2ab9",
        "IPY_MODEL_39033cd010f7491485a07c58b7fbd668"
       ],
       "layout": "IPY_MODEL_6e9c3a36370a4303aaa1cf42f465fabb"
      }
     },
     "bc5862895836428292b93bfb302ca650": {
      "model_module": "@jupyter-widgets/base",
      "model_module_version": "1.0.0",
      "model_name": "LayoutModel",
      "state": {}
     },
     "bc7e4306369444479bb9392d4fb8aa55": {
      "model_module": "@jupyter-widgets/base",
      "model_module_version": "1.0.0",
      "model_name": "LayoutModel",
      "state": {}
     },
     "bcfb1fd894df4656bb96fd0f42fbf1f3": {
      "model_module": "@jupyter-widgets/controls",
      "model_module_version": "1.0.0",
      "model_name": "TabModel",
      "state": {
       "_titles": {
        "0": "Canvas",
        "1": "Snapshot"
       },
       "children": [
        "IPY_MODEL_dfbd5f044c8b408ab44d767543e9e311",
        "IPY_MODEL_fefc64f97de5458e8a1046acdf1ee878"
       ],
       "layout": "IPY_MODEL_d43d1d17aa8c4e4da0a72b3ea80152e4"
      }
     },
     "bd06111d15cd4bfbaeaae7c73af80b3c": {
      "model_module": "jp_proxy_widget",
      "model_module_version": "^0.3.4",
      "model_name": "JSProxyModel",
      "state": {
       "_model_module_version": "^0.3.4",
       "_send_counter": 8,
       "_view_module_version": "^0.3.4",
       "error_msg": "No error",
       "layout": "IPY_MODEL_db8aeea041ce4dc3b2243ce493eb3159",
       "rendered": true,
       "status": "Got results."
      }
     },
     "bd799986585b4f108798d85184935371": {
      "model_module": "@jupyter-widgets/base",
      "model_module_version": "1.0.0",
      "model_name": "LayoutModel",
      "state": {}
     },
     "bdf3f44bf59744bcb4643088f4c85edd": {
      "model_module": "@jupyter-widgets/base",
      "model_module_version": "1.0.0",
      "model_name": "LayoutModel",
      "state": {}
     },
     "be09d5fd6056402b97db8f237485a8a4": {
      "model_module": "@jupyter-widgets/controls",
      "model_module_version": "1.0.0",
      "model_name": "DescriptionStyleModel",
      "state": {
       "description_width": ""
      }
     },
     "be27ccae9ebf41ccaf69834582599f4b": {
      "model_module": "@jupyter-widgets/controls",
      "model_module_version": "1.0.0",
      "model_name": "VBoxModel",
      "state": {
       "children": [
        "IPY_MODEL_1916e26c385346f7a228f57b07af0591",
        "IPY_MODEL_7b159bdbd0e34ddaa210b40b8669afc0"
       ],
       "layout": "IPY_MODEL_d12496ef501a44d9ae518c87c0792825"
      }
     },
     "beeaefcc65f24cd19c8000304bf74609": {
      "model_module": "jp_proxy_widget",
      "model_module_version": "^0.3.4",
      "model_name": "JSProxyModel",
      "state": {
       "_model_module_version": "^0.3.4",
       "_send_counter": 10,
       "_view_module_version": "^0.3.4",
       "error_msg": "No error",
       "layout": "IPY_MODEL_a05e131f4bbf4f97a37ef15ae483baa3",
       "rendered": true,
       "status": "Got results."
      }
     },
     "bf908e4129d0400491d14b950b14245f": {
      "model_module": "@jupyter-widgets/base",
      "model_module_version": "1.0.0",
      "model_name": "LayoutModel",
      "state": {}
     },
     "c06d298fff9540518f25e54ca7a7a969": {
      "model_module": "@jupyter-widgets/controls",
      "model_module_version": "1.0.0",
      "model_name": "TabModel",
      "state": {
       "_titles": {
        "0": "Canvas",
        "1": "Snapshot"
       },
       "children": [
        "IPY_MODEL_003578b2d6c34689832f47fa40900ba5",
        "IPY_MODEL_7a29efab4a204c7a9abaf65b2854e1a1"
       ],
       "layout": "IPY_MODEL_2337db9a80704284bd8d7f0a8ec31367"
      }
     },
     "c095641857ea4a7fbd5c7396f52967b8": {
      "model_module": "@jupyter-widgets/controls",
      "model_module_version": "1.0.0",
      "model_name": "DescriptionStyleModel",
      "state": {
       "description_width": ""
      }
     },
     "c13ea613732c47f28fbe310f52f037a9": {
      "model_module": "@jupyter-widgets/controls",
      "model_module_version": "1.0.0",
      "model_name": "TabModel",
      "state": {
       "_titles": {
        "0": "Canvas",
        "1": "Snapshot"
       },
       "children": [
        "IPY_MODEL_470a5363fae540a6aa77c6e196ac873d",
        "IPY_MODEL_3c2da9b9eb19496b84d19797f8e1bfdb"
       ],
       "layout": "IPY_MODEL_d9641f6bf036423a90ed7299973fc889"
      }
     },
     "c1d05c6844504e4580ca267ded082393": {
      "model_module": "@jupyter-widgets/controls",
      "model_module_version": "1.0.0",
      "model_name": "TabModel",
      "state": {
       "_titles": {
        "0": "Canvas",
        "1": "Snapshot"
       },
       "children": [
        "IPY_MODEL_47541a70e39641c99260c810fdb3ab7d",
        "IPY_MODEL_4e573c2d44254de5a8bf792fbb2e3c27"
       ],
       "layout": "IPY_MODEL_d7c4ba81b62d4bd1b6f3620d9f877bc9"
      }
     },
     "c260973f29764f52b56a741de8f13c21": {
      "model_module": "@jupyter-widgets/controls",
      "model_module_version": "1.0.0",
      "model_name": "VBoxModel",
      "state": {
       "children": [
        "IPY_MODEL_c66150a336b34949a588d1d6eeb396ce",
        "IPY_MODEL_8aa53fb6148148a5acc8dd30a3cd00bd"
       ],
       "layout": "IPY_MODEL_d82815041fb749c98c131c08cdc54288"
      }
     },
     "c26f91243027446491429106edd29b5b": {
      "model_module": "jp_proxy_widget",
      "model_module_version": "^0.3.4",
      "model_name": "JSProxyModel",
      "state": {
       "_model_module_version": "^0.3.4",
       "_send_counter": 8,
       "_view_module_version": "^0.3.4",
       "error_msg": "No error",
       "layout": "IPY_MODEL_bd799986585b4f108798d85184935371",
       "rendered": true,
       "status": "Got results."
      }
     },
     "c2bfd8a59c6049688cd5a5b8f7811c12": {
      "model_module": "@jupyter-widgets/controls",
      "model_module_version": "1.0.0",
      "model_name": "DescriptionStyleModel",
      "state": {
       "description_width": ""
      }
     },
     "c321720e48cd40f9b2a61440c5756254": {
      "model_module": "@jupyter-widgets/controls",
      "model_module_version": "1.0.0",
      "model_name": "TabModel",
      "state": {
       "_titles": {
        "0": "Canvas",
        "1": "Snapshot"
       },
       "children": [
        "IPY_MODEL_f89cfe37a52848bf907d13c6cafa2439",
        "IPY_MODEL_1da2f16cacf4435f868dd9563c801c13"
       ],
       "layout": "IPY_MODEL_72be3d04415a4693a4b2837b6243b0fb"
      }
     },
     "c338dc2abed24cecb87bedbe15cbe8d3": {
      "model_module": "@jupyter-widgets/controls",
      "model_module_version": "1.0.0",
      "model_name": "TabModel",
      "state": {
       "_titles": {
        "0": "Canvas",
        "1": "Snapshot"
       },
       "children": [
        "IPY_MODEL_fee49359c64242adb955460ea0e1d3e7",
        "IPY_MODEL_fed922c489534b11a581b02b0f6ab79d"
       ],
       "layout": "IPY_MODEL_935dee9830c04ffa847e05e763a1da15"
      }
     },
     "c33c54bcb7b949f3b3b8a863b374e484": {
      "model_module": "jp_proxy_widget",
      "model_module_version": "^0.3.4",
      "model_name": "JSProxyModel",
      "state": {
       "_model_module_version": "^0.3.4",
       "_send_counter": 8,
       "_view_module_version": "^0.3.4",
       "error_msg": "No error",
       "layout": "IPY_MODEL_e19437871e09445b8c9c450559d1d15e",
       "rendered": true,
       "status": "Got results."
      }
     },
     "c41169bde19d4ead865df9a78d44d89b": {
      "model_module": "@jupyter-widgets/base",
      "model_module_version": "1.0.0",
      "model_name": "LayoutModel",
      "state": {}
     },
     "c49e892997094e03bd9153536ac9fed7": {
      "model_module": "@jupyter-widgets/controls",
      "model_module_version": "1.0.0",
      "model_name": "DescriptionStyleModel",
      "state": {
       "description_width": ""
      }
     },
     "c5208c091b94440687c21256e9ebf2d4": {
      "model_module": "@jupyter-widgets/base",
      "model_module_version": "1.0.0",
      "model_name": "LayoutModel",
      "state": {}
     },
     "c5491ec7bffc434ebf03f6821f90320e": {
      "model_module": "@jupyter-widgets/base",
      "model_module_version": "1.0.0",
      "model_name": "LayoutModel",
      "state": {}
     },
     "c56423cee6c14c989a2d1c5c07eb6f6c": {
      "model_module": "@jupyter-widgets/base",
      "model_module_version": "1.0.0",
      "model_name": "LayoutModel",
      "state": {}
     },
     "c5a6f39dbdc542d88167f8a88ec26a68": {
      "model_module": "@jupyter-widgets/base",
      "model_module_version": "1.0.0",
      "model_name": "LayoutModel",
      "state": {}
     },
     "c66150a336b34949a588d1d6eeb396ce": {
      "model_module": "jp_proxy_widget",
      "model_module_version": "^0.3.4",
      "model_name": "JSProxyModel",
      "state": {
       "_model_module_version": "^0.3.4",
       "_send_counter": 10,
       "_view_module_version": "^0.3.4",
       "error_msg": "Error: cannot add point with NaN NaN,NaN",
       "layout": "IPY_MODEL_37a2a009732149e58076583e5fed7db0",
       "rendered": true,
       "status": "Rendered."
      }
     },
     "c6c9df7c30c14bcca93477be6870810e": {
      "model_module": "@jupyter-widgets/base",
      "model_module_version": "1.0.0",
      "model_name": "LayoutModel",
      "state": {}
     },
     "c72f24c78e194c7db3ce730dbdcba340": {
      "model_module": "@jupyter-widgets/controls",
      "model_module_version": "1.0.0",
      "model_name": "VBoxModel",
      "state": {
       "children": [
        "IPY_MODEL_48f8fcc161714f1dbee9a910b5b2152d",
        "IPY_MODEL_b66f8d89bfe0497192f9f66e4310e7ef"
       ],
       "layout": "IPY_MODEL_6daa3499556744e3922174274d9347dd"
      }
     },
     "c7435f0761984dafb66b76bc4ee6216e": {
      "model_module": "@jupyter-widgets/controls",
      "model_module_version": "1.0.0",
      "model_name": "TabModel",
      "state": {
       "_titles": {
        "0": "Canvas",
        "1": "Snapshot"
       },
       "children": [
        "IPY_MODEL_b2737b240f744d23955a5b92f76b1636",
        "IPY_MODEL_15da9edd7a814cc99708de5de92d776a"
       ],
       "layout": "IPY_MODEL_97ca01a509fb450e873928d39d373493"
      }
     },
     "c7b178b5cbf84bcab1407163e25f39d4": {
      "model_module": "@jupyter-widgets/base",
      "model_module_version": "1.0.0",
      "model_name": "LayoutModel",
      "state": {}
     },
     "c8e81ec3b03d4505a8e1ed426d134a04": {
      "model_module": "@jupyter-widgets/base",
      "model_module_version": "1.0.0",
      "model_name": "LayoutModel",
      "state": {}
     },
     "c99cd1c756fe420dacbff2a760a23b10": {
      "model_module": "jp_proxy_widget",
      "model_module_version": "^0.3.4",
      "model_name": "JSProxyModel",
      "state": {
       "_model_module_version": "^0.3.4",
       "_send_counter": 10,
       "_view_module_version": "^0.3.4",
       "error_msg": "No error",
       "layout": "IPY_MODEL_c7b178b5cbf84bcab1407163e25f39d4",
       "rendered": true,
       "status": "Got results."
      }
     },
     "c9ef625fc9ac4fc6a12a181baa6c1313": {
      "model_module": "@jupyter-widgets/base",
      "model_module_version": "1.0.0",
      "model_name": "LayoutModel",
      "state": {}
     },
     "cac26fa983114dcb8b9d7786802b34e8": {
      "model_module": "@jupyter-widgets/controls",
      "model_module_version": "1.0.0",
      "model_name": "VBoxModel",
      "state": {
       "children": [
        "IPY_MODEL_1601851a866243e4b081f07d9d0afb23",
        "IPY_MODEL_6900cc55e05b409ab74701002034e585"
       ],
       "layout": "IPY_MODEL_0fa855acf506467e8479634a6322a684"
      }
     },
     "cad14892131d4c6ab7fc68e3abb301c0": {
      "model_module": "@jupyter-widgets/base",
      "model_module_version": "1.0.0",
      "model_name": "LayoutModel",
      "state": {}
     },
     "cad50fb655ca437f844a14101ada9f7a": {
      "model_module": "@jupyter-widgets/controls",
      "model_module_version": "1.0.0",
      "model_name": "DescriptionStyleModel",
      "state": {
       "description_width": ""
      }
     },
     "caecb03b9bea47dcb90d9aae4716253b": {
      "model_module": "jp_proxy_widget",
      "model_module_version": "^0.3.4",
      "model_name": "JSProxyModel",
      "state": {
       "_model_module_version": "^0.3.4",
       "_send_counter": 8,
       "_view_module_version": "^0.3.4",
       "error_msg": "No error",
       "layout": "IPY_MODEL_d1044a0ae37044bcbdfd8001784041bb",
       "rendered": true,
       "status": "Got results."
      }
     },
     "cb4f6071177b49fe9d588eda55bc3413": {
      "model_module": "jp_proxy_widget",
      "model_module_version": "^0.3.4",
      "model_name": "JSProxyModel",
      "state": {
       "_model_module_version": "^0.3.4",
       "_send_counter": 10,
       "_view_module_version": "^0.3.4",
       "error_msg": "No error",
       "layout": "IPY_MODEL_decc0dc914f24d5597c0061de84fe8b8",
       "rendered": true,
       "status": "Got results."
      }
     },
     "cb8611d9b2a54ef9848141573a45c818": {
      "model_module": "@jupyter-widgets/controls",
      "model_module_version": "1.0.0",
      "model_name": "TabModel",
      "state": {
       "_titles": {
        "0": "Canvas",
        "1": "Snapshot"
       },
       "children": [
        "IPY_MODEL_a3e9c8c5872a42478426b63963dfbd65",
        "IPY_MODEL_ed1f0b2c8d424ea496dacc420894f8e3"
       ],
       "layout": "IPY_MODEL_c6c9df7c30c14bcca93477be6870810e"
      }
     },
     "cbeeb3bfd0a849128f0b5db8a4e50176": {
      "model_module": "@jupyter-widgets/base",
      "model_module_version": "1.0.0",
      "model_name": "LayoutModel",
      "state": {}
     },
     "cc39590771c34efa842413f01e2ad05f": {
      "model_module": "jp_proxy_widget",
      "model_module_version": "^0.3.4",
      "model_name": "JSProxyModel",
      "state": {
       "_model_module_version": "^0.3.4",
       "_send_counter": 10,
       "_view_module_version": "^0.3.4",
       "error_msg": "Error: cannot add point with NaN NaN,NaN",
       "layout": "IPY_MODEL_f66c6616ab1549b68b9c89011702e26d",
       "rendered": true,
       "status": "Rendered."
      }
     },
     "ccf5902cb6374b5ea77cd7c97e63b745": {
      "model_module": "@jupyter-widgets/base",
      "model_module_version": "1.0.0",
      "model_name": "LayoutModel",
      "state": {}
     },
     "cd077024dd7d47b08265c94150578bc9": {
      "model_module": "@jupyter-widgets/base",
      "model_module_version": "1.0.0",
      "model_name": "LayoutModel",
      "state": {}
     },
     "cd2375aeffe641babc2a6a8ed20e4a43": {
      "model_module": "@jupyter-widgets/controls",
      "model_module_version": "1.0.0",
      "model_name": "HTMLModel",
      "state": {
       "layout": "IPY_MODEL_19ce6e36dbf646a685cac504abc58032",
       "style": "IPY_MODEL_101fe064d46a4c81b9091cdb67726670",
       "value": "<img src=\"editted polygon.png\" id=\"snapshot_id_15_1536161449700\"/>\n <div id=\"snapshot_id_16_1536161449700\">editted polygon.png</div>"
      }
     },
     "ce4b4b6f17b847229aad640a23b89f1f": {
      "model_module": "@jupyter-widgets/base",
      "model_module_version": "1.0.0",
      "model_name": "LayoutModel",
      "state": {}
     },
     "ce56e5a4cbb9425bb210c5f892ef9192": {
      "model_module": "@jupyter-widgets/base",
      "model_module_version": "1.0.0",
      "model_name": "LayoutModel",
      "state": {}
     },
     "ce635c9f6aa24c83b71c573fb3e5ec96": {
      "model_module": "@jupyter-widgets/base",
      "model_module_version": "1.0.0",
      "model_name": "LayoutModel",
      "state": {}
     },
     "cec872d887c2481fa3ae5be5ff6f068d": {
      "model_module": "@jupyter-widgets/base",
      "model_module_version": "1.0.0",
      "model_name": "LayoutModel",
      "state": {}
     },
     "cf1d9fee057c4a1494804583027e7306": {
      "model_module": "@jupyter-widgets/base",
      "model_module_version": "1.0.0",
      "model_name": "LayoutModel",
      "state": {}
     },
     "cf49ec80e2524e42b9ff779ca6081abb": {
      "model_module": "@jupyter-widgets/controls",
      "model_module_version": "1.0.0",
      "model_name": "TabModel",
      "state": {
       "_titles": {
        "0": "Canvas",
        "1": "Snapshot"
       },
       "children": [
        "IPY_MODEL_2d70e6380e3648a7bd6363d4c5fc7ff4",
        "IPY_MODEL_0e8b602f18e54831bcbba622d37b79b3"
       ],
       "layout": "IPY_MODEL_db626cb5190042cba8496387377c9d4d"
      }
     },
     "d014a69805064300807bbc985ec4bb15": {
      "model_module": "jp_proxy_widget",
      "model_module_version": "^0.3.4",
      "model_name": "JSProxyModel",
      "state": {
       "_model_module_version": "^0.3.4",
       "_send_counter": 8,
       "_view_module_version": "^0.3.4",
       "error_msg": "No error",
       "layout": "IPY_MODEL_bdf3f44bf59744bcb4643088f4c85edd",
       "rendered": true,
       "status": "Got results."
      }
     },
     "d060c868c76d45a2ab5587b0220b9d77": {
      "model_module": "@jupyter-widgets/base",
      "model_module_version": "1.0.0",
      "model_name": "LayoutModel",
      "state": {}
     },
     "d0623c7bcafe4a1081b0562a8650d4bd": {
      "model_module": "@jupyter-widgets/base",
      "model_module_version": "1.0.0",
      "model_name": "LayoutModel",
      "state": {}
     },
     "d1044a0ae37044bcbdfd8001784041bb": {
      "model_module": "@jupyter-widgets/base",
      "model_module_version": "1.0.0",
      "model_name": "LayoutModel",
      "state": {}
     },
     "d12496ef501a44d9ae518c87c0792825": {
      "model_module": "@jupyter-widgets/base",
      "model_module_version": "1.0.0",
      "model_name": "LayoutModel",
      "state": {}
     },
     "d148e30ecc0e47de9242005895747785": {
      "model_module": "@jupyter-widgets/base",
      "model_module_version": "1.0.0",
      "model_name": "LayoutModel",
      "state": {}
     },
     "d1d1f48f9fcb457c98d8003b10103e18": {
      "model_module": "@jupyter-widgets/base",
      "model_module_version": "1.0.0",
      "model_name": "LayoutModel",
      "state": {}
     },
     "d2290b2984444e0784db9bf60c41a921": {
      "model_module": "@jupyter-widgets/base",
      "model_module_version": "1.0.0",
      "model_name": "LayoutModel",
      "state": {}
     },
     "d2d3d39d8f41448fa0811cc232c89877": {
      "model_module": "jp_proxy_widget",
      "model_module_version": "^0.3.4",
      "model_name": "JSProxyModel",
      "state": {
       "_model_module_version": "^0.3.4",
       "_send_counter": 8,
       "_view_module_version": "^0.3.4",
       "error_msg": "No error",
       "layout": "IPY_MODEL_fa15950642ae4da7b186c502604f6340",
       "rendered": true,
       "status": "Got results."
      }
     },
     "d33a90c90b974290a29736c0478e9d79": {
      "model_module": "@jupyter-widgets/base",
      "model_module_version": "1.0.0",
      "model_name": "LayoutModel",
      "state": {}
     },
     "d341c06b7aaf416292eef0037b140b7e": {
      "model_module": "jp_proxy_widget",
      "model_module_version": "^0.3.4",
      "model_name": "JSProxyModel",
      "state": {
       "_model_module_version": "^0.3.4",
       "_send_counter": 2,
       "_view_module_version": "^0.3.4",
       "error_msg": "No error",
       "layout": "IPY_MODEL_3adb756f6b5f42ee8654f730349d4345",
       "rendered": true,
       "status": "Got results."
      }
     },
     "d376dff8723a45628e80753b2e2f5265": {
      "model_module": "@jupyter-widgets/controls",
      "model_module_version": "1.0.0",
      "model_name": "VBoxModel",
      "state": {
       "children": [
        "IPY_MODEL_35650ec855354248adad24affc5ad32c",
        "IPY_MODEL_676eb859897847ecaee8715aa51042be"
       ],
       "layout": "IPY_MODEL_bf908e4129d0400491d14b950b14245f"
      }
     },
     "d3d6b5cca5de4bb68fc61ad84708ea85": {
      "model_module": "@jupyter-widgets/base",
      "model_module_version": "1.0.0",
      "model_name": "LayoutModel",
      "state": {}
     },
     "d43d1d17aa8c4e4da0a72b3ea80152e4": {
      "model_module": "@jupyter-widgets/base",
      "model_module_version": "1.0.0",
      "model_name": "LayoutModel",
      "state": {}
     },
     "d52cd05968d24cf48c36c2d4ac7b3654": {
      "model_module": "jp_proxy_widget",
      "model_module_version": "^0.3.4",
      "model_name": "JSProxyModel",
      "state": {
       "_model_module_version": "^0.3.4",
       "_send_counter": 2,
       "_view_module_version": "^0.3.4",
       "error_msg": "No error",
       "layout": "IPY_MODEL_3025241d0b6d4ec1a189948eb1b0623c",
       "rendered": true,
       "status": "Got results."
      }
     },
     "d58deb57b91b497ab133a306431d94b8": {
      "model_module": "@jupyter-widgets/base",
      "model_module_version": "1.0.0",
      "model_name": "LayoutModel",
      "state": {}
     },
     "d6bcffb501de409b82f7a22c9fd86dd3": {
      "model_module": "@jupyter-widgets/controls",
      "model_module_version": "1.0.0",
      "model_name": "TabModel",
      "state": {
       "_titles": {
        "0": "Canvas",
        "1": "Snapshot"
       },
       "children": [
        "IPY_MODEL_949dd2f0573b4253ae3df630df5312f3",
        "IPY_MODEL_1ec829bb242c4b01982ab3546577a628"
       ],
       "layout": "IPY_MODEL_e1defed06b604d398b10b382855ee428"
      }
     },
     "d754b2fd30bf4affa5090da7c2dc9c7e": {
      "model_module": "@jupyter-widgets/controls",
      "model_module_version": "1.0.0",
      "model_name": "TabModel",
      "state": {
       "_titles": {
        "0": "Canvas",
        "1": "Snapshot"
       },
       "children": [
        "IPY_MODEL_7439aa7708da4b1f80af4803d7c9f5cf",
        "IPY_MODEL_57e2a81bbe4d43b2839e23fbcd8b9ec7"
       ],
       "layout": "IPY_MODEL_479617eac0504fb69565a679aec071e1"
      }
     },
     "d780b3efe53d44709510caf59b96bfb3": {
      "model_module": "@jupyter-widgets/base",
      "model_module_version": "1.0.0",
      "model_name": "LayoutModel",
      "state": {}
     },
     "d7c4ba81b62d4bd1b6f3620d9f877bc9": {
      "model_module": "@jupyter-widgets/base",
      "model_module_version": "1.0.0",
      "model_name": "LayoutModel",
      "state": {}
     },
     "d7eda5053c8043d9b7b864be6ca58b54": {
      "model_module": "@jupyter-widgets/controls",
      "model_module_version": "1.0.0",
      "model_name": "TabModel",
      "state": {
       "_titles": {
        "0": "Canvas",
        "1": "Snapshot"
       },
       "children": [
        "IPY_MODEL_2fc230c1c49640909934a9da78ea0316",
        "IPY_MODEL_0917fcd5459e42a7a44f18b9e0110090"
       ],
       "layout": "IPY_MODEL_9db0f229c3034c3c97a5642050729d9c"
      }
     },
     "d82815041fb749c98c131c08cdc54288": {
      "model_module": "@jupyter-widgets/base",
      "model_module_version": "1.0.0",
      "model_name": "LayoutModel",
      "state": {}
     },
     "d8ca86444d7d4325a7eec4aaeac523e3": {
      "model_module": "@jupyter-widgets/controls",
      "model_module_version": "1.0.0",
      "model_name": "DescriptionStyleModel",
      "state": {
       "description_width": ""
      }
     },
     "d958a9f62ea04c788e8d7dc1abbf4f39": {
      "model_module": "@jupyter-widgets/controls",
      "model_module_version": "1.0.0",
      "model_name": "VBoxModel",
      "state": {
       "children": [
        "IPY_MODEL_56fdc6d554d14ea9ab4b2e7482260887",
        "IPY_MODEL_6735f3d9eb394f01b4b74252a97884c2"
       ],
       "layout": "IPY_MODEL_dfffb54a51cf495a99d0a35123e04b26"
      }
     },
     "d9641f6bf036423a90ed7299973fc889": {
      "model_module": "@jupyter-widgets/base",
      "model_module_version": "1.0.0",
      "model_name": "LayoutModel",
      "state": {}
     },
     "da677a97e1b0409fa4c289b00381b52b": {
      "model_module": "@jupyter-widgets/base",
      "model_module_version": "1.0.0",
      "model_name": "LayoutModel",
      "state": {}
     },
     "dabfc003924646398ad1bc689387820f": {
      "model_module": "@jupyter-widgets/base",
      "model_module_version": "1.0.0",
      "model_name": "LayoutModel",
      "state": {}
     },
     "daf7d4cf8a5245dfa5bdf6ef38a7e6aa": {
      "model_module": "@jupyter-widgets/controls",
      "model_module_version": "1.0.0",
      "model_name": "VBoxModel",
      "state": {
       "children": [
        "IPY_MODEL_38acbbeec7814ddea071ea22c5f2d6a2",
        "IPY_MODEL_f970d665ee28434ca6e26a92440e313f"
       ],
       "layout": "IPY_MODEL_b2ed90231d194224a42c2a63d997708a"
      }
     },
     "db626cb5190042cba8496387377c9d4d": {
      "model_module": "@jupyter-widgets/base",
      "model_module_version": "1.0.0",
      "model_name": "LayoutModel",
      "state": {}
     },
     "db6dfe509d9b46b09d4c7a9d7eb5cc01": {
      "model_module": "@jupyter-widgets/base",
      "model_module_version": "1.0.0",
      "model_name": "LayoutModel",
      "state": {}
     },
     "db8aeea041ce4dc3b2243ce493eb3159": {
      "model_module": "@jupyter-widgets/base",
      "model_module_version": "1.0.0",
      "model_name": "LayoutModel",
      "state": {}
     },
     "dc34bc0323e645c6bdc99e4e8744694e": {
      "model_module": "@jupyter-widgets/base",
      "model_module_version": "1.0.0",
      "model_name": "LayoutModel",
      "state": {}
     },
     "dc5ff0c2545a41089dfa2cf7210fee07": {
      "model_module": "@jupyter-widgets/base",
      "model_module_version": "1.0.0",
      "model_name": "LayoutModel",
      "state": {}
     },
     "dd884ed7f0d746159fe29531ca6bbd87": {
      "model_module": "@jupyter-widgets/base",
      "model_module_version": "1.0.0",
      "model_name": "LayoutModel",
      "state": {}
     },
     "dd981a891ee2465f9a1f49138c4efcbd": {
      "model_module": "@jupyter-widgets/base",
      "model_module_version": "1.0.0",
      "model_name": "LayoutModel",
      "state": {}
     },
     "ddf3e178975343db9156f0712aa4ab5e": {
      "model_module": "@jupyter-widgets/base",
      "model_module_version": "1.0.0",
      "model_name": "LayoutModel",
      "state": {}
     },
     "de8e652b0fe0420f854add6ee5218801": {
      "model_module": "@jupyter-widgets/controls",
      "model_module_version": "1.0.0",
      "model_name": "TabModel",
      "state": {
       "_titles": {
        "0": "Canvas",
        "1": "Snapshot"
       },
       "children": [
        "IPY_MODEL_5d00a019fbf3456b936624792f8dc87e",
        "IPY_MODEL_f38e2f1dd37641dd9efb14f76be1ca95"
       ],
       "layout": "IPY_MODEL_0a3024a0ada84bef953f3bdb2a329899"
      }
     },
     "dec5c678789b41179306a34a2193065e": {
      "model_module": "@jupyter-widgets/base",
      "model_module_version": "1.0.0",
      "model_name": "LayoutModel",
      "state": {}
     },
     "decc0dc914f24d5597c0061de84fe8b8": {
      "model_module": "@jupyter-widgets/base",
      "model_module_version": "1.0.0",
      "model_name": "LayoutModel",
      "state": {}
     },
     "df0aec0ec2714ca589f0beab8ebc1588": {
      "model_module": "@jupyter-widgets/base",
      "model_module_version": "1.0.0",
      "model_name": "LayoutModel",
      "state": {}
     },
     "df12d9d32f1948f4987e1368cd5c0b01": {
      "model_module": "jp_proxy_widget",
      "model_module_version": "^0.3.4",
      "model_name": "JSProxyModel",
      "state": {
       "_model_module_version": "^0.3.4",
       "_send_counter": 2,
       "_view_module_version": "^0.3.4",
       "error_msg": "No error",
       "layout": "IPY_MODEL_5c2ea4129058465da5cfdcf7555549fe",
       "rendered": true,
       "status": "Got results."
      }
     },
     "df9974f384844a41936b3d1c9a25f40b": {
      "model_module": "jp_proxy_widget",
      "model_module_version": "^0.3.4",
      "model_name": "JSProxyModel",
      "state": {
       "_model_module_version": "^0.3.4",
       "_send_counter": 8,
       "_view_module_version": "^0.3.4",
       "error_msg": "No error",
       "layout": "IPY_MODEL_93562b86897042bb82a66c0372d3c718",
       "rendered": true,
       "status": "Got results."
      }
     },
     "dfa3c971ab7746bd9ffbfa503a994e05": {
      "model_module": "@jupyter-widgets/base",
      "model_module_version": "1.0.0",
      "model_name": "LayoutModel",
      "state": {}
     },
     "dfbd5f044c8b408ab44d767543e9e311": {
      "model_module": "@jupyter-widgets/controls",
      "model_module_version": "1.0.0",
      "model_name": "VBoxModel",
      "state": {
       "children": [
        "IPY_MODEL_cc39590771c34efa842413f01e2ad05f",
        "IPY_MODEL_5a2df75430504eeaafed89dc55dccd58"
       ],
       "layout": "IPY_MODEL_9bfb99e84d5241719b56f4f186376ff7"
      }
     },
     "dfffb54a51cf495a99d0a35123e04b26": {
      "model_module": "@jupyter-widgets/base",
      "model_module_version": "1.0.0",
      "model_name": "LayoutModel",
      "state": {}
     },
     "e05c066b56584daea4b9cc34799792e1": {
      "model_module": "@jupyter-widgets/controls",
      "model_module_version": "1.0.0",
      "model_name": "VBoxModel",
      "state": {
       "children": [
        "IPY_MODEL_c33c54bcb7b949f3b3b8a863b374e484",
        "IPY_MODEL_776f3420e2df468cb41fdf6d7656467e"
       ],
       "layout": "IPY_MODEL_ff50ea4535504fec8aa4bad4471dd669"
      }
     },
     "e0d4b977eccd49d983372b267a4ff032": {
      "model_module": "@jupyter-widgets/base",
      "model_module_version": "1.0.0",
      "model_name": "LayoutModel",
      "state": {}
     },
     "e150a84a466d4be3b78bada300b64533": {
      "model_module": "@jupyter-widgets/controls",
      "model_module_version": "1.0.0",
      "model_name": "VBoxModel",
      "state": {
       "children": [
        "IPY_MODEL_fd564657723e4a8d850b50bca88fea74",
        "IPY_MODEL_aefb81cac6ad4e5b8a37db330e80c8d2"
       ],
       "layout": "IPY_MODEL_97783a04f5f541bea2f53f5244a6d3af"
      }
     },
     "e19437871e09445b8c9c450559d1d15e": {
      "model_module": "@jupyter-widgets/base",
      "model_module_version": "1.0.0",
      "model_name": "LayoutModel",
      "state": {}
     },
     "e1defed06b604d398b10b382855ee428": {
      "model_module": "@jupyter-widgets/base",
      "model_module_version": "1.0.0",
      "model_name": "LayoutModel",
      "state": {}
     },
     "e23f81e82d8c422097a9a0364983e8a0": {
      "model_module": "@jupyter-widgets/base",
      "model_module_version": "1.0.0",
      "model_name": "LayoutModel",
      "state": {}
     },
     "e2c799486182444e975d36a4b55a538f": {
      "model_module": "@jupyter-widgets/controls",
      "model_module_version": "1.0.0",
      "model_name": "TabModel",
      "state": {
       "_titles": {
        "0": "Canvas",
        "1": "Snapshot"
       },
       "children": [
        "IPY_MODEL_cac26fa983114dcb8b9d7786802b34e8",
        "IPY_MODEL_ad7a2fe3453e40418701dbf45a4136fc"
       ],
       "layout": "IPY_MODEL_7fd7d2d576644696a4c809a9d7d2657b"
      }
     },
     "e2d0129908da410192bae30831d6cb0b": {
      "model_module": "@jupyter-widgets/base",
      "model_module_version": "1.0.0",
      "model_name": "LayoutModel",
      "state": {}
     },
     "e2f4fb2bd8ef43a2b27b4d9744747b3c": {
      "model_module": "@jupyter-widgets/base",
      "model_module_version": "1.0.0",
      "model_name": "LayoutModel",
      "state": {}
     },
     "e35be46be18e4c1b8ded5a5863f8fb09": {
      "model_module": "jp_proxy_widget",
      "model_module_version": "^0.3.4",
      "model_name": "JSProxyModel",
      "state": {
       "_model_module_version": "^0.3.4",
       "_send_counter": 8,
       "_view_module_version": "^0.3.4",
       "error_msg": "No error",
       "layout": "IPY_MODEL_7c134aad05c84f75af5427733f0af417",
       "rendered": true,
       "status": "Got results."
      }
     },
     "e3c3b7cf7bed4b13ab12956ded8d2f2a": {
      "model_module": "@jupyter-widgets/controls",
      "model_module_version": "1.0.0",
      "model_name": "VBoxModel",
      "state": {
       "children": [
        "IPY_MODEL_96787c30174c45629d85e352c74c79dd",
        "IPY_MODEL_6515510b380241fa8e5bdb369dc70260"
       ],
       "layout": "IPY_MODEL_f11957ac4538444a9a8f8a97985d0004"
      }
     },
     "e42ee8f8299446659385be6d8bde231b": {
      "model_module": "@jupyter-widgets/controls",
      "model_module_version": "1.0.0",
      "model_name": "VBoxModel",
      "state": {
       "children": [
        "IPY_MODEL_21d3139405314380ac10a2cf219f3ec4",
        "IPY_MODEL_315ab81b6dcf42499970ba9adaae3875"
       ],
       "layout": "IPY_MODEL_ee3f129543fc4835a4e14678d55e79fc"
      }
     },
     "e4bce5f97bc74d389cd3df6c19ca2cf7": {
      "model_module": "@jupyter-widgets/base",
      "model_module_version": "1.0.0",
      "model_name": "LayoutModel",
      "state": {}
     },
     "e535248ce1284780ba796a1961aabcda": {
      "model_module": "@jupyter-widgets/base",
      "model_module_version": "1.0.0",
      "model_name": "LayoutModel",
      "state": {}
     },
     "e5f6355cfb5a455598172f21b0762faa": {
      "model_module": "@jupyter-widgets/controls",
      "model_module_version": "1.0.0",
      "model_name": "VBoxModel",
      "state": {
       "children": [
        "IPY_MODEL_7bcc3497ed36402d9e3727cb19e047f3",
        "IPY_MODEL_40f6ec54220d44359cb9168d0e051c70"
       ],
       "layout": "IPY_MODEL_22fd5d3a721d489192762c18aeb1a404"
      }
     },
     "e633a92aa10b44bb86b070ed8dc51ccf": {
      "model_module": "@jupyter-widgets/controls",
      "model_module_version": "1.0.0",
      "model_name": "VBoxModel",
      "state": {
       "children": [
        "IPY_MODEL_7690395b6a2947faba484e0ea41ee161",
        "IPY_MODEL_605c435294b64baf911c1d27dba4f010"
       ],
       "layout": "IPY_MODEL_b06086c3e229485ab3ef30e24610dbf8"
      }
     },
     "e65664c146974b22a42af74829fe2ee5": {
      "model_module": "@jupyter-widgets/base",
      "model_module_version": "1.0.0",
      "model_name": "LayoutModel",
      "state": {}
     },
     "e761b0fc6d0d48a9917eb1244ae1c805": {
      "model_module": "jp_proxy_widget",
      "model_module_version": "^0.3.4",
      "model_name": "JSProxyModel",
      "state": {
       "_model_module_version": "^0.3.4",
       "_send_counter": 8,
       "_view_module_version": "^0.3.4",
       "error_msg": "No error",
       "layout": "IPY_MODEL_efab40157ddd4c4da66cf890a9f9a235",
       "rendered": true,
       "status": "Got results."
      }
     },
     "e7877798ec7249ec9d08a8e358cd5b79": {
      "model_module": "jp_proxy_widget",
      "model_module_version": "^0.3.4",
      "model_name": "JSProxyModel",
      "state": {
       "_model_module_version": "^0.3.4",
       "_send_counter": 2,
       "_view_module_version": "^0.3.4",
       "error_msg": "No error",
       "layout": "IPY_MODEL_fe1078d7845e4c8a969ab05f846672c3",
       "rendered": true,
       "status": "Got results."
      }
     },
     "e79559be6f884f9daed71096fa01a174": {
      "model_module": "@jupyter-widgets/base",
      "model_module_version": "1.0.0",
      "model_name": "LayoutModel",
      "state": {}
     },
     "e7f0f5c1c77a4f9c8998ff549f69e59a": {
      "model_module": "@jupyter-widgets/controls",
      "model_module_version": "1.0.0",
      "model_name": "DescriptionStyleModel",
      "state": {
       "description_width": ""
      }
     },
     "e8594d57a37f4cc7a6b80fd8ee38ba19": {
      "model_module": "@jupyter-widgets/base",
      "model_module_version": "1.0.0",
      "model_name": "LayoutModel",
      "state": {}
     },
     "e88aaa5991ea4f30b520e73d4353f588": {
      "model_module": "@jupyter-widgets/base",
      "model_module_version": "1.0.0",
      "model_name": "LayoutModel",
      "state": {}
     },
     "e8a21641140a48368dee4b53b4e27700": {
      "model_module": "@jupyter-widgets/base",
      "model_module_version": "1.0.0",
      "model_name": "LayoutModel",
      "state": {}
     },
     "e9850ae1608842bfa76457dd74eba4d8": {
      "model_module": "jp_proxy_widget",
      "model_module_version": "^0.3.4",
      "model_name": "JSProxyModel",
      "state": {
       "_model_module_version": "^0.3.4",
       "_send_counter": 2,
       "_view_module_version": "^0.3.4",
       "error_msg": "No error",
       "layout": "IPY_MODEL_d0623c7bcafe4a1081b0562a8650d4bd",
       "rendered": true,
       "status": "Got results."
      }
     },
     "e9bcd8125caf478983e262b8eacb5974": {
      "model_module": "@jupyter-widgets/controls",
      "model_module_version": "1.0.0",
      "model_name": "VBoxModel",
      "state": {
       "children": [
        "IPY_MODEL_2bc17f4044c24932aaad9df3d26bb888",
        "IPY_MODEL_2b2ce0c0336c4396be1a9eba00e2d802"
       ],
       "layout": "IPY_MODEL_d780b3efe53d44709510caf59b96bfb3"
      }
     },
     "e9d1b5bfc1d74a52bd1d6bca4946c916": {
      "model_module": "@jupyter-widgets/controls",
      "model_module_version": "1.0.0",
      "model_name": "DescriptionStyleModel",
      "state": {
       "description_width": ""
      }
     },
     "ea5015d2051749f78960fb7b6d449c7e": {
      "model_module": "@jupyter-widgets/controls",
      "model_module_version": "1.0.0",
      "model_name": "DescriptionStyleModel",
      "state": {
       "description_width": ""
      }
     },
     "ea624f423cdf472aaf4d912cafe1ab0a": {
      "model_module": "@jupyter-widgets/base",
      "model_module_version": "1.0.0",
      "model_name": "LayoutModel",
      "state": {}
     },
     "eaeb44813a434a1eacde563c6f1e473f": {
      "model_module": "@jupyter-widgets/controls",
      "model_module_version": "1.0.0",
      "model_name": "DescriptionStyleModel",
      "state": {
       "description_width": ""
      }
     },
     "eb330d9fba5240aa90c2bc08e41975b5": {
      "model_module": "@jupyter-widgets/controls",
      "model_module_version": "1.0.0",
      "model_name": "HTMLModel",
      "state": {
       "layout": "IPY_MODEL_855cfd009c1a43daaa6f27fc7d90e6cd",
       "style": "IPY_MODEL_e7f0f5c1c77a4f9c8998ff549f69e59a",
       "value": "<img src=\"editted polygon.png\" id=\"snapshot_id_51_1536165809317\"/>\n <div id=\"snapshot_id_52_1536165809317\">editted polygon.png</div>"
      }
     },
     "ebbe0ee3d10f4b30bf49554e3daec608": {
      "model_module": "@jupyter-widgets/controls",
      "model_module_version": "1.0.0",
      "model_name": "TabModel",
      "state": {
       "_titles": {
        "0": "Canvas",
        "1": "Snapshot"
       },
       "children": [
        "IPY_MODEL_40473cbcfbbf47cba1863fa66529ef4e",
        "IPY_MODEL_8910ae41e39b4ea89d7c5672e1514d0e"
       ],
       "layout": "IPY_MODEL_cd077024dd7d47b08265c94150578bc9"
      }
     },
     "ebc2fdb47bf545b4af933a1074373264": {
      "model_module": "@jupyter-widgets/base",
      "model_module_version": "1.0.0",
      "model_name": "LayoutModel",
      "state": {}
     },
     "ebcdac76c5504dcd93fbf23fde3a1f7d": {
      "model_module": "@jupyter-widgets/controls",
      "model_module_version": "1.0.0",
      "model_name": "VBoxModel",
      "state": {
       "children": [
        "IPY_MODEL_2cfcd12fe5b8491a9d64d50c245bb4c3",
        "IPY_MODEL_9927bd905c79408f87b9425a96887fe0"
       ],
       "layout": "IPY_MODEL_5c9d8b0c6e674073b41ebc32adaba1ca"
      }
     },
     "ec89f6758c744ec28bb2a55de94fa568": {
      "model_module": "@jupyter-widgets/base",
      "model_module_version": "1.0.0",
      "model_name": "LayoutModel",
      "state": {}
     },
     "ecdd957b902b4e349127b7bfd0f7b5f4": {
      "model_module": "@jupyter-widgets/controls",
      "model_module_version": "1.0.0",
      "model_name": "DescriptionStyleModel",
      "state": {
       "description_width": ""
      }
     },
     "ed1f0b2c8d424ea496dacc420894f8e3": {
      "model_module": "@jupyter-widgets/controls",
      "model_module_version": "1.0.0",
      "model_name": "HTMLModel",
      "state": {
       "layout": "IPY_MODEL_66dd41c86b274891aec4cd27cb960475",
       "style": "IPY_MODEL_98aec32d02814208a2d8fba4d8feec53",
       "value": "<img src=\"rotated_spider.png\" id=\"snapshot_id_1_1536155738807\"/>\n <div id=\"snapshot_id_2_1536155738807\">rotated_spider.png</div>"
      }
     },
     "ed499fbbd54d443cba4ee5f7ce0d208e": {
      "model_module": "@jupyter-widgets/controls",
      "model_module_version": "1.0.0",
      "model_name": "HTMLModel",
      "state": {
       "layout": "IPY_MODEL_1e7fc3545db54c87bdd02f97041a2f20",
       "style": "IPY_MODEL_543bb1e44f92433385855d274406896c",
       "value": "<img src=\"editted polygon.png\" id=\"snapshot_id_54_1536168295133\"/>\n <div id=\"snapshot_id_55_1536168295133\">editted polygon.png</div>"
      }
     },
     "ed5c4a03888a440d848d726027f2df21": {
      "model_module": "@jupyter-widgets/base",
      "model_module_version": "1.0.0",
      "model_name": "LayoutModel",
      "state": {}
     },
     "ed6c51b7f6aa47e79943e9a3203ad6ba": {
      "model_module": "@jupyter-widgets/base",
      "model_module_version": "1.0.0",
      "model_name": "LayoutModel",
      "state": {}
     },
     "ede2a12f02214a098a27115f2640efc9": {
      "model_module": "@jupyter-widgets/base",
      "model_module_version": "1.0.0",
      "model_name": "LayoutModel",
      "state": {}
     },
     "ee3f129543fc4835a4e14678d55e79fc": {
      "model_module": "@jupyter-widgets/base",
      "model_module_version": "1.0.0",
      "model_name": "LayoutModel",
      "state": {}
     },
     "ee4b64321cb84800b31dd2aa8a2ccfe0": {
      "model_module": "@jupyter-widgets/controls",
      "model_module_version": "1.0.0",
      "model_name": "VBoxModel",
      "state": {
       "children": [
        "IPY_MODEL_22b2af41a8854cb6b8b597716ceeb270",
        "IPY_MODEL_3c8197af732b4c6ea30d2cf83941b4af"
       ],
       "layout": "IPY_MODEL_8b95450ed8714fd7b3065058581720a5"
      }
     },
     "ee913cda864043c18a94da6501c6bf9c": {
      "model_module": "@jupyter-widgets/controls",
      "model_module_version": "1.0.0",
      "model_name": "DescriptionStyleModel",
      "state": {
       "description_width": ""
      }
     },
     "eec7d6a6df7f4074a4d080c6d9b68850": {
      "model_module": "@jupyter-widgets/base",
      "model_module_version": "1.0.0",
      "model_name": "LayoutModel",
      "state": {}
     },
     "ef1d54063d864451815956ebee4ff064": {
      "model_module": "@jupyter-widgets/controls",
      "model_module_version": "1.0.0",
      "model_name": "HTMLModel",
      "state": {
       "layout": "IPY_MODEL_0c2537dab2a54e399db4532bb81b42ab",
       "style": "IPY_MODEL_9a730b2d09ba42898eeab3f82374246e",
       "value": "<img src=\"rotated_spider.png\" id=\"snapshot_id_1_1536155660713\"/>\n <div id=\"snapshot_id_2_1536155660713\">rotated_spider.png</div>"
      }
     },
     "ef3989fff0af4cbe9e1e55da05f5b2d0": {
      "model_module": "@jupyter-widgets/controls",
      "model_module_version": "1.0.0",
      "model_name": "HTMLModel",
      "state": {
       "layout": "IPY_MODEL_0d5940a5af3e4f80a283dfa922d76374",
       "style": "IPY_MODEL_f31594b5ffc44753ae255957da1e5865",
       "value": "<img src=\"rotated_spider.png\" id=\"snapshot_id_1_1536155352265\"/>\n <div id=\"snapshot_id_2_1536155352265\">rotated_spider.png</div>"
      }
     },
     "ef67dd23f93840f585bde173d69bf790": {
      "model_module": "@jupyter-widgets/controls",
      "model_module_version": "1.0.0",
      "model_name": "HTMLModel",
      "state": {
       "layout": "IPY_MODEL_71c830b5a6f54af7b2035126b5409aba",
       "style": "IPY_MODEL_86375a35225b42bab052890e00bcc72d",
       "value": "<img src=\"rotated_spider.png\" id=\"snapshot_id_5_1536097079136\"/>\n <div id=\"snapshot_id_6_1536097079136\">rotated_spider.png</div>"
      }
     },
     "ef9656bb9d7a47f193e2302643ee9ccd": {
      "model_module": "@jupyter-widgets/controls",
      "model_module_version": "1.0.0",
      "model_name": "HTMLModel",
      "state": {
       "layout": "IPY_MODEL_462fa2c3e01843b1a674172825277a31",
       "style": "IPY_MODEL_03eb06cbe9a24b7bb2d4d4e197f549f0",
       "value": "<img src=\"rotated_spider.png\" id=\"snapshot_id_11_1536157736628\"/>\n <div id=\"snapshot_id_12_1536157736628\">rotated_spider.png</div>"
      }
     },
     "efab40157ddd4c4da66cf890a9f9a235": {
      "model_module": "@jupyter-widgets/base",
      "model_module_version": "1.0.0",
      "model_name": "LayoutModel",
      "state": {}
     },
     "efe4555a3aef4b089137b0b9af5a5633": {
      "model_module": "@jupyter-widgets/controls",
      "model_module_version": "1.0.0",
      "model_name": "DescriptionStyleModel",
      "state": {
       "description_width": ""
      }
     },
     "f03f8a0ac06544b4ad0ff601a627d70a": {
      "model_module": "@jupyter-widgets/base",
      "model_module_version": "1.0.0",
      "model_name": "LayoutModel",
      "state": {}
     },
     "f0a79b02006c4c4a994b865c13ec2e2f": {
      "model_module": "@jupyter-widgets/base",
      "model_module_version": "1.0.0",
      "model_name": "LayoutModel",
      "state": {}
     },
     "f0b43cfde44a40a9b89b2618b6dbb23a": {
      "model_module": "@jupyter-widgets/base",
      "model_module_version": "1.0.0",
      "model_name": "LayoutModel",
      "state": {}
     },
     "f11957ac4538444a9a8f8a97985d0004": {
      "model_module": "@jupyter-widgets/base",
      "model_module_version": "1.0.0",
      "model_name": "LayoutModel",
      "state": {}
     },
     "f187a1bafd7d409ebaf3882b175ce01e": {
      "model_module": "@jupyter-widgets/controls",
      "model_module_version": "1.0.0",
      "model_name": "TabModel",
      "state": {
       "_titles": {
        "0": "Canvas",
        "1": "Snapshot"
       },
       "children": [
        "IPY_MODEL_e3c3b7cf7bed4b13ab12956ded8d2f2a",
        "IPY_MODEL_848e14610b254a5ba076b468c141b050"
       ],
       "layout": "IPY_MODEL_010f61c8734143f681abe6d035ebadc0"
      }
     },
     "f1f44446ae5c48ecb63434d7b02f451e": {
      "model_module": "@jupyter-widgets/controls",
      "model_module_version": "1.0.0",
      "model_name": "HTMLModel",
      "state": {
       "layout": "IPY_MODEL_327ce8f301b44573b031fe70ae1d656d",
       "style": "IPY_MODEL_c2bfd8a59c6049688cd5a5b8f7811c12",
       "value": "<img src=\"rotated_spider.png\" id=\"snapshot_id_3_1536097057048\"/>\n <div id=\"snapshot_id_4_1536097057048\">rotated_spider.png</div>"
      }
     },
     "f31594b5ffc44753ae255957da1e5865": {
      "model_module": "@jupyter-widgets/controls",
      "model_module_version": "1.0.0",
      "model_name": "DescriptionStyleModel",
      "state": {
       "description_width": ""
      }
     },
     "f38e2f1dd37641dd9efb14f76be1ca95": {
      "model_module": "@jupyter-widgets/controls",
      "model_module_version": "1.0.0",
      "model_name": "HTMLModel",
      "state": {
       "layout": "IPY_MODEL_a6ded2f3e0cc421a9b509d41858e6534",
       "style": "IPY_MODEL_fd5f2e31ce3e4109a2e02391ec0723cf",
       "value": "<img src=\"editted polygon.png\" id=\"snapshot_id_23_1536162565876\"/>\n <div id=\"snapshot_id_24_1536162565876\">editted polygon.png</div>"
      }
     },
     "f3b942dac6ed4a97993595a9044c3f47": {
      "model_module": "jp_proxy_widget",
      "model_module_version": "^0.3.4",
      "model_name": "JSProxyModel",
      "state": {
       "_model_module_version": "^0.3.4",
       "_send_counter": 8,
       "_view_module_version": "^0.3.4",
       "error_msg": "No error",
       "layout": "IPY_MODEL_2725746a41b14cc882339f6265042333",
       "rendered": true,
       "status": "Got results."
      }
     },
     "f41bf5675aa7475c9fea9dc4157d8fd5": {
      "model_module": "jp_proxy_widget",
      "model_module_version": "^0.3.4",
      "model_name": "JSProxyModel",
      "state": {
       "_model_module_version": "^0.3.4",
       "_send_counter": 2,
       "_view_module_version": "^0.3.4",
       "error_msg": "No error",
       "layout": "IPY_MODEL_a534dea967e24847bbc1d6949418c797",
       "rendered": true,
       "status": "Got results."
      }
     },
     "f423ca6dee4542bf9a5e4801c4e0a2dd": {
      "model_module": "@jupyter-widgets/controls",
      "model_module_version": "1.0.0",
      "model_name": "VBoxModel",
      "state": {
       "children": [
        "IPY_MODEL_02e0ffb1e6794663a56ae0477d322746",
        "IPY_MODEL_6a8818f02b93454db9c23d5276ee68ca"
       ],
       "layout": "IPY_MODEL_7ddcf969b867450c99b7c228a96c3de7"
      }
     },
     "f574526291cc4965bfee9e148317b44b": {
      "model_module": "@jupyter-widgets/controls",
      "model_module_version": "1.0.0",
      "model_name": "HTMLModel",
      "state": {
       "layout": "IPY_MODEL_7906c05790964216b39aadaa46d642ad",
       "style": "IPY_MODEL_eaeb44813a434a1eacde563c6f1e473f",
       "value": "<img src=\"rotated_spider.png\" id=\"snapshot_id_11_1536097144137\"/>\n <div id=\"snapshot_id_12_1536097144137\">rotated_spider.png</div>"
      }
     },
     "f5b0167198d644a1a2da133482499025": {
      "model_module": "@jupyter-widgets/controls",
      "model_module_version": "1.0.0",
      "model_name": "HTMLModel",
      "state": {
       "layout": "IPY_MODEL_7a14529c040c4e888daf2756943891f6",
       "style": "IPY_MODEL_6b2e61d80cf449c99f878e8ea11e8e83",
       "value": "<img src=\"editted polygon.png\" id=\"snapshot_id_9_1536159930135\"/>\n <div id=\"snapshot_id_10_1536159930135\">editted polygon.png</div>"
      }
     },
     "f66c6616ab1549b68b9c89011702e26d": {
      "model_module": "@jupyter-widgets/base",
      "model_module_version": "1.0.0",
      "model_name": "LayoutModel",
      "state": {}
     },
     "f6dcffaf9438401da07c88ed560c886e": {
      "model_module": "@jupyter-widgets/controls",
      "model_module_version": "1.0.0",
      "model_name": "DescriptionStyleModel",
      "state": {
       "description_width": ""
      }
     },
     "f79510da314a4d4ea9dd9c0fa6179edc": {
      "model_module": "@jupyter-widgets/controls",
      "model_module_version": "1.0.0",
      "model_name": "HTMLModel",
      "state": {
       "layout": "IPY_MODEL_518db9ced59249b99cee65043c39e71a",
       "style": "IPY_MODEL_c095641857ea4a7fbd5c7396f52967b8",
       "value": "<img src=\"rotated_spider.png\" id=\"snapshot_id_9_1536157515750\"/>\n <div id=\"snapshot_id_10_1536157515750\">rotated_spider.png</div>"
      }
     },
     "f89cfe37a52848bf907d13c6cafa2439": {
      "model_module": "@jupyter-widgets/controls",
      "model_module_version": "1.0.0",
      "model_name": "VBoxModel",
      "state": {
       "children": [
        "IPY_MODEL_e761b0fc6d0d48a9917eb1244ae1c805",
        "IPY_MODEL_3b87b7fc007045d99bd8b2e15cbfcb73"
       ],
       "layout": "IPY_MODEL_d3d6b5cca5de4bb68fc61ad84708ea85"
      }
     },
     "f93113183e184bafa4a298ee82668c2a": {
      "model_module": "@jupyter-widgets/base",
      "model_module_version": "1.0.0",
      "model_name": "LayoutModel",
      "state": {}
     },
     "f970d665ee28434ca6e26a92440e313f": {
      "model_module": "jp_proxy_widget",
      "model_module_version": "^0.3.4",
      "model_name": "JSProxyModel",
      "state": {
       "_model_module_version": "^0.3.4",
       "_send_counter": 2,
       "_view_module_version": "^0.3.4",
       "error_msg": "No error",
       "layout": "IPY_MODEL_8575936b22e04d719131e66c3e3dfe11",
       "rendered": true,
       "status": "Got results."
      }
     },
     "f99d237e1aca4450abe27748f1e820b7": {
      "model_module": "@jupyter-widgets/controls",
      "model_module_version": "1.0.0",
      "model_name": "VBoxModel",
      "state": {
       "children": [
        "IPY_MODEL_a41004061085433daa30cc5c4310e7cd",
        "IPY_MODEL_66f9b41a6f9d419c9071610be41678a2"
       ],
       "layout": "IPY_MODEL_ce56e5a4cbb9425bb210c5f892ef9192"
      }
     },
     "f99f956fc8a949f4aed56548bcf7b4e2": {
      "model_module": "jp_proxy_widget",
      "model_module_version": "^0.3.4",
      "model_name": "JSProxyModel",
      "state": {
       "_model_module_version": "^0.3.4",
       "_send_counter": 8,
       "_view_module_version": "^0.3.4",
       "error_msg": "No error",
       "layout": "IPY_MODEL_483a6fe6fc1b4477bfad7fe9f4992cb2",
       "rendered": true,
       "status": "Got results."
      }
     },
     "fa15950642ae4da7b186c502604f6340": {
      "model_module": "@jupyter-widgets/base",
      "model_module_version": "1.0.0",
      "model_name": "LayoutModel",
      "state": {}
     },
     "fb02282faa184849b8d5d4d353d339ac": {
      "model_module": "@jupyter-widgets/base",
      "model_module_version": "1.0.0",
      "model_name": "LayoutModel",
      "state": {}
     },
     "fb6f1f175f82451bb4c6a8a64e3c07b1": {
      "model_module": "jp_proxy_widget",
      "model_module_version": "^0.3.4",
      "model_name": "JSProxyModel",
      "state": {
       "_model_module_version": "^0.3.4",
       "_send_counter": 2,
       "_view_module_version": "^0.3.4",
       "error_msg": "No error",
       "layout": "IPY_MODEL_49e430f1484640cea175e684ec8faa6a",
       "rendered": true,
       "status": "Got results."
      }
     },
     "fc4ebfd7c9e54f2bba12f2710d043edc": {
      "model_module": "jp_proxy_widget",
      "model_module_version": "^0.3.4",
      "model_name": "JSProxyModel",
      "state": {
       "_model_module_version": "^0.3.4",
       "_send_counter": 2,
       "_view_module_version": "^0.3.4",
       "error_msg": "No error",
       "layout": "IPY_MODEL_3df0446a280a4bffb15d6431c38a3fa3",
       "rendered": true,
       "status": "Got results."
      }
     },
     "fd564657723e4a8d850b50bca88fea74": {
      "model_module": "jp_proxy_widget",
      "model_module_version": "^0.3.4",
      "model_name": "JSProxyModel",
      "state": {
       "_model_module_version": "^0.3.4",
       "_send_counter": 15,
       "_view_module_version": "^0.3.4",
       "error_msg": "No error",
       "layout": "IPY_MODEL_5a440135213641cfa710f992a0d643f3",
       "rendered": true,
       "status": "Got results."
      }
     },
     "fd5f2e31ce3e4109a2e02391ec0723cf": {
      "model_module": "@jupyter-widgets/controls",
      "model_module_version": "1.0.0",
      "model_name": "DescriptionStyleModel",
      "state": {
       "description_width": ""
      }
     },
     "fe1078d7845e4c8a969ab05f846672c3": {
      "model_module": "@jupyter-widgets/base",
      "model_module_version": "1.0.0",
      "model_name": "LayoutModel",
      "state": {}
     },
     "fe256efd7b5549fc9268b6053e45770f": {
      "model_module": "@jupyter-widgets/base",
      "model_module_version": "1.0.0",
      "model_name": "LayoutModel",
      "state": {}
     },
     "fed922c489534b11a581b02b0f6ab79d": {
      "model_module": "@jupyter-widgets/controls",
      "model_module_version": "1.0.0",
      "model_name": "HTMLModel",
      "state": {
       "layout": "IPY_MODEL_d33a90c90b974290a29736c0478e9d79",
       "style": "IPY_MODEL_b6220097f9224f0698465d513514b8e6",
       "value": "<img src=\"editted polygon.png\" id=\"snapshot_id_21_1536162427240\"/>\n <div id=\"snapshot_id_22_1536162427240\">editted polygon.png</div>"
      }
     },
     "fee49359c64242adb955460ea0e1d3e7": {
      "model_module": "@jupyter-widgets/controls",
      "model_module_version": "1.0.0",
      "model_name": "VBoxModel",
      "state": {
       "children": [
        "IPY_MODEL_710bfa68450547d6b7028d87e473110f",
        "IPY_MODEL_4cbca3f53e584c9daba38272b9d06245"
       ],
       "layout": "IPY_MODEL_9fb430e01c844b00b54c68077c7441f8"
      }
     },
     "fee57aba8ae74751b51d528ce3d4f3ae": {
      "model_module": "@jupyter-widgets/controls",
      "model_module_version": "1.0.0",
      "model_name": "HTMLModel",
      "state": {
       "layout": "IPY_MODEL_385b41ebdc5e45b9b027ec5940133311",
       "style": "IPY_MODEL_be09d5fd6056402b97db8f237485a8a4",
       "value": "<img src=\"rotated_spider.png\" id=\"snapshot_id_1_1536156167001\"/>\n <div id=\"snapshot_id_2_1536156167001\">rotated_spider.png</div>"
      }
     },
     "fefc64f97de5458e8a1046acdf1ee878": {
      "model_module": "@jupyter-widgets/controls",
      "model_module_version": "1.0.0",
      "model_name": "HTMLModel",
      "state": {
       "layout": "IPY_MODEL_a589333906aa44869fbf441d92afdba9",
       "style": "IPY_MODEL_15767a644c444980aa5c2af57a01aa9e",
       "value": "<img src=\"rotated_spider.png\" id=\"snapshot_id_1_1536156189050\"/>\n <div id=\"snapshot_id_2_1536156189050\">rotated_spider.png</div>"
      }
     },
     "ff03c23e55304e9a8adc909230da6461": {
      "model_module": "@jupyter-widgets/base",
      "model_module_version": "1.0.0",
      "model_name": "LayoutModel",
      "state": {}
     },
     "ff15f0b2022b4ed2a83dc9db25e82911": {
      "model_module": "@jupyter-widgets/base",
      "model_module_version": "1.0.0",
      "model_name": "LayoutModel",
      "state": {}
     },
     "ff50ea4535504fec8aa4bad4471dd669": {
      "model_module": "@jupyter-widgets/base",
      "model_module_version": "1.0.0",
      "model_name": "LayoutModel",
      "state": {}
     },
     "ff80111788e24d868236418e280bb789": {
      "model_module": "@jupyter-widgets/base",
      "model_module_version": "1.0.0",
      "model_name": "LayoutModel",
      "state": {}
     }
    },
    "version_major": 2,
    "version_minor": 0
   }
  }
 },
 "nbformat": 4,
 "nbformat_minor": 2
}
