{
 "cells": [
  {
   "cell_type": "code",
   "execution_count": 9,
   "metadata": {
    "collapsed": false,
    "deletable": true,
    "editable": true,
    "scrolled": false
   },
   "outputs": [
    {
     "data": {
      "application/vnd.jupyter.widget-view+json": {
       "model_id": "78927e0bebb54a49b8d4adf999e48521",
       "version_major": 2,
       "version_minor": 0
      },
      "text/html": [
       "<p>Failed to display Jupyter Widget of type <code>Tab</code>.</p>\n",
       "<p>\n",
       "  If you're reading this message in Jupyter Notebook or JupyterLab, it may mean\n",
       "  that the widgets JavaScript is still loading. If this message persists, it\n",
       "  likely means that the widgets JavaScript library is either not installed or\n",
       "  not enabled. See the <a href=\"https://ipywidgets.readthedocs.io/en/stable/user_install.html\">Jupyter\n",
       "  Widgets Documentation</a> for setup instructions.\n",
       "</p>\n",
       "<p>\n",
       "  If you're reading this message in another notebook frontend (for example, a static\n",
       "  rendering on GitHub or <a href=\"https://nbviewer.jupyter.org/\">NBViewer</a>),\n",
       "  it may mean that your frontend doesn't currently support widgets.\n",
       "</p>\n"
      ],
      "text/plain": [
       "Tab(children=(VBox(children=(SnapshotCanvas(status=u'Not yet rendered'), JSProxyWidget(status=u'Not yet rendered'))), HTML(value=u'<img src=\"color_chooser.png\" id=\"snapshot_id_20_1536459894674\"/>\\n <div id=\"snapshot_id_21_1536459894674\">color_chooser.png</div>')), _titles={u'1': 'Snapshot', u'0': 'Canvas'})"
      ]
     },
     "metadata": {},
     "output_type": "display_data"
    }
   ],
   "source": [
    "from jp_doodle import dual_canvas\n",
    "from IPython.display import display\n",
    "\n",
    "color_chooser = dual_canvas.SnapshotCanvas(\"color_chooser.png\", width=600, height=600)\n",
    "color_chooser.display_all()\n",
    "\n",
    "color_chooser.js_init(\"\"\"\n",
    "\n",
    "var color_chooser = function(config) {\n",
    "    var settings = $.extend({\n",
    "        side: 200,\n",
    "        x: 0,\n",
    "        y: 0,\n",
    "        font: \"normal 10px Arial\",\n",
    "        callback: null,\n",
    "    }, config);\n",
    "    const color_max = 255;\n",
    "    // intensity is total of all colors\n",
    "    const max_intensity = color_max * 3;\n",
    "    var side = settings.side;\n",
    "    var current_intensity = max_intensity;\n",
    "    var current_rgb = [color_max, color_max, color_max];\n",
    "\n",
    "    var right = side * 0.25;\n",
    "    var left = side - right;\n",
    "    var top = left;\n",
    "    var bottom = right;\n",
    "    \n",
    "    // intensity frame shows intensities\n",
    "    slider_height = 20;\n",
    "    column_width = 0.25;\n",
    "    \n",
    "    var intensity_frame = element.frame_region(\n",
    "        left, 0, side, side, 0, 0, 1.0, max_intensity+slider_height);\n",
    "    // scaling factors for width and height\n",
    "    var i_wscale = right;\n",
    "    var i_hscale = side / (max_intensity+slider_height)\n",
    "    var gray_scale = function(intensity) {\n",
    "        var third = intensity * 0.333;\n",
    "        return element.array_to_color([third, third, third]);\n",
    "    };\n",
    "    for (var intensity=0; intensity<=max_intensity; intensity++) {\n",
    "        intensity_frame.rect({\n",
    "            x: column_width,\n",
    "            y: intensity,\n",
    "            w: i_wscale * column_width,\n",
    "            h: i_hscale * 1,\n",
    "            color: gray_scale(intensity)\n",
    "        });\n",
    "    }\n",
    "    intensity_frame.rect({\n",
    "        name: \"islider\",\n",
    "        x: 0,\n",
    "        y: current_intensity,\n",
    "        w: i_wscale * column_width * 3,\n",
    "        h: i_hscale * slider_height,\n",
    "        color: gray_scale(current_intensity),\n",
    "    });\n",
    "    intensity_frame.rect({\n",
    "        name: \"ibox\",\n",
    "        x: 0,\n",
    "        y: current_intensity,\n",
    "        w: i_wscale * column_width * 3,\n",
    "        h: i_hscale * slider_height,\n",
    "        fill: false,\n",
    "        color: \"black\",\n",
    "    });\n",
    "    // invisible column for events\n",
    "    intensity_frame.rect({\n",
    "        name: \"icolumn\",\n",
    "        color: \"rgba(0,0,0,0)\",\n",
    "        //color: \"rgba(255,0,0,1.0)\", fill: false, // for debug.\n",
    "        x: 0,\n",
    "        y: 0,\n",
    "        w: i_wscale * column_width * 3,\n",
    "        h: i_hscale * max_intensity,\n",
    "    });\n",
    "    var intensity_mouse_over = function(event) {\n",
    "        var frame_location = intensity_frame.event_model_location(event);\n",
    "        var intensity = Math.round(frame_location.y);\n",
    "        intensity = Math.min(Math.max(0, intensity), max_intensity);\n",
    "        element.change(\"ibox\", {y:intensity});\n",
    "        element.change(\"islider\", {y:intensity, color:gray_scale(intensity)});\n",
    "        current_intensity = intensity;\n",
    "        draw_triangle_frame();\n",
    "    }\n",
    "    element.on_canvas_event(\"mousemove\", intensity_mouse_over, \"icolumn\");\n",
    "    \n",
    "    // color at current intensity level\n",
    "    var color_array_at = function(r, g) {\n",
    "        if ((r < 0) || (g < 0) || (r + g > 1.0)) {\n",
    "            return null;\n",
    "        }\n",
    "        var b = 1 - r - g;\n",
    "        var sr = Math.round(Math.min(255, current_intensity * r));\n",
    "        var sg = Math.round(Math.min(255, current_intensity * g));\n",
    "        var sb = Math.round(Math.min(255, current_intensity * b));\n",
    "        //return element.array_to_color([sr, sg, sb]);\n",
    "        return [sr, sg, sb];\n",
    "    };\n",
    "    \n",
    "    // triangle frame shows color choices at the current intensity\n",
    "    var triangle_frame = element.vector_frame(\n",
    "        {x:left, y:0},\n",
    "        {x:left*0.5, y:top},\n",
    "        {x:0, y:bottom}\n",
    "    );\n",
    "    var draw_triangle_frame = function() {\n",
    "        triangle_frame.reset_frame();\n",
    "        // draw colors as circles\n",
    "        var delta = 0.02\n",
    "        var radius = top * delta;\n",
    "        for (var r=0; r<=1; r+=delta) {\n",
    "            for (var g=0; g<=1 - r; g+=delta) {\n",
    "                var color_array = color_array_at(r, g);\n",
    "                if (color_array) {\n",
    "                    var color = element.array_to_color(color_array);\n",
    "                    triangle_frame.circle({x:r, y:g, color:color, r:radius});\n",
    "                }\n",
    "            }\n",
    "        }\n",
    "        // mouse tracker circle (initially hidden)\n",
    "        triangle_frame.circle({\n",
    "            name:\"color_track\", fill: false, r:radius*3,\n",
    "            x:0, y:0, color:\"black\", hide:true});\n",
    "        // outline\n",
    "        //triangle_frame.polygon({\n",
    "        //    points: [[0,0], [0,1], [1,0]],\n",
    "        //    fill: false\n",
    "        //});\n",
    "        var color_mouse = function(event) {\n",
    "            var frame_location = triangle_frame.event_model_location(event);\n",
    "            var r = frame_location.x;\n",
    "            var g = frame_location.y;\n",
    "            var color_array = color_array_at(r, g);\n",
    "            if (color_array) {\n",
    "                var color = element.array_to_color(color_array);\n",
    "                element.change(\"color_track\", {x:r, y:g, hide:false});\n",
    "                element.change(\"preview\", {color: color})\n",
    "                element.change(\"rgb\", {text: color})\n",
    "                if (event.type == \"click\") {\n",
    "                    // Color selected!\n",
    "                    element.change(\"color_choice\", {hide: false, text: color});\n",
    "                    element.change(\"final\", {hide: false, color: color});\n",
    "                    if (settings.callback) {\n",
    "                        settings.callback(color_array, color);\n",
    "                    }\n",
    "                }\n",
    "            } else {\n",
    "                element.change(\"color_track\", {hide:true});\n",
    "            }\n",
    "        }\n",
    "        // invisible triangle to receive events\n",
    "        triangle_frame.polygon({\n",
    "            points: [[0,0], [0,1], [1,0]],\n",
    "            name: \"color_choices\",\n",
    "            color: \"rgba(0,0,0,0)\",\n",
    "        });\n",
    "        element.on_canvas_event(\"mousemove\", color_mouse, \"color_choices\");\n",
    "        element.on_canvas_event(\"click\", color_mouse, \"color_choices\");\n",
    "    };\n",
    "    draw_triangle_frame();\n",
    "    // preview swatch\n",
    "    var swatch_offset = bottom * 0.5;\n",
    "    element.circle({name: \"preview\", x:swatch_offset, y:side-swatch_offset,\n",
    "        r: swatch_offset, color: \"white\"})\n",
    "    // outline\n",
    "    element.circle({fill:false, x:swatch_offset, y:side-swatch_offset,\n",
    "        r: swatch_offset, color: \"black\"})\n",
    "    element.text({name: \"rgb\", x:swatch_offset, y:side-swatch_offset,\n",
    "        font:settings.font, text:\" \", valign:\"center\", align:\"center\",\n",
    "        background: \"white\"});\n",
    "    element.rect({name: \"final\", hide:true,\n",
    "        x:0, y:0, w:left, h: bottom*0.8\n",
    "    });\n",
    "    element.text({name: \"color_choice\", x:left*0.5, y:bottom*0.4, \n",
    "        text: \"click to select color\",\n",
    "        align: \"center\", valign: \"center\", background: \"white\"})\n",
    "};\n",
    "\n",
    "color_chooser();\n",
    "element.fit(null, 30);\n",
    "\n",
    "\"\"\")"
   ]
  },
  {
   "cell_type": "code",
   "execution_count": null,
   "metadata": {
    "collapsed": false,
    "deletable": true,
    "editable": true
   },
   "outputs": [],
   "source": [
    "color_chooser.print_status()"
   ]
  },
  {
   "cell_type": "code",
   "execution_count": null,
   "metadata": {
    "collapsed": true,
    "deletable": true,
    "editable": true
   },
   "outputs": [],
   "source": []
  }
 ],
 "metadata": {
  "kernelspec": {
   "display_name": "Python 2",
   "language": "python",
   "name": "python2"
  },
  "language_info": {
   "codemirror_mode": {
    "name": "ipython",
    "version": 2
   },
   "file_extension": ".py",
   "mimetype": "text/x-python",
   "name": "python",
   "nbconvert_exporter": "python",
   "pygments_lexer": "ipython2",
   "version": "2.7.13"
  },
  "widgets": {
   "application/vnd.jupyter.widget-state+json": {
    "state": {
     "12f4552e70eb4435b52d0c9291a7543a": {
      "model_module": "@jupyter-widgets/base",
      "model_module_version": "1.0.0",
      "model_name": "LayoutModel",
      "state": {}
     },
     "1a77b36129334cdeb67db6ec1f1041f5": {
      "model_module": "@jupyter-widgets/controls",
      "model_module_version": "1.0.0",
      "model_name": "DescriptionStyleModel",
      "state": {
       "description_width": ""
      }
     },
     "1d9d57a678fe412394d85098e999b015": {
      "model_module": "@jupyter-widgets/base",
      "model_module_version": "1.0.0",
      "model_name": "LayoutModel",
      "state": {}
     },
     "39625346953b40e6b7ab7110704bdc89": {
      "model_module": "jp_proxy_widget",
      "model_module_version": "^0.3.4",
      "model_name": "JSProxyModel",
      "state": {
       "_model_module_version": "^0.3.4",
       "_send_counter": 17,
       "_view_module_version": "^0.3.4",
       "error_msg": "No error",
       "layout": "IPY_MODEL_8a03df7efd9a4c8bbc5c84048dfad8a0",
       "rendered": true,
       "status": "Got results."
      }
     },
     "39886fed28c44a58a84309db8035cda9": {
      "model_module": "@jupyter-widgets/base",
      "model_module_version": "1.0.0",
      "model_name": "LayoutModel",
      "state": {}
     },
     "4baed54bb8f9488ba3b8743da169315f": {
      "model_module": "@jupyter-widgets/controls",
      "model_module_version": "1.0.0",
      "model_name": "DescriptionStyleModel",
      "state": {
       "description_width": ""
      }
     },
     "524c00b5674d4678845ba1c66e779fd7": {
      "model_module": "@jupyter-widgets/controls",
      "model_module_version": "1.0.0",
      "model_name": "HTMLModel",
      "state": {
       "layout": "IPY_MODEL_701a6ba95f39454187d94536dc8d36b4",
       "style": "IPY_MODEL_4baed54bb8f9488ba3b8743da169315f",
       "value": "<img src=\"rotated_spider.png\" id=\"snapshot_id_1_1536351796002\"/>\n <div id=\"snapshot_id_2_1536351796002\">rotated_spider.png</div>"
      }
     },
     "6097fb4cd51a4d2582f4ac1513ce08fb": {
      "model_module": "@jupyter-widgets/base",
      "model_module_version": "1.0.0",
      "model_name": "LayoutModel",
      "state": {}
     },
     "63714162749147ec91ca5120c5d3988f": {
      "model_module": "@jupyter-widgets/base",
      "model_module_version": "1.0.0",
      "model_name": "LayoutModel",
      "state": {}
     },
     "701a6ba95f39454187d94536dc8d36b4": {
      "model_module": "@jupyter-widgets/base",
      "model_module_version": "1.0.0",
      "model_name": "LayoutModel",
      "state": {}
     },
     "8a03df7efd9a4c8bbc5c84048dfad8a0": {
      "model_module": "@jupyter-widgets/base",
      "model_module_version": "1.0.0",
      "model_name": "LayoutModel",
      "state": {}
     },
     "8fc9aed0bcff444dbe4595e2d4c63472": {
      "model_module": "@jupyter-widgets/controls",
      "model_module_version": "1.0.0",
      "model_name": "TabModel",
      "state": {
       "_titles": {
        "0": "Canvas",
        "1": "Snapshot"
       },
       "children": [
        "IPY_MODEL_c3dfd629eafd4832942cd6b7006f877c",
        "IPY_MODEL_c98d8696bb1242719676a2d2a6e5ec29"
       ],
       "layout": "IPY_MODEL_96390c2372c64f2093777e24746dec47",
       "selected_index": 1
      }
     },
     "96390c2372c64f2093777e24746dec47": {
      "model_module": "@jupyter-widgets/base",
      "model_module_version": "1.0.0",
      "model_name": "LayoutModel",
      "state": {}
     },
     "abda175f2eff4985891302559cd53b59": {
      "model_module": "jp_proxy_widget",
      "model_module_version": "^0.3.4",
      "model_name": "JSProxyModel",
      "state": {
       "_model_module_version": "^0.3.4",
       "_send_counter": 15,
       "_view_module_version": "^0.3.4",
       "error_msg": "No error",
       "layout": "IPY_MODEL_1d9d57a678fe412394d85098e999b015",
       "rendered": true,
       "status": "Got results."
      }
     },
     "b2c3a3799a004cf2af89e1e0cfedc124": {
      "model_module": "jp_proxy_widget",
      "model_module_version": "^0.3.4",
      "model_name": "JSProxyModel",
      "state": {
       "_model_module_version": "^0.3.4",
       "_send_counter": 2,
       "_view_module_version": "^0.3.4",
       "error_msg": "No error",
       "layout": "IPY_MODEL_12f4552e70eb4435b52d0c9291a7543a",
       "rendered": true,
       "status": "call back to <function callback_function at 0x111a5a8c0>"
      }
     },
     "b8e0744d66e1496eb312317428dd001e": {
      "model_module": "jp_proxy_widget",
      "model_module_version": "^0.3.4",
      "model_name": "JSProxyModel",
      "state": {
       "_model_module_version": "^0.3.4",
       "_send_counter": 2,
       "_view_module_version": "^0.3.4",
       "error_msg": "No error",
       "layout": "IPY_MODEL_39886fed28c44a58a84309db8035cda9",
       "rendered": true,
       "status": "call back to <function callback_function at 0x11027a488>"
      }
     },
     "b9ead762d79c48e2b12b0ddd7c843390": {
      "model_module": "@jupyter-widgets/controls",
      "model_module_version": "1.0.0",
      "model_name": "VBoxModel",
      "state": {
       "children": [
        "IPY_MODEL_39625346953b40e6b7ab7110704bdc89",
        "IPY_MODEL_b8e0744d66e1496eb312317428dd001e"
       ],
       "layout": "IPY_MODEL_6097fb4cd51a4d2582f4ac1513ce08fb"
      }
     },
     "c3dfd629eafd4832942cd6b7006f877c": {
      "model_module": "@jupyter-widgets/controls",
      "model_module_version": "1.0.0",
      "model_name": "VBoxModel",
      "state": {
       "children": [
        "IPY_MODEL_abda175f2eff4985891302559cd53b59",
        "IPY_MODEL_b2c3a3799a004cf2af89e1e0cfedc124"
       ],
       "layout": "IPY_MODEL_fb3e2cca60404fad84762bcf2ce7cee8"
      }
     },
     "c78d9db119eb43bba143a3ce4a74688d": {
      "model_module": "@jupyter-widgets/controls",
      "model_module_version": "1.0.0",
      "model_name": "TabModel",
      "state": {
       "_titles": {
        "0": "Canvas",
        "1": "Snapshot"
       },
       "children": [
        "IPY_MODEL_b9ead762d79c48e2b12b0ddd7c843390",
        "IPY_MODEL_524c00b5674d4678845ba1c66e779fd7"
       ],
       "layout": "IPY_MODEL_63714162749147ec91ca5120c5d3988f",
       "selected_index": 1
      }
     },
     "c98d8696bb1242719676a2d2a6e5ec29": {
      "model_module": "@jupyter-widgets/controls",
      "model_module_version": "1.0.0",
      "model_name": "HTMLModel",
      "state": {
       "layout": "IPY_MODEL_f608861b5ffa4e0b8e13d6317d9db4d0",
       "style": "IPY_MODEL_1a77b36129334cdeb67db6ec1f1041f5",
       "value": "<img src=\"color_chooser.png\" id=\"snapshot_id_4_1536351853665\"/>\n <div id=\"snapshot_id_5_1536351853665\">color_chooser.png</div>"
      }
     },
     "f608861b5ffa4e0b8e13d6317d9db4d0": {
      "model_module": "@jupyter-widgets/base",
      "model_module_version": "1.0.0",
      "model_name": "LayoutModel",
      "state": {}
     },
     "fb3e2cca60404fad84762bcf2ce7cee8": {
      "model_module": "@jupyter-widgets/base",
      "model_module_version": "1.0.0",
      "model_name": "LayoutModel",
      "state": {}
     }
    },
    "version_major": 2,
    "version_minor": 0
   }
  }
 },
 "nbformat": 4,
 "nbformat_minor": 2
}
