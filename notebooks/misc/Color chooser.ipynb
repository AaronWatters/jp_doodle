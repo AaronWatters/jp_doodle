{
 "cells": [
  {
   "cell_type": "markdown",
   "metadata": {
    "deletable": true,
    "editable": true
   },
   "source": [
    "# Color chooser\n",
    "\n",
    "This notebook demonstrates how to use the\n",
    "`color_chooser` method provided for dual canvases.\n",
    "\n",
    "The color chooser implementation illustrates the use\n",
    "of multiple reference frames in combination with event\n",
    "handlers.  "
   ]
  },
  {
   "cell_type": "code",
   "execution_count": 3,
   "metadata": {
    "collapsed": false,
    "deletable": true,
    "editable": true
   },
   "outputs": [
    {
     "data": {
      "application/vnd.jupyter.widget-view+json": {
       "model_id": "0e6b4c584b734a0eb175aab17270de1c",
       "version_major": 2,
       "version_minor": 0
      },
      "text/html": [
       "<p>Failed to display Jupyter Widget of type <code>Tab</code>.</p>\n",
       "<p>\n",
       "  If you're reading this message in Jupyter Notebook or JupyterLab, it may mean\n",
       "  that the widgets JavaScript is still loading. If this message persists, it\n",
       "  likely means that the widgets JavaScript library is either not installed or\n",
       "  not enabled. See the <a href=\"https://ipywidgets.readthedocs.io/en/stable/user_install.html\">Jupyter\n",
       "  Widgets Documentation</a> for setup instructions.\n",
       "</p>\n",
       "<p>\n",
       "  If you're reading this message in another notebook frontend (for example, a static\n",
       "  rendering on GitHub or <a href=\"https://nbviewer.jupyter.org/\">NBViewer</a>),\n",
       "  it may mean that your frontend doesn't currently support widgets.\n",
       "</p>\n"
      ],
      "text/plain": [
       "Tab(children=(VBox(children=(SnapshotCanvas(status=u'Not yet rendered'), JSProxyWidget(status=u'Not yet rendered'))), HTML(value=u'<img src=\"color_chooser2.png\" id=\"snapshot_id_3_1537454562784\"/>\\n <div id=\"snapshot_id_4_1537454562784\">color_chooser2.png</div>')), _titles={u'1': 'Snapshot', u'0': 'Canvas'})"
      ]
     },
     "metadata": {},
     "output_type": "display_data"
    }
   ],
   "source": [
    "from jp_doodle import dual_canvas\n",
    "from IPython.display import display\n",
    "\n",
    "color_chooser2 = dual_canvas.SnapshotCanvas(\"color_chooser2.png\", width=600, height=400)\n",
    "color_chooser2.display_all()\n",
    "\n",
    "color_chooser2.js_init(\"\"\"\n",
    "\n",
    "// Draw some named elements on the canvas.\n",
    "// A filled yellow circle (disk) named \"Colonel Mustard\n",
    "element.circle({name: \"Colonel Mustard\", x:100, y:150, r:90, color:\"yellow\"});\n",
    "\n",
    "// A filled red rectangle named \"Miss Scarlett\"\n",
    "element.rect({name: \"Miss Scarlett\", x:100, y:130, w:100, h:20, color: \"red\"});\n",
    "\n",
    "// An unfilled white circle named \"Mrs. White\"\n",
    "element.circle({\n",
    "    name: \"Mrs. White\", x:100, y:150, r:58, fill:false, \n",
    "    color:\"white\", lineWidth: 14});\n",
    "    \n",
    "// An unfilled blue rectangle named Mrs. Peacock\n",
    "element.rect({\n",
    "    name: \"Mrs. Peacock\", x:40, y:110, w:100, h:20,\n",
    "    color: \"blue\", lineWidth: 10, degrees:70, fill:false});\n",
    "\n",
    "// A line segment named \"Professor Plum\".\n",
    "element.line({\n",
    "    name: \"Professor Plum\", x1:190, y1:100, x2:10, y2:200,\n",
    "    color:\"purple\", lineWidth: 20})\n",
    "    \n",
    "// A brown filled polygon (triangle) named Micky\n",
    "element.polygon({\n",
    "    name: \"Micky\",\n",
    "    points: [[210, 10], [210, 110], [290, 60]],\n",
    "    color: \"brown\",\n",
    "})\n",
    "\n",
    "// A green polyline named Mr. Green\n",
    "element.polygon({\n",
    "    name: \"Mr. Green\", fill:false, close:false, color: \"green\",\n",
    "    lineWidth: 14, points: [[210, 10], [210, 110], [290, 60]]\n",
    "})\n",
    "\n",
    "// A magenta text string display named Pluto\n",
    "element.text({\n",
    "    name: \"Pluto\", text: \"The Republic\", font: \"20px Arial\",\n",
    "    x: 20, y:20, degrees: 5, color:\"magenta\"\n",
    "})\n",
    "\n",
    "// Position a color chooser on the canvas.\n",
    "var chosen_color = null;\n",
    "\n",
    "element.color_chooser({\n",
    "    x: 310, y: 50, side:200, font: \"normal 7px Arial\",\n",
    "    callback: function(color_array, color_string) { chosen_color = color_string; }\n",
    "});\n",
    "\n",
    "\n",
    "// mouse tracker circle (initially hidden)\n",
    "element.circle({\n",
    "    name:\"mouse_track\", r:5,\n",
    "    no_events: true,  // This object is invisible to events.\n",
    "    x:0, y:0, color:\"black\", hide:true});\n",
    "    \n",
    "element.text({\n",
    "    x:10, y:-10, name: \"explanation\",\n",
    "    text: \"Choose a color then click an object to change its color\",\n",
    "})\n",
    "\n",
    "// Center and scale the figure to fit in the available area.\n",
    "element.fit(null, 20)\n",
    "\n",
    "var on_mouse_move = function(event) {\n",
    "    var name = event.canvas_name;\n",
    "    var location = element.event_model_location(event);\n",
    "    if ((chosen_color) && (name) && (location.x < 310)) {\n",
    "        element.change(\"mouse_track\",\n",
    "            {hide:false, x:location.x, y:location.y, color:chosen_color});\n",
    "        // on click change the color of the named object\n",
    "        if (event.type == \"click\") {\n",
    "            element.transition(name, {color: chosen_color});\n",
    "        }\n",
    "    } else {\n",
    "        element.change(\"mouse_track\", {hide: true});\n",
    "    }\n",
    "};\n",
    "element.on_canvas_event(\"mousemove\", on_mouse_move);\n",
    "element.on_canvas_event(\"click\", on_mouse_move);\n",
    "\n",
    "\"\"\")"
   ]
  },
  {
   "cell_type": "code",
   "execution_count": 2,
   "metadata": {
    "collapsed": false,
    "deletable": true,
    "editable": true
   },
   "outputs": [
    {
     "data": {
      "text/plain": [
       "('awaiting render',\n",
       " [['function',\n",
       "   ['method',\n",
       "    ['element'],\n",
       "    'New',\n",
       "    ['get', ['window'], 'Function'],\n",
       "    ['list', 'element', 'debugger;']],\n",
       "   ['element']]])"
      ]
     },
     "execution_count": 2,
     "metadata": {},
     "output_type": "execute_result"
    }
   ],
   "source": [
    "color_chooser2.js_debug()"
   ]
  },
  {
   "cell_type": "code",
   "execution_count": null,
   "metadata": {
    "collapsed": true,
    "deletable": true,
    "editable": true
   },
   "outputs": [],
   "source": []
  }
 ],
 "metadata": {
  "kernelspec": {
   "display_name": "Python 2",
   "language": "python",
   "name": "python2"
  },
  "language_info": {
   "codemirror_mode": {
    "name": "ipython",
    "version": 2
   },
   "file_extension": ".py",
   "mimetype": "text/x-python",
   "name": "python",
   "nbconvert_exporter": "python",
   "pygments_lexer": "ipython2",
   "version": "2.7.13"
  },
  "widgets": {
   "application/vnd.jupyter.widget-state+json": {
    "state": {
     "001bc4cb7141496eb5533e4344fd1561": {
      "model_module": "@jupyter-widgets/base",
      "model_module_version": "1.0.0",
      "model_name": "LayoutModel",
      "state": {}
     },
     "0033b9f4c108422ea2c7d4e9b72cda51": {
      "model_module": "@jupyter-widgets/base",
      "model_module_version": "1.0.0",
      "model_name": "LayoutModel",
      "state": {}
     },
     "0042b0ca239248018523d14e233ac8c8": {
      "model_module": "@jupyter-widgets/controls",
      "model_module_version": "1.0.0",
      "model_name": "TabModel",
      "state": {
       "_titles": {
        "0": "Canvas",
        "1": "Snapshot"
       },
       "children": [
        "IPY_MODEL_59fb85c73dcd4de290cc9b5b3fd3f13f",
        "IPY_MODEL_eff94e2fd7b64b7788ff18946cda365c"
       ],
       "layout": "IPY_MODEL_8b0c53612b264ec3ba38785ff341ae5d"
      }
     },
     "007b68cdbe5c40d39a9e39419d71284a": {
      "model_module": "@jupyter-widgets/controls",
      "model_module_version": "1.0.0",
      "model_name": "TabModel",
      "state": {
       "_titles": {
        "0": "Canvas",
        "1": "Snapshot"
       },
       "children": [
        "IPY_MODEL_6289f69e858a45148e63408736fbde13",
        "IPY_MODEL_51f907ed0ecf47139196d50ac38a5d6d"
       ],
       "layout": "IPY_MODEL_b9b05bf56fe1407f82f692f4344b6636"
      }
     },
     "0189975b64044258b651968db5a0aa25": {
      "model_module": "@jupyter-widgets/base",
      "model_module_version": "1.0.0",
      "model_name": "LayoutModel",
      "state": {}
     },
     "020d626092524e3090e16e555e13f23d": {
      "model_module": "@jupyter-widgets/controls",
      "model_module_version": "1.0.0",
      "model_name": "VBoxModel",
      "state": {
       "children": [
        "IPY_MODEL_19889be10fdf4a1187729a2b630f0cba",
        "IPY_MODEL_c99843c8deb8499a867b7dc985c587d7"
       ],
       "layout": "IPY_MODEL_2e319adb95854e7c84c51b365bb4d267"
      }
     },
     "02ba791cc44a4ae1b5e1bed00434efb7": {
      "model_module": "@jupyter-widgets/base",
      "model_module_version": "1.0.0",
      "model_name": "LayoutModel",
      "state": {}
     },
     "0390ebb7b3824cb49f4afe8004723210": {
      "model_module": "@jupyter-widgets/base",
      "model_module_version": "1.0.0",
      "model_name": "LayoutModel",
      "state": {}
     },
     "03cb0fb6aeb840068f0b057f0cf9f2db": {
      "model_module": "@jupyter-widgets/controls",
      "model_module_version": "1.0.0",
      "model_name": "DescriptionStyleModel",
      "state": {
       "description_width": ""
      }
     },
     "03ec63ed0a2a42c49678dc6a5266172a": {
      "model_module": "@jupyter-widgets/controls",
      "model_module_version": "1.0.0",
      "model_name": "TabModel",
      "state": {
       "_titles": {
        "0": "Canvas",
        "1": "Snapshot"
       },
       "children": [
        "IPY_MODEL_af8d164bb9934fbb99c9717378bb4afe",
        "IPY_MODEL_ea6a14881f6044eea4bdb7dabeaa394f"
       ],
       "layout": "IPY_MODEL_b052db0dff634431bed696138b0af373"
      }
     },
     "046678bab2614ca0a5c82c7f55232c08": {
      "model_module": "jp_proxy_widget",
      "model_module_version": "^0.3.4",
      "model_name": "JSProxyModel",
      "state": {
       "_model_module_version": "^0.3.4",
       "_send_counter": 2,
       "_view_module_version": "^0.3.4",
       "error_msg": "No error",
       "layout": "IPY_MODEL_61e90f7c58014832a5d0522e87678d52",
       "rendered": true,
       "status": "Got results."
      }
     },
     "04d96fa4e43541d09a7575a8dcaba7fa": {
      "model_module": "@jupyter-widgets/controls",
      "model_module_version": "1.0.0",
      "model_name": "VBoxModel",
      "state": {
       "children": [
        "IPY_MODEL_4843b5569613443e975d023ba4006f05",
        "IPY_MODEL_ea99119259a2447a818eb23c94d493ca"
       ],
       "layout": "IPY_MODEL_9dbb4ab6bcc74f65ad946b8e3849b852"
      }
     },
     "04f06236cab6459292e3269247b8cf9e": {
      "model_module": "@jupyter-widgets/base",
      "model_module_version": "1.0.0",
      "model_name": "LayoutModel",
      "state": {}
     },
     "04f14ba5066c4c81a9ae434c69328a68": {
      "model_module": "@jupyter-widgets/base",
      "model_module_version": "1.0.0",
      "model_name": "LayoutModel",
      "state": {}
     },
     "052be223230d480387a404e4424bde9a": {
      "model_module": "@jupyter-widgets/base",
      "model_module_version": "1.0.0",
      "model_name": "LayoutModel",
      "state": {}
     },
     "05d6c7ee3b434955b4a7c392706904d8": {
      "model_module": "@jupyter-widgets/controls",
      "model_module_version": "1.0.0",
      "model_name": "VBoxModel",
      "state": {
       "children": [
        "IPY_MODEL_89a0e79436454e7c8e8ddf96bdd4bf39",
        "IPY_MODEL_a57e678fe0de4d4aa3fda888103cf43f"
       ],
       "layout": "IPY_MODEL_5c3a3480f62140e390a3552e45763895"
      }
     },
     "0600fba678be4b49bb2889d00039de2f": {
      "model_module": "@jupyter-widgets/controls",
      "model_module_version": "1.0.0",
      "model_name": "TabModel",
      "state": {
       "_titles": {
        "0": "Canvas",
        "1": "Snapshot"
       },
       "children": [
        "IPY_MODEL_bfd4e44987be44d6b55daca34ad7c92b",
        "IPY_MODEL_b6e7bd8936cf417ead55096ea531caa5"
       ],
       "layout": "IPY_MODEL_92eb9df4bc6f42e88eac5bf1d7530cf8"
      }
     },
     "0613de5197484e46894e07219abf6f36": {
      "model_module": "@jupyter-widgets/base",
      "model_module_version": "1.0.0",
      "model_name": "LayoutModel",
      "state": {}
     },
     "067adecb3364492fbfa360806bc80e54": {
      "model_module": "@jupyter-widgets/controls",
      "model_module_version": "1.0.0",
      "model_name": "TabModel",
      "state": {
       "_titles": {
        "0": "Canvas",
        "1": "Snapshot"
       },
       "children": [
        "IPY_MODEL_263fb994b0504b7ebd19d03ae8ef4fe6",
        "IPY_MODEL_8580056b150a48479514d1dcd06ebc0e"
       ],
       "layout": "IPY_MODEL_50e11ff091ca40c096aa15b07b01d0e5"
      }
     },
     "068f1450e40f4be78991e2ed6e607cca": {
      "model_module": "@jupyter-widgets/controls",
      "model_module_version": "1.0.0",
      "model_name": "TabModel",
      "state": {
       "_titles": {
        "0": "Canvas",
        "1": "Snapshot"
       },
       "children": [
        "IPY_MODEL_f406b74722d04752bad36e8bf82f5968",
        "IPY_MODEL_dd28694edd4c498fb0f25561c81b7e32"
       ],
       "layout": "IPY_MODEL_9e3c5a325927442ea6c7d7b7f19f7774"
      }
     },
     "0729675d94ee4357981943f5197b236c": {
      "model_module": "@jupyter-widgets/controls",
      "model_module_version": "1.0.0",
      "model_name": "DescriptionStyleModel",
      "state": {
       "description_width": ""
      }
     },
     "07e7a120f0f94a5fb058d3b4a9c48528": {
      "model_module": "@jupyter-widgets/base",
      "model_module_version": "1.0.0",
      "model_name": "LayoutModel",
      "state": {}
     },
     "0840da0e525d45dbbc4f82e2bc2bf8b1": {
      "model_module": "@jupyter-widgets/controls",
      "model_module_version": "1.0.0",
      "model_name": "TabModel",
      "state": {
       "_titles": {
        "0": "Canvas",
        "1": "Snapshot"
       },
       "children": [
        "IPY_MODEL_f31661f530dd4ad4a61ced4026c0afe2",
        "IPY_MODEL_c87f8fb6d86d47af86d548fff971c7d8"
       ],
       "layout": "IPY_MODEL_66323be93d694e1b8873bfcc852ced6f"
      }
     },
     "0848e706410a4caca139d128ef8814e4": {
      "model_module": "jp_proxy_widget",
      "model_module_version": "^0.3.4",
      "model_name": "JSProxyModel",
      "state": {
       "_model_module_version": "^0.3.4",
       "_send_counter": 2,
       "_view_module_version": "^0.3.4",
       "error_msg": "No error",
       "layout": "IPY_MODEL_964540405f5249fbacce717bebbdb766",
       "rendered": true,
       "status": "Got results."
      }
     },
     "0890d7aaad6f496393ea3ce0f71034f3": {
      "model_module": "jp_proxy_widget",
      "model_module_version": "^0.3.4",
      "model_name": "JSProxyModel",
      "state": {
       "_model_module_version": "^0.3.4",
       "_send_counter": 2,
       "_view_module_version": "^0.3.4",
       "error_msg": "No error",
       "layout": "IPY_MODEL_32ac39dc938246be8d805bd50a822421",
       "rendered": true,
       "status": "Got results."
      }
     },
     "08aa049ea6e743b8a221dc39a9c512ad": {
      "model_module": "@jupyter-widgets/controls",
      "model_module_version": "1.0.0",
      "model_name": "HTMLModel",
      "state": {
       "layout": "IPY_MODEL_5860dda18773485a8957216021437c18",
       "style": "IPY_MODEL_b56cac9e8d0a4d95ac5c8575dbf84d4f",
       "value": "<img src=\"color_chooser.png\" id=\"snapshot_id_1_1536690190389\"/>\n <div id=\"snapshot_id_2_1536690190390\">color_chooser.png</div>"
      }
     },
     "08ba9e375c9d4eb9a58f5beee0ee1f54": {
      "model_module": "@jupyter-widgets/controls",
      "model_module_version": "1.0.0",
      "model_name": "VBoxModel",
      "state": {
       "children": [
        "IPY_MODEL_7154d0ca076241d98efc08221e4159a7",
        "IPY_MODEL_cd74c7b125444023b7bf0bf6b2c84bb5"
       ],
       "layout": "IPY_MODEL_21494a9480cd4166bd07926e4ac6e457"
      }
     },
     "08e310f090b1480aaad3403525825e8c": {
      "model_module": "@jupyter-widgets/controls",
      "model_module_version": "1.0.0",
      "model_name": "DescriptionStyleModel",
      "state": {
       "description_width": ""
      }
     },
     "09a2406980204c72b1d321b646d83998": {
      "model_module": "@jupyter-widgets/base",
      "model_module_version": "1.0.0",
      "model_name": "LayoutModel",
      "state": {}
     },
     "0a62327100004041a5319f45180cfa8e": {
      "model_module": "@jupyter-widgets/base",
      "model_module_version": "1.0.0",
      "model_name": "LayoutModel",
      "state": {}
     },
     "0a6bd8f5c65045b8a843a33a7ad1152a": {
      "model_module": "@jupyter-widgets/base",
      "model_module_version": "1.0.0",
      "model_name": "LayoutModel",
      "state": {}
     },
     "0baadc9c60444b79abad2bda63eb9998": {
      "model_module": "@jupyter-widgets/base",
      "model_module_version": "1.0.0",
      "model_name": "LayoutModel",
      "state": {}
     },
     "0bb5bb2b4f2846e4950f997f58cf5c44": {
      "model_module": "jp_proxy_widget",
      "model_module_version": "^0.3.4",
      "model_name": "JSProxyModel",
      "state": {
       "_model_module_version": "^0.3.4",
       "_send_counter": 10,
       "_view_module_version": "^0.3.4",
       "error_msg": "No error",
       "layout": "IPY_MODEL_9cf3cf45b62e4708a2e2ac6d8e9f45ae",
       "rendered": true,
       "status": "Got results."
      }
     },
     "0bd413166d144f608fd9342e525e2d85": {
      "model_module": "@jupyter-widgets/controls",
      "model_module_version": "1.0.0",
      "model_name": "HTMLModel",
      "state": {
       "layout": "IPY_MODEL_e53ed5f0149a4987b5a321c8ac3eee20",
       "style": "IPY_MODEL_766b6f67784f4364a6e893838d7d9700",
       "value": "<img src=\"color_chooser.png\" id=\"snapshot_id_17_1536683237483\"/>\n <div id=\"snapshot_id_18_1536683237483\">color_chooser.png</div>"
      }
     },
     "0c46632e8b2c4f11893b3cfdf8ae54cf": {
      "model_module": "@jupyter-widgets/controls",
      "model_module_version": "1.0.0",
      "model_name": "VBoxModel",
      "state": {
       "children": [
        "IPY_MODEL_6d63271f9c6b441d9e9a631576360499",
        "IPY_MODEL_4787d2e963d84cf1bce8a4beeb1d33de"
       ],
       "layout": "IPY_MODEL_23d9970acfac4f10967b5be57469e9a4"
      }
     },
     "0c5e592135344747862034e1c0988bef": {
      "model_module": "@jupyter-widgets/controls",
      "model_module_version": "1.0.0",
      "model_name": "TabModel",
      "state": {
       "_titles": {
        "0": "Canvas",
        "1": "Snapshot"
       },
       "children": [
        "IPY_MODEL_add748f514a44efc82d1045a3e6f75c2",
        "IPY_MODEL_b3ce636a34d04fb99a000f93a0ae3131"
       ],
       "layout": "IPY_MODEL_15e48deb55174b90a1c7c1fd29552d40"
      }
     },
     "0c9ecb6704b443ac98ff6cc5723ddca5": {
      "model_module": "@jupyter-widgets/base",
      "model_module_version": "1.0.0",
      "model_name": "LayoutModel",
      "state": {}
     },
     "0cddbbf48d364058b89108b4f784924b": {
      "model_module": "@jupyter-widgets/controls",
      "model_module_version": "1.0.0",
      "model_name": "VBoxModel",
      "state": {
       "children": [
        "IPY_MODEL_89acd2c6226f4255944b99f936b5a7cc",
        "IPY_MODEL_4eab6a3a7d0042b68dcaf6e4a74a24af"
       ],
       "layout": "IPY_MODEL_6dbc90a652e1428aafa262fc4a25e524"
      }
     },
     "0cf70957d67c49e78a1db911e24b0275": {
      "model_module": "@jupyter-widgets/controls",
      "model_module_version": "1.0.0",
      "model_name": "VBoxModel",
      "state": {
       "children": [
        "IPY_MODEL_fd8c968bebd94f188375fbb3a41dbea4",
        "IPY_MODEL_2995e4c359444d6d88eb86cd34ed4659"
       ],
       "layout": "IPY_MODEL_8470d541ab3446198903120b810f9171"
      }
     },
     "0d15a71c5857454a83ed46df28e9beb4": {
      "model_module": "@jupyter-widgets/controls",
      "model_module_version": "1.0.0",
      "model_name": "VBoxModel",
      "state": {
       "children": [
        "IPY_MODEL_85a57e1d8d334afb9f121d38a921a3e1",
        "IPY_MODEL_5105d21848b945789ca61fb9d5bfcfa0"
       ],
       "layout": "IPY_MODEL_79515a78df634886bd2c4b2c54da1d98"
      }
     },
     "0d21e3e2d0284ecabe77b481d432d16d": {
      "model_module": "@jupyter-widgets/controls",
      "model_module_version": "1.0.0",
      "model_name": "HTMLModel",
      "state": {
       "layout": "IPY_MODEL_104fdb2b974a4b4199ff3297fb048e98",
       "style": "IPY_MODEL_9784ad8129474471988a411ed96787f8",
       "value": "<img src=\"color_chooser.png\" id=\"snapshot_id_1_1536692993118\"/>\n <div id=\"snapshot_id_2_1536692993118\">color_chooser.png</div>"
      }
     },
     "0dcda8b6a1e44abf8776f7333529b764": {
      "model_module": "@jupyter-widgets/base",
      "model_module_version": "1.0.0",
      "model_name": "LayoutModel",
      "state": {}
     },
     "0e0697bd0afb4e35a268e0194a5e4353": {
      "model_module": "@jupyter-widgets/base",
      "model_module_version": "1.0.0",
      "model_name": "LayoutModel",
      "state": {}
     },
     "0e17e34b4e9b454387cee344eb352203": {
      "model_module": "@jupyter-widgets/controls",
      "model_module_version": "1.0.0",
      "model_name": "HTMLModel",
      "state": {
       "layout": "IPY_MODEL_3a213c81382e4d9a912bda3026ba0333",
       "style": "IPY_MODEL_5b1f78eb99b34ba1890ad662bf62a42a",
       "value": "<img src=\"color_chooser.png\" id=\"snapshot_id_3_1536674712222\"/>\n <div id=\"snapshot_id_4_1536674712222\">color_chooser.png</div>"
      }
     },
     "0e6b4c584b734a0eb175aab17270de1c": {
      "model_module": "@jupyter-widgets/controls",
      "model_module_version": "1.0.0",
      "model_name": "TabModel",
      "state": {
       "_titles": {
        "0": "Canvas",
        "1": "Snapshot"
       },
       "children": [
        "IPY_MODEL_0e833e2377244b5bb83841fbf62af780",
        "IPY_MODEL_a87b4efb764a4e4f8ce85a673f74966d"
       ],
       "layout": "IPY_MODEL_0dcda8b6a1e44abf8776f7333529b764",
       "selected_index": 1
      }
     },
     "0e82ed1b4ad14220a3c9db0ed57a484a": {
      "model_module": "jp_proxy_widget",
      "model_module_version": "^0.3.4",
      "model_name": "JSProxyModel",
      "state": {
       "_model_module_version": "^0.3.4",
       "_send_counter": 2,
       "_view_module_version": "^0.3.4",
       "error_msg": "No error",
       "layout": "IPY_MODEL_96d4675726954b338670dffbf7beb964",
       "rendered": true,
       "status": "Got results."
      }
     },
     "0e833e2377244b5bb83841fbf62af780": {
      "model_module": "@jupyter-widgets/controls",
      "model_module_version": "1.0.0",
      "model_name": "VBoxModel",
      "state": {
       "children": [
        "IPY_MODEL_75bd8d23bc2141bb8e537ae0ef80d245",
        "IPY_MODEL_aa0f15bc1d884b8f8cf6bf64e002495d"
       ],
       "layout": "IPY_MODEL_6d866f9ed5654911988c614284adecb6"
      }
     },
     "0e85a0e1721143a6b7f3cd1ead5b91d7": {
      "model_module": "@jupyter-widgets/base",
      "model_module_version": "1.0.0",
      "model_name": "LayoutModel",
      "state": {}
     },
     "0e8b1776c0db4ada803daa4e60667381": {
      "model_module": "jp_proxy_widget",
      "model_module_version": "^0.3.4",
      "model_name": "JSProxyModel",
      "state": {
       "_model_module_version": "^0.3.4",
       "_send_counter": 8,
       "_view_module_version": "^0.3.4",
       "error_msg": "No error",
       "layout": "IPY_MODEL_9e1250a462664a54a8c1bac51ea6404e",
       "rendered": true,
       "status": "Got results."
      }
     },
     "0f402eebc45b4e4f8982edc173f29b24": {
      "model_module": "@jupyter-widgets/controls",
      "model_module_version": "1.0.0",
      "model_name": "TabModel",
      "state": {
       "_titles": {
        "0": "Canvas",
        "1": "Snapshot"
       },
       "children": [
        "IPY_MODEL_5afd7b02dcf54ee49dfcd704df5493f6",
        "IPY_MODEL_92f89d66d9404fa98dfe4dca07499ca1"
       ],
       "layout": "IPY_MODEL_3728c428a7a940678a040cbb1976753c",
       "selected_index": 1
      }
     },
     "100202e61be840c5961fa4e1e4b80606": {
      "model_module": "@jupyter-widgets/controls",
      "model_module_version": "1.0.0",
      "model_name": "DescriptionStyleModel",
      "state": {
       "description_width": ""
      }
     },
     "104fdb2b974a4b4199ff3297fb048e98": {
      "model_module": "@jupyter-widgets/base",
      "model_module_version": "1.0.0",
      "model_name": "LayoutModel",
      "state": {}
     },
     "1095fa99b0e942e797e4c605553dc3d6": {
      "model_module": "jp_proxy_widget",
      "model_module_version": "^0.3.4",
      "model_name": "JSProxyModel",
      "state": {
       "_model_module_version": "^0.3.4",
       "_send_counter": 2,
       "_view_module_version": "^0.3.4",
       "error_msg": "No error",
       "layout": "IPY_MODEL_0a62327100004041a5319f45180cfa8e",
       "rendered": true,
       "status": "Got results."
      }
     },
     "10cae45600e140b6ba84dda4d3288938": {
      "model_module": "jp_proxy_widget",
      "model_module_version": "^0.3.4",
      "model_name": "JSProxyModel",
      "state": {
       "_model_module_version": "^0.3.4",
       "_send_counter": 10,
       "_view_module_version": "^0.3.4",
       "error_msg": "No error",
       "layout": "IPY_MODEL_c08caa078d574c3ca2b6f8b11c7390cd",
       "rendered": true,
       "status": "Got results."
      }
     },
     "119fe19d1c66467d913cb9cd362f34d5": {
      "model_module": "jp_proxy_widget",
      "model_module_version": "^0.3.4",
      "model_name": "JSProxyModel",
      "state": {
       "_model_module_version": "^0.3.4",
       "_send_counter": 2,
       "_view_module_version": "^0.3.4",
       "error_msg": "No error",
       "layout": "IPY_MODEL_f0a9d043d0194fc291d2e2350ab6a81e",
       "rendered": true,
       "status": "Got results."
      }
     },
     "11b4ec3ed6a841b6bacbbfab04a2b795": {
      "model_module": "@jupyter-widgets/controls",
      "model_module_version": "1.0.0",
      "model_name": "HTMLModel",
      "state": {
       "layout": "IPY_MODEL_dd04ed03b81e40b79c3aec10735eccba",
       "style": "IPY_MODEL_e7e4046504244038ae523ec894b7cc38",
       "value": "<img src=\"color_chooser.png\" id=\"snapshot_id_3_1536689436650\"/>\n <div id=\"snapshot_id_4_1536689436650\">color_chooser.png</div>"
      }
     },
     "11d22633f8bb4f3bb9daa93151340eea": {
      "model_module": "@jupyter-widgets/controls",
      "model_module_version": "1.0.0",
      "model_name": "HTMLModel",
      "state": {
       "layout": "IPY_MODEL_3e3b1de459014416830dc31f4af1ccfb",
       "style": "IPY_MODEL_8c8b4beb09ea4d69b2e8e65d3e301aa0",
       "value": "<img src=\"color_chooser2.png\" id=\"snapshot_id_3_1536694610179\"/>\n <div id=\"snapshot_id_4_1536694610179\">color_chooser2.png</div>"
      }
     },
     "121418ba227e42b98927c0cb3dcb3dd9": {
      "model_module": "@jupyter-widgets/controls",
      "model_module_version": "1.0.0",
      "model_name": "VBoxModel",
      "state": {
       "children": [
        "IPY_MODEL_a78e455a291e4653af4e49baba68d8fe",
        "IPY_MODEL_67ab59099c264a35947c9d69de2a65f2"
       ],
       "layout": "IPY_MODEL_04f14ba5066c4c81a9ae434c69328a68"
      }
     },
     "126f5e9ecffa48369a2775043534f51f": {
      "model_module": "@jupyter-widgets/controls",
      "model_module_version": "1.0.0",
      "model_name": "DescriptionStyleModel",
      "state": {
       "description_width": ""
      }
     },
     "12f02a68b87146a58bf0aba08e80c378": {
      "model_module": "@jupyter-widgets/base",
      "model_module_version": "1.0.0",
      "model_name": "LayoutModel",
      "state": {}
     },
     "12f4552e70eb4435b52d0c9291a7543a": {
      "model_module": "@jupyter-widgets/base",
      "model_module_version": "1.0.0",
      "model_name": "LayoutModel",
      "state": {}
     },
     "13639386a35140148ba25291bc8759ef": {
      "model_module": "jp_proxy_widget",
      "model_module_version": "^0.3.4",
      "model_name": "JSProxyModel",
      "state": {
       "_model_module_version": "^0.3.4",
       "_send_counter": 2,
       "_view_module_version": "^0.3.4",
       "error_msg": "No error",
       "layout": "IPY_MODEL_e364ca6a498b4622804daaa125a61448",
       "rendered": true,
       "status": "Got results."
      }
     },
     "13c40c2218cc4ecd89c6064498fe0ad3": {
      "model_module": "@jupyter-widgets/base",
      "model_module_version": "1.0.0",
      "model_name": "LayoutModel",
      "state": {}
     },
     "13f92bf8246f46658cc377755acbb65f": {
      "model_module": "@jupyter-widgets/controls",
      "model_module_version": "1.0.0",
      "model_name": "DescriptionStyleModel",
      "state": {
       "description_width": ""
      }
     },
     "1429951fa7f54c6da3f857c453397200": {
      "model_module": "@jupyter-widgets/base",
      "model_module_version": "1.0.0",
      "model_name": "LayoutModel",
      "state": {}
     },
     "1438b253467345cf8e364dd695affacb": {
      "model_module": "@jupyter-widgets/controls",
      "model_module_version": "1.0.0",
      "model_name": "DescriptionStyleModel",
      "state": {
       "description_width": ""
      }
     },
     "1468954ece7c4244a882af33f422d3da": {
      "model_module": "@jupyter-widgets/base",
      "model_module_version": "1.0.0",
      "model_name": "LayoutModel",
      "state": {}
     },
     "1481af0d33b340329d9bbb96023bd65f": {
      "model_module": "@jupyter-widgets/base",
      "model_module_version": "1.0.0",
      "model_name": "LayoutModel",
      "state": {}
     },
     "14992fc8638d4ba8ab7d887c3229433c": {
      "model_module": "@jupyter-widgets/controls",
      "model_module_version": "1.0.0",
      "model_name": "TabModel",
      "state": {
       "_titles": {
        "0": "Canvas",
        "1": "Snapshot"
       },
       "children": [
        "IPY_MODEL_43d45fc1ad234c7bb128171ddc4afe90",
        "IPY_MODEL_828786d9d2264254afc88bf0ca321d78"
       ],
       "layout": "IPY_MODEL_7400b16ab2f2481eaf33859080cb94b6"
      }
     },
     "1508ab7839494e70b108a1b50328ac06": {
      "model_module": "@jupyter-widgets/base",
      "model_module_version": "1.0.0",
      "model_name": "LayoutModel",
      "state": {}
     },
     "151aede9664f4de29b707010ef582f5e": {
      "model_module": "@jupyter-widgets/controls",
      "model_module_version": "1.0.0",
      "model_name": "TabModel",
      "state": {
       "_titles": {
        "0": "Canvas",
        "1": "Snapshot"
       },
       "children": [
        "IPY_MODEL_a8ecd0992330488089992e7ddbf7bce1",
        "IPY_MODEL_84a60d96b84c4074b81702885bdf23b5"
       ],
       "layout": "IPY_MODEL_1b17039c2fc54fe89ab13c30f21567d5"
      }
     },
     "152b5e32c8b346d3ba77c00fc2e402e0": {
      "model_module": "@jupyter-widgets/base",
      "model_module_version": "1.0.0",
      "model_name": "LayoutModel",
      "state": {}
     },
     "15601acd3598499099d176120f911e00": {
      "model_module": "@jupyter-widgets/base",
      "model_module_version": "1.0.0",
      "model_name": "LayoutModel",
      "state": {}
     },
     "157bbbdfb4e442fdb1b5c2ba0f14f507": {
      "model_module": "@jupyter-widgets/base",
      "model_module_version": "1.0.0",
      "model_name": "LayoutModel",
      "state": {}
     },
     "15e48deb55174b90a1c7c1fd29552d40": {
      "model_module": "@jupyter-widgets/base",
      "model_module_version": "1.0.0",
      "model_name": "LayoutModel",
      "state": {}
     },
     "163c859e0e044da59d5e98fc2b3da20f": {
      "model_module": "@jupyter-widgets/base",
      "model_module_version": "1.0.0",
      "model_name": "LayoutModel",
      "state": {}
     },
     "16df5013d2774449a775ffe1c3e6bf97": {
      "model_module": "@jupyter-widgets/base",
      "model_module_version": "1.0.0",
      "model_name": "LayoutModel",
      "state": {}
     },
     "16e937a6174341e2be89b2dec34330c9": {
      "model_module": "@jupyter-widgets/base",
      "model_module_version": "1.0.0",
      "model_name": "LayoutModel",
      "state": {}
     },
     "1703dcd3c9964b738888ed8b6d1f8132": {
      "model_module": "@jupyter-widgets/controls",
      "model_module_version": "1.0.0",
      "model_name": "DescriptionStyleModel",
      "state": {
       "description_width": ""
      }
     },
     "17629c9f6f6346fe835a4a2e63c18678": {
      "model_module": "@jupyter-widgets/controls",
      "model_module_version": "1.0.0",
      "model_name": "DescriptionStyleModel",
      "state": {
       "description_width": ""
      }
     },
     "17e1a5d64aef468384468044c76bd2ba": {
      "model_module": "jp_proxy_widget",
      "model_module_version": "^0.3.4",
      "model_name": "JSProxyModel",
      "state": {
       "_model_module_version": "^0.3.4",
       "_send_counter": 2,
       "_view_module_version": "^0.3.4",
       "error_msg": "No error",
       "layout": "IPY_MODEL_1481af0d33b340329d9bbb96023bd65f",
       "rendered": true,
       "status": "Got results."
      }
     },
     "181558772a9e4b62ad70938cf9fe0a06": {
      "model_module": "@jupyter-widgets/base",
      "model_module_version": "1.0.0",
      "model_name": "LayoutModel",
      "state": {}
     },
     "181635f1b1e74c34b0f85d9c9e0f4e53": {
      "model_module": "@jupyter-widgets/controls",
      "model_module_version": "1.0.0",
      "model_name": "VBoxModel",
      "state": {
       "children": [
        "IPY_MODEL_36af126c9ca9419a8f78f71c781c9ff1",
        "IPY_MODEL_417e0f84c1894881ab3ea8340f77beb4"
       ],
       "layout": "IPY_MODEL_361fd97dd41a4e858bc27f6da7387892"
      }
     },
     "18e28c1e091844bb9976fff59aa035c7": {
      "model_module": "@jupyter-widgets/controls",
      "model_module_version": "1.0.0",
      "model_name": "HTMLModel",
      "state": {
       "layout": "IPY_MODEL_54710c64943341e6968949e5c2b5c0cb",
       "style": "IPY_MODEL_8e53bf7c4f95478d9ce1984eccb74495",
       "value": "<img src=\"color_chooser2.png\" id=\"snapshot_id_3_1536693522043\"/>\n <div id=\"snapshot_id_4_1536693522043\">color_chooser2.png</div>"
      }
     },
     "19283d010a0d43bf9ddb72703a0f13be": {
      "model_module": "jp_proxy_widget",
      "model_module_version": "^0.3.4",
      "model_name": "JSProxyModel",
      "state": {
       "_model_module_version": "^0.3.4",
       "_send_counter": 2,
       "_view_module_version": "^0.3.4",
       "error_msg": "No error",
       "layout": "IPY_MODEL_ee6ed0ea4fa146aa8d254be2e6ad4738",
       "rendered": true,
       "status": "Got results."
      }
     },
     "19889be10fdf4a1187729a2b630f0cba": {
      "model_module": "jp_proxy_widget",
      "model_module_version": "^0.3.4",
      "model_name": "JSProxyModel",
      "state": {
       "_model_module_version": "^0.3.4",
       "_send_counter": 10,
       "_view_module_version": "^0.3.4",
       "error_msg": "No error",
       "layout": "IPY_MODEL_d057ab2454394e5ea7b1d699d744c502",
       "rendered": true,
       "status": "Got results."
      }
     },
     "1a77b36129334cdeb67db6ec1f1041f5": {
      "model_module": "@jupyter-widgets/controls",
      "model_module_version": "1.0.0",
      "model_name": "DescriptionStyleModel",
      "state": {
       "description_width": ""
      }
     },
     "1affb9d7424f4ce2a2b6610bd4d5a333": {
      "model_module": "jp_proxy_widget",
      "model_module_version": "^0.3.4",
      "model_name": "JSProxyModel",
      "state": {
       "_model_module_version": "^0.3.4",
       "_send_counter": 2,
       "_view_module_version": "^0.3.4",
       "error_msg": "No error",
       "layout": "IPY_MODEL_9c5c852435774a61ad9bc441c476edc2",
       "rendered": true,
       "status": "Got results."
      }
     },
     "1b17039c2fc54fe89ab13c30f21567d5": {
      "model_module": "@jupyter-widgets/base",
      "model_module_version": "1.0.0",
      "model_name": "LayoutModel",
      "state": {}
     },
     "1c47d23168b54a9eacc477bb35a9c674": {
      "model_module": "@jupyter-widgets/controls",
      "model_module_version": "1.0.0",
      "model_name": "DescriptionStyleModel",
      "state": {
       "description_width": ""
      }
     },
     "1c5730a9020f42879f6cedb4b37c2cac": {
      "model_module": "@jupyter-widgets/base",
      "model_module_version": "1.0.0",
      "model_name": "LayoutModel",
      "state": {}
     },
     "1c6f31ab1b0444b0a3f73697ee35fd7e": {
      "model_module": "jp_proxy_widget",
      "model_module_version": "^0.3.4",
      "model_name": "JSProxyModel",
      "state": {
       "_model_module_version": "^0.3.4",
       "_send_counter": 2,
       "_view_module_version": "^0.3.4",
       "error_msg": "No error",
       "layout": "IPY_MODEL_581ecf77ca884258b84fb4761dc9622b",
       "rendered": true,
       "status": "call back to <function callback_function at 0x107026758>"
      }
     },
     "1cc61b971a23495a9048750fccb1c085": {
      "model_module": "jp_proxy_widget",
      "model_module_version": "^0.3.4",
      "model_name": "JSProxyModel",
      "state": {
       "_model_module_version": "^0.3.4",
       "_send_counter": 2,
       "_view_module_version": "^0.3.4",
       "error_msg": "No error",
       "layout": "IPY_MODEL_0a6bd8f5c65045b8a843a33a7ad1152a",
       "rendered": true,
       "status": "Got results."
      }
     },
     "1cf732e99e6a4460be105ae97e69f8e4": {
      "model_module": "@jupyter-widgets/base",
      "model_module_version": "1.0.0",
      "model_name": "LayoutModel",
      "state": {}
     },
     "1d64c3d1446a410bb1129cbb2d743915": {
      "model_module": "jp_proxy_widget",
      "model_module_version": "^0.3.4",
      "model_name": "JSProxyModel",
      "state": {
       "_model_module_version": "^0.3.4",
       "_send_counter": 8,
       "_view_module_version": "^0.3.4",
       "error_msg": "No error",
       "layout": "IPY_MODEL_5d8aa3ffa01d4e97b5a04af7ad31671a",
       "rendered": true,
       "status": "Got results."
      }
     },
     "1d9d57a678fe412394d85098e999b015": {
      "model_module": "@jupyter-widgets/base",
      "model_module_version": "1.0.0",
      "model_name": "LayoutModel",
      "state": {}
     },
     "1dee20412e804e498dfa5e0aa3d3f857": {
      "model_module": "@jupyter-widgets/controls",
      "model_module_version": "1.0.0",
      "model_name": "TabModel",
      "state": {
       "_titles": {
        "0": "Canvas",
        "1": "Snapshot"
       },
       "children": [
        "IPY_MODEL_04d96fa4e43541d09a7575a8dcaba7fa",
        "IPY_MODEL_0bd413166d144f608fd9342e525e2d85"
       ],
       "layout": "IPY_MODEL_defd11fba1f14d83a1499e38d2a3a10c",
       "selected_index": 1
      }
     },
     "1e337ee1b5a241d7ba43affd6d32287e": {
      "model_module": "@jupyter-widgets/controls",
      "model_module_version": "1.0.0",
      "model_name": "HTMLModel",
      "state": {
       "layout": "IPY_MODEL_73c014155b2f4935922cafd2c2f6ef6f",
       "style": "IPY_MODEL_d7563e92b2d54ae3aa473f37cd9088a6",
       "value": "<img src=\"color_chooser2.png\" id=\"snapshot_id_6_1536700022078\"/>\n <div id=\"snapshot_id_7_1536700022078\">color_chooser2.png</div>"
      }
     },
     "1e4f5f621e7a42abb680194ca6cbbaf7": {
      "model_module": "@jupyter-widgets/controls",
      "model_module_version": "1.0.0",
      "model_name": "DescriptionStyleModel",
      "state": {
       "description_width": ""
      }
     },
     "1e6755896848445085c3df5434262ef9": {
      "model_module": "@jupyter-widgets/controls",
      "model_module_version": "1.0.0",
      "model_name": "HTMLModel",
      "state": {
       "layout": "IPY_MODEL_02ba791cc44a4ae1b5e1bed00434efb7",
       "style": "IPY_MODEL_d53831b28dd6415a8c6c14da5dc330df",
       "value": "<img src=\"color_chooser2.png\" id=\"snapshot_id_25_1536695973345\"/>\n <div id=\"snapshot_id_26_1536695973345\">color_chooser2.png</div>"
      }
     },
     "1e7dddc5565a4d9980bc15e5bab28b67": {
      "model_module": "@jupyter-widgets/controls",
      "model_module_version": "1.0.0",
      "model_name": "VBoxModel",
      "state": {
       "children": [
        "IPY_MODEL_737932e3b0844e4d92d10b42c133c06d",
        "IPY_MODEL_0890d7aaad6f496393ea3ce0f71034f3"
       ],
       "layout": "IPY_MODEL_928edbf2f91f473588dea6a3159532cb"
      }
     },
     "1e9a06c1ebdf466099b1c3702e7f7583": {
      "model_module": "@jupyter-widgets/base",
      "model_module_version": "1.0.0",
      "model_name": "LayoutModel",
      "state": {}
     },
     "1eb9b42d1b704344ad087f56e214c8d0": {
      "model_module": "@jupyter-widgets/controls",
      "model_module_version": "1.0.0",
      "model_name": "TabModel",
      "state": {
       "_titles": {
        "0": "Canvas",
        "1": "Snapshot"
       },
       "children": [
        "IPY_MODEL_ae69cea93bb54e68ad6f5d1a1cca9183",
        "IPY_MODEL_f03635a4270d41e59020fc739e6febaa"
       ],
       "layout": "IPY_MODEL_57f43f6b85c34b85a376573e7c7c9290"
      }
     },
     "1ee5b281baba4f5ba67eeae73c49944f": {
      "model_module": "@jupyter-widgets/controls",
      "model_module_version": "1.0.0",
      "model_name": "VBoxModel",
      "state": {
       "children": [
        "IPY_MODEL_2c8ee20b1ced4ca7bf3640d9bfeac89a",
        "IPY_MODEL_5ca62e23191542e5b0dbc2ce23901136"
       ],
       "layout": "IPY_MODEL_5783dfd9cf364e9cb285636cd5460ff6"
      }
     },
     "1fd025f4bda34d0a9f65a17d65e49184": {
      "model_module": "@jupyter-widgets/base",
      "model_module_version": "1.0.0",
      "model_name": "LayoutModel",
      "state": {}
     },
     "1ff09cf4457d48bd87f05fa992f1341f": {
      "model_module": "@jupyter-widgets/base",
      "model_module_version": "1.0.0",
      "model_name": "LayoutModel",
      "state": {}
     },
     "203fe0ca98ac4274b6a300e3cafdf793": {
      "model_module": "@jupyter-widgets/controls",
      "model_module_version": "1.0.0",
      "model_name": "VBoxModel",
      "state": {
       "children": [
        "IPY_MODEL_caf683129e9849938a0bef37bd7fa341",
        "IPY_MODEL_119fe19d1c66467d913cb9cd362f34d5"
       ],
       "layout": "IPY_MODEL_181558772a9e4b62ad70938cf9fe0a06"
      }
     },
     "206b1eef2cc54f01a8eefd6566365956": {
      "model_module": "@jupyter-widgets/base",
      "model_module_version": "1.0.0",
      "model_name": "LayoutModel",
      "state": {}
     },
     "209fc3faa00444fdb2caf5cd1b5ea60f": {
      "model_module": "@jupyter-widgets/controls",
      "model_module_version": "1.0.0",
      "model_name": "TabModel",
      "state": {
       "_titles": {
        "0": "Canvas",
        "1": "Snapshot"
       },
       "children": [
        "IPY_MODEL_67e3ada84406430f8a0560e687e7406a",
        "IPY_MODEL_b3b66337e8494a849ea35d962980e9fd"
       ],
       "layout": "IPY_MODEL_b6708a7757a047f1999cf257af2c9631"
      }
     },
     "21494a9480cd4166bd07926e4ac6e457": {
      "model_module": "@jupyter-widgets/base",
      "model_module_version": "1.0.0",
      "model_name": "LayoutModel",
      "state": {}
     },
     "220a3f4bc901411cb0150f409fc06db1": {
      "model_module": "@jupyter-widgets/base",
      "model_module_version": "1.0.0",
      "model_name": "LayoutModel",
      "state": {}
     },
     "220f214a40c34f9ba2419dee0350f9c1": {
      "model_module": "@jupyter-widgets/controls",
      "model_module_version": "1.0.0",
      "model_name": "VBoxModel",
      "state": {
       "children": [
        "IPY_MODEL_71467fcd00c049f49a40c43be36c2a32",
        "IPY_MODEL_0848e706410a4caca139d128ef8814e4"
       ],
       "layout": "IPY_MODEL_50d9da12eee74efab1730354afeb8a87"
      }
     },
     "2269bef6b384469f9ac957bcd2066403": {
      "model_module": "@jupyter-widgets/base",
      "model_module_version": "1.0.0",
      "model_name": "LayoutModel",
      "state": {}
     },
     "23443818fb474191b0ea51d9c80f6421": {
      "model_module": "@jupyter-widgets/base",
      "model_module_version": "1.0.0",
      "model_name": "LayoutModel",
      "state": {}
     },
     "2392f150523548b7b5a28b446623f971": {
      "model_module": "@jupyter-widgets/base",
      "model_module_version": "1.0.0",
      "model_name": "LayoutModel",
      "state": {}
     },
     "23a1c994968442af872dd4ba4c0f7d0d": {
      "model_module": "@jupyter-widgets/base",
      "model_module_version": "1.0.0",
      "model_name": "LayoutModel",
      "state": {}
     },
     "23c0851e9dfa4ff9b2a826c569e6597a": {
      "model_module": "@jupyter-widgets/controls",
      "model_module_version": "1.0.0",
      "model_name": "VBoxModel",
      "state": {
       "children": [
        "IPY_MODEL_2a01cc26b058442fb38b78cf0f8d3b42",
        "IPY_MODEL_13639386a35140148ba25291bc8759ef"
       ],
       "layout": "IPY_MODEL_4021817b40904cf48e3b3b0e6fe06602"
      }
     },
     "23d9970acfac4f10967b5be57469e9a4": {
      "model_module": "@jupyter-widgets/base",
      "model_module_version": "1.0.0",
      "model_name": "LayoutModel",
      "state": {}
     },
     "23dcb5674689471b920e3b1f0f078ca4": {
      "model_module": "@jupyter-widgets/base",
      "model_module_version": "1.0.0",
      "model_name": "LayoutModel",
      "state": {}
     },
     "24418e6cd43a4436aa84528a4ff014b2": {
      "model_module": "jp_proxy_widget",
      "model_module_version": "^0.3.4",
      "model_name": "JSProxyModel",
      "state": {
       "_model_module_version": "^0.3.4",
       "_send_counter": 10,
       "_view_module_version": "^0.3.4",
       "error_msg": "No error",
       "layout": "IPY_MODEL_1ff09cf4457d48bd87f05fa992f1341f",
       "rendered": true,
       "status": "Got results."
      }
     },
     "244c8cf864164cdb8568fede311e0de9": {
      "model_module": "@jupyter-widgets/controls",
      "model_module_version": "1.0.0",
      "model_name": "HTMLModel",
      "state": {
       "layout": "IPY_MODEL_b38cd49415cb4097a41415740ea35978",
       "style": "IPY_MODEL_65effd76c05e4d1198efb9368d27e97d",
       "value": "<img src=\"color_chooser.png\" id=\"snapshot_id_3_1536681604870\"/>\n <div id=\"snapshot_id_4_1536681604870\">color_chooser.png</div>"
      }
     },
     "24638b8679104b769e9505722ae9fd61": {
      "model_module": "@jupyter-widgets/base",
      "model_module_version": "1.0.0",
      "model_name": "LayoutModel",
      "state": {}
     },
     "2504d30f224245d9b74547f5834fe9db": {
      "model_module": "@jupyter-widgets/controls",
      "model_module_version": "1.0.0",
      "model_name": "VBoxModel",
      "state": {
       "children": [
        "IPY_MODEL_a6e95f6ded5545449aa49c550a07dab1",
        "IPY_MODEL_d794116992e9418baae59e96f40e461c"
       ],
       "layout": "IPY_MODEL_5c771a1b62374fb2a4ce22a22b3cb142"
      }
     },
     "2524db4427224582834acb7855840d60": {
      "model_module": "jp_proxy_widget",
      "model_module_version": "^0.3.4",
      "model_name": "JSProxyModel",
      "state": {
       "_model_module_version": "^0.3.4",
       "_send_counter": 2,
       "_view_module_version": "^0.3.4",
       "error_msg": "No error",
       "layout": "IPY_MODEL_f1e973832d9b4d249f1a38e6964ac30d",
       "rendered": true,
       "status": "Got results."
      }
     },
     "25615a9e89b44de48456de7d0a975982": {
      "model_module": "jp_proxy_widget",
      "model_module_version": "^0.3.4",
      "model_name": "JSProxyModel",
      "state": {
       "_model_module_version": "^0.3.4",
       "_send_counter": 8,
       "_view_module_version": "^0.3.4",
       "error_msg": "No error",
       "layout": "IPY_MODEL_9023a8199e7d49e282ccc2047319e757",
       "rendered": true,
       "status": "Got results."
      }
     },
     "25f099b9345e47ff833d5a21697d78ec": {
      "model_module": "@jupyter-widgets/base",
      "model_module_version": "1.0.0",
      "model_name": "LayoutModel",
      "state": {}
     },
     "25f94c70573b444da3f9d1e9773d3bfd": {
      "model_module": "@jupyter-widgets/controls",
      "model_module_version": "1.0.0",
      "model_name": "TabModel",
      "state": {
       "_titles": {
        "0": "Canvas",
        "1": "Snapshot"
       },
       "children": [
        "IPY_MODEL_61695cbd195b4d008f7b09f0f1513e5e",
        "IPY_MODEL_29b46e778f1d4d7098c3df11702cbf11"
       ],
       "layout": "IPY_MODEL_fe4375841824476fa57d6f1f879a9ea8"
      }
     },
     "25fa033e67ac40d9b93800799c0f749c": {
      "model_module": "@jupyter-widgets/base",
      "model_module_version": "1.0.0",
      "model_name": "LayoutModel",
      "state": {}
     },
     "263fb994b0504b7ebd19d03ae8ef4fe6": {
      "model_module": "@jupyter-widgets/controls",
      "model_module_version": "1.0.0",
      "model_name": "VBoxModel",
      "state": {
       "children": [
        "IPY_MODEL_f0d29601d9d2471694fb3745d8b07cb3",
        "IPY_MODEL_753ed40e848a4d1bb4b4d57aa80ee068"
       ],
       "layout": "IPY_MODEL_511b4df50a2648fab7b445dadf99d65b"
      }
     },
     "26680f226fcf4abcb889f0e506e7b8f8": {
      "model_module": "@jupyter-widgets/base",
      "model_module_version": "1.0.0",
      "model_name": "LayoutModel",
      "state": {}
     },
     "2701029434474f11ae614b5397b6c4d7": {
      "model_module": "@jupyter-widgets/controls",
      "model_module_version": "1.0.0",
      "model_name": "HTMLModel",
      "state": {
       "layout": "IPY_MODEL_001bc4cb7141496eb5533e4344fd1561",
       "style": "IPY_MODEL_3fec6ee91b13497992b9aa9409becac3",
       "value": "<img src=\"color_chooser.png\" id=\"snapshot_id_1_1537454161727\"/>\n <div id=\"snapshot_id_2_1537454161727\">color_chooser.png</div>"
      }
     },
     "273ac7bcd7394e6e8746fb7ef48a4523": {
      "model_module": "@jupyter-widgets/base",
      "model_module_version": "1.0.0",
      "model_name": "LayoutModel",
      "state": {}
     },
     "274c15dec65542128e67fe845c0d22f4": {
      "model_module": "@jupyter-widgets/controls",
      "model_module_version": "1.0.0",
      "model_name": "DescriptionStyleModel",
      "state": {
       "description_width": ""
      }
     },
     "289b66386b6b49209f1bc46366b6c3f7": {
      "model_module": "@jupyter-widgets/controls",
      "model_module_version": "1.0.0",
      "model_name": "DescriptionStyleModel",
      "state": {
       "description_width": ""
      }
     },
     "28c09b18398b4a8281aa4c39c43c1667": {
      "model_module": "@jupyter-widgets/controls",
      "model_module_version": "1.0.0",
      "model_name": "HTMLModel",
      "state": {
       "layout": "IPY_MODEL_a279c7d78594475e8d8279a56441bab2",
       "style": "IPY_MODEL_5f1c772836a44c3ca0732b7f1fd30eb1",
       "value": "<img src=\"color_chooser2.png\" id=\"snapshot_id_19_1536695837440\"/>\n <div id=\"snapshot_id_20_1536695837440\">color_chooser2.png</div>"
      }
     },
     "2932f6a5347943b3bbc90dc645188f79": {
      "model_module": "@jupyter-widgets/controls",
      "model_module_version": "1.0.0",
      "model_name": "VBoxModel",
      "state": {
       "children": [
        "IPY_MODEL_e50858c95b9d4400adea02333cbe49f5",
        "IPY_MODEL_cc48d1d99e454dc4affe543b6757365d"
       ],
       "layout": "IPY_MODEL_d3acb71c9b294af1a07f4cea826016f6"
      }
     },
     "2995e4c359444d6d88eb86cd34ed4659": {
      "model_module": "jp_proxy_widget",
      "model_module_version": "^0.3.4",
      "model_name": "JSProxyModel",
      "state": {
       "_model_module_version": "^0.3.4",
       "_send_counter": 2,
       "_view_module_version": "^0.3.4",
       "error_msg": "No error",
       "layout": "IPY_MODEL_8c8949a4989a4461bb56c3591e1f0086",
       "rendered": true,
       "status": "Got results."
      }
     },
     "29b46e778f1d4d7098c3df11702cbf11": {
      "model_module": "@jupyter-widgets/controls",
      "model_module_version": "1.0.0",
      "model_name": "HTMLModel",
      "state": {
       "layout": "IPY_MODEL_42d56cec55d2499083869d618b16170b",
       "style": "IPY_MODEL_7fb870bd2e474c31a03296b1b0a0257a",
       "value": "<img src=\"color_chooser2.png\" id=\"snapshot_id_15_1536695576889\"/>\n <div id=\"snapshot_id_16_1536695576889\">color_chooser2.png</div>"
      }
     },
     "29c9a6ba8be540ba9f7301ff6b95d284": {
      "model_module": "@jupyter-widgets/controls",
      "model_module_version": "1.0.0",
      "model_name": "HTMLModel",
      "state": {
       "layout": "IPY_MODEL_af7c9a03a1d647f6a4686771c407dcf6",
       "style": "IPY_MODEL_c0b9fa2c46b049188dac67617e900a85",
       "value": "<img src=\"color_chooser.png\" id=\"snapshot_id_1_1536674670400\"/>\n <div id=\"snapshot_id_2_1536674670400\">color_chooser.png</div>"
      }
     },
     "2a01cc26b058442fb38b78cf0f8d3b42": {
      "model_module": "jp_proxy_widget",
      "model_module_version": "^0.3.4",
      "model_name": "JSProxyModel",
      "state": {
       "_model_module_version": "^0.3.4",
       "_send_counter": 8,
       "_view_module_version": "^0.3.4",
       "error_msg": "No error",
       "layout": "IPY_MODEL_c1907a119fbb41d3a9a9736fc8d4c111",
       "rendered": true,
       "status": "Got results."
      }
     },
     "2a31af9acf18494792f64369d3c2114d": {
      "model_module": "@jupyter-widgets/controls",
      "model_module_version": "1.0.0",
      "model_name": "TabModel",
      "state": {
       "_titles": {
        "0": "Canvas",
        "1": "Snapshot"
       },
       "children": [
        "IPY_MODEL_0d15a71c5857454a83ed46df28e9beb4",
        "IPY_MODEL_2f86a33e1bb4449096b8d66793ee3fac"
       ],
       "layout": "IPY_MODEL_746531e78a584d8b8f6bb658be0a0d3b"
      }
     },
     "2a79e135e0aa49e380d2247b9ac3d1ca": {
      "model_module": "@jupyter-widgets/base",
      "model_module_version": "1.0.0",
      "model_name": "LayoutModel",
      "state": {}
     },
     "2a849a6baa1f42b98235141df08fe641": {
      "model_module": "@jupyter-widgets/controls",
      "model_module_version": "1.0.0",
      "model_name": "VBoxModel",
      "state": {
       "children": [
        "IPY_MODEL_80194d5f18a8443d8ffbf2dfeb382988",
        "IPY_MODEL_0e82ed1b4ad14220a3c9db0ed57a484a"
       ],
       "layout": "IPY_MODEL_4d79e815947a432d91d21e6c7dd1126b"
      }
     },
     "2ae7885813c64ffba75dfca26f795e1b": {
      "model_module": "jp_proxy_widget",
      "model_module_version": "^0.3.4",
      "model_name": "JSProxyModel",
      "state": {
       "_model_module_version": "^0.3.4",
       "_send_counter": 10,
       "_view_module_version": "^0.3.4",
       "error_msg": "No error",
       "layout": "IPY_MODEL_cb36d43fbb024dacad8fdadd31569075",
       "rendered": true,
       "status": "Got results."
      }
     },
     "2bb180bc32304d2f8837661b971015dd": {
      "model_module": "jp_proxy_widget",
      "model_module_version": "^0.3.4",
      "model_name": "JSProxyModel",
      "state": {
       "_model_module_version": "^0.3.4",
       "_send_counter": 2,
       "_view_module_version": "^0.3.4",
       "error_msg": "No error",
       "layout": "IPY_MODEL_65e7063d488f4a46a56286a245f06856",
       "rendered": true,
       "status": "Got results."
      }
     },
     "2c517a9e9a284220ac5440589cacf00d": {
      "model_module": "jp_proxy_widget",
      "model_module_version": "^0.3.4",
      "model_name": "JSProxyModel",
      "state": {
       "_model_module_version": "^0.3.4",
       "_send_counter": 2,
       "_view_module_version": "^0.3.4",
       "error_msg": "No error",
       "layout": "IPY_MODEL_c68d1fd1cf5f450ab6eb640a8362b3e6",
       "rendered": true,
       "status": "Got results."
      }
     },
     "2c8ee20b1ced4ca7bf3640d9bfeac89a": {
      "model_module": "jp_proxy_widget",
      "model_module_version": "^0.3.4",
      "model_name": "JSProxyModel",
      "state": {
       "_model_module_version": "^0.3.4",
       "_send_counter": 8,
       "_view_module_version": "^0.3.4",
       "error_msg": "ReferenceError: radius is not defined",
       "layout": "IPY_MODEL_650f356ff2614c609e97a849bc760c5b",
       "rendered": true,
       "status": "Rendered."
      }
     },
     "2ca5edf8310947e98eed14b05c97c063": {
      "model_module": "@jupyter-widgets/controls",
      "model_module_version": "1.0.0",
      "model_name": "VBoxModel",
      "state": {
       "children": [
        "IPY_MODEL_82e806082f2446598c2ffd819656b947",
        "IPY_MODEL_7a3ef9c981934129b42f7fb7d698b585"
       ],
       "layout": "IPY_MODEL_de9163b83c824114b1b975bb90df914e"
      }
     },
     "2e23553c36ae401db2b24837c394023c": {
      "model_module": "@jupyter-widgets/base",
      "model_module_version": "1.0.0",
      "model_name": "LayoutModel",
      "state": {}
     },
     "2e319adb95854e7c84c51b365bb4d267": {
      "model_module": "@jupyter-widgets/base",
      "model_module_version": "1.0.0",
      "model_name": "LayoutModel",
      "state": {}
     },
     "2e5c3782abc64e87bd8db13db280694c": {
      "model_module": "jp_proxy_widget",
      "model_module_version": "^0.3.4",
      "model_name": "JSProxyModel",
      "state": {
       "_model_module_version": "^0.3.4",
       "_send_counter": 8,
       "_view_module_version": "^0.3.4",
       "error_msg": "No error",
       "layout": "IPY_MODEL_47fc6b9f733d461189b0219a41bc2492",
       "rendered": true,
       "status": "Got results."
      }
     },
     "2e6bdeff1010455e9e3556ee8f6a03db": {
      "model_module": "@jupyter-widgets/base",
      "model_module_version": "1.0.0",
      "model_name": "LayoutModel",
      "state": {}
     },
     "2e9b8333ce834d468758f1e7dae74874": {
      "model_module": "@jupyter-widgets/controls",
      "model_module_version": "1.0.0",
      "model_name": "VBoxModel",
      "state": {
       "children": [
        "IPY_MODEL_fb656e1aa1204073a798e88d1e9b432b",
        "IPY_MODEL_6f5777cb54374890a175b31b3ca72e65"
       ],
       "layout": "IPY_MODEL_eacefbdf323d4df9b6f05c3634419588"
      }
     },
     "2f0443d0e8b94b0497f5378056d70562": {
      "model_module": "jp_proxy_widget",
      "model_module_version": "^0.3.4",
      "model_name": "JSProxyModel",
      "state": {
       "_model_module_version": "^0.3.4",
       "_send_counter": 2,
       "_view_module_version": "^0.3.4",
       "error_msg": "No error",
       "layout": "IPY_MODEL_42e98f0b21c544dd9b8dd076d21e5daa",
       "rendered": true,
       "status": "Got results."
      }
     },
     "2f13be885df94509ba2794ca60dc8ab4": {
      "model_module": "@jupyter-widgets/controls",
      "model_module_version": "1.0.0",
      "model_name": "TabModel",
      "state": {
       "_titles": {
        "0": "Canvas",
        "1": "Snapshot"
       },
       "children": [
        "IPY_MODEL_dd3cd3f4197d467091678cfc765d5b3c",
        "IPY_MODEL_3b660c617f0246cc9c3d81b19ba673b4"
       ],
       "layout": "IPY_MODEL_163c859e0e044da59d5e98fc2b3da20f"
      }
     },
     "2f29e152b4c74eeaa005fe57d56e494a": {
      "model_module": "jp_proxy_widget",
      "model_module_version": "^0.3.4",
      "model_name": "JSProxyModel",
      "state": {
       "_model_module_version": "^0.3.4",
       "_send_counter": 2,
       "_view_module_version": "^0.3.4",
       "error_msg": "No error",
       "layout": "IPY_MODEL_f21ba75280ab428d8524625e14a5f65a",
       "rendered": true,
       "status": "Got results."
      }
     },
     "2f3877565c4e4bc9a5ac81d3ae4e5372": {
      "model_module": "@jupyter-widgets/controls",
      "model_module_version": "1.0.0",
      "model_name": "TabModel",
      "state": {
       "_titles": {
        "0": "Canvas",
        "1": "Snapshot"
       },
       "children": [
        "IPY_MODEL_61c6e9f081ce4450bcffbeb7965a254d",
        "IPY_MODEL_08aa049ea6e743b8a221dc39a9c512ad"
       ],
       "layout": "IPY_MODEL_6c1ac93dfd404938a20ea7861828cf3e"
      }
     },
     "2f573e37b0ab4cd6ae1855cc1cd8dbab": {
      "model_module": "@jupyter-widgets/controls",
      "model_module_version": "1.0.0",
      "model_name": "DescriptionStyleModel",
      "state": {
       "description_width": ""
      }
     },
     "2f86a33e1bb4449096b8d66793ee3fac": {
      "model_module": "@jupyter-widgets/controls",
      "model_module_version": "1.0.0",
      "model_name": "HTMLModel",
      "state": {
       "layout": "IPY_MODEL_81e31fd0204341c5b25aa4517047269c",
       "style": "IPY_MODEL_fc3aabdc9d26452e8282d94ec6c673a5",
       "value": "<img src=\"color_chooser.png\" id=\"snapshot_id_13_1536683100998\"/>\n <div id=\"snapshot_id_14_1536683100998\">color_chooser.png</div>"
      }
     },
     "2fa73b32b4c24cd390a775da20d915c0": {
      "model_module": "@jupyter-widgets/base",
      "model_module_version": "1.0.0",
      "model_name": "LayoutModel",
      "state": {}
     },
     "30bf8105fef2430ab4c7014b0d1ba6c8": {
      "model_module": "@jupyter-widgets/base",
      "model_module_version": "1.0.0",
      "model_name": "LayoutModel",
      "state": {}
     },
     "3177251250634f89b803c194ed03045f": {
      "model_module": "@jupyter-widgets/controls",
      "model_module_version": "1.0.0",
      "model_name": "DescriptionStyleModel",
      "state": {
       "description_width": ""
      }
     },
     "31b2d01ca7ce4bd69498339064413b55": {
      "model_module": "@jupyter-widgets/base",
      "model_module_version": "1.0.0",
      "model_name": "LayoutModel",
      "state": {}
     },
     "31b8d5af2c81409e9cf486dfc4e7a547": {
      "model_module": "@jupyter-widgets/base",
      "model_module_version": "1.0.0",
      "model_name": "LayoutModel",
      "state": {}
     },
     "326355b082d844c7a169dca3b50a97ab": {
      "model_module": "@jupyter-widgets/base",
      "model_module_version": "1.0.0",
      "model_name": "LayoutModel",
      "state": {}
     },
     "328b82d6abda4be9abf816f700fa133c": {
      "model_module": "jp_proxy_widget",
      "model_module_version": "^0.3.4",
      "model_name": "JSProxyModel",
      "state": {
       "_model_module_version": "^0.3.4",
       "_send_counter": 8,
       "_view_module_version": "^0.3.4",
       "error_msg": "ReferenceError: triangle_frame is not defined",
       "layout": "IPY_MODEL_25fa033e67ac40d9b93800799c0f749c",
       "rendered": true,
       "status": "Rendered."
      }
     },
     "329b12a298a042b38c6cf199bab5e80f": {
      "model_module": "@jupyter-widgets/base",
      "model_module_version": "1.0.0",
      "model_name": "LayoutModel",
      "state": {}
     },
     "32a14d1f8297416ebbf39f6c42387c80": {
      "model_module": "@jupyter-widgets/base",
      "model_module_version": "1.0.0",
      "model_name": "LayoutModel",
      "state": {}
     },
     "32ac39dc938246be8d805bd50a822421": {
      "model_module": "@jupyter-widgets/base",
      "model_module_version": "1.0.0",
      "model_name": "LayoutModel",
      "state": {}
     },
     "32ecbe2bddff4a7683fde01608e37a01": {
      "model_module": "@jupyter-widgets/controls",
      "model_module_version": "1.0.0",
      "model_name": "VBoxModel",
      "state": {
       "children": [
        "IPY_MODEL_befa755f48844f77a0404303701da22d",
        "IPY_MODEL_c92144c2bb4043c6a818c50aee3ea961"
       ],
       "layout": "IPY_MODEL_820c6a7194484704acbb082839569d7b"
      }
     },
     "335c1e73c9f34b61a848a33ec6fd2aad": {
      "model_module": "@jupyter-widgets/base",
      "model_module_version": "1.0.0",
      "model_name": "LayoutModel",
      "state": {}
     },
     "33e7328175674d35b7e226b1bc9ffbef": {
      "model_module": "@jupyter-widgets/controls",
      "model_module_version": "1.0.0",
      "model_name": "DescriptionStyleModel",
      "state": {
       "description_width": ""
      }
     },
     "33f5027f619e43f89d8626ca0a02a3e8": {
      "model_module": "jp_proxy_widget",
      "model_module_version": "^0.3.4",
      "model_name": "JSProxyModel",
      "state": {
       "_model_module_version": "^0.3.4",
       "_send_counter": 2,
       "_view_module_version": "^0.3.4",
       "error_msg": "No error",
       "layout": "IPY_MODEL_0189975b64044258b651968db5a0aa25",
       "rendered": true,
       "status": "Got results."
      }
     },
     "342e9d8f23244a55864512ff4aa23e56": {
      "model_module": "@jupyter-widgets/base",
      "model_module_version": "1.0.0",
      "model_name": "LayoutModel",
      "state": {}
     },
     "348e451df6414550b3e568407d84c87b": {
      "model_module": "@jupyter-widgets/controls",
      "model_module_version": "1.0.0",
      "model_name": "DescriptionStyleModel",
      "state": {
       "description_width": ""
      }
     },
     "34b443f4371c43b38dbfce726e291847": {
      "model_module": "@jupyter-widgets/base",
      "model_module_version": "1.0.0",
      "model_name": "LayoutModel",
      "state": {}
     },
     "35cbf6da19a34116b85a694176ab6197": {
      "model_module": "@jupyter-widgets/base",
      "model_module_version": "1.0.0",
      "model_name": "LayoutModel",
      "state": {}
     },
     "361fd97dd41a4e858bc27f6da7387892": {
      "model_module": "@jupyter-widgets/base",
      "model_module_version": "1.0.0",
      "model_name": "LayoutModel",
      "state": {}
     },
     "36af126c9ca9419a8f78f71c781c9ff1": {
      "model_module": "jp_proxy_widget",
      "model_module_version": "^0.3.4",
      "model_name": "JSProxyModel",
      "state": {
       "_model_module_version": "^0.3.4",
       "_send_counter": 8,
       "_view_module_version": "^0.3.4",
       "error_msg": "No error",
       "layout": "IPY_MODEL_5bce6da6a55e4bed81b1c511dbcc2c1d",
       "rendered": true,
       "status": "Got results."
      }
     },
     "3728c428a7a940678a040cbb1976753c": {
      "model_module": "@jupyter-widgets/base",
      "model_module_version": "1.0.0",
      "model_name": "LayoutModel",
      "state": {}
     },
     "37baf011c32f4838be30ee458bd127a5": {
      "model_module": "@jupyter-widgets/base",
      "model_module_version": "1.0.0",
      "model_name": "LayoutModel",
      "state": {}
     },
     "38018437628e431fb5bb9fa34f73f09d": {
      "model_module": "jp_proxy_widget",
      "model_module_version": "^0.3.4",
      "model_name": "JSProxyModel",
      "state": {
       "_model_module_version": "^0.3.4",
       "_send_counter": 8,
       "_view_module_version": "^0.3.4",
       "error_msg": "No error",
       "layout": "IPY_MODEL_5ac0fa504e1f47ab8801dce164de2067",
       "rendered": true,
       "status": "Got results."
      }
     },
     "380c8b9b92c842499c92b405a8841c38": {
      "model_module": "@jupyter-widgets/controls",
      "model_module_version": "1.0.0",
      "model_name": "DescriptionStyleModel",
      "state": {
       "description_width": ""
      }
     },
     "38852ec6954d4658a6fc178dc700e3c3": {
      "model_module": "@jupyter-widgets/base",
      "model_module_version": "1.0.0",
      "model_name": "LayoutModel",
      "state": {}
     },
     "39625346953b40e6b7ab7110704bdc89": {
      "model_module": "jp_proxy_widget",
      "model_module_version": "^0.3.4",
      "model_name": "JSProxyModel",
      "state": {
       "_model_module_version": "^0.3.4",
       "_send_counter": 17,
       "_view_module_version": "^0.3.4",
       "error_msg": "No error",
       "layout": "IPY_MODEL_8a03df7efd9a4c8bbc5c84048dfad8a0",
       "rendered": true,
       "status": "Got results."
      }
     },
     "39886fed28c44a58a84309db8035cda9": {
      "model_module": "@jupyter-widgets/base",
      "model_module_version": "1.0.0",
      "model_name": "LayoutModel",
      "state": {}
     },
     "39f0104a38324046b9581c92b8d88d4d": {
      "model_module": "@jupyter-widgets/base",
      "model_module_version": "1.0.0",
      "model_name": "LayoutModel",
      "state": {}
     },
     "3a213c81382e4d9a912bda3026ba0333": {
      "model_module": "@jupyter-widgets/base",
      "model_module_version": "1.0.0",
      "model_name": "LayoutModel",
      "state": {}
     },
     "3a37109a5f804774ba67b07f422712cd": {
      "model_module": "@jupyter-widgets/controls",
      "model_module_version": "1.0.0",
      "model_name": "HTMLModel",
      "state": {
       "layout": "IPY_MODEL_ff8389b0b7294e41af3649bcc76da4ff",
       "style": "IPY_MODEL_b4cf94b31fd64a5f8d401bef16558f09",
       "value": "<img src=\"color_chooser.png\" id=\"snapshot_id_3_1536692828071\"/>\n <div id=\"snapshot_id_4_1536692828071\">color_chooser.png</div>"
      }
     },
     "3a7656cfbdb643aa9732571175758da1": {
      "model_module": "@jupyter-widgets/base",
      "model_module_version": "1.0.0",
      "model_name": "LayoutModel",
      "state": {}
     },
     "3abc110b042141428d84eef5b3854b29": {
      "model_module": "@jupyter-widgets/base",
      "model_module_version": "1.0.0",
      "model_name": "LayoutModel",
      "state": {}
     },
     "3b660c617f0246cc9c3d81b19ba673b4": {
      "model_module": "@jupyter-widgets/controls",
      "model_module_version": "1.0.0",
      "model_name": "HTMLModel",
      "state": {
       "layout": "IPY_MODEL_26680f226fcf4abcb889f0e506e7b8f8",
       "style": "IPY_MODEL_1e4f5f621e7a42abb680194ca6cbbaf7",
       "value": "<img src=\"color_chooser2.png\" id=\"snapshot_id_3_1536699985783\"/>\n <div id=\"snapshot_id_4_1536699985783\">color_chooser2.png</div>"
      }
     },
     "3cafb4cb1afc48eba8069e9bafedc85c": {
      "model_module": "@jupyter-widgets/base",
      "model_module_version": "1.0.0",
      "model_name": "LayoutModel",
      "state": {}
     },
     "3d4b8f16fb334816afbe2afac0fee81b": {
      "model_module": "@jupyter-widgets/controls",
      "model_module_version": "1.0.0",
      "model_name": "VBoxModel",
      "state": {
       "children": [
        "IPY_MODEL_e28425dfbcbc480599b167440f86a476",
        "IPY_MODEL_b363f10b30294c51985359dd802de699"
       ],
       "layout": "IPY_MODEL_7c67109ed8a84aa39277081e1558e1f4"
      }
     },
     "3d4d4bf8fac0450b830d57aa3eacde82": {
      "model_module": "@jupyter-widgets/base",
      "model_module_version": "1.0.0",
      "model_name": "LayoutModel",
      "state": {}
     },
     "3d8cb302d4e54bc981fb808bd30130a5": {
      "model_module": "@jupyter-widgets/controls",
      "model_module_version": "1.0.0",
      "model_name": "TabModel",
      "state": {
       "_titles": {
        "0": "Canvas",
        "1": "Snapshot"
       },
       "children": [
        "IPY_MODEL_08ba9e375c9d4eb9a58f5beee0ee1f54",
        "IPY_MODEL_b61c8003053c4196a98541b31d019b89"
       ],
       "layout": "IPY_MODEL_c36dca0b55c445b0ae2aa1e2fe32a615"
      }
     },
     "3e3b1de459014416830dc31f4af1ccfb": {
      "model_module": "@jupyter-widgets/base",
      "model_module_version": "1.0.0",
      "model_name": "LayoutModel",
      "state": {}
     },
     "3e3d15f9494d4d53b516a29d243baebf": {
      "model_module": "@jupyter-widgets/base",
      "model_module_version": "1.0.0",
      "model_name": "LayoutModel",
      "state": {}
     },
     "3f34aa7502fd475b989afb98846b5438": {
      "model_module": "@jupyter-widgets/controls",
      "model_module_version": "1.0.0",
      "model_name": "TabModel",
      "state": {
       "_titles": {
        "0": "Canvas",
        "1": "Snapshot"
       },
       "children": [
        "IPY_MODEL_d7aae03721134e0e8e653b970b548286",
        "IPY_MODEL_1e337ee1b5a241d7ba43affd6d32287e"
       ],
       "layout": "IPY_MODEL_563d005a106345088b236a8e202a165f",
       "selected_index": 1
      }
     },
     "3f5f3e97c4b34942a00bb3f5cdc712e8": {
      "model_module": "@jupyter-widgets/controls",
      "model_module_version": "1.0.0",
      "model_name": "VBoxModel",
      "state": {
       "children": [
        "IPY_MODEL_fe8f25837e0c49129d907c083fa2828b",
        "IPY_MODEL_540ca346392b4e138752cb58929b8e88"
       ],
       "layout": "IPY_MODEL_e4176f85023e41b2b92e850e97b56710"
      }
     },
     "3f62f98e742d4bfa842d22cb125f1bcf": {
      "model_module": "@jupyter-widgets/controls",
      "model_module_version": "1.0.0",
      "model_name": "VBoxModel",
      "state": {
       "children": [
        "IPY_MODEL_25615a9e89b44de48456de7d0a975982",
        "IPY_MODEL_dd0692ffe5e84d2b91564fcd3138feeb"
       ],
       "layout": "IPY_MODEL_f4245d8acf1c43b79badd290d84f3a97"
      }
     },
     "3fa097ee755541f8990b884d5bf28343": {
      "model_module": "@jupyter-widgets/base",
      "model_module_version": "1.0.0",
      "model_name": "LayoutModel",
      "state": {}
     },
     "3fec6ee91b13497992b9aa9409becac3": {
      "model_module": "@jupyter-widgets/controls",
      "model_module_version": "1.0.0",
      "model_name": "DescriptionStyleModel",
      "state": {
       "description_width": ""
      }
     },
     "4021817b40904cf48e3b3b0e6fe06602": {
      "model_module": "@jupyter-widgets/base",
      "model_module_version": "1.0.0",
      "model_name": "LayoutModel",
      "state": {}
     },
     "404af97b074f4048a7881d4c28eadf1e": {
      "model_module": "jp_proxy_widget",
      "model_module_version": "^0.3.4",
      "model_name": "JSProxyModel",
      "state": {
       "_model_module_version": "^0.3.4",
       "_send_counter": 8,
       "_view_module_version": "^0.3.4",
       "error_msg": "No error",
       "layout": "IPY_MODEL_a322104e709b4bc59970f139f528b298",
       "rendered": true,
       "status": "Got results."
      }
     },
     "407539c7eb954556815cbd32ee8d0adb": {
      "model_module": "@jupyter-widgets/controls",
      "model_module_version": "1.0.0",
      "model_name": "TabModel",
      "state": {
       "_titles": {
        "0": "Canvas",
        "1": "Snapshot"
       },
       "children": [
        "IPY_MODEL_61a2de8acf66471fbf10818d66af5a25",
        "IPY_MODEL_28c09b18398b4a8281aa4c39c43c1667"
       ],
       "layout": "IPY_MODEL_1cf732e99e6a4460be105ae97e69f8e4"
      }
     },
     "4160f7034c454ef989455c8c333ec19b": {
      "model_module": "@jupyter-widgets/base",
      "model_module_version": "1.0.0",
      "model_name": "LayoutModel",
      "state": {}
     },
     "417e0f84c1894881ab3ea8340f77beb4": {
      "model_module": "jp_proxy_widget",
      "model_module_version": "^0.3.4",
      "model_name": "JSProxyModel",
      "state": {
       "_model_module_version": "^0.3.4",
       "_send_counter": 2,
       "_view_module_version": "^0.3.4",
       "error_msg": "No error",
       "layout": "IPY_MODEL_d06620722bd94d779e142e921335f957",
       "rendered": true,
       "status": "Got results."
      }
     },
     "4234f5bbc4eb44748366918cea9bab3e": {
      "model_module": "@jupyter-widgets/controls",
      "model_module_version": "1.0.0",
      "model_name": "TabModel",
      "state": {
       "_titles": {
        "0": "Canvas",
        "1": "Snapshot"
       },
       "children": [
        "IPY_MODEL_73d404fab10545b2a82ca37d05c8f612",
        "IPY_MODEL_7ec6f284f20446afb98d376d849c871f"
       ],
       "layout": "IPY_MODEL_3cafb4cb1afc48eba8069e9bafedc85c"
      }
     },
     "4277db1c4eed4db18ba331cf6db8d619": {
      "model_module": "@jupyter-widgets/base",
      "model_module_version": "1.0.0",
      "model_name": "LayoutModel",
      "state": {}
     },
     "42a8b1bc22704c42a2e205223d038f04": {
      "model_module": "@jupyter-widgets/controls",
      "model_module_version": "1.0.0",
      "model_name": "VBoxModel",
      "state": {
       "children": [
        "IPY_MODEL_c850802de5074796a42e4893d0c72888",
        "IPY_MODEL_58679e84e07346adaf5e501aa657b896"
       ],
       "layout": "IPY_MODEL_7c0fd60cdea74d2eb1fe22397ecf111c"
      }
     },
     "42d56cec55d2499083869d618b16170b": {
      "model_module": "@jupyter-widgets/base",
      "model_module_version": "1.0.0",
      "model_name": "LayoutModel",
      "state": {}
     },
     "42e98f0b21c544dd9b8dd076d21e5daa": {
      "model_module": "@jupyter-widgets/base",
      "model_module_version": "1.0.0",
      "model_name": "LayoutModel",
      "state": {}
     },
     "432a3953f451476d919bb4db6b4e61d7": {
      "model_module": "@jupyter-widgets/controls",
      "model_module_version": "1.0.0",
      "model_name": "HTMLModel",
      "state": {
       "layout": "IPY_MODEL_7b7a80215dc94c00b7a93bb02523ed40",
       "style": "IPY_MODEL_126f5e9ecffa48369a2775043534f51f",
       "value": "<img src=\"color_chooser2.png\" id=\"snapshot_id_13_1536695550402\"/>\n <div id=\"snapshot_id_14_1536695550402\">color_chooser2.png</div>"
      }
     },
     "437e8f7021494ed98142c4c2c1fd786e": {
      "model_module": "@jupyter-widgets/controls",
      "model_module_version": "1.0.0",
      "model_name": "DescriptionStyleModel",
      "state": {
       "description_width": ""
      }
     },
     "43d45fc1ad234c7bb128171ddc4afe90": {
      "model_module": "@jupyter-widgets/controls",
      "model_module_version": "1.0.0",
      "model_name": "VBoxModel",
      "state": {
       "children": [
        "IPY_MODEL_69269427848b46ec8f3260e451fb82c2",
        "IPY_MODEL_5f0b3851db794afb98176ceab9ae61e5"
       ],
       "layout": "IPY_MODEL_8b2ec3e37b97423299df8449623a4e75"
      }
     },
     "446e6a7a0d1e44e3b06d33111080064b": {
      "model_module": "@jupyter-widgets/base",
      "model_module_version": "1.0.0",
      "model_name": "LayoutModel",
      "state": {}
     },
     "44a5d514a77b43ec82d2e115751541d2": {
      "model_module": "@jupyter-widgets/controls",
      "model_module_version": "1.0.0",
      "model_name": "HTMLModel",
      "state": {
       "layout": "IPY_MODEL_8e4e718faf6e405b9fe1dcba6dbe4d65",
       "style": "IPY_MODEL_13f92bf8246f46658cc377755acbb65f",
       "value": "<img src=\"color_chooser.png\" id=\"snapshot_id_3_1536689563275\"/>\n <div id=\"snapshot_id_4_1536689563275\">color_chooser.png</div>"
      }
     },
     "45e62137330b44caa4ca4147b4799193": {
      "model_module": "@jupyter-widgets/base",
      "model_module_version": "1.0.0",
      "model_name": "LayoutModel",
      "state": {}
     },
     "461af5a286e6410a8952f52feffcce5e": {
      "model_module": "@jupyter-widgets/base",
      "model_module_version": "1.0.0",
      "model_name": "LayoutModel",
      "state": {}
     },
     "461feae3f33f4b49ac929c5239195711": {
      "model_module": "@jupyter-widgets/controls",
      "model_module_version": "1.0.0",
      "model_name": "DescriptionStyleModel",
      "state": {
       "description_width": ""
      }
     },
     "4647236384904ddc901521a35ef429c6": {
      "model_module": "@jupyter-widgets/base",
      "model_module_version": "1.0.0",
      "model_name": "LayoutModel",
      "state": {}
     },
     "46892fe2c67248c3a647922c5b2aa5c8": {
      "model_module": "@jupyter-widgets/base",
      "model_module_version": "1.0.0",
      "model_name": "LayoutModel",
      "state": {}
     },
     "46e4bd9a18ae4fd68004cabf711a6ec7": {
      "model_module": "@jupyter-widgets/controls",
      "model_module_version": "1.0.0",
      "model_name": "VBoxModel",
      "state": {
       "children": [
        "IPY_MODEL_2ae7885813c64ffba75dfca26f795e1b",
        "IPY_MODEL_927b7ebd5baa4ad7beb3b927d9d65c79"
       ],
       "layout": "IPY_MODEL_6e097c8d27a74bf9b6a4e80ae3cf28bc"
      }
     },
     "470b1911fb0442fbb2a03e0fc485d428": {
      "model_module": "@jupyter-widgets/base",
      "model_module_version": "1.0.0",
      "model_name": "LayoutModel",
      "state": {}
     },
     "4769d99a2bac487884c4d535edaf8003": {
      "model_module": "@jupyter-widgets/base",
      "model_module_version": "1.0.0",
      "model_name": "LayoutModel",
      "state": {}
     },
     "4787d2e963d84cf1bce8a4beeb1d33de": {
      "model_module": "jp_proxy_widget",
      "model_module_version": "^0.3.4",
      "model_name": "JSProxyModel",
      "state": {
       "_model_module_version": "^0.3.4",
       "_send_counter": 2,
       "_view_module_version": "^0.3.4",
       "error_msg": "No error",
       "layout": "IPY_MODEL_9282e8158d484b15b26a8cd13ab9ea53",
       "rendered": true,
       "status": "Got results."
      }
     },
     "47df2905df724105bcb13017459f1b56": {
      "model_module": "@jupyter-widgets/base",
      "model_module_version": "1.0.0",
      "model_name": "LayoutModel",
      "state": {}
     },
     "47fc6b9f733d461189b0219a41bc2492": {
      "model_module": "@jupyter-widgets/base",
      "model_module_version": "1.0.0",
      "model_name": "LayoutModel",
      "state": {}
     },
     "4843b5569613443e975d023ba4006f05": {
      "model_module": "jp_proxy_widget",
      "model_module_version": "^0.3.4",
      "model_name": "JSProxyModel",
      "state": {
       "_model_module_version": "^0.3.4",
       "_send_counter": 15,
       "_view_module_version": "^0.3.4",
       "error_msg": "No error",
       "layout": "IPY_MODEL_b087868854fc41378bc9fa5704006b67",
       "rendered": true,
       "status": "Got results."
      }
     },
     "4a23ca081ef54d8baee5a4897b6917c4": {
      "model_module": "@jupyter-widgets/controls",
      "model_module_version": "1.0.0",
      "model_name": "TabModel",
      "state": {
       "_titles": {
        "0": "Canvas",
        "1": "Snapshot"
       },
       "children": [
        "IPY_MODEL_32ecbe2bddff4a7683fde01608e37a01",
        "IPY_MODEL_79982f60c2474d93882abcc41d6c568c"
       ],
       "layout": "IPY_MODEL_93cf5e1a2c544ae5b6c3fdeba55867ac"
      }
     },
     "4a35703ab89c4862a8bf12de65940de9": {
      "model_module": "jp_proxy_widget",
      "model_module_version": "^0.3.4",
      "model_name": "JSProxyModel",
      "state": {
       "_model_module_version": "^0.3.4",
       "_send_counter": 2,
       "_view_module_version": "^0.3.4",
       "error_msg": "No error",
       "layout": "IPY_MODEL_35cbf6da19a34116b85a694176ab6197",
       "rendered": true,
       "status": "call back to <function callback_function at 0x110476758>"
      }
     },
     "4b370126e4134434b0f2c85905b9e6d7": {
      "model_module": "@jupyter-widgets/controls",
      "model_module_version": "1.0.0",
      "model_name": "VBoxModel",
      "state": {
       "children": [
        "IPY_MODEL_dabf8c7a2ddf4917a4a8f6322df62a5b",
        "IPY_MODEL_17e1a5d64aef468384468044c76bd2ba"
       ],
       "layout": "IPY_MODEL_3e3d15f9494d4d53b516a29d243baebf"
      }
     },
     "4baed54bb8f9488ba3b8743da169315f": {
      "model_module": "@jupyter-widgets/controls",
      "model_module_version": "1.0.0",
      "model_name": "DescriptionStyleModel",
      "state": {
       "description_width": ""
      }
     },
     "4bb3f68a7c814b6984a9c401c37129dc": {
      "model_module": "@jupyter-widgets/base",
      "model_module_version": "1.0.0",
      "model_name": "LayoutModel",
      "state": {}
     },
     "4c097f1d1bf343c7bbbedb8afa65e898": {
      "model_module": "jp_proxy_widget",
      "model_module_version": "^0.3.4",
      "model_name": "JSProxyModel",
      "state": {
       "_model_module_version": "^0.3.4",
       "_send_counter": 8,
       "_view_module_version": "^0.3.4",
       "error_msg": "No error",
       "layout": "IPY_MODEL_d29806569d9f4decb4e4e7debe8bd51d",
       "rendered": true,
       "status": "Got results."
      }
     },
     "4c312ae51c90496fb551dd01383b3deb": {
      "model_module": "@jupyter-widgets/controls",
      "model_module_version": "1.0.0",
      "model_name": "VBoxModel",
      "state": {
       "children": [
        "IPY_MODEL_d609a338edf045ea9c7ec611da2c6f9e",
        "IPY_MODEL_8d9dd743643f4ee59a5028573d3c44b0"
       ],
       "layout": "IPY_MODEL_cd54d7e9daf64821bea86abd52032639"
      }
     },
     "4c599d4a38ea4c52a04dbaf34797577a": {
      "model_module": "@jupyter-widgets/controls",
      "model_module_version": "1.0.0",
      "model_name": "TabModel",
      "state": {
       "_titles": {
        "0": "Canvas",
        "1": "Snapshot"
       },
       "children": [
        "IPY_MODEL_3f5f3e97c4b34942a00bb3f5cdc712e8",
        "IPY_MODEL_abd74704053f44c5aec3eacf86b3df64"
       ],
       "layout": "IPY_MODEL_d9e420e449834d3290d70b90152cddea"
      }
     },
     "4ca799ca954a43dda221a42b5d67c1e9": {
      "model_module": "@jupyter-widgets/base",
      "model_module_version": "1.0.0",
      "model_name": "LayoutModel",
      "state": {}
     },
     "4cbc60f164e74020a0b5952e3d4df616": {
      "model_module": "@jupyter-widgets/base",
      "model_module_version": "1.0.0",
      "model_name": "LayoutModel",
      "state": {}
     },
     "4d79e815947a432d91d21e6c7dd1126b": {
      "model_module": "@jupyter-widgets/base",
      "model_module_version": "1.0.0",
      "model_name": "LayoutModel",
      "state": {}
     },
     "4de97f38cadf4cd395fea44dcc72db01": {
      "model_module": "@jupyter-widgets/controls",
      "model_module_version": "1.0.0",
      "model_name": "HTMLModel",
      "state": {
       "layout": "IPY_MODEL_2269bef6b384469f9ac957bcd2066403",
       "style": "IPY_MODEL_0729675d94ee4357981943f5197b236c",
       "value": "<img src=\"color_chooser.png\" id=\"snapshot_id_1_1536671368668\"/>\n <div id=\"snapshot_id_2_1536671368668\">color_chooser.png</div>"
      }
     },
     "4e3602f579254ce5b984561bea099fdf": {
      "model_module": "@jupyter-widgets/base",
      "model_module_version": "1.0.0",
      "model_name": "LayoutModel",
      "state": {}
     },
     "4eab6a3a7d0042b68dcaf6e4a74a24af": {
      "model_module": "jp_proxy_widget",
      "model_module_version": "^0.3.4",
      "model_name": "JSProxyModel",
      "state": {
       "_model_module_version": "^0.3.4",
       "_send_counter": 2,
       "_view_module_version": "^0.3.4",
       "error_msg": "No error",
       "layout": "IPY_MODEL_fc1d1712064940a5af90afc0419db13a",
       "rendered": true,
       "status": "Got results."
      }
     },
     "4f60484781ad431ab19a092eb0089f89": {
      "model_module": "@jupyter-widgets/base",
      "model_module_version": "1.0.0",
      "model_name": "LayoutModel",
      "state": {}
     },
     "4f9f3fb9ec1c4e81b2d3376fcf607252": {
      "model_module": "@jupyter-widgets/controls",
      "model_module_version": "1.0.0",
      "model_name": "HTMLModel",
      "state": {
       "layout": "IPY_MODEL_6d33d5f660144b4c86b9290bcc7a93ea",
       "style": "IPY_MODEL_52b22868bb0b41cead77ef31fcdaa39c",
       "value": "<img src=\"color_chooser.png\" id=\"snapshot_id_1_1536694610111\"/>\n <div id=\"snapshot_id_2_1536694610111\">color_chooser.png</div>"
      }
     },
     "4fd5f9ae76b941ad89a22f036beb5e7e": {
      "model_module": "@jupyter-widgets/controls",
      "model_module_version": "1.0.0",
      "model_name": "TabModel",
      "state": {
       "_titles": {
        "0": "Canvas",
        "1": "Snapshot"
       },
       "children": [
        "IPY_MODEL_57c19bb351eb403e9c9a76ec70f46406",
        "IPY_MODEL_0e17e34b4e9b454387cee344eb352203"
       ],
       "layout": "IPY_MODEL_f4b3aa0ba8f14afab69bde6d57b49eed"
      }
     },
     "4ff468de04984acd8f7e69cbc12273ba": {
      "model_module": "jp_proxy_widget",
      "model_module_version": "^0.3.4",
      "model_name": "JSProxyModel",
      "state": {
       "_model_module_version": "^0.3.4",
       "_send_counter": 2,
       "_view_module_version": "^0.3.4",
       "error_msg": "No error",
       "layout": "IPY_MODEL_2fa73b32b4c24cd390a775da20d915c0",
       "rendered": true,
       "status": "Got results."
      }
     },
     "4ffd646e06514653a457ef43d3cf959a": {
      "model_module": "@jupyter-widgets/controls",
      "model_module_version": "1.0.0",
      "model_name": "TabModel",
      "state": {
       "_titles": {
        "0": "Canvas",
        "1": "Snapshot"
       },
       "children": [
        "IPY_MODEL_0cddbbf48d364058b89108b4f784924b",
        "IPY_MODEL_ac36c299b7a743e3902d6fd460767db8"
       ],
       "layout": "IPY_MODEL_aef57cec0c2d48f489a6530b6d0c80aa"
      }
     },
     "505544df69f742d49af7bb7d08779752": {
      "model_module": "jp_proxy_widget",
      "model_module_version": "^0.3.4",
      "model_name": "JSProxyModel",
      "state": {
       "_model_module_version": "^0.3.4",
       "_send_counter": 2,
       "_view_module_version": "^0.3.4",
       "error_msg": "No error",
       "layout": "IPY_MODEL_692b56f0c45d42eb88879e49d5dd8a3f",
       "rendered": true,
       "status": "Got results."
      }
     },
     "50d9da12eee74efab1730354afeb8a87": {
      "model_module": "@jupyter-widgets/base",
      "model_module_version": "1.0.0",
      "model_name": "LayoutModel",
      "state": {}
     },
     "50e11ff091ca40c096aa15b07b01d0e5": {
      "model_module": "@jupyter-widgets/base",
      "model_module_version": "1.0.0",
      "model_name": "LayoutModel",
      "state": {}
     },
     "5105d21848b945789ca61fb9d5bfcfa0": {
      "model_module": "jp_proxy_widget",
      "model_module_version": "^0.3.4",
      "model_name": "JSProxyModel",
      "state": {
       "_model_module_version": "^0.3.4",
       "_send_counter": 2,
       "_view_module_version": "^0.3.4",
       "error_msg": "No error",
       "layout": "IPY_MODEL_ec03d000db0842549331f2c056aa767b",
       "rendered": true,
       "status": "Got results."
      }
     },
     "511b4df50a2648fab7b445dadf99d65b": {
      "model_module": "@jupyter-widgets/base",
      "model_module_version": "1.0.0",
      "model_name": "LayoutModel",
      "state": {}
     },
     "51f907ed0ecf47139196d50ac38a5d6d": {
      "model_module": "@jupyter-widgets/controls",
      "model_module_version": "1.0.0",
      "model_name": "HTMLModel",
      "state": {
       "layout": "IPY_MODEL_8d079db46db648d7a9987f056a5de04b",
       "style": "IPY_MODEL_1c47d23168b54a9eacc477bb35a9c674",
       "value": "<img src=\"color_chooser2.png\" id=\"snapshot_id_17_1536695810481\"/>\n <div id=\"snapshot_id_18_1536695810481\">color_chooser2.png</div>"
      }
     },
     "5229eadb0c3c45e38da1a341b226e2b2": {
      "model_module": "jp_proxy_widget",
      "model_module_version": "^0.3.4",
      "model_name": "JSProxyModel",
      "state": {
       "_model_module_version": "^0.3.4",
       "_send_counter": 2,
       "_view_module_version": "^0.3.4",
       "error_msg": "No error",
       "layout": "IPY_MODEL_c5588548cfb7424b8a12f1f1b90153dd",
       "rendered": true,
       "status": "Got results."
      }
     },
     "524c00b5674d4678845ba1c66e779fd7": {
      "model_module": "@jupyter-widgets/controls",
      "model_module_version": "1.0.0",
      "model_name": "HTMLModel",
      "state": {
       "layout": "IPY_MODEL_701a6ba95f39454187d94536dc8d36b4",
       "style": "IPY_MODEL_4baed54bb8f9488ba3b8743da169315f",
       "value": "<img src=\"rotated_spider.png\" id=\"snapshot_id_1_1536351796002\"/>\n <div id=\"snapshot_id_2_1536351796002\">rotated_spider.png</div>"
      }
     },
     "52b22868bb0b41cead77ef31fcdaa39c": {
      "model_module": "@jupyter-widgets/controls",
      "model_module_version": "1.0.0",
      "model_name": "DescriptionStyleModel",
      "state": {
       "description_width": ""
      }
     },
     "52dea10547ed41d2bb411ce59c787b53": {
      "model_module": "@jupyter-widgets/base",
      "model_module_version": "1.0.0",
      "model_name": "LayoutModel",
      "state": {}
     },
     "52f7dad9490346c2a500617c015f0cb9": {
      "model_module": "@jupyter-widgets/base",
      "model_module_version": "1.0.0",
      "model_name": "LayoutModel",
      "state": {}
     },
     "531ec3d801d344358401fcdab298902d": {
      "model_module": "@jupyter-widgets/controls",
      "model_module_version": "1.0.0",
      "model_name": "DescriptionStyleModel",
      "state": {
       "description_width": ""
      }
     },
     "5388f0f3d7ff45e4884e875be809e7a3": {
      "model_module": "@jupyter-widgets/controls",
      "model_module_version": "1.0.0",
      "model_name": "VBoxModel",
      "state": {
       "children": [
        "IPY_MODEL_5a5c946e40f54f62b8e6ab2a04d7883e",
        "IPY_MODEL_817b02d8a04e45cfa4b803e501f9d219"
       ],
       "layout": "IPY_MODEL_57cd144065f749ba9658d13769c2a96e"
      }
     },
     "53faeb3d15e04285be19ae1ebe0c2a1e": {
      "model_module": "@jupyter-widgets/base",
      "model_module_version": "1.0.0",
      "model_name": "LayoutModel",
      "state": {}
     },
     "540ca346392b4e138752cb58929b8e88": {
      "model_module": "jp_proxy_widget",
      "model_module_version": "^0.3.4",
      "model_name": "JSProxyModel",
      "state": {
       "_model_module_version": "^0.3.4",
       "_send_counter": 2,
       "_view_module_version": "^0.3.4",
       "error_msg": "No error",
       "layout": "IPY_MODEL_91a9e87375334563a3a10d1ce6a0dad9",
       "rendered": true,
       "status": "Got results."
      }
     },
     "54710c64943341e6968949e5c2b5c0cb": {
      "model_module": "@jupyter-widgets/base",
      "model_module_version": "1.0.0",
      "model_name": "LayoutModel",
      "state": {}
     },
     "547ab40d9c4243a7a9aed36d7138160f": {
      "model_module": "@jupyter-widgets/base",
      "model_module_version": "1.0.0",
      "model_name": "LayoutModel",
      "state": {}
     },
     "54be8e8472fb4e168cb1007976beff20": {
      "model_module": "@jupyter-widgets/base",
      "model_module_version": "1.0.0",
      "model_name": "LayoutModel",
      "state": {}
     },
     "5548ae9952e54d9e83f8cc5db00585eb": {
      "model_module": "@jupyter-widgets/base",
      "model_module_version": "1.0.0",
      "model_name": "LayoutModel",
      "state": {}
     },
     "55be6f308ad7435b8222eb2435edfb13": {
      "model_module": "@jupyter-widgets/controls",
      "model_module_version": "1.0.0",
      "model_name": "TabModel",
      "state": {
       "_titles": {
        "0": "Canvas",
        "1": "Snapshot"
       },
       "children": [
        "IPY_MODEL_3d4b8f16fb334816afbe2afac0fee81b",
        "IPY_MODEL_a0428aa777114c2895131c3d5a241baa"
       ],
       "layout": "IPY_MODEL_52dea10547ed41d2bb411ce59c787b53"
      }
     },
     "561d4e9f6b074bceabc0f04138b9fe87": {
      "model_module": "@jupyter-widgets/controls",
      "model_module_version": "1.0.0",
      "model_name": "HTMLModel",
      "state": {
       "layout": "IPY_MODEL_975336ca40b54947a9835bf91da9f569",
       "style": "IPY_MODEL_c9e60a8645b349f1937b23cdf28e8f44",
       "value": "<img src=\"color_chooser.png\" id=\"snapshot_id_24_1536689262141\"/>\n <div id=\"snapshot_id_25_1536689262141\">color_chooser.png</div>"
      }
     },
     "5629631ee78e4573b1c0bd60642c1920": {
      "model_module": "jp_proxy_widget",
      "model_module_version": "^0.3.4",
      "model_name": "JSProxyModel",
      "state": {
       "_model_module_version": "^0.3.4",
       "_send_counter": 2,
       "_view_module_version": "^0.3.4",
       "error_msg": "No error",
       "layout": "IPY_MODEL_4ca799ca954a43dda221a42b5d67c1e9",
       "rendered": true,
       "status": "Got results."
      }
     },
     "563d005a106345088b236a8e202a165f": {
      "model_module": "@jupyter-widgets/base",
      "model_module_version": "1.0.0",
      "model_name": "LayoutModel",
      "state": {}
     },
     "565dc06ded2347f69213560f6879d9fe": {
      "model_module": "@jupyter-widgets/base",
      "model_module_version": "1.0.0",
      "model_name": "LayoutModel",
      "state": {}
     },
     "56c651bd589f4a6ea136b2b240bfc55a": {
      "model_module": "@jupyter-widgets/base",
      "model_module_version": "1.0.0",
      "model_name": "LayoutModel",
      "state": {}
     },
     "5714804a845245049856d47f942ba2d6": {
      "model_module": "@jupyter-widgets/base",
      "model_module_version": "1.0.0",
      "model_name": "LayoutModel",
      "state": {}
     },
     "573a4520b76644ada5c95ff2d35236fd": {
      "model_module": "@jupyter-widgets/base",
      "model_module_version": "1.0.0",
      "model_name": "LayoutModel",
      "state": {}
     },
     "5783dfd9cf364e9cb285636cd5460ff6": {
      "model_module": "@jupyter-widgets/base",
      "model_module_version": "1.0.0",
      "model_name": "LayoutModel",
      "state": {}
     },
     "579d5977d9a1451e8b4b265ae0507f39": {
      "model_module": "@jupyter-widgets/base",
      "model_module_version": "1.0.0",
      "model_name": "LayoutModel",
      "state": {}
     },
     "57c19bb351eb403e9c9a76ec70f46406": {
      "model_module": "@jupyter-widgets/controls",
      "model_module_version": "1.0.0",
      "model_name": "VBoxModel",
      "state": {
       "children": [
        "IPY_MODEL_68a785113af84ebabfcc43d49662859f",
        "IPY_MODEL_a7ca3ff2a50148b2b88c0c53a64cac84"
       ],
       "layout": "IPY_MODEL_e24e8faaf7204804a3e845af97bd8165"
      }
     },
     "57cd144065f749ba9658d13769c2a96e": {
      "model_module": "@jupyter-widgets/base",
      "model_module_version": "1.0.0",
      "model_name": "LayoutModel",
      "state": {}
     },
     "57f43f6b85c34b85a376573e7c7c9290": {
      "model_module": "@jupyter-widgets/base",
      "model_module_version": "1.0.0",
      "model_name": "LayoutModel",
      "state": {}
     },
     "581ecf77ca884258b84fb4761dc9622b": {
      "model_module": "@jupyter-widgets/base",
      "model_module_version": "1.0.0",
      "model_name": "LayoutModel",
      "state": {}
     },
     "5860dda18773485a8957216021437c18": {
      "model_module": "@jupyter-widgets/base",
      "model_module_version": "1.0.0",
      "model_name": "LayoutModel",
      "state": {}
     },
     "58679e84e07346adaf5e501aa657b896": {
      "model_module": "jp_proxy_widget",
      "model_module_version": "^0.3.4",
      "model_name": "JSProxyModel",
      "state": {
       "_model_module_version": "^0.3.4",
       "_send_counter": 2,
       "_view_module_version": "^0.3.4",
       "error_msg": "No error",
       "layout": "IPY_MODEL_8757e4a67c814a68932d395e48129930",
       "rendered": true,
       "status": "Got results."
      }
     },
     "5901bba23899401f8ac4e41313943b68": {
      "model_module": "@jupyter-widgets/controls",
      "model_module_version": "1.0.0",
      "model_name": "TabModel",
      "state": {
       "_titles": {
        "0": "Canvas",
        "1": "Snapshot"
       },
       "children": [
        "IPY_MODEL_2ca5edf8310947e98eed14b05c97c063",
        "IPY_MODEL_e15d043574664545bb1a9ee7c7f525cc"
       ],
       "layout": "IPY_MODEL_f799a6509d6d46118eddd02369ae24a9"
      }
     },
     "59fb85c73dcd4de290cc9b5b3fd3f13f": {
      "model_module": "@jupyter-widgets/controls",
      "model_module_version": "1.0.0",
      "model_name": "VBoxModel",
      "state": {
       "children": [
        "IPY_MODEL_dfc4f9888b3a48e19f48ca4c478f77d3",
        "IPY_MODEL_7f96f2656d1a4672853f88e59afda781"
       ],
       "layout": "IPY_MODEL_afc3b076465f4f99b56898d51007294b"
      }
     },
     "5a16e25eced045f5be0130637607811c": {
      "model_module": "@jupyter-widgets/base",
      "model_module_version": "1.0.0",
      "model_name": "LayoutModel",
      "state": {}
     },
     "5a2cbaf79ecb4bf096546d32c3089f35": {
      "model_module": "@jupyter-widgets/controls",
      "model_module_version": "1.0.0",
      "model_name": "DescriptionStyleModel",
      "state": {
       "description_width": ""
      }
     },
     "5a307b9939054b8bb6ba1193345985cc": {
      "model_module": "@jupyter-widgets/controls",
      "model_module_version": "1.0.0",
      "model_name": "DescriptionStyleModel",
      "state": {
       "description_width": ""
      }
     },
     "5a5c946e40f54f62b8e6ab2a04d7883e": {
      "model_module": "jp_proxy_widget",
      "model_module_version": "^0.3.4",
      "model_name": "JSProxyModel",
      "state": {
       "_model_module_version": "^0.3.4",
       "_send_counter": 10,
       "_view_module_version": "^0.3.4",
       "error_msg": "No error",
       "layout": "IPY_MODEL_8e4c7c893f0d4b0fa193899993f75684",
       "rendered": true,
       "status": "Got results."
      }
     },
     "5ac0fa504e1f47ab8801dce164de2067": {
      "model_module": "@jupyter-widgets/base",
      "model_module_version": "1.0.0",
      "model_name": "LayoutModel",
      "state": {}
     },
     "5afd7b02dcf54ee49dfcd704df5493f6": {
      "model_module": "@jupyter-widgets/controls",
      "model_module_version": "1.0.0",
      "model_name": "VBoxModel",
      "state": {
       "children": [
        "IPY_MODEL_e249d6717e75416aba162914e8cedb11",
        "IPY_MODEL_4a35703ab89c4862a8bf12de65940de9"
       ],
       "layout": "IPY_MODEL_f26657c046ee4afcb27a707871ce4ecc"
      }
     },
     "5b1f78eb99b34ba1890ad662bf62a42a": {
      "model_module": "@jupyter-widgets/controls",
      "model_module_version": "1.0.0",
      "model_name": "DescriptionStyleModel",
      "state": {
       "description_width": ""
      }
     },
     "5bce6da6a55e4bed81b1c511dbcc2c1d": {
      "model_module": "@jupyter-widgets/base",
      "model_module_version": "1.0.0",
      "model_name": "LayoutModel",
      "state": {}
     },
     "5c3a3480f62140e390a3552e45763895": {
      "model_module": "@jupyter-widgets/base",
      "model_module_version": "1.0.0",
      "model_name": "LayoutModel",
      "state": {}
     },
     "5c771a1b62374fb2a4ce22a22b3cb142": {
      "model_module": "@jupyter-widgets/base",
      "model_module_version": "1.0.0",
      "model_name": "LayoutModel",
      "state": {}
     },
     "5ca5f5ef4ea14b3bb4f9b6b7f9a4b8c2": {
      "model_module": "@jupyter-widgets/base",
      "model_module_version": "1.0.0",
      "model_name": "LayoutModel",
      "state": {}
     },
     "5ca62e23191542e5b0dbc2ce23901136": {
      "model_module": "jp_proxy_widget",
      "model_module_version": "^0.3.4",
      "model_name": "JSProxyModel",
      "state": {
       "_model_module_version": "^0.3.4",
       "_send_counter": 2,
       "_view_module_version": "^0.3.4",
       "error_msg": "No error",
       "layout": "IPY_MODEL_4769d99a2bac487884c4d535edaf8003",
       "rendered": true,
       "status": "Got results."
      }
     },
     "5ca84fafd6454696b5f1e51b42686833": {
      "model_module": "jp_proxy_widget",
      "model_module_version": "^0.3.4",
      "model_name": "JSProxyModel",
      "state": {
       "_model_module_version": "^0.3.4",
       "_send_counter": 8,
       "_view_module_version": "^0.3.4",
       "error_msg": "No error",
       "layout": "IPY_MODEL_87939bf657764bc88fed751438384194",
       "rendered": true,
       "status": "Got results."
      }
     },
     "5cd5ba0e6a92452da97ff1e26fff870c": {
      "model_module": "@jupyter-widgets/controls",
      "model_module_version": "1.0.0",
      "model_name": "TabModel",
      "state": {
       "_titles": {
        "0": "Canvas",
        "1": "Snapshot"
       },
       "children": [
        "IPY_MODEL_be9cdd62f4444039b59cf91384521c79",
        "IPY_MODEL_29c9a6ba8be540ba9f7301ff6b95d284"
       ],
       "layout": "IPY_MODEL_b9f7589003244b92805fd35afb2fd08f"
      }
     },
     "5d3070a274d243c1995b1ed3f9c47161": {
      "model_module": "@jupyter-widgets/controls",
      "model_module_version": "1.0.0",
      "model_name": "TabModel",
      "state": {
       "_titles": {
        "0": "Canvas",
        "1": "Snapshot"
       },
       "children": [
        "IPY_MODEL_05d6c7ee3b434955b4a7c392706904d8",
        "IPY_MODEL_4de97f38cadf4cd395fea44dcc72db01"
       ],
       "layout": "IPY_MODEL_87523c83f43144a68c1f05e2cf6257bf"
      }
     },
     "5d4b6d817e3a4b118239731e4dd1647c": {
      "model_module": "@jupyter-widgets/base",
      "model_module_version": "1.0.0",
      "model_name": "LayoutModel",
      "state": {}
     },
     "5d8aa3ffa01d4e97b5a04af7ad31671a": {
      "model_module": "@jupyter-widgets/base",
      "model_module_version": "1.0.0",
      "model_name": "LayoutModel",
      "state": {}
     },
     "5da596b07640400eb903eeb39ebe40df": {
      "model_module": "@jupyter-widgets/controls",
      "model_module_version": "1.0.0",
      "model_name": "DescriptionStyleModel",
      "state": {
       "description_width": ""
      }
     },
     "5e37c8f1e1fc43ce899d4d36a7d76318": {
      "model_module": "@jupyter-widgets/controls",
      "model_module_version": "1.0.0",
      "model_name": "TabModel",
      "state": {
       "_titles": {
        "0": "Canvas",
        "1": "Snapshot"
       },
       "children": [
        "IPY_MODEL_cc0bdb3b860b49a79d38841f48211131",
        "IPY_MODEL_aa919bd0bec54e2ebfdc43ef455ca46c"
       ],
       "layout": "IPY_MODEL_573a4520b76644ada5c95ff2d35236fd"
      }
     },
     "5e3ffd53471d4204b8176407abff7d34": {
      "model_module": "@jupyter-widgets/controls",
      "model_module_version": "1.0.0",
      "model_name": "VBoxModel",
      "state": {
       "children": [
        "IPY_MODEL_404af97b074f4048a7881d4c28eadf1e",
        "IPY_MODEL_8de5fd96744b4de297509c2d3e119452"
       ],
       "layout": "IPY_MODEL_25f099b9345e47ff833d5a21697d78ec"
      }
     },
     "5eb1d19a899a49c0870833510157ab14": {
      "model_module": "@jupyter-widgets/base",
      "model_module_version": "1.0.0",
      "model_name": "LayoutModel",
      "state": {}
     },
     "5ebf43c7f6d540e8bd0c9672b25fadbe": {
      "model_module": "@jupyter-widgets/controls",
      "model_module_version": "1.0.0",
      "model_name": "HTMLModel",
      "state": {
       "layout": "IPY_MODEL_9aa72e267a9c454798e5269f69daacd5",
       "style": "IPY_MODEL_6a4a9a22bb6e4394ab22315af1af6335",
       "value": "<img src=\"color_chooser.png\" id=\"snapshot_id_7_1536682928309\"/>\n <div id=\"snapshot_id_8_1536682928309\">color_chooser.png</div>"
      }
     },
     "5f0466451ff74bfaa4893894c66da884": {
      "model_module": "@jupyter-widgets/controls",
      "model_module_version": "1.0.0",
      "model_name": "HTMLModel",
      "state": {
       "layout": "IPY_MODEL_547ab40d9c4243a7a9aed36d7138160f",
       "style": "IPY_MODEL_ac1deeb80767492283edb27e671db151",
       "value": "<img src=\"color_chooser.png\" id=\"snapshot_id_3_1536674302612\"/>\n <div id=\"snapshot_id_4_1536674302612\">color_chooser.png</div>"
      }
     },
     "5f0b3851db794afb98176ceab9ae61e5": {
      "model_module": "jp_proxy_widget",
      "model_module_version": "^0.3.4",
      "model_name": "JSProxyModel",
      "state": {
       "_model_module_version": "^0.3.4",
       "_send_counter": 2,
       "_view_module_version": "^0.3.4",
       "error_msg": "No error",
       "layout": "IPY_MODEL_45e62137330b44caa4ca4147b4799193",
       "rendered": true,
       "status": "Got results."
      }
     },
     "5f1c772836a44c3ca0732b7f1fd30eb1": {
      "model_module": "@jupyter-widgets/controls",
      "model_module_version": "1.0.0",
      "model_name": "DescriptionStyleModel",
      "state": {
       "description_width": ""
      }
     },
     "5f38a44075854eb1bbc1d8b44dbeb184": {
      "model_module": "@jupyter-widgets/controls",
      "model_module_version": "1.0.0",
      "model_name": "TabModel",
      "state": {
       "_titles": {
        "0": "Canvas",
        "1": "Snapshot"
       },
       "children": [
        "IPY_MODEL_4c312ae51c90496fb551dd01383b3deb",
        "IPY_MODEL_1e6755896848445085c3df5434262ef9"
       ],
       "layout": "IPY_MODEL_62262b9981d441a58253dab3af5975dd"
      }
     },
     "5f431c0425204fb398d904147ba6ae51": {
      "model_module": "@jupyter-widgets/base",
      "model_module_version": "1.0.0",
      "model_name": "LayoutModel",
      "state": {}
     },
     "6097fb4cd51a4d2582f4ac1513ce08fb": {
      "model_module": "@jupyter-widgets/base",
      "model_module_version": "1.0.0",
      "model_name": "LayoutModel",
      "state": {}
     },
     "613253512dce4c5a9693babb7859d99e": {
      "model_module": "@jupyter-widgets/base",
      "model_module_version": "1.0.0",
      "model_name": "LayoutModel",
      "state": {}
     },
     "616578981d194f5785a25a4accb70162": {
      "model_module": "jp_proxy_widget",
      "model_module_version": "^0.3.4",
      "model_name": "JSProxyModel",
      "state": {
       "_model_module_version": "^0.3.4",
       "_send_counter": 2,
       "_view_module_version": "^0.3.4",
       "error_msg": "No error",
       "layout": "IPY_MODEL_16e937a6174341e2be89b2dec34330c9",
       "rendered": true,
       "status": "Got results."
      }
     },
     "61695cbd195b4d008f7b09f0f1513e5e": {
      "model_module": "@jupyter-widgets/controls",
      "model_module_version": "1.0.0",
      "model_name": "VBoxModel",
      "state": {
       "children": [
        "IPY_MODEL_8d007ec01be34b008747121adbfe3dcd",
        "IPY_MODEL_1095fa99b0e942e797e4c605553dc3d6"
       ],
       "layout": "IPY_MODEL_d39f5a91469843cd90685d51e1517a1c"
      }
     },
     "61a2de8acf66471fbf10818d66af5a25": {
      "model_module": "@jupyter-widgets/controls",
      "model_module_version": "1.0.0",
      "model_name": "VBoxModel",
      "state": {
       "children": [
        "IPY_MODEL_c618a48fd7ce4542a5986410b737d0f3",
        "IPY_MODEL_5229eadb0c3c45e38da1a341b226e2b2"
       ],
       "layout": "IPY_MODEL_b953c1263ca64ca1becf90290fea3a64"
      }
     },
     "61c6e9f081ce4450bcffbeb7965a254d": {
      "model_module": "@jupyter-widgets/controls",
      "model_module_version": "1.0.0",
      "model_name": "VBoxModel",
      "state": {
       "children": [
        "IPY_MODEL_9a9cf2d51c8c4058b089deeb934acfd0",
        "IPY_MODEL_8c476fc8a10148129f05658077853217"
       ],
       "layout": "IPY_MODEL_689c7d1718674549b21af017637f4f8e"
      }
     },
     "61e90f7c58014832a5d0522e87678d52": {
      "model_module": "@jupyter-widgets/base",
      "model_module_version": "1.0.0",
      "model_name": "LayoutModel",
      "state": {}
     },
     "61ee58fd08ae46c598203168a4429d71": {
      "model_module": "@jupyter-widgets/controls",
      "model_module_version": "1.0.0",
      "model_name": "DescriptionStyleModel",
      "state": {
       "description_width": ""
      }
     },
     "62262b9981d441a58253dab3af5975dd": {
      "model_module": "@jupyter-widgets/base",
      "model_module_version": "1.0.0",
      "model_name": "LayoutModel",
      "state": {}
     },
     "62411be87dc649599bdcae7b1597847f": {
      "model_module": "@jupyter-widgets/base",
      "model_module_version": "1.0.0",
      "model_name": "LayoutModel",
      "state": {}
     },
     "6289f69e858a45148e63408736fbde13": {
      "model_module": "@jupyter-widgets/controls",
      "model_module_version": "1.0.0",
      "model_name": "VBoxModel",
      "state": {
       "children": [
        "IPY_MODEL_96d9bb98ed20488690324966a21bb59d",
        "IPY_MODEL_bb52320e64994aa987cf4317cce3cc38"
       ],
       "layout": "IPY_MODEL_37baf011c32f4838be30ee458bd127a5"
      }
     },
     "63714162749147ec91ca5120c5d3988f": {
      "model_module": "@jupyter-widgets/base",
      "model_module_version": "1.0.0",
      "model_name": "LayoutModel",
      "state": {}
     },
     "637a9edbedb54a62b999bb838a7cb9ff": {
      "model_module": "@jupyter-widgets/base",
      "model_module_version": "1.0.0",
      "model_name": "LayoutModel",
      "state": {}
     },
     "63dab0c05634477ca48884d3abc99f61": {
      "model_module": "@jupyter-widgets/base",
      "model_module_version": "1.0.0",
      "model_name": "LayoutModel",
      "state": {}
     },
     "650eb6ed717548e29bf744ca0998e2fc": {
      "model_module": "jp_proxy_widget",
      "model_module_version": "^0.3.4",
      "model_name": "JSProxyModel",
      "state": {
       "_model_module_version": "^0.3.4",
       "_send_counter": 2,
       "_view_module_version": "^0.3.4",
       "error_msg": "No error",
       "layout": "IPY_MODEL_d2d4126dfe7a42f4a8ac70930a2bc9a8",
       "rendered": true,
       "status": "Got results."
      }
     },
     "650f356ff2614c609e97a849bc760c5b": {
      "model_module": "@jupyter-widgets/base",
      "model_module_version": "1.0.0",
      "model_name": "LayoutModel",
      "state": {}
     },
     "65e7063d488f4a46a56286a245f06856": {
      "model_module": "@jupyter-widgets/base",
      "model_module_version": "1.0.0",
      "model_name": "LayoutModel",
      "state": {}
     },
     "65effd76c05e4d1198efb9368d27e97d": {
      "model_module": "@jupyter-widgets/controls",
      "model_module_version": "1.0.0",
      "model_name": "DescriptionStyleModel",
      "state": {
       "description_width": ""
      }
     },
     "65f0b1bedf1b4685b0849ec7d14a05ed": {
      "model_module": "@jupyter-widgets/controls",
      "model_module_version": "1.0.0",
      "model_name": "VBoxModel",
      "state": {
       "children": [
        "IPY_MODEL_7bd350f54bc94ffbb219f704bc776dc6",
        "IPY_MODEL_efc1eca58e3047c7a130183c3378d896"
       ],
       "layout": "IPY_MODEL_acfe884b601b4d1e8c9fa1cc22345a4e"
      }
     },
     "660e6aa3035e4e63be5b2f85ba226fed": {
      "model_module": "@jupyter-widgets/controls",
      "model_module_version": "1.0.0",
      "model_name": "TabModel",
      "state": {
       "_titles": {
        "0": "Canvas",
        "1": "Snapshot"
       },
       "children": [
        "IPY_MODEL_121418ba227e42b98927c0cb3dcb3dd9",
        "IPY_MODEL_8031f199b9e04c369c3001a2b630733e"
       ],
       "layout": "IPY_MODEL_7adaa61d83a34711ab85f9b78c354c8a"
      }
     },
     "66323be93d694e1b8873bfcc852ced6f": {
      "model_module": "@jupyter-widgets/base",
      "model_module_version": "1.0.0",
      "model_name": "LayoutModel",
      "state": {}
     },
     "67ab59099c264a35947c9d69de2a65f2": {
      "model_module": "jp_proxy_widget",
      "model_module_version": "^0.3.4",
      "model_name": "JSProxyModel",
      "state": {
       "_model_module_version": "^0.3.4",
       "_send_counter": 2,
       "_view_module_version": "^0.3.4",
       "error_msg": "No error",
       "layout": "IPY_MODEL_e972ae21dc5f4939a6a56678052ce56d",
       "rendered": true,
       "status": "Got results."
      }
     },
     "67e3ada84406430f8a0560e687e7406a": {
      "model_module": "@jupyter-widgets/controls",
      "model_module_version": "1.0.0",
      "model_name": "VBoxModel",
      "state": {
       "children": [
        "IPY_MODEL_e89eb20a3c6942ae8c67fee94969bdc0",
        "IPY_MODEL_a45412a3d2f74fd8962e12d3294acf44"
       ],
       "layout": "IPY_MODEL_a1d29d022b314ca3b2dc6f3be0b467f9"
      }
     },
     "6822f890db8842dcb0560186ac0ba358": {
      "model_module": "jp_proxy_widget",
      "model_module_version": "^0.3.4",
      "model_name": "JSProxyModel",
      "state": {
       "_model_module_version": "^0.3.4",
       "_send_counter": 15,
       "_view_module_version": "^0.3.4",
       "error_msg": "No error",
       "layout": "IPY_MODEL_84ce58b7c6cf457eb7da9cee421539f1",
       "rendered": true,
       "status": "Got results."
      }
     },
     "686f39798abf4e5ca35f2e33a63dc5b8": {
      "model_module": "@jupyter-widgets/base",
      "model_module_version": "1.0.0",
      "model_name": "LayoutModel",
      "state": {}
     },
     "689c7d1718674549b21af017637f4f8e": {
      "model_module": "@jupyter-widgets/base",
      "model_module_version": "1.0.0",
      "model_name": "LayoutModel",
      "state": {}
     },
     "68a785113af84ebabfcc43d49662859f": {
      "model_module": "jp_proxy_widget",
      "model_module_version": "^0.3.4",
      "model_name": "JSProxyModel",
      "state": {
       "_model_module_version": "^0.3.4",
       "_send_counter": 8,
       "_view_module_version": "^0.3.4",
       "error_msg": "No error",
       "layout": "IPY_MODEL_bb4e84af089249ca8492194ddd003beb",
       "rendered": true,
       "status": "Got results."
      }
     },
     "68fc617d6f7a482fba054f9027be6c3f": {
      "model_module": "@jupyter-widgets/base",
      "model_module_version": "1.0.0",
      "model_name": "LayoutModel",
      "state": {}
     },
     "69269427848b46ec8f3260e451fb82c2": {
      "model_module": "jp_proxy_widget",
      "model_module_version": "^0.3.4",
      "model_name": "JSProxyModel",
      "state": {
       "_model_module_version": "^0.3.4",
       "_send_counter": 8,
       "_view_module_version": "^0.3.4",
       "error_msg": "No error",
       "layout": "IPY_MODEL_9d3ee4770ff541b3923070f8bd2a8a95",
       "rendered": true,
       "status": "Got results."
      }
     },
     "692b56f0c45d42eb88879e49d5dd8a3f": {
      "model_module": "@jupyter-widgets/base",
      "model_module_version": "1.0.0",
      "model_name": "LayoutModel",
      "state": {}
     },
     "69cd362eba6d4d6aa91cc4eabf47d928": {
      "model_module": "@jupyter-widgets/base",
      "model_module_version": "1.0.0",
      "model_name": "LayoutModel",
      "state": {}
     },
     "6a4a9a22bb6e4394ab22315af1af6335": {
      "model_module": "@jupyter-widgets/controls",
      "model_module_version": "1.0.0",
      "model_name": "DescriptionStyleModel",
      "state": {
       "description_width": ""
      }
     },
     "6a794181847a44839420a595e8b49f66": {
      "model_module": "@jupyter-widgets/base",
      "model_module_version": "1.0.0",
      "model_name": "LayoutModel",
      "state": {}
     },
     "6aabdd6a7c234a30851989eb45d1dd52": {
      "model_module": "@jupyter-widgets/base",
      "model_module_version": "1.0.0",
      "model_name": "LayoutModel",
      "state": {}
     },
     "6b7d7599d07c45a48b4ea34a72bbb68f": {
      "model_module": "@jupyter-widgets/base",
      "model_module_version": "1.0.0",
      "model_name": "LayoutModel",
      "state": {}
     },
     "6b85303240a1481c98029001ce9b903d": {
      "model_module": "@jupyter-widgets/controls",
      "model_module_version": "1.0.0",
      "model_name": "TabModel",
      "state": {
       "_titles": {
        "0": "Canvas",
        "1": "Snapshot"
       },
       "children": [
        "IPY_MODEL_e4d4d93f58da48caa8d2f5e3d39599c4",
        "IPY_MODEL_91448d08ad224a2084d95b5b46a3069f"
       ],
       "layout": "IPY_MODEL_fe980fbf4e58484cbab9ff45e25dbadd"
      }
     },
     "6c1ac93dfd404938a20ea7861828cf3e": {
      "model_module": "@jupyter-widgets/base",
      "model_module_version": "1.0.0",
      "model_name": "LayoutModel",
      "state": {}
     },
     "6c9552b9714348038104eaf78cdba111": {
      "model_module": "@jupyter-widgets/base",
      "model_module_version": "1.0.0",
      "model_name": "LayoutModel",
      "state": {}
     },
     "6cd04ca3023a4c8ab7bf3d6554ed78ea": {
      "model_module": "@jupyter-widgets/controls",
      "model_module_version": "1.0.0",
      "model_name": "VBoxModel",
      "state": {
       "children": [
        "IPY_MODEL_24418e6cd43a4436aa84528a4ff014b2",
        "IPY_MODEL_650eb6ed717548e29bf744ca0998e2fc"
       ],
       "layout": "IPY_MODEL_470b1911fb0442fbb2a03e0fc485d428"
      }
     },
     "6cd1ba6772a54bc18db12831dffad7e9": {
      "model_module": "@jupyter-widgets/base",
      "model_module_version": "1.0.0",
      "model_name": "LayoutModel",
      "state": {}
     },
     "6d33d5f660144b4c86b9290bcc7a93ea": {
      "model_module": "@jupyter-widgets/base",
      "model_module_version": "1.0.0",
      "model_name": "LayoutModel",
      "state": {}
     },
     "6d604766adec4d8bbe83ec603f5edfa4": {
      "model_module": "@jupyter-widgets/controls",
      "model_module_version": "1.0.0",
      "model_name": "HTMLModel",
      "state": {
       "layout": "IPY_MODEL_2e6bdeff1010455e9e3556ee8f6a03db",
       "style": "IPY_MODEL_6d6615f53e384f1cb6e5f03382b8143c",
       "value": "<img src=\"color_chooser.png\" id=\"snapshot_id_3_1536692744414\"/>\n <div id=\"snapshot_id_4_1536692744414\">color_chooser.png</div>"
      }
     },
     "6d63271f9c6b441d9e9a631576360499": {
      "model_module": "jp_proxy_widget",
      "model_module_version": "^0.3.4",
      "model_name": "JSProxyModel",
      "state": {
       "_model_module_version": "^0.3.4",
       "_send_counter": 10,
       "_view_module_version": "^0.3.4",
       "error_msg": "No error",
       "layout": "IPY_MODEL_152b5e32c8b346d3ba77c00fc2e402e0",
       "rendered": true,
       "status": "Got results."
      }
     },
     "6d6615f53e384f1cb6e5f03382b8143c": {
      "model_module": "@jupyter-widgets/controls",
      "model_module_version": "1.0.0",
      "model_name": "DescriptionStyleModel",
      "state": {
       "description_width": ""
      }
     },
     "6d866f9ed5654911988c614284adecb6": {
      "model_module": "@jupyter-widgets/base",
      "model_module_version": "1.0.0",
      "model_name": "LayoutModel",
      "state": {}
     },
     "6dbc90a652e1428aafa262fc4a25e524": {
      "model_module": "@jupyter-widgets/base",
      "model_module_version": "1.0.0",
      "model_name": "LayoutModel",
      "state": {}
     },
     "6e097c8d27a74bf9b6a4e80ae3cf28bc": {
      "model_module": "@jupyter-widgets/base",
      "model_module_version": "1.0.0",
      "model_name": "LayoutModel",
      "state": {}
     },
     "6e40c7e8bf01426bbe123c0630f08cd0": {
      "model_module": "@jupyter-widgets/base",
      "model_module_version": "1.0.0",
      "model_name": "LayoutModel",
      "state": {}
     },
     "6f5777cb54374890a175b31b3ca72e65": {
      "model_module": "jp_proxy_widget",
      "model_module_version": "^0.3.4",
      "model_name": "JSProxyModel",
      "state": {
       "_model_module_version": "^0.3.4",
       "_send_counter": 2,
       "_view_module_version": "^0.3.4",
       "error_msg": "No error",
       "layout": "IPY_MODEL_8f5feb8439ed4afba6adf5e56223b8cd",
       "rendered": true,
       "status": "Got results."
      }
     },
     "6ff7f6d2a6b24489a6840d0fc1053896": {
      "model_module": "@jupyter-widgets/controls",
      "model_module_version": "1.0.0",
      "model_name": "TabModel",
      "state": {
       "_titles": {
        "0": "Canvas",
        "1": "Snapshot"
       },
       "children": [
        "IPY_MODEL_964b355059c6406d99b8784191621435",
        "IPY_MODEL_5f0466451ff74bfaa4893894c66da884"
       ],
       "layout": "IPY_MODEL_e577452df0b84c1fa03f141a6bc0742b"
      }
     },
     "701a6ba95f39454187d94536dc8d36b4": {
      "model_module": "@jupyter-widgets/base",
      "model_module_version": "1.0.0",
      "model_name": "LayoutModel",
      "state": {}
     },
     "7040000b7f074a0ebd836b792c313605": {
      "model_module": "@jupyter-widgets/controls",
      "model_module_version": "1.0.0",
      "model_name": "HTMLModel",
      "state": {
       "layout": "IPY_MODEL_206b1eef2cc54f01a8eefd6566365956",
       "style": "IPY_MODEL_7bf0254e97e64b62ad019a7c7932be20",
       "value": "<img src=\"color_chooser.png\" id=\"snapshot_id_3_1536690190457\"/>\n <div id=\"snapshot_id_4_1536690190457\">color_chooser.png</div>"
      }
     },
     "707fd1c4d64244b0a8ac3b58bc8d82f3": {
      "model_module": "@jupyter-widgets/controls",
      "model_module_version": "1.0.0",
      "model_name": "DescriptionStyleModel",
      "state": {
       "description_width": ""
      }
     },
     "70897346a1464543a1cb196058c360c6": {
      "model_module": "@jupyter-widgets/controls",
      "model_module_version": "1.0.0",
      "model_name": "TabModel",
      "state": {
       "_titles": {
        "0": "Canvas",
        "1": "Snapshot"
       },
       "children": [
        "IPY_MODEL_220f214a40c34f9ba2419dee0350f9c1",
        "IPY_MODEL_0d21e3e2d0284ecabe77b481d432d16d"
       ],
       "layout": "IPY_MODEL_39f0104a38324046b9581c92b8d88d4d"
      }
     },
     "711af0cdbc814fd09ea82a6c4cd820fa": {
      "model_module": "@jupyter-widgets/controls",
      "model_module_version": "1.0.0",
      "model_name": "VBoxModel",
      "state": {
       "children": [
        "IPY_MODEL_a2c0430c43e34980b299d9068f207cd2",
        "IPY_MODEL_993cbb1bcc3e413eb1051b531fb771d8"
       ],
       "layout": "IPY_MODEL_0e0697bd0afb4e35a268e0194a5e4353"
      }
     },
     "71467fcd00c049f49a40c43be36c2a32": {
      "model_module": "jp_proxy_widget",
      "model_module_version": "^0.3.4",
      "model_name": "JSProxyModel",
      "state": {
       "_model_module_version": "^0.3.4",
       "_send_counter": 10,
       "_view_module_version": "^0.3.4",
       "error_msg": "No error",
       "layout": "IPY_MODEL_923afbc32b564936b888c46166376f3d",
       "rendered": true,
       "status": "Got results."
      }
     },
     "714c97ea4e1d48b888c84bf019566c73": {
      "model_module": "@jupyter-widgets/base",
      "model_module_version": "1.0.0",
      "model_name": "LayoutModel",
      "state": {}
     },
     "7154d0ca076241d98efc08221e4159a7": {
      "model_module": "jp_proxy_widget",
      "model_module_version": "^0.3.4",
      "model_name": "JSProxyModel",
      "state": {
       "_model_module_version": "^0.3.4",
       "_send_counter": 10,
       "_view_module_version": "^0.3.4",
       "error_msg": "No error",
       "layout": "IPY_MODEL_9542e6be6b5040699bda42e0c37f625a",
       "rendered": true,
       "status": "Got results."
      }
     },
     "726c5212e75647cb81f37e5356b5371a": {
      "model_module": "@jupyter-widgets/controls",
      "model_module_version": "1.0.0",
      "model_name": "TabModel",
      "state": {
       "_titles": {
        "0": "Canvas",
        "1": "Snapshot"
       },
       "children": [
        "IPY_MODEL_8fff9775612846c791f05070e1f04511",
        "IPY_MODEL_b0b8bb75cb3f4276b906e08738853641"
       ],
       "layout": "IPY_MODEL_b94b4459ab91496a96ec93d07e25304d"
      }
     },
     "736ab1684bfd461087813f99bfbef4c9": {
      "model_module": "@jupyter-widgets/base",
      "model_module_version": "1.0.0",
      "model_name": "LayoutModel",
      "state": {}
     },
     "737932e3b0844e4d92d10b42c133c06d": {
      "model_module": "jp_proxy_widget",
      "model_module_version": "^0.3.4",
      "model_name": "JSProxyModel",
      "state": {
       "_model_module_version": "^0.3.4",
       "_send_counter": 10,
       "_view_module_version": "^0.3.4",
       "error_msg": "No error",
       "layout": "IPY_MODEL_16df5013d2774449a775ffe1c3e6bf97",
       "rendered": true,
       "status": "Got results."
      }
     },
     "738512fbf27d404aac2a75e55870c8da": {
      "model_module": "jp_proxy_widget",
      "model_module_version": "^0.3.4",
      "model_name": "JSProxyModel",
      "state": {
       "_model_module_version": "^0.3.4",
       "_send_counter": 2,
       "_view_module_version": "^0.3.4",
       "error_msg": "No error",
       "layout": "IPY_MODEL_329b12a298a042b38c6cf199bab5e80f",
       "rendered": true,
       "status": "Got results."
      }
     },
     "73ac07155a604d61aa065480d1d89a1c": {
      "model_module": "@jupyter-widgets/controls",
      "model_module_version": "1.0.0",
      "model_name": "TabModel",
      "state": {
       "_titles": {
        "0": "Canvas",
        "1": "Snapshot"
       },
       "children": [
        "IPY_MODEL_a02949154d7f47c6b6b1d457a869df58",
        "IPY_MODEL_2701029434474f11ae614b5397b6c4d7"
       ],
       "layout": "IPY_MODEL_d00839faff2440edb79271f3141529c4"
      }
     },
     "73c014155b2f4935922cafd2c2f6ef6f": {
      "model_module": "@jupyter-widgets/base",
      "model_module_version": "1.0.0",
      "model_name": "LayoutModel",
      "state": {}
     },
     "73d404fab10545b2a82ca37d05c8f612": {
      "model_module": "@jupyter-widgets/controls",
      "model_module_version": "1.0.0",
      "model_name": "VBoxModel",
      "state": {
       "children": [
        "IPY_MODEL_c8dd628434f54a1db290ffabc5cbd458",
        "IPY_MODEL_616578981d194f5785a25a4accb70162"
       ],
       "layout": "IPY_MODEL_23dcb5674689471b920e3b1f0f078ca4"
      }
     },
     "7400b16ab2f2481eaf33859080cb94b6": {
      "model_module": "@jupyter-widgets/base",
      "model_module_version": "1.0.0",
      "model_name": "LayoutModel",
      "state": {}
     },
     "740431574e854bd6bef73ccbfb09f144": {
      "model_module": "@jupyter-widgets/controls",
      "model_module_version": "1.0.0",
      "model_name": "DescriptionStyleModel",
      "state": {
       "description_width": ""
      }
     },
     "746531e78a584d8b8f6bb658be0a0d3b": {
      "model_module": "@jupyter-widgets/base",
      "model_module_version": "1.0.0",
      "model_name": "LayoutModel",
      "state": {}
     },
     "747c1a608462481ea4f082e027762dc1": {
      "model_module": "@jupyter-widgets/base",
      "model_module_version": "1.0.0",
      "model_name": "LayoutModel",
      "state": {}
     },
     "74c136ab65a04fe88935ea4837be9cd2": {
      "model_module": "@jupyter-widgets/controls",
      "model_module_version": "1.0.0",
      "model_name": "DescriptionStyleModel",
      "state": {
       "description_width": ""
      }
     },
     "7504d1d57fdf40618d3a429081133542": {
      "model_module": "@jupyter-widgets/base",
      "model_module_version": "1.0.0",
      "model_name": "LayoutModel",
      "state": {}
     },
     "7507364536404e5f90f1e0adb2880592": {
      "model_module": "@jupyter-widgets/base",
      "model_module_version": "1.0.0",
      "model_name": "LayoutModel",
      "state": {}
     },
     "753ed40e848a4d1bb4b4d57aa80ee068": {
      "model_module": "jp_proxy_widget",
      "model_module_version": "^0.3.4",
      "model_name": "JSProxyModel",
      "state": {
       "_model_module_version": "^0.3.4",
       "_send_counter": 2,
       "_view_module_version": "^0.3.4",
       "error_msg": "No error",
       "layout": "IPY_MODEL_07e7a120f0f94a5fb058d3b4a9c48528",
       "rendered": true,
       "status": "Got results."
      }
     },
     "757873cc205d4f8f982e0895a3979b90": {
      "model_module": "@jupyter-widgets/base",
      "model_module_version": "1.0.0",
      "model_name": "LayoutModel",
      "state": {}
     },
     "75bd8d23bc2141bb8e537ae0ef80d245": {
      "model_module": "jp_proxy_widget",
      "model_module_version": "^0.3.4",
      "model_name": "JSProxyModel",
      "state": {
       "_model_module_version": "^0.3.4",
       "_send_counter": 16,
       "_view_module_version": "^0.3.4",
       "error_msg": "No error",
       "layout": "IPY_MODEL_cc4e7740e45d4fe282f81c048c3e5c48",
       "rendered": true,
       "status": "Got results."
      }
     },
     "76321ebd12274dc795a5ff03221e6c38": {
      "model_module": "@jupyter-widgets/base",
      "model_module_version": "1.0.0",
      "model_name": "LayoutModel",
      "state": {}
     },
     "766b6f67784f4364a6e893838d7d9700": {
      "model_module": "@jupyter-widgets/controls",
      "model_module_version": "1.0.0",
      "model_name": "DescriptionStyleModel",
      "state": {
       "description_width": ""
      }
     },
     "7812bb235d544207834addd1fd38d93c": {
      "model_module": "@jupyter-widgets/controls",
      "model_module_version": "1.0.0",
      "model_name": "TabModel",
      "state": {
       "_titles": {
        "0": "Canvas",
        "1": "Snapshot"
       },
       "children": [
        "IPY_MODEL_42a8b1bc22704c42a2e205223d038f04",
        "IPY_MODEL_244c8cf864164cdb8568fede311e0de9"
       ],
       "layout": "IPY_MODEL_9dfb2690f4f449278cf87bae52e281b4"
      }
     },
     "78856ab8dff043f7b4cc91f9806b4d2f": {
      "model_module": "jp_proxy_widget",
      "model_module_version": "^0.3.4",
      "model_name": "JSProxyModel",
      "state": {
       "_model_module_version": "^0.3.4",
       "_send_counter": 8,
       "_view_module_version": "^0.3.4",
       "error_msg": "No error",
       "layout": "IPY_MODEL_7cd4ac36d9e942b8af932f4540350473",
       "rendered": true,
       "status": "Got results."
      }
     },
     "78d0842e853c42b4bc786ded80370745": {
      "model_module": "@jupyter-widgets/base",
      "model_module_version": "1.0.0",
      "model_name": "LayoutModel",
      "state": {}
     },
     "78df77aa0bd4475c863f968557406594": {
      "model_module": "jp_proxy_widget",
      "model_module_version": "^0.3.4",
      "model_name": "JSProxyModel",
      "state": {
       "_model_module_version": "^0.3.4",
       "_send_counter": 8,
       "_view_module_version": "^0.3.4",
       "error_msg": "No error",
       "layout": "IPY_MODEL_446e6a7a0d1e44e3b06d33111080064b",
       "rendered": true,
       "status": "Got results."
      }
     },
     "79515a78df634886bd2c4b2c54da1d98": {
      "model_module": "@jupyter-widgets/base",
      "model_module_version": "1.0.0",
      "model_name": "LayoutModel",
      "state": {}
     },
     "79982f60c2474d93882abcc41d6c568c": {
      "model_module": "@jupyter-widgets/controls",
      "model_module_version": "1.0.0",
      "model_name": "HTMLModel",
      "state": {
       "layout": "IPY_MODEL_a639b79b7eca4498991d0f4438b7c5c0",
       "style": "IPY_MODEL_2f573e37b0ab4cd6ae1855cc1cd8dbab",
       "value": "<img src=\"color_chooser2.png\" id=\"snapshot_id_9_1536694854680\"/>\n <div id=\"snapshot_id_10_1536694854680\">color_chooser2.png</div>"
      }
     },
     "7a3ef9c981934129b42f7fb7d698b585": {
      "model_module": "jp_proxy_widget",
      "model_module_version": "^0.3.4",
      "model_name": "JSProxyModel",
      "state": {
       "_model_module_version": "^0.3.4",
       "_send_counter": 2,
       "_view_module_version": "^0.3.4",
       "error_msg": "No error",
       "layout": "IPY_MODEL_9aec189543ca4b59af2d52a8b9a72416",
       "rendered": true,
       "status": "Got results."
      }
     },
     "7adaa61d83a34711ab85f9b78c354c8a": {
      "model_module": "@jupyter-widgets/base",
      "model_module_version": "1.0.0",
      "model_name": "LayoutModel",
      "state": {}
     },
     "7b4cfc1290b84a78b2c3682bb6464f78": {
      "model_module": "@jupyter-widgets/base",
      "model_module_version": "1.0.0",
      "model_name": "LayoutModel",
      "state": {}
     },
     "7b7a80215dc94c00b7a93bb02523ed40": {
      "model_module": "@jupyter-widgets/base",
      "model_module_version": "1.0.0",
      "model_name": "LayoutModel",
      "state": {}
     },
     "7bd350f54bc94ffbb219f704bc776dc6": {
      "model_module": "jp_proxy_widget",
      "model_module_version": "^0.3.4",
      "model_name": "JSProxyModel",
      "state": {
       "_model_module_version": "^0.3.4",
       "_send_counter": 10,
       "_view_module_version": "^0.3.4",
       "error_msg": "No error",
       "layout": "IPY_MODEL_2a79e135e0aa49e380d2247b9ac3d1ca",
       "rendered": true,
       "status": "Got results."
      }
     },
     "7bf0254e97e64b62ad019a7c7932be20": {
      "model_module": "@jupyter-widgets/controls",
      "model_module_version": "1.0.0",
      "model_name": "DescriptionStyleModel",
      "state": {
       "description_width": ""
      }
     },
     "7c0fd60cdea74d2eb1fe22397ecf111c": {
      "model_module": "@jupyter-widgets/base",
      "model_module_version": "1.0.0",
      "model_name": "LayoutModel",
      "state": {}
     },
     "7c11b7e6417741e9a107ba67acabef2b": {
      "model_module": "jp_proxy_widget",
      "model_module_version": "^0.3.4",
      "model_name": "JSProxyModel",
      "state": {
       "_model_module_version": "^0.3.4",
       "_send_counter": 2,
       "_view_module_version": "^0.3.4",
       "error_msg": "No error",
       "layout": "IPY_MODEL_fb90163d397141c5b01d2311c411101b",
       "rendered": true,
       "status": "Got results."
      }
     },
     "7c67109ed8a84aa39277081e1558e1f4": {
      "model_module": "@jupyter-widgets/base",
      "model_module_version": "1.0.0",
      "model_name": "LayoutModel",
      "state": {}
     },
     "7c9ba538471649d69603401c04743d5f": {
      "model_module": "@jupyter-widgets/controls",
      "model_module_version": "1.0.0",
      "model_name": "TabModel",
      "state": {
       "_titles": {
        "0": "Canvas",
        "1": "Snapshot"
       },
       "children": [
        "IPY_MODEL_b8f42f0b2a3945e78966269fe684aba3",
        "IPY_MODEL_c4b950b190c0466abf62696c6ab01d88"
       ],
       "layout": "IPY_MODEL_a84adef53d0e44f4a4f722f0db097718"
      }
     },
     "7caf979190894bd0b32bc6fc033052b2": {
      "model_module": "@jupyter-widgets/controls",
      "model_module_version": "1.0.0",
      "model_name": "HTMLModel",
      "state": {
       "layout": "IPY_MODEL_ea7d28684eb54df69c7ac262676556f5",
       "style": "IPY_MODEL_274c15dec65542128e67fe845c0d22f4",
       "value": "<img src=\"color_chooser.png\" id=\"snapshot_id_11_1536683064935\"/>\n <div id=\"snapshot_id_12_1536683064935\">color_chooser.png</div>"
      }
     },
     "7cd11a04fa2848a7bd90b53e549c2def": {
      "model_module": "@jupyter-widgets/controls",
      "model_module_version": "1.0.0",
      "model_name": "HTMLModel",
      "state": {
       "layout": "IPY_MODEL_47df2905df724105bcb13017459f1b56",
       "style": "IPY_MODEL_a85efe95f6cc44218aa0ffcb56b7b10b",
       "value": "<img src=\"color_chooser.png\" id=\"snapshot_id_3_1536692960141\"/>\n <div id=\"snapshot_id_4_1536692960141\">color_chooser.png</div>"
      }
     },
     "7cd4ac36d9e942b8af932f4540350473": {
      "model_module": "@jupyter-widgets/base",
      "model_module_version": "1.0.0",
      "model_name": "LayoutModel",
      "state": {}
     },
     "7e163a01602147c183fdc36aa54cc8ec": {
      "model_module": "@jupyter-widgets/base",
      "model_module_version": "1.0.0",
      "model_name": "LayoutModel",
      "state": {}
     },
     "7ea173efa73d4ddbb56a878e5f93a4a4": {
      "model_module": "@jupyter-widgets/base",
      "model_module_version": "1.0.0",
      "model_name": "LayoutModel",
      "state": {}
     },
     "7eafbdfa20f24e0bb9de508bc1c3b647": {
      "model_module": "@jupyter-widgets/controls",
      "model_module_version": "1.0.0",
      "model_name": "DescriptionStyleModel",
      "state": {
       "description_width": ""
      }
     },
     "7ec6f284f20446afb98d376d849c871f": {
      "model_module": "@jupyter-widgets/controls",
      "model_module_version": "1.0.0",
      "model_name": "HTMLModel",
      "state": {
       "layout": "IPY_MODEL_7b4cfc1290b84a78b2c3682bb6464f78",
       "style": "IPY_MODEL_d8ebf714698242ba841e25f382d3c27e",
       "value": "<img src=\"color_chooser.png\" id=\"snapshot_id_9_1536682983077\"/>\n <div id=\"snapshot_id_10_1536682983077\">color_chooser.png</div>"
      }
     },
     "7f7a5b2e0598424eb1296c83e8ee5001": {
      "model_module": "@jupyter-widgets/controls",
      "model_module_version": "1.0.0",
      "model_name": "HTMLModel",
      "state": {
       "layout": "IPY_MODEL_23a1c994968442af872dd4ba4c0f7d0d",
       "style": "IPY_MODEL_61ee58fd08ae46c598203168a4429d71",
       "value": "<img src=\"color_chooser.png\" id=\"snapshot_id_1_1536693521982\"/>\n <div id=\"snapshot_id_2_1536693521982\">color_chooser.png</div>"
      }
     },
     "7f96f2656d1a4672853f88e59afda781": {
      "model_module": "jp_proxy_widget",
      "model_module_version": "^0.3.4",
      "model_name": "JSProxyModel",
      "state": {
       "_model_module_version": "^0.3.4",
       "_send_counter": 2,
       "_view_module_version": "^0.3.4",
       "error_msg": "No error",
       "layout": "IPY_MODEL_9039df8cd0634416aff175d3be842c05",
       "rendered": true,
       "status": "Got results."
      }
     },
     "7fb870bd2e474c31a03296b1b0a0257a": {
      "model_module": "@jupyter-widgets/controls",
      "model_module_version": "1.0.0",
      "model_name": "DescriptionStyleModel",
      "state": {
       "description_width": ""
      }
     },
     "7ff6cc0cd9984d53b31212fbd2cd9ada": {
      "model_module": "@jupyter-widgets/controls",
      "model_module_version": "1.0.0",
      "model_name": "VBoxModel",
      "state": {
       "children": [
        "IPY_MODEL_fc86bda76f4744a1b8ac35482cad4f4c",
        "IPY_MODEL_e9be0f2bc6894f48a6ae3b35b91ad530"
       ],
       "layout": "IPY_MODEL_e54aadb11a154bbcb7511e86ca4b5589"
      }
     },
     "80194d5f18a8443d8ffbf2dfeb382988": {
      "model_module": "jp_proxy_widget",
      "model_module_version": "^0.3.4",
      "model_name": "JSProxyModel",
      "state": {
       "_model_module_version": "^0.3.4",
       "_send_counter": 8,
       "_view_module_version": "^0.3.4",
       "error_msg": "TypeError: context.resore is not a function",
       "layout": "IPY_MODEL_09a2406980204c72b1d321b646d83998",
       "rendered": true,
       "status": "Rendered."
      }
     },
     "8031f199b9e04c369c3001a2b630733e": {
      "model_module": "@jupyter-widgets/controls",
      "model_module_version": "1.0.0",
      "model_name": "HTMLModel",
      "state": {
       "layout": "IPY_MODEL_cde5c09277ad4365bbe9691449c1b53d",
       "style": "IPY_MODEL_cbfae130b5034772beff85f1716e9151",
       "value": "<img src=\"color_chooser2.png\" id=\"snapshot_id_3_1537454161793\"/>\n <div id=\"snapshot_id_4_1537454161793\">color_chooser2.png</div>"
      }
     },
     "808e82a7f2004580bb6efa73bd2dd1ef": {
      "model_module": "jp_proxy_widget",
      "model_module_version": "^0.3.4",
      "model_name": "JSProxyModel",
      "state": {
       "_model_module_version": "^0.3.4",
       "_send_counter": 2,
       "_view_module_version": "^0.3.4",
       "error_msg": "No error",
       "layout": "IPY_MODEL_613253512dce4c5a9693babb7859d99e",
       "rendered": true,
       "status": "Got results."
      }
     },
     "817b02d8a04e45cfa4b803e501f9d219": {
      "model_module": "jp_proxy_widget",
      "model_module_version": "^0.3.4",
      "model_name": "JSProxyModel",
      "state": {
       "_model_module_version": "^0.3.4",
       "_send_counter": 2,
       "_view_module_version": "^0.3.4",
       "error_msg": "No error",
       "layout": "IPY_MODEL_f7463e3c6b19467291b5aaed558a7da1",
       "rendered": true,
       "status": "Got results."
      }
     },
     "818426d8223640149e763769fc85d441": {
      "model_module": "@jupyter-widgets/controls",
      "model_module_version": "1.0.0",
      "model_name": "TabModel",
      "state": {
       "_titles": {
        "0": "Canvas",
        "1": "Snapshot"
       },
       "children": [
        "IPY_MODEL_23c0851e9dfa4ff9b2a826c569e6597a",
        "IPY_MODEL_432a3953f451476d919bb4db6b4e61d7"
       ],
       "layout": "IPY_MODEL_d82e7b5c38b247caaba18be985c132e8"
      }
     },
     "81adcb284ff0403fad751109129370de": {
      "model_module": "@jupyter-widgets/controls",
      "model_module_version": "1.0.0",
      "model_name": "DescriptionStyleModel",
      "state": {
       "description_width": ""
      }
     },
     "81c609629d134eddb9a19d05d4dff4e6": {
      "model_module": "@jupyter-widgets/base",
      "model_module_version": "1.0.0",
      "model_name": "LayoutModel",
      "state": {}
     },
     "81e31fd0204341c5b25aa4517047269c": {
      "model_module": "@jupyter-widgets/base",
      "model_module_version": "1.0.0",
      "model_name": "LayoutModel",
      "state": {}
     },
     "820c6a7194484704acbb082839569d7b": {
      "model_module": "@jupyter-widgets/base",
      "model_module_version": "1.0.0",
      "model_name": "LayoutModel",
      "state": {}
     },
     "8247a3dbbf56460dabe864e5dde0f21a": {
      "model_module": "@jupyter-widgets/controls",
      "model_module_version": "1.0.0",
      "model_name": "HTMLModel",
      "state": {
       "layout": "IPY_MODEL_a651161b79764ef9907c9f0e268379a0",
       "style": "IPY_MODEL_348e451df6414550b3e568407d84c87b",
       "value": "<img src=\"color_chooser.png\" id=\"snapshot_id_20_1536688723149\"/>\n <div id=\"snapshot_id_21_1536688723149\">color_chooser.png</div>"
      }
     },
     "828786d9d2264254afc88bf0ca321d78": {
      "model_module": "@jupyter-widgets/controls",
      "model_module_version": "1.0.0",
      "model_name": "HTMLModel",
      "state": {
       "layout": "IPY_MODEL_2392f150523548b7b5a28b446623f971",
       "style": "IPY_MODEL_3177251250634f89b803c194ed03045f",
       "value": "<img src=\"color_chooser2.png\" id=\"snapshot_id_21_1536695865020\"/>\n <div id=\"snapshot_id_22_1536695865020\">color_chooser2.png</div>"
      }
     },
     "82e806082f2446598c2ffd819656b947": {
      "model_module": "jp_proxy_widget",
      "model_module_version": "^0.3.4",
      "model_name": "JSProxyModel",
      "state": {
       "_model_module_version": "^0.3.4",
       "_send_counter": 10,
       "_view_module_version": "^0.3.4",
       "error_msg": "No error",
       "layout": "IPY_MODEL_9592b707932a412f9549007c194f59ca",
       "rendered": true,
       "status": "Got results."
      }
     },
     "832ee76af8df4465bd01da91114a4061": {
      "model_module": "@jupyter-widgets/base",
      "model_module_version": "1.0.0",
      "model_name": "LayoutModel",
      "state": {}
     },
     "83526904a99c495b847e2e70ce8d2e06": {
      "model_module": "@jupyter-widgets/base",
      "model_module_version": "1.0.0",
      "model_name": "LayoutModel",
      "state": {}
     },
     "836128797b2049ffa97709f67dec1678": {
      "model_module": "@jupyter-widgets/base",
      "model_module_version": "1.0.0",
      "model_name": "LayoutModel",
      "state": {}
     },
     "8470d541ab3446198903120b810f9171": {
      "model_module": "@jupyter-widgets/base",
      "model_module_version": "1.0.0",
      "model_name": "LayoutModel",
      "state": {}
     },
     "84a60d96b84c4074b81702885bdf23b5": {
      "model_module": "@jupyter-widgets/controls",
      "model_module_version": "1.0.0",
      "model_name": "HTMLModel",
      "state": {
       "layout": "IPY_MODEL_e8a1815adf8f4536bb07e9d3db50d5d7",
       "style": "IPY_MODEL_1438b253467345cf8e364dd695affacb",
       "value": "<img src=\"color_chooser.png\" id=\"snapshot_id_9_1536677337550\"/>\n <div id=\"snapshot_id_10_1536677337550\">color_chooser.png</div>"
      }
     },
     "84ce58b7c6cf457eb7da9cee421539f1": {
      "model_module": "@jupyter-widgets/base",
      "model_module_version": "1.0.0",
      "model_name": "LayoutModel",
      "state": {}
     },
     "84f0acfc6bb44e92a243c86e2fb7b536": {
      "model_module": "@jupyter-widgets/base",
      "model_module_version": "1.0.0",
      "model_name": "LayoutModel",
      "state": {}
     },
     "854a16e50c04467ab193703134ea25e2": {
      "model_module": "@jupyter-widgets/base",
      "model_module_version": "1.0.0",
      "model_name": "LayoutModel",
      "state": {}
     },
     "8580056b150a48479514d1dcd06ebc0e": {
      "model_module": "@jupyter-widgets/controls",
      "model_module_version": "1.0.0",
      "model_name": "HTMLModel",
      "state": {
       "layout": "IPY_MODEL_4e3602f579254ce5b984561bea099fdf",
       "style": "IPY_MODEL_b86099ff07ec42f4817442ed6a9ed2d9",
       "value": "<img src=\"color_chooser2.png\" id=\"snapshot_id_5_1536693261469\"/>\n <div id=\"snapshot_id_6_1536693261469\">color_chooser2.png</div>"
      }
     },
     "85a57e1d8d334afb9f121d38a921a3e1": {
      "model_module": "jp_proxy_widget",
      "model_module_version": "^0.3.4",
      "model_name": "JSProxyModel",
      "state": {
       "_model_module_version": "^0.3.4",
       "_send_counter": 8,
       "_view_module_version": "^0.3.4",
       "error_msg": "No error",
       "layout": "IPY_MODEL_c7f0ec89a7fd4f049df94b4280fdd40f",
       "rendered": true,
       "status": "Got results."
      }
     },
     "86159034851a41649eced50d130892fe": {
      "model_module": "@jupyter-widgets/base",
      "model_module_version": "1.0.0",
      "model_name": "LayoutModel",
      "state": {}
     },
     "865789b34a3c4291870723bfe91e86de": {
      "model_module": "@jupyter-widgets/controls",
      "model_module_version": "1.0.0",
      "model_name": "HTMLModel",
      "state": {
       "layout": "IPY_MODEL_eae5a5bfb7814cbd9fea2988914e87c4",
       "style": "IPY_MODEL_c32020e25759464dabeb7fe35967b3ff",
       "value": "<img src=\"color_chooser.png\" id=\"snapshot_id_1_1536692828010\"/>\n <div id=\"snapshot_id_2_1536692828010\">color_chooser.png</div>"
      }
     },
     "87523c83f43144a68c1f05e2cf6257bf": {
      "model_module": "@jupyter-widgets/base",
      "model_module_version": "1.0.0",
      "model_name": "LayoutModel",
      "state": {}
     },
     "8757e4a67c814a68932d395e48129930": {
      "model_module": "@jupyter-widgets/base",
      "model_module_version": "1.0.0",
      "model_name": "LayoutModel",
      "state": {}
     },
     "87939bf657764bc88fed751438384194": {
      "model_module": "@jupyter-widgets/base",
      "model_module_version": "1.0.0",
      "model_name": "LayoutModel",
      "state": {}
     },
     "881c15030e054ef2bd67996af3a016b2": {
      "model_module": "jp_proxy_widget",
      "model_module_version": "^0.3.4",
      "model_name": "JSProxyModel",
      "state": {
       "_model_module_version": "^0.3.4",
       "_send_counter": 2,
       "_view_module_version": "^0.3.4",
       "error_msg": "No error",
       "layout": "IPY_MODEL_a58f3690fe884d748b0d97edb9872ee8",
       "rendered": true,
       "status": "call back to <function callback_function at 0x11629c320>"
      }
     },
     "88de2446a4d846c9b1e96caa19c08a41": {
      "model_module": "@jupyter-widgets/controls",
      "model_module_version": "1.0.0",
      "model_name": "TabModel",
      "state": {
       "_titles": {
        "0": "Canvas",
        "1": "Snapshot"
       },
       "children": [
        "IPY_MODEL_be44b6b799074e08b341d67faf8e227c",
        "IPY_MODEL_ffc388c0c5c840308f4936b6bdcdf03a"
       ],
       "layout": "IPY_MODEL_1c5730a9020f42879f6cedb4b37c2cac"
      }
     },
     "894e43325dc3429eb48967cdf06f4202": {
      "model_module": "@jupyter-widgets/base",
      "model_module_version": "1.0.0",
      "model_name": "LayoutModel",
      "state": {}
     },
     "89a0e79436454e7c8e8ddf96bdd4bf39": {
      "model_module": "jp_proxy_widget",
      "model_module_version": "^0.3.4",
      "model_name": "JSProxyModel",
      "state": {
       "_model_module_version": "^0.3.4",
       "_send_counter": 10,
       "_view_module_version": "^0.3.4",
       "error_msg": "TypeError: Cannot read property 'x' of undefined",
       "layout": "IPY_MODEL_d7881160dacc47a4b93f92ed4383012a",
       "rendered": true,
       "status": "Rendered."
      }
     },
     "89acd2c6226f4255944b99f936b5a7cc": {
      "model_module": "jp_proxy_widget",
      "model_module_version": "^0.3.4",
      "model_name": "JSProxyModel",
      "state": {
       "_model_module_version": "^0.3.4",
       "_send_counter": 11,
       "_view_module_version": "^0.3.4",
       "error_msg": "No error",
       "layout": "IPY_MODEL_c4ab05086c55448996c62cdfe2b9d2ec",
       "rendered": true,
       "status": "Got results."
      }
     },
     "8a03df7efd9a4c8bbc5c84048dfad8a0": {
      "model_module": "@jupyter-widgets/base",
      "model_module_version": "1.0.0",
      "model_name": "LayoutModel",
      "state": {}
     },
     "8a4e899931994430b1916d8fb445115f": {
      "model_module": "@jupyter-widgets/base",
      "model_module_version": "1.0.0",
      "model_name": "LayoutModel",
      "state": {}
     },
     "8afb1a91fa994a6d9fee79efdf88a448": {
      "model_module": "@jupyter-widgets/base",
      "model_module_version": "1.0.0",
      "model_name": "LayoutModel",
      "state": {}
     },
     "8b0c53612b264ec3ba38785ff341ae5d": {
      "model_module": "@jupyter-widgets/base",
      "model_module_version": "1.0.0",
      "model_name": "LayoutModel",
      "state": {}
     },
     "8b2ec3e37b97423299df8449623a4e75": {
      "model_module": "@jupyter-widgets/base",
      "model_module_version": "1.0.0",
      "model_name": "LayoutModel",
      "state": {}
     },
     "8c28b04ad6d2486fa1adb420ab02ec05": {
      "model_module": "@jupyter-widgets/base",
      "model_module_version": "1.0.0",
      "model_name": "LayoutModel",
      "state": {}
     },
     "8c476fc8a10148129f05658077853217": {
      "model_module": "jp_proxy_widget",
      "model_module_version": "^0.3.4",
      "model_name": "JSProxyModel",
      "state": {
       "_model_module_version": "^0.3.4",
       "_send_counter": 2,
       "_view_module_version": "^0.3.4",
       "error_msg": "No error",
       "layout": "IPY_MODEL_8e3ef256da6644c085cc6013248cd75f",
       "rendered": true,
       "status": "Got results."
      }
     },
     "8c8949a4989a4461bb56c3591e1f0086": {
      "model_module": "@jupyter-widgets/base",
      "model_module_version": "1.0.0",
      "model_name": "LayoutModel",
      "state": {}
     },
     "8c8b4beb09ea4d69b2e8e65d3e301aa0": {
      "model_module": "@jupyter-widgets/controls",
      "model_module_version": "1.0.0",
      "model_name": "DescriptionStyleModel",
      "state": {
       "description_width": ""
      }
     },
     "8d007ec01be34b008747121adbfe3dcd": {
      "model_module": "jp_proxy_widget",
      "model_module_version": "^0.3.4",
      "model_name": "JSProxyModel",
      "state": {
       "_model_module_version": "^0.3.4",
       "_send_counter": 8,
       "_view_module_version": "^0.3.4",
       "error_msg": "No error",
       "layout": "IPY_MODEL_defd8d02901a49fc8f68218af56c4a21",
       "rendered": true,
       "status": "Got results."
      }
     },
     "8d079db46db648d7a9987f056a5de04b": {
      "model_module": "@jupyter-widgets/base",
      "model_module_version": "1.0.0",
      "model_name": "LayoutModel",
      "state": {}
     },
     "8d6c79c34bdf4e7b9ea0d4ed87537776": {
      "model_module": "@jupyter-widgets/controls",
      "model_module_version": "1.0.0",
      "model_name": "VBoxModel",
      "state": {
       "children": [
        "IPY_MODEL_b1242cdfa5f24489be591274791975e0",
        "IPY_MODEL_f779ab68940043e0adf93d9db8529929"
       ],
       "layout": "IPY_MODEL_4f60484781ad431ab19a092eb0089f89"
      }
     },
     "8d9dd743643f4ee59a5028573d3c44b0": {
      "model_module": "jp_proxy_widget",
      "model_module_version": "^0.3.4",
      "model_name": "JSProxyModel",
      "state": {
       "_model_module_version": "^0.3.4",
       "_send_counter": 2,
       "_view_module_version": "^0.3.4",
       "error_msg": "No error",
       "layout": "IPY_MODEL_714c97ea4e1d48b888c84bf019566c73",
       "rendered": true,
       "status": "Got results."
      }
     },
     "8de5fd96744b4de297509c2d3e119452": {
      "model_module": "jp_proxy_widget",
      "model_module_version": "^0.3.4",
      "model_name": "JSProxyModel",
      "state": {
       "_model_module_version": "^0.3.4",
       "_send_counter": 2,
       "_view_module_version": "^0.3.4",
       "error_msg": "No error",
       "layout": "IPY_MODEL_052be223230d480387a404e4424bde9a",
       "rendered": true,
       "status": "Got results."
      }
     },
     "8e3ef256da6644c085cc6013248cd75f": {
      "model_module": "@jupyter-widgets/base",
      "model_module_version": "1.0.0",
      "model_name": "LayoutModel",
      "state": {}
     },
     "8e4c7c893f0d4b0fa193899993f75684": {
      "model_module": "@jupyter-widgets/base",
      "model_module_version": "1.0.0",
      "model_name": "LayoutModel",
      "state": {}
     },
     "8e4e718faf6e405b9fe1dcba6dbe4d65": {
      "model_module": "@jupyter-widgets/base",
      "model_module_version": "1.0.0",
      "model_name": "LayoutModel",
      "state": {}
     },
     "8e53bf7c4f95478d9ce1984eccb74495": {
      "model_module": "@jupyter-widgets/controls",
      "model_module_version": "1.0.0",
      "model_name": "DescriptionStyleModel",
      "state": {
       "description_width": ""
      }
     },
     "8f5feb8439ed4afba6adf5e56223b8cd": {
      "model_module": "@jupyter-widgets/base",
      "model_module_version": "1.0.0",
      "model_name": "LayoutModel",
      "state": {}
     },
     "8fbf138f9f504e309907888c53447049": {
      "model_module": "@jupyter-widgets/controls",
      "model_module_version": "1.0.0",
      "model_name": "HTMLModel",
      "state": {
       "layout": "IPY_MODEL_ea3100254cbb4814ac3ecb5e8191f366",
       "style": "IPY_MODEL_740431574e854bd6bef73ccbfb09f144",
       "value": "<img src=\"color_chooser2.png\" id=\"snapshot_id_7_1536694820895\"/>\n <div id=\"snapshot_id_8_1536694820895\">color_chooser2.png</div>"
      }
     },
     "8fc9aed0bcff444dbe4595e2d4c63472": {
      "model_module": "@jupyter-widgets/controls",
      "model_module_version": "1.0.0",
      "model_name": "TabModel",
      "state": {
       "_titles": {
        "0": "Canvas",
        "1": "Snapshot"
       },
       "children": [
        "IPY_MODEL_c3dfd629eafd4832942cd6b7006f877c",
        "IPY_MODEL_c98d8696bb1242719676a2d2a6e5ec29"
       ],
       "layout": "IPY_MODEL_96390c2372c64f2093777e24746dec47",
       "selected_index": 1
      }
     },
     "8fd395b6953b4adb89aadcd1ebb44db3": {
      "model_module": "@jupyter-widgets/controls",
      "model_module_version": "1.0.0",
      "model_name": "VBoxModel",
      "state": {
       "children": [
        "IPY_MODEL_328b82d6abda4be9abf816f700fa133c",
        "IPY_MODEL_2f29e152b4c74eeaa005fe57d56e494a"
       ],
       "layout": "IPY_MODEL_5714804a845245049856d47f942ba2d6"
      }
     },
     "8fff9775612846c791f05070e1f04511": {
      "model_module": "@jupyter-widgets/controls",
      "model_module_version": "1.0.0",
      "model_name": "VBoxModel",
      "state": {
       "children": [
        "IPY_MODEL_c5d68284afc54a1b83f2e75ab4f325bb",
        "IPY_MODEL_e45b2fd247174571b4cc99dba058f0e0"
       ],
       "layout": "IPY_MODEL_c8ab363386be4fe989b456078e818244"
      }
     },
     "9023a8199e7d49e282ccc2047319e757": {
      "model_module": "@jupyter-widgets/base",
      "model_module_version": "1.0.0",
      "model_name": "LayoutModel",
      "state": {}
     },
     "9039df8cd0634416aff175d3be842c05": {
      "model_module": "@jupyter-widgets/base",
      "model_module_version": "1.0.0",
      "model_name": "LayoutModel",
      "state": {}
     },
     "91448d08ad224a2084d95b5b46a3069f": {
      "model_module": "@jupyter-widgets/controls",
      "model_module_version": "1.0.0",
      "model_name": "HTMLModel",
      "state": {
       "layout": "IPY_MODEL_96c8686826b44d98a677b00d1b856d33",
       "style": "IPY_MODEL_5a307b9939054b8bb6ba1193345985cc",
       "value": "<img src=\"color_chooser.png\" id=\"snapshot_id_22_1536688757324\"/>\n <div id=\"snapshot_id_23_1536688757324\">color_chooser.png</div>"
      }
     },
     "91584da5a81340d48b0d122d03afe097": {
      "model_module": "@jupyter-widgets/base",
      "model_module_version": "1.0.0",
      "model_name": "LayoutModel",
      "state": {}
     },
     "91a9e87375334563a3a10d1ce6a0dad9": {
      "model_module": "@jupyter-widgets/base",
      "model_module_version": "1.0.0",
      "model_name": "LayoutModel",
      "state": {}
     },
     "923afbc32b564936b888c46166376f3d": {
      "model_module": "@jupyter-widgets/base",
      "model_module_version": "1.0.0",
      "model_name": "LayoutModel",
      "state": {}
     },
     "927b7ebd5baa4ad7beb3b927d9d65c79": {
      "model_module": "jp_proxy_widget",
      "model_module_version": "^0.3.4",
      "model_name": "JSProxyModel",
      "state": {
       "_model_module_version": "^0.3.4",
       "_send_counter": 2,
       "_view_module_version": "^0.3.4",
       "error_msg": "No error",
       "layout": "IPY_MODEL_30bf8105fef2430ab4c7014b0d1ba6c8",
       "rendered": true,
       "status": "Got results."
      }
     },
     "9282e8158d484b15b26a8cd13ab9ea53": {
      "model_module": "@jupyter-widgets/base",
      "model_module_version": "1.0.0",
      "model_name": "LayoutModel",
      "state": {}
     },
     "928edbf2f91f473588dea6a3159532cb": {
      "model_module": "@jupyter-widgets/base",
      "model_module_version": "1.0.0",
      "model_name": "LayoutModel",
      "state": {}
     },
     "92eb9df4bc6f42e88eac5bf1d7530cf8": {
      "model_module": "@jupyter-widgets/base",
      "model_module_version": "1.0.0",
      "model_name": "LayoutModel",
      "state": {}
     },
     "92f89d66d9404fa98dfe4dca07499ca1": {
      "model_module": "@jupyter-widgets/controls",
      "model_module_version": "1.0.0",
      "model_name": "HTMLModel",
      "state": {
       "layout": "IPY_MODEL_5eb1d19a899a49c0870833510157ab14",
       "style": "IPY_MODEL_33e7328175674d35b7e226b1bc9ffbef",
       "value": "<img src=\"color_chooser.png\" id=\"snapshot_id_1_1536699985714\"/>\n <div id=\"snapshot_id_2_1536699985714\">color_chooser.png</div>"
      }
     },
     "9314e6a6e799452dbd14731661c2ecde": {
      "model_module": "@jupyter-widgets/base",
      "model_module_version": "1.0.0",
      "model_name": "LayoutModel",
      "state": {}
     },
     "93cf5e1a2c544ae5b6c3fdeba55867ac": {
      "model_module": "@jupyter-widgets/base",
      "model_module_version": "1.0.0",
      "model_name": "LayoutModel",
      "state": {}
     },
     "946b460a783248bba22a0ffcd035b8cd": {
      "model_module": "jp_proxy_widget",
      "model_module_version": "^0.3.4",
      "model_name": "JSProxyModel",
      "state": {
       "_model_module_version": "^0.3.4",
       "_send_counter": 2,
       "_view_module_version": "^0.3.4",
       "error_msg": "No error",
       "layout": "IPY_MODEL_f1ab61a342ea4a3094dec20f55194f78",
       "rendered": true,
       "status": "Got results."
      }
     },
     "94a831da605143a59ac539270b49219d": {
      "model_module": "@jupyter-widgets/controls",
      "model_module_version": "1.0.0",
      "model_name": "DescriptionStyleModel",
      "state": {
       "description_width": ""
      }
     },
     "951790e90d4f4de09a9e2e2b6eb7e5b5": {
      "model_module": "@jupyter-widgets/controls",
      "model_module_version": "1.0.0",
      "model_name": "TabModel",
      "state": {
       "_titles": {
        "0": "Canvas",
        "1": "Snapshot"
       },
       "children": [
        "IPY_MODEL_fc191b3b80fb4207950b64767fc94a1c",
        "IPY_MODEL_c928c8cfb6ce4a01a9694976a8e8fe53"
       ],
       "layout": "IPY_MODEL_d4d68eedd12d41ae92a2c4be84256721"
      }
     },
     "952c378b0d324a0181c11b531d40096a": {
      "model_module": "@jupyter-widgets/base",
      "model_module_version": "1.0.0",
      "model_name": "LayoutModel",
      "state": {}
     },
     "9542e6be6b5040699bda42e0c37f625a": {
      "model_module": "@jupyter-widgets/base",
      "model_module_version": "1.0.0",
      "model_name": "LayoutModel",
      "state": {}
     },
     "9557af5257e1427ba135a2556045dce0": {
      "model_module": "@jupyter-widgets/controls",
      "model_module_version": "1.0.0",
      "model_name": "TabModel",
      "state": {
       "_titles": {
        "0": "Canvas",
        "1": "Snapshot"
       },
       "children": [
        "IPY_MODEL_1e7dddc5565a4d9980bc15e5bab28b67",
        "IPY_MODEL_b0f4eb68772347f6ab6374b8df02f1c0"
       ],
       "layout": "IPY_MODEL_0390ebb7b3824cb49f4afe8004723210"
      }
     },
     "95644222a8aa45e8bc848ee58f9de63a": {
      "model_module": "jp_proxy_widget",
      "model_module_version": "^0.3.4",
      "model_name": "JSProxyModel",
      "state": {
       "_model_module_version": "^0.3.4",
       "_send_counter": 8,
       "_view_module_version": "^0.3.4",
       "error_msg": "No error",
       "layout": "IPY_MODEL_b85ca1ed426945ee866a5f038d898128",
       "rendered": true,
       "status": "Got results."
      }
     },
     "9592b707932a412f9549007c194f59ca": {
      "model_module": "@jupyter-widgets/base",
      "model_module_version": "1.0.0",
      "model_name": "LayoutModel",
      "state": {}
     },
     "96125d62867b4ffebebf40b46a0e9dd5": {
      "model_module": "@jupyter-widgets/base",
      "model_module_version": "1.0.0",
      "model_name": "LayoutModel",
      "state": {}
     },
     "96390c2372c64f2093777e24746dec47": {
      "model_module": "@jupyter-widgets/base",
      "model_module_version": "1.0.0",
      "model_name": "LayoutModel",
      "state": {}
     },
     "964540405f5249fbacce717bebbdb766": {
      "model_module": "@jupyter-widgets/base",
      "model_module_version": "1.0.0",
      "model_name": "LayoutModel",
      "state": {}
     },
     "964b355059c6406d99b8784191621435": {
      "model_module": "@jupyter-widgets/controls",
      "model_module_version": "1.0.0",
      "model_name": "VBoxModel",
      "state": {
       "children": [
        "IPY_MODEL_1d64c3d1446a410bb1129cbb2d743915",
        "IPY_MODEL_1affb9d7424f4ce2a2b6610bd4d5a333"
       ],
       "layout": "IPY_MODEL_db00bae2c03a40239b7f5e3ca24ca11b"
      }
     },
     "96c8686826b44d98a677b00d1b856d33": {
      "model_module": "@jupyter-widgets/base",
      "model_module_version": "1.0.0",
      "model_name": "LayoutModel",
      "state": {}
     },
     "96d4675726954b338670dffbf7beb964": {
      "model_module": "@jupyter-widgets/base",
      "model_module_version": "1.0.0",
      "model_name": "LayoutModel",
      "state": {}
     },
     "96d9bb98ed20488690324966a21bb59d": {
      "model_module": "jp_proxy_widget",
      "model_module_version": "^0.3.4",
      "model_name": "JSProxyModel",
      "state": {
       "_model_module_version": "^0.3.4",
       "_send_counter": 8,
       "_view_module_version": "^0.3.4",
       "error_msg": "No error",
       "layout": "IPY_MODEL_ed27e3f5ead04efea5fa920b9e80936f",
       "rendered": true,
       "status": "Got results."
      }
     },
     "975336ca40b54947a9835bf91da9f569": {
      "model_module": "@jupyter-widgets/base",
      "model_module_version": "1.0.0",
      "model_name": "LayoutModel",
      "state": {}
     },
     "9784ad8129474471988a411ed96787f8": {
      "model_module": "@jupyter-widgets/controls",
      "model_module_version": "1.0.0",
      "model_name": "DescriptionStyleModel",
      "state": {
       "description_width": ""
      }
     },
     "97a7e4ccf3ad471fb69dbb48cd399b15": {
      "model_module": "@jupyter-widgets/base",
      "model_module_version": "1.0.0",
      "model_name": "LayoutModel",
      "state": {}
     },
     "9871a5426b44423eb8648a10c6c983ea": {
      "model_module": "@jupyter-widgets/base",
      "model_module_version": "1.0.0",
      "model_name": "LayoutModel",
      "state": {}
     },
     "98938ff67d644b7da7d30916834e7b16": {
      "model_module": "@jupyter-widgets/base",
      "model_module_version": "1.0.0",
      "model_name": "LayoutModel",
      "state": {}
     },
     "989e662b020b41629385747b33a31839": {
      "model_module": "@jupyter-widgets/base",
      "model_module_version": "1.0.0",
      "model_name": "LayoutModel",
      "state": {}
     },
     "99338c91601442f29d44c588fd3953c5": {
      "model_module": "@jupyter-widgets/base",
      "model_module_version": "1.0.0",
      "model_name": "LayoutModel",
      "state": {}
     },
     "993cbb1bcc3e413eb1051b531fb771d8": {
      "model_module": "jp_proxy_widget",
      "model_module_version": "^0.3.4",
      "model_name": "JSProxyModel",
      "state": {
       "_model_module_version": "^0.3.4",
       "_send_counter": 2,
       "_view_module_version": "^0.3.4",
       "error_msg": "No error",
       "layout": "IPY_MODEL_3abc110b042141428d84eef5b3854b29",
       "rendered": true,
       "status": "Got results."
      }
     },
     "998022a0fd114697a7bddeec3eb2c93a": {
      "model_module": "@jupyter-widgets/controls",
      "model_module_version": "1.0.0",
      "model_name": "TabModel",
      "state": {
       "_titles": {
        "0": "Canvas",
        "1": "Snapshot"
       },
       "children": [
        "IPY_MODEL_203fe0ca98ac4274b6a300e3cafdf793",
        "IPY_MODEL_ce62e947985f4c0a9bee22327e52ae52"
       ],
       "layout": "IPY_MODEL_747c1a608462481ea4f082e027762dc1"
      }
     },
     "9a9cf2d51c8c4058b089deeb934acfd0": {
      "model_module": "jp_proxy_widget",
      "model_module_version": "^0.3.4",
      "model_name": "JSProxyModel",
      "state": {
       "_model_module_version": "^0.3.4",
       "_send_counter": 10,
       "_view_module_version": "^0.3.4",
       "error_msg": "No error",
       "layout": "IPY_MODEL_273ac7bcd7394e6e8746fb7ef48a4523",
       "rendered": true,
       "status": "Got results."
      }
     },
     "9aa72e267a9c454798e5269f69daacd5": {
      "model_module": "@jupyter-widgets/base",
      "model_module_version": "1.0.0",
      "model_name": "LayoutModel",
      "state": {}
     },
     "9aec189543ca4b59af2d52a8b9a72416": {
      "model_module": "@jupyter-widgets/base",
      "model_module_version": "1.0.0",
      "model_name": "LayoutModel",
      "state": {}
     },
     "9af38d7535e44947987490b0b621923c": {
      "model_module": "@jupyter-widgets/controls",
      "model_module_version": "1.0.0",
      "model_name": "TabModel",
      "state": {
       "_titles": {
        "0": "Canvas",
        "1": "Snapshot"
       },
       "children": [
        "IPY_MODEL_020d626092524e3090e16e555e13f23d",
        "IPY_MODEL_d92dc774baa042f5a1ff60041d3800bd"
       ],
       "layout": "IPY_MODEL_32a14d1f8297416ebbf39f6c42387c80"
      }
     },
     "9afba9c8c3a343a5bd11c997b017c192": {
      "model_module": "@jupyter-widgets/controls",
      "model_module_version": "1.0.0",
      "model_name": "TabModel",
      "state": {
       "_titles": {
        "0": "Canvas",
        "1": "Snapshot"
       },
       "children": [
        "IPY_MODEL_c0e7311b699a4e2f89ca0dc686ed98c6",
        "IPY_MODEL_4f9f3fb9ec1c4e81b2d3376fcf607252"
       ],
       "layout": "IPY_MODEL_5f431c0425204fb398d904147ba6ae51",
       "selected_index": 1
      }
     },
     "9b08578b1a71414b9bd572aabc6b524e": {
      "model_module": "@jupyter-widgets/base",
      "model_module_version": "1.0.0",
      "model_name": "LayoutModel",
      "state": {}
     },
     "9c09def3e55742ce8aceec7c2516f039": {
      "model_module": "@jupyter-widgets/controls",
      "model_module_version": "1.0.0",
      "model_name": "HTMLModel",
      "state": {
       "layout": "IPY_MODEL_38852ec6954d4658a6fc178dc700e3c3",
       "style": "IPY_MODEL_c74a99b4b1784f5995c78fdc2dc51ad4",
       "value": "<img src=\"color_chooser2.png\" id=\"snapshot_id_5_1536694769599\"/>\n <div id=\"snapshot_id_6_1536694769599\">color_chooser2.png</div>"
      }
     },
     "9c5c852435774a61ad9bc441c476edc2": {
      "model_module": "@jupyter-widgets/base",
      "model_module_version": "1.0.0",
      "model_name": "LayoutModel",
      "state": {}
     },
     "9c8014e70e034d388388ebc5bdb34435": {
      "model_module": "jp_proxy_widget",
      "model_module_version": "^0.3.4",
      "model_name": "JSProxyModel",
      "state": {
       "_model_module_version": "^0.3.4",
       "_send_counter": 10,
       "_view_module_version": "^0.3.4",
       "error_msg": "No error",
       "layout": "IPY_MODEL_31b2d01ca7ce4bd69498339064413b55",
       "rendered": true,
       "status": "Got results."
      }
     },
     "9cf3cf45b62e4708a2e2ac6d8e9f45ae": {
      "model_module": "@jupyter-widgets/base",
      "model_module_version": "1.0.0",
      "model_name": "LayoutModel",
      "state": {}
     },
     "9d3ee4770ff541b3923070f8bd2a8a95": {
      "model_module": "@jupyter-widgets/base",
      "model_module_version": "1.0.0",
      "model_name": "LayoutModel",
      "state": {}
     },
     "9dbb4ab6bcc74f65ad946b8e3849b852": {
      "model_module": "@jupyter-widgets/base",
      "model_module_version": "1.0.0",
      "model_name": "LayoutModel",
      "state": {}
     },
     "9dfb2690f4f449278cf87bae52e281b4": {
      "model_module": "@jupyter-widgets/base",
      "model_module_version": "1.0.0",
      "model_name": "LayoutModel",
      "state": {}
     },
     "9e1250a462664a54a8c1bac51ea6404e": {
      "model_module": "@jupyter-widgets/base",
      "model_module_version": "1.0.0",
      "model_name": "LayoutModel",
      "state": {}
     },
     "9e3c5a325927442ea6c7d7b7f19f7774": {
      "model_module": "@jupyter-widgets/base",
      "model_module_version": "1.0.0",
      "model_name": "LayoutModel",
      "state": {}
     },
     "9ecf1efe671743138af17d4e9ecc61f6": {
      "model_module": "@jupyter-widgets/controls",
      "model_module_version": "1.0.0",
      "model_name": "DescriptionStyleModel",
      "state": {
       "description_width": ""
      }
     },
     "9fc83a7990b5450d8803a079473f6269": {
      "model_module": "@jupyter-widgets/controls",
      "model_module_version": "1.0.0",
      "model_name": "DescriptionStyleModel",
      "state": {
       "description_width": ""
      }
     },
     "9fe13794840c41e6a730530e3c31cedd": {
      "model_module": "jp_proxy_widget",
      "model_module_version": "^0.3.4",
      "model_name": "JSProxyModel",
      "state": {
       "_model_module_version": "^0.3.4",
       "_send_counter": 10,
       "_view_module_version": "^0.3.4",
       "error_msg": "ReferenceError: x is not defined",
       "layout": "IPY_MODEL_ed0d6aec8f734c2b8981469d64576111",
       "rendered": true,
       "status": "Rendered."
      }
     },
     "a02949154d7f47c6b6b1d457a869df58": {
      "model_module": "@jupyter-widgets/controls",
      "model_module_version": "1.0.0",
      "model_name": "VBoxModel",
      "state": {
       "children": [
        "IPY_MODEL_df5cbeba99494a5b9851a769370a92ab",
        "IPY_MODEL_2bb180bc32304d2f8837661b971015dd"
       ],
       "layout": "IPY_MODEL_ea79b9ffa82645a484e71f1b183cdb6a"
      }
     },
     "a0388231bc7347de8fed8c4fc18f04dc": {
      "model_module": "@jupyter-widgets/controls",
      "model_module_version": "1.0.0",
      "model_name": "TabModel",
      "state": {
       "_titles": {
        "0": "Canvas",
        "1": "Snapshot"
       },
       "children": [
        "IPY_MODEL_f761a6686c764a3ca4bdca6f7f17311a",
        "IPY_MODEL_6d604766adec4d8bbe83ec603f5edfa4"
       ],
       "layout": "IPY_MODEL_63dab0c05634477ca48884d3abc99f61"
      }
     },
     "a0428aa777114c2895131c3d5a241baa": {
      "model_module": "@jupyter-widgets/controls",
      "model_module_version": "1.0.0",
      "model_name": "HTMLModel",
      "state": {
       "layout": "IPY_MODEL_d142a3dafa184ccbb6eb5b3f1882fb90",
       "style": "IPY_MODEL_94a831da605143a59ac539270b49219d",
       "value": "<img src=\"color_chooser.png\" id=\"snapshot_id_1_1536689507271\"/>\n <div id=\"snapshot_id_2_1536689507271\">color_chooser.png</div>"
      }
     },
     "a1d29d022b314ca3b2dc6f3be0b467f9": {
      "model_module": "@jupyter-widgets/base",
      "model_module_version": "1.0.0",
      "model_name": "LayoutModel",
      "state": {}
     },
     "a279c7d78594475e8d8279a56441bab2": {
      "model_module": "@jupyter-widgets/base",
      "model_module_version": "1.0.0",
      "model_name": "LayoutModel",
      "state": {}
     },
     "a27e61aa526d46e2be2b4e06b6c26be4": {
      "model_module": "@jupyter-widgets/base",
      "model_module_version": "1.0.0",
      "model_name": "LayoutModel",
      "state": {}
     },
     "a2c0430c43e34980b299d9068f207cd2": {
      "model_module": "jp_proxy_widget",
      "model_module_version": "^0.3.4",
      "model_name": "JSProxyModel",
      "state": {
       "_model_module_version": "^0.3.4",
       "_send_counter": 8,
       "_view_module_version": "^0.3.4",
       "error_msg": "No error",
       "layout": "IPY_MODEL_c0d1b7d38dc2427fb86031156c88cc2c",
       "rendered": true,
       "status": "Got results."
      }
     },
     "a322104e709b4bc59970f139f528b298": {
      "model_module": "@jupyter-widgets/base",
      "model_module_version": "1.0.0",
      "model_name": "LayoutModel",
      "state": {}
     },
     "a45412a3d2f74fd8962e12d3294acf44": {
      "model_module": "jp_proxy_widget",
      "model_module_version": "^0.3.4",
      "model_name": "JSProxyModel",
      "state": {
       "_model_module_version": "^0.3.4",
       "_send_counter": 2,
       "_view_module_version": "^0.3.4",
       "error_msg": "No error",
       "layout": "IPY_MODEL_fb34a9e5019a438c9e96f1cb12db79a6",
       "rendered": true,
       "status": "Got results."
      }
     },
     "a4b4d753ef2a44fbafeb7b39e3b34d84": {
      "model_module": "@jupyter-widgets/base",
      "model_module_version": "1.0.0",
      "model_name": "LayoutModel",
      "state": {}
     },
     "a57e678fe0de4d4aa3fda888103cf43f": {
      "model_module": "jp_proxy_widget",
      "model_module_version": "^0.3.4",
      "model_name": "JSProxyModel",
      "state": {
       "_model_module_version": "^0.3.4",
       "_send_counter": 2,
       "_view_module_version": "^0.3.4",
       "error_msg": "No error",
       "layout": "IPY_MODEL_dd27b6bdd794436fabbb8128f3c875d7",
       "rendered": true,
       "status": "Got results."
      }
     },
     "a58f3690fe884d748b0d97edb9872ee8": {
      "model_module": "@jupyter-widgets/base",
      "model_module_version": "1.0.0",
      "model_name": "LayoutModel",
      "state": {}
     },
     "a59a11e3bb5745589b3a40ac34cfaea8": {
      "model_module": "@jupyter-widgets/controls",
      "model_module_version": "1.0.0",
      "model_name": "DescriptionStyleModel",
      "state": {
       "description_width": ""
      }
     },
     "a6047fffe3394d3a8db2c6ddc307ee63": {
      "model_module": "@jupyter-widgets/controls",
      "model_module_version": "1.0.0",
      "model_name": "TabModel",
      "state": {
       "_titles": {
        "0": "Canvas",
        "1": "Snapshot"
       },
       "children": [
        "IPY_MODEL_6cd04ca3023a4c8ab7bf3d6554ed78ea",
        "IPY_MODEL_c6818ec833714991b56cd129515b0ced"
       ],
       "layout": "IPY_MODEL_83526904a99c495b847e2e70ce8d2e06"
      }
     },
     "a639b79b7eca4498991d0f4438b7c5c0": {
      "model_module": "@jupyter-widgets/base",
      "model_module_version": "1.0.0",
      "model_name": "LayoutModel",
      "state": {}
     },
     "a651161b79764ef9907c9f0e268379a0": {
      "model_module": "@jupyter-widgets/base",
      "model_module_version": "1.0.0",
      "model_name": "LayoutModel",
      "state": {}
     },
     "a6e1a9312abe4f30bd76b2147ea09ecb": {
      "model_module": "@jupyter-widgets/controls",
      "model_module_version": "1.0.0",
      "model_name": "DescriptionStyleModel",
      "state": {
       "description_width": ""
      }
     },
     "a6e95f6ded5545449aa49c550a07dab1": {
      "model_module": "jp_proxy_widget",
      "model_module_version": "^0.3.4",
      "model_name": "JSProxyModel",
      "state": {
       "_model_module_version": "^0.3.4",
       "_send_counter": 10,
       "_view_module_version": "^0.3.4",
       "error_msg": "TypeError: context.resore is not a function",
       "layout": "IPY_MODEL_dabd515ab5c14dc6804899de000105ab",
       "rendered": true,
       "status": "Rendered."
      }
     },
     "a7431e478e424423be9ed39b6a4783a7": {
      "model_module": "jp_proxy_widget",
      "model_module_version": "^0.3.4",
      "model_name": "JSProxyModel",
      "state": {
       "_model_module_version": "^0.3.4",
       "_send_counter": 8,
       "_view_module_version": "^0.3.4",
       "error_msg": "No error",
       "layout": "IPY_MODEL_d1031a73dd8b4fb2ad2e3d5f82ad4e4a",
       "rendered": true,
       "status": "Got results."
      }
     },
     "a74b93fac7c64487838578c86ace8aa6": {
      "model_module": "@jupyter-widgets/base",
      "model_module_version": "1.0.0",
      "model_name": "LayoutModel",
      "state": {}
     },
     "a78e455a291e4653af4e49baba68d8fe": {
      "model_module": "jp_proxy_widget",
      "model_module_version": "^0.3.4",
      "model_name": "JSProxyModel",
      "state": {
       "_model_module_version": "^0.3.4",
       "_send_counter": 9,
       "_view_module_version": "^0.3.4",
       "error_msg": "No error",
       "layout": "IPY_MODEL_5d4b6d817e3a4b118239731e4dd1647c",
       "rendered": true,
       "status": "Got results."
      }
     },
     "a7ca3ff2a50148b2b88c0c53a64cac84": {
      "model_module": "jp_proxy_widget",
      "model_module_version": "^0.3.4",
      "model_name": "JSProxyModel",
      "state": {
       "_model_module_version": "^0.3.4",
       "_send_counter": 2,
       "_view_module_version": "^0.3.4",
       "error_msg": "No error",
       "layout": "IPY_MODEL_b9407bbc5c6549e3a8873a9b6b11171d",
       "rendered": true,
       "status": "Got results."
      }
     },
     "a84adef53d0e44f4a4f722f0db097718": {
      "model_module": "@jupyter-widgets/base",
      "model_module_version": "1.0.0",
      "model_name": "LayoutModel",
      "state": {}
     },
     "a85efe95f6cc44218aa0ffcb56b7b10b": {
      "model_module": "@jupyter-widgets/controls",
      "model_module_version": "1.0.0",
      "model_name": "DescriptionStyleModel",
      "state": {
       "description_width": ""
      }
     },
     "a87b4efb764a4e4f8ce85a673f74966d": {
      "model_module": "@jupyter-widgets/controls",
      "model_module_version": "1.0.0",
      "model_name": "HTMLModel",
      "state": {
       "layout": "IPY_MODEL_637a9edbedb54a62b999bb838a7cb9ff",
       "style": "IPY_MODEL_9ecf1efe671743138af17d4e9ecc61f6",
       "value": "<img src=\"color_chooser2.png\" id=\"snapshot_id_3_1537454562784\"/>\n <div id=\"snapshot_id_4_1537454562784\">color_chooser2.png</div>"
      }
     },
     "a8ecd0992330488089992e7ddbf7bce1": {
      "model_module": "@jupyter-widgets/controls",
      "model_module_version": "1.0.0",
      "model_name": "VBoxModel",
      "state": {
       "children": [
        "IPY_MODEL_dee3940fa4c14c0dbe6fce1e830ff386",
        "IPY_MODEL_1cc61b971a23495a9048750fccb1c085"
       ],
       "layout": "IPY_MODEL_ccfa98cb0db3429490ea0df3387453af"
      }
     },
     "a8f1bdd73eba4ebc9d5e64b8931f9713": {
      "model_module": "@jupyter-widgets/base",
      "model_module_version": "1.0.0",
      "model_name": "LayoutModel",
      "state": {}
     },
     "a95ff4db3bbc4213989f93eb5872c7d0": {
      "model_module": "@jupyter-widgets/base",
      "model_module_version": "1.0.0",
      "model_name": "LayoutModel",
      "state": {}
     },
     "aa0f15bc1d884b8f8cf6bf64e002495d": {
      "model_module": "jp_proxy_widget",
      "model_module_version": "^0.3.4",
      "model_name": "JSProxyModel",
      "state": {
       "_model_module_version": "^0.3.4",
       "_send_counter": 2,
       "_view_module_version": "^0.3.4",
       "error_msg": "No error",
       "layout": "IPY_MODEL_c8941cdaa4b04eeab0d5f07896264a50",
       "rendered": true,
       "status": "call back to <function callback_function at 0x1070a60c8>"
      }
     },
     "aa919bd0bec54e2ebfdc43ef455ca46c": {
      "model_module": "@jupyter-widgets/controls",
      "model_module_version": "1.0.0",
      "model_name": "HTMLModel",
      "state": {
       "layout": "IPY_MODEL_0033b9f4c108422ea2c7d4e9b72cda51",
       "style": "IPY_MODEL_e587cd34c60d4350b164c4ce45946fc3",
       "value": "<img src=\"color_chooser2.png\" id=\"snapshot_id_11_1536695492579\"/>\n <div id=\"snapshot_id_12_1536695492579\">color_chooser2.png</div>"
      }
     },
     "aacfe3fa735b45fbbae5c9a77132e1b9": {
      "model_module": "@jupyter-widgets/controls",
      "model_module_version": "1.0.0",
      "model_name": "TabModel",
      "state": {
       "_titles": {
        "0": "Canvas",
        "1": "Snapshot"
       },
       "children": [
        "IPY_MODEL_65f0b1bedf1b4685b0849ec7d14a05ed",
        "IPY_MODEL_865789b34a3c4291870723bfe91e86de"
       ],
       "layout": "IPY_MODEL_46892fe2c67248c3a647922c5b2aa5c8"
      }
     },
     "ab6d8bb5303f441398ad8e057ff242d1": {
      "model_module": "@jupyter-widgets/controls",
      "model_module_version": "1.0.0",
      "model_name": "TabModel",
      "state": {
       "_titles": {
        "0": "Canvas",
        "1": "Snapshot"
       },
       "children": [
        "IPY_MODEL_0cf70957d67c49e78a1db911e24b0275",
        "IPY_MODEL_11d22633f8bb4f3bb9daa93151340eea"
       ],
       "layout": "IPY_MODEL_832ee76af8df4465bd01da91114a4061"
      }
     },
     "abcc722d68494950ba58dacd151d608d": {
      "model_module": "@jupyter-widgets/controls",
      "model_module_version": "1.0.0",
      "model_name": "TabModel",
      "state": {
       "_titles": {
        "0": "Canvas",
        "1": "Snapshot"
       },
       "children": [
        "IPY_MODEL_1ee5b281baba4f5ba67eeae73c49944f",
        "IPY_MODEL_8fbf138f9f504e309907888c53447049"
       ],
       "layout": "IPY_MODEL_f7657889da834a1486ff5d9497a704a5"
      }
     },
     "abd74704053f44c5aec3eacf86b3df64": {
      "model_module": "@jupyter-widgets/controls",
      "model_module_version": "1.0.0",
      "model_name": "HTMLModel",
      "state": {
       "layout": "IPY_MODEL_6b7d7599d07c45a48b4ea34a72bbb68f",
       "style": "IPY_MODEL_5da596b07640400eb903eeb39ebe40df",
       "value": "<img src=\"color_chooser.png\" id=\"snapshot_id_3_1536692361905\"/>\n <div id=\"snapshot_id_4_1536692361905\">color_chooser.png</div>"
      }
     },
     "abda175f2eff4985891302559cd53b59": {
      "model_module": "jp_proxy_widget",
      "model_module_version": "^0.3.4",
      "model_name": "JSProxyModel",
      "state": {
       "_model_module_version": "^0.3.4",
       "_send_counter": 15,
       "_view_module_version": "^0.3.4",
       "error_msg": "No error",
       "layout": "IPY_MODEL_1d9d57a678fe412394d85098e999b015",
       "rendered": true,
       "status": "Got results."
      }
     },
     "ac1deeb80767492283edb27e671db151": {
      "model_module": "@jupyter-widgets/controls",
      "model_module_version": "1.0.0",
      "model_name": "DescriptionStyleModel",
      "state": {
       "description_width": ""
      }
     },
     "ac36c299b7a743e3902d6fd460767db8": {
      "model_module": "@jupyter-widgets/controls",
      "model_module_version": "1.0.0",
      "model_name": "HTMLModel",
      "state": {
       "layout": "IPY_MODEL_5a16e25eced045f5be0130637607811c",
       "style": "IPY_MODEL_e1dd797b41b349e7b0944f798135d330",
       "value": "<img src=\"color_chooser2.png\" id=\"snapshot_id_1_1537454546814\"/>\n <div id=\"snapshot_id_2_1537454546814\">color_chooser2.png</div>"
      }
     },
     "aca824a644f4452e8bf0f89c2dd82af6": {
      "model_module": "@jupyter-widgets/base",
      "model_module_version": "1.0.0",
      "model_name": "LayoutModel",
      "state": {}
     },
     "acfe884b601b4d1e8c9fa1cc22345a4e": {
      "model_module": "@jupyter-widgets/base",
      "model_module_version": "1.0.0",
      "model_name": "LayoutModel",
      "state": {}
     },
     "add748f514a44efc82d1045a3e6f75c2": {
      "model_module": "@jupyter-widgets/controls",
      "model_module_version": "1.0.0",
      "model_name": "VBoxModel",
      "state": {
       "children": [
        "IPY_MODEL_2e5c3782abc64e87bd8db13db280694c",
        "IPY_MODEL_738512fbf27d404aac2a75e55870c8da"
       ],
       "layout": "IPY_MODEL_24638b8679104b769e9505722ae9fd61"
      }
     },
     "ae69cea93bb54e68ad6f5d1a1cca9183": {
      "model_module": "@jupyter-widgets/controls",
      "model_module_version": "1.0.0",
      "model_name": "VBoxModel",
      "state": {
       "children": [
        "IPY_MODEL_9fe13794840c41e6a730530e3c31cedd",
        "IPY_MODEL_e70a8403c1e4400da3dffd99c97aff00"
       ],
       "layout": "IPY_MODEL_56c651bd589f4a6ea136b2b240bfc55a"
      }
     },
     "aef57cec0c2d48f489a6530b6d0c80aa": {
      "model_module": "@jupyter-widgets/base",
      "model_module_version": "1.0.0",
      "model_name": "LayoutModel",
      "state": {}
     },
     "aeff15a635354ae896569f1a9d9d56e0": {
      "model_module": "@jupyter-widgets/controls",
      "model_module_version": "1.0.0",
      "model_name": "DescriptionStyleModel",
      "state": {
       "description_width": ""
      }
     },
     "af7c9a03a1d647f6a4686771c407dcf6": {
      "model_module": "@jupyter-widgets/base",
      "model_module_version": "1.0.0",
      "model_name": "LayoutModel",
      "state": {}
     },
     "af8d164bb9934fbb99c9717378bb4afe": {
      "model_module": "@jupyter-widgets/controls",
      "model_module_version": "1.0.0",
      "model_name": "VBoxModel",
      "state": {
       "children": [
        "IPY_MODEL_bd4493ee04f04efcb560888485ce2edf",
        "IPY_MODEL_19283d010a0d43bf9ddb72703a0f13be"
       ],
       "layout": "IPY_MODEL_0613de5197484e46894e07219abf6f36"
      }
     },
     "afc3b076465f4f99b56898d51007294b": {
      "model_module": "@jupyter-widgets/base",
      "model_module_version": "1.0.0",
      "model_name": "LayoutModel",
      "state": {}
     },
     "b01e3e0688cd4f63a182e6bff978bddc": {
      "model_module": "@jupyter-widgets/controls",
      "model_module_version": "1.0.0",
      "model_name": "DescriptionStyleModel",
      "state": {
       "description_width": ""
      }
     },
     "b052db0dff634431bed696138b0af373": {
      "model_module": "@jupyter-widgets/base",
      "model_module_version": "1.0.0",
      "model_name": "LayoutModel",
      "state": {}
     },
     "b087868854fc41378bc9fa5704006b67": {
      "model_module": "@jupyter-widgets/base",
      "model_module_version": "1.0.0",
      "model_name": "LayoutModel",
      "state": {}
     },
     "b0b8bb75cb3f4276b906e08738853641": {
      "model_module": "@jupyter-widgets/controls",
      "model_module_version": "1.0.0",
      "model_name": "HTMLModel",
      "state": {
       "layout": "IPY_MODEL_6a794181847a44839420a595e8b49f66",
       "style": "IPY_MODEL_b01e3e0688cd4f63a182e6bff978bddc",
       "value": "<img src=\"color_chooser.png\" id=\"snapshot_id_1_1536677437697\"/>\n <div id=\"snapshot_id_2_1536677437697\">color_chooser.png</div>"
      }
     },
     "b0f4eb68772347f6ab6374b8df02f1c0": {
      "model_module": "@jupyter-widgets/controls",
      "model_module_version": "1.0.0",
      "model_name": "HTMLModel",
      "state": {
       "layout": "IPY_MODEL_1e9a06c1ebdf466099b1c3702e7f7583",
       "style": "IPY_MODEL_dde17f15683943f59463796a5b6e7262",
       "value": "<img src=\"color_chooser.png\" id=\"snapshot_id_1_1536677766858\"/>\n <div id=\"snapshot_id_2_1536677766858\">color_chooser.png</div>"
      }
     },
     "b1242cdfa5f24489be591274791975e0": {
      "model_module": "jp_proxy_widget",
      "model_module_version": "^0.3.4",
      "model_name": "JSProxyModel",
      "state": {
       "_model_module_version": "^0.3.4",
       "_send_counter": 8,
       "_view_module_version": "^0.3.4",
       "error_msg": "No error",
       "layout": "IPY_MODEL_8a4e899931994430b1916d8fb445115f",
       "rendered": true,
       "status": "Got results."
      }
     },
     "b130899b5ff64325a65311b5a7cdc387": {
      "model_module": "@jupyter-widgets/base",
      "model_module_version": "1.0.0",
      "model_name": "LayoutModel",
      "state": {}
     },
     "b236269de3334776bf1cf4989170f60f": {
      "model_module": "@jupyter-widgets/base",
      "model_module_version": "1.0.0",
      "model_name": "LayoutModel",
      "state": {}
     },
     "b29a8bebcfea4ee69801b994b251e645": {
      "model_module": "@jupyter-widgets/base",
      "model_module_version": "1.0.0",
      "model_name": "LayoutModel",
      "state": {}
     },
     "b2c3a3799a004cf2af89e1e0cfedc124": {
      "model_module": "jp_proxy_widget",
      "model_module_version": "^0.3.4",
      "model_name": "JSProxyModel",
      "state": {
       "_model_module_version": "^0.3.4",
       "_send_counter": 2,
       "_view_module_version": "^0.3.4",
       "error_msg": "No error",
       "layout": "IPY_MODEL_12f4552e70eb4435b52d0c9291a7543a",
       "rendered": true,
       "status": "call back to <function callback_function at 0x111a5a8c0>"
      }
     },
     "b363f10b30294c51985359dd802de699": {
      "model_module": "jp_proxy_widget",
      "model_module_version": "^0.3.4",
      "model_name": "JSProxyModel",
      "state": {
       "_model_module_version": "^0.3.4",
       "_send_counter": 2,
       "_view_module_version": "^0.3.4",
       "error_msg": "No error",
       "layout": "IPY_MODEL_3d4d4bf8fac0450b830d57aa3eacde82",
       "rendered": true,
       "status": "Got results."
      }
     },
     "b38cd49415cb4097a41415740ea35978": {
      "model_module": "@jupyter-widgets/base",
      "model_module_version": "1.0.0",
      "model_name": "LayoutModel",
      "state": {}
     },
     "b3b66337e8494a849ea35d962980e9fd": {
      "model_module": "@jupyter-widgets/controls",
      "model_module_version": "1.0.0",
      "model_name": "HTMLModel",
      "state": {
       "layout": "IPY_MODEL_a8f1bdd73eba4ebc9d5e64b8931f9713",
       "style": "IPY_MODEL_03cb0fb6aeb840068f0b057f0cf9f2db",
       "value": "<img src=\"color_chooser.png\" id=\"snapshot_id_26_1536689336578\"/>\n <div id=\"snapshot_id_27_1536689336578\">color_chooser.png</div>"
      }
     },
     "b3ce636a34d04fb99a000f93a0ae3131": {
      "model_module": "@jupyter-widgets/controls",
      "model_module_version": "1.0.0",
      "model_name": "HTMLModel",
      "state": {
       "layout": "IPY_MODEL_dd52b77ec8f94d238eb4b3c4cf54194a",
       "style": "IPY_MODEL_e2c3e8405b3f4934b85e6f6ca38d5071",
       "value": "<img src=\"color_chooser.png\" id=\"snapshot_id_15_1536683148121\"/>\n <div id=\"snapshot_id_16_1536683148121\">color_chooser.png</div>"
      }
     },
     "b4221cd0db6249ecb4702cc182af5620": {
      "model_module": "@jupyter-widgets/controls",
      "model_module_version": "1.0.0",
      "model_name": "TabModel",
      "state": {
       "_titles": {
        "0": "Canvas",
        "1": "Snapshot"
       },
       "children": [
        "IPY_MODEL_8d6c79c34bdf4e7b9ea0d4ed87537776",
        "IPY_MODEL_561d4e9f6b074bceabc0f04138b9fe87"
       ],
       "layout": "IPY_MODEL_757873cc205d4f8f982e0895a3979b90"
      }
     },
     "b4cf94b31fd64a5f8d401bef16558f09": {
      "model_module": "@jupyter-widgets/controls",
      "model_module_version": "1.0.0",
      "model_name": "DescriptionStyleModel",
      "state": {
       "description_width": ""
      }
     },
     "b4fa86ade1bb42e09f81066043589f3e": {
      "model_module": "@jupyter-widgets/base",
      "model_module_version": "1.0.0",
      "model_name": "LayoutModel",
      "state": {}
     },
     "b56cac9e8d0a4d95ac5c8575dbf84d4f": {
      "model_module": "@jupyter-widgets/controls",
      "model_module_version": "1.0.0",
      "model_name": "DescriptionStyleModel",
      "state": {
       "description_width": ""
      }
     },
     "b61c8003053c4196a98541b31d019b89": {
      "model_module": "@jupyter-widgets/controls",
      "model_module_version": "1.0.0",
      "model_name": "HTMLModel",
      "state": {
       "layout": "IPY_MODEL_3a7656cfbdb643aa9732571175758da1",
       "style": "IPY_MODEL_81adcb284ff0403fad751109129370de",
       "value": "<img src=\"color_chooser.png\" id=\"snapshot_id_1_1536689436589\"/>\n <div id=\"snapshot_id_2_1536689436589\">color_chooser.png</div>"
      }
     },
     "b6708a7757a047f1999cf257af2c9631": {
      "model_module": "@jupyter-widgets/base",
      "model_module_version": "1.0.0",
      "model_name": "LayoutModel",
      "state": {}
     },
     "b67ee65bf6e04e5aa4e04cc1b4ee1350": {
      "model_module": "@jupyter-widgets/base",
      "model_module_version": "1.0.0",
      "model_name": "LayoutModel",
      "state": {}
     },
     "b691fd39fe154c48bd4fe8f4f3d67ab8": {
      "model_module": "@jupyter-widgets/controls",
      "model_module_version": "1.0.0",
      "model_name": "HTMLModel",
      "state": {
       "layout": "IPY_MODEL_4160f7034c454ef989455c8c333ec19b",
       "style": "IPY_MODEL_df4e29d1aa0f460588d0bbba357275ed",
       "value": "<img src=\"color_chooser.png\" id=\"snapshot_id_5_1536674475167\"/>\n <div id=\"snapshot_id_6_1536674475167\">color_chooser.png</div>"
      }
     },
     "b6b6c0e27c4a4ecb9ccc0ca438529152": {
      "model_module": "jp_proxy_widget",
      "model_module_version": "^0.3.4",
      "model_name": "JSProxyModel",
      "state": {
       "_model_module_version": "^0.3.4",
       "_send_counter": 8,
       "_view_module_version": "^0.3.4",
       "error_msg": "No error",
       "layout": "IPY_MODEL_6c9552b9714348038104eaf78cdba111",
       "rendered": true,
       "status": "Got results."
      }
     },
     "b6e7bd8936cf417ead55096ea531caa5": {
      "model_module": "@jupyter-widgets/controls",
      "model_module_version": "1.0.0",
      "model_name": "HTMLModel",
      "state": {
       "layout": "IPY_MODEL_eeff2a3b17444d0090a540653209a389",
       "style": "IPY_MODEL_437e8f7021494ed98142c4c2c1fd786e",
       "value": "<img src=\"color_chooser.png\" id=\"snapshot_id_5_1536681637107\"/>\n <div id=\"snapshot_id_6_1536681637107\">color_chooser.png</div>"
      }
     },
     "b7002175c0e74a5e9e04d6d79b2117a5": {
      "model_module": "@jupyter-widgets/controls",
      "model_module_version": "1.0.0",
      "model_name": "DescriptionStyleModel",
      "state": {
       "description_width": ""
      }
     },
     "b85ca1ed426945ee866a5f038d898128": {
      "model_module": "@jupyter-widgets/base",
      "model_module_version": "1.0.0",
      "model_name": "LayoutModel",
      "state": {}
     },
     "b86099ff07ec42f4817442ed6a9ed2d9": {
      "model_module": "@jupyter-widgets/controls",
      "model_module_version": "1.0.0",
      "model_name": "DescriptionStyleModel",
      "state": {
       "description_width": ""
      }
     },
     "b860c9e187c247c4b58a21c4d4f18d9a": {
      "model_module": "@jupyter-widgets/controls",
      "model_module_version": "1.0.0",
      "model_name": "VBoxModel",
      "state": {
       "children": [
        "IPY_MODEL_5ca84fafd6454696b5f1e51b42686833",
        "IPY_MODEL_c510ba8573234f15946854bb6eecdd69"
       ],
       "layout": "IPY_MODEL_62411be87dc649599bdcae7b1597847f"
      }
     },
     "b8e0744d66e1496eb312317428dd001e": {
      "model_module": "jp_proxy_widget",
      "model_module_version": "^0.3.4",
      "model_name": "JSProxyModel",
      "state": {
       "_model_module_version": "^0.3.4",
       "_send_counter": 2,
       "_view_module_version": "^0.3.4",
       "error_msg": "No error",
       "layout": "IPY_MODEL_39886fed28c44a58a84309db8035cda9",
       "rendered": true,
       "status": "call back to <function callback_function at 0x11027a488>"
      }
     },
     "b8f42f0b2a3945e78966269fe684aba3": {
      "model_module": "@jupyter-widgets/controls",
      "model_module_version": "1.0.0",
      "model_name": "VBoxModel",
      "state": {
       "children": [
        "IPY_MODEL_0bb5bb2b4f2846e4950f997f58cf5c44",
        "IPY_MODEL_7c11b7e6417741e9a107ba67acabef2b"
       ],
       "layout": "IPY_MODEL_6aabdd6a7c234a30851989eb45d1dd52"
      }
     },
     "b9407bbc5c6549e3a8873a9b6b11171d": {
      "model_module": "@jupyter-widgets/base",
      "model_module_version": "1.0.0",
      "model_name": "LayoutModel",
      "state": {}
     },
     "b94b4459ab91496a96ec93d07e25304d": {
      "model_module": "@jupyter-widgets/base",
      "model_module_version": "1.0.0",
      "model_name": "LayoutModel",
      "state": {}
     },
     "b953c1263ca64ca1becf90290fea3a64": {
      "model_module": "@jupyter-widgets/base",
      "model_module_version": "1.0.0",
      "model_name": "LayoutModel",
      "state": {}
     },
     "b9a7f94173714f40b432a7748b3652de": {
      "model_module": "jp_proxy_widget",
      "model_module_version": "^0.3.4",
      "model_name": "JSProxyModel",
      "state": {
       "_model_module_version": "^0.3.4",
       "_send_counter": 2,
       "_view_module_version": "^0.3.4",
       "error_msg": "No error",
       "layout": "IPY_MODEL_69cd362eba6d4d6aa91cc4eabf47d928",
       "rendered": true,
       "status": "Got results."
      }
     },
     "b9b05bf56fe1407f82f692f4344b6636": {
      "model_module": "@jupyter-widgets/base",
      "model_module_version": "1.0.0",
      "model_name": "LayoutModel",
      "state": {}
     },
     "b9d1605549e249d49c891fc27b03553e": {
      "model_module": "jp_proxy_widget",
      "model_module_version": "^0.3.4",
      "model_name": "JSProxyModel",
      "state": {
       "_model_module_version": "^0.3.4",
       "_send_counter": 10,
       "_view_module_version": "^0.3.4",
       "error_msg": "No error",
       "layout": "IPY_MODEL_4bb3f68a7c814b6984a9c401c37129dc",
       "rendered": true,
       "status": "Got results."
      }
     },
     "b9ead762d79c48e2b12b0ddd7c843390": {
      "model_module": "@jupyter-widgets/controls",
      "model_module_version": "1.0.0",
      "model_name": "VBoxModel",
      "state": {
       "children": [
        "IPY_MODEL_39625346953b40e6b7ab7110704bdc89",
        "IPY_MODEL_b8e0744d66e1496eb312317428dd001e"
       ],
       "layout": "IPY_MODEL_6097fb4cd51a4d2582f4ac1513ce08fb"
      }
     },
     "b9f7589003244b92805fd35afb2fd08f": {
      "model_module": "@jupyter-widgets/base",
      "model_module_version": "1.0.0",
      "model_name": "LayoutModel",
      "state": {}
     },
     "ba42580610624950a902a4c8b71118c9": {
      "model_module": "@jupyter-widgets/controls",
      "model_module_version": "1.0.0",
      "model_name": "TabModel",
      "state": {
       "_titles": {
        "0": "Canvas",
        "1": "Snapshot"
       },
       "children": [
        "IPY_MODEL_5388f0f3d7ff45e4884e875be809e7a3",
        "IPY_MODEL_7f7a5b2e0598424eb1296c83e8ee5001"
       ],
       "layout": "IPY_MODEL_04f06236cab6459292e3269247b8cf9e"
      }
     },
     "ba6d59be6ff248cd850dd1b8536ebf97": {
      "model_module": "@jupyter-widgets/controls",
      "model_module_version": "1.0.0",
      "model_name": "HTMLModel",
      "state": {
       "layout": "IPY_MODEL_9871a5426b44423eb8648a10c6c983ea",
       "style": "IPY_MODEL_a6e1a9312abe4f30bd76b2147ea09ecb",
       "value": "<img src=\"color_chooser.png\" id=\"snapshot_id_1_1536693204254\"/>\n <div id=\"snapshot_id_2_1536693204254\">color_chooser.png</div>"
      }
     },
     "ba8f65654a46483fb4c2c1aab08de010": {
      "model_module": "@jupyter-widgets/controls",
      "model_module_version": "1.0.0",
      "model_name": "HTMLModel",
      "state": {
       "layout": "IPY_MODEL_12f02a68b87146a58bf0aba08e80c378",
       "style": "IPY_MODEL_5a2cbaf79ecb4bf096546d32c3089f35",
       "value": "<img src=\"color_chooser.png\" id=\"snapshot_id_1_1536690163290\"/>\n <div id=\"snapshot_id_2_1536690163290\">color_chooser.png</div>"
      }
     },
     "ba9a5c482b24453fad08bf2687d71f3e": {
      "model_module": "@jupyter-widgets/controls",
      "model_module_version": "1.0.0",
      "model_name": "HTMLModel",
      "state": {
       "layout": "IPY_MODEL_579d5977d9a1451e8b4b265ae0507f39",
       "style": "IPY_MODEL_be6b24195e894e09a498d89d311759b0",
       "value": "<img src=\"color_chooser.png\" id=\"snapshot_id_3_1536692093353\"/>\n <div id=\"snapshot_id_4_1536692093353\">color_chooser.png</div>"
      }
     },
     "bb4e84af089249ca8492194ddd003beb": {
      "model_module": "@jupyter-widgets/base",
      "model_module_version": "1.0.0",
      "model_name": "LayoutModel",
      "state": {}
     },
     "bb52320e64994aa987cf4317cce3cc38": {
      "model_module": "jp_proxy_widget",
      "model_module_version": "^0.3.4",
      "model_name": "JSProxyModel",
      "state": {
       "_model_module_version": "^0.3.4",
       "_send_counter": 2,
       "_view_module_version": "^0.3.4",
       "error_msg": "No error",
       "layout": "IPY_MODEL_91584da5a81340d48b0d122d03afe097",
       "rendered": true,
       "status": "Got results."
      }
     },
     "bd4493ee04f04efcb560888485ce2edf": {
      "model_module": "jp_proxy_widget",
      "model_module_version": "^0.3.4",
      "model_name": "JSProxyModel",
      "state": {
       "_model_module_version": "^0.3.4",
       "_send_counter": 10,
       "_view_module_version": "^0.3.4",
       "error_msg": "No error",
       "layout": "IPY_MODEL_326355b082d844c7a169dca3b50a97ab",
       "rendered": true,
       "status": "Got results."
      }
     },
     "bd49ac7430864b84912bb0969f2a9db2": {
      "model_module": "@jupyter-widgets/controls",
      "model_module_version": "1.0.0",
      "model_name": "DescriptionStyleModel",
      "state": {
       "description_width": ""
      }
     },
     "be44b6b799074e08b341d67faf8e227c": {
      "model_module": "@jupyter-widgets/controls",
      "model_module_version": "1.0.0",
      "model_name": "VBoxModel",
      "state": {
       "children": [
        "IPY_MODEL_4c097f1d1bf343c7bbbedb8afa65e898",
        "IPY_MODEL_33f5027f619e43f89d8626ca0a02a3e8"
       ],
       "layout": "IPY_MODEL_78d0842e853c42b4bc786ded80370745"
      }
     },
     "be5d5bf291d2477da79c316382b60ced": {
      "model_module": "@jupyter-widgets/controls",
      "model_module_version": "1.0.0",
      "model_name": "VBoxModel",
      "state": {
       "children": [
        "IPY_MODEL_95644222a8aa45e8bc848ee58f9de63a",
        "IPY_MODEL_b9a7f94173714f40b432a7748b3652de"
       ],
       "layout": "IPY_MODEL_c85c33c66565489383f085a3a153027e"
      }
     },
     "be6b24195e894e09a498d89d311759b0": {
      "model_module": "@jupyter-widgets/controls",
      "model_module_version": "1.0.0",
      "model_name": "DescriptionStyleModel",
      "state": {
       "description_width": ""
      }
     },
     "be9cdd62f4444039b59cf91384521c79": {
      "model_module": "@jupyter-widgets/controls",
      "model_module_version": "1.0.0",
      "model_name": "VBoxModel",
      "state": {
       "children": [
        "IPY_MODEL_10cae45600e140b6ba84dda4d3288938",
        "IPY_MODEL_2c517a9e9a284220ac5440589cacf00d"
       ],
       "layout": "IPY_MODEL_dceeb28a7c694e11a09d73527f3f3199"
      }
     },
     "bec09224825e4653a7cbb3762174c2db": {
      "model_module": "@jupyter-widgets/base",
      "model_module_version": "1.0.0",
      "model_name": "LayoutModel",
      "state": {}
     },
     "bef46de57f4544069e109df34b847db7": {
      "model_module": "jp_proxy_widget",
      "model_module_version": "^0.3.4",
      "model_name": "JSProxyModel",
      "state": {
       "_model_module_version": "^0.3.4",
       "_send_counter": 8,
       "_view_module_version": "^0.3.4",
       "error_msg": "No error",
       "layout": "IPY_MODEL_68fc617d6f7a482fba054f9027be6c3f",
       "rendered": true,
       "status": "Got results."
      }
     },
     "befa755f48844f77a0404303701da22d": {
      "model_module": "jp_proxy_widget",
      "model_module_version": "^0.3.4",
      "model_name": "JSProxyModel",
      "state": {
       "_model_module_version": "^0.3.4",
       "_send_counter": 8,
       "_view_module_version": "^0.3.4",
       "error_msg": "No error",
       "layout": "IPY_MODEL_7504d1d57fdf40618d3a429081133542",
       "rendered": true,
       "status": "Got results."
      }
     },
     "bfc9d0e8d65a4fd081c40898c403ac15": {
      "model_module": "@jupyter-widgets/controls",
      "model_module_version": "1.0.0",
      "model_name": "VBoxModel",
      "state": {
       "children": [
        "IPY_MODEL_38018437628e431fb5bb9fa34f73f09d",
        "IPY_MODEL_ec91121f04db44b7b4d1b13655ba8e73"
       ],
       "layout": "IPY_MODEL_f5ffb42b335e44e199b6677551e85972"
      }
     },
     "bfd4e44987be44d6b55daca34ad7c92b": {
      "model_module": "@jupyter-widgets/controls",
      "model_module_version": "1.0.0",
      "model_name": "VBoxModel",
      "state": {
       "children": [
        "IPY_MODEL_78df77aa0bd4475c863f968557406594",
        "IPY_MODEL_505544df69f742d49af7bb7d08779752"
       ],
       "layout": "IPY_MODEL_7507364536404e5f90f1e0adb2880592"
      }
     },
     "c012f32b0674445d8dab343731f43c21": {
      "model_module": "@jupyter-widgets/base",
      "model_module_version": "1.0.0",
      "model_name": "LayoutModel",
      "state": {}
     },
     "c0473e309a6f44abb4ab61162bd2f62d": {
      "model_module": "@jupyter-widgets/controls",
      "model_module_version": "1.0.0",
      "model_name": "TabModel",
      "state": {
       "_titles": {
        "0": "Canvas",
        "1": "Snapshot"
       },
       "children": [
        "IPY_MODEL_c38b44278d0a4a718b2109129ae1ce7c",
        "IPY_MODEL_8247a3dbbf56460dabe864e5dde0f21a"
       ],
       "layout": "IPY_MODEL_4cbc60f164e74020a0b5952e3d4df616"
      }
     },
     "c08caa078d574c3ca2b6f8b11c7390cd": {
      "model_module": "@jupyter-widgets/base",
      "model_module_version": "1.0.0",
      "model_name": "LayoutModel",
      "state": {}
     },
     "c0b9fa2c46b049188dac67617e900a85": {
      "model_module": "@jupyter-widgets/controls",
      "model_module_version": "1.0.0",
      "model_name": "DescriptionStyleModel",
      "state": {
       "description_width": ""
      }
     },
     "c0d1b7d38dc2427fb86031156c88cc2c": {
      "model_module": "@jupyter-widgets/base",
      "model_module_version": "1.0.0",
      "model_name": "LayoutModel",
      "state": {}
     },
     "c0e7311b699a4e2f89ca0dc686ed98c6": {
      "model_module": "@jupyter-widgets/controls",
      "model_module_version": "1.0.0",
      "model_name": "VBoxModel",
      "state": {
       "children": [
        "IPY_MODEL_9c8014e70e034d388388ebc5bdb34435",
        "IPY_MODEL_2f0443d0e8b94b0497f5378056d70562"
       ],
       "layout": "IPY_MODEL_c839508a5163457b9dc836ca9b700a14"
      }
     },
     "c1907a119fbb41d3a9a9736fc8d4c111": {
      "model_module": "@jupyter-widgets/base",
      "model_module_version": "1.0.0",
      "model_name": "LayoutModel",
      "state": {}
     },
     "c1d203086bc248969e1cf11afc6de29a": {
      "model_module": "@jupyter-widgets/base",
      "model_module_version": "1.0.0",
      "model_name": "LayoutModel",
      "state": {}
     },
     "c254f4918b1b4776881c3e7ffc65289d": {
      "model_module": "@jupyter-widgets/controls",
      "model_module_version": "1.0.0",
      "model_name": "TabModel",
      "state": {
       "_titles": {
        "0": "Canvas",
        "1": "Snapshot"
       },
       "children": [
        "IPY_MODEL_46e4bd9a18ae4fd68004cabf711a6ec7",
        "IPY_MODEL_ed8bd13349c44762a6c7d801bd7e85b7"
       ],
       "layout": "IPY_MODEL_c5da527d8cee41fea927d3fd3823d688"
      }
     },
     "c26385841ff442758beee65fdd87bb7c": {
      "model_module": "@jupyter-widgets/controls",
      "model_module_version": "1.0.0",
      "model_name": "TabModel",
      "state": {
       "_titles": {
        "0": "Canvas",
        "1": "Snapshot"
       },
       "children": [
        "IPY_MODEL_bfc9d0e8d65a4fd081c40898c403ac15",
        "IPY_MODEL_18e28c1e091844bb9976fff59aa035c7"
       ],
       "layout": "IPY_MODEL_e8391ae6bc5a47f3bcc5ff337bec2dcf"
      }
     },
     "c2b805e68ae2459389d65705ebef0016": {
      "model_module": "@jupyter-widgets/base",
      "model_module_version": "1.0.0",
      "model_name": "LayoutModel",
      "state": {}
     },
     "c32020e25759464dabeb7fe35967b3ff": {
      "model_module": "@jupyter-widgets/controls",
      "model_module_version": "1.0.0",
      "model_name": "DescriptionStyleModel",
      "state": {
       "description_width": ""
      }
     },
     "c36dca0b55c445b0ae2aa1e2fe32a615": {
      "model_module": "@jupyter-widgets/base",
      "model_module_version": "1.0.0",
      "model_name": "LayoutModel",
      "state": {}
     },
     "c38b44278d0a4a718b2109129ae1ce7c": {
      "model_module": "@jupyter-widgets/controls",
      "model_module_version": "1.0.0",
      "model_name": "VBoxModel",
      "state": {
       "children": [
        "IPY_MODEL_cd6c95b46fbb4b5c80cd3f205429bb2e",
        "IPY_MODEL_2524db4427224582834acb7855840d60"
       ],
       "layout": "IPY_MODEL_220a3f4bc901411cb0150f409fc06db1"
      }
     },
     "c3dfd629eafd4832942cd6b7006f877c": {
      "model_module": "@jupyter-widgets/controls",
      "model_module_version": "1.0.0",
      "model_name": "VBoxModel",
      "state": {
       "children": [
        "IPY_MODEL_abda175f2eff4985891302559cd53b59",
        "IPY_MODEL_b2c3a3799a004cf2af89e1e0cfedc124"
       ],
       "layout": "IPY_MODEL_fb3e2cca60404fad84762bcf2ce7cee8"
      }
     },
     "c4ab05086c55448996c62cdfe2b9d2ec": {
      "model_module": "@jupyter-widgets/base",
      "model_module_version": "1.0.0",
      "model_name": "LayoutModel",
      "state": {}
     },
     "c4b950b190c0466abf62696c6ab01d88": {
      "model_module": "@jupyter-widgets/controls",
      "model_module_version": "1.0.0",
      "model_name": "HTMLModel",
      "state": {
       "layout": "IPY_MODEL_565dc06ded2347f69213560f6879d9fe",
       "style": "IPY_MODEL_9fc83a7990b5450d8803a079473f6269",
       "value": "<img src=\"color_chooser.png\" id=\"snapshot_id_1_1536689563214\"/>\n <div id=\"snapshot_id_2_1536689563214\">color_chooser.png</div>"
      }
     },
     "c510ba8573234f15946854bb6eecdd69": {
      "model_module": "jp_proxy_widget",
      "model_module_version": "^0.3.4",
      "model_name": "JSProxyModel",
      "state": {
       "_model_module_version": "^0.3.4",
       "_send_counter": 2,
       "_view_module_version": "^0.3.4",
       "error_msg": "No error",
       "layout": "IPY_MODEL_2e23553c36ae401db2b24837c394023c",
       "rendered": true,
       "status": "Got results."
      }
     },
     "c5588548cfb7424b8a12f1f1b90153dd": {
      "model_module": "@jupyter-widgets/base",
      "model_module_version": "1.0.0",
      "model_name": "LayoutModel",
      "state": {}
     },
     "c5d68284afc54a1b83f2e75ab4f325bb": {
      "model_module": "jp_proxy_widget",
      "model_module_version": "^0.3.4",
      "model_name": "JSProxyModel",
      "state": {
       "_model_module_version": "^0.3.4",
       "_send_counter": 10,
       "_view_module_version": "^0.3.4",
       "error_msg": "No error",
       "layout": "IPY_MODEL_b29a8bebcfea4ee69801b994b251e645",
       "rendered": true,
       "status": "Got results."
      }
     },
     "c5da527d8cee41fea927d3fd3823d688": {
      "model_module": "@jupyter-widgets/base",
      "model_module_version": "1.0.0",
      "model_name": "LayoutModel",
      "state": {}
     },
     "c618a48fd7ce4542a5986410b737d0f3": {
      "model_module": "jp_proxy_widget",
      "model_module_version": "^0.3.4",
      "model_name": "JSProxyModel",
      "state": {
       "_model_module_version": "^0.3.4",
       "_send_counter": 8,
       "_view_module_version": "^0.3.4",
       "error_msg": "No error",
       "layout": "IPY_MODEL_6cd1ba6772a54bc18db12831dffad7e9",
       "rendered": true,
       "status": "Got results."
      }
     },
     "c6532b67ec3b47e1a0510b81514fa0e3": {
      "model_module": "@jupyter-widgets/controls",
      "model_module_version": "1.0.0",
      "model_name": "TabModel",
      "state": {
       "_titles": {
        "0": "Canvas",
        "1": "Snapshot"
       },
       "children": [
        "IPY_MODEL_711af0cdbc814fd09ea82a6c4cd820fa",
        "IPY_MODEL_ba9a5c482b24453fad08bf2687d71f3e"
       ],
       "layout": "IPY_MODEL_a74b93fac7c64487838578c86ace8aa6"
      }
     },
     "c6818ec833714991b56cd129515b0ced": {
      "model_module": "@jupyter-widgets/controls",
      "model_module_version": "1.0.0",
      "model_name": "HTMLModel",
      "state": {
       "layout": "IPY_MODEL_9b08578b1a71414b9bd572aabc6b524e",
       "style": "IPY_MODEL_289b66386b6b49209f1bc46366b6c3f7",
       "value": "<img src=\"color_chooser.png\" id=\"snapshot_id_1_1536671430476\"/>\n <div id=\"snapshot_id_2_1536671430476\">color_chooser.png</div>"
      }
     },
     "c68d1fd1cf5f450ab6eb640a8362b3e6": {
      "model_module": "@jupyter-widgets/base",
      "model_module_version": "1.0.0",
      "model_name": "LayoutModel",
      "state": {}
     },
     "c74a99b4b1784f5995c78fdc2dc51ad4": {
      "model_module": "@jupyter-widgets/controls",
      "model_module_version": "1.0.0",
      "model_name": "DescriptionStyleModel",
      "state": {
       "description_width": ""
      }
     },
     "c78d9db119eb43bba143a3ce4a74688d": {
      "model_module": "@jupyter-widgets/controls",
      "model_module_version": "1.0.0",
      "model_name": "TabModel",
      "state": {
       "_titles": {
        "0": "Canvas",
        "1": "Snapshot"
       },
       "children": [
        "IPY_MODEL_b9ead762d79c48e2b12b0ddd7c843390",
        "IPY_MODEL_524c00b5674d4678845ba1c66e779fd7"
       ],
       "layout": "IPY_MODEL_63714162749147ec91ca5120c5d3988f",
       "selected_index": 1
      }
     },
     "c7cb5b47644148e4b4532f0a0fc30f8d": {
      "model_module": "@jupyter-widgets/controls",
      "model_module_version": "1.0.0",
      "model_name": "TabModel",
      "state": {
       "_titles": {
        "0": "Canvas",
        "1": "Snapshot"
       },
       "children": [
        "IPY_MODEL_7ff6cc0cd9984d53b31212fbd2cd9ada",
        "IPY_MODEL_7040000b7f074a0ebd836b792c313605"
       ],
       "layout": "IPY_MODEL_0c9ecb6704b443ac98ff6cc5723ddca5"
      }
     },
     "c7f0ec89a7fd4f049df94b4280fdd40f": {
      "model_module": "@jupyter-widgets/base",
      "model_module_version": "1.0.0",
      "model_name": "LayoutModel",
      "state": {}
     },
     "c839508a5163457b9dc836ca9b700a14": {
      "model_module": "@jupyter-widgets/base",
      "model_module_version": "1.0.0",
      "model_name": "LayoutModel",
      "state": {}
     },
     "c850802de5074796a42e4893d0c72888": {
      "model_module": "jp_proxy_widget",
      "model_module_version": "^0.3.4",
      "model_name": "JSProxyModel",
      "state": {
       "_model_module_version": "^0.3.4",
       "_send_counter": 8,
       "_view_module_version": "^0.3.4",
       "error_msg": "No error",
       "layout": "IPY_MODEL_c9a00b035afd4f87b65f2f41381d1ce8",
       "rendered": true,
       "status": "Got results."
      }
     },
     "c85c33c66565489383f085a3a153027e": {
      "model_module": "@jupyter-widgets/base",
      "model_module_version": "1.0.0",
      "model_name": "LayoutModel",
      "state": {}
     },
     "c87f8fb6d86d47af86d548fff971c7d8": {
      "model_module": "@jupyter-widgets/controls",
      "model_module_version": "1.0.0",
      "model_name": "HTMLModel",
      "state": {
       "layout": "IPY_MODEL_7e163a01602147c183fdc36aa54cc8ec",
       "style": "IPY_MODEL_aeff15a635354ae896569f1a9d9d56e0",
       "value": "<img src=\"color_chooser.png\" id=\"snapshot_id_1_1536678404890\"/>\n <div id=\"snapshot_id_2_1536678404890\">color_chooser.png</div>"
      }
     },
     "c8941cdaa4b04eeab0d5f07896264a50": {
      "model_module": "@jupyter-widgets/base",
      "model_module_version": "1.0.0",
      "model_name": "LayoutModel",
      "state": {}
     },
     "c8ab363386be4fe989b456078e818244": {
      "model_module": "@jupyter-widgets/base",
      "model_module_version": "1.0.0",
      "model_name": "LayoutModel",
      "state": {}
     },
     "c8dd628434f54a1db290ffabc5cbd458": {
      "model_module": "jp_proxy_widget",
      "model_module_version": "^0.3.4",
      "model_name": "JSProxyModel",
      "state": {
       "_model_module_version": "^0.3.4",
       "_send_counter": 8,
       "_view_module_version": "^0.3.4",
       "error_msg": "ReferenceError: i_wscale is not defined",
       "layout": "IPY_MODEL_d2d4b8c723fb4989a92f63aff31397dd",
       "rendered": true,
       "status": "Rendered."
      }
     },
     "c92144c2bb4043c6a818c50aee3ea961": {
      "model_module": "jp_proxy_widget",
      "model_module_version": "^0.3.4",
      "model_name": "JSProxyModel",
      "state": {
       "_model_module_version": "^0.3.4",
       "_send_counter": 2,
       "_view_module_version": "^0.3.4",
       "error_msg": "No error",
       "layout": "IPY_MODEL_894e43325dc3429eb48967cdf06f4202",
       "rendered": true,
       "status": "Got results."
      }
     },
     "c928c8cfb6ce4a01a9694976a8e8fe53": {
      "model_module": "@jupyter-widgets/controls",
      "model_module_version": "1.0.0",
      "model_name": "HTMLModel",
      "state": {
       "layout": "IPY_MODEL_e194960eb22b4b89bc189fd5c58897fb",
       "style": "IPY_MODEL_531ec3d801d344358401fcdab298902d",
       "value": "<img src=\"color_chooser.png\" id=\"snapshot_id_7_1536675737136\"/>\n <div id=\"snapshot_id_8_1536675737136\">color_chooser.png</div>"
      }
     },
     "c98d8696bb1242719676a2d2a6e5ec29": {
      "model_module": "@jupyter-widgets/controls",
      "model_module_version": "1.0.0",
      "model_name": "HTMLModel",
      "state": {
       "layout": "IPY_MODEL_f608861b5ffa4e0b8e13d6317d9db4d0",
       "style": "IPY_MODEL_1a77b36129334cdeb67db6ec1f1041f5",
       "value": "<img src=\"color_chooser.png\" id=\"snapshot_id_4_1536351853665\"/>\n <div id=\"snapshot_id_5_1536351853665\">color_chooser.png</div>"
      }
     },
     "c99843c8deb8499a867b7dc985c587d7": {
      "model_module": "jp_proxy_widget",
      "model_module_version": "^0.3.4",
      "model_name": "JSProxyModel",
      "state": {
       "_model_module_version": "^0.3.4",
       "_send_counter": 2,
       "_view_module_version": "^0.3.4",
       "error_msg": "No error",
       "layout": "IPY_MODEL_34b443f4371c43b38dbfce726e291847",
       "rendered": true,
       "status": "Got results."
      }
     },
     "c9a00b035afd4f87b65f2f41381d1ce8": {
      "model_module": "@jupyter-widgets/base",
      "model_module_version": "1.0.0",
      "model_name": "LayoutModel",
      "state": {}
     },
     "c9e60a8645b349f1937b23cdf28e8f44": {
      "model_module": "@jupyter-widgets/controls",
      "model_module_version": "1.0.0",
      "model_name": "DescriptionStyleModel",
      "state": {
       "description_width": ""
      }
     },
     "caf337cf9b5041ae9fe62becb2dbce26": {
      "model_module": "jp_proxy_widget",
      "model_module_version": "^0.3.4",
      "model_name": "JSProxyModel",
      "state": {
       "_model_module_version": "^0.3.4",
       "_send_counter": 8,
       "_view_module_version": "^0.3.4",
       "error_msg": "No error",
       "layout": "IPY_MODEL_bec09224825e4653a7cbb3762174c2db",
       "rendered": true,
       "status": "Got results."
      }
     },
     "caf683129e9849938a0bef37bd7fa341": {
      "model_module": "jp_proxy_widget",
      "model_module_version": "^0.3.4",
      "model_name": "JSProxyModel",
      "state": {
       "_model_module_version": "^0.3.4",
       "_send_counter": 8,
       "_view_module_version": "^0.3.4",
       "error_msg": "No error",
       "layout": "IPY_MODEL_c012f32b0674445d8dab343731f43c21",
       "rendered": true,
       "status": "Got results."
      }
     },
     "cb36d43fbb024dacad8fdadd31569075": {
      "model_module": "@jupyter-widgets/base",
      "model_module_version": "1.0.0",
      "model_name": "LayoutModel",
      "state": {}
     },
     "cb71de6c616e4b0ab23e00c4540b4589": {
      "model_module": "@jupyter-widgets/base",
      "model_module_version": "1.0.0",
      "model_name": "LayoutModel",
      "state": {}
     },
     "cb7c6e2d399c45f8b6f81ef451fa7b7b": {
      "model_module": "@jupyter-widgets/controls",
      "model_module_version": "1.0.0",
      "model_name": "TabModel",
      "state": {
       "_titles": {
        "0": "Canvas",
        "1": "Snapshot"
       },
       "children": [
        "IPY_MODEL_3f62f98e742d4bfa842d22cb125f1bcf",
        "IPY_MODEL_44a5d514a77b43ec82d2e115751541d2"
       ],
       "layout": "IPY_MODEL_6e40c7e8bf01426bbe123c0630f08cd0"
      }
     },
     "cbfae130b5034772beff85f1716e9151": {
      "model_module": "@jupyter-widgets/controls",
      "model_module_version": "1.0.0",
      "model_name": "DescriptionStyleModel",
      "state": {
       "description_width": ""
      }
     },
     "cc0bdb3b860b49a79d38841f48211131": {
      "model_module": "@jupyter-widgets/controls",
      "model_module_version": "1.0.0",
      "model_name": "VBoxModel",
      "state": {
       "children": [
        "IPY_MODEL_78856ab8dff043f7b4cc91f9806b4d2f",
        "IPY_MODEL_4ff468de04984acd8f7e69cbc12273ba"
       ],
       "layout": "IPY_MODEL_7ea173efa73d4ddbb56a878e5f93a4a4"
      }
     },
     "cc48d1d99e454dc4affe543b6757365d": {
      "model_module": "jp_proxy_widget",
      "model_module_version": "^0.3.4",
      "model_name": "JSProxyModel",
      "state": {
       "_model_module_version": "^0.3.4",
       "_send_counter": 2,
       "_view_module_version": "^0.3.4",
       "error_msg": "No error",
       "layout": "IPY_MODEL_e97a71ec1bfc4147a9380b5208265577",
       "rendered": true,
       "status": "Got results."
      }
     },
     "cc4e7740e45d4fe282f81c048c3e5c48": {
      "model_module": "@jupyter-widgets/base",
      "model_module_version": "1.0.0",
      "model_name": "LayoutModel",
      "state": {}
     },
     "ccfa98cb0db3429490ea0df3387453af": {
      "model_module": "@jupyter-widgets/base",
      "model_module_version": "1.0.0",
      "model_name": "LayoutModel",
      "state": {}
     },
     "cd54d7e9daf64821bea86abd52032639": {
      "model_module": "@jupyter-widgets/base",
      "model_module_version": "1.0.0",
      "model_name": "LayoutModel",
      "state": {}
     },
     "cd6c95b46fbb4b5c80cd3f205429bb2e": {
      "model_module": "jp_proxy_widget",
      "model_module_version": "^0.3.4",
      "model_name": "JSProxyModel",
      "state": {
       "_model_module_version": "^0.3.4",
       "_send_counter": 8,
       "_view_module_version": "^0.3.4",
       "error_msg": "No error",
       "layout": "IPY_MODEL_97a7e4ccf3ad471fb69dbb48cd399b15",
       "rendered": true,
       "status": "Got results."
      }
     },
     "cd74c7b125444023b7bf0bf6b2c84bb5": {
      "model_module": "jp_proxy_widget",
      "model_module_version": "^0.3.4",
      "model_name": "JSProxyModel",
      "state": {
       "_model_module_version": "^0.3.4",
       "_send_counter": 2,
       "_view_module_version": "^0.3.4",
       "error_msg": "No error",
       "layout": "IPY_MODEL_d2075afcec6642a4b3b9b0902b4dda91",
       "rendered": true,
       "status": "Got results."
      }
     },
     "cde5c09277ad4365bbe9691449c1b53d": {
      "model_module": "@jupyter-widgets/base",
      "model_module_version": "1.0.0",
      "model_name": "LayoutModel",
      "state": {}
     },
     "ce62e947985f4c0a9bee22327e52ae52": {
      "model_module": "@jupyter-widgets/controls",
      "model_module_version": "1.0.0",
      "model_name": "HTMLModel",
      "state": {
       "layout": "IPY_MODEL_4277db1c4eed4db18ba331cf6db8d619",
       "style": "IPY_MODEL_17629c9f6f6346fe835a4a2e63c18678",
       "value": "<img src=\"color_chooser.png\" id=\"snapshot_id_5_1536675691681\"/>\n <div id=\"snapshot_id_6_1536675691681\">color_chooser.png</div>"
      }
     },
     "d00839faff2440edb79271f3141529c4": {
      "model_module": "@jupyter-widgets/base",
      "model_module_version": "1.0.0",
      "model_name": "LayoutModel",
      "state": {}
     },
     "d057ab2454394e5ea7b1d699d744c502": {
      "model_module": "@jupyter-widgets/base",
      "model_module_version": "1.0.0",
      "model_name": "LayoutModel",
      "state": {}
     },
     "d06620722bd94d779e142e921335f957": {
      "model_module": "@jupyter-widgets/base",
      "model_module_version": "1.0.0",
      "model_name": "LayoutModel",
      "state": {}
     },
     "d1031a73dd8b4fb2ad2e3d5f82ad4e4a": {
      "model_module": "@jupyter-widgets/base",
      "model_module_version": "1.0.0",
      "model_name": "LayoutModel",
      "state": {}
     },
     "d142a3dafa184ccbb6eb5b3f1882fb90": {
      "model_module": "@jupyter-widgets/base",
      "model_module_version": "1.0.0",
      "model_name": "LayoutModel",
      "state": {}
     },
     "d16a1d49981f481c8f8d7c5a800ce919": {
      "model_module": "jp_proxy_widget",
      "model_module_version": "^0.3.4",
      "model_name": "JSProxyModel",
      "state": {
       "_model_module_version": "^0.3.4",
       "_send_counter": 2,
       "_view_module_version": "^0.3.4",
       "error_msg": "No error",
       "layout": "IPY_MODEL_4647236384904ddc901521a35ef429c6",
       "rendered": true,
       "status": "Got results."
      }
     },
     "d19b7fcd12b7486da5ccebc6a8128b63": {
      "model_module": "@jupyter-widgets/base",
      "model_module_version": "1.0.0",
      "model_name": "LayoutModel",
      "state": {}
     },
     "d2075afcec6642a4b3b9b0902b4dda91": {
      "model_module": "@jupyter-widgets/base",
      "model_module_version": "1.0.0",
      "model_name": "LayoutModel",
      "state": {}
     },
     "d25dbce16d5b4c9e8e8d12f374f1a850": {
      "model_module": "@jupyter-widgets/base",
      "model_module_version": "1.0.0",
      "model_name": "LayoutModel",
      "state": {}
     },
     "d29806569d9f4decb4e4e7debe8bd51d": {
      "model_module": "@jupyter-widgets/base",
      "model_module_version": "1.0.0",
      "model_name": "LayoutModel",
      "state": {}
     },
     "d2d4126dfe7a42f4a8ac70930a2bc9a8": {
      "model_module": "@jupyter-widgets/base",
      "model_module_version": "1.0.0",
      "model_name": "LayoutModel",
      "state": {}
     },
     "d2d4b8c723fb4989a92f63aff31397dd": {
      "model_module": "@jupyter-widgets/base",
      "model_module_version": "1.0.0",
      "model_name": "LayoutModel",
      "state": {}
     },
     "d39f5a91469843cd90685d51e1517a1c": {
      "model_module": "@jupyter-widgets/base",
      "model_module_version": "1.0.0",
      "model_name": "LayoutModel",
      "state": {}
     },
     "d3acb71c9b294af1a07f4cea826016f6": {
      "model_module": "@jupyter-widgets/base",
      "model_module_version": "1.0.0",
      "model_name": "LayoutModel",
      "state": {}
     },
     "d4d68eedd12d41ae92a2c4be84256721": {
      "model_module": "@jupyter-widgets/base",
      "model_module_version": "1.0.0",
      "model_name": "LayoutModel",
      "state": {}
     },
     "d53831b28dd6415a8c6c14da5dc330df": {
      "model_module": "@jupyter-widgets/controls",
      "model_module_version": "1.0.0",
      "model_name": "DescriptionStyleModel",
      "state": {
       "description_width": ""
      }
     },
     "d609a338edf045ea9c7ec611da2c6f9e": {
      "model_module": "jp_proxy_widget",
      "model_module_version": "^0.3.4",
      "model_name": "JSProxyModel",
      "state": {
       "_model_module_version": "^0.3.4",
       "_send_counter": 8,
       "_view_module_version": "^0.3.4",
       "error_msg": "No error",
       "layout": "IPY_MODEL_31b8d5af2c81409e9cf486dfc4e7a547",
       "rendered": true,
       "status": "Got results."
      }
     },
     "d62e7d4318974ea28c4944b730a5e10a": {
      "model_module": "@jupyter-widgets/base",
      "model_module_version": "1.0.0",
      "model_name": "LayoutModel",
      "state": {}
     },
     "d7563e92b2d54ae3aa473f37cd9088a6": {
      "model_module": "@jupyter-widgets/controls",
      "model_module_version": "1.0.0",
      "model_name": "DescriptionStyleModel",
      "state": {
       "description_width": ""
      }
     },
     "d786981b1d6949efbbb5eb26206ce68a": {
      "model_module": "@jupyter-widgets/controls",
      "model_module_version": "1.0.0",
      "model_name": "HTMLModel",
      "state": {
       "layout": "IPY_MODEL_736ab1684bfd461087813f99bfbef4c9",
       "style": "IPY_MODEL_461feae3f33f4b49ac929c5239195711",
       "value": "<img src=\"color_chooser.png\" id=\"snapshot_id_3_1536690163351\"/>\n <div id=\"snapshot_id_4_1536690163351\">color_chooser.png</div>"
      }
     },
     "d7881160dacc47a4b93f92ed4383012a": {
      "model_module": "@jupyter-widgets/base",
      "model_module_version": "1.0.0",
      "model_name": "LayoutModel",
      "state": {}
     },
     "d794116992e9418baae59e96f40e461c": {
      "model_module": "jp_proxy_widget",
      "model_module_version": "^0.3.4",
      "model_name": "JSProxyModel",
      "state": {
       "_model_module_version": "^0.3.4",
       "_send_counter": 2,
       "_view_module_version": "^0.3.4",
       "error_msg": "No error",
       "layout": "IPY_MODEL_1fd025f4bda34d0a9f65a17d65e49184",
       "rendered": true,
       "status": "Got results."
      }
     },
     "d7aae03721134e0e8e653b970b548286": {
      "model_module": "@jupyter-widgets/controls",
      "model_module_version": "1.0.0",
      "model_name": "VBoxModel",
      "state": {
       "children": [
        "IPY_MODEL_6822f890db8842dcb0560186ac0ba358",
        "IPY_MODEL_881c15030e054ef2bd67996af3a016b2"
       ],
       "layout": "IPY_MODEL_f244e3903e854a548eea2478baf4f84f"
      }
     },
     "d7b11bf0043a425d9678e7f2659d644d": {
      "model_module": "@jupyter-widgets/controls",
      "model_module_version": "1.0.0",
      "model_name": "TabModel",
      "state": {
       "_titles": {
        "0": "Canvas",
        "1": "Snapshot"
       },
       "children": [
        "IPY_MODEL_f6739b061b874f8f9606c48848c9720d",
        "IPY_MODEL_5ebf43c7f6d540e8bd0c9672b25fadbe"
       ],
       "layout": "IPY_MODEL_157bbbdfb4e442fdb1b5c2ba0f14f507"
      }
     },
     "d82e7b5c38b247caaba18be985c132e8": {
      "model_module": "@jupyter-widgets/base",
      "model_module_version": "1.0.0",
      "model_name": "LayoutModel",
      "state": {}
     },
     "d84bb35e6aa746388ad06e16580aceae": {
      "model_module": "jp_proxy_widget",
      "model_module_version": "^0.3.4",
      "model_name": "JSProxyModel",
      "state": {
       "_model_module_version": "^0.3.4",
       "_send_counter": 2,
       "_view_module_version": "^0.3.4",
       "error_msg": "No error",
       "layout": "IPY_MODEL_15601acd3598499099d176120f911e00",
       "rendered": true,
       "status": "Got results."
      }
     },
     "d8ebf714698242ba841e25f382d3c27e": {
      "model_module": "@jupyter-widgets/controls",
      "model_module_version": "1.0.0",
      "model_name": "DescriptionStyleModel",
      "state": {
       "description_width": ""
      }
     },
     "d92dc774baa042f5a1ff60041d3800bd": {
      "model_module": "@jupyter-widgets/controls",
      "model_module_version": "1.0.0",
      "model_name": "HTMLModel",
      "state": {
       "layout": "IPY_MODEL_53faeb3d15e04285be19ae1ebe0c2a1e",
       "style": "IPY_MODEL_74c136ab65a04fe88935ea4837be9cd2",
       "value": "<img src=\"color_chooser.png\" id=\"snapshot_id_1_1536692744351\"/>\n <div id=\"snapshot_id_2_1536692744351\">color_chooser.png</div>"
      }
     },
     "d9e420e449834d3290d70b90152cddea": {
      "model_module": "@jupyter-widgets/base",
      "model_module_version": "1.0.0",
      "model_name": "LayoutModel",
      "state": {}
     },
     "d9e58a1b587f441cba14fdd576de26a2": {
      "model_module": "jp_proxy_widget",
      "model_module_version": "^0.3.4",
      "model_name": "JSProxyModel",
      "state": {
       "_model_module_version": "^0.3.4",
       "_send_counter": 8,
       "_view_module_version": "^0.3.4",
       "error_msg": "No error",
       "layout": "IPY_MODEL_81c609629d134eddb9a19d05d4dff4e6",
       "rendered": true,
       "status": "Got results."
      }
     },
     "dabd515ab5c14dc6804899de000105ab": {
      "model_module": "@jupyter-widgets/base",
      "model_module_version": "1.0.0",
      "model_name": "LayoutModel",
      "state": {}
     },
     "dabf8c7a2ddf4917a4a8f6322df62a5b": {
      "model_module": "jp_proxy_widget",
      "model_module_version": "^0.3.4",
      "model_name": "JSProxyModel",
      "state": {
       "_model_module_version": "^0.3.4",
       "_send_counter": 8,
       "_view_module_version": "^0.3.4",
       "error_msg": "No error",
       "layout": "IPY_MODEL_342e9d8f23244a55864512ff4aa23e56",
       "rendered": true,
       "status": "Got results."
      }
     },
     "db00bae2c03a40239b7f5e3ca24ca11b": {
      "model_module": "@jupyter-widgets/base",
      "model_module_version": "1.0.0",
      "model_name": "LayoutModel",
      "state": {}
     },
     "dc9d191e992b4b86a83d5a0dbe067bb2": {
      "model_module": "@jupyter-widgets/controls",
      "model_module_version": "1.0.0",
      "model_name": "TabModel",
      "state": {
       "_titles": {
        "0": "Canvas",
        "1": "Snapshot"
       },
       "children": [
        "IPY_MODEL_2a849a6baa1f42b98235141df08fe641",
        "IPY_MODEL_d786981b1d6949efbbb5eb26206ce68a"
       ],
       "layout": "IPY_MODEL_e2517ead10454444ab83ec17a82e658f"
      }
     },
     "dceeb28a7c694e11a09d73527f3f3199": {
      "model_module": "@jupyter-widgets/base",
      "model_module_version": "1.0.0",
      "model_name": "LayoutModel",
      "state": {}
     },
     "dd04ed03b81e40b79c3aec10735eccba": {
      "model_module": "@jupyter-widgets/base",
      "model_module_version": "1.0.0",
      "model_name": "LayoutModel",
      "state": {}
     },
     "dd0692ffe5e84d2b91564fcd3138feeb": {
      "model_module": "jp_proxy_widget",
      "model_module_version": "^0.3.4",
      "model_name": "JSProxyModel",
      "state": {
       "_model_module_version": "^0.3.4",
       "_send_counter": 2,
       "_view_module_version": "^0.3.4",
       "error_msg": "No error",
       "layout": "IPY_MODEL_a4b4d753ef2a44fbafeb7b39e3b34d84",
       "rendered": true,
       "status": "Got results."
      }
     },
     "dd27b6bdd794436fabbb8128f3c875d7": {
      "model_module": "@jupyter-widgets/base",
      "model_module_version": "1.0.0",
      "model_name": "LayoutModel",
      "state": {}
     },
     "dd28694edd4c498fb0f25561c81b7e32": {
      "model_module": "@jupyter-widgets/controls",
      "model_module_version": "1.0.0",
      "model_name": "HTMLModel",
      "state": {
       "layout": "IPY_MODEL_461af5a286e6410a8952f52feffcce5e",
       "style": "IPY_MODEL_bd49ac7430864b84912bb0969f2a9db2",
       "value": "<img src=\"color_chooser.png\" id=\"snapshot_id_3_1536693204315\"/>\n <div id=\"snapshot_id_4_1536693204315\">color_chooser.png</div>"
      }
     },
     "dd3cd3f4197d467091678cfc765d5b3c": {
      "model_module": "@jupyter-widgets/controls",
      "model_module_version": "1.0.0",
      "model_name": "VBoxModel",
      "state": {
       "children": [
        "IPY_MODEL_bef46de57f4544069e109df34b847db7",
        "IPY_MODEL_046678bab2614ca0a5c82c7f55232c08"
       ],
       "layout": "IPY_MODEL_854a16e50c04467ab193703134ea25e2"
      }
     },
     "dd52b77ec8f94d238eb4b3c4cf54194a": {
      "model_module": "@jupyter-widgets/base",
      "model_module_version": "1.0.0",
      "model_name": "LayoutModel",
      "state": {}
     },
     "ddc2a9e21f9e4264ac627f540b3728f6": {
      "model_module": "@jupyter-widgets/controls",
      "model_module_version": "1.0.0",
      "model_name": "TabModel",
      "state": {
       "_titles": {
        "0": "Canvas",
        "1": "Snapshot"
       },
       "children": [
        "IPY_MODEL_4b370126e4134434b0f2c85905b9e6d7",
        "IPY_MODEL_3a37109a5f804774ba67b07f422712cd"
       ],
       "layout": "IPY_MODEL_b4fa86ade1bb42e09f81066043589f3e"
      }
     },
     "dde17f15683943f59463796a5b6e7262": {
      "model_module": "@jupyter-widgets/controls",
      "model_module_version": "1.0.0",
      "model_name": "DescriptionStyleModel",
      "state": {
       "description_width": ""
      }
     },
     "de9163b83c824114b1b975bb90df914e": {
      "model_module": "@jupyter-widgets/base",
      "model_module_version": "1.0.0",
      "model_name": "LayoutModel",
      "state": {}
     },
     "dee3940fa4c14c0dbe6fce1e830ff386": {
      "model_module": "jp_proxy_widget",
      "model_module_version": "^0.3.4",
      "model_name": "JSProxyModel",
      "state": {
       "_model_module_version": "^0.3.4",
       "_send_counter": 8,
       "_view_module_version": "^0.3.4",
       "error_msg": "ReferenceError: canvas_y_up is not defined",
       "layout": "IPY_MODEL_23443818fb474191b0ea51d9c80f6421",
       "rendered": true,
       "status": "Rendered."
      }
     },
     "defd11fba1f14d83a1499e38d2a3a10c": {
      "model_module": "@jupyter-widgets/base",
      "model_module_version": "1.0.0",
      "model_name": "LayoutModel",
      "state": {}
     },
     "defd8d02901a49fc8f68218af56c4a21": {
      "model_module": "@jupyter-widgets/base",
      "model_module_version": "1.0.0",
      "model_name": "LayoutModel",
      "state": {}
     },
     "df4e29d1aa0f460588d0bbba357275ed": {
      "model_module": "@jupyter-widgets/controls",
      "model_module_version": "1.0.0",
      "model_name": "DescriptionStyleModel",
      "state": {
       "description_width": ""
      }
     },
     "df5cbeba99494a5b9851a769370a92ab": {
      "model_module": "jp_proxy_widget",
      "model_module_version": "^0.3.4",
      "model_name": "JSProxyModel",
      "state": {
       "_model_module_version": "^0.3.4",
       "_send_counter": 11,
       "_view_module_version": "^0.3.4",
       "error_msg": "No error",
       "layout": "IPY_MODEL_fb31a7ab026842a6978c297905b6119b",
       "rendered": true,
       "status": "Got results."
      }
     },
     "dfc4f9888b3a48e19f48ca4c478f77d3": {
      "model_module": "jp_proxy_widget",
      "model_module_version": "^0.3.4",
      "model_name": "JSProxyModel",
      "state": {
       "_model_module_version": "^0.3.4",
       "_send_counter": 8,
       "_view_module_version": "^0.3.4",
       "error_msg": "No error",
       "layout": "IPY_MODEL_fe72cd834dea499f9b18c76ed68bcc3e",
       "rendered": true,
       "status": "Got results."
      }
     },
     "e15d043574664545bb1a9ee7c7f525cc": {
      "model_module": "@jupyter-widgets/controls",
      "model_module_version": "1.0.0",
      "model_name": "HTMLModel",
      "state": {
       "layout": "IPY_MODEL_52f7dad9490346c2a500617c015f0cb9",
       "style": "IPY_MODEL_707fd1c4d64244b0a8ac3b58bc8d82f3",
       "value": "<img src=\"color_chooser.png\" id=\"snapshot_id_1_1536692960071\"/>\n <div id=\"snapshot_id_2_1536692960071\">color_chooser.png</div>"
      }
     },
     "e194960eb22b4b89bc189fd5c58897fb": {
      "model_module": "@jupyter-widgets/base",
      "model_module_version": "1.0.0",
      "model_name": "LayoutModel",
      "state": {}
     },
     "e1dd797b41b349e7b0944f798135d330": {
      "model_module": "@jupyter-widgets/controls",
      "model_module_version": "1.0.0",
      "model_name": "DescriptionStyleModel",
      "state": {
       "description_width": ""
      }
     },
     "e23cbd285994485f9781083f80e80e19": {
      "model_module": "@jupyter-widgets/controls",
      "model_module_version": "1.0.0",
      "model_name": "VBoxModel",
      "state": {
       "children": [
        "IPY_MODEL_ff34c284319147f0afa95ce34c0e0388",
        "IPY_MODEL_1c6f31ab1b0444b0a3f73697ee35fd7e"
       ],
       "layout": "IPY_MODEL_d25dbce16d5b4c9e8e8d12f374f1a850"
      }
     },
     "e249d6717e75416aba162914e8cedb11": {
      "model_module": "jp_proxy_widget",
      "model_module_version": "^0.3.4",
      "model_name": "JSProxyModel",
      "state": {
       "_model_module_version": "^0.3.4",
       "_send_counter": 17,
       "_view_module_version": "^0.3.4",
       "error_msg": "No error",
       "layout": "IPY_MODEL_13c40c2218cc4ecd89c6064498fe0ad3",
       "rendered": true,
       "status": "Got results."
      }
     },
     "e24e8faaf7204804a3e845af97bd8165": {
      "model_module": "@jupyter-widgets/base",
      "model_module_version": "1.0.0",
      "model_name": "LayoutModel",
      "state": {}
     },
     "e2517ead10454444ab83ec17a82e658f": {
      "model_module": "@jupyter-widgets/base",
      "model_module_version": "1.0.0",
      "model_name": "LayoutModel",
      "state": {}
     },
     "e271e7e7d5124133aa1ae028ae1fd824": {
      "model_module": "@jupyter-widgets/controls",
      "model_module_version": "1.0.0",
      "model_name": "DescriptionStyleModel",
      "state": {
       "description_width": ""
      }
     },
     "e28425dfbcbc480599b167440f86a476": {
      "model_module": "jp_proxy_widget",
      "model_module_version": "^0.3.4",
      "model_name": "JSProxyModel",
      "state": {
       "_model_module_version": "^0.3.4",
       "_send_counter": 10,
       "_view_module_version": "^0.3.4",
       "error_msg": "No error",
       "layout": "IPY_MODEL_e396309c36c542eb9e9321a4e0fef2fc",
       "rendered": true,
       "status": "Got results."
      }
     },
     "e2c3e8405b3f4934b85e6f6ca38d5071": {
      "model_module": "@jupyter-widgets/controls",
      "model_module_version": "1.0.0",
      "model_name": "DescriptionStyleModel",
      "state": {
       "description_width": ""
      }
     },
     "e364ca6a498b4622804daaa125a61448": {
      "model_module": "@jupyter-widgets/base",
      "model_module_version": "1.0.0",
      "model_name": "LayoutModel",
      "state": {}
     },
     "e396309c36c542eb9e9321a4e0fef2fc": {
      "model_module": "@jupyter-widgets/base",
      "model_module_version": "1.0.0",
      "model_name": "LayoutModel",
      "state": {}
     },
     "e4176f85023e41b2b92e850e97b56710": {
      "model_module": "@jupyter-widgets/base",
      "model_module_version": "1.0.0",
      "model_name": "LayoutModel",
      "state": {}
     },
     "e45b2fd247174571b4cc99dba058f0e0": {
      "model_module": "jp_proxy_widget",
      "model_module_version": "^0.3.4",
      "model_name": "JSProxyModel",
      "state": {
       "_model_module_version": "^0.3.4",
       "_send_counter": 2,
       "_view_module_version": "^0.3.4",
       "error_msg": "No error",
       "layout": "IPY_MODEL_1468954ece7c4244a882af33f422d3da",
       "rendered": true,
       "status": "Got results."
      }
     },
     "e4b0f98fc07e4cada83b815fad73c465": {
      "model_module": "@jupyter-widgets/controls",
      "model_module_version": "1.0.0",
      "model_name": "TabModel",
      "state": {
       "_titles": {
        "0": "Canvas",
        "1": "Snapshot"
       },
       "children": [
        "IPY_MODEL_e23cbd285994485f9781083f80e80e19",
        "IPY_MODEL_f3352ba5fd4d46fb8036713c734f5fb2"
       ],
       "layout": "IPY_MODEL_335c1e73c9f34b61a848a33ec6fd2aad",
       "selected_index": 1
      }
     },
     "e4d4d93f58da48caa8d2f5e3d39599c4": {
      "model_module": "@jupyter-widgets/controls",
      "model_module_version": "1.0.0",
      "model_name": "VBoxModel",
      "state": {
       "children": [
        "IPY_MODEL_caf337cf9b5041ae9fe62becb2dbce26",
        "IPY_MODEL_d16a1d49981f481c8f8d7c5a800ce919"
       ],
       "layout": "IPY_MODEL_b236269de3334776bf1cf4989170f60f"
      }
     },
     "e50858c95b9d4400adea02333cbe49f5": {
      "model_module": "jp_proxy_widget",
      "model_module_version": "^0.3.4",
      "model_name": "JSProxyModel",
      "state": {
       "_model_module_version": "^0.3.4",
       "_send_counter": 8,
       "_view_module_version": "^0.3.4",
       "error_msg": "No error",
       "layout": "IPY_MODEL_cb71de6c616e4b0ab23e00c4540b4589",
       "rendered": true,
       "status": "Got results."
      }
     },
     "e522bea2289e48a8b15bd0c7a9217d8a": {
      "model_module": "@jupyter-widgets/controls",
      "model_module_version": "1.0.0",
      "model_name": "TabModel",
      "state": {
       "_titles": {
        "0": "Canvas",
        "1": "Snapshot"
       },
       "children": [
        "IPY_MODEL_181635f1b1e74c34b0f85d9c9e0f4e53",
        "IPY_MODEL_11b4ec3ed6a841b6bacbbfab04a2b795"
       ],
       "layout": "IPY_MODEL_3fa097ee755541f8990b884d5bf28343"
      }
     },
     "e53ed5f0149a4987b5a321c8ac3eee20": {
      "model_module": "@jupyter-widgets/base",
      "model_module_version": "1.0.0",
      "model_name": "LayoutModel",
      "state": {}
     },
     "e54aadb11a154bbcb7511e86ca4b5589": {
      "model_module": "@jupyter-widgets/base",
      "model_module_version": "1.0.0",
      "model_name": "LayoutModel",
      "state": {}
     },
     "e577452df0b84c1fa03f141a6bc0742b": {
      "model_module": "@jupyter-widgets/base",
      "model_module_version": "1.0.0",
      "model_name": "LayoutModel",
      "state": {}
     },
     "e587cd34c60d4350b164c4ce45946fc3": {
      "model_module": "@jupyter-widgets/controls",
      "model_module_version": "1.0.0",
      "model_name": "DescriptionStyleModel",
      "state": {
       "description_width": ""
      }
     },
     "e6f9a47cefb243b8baa9eb45bf593cc8": {
      "model_module": "@jupyter-widgets/base",
      "model_module_version": "1.0.0",
      "model_name": "LayoutModel",
      "state": {}
     },
     "e70a8403c1e4400da3dffd99c97aff00": {
      "model_module": "jp_proxy_widget",
      "model_module_version": "^0.3.4",
      "model_name": "JSProxyModel",
      "state": {
       "_model_module_version": "^0.3.4",
       "_send_counter": 2,
       "_view_module_version": "^0.3.4",
       "error_msg": "No error",
       "layout": "IPY_MODEL_76321ebd12274dc795a5ff03221e6c38",
       "rendered": true,
       "status": "Got results."
      }
     },
     "e7e4046504244038ae523ec894b7cc38": {
      "model_module": "@jupyter-widgets/controls",
      "model_module_version": "1.0.0",
      "model_name": "DescriptionStyleModel",
      "state": {
       "description_width": ""
      }
     },
     "e8391ae6bc5a47f3bcc5ff337bec2dcf": {
      "model_module": "@jupyter-widgets/base",
      "model_module_version": "1.0.0",
      "model_name": "LayoutModel",
      "state": {}
     },
     "e8611823b8b441968c2cf2e2ff8849de": {
      "model_module": "@jupyter-widgets/controls",
      "model_module_version": "1.0.0",
      "model_name": "TabModel",
      "state": {
       "_titles": {
        "0": "Canvas",
        "1": "Snapshot"
       },
       "children": [
        "IPY_MODEL_2932f6a5347943b3bbc90dc645188f79",
        "IPY_MODEL_b691fd39fe154c48bd4fe8f4f3d67ab8"
       ],
       "layout": "IPY_MODEL_952c378b0d324a0181c11b531d40096a"
      }
     },
     "e89eb20a3c6942ae8c67fee94969bdc0": {
      "model_module": "jp_proxy_widget",
      "model_module_version": "^0.3.4",
      "model_name": "JSProxyModel",
      "state": {
       "_model_module_version": "^0.3.4",
       "_send_counter": 8,
       "_view_module_version": "^0.3.4",
       "error_msg": "No error",
       "layout": "IPY_MODEL_8c28b04ad6d2486fa1adb420ab02ec05",
       "rendered": true,
       "status": "Got results."
      }
     },
     "e8a1815adf8f4536bb07e9d3db50d5d7": {
      "model_module": "@jupyter-widgets/base",
      "model_module_version": "1.0.0",
      "model_name": "LayoutModel",
      "state": {}
     },
     "e8b71267a78347bfb504ef85927277a9": {
      "model_module": "@jupyter-widgets/controls",
      "model_module_version": "1.0.0",
      "model_name": "HTMLModel",
      "state": {
       "layout": "IPY_MODEL_aca824a644f4452e8bf0f89c2dd82af6",
       "style": "IPY_MODEL_7eafbdfa20f24e0bb9de508bc1c3b647",
       "value": "<img src=\"color_chooser.png\" id=\"snapshot_id_3_1536689507332\"/>\n <div id=\"snapshot_id_4_1536689507332\">color_chooser.png</div>"
      }
     },
     "e951fec459df4d3b89a3ea2c003abdc9": {
      "model_module": "@jupyter-widgets/controls",
      "model_module_version": "1.0.0",
      "model_name": "TabModel",
      "state": {
       "_titles": {
        "0": "Canvas",
        "1": "Snapshot"
       },
       "children": [
        "IPY_MODEL_2504d30f224245d9b74547f5834fe9db",
        "IPY_MODEL_ba8f65654a46483fb4c2c1aab08de010"
       ],
       "layout": "IPY_MODEL_f6b3579546794180a513967ea9eedbdd"
      }
     },
     "e955ea2929de4b9fa81bcc7475d948a6": {
      "model_module": "@jupyter-widgets/controls",
      "model_module_version": "1.0.0",
      "model_name": "TabModel",
      "state": {
       "_titles": {
        "0": "Canvas",
        "1": "Snapshot"
       },
       "children": [
        "IPY_MODEL_8fd395b6953b4adb89aadcd1ebb44db3",
        "IPY_MODEL_9c09def3e55742ce8aceec7c2516f039"
       ],
       "layout": "IPY_MODEL_84f0acfc6bb44e92a243c86e2fb7b536"
      }
     },
     "e972ae21dc5f4939a6a56678052ce56d": {
      "model_module": "@jupyter-widgets/base",
      "model_module_version": "1.0.0",
      "model_name": "LayoutModel",
      "state": {}
     },
     "e97a71ec1bfc4147a9380b5208265577": {
      "model_module": "@jupyter-widgets/base",
      "model_module_version": "1.0.0",
      "model_name": "LayoutModel",
      "state": {}
     },
     "e9be0f2bc6894f48a6ae3b35b91ad530": {
      "model_module": "jp_proxy_widget",
      "model_module_version": "^0.3.4",
      "model_name": "JSProxyModel",
      "state": {
       "_model_module_version": "^0.3.4",
       "_send_counter": 2,
       "_view_module_version": "^0.3.4",
       "error_msg": "No error",
       "layout": "IPY_MODEL_e6f9a47cefb243b8baa9eb45bf593cc8",
       "rendered": true,
       "status": "Got results."
      }
     },
     "ea3100254cbb4814ac3ecb5e8191f366": {
      "model_module": "@jupyter-widgets/base",
      "model_module_version": "1.0.0",
      "model_name": "LayoutModel",
      "state": {}
     },
     "ea6a14881f6044eea4bdb7dabeaa394f": {
      "model_module": "@jupyter-widgets/controls",
      "model_module_version": "1.0.0",
      "model_name": "HTMLModel",
      "state": {
       "layout": "IPY_MODEL_686f39798abf4e5ca35f2e33a63dc5b8",
       "style": "IPY_MODEL_08e310f090b1480aaad3403525825e8c",
       "value": "<img src=\"color_chooser.png\" id=\"snapshot_id_1_1536692093285\"/>\n <div id=\"snapshot_id_2_1536692093285\">color_chooser.png</div>"
      }
     },
     "ea79b9ffa82645a484e71f1b183cdb6a": {
      "model_module": "@jupyter-widgets/base",
      "model_module_version": "1.0.0",
      "model_name": "LayoutModel",
      "state": {}
     },
     "ea7d28684eb54df69c7ac262676556f5": {
      "model_module": "@jupyter-widgets/base",
      "model_module_version": "1.0.0",
      "model_name": "LayoutModel",
      "state": {}
     },
     "ea99119259a2447a818eb23c94d493ca": {
      "model_module": "jp_proxy_widget",
      "model_module_version": "^0.3.4",
      "model_name": "JSProxyModel",
      "state": {
       "_model_module_version": "^0.3.4",
       "_send_counter": 2,
       "_view_module_version": "^0.3.4",
       "error_msg": "No error",
       "layout": "IPY_MODEL_9314e6a6e799452dbd14731661c2ecde",
       "rendered": true,
       "status": "call back to <function callback_function at 0x10523f410>"
      }
     },
     "eacefbdf323d4df9b6f05c3634419588": {
      "model_module": "@jupyter-widgets/base",
      "model_module_version": "1.0.0",
      "model_name": "LayoutModel",
      "state": {}
     },
     "eae5a5bfb7814cbd9fea2988914e87c4": {
      "model_module": "@jupyter-widgets/base",
      "model_module_version": "1.0.0",
      "model_name": "LayoutModel",
      "state": {}
     },
     "ec03d000db0842549331f2c056aa767b": {
      "model_module": "@jupyter-widgets/base",
      "model_module_version": "1.0.0",
      "model_name": "LayoutModel",
      "state": {}
     },
     "ec91121f04db44b7b4d1b13655ba8e73": {
      "model_module": "jp_proxy_widget",
      "model_module_version": "^0.3.4",
      "model_name": "JSProxyModel",
      "state": {
       "_model_module_version": "^0.3.4",
       "_send_counter": 2,
       "_view_module_version": "^0.3.4",
       "error_msg": "No error",
       "layout": "IPY_MODEL_a27e61aa526d46e2be2b4e06b6c26be4",
       "rendered": true,
       "status": "Got results."
      }
     },
     "ecbced9f58d74a1a98df176cfc8e1ddd": {
      "model_module": "@jupyter-widgets/controls",
      "model_module_version": "1.0.0",
      "model_name": "TabModel",
      "state": {
       "_titles": {
        "0": "Canvas",
        "1": "Snapshot"
       },
       "children": [
        "IPY_MODEL_5e3ffd53471d4204b8176407abff7d34",
        "IPY_MODEL_f31dc92e312c43d1ad75937573b4cecf"
       ],
       "layout": "IPY_MODEL_d19b7fcd12b7486da5ccebc6a8128b63"
      }
     },
     "ed0d6aec8f734c2b8981469d64576111": {
      "model_module": "@jupyter-widgets/base",
      "model_module_version": "1.0.0",
      "model_name": "LayoutModel",
      "state": {}
     },
     "ed27e3f5ead04efea5fa920b9e80936f": {
      "model_module": "@jupyter-widgets/base",
      "model_module_version": "1.0.0",
      "model_name": "LayoutModel",
      "state": {}
     },
     "ed5d38dd3e99429d9003d3e70aa4131a": {
      "model_module": "@jupyter-widgets/controls",
      "model_module_version": "1.0.0",
      "model_name": "TabModel",
      "state": {
       "_titles": {
        "0": "Canvas",
        "1": "Snapshot"
       },
       "children": [
        "IPY_MODEL_0c46632e8b2c4f11893b3cfdf8ae54cf",
        "IPY_MODEL_ba6d59be6ff248cd850dd1b8536ebf97"
       ],
       "layout": "IPY_MODEL_d62e7d4318974ea28c4944b730a5e10a"
      }
     },
     "ed8bd13349c44762a6c7d801bd7e85b7": {
      "model_module": "@jupyter-widgets/controls",
      "model_module_version": "1.0.0",
      "model_name": "HTMLModel",
      "state": {
       "layout": "IPY_MODEL_b130899b5ff64325a65311b5a7cdc387",
       "style": "IPY_MODEL_b7002175c0e74a5e9e04d6d79b2117a5",
       "value": "<img src=\"color_chooser.png\" id=\"snapshot_id_1_1536692361845\"/>\n <div id=\"snapshot_id_2_1536692361845\">color_chooser.png</div>"
      }
     },
     "ee6ed0ea4fa146aa8d254be2e6ad4738": {
      "model_module": "@jupyter-widgets/base",
      "model_module_version": "1.0.0",
      "model_name": "LayoutModel",
      "state": {}
     },
     "eeff2a3b17444d0090a540653209a389": {
      "model_module": "@jupyter-widgets/base",
      "model_module_version": "1.0.0",
      "model_name": "LayoutModel",
      "state": {}
     },
     "efc1eca58e3047c7a130183c3378d896": {
      "model_module": "jp_proxy_widget",
      "model_module_version": "^0.3.4",
      "model_name": "JSProxyModel",
      "state": {
       "_model_module_version": "^0.3.4",
       "_send_counter": 2,
       "_view_module_version": "^0.3.4",
       "error_msg": "No error",
       "layout": "IPY_MODEL_5548ae9952e54d9e83f8cc5db00585eb",
       "rendered": true,
       "status": "Got results."
      }
     },
     "eff94e2fd7b64b7788ff18946cda365c": {
      "model_module": "@jupyter-widgets/controls",
      "model_module_version": "1.0.0",
      "model_name": "HTMLModel",
      "state": {
       "layout": "IPY_MODEL_b67ee65bf6e04e5aa4e04cc1b4ee1350",
       "style": "IPY_MODEL_1703dcd3c9964b738888ed8b6d1f8132",
       "value": "<img src=\"color_chooser2.png\" id=\"snapshot_id_23_1536695960341\"/>\n <div id=\"snapshot_id_24_1536695960341\">color_chooser2.png</div>"
      }
     },
     "f031a593a4ed459181d2e15e3fdabcfc": {
      "model_module": "@jupyter-widgets/base",
      "model_module_version": "1.0.0",
      "model_name": "LayoutModel",
      "state": {}
     },
     "f03635a4270d41e59020fc739e6febaa": {
      "model_module": "@jupyter-widgets/controls",
      "model_module_version": "1.0.0",
      "model_name": "HTMLModel",
      "state": {
       "layout": "IPY_MODEL_0baadc9c60444b79abad2bda63eb9998",
       "style": "IPY_MODEL_a59a11e3bb5745589b3a40ac34cfaea8",
       "value": "<img src=\"color_chooser.png\" id=\"snapshot_id_1_1536671175325\"/>\n <div id=\"snapshot_id_2_1536671175325\">color_chooser.png</div>"
      }
     },
     "f0a9d043d0194fc291d2e2350ab6a81e": {
      "model_module": "@jupyter-widgets/base",
      "model_module_version": "1.0.0",
      "model_name": "LayoutModel",
      "state": {}
     },
     "f0d29601d9d2471694fb3745d8b07cb3": {
      "model_module": "jp_proxy_widget",
      "model_module_version": "^0.3.4",
      "model_name": "JSProxyModel",
      "state": {
       "_model_module_version": "^0.3.4",
       "_send_counter": 8,
       "_view_module_version": "^0.3.4",
       "error_msg": "No error",
       "layout": "IPY_MODEL_836128797b2049ffa97709f67dec1678",
       "rendered": true,
       "status": "Got results."
      }
     },
     "f130017c391047b1b3bb7f675339ef05": {
      "model_module": "@jupyter-widgets/base",
      "model_module_version": "1.0.0",
      "model_name": "LayoutModel",
      "state": {}
     },
     "f1ab61a342ea4a3094dec20f55194f78": {
      "model_module": "@jupyter-widgets/base",
      "model_module_version": "1.0.0",
      "model_name": "LayoutModel",
      "state": {}
     },
     "f1e973832d9b4d249f1a38e6964ac30d": {
      "model_module": "@jupyter-widgets/base",
      "model_module_version": "1.0.0",
      "model_name": "LayoutModel",
      "state": {}
     },
     "f21ba75280ab428d8524625e14a5f65a": {
      "model_module": "@jupyter-widgets/base",
      "model_module_version": "1.0.0",
      "model_name": "LayoutModel",
      "state": {}
     },
     "f244e3903e854a548eea2478baf4f84f": {
      "model_module": "@jupyter-widgets/base",
      "model_module_version": "1.0.0",
      "model_name": "LayoutModel",
      "state": {}
     },
     "f26657c046ee4afcb27a707871ce4ecc": {
      "model_module": "@jupyter-widgets/base",
      "model_module_version": "1.0.0",
      "model_name": "LayoutModel",
      "state": {}
     },
     "f31661f530dd4ad4a61ced4026c0afe2": {
      "model_module": "@jupyter-widgets/controls",
      "model_module_version": "1.0.0",
      "model_name": "VBoxModel",
      "state": {
       "children": [
        "IPY_MODEL_b9d1605549e249d49c891fc27b03553e",
        "IPY_MODEL_d84bb35e6aa746388ad06e16580aceae"
       ],
       "layout": "IPY_MODEL_98938ff67d644b7da7d30916834e7b16"
      }
     },
     "f31dc92e312c43d1ad75937573b4cecf": {
      "model_module": "@jupyter-widgets/controls",
      "model_module_version": "1.0.0",
      "model_name": "HTMLModel",
      "state": {
       "layout": "IPY_MODEL_f130017c391047b1b3bb7f675339ef05",
       "style": "IPY_MODEL_e271e7e7d5124133aa1ae028ae1fd824",
       "value": "<img src=\"color_chooser.png\" id=\"snapshot_id_3_1536692993183\"/>\n <div id=\"snapshot_id_4_1536692993183\">color_chooser.png</div>"
      }
     },
     "f32bff33f49a44359f8f5efe7cd7a3a8": {
      "model_module": "@jupyter-widgets/controls",
      "model_module_version": "1.0.0",
      "model_name": "TabModel",
      "state": {
       "_titles": {
        "0": "Canvas",
        "1": "Snapshot"
       },
       "children": [
        "IPY_MODEL_2e9b8333ce834d468758f1e7dae74874",
        "IPY_MODEL_7caf979190894bd0b32bc6fc033052b2"
       ],
       "layout": "IPY_MODEL_989e662b020b41629385747b33a31839"
      }
     },
     "f3352ba5fd4d46fb8036713c734f5fb2": {
      "model_module": "@jupyter-widgets/controls",
      "model_module_version": "1.0.0",
      "model_name": "HTMLModel",
      "state": {
       "layout": "IPY_MODEL_a95ff4db3bbc4213989f93eb5872c7d0",
       "style": "IPY_MODEL_100202e61be840c5961fa4e1e4b80606",
       "value": "<img src=\"color_chooser2.png\" id=\"snapshot_id_27_1536696420206\"/>\n <div id=\"snapshot_id_28_1536696420206\">color_chooser2.png</div>"
      }
     },
     "f406b74722d04752bad36e8bf82f5968": {
      "model_module": "@jupyter-widgets/controls",
      "model_module_version": "1.0.0",
      "model_name": "VBoxModel",
      "state": {
       "children": [
        "IPY_MODEL_a7431e478e424423be9ed39b6a4783a7",
        "IPY_MODEL_5629631ee78e4573b1c0bd60642c1920"
       ],
       "layout": "IPY_MODEL_8afb1a91fa994a6d9fee79efdf88a448"
      }
     },
     "f4245d8acf1c43b79badd290d84f3a97": {
      "model_module": "@jupyter-widgets/base",
      "model_module_version": "1.0.0",
      "model_name": "LayoutModel",
      "state": {}
     },
     "f4b3aa0ba8f14afab69bde6d57b49eed": {
      "model_module": "@jupyter-widgets/base",
      "model_module_version": "1.0.0",
      "model_name": "LayoutModel",
      "state": {}
     },
     "f4c43c9c4c344dbda32214e6fbb5cc9b": {
      "model_module": "jp_proxy_widget",
      "model_module_version": "^0.3.4",
      "model_name": "JSProxyModel",
      "state": {
       "_model_module_version": "^0.3.4",
       "_send_counter": 2,
       "_view_module_version": "^0.3.4",
       "error_msg": "No error",
       "layout": "IPY_MODEL_54be8e8472fb4e168cb1007976beff20",
       "rendered": true,
       "status": "Got results."
      }
     },
     "f5ffb42b335e44e199b6677551e85972": {
      "model_module": "@jupyter-widgets/base",
      "model_module_version": "1.0.0",
      "model_name": "LayoutModel",
      "state": {}
     },
     "f608861b5ffa4e0b8e13d6317d9db4d0": {
      "model_module": "@jupyter-widgets/base",
      "model_module_version": "1.0.0",
      "model_name": "LayoutModel",
      "state": {}
     },
     "f6190f51719f4f239c00b77374254748": {
      "model_module": "@jupyter-widgets/controls",
      "model_module_version": "1.0.0",
      "model_name": "TabModel",
      "state": {
       "_titles": {
        "0": "Canvas",
        "1": "Snapshot"
       },
       "children": [
        "IPY_MODEL_b860c9e187c247c4b58a21c4d4f18d9a",
        "IPY_MODEL_e8b71267a78347bfb504ef85927277a9"
       ],
       "layout": "IPY_MODEL_c1d203086bc248969e1cf11afc6de29a"
      }
     },
     "f6739b061b874f8f9606c48848c9720d": {
      "model_module": "@jupyter-widgets/controls",
      "model_module_version": "1.0.0",
      "model_name": "VBoxModel",
      "state": {
       "children": [
        "IPY_MODEL_0e8b1776c0db4ada803daa4e60667381",
        "IPY_MODEL_946b460a783248bba22a0ffcd035b8cd"
       ],
       "layout": "IPY_MODEL_f981b62b0e52474495222d5490f1b53d"
      }
     },
     "f6b3579546794180a513967ea9eedbdd": {
      "model_module": "@jupyter-widgets/base",
      "model_module_version": "1.0.0",
      "model_name": "LayoutModel",
      "state": {}
     },
     "f7463e3c6b19467291b5aaed558a7da1": {
      "model_module": "@jupyter-widgets/base",
      "model_module_version": "1.0.0",
      "model_name": "LayoutModel",
      "state": {}
     },
     "f761a6686c764a3ca4bdca6f7f17311a": {
      "model_module": "@jupyter-widgets/controls",
      "model_module_version": "1.0.0",
      "model_name": "VBoxModel",
      "state": {
       "children": [
        "IPY_MODEL_d9e58a1b587f441cba14fdd576de26a2",
        "IPY_MODEL_f4c43c9c4c344dbda32214e6fbb5cc9b"
       ],
       "layout": "IPY_MODEL_86159034851a41649eced50d130892fe"
      }
     },
     "f7657889da834a1486ff5d9497a704a5": {
      "model_module": "@jupyter-widgets/base",
      "model_module_version": "1.0.0",
      "model_name": "LayoutModel",
      "state": {}
     },
     "f779ab68940043e0adf93d9db8529929": {
      "model_module": "jp_proxy_widget",
      "model_module_version": "^0.3.4",
      "model_name": "JSProxyModel",
      "state": {
       "_model_module_version": "^0.3.4",
       "_send_counter": 2,
       "_view_module_version": "^0.3.4",
       "error_msg": "No error",
       "layout": "IPY_MODEL_96125d62867b4ffebebf40b46a0e9dd5",
       "rendered": true,
       "status": "Got results."
      }
     },
     "f799a6509d6d46118eddd02369ae24a9": {
      "model_module": "@jupyter-widgets/base",
      "model_module_version": "1.0.0",
      "model_name": "LayoutModel",
      "state": {}
     },
     "f981b62b0e52474495222d5490f1b53d": {
      "model_module": "@jupyter-widgets/base",
      "model_module_version": "1.0.0",
      "model_name": "LayoutModel",
      "state": {}
     },
     "f9f63efddc93449192822a3c4abe8ad8": {
      "model_module": "@jupyter-widgets/controls",
      "model_module_version": "1.0.0",
      "model_name": "TabModel",
      "state": {
       "_titles": {
        "0": "Canvas",
        "1": "Snapshot"
       },
       "children": [
        "IPY_MODEL_be5d5bf291d2477da79c316382b60ced",
        "IPY_MODEL_7cd11a04fa2848a7bd90b53e549c2def"
       ],
       "layout": "IPY_MODEL_c2b805e68ae2459389d65705ebef0016"
      }
     },
     "fb31a7ab026842a6978c297905b6119b": {
      "model_module": "@jupyter-widgets/base",
      "model_module_version": "1.0.0",
      "model_name": "LayoutModel",
      "state": {}
     },
     "fb34a9e5019a438c9e96f1cb12db79a6": {
      "model_module": "@jupyter-widgets/base",
      "model_module_version": "1.0.0",
      "model_name": "LayoutModel",
      "state": {}
     },
     "fb3e2cca60404fad84762bcf2ce7cee8": {
      "model_module": "@jupyter-widgets/base",
      "model_module_version": "1.0.0",
      "model_name": "LayoutModel",
      "state": {}
     },
     "fb656e1aa1204073a798e88d1e9b432b": {
      "model_module": "jp_proxy_widget",
      "model_module_version": "^0.3.4",
      "model_name": "JSProxyModel",
      "state": {
       "_model_module_version": "^0.3.4",
       "_send_counter": 8,
       "_view_module_version": "^0.3.4",
       "error_msg": "ReferenceError: i_wscale is not defined",
       "layout": "IPY_MODEL_1429951fa7f54c6da3f857c453397200",
       "rendered": true,
       "status": "Rendered."
      }
     },
     "fb90163d397141c5b01d2311c411101b": {
      "model_module": "@jupyter-widgets/base",
      "model_module_version": "1.0.0",
      "model_name": "LayoutModel",
      "state": {}
     },
     "fc191b3b80fb4207950b64767fc94a1c": {
      "model_module": "@jupyter-widgets/controls",
      "model_module_version": "1.0.0",
      "model_name": "VBoxModel",
      "state": {
       "children": [
        "IPY_MODEL_b6b6c0e27c4a4ecb9ccc0ca438529152",
        "IPY_MODEL_808e82a7f2004580bb6efa73bd2dd1ef"
       ],
       "layout": "IPY_MODEL_0e85a0e1721143a6b7f3cd1ead5b91d7"
      }
     },
     "fc1d1712064940a5af90afc0419db13a": {
      "model_module": "@jupyter-widgets/base",
      "model_module_version": "1.0.0",
      "model_name": "LayoutModel",
      "state": {}
     },
     "fc3aabdc9d26452e8282d94ec6c673a5": {
      "model_module": "@jupyter-widgets/controls",
      "model_module_version": "1.0.0",
      "model_name": "DescriptionStyleModel",
      "state": {
       "description_width": ""
      }
     },
     "fc86bda76f4744a1b8ac35482cad4f4c": {
      "model_module": "jp_proxy_widget",
      "model_module_version": "^0.3.4",
      "model_name": "JSProxyModel",
      "state": {
       "_model_module_version": "^0.3.4",
       "_send_counter": 8,
       "_view_module_version": "^0.3.4",
       "error_msg": "No error",
       "layout": "IPY_MODEL_feb498d289bf49b88fe1600930d89330",
       "rendered": true,
       "status": "Got results."
      }
     },
     "fd8c968bebd94f188375fbb3a41dbea4": {
      "model_module": "jp_proxy_widget",
      "model_module_version": "^0.3.4",
      "model_name": "JSProxyModel",
      "state": {
       "_model_module_version": "^0.3.4",
       "_send_counter": 8,
       "_view_module_version": "^0.3.4",
       "error_msg": "ReferenceError: triangle_frame is not defined",
       "layout": "IPY_MODEL_f031a593a4ed459181d2e15e3fdabcfc",
       "rendered": true,
       "status": "Rendered."
      }
     },
     "fe4375841824476fa57d6f1f879a9ea8": {
      "model_module": "@jupyter-widgets/base",
      "model_module_version": "1.0.0",
      "model_name": "LayoutModel",
      "state": {}
     },
     "fe72cd834dea499f9b18c76ed68bcc3e": {
      "model_module": "@jupyter-widgets/base",
      "model_module_version": "1.0.0",
      "model_name": "LayoutModel",
      "state": {}
     },
     "fe8f25837e0c49129d907c083fa2828b": {
      "model_module": "jp_proxy_widget",
      "model_module_version": "^0.3.4",
      "model_name": "JSProxyModel",
      "state": {
       "_model_module_version": "^0.3.4",
       "_send_counter": 8,
       "_view_module_version": "^0.3.4",
       "error_msg": "No error",
       "layout": "IPY_MODEL_1508ab7839494e70b108a1b50328ac06",
       "rendered": true,
       "status": "Got results."
      }
     },
     "fe980fbf4e58484cbab9ff45e25dbadd": {
      "model_module": "@jupyter-widgets/base",
      "model_module_version": "1.0.0",
      "model_name": "LayoutModel",
      "state": {}
     },
     "feb498d289bf49b88fe1600930d89330": {
      "model_module": "@jupyter-widgets/base",
      "model_module_version": "1.0.0",
      "model_name": "LayoutModel",
      "state": {}
     },
     "ff34c284319147f0afa95ce34c0e0388": {
      "model_module": "jp_proxy_widget",
      "model_module_version": "^0.3.4",
      "model_name": "JSProxyModel",
      "state": {
       "_model_module_version": "^0.3.4",
       "_send_counter": 15,
       "_view_module_version": "^0.3.4",
       "error_msg": "No error",
       "layout": "IPY_MODEL_5ca5f5ef4ea14b3bb4f9b6b7f9a4b8c2",
       "rendered": true,
       "status": "Got results."
      }
     },
     "ff8389b0b7294e41af3649bcc76da4ff": {
      "model_module": "@jupyter-widgets/base",
      "model_module_version": "1.0.0",
      "model_name": "LayoutModel",
      "state": {}
     },
     "ffc388c0c5c840308f4936b6bdcdf03a": {
      "model_module": "@jupyter-widgets/controls",
      "model_module_version": "1.0.0",
      "model_name": "HTMLModel",
      "state": {
       "layout": "IPY_MODEL_99338c91601442f29d44c588fd3953c5",
       "style": "IPY_MODEL_380c8b9b92c842499c92b405a8841c38",
       "value": "<img src=\"color_chooser.png\" id=\"snapshot_id_3_1536677694480\"/>\n <div id=\"snapshot_id_4_1536677694480\">color_chooser.png</div>"
      }
     }
    },
    "version_major": 2,
    "version_minor": 0
   }
  }
 },
 "nbformat": 4,
 "nbformat_minor": 2
}
