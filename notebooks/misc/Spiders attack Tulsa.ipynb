{
 "cells": [
  {
   "cell_type": "markdown",
   "metadata": {
    "deletable": true,
    "editable": true
   },
   "source": [
    "# Spiders attack Tulsa\n",
    "\n",
    "## A spider with a white background\n",
    "\n",
    "<div style=\"background-color:lightblue; border:10px\">\n",
    "<img src=\"./spider_white_background.jpg\" width=\"200\">\n",
    "</div>\n",
    "\n",
    "## Tulsa\n",
    "\n",
    "<img src=\"./tulsa2012.jpg\" width=\"300\">"
   ]
  },
  {
   "cell_type": "code",
   "execution_count": 1,
   "metadata": {
    "collapsed": false,
    "deletable": true,
    "editable": true
   },
   "outputs": [
    {
     "data": {
      "text/plain": [
       "((1536, 2048, 3), 255, 0)"
      ]
     },
     "execution_count": 1,
     "metadata": {},
     "output_type": "execute_result"
    }
   ],
   "source": [
    "\n",
    "spider_src = \"./spider_white_background.jpg\"\n",
    "tulsa_src = \"./tulsa2012.jpg\"  # 1400 x 700\n",
    "\n",
    "from jp_doodle import dual_canvas\n",
    "from IPython.display import display\n",
    "\n",
    "# We need a spider with a tranparent background\n",
    "# reading an image from python\n",
    "import matplotlib.image as mpimg\n",
    "spa = mpimg.imread(spider_src)\n",
    "spa.shape, spa.max(), spa.min()"
   ]
  },
  {
   "cell_type": "code",
   "execution_count": 2,
   "metadata": {
    "collapsed": false,
    "deletable": true,
    "editable": true
   },
   "outputs": [],
   "source": [
    "import numpy as np\n",
    "import scipy.misc as sm\n",
    "\n",
    "# Make an array with an alpha channel\n",
    "spb = np.zeros(spa.shape[:2] + (4,))\n",
    "# copy colors from spider imate\n",
    "spb[:,:,0:3] = spa\n",
    "spb[:,:,3] = 256 # default to fully opaque everywhere\n",
    "# Now make any pixel that is too white tranparent.\n",
    "# There are faster and cooler ways to do this...\n",
    "too_white = 256 * 3 - 200\n",
    "for i in range(spa.shape[0]):\n",
    "    for j in range(spa.shape[1]):\n",
    "        color_sum = spa[i,j,:].sum()\n",
    "        if color_sum > too_white:\n",
    "            spb[i,j,3] = 0\n",
    "# make the spider redder\n",
    "spb[:,:,0] = spb[:,:,0] * 0.5 + 125;\n",
    "spider_transparent = \"./spider_transparent_background.png\"\n",
    "sm.imsave(spider_transparent, spb)"
   ]
  },
  {
   "cell_type": "markdown",
   "metadata": {
    "deletable": true,
    "editable": true
   },
   "source": [
    "# A spider with a transparent background\n",
    "\n",
    "<div style=\"background-color:lightblue; border:10px\">\n",
    "<img src=\"./spider_transparent_background.png?a=3\" width=\"200\">\n",
    "</div>"
   ]
  },
  {
   "cell_type": "code",
   "execution_count": 3,
   "metadata": {
    "collapsed": false
   },
   "outputs": [
    {
     "data": {
      "application/vnd.jupyter.widget-view+json": {
       "model_id": "f4fa91575a06407788c9294f08539aa5",
       "version_major": 2,
       "version_minor": 0
      },
      "text/html": [
       "<p>Failed to display Jupyter Widget of type <code>Tab</code>.</p>\n",
       "<p>\n",
       "  If you're reading this message in Jupyter Notebook or JupyterLab, it may mean\n",
       "  that the widgets JavaScript is still loading. If this message persists, it\n",
       "  likely means that the widgets JavaScript library is either not installed or\n",
       "  not enabled. See the <a href=\"https://ipywidgets.readthedocs.io/en/stable/user_install.html\">Jupyter\n",
       "  Widgets Documentation</a> for setup instructions.\n",
       "</p>\n",
       "<p>\n",
       "  If you're reading this message in another notebook frontend (for example, a static\n",
       "  rendering on GitHub or <a href=\"https://nbviewer.jupyter.org/\">NBViewer</a>),\n",
       "  it may mean that your frontend doesn't currently support widgets.\n",
       "</p>\n"
      ],
      "text/plain": [
       "Tab(children=(VBox(children=(SnapshotCanvas(status=u'Not yet rendered'), JSProxyWidget(status=u'Not yet rendered'))), HTML(value=u'<img src=\"rotated_spider.png\" id=\"snapshot_id_1_1535833591680\"/>\\n <div id=\"snapshot_id_2_1535833591680\">rotated_spider.png</div>')), _titles={u'1': 'Snapshot', u'0': 'Canvas'})"
      ]
     },
     "metadata": {},
     "output_type": "display_data"
    }
   ],
   "source": [
    "# Rotation and centering test\n",
    "from jp_doodle import dual_canvas\n",
    "from IPython.display import display\n",
    "\n",
    "rotation_test = dual_canvas.SnapshotCanvas(\"rotated_spider.png\", width=320, height=220)\n",
    "rotation_test.display_all()\n",
    "\n",
    "rotation_test.js_init(\"\"\"\n",
    "\n",
    "// This local image reference works in \"classic\" notebook, but not in Jupyter Lab.\n",
    "var tulsa_url = \"./tulsa2012.jpg?dummy=1\"\n",
    "element.name_image_url(\"tulsa\", tulsa_url);\n",
    "var spider_url = \"./spider_transparent_background.png?dummy=2\"\n",
    "element.name_image_url(\"spider\", spider_url);\n",
    "\n",
    "var degrees = 45;\n",
    "var x = 50\n",
    "var y = -100\n",
    "\n",
    "element.named_image({\n",
    "    image_name: \"spider\", x:x, y:y, w:100, h:100,\n",
    "    dx:-50, dy:-50, degrees:degrees\n",
    "    });\n",
    "element.rect({x:x, y:y, w:100, h:100,\n",
    "    dx:-50, dy:-50, degrees:degrees, color:\"rgba(100,100,100,0.2)\"})\n",
    "element.fit();\n",
    "element.lower_left_axes();\n",
    "element.fit();\n",
    "\"\"\")"
   ]
  },
  {
   "cell_type": "code",
   "execution_count": 4,
   "metadata": {
    "collapsed": false,
    "scrolled": false
   },
   "outputs": [
    {
     "data": {
      "application/vnd.jupyter.widget-view+json": {
       "model_id": "102ee44d24b24ccaa6a70ddfaf6a7a84",
       "version_major": 2,
       "version_minor": 0
      },
      "text/html": [
       "<p>Failed to display Jupyter Widget of type <code>Tab</code>.</p>\n",
       "<p>\n",
       "  If you're reading this message in Jupyter Notebook or JupyterLab, it may mean\n",
       "  that the widgets JavaScript is still loading. If this message persists, it\n",
       "  likely means that the widgets JavaScript library is either not installed or\n",
       "  not enabled. See the <a href=\"https://ipywidgets.readthedocs.io/en/stable/user_install.html\">Jupyter\n",
       "  Widgets Documentation</a> for setup instructions.\n",
       "</p>\n",
       "<p>\n",
       "  If you're reading this message in another notebook frontend (for example, a static\n",
       "  rendering on GitHub or <a href=\"https://nbviewer.jupyter.org/\">NBViewer</a>),\n",
       "  it may mean that your frontend doesn't currently support widgets.\n",
       "</p>\n"
      ],
      "text/plain": [
       "Tab(children=(VBox(children=(SnapshotCanvas(status=u'Not yet rendered'), JSProxyWidget(status=u'Not yet rendered'))), HTML(value=u'<img src=\"spider_attack.png\" id=\"snapshot_id_4_1535833603035\"/>\\n <div id=\"snapshot_id_5_1535833603035\">spider_attack.png</div>')), _titles={u'1': 'Snapshot', u'0': 'Canvas'})"
      ]
     },
     "metadata": {},
     "output_type": "display_data"
    }
   ],
   "source": [
    "\n",
    "spiders_attack = dual_canvas.SnapshotCanvas(\"spider_attack.png\", width=700, height=350)\n",
    "spiders_attack.display_all()\n",
    "spiders_attack.js_init(\"\"\"\n",
    "\n",
    "// This local image reference works in \"classic\" notebook, but not in Jupyter Lab.\n",
    "var tulsa_url = \"./tulsa2012.jpg?dummy=1\"\n",
    "element.name_image_url(\"tulsa\", tulsa_url);\n",
    "var spider_url = \"./spider_transparent_background.png?dummy=4\"\n",
    "element.name_image_url(\"spider\", spider_url);\n",
    "\n",
    "var w = 700;\n",
    "var h = 350;\n",
    "var mixer = 0.9;\n",
    "duration = 5;\n",
    "nspiders = 7;\n",
    "\n",
    "element.named_image({\n",
    "    image_name: \"tulsa\", x:0, y:0, w:w, h:h,\n",
    "    });\n",
    "\n",
    "var spiders = [];\n",
    "var random_location = function(old_location) {\n",
    "    old_location = old_location || {x: Math.random() * w, y: Math.random() * h};\n",
    "    var perturbation = {x: Math.random() * w, y: Math.random() * h};\n",
    "    return element.vadd(\n",
    "        element.vscale(1 - mixer, old_location), \n",
    "        element.vscale(mixer, perturbation));\n",
    "};\n",
    "var target_angle = function(position, target) {\n",
    "    var direction = element.vadd(\n",
    "        target,\n",
    "        element.vscale(-1, position)\n",
    "    );\n",
    "    return element.vdirection_degrees(direction);\n",
    "};\n",
    "\n",
    "for (var i=0; i<nspiders; i++) {\n",
    "    var target = random_location();\n",
    "    var position = random_location();\n",
    "    var degrees = target_angle(position, target);\n",
    "    var info = {name: \"spider\"+i, target: target, position:position};\n",
    "    spiders.push(info);\n",
    "    element.named_image({\n",
    "        name: info.name, image_name: \"spider\", x: position.x, y: position.y, w:100, h:100,\n",
    "        dx:-50, dy:-50, degrees:degrees\n",
    "        });\n",
    "    element.transition(info.name, {x: target.x, y: target.y}, duration); \n",
    "}\n",
    "element.fit();\n",
    "//element.lower_left_axes();\n",
    "//element.fit();\n",
    "\n",
    "var animate = function () {\n",
    "    var milliseconds = (new Date()).getTime();\n",
    "    // adjust the spider parameters\n",
    "    for (var i=0; i<nspiders; i++) {\n",
    "        var info = spiders[i];\n",
    "        var canvas_parameters = element.name_to_object_info[info.name];\n",
    "        var current_position = {x: canvas_parameters.x, y: canvas_parameters.y};\n",
    "        var target = random_location(info.target);\n",
    "        var degrees = target_angle(current_position, target);\n",
    "        element.transition(info.name, {x: target.x, y: target.y, degrees: degrees}, duration)\n",
    "    }\n",
    "    // Repeat the animation again later.\n",
    "    setTimeout(animate, duration*1000);\n",
    "};\n",
    "animate();\n",
    "\"\"\")"
   ]
  },
  {
   "cell_type": "code",
   "execution_count": null,
   "metadata": {
    "collapsed": true
   },
   "outputs": [],
   "source": []
  }
 ],
 "metadata": {
  "kernelspec": {
   "display_name": "Python 2",
   "language": "python",
   "name": "python2"
  },
  "language_info": {
   "codemirror_mode": {
    "name": "ipython",
    "version": 2
   },
   "file_extension": ".py",
   "mimetype": "text/x-python",
   "name": "python",
   "nbconvert_exporter": "python",
   "pygments_lexer": "ipython2",
   "version": "2.7.13"
  },
  "widgets": {
   "application/vnd.jupyter.widget-state+json": {
    "state": {
     "001e6e58c04c4156991dedd59edde6ca": {
      "model_module": "@jupyter-widgets/controls",
      "model_module_version": "1.0.0",
      "model_name": "TabModel",
      "state": {
       "_titles": {
        "0": "Canvas",
        "1": "Snapshot"
       },
       "children": [
        "IPY_MODEL_964e9b0553f84b1ca2f9681dfe17c4ea",
        "IPY_MODEL_2fe3750ead0d45ad8a8e33babc78f4a5"
       ],
       "layout": "IPY_MODEL_9880b30110bd4fa2b9d177dc1f1c29a6"
      }
     },
     "011470ab87fc4ad383c13f3bdddb6e7a": {
      "model_module": "@jupyter-widgets/controls",
      "model_module_version": "1.0.0",
      "model_name": "VBoxModel",
      "state": {
       "children": [
        "IPY_MODEL_2577e052b24d45bcac4044038272aabf",
        "IPY_MODEL_80f1d8f5692e40f9b057367e7c78e258"
       ],
       "layout": "IPY_MODEL_8f346b90c5b6423e9742767740e79db6"
      }
     },
     "0198dbca73964aeeaee8da042343320b": {
      "model_module": "@jupyter-widgets/controls",
      "model_module_version": "1.0.0",
      "model_name": "TabModel",
      "state": {
       "_titles": {
        "0": "Canvas",
        "1": "Snapshot"
       },
       "children": [
        "IPY_MODEL_e554544cc9a04ab0a3e06dd90f0db9de",
        "IPY_MODEL_68048da54feb40b4b68ba3a37c28ed45"
       ],
       "layout": "IPY_MODEL_1e0f5203a9a643db9b5ff56bbc9351e5"
      }
     },
     "026fea24847a4323a8d0f1d372bd0436": {
      "model_module": "@jupyter-widgets/controls",
      "model_module_version": "1.0.0",
      "model_name": "VBoxModel",
      "state": {
       "children": [
        "IPY_MODEL_c47ecab673e34b4093e579f87c77c473",
        "IPY_MODEL_bc12f3e95c7b436f8d20a32076baf806"
       ],
       "layout": "IPY_MODEL_8f89fbccdb6d4290a1afe4c9c6c08ee4"
      }
     },
     "02c98037adcf4c3c8be89d19ef919ac6": {
      "model_module": "@jupyter-widgets/controls",
      "model_module_version": "1.0.0",
      "model_name": "VBoxModel",
      "state": {
       "children": [
        "IPY_MODEL_a088bcb9db6042299b0dfd5f01241ab2",
        "IPY_MODEL_e01e5c9b307346adb3ff94753a924430"
       ],
       "layout": "IPY_MODEL_5c20d3c8855749f39ab5cb8792471064"
      }
     },
     "0328a9ffe3e849f98ad83947e133f0f8": {
      "model_module": "@jupyter-widgets/base",
      "model_module_version": "1.0.0",
      "model_name": "LayoutModel",
      "state": {}
     },
     "033ec57e71534113a04a5f6693667d15": {
      "model_module": "@jupyter-widgets/controls",
      "model_module_version": "1.0.0",
      "model_name": "HTMLModel",
      "state": {
       "layout": "IPY_MODEL_77fa183f7df8404e90cc9fb83f31bf78",
       "style": "IPY_MODEL_fb5607a553a147e8a1b8bf6644ac92bc",
       "value": "<img src=\"Image0.png\" id=\"snapshot_id_25_1535827491282\"/>\n <div id=\"snapshot_id_26_1535827491282\">Image0.png</div>"
      }
     },
     "0383dc19669342d39e49b45fc9ba2fb8": {
      "model_module": "@jupyter-widgets/base",
      "model_module_version": "1.0.0",
      "model_name": "LayoutModel",
      "state": {}
     },
     "04766a4d31f8429997ca2bbe67be87e8": {
      "model_module": "jp_proxy_widget",
      "model_module_version": "^0.3.4",
      "model_name": "JSProxyModel",
      "state": {
       "_model_module_version": "^0.3.4",
       "_send_counter": 8,
       "_view_module_version": "^0.3.4",
       "error_msg": "Error: Error in element.New SyntaxError: Unexpected token )",
       "layout": "IPY_MODEL_92014af6a1db4058b5e268f0a0546c6b",
       "rendered": true,
       "status": "Rendered."
      }
     },
     "04aba2b9aca64c568ce779cb6d35b7c9": {
      "model_module": "@jupyter-widgets/controls",
      "model_module_version": "1.0.0",
      "model_name": "TabModel",
      "state": {
       "_titles": {
        "0": "Canvas",
        "1": "Snapshot"
       },
       "children": [
        "IPY_MODEL_026fea24847a4323a8d0f1d372bd0436",
        "IPY_MODEL_56f007463a3343d48b03986c28a8f123"
       ],
       "layout": "IPY_MODEL_fbe3eaf637e84f4a9dfbd1f01e4ac743"
      }
     },
     "060c5c60a4b44a62bf01bccab2aafe62": {
      "model_module": "@jupyter-widgets/controls",
      "model_module_version": "1.0.0",
      "model_name": "TabModel",
      "state": {
       "_titles": {
        "0": "Canvas",
        "1": "Snapshot"
       },
       "children": [
        "IPY_MODEL_5b596d7c54b54659acac418117a7d357",
        "IPY_MODEL_322b98e6c3ea40728f40cfb3420d821f"
       ],
       "layout": "IPY_MODEL_5563969ebff74d68bf0708c01c341960"
      }
     },
     "066a5d4212364b39a1ffca5fbe47c141": {
      "model_module": "@jupyter-widgets/base",
      "model_module_version": "1.0.0",
      "model_name": "LayoutModel",
      "state": {}
     },
     "0670d89d6695452798631d4b3e9cfac2": {
      "model_module": "@jupyter-widgets/controls",
      "model_module_version": "1.0.0",
      "model_name": "HTMLModel",
      "state": {
       "layout": "IPY_MODEL_34cd994d973a4429aff9800f432c1f8b",
       "style": "IPY_MODEL_167e1b25b5384929b3b10b2b934a6408",
       "value": "<img src=\"rotated_spider.png\" id=\"snapshot_id_11_1535830826284\"/>\n <div id=\"snapshot_id_12_1535830826284\">rotated_spider.png</div>"
      }
     },
     "07076947193840f5984b511fc1277c7f": {
      "model_module": "@jupyter-widgets/base",
      "model_module_version": "1.0.0",
      "model_name": "LayoutModel",
      "state": {}
     },
     "07961a2c5115424e83acc88363674481": {
      "model_module": "@jupyter-widgets/controls",
      "model_module_version": "1.0.0",
      "model_name": "VBoxModel",
      "state": {
       "children": [
        "IPY_MODEL_7074514df7c24d46ae597be4db797e2e",
        "IPY_MODEL_da4f7fac5e4c49f98b7179e5c7e24af9"
       ],
       "layout": "IPY_MODEL_a1a7e8797d514ed799f852ef063d1e00"
      }
     },
     "0855790805224a32a276d57b85a278e5": {
      "model_module": "@jupyter-widgets/controls",
      "model_module_version": "1.0.0",
      "model_name": "HTMLModel",
      "state": {
       "layout": "IPY_MODEL_acdde8a443fb4a5eb71dd39ba1c5c325",
       "style": "IPY_MODEL_4655862aeb1044e091fa1238146bdd21",
       "value": "<img src=\"spider_attack.png\" id=\"snapshot_id_47_1535829939109\"/>\n <div id=\"snapshot_id_48_1535829939109\">spider_attack.png</div>"
      }
     },
     "087fee59a4af4ba88812ac4620ba50d4": {
      "model_module": "@jupyter-widgets/controls",
      "model_module_version": "1.0.0",
      "model_name": "TabModel",
      "state": {
       "_titles": {
        "0": "Canvas",
        "1": "Snapshot"
       },
       "children": [
        "IPY_MODEL_ccaaee74f81f4cb0a81c9a44b5971d82",
        "IPY_MODEL_4867eed575ea48c78fc3e248c241c66a"
       ],
       "layout": "IPY_MODEL_5bfc4a9b64ea4ee2b59525088d1c41d0"
      }
     },
     "08889efb31f94087b2bf8095394f232e": {
      "model_module": "@jupyter-widgets/base",
      "model_module_version": "1.0.0",
      "model_name": "LayoutModel",
      "state": {}
     },
     "090f2109ca2b48f899c37576b9b5d284": {
      "model_module": "@jupyter-widgets/controls",
      "model_module_version": "1.0.0",
      "model_name": "TabModel",
      "state": {
       "_titles": {
        "0": "Canvas",
        "1": "Snapshot"
       },
       "children": [
        "IPY_MODEL_51a1c580ae4745539813d85dcae64708",
        "IPY_MODEL_9e7f2449b53947bdbd5c7122ccbc8fd0"
       ],
       "layout": "IPY_MODEL_76a9256dc1df4293b8b2dd64d1db0075"
      }
     },
     "095de1c8f59d4abbb7f8dd04ba97aa23": {
      "model_module": "@jupyter-widgets/base",
      "model_module_version": "1.0.0",
      "model_name": "LayoutModel",
      "state": {}
     },
     "0bc27f8f4826459bb33bf67c28453367": {
      "model_module": "jp_proxy_widget",
      "model_module_version": "^0.3.4",
      "model_name": "JSProxyModel",
      "state": {
       "_model_module_version": "^0.3.4",
       "_send_counter": 2,
       "_view_module_version": "^0.3.4",
       "error_msg": "No error",
       "layout": "IPY_MODEL_ab01fe5b605141d6aab25cadd79fe451",
       "rendered": true,
       "status": "Got results."
      }
     },
     "0c333c19d6a846c4bea5c0e252f266c2": {
      "model_module": "@jupyter-widgets/base",
      "model_module_version": "1.0.0",
      "model_name": "LayoutModel",
      "state": {}
     },
     "0cc8b932916649c18341a151d4686c89": {
      "model_module": "@jupyter-widgets/controls",
      "model_module_version": "1.0.0",
      "model_name": "DescriptionStyleModel",
      "state": {
       "description_width": ""
      }
     },
     "0e069f7f4372448ab3996d7e6486a69b": {
      "model_module": "@jupyter-widgets/controls",
      "model_module_version": "1.0.0",
      "model_name": "TabModel",
      "state": {
       "_titles": {
        "0": "Canvas",
        "1": "Snapshot"
       },
       "children": [
        "IPY_MODEL_67515e767716492790f4a883d0e7e4a4",
        "IPY_MODEL_35457321b9ae47339c61ea10f0fbc385"
       ],
       "layout": "IPY_MODEL_bd64e8969360400ea34641ac2dfca08c"
      }
     },
     "10141c80f013477687bb8f7e8e2c72ae": {
      "model_module": "@jupyter-widgets/base",
      "model_module_version": "1.0.0",
      "model_name": "LayoutModel",
      "state": {}
     },
     "102ee44d24b24ccaa6a70ddfaf6a7a84": {
      "model_module": "@jupyter-widgets/controls",
      "model_module_version": "1.0.0",
      "model_name": "TabModel",
      "state": {
       "_titles": {
        "0": "Canvas",
        "1": "Snapshot"
       },
       "children": [
        "IPY_MODEL_ebe7b1bf68d946a5a5648c0db69278d3",
        "IPY_MODEL_facb1f43d29541d6891069ea480a9cd0"
       ],
       "layout": "IPY_MODEL_8923dbc3549f4256be3d4c827cabcfaf",
       "selected_index": 1
      }
     },
     "10b3c818efed42d3a3be853dcd8c9b0b": {
      "model_module": "@jupyter-widgets/base",
      "model_module_version": "1.0.0",
      "model_name": "LayoutModel",
      "state": {}
     },
     "1146027f834c44f1ac89d66aab33bdce": {
      "model_module": "jp_proxy_widget",
      "model_module_version": "^0.3.4",
      "model_name": "JSProxyModel",
      "state": {
       "_model_module_version": "^0.3.4",
       "_send_counter": 8,
       "_view_module_version": "^0.3.4",
       "error_msg": "ReferenceError: x is not defined",
       "layout": "IPY_MODEL_c7763521b30648eea54e60e9554b16f0",
       "rendered": true,
       "status": "Rendered."
      }
     },
     "115dd5eef8d2479894722ee8ae9a37ae": {
      "model_module": "jp_proxy_widget",
      "model_module_version": "^0.3.4",
      "model_name": "JSProxyModel",
      "state": {
       "_model_module_version": "^0.3.4",
       "_send_counter": 2,
       "_view_module_version": "^0.3.4",
       "error_msg": "No error",
       "layout": "IPY_MODEL_fa69f13bccdc4e7e8410f9eb55d06af8",
       "rendered": true,
       "status": "Got results."
      }
     },
     "1175904940cf486a984ddf895dd456fb": {
      "model_module": "@jupyter-widgets/controls",
      "model_module_version": "1.0.0",
      "model_name": "VBoxModel",
      "state": {
       "children": [
        "IPY_MODEL_f65e3935fde1498b99eae4bcafa6e6fa",
        "IPY_MODEL_5ceea2dc1c654b41ac072a2ad7d466e1"
       ],
       "layout": "IPY_MODEL_2e6b4325666448fc8eee74d2cd5f3464"
      }
     },
     "118afdd66a0a46b198eae982caedde39": {
      "model_module": "@jupyter-widgets/base",
      "model_module_version": "1.0.0",
      "model_name": "LayoutModel",
      "state": {}
     },
     "11ec350da9be4c6eb679d239359f781b": {
      "model_module": "@jupyter-widgets/controls",
      "model_module_version": "1.0.0",
      "model_name": "HTMLModel",
      "state": {
       "layout": "IPY_MODEL_10141c80f013477687bb8f7e8e2c72ae",
       "style": "IPY_MODEL_483dfc9af98e4faa9bf5d2b7355bcd2e",
       "value": "<img src=\"spider_attack.png\" id=\"snapshot_id_41_1535829833101\"/>\n <div id=\"snapshot_id_42_1535829833101\">spider_attack.png</div>"
      }
     },
     "12056953e25845439ab1f714309909b9": {
      "model_module": "@jupyter-widgets/base",
      "model_module_version": "1.0.0",
      "model_name": "LayoutModel",
      "state": {}
     },
     "121a47b605294ff8bdac727fcd185db6": {
      "model_module": "@jupyter-widgets/base",
      "model_module_version": "1.0.0",
      "model_name": "LayoutModel",
      "state": {}
     },
     "1229c88df97e4f9cbced7f26fd8a9281": {
      "model_module": "@jupyter-widgets/controls",
      "model_module_version": "1.0.0",
      "model_name": "VBoxModel",
      "state": {
       "children": [
        "IPY_MODEL_66e7e3aa81fa435b9f82a510aa594377",
        "IPY_MODEL_82824e720ba24a8180c2ab84410058a7"
       ],
       "layout": "IPY_MODEL_81b3568b699e4d6aba2bb890309f8795"
      }
     },
     "1279f3f780d5453d989c34f38f3f552b": {
      "model_module": "@jupyter-widgets/base",
      "model_module_version": "1.0.0",
      "model_name": "LayoutModel",
      "state": {}
     },
     "12a1beb38bb34b5fb49abe486306a95e": {
      "model_module": "@jupyter-widgets/controls",
      "model_module_version": "1.0.0",
      "model_name": "DescriptionStyleModel",
      "state": {
       "description_width": ""
      }
     },
     "12a24431351846f8bf4c2d75d1cfce31": {
      "model_module": "jp_proxy_widget",
      "model_module_version": "^0.3.4",
      "model_name": "JSProxyModel",
      "state": {
       "_model_module_version": "^0.3.4",
       "_send_counter": 2,
       "_view_module_version": "^0.3.4",
       "error_msg": "No error",
       "layout": "IPY_MODEL_43b1260817b940a5a8f331662514db41",
       "rendered": true,
       "status": "call back to <function callback_function at 0x113e87410>"
      }
     },
     "12ed35f59b1040808e380a0ccda2ccb8": {
      "model_module": "@jupyter-widgets/controls",
      "model_module_version": "1.0.0",
      "model_name": "DescriptionStyleModel",
      "state": {
       "description_width": ""
      }
     },
     "13389ea63148498da8dd6f690e1c1ae0": {
      "model_module": "@jupyter-widgets/controls",
      "model_module_version": "1.0.0",
      "model_name": "HTMLModel",
      "state": {
       "layout": "IPY_MODEL_ca9646a9f4a7401baed6a7e1900dfa72",
       "style": "IPY_MODEL_4844441c9e614829a7f8361f4f3069bb",
       "value": "<img src=\"Image0.png\" id=\"snapshot_id_19_1535827256885\"/>\n <div id=\"snapshot_id_20_1535827256885\">Image0.png</div>"
      }
     },
     "135359bb4f4241d8b3ea988a58ee4c53": {
      "model_module": "@jupyter-widgets/controls",
      "model_module_version": "1.0.0",
      "model_name": "HTMLModel",
      "state": {
       "layout": "IPY_MODEL_52f6c10830ea43eea60e9817c01aeb31",
       "style": "IPY_MODEL_5fda8a70b66246f3a2c8ea6c09527bfb",
       "value": "<img src=\"spider_attack.png\" id=\"snapshot_id_23_1535832154296\"/>\n <div id=\"snapshot_id_24_1535832154296\">spider_attack.png</div>"
      }
     },
     "1453d63dc2664a7ea5971c173057e9f7": {
      "model_module": "@jupyter-widgets/base",
      "model_module_version": "1.0.0",
      "model_name": "LayoutModel",
      "state": {}
     },
     "14c8a862bde0455ea57c367572b3d4be": {
      "model_module": "@jupyter-widgets/base",
      "model_module_version": "1.0.0",
      "model_name": "LayoutModel",
      "state": {}
     },
     "1553b1acf4254c76beef289168e922a4": {
      "model_module": "@jupyter-widgets/base",
      "model_module_version": "1.0.0",
      "model_name": "LayoutModel",
      "state": {}
     },
     "157723e472ec40cf8346f56d0e590b17": {
      "model_module": "@jupyter-widgets/controls",
      "model_module_version": "1.0.0",
      "model_name": "TabModel",
      "state": {
       "_titles": {
        "0": "Canvas",
        "1": "Snapshot"
       },
       "children": [
        "IPY_MODEL_5e11f180ecba45c0bf916296bb1f1277",
        "IPY_MODEL_5a1eb58148df47b785b6a411223f6cbe"
       ],
       "layout": "IPY_MODEL_48142d877bb143fcb505f92d0547dadf"
      }
     },
     "15bebd719bab48c8ba1ae7bb716f6d4c": {
      "model_module": "@jupyter-widgets/base",
      "model_module_version": "1.0.0",
      "model_name": "LayoutModel",
      "state": {}
     },
     "15c34a7f933a4bf8b5cbb1c99601b69d": {
      "model_module": "@jupyter-widgets/controls",
      "model_module_version": "1.0.0",
      "model_name": "TabModel",
      "state": {
       "_titles": {
        "0": "Canvas",
        "1": "Snapshot"
       },
       "children": [
        "IPY_MODEL_52f6917e60c34a8b98f9ab74766552bb",
        "IPY_MODEL_abb532e54e864ffea965626f6a0a433f"
       ],
       "layout": "IPY_MODEL_dbd0492f5836441f9ff7b9c54f345521"
      }
     },
     "162f05c27aa44818b7e9405b32d6f4a1": {
      "model_module": "jp_proxy_widget",
      "model_module_version": "^0.3.4",
      "model_name": "JSProxyModel",
      "state": {
       "_model_module_version": "^0.3.4",
       "_send_counter": 8,
       "_view_module_version": "^0.3.4",
       "error_msg": "No error",
       "layout": "IPY_MODEL_5c865724930644e28ea1cac06f67a90c",
       "rendered": true,
       "status": "Got results."
      }
     },
     "167e1b25b5384929b3b10b2b934a6408": {
      "model_module": "@jupyter-widgets/controls",
      "model_module_version": "1.0.0",
      "model_name": "DescriptionStyleModel",
      "state": {
       "description_width": ""
      }
     },
     "16da74f3d3e2450eae62210c0c96794d": {
      "model_module": "@jupyter-widgets/base",
      "model_module_version": "1.0.0",
      "model_name": "LayoutModel",
      "state": {}
     },
     "16dd91df0da74164be158c7037b2a881": {
      "model_module": "@jupyter-widgets/controls",
      "model_module_version": "1.0.0",
      "model_name": "VBoxModel",
      "state": {
       "children": [
        "IPY_MODEL_7ab6325a808b4e38b11e1f9bc72555ee",
        "IPY_MODEL_85e9060c3c964bf3859e90aeca0f445c"
       ],
       "layout": "IPY_MODEL_cfa279192765414a814627121de99426"
      }
     },
     "16ecf7382df74446b0a5fb54dc62e056": {
      "model_module": "@jupyter-widgets/base",
      "model_module_version": "1.0.0",
      "model_name": "LayoutModel",
      "state": {}
     },
     "16f653abc7dd4a0cae30321d48676cb2": {
      "model_module": "@jupyter-widgets/base",
      "model_module_version": "1.0.0",
      "model_name": "LayoutModel",
      "state": {}
     },
     "1764a898efab42aab177f91e35bab604": {
      "model_module": "@jupyter-widgets/base",
      "model_module_version": "1.0.0",
      "model_name": "LayoutModel",
      "state": {}
     },
     "17963da9848045628e07f153f3d46595": {
      "model_module": "@jupyter-widgets/controls",
      "model_module_version": "1.0.0",
      "model_name": "HTMLModel",
      "state": {
       "layout": "IPY_MODEL_0c333c19d6a846c4bea5c0e252f266c2",
       "style": "IPY_MODEL_432d1b1719c4455d86c1d7acbcf54fc8",
       "value": "<img src=\"spider_attack.png\" id=\"snapshot_id_33_1535832496570\"/>\n <div id=\"snapshot_id_34_1535832496570\">spider_attack.png</div>"
      }
     },
     "17a61b24d4b1439fab9c1c91a8aa2107": {
      "model_module": "jp_proxy_widget",
      "model_module_version": "^0.3.4",
      "model_name": "JSProxyModel",
      "state": {
       "_model_module_version": "^0.3.4",
       "_send_counter": 8,
       "_view_module_version": "^0.3.4",
       "error_msg": "No error",
       "layout": "IPY_MODEL_07076947193840f5984b511fc1277c7f",
       "rendered": true,
       "status": "Got results."
      }
     },
     "17aad778ac6b47528e2915f7284b6a85": {
      "model_module": "@jupyter-widgets/controls",
      "model_module_version": "1.0.0",
      "model_name": "VBoxModel",
      "state": {
       "children": [
        "IPY_MODEL_7d8212fa3d434e729054fe29ddc882b6",
        "IPY_MODEL_f118e87d0ca94271871dd8e4e6c00562"
       ],
       "layout": "IPY_MODEL_e451badc5e7e4270b233590e2759076d"
      }
     },
     "17b50835a50e44a4b28b12a598120198": {
      "model_module": "@jupyter-widgets/base",
      "model_module_version": "1.0.0",
      "model_name": "LayoutModel",
      "state": {}
     },
     "187115fb244f4cafacbc464f8d12ebc8": {
      "model_module": "jp_proxy_widget",
      "model_module_version": "^0.3.4",
      "model_name": "JSProxyModel",
      "state": {
       "_model_module_version": "^0.3.4",
       "_send_counter": 8,
       "_view_module_version": "^0.3.4",
       "error_msg": "No error",
       "layout": "IPY_MODEL_afa9d3e5340a4c399aa13e31c6530e79",
       "rendered": true,
       "status": "Got results."
      }
     },
     "1924055f9d9945ddb0c28c3d4ed24900": {
      "model_module": "jp_proxy_widget",
      "model_module_version": "^0.3.4",
      "model_name": "JSProxyModel",
      "state": {
       "_model_module_version": "^0.3.4",
       "_send_counter": 2,
       "_view_module_version": "^0.3.4",
       "error_msg": "No error",
       "layout": "IPY_MODEL_f8d8898c49f04cd0a7d99b24e6046585",
       "rendered": true,
       "status": "Got results."
      }
     },
     "194799c77b9647f68b6b6a446ed739f8": {
      "model_module": "@jupyter-widgets/base",
      "model_module_version": "1.0.0",
      "model_name": "LayoutModel",
      "state": {}
     },
     "195dd32cce5346ef8d4b99eaf5e228ae": {
      "model_module": "@jupyter-widgets/base",
      "model_module_version": "1.0.0",
      "model_name": "LayoutModel",
      "state": {}
     },
     "1968c6a931334d219b0778be48cad025": {
      "model_module": "@jupyter-widgets/controls",
      "model_module_version": "1.0.0",
      "model_name": "DescriptionStyleModel",
      "state": {
       "description_width": ""
      }
     },
     "196e675ff9a34da68c99258f7507959d": {
      "model_module": "@jupyter-widgets/controls",
      "model_module_version": "1.0.0",
      "model_name": "TabModel",
      "state": {
       "_titles": {
        "0": "Canvas",
        "1": "Snapshot"
       },
       "children": [
        "IPY_MODEL_375cffaa2a54411891b42d08984d7c2c",
        "IPY_MODEL_4fb69da517bc4d4aa6360ce90f12fe6f"
       ],
       "layout": "IPY_MODEL_822d958ea5f14beda437a8acedd1bff8"
      }
     },
     "1ae156a0513a4033bc116d6cc3d0437e": {
      "model_module": "jp_proxy_widget",
      "model_module_version": "^0.3.4",
      "model_name": "JSProxyModel",
      "state": {
       "_model_module_version": "^0.3.4",
       "_send_counter": 8,
       "_view_module_version": "^0.3.4",
       "error_msg": "ReferenceError: y is not defined",
       "layout": "IPY_MODEL_fea67a4840e44415b86a0533b9bde18e",
       "rendered": true,
       "status": "Rendered."
      }
     },
     "1ae5124539454c4fbb5d4d65826a9a74": {
      "model_module": "@jupyter-widgets/controls",
      "model_module_version": "1.0.0",
      "model_name": "VBoxModel",
      "state": {
       "children": [
        "IPY_MODEL_1ae156a0513a4033bc116d6cc3d0437e",
        "IPY_MODEL_b1e59b7e14b74f5aab4afed3fb2743f4"
       ],
       "layout": "IPY_MODEL_49c52602b31b45f396892939387a2d98"
      }
     },
     "1ae86ecae85840f595686ba1bef821ae": {
      "model_module": "@jupyter-widgets/base",
      "model_module_version": "1.0.0",
      "model_name": "LayoutModel",
      "state": {}
     },
     "1bce02e72caa43feacc2625c975b8b5f": {
      "model_module": "jp_proxy_widget",
      "model_module_version": "^0.3.4",
      "model_name": "JSProxyModel",
      "state": {
       "_model_module_version": "^0.3.4",
       "_send_counter": 2,
       "_view_module_version": "^0.3.4",
       "error_msg": "No error",
       "layout": "IPY_MODEL_c97c268b6b9742ee8a612515999a223d",
       "rendered": true,
       "status": "Got results."
      }
     },
     "1c2acca2f54a4f97a26255ad6371b161": {
      "model_module": "@jupyter-widgets/controls",
      "model_module_version": "1.0.0",
      "model_name": "DescriptionStyleModel",
      "state": {
       "description_width": ""
      }
     },
     "1c3d1ae5cbc74c21839a80c1dab350ac": {
      "model_module": "@jupyter-widgets/base",
      "model_module_version": "1.0.0",
      "model_name": "LayoutModel",
      "state": {}
     },
     "1cebc70fd4dc48e08b0e1b52fee6bea8": {
      "model_module": "@jupyter-widgets/controls",
      "model_module_version": "1.0.0",
      "model_name": "DescriptionStyleModel",
      "state": {
       "description_width": ""
      }
     },
     "1d181389e8cb4e85ab4ef5e6aa4d559f": {
      "model_module": "jp_proxy_widget",
      "model_module_version": "^0.3.4",
      "model_name": "JSProxyModel",
      "state": {
       "_model_module_version": "^0.3.4",
       "_send_counter": 8,
       "_view_module_version": "^0.3.4",
       "error_msg": "No error",
       "layout": "IPY_MODEL_cabe1f2549b244558bf93bd0d03bf59d",
       "rendered": true,
       "status": "Got results."
      }
     },
     "1d8bb32532f14f46a0d09502a8ce97e9": {
      "model_module": "@jupyter-widgets/base",
      "model_module_version": "1.0.0",
      "model_name": "LayoutModel",
      "state": {}
     },
     "1e0f5203a9a643db9b5ff56bbc9351e5": {
      "model_module": "@jupyter-widgets/base",
      "model_module_version": "1.0.0",
      "model_name": "LayoutModel",
      "state": {}
     },
     "1e453d4bc6404d6ba4f899e4a719e08a": {
      "model_module": "jp_proxy_widget",
      "model_module_version": "^0.3.4",
      "model_name": "JSProxyModel",
      "state": {
       "_model_module_version": "^0.3.4",
       "_send_counter": 2,
       "_view_module_version": "^0.3.4",
       "error_msg": "No error",
       "layout": "IPY_MODEL_16ecf7382df74446b0a5fb54dc62e056",
       "rendered": true,
       "status": "Got results."
      }
     },
     "1e73e069a8454be3a3b76df3930ac7f1": {
      "model_module": "jp_proxy_widget",
      "model_module_version": "^0.3.4",
      "model_name": "JSProxyModel",
      "state": {
       "_model_module_version": "^0.3.4",
       "_send_counter": 2,
       "_view_module_version": "^0.3.4",
       "error_msg": "No error",
       "layout": "IPY_MODEL_c68a173bec3e4c1f9476178c64e4644a",
       "rendered": true,
       "status": "Got results."
      }
     },
     "1ebf0b332da845238b751d87d9961ad5": {
      "model_module": "@jupyter-widgets/controls",
      "model_module_version": "1.0.0",
      "model_name": "VBoxModel",
      "state": {
       "children": [
        "IPY_MODEL_162f05c27aa44818b7e9405b32d6f4a1",
        "IPY_MODEL_4ec2fe3c4d8944c984f6cb3048c5c102"
       ],
       "layout": "IPY_MODEL_cea9e2f256b34c35b61ce6e142e87f39"
      }
     },
     "1f68e4328f0240a2af7dd0183a0459ee": {
      "model_module": "jp_proxy_widget",
      "model_module_version": "^0.3.4",
      "model_name": "JSProxyModel",
      "state": {
       "_model_module_version": "^0.3.4",
       "_send_counter": 2,
       "_view_module_version": "^0.3.4",
       "error_msg": "No error",
       "layout": "IPY_MODEL_8a2624e43a044bdeb53363eeab762807",
       "rendered": true,
       "status": "Got results."
      }
     },
     "2001aa577f7b4a9493bb4ea2bd2c7184": {
      "model_module": "@jupyter-widgets/controls",
      "model_module_version": "1.0.0",
      "model_name": "VBoxModel",
      "state": {
       "children": [
        "IPY_MODEL_b062d6b995cc4575b8f9882429bf8eae",
        "IPY_MODEL_1e453d4bc6404d6ba4f899e4a719e08a"
       ],
       "layout": "IPY_MODEL_6322d33bed96472f8590c3e07931ac70"
      }
     },
     "209ac47d7b7b47f7be7090e02e5b8452": {
      "model_module": "@jupyter-widgets/base",
      "model_module_version": "1.0.0",
      "model_name": "LayoutModel",
      "state": {}
     },
     "23314afcc56d47aea5913d8c92d4bd85": {
      "model_module": "@jupyter-widgets/controls",
      "model_module_version": "1.0.0",
      "model_name": "HTMLModel",
      "state": {
       "layout": "IPY_MODEL_2c9cb128697a4e87a0ad5b5581a0ae07",
       "style": "IPY_MODEL_12ed35f59b1040808e380a0ccda2ccb8",
       "value": "<img src=\"spider_attack.png\" id=\"snapshot_id_21_1535832105778\"/>\n <div id=\"snapshot_id_22_1535832105778\">spider_attack.png</div>"
      }
     },
     "23630cb4da7b4d83a9c75af321ec6b0d": {
      "model_module": "jp_proxy_widget",
      "model_module_version": "^0.3.4",
      "model_name": "JSProxyModel",
      "state": {
       "_model_module_version": "^0.3.4",
       "_send_counter": 8,
       "_view_module_version": "^0.3.4",
       "error_msg": "No error",
       "layout": "IPY_MODEL_d2f99fad3d4c4d0aa0104de327cfd4ff",
       "rendered": true,
       "status": "Got results."
      }
     },
     "23995418fe2543d4ac2dcaa1f94c378e": {
      "model_module": "@jupyter-widgets/base",
      "model_module_version": "1.0.0",
      "model_name": "LayoutModel",
      "state": {}
     },
     "2508d61adc944fee8d400834c2b8530f": {
      "model_module": "@jupyter-widgets/controls",
      "model_module_version": "1.0.0",
      "model_name": "HTMLModel",
      "state": {
       "layout": "IPY_MODEL_194799c77b9647f68b6b6a446ed739f8",
       "style": "IPY_MODEL_1cebc70fd4dc48e08b0e1b52fee6bea8",
       "value": "<img src=\"Image0.png\" id=\"snapshot_id_13_1535827090357\"/>\n <div id=\"snapshot_id_14_1535827090357\">Image0.png</div>"
      }
     },
     "25418c7de2cd4cf6a108fc7b8940e5f2": {
      "model_module": "@jupyter-widgets/controls",
      "model_module_version": "1.0.0",
      "model_name": "TabModel",
      "state": {
       "_titles": {
        "0": "Canvas",
        "1": "Snapshot"
       },
       "children": [
        "IPY_MODEL_75f9c14c70244f57a697dab81668683b",
        "IPY_MODEL_11ec350da9be4c6eb679d239359f781b"
       ],
       "layout": "IPY_MODEL_36dd18677cfd4ec78dc0937f0467a6e5"
      }
     },
     "257528b713ca4d6387f08cbe25723375": {
      "model_module": "jp_proxy_widget",
      "model_module_version": "^0.3.4",
      "model_name": "JSProxyModel",
      "state": {
       "_model_module_version": "^0.3.4",
       "_send_counter": 2,
       "_view_module_version": "^0.3.4",
       "error_msg": "No error",
       "layout": "IPY_MODEL_6e98efbc10ff41e4b5cfd108e83a486a",
       "rendered": true,
       "status": "Got results."
      }
     },
     "2577e052b24d45bcac4044038272aabf": {
      "model_module": "jp_proxy_widget",
      "model_module_version": "^0.3.4",
      "model_name": "JSProxyModel",
      "state": {
       "_model_module_version": "^0.3.4",
       "_send_counter": 8,
       "_view_module_version": "^0.3.4",
       "error_msg": "No error",
       "layout": "IPY_MODEL_40a722ec6ddf483abb7b8d115653f54c",
       "rendered": true,
       "status": "Got results."
      }
     },
     "25c3f18854b3403fa2f61e4bb7f1bb2c": {
      "model_module": "jp_proxy_widget",
      "model_module_version": "^0.3.4",
      "model_name": "JSProxyModel",
      "state": {
       "_model_module_version": "^0.3.4",
       "_send_counter": 2,
       "_view_module_version": "^0.3.4",
       "error_msg": "No error",
       "layout": "IPY_MODEL_96fc9f095b664a9ead1c27166da75f1a",
       "rendered": true,
       "status": "Got results."
      }
     },
     "268cf2ea1e0146bb885a881b1a9b9d30": {
      "model_module": "@jupyter-widgets/base",
      "model_module_version": "1.0.0",
      "model_name": "LayoutModel",
      "state": {}
     },
     "26ba9df4cc564882a87779decb5f6517": {
      "model_module": "@jupyter-widgets/controls",
      "model_module_version": "1.0.0",
      "model_name": "VBoxModel",
      "state": {
       "children": [
        "IPY_MODEL_17a61b24d4b1439fab9c1c91a8aa2107",
        "IPY_MODEL_8a24966ef95244bea8e6440b342f6ab7"
       ],
       "layout": "IPY_MODEL_c4ac3501719a406192737cffc7f93bed"
      }
     },
     "27a23003fb164aa385ce1246978ad9da": {
      "model_module": "@jupyter-widgets/controls",
      "model_module_version": "1.0.0",
      "model_name": "DescriptionStyleModel",
      "state": {
       "description_width": ""
      }
     },
     "2807ce47a1ca440d940405910d47dbc9": {
      "model_module": "@jupyter-widgets/controls",
      "model_module_version": "1.0.0",
      "model_name": "HTMLModel",
      "state": {
       "layout": "IPY_MODEL_bc20a0b8aa0340c496b44217c4c7f4a7",
       "style": "IPY_MODEL_ca5ae35a0a1f4b61ba046f85b340371b",
       "value": "<img src=\"Image0.png\" id=\"snapshot_id_15_1535827235108\"/>\n <div id=\"snapshot_id_16_1535827235108\">Image0.png</div>"
      }
     },
     "2894cada87f447deb1038a61a28110d0": {
      "model_module": "@jupyter-widgets/base",
      "model_module_version": "1.0.0",
      "model_name": "LayoutModel",
      "state": {}
     },
     "2a393f7e821d40de95ecabcb6510862a": {
      "model_module": "@jupyter-widgets/base",
      "model_module_version": "1.0.0",
      "model_name": "LayoutModel",
      "state": {}
     },
     "2a891df0f5de4c2e88a77ab75b0102d5": {
      "model_module": "@jupyter-widgets/base",
      "model_module_version": "1.0.0",
      "model_name": "LayoutModel",
      "state": {}
     },
     "2bbac3d665e742ea9d20b62d0362f8a9": {
      "model_module": "@jupyter-widgets/base",
      "model_module_version": "1.0.0",
      "model_name": "LayoutModel",
      "state": {}
     },
     "2bc5471c9e8840a7a1662a364b5ddcfd": {
      "model_module": "@jupyter-widgets/controls",
      "model_module_version": "1.0.0",
      "model_name": "VBoxModel",
      "state": {
       "children": [
        "IPY_MODEL_a45befe20a4f4f1eb97ec579d23a69ef",
        "IPY_MODEL_ade69df4ee5e4fbfa24c1fddb90d9b82"
       ],
       "layout": "IPY_MODEL_a55abb5d1aae461782fcf99da2601f94"
      }
     },
     "2c49b612e38d43528e3bc407b36d38d0": {
      "model_module": "@jupyter-widgets/base",
      "model_module_version": "1.0.0",
      "model_name": "LayoutModel",
      "state": {}
     },
     "2c55ddb4c6b942eebd2e6ecaefc91e94": {
      "model_module": "jp_proxy_widget",
      "model_module_version": "^0.3.4",
      "model_name": "JSProxyModel",
      "state": {
       "_model_module_version": "^0.3.4",
       "_send_counter": 8,
       "_view_module_version": "^0.3.4",
       "error_msg": "No error",
       "layout": "IPY_MODEL_807024636a6c43598e6c1fafcef003d8",
       "rendered": true,
       "status": "Got results."
      }
     },
     "2c9cb128697a4e87a0ad5b5581a0ae07": {
      "model_module": "@jupyter-widgets/base",
      "model_module_version": "1.0.0",
      "model_name": "LayoutModel",
      "state": {}
     },
     "2e6b4325666448fc8eee74d2cd5f3464": {
      "model_module": "@jupyter-widgets/base",
      "model_module_version": "1.0.0",
      "model_name": "LayoutModel",
      "state": {}
     },
     "2e7056420c104ee793ba46958d48a3ea": {
      "model_module": "@jupyter-widgets/base",
      "model_module_version": "1.0.0",
      "model_name": "LayoutModel",
      "state": {}
     },
     "2eaff708044c4e988a317616e78017ff": {
      "model_module": "@jupyter-widgets/base",
      "model_module_version": "1.0.0",
      "model_name": "LayoutModel",
      "state": {}
     },
     "2f6389be752a49f49b217c149472cf61": {
      "model_module": "@jupyter-widgets/controls",
      "model_module_version": "1.0.0",
      "model_name": "DescriptionStyleModel",
      "state": {
       "description_width": ""
      }
     },
     "2fcbac58c69144e6a3b07cf3e08f5a11": {
      "model_module": "@jupyter-widgets/controls",
      "model_module_version": "1.0.0",
      "model_name": "DescriptionStyleModel",
      "state": {
       "description_width": ""
      }
     },
     "2fd0ce4c33694eddba27afdc8df9976b": {
      "model_module": "@jupyter-widgets/base",
      "model_module_version": "1.0.0",
      "model_name": "LayoutModel",
      "state": {}
     },
     "2fd821cc87ae4053a9505b24966df4b2": {
      "model_module": "jp_proxy_widget",
      "model_module_version": "^0.3.4",
      "model_name": "JSProxyModel",
      "state": {
       "_model_module_version": "^0.3.4",
       "_send_counter": 2,
       "_view_module_version": "^0.3.4",
       "error_msg": "No error",
       "layout": "IPY_MODEL_53eafec821eb430d92aaa6483558833a",
       "rendered": true,
       "status": "Got results."
      }
     },
     "2fe3750ead0d45ad8a8e33babc78f4a5": {
      "model_module": "@jupyter-widgets/controls",
      "model_module_version": "1.0.0",
      "model_name": "HTMLModel",
      "state": {
       "layout": "IPY_MODEL_77629304aedf476a88311b73a5799e75",
       "style": "IPY_MODEL_8cd6fe24fda043a987c7d4d583981cdd",
       "value": "<img src=\"spider_attack.png\" id=\"snapshot_id_59_1535830188763\"/>\n <div id=\"snapshot_id_60_1535830188763\">spider_attack.png</div>"
      }
     },
     "30066622056c4002af2611a63078fd27": {
      "model_module": "@jupyter-widgets/controls",
      "model_module_version": "1.0.0",
      "model_name": "TabModel",
      "state": {
       "_titles": {
        "0": "Canvas",
        "1": "Snapshot"
       },
       "children": [
        "IPY_MODEL_a8e47d67c43a4dccb2760a912cc677b8",
        "IPY_MODEL_d19660e629b547a9bc9b15df04d87f29"
       ],
       "layout": "IPY_MODEL_940a48794ebc493c98753937dd50aa32"
      }
     },
     "3079eceb5d0e4130a9d8b614a5d034e8": {
      "model_module": "@jupyter-widgets/base",
      "model_module_version": "1.0.0",
      "model_name": "LayoutModel",
      "state": {}
     },
     "314757fa682b46ea9ac794208b07630c": {
      "model_module": "@jupyter-widgets/base",
      "model_module_version": "1.0.0",
      "model_name": "LayoutModel",
      "state": {}
     },
     "3168472d70c84970af231fa6458ee800": {
      "model_module": "@jupyter-widgets/controls",
      "model_module_version": "1.0.0",
      "model_name": "TabModel",
      "state": {
       "_titles": {
        "0": "Canvas",
        "1": "Snapshot"
       },
       "children": [
        "IPY_MODEL_16dd91df0da74164be158c7037b2a881",
        "IPY_MODEL_a986d62651994895a3a0a55fa4a9c858"
       ],
       "layout": "IPY_MODEL_e367d438522d4afda61dab534f5cd9a2"
      }
     },
     "31731feee205402d86033190238a7cc5": {
      "model_module": "@jupyter-widgets/base",
      "model_module_version": "1.0.0",
      "model_name": "LayoutModel",
      "state": {}
     },
     "31a83645517a4ba3b899330baf95ccc7": {
      "model_module": "jp_proxy_widget",
      "model_module_version": "^0.3.4",
      "model_name": "JSProxyModel",
      "state": {
       "_model_module_version": "^0.3.4",
       "_send_counter": 8,
       "_view_module_version": "^0.3.4",
       "error_msg": "No error",
       "layout": "IPY_MODEL_8eccb123b51c4c87be92d19bb171e390",
       "rendered": true,
       "status": "Got results."
      }
     },
     "322b98e6c3ea40728f40cfb3420d821f": {
      "model_module": "@jupyter-widgets/controls",
      "model_module_version": "1.0.0",
      "model_name": "HTMLModel",
      "state": {
       "layout": "IPY_MODEL_962741ebad1d4f03b45e4a61e5f748d5",
       "style": "IPY_MODEL_cc3a4a2e43d6468b9d2ab7e373359cee",
       "value": "<img src=\"spider_attack.png\" id=\"snapshot_id_49_1535829950101\"/>\n <div id=\"snapshot_id_50_1535829950101\">spider_attack.png</div>"
      }
     },
     "34961dd9ec894d399874defb31ab598c": {
      "model_module": "@jupyter-widgets/base",
      "model_module_version": "1.0.0",
      "model_name": "LayoutModel",
      "state": {}
     },
     "34ad4c3600434ac5b18ba80bc3e30bae": {
      "model_module": "@jupyter-widgets/controls",
      "model_module_version": "1.0.0",
      "model_name": "TabModel",
      "state": {
       "_titles": {
        "0": "Canvas",
        "1": "Snapshot"
       },
       "children": [
        "IPY_MODEL_427649722e754221919b7f17289cdaf9",
        "IPY_MODEL_dc95bea1c0fe4762988eccceeba37bca"
       ],
       "layout": "IPY_MODEL_b571945ba3fa4851bde50e29dc90bbdf",
       "selected_index": 1
      }
     },
     "34cd994d973a4429aff9800f432c1f8b": {
      "model_module": "@jupyter-widgets/base",
      "model_module_version": "1.0.0",
      "model_name": "LayoutModel",
      "state": {}
     },
     "35457321b9ae47339c61ea10f0fbc385": {
      "model_module": "@jupyter-widgets/controls",
      "model_module_version": "1.0.0",
      "model_name": "HTMLModel",
      "state": {
       "layout": "IPY_MODEL_1d8bb32532f14f46a0d09502a8ce97e9",
       "style": "IPY_MODEL_2fcbac58c69144e6a3b07cf3e08f5a11",
       "value": "<img src=\"spider_attack.png\" id=\"snapshot_id_35_1535832578533\"/>\n <div id=\"snapshot_id_36_1535832578533\">spider_attack.png</div>"
      }
     },
     "36835381157345cebe6bf99e4465000f": {
      "model_module": "@jupyter-widgets/controls",
      "model_module_version": "1.0.0",
      "model_name": "VBoxModel",
      "state": {
       "children": [
        "IPY_MODEL_85713b2b89e242668fe44662091718ee",
        "IPY_MODEL_be0735012d95466cb0fb4647de700e8a"
       ],
       "layout": "IPY_MODEL_7f81083b7d6c4a49aac62061e4881eff"
      }
     },
     "36d5e9b3ee3547fd81b8d33ffb8065ed": {
      "model_module": "jp_proxy_widget",
      "model_module_version": "^0.3.4",
      "model_name": "JSProxyModel",
      "state": {
       "_model_module_version": "^0.3.4",
       "_send_counter": 2,
       "_view_module_version": "^0.3.4",
       "error_msg": "No error",
       "layout": "IPY_MODEL_6ca0e69cd1d241eb8864e7a0c8409799",
       "rendered": true,
       "status": "call back to <function callback_function at 0x117efa8c0>"
      }
     },
     "36dd18677cfd4ec78dc0937f0467a6e5": {
      "model_module": "@jupyter-widgets/base",
      "model_module_version": "1.0.0",
      "model_name": "LayoutModel",
      "state": {}
     },
     "372010fb3f5748cebe4c186126da9360": {
      "model_module": "jp_proxy_widget",
      "model_module_version": "^0.3.4",
      "model_name": "JSProxyModel",
      "state": {
       "_model_module_version": "^0.3.4",
       "_send_counter": 8,
       "_view_module_version": "^0.3.4",
       "error_msg": "No error",
       "layout": "IPY_MODEL_7487728fc36c41228ae144cfef1aff31",
       "rendered": true,
       "status": "Got results."
      }
     },
     "374e861714b6491eb97dc74a9a3aa5ab": {
      "model_module": "@jupyter-widgets/base",
      "model_module_version": "1.0.0",
      "model_name": "LayoutModel",
      "state": {}
     },
     "3754648db0fc455087cc31c740e9b646": {
      "model_module": "@jupyter-widgets/base",
      "model_module_version": "1.0.0",
      "model_name": "LayoutModel",
      "state": {}
     },
     "375cffaa2a54411891b42d08984d7c2c": {
      "model_module": "@jupyter-widgets/controls",
      "model_module_version": "1.0.0",
      "model_name": "VBoxModel",
      "state": {
       "children": [
        "IPY_MODEL_e584190e4d624756adb0bce223d3ce22",
        "IPY_MODEL_38d25737d90847008809da15cc055826"
       ],
       "layout": "IPY_MODEL_909d0ab64d6e42ccb42158801a2e819e"
      }
     },
     "385d207eb84b420eb04cf483b942d630": {
      "model_module": "@jupyter-widgets/base",
      "model_module_version": "1.0.0",
      "model_name": "LayoutModel",
      "state": {}
     },
     "38611cc72d24429f83812408d099dd75": {
      "model_module": "jp_proxy_widget",
      "model_module_version": "^0.3.4",
      "model_name": "JSProxyModel",
      "state": {
       "_model_module_version": "^0.3.4",
       "_send_counter": 2,
       "_view_module_version": "^0.3.4",
       "error_msg": "No error",
       "layout": "IPY_MODEL_08889efb31f94087b2bf8095394f232e",
       "rendered": true,
       "status": "Got results."
      }
     },
     "38d25737d90847008809da15cc055826": {
      "model_module": "jp_proxy_widget",
      "model_module_version": "^0.3.4",
      "model_name": "JSProxyModel",
      "state": {
       "_model_module_version": "^0.3.4",
       "_send_counter": 2,
       "_view_module_version": "^0.3.4",
       "error_msg": "No error",
       "layout": "IPY_MODEL_63258898324248649003cd98026ea6b7",
       "rendered": true,
       "status": "Got results."
      }
     },
     "3955893e7e1e4f38970cf1cb39a4208d": {
      "model_module": "@jupyter-widgets/base",
      "model_module_version": "1.0.0",
      "model_name": "LayoutModel",
      "state": {}
     },
     "39c58d4bdf4046ab8dd9154c3e4437a1": {
      "model_module": "jp_proxy_widget",
      "model_module_version": "^0.3.4",
      "model_name": "JSProxyModel",
      "state": {
       "_model_module_version": "^0.3.4",
       "_send_counter": 2,
       "_view_module_version": "^0.3.4",
       "error_msg": "No error",
       "layout": "IPY_MODEL_5f09504f82fa466a92880155cc87ee8c",
       "rendered": true,
       "status": "Got results."
      }
     },
     "39d152c2146b4395aae4e72dc89c3410": {
      "model_module": "@jupyter-widgets/base",
      "model_module_version": "1.0.0",
      "model_name": "LayoutModel",
      "state": {}
     },
     "39dd24bd58534602a4efc4dc3ef590b2": {
      "model_module": "@jupyter-widgets/base",
      "model_module_version": "1.0.0",
      "model_name": "LayoutModel",
      "state": {}
     },
     "39f0d007a99b44b79acdd21bc03ad58a": {
      "model_module": "@jupyter-widgets/controls",
      "model_module_version": "1.0.0",
      "model_name": "HTMLModel",
      "state": {
       "layout": "IPY_MODEL_f4ce0289643045f196cf5b36c9578a4c",
       "style": "IPY_MODEL_f33ad3f972314028acd65453d1e72e03",
       "value": "<img src=\"spider_attack.png\" id=\"snapshot_id_17_1535831163921\"/>\n <div id=\"snapshot_id_18_1535831163921\">spider_attack.png</div>"
      }
     },
     "3ac4278bf1ed45c69fb5c5f1ff933dd1": {
      "model_module": "@jupyter-widgets/base",
      "model_module_version": "1.0.0",
      "model_name": "LayoutModel",
      "state": {}
     },
     "3b022e16878c42cfbae2ee094645f2c5": {
      "model_module": "@jupyter-widgets/controls",
      "model_module_version": "1.0.0",
      "model_name": "TabModel",
      "state": {
       "_titles": {
        "0": "Canvas",
        "1": "Snapshot"
       },
       "children": [
        "IPY_MODEL_d264f59dcfce46b79f459bd932ecf7c8",
        "IPY_MODEL_52dee913aa9a4114b2d318f51057e31e"
       ],
       "layout": "IPY_MODEL_3079eceb5d0e4130a9d8b614a5d034e8"
      }
     },
     "3dff2179de55478db9cd44932d89aaea": {
      "model_module": "@jupyter-widgets/controls",
      "model_module_version": "1.0.0",
      "model_name": "TabModel",
      "state": {
       "_titles": {
        "0": "Canvas",
        "1": "Snapshot"
       },
       "children": [
        "IPY_MODEL_f3b613a497474ebf994f4f636df61972",
        "IPY_MODEL_13389ea63148498da8dd6f690e1c1ae0"
       ],
       "layout": "IPY_MODEL_be8f8db3856f47858c22d1fb644eee9b"
      }
     },
     "3e62817e1a07460ab964a10191b314f8": {
      "model_module": "@jupyter-widgets/controls",
      "model_module_version": "1.0.0",
      "model_name": "TabModel",
      "state": {
       "_titles": {
        "0": "Canvas",
        "1": "Snapshot"
       },
       "children": [
        "IPY_MODEL_ae6dbbb3bd89438a85d5414bb7e8ddb0",
        "IPY_MODEL_dc710d0cd45146acaad7b6268015a79d"
       ],
       "layout": "IPY_MODEL_f0b61395d66443c0b203a00e5559204c"
      }
     },
     "400f19e607204634ab958b81f44c25b7": {
      "model_module": "@jupyter-widgets/controls",
      "model_module_version": "1.0.0",
      "model_name": "HTMLModel",
      "state": {
       "layout": "IPY_MODEL_b8517928eb6544d0af7b9b3c7dfc0d86",
       "style": "IPY_MODEL_62421fc01dd6408487ec5e76ea2d8583",
       "value": "<img src=\"rotated_spider.png\" id=\"snapshot_id_1_1535833591680\"/>\n <div id=\"snapshot_id_2_1535833591680\">rotated_spider.png</div>"
      }
     },
     "40a722ec6ddf483abb7b8d115653f54c": {
      "model_module": "@jupyter-widgets/base",
      "model_module_version": "1.0.0",
      "model_name": "LayoutModel",
      "state": {}
     },
     "40d83f0f8a5f4896b8a210afb0f23c96": {
      "model_module": "@jupyter-widgets/base",
      "model_module_version": "1.0.0",
      "model_name": "LayoutModel",
      "state": {}
     },
     "4174648d671f4ea2bf99bcc33c484e1b": {
      "model_module": "@jupyter-widgets/base",
      "model_module_version": "1.0.0",
      "model_name": "LayoutModel",
      "state": {}
     },
     "427649722e754221919b7f17289cdaf9": {
      "model_module": "@jupyter-widgets/controls",
      "model_module_version": "1.0.0",
      "model_name": "VBoxModel",
      "state": {
       "children": [
        "IPY_MODEL_7955675a177a4cd79255a303274956be",
        "IPY_MODEL_7abec8c8c8434dc9b11ee7b0aeb75df9"
       ],
       "layout": "IPY_MODEL_618e8b62b1ca426ab5f86ce869ac2806"
      }
     },
     "432d1b1719c4455d86c1d7acbcf54fc8": {
      "model_module": "@jupyter-widgets/controls",
      "model_module_version": "1.0.0",
      "model_name": "DescriptionStyleModel",
      "state": {
       "description_width": ""
      }
     },
     "43b1260817b940a5a8f331662514db41": {
      "model_module": "@jupyter-widgets/base",
      "model_module_version": "1.0.0",
      "model_name": "LayoutModel",
      "state": {}
     },
     "445ef373ac2647bfa7d19b8adb4e89a4": {
      "model_module": "@jupyter-widgets/controls",
      "model_module_version": "1.0.0",
      "model_name": "VBoxModel",
      "state": {
       "children": [
        "IPY_MODEL_23630cb4da7b4d83a9c75af321ec6b0d",
        "IPY_MODEL_38611cc72d24429f83812408d099dd75"
       ],
       "layout": "IPY_MODEL_0328a9ffe3e849f98ad83947e133f0f8"
      }
     },
     "44d2e77ffb8e4149966031cfce198012": {
      "model_module": "@jupyter-widgets/base",
      "model_module_version": "1.0.0",
      "model_name": "LayoutModel",
      "state": {}
     },
     "45f5ddb64f104ba881b618a54085a6a9": {
      "model_module": "@jupyter-widgets/base",
      "model_module_version": "1.0.0",
      "model_name": "LayoutModel",
      "state": {}
     },
     "4655862aeb1044e091fa1238146bdd21": {
      "model_module": "@jupyter-widgets/controls",
      "model_module_version": "1.0.0",
      "model_name": "DescriptionStyleModel",
      "state": {
       "description_width": ""
      }
     },
     "4663df51e22a47998fd439130b7d0f80": {
      "model_module": "@jupyter-widgets/controls",
      "model_module_version": "1.0.0",
      "model_name": "VBoxModel",
      "state": {
       "children": [
        "IPY_MODEL_90b6a49e26ee4315b8a7fdbaffe71e89",
        "IPY_MODEL_8486467bdb4a4322bd66c5b717740430"
       ],
       "layout": "IPY_MODEL_532cdcd54d444b2b82a2ec7dcdf1be0c"
      }
     },
     "476d6e71396d49788f1a36ecda5e69d2": {
      "model_module": "jp_proxy_widget",
      "model_module_version": "^0.3.4",
      "model_name": "JSProxyModel",
      "state": {
       "_model_module_version": "^0.3.4",
       "_send_counter": 2,
       "_view_module_version": "^0.3.4",
       "error_msg": "No error",
       "layout": "IPY_MODEL_15bebd719bab48c8ba1ae7bb716f6d4c",
       "rendered": true,
       "status": "Got results."
      }
     },
     "479679117a3c4edd9d3653f32b870d71": {
      "model_module": "@jupyter-widgets/base",
      "model_module_version": "1.0.0",
      "model_name": "LayoutModel",
      "state": {}
     },
     "47b4bbd75a8d4c5795713fd2b581715e": {
      "model_module": "@jupyter-widgets/base",
      "model_module_version": "1.0.0",
      "model_name": "LayoutModel",
      "state": {}
     },
     "48142d877bb143fcb505f92d0547dadf": {
      "model_module": "@jupyter-widgets/base",
      "model_module_version": "1.0.0",
      "model_name": "LayoutModel",
      "state": {}
     },
     "483dfc9af98e4faa9bf5d2b7355bcd2e": {
      "model_module": "@jupyter-widgets/controls",
      "model_module_version": "1.0.0",
      "model_name": "DescriptionStyleModel",
      "state": {
       "description_width": ""
      }
     },
     "4844441c9e614829a7f8361f4f3069bb": {
      "model_module": "@jupyter-widgets/controls",
      "model_module_version": "1.0.0",
      "model_name": "DescriptionStyleModel",
      "state": {
       "description_width": ""
      }
     },
     "4867eed575ea48c78fc3e248c241c66a": {
      "model_module": "@jupyter-widgets/controls",
      "model_module_version": "1.0.0",
      "model_name": "HTMLModel",
      "state": {
       "layout": "IPY_MODEL_be3a68308f9048ca91abb04949e0fdd0",
       "style": "IPY_MODEL_9883eb3411114abe90cd0ece3451f568",
       "value": "<img src=\"rotated_spider.png\" id=\"snapshot_id_1_1535830364976\"/>\n <div id=\"snapshot_id_2_1535830364976\">rotated_spider.png</div>"
      }
     },
     "48a4c6e0a55241dbb5ef69cd97cdf200": {
      "model_module": "@jupyter-widgets/base",
      "model_module_version": "1.0.0",
      "model_name": "LayoutModel",
      "state": {}
     },
     "493a8561f4b94d3eb3a73a60affdf0cd": {
      "model_module": "@jupyter-widgets/base",
      "model_module_version": "1.0.0",
      "model_name": "LayoutModel",
      "state": {}
     },
     "49b9c131214041b49b8e3cbc971e76fb": {
      "model_module": "@jupyter-widgets/base",
      "model_module_version": "1.0.0",
      "model_name": "LayoutModel",
      "state": {}
     },
     "49c52602b31b45f396892939387a2d98": {
      "model_module": "@jupyter-widgets/base",
      "model_module_version": "1.0.0",
      "model_name": "LayoutModel",
      "state": {}
     },
     "4b833927f1394465bd179cc33d14c72a": {
      "model_module": "@jupyter-widgets/base",
      "model_module_version": "1.0.0",
      "model_name": "LayoutModel",
      "state": {}
     },
     "4ba942d154ae482d8b93b069e6597c56": {
      "model_module": "@jupyter-widgets/base",
      "model_module_version": "1.0.0",
      "model_name": "LayoutModel",
      "state": {}
     },
     "4be9cb93a57b49fd9e3735b6c538dcde": {
      "model_module": "@jupyter-widgets/base",
      "model_module_version": "1.0.0",
      "model_name": "LayoutModel",
      "state": {}
     },
     "4c165ada53804652986e3d0245ac7604": {
      "model_module": "@jupyter-widgets/base",
      "model_module_version": "1.0.0",
      "model_name": "LayoutModel",
      "state": {}
     },
     "4c2a9e5d1c88428db865cf0bbe9ae8cc": {
      "model_module": "@jupyter-widgets/controls",
      "model_module_version": "1.0.0",
      "model_name": "DescriptionStyleModel",
      "state": {
       "description_width": ""
      }
     },
     "4c33159de2ad443ca472e99dbfdca812": {
      "model_module": "@jupyter-widgets/base",
      "model_module_version": "1.0.0",
      "model_name": "LayoutModel",
      "state": {}
     },
     "4ca23b207c11477da9017dab14fa69b9": {
      "model_module": "@jupyter-widgets/base",
      "model_module_version": "1.0.0",
      "model_name": "LayoutModel",
      "state": {}
     },
     "4cbaf9b21a6f453f994901be99cd7b47": {
      "model_module": "@jupyter-widgets/base",
      "model_module_version": "1.0.0",
      "model_name": "LayoutModel",
      "state": {}
     },
     "4d5a4e1ead0846cda1ccdcc668c403c1": {
      "model_module": "jp_proxy_widget",
      "model_module_version": "^0.3.4",
      "model_name": "JSProxyModel",
      "state": {
       "_model_module_version": "^0.3.4",
       "_send_counter": 8,
       "_view_module_version": "^0.3.4",
       "error_msg": "No error",
       "layout": "IPY_MODEL_71372edd30374c8da9ba5853e84fe343",
       "rendered": true,
       "status": "Got results."
      }
     },
     "4d73b43afd05435fbfc466b16a95451c": {
      "model_module": "@jupyter-widgets/controls",
      "model_module_version": "1.0.0",
      "model_name": "HTMLModel",
      "state": {
       "layout": "IPY_MODEL_2894cada87f447deb1038a61a28110d0",
       "style": "IPY_MODEL_b3683b6a544a4a14948ebcf66d1a6c4b",
       "value": "<img src=\"Image0.png\" id=\"snapshot_id_9_1535827017572\"/>\n <div id=\"snapshot_id_10_1535827017572\">Image0.png</div>"
      }
     },
     "4d8fb96262d943d69017cd8a38c9ac3c": {
      "model_module": "@jupyter-widgets/controls",
      "model_module_version": "1.0.0",
      "model_name": "DescriptionStyleModel",
      "state": {
       "description_width": ""
      }
     },
     "4e0291caa2814de282b4852b5781838a": {
      "model_module": "jp_proxy_widget",
      "model_module_version": "^0.3.4",
      "model_name": "JSProxyModel",
      "state": {
       "_model_module_version": "^0.3.4",
       "_send_counter": 8,
       "_view_module_version": "^0.3.4",
       "error_msg": "No error",
       "layout": "IPY_MODEL_50c600d09cfb456cae0eab972259af0c",
       "rendered": true,
       "status": "Got results."
      }
     },
     "4e063bc1d5f549e894713ec002ed9055": {
      "model_module": "jp_proxy_widget",
      "model_module_version": "^0.3.4",
      "model_name": "JSProxyModel",
      "state": {
       "_model_module_version": "^0.3.4",
       "_send_counter": 8,
       "_view_module_version": "^0.3.4",
       "error_msg": "No error",
       "layout": "IPY_MODEL_374e861714b6491eb97dc74a9a3aa5ab",
       "rendered": true,
       "status": "Got results."
      }
     },
     "4ec2fe3c4d8944c984f6cb3048c5c102": {
      "model_module": "jp_proxy_widget",
      "model_module_version": "^0.3.4",
      "model_name": "JSProxyModel",
      "state": {
       "_model_module_version": "^0.3.4",
       "_send_counter": 2,
       "_view_module_version": "^0.3.4",
       "error_msg": "No error",
       "layout": "IPY_MODEL_6e63568947d0403f8fcd227825370264",
       "rendered": true,
       "status": "Got results."
      }
     },
     "4ef3ffe6ca5541eabf3cf994c8218479": {
      "model_module": "@jupyter-widgets/base",
      "model_module_version": "1.0.0",
      "model_name": "LayoutModel",
      "state": {}
     },
     "4f404721fba04fe9ba6a559918d63345": {
      "model_module": "@jupyter-widgets/base",
      "model_module_version": "1.0.0",
      "model_name": "LayoutModel",
      "state": {}
     },
     "4fb69da517bc4d4aa6360ce90f12fe6f": {
      "model_module": "@jupyter-widgets/controls",
      "model_module_version": "1.0.0",
      "model_name": "HTMLModel",
      "state": {
       "layout": "IPY_MODEL_80fda7beff33445eb161e7f49aa76ea8",
       "style": "IPY_MODEL_d8e8964cba2d456d82fac014a383600e",
       "value": "<img src=\"Image0.png\" id=\"snapshot_id_5_1535826955626\"/>\n <div id=\"snapshot_id_6_1535826955626\">Image0.png</div>"
      }
     },
     "50281724286d4f3cb0acf78a1ea62fec": {
      "model_module": "@jupyter-widgets/base",
      "model_module_version": "1.0.0",
      "model_name": "LayoutModel",
      "state": {}
     },
     "50941765e84341948edb0ec21eba2422": {
      "model_module": "@jupyter-widgets/base",
      "model_module_version": "1.0.0",
      "model_name": "LayoutModel",
      "state": {}
     },
     "50c600d09cfb456cae0eab972259af0c": {
      "model_module": "@jupyter-widgets/base",
      "model_module_version": "1.0.0",
      "model_name": "LayoutModel",
      "state": {}
     },
     "5103a0258b4947c8a28b20feb7671fec": {
      "model_module": "jp_proxy_widget",
      "model_module_version": "^0.3.4",
      "model_name": "JSProxyModel",
      "state": {
       "_model_module_version": "^0.3.4",
       "_send_counter": 2,
       "_view_module_version": "^0.3.4",
       "error_msg": "No error",
       "layout": "IPY_MODEL_c4d979db77dc47c086892b99cb9ce14a",
       "rendered": true,
       "status": "Got results."
      }
     },
     "51a1c580ae4745539813d85dcae64708": {
      "model_module": "@jupyter-widgets/controls",
      "model_module_version": "1.0.0",
      "model_name": "VBoxModel",
      "state": {
       "children": [
        "IPY_MODEL_187115fb244f4cafacbc464f8d12ebc8",
        "IPY_MODEL_2fd821cc87ae4053a9505b24966df4b2"
       ],
       "layout": "IPY_MODEL_6fb6878b7d014d99b3d92447f807bcd8"
      }
     },
     "51f0341f0c674231b80ca9ea2b0e35a5": {
      "model_module": "jp_proxy_widget",
      "model_module_version": "^0.3.4",
      "model_name": "JSProxyModel",
      "state": {
       "_model_module_version": "^0.3.4",
       "_send_counter": 2,
       "_view_module_version": "^0.3.4",
       "error_msg": "No error",
       "layout": "IPY_MODEL_e7b7f54e40c54614a314b762568a24f2",
       "rendered": true,
       "status": "Got results."
      }
     },
     "52dee913aa9a4114b2d318f51057e31e": {
      "model_module": "@jupyter-widgets/controls",
      "model_module_version": "1.0.0",
      "model_name": "HTMLModel",
      "state": {
       "layout": "IPY_MODEL_af9dd57e0bad4c8c82de051bba307a97",
       "style": "IPY_MODEL_12a1beb38bb34b5fb49abe486306a95e",
       "value": "<img src=\"spider_attack.png\" id=\"snapshot_id_61_1535830286252\"/>\n <div id=\"snapshot_id_62_1535830286252\">spider_attack.png</div>"
      }
     },
     "52f688842b994ac2a19d53f1a4ff8a7f": {
      "model_module": "jp_proxy_widget",
      "model_module_version": "^0.3.4",
      "model_name": "JSProxyModel",
      "state": {
       "_model_module_version": "^0.3.4",
       "_send_counter": 8,
       "_view_module_version": "^0.3.4",
       "error_msg": "No error",
       "layout": "IPY_MODEL_4ef3ffe6ca5541eabf3cf994c8218479",
       "rendered": true,
       "status": "Got results."
      }
     },
     "52f6917e60c34a8b98f9ab74766552bb": {
      "model_module": "@jupyter-widgets/controls",
      "model_module_version": "1.0.0",
      "model_name": "VBoxModel",
      "state": {
       "children": [
        "IPY_MODEL_4e063bc1d5f549e894713ec002ed9055",
        "IPY_MODEL_c0a0b82f6bff451c876833a768d394ed"
       ],
       "layout": "IPY_MODEL_b197f45525824aff92e82df1bd6c0254"
      }
     },
     "52f6c10830ea43eea60e9817c01aeb31": {
      "model_module": "@jupyter-widgets/base",
      "model_module_version": "1.0.0",
      "model_name": "LayoutModel",
      "state": {}
     },
     "532cdcd54d444b2b82a2ec7dcdf1be0c": {
      "model_module": "@jupyter-widgets/base",
      "model_module_version": "1.0.0",
      "model_name": "LayoutModel",
      "state": {}
     },
     "535f6c409f834a5da6d7792b85d77fd0": {
      "model_module": "@jupyter-widgets/controls",
      "model_module_version": "1.0.0",
      "model_name": "TabModel",
      "state": {
       "_titles": {
        "0": "Canvas",
        "1": "Snapshot"
       },
       "children": [
        "IPY_MODEL_1ebf0b332da845238b751d87d9961ad5",
        "IPY_MODEL_4d73b43afd05435fbfc466b16a95451c"
       ],
       "layout": "IPY_MODEL_7d9d71c563f949f58d17e770d47c30b8"
      }
     },
     "53eafec821eb430d92aaa6483558833a": {
      "model_module": "@jupyter-widgets/base",
      "model_module_version": "1.0.0",
      "model_name": "LayoutModel",
      "state": {}
     },
     "545906e12edd4e1da9355fdfeeaaef47": {
      "model_module": "@jupyter-widgets/controls",
      "model_module_version": "1.0.0",
      "model_name": "HTMLModel",
      "state": {
       "layout": "IPY_MODEL_b3d223575c53436fb1a4e2806115da39",
       "style": "IPY_MODEL_db03c9eede074a619fa2a4cfa3a1bde8",
       "value": "<img src=\"spider_attack.png\" id=\"snapshot_id_51_1535830136284\"/>\n <div id=\"snapshot_id_52_1535830136284\">spider_attack.png</div>"
      }
     },
     "5563969ebff74d68bf0708c01c341960": {
      "model_module": "@jupyter-widgets/base",
      "model_module_version": "1.0.0",
      "model_name": "LayoutModel",
      "state": {}
     },
     "557dea2fa37d484b9c5c40fc7d3235f7": {
      "model_module": "@jupyter-widgets/controls",
      "model_module_version": "1.0.0",
      "model_name": "VBoxModel",
      "state": {
       "children": [
        "IPY_MODEL_994149ab65454d7791c57bdf5980efb7",
        "IPY_MODEL_fea3f003f63d49ddaecff12434b39f9b"
       ],
       "layout": "IPY_MODEL_c574a13847b24e56bf1fc906a0874841"
      }
     },
     "55b5898429e74757a6925eb2e68c022f": {
      "model_module": "@jupyter-widgets/controls",
      "model_module_version": "1.0.0",
      "model_name": "HTMLModel",
      "state": {
       "layout": "IPY_MODEL_2eaff708044c4e988a317616e78017ff",
       "style": "IPY_MODEL_6ffa4fa161db419285d5f198a481934e",
       "value": "<img src=\"spider_attack.png\" id=\"snapshot_id_53_1535830149658\"/>\n <div id=\"snapshot_id_54_1535830149658\">spider_attack.png</div>"
      }
     },
     "55e285f9701a4f53abd653b356785d06": {
      "model_module": "@jupyter-widgets/base",
      "model_module_version": "1.0.0",
      "model_name": "LayoutModel",
      "state": {}
     },
     "565025a9f32c45238437d8fbd976ceaf": {
      "model_module": "@jupyter-widgets/controls",
      "model_module_version": "1.0.0",
      "model_name": "TabModel",
      "state": {
       "_titles": {
        "0": "Canvas",
        "1": "Snapshot"
       },
       "children": [
        "IPY_MODEL_7c0568320ebe4c879275249e44e51bc8",
        "IPY_MODEL_c3ef8297442e438f871741261698ddb9"
       ],
       "layout": "IPY_MODEL_d823ec9bab6440c0bada3cb312b44069"
      }
     },
     "56f007463a3343d48b03986c28a8f123": {
      "model_module": "@jupyter-widgets/controls",
      "model_module_version": "1.0.0",
      "model_name": "HTMLModel",
      "state": {
       "layout": "IPY_MODEL_d29a598923944dd185513a9b738deebe",
       "style": "IPY_MODEL_69f083da8a504249a8d4224d2a1e2e83",
       "value": "<img src=\"spider_attack.png\" id=\"snapshot_id_27_1535832269200\"/>\n <div id=\"snapshot_id_28_1535832269200\">spider_attack.png</div>"
      }
     },
     "579a9625d06442b7a171e22f5362e0e6": {
      "model_module": "@jupyter-widgets/controls",
      "model_module_version": "1.0.0",
      "model_name": "VBoxModel",
      "state": {
       "children": [
        "IPY_MODEL_d401ff3750014f6db12b4a5e5e9fbf41",
        "IPY_MODEL_9a7b694c62f843e9b5a8a44fde8eb7e9"
       ],
       "layout": "IPY_MODEL_55e285f9701a4f53abd653b356785d06"
      }
     },
     "579ab397c95c4d3e8a660e99d19da636": {
      "model_module": "@jupyter-widgets/base",
      "model_module_version": "1.0.0",
      "model_name": "LayoutModel",
      "state": {}
     },
     "5a1eb58148df47b785b6a411223f6cbe": {
      "model_module": "@jupyter-widgets/controls",
      "model_module_version": "1.0.0",
      "model_name": "HTMLModel",
      "state": {
       "layout": "IPY_MODEL_9de4e061752b40c6a00960254a57da18",
       "style": "IPY_MODEL_8608b1e14faf477a859e7d98f33ed3e1",
       "value": "<img src=\"spider_attack.png\" id=\"snapshot_id_5_1535830391217\"/>\n <div id=\"snapshot_id_6_1535830391217\">spider_attack.png</div>"
      }
     },
     "5a91b3f3213343af88208a8bcbe59608": {
      "model_module": "@jupyter-widgets/base",
      "model_module_version": "1.0.0",
      "model_name": "LayoutModel",
      "state": {}
     },
     "5ade542c3b50457a94f438b4f670d0d9": {
      "model_module": "@jupyter-widgets/base",
      "model_module_version": "1.0.0",
      "model_name": "LayoutModel",
      "state": {}
     },
     "5b23dacb133e4997bc3f8830fbc18cbc": {
      "model_module": "@jupyter-widgets/controls",
      "model_module_version": "1.0.0",
      "model_name": "DescriptionStyleModel",
      "state": {
       "description_width": ""
      }
     },
     "5b596d7c54b54659acac418117a7d357": {
      "model_module": "@jupyter-widgets/controls",
      "model_module_version": "1.0.0",
      "model_name": "VBoxModel",
      "state": {
       "children": [
        "IPY_MODEL_8812d161f300460dbbd064b9841c0d8d",
        "IPY_MODEL_8bb7b756ca0c45b4bc14c71e81849f7e"
       ],
       "layout": "IPY_MODEL_1c3d1ae5cbc74c21839a80c1dab350ac"
      }
     },
     "5b92f35dba8d4e5c961c5a19f6c34d31": {
      "model_module": "@jupyter-widgets/controls",
      "model_module_version": "1.0.0",
      "model_name": "VBoxModel",
      "state": {
       "children": [
        "IPY_MODEL_c7ee8740014d44d395bbe724d8550e10",
        "IPY_MODEL_fa94d06c99cc4c0a92d1a4c014e2ab45"
       ],
       "layout": "IPY_MODEL_fdc4ca8a3afe46129bb6e81aa43b0d49"
      }
     },
     "5b9c08a632804dab9e882acfe63ca0e7": {
      "model_module": "@jupyter-widgets/controls",
      "model_module_version": "1.0.0",
      "model_name": "VBoxModel",
      "state": {
       "children": [
        "IPY_MODEL_6d2ad5da07db4710ad37cb000553a163",
        "IPY_MODEL_36d5e9b3ee3547fd81b8d33ffb8065ed"
       ],
       "layout": "IPY_MODEL_baa5c0dde49344889021b77c6d25cfe0"
      }
     },
     "5bfc4a9b64ea4ee2b59525088d1c41d0": {
      "model_module": "@jupyter-widgets/base",
      "model_module_version": "1.0.0",
      "model_name": "LayoutModel",
      "state": {}
     },
     "5c1feb152baa4c9d9c191b65de80ac83": {
      "model_module": "jp_proxy_widget",
      "model_module_version": "^0.3.4",
      "model_name": "JSProxyModel",
      "state": {
       "_model_module_version": "^0.3.4",
       "_send_counter": 2,
       "_view_module_version": "^0.3.4",
       "error_msg": "No error",
       "layout": "IPY_MODEL_d36f47a95839437b9dbd18c92826a5e1",
       "rendered": true,
       "status": "Not yet rendered"
      }
     },
     "5c20d3c8855749f39ab5cb8792471064": {
      "model_module": "@jupyter-widgets/base",
      "model_module_version": "1.0.0",
      "model_name": "LayoutModel",
      "state": {}
     },
     "5c56cd90b88d4451bac4ad2d1d13f812": {
      "model_module": "@jupyter-widgets/controls",
      "model_module_version": "1.0.0",
      "model_name": "HTMLModel",
      "state": {
       "layout": "IPY_MODEL_50281724286d4f3cb0acf78a1ea62fec",
       "style": "IPY_MODEL_f568160228d1421b80390d14322172c3",
       "value": "<img src=\"Image0.png\" id=\"snapshot_id_23_1535827322894\"/>\n <div id=\"snapshot_id_24_1535827322894\">Image0.png</div>"
      }
     },
     "5c865724930644e28ea1cac06f67a90c": {
      "model_module": "@jupyter-widgets/base",
      "model_module_version": "1.0.0",
      "model_name": "LayoutModel",
      "state": {}
     },
     "5cc6cce632e0490f98d0630eb920670d": {
      "model_module": "@jupyter-widgets/base",
      "model_module_version": "1.0.0",
      "model_name": "LayoutModel",
      "state": {}
     },
     "5ceea2dc1c654b41ac072a2ad7d466e1": {
      "model_module": "jp_proxy_widget",
      "model_module_version": "^0.3.4",
      "model_name": "JSProxyModel",
      "state": {
       "_model_module_version": "^0.3.4",
       "_send_counter": 2,
       "_view_module_version": "^0.3.4",
       "error_msg": "No error",
       "layout": "IPY_MODEL_a341ead25c1345789e28b22bcfb67920",
       "rendered": true,
       "status": "call back to <function callback_function at 0x114b35b18>"
      }
     },
     "5d27efae8ede43b593cb451d9f33fcf2": {
      "model_module": "@jupyter-widgets/base",
      "model_module_version": "1.0.0",
      "model_name": "LayoutModel",
      "state": {}
     },
     "5dff95c0ef0a4b7aaa7c24c0c5d22674": {
      "model_module": "@jupyter-widgets/controls",
      "model_module_version": "1.0.0",
      "model_name": "TabModel",
      "state": {
       "_titles": {
        "0": "Canvas",
        "1": "Snapshot"
       },
       "children": [
        "IPY_MODEL_17aad778ac6b47528e2915f7284b6a85",
        "IPY_MODEL_5c56cd90b88d4451bac4ad2d1d13f812"
       ],
       "layout": "IPY_MODEL_121a47b605294ff8bdac727fcd185db6"
      }
     },
     "5e11f180ecba45c0bf916296bb1f1277": {
      "model_module": "@jupyter-widgets/controls",
      "model_module_version": "1.0.0",
      "model_name": "VBoxModel",
      "state": {
       "children": [
        "IPY_MODEL_2c55ddb4c6b942eebd2e6ecaefc91e94",
        "IPY_MODEL_98aabecf5fa84f17a61ead249a2ef05f"
       ],
       "layout": "IPY_MODEL_8fae86c1abd54c9ca5d7978a3c5bcd37"
      }
     },
     "5e32cf4b15224c58ae7d016f58f2d9cf": {
      "model_module": "@jupyter-widgets/base",
      "model_module_version": "1.0.0",
      "model_name": "LayoutModel",
      "state": {}
     },
     "5f09504f82fa466a92880155cc87ee8c": {
      "model_module": "@jupyter-widgets/base",
      "model_module_version": "1.0.0",
      "model_name": "LayoutModel",
      "state": {}
     },
     "5fda8a70b66246f3a2c8ea6c09527bfb": {
      "model_module": "@jupyter-widgets/controls",
      "model_module_version": "1.0.0",
      "model_name": "DescriptionStyleModel",
      "state": {
       "description_width": ""
      }
     },
     "6069bf9cb1f3452aad32e985b97dafc0": {
      "model_module": "jp_proxy_widget",
      "model_module_version": "^0.3.4",
      "model_name": "JSProxyModel",
      "state": {
       "_model_module_version": "^0.3.4",
       "_send_counter": 8,
       "_view_module_version": "^0.3.4",
       "error_msg": "No error",
       "layout": "IPY_MODEL_2c49b612e38d43528e3bc407b36d38d0",
       "rendered": true,
       "status": "Got results."
      }
     },
     "60ba5a762bd1492593c4f142b5a486da": {
      "model_module": "@jupyter-widgets/controls",
      "model_module_version": "1.0.0",
      "model_name": "DescriptionStyleModel",
      "state": {
       "description_width": ""
      }
     },
     "60ea36ceae7d4e6799b836760bce4e24": {
      "model_module": "@jupyter-widgets/controls",
      "model_module_version": "1.0.0",
      "model_name": "VBoxModel",
      "state": {
       "children": [
        "IPY_MODEL_1146027f834c44f1ac89d66aab33bdce",
        "IPY_MODEL_1bce02e72caa43feacc2625c975b8b5f"
       ],
       "layout": "IPY_MODEL_1453d63dc2664a7ea5971c173057e9f7"
      }
     },
     "618e8b62b1ca426ab5f86ce869ac2806": {
      "model_module": "@jupyter-widgets/base",
      "model_module_version": "1.0.0",
      "model_name": "LayoutModel",
      "state": {}
     },
     "619e6b83f6584eb19b0909d282750139": {
      "model_module": "jp_proxy_widget",
      "model_module_version": "^0.3.4",
      "model_name": "JSProxyModel",
      "state": {
       "_model_module_version": "^0.3.4",
       "_send_counter": 2,
       "_view_module_version": "^0.3.4",
       "error_msg": "No error",
       "layout": "IPY_MODEL_f9684b238be0462b8d286fe31df2f9aa",
       "rendered": true,
       "status": "Got results."
      }
     },
     "62421fc01dd6408487ec5e76ea2d8583": {
      "model_module": "@jupyter-widgets/controls",
      "model_module_version": "1.0.0",
      "model_name": "DescriptionStyleModel",
      "state": {
       "description_width": ""
      }
     },
     "6322d33bed96472f8590c3e07931ac70": {
      "model_module": "@jupyter-widgets/base",
      "model_module_version": "1.0.0",
      "model_name": "LayoutModel",
      "state": {}
     },
     "63258898324248649003cd98026ea6b7": {
      "model_module": "@jupyter-widgets/base",
      "model_module_version": "1.0.0",
      "model_name": "LayoutModel",
      "state": {}
     },
     "6342ac78276f4340ba78b230a7cb5e58": {
      "model_module": "@jupyter-widgets/base",
      "model_module_version": "1.0.0",
      "model_name": "LayoutModel",
      "state": {}
     },
     "635ffb7c12f044809d9ffdf4f51e2a56": {
      "model_module": "@jupyter-widgets/controls",
      "model_module_version": "1.0.0",
      "model_name": "DescriptionStyleModel",
      "state": {
       "description_width": ""
      }
     },
     "64582a3f1f0949ab8b62d77bb3fc2d39": {
      "model_module": "@jupyter-widgets/controls",
      "model_module_version": "1.0.0",
      "model_name": "TabModel",
      "state": {
       "_titles": {
        "0": "Canvas",
        "1": "Snapshot"
       },
       "children": [
        "IPY_MODEL_557dea2fa37d484b9c5c40fc7d3235f7",
        "IPY_MODEL_2508d61adc944fee8d400834c2b8530f"
       ],
       "layout": "IPY_MODEL_a78ecc8ece654ab18dcd0fc7437e35ca"
      }
     },
     "65780e4436e342b5afbd9389156db48f": {
      "model_module": "@jupyter-widgets/controls",
      "model_module_version": "1.0.0",
      "model_name": "TabModel",
      "state": {
       "_titles": {
        "0": "Canvas",
        "1": "Snapshot"
       },
       "children": [
        "IPY_MODEL_b163fe7072d741c795733ade25c6cc3c",
        "IPY_MODEL_d4337e5802694749bf5602c2f7f24b10"
       ],
       "layout": "IPY_MODEL_d239e1cb224a468692fdebc983ccf8c5"
      }
     },
     "65af98f3036049d28c4a23035e29829a": {
      "model_module": "@jupyter-widgets/controls",
      "model_module_version": "1.0.0",
      "model_name": "DescriptionStyleModel",
      "state": {
       "description_width": ""
      }
     },
     "66e7e3aa81fa435b9f82a510aa594377": {
      "model_module": "jp_proxy_widget",
      "model_module_version": "^0.3.4",
      "model_name": "JSProxyModel",
      "state": {
       "_model_module_version": "^0.3.4",
       "_send_counter": 8,
       "_view_module_version": "^0.3.4",
       "error_msg": "No error",
       "layout": "IPY_MODEL_4f404721fba04fe9ba6a559918d63345",
       "rendered": true,
       "status": "Got results."
      }
     },
     "67515e767716492790f4a883d0e7e4a4": {
      "model_module": "@jupyter-widgets/controls",
      "model_module_version": "1.0.0",
      "model_name": "VBoxModel",
      "state": {
       "children": [
        "IPY_MODEL_d0eebea56ead4069a400841781458074",
        "IPY_MODEL_cfeb4884cfc94d06beb41edeb6efe22e"
       ],
       "layout": "IPY_MODEL_2a393f7e821d40de95ecabcb6510862a"
      }
     },
     "67c1ae8de00249e98e4eea30feb340ba": {
      "model_module": "@jupyter-widgets/controls",
      "model_module_version": "1.0.0",
      "model_name": "TabModel",
      "state": {
       "_titles": {
        "0": "Canvas",
        "1": "Snapshot"
       },
       "children": [
        "IPY_MODEL_a022a67a9ef242f885d6f4882ddee756",
        "IPY_MODEL_8479ff739bc7467da67c92b834d0d322"
       ],
       "layout": "IPY_MODEL_aa29188687bc4b97b93c5d360e70c77c"
      }
     },
     "68048da54feb40b4b68ba3a37c28ed45": {
      "model_module": "@jupyter-widgets/controls",
      "model_module_version": "1.0.0",
      "model_name": "HTMLModel",
      "state": {
       "layout": "IPY_MODEL_daa142605cc54ec3afb48a1b36b43c2a",
       "style": "IPY_MODEL_0cc8b932916649c18341a151d4686c89",
       "value": "<img src=\"Image0.png\" id=\"snapshot_id_11_1535827030885\"/>\n <div id=\"snapshot_id_12_1535827030885\">Image0.png</div>"
      }
     },
     "692012218198457998d2f6d6ebf74027": {
      "model_module": "@jupyter-widgets/base",
      "model_module_version": "1.0.0",
      "model_name": "LayoutModel",
      "state": {}
     },
     "695fd813d1ec4979aad3f46b83aa36e8": {
      "model_module": "@jupyter-widgets/controls",
      "model_module_version": "1.0.0",
      "model_name": "DescriptionStyleModel",
      "state": {
       "description_width": ""
      }
     },
     "69f083da8a504249a8d4224d2a1e2e83": {
      "model_module": "@jupyter-widgets/controls",
      "model_module_version": "1.0.0",
      "model_name": "DescriptionStyleModel",
      "state": {
       "description_width": ""
      }
     },
     "6bcf67459aee4a7da4c77b33d3a49534": {
      "model_module": "jp_proxy_widget",
      "model_module_version": "^0.3.4",
      "model_name": "JSProxyModel",
      "state": {
       "_model_module_version": "^0.3.4",
       "_send_counter": 15,
       "_view_module_version": "^0.3.4",
       "error_msg": "No error",
       "layout": "IPY_MODEL_ca538f1edf2c42329876f819445c5383",
       "rendered": true,
       "status": "Got results."
      }
     },
     "6c0472e86cf04ae984b1b2e962a225ea": {
      "model_module": "@jupyter-widgets/controls",
      "model_module_version": "1.0.0",
      "model_name": "VBoxModel",
      "state": {
       "children": [
        "IPY_MODEL_4d5a4e1ead0846cda1ccdcc668c403c1",
        "IPY_MODEL_619e6b83f6584eb19b0909d282750139"
       ],
       "layout": "IPY_MODEL_da812904115a49b69e82cfb3e8243653"
      }
     },
     "6ca0e69cd1d241eb8864e7a0c8409799": {
      "model_module": "@jupyter-widgets/base",
      "model_module_version": "1.0.0",
      "model_name": "LayoutModel",
      "state": {}
     },
     "6d2ad5da07db4710ad37cb000553a163": {
      "model_module": "jp_proxy_widget",
      "model_module_version": "^0.3.4",
      "model_name": "JSProxyModel",
      "state": {
       "_model_module_version": "^0.3.4",
       "_send_counter": 17,
       "_view_module_version": "^0.3.4",
       "error_msg": "No error",
       "layout": "IPY_MODEL_268cf2ea1e0146bb885a881b1a9b9d30",
       "rendered": true,
       "status": "Got results."
      }
     },
     "6e63568947d0403f8fcd227825370264": {
      "model_module": "@jupyter-widgets/base",
      "model_module_version": "1.0.0",
      "model_name": "LayoutModel",
      "state": {}
     },
     "6e762b7a32494140890acdd6dd9b410c": {
      "model_module": "@jupyter-widgets/base",
      "model_module_version": "1.0.0",
      "model_name": "LayoutModel",
      "state": {}
     },
     "6e98efbc10ff41e4b5cfd108e83a486a": {
      "model_module": "@jupyter-widgets/base",
      "model_module_version": "1.0.0",
      "model_name": "LayoutModel",
      "state": {}
     },
     "6f29c27de99540a9a111938669dbb449": {
      "model_module": "@jupyter-widgets/controls",
      "model_module_version": "1.0.0",
      "model_name": "TabModel",
      "state": {
       "_titles": {
        "0": "Canvas",
        "1": "Snapshot"
       },
       "children": [
        "IPY_MODEL_c58c2953493a47bda9a7aa5808de9a61",
        "IPY_MODEL_c441526e9f074741954a5d6b8a47053e"
       ],
       "layout": "IPY_MODEL_b2b580e127fb4d2786f91ed7449311a3"
      }
     },
     "6fb6878b7d014d99b3d92447f807bcd8": {
      "model_module": "@jupyter-widgets/base",
      "model_module_version": "1.0.0",
      "model_name": "LayoutModel",
      "state": {}
     },
     "6fd2c62879614f178728e5c198ad315e": {
      "model_module": "@jupyter-widgets/base",
      "model_module_version": "1.0.0",
      "model_name": "LayoutModel",
      "state": {}
     },
     "6ffa4fa161db419285d5f198a481934e": {
      "model_module": "@jupyter-widgets/controls",
      "model_module_version": "1.0.0",
      "model_name": "DescriptionStyleModel",
      "state": {
       "description_width": ""
      }
     },
     "7074514df7c24d46ae597be4db797e2e": {
      "model_module": "jp_proxy_widget",
      "model_module_version": "^0.3.4",
      "model_name": "JSProxyModel",
      "state": {
       "_model_module_version": "^0.3.4",
       "_send_counter": 15,
       "_view_module_version": "^0.3.4",
       "error_msg": "No error",
       "layout": "IPY_MODEL_c71d2cce9ec04f36a607857369d40fe4",
       "rendered": true,
       "status": "Got results."
      }
     },
     "709bea53b3904ff0a1ea4667972b2ce4": {
      "model_module": "jp_proxy_widget",
      "model_module_version": "^0.3.4",
      "model_name": "JSProxyModel",
      "state": {
       "_model_module_version": "^0.3.4",
       "_send_counter": 8,
       "_view_module_version": "^0.3.4",
       "error_msg": "No error",
       "layout": "IPY_MODEL_314757fa682b46ea9ac794208b07630c",
       "rendered": true,
       "status": "Not yet rendered"
      }
     },
     "70c55b886faa4a70a50d30eab11bc83a": {
      "model_module": "@jupyter-widgets/controls",
      "model_module_version": "1.0.0",
      "model_name": "TabModel",
      "state": {
       "_titles": {
        "0": "Canvas",
        "1": "Snapshot"
       },
       "children": [
        "IPY_MODEL_96ba5318efca4e91bdedb1bf28de4d34",
        "IPY_MODEL_fefb1059ce604c309e82379ceb8723dc"
       ],
       "layout": "IPY_MODEL_5e32cf4b15224c58ae7d016f58f2d9cf"
      }
     },
     "7107dbcf7d5a4ba2884d7065593de7e8": {
      "model_module": "@jupyter-widgets/base",
      "model_module_version": "1.0.0",
      "model_name": "LayoutModel",
      "state": {}
     },
     "71372edd30374c8da9ba5853e84fe343": {
      "model_module": "@jupyter-widgets/base",
      "model_module_version": "1.0.0",
      "model_name": "LayoutModel",
      "state": {}
     },
     "71d907b5b4f64e89afdcc74b1018892b": {
      "model_module": "@jupyter-widgets/controls",
      "model_module_version": "1.0.0",
      "model_name": "TabModel",
      "state": {
       "_titles": {
        "0": "Canvas",
        "1": "Snapshot"
       },
       "children": [
        "IPY_MODEL_36835381157345cebe6bf99e4465000f",
        "IPY_MODEL_880cf1241e23483295f7d08f6d793178"
       ],
       "layout": "IPY_MODEL_1553b1acf4254c76beef289168e922a4"
      }
     },
     "7269c2f620e34b97bc083cb3264607e9": {
      "model_module": "@jupyter-widgets/controls",
      "model_module_version": "1.0.0",
      "model_name": "DescriptionStyleModel",
      "state": {
       "description_width": ""
      }
     },
     "730d23a46b9c48e38f74824a55517f19": {
      "model_module": "@jupyter-widgets/base",
      "model_module_version": "1.0.0",
      "model_name": "LayoutModel",
      "state": {}
     },
     "7354aea6ca59410594c181acb7907bd9": {
      "model_module": "@jupyter-widgets/controls",
      "model_module_version": "1.0.0",
      "model_name": "TabModel",
      "state": {
       "_titles": {
        "0": "Canvas",
        "1": "Snapshot"
       },
       "children": [
        "IPY_MODEL_c086920143ac4caaadd6274f29b88421",
        "IPY_MODEL_7d6967627fc0426d8cc0c93e7a227e72"
       ],
       "layout": "IPY_MODEL_9c97a6f4572143de9a662fdecff4e4bd",
       "selected_index": 1
      }
     },
     "73a427e807bd494db97a33de3554b93a": {
      "model_module": "@jupyter-widgets/base",
      "model_module_version": "1.0.0",
      "model_name": "LayoutModel",
      "state": {}
     },
     "7487728fc36c41228ae144cfef1aff31": {
      "model_module": "@jupyter-widgets/base",
      "model_module_version": "1.0.0",
      "model_name": "LayoutModel",
      "state": {}
     },
     "74aaf1fab7f94a53801d3f3c6521cfc4": {
      "model_module": "jp_proxy_widget",
      "model_module_version": "^0.3.4",
      "model_name": "JSProxyModel",
      "state": {
       "_model_module_version": "^0.3.4",
       "_send_counter": 10,
       "_view_module_version": "^0.3.4",
       "error_msg": "No error",
       "layout": "IPY_MODEL_ca13004569e94a85a79d288efc183057",
       "rendered": true,
       "status": "Got results."
      }
     },
     "74b09275fa8e48649bffbb3e991941d2": {
      "model_module": "@jupyter-widgets/base",
      "model_module_version": "1.0.0",
      "model_name": "LayoutModel",
      "state": {}
     },
     "74f79ae0d7a74747a454bb601517136c": {
      "model_module": "@jupyter-widgets/controls",
      "model_module_version": "1.0.0",
      "model_name": "TabModel",
      "state": {
       "_titles": {
        "0": "Canvas",
        "1": "Snapshot"
       },
       "children": [
        "IPY_MODEL_60ea36ceae7d4e6799b836760bce4e24",
        "IPY_MODEL_f10fc83f311747c4ba6eb46452479341"
       ],
       "layout": "IPY_MODEL_385d207eb84b420eb04cf483b942d630"
      }
     },
     "751f4f3295c64f3196574c3b78ced3c7": {
      "model_module": "@jupyter-widgets/controls",
      "model_module_version": "1.0.0",
      "model_name": "VBoxModel",
      "state": {
       "children": [
        "IPY_MODEL_709bea53b3904ff0a1ea4667972b2ce4",
        "IPY_MODEL_5c1feb152baa4c9d9c191b65de80ac83"
       ],
       "layout": "IPY_MODEL_195dd32cce5346ef8d4b99eaf5e228ae"
      }
     },
     "75dd1d5103754d88a5d063b02ccb6659": {
      "model_module": "@jupyter-widgets/controls",
      "model_module_version": "1.0.0",
      "model_name": "DescriptionStyleModel",
      "state": {
       "description_width": ""
      }
     },
     "75f9c14c70244f57a697dab81668683b": {
      "model_module": "@jupyter-widgets/controls",
      "model_module_version": "1.0.0",
      "model_name": "VBoxModel",
      "state": {
       "children": [
        "IPY_MODEL_04766a4d31f8429997ca2bbe67be87e8",
        "IPY_MODEL_8c780b371e834c06a461f9d633cafc67"
       ],
       "layout": "IPY_MODEL_3754648db0fc455087cc31c740e9b646"
      }
     },
     "766c056ed3e144809bfef6cc9c33a629": {
      "model_module": "@jupyter-widgets/base",
      "model_module_version": "1.0.0",
      "model_name": "LayoutModel",
      "state": {}
     },
     "76a9256dc1df4293b8b2dd64d1db0075": {
      "model_module": "@jupyter-widgets/base",
      "model_module_version": "1.0.0",
      "model_name": "LayoutModel",
      "state": {}
     },
     "775fbcb0d837451284f40c77d6944b1f": {
      "model_module": "@jupyter-widgets/controls",
      "model_module_version": "1.0.0",
      "model_name": "VBoxModel",
      "state": {
       "children": [
        "IPY_MODEL_b22eddfea3e946b79532717e359ca005",
        "IPY_MODEL_115dd5eef8d2479894722ee8ae9a37ae"
       ],
       "layout": "IPY_MODEL_118afdd66a0a46b198eae982caedde39"
      }
     },
     "77629304aedf476a88311b73a5799e75": {
      "model_module": "@jupyter-widgets/base",
      "model_module_version": "1.0.0",
      "model_name": "LayoutModel",
      "state": {}
     },
     "77bea3ee61d1414a8a82c9c7ad15a465": {
      "model_module": "@jupyter-widgets/base",
      "model_module_version": "1.0.0",
      "model_name": "LayoutModel",
      "state": {}
     },
     "77fa183f7df8404e90cc9fb83f31bf78": {
      "model_module": "@jupyter-widgets/base",
      "model_module_version": "1.0.0",
      "model_name": "LayoutModel",
      "state": {}
     },
     "783ee12d9ac44c1985ad6b5bae31adeb": {
      "model_module": "@jupyter-widgets/base",
      "model_module_version": "1.0.0",
      "model_name": "LayoutModel",
      "state": {}
     },
     "78b4e2cc6491497097656a550b36d585": {
      "model_module": "@jupyter-widgets/base",
      "model_module_version": "1.0.0",
      "model_name": "LayoutModel",
      "state": {}
     },
     "7955675a177a4cd79255a303274956be": {
      "model_module": "jp_proxy_widget",
      "model_module_version": "^0.3.4",
      "model_name": "JSProxyModel",
      "state": {
       "_model_module_version": "^0.3.4",
       "_send_counter": 15,
       "_view_module_version": "^0.3.4",
       "error_msg": "No error",
       "layout": "IPY_MODEL_d7c1e2ccc30444a6bce761fe6cb0794a",
       "rendered": true,
       "status": "Got results."
      }
     },
     "795627e93b464dc1b5ac4a485108975d": {
      "model_module": "@jupyter-widgets/base",
      "model_module_version": "1.0.0",
      "model_name": "LayoutModel",
      "state": {}
     },
     "7985e4069bc94b07ab85102c7287dfea": {
      "model_module": "@jupyter-widgets/controls",
      "model_module_version": "1.0.0",
      "model_name": "DescriptionStyleModel",
      "state": {
       "description_width": ""
      }
     },
     "79e7dd472fb7450597fe587e2d7231f9": {
      "model_module": "jp_proxy_widget",
      "model_module_version": "^0.3.4",
      "model_name": "JSProxyModel",
      "state": {
       "_model_module_version": "^0.3.4",
       "_send_counter": 2,
       "_view_module_version": "^0.3.4",
       "error_msg": "No error",
       "layout": "IPY_MODEL_f8a808ec9f4a43e684bf700570c4e68b",
       "rendered": true,
       "status": "call back to <function callback_function at 0x117f2d848>"
      }
     },
     "7ab6325a808b4e38b11e1f9bc72555ee": {
      "model_module": "jp_proxy_widget",
      "model_module_version": "^0.3.4",
      "model_name": "JSProxyModel",
      "state": {
       "_model_module_version": "^0.3.4",
       "_send_counter": 8,
       "_view_module_version": "^0.3.4",
       "error_msg": "No error",
       "layout": "IPY_MODEL_3955893e7e1e4f38970cf1cb39a4208d",
       "rendered": true,
       "status": "Got results."
      }
     },
     "7abec8c8c8434dc9b11ee7b0aeb75df9": {
      "model_module": "jp_proxy_widget",
      "model_module_version": "^0.3.4",
      "model_name": "JSProxyModel",
      "state": {
       "_model_module_version": "^0.3.4",
       "_send_counter": 2,
       "_view_module_version": "^0.3.4",
       "error_msg": "No error",
       "layout": "IPY_MODEL_f3754bef40ed4bad83489cc7e030a5de",
       "rendered": true,
       "status": "call back to <function callback_function at 0x113e87a28>"
      }
     },
     "7b385d217c8d40c0966a65c06819c8ec": {
      "model_module": "@jupyter-widgets/base",
      "model_module_version": "1.0.0",
      "model_name": "LayoutModel",
      "state": {}
     },
     "7ba6443b5930420cbddba9a302c58291": {
      "model_module": "jp_proxy_widget",
      "model_module_version": "^0.3.4",
      "model_name": "JSProxyModel",
      "state": {
       "_model_module_version": "^0.3.4",
       "_send_counter": 8,
       "_view_module_version": "^0.3.4",
       "error_msg": "Error: Error in element.New SyntaxError: Unexpected token )",
       "layout": "IPY_MODEL_4c33159de2ad443ca472e99dbfdca812",
       "rendered": true,
       "status": "Rendered."
      }
     },
     "7c0568320ebe4c879275249e44e51bc8": {
      "model_module": "@jupyter-widgets/controls",
      "model_module_version": "1.0.0",
      "model_name": "VBoxModel",
      "state": {
       "children": [
        "IPY_MODEL_372010fb3f5748cebe4c186126da9360",
        "IPY_MODEL_25c3f18854b3403fa2f61e4bb7f1bb2c"
       ],
       "layout": "IPY_MODEL_a6d4c1aae3904a578bcaf5093c202158"
      }
     },
     "7c2d0582047b45bb8a3a4b5e7ec9ae36": {
      "model_module": "@jupyter-widgets/base",
      "model_module_version": "1.0.0",
      "model_name": "LayoutModel",
      "state": {}
     },
     "7c3ccf507c3646febaec0db238804d23": {
      "model_module": "jp_proxy_widget",
      "model_module_version": "^0.3.4",
      "model_name": "JSProxyModel",
      "state": {
       "_model_module_version": "^0.3.4",
       "_send_counter": 8,
       "_view_module_version": "^0.3.4",
       "error_msg": "No error",
       "layout": "IPY_MODEL_d73eba0498d9440486608fe3224b08e9",
       "rendered": true,
       "status": "Got results."
      }
     },
     "7c7c5e40aed04a8c82f751c6333b98ea": {
      "model_module": "jp_proxy_widget",
      "model_module_version": "^0.3.4",
      "model_name": "JSProxyModel",
      "state": {
       "_model_module_version": "^0.3.4",
       "_send_counter": 8,
       "_view_module_version": "^0.3.4",
       "error_msg": "No error",
       "layout": "IPY_MODEL_47b4bbd75a8d4c5795713fd2b581715e",
       "rendered": true,
       "status": "Got results."
      }
     },
     "7c7ffe8f09024ff4a23a4466c1cf35e1": {
      "model_module": "@jupyter-widgets/base",
      "model_module_version": "1.0.0",
      "model_name": "LayoutModel",
      "state": {}
     },
     "7c91459ec4a24d1cbe1c96bb1a55c4bc": {
      "model_module": "@jupyter-widgets/base",
      "model_module_version": "1.0.0",
      "model_name": "LayoutModel",
      "state": {}
     },
     "7cc410968dfc4496a9fd412e9347e60b": {
      "model_module": "@jupyter-widgets/base",
      "model_module_version": "1.0.0",
      "model_name": "LayoutModel",
      "state": {}
     },
     "7d6967627fc0426d8cc0c93e7a227e72": {
      "model_module": "@jupyter-widgets/controls",
      "model_module_version": "1.0.0",
      "model_name": "HTMLModel",
      "state": {
       "layout": "IPY_MODEL_9ff20f5cf62e4ea1844d354cc5ef8676",
       "style": "IPY_MODEL_27a23003fb164aa385ce1246978ad9da",
       "value": "<img src=\"rotated_spider.png\" id=\"snapshot_id_13_1535830840717\"/>\n <div id=\"snapshot_id_14_1535830840717\">rotated_spider.png</div>"
      }
     },
     "7d8212fa3d434e729054fe29ddc882b6": {
      "model_module": "jp_proxy_widget",
      "model_module_version": "^0.3.4",
      "model_name": "JSProxyModel",
      "state": {
       "_model_module_version": "^0.3.4",
       "_send_counter": 8,
       "_view_module_version": "^0.3.4",
       "error_msg": "No error",
       "layout": "IPY_MODEL_b7ff1426030446c3979dd55a282e4b8d",
       "rendered": true,
       "status": "Got results."
      }
     },
     "7d9d71c563f949f58d17e770d47c30b8": {
      "model_module": "@jupyter-widgets/base",
      "model_module_version": "1.0.0",
      "model_name": "LayoutModel",
      "state": {}
     },
     "7f81083b7d6c4a49aac62061e4881eff": {
      "model_module": "@jupyter-widgets/base",
      "model_module_version": "1.0.0",
      "model_name": "LayoutModel",
      "state": {}
     },
     "7fb2f32568d94907b012f4439bbc0419": {
      "model_module": "@jupyter-widgets/base",
      "model_module_version": "1.0.0",
      "model_name": "LayoutModel",
      "state": {}
     },
     "807024636a6c43598e6c1fafcef003d8": {
      "model_module": "@jupyter-widgets/base",
      "model_module_version": "1.0.0",
      "model_name": "LayoutModel",
      "state": {}
     },
     "80f1d8f5692e40f9b057367e7c78e258": {
      "model_module": "jp_proxy_widget",
      "model_module_version": "^0.3.4",
      "model_name": "JSProxyModel",
      "state": {
       "_model_module_version": "^0.3.4",
       "_send_counter": 2,
       "_view_module_version": "^0.3.4",
       "error_msg": "No error",
       "layout": "IPY_MODEL_99cfb11cceb94f5aa0771e1407ea2b86",
       "rendered": true,
       "status": "Got results."
      }
     },
     "80fda7beff33445eb161e7f49aa76ea8": {
      "model_module": "@jupyter-widgets/base",
      "model_module_version": "1.0.0",
      "model_name": "LayoutModel",
      "state": {}
     },
     "8128bcc4a09d4b7e83be1d4b427c002c": {
      "model_module": "@jupyter-widgets/base",
      "model_module_version": "1.0.0",
      "model_name": "LayoutModel",
      "state": {}
     },
     "81b3568b699e4d6aba2bb890309f8795": {
      "model_module": "@jupyter-widgets/base",
      "model_module_version": "1.0.0",
      "model_name": "LayoutModel",
      "state": {}
     },
     "822d958ea5f14beda437a8acedd1bff8": {
      "model_module": "@jupyter-widgets/base",
      "model_module_version": "1.0.0",
      "model_name": "LayoutModel",
      "state": {}
     },
     "82824e720ba24a8180c2ab84410058a7": {
      "model_module": "jp_proxy_widget",
      "model_module_version": "^0.3.4",
      "model_name": "JSProxyModel",
      "state": {
       "_model_module_version": "^0.3.4",
       "_send_counter": 2,
       "_view_module_version": "^0.3.4",
       "error_msg": "No error",
       "layout": "IPY_MODEL_45f5ddb64f104ba881b618a54085a6a9",
       "rendered": true,
       "status": "Got results."
      }
     },
     "8296745dde9d479ca629902e5e4f8350": {
      "model_module": "@jupyter-widgets/controls",
      "model_module_version": "1.0.0",
      "model_name": "TabModel",
      "state": {
       "_titles": {
        "0": "Canvas",
        "1": "Snapshot"
       },
       "children": [
        "IPY_MODEL_bc5e2d0e280f4d9f9c7b027a2532324a",
        "IPY_MODEL_d8d725b5c4094b15afd85ed3b0f79ff0"
       ],
       "layout": "IPY_MODEL_6342ac78276f4340ba78b230a7cb5e58"
      }
     },
     "82b17a54d69a4abc831801a8d8e96f8d": {
      "model_module": "@jupyter-widgets/controls",
      "model_module_version": "1.0.0",
      "model_name": "TabModel",
      "state": {
       "_titles": {
        "0": "Canvas",
        "1": "Snapshot"
       },
       "children": [
        "IPY_MODEL_445ef373ac2647bfa7d19b8adb4e89a4",
        "IPY_MODEL_135359bb4f4241d8b3ea988a58ee4c53"
       ],
       "layout": "IPY_MODEL_6e762b7a32494140890acdd6dd9b410c"
      }
     },
     "82c7ceeebea3467797732020161c1658": {
      "model_module": "@jupyter-widgets/controls",
      "model_module_version": "1.0.0",
      "model_name": "VBoxModel",
      "state": {
       "children": [
        "IPY_MODEL_31a83645517a4ba3b899330baf95ccc7",
        "IPY_MODEL_1f68e4328f0240a2af7dd0183a0459ee"
       ],
       "layout": "IPY_MODEL_f41fdce4861f41ba820fe7feb6e2964a"
      }
     },
     "84189c437ccd49359d14214516a55584": {
      "model_module": "@jupyter-widgets/controls",
      "model_module_version": "1.0.0",
      "model_name": "DescriptionStyleModel",
      "state": {
       "description_width": ""
      }
     },
     "8479ff739bc7467da67c92b834d0d322": {
      "model_module": "@jupyter-widgets/controls",
      "model_module_version": "1.0.0",
      "model_name": "HTMLModel",
      "state": {
       "layout": "IPY_MODEL_fbe5ea7da2a54adca023be8c792c964f",
       "style": "IPY_MODEL_4d8fb96262d943d69017cd8a38c9ac3c",
       "value": "<img src=\"spider_attack.png\" id=\"snapshot_id_37_1535828101895\"/>\n <div id=\"snapshot_id_38_1535828101895\">spider_attack.png</div>"
      }
     },
     "8486467bdb4a4322bd66c5b717740430": {
      "model_module": "jp_proxy_widget",
      "model_module_version": "^0.3.4",
      "model_name": "JSProxyModel",
      "state": {
       "_model_module_version": "^0.3.4",
       "_send_counter": 2,
       "_view_module_version": "^0.3.4",
       "error_msg": "No error",
       "layout": "IPY_MODEL_b36e648e7854439395cd04dd7bdd4c89",
       "rendered": true,
       "status": "Got results."
      }
     },
     "85713b2b89e242668fe44662091718ee": {
      "model_module": "jp_proxy_widget",
      "model_module_version": "^0.3.4",
      "model_name": "JSProxyModel",
      "state": {
       "_model_module_version": "^0.3.4",
       "_send_counter": 8,
       "_view_module_version": "^0.3.4",
       "error_msg": "ReferenceError: math is not defined",
       "layout": "IPY_MODEL_34961dd9ec894d399874defb31ab598c",
       "rendered": true,
       "status": "Rendered."
      }
     },
     "85e9060c3c964bf3859e90aeca0f445c": {
      "model_module": "jp_proxy_widget",
      "model_module_version": "^0.3.4",
      "model_name": "JSProxyModel",
      "state": {
       "_model_module_version": "^0.3.4",
       "_send_counter": 2,
       "_view_module_version": "^0.3.4",
       "error_msg": "No error",
       "layout": "IPY_MODEL_50941765e84341948edb0ec21eba2422",
       "rendered": true,
       "status": "Got results."
      }
     },
     "85efd81e26e04e63b6ba646157121bb1": {
      "model_module": "@jupyter-widgets/controls",
      "model_module_version": "1.0.0",
      "model_name": "TabModel",
      "state": {
       "_titles": {
        "0": "Canvas",
        "1": "Snapshot"
       },
       "children": [
        "IPY_MODEL_e5ca67c9b0ba4224abd9ef76f4f2ac39",
        "IPY_MODEL_935e7cdc56b04144b49209aef02c3d03"
       ],
       "layout": "IPY_MODEL_7107dbcf7d5a4ba2884d7065593de7e8"
      }
     },
     "86008130496844d5af094935096c5748": {
      "model_module": "@jupyter-widgets/controls",
      "model_module_version": "1.0.0",
      "model_name": "HTMLModel",
      "state": {
       "layout": "IPY_MODEL_209ac47d7b7b47f7be7090e02e5b8452",
       "style": "IPY_MODEL_be13278b117e4065a07149ee970aa6b8",
       "value": "<img src=\"Image0.png\" id=\"snapshot_id_7_1535827002028\"/>\n <div id=\"snapshot_id_8_1535827002028\">Image0.png</div>"
      }
     },
     "8608b1e14faf477a859e7d98f33ed3e1": {
      "model_module": "@jupyter-widgets/controls",
      "model_module_version": "1.0.0",
      "model_name": "DescriptionStyleModel",
      "state": {
       "description_width": ""
      }
     },
     "880cf1241e23483295f7d08f6d793178": {
      "model_module": "@jupyter-widgets/controls",
      "model_module_version": "1.0.0",
      "model_name": "HTMLModel",
      "state": {
       "layout": "IPY_MODEL_40d83f0f8a5f4896b8a210afb0f23c96",
       "style": "IPY_MODEL_7269c2f620e34b97bc083cb3264607e9",
       "value": "<img src=\"spider_attack.png\" id=\"snapshot_id_63_1535830313083\"/>\n <div id=\"snapshot_id_64_1535830313083\">spider_attack.png</div>"
      }
     },
     "8812d161f300460dbbd064b9841c0d8d": {
      "model_module": "jp_proxy_widget",
      "model_module_version": "^0.3.4",
      "model_name": "JSProxyModel",
      "state": {
       "_model_module_version": "^0.3.4",
       "_send_counter": 8,
       "_view_module_version": "^0.3.4",
       "error_msg": "No error",
       "layout": "IPY_MODEL_7c2d0582047b45bb8a3a4b5e7ec9ae36",
       "rendered": true,
       "status": "Got results."
      }
     },
     "888b9902391d4469afcbb8c12a74ee88": {
      "model_module": "@jupyter-widgets/controls",
      "model_module_version": "1.0.0",
      "model_name": "TabModel",
      "state": {
       "_titles": {
        "0": "Canvas",
        "1": "Snapshot"
       },
       "children": [
        "IPY_MODEL_6c0472e86cf04ae984b1b2e962a225ea",
        "IPY_MODEL_e660671bc5a047dbb74020b372eb58b4"
       ],
       "layout": "IPY_MODEL_2bbac3d665e742ea9d20b62d0362f8a9"
      }
     },
     "8923dbc3549f4256be3d4c827cabcfaf": {
      "model_module": "@jupyter-widgets/base",
      "model_module_version": "1.0.0",
      "model_name": "LayoutModel",
      "state": {}
     },
     "8a24966ef95244bea8e6440b342f6ab7": {
      "model_module": "jp_proxy_widget",
      "model_module_version": "^0.3.4",
      "model_name": "JSProxyModel",
      "state": {
       "_model_module_version": "^0.3.4",
       "_send_counter": 2,
       "_view_module_version": "^0.3.4",
       "error_msg": "No error",
       "layout": "IPY_MODEL_9d4cb7ad9ad34ebcb5026793d69ffb87",
       "rendered": true,
       "status": "Got results."
      }
     },
     "8a2624e43a044bdeb53363eeab762807": {
      "model_module": "@jupyter-widgets/base",
      "model_module_version": "1.0.0",
      "model_name": "LayoutModel",
      "state": {}
     },
     "8bb7b756ca0c45b4bc14c71e81849f7e": {
      "model_module": "jp_proxy_widget",
      "model_module_version": "^0.3.4",
      "model_name": "JSProxyModel",
      "state": {
       "_model_module_version": "^0.3.4",
       "_send_counter": 2,
       "_view_module_version": "^0.3.4",
       "error_msg": "No error",
       "layout": "IPY_MODEL_1764a898efab42aab177f91e35bab604",
       "rendered": true,
       "status": "Got results."
      }
     },
     "8c780b371e834c06a461f9d633cafc67": {
      "model_module": "jp_proxy_widget",
      "model_module_version": "^0.3.4",
      "model_name": "JSProxyModel",
      "state": {
       "_model_module_version": "^0.3.4",
       "_send_counter": 2,
       "_view_module_version": "^0.3.4",
       "error_msg": "No error",
       "layout": "IPY_MODEL_eb8516a170bc4e829b86d2561451e02a",
       "rendered": true,
       "status": "Got results."
      }
     },
     "8cd6fe24fda043a987c7d4d583981cdd": {
      "model_module": "@jupyter-widgets/controls",
      "model_module_version": "1.0.0",
      "model_name": "DescriptionStyleModel",
      "state": {
       "description_width": ""
      }
     },
     "8d6e42b4adf248419283917b03e9ce1f": {
      "model_module": "@jupyter-widgets/base",
      "model_module_version": "1.0.0",
      "model_name": "LayoutModel",
      "state": {}
     },
     "8e58b7f3104e48289553d0280e004af3": {
      "model_module": "@jupyter-widgets/base",
      "model_module_version": "1.0.0",
      "model_name": "LayoutModel",
      "state": {}
     },
     "8eccb123b51c4c87be92d19bb171e390": {
      "model_module": "@jupyter-widgets/base",
      "model_module_version": "1.0.0",
      "model_name": "LayoutModel",
      "state": {}
     },
     "8f071e1125b04b2dba77b71a57354702": {
      "model_module": "@jupyter-widgets/controls",
      "model_module_version": "1.0.0",
      "model_name": "DescriptionStyleModel",
      "state": {
       "description_width": ""
      }
     },
     "8f346b90c5b6423e9742767740e79db6": {
      "model_module": "@jupyter-widgets/base",
      "model_module_version": "1.0.0",
      "model_name": "LayoutModel",
      "state": {}
     },
     "8f86577aa2a345538681bc4e0192d7e5": {
      "model_module": "@jupyter-widgets/controls",
      "model_module_version": "1.0.0",
      "model_name": "DescriptionStyleModel",
      "state": {
       "description_width": ""
      }
     },
     "8f89fbccdb6d4290a1afe4c9c6c08ee4": {
      "model_module": "@jupyter-widgets/base",
      "model_module_version": "1.0.0",
      "model_name": "LayoutModel",
      "state": {}
     },
     "8fae86c1abd54c9ca5d7978a3c5bcd37": {
      "model_module": "@jupyter-widgets/base",
      "model_module_version": "1.0.0",
      "model_name": "LayoutModel",
      "state": {}
     },
     "909d0ab64d6e42ccb42158801a2e819e": {
      "model_module": "@jupyter-widgets/base",
      "model_module_version": "1.0.0",
      "model_name": "LayoutModel",
      "state": {}
     },
     "90b6a49e26ee4315b8a7fdbaffe71e89": {
      "model_module": "jp_proxy_widget",
      "model_module_version": "^0.3.4",
      "model_name": "JSProxyModel",
      "state": {
       "_model_module_version": "^0.3.4",
       "_send_counter": 8,
       "_view_module_version": "^0.3.4",
       "error_msg": "Error: Error in element.New SyntaxError: Unexpected token *",
       "layout": "IPY_MODEL_ea2e4b6430964fc9b8326a696076c74c",
       "rendered": true,
       "status": "Rendered."
      }
     },
     "91837394178a4cbab20922a8a8c8e616": {
      "model_module": "@jupyter-widgets/base",
      "model_module_version": "1.0.0",
      "model_name": "LayoutModel",
      "state": {}
     },
     "92014af6a1db4058b5e268f0a0546c6b": {
      "model_module": "@jupyter-widgets/base",
      "model_module_version": "1.0.0",
      "model_name": "LayoutModel",
      "state": {}
     },
     "935e7cdc56b04144b49209aef02c3d03": {
      "model_module": "@jupyter-widgets/controls",
      "model_module_version": "1.0.0",
      "model_name": "HTMLModel",
      "state": {
       "layout": "IPY_MODEL_5d27efae8ede43b593cb451d9f33fcf2",
       "style": "IPY_MODEL_1968c6a931334d219b0778be48cad025",
       "value": "<img src=\"spider_attack.png\" id=\"snapshot_id_57_1535830173674\"/>\n <div id=\"snapshot_id_58_1535830173674\">spider_attack.png</div>"
      }
     },
     "939cf564e6ae4706998d2857571c046c": {
      "model_module": "jp_proxy_widget",
      "model_module_version": "^0.3.4",
      "model_name": "JSProxyModel",
      "state": {
       "_model_module_version": "^0.3.4",
       "_send_counter": 8,
       "_view_module_version": "^0.3.4",
       "error_msg": "Error: No image loaded with name: mandrill",
       "layout": "IPY_MODEL_7fb2f32568d94907b012f4439bbc0419",
       "rendered": true,
       "status": "Rendered."
      }
     },
     "940a48794ebc493c98753937dd50aa32": {
      "model_module": "@jupyter-widgets/base",
      "model_module_version": "1.0.0",
      "model_name": "LayoutModel",
      "state": {}
     },
     "95b2ee0c78e240dd96c6d3ca14e3241d": {
      "model_module": "jp_proxy_widget",
      "model_module_version": "^0.3.4",
      "model_name": "JSProxyModel",
      "state": {
       "_model_module_version": "^0.3.4",
       "_send_counter": 2,
       "_view_module_version": "^0.3.4",
       "error_msg": "No error",
       "layout": "IPY_MODEL_39d152c2146b4395aae4e72dc89c3410",
       "rendered": true,
       "status": "Got results."
      }
     },
     "962741ebad1d4f03b45e4a61e5f748d5": {
      "model_module": "@jupyter-widgets/base",
      "model_module_version": "1.0.0",
      "model_name": "LayoutModel",
      "state": {}
     },
     "964e9b0553f84b1ca2f9681dfe17c4ea": {
      "model_module": "@jupyter-widgets/controls",
      "model_module_version": "1.0.0",
      "model_name": "VBoxModel",
      "state": {
       "children": [
        "IPY_MODEL_eb247be8ff124682a4e6d27b04b4663b",
        "IPY_MODEL_f392f80120354341a28782dfe679f438"
       ],
       "layout": "IPY_MODEL_edb5c8fa80f946b08d3e442c6602485d"
      }
     },
     "96ba5318efca4e91bdedb1bf28de4d34": {
      "model_module": "@jupyter-widgets/controls",
      "model_module_version": "1.0.0",
      "model_name": "VBoxModel",
      "state": {
       "children": [
        "IPY_MODEL_e9f4141cdafb40fba8cae5c255999eac",
        "IPY_MODEL_f952986dd0524c1bab92ad8a77a469c6"
       ],
       "layout": "IPY_MODEL_f5f36f6fabe34d2e922a17bb81361073"
      }
     },
     "96fc9f095b664a9ead1c27166da75f1a": {
      "model_module": "@jupyter-widgets/base",
      "model_module_version": "1.0.0",
      "model_name": "LayoutModel",
      "state": {}
     },
     "9880b30110bd4fa2b9d177dc1f1c29a6": {
      "model_module": "@jupyter-widgets/base",
      "model_module_version": "1.0.0",
      "model_name": "LayoutModel",
      "state": {}
     },
     "9883eb3411114abe90cd0ece3451f568": {
      "model_module": "@jupyter-widgets/controls",
      "model_module_version": "1.0.0",
      "model_name": "DescriptionStyleModel",
      "state": {
       "description_width": ""
      }
     },
     "98aabecf5fa84f17a61ead249a2ef05f": {
      "model_module": "jp_proxy_widget",
      "model_module_version": "^0.3.4",
      "model_name": "JSProxyModel",
      "state": {
       "_model_module_version": "^0.3.4",
       "_send_counter": 2,
       "_view_module_version": "^0.3.4",
       "error_msg": "No error",
       "layout": "IPY_MODEL_c8e66c95d3f6472d86c7c8076297d823",
       "rendered": true,
       "status": "Got results."
      }
     },
     "9926a55d6f034f89bb1be98926890ad9": {
      "model_module": "@jupyter-widgets/base",
      "model_module_version": "1.0.0",
      "model_name": "LayoutModel",
      "state": {}
     },
     "994149ab65454d7791c57bdf5980efb7": {
      "model_module": "jp_proxy_widget",
      "model_module_version": "^0.3.4",
      "model_name": "JSProxyModel",
      "state": {
       "_model_module_version": "^0.3.4",
       "_send_counter": 8,
       "_view_module_version": "^0.3.4",
       "error_msg": "No error",
       "layout": "IPY_MODEL_e8c0f1870eb446a18003e103ff976d30",
       "rendered": true,
       "status": "Got results."
      }
     },
     "99cfb11cceb94f5aa0771e1407ea2b86": {
      "model_module": "@jupyter-widgets/base",
      "model_module_version": "1.0.0",
      "model_name": "LayoutModel",
      "state": {}
     },
     "9a7b694c62f843e9b5a8a44fde8eb7e9": {
      "model_module": "jp_proxy_widget",
      "model_module_version": "^0.3.4",
      "model_name": "JSProxyModel",
      "state": {
       "_model_module_version": "^0.3.4",
       "_send_counter": 2,
       "_view_module_version": "^0.3.4",
       "error_msg": "No error",
       "layout": "IPY_MODEL_44d2e77ffb8e4149966031cfce198012",
       "rendered": true,
       "status": "Got results."
      }
     },
     "9a908672b742427db3cad240d7ea79c8": {
      "model_module": "@jupyter-widgets/controls",
      "model_module_version": "1.0.0",
      "model_name": "TabModel",
      "state": {
       "_titles": {
        "0": "Canvas",
        "1": "Snapshot"
       },
       "children": [
        "IPY_MODEL_5b92f35dba8d4e5c961c5a19f6c34d31",
        "IPY_MODEL_2807ce47a1ca440d940405910d47dbc9"
       ],
       "layout": "IPY_MODEL_23995418fe2543d4ac2dcaa1f94c378e"
      }
     },
     "9b1a225e41c14c57a8757281b0d389bd": {
      "model_module": "@jupyter-widgets/controls",
      "model_module_version": "1.0.0",
      "model_name": "TabModel",
      "state": {
       "_titles": {
        "0": "Canvas",
        "1": "Snapshot"
       },
       "children": [
        "IPY_MODEL_011470ab87fc4ad383c13f3bdddb6e7a",
        "IPY_MODEL_ba932b0a681c4a9484622b44cdeb1195"
       ],
       "layout": "IPY_MODEL_ae37f70709e24150adb54d4230d00596"
      }
     },
     "9ba99799d8e44c5d8feb345e4d6cf70f": {
      "model_module": "jp_proxy_widget",
      "model_module_version": "^0.3.4",
      "model_name": "JSProxyModel",
      "state": {
       "_model_module_version": "^0.3.4",
       "_send_counter": 2,
       "_view_module_version": "^0.3.4",
       "error_msg": "No error",
       "layout": "IPY_MODEL_e09f8847b1cf4209964025602b667511",
       "rendered": true,
       "status": "Got results."
      }
     },
     "9bdf8006187d46868d3cb8fc3402210f": {
      "model_module": "@jupyter-widgets/base",
      "model_module_version": "1.0.0",
      "model_name": "LayoutModel",
      "state": {}
     },
     "9bf127181160482b98af77bbcf04f74e": {
      "model_module": "@jupyter-widgets/base",
      "model_module_version": "1.0.0",
      "model_name": "LayoutModel",
      "state": {}
     },
     "9c4608f53101407aadd84dfdb4d2620a": {
      "model_module": "@jupyter-widgets/controls",
      "model_module_version": "1.0.0",
      "model_name": "TabModel",
      "state": {
       "_titles": {
        "0": "Canvas",
        "1": "Snapshot"
       },
       "children": [
        "IPY_MODEL_02c98037adcf4c3c8be89d19ef919ac6",
        "IPY_MODEL_033ec57e71534113a04a5f6693667d15"
       ],
       "layout": "IPY_MODEL_b6fe9490c93f4e71a2358bda3493c1c3"
      }
     },
     "9c97a6f4572143de9a662fdecff4e4bd": {
      "model_module": "@jupyter-widgets/base",
      "model_module_version": "1.0.0",
      "model_name": "LayoutModel",
      "state": {}
     },
     "9cc2ce4ef20c4d72b4d63439976cc977": {
      "model_module": "@jupyter-widgets/controls",
      "model_module_version": "1.0.0",
      "model_name": "DescriptionStyleModel",
      "state": {
       "description_width": ""
      }
     },
     "9cde4051852047df9b4b2ff016e163b4": {
      "model_module": "@jupyter-widgets/controls",
      "model_module_version": "1.0.0",
      "model_name": "VBoxModel",
      "state": {
       "children": [
        "IPY_MODEL_7c3ccf507c3646febaec0db238804d23",
        "IPY_MODEL_1e73e069a8454be3a3b76df3930ac7f1"
       ],
       "layout": "IPY_MODEL_dd143f207c804a16867cd1a00079dda5"
      }
     },
     "9cfe7541fe974aed8586a6f074aacb6a": {
      "model_module": "@jupyter-widgets/controls",
      "model_module_version": "1.0.0",
      "model_name": "DescriptionStyleModel",
      "state": {
       "description_width": ""
      }
     },
     "9d4cb7ad9ad34ebcb5026793d69ffb87": {
      "model_module": "@jupyter-widgets/base",
      "model_module_version": "1.0.0",
      "model_name": "LayoutModel",
      "state": {}
     },
     "9de4e061752b40c6a00960254a57da18": {
      "model_module": "@jupyter-widgets/base",
      "model_module_version": "1.0.0",
      "model_name": "LayoutModel",
      "state": {}
     },
     "9e7f2449b53947bdbd5c7122ccbc8fd0": {
      "model_module": "@jupyter-widgets/controls",
      "model_module_version": "1.0.0",
      "model_name": "HTMLModel",
      "state": {
       "layout": "IPY_MODEL_9bf127181160482b98af77bbcf04f74e",
       "style": "IPY_MODEL_84189c437ccd49359d14214516a55584",
       "value": "<img src=\"Image0.png\" id=\"snapshot_id_27_1535827514192\"/>\n <div id=\"snapshot_id_28_1535827514192\">Image0.png</div>"
      }
     },
     "9f3429f59b8f4288962ccc0563db23c2": {
      "model_module": "@jupyter-widgets/controls",
      "model_module_version": "1.0.0",
      "model_name": "TabModel",
      "state": {
       "_titles": {
        "0": "Canvas",
        "1": "Snapshot"
       },
       "children": [
        "IPY_MODEL_1175904940cf486a984ddf895dd456fb",
        "IPY_MODEL_d02a0543071842ac90a2a7cda34e1669"
       ],
       "layout": "IPY_MODEL_defe970a5e5c4fbfa4a53c5ffa43bfb1",
       "selected_index": 1
      }
     },
     "9ff20f5cf62e4ea1844d354cc5ef8676": {
      "model_module": "@jupyter-widgets/base",
      "model_module_version": "1.0.0",
      "model_name": "LayoutModel",
      "state": {}
     },
     "a022a67a9ef242f885d6f4882ddee756": {
      "model_module": "@jupyter-widgets/controls",
      "model_module_version": "1.0.0",
      "model_name": "VBoxModel",
      "state": {
       "children": [
        "IPY_MODEL_cdd7f96f1ee04a3bac7b3cd3d20c5ac0",
        "IPY_MODEL_e5d8112301204617b850b9cc937f0c4d"
       ],
       "layout": "IPY_MODEL_d7a173e93fec45bfb4efafc80c6fa2b1"
      }
     },
     "a088bcb9db6042299b0dfd5f01241ab2": {
      "model_module": "jp_proxy_widget",
      "model_module_version": "^0.3.4",
      "model_name": "JSProxyModel",
      "state": {
       "_model_module_version": "^0.3.4",
       "_send_counter": 8,
       "_view_module_version": "^0.3.4",
       "error_msg": "No error",
       "layout": "IPY_MODEL_7b385d217c8d40c0966a65c06819c8ec",
       "rendered": true,
       "status": "Got results."
      }
     },
     "a1a7e8797d514ed799f852ef063d1e00": {
      "model_module": "@jupyter-widgets/base",
      "model_module_version": "1.0.0",
      "model_name": "LayoutModel",
      "state": {}
     },
     "a1e19d757dd245edac9a1a4ebbf0f9cd": {
      "model_module": "@jupyter-widgets/base",
      "model_module_version": "1.0.0",
      "model_name": "LayoutModel",
      "state": {}
     },
     "a2202b72f2ea493d9b11a19668de9548": {
      "model_module": "@jupyter-widgets/base",
      "model_module_version": "1.0.0",
      "model_name": "LayoutModel",
      "state": {}
     },
     "a341ead25c1345789e28b22bcfb67920": {
      "model_module": "@jupyter-widgets/base",
      "model_module_version": "1.0.0",
      "model_name": "LayoutModel",
      "state": {}
     },
     "a45befe20a4f4f1eb97ec579d23a69ef": {
      "model_module": "jp_proxy_widget",
      "model_module_version": "^0.3.4",
      "model_name": "JSProxyModel",
      "state": {
       "_model_module_version": "^0.3.4",
       "_send_counter": 8,
       "_view_module_version": "^0.3.4",
       "error_msg": "No error",
       "layout": "IPY_MODEL_4174648d671f4ea2bf99bcc33c484e1b",
       "rendered": true,
       "status": "Got results."
      }
     },
     "a55abb5d1aae461782fcf99da2601f94": {
      "model_module": "@jupyter-widgets/base",
      "model_module_version": "1.0.0",
      "model_name": "LayoutModel",
      "state": {}
     },
     "a690d024ed424475b28782f9bbeaed9d": {
      "model_module": "@jupyter-widgets/base",
      "model_module_version": "1.0.0",
      "model_name": "LayoutModel",
      "state": {}
     },
     "a6d4c1aae3904a578bcaf5093c202158": {
      "model_module": "@jupyter-widgets/base",
      "model_module_version": "1.0.0",
      "model_name": "LayoutModel",
      "state": {}
     },
     "a78ecc8ece654ab18dcd0fc7437e35ca": {
      "model_module": "@jupyter-widgets/base",
      "model_module_version": "1.0.0",
      "model_name": "LayoutModel",
      "state": {}
     },
     "a8e47d67c43a4dccb2760a912cc677b8": {
      "model_module": "@jupyter-widgets/controls",
      "model_module_version": "1.0.0",
      "model_name": "VBoxModel",
      "state": {
       "children": [
        "IPY_MODEL_1d181389e8cb4e85ab4ef5e6aa4d559f",
        "IPY_MODEL_1924055f9d9945ddb0c28c3d4ed24900"
       ],
       "layout": "IPY_MODEL_dd6204c879f0498688f5f3da7893c69a"
      }
     },
     "a929194187084882b42d0048c88a3aad": {
      "model_module": "@jupyter-widgets/controls",
      "model_module_version": "1.0.0",
      "model_name": "TabModel",
      "state": {
       "_titles": {
        "0": "Canvas",
        "1": "Snapshot"
       },
       "children": [
        "IPY_MODEL_579a9625d06442b7a171e22f5362e0e6",
        "IPY_MODEL_c90ae0512f4443eba7296a18b28b491d"
       ],
       "layout": "IPY_MODEL_e2813cc53d664471979a3bc4cd7d5f3b"
      }
     },
     "a986d62651994895a3a0a55fa4a9c858": {
      "model_module": "@jupyter-widgets/controls",
      "model_module_version": "1.0.0",
      "model_name": "HTMLModel",
      "state": {
       "layout": "IPY_MODEL_0383dc19669342d39e49b45fc9ba2fb8",
       "style": "IPY_MODEL_b295a12abd41462d96425500be6b9b0d",
       "value": "<img src=\"spider_attack.png\" id=\"snapshot_id_25_1535832195610\"/>\n <div id=\"snapshot_id_26_1535832195610\">spider_attack.png</div>"
      }
     },
     "a9cc810ecb33461bb48b6e6d5f43fa66": {
      "model_module": "@jupyter-widgets/base",
      "model_module_version": "1.0.0",
      "model_name": "LayoutModel",
      "state": {}
     },
     "aa29188687bc4b97b93c5d360e70c77c": {
      "model_module": "@jupyter-widgets/base",
      "model_module_version": "1.0.0",
      "model_name": "LayoutModel",
      "state": {}
     },
     "aa734e2dd1334990a7f804250c922cae": {
      "model_module": "@jupyter-widgets/controls",
      "model_module_version": "1.0.0",
      "model_name": "DescriptionStyleModel",
      "state": {
       "description_width": ""
      }
     },
     "ab01fe5b605141d6aab25cadd79fe451": {
      "model_module": "@jupyter-widgets/base",
      "model_module_version": "1.0.0",
      "model_name": "LayoutModel",
      "state": {}
     },
     "abb532e54e864ffea965626f6a0a433f": {
      "model_module": "@jupyter-widgets/controls",
      "model_module_version": "1.0.0",
      "model_name": "HTMLModel",
      "state": {
       "layout": "IPY_MODEL_17b50835a50e44a4b28b12a598120198",
       "style": "IPY_MODEL_695fd813d1ec4979aad3f46b83aa36e8",
       "value": "<img src=\"spider_attack.png\" id=\"snapshot_id_15_1535831118113\"/>\n <div id=\"snapshot_id_16_1535831118113\">spider_attack.png</div>"
      }
     },
     "ac2da0b2e685462bb4891b48d99f008c": {
      "model_module": "@jupyter-widgets/controls",
      "model_module_version": "1.0.0",
      "model_name": "TabModel",
      "state": {
       "_titles": {
        "0": "Canvas",
        "1": "Snapshot"
       },
       "children": [
        "IPY_MODEL_9cde4051852047df9b4b2ff016e163b4",
        "IPY_MODEL_39f0d007a99b44b79acdd21bc03ad58a"
       ],
       "layout": "IPY_MODEL_7cc410968dfc4496a9fd412e9347e60b"
      }
     },
     "acdde8a443fb4a5eb71dd39ba1c5c325": {
      "model_module": "@jupyter-widgets/base",
      "model_module_version": "1.0.0",
      "model_name": "LayoutModel",
      "state": {}
     },
     "adc03af486b84f9f9c49d7e7d2217b02": {
      "model_module": "@jupyter-widgets/controls",
      "model_module_version": "1.0.0",
      "model_name": "TabModel",
      "state": {
       "_titles": {
        "0": "Canvas",
        "1": "Snapshot"
       },
       "children": [
        "IPY_MODEL_2001aa577f7b4a9493bb4ea2bd2c7184",
        "IPY_MODEL_0670d89d6695452798631d4b3e9cfac2"
       ],
       "layout": "IPY_MODEL_7c7ffe8f09024ff4a23a4466c1cf35e1"
      }
     },
     "ade69df4ee5e4fbfa24c1fddb90d9b82": {
      "model_module": "jp_proxy_widget",
      "model_module_version": "^0.3.4",
      "model_name": "JSProxyModel",
      "state": {
       "_model_module_version": "^0.3.4",
       "_send_counter": 2,
       "_view_module_version": "^0.3.4",
       "error_msg": "No error",
       "layout": "IPY_MODEL_9926a55d6f034f89bb1be98926890ad9",
       "rendered": true,
       "status": "Got results."
      }
     },
     "ade7df6d03424bfd8bd354713441cd6d": {
      "model_module": "@jupyter-widgets/base",
      "model_module_version": "1.0.0",
      "model_name": "LayoutModel",
      "state": {}
     },
     "ae37f70709e24150adb54d4230d00596": {
      "model_module": "@jupyter-widgets/base",
      "model_module_version": "1.0.0",
      "model_name": "LayoutModel",
      "state": {}
     },
     "ae6dbbb3bd89438a85d5414bb7e8ddb0": {
      "model_module": "@jupyter-widgets/controls",
      "model_module_version": "1.0.0",
      "model_name": "VBoxModel",
      "state": {
       "children": [
        "IPY_MODEL_4e0291caa2814de282b4852b5781838a",
        "IPY_MODEL_257528b713ca4d6387f08cbe25723375"
       ],
       "layout": "IPY_MODEL_77bea3ee61d1414a8a82c9c7ad15a465"
      }
     },
     "af9dd57e0bad4c8c82de051bba307a97": {
      "model_module": "@jupyter-widgets/base",
      "model_module_version": "1.0.0",
      "model_name": "LayoutModel",
      "state": {}
     },
     "afa9d3e5340a4c399aa13e31c6530e79": {
      "model_module": "@jupyter-widgets/base",
      "model_module_version": "1.0.0",
      "model_name": "LayoutModel",
      "state": {}
     },
     "b062d6b995cc4575b8f9882429bf8eae": {
      "model_module": "jp_proxy_widget",
      "model_module_version": "^0.3.4",
      "model_name": "JSProxyModel",
      "state": {
       "_model_module_version": "^0.3.4",
       "_send_counter": 8,
       "_view_module_version": "^0.3.4",
       "error_msg": "No error",
       "layout": "IPY_MODEL_c6c8bd82be6342999e6d70dc763da86b",
       "rendered": true,
       "status": "Got results."
      }
     },
     "b163fe7072d741c795733ade25c6cc3c": {
      "model_module": "@jupyter-widgets/controls",
      "model_module_version": "1.0.0",
      "model_name": "VBoxModel",
      "state": {
       "children": [
        "IPY_MODEL_b33704f0e9074d429ab1958ff0f67395",
        "IPY_MODEL_39c58d4bdf4046ab8dd9154c3e4437a1"
       ],
       "layout": "IPY_MODEL_16da74f3d3e2450eae62210c0c96794d"
      }
     },
     "b197f45525824aff92e82df1bd6c0254": {
      "model_module": "@jupyter-widgets/base",
      "model_module_version": "1.0.0",
      "model_name": "LayoutModel",
      "state": {}
     },
     "b1e59b7e14b74f5aab4afed3fb2743f4": {
      "model_module": "jp_proxy_widget",
      "model_module_version": "^0.3.4",
      "model_name": "JSProxyModel",
      "state": {
       "_model_module_version": "^0.3.4",
       "_send_counter": 2,
       "_view_module_version": "^0.3.4",
       "error_msg": "No error",
       "layout": "IPY_MODEL_fd5493fef4054c7b8d787dbfd9456e52",
       "rendered": true,
       "status": "Got results."
      }
     },
     "b22eddfea3e946b79532717e359ca005": {
      "model_module": "jp_proxy_widget",
      "model_module_version": "^0.3.4",
      "model_name": "JSProxyModel",
      "state": {
       "_model_module_version": "^0.3.4",
       "_send_counter": 8,
       "_view_module_version": "^0.3.4",
       "error_msg": "No error",
       "layout": "IPY_MODEL_a1e19d757dd245edac9a1a4ebbf0f9cd",
       "rendered": true,
       "status": "Got results."
      }
     },
     "b295a12abd41462d96425500be6b9b0d": {
      "model_module": "@jupyter-widgets/controls",
      "model_module_version": "1.0.0",
      "model_name": "DescriptionStyleModel",
      "state": {
       "description_width": ""
      }
     },
     "b2b580e127fb4d2786f91ed7449311a3": {
      "model_module": "@jupyter-widgets/base",
      "model_module_version": "1.0.0",
      "model_name": "LayoutModel",
      "state": {}
     },
     "b33704f0e9074d429ab1958ff0f67395": {
      "model_module": "jp_proxy_widget",
      "model_module_version": "^0.3.4",
      "model_name": "JSProxyModel",
      "state": {
       "_model_module_version": "^0.3.4",
       "_send_counter": 8,
       "_view_module_version": "^0.3.4",
       "error_msg": "ReferenceError: spider is not defined",
       "layout": "IPY_MODEL_31731feee205402d86033190238a7cc5",
       "rendered": true,
       "status": "Rendered."
      }
     },
     "b3683b6a544a4a14948ebcf66d1a6c4b": {
      "model_module": "@jupyter-widgets/controls",
      "model_module_version": "1.0.0",
      "model_name": "DescriptionStyleModel",
      "state": {
       "description_width": ""
      }
     },
     "b36e648e7854439395cd04dd7bdd4c89": {
      "model_module": "@jupyter-widgets/base",
      "model_module_version": "1.0.0",
      "model_name": "LayoutModel",
      "state": {}
     },
     "b3d223575c53436fb1a4e2806115da39": {
      "model_module": "@jupyter-widgets/base",
      "model_module_version": "1.0.0",
      "model_name": "LayoutModel",
      "state": {}
     },
     "b43a0281622d4692bb355e3c94c2435b": {
      "model_module": "@jupyter-widgets/base",
      "model_module_version": "1.0.0",
      "model_name": "LayoutModel",
      "state": {}
     },
     "b44817eb11024aaaa7ba372addf401b9": {
      "model_module": "@jupyter-widgets/controls",
      "model_module_version": "1.0.0",
      "model_name": "DescriptionStyleModel",
      "state": {
       "description_width": ""
      }
     },
     "b563c61ece7547828ba9f64593e7bc40": {
      "model_module": "@jupyter-widgets/base",
      "model_module_version": "1.0.0",
      "model_name": "LayoutModel",
      "state": {}
     },
     "b571945ba3fa4851bde50e29dc90bbdf": {
      "model_module": "@jupyter-widgets/base",
      "model_module_version": "1.0.0",
      "model_name": "LayoutModel",
      "state": {}
     },
     "b5a84ca055d9460d97c3ee6f440b530c": {
      "model_module": "@jupyter-widgets/controls",
      "model_module_version": "1.0.0",
      "model_name": "TabModel",
      "state": {
       "_titles": {
        "0": "Canvas",
        "1": "Snapshot"
       },
       "children": [
        "IPY_MODEL_775fbcb0d837451284f40c77d6944b1f",
        "IPY_MODEL_545906e12edd4e1da9355fdfeeaaef47"
       ],
       "layout": "IPY_MODEL_c5a59f1fd8ea41b2b9574a910480c71a"
      }
     },
     "b6fe9490c93f4e71a2358bda3493c1c3": {
      "model_module": "@jupyter-widgets/base",
      "model_module_version": "1.0.0",
      "model_name": "LayoutModel",
      "state": {}
     },
     "b74187c4ce324d47a0b9a9025c5efd23": {
      "model_module": "@jupyter-widgets/base",
      "model_module_version": "1.0.0",
      "model_name": "LayoutModel",
      "state": {}
     },
     "b7ba4242f38b4d859e9f5b73e3a52516": {
      "model_module": "@jupyter-widgets/controls",
      "model_module_version": "1.0.0",
      "model_name": "DescriptionStyleModel",
      "state": {
       "description_width": ""
      }
     },
     "b7ff1426030446c3979dd55a282e4b8d": {
      "model_module": "@jupyter-widgets/base",
      "model_module_version": "1.0.0",
      "model_name": "LayoutModel",
      "state": {}
     },
     "b8517928eb6544d0af7b9b3c7dfc0d86": {
      "model_module": "@jupyter-widgets/base",
      "model_module_version": "1.0.0",
      "model_name": "LayoutModel",
      "state": {}
     },
     "b892581027eb4befa0c46d294d0b4aa4": {
      "model_module": "@jupyter-widgets/controls",
      "model_module_version": "1.0.0",
      "model_name": "HTMLModel",
      "state": {
       "layout": "IPY_MODEL_48a4c6e0a55241dbb5ef69cd97cdf200",
       "style": "IPY_MODEL_cc56de24fb9d41dc82ad46885a49d9dc",
       "value": "<img src=\"spider_attack.png\" id=\"snapshot_id_45_1535829902079\"/>\n <div id=\"snapshot_id_46_1535829902079\">spider_attack.png</div>"
      }
     },
     "ba932b0a681c4a9484622b44cdeb1195": {
      "model_module": "@jupyter-widgets/controls",
      "model_module_version": "1.0.0",
      "model_name": "HTMLModel",
      "state": {
       "layout": "IPY_MODEL_df6634003d8443cebcb9619bbafa862f",
       "style": "IPY_MODEL_65af98f3036049d28c4a23035e29829a",
       "value": "<img src=\"Image0.png\" id=\"snapshot_id_29_1535827545160\"/>\n <div id=\"snapshot_id_30_1535827545160\">Image0.png</div>"
      }
     },
     "baa5c0dde49344889021b77c6d25cfe0": {
      "model_module": "@jupyter-widgets/base",
      "model_module_version": "1.0.0",
      "model_name": "LayoutModel",
      "state": {}
     },
     "bc12f3e95c7b436f8d20a32076baf806": {
      "model_module": "jp_proxy_widget",
      "model_module_version": "^0.3.4",
      "model_name": "JSProxyModel",
      "state": {
       "_model_module_version": "^0.3.4",
       "_send_counter": 2,
       "_view_module_version": "^0.3.4",
       "error_msg": "No error",
       "layout": "IPY_MODEL_74b09275fa8e48649bffbb3e991941d2",
       "rendered": true,
       "status": "Got results."
      }
     },
     "bc20a0b8aa0340c496b44217c4c7f4a7": {
      "model_module": "@jupyter-widgets/base",
      "model_module_version": "1.0.0",
      "model_name": "LayoutModel",
      "state": {}
     },
     "bc5e2d0e280f4d9f9c7b027a2532324a": {
      "model_module": "@jupyter-widgets/controls",
      "model_module_version": "1.0.0",
      "model_name": "VBoxModel",
      "state": {
       "children": [
        "IPY_MODEL_f186283f69c9439b807a6ac7902fef4b",
        "IPY_MODEL_c5f7bf10e55f425ea980672282edfa99"
       ],
       "layout": "IPY_MODEL_b563c61ece7547828ba9f64593e7bc40"
      }
     },
     "bd64e8969360400ea34641ac2dfca08c": {
      "model_module": "@jupyter-widgets/base",
      "model_module_version": "1.0.0",
      "model_name": "LayoutModel",
      "state": {}
     },
     "be0735012d95466cb0fb4647de700e8a": {
      "model_module": "jp_proxy_widget",
      "model_module_version": "^0.3.4",
      "model_name": "JSProxyModel",
      "state": {
       "_model_module_version": "^0.3.4",
       "_send_counter": 2,
       "_view_module_version": "^0.3.4",
       "error_msg": "No error",
       "layout": "IPY_MODEL_e3d45b52090140f1be6a12244ac9c303",
       "rendered": true,
       "status": "Got results."
      }
     },
     "be13278b117e4065a07149ee970aa6b8": {
      "model_module": "@jupyter-widgets/controls",
      "model_module_version": "1.0.0",
      "model_name": "DescriptionStyleModel",
      "state": {
       "description_width": ""
      }
     },
     "be3a68308f9048ca91abb04949e0fdd0": {
      "model_module": "@jupyter-widgets/base",
      "model_module_version": "1.0.0",
      "model_name": "LayoutModel",
      "state": {}
     },
     "be8f8db3856f47858c22d1fb644eee9b": {
      "model_module": "@jupyter-widgets/base",
      "model_module_version": "1.0.0",
      "model_name": "LayoutModel",
      "state": {}
     },
     "c086920143ac4caaadd6274f29b88421": {
      "model_module": "@jupyter-widgets/controls",
      "model_module_version": "1.0.0",
      "model_name": "VBoxModel",
      "state": {
       "children": [
        "IPY_MODEL_6bcf67459aee4a7da4c77b33d3a49534",
        "IPY_MODEL_12a24431351846f8bf4c2d75d1cfce31"
       ],
       "layout": "IPY_MODEL_4ca23b207c11477da9017dab14fa69b9"
      }
     },
     "c0a0b82f6bff451c876833a768d394ed": {
      "model_module": "jp_proxy_widget",
      "model_module_version": "^0.3.4",
      "model_name": "JSProxyModel",
      "state": {
       "_model_module_version": "^0.3.4",
       "_send_counter": 2,
       "_view_module_version": "^0.3.4",
       "error_msg": "No error",
       "layout": "IPY_MODEL_a9cc810ecb33461bb48b6e6d5f43fa66",
       "rendered": true,
       "status": "Got results."
      }
     },
     "c25253b67572458e830adec886d7ed73": {
      "model_module": "@jupyter-widgets/base",
      "model_module_version": "1.0.0",
      "model_name": "LayoutModel",
      "state": {}
     },
     "c27ef533d0b44a0fae9bc84e6227a536": {
      "model_module": "@jupyter-widgets/controls",
      "model_module_version": "1.0.0",
      "model_name": "HTMLModel",
      "state": {
       "layout": "IPY_MODEL_5cc6cce632e0490f98d0630eb920670d",
       "style": "IPY_MODEL_635ffb7c12f044809d9ffdf4f51e2a56",
       "value": "<img src=\"Image0.png\" id=\"snapshot_id_3_1535826944172\"/>\n <div id=\"snapshot_id_4_1535826944172\">Image0.png</div>"
      }
     },
     "c2d6df4c514e4722b9c11bd27de3ec67": {
      "model_module": "@jupyter-widgets/base",
      "model_module_version": "1.0.0",
      "model_name": "LayoutModel",
      "state": {}
     },
     "c337256080774256b39b4dc9f49a80a8": {
      "model_module": "@jupyter-widgets/controls",
      "model_module_version": "1.0.0",
      "model_name": "TabModel",
      "state": {
       "_titles": {
        "0": "Canvas",
        "1": "Snapshot"
       },
       "children": [
        "IPY_MODEL_fc4e8bde9fef4b3c90abd6c343442e6f",
        "IPY_MODEL_c27ef533d0b44a0fae9bc84e6227a536"
       ],
       "layout": "IPY_MODEL_7c91459ec4a24d1cbe1c96bb1a55c4bc"
      }
     },
     "c391366f6e804a068574712d1386d2c9": {
      "model_module": "@jupyter-widgets/controls",
      "model_module_version": "1.0.0",
      "model_name": "TabModel",
      "state": {
       "_titles": {
        "0": "Canvas",
        "1": "Snapshot"
       },
       "children": [
        "IPY_MODEL_26ba9df4cc564882a87779decb5f6517",
        "IPY_MODEL_0855790805224a32a276d57b85a278e5"
       ],
       "layout": "IPY_MODEL_ade7df6d03424bfd8bd354713441cd6d"
      }
     },
     "c3ef8297442e438f871741261698ddb9": {
      "model_module": "@jupyter-widgets/controls",
      "model_module_version": "1.0.0",
      "model_name": "HTMLModel",
      "state": {
       "layout": "IPY_MODEL_d081489e997d48a18620760ccfbd1f91",
       "style": "IPY_MODEL_b44817eb11024aaaa7ba372addf401b9",
       "value": "<img src=\"spider_attack.png\" id=\"snapshot_id_19_1535831779918\"/>\n <div id=\"snapshot_id_20_1535831779918\">spider_attack.png</div>"
      }
     },
     "c441526e9f074741954a5d6b8a47053e": {
      "model_module": "@jupyter-widgets/controls",
      "model_module_version": "1.0.0",
      "model_name": "HTMLModel",
      "state": {
       "layout": "IPY_MODEL_579ab397c95c4d3e8a660e99d19da636",
       "style": "IPY_MODEL_60ba5a762bd1492593c4f142b5a486da",
       "value": "<img src=\"spider_attack.png\" id=\"snapshot_id_7_1535830495468\"/>\n <div id=\"snapshot_id_8_1535830495468\">spider_attack.png</div>"
      }
     },
     "c47ecab673e34b4093e579f87c77c473": {
      "model_module": "jp_proxy_widget",
      "model_module_version": "^0.3.4",
      "model_name": "JSProxyModel",
      "state": {
       "_model_module_version": "^0.3.4",
       "_send_counter": 8,
       "_view_module_version": "^0.3.4",
       "error_msg": "No error",
       "layout": "IPY_MODEL_4c165ada53804652986e3d0245ac7604",
       "rendered": true,
       "status": "Got results."
      }
     },
     "c4ac3501719a406192737cffc7f93bed": {
      "model_module": "@jupyter-widgets/base",
      "model_module_version": "1.0.0",
      "model_name": "LayoutModel",
      "state": {}
     },
     "c4d979db77dc47c086892b99cb9ce14a": {
      "model_module": "@jupyter-widgets/base",
      "model_module_version": "1.0.0",
      "model_name": "LayoutModel",
      "state": {}
     },
     "c574a13847b24e56bf1fc906a0874841": {
      "model_module": "@jupyter-widgets/base",
      "model_module_version": "1.0.0",
      "model_name": "LayoutModel",
      "state": {}
     },
     "c58c2953493a47bda9a7aa5808de9a61": {
      "model_module": "@jupyter-widgets/controls",
      "model_module_version": "1.0.0",
      "model_name": "VBoxModel",
      "state": {
       "children": [
        "IPY_MODEL_e18bcd0a080b4d3ea4f7d464c6a85650",
        "IPY_MODEL_ffdc9bed366f439882ae16576de70a4e"
       ],
       "layout": "IPY_MODEL_eefde579a6ee4a318da0dd378fb77eb7"
      }
     },
     "c5a59f1fd8ea41b2b9574a910480c71a": {
      "model_module": "@jupyter-widgets/base",
      "model_module_version": "1.0.0",
      "model_name": "LayoutModel",
      "state": {}
     },
     "c5f7bf10e55f425ea980672282edfa99": {
      "model_module": "jp_proxy_widget",
      "model_module_version": "^0.3.4",
      "model_name": "JSProxyModel",
      "state": {
       "_model_module_version": "^0.3.4",
       "_send_counter": 2,
       "_view_module_version": "^0.3.4",
       "error_msg": "No error",
       "layout": "IPY_MODEL_16f653abc7dd4a0cae30321d48676cb2",
       "rendered": true,
       "status": "Got results."
      }
     },
     "c68a173bec3e4c1f9476178c64e4644a": {
      "model_module": "@jupyter-widgets/base",
      "model_module_version": "1.0.0",
      "model_name": "LayoutModel",
      "state": {}
     },
     "c6a794b6860e4a5c92692b97bed27fbc": {
      "model_module": "@jupyter-widgets/base",
      "model_module_version": "1.0.0",
      "model_name": "LayoutModel",
      "state": {}
     },
     "c6c8bd82be6342999e6d70dc763da86b": {
      "model_module": "@jupyter-widgets/base",
      "model_module_version": "1.0.0",
      "model_name": "LayoutModel",
      "state": {}
     },
     "c71d2cce9ec04f36a607857369d40fe4": {
      "model_module": "@jupyter-widgets/base",
      "model_module_version": "1.0.0",
      "model_name": "LayoutModel",
      "state": {}
     },
     "c73824cd8e1f4602addaeb9c77052831": {
      "model_module": "@jupyter-widgets/controls",
      "model_module_version": "1.0.0",
      "model_name": "HTMLModel",
      "state": {
       "layout": "IPY_MODEL_cf58750d3f7249e6833bfe6cfebafa08",
       "style": "IPY_MODEL_9cc2ce4ef20c4d72b4d63439976cc977",
       "value": "<img src=\"spider_attack.png\" id=\"snapshot_id_29_1535832419010\"/>\n <div id=\"snapshot_id_30_1535832419010\">spider_attack.png</div>"
      }
     },
     "c747a488202d431aa16ff4c915f7e08e": {
      "model_module": "@jupyter-widgets/controls",
      "model_module_version": "1.0.0",
      "model_name": "TabModel",
      "state": {
       "_titles": {
        "0": "Canvas",
        "1": "Snapshot"
       },
       "children": [
        "IPY_MODEL_07961a2c5115424e83acc88363674481",
        "IPY_MODEL_e90b230313e241218c41e7cacb018cab"
       ],
       "layout": "IPY_MODEL_066a5d4212364b39a1ffca5fbe47c141",
       "selected_index": 1
      }
     },
     "c7763521b30648eea54e60e9554b16f0": {
      "model_module": "@jupyter-widgets/base",
      "model_module_version": "1.0.0",
      "model_name": "LayoutModel",
      "state": {}
     },
     "c7ee8740014d44d395bbe724d8550e10": {
      "model_module": "jp_proxy_widget",
      "model_module_version": "^0.3.4",
      "model_name": "JSProxyModel",
      "state": {
       "_model_module_version": "^0.3.4",
       "_send_counter": 8,
       "_view_module_version": "^0.3.4",
       "error_msg": "Error: Error in element.New SyntaxError: missing ) after argument list",
       "layout": "IPY_MODEL_c6a794b6860e4a5c92692b97bed27fbc",
       "rendered": true,
       "status": "Rendered."
      }
     },
     "c8e66c95d3f6472d86c7c8076297d823": {
      "model_module": "@jupyter-widgets/base",
      "model_module_version": "1.0.0",
      "model_name": "LayoutModel",
      "state": {}
     },
     "c90ae0512f4443eba7296a18b28b491d": {
      "model_module": "@jupyter-widgets/controls",
      "model_module_version": "1.0.0",
      "model_name": "HTMLModel",
      "state": {
       "layout": "IPY_MODEL_692012218198457998d2f6d6ebf74027",
       "style": "IPY_MODEL_9cfe7541fe974aed8586a6f074aacb6a",
       "value": "<img src=\"spider_attack.png\" id=\"snapshot_id_9_1535830562175\"/>\n <div id=\"snapshot_id_10_1535830562175\">spider_attack.png</div>"
      }
     },
     "c97c268b6b9742ee8a612515999a223d": {
      "model_module": "@jupyter-widgets/base",
      "model_module_version": "1.0.0",
      "model_name": "LayoutModel",
      "state": {}
     },
     "ca13004569e94a85a79d288efc183057": {
      "model_module": "@jupyter-widgets/base",
      "model_module_version": "1.0.0",
      "model_name": "LayoutModel",
      "state": {}
     },
     "ca538f1edf2c42329876f819445c5383": {
      "model_module": "@jupyter-widgets/base",
      "model_module_version": "1.0.0",
      "model_name": "LayoutModel",
      "state": {}
     },
     "ca5ae35a0a1f4b61ba046f85b340371b": {
      "model_module": "@jupyter-widgets/controls",
      "model_module_version": "1.0.0",
      "model_name": "DescriptionStyleModel",
      "state": {
       "description_width": ""
      }
     },
     "ca87e7d8b6c74db7abc3cdbd3370fc05": {
      "model_module": "jp_proxy_widget",
      "model_module_version": "^0.3.4",
      "model_name": "JSProxyModel",
      "state": {
       "_model_module_version": "^0.3.4",
       "_send_counter": 8,
       "_view_module_version": "^0.3.4",
       "error_msg": "No error",
       "layout": "IPY_MODEL_78b4e2cc6491497097656a550b36d585",
       "rendered": true,
       "status": "Got results."
      }
     },
     "ca9646a9f4a7401baed6a7e1900dfa72": {
      "model_module": "@jupyter-widgets/base",
      "model_module_version": "1.0.0",
      "model_name": "LayoutModel",
      "state": {}
     },
     "cabe1f2549b244558bf93bd0d03bf59d": {
      "model_module": "@jupyter-widgets/base",
      "model_module_version": "1.0.0",
      "model_name": "LayoutModel",
      "state": {}
     },
     "cc38bfe719cb459c83e4059f6cd44f66": {
      "model_module": "@jupyter-widgets/base",
      "model_module_version": "1.0.0",
      "model_name": "LayoutModel",
      "state": {}
     },
     "cc3a4a2e43d6468b9d2ab7e373359cee": {
      "model_module": "@jupyter-widgets/controls",
      "model_module_version": "1.0.0",
      "model_name": "DescriptionStyleModel",
      "state": {
       "description_width": ""
      }
     },
     "cc56de24fb9d41dc82ad46885a49d9dc": {
      "model_module": "@jupyter-widgets/controls",
      "model_module_version": "1.0.0",
      "model_name": "DescriptionStyleModel",
      "state": {
       "description_width": ""
      }
     },
     "ccaaee74f81f4cb0a81c9a44b5971d82": {
      "model_module": "@jupyter-widgets/controls",
      "model_module_version": "1.0.0",
      "model_name": "VBoxModel",
      "state": {
       "children": [
        "IPY_MODEL_74aaf1fab7f94a53801d3f3c6521cfc4",
        "IPY_MODEL_51f0341f0c674231b80ca9ea2b0e35a5"
       ],
       "layout": "IPY_MODEL_5a91b3f3213343af88208a8bcbe59608"
      }
     },
     "cceb9f7acc7546c8a7ccd0aa6b4e8d0b": {
      "model_module": "@jupyter-widgets/controls",
      "model_module_version": "1.0.0",
      "model_name": "TabModel",
      "state": {
       "_titles": {
        "0": "Canvas",
        "1": "Snapshot"
       },
       "children": [
        "IPY_MODEL_d77e287bea564d8694828bcb17615569",
        "IPY_MODEL_17963da9848045628e07f153f3d46595"
       ],
       "layout": "IPY_MODEL_d6cf373e8d084e9fa0228c70c886a2c7"
      }
     },
     "cd243287ae144a299a4753aa69732edb": {
      "model_module": "@jupyter-widgets/controls",
      "model_module_version": "1.0.0",
      "model_name": "DescriptionStyleModel",
      "state": {
       "description_width": ""
      }
     },
     "cdd7f96f1ee04a3bac7b3cd3d20c5ac0": {
      "model_module": "jp_proxy_widget",
      "model_module_version": "^0.3.4",
      "model_name": "JSProxyModel",
      "state": {
       "_model_module_version": "^0.3.4",
       "_send_counter": 8,
       "_view_module_version": "^0.3.4",
       "error_msg": "Error: No image loaded with name: tulsa",
       "layout": "IPY_MODEL_f25eb5bd253e4fb0b82c571164e7baef",
       "rendered": true,
       "status": "Rendered."
      }
     },
     "cea9e2f256b34c35b61ce6e142e87f39": {
      "model_module": "@jupyter-widgets/base",
      "model_module_version": "1.0.0",
      "model_name": "LayoutModel",
      "state": {}
     },
     "cf58750d3f7249e6833bfe6cfebafa08": {
      "model_module": "@jupyter-widgets/base",
      "model_module_version": "1.0.0",
      "model_name": "LayoutModel",
      "state": {}
     },
     "cfa279192765414a814627121de99426": {
      "model_module": "@jupyter-widgets/base",
      "model_module_version": "1.0.0",
      "model_name": "LayoutModel",
      "state": {}
     },
     "cfeb4884cfc94d06beb41edeb6efe22e": {
      "model_module": "jp_proxy_widget",
      "model_module_version": "^0.3.4",
      "model_name": "JSProxyModel",
      "state": {
       "_model_module_version": "^0.3.4",
       "_send_counter": 2,
       "_view_module_version": "^0.3.4",
       "error_msg": "No error",
       "layout": "IPY_MODEL_10b3c818efed42d3a3be853dcd8c9b0b",
       "rendered": true,
       "status": "Got results."
      }
     },
     "d02a0543071842ac90a2a7cda34e1669": {
      "model_module": "@jupyter-widgets/controls",
      "model_module_version": "1.0.0",
      "model_name": "HTMLModel",
      "state": {
       "layout": "IPY_MODEL_14c8a862bde0455ea57c367572b3d4be",
       "style": "IPY_MODEL_8f071e1125b04b2dba77b71a57354702",
       "value": "<img src=\"rotated_spider.png\" id=\"snapshot_id_34_1535827735296\"/>\n <div id=\"snapshot_id_35_1535827735296\">rotated_spider.png</div>"
      }
     },
     "d044c1ebeff84621ad4b2ea6f34c9966": {
      "model_module": "@jupyter-widgets/controls",
      "model_module_version": "1.0.0",
      "model_name": "HTMLModel",
      "state": {
       "layout": "IPY_MODEL_493a8561f4b94d3eb3a73a60affdf0cd",
       "style": "IPY_MODEL_cd243287ae144a299a4753aa69732edb",
       "value": "<img src=\"Image0.png\" id=\"snapshot_id_1_1535826921895\"/>\n <div id=\"snapshot_id_2_1535826921895\">Image0.png</div>"
      }
     },
     "d081489e997d48a18620760ccfbd1f91": {
      "model_module": "@jupyter-widgets/base",
      "model_module_version": "1.0.0",
      "model_name": "LayoutModel",
      "state": {}
     },
     "d0eebea56ead4069a400841781458074": {
      "model_module": "jp_proxy_widget",
      "model_module_version": "^0.3.4",
      "model_name": "JSProxyModel",
      "state": {
       "_model_module_version": "^0.3.4",
       "_send_counter": 8,
       "_view_module_version": "^0.3.4",
       "error_msg": "No error",
       "layout": "IPY_MODEL_c2d6df4c514e4722b9c11bd27de3ec67",
       "rendered": true,
       "status": "Got results."
      }
     },
     "d19660e629b547a9bc9b15df04d87f29": {
      "model_module": "@jupyter-widgets/controls",
      "model_module_version": "1.0.0",
      "model_name": "HTMLModel",
      "state": {
       "layout": "IPY_MODEL_d6d0488760c94c4aa78b02969120961b",
       "style": "IPY_MODEL_1c2acca2f54a4f97a26255ad6371b161",
       "value": "<img src=\"spider_attack.png\" id=\"snapshot_id_31_1535832440511\"/>\n <div id=\"snapshot_id_32_1535832440511\">spider_attack.png</div>"
      }
     },
     "d1a0a5ec3c2148efad3d2c099d66ec36": {
      "model_module": "@jupyter-widgets/controls",
      "model_module_version": "1.0.0",
      "model_name": "TabModel",
      "state": {
       "_titles": {
        "0": "Canvas",
        "1": "Snapshot"
       },
       "children": [
        "IPY_MODEL_1229c88df97e4f9cbced7f26fd8a9281",
        "IPY_MODEL_c73824cd8e1f4602addaeb9c77052831"
       ],
       "layout": "IPY_MODEL_3ac4278bf1ed45c69fb5c5f1ff933dd1"
      }
     },
     "d239e1cb224a468692fdebc983ccf8c5": {
      "model_module": "@jupyter-widgets/base",
      "model_module_version": "1.0.0",
      "model_name": "LayoutModel",
      "state": {}
     },
     "d264f59dcfce46b79f459bd932ecf7c8": {
      "model_module": "@jupyter-widgets/controls",
      "model_module_version": "1.0.0",
      "model_name": "VBoxModel",
      "state": {
       "children": [
        "IPY_MODEL_6069bf9cb1f3452aad32e985b97dafc0",
        "IPY_MODEL_0bc27f8f4826459bb33bf67c28453367"
       ],
       "layout": "IPY_MODEL_a690d024ed424475b28782f9bbeaed9d"
      }
     },
     "d29a598923944dd185513a9b738deebe": {
      "model_module": "@jupyter-widgets/base",
      "model_module_version": "1.0.0",
      "model_name": "LayoutModel",
      "state": {}
     },
     "d2f99fad3d4c4d0aa0104de327cfd4ff": {
      "model_module": "@jupyter-widgets/base",
      "model_module_version": "1.0.0",
      "model_name": "LayoutModel",
      "state": {}
     },
     "d357e49a167f481b82fabba9e02953b8": {
      "model_module": "@jupyter-widgets/controls",
      "model_module_version": "1.0.0",
      "model_name": "TabModel",
      "state": {
       "_titles": {
        "0": "Canvas",
        "1": "Snapshot"
       },
       "children": [
        "IPY_MODEL_4663df51e22a47998fd439130b7d0f80",
        "IPY_MODEL_55b5898429e74757a6925eb2e68c022f"
       ],
       "layout": "IPY_MODEL_b43a0281622d4692bb355e3c94c2435b"
      }
     },
     "d36f47a95839437b9dbd18c92826a5e1": {
      "model_module": "@jupyter-widgets/base",
      "model_module_version": "1.0.0",
      "model_name": "LayoutModel",
      "state": {}
     },
     "d401ff3750014f6db12b4a5e5e9fbf41": {
      "model_module": "jp_proxy_widget",
      "model_module_version": "^0.3.4",
      "model_name": "JSProxyModel",
      "state": {
       "_model_module_version": "^0.3.4",
       "_send_counter": 8,
       "_view_module_version": "^0.3.4",
       "error_msg": "No error",
       "layout": "IPY_MODEL_2e7056420c104ee793ba46958d48a3ea",
       "rendered": true,
       "status": "Got results."
      }
     },
     "d4337e5802694749bf5602c2f7f24b10": {
      "model_module": "@jupyter-widgets/controls",
      "model_module_version": "1.0.0",
      "model_name": "HTMLModel",
      "state": {
       "layout": "IPY_MODEL_4cbaf9b21a6f453f994901be99cd7b47",
       "style": "IPY_MODEL_4c2a9e5d1c88428db865cf0bbe9ae8cc",
       "value": "<img src=\"spider_attack.png\" id=\"snapshot_id_3_1535830370665\"/>\n <div id=\"snapshot_id_4_1535830370665\">spider_attack.png</div>"
      }
     },
     "d6cf373e8d084e9fa0228c70c886a2c7": {
      "model_module": "@jupyter-widgets/base",
      "model_module_version": "1.0.0",
      "model_name": "LayoutModel",
      "state": {}
     },
     "d6d0488760c94c4aa78b02969120961b": {
      "model_module": "@jupyter-widgets/base",
      "model_module_version": "1.0.0",
      "model_name": "LayoutModel",
      "state": {}
     },
     "d73eba0498d9440486608fe3224b08e9": {
      "model_module": "@jupyter-widgets/base",
      "model_module_version": "1.0.0",
      "model_name": "LayoutModel",
      "state": {}
     },
     "d77e287bea564d8694828bcb17615569": {
      "model_module": "@jupyter-widgets/controls",
      "model_module_version": "1.0.0",
      "model_name": "VBoxModel",
      "state": {
       "children": [
        "IPY_MODEL_52f688842b994ac2a19d53f1a4ff8a7f",
        "IPY_MODEL_fb74006717134adbb006fd915fbbff0c"
       ],
       "layout": "IPY_MODEL_49b9c131214041b49b8e3cbc971e76fb"
      }
     },
     "d7a173e93fec45bfb4efafc80c6fa2b1": {
      "model_module": "@jupyter-widgets/base",
      "model_module_version": "1.0.0",
      "model_name": "LayoutModel",
      "state": {}
     },
     "d7c1e2ccc30444a6bce761fe6cb0794a": {
      "model_module": "@jupyter-widgets/base",
      "model_module_version": "1.0.0",
      "model_name": "LayoutModel",
      "state": {}
     },
     "d823ec9bab6440c0bada3cb312b44069": {
      "model_module": "@jupyter-widgets/base",
      "model_module_version": "1.0.0",
      "model_name": "LayoutModel",
      "state": {}
     },
     "d8d725b5c4094b15afd85ed3b0f79ff0": {
      "model_module": "@jupyter-widgets/controls",
      "model_module_version": "1.0.0",
      "model_name": "HTMLModel",
      "state": {
       "layout": "IPY_MODEL_fa5f2037d8a147cda9bcd5716ad16770",
       "style": "IPY_MODEL_75dd1d5103754d88a5d063b02ccb6659",
       "value": "<img src=\"spider_attack.png\" id=\"snapshot_id_39_1535828172439\"/>\n <div id=\"snapshot_id_40_1535828172439\">spider_attack.png</div>"
      }
     },
     "d8e8964cba2d456d82fac014a383600e": {
      "model_module": "@jupyter-widgets/controls",
      "model_module_version": "1.0.0",
      "model_name": "DescriptionStyleModel",
      "state": {
       "description_width": ""
      }
     },
     "d9eed9d381ee4565a514785db3158e6e": {
      "model_module": "@jupyter-widgets/controls",
      "model_module_version": "1.0.0",
      "model_name": "TabModel",
      "state": {
       "_titles": {
        "0": "Canvas",
        "1": "Snapshot"
       },
       "children": [
        "IPY_MODEL_751f4f3295c64f3196574c3b78ced3c7",
        "IPY_MODEL_d044c1ebeff84621ad4b2ea6f34c9966"
       ],
       "layout": "IPY_MODEL_2a891df0f5de4c2e88a77ab75b0102d5"
      }
     },
     "da4f7fac5e4c49f98b7179e5c7e24af9": {
      "model_module": "jp_proxy_widget",
      "model_module_version": "^0.3.4",
      "model_name": "JSProxyModel",
      "state": {
       "_model_module_version": "^0.3.4",
       "_send_counter": 2,
       "_view_module_version": "^0.3.4",
       "error_msg": "No error",
       "layout": "IPY_MODEL_cc38bfe719cb459c83e4059f6cd44f66",
       "rendered": true,
       "status": "call back to <function callback_function at 0x114b356e0>"
      }
     },
     "da812904115a49b69e82cfb3e8243653": {
      "model_module": "@jupyter-widgets/base",
      "model_module_version": "1.0.0",
      "model_name": "LayoutModel",
      "state": {}
     },
     "daa142605cc54ec3afb48a1b36b43c2a": {
      "model_module": "@jupyter-widgets/base",
      "model_module_version": "1.0.0",
      "model_name": "LayoutModel",
      "state": {}
     },
     "db03c9eede074a619fa2a4cfa3a1bde8": {
      "model_module": "@jupyter-widgets/controls",
      "model_module_version": "1.0.0",
      "model_name": "DescriptionStyleModel",
      "state": {
       "description_width": ""
      }
     },
     "dbc8537455c144b890709c3156e1bfbe": {
      "model_module": "@jupyter-widgets/base",
      "model_module_version": "1.0.0",
      "model_name": "LayoutModel",
      "state": {}
     },
     "dbd0492f5836441f9ff7b9c54f345521": {
      "model_module": "@jupyter-widgets/base",
      "model_module_version": "1.0.0",
      "model_name": "LayoutModel",
      "state": {}
     },
     "dc710d0cd45146acaad7b6268015a79d": {
      "model_module": "@jupyter-widgets/controls",
      "model_module_version": "1.0.0",
      "model_name": "HTMLModel",
      "state": {
       "layout": "IPY_MODEL_ea56059d0a4349149b40d2cf0fcb89b2",
       "style": "IPY_MODEL_7985e4069bc94b07ab85102c7287dfea",
       "value": "<img src=\"Image0.png\" id=\"snapshot_id_17_1535827247557\"/>\n <div id=\"snapshot_id_18_1535827247557\">Image0.png</div>"
      }
     },
     "dc95bea1c0fe4762988eccceeba37bca": {
      "model_module": "@jupyter-widgets/controls",
      "model_module_version": "1.0.0",
      "model_name": "HTMLModel",
      "state": {
       "layout": "IPY_MODEL_b74187c4ce324d47a0b9a9025c5efd23",
       "style": "IPY_MODEL_8f86577aa2a345538681bc4e0192d7e5",
       "value": "<img src=\"spider_attack.png\" id=\"snapshot_id_37_1535832623376\"/>\n <div id=\"snapshot_id_38_1535832623376\">spider_attack.png</div>"
      }
     },
     "dd143f207c804a16867cd1a00079dda5": {
      "model_module": "@jupyter-widgets/base",
      "model_module_version": "1.0.0",
      "model_name": "LayoutModel",
      "state": {}
     },
     "dd6204c879f0498688f5f3da7893c69a": {
      "model_module": "@jupyter-widgets/base",
      "model_module_version": "1.0.0",
      "model_name": "LayoutModel",
      "state": {}
     },
     "dea0c878ec764346800263180fa098e0": {
      "model_module": "@jupyter-widgets/controls",
      "model_module_version": "1.0.0",
      "model_name": "TabModel",
      "state": {
       "_titles": {
        "0": "Canvas",
        "1": "Snapshot"
       },
       "children": [
        "IPY_MODEL_1ae5124539454c4fbb5d4d65826a9a74",
        "IPY_MODEL_b892581027eb4befa0c46d294d0b4aa4"
       ],
       "layout": "IPY_MODEL_5ade542c3b50457a94f438b4f670d0d9"
      }
     },
     "defe970a5e5c4fbfa4a53c5ffa43bfb1": {
      "model_module": "@jupyter-widgets/base",
      "model_module_version": "1.0.0",
      "model_name": "LayoutModel",
      "state": {}
     },
     "df6634003d8443cebcb9619bbafa862f": {
      "model_module": "@jupyter-widgets/base",
      "model_module_version": "1.0.0",
      "model_name": "LayoutModel",
      "state": {}
     },
     "df936c151eac4f9c93219a6305840c28": {
      "model_module": "@jupyter-widgets/controls",
      "model_module_version": "1.0.0",
      "model_name": "TabModel",
      "state": {
       "_titles": {
        "0": "Canvas",
        "1": "Snapshot"
       },
       "children": [
        "IPY_MODEL_2bc5471c9e8840a7a1662a364b5ddcfd",
        "IPY_MODEL_23314afcc56d47aea5913d8c92d4bd85"
       ],
       "layout": "IPY_MODEL_4b833927f1394465bd179cc33d14c72a"
      }
     },
     "e01e5c9b307346adb3ff94753a924430": {
      "model_module": "jp_proxy_widget",
      "model_module_version": "^0.3.4",
      "model_name": "JSProxyModel",
      "state": {
       "_model_module_version": "^0.3.4",
       "_send_counter": 2,
       "_view_module_version": "^0.3.4",
       "error_msg": "No error",
       "layout": "IPY_MODEL_f07f10a49e6042ec829a62672879815f",
       "rendered": true,
       "status": "Got results."
      }
     },
     "e09f8847b1cf4209964025602b667511": {
      "model_module": "@jupyter-widgets/base",
      "model_module_version": "1.0.0",
      "model_name": "LayoutModel",
      "state": {}
     },
     "e18bcd0a080b4d3ea4f7d464c6a85650": {
      "model_module": "jp_proxy_widget",
      "model_module_version": "^0.3.4",
      "model_name": "JSProxyModel",
      "state": {
       "_model_module_version": "^0.3.4",
       "_send_counter": 8,
       "_view_module_version": "^0.3.4",
       "error_msg": "No error",
       "layout": "IPY_MODEL_a2202b72f2ea493d9b11a19668de9548",
       "rendered": true,
       "status": "Got results."
      }
     },
     "e2813cc53d664471979a3bc4cd7d5f3b": {
      "model_module": "@jupyter-widgets/base",
      "model_module_version": "1.0.0",
      "model_name": "LayoutModel",
      "state": {}
     },
     "e33174ef94204c948f67759cdc80e3f9": {
      "model_module": "jp_proxy_widget",
      "model_module_version": "^0.3.4",
      "model_name": "JSProxyModel",
      "state": {
       "_model_module_version": "^0.3.4",
       "_send_counter": 15,
       "_view_module_version": "^0.3.4",
       "error_msg": "No error",
       "layout": "IPY_MODEL_2fd0ce4c33694eddba27afdc8df9976b",
       "rendered": true,
       "status": "Got results."
      }
     },
     "e367d438522d4afda61dab534f5cd9a2": {
      "model_module": "@jupyter-widgets/base",
      "model_module_version": "1.0.0",
      "model_name": "LayoutModel",
      "state": {}
     },
     "e3d45b52090140f1be6a12244ac9c303": {
      "model_module": "@jupyter-widgets/base",
      "model_module_version": "1.0.0",
      "model_name": "LayoutModel",
      "state": {}
     },
     "e451badc5e7e4270b233590e2759076d": {
      "model_module": "@jupyter-widgets/base",
      "model_module_version": "1.0.0",
      "model_name": "LayoutModel",
      "state": {}
     },
     "e554544cc9a04ab0a3e06dd90f0db9de": {
      "model_module": "@jupyter-widgets/controls",
      "model_module_version": "1.0.0",
      "model_name": "VBoxModel",
      "state": {
       "children": [
        "IPY_MODEL_ca87e7d8b6c74db7abc3cdbd3370fc05",
        "IPY_MODEL_95b2ee0c78e240dd96c6d3ca14e3241d"
       ],
       "layout": "IPY_MODEL_91837394178a4cbab20922a8a8c8e616"
      }
     },
     "e584190e4d624756adb0bce223d3ce22": {
      "model_module": "jp_proxy_widget",
      "model_module_version": "^0.3.4",
      "model_name": "JSProxyModel",
      "state": {
       "_model_module_version": "^0.3.4",
       "_send_counter": 8,
       "_view_module_version": "^0.3.4",
       "error_msg": "No error",
       "layout": "IPY_MODEL_c25253b67572458e830adec886d7ed73",
       "rendered": true,
       "status": "Got results."
      }
     },
     "e5ca67c9b0ba4224abd9ef76f4f2ac39": {
      "model_module": "@jupyter-widgets/controls",
      "model_module_version": "1.0.0",
      "model_name": "VBoxModel",
      "state": {
       "children": [
        "IPY_MODEL_7ba6443b5930420cbddba9a302c58291",
        "IPY_MODEL_476d6e71396d49788f1a36ecda5e69d2"
       ],
       "layout": "IPY_MODEL_39dd24bd58534602a4efc4dc3ef590b2"
      }
     },
     "e5d8112301204617b850b9cc937f0c4d": {
      "model_module": "jp_proxy_widget",
      "model_module_version": "^0.3.4",
      "model_name": "JSProxyModel",
      "state": {
       "_model_module_version": "^0.3.4",
       "_send_counter": 2,
       "_view_module_version": "^0.3.4",
       "error_msg": "No error",
       "layout": "IPY_MODEL_ee976440e2074487aba439049571114b",
       "rendered": true,
       "status": "Got results."
      }
     },
     "e660671bc5a047dbb74020b372eb58b4": {
      "model_module": "@jupyter-widgets/controls",
      "model_module_version": "1.0.0",
      "model_name": "HTMLModel",
      "state": {
       "layout": "IPY_MODEL_12056953e25845439ab1f714309909b9",
       "style": "IPY_MODEL_aa734e2dd1334990a7f804250c922cae",
       "value": "<img src=\"Image0.png\" id=\"snapshot_id_21_1535827314800\"/>\n <div id=\"snapshot_id_22_1535827314800\">Image0.png</div>"
      }
     },
     "e7b7f54e40c54614a314b762568a24f2": {
      "model_module": "@jupyter-widgets/base",
      "model_module_version": "1.0.0",
      "model_name": "LayoutModel",
      "state": {}
     },
     "e8c0f1870eb446a18003e103ff976d30": {
      "model_module": "@jupyter-widgets/base",
      "model_module_version": "1.0.0",
      "model_name": "LayoutModel",
      "state": {}
     },
     "e90b230313e241218c41e7cacb018cab": {
      "model_module": "@jupyter-widgets/controls",
      "model_module_version": "1.0.0",
      "model_name": "HTMLModel",
      "state": {
       "layout": "IPY_MODEL_73a427e807bd494db97a33de3554b93a",
       "style": "IPY_MODEL_2f6389be752a49f49b217c149472cf61",
       "value": "<img src=\"Image0.png\" id=\"snapshot_id_31_1535827574794\"/>\n <div id=\"snapshot_id_32_1535827574794\">Image0.png</div>"
      }
     },
     "e9f4141cdafb40fba8cae5c255999eac": {
      "model_module": "jp_proxy_widget",
      "model_module_version": "^0.3.4",
      "model_name": "JSProxyModel",
      "state": {
       "_model_module_version": "^0.3.4",
       "_send_counter": 8,
       "_view_module_version": "^0.3.4",
       "error_msg": "Error: Error in element.New SyntaxError: Unexpected token )",
       "layout": "IPY_MODEL_9bdf8006187d46868d3cb8fc3402210f",
       "rendered": true,
       "status": "Rendered."
      }
     },
     "ea2e4b6430964fc9b8326a696076c74c": {
      "model_module": "@jupyter-widgets/base",
      "model_module_version": "1.0.0",
      "model_name": "LayoutModel",
      "state": {}
     },
     "ea56059d0a4349149b40d2cf0fcb89b2": {
      "model_module": "@jupyter-widgets/base",
      "model_module_version": "1.0.0",
      "model_name": "LayoutModel",
      "state": {}
     },
     "eb247be8ff124682a4e6d27b04b4663b": {
      "model_module": "jp_proxy_widget",
      "model_module_version": "^0.3.4",
      "model_name": "JSProxyModel",
      "state": {
       "_model_module_version": "^0.3.4",
       "_send_counter": 8,
       "_view_module_version": "^0.3.4",
       "error_msg": "Error: Error in element.New SyntaxError: Unexpected token )",
       "layout": "IPY_MODEL_fc2917f8994549a0a9e723f34cd7c15d",
       "rendered": true,
       "status": "Rendered."
      }
     },
     "eb8516a170bc4e829b86d2561451e02a": {
      "model_module": "@jupyter-widgets/base",
      "model_module_version": "1.0.0",
      "model_name": "LayoutModel",
      "state": {}
     },
     "ebe7b1bf68d946a5a5648c0db69278d3": {
      "model_module": "@jupyter-widgets/controls",
      "model_module_version": "1.0.0",
      "model_name": "VBoxModel",
      "state": {
       "children": [
        "IPY_MODEL_e33174ef94204c948f67759cdc80e3f9",
        "IPY_MODEL_79e7dd472fb7450597fe587e2d7231f9"
       ],
       "layout": "IPY_MODEL_1ae86ecae85840f595686ba1bef821ae"
      }
     },
     "ebfd24fc150a409383e0ff0ce622a40d": {
      "model_module": "@jupyter-widgets/controls",
      "model_module_version": "1.0.0",
      "model_name": "DescriptionStyleModel",
      "state": {
       "description_width": ""
      }
     },
     "edb5c8fa80f946b08d3e442c6602485d": {
      "model_module": "@jupyter-widgets/base",
      "model_module_version": "1.0.0",
      "model_name": "LayoutModel",
      "state": {}
     },
     "ee976440e2074487aba439049571114b": {
      "model_module": "@jupyter-widgets/base",
      "model_module_version": "1.0.0",
      "model_name": "LayoutModel",
      "state": {}
     },
     "eefde579a6ee4a318da0dd378fb77eb7": {
      "model_module": "@jupyter-widgets/base",
      "model_module_version": "1.0.0",
      "model_name": "LayoutModel",
      "state": {}
     },
     "f07f10a49e6042ec829a62672879815f": {
      "model_module": "@jupyter-widgets/base",
      "model_module_version": "1.0.0",
      "model_name": "LayoutModel",
      "state": {}
     },
     "f0b61395d66443c0b203a00e5559204c": {
      "model_module": "@jupyter-widgets/base",
      "model_module_version": "1.0.0",
      "model_name": "LayoutModel",
      "state": {}
     },
     "f10fc83f311747c4ba6eb46452479341": {
      "model_module": "@jupyter-widgets/controls",
      "model_module_version": "1.0.0",
      "model_name": "HTMLModel",
      "state": {
       "layout": "IPY_MODEL_095de1c8f59d4abbb7f8dd04ba97aa23",
       "style": "IPY_MODEL_ebfd24fc150a409383e0ff0ce622a40d",
       "value": "<img src=\"spider_attack.png\" id=\"snapshot_id_43_1535829860958\"/>\n <div id=\"snapshot_id_44_1535829860958\">spider_attack.png</div>"
      }
     },
     "f118e87d0ca94271871dd8e4e6c00562": {
      "model_module": "jp_proxy_widget",
      "model_module_version": "^0.3.4",
      "model_name": "JSProxyModel",
      "state": {
       "_model_module_version": "^0.3.4",
       "_send_counter": 2,
       "_view_module_version": "^0.3.4",
       "error_msg": "No error",
       "layout": "IPY_MODEL_783ee12d9ac44c1985ad6b5bae31adeb",
       "rendered": true,
       "status": "Got results."
      }
     },
     "f186283f69c9439b807a6ac7902fef4b": {
      "model_module": "jp_proxy_widget",
      "model_module_version": "^0.3.4",
      "model_name": "JSProxyModel",
      "state": {
       "_model_module_version": "^0.3.4",
       "_send_counter": 8,
       "_view_module_version": "^0.3.4",
       "error_msg": "No error",
       "layout": "IPY_MODEL_795627e93b464dc1b5ac4a485108975d",
       "rendered": true,
       "status": "Got results."
      }
     },
     "f1f13b395d234c4cb557170209b563bd": {
      "model_module": "@jupyter-widgets/base",
      "model_module_version": "1.0.0",
      "model_name": "LayoutModel",
      "state": {}
     },
     "f25eb5bd253e4fb0b82c571164e7baef": {
      "model_module": "@jupyter-widgets/base",
      "model_module_version": "1.0.0",
      "model_name": "LayoutModel",
      "state": {}
     },
     "f33ad3f972314028acd65453d1e72e03": {
      "model_module": "@jupyter-widgets/controls",
      "model_module_version": "1.0.0",
      "model_name": "DescriptionStyleModel",
      "state": {
       "description_width": ""
      }
     },
     "f3754bef40ed4bad83489cc7e030a5de": {
      "model_module": "@jupyter-widgets/base",
      "model_module_version": "1.0.0",
      "model_name": "LayoutModel",
      "state": {}
     },
     "f392f80120354341a28782dfe679f438": {
      "model_module": "jp_proxy_widget",
      "model_module_version": "^0.3.4",
      "model_name": "JSProxyModel",
      "state": {
       "_model_module_version": "^0.3.4",
       "_send_counter": 2,
       "_view_module_version": "^0.3.4",
       "error_msg": "No error",
       "layout": "IPY_MODEL_8e58b7f3104e48289553d0280e004af3",
       "rendered": true,
       "status": "Got results."
      }
     },
     "f3b613a497474ebf994f4f636df61972": {
      "model_module": "@jupyter-widgets/controls",
      "model_module_version": "1.0.0",
      "model_name": "VBoxModel",
      "state": {
       "children": [
        "IPY_MODEL_7c7c5e40aed04a8c82f751c6333b98ea",
        "IPY_MODEL_5103a0258b4947c8a28b20feb7671fec"
       ],
       "layout": "IPY_MODEL_8d6e42b4adf248419283917b03e9ce1f"
      }
     },
     "f41fdce4861f41ba820fe7feb6e2964a": {
      "model_module": "@jupyter-widgets/base",
      "model_module_version": "1.0.0",
      "model_name": "LayoutModel",
      "state": {}
     },
     "f4ce0289643045f196cf5b36c9578a4c": {
      "model_module": "@jupyter-widgets/base",
      "model_module_version": "1.0.0",
      "model_name": "LayoutModel",
      "state": {}
     },
     "f4fa91575a06407788c9294f08539aa5": {
      "model_module": "@jupyter-widgets/controls",
      "model_module_version": "1.0.0",
      "model_name": "TabModel",
      "state": {
       "_titles": {
        "0": "Canvas",
        "1": "Snapshot"
       },
       "children": [
        "IPY_MODEL_5b9c08a632804dab9e882acfe63ca0e7",
        "IPY_MODEL_400f19e607204634ab958b81f44c25b7"
       ],
       "layout": "IPY_MODEL_766c056ed3e144809bfef6cc9c33a629",
       "selected_index": 1
      }
     },
     "f568160228d1421b80390d14322172c3": {
      "model_module": "@jupyter-widgets/controls",
      "model_module_version": "1.0.0",
      "model_name": "DescriptionStyleModel",
      "state": {
       "description_width": ""
      }
     },
     "f5f36f6fabe34d2e922a17bb81361073": {
      "model_module": "@jupyter-widgets/base",
      "model_module_version": "1.0.0",
      "model_name": "LayoutModel",
      "state": {}
     },
     "f65e3935fde1498b99eae4bcafa6e6fa": {
      "model_module": "jp_proxy_widget",
      "model_module_version": "^0.3.4",
      "model_name": "JSProxyModel",
      "state": {
       "_model_module_version": "^0.3.4",
       "_send_counter": 15,
       "_view_module_version": "^0.3.4",
       "error_msg": "No error",
       "layout": "IPY_MODEL_730d23a46b9c48e38f74824a55517f19",
       "rendered": true,
       "status": "Got results."
      }
     },
     "f8a808ec9f4a43e684bf700570c4e68b": {
      "model_module": "@jupyter-widgets/base",
      "model_module_version": "1.0.0",
      "model_name": "LayoutModel",
      "state": {}
     },
     "f8d8898c49f04cd0a7d99b24e6046585": {
      "model_module": "@jupyter-widgets/base",
      "model_module_version": "1.0.0",
      "model_name": "LayoutModel",
      "state": {}
     },
     "f952986dd0524c1bab92ad8a77a469c6": {
      "model_module": "jp_proxy_widget",
      "model_module_version": "^0.3.4",
      "model_name": "JSProxyModel",
      "state": {
       "_model_module_version": "^0.3.4",
       "_send_counter": 2,
       "_view_module_version": "^0.3.4",
       "error_msg": "No error",
       "layout": "IPY_MODEL_fdbe9aaa309f49f7b90ff72280069c92",
       "rendered": true,
       "status": "Got results."
      }
     },
     "f9684b238be0462b8d286fe31df2f9aa": {
      "model_module": "@jupyter-widgets/base",
      "model_module_version": "1.0.0",
      "model_name": "LayoutModel",
      "state": {}
     },
     "fa5f2037d8a147cda9bcd5716ad16770": {
      "model_module": "@jupyter-widgets/base",
      "model_module_version": "1.0.0",
      "model_name": "LayoutModel",
      "state": {}
     },
     "fa69f13bccdc4e7e8410f9eb55d06af8": {
      "model_module": "@jupyter-widgets/base",
      "model_module_version": "1.0.0",
      "model_name": "LayoutModel",
      "state": {}
     },
     "fa94d06c99cc4c0a92d1a4c014e2ab45": {
      "model_module": "jp_proxy_widget",
      "model_module_version": "^0.3.4",
      "model_name": "JSProxyModel",
      "state": {
       "_model_module_version": "^0.3.4",
       "_send_counter": 2,
       "_view_module_version": "^0.3.4",
       "error_msg": "No error",
       "layout": "IPY_MODEL_dbc8537455c144b890709c3156e1bfbe",
       "rendered": true,
       "status": "Got results."
      }
     },
     "facb1f43d29541d6891069ea480a9cd0": {
      "model_module": "@jupyter-widgets/controls",
      "model_module_version": "1.0.0",
      "model_name": "HTMLModel",
      "state": {
       "layout": "IPY_MODEL_4be9cb93a57b49fd9e3735b6c538dcde",
       "style": "IPY_MODEL_5b23dacb133e4997bc3f8830fbc18cbc",
       "value": "<img src=\"spider_attack.png\" id=\"snapshot_id_4_1535833603035\"/>\n <div id=\"snapshot_id_5_1535833603035\">spider_attack.png</div>"
      }
     },
     "fb5607a553a147e8a1b8bf6644ac92bc": {
      "model_module": "@jupyter-widgets/controls",
      "model_module_version": "1.0.0",
      "model_name": "DescriptionStyleModel",
      "state": {
       "description_width": ""
      }
     },
     "fb74006717134adbb006fd915fbbff0c": {
      "model_module": "jp_proxy_widget",
      "model_module_version": "^0.3.4",
      "model_name": "JSProxyModel",
      "state": {
       "_model_module_version": "^0.3.4",
       "_send_counter": 2,
       "_view_module_version": "^0.3.4",
       "error_msg": "No error",
       "layout": "IPY_MODEL_1279f3f780d5453d989c34f38f3f552b",
       "rendered": true,
       "status": "Got results."
      }
     },
     "fbe3eaf637e84f4a9dfbd1f01e4ac743": {
      "model_module": "@jupyter-widgets/base",
      "model_module_version": "1.0.0",
      "model_name": "LayoutModel",
      "state": {}
     },
     "fbe5ea7da2a54adca023be8c792c964f": {
      "model_module": "@jupyter-widgets/base",
      "model_module_version": "1.0.0",
      "model_name": "LayoutModel",
      "state": {}
     },
     "fc2917f8994549a0a9e723f34cd7c15d": {
      "model_module": "@jupyter-widgets/base",
      "model_module_version": "1.0.0",
      "model_name": "LayoutModel",
      "state": {}
     },
     "fc4e8bde9fef4b3c90abd6c343442e6f": {
      "model_module": "@jupyter-widgets/controls",
      "model_module_version": "1.0.0",
      "model_name": "VBoxModel",
      "state": {
       "children": [
        "IPY_MODEL_939cf564e6ae4706998d2857571c046c",
        "IPY_MODEL_9ba99799d8e44c5d8feb345e4d6cf70f"
       ],
       "layout": "IPY_MODEL_4ba942d154ae482d8b93b069e6597c56"
      }
     },
     "fd5493fef4054c7b8d787dbfd9456e52": {
      "model_module": "@jupyter-widgets/base",
      "model_module_version": "1.0.0",
      "model_name": "LayoutModel",
      "state": {}
     },
     "fdbe9aaa309f49f7b90ff72280069c92": {
      "model_module": "@jupyter-widgets/base",
      "model_module_version": "1.0.0",
      "model_name": "LayoutModel",
      "state": {}
     },
     "fdc4ca8a3afe46129bb6e81aa43b0d49": {
      "model_module": "@jupyter-widgets/base",
      "model_module_version": "1.0.0",
      "model_name": "LayoutModel",
      "state": {}
     },
     "fea3f003f63d49ddaecff12434b39f9b": {
      "model_module": "jp_proxy_widget",
      "model_module_version": "^0.3.4",
      "model_name": "JSProxyModel",
      "state": {
       "_model_module_version": "^0.3.4",
       "_send_counter": 2,
       "_view_module_version": "^0.3.4",
       "error_msg": "No error",
       "layout": "IPY_MODEL_6fd2c62879614f178728e5c198ad315e",
       "rendered": true,
       "status": "Got results."
      }
     },
     "fea67a4840e44415b86a0533b9bde18e": {
      "model_module": "@jupyter-widgets/base",
      "model_module_version": "1.0.0",
      "model_name": "LayoutModel",
      "state": {}
     },
     "fefb1059ce604c309e82379ceb8723dc": {
      "model_module": "@jupyter-widgets/controls",
      "model_module_version": "1.0.0",
      "model_name": "HTMLModel",
      "state": {
       "layout": "IPY_MODEL_8128bcc4a09d4b7e83be1d4b427c002c",
       "style": "IPY_MODEL_b7ba4242f38b4d859e9f5b73e3a52516",
       "value": "<img src=\"spider_attack.png\" id=\"snapshot_id_55_1535830161732\"/>\n <div id=\"snapshot_id_56_1535830161732\">spider_attack.png</div>"
      }
     },
     "ff5c9a8882c545bea4c48f2cc07e1880": {
      "model_module": "@jupyter-widgets/controls",
      "model_module_version": "1.0.0",
      "model_name": "TabModel",
      "state": {
       "_titles": {
        "0": "Canvas",
        "1": "Snapshot"
       },
       "children": [
        "IPY_MODEL_82c7ceeebea3467797732020161c1658",
        "IPY_MODEL_86008130496844d5af094935096c5748"
       ],
       "layout": "IPY_MODEL_f1f13b395d234c4cb557170209b563bd"
      }
     },
     "ffdc9bed366f439882ae16576de70a4e": {
      "model_module": "jp_proxy_widget",
      "model_module_version": "^0.3.4",
      "model_name": "JSProxyModel",
      "state": {
       "_model_module_version": "^0.3.4",
       "_send_counter": 2,
       "_view_module_version": "^0.3.4",
       "error_msg": "No error",
       "layout": "IPY_MODEL_479679117a3c4edd9d3653f32b870d71",
       "rendered": true,
       "status": "Got results."
      }
     }
    },
    "version_major": 2,
    "version_minor": 0
   }
  }
 },
 "nbformat": 4,
 "nbformat_minor": 2
}
