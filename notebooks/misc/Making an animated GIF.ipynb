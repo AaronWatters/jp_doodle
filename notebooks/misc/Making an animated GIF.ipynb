{
 "cells": [
  {
   "cell_type": "markdown",
   "metadata": {},
   "source": [
    "<img src=\"animated.gif\" width=500>\n",
    "\n",
    "# How to make an animated GIF using a canvas\n",
    "\n",
    "This notebook demonstrates how to capture image arrays from a jp_doodle canvas\n",
    "and save the collected images as an animated GIF.\n",
    "\n",
    "For the illustration we develop an animation which projects a hypercube into three\n",
    "dimensions using a projectiom matrix."
   ]
  },
  {
   "cell_type": "code",
   "execution_count": 1,
   "metadata": {},
   "outputs": [],
   "source": [
    "import numpy as np"
   ]
  },
  {
   "cell_type": "code",
   "execution_count": 2,
   "metadata": {},
   "outputs": [],
   "source": [
    "def projection_array(t, delta=0.01, gamma=0.0111):\n",
    "    \"projection matrix for a time point.\"\n",
    "    alpha = delta * t\n",
    "    beta = 1.0 + gamma * t\n",
    "    delta = 2.0 + (delta + gamma) * t\n",
    "    ca, sa = np.sin(alpha), np.cos(alpha)\n",
    "    cb, sb = np.sin(beta), np.cos(beta)\n",
    "    cd, sd= np.sin(delta), np.cos(delta)\n",
    "    return np.array([\n",
    "        [sa, -ca, 0, sd],\n",
    "        [ca,  sa, sd, 0],\n",
    "        [cd,   0, sb, cb],\n",
    "    ]).transpose()\n",
    "\n",
    "#projection_array(100)"
   ]
  },
  {
   "cell_type": "code",
   "execution_count": 3,
   "metadata": {},
   "outputs": [],
   "source": [
    "# hypercube vertices\n",
    "vertices4 = np.array([\n",
    "    [i, j, k, l]\n",
    "    for i in [-1,1]\n",
    "    for j in [-1,1]\n",
    "    for k in [-1,1]\n",
    "    for l in [-1,1]\n",
    "])\n",
    "#vertices4"
   ]
  },
  {
   "cell_type": "code",
   "execution_count": 4,
   "metadata": {},
   "outputs": [],
   "source": [
    "# hypercube edges\n",
    "from numpy.linalg import norm\n",
    "edges = []\n",
    "for (i, v) in enumerate(vertices4):\n",
    "    for (j, w) in enumerate(vertices4):\n",
    "        if i > j and norm(v - w) == 2:\n",
    "            edges.append((i,j))\n",
    "#edges"
   ]
  },
  {
   "cell_type": "code",
   "execution_count": 5,
   "metadata": {},
   "outputs": [],
   "source": [
    "def project_vertices(t):\n",
    "    \"project 4d vertices into 3d at a time point.\"\n",
    "    P = projection_array(t)\n",
    "    return vertices4.dot(P)\n",
    "\n",
    "#project_vertices(555)"
   ]
  },
  {
   "cell_type": "markdown",
   "metadata": {},
   "source": [
    "# Create a canvas for the animation"
   ]
  },
  {
   "cell_type": "code",
   "execution_count": 6,
   "metadata": {},
   "outputs": [
    {
     "data": {
      "application/vnd.jupyter.widget-view+json": {
       "model_id": "6e39cde365a146fc8e055170037ea629",
       "version_major": 2,
       "version_minor": 0
      },
      "text/plain": [
       "DualCanvasWidget(status='deferring flush until render')"
      ]
     },
     "metadata": {},
     "output_type": "display_data"
    }
   ],
   "source": [
    "from jp_doodle.nd_frame import swatch3d\n",
    "s = swatch3d(pixels=700, model_height=6)\n",
    "\n",
    "def draw_hcube(t=220):\n",
    "    s.reset()\n",
    "    s.frame_rect((-7, -7, -7), 10, 10, color=\"yellow\")\n",
    "    vertices = project_vertices(t)\n",
    "    for (i, j) in edges:\n",
    "        s.line(vertices[i], vertices[j], color=\"#e94\", lineWidth=5)\n",
    "    s.orbit_all(3)\n",
    "        \n",
    "draw_hcube()"
   ]
  },
  {
   "cell_type": "markdown",
   "metadata": {},
   "source": [
    "# Draw an animation on the canvas and capture images for each frame"
   ]
  },
  {
   "cell_type": "code",
   "execution_count": 7,
   "metadata": {},
   "outputs": [],
   "source": [
    "image_arrays = []\n",
    "\n",
    "def array_callback(array):\n",
    "    \n",
    "    image_arrays.append(array)\n",
    "\n",
    "import time\n",
    "for t in range(200):\n",
    "    with s.in_canvas.delay_redraw():\n",
    "        draw_hcube(t)\n",
    "    #array = s.in_canvas.pixels_array()\n",
    "    #image_arrays.append(array)\n",
    "    s.in_canvas.pixels_array_async(array_callback)\n",
    "    time.sleep(0.1)"
   ]
  },
  {
   "cell_type": "code",
   "execution_count": 8,
   "metadata": {},
   "outputs": [
    {
     "data": {
      "application/vnd.jupyter.widget-view+json": {
       "model_id": "d5757a8baf7646bd8c5f469eeb61e9a4",
       "version_major": 2,
       "version_minor": 0
      },
      "text/plain": [
       "DualCanvasWidget(status='deferring flush until render')"
      ]
     },
     "metadata": {},
     "output_type": "display_data"
    }
   ],
   "source": [
    "# View one of the saved images\n",
    "from jp_doodle.array_image import show_array\n",
    "show_array(image_arrays[5])"
   ]
  },
  {
   "cell_type": "markdown",
   "metadata": {},
   "source": [
    "# Save the image sequence as an animated GIF using `imageio`"
   ]
  },
  {
   "cell_type": "code",
   "execution_count": 9,
   "metadata": {},
   "outputs": [],
   "source": [
    "import imageio"
   ]
  },
  {
   "cell_type": "code",
   "execution_count": 10,
   "metadata": {},
   "outputs": [],
   "source": [
    "exportname = \"animated.gif\"\n",
    "imageio.mimsave(exportname, image_arrays, format='GIF', duration=0.1)"
   ]
  },
  {
   "cell_type": "markdown",
   "metadata": {},
   "source": [
    "<img src=\"animated.gif\" width=500>"
   ]
  },
  {
   "cell_type": "code",
   "execution_count": null,
   "metadata": {},
   "outputs": [],
   "source": []
  }
 ],
 "metadata": {
  "kernelspec": {
   "display_name": "Python 3",
   "language": "python",
   "name": "python3"
  },
  "language_info": {
   "codemirror_mode": {
    "name": "ipython",
    "version": 3
   },
   "file_extension": ".py",
   "mimetype": "text/x-python",
   "name": "python",
   "nbconvert_exporter": "python",
   "pygments_lexer": "ipython3",
   "version": "3.8.5"
  }
 },
 "nbformat": 4,
 "nbformat_minor": 4
}
