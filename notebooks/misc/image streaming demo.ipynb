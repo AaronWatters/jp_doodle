{
 "cells": [
  {
   "cell_type": "markdown",
   "metadata": {},
   "source": [
    "<img src=\"streaming.png\" width=\"500\">\n",
    "\n",
    "# Streaming a numpy array into an image\n",
    "\n",
    "The `jp_doodle` package includes the `stream_image_array` module which provides\n",
    "functionality for displaying the contents of an array.  After the widget is displayed\n",
    "the image content may be updated dynamically.\n",
    "\n",
    "Below we create a simple gray scale image display as a \"hello world\" image display example."
   ]
  },
  {
   "cell_type": "code",
   "execution_count": 1,
   "metadata": {
    "collapsed": false
   },
   "outputs": [
    {
     "data": {
      "text/plain": [
       "array([[   0.,  244.,    0.,    0.,    0.],\n",
       "       [   0.,  244.,  233.,  233.,  233.],\n",
       "       [   0.,  244.,  130.,  130.,  130.]])"
      ]
     },
     "execution_count": 1,
     "metadata": {},
     "output_type": "execute_result"
    }
   ],
   "source": [
    "from jp_doodle.stream_image_array import StreamImageArray\n",
    "from ipywidgets import interact, interactive, fixed, interact_manual\n",
    "\n",
    "import numpy as np\n",
    "A = np.zeros((3,5))\n",
    "for i in range(3):\n",
    "    A[i] = [0,244,0,244,0]\n",
    "for j in range(2,5):\n",
    "    A[:,j] = [0,233,130]\n",
    "A"
   ]
  },
  {
   "cell_type": "code",
   "execution_count": 2,
   "metadata": {
    "collapsed": false
   },
   "outputs": [
    {
     "data": {
      "application/vnd.jupyter.widget-view+json": {
       "model_id": "ea49f9d82a41454f9c34a36f07f5b7ad",
       "version_major": 2,
       "version_minor": 0
      },
      "text/html": [
       "<p>Failed to display Jupyter Widget of type <code>StreamImageArray</code>.</p>\n",
       "<p>\n",
       "  If you're reading this message in Jupyter Notebook or JupyterLab, it may mean\n",
       "  that the widgets JavaScript is still loading. If this message persists, it\n",
       "  likely means that the widgets JavaScript library is either not installed or\n",
       "  not enabled. See the <a href=\"https://ipywidgets.readthedocs.io/en/stable/user_install.html\">Jupyter\n",
       "  Widgets Documentation</a> for setup instructions.\n",
       "</p>\n",
       "<p>\n",
       "  If you're reading this message in another notebook frontend (for example, a static\n",
       "  rendering on GitHub or <a href=\"https://nbviewer.jupyter.org/\">NBViewer</a>),\n",
       "  it may mean that your frontend doesn't currently support widgets.\n",
       "</p>\n"
      ],
      "text/plain": [
       "StreamImageArray(status=u'Not yet rendered')"
      ]
     },
     "metadata": {},
     "output_type": "display_data"
    }
   ],
   "source": [
    "w = StreamImageArray(A, width=500, height=300)\n",
    "w"
   ]
  },
  {
   "cell_type": "markdown",
   "metadata": {},
   "source": [
    "# Dynamically updating the image with new array data\n",
    "\n",
    "After the widget is created the image may be updated dynamically with the content\n",
    "of an array with the same width and height of the original array using the\n",
    "`widget.update_image(array)` method.\n",
    "\n",
    "Below we define a function which generates an array using\n",
    "four parameters and initialize a `StreamImageArray` widget for viewing arrays of that shape.\n",
    "The widget looks like this when running:\n",
    "\n",
    "<img src=\"streaming.png\" width=\"500\"/>\n",
    "\n",
    "The cell after the widget adds an `interactive` widget which updates the\n",
    "image using different parameter values dynamically when the user adjusts the slider controls."
   ]
  },
  {
   "cell_type": "code",
   "execution_count": 3,
   "metadata": {
    "collapsed": false
   },
   "outputs": [
    {
     "data": {
      "text/plain": [
       "(300, 200, 3)"
      ]
     },
     "execution_count": 3,
     "metadata": {},
     "output_type": "execute_result"
    }
   ],
   "source": [
    "(nx, ny) = (200, 300)\n",
    "x = np.linspace(-3, 3, nx)\n",
    "y = np.linspace(-2, 3, ny)\n",
    "xv, yv = np.meshgrid(x, y)\n",
    "blue = np.array([0,0,255]).reshape([1,1,3])\n",
    "yellow = np.array([255,255,0]).reshape([1,1,3])\n",
    "\n",
    "def testArray(a=1, b=-1, c=2, d=-2):\n",
    "    level =  (1 + np.sin(a * xv * xv + b * yv * yv + c * xv * yv + d))\n",
    "    level = level.reshape(level.shape + (1,))\n",
    "    return level * blue + (1 - level) * yellow\n",
    "\n",
    "A = testArray()\n",
    "A.shape"
   ]
  },
  {
   "cell_type": "code",
   "execution_count": 4,
   "metadata": {
    "collapsed": false
   },
   "outputs": [
    {
     "data": {
      "application/vnd.jupyter.widget-view+json": {
       "model_id": "996c036c2ded4f038d960351ac9e563f",
       "version_major": 2,
       "version_minor": 0
      },
      "text/html": [
       "<p>Failed to display Jupyter Widget of type <code>StreamImageArray</code>.</p>\n",
       "<p>\n",
       "  If you're reading this message in Jupyter Notebook or JupyterLab, it may mean\n",
       "  that the widgets JavaScript is still loading. If this message persists, it\n",
       "  likely means that the widgets JavaScript library is either not installed or\n",
       "  not enabled. See the <a href=\"https://ipywidgets.readthedocs.io/en/stable/user_install.html\">Jupyter\n",
       "  Widgets Documentation</a> for setup instructions.\n",
       "</p>\n",
       "<p>\n",
       "  If you're reading this message in another notebook frontend (for example, a static\n",
       "  rendering on GitHub or <a href=\"https://nbviewer.jupyter.org/\">NBViewer</a>),\n",
       "  it may mean that your frontend doesn't currently support widgets.\n",
       "</p>\n"
      ],
      "text/plain": [
       "StreamImageArray(status=u'Not yet rendered')"
      ]
     },
     "metadata": {},
     "output_type": "display_data"
    }
   ],
   "source": [
    "w = StreamImageArray(A, width=500, height=300)\n",
    "\n",
    "def update(a=1, b=-1, c=2, d=-2):\n",
    "    A = testArray(a, b, c, d)\n",
    "    w.update_image(A)\n",
    "\n",
    "w"
   ]
  },
  {
   "cell_type": "code",
   "execution_count": 5,
   "metadata": {
    "collapsed": false
   },
   "outputs": [
    {
     "data": {
      "application/vnd.jupyter.widget-view+json": {
       "model_id": "4870d9126afe4d5483791415c74a0202",
       "version_major": 2,
       "version_minor": 0
      },
      "text/html": [
       "<p>Failed to display Jupyter Widget of type <code>interactive</code>.</p>\n",
       "<p>\n",
       "  If you're reading this message in Jupyter Notebook or JupyterLab, it may mean\n",
       "  that the widgets JavaScript is still loading. If this message persists, it\n",
       "  likely means that the widgets JavaScript library is either not installed or\n",
       "  not enabled. See the <a href=\"https://ipywidgets.readthedocs.io/en/stable/user_install.html\">Jupyter\n",
       "  Widgets Documentation</a> for setup instructions.\n",
       "</p>\n",
       "<p>\n",
       "  If you're reading this message in another notebook frontend (for example, a static\n",
       "  rendering on GitHub or <a href=\"https://nbviewer.jupyter.org/\">NBViewer</a>),\n",
       "  it may mean that your frontend doesn't currently support widgets.\n",
       "</p>\n"
      ],
      "text/plain": [
       "interactive(children=(FloatSlider(value=1.0, description=u'a', max=3.3, min=-3.3), FloatSlider(value=-1.0, description=u'b', max=3.3, min=-3.3), FloatSlider(value=2.0, description=u'c', max=3.3, min=-3.3), FloatSlider(value=-2.0, description=u'd', max=3.3, min=-3.3), Output()), _dom_classes=('widget-interact',))"
      ]
     },
     "metadata": {},
     "output_type": "display_data"
    }
   ],
   "source": [
    "wi = interactive(update, a=(-3.3, 3.3), b=(-3.3, 3.3), c=(-3.3, 3.3), d=(-3.3, 3.3))\n",
    "wi"
   ]
  },
  {
   "cell_type": "code",
   "execution_count": null,
   "metadata": {
    "collapsed": true
   },
   "outputs": [],
   "source": []
  }
 ],
 "metadata": {
  "kernelspec": {
   "display_name": "Python 2",
   "language": "python",
   "name": "python2"
  },
  "language_info": {
   "codemirror_mode": {
    "name": "ipython",
    "version": 2
   },
   "file_extension": ".py",
   "mimetype": "text/x-python",
   "name": "python",
   "nbconvert_exporter": "python",
   "pygments_lexer": "ipython2",
   "version": "2.7.13"
  }
 },
 "nbformat": 4,
 "nbformat_minor": 2
}
