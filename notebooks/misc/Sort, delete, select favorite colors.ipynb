{
 "cells": [
  {
   "cell_type": "markdown",
   "metadata": {},
   "source": [
    "# Sort, select, and delete your favorite colors\n",
    "\n",
    "This notebook demonstrates how to use a proxy widget to order and trim a list of options."
   ]
  },
  {
   "cell_type": "code",
   "execution_count": null,
   "metadata": {},
   "outputs": [],
   "source": [
    "import jp_proxy_widget\n",
    "\n",
    "colors = \"red green blue cyan magenta yellow pink purple brown\".split()\n",
    "\n",
    "def select_callback(list):\n",
    "    print(\"The user selected:\", list)\n",
    "\n",
    "widget = jp_proxy_widget.JSProxyWidget()\n",
    "widget.check_jquery()\n",
    "\n",
    "widget.js_init(\"\"\"\n",
    "    element.html(\"Please delete the colors you don't like and move the others in your preferre order.\");\n",
    "    element.color_list = $(\"<ul/>\").width(\"200px\").appendTo(element);\n",
    "    for (var i=0; i<colors.length; i++) {\n",
    "        var color = colors[i];\n",
    "        var item = `\n",
    "        <li class=\"ui-state-default\" data-sort-id=\"${color}\">\n",
    "            ${color}\n",
    "            <button class=\"delete\">X</button>\n",
    "        </li>\n",
    "        `;\n",
    "        $(item).appendTo(element.color_list);\n",
    "    }\n",
    "    // make it sortable\n",
    "    element.color_list.sortable()\n",
    "    // Set up delete buttons:\n",
    "    // https://stackoverflow.com/questions/8806058/delete-jquery-ui-sortable-list-item\n",
    "    element.color_list.find(\".delete\").click(\n",
    "        function() {\n",
    "            $(this).parent().remove();\n",
    "        }\n",
    "    );\n",
    "    // Attach a button to report the displayed order back to the Python callback check_order:\n",
    "    element.report_order = function() {\n",
    "        // jQuery magic to get the sort order array.\n",
    "        var display_order = element.color_list.sortable(\"toArray\", {\"attribute\": \"data-sort-id\"});\n",
    "        // call back to Python to report the display order\n",
    "        select_callback(display_order);\n",
    "    };\n",
    "    var done = $(\"<button>Done</button>\").appendTo(element);\n",
    "    done.click(element.report_order);\n",
    "\"\"\", colors=colors, select_callback=select_callback)\n",
    "\n",
    "widget.debugging_display()"
   ]
  },
  {
   "cell_type": "code",
   "execution_count": null,
   "metadata": {},
   "outputs": [],
   "source": []
  }
 ],
 "metadata": {
  "kernelspec": {
   "display_name": "Python 3",
   "language": "python",
   "name": "python3"
  },
  "language_info": {
   "codemirror_mode": {
    "name": "ipython",
    "version": 3
   },
   "file_extension": ".py",
   "mimetype": "text/x-python",
   "name": "python",
   "nbconvert_exporter": "python",
   "pygments_lexer": "ipython3",
   "version": "3.6.8"
  }
 },
 "nbformat": 4,
 "nbformat_minor": 4
}
