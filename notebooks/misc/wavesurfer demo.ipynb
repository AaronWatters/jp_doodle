{
 "cells": [
  {
   "cell_type": "markdown",
   "metadata": {},
   "source": [
    "# Using `wavesurfer` in a notebook via `jp_proxy_widget`\n",
    "\n",
    "This demo shows how to load the `wavesurfer` Javascript audio player with graphic\n",
    "in a notebook using a proxy widget.\n",
    "\n",
    "<img src=\"wavesurfer.png\" width=\"500px\"/>"
   ]
  },
  {
   "cell_type": "code",
   "execution_count": null,
   "metadata": {},
   "outputs": [],
   "source": [
    "# https://wavesurfer-js.org/docs/\n",
    "\n",
    "import jp_proxy_widget"
   ]
  },
  {
   "cell_type": "code",
   "execution_count": null,
   "metadata": {},
   "outputs": [],
   "source": [
    "widget = jp_proxy_widget.JSProxyWidget()\n",
    "js = \"https://unpkg.com/wavesurfer.js\"\n",
    "url = \"http://ia902606.us.archive.org/35/items/shortpoetry_047_librivox/song_cjrg_teasdale_64kb.mp3\"\n",
    "\n",
    "widget.load_js_files([js])\n",
    "\n",
    "widget.js_init(\"\"\"\n",
    "element.empty();\n",
    "\n",
    "element.wavesurfer = WaveSurfer.create({\n",
    "    container: element[0]\n",
    "});\n",
    "\n",
    "element.wavesurfer.load(url);\n",
    "\n",
    "element.wavesurfer.on('ready', function () {\n",
    "    element.wavesurfer.play();\n",
    "});\n",
    "\"\"\", url=url)\n",
    "\n",
    "widget"
   ]
  },
  {
   "cell_type": "code",
   "execution_count": null,
   "metadata": {},
   "outputs": [],
   "source": [
    "widget.element.wavesurfer.pause()"
   ]
  },
  {
   "cell_type": "code",
   "execution_count": null,
   "metadata": {},
   "outputs": [],
   "source": [
    "widget.element.wavesurfer.play(0)"
   ]
  },
  {
   "cell_type": "code",
   "execution_count": null,
   "metadata": {},
   "outputs": [],
   "source": []
  }
 ],
 "metadata": {
  "kernelspec": {
   "display_name": "Python 3",
   "language": "python",
   "name": "python3"
  },
  "language_info": {
   "codemirror_mode": {
    "name": "ipython",
    "version": 3
   },
   "file_extension": ".py",
   "mimetype": "text/x-python",
   "name": "python",
   "nbconvert_exporter": "python",
   "pygments_lexer": "ipython3",
   "version": "3.6.8"
  }
 },
 "nbformat": 4,
 "nbformat_minor": 2
}
