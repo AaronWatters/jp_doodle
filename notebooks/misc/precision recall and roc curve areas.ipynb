{
 "cells": [
  {
   "cell_type": "markdown",
   "metadata": {},
   "source": [
    "<img src=\"prscatter.png\" width=\"300\">\n",
    "\n",
    "# Precision/recall and ROC curve area comparison interactive chart\n",
    "\n",
    "AUPR (area under the precision recall curve) and AUROC\n",
    "(area under the receiver operator curve) are two metrics\n",
    "that are sometimes used to evaluate the merits of ranking methods.\n",
    "\n",
    "AUPR tends to be oriented towards the \"web search analogy\":\n",
    "*An incorrect answer ranked first is a search response not\n",
    "relevant to the user's goals which will frustrate the user.*\n",
    "\n",
    "AUROC tends to be oriented towards the \"bomber/radar analogy\": \n",
    "*A correct answer ranked last represents a bomber that was not targetted\n",
    "and got past the gunners.\"\n",
    "\n",
    "This visualization compares these metrics.  We compare all possible\n",
    "rankings of responses where there are a fixed number of right answers\n",
    "and a fixed number of wrong answers.  In this case a ranking of\n",
    "`1110001` means there are 4 right answers and 3 wrong answers and the\n",
    "ranking ranked the first 3 right answers high but the last right answer\n",
    "lower than all the wrong answers.\n",
    "\n",
    "First we show a chart which displayes the PR and ROC curves and their\n",
    "corresponding numeric areas.\n",
    "\n",
    "Use \"Kernel --> Runall\" above to run all the cells.  Then look to the interactive chart at the bottom."
   ]
  },
  {
   "cell_type": "code",
   "execution_count": 1,
   "metadata": {},
   "outputs": [
    {
     "name": "stdout",
     "output_type": "stream",
     "text": [
      "for example [True, True, False, True]\n",
      "precision recall curve is [(1.0, 0.3333333333333333), (1.0, 0.6666666666666666), (0.6666666666666666, 0.6666666666666666), (0.75, 1.0)]\n",
      "ROC curve is [(0.3333333333333333, 0.0), (0.6666666666666666, 0.0), (0.6666666666666666, 1.0), (1.0, 1.0)]\n"
     ]
    }
   ],
   "source": [
    "from __future__ import print_function\n",
    "from jp_doodle import dual_canvas\n",
    "\n",
    "# Basic computational definitions:\n",
    "\n",
    "def precision(ntrue, alltrue, count, length=None):\n",
    "    return ntrue * 1.0 / count\n",
    "\n",
    "def recall(ntrue, alltrue, count, length=None):\n",
    "    return ntrue * 1.0 / alltrue\n",
    "\n",
    "def false_positive_rate(ntrue, alltrue, count, length):\n",
    "    false_positive_count = count - ntrue\n",
    "    all_negative = length - alltrue\n",
    "    return false_positive_count * 1.0 / all_negative\n",
    "\n",
    "def precision_recall_points(choice):\n",
    "    result = []\n",
    "    alltrue = len([c for c in choice if c])\n",
    "    count = 0\n",
    "    ntrue = 0\n",
    "    for c in choice:\n",
    "        count += 1\n",
    "        if c:\n",
    "            ntrue += 1\n",
    "        result.append((precision(ntrue, alltrue, count), recall(ntrue, alltrue, count)))\n",
    "    return result\n",
    "\n",
    "def ROC_points(choice):\n",
    "    result = []\n",
    "    length = len(choice)\n",
    "    alltrue = len([c for c in choice if c])\n",
    "    assert length > alltrue, \"no negatives? \" + repr((length, alltrue, choice))\n",
    "    count = 0\n",
    "    ntrue = 0\n",
    "    for c in choice:\n",
    "        count += 1\n",
    "        if c:\n",
    "            ntrue += 1\n",
    "        result.append((recall(ntrue, alltrue, count), false_positive_rate(ntrue, alltrue, count, length)))\n",
    "    return result\n",
    "\n",
    "example = [True, True, False, True]\n",
    "print(\"for example\", example)\n",
    "print(\"precision recall curve is\", precision_recall_points(example))\n",
    "print(\"ROC curve is\", ROC_points(example))"
   ]
  },
  {
   "cell_type": "code",
   "execution_count": 2,
   "metadata": {},
   "outputs": [
    {
     "data": {
      "application/vnd.jupyter.widget-view+json": {
       "model_id": "095ee11e2d354a3b89e65c4b6869f685",
       "version_major": 2,
       "version_minor": 0
      },
      "text/plain": [
       "VGFiKGNoaWxkcmVuPShWQm94KGNoaWxkcmVuPShTbmFwc2hvdENhbnZhcyhzdGF0dXM9dSdOb3QgeWV0IHJlbmRlcmVkJyksIEpTUHJveHlXaWRnZXQoc3RhdHVzPXUnTm90IHlldCByZW5kZXLigKY=\n"
      ]
     },
     "metadata": {},
     "output_type": "display_data"
    }
   ],
   "source": [
    "def pr_area(curve):\n",
    "    \"Curve area computation.\"\n",
    "    result = 0\n",
    "    last_recall = 0.0\n",
    "    last_precision = 1.0\n",
    "    for pr in curve:\n",
    "        (precision, recall) = pr\n",
    "        base = recall - last_recall\n",
    "        height = 0.5 * (precision + last_precision)\n",
    "        result += base * height\n",
    "        (last_precision, last_recall) = pr\n",
    "    return result\n",
    "\n",
    "\n",
    "class Ranking:\n",
    "    \n",
    "    \"Ranking object encapsulation.\"\n",
    "    \n",
    "    def __init__(self, order_correctness):\n",
    "        self.c = order_correctness\n",
    "        self.pr_curve = precision_recall_points(order_correctness)\n",
    "        self.roc_curve = ROC_points(order_correctness)\n",
    "        self.aupr = pr_area(self.pr_curve)\n",
    "        self.auroc = pr_area(self.roc_curve)\n",
    "        self.str = \"\".join(\"1\" if x else \"0\" for x in order_correctness)\n",
    "        \n",
    "    def plot_on_frame(self, frame):\n",
    "        frame.reset_frame()\n",
    "        frame.lower_left_axes(0, 0, 1, 1)\n",
    "        recall_precision = (\n",
    "            [(0,1)] + \n",
    "            [(recall, precision) for (precision, recall) in self.pr_curve] +\n",
    "            [(1,0), (0,0)])\n",
    "        frame.polygon(points=recall_precision, color=\"rgba(244,0,0,0.5)\")\n",
    "        recall_fpr = (\n",
    "            [(0, 0)] + \n",
    "            [(recall, fpr) for (fpr, recall) in self.roc_curve] +\n",
    "            [(1, 0)])\n",
    "        frame.polygon(points=recall_fpr, color=\"rgba(200,0,200,0.5)\")\n",
    "        frame.text(y=1, x=0.1, text=self.str[:50])\n",
    "        frame.text(y=-0.2, x=0, text=\"aupr %4.2f\"%self.aupr, color=\"red\")\n",
    "        frame.text(y=-0.3, x=0, text=\"auroc %4.2f\"%self.auroc, color=\"magenta\")\n",
    "        \n",
    "    def plot(self):\n",
    "        demo = dual_canvas.SnapshotCanvas(\"prplot.png\", width=520, height=320)\n",
    "        frame = demo.frame_region(0, 0, 300, 300, -0.2, -0.2, 1.2, 1.2)\n",
    "        self.plot_on_frame(frame)\n",
    "        demo.fit()\n",
    "        demo.display_all()\n",
    "        return demo\n",
    "        \n",
    "r = Ranking([False, False, True, True, True, True, True, False, False, False, True, False])\n",
    "#r = Ranking([True, True, True, False, False] * 15)\n",
    "#print(r.pr_curve)\n",
    "#print(r.roc_curve)\n",
    "#print(r.aupr, r.auroc)\n",
    "demo = r.plot()"
   ]
  },
  {
   "cell_type": "code",
   "execution_count": 3,
   "metadata": {},
   "outputs": [
    {
     "data": {
      "application/vnd.jupyter.widget-view+json": {
       "model_id": "07784968041b42828e844ac3a3820638",
       "version_major": 2,
       "version_minor": 0
      },
      "text/plain": [
       "VGFiKGNoaWxkcmVuPShWQm94KGNoaWxkcmVuPShTbmFwc2hvdENhbnZhcyhzdGF0dXM9dSdOb3QgeWV0IHJlbmRlcmVkJyksIEpTUHJveHlXaWRnZXQoc3RhdHVzPXUnTm90IHlldCByZW5kZXLigKY=\n"
      ]
     },
     "metadata": {},
     "output_type": "display_data"
    }
   ],
   "source": [
    "#r = Ranking([False] + [False,True] * 5 + [True] * 10 + [False] * 200)\n",
    "r = Ranking([True, True, False] + [True, False] * 5 + [True] * 3 + [False] * 200)\n",
    "#r = Ranking([False, False, True, True, True] * 15)\n",
    "d = r.plot()"
   ]
  },
  {
   "cell_type": "markdown",
   "metadata": {},
   "source": [
    "# The interactive chart\n",
    "\n",
    "Now we combine the above chart with a clickable scatter plot\n",
    "that shows the pairing of AUPR and AUROC values for all possible\n",
    "rankings where there are 6 right answers and 7 wrong answers.\n",
    "\n",
    "Each possible ranking corresponds to a circle in the scatter plot.\n",
    "Click on a circle in the scatter plot to view the detailed\n",
    "curves associated with that ranking."
   ]
  },
  {
   "cell_type": "code",
   "execution_count": 4,
   "metadata": {},
   "outputs": [],
   "source": [
    "# generate all possible rankings where `chosen` of `number` are correct answers.\n",
    "import itertools\n",
    "rankings = {}\n",
    "number = 16\n",
    "chosen = 6\n",
    "if 0:\n",
    "    number = 18\n",
    "    chosen = 5\n",
    "choose7 = itertools.combinations(range(number), chosen)\n",
    "limit = 200000\n",
    "for (k, x) in enumerate(choose7):\n",
    "    if limit and k > limit:\n",
    "        break\n",
    "    y = [False] * number\n",
    "    for i in x:\n",
    "        y[i] = True\n",
    "    #print (x, y)\n",
    "    rankings[k] = Ranking(y)\n",
    "#rankings.keys()"
   ]
  },
  {
   "cell_type": "code",
   "execution_count": 5,
   "metadata": {
    "scrolled": false
   },
   "outputs": [
    {
     "data": {
      "application/vnd.jupyter.widget-view+json": {
       "model_id": "2849c9846c0c4b1298d66d0778bb7424",
       "version_major": 2,
       "version_minor": 0
      },
      "text/plain": [
       "VGFiKGNoaWxkcmVuPShWQm94KGNoaWxkcmVuPShTbmFwc2hvdENhbnZhcyhzdGF0dXM9dSdOb3QgeWV0IHJlbmRlcmVkJyksIEpTUHJveHlXaWRnZXQoc3RhdHVzPXUnTm90IHlldCByZW5kZXLigKY=\n"
      ]
     },
     "metadata": {},
     "output_type": "display_data"
    }
   ],
   "source": [
    "def scatter_plotter(rankings):\n",
    "    import random\n",
    "    demo = dual_canvas.SnapshotCanvas(\"prscatter.png\", width=820, height=620)\n",
    "    pr_frame = demo.frame_region(0, 0, 300, 300, -0.2, -0.2, 1.2, 1.2)\n",
    "    scatter_frame = demo.frame_region(320, 0, 620, 300, -0.2, -0.2, 1.2, 1.2)\n",
    "    scatter_frame.lower_left_axes(0, 0, 1, 1)\n",
    "    scatter_frame.text(0.5,-0.2,\"aupr\",color=\"red\", align=\"center\")\n",
    "    scatter_frame.text(-0.2,0.5,\"auroc\",color=\"magenta\", degrees=90, align=\"center\")\n",
    "    scatter_frame.line(0,0,1,1,color=\"green\")\n",
    "    h = scatter_frame.text(0.2, 1, rankings[len(rankings)-1].str, name=True)\n",
    "    stats = scatter_frame.text(0.2, 1.1, \"Scatter plot\", name=True)\n",
    "    rankings[len(rankings)-1].plot_on_frame(pr_frame)\n",
    "    order = list(rankings.values())\n",
    "    random.shuffle(order)\n",
    "    for r in order:\n",
    "        c = scatter_frame.circle(x=r.aupr, y=r.auroc, color=\"rgba(0,125,254,0.3)\", r=5, name=True)\n",
    "        def plot_for_circle(c=c, r=r):\n",
    "            r.plot_on_frame(pr_frame)\n",
    "        c.on(\"click\", plot_for_circle)\n",
    "        def hover_circle(c=c, r=r):\n",
    "            h.change(text=\"ranking %s\" % (r.str,))\n",
    "            stats.change(text=\"aupr=%4.2f, auroc=%4.2f\" % (r.aupr, r.auroc))\n",
    "        c.on(\"mouseover\", hover_circle)\n",
    "    demo.fit(margin=40)\n",
    "    demo.pr_frame = pr_frame\n",
    "    demo.scatter_frame = scatter_frame\n",
    "    return demo\n",
    "    \n",
    "d = scatter_plotter(rankings)\n",
    "#d.element.invisible_canvas.show()\n",
    "d.display_all()"
   ]
  },
  {
   "cell_type": "markdown",
   "metadata": {},
   "source": [
    "Click on the blue circles on the right to compare different rankings by AUPR and AUROC.\n",
    "\n",
    "The most interesting comparisons diverge strongly from the green 45 degree line."
   ]
  },
  {
   "cell_type": "code",
   "execution_count": null,
   "metadata": {},
   "outputs": [],
   "source": []
  }
 ],
 "metadata": {
  "kernelspec": {
   "display_name": "Python 2",
   "language": "python",
   "name": "python2"
  },
  "language_info": {
   "codemirror_mode": {
    "name": "ipython",
    "version": 2
   },
   "file_extension": ".py",
   "mimetype": "text/x-python",
   "name": "python",
   "nbconvert_exporter": "python",
   "pygments_lexer": "ipython2",
   "version": "2.7.15"
  },
  "widgets": {
   "application/vnd.jupyter.widget-state+json": {
    "state": {
     "119cdbb5debe4bb6a7db3282c870bc49": {
      "model_module": "@jupyter-widgets/controls",
      "model_module_version": "1.0.0",
      "model_name": "TabModel",
      "state": {
       "_titles": {
        "0": "Canvas",
        "1": "Snapshot"
       },
       "children": [
        "IPY_MODEL_c6757c8e62db4cc7ae7fc08b091f5b0b",
        "IPY_MODEL_9292c434bd6049c7b0573f76b078481a"
       ],
       "layout": "IPY_MODEL_a45b62428d074ac7945e0d699a8b9584",
       "selected_index": 1
      }
     },
     "13fa8e5ba54a443ab636dd69bb764e43": {
      "model_module": "jp_proxy_widget",
      "model_module_version": "^0.3.4",
      "model_name": "JSProxyModel",
      "state": {
       "_model_module_version": "^0.3.4",
       "_send_counter": 2,
       "_view_module_version": "^0.3.4",
       "error_msg": "No error",
       "layout": "IPY_MODEL_26eb5515efb947788fa3d16e74fabb2c",
       "rendered": true,
       "status": "call back to <function callback_function at 0x10c7710c8>"
      }
     },
     "15f0f90d4cd64d91a62d7e8239cb7d00": {
      "model_module": "jp_proxy_widget",
      "model_module_version": "^0.3.4",
      "model_name": "JSProxyModel",
      "state": {
       "_model_module_version": "^0.3.4",
       "_send_counter": 2066,
       "_view_module_version": "^0.3.4",
       "error_msg": "No error",
       "layout": "IPY_MODEL_53a714b3e80246ef910643ab65c1f8e6",
       "rendered": true,
       "status": "Got results."
      }
     },
     "18e906632826449dbad36d8fed095e07": {
      "model_module": "@jupyter-widgets/base",
      "model_module_version": "1.0.0",
      "model_name": "LayoutModel",
      "state": {}
     },
     "196a14a59904427dab4b47bd106be059": {
      "model_module": "@jupyter-widgets/base",
      "model_module_version": "1.0.0",
      "model_name": "LayoutModel",
      "state": {}
     },
     "26eb5515efb947788fa3d16e74fabb2c": {
      "model_module": "@jupyter-widgets/base",
      "model_module_version": "1.0.0",
      "model_name": "LayoutModel",
      "state": {}
     },
     "3d3c031c62534d61bea4a92f1bb0a49f": {
      "model_module": "@jupyter-widgets/controls",
      "model_module_version": "1.0.0",
      "model_name": "HTMLModel",
      "state": {
       "layout": "IPY_MODEL_cae2341b5773401c9d49e67472f2b099",
       "style": "IPY_MODEL_b50a0298bfe14ffe99a4f5c6472623b8",
       "value": "<img src=\"prscatter.png?id=snapshot_id_5_1539884011385\" id=\"snapshot_id_5_1539884011385\"/>\n <div id=\"snapshot_id_6_1539884011385\">prscatter.png</div>"
      }
     },
     "46ca094c67f245ccb2b5504e1730ef9f": {
      "model_module": "@jupyter-widgets/controls",
      "model_module_version": "1.0.0",
      "model_name": "VBoxModel",
      "state": {
       "children": [
        "IPY_MODEL_15f0f90d4cd64d91a62d7e8239cb7d00",
        "IPY_MODEL_d0f3b632b83747a093c3de3c6f7fad46"
       ],
       "layout": "IPY_MODEL_b2e16db5369544f8a5c6030da478fd60"
      }
     },
     "4b95c6c27074485a96456842dc56349e": {
      "model_module": "@jupyter-widgets/base",
      "model_module_version": "1.0.0",
      "model_name": "LayoutModel",
      "state": {}
     },
     "50397df5eb614114af815dbe27aebd4e": {
      "model_module": "@jupyter-widgets/base",
      "model_module_version": "1.0.0",
      "model_name": "LayoutModel",
      "state": {}
     },
     "50fd104b0595400eb60a2df3806c9aca": {
      "model_module": "@jupyter-widgets/base",
      "model_module_version": "1.0.0",
      "model_name": "LayoutModel",
      "state": {}
     },
     "53a714b3e80246ef910643ab65c1f8e6": {
      "model_module": "@jupyter-widgets/base",
      "model_module_version": "1.0.0",
      "model_name": "LayoutModel",
      "state": {}
     },
     "549cdc18b60749f79e8bda8c6717afbf": {
      "model_module": "@jupyter-widgets/base",
      "model_module_version": "1.0.0",
      "model_name": "LayoutModel",
      "state": {}
     },
     "5bcae3421f264479a23bc0a7e9daa4d6": {
      "model_module": "@jupyter-widgets/controls",
      "model_module_version": "1.0.0",
      "model_name": "DescriptionStyleModel",
      "state": {
       "description_width": ""
      }
     },
     "626a4dbe01ee4485826070d39f8a3c3c": {
      "model_module": "@jupyter-widgets/base",
      "model_module_version": "1.0.0",
      "model_name": "LayoutModel",
      "state": {}
     },
     "6b7771bfde824e2ba2185482816743e7": {
      "model_module": "@jupyter-widgets/controls",
      "model_module_version": "1.0.0",
      "model_name": "VBoxModel",
      "state": {
       "children": [
        "IPY_MODEL_a61a37caae9a41928acaa87f18bf6b7a",
        "IPY_MODEL_78c58a774f10487788116a2bd7a1f8de"
       ],
       "layout": "IPY_MODEL_70a795914f6b411482cfb42d0a80ba0f"
      }
     },
     "6ef32ac83d6746369cd7bc2712fa8416": {
      "model_module": "@jupyter-widgets/controls",
      "model_module_version": "1.0.0",
      "model_name": "TabModel",
      "state": {
       "_titles": {
        "0": "Canvas",
        "1": "Snapshot"
       },
       "children": [
        "IPY_MODEL_46ca094c67f245ccb2b5504e1730ef9f",
        "IPY_MODEL_a78db34189b04b048d2a79e7bd92142e"
       ],
       "layout": "IPY_MODEL_18e906632826449dbad36d8fed095e07"
      }
     },
     "6f9bc61f8db1466680dc006e0b891890": {
      "model_module": "@jupyter-widgets/controls",
      "model_module_version": "1.0.0",
      "model_name": "TabModel",
      "state": {
       "_titles": {
        "0": "Canvas",
        "1": "Snapshot"
       },
       "children": [
        "IPY_MODEL_7b813a6dfa2042889feaae1161f8bf26",
        "IPY_MODEL_cbbb6ed4a7fe48519977b86130689f93"
       ],
       "layout": "IPY_MODEL_938d932467094b849671099d5bf283ba"
      }
     },
     "707ce5bb87b54d84ba67681a2849d3a7": {
      "model_module": "@jupyter-widgets/controls",
      "model_module_version": "1.0.0",
      "model_name": "DescriptionStyleModel",
      "state": {
       "description_width": ""
      }
     },
     "70a795914f6b411482cfb42d0a80ba0f": {
      "model_module": "@jupyter-widgets/base",
      "model_module_version": "1.0.0",
      "model_name": "LayoutModel",
      "state": {}
     },
     "758982b0a1a045f5b006b44dcc976f6e": {
      "model_module": "@jupyter-widgets/controls",
      "model_module_version": "1.0.0",
      "model_name": "DescriptionStyleModel",
      "state": {
       "description_width": ""
      }
     },
     "78c58a774f10487788116a2bd7a1f8de": {
      "model_module": "jp_proxy_widget",
      "model_module_version": "^0.3.4",
      "model_name": "JSProxyModel",
      "state": {
       "_model_module_version": "^0.3.4",
       "_send_counter": 2,
       "_view_module_version": "^0.3.4",
       "error_msg": "No error",
       "layout": "IPY_MODEL_50fd104b0595400eb60a2df3806c9aca",
       "rendered": true,
       "status": "Got results."
      }
     },
     "7b07a94e803c494b9b4bcf6981249a36": {
      "model_module": "@jupyter-widgets/controls",
      "model_module_version": "1.0.0",
      "model_name": "TabModel",
      "state": {
       "_titles": {
        "0": "Canvas",
        "1": "Snapshot"
       },
       "children": [
        "IPY_MODEL_6b7771bfde824e2ba2185482816743e7",
        "IPY_MODEL_3d3c031c62534d61bea4a92f1bb0a49f"
       ],
       "layout": "IPY_MODEL_549cdc18b60749f79e8bda8c6717afbf"
      }
     },
     "7b813a6dfa2042889feaae1161f8bf26": {
      "model_module": "@jupyter-widgets/controls",
      "model_module_version": "1.0.0",
      "model_name": "VBoxModel",
      "state": {
       "children": [
        "IPY_MODEL_91855a31ccdc4aa69beef8cd9de8b855",
        "IPY_MODEL_c5fd0f984d3f4a349b7573a7a56e4b5e"
       ],
       "layout": "IPY_MODEL_c910ce6341ad4718aa3ff65aac2bd7be"
      }
     },
     "84e72c01ea9f462981537ec7786c2dda": {
      "model_module": "@jupyter-widgets/base",
      "model_module_version": "1.0.0",
      "model_name": "LayoutModel",
      "state": {}
     },
     "882033072d0645f2b747a3e2281b83da": {
      "model_module": "@jupyter-widgets/base",
      "model_module_version": "1.0.0",
      "model_name": "LayoutModel",
      "state": {}
     },
     "91855a31ccdc4aa69beef8cd9de8b855": {
      "model_module": "jp_proxy_widget",
      "model_module_version": "^0.3.4",
      "model_name": "JSProxyModel",
      "state": {
       "_model_module_version": "^0.3.4",
       "_send_counter": 19,
       "_view_module_version": "^0.3.4",
       "error_msg": "No error",
       "layout": "IPY_MODEL_4b95c6c27074485a96456842dc56349e",
       "rendered": true,
       "status": "Got results."
      }
     },
     "9292c434bd6049c7b0573f76b078481a": {
      "model_module": "@jupyter-widgets/controls",
      "model_module_version": "1.0.0",
      "model_name": "HTMLModel",
      "state": {
       "layout": "IPY_MODEL_84e72c01ea9f462981537ec7786c2dda",
       "style": "IPY_MODEL_707ce5bb87b54d84ba67681a2849d3a7",
       "value": "<img src=\"prscatter.png?id=snapshot_id_7_1539884037076\" id=\"snapshot_id_7_1539884037076\"/>\n <div id=\"snapshot_id_8_1539884037076\">prscatter.png</div>"
      }
     },
     "938d932467094b849671099d5bf283ba": {
      "model_module": "@jupyter-widgets/base",
      "model_module_version": "1.0.0",
      "model_name": "LayoutModel",
      "state": {}
     },
     "95c5536e49d74f4aa6ce938a7de1f34d": {
      "model_module": "@jupyter-widgets/base",
      "model_module_version": "1.0.0",
      "model_name": "LayoutModel",
      "state": {}
     },
     "a45b62428d074ac7945e0d699a8b9584": {
      "model_module": "@jupyter-widgets/base",
      "model_module_version": "1.0.0",
      "model_name": "LayoutModel",
      "state": {}
     },
     "a61a37caae9a41928acaa87f18bf6b7a": {
      "model_module": "jp_proxy_widget",
      "model_module_version": "^0.3.4",
      "model_name": "JSProxyModel",
      "state": {
       "_model_module_version": "^0.3.4",
       "_send_counter": 2071,
       "_view_module_version": "^0.3.4",
       "error_msg": "No error",
       "layout": "IPY_MODEL_50397df5eb614114af815dbe27aebd4e",
       "rendered": true,
       "status": "Got results."
      }
     },
     "a6bca3b1b790477497cb154130134da7": {
      "model_module": "@jupyter-widgets/base",
      "model_module_version": "1.0.0",
      "model_name": "LayoutModel",
      "state": {}
     },
     "a78db34189b04b048d2a79e7bd92142e": {
      "model_module": "@jupyter-widgets/controls",
      "model_module_version": "1.0.0",
      "model_name": "HTMLModel",
      "state": {
       "layout": "IPY_MODEL_95c5536e49d74f4aa6ce938a7de1f34d",
       "style": "IPY_MODEL_758982b0a1a045f5b006b44dcc976f6e",
       "value": "<img src=\"prscatter.png?id=snapshot_id_3_1539883996500\" id=\"snapshot_id_3_1539883996500\"/>\n <div id=\"snapshot_id_4_1539883996500\">prscatter.png</div>"
      }
     },
     "b2e16db5369544f8a5c6030da478fd60": {
      "model_module": "@jupyter-widgets/base",
      "model_module_version": "1.0.0",
      "model_name": "LayoutModel",
      "state": {}
     },
     "b50a0298bfe14ffe99a4f5c6472623b8": {
      "model_module": "@jupyter-widgets/controls",
      "model_module_version": "1.0.0",
      "model_name": "DescriptionStyleModel",
      "state": {
       "description_width": ""
      }
     },
     "c5fd0f984d3f4a349b7573a7a56e4b5e": {
      "model_module": "jp_proxy_widget",
      "model_module_version": "^0.3.4",
      "model_name": "JSProxyModel",
      "state": {
       "_model_module_version": "^0.3.4",
       "_send_counter": 2,
       "_view_module_version": "^0.3.4",
       "error_msg": "No error",
       "layout": "IPY_MODEL_cab6948027564e5e8ac5b465acbadf73",
       "rendered": true,
       "status": "Got results."
      }
     },
     "c6757c8e62db4cc7ae7fc08b091f5b0b": {
      "model_module": "@jupyter-widgets/controls",
      "model_module_version": "1.0.0",
      "model_name": "VBoxModel",
      "state": {
       "children": [
        "IPY_MODEL_df484b611b954505b778b8fa44992498",
        "IPY_MODEL_13fa8e5ba54a443ab636dd69bb764e43"
       ],
       "layout": "IPY_MODEL_626a4dbe01ee4485826070d39f8a3c3c"
      }
     },
     "c910ce6341ad4718aa3ff65aac2bd7be": {
      "model_module": "@jupyter-widgets/base",
      "model_module_version": "1.0.0",
      "model_name": "LayoutModel",
      "state": {}
     },
     "cab6948027564e5e8ac5b465acbadf73": {
      "model_module": "@jupyter-widgets/base",
      "model_module_version": "1.0.0",
      "model_name": "LayoutModel",
      "state": {}
     },
     "cae2341b5773401c9d49e67472f2b099": {
      "model_module": "@jupyter-widgets/base",
      "model_module_version": "1.0.0",
      "model_name": "LayoutModel",
      "state": {}
     },
     "cbbb6ed4a7fe48519977b86130689f93": {
      "model_module": "@jupyter-widgets/controls",
      "model_module_version": "1.0.0",
      "model_name": "HTMLModel",
      "state": {
       "layout": "IPY_MODEL_a6bca3b1b790477497cb154130134da7",
       "style": "IPY_MODEL_5bcae3421f264479a23bc0a7e9daa4d6",
       "value": "<img src=\"prplot.png?id=snapshot_id_1_1539883996374\" id=\"snapshot_id_1_1539883996374\"/>\n <div id=\"snapshot_id_2_1539883996374\">prplot.png</div>"
      }
     },
     "d0f3b632b83747a093c3de3c6f7fad46": {
      "model_module": "jp_proxy_widget",
      "model_module_version": "^0.3.4",
      "model_name": "JSProxyModel",
      "state": {
       "_model_module_version": "^0.3.4",
       "_send_counter": 2,
       "_view_module_version": "^0.3.4",
       "error_msg": "No error",
       "layout": "IPY_MODEL_882033072d0645f2b747a3e2281b83da",
       "rendered": true,
       "status": "Got results."
      }
     },
     "df484b611b954505b778b8fa44992498": {
      "model_module": "jp_proxy_widget",
      "model_module_version": "^0.3.4",
      "model_name": "JSProxyModel",
      "state": {
       "_model_module_version": "^0.3.4",
       "_send_counter": 5189,
       "_view_module_version": "^0.3.4",
       "error_msg": "No error",
       "layout": "IPY_MODEL_196a14a59904427dab4b47bd106be059",
       "rendered": true,
       "status": "Got results."
      }
     }
    },
    "version_major": 2,
    "version_minor": 0
   }
  }
 },
 "nbformat": 4,
 "nbformat_minor": 2
}
