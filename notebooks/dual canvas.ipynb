{
 "cells": [
  {
   "cell_type": "code",
   "execution_count": null,
   "metadata": {
    "collapsed": false,
    "deletable": true,
    "editable": true
   },
   "outputs": [],
   "source": [
    "import jp_proxy_widget\n",
    "from jp_doodle import doodle_files\n",
    "from IPython.display import HTML, display\n",
    "svg_fn1 = \"js/canvas_2d_widget_helper.js\"\n",
    "svg_fn2 = \"js/dual_canvas_helper.js\"\n",
    "svg_paths = [doodle_files.vendor_path(svg_fn) for svg_fn in [svg_fn1, svg_fn2]]\n",
    "#print open(svg_path).read()"
   ]
  },
  {
   "cell_type": "code",
   "execution_count": null,
   "metadata": {
    "collapsed": false,
    "deletable": true,
    "editable": true
   },
   "outputs": [],
   "source": [
    "canvasdemo0 = jp_proxy_widget.JSProxyWidget()"
   ]
  },
  {
   "cell_type": "code",
   "execution_count": null,
   "metadata": {
    "collapsed": false,
    "deletable": true,
    "editable": true
   },
   "outputs": [],
   "source": [
    "canvasdemo0.load_js_files(svg_paths)\n",
    "\n",
    "n0 = 273\n",
    "def hc(n):\n",
    "    return \"#\" + hex(n)[2:]\n",
    "def target():\n",
    "    radius = 100\n",
    "    colorn = n0\n",
    "    while radius>5:\n",
    "        colorn = colorn + 13\n",
    "        opt = {\"x\":120, \"y\":140, \"r\":radius, \"color\":hc(colorn)}\n",
    "        canvasdemo0.element.circle(opt)\n",
    "        radius = radius * 0.8\n",
    "#target()\n",
    "\n",
    "canvasdemo0.js_init(\"\"\"\n",
    "debugger;\n",
    "element.dual_canvas_helper.example(element, 0, 0, 1, 1);\n",
    "//element.visible_canvas.canvas_translate_scale = {x: 0, y: 0, w: 1, h: 1};\n",
    "//element.visible_canvas.reset_canvas()\n",
    "//element.dual_canvas_helper.example(element, 50, 20, 0.6, 0.7);\n",
    "//element.invisible_canvas.show();\n",
    "\"\"\")"
   ]
  },
  {
   "cell_type": "code",
   "execution_count": null,
   "metadata": {
    "collapsed": false,
    "deletable": true,
    "editable": true
   },
   "outputs": [],
   "source": [
    "canvasdemo0"
   ]
  },
  {
   "cell_type": "code",
   "execution_count": null,
   "metadata": {
    "collapsed": false,
    "deletable": true,
    "editable": true
   },
   "outputs": [],
   "source": [
    "print (\"\\u2588\")\n",
    "canvasdemo0.element.text({\"text\": \"\\u2588 abc\", \"x\":10, \"y\":10, \"color\":\"rgba(123,123,123,123)\"})"
   ]
  },
  {
   "cell_type": "code",
   "execution_count": null,
   "metadata": {
    "collapsed": false,
    "deletable": true,
    "editable": true
   },
   "outputs": [],
   "source": [
    "canvasdemo0.element.circle({\"name\": \"another circle\", \"x\":-20, \"y\":-20, \"r\":100, \"color\":\"#333\"});\n",
    "canvasdemo0.element.circle(dict(name=\"circle again\", x=100, y=50, r=13, color=\"#ff4\"));\n",
    "\n",
    "canvasdemo0.element.fit()"
   ]
  },
  {
   "cell_type": "code",
   "execution_count": null,
   "metadata": {
    "collapsed": false,
    "deletable": true,
    "editable": true
   },
   "outputs": [],
   "source": []
  },
  {
   "cell_type": "code",
   "execution_count": null,
   "metadata": {
    "collapsed": false,
    "deletable": true,
    "editable": true
   },
   "outputs": [],
   "source": [
    "canvasdemo1 = jp_proxy_widget.JSProxyWidget()\n",
    "canvasdemo1.js_init(\"\"\"\n",
    "debugger;\n",
    "element.empty();\n",
    "var config = {\n",
    "            //width: 400,\n",
    "            //height: 200,\n",
    "            translate_scale: {x: -80, y:420, w:1, h:1.1},\n",
    "        }\n",
    "element.dual_canvas_helper(config);\n",
    "element.visible_canvas.show_debug_bbox();\n",
    "element.circle({name: \"green circle\", x:100, y:50, r:20, color:\"green\"});\n",
    "element.circle({name: \"blue circle\", x:110, y:60, r:20, color:\"blue\"});\n",
    "element.circle({name: \"red circle\", x:120, y:40, r:20, color:\"red\"});\n",
    "element.visible_canvas.show_debug_bbox(true);\n",
    "element.fit();\n",
    "var info = $(\"<div>hello</div>\").appendTo(element);\n",
    "element.visible_canvas.canvas.mousemove(function (e) {\n",
    "            var vc = element.visible_canvas\n",
    "            //var color = element.event_color(e);\n",
    "            var ploc = vc.event_pixel_location(e);\n",
    "            var cloc = vc.event_canvas_location(e);\n",
    "            var mloc = vc.event_model_location(e);\n",
    "            info.html(\"<div>mouse move: \" + \n",
    "                \" pixel=\" +ploc.x+ \",\" + ploc.y + \n",
    "                \" canvas=\" +cloc.x+ \",\" + cloc.y + \n",
    "                \" model=\" +mloc.x+ \",\" + mloc.y + \n",
    "                \"</div>\");\n",
    "        });\n",
    "\"\"\")"
   ]
  },
  {
   "cell_type": "code",
   "execution_count": null,
   "metadata": {
    "collapsed": false,
    "deletable": true,
    "editable": true
   },
   "outputs": [],
   "source": [
    "canvasdemo1"
   ]
  },
  {
   "cell_type": "code",
   "execution_count": null,
   "metadata": {
    "collapsed": false,
    "deletable": true,
    "editable": true
   },
   "outputs": [],
   "source": [
    "canvasdemo1.element.circle({\"x\":100, \"y\":450, \"r\":10, \"color\":\"red\"});"
   ]
  },
  {
   "cell_type": "code",
   "execution_count": null,
   "metadata": {
    "collapsed": false,
    "deletable": true,
    "editable": true
   },
   "outputs": [],
   "source": [
    "canvasdemo2 = jp_proxy_widget.JSProxyWidget()\n",
    "\n",
    "canvasdemo2.js_init(\"\"\"\n",
    "debugger;\n",
    "element.dual_canvas_helper.frame_example(element);\n",
    "//element.invisible_canvas.show();\n",
    "\"\"\")\n",
    "\n",
    "canvasdemo2"
   ]
  },
  {
   "cell_type": "code",
   "execution_count": null,
   "metadata": {
    "collapsed": false,
    "deletable": true,
    "editable": true
   },
   "outputs": [],
   "source": [
    "canvasdemo1.js_debug()"
   ]
  },
  {
   "cell_type": "code",
   "execution_count": null,
   "metadata": {
    "collapsed": true,
    "deletable": true,
    "editable": true
   },
   "outputs": [],
   "source": []
  }
 ],
 "metadata": {
  "kernelspec": {
   "display_name": "Python 3",
   "language": "python",
   "name": "python3"
  },
  "language_info": {
   "codemirror_mode": {
    "name": "ipython",
    "version": 3
   },
   "file_extension": ".py",
   "mimetype": "text/x-python",
   "name": "python",
   "nbconvert_exporter": "python",
   "pygments_lexer": "ipython3",
   "version": "3.6.3"
  }
 },
 "nbformat": 4,
 "nbformat_minor": 2
}
