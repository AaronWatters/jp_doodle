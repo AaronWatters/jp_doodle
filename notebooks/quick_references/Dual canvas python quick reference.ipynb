{
 "cells": [
  {
   "cell_type": "markdown",
   "metadata": {},
   "source": [
    "# `dual_canvas` Python quick reference.\n",
    "\n",
    "This document is part of the \n",
    "<a href=\"https://github.com/AaronWatters/jp_doodle\">https://github.com/AaronWatters/jp_doodle</a>\n",
    "package.\n",
    "It provides a quick reference\n",
    "to using the `dual_canvas` object API to build visualizations in\n",
    "interactive Jupyter widgets.\n",
    "\n",
    "## Part 1: Creating canvas widgets and frames in widgets and coordinates\n",
    "\n",
    "To create and use the widgets you need to import the `dual_canvas` module in an IPython notebook\n",
    "and you probably also will want to use `IPython.display.display`."
   ]
  },
  {
   "cell_type": "code",
   "execution_count": 1,
   "metadata": {},
   "outputs": [],
   "source": [
    "from jp_doodle import dual_canvas\n",
    "from IPython.display import display\n",
    "\n",
    "import qr_helper as eg    # some helpers and tricks for embedding images\n",
    "eg.DO_EMBEDDINGS = False  # flag indicates whether to embed images in the notebook or not (for format conversions)"
   ]
  },
  {
   "cell_type": "markdown",
   "metadata": {},
   "source": [
    "**Note:** In the following discussion\n",
    "we use the `eg.show(demo)` helper to optionally embed an image into\n",
    "this notebook in order to facilitate file format conversion.  Please replace\n",
    "this helper with `display(demo)` when you emulate these code fragments.\n",
    "\n",
    "### 1.1 Creating a `dual_canvas.DualCanvasWidget`\n",
    "\n",
    "A dual canvas is a space on the IPython notebook to draw on using\n",
    "drawing operations specified using (x,y) coordinates.\n",
    "A newly created dual canvas initially has width and height given in device pixels.\n",
    "The `dual_canvas.DualCanvasWidget`\n",
    "constructor may optionally specify a default font.  The initial lower left corner is at (0,0)\n",
    "and the upper right corner is at (width, height)"
   ]
  },
  {
   "cell_type": "code",
   "execution_count": 2,
   "metadata": {},
   "outputs": [
    {
     "data": {
      "application/vnd.jupyter.widget-view+json": {
       "model_id": "d31c8cda4a794a1c9e6381c8efe19b74",
       "version_major": 2,
       "version_minor": 0
      },
      "text/plain": [
       "DualCanvasWidget(status='Not yet rendered')"
      ]
     },
     "metadata": {},
     "output_type": "display_data"
    }
   ],
   "source": [
    "def make_a_canvas():\n",
    "    \n",
    "    # Create a canvas with pixel coordinates (0...420, 0...120)\n",
    "    demo = dual_canvas.DualCanvasWidget(width=420, height=120, font=\"italic 12px Courier\",)\n",
    "    \n",
    "    # Put some reference marks on the canvas to illustrate the coordinate space.\n",
    "    demo.text(x=0, y=0, text=\"0,0\", color=\"red\", background=\"yellow\", )\n",
    "    demo.text(x=410, y=110, text=\"410,110\", align=\"right\", color=\"red\", background=\"yellow\", )\n",
    "    demo.lower_left_axes(min_x=10, min_y=10, max_x=410, \n",
    "                         max_y=110, x_anchor=100, y_anchor=40, max_tick_count=7, color=\"blue\")\n",
    "    eg.show(demo)  # replace with display(demo)\n",
    "\n",
    "make_a_canvas()"
   ]
  },
  {
   "cell_type": "markdown",
   "metadata": {},
   "source": [
    "### 1.2 Create a reference frame inside a dual canvas\n",
    "\n",
    "Pixel coordinates are rarely the most convenient coordinate systems to\n",
    "use for scientific visualizations.  Reference frames allow drawing using\n",
    "transformed coordinates.  The `frame_region` method creates a frame\n",
    "by mapping reference points in the pixel space to reference\n",
    "points in the reference frame coordinate space.  Objects can then\n",
    "be drawn on the reference frame and the underlying coordinates will be\n",
    "converted automatically."
   ]
  },
  {
   "cell_type": "code",
   "execution_count": 3,
   "metadata": {},
   "outputs": [
    {
     "data": {
      "application/vnd.jupyter.widget-view+json": {
       "model_id": "30450bdb55aa46ac8a2492f25ade4aa5",
       "version_major": 2,
       "version_minor": 0
      },
      "text/plain": [
       "DualCanvasWidget(status='Not yet rendered')"
      ]
     },
     "metadata": {},
     "output_type": "display_data"
    }
   ],
   "source": [
    "def make_a_reference_frame():\n",
    "    demo = dual_canvas.DualCanvasWidget(width=420, height=120)\n",
    "    \n",
    "    # Map pixel coords (10,10) and (400,100)\n",
    "    #  to frame coords (-1, 0) and (1, 2)\n",
    "    frame = demo.frame_region(\n",
    "        minx=10, miny=10, maxx=400, maxy=100,\n",
    "        frame_minx=-1, frame_miny=0, frame_maxx=1, frame_maxy=2,\n",
    "    )\n",
    "    # Put some reference marks on the frame to indicate the coordinates.\n",
    "    frame.text(x=-1, y=0, text=\"-1,0\", color=\"red\", background=\"yellow\", )\n",
    "    frame.text(x=1, y=2, text=\"1,2\", align=\"right\", color=\"red\", background=\"yellow\", )\n",
    "    frame.lower_left_axes(min_x=-1, min_y=0, max_x=1,\n",
    "                         max_y=2, x_anchor=0, y_anchor=1, max_tick_count=7, color=\"blue\")\n",
    "    \n",
    "    # also draw axes in canvas/pixel coordinates\n",
    "    demo.lower_left_axes(min_x=10, min_y=10, max_x=410,\n",
    "                         max_y=110, x_anchor=100, y_anchor=40, max_tick_count=7, color=\"pink\")\n",
    "    eg.show(demo)  # replace with display(demo)\n",
    "\n",
    "make_a_reference_frame()"
   ]
  },
  {
   "cell_type": "markdown",
   "metadata": {},
   "source": [
    "### 1.3 Create two reference frames inside a dual canvas\n",
    "\n",
    "It is possible to create many reference frames inside a dual canvas each with a different\n",
    "coordinate transform."
   ]
  },
  {
   "cell_type": "code",
   "execution_count": 4,
   "metadata": {},
   "outputs": [
    {
     "data": {
      "application/vnd.jupyter.widget-view+json": {
       "model_id": "52fd0ed15cc741d19ad59ce508be6290",
       "version_major": 2,
       "version_minor": 0
      },
      "text/plain": [
       "DualCanvasWidget(status='Not yet rendered')"
      ]
     },
     "metadata": {},
     "output_type": "display_data"
    }
   ],
   "source": [
    "def make_2_reference_frames():\n",
    "    demo = dual_canvas.DualCanvasWidget(width=420, height=120)\n",
    "    # draw pink axes in canvas/pixel coordinates behind the other figures.\n",
    "    demo.lower_left_axes(min_x=10, min_y=10, max_x=410,\n",
    "                         max_y=110, x_anchor=40, y_anchor=80, max_tick_count=7, color=\"pink\")\n",
    "    \n",
    "    # Map pixel coords (10,10) and (190,100)\n",
    "    #  to frame1 coords (-1, 0) and (1, 2)\n",
    "    frame1 = demo.frame_region(\n",
    "        minx=10, miny=10, maxx=190, maxy=100,\n",
    "        frame_minx=-1, frame_miny=0, frame_maxx=1, frame_maxy=2,\n",
    "    )\n",
    "    # Put some reference marks on the frame1 to indicate the coordinates.\n",
    "    frame1.text(x=-1, y=1.8, text=\"frame1\", color=\"blue\", background=\"white\", )\n",
    "    frame1.text(x=-1, y=0, text=\"-1,0\", color=\"red\", background=\"yellow\", )\n",
    "    frame1.text(x=1, y=2, text=\"1,2\", align=\"right\", color=\"red\", background=\"yellow\", )\n",
    "    frame1.lower_left_axes(min_x=-1, min_y=0, max_x=1,\n",
    "                         max_y=2, x_anchor=0, y_anchor=1, max_tick_count=7, color=\"blue\")\n",
    "                         \n",
    "    # Map pixel coords (210,10) and (400,100)\n",
    "    #  to frame coords (-1, 0) and (1, 2)\n",
    "    frame2 = demo.frame_region(\n",
    "        minx=210, miny=10, maxx=400, maxy=100,\n",
    "        frame_minx=-1, frame_miny=0, frame_maxx=1, frame_maxy=2,\n",
    "    )\n",
    "    # Put some reference marks on the frame2 to indicate the coordinates.\n",
    "    frame2.text(x=-1, y=1.8, text=\"frame2\", color=\"green\", background=\"white\", )\n",
    "    frame2.text(x=-1, y=0, text=\"-1,0\", color=\"white\", background=\"magenta\", )\n",
    "    frame2.text(x=1, y=2, text=\"1,2\", align=\"right\", color=\"white\", background=\"magenta\", )\n",
    "    frame2.lower_left_axes(min_x=-1, min_y=0, max_x=1,\n",
    "                         max_y=2, x_anchor=0, y_anchor=1, max_tick_count=7, color=\"green\")\n",
    "                         \n",
    "    eg.show(demo)  # replace with display(demo)\n",
    "\n",
    "make_2_reference_frames()"
   ]
  },
  {
   "cell_type": "markdown",
   "metadata": {},
   "source": [
    "### 1.4 Get a simplified frame using `swatch`\n",
    "\n",
    "The `swatch` convenience helper is useful to create square canvases with a single frame\n",
    "where the X and Y coordinates have the same scale."
   ]
  },
  {
   "cell_type": "code",
   "execution_count": 5,
   "metadata": {},
   "outputs": [
    {
     "data": {
      "application/vnd.jupyter.widget-view+json": {
       "model_id": "e302a7cabf2b41e58b02e384c8354102",
       "version_major": 2,
       "version_minor": 0
      },
      "text/plain": [
       "DualCanvasWidget(status='Not yet rendered')"
      ]
     },
     "metadata": {},
     "output_type": "display_data"
    }
   ],
   "source": [
    "def make_a_swatch():\n",
    "    \n",
    "    # Create a frame with pixel coordinates 200 by 200 using swatch:\n",
    "    frame = dual_canvas.swatch(\n",
    "        pixels=200,       # width and height of 200 pixels\n",
    "        model_height=4.5, # width and height in frame coordinates\n",
    "        cx=4,\n",
    "        cy=-3,            # center of canvas at (4, -3) in frame coordinates (default (0, 0))\n",
    "        snapfile=None,    # if this is set to a file path the widget will be a snapshot widget (default None)\n",
    "        show=False,       # automatically display the widget if true (default True)\n",
    "    )\n",
    "    # Put some reference marks on the canvas to indicate the coordinates.\n",
    "    frame.text(x=2, y=-5, text=\"2,-5\", color=\"red\", background=\"yellow\", )\n",
    "    frame.text(x=6, y=-1, text=\"6,-1\", align=\"right\", color=\"red\", background=\"yellow\", )\n",
    "    frame.lower_left_axes(min_x=2, min_y=-5, max_x=6, \n",
    "                         max_y=-1, x_anchor=4, y_anchor=-3, max_tick_count=7, color=\"blue\")\n",
    "    eg.show(frame)  # replace with display(frame)\n",
    "\n",
    "make_a_swatch()"
   ]
  },
  {
   "cell_type": "markdown",
   "metadata": {},
   "source": [
    "The return value for `swatch` is a reference frame.  The underlying canvas widget associated\n",
    "with the frame is available as `frame.get_canvas()`.\n",
    "\n",
    "### 1.5  Simplified coordinates using the `fit()` method\n",
    "\n",
    "It is often convenient to draw objects on a canvas or frame and then use the `fit` method to automatically\n",
    "adjust the coordinate conversions so the visible objects are visible in the frame.  Fit will compute the\n",
    "maximum and minimum coordinate values drawn and automatically adjust the canvas coordinate conversion\n",
    "so that the objects are in view and \"fill\" the canvas in either the X or Y dimension (or both).\n",
    "\n",
    "**Warning:** Buggy code that uses `fit()` may make objects that are so far apart\n",
    "that they are too small to be seen after the `fit()` operation.\n",
    "\n",
    "*Note:* Below we do not explicitly choose the center of the frame or the\n",
    "endpoints of the axes because they are derived from the coordinate system\n",
    "chosen by `fit` automatically."
   ]
  },
  {
   "cell_type": "code",
   "execution_count": 6,
   "metadata": {},
   "outputs": [
    {
     "data": {
      "application/vnd.jupyter.widget-view+json": {
       "model_id": "0fd342be326f4ee2a5ea8508590bdfbc",
       "version_major": 2,
       "version_minor": 0
      },
      "text/plain": [
       "DualCanvasWidget(status='Not yet rendered')"
      ]
     },
     "metadata": {},
     "output_type": "display_data"
    }
   ],
   "source": [
    "def fit_a_swatch():\n",
    "    \n",
    "    # Create a canvas with pixel coordinates 200 by 200 using swatch:\n",
    "    #   Note: we don't specify the center because fit() below will chose the appropriate center.\n",
    "    frame = dual_canvas.swatch(200, 4.5, show=False)\n",
    "    # Put some reference marks on the canvas to indicate the coordinates.\n",
    "    frame.text(x=2, y=-5, text=\"2,-5\", color=\"red\", background=\"yellow\", )\n",
    "    frame.text(x=6, y=-1, text=\"6,-1\", align=\"right\", color=\"red\", background=\"yellow\", )\n",
    "    # fit the text objects into the canvas\n",
    "    frame.fit()\n",
    "    \n",
    "    # Draw axes using the coordinate system chosen by the fit operation above\n",
    "    #   Note: the max and min coordinates are not specified because they are inferred from the fit.\n",
    "    frame.lower_left_axes(max_tick_count=5, x_anchor=4, y_anchor=-3, color=\"blue\")\n",
    "    \n",
    "    # Fit the objects drawn into the canvas again allowing a margin of 20 pixels\n",
    "    frame.fit(margin=20)\n",
    "    eg.show(frame)  # replace with display(frame)\n",
    "\n",
    "fit_a_swatch()"
   ]
  },
  {
   "cell_type": "markdown",
   "metadata": {},
   "source": [
    "# Part 2: Drawing on canvases and frames\n",
    "\n",
    "\n",
    "Dual canvases and reference frames on dual canvases support a number of drawing operations\n",
    "described below.\n",
    "\n",
    "The discussion makes use of the helper module to present the draw operations\n",
    "and their visual results shown with a reference axis without having to repeat boilerplate\n",
    "code (like creating a canvas and an axis over and over and over....).\n",
    "\n",
    "Objects may be drawn directly using the canvas (in which case the canvas is also\n",
    "the reference frame) or with respect to a reference frame derived from the canvas.\n",
    "\n",
    "Note that some objects (`text`, `circle`, and, `rect`) are sized relative to the\n",
    "canvas, not relative to any reference frame, in order to allow consistent mark sizes\n",
    "across all frames of a canvas.  The `frame_rect` and `frame_circle` variants\n",
    "are sized relative to the current frame.  All objects are positioned relative\n",
    "to the current frame,"
   ]
  },
  {
   "cell_type": "code",
   "execution_count": 7,
   "metadata": {},
   "outputs": [
    {
     "data": {
      "text/markdown": [
       "\n",
       "### 2.1 Drawing lines\n",
       "\n",
       "The `line` method draws a line segment between two end points.\n"
      ],
      "text/plain": [
       "<IPython.core.display.Markdown object>"
      ]
     },
     "metadata": {},
     "output_type": "display_data"
    },
    {
     "data": {
      "text/markdown": [
       "```Python\n",
       "\n",
       "    widget.line(\n",
       "        x1=50, y1=10,   # One end point of the line\n",
       "        x2=320, y2=30,  # The other end point of the line\n",
       "        color=\"cyan\",   # Optional color (default: \"black\")\n",
       "        lineWidth=4,    # Optional line width\n",
       "        lineDash=[5,2,1], # Optional line dash pattern\n",
       "    )\n",
       "\n",
       "```"
      ],
      "text/plain": [
       "<IPython.core.display.Markdown object>"
      ]
     },
     "metadata": {},
     "output_type": "display_data"
    },
    {
     "data": {
      "application/vnd.jupyter.widget-view+json": {
       "model_id": "e3557847a17c48e89c6e5dbcd6bde982",
       "version_major": 2,
       "version_minor": 0
      },
      "text/plain": [
       "DualCanvasWidget(status='Not yet rendered')"
      ]
     },
     "metadata": {},
     "output_type": "display_data"
    }
   ],
   "source": [
    "eg.py_line_example()"
   ]
  },
  {
   "cell_type": "code",
   "execution_count": 8,
   "metadata": {},
   "outputs": [
    {
     "data": {
      "text/markdown": [
       "\n",
       "### 2.2 Drawing arrows\n",
       "\n",
       "The `arrow` method draws an arrow between a head position and a tail position.\n"
      ],
      "text/plain": [
       "<IPython.core.display.Markdown object>"
      ]
     },
     "metadata": {},
     "output_type": "display_data"
    },
    {
     "data": {
      "text/markdown": [
       "```Python\n",
       "\n",
       "    widget.arrow(\n",
       "        head_length=30,\n",
       "        x1=50, y1=10,   # The tail end point of the line\n",
       "        x2=320, y2=70,  # The head end point of the line\n",
       "        color=\"red\",   # Optional color (default: \"black\")\n",
       "        lineWidth=4,    # Optional line width\n",
       "        lineDash=[2,2], # Optional line dash pattern\n",
       "        head_angle=45,  # Optional head segment angle in degrees (default 45)\n",
       "        head_offset=10,  # Optional offset of head from endpoint\n",
       "        symmetric=True, # If true draw two arrow head segments (default False)\n",
       "    )\n",
       "\n",
       "```"
      ],
      "text/plain": [
       "<IPython.core.display.Markdown object>"
      ]
     },
     "metadata": {},
     "output_type": "display_data"
    },
    {
     "data": {
      "application/vnd.jupyter.widget-view+json": {
       "model_id": "70f392d083d54e059938464adf6f89e8",
       "version_major": 2,
       "version_minor": 0
      },
      "text/plain": [
       "DualCanvasWidget(status='Not yet rendered')"
      ]
     },
     "metadata": {},
     "output_type": "display_data"
    }
   ],
   "source": [
    "eg.py_arrow_example()"
   ]
  },
  {
   "cell_type": "code",
   "execution_count": 9,
   "metadata": {},
   "outputs": [
    {
     "data": {
      "application/vnd.jupyter.widget-view+json": {
       "model_id": "cbef00e83bab4a1292489a2d4a775e04",
       "version_major": 2,
       "version_minor": 0
      },
      "text/plain": [
       "DualCanvasWidget(status='Not yet rendered')"
      ]
     },
     "metadata": {},
     "output_type": "display_data"
    }
   ],
   "source": [
    "widget = dual_canvas.DualCanvasWidget(width=420, height=120, font=\"italic 12px Courier\",)\n",
    "points = [(50,20), (40, 60), (140, 111), (300,4), (100,70)]\n",
    "widget.double_arrow(\n",
    "        head_length=30,\n",
    "        x1=50, y1=10,   # The tail end point of the line\n",
    "        x2=320, y2=70,  # The head end point of the line\n",
    "        color=\"red\",   # Optional color (default: \"black\")\n",
    "        back_color=\"blue\",  # Optional color of back arrow\n",
    "        lineWidth=4,    # Optional line width\n",
    "        lineDash=[2,2], # Optional line dash pattern\n",
    "        head_angle=45,  # Optional head segment angle in degrees (default 45)\n",
    "        back_angle=90,   # Optional back head segment angle\n",
    "        head_offset=10,  # Optional offset of head from endpoint\n",
    "        back_offset=0,   # Optional, offset of back pointing head mark\n",
    "        symmetric=False, # If true draw two arrow head segments (default False)\n",
    "        line_offset=5,  # offset of back arrow from forward arros\n",
    "    )\n",
    "widget.fit()\n",
    "widget.lower_left_axes(color=\"#999\")\n",
    "widget.fit(margin=10)\n",
    "widget"
   ]
  },
  {
   "cell_type": "code",
   "execution_count": 10,
   "metadata": {},
   "outputs": [
    {
     "data": {
      "application/vnd.jupyter.widget-view+json": {
       "model_id": "390bd3cede454ffd9593842566f1fe62",
       "version_major": 2,
       "version_minor": 0
      },
      "text/plain": [
       "DualCanvasWidget(status='Not yet rendered')"
      ]
     },
     "metadata": {},
     "output_type": "display_data"
    }
   ],
   "source": [
    "widget = dual_canvas.DualCanvasWidget(width=420, height=120, font=\"italic 12px Courier\",)\n",
    "points = [(50,20), (40, 60), (140, 111), (300,4), (100,70)]\n",
    "widget.polyline(\n",
    "    points=points, # The vertices of the polyline path\n",
    "    color=\"green\",   # Optional color (default: \"black\")\n",
    "    lineWidth=3,    # Optional line width\n",
    "    lineDash=[5,5], # Optional line dash pattern\n",
    ")\n",
    "widget.fit()\n",
    "widget.lower_left_axes(color=\"#999\")\n",
    "widget.fit(margin=10)\n",
    "widget"
   ]
  },
  {
   "cell_type": "code",
   "execution_count": 11,
   "metadata": {},
   "outputs": [
    {
     "data": {
      "application/vnd.jupyter.widget-view+json": {
       "model_id": "d7427c0657694e3fb7a660f60d87e2e3",
       "version_major": 2,
       "version_minor": 0
      },
      "text/plain": [
       "DualCanvasWidget(status='Not yet rendered')"
      ]
     },
     "metadata": {},
     "output_type": "display_data"
    }
   ],
   "source": [
    "widget = dual_canvas.DualCanvasWidget(width=420, height=120, font=\"italic 12px Courier\",)\n",
    "points = [(50,20), (40, 60), (140, 111), (300,4), (100,70)]\n",
    "widget.polygon(\n",
    "    points=points, # The vertices of the polyline path\n",
    "    color=\"green\",   # Optional color (default: \"black\")\n",
    "    lineWidth=3,    # Optional line width\n",
    "    lineDash=[5,5], # Optional line dash pattern\n",
    "    fill=False,     # Optional, if True (default) fill interior\n",
    ")\n",
    "widget.fit()\n",
    "widget.lower_left_axes(color=\"#999\")\n",
    "widget.fit(margin=10)\n",
    "widget"
   ]
  },
  {
   "cell_type": "code",
   "execution_count": 18,
   "metadata": {},
   "outputs": [
    {
     "data": {
      "application/vnd.jupyter.widget-view+json": {
       "model_id": "0fa739b2ebae4809aad2ce5bbab5da73",
       "version_major": 2,
       "version_minor": 0
      },
      "text/plain": [
       "DualCanvasWidget(status='Not yet rendered')"
      ]
     },
     "metadata": {},
     "output_type": "display_data"
    }
   ],
   "source": [
    "widget = dual_canvas.DualCanvasWidget(width=420, height=120, font=\"italic 12px Courier\",)\n",
    "points = [(50,20), (40, 60), (140, 111), (300,4), (100,70)]\n",
    "\n",
    "frame = widget.frame_region(\n",
    "    minx=10, miny=10, maxx=100, maxy=100,\n",
    "    frame_minx=-3, frame_miny=0, frame_maxx=3, frame_maxy=6,\n",
    ")\n",
    "# Draw a circle positioned relative to the frame and size relative to the canvas.\n",
    "frame.circle(\n",
    "    x=4,\n",
    "    y=2.5,\n",
    "    r=20,  # radius \"r\" is in canvas coordinates, not frame coordinates\n",
    "    color=\"blue\",\n",
    "    fill=False,\n",
    "    lineWidth=5,\n",
    "    lineDash=[5,5],\n",
    ")\n",
    "frame.lower_left_axes(color=\"pink\")\n",
    "\n",
    "widget.fit()\n",
    "widget.lower_left_axes(color=\"#999\")\n",
    "widget.fit(margin=10)\n",
    "widget"
   ]
  },
  {
   "cell_type": "code",
   "execution_count": 20,
   "metadata": {},
   "outputs": [
    {
     "data": {
      "application/vnd.jupyter.widget-view+json": {
       "model_id": "4b5b91868dca4b99925fa331f7ae0fa6",
       "version_major": 2,
       "version_minor": 0
      },
      "text/plain": [
       "DualCanvasWidget(status='Not yet rendered')"
      ]
     },
     "metadata": {},
     "output_type": "display_data"
    }
   ],
   "source": [
    "widget = dual_canvas.DualCanvasWidget(width=420, height=120, font=\"italic 12px Courier\",)\n",
    "points = [(50,20), (40, 60), (140, 111), (300,4), (100,70)]\n",
    "\n",
    "frame = widget.frame_region(\n",
    "    minx=10, miny=10, maxx=100, maxy=100,\n",
    "    frame_minx=-3, frame_miny=0, frame_maxx=3, frame_maxy=6,\n",
    ")\n",
    "# Draw a circle positioned and sized relative to the frame.\n",
    "frame.frame_circle(\n",
    "    x=4,\n",
    "    y=2.5,\n",
    "    r=3,  # radius \"r\" is in frame coordinates\n",
    "    color=\"blue\",\n",
    "    fill=True,\n",
    ")\n",
    "frame.lower_left_axes(color=\"pink\")\n",
    "\n",
    "widget.fit()\n",
    "widget.lower_left_axes(color=\"#999\")\n",
    "widget.fit(margin=10)\n",
    "widget"
   ]
  },
  {
   "cell_type": "code",
   "execution_count": 27,
   "metadata": {},
   "outputs": [
    {
     "data": {
      "application/vnd.jupyter.widget-view+json": {
       "model_id": "d2e20a63e2a74902a2a5097f381f51fe",
       "version_major": 2,
       "version_minor": 0
      },
      "text/plain": [
       "DualCanvasWidget(status='Not yet rendered')"
      ]
     },
     "metadata": {},
     "output_type": "display_data"
    }
   ],
   "source": [
    "widget = dual_canvas.DualCanvasWidget(width=420, height=120, font=\"italic 12px Courier\",)\n",
    "points = [(50,20), (40, 60), (140, 111), (300,4), (100,70)]\n",
    "\n",
    "frame = widget.frame_region(\n",
    "    minx=10, miny=10, maxx=100, maxy=100,\n",
    "    frame_minx=-3, frame_miny=0, frame_maxx=3, frame_maxy=6,\n",
    ")\n",
    "# Draw a rectangle positioned and sized relative to the frame.\n",
    "(x,y) = (4, 2.5)\n",
    "frame.rect(\n",
    "    x=x, y=y,  # rectangle position relative to the canvas\n",
    "    w=50, h=40,  # width and height relative to the frame\n",
    "    dx=-10, dy=-10,  # offset of lower left corner from (x,y) relative to the canvas\n",
    "    color=\"green\",\n",
    "    fill=False,\n",
    "    lineWidth=5,\n",
    "    lineDash=[5,5],\n",
    ")\n",
    "# Draw a reference point at (x, y)\n",
    "frame.circle(x, y, 5, \"red\")\n",
    "frame.lower_left_axes(color=\"pink\")\n",
    "\n",
    "widget.fit()\n",
    "widget.lower_left_axes(color=\"#999\")\n",
    "widget.fit(margin=10)\n",
    "widget"
   ]
  },
  {
   "cell_type": "code",
   "execution_count": 25,
   "metadata": {},
   "outputs": [
    {
     "data": {
      "application/vnd.jupyter.widget-view+json": {
       "model_id": "3bdf3af6802049c8bfac022281315561",
       "version_major": 2,
       "version_minor": 0
      },
      "text/plain": [
       "DualCanvasWidget(status='Not yet rendered')"
      ]
     },
     "metadata": {},
     "output_type": "display_data"
    }
   ],
   "source": [
    "widget = dual_canvas.DualCanvasWidget(width=420, height=120, font=\"italic 12px Courier\",)\n",
    "points = [(50,20), (40, 60), (140, 111), (300,4), (100,70)]\n",
    "\n",
    "frame = widget.frame_region(\n",
    "    minx=10, miny=10, maxx=100, maxy=100,\n",
    "    frame_minx=-3, frame_miny=0, frame_maxx=3, frame_maxy=6,\n",
    ")\n",
    "# Draw a rectangle positioned and sized relative to the frame.\n",
    "(x,y) = (4, 2.5)\n",
    "frame.frame_rect(\n",
    "    x=x, y=y,  # rectangle position\n",
    "    w=5, h=4,  # width and height\n",
    "    dx=-1, dy=-1,  # offset of lower left corner from (x,y)\n",
    "    color=\"green\",\n",
    "    fill=False,\n",
    "    lineWidth=5,\n",
    "    lineDash=[5,5],\n",
    ")\n",
    "# Draw a reference point at (x, y)\n",
    "frame.circle(x, y, 5, \"red\")\n",
    "frame.lower_left_axes(color=\"pink\")\n",
    "\n",
    "widget.fit()\n",
    "widget.lower_left_axes(color=\"#999\")\n",
    "widget.fit(margin=10)\n",
    "widget"
   ]
  },
  {
   "cell_type": "code",
   "execution_count": null,
   "metadata": {},
   "outputs": [],
   "source": [
    "widget = dual_canvas.DualCanvasWidget(width=420, height=120, font=\"italic 12px Courier\",)\n",
    "points = [(50,20), (40, 60), (140, 111), (300,4), (100,70)]\n",
    "\n",
    "frame = widget.frame_region(\n",
    "    minx=10, miny=10, maxx=100, maxy=100,\n",
    "    frame_minx=-3, frame_miny=0, frame_maxx=3, frame_maxy=6,\n",
    ")\n",
    "# Draw a rectangle positioned and sized relative to the frame.\n",
    "(x,y) = (4, 2.5)\n",
    "frame.frame_rect(\n",
    "    x=x, y=y,  # rectangle position\n",
    "    w=5, h=4,  # width and height\n",
    "    dx=-1, dy=-1,  # offset of lower left corner from (x,y)\n",
    "    color=\"green\",\n",
    "    fill=False,\n",
    "    lineWidth=5,\n",
    "    lineDash=[5,5],\n",
    ")\n",
    "# Draw a reference point at (x, y)\n",
    "frame.circle(x, y, 5, \"red\")\n",
    "frame.lower_left_axes(color=\"pink\")\n",
    "\n",
    "widget.fit()\n",
    "widget.lower_left_axes(color=\"#999\")\n",
    "widget.fit(margin=10)\n",
    "widget"
   ]
  }
 ],
 "metadata": {
  "kernelspec": {
   "display_name": "Python 3",
   "language": "python",
   "name": "python3"
  },
  "language_info": {
   "codemirror_mode": {
    "name": "ipython",
    "version": 3
   },
   "file_extension": ".py",
   "mimetype": "text/x-python",
   "name": "python",
   "nbconvert_exporter": "python",
   "pygments_lexer": "ipython3",
   "version": "3.6.8"
  }
 },
 "nbformat": 4,
 "nbformat_minor": 2
}
