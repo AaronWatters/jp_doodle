{
 "cells": [
  {
   "cell_type": "markdown",
   "metadata": {},
   "source": [
    "# `dual_canvas` Python quick reference.\n",
    "\n",
    "This document is part of the \n",
    "<a href=\"https://github.com/AaronWatters/jp_doodle\">https://github.com/AaronWatters/jp_doodle</a>\n",
    "package.\n",
    "It provides a quick reference\n",
    "to using the `dual_canvas` object API to build visualizations in\n",
    "interactive Jupyter widgets.\n",
    "\n",
    "## Part 1: Creating canvas widgets and frames in widgets and coordinates\n",
    "\n",
    "To create and use the widgets you need to import the `dual_canvas` module in an IPython notebook\n",
    "and you probably also will want to use `IPython.display.display`."
   ]
  },
  {
   "cell_type": "code",
   "execution_count": 1,
   "metadata": {},
   "outputs": [],
   "source": [
    "from jp_doodle import dual_canvas\n",
    "from IPython.display import display\n",
    "\n",
    "import qr_helper as eg    # some helpers and tricks for embedding images\n",
    "eg.DO_EMBEDDINGS = False  # flag indicates whether to embed images in the notebook or not (for format conversions)"
   ]
  },
  {
   "cell_type": "markdown",
   "metadata": {},
   "source": [
    "**Note:** In the following discussion\n",
    "we use the `eg.show(demo)` helper to optionally embed an image into\n",
    "this notebook in order to facilitate file format conversion.  Please replace\n",
    "this helper with `display(demo)` when you emulate these code fragments.\n",
    "\n",
    "### 1.1 Creating a `dual_canvas.DualCanvasWidget`\n",
    "\n",
    "A dual canvas is a space on the IPython notebook to draw on using\n",
    "drawing operations specified using (x,y) coordinates.\n",
    "A newly created dual canvas initially has width and height given in device pixels.\n",
    "The `dual_canvas.DualCanvasWidget`\n",
    "constructor may optionally specify a default font.  The initial lower left corner is at (0,0)\n",
    "and the upper right corner is at (width, height)"
   ]
  },
  {
   "cell_type": "code",
   "execution_count": 2,
   "metadata": {},
   "outputs": [
    {
     "data": {
      "application/vnd.jupyter.widget-view+json": {
       "model_id": "506f8a13e5a94f10967c2374c71679c9",
       "version_major": 2,
       "version_minor": 0
      },
      "text/plain": [
       "DualCanvasWidget(status='Not yet rendered')"
      ]
     },
     "metadata": {},
     "output_type": "display_data"
    }
   ],
   "source": [
    "def make_a_canvas():\n",
    "    \n",
    "    # Create a canvas with pixel coordinates (0...420, 0...120)\n",
    "    demo = dual_canvas.DualCanvasWidget(width=420, height=120, font=\"italic 12px Courier\",)\n",
    "    \n",
    "    # Put some reference marks on the canvas to illustrate the coordinate space.\n",
    "    demo.text(x=0, y=0, text=\"0,0\", color=\"red\", background=\"yellow\", )\n",
    "    demo.text(x=410, y=110, text=\"410,110\", align=\"right\", color=\"red\", background=\"yellow\", )\n",
    "    demo.lower_left_axes(min_x=10, min_y=10, max_x=410, \n",
    "                         max_y=110, x_anchor=100, y_anchor=40, max_tick_count=7, color=\"blue\")\n",
    "    eg.show(demo)  # replace with display(demo)\n",
    "\n",
    "make_a_canvas()"
   ]
  },
  {
   "cell_type": "markdown",
   "metadata": {},
   "source": [
    "### 1.2 Create a reference frame inside a dual canvas\n",
    "\n",
    "Pixel coordinates are rarely the most convenient coordinate systems to\n",
    "use for scientific visualizations.  Reference frames allow drawing using\n",
    "transformed coordinates.  The `frame_region` method creates a frame\n",
    "by mapping reference points in the pixel space to reference\n",
    "points in the reference frame coordinate space.  Objects can then\n",
    "be drawn on the reference frame and the underlying coordinates will be\n",
    "converted automatically."
   ]
  },
  {
   "cell_type": "code",
   "execution_count": 3,
   "metadata": {},
   "outputs": [
    {
     "data": {
      "application/vnd.jupyter.widget-view+json": {
       "model_id": "d5c6e93b27a849359215e25b7b86cedf",
       "version_major": 2,
       "version_minor": 0
      },
      "text/plain": [
       "DualCanvasWidget(status='Not yet rendered')"
      ]
     },
     "metadata": {},
     "output_type": "display_data"
    }
   ],
   "source": [
    "def make_a_reference_frame():\n",
    "    demo = dual_canvas.DualCanvasWidget(width=420, height=120)\n",
    "    \n",
    "    # Map pixel coords (10,10) and (400,100)\n",
    "    #  to frame coords (-1, 0) and (1, 2)\n",
    "    frame = demo.frame_region(\n",
    "        minx=10, miny=10, maxx=400, maxy=100,\n",
    "        frame_minx=-1, frame_miny=0, frame_maxx=1, frame_maxy=2,\n",
    "    )\n",
    "    # Put some reference marks on the frame to indicate the coordinates.\n",
    "    frame.text(x=-1, y=0, text=\"-1,0\", color=\"red\", background=\"yellow\", )\n",
    "    frame.text(x=1, y=2, text=\"1,2\", align=\"right\", color=\"red\", background=\"yellow\", )\n",
    "    frame.lower_left_axes(min_x=-1, min_y=0, max_x=1,\n",
    "                         max_y=2, x_anchor=0, y_anchor=1, max_tick_count=7, color=\"blue\")\n",
    "    \n",
    "    # also draw axes in canvas/pixel coordinates\n",
    "    demo.lower_left_axes(min_x=10, min_y=10, max_x=410,\n",
    "                         max_y=110, x_anchor=100, y_anchor=40, max_tick_count=7, color=\"pink\")\n",
    "    eg.show(demo)  # replace with display(demo)\n",
    "\n",
    "make_a_reference_frame()"
   ]
  },
  {
   "cell_type": "markdown",
   "metadata": {},
   "source": [
    "### 1.3 Create two reference frames inside a dual canvas\n",
    "\n",
    "It is possible to create many reference frames inside a dual canvas each with a different\n",
    "coordinate transform."
   ]
  },
  {
   "cell_type": "code",
   "execution_count": 4,
   "metadata": {},
   "outputs": [
    {
     "data": {
      "application/vnd.jupyter.widget-view+json": {
       "model_id": "d8d83d5e93fd42d3bae744d1fddc361b",
       "version_major": 2,
       "version_minor": 0
      },
      "text/plain": [
       "DualCanvasWidget(status='Not yet rendered')"
      ]
     },
     "metadata": {},
     "output_type": "display_data"
    }
   ],
   "source": [
    "def make_2_reference_frames():\n",
    "    demo = dual_canvas.DualCanvasWidget(width=420, height=120)\n",
    "    # draw pink axes in canvas/pixel coordinates behind the other figures.\n",
    "    demo.lower_left_axes(min_x=10, min_y=10, max_x=410,\n",
    "                         max_y=110, x_anchor=40, y_anchor=80, max_tick_count=7, color=\"pink\")\n",
    "    \n",
    "    # Map pixel coords (10,10) and (190,100)\n",
    "    #  to frame1 coords (-1, 0) and (1, 2)\n",
    "    frame1 = demo.frame_region(\n",
    "        minx=10, miny=10, maxx=190, maxy=100,\n",
    "        frame_minx=-1, frame_miny=0, frame_maxx=1, frame_maxy=2,\n",
    "    )\n",
    "    # Put some reference marks on the frame1 to indicate the coordinates.\n",
    "    frame1.text(x=-1, y=1.8, text=\"frame1\", color=\"blue\", background=\"white\", )\n",
    "    frame1.text(x=-1, y=0, text=\"-1,0\", color=\"red\", background=\"yellow\", )\n",
    "    frame1.text(x=1, y=2, text=\"1,2\", align=\"right\", color=\"red\", background=\"yellow\", )\n",
    "    frame1.lower_left_axes(min_x=-1, min_y=0, max_x=1,\n",
    "                         max_y=2, x_anchor=0, y_anchor=1, max_tick_count=7, color=\"blue\")\n",
    "                         \n",
    "    # Map pixel coords (210,10) and (400,100)\n",
    "    #  to frame coords (-1, 0) and (1, 2)\n",
    "    frame2 = demo.frame_region(\n",
    "        minx=210, miny=10, maxx=400, maxy=100,\n",
    "        frame_minx=-1, frame_miny=0, frame_maxx=1, frame_maxy=2,\n",
    "    )\n",
    "    # Put some reference marks on the frame2 to indicate the coordinates.\n",
    "    frame2.text(x=-1, y=1.8, text=\"frame2\", color=\"green\", background=\"white\", )\n",
    "    frame2.text(x=-1, y=0, text=\"-1,0\", color=\"white\", background=\"magenta\", )\n",
    "    frame2.text(x=1, y=2, text=\"1,2\", align=\"right\", color=\"white\", background=\"magenta\", )\n",
    "    frame2.lower_left_axes(min_x=-1, min_y=0, max_x=1,\n",
    "                         max_y=2, x_anchor=0, y_anchor=1, max_tick_count=7, color=\"green\")\n",
    "                         \n",
    "    eg.show(demo)  # replace with display(demo)\n",
    "\n",
    "make_2_reference_frames()"
   ]
  },
  {
   "cell_type": "markdown",
   "metadata": {},
   "source": [
    "### 1.4 Get a simplified frame using `swatch`\n",
    "\n",
    "The `swatch` convenience helper is useful to create square canvases with a single frame\n",
    "where the X and Y coordinates have the same scale."
   ]
  },
  {
   "cell_type": "code",
   "execution_count": 5,
   "metadata": {},
   "outputs": [
    {
     "data": {
      "application/vnd.jupyter.widget-view+json": {
       "model_id": "8cba86b3eade466daf148fec969d2965",
       "version_major": 2,
       "version_minor": 0
      },
      "text/plain": [
       "DualCanvasWidget(status='Not yet rendered')"
      ]
     },
     "metadata": {},
     "output_type": "display_data"
    }
   ],
   "source": [
    "def make_a_swatch():\n",
    "    \n",
    "    # Create a frame with pixel coordinates 200 by 200 using swatch:\n",
    "    frame = dual_canvas.swatch(\n",
    "        pixels=200,       # width and height of 200 pixels\n",
    "        model_height=4.5, # width and height in frame coordinates\n",
    "        cx=4,\n",
    "        cy=-3,            # center of canvas at (4, -3) in frame coordinates (default (0, 0))\n",
    "        snapfile=None,    # if this is set to a file path the widget will be a snapshot widget (default None)\n",
    "        show=False,       # automatically display the widget if true (default True)\n",
    "    )\n",
    "    # Put some reference marks on the canvas to indicate the coordinates.\n",
    "    frame.text(x=2, y=-5, text=\"2,-5\", color=\"red\", background=\"yellow\", )\n",
    "    frame.text(x=6, y=-1, text=\"6,-1\", align=\"right\", color=\"red\", background=\"yellow\", )\n",
    "    frame.lower_left_axes(min_x=2, min_y=-5, max_x=6, \n",
    "                         max_y=-1, x_anchor=4, y_anchor=-3, max_tick_count=7, color=\"blue\")\n",
    "    eg.show(frame)  # replace with display(frame)\n",
    "\n",
    "make_a_swatch()"
   ]
  },
  {
   "cell_type": "markdown",
   "metadata": {},
   "source": [
    "The return value for `swatch` is a reference frame.  The underlying canvas widget associated\n",
    "with the frame is available as `frame.get_canvas()`.\n",
    "\n",
    "### 1.5  Simplified coordinates using the `fit()` method\n",
    "\n",
    "It is often convenient to draw objects on a canvas or frame and then use the `fit` method to automatically\n",
    "adjust the coordinate conversions so the visible objects are visible in the frame.  Fit will compute the\n",
    "maximum and minimum coordinate values drawn and automatically adjust the canvas coordinate conversion\n",
    "so that the objects are in view and \"fill\" the canvas in either the X or Y dimension (or both).\n",
    "\n",
    "**Warning:** Buggy code that uses `fit()` may make objects that are so far apart\n",
    "that they are too small to be seen after the `fit()` operation.\n",
    "\n",
    "*Note:* Below we do not explicitly choose the center of the frame or the\n",
    "endpoints of the axes because they are derived from the coordinate system\n",
    "chosen by `fit` automatically."
   ]
  },
  {
   "cell_type": "code",
   "execution_count": 6,
   "metadata": {},
   "outputs": [
    {
     "data": {
      "application/vnd.jupyter.widget-view+json": {
       "model_id": "d86b2f4b5b8a4d5992d721a7a025484d",
       "version_major": 2,
       "version_minor": 0
      },
      "text/plain": [
       "DualCanvasWidget(status='Not yet rendered')"
      ]
     },
     "metadata": {},
     "output_type": "display_data"
    }
   ],
   "source": [
    "def fit_a_swatch():\n",
    "    \n",
    "    # Create a canvas with pixel coordinates 200 by 200 using swatch:\n",
    "    #   Note: we don't specify the center because fit() below will chose the appropriate center.\n",
    "    frame = dual_canvas.swatch(200, 4.5, show=False)\n",
    "    # Put some reference marks on the canvas to indicate the coordinates.\n",
    "    frame.text(x=2, y=-5, text=\"2,-5\", color=\"red\", background=\"yellow\", )\n",
    "    frame.text(x=6, y=-1, text=\"6,-1\", align=\"right\", color=\"red\", background=\"yellow\", )\n",
    "    # fit the text objects into the canvas\n",
    "    frame.fit()\n",
    "    \n",
    "    # Draw axes using the coordinate system chosen by the fit operation above\n",
    "    #   Note: the max and min coordinates are not specified because they are inferred from the fit.\n",
    "    frame.lower_left_axes(max_tick_count=5, x_anchor=4, y_anchor=-3, color=\"blue\")\n",
    "    \n",
    "    # Fit the objects drawn into the canvas again allowing a margin of 20 pixels\n",
    "    frame.fit(margin=20)\n",
    "    eg.show(frame)  # replace with display(frame)\n",
    "\n",
    "fit_a_swatch()"
   ]
  },
  {
   "cell_type": "markdown",
   "metadata": {},
   "source": [
    "# Part 2: Drawing on canvases and frames\n",
    "\n",
    "\n",
    "Dual canvases and reference frames on dual canvases support a number of drawing operations\n",
    "described below.\n",
    "\n",
    "The discussion makes use of the helper module to present the draw operations\n",
    "and their visual results shown with a reference axis without having to repeat boilerplate\n",
    "code (like creating a canvas and an axis over and over and over....).\n",
    "\n",
    "Objects may be drawn directly using the canvas (in which case the canvas is also\n",
    "the reference frame) or with respect to a reference frame derived from the canvas.\n",
    "\n",
    "Note that some objects (`text`, `circle`, and, `rect`) are sized relative to the\n",
    "canvas, not relative to any reference frame, in order to allow consistent mark sizes\n",
    "across all frames of a canvas.  The `frame_rect` and `frame_circle` variants\n",
    "are sized relative to the current frame.  All objects are positioned relative\n",
    "to the current frame,"
   ]
  },
  {
   "cell_type": "code",
   "execution_count": 7,
   "metadata": {},
   "outputs": [
    {
     "data": {
      "text/markdown": [
       "\n",
       "### 2.1 Drawing lines\n",
       "\n",
       "The `line` method draws a line segment between two end points.\n"
      ],
      "text/plain": [
       "<IPython.core.display.Markdown object>"
      ]
     },
     "metadata": {},
     "output_type": "display_data"
    },
    {
     "data": {
      "text/markdown": [
       "```Python\n",
       "\n",
       "    widget.line(\n",
       "        x1=50, y1=10,   # One end point of the line\n",
       "        x2=320, y2=30,  # The other end point of the line\n",
       "        color=\"cyan\",   # Optional color (default: \"black\")\n",
       "        lineWidth=4,    # Optional line width\n",
       "        lineDash=[5,2,1], # Optional line dash pattern\n",
       "    )\n",
       "\n",
       "```"
      ],
      "text/plain": [
       "<IPython.core.display.Markdown object>"
      ]
     },
     "metadata": {},
     "output_type": "display_data"
    },
    {
     "data": {
      "application/vnd.jupyter.widget-view+json": {
       "model_id": "f898b7f0b3e54af09d29d55705262a67",
       "version_major": 2,
       "version_minor": 0
      },
      "text/plain": [
       "DualCanvasWidget(status='Not yet rendered')"
      ]
     },
     "metadata": {},
     "output_type": "display_data"
    }
   ],
   "source": [
    "eg.py_line_example()"
   ]
  },
  {
   "cell_type": "code",
   "execution_count": 8,
   "metadata": {},
   "outputs": [
    {
     "data": {
      "text/markdown": [
       "\n",
       "### 2.2 Drawing arrows\n",
       "\n",
       "The `arrow` method draws an arrow between a head position and a tail position.\n"
      ],
      "text/plain": [
       "<IPython.core.display.Markdown object>"
      ]
     },
     "metadata": {},
     "output_type": "display_data"
    },
    {
     "data": {
      "text/markdown": [
       "```Python\n",
       "\n",
       "    widget.arrow(\n",
       "        head_length=30,\n",
       "        x1=50, y1=10,   # The tail end point of the line\n",
       "        x2=320, y2=70,  # The head end point of the line\n",
       "        color=\"red\",   # Optional color (default: \"black\")\n",
       "        lineWidth=4,    # Optional line width\n",
       "        lineDash=[2,2], # Optional line dash pattern\n",
       "        head_angle=45,  # Optional head segment angle in degrees (default 45)\n",
       "        head_offset=10,  # Optional offset of head from endpoint\n",
       "        symmetric=True, # If true draw two arrow head segments (default False)\n",
       "    )\n",
       "\n",
       "```"
      ],
      "text/plain": [
       "<IPython.core.display.Markdown object>"
      ]
     },
     "metadata": {},
     "output_type": "display_data"
    },
    {
     "data": {
      "application/vnd.jupyter.widget-view+json": {
       "model_id": "aee904ba2f974c2894ce8e88252f9015",
       "version_major": 2,
       "version_minor": 0
      },
      "text/plain": [
       "DualCanvasWidget(status='Not yet rendered')"
      ]
     },
     "metadata": {},
     "output_type": "display_data"
    }
   ],
   "source": [
    "eg.py_arrow_example()"
   ]
  },
  {
   "cell_type": "code",
   "execution_count": 9,
   "metadata": {},
   "outputs": [
    {
     "data": {
      "text/markdown": [
       "\n",
       "### 2.2 Drawing double arrows\n",
       "\n",
       "The `double_arrow` method draws an arrow between a head position and a tail position\n",
       "with head marks at both ends.\n"
      ],
      "text/plain": [
       "<IPython.core.display.Markdown object>"
      ]
     },
     "metadata": {},
     "output_type": "display_data"
    },
    {
     "data": {
      "text/markdown": [
       "```Python\n",
       "\n",
       "    widget.double_arrow(\n",
       "        head_length=30,\n",
       "        x1=50, y1=10,   # The tail end point of the line\n",
       "        x2=320, y2=70,  # The head end point of the line\n",
       "        color=\"red\",   # Optional color (default: \"black\")\n",
       "        back_color=\"blue\",  # Optional color of back arrow\n",
       "        lineWidth=4,    # Optional line width\n",
       "        lineDash=[2,2], # Optional line dash pattern\n",
       "        head_angle=45,  # Optional head segment angle in degrees (default 45)\n",
       "        back_angle=90,   # Optional back head segment angle\n",
       "        head_offset=10,  # Optional offset of head from endpoint\n",
       "        back_offset=0,   # Optional, offset of back pointing head mark\n",
       "        symmetric=False, # If true draw two arrow head segments (default False)\n",
       "        line_offset=5,  # offset of back arrow from forward arros\n",
       "    )\n",
       "\n",
       "```"
      ],
      "text/plain": [
       "<IPython.core.display.Markdown object>"
      ]
     },
     "metadata": {},
     "output_type": "display_data"
    },
    {
     "data": {
      "application/vnd.jupyter.widget-view+json": {
       "model_id": "4a7c28c958d040ad89f8c32d5476c825",
       "version_major": 2,
       "version_minor": 0
      },
      "text/plain": [
       "DualCanvasWidget(status='Not yet rendered')"
      ]
     },
     "metadata": {},
     "output_type": "display_data"
    }
   ],
   "source": [
    "eg.py_double_arrow_example()"
   ]
  },
  {
   "cell_type": "code",
   "execution_count": 10,
   "metadata": {},
   "outputs": [
    {
     "data": {
      "text/markdown": [
       "\n",
       "### 2.1 Drawing polylines\n",
       "\n",
       "The `polyline` method draws sequence of connected line segments.\n"
      ],
      "text/plain": [
       "<IPython.core.display.Markdown object>"
      ]
     },
     "metadata": {},
     "output_type": "display_data"
    },
    {
     "data": {
      "text/markdown": [
       "```Python\n",
       "\n",
       "    points = [(50,20), (40, 60), (140, 111), (300,4), (100,70)]\n",
       "    widget.polyline(\n",
       "        points=points, # The vertices of the polyline path\n",
       "        color=\"green\",   # Optional color (default: \"black\")\n",
       "        lineWidth=3,    # Optional line width\n",
       "        lineDash=[5,5], # Optional line dash pattern\n",
       "    )\n",
       "\n",
       "```"
      ],
      "text/plain": [
       "<IPython.core.display.Markdown object>"
      ]
     },
     "metadata": {},
     "output_type": "display_data"
    },
    {
     "data": {
      "application/vnd.jupyter.widget-view+json": {
       "model_id": "bb0ad04b953044979897498bd35acdf8",
       "version_major": 2,
       "version_minor": 0
      },
      "text/plain": [
       "DualCanvasWidget(status='Not yet rendered')"
      ]
     },
     "metadata": {},
     "output_type": "display_data"
    }
   ],
   "source": [
    "eg.py_polyline_example()"
   ]
  },
  {
   "cell_type": "code",
   "execution_count": 11,
   "metadata": {},
   "outputs": [
    {
     "data": {
      "text/markdown": [
       "\n",
       "### 2.1 Drawing polygons\n",
       "\n",
       "The `polygon` method draws closed sequence of connected line segments.\n"
      ],
      "text/plain": [
       "<IPython.core.display.Markdown object>"
      ]
     },
     "metadata": {},
     "output_type": "display_data"
    },
    {
     "data": {
      "text/markdown": [
       "```Python\n",
       "\n",
       "    points = [(50,20), (40, 60), (140, 111), (300,4), (100,70)]\n",
       "    widget.polygon(\n",
       "        points=points, # The vertices of the polyline path\n",
       "        color=\"green\",   # Optional color (default: \"black\")\n",
       "        lineWidth=3,    # Optional line width\n",
       "        lineDash=[5,5], # Optional line dash pattern\n",
       "        fill=False,     # Optional, if True (default) fill interior\n",
       "    )\n",
       "\n",
       "```"
      ],
      "text/plain": [
       "<IPython.core.display.Markdown object>"
      ]
     },
     "metadata": {},
     "output_type": "display_data"
    },
    {
     "data": {
      "application/vnd.jupyter.widget-view+json": {
       "model_id": "52467d7348bc48dfbd3bdc18d7af164b",
       "version_major": 2,
       "version_minor": 0
      },
      "text/plain": [
       "DualCanvasWidget(status='Not yet rendered')"
      ]
     },
     "metadata": {},
     "output_type": "display_data"
    }
   ],
   "source": [
    "eg.py_polygon_example()"
   ]
  },
  {
   "cell_type": "code",
   "execution_count": 12,
   "metadata": {},
   "outputs": [
    {
     "data": {
      "text/markdown": [
       "\n",
       "### 2.1 Drawing circles with canvas relative radius\n",
       "\n",
       "The `circle` method draws a circle sized relative to the canvas\n",
       "coordinate system.  Circles on two frames with the same radius\n",
       "will have the same size.\n"
      ],
      "text/plain": [
       "<IPython.core.display.Markdown object>"
      ]
     },
     "metadata": {},
     "output_type": "display_data"
    },
    {
     "data": {
      "text/markdown": [
       "```Python\n",
       "   \n",
       "    frame = widget.frame_region(\n",
       "        minx=10, miny=10, maxx=100, maxy=100,\n",
       "        frame_minx=-3, frame_miny=0, frame_maxx=3, frame_maxy=6,\n",
       "    )\n",
       "    # Draw a circle positioned relative to the frame and sized relative to the canvas.\n",
       "    frame.circle(\n",
       "        x=4,\n",
       "        y=2.5,\n",
       "        r=20,  # radius \"r\" is in canvas coordinates, not frame coordinates\n",
       "        color=\"blue\",\n",
       "        fill=False,\n",
       "        lineWidth=5,\n",
       "        lineDash=[5,5],\n",
       "    )\n",
       "\n",
       "```"
      ],
      "text/plain": [
       "<IPython.core.display.Markdown object>"
      ]
     },
     "metadata": {},
     "output_type": "display_data"
    },
    {
     "data": {
      "application/vnd.jupyter.widget-view+json": {
       "model_id": "48076ed998b340539fee0fb66b39148b",
       "version_major": 2,
       "version_minor": 0
      },
      "text/plain": [
       "DualCanvasWidget(status='Not yet rendered')"
      ]
     },
     "metadata": {},
     "output_type": "display_data"
    }
   ],
   "source": [
    "eg.py_circle_example()"
   ]
  },
  {
   "cell_type": "code",
   "execution_count": 13,
   "metadata": {},
   "outputs": [
    {
     "data": {
      "text/markdown": [
       "\n",
       "### 2.1 Drawing circles with frame relative radius\n",
       "\n",
       "The `frame_circle` method draws a circle sized relative to the current reference frame\n",
       "coordinate system.  Frame circles on two frames with the same radius\n",
       "may have different sizes if the scaling differs between the frames.\n"
      ],
      "text/plain": [
       "<IPython.core.display.Markdown object>"
      ]
     },
     "metadata": {},
     "output_type": "display_data"
    },
    {
     "data": {
      "text/markdown": [
       "```Python\n",
       "   \n",
       "    frame = widget.frame_region(\n",
       "        minx=10, miny=10, maxx=100, maxy=100,\n",
       "        frame_minx=-3, frame_miny=0, frame_maxx=3, frame_maxy=6,\n",
       "    )\n",
       "    # Draw a circle positioned and sized relative to the frame.\n",
       "    frame.frame_circle(\n",
       "        x=4,\n",
       "        y=2.5,\n",
       "        r=3,  # radius \"r\" is in frame coordinates\n",
       "        color=\"blue\",\n",
       "        fill=True,\n",
       "    )\n",
       "\n",
       "```"
      ],
      "text/plain": [
       "<IPython.core.display.Markdown object>"
      ]
     },
     "metadata": {},
     "output_type": "display_data"
    },
    {
     "data": {
      "application/vnd.jupyter.widget-view+json": {
       "model_id": "3d7f571c082f4141821e5b662b3e65c6",
       "version_major": 2,
       "version_minor": 0
      },
      "text/plain": [
       "DualCanvasWidget(status='Not yet rendered')"
      ]
     },
     "metadata": {},
     "output_type": "display_data"
    }
   ],
   "source": [
    "eg.py_frame_circle_example()"
   ]
  },
  {
   "cell_type": "code",
   "execution_count": 14,
   "metadata": {},
   "outputs": [
    {
     "data": {
      "text/markdown": [
       "\n",
       "### 2.1 Drawing stars\n",
       "\n",
       "The `star` method draws a star on the canvas.\n"
      ],
      "text/plain": [
       "<IPython.core.display.Markdown object>"
      ]
     },
     "metadata": {},
     "output_type": "display_data"
    },
    {
     "data": {
      "text/markdown": [
       "```Python\n",
       "   \n",
       "    # Draw a star (always positioned and sized relative to the frame)\n",
       "    widget.star(\n",
       "        x=40, y=25, radius=30,\n",
       "        points=5,   # optional number of points\n",
       "        point_factor=2.1,  # optional scale factor for outer radius\n",
       "        color=\"magenta\",\n",
       "        fill=False,\n",
       "        lineWidth=5,\n",
       "        lineDash=[5,5],\n",
       "    )\n",
       "\n",
       "```"
      ],
      "text/plain": [
       "<IPython.core.display.Markdown object>"
      ]
     },
     "metadata": {},
     "output_type": "display_data"
    },
    {
     "data": {
      "application/vnd.jupyter.widget-view+json": {
       "model_id": "ccbf90cdacba4fa8b1b0d785c8bbda3c",
       "version_major": 2,
       "version_minor": 0
      },
      "text/plain": [
       "DualCanvasWidget(status='Not yet rendered')"
      ]
     },
     "metadata": {},
     "output_type": "display_data"
    }
   ],
   "source": [
    "eg.py_star_example()"
   ]
  },
  {
   "cell_type": "code",
   "execution_count": 15,
   "metadata": {},
   "outputs": [
    {
     "data": {
      "text/markdown": [
       "\n",
       "### 2.1 Drawing rectangles with canvas relative size\n",
       "\n",
       "The `rect` method draws a rectangle sized relative to the canvas\n",
       "coordinate system.  `rect`s on two frames with the same width and height\n",
       "will have the same size.\n"
      ],
      "text/plain": [
       "<IPython.core.display.Markdown object>"
      ]
     },
     "metadata": {},
     "output_type": "display_data"
    },
    {
     "data": {
      "text/markdown": [
       "```Python\n",
       " \n",
       "    frame = widget.frame_region(\n",
       "        minx=10, miny=10, maxx=100, maxy=100,\n",
       "        frame_minx=-3, frame_miny=0, frame_maxx=3, frame_maxy=6,\n",
       "    )\n",
       "\n",
       "    # Draw a rectangle positioned and sized relative to the frame.\n",
       "    (x,y) = (4, 2.5)\n",
       "    frame.rect(\n",
       "        x=x, y=y,  # rectangle position relative to the canvas\n",
       "        w=50, h=40,  # width and height relative to the frame\n",
       "        dx=-10, dy=-10,  # offset of lower left corner from (x,y) relative to the canvas\n",
       "        color=\"green\",\n",
       "        degrees=10,  # optional rotation in degrees\n",
       "        fill=False,\n",
       "        lineWidth=5,\n",
       "        lineDash=[5,5],\n",
       "    )\n",
       "    # Draw a reference point at (x, y)\n",
       "    frame.circle(x, y, 5, \"red\")\n",
       "    frame.lower_left_axes(color=\"pink\")\n",
       "\n",
       "```"
      ],
      "text/plain": [
       "<IPython.core.display.Markdown object>"
      ]
     },
     "metadata": {},
     "output_type": "display_data"
    },
    {
     "data": {
      "application/vnd.jupyter.widget-view+json": {
       "model_id": "f48ef4448b3a485597f06802ea3077a5",
       "version_major": 2,
       "version_minor": 0
      },
      "text/plain": [
       "DualCanvasWidget(status='Not yet rendered')"
      ]
     },
     "metadata": {},
     "output_type": "display_data"
    }
   ],
   "source": [
    "eg.py_rect_example()"
   ]
  },
  {
   "cell_type": "code",
   "execution_count": 16,
   "metadata": {},
   "outputs": [
    {
     "data": {
      "text/markdown": [
       "\n",
       "### 2.1 Drawing rectangles with frame relative size\n",
       "\n",
       "The `frame_rect` method draws a rectangle sized relative to the current reference frame\n",
       "coordinate system.  `frame_rect`s on two frames with the same width and height\n",
       "may have the different sizes.\n"
      ],
      "text/plain": [
       "<IPython.core.display.Markdown object>"
      ]
     },
     "metadata": {},
     "output_type": "display_data"
    },
    {
     "data": {
      "text/markdown": [
       "```Python\n",
       "    \n",
       "    frame = widget.frame_region(\n",
       "        minx=10, miny=10, maxx=100, maxy=100,\n",
       "        frame_minx=-3, frame_miny=0, frame_maxx=3, frame_maxy=6,\n",
       "    )\n",
       "    # Draw a rectangle positioned and sized relative to the frame.\n",
       "    (x,y) = (4, 2.5)\n",
       "    frame.frame_rect(\n",
       "        x=x, y=y,  # rectangle position\n",
       "        w=5, h=4,  # width and height relative to frame\n",
       "        dx=-1, dy=-1,  # offset of lower left corner from (x,y) relative to frame\n",
       "        color=\"green\",\n",
       "        fill=False,\n",
       "        degrees=10,  # optional rotation in degrees\n",
       "        lineWidth=5,\n",
       "        lineDash=[5,5],\n",
       "    )\n",
       "    # Draw a reference point at (x, y)\n",
       "    frame.circle(x, y, 5, \"red\")\n",
       "    frame.lower_left_axes(color=\"pink\")\n",
       "\n",
       "```"
      ],
      "text/plain": [
       "<IPython.core.display.Markdown object>"
      ]
     },
     "metadata": {},
     "output_type": "display_data"
    },
    {
     "data": {
      "application/vnd.jupyter.widget-view+json": {
       "model_id": "8763a94535da4b9ba216b398c1eb458d",
       "version_major": 2,
       "version_minor": 0
      },
      "text/plain": [
       "DualCanvasWidget(status='Not yet rendered')"
      ]
     },
     "metadata": {},
     "output_type": "display_data"
    }
   ],
   "source": [
    "eg.py_canvas_rect_example()"
   ]
  },
  {
   "cell_type": "code",
   "execution_count": 17,
   "metadata": {},
   "outputs": [
    {
     "data": {
      "text/markdown": [
       "\n",
       "### 2.1 Drawing text\n",
       "\n",
       "The `text` method draws a text screen on the canvas.\n",
       "The position of the text is determined by the current reference frame\n",
       "but the text font parameters are relative to the shared canvas coordinate space.\n"
      ],
      "text/plain": [
       "<IPython.core.display.Markdown object>"
      ]
     },
     "metadata": {},
     "output_type": "display_data"
    },
    {
     "data": {
      "text/markdown": [
       "```Python\n",
       "   \n",
       "    (x, y) = (50,20)\n",
       "    widget.text(\n",
       "        x=x, y=y, # The vertices of the polyline path\n",
       "        text=\"We the people\",\n",
       "        color=\"white\",   # Optional color (default: \"black\")\n",
       "        font=\"italic 52px Courier\",   # optional\n",
       "        background=\"#a00\",  # optional\n",
       "        degrees=-15,  # optional rotation in degrees\n",
       "        align=\"center\", # or \"left\" or \"right\", optional\n",
       "        valign=\"center\",  # or \"bottom\", optional\n",
       "    )\n",
       "    # Draw a reference point at (x, y)\n",
       "    widget.circle(x, y, 5, \"magenta\")\n",
       "\n",
       "```"
      ],
      "text/plain": [
       "<IPython.core.display.Markdown object>"
      ]
     },
     "metadata": {},
     "output_type": "display_data"
    },
    {
     "data": {
      "application/vnd.jupyter.widget-view+json": {
       "model_id": "5e6c9491660b42e0927743a41e202654",
       "version_major": 2,
       "version_minor": 0
      },
      "text/plain": [
       "DualCanvasWidget(status='Not yet rendered')"
      ]
     },
     "metadata": {},
     "output_type": "display_data"
    }
   ],
   "source": [
    "eg.py_text_example()"
   ]
  },
  {
   "cell_type": "code",
   "execution_count": 18,
   "metadata": {},
   "outputs": [
    {
     "data": {
      "text/markdown": [
       "\n",
       "### 2.1 Drawing whole images\n",
       "\n",
       "Before an image can be drawn on a canvas\n",
       "the image must be loaded.  The `name_imagea_url` methodß\n",
       "loads an image from a file or a remote resource.\n",
       "After the image has been loaded and named the `named_image`\n",
       "draws the loaded image.  If no subimage is specified\n",
       "the whole image is drawn into the rectangular region.\n",
       "A loaded image may be drawn any number of times.\n"
      ],
      "text/plain": [
       "<IPython.core.display.Markdown object>"
      ]
     },
     "metadata": {},
     "output_type": "display_data"
    },
    {
     "data": {
      "text/markdown": [
       "```Python\n",
       "   \n",
       "    # load the image from a remote resource\n",
       "    mandrill_url = \"http://sipi.usc.edu/database/preview/misc/4.2.03.png\"\n",
       "    widget.name_image_url(\n",
       "        image_name=\"mandrill\",\n",
       "        url=mandrill_url,\n",
       "    )\n",
       "    # draw the named image (any number of times)\n",
       "    (x, y) = (50,20)\n",
       "    widget.named_image(  # Draw the *whole* image (don't specify the s* parameters)\n",
       "        image_name=\"mandrill\",\n",
       "        x=x, y=y,  # rectangle position relative to the canvas\n",
       "        w=150, h=140,  # width and height relative to the frame\n",
       "        dx=-30, dy=-50,  # optional offset of lower left corner from (x,y) relative to the canvas\n",
       "        degrees=10,  # optional rotation in degrees\n",
       "    )\n",
       "    # Draw a reference point at (x, y)\n",
       "    widget.circle(x, y, 5, \"magenta\")\n",
       "\n",
       "```"
      ],
      "text/plain": [
       "<IPython.core.display.Markdown object>"
      ]
     },
     "metadata": {},
     "output_type": "display_data"
    },
    {
     "data": {
      "application/vnd.jupyter.widget-view+json": {
       "model_id": "929c1c3429c543deb8c43de8dfddecce",
       "version_major": 2,
       "version_minor": 0
      },
      "text/plain": [
       "DualCanvasWidget(status='Not yet rendered')"
      ]
     },
     "metadata": {},
     "output_type": "display_data"
    }
   ],
   "source": [
    "eg.py_full_image_example()"
   ]
  },
  {
   "cell_type": "code",
   "execution_count": 19,
   "metadata": {},
   "outputs": [
    {
     "data": {
      "text/markdown": [
       "\n",
       "### 2.1 Drawing parts of images\n",
       "\n",
       "The `named_image`\n",
       "draws part of a loaded image if the subimage parameters\n",
       "sx, sy, sWidth, and sHeight are specified.\n"
      ],
      "text/plain": [
       "<IPython.core.display.Markdown object>"
      ]
     },
     "metadata": {},
     "output_type": "display_data"
    },
    {
     "data": {
      "text/markdown": [
       "```Python\n",
       " \n",
       "    # load the image from a remote resource\n",
       "    mandrill_url = \"http://sipi.usc.edu/database/preview/misc/4.2.03.png\"\n",
       "    widget.name_image_url(\n",
       "        image_name=\"mandrill\",\n",
       "        url=mandrill_url,\n",
       "    )\n",
       "    # draw the named image (any number of times)\n",
       "    (x, y) = (50,20)\n",
       "    widget.named_image(  # Draw just the eyes (by specifying the subimage)\n",
       "        image_name=\"mandrill\",\n",
       "        x=x, y=y,  # rectangle position relative to the canvas\n",
       "        w=150, h=40,  # width and height relative to the frame\n",
       "        dx=-30, dy=-10,  # optional offset of lower left corner from (x,y) relative to the canvas\n",
       "        degrees=10,  # optional rotation in degrees\n",
       "        sx=30, sy=15, # subimage upper left corner in image coordinates\n",
       "        sWidth=140, sHeight=20,  # subimage extent in image coordinates\n",
       "    )\n",
       "    # Draw a reference point at (x, y)\n",
       "    widget.circle(x, y, 5, \"magenta\")\n",
       "\n",
       "```"
      ],
      "text/plain": [
       "<IPython.core.display.Markdown object>"
      ]
     },
     "metadata": {},
     "output_type": "display_data"
    },
    {
     "data": {
      "application/vnd.jupyter.widget-view+json": {
       "model_id": "bc154098cff04df8af464364cc11f1c3",
       "version_major": 2,
       "version_minor": 0
      },
      "text/plain": [
       "DualCanvasWidget(status='Not yet rendered')"
      ]
     },
     "metadata": {},
     "output_type": "display_data"
    }
   ],
   "source": [
    "eg.py_part_image_example()"
   ]
  },
  {
   "cell_type": "code",
   "execution_count": null,
   "metadata": {},
   "outputs": [],
   "source": [
    "eg.py_bw_image_example()"
   ]
  },
  {
   "cell_type": "code",
   "execution_count": 20,
   "metadata": {},
   "outputs": [
    {
     "data": {
      "application/vnd.jupyter.widget-view+json": {
       "model_id": "71e3a6a465604f4f8de9ed3b6050a38a",
       "version_major": 2,
       "version_minor": 0
      },
      "text/plain": [
       "DualCanvasWidget(status='Not yet rendered')"
      ]
     },
     "metadata": {},
     "output_type": "display_data"
    }
   ],
   "source": [
    "widget = dual_canvas.DualCanvasWidget(width=420, height=120, font=\"italic 12px Courier\",)\n",
    "\n",
    "# load the image from a \"black and white\" numpy array\n",
    "import numpy as np\n",
    "checkerboard = np.zeros((8,8))\n",
    "for i in range(8):\n",
    "    for j in range(8):\n",
    "        if (i + j) % 2 == 0:\n",
    "            checkerboard[i,j] = 64 + 3*i*j\n",
    "widget.name_image_array(\n",
    "    image_name=\"checkerboard\",\n",
    "    np_array=checkerboard,\n",
    ")\n",
    "# draw the named image (any number of times)\n",
    "(x, y) = (50,20)\n",
    "widget.named_image(  # Draw just the eyes (by specifying the subimage)\n",
    "    image_name=\"checkerboard\",\n",
    "    x=x, y=y,  # rectangle position relative to the canvas\n",
    "    w=150, h=140,  # width and height relative to the frame\n",
    "    dx=-30, dy=-10,  # offset of lower left corner from (x,y) relative to the canvas\n",
    "    degrees=10,  # optional rotation in degrees\n",
    ")\n",
    "# Draw a reference point at (x, y)\n",
    "widget.circle(x, y, 5, \"magenta\")\n",
    "\n",
    "widget.fit()\n",
    "widget.lower_left_axes(color=\"#999\")\n",
    "widget.fit(margin=10)\n",
    "widget"
   ]
  },
  {
   "cell_type": "code",
   "execution_count": 21,
   "metadata": {},
   "outputs": [
    {
     "data": {
      "application/vnd.jupyter.widget-view+json": {
       "model_id": "e4877c2b64ab4fbeadee507661f43d76",
       "version_major": 2,
       "version_minor": 0
      },
      "text/plain": [
       "DualCanvasWidget(status='Not yet rendered')"
      ]
     },
     "metadata": {},
     "output_type": "display_data"
    }
   ],
   "source": [
    "widget = dual_canvas.DualCanvasWidget(width=420, height=120, font=\"italic 12px Courier\",)\n",
    "\n",
    "# load the image from a \"color\" numpy array\n",
    "import numpy as np\n",
    "checkerboard = np.zeros((8,8,3))\n",
    "R = G = B = 255\n",
    "for i in range(8):\n",
    "    for j in range(8):\n",
    "        if (i + j) % 2 == 0:\n",
    "            checkerboard[i,j] = (R, G, B)\n",
    "            R = (G + 123) % 256\n",
    "        else:\n",
    "            checkerboard[i,j] = (G, R, R)\n",
    "            G = (R + 201) % 256\n",
    "            \n",
    "widget.name_image_array(\n",
    "    image_name=\"checkerboard\",\n",
    "    np_array=checkerboard,\n",
    ")\n",
    "# draw the named image (any number of times)\n",
    "(x, y) = (50,20)\n",
    "widget.named_image(  # Draw just the eyes (by specifying the subimage)\n",
    "    image_name=\"checkerboard\",\n",
    "    x=x, y=y,  # rectangle position relative to the canvas\n",
    "    w=150, h=140,  # width and height relative to the frame\n",
    "    dx=-30, dy=-10,  # offset of lower left corner from (x,y) relative to the canvas\n",
    "    degrees=-50,  # optional rotation in degrees\n",
    ")\n",
    "# Draw a reference point at (x, y)\n",
    "widget.circle(x, y, 5, \"magenta\")\n",
    "\n",
    "widget.fit()\n",
    "widget.lower_left_axes(color=\"#999\")\n",
    "widget.fit(margin=10)\n",
    "widget"
   ]
  },
  {
   "cell_type": "code",
   "execution_count": 22,
   "metadata": {},
   "outputs": [
    {
     "data": {
      "application/vnd.jupyter.widget-view+json": {
       "model_id": "0d013e80afd846cb9bbb920de7d8bdeb",
       "version_major": 2,
       "version_minor": 0
      },
      "text/plain": [
       "DualCanvasWidget(status='Not yet rendered')"
      ]
     },
     "metadata": {},
     "output_type": "display_data"
    }
   ],
   "source": [
    "widget = dual_canvas.DualCanvasWidget(width=420, height=120, font=\"italic 12px Courier\",)\n",
    "\n",
    "widget.left_axis(\n",
    "    min_value=10,\n",
    "    max_value=80,\n",
    "    axis_origin=dict(x=40, y=0),\n",
    "    max_tick_count=3,\n",
    "    color=\"green\",\n",
    "    add_end_points=True\n",
    ")\n",
    "widget.right_axis(\n",
    "    min_value=10,\n",
    "    max_value=80,\n",
    "    axis_origin=dict(x=240, y=0),\n",
    "    max_tick_count=7,\n",
    "    color=\"red\"\n",
    ")\n",
    "widget.bottom_axis(\n",
    "    min_value=60,\n",
    "    max_value=110,\n",
    "    axis_origin=dict(x=0, y=20),\n",
    "    max_tick_count=5,\n",
    "    color=\"blue\"\n",
    ")\n",
    "widget.top_axis(\n",
    "    min_value=130,\n",
    "    max_value=180,\n",
    "    axis_origin=dict(x=0, y=100),\n",
    "    max_tick_count=5,\n",
    "    color=\"orange\"\n",
    ")\n",
    "\n",
    "widget.lower_left_axes(\n",
    "    min_x=50, \n",
    "    min_y=30, \n",
    "    max_x=210, \n",
    "    max_y=90, \n",
    "    x_anchor=130, \n",
    "    y_anchor=66, \n",
    "    max_tick_count=4, \n",
    "    color=\"brown\")\n",
    "\n",
    "widget.fit()\n",
    "#widget.lower_left_axes(color=\"#999\")\n",
    "widget.fit(margin=10)\n",
    "widget"
   ]
  },
  {
   "cell_type": "markdown",
   "metadata": {},
   "source": [
    "# Part 3: Events and mutations\n",
    "\n",
    "Objects which have been explicitly named can be changed (moved, resized, deleted, transitioned, etcetera)\n",
    "and unless events are disabled for the object the object can respond to mouse events (mouse over,\n",
    "click, etcetera).\n"
   ]
  },
  {
   "cell_type": "code",
   "execution_count": 23,
   "metadata": {},
   "outputs": [
    {
     "data": {
      "application/vnd.jupyter.widget-view+json": {
       "model_id": "e89c8d2a519240d1aff663f55cae7ac5",
       "version_major": 2,
       "version_minor": 0
      },
      "text/plain": [
       "DualCanvasWidget(status='Not yet rendered')"
      ]
     },
     "metadata": {},
     "output_type": "display_data"
    }
   ],
   "source": [
    "widget = dual_canvas.DualCanvasWidget(width=320, height=220)\n",
    "\n",
    "# this circle cannot be mutated and does not respond to events because it is not named.\n",
    "widget.circle(x=0, y=0, r=100, color=\"#e99\")\n",
    "\n",
    "# this text is named and can be mutated and can respond to events\n",
    "txt = widget.text(x=0, y=0, text=\"Hello World\", degrees=45, name=True,\n",
    "           font= \"40pt Arial\", color=\"#ee3\", background=\"#9e9\", align=\"center\", valign=\"center\")\n",
    "\n",
    "# add a click event bound to the txt which transitions the text rotation\n",
    "def on_click(*ignored):\n",
    "    txt.transition(text=\"That tickles\", degrees=720, color=\"#f90\", background=\"#009\", seconds_duration=5)\n",
    "    \n",
    "txt.on(\"click\", on_click)\n",
    "\n",
    "widget.fit()\n",
    "widget"
   ]
  },
  {
   "cell_type": "code",
   "execution_count": 24,
   "metadata": {},
   "outputs": [
    {
     "data": {
      "application/vnd.jupyter.widget-view+json": {
       "model_id": "7cb978e98a62432bb4a75af6df8086cd",
       "version_major": 2,
       "version_minor": 0
      },
      "text/plain": [
       "DualCanvasWidget(status='Not yet rendered')"
      ]
     },
     "metadata": {},
     "output_type": "display_data"
    }
   ],
   "source": [
    "# Unnamed objects are invisible to events\n",
    "widget = dual_canvas.DualCanvasWidget(width=320, height=220)\n",
    "\n",
    "# this text is named and can be mutated and can respond to events\n",
    "txt = widget.text(x=0, y=0, text=\"Hello World\", degrees=45, name=True,\n",
    "           font= \"40pt Arial\", color=\"#ee3\", background=\"#9e9\", align=\"center\", valign=\"center\")\n",
    "\n",
    "# this circle cannot be mutated and does not respond to events because it is not named.\n",
    "# Clicks on the circle above the underlying text will propagate to the text object.\n",
    "widget.circle(x=0, y=0, r=100, color=\"#e99\")\n",
    "\n",
    "# add a click event bound to the txt which transitions the text rotation\n",
    "def on_click(*ignored):\n",
    "    txt.transition(text=\"That tickles\", degrees=720, color=\"#f90\", background=\"#009\", seconds_duration=5)\n",
    "    \n",
    "txt.on(\"click\", on_click)\n",
    "\n",
    "widget.fit()\n",
    "widget"
   ]
  },
  {
   "cell_type": "code",
   "execution_count": 25,
   "metadata": {},
   "outputs": [
    {
     "data": {
      "application/vnd.jupyter.widget-view+json": {
       "model_id": "a8d05fffe4c04cda825a1f5e03597de1",
       "version_major": 2,
       "version_minor": 0
      },
      "text/plain": [
       "DualCanvasWidget(status='Not yet rendered')"
      ]
     },
     "metadata": {},
     "output_type": "display_data"
    }
   ],
   "source": [
    "# Only the top named object responds to events\n",
    "widget = dual_canvas.DualCanvasWidget(width=320, height=220)\n",
    "\n",
    "# this text is named and can be mutated and can respond to events\n",
    "txt = widget.text(x=0, y=0, text=\"Hello World\", degrees=45, name=True,\n",
    "           font= \"40pt Arial\", color=\"#ee3\", background=\"#9e9\", align=\"center\", valign=\"center\")\n",
    "\n",
    "# this circle CAN be mutated and DOES respond to events because it is not named.\n",
    "# and clicks on the circle will NOT \"propagate to the text object underneith.\n",
    "widget.circle(x=0, y=0, r=100, color=\"#e99\",\n",
    "             name=True)\n",
    "\n",
    "# add a click event bound to the txt which transitions the text rotation\n",
    "def on_click(*ignored):\n",
    "    txt.transition(text=\"That tickles\", degrees=720, color=\"#f90\", background=\"#009\", seconds_duration=5)\n",
    "    \n",
    "txt.on(\"click\", on_click)\n",
    "\n",
    "widget.fit()\n",
    "widget"
   ]
  },
  {
   "cell_type": "code",
   "execution_count": 26,
   "metadata": {},
   "outputs": [
    {
     "data": {
      "application/vnd.jupyter.widget-view+json": {
       "model_id": "59ad850574e84b84b15ee1f2e564f9d8",
       "version_major": 2,
       "version_minor": 0
      },
      "text/plain": [
       "DualCanvasWidget(status='Not yet rendered')"
      ]
     },
     "metadata": {},
     "output_type": "display_data"
    }
   ],
   "source": [
    "# events=False makes a named object invisible to events.\n",
    "widget = dual_canvas.DualCanvasWidget(width=320, height=220)\n",
    "\n",
    "# this text is named and can be mutated and can respond to events\n",
    "txt = widget.text(x=0, y=0, text=\"Hello World\", degrees=45, name=True,\n",
    "           font= \"40pt Arial\", color=\"#ee3\", background=\"#9e9\", align=\"center\", valign=\"center\")\n",
    "\n",
    "# this circle can be mutated but does not respond to events because it is named but events are disabled.\n",
    "# Clicks on the circle above the underlying text will propagate to the text object.\n",
    "widget.circle(x=0, y=0, r=100, color=\"#e99\",\n",
    "             name=True, events=False)\n",
    "\n",
    "# add a click event bound to the txt which transitions the text rotation\n",
    "def on_click(*ignored):\n",
    "    txt.transition(text=\"That tickles\", degrees=720, color=\"#f90\", background=\"#009\", seconds_duration=5)\n",
    "    \n",
    "txt.on(\"click\", on_click)\n",
    "\n",
    "widget.fit()\n",
    "widget"
   ]
  },
  {
   "cell_type": "code",
   "execution_count": null,
   "metadata": {},
   "outputs": [],
   "source": []
  }
 ],
 "metadata": {
  "kernelspec": {
   "display_name": "Python 3",
   "language": "python",
   "name": "python3"
  },
  "language_info": {
   "codemirror_mode": {
    "name": "ipython",
    "version": 3
   },
   "file_extension": ".py",
   "mimetype": "text/x-python",
   "name": "python",
   "nbconvert_exporter": "python",
   "pygments_lexer": "ipython3",
   "version": "3.6.8"
  }
 },
 "nbformat": 4,
 "nbformat_minor": 2
}
