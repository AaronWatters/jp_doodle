{
 "cells": [
  {
   "cell_type": "markdown",
   "metadata": {},
   "source": [
    "# `dual_canvas` Javascript quick reference.\n",
    "\n",
    "This document is part of the \n",
    "<a href=\"https://github.com/AaronWatters/jp_doodle\">https://github.com/AaronWatters/jp_doodle</a>\n",
    "package.\n",
    "It provides a quick reference\n",
    "to using the `dual_canvas` object API in Javascript to build visualizations.\n",
    "The document comes in several forms -- it is initially executed as a live Jupyter\n",
    "notebook and is later translated to other formats.\n",
    "\n",
    "A `dual canvas` provides a region on a web page or Jupyter notebook on which\n",
    "to draw geometric objects with associated mouse interactions and animations in order\n",
    "to create interactive visualizations.\n",
    "\n",
    "## Creating dual canvases\n",
    "\n",
    "The Javascript API for dual canvases may be used in any web context. \n",
    "In standard\n",
    "web pages a `dual_canvas` is implemented as a jQueryUI plug in component.\n",
    "In Jupyter notebooks a `dual_canvas` is \"wrapped\" as a widget. \n",
    "The dual canvas functionality\n",
    "requires `jQuery` and `jQueryUI` in addition to the canvas object implementation\n",
    "files `canvas_2d_widget_helper.js` and `dual_canvas_helper.js`.  \n",
    "\n",
    "### Create a dual canvas in \"vanilla HTML5\"\n",
    "\n",
    "Below is a complete \n",
    "<a href=\"minimal.html\">\"Hello world\" HTML file</a>\n",
    "which draws a dual canvas in a target\n",
    "location on a web page.  It pulls required style sheets and Javascript libraries from `github.io`."
   ]
  },
  {
   "cell_type": "code",
   "execution_count": 1,
   "metadata": {},
   "outputs": [
    {
     "data": {
      "text/markdown": [
       "```HTML\n",
       "<html>\n",
       "<head>\n",
       "<title> Dual Canvas HTML Hello World </title>\n",
       "    <link rel=\"stylesheet\" href=\"https://aaronwatters.github.io/jp_doodle/jquery-ui-1.12.1/jquery-ui.css\">\n",
       "    <script src=\"https://aaronwatters.github.io/jp_doodle/jquery-ui-1.12.1/external/jquery/jquery.js\"></script>\n",
       "    <script src=\"https://aaronwatters.github.io/jp_doodle/jquery-ui-1.12.1/jquery-ui.js\"></script>\n",
       "    <script src=\"https://aaronwatters.github.io/jp_doodle/jp_doodle_js/canvas_2d_widget_helper.js\"></script>\n",
       "    <script src=\"https://aaronwatters.github.io/jp_doodle/jp_doodle_js/dual_canvas_helper.js\"></script>\n",
       "    <link rel=stylesheet href=\"https://aaronwatters.github.io/jp_doodle/static/style.css\">\n",
       "</head>\n",
       "<body>\n",
       "    <p>Canvas below:</p>\n",
       "    <div id=\"target_div\"/>\n",
       "    <script>\n",
       "        var element = $('#target_div');\n",
       "        var config = {\n",
       "                    width: 400,\n",
       "                    height: 200,\n",
       "                };\n",
       "        element.dual_canvas_helper(config);\n",
       "        element.circle({x:0, y:0, r:100, color:\"#e99\"})\n",
       "        element.text({x:0, y:0, text:\"Hello World\", degrees:45,\n",
       "           font: \"40pt Arial\", color:\"#ee3\", background:\"#9e9\", align:\"center\", valign:\"center\"})\n",
       "        element.fit()\n",
       "    </script>\n",
       "</body>\n",
       "</html>\n",
       "```"
      ],
      "text/plain": [
       "<IPython.core.display.Markdown object>"
      ]
     },
     "metadata": {},
     "output_type": "display_data"
    }
   ],
   "source": [
    "# This qr_helper module provides helper functionality for displaying this quick reference.\n",
    "import qr_helper as eg\n",
    "eg.html_hello_world()"
   ]
  },
  {
   "cell_type": "markdown",
   "metadata": {},
   "source": [
    "### Using the Javascript API in Jupyter notebooks\n",
    "\n",
    "It is often useful to use the Javascript API with a canvas created in a Jupyter widget.\n",
    "The following ..."
   ]
  },
  {
   "cell_type": "code",
   "execution_count": 2,
   "metadata": {},
   "outputs": [
    {
     "data": {
      "application/vnd.jupyter.widget-view+json": {
       "model_id": "5072d91f5dd44ea2a552ec85f712271e",
       "version_major": 2,
       "version_minor": 0
      },
      "text/plain": [
       "DualCanvasWidget(status='Not yet rendered')"
      ]
     },
     "metadata": {},
     "output_type": "display_data"
    }
   ],
   "source": [
    "from jp_doodle import dual_canvas\n",
    "from IPython.display import display\n",
    "\n",
    "def widget_with_javascript():\n",
    "    # Create a canvas and then use Javascript to draw on it.\n",
    "    demo = dual_canvas.DualCanvasWidget(width=420, height=120, font=\"italic 12px Courier\",)\n",
    "    \n",
    "    # Put some reference marks on the canvas to illustrate the coordinate space.\n",
    "    demo.js_init(\"\"\"\n",
    "        // Javascript code:\n",
    "        element.text({x:0, y:0, text:\"0,0\", color:\"red\", background:\"yellow\"} );\n",
    "        element.text({x:410, y:110, text:\"410,110\", align:\"right\", color:\"red\", background:\"yellow\"} );\n",
    "        element.lower_left_axes({min_x:10, min_y:10, max_x:410, \n",
    "                         max_y:110, x_anchor:100, y_anchor:40, max_tick_count:7, color:\"blue\"})\n",
    "    \"\"\")\n",
    "    eg.show(demo)  # replace with display(demo)\n",
    "\n",
    "widget_with_javascript()"
   ]
  },
  {
   "cell_type": "code",
   "execution_count": 3,
   "metadata": {},
   "outputs": [
    {
     "data": {
      "text/markdown": [
       "\n",
       "### 1.2 Create a reference frame inside a dual canvas\n",
       "\n",
       "Pixel coordinates are rarely the most convenient coordinate systems to\n",
       "use for scientific visualizations.  Reference frames allow drawing using\n",
       "transformed coordinates.  The `frame_region` method creates a frame\n",
       "by mapping reference points in the pixel space to reference\n",
       "points in the reference frame coordinate space.  Objects can then\n",
       "be drawn on the reference frame and the underlying coordinates will be\n",
       "converted automatically.\n"
      ],
      "text/plain": [
       "<IPython.core.display.Markdown object>"
      ]
     },
     "metadata": {},
     "output_type": "display_data"
    },
    {
     "data": {
      "text/markdown": [
       "```Javascript\n",
       "\n",
       "element.text({x:0, y:0, text:\"0,0\", color:\"red\", background:\"yellow\"} );\n",
       "element.text({x:410, y:110, text:\"410,110\", align:\"right\", color:\"red\", background:\"yellow\"} );\n",
       "element.lower_left_axes({min_x:10, min_y:10, max_x:410, \n",
       "                         max_y:110, x_anchor:100, y_anchor:40, max_tick_count:7, color:\"blue\"})\n",
       "\n",
       "```"
      ],
      "text/plain": [
       "<IPython.core.display.Markdown object>"
      ]
     },
     "metadata": {},
     "output_type": "display_data"
    },
    {
     "data": {
      "application/vnd.jupyter.widget-view+json": {
       "model_id": "f2c237ec3c32477581e61c44abdf97f7",
       "version_major": 2,
       "version_minor": 0
      },
      "text/plain": [
       "DualCanvasWidget(status='Not yet rendered')"
      ]
     },
     "metadata": {},
     "output_type": "display_data"
    }
   ],
   "source": [
    "eg.js_frame_example()"
   ]
  },
  {
   "cell_type": "code",
   "execution_count": null,
   "metadata": {},
   "outputs": [],
   "source": []
  }
 ],
 "metadata": {
  "kernelspec": {
   "display_name": "Python 3",
   "language": "python",
   "name": "python3"
  },
  "language_info": {
   "codemirror_mode": {
    "name": "ipython",
    "version": 3
   },
   "file_extension": ".py",
   "mimetype": "text/x-python",
   "name": "python",
   "nbconvert_exporter": "python",
   "pygments_lexer": "ipython3",
   "version": "3.6.8"
  }
 },
 "nbformat": 4,
 "nbformat_minor": 2
}
