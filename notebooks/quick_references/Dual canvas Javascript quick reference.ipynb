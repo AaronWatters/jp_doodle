{
 "cells": [
  {
   "cell_type": "markdown",
   "metadata": {},
   "source": [
    "# `dual_canvas` Javascript quick reference.\n",
    "\n",
    "\n",
    "This document is part of the \n",
    "<a href=\"https://github.com/AaronWatters/jp_doodle\">`jp_doodle` (https://github.com/AaronWatters/jp_doodle)</a>\n",
    "package.\n",
    "It provides a quick reference\n",
    "to using the `dual_canvas` Javascript API to build visualizations in\n",
    "web contexts (including Jupyter notebooks).\n",
    "\n",
    "The `dual_canvas` mechanism is designed to make it easy to develop special\n",
    "purpose interactive scientific visualizations in web contexts.\n",
    "A `dual_canvas` widget built using the Javascript interface\n",
    "can be used to build interactive and animated visualizations that live inside\n",
    "any HTML 5 web page.  Discussions below illustrate how to create a canvas, draw things on the\n",
    "canvas, modify and animate elements of a canvas, and associate mouse event actions to elements of a\n",
    "canvas, among other topics.  \n",
    "\n",
    "**About this document:** This document is an executable Jupyter notebook, or another document format\n",
    "derived from the notebook.  The next \"code cell\" imports external functionality used in the notebook.\n",
    "In the following discussion\n",
    "we use the `eg.show(demo)` helper to optionally embed an image into\n",
    "this notebook in order to facilitate file format conversion.  Please replace\n",
    "this helper with `display(demo)` when you emulate these code fragments."
   ]
  },
  {
   "cell_type": "code",
   "execution_count": 1,
   "metadata": {},
   "outputs": [
    {
     "data": {
      "text/html": [
       "<style>.container { width:100% !important; }</style>"
      ],
      "text/plain": [
       "<IPython.core.display.HTML object>"
      ]
     },
     "metadata": {},
     "output_type": "display_data"
    }
   ],
   "source": [
    "# This qr_helper module provides helper functionality for displaying this quick reference.\n",
    "import qr_helper as eg\n",
    "eg.DO_EMBEDDINGS = False  # flag indicates whether to embed images in the notebook or not (for format conversions)"
   ]
  },
  {
   "cell_type": "markdown",
   "metadata": {},
   "source": [
    "\n",
    "## Creating dual canvases\n",
    "\n",
    "The Javascript API for dual canvases may be used in any web context. \n",
    "In standard\n",
    "web pages a `dual_canvas` is implemented as a jQueryUI plug in component.\n",
    "In Jupyter notebooks a `dual_canvas` is \"wrapped\" as a widget. \n",
    "The dual canvas functionality\n",
    "requires `jQuery` and `jQueryUI` in addition to the canvas object implementation\n",
    "files `canvas_2d_widget_helper.js` and `dual_canvas_helper.js`.  \n",
    "\n",
    "### Create a dual canvas in \"vanilla HTML5\"\n",
    "\n",
    "Below is a complete \n",
    "<a href=\"minimal.html\">\"Hello world\" HTML file</a>\n",
    "which draws a dual canvas in a target\n",
    "location on a web page.  It pulls required style sheets and Javascript libraries from `github.io`."
   ]
  },
  {
   "cell_type": "code",
   "execution_count": 2,
   "metadata": {},
   "outputs": [
    {
     "data": {
      "text/markdown": [
       "```HTML\n",
       "<html>\n",
       "<head>\n",
       "<title> Dual Canvas HTML Hello World </title>\n",
       "    <link rel=\"stylesheet\" href=\"https://aaronwatters.github.io/jp_doodle/jquery-ui-1.12.1/jquery-ui.css\">\n",
       "    <script src=\"https://aaronwatters.github.io/jp_doodle/jquery-ui-1.12.1/external/jquery/jquery.js\"></script>\n",
       "    <script src=\"https://aaronwatters.github.io/jp_doodle/jquery-ui-1.12.1/jquery-ui.js\"></script>\n",
       "    <script src=\"https://aaronwatters.github.io/jp_doodle/jp_doodle_js/canvas_2d_widget_helper.js\"></script>\n",
       "    <script src=\"https://aaronwatters.github.io/jp_doodle/jp_doodle_js/dual_canvas_helper.js\"></script>\n",
       "    <link rel=stylesheet href=\"https://aaronwatters.github.io/jp_doodle/static/style.css\">\n",
       "</head>\n",
       "<body>\n",
       "    <p>Canvas below:</p>\n",
       "    <div id=\"target_div\"/>\n",
       "    <script>\n",
       "        var element = $('#target_div');\n",
       "        var config = {\n",
       "                    width: 400,\n",
       "                    height: 200,\n",
       "                };\n",
       "        element.dual_canvas_helper(config);\n",
       "        element.circle({x:0, y:0, r:100, color:\"#e99\"})\n",
       "        element.text({x:0, y:0, text:\"Hello World\", degrees:45,\n",
       "           font: \"40pt Arial\", color:\"#ee3\", background:\"#9e9\", align:\"center\", valign:\"center\"})\n",
       "        element.fit()\n",
       "    </script>\n",
       "</body>\n",
       "</html>\n",
       "```"
      ],
      "text/plain": [
       "<IPython.core.display.Markdown object>"
      ]
     },
     "metadata": {},
     "output_type": "display_data"
    }
   ],
   "source": [
    "eg.html_hello_world()"
   ]
  },
  {
   "cell_type": "markdown",
   "metadata": {},
   "source": [
    "### Using the Javascript API in Jupyter notebooks\n",
    "\n",
    "It is often useful to use the Javascript API with a canvas created in a Jupyter widget.\n",
    "The following shows how to create a `DualCanvasWidget` and draw objects on the canvas\n",
    "using the Javascript API directly.\n",
    "\n",
    "**Note:** Following example canvases imported from the `eg` helper module omit\n",
    "the details of creating the canvas and providing reference axes to make the presentation\n",
    "more compact.  Only the Javascript code of interest is shown."
   ]
  },
  {
   "cell_type": "code",
   "execution_count": 3,
   "metadata": {},
   "outputs": [
    {
     "data": {
      "application/vnd.jupyter.widget-view+json": {
       "model_id": "d162b5359bf04ba4b998b768ee8bc795",
       "version_major": 2,
       "version_minor": 0
      },
      "text/plain": [
       "DualCanvasWidget(status='Not yet rendered')"
      ]
     },
     "metadata": {},
     "output_type": "display_data"
    },
    {
     "data": {
      "text/html": [
       "<img src=\"widget_with_javascript.png\"/>"
      ],
      "text/plain": [
       "<IPython.core.display.HTML object>"
      ]
     },
     "metadata": {},
     "output_type": "display_data"
    }
   ],
   "source": [
    "from jp_doodle import dual_canvas\n",
    "from IPython.display import display\n",
    "\n",
    "def widget_with_javascript():\n",
    "    # Create a canvas and then use Javascript to draw on it.\n",
    "    demo = dual_canvas.DualCanvasWidget(width=420, height=120, font=\"italic 12px Courier\",)\n",
    "    \n",
    "    # Put some reference marks on the canvas to illustrate the coordinate space.\n",
    "    demo.js_init(\"\"\"\n",
    "        // Javascript code:\n",
    "        element.text({x:0, y:0, text:\"0,0\", color:\"red\", background:\"yellow\"} );\n",
    "        element.text({x:410, y:110, text:\"410,110\", align:\"right\", color:\"red\", background:\"yellow\"} );\n",
    "        element.lower_left_axes({min_x:10, min_y:10, max_x:410, \n",
    "                         max_y:110, x_anchor:100, y_anchor:40, max_tick_count:7, color:\"blue\"})\n",
    "    \"\"\")\n",
    "    eg.show(demo)  # replace with display(demo)\n",
    "\n",
    "widget_with_javascript()"
   ]
  },
  {
   "cell_type": "code",
   "execution_count": 4,
   "metadata": {},
   "outputs": [
    {
     "data": {
      "text/markdown": [
       "\n",
       "### Create a reference frame inside a dual canvas\n",
       "\n",
       "Pixel coordinates are rarely the most convenient coordinate systems to\n",
       "use for scientific visualizations.  Reference frames allow drawing using\n",
       "transformed coordinates.  The `frame_region` method creates a frame\n",
       "by mapping reference points in the pixel space to reference\n",
       "points in the reference frame coordinate space.  Objects can then\n",
       "be drawn on the reference frame and the underlying coordinates will be\n",
       "converted automatically.\n",
       "\n",
       "The following Javascript creates a reference `frame` from the canvas `element`\n",
       "and draws some reference marks on the frame.  Reference axes in canvas coordinates\n",
       "are also shown in grey.\n"
      ],
      "text/plain": [
       "<IPython.core.display.Markdown object>"
      ]
     },
     "metadata": {},
     "output_type": "display_data"
    },
    {
     "data": {
      "text/markdown": [
       "```Javascript\n",
       "\n",
       "// Map pixel coords (10,10) and (400,100)\n",
       "//  to frame coords (-1, 0) and (1, 2)\n",
       "var frame = element.frame_region(\n",
       "        10, 10, 400, 100,\n",
       "        -1, 0, 1, 2);\n",
       "// draw some reference marks on the frame:\n",
       "frame.text({x:-1, y:0, text:\"-1,0\", color:\"red\", background:\"yellow\"} );\n",
       "frame.text({x:1, y:2, text:\"1,2\", align:\"right\", color:\"red\", background:\"yellow\"} );\n",
       "frame.lower_left_axes({min_x:-1, min_y:0, max_x:1, \n",
       "                         max_y:2, x_anchor:0, y_anchor:1, max_tick_count:5, color:\"blue\"})\n",
       "\n",
       "```"
      ],
      "text/plain": [
       "<IPython.core.display.Markdown object>"
      ]
     },
     "metadata": {},
     "output_type": "display_data"
    },
    {
     "data": {
      "application/vnd.jupyter.widget-view+json": {
       "model_id": "3c973ee0e6624be9b15fa9d86947f911",
       "version_major": 2,
       "version_minor": 0
      },
      "text/plain": [
       "DualCanvasWidget(status='Not yet rendered')"
      ]
     },
     "metadata": {},
     "output_type": "display_data"
    },
    {
     "data": {
      "text/html": [
       "<img src=\"js_frame_example.png\"/>"
      ],
      "text/plain": [
       "<IPython.core.display.HTML object>"
      ]
     },
     "metadata": {},
     "output_type": "display_data"
    }
   ],
   "source": [
    "eg.js_frame_example()"
   ]
  },
  {
   "cell_type": "code",
   "execution_count": 5,
   "metadata": {},
   "outputs": [
    {
     "data": {
      "text/markdown": [
       "\n",
       "### Create two reference frames inside a dual canvas\n",
       "\n",
       "It is possible to create many reference frames inside a dual canvas each with a different\n",
       "coordinate transform.  The following Javascript places two canvases side-by-side and\n",
       "annotates them similarly using the same frame coordinates.\n"
      ],
      "text/plain": [
       "<IPython.core.display.Markdown object>"
      ]
     },
     "metadata": {},
     "output_type": "display_data"
    },
    {
     "data": {
      "text/markdown": [
       "```Javascript\n",
       "\n",
       "// Map pixel coords (10,10) and (190,100) to frame coords (-1, 0) and (1, 2) in frame1\n",
       "var frame1 = element.frame_region(\n",
       "        10, 10, 190, 100,\n",
       "        -1, 0, 1, 2);\n",
       "// draw some reference marks on the frame1:\n",
       "frame1.text({x:-1, y:0, text:\"-1,0\", color:\"red\", background:\"yellow\"} );\n",
       "frame1.text({x:1, y:2, text:\"1,2\", align:\"right\", color:\"red\", background:\"yellow\"} );\n",
       "frame1.lower_left_axes({min_x:-1, min_y:0, max_x:1, \n",
       "                         max_y:2, x_anchor:0, y_anchor:1, max_tick_count:5, color:\"blue\"})\n",
       "// Map pixel coords (210,10) and (400,100) to frame coords (-1, 0) and (1, 2) in frame2\n",
       "var frame2 = element.frame_region(\n",
       "        210, 10, 400, 100,\n",
       "        -1, 0, 1, 2);\n",
       "// draw some reference marks on the frame1:\n",
       "frame2.text({x:-1, y:0, text:\"-1,0\", color:\"red\", background:\"cyan\"} );\n",
       "frame2.text({x:1, y:2, text:\"1,2\", align:\"right\", color:\"red\", background:\"cyan\"} );\n",
       "frame2.lower_left_axes({min_x:-1, min_y:0, max_x:1, \n",
       "                         max_y:2, x_anchor:0, y_anchor:1, max_tick_count:5, color:\"green\"})\n",
       "\n",
       "```"
      ],
      "text/plain": [
       "<IPython.core.display.Markdown object>"
      ]
     },
     "metadata": {},
     "output_type": "display_data"
    },
    {
     "data": {
      "application/vnd.jupyter.widget-view+json": {
       "model_id": "c297263bf8f34d779c3889a4b02e0ca7",
       "version_major": 2,
       "version_minor": 0
      },
      "text/plain": [
       "DualCanvasWidget(status='Not yet rendered')"
      ]
     },
     "metadata": {},
     "output_type": "display_data"
    },
    {
     "data": {
      "text/html": [
       "<img src=\"js_2_frame_example.png\"/>"
      ],
      "text/plain": [
       "<IPython.core.display.HTML object>"
      ]
     },
     "metadata": {},
     "output_type": "display_data"
    }
   ],
   "source": [
    "eg.js_2_frame_example()"
   ]
  },
  {
   "cell_type": "code",
   "execution_count": 6,
   "metadata": {},
   "outputs": [
    {
     "data": {
      "text/markdown": [
       "\n",
       "### Drawing lines\n",
       "\n",
       "The `line` method draws a line segment between two end points.\n"
      ],
      "text/plain": [
       "<IPython.core.display.Markdown object>"
      ]
     },
     "metadata": {},
     "output_type": "display_data"
    },
    {
     "data": {
      "text/markdown": [
       "```Javascript\n",
       "\n",
       "    element.line({\n",
       "        x1:50, y1:10,   // One end point of the line\n",
       "        x2:320, y2:100,  // The other end point of the line\n",
       "        color:\"cyan\",   // Optional color (default: \"black\")\n",
       "        lineWidth:4,    // Optional line width\n",
       "        lineDash:[5,2,1], // Optional line dash pattern\n",
       "    })\n",
       "\n",
       "```"
      ],
      "text/plain": [
       "<IPython.core.display.Markdown object>"
      ]
     },
     "metadata": {},
     "output_type": "display_data"
    },
    {
     "data": {
      "application/vnd.jupyter.widget-view+json": {
       "model_id": "e8fa3c416e7e48fe91e9bff3bfd604d4",
       "version_major": 2,
       "version_minor": 0
      },
      "text/plain": [
       "DualCanvasWidget(status='Not yet rendered')"
      ]
     },
     "metadata": {},
     "output_type": "display_data"
    },
    {
     "data": {
      "text/html": [
       "<img src=\"js_line_example.png\"/>"
      ],
      "text/plain": [
       "<IPython.core.display.HTML object>"
      ]
     },
     "metadata": {},
     "output_type": "display_data"
    }
   ],
   "source": [
    "eg.js_line_example()"
   ]
  },
  {
   "cell_type": "code",
   "execution_count": 7,
   "metadata": {},
   "outputs": [
    {
     "data": {
      "text/markdown": [
       "\n",
       "### Drawing arrows\n",
       "\n",
       "The `arrow` method draws an arrow between a head position and a tail position.\n"
      ],
      "text/plain": [
       "<IPython.core.display.Markdown object>"
      ]
     },
     "metadata": {},
     "output_type": "display_data"
    },
    {
     "data": {
      "text/markdown": [
       "```Javascript\n",
       "\n",
       "    element.arrow({\n",
       "        head_length:30,\n",
       "        x1:50, y1:10,   // The tail end point of the line\n",
       "        x2:320, y2:70,  // The head end point of the line\n",
       "        color:\"red\",   // Optional color (default: \"black\")\n",
       "        lineWidth:4,    // Optional line width\n",
       "        lineDash:[2,2], // Optional line dash pattern\n",
       "        head_angle:45,  // Optional head segment angle in degrees (default 45)\n",
       "        head_offset:10,  // Optional offset of head from endpoint\n",
       "        symmetric:true, // If true draw two arrow head segments (default False)\n",
       "    });\n",
       "\n",
       "```"
      ],
      "text/plain": [
       "<IPython.core.display.Markdown object>"
      ]
     },
     "metadata": {},
     "output_type": "display_data"
    },
    {
     "data": {
      "application/vnd.jupyter.widget-view+json": {
       "model_id": "2a41726f519d4ea69d2970555e5e4b83",
       "version_major": 2,
       "version_minor": 0
      },
      "text/plain": [
       "DualCanvasWidget(status='Not yet rendered')"
      ]
     },
     "metadata": {},
     "output_type": "display_data"
    },
    {
     "data": {
      "text/html": [
       "<img src=\"js_arrow_example.png\"/>"
      ],
      "text/plain": [
       "<IPython.core.display.HTML object>"
      ]
     },
     "metadata": {},
     "output_type": "display_data"
    }
   ],
   "source": [
    "eg.js_arrow_example()"
   ]
  },
  {
   "cell_type": "code",
   "execution_count": 8,
   "metadata": {},
   "outputs": [
    {
     "data": {
      "text/markdown": [
       "\n",
       "### Drawing double arrows\n",
       "\n",
       "The `double_arrow` method draws an arrow between a head position and a tail position\n",
       "with head marks at both ends.\n"
      ],
      "text/plain": [
       "<IPython.core.display.Markdown object>"
      ]
     },
     "metadata": {},
     "output_type": "display_data"
    },
    {
     "data": {
      "text/markdown": [
       "```Javascript\n",
       "\n",
       "    element.double_arrow({\n",
       "        head_length:30,\n",
       "        x1:50, y1:10,   // The tail end point of the line\n",
       "        x2:320, y2:70,  // The head end point of the line\n",
       "        color:\"red\",   // Optional color (default: \"black\")\n",
       "        back_color:\"blue\",  // Optional color of back arrow\n",
       "        lineWidth:4,    // Optional line width\n",
       "        lineDash:[2,2], // Optional line dash pattern\n",
       "        head_angle:45,  // Optional head segment angle in degrees (default 45)\n",
       "        back_angle:90,   // Optional back head segment angle\n",
       "        head_offset:10,  // Optional offset of head from endpoint\n",
       "        back_offset:0,   // Optional, offset of back pointing head mark\n",
       "        symmetric:false, // If true draw two arrow head segments (default False)\n",
       "        line_offset:5,  // offset of back arrow from forward arros\n",
       "    });\n",
       "\n",
       "```"
      ],
      "text/plain": [
       "<IPython.core.display.Markdown object>"
      ]
     },
     "metadata": {},
     "output_type": "display_data"
    },
    {
     "data": {
      "application/vnd.jupyter.widget-view+json": {
       "model_id": "aed1fe964785464d9a21975463405a6f",
       "version_major": 2,
       "version_minor": 0
      },
      "text/plain": [
       "DualCanvasWidget(status='Not yet rendered')"
      ]
     },
     "metadata": {},
     "output_type": "display_data"
    },
    {
     "data": {
      "text/html": [
       "<img src=\"js_double_arrow_example.png\"/>"
      ],
      "text/plain": [
       "<IPython.core.display.HTML object>"
      ]
     },
     "metadata": {},
     "output_type": "display_data"
    }
   ],
   "source": [
    "eg.js_double_arrow_example()"
   ]
  },
  {
   "cell_type": "code",
   "execution_count": 9,
   "metadata": {},
   "outputs": [
    {
     "data": {
      "text/markdown": [
       "\n",
       "### Drawing polylines\n",
       "\n",
       "The `polygon` method with `fill:false` and `close:false` draws sequence of connected line segments.\n"
      ],
      "text/plain": [
       "<IPython.core.display.Markdown object>"
      ]
     },
     "metadata": {},
     "output_type": "display_data"
    },
    {
     "data": {
      "text/markdown": [
       "```Javascript\n",
       "\n",
       "    var points = [[50,20], [40, 60], [140, 111], [300,4], [100,70]];\n",
       "    element.polygon({\n",
       "        points:points, // The vertices of the polyline path\n",
       "        color:\"green\",   // Optional color (default: \"black\")\n",
       "        lineWidth:3,    // Optional line width\n",
       "        lineDash:[5,5], // Optional line dash pattern\n",
       "        fill:false,\n",
       "        close:false,\n",
       "    });\n",
       "\n",
       "```"
      ],
      "text/plain": [
       "<IPython.core.display.Markdown object>"
      ]
     },
     "metadata": {},
     "output_type": "display_data"
    },
    {
     "data": {
      "application/vnd.jupyter.widget-view+json": {
       "model_id": "c2847c3094bc472380fd004a6caa2847",
       "version_major": 2,
       "version_minor": 0
      },
      "text/plain": [
       "DualCanvasWidget(status='Not yet rendered')"
      ]
     },
     "metadata": {},
     "output_type": "display_data"
    },
    {
     "data": {
      "text/html": [
       "<img src=\"js_polyline_example.png\"/>"
      ],
      "text/plain": [
       "<IPython.core.display.HTML object>"
      ]
     },
     "metadata": {},
     "output_type": "display_data"
    }
   ],
   "source": [
    "eg.js_polyline_example()"
   ]
  },
  {
   "cell_type": "code",
   "execution_count": 10,
   "metadata": {},
   "outputs": [
    {
     "data": {
      "text/markdown": [
       "\n",
       "### Drawing polygons\n",
       "\n",
       "The `polygon` method (with the default of `close:true`) draws closed sequence of connected line segments.\n"
      ],
      "text/plain": [
       "<IPython.core.display.Markdown object>"
      ]
     },
     "metadata": {},
     "output_type": "display_data"
    },
    {
     "data": {
      "text/markdown": [
       "```Javascript\n",
       "\n",
       "    var points = [[50,20], [40, 60], [140, 111], [300,4], [100,70]];\n",
       "    element.polygon({\n",
       "        points:points, // The vertices of the polyline path\n",
       "        color:\"green\",   // Optional color (default: \"black\")\n",
       "        lineWidth:3,    // Optional line width\n",
       "        lineDash:[5,5], // Optional line dash pattern\n",
       "        fill:false,\n",
       "        // close:true,  // default value\n",
       "    });\n",
       "\n",
       "```"
      ],
      "text/plain": [
       "<IPython.core.display.Markdown object>"
      ]
     },
     "metadata": {},
     "output_type": "display_data"
    },
    {
     "data": {
      "application/vnd.jupyter.widget-view+json": {
       "model_id": "26962dcddfe0405b95e16bb1dcb88d68",
       "version_major": 2,
       "version_minor": 0
      },
      "text/plain": [
       "DualCanvasWidget(status='Not yet rendered')"
      ]
     },
     "metadata": {},
     "output_type": "display_data"
    },
    {
     "data": {
      "text/html": [
       "<img src=\"js_polygon_example.png\"/>"
      ],
      "text/plain": [
       "<IPython.core.display.HTML object>"
      ]
     },
     "metadata": {},
     "output_type": "display_data"
    }
   ],
   "source": [
    "eg.js_polygon_example()"
   ]
  },
  {
   "cell_type": "code",
   "execution_count": 11,
   "metadata": {},
   "outputs": [
    {
     "data": {
      "text/markdown": [
       "\n",
       "### Drawing circles with canvas relative radius\n",
       "\n",
       "The `circle` method draws a circle sized relative to the canvas\n",
       "coordinate system.  Circles on two frames with the same radius\n",
       "will have the same size.\n"
      ],
      "text/plain": [
       "<IPython.core.display.Markdown object>"
      ]
     },
     "metadata": {},
     "output_type": "display_data"
    },
    {
     "data": {
      "text/markdown": [
       "```Javascript\n",
       "   \n",
       "    // map (10,10), (100,100) to (-3,0),(3,6) in the frame\n",
       "    frame = element.frame_region(\n",
       "        10, 10, 100, 100,\n",
       "        -3, 0, 3, 6,\n",
       "    )\n",
       "    // Draw a circle positioned relative to the frame and sized relative to the canvas.\n",
       "    frame.circle({\n",
       "        x:4,\n",
       "        y:2.5,\n",
       "        r:20,  // radius \"r\" is in canvas coordinates, not frame coordinates\n",
       "        color:\"blue\",\n",
       "        fill:false,\n",
       "        lineWidth:5,\n",
       "        lineDash:[5,5],\n",
       "    })\n",
       "    frame.lower_left_axes({max_tick_count:5, color:\"green\"});\n",
       "\n",
       "```"
      ],
      "text/plain": [
       "<IPython.core.display.Markdown object>"
      ]
     },
     "metadata": {},
     "output_type": "display_data"
    },
    {
     "data": {
      "application/vnd.jupyter.widget-view+json": {
       "model_id": "53625a4f3e9d4802a79ee71d193b3029",
       "version_major": 2,
       "version_minor": 0
      },
      "text/plain": [
       "DualCanvasWidget(status='Not yet rendered')"
      ]
     },
     "metadata": {},
     "output_type": "display_data"
    },
    {
     "data": {
      "text/html": [
       "<img src=\"js_circle_example.png\"/>"
      ],
      "text/plain": [
       "<IPython.core.display.HTML object>"
      ]
     },
     "metadata": {},
     "output_type": "display_data"
    }
   ],
   "source": [
    "eg.js_circle_example()"
   ]
  },
  {
   "cell_type": "code",
   "execution_count": 12,
   "metadata": {},
   "outputs": [
    {
     "data": {
      "text/markdown": [
       "\n",
       "### Drawing circles with frame relative radius\n",
       "\n",
       "The `frame_circle` method draws a circle sized relative to the current reference frame\n",
       "coordinate system.  Frame circles on two frames with the same radius\n",
       "may have different sizes if the scaling differs between the frames.\n"
      ],
      "text/plain": [
       "<IPython.core.display.Markdown object>"
      ]
     },
     "metadata": {},
     "output_type": "display_data"
    },
    {
     "data": {
      "text/markdown": [
       "```Javascript\n",
       "   \n",
       "    frame = element.frame_region(\n",
       "        10, 10, 100, 100,\n",
       "        -3, 0, 3, 6,\n",
       "    )\n",
       "    // Draw a circle positioned and sized relative to the frame.\n",
       "    frame.frame_circle({\n",
       "        x:4,\n",
       "        y:2.5,\n",
       "        r:3,  // radius \"r\" is in frame coordinates\n",
       "        color:\"blue\",\n",
       "        fill:true,\n",
       "    });\n",
       "    frame.lower_left_axes({max_tick_count:5, color:\"green\"});\n",
       "\n",
       "```"
      ],
      "text/plain": [
       "<IPython.core.display.Markdown object>"
      ]
     },
     "metadata": {},
     "output_type": "display_data"
    },
    {
     "data": {
      "application/vnd.jupyter.widget-view+json": {
       "model_id": "600049172be54dfab007727026da4571",
       "version_major": 2,
       "version_minor": 0
      },
      "text/plain": [
       "DualCanvasWidget(status='Not yet rendered')"
      ]
     },
     "metadata": {},
     "output_type": "display_data"
    },
    {
     "data": {
      "text/html": [
       "<img src=\"js_frame_circle_example.png\"/>"
      ],
      "text/plain": [
       "<IPython.core.display.HTML object>"
      ]
     },
     "metadata": {},
     "output_type": "display_data"
    }
   ],
   "source": [
    "eg.js_frame_circle_example()"
   ]
  },
  {
   "cell_type": "code",
   "execution_count": 13,
   "metadata": {},
   "outputs": [
    {
     "data": {
      "text/markdown": [
       "\n",
       "### Drawing stars\n",
       "\n",
       "The `star` method draws a star on the canvas.\n"
      ],
      "text/plain": [
       "<IPython.core.display.Markdown object>"
      ]
     },
     "metadata": {},
     "output_type": "display_data"
    },
    {
     "data": {
      "text/markdown": [
       "```Javascript\n",
       "   \n",
       "    // Draw a star (always positioned and sized relative to the frame)\n",
       "    element.star({\n",
       "        x:40, y:25, radius:30,\n",
       "        points:5,   // optional number of points\n",
       "        point_factor:2.1,  // optional scale factor for outer radius\n",
       "        color:\"magenta\",\n",
       "        fill:false,\n",
       "        lineWidth:5,\n",
       "        lineDash:[5,5],\n",
       "    })\n",
       "\n",
       "```"
      ],
      "text/plain": [
       "<IPython.core.display.Markdown object>"
      ]
     },
     "metadata": {},
     "output_type": "display_data"
    },
    {
     "data": {
      "application/vnd.jupyter.widget-view+json": {
       "model_id": "41e63f3cda7c4fabbc2b02abacba9c37",
       "version_major": 2,
       "version_minor": 0
      },
      "text/plain": [
       "DualCanvasWidget(status='Not yet rendered')"
      ]
     },
     "metadata": {},
     "output_type": "display_data"
    },
    {
     "data": {
      "text/html": [
       "<img src=\"js_star_example.png\"/>"
      ],
      "text/plain": [
       "<IPython.core.display.HTML object>"
      ]
     },
     "metadata": {},
     "output_type": "display_data"
    }
   ],
   "source": [
    "eg.js_star_example()"
   ]
  },
  {
   "cell_type": "code",
   "execution_count": 14,
   "metadata": {},
   "outputs": [
    {
     "data": {
      "text/markdown": [
       "\n",
       "### Drawing rectangles with canvas relative size\n",
       "\n",
       "The `rect` method draws a rectangle sized relative to the canvas\n",
       "coordinate system.  `rect`s on two frames with the same width and height\n",
       "will have the same size.\n"
      ],
      "text/plain": [
       "<IPython.core.display.Markdown object>"
      ]
     },
     "metadata": {},
     "output_type": "display_data"
    },
    {
     "data": {
      "text/markdown": [
       "```Javascript\n",
       " \n",
       "    frame = element.frame_region(\n",
       "        10, 10, 100, 100,\n",
       "        -3, 0, 3, 6,\n",
       "    );\n",
       "\n",
       "    // Draw a rectangle positioned and sized relative to the frame.\n",
       "    var x = 4;\n",
       "    var y = 2.5;\n",
       "    frame.rect({\n",
       "        x:x, y:y,  // rectangle position relative to the frame\n",
       "        w:50, h:40,  // width and height relative to the canvas\n",
       "        dx:-10, dy:-10,  // offset of lower left corner from (x,y) relative to the canvas\n",
       "        color:\"green\",\n",
       "        degrees:10,  // optional rotation in degrees\n",
       "        fill:false,\n",
       "        lineWidth:5,\n",
       "        lineDash:[5,5],\n",
       "    });\n",
       "    // Draw a reference point at (x, y)\n",
       "    frame.circle({x:x, y:y, r:5, color:\"red\"});\n",
       "    frame.lower_left_axes({color:\"pink\", max_tick_count:5})\n",
       "\n",
       "```"
      ],
      "text/plain": [
       "<IPython.core.display.Markdown object>"
      ]
     },
     "metadata": {},
     "output_type": "display_data"
    },
    {
     "data": {
      "application/vnd.jupyter.widget-view+json": {
       "model_id": "eb51052fbc6e493db1407d0eb994e787",
       "version_major": 2,
       "version_minor": 0
      },
      "text/plain": [
       "DualCanvasWidget(status='Not yet rendered')"
      ]
     },
     "metadata": {},
     "output_type": "display_data"
    },
    {
     "data": {
      "text/html": [
       "<img src=\"js_rect_example.png\"/>"
      ],
      "text/plain": [
       "<IPython.core.display.HTML object>"
      ]
     },
     "metadata": {},
     "output_type": "display_data"
    }
   ],
   "source": [
    "eg.js_rect_example()"
   ]
  },
  {
   "cell_type": "code",
   "execution_count": 15,
   "metadata": {},
   "outputs": [
    {
     "data": {
      "text/markdown": [
       "\n",
       "### Drawing rectangles with frame relative size\n",
       "\n",
       "The `frame_rect` method draws a rectangle sized relative to the current reference frame\n",
       "coordinate system.  `frame_rect`s on two frames with the same width and height\n",
       "may have the different sizes.\n"
      ],
      "text/plain": [
       "<IPython.core.display.Markdown object>"
      ]
     },
     "metadata": {},
     "output_type": "display_data"
    },
    {
     "data": {
      "text/markdown": [
       "```Javascript\n",
       "  \n",
       "    frame = element.frame_region(\n",
       "        10, 10, 100, 100,\n",
       "        -3, 0, 3, 6,\n",
       "    );\n",
       "    // Draw a rectangle positioned and sized relative to the frame.\n",
       "    var x = 4;\n",
       "    var y = 2.5;\n",
       "    frame.frame_rect({\n",
       "        x:x, y:y,  // rectangle position\n",
       "        w:5, h:4,  // width and height relative to frame\n",
       "        dx:-1, dy:-1,  // offset of lower left corner from (x,y) relative to frame\n",
       "        color:\"green\",\n",
       "        fill:false,\n",
       "        degrees:10,  // optional rotation in degrees\n",
       "        lineWidth:5,\n",
       "        lineDash:[5,5],\n",
       "    })\n",
       "    // Draw a reference point at (x, y)\n",
       "    frame.circle({x:x, y:y, r:5, color:\"red\"});\n",
       "    frame.lower_left_axes({color:\"pink\", max_tick_count:5})\n",
       "\n",
       "```"
      ],
      "text/plain": [
       "<IPython.core.display.Markdown object>"
      ]
     },
     "metadata": {},
     "output_type": "display_data"
    },
    {
     "data": {
      "application/vnd.jupyter.widget-view+json": {
       "model_id": "15c2a1f7eca44c3bb816bf057e349732",
       "version_major": 2,
       "version_minor": 0
      },
      "text/plain": [
       "DualCanvasWidget(status='Not yet rendered')"
      ]
     },
     "metadata": {},
     "output_type": "display_data"
    },
    {
     "data": {
      "text/html": [
       "<img src=\"js_canvas_rect_example.png\"/>"
      ],
      "text/plain": [
       "<IPython.core.display.HTML object>"
      ]
     },
     "metadata": {},
     "output_type": "display_data"
    }
   ],
   "source": [
    "eg.js_canvas_rect_example()"
   ]
  },
  {
   "cell_type": "code",
   "execution_count": 16,
   "metadata": {},
   "outputs": [
    {
     "data": {
      "text/markdown": [
       "\n",
       "### Drawing text\n",
       "\n",
       "The `text` method draws a text screen on the canvas.\n",
       "The position of the text is determined by the current reference frame\n",
       "but the text font parameters are relative to the shared canvas coordinate space.\n"
      ],
      "text/plain": [
       "<IPython.core.display.Markdown object>"
      ]
     },
     "metadata": {},
     "output_type": "display_data"
    },
    {
     "data": {
      "text/markdown": [
       "```Javascript\n",
       "   \n",
       "    var x = 240;\n",
       "    var y = 30;\n",
       "    element.text({\n",
       "        x:x, y:y, \n",
       "        text:\"We the people\",\n",
       "        color:\"white\",   // Optional color (default: \"black\")\n",
       "        font:\"italic 52px Courier\",   // optional\n",
       "        background:\"#a00\",  // optional\n",
       "        degrees:-15,  // optional rotation in degrees\n",
       "        align:\"center\", // or \"left\" or \"right\", optional\n",
       "        valign:\"center\",  // or \"bottom\", optional\n",
       "    })\n",
       "    // Draw a reference point at (x, y)\n",
       "    element.circle({x:x, y:y, r:5, color:\"red\"});\n",
       "\n",
       "```"
      ],
      "text/plain": [
       "<IPython.core.display.Markdown object>"
      ]
     },
     "metadata": {},
     "output_type": "display_data"
    },
    {
     "data": {
      "application/vnd.jupyter.widget-view+json": {
       "model_id": "05f328bc1d3d4458b25bac99ced56e56",
       "version_major": 2,
       "version_minor": 0
      },
      "text/plain": [
       "DualCanvasWidget(status='Not yet rendered')"
      ]
     },
     "metadata": {},
     "output_type": "display_data"
    },
    {
     "data": {
      "text/html": [
       "<img src=\"js_text_example.png\"/>"
      ],
      "text/plain": [
       "<IPython.core.display.HTML object>"
      ]
     },
     "metadata": {},
     "output_type": "display_data"
    }
   ],
   "source": [
    "eg.js_text_example()"
   ]
  },
  {
   "cell_type": "code",
   "execution_count": 17,
   "metadata": {},
   "outputs": [
    {
     "data": {
      "text/markdown": [
       "\n",
       "### Drawing whole images\n",
       "\n",
       "Before an image can be drawn on a canvas\n",
       "the image must be loaded.  The `name_imagea_url` methodß\n",
       "loads an image from a file or a remote resource.\n",
       "After the image has been loaded and named the `named_image`\n",
       "draws the loaded image.  If no subimage is specified\n",
       "the whole image is drawn into the rectangular region.\n",
       "A loaded image may be drawn any number of times.\n"
      ],
      "text/plain": [
       "<IPython.core.display.Markdown object>"
      ]
     },
     "metadata": {},
     "output_type": "display_data"
    },
    {
     "data": {
      "text/markdown": [
       "```Javascript\n",
       "   \n",
       "    // load the image from a remote resource\n",
       "    var mandrill_url = \"http://sipi.usc.edu/database/preview/misc/4.2.03.png\";\n",
       "    element.name_image_url(\"mandrill\", mandrill_url);\n",
       "    // draw the named image (any number of times)\n",
       "    var x = 50;\n",
       "    var y = 20;\n",
       "    element.named_image({  // Draw the *whole* image (don't specify the s* parameters)\n",
       "        image_name:\"mandrill\",\n",
       "        x:x, y:y,  // rectangle position relative to the canvas\n",
       "        w:150, h:140,  // width and height relative to the frame\n",
       "        dx:-30, dy:-50,  // optional offset of lower left corner from (x,y) relative to the canvas\n",
       "        degrees:10,  // optional rotation in degrees\n",
       "    });\n",
       "    // Draw a reference point at (x, y)\n",
       "    element.circle({x:x, y:y, r:5, color:\"magenta\"});\n",
       "\n",
       "```"
      ],
      "text/plain": [
       "<IPython.core.display.Markdown object>"
      ]
     },
     "metadata": {},
     "output_type": "display_data"
    },
    {
     "data": {
      "application/vnd.jupyter.widget-view+json": {
       "model_id": "7e947c8a3b604c71b1fe9e1ef8f84bb6",
       "version_major": 2,
       "version_minor": 0
      },
      "text/plain": [
       "DualCanvasWidget(status='Not yet rendered')"
      ]
     },
     "metadata": {},
     "output_type": "display_data"
    }
   ],
   "source": [
    "eg.js_full_image_example()"
   ]
  },
  {
   "cell_type": "markdown",
   "metadata": {},
   "source": [
    "**Note:** The canvas created above is marked \"tainted\" \n",
    "because it loads an image from a remote origin and security restrictions in the browser\n",
    "prevent the canvas from being converted to an image.  Here is a screen capture of the\n",
    "live canvas when executed:\n",
    "\n",
    "<img src=\"js_full_mandrill.png\" width=\"400\"/>"
   ]
  },
  {
   "cell_type": "code",
   "execution_count": 18,
   "metadata": {},
   "outputs": [
    {
     "data": {
      "text/markdown": [
       "\n",
       "### Drawing parts of images\n",
       "\n",
       "The `named_image`\n",
       "draws part of a loaded image if the subimage parameters\n",
       "sx, sy, sWidth, and sHeight are specified.\n"
      ],
      "text/plain": [
       "<IPython.core.display.Markdown object>"
      ]
     },
     "metadata": {},
     "output_type": "display_data"
    },
    {
     "data": {
      "text/markdown": [
       "```Javascript\n",
       "  \n",
       "    // load the image from a remote resource\n",
       "    var mandrill_url = \"http://sipi.usc.edu/database/preview/misc/4.2.03.png\";\n",
       "    element.name_image_url(\"mandrill\", mandrill_url);\n",
       "    // draw the named image (any number of times)\n",
       "    var x = 50;\n",
       "    var y = 20;\n",
       "    // draw the named image (any number of times)\n",
       "    element.named_image({  // Draw the *whole* image (don't specify the s* parameters)\n",
       "        image_name:\"mandrill\",\n",
       "        x:x, y:y,  // rectangle position relative to the canvas\n",
       "        w:150, h:140,  // width and height relative to the frame\n",
       "        dx:-30, dy:-50,  // optional offset of lower left corner from (x,y) relative to the canvas\n",
       "        degrees:10,  // optional rotation in degrees\n",
       "        sx:30, sy:15, // subimage upper left corner in image coordinates\n",
       "        sWidth:140, sHeight:20,  // subimage extent in image coordinates\n",
       "    });\n",
       "    // Draw a reference point at (x, y)\n",
       "    element.circle({x:x, y:y, r:5, color:\"magenta\"});\n",
       "\n",
       "```"
      ],
      "text/plain": [
       "<IPython.core.display.Markdown object>"
      ]
     },
     "metadata": {},
     "output_type": "display_data"
    },
    {
     "data": {
      "application/vnd.jupyter.widget-view+json": {
       "model_id": "057e66bd277744578e88567d7cba2a38",
       "version_major": 2,
       "version_minor": 0
      },
      "text/plain": [
       "DualCanvasWidget(status='Not yet rendered')"
      ]
     },
     "metadata": {},
     "output_type": "display_data"
    }
   ],
   "source": [
    "eg.js_part_image_example()"
   ]
  },
  {
   "cell_type": "markdown",
   "metadata": {},
   "source": [
    "**Note:** The canvas created above is marked \"tainted\" \n",
    "because it loads an image from a remote origin and security restrictions in the browser\n",
    "prevent the canvas from being converted to an image.  Here is a screen capture of the\n",
    "live canvas when executed:\n",
    "\n",
    "<img src=\"js_part_mandrill.png\" width=\"400\"/>"
   ]
  },
  {
   "cell_type": "code",
   "execution_count": 19,
   "metadata": {},
   "outputs": [
    {
     "data": {
      "text/markdown": [
       "\n",
       "### Drawing axes\n",
       "\n",
       "The `left_axis`, `right_axis`, `bottom_axis`, `top_axis`, and `lower_left_axis` methods\n",
       "draw axes on the canvas.\n"
      ],
      "text/plain": [
       "<IPython.core.display.Markdown object>"
      ]
     },
     "metadata": {},
     "output_type": "display_data"
    },
    {
     "data": {
      "text/markdown": [
       "```Javascript\n",
       "   \n",
       "    element.left_axis({\n",
       "        min_value:10,\n",
       "        max_value:80,\n",
       "        axis_origin:{x:40, y:0},\n",
       "        max_tick_count:3,\n",
       "        color:\"green\",\n",
       "        add_end_points:true\n",
       "    })\n",
       "    element.right_axis({\n",
       "        min_value:10,\n",
       "        max_value:80,\n",
       "        axis_origin:{x:240, y:0},\n",
       "        max_tick_count:7,\n",
       "        color:\"red\"\n",
       "    })\n",
       "    element.bottom_axis({\n",
       "        min_value:60,\n",
       "        max_value:110,\n",
       "        axis_origin:{x:0, y:0},\n",
       "        max_tick_count:5,\n",
       "        color:\"blue\"\n",
       "    })\n",
       "    element.top_axis({\n",
       "        min_value:130,\n",
       "        max_value:180,\n",
       "        axis_origin:{x:0, y:0},\n",
       "        max_tick_count:5,\n",
       "        color:\"orange\"\n",
       "    })\n",
       "    element.lower_left_axes({\n",
       "        min_x:50, \n",
       "        min_y:30, \n",
       "        max_x:210, \n",
       "        max_y:90, \n",
       "        x_anchor:130, \n",
       "        y_anchor:66, \n",
       "        max_tick_count:4, \n",
       "        color:\"brown\"\n",
       "    });\n",
       "\n",
       "```"
      ],
      "text/plain": [
       "<IPython.core.display.Markdown object>"
      ]
     },
     "metadata": {},
     "output_type": "display_data"
    },
    {
     "data": {
      "application/vnd.jupyter.widget-view+json": {
       "model_id": "7d622f56c59e400b96a05c3c7361062b",
       "version_major": 2,
       "version_minor": 0
      },
      "text/plain": [
       "DualCanvasWidget(status='Not yet rendered')"
      ]
     },
     "metadata": {},
     "output_type": "display_data"
    },
    {
     "data": {
      "text/html": [
       "<img src=\"js_axes_example.png\"/>"
      ],
      "text/plain": [
       "<IPython.core.display.HTML object>"
      ]
     },
     "metadata": {},
     "output_type": "display_data"
    }
   ],
   "source": [
    "eg.js_axes_example()"
   ]
  },
  {
   "cell_type": "markdown",
   "metadata": {},
   "source": [
    "# Part 3: Events and mutations\n",
    "\n",
    "Objects which have been explicitly named can be changed (moved, resized, deleted, transitioned, etcetera)\n",
    "and unless events are disabled for the object the object can respond to mouse events (mouse over,\n",
    "click, etcetera).\n",
    "\n",
    "### Attaching event callbacks\n",
    "\n",
    "The `object.on(etype, callback)`\n",
    "attaches a `callback` to be called when the object\n",
    "recieves an event of type `etype`."
   ]
  },
  {
   "cell_type": "code",
   "execution_count": 20,
   "metadata": {},
   "outputs": [
    {
     "data": {
      "text/markdown": [
       "\n",
       "### Attaching event callbacks\n",
       "\n",
       "The `object.on(etype, callback)`\n",
       "attaches a `callback` to be called when the object\n",
       "recieves an event of type `etype`.\n"
      ],
      "text/plain": [
       "<IPython.core.display.Markdown object>"
      ]
     },
     "metadata": {},
     "output_type": "display_data"
    },
    {
     "data": {
      "text/markdown": [
       "```Javascript\n",
       "   \n",
       "    // this circle cannot be mutated and does not respond to events because it is not named.\n",
       "    element.circle({x:0, y:0, r:100, color:\"#e99\"});\n",
       "\n",
       "    // this text is named and can be mutated and can respond to events\n",
       "    var txt1 = element.text({x:0, y:0, text:\"Click me please\", degrees:45, name:true,\n",
       "               font:\"40pt Arial\", color:\"#e3e\", background:\"#9e9\", align:\"center\", valign:\"center\"});\n",
       "\n",
       "    // add a click event bound to the txt which transitions the text rotation\n",
       "    var on_click = function() {\n",
       "        var seconds_duration = 5;\n",
       "        txt1.transition({text:\"That tickles\", degrees:720, color:\"#f90\", background:\"#009\"}, seconds_duration);\n",
       "    };\n",
       "\n",
       "    txt1.on(\"click\", on_click)\n",
       "\n",
       "```"
      ],
      "text/plain": [
       "<IPython.core.display.Markdown object>"
      ]
     },
     "metadata": {},
     "output_type": "display_data"
    },
    {
     "data": {
      "application/vnd.jupyter.widget-view+json": {
       "model_id": "e53bab2a0a6b4a229b430fd2dac13321",
       "version_major": 2,
       "version_minor": 0
      },
      "text/plain": [
       "DualCanvasWidget(status='Not yet rendered')"
      ]
     },
     "metadata": {},
     "output_type": "display_data"
    },
    {
     "data": {
      "text/html": [
       "<img src=\"js_event_example.png\"/>"
      ],
      "text/plain": [
       "<IPython.core.display.HTML object>"
      ]
     },
     "metadata": {},
     "output_type": "display_data"
    }
   ],
   "source": [
    "eg.js_event_example()"
   ]
  },
  {
   "cell_type": "code",
   "execution_count": 21,
   "metadata": {},
   "outputs": [
    {
     "data": {
      "text/markdown": [
       "\n",
       "### Unnamed objects are invisible to events\n",
       "\n",
       "If an object is not named it will not respond to events\n",
       "but a named object drawn undernieth the unnamed object may\n",
       "receive the event.\n",
       "A named object may also disable events by setting `events=False`\n",
       "-- the resulting object can be changed or deleted but it will not respond to events.\n",
       "```Javascript\n",
       "widget.circle({x:0, y:0, r:100, color:\"#e99\", name:True, events:False});\n",
       "```\n",
       "Below the circle obscures the text but clicks in the\n",
       "center of the circle are recieved by the text.\n"
      ],
      "text/plain": [
       "<IPython.core.display.Markdown object>"
      ]
     },
     "metadata": {},
     "output_type": "display_data"
    },
    {
     "data": {
      "text/markdown": [
       "```Javascript\n",
       "   \n",
       "    // this text is named and can be mutated and can respond to events\n",
       "    var txt1 = element.text({x:0, y:0, text:\"CLICK THE CENTER OF THE CIRCLE\", degrees:25, name:true,\n",
       "               font:\"40pt Arial\", color:\"#e3e\", background:\"#9e9\", align:\"center\", valign:\"center\"});\n",
       "\n",
       "    // This circle cannot be mutated and does not respond to events because it is not named.\n",
       "    // The txt1 undernieth the circle may respond to clicks on the circle.\n",
       "    element.circle({x:0, y:0, r:70, color:\"#e99\"});\n",
       "\n",
       "    // add a click event bound to the txt which transitions the text rotation\n",
       "    var on_click = function() {\n",
       "        var seconds_duration = 5;\n",
       "        txt1.transition({text:\"That tickles\", degrees:720, color:\"#f90\", background:\"#009\"}, seconds_duration);\n",
       "    };\n",
       "\n",
       "    txt1.on(\"click\", on_click)\n",
       "\n",
       "```"
      ],
      "text/plain": [
       "<IPython.core.display.Markdown object>"
      ]
     },
     "metadata": {},
     "output_type": "display_data"
    },
    {
     "data": {
      "application/vnd.jupyter.widget-view+json": {
       "model_id": "e45cb4db7bc14599a23b5b6eb1decdf2",
       "version_major": 2,
       "version_minor": 0
      },
      "text/plain": [
       "DualCanvasWidget(status='Not yet rendered')"
      ]
     },
     "metadata": {},
     "output_type": "display_data"
    },
    {
     "data": {
      "text/html": [
       "<img src=\"js_no_name_no_event_example.png\"/>"
      ],
      "text/plain": [
       "<IPython.core.display.HTML object>"
      ]
     },
     "metadata": {},
     "output_type": "display_data"
    }
   ],
   "source": [
    "eg.js_no_name_no_event_example()"
   ]
  },
  {
   "cell_type": "code",
   "execution_count": 22,
   "metadata": {},
   "outputs": [
    {
     "data": {
      "text/markdown": [
       "\n",
       "### Only the top named object responds to events\n",
       "\n",
       "Only the top named object under an event receives the event even if\n",
       "it is drawn using a transparent color.\n",
       "Any object underneith the top object will not receive the event.\n"
      ],
      "text/plain": [
       "<IPython.core.display.Markdown object>"
      ]
     },
     "metadata": {},
     "output_type": "display_data"
    },
    {
     "data": {
      "text/markdown": [
       "```Javascript\n",
       "   \n",
       "    // this text is named and can be mutated and can respond to events\n",
       "    var txt1 = element.text({x:0, y:0, text:\"TRY TO CLICK THE CENTER OF THE CIRCLE\", degrees:15, name:true,\n",
       "               font:\"40pt Arial\", color:\"#e3e\", background:\"#9e9\", align:\"center\", valign:\"center\"});\n",
       "\n",
       "    // This circle CAN be mutated and MAY respond to events because it is named.\n",
       "    // The txt1 undernieth the circle will not respond to clicks on the circle.\n",
       "    element.circle({x:0, y:0, r:70, color:\"#e99\", name:true});\n",
       "\n",
       "    // add a click event bound to the txt which transitions the text rotation\n",
       "    var on_click = function() {\n",
       "        var seconds_duration = 5;\n",
       "        txt1.transition({text:\"That tickles\", degrees:720, color:\"#f90\", background:\"#009\"}, seconds_duration);\n",
       "    };\n",
       "\n",
       "    txt1.on(\"click\", on_click)\n",
       "\n",
       "```"
      ],
      "text/plain": [
       "<IPython.core.display.Markdown object>"
      ]
     },
     "metadata": {},
     "output_type": "display_data"
    },
    {
     "data": {
      "application/vnd.jupyter.widget-view+json": {
       "model_id": "489116cabc534d2d887c56679c3fb108",
       "version_major": 2,
       "version_minor": 0
      },
      "text/plain": [
       "DualCanvasWidget(status='Not yet rendered')"
      ]
     },
     "metadata": {},
     "output_type": "display_data"
    },
    {
     "data": {
      "text/html": [
       "<img src=\"js_event_top_only_example.png\"/>"
      ],
      "text/plain": [
       "<IPython.core.display.HTML object>"
      ]
     },
     "metadata": {},
     "output_type": "display_data"
    }
   ],
   "source": [
    "eg.js_event_top_only_example()"
   ]
  },
  {
   "cell_type": "markdown",
   "metadata": {},
   "source": [
    "### Changing, transitioning, forgetting, and hiding named objects\n",
    "\n",
    "Named objects have methods which allow them to be modified or related to interactive events.\n",
    "Below the `options` are mappings such as `{x:10, y:-29, color:\"blue\"}`.\n",
    "\n",
    "```Javascript\n",
    "// Change the object options.\n",
    "object.change(changed_options)\n",
    "\n",
    "// Transition the object options over a time period.  Duration defaults to 1 if omitted.\n",
    "object.transition(changed_options, seconds_duration)\n",
    "\n",
    "// Make the object invisible and unresponsive to events\n",
    "object.visible(false)\n",
    "\n",
    "// Make the object visible and enable event bindings.\n",
    "object.visible(true)\n",
    "\n",
    "// Remove the object from the canvas and dispose of it.\n",
    "object.forget()\n",
    "```\n",
    "\n",
    "### Binding and unbinding event callbacks to named objects\n",
    "\n",
    "```Javascript\n",
    "// Attach an event handler to call when event_type effects the object.\n",
    "object.on(event_type, handler)\n",
    "\n",
    "// Detach any event handler associated with event_type for the object.\n",
    "object.off(event_type)\n",
    "```\n",
    "\n",
    "Event types include `click`, `mousedown`, `mouseup`, `mouseout`, `mouseover`, `mousemove`, `keydown`\n",
    "among others.  Please see \n",
    "<a href=\"https://developer.mozilla.org/en-US/docs/Web/Events\">https://developer.mozilla.org/en-US/docs/Web/Events</a>\n",
    "and <a href=\"https://api.jquery.com/on/\">https://api.jquery.com/on/</a>\n",
    "for more information about events.\n",
    "\n",
    "### Addressing objects by name\n",
    "\n",
    "Objects can be identified by name and modified using methods attached to the canvas widget.\n",
    "\n",
    "```Javascript\n",
    "// Change object properties by object name.\n",
    "element.change(name, changed_options)\n",
    "\n",
    "// Destroy objects with a sequence of names.\n",
    "canvas.forget_objects(names)\n",
    "\n",
    "// Show or hide objects identified by a name sequence.\n",
    "canvas.set_visibilities(names, visibility)\n",
    "\n",
    "// Add an event binding to an object by name or the whole canvas if for_name is None.\n",
    "canvas.on_canvas_event(event_type, callback, for_name=None, abbreviated=True, delay=True)\n",
    "\n",
    "// Remove an event binding from an object by name or from the whole canvas if for_name is None.\n",
    "canvas.off_canvas_event(event_type, for_name=None)\n",
    "```\n",
    "\n",
    "### The event callback\n",
    "\n",
    "Event callbacks receive a dictionary argument `event` describing the event.\n",
    "Descriptive slots include:\n",
    "\n",
    "- `event[\"type\"]` gives the type of the event (like `click`).\n",
    "- `event[\"canvas_name\"]` give the name of the object under the event, if any (some events are associated to the canvas and have no target object on the canvas).\n",
    "- `event[\"model_location\"]` gives the coordinate position on the canvas or reference frame associated with\n",
    "the event as a dictionary like `{'x': -0.21, 'y': 0.28}`.\n",
    "- `event[\"reference_frame\"][\"name\"]` gives the name of the reference frame for the canvas if the event\n",
    "is associated with a reference frame."
   ]
  },
  {
   "cell_type": "code",
   "execution_count": 23,
   "metadata": {},
   "outputs": [
    {
     "data": {
      "text/markdown": [
       "\n",
       "### Displaying mouse move coordinates\n",
       "\n",
       "The following widget contains a `rectangle` drawn on a `frame`.\n",
       "The `model_location` coordinates for a `mousemove` over the rectangle\n",
       "are reported in an appended `info_div` text area.  The `model_location`\n",
       "gives coordinates for the reference frame associated with the object.\n"
      ],
      "text/plain": [
       "<IPython.core.display.Markdown object>"
      ]
     },
     "metadata": {},
     "output_type": "display_data"
    },
    {
     "data": {
      "text/markdown": [
       "```Javascript\n",
       "\n",
       "// Map pixel coords (10,10) and (400,100)\n",
       "//  to frame coords (-1, 0) and (1, 2)\n",
       "var frame = element.frame_region(\n",
       "        10, 10, 400, 100,\n",
       "        -1, 0, 1, 2);\n",
       "\n",
       "// Create a named rectangle to receive events.\n",
       "var rectangle = frame.frame_rect({x:-0.8, y:0.1, w:1.3, h:1.9, color:\"cyan\", name:true});\n",
       "\n",
       "frame.lower_left_axes({min_x:-1, min_y:0, max_x:1, \n",
       "     max_y:2, x_anchor:0, y_anchor:1, max_tick_count:5, color:\"blue\"});\n",
       "\n",
       "var info_div = $(\"<div/>\").appendTo(element);\n",
       "info_div.html(\"Please mouse over the cyan rectangle\");\n",
       "\n",
       "var mouse_over_handler = function(event) {\n",
       "    var x = event.model_location.x;\n",
       "    var y = event.model_location.y;\n",
       "    info_div.html(\"x=\" + x + \"; y=\" + y);\n",
       "};\n",
       "\n",
       "// Attach the event handler to the rectangle.\n",
       "rectangle.on(\"mousemove\", mouse_over_handler);\n",
       "\n",
       "```"
      ],
      "text/plain": [
       "<IPython.core.display.Markdown object>"
      ]
     },
     "metadata": {},
     "output_type": "display_data"
    },
    {
     "data": {
      "application/vnd.jupyter.widget-view+json": {
       "model_id": "f8e7abb0eb5f4271b0583c771979b356",
       "version_major": 2,
       "version_minor": 0
      },
      "text/plain": [
       "DualCanvasWidget(status='Not yet rendered')"
      ]
     },
     "metadata": {},
     "output_type": "display_data"
    },
    {
     "data": {
      "text/html": [
       "<img src=\"js_event_callback.png\"/>"
      ],
      "text/plain": [
       "<IPython.core.display.HTML object>"
      ]
     },
     "metadata": {},
     "output_type": "display_data"
    }
   ],
   "source": [
    "eg.js_event_callback()"
   ]
  },
  {
   "cell_type": "code",
   "execution_count": 24,
   "metadata": {},
   "outputs": [
    {
     "data": {
      "text/markdown": [
       "\n",
       "### Mouse tracking\n",
       "\n",
       "The following code tracks mouse moves over the whole canvas\n",
       "and moves an external HTML DIV and a canvas circle in coordination\n",
       "with the pointer position.\n"
      ],
      "text/plain": [
       "<IPython.core.display.Markdown object>"
      ]
     },
     "metadata": {},
     "output_type": "display_data"
    },
    {
     "data": {
      "text/markdown": [
       "```Javascript\n",
       "\n",
       "// Mouse tracking DIV\n",
       "let tooltip = $(\"<div>Move the mouse over the canvas.</div>\").appendTo(element);\n",
       "tooltip.css({background: \"yellow\", width:120});\n",
       "// Mouse tracking circle\n",
       "let circle = element.circle({name:true, x:10, y:10, r:13, color: \"red\"});\n",
       "var event_handler = function(event) {\n",
       "    var element_offset = element.visible_canvas.offset();\n",
       "    var canvas_location = element.event_model_location(event);\n",
       "    var pixel_offset = element.event_pixel_location(event);\n",
       "    // move the tooltip near the mouse\n",
       "    tooltip.offset({\n",
       "        left: pixel_offset.x + element_offset.left + 5,\n",
       "        top: pixel_offset.y + element_offset.top + 5,\n",
       "    });\n",
       "    // move the circle under the mouse.\n",
       "    circle.change({x:canvas_location.x, y:canvas_location.y});\n",
       "    // Report canvas position in the tooltip\n",
       "    tooltip.html(\"x=\" + Math.floor(canvas_location.x)\n",
       "        + \"<br> y=\" + Math.floor(canvas_location.y));\n",
       "};\n",
       "element.on_canvas_event(\"mousemove\", event_handler);\n",
       "\n",
       "```"
      ],
      "text/plain": [
       "<IPython.core.display.Markdown object>"
      ]
     },
     "metadata": {},
     "output_type": "display_data"
    },
    {
     "data": {
      "application/vnd.jupyter.widget-view+json": {
       "model_id": "1c69d37d3bc44e3c9e077778ab2b8dfa",
       "version_major": 2,
       "version_minor": 0
      },
      "text/plain": [
       "DualCanvasWidget(status='Not yet rendered')"
      ]
     },
     "metadata": {},
     "output_type": "display_data"
    },
    {
     "data": {
      "text/html": [
       "<img src=\"js_mouse_tracking_example.png\"/>"
      ],
      "text/plain": [
       "<IPython.core.display.HTML object>"
      ]
     },
     "metadata": {},
     "output_type": "display_data"
    }
   ],
   "source": [
    "eg.js_mouse_tracking_example()"
   ]
  },
  {
   "cell_type": "code",
   "execution_count": 25,
   "metadata": {
    "scrolled": false
   },
   "outputs": [
    {
     "data": {
      "text/markdown": [
       "\n",
       "### Selecting named objects by surrounding them with a lasso\n",
       "\n",
       "The \n",
       "```\n",
       "element.do_lasso(callback, config, delete_after)\n",
       "``` \n",
       "method allows the user to select named objects\n",
       "by surrounding them with a graphical loop.  After the loop is complete the callback\n",
       "receives a dictionary mapping the names of the selected objects to their descriptions.\n",
       "The optional argument `config` is provides configuration parameters and the\n",
       "optional boolean argument `delete_after` deletes the lasso polygon after selection\n",
       "if `true`.\n"
      ],
      "text/plain": [
       "<IPython.core.display.Markdown object>"
      ]
     },
     "metadata": {},
     "output_type": "display_data"
    },
    {
     "data": {
      "text/markdown": [
       "```Javascript\n",
       "\n",
       "// draw some named objects on the canvas\n",
       "for (var i=10; i<300; i+=40) {\n",
       "    for (var j=10; j<100; j+=15) {\n",
       "        var ijtext = i+\",\"+j\n",
       "        element.text({x:i, y:j, text:ijtext, name:ijtext, color:\"red\", background:\"yellow\"} );\n",
       "    }\n",
       "}\n",
       "\n",
       "// Add a text area to display the result of the lasso operation:\n",
       "var info = $(\"<div/>\").appendTo(element);\n",
       "info.html(\"Mouse down and encircle elements to select them with the lasso.\");\n",
       "\n",
       "var lasso_callback = function(mapping) {\n",
       "    var txt = \"Lasso circled: \";\n",
       "    for (var name in mapping) {\n",
       "        txt += \" (\" + name + \"),\";\n",
       "    }\n",
       "    info.html(txt);\n",
       "}\n",
       "\n",
       "element.do_lasso(lasso_callback, {}, true);\n",
       "\n",
       "```"
      ],
      "text/plain": [
       "<IPython.core.display.Markdown object>"
      ]
     },
     "metadata": {},
     "output_type": "display_data"
    },
    {
     "data": {
      "application/vnd.jupyter.widget-view+json": {
       "model_id": "5e59451075554b42930d66d3caa14337",
       "version_major": 2,
       "version_minor": 0
      },
      "text/plain": [
       "DualCanvasWidget(status='Not yet rendered')"
      ]
     },
     "metadata": {},
     "output_type": "display_data"
    },
    {
     "data": {
      "text/html": [
       "<img src=\"js_lasso_example.png\"/>"
      ],
      "text/plain": [
       "<IPython.core.display.HTML object>"
      ]
     },
     "metadata": {},
     "output_type": "display_data"
    }
   ],
   "source": [
    "eg.js_lasso_example()"
   ]
  },
  {
   "cell_type": "markdown",
   "metadata": {},
   "source": [
    "## Part 4: Other canvas and frame methods\n",
    "\n",
    "\n",
    "### Remove all objects and reset internal data structures\n",
    "\n",
    "The following will remove and destroy all objects from a canvas and reset\n",
    "the canvas to its initial configuration.\n",
    "\n",
    "```Javascript\n",
    "widget.reset_canvas()\n",
    "```\n",
    "\n",
    "The following will remove and destroy all objects from a canvas and reset\n",
    "a frame to its initial configuration.\n",
    "\n",
    "```Javascript\n",
    "frame.reset_frame()\n",
    "```\n",
    "\n",
    "### Recalibrate a frame\n",
    "\n",
    "The following will reposition and rescale a frame\n",
    "\n",
    "```Javascript\n",
    "frame.set_region(\n",
    "    minx, miny, maxx, maxy, \n",
    "    frame_minx, frame_miny, frame_maxx, frame_maxy)\n",
    "```\n",
    "\n",
    "### Saving and restoring event handlers\n",
    "\n",
    "To support \"mode change\" operations event handlers for a canvas can\n",
    "be temporarily disabled using `reset_events`:\n",
    "\n",
    "```Javascript\n",
    "var saved_event_handlers = element.reset_events();\n",
    "```\n",
    "\n",
    "Later the saved event handler structure can be set back in place\n",
    "using `restore_events`:\n",
    "\n",
    "```Javascript\n",
    "element.restore_events(saved_event_handlers);\n",
    "```\n",
    "\n",
    "See the implementation of the `do_lasso` in the source code\n",
    "for an example usage."
   ]
  },
  {
   "cell_type": "code",
   "execution_count": null,
   "metadata": {},
   "outputs": [],
   "source": []
  }
 ],
 "metadata": {
  "kernelspec": {
   "display_name": "Python 3",
   "language": "python",
   "name": "python3"
  },
  "language_info": {
   "codemirror_mode": {
    "name": "ipython",
    "version": 3
   },
   "file_extension": ".py",
   "mimetype": "text/x-python",
   "name": "python",
   "nbconvert_exporter": "python",
   "pygments_lexer": "ipython3",
   "version": "3.6.8"
  }
 },
 "nbformat": 4,
 "nbformat_minor": 2
}
