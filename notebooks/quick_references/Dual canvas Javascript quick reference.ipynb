{
 "cells": [
  {
   "cell_type": "markdown",
   "metadata": {},
   "source": [
    "# `dual_canvas` Javascript quick reference.\n",
    "\n",
    "This document is part of the \n",
    "<a href=\"https://github.com/AaronWatters/jp_doodle\">https://github.com/AaronWatters/jp_doodle</a>\n",
    "package.\n",
    "It provides a quick reference\n",
    "to using the `dual_canvas` object API in Javascript to build visualizations.\n",
    "The document comes in several forms -- it is initially executed as a live Jupyter\n",
    "notebook and is later translated to other formats.\n",
    "\n",
    "A `dual canvas` provides a region on a web page or Jupyter notebook on which\n",
    "to draw geometric objects with associated mouse interactions and animations in order\n",
    "to create interactive visualizations.\n",
    "\n",
    "## Creating dual canvases\n",
    "\n",
    "The Javascript API for dual canvases may be used in any web context. \n",
    "In standard\n",
    "web pages a `dual_canvas` is implemented as a jQueryUI plug in component.\n",
    "In Jupyter notebooks a `dual_canvas` is \"wrapped\" as a widget. \n",
    "The dual canvas functionality\n",
    "requires `jQuery` and `jQueryUI` in addition to the canvas object implementation\n",
    "files `canvas_2d_widget_helper.js` and `dual_canvas_helper.js`.  \n",
    "\n",
    "### Create a dual canvas in \"vanilla HTML5\"\n",
    "\n",
    "Below is a complete \n",
    "<a href=\"minimal.html\">\"Hello world\" HTML file</a>\n",
    "which draws a dual canvas in a target\n",
    "location on a web page.  It pulls required style sheets and Javascript libraries from `github.io`."
   ]
  },
  {
   "cell_type": "code",
   "execution_count": 1,
   "metadata": {},
   "outputs": [
    {
     "data": {
      "text/markdown": [
       "```HTML\n",
       "<html>\n",
       "<head>\n",
       "<title> Dual Canvas HTML Hello World </title>\n",
       "    <link rel=\"stylesheet\" href=\"https://aaronwatters.github.io/jp_doodle/jquery-ui-1.12.1/jquery-ui.css\">\n",
       "    <script src=\"https://aaronwatters.github.io/jp_doodle/jquery-ui-1.12.1/external/jquery/jquery.js\"></script>\n",
       "    <script src=\"https://aaronwatters.github.io/jp_doodle/jquery-ui-1.12.1/jquery-ui.js\"></script>\n",
       "    <script src=\"https://aaronwatters.github.io/jp_doodle/jp_doodle_js/canvas_2d_widget_helper.js\"></script>\n",
       "    <script src=\"https://aaronwatters.github.io/jp_doodle/jp_doodle_js/dual_canvas_helper.js\"></script>\n",
       "    <link rel=stylesheet href=\"https://aaronwatters.github.io/jp_doodle/static/style.css\">\n",
       "</head>\n",
       "<body>\n",
       "    <p>Canvas below:</p>\n",
       "    <div id=\"target_div\"/>\n",
       "    <script>\n",
       "        var element = $('#target_div');\n",
       "        var config = {\n",
       "                    width: 400,\n",
       "                    height: 200,\n",
       "                };\n",
       "        element.dual_canvas_helper(config);\n",
       "        element.circle({x:0, y:0, r:100, color:\"#e99\"})\n",
       "        element.text({x:0, y:0, text:\"Hello World\", degrees:45,\n",
       "           font: \"40pt Arial\", color:\"#ee3\", background:\"#9e9\", align:\"center\", valign:\"center\"})\n",
       "        element.fit()\n",
       "    </script>\n",
       "</body>\n",
       "</html>\n",
       "```"
      ],
      "text/plain": [
       "<IPython.core.display.Markdown object>"
      ]
     },
     "metadata": {},
     "output_type": "display_data"
    }
   ],
   "source": [
    "# This qr_helper module provides helper functionality for displaying this quick reference.\n",
    "import qr_helper as eg\n",
    "eg.html_hello_world()"
   ]
  },
  {
   "cell_type": "markdown",
   "metadata": {},
   "source": [
    "### Using the Javascript API in Jupyter notebooks\n",
    "\n",
    "It is often useful to use the Javascript API with a canvas created in a Jupyter widget.\n",
    "The following shows how to create a `DualCanvasWidget` and draw objects on the canvas\n",
    "using the Javascript API directly.\n",
    "\n",
    "**Note:** Following example canvases imported from the `eg` helper module omit\n",
    "the details of creating the canvas and providing reference axes to make the presentation\n",
    "more compact.  Only the Javascript code of interest is shown."
   ]
  },
  {
   "cell_type": "code",
   "execution_count": 2,
   "metadata": {},
   "outputs": [
    {
     "data": {
      "application/vnd.jupyter.widget-view+json": {
       "model_id": "656bb907d21c41e2bfc32a91a1947990",
       "version_major": 2,
       "version_minor": 0
      },
      "text/plain": [
       "DualCanvasWidget(status='Not yet rendered')"
      ]
     },
     "metadata": {},
     "output_type": "display_data"
    }
   ],
   "source": [
    "from jp_doodle import dual_canvas\n",
    "from IPython.display import display\n",
    "\n",
    "def widget_with_javascript():\n",
    "    # Create a canvas and then use Javascript to draw on it.\n",
    "    demo = dual_canvas.DualCanvasWidget(width=420, height=120, font=\"italic 12px Courier\",)\n",
    "    \n",
    "    # Put some reference marks on the canvas to illustrate the coordinate space.\n",
    "    demo.js_init(\"\"\"\n",
    "        // Javascript code:\n",
    "        element.text({x:0, y:0, text:\"0,0\", color:\"red\", background:\"yellow\"} );\n",
    "        element.text({x:410, y:110, text:\"410,110\", align:\"right\", color:\"red\", background:\"yellow\"} );\n",
    "        element.lower_left_axes({min_x:10, min_y:10, max_x:410, \n",
    "                         max_y:110, x_anchor:100, y_anchor:40, max_tick_count:7, color:\"blue\"})\n",
    "    \"\"\")\n",
    "    eg.show(demo)  # replace with display(demo)\n",
    "\n",
    "widget_with_javascript()"
   ]
  },
  {
   "cell_type": "code",
   "execution_count": 3,
   "metadata": {},
   "outputs": [
    {
     "data": {
      "text/markdown": [
       "\n",
       "### Create a reference frame inside a dual canvas\n",
       "\n",
       "Pixel coordinates are rarely the most convenient coordinate systems to\n",
       "use for scientific visualizations.  Reference frames allow drawing using\n",
       "transformed coordinates.  The `frame_region` method creates a frame\n",
       "by mapping reference points in the pixel space to reference\n",
       "points in the reference frame coordinate space.  Objects can then\n",
       "be drawn on the reference frame and the underlying coordinates will be\n",
       "converted automatically.\n",
       "\n",
       "The following Javascript creates a reference `frame` from the canvas `element`\n",
       "and draws some reference marks on the frame.  Reference axes in canvas coordinates\n",
       "are also shown in grey.\n"
      ],
      "text/plain": [
       "<IPython.core.display.Markdown object>"
      ]
     },
     "metadata": {},
     "output_type": "display_data"
    },
    {
     "data": {
      "text/markdown": [
       "```Javascript\n",
       "\n",
       "// Map pixel coords (10,10) and (400,100)\n",
       "//  to frame coords (-1, 0) and (1, 2)\n",
       "var frame = element.frame_region(\n",
       "        10, 10, 400, 100,\n",
       "        -1, 0, 1, 2);\n",
       "// draw some reference marks on the frame:\n",
       "frame.text({x:-1, y:0, text:\"-1,0\", color:\"red\", background:\"yellow\"} );\n",
       "frame.text({x:1, y:2, text:\"1,2\", align:\"right\", color:\"red\", background:\"yellow\"} );\n",
       "frame.lower_left_axes({min_x:-1, min_y:0, max_x:1, \n",
       "                         max_y:2, x_anchor:0, y_anchor:1, max_tick_count:5, color:\"blue\"})\n",
       "\n",
       "```"
      ],
      "text/plain": [
       "<IPython.core.display.Markdown object>"
      ]
     },
     "metadata": {},
     "output_type": "display_data"
    },
    {
     "data": {
      "application/vnd.jupyter.widget-view+json": {
       "model_id": "4e9b4de9775648b9ac82e2d6a341a6e0",
       "version_major": 2,
       "version_minor": 0
      },
      "text/plain": [
       "DualCanvasWidget(status='Not yet rendered')"
      ]
     },
     "metadata": {},
     "output_type": "display_data"
    }
   ],
   "source": [
    "eg.js_frame_example()"
   ]
  },
  {
   "cell_type": "code",
   "execution_count": 4,
   "metadata": {},
   "outputs": [
    {
     "data": {
      "text/markdown": [
       "\n",
       "### Create two reference frames inside a dual canvas\n",
       "\n",
       "It is possible to create many reference frames inside a dual canvas each with a different\n",
       "coordinate transform.  The following Javascript places two canvases side-by-side and\n",
       "annotates them similarly using the same frame coordinates.\n"
      ],
      "text/plain": [
       "<IPython.core.display.Markdown object>"
      ]
     },
     "metadata": {},
     "output_type": "display_data"
    },
    {
     "data": {
      "text/markdown": [
       "```Javascript\n",
       "\n",
       "// Map pixel coords (10,10) and (190,100) to frame coords (-1, 0) and (1, 2) in frame1\n",
       "var frame1 = element.frame_region(\n",
       "        10, 10, 190, 100,\n",
       "        -1, 0, 1, 2);\n",
       "// draw some reference marks on the frame1:\n",
       "frame1.text({x:-1, y:0, text:\"-1,0\", color:\"red\", background:\"yellow\"} );\n",
       "frame1.text({x:1, y:2, text:\"1,2\", align:\"right\", color:\"red\", background:\"yellow\"} );\n",
       "frame1.lower_left_axes({min_x:-1, min_y:0, max_x:1, \n",
       "                         max_y:2, x_anchor:0, y_anchor:1, max_tick_count:5, color:\"blue\"})\n",
       "// Map pixel coords (210,10) and (400,100) to frame coords (-1, 0) and (1, 2) in frame2\n",
       "var frame2 = element.frame_region(\n",
       "        210, 10, 400, 100,\n",
       "        -1, 0, 1, 2);\n",
       "// draw some reference marks on the frame1:\n",
       "frame2.text({x:-1, y:0, text:\"-1,0\", color:\"red\", background:\"cyan\"} );\n",
       "frame2.text({x:1, y:2, text:\"1,2\", align:\"right\", color:\"red\", background:\"cyan\"} );\n",
       "frame2.lower_left_axes({min_x:-1, min_y:0, max_x:1, \n",
       "                         max_y:2, x_anchor:0, y_anchor:1, max_tick_count:5, color:\"green\"})\n",
       "\n",
       "```"
      ],
      "text/plain": [
       "<IPython.core.display.Markdown object>"
      ]
     },
     "metadata": {},
     "output_type": "display_data"
    },
    {
     "data": {
      "application/vnd.jupyter.widget-view+json": {
       "model_id": "b394a50264854ee3946bc0dd89544d6b",
       "version_major": 2,
       "version_minor": 0
      },
      "text/plain": [
       "DualCanvasWidget(status='Not yet rendered')"
      ]
     },
     "metadata": {},
     "output_type": "display_data"
    }
   ],
   "source": [
    "eg.js_2_frame_example()"
   ]
  },
  {
   "cell_type": "code",
   "execution_count": 5,
   "metadata": {},
   "outputs": [
    {
     "data": {
      "text/markdown": [
       "\n",
       "### Drawing lines\n",
       "\n",
       "The `line` method draws a line segment between two end points.\n"
      ],
      "text/plain": [
       "<IPython.core.display.Markdown object>"
      ]
     },
     "metadata": {},
     "output_type": "display_data"
    },
    {
     "data": {
      "text/markdown": [
       "```Javascript\n",
       "\n",
       "    element.line({\n",
       "        x1:50, y1:10,   // One end point of the line\n",
       "        x2:320, y2:100,  // The other end point of the line\n",
       "        color:\"cyan\",   // Optional color (default: \"black\")\n",
       "        lineWidth:4,    // Optional line width\n",
       "        lineDash:[5,2,1], // Optional line dash pattern\n",
       "    })\n",
       "\n",
       "```"
      ],
      "text/plain": [
       "<IPython.core.display.Markdown object>"
      ]
     },
     "metadata": {},
     "output_type": "display_data"
    },
    {
     "data": {
      "application/vnd.jupyter.widget-view+json": {
       "model_id": "202f49c0a4134370a6ac1fb632066a9a",
       "version_major": 2,
       "version_minor": 0
      },
      "text/plain": [
       "DualCanvasWidget(status='Not yet rendered')"
      ]
     },
     "metadata": {},
     "output_type": "display_data"
    }
   ],
   "source": [
    "eg.js_line_example()"
   ]
  },
  {
   "cell_type": "code",
   "execution_count": 6,
   "metadata": {},
   "outputs": [
    {
     "data": {
      "text/markdown": [
       "\n",
       "### Drawing arrows\n",
       "\n",
       "The `arrow` method draws an arrow between a head position and a tail position.\n"
      ],
      "text/plain": [
       "<IPython.core.display.Markdown object>"
      ]
     },
     "metadata": {},
     "output_type": "display_data"
    },
    {
     "data": {
      "text/markdown": [
       "```Javascript\n",
       "\n",
       "    element.arrow({\n",
       "        head_length:30,\n",
       "        x1:50, y1:10,   // The tail end point of the line\n",
       "        x2:320, y2:70,  // The head end point of the line\n",
       "        color:\"red\",   // Optional color (default: \"black\")\n",
       "        lineWidth:4,    // Optional line width\n",
       "        lineDash:[2,2], // Optional line dash pattern\n",
       "        head_angle:45,  // Optional head segment angle in degrees (default 45)\n",
       "        head_offset:10,  // Optional offset of head from endpoint\n",
       "        symmetric:true, // If true draw two arrow head segments (default False)\n",
       "    });\n",
       "\n",
       "```"
      ],
      "text/plain": [
       "<IPython.core.display.Markdown object>"
      ]
     },
     "metadata": {},
     "output_type": "display_data"
    },
    {
     "data": {
      "application/vnd.jupyter.widget-view+json": {
       "model_id": "a23e4681bbf74980b80df66734371116",
       "version_major": 2,
       "version_minor": 0
      },
      "text/plain": [
       "DualCanvasWidget(status='Not yet rendered')"
      ]
     },
     "metadata": {},
     "output_type": "display_data"
    }
   ],
   "source": [
    "eg.js_arrow_example()"
   ]
  },
  {
   "cell_type": "code",
   "execution_count": 7,
   "metadata": {},
   "outputs": [
    {
     "data": {
      "text/markdown": [
       "\n",
       "### Drawing double arrows\n",
       "\n",
       "The `double_arrow` method draws an arrow between a head position and a tail position\n",
       "with head marks at both ends.\n"
      ],
      "text/plain": [
       "<IPython.core.display.Markdown object>"
      ]
     },
     "metadata": {},
     "output_type": "display_data"
    },
    {
     "data": {
      "text/markdown": [
       "```Javascript\n",
       "\n",
       "    element.double_arrow({\n",
       "        head_length:30,\n",
       "        x1:50, y1:10,   // The tail end point of the line\n",
       "        x2:320, y2:70,  // The head end point of the line\n",
       "        color:\"red\",   // Optional color (default: \"black\")\n",
       "        back_color:\"blue\",  // Optional color of back arrow\n",
       "        lineWidth:4,    // Optional line width\n",
       "        lineDash:[2,2], // Optional line dash pattern\n",
       "        head_angle:45,  // Optional head segment angle in degrees (default 45)\n",
       "        back_angle:90,   // Optional back head segment angle\n",
       "        head_offset:10,  // Optional offset of head from endpoint\n",
       "        back_offset:0,   // Optional, offset of back pointing head mark\n",
       "        symmetric:false, // If true draw two arrow head segments (default False)\n",
       "        line_offset:5,  // offset of back arrow from forward arros\n",
       "    });\n",
       "\n",
       "```"
      ],
      "text/plain": [
       "<IPython.core.display.Markdown object>"
      ]
     },
     "metadata": {},
     "output_type": "display_data"
    },
    {
     "data": {
      "application/vnd.jupyter.widget-view+json": {
       "model_id": "2afd8d748f8c440abb3b6425561bed16",
       "version_major": 2,
       "version_minor": 0
      },
      "text/plain": [
       "DualCanvasWidget(status='Not yet rendered')"
      ]
     },
     "metadata": {},
     "output_type": "display_data"
    }
   ],
   "source": [
    "eg.js_double_arrow_example()"
   ]
  },
  {
   "cell_type": "code",
   "execution_count": 8,
   "metadata": {},
   "outputs": [
    {
     "data": {
      "text/markdown": [
       "\n",
       "### Drawing polylines\n",
       "\n",
       "The `polygon` method with `fill:false` and `close:false` draws sequence of connected line segments.\n"
      ],
      "text/plain": [
       "<IPython.core.display.Markdown object>"
      ]
     },
     "metadata": {},
     "output_type": "display_data"
    },
    {
     "data": {
      "text/markdown": [
       "```Javascript\n",
       "\n",
       "    var points = [[50,20], [40, 60], [140, 111], [300,4], [100,70]];\n",
       "    element.polygon({\n",
       "        points:points, // The vertices of the polyline path\n",
       "        color:\"green\",   // Optional color (default: \"black\")\n",
       "        lineWidth:3,    // Optional line width\n",
       "        lineDash:[5,5], // Optional line dash pattern\n",
       "        fill:false,\n",
       "        close:false,\n",
       "    });\n",
       "\n",
       "```"
      ],
      "text/plain": [
       "<IPython.core.display.Markdown object>"
      ]
     },
     "metadata": {},
     "output_type": "display_data"
    },
    {
     "data": {
      "application/vnd.jupyter.widget-view+json": {
       "model_id": "79dd6590034840eaa6be8e50d085ceae",
       "version_major": 2,
       "version_minor": 0
      },
      "text/plain": [
       "DualCanvasWidget(status='Not yet rendered')"
      ]
     },
     "metadata": {},
     "output_type": "display_data"
    }
   ],
   "source": [
    "eg.js_polyline_example()"
   ]
  },
  {
   "cell_type": "code",
   "execution_count": 9,
   "metadata": {},
   "outputs": [
    {
     "data": {
      "text/markdown": [
       "\n",
       "### Drawing polygons\n",
       "\n",
       "The `polygon` method (with the default of `close:true`) draws closed sequence of connected line segments.\n"
      ],
      "text/plain": [
       "<IPython.core.display.Markdown object>"
      ]
     },
     "metadata": {},
     "output_type": "display_data"
    },
    {
     "data": {
      "text/markdown": [
       "```Javascript\n",
       "\n",
       "    var points = [[50,20], [40, 60], [140, 111], [300,4], [100,70]];\n",
       "    element.polygon({\n",
       "        points:points, // The vertices of the polyline path\n",
       "        color:\"green\",   // Optional color (default: \"black\")\n",
       "        lineWidth:3,    // Optional line width\n",
       "        lineDash:[5,5], // Optional line dash pattern\n",
       "        fill:false,\n",
       "        // close:true,  // default value\n",
       "    });\n",
       "\n",
       "```"
      ],
      "text/plain": [
       "<IPython.core.display.Markdown object>"
      ]
     },
     "metadata": {},
     "output_type": "display_data"
    },
    {
     "data": {
      "application/vnd.jupyter.widget-view+json": {
       "model_id": "1978ff9f8fd6489d8e4408a4784ee2d5",
       "version_major": 2,
       "version_minor": 0
      },
      "text/plain": [
       "DualCanvasWidget(status='Not yet rendered')"
      ]
     },
     "metadata": {},
     "output_type": "display_data"
    }
   ],
   "source": [
    "eg.js_polygon_example()"
   ]
  },
  {
   "cell_type": "code",
   "execution_count": 10,
   "metadata": {},
   "outputs": [
    {
     "data": {
      "text/markdown": [
       "\n",
       "### Drawing circles with canvas relative radius\n",
       "\n",
       "The `circle` method draws a circle sized relative to the canvas\n",
       "coordinate system.  Circles on two frames with the same radius\n",
       "will have the same size.\n"
      ],
      "text/plain": [
       "<IPython.core.display.Markdown object>"
      ]
     },
     "metadata": {},
     "output_type": "display_data"
    },
    {
     "data": {
      "text/markdown": [
       "```Javascript\n",
       "   \n",
       "    // map (10,10), (100,100) to (-3,0),(3,6) in the frame\n",
       "    frame = element.frame_region(\n",
       "        10, 10, 100, 100,\n",
       "        -3, 0, 3, 6,\n",
       "    )\n",
       "    // Draw a circle positioned relative to the frame and sized relative to the canvas.\n",
       "    frame.circle({\n",
       "        x:4,\n",
       "        y:2.5,\n",
       "        r:20,  // radius \"r\" is in canvas coordinates, not frame coordinates\n",
       "        color:\"blue\",\n",
       "        fill:false,\n",
       "        lineWidth:5,\n",
       "        lineDash:[5,5],\n",
       "    })\n",
       "    frame.lower_left_axes({max_tick_count:5, color:\"green\"});\n",
       "\n",
       "```"
      ],
      "text/plain": [
       "<IPython.core.display.Markdown object>"
      ]
     },
     "metadata": {},
     "output_type": "display_data"
    },
    {
     "data": {
      "application/vnd.jupyter.widget-view+json": {
       "model_id": "51233bf709414bb4b9b8c75d845ab359",
       "version_major": 2,
       "version_minor": 0
      },
      "text/plain": [
       "DualCanvasWidget(status='Not yet rendered')"
      ]
     },
     "metadata": {},
     "output_type": "display_data"
    }
   ],
   "source": [
    "eg.js_circle_example()"
   ]
  },
  {
   "cell_type": "code",
   "execution_count": 11,
   "metadata": {},
   "outputs": [
    {
     "data": {
      "text/markdown": [
       "\n",
       "### Drawing circles with frame relative radius\n",
       "\n",
       "The `frame_circle` method draws a circle sized relative to the current reference frame\n",
       "coordinate system.  Frame circles on two frames with the same radius\n",
       "may have different sizes if the scaling differs between the frames.\n"
      ],
      "text/plain": [
       "<IPython.core.display.Markdown object>"
      ]
     },
     "metadata": {},
     "output_type": "display_data"
    },
    {
     "data": {
      "text/markdown": [
       "```Javascript\n",
       "   \n",
       "    frame = element.frame_region(\n",
       "        10, 10, 100, 100,\n",
       "        -3, 0, 3, 6,\n",
       "    )\n",
       "    // Draw a circle positioned and sized relative to the frame.\n",
       "    frame.frame_circle({\n",
       "        x:4,\n",
       "        y:2.5,\n",
       "        r:3,  // radius \"r\" is in frame coordinates\n",
       "        color:\"blue\",\n",
       "        fill:true,\n",
       "    });\n",
       "    frame.lower_left_axes({max_tick_count:5, color:\"green\"});\n",
       "\n",
       "```"
      ],
      "text/plain": [
       "<IPython.core.display.Markdown object>"
      ]
     },
     "metadata": {},
     "output_type": "display_data"
    },
    {
     "data": {
      "application/vnd.jupyter.widget-view+json": {
       "model_id": "6a572aaa6de94786a0e1a12505ad3323",
       "version_major": 2,
       "version_minor": 0
      },
      "text/plain": [
       "DualCanvasWidget(status='Not yet rendered')"
      ]
     },
     "metadata": {},
     "output_type": "display_data"
    }
   ],
   "source": [
    "eg.js_frame_circle_example()"
   ]
  },
  {
   "cell_type": "code",
   "execution_count": 12,
   "metadata": {},
   "outputs": [
    {
     "data": {
      "text/markdown": [
       "\n",
       "### Drawing stars\n",
       "\n",
       "The `star` method draws a star on the canvas.\n"
      ],
      "text/plain": [
       "<IPython.core.display.Markdown object>"
      ]
     },
     "metadata": {},
     "output_type": "display_data"
    },
    {
     "data": {
      "text/markdown": [
       "```Javascript\n",
       "   \n",
       "    // Draw a star (always positioned and sized relative to the frame)\n",
       "    element.star({\n",
       "        x:40, y:25, radius:30,\n",
       "        points:5,   // optional number of points\n",
       "        point_factor:2.1,  // optional scale factor for outer radius\n",
       "        color:\"magenta\",\n",
       "        fill:false,\n",
       "        lineWidth:5,\n",
       "        lineDash:[5,5],\n",
       "    })\n",
       "\n",
       "```"
      ],
      "text/plain": [
       "<IPython.core.display.Markdown object>"
      ]
     },
     "metadata": {},
     "output_type": "display_data"
    },
    {
     "data": {
      "application/vnd.jupyter.widget-view+json": {
       "model_id": "0b94f113ab8d41509c331eed71ce5479",
       "version_major": 2,
       "version_minor": 0
      },
      "text/plain": [
       "DualCanvasWidget(status='Not yet rendered')"
      ]
     },
     "metadata": {},
     "output_type": "display_data"
    }
   ],
   "source": [
    "eg.js_star_example()"
   ]
  },
  {
   "cell_type": "code",
   "execution_count": 13,
   "metadata": {},
   "outputs": [
    {
     "data": {
      "text/markdown": [
       "\n",
       "### Drawing rectangles with canvas relative size\n",
       "\n",
       "The `rect` method draws a rectangle sized relative to the canvas\n",
       "coordinate system.  `rect`s on two frames with the same width and height\n",
       "will have the same size.\n"
      ],
      "text/plain": [
       "<IPython.core.display.Markdown object>"
      ]
     },
     "metadata": {},
     "output_type": "display_data"
    },
    {
     "data": {
      "text/markdown": [
       "```Javascript\n",
       " \n",
       "    frame = element.frame_region(\n",
       "        10, 10, 100, 100,\n",
       "        -3, 0, 3, 6,\n",
       "    );\n",
       "\n",
       "    // Draw a rectangle positioned and sized relative to the frame.\n",
       "    var x = 4;\n",
       "    var y = 2.5;\n",
       "    frame.rect({\n",
       "        x:x, y:y,  // rectangle position relative to the frame\n",
       "        w:50, h:40,  // width and height relative to the canvas\n",
       "        dx:-10, dy:-10,  // offset of lower left corner from (x,y) relative to the canvas\n",
       "        color:\"green\",\n",
       "        degrees:10,  // optional rotation in degrees\n",
       "        fill:false,\n",
       "        lineWidth:5,\n",
       "        lineDash:[5,5],\n",
       "    });\n",
       "    // Draw a reference point at (x, y)\n",
       "    frame.circle({x:x, y:y, r:5, color:\"red\"});\n",
       "    frame.lower_left_axes({color:\"pink\", max_tick_count:5})\n",
       "\n",
       "```"
      ],
      "text/plain": [
       "<IPython.core.display.Markdown object>"
      ]
     },
     "metadata": {},
     "output_type": "display_data"
    },
    {
     "data": {
      "application/vnd.jupyter.widget-view+json": {
       "model_id": "528131ee731f4bf4a2b8749615d2a536",
       "version_major": 2,
       "version_minor": 0
      },
      "text/plain": [
       "DualCanvasWidget(status='Not yet rendered')"
      ]
     },
     "metadata": {},
     "output_type": "display_data"
    }
   ],
   "source": [
    "eg.js_rect_example()"
   ]
  },
  {
   "cell_type": "code",
   "execution_count": 14,
   "metadata": {},
   "outputs": [
    {
     "data": {
      "text/markdown": [
       "\n",
       "### Drawing rectangles with frame relative size\n",
       "\n",
       "The `frame_rect` method draws a rectangle sized relative to the current reference frame\n",
       "coordinate system.  `frame_rect`s on two frames with the same width and height\n",
       "may have the different sizes.\n"
      ],
      "text/plain": [
       "<IPython.core.display.Markdown object>"
      ]
     },
     "metadata": {},
     "output_type": "display_data"
    },
    {
     "data": {
      "text/markdown": [
       "```Javascript\n",
       "  \n",
       "    frame = element.frame_region(\n",
       "        10, 10, 100, 100,\n",
       "        -3, 0, 3, 6,\n",
       "    );\n",
       "    // Draw a rectangle positioned and sized relative to the frame.\n",
       "    var x = 4;\n",
       "    var y = 2.5;\n",
       "    frame.frame_rect({\n",
       "        x:x, y:y,  // rectangle position\n",
       "        w:5, h:4,  // width and height relative to frame\n",
       "        dx:-1, dy:-1,  // offset of lower left corner from (x,y) relative to frame\n",
       "        color:\"green\",\n",
       "        fill:false,\n",
       "        degrees:10,  // optional rotation in degrees\n",
       "        lineWidth:5,\n",
       "        lineDash:[5,5],\n",
       "    })\n",
       "    // Draw a reference point at (x, y)\n",
       "    frame.circle({x:x, y:y, r:5, color:\"red\"});\n",
       "    frame.lower_left_axes({color:\"pink\", max_tick_count:5})\n",
       "\n",
       "```"
      ],
      "text/plain": [
       "<IPython.core.display.Markdown object>"
      ]
     },
     "metadata": {},
     "output_type": "display_data"
    },
    {
     "data": {
      "application/vnd.jupyter.widget-view+json": {
       "model_id": "623efd33809947bcbe60d410b06e3adc",
       "version_major": 2,
       "version_minor": 0
      },
      "text/plain": [
       "DualCanvasWidget(status='Not yet rendered')"
      ]
     },
     "metadata": {},
     "output_type": "display_data"
    }
   ],
   "source": [
    "eg.js_canvas_rect_example()"
   ]
  },
  {
   "cell_type": "code",
   "execution_count": 15,
   "metadata": {},
   "outputs": [
    {
     "data": {
      "text/markdown": [
       "\n",
       "### Drawing text\n",
       "\n",
       "The `text` method draws a text screen on the canvas.\n",
       "The position of the text is determined by the current reference frame\n",
       "but the text font parameters are relative to the shared canvas coordinate space.\n"
      ],
      "text/plain": [
       "<IPython.core.display.Markdown object>"
      ]
     },
     "metadata": {},
     "output_type": "display_data"
    },
    {
     "data": {
      "text/markdown": [
       "```Javascript\n",
       "   \n",
       "    var x = 240;\n",
       "    var y = 30;\n",
       "    element.text({\n",
       "        x:x, y:y, \n",
       "        text:\"We the people\",\n",
       "        color:\"white\",   // Optional color (default: \"black\")\n",
       "        font:\"italic 52px Courier\",   // optional\n",
       "        background:\"#a00\",  // optional\n",
       "        degrees:-15,  // optional rotation in degrees\n",
       "        align:\"center\", // or \"left\" or \"right\", optional\n",
       "        valign:\"center\",  // or \"bottom\", optional\n",
       "    })\n",
       "    // Draw a reference point at (x, y)\n",
       "    element.circle({x:x, y:y, r:5, color:\"red\"});\n",
       "\n",
       "```"
      ],
      "text/plain": [
       "<IPython.core.display.Markdown object>"
      ]
     },
     "metadata": {},
     "output_type": "display_data"
    },
    {
     "data": {
      "application/vnd.jupyter.widget-view+json": {
       "model_id": "342cc57905a54ce5aaab8eb64ce4add6",
       "version_major": 2,
       "version_minor": 0
      },
      "text/plain": [
       "DualCanvasWidget(status='Not yet rendered')"
      ]
     },
     "metadata": {},
     "output_type": "display_data"
    }
   ],
   "source": [
    "eg.js_text_example()"
   ]
  }
 ],
 "metadata": {
  "kernelspec": {
   "display_name": "Python 3",
   "language": "python",
   "name": "python3"
  },
  "language_info": {
   "codemirror_mode": {
    "name": "ipython",
    "version": 3
   },
   "file_extension": ".py",
   "mimetype": "text/x-python",
   "name": "python",
   "nbconvert_exporter": "python",
   "pygments_lexer": "ipython3",
   "version": "3.6.8"
  }
 },
 "nbformat": 4,
 "nbformat_minor": 2
}
