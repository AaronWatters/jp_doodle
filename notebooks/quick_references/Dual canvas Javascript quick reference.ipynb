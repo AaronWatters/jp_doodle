{
 "cells": [
  {
   "cell_type": "markdown",
   "metadata": {},
   "source": [
    "# `dual_canvas` Javascript quick reference.\n",
    "\n",
    "This document is part of the \n",
    "<a href=\"https://github.com/AaronWatters/jp_doodle\">https://github.com/AaronWatters/jp_doodle</a>\n",
    "package.\n",
    "It provides a quick reference\n",
    "to using the `dual_canvas` object API in Javascript to build visualizations.\n",
    "The document comes in several forms -- it is initially executed as a live Jupyter\n",
    "notebook and is later translated to other formats.\n",
    "\n",
    "A `dual canvas` provides a region on a web page or Jupyter notebook on which\n",
    "to draw geometric objects with associated mouse interactions and animations in order\n",
    "to create interactive visualizations.\n",
    "\n",
    "## Creating dual canvases\n",
    "\n",
    "The Javascript API for dual canvases may be used in any web context. \n",
    "In standard\n",
    "web pages a `dual_canvas` is implemented as a jQueryUI plug in component.\n",
    "In Jupyter notebooks a `dual_canvas` is \"wrapped\" as a widget. \n",
    "The dual canvas functionality\n",
    "requires `jQuery` and `jQueryUI` in addition to the canvas object implementation\n",
    "files `canvas_2d_widget_helper.js` and `dual_canvas_helper.js`.  \n",
    "\n",
    "### Create a dual canvas in \"vanilla HTML5\"\n",
    "\n",
    "Below is a complete \n",
    "<a href=\"minimal.html\">\"Hello world\" HTML file</a>\n",
    "which draws a dual canvas in a target\n",
    "location on a web page.  It pulls required style sheets and Javascript libraries from `github.io`."
   ]
  },
  {
   "cell_type": "code",
   "execution_count": 1,
   "metadata": {},
   "outputs": [
    {
     "data": {
      "text/markdown": [
       "```HTML\n",
       "<html>\n",
       "<head>\n",
       "<title> Dual Canvas HTML Hello World </title>\n",
       "    <link rel=\"stylesheet\" href=\"https://aaronwatters.github.io/jp_doodle/jquery-ui-1.12.1/jquery-ui.css\">\n",
       "    <script src=\"https://aaronwatters.github.io/jp_doodle/jquery-ui-1.12.1/external/jquery/jquery.js\"></script>\n",
       "    <script src=\"https://aaronwatters.github.io/jp_doodle/jquery-ui-1.12.1/jquery-ui.js\"></script>\n",
       "    <script src=\"https://aaronwatters.github.io/jp_doodle/jp_doodle_js/canvas_2d_widget_helper.js\"></script>\n",
       "    <script src=\"https://aaronwatters.github.io/jp_doodle/jp_doodle_js/dual_canvas_helper.js\"></script>\n",
       "    <link rel=stylesheet href=\"https://aaronwatters.github.io/jp_doodle/static/style.css\">\n",
       "</head>\n",
       "<body>\n",
       "    <p>Canvas below:</p>\n",
       "    <div id=\"target_div\"/>\n",
       "    <script>\n",
       "        var element = $('#target_div');\n",
       "        var config = {\n",
       "                    width: 400,\n",
       "                    height: 200,\n",
       "                };\n",
       "        element.dual_canvas_helper(config);\n",
       "        element.circle({x:0, y:0, r:100, color:\"#e99\"})\n",
       "        element.text({x:0, y:0, text:\"Hello World\", degrees:45,\n",
       "           font: \"40pt Arial\", color:\"#ee3\", background:\"#9e9\", align:\"center\", valign:\"center\"})\n",
       "        element.fit()\n",
       "    </script>\n",
       "</body>\n",
       "</html>\n",
       "```"
      ],
      "text/plain": [
       "<IPython.core.display.Markdown object>"
      ]
     },
     "metadata": {},
     "output_type": "display_data"
    }
   ],
   "source": [
    "# This qr_helper module provides helper functionality for displaying this quick reference.\n",
    "import qr_helper as eg\n",
    "eg.html_hello_world()"
   ]
  },
  {
   "cell_type": "markdown",
   "metadata": {},
   "source": [
    "### Using the Javascript API in Jupyter notebooks\n",
    "\n",
    "It is often useful to use the Javascript API with a canvas created in a Jupyter widget.\n",
    "The following shows how to create a `DualCanvasWidget` and draw objects on the canvas\n",
    "using the Javascript API directly.\n",
    "\n",
    "**Note:** Following example canvases imported from the `eg` helper module omit\n",
    "the details of creating the canvas and providing reference axes to make the presentation\n",
    "more compact.  Only the Javascript code of interest is shown."
   ]
  },
  {
   "cell_type": "code",
   "execution_count": 2,
   "metadata": {},
   "outputs": [
    {
     "data": {
      "application/vnd.jupyter.widget-view+json": {
       "model_id": "8a4f3e64402d4a92aa76d53f99d474ca",
       "version_major": 2,
       "version_minor": 0
      },
      "text/plain": [
       "DualCanvasWidget(status='Not yet rendered')"
      ]
     },
     "metadata": {},
     "output_type": "display_data"
    }
   ],
   "source": [
    "from jp_doodle import dual_canvas\n",
    "from IPython.display import display\n",
    "\n",
    "def widget_with_javascript():\n",
    "    # Create a canvas and then use Javascript to draw on it.\n",
    "    demo = dual_canvas.DualCanvasWidget(width=420, height=120, font=\"italic 12px Courier\",)\n",
    "    \n",
    "    # Put some reference marks on the canvas to illustrate the coordinate space.\n",
    "    demo.js_init(\"\"\"\n",
    "        // Javascript code:\n",
    "        element.text({x:0, y:0, text:\"0,0\", color:\"red\", background:\"yellow\"} );\n",
    "        element.text({x:410, y:110, text:\"410,110\", align:\"right\", color:\"red\", background:\"yellow\"} );\n",
    "        element.lower_left_axes({min_x:10, min_y:10, max_x:410, \n",
    "                         max_y:110, x_anchor:100, y_anchor:40, max_tick_count:7, color:\"blue\"})\n",
    "    \"\"\")\n",
    "    eg.show(demo)  # replace with display(demo)\n",
    "\n",
    "widget_with_javascript()"
   ]
  },
  {
   "cell_type": "code",
   "execution_count": 3,
   "metadata": {},
   "outputs": [
    {
     "data": {
      "text/markdown": [
       "\n",
       "### Create a reference frame inside a dual canvas\n",
       "\n",
       "Pixel coordinates are rarely the most convenient coordinate systems to\n",
       "use for scientific visualizations.  Reference frames allow drawing using\n",
       "transformed coordinates.  The `frame_region` method creates a frame\n",
       "by mapping reference points in the pixel space to reference\n",
       "points in the reference frame coordinate space.  Objects can then\n",
       "be drawn on the reference frame and the underlying coordinates will be\n",
       "converted automatically.\n",
       "\n",
       "The following Javascript creates a reference `frame` from the canvas `element`\n",
       "and draws some reference marks on the frame.  Reference axes in canvas coordinates\n",
       "are also shown in grey.\n"
      ],
      "text/plain": [
       "<IPython.core.display.Markdown object>"
      ]
     },
     "metadata": {},
     "output_type": "display_data"
    },
    {
     "data": {
      "text/markdown": [
       "```Javascript\n",
       "\n",
       "// Map pixel coords (10,10) and (400,100)\n",
       "//  to frame coords (-1, 0) and (1, 2)\n",
       "frame = element.frame_region(\n",
       "        10, 10, 400, 100,\n",
       "        -1, 0, 1, 2);\n",
       "// draw some reference marks on the frame:\n",
       "frame.text({x:-1, y:0, text:\"-1,0\", color:\"red\", background:\"yellow\"} );\n",
       "frame.text({x:1, y:2, text:\"1,2\", align:\"right\", color:\"red\", background:\"yellow\"} );\n",
       "frame.lower_left_axes({min_x:-1, min_y:0, max_x:1, \n",
       "                         max_y:2, x_anchor:0, y_anchor:1, max_tick_count:5, color:\"blue\"})\n",
       "\n",
       "```"
      ],
      "text/plain": [
       "<IPython.core.display.Markdown object>"
      ]
     },
     "metadata": {},
     "output_type": "display_data"
    },
    {
     "data": {
      "application/vnd.jupyter.widget-view+json": {
       "model_id": "fbffbff013294709ae5c2d9ea99f464e",
       "version_major": 2,
       "version_minor": 0
      },
      "text/plain": [
       "DualCanvasWidget(status='Not yet rendered')"
      ]
     },
     "metadata": {},
     "output_type": "display_data"
    }
   ],
   "source": [
    "eg.js_frame_example()"
   ]
  },
  {
   "cell_type": "code",
   "execution_count": 4,
   "metadata": {},
   "outputs": [
    {
     "data": {
      "text/markdown": [
       "\n",
       "### Create two reference frames inside a dual canvas\n",
       "\n",
       "It is possible to create many reference frames inside a dual canvas each with a different\n",
       "coordinate transform.  The following Javascript places two canvases side-by-side and\n",
       "annotates them similarly using the same frame coordinates.\n"
      ],
      "text/plain": [
       "<IPython.core.display.Markdown object>"
      ]
     },
     "metadata": {},
     "output_type": "display_data"
    },
    {
     "data": {
      "text/markdown": [
       "```Javascript\n",
       "\n",
       "// Map pixel coords (10,10) and (190,100) to frame coords (-1, 0) and (1, 2) in frame1\n",
       "frame1 = element.frame_region(\n",
       "        10, 10, 190, 100,\n",
       "        -1, 0, 1, 2);\n",
       "// draw some reference marks on the frame1:\n",
       "frame1.text({x:-1, y:0, text:\"-1,0\", color:\"red\", background:\"yellow\"} );\n",
       "frame1.text({x:1, y:2, text:\"1,2\", align:\"right\", color:\"red\", background:\"yellow\"} );\n",
       "frame1.lower_left_axes({min_x:-1, min_y:0, max_x:1, \n",
       "                         max_y:2, x_anchor:0, y_anchor:1, max_tick_count:5, color:\"blue\"})\n",
       "// Map pixel coords (210,10) and (400,100) to frame coords (-1, 0) and (1, 2) in frame2\n",
       "frame2 = element.frame_region(\n",
       "        210, 10, 400, 100,\n",
       "        -1, 0, 1, 2);\n",
       "// draw some reference marks on the frame1:\n",
       "frame2.text({x:-1, y:0, text:\"-1,0\", color:\"red\", background:\"cyan\"} );\n",
       "frame2.text({x:1, y:2, text:\"1,2\", align:\"right\", color:\"red\", background:\"cyan\"} );\n",
       "frame2.lower_left_axes({min_x:-1, min_y:0, max_x:1, \n",
       "                         max_y:2, x_anchor:0, y_anchor:1, max_tick_count:5, color:\"green\"})\n",
       "\n",
       "```"
      ],
      "text/plain": [
       "<IPython.core.display.Markdown object>"
      ]
     },
     "metadata": {},
     "output_type": "display_data"
    },
    {
     "data": {
      "application/vnd.jupyter.widget-view+json": {
       "model_id": "a3dc0acdbd0a444f927bf3eafd8389bc",
       "version_major": 2,
       "version_minor": 0
      },
      "text/plain": [
       "DualCanvasWidget(status='Not yet rendered')"
      ]
     },
     "metadata": {},
     "output_type": "display_data"
    }
   ],
   "source": [
    "eg.js_2_frame_example()"
   ]
  },
  {
   "cell_type": "code",
   "execution_count": 5,
   "metadata": {},
   "outputs": [
    {
     "data": {
      "text/markdown": [
       "\n",
       "### Drawing arrows\n",
       "\n",
       "The `arrow` method draws an arrow between a head position and a tail position.\n"
      ],
      "text/plain": [
       "<IPython.core.display.Markdown object>"
      ]
     },
     "metadata": {},
     "output_type": "display_data"
    },
    {
     "data": {
      "text/markdown": [
       "```Javascript\n",
       "\n",
       "    element.arrow({\n",
       "        head_length:30,\n",
       "        x1:50, y1:10,   // The tail end point of the line\n",
       "        x2:320, y2:70,  // The head end point of the line\n",
       "        color:\"red\",   // Optional color (default: \"black\")\n",
       "        lineWidth:4,    // Optional line width\n",
       "        lineDash:[2,2], // Optional line dash pattern\n",
       "        head_angle:45,  // Optional head segment angle in degrees (default 45)\n",
       "        head_offset:10,  // Optional offset of head from endpoint\n",
       "        symmetric:True, // If true draw two arrow head segments (default False)\n",
       "    });\n",
       "\n",
       "```"
      ],
      "text/plain": [
       "<IPython.core.display.Markdown object>"
      ]
     },
     "metadata": {},
     "output_type": "display_data"
    },
    {
     "data": {
      "application/vnd.jupyter.widget-view+json": {
       "model_id": "b6fa8a6631874bb983ece20796daa249",
       "version_major": 2,
       "version_minor": 0
      },
      "text/plain": [
       "DualCanvasWidget(status='Not yet rendered')"
      ]
     },
     "metadata": {},
     "output_type": "display_data"
    },
    {
     "name": "stdout",
     "output_type": "stream",
     "text": [
      "new error message: ReferenceError: True is not defined\n"
     ]
    }
   ],
   "source": [
    "eg.js_arrow_example()"
   ]
  }
 ],
 "metadata": {
  "kernelspec": {
   "display_name": "Python 3",
   "language": "python",
   "name": "python3"
  },
  "language_info": {
   "codemirror_mode": {
    "name": "ipython",
    "version": 3
   },
   "file_extension": ".py",
   "mimetype": "text/x-python",
   "name": "python",
   "nbconvert_exporter": "python",
   "pygments_lexer": "ipython3",
   "version": "3.6.8"
  }
 },
 "nbformat": 4,
 "nbformat_minor": 2
}
