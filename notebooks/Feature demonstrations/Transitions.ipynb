{
 "cells": [
  {
   "cell_type": "markdown",
   "metadata": {
    "deletable": true,
    "editable": true
   },
   "source": [
    " <img src=\"Transitions.png\" width=\"320\"> \n",
    " \n",
    "# Transitions\n",
    "\n",
    "\n",
    "You can change named objects on canvases using smooth transitions\n",
    "which interpolate between one group of attribute values and another\n",
    "smoothly over a time period."
   ]
  },
  {
   "cell_type": "code",
   "execution_count": null,
   "metadata": {
    "collapsed": true,
    "deletable": true,
    "editable": true
   },
   "outputs": [],
   "source": [
    "from jp_doodle import dual_canvas\n",
    "from IPython.display import display"
   ]
  },
  {
   "cell_type": "code",
   "execution_count": null,
   "metadata": {
    "collapsed": false,
    "deletable": true,
    "editable": true
   },
   "outputs": [],
   "source": [
    "# In this demonstration we do most of the work in Javascript.\n",
    "\n",
    "demo = dual_canvas.DualCanvasWidget(width=320, height=220)\n",
    "display(demo)\n",
    "\n",
    "demo.js_init(\"\"\"\n",
    "\n",
    "var small_radius = 10;\n",
    "var big_radius = 20;\n",
    "var offset = 50;\n",
    "var selected_color = \"magenta\";\n",
    "var normal_color = \"cyan\";\n",
    "var selected_text = \"yellow\";\n",
    "var normal_text = \"blue\";\n",
    "var duration = 3;\n",
    "var text_duration = 5;\n",
    "var n_circles = 10;\n",
    "var theta = 2 * Math.PI / n_circles;\n",
    "\n",
    "var texts = {};\n",
    "var circles = {};\n",
    "\n",
    "// Draw a circle of numbered circles\n",
    "var draw = function() {\n",
    "    for (var i=0; i<n_circles; i++) {\n",
    "        var name = \"\"+i;\n",
    "        var cx = offset * Math.cos(theta * i);\n",
    "        var cy = offset * Math.sin(theta * i);\n",
    "        circles[name] = element.circle({name: true, \n",
    "            x:cx, y:cy, r:small_radius, color:normal_color,\n",
    "            normal_position: [cx, cy]});\n",
    "        texts[name] = element.text({name: true, text: name, degrees: 0,\n",
    "            x: cx, y: cy, color:normal_text, align:\"center\", valign:\"center\"});\n",
    "        // cover the circle and the text with an invisible circle to receive events\n",
    "        var invisible_circle = element.circle({name: name, x:cx, y:cy, r:small_radius, \n",
    "            color: \"rgba(0,0,0,0)\",         // invisible\n",
    "            });\n",
    "        // Bind an event to invisible circle\n",
    "        invisible_circle.on(\"mouseover\", do_transition);\n",
    "    }\n",
    "}\n",
    "\n",
    "var selected_name = null;\n",
    "var selected_position = null;\n",
    "\n",
    "var do_transition = function (event) {\n",
    "    var name = event.canvas_name;\n",
    "    if ((name) && (name != selected_name)) {\n",
    "        // transition the visible object under the event\n",
    "        circles[name].transition({color:selected_color, r:big_radius, x:0, y:0}, duration);\n",
    "        texts[name].transition({color:selected_text, x:0, y:0, degrees:720}, text_duration);\n",
    "        // undo transition for previously selected objects\n",
    "        if (selected_name) {\n",
    "            circles[selected_name].transition(\n",
    "                {color:normal_color, r:small_radius, x:selected_position[0], y:selected_position[1]}, \n",
    "                duration);\n",
    "            texts[selected_name].transition(\n",
    "                {color:normal_text, x:selected_position[0], y:selected_position[1], degrees:0},\n",
    "                text_duration);\n",
    "        }\n",
    "    }\n",
    "    selected_name = name;\n",
    "    selected_position = [event.object_info.x, event.object_info.y];\n",
    "};\n",
    "\n",
    "// attach event handler\n",
    "draw()\n",
    "\n",
    "// Fit the figure into the available space\n",
    "element.fit(null, 20);\n",
    "\"\"\")"
   ]
  },
  {
   "cell_type": "markdown",
   "metadata": {
    "collapsed": true,
    "deletable": true,
    "editable": true
   },
   "source": [
    "# Polygon transitions\n",
    "\n",
    "Transitions of polygon points will smoothly convert polygons\n",
    "but if the number or order of points in the transition do not match up\n",
    "the heuristic used for interpolation may not have the desired effect.\n",
    "\n",
    "Click the polygon below to initiate a transition where the vertex\n",
    "number and order do not correspond."
   ]
  },
  {
   "cell_type": "code",
   "execution_count": null,
   "metadata": {
    "collapsed": false,
    "deletable": true,
    "editable": true
   },
   "outputs": [],
   "source": [
    "from jp_doodle import dual_canvas\n",
    "\n",
    "initial_points2 = [\n",
    "    [0, 300],\n",
    "    [0,100],\n",
    "    [100,0],\n",
    "    [300,0],\n",
    "    [400,100],\n",
    "    [400,300],\n",
    "    [300,400],\n",
    "    [100,400],\n",
    "]\n",
    "final_points2 = [\n",
    "    [100,100],\n",
    "    [300,100],\n",
    "    [250,310],\n",
    "    [100,300],\n",
    "]\n",
    "\n",
    "demo2 = dual_canvas.DualCanvasWidget()\n",
    "\n",
    "points2 = []  # global variable for current polygon points\n",
    "points2[:] = initial_points\n",
    "\n",
    "# Create a polygon which can be changed and responds to events\n",
    "polygon2 = demo2.polygon(points=points2, color=\"#f89\", name=True)\n",
    "\n",
    "demo2.lower_left_axes(min_x=0, max_x=400, min_y=0, max_y=400, max_tick_count=3)\n",
    "demo2.fit(margin=20)\n",
    "\n",
    "# Attach a click event handler which initiates a transition.\n",
    "def swap_points2(*whatever):\n",
    "    if points2 == initial_points2:\n",
    "        color = \"#89f\"\n",
    "        points2[:] = final_points2\n",
    "    else:\n",
    "        points2[:] = initial_points2\n",
    "        color = \"#f89\"\n",
    "    polygon2.transition(points=points2, color=color, seconds_duration=5)\n",
    "polygon2.on(\"click\", swap_points2)\n",
    "    \n",
    "demo2.text(text=\"Click to transition polygon\", \n",
    "           x=200, y=200, color=\"#ee2\", align=\"center\", font=\"normal 15px Arial\")\n",
    "demo2"
   ]
  },
  {
   "cell_type": "markdown",
   "metadata": {},
   "source": [
    "# Using matching point sequences in polygon transitions\n",
    "\n",
    "To control the behaviour of polygon transitions, use the same number of points\n",
    "in both ends of the transition and pair vertices in the corresponding indices.\n",
    "Use duplicate vertices for a vertex which should \"split\" during the transition."
   ]
  },
  {
   "cell_type": "code",
   "execution_count": null,
   "metadata": {
    "collapsed": false
   },
   "outputs": [],
   "source": [
    "initial_points3 = [\n",
    "    [0,100],\n",
    "    [100,0],\n",
    "    [300,0],\n",
    "    [400,100],\n",
    "    [400,300],\n",
    "    [300,400],\n",
    "    [100,400],\n",
    "    [0, 300],\n",
    "]\n",
    "final_points3 = [\n",
    "    [100,100],\n",
    "    [100,100],\n",
    "    [300,100],\n",
    "    [300,100],\n",
    "    [250,310],\n",
    "    [250,310],\n",
    "    [100,300],\n",
    "    [100,300],\n",
    "]\n",
    "\n",
    "demo3 = dual_canvas.DualCanvasWidget()\n",
    "\n",
    "points3 = []  # global variable for current polygon points\n",
    "points3[:] = initial_points3\n",
    "\n",
    "# Create a polygon which can be changed and responds to events\n",
    "polygon3 = demo3.polygon(points=points3, color=\"#f89\", name=True)\n",
    "\n",
    "demo3.lower_left_axes(min_x=0, max_x=400, min_y=0, max_y=400, max_tick_count=3)\n",
    "demo3.fit(margin=20)\n",
    "\n",
    "# Attach a click event handler which initiates a transition.\n",
    "def swap_points3(*whatever):\n",
    "    if points3 == initial_points3:\n",
    "        color = \"#89f\"\n",
    "        points3[:] = final_points3\n",
    "    else:\n",
    "        points3[:] = initial_points3\n",
    "        color = \"#f89\"\n",
    "    polygon3.transition(points=points3, color=color, seconds_duration=5)\n",
    "polygon3.on(\"click\", swap_points3)\n",
    "    \n",
    "demo3.text(text=\"Click to transition polygon\", \n",
    "           x=200, y=200, color=\"#ee2\", align=\"center\", font=\"normal 15px Arial\")\n",
    "demo3"
   ]
  },
  {
   "cell_type": "code",
   "execution_count": null,
   "metadata": {
    "collapsed": true
   },
   "outputs": [],
   "source": []
  }
 ],
 "metadata": {
  "kernelspec": {
   "display_name": "Python 2",
   "language": "python",
   "name": "python2"
  },
  "language_info": {
   "codemirror_mode": {
    "name": "ipython",
    "version": 2
   },
   "file_extension": ".py",
   "mimetype": "text/x-python",
   "name": "python",
   "nbconvert_exporter": "python",
   "pygments_lexer": "ipython2",
   "version": "2.7.13"
  }
 },
 "nbformat": 4,
 "nbformat_minor": 2
}
