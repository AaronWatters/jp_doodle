{
 "cells": [
  {
   "cell_type": "markdown",
   "metadata": {
    "deletable": true,
    "editable": true
   },
   "source": [
    " <img src=\"Transitions.png\" width=\"320\"> \n",
    " \n",
    "# Transitions\n",
    "\n",
    "\n",
    "You can change named objects on canvases using smooth transitions\n",
    "which interpolate between one group of attribute values and another\n",
    "smoothly over a time period."
   ]
  },
  {
   "cell_type": "code",
   "execution_count": 2,
   "metadata": {
    "collapsed": true,
    "deletable": true,
    "editable": true
   },
   "outputs": [],
   "source": [
    "from jp_doodle import dual_canvas\n",
    "from IPython.display import display"
   ]
  },
  {
   "cell_type": "code",
   "execution_count": 3,
   "metadata": {
    "collapsed": false,
    "deletable": true,
    "editable": true
   },
   "outputs": [
    {
     "data": {
      "application/vnd.jupyter.widget-view+json": {
       "model_id": "fdab9459be834eff9f427ac3ff66f45b",
       "version_major": 2,
       "version_minor": 0
      },
      "text/html": [
       "<p>Failed to display Jupyter Widget of type <code>DualCanvasWidget</code>.</p>\n",
       "<p>\n",
       "  If you're reading this message in Jupyter Notebook or JupyterLab, it may mean\n",
       "  that the widgets JavaScript is still loading. If this message persists, it\n",
       "  likely means that the widgets JavaScript library is either not installed or\n",
       "  not enabled. See the <a href=\"https://ipywidgets.readthedocs.io/en/stable/user_install.html\">Jupyter\n",
       "  Widgets Documentation</a> for setup instructions.\n",
       "</p>\n",
       "<p>\n",
       "  If you're reading this message in another notebook frontend (for example, a static\n",
       "  rendering on GitHub or <a href=\"https://nbviewer.jupyter.org/\">NBViewer</a>),\n",
       "  it may mean that your frontend doesn't currently support widgets.\n",
       "</p>\n"
      ],
      "text/plain": [
       "DualCanvasWidget(status=u'Not yet rendered')"
      ]
     },
     "metadata": {},
     "output_type": "display_data"
    }
   ],
   "source": [
    "# In this demonstration we do most of the work in Javascript.\n",
    "\n",
    "demo = dual_canvas.DualCanvasWidget(width=320, height=220)\n",
    "display(demo)\n",
    "\n",
    "demo.js_init(\"\"\"\n",
    "\n",
    "var small_radius = 10;\n",
    "var big_radius = 20;\n",
    "var offset = 50;\n",
    "var selected_color = \"magenta\";\n",
    "var normal_color = \"cyan\";\n",
    "var selected_text = \"yellow\";\n",
    "var normal_text = \"blue\";\n",
    "var duration = 3;\n",
    "var text_duration = 5;\n",
    "var n_circles = 10;\n",
    "var theta = 2 * Math.PI / n_circles;\n",
    "\n",
    "var draw = function() {\n",
    "    for (var i=0; i<n_circles; i++) {\n",
    "        var name = \"\"+i;\n",
    "        var cx = offset * Math.cos(theta * i);\n",
    "        var cy = offset * Math.sin(theta * i);\n",
    "        element.circle({name: \"circle\" + name, \n",
    "            x:cx, y:cy, r:small_radius, color:normal_color,\n",
    "            normal_position: [cx, cy]});\n",
    "        element.text({name: \"text\"+name, text: name, degrees: 0,\n",
    "            x: cx, y: cy, color:normal_text, align:\"center\", valign:\"center\"});\n",
    "        // cover the circle and the text with an invisible circle to receive events\n",
    "        element.circle({name: name, x:cx, y:cy, r:small_radius, \n",
    "            color: \"rgba(0,0,0,0)\",         // invisible\n",
    "            });\n",
    "        // Bind an event to invisible circle\n",
    "        element.on_canvas_event(\"mouseover\", do_transition, name);\n",
    "    }\n",
    "}\n",
    "\n",
    "var selected_name = null;\n",
    "var selected_position = null;\n",
    "\n",
    "var do_transition = function (event) {\n",
    "    var name = event.canvas_name;\n",
    "    if ((name) && (name != selected_name)) {\n",
    "        // transition the visible object under the event\n",
    "        element.transition(\"circle\" + name, {color:selected_color, r:big_radius, x:0, y:0}, duration);\n",
    "        element.transition(\"text\" + name, {color:selected_text, x:0, y:0, degrees:720}, text_duration);\n",
    "        // undo transition for previous object\n",
    "        if (selected_name) {\n",
    "            element.transition(\n",
    "                \"circle\" + selected_name, \n",
    "                {color:normal_color, r:small_radius, x:selected_position[0], y:selected_position[1]}, \n",
    "                duration);\n",
    "            element.transition(\n",
    "                \"text\" + selected_name,\n",
    "                {color:normal_text, x:selected_position[0], y:selected_position[1], degrees:0},\n",
    "                text_duration);\n",
    "        }\n",
    "    }\n",
    "    selected_name = name;\n",
    "    selected_position = [event.object_info.x, event.object_info.y];\n",
    "};\n",
    "\n",
    "// attach event handler\n",
    "//element.on_canvas_event(\"click\", do_transition);\n",
    "draw()\n",
    "\n",
    "// Fit the figure into the available space\n",
    "element.fit(null, 20);\n",
    "\"\"\")"
   ]
  },
  {
   "cell_type": "code",
   "execution_count": null,
   "metadata": {
    "collapsed": true,
    "deletable": true,
    "editable": true
   },
   "outputs": [],
   "source": [
    "demo.save_pixels_to_png_async(\"Transitions.png\")"
   ]
  },
  {
   "cell_type": "code",
   "execution_count": null,
   "metadata": {
    "collapsed": true,
    "deletable": true,
    "editable": true
   },
   "outputs": [],
   "source": []
  }
 ],
 "metadata": {
  "kernelspec": {
   "display_name": "Python 2",
   "language": "python",
   "name": "python2"
  },
  "language_info": {
   "codemirror_mode": {
    "name": "ipython",
    "version": 2
   },
   "file_extension": ".py",
   "mimetype": "text/x-python",
   "name": "python",
   "nbconvert_exporter": "python",
   "pygments_lexer": "ipython2",
   "version": "2.7.13"
  }
 },
 "nbformat": 4,
 "nbformat_minor": 2
}
