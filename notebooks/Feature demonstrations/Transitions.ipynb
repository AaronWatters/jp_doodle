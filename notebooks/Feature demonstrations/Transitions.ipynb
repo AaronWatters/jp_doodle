{
 "cells": [
  {
   "cell_type": "markdown",
   "metadata": {
    "deletable": true,
    "editable": true
   },
   "source": [
    " <img src=\"Transitions.png\" width=\"320\"> \n",
    " \n",
    "# Transitions\n",
    "\n",
    "\n",
    "You can change named objects on canvases using smooth transitions\n",
    "which interpolate between one group of attribute values and another\n",
    "smoothly over a time period."
   ]
  },
  {
   "cell_type": "code",
   "execution_count": null,
   "metadata": {
    "collapsed": true,
    "deletable": true,
    "editable": true
   },
   "outputs": [],
   "source": [
    "from jp_doodle import dual_canvas\n",
    "from IPython.display import display"
   ]
  },
  {
   "cell_type": "code",
   "execution_count": null,
   "metadata": {
    "collapsed": false,
    "deletable": true,
    "editable": true
   },
   "outputs": [],
   "source": [
    "# In this demonstration we do most of the work in Javascript.\n",
    "\n",
    "demo = dual_canvas.DualCanvasWidget(width=320, height=220)\n",
    "display(demo)\n",
    "\n",
    "demo.js_init(\"\"\"\n",
    "\n",
    "var small_radius = 10;\n",
    "var big_radius = 20;\n",
    "var offset = 50;\n",
    "var selected_color = \"magenta\";\n",
    "var normal_color = \"cyan\";\n",
    "var selected_text = \"yellow\";\n",
    "var normal_text = \"blue\";\n",
    "var duration = 3;\n",
    "var text_duration = 5;\n",
    "var n_circles = 10;\n",
    "var theta = 2 * Math.PI / n_circles;\n",
    "\n",
    "var draw = function() {\n",
    "    for (var i=0; i<n_circles; i++) {\n",
    "        var name = \"\"+i;\n",
    "        var cx = offset * Math.cos(theta * i);\n",
    "        var cy = offset * Math.sin(theta * i);\n",
    "        element.circle({name: \"circle\" + name, \n",
    "            x:cx, y:cy, r:small_radius, color:normal_color,\n",
    "            normal_position: [cx, cy]});\n",
    "        element.text({name: \"text\"+name, text: name, \n",
    "            x: cx, y: cy, color:normal_text, align:\"center\", valign:\"center\"});\n",
    "        // cover the circle and the text with an invisible circle to receive events\n",
    "        element.circle({name: name, x:cx, y:cy, r:small_radius, \n",
    "            color: \"rgba(0,0,0,0)\",         // invisible\n",
    "            });\n",
    "        // Bind an event to invisible circle\n",
    "        element.on_canvas_event(\"mouseover\", do_transition, name);\n",
    "    }\n",
    "}\n",
    "\n",
    "var selected_name = null;\n",
    "var selected_position = null;\n",
    "\n",
    "var do_transition = function (event) {\n",
    "    var name = event.canvas_name;\n",
    "    if ((name) && (name != selected_name)) {\n",
    "        // transition the visible object under the event\n",
    "        element.transition(\"circle\" + name, {color:selected_color, r:big_radius, x:0, y:0}, duration);\n",
    "        element.transition(\"text\" + name, {color:selected_text, x:0, y:0}, text_duration);\n",
    "        // undo transition for previous object\n",
    "        if (selected_name) {\n",
    "            element.transition(\n",
    "                \"circle\" + selected_name, \n",
    "                {color:normal_color, r:small_radius, x:selected_position[0], y:selected_position[1]}, \n",
    "                duration);\n",
    "            element.transition(\n",
    "                \"text\" + selected_name,\n",
    "                {color:normal_text, x:selected_position[0], y:selected_position[1]},\n",
    "                text_duration);\n",
    "        }\n",
    "    }\n",
    "    selected_name = name;\n",
    "    selected_position = [event.object_info.x, event.object_info.y];\n",
    "};\n",
    "\n",
    "// attach event handler\n",
    "//element.on_canvas_event(\"click\", do_transition);\n",
    "draw()\n",
    "\n",
    "// Fit the figure into the available space\n",
    "element.fit(null, 20);\n",
    "\"\"\")"
   ]
  },
  {
   "cell_type": "code",
   "execution_count": null,
   "metadata": {
    "collapsed": true,
    "deletable": true,
    "editable": true
   },
   "outputs": [],
   "source": [
    "demo.save_pixels_to_png_async(\"Transitions.png\")"
   ]
  },
  {
   "cell_type": "code",
   "execution_count": null,
   "metadata": {
    "collapsed": true,
    "deletable": true,
    "editable": true
   },
   "outputs": [],
   "source": []
  }
 ],
 "metadata": {
  "kernelspec": {
   "display_name": "Python 2",
   "language": "python",
   "name": "python2"
  },
  "language_info": {
   "codemirror_mode": {
    "name": "ipython",
    "version": 2
   },
   "file_extension": ".py",
   "mimetype": "text/x-python",
   "name": "python",
   "nbconvert_exporter": "python",
   "pygments_lexer": "ipython2",
   "version": "2.7.13"
  }
 },
 "nbformat": 4,
 "nbformat_minor": 2
}
