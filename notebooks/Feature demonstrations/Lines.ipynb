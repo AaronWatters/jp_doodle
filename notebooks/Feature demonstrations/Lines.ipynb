{
 "cells": [
  {
   "cell_type": "markdown",
   "metadata": {
    "deletable": true,
    "editable": true
   },
   "source": [
    " <img src=\"Lines.png?dummy=1\" width=\"320\"> \n",
    " \n",
    "# Lines\n",
    "\n",
    "\n",
    "You can draw lines (line segments) on canvases by providing a starting point x1 and y1 and\n",
    "and ending point x2 and y2.\n",
    "Lines are a more convenient way to draw a stroked, unfilled polygon consisting of only two points."
   ]
  },
  {
   "cell_type": "code",
   "execution_count": 1,
   "metadata": {
    "collapsed": true,
    "deletable": true,
    "editable": true
   },
   "outputs": [],
   "source": [
    "from jp_doodle import dual_canvas\n",
    "from IPython.display import display"
   ]
  },
  {
   "cell_type": "code",
   "execution_count": 2,
   "metadata": {
    "collapsed": false,
    "deletable": true,
    "editable": true
   },
   "outputs": [
    {
     "data": {
      "application/vnd.jupyter.widget-view+json": {
       "model_id": "df3ce2762b3042b0bf3cced828579357",
       "version_major": 2,
       "version_minor": 0
      },
      "text/html": [
       "<p>Failed to display Jupyter Widget of type <code>Tab</code>.</p>\n",
       "<p>\n",
       "  If you're reading this message in Jupyter Notebook or JupyterLab, it may mean\n",
       "  that the widgets JavaScript is still loading. If this message persists, it\n",
       "  likely means that the widgets JavaScript library is either not installed or\n",
       "  not enabled. See the <a href=\"https://ipywidgets.readthedocs.io/en/stable/user_install.html\">Jupyter\n",
       "  Widgets Documentation</a> for setup instructions.\n",
       "</p>\n",
       "<p>\n",
       "  If you're reading this message in another notebook frontend (for example, a static\n",
       "  rendering on GitHub or <a href=\"https://nbviewer.jupyter.org/\">NBViewer</a>),\n",
       "  it may mean that your frontend doesn't currently support widgets.\n",
       "</p>\n"
      ],
      "text/plain": [
       "Tab(children=(VBox(children=(SnapshotCanvas(status=u'Not yet rendered'), JSProxyWidget(status=u'Not yet rendered'))), HTML(value=u'<img src=\"Lines.png\" id=\"snapshot_id_1_1536842738157\"/>\\n <div id=\"snapshot_id_2_1536842738157\">Lines.png</div>')), _titles={u'1': 'Snapshot', u'0': 'Canvas'})"
      ]
     },
     "metadata": {},
     "output_type": "display_data"
    }
   ],
   "source": [
    "# In this demonstration we do most of the work in Javascript.\n",
    "\n",
    "demo = dual_canvas.SnapshotCanvas(\"Lines.png\", width=320, height=220)\n",
    "demo.display_all()\n",
    "\n",
    "demo.js_init(\"\"\"\n",
    "for (var i=0; i<20; i++) {\n",
    "    var theta = i * 2 * Math.PI / 20;\n",
    "    var color = \"rgb(\" + (i * 10) + \",\" + (255 - i*10) + \",\" + (i * 10) + \")\";\n",
    "    var c = Math.cos(theta);\n",
    "    var s = Math.sin(theta);\n",
    "    var w = 4 + 2 * s;\n",
    "    element.line({x1: -c*20, y1: s*20, x2: c*100, y2: s*100, color:color, lineWidth:w});\n",
    "}\n",
    "\n",
    "// Fit the figure into the available space\n",
    "element.fit(null, 10);\n",
    "\"\"\")"
   ]
  },
  {
   "cell_type": "code",
   "execution_count": 3,
   "metadata": {
    "collapsed": false,
    "deletable": true,
    "editable": true
   },
   "outputs": [
    {
     "data": {
      "application/vnd.jupyter.widget-view+json": {
       "model_id": "e4fbd8e7aee849b49363fb297e4a689c",
       "version_major": 2,
       "version_minor": 0
      },
      "text/html": [
       "<p>Failed to display Jupyter Widget of type <code>DualCanvasWidget</code>.</p>\n",
       "<p>\n",
       "  If you're reading this message in Jupyter Notebook or JupyterLab, it may mean\n",
       "  that the widgets JavaScript is still loading. If this message persists, it\n",
       "  likely means that the widgets JavaScript library is either not installed or\n",
       "  not enabled. See the <a href=\"https://ipywidgets.readthedocs.io/en/stable/user_install.html\">Jupyter\n",
       "  Widgets Documentation</a> for setup instructions.\n",
       "</p>\n",
       "<p>\n",
       "  If you're reading this message in another notebook frontend (for example, a static\n",
       "  rendering on GitHub or <a href=\"https://nbviewer.jupyter.org/\">NBViewer</a>),\n",
       "  it may mean that your frontend doesn't currently support widgets.\n",
       "</p>\n"
      ],
      "text/plain": [
       "DualCanvasWidget(status=u'Not yet rendered')"
      ]
     },
     "metadata": {},
     "output_type": "display_data"
    }
   ],
   "source": [
    "# python equivalent\n",
    "import math\n",
    "\n",
    "demo2 = dual_canvas.DualCanvasWidget(width=320, height=220)\n",
    "display(demo2)\n",
    "\n",
    "for i in range(20):\n",
    "    theta = i * 2 * math.pi / 20;\n",
    "    color = \"rgb(\" + repr(i * 10) + \",\" + repr(255 - i*10) + \",\" + repr(i * 10) + \")\"\n",
    "    c = math.cos(theta);\n",
    "    s = math.sin(theta);\n",
    "    w = 4 + 2 * s;\n",
    "    demo2.line(-c*20, s*20, c*100, s*100, color=color, lineWidth=w);\n",
    "\n",
    "# Fit the figure into the available space\n",
    "demo2.fit(None, 10);"
   ]
  },
  {
   "cell_type": "code",
   "execution_count": null,
   "metadata": {
    "collapsed": true,
    "deletable": true,
    "editable": true
   },
   "outputs": [],
   "source": [
    "#demo2.save_pixels_to_png_async(\"Circles.png\")"
   ]
  },
  {
   "cell_type": "code",
   "execution_count": null,
   "metadata": {
    "collapsed": true,
    "deletable": true,
    "editable": true
   },
   "outputs": [],
   "source": []
  }
 ],
 "metadata": {
  "kernelspec": {
   "display_name": "Python 2",
   "language": "python",
   "name": "python2"
  },
  "language_info": {
   "codemirror_mode": {
    "name": "ipython",
    "version": 2
   },
   "file_extension": ".py",
   "mimetype": "text/x-python",
   "name": "python",
   "nbconvert_exporter": "python",
   "pygments_lexer": "ipython2",
   "version": "2.7.13"
  },
  "widgets": {
   "application/vnd.jupyter.widget-state+json": {
    "state": {
     "06124c41a7ec42b88763324bc4b75a92": {
      "model_module": "@jupyter-widgets/base",
      "model_module_version": "1.0.0",
      "model_name": "LayoutModel",
      "state": {}
     },
     "0911369b5e574a9ab8b5bdc22729af4a": {
      "model_module": "jp_proxy_widget",
      "model_module_version": "^0.3.4",
      "model_name": "JSProxyModel",
      "state": {
       "_model_module_version": "^0.3.4",
       "_send_counter": 8,
       "_view_module_version": "^0.3.4",
       "error_msg": "No error",
       "layout": "IPY_MODEL_7d74e56cdd8b449c8f76cb4707b2ea7c",
       "rendered": true,
       "status": "Got results."
      }
     },
     "0a285395f62d472b943139081a7bd2e2": {
      "model_module": "@jupyter-widgets/controls",
      "model_module_version": "1.0.0",
      "model_name": "DescriptionStyleModel",
      "state": {
       "description_width": ""
      }
     },
     "0cf0d3207d1044cfa40a358bdd5053dd": {
      "model_module": "@jupyter-widgets/controls",
      "model_module_version": "1.0.0",
      "model_name": "DescriptionStyleModel",
      "state": {
       "description_width": ""
      }
     },
     "0ef596d88bd346eaa9297800798cfe83": {
      "model_module": "@jupyter-widgets/base",
      "model_module_version": "1.0.0",
      "model_name": "LayoutModel",
      "state": {}
     },
     "183b7a0a2ed7485a858edc6a03a3bde5": {
      "model_module": "@jupyter-widgets/controls",
      "model_module_version": "1.0.0",
      "model_name": "VBoxModel",
      "state": {
       "children": [
        "IPY_MODEL_1e7e3fea7ec24ed39d437a1b299ea0a7",
        "IPY_MODEL_2af8192cedf94dc0890a62af071f005c"
       ],
       "layout": "IPY_MODEL_a6ef91ac61214e9fa35e5a7e2582e17b"
      }
     },
     "19cf8044da4d4e46aba5fdcaf8e70ac6": {
      "model_module": "@jupyter-widgets/controls",
      "model_module_version": "1.0.0",
      "model_name": "VBoxModel",
      "state": {
       "children": [
        "IPY_MODEL_b05e3c6df8a344dca8bb76f7610f7fe5",
        "IPY_MODEL_74e6161b8cdb463f99ba00544c4dfd6e"
       ],
       "layout": "IPY_MODEL_4df419deef03418b9884022bda95d51a"
      }
     },
     "1e7e3fea7ec24ed39d437a1b299ea0a7": {
      "model_module": "jp_proxy_widget",
      "model_module_version": "^0.3.4",
      "model_name": "JSProxyModel",
      "state": {
       "_model_module_version": "^0.3.4",
       "_send_counter": 17,
       "_view_module_version": "^0.3.4",
       "error_msg": "No error",
       "layout": "IPY_MODEL_5aa9e1e7e43144cd9cd777fce58b9f78",
       "rendered": true,
       "status": "Got results."
      }
     },
     "27f74f59644d409fa769c104901b2e9b": {
      "model_module": "@jupyter-widgets/base",
      "model_module_version": "1.0.0",
      "model_name": "LayoutModel",
      "state": {}
     },
     "2af8192cedf94dc0890a62af071f005c": {
      "model_module": "jp_proxy_widget",
      "model_module_version": "^0.3.4",
      "model_name": "JSProxyModel",
      "state": {
       "_model_module_version": "^0.3.4",
       "_send_counter": 2,
       "_view_module_version": "^0.3.4",
       "error_msg": "No error",
       "layout": "IPY_MODEL_efa59f606eb747ff9a6d5131f0e318a2",
       "rendered": true,
       "status": "call back to <function callback_function at 0x10cede488>"
      }
     },
     "32470988944c42ce92dd6b13798f7661": {
      "model_module": "@jupyter-widgets/controls",
      "model_module_version": "1.0.0",
      "model_name": "HTMLModel",
      "state": {
       "layout": "IPY_MODEL_06124c41a7ec42b88763324bc4b75a92",
       "style": "IPY_MODEL_0cf0d3207d1044cfa40a358bdd5053dd",
       "value": "<img src=\"Lines.png\" id=\"snapshot_id_1_1536842738157\"/>\n <div id=\"snapshot_id_2_1536842738157\">Lines.png</div>"
      }
     },
     "360c219e5db74933babd205547a146f4": {
      "model_module": "@jupyter-widgets/controls",
      "model_module_version": "1.0.0",
      "model_name": "HTMLModel",
      "state": {
       "layout": "IPY_MODEL_afcbe74e97ae4deeb2593b77e017df70",
       "style": "IPY_MODEL_0a285395f62d472b943139081a7bd2e2",
       "value": "<img src=\"Lines.png\" id=\"snapshot_id_5_1536842497358\"/>\n <div id=\"snapshot_id_6_1536842497358\">Lines.png</div>"
      }
     },
     "44f8c41024084cf489853f5c3754861f": {
      "model_module": "@jupyter-widgets/base",
      "model_module_version": "1.0.0",
      "model_name": "LayoutModel",
      "state": {}
     },
     "4682410a02e542888ea5b998dd0259a0": {
      "model_module": "@jupyter-widgets/base",
      "model_module_version": "1.0.0",
      "model_name": "LayoutModel",
      "state": {}
     },
     "4df419deef03418b9884022bda95d51a": {
      "model_module": "@jupyter-widgets/base",
      "model_module_version": "1.0.0",
      "model_name": "LayoutModel",
      "state": {}
     },
     "4eeb5856a5b740649f01154185bfe121": {
      "model_module": "jp_proxy_widget",
      "model_module_version": "^0.3.4",
      "model_name": "JSProxyModel",
      "state": {
       "_model_module_version": "^0.3.4",
       "_send_counter": 6,
       "_view_module_version": "^0.3.4",
       "error_msg": "Error: Error in element.New SyntaxError: Unexpected number",
       "layout": "IPY_MODEL_e2506bb8bf434363b0a112ba83415926",
       "rendered": true,
       "status": "Rendered."
      }
     },
     "526f9d02f76c49d09b5e6b32e670db90": {
      "model_module": "@jupyter-widgets/base",
      "model_module_version": "1.0.0",
      "model_name": "LayoutModel",
      "state": {}
     },
     "546d12c1071d4279a68dfa2693b41e26": {
      "model_module": "@jupyter-widgets/controls",
      "model_module_version": "1.0.0",
      "model_name": "TabModel",
      "state": {
       "_titles": {
        "0": "Canvas",
        "1": "Snapshot"
       },
       "children": [
        "IPY_MODEL_19cf8044da4d4e46aba5fdcaf8e70ac6",
        "IPY_MODEL_360c219e5db74933babd205547a146f4"
       ],
       "layout": "IPY_MODEL_27f74f59644d409fa769c104901b2e9b"
      }
     },
     "56935e897b714efe8b5ea85ab356236b": {
      "model_module": "jp_proxy_widget",
      "model_module_version": "^0.3.4",
      "model_name": "JSProxyModel",
      "state": {
       "_model_module_version": "^0.3.4",
       "_send_counter": 6,
       "_view_module_version": "^0.3.4",
       "error_msg": "Error: cannot add point with NaN NaN,NaN",
       "layout": "IPY_MODEL_805fb829d30e47b4ab169008f3300014",
       "rendered": true,
       "status": "Rendered."
      }
     },
     "5aa9e1e7e43144cd9cd777fce58b9f78": {
      "model_module": "@jupyter-widgets/base",
      "model_module_version": "1.0.0",
      "model_name": "LayoutModel",
      "state": {}
     },
     "5bdc20d7bdd14864929f3006ab60ec6a": {
      "model_module": "jp_proxy_widget",
      "model_module_version": "^0.3.4",
      "model_name": "JSProxyModel",
      "state": {
       "_model_module_version": "^0.3.4",
       "_send_counter": 25,
       "_view_module_version": "^0.3.4",
       "error_msg": "No error",
       "layout": "IPY_MODEL_526f9d02f76c49d09b5e6b32e670db90",
       "rendered": true,
       "status": "Got results."
      }
     },
     "5bdd1cb08a8e4b4d9f0c9ed7f68f34bc": {
      "model_module": "@jupyter-widgets/base",
      "model_module_version": "1.0.0",
      "model_name": "LayoutModel",
      "state": {}
     },
     "6519bc28e04f416690c7fdbe2e87c198": {
      "model_module": "jp_proxy_widget",
      "model_module_version": "^0.3.4",
      "model_name": "JSProxyModel",
      "state": {
       "_model_module_version": "^0.3.4",
       "_send_counter": 6,
       "_view_module_version": "^0.3.4",
       "error_msg": "Error: cannot add point with NaN NaN,NaN",
       "layout": "IPY_MODEL_a93aba50d877452aa8320819fe7d773c",
       "rendered": true,
       "status": "Rendered."
      }
     },
     "7002763a5f564121a7d3c2244f294f3a": {
      "model_module": "jp_proxy_widget",
      "model_module_version": "^0.3.4",
      "model_name": "JSProxyModel",
      "state": {
       "_model_module_version": "^0.3.4",
       "_send_counter": 6,
       "_view_module_version": "^0.3.4",
       "error_msg": "No error",
       "layout": "IPY_MODEL_a2fe7f4ff3514f5f957e5c8e1a37506f",
       "rendered": true,
       "status": "Got results."
      }
     },
     "7331c7adfedc4f9b984eb537e7801662": {
      "model_module": "@jupyter-widgets/base",
      "model_module_version": "1.0.0",
      "model_name": "LayoutModel",
      "state": {}
     },
     "74e6161b8cdb463f99ba00544c4dfd6e": {
      "model_module": "jp_proxy_widget",
      "model_module_version": "^0.3.4",
      "model_name": "JSProxyModel",
      "state": {
       "_model_module_version": "^0.3.4",
       "_send_counter": 2,
       "_view_module_version": "^0.3.4",
       "error_msg": "No error",
       "layout": "IPY_MODEL_7cc01df27ddb409c98bcb399e2774359",
       "rendered": true,
       "status": "Got results."
      }
     },
     "772e1b54b03a4b20aa57263e3a54717a": {
      "model_module": "@jupyter-widgets/controls",
      "model_module_version": "1.0.0",
      "model_name": "HTMLModel",
      "state": {
       "layout": "IPY_MODEL_7331c7adfedc4f9b984eb537e7801662",
       "style": "IPY_MODEL_c8d3a21a46154d888750e7953495c83c",
       "value": "<img src=\"Lines.png\" id=\"snapshot_id_1_1536842475071\"/>\n <div id=\"snapshot_id_2_1536842475071\">Lines.png</div>"
      }
     },
     "7cc01df27ddb409c98bcb399e2774359": {
      "model_module": "@jupyter-widgets/base",
      "model_module_version": "1.0.0",
      "model_name": "LayoutModel",
      "state": {}
     },
     "7cf00c0d16ca415f905fb51a5d7317a0": {
      "model_module": "@jupyter-widgets/base",
      "model_module_version": "1.0.0",
      "model_name": "LayoutModel",
      "state": {}
     },
     "7d74e56cdd8b449c8f76cb4707b2ea7c": {
      "model_module": "@jupyter-widgets/base",
      "model_module_version": "1.0.0",
      "model_name": "LayoutModel",
      "state": {}
     },
     "805fb829d30e47b4ab169008f3300014": {
      "model_module": "@jupyter-widgets/base",
      "model_module_version": "1.0.0",
      "model_name": "LayoutModel",
      "state": {}
     },
     "8953fb40b8ba4f8a839093064cd001a4": {
      "model_module": "@jupyter-widgets/base",
      "model_module_version": "1.0.0",
      "model_name": "LayoutModel",
      "state": {}
     },
     "91f61b6e07db47f6bae2de4d3fea6732": {
      "model_module": "@jupyter-widgets/controls",
      "model_module_version": "1.0.0",
      "model_name": "DescriptionStyleModel",
      "state": {
       "description_width": ""
      }
     },
     "959c01b67693439ba2aa397736a57594": {
      "model_module": "jp_proxy_widget",
      "model_module_version": "^0.3.4",
      "model_name": "JSProxyModel",
      "state": {
       "_model_module_version": "^0.3.4",
       "_send_counter": 8,
       "_view_module_version": "^0.3.4",
       "error_msg": "Error: Error in element.New SyntaxError: Unexpected number",
       "layout": "IPY_MODEL_c3427cbee7f143b39742841682721c2a",
       "rendered": true,
       "status": "Rendered."
      }
     },
     "99b6cef9b4f24b5cb5ec3a7121bb30da": {
      "model_module": "@jupyter-widgets/base",
      "model_module_version": "1.0.0",
      "model_name": "LayoutModel",
      "state": {}
     },
     "9ec8210da4e64fbe96ed37349ddada21": {
      "model_module": "@jupyter-widgets/base",
      "model_module_version": "1.0.0",
      "model_name": "LayoutModel",
      "state": {}
     },
     "a2fe7f4ff3514f5f957e5c8e1a37506f": {
      "model_module": "@jupyter-widgets/base",
      "model_module_version": "1.0.0",
      "model_name": "LayoutModel",
      "state": {}
     },
     "a6ef91ac61214e9fa35e5a7e2582e17b": {
      "model_module": "@jupyter-widgets/base",
      "model_module_version": "1.0.0",
      "model_name": "LayoutModel",
      "state": {}
     },
     "a852ece86cf24139a70375acb2228b83": {
      "model_module": "jp_proxy_widget",
      "model_module_version": "^0.3.4",
      "model_name": "JSProxyModel",
      "state": {
       "_model_module_version": "^0.3.4",
       "_send_counter": 8,
       "_view_module_version": "^0.3.4",
       "error_msg": "No error",
       "layout": "IPY_MODEL_0ef596d88bd346eaa9297800798cfe83",
       "rendered": true,
       "status": "Got results."
      }
     },
     "a93aba50d877452aa8320819fe7d773c": {
      "model_module": "@jupyter-widgets/base",
      "model_module_version": "1.0.0",
      "model_name": "LayoutModel",
      "state": {}
     },
     "afcbe74e97ae4deeb2593b77e017df70": {
      "model_module": "@jupyter-widgets/base",
      "model_module_version": "1.0.0",
      "model_name": "LayoutModel",
      "state": {}
     },
     "b05e3c6df8a344dca8bb76f7610f7fe5": {
      "model_module": "jp_proxy_widget",
      "model_module_version": "^0.3.4",
      "model_name": "JSProxyModel",
      "state": {
       "_model_module_version": "^0.3.4",
       "_send_counter": 8,
       "_view_module_version": "^0.3.4",
       "error_msg": "No error",
       "layout": "IPY_MODEL_44f8c41024084cf489853f5c3754861f",
       "rendered": true,
       "status": "Got results."
      }
     },
     "b21235d44d984ef491180ffcdcef2800": {
      "model_module": "@jupyter-widgets/controls",
      "model_module_version": "1.0.0",
      "model_name": "HTMLModel",
      "state": {
       "layout": "IPY_MODEL_99b6cef9b4f24b5cb5ec3a7121bb30da",
       "style": "IPY_MODEL_91f61b6e07db47f6bae2de4d3fea6732",
       "value": "<img src=\"Lines.png\" id=\"snapshot_id_3_1536842481502\"/>\n <div id=\"snapshot_id_4_1536842481502\">Lines.png</div>"
      }
     },
     "c3427cbee7f143b39742841682721c2a": {
      "model_module": "@jupyter-widgets/base",
      "model_module_version": "1.0.0",
      "model_name": "LayoutModel",
      "state": {}
     },
     "c8d3a21a46154d888750e7953495c83c": {
      "model_module": "@jupyter-widgets/controls",
      "model_module_version": "1.0.0",
      "model_name": "DescriptionStyleModel",
      "state": {
       "description_width": ""
      }
     },
     "df3ce2762b3042b0bf3cced828579357": {
      "model_module": "@jupyter-widgets/controls",
      "model_module_version": "1.0.0",
      "model_name": "TabModel",
      "state": {
       "_titles": {
        "0": "Canvas",
        "1": "Snapshot"
       },
       "children": [
        "IPY_MODEL_183b7a0a2ed7485a858edc6a03a3bde5",
        "IPY_MODEL_32470988944c42ce92dd6b13798f7661"
       ],
       "layout": "IPY_MODEL_9ec8210da4e64fbe96ed37349ddada21",
       "selected_index": 1
      }
     },
     "e2506bb8bf434363b0a112ba83415926": {
      "model_module": "@jupyter-widgets/base",
      "model_module_version": "1.0.0",
      "model_name": "LayoutModel",
      "state": {}
     },
     "e4fbd8e7aee849b49363fb297e4a689c": {
      "model_module": "jp_proxy_widget",
      "model_module_version": "^0.3.4",
      "model_name": "JSProxyModel",
      "state": {
       "_model_module_version": "^0.3.4",
       "_send_counter": 25,
       "_view_module_version": "^0.3.4",
       "error_msg": "No error",
       "layout": "IPY_MODEL_7cf00c0d16ca415f905fb51a5d7317a0",
       "rendered": true,
       "status": "Got results."
      }
     },
     "e6bbe39866f74c25b1be618a9b050e46": {
      "model_module": "jp_proxy_widget",
      "model_module_version": "^0.3.4",
      "model_name": "JSProxyModel",
      "state": {
       "_model_module_version": "^0.3.4",
       "_send_counter": 6,
       "_view_module_version": "^0.3.4",
       "error_msg": "No error",
       "layout": "IPY_MODEL_4682410a02e542888ea5b998dd0259a0",
       "rendered": true,
       "status": "Got results."
      }
     },
     "e6f27baf0ca74b1f9d31bb897429ea73": {
      "model_module": "jp_proxy_widget",
      "model_module_version": "^0.3.4",
      "model_name": "JSProxyModel",
      "state": {
       "_model_module_version": "^0.3.4",
       "_send_counter": 6,
       "_view_module_version": "^0.3.4",
       "error_msg": "No error",
       "layout": "IPY_MODEL_5bdd1cb08a8e4b4d9f0c9ed7f68f34bc",
       "rendered": true,
       "status": "Got results."
      }
     },
     "ed783f80736d46d2aff47a1ac2e5f1f7": {
      "model_module": "jp_proxy_widget",
      "model_module_version": "^0.3.4",
      "model_name": "JSProxyModel",
      "state": {
       "_model_module_version": "^0.3.4",
       "_send_counter": 6,
       "_view_module_version": "^0.3.4",
       "error_msg": "Error: cannot add point with NaN NaN,NaN",
       "layout": "IPY_MODEL_8953fb40b8ba4f8a839093064cd001a4",
       "rendered": true,
       "status": "Rendered."
      }
     },
     "efa59f606eb747ff9a6d5131f0e318a2": {
      "model_module": "@jupyter-widgets/base",
      "model_module_version": "1.0.0",
      "model_name": "LayoutModel",
      "state": {}
     }
    },
    "version_major": 2,
    "version_minor": 0
   }
  }
 },
 "nbformat": 4,
 "nbformat_minor": 2
}
