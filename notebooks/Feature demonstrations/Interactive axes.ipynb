{
 "cells": [
  {
   "cell_type": "markdown",
   "metadata": {
    "deletable": true,
    "editable": true
   },
   "source": [
    "# Interactive axes\n",
    "\n",
    "The following interactive widget is intended to allow the developer to explore\n",
    "axes drawn with different parameter settings.\n"
   ]
  },
  {
   "cell_type": "code",
   "execution_count": 15,
   "metadata": {
    "collapsed": true,
    "deletable": true,
    "editable": true
   },
   "outputs": [],
   "source": [
    "# preliminaries\n",
    "from ipywidgets import interact, interactive, fixed, interact_manual\n",
    "import ipywidgets as widgets\n",
    "from jp_doodle import dual_canvas\n",
    "from IPython.display import display"
   ]
  },
  {
   "cell_type": "code",
   "execution_count": 16,
   "metadata": {
    "collapsed": false,
    "deletable": true,
    "editable": true
   },
   "outputs": [
    {
     "data": {
      "application/vnd.jupyter.widget-view+json": {
       "model_id": "f21baac0d08f45bd8d32251afdbece6e",
       "version_major": 2,
       "version_minor": 0
      },
      "text/html": [
       "<p>Failed to display Jupyter Widget of type <code>Tab</code>.</p>\n",
       "<p>\n",
       "  If you're reading this message in Jupyter Notebook or JupyterLab, it may mean\n",
       "  that the widgets JavaScript is still loading. If this message persists, it\n",
       "  likely means that the widgets JavaScript library is either not installed or\n",
       "  not enabled. See the <a href=\"https://ipywidgets.readthedocs.io/en/stable/user_install.html\">Jupyter\n",
       "  Widgets Documentation</a> for setup instructions.\n",
       "</p>\n",
       "<p>\n",
       "  If you're reading this message in another notebook frontend (for example, a static\n",
       "  rendering on GitHub or <a href=\"https://nbviewer.jupyter.org/\">NBViewer</a>),\n",
       "  it may mean that your frontend doesn't currently support widgets.\n",
       "</p>\n"
      ],
      "text/plain": [
       "Tab(children=(VBox(children=(SnapshotCanvas(status=u'Not yet rendered'), JSProxyWidget(status=u'Not yet rendered'))), HTML(value=u'<img src=\"interactive_axis.png\" id=\"snapshot_id_27_1537306517211\"/>\\n <div id=\"snapshot_id_28_1537306517211\">interactive_axis.png</div>')), _titles={u'1': 'Snapshot', u'0': 'Canvas'})"
      ]
     },
     "metadata": {},
     "output_type": "display_data"
    },
    {
     "data": {
      "application/vnd.jupyter.widget-view+json": {
       "model_id": "e935ca155ecf4a5cbaf61175fcec6a21",
       "version_major": 2,
       "version_minor": 0
      },
      "text/html": [
       "<p>Failed to display Jupyter Widget of type <code>interactive</code>.</p>\n",
       "<p>\n",
       "  If you're reading this message in Jupyter Notebook or JupyterLab, it may mean\n",
       "  that the widgets JavaScript is still loading. If this message persists, it\n",
       "  likely means that the widgets JavaScript library is either not installed or\n",
       "  not enabled. See the <a href=\"https://ipywidgets.readthedocs.io/en/stable/user_install.html\">Jupyter\n",
       "  Widgets Documentation</a> for setup instructions.\n",
       "</p>\n",
       "<p>\n",
       "  If you're reading this message in another notebook frontend (for example, a static\n",
       "  rendering on GitHub or <a href=\"https://nbviewer.jupyter.org/\">NBViewer</a>),\n",
       "  it may mean that your frontend doesn't currently support widgets.\n",
       "</p>\n"
      ],
      "text/plain": [
       "interactive(children=(IntSlider(value=5, description=u'max_tick_count', max=15, min=3), IntSlider(value=-210, description=u'min_x', max=300, min=-300), IntSlider(value=-210, description=u'min_y', max=300, min=-300), IntSlider(value=420, description=u'w', max=500), IntSlider(value=420, description=u'h', max=500), Output()), _dom_classes=('widget-interact',))"
      ]
     },
     "metadata": {},
     "output_type": "display_data"
    }
   ],
   "source": [
    "# Display a canvas with axes which can be adjusted interactively\n",
    "\n",
    "axes_canvas = dual_canvas.SnapshotCanvas(\"interactive_axis.png\", width=420, height=350)\n",
    "axes_canvas.display_all()\n",
    "\n",
    "def change_axes_js(max_tick_count=5, min_x=-210, min_y=-210, w=420, h=420\n",
    "                  ):\n",
    "    canvas = axes_canvas\n",
    "    canvas.js_init(\"\"\"\n",
    "    element.reset_canvas();\n",
    "    \n",
    "    element.rect({x:min_x, y:min_y, w:w, h:h, color:\"#dd7\"});\n",
    "\n",
    "    // draw axes\n",
    "    var max_x = min_x + w;\n",
    "    var max_y = min_y + h;\n",
    "    \n",
    "    var axes = element.lower_left_axes({\n",
    "        min_x:min_x, max_x:max_x, min_y:min_y, max_y:max_y,\n",
    "        tick_line_config: {color: \"#5aa\"},\n",
    "        tick_text_config: {color: \"#55a\"},\n",
    "        max_tick_count: max_tick_count,\n",
    "        });\n",
    "        \n",
    "\n",
    "    element.left_axis({\n",
    "        min_value: min_y,\n",
    "        //max_value: max_y - (h * 0.5),\n",
    "        max_value: max_y,\n",
    "        max_tick_count: max_tick_count,\n",
    "        axis_origin: {x: min_x - 10, y: 0},\n",
    "        tick_line_config: {color: \"#f66\"},\n",
    "        tick_text_config: {color: \"#578\", degrees:-45},\n",
    "        add_end_points: true,\n",
    "    })\n",
    "\n",
    "    element.right_axis({\n",
    "        min_value: min_y + h * 0.3,\n",
    "        max_value: max_y,\n",
    "        max_tick_count: max_tick_count,\n",
    "        axis_origin: {x: max_x + 10, y: 0},\n",
    "        tick_line_config: {color: \"#66f\"},\n",
    "        tick_text_config: {color: \"#875\", degrees:30},\n",
    "    })\n",
    "\n",
    "    element.bottom_axis({\n",
    "        min_value: min_x,\n",
    "        max_value: min_x + 0.6 * w,\n",
    "        max_tick_count: max_tick_count,\n",
    "        axis_origin: {x: 0, y: min_y - 10},\n",
    "        tick_line_config: {color: \"#f66\"},\n",
    "        tick_text_config: {color: \"#578\", degrees:-45},\n",
    "        add_end_points: true,\n",
    "    })\n",
    "\n",
    "    element.top_axis({\n",
    "        min_value: min_x + 0.3 * w,\n",
    "        max_value: min_x + w,\n",
    "        max_tick_count: max_tick_count,\n",
    "        axis_origin: {x: 0, y: max_y + 10},\n",
    "        tick_line_config: {color: \"#6a6\"},\n",
    "        tick_text_config: {color: \"#36a\"},\n",
    "        add_end_points: true,\n",
    "    });\n",
    "\n",
    "    // add some content derived from the axes configuration.\n",
    "    var left = axes.left;\n",
    "    var bottom = axes.bottom;\n",
    "    for (var i=0; i<left.length-1; i++) {\n",
    "        for (var j=0; j<bottom.length-1; j++) {\n",
    "            var l = left[i].offset;\n",
    "            var b = bottom[j].offset;\n",
    "            element.rect({x:b+10, y:l+10, \n",
    "                h:left[i+1].offset-l-20, w:bottom[j+1].offset-b-20, color:\"#ad9\"})\n",
    "            element.text({text: b+\",\"+l, x:b, y:l, \n",
    "                color:\"#d96\", degrees:45, background:\"#eea\"})\n",
    "        }\n",
    "    }\n",
    "\n",
    "    // Fit the figure into the available space\n",
    "    element.fit(null, 10);\n",
    "    \"\"\", max_tick_count=max_tick_count, min_x=min_x, min_y=min_y, w=w, h=h)\n",
    "\n",
    "w = interactive(\n",
    "    change_axes_js,\n",
    "    max_tick_count=(3,15),\n",
    "    min_x=(-300,300),\n",
    "    min_y=(-300,300),\n",
    "    w=(0,500),\n",
    "    h=(0,500)\n",
    ")\n",
    "display(w)"
   ]
  },
  {
   "cell_type": "code",
   "execution_count": null,
   "metadata": {
    "collapsed": true,
    "deletable": true,
    "editable": true
   },
   "outputs": [],
   "source": []
  }
 ],
 "metadata": {
  "kernelspec": {
   "display_name": "Python 2",
   "language": "python",
   "name": "python2"
  },
  "language_info": {
   "codemirror_mode": {
    "name": "ipython",
    "version": 2
   },
   "file_extension": ".py",
   "mimetype": "text/x-python",
   "name": "python",
   "nbconvert_exporter": "python",
   "pygments_lexer": "ipython2",
   "version": "2.7.13"
  }
 },
 "nbformat": 4,
 "nbformat_minor": 2
}
