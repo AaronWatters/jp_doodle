{
 "cells": [
  {
   "cell_type": "markdown",
   "metadata": {
    "deletable": true,
    "editable": true
   },
   "source": [
    " <img src=\"Frame.png\" width=\"320\"> \n",
    " \n",
    "# Reference frames\n",
    "\n",
    "Objects can be created in reference frames in order to share\n",
    "the same drawing order priority and the same coordinate system.\n",
    "\n",
    "Objects in a reference frame\n",
    "\n",
    "- Have $(x,y)$ coordinates determined by the frame geometry.\n",
    "- Can change geometry all at once by changing the frame geometry.\n",
    "- Can change visibility all at once by changing the visibility of the frame.\n",
    "- Can be forgotten all at once by either forgetting or resetting the frame.\n",
    "- Are drawn all at once in the drawing order of the frame -- objects drawn\n",
    "after the frame will be \"on top\" of the frame elements.\n",
    "\n",
    "Frame geometry does not effect the styling for elements in the frame including\n",
    "\n",
    "- Line styling.\n",
    "- Circle radius.\n",
    "- Rectangle and image width, height, dx, dy, and degrees rotation.\n",
    "- Polygon rotation.\n",
    "- Text font and alignment.\n",
    "\n",
    "Some special object types are adjusted more closely to the frame\n",
    "\n",
    "- A `frame_circle` has its radius automatically adjusted to reflect the\n",
    "maximum frame distortion.\n",
    "- A `frame_rect` is essentially converted to a polygon with all vertices\n",
    "determined by the frame geometry.\n",
    "\n",
    "Below we create the `adorn` function to draw example objects on a frame\n",
    "and show how these objects are effected by differently configured frame\n",
    "geometries."
   ]
  },
  {
   "cell_type": "code",
   "execution_count": null,
   "metadata": {
    "collapsed": true,
    "deletable": true,
    "editable": true
   },
   "outputs": [],
   "source": [
    "from jp_doodle import dual_canvas\n",
    "from IPython.display import display"
   ]
  },
  {
   "cell_type": "code",
   "execution_count": null,
   "metadata": {
    "collapsed": false,
    "deletable": true,
    "editable": true
   },
   "outputs": [],
   "source": [
    "points = [[50,0], [40,-20], [40,-40], [30,-60],\n",
    "              [30,-50], [10,-40], [20,-30], [20,-20], [30,-10], [0,0]]\n",
    "\n",
    "def adorn(frame, frame_name):\n",
    "    def text_at(x, y, content):\n",
    "        frame.text(x=x, y=y, text=content, color=\"black\",\n",
    "                   background=\"white\", align=\"center\", valign=\"center\")\n",
    "    frame.circle(x=50, y=25, r=25, color=\"#339\")\n",
    "    frame.frame_circle(x=75, y=75, r=25, color=\"#539\")\n",
    "    frame.rect(x=-50, y=25, h=30, w=50, color=\"#369\")\n",
    "    frame.frame_rect(x=-75, y=75, h=30, w=50, color=\"#93a\")\n",
    "    # This local image reference works in \"classic\" notebook, but not in Jupyter Lab.\n",
    "    mandrill_url = \"../mandrill.png\"\n",
    "    frame.name_image_url(\"mandrill\", mandrill_url)\n",
    "    frame.named_image(image_name=\"mandrill\", x=-90, y=-90, w=79, h=70)\n",
    "    frame.polygon(points=points, lineWidth=5, color=\"#4fa\", fill=False)\n",
    "    # add some labels for clarity\n",
    "    text_at(50, 25, \"circle\")\n",
    "    text_at(75, 75, \"frame_circle\")\n",
    "    text_at(-25, 40, \"rect\")\n",
    "    text_at(-50, 90, \"frame_rect\")\n",
    "    cfg = {\"color\":\"salmon\"}\n",
    "    frame.lower_left_axes(-100, -100, 100, 100, \n",
    "            max_tick_count=4, tick_text_config=cfg, tick_line_config=cfg)\n",
    "    text_at(0, -120, frame_name)\n",
    "\n",
    "no_frame = dual_canvas.DualCanvasWidget(width=420, height=420)\n",
    "display(no_frame)\n",
    "adorn(no_frame, \"Not a frame\")\n",
    "no_frame.fit(None, 20)\n",
    "\n",
    "# Display the objects \"outside\" of any frame:"
   ]
  },
  {
   "cell_type": "code",
   "execution_count": null,
   "metadata": {
    "collapsed": false,
    "deletable": true,
    "editable": true
   },
   "outputs": [],
   "source": [
    "slanted = dual_canvas.SnapshotCanvas(\"Frame.png\", width=420, height=420)\n",
    "slanted.display_all()\n",
    "\n",
    "# The vector frame factory provides the most general frame parameters.\n",
    "slanted_frame = slanted.vector_frame(\n",
    "    x_vector={\"x\":1, \"y\":-0.3}, \n",
    "    y_vector={\"x\":1, \"y\":1},\n",
    "    xy_offset={\"x\":1100, \"y\":1200}\n",
    ")\n",
    "adorn(slanted_frame, \"Slanted\")\n",
    "slanted.fit()\n",
    "slanted.lower_left_axes()\n",
    "slanted.fit(None, 20)"
   ]
  },
  {
   "cell_type": "markdown",
   "metadata": {
    "deletable": true,
    "editable": true
   },
   "source": [
    "Above note that the positions of the objects change,\n",
    "but the styling of the objects is not changed by the\n",
    "frame geometry except for the `frame_circle` radius which reflects\n",
    "the `y` axis distortion and the vertices of the `frame_rect` which\n",
    "reflect the frame geometry."
   ]
  },
  {
   "cell_type": "code",
   "execution_count": null,
   "metadata": {
    "collapsed": false,
    "deletable": true,
    "editable": true
   },
   "outputs": [],
   "source": [
    "exploded = dual_canvas.DualCanvasWidget(width=420, height=420)\n",
    "display(exploded)\n",
    "\n",
    "# The rframe factory creates frames with scaling and translation.\n",
    "exploded_frame = exploded.rframe(\n",
    "    scale_x=3.5, scale_y=3, translate_x=-700, translate_y=700)\n",
    "\n",
    "adorn(exploded_frame, \"Exploded\")\n",
    "exploded.fit()\n",
    "exploded.lower_left_axes()\n",
    "exploded.fit(None, 20)"
   ]
  },
  {
   "cell_type": "code",
   "execution_count": null,
   "metadata": {
    "collapsed": false,
    "deletable": true,
    "editable": true
   },
   "outputs": [],
   "source": [
    "squashed = dual_canvas.DualCanvasWidget(width=420, height=420)\n",
    "display(squashed)\n",
    "\n",
    "# The frame_region frame factory maps a region of \"model space\"\n",
    "# to a region in \"frame space\".  It is sometimes easier to think\n",
    "# in terms of regions rather than vectors and scalings.\n",
    "squashed_frame = squashed.frame_region(\n",
    "    minx=200, miny=-1200, maxx=400, maxy=-1100, \n",
    "    frame_minx=-100, frame_miny=-100, frame_maxx=100, frame_maxy=100)\n",
    "adorn(squashed_frame, \"Squashed\")\n",
    "squashed.fit()\n",
    "squashed.lower_left_axes()\n",
    "squashed.fit(None, 20)\n",
    "\n",
    "# Note below that the frame_circle radius does not show\n",
    "# any change because the maximum distortion in the x direction is 1."
   ]
  },
  {
   "cell_type": "code",
   "execution_count": null,
   "metadata": {
    "collapsed": true,
    "deletable": true,
    "editable": true
   },
   "outputs": [],
   "source": []
  }
 ],
 "metadata": {
  "kernelspec": {
   "display_name": "Python 2",
   "language": "python",
   "name": "python2"
  },
  "language_info": {
   "codemirror_mode": {
    "name": "ipython",
    "version": 2
   },
   "file_extension": ".py",
   "mimetype": "text/x-python",
   "name": "python",
   "nbconvert_exporter": "python",
   "pygments_lexer": "ipython2",
   "version": "2.7.13"
  },
  "widgets": {
   "application/vnd.jupyter.widget-state+json": {
    "state": {
     "00e2fef95ac842f987afdb5f3e05ce88": {
      "model_module": "@jupyter-widgets/base",
      "model_module_version": "1.0.0",
      "model_name": "LayoutModel",
      "state": {}
     },
     "03fe1c4e8fa04980be525477c68c1a26": {
      "model_module": "@jupyter-widgets/base",
      "model_module_version": "1.0.0",
      "model_name": "LayoutModel",
      "state": {}
     },
     "04d5641f3fdc4f5399534761d1c33ca4": {
      "model_module": "jp_proxy_widget",
      "model_module_version": "^0.3.4",
      "model_name": "JSProxyModel",
      "state": {
       "_model_module_version": "^0.3.4",
       "_send_counter": 15,
       "_view_module_version": "^0.3.4",
       "error_msg": "No error",
       "layout": "IPY_MODEL_59b35466db2647d79c87502e6f2c2fdf",
       "rendered": true,
       "status": "Got results."
      }
     },
     "05e5ed73ce834419a87523acd2b8cc38": {
      "model_module": "@jupyter-widgets/base",
      "model_module_version": "1.0.0",
      "model_name": "LayoutModel",
      "state": {}
     },
     "06e1de638e7742b7908f22b8ce3abd01": {
      "model_module": "@jupyter-widgets/base",
      "model_module_version": "1.0.0",
      "model_name": "LayoutModel",
      "state": {}
     },
     "0b152d1959c147d382ab4d2fd063624a": {
      "model_module": "jp_proxy_widget",
      "model_module_version": "^0.3.4",
      "model_name": "JSProxyModel",
      "state": {
       "_model_module_version": "^0.3.4",
       "_send_counter": 20,
       "_view_module_version": "^0.3.4",
       "error_msg": "No error",
       "layout": "IPY_MODEL_5710b353856c4feab57ce6e257155677",
       "rendered": true,
       "status": "Got results."
      }
     },
     "0b4c8ed90f1144c989b338da8651141e": {
      "model_module": "jp_proxy_widget",
      "model_module_version": "^0.3.4",
      "model_name": "JSProxyModel",
      "state": {
       "_model_module_version": "^0.3.4",
       "_send_counter": 9,
       "_view_module_version": "^0.3.4",
       "error_msg": "No error",
       "layout": "IPY_MODEL_b0e302c725b845bd9c70893b8f86fcaa",
       "rendered": true,
       "status": "Got results."
      }
     },
     "0bc5c8a344894eab818970e70d5259c5": {
      "model_module": "@jupyter-widgets/base",
      "model_module_version": "1.0.0",
      "model_name": "LayoutModel",
      "state": {}
     },
     "0cc7ceba449d4d199040ee8bd251fdd1": {
      "model_module": "@jupyter-widgets/base",
      "model_module_version": "1.0.0",
      "model_name": "LayoutModel",
      "state": {}
     },
     "0e767ea178aa4a8daebffbfcacc987eb": {
      "model_module": "@jupyter-widgets/base",
      "model_module_version": "1.0.0",
      "model_name": "LayoutModel",
      "state": {}
     },
     "0fec9fc5fa0043e4a251f2db18e13fb6": {
      "model_module": "jp_proxy_widget",
      "model_module_version": "^0.3.4",
      "model_name": "JSProxyModel",
      "state": {
       "_model_module_version": "^0.3.4",
       "_send_counter": 13,
       "_view_module_version": "^0.3.4",
       "error_msg": "No error",
       "layout": "IPY_MODEL_b59f549a132c46fcb0f743918bc8e389",
       "rendered": true,
       "status": "Got results."
      }
     },
     "1181f87810594b0d9045f6e9e28e4334": {
      "model_module": "@jupyter-widgets/base",
      "model_module_version": "1.0.0",
      "model_name": "LayoutModel",
      "state": {}
     },
     "128cf71e59424cc183ef29f302b9148e": {
      "model_module": "jp_proxy_widget",
      "model_module_version": "^0.3.4",
      "model_name": "JSProxyModel",
      "state": {
       "_model_module_version": "^0.3.4",
       "_send_counter": 22,
       "_view_module_version": "^0.3.4",
       "error_msg": "No error",
       "layout": "IPY_MODEL_6af05241932041fd924d3835a4826d9c",
       "rendered": true,
       "status": "Got results."
      }
     },
     "1725e2d76d4a4b5ba27508c80a6c88f3": {
      "model_module": "@jupyter-widgets/base",
      "model_module_version": "1.0.0",
      "model_name": "LayoutModel",
      "state": {}
     },
     "1742e1b06c5e4ade9513790c9c54b3c6": {
      "model_module": "@jupyter-widgets/base",
      "model_module_version": "1.0.0",
      "model_name": "LayoutModel",
      "state": {}
     },
     "1a5206a02fda488498f549bc50b8e14e": {
      "model_module": "jp_proxy_widget",
      "model_module_version": "^0.3.4",
      "model_name": "JSProxyModel",
      "state": {
       "_model_module_version": "^0.3.4",
       "_send_counter": 20,
       "_view_module_version": "^0.3.4",
       "error_msg": "No error",
       "layout": "IPY_MODEL_03fe1c4e8fa04980be525477c68c1a26",
       "rendered": true,
       "status": "Got results."
      }
     },
     "1ab127b549a340dfabf18704f7e78189": {
      "model_module": "jp_proxy_widget",
      "model_module_version": "^0.3.4",
      "model_name": "JSProxyModel",
      "state": {
       "_model_module_version": "^0.3.4",
       "_send_counter": 22,
       "_view_module_version": "^0.3.4",
       "error_msg": "No error",
       "layout": "IPY_MODEL_fbbdd234483a4930883c3115e9014624",
       "rendered": true,
       "status": "Got results."
      }
     },
     "1e3a3d09a06f4504a365f75caf7814a4": {
      "model_module": "@jupyter-widgets/base",
      "model_module_version": "1.0.0",
      "model_name": "LayoutModel",
      "state": {}
     },
     "1eb0e27569af4dbe97b07bc1f34c6e7e": {
      "model_module": "@jupyter-widgets/controls",
      "model_module_version": "1.0.0",
      "model_name": "HTMLModel",
      "state": {
       "layout": "IPY_MODEL_551b05bcb6fc42918dc92b4e09cd0a30",
       "style": "IPY_MODEL_5d455875d1994e5cba1a731c4cdfebe7",
       "value": "<img src=\"Frame.png\" id=\"snapshot_id_3_1536925214708\"/>\n <div id=\"snapshot_id_4_1536925214708\">Frame.png</div>"
      }
     },
     "1ec64531430f4f378844beef4abb5c38": {
      "model_module": "jp_proxy_widget",
      "model_module_version": "^0.3.4",
      "model_name": "JSProxyModel",
      "state": {
       "_model_module_version": "^0.3.4",
       "_send_counter": 22,
       "_view_module_version": "^0.3.4",
       "error_msg": "No error",
       "layout": "IPY_MODEL_65c1e3ad5f9f4ef69f157066bb3ce6a8",
       "rendered": true,
       "status": "Got results."
      }
     },
     "1ec7e7f472684a6a8ffc8c4807397ace": {
      "model_module": "jp_proxy_widget",
      "model_module_version": "^0.3.4",
      "model_name": "JSProxyModel",
      "state": {
       "_model_module_version": "^0.3.4",
       "_send_counter": 9,
       "_view_module_version": "^0.3.4",
       "error_msg": "No error",
       "layout": "IPY_MODEL_4f9e8fbbd706458cba59b61b60bfe639",
       "rendered": true,
       "status": "Got results."
      }
     },
     "201d0b67cd374c3a981ee12f33445d09": {
      "model_module": "@jupyter-widgets/base",
      "model_module_version": "1.0.0",
      "model_name": "LayoutModel",
      "state": {}
     },
     "20cc0dbabb364504a9a7494d5e1c706e": {
      "model_module": "@jupyter-widgets/base",
      "model_module_version": "1.0.0",
      "model_name": "LayoutModel",
      "state": {}
     },
     "24754a1c1b3c4a0491cc17fc4c8bd086": {
      "model_module": "jp_proxy_widget",
      "model_module_version": "^0.3.4",
      "model_name": "JSProxyModel",
      "state": {
       "_model_module_version": "^0.3.4",
       "_send_counter": 5,
       "_view_module_version": "^0.3.4",
       "error_msg": "No error",
       "layout": "IPY_MODEL_9e9a4f658d5546dba4fe3e25bbd4b606",
       "rendered": true,
       "status": "Got results."
      }
     },
     "28da21c43b864feb9de274799a8a47c7": {
      "model_module": "@jupyter-widgets/base",
      "model_module_version": "1.0.0",
      "model_name": "LayoutModel",
      "state": {}
     },
     "2a5d3dc7bb9242e292a49f149fdf30cf": {
      "model_module": "@jupyter-widgets/controls",
      "model_module_version": "1.0.0",
      "model_name": "VBoxModel",
      "state": {
       "children": [
        "IPY_MODEL_a8ee039960144a93bd338a8ed468816c",
        "IPY_MODEL_c6a915580e44478591d3efba8c716824"
       ],
       "layout": "IPY_MODEL_84289c6988db42bd86464ed0559a4bd4"
      }
     },
     "2ad90013f6954dd3bcc227df1b2ac0fb": {
      "model_module": "jp_proxy_widget",
      "model_module_version": "^0.3.4",
      "model_name": "JSProxyModel",
      "state": {
       "_model_module_version": "^0.3.4",
       "_send_counter": 20,
       "_view_module_version": "^0.3.4",
       "error_msg": "No error",
       "layout": "IPY_MODEL_db26eb7a372c47eb983885fc015e2d9e",
       "rendered": true,
       "status": "Got results."
      }
     },
     "2c6daabb79774ba4aaf1d0694caa1f66": {
      "model_module": "@jupyter-widgets/base",
      "model_module_version": "1.0.0",
      "model_name": "LayoutModel",
      "state": {}
     },
     "2c702aaa542a4de6ac4babf052c71333": {
      "model_module": "@jupyter-widgets/base",
      "model_module_version": "1.0.0",
      "model_name": "LayoutModel",
      "state": {}
     },
     "2c75aa7632fb4a5aab9323de07fdeac2": {
      "model_module": "jp_proxy_widget",
      "model_module_version": "^0.3.4",
      "model_name": "JSProxyModel",
      "state": {
       "_model_module_version": "^0.3.4",
       "_send_counter": 22,
       "_view_module_version": "^0.3.4",
       "error_msg": "No error",
       "layout": "IPY_MODEL_4eaf6f7aeb0c4ee6bcc598f7f83580fd",
       "rendered": true,
       "status": "Got results."
      }
     },
     "2d78c8f307e54278981b89c03f0d257d": {
      "model_module": "@jupyter-widgets/base",
      "model_module_version": "1.0.0",
      "model_name": "LayoutModel",
      "state": {}
     },
     "2d7e0aa53c624a67866f6b906584aa95": {
      "model_module": "jp_proxy_widget",
      "model_module_version": "^0.3.4",
      "model_name": "JSProxyModel",
      "state": {
       "_model_module_version": "^0.3.4",
       "_send_counter": 24,
       "_view_module_version": "^0.3.4",
       "error_msg": "No error",
       "layout": "IPY_MODEL_51c4fe4eecc0454b8632e909bcbf6ed0",
       "rendered": true,
       "status": "Got results."
      }
     },
     "2e2c69becfdd4b9ebe2dc4f361e7b572": {
      "model_module": "jp_proxy_widget",
      "model_module_version": "^0.3.4",
      "model_name": "JSProxyModel",
      "state": {
       "_model_module_version": "^0.3.4",
       "_send_counter": 5,
       "_view_module_version": "^0.3.4",
       "error_msg": "No error",
       "layout": "IPY_MODEL_ce8cf8135b27491cad19c99f4bc7a9e5",
       "rendered": true,
       "status": "Got results."
      }
     },
     "2fb300abe1c44f2bb485bd70b1131265": {
      "model_module": "jp_proxy_widget",
      "model_module_version": "^0.3.4",
      "model_name": "JSProxyModel",
      "state": {
       "_model_module_version": "^0.3.4",
       "_send_counter": 22,
       "_view_module_version": "^0.3.4",
       "error_msg": "No error",
       "layout": "IPY_MODEL_cee37046c87f40f28e3598233a555fda",
       "rendered": true,
       "status": "Got results."
      }
     },
     "30e29ee231d3402cb79b4174e58b13d3": {
      "model_module": "@jupyter-widgets/base",
      "model_module_version": "1.0.0",
      "model_name": "LayoutModel",
      "state": {}
     },
     "31c4e547c4864453b1b2eac430be8a0e": {
      "model_module": "@jupyter-widgets/base",
      "model_module_version": "1.0.0",
      "model_name": "LayoutModel",
      "state": {}
     },
     "32ca7c1a0d374dbd8143ee149c65435f": {
      "model_module": "jp_proxy_widget",
      "model_module_version": "^0.3.4",
      "model_name": "JSProxyModel",
      "state": {
       "_model_module_version": "^0.3.4",
       "_send_counter": 22,
       "_view_module_version": "^0.3.4",
       "error_msg": "No error",
       "layout": "IPY_MODEL_7154507b78634afd94bed5b5b1773a7f",
       "rendered": true,
       "status": "Got results."
      }
     },
     "33eefa236e4147d09da619a0b2957928": {
      "model_module": "@jupyter-widgets/base",
      "model_module_version": "1.0.0",
      "model_name": "LayoutModel",
      "state": {}
     },
     "351a70c309874c75b90c7e61e10138b1": {
      "model_module": "@jupyter-widgets/base",
      "model_module_version": "1.0.0",
      "model_name": "LayoutModel",
      "state": {}
     },
     "3646d95ee25e4d39816edcc66eacca71": {
      "model_module": "jp_proxy_widget",
      "model_module_version": "^0.3.4",
      "model_name": "JSProxyModel",
      "state": {
       "_model_module_version": "^0.3.4",
       "_send_counter": 21,
       "_view_module_version": "^0.3.4",
       "error_msg": "No error",
       "layout": "IPY_MODEL_f203a6a47950423b98c73858a2264a3b",
       "rendered": true,
       "status": "Got results."
      }
     },
     "368cce180f8a4859a683a6ea9b3107a4": {
      "model_module": "jp_proxy_widget",
      "model_module_version": "^0.3.4",
      "model_name": "JSProxyModel",
      "state": {
       "_model_module_version": "^0.3.4",
       "_send_counter": 21,
       "_view_module_version": "^0.3.4",
       "error_msg": "No error",
       "layout": "IPY_MODEL_447d8f77ebd44206b1879f13798a98ba",
       "rendered": true,
       "status": "Got results."
      }
     },
     "3711e8855b124ebca0a0491b39f011c2": {
      "model_module": "@jupyter-widgets/base",
      "model_module_version": "1.0.0",
      "model_name": "LayoutModel",
      "state": {}
     },
     "3715f85270814fe6ac97733d35f1af0c": {
      "model_module": "@jupyter-widgets/base",
      "model_module_version": "1.0.0",
      "model_name": "LayoutModel",
      "state": {}
     },
     "3c54bd967da44bb48b953116ddf441fd": {
      "model_module": "@jupyter-widgets/base",
      "model_module_version": "1.0.0",
      "model_name": "LayoutModel",
      "state": {}
     },
     "3e7c49ef42c142ca9a1c93af1b5e585f": {
      "model_module": "@jupyter-widgets/base",
      "model_module_version": "1.0.0",
      "model_name": "LayoutModel",
      "state": {}
     },
     "3ecc88e8aa79495eb16c182b33bdb311": {
      "model_module": "jp_proxy_widget",
      "model_module_version": "^0.3.4",
      "model_name": "JSProxyModel",
      "state": {
       "_model_module_version": "^0.3.4",
       "_send_counter": 22,
       "_view_module_version": "^0.3.4",
       "error_msg": "No error",
       "layout": "IPY_MODEL_908e48fb55d74b81bf032e25dc916b67",
       "rendered": true,
       "status": "Got results."
      }
     },
     "41b1c467c82643b1a03cc52a41578e73": {
      "model_module": "jp_proxy_widget",
      "model_module_version": "^0.3.4",
      "model_name": "JSProxyModel",
      "state": {
       "_model_module_version": "^0.3.4",
       "_send_counter": 7,
       "_view_module_version": "^0.3.4",
       "error_msg": "No error",
       "layout": "IPY_MODEL_cd84586c53204cba9c5b6c86400aabb6",
       "rendered": true,
       "status": "Got results."
      }
     },
     "41c796f34b774719afc87ba5af98050e": {
      "model_module": "jp_proxy_widget",
      "model_module_version": "^0.3.4",
      "model_name": "JSProxyModel",
      "state": {
       "_model_module_version": "^0.3.4",
       "_send_counter": 7,
       "_view_module_version": "^0.3.4",
       "error_msg": "No error",
       "layout": "IPY_MODEL_b35108b69d8649e4b79bcaf5cc4d15c4",
       "rendered": true,
       "status": "Not yet rendered"
      }
     },
     "424f709abb704f8c9d068f6b0f185563": {
      "model_module": "@jupyter-widgets/controls",
      "model_module_version": "1.0.0",
      "model_name": "VBoxModel",
      "state": {
       "children": [
        "IPY_MODEL_660f30e42c364bf198a2bf342aecce24",
        "IPY_MODEL_a8f13621ed6d467699ede72e34564d51"
       ],
       "layout": "IPY_MODEL_450930d5d612473a8171662471d7d4db"
      }
     },
     "42c3771e9e934f68b1977329dc746250": {
      "model_module": "jp_proxy_widget",
      "model_module_version": "^0.3.4",
      "model_name": "JSProxyModel",
      "state": {
       "_model_module_version": "^0.3.4",
       "_send_counter": 7,
       "_view_module_version": "^0.3.4",
       "error_msg": "No error",
       "layout": "IPY_MODEL_d2f18076fe9044f790ad7cb99c74876b",
       "rendered": true,
       "status": "Got results."
      }
     },
     "42f107a1c037400c86f43204c46622ac": {
      "model_module": "@jupyter-widgets/base",
      "model_module_version": "1.0.0",
      "model_name": "LayoutModel",
      "state": {}
     },
     "447d8f77ebd44206b1879f13798a98ba": {
      "model_module": "@jupyter-widgets/base",
      "model_module_version": "1.0.0",
      "model_name": "LayoutModel",
      "state": {}
     },
     "450930d5d612473a8171662471d7d4db": {
      "model_module": "@jupyter-widgets/base",
      "model_module_version": "1.0.0",
      "model_name": "LayoutModel",
      "state": {}
     },
     "481cf3d4c4d3487c9de8bdfb10b02226": {
      "model_module": "jp_proxy_widget",
      "model_module_version": "^0.3.4",
      "model_name": "JSProxyModel",
      "state": {
       "_model_module_version": "^0.3.4",
       "_send_counter": 22,
       "_view_module_version": "^0.3.4",
       "error_msg": "No error",
       "layout": "IPY_MODEL_351a70c309874c75b90c7e61e10138b1",
       "rendered": true,
       "status": "Got results."
      }
     },
     "4832ec695c824502b91385c74c66260d": {
      "model_module": "jp_proxy_widget",
      "model_module_version": "^0.3.4",
      "model_name": "JSProxyModel",
      "state": {
       "_model_module_version": "^0.3.4",
       "_send_counter": 15,
       "_view_module_version": "^0.3.4",
       "error_msg": "No error",
       "layout": "IPY_MODEL_be4246cbe10941518e637032d06fc66b",
       "rendered": true,
       "status": "Got results."
      }
     },
     "48d12b82f6a040cbb5815a5c436f49e1": {
      "model_module": "jp_proxy_widget",
      "model_module_version": "^0.3.4",
      "model_name": "JSProxyModel",
      "state": {
       "_model_module_version": "^0.3.4",
       "_send_counter": 13,
       "_view_module_version": "^0.3.4",
       "error_msg": "TypeError: cc is not a function",
       "layout": "IPY_MODEL_2c6daabb79774ba4aaf1d0694caa1f66",
       "rendered": true,
       "status": "Rendered."
      }
     },
     "4a42115cc1d1469fb96e3f853e4e2ccd": {
      "model_module": "@jupyter-widgets/base",
      "model_module_version": "1.0.0",
      "model_name": "LayoutModel",
      "state": {}
     },
     "4be519ca26f8492e8558285cf55d165d": {
      "model_module": "@jupyter-widgets/base",
      "model_module_version": "1.0.0",
      "model_name": "LayoutModel",
      "state": {}
     },
     "4dc9ce9363d044cf8fe460502b2d70d0": {
      "model_module": "jp_proxy_widget",
      "model_module_version": "^0.3.4",
      "model_name": "JSProxyModel",
      "state": {
       "_model_module_version": "^0.3.4",
       "_send_counter": 22,
       "_view_module_version": "^0.3.4",
       "error_msg": "No error",
       "layout": "IPY_MODEL_05e5ed73ce834419a87523acd2b8cc38",
       "rendered": true,
       "status": "Got results."
      }
     },
     "4e8438e1832949f481b554b43a51014d": {
      "model_module": "@jupyter-widgets/base",
      "model_module_version": "1.0.0",
      "model_name": "LayoutModel",
      "state": {}
     },
     "4eaf6f7aeb0c4ee6bcc598f7f83580fd": {
      "model_module": "@jupyter-widgets/base",
      "model_module_version": "1.0.0",
      "model_name": "LayoutModel",
      "state": {}
     },
     "4f9e8fbbd706458cba59b61b60bfe639": {
      "model_module": "@jupyter-widgets/base",
      "model_module_version": "1.0.0",
      "model_name": "LayoutModel",
      "state": {}
     },
     "5160c5328d26473eae5d554dbecd3a0b": {
      "model_module": "jp_proxy_widget",
      "model_module_version": "^0.3.4",
      "model_name": "JSProxyModel",
      "state": {
       "_model_module_version": "^0.3.4",
       "_send_counter": 22,
       "_view_module_version": "^0.3.4",
       "error_msg": "No error",
       "layout": "IPY_MODEL_b108b9193c62490fb9d3af78ad02d0cf",
       "rendered": true,
       "status": "Got results."
      }
     },
     "51c4fe4eecc0454b8632e909bcbf6ed0": {
      "model_module": "@jupyter-widgets/base",
      "model_module_version": "1.0.0",
      "model_name": "LayoutModel",
      "state": {}
     },
     "551b05bcb6fc42918dc92b4e09cd0a30": {
      "model_module": "@jupyter-widgets/base",
      "model_module_version": "1.0.0",
      "model_name": "LayoutModel",
      "state": {}
     },
     "55f64dea748e42c796eadd9c9a81f8b5": {
      "model_module": "@jupyter-widgets/controls",
      "model_module_version": "1.0.0",
      "model_name": "DescriptionStyleModel",
      "state": {
       "description_width": ""
      }
     },
     "5710b353856c4feab57ce6e257155677": {
      "model_module": "@jupyter-widgets/base",
      "model_module_version": "1.0.0",
      "model_name": "LayoutModel",
      "state": {}
     },
     "589bbd3cdf0d44e087e2ad403f1cc17c": {
      "model_module": "jp_proxy_widget",
      "model_module_version": "^0.3.4",
      "model_name": "JSProxyModel",
      "state": {
       "_model_module_version": "^0.3.4",
       "_send_counter": 22,
       "_view_module_version": "^0.3.4",
       "error_msg": "No error",
       "layout": "IPY_MODEL_1725e2d76d4a4b5ba27508c80a6c88f3",
       "rendered": true,
       "status": "Got results."
      }
     },
     "58b3224013b840cc8b0c708604f6febd": {
      "model_module": "@jupyter-widgets/base",
      "model_module_version": "1.0.0",
      "model_name": "LayoutModel",
      "state": {}
     },
     "58ea6df59a384c0499a566f852f1c84d": {
      "model_module": "@jupyter-widgets/base",
      "model_module_version": "1.0.0",
      "model_name": "LayoutModel",
      "state": {}
     },
     "59b35466db2647d79c87502e6f2c2fdf": {
      "model_module": "@jupyter-widgets/base",
      "model_module_version": "1.0.0",
      "model_name": "LayoutModel",
      "state": {}
     },
     "5af7ac2eaf4a480b8654fece82778e2d": {
      "model_module": "jp_proxy_widget",
      "model_module_version": "^0.3.4",
      "model_name": "JSProxyModel",
      "state": {
       "_model_module_version": "^0.3.4",
       "_send_counter": 11,
       "_view_module_version": "^0.3.4",
       "error_msg": "No error",
       "layout": "IPY_MODEL_58ea6df59a384c0499a566f852f1c84d",
       "rendered": true,
       "status": "Got results."
      }
     },
     "5be3a59395c548beaa4134ec32819754": {
      "model_module": "@jupyter-widgets/controls",
      "model_module_version": "1.0.0",
      "model_name": "TabModel",
      "state": {
       "_titles": {
        "0": "Canvas",
        "1": "Snapshot"
       },
       "children": [
        "IPY_MODEL_2a5d3dc7bb9242e292a49f149fdf30cf",
        "IPY_MODEL_8ba30240988e4f2aa9425b280aa3da2d"
       ],
       "layout": "IPY_MODEL_b17f7828945d472eb03445990b2f8ca2",
       "selected_index": 1
      }
     },
     "5d455875d1994e5cba1a731c4cdfebe7": {
      "model_module": "@jupyter-widgets/controls",
      "model_module_version": "1.0.0",
      "model_name": "DescriptionStyleModel",
      "state": {
       "description_width": ""
      }
     },
     "5ea4a7ba4fba4e7a9c8f4cd08e3b69dc": {
      "model_module": "jp_proxy_widget",
      "model_module_version": "^0.3.4",
      "model_name": "JSProxyModel",
      "state": {
       "_model_module_version": "^0.3.4",
       "_send_counter": 11,
       "_view_module_version": "^0.3.4",
       "error_msg": "No error",
       "layout": "IPY_MODEL_acbfaf0a880c48b8ace8b795eff602a7",
       "rendered": true,
       "status": "Got results."
      }
     },
     "5f9a9cdb40f44bcdab01c0299df41fe1": {
      "model_module": "jp_proxy_widget",
      "model_module_version": "^0.3.4",
      "model_name": "JSProxyModel",
      "state": {
       "_model_module_version": "^0.3.4",
       "_send_counter": 22,
       "_view_module_version": "^0.3.4",
       "error_msg": "No error",
       "layout": "IPY_MODEL_9db7bcb6670e4bae8c7f8b86be2774e4",
       "rendered": true,
       "status": "Got results."
      }
     },
     "5fa67e1eaa0b4251aa8948b2d8cd2f12": {
      "model_module": "jp_proxy_widget",
      "model_module_version": "^0.3.4",
      "model_name": "JSProxyModel",
      "state": {
       "_model_module_version": "^0.3.4",
       "_send_counter": 4,
       "_view_module_version": "^0.3.4",
       "error_msg": "No error",
       "layout": "IPY_MODEL_0bc5c8a344894eab818970e70d5259c5",
       "rendered": true,
       "status": "Not yet rendered"
      }
     },
     "60d767a82417499cba0d368aac29ffa2": {
      "model_module": "jp_proxy_widget",
      "model_module_version": "^0.3.4",
      "model_name": "JSProxyModel",
      "state": {
       "_model_module_version": "^0.3.4",
       "_send_counter": 15,
       "_view_module_version": "^0.3.4",
       "error_msg": "No error",
       "layout": "IPY_MODEL_d40b62aaa0a4409782aafa947a82c787",
       "rendered": true,
       "status": "Got results."
      }
     },
     "6186e61a8ea0428eaf9b9a69fd23e446": {
      "model_module": "jp_proxy_widget",
      "model_module_version": "^0.3.4",
      "model_name": "JSProxyModel",
      "state": {
       "_model_module_version": "^0.3.4",
       "_send_counter": 22,
       "_view_module_version": "^0.3.4",
       "error_msg": "No error",
       "layout": "IPY_MODEL_e81f255e68ac4bfbbbe27dae60eb12e3",
       "rendered": true,
       "status": "Got results."
      }
     },
     "62bab4261a84477892dbd3fca8382508": {
      "model_module": "@jupyter-widgets/controls",
      "model_module_version": "1.0.0",
      "model_name": "TabModel",
      "state": {
       "_titles": {
        "0": "Canvas",
        "1": "Snapshot"
       },
       "children": [
        "IPY_MODEL_424f709abb704f8c9d068f6b0f185563",
        "IPY_MODEL_1eb0e27569af4dbe97b07bc1f34c6e7e"
       ],
       "layout": "IPY_MODEL_8337429a9f004759945a90ead818e730",
       "selected_index": 1
      }
     },
     "6586b0c783174039ad7815b69f0a9ee1": {
      "model_module": "jp_proxy_widget",
      "model_module_version": "^0.3.4",
      "model_name": "JSProxyModel",
      "state": {
       "_model_module_version": "^0.3.4",
       "_send_counter": 20,
       "_view_module_version": "^0.3.4",
       "error_msg": "In [object Object] no such method named_image",
       "layout": "IPY_MODEL_69bf6f0744344bb8acbbd4ba9a852a14",
       "rendered": true,
       "status": "Got results."
      }
     },
     "65c1e3ad5f9f4ef69f157066bb3ce6a8": {
      "model_module": "@jupyter-widgets/base",
      "model_module_version": "1.0.0",
      "model_name": "LayoutModel",
      "state": {}
     },
     "65f341678903462aa26455d1fa1e01b2": {
      "model_module": "jp_proxy_widget",
      "model_module_version": "^0.3.4",
      "model_name": "JSProxyModel",
      "state": {
       "_model_module_version": "^0.3.4",
       "_send_counter": 22,
       "_view_module_version": "^0.3.4",
       "error_msg": "No error",
       "layout": "IPY_MODEL_58b3224013b840cc8b0c708604f6febd",
       "rendered": true,
       "status": "Got results."
      }
     },
     "660f30e42c364bf198a2bf342aecce24": {
      "model_module": "jp_proxy_widget",
      "model_module_version": "^0.3.4",
      "model_name": "JSProxyModel",
      "state": {
       "_model_module_version": "^0.3.4",
       "_send_counter": 31,
       "_view_module_version": "^0.3.4",
       "error_msg": "No error",
       "layout": "IPY_MODEL_3715f85270814fe6ac97733d35f1af0c",
       "rendered": true,
       "status": "Got results."
      }
     },
     "69bf6f0744344bb8acbbd4ba9a852a14": {
      "model_module": "@jupyter-widgets/base",
      "model_module_version": "1.0.0",
      "model_name": "LayoutModel",
      "state": {}
     },
     "69cb6c5b18bd443dae8e893ce9f7414b": {
      "model_module": "jp_proxy_widget",
      "model_module_version": "^0.3.4",
      "model_name": "JSProxyModel",
      "state": {
       "_model_module_version": "^0.3.4",
       "_send_counter": 22,
       "_view_module_version": "^0.3.4",
       "error_msg": "No error",
       "layout": "IPY_MODEL_4a42115cc1d1469fb96e3f853e4e2ccd",
       "rendered": true,
       "status": "Got results."
      }
     },
     "6ab639c8dc8b4b29b264f9b202d30161": {
      "model_module": "jp_proxy_widget",
      "model_module_version": "^0.3.4",
      "model_name": "JSProxyModel",
      "state": {
       "_model_module_version": "^0.3.4",
       "_send_counter": 5,
       "_view_module_version": "^0.3.4",
       "error_msg": "No error",
       "layout": "IPY_MODEL_ed60700043024c05b1e6ec1debbc056b",
       "rendered": true,
       "status": "Got results."
      }
     },
     "6af05241932041fd924d3835a4826d9c": {
      "model_module": "@jupyter-widgets/base",
      "model_module_version": "1.0.0",
      "model_name": "LayoutModel",
      "state": {}
     },
     "6d816dc61b784ee187269797c543f5da": {
      "model_module": "@jupyter-widgets/base",
      "model_module_version": "1.0.0",
      "model_name": "LayoutModel",
      "state": {}
     },
     "6da754952d214853819677ffd1da536a": {
      "model_module": "@jupyter-widgets/base",
      "model_module_version": "1.0.0",
      "model_name": "LayoutModel",
      "state": {}
     },
     "6de0af68369e45c3aae012d7787ec91f": {
      "model_module": "@jupyter-widgets/base",
      "model_module_version": "1.0.0",
      "model_name": "LayoutModel",
      "state": {}
     },
     "6ecb5ce654bb4e518c9e1ad1b5969ce2": {
      "model_module": "@jupyter-widgets/base",
      "model_module_version": "1.0.0",
      "model_name": "LayoutModel",
      "state": {}
     },
     "6f05bdca00c148978bf590a84e92118e": {
      "model_module": "jp_proxy_widget",
      "model_module_version": "^0.3.4",
      "model_name": "JSProxyModel",
      "state": {
       "_model_module_version": "^0.3.4",
       "_send_counter": 22,
       "_view_module_version": "^0.3.4",
       "error_msg": "No error",
       "layout": "IPY_MODEL_1742e1b06c5e4ade9513790c9c54b3c6",
       "rendered": true,
       "status": "Got results."
      }
     },
     "7154507b78634afd94bed5b5b1773a7f": {
      "model_module": "@jupyter-widgets/base",
      "model_module_version": "1.0.0",
      "model_name": "LayoutModel",
      "state": {}
     },
     "71c9929b599b4a38bf31191cd5bd3441": {
      "model_module": "jp_proxy_widget",
      "model_module_version": "^0.3.4",
      "model_name": "JSProxyModel",
      "state": {
       "_model_module_version": "^0.3.4",
       "_send_counter": 20,
       "_view_module_version": "^0.3.4",
       "error_msg": "No error",
       "layout": "IPY_MODEL_1181f87810594b0d9045f6e9e28e4334",
       "rendered": true,
       "status": "Got results."
      }
     },
     "72b00190e3ce4516a38d6a5b06a51f49": {
      "model_module": "jp_proxy_widget",
      "model_module_version": "^0.3.4",
      "model_name": "JSProxyModel",
      "state": {
       "_model_module_version": "^0.3.4",
       "_send_counter": 7,
       "_view_module_version": "^0.3.4",
       "error_msg": "No error",
       "layout": "IPY_MODEL_d1ae5eb5246a4a159efb0f9db635eaa2",
       "rendered": true,
       "status": "Not yet rendered"
      }
     },
     "7775ccb404344eddac8fbe7e9eb92658": {
      "model_module": "jp_proxy_widget",
      "model_module_version": "^0.3.4",
      "model_name": "JSProxyModel",
      "state": {
       "_model_module_version": "^0.3.4",
       "_send_counter": 18,
       "_view_module_version": "^0.3.4",
       "error_msg": "No error",
       "layout": "IPY_MODEL_00e2fef95ac842f987afdb5f3e05ce88",
       "rendered": true,
       "status": "Got results."
      }
     },
     "78918cd86b044010bc1991a9ee915e7a": {
      "model_module": "@jupyter-widgets/base",
      "model_module_version": "1.0.0",
      "model_name": "LayoutModel",
      "state": {}
     },
     "78a69b96a8d64cfeb840586f02124888": {
      "model_module": "jp_proxy_widget",
      "model_module_version": "^0.3.4",
      "model_name": "JSProxyModel",
      "state": {
       "_model_module_version": "^0.3.4",
       "_send_counter": 5,
       "_view_module_version": "^0.3.4",
       "error_msg": "No error",
       "layout": "IPY_MODEL_30e29ee231d3402cb79b4174e58b13d3",
       "rendered": true,
       "status": "Got results."
      }
     },
     "7b25f8d875434f57b1b1c3ec0cde5f4d": {
      "model_module": "@jupyter-widgets/base",
      "model_module_version": "1.0.0",
      "model_name": "LayoutModel",
      "state": {}
     },
     "7c9e66f0f7254e2ebd91a5d2790eeaeb": {
      "model_module": "@jupyter-widgets/base",
      "model_module_version": "1.0.0",
      "model_name": "LayoutModel",
      "state": {}
     },
     "813b9c1abefb484c8fd5f72ab5471196": {
      "model_module": "@jupyter-widgets/base",
      "model_module_version": "1.0.0",
      "model_name": "LayoutModel",
      "state": {}
     },
     "81bdb21678884b9ea36c150ab88d2060": {
      "model_module": "@jupyter-widgets/base",
      "model_module_version": "1.0.0",
      "model_name": "LayoutModel",
      "state": {}
     },
     "8337429a9f004759945a90ead818e730": {
      "model_module": "@jupyter-widgets/base",
      "model_module_version": "1.0.0",
      "model_name": "LayoutModel",
      "state": {}
     },
     "83e051b8023c4874b86394e957991fa3": {
      "model_module": "@jupyter-widgets/base",
      "model_module_version": "1.0.0",
      "model_name": "LayoutModel",
      "state": {}
     },
     "84289c6988db42bd86464ed0559a4bd4": {
      "model_module": "@jupyter-widgets/base",
      "model_module_version": "1.0.0",
      "model_name": "LayoutModel",
      "state": {}
     },
     "8502a1e922b34be6a96f0b736743c62e": {
      "model_module": "@jupyter-widgets/base",
      "model_module_version": "1.0.0",
      "model_name": "LayoutModel",
      "state": {}
     },
     "8732c27bfda44481a4e262bddf575213": {
      "model_module": "@jupyter-widgets/base",
      "model_module_version": "1.0.0",
      "model_name": "LayoutModel",
      "state": {}
     },
     "8957bf0cfe294989a71e1bb116726411": {
      "model_module": "@jupyter-widgets/base",
      "model_module_version": "1.0.0",
      "model_name": "LayoutModel",
      "state": {}
     },
     "89722b6e87f84010b4bbce2b2c8cfa1b": {
      "model_module": "@jupyter-widgets/base",
      "model_module_version": "1.0.0",
      "model_name": "LayoutModel",
      "state": {}
     },
     "89d2633e0c894bfcb0c5ada46aa4ab51": {
      "model_module": "jp_proxy_widget",
      "model_module_version": "^0.3.4",
      "model_name": "JSProxyModel",
      "state": {
       "_model_module_version": "^0.3.4",
       "_send_counter": 22,
       "_view_module_version": "^0.3.4",
       "error_msg": "No error",
       "layout": "IPY_MODEL_6da754952d214853819677ffd1da536a",
       "rendered": true,
       "status": "Got results."
      }
     },
     "8ba30240988e4f2aa9425b280aa3da2d": {
      "model_module": "@jupyter-widgets/controls",
      "model_module_version": "1.0.0",
      "model_name": "HTMLModel",
      "state": {
       "layout": "IPY_MODEL_7b25f8d875434f57b1b1c3ec0cde5f4d",
       "style": "IPY_MODEL_ce447ca54e1f4a3e9825569c83bf3fda",
       "value": "<img src=\"Frame.png\" id=\"snapshot_id_1_1536926711640\"/>\n <div id=\"snapshot_id_2_1536926711640\">Frame.png</div>"
      }
     },
     "908e48fb55d74b81bf032e25dc916b67": {
      "model_module": "@jupyter-widgets/base",
      "model_module_version": "1.0.0",
      "model_name": "LayoutModel",
      "state": {}
     },
     "92c8bdf35d08411d891ab97e5a7990d9": {
      "model_module": "jp_proxy_widget",
      "model_module_version": "^0.3.4",
      "model_name": "JSProxyModel",
      "state": {
       "_model_module_version": "^0.3.4",
       "_send_counter": 24,
       "_view_module_version": "^0.3.4",
       "error_msg": "No error",
       "layout": "IPY_MODEL_06e1de638e7742b7908f22b8ce3abd01",
       "rendered": true,
       "status": "Got results."
      }
     },
     "94c224a218464275b9ffa27fa3dc2cec": {
      "model_module": "@jupyter-widgets/base",
      "model_module_version": "1.0.0",
      "model_name": "LayoutModel",
      "state": {}
     },
     "9806acf5b8ee47658e9075c16b377868": {
      "model_module": "@jupyter-widgets/base",
      "model_module_version": "1.0.0",
      "model_name": "LayoutModel",
      "state": {}
     },
     "98ce60ca694f4a39b79ea37c85d36213": {
      "model_module": "jp_proxy_widget",
      "model_module_version": "^0.3.4",
      "model_name": "JSProxyModel",
      "state": {
       "_model_module_version": "^0.3.4",
       "_send_counter": 18,
       "_view_module_version": "^0.3.4",
       "error_msg": "No error",
       "layout": "IPY_MODEL_dc0d909145444d4dbed96538a99af606",
       "rendered": true,
       "status": "Got results."
      }
     },
     "995dd38e55874b14aff1c053aebdf012": {
      "model_module": "jp_proxy_widget",
      "model_module_version": "^0.3.4",
      "model_name": "JSProxyModel",
      "state": {
       "_model_module_version": "^0.3.4",
       "_send_counter": 22,
       "_view_module_version": "^0.3.4",
       "error_msg": "No error",
       "layout": "IPY_MODEL_94c224a218464275b9ffa27fa3dc2cec",
       "rendered": true,
       "status": "Got results."
      }
     },
     "9d4b4a4c662643a39fa4960eff0d2458": {
      "model_module": "jp_proxy_widget",
      "model_module_version": "^0.3.4",
      "model_name": "JSProxyModel",
      "state": {
       "_model_module_version": "^0.3.4",
       "_send_counter": 22,
       "_view_module_version": "^0.3.4",
       "error_msg": "No error",
       "layout": "IPY_MODEL_6ecb5ce654bb4e518c9e1ad1b5969ce2",
       "rendered": true,
       "status": "Got results."
      }
     },
     "9db7bcb6670e4bae8c7f8b86be2774e4": {
      "model_module": "@jupyter-widgets/base",
      "model_module_version": "1.0.0",
      "model_name": "LayoutModel",
      "state": {}
     },
     "9e9a4f658d5546dba4fe3e25bbd4b606": {
      "model_module": "@jupyter-widgets/base",
      "model_module_version": "1.0.0",
      "model_name": "LayoutModel",
      "state": {}
     },
     "a11ef36767814cf6a2940b8ca026e648": {
      "model_module": "jp_proxy_widget",
      "model_module_version": "^0.3.4",
      "model_name": "JSProxyModel",
      "state": {
       "_model_module_version": "^0.3.4",
       "_send_counter": 11,
       "_view_module_version": "^0.3.4",
       "error_msg": "No error",
       "layout": "IPY_MODEL_81bdb21678884b9ea36c150ab88d2060",
       "rendered": true,
       "status": "Got results."
      }
     },
     "a2fbac4edfa6487484ccc102933bda04": {
      "model_module": "jp_proxy_widget",
      "model_module_version": "^0.3.4",
      "model_name": "JSProxyModel",
      "state": {
       "_model_module_version": "^0.3.4",
       "_send_counter": 22,
       "_view_module_version": "^0.3.4",
       "error_msg": "No error",
       "layout": "IPY_MODEL_ff5220f51c1c4fa7a937b9a5d4b7103f",
       "rendered": true,
       "status": "Got results."
      }
     },
     "a3a1ced6761a42dfbc1aaaca1bb4c379": {
      "model_module": "@jupyter-widgets/base",
      "model_module_version": "1.0.0",
      "model_name": "LayoutModel",
      "state": {}
     },
     "a3e31d825ce54398941959cf92d649e6": {
      "model_module": "jp_proxy_widget",
      "model_module_version": "^0.3.4",
      "model_name": "JSProxyModel",
      "state": {
       "_model_module_version": "^0.3.4",
       "_send_counter": 11,
       "_view_module_version": "^0.3.4",
       "error_msg": "No error",
       "layout": "IPY_MODEL_7c9e66f0f7254e2ebd91a5d2790eeaeb",
       "rendered": true,
       "status": "Got results."
      }
     },
     "a5935d0143b84404afea2d540aac4d60": {
      "model_module": "@jupyter-widgets/base",
      "model_module_version": "1.0.0",
      "model_name": "LayoutModel",
      "state": {}
     },
     "a79d4bb92d3841c4b978f098795e1c2e": {
      "model_module": "jp_proxy_widget",
      "model_module_version": "^0.3.4",
      "model_name": "JSProxyModel",
      "state": {
       "_model_module_version": "^0.3.4",
       "_send_counter": 22,
       "_view_module_version": "^0.3.4",
       "error_msg": "No error",
       "layout": "IPY_MODEL_78918cd86b044010bc1991a9ee915e7a",
       "rendered": true,
       "status": "Got results."
      }
     },
     "a8ee039960144a93bd338a8ed468816c": {
      "model_module": "jp_proxy_widget",
      "model_module_version": "^0.3.4",
      "model_name": "JSProxyModel",
      "state": {
       "_model_module_version": "^0.3.4",
       "_send_counter": 31,
       "_view_module_version": "^0.3.4",
       "error_msg": "No error",
       "layout": "IPY_MODEL_89722b6e87f84010b4bbce2b2c8cfa1b",
       "rendered": true,
       "status": "Got results."
      }
     },
     "a8f13621ed6d467699ede72e34564d51": {
      "model_module": "jp_proxy_widget",
      "model_module_version": "^0.3.4",
      "model_name": "JSProxyModel",
      "state": {
       "_model_module_version": "^0.3.4",
       "_send_counter": 2,
       "_view_module_version": "^0.3.4",
       "error_msg": "No error",
       "layout": "IPY_MODEL_3e7c49ef42c142ca9a1c93af1b5e585f",
       "rendered": true,
       "status": "call back to <function callback_function at 0x106d2f7d0>"
      }
     },
     "a8f1dc90b1e74aebaebf04031d383fb8": {
      "model_module": "jp_proxy_widget",
      "model_module_version": "^0.3.4",
      "model_name": "JSProxyModel",
      "state": {
       "_model_module_version": "^0.3.4",
       "_send_counter": 7,
       "_view_module_version": "^0.3.4",
       "error_msg": "No error",
       "layout": "IPY_MODEL_2c702aaa542a4de6ac4babf052c71333",
       "rendered": true,
       "status": "Got results."
      }
     },
     "a91be8b0f9be430fb17b20f96a6afe39": {
      "model_module": "@jupyter-widgets/base",
      "model_module_version": "1.0.0",
      "model_name": "LayoutModel",
      "state": {}
     },
     "acbfaf0a880c48b8ace8b795eff602a7": {
      "model_module": "@jupyter-widgets/base",
      "model_module_version": "1.0.0",
      "model_name": "LayoutModel",
      "state": {}
     },
     "ae670a88cbf946c581002aa46115eec1": {
      "model_module": "jp_proxy_widget",
      "model_module_version": "^0.3.4",
      "model_name": "JSProxyModel",
      "state": {
       "_model_module_version": "^0.3.4",
       "_send_counter": 20,
       "_view_module_version": "^0.3.4",
       "error_msg": "No error",
       "layout": "IPY_MODEL_6de0af68369e45c3aae012d7787ec91f",
       "rendered": true,
       "status": "Got results."
      }
     },
     "b0e302c725b845bd9c70893b8f86fcaa": {
      "model_module": "@jupyter-widgets/base",
      "model_module_version": "1.0.0",
      "model_name": "LayoutModel",
      "state": {}
     },
     "b108b9193c62490fb9d3af78ad02d0cf": {
      "model_module": "@jupyter-widgets/base",
      "model_module_version": "1.0.0",
      "model_name": "LayoutModel",
      "state": {}
     },
     "b164d2f1e42e4ba68cc959d147af0869": {
      "model_module": "jp_proxy_widget",
      "model_module_version": "^0.3.4",
      "model_name": "JSProxyModel",
      "state": {
       "_model_module_version": "^0.3.4",
       "_send_counter": 9,
       "_view_module_version": "^0.3.4",
       "error_msg": "No error",
       "layout": "IPY_MODEL_8502a1e922b34be6a96f0b736743c62e",
       "rendered": true,
       "status": "Got results."
      }
     },
     "b17f7828945d472eb03445990b2f8ca2": {
      "model_module": "@jupyter-widgets/base",
      "model_module_version": "1.0.0",
      "model_name": "LayoutModel",
      "state": {}
     },
     "b1a537894d4b4912916a2ca159205005": {
      "model_module": "jp_proxy_widget",
      "model_module_version": "^0.3.4",
      "model_name": "JSProxyModel",
      "state": {
       "_model_module_version": "^0.3.4",
       "_send_counter": 22,
       "_view_module_version": "^0.3.4",
       "error_msg": "No error",
       "layout": "IPY_MODEL_d5738f5bc74444c79da2d8a419ce66f1",
       "rendered": true,
       "status": "Got results."
      }
     },
     "b1ffabf69ac34c27b064dee7eb426298": {
      "model_module": "jp_proxy_widget",
      "model_module_version": "^0.3.4",
      "model_name": "JSProxyModel",
      "state": {
       "_model_module_version": "^0.3.4",
       "_send_counter": 22,
       "_view_module_version": "^0.3.4",
       "error_msg": "No error",
       "layout": "IPY_MODEL_4be519ca26f8492e8558285cf55d165d",
       "rendered": true,
       "status": "Got results."
      }
     },
     "b35108b69d8649e4b79bcaf5cc4d15c4": {
      "model_module": "@jupyter-widgets/base",
      "model_module_version": "1.0.0",
      "model_name": "LayoutModel",
      "state": {}
     },
     "b3774199f7b04bebbdcd8e121ce2dd66": {
      "model_module": "jp_proxy_widget",
      "model_module_version": "^0.3.4",
      "model_name": "JSProxyModel",
      "state": {
       "_model_module_version": "^0.3.4",
       "_send_counter": 5,
       "_view_module_version": "^0.3.4",
       "error_msg": "No error",
       "layout": "IPY_MODEL_9806acf5b8ee47658e9075c16b377868",
       "rendered": true,
       "status": "Got results."
      }
     },
     "b59f549a132c46fcb0f743918bc8e389": {
      "model_module": "@jupyter-widgets/base",
      "model_module_version": "1.0.0",
      "model_name": "LayoutModel",
      "state": {}
     },
     "b6500a98c750470fb8abe9c7267720a5": {
      "model_module": "jp_proxy_widget",
      "model_module_version": "^0.3.4",
      "model_name": "JSProxyModel",
      "state": {
       "_model_module_version": "^0.3.4",
       "_send_counter": 22,
       "_view_module_version": "^0.3.4",
       "error_msg": "No error",
       "layout": "IPY_MODEL_2d78c8f307e54278981b89c03f0d257d",
       "rendered": true,
       "status": "Got results."
      }
     },
     "b73af8f1b5354212824c82f676ee9e28": {
      "model_module": "jp_proxy_widget",
      "model_module_version": "^0.3.4",
      "model_name": "JSProxyModel",
      "state": {
       "_model_module_version": "^0.3.4",
       "_send_counter": 22,
       "_view_module_version": "^0.3.4",
       "error_msg": "No error",
       "layout": "IPY_MODEL_4e8438e1832949f481b554b43a51014d",
       "rendered": true,
       "status": "Got results."
      }
     },
     "bb8595c36a2547afbb4f3d93725e3c5f": {
      "model_module": "@jupyter-widgets/base",
      "model_module_version": "1.0.0",
      "model_name": "LayoutModel",
      "state": {}
     },
     "be12c969d42c46619511c4a2e5c9088e": {
      "model_module": "jp_proxy_widget",
      "model_module_version": "^0.3.4",
      "model_name": "JSProxyModel",
      "state": {
       "_model_module_version": "^0.3.4",
       "_send_counter": 22,
       "_view_module_version": "^0.3.4",
       "error_msg": "No error",
       "layout": "IPY_MODEL_ef3426e42575407f98db996d3f28263e",
       "rendered": true,
       "status": "Got results."
      }
     },
     "be26c8376a3e441e83cd89a06a0da736": {
      "model_module": "@jupyter-widgets/base",
      "model_module_version": "1.0.0",
      "model_name": "LayoutModel",
      "state": {}
     },
     "be4246cbe10941518e637032d06fc66b": {
      "model_module": "@jupyter-widgets/base",
      "model_module_version": "1.0.0",
      "model_name": "LayoutModel",
      "state": {}
     },
     "c050f7f45796462f83ebc0d58ae5b944": {
      "model_module": "jp_proxy_widget",
      "model_module_version": "^0.3.4",
      "model_name": "JSProxyModel",
      "state": {
       "_model_module_version": "^0.3.4",
       "_send_counter": 7,
       "_view_module_version": "^0.3.4",
       "error_msg": "No error",
       "layout": "IPY_MODEL_28da21c43b864feb9de274799a8a47c7",
       "rendered": true,
       "status": "Got results."
      }
     },
     "c1b703b2747645bdb9beacd7eeaf5fa5": {
      "model_module": "@jupyter-widgets/base",
      "model_module_version": "1.0.0",
      "model_name": "LayoutModel",
      "state": {}
     },
     "c4b36effecc3474baa064277c17bf3f8": {
      "model_module": "@jupyter-widgets/base",
      "model_module_version": "1.0.0",
      "model_name": "LayoutModel",
      "state": {}
     },
     "c5155e8c541a4d8982777b99bf81055b": {
      "model_module": "jp_proxy_widget",
      "model_module_version": "^0.3.4",
      "model_name": "JSProxyModel",
      "state": {
       "_model_module_version": "^0.3.4",
       "_send_counter": 22,
       "_view_module_version": "^0.3.4",
       "error_msg": "No error",
       "layout": "IPY_MODEL_ff53a889e6084f66a2b6680a27e721ca",
       "rendered": true,
       "status": "Got results."
      }
     },
     "c6a915580e44478591d3efba8c716824": {
      "model_module": "jp_proxy_widget",
      "model_module_version": "^0.3.4",
      "model_name": "JSProxyModel",
      "state": {
       "_model_module_version": "^0.3.4",
       "_send_counter": 2,
       "_view_module_version": "^0.3.4",
       "error_msg": "No error",
       "layout": "IPY_MODEL_fdd68c7b0d9c4b23b1b12eafc8cfe470",
       "rendered": true,
       "status": "call back to <function callback_function at 0x10faec578>"
      }
     },
     "cb0d525dbed74b44b98f885b7f0437ee": {
      "model_module": "@jupyter-widgets/base",
      "model_module_version": "1.0.0",
      "model_name": "LayoutModel",
      "state": {}
     },
     "cce20b9faad0429fb85d79d32c32b24f": {
      "model_module": "jp_proxy_widget",
      "model_module_version": "^0.3.4",
      "model_name": "JSProxyModel",
      "state": {
       "_model_module_version": "^0.3.4",
       "_send_counter": 22,
       "_view_module_version": "^0.3.4",
       "error_msg": "No error",
       "layout": "IPY_MODEL_d41758cc9db34a8cbf1142bd48c57fbb",
       "rendered": true,
       "status": "Got results."
      }
     },
     "cd84586c53204cba9c5b6c86400aabb6": {
      "model_module": "@jupyter-widgets/base",
      "model_module_version": "1.0.0",
      "model_name": "LayoutModel",
      "state": {}
     },
     "ce447ca54e1f4a3e9825569c83bf3fda": {
      "model_module": "@jupyter-widgets/controls",
      "model_module_version": "1.0.0",
      "model_name": "DescriptionStyleModel",
      "state": {
       "description_width": ""
      }
     },
     "ce8cf8135b27491cad19c99f4bc7a9e5": {
      "model_module": "@jupyter-widgets/base",
      "model_module_version": "1.0.0",
      "model_name": "LayoutModel",
      "state": {}
     },
     "cee37046c87f40f28e3598233a555fda": {
      "model_module": "@jupyter-widgets/base",
      "model_module_version": "1.0.0",
      "model_name": "LayoutModel",
      "state": {}
     },
     "d13276bc84354eddb3b54bac34e00602": {
      "model_module": "jp_proxy_widget",
      "model_module_version": "^0.3.4",
      "model_name": "JSProxyModel",
      "state": {
       "_model_module_version": "^0.3.4",
       "_send_counter": 22,
       "_view_module_version": "^0.3.4",
       "error_msg": "No error",
       "layout": "IPY_MODEL_3711e8855b124ebca0a0491b39f011c2",
       "rendered": true,
       "status": "Got results."
      }
     },
     "d1ae5eb5246a4a159efb0f9db635eaa2": {
      "model_module": "@jupyter-widgets/base",
      "model_module_version": "1.0.0",
      "model_name": "LayoutModel",
      "state": {}
     },
     "d2f18076fe9044f790ad7cb99c74876b": {
      "model_module": "@jupyter-widgets/base",
      "model_module_version": "1.0.0",
      "model_name": "LayoutModel",
      "state": {}
     },
     "d40b62aaa0a4409782aafa947a82c787": {
      "model_module": "@jupyter-widgets/base",
      "model_module_version": "1.0.0",
      "model_name": "LayoutModel",
      "state": {}
     },
     "d41758cc9db34a8cbf1142bd48c57fbb": {
      "model_module": "@jupyter-widgets/base",
      "model_module_version": "1.0.0",
      "model_name": "LayoutModel",
      "state": {}
     },
     "d4ddfd5a1dd9445e867242fcae457c42": {
      "model_module": "jp_proxy_widget",
      "model_module_version": "^0.3.4",
      "model_name": "JSProxyModel",
      "state": {
       "_model_module_version": "^0.3.4",
       "_send_counter": 67,
       "_view_module_version": "^0.3.4",
       "error_msg": "In [object Object] no such method named_image",
       "layout": "IPY_MODEL_3c54bd967da44bb48b953116ddf441fd",
       "rendered": true,
       "status": "Got results."
      }
     },
     "d53bd52b66644dba82598722da33bcff": {
      "model_module": "jp_proxy_widget",
      "model_module_version": "^0.3.4",
      "model_name": "JSProxyModel",
      "state": {
       "_model_module_version": "^0.3.4",
       "_send_counter": 22,
       "_view_module_version": "^0.3.4",
       "error_msg": "No error",
       "layout": "IPY_MODEL_8957bf0cfe294989a71e1bb116726411",
       "rendered": true,
       "status": "Got results."
      }
     },
     "d5738f5bc74444c79da2d8a419ce66f1": {
      "model_module": "@jupyter-widgets/base",
      "model_module_version": "1.0.0",
      "model_name": "LayoutModel",
      "state": {}
     },
     "d62dc1a850524745b7b2d10e5e1c37a0": {
      "model_module": "jp_proxy_widget",
      "model_module_version": "^0.3.4",
      "model_name": "JSProxyModel",
      "state": {
       "_model_module_version": "^0.3.4",
       "_send_counter": 22,
       "_view_module_version": "^0.3.4",
       "error_msg": "No error",
       "layout": "IPY_MODEL_a91be8b0f9be430fb17b20f96a6afe39",
       "rendered": true,
       "status": "Got results."
      }
     },
     "d7a678a75a504dd99aebcbad9826d338": {
      "model_module": "jp_proxy_widget",
      "model_module_version": "^0.3.4",
      "model_name": "JSProxyModel",
      "state": {
       "_model_module_version": "^0.3.4",
       "_send_counter": 22,
       "_view_module_version": "^0.3.4",
       "error_msg": "No error",
       "layout": "IPY_MODEL_201d0b67cd374c3a981ee12f33445d09",
       "rendered": true,
       "status": "Got results."
      }
     },
     "daaf324ec2824b4595efc39c41941ca6": {
      "model_module": "jp_proxy_widget",
      "model_module_version": "^0.3.4",
      "model_name": "JSProxyModel",
      "state": {
       "_model_module_version": "^0.3.4",
       "_send_counter": 22,
       "_view_module_version": "^0.3.4",
       "error_msg": "No error",
       "layout": "IPY_MODEL_20cc0dbabb364504a9a7494d5e1c706e",
       "rendered": true,
       "status": "Got results."
      }
     },
     "db26eb7a372c47eb983885fc015e2d9e": {
      "model_module": "@jupyter-widgets/base",
      "model_module_version": "1.0.0",
      "model_name": "LayoutModel",
      "state": {}
     },
     "dc0d909145444d4dbed96538a99af606": {
      "model_module": "@jupyter-widgets/base",
      "model_module_version": "1.0.0",
      "model_name": "LayoutModel",
      "state": {}
     },
     "dd588f9de0bc4463aef64996c21420b9": {
      "model_module": "@jupyter-widgets/controls",
      "model_module_version": "1.0.0",
      "model_name": "HTMLModel",
      "state": {
       "layout": "IPY_MODEL_a5935d0143b84404afea2d540aac4d60",
       "style": "IPY_MODEL_55f64dea748e42c796eadd9c9a81f8b5",
       "value": "<img src=\"Frame.png\" id=\"snapshot_id_1_1536925161288\"/>\n <div id=\"snapshot_id_2_1536925161288\">Frame.png</div>"
      }
     },
     "decec5d2cd4a4413afe77274bfa7dcc7": {
      "model_module": "jp_proxy_widget",
      "model_module_version": "^0.3.4",
      "model_name": "JSProxyModel",
      "state": {
       "_model_module_version": "^0.3.4",
       "_send_counter": 22,
       "_view_module_version": "^0.3.4",
       "error_msg": "No error",
       "layout": "IPY_MODEL_a3a1ced6761a42dfbc1aaaca1bb4c379",
       "rendered": true,
       "status": "Got results."
      }
     },
     "dfe95fc171984bbababe399b94ae1700": {
      "model_module": "@jupyter-widgets/base",
      "model_module_version": "1.0.0",
      "model_name": "LayoutModel",
      "state": {}
     },
     "dff6578ab9714375829b4ab7a419f329": {
      "model_module": "jp_proxy_widget",
      "model_module_version": "^0.3.4",
      "model_name": "JSProxyModel",
      "state": {
       "_model_module_version": "^0.3.4",
       "_send_counter": 22,
       "_view_module_version": "^0.3.4",
       "error_msg": "No error",
       "layout": "IPY_MODEL_83e051b8023c4874b86394e957991fa3",
       "rendered": true,
       "status": "Got results."
      }
     },
     "e066a2ee51d34e58ba21df74e6fcc728": {
      "model_module": "jp_proxy_widget",
      "model_module_version": "^0.3.4",
      "model_name": "JSProxyModel",
      "state": {
       "_model_module_version": "^0.3.4",
       "_send_counter": 20,
       "_view_module_version": "^0.3.4",
       "error_msg": "No error",
       "layout": "IPY_MODEL_cb0d525dbed74b44b98f885b7f0437ee",
       "rendered": true,
       "status": "Got results."
      }
     },
     "e3dbfac9735c47ecb91f72416f194e90": {
      "model_module": "jp_proxy_widget",
      "model_module_version": "^0.3.4",
      "model_name": "JSProxyModel",
      "state": {
       "_model_module_version": "^0.3.4",
       "_send_counter": 22,
       "_view_module_version": "^0.3.4",
       "error_msg": "No error",
       "layout": "IPY_MODEL_813b9c1abefb484c8fd5f72ab5471196",
       "rendered": true,
       "status": "Got results."
      }
     },
     "e5146de270844b0bb9eb5b634830236c": {
      "model_module": "jp_proxy_widget",
      "model_module_version": "^0.3.4",
      "model_name": "JSProxyModel",
      "state": {
       "_model_module_version": "^0.3.4",
       "_send_counter": 22,
       "_view_module_version": "^0.3.4",
       "error_msg": "No error",
       "layout": "IPY_MODEL_be26c8376a3e441e83cd89a06a0da736",
       "rendered": true,
       "status": "Got results."
      }
     },
     "e54ce281ec5b48e7838f64f9cb025d2b": {
      "model_module": "jp_proxy_widget",
      "model_module_version": "^0.3.4",
      "model_name": "JSProxyModel",
      "state": {
       "_model_module_version": "^0.3.4",
       "_send_counter": 22,
       "_view_module_version": "^0.3.4",
       "error_msg": "No error",
       "layout": "IPY_MODEL_0cc7ceba449d4d199040ee8bd251fdd1",
       "rendered": true,
       "status": "Got results."
      }
     },
     "e81a3236ad4f4bdeb9c0b57a40285b87": {
      "model_module": "jp_proxy_widget",
      "model_module_version": "^0.3.4",
      "model_name": "JSProxyModel",
      "state": {
       "_model_module_version": "^0.3.4",
       "_send_counter": 4,
       "_view_module_version": "^0.3.4",
       "error_msg": "No error",
       "layout": "IPY_MODEL_0e767ea178aa4a8daebffbfcacc987eb",
       "rendered": true,
       "status": "Not yet rendered"
      }
     },
     "e81f255e68ac4bfbbbe27dae60eb12e3": {
      "model_module": "@jupyter-widgets/base",
      "model_module_version": "1.0.0",
      "model_name": "LayoutModel",
      "state": {}
     },
     "e88bbf9ff11b41c5a956d9f49b576fc7": {
      "model_module": "jp_proxy_widget",
      "model_module_version": "^0.3.4",
      "model_name": "JSProxyModel",
      "state": {
       "_model_module_version": "^0.3.4",
       "_send_counter": 15,
       "_view_module_version": "^0.3.4",
       "error_msg": "No error",
       "layout": "IPY_MODEL_6d816dc61b784ee187269797c543f5da",
       "rendered": true,
       "status": "Got results."
      }
     },
     "ed4d0a981ee24484af49f4caf09830c0": {
      "model_module": "jp_proxy_widget",
      "model_module_version": "^0.3.4",
      "model_name": "JSProxyModel",
      "state": {
       "_model_module_version": "^0.3.4",
       "_send_counter": 7,
       "_view_module_version": "^0.3.4",
       "error_msg": "No error",
       "layout": "IPY_MODEL_33eefa236e4147d09da619a0b2957928",
       "rendered": true,
       "status": "Got results."
      }
     },
     "ed5313e93be144cd95772d92abee5321": {
      "model_module": "jp_proxy_widget",
      "model_module_version": "^0.3.4",
      "model_name": "JSProxyModel",
      "state": {
       "_model_module_version": "^0.3.4",
       "_send_counter": 22,
       "_view_module_version": "^0.3.4",
       "error_msg": "No error",
       "layout": "IPY_MODEL_42f107a1c037400c86f43204c46622ac",
       "rendered": true,
       "status": "Got results."
      }
     },
     "ed60700043024c05b1e6ec1debbc056b": {
      "model_module": "@jupyter-widgets/base",
      "model_module_version": "1.0.0",
      "model_name": "LayoutModel",
      "state": {}
     },
     "ef3426e42575407f98db996d3f28263e": {
      "model_module": "@jupyter-widgets/base",
      "model_module_version": "1.0.0",
      "model_name": "LayoutModel",
      "state": {}
     },
     "f189e4aa7173439cbdcb1a8629eb125a": {
      "model_module": "jp_proxy_widget",
      "model_module_version": "^0.3.4",
      "model_name": "JSProxyModel",
      "state": {
       "_model_module_version": "^0.3.4",
       "_send_counter": 24,
       "_view_module_version": "^0.3.4",
       "error_msg": "No error",
       "layout": "IPY_MODEL_8732c27bfda44481a4e262bddf575213",
       "rendered": true,
       "status": "Got results."
      }
     },
     "f203a6a47950423b98c73858a2264a3b": {
      "model_module": "@jupyter-widgets/base",
      "model_module_version": "1.0.0",
      "model_name": "LayoutModel",
      "state": {}
     },
     "f6aa349c89d345da8aabcd5b502720f8": {
      "model_module": "jp_proxy_widget",
      "model_module_version": "^0.3.4",
      "model_name": "JSProxyModel",
      "state": {
       "_model_module_version": "^0.3.4",
       "_send_counter": 9,
       "_view_module_version": "^0.3.4",
       "error_msg": "No error",
       "layout": "IPY_MODEL_bb8595c36a2547afbb4f3d93725e3c5f",
       "rendered": true,
       "status": "Got results."
      }
     },
     "f6eeb412621541d58ecfd9db935e75af": {
      "model_module": "jp_proxy_widget",
      "model_module_version": "^0.3.4",
      "model_name": "JSProxyModel",
      "state": {
       "_model_module_version": "^0.3.4",
       "_send_counter": 22,
       "_view_module_version": "^0.3.4",
       "error_msg": "No error",
       "layout": "IPY_MODEL_dfe95fc171984bbababe399b94ae1700",
       "rendered": true,
       "status": "Got results."
      }
     },
     "f867e1f0b8664cafb8e7594c9e96a392": {
      "model_module": "jp_proxy_widget",
      "model_module_version": "^0.3.4",
      "model_name": "JSProxyModel",
      "state": {
       "_model_module_version": "^0.3.4",
       "_send_counter": 22,
       "_view_module_version": "^0.3.4",
       "error_msg": "No error",
       "layout": "IPY_MODEL_c1b703b2747645bdb9beacd7eeaf5fa5",
       "rendered": true,
       "status": "Got results."
      }
     },
     "fbbdd234483a4930883c3115e9014624": {
      "model_module": "@jupyter-widgets/base",
      "model_module_version": "1.0.0",
      "model_name": "LayoutModel",
      "state": {}
     },
     "fcebc8aa4a3a499ba361fecfd3fceccf": {
      "model_module": "jp_proxy_widget",
      "model_module_version": "^0.3.4",
      "model_name": "JSProxyModel",
      "state": {
       "_model_module_version": "^0.3.4",
       "_send_counter": 22,
       "_view_module_version": "^0.3.4",
       "error_msg": "No error",
       "layout": "IPY_MODEL_1e3a3d09a06f4504a365f75caf7814a4",
       "rendered": true,
       "status": "Got results."
      }
     },
     "fd9079b977274a6ea28c99a7181ba622": {
      "model_module": "jp_proxy_widget",
      "model_module_version": "^0.3.4",
      "model_name": "JSProxyModel",
      "state": {
       "_model_module_version": "^0.3.4",
       "_send_counter": 17,
       "_view_module_version": "^0.3.4",
       "error_msg": "No error",
       "layout": "IPY_MODEL_c4b36effecc3474baa064277c17bf3f8",
       "rendered": true,
       "status": "Got results."
      }
     },
     "fdd68c7b0d9c4b23b1b12eafc8cfe470": {
      "model_module": "@jupyter-widgets/base",
      "model_module_version": "1.0.0",
      "model_name": "LayoutModel",
      "state": {}
     },
     "ff0907e48df94bbd880967f935da420e": {
      "model_module": "jp_proxy_widget",
      "model_module_version": "^0.3.4",
      "model_name": "JSProxyModel",
      "state": {
       "_model_module_version": "^0.3.4",
       "_send_counter": 22,
       "_view_module_version": "^0.3.4",
       "error_msg": "No error",
       "layout": "IPY_MODEL_31c4e547c4864453b1b2eac430be8a0e",
       "rendered": true,
       "status": "Got results."
      }
     },
     "ff5220f51c1c4fa7a937b9a5d4b7103f": {
      "model_module": "@jupyter-widgets/base",
      "model_module_version": "1.0.0",
      "model_name": "LayoutModel",
      "state": {}
     },
     "ff53a889e6084f66a2b6680a27e721ca": {
      "model_module": "@jupyter-widgets/base",
      "model_module_version": "1.0.0",
      "model_name": "LayoutModel",
      "state": {}
     }
    },
    "version_major": 2,
    "version_minor": 0
   }
  }
 },
 "nbformat": 4,
 "nbformat_minor": 2
}
