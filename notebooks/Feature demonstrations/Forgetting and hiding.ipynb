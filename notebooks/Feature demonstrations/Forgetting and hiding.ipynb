{
 "cells": [
  {
   "cell_type": "markdown",
   "metadata": {
    "deletable": true,
    "editable": true
   },
   "source": [
    "# Forgetting objects and hiding objects\n",
    "\n",
    "The `forget_objects` method removes named objects from a figure.\n",
    "Hiding a named object (by setting its `hide` attribute to true)\n",
    "makes an object invisible and prevents the object from\n",
    "responding to events, but the object still exists in the canvas data\n",
    "structures.  A hidden object may be unhidden by setting its `hide`\n",
    "attribute false.\n",
    "\n",
    "The only way to remove unnamed objects from a canvas is to reset the canvas\n",
    "and redraw any elements you want to keep.\n",
    "\n",
    "Drawing an object using a name that is in use has the effect of replacing\n",
    "the old named object with the new named object."
   ]
  },
  {
   "cell_type": "code",
   "execution_count": null,
   "metadata": {
    "collapsed": true,
    "deletable": true,
    "editable": true
   },
   "outputs": [],
   "source": [
    "from jp_doodle import dual_canvas\n",
    "from IPython.display import display"
   ]
  },
  {
   "cell_type": "code",
   "execution_count": null,
   "metadata": {
    "collapsed": false,
    "deletable": true,
    "editable": true
   },
   "outputs": [],
   "source": [
    "# In this demonstration we do most of the work in Javascript.\n",
    "\n",
    "demo = dual_canvas.DualCanvasWidget(width=320, height=220)\n",
    "display(demo)\n",
    "\n",
    "demo.js_init(\"\"\"\n",
    "\n",
    "var draw_elements = function () {\n",
    "    // make some named elements\n",
    "    element.rect({name: \"rectangle\", x: 20, y: 20, w: 30, h:50, color: \"blue\"});\n",
    "    element.circle({name: \"circle\", x:-100, y:-40, r: 30, color: \"red\"})\n",
    "    // add some unnamed elements\n",
    "    element.lower_left_axes({min_x: -130, max_x: 50, min_y: -40, max_y: 20, max_tick_count:4});\n",
    "    element.fit()\n",
    "};\n",
    "draw_elements();\n",
    "\n",
    "var forget_circle = function () {\n",
    "    element.forget_objects([\"circle\"]);\n",
    "};\n",
    "\n",
    "var hide_rectangle = function () {\n",
    "    element.change_element(\"rectangle\", {hide: true});\n",
    "};\n",
    "var show_rectangle = function () {\n",
    "    element.change_element(\"rectangle\", {hide: false});\n",
    "};\n",
    "\n",
    "var clear_canvas = function () {\n",
    "    element.reset_canvas();\n",
    "};\n",
    "\n",
    "$(\"<button>draw elements</button>\").appendTo(element).click(draw_elements);\n",
    "$(\"<button>forget circle</button>\").appendTo(element).click(forget_circle);\n",
    "$(\"<button>hide rectangle</button>\").appendTo(element).click(hide_rectangle);\n",
    "$(\"<button>show rectangle</button>\").appendTo(element).click(show_rectangle);\n",
    "$(\"<button>reset canvas</button>\").appendTo(element).click(clear_canvas);\n",
    "\n",
    "\"\"\")"
   ]
  },
  {
   "cell_type": "code",
   "execution_count": null,
   "metadata": {
    "collapsed": true,
    "deletable": true,
    "editable": true
   },
   "outputs": [],
   "source": []
  }
 ],
 "metadata": {
  "kernelspec": {
   "display_name": "Python 2",
   "language": "python",
   "name": "python2"
  },
  "language_info": {
   "codemirror_mode": {
    "name": "ipython",
    "version": 2
   },
   "file_extension": ".py",
   "mimetype": "text/x-python",
   "name": "python",
   "nbconvert_exporter": "python",
   "pygments_lexer": "ipython2",
   "version": "2.7.13"
  }
 },
 "nbformat": 4,
 "nbformat_minor": 2
}
