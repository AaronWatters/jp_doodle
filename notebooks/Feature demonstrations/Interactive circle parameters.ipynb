{
 "cells": [
  {
   "cell_type": "markdown",
   "metadata": {
    "deletable": true,
    "editable": true
   },
   "source": [
    "# Interactive circle\n",
    "\n",
    "The following interactive widget is intended to allow the developer to explore\n",
    "circles drawn with different parameter settings.\n"
   ]
  },
  {
   "cell_type": "code",
   "execution_count": 1,
   "metadata": {
    "collapsed": true,
    "deletable": true,
    "editable": true
   },
   "outputs": [],
   "source": [
    "# preliminaries\n",
    "from ipywidgets import interact, interactive, fixed, interact_manual\n",
    "import ipywidgets as widgets\n",
    "from jp_doodle import dual_canvas\n",
    "from IPython.display import display\n",
    "import math\n",
    "pi2 = 2 * math.pi + 0.1  # a bit bigger than 2 pi for rounding.\n",
    "\n",
    "def rgba(*rgba_sequence):\n",
    "    rgba_strings = [str(int(x)) for x in rgba_sequence]\n",
    "    rgba_strings[-1] = str(rgba_sequence[-1])\n",
    "    return \"rgba(%s)\" % \",\".join(rgba_strings)"
   ]
  },
  {
   "cell_type": "code",
   "execution_count": 2,
   "metadata": {
    "collapsed": false,
    "deletable": true,
    "editable": true
   },
   "outputs": [
    {
     "data": {
      "application/vnd.jupyter.widget-view+json": {
       "model_id": "b43710131fd348ecaa897d156f6ec519",
       "version_major": 2,
       "version_minor": 0
      },
      "text/html": [
       "<p>Failed to display Jupyter Widget of type <code>Tab</code>.</p>\n",
       "<p>\n",
       "  If you're reading this message in Jupyter Notebook or JupyterLab, it may mean\n",
       "  that the widgets JavaScript is still loading. If this message persists, it\n",
       "  likely means that the widgets JavaScript library is either not installed or\n",
       "  not enabled. See the <a href=\"https://ipywidgets.readthedocs.io/en/stable/user_install.html\">Jupyter\n",
       "  Widgets Documentation</a> for setup instructions.\n",
       "</p>\n",
       "<p>\n",
       "  If you're reading this message in another notebook frontend (for example, a static\n",
       "  rendering on GitHub or <a href=\"https://nbviewer.jupyter.org/\">NBViewer</a>),\n",
       "  it may mean that your frontend doesn't currently support widgets.\n",
       "</p>\n"
      ],
      "text/plain": [
       "Tab(children=(VBox(children=(SnapshotCanvas(status=u'Not yet rendered'), JSProxyWidget(status=u'Not yet rendered'))), HTML(value=u'<img src=\"interactive_circle.png\" id=\"snapshot_id_1_1536334591203\"/>\\n <div id=\"snapshot_id_2_1536334591203\">interactive_circle.png</div>')), _titles={u'1': 'Snapshot', u'0': 'Canvas'})"
      ]
     },
     "metadata": {},
     "output_type": "display_data"
    },
    {
     "data": {
      "application/vnd.jupyter.widget-view+json": {
       "model_id": "2f41d702144a4c0da92c0fd466cc9e51",
       "version_major": 2,
       "version_minor": 0
      },
      "text/html": [
       "<p>Failed to display Jupyter Widget of type <code>interactive</code>.</p>\n",
       "<p>\n",
       "  If you're reading this message in Jupyter Notebook or JupyterLab, it may mean\n",
       "  that the widgets JavaScript is still loading. If this message persists, it\n",
       "  likely means that the widgets JavaScript library is either not installed or\n",
       "  not enabled. See the <a href=\"https://ipywidgets.readthedocs.io/en/stable/user_install.html\">Jupyter\n",
       "  Widgets Documentation</a> for setup instructions.\n",
       "</p>\n",
       "<p>\n",
       "  If you're reading this message in another notebook frontend (for example, a static\n",
       "  rendering on GitHub or <a href=\"https://nbviewer.jupyter.org/\">NBViewer</a>),\n",
       "  it may mean that your frontend doesn't currently support widgets.\n",
       "</p>\n"
      ],
      "text/plain": [
       "interactive(children=(IntSlider(value=0, description=u'x', min=-100), IntSlider(value=0, description=u'y', min=-100), IntSlider(value=50, description=u'r'), FloatSlider(value=0.0, description=u'start', max=6.383185307179586), FloatSlider(value=6.283185307179586, description=u'arc', max=6.383185307179586), Checkbox(value=True, description=u'fill'), IntSlider(value=3, description=u'lineWidth', max=20), IntSlider(value=255, description=u'red', max=255), IntSlider(value=0, description=u'green', max=255), IntSlider(value=255, description=u'blue', max=255), FloatSlider(value=1.0, description=u'alpha', max=1.0), Output()), _dom_classes=('widget-interact',))"
      ]
     },
     "metadata": {},
     "output_type": "display_data"
    }
   ],
   "source": [
    "# Display a canvas with a circle which can be adjusted interactively\n",
    "\n",
    "# Below we configure the canvas using the Python interface.\n",
    "# This method is terser than using Javascript, but the redraw operations create a jerky effect\n",
    "# because the canvas displays intermediate states due to roundtrip messages\n",
    "# between the Python kernal and the Javascript interpreter.\n",
    "\n",
    "circle_canvas = dual_canvas.SnapshotCanvas(\"interactive_circle.png\", width=320, height=220)\n",
    "circle_canvas.display_all()\n",
    "\n",
    "def change_circle(x, y, r,\n",
    "                  start = 0.0, arc=math.pi * 2,\n",
    "                  fill=True, lineWidth=3,\n",
    "                  red=255, green=0, blue=255, alpha=1.0):\n",
    "    color = rgba(red, green, blue, alpha)\n",
    "    canvas = circle_canvas\n",
    "    canvas.reset_canvas()\n",
    "    canvas.circle(x=x, y=y, r=r, color=color,\n",
    "                 start=start, arc=arc,\n",
    "                 fill=fill, lineWidth=lineWidth)\n",
    "    canvas.fit()\n",
    "    canvas.lower_left_axes(\n",
    "        max_tick_count=4\n",
    "    )\n",
    "    canvas.fit(None, 30)\n",
    "\n",
    "w = interactive(\n",
    "    change_circle, \n",
    "    x=(-100, 100), \n",
    "    y=(-100,100), \n",
    "    r=(0,100),\n",
    "    fill=True,\n",
    "    lineWidth=(0,20),\n",
    "    start=(0.0, pi2),\n",
    "    arc=(0.0, pi2),\n",
    "    red=(0,255),\n",
    "    green=(0,255),\n",
    "    blue=(0,255),\n",
    "    alpha=(0.0,1.0,0.1)\n",
    ")\n",
    "display(w)"
   ]
  },
  {
   "cell_type": "code",
   "execution_count": 3,
   "metadata": {
    "collapsed": false,
    "deletable": true,
    "editable": true
   },
   "outputs": [
    {
     "data": {
      "application/vnd.jupyter.widget-view+json": {
       "model_id": "e0cc323533f545f181312ee1124d1653",
       "version_major": 2,
       "version_minor": 0
      },
      "text/html": [
       "<p>Failed to display Jupyter Widget of type <code>Tab</code>.</p>\n",
       "<p>\n",
       "  If you're reading this message in Jupyter Notebook or JupyterLab, it may mean\n",
       "  that the widgets JavaScript is still loading. If this message persists, it\n",
       "  likely means that the widgets JavaScript library is either not installed or\n",
       "  not enabled. See the <a href=\"https://ipywidgets.readthedocs.io/en/stable/user_install.html\">Jupyter\n",
       "  Widgets Documentation</a> for setup instructions.\n",
       "</p>\n",
       "<p>\n",
       "  If you're reading this message in another notebook frontend (for example, a static\n",
       "  rendering on GitHub or <a href=\"https://nbviewer.jupyter.org/\">NBViewer</a>),\n",
       "  it may mean that your frontend doesn't currently support widgets.\n",
       "</p>\n"
      ],
      "text/plain": [
       "Tab(children=(VBox(children=(SnapshotCanvas(status=u'Not yet rendered'), JSProxyWidget(status=u'Not yet rendered'))), HTML(value=u'<img src=\"interactive_circle2.png\" id=\"snapshot_id_3_1536334593297\"/>\\n <div id=\"snapshot_id_4_1536334593297\">interactive_circle2.png</div>')), _titles={u'1': 'Snapshot', u'0': 'Canvas'})"
      ]
     },
     "metadata": {},
     "output_type": "display_data"
    },
    {
     "data": {
      "application/vnd.jupyter.widget-view+json": {
       "model_id": "7a69371e4335444ab40586fe53aee2fa",
       "version_major": 2,
       "version_minor": 0
      },
      "text/html": [
       "<p>Failed to display Jupyter Widget of type <code>interactive</code>.</p>\n",
       "<p>\n",
       "  If you're reading this message in Jupyter Notebook or JupyterLab, it may mean\n",
       "  that the widgets JavaScript is still loading. If this message persists, it\n",
       "  likely means that the widgets JavaScript library is either not installed or\n",
       "  not enabled. See the <a href=\"https://ipywidgets.readthedocs.io/en/stable/user_install.html\">Jupyter\n",
       "  Widgets Documentation</a> for setup instructions.\n",
       "</p>\n",
       "<p>\n",
       "  If you're reading this message in another notebook frontend (for example, a static\n",
       "  rendering on GitHub or <a href=\"https://nbviewer.jupyter.org/\">NBViewer</a>),\n",
       "  it may mean that your frontend doesn't currently support widgets.\n",
       "</p>\n"
      ],
      "text/plain": [
       "interactive(children=(IntSlider(value=0, description=u'x', min=-100), IntSlider(value=0, description=u'y', min=-100), IntSlider(value=50, description=u'r'), FloatSlider(value=0.0, description=u'start', max=6.383185307179586), FloatSlider(value=6.283185307179586, description=u'arc', max=6.383185307179586), Checkbox(value=True, description=u'fill'), IntSlider(value=3, description=u'lineWidth', max=20), IntSlider(value=255, description=u'red', max=255), IntSlider(value=0, description=u'green', max=255), IntSlider(value=255, description=u'blue', max=255), FloatSlider(value=1.0, description=u'alpha', max=1.0), Output()), _dom_classes=('widget-interact',))"
      ]
     },
     "metadata": {},
     "output_type": "display_data"
    }
   ],
   "source": [
    "# Display a canvas with a circle which can be adjusted interactively\n",
    "\n",
    "# Using the Javascript interface: \n",
    "# This approach requires more typing because Python values must \n",
    "# be explicitly mapped to Javascript variables.\n",
    "# However the canvas configuration is smooth because no intermediate\n",
    "# results are shown.\n",
    "\n",
    "circle_canvas2 = dual_canvas.SnapshotCanvas(\"interactive_circle2.png\", width=320, height=220)\n",
    "circle_canvas2.display_all()\n",
    "\n",
    "def change_circle_js(x, y, r,\n",
    "                  start = 0.0, arc=math.pi * 2,\n",
    "                  fill=True, lineWidth=3,\n",
    "                  red=255, green=0, blue=255, alpha=1.0):\n",
    "    color = rgba(red, green, blue, alpha)\n",
    "    canvas = circle_canvas2\n",
    "    canvas.js_init(\"\"\"\n",
    "        element.reset_canvas();\n",
    "        element.circle({x:x, y:y, r:r, start:start, arc:arc, color:color,\n",
    "            fill:fill, lineWidth:lineWidth});\n",
    "        element.fit();\n",
    "        element.lower_left_axes({max_tick_count: 4});\n",
    "        element.fit(null, 30);\n",
    "    \"\"\",\n",
    "                 x=x, y=y, r=r, color=color,\n",
    "                 start=start, arc=arc,\n",
    "                 fill=fill, lineWidth=lineWidth)\n",
    "\n",
    "w = interactive(\n",
    "    change_circle_js, \n",
    "    x=(-100, 100), \n",
    "    y=(-100,100), \n",
    "    r=(0,100),\n",
    "    fill=True,\n",
    "    lineWidth=(0,20),\n",
    "    start=(0.0, pi2),\n",
    "    arc=(0.0, pi2),\n",
    "    red=(0,255),\n",
    "    green=(0,255),\n",
    "    blue=(0,255),\n",
    "    alpha=(0.0,1.0,0.1)\n",
    ")\n",
    "display(w)"
   ]
  },
  {
   "cell_type": "code",
   "execution_count": null,
   "metadata": {
    "collapsed": true,
    "deletable": true,
    "editable": true
   },
   "outputs": [],
   "source": []
  },
  {
   "cell_type": "code",
   "execution_count": null,
   "metadata": {
    "collapsed": true
   },
   "outputs": [],
   "source": []
  }
 ],
 "metadata": {
  "kernelspec": {
   "display_name": "Python 2",
   "language": "python",
   "name": "python2"
  },
  "language_info": {
   "codemirror_mode": {
    "name": "ipython",
    "version": 2
   },
   "file_extension": ".py",
   "mimetype": "text/x-python",
   "name": "python",
   "nbconvert_exporter": "python",
   "pygments_lexer": "ipython2",
   "version": "2.7.13"
  },
  "widgets": {
   "application/vnd.jupyter.widget-state+json": {
    "state": {
     "0094cf76d10c4797877c2acdb1b9b395": {
      "model_module": "@jupyter-widgets/controls",
      "model_module_version": "1.0.0",
      "model_name": "SliderStyleModel",
      "state": {
       "description_width": ""
      }
     },
     "009faa4d2649492c9b4d0bd213c9baed": {
      "model_module": "@jupyter-widgets/controls",
      "model_module_version": "1.0.0",
      "model_name": "SliderStyleModel",
      "state": {
       "description_width": ""
      }
     },
     "00cdca98bd6d4b90929842bdca03c560": {
      "model_module": "@jupyter-widgets/base",
      "model_module_version": "1.0.0",
      "model_name": "LayoutModel",
      "state": {}
     },
     "00d911d80b80400aaefb5507ef1f97fd": {
      "model_module": "@jupyter-widgets/base",
      "model_module_version": "1.0.0",
      "model_name": "LayoutModel",
      "state": {}
     },
     "01635c761dc347cc8e40ffd3d802a919": {
      "model_module": "@jupyter-widgets/controls",
      "model_module_version": "1.0.0",
      "model_name": "SliderStyleModel",
      "state": {
       "description_width": ""
      }
     },
     "027486edd7e64a2284c146b7ea5826ca": {
      "model_module": "@jupyter-widgets/base",
      "model_module_version": "1.0.0",
      "model_name": "LayoutModel",
      "state": {}
     },
     "03e8424e15314392b53bb2b58cd42fd4": {
      "model_module": "@jupyter-widgets/base",
      "model_module_version": "1.0.0",
      "model_name": "LayoutModel",
      "state": {}
     },
     "04677a21e0b2442390fd49f6e9526c8b": {
      "model_module": "@jupyter-widgets/controls",
      "model_module_version": "1.0.0",
      "model_name": "FloatSliderModel",
      "state": {
       "description": "arc",
       "layout": "IPY_MODEL_f51c752ce63c4542bac603c4338756b4",
       "max": 6.383185307179586,
       "step": 0.1,
       "style": "IPY_MODEL_3b298347d5164b729809133f282a4913",
       "value": 6.283185307179586
      }
     },
     "0471fb02c3b1445cb643143b3131ff0e": {
      "model_module": "@jupyter-widgets/base",
      "model_module_version": "1.0.0",
      "model_name": "LayoutModel",
      "state": {}
     },
     "04750ce289014b89a2abc7b2941ff541": {
      "model_module": "@jupyter-widgets/controls",
      "model_module_version": "1.0.0",
      "model_name": "SliderStyleModel",
      "state": {
       "description_width": ""
      }
     },
     "0508f8868207466388be8b8299a28843": {
      "model_module": "@jupyter-widgets/controls",
      "model_module_version": "1.0.0",
      "model_name": "SliderStyleModel",
      "state": {
       "description_width": ""
      }
     },
     "053eeb61df224b709839b44ad5e51b19": {
      "model_module": "@jupyter-widgets/base",
      "model_module_version": "1.0.0",
      "model_name": "LayoutModel",
      "state": {}
     },
     "0549ad3832a14c5eae86228413ea42ae": {
      "model_module": "@jupyter-widgets/base",
      "model_module_version": "1.0.0",
      "model_name": "LayoutModel",
      "state": {}
     },
     "06244012558b45759158f59041a9bd3c": {
      "model_module": "@jupyter-widgets/base",
      "model_module_version": "1.0.0",
      "model_name": "LayoutModel",
      "state": {}
     },
     "0626be14a03e46c183c08afcd0ec95e4": {
      "model_module": "@jupyter-widgets/base",
      "model_module_version": "1.0.0",
      "model_name": "LayoutModel",
      "state": {}
     },
     "0641ffaf24394f268c2c18cdf7b810bb": {
      "model_module": "@jupyter-widgets/controls",
      "model_module_version": "1.0.0",
      "model_name": "VBoxModel",
      "state": {
       "children": [
        "IPY_MODEL_92703755d8f74aae89b7f06ada3f6496",
        "IPY_MODEL_90e132ec873b4c72aa2ff7b7dd04cc0f"
       ],
       "layout": "IPY_MODEL_7facc299cfc34269b8bc09ecf238e4a6"
      }
     },
     "068449d6e84d47ba93bee86a28fc050c": {
      "model_module": "@jupyter-widgets/controls",
      "model_module_version": "1.0.0",
      "model_name": "HTMLModel",
      "state": {
       "layout": "IPY_MODEL_3d5058bc2e3b4e539cc00452ef824c4d",
       "style": "IPY_MODEL_5a37f347672e48bd8f2a78eaaaf41828",
       "value": "<img src=\"interactive_circle.png\" id=\"snapshot_id_11_1536246416146\"/>\n <div id=\"snapshot_id_12_1536246416146\">interactive_circle.png</div>"
      }
     },
     "0711718a6c504992a69b52793ab8fae7": {
      "model_module": "@jupyter-widgets/base",
      "model_module_version": "1.0.0",
      "model_name": "LayoutModel",
      "state": {}
     },
     "072eb40a142c4b4baa780c08f838c4ec": {
      "model_module": "@jupyter-widgets/base",
      "model_module_version": "1.0.0",
      "model_name": "LayoutModel",
      "state": {}
     },
     "0734ac469e3443feae42710aaa7e02fd": {
      "model_module": "@jupyter-widgets/base",
      "model_module_version": "1.0.0",
      "model_name": "LayoutModel",
      "state": {}
     },
     "076401acc0ed4270ba5ddb059105b700": {
      "model_module": "@jupyter-widgets/controls",
      "model_module_version": "1.0.0",
      "model_name": "SliderStyleModel",
      "state": {
       "description_width": ""
      }
     },
     "07cea71eb023485c9026b8bfedc33150": {
      "model_module": "@jupyter-widgets/controls",
      "model_module_version": "1.0.0",
      "model_name": "FloatSliderModel",
      "state": {
       "description": "arc",
       "layout": "IPY_MODEL_093c6e42adc542c29d6a71c9603225f8",
       "max": 6.383185307179586,
       "step": 0.1,
       "style": "IPY_MODEL_76dc543a17bd4d49a495b03b1bfa7ef8",
       "value": 6.3
      }
     },
     "082153a5250c4617b76aef431476d507": {
      "model_module": "@jupyter-widgets/controls",
      "model_module_version": "1.0.0",
      "model_name": "SliderStyleModel",
      "state": {
       "description_width": ""
      }
     },
     "088825cd23434719842e80f1370e9dad": {
      "model_module": "@jupyter-widgets/controls",
      "model_module_version": "1.0.0",
      "model_name": "TabModel",
      "state": {
       "_titles": {
        "0": "Canvas",
        "1": "Snapshot"
       },
       "children": [
        "IPY_MODEL_753b63c2122c4b64950abbbe0956daf3",
        "IPY_MODEL_aeef2d01cfaf49939ea4f81be4dc10fa"
       ],
       "layout": "IPY_MODEL_7b166f5e9d214bc3a7a8d21bcfde82de"
      }
     },
     "08d6ef584754424bb9a274086ea50c18": {
      "model_module": "@jupyter-widgets/controls",
      "model_module_version": "1.0.0",
      "model_name": "IntSliderModel",
      "state": {
       "description": "green",
       "layout": "IPY_MODEL_ba712410e6124d549f253b83a2386265",
       "max": 255,
       "style": "IPY_MODEL_1bdf6f48ccb644ba98c666e5630ef289",
       "value": 218
      }
     },
     "08f10721a5294105b92790e7e3ae2341": {
      "model_module": "@jupyter-widgets/base",
      "model_module_version": "1.0.0",
      "model_name": "LayoutModel",
      "state": {}
     },
     "093c6e42adc542c29d6a71c9603225f8": {
      "model_module": "@jupyter-widgets/base",
      "model_module_version": "1.0.0",
      "model_name": "LayoutModel",
      "state": {}
     },
     "09f9e84dc0b24f3395212e5afb68a236": {
      "model_module": "@jupyter-widgets/controls",
      "model_module_version": "1.0.0",
      "model_name": "SliderStyleModel",
      "state": {
       "description_width": ""
      }
     },
     "0a0bfbafe787495bab6bda6af80167e2": {
      "model_module": "@jupyter-widgets/base",
      "model_module_version": "1.0.0",
      "model_name": "LayoutModel",
      "state": {}
     },
     "0a165a16730a411cafac642b0eafe0e5": {
      "model_module": "@jupyter-widgets/controls",
      "model_module_version": "1.0.0",
      "model_name": "DescriptionStyleModel",
      "state": {
       "description_width": ""
      }
     },
     "0a39ab45b1af48b9a7f735df24b7b659": {
      "model_module": "@jupyter-widgets/base",
      "model_module_version": "1.0.0",
      "model_name": "LayoutModel",
      "state": {}
     },
     "0b388eb410ea42eaa2148e23bdda099a": {
      "model_module": "@jupyter-widgets/controls",
      "model_module_version": "1.0.0",
      "model_name": "IntSliderModel",
      "state": {
       "description": "red",
       "layout": "IPY_MODEL_8fa2c43c81c54a54bf65d9e484693c73",
       "max": 255,
       "style": "IPY_MODEL_4df9c4d1831d4dceb9ba1589c520bbde",
       "value": 127
      }
     },
     "0bbd75a7181a4e08b0e29a79e02219bc": {
      "model_module": "@jupyter-widgets/controls",
      "model_module_version": "1.0.0",
      "model_name": "SliderStyleModel",
      "state": {
       "description_width": ""
      }
     },
     "0c1b85fa2d7744d9b92b6ce8964dbaeb": {
      "model_module": "@jupyter-widgets/base",
      "model_module_version": "1.0.0",
      "model_name": "LayoutModel",
      "state": {}
     },
     "0c5742a5584a443ca5cb066e4ec39e35": {
      "model_module": "@jupyter-widgets/controls",
      "model_module_version": "1.0.0",
      "model_name": "IntSliderModel",
      "state": {
       "description": "y",
       "layout": "IPY_MODEL_77c37a70d686438abda8ceb2dcf1a517",
       "min": -100,
       "style": "IPY_MODEL_082153a5250c4617b76aef431476d507"
      }
     },
     "0cb87f1e88684fcc8ceb6ea892cfec1b": {
      "model_module": "@jupyter-widgets/controls",
      "model_module_version": "1.0.0",
      "model_name": "SliderStyleModel",
      "state": {
       "description_width": ""
      }
     },
     "0d2431a2ebde4bcfb5b9da41c8bfbf4e": {
      "model_module": "@jupyter-widgets/controls",
      "model_module_version": "1.0.0",
      "model_name": "SliderStyleModel",
      "state": {
       "description_width": ""
      }
     },
     "0d65c9f8b8cd4c278877f04bb963daea": {
      "model_module": "@jupyter-widgets/controls",
      "model_module_version": "1.0.0",
      "model_name": "SliderStyleModel",
      "state": {
       "description_width": ""
      }
     },
     "0d6eae09978a488fa7f3c6f4bdd0099a": {
      "model_module": "@jupyter-widgets/controls",
      "model_module_version": "1.0.0",
      "model_name": "SliderStyleModel",
      "state": {
       "description_width": ""
      }
     },
     "0e03e61d7c234ed0b6c7b1b0d0e95cb9": {
      "model_module": "@jupyter-widgets/base",
      "model_module_version": "1.0.0",
      "model_name": "LayoutModel",
      "state": {}
     },
     "0e236c0abc8543678cde80a20f77d38a": {
      "model_module": "@jupyter-widgets/controls",
      "model_module_version": "1.0.0",
      "model_name": "SliderStyleModel",
      "state": {
       "description_width": ""
      }
     },
     "0e8c2fd6ecf64207855b47f5058b8346": {
      "model_module": "@jupyter-widgets/base",
      "model_module_version": "1.0.0",
      "model_name": "LayoutModel",
      "state": {}
     },
     "0eb2be7a42924abda08834e268871f33": {
      "model_module": "jp_proxy_widget",
      "model_module_version": "^0.3.4",
      "model_name": "JSProxyModel",
      "state": {
       "_model_module_version": "^0.3.4",
       "_send_counter": 2,
       "_view_module_version": "^0.3.4",
       "error_msg": "No error",
       "layout": "IPY_MODEL_7bbcb409e9284b17bf0993b8c1a7121f",
       "rendered": true,
       "status": "call back to <function callback_function at 0x103b63398>"
      }
     },
     "0eb2e51813de43a48111f85c8dbae638": {
      "model_module": "@jupyter-widgets/base",
      "model_module_version": "1.0.0",
      "model_name": "LayoutModel",
      "state": {}
     },
     "0f0b3e7c4792423d9ee9aa5f00f82f9e": {
      "model_module": "@jupyter-widgets/controls",
      "model_module_version": "1.0.0",
      "model_name": "IntSliderModel",
      "state": {
       "description": "x",
       "layout": "IPY_MODEL_d489cc2f4f5844a08f377f7dbbf5b611",
       "min": -100,
       "style": "IPY_MODEL_1664fb07bba348f582190d9fa1b70172"
      }
     },
     "0f51c34da49247b99b71ecdd5497bf39": {
      "model_module": "@jupyter-widgets/base",
      "model_module_version": "1.0.0",
      "model_name": "LayoutModel",
      "state": {}
     },
     "0fd823d818d745a59459b962e94bac3a": {
      "model_module": "@jupyter-widgets/base",
      "model_module_version": "1.0.0",
      "model_name": "LayoutModel",
      "state": {}
     },
     "0fe6f8f30ef94655830193d419e41e25": {
      "model_module": "@jupyter-widgets/controls",
      "model_module_version": "1.0.0",
      "model_name": "SliderStyleModel",
      "state": {
       "description_width": ""
      }
     },
     "0ffacdeea28a4d518cd9b36addba4e47": {
      "model_module": "@jupyter-widgets/controls",
      "model_module_version": "1.0.0",
      "model_name": "SliderStyleModel",
      "state": {
       "description_width": ""
      }
     },
     "1099c7ec884643e3a302c56a26a48516": {
      "model_module": "jp_proxy_widget",
      "model_module_version": "^0.3.4",
      "model_name": "JSProxyModel",
      "state": {
       "_model_module_version": "^0.3.4",
       "_send_counter": 2,
       "_view_module_version": "^0.3.4",
       "error_msg": "No error",
       "layout": "IPY_MODEL_97fd86653c0445ae813726681c636030",
       "rendered": true,
       "status": "Got results."
      }
     },
     "114e89592ecf463994b3d44e55a4f21b": {
      "model_module": "@jupyter-widgets/controls",
      "model_module_version": "1.0.0",
      "model_name": "TabModel",
      "state": {
       "_titles": {
        "0": "Canvas",
        "1": "Snapshot"
       },
       "children": [
        "IPY_MODEL_8f0e874f1bb54531bd295b3b7f0aaec8",
        "IPY_MODEL_98a2afdb76074604a1cafa8c16393664"
       ],
       "layout": "IPY_MODEL_9d64662664ed47d5b4fc274ae7bc739c"
      }
     },
     "11725c45809344a4abd493179511a0f6": {
      "model_module": "@jupyter-widgets/base",
      "model_module_version": "1.0.0",
      "model_name": "LayoutModel",
      "state": {}
     },
     "11c5f59ec26b4c4da592ae8e89b38d47": {
      "model_module": "@jupyter-widgets/base",
      "model_module_version": "1.0.0",
      "model_name": "LayoutModel",
      "state": {}
     },
     "11d8c75a31fc47a68db22ba03fe70172": {
      "model_module": "@jupyter-widgets/base",
      "model_module_version": "1.0.0",
      "model_name": "LayoutModel",
      "state": {}
     },
     "11effc9b4d684044bac4a61fa0eacaa7": {
      "model_module": "@jupyter-widgets/base",
      "model_module_version": "1.0.0",
      "model_name": "LayoutModel",
      "state": {}
     },
     "120d49b4e746400da20e028973a20fe7": {
      "model_module": "@jupyter-widgets/controls",
      "model_module_version": "1.0.0",
      "model_name": "HTMLModel",
      "state": {
       "layout": "IPY_MODEL_053eeb61df224b709839b44ad5e51b19",
       "style": "IPY_MODEL_2af5751967594d488226afc3e3138e0b",
       "value": "<img src=\"interactive_circle.png\" id=\"snapshot_id_15_1536246643964\"/>\n <div id=\"snapshot_id_16_1536246643964\">interactive_circle.png</div>"
      }
     },
     "120f53b2f22744898f2dcba332c72471": {
      "model_module": "@jupyter-widgets/controls",
      "model_module_version": "1.0.0",
      "model_name": "IntSliderModel",
      "state": {
       "description": "y",
       "layout": "IPY_MODEL_a4a10e91ee514e8d8df3c62120e8ad7e",
       "min": -100,
       "style": "IPY_MODEL_4e85ca2ee6ce4dd8b293e0b42f3b4f56"
      }
     },
     "125cdc713dbf45e28d6018c9d5dfb4c9": {
      "model_module": "@jupyter-widgets/controls",
      "model_module_version": "1.0.0",
      "model_name": "SliderStyleModel",
      "state": {
       "description_width": ""
      }
     },
     "12a3242046b34ff591c74db7bf236a5c": {
      "model_module": "@jupyter-widgets/controls",
      "model_module_version": "1.0.0",
      "model_name": "VBoxModel",
      "state": {
       "_dom_classes": [
        "widget-interact"
       ],
       "children": [
        "IPY_MODEL_98a813ba7dca45c2b8edf6b8e9546508",
        "IPY_MODEL_1d1954f8861b474aab082cc4ac7996a8",
        "IPY_MODEL_f9ad8d21513547de90ca9045004db9fa",
        "IPY_MODEL_7fdc6cc7737c4e5cbf198155c702e7f2",
        "IPY_MODEL_04677a21e0b2442390fd49f6e9526c8b",
        "IPY_MODEL_bfe986d974c84706b6a41a8165cc18a5",
        "IPY_MODEL_c6b1d45510234e3d8d35ac54244f371c",
        "IPY_MODEL_86c35f9699ae467b8db928ca74dba34a",
        "IPY_MODEL_8e4a56c8101c40f1a14e61aaacdb2c8f",
        "IPY_MODEL_230e70817e9547c5963daa5665fbdd22",
        "IPY_MODEL_1e73d9abf7ae450f8ff2a199d73bdc56",
        "IPY_MODEL_ad9ac3883d7a4a2cb5551d0094173280"
       ],
       "layout": "IPY_MODEL_a4f2033e14044ccbb37742b372673847"
      }
     },
     "1308b2fb398b4e878230528401d0ada8": {
      "model_module": "@jupyter-widgets/base",
      "model_module_version": "1.0.0",
      "model_name": "LayoutModel",
      "state": {}
     },
     "137c597f04934d4c9baf93a518bfb986": {
      "model_module": "@jupyter-widgets/base",
      "model_module_version": "1.0.0",
      "model_name": "LayoutModel",
      "state": {}
     },
     "141f0da05dd043878ada6d01aabde1de": {
      "model_module": "@jupyter-widgets/controls",
      "model_module_version": "1.0.0",
      "model_name": "DescriptionStyleModel",
      "state": {
       "description_width": ""
      }
     },
     "143b40abd0c74a17ad2101fc0641b2b3": {
      "model_module": "@jupyter-widgets/base",
      "model_module_version": "1.0.0",
      "model_name": "LayoutModel",
      "state": {}
     },
     "144badcb5fbd449981ed86172490c0c4": {
      "model_module": "@jupyter-widgets/controls",
      "model_module_version": "1.0.0",
      "model_name": "FloatSliderModel",
      "state": {
       "description": "arc",
       "layout": "IPY_MODEL_a0e6c29185ba4a178c97daab2a966d73",
       "max": 6.283185307179586,
       "step": 0.1,
       "style": "IPY_MODEL_ddd3393332a5443e94ae144936613414",
       "value": 4.5
      }
     },
     "146a607c903f469badb1bc31b9aba4c0": {
      "model_module": "@jupyter-widgets/controls",
      "model_module_version": "1.0.0",
      "model_name": "FloatSliderModel",
      "state": {
       "description": "alpha",
       "layout": "IPY_MODEL_8bd9c7f3f09a4c85b75550e67253e9d1",
       "max": 1,
       "step": 0.1,
       "style": "IPY_MODEL_bf61708c3c25461fa129665eb9f0b3ef",
       "value": 0.5
      }
     },
     "14b11e93c11e4d57a18430fb830bf4aa": {
      "model_module": "@jupyter-widgets/controls",
      "model_module_version": "1.0.0",
      "model_name": "SliderStyleModel",
      "state": {
       "description_width": ""
      }
     },
     "1508188053d547288e5eb3f6498d54ca": {
      "model_module": "@jupyter-widgets/base",
      "model_module_version": "1.0.0",
      "model_name": "LayoutModel",
      "state": {}
     },
     "15c5acfb2fc545db9e3d668e35c57711": {
      "model_module": "@jupyter-widgets/output",
      "model_module_version": "1.0.0",
      "model_name": "OutputModel",
      "state": {
       "layout": "IPY_MODEL_2dfed08de1b847b3922417ffe1713046",
       "outputs": [
        {
         "ename": "NameError",
         "evalue": "global name 'rgba_int_strings' is not defined",
         "output_type": "error",
         "traceback": [
          "\u001b[0;31m---------------------------------------------------------------------------\u001b[0m",
          "\u001b[0;31mNameError\u001b[0m                                 Traceback (most recent call last)",
          "\u001b[0;32m//anaconda/lib/python2.7/site-packages/ipywidgets/widgets/interaction.pyc\u001b[0m in \u001b[0;36mupdate\u001b[0;34m(self, *args)\u001b[0m\n\u001b[1;32m    248\u001b[0m                     \u001b[0mvalue\u001b[0m \u001b[0;34m=\u001b[0m \u001b[0mwidget\u001b[0m\u001b[0;34m.\u001b[0m\u001b[0mget_interact_value\u001b[0m\u001b[0;34m(\u001b[0m\u001b[0;34m)\u001b[0m\u001b[0;34m\u001b[0m\u001b[0m\n\u001b[1;32m    249\u001b[0m                     \u001b[0mself\u001b[0m\u001b[0;34m.\u001b[0m\u001b[0mkwargs\u001b[0m\u001b[0;34m[\u001b[0m\u001b[0mwidget\u001b[0m\u001b[0;34m.\u001b[0m\u001b[0m_kwarg\u001b[0m\u001b[0;34m]\u001b[0m \u001b[0;34m=\u001b[0m \u001b[0mvalue\u001b[0m\u001b[0;34m\u001b[0m\u001b[0m\n\u001b[0;32m--> 250\u001b[0;31m                 \u001b[0mself\u001b[0m\u001b[0;34m.\u001b[0m\u001b[0mresult\u001b[0m \u001b[0;34m=\u001b[0m \u001b[0mself\u001b[0m\u001b[0;34m.\u001b[0m\u001b[0mf\u001b[0m\u001b[0;34m(\u001b[0m\u001b[0;34m**\u001b[0m\u001b[0mself\u001b[0m\u001b[0;34m.\u001b[0m\u001b[0mkwargs\u001b[0m\u001b[0;34m)\u001b[0m\u001b[0;34m\u001b[0m\u001b[0m\n\u001b[0m\u001b[1;32m    251\u001b[0m                 \u001b[0mshow_inline_matplotlib_plots\u001b[0m\u001b[0;34m(\u001b[0m\u001b[0;34m)\u001b[0m\u001b[0;34m\u001b[0m\u001b[0m\n\u001b[1;32m    252\u001b[0m                 \u001b[0;32mif\u001b[0m \u001b[0mself\u001b[0m\u001b[0;34m.\u001b[0m\u001b[0mauto_display\u001b[0m \u001b[0;32mand\u001b[0m \u001b[0mself\u001b[0m\u001b[0;34m.\u001b[0m\u001b[0mresult\u001b[0m \u001b[0;32mis\u001b[0m \u001b[0;32mnot\u001b[0m \u001b[0mNone\u001b[0m\u001b[0;34m:\u001b[0m\u001b[0;34m\u001b[0m\u001b[0m\n",
          "\u001b[0;32m<ipython-input-9-6f8586e1d8bf>\u001b[0m in \u001b[0;36mchange_circle\u001b[0;34m(x, y, r, red, green, blue, alpha)\u001b[0m\n\u001b[1;32m      6\u001b[0m def change_circle(x, y, r, \n\u001b[1;32m      7\u001b[0m                   red, green, blue, alpha):\n\u001b[0;32m----> 8\u001b[0;31m     \u001b[0mcolor\u001b[0m \u001b[0;34m=\u001b[0m \u001b[0mrgba\u001b[0m\u001b[0;34m(\u001b[0m\u001b[0mred\u001b[0m\u001b[0;34m,\u001b[0m \u001b[0mgreen\u001b[0m\u001b[0;34m,\u001b[0m \u001b[0mblue\u001b[0m\u001b[0;34m,\u001b[0m \u001b[0malpha\u001b[0m\u001b[0;34m)\u001b[0m\u001b[0;34m\u001b[0m\u001b[0m\n\u001b[0m\u001b[1;32m      9\u001b[0m     \u001b[0;32mprint\u001b[0m\u001b[0;34m(\u001b[0m\u001b[0;34m\"color is \"\u001b[0m \u001b[0;34m+\u001b[0m \u001b[0mrepr\u001b[0m\u001b[0;34m(\u001b[0m\u001b[0mcolor\u001b[0m\u001b[0;34m)\u001b[0m\u001b[0;34m)\u001b[0m\u001b[0;34m\u001b[0m\u001b[0m\n\u001b[1;32m     10\u001b[0m     \u001b[0mcolor\u001b[0m \u001b[0;34m=\u001b[0m \u001b[0;34m\"pink\"\u001b[0m\u001b[0;34m\u001b[0m\u001b[0m\n",
          "\u001b[0;32m<ipython-input-8-ebc989cf59e1>\u001b[0m in \u001b[0;36mrgba\u001b[0;34m(*rgba_sequence)\u001b[0m\n\u001b[1;32m      8\u001b[0m     \u001b[0mrgba_strings\u001b[0m \u001b[0;34m=\u001b[0m \u001b[0;34m[\u001b[0m\u001b[0mstr\u001b[0m\u001b[0;34m(\u001b[0m\u001b[0mint\u001b[0m\u001b[0;34m(\u001b[0m\u001b[0mx\u001b[0m\u001b[0;34m)\u001b[0m\u001b[0;34m)\u001b[0m \u001b[0;32mfor\u001b[0m \u001b[0mx\u001b[0m \u001b[0;32min\u001b[0m \u001b[0mrgba_sequence\u001b[0m\u001b[0;34m]\u001b[0m\u001b[0;34m\u001b[0m\u001b[0m\n\u001b[1;32m      9\u001b[0m     \u001b[0mrgba_strings\u001b[0m\u001b[0;34m[\u001b[0m\u001b[0;34m-\u001b[0m\u001b[0;36m1\u001b[0m\u001b[0;34m]\u001b[0m \u001b[0;34m=\u001b[0m \u001b[0mstr\u001b[0m\u001b[0;34m(\u001b[0m\u001b[0mrgba_sequence\u001b[0m\u001b[0;34m[\u001b[0m\u001b[0;34m-\u001b[0m\u001b[0;36m1\u001b[0m\u001b[0;34m]\u001b[0m\u001b[0;34m)\u001b[0m\u001b[0;34m\u001b[0m\u001b[0m\n\u001b[0;32m---> 10\u001b[0;31m     \u001b[0;32mreturn\u001b[0m \u001b[0;34m\"rgba(%s)\"\u001b[0m \u001b[0;34m%\u001b[0m \u001b[0;34m\",\"\u001b[0m\u001b[0;34m.\u001b[0m\u001b[0mjoin\u001b[0m\u001b[0;34m(\u001b[0m\u001b[0mrgba_int_strings\u001b[0m\u001b[0;34m)\u001b[0m\u001b[0;34m\u001b[0m\u001b[0m\n\u001b[0m",
          "\u001b[0;31mNameError\u001b[0m: global name 'rgba_int_strings' is not defined"
         ]
        }
       ]
      }
     },
     "1619dfd7c5284ab09aef1ec4d1e3d037": {
      "model_module": "jp_proxy_widget",
      "model_module_version": "^0.3.4",
      "model_name": "JSProxyModel",
      "state": {
       "_model_module_version": "^0.3.4",
       "_send_counter": 6,
       "_view_module_version": "^0.3.4",
       "error_msg": "No error",
       "layout": "IPY_MODEL_bb92eb26da034c888ca5a8298c238284",
       "rendered": true,
       "status": "Got results."
      }
     },
     "1641e3194b4b4c77a75745fa12bb73b2": {
      "model_module": "@jupyter-widgets/base",
      "model_module_version": "1.0.0",
      "model_name": "LayoutModel",
      "state": {}
     },
     "1664fb07bba348f582190d9fa1b70172": {
      "model_module": "@jupyter-widgets/controls",
      "model_module_version": "1.0.0",
      "model_name": "SliderStyleModel",
      "state": {
       "description_width": ""
      }
     },
     "16892d5ba53447568a8748308e7bbad8": {
      "model_module": "@jupyter-widgets/controls",
      "model_module_version": "1.0.0",
      "model_name": "IntSliderModel",
      "state": {
       "description": "blue",
       "layout": "IPY_MODEL_2608ab08ec564208bfde0d40ef9448e3",
       "max": 255,
       "style": "IPY_MODEL_67cff949f35c4797b3898bc2af60804a",
       "value": 171
      }
     },
     "173596b0295e4d1b91a6befc2cf6282c": {
      "model_module": "@jupyter-widgets/base",
      "model_module_version": "1.0.0",
      "model_name": "LayoutModel",
      "state": {}
     },
     "173b705d6da346a1b794de681834d292": {
      "model_module": "@jupyter-widgets/output",
      "model_module_version": "1.0.0",
      "model_name": "OutputModel",
      "state": {
       "layout": "IPY_MODEL_8979199eeae046aaa0ae638c3094acfc"
      }
     },
     "176f9de84ad24bb08f6e993c71c10a9f": {
      "model_module": "@jupyter-widgets/base",
      "model_module_version": "1.0.0",
      "model_name": "LayoutModel",
      "state": {}
     },
     "178ffe95edb04dedaa954257a5a89f9c": {
      "model_module": "@jupyter-widgets/controls",
      "model_module_version": "1.0.0",
      "model_name": "SliderStyleModel",
      "state": {
       "description_width": ""
      }
     },
     "183b5a391e6e4b2cb51db0197fab2790": {
      "model_module": "@jupyter-widgets/base",
      "model_module_version": "1.0.0",
      "model_name": "LayoutModel",
      "state": {}
     },
     "189a1bc7509c43e39cf08c1277854895": {
      "model_module": "@jupyter-widgets/base",
      "model_module_version": "1.0.0",
      "model_name": "LayoutModel",
      "state": {}
     },
     "18d30b04854c48728cb1a2fdb9de96d9": {
      "model_module": "@jupyter-widgets/controls",
      "model_module_version": "1.0.0",
      "model_name": "SliderStyleModel",
      "state": {
       "description_width": ""
      }
     },
     "18d3e296ac384c2e95625188e3cae335": {
      "model_module": "@jupyter-widgets/controls",
      "model_module_version": "1.0.0",
      "model_name": "IntSliderModel",
      "state": {
       "description": "red",
       "layout": "IPY_MODEL_848ca7aae6e04cd18dee9e9bf9e4ccc8",
       "max": 255,
       "style": "IPY_MODEL_f5cf1a9f6189407b90fae19ce832360a",
       "value": 255
      }
     },
     "19567e63837e48fa8acc7fe59f47ac91": {
      "model_module": "@jupyter-widgets/controls",
      "model_module_version": "1.0.0",
      "model_name": "IntSliderModel",
      "state": {
       "description": "blue",
       "layout": "IPY_MODEL_00cdca98bd6d4b90929842bdca03c560",
       "max": 255,
       "style": "IPY_MODEL_a39ef909be504028be725b7bb35c32b8",
       "value": 255
      }
     },
     "19b4ed31efd644f989464e0e904b27fb": {
      "model_module": "@jupyter-widgets/base",
      "model_module_version": "1.0.0",
      "model_name": "LayoutModel",
      "state": {}
     },
     "1a8f82465f4a47b9981cb3271fe9314b": {
      "model_module": "@jupyter-widgets/base",
      "model_module_version": "1.0.0",
      "model_name": "LayoutModel",
      "state": {}
     },
     "1b236a9ebc484a3fa96ed4c9def7abd1": {
      "model_module": "@jupyter-widgets/controls",
      "model_module_version": "1.0.0",
      "model_name": "IntSliderModel",
      "state": {
       "description": "green",
       "layout": "IPY_MODEL_61cd665651c045da97a39f18e32b8b97",
       "max": 255,
       "style": "IPY_MODEL_1d12441914304411b7f43e1171aaf9e0"
      }
     },
     "1bdf6f48ccb644ba98c666e5630ef289": {
      "model_module": "@jupyter-widgets/controls",
      "model_module_version": "1.0.0",
      "model_name": "SliderStyleModel",
      "state": {
       "description_width": ""
      }
     },
     "1c26820a71af4bde8fef972fedbad611": {
      "model_module": "@jupyter-widgets/base",
      "model_module_version": "1.0.0",
      "model_name": "LayoutModel",
      "state": {}
     },
     "1cd41c8313ed44d68d4058eafee4da87": {
      "model_module": "@jupyter-widgets/controls",
      "model_module_version": "1.0.0",
      "model_name": "SliderStyleModel",
      "state": {
       "description_width": ""
      }
     },
     "1cebc6ca142b426ca866e00db12afa37": {
      "model_module": "@jupyter-widgets/base",
      "model_module_version": "1.0.0",
      "model_name": "LayoutModel",
      "state": {}
     },
     "1d12441914304411b7f43e1171aaf9e0": {
      "model_module": "@jupyter-widgets/controls",
      "model_module_version": "1.0.0",
      "model_name": "SliderStyleModel",
      "state": {
       "description_width": ""
      }
     },
     "1d1954f8861b474aab082cc4ac7996a8": {
      "model_module": "@jupyter-widgets/controls",
      "model_module_version": "1.0.0",
      "model_name": "IntSliderModel",
      "state": {
       "description": "y",
       "layout": "IPY_MODEL_de5e9366588d41f780d0a3642db3bef7",
       "min": -100,
       "style": "IPY_MODEL_221cc17a24774bbb8356e69a04b4380e",
       "value": -100
      }
     },
     "1d8c5b1ec77544638818df9a404d2793": {
      "model_module": "@jupyter-widgets/controls",
      "model_module_version": "1.0.0",
      "model_name": "IntSliderModel",
      "state": {
       "description": "y",
       "layout": "IPY_MODEL_b30542ec67c940128ae126e2e41a6119",
       "min": -100,
       "style": "IPY_MODEL_4fd3845a627b42dc8e304b676aa98450"
      }
     },
     "1d95cb6fa5934b18bfca058c30c09ee5": {
      "model_module": "@jupyter-widgets/base",
      "model_module_version": "1.0.0",
      "model_name": "LayoutModel",
      "state": {}
     },
     "1deb3f53ba704c21a8990d4c59f978f8": {
      "model_module": "@jupyter-widgets/base",
      "model_module_version": "1.0.0",
      "model_name": "LayoutModel",
      "state": {}
     },
     "1e21103892174eb2b5ee60b0f38442d7": {
      "model_module": "@jupyter-widgets/base",
      "model_module_version": "1.0.0",
      "model_name": "LayoutModel",
      "state": {}
     },
     "1e2b0a8d20b046b2b19d8fce885027c0": {
      "model_module": "@jupyter-widgets/base",
      "model_module_version": "1.0.0",
      "model_name": "LayoutModel",
      "state": {}
     },
     "1e5614a3190644ec825933d20236f387": {
      "model_module": "@jupyter-widgets/base",
      "model_module_version": "1.0.0",
      "model_name": "LayoutModel",
      "state": {}
     },
     "1e73d9abf7ae450f8ff2a199d73bdc56": {
      "model_module": "@jupyter-widgets/controls",
      "model_module_version": "1.0.0",
      "model_name": "FloatSliderModel",
      "state": {
       "description": "alpha",
       "layout": "IPY_MODEL_0fd823d818d745a59459b962e94bac3a",
       "max": 1,
       "step": 0.1,
       "style": "IPY_MODEL_c63c46a1b8724c8f848ac25c31265a97",
       "value": 0.6
      }
     },
     "201194823eac4061aea9989626d7a85a": {
      "model_module": "@jupyter-widgets/base",
      "model_module_version": "1.0.0",
      "model_name": "LayoutModel",
      "state": {}
     },
     "20186b44b3404b2e8ce165d2abc42c9d": {
      "model_module": "@jupyter-widgets/base",
      "model_module_version": "1.0.0",
      "model_name": "LayoutModel",
      "state": {}
     },
     "2044b5b4aac2498aa782e23bc5294e1d": {
      "model_module": "@jupyter-widgets/controls",
      "model_module_version": "1.0.0",
      "model_name": "SliderStyleModel",
      "state": {
       "description_width": ""
      }
     },
     "2055576160234dc99d6e1929319add1a": {
      "model_module": "@jupyter-widgets/base",
      "model_module_version": "1.0.0",
      "model_name": "LayoutModel",
      "state": {}
     },
     "20818d221903493088f277861d60ffd8": {
      "model_module": "@jupyter-widgets/base",
      "model_module_version": "1.0.0",
      "model_name": "LayoutModel",
      "state": {}
     },
     "20b4d73f915f43a5be5147e599adcab3": {
      "model_module": "@jupyter-widgets/base",
      "model_module_version": "1.0.0",
      "model_name": "LayoutModel",
      "state": {}
     },
     "2176e153306d4c2f97fec51cb7966a91": {
      "model_module": "@jupyter-widgets/controls",
      "model_module_version": "1.0.0",
      "model_name": "FloatSliderModel",
      "state": {
       "description": "arc",
       "layout": "IPY_MODEL_74b2742b1bfc45aca3cb643243834a8c",
       "max": 6.383185307179586,
       "step": 0.1,
       "style": "IPY_MODEL_8d3de9c3d8984d0dadfe5d788b034158",
       "value": 6.283185307179586
      }
     },
     "21d381f803b8484aae27273d3599000f": {
      "model_module": "@jupyter-widgets/controls",
      "model_module_version": "1.0.0",
      "model_name": "SliderStyleModel",
      "state": {
       "description_width": ""
      }
     },
     "220d7a6577b747cf8020e694eaacc517": {
      "model_module": "@jupyter-widgets/controls",
      "model_module_version": "1.0.0",
      "model_name": "VBoxModel",
      "state": {
       "children": [
        "IPY_MODEL_78a36bc249644c3abc87b50dc88506bb",
        "IPY_MODEL_5cae9cd0839d460f8c9c083ef5787246"
       ],
       "layout": "IPY_MODEL_5bc86fe162074d7e9b337fe205a9f53c"
      }
     },
     "221cc17a24774bbb8356e69a04b4380e": {
      "model_module": "@jupyter-widgets/controls",
      "model_module_version": "1.0.0",
      "model_name": "SliderStyleModel",
      "state": {
       "description_width": ""
      }
     },
     "224dc997d4a643e9a7b3b31aabc1e9f2": {
      "model_module": "@jupyter-widgets/base",
      "model_module_version": "1.0.0",
      "model_name": "LayoutModel",
      "state": {}
     },
     "230e70817e9547c5963daa5665fbdd22": {
      "model_module": "@jupyter-widgets/controls",
      "model_module_version": "1.0.0",
      "model_name": "IntSliderModel",
      "state": {
       "description": "blue",
       "layout": "IPY_MODEL_42e7a8305b054c398961897cbac89c79",
       "max": 255,
       "style": "IPY_MODEL_09f9e84dc0b24f3395212e5afb68a236",
       "value": 248
      }
     },
     "2400671700b64c99a2b65e1898f8c0a5": {
      "model_module": "@jupyter-widgets/base",
      "model_module_version": "1.0.0",
      "model_name": "LayoutModel",
      "state": {}
     },
     "24527cb028fc4366a60ff6d4e3deb435": {
      "model_module": "@jupyter-widgets/base",
      "model_module_version": "1.0.0",
      "model_name": "LayoutModel",
      "state": {}
     },
     "24d7df0fd6094301b21c7aa7feb3e24a": {
      "model_module": "@jupyter-widgets/base",
      "model_module_version": "1.0.0",
      "model_name": "LayoutModel",
      "state": {}
     },
     "252c075199c644e4b2e2c95360278243": {
      "model_module": "@jupyter-widgets/base",
      "model_module_version": "1.0.0",
      "model_name": "LayoutModel",
      "state": {}
     },
     "258a037f9c5d4f1ab7e73280fcb610bb": {
      "model_module": "@jupyter-widgets/base",
      "model_module_version": "1.0.0",
      "model_name": "LayoutModel",
      "state": {}
     },
     "25f711c919fc42c5acf1251267909e68": {
      "model_module": "@jupyter-widgets/base",
      "model_module_version": "1.0.0",
      "model_name": "LayoutModel",
      "state": {}
     },
     "2608ab08ec564208bfde0d40ef9448e3": {
      "model_module": "@jupyter-widgets/base",
      "model_module_version": "1.0.0",
      "model_name": "LayoutModel",
      "state": {}
     },
     "267d05ac300a4e71a7f705e0e60043c8": {
      "model_module": "@jupyter-widgets/controls",
      "model_module_version": "1.0.0",
      "model_name": "SliderStyleModel",
      "state": {
       "description_width": ""
      }
     },
     "26bebf5448154bd4b302375d200cc359": {
      "model_module": "@jupyter-widgets/controls",
      "model_module_version": "1.0.0",
      "model_name": "SliderStyleModel",
      "state": {
       "description_width": ""
      }
     },
     "2715990fa5714fc6a0fc16e71955286c": {
      "model_module": "@jupyter-widgets/controls",
      "model_module_version": "1.0.0",
      "model_name": "SliderStyleModel",
      "state": {
       "description_width": ""
      }
     },
     "278761cef79a4074836119b8b0222f88": {
      "model_module": "@jupyter-widgets/base",
      "model_module_version": "1.0.0",
      "model_name": "LayoutModel",
      "state": {}
     },
     "278c14b15124447588f0c5b9b1090a1e": {
      "model_module": "@jupyter-widgets/controls",
      "model_module_version": "1.0.0",
      "model_name": "IntSliderModel",
      "state": {
       "description": "r",
       "layout": "IPY_MODEL_4ef993eb67774642bd48a4c780196768",
       "style": "IPY_MODEL_a4588cc0de184bc8832320fb76949505",
       "value": 50
      }
     },
     "287cd41b851146269e275908f48cd2d7": {
      "model_module": "@jupyter-widgets/controls",
      "model_module_version": "1.0.0",
      "model_name": "HTMLModel",
      "state": {
       "layout": "IPY_MODEL_a796e87e80984babb3aea6f8278446c4",
       "style": "IPY_MODEL_43380f299241427bb11ab4ba067f8be4",
       "value": "<img src=\"interactive_circle2.png\" id=\"snapshot_id_8_1536250118617\"/>\n <div id=\"snapshot_id_9_1536250118617\">interactive_circle2.png</div>"
      }
     },
     "289a0153c9a14816a57ad94f5c55828e": {
      "model_module": "@jupyter-widgets/controls",
      "model_module_version": "1.0.0",
      "model_name": "IntSliderModel",
      "state": {
       "description": "r",
       "layout": "IPY_MODEL_1a8f82465f4a47b9981cb3271fe9314b",
       "style": "IPY_MODEL_2044b5b4aac2498aa782e23bc5294e1d",
       "value": 39
      }
     },
     "28d89deba6ff402f8c7778dfc7a0650c": {
      "model_module": "@jupyter-widgets/base",
      "model_module_version": "1.0.0",
      "model_name": "LayoutModel",
      "state": {}
     },
     "29175feef1a148e18a99ea050f6789a2": {
      "model_module": "@jupyter-widgets/controls",
      "model_module_version": "1.0.0",
      "model_name": "SliderStyleModel",
      "state": {
       "description_width": ""
      }
     },
     "293316fd146f458b9ed8526a62cc02ff": {
      "model_module": "@jupyter-widgets/controls",
      "model_module_version": "1.0.0",
      "model_name": "SliderStyleModel",
      "state": {
       "description_width": ""
      }
     },
     "29b67f2c596b4499a78ef084a1fb1a9f": {
      "model_module": "@jupyter-widgets/base",
      "model_module_version": "1.0.0",
      "model_name": "LayoutModel",
      "state": {}
     },
     "2a771ba2332947638e2011cc23b498b3": {
      "model_module": "@jupyter-widgets/controls",
      "model_module_version": "1.0.0",
      "model_name": "VBoxModel",
      "state": {
       "children": [
        "IPY_MODEL_1619dfd7c5284ab09aef1ec4d1e3d037",
        "IPY_MODEL_4bfc39b7ad2b4dd2b03437294ae8a494"
       ],
       "layout": "IPY_MODEL_37a23d3d43b94abbbc2f5332d635d81e"
      }
     },
     "2a809c0d80474d68b1c427f243a7786e": {
      "model_module": "@jupyter-widgets/base",
      "model_module_version": "1.0.0",
      "model_name": "LayoutModel",
      "state": {}
     },
     "2a9785a69adc473a994b99bbb9c29fb7": {
      "model_module": "@jupyter-widgets/controls",
      "model_module_version": "1.0.0",
      "model_name": "SliderStyleModel",
      "state": {
       "description_width": ""
      }
     },
     "2ac029db54324f539966573b9e540eba": {
      "model_module": "@jupyter-widgets/base",
      "model_module_version": "1.0.0",
      "model_name": "LayoutModel",
      "state": {}
     },
     "2af5751967594d488226afc3e3138e0b": {
      "model_module": "@jupyter-widgets/controls",
      "model_module_version": "1.0.0",
      "model_name": "DescriptionStyleModel",
      "state": {
       "description_width": ""
      }
     },
     "2b3d42d25ac247db8bc321d10812c792": {
      "model_module": "@jupyter-widgets/base",
      "model_module_version": "1.0.0",
      "model_name": "LayoutModel",
      "state": {}
     },
     "2bdf84633aae44ac9767292958e6b60b": {
      "model_module": "@jupyter-widgets/base",
      "model_module_version": "1.0.0",
      "model_name": "LayoutModel",
      "state": {}
     },
     "2c5a3deaae6c46649bf71f7b88084ae4": {
      "model_module": "@jupyter-widgets/controls",
      "model_module_version": "1.0.0",
      "model_name": "TabModel",
      "state": {
       "_titles": {
        "0": "Canvas",
        "1": "Snapshot"
       },
       "children": [
        "IPY_MODEL_36490e0ac3e94b72acc7f8a5aabaa055",
        "IPY_MODEL_bc0c9962453741fa87bd0b13b4442d84"
       ],
       "layout": "IPY_MODEL_c321150d3889420097a520653cef8df6"
      }
     },
     "2dfed08de1b847b3922417ffe1713046": {
      "model_module": "@jupyter-widgets/base",
      "model_module_version": "1.0.0",
      "model_name": "LayoutModel",
      "state": {}
     },
     "2e34cd67022644ac94e51be481464a52": {
      "model_module": "@jupyter-widgets/controls",
      "model_module_version": "1.0.0",
      "model_name": "SliderStyleModel",
      "state": {
       "description_width": ""
      }
     },
     "2e564995d0a74657b91747686e566185": {
      "model_module": "jp_proxy_widget",
      "model_module_version": "^0.3.4",
      "model_name": "JSProxyModel",
      "state": {
       "_model_module_version": "^0.3.4",
       "_send_counter": 745,
       "_view_module_version": "^0.3.4",
       "error_msg": "No error",
       "layout": "IPY_MODEL_224dc997d4a643e9a7b3b31aabc1e9f2",
       "rendered": true,
       "status": "Got results."
      }
     },
     "2e6d683ed79440b9bcf9f1a3d107c32a": {
      "model_module": "@jupyter-widgets/controls",
      "model_module_version": "1.0.0",
      "model_name": "SliderStyleModel",
      "state": {
       "description_width": ""
      }
     },
     "2e6e7f1bd8864607b58b4841cc91d3b7": {
      "model_module": "@jupyter-widgets/controls",
      "model_module_version": "1.0.0",
      "model_name": "IntSliderModel",
      "state": {
       "description": "x",
       "layout": "IPY_MODEL_403a45102ba147f8aa926d450caf82de",
       "min": -100,
       "style": "IPY_MODEL_9f2041dc70e942bd990fe0074cd0e617",
       "value": -20
      }
     },
     "2e7b00438b9c409ea7d5451e5ce7e3ea": {
      "model_module": "@jupyter-widgets/controls",
      "model_module_version": "1.0.0",
      "model_name": "SliderStyleModel",
      "state": {
       "description_width": ""
      }
     },
     "2ee7cc21f0c14506b963356870175365": {
      "model_module": "@jupyter-widgets/controls",
      "model_module_version": "1.0.0",
      "model_name": "IntSliderModel",
      "state": {
       "description": "r",
       "layout": "IPY_MODEL_94860ebcd967426b807144f30016ba20",
       "style": "IPY_MODEL_9efbcad1358c44fb81da258d813a6b3e",
       "value": 66
      }
     },
     "2f68824a86844f66abe24ea385b006a8": {
      "model_module": "@jupyter-widgets/controls",
      "model_module_version": "1.0.0",
      "model_name": "IntSliderModel",
      "state": {
       "description": "x",
       "layout": "IPY_MODEL_c9739257a84a4bda98972255f3b64850",
       "min": -100,
       "style": "IPY_MODEL_f8c7f18ee78d4eaf9f3558a0ac96dab7"
      }
     },
     "31055da1faf849179e57bac70925eb6e": {
      "model_module": "@jupyter-widgets/base",
      "model_module_version": "1.0.0",
      "model_name": "LayoutModel",
      "state": {}
     },
     "3183ced7344449de8db67aaa128c8228": {
      "model_module": "@jupyter-widgets/controls",
      "model_module_version": "1.0.0",
      "model_name": "IntSliderModel",
      "state": {
       "description": "r",
       "layout": "IPY_MODEL_3aa0d123d8394dc0b2135d92266fb699",
       "style": "IPY_MODEL_5e8de4973518427095d773ea3eaa2419",
       "value": 50
      }
     },
     "32316a19285745f9aaff790f3d95f45b": {
      "model_module": "@jupyter-widgets/base",
      "model_module_version": "1.0.0",
      "model_name": "LayoutModel",
      "state": {}
     },
     "32bdb33c90214892b115d60d101960fe": {
      "model_module": "@jupyter-widgets/controls",
      "model_module_version": "1.0.0",
      "model_name": "IntSliderModel",
      "state": {
       "description": "x",
       "layout": "IPY_MODEL_dbdb1c5d6f83451ca77c4d356d62abc3",
       "min": -100,
       "style": "IPY_MODEL_92229f6efafc4a91a7a0fc3ea0eec483"
      }
     },
     "32ea6d58b7d14d52af1ea024f738485b": {
      "model_module": "@jupyter-widgets/base",
      "model_module_version": "1.0.0",
      "model_name": "LayoutModel",
      "state": {}
     },
     "33a3b06fd72546baa0cf0b1089f6f202": {
      "model_module": "@jupyter-widgets/controls",
      "model_module_version": "1.0.0",
      "model_name": "VBoxModel",
      "state": {
       "children": [
        "IPY_MODEL_3631d8620c6e47eb8d286aceb855e288",
        "IPY_MODEL_1099c7ec884643e3a302c56a26a48516"
       ],
       "layout": "IPY_MODEL_636f6b1c623942b9988c52e27b5a994b"
      }
     },
     "33b4f493f865465e847041d95a0ae6ae": {
      "model_module": "@jupyter-widgets/base",
      "model_module_version": "1.0.0",
      "model_name": "LayoutModel",
      "state": {}
     },
     "346223109c9d4df19db71886a8bd5336": {
      "model_module": "@jupyter-widgets/base",
      "model_module_version": "1.0.0",
      "model_name": "LayoutModel",
      "state": {}
     },
     "351cad72bcaf4b9a8abf332b64dbbb8b": {
      "model_module": "jp_proxy_widget",
      "model_module_version": "^0.3.4",
      "model_name": "JSProxyModel",
      "state": {
       "_model_module_version": "^0.3.4",
       "_send_counter": 2,
       "_view_module_version": "^0.3.4",
       "error_msg": "No error",
       "layout": "IPY_MODEL_03e8424e15314392b53bb2b58cd42fd4",
       "rendered": true,
       "status": "Got results."
      }
     },
     "361bb3a43cfb415a83e926ef37a9ef5c": {
      "model_module": "@jupyter-widgets/controls",
      "model_module_version": "1.0.0",
      "model_name": "SliderStyleModel",
      "state": {
       "description_width": ""
      }
     },
     "3631d8620c6e47eb8d286aceb855e288": {
      "model_module": "jp_proxy_widget",
      "model_module_version": "^0.3.4",
      "model_name": "JSProxyModel",
      "state": {
       "_model_module_version": "^0.3.4",
       "_send_counter": 276,
       "_view_module_version": "^0.3.4",
       "error_msg": "No error",
       "layout": "IPY_MODEL_651e7c1fd81c44279ea33f0e4bb198f1",
       "rendered": true,
       "status": "Got results."
      }
     },
     "36490e0ac3e94b72acc7f8a5aabaa055": {
      "model_module": "@jupyter-widgets/controls",
      "model_module_version": "1.0.0",
      "model_name": "VBoxModel",
      "state": {
       "children": [
        "IPY_MODEL_2e564995d0a74657b91747686e566185",
        "IPY_MODEL_65a97635233c46f3b48e9f9d21f20393"
       ],
       "layout": "IPY_MODEL_f2305bf7a24849e694f1ed5e973a0ff1"
      }
     },
     "374eab8fee6243d3ae3b8f150c390a3e": {
      "model_module": "@jupyter-widgets/controls",
      "model_module_version": "1.0.0",
      "model_name": "FloatSliderModel",
      "state": {
       "description": "alpha",
       "layout": "IPY_MODEL_fe3bff1ddfa742259d7feae110fec4cc",
       "max": 1,
       "step": 0.1,
       "style": "IPY_MODEL_375449ef488b4e409949902dbaabdb2f",
       "value": 0.5
      }
     },
     "375449ef488b4e409949902dbaabdb2f": {
      "model_module": "@jupyter-widgets/controls",
      "model_module_version": "1.0.0",
      "model_name": "SliderStyleModel",
      "state": {
       "description_width": ""
      }
     },
     "37684bb7566c45bcac399dc568899113": {
      "model_module": "@jupyter-widgets/controls",
      "model_module_version": "1.0.0",
      "model_name": "SliderStyleModel",
      "state": {
       "description_width": ""
      }
     },
     "37a23d3d43b94abbbc2f5332d635d81e": {
      "model_module": "@jupyter-widgets/base",
      "model_module_version": "1.0.0",
      "model_name": "LayoutModel",
      "state": {}
     },
     "385c4cb31c1d491787737c08bb69f148": {
      "model_module": "@jupyter-widgets/base",
      "model_module_version": "1.0.0",
      "model_name": "LayoutModel",
      "state": {}
     },
     "3937387cd47f47d4bcdf5afaba9058b2": {
      "model_module": "@jupyter-widgets/controls",
      "model_module_version": "1.0.0",
      "model_name": "CheckboxModel",
      "state": {
       "description": "fill",
       "disabled": false,
       "layout": "IPY_MODEL_60d1a15b07c54779bd30e5c26d2f0529",
       "style": "IPY_MODEL_3f5d5f0a7c4a48df8bd74dc8be0af2b0",
       "value": true
      }
     },
     "3943f1b913fe4b1e94e48c0a87f56dfd": {
      "model_module": "@jupyter-widgets/controls",
      "model_module_version": "1.0.0",
      "model_name": "FloatSliderModel",
      "state": {
       "description": "arc",
       "layout": "IPY_MODEL_dd87b5a13f874675a29a796a3e3cde77",
       "max": 6.383185307179586,
       "step": 0.1,
       "style": "IPY_MODEL_e7873677b53545329c9ff13c24157804",
       "value": 6
      }
     },
     "396d227606ca4b77a0fd9d9d621270b1": {
      "model_module": "@jupyter-widgets/controls",
      "model_module_version": "1.0.0",
      "model_name": "VBoxModel",
      "state": {
       "_dom_classes": [
        "widget-interact"
       ],
       "children": [
        "IPY_MODEL_32bdb33c90214892b115d60d101960fe",
        "IPY_MODEL_d77b6462ad514ee8876ac19f2c622c6b",
        "IPY_MODEL_d0b2a1f5bc104761968b1bc483afc644",
        "IPY_MODEL_a91cb63369404a839fa3279e3442ce59",
        "IPY_MODEL_7ec85661d6544abb85c44a221e1bdeb7",
        "IPY_MODEL_4d7974b698f245e3b784f70761d959b8",
        "IPY_MODEL_57379ef972a042bbbae4d66672bbbf49",
        "IPY_MODEL_7261fd9657c34e6886f4a75cdc18d33f"
       ],
       "layout": "IPY_MODEL_ebcefb249b364779bb48896bc257b8a1"
      }
     },
     "39a09fa8d131455ca09c8ef8bcac6eea": {
      "model_module": "@jupyter-widgets/output",
      "model_module_version": "1.0.0",
      "model_name": "OutputModel",
      "state": {
       "layout": "IPY_MODEL_189a1bc7509c43e39cf08c1277854895"
      }
     },
     "39ea280f576d404ea95d4e0672b9771c": {
      "model_module": "@jupyter-widgets/controls",
      "model_module_version": "1.0.0",
      "model_name": "SliderStyleModel",
      "state": {
       "description_width": ""
      }
     },
     "39fbab63948f41a38710d79e8f6baa2c": {
      "model_module": "@jupyter-widgets/base",
      "model_module_version": "1.0.0",
      "model_name": "LayoutModel",
      "state": {}
     },
     "3a0d309da4274cd6a4c0bc706bc51d81": {
      "model_module": "@jupyter-widgets/controls",
      "model_module_version": "1.0.0",
      "model_name": "IntSliderModel",
      "state": {
       "description": "r",
       "layout": "IPY_MODEL_0734ac469e3443feae42710aaa7e02fd",
       "style": "IPY_MODEL_48af8f7a8c244947bfafc0ef05f7b9b6",
       "value": 75
      }
     },
     "3a0ec3f676e5402ebe4376a3f6d6b7eb": {
      "model_module": "@jupyter-widgets/base",
      "model_module_version": "1.0.0",
      "model_name": "LayoutModel",
      "state": {}
     },
     "3a2209d82a8c428a9e1090bedc264712": {
      "model_module": "@jupyter-widgets/base",
      "model_module_version": "1.0.0",
      "model_name": "LayoutModel",
      "state": {}
     },
     "3a3797311afe4614813177f03d4c72ac": {
      "model_module": "@jupyter-widgets/controls",
      "model_module_version": "1.0.0",
      "model_name": "IntSliderModel",
      "state": {
       "description": "green",
       "layout": "IPY_MODEL_2a809c0d80474d68b1c427f243a7786e",
       "max": 255,
       "style": "IPY_MODEL_73ef9fac00c34fbba2d4679318de8790"
      }
     },
     "3aa0d123d8394dc0b2135d92266fb699": {
      "model_module": "@jupyter-widgets/base",
      "model_module_version": "1.0.0",
      "model_name": "LayoutModel",
      "state": {}
     },
     "3abd04a8adb0482296dc8eeb01405aa2": {
      "model_module": "@jupyter-widgets/controls",
      "model_module_version": "1.0.0",
      "model_name": "IntSliderModel",
      "state": {
       "description": "red",
       "layout": "IPY_MODEL_8c019990355540b9b0be4c98c5d09c2a",
       "max": 255,
       "style": "IPY_MODEL_125cdc713dbf45e28d6018c9d5dfb4c9",
       "value": 255
      }
     },
     "3ae80e42edc6492e9dc7fc09b1a1afb5": {
      "model_module": "jp_proxy_widget",
      "model_module_version": "^0.3.4",
      "model_name": "JSProxyModel",
      "state": {
       "_model_module_version": "^0.3.4",
       "_send_counter": 470,
       "_view_module_version": "^0.3.4",
       "error_msg": "No error",
       "layout": "IPY_MODEL_9c1ba6765f244920acee5f3f328fe2c0",
       "rendered": true,
       "status": "Got results."
      }
     },
     "3af941c9e342491c87e295f01a280228": {
      "model_module": "@jupyter-widgets/controls",
      "model_module_version": "1.0.0",
      "model_name": "FloatSliderModel",
      "state": {
       "description": "alpha",
       "layout": "IPY_MODEL_aba9e6d809a04cdb8f8d7d9e653c7316",
       "max": 1,
       "step": 0.1,
       "style": "IPY_MODEL_feafdda46982449a8226a17e3c72aa24",
       "value": 1
      }
     },
     "3b298347d5164b729809133f282a4913": {
      "model_module": "@jupyter-widgets/controls",
      "model_module_version": "1.0.0",
      "model_name": "SliderStyleModel",
      "state": {
       "description_width": ""
      }
     },
     "3b86f2f670b3422d9db3de7334d5048b": {
      "model_module": "@jupyter-widgets/controls",
      "model_module_version": "1.0.0",
      "model_name": "HTMLModel",
      "state": {
       "layout": "IPY_MODEL_20b4d73f915f43a5be5147e599adcab3",
       "style": "IPY_MODEL_db2aa71d00024b1e9acf939d78cb3d3c",
       "value": "<img src=\"interactive_circle.png\" id=\"snapshot_id_19_1536246788202\"/>\n <div id=\"snapshot_id_20_1536246788202\">interactive_circle.png</div>"
      }
     },
     "3b9f01bcdb4347a9938e7b1a24c95ad5": {
      "model_module": "@jupyter-widgets/controls",
      "model_module_version": "1.0.0",
      "model_name": "SliderStyleModel",
      "state": {
       "description_width": ""
      }
     },
     "3bd4fdef432e484697612a1fd266d763": {
      "model_module": "@jupyter-widgets/base",
      "model_module_version": "1.0.0",
      "model_name": "LayoutModel",
      "state": {}
     },
     "3cb4306aaac04ddfa97480f29d992eb9": {
      "model_module": "@jupyter-widgets/base",
      "model_module_version": "1.0.0",
      "model_name": "LayoutModel",
      "state": {}
     },
     "3cf2b3bec0b345c7ba4a5b7b033fab7e": {
      "model_module": "@jupyter-widgets/controls",
      "model_module_version": "1.0.0",
      "model_name": "IntSliderModel",
      "state": {
       "description": "red",
       "layout": "IPY_MODEL_ee0f71b41f5a4ff98255ef8a9a0c439b",
       "max": 255,
       "style": "IPY_MODEL_e4758ba7d91e43ce8d74d6c2fd0c0536",
       "value": 127
      }
     },
     "3d5058bc2e3b4e539cc00452ef824c4d": {
      "model_module": "@jupyter-widgets/base",
      "model_module_version": "1.0.0",
      "model_name": "LayoutModel",
      "state": {}
     },
     "3d813c61c9b34388a1c497d44f887b4a": {
      "model_module": "@jupyter-widgets/base",
      "model_module_version": "1.0.0",
      "model_name": "LayoutModel",
      "state": {}
     },
     "3dc8cd0d64c443d2a4c05a0bd83bf747": {
      "model_module": "@jupyter-widgets/base",
      "model_module_version": "1.0.0",
      "model_name": "LayoutModel",
      "state": {}
     },
     "3df3d86594924680a5fd244a0849e541": {
      "model_module": "@jupyter-widgets/base",
      "model_module_version": "1.0.0",
      "model_name": "LayoutModel",
      "state": {}
     },
     "3e08496c5a814d1fb64c034a3b7731f1": {
      "model_module": "@jupyter-widgets/controls",
      "model_module_version": "1.0.0",
      "model_name": "IntSliderModel",
      "state": {
       "description": "red",
       "layout": "IPY_MODEL_2b3d42d25ac247db8bc321d10812c792",
       "max": 255,
       "style": "IPY_MODEL_a895c20fa5904e5e90d479a850648308",
       "value": 255
      }
     },
     "3e0f8127177d425586eb6faea6914232": {
      "model_module": "@jupyter-widgets/output",
      "model_module_version": "1.0.0",
      "model_name": "OutputModel",
      "state": {
       "layout": "IPY_MODEL_91245801af7d46a0b339d34af01e1162"
      }
     },
     "3e367bf33f1047dfbc03f16555494f9c": {
      "model_module": "jp_proxy_widget",
      "model_module_version": "^0.3.4",
      "model_name": "JSProxyModel",
      "state": {
       "_model_module_version": "^0.3.4",
       "_send_counter": 142,
       "_view_module_version": "^0.3.4",
       "error_msg": "No error",
       "layout": "IPY_MODEL_6f24f35404984892b1be42462ad04b72",
       "rendered": true,
       "status": "Got results."
      }
     },
     "3e3e9b985eb14c4c86747feb32453a8a": {
      "model_module": "@jupyter-widgets/base",
      "model_module_version": "1.0.0",
      "model_name": "LayoutModel",
      "state": {}
     },
     "3f0586023cfc4e79ae4c477593a84b5a": {
      "model_module": "@jupyter-widgets/controls",
      "model_module_version": "1.0.0",
      "model_name": "SliderStyleModel",
      "state": {
       "description_width": ""
      }
     },
     "3f5d5f0a7c4a48df8bd74dc8be0af2b0": {
      "model_module": "@jupyter-widgets/controls",
      "model_module_version": "1.0.0",
      "model_name": "DescriptionStyleModel",
      "state": {
       "description_width": ""
      }
     },
     "3f924d1212e94c4c98ebeff020b030f9": {
      "model_module": "@jupyter-widgets/base",
      "model_module_version": "1.0.0",
      "model_name": "LayoutModel",
      "state": {}
     },
     "402f95aa334748b0bde5c7de2a447f2d": {
      "model_module": "@jupyter-widgets/base",
      "model_module_version": "1.0.0",
      "model_name": "LayoutModel",
      "state": {}
     },
     "403a45102ba147f8aa926d450caf82de": {
      "model_module": "@jupyter-widgets/base",
      "model_module_version": "1.0.0",
      "model_name": "LayoutModel",
      "state": {}
     },
     "4058b1e23a90471eb4ca008b7ff750ba": {
      "model_module": "@jupyter-widgets/base",
      "model_module_version": "1.0.0",
      "model_name": "LayoutModel",
      "state": {}
     },
     "40679a37760f413eaab916ce3109bef5": {
      "model_module": "@jupyter-widgets/controls",
      "model_module_version": "1.0.0",
      "model_name": "IntSliderModel",
      "state": {
       "description": "r",
       "layout": "IPY_MODEL_346223109c9d4df19db71886a8bd5336",
       "style": "IPY_MODEL_ec5aa57ed6cc4905bbae2c4861c17a69",
       "value": 50
      }
     },
     "408e67a7ff1c429cb7224fa3b6f2cb1a": {
      "model_module": "@jupyter-widgets/controls",
      "model_module_version": "1.0.0",
      "model_name": "SliderStyleModel",
      "state": {
       "description_width": ""
      }
     },
     "40b3a6e46868489c8da8169d343837c4": {
      "model_module": "@jupyter-widgets/controls",
      "model_module_version": "1.0.0",
      "model_name": "SliderStyleModel",
      "state": {
       "description_width": ""
      }
     },
     "40bb0b1a648e4f57b1523dc65133c5af": {
      "model_module": "@jupyter-widgets/controls",
      "model_module_version": "1.0.0",
      "model_name": "SliderStyleModel",
      "state": {
       "description_width": ""
      }
     },
     "413e6e8d43ff4406811d3af95680b0b1": {
      "model_module": "@jupyter-widgets/base",
      "model_module_version": "1.0.0",
      "model_name": "LayoutModel",
      "state": {}
     },
     "41c6d7289a09447cae94c2eee94c6d89": {
      "model_module": "@jupyter-widgets/controls",
      "model_module_version": "1.0.0",
      "model_name": "SliderStyleModel",
      "state": {
       "description_width": ""
      }
     },
     "4239c3efea4d43b1a6f0d8c288c6ae50": {
      "model_module": "@jupyter-widgets/base",
      "model_module_version": "1.0.0",
      "model_name": "LayoutModel",
      "state": {}
     },
     "4244e0c3771c4898942ed4036cba7fb0": {
      "model_module": "@jupyter-widgets/base",
      "model_module_version": "1.0.0",
      "model_name": "LayoutModel",
      "state": {}
     },
     "42ac1e9ba8d44f048a605cb200f0714d": {
      "model_module": "@jupyter-widgets/base",
      "model_module_version": "1.0.0",
      "model_name": "LayoutModel",
      "state": {}
     },
     "42d12b1ec7574a50b6104871c58a58ed": {
      "model_module": "@jupyter-widgets/controls",
      "model_module_version": "1.0.0",
      "model_name": "IntSliderModel",
      "state": {
       "description": "y",
       "layout": "IPY_MODEL_39fbab63948f41a38710d79e8f6baa2c",
       "min": -100,
       "style": "IPY_MODEL_0e236c0abc8543678cde80a20f77d38a"
      }
     },
     "42e7a8305b054c398961897cbac89c79": {
      "model_module": "@jupyter-widgets/base",
      "model_module_version": "1.0.0",
      "model_name": "LayoutModel",
      "state": {}
     },
     "43380f299241427bb11ab4ba067f8be4": {
      "model_module": "@jupyter-widgets/controls",
      "model_module_version": "1.0.0",
      "model_name": "DescriptionStyleModel",
      "state": {
       "description_width": ""
      }
     },
     "43535c6a3263478ab53b869d35b5f5e6": {
      "model_module": "@jupyter-widgets/controls",
      "model_module_version": "1.0.0",
      "model_name": "SliderStyleModel",
      "state": {
       "description_width": ""
      }
     },
     "4392b306158b4b6bb331aea9b210afe8": {
      "model_module": "@jupyter-widgets/base",
      "model_module_version": "1.0.0",
      "model_name": "LayoutModel",
      "state": {}
     },
     "456284c4bc4644ec824cad934213daf8": {
      "model_module": "@jupyter-widgets/controls",
      "model_module_version": "1.0.0",
      "model_name": "SliderStyleModel",
      "state": {
       "description_width": ""
      }
     },
     "467f910a730c4d6cbed22720b85af472": {
      "model_module": "@jupyter-widgets/controls",
      "model_module_version": "1.0.0",
      "model_name": "IntSliderModel",
      "state": {
       "description": "x",
       "layout": "IPY_MODEL_1e2b0a8d20b046b2b19d8fce885027c0",
       "min": -100,
       "style": "IPY_MODEL_5e2d2b3dedb841f68b4809b78f3067bb"
      }
     },
     "46cfffbf2dd84d38a01d790f34b90b10": {
      "model_module": "@jupyter-widgets/controls",
      "model_module_version": "1.0.0",
      "model_name": "FloatSliderModel",
      "state": {
       "description": "alpha",
       "layout": "IPY_MODEL_4a71e9c2b321456590da959057378edd",
       "max": 1,
       "step": 0.1,
       "style": "IPY_MODEL_5e87c4a6c0d2406b9793f388914a81aa",
       "value": 1
      }
     },
     "47b9f53a7bb8418bb7e23f5f8dc3a9b6": {
      "model_module": "@jupyter-widgets/base",
      "model_module_version": "1.0.0",
      "model_name": "LayoutModel",
      "state": {}
     },
     "482ec0dec1534e4f8ca47ad0b6e7f183": {
      "model_module": "@jupyter-widgets/controls",
      "model_module_version": "1.0.0",
      "model_name": "SliderStyleModel",
      "state": {
       "description_width": ""
      }
     },
     "48af8f7a8c244947bfafc0ef05f7b9b6": {
      "model_module": "@jupyter-widgets/controls",
      "model_module_version": "1.0.0",
      "model_name": "SliderStyleModel",
      "state": {
       "description_width": ""
      }
     },
     "48fc0c94c8ef41f488fdf2dd0fca7f59": {
      "model_module": "jp_proxy_widget",
      "model_module_version": "^0.3.4",
      "model_name": "JSProxyModel",
      "state": {
       "_model_module_version": "^0.3.4",
       "_send_counter": 2,
       "_view_module_version": "^0.3.4",
       "error_msg": "No error",
       "layout": "IPY_MODEL_e5198c63df6a4f98ad0c52b2aa2751f6",
       "rendered": true,
       "status": "Got results."
      }
     },
     "48fcb461f33e459bbc3d3f23a651adea": {
      "model_module": "@jupyter-widgets/base",
      "model_module_version": "1.0.0",
      "model_name": "LayoutModel",
      "state": {}
     },
     "48fd1af6dcd54b858b470952f5e20a3f": {
      "model_module": "@jupyter-widgets/controls",
      "model_module_version": "1.0.0",
      "model_name": "SliderStyleModel",
      "state": {
       "description_width": ""
      }
     },
     "490fd7622ece4312a5d26f75ddfb4245": {
      "model_module": "@jupyter-widgets/base",
      "model_module_version": "1.0.0",
      "model_name": "LayoutModel",
      "state": {}
     },
     "498065b088b64a16a84a6a13d6633ef1": {
      "model_module": "@jupyter-widgets/controls",
      "model_module_version": "1.0.0",
      "model_name": "IntSliderModel",
      "state": {
       "description": "blue",
       "layout": "IPY_MODEL_183b5a391e6e4b2cb51db0197fab2790",
       "max": 255,
       "style": "IPY_MODEL_94757874e4324feaab615dda6d7f01d1",
       "value": 134
      }
     },
     "4a71e9c2b321456590da959057378edd": {
      "model_module": "@jupyter-widgets/base",
      "model_module_version": "1.0.0",
      "model_name": "LayoutModel",
      "state": {}
     },
     "4aa5f589e1b7478dbf9a0f2260067363": {
      "model_module": "@jupyter-widgets/base",
      "model_module_version": "1.0.0",
      "model_name": "LayoutModel",
      "state": {}
     },
     "4b25c59894064cc8ae6544a6d9d773e1": {
      "model_module": "@jupyter-widgets/controls",
      "model_module_version": "1.0.0",
      "model_name": "SliderStyleModel",
      "state": {
       "description_width": ""
      }
     },
     "4b90b496c17e48db933de51566ada666": {
      "model_module": "@jupyter-widgets/controls",
      "model_module_version": "1.0.0",
      "model_name": "HTMLModel",
      "state": {
       "layout": "IPY_MODEL_52dd35c21fa147b5ab730c0b62c7c4d4",
       "style": "IPY_MODEL_e5a3b89a6f29427f8fb4de0aab04a10e",
       "value": "<img src=\"interactive_circle.png\" id=\"snapshot_id_3_1536246246688\"/>\n <div id=\"snapshot_id_4_1536246246688\">interactive_circle.png</div>"
      }
     },
     "4bc77836274047259dd6a53fc61a70f4": {
      "model_module": "@jupyter-widgets/controls",
      "model_module_version": "1.0.0",
      "model_name": "SliderStyleModel",
      "state": {
       "description_width": ""
      }
     },
     "4bfc39b7ad2b4dd2b03437294ae8a494": {
      "model_module": "jp_proxy_widget",
      "model_module_version": "^0.3.4",
      "model_name": "JSProxyModel",
      "state": {
       "_model_module_version": "^0.3.4",
       "_send_counter": 2,
       "_view_module_version": "^0.3.4",
       "error_msg": "No error",
       "layout": "IPY_MODEL_11effc9b4d684044bac4a61fa0eacaa7",
       "rendered": true,
       "status": "Got results."
      }
     },
     "4c48691f515c41d6b5f8c569a5708577": {
      "model_module": "@jupyter-widgets/controls",
      "model_module_version": "1.0.0",
      "model_name": "SliderStyleModel",
      "state": {
       "description_width": ""
      }
     },
     "4ced25d8025447b6a1bdc6d08ee778e4": {
      "model_module": "@jupyter-widgets/controls",
      "model_module_version": "1.0.0",
      "model_name": "IntSliderModel",
      "state": {
       "description": "green",
       "layout": "IPY_MODEL_a5f69e78401948b983d55ffeef11322c",
       "max": 255,
       "style": "IPY_MODEL_0ffacdeea28a4d518cd9b36addba4e47"
      }
     },
     "4d57ca66b9894897b8fe3d03c2c3460a": {
      "model_module": "@jupyter-widgets/controls",
      "model_module_version": "1.0.0",
      "model_name": "SliderStyleModel",
      "state": {
       "description_width": ""
      }
     },
     "4d7974b698f245e3b784f70761d959b8": {
      "model_module": "@jupyter-widgets/controls",
      "model_module_version": "1.0.0",
      "model_name": "IntSliderModel",
      "state": {
       "description": "blue",
       "layout": "IPY_MODEL_efa3bf782e794925a837c6159dd72847",
       "max": 255,
       "style": "IPY_MODEL_9f1f46c72a2e4d4ea894c49f2bb9e296",
       "value": 127
      }
     },
     "4d7dc592861040e481743ab21b7ca11e": {
      "model_module": "@jupyter-widgets/controls",
      "model_module_version": "1.0.0",
      "model_name": "VBoxModel",
      "state": {
       "children": [
        "IPY_MODEL_3ae80e42edc6492e9dc7fc09b1a1afb5",
        "IPY_MODEL_a06483f5d06e44038966140dbcfbed70"
       ],
       "layout": "IPY_MODEL_4aa5f589e1b7478dbf9a0f2260067363"
      }
     },
     "4dcdff024e914b58bb6b3468c4aa6ecb": {
      "model_module": "@jupyter-widgets/controls",
      "model_module_version": "1.0.0",
      "model_name": "TabModel",
      "state": {
       "_titles": {
        "0": "Canvas",
        "1": "Snapshot"
       },
       "children": [
        "IPY_MODEL_cf0f29811c1e4fe19a4da520a384bdb9",
        "IPY_MODEL_a0ce0e78cf2c45199ae9cc506964736f"
       ],
       "layout": "IPY_MODEL_0549ad3832a14c5eae86228413ea42ae"
      }
     },
     "4df9c4d1831d4dceb9ba1589c520bbde": {
      "model_module": "@jupyter-widgets/controls",
      "model_module_version": "1.0.0",
      "model_name": "SliderStyleModel",
      "state": {
       "description_width": ""
      }
     },
     "4e1d1a8733fc4cdbb4495a74bc300bd7": {
      "model_module": "@jupyter-widgets/controls",
      "model_module_version": "1.0.0",
      "model_name": "SliderStyleModel",
      "state": {
       "description_width": ""
      }
     },
     "4e85ca2ee6ce4dd8b293e0b42f3b4f56": {
      "model_module": "@jupyter-widgets/controls",
      "model_module_version": "1.0.0",
      "model_name": "SliderStyleModel",
      "state": {
       "description_width": ""
      }
     },
     "4ef993eb67774642bd48a4c780196768": {
      "model_module": "@jupyter-widgets/base",
      "model_module_version": "1.0.0",
      "model_name": "LayoutModel",
      "state": {}
     },
     "4f58712fcb3a4da788d882aa5a65d701": {
      "model_module": "@jupyter-widgets/base",
      "model_module_version": "1.0.0",
      "model_name": "LayoutModel",
      "state": {}
     },
     "4f95c3887cf847779cfdc721203b7ac7": {
      "model_module": "@jupyter-widgets/base",
      "model_module_version": "1.0.0",
      "model_name": "LayoutModel",
      "state": {}
     },
     "4fd3845a627b42dc8e304b676aa98450": {
      "model_module": "@jupyter-widgets/controls",
      "model_module_version": "1.0.0",
      "model_name": "SliderStyleModel",
      "state": {
       "description_width": ""
      }
     },
     "5027fd4f925642d9b412dd5309ce1860": {
      "model_module": "@jupyter-widgets/base",
      "model_module_version": "1.0.0",
      "model_name": "LayoutModel",
      "state": {}
     },
     "51e61da5c3f94f8f8472316bc4157c7b": {
      "model_module": "@jupyter-widgets/controls",
      "model_module_version": "1.0.0",
      "model_name": "SliderStyleModel",
      "state": {
       "description_width": ""
      }
     },
     "5219df53f7754cf7898e5c910facc49d": {
      "model_module": "@jupyter-widgets/controls",
      "model_module_version": "1.0.0",
      "model_name": "IntSliderModel",
      "state": {
       "description": "lineWidth",
       "layout": "IPY_MODEL_3f924d1212e94c4c98ebeff020b030f9",
       "max": 20,
       "style": "IPY_MODEL_41c6d7289a09447cae94c2eee94c6d89",
       "value": 7
      }
     },
     "52629508090d47fcb7b2be2b4a594e3d": {
      "model_module": "jp_proxy_widget",
      "model_module_version": "^0.3.4",
      "model_name": "JSProxyModel",
      "state": {
       "_model_module_version": "^0.3.4",
       "_send_counter": 623,
       "_view_module_version": "^0.3.4",
       "error_msg": "No error",
       "layout": "IPY_MODEL_f2477f9b611448a2a57f7b3770d3ed55",
       "rendered": true,
       "status": "Got results."
      }
     },
     "52dd35c21fa147b5ab730c0b62c7c4d4": {
      "model_module": "@jupyter-widgets/base",
      "model_module_version": "1.0.0",
      "model_name": "LayoutModel",
      "state": {}
     },
     "531ae58512f94b9998d8ed8759418349": {
      "model_module": "@jupyter-widgets/base",
      "model_module_version": "1.0.0",
      "model_name": "LayoutModel",
      "state": {}
     },
     "53486bd127fd45ae945f73df6e1153bf": {
      "model_module": "@jupyter-widgets/controls",
      "model_module_version": "1.0.0",
      "model_name": "IntSliderModel",
      "state": {
       "description": "green",
       "layout": "IPY_MODEL_6087dac426db4dbfab40b51f5b37985d",
       "max": 255,
       "style": "IPY_MODEL_37684bb7566c45bcac399dc568899113",
       "value": 127
      }
     },
     "53cd1dd2905b44ee9982f6164d4e3852": {
      "model_module": "@jupyter-widgets/controls",
      "model_module_version": "1.0.0",
      "model_name": "IntSliderModel",
      "state": {
       "description": "r",
       "layout": "IPY_MODEL_29b67f2c596b4499a78ef084a1fb1a9f",
       "style": "IPY_MODEL_8515f031c10a4329ab9ad88eb373fb8a",
       "value": 50
      }
     },
     "542e491ac39140828b2c8147565330df": {
      "model_module": "@jupyter-widgets/controls",
      "model_module_version": "1.0.0",
      "model_name": "TabModel",
      "state": {
       "_titles": {
        "0": "Canvas",
        "1": "Snapshot"
       },
       "children": [
        "IPY_MODEL_6296a7f088444181a50cb700bea90c66",
        "IPY_MODEL_4b90b496c17e48db933de51566ada666"
       ],
       "layout": "IPY_MODEL_1deb3f53ba704c21a8990d4c59f978f8"
      }
     },
     "550a6dacc3ce40c2b07a6891de9e866c": {
      "model_module": "@jupyter-widgets/controls",
      "model_module_version": "1.0.0",
      "model_name": "VBoxModel",
      "state": {
       "_dom_classes": [
        "widget-interact"
       ],
       "children": [
        "IPY_MODEL_f5e705c30fec4d3488ac3fec21ddaeb1",
        "IPY_MODEL_f2c5e3d7dc7647ee96d68f93cd678e5c",
        "IPY_MODEL_95ea660bf80940b1861c35dd8b29b0e3",
        "IPY_MODEL_b32814a3909546348d771146e2cc04a5",
        "IPY_MODEL_07cea71eb023485c9026b8bfedc33150",
        "IPY_MODEL_58f80e5ce64c45409874b29bff43175c",
        "IPY_MODEL_ea99362f266a4e77a7f42eb24a6c7d11",
        "IPY_MODEL_3abd04a8adb0482296dc8eeb01405aa2",
        "IPY_MODEL_962fd963b8a34b459690737165e2682b",
        "IPY_MODEL_16892d5ba53447568a8748308e7bbad8",
        "IPY_MODEL_7895d0318ecf4cc49eba0188682100b7",
        "IPY_MODEL_bd03f2dc0e314aee9395e440a86b480c"
       ],
       "layout": "IPY_MODEL_9e9a47a314ac40818e6a2ff7c16ae1aa"
      }
     },
     "55392b438df34f41831796518c710a1e": {
      "model_module": "@jupyter-widgets/base",
      "model_module_version": "1.0.0",
      "model_name": "LayoutModel",
      "state": {}
     },
     "55cef9dbc9314fb497d6d53b9550330d": {
      "model_module": "@jupyter-widgets/base",
      "model_module_version": "1.0.0",
      "model_name": "LayoutModel",
      "state": {}
     },
     "5731f9f3dadf4b07b25917e7bca255b6": {
      "model_module": "@jupyter-widgets/controls",
      "model_module_version": "1.0.0",
      "model_name": "IntSliderModel",
      "state": {
       "description": "red",
       "layout": "IPY_MODEL_11c5f59ec26b4c4da592ae8e89b38d47",
       "max": 255,
       "style": "IPY_MODEL_3b9f01bcdb4347a9938e7b1a24c95ad5",
       "value": 255
      }
     },
     "57379ef972a042bbbae4d66672bbbf49": {
      "model_module": "@jupyter-widgets/controls",
      "model_module_version": "1.0.0",
      "model_name": "FloatSliderModel",
      "state": {
       "description": "alpha",
       "layout": "IPY_MODEL_31055da1faf849179e57bac70925eb6e",
       "max": 1,
       "step": 0.1,
       "style": "IPY_MODEL_01635c761dc347cc8e40ffd3d802a919",
       "value": 1
      }
     },
     "577aedbb1d904c649c733aecd58d83db": {
      "model_module": "@jupyter-widgets/controls",
      "model_module_version": "1.0.0",
      "model_name": "SliderStyleModel",
      "state": {
       "description_width": ""
      }
     },
     "58f80e5ce64c45409874b29bff43175c": {
      "model_module": "@jupyter-widgets/controls",
      "model_module_version": "1.0.0",
      "model_name": "CheckboxModel",
      "state": {
       "description": "fill",
       "disabled": false,
       "layout": "IPY_MODEL_143b40abd0c74a17ad2101fc0641b2b3",
       "style": "IPY_MODEL_ead796fc3a1d4c3d8adb40e912cec8f2",
       "value": false
      }
     },
     "5a099e350c7a4ce5b1acf3961d49a60c": {
      "model_module": "@jupyter-widgets/controls",
      "model_module_version": "1.0.0",
      "model_name": "FloatSliderModel",
      "state": {
       "description": "arc",
       "layout": "IPY_MODEL_4392b306158b4b6bb331aea9b210afe8",
       "max": 6.283185307179586,
       "step": 0.1,
       "style": "IPY_MODEL_7934e4b314d04c60a45959b29c2a3350",
       "value": 6.2
      }
     },
     "5a37f347672e48bd8f2a78eaaaf41828": {
      "model_module": "@jupyter-widgets/controls",
      "model_module_version": "1.0.0",
      "model_name": "DescriptionStyleModel",
      "state": {
       "description_width": ""
      }
     },
     "5a3b78b492ae4dcdb14c792d743025ac": {
      "model_module": "@jupyter-widgets/base",
      "model_module_version": "1.0.0",
      "model_name": "LayoutModel",
      "state": {}
     },
     "5a8d6f46a8084d5e92434335feabb89c": {
      "model_module": "@jupyter-widgets/controls",
      "model_module_version": "1.0.0",
      "model_name": "IntSliderModel",
      "state": {
       "description": "x",
       "layout": "IPY_MODEL_19b4ed31efd644f989464e0e904b27fb",
       "min": -100,
       "style": "IPY_MODEL_2e34cd67022644ac94e51be481464a52"
      }
     },
     "5b041f78229d452f978c6a226f89bb2c": {
      "model_module": "@jupyter-widgets/controls",
      "model_module_version": "1.0.0",
      "model_name": "IntSliderModel",
      "state": {
       "description": "r",
       "layout": "IPY_MODEL_c051e60ad16e4262b6ba4ae9b9828076",
       "style": "IPY_MODEL_577aedbb1d904c649c733aecd58d83db",
       "value": 50
      }
     },
     "5b3fd46a23b04c3b8784d83d2ef292ac": {
      "model_module": "@jupyter-widgets/controls",
      "model_module_version": "1.0.0",
      "model_name": "FloatSliderModel",
      "state": {
       "description": "start",
       "layout": "IPY_MODEL_42ac1e9ba8d44f048a605cb200f0714d",
       "max": 6.283185307179586,
       "step": 0.1,
       "style": "IPY_MODEL_64325dbcb24f47be93ed8a9c8d3463f2",
       "value": 1.2
      }
     },
     "5b930436d2ec46a4bacd2d556fcd400f": {
      "model_module": "@jupyter-widgets/controls",
      "model_module_version": "1.0.0",
      "model_name": "SliderStyleModel",
      "state": {
       "description_width": ""
      }
     },
     "5bc86fe162074d7e9b337fe205a9f53c": {
      "model_module": "@jupyter-widgets/base",
      "model_module_version": "1.0.0",
      "model_name": "LayoutModel",
      "state": {}
     },
     "5be64bc9a28c4098989690d44ea350ac": {
      "model_module": "@jupyter-widgets/base",
      "model_module_version": "1.0.0",
      "model_name": "LayoutModel",
      "state": {}
     },
     "5c80e166e06a4cc9a8fbac324adbb7ac": {
      "model_module": "@jupyter-widgets/output",
      "model_module_version": "1.0.0",
      "model_name": "OutputModel",
      "state": {
       "layout": "IPY_MODEL_0471fb02c3b1445cb643143b3131ff0e"
      }
     },
     "5ca3f726dcba4713a8f372a5c8bce38d": {
      "model_module": "@jupyter-widgets/base",
      "model_module_version": "1.0.0",
      "model_name": "LayoutModel",
      "state": {}
     },
     "5cae9cd0839d460f8c9c083ef5787246": {
      "model_module": "jp_proxy_widget",
      "model_module_version": "^0.3.4",
      "model_name": "JSProxyModel",
      "state": {
       "_model_module_version": "^0.3.4",
       "_send_counter": 2,
       "_view_module_version": "^0.3.4",
       "error_msg": "No error",
       "layout": "IPY_MODEL_278761cef79a4074836119b8b0222f88",
       "rendered": true,
       "status": "Got results."
      }
     },
     "5caef0a5004e4315a212fb9303d9ab20": {
      "model_module": "@jupyter-widgets/base",
      "model_module_version": "1.0.0",
      "model_name": "LayoutModel",
      "state": {}
     },
     "5ce051275ef54c379c8c113ad2438a21": {
      "model_module": "@jupyter-widgets/base",
      "model_module_version": "1.0.0",
      "model_name": "LayoutModel",
      "state": {}
     },
     "5d69ed3ff2f74b48a32ccf4497d84cd5": {
      "model_module": "@jupyter-widgets/base",
      "model_module_version": "1.0.0",
      "model_name": "LayoutModel",
      "state": {}
     },
     "5e2d2b3dedb841f68b4809b78f3067bb": {
      "model_module": "@jupyter-widgets/controls",
      "model_module_version": "1.0.0",
      "model_name": "SliderStyleModel",
      "state": {
       "description_width": ""
      }
     },
     "5e31e23242f54e538493ed95103f0559": {
      "model_module": "@jupyter-widgets/base",
      "model_module_version": "1.0.0",
      "model_name": "LayoutModel",
      "state": {}
     },
     "5e87c4a6c0d2406b9793f388914a81aa": {
      "model_module": "@jupyter-widgets/controls",
      "model_module_version": "1.0.0",
      "model_name": "SliderStyleModel",
      "state": {
       "description_width": ""
      }
     },
     "5e8de4973518427095d773ea3eaa2419": {
      "model_module": "@jupyter-widgets/controls",
      "model_module_version": "1.0.0",
      "model_name": "SliderStyleModel",
      "state": {
       "description_width": ""
      }
     },
     "5f605a3c0bf94dd7b50caaa65efc0ffa": {
      "model_module": "@jupyter-widgets/controls",
      "model_module_version": "1.0.0",
      "model_name": "FloatSliderModel",
      "state": {
       "description": "alpha",
       "layout": "IPY_MODEL_24527cb028fc4366a60ff6d4e3deb435",
       "max": 1,
       "step": 0.1,
       "style": "IPY_MODEL_5b930436d2ec46a4bacd2d556fcd400f",
       "value": 0.5
      }
     },
     "5fd66191b18246f8ace0c8f2d90afa26": {
      "model_module": "@jupyter-widgets/controls",
      "model_module_version": "1.0.0",
      "model_name": "IntSliderModel",
      "state": {
       "description": "red",
       "layout": "IPY_MODEL_b0c9a842d4af4dda9c0362edb30fdd31",
       "max": 255,
       "style": "IPY_MODEL_8f049360ac2e4f72bd1d86054e5c7d7c",
       "value": 127
      }
     },
     "5fdc71e79e244e9ba11069045976f111": {
      "model_module": "@jupyter-widgets/controls",
      "model_module_version": "1.0.0",
      "model_name": "IntSliderModel",
      "state": {
       "description": "blue",
       "layout": "IPY_MODEL_f36a8890b4a644d58fbd821584a36883",
       "max": 255,
       "style": "IPY_MODEL_d795fc1c655a4c2983521394b5ed6597",
       "value": 255
      }
     },
     "6013faeeb3f54e0c92e71fa3dd152aa4": {
      "model_module": "@jupyter-widgets/controls",
      "model_module_version": "1.0.0",
      "model_name": "HTMLModel",
      "state": {
       "layout": "IPY_MODEL_663526034e0a4bca85bbdcac8ba872b7",
       "style": "IPY_MODEL_e08df3d34c844af6ad6882c76d7c9cfd",
       "value": "<img src=\"interactive_circle.png\" id=\"snapshot_id_5_1536246292173\"/>\n <div id=\"snapshot_id_6_1536246292173\">interactive_circle.png</div>"
      }
     },
     "6071918863be40938710b88abcde2ba4": {
      "model_module": "@jupyter-widgets/base",
      "model_module_version": "1.0.0",
      "model_name": "LayoutModel",
      "state": {}
     },
     "6087dac426db4dbfab40b51f5b37985d": {
      "model_module": "@jupyter-widgets/base",
      "model_module_version": "1.0.0",
      "model_name": "LayoutModel",
      "state": {}
     },
     "60b5b862ab7e4d7aaa8ce24191ab6e24": {
      "model_module": "jp_proxy_widget",
      "model_module_version": "^0.3.4",
      "model_name": "JSProxyModel",
      "state": {
       "_model_module_version": "^0.3.4",
       "_send_counter": 1093,
       "_view_module_version": "^0.3.4",
       "error_msg": "Error: bad offsets",
       "layout": "IPY_MODEL_0a0bfbafe787495bab6bda6af80167e2",
       "rendered": true,
       "status": "Got results."
      }
     },
     "60d1a15b07c54779bd30e5c26d2f0529": {
      "model_module": "@jupyter-widgets/base",
      "model_module_version": "1.0.0",
      "model_name": "LayoutModel",
      "state": {}
     },
     "60ed7062a70346a09229b1ddc629aeab": {
      "model_module": "@jupyter-widgets/controls",
      "model_module_version": "1.0.0",
      "model_name": "VBoxModel",
      "state": {
       "_dom_classes": [
        "widget-interact"
       ],
       "children": [
        "IPY_MODEL_caaeac4ce9754a619d66477a6ed902e9",
        "IPY_MODEL_6738d0336ebf44b29b1582928b866f84",
        "IPY_MODEL_907293990c2344b1a81dbe1185a981b4",
        "IPY_MODEL_5731f9f3dadf4b07b25917e7bca255b6",
        "IPY_MODEL_3a3797311afe4614813177f03d4c72ac",
        "IPY_MODEL_19567e63837e48fa8acc7fe59f47ac91",
        "IPY_MODEL_8cccb48a9ff3463fba96100c4e6260b2",
        "IPY_MODEL_5c80e166e06a4cc9a8fbac324adbb7ac"
       ],
       "layout": "IPY_MODEL_c5b2a34cb7294d459365381e3e13c8e6"
      }
     },
     "614fcffc8f4c44b9b526a00215b15911": {
      "model_module": "@jupyter-widgets/controls",
      "model_module_version": "1.0.0",
      "model_name": "TabModel",
      "state": {
       "_titles": {
        "0": "Canvas",
        "1": "Snapshot"
       },
       "children": [
        "IPY_MODEL_88c822b822ac456c8c9a541824b95360",
        "IPY_MODEL_068449d6e84d47ba93bee86a28fc050c"
       ],
       "layout": "IPY_MODEL_c3852c9ce898496996a7c217a28f91c2"
      }
     },
     "61ca7862a5f44ae099da9334ffa49491": {
      "model_module": "@jupyter-widgets/controls",
      "model_module_version": "1.0.0",
      "model_name": "SliderStyleModel",
      "state": {
       "description_width": ""
      }
     },
     "61cd665651c045da97a39f18e32b8b97": {
      "model_module": "@jupyter-widgets/base",
      "model_module_version": "1.0.0",
      "model_name": "LayoutModel",
      "state": {}
     },
     "625966697a1141b28f05c109867134e7": {
      "model_module": "@jupyter-widgets/controls",
      "model_module_version": "1.0.0",
      "model_name": "VBoxModel",
      "state": {
       "_dom_classes": [
        "widget-interact"
       ],
       "children": [
        "IPY_MODEL_9749d64303884380a8ba5b7e805f1f8c",
        "IPY_MODEL_c94108fed8b94ec986c4f5efca66d8db",
        "IPY_MODEL_c36448c0afdc4b62ad8aab3841015e5f",
        "IPY_MODEL_63ccc048b2494e598e3315472f0a492b",
        "IPY_MODEL_de10f80fee2d4343aa67a300996fe8c8",
        "IPY_MODEL_6c2b33eb9cf94246b596523e217346c4",
        "IPY_MODEL_c04582c3823e45b7ba5b049db3e068d1",
        "IPY_MODEL_eb712f6e5a7240ecb3b25dbdbcbf3ad2"
       ],
       "layout": "IPY_MODEL_55cef9dbc9314fb497d6d53b9550330d"
      }
     },
     "6296a7f088444181a50cb700bea90c66": {
      "model_module": "@jupyter-widgets/controls",
      "model_module_version": "1.0.0",
      "model_name": "VBoxModel",
      "state": {
       "children": [
        "IPY_MODEL_da1ebfdf11064cc9863ace7d1f976301",
        "IPY_MODEL_48fc0c94c8ef41f488fdf2dd0fca7f59"
       ],
       "layout": "IPY_MODEL_6642b2d6e5a64d84a56634ba14b993ec"
      }
     },
     "636486f7fe7c44dea4277b35dd6c5909": {
      "model_module": "@jupyter-widgets/controls",
      "model_module_version": "1.0.0",
      "model_name": "IntSliderModel",
      "state": {
       "description": "red",
       "layout": "IPY_MODEL_6c0912c308e246499a574ab437eafc37",
       "max": 255,
       "style": "IPY_MODEL_0094cf76d10c4797877c2acdb1b9b395",
       "value": 127
      }
     },
     "636f6b1c623942b9988c52e27b5a994b": {
      "model_module": "@jupyter-widgets/base",
      "model_module_version": "1.0.0",
      "model_name": "LayoutModel",
      "state": {}
     },
     "63ccc048b2494e598e3315472f0a492b": {
      "model_module": "@jupyter-widgets/controls",
      "model_module_version": "1.0.0",
      "model_name": "IntSliderModel",
      "state": {
       "description": "red",
       "layout": "IPY_MODEL_7d5476f8bf6b4f0992bbff89a775de6c",
       "max": 255,
       "style": "IPY_MODEL_267d05ac300a4e71a7f705e0e60043c8",
       "value": 127
      }
     },
     "64325dbcb24f47be93ed8a9c8d3463f2": {
      "model_module": "@jupyter-widgets/controls",
      "model_module_version": "1.0.0",
      "model_name": "SliderStyleModel",
      "state": {
       "description_width": ""
      }
     },
     "645127a3289045d98b16205088beb533": {
      "model_module": "jp_proxy_widget",
      "model_module_version": "^0.3.4",
      "model_name": "JSProxyModel",
      "state": {
       "_model_module_version": "^0.3.4",
       "_send_counter": 2,
       "_view_module_version": "^0.3.4",
       "error_msg": "No error",
       "layout": "IPY_MODEL_c93de285d2c343a0bba8a56cbfc7cf3b",
       "rendered": true,
       "status": "Got results."
      }
     },
     "651e7c1fd81c44279ea33f0e4bb198f1": {
      "model_module": "@jupyter-widgets/base",
      "model_module_version": "1.0.0",
      "model_name": "LayoutModel",
      "state": {}
     },
     "6586fcab46e647e0b8a1d8d6e9ebd160": {
      "model_module": "@jupyter-widgets/controls",
      "model_module_version": "1.0.0",
      "model_name": "IntSliderModel",
      "state": {
       "description": "blue",
       "layout": "IPY_MODEL_e4e2367e30d84ba4990d16528a0fbb9b",
       "max": 255,
       "style": "IPY_MODEL_907f381ceec84cf3b6aaa2f8cfde80be",
       "value": 127
      }
     },
     "65a97635233c46f3b48e9f9d21f20393": {
      "model_module": "jp_proxy_widget",
      "model_module_version": "^0.3.4",
      "model_name": "JSProxyModel",
      "state": {
       "_model_module_version": "^0.3.4",
       "_send_counter": 2,
       "_view_module_version": "^0.3.4",
       "error_msg": "No error",
       "layout": "IPY_MODEL_b67e2b31d2c4419ca6d200ced4f2225b",
       "rendered": true,
       "status": "call back to <function callback_function at 0x111911de8>"
      }
     },
     "663526034e0a4bca85bbdcac8ba872b7": {
      "model_module": "@jupyter-widgets/base",
      "model_module_version": "1.0.0",
      "model_name": "LayoutModel",
      "state": {}
     },
     "6642b2d6e5a64d84a56634ba14b993ec": {
      "model_module": "@jupyter-widgets/base",
      "model_module_version": "1.0.0",
      "model_name": "LayoutModel",
      "state": {}
     },
     "668306d55d53408ba65f75f7bccc1c92": {
      "model_module": "@jupyter-widgets/controls",
      "model_module_version": "1.0.0",
      "model_name": "FloatSliderModel",
      "state": {
       "description": "alpha",
       "layout": "IPY_MODEL_413e6e8d43ff4406811d3af95680b0b1",
       "max": 1,
       "step": 0.1,
       "style": "IPY_MODEL_ae662bb392a049859ac33368a1e22d7c",
       "value": 0.5
      }
     },
     "670003f8aa1449c0b6448f2ff3c95b4e": {
      "model_module": "@jupyter-widgets/base",
      "model_module_version": "1.0.0",
      "model_name": "LayoutModel",
      "state": {}
     },
     "670124ed91374563b12df1fd5c0e8836": {
      "model_module": "@jupyter-widgets/controls",
      "model_module_version": "1.0.0",
      "model_name": "FloatSliderModel",
      "state": {
       "description": "start",
       "layout": "IPY_MODEL_3bd4fdef432e484697612a1fd266d763",
       "max": 6.283185307179586,
       "step": 0.1,
       "style": "IPY_MODEL_fad4edcbbed241e3894fee5b2bc15c4a",
       "value": 3.4
      }
     },
     "67145fa1e2f84885a2f0369c931d1147": {
      "model_module": "@jupyter-widgets/controls",
      "model_module_version": "1.0.0",
      "model_name": "IntSliderModel",
      "state": {
       "description": "y",
       "layout": "IPY_MODEL_027486edd7e64a2284c146b7ea5826ca",
       "min": -100,
       "style": "IPY_MODEL_cce6bbd9517b44bfa945dc1891d45351"
      }
     },
     "6738d0336ebf44b29b1582928b866f84": {
      "model_module": "@jupyter-widgets/controls",
      "model_module_version": "1.0.0",
      "model_name": "IntSliderModel",
      "state": {
       "description": "y",
       "layout": "IPY_MODEL_3e3e9b985eb14c4c86747feb32453a8a",
       "min": -100,
       "style": "IPY_MODEL_c25afe940e6f4d84a4f6b11c578b572f"
      }
     },
     "675d31bd190f44cfaec15670abe28f69": {
      "model_module": "@jupyter-widgets/controls",
      "model_module_version": "1.0.0",
      "model_name": "IntSliderModel",
      "state": {
       "description": "y",
       "layout": "IPY_MODEL_edd2847043b649489887a4b779bd688a",
       "min": -100,
       "style": "IPY_MODEL_178ffe95edb04dedaa954257a5a89f9c"
      }
     },
     "67b3c86868704cf9b66b2fc15b3dae54": {
      "model_module": "@jupyter-widgets/output",
      "model_module_version": "1.0.0",
      "model_name": "OutputModel",
      "state": {
       "layout": "IPY_MODEL_b01e7c425dbb46bf8e031f8138807607"
      }
     },
     "67cff949f35c4797b3898bc2af60804a": {
      "model_module": "@jupyter-widgets/controls",
      "model_module_version": "1.0.0",
      "model_name": "SliderStyleModel",
      "state": {
       "description_width": ""
      }
     },
     "67d57405fa244a00a3a8ccd75b144aee": {
      "model_module": "@jupyter-widgets/base",
      "model_module_version": "1.0.0",
      "model_name": "LayoutModel",
      "state": {}
     },
     "685d33cc6c0d4570ae478d344c6b31ac": {
      "model_module": "jp_proxy_widget",
      "model_module_version": "^0.3.4",
      "model_name": "JSProxyModel",
      "state": {
       "_model_module_version": "^0.3.4",
       "_send_counter": 2,
       "_view_module_version": "^0.3.4",
       "error_msg": "No error",
       "layout": "IPY_MODEL_47b9f53a7bb8418bb7e23f5f8dc3a9b6",
       "rendered": true,
       "status": "call back to <function callback_function at 0x11756acf8>"
      }
     },
     "68a5d472c808460f88575659d5105c02": {
      "model_module": "@jupyter-widgets/base",
      "model_module_version": "1.0.0",
      "model_name": "LayoutModel",
      "state": {}
     },
     "694e5677715948819da2886f6813d1bd": {
      "model_module": "@jupyter-widgets/base",
      "model_module_version": "1.0.0",
      "model_name": "LayoutModel",
      "state": {}
     },
     "6984b119343d445d94d0a80eb550ecb3": {
      "model_module": "@jupyter-widgets/base",
      "model_module_version": "1.0.0",
      "model_name": "LayoutModel",
      "state": {}
     },
     "6994decc37844a4fa01e66588fd7e85a": {
      "model_module": "@jupyter-widgets/controls",
      "model_module_version": "1.0.0",
      "model_name": "SliderStyleModel",
      "state": {
       "description_width": ""
      }
     },
     "6af12d36ec524d2a9f93d40d8180a1f6": {
      "model_module": "@jupyter-widgets/controls",
      "model_module_version": "1.0.0",
      "model_name": "SliderStyleModel",
      "state": {
       "description_width": ""
      }
     },
     "6b8599e059314d8daf65fd432b507481": {
      "model_module": "@jupyter-widgets/controls",
      "model_module_version": "1.0.0",
      "model_name": "SliderStyleModel",
      "state": {
       "description_width": ""
      }
     },
     "6b8810edb85f48f598067d897842dee2": {
      "model_module": "@jupyter-widgets/base",
      "model_module_version": "1.0.0",
      "model_name": "LayoutModel",
      "state": {}
     },
     "6bcdaa4b5c6a45e7821fcb8b29e2f51a": {
      "model_module": "@jupyter-widgets/base",
      "model_module_version": "1.0.0",
      "model_name": "LayoutModel",
      "state": {}
     },
     "6be51e8baa3d4e25bfc3f484503e6b55": {
      "model_module": "@jupyter-widgets/controls",
      "model_module_version": "1.0.0",
      "model_name": "IntSliderModel",
      "state": {
       "description": "blue",
       "layout": "IPY_MODEL_2bdf84633aae44ac9767292958e6b60b",
       "max": 255,
       "style": "IPY_MODEL_dae6ec53ddb742848f39962af1172ebe",
       "value": 127
      }
     },
     "6c0912c308e246499a574ab437eafc37": {
      "model_module": "@jupyter-widgets/base",
      "model_module_version": "1.0.0",
      "model_name": "LayoutModel",
      "state": {}
     },
     "6c2b33eb9cf94246b596523e217346c4": {
      "model_module": "@jupyter-widgets/controls",
      "model_module_version": "1.0.0",
      "model_name": "IntSliderModel",
      "state": {
       "description": "blue",
       "layout": "IPY_MODEL_80e542f23d584f8eb8a698eea1891413",
       "max": 255,
       "style": "IPY_MODEL_4c48691f515c41d6b5f8c569a5708577",
       "value": 127
      }
     },
     "6c66db1765cd453caea29960e7ceff8e": {
      "model_module": "@jupyter-widgets/controls",
      "model_module_version": "1.0.0",
      "model_name": "CheckboxModel",
      "state": {
       "description": "fill",
       "disabled": false,
       "layout": "IPY_MODEL_11725c45809344a4abd493179511a0f6",
       "style": "IPY_MODEL_a5af4789865d49cd80c598c65411191c",
       "value": false
      }
     },
     "6cf05933c68e494ba09c4a2b56585d3f": {
      "model_module": "@jupyter-widgets/base",
      "model_module_version": "1.0.0",
      "model_name": "LayoutModel",
      "state": {}
     },
     "6d4038e0eb584952b59dad2d5220fbe4": {
      "model_module": "@jupyter-widgets/controls",
      "model_module_version": "1.0.0",
      "model_name": "HTMLModel",
      "state": {
       "layout": "IPY_MODEL_ff5bc05f5fb24d5486365803f5ef211b",
       "style": "IPY_MODEL_e7a5af3f61d64513beb57f80d97b278d",
       "value": "<img src=\"interactive_circle.png\" id=\"snapshot_id_7_1536246314821\"/>\n <div id=\"snapshot_id_8_1536246314821\">interactive_circle.png</div>"
      }
     },
     "6d4babb2a84444899740d58c0f97d7d5": {
      "model_module": "@jupyter-widgets/base",
      "model_module_version": "1.0.0",
      "model_name": "LayoutModel",
      "state": {}
     },
     "6d53b273f7614a95aa03f7fd42cd1953": {
      "model_module": "@jupyter-widgets/controls",
      "model_module_version": "1.0.0",
      "model_name": "SliderStyleModel",
      "state": {
       "description_width": ""
      }
     },
     "6e1d41b1faa4426fbbfce1ec9a66f5ce": {
      "model_module": "@jupyter-widgets/base",
      "model_module_version": "1.0.0",
      "model_name": "LayoutModel",
      "state": {}
     },
     "6eaf26a552f545f6aaf69bf06451f115": {
      "model_module": "@jupyter-widgets/controls",
      "model_module_version": "1.0.0",
      "model_name": "TabModel",
      "state": {
       "_titles": {
        "0": "Canvas",
        "1": "Snapshot"
       },
       "children": [
        "IPY_MODEL_d3f1fa849def4623a855a1c53a27eb78",
        "IPY_MODEL_d03f96aa10e64b6c8138092e035a2900"
       ],
       "layout": "IPY_MODEL_3a2209d82a8c428a9e1090bedc264712"
      }
     },
     "6f03a2c8f2ad465fa08d9a3cd0476721": {
      "model_module": "@jupyter-widgets/controls",
      "model_module_version": "1.0.0",
      "model_name": "SliderStyleModel",
      "state": {
       "description_width": ""
      }
     },
     "6f15dead747d4fb5bd6870c4537e1f5f": {
      "model_module": "@jupyter-widgets/base",
      "model_module_version": "1.0.0",
      "model_name": "LayoutModel",
      "state": {}
     },
     "6f24f35404984892b1be42462ad04b72": {
      "model_module": "@jupyter-widgets/base",
      "model_module_version": "1.0.0",
      "model_name": "LayoutModel",
      "state": {}
     },
     "6f97f3e3f5374e53acd8d0d2e0a070f6": {
      "model_module": "@jupyter-widgets/controls",
      "model_module_version": "1.0.0",
      "model_name": "TabModel",
      "state": {
       "_titles": {
        "0": "Canvas",
        "1": "Snapshot"
       },
       "children": [
        "IPY_MODEL_4d7dc592861040e481743ab21b7ca11e",
        "IPY_MODEL_c9bb937b54294cc3ace97fef6e8725e4"
       ],
       "layout": "IPY_MODEL_490fd7622ece4312a5d26f75ddfb4245",
       "selected_index": 1
      }
     },
     "711a1218934c420086dbd7d1e0213641": {
      "model_module": "@jupyter-widgets/controls",
      "model_module_version": "1.0.0",
      "model_name": "IntSliderModel",
      "state": {
       "description": "blue",
       "layout": "IPY_MODEL_db0ce166b6924696a705aee247ce77a0",
       "max": 255,
       "style": "IPY_MODEL_a5736efe026941f5b28d682dca5eb4ae",
       "value": 255
      }
     },
     "716d22fdd9264a66aff6b4d335d77b12": {
      "model_module": "@jupyter-widgets/base",
      "model_module_version": "1.0.0",
      "model_name": "LayoutModel",
      "state": {}
     },
     "7261fd9657c34e6886f4a75cdc18d33f": {
      "model_module": "@jupyter-widgets/output",
      "model_module_version": "1.0.0",
      "model_name": "OutputModel",
      "state": {
       "layout": "IPY_MODEL_0a39ab45b1af48b9a7f735df24b7b659"
      }
     },
     "726f550660b849dd8934676e66b138d7": {
      "model_module": "@jupyter-widgets/base",
      "model_module_version": "1.0.0",
      "model_name": "LayoutModel",
      "state": {}
     },
     "735c58b34315471e962534256a552196": {
      "model_module": "@jupyter-widgets/controls",
      "model_module_version": "1.0.0",
      "model_name": "IntSliderModel",
      "state": {
       "description": "red",
       "layout": "IPY_MODEL_bc4a9abaf51a47fab5340a5b1c7be71f",
       "max": 255,
       "style": "IPY_MODEL_0d65c9f8b8cd4c278877f04bb963daea",
       "value": 127
      }
     },
     "73ef9fac00c34fbba2d4679318de8790": {
      "model_module": "@jupyter-widgets/controls",
      "model_module_version": "1.0.0",
      "model_name": "SliderStyleModel",
      "state": {
       "description_width": ""
      }
     },
     "7432f63598da477ba358388b5f887995": {
      "model_module": "@jupyter-widgets/base",
      "model_module_version": "1.0.0",
      "model_name": "LayoutModel",
      "state": {}
     },
     "74568ab4fb83449d93eb164164743d9d": {
      "model_module": "@jupyter-widgets/controls",
      "model_module_version": "1.0.0",
      "model_name": "TabModel",
      "state": {
       "_titles": {
        "0": "Canvas",
        "1": "Snapshot"
       },
       "children": [
        "IPY_MODEL_2a771ba2332947638e2011cc23b498b3",
        "IPY_MODEL_fc8459e7d59548afb0a8384995efeeca"
       ],
       "layout": "IPY_MODEL_f0de5a912e24406d96588632a574fd8c"
      }
     },
     "74b2742b1bfc45aca3cb643243834a8c": {
      "model_module": "@jupyter-widgets/base",
      "model_module_version": "1.0.0",
      "model_name": "LayoutModel",
      "state": {}
     },
     "74d9892fee73442e810eb9d810a14681": {
      "model_module": "@jupyter-widgets/controls",
      "model_module_version": "1.0.0",
      "model_name": "IntSliderModel",
      "state": {
       "description": "y",
       "layout": "IPY_MODEL_f9d4de99477a466d8dfd1d60b7f67cb7",
       "min": -100,
       "style": "IPY_MODEL_61ca7862a5f44ae099da9334ffa49491"
      }
     },
     "74ea6cc38ac2424fb12021dfde5a4e57": {
      "model_module": "@jupyter-widgets/base",
      "model_module_version": "1.0.0",
      "model_name": "LayoutModel",
      "state": {}
     },
     "74faef74215548369eb533fd4e826347": {
      "model_module": "@jupyter-widgets/base",
      "model_module_version": "1.0.0",
      "model_name": "LayoutModel",
      "state": {}
     },
     "75394f37115740298c75c9715193030f": {
      "model_module": "@jupyter-widgets/base",
      "model_module_version": "1.0.0",
      "model_name": "LayoutModel",
      "state": {}
     },
     "753b63c2122c4b64950abbbe0956daf3": {
      "model_module": "@jupyter-widgets/controls",
      "model_module_version": "1.0.0",
      "model_name": "VBoxModel",
      "state": {
       "children": [
        "IPY_MODEL_3e367bf33f1047dfbc03f16555494f9c",
        "IPY_MODEL_351cad72bcaf4b9a8abf332b64dbbb8b"
       ],
       "layout": "IPY_MODEL_5e31e23242f54e538493ed95103f0559"
      }
     },
     "75b8407b3a7d47b2b2bf8c3687d77742": {
      "model_module": "@jupyter-widgets/base",
      "model_module_version": "1.0.0",
      "model_name": "LayoutModel",
      "state": {}
     },
     "75da1847826641b79ba87f9abd2867de": {
      "model_module": "@jupyter-widgets/controls",
      "model_module_version": "1.0.0",
      "model_name": "FloatSliderModel",
      "state": {
       "description": "alpha",
       "layout": "IPY_MODEL_55392b438df34f41831796518c710a1e",
       "max": 1,
       "step": 0.1,
       "style": "IPY_MODEL_960b8aa072264d4cbd33e16a82c3b576",
       "value": 0.5
      }
     },
     "761ec6e88079411bb17eb4433a854d69": {
      "model_module": "@jupyter-widgets/controls",
      "model_module_version": "1.0.0",
      "model_name": "DescriptionStyleModel",
      "state": {
       "description_width": ""
      }
     },
     "76812d39075f496fa20b7e7875cc60cb": {
      "model_module": "@jupyter-widgets/base",
      "model_module_version": "1.0.0",
      "model_name": "LayoutModel",
      "state": {}
     },
     "76dc543a17bd4d49a495b03b1bfa7ef8": {
      "model_module": "@jupyter-widgets/controls",
      "model_module_version": "1.0.0",
      "model_name": "SliderStyleModel",
      "state": {
       "description_width": ""
      }
     },
     "77962c1ae5024ff4a70e652ffbb1096c": {
      "model_module": "@jupyter-widgets/base",
      "model_module_version": "1.0.0",
      "model_name": "LayoutModel",
      "state": {}
     },
     "77c37a70d686438abda8ceb2dcf1a517": {
      "model_module": "@jupyter-widgets/base",
      "model_module_version": "1.0.0",
      "model_name": "LayoutModel",
      "state": {}
     },
     "77fcaa89ee7249ab9168e43a8cba7db1": {
      "model_module": "@jupyter-widgets/base",
      "model_module_version": "1.0.0",
      "model_name": "LayoutModel",
      "state": {}
     },
     "78733a24202b44f3b50528af4ab33b95": {
      "model_module": "@jupyter-widgets/base",
      "model_module_version": "1.0.0",
      "model_name": "LayoutModel",
      "state": {}
     },
     "788bd8e238b24981aa738bfa96547882": {
      "model_module": "@jupyter-widgets/controls",
      "model_module_version": "1.0.0",
      "model_name": "HTMLModel",
      "state": {
       "layout": "IPY_MODEL_9c4d307bd36a43ecbebe3b532825a22d",
       "style": "IPY_MODEL_a7a5c7fbf4eb41b28a7670088c55803e",
       "value": "<img src=\"interactive_circle.png\" id=\"snapshot_id_17_1536246705666\"/>\n <div id=\"snapshot_id_18_1536246705666\">interactive_circle.png</div>"
      }
     },
     "7895d0318ecf4cc49eba0188682100b7": {
      "model_module": "@jupyter-widgets/controls",
      "model_module_version": "1.0.0",
      "model_name": "FloatSliderModel",
      "state": {
       "description": "alpha",
       "layout": "IPY_MODEL_dbba1e826ae04c4ca554235ac52af713",
       "max": 1,
       "step": 0.1,
       "style": "IPY_MODEL_f8df1b22de074004a55d08cfec2a9777",
       "value": 1
      }
     },
     "78a36bc249644c3abc87b50dc88506bb": {
      "model_module": "jp_proxy_widget",
      "model_module_version": "^0.3.4",
      "model_name": "JSProxyModel",
      "state": {
       "_model_module_version": "^0.3.4",
       "_send_counter": 6,
       "_view_module_version": "^0.3.4",
       "error_msg": "No error",
       "layout": "IPY_MODEL_d62fd1b878a24442ba33a29738dac5e8",
       "rendered": true,
       "status": "Got results."
      }
     },
     "7934e4b314d04c60a45959b29c2a3350": {
      "model_module": "@jupyter-widgets/controls",
      "model_module_version": "1.0.0",
      "model_name": "SliderStyleModel",
      "state": {
       "description_width": ""
      }
     },
     "7abb52453fb04d0087ae7856d04f0512": {
      "model_module": "@jupyter-widgets/controls",
      "model_module_version": "1.0.0",
      "model_name": "IntSliderModel",
      "state": {
       "description": "x",
       "layout": "IPY_MODEL_8222d1ae499f47598b52646611036ddd",
       "min": -100,
       "style": "IPY_MODEL_26bebf5448154bd4b302375d200cc359",
       "value": 23
      }
     },
     "7b166f5e9d214bc3a7a8d21bcfde82de": {
      "model_module": "@jupyter-widgets/base",
      "model_module_version": "1.0.0",
      "model_name": "LayoutModel",
      "state": {}
     },
     "7b7d161f386e4e9caad61d54ef813dec": {
      "model_module": "@jupyter-widgets/controls",
      "model_module_version": "1.0.0",
      "model_name": "SliderStyleModel",
      "state": {
       "description_width": ""
      }
     },
     "7bbcb409e9284b17bf0993b8c1a7121f": {
      "model_module": "@jupyter-widgets/base",
      "model_module_version": "1.0.0",
      "model_name": "LayoutModel",
      "state": {}
     },
     "7d5476f8bf6b4f0992bbff89a775de6c": {
      "model_module": "@jupyter-widgets/base",
      "model_module_version": "1.0.0",
      "model_name": "LayoutModel",
      "state": {}
     },
     "7dcfd29da0aa4e149d06378de6474f21": {
      "model_module": "@jupyter-widgets/base",
      "model_module_version": "1.0.0",
      "model_name": "LayoutModel",
      "state": {}
     },
     "7e0639a0150e4c069207dc587e7c9aa9": {
      "model_module": "@jupyter-widgets/controls",
      "model_module_version": "1.0.0",
      "model_name": "VBoxModel",
      "state": {
       "_dom_classes": [
        "widget-interact"
       ],
       "children": [
        "IPY_MODEL_84f194b01c7d4947870a3768583b7eda",
        "IPY_MODEL_f6b47a1edadb42349590fe308656846d",
        "IPY_MODEL_2ee7cc21f0c14506b963356870175365",
        "IPY_MODEL_954dbf7a8672499abc2e626af4121e9d",
        "IPY_MODEL_2176e153306d4c2f97fec51cb7966a91",
        "IPY_MODEL_3937387cd47f47d4bcdf5afaba9058b2",
        "IPY_MODEL_eed400e9520c4ff5bf3a79899ec94a74",
        "IPY_MODEL_3e08496c5a814d1fb64c034a3b7731f1",
        "IPY_MODEL_f1561fefefa14c829ed03553534205e2",
        "IPY_MODEL_711a1218934c420086dbd7d1e0213641",
        "IPY_MODEL_c0bf9646213642e3a7606a9101d27e3a",
        "IPY_MODEL_3e0f8127177d425586eb6faea6914232"
       ],
       "layout": "IPY_MODEL_173596b0295e4d1b91a6befc2cf6282c"
      }
     },
     "7e51d38002b54e0ebd18f159f4d7e26e": {
      "model_module": "@jupyter-widgets/output",
      "model_module_version": "1.0.0",
      "model_name": "OutputModel",
      "state": {
       "layout": "IPY_MODEL_1c26820a71af4bde8fef972fedbad611"
      }
     },
     "7eaeb7c5920f435588729901cb57c06f": {
      "model_module": "jp_proxy_widget",
      "model_module_version": "^0.3.4",
      "model_name": "JSProxyModel",
      "state": {
       "_model_module_version": "^0.3.4",
       "_send_counter": 2,
       "_view_module_version": "^0.3.4",
       "error_msg": "No error",
       "layout": "IPY_MODEL_eb72982bceaf41dd8151e96f31b53171",
       "rendered": true,
       "status": "Got results."
      }
     },
     "7ec85661d6544abb85c44a221e1bdeb7": {
      "model_module": "@jupyter-widgets/controls",
      "model_module_version": "1.0.0",
      "model_name": "IntSliderModel",
      "state": {
       "description": "green",
       "layout": "IPY_MODEL_3df3d86594924680a5fd244a0849e541",
       "max": 255,
       "style": "IPY_MODEL_2e6d683ed79440b9bcf9f1a3d107c32a",
       "value": 127
      }
     },
     "7f52fbe106d34d4fb2c991b17afaa1ab": {
      "model_module": "@jupyter-widgets/base",
      "model_module_version": "1.0.0",
      "model_name": "LayoutModel",
      "state": {}
     },
     "7f5bad85f6684b73b87c93391d454514": {
      "model_module": "@jupyter-widgets/base",
      "model_module_version": "1.0.0",
      "model_name": "LayoutModel",
      "state": {}
     },
     "7facc299cfc34269b8bc09ecf238e4a6": {
      "model_module": "@jupyter-widgets/base",
      "model_module_version": "1.0.0",
      "model_name": "LayoutModel",
      "state": {}
     },
     "7fdc6cc7737c4e5cbf198155c702e7f2": {
      "model_module": "@jupyter-widgets/controls",
      "model_module_version": "1.0.0",
      "model_name": "FloatSliderModel",
      "state": {
       "description": "start",
       "layout": "IPY_MODEL_dd90881f2b41455cb3bf36652bd2b063",
       "max": 6.383185307179586,
       "step": 0.1,
       "style": "IPY_MODEL_18d30b04854c48728cb1a2fdb9de96d9"
      }
     },
     "8066fc14cc64474a9e20bfc532243f96": {
      "model_module": "@jupyter-widgets/controls",
      "model_module_version": "1.0.0",
      "model_name": "SliderStyleModel",
      "state": {
       "description_width": ""
      }
     },
     "809cd9430f9a43eca3ea6dc5ea5af127": {
      "model_module": "@jupyter-widgets/controls",
      "model_module_version": "1.0.0",
      "model_name": "IntSliderModel",
      "state": {
       "description": "red",
       "layout": "IPY_MODEL_531ae58512f94b9998d8ed8759418349",
       "max": 255,
       "style": "IPY_MODEL_0fe6f8f30ef94655830193d419e41e25",
       "value": 255
      }
     },
     "80e542f23d584f8eb8a698eea1891413": {
      "model_module": "@jupyter-widgets/base",
      "model_module_version": "1.0.0",
      "model_name": "LayoutModel",
      "state": {}
     },
     "81003e64eda141608d83a58d16225ba8": {
      "model_module": "@jupyter-widgets/base",
      "model_module_version": "1.0.0",
      "model_name": "LayoutModel",
      "state": {}
     },
     "813ee9d0f1c5434591c30f50d498c48d": {
      "model_module": "@jupyter-widgets/controls",
      "model_module_version": "1.0.0",
      "model_name": "HTMLModel",
      "state": {
       "layout": "IPY_MODEL_ffceb71bc89f49c5ab790f1587748f36",
       "style": "IPY_MODEL_b91ef243e3be43ecb2f67c2b53ff570e",
       "value": "<img src=\"interactive_circle.png\" id=\"snapshot_id_13_1536246460244\"/>\n <div id=\"snapshot_id_14_1536246460244\">interactive_circle.png</div>"
      }
     },
     "8222d1ae499f47598b52646611036ddd": {
      "model_module": "@jupyter-widgets/base",
      "model_module_version": "1.0.0",
      "model_name": "LayoutModel",
      "state": {}
     },
     "82e01ea203ce46c7bc169066dd696bad": {
      "model_module": "@jupyter-widgets/controls",
      "model_module_version": "1.0.0",
      "model_name": "IntSliderModel",
      "state": {
       "description": "blue",
       "layout": "IPY_MODEL_3d813c61c9b34388a1c497d44f887b4a",
       "max": 255,
       "style": "IPY_MODEL_9362d7362e49489fbba6c75b8401a937",
       "value": 127
      }
     },
     "83bca31eff7f4e37a09cd3e6890e39d7": {
      "model_module": "@jupyter-widgets/base",
      "model_module_version": "1.0.0",
      "model_name": "LayoutModel",
      "state": {}
     },
     "841974ce7e044120bd782f63a01aa66b": {
      "model_module": "@jupyter-widgets/controls",
      "model_module_version": "1.0.0",
      "model_name": "SliderStyleModel",
      "state": {
       "description_width": ""
      }
     },
     "848ca7aae6e04cd18dee9e9bf9e4ccc8": {
      "model_module": "@jupyter-widgets/base",
      "model_module_version": "1.0.0",
      "model_name": "LayoutModel",
      "state": {}
     },
     "84f194b01c7d4947870a3768583b7eda": {
      "model_module": "@jupyter-widgets/controls",
      "model_module_version": "1.0.0",
      "model_name": "IntSliderModel",
      "state": {
       "description": "x",
       "layout": "IPY_MODEL_06244012558b45759158f59041a9bd3c",
       "min": -100,
       "style": "IPY_MODEL_4b25c59894064cc8ae6544a6d9d773e1",
       "value": 23
      }
     },
     "8515f031c10a4329ab9ad88eb373fb8a": {
      "model_module": "@jupyter-widgets/controls",
      "model_module_version": "1.0.0",
      "model_name": "SliderStyleModel",
      "state": {
       "description_width": ""
      }
     },
     "852a0e2337244d8eb395136ec6aa2fe6": {
      "model_module": "@jupyter-widgets/controls",
      "model_module_version": "1.0.0",
      "model_name": "IntSliderModel",
      "state": {
       "description": "red",
       "layout": "IPY_MODEL_7f5bad85f6684b73b87c93391d454514",
       "max": 255,
       "style": "IPY_MODEL_d2660cc3be694b73b15f200e20384739",
       "value": 219
      }
     },
     "85859efc12234c86a926c5915a663aa7": {
      "model_module": "@jupyter-widgets/controls",
      "model_module_version": "1.0.0",
      "model_name": "IntSliderModel",
      "state": {
       "description": "green",
       "layout": "IPY_MODEL_e3a27991e36c432ca73ed49b734ca438",
       "max": 255,
       "style": "IPY_MODEL_e7f79859af144c03b56503b8f391dad1",
       "value": 255
      }
     },
     "86495dfee716480995bde7d3c1780017": {
      "model_module": "@jupyter-widgets/base",
      "model_module_version": "1.0.0",
      "model_name": "LayoutModel",
      "state": {}
     },
     "86c35f9699ae467b8db928ca74dba34a": {
      "model_module": "@jupyter-widgets/controls",
      "model_module_version": "1.0.0",
      "model_name": "IntSliderModel",
      "state": {
       "description": "red",
       "layout": "IPY_MODEL_78733a24202b44f3b50528af4ab33b95",
       "max": 255,
       "style": "IPY_MODEL_8066fc14cc64474a9e20bfc532243f96",
       "value": 187
      }
     },
     "871158a48674414c892bdf4162fa86f1": {
      "model_module": "@jupyter-widgets/controls",
      "model_module_version": "1.0.0",
      "model_name": "TabModel",
      "state": {
       "_titles": {
        "0": "Canvas",
        "1": "Snapshot"
       },
       "children": [
        "IPY_MODEL_220d7a6577b747cf8020e694eaacc517",
        "IPY_MODEL_b817b6fecc4d432585969e2335f72d05"
       ],
       "layout": "IPY_MODEL_0e8c2fd6ecf64207855b47f5058b8346"
      }
     },
     "87edfca9283c4b6da3d0095ca17687ce": {
      "model_module": "@jupyter-widgets/controls",
      "model_module_version": "1.0.0",
      "model_name": "FloatSliderModel",
      "state": {
       "description": "alpha",
       "layout": "IPY_MODEL_c93a4a07dc114e9a8e7200d9bb1b84a7",
       "max": 1,
       "step": 0.1,
       "style": "IPY_MODEL_c6902fa287be47dcb8f3cef19c803b3f",
       "value": 1
      }
     },
     "8855f0d6bf664ebe9107ae431a1f578e": {
      "model_module": "@jupyter-widgets/base",
      "model_module_version": "1.0.0",
      "model_name": "LayoutModel",
      "state": {}
     },
     "889d5e1c1bf8499e850e275b0e907c79": {
      "model_module": "@jupyter-widgets/controls",
      "model_module_version": "1.0.0",
      "model_name": "SliderStyleModel",
      "state": {
       "description_width": ""
      }
     },
     "88a2e015194342349aa13153256390c5": {
      "model_module": "@jupyter-widgets/controls",
      "model_module_version": "1.0.0",
      "model_name": "IntSliderModel",
      "state": {
       "description": "red",
       "layout": "IPY_MODEL_1e21103892174eb2b5ee60b0f38442d7",
       "max": 255,
       "style": "IPY_MODEL_ed6fa61031cb42c99fa1bb1798922ec4",
       "value": 127
      }
     },
     "88c822b822ac456c8c9a541824b95360": {
      "model_module": "@jupyter-widgets/controls",
      "model_module_version": "1.0.0",
      "model_name": "VBoxModel",
      "state": {
       "children": [
        "IPY_MODEL_c1f9ef91a3854f2788cb95494958537f",
        "IPY_MODEL_91aafad6d429405da1bb6a612e124427"
       ],
       "layout": "IPY_MODEL_6bcdaa4b5c6a45e7821fcb8b29e2f51a"
      }
     },
     "8979199eeae046aaa0ae638c3094acfc": {
      "model_module": "@jupyter-widgets/base",
      "model_module_version": "1.0.0",
      "model_name": "LayoutModel",
      "state": {}
     },
     "89aff094b3e04310b0239eb75f2514a8": {
      "model_module": "@jupyter-widgets/controls",
      "model_module_version": "1.0.0",
      "model_name": "IntSliderModel",
      "state": {
       "description": "x",
       "layout": "IPY_MODEL_252c075199c644e4b2e2c95360278243",
       "min": -100,
       "style": "IPY_MODEL_db2d94ea87bc4955884f78c84c4db7c9",
       "value": -100
      }
     },
     "8a194b035dd145eab1996ce79200dd63": {
      "model_module": "@jupyter-widgets/controls",
      "model_module_version": "1.0.0",
      "model_name": "SliderStyleModel",
      "state": {
       "description_width": ""
      }
     },
     "8aae7b7f99b746939a1e33f05759c6f4": {
      "model_module": "@jupyter-widgets/controls",
      "model_module_version": "1.0.0",
      "model_name": "IntSliderModel",
      "state": {
       "description": "x",
       "layout": "IPY_MODEL_258a037f9c5d4f1ab7e73280fcb610bb",
       "min": -100,
       "style": "IPY_MODEL_40bb0b1a648e4f57b1523dc65133c5af",
       "value": 83
      }
     },
     "8bd9c7f3f09a4c85b75550e67253e9d1": {
      "model_module": "@jupyter-widgets/base",
      "model_module_version": "1.0.0",
      "model_name": "LayoutModel",
      "state": {}
     },
     "8c019990355540b9b0be4c98c5d09c2a": {
      "model_module": "@jupyter-widgets/base",
      "model_module_version": "1.0.0",
      "model_name": "LayoutModel",
      "state": {}
     },
     "8c3861815ce2489f92deeb3bbb35d4a2": {
      "model_module": "@jupyter-widgets/controls",
      "model_module_version": "1.0.0",
      "model_name": "VBoxModel",
      "state": {
       "_dom_classes": [
        "widget-interact"
       ],
       "children": [
        "IPY_MODEL_2f68824a86844f66abe24ea385b006a8",
        "IPY_MODEL_74d9892fee73442e810eb9d810a14681",
        "IPY_MODEL_cdd45dd4f24047f78b85b1a9bd37fc9f",
        "IPY_MODEL_0b388eb410ea42eaa2148e23bdda099a",
        "IPY_MODEL_d4c739f16e634587b293f737f2f7b649",
        "IPY_MODEL_c83a73155cb045198bc862797b555bc0",
        "IPY_MODEL_668306d55d53408ba65f75f7bccc1c92",
        "IPY_MODEL_a71e0a46812143639219cc267a777e26"
       ],
       "layout": "IPY_MODEL_a3e753abdb8c413d9b0be4cd7349f2c3"
      }
     },
     "8cb6b4d350bb437a8aed00c99d8ae286": {
      "model_module": "@jupyter-widgets/controls",
      "model_module_version": "1.0.0",
      "model_name": "IntSliderModel",
      "state": {
       "description": "blue",
       "layout": "IPY_MODEL_1308b2fb398b4e878230528401d0ada8",
       "max": 255,
       "style": "IPY_MODEL_482ec0dec1534e4f8ca47ad0b6e7f183",
       "value": 127
      }
     },
     "8cccb48a9ff3463fba96100c4e6260b2": {
      "model_module": "@jupyter-widgets/controls",
      "model_module_version": "1.0.0",
      "model_name": "FloatSliderModel",
      "state": {
       "description": "alpha",
       "layout": "IPY_MODEL_77962c1ae5024ff4a70e652ffbb1096c",
       "max": 1,
       "step": 0.1,
       "style": "IPY_MODEL_39ea280f576d404ea95d4e0672b9771c",
       "value": 1
      }
     },
     "8d3de9c3d8984d0dadfe5d788b034158": {
      "model_module": "@jupyter-widgets/controls",
      "model_module_version": "1.0.0",
      "model_name": "SliderStyleModel",
      "state": {
       "description_width": ""
      }
     },
     "8e4a56c8101c40f1a14e61aaacdb2c8f": {
      "model_module": "@jupyter-widgets/controls",
      "model_module_version": "1.0.0",
      "model_name": "IntSliderModel",
      "state": {
       "description": "green",
       "layout": "IPY_MODEL_f480b5855391467493e2e9dfad7b7113",
       "max": 255,
       "style": "IPY_MODEL_14b11e93c11e4d57a18430fb830bf4aa",
       "value": 179
      }
     },
     "8ebe17764271456188b7be636fb3713d": {
      "model_module": "@jupyter-widgets/controls",
      "model_module_version": "1.0.0",
      "model_name": "FloatSliderModel",
      "state": {
       "description": "alpha",
       "layout": "IPY_MODEL_2055576160234dc99d6e1929319add1a",
       "max": 1,
       "step": 0.1,
       "style": "IPY_MODEL_d196b922cf4042258da63e117d905660",
       "value": 1
      }
     },
     "8f049360ac2e4f72bd1d86054e5c7d7c": {
      "model_module": "@jupyter-widgets/controls",
      "model_module_version": "1.0.0",
      "model_name": "SliderStyleModel",
      "state": {
       "description_width": ""
      }
     },
     "8f0e874f1bb54531bd295b3b7f0aaec8": {
      "model_module": "@jupyter-widgets/controls",
      "model_module_version": "1.0.0",
      "model_name": "VBoxModel",
      "state": {
       "children": [
        "IPY_MODEL_96dd04124fac4073aad2843c3279bc87",
        "IPY_MODEL_7eaeb7c5920f435588729901cb57c06f"
       ],
       "layout": "IPY_MODEL_072eb40a142c4b4baa780c08f838c4ec"
      }
     },
     "8f9966ed5dc747a7a049f76eeeb5832e": {
      "model_module": "@jupyter-widgets/base",
      "model_module_version": "1.0.0",
      "model_name": "LayoutModel",
      "state": {}
     },
     "8fa2c43c81c54a54bf65d9e484693c73": {
      "model_module": "@jupyter-widgets/base",
      "model_module_version": "1.0.0",
      "model_name": "LayoutModel",
      "state": {}
     },
     "902d0324003c4f108e7dfe2fcc477ed3": {
      "model_module": "@jupyter-widgets/controls",
      "model_module_version": "1.0.0",
      "model_name": "TabModel",
      "state": {
       "_titles": {
        "0": "Canvas",
        "1": "Snapshot"
       },
       "children": [
        "IPY_MODEL_da82f84716a94fc8bbe5631f5be582a1",
        "IPY_MODEL_287cd41b851146269e275908f48cd2d7"
       ],
       "layout": "IPY_MODEL_32316a19285745f9aaff790f3d95f45b",
       "selected_index": 1
      }
     },
     "907293990c2344b1a81dbe1185a981b4": {
      "model_module": "@jupyter-widgets/controls",
      "model_module_version": "1.0.0",
      "model_name": "IntSliderModel",
      "state": {
       "description": "r",
       "layout": "IPY_MODEL_6f15dead747d4fb5bd6870c4537e1f5f",
       "style": "IPY_MODEL_0d2431a2ebde4bcfb5b9da41c8bfbf4e",
       "value": 50
      }
     },
     "907f381ceec84cf3b6aaa2f8cfde80be": {
      "model_module": "@jupyter-widgets/controls",
      "model_module_version": "1.0.0",
      "model_name": "SliderStyleModel",
      "state": {
       "description_width": ""
      }
     },
     "90b8fe11e0ab4a7aa2349cc9123f0b1a": {
      "model_module": "@jupyter-widgets/controls",
      "model_module_version": "1.0.0",
      "model_name": "TabModel",
      "state": {
       "_titles": {
        "0": "Canvas",
        "1": "Snapshot"
       },
       "children": [
        "IPY_MODEL_9e26ce5eb3e54f3598988362fcc60109",
        "IPY_MODEL_bc8c2db07a7546f18a3e41352877b5e0"
       ],
       "layout": "IPY_MODEL_694e5677715948819da2886f6813d1bd",
       "selected_index": 1
      }
     },
     "90e132ec873b4c72aa2ff7b7dd04cc0f": {
      "model_module": "jp_proxy_widget",
      "model_module_version": "^0.3.4",
      "model_name": "JSProxyModel",
      "state": {
       "_model_module_version": "^0.3.4",
       "_send_counter": 2,
       "_view_module_version": "^0.3.4",
       "error_msg": "No error",
       "layout": "IPY_MODEL_0eb2e51813de43a48111f85c8dbae638",
       "rendered": true,
       "status": "Got results."
      }
     },
     "91245801af7d46a0b339d34af01e1162": {
      "model_module": "@jupyter-widgets/base",
      "model_module_version": "1.0.0",
      "model_name": "LayoutModel",
      "state": {}
     },
     "912bfb4b917e4ffdafcb0a2f358c2668": {
      "model_module": "@jupyter-widgets/controls",
      "model_module_version": "1.0.0",
      "model_name": "IntSliderModel",
      "state": {
       "description": "red",
       "layout": "IPY_MODEL_9bb0cdcea1bd46fe8326bd12983a3e6f",
       "max": 255,
       "style": "IPY_MODEL_9eee135bb1d545d5b15504d2854b086b",
       "value": 161
      }
     },
     "91aafad6d429405da1bb6a612e124427": {
      "model_module": "jp_proxy_widget",
      "model_module_version": "^0.3.4",
      "model_name": "JSProxyModel",
      "state": {
       "_model_module_version": "^0.3.4",
       "_send_counter": 2,
       "_view_module_version": "^0.3.4",
       "error_msg": "No error",
       "layout": "IPY_MODEL_7432f63598da477ba358388b5f887995",
       "rendered": true,
       "status": "Got results."
      }
     },
     "92229f6efafc4a91a7a0fc3ea0eec483": {
      "model_module": "@jupyter-widgets/controls",
      "model_module_version": "1.0.0",
      "model_name": "SliderStyleModel",
      "state": {
       "description_width": ""
      }
     },
     "92703755d8f74aae89b7f06ada3f6496": {
      "model_module": "jp_proxy_widget",
      "model_module_version": "^0.3.4",
      "model_name": "JSProxyModel",
      "state": {
       "_model_module_version": "^0.3.4",
       "_send_counter": 786,
       "_view_module_version": "^0.3.4",
       "error_msg": "No error",
       "layout": "IPY_MODEL_1641e3194b4b4c77a75745fa12bb73b2",
       "rendered": true,
       "status": "Got results."
      }
     },
     "92ab3206b3b045359ddf9e9268a4954b": {
      "model_module": "@jupyter-widgets/controls",
      "model_module_version": "1.0.0",
      "model_name": "IntSliderModel",
      "state": {
       "description": "green",
       "layout": "IPY_MODEL_4239c3efea4d43b1a6f0d8c288c6ae50",
       "max": 255,
       "style": "IPY_MODEL_b1d77485b05942f0ae52eb456b75c3da",
       "value": 127
      }
     },
     "92ba613b77e24e91994e5756cb58ab09": {
      "model_module": "@jupyter-widgets/controls",
      "model_module_version": "1.0.0",
      "model_name": "SliderStyleModel",
      "state": {
       "description_width": ""
      }
     },
     "930beb4cba624664a44324192d0ab957": {
      "model_module": "@jupyter-widgets/base",
      "model_module_version": "1.0.0",
      "model_name": "LayoutModel",
      "state": {}
     },
     "9362d7362e49489fbba6c75b8401a937": {
      "model_module": "@jupyter-widgets/controls",
      "model_module_version": "1.0.0",
      "model_name": "SliderStyleModel",
      "state": {
       "description_width": ""
      }
     },
     "93bb07654dc54d1093c5f3a9b485e34e": {
      "model_module": "@jupyter-widgets/controls",
      "model_module_version": "1.0.0",
      "model_name": "TabModel",
      "state": {
       "_titles": {
        "0": "Canvas",
        "1": "Snapshot"
       },
       "children": [
        "IPY_MODEL_e9cab7fcdb4d473cbfd652caa886a624",
        "IPY_MODEL_6013faeeb3f54e0c92e71fa3dd152aa4"
       ],
       "layout": "IPY_MODEL_6b8810edb85f48f598067d897842dee2"
      }
     },
     "94757874e4324feaab615dda6d7f01d1": {
      "model_module": "@jupyter-widgets/controls",
      "model_module_version": "1.0.0",
      "model_name": "SliderStyleModel",
      "state": {
       "description_width": ""
      }
     },
     "94860ebcd967426b807144f30016ba20": {
      "model_module": "@jupyter-widgets/base",
      "model_module_version": "1.0.0",
      "model_name": "LayoutModel",
      "state": {}
     },
     "94e4936f21ca4a88b80e7ca0a953f36b": {
      "model_module": "@jupyter-widgets/base",
      "model_module_version": "1.0.0",
      "model_name": "LayoutModel",
      "state": {}
     },
     "94f3bdfcfdd64066bd8e29d1bd23d33c": {
      "model_module": "@jupyter-widgets/controls",
      "model_module_version": "1.0.0",
      "model_name": "VBoxModel",
      "state": {
       "_dom_classes": [
        "widget-interact"
       ],
       "children": [
        "IPY_MODEL_8aae7b7f99b746939a1e33f05759c6f4",
        "IPY_MODEL_b6cd2dd3ca7b4a82acad007b6b3f594f",
        "IPY_MODEL_99c6cb976abf488db036fbc197fc8ce2",
        "IPY_MODEL_3cf2b3bec0b345c7ba4a5b7b033fab7e",
        "IPY_MODEL_85859efc12234c86a926c5915a663aa7",
        "IPY_MODEL_82e01ea203ce46c7bc169066dd696bad",
        "IPY_MODEL_87edfca9283c4b6da3d0095ca17687ce",
        "IPY_MODEL_f89e3301135847bea965f3e3716f890d"
       ],
       "layout": "IPY_MODEL_6e1d41b1faa4426fbbfce1ec9a66f5ce"
      }
     },
     "9544f814436a4e1bb03a9d5deb788c5c": {
      "model_module": "@jupyter-widgets/controls",
      "model_module_version": "1.0.0",
      "model_name": "IntSliderModel",
      "state": {
       "description": "red",
       "layout": "IPY_MODEL_f6de3677078248f09478747c026b7194",
       "max": 255,
       "style": "IPY_MODEL_96240e2f4bb845afaaee5b94682621c8",
       "value": 80
      }
     },
     "954dbf7a8672499abc2e626af4121e9d": {
      "model_module": "@jupyter-widgets/controls",
      "model_module_version": "1.0.0",
      "model_name": "FloatSliderModel",
      "state": {
       "description": "start",
       "layout": "IPY_MODEL_1508188053d547288e5eb3f6498d54ca",
       "max": 6.383185307179586,
       "step": 0.1,
       "style": "IPY_MODEL_e0b9e17141304f02b96350569ed8ebf7"
      }
     },
     "95ea660bf80940b1861c35dd8b29b0e3": {
      "model_module": "@jupyter-widgets/controls",
      "model_module_version": "1.0.0",
      "model_name": "IntSliderModel",
      "state": {
       "description": "r",
       "layout": "IPY_MODEL_caed84739d874a51bc8e8a549434bba1",
       "style": "IPY_MODEL_e6fa67ee18e44c5b869ba6e3f8df74a1",
       "value": 50
      }
     },
     "960b8aa072264d4cbd33e16a82c3b576": {
      "model_module": "@jupyter-widgets/controls",
      "model_module_version": "1.0.0",
      "model_name": "SliderStyleModel",
      "state": {
       "description_width": ""
      }
     },
     "96240e2f4bb845afaaee5b94682621c8": {
      "model_module": "@jupyter-widgets/controls",
      "model_module_version": "1.0.0",
      "model_name": "SliderStyleModel",
      "state": {
       "description_width": ""
      }
     },
     "962fd963b8a34b459690737165e2682b": {
      "model_module": "@jupyter-widgets/controls",
      "model_module_version": "1.0.0",
      "model_name": "IntSliderModel",
      "state": {
       "description": "green",
       "layout": "IPY_MODEL_adb61307029a413db984b5aff4a0d460",
       "max": 255,
       "style": "IPY_MODEL_1cd41c8313ed44d68d4058eafee4da87",
       "value": 102
      }
     },
     "969354d0877241028b8dce49672df2f2": {
      "model_module": "@jupyter-widgets/controls",
      "model_module_version": "1.0.0",
      "model_name": "SliderStyleModel",
      "state": {
       "description_width": ""
      }
     },
     "96dd04124fac4073aad2843c3279bc87": {
      "model_module": "jp_proxy_widget",
      "model_module_version": "^0.3.4",
      "model_name": "JSProxyModel",
      "state": {
       "_model_module_version": "^0.3.4",
       "_send_counter": 361,
       "_view_module_version": "^0.3.4",
       "error_msg": "No error",
       "layout": "IPY_MODEL_9f68f4b3853d408ba3b2d3f489e2cff5",
       "rendered": true,
       "status": "Got results."
      }
     },
     "9749d64303884380a8ba5b7e805f1f8c": {
      "model_module": "@jupyter-widgets/controls",
      "model_module_version": "1.0.0",
      "model_name": "IntSliderModel",
      "state": {
       "description": "x",
       "layout": "IPY_MODEL_5a3b78b492ae4dcdb14c792d743025ac",
       "min": -100,
       "style": "IPY_MODEL_2715990fa5714fc6a0fc16e71955286c"
      }
     },
     "97c7c41c7ac741d488bd9d55e0c23671": {
      "model_module": "@jupyter-widgets/controls",
      "model_module_version": "1.0.0",
      "model_name": "IntSliderModel",
      "state": {
       "description": "green",
       "layout": "IPY_MODEL_83bca31eff7f4e37a09cd3e6890e39d7",
       "max": 255,
       "style": "IPY_MODEL_6d53b273f7614a95aa03f7fd42cd1953",
       "value": 255
      }
     },
     "97fd86653c0445ae813726681c636030": {
      "model_module": "@jupyter-widgets/base",
      "model_module_version": "1.0.0",
      "model_name": "LayoutModel",
      "state": {}
     },
     "98a2afdb76074604a1cafa8c16393664": {
      "model_module": "@jupyter-widgets/controls",
      "model_module_version": "1.0.0",
      "model_name": "HTMLModel",
      "state": {
       "layout": "IPY_MODEL_20818d221903493088f277861d60ffd8",
       "style": "IPY_MODEL_e55dc9e053e2472ab463a184639bbe2d",
       "value": "<img src=\"interactive_circle.png\" id=\"snapshot_id_21_1536246824767\"/>\n <div id=\"snapshot_id_22_1536246824767\">interactive_circle.png</div>"
      }
     },
     "98a813ba7dca45c2b8edf6b8e9546508": {
      "model_module": "@jupyter-widgets/controls",
      "model_module_version": "1.0.0",
      "model_name": "IntSliderModel",
      "state": {
       "description": "x",
       "layout": "IPY_MODEL_ab05b6ebf11a414689aa9c0a754256bc",
       "min": -100,
       "style": "IPY_MODEL_6f03a2c8f2ad465fa08d9a3cd0476721",
       "value": -100
      }
     },
     "98dfd125f5c544dc84d36d1e88d72c0e": {
      "model_module": "@jupyter-widgets/controls",
      "model_module_version": "1.0.0",
      "model_name": "VBoxModel",
      "state": {
       "_dom_classes": [
        "widget-interact"
       ],
       "children": [
        "IPY_MODEL_467f910a730c4d6cbed22720b85af472",
        "IPY_MODEL_1d8c5b1ec77544638818df9a404d2793",
        "IPY_MODEL_40679a37760f413eaab916ce3109bef5",
        "IPY_MODEL_670124ed91374563b12df1fd5c0e8836",
        "IPY_MODEL_a1d54672a26848e19fc1f24dc892ed55",
        "IPY_MODEL_18d3e296ac384c2e95625188e3cae335",
        "IPY_MODEL_4ced25d8025447b6a1bdc6d08ee778e4",
        "IPY_MODEL_5fdc71e79e244e9ba11069045976f111",
        "IPY_MODEL_46cfffbf2dd84d38a01d790f34b90b10",
        "IPY_MODEL_b9c4487767184455aa98e57da81048a3"
       ],
       "layout": "IPY_MODEL_75394f37115740298c75c9715193030f"
      }
     },
     "9934ce6e80cd4c33b78e86f030ed111e": {
      "model_module": "@jupyter-widgets/controls",
      "model_module_version": "1.0.0",
      "model_name": "IntSliderModel",
      "state": {
       "description": "r",
       "layout": "IPY_MODEL_b251b72b62b04fe7aafb29fb28efd1fc",
       "style": "IPY_MODEL_0508f8868207466388be8b8299a28843",
       "value": 50
      }
     },
     "99c6cb976abf488db036fbc197fc8ce2": {
      "model_module": "@jupyter-widgets/controls",
      "model_module_version": "1.0.0",
      "model_name": "IntSliderModel",
      "state": {
       "description": "r",
       "layout": "IPY_MODEL_08f10721a5294105b92790e7e3ae2341",
       "style": "IPY_MODEL_969354d0877241028b8dce49672df2f2",
       "value": 84
      }
     },
     "9aaef4d566be4d819c95c13b8afc5822": {
      "model_module": "jp_proxy_widget",
      "model_module_version": "^0.3.4",
      "model_name": "JSProxyModel",
      "state": {
       "_model_module_version": "^0.3.4",
       "_send_counter": 11,
       "_view_module_version": "^0.3.4",
       "error_msg": "No error",
       "layout": "IPY_MODEL_24d7df0fd6094301b21c7aa7feb3e24a",
       "rendered": true,
       "status": "Got results."
      }
     },
     "9ba4b277b2934979aabf501a57c812bc": {
      "model_module": "@jupyter-widgets/base",
      "model_module_version": "1.0.0",
      "model_name": "LayoutModel",
      "state": {}
     },
     "9bb0cdcea1bd46fe8326bd12983a3e6f": {
      "model_module": "@jupyter-widgets/base",
      "model_module_version": "1.0.0",
      "model_name": "LayoutModel",
      "state": {}
     },
     "9c1ba6765f244920acee5f3f328fe2c0": {
      "model_module": "@jupyter-widgets/base",
      "model_module_version": "1.0.0",
      "model_name": "LayoutModel",
      "state": {}
     },
     "9c4d307bd36a43ecbebe3b532825a22d": {
      "model_module": "@jupyter-widgets/base",
      "model_module_version": "1.0.0",
      "model_name": "LayoutModel",
      "state": {}
     },
     "9ceb7c28128848539b0cc36ac0a6dff7": {
      "model_module": "@jupyter-widgets/controls",
      "model_module_version": "1.0.0",
      "model_name": "VBoxModel",
      "state": {
       "_dom_classes": [
        "widget-interact"
       ],
       "children": [
        "IPY_MODEL_b02b5eeaff684c63bd5fc983aba6a5b4",
        "IPY_MODEL_42d12b1ec7574a50b6104871c58a58ed",
        "IPY_MODEL_9934ce6e80cd4c33b78e86f030ed111e",
        "IPY_MODEL_636486f7fe7c44dea4277b35dd6c5909",
        "IPY_MODEL_fec0ed28eaac45e79b9c209f08869788",
        "IPY_MODEL_8cb6b4d350bb437a8aed00c99d8ae286",
        "IPY_MODEL_146a607c903f469badb1bc31b9aba4c0",
        "IPY_MODEL_15c5acfb2fc545db9e3d668e35c57711"
       ],
       "layout": "IPY_MODEL_137c597f04934d4c9baf93a518bfb986"
      }
     },
     "9d64662664ed47d5b4fc274ae7bc739c": {
      "model_module": "@jupyter-widgets/base",
      "model_module_version": "1.0.0",
      "model_name": "LayoutModel",
      "state": {}
     },
     "9e26ce5eb3e54f3598988362fcc60109": {
      "model_module": "@jupyter-widgets/controls",
      "model_module_version": "1.0.0",
      "model_name": "VBoxModel",
      "state": {
       "children": [
        "IPY_MODEL_52629508090d47fcb7b2be2b4a594e3d",
        "IPY_MODEL_0eb2be7a42924abda08834e268871f33"
       ],
       "layout": "IPY_MODEL_ad064ec60306491cb1815b9abdbb5119"
      }
     },
     "9e955b4de449492dbbeb6011b1801f2f": {
      "model_module": "@jupyter-widgets/controls",
      "model_module_version": "1.0.0",
      "model_name": "SliderStyleModel",
      "state": {
       "description_width": ""
      }
     },
     "9e9a47a314ac40818e6a2ff7c16ae1aa": {
      "model_module": "@jupyter-widgets/base",
      "model_module_version": "1.0.0",
      "model_name": "LayoutModel",
      "state": {}
     },
     "9eee135bb1d545d5b15504d2854b086b": {
      "model_module": "@jupyter-widgets/controls",
      "model_module_version": "1.0.0",
      "model_name": "SliderStyleModel",
      "state": {
       "description_width": ""
      }
     },
     "9efbcad1358c44fb81da258d813a6b3e": {
      "model_module": "@jupyter-widgets/controls",
      "model_module_version": "1.0.0",
      "model_name": "SliderStyleModel",
      "state": {
       "description_width": ""
      }
     },
     "9f0168c2896342f59cc9d5c230718d78": {
      "model_module": "@jupyter-widgets/controls",
      "model_module_version": "1.0.0",
      "model_name": "IntSliderModel",
      "state": {
       "description": "green",
       "layout": "IPY_MODEL_0e03e61d7c234ed0b6c7b1b0d0e95cb9",
       "max": 255,
       "style": "IPY_MODEL_6994decc37844a4fa01e66588fd7e85a",
       "value": 127
      }
     },
     "9f1f46c72a2e4d4ea894c49f2bb9e296": {
      "model_module": "@jupyter-widgets/controls",
      "model_module_version": "1.0.0",
      "model_name": "SliderStyleModel",
      "state": {
       "description_width": ""
      }
     },
     "9f2041dc70e942bd990fe0074cd0e617": {
      "model_module": "@jupyter-widgets/controls",
      "model_module_version": "1.0.0",
      "model_name": "SliderStyleModel",
      "state": {
       "description_width": ""
      }
     },
     "9f68f4b3853d408ba3b2d3f489e2cff5": {
      "model_module": "@jupyter-widgets/base",
      "model_module_version": "1.0.0",
      "model_name": "LayoutModel",
      "state": {}
     },
     "9f94ba3004d74657a0786be9f7be1693": {
      "model_module": "@jupyter-widgets/base",
      "model_module_version": "1.0.0",
      "model_name": "LayoutModel",
      "state": {}
     },
     "a010693dccb54df3a873da2702fb8a51": {
      "model_module": "@jupyter-widgets/base",
      "model_module_version": "1.0.0",
      "model_name": "LayoutModel",
      "state": {}
     },
     "a06483f5d06e44038966140dbcfbed70": {
      "model_module": "jp_proxy_widget",
      "model_module_version": "^0.3.4",
      "model_name": "JSProxyModel",
      "state": {
       "_model_module_version": "^0.3.4",
       "_send_counter": 2,
       "_view_module_version": "^0.3.4",
       "error_msg": "No error",
       "layout": "IPY_MODEL_20186b44b3404b2e8ce165d2abc42c9d",
       "rendered": true,
       "status": "call back to <function callback_function at 0x1115ae5f0>"
      }
     },
     "a0ce0e78cf2c45199ae9cc506964736f": {
      "model_module": "@jupyter-widgets/controls",
      "model_module_version": "1.0.0",
      "model_name": "HTMLModel",
      "state": {
       "layout": "IPY_MODEL_a558e28ae2ec4cdfb59c31a74f8c9e42",
       "style": "IPY_MODEL_761ec6e88079411bb17eb4433a854d69",
       "value": "<img src=\"interactive_circle.png\" id=\"snapshot_id_1_1536246191023\"/>\n <div id=\"snapshot_id_2_1536246191023\">interactive_circle.png</div>"
      }
     },
     "a0e6c29185ba4a178c97daab2a966d73": {
      "model_module": "@jupyter-widgets/base",
      "model_module_version": "1.0.0",
      "model_name": "LayoutModel",
      "state": {}
     },
     "a1b35c0157364dde85d326ffe6273bf4": {
      "model_module": "@jupyter-widgets/base",
      "model_module_version": "1.0.0",
      "model_name": "LayoutModel",
      "state": {}
     },
     "a1d54672a26848e19fc1f24dc892ed55": {
      "model_module": "@jupyter-widgets/controls",
      "model_module_version": "1.0.0",
      "model_name": "FloatSliderModel",
      "state": {
       "description": "arc",
       "layout": "IPY_MODEL_a010693dccb54df3a873da2702fb8a51",
       "max": 6.283185307179586,
       "step": 0.1,
       "style": "IPY_MODEL_43535c6a3263478ab53b869d35b5f5e6",
       "value": 1.6
      }
     },
     "a2e2e81a41604807a6ef8e383250fce5": {
      "model_module": "@jupyter-widgets/controls",
      "model_module_version": "1.0.0",
      "model_name": "SliderStyleModel",
      "state": {
       "description_width": ""
      }
     },
     "a39ef909be504028be725b7bb35c32b8": {
      "model_module": "@jupyter-widgets/controls",
      "model_module_version": "1.0.0",
      "model_name": "SliderStyleModel",
      "state": {
       "description_width": ""
      }
     },
     "a3e753abdb8c413d9b0be4cd7349f2c3": {
      "model_module": "@jupyter-widgets/base",
      "model_module_version": "1.0.0",
      "model_name": "LayoutModel",
      "state": {}
     },
     "a4588cc0de184bc8832320fb76949505": {
      "model_module": "@jupyter-widgets/controls",
      "model_module_version": "1.0.0",
      "model_name": "SliderStyleModel",
      "state": {
       "description_width": ""
      }
     },
     "a45d547d58e54087aa33954709b3e27f": {
      "model_module": "jp_proxy_widget",
      "model_module_version": "^0.3.4",
      "model_name": "JSProxyModel",
      "state": {
       "_model_module_version": "^0.3.4",
       "_send_counter": 11,
       "_view_module_version": "^0.3.4",
       "error_msg": "No error",
       "layout": "IPY_MODEL_d1ada41b2e654acda88a78603382310e",
       "rendered": true,
       "status": "Got results."
      }
     },
     "a4806d08eea944289eaa92240ca246d7": {
      "model_module": "@jupyter-widgets/base",
      "model_module_version": "1.0.0",
      "model_name": "LayoutModel",
      "state": {}
     },
     "a4a10e91ee514e8d8df3c62120e8ad7e": {
      "model_module": "@jupyter-widgets/base",
      "model_module_version": "1.0.0",
      "model_name": "LayoutModel",
      "state": {}
     },
     "a4e2bb91829d46fead0c6e503ea1af62": {
      "model_module": "@jupyter-widgets/controls",
      "model_module_version": "1.0.0",
      "model_name": "IntSliderModel",
      "state": {
       "description": "y",
       "layout": "IPY_MODEL_b7f66a9c893b47e8a70781a4a8064154",
       "min": -100,
       "style": "IPY_MODEL_c637d41ba9ae4ee29b56bb98e594fb10"
      }
     },
     "a4f2033e14044ccbb37742b372673847": {
      "model_module": "@jupyter-widgets/base",
      "model_module_version": "1.0.0",
      "model_name": "LayoutModel",
      "state": {}
     },
     "a558e28ae2ec4cdfb59c31a74f8c9e42": {
      "model_module": "@jupyter-widgets/base",
      "model_module_version": "1.0.0",
      "model_name": "LayoutModel",
      "state": {}
     },
     "a5736efe026941f5b28d682dca5eb4ae": {
      "model_module": "@jupyter-widgets/controls",
      "model_module_version": "1.0.0",
      "model_name": "SliderStyleModel",
      "state": {
       "description_width": ""
      }
     },
     "a5af4789865d49cd80c598c65411191c": {
      "model_module": "@jupyter-widgets/controls",
      "model_module_version": "1.0.0",
      "model_name": "DescriptionStyleModel",
      "state": {
       "description_width": ""
      }
     },
     "a5cd14585e15469ea4523aacb8a51489": {
      "model_module": "@jupyter-widgets/controls",
      "model_module_version": "1.0.0",
      "model_name": "SliderStyleModel",
      "state": {
       "description_width": ""
      }
     },
     "a5ec7480cf1347b9add55821bfd5d126": {
      "model_module": "@jupyter-widgets/base",
      "model_module_version": "1.0.0",
      "model_name": "LayoutModel",
      "state": {}
     },
     "a5f69e78401948b983d55ffeef11322c": {
      "model_module": "@jupyter-widgets/base",
      "model_module_version": "1.0.0",
      "model_name": "LayoutModel",
      "state": {}
     },
     "a71e0a46812143639219cc267a777e26": {
      "model_module": "@jupyter-widgets/output",
      "model_module_version": "1.0.0",
      "model_name": "OutputModel",
      "state": {
       "layout": "IPY_MODEL_11d8c75a31fc47a68db22ba03fe70172"
      }
     },
     "a796e87e80984babb3aea6f8278446c4": {
      "model_module": "@jupyter-widgets/base",
      "model_module_version": "1.0.0",
      "model_name": "LayoutModel",
      "state": {}
     },
     "a7a5c7fbf4eb41b28a7670088c55803e": {
      "model_module": "@jupyter-widgets/controls",
      "model_module_version": "1.0.0",
      "model_name": "DescriptionStyleModel",
      "state": {
       "description_width": ""
      }
     },
     "a817562f2cf84d62b26f143dff2f6677": {
      "model_module": "@jupyter-widgets/base",
      "model_module_version": "1.0.0",
      "model_name": "LayoutModel",
      "state": {}
     },
     "a83665ebed594db195e1ee15116102fa": {
      "model_module": "@jupyter-widgets/base",
      "model_module_version": "1.0.0",
      "model_name": "LayoutModel",
      "state": {}
     },
     "a895c20fa5904e5e90d479a850648308": {
      "model_module": "@jupyter-widgets/controls",
      "model_module_version": "1.0.0",
      "model_name": "SliderStyleModel",
      "state": {
       "description_width": ""
      }
     },
     "a89e0eae175246b4813f7ab11a7d7dbc": {
      "model_module": "@jupyter-widgets/base",
      "model_module_version": "1.0.0",
      "model_name": "LayoutModel",
      "state": {}
     },
     "a8ed4bd7010b4157b403b645c909d09b": {
      "model_module": "@jupyter-widgets/base",
      "model_module_version": "1.0.0",
      "model_name": "LayoutModel",
      "state": {}
     },
     "a91cb63369404a839fa3279e3442ce59": {
      "model_module": "@jupyter-widgets/controls",
      "model_module_version": "1.0.0",
      "model_name": "IntSliderModel",
      "state": {
       "description": "red",
       "layout": "IPY_MODEL_0711718a6c504992a69b52793ab8fae7",
       "max": 255,
       "style": "IPY_MODEL_29175feef1a148e18a99ea050f6789a2",
       "value": 127
      }
     },
     "a9ad4a23aec54b7e85e22a7ddde4cf9f": {
      "model_module": "@jupyter-widgets/controls",
      "model_module_version": "1.0.0",
      "model_name": "IntSliderModel",
      "state": {
       "description": "r",
       "layout": "IPY_MODEL_94e4936f21ca4a88b80e7ca0a953f36b",
       "style": "IPY_MODEL_e831c1d4f55c448ea55761cc3d2f358d",
       "value": 50
      }
     },
     "aad571870bce4fd0a13afd5a407bb798": {
      "model_module": "@jupyter-widgets/controls",
      "model_module_version": "1.0.0",
      "model_name": "VBoxModel",
      "state": {
       "_dom_classes": [
        "widget-interact"
       ],
       "children": [
        "IPY_MODEL_7abb52453fb04d0087ae7856d04f0512",
        "IPY_MODEL_120f53b2f22744898f2dcba332c72471",
        "IPY_MODEL_278c14b15124447588f0c5b9b1090a1e",
        "IPY_MODEL_5fd66191b18246f8ace0c8f2d90afa26",
        "IPY_MODEL_92ab3206b3b045359ddf9e9268a4954b",
        "IPY_MODEL_ad3b5b8f9c18486ea4fff2ab006ae4b1",
        "IPY_MODEL_5f605a3c0bf94dd7b50caaa65efc0ffa",
        "IPY_MODEL_7e51d38002b54e0ebd18f159f4d7e26e"
       ],
       "layout": "IPY_MODEL_d2ee1e268a02467cbec808a81abda56b"
      }
     },
     "ab05b6ebf11a414689aa9c0a754256bc": {
      "model_module": "@jupyter-widgets/base",
      "model_module_version": "1.0.0",
      "model_name": "LayoutModel",
      "state": {}
     },
     "aba9e6d809a04cdb8f8d7d9e653c7316": {
      "model_module": "@jupyter-widgets/base",
      "model_module_version": "1.0.0",
      "model_name": "LayoutModel",
      "state": {}
     },
     "ad064ec60306491cb1815b9abdbb5119": {
      "model_module": "@jupyter-widgets/base",
      "model_module_version": "1.0.0",
      "model_name": "LayoutModel",
      "state": {}
     },
     "ad31aa36b3d74280a0da8d037498f93e": {
      "model_module": "@jupyter-widgets/controls",
      "model_module_version": "1.0.0",
      "model_name": "TabModel",
      "state": {
       "_titles": {
        "0": "Canvas",
        "1": "Snapshot"
       },
       "children": [
        "IPY_MODEL_0641ffaf24394f268c2c18cdf7b810bb",
        "IPY_MODEL_813ee9d0f1c5434591c30f50d498c48d"
       ],
       "layout": "IPY_MODEL_5caef0a5004e4315a212fb9303d9ab20"
      }
     },
     "ad3b5b8f9c18486ea4fff2ab006ae4b1": {
      "model_module": "@jupyter-widgets/controls",
      "model_module_version": "1.0.0",
      "model_name": "IntSliderModel",
      "state": {
       "description": "blue",
       "layout": "IPY_MODEL_74faef74215548369eb533fd4e826347",
       "max": 255,
       "style": "IPY_MODEL_841974ce7e044120bd782f63a01aa66b",
       "value": 127
      }
     },
     "ad9ac3883d7a4a2cb5551d0094173280": {
      "model_module": "@jupyter-widgets/output",
      "model_module_version": "1.0.0",
      "model_name": "OutputModel",
      "state": {
       "layout": "IPY_MODEL_716d22fdd9264a66aff6b4d335d77b12"
      }
     },
     "ad9e4f3cd6a849ea83f0c55b902c7803": {
      "model_module": "@jupyter-widgets/controls",
      "model_module_version": "1.0.0",
      "model_name": "SliderStyleModel",
      "state": {
       "description_width": ""
      }
     },
     "adb61307029a413db984b5aff4a0d460": {
      "model_module": "@jupyter-widgets/base",
      "model_module_version": "1.0.0",
      "model_name": "LayoutModel",
      "state": {}
     },
     "ae662bb392a049859ac33368a1e22d7c": {
      "model_module": "@jupyter-widgets/controls",
      "model_module_version": "1.0.0",
      "model_name": "SliderStyleModel",
      "state": {
       "description_width": ""
      }
     },
     "aecb392449b845c6bb67f20a36abdc26": {
      "model_module": "@jupyter-widgets/controls",
      "model_module_version": "1.0.0",
      "model_name": "SliderStyleModel",
      "state": {
       "description_width": ""
      }
     },
     "aeef2d01cfaf49939ea4f81be4dc10fa": {
      "model_module": "@jupyter-widgets/controls",
      "model_module_version": "1.0.0",
      "model_name": "HTMLModel",
      "state": {
       "layout": "IPY_MODEL_7dcfd29da0aa4e149d06378de6474f21",
       "style": "IPY_MODEL_0a165a16730a411cafac642b0eafe0e5",
       "value": "<img src=\"interactive_circle.png\" id=\"snapshot_id_3_1536249905299\"/>\n <div id=\"snapshot_id_4_1536249905300\">interactive_circle.png</div>"
      }
     },
     "af3b3f154c8149e4a4c9c9060a8a32b9": {
      "model_module": "jp_proxy_widget",
      "model_module_version": "^0.3.4",
      "model_name": "JSProxyModel",
      "state": {
       "_model_module_version": "^0.3.4",
       "_send_counter": 2,
       "_view_module_version": "^0.3.4",
       "error_msg": "No error",
       "layout": "IPY_MODEL_a817562f2cf84d62b26f143dff2f6677",
       "rendered": true,
       "status": "Got results."
      }
     },
     "b01e7c425dbb46bf8e031f8138807607": {
      "model_module": "@jupyter-widgets/base",
      "model_module_version": "1.0.0",
      "model_name": "LayoutModel",
      "state": {}
     },
     "b02b5eeaff684c63bd5fc983aba6a5b4": {
      "model_module": "@jupyter-widgets/controls",
      "model_module_version": "1.0.0",
      "model_name": "IntSliderModel",
      "state": {
       "description": "x",
       "layout": "IPY_MODEL_4f95c3887cf847779cfdc721203b7ac7",
       "min": -100,
       "style": "IPY_MODEL_ad9e4f3cd6a849ea83f0c55b902c7803"
      }
     },
     "b0c9a842d4af4dda9c0362edb30fdd31": {
      "model_module": "@jupyter-widgets/base",
      "model_module_version": "1.0.0",
      "model_name": "LayoutModel",
      "state": {}
     },
     "b1d77485b05942f0ae52eb456b75c3da": {
      "model_module": "@jupyter-widgets/controls",
      "model_module_version": "1.0.0",
      "model_name": "SliderStyleModel",
      "state": {
       "description_width": ""
      }
     },
     "b251b72b62b04fe7aafb29fb28efd1fc": {
      "model_module": "@jupyter-widgets/base",
      "model_module_version": "1.0.0",
      "model_name": "LayoutModel",
      "state": {}
     },
     "b30542ec67c940128ae126e2e41a6119": {
      "model_module": "@jupyter-widgets/base",
      "model_module_version": "1.0.0",
      "model_name": "LayoutModel",
      "state": {}
     },
     "b32814a3909546348d771146e2cc04a5": {
      "model_module": "@jupyter-widgets/controls",
      "model_module_version": "1.0.0",
      "model_name": "FloatSliderModel",
      "state": {
       "description": "start",
       "layout": "IPY_MODEL_a1b35c0157364dde85d326ffe6273bf4",
       "max": 6.383185307179586,
       "step": 0.1,
       "style": "IPY_MODEL_40b3a6e46868489c8da8169d343837c4",
       "value": 2.6
      }
     },
     "b3789c225f4a4ff683e2cfe5b7c3d354": {
      "model_module": "@jupyter-widgets/controls",
      "model_module_version": "1.0.0",
      "model_name": "IntSliderModel",
      "state": {
       "description": "lineWidth",
       "layout": "IPY_MODEL_ec9a4c8fe6df4f229b5b07f6fdddcf76",
       "max": 20,
       "style": "IPY_MODEL_076401acc0ed4270ba5ddb059105b700",
       "value": 19
      }
     },
     "b4026cb6c8434654baf09dffe7377139": {
      "model_module": "@jupyter-widgets/controls",
      "model_module_version": "1.0.0",
      "model_name": "CheckboxModel",
      "state": {
       "description": "fill",
       "disabled": false,
       "layout": "IPY_MODEL_74ea6cc38ac2424fb12021dfde5a4e57",
       "style": "IPY_MODEL_141f0da05dd043878ada6d01aabde1de",
       "value": false
      }
     },
     "b488a544375a4c02a9d199c4cd2e361e": {
      "model_module": "@jupyter-widgets/base",
      "model_module_version": "1.0.0",
      "model_name": "LayoutModel",
      "state": {}
     },
     "b63fcb05e17642aab82f0315f957d681": {
      "model_module": "@jupyter-widgets/base",
      "model_module_version": "1.0.0",
      "model_name": "LayoutModel",
      "state": {}
     },
     "b6494a4a0cf346b986fc8dee4f9f848b": {
      "model_module": "@jupyter-widgets/controls",
      "model_module_version": "1.0.0",
      "model_name": "SliderStyleModel",
      "state": {
       "description_width": ""
      }
     },
     "b67e2b31d2c4419ca6d200ced4f2225b": {
      "model_module": "@jupyter-widgets/base",
      "model_module_version": "1.0.0",
      "model_name": "LayoutModel",
      "state": {}
     },
     "b6bcc32cc9914f6ea4b313a71571ee36": {
      "model_module": "@jupyter-widgets/base",
      "model_module_version": "1.0.0",
      "model_name": "LayoutModel",
      "state": {}
     },
     "b6bd1cfa23e648f39c4e76cff524b225": {
      "model_module": "@jupyter-widgets/controls",
      "model_module_version": "1.0.0",
      "model_name": "TabModel",
      "state": {
       "_titles": {
        "0": "Canvas",
        "1": "Snapshot"
       },
       "children": [
        "IPY_MODEL_fbec0491c079437da1d0353af56861a7",
        "IPY_MODEL_120d49b4e746400da20e028973a20fe7"
       ],
       "layout": "IPY_MODEL_3a0ec3f676e5402ebe4376a3f6d6b7eb"
      }
     },
     "b6cd2dd3ca7b4a82acad007b6b3f594f": {
      "model_module": "@jupyter-widgets/controls",
      "model_module_version": "1.0.0",
      "model_name": "IntSliderModel",
      "state": {
       "description": "y",
       "layout": "IPY_MODEL_25f711c919fc42c5acf1251267909e68",
       "min": -100,
       "style": "IPY_MODEL_0bbd75a7181a4e08b0e29a79e02219bc",
       "value": 70
      }
     },
     "b6edfe36ded441ba98d5357a6f72e8f1": {
      "model_module": "jp_proxy_widget",
      "model_module_version": "^0.3.4",
      "model_name": "JSProxyModel",
      "state": {
       "_model_module_version": "^0.3.4",
       "_send_counter": 11,
       "_view_module_version": "^0.3.4",
       "error_msg": "No error",
       "layout": "IPY_MODEL_670003f8aa1449c0b6448f2ff3c95b4e",
       "rendered": true,
       "status": "Got results."
      }
     },
     "b7f66a9c893b47e8a70781a4a8064154": {
      "model_module": "@jupyter-widgets/base",
      "model_module_version": "1.0.0",
      "model_name": "LayoutModel",
      "state": {}
     },
     "b817b6fecc4d432585969e2335f72d05": {
      "model_module": "@jupyter-widgets/controls",
      "model_module_version": "1.0.0",
      "model_name": "HTMLModel",
      "state": {
       "layout": "IPY_MODEL_ddf5f8cc685549199944f2af4ae5e7ef",
       "style": "IPY_MODEL_eef954dc1c954f29bc3df82a2aff1d01",
       "value": "<img src=\"interactive_circle.png\" id=\"snapshot_id_9_1536246393542\"/>\n <div id=\"snapshot_id_10_1536246393542\">interactive_circle.png</div>"
      }
     },
     "b8e66a149abb47b6aa364842a8786bb1": {
      "model_module": "@jupyter-widgets/base",
      "model_module_version": "1.0.0",
      "model_name": "LayoutModel",
      "state": {}
     },
     "b91ef243e3be43ecb2f67c2b53ff570e": {
      "model_module": "@jupyter-widgets/controls",
      "model_module_version": "1.0.0",
      "model_name": "DescriptionStyleModel",
      "state": {
       "description_width": ""
      }
     },
     "b92582db2097402d89bb9ea202df484e": {
      "model_module": "@jupyter-widgets/controls",
      "model_module_version": "1.0.0",
      "model_name": "VBoxModel",
      "state": {
       "_dom_classes": [
        "widget-interact"
       ],
       "children": [
        "IPY_MODEL_5a8d6f46a8084d5e92434335feabb89c",
        "IPY_MODEL_675d31bd190f44cfaec15670abe28f69",
        "IPY_MODEL_3183ced7344449de8db67aaa128c8228",
        "IPY_MODEL_735c58b34315471e962534256a552196",
        "IPY_MODEL_9f0168c2896342f59cc9d5c230718d78",
        "IPY_MODEL_6be51e8baa3d4e25bfc3f484503e6b55",
        "IPY_MODEL_374eab8fee6243d3ae3b8f150c390a3e",
        "IPY_MODEL_d4d3a91362c8496e8f5e556addf2f7b5"
       ],
       "layout": "IPY_MODEL_28d89deba6ff402f8c7778dfc7a0650c"
      }
     },
     "b9c4487767184455aa98e57da81048a3": {
      "model_module": "@jupyter-widgets/output",
      "model_module_version": "1.0.0",
      "model_name": "OutputModel",
      "state": {
       "layout": "IPY_MODEL_fc3b94290d26444d8078c309bdf6a796"
      }
     },
     "ba45b99b941e49149faa3102ac0c6bcb": {
      "model_module": "@jupyter-widgets/controls",
      "model_module_version": "1.0.0",
      "model_name": "CheckboxModel",
      "state": {
       "description": "fill",
       "disabled": false,
       "layout": "IPY_MODEL_b6bcc32cc9914f6ea4b313a71571ee36",
       "style": "IPY_MODEL_d0ca7f495cfa4489923a3e0bdf804d9a",
       "value": false
      }
     },
     "ba712410e6124d549f253b83a2386265": {
      "model_module": "@jupyter-widgets/base",
      "model_module_version": "1.0.0",
      "model_name": "LayoutModel",
      "state": {}
     },
     "bae5394ab64e4bb1b99de7491ac84b6b": {
      "model_module": "@jupyter-widgets/controls",
      "model_module_version": "1.0.0",
      "model_name": "IntSliderModel",
      "state": {
       "description": "blue",
       "layout": "IPY_MODEL_33b4f493f865465e847041d95a0ae6ae",
       "max": 255,
       "style": "IPY_MODEL_0cb87f1e88684fcc8ceb6ea892cfec1b",
       "value": 255
      }
     },
     "bb806e7ec94f45a2b8cea6e2ae2255b9": {
      "model_module": "@jupyter-widgets/controls",
      "model_module_version": "1.0.0",
      "model_name": "IntSliderModel",
      "state": {
       "description": "blue",
       "layout": "IPY_MODEL_2400671700b64c99a2b65e1898f8c0a5",
       "max": 255,
       "style": "IPY_MODEL_bdc72911a863438d8a01fd585a94d015",
       "value": 120
      }
     },
     "bb92eb26da034c888ca5a8298c238284": {
      "model_module": "@jupyter-widgets/base",
      "model_module_version": "1.0.0",
      "model_name": "LayoutModel",
      "state": {}
     },
     "bbabe3affcb24c28a5026429796db7fa": {
      "model_module": "@jupyter-widgets/controls",
      "model_module_version": "1.0.0",
      "model_name": "VBoxModel",
      "state": {
       "_dom_classes": [
        "widget-interact"
       ],
       "children": [
        "IPY_MODEL_0f0b3e7c4792423d9ee9aa5f00f82f9e",
        "IPY_MODEL_67145fa1e2f84885a2f0369c931d1147",
        "IPY_MODEL_a9ad4a23aec54b7e85e22a7ddde4cf9f",
        "IPY_MODEL_5b3fd46a23b04c3b8784d83d2ef292ac",
        "IPY_MODEL_144badcb5fbd449981ed86172490c0c4",
        "IPY_MODEL_809cd9430f9a43eca3ea6dc5ea5af127",
        "IPY_MODEL_dd7c4e5fce814bd5bda5b8bc4fbf4dbf",
        "IPY_MODEL_bae5394ab64e4bb1b99de7491ac84b6b",
        "IPY_MODEL_db20cd32cc654c3e8bb2cf4e0dac38a9",
        "IPY_MODEL_39a09fa8d131455ca09c8ef8bcac6eea"
       ],
       "layout": "IPY_MODEL_a5ec7480cf1347b9add55821bfd5d126"
      }
     },
     "bc0c9962453741fa87bd0b13b4442d84": {
      "model_module": "@jupyter-widgets/controls",
      "model_module_version": "1.0.0",
      "model_name": "HTMLModel",
      "state": {
       "layout": "IPY_MODEL_e9c6182c9a2d4eae8cec7ca083c13915",
       "style": "IPY_MODEL_c5f7efd85a71477fa5401c8a76739ec0",
       "value": "<img src=\"interactive_circle.png\" id=\"snapshot_id_5_1536249985348\"/>\n <div id=\"snapshot_id_6_1536249985348\">interactive_circle.png</div>"
      }
     },
     "bc4a9abaf51a47fab5340a5b1c7be71f": {
      "model_module": "@jupyter-widgets/base",
      "model_module_version": "1.0.0",
      "model_name": "LayoutModel",
      "state": {}
     },
     "bc8c2db07a7546f18a3e41352877b5e0": {
      "model_module": "@jupyter-widgets/controls",
      "model_module_version": "1.0.0",
      "model_name": "HTMLModel",
      "state": {
       "layout": "IPY_MODEL_0c1b85fa2d7744d9b92b6ce8964dbaeb",
       "style": "IPY_MODEL_d9bbec76e58244b0b3d1de3df4573b5c",
       "value": "<img src=\"interactive_circle.png\" id=\"snapshot_id_27_1536247408837\"/>\n <div id=\"snapshot_id_28_1536247408837\">interactive_circle.png</div>"
      }
     },
     "bcb8b056462640f3b7ff0f6b5bec2541": {
      "model_module": "@jupyter-widgets/base",
      "model_module_version": "1.0.0",
      "model_name": "LayoutModel",
      "state": {}
     },
     "bd03f2dc0e314aee9395e440a86b480c": {
      "model_module": "@jupyter-widgets/output",
      "model_module_version": "1.0.0",
      "model_name": "OutputModel",
      "state": {
       "layout": "IPY_MODEL_48fcb461f33e459bbc3d3f23a651adea"
      }
     },
     "bd3e3066ddeb413cab550f73cb41af03": {
      "model_module": "@jupyter-widgets/controls",
      "model_module_version": "1.0.0",
      "model_name": "VBoxModel",
      "state": {
       "_dom_classes": [
        "widget-interact"
       ],
       "children": [
        "IPY_MODEL_89aff094b3e04310b0239eb75f2514a8",
        "IPY_MODEL_da8e78505c804e40a83cb4917f49f0fe",
        "IPY_MODEL_289a0153c9a14816a57ad94f5c55828e",
        "IPY_MODEL_fc466280281b46d1b6aad61a3266a9e4",
        "IPY_MODEL_5a099e350c7a4ce5b1acf3961d49a60c",
        "IPY_MODEL_b4026cb6c8434654baf09dffe7377139",
        "IPY_MODEL_b3789c225f4a4ff683e2cfe5b7c3d354",
        "IPY_MODEL_9544f814436a4e1bb03a9d5deb788c5c",
        "IPY_MODEL_97c7c41c7ac741d488bd9d55e0c23671",
        "IPY_MODEL_df5db89374544bec9858fa5e6039bdcd",
        "IPY_MODEL_8ebe17764271456188b7be636fb3713d",
        "IPY_MODEL_173b705d6da346a1b794de681834d292"
       ],
       "layout": "IPY_MODEL_5ca3f726dcba4713a8f372a5c8bce38d"
      }
     },
     "bd8885ee5ba040a18d194a8f4e2c374a": {
      "model_module": "@jupyter-widgets/controls",
      "model_module_version": "1.0.0",
      "model_name": "SliderStyleModel",
      "state": {
       "description_width": ""
      }
     },
     "bdc72911a863438d8a01fd585a94d015": {
      "model_module": "@jupyter-widgets/controls",
      "model_module_version": "1.0.0",
      "model_name": "SliderStyleModel",
      "state": {
       "description_width": ""
      }
     },
     "bf61708c3c25461fa129665eb9f0b3ef": {
      "model_module": "@jupyter-widgets/controls",
      "model_module_version": "1.0.0",
      "model_name": "SliderStyleModel",
      "state": {
       "description_width": ""
      }
     },
     "bfb470373db640ee9f814c2952770fc9": {
      "model_module": "@jupyter-widgets/base",
      "model_module_version": "1.0.0",
      "model_name": "LayoutModel",
      "state": {}
     },
     "bfb5878c09da49ec8ef0048db46f889f": {
      "model_module": "@jupyter-widgets/controls",
      "model_module_version": "1.0.0",
      "model_name": "VBoxModel",
      "state": {
       "_dom_classes": [
        "widget-interact"
       ],
       "children": [
        "IPY_MODEL_cbeb1d164b1244ea84f926ebd7f56331",
        "IPY_MODEL_0c5742a5584a443ca5cb066e4ec39e35",
        "IPY_MODEL_5b041f78229d452f978c6a226f89bb2c",
        "IPY_MODEL_f00dd01cd1834f3fa5c4eea1bdfb6bfe",
        "IPY_MODEL_d2cd4e61e556453281c5ec70e4900d17",
        "IPY_MODEL_6c66db1765cd453caea29960e7ceff8e",
        "IPY_MODEL_5219df53f7754cf7898e5c910facc49d",
        "IPY_MODEL_852a0e2337244d8eb395136ec6aa2fe6",
        "IPY_MODEL_1b236a9ebc484a3fa96ed4c9def7abd1",
        "IPY_MODEL_498065b088b64a16a84a6a13d6633ef1",
        "IPY_MODEL_d6bb29c9c3c34159afe9480d0f0d0063",
        "IPY_MODEL_67b3c86868704cf9b66b2fc15b3dae54"
       ],
       "layout": "IPY_MODEL_bcb8b056462640f3b7ff0f6b5bec2541"
      }
     },
     "bfe743d5521045c7a7801eb8537970a6": {
      "model_module": "@jupyter-widgets/controls",
      "model_module_version": "1.0.0",
      "model_name": "VBoxModel",
      "state": {
       "children": [
        "IPY_MODEL_a45d547d58e54087aa33954709b3e27f",
        "IPY_MODEL_f674a6acfe474528ae03d560df702077"
       ],
       "layout": "IPY_MODEL_8855f0d6bf664ebe9107ae431a1f578e"
      }
     },
     "bfe986d974c84706b6a41a8165cc18a5": {
      "model_module": "@jupyter-widgets/controls",
      "model_module_version": "1.0.0",
      "model_name": "CheckboxModel",
      "state": {
       "description": "fill",
       "disabled": false,
       "layout": "IPY_MODEL_86495dfee716480995bde7d3c1780017",
       "style": "IPY_MODEL_cb21c46c9e7242c5b718f9c05895172c",
       "value": false
      }
     },
     "c04582c3823e45b7ba5b049db3e068d1": {
      "model_module": "@jupyter-widgets/controls",
      "model_module_version": "1.0.0",
      "model_name": "FloatSliderModel",
      "state": {
       "description": "alpha",
       "layout": "IPY_MODEL_fa59932b4aa2426596538c48dfa0378a",
       "max": 1,
       "step": 0.1,
       "style": "IPY_MODEL_361bb3a43cfb415a83e926ef37a9ef5c",
       "value": 0.5
      }
     },
     "c051e60ad16e4262b6ba4ae9b9828076": {
      "model_module": "@jupyter-widgets/base",
      "model_module_version": "1.0.0",
      "model_name": "LayoutModel",
      "state": {}
     },
     "c0bf9646213642e3a7606a9101d27e3a": {
      "model_module": "@jupyter-widgets/controls",
      "model_module_version": "1.0.0",
      "model_name": "FloatSliderModel",
      "state": {
       "description": "alpha",
       "layout": "IPY_MODEL_7f52fbe106d34d4fb2c991b17afaa1ab",
       "max": 1,
       "step": 0.1,
       "style": "IPY_MODEL_8a194b035dd145eab1996ce79200dd63",
       "value": 1
      }
     },
     "c0cb3cd4ab494d718bc2675688df6894": {
      "model_module": "@jupyter-widgets/base",
      "model_module_version": "1.0.0",
      "model_name": "LayoutModel",
      "state": {}
     },
     "c14d2fe68aa34c339422b30329ff0353": {
      "model_module": "@jupyter-widgets/base",
      "model_module_version": "1.0.0",
      "model_name": "LayoutModel",
      "state": {}
     },
     "c1f9ef91a3854f2788cb95494958537f": {
      "model_module": "jp_proxy_widget",
      "model_module_version": "^0.3.4",
      "model_name": "JSProxyModel",
      "state": {
       "_model_module_version": "^0.3.4",
       "_send_counter": 11,
       "_view_module_version": "^0.3.4",
       "error_msg": "No error",
       "layout": "IPY_MODEL_5d69ed3ff2f74b48a32ccf4497d84cd5",
       "rendered": true,
       "status": "Got results."
      }
     },
     "c25afe940e6f4d84a4f6b11c578b572f": {
      "model_module": "@jupyter-widgets/controls",
      "model_module_version": "1.0.0",
      "model_name": "SliderStyleModel",
      "state": {
       "description_width": ""
      }
     },
     "c321150d3889420097a520653cef8df6": {
      "model_module": "@jupyter-widgets/base",
      "model_module_version": "1.0.0",
      "model_name": "LayoutModel",
      "state": {}
     },
     "c35ae68ad0d1496e9f3d97f0dcb7494f": {
      "model_module": "@jupyter-widgets/output",
      "model_module_version": "1.0.0",
      "model_name": "OutputModel",
      "state": {
       "layout": "IPY_MODEL_6071918863be40938710b88abcde2ba4"
      }
     },
     "c36448c0afdc4b62ad8aab3841015e5f": {
      "model_module": "@jupyter-widgets/controls",
      "model_module_version": "1.0.0",
      "model_name": "IntSliderModel",
      "state": {
       "description": "r",
       "layout": "IPY_MODEL_930beb4cba624664a44324192d0ab957",
       "style": "IPY_MODEL_456284c4bc4644ec824cad934213daf8",
       "value": 50
      }
     },
     "c3852c9ce898496996a7c217a28f91c2": {
      "model_module": "@jupyter-widgets/base",
      "model_module_version": "1.0.0",
      "model_name": "LayoutModel",
      "state": {}
     },
     "c5b2a34cb7294d459365381e3e13c8e6": {
      "model_module": "@jupyter-widgets/base",
      "model_module_version": "1.0.0",
      "model_name": "LayoutModel",
      "state": {}
     },
     "c5d30691d81f465689529e63331fe4b3": {
      "model_module": "@jupyter-widgets/controls",
      "model_module_version": "1.0.0",
      "model_name": "IntSliderModel",
      "state": {
       "description": "x",
       "layout": "IPY_MODEL_ed37bd2cb89e4b5bace8145f7d374df0",
       "min": -100,
       "style": "IPY_MODEL_0d6eae09978a488fa7f3c6f4bdd0099a"
      }
     },
     "c5f7efd85a71477fa5401c8a76739ec0": {
      "model_module": "@jupyter-widgets/controls",
      "model_module_version": "1.0.0",
      "model_name": "DescriptionStyleModel",
      "state": {
       "description_width": ""
      }
     },
     "c637d41ba9ae4ee29b56bb98e594fb10": {
      "model_module": "@jupyter-widgets/controls",
      "model_module_version": "1.0.0",
      "model_name": "SliderStyleModel",
      "state": {
       "description_width": ""
      }
     },
     "c63c46a1b8724c8f848ac25c31265a97": {
      "model_module": "@jupyter-widgets/controls",
      "model_module_version": "1.0.0",
      "model_name": "SliderStyleModel",
      "state": {
       "description_width": ""
      }
     },
     "c6902fa287be47dcb8f3cef19c803b3f": {
      "model_module": "@jupyter-widgets/controls",
      "model_module_version": "1.0.0",
      "model_name": "SliderStyleModel",
      "state": {
       "description_width": ""
      }
     },
     "c6b1d45510234e3d8d35ac54244f371c": {
      "model_module": "@jupyter-widgets/controls",
      "model_module_version": "1.0.0",
      "model_name": "IntSliderModel",
      "state": {
       "description": "lineWidth",
       "layout": "IPY_MODEL_385c4cb31c1d491787737c08bb69f148",
       "max": 20,
       "style": "IPY_MODEL_889d5e1c1bf8499e850e275b0e907c79",
       "value": 15
      }
     },
     "c83a73155cb045198bc862797b555bc0": {
      "model_module": "@jupyter-widgets/controls",
      "model_module_version": "1.0.0",
      "model_name": "IntSliderModel",
      "state": {
       "description": "blue",
       "layout": "IPY_MODEL_d5a5472d832540eaa737314b68a3a3a2",
       "max": 255,
       "style": "IPY_MODEL_2e7b00438b9c409ea7d5451e5ce7e3ea",
       "value": 127
      }
     },
     "c8408daa8eae4c0cb4f93df44aa93bf8": {
      "model_module": "@jupyter-widgets/controls",
      "model_module_version": "1.0.0",
      "model_name": "DescriptionStyleModel",
      "state": {
       "description_width": ""
      }
     },
     "c9197738c9e74ffca50503ed157fd7a5": {
      "model_module": "jp_proxy_widget",
      "model_module_version": "^0.3.4",
      "model_name": "JSProxyModel",
      "state": {
       "_model_module_version": "^0.3.4",
       "_send_counter": 11,
       "_view_module_version": "^0.3.4",
       "error_msg": "No error",
       "layout": "IPY_MODEL_8f9966ed5dc747a7a049f76eeeb5832e",
       "rendered": true,
       "status": "Got results."
      }
     },
     "c93a4a07dc114e9a8e7200d9bb1b84a7": {
      "model_module": "@jupyter-widgets/base",
      "model_module_version": "1.0.0",
      "model_name": "LayoutModel",
      "state": {}
     },
     "c93de285d2c343a0bba8a56cbfc7cf3b": {
      "model_module": "@jupyter-widgets/base",
      "model_module_version": "1.0.0",
      "model_name": "LayoutModel",
      "state": {}
     },
     "c93e2d5d660b4e99b657000bd3ec3ae3": {
      "model_module": "@jupyter-widgets/controls",
      "model_module_version": "1.0.0",
      "model_name": "SliderStyleModel",
      "state": {
       "description_width": ""
      }
     },
     "c94108fed8b94ec986c4f5efca66d8db": {
      "model_module": "@jupyter-widgets/controls",
      "model_module_version": "1.0.0",
      "model_name": "IntSliderModel",
      "state": {
       "description": "y",
       "layout": "IPY_MODEL_176f9de84ad24bb08f6e993c71c10a9f",
       "min": -100,
       "style": "IPY_MODEL_009faa4d2649492c9b4d0bd213c9baed"
      }
     },
     "c9564860f70c4668a5fdd72cb85d52c1": {
      "model_module": "@jupyter-widgets/controls",
      "model_module_version": "1.0.0",
      "model_name": "DescriptionStyleModel",
      "state": {
       "description_width": ""
      }
     },
     "c9739257a84a4bda98972255f3b64850": {
      "model_module": "@jupyter-widgets/base",
      "model_module_version": "1.0.0",
      "model_name": "LayoutModel",
      "state": {}
     },
     "c9bb937b54294cc3ace97fef6e8725e4": {
      "model_module": "@jupyter-widgets/controls",
      "model_module_version": "1.0.0",
      "model_name": "HTMLModel",
      "state": {
       "layout": "IPY_MODEL_5027fd4f925642d9b412dd5309ce1860",
       "style": "IPY_MODEL_e70715f5d7ef4e95b8214f73bac1a47c",
       "value": "<img src=\"interactive_circle.png\" id=\"snapshot_id_1_1536249636198\"/>\n <div id=\"snapshot_id_2_1536249636198\">interactive_circle.png</div>"
      }
     },
     "ca258b5b09504167b78ab64eefe65565": {
      "model_module": "@jupyter-widgets/output",
      "model_module_version": "1.0.0",
      "model_name": "OutputModel",
      "state": {
       "layout": "IPY_MODEL_c14d2fe68aa34c339422b30329ff0353"
      }
     },
     "caaeac4ce9754a619d66477a6ed902e9": {
      "model_module": "@jupyter-widgets/controls",
      "model_module_version": "1.0.0",
      "model_name": "IntSliderModel",
      "state": {
       "description": "x",
       "layout": "IPY_MODEL_5be64bc9a28c4098989690d44ea350ac",
       "min": -100,
       "style": "IPY_MODEL_7b7d161f386e4e9caad61d54ef813dec"
      }
     },
     "caed84739d874a51bc8e8a549434bba1": {
      "model_module": "@jupyter-widgets/base",
      "model_module_version": "1.0.0",
      "model_name": "LayoutModel",
      "state": {}
     },
     "cb21c46c9e7242c5b718f9c05895172c": {
      "model_module": "@jupyter-widgets/controls",
      "model_module_version": "1.0.0",
      "model_name": "DescriptionStyleModel",
      "state": {
       "description_width": ""
      }
     },
     "cbe904656d3544e5be9a3bb3d0d5a862": {
      "model_module": "jp_proxy_widget",
      "model_module_version": "^0.3.4",
      "model_name": "JSProxyModel",
      "state": {
       "_model_module_version": "^0.3.4",
       "_send_counter": 193,
       "_view_module_version": "^0.3.4",
       "error_msg": "No error",
       "layout": "IPY_MODEL_9ba4b277b2934979aabf501a57c812bc",
       "rendered": true,
       "status": "Got results."
      }
     },
     "cbeb1d164b1244ea84f926ebd7f56331": {
      "model_module": "@jupyter-widgets/controls",
      "model_module_version": "1.0.0",
      "model_name": "IntSliderModel",
      "state": {
       "description": "x",
       "layout": "IPY_MODEL_67d57405fa244a00a3a8ccd75b144aee",
       "min": -100,
       "style": "IPY_MODEL_6af12d36ec524d2a9f93d40d8180a1f6",
       "value": -37
      }
     },
     "cc875a482b81481aabaa4b59941bb886": {
      "model_module": "@jupyter-widgets/controls",
      "model_module_version": "1.0.0",
      "model_name": "VBoxModel",
      "state": {
       "children": [
        "IPY_MODEL_b6edfe36ded441ba98d5357a6f72e8f1",
        "IPY_MODEL_d01240ca20bf4e438c4f59530776f144"
       ],
       "layout": "IPY_MODEL_df3a643769c54959a85cc571b9fadeb8"
      }
     },
     "cce6bbd9517b44bfa945dc1891d45351": {
      "model_module": "@jupyter-widgets/controls",
      "model_module_version": "1.0.0",
      "model_name": "SliderStyleModel",
      "state": {
       "description_width": ""
      }
     },
     "cd0e45c33eda496aa1a9f1cef149434a": {
      "model_module": "@jupyter-widgets/base",
      "model_module_version": "1.0.0",
      "model_name": "LayoutModel",
      "state": {}
     },
     "cdd45dd4f24047f78b85b1a9bd37fc9f": {
      "model_module": "@jupyter-widgets/controls",
      "model_module_version": "1.0.0",
      "model_name": "IntSliderModel",
      "state": {
       "description": "r",
       "layout": "IPY_MODEL_a83665ebed594db195e1ee15116102fa",
       "style": "IPY_MODEL_04750ce289014b89a2abc7b2941ff541",
       "value": 50
      }
     },
     "cf0f29811c1e4fe19a4da520a384bdb9": {
      "model_module": "@jupyter-widgets/controls",
      "model_module_version": "1.0.0",
      "model_name": "VBoxModel",
      "state": {
       "children": [
        "IPY_MODEL_cbe904656d3544e5be9a3bb3d0d5a862",
        "IPY_MODEL_af3b3f154c8149e4a4c9c9060a8a32b9"
       ],
       "layout": "IPY_MODEL_b63fcb05e17642aab82f0315f957d681"
      }
     },
     "cf42937fa4be4510b9d4d4a48d4c2bdf": {
      "model_module": "@jupyter-widgets/controls",
      "model_module_version": "1.0.0",
      "model_name": "SliderStyleModel",
      "state": {
       "description_width": ""
      }
     },
     "cfe0245f48dd46f288899164a0a516bd": {
      "model_module": "@jupyter-widgets/base",
      "model_module_version": "1.0.0",
      "model_name": "LayoutModel",
      "state": {}
     },
     "d01240ca20bf4e438c4f59530776f144": {
      "model_module": "jp_proxy_widget",
      "model_module_version": "^0.3.4",
      "model_name": "JSProxyModel",
      "state": {
       "_model_module_version": "^0.3.4",
       "_send_counter": 2,
       "_view_module_version": "^0.3.4",
       "error_msg": "No error",
       "layout": "IPY_MODEL_32ea6d58b7d14d52af1ea024f738485b",
       "rendered": true,
       "status": "Got results."
      }
     },
     "d03f96aa10e64b6c8138092e035a2900": {
      "model_module": "@jupyter-widgets/controls",
      "model_module_version": "1.0.0",
      "model_name": "HTMLModel",
      "state": {
       "layout": "IPY_MODEL_dd9d04494d2b4e9ab95331b4e5686841",
       "style": "IPY_MODEL_c8408daa8eae4c0cb4f93df44aa93bf8",
       "value": "<img src=\"interactive_circle.png\" id=\"snapshot_id_23_1536247025635\"/>\n <div id=\"snapshot_id_24_1536247025635\">interactive_circle.png</div>"
      }
     },
     "d0b2a1f5bc104761968b1bc483afc644": {
      "model_module": "@jupyter-widgets/controls",
      "model_module_version": "1.0.0",
      "model_name": "IntSliderModel",
      "state": {
       "description": "r",
       "layout": "IPY_MODEL_a89e0eae175246b4813f7ab11a7d7dbc",
       "style": "IPY_MODEL_92ba613b77e24e91994e5756cb58ab09",
       "value": 50
      }
     },
     "d0ca7f495cfa4489923a3e0bdf804d9a": {
      "model_module": "@jupyter-widgets/controls",
      "model_module_version": "1.0.0",
      "model_name": "DescriptionStyleModel",
      "state": {
       "description_width": ""
      }
     },
     "d196b922cf4042258da63e117d905660": {
      "model_module": "@jupyter-widgets/controls",
      "model_module_version": "1.0.0",
      "model_name": "SliderStyleModel",
      "state": {
       "description_width": ""
      }
     },
     "d1ada41b2e654acda88a78603382310e": {
      "model_module": "@jupyter-widgets/base",
      "model_module_version": "1.0.0",
      "model_name": "LayoutModel",
      "state": {}
     },
     "d2660cc3be694b73b15f200e20384739": {
      "model_module": "@jupyter-widgets/controls",
      "model_module_version": "1.0.0",
      "model_name": "SliderStyleModel",
      "state": {
       "description_width": ""
      }
     },
     "d2cd4e61e556453281c5ec70e4900d17": {
      "model_module": "@jupyter-widgets/controls",
      "model_module_version": "1.0.0",
      "model_name": "FloatSliderModel",
      "state": {
       "description": "arc",
       "layout": "IPY_MODEL_6d4babb2a84444899740d58c0f97d7d5",
       "max": 6.383185307179586,
       "step": 0.1,
       "style": "IPY_MODEL_d50d3a0cd7344f56a6db3839986cb8c6",
       "value": 3.9
      }
     },
     "d2ee1e268a02467cbec808a81abda56b": {
      "model_module": "@jupyter-widgets/base",
      "model_module_version": "1.0.0",
      "model_name": "LayoutModel",
      "state": {}
     },
     "d3f1fa849def4623a855a1c53a27eb78": {
      "model_module": "@jupyter-widgets/controls",
      "model_module_version": "1.0.0",
      "model_name": "VBoxModel",
      "state": {
       "children": [
        "IPY_MODEL_e0a1cc0237734710a39ccced2933c321",
        "IPY_MODEL_645127a3289045d98b16205088beb533"
       ],
       "layout": "IPY_MODEL_a4806d08eea944289eaa92240ca246d7"
      }
     },
     "d489cc2f4f5844a08f377f7dbbf5b611": {
      "model_module": "@jupyter-widgets/base",
      "model_module_version": "1.0.0",
      "model_name": "LayoutModel",
      "state": {}
     },
     "d4c739f16e634587b293f737f2f7b649": {
      "model_module": "@jupyter-widgets/controls",
      "model_module_version": "1.0.0",
      "model_name": "IntSliderModel",
      "state": {
       "description": "green",
       "layout": "IPY_MODEL_df7a4d1d7e4e419d880b0f31047bc61d",
       "max": 255,
       "style": "IPY_MODEL_a2e2e81a41604807a6ef8e383250fce5",
       "value": 127
      }
     },
     "d4d3a91362c8496e8f5e556addf2f7b5": {
      "model_module": "@jupyter-widgets/output",
      "model_module_version": "1.0.0",
      "model_name": "OutputModel",
      "state": {
       "layout": "IPY_MODEL_bfb470373db640ee9f814c2952770fc9",
       "outputs": [
        {
         "name": "stdout",
         "output_type": "stream",
         "text": "color is 'rgba(127,127,127,0)'\n"
        }
       ]
      }
     },
     "d50d3a0cd7344f56a6db3839986cb8c6": {
      "model_module": "@jupyter-widgets/controls",
      "model_module_version": "1.0.0",
      "model_name": "SliderStyleModel",
      "state": {
       "description_width": ""
      }
     },
     "d5a5472d832540eaa737314b68a3a3a2": {
      "model_module": "@jupyter-widgets/base",
      "model_module_version": "1.0.0",
      "model_name": "LayoutModel",
      "state": {}
     },
     "d62fd1b878a24442ba33a29738dac5e8": {
      "model_module": "@jupyter-widgets/base",
      "model_module_version": "1.0.0",
      "model_name": "LayoutModel",
      "state": {}
     },
     "d6bb29c9c3c34159afe9480d0f0d0063": {
      "model_module": "@jupyter-widgets/controls",
      "model_module_version": "1.0.0",
      "model_name": "FloatSliderModel",
      "state": {
       "description": "alpha",
       "layout": "IPY_MODEL_5ce051275ef54c379c8c113ad2438a21",
       "max": 1,
       "step": 0.1,
       "style": "IPY_MODEL_b6494a4a0cf346b986fc8dee4f9f848b",
       "value": 1
      }
     },
     "d77b6462ad514ee8876ac19f2c622c6b": {
      "model_module": "@jupyter-widgets/controls",
      "model_module_version": "1.0.0",
      "model_name": "IntSliderModel",
      "state": {
       "description": "y",
       "layout": "IPY_MODEL_75b8407b3a7d47b2b2bf8c3687d77742",
       "min": -100,
       "style": "IPY_MODEL_4e1d1a8733fc4cdbb4495a74bc300bd7"
      }
     },
     "d795fc1c655a4c2983521394b5ed6597": {
      "model_module": "@jupyter-widgets/controls",
      "model_module_version": "1.0.0",
      "model_name": "SliderStyleModel",
      "state": {
       "description_width": ""
      }
     },
     "d860346a4d4c4ed6a843f3216705e6de": {
      "model_module": "jp_proxy_widget",
      "model_module_version": "^0.3.4",
      "model_name": "JSProxyModel",
      "state": {
       "_model_module_version": "^0.3.4",
       "_send_counter": 2,
       "_view_module_version": "^0.3.4",
       "error_msg": "No error",
       "layout": "IPY_MODEL_4244e0c3771c4898942ed4036cba7fb0",
       "rendered": true,
       "status": "Got results."
      }
     },
     "d9bbec76e58244b0b3d1de3df4573b5c": {
      "model_module": "@jupyter-widgets/controls",
      "model_module_version": "1.0.0",
      "model_name": "DescriptionStyleModel",
      "state": {
       "description_width": ""
      }
     },
     "d9f068785a9c422abd494a633656441a": {
      "model_module": "@jupyter-widgets/base",
      "model_module_version": "1.0.0",
      "model_name": "LayoutModel",
      "state": {}
     },
     "da1ebfdf11064cc9863ace7d1f976301": {
      "model_module": "jp_proxy_widget",
      "model_module_version": "^0.3.4",
      "model_name": "JSProxyModel",
      "state": {
       "_model_module_version": "^0.3.4",
       "_send_counter": 11,
       "_view_module_version": "^0.3.4",
       "error_msg": "No error",
       "layout": "IPY_MODEL_b8e66a149abb47b6aa364842a8786bb1",
       "rendered": true,
       "status": "Got results."
      }
     },
     "da523e903d2c431894755f0ba0f5a2d4": {
      "model_module": "@jupyter-widgets/controls",
      "model_module_version": "1.0.0",
      "model_name": "VBoxModel",
      "state": {
       "_dom_classes": [
        "widget-interact"
       ],
       "children": [
        "IPY_MODEL_2e6e7f1bd8864607b58b4841cc91d3b7",
        "IPY_MODEL_e1491ca1e07e4150b886aecc22040b14",
        "IPY_MODEL_3a0d309da4274cd6a4c0bc706bc51d81",
        "IPY_MODEL_f76a57e9deae43409bd029d9a760c435",
        "IPY_MODEL_3943f1b913fe4b1e94e48c0a87f56dfd",
        "IPY_MODEL_ba45b99b941e49149faa3102ac0c6bcb",
        "IPY_MODEL_fa62757de3c74db9b81fc5a0178d7852",
        "IPY_MODEL_912bfb4b917e4ffdafcb0a2f358c2668",
        "IPY_MODEL_08d6ef584754424bb9a274086ea50c18",
        "IPY_MODEL_bb806e7ec94f45a2b8cea6e2ae2255b9",
        "IPY_MODEL_3af941c9e342491c87e295f01a280228",
        "IPY_MODEL_ca258b5b09504167b78ab64eefe65565"
       ],
       "layout": "IPY_MODEL_c0cb3cd4ab494d718bc2675688df6894"
      }
     },
     "da82f84716a94fc8bbe5631f5be582a1": {
      "model_module": "@jupyter-widgets/controls",
      "model_module_version": "1.0.0",
      "model_name": "VBoxModel",
      "state": {
       "children": [
        "IPY_MODEL_60b5b862ab7e4d7aaa8ce24191ab6e24",
        "IPY_MODEL_685d33cc6c0d4570ae478d344c6b31ac"
       ],
       "layout": "IPY_MODEL_9f94ba3004d74657a0786be9f7be1693"
      }
     },
     "da8e78505c804e40a83cb4917f49f0fe": {
      "model_module": "@jupyter-widgets/controls",
      "model_module_version": "1.0.0",
      "model_name": "IntSliderModel",
      "state": {
       "description": "y",
       "layout": "IPY_MODEL_201194823eac4061aea9989626d7a85a",
       "min": -100,
       "style": "IPY_MODEL_bd8885ee5ba040a18d194a8f4e2c374a",
       "value": -100
      }
     },
     "dae6ec53ddb742848f39962af1172ebe": {
      "model_module": "@jupyter-widgets/controls",
      "model_module_version": "1.0.0",
      "model_name": "SliderStyleModel",
      "state": {
       "description_width": ""
      }
     },
     "db0ce166b6924696a705aee247ce77a0": {
      "model_module": "@jupyter-widgets/base",
      "model_module_version": "1.0.0",
      "model_name": "LayoutModel",
      "state": {}
     },
     "db20cd32cc654c3e8bb2cf4e0dac38a9": {
      "model_module": "@jupyter-widgets/controls",
      "model_module_version": "1.0.0",
      "model_name": "FloatSliderModel",
      "state": {
       "description": "alpha",
       "layout": "IPY_MODEL_0626be14a03e46c183c08afcd0ec95e4",
       "max": 1,
       "step": 0.1,
       "style": "IPY_MODEL_48fd1af6dcd54b858b470952f5e20a3f",
       "value": 1
      }
     },
     "db2aa71d00024b1e9acf939d78cb3d3c": {
      "model_module": "@jupyter-widgets/controls",
      "model_module_version": "1.0.0",
      "model_name": "DescriptionStyleModel",
      "state": {
       "description_width": ""
      }
     },
     "db2d94ea87bc4955884f78c84c4db7c9": {
      "model_module": "@jupyter-widgets/controls",
      "model_module_version": "1.0.0",
      "model_name": "SliderStyleModel",
      "state": {
       "description_width": ""
      }
     },
     "dbba1e826ae04c4ca554235ac52af713": {
      "model_module": "@jupyter-widgets/base",
      "model_module_version": "1.0.0",
      "model_name": "LayoutModel",
      "state": {}
     },
     "dbdb1c5d6f83451ca77c4d356d62abc3": {
      "model_module": "@jupyter-widgets/base",
      "model_module_version": "1.0.0",
      "model_name": "LayoutModel",
      "state": {}
     },
     "dd7c4e5fce814bd5bda5b8bc4fbf4dbf": {
      "model_module": "@jupyter-widgets/controls",
      "model_module_version": "1.0.0",
      "model_name": "IntSliderModel",
      "state": {
       "description": "green",
       "layout": "IPY_MODEL_1cebc6ca142b426ca866e00db12afa37",
       "max": 255,
       "style": "IPY_MODEL_c93e2d5d660b4e99b657000bd3ec3ae3"
      }
     },
     "dd87b5a13f874675a29a796a3e3cde77": {
      "model_module": "@jupyter-widgets/base",
      "model_module_version": "1.0.0",
      "model_name": "LayoutModel",
      "state": {}
     },
     "dd90881f2b41455cb3bf36652bd2b063": {
      "model_module": "@jupyter-widgets/base",
      "model_module_version": "1.0.0",
      "model_name": "LayoutModel",
      "state": {}
     },
     "dd9d04494d2b4e9ab95331b4e5686841": {
      "model_module": "@jupyter-widgets/base",
      "model_module_version": "1.0.0",
      "model_name": "LayoutModel",
      "state": {}
     },
     "ddd3393332a5443e94ae144936613414": {
      "model_module": "@jupyter-widgets/controls",
      "model_module_version": "1.0.0",
      "model_name": "SliderStyleModel",
      "state": {
       "description_width": ""
      }
     },
     "ddf5f8cc685549199944f2af4ae5e7ef": {
      "model_module": "@jupyter-widgets/base",
      "model_module_version": "1.0.0",
      "model_name": "LayoutModel",
      "state": {}
     },
     "de10f80fee2d4343aa67a300996fe8c8": {
      "model_module": "@jupyter-widgets/controls",
      "model_module_version": "1.0.0",
      "model_name": "IntSliderModel",
      "state": {
       "description": "green",
       "layout": "IPY_MODEL_68a5d472c808460f88575659d5105c02",
       "max": 255,
       "style": "IPY_MODEL_9e955b4de449492dbbeb6011b1801f2f",
       "value": 127
      }
     },
     "de5e9366588d41f780d0a3642db3bef7": {
      "model_module": "@jupyter-widgets/base",
      "model_module_version": "1.0.0",
      "model_name": "LayoutModel",
      "state": {}
     },
     "df3a643769c54959a85cc571b9fadeb8": {
      "model_module": "@jupyter-widgets/base",
      "model_module_version": "1.0.0",
      "model_name": "LayoutModel",
      "state": {}
     },
     "df5db89374544bec9858fa5e6039bdcd": {
      "model_module": "@jupyter-widgets/controls",
      "model_module_version": "1.0.0",
      "model_name": "IntSliderModel",
      "state": {
       "description": "blue",
       "layout": "IPY_MODEL_726f550660b849dd8934676e66b138d7",
       "max": 255,
       "style": "IPY_MODEL_3f0586023cfc4e79ae4c477593a84b5a",
       "value": 157
      }
     },
     "df7a4d1d7e4e419d880b0f31047bc61d": {
      "model_module": "@jupyter-widgets/base",
      "model_module_version": "1.0.0",
      "model_name": "LayoutModel",
      "state": {}
     },
     "df84fa7f92924c3e84870f415c4a2807": {
      "model_module": "@jupyter-widgets/base",
      "model_module_version": "1.0.0",
      "model_name": "LayoutModel",
      "state": {}
     },
     "e08df3d34c844af6ad6882c76d7c9cfd": {
      "model_module": "@jupyter-widgets/controls",
      "model_module_version": "1.0.0",
      "model_name": "DescriptionStyleModel",
      "state": {
       "description_width": ""
      }
     },
     "e0a1cc0237734710a39ccced2933c321": {
      "model_module": "jp_proxy_widget",
      "model_module_version": "^0.3.4",
      "model_name": "JSProxyModel",
      "state": {
       "_model_module_version": "^0.3.4",
       "_send_counter": 2101,
       "_view_module_version": "^0.3.4",
       "error_msg": "No error",
       "layout": "IPY_MODEL_6984b119343d445d94d0a80eb550ecb3",
       "rendered": true,
       "status": "Got results."
      }
     },
     "e0b9e17141304f02b96350569ed8ebf7": {
      "model_module": "@jupyter-widgets/controls",
      "model_module_version": "1.0.0",
      "model_name": "SliderStyleModel",
      "state": {
       "description_width": ""
      }
     },
     "e1491ca1e07e4150b886aecc22040b14": {
      "model_module": "@jupyter-widgets/controls",
      "model_module_version": "1.0.0",
      "model_name": "IntSliderModel",
      "state": {
       "description": "y",
       "layout": "IPY_MODEL_4058b1e23a90471eb4ca008b7ff750ba",
       "min": -100,
       "style": "IPY_MODEL_21d381f803b8484aae27273d3599000f",
       "value": 44
      }
     },
     "e2b7b7cf6bd84cf2b8e2508e1eadd77d": {
      "model_module": "@jupyter-widgets/controls",
      "model_module_version": "1.0.0",
      "model_name": "SliderStyleModel",
      "state": {
       "description_width": ""
      }
     },
     "e3a27991e36c432ca73ed49b734ca438": {
      "model_module": "@jupyter-widgets/base",
      "model_module_version": "1.0.0",
      "model_name": "LayoutModel",
      "state": {}
     },
     "e4758ba7d91e43ce8d74d6c2fd0c0536": {
      "model_module": "@jupyter-widgets/controls",
      "model_module_version": "1.0.0",
      "model_name": "SliderStyleModel",
      "state": {
       "description_width": ""
      }
     },
     "e4e2367e30d84ba4990d16528a0fbb9b": {
      "model_module": "@jupyter-widgets/base",
      "model_module_version": "1.0.0",
      "model_name": "LayoutModel",
      "state": {}
     },
     "e5198c63df6a4f98ad0c52b2aa2751f6": {
      "model_module": "@jupyter-widgets/base",
      "model_module_version": "1.0.0",
      "model_name": "LayoutModel",
      "state": {}
     },
     "e55dc9e053e2472ab463a184639bbe2d": {
      "model_module": "@jupyter-widgets/controls",
      "model_module_version": "1.0.0",
      "model_name": "DescriptionStyleModel",
      "state": {
       "description_width": ""
      }
     },
     "e5a3b89a6f29427f8fb4de0aab04a10e": {
      "model_module": "@jupyter-widgets/controls",
      "model_module_version": "1.0.0",
      "model_name": "DescriptionStyleModel",
      "state": {
       "description_width": ""
      }
     },
     "e6fa67ee18e44c5b869ba6e3f8df74a1": {
      "model_module": "@jupyter-widgets/controls",
      "model_module_version": "1.0.0",
      "model_name": "SliderStyleModel",
      "state": {
       "description_width": ""
      }
     },
     "e70715f5d7ef4e95b8214f73bac1a47c": {
      "model_module": "@jupyter-widgets/controls",
      "model_module_version": "1.0.0",
      "model_name": "DescriptionStyleModel",
      "state": {
       "description_width": ""
      }
     },
     "e7873677b53545329c9ff13c24157804": {
      "model_module": "@jupyter-widgets/controls",
      "model_module_version": "1.0.0",
      "model_name": "SliderStyleModel",
      "state": {
       "description_width": ""
      }
     },
     "e7a5af3f61d64513beb57f80d97b278d": {
      "model_module": "@jupyter-widgets/controls",
      "model_module_version": "1.0.0",
      "model_name": "DescriptionStyleModel",
      "state": {
       "description_width": ""
      }
     },
     "e7f79859af144c03b56503b8f391dad1": {
      "model_module": "@jupyter-widgets/controls",
      "model_module_version": "1.0.0",
      "model_name": "SliderStyleModel",
      "state": {
       "description_width": ""
      }
     },
     "e831c1d4f55c448ea55761cc3d2f358d": {
      "model_module": "@jupyter-widgets/controls",
      "model_module_version": "1.0.0",
      "model_name": "SliderStyleModel",
      "state": {
       "description_width": ""
      }
     },
     "e9c6182c9a2d4eae8cec7ca083c13915": {
      "model_module": "@jupyter-widgets/base",
      "model_module_version": "1.0.0",
      "model_name": "LayoutModel",
      "state": {}
     },
     "e9cab7fcdb4d473cbfd652caa886a624": {
      "model_module": "@jupyter-widgets/controls",
      "model_module_version": "1.0.0",
      "model_name": "VBoxModel",
      "state": {
       "children": [
        "IPY_MODEL_9aaef4d566be4d819c95c13b8afc5822",
        "IPY_MODEL_fb11654398a84c8d9e44e7eef5f91b69"
       ],
       "layout": "IPY_MODEL_f33f8397f66947ce9ecae3b39681ef64"
      }
     },
     "ea99362f266a4e77a7f42eb24a6c7d11": {
      "model_module": "@jupyter-widgets/controls",
      "model_module_version": "1.0.0",
      "model_name": "IntSliderModel",
      "state": {
       "description": "lineWidth",
       "layout": "IPY_MODEL_cd0e45c33eda496aa1a9f1cef149434a",
       "max": 20,
       "style": "IPY_MODEL_6b8599e059314d8daf65fd432b507481",
       "value": 10
      }
     },
     "ead796fc3a1d4c3d8adb40e912cec8f2": {
      "model_module": "@jupyter-widgets/controls",
      "model_module_version": "1.0.0",
      "model_name": "DescriptionStyleModel",
      "state": {
       "description_width": ""
      }
     },
     "eb34d0c21b7d4222a94bd3e1e6047192": {
      "model_module": "@jupyter-widgets/controls",
      "model_module_version": "1.0.0",
      "model_name": "TabModel",
      "state": {
       "_titles": {
        "0": "Canvas",
        "1": "Snapshot"
       },
       "children": [
        "IPY_MODEL_33a3b06fd72546baa0cf0b1089f6f202",
        "IPY_MODEL_3b86f2f670b3422d9db3de7334d5048b"
       ],
       "layout": "IPY_MODEL_1e5614a3190644ec825933d20236f387"
      }
     },
     "eb712f6e5a7240ecb3b25dbdbcbf3ad2": {
      "model_module": "@jupyter-widgets/output",
      "model_module_version": "1.0.0",
      "model_name": "OutputModel",
      "state": {
       "layout": "IPY_MODEL_3dc8cd0d64c443d2a4c05a0bd83bf747",
       "outputs": [
        {
         "name": "stdout",
         "output_type": "stream",
         "text": "color is 'rgba(127,127,127,0.5)'\n"
        }
       ]
      }
     },
     "eb72982bceaf41dd8151e96f31b53171": {
      "model_module": "@jupyter-widgets/base",
      "model_module_version": "1.0.0",
      "model_name": "LayoutModel",
      "state": {}
     },
     "ebcefb249b364779bb48896bc257b8a1": {
      "model_module": "@jupyter-widgets/base",
      "model_module_version": "1.0.0",
      "model_name": "LayoutModel",
      "state": {}
     },
     "ec5aa57ed6cc4905bbae2c4861c17a69": {
      "model_module": "@jupyter-widgets/controls",
      "model_module_version": "1.0.0",
      "model_name": "SliderStyleModel",
      "state": {
       "description_width": ""
      }
     },
     "ec9a4c8fe6df4f229b5b07f6fdddcf76": {
      "model_module": "@jupyter-widgets/base",
      "model_module_version": "1.0.0",
      "model_name": "LayoutModel",
      "state": {}
     },
     "ed37bd2cb89e4b5bace8145f7d374df0": {
      "model_module": "@jupyter-widgets/base",
      "model_module_version": "1.0.0",
      "model_name": "LayoutModel",
      "state": {}
     },
     "ed6fa61031cb42c99fa1bb1798922ec4": {
      "model_module": "@jupyter-widgets/controls",
      "model_module_version": "1.0.0",
      "model_name": "SliderStyleModel",
      "state": {
       "description_width": ""
      }
     },
     "edd2847043b649489887a4b779bd688a": {
      "model_module": "@jupyter-widgets/base",
      "model_module_version": "1.0.0",
      "model_name": "LayoutModel",
      "state": {}
     },
     "ee0f71b41f5a4ff98255ef8a9a0c439b": {
      "model_module": "@jupyter-widgets/base",
      "model_module_version": "1.0.0",
      "model_name": "LayoutModel",
      "state": {}
     },
     "eed400e9520c4ff5bf3a79899ec94a74": {
      "model_module": "@jupyter-widgets/controls",
      "model_module_version": "1.0.0",
      "model_name": "IntSliderModel",
      "state": {
       "description": "lineWidth",
       "layout": "IPY_MODEL_2ac029db54324f539966573b9e540eba",
       "max": 20,
       "style": "IPY_MODEL_4bc77836274047259dd6a53fc61a70f4",
       "value": 3
      }
     },
     "eef954dc1c954f29bc3df82a2aff1d01": {
      "model_module": "@jupyter-widgets/controls",
      "model_module_version": "1.0.0",
      "model_name": "DescriptionStyleModel",
      "state": {
       "description_width": ""
      }
     },
     "efa3bf782e794925a837c6159dd72847": {
      "model_module": "@jupyter-widgets/base",
      "model_module_version": "1.0.0",
      "model_name": "LayoutModel",
      "state": {}
     },
     "efce857f12694f3d8dcc845d11a82251": {
      "model_module": "@jupyter-widgets/controls",
      "model_module_version": "1.0.0",
      "model_name": "VBoxModel",
      "state": {
       "_dom_classes": [
        "widget-interact"
       ],
       "children": [
        "IPY_MODEL_c5d30691d81f465689529e63331fe4b3",
        "IPY_MODEL_a4e2bb91829d46fead0c6e503ea1af62",
        "IPY_MODEL_53cd1dd2905b44ee9982f6164d4e3852",
        "IPY_MODEL_88a2e015194342349aa13153256390c5",
        "IPY_MODEL_53486bd127fd45ae945f73df6e1153bf",
        "IPY_MODEL_6586fcab46e647e0b8a1d8d6e9ebd160",
        "IPY_MODEL_75da1847826641b79ba87f9abd2867de",
        "IPY_MODEL_c35ae68ad0d1496e9f3d97f0dcb7494f"
       ],
       "layout": "IPY_MODEL_3cb4306aaac04ddfa97480f29d992eb9"
      }
     },
     "f00dd01cd1834f3fa5c4eea1bdfb6bfe": {
      "model_module": "@jupyter-widgets/controls",
      "model_module_version": "1.0.0",
      "model_name": "FloatSliderModel",
      "state": {
       "description": "start",
       "layout": "IPY_MODEL_df84fa7f92924c3e84870f415c4a2807",
       "max": 6.383185307179586,
       "step": 0.1,
       "style": "IPY_MODEL_aecb392449b845c6bb67f20a36abdc26",
       "value": 0.6
      }
     },
     "f0de5a912e24406d96588632a574fd8c": {
      "model_module": "@jupyter-widgets/base",
      "model_module_version": "1.0.0",
      "model_name": "LayoutModel",
      "state": {}
     },
     "f11202db31ea46248e35d5977814894f": {
      "model_module": "@jupyter-widgets/base",
      "model_module_version": "1.0.0",
      "model_name": "LayoutModel",
      "state": {}
     },
     "f141db18c00d4cfe994411a9133edbef": {
      "model_module": "@jupyter-widgets/controls",
      "model_module_version": "1.0.0",
      "model_name": "TabModel",
      "state": {
       "_titles": {
        "0": "Canvas",
        "1": "Snapshot"
       },
       "children": [
        "IPY_MODEL_bfe743d5521045c7a7801eb8537970a6",
        "IPY_MODEL_6d4038e0eb584952b59dad2d5220fbe4"
       ],
       "layout": "IPY_MODEL_a8ed4bd7010b4157b403b645c909d09b"
      }
     },
     "f1561fefefa14c829ed03553534205e2": {
      "model_module": "@jupyter-widgets/controls",
      "model_module_version": "1.0.0",
      "model_name": "IntSliderModel",
      "state": {
       "description": "green",
       "layout": "IPY_MODEL_6cf05933c68e494ba09c4a2b56585d3f",
       "max": 255,
       "style": "IPY_MODEL_51e61da5c3f94f8f8472316bc4157c7b"
      }
     },
     "f2305bf7a24849e694f1ed5e973a0ff1": {
      "model_module": "@jupyter-widgets/base",
      "model_module_version": "1.0.0",
      "model_name": "LayoutModel",
      "state": {}
     },
     "f2477f9b611448a2a57f7b3770d3ed55": {
      "model_module": "@jupyter-widgets/base",
      "model_module_version": "1.0.0",
      "model_name": "LayoutModel",
      "state": {}
     },
     "f2c5e3d7dc7647ee96d68f93cd678e5c": {
      "model_module": "@jupyter-widgets/controls",
      "model_module_version": "1.0.0",
      "model_name": "IntSliderModel",
      "state": {
       "description": "y",
       "layout": "IPY_MODEL_77fcaa89ee7249ab9168e43a8cba7db1",
       "min": -100,
       "style": "IPY_MODEL_f43ad1a28c05443885d5e22909bc1162"
      }
     },
     "f33f8397f66947ce9ecae3b39681ef64": {
      "model_module": "@jupyter-widgets/base",
      "model_module_version": "1.0.0",
      "model_name": "LayoutModel",
      "state": {}
     },
     "f36a8890b4a644d58fbd821584a36883": {
      "model_module": "@jupyter-widgets/base",
      "model_module_version": "1.0.0",
      "model_name": "LayoutModel",
      "state": {}
     },
     "f36f1cf92ff6498eae08115f63875bd2": {
      "model_module": "@jupyter-widgets/base",
      "model_module_version": "1.0.0",
      "model_name": "LayoutModel",
      "state": {}
     },
     "f43ad1a28c05443885d5e22909bc1162": {
      "model_module": "@jupyter-widgets/controls",
      "model_module_version": "1.0.0",
      "model_name": "SliderStyleModel",
      "state": {
       "description_width": ""
      }
     },
     "f480b5855391467493e2e9dfad7b7113": {
      "model_module": "@jupyter-widgets/base",
      "model_module_version": "1.0.0",
      "model_name": "LayoutModel",
      "state": {}
     },
     "f51c752ce63c4542bac603c4338756b4": {
      "model_module": "@jupyter-widgets/base",
      "model_module_version": "1.0.0",
      "model_name": "LayoutModel",
      "state": {}
     },
     "f5cf1a9f6189407b90fae19ce832360a": {
      "model_module": "@jupyter-widgets/controls",
      "model_module_version": "1.0.0",
      "model_name": "SliderStyleModel",
      "state": {
       "description_width": ""
      }
     },
     "f5e705c30fec4d3488ac3fec21ddaeb1": {
      "model_module": "@jupyter-widgets/controls",
      "model_module_version": "1.0.0",
      "model_name": "IntSliderModel",
      "state": {
       "description": "x",
       "layout": "IPY_MODEL_00d911d80b80400aaefb5507ef1f97fd",
       "min": -100,
       "style": "IPY_MODEL_408e67a7ff1c429cb7224fa3b6f2cb1a"
      }
     },
     "f674a6acfe474528ae03d560df702077": {
      "model_module": "jp_proxy_widget",
      "model_module_version": "^0.3.4",
      "model_name": "JSProxyModel",
      "state": {
       "_model_module_version": "^0.3.4",
       "_send_counter": 2,
       "_view_module_version": "^0.3.4",
       "error_msg": "No error",
       "layout": "IPY_MODEL_4f58712fcb3a4da788d882aa5a65d701",
       "rendered": true,
       "status": "Got results."
      }
     },
     "f6b47a1edadb42349590fe308656846d": {
      "model_module": "@jupyter-widgets/controls",
      "model_module_version": "1.0.0",
      "model_name": "IntSliderModel",
      "state": {
       "description": "y",
       "layout": "IPY_MODEL_b488a544375a4c02a9d199c4cd2e361e",
       "min": -100,
       "style": "IPY_MODEL_cf42937fa4be4510b9d4d4a48d4c2bdf"
      }
     },
     "f6de3677078248f09478747c026b7194": {
      "model_module": "@jupyter-widgets/base",
      "model_module_version": "1.0.0",
      "model_name": "LayoutModel",
      "state": {}
     },
     "f76a57e9deae43409bd029d9a760c435": {
      "model_module": "@jupyter-widgets/controls",
      "model_module_version": "1.0.0",
      "model_name": "FloatSliderModel",
      "state": {
       "description": "start",
       "layout": "IPY_MODEL_76812d39075f496fa20b7e7875cc60cb",
       "max": 6.383185307179586,
       "step": 0.1,
       "style": "IPY_MODEL_e2b7b7cf6bd84cf2b8e2508e1eadd77d",
       "value": 1.6
      }
     },
     "f7f6b5f8e6fc44de9f7b4cbd20901760": {
      "model_module": "@jupyter-widgets/controls",
      "model_module_version": "1.0.0",
      "model_name": "TabModel",
      "state": {
       "_titles": {
        "0": "Canvas",
        "1": "Snapshot"
       },
       "children": [
        "IPY_MODEL_cc875a482b81481aabaa4b59941bb886",
        "IPY_MODEL_788bd8e238b24981aa738bfa96547882"
       ],
       "layout": "IPY_MODEL_81003e64eda141608d83a58d16225ba8"
      }
     },
     "f89e3301135847bea965f3e3716f890d": {
      "model_module": "@jupyter-widgets/output",
      "model_module_version": "1.0.0",
      "model_name": "OutputModel",
      "state": {
       "layout": "IPY_MODEL_d9f068785a9c422abd494a633656441a"
      }
     },
     "f8c7f18ee78d4eaf9f3558a0ac96dab7": {
      "model_module": "@jupyter-widgets/controls",
      "model_module_version": "1.0.0",
      "model_name": "SliderStyleModel",
      "state": {
       "description_width": ""
      }
     },
     "f8df1b22de074004a55d08cfec2a9777": {
      "model_module": "@jupyter-widgets/controls",
      "model_module_version": "1.0.0",
      "model_name": "SliderStyleModel",
      "state": {
       "description_width": ""
      }
     },
     "f9ad8d21513547de90ca9045004db9fa": {
      "model_module": "@jupyter-widgets/controls",
      "model_module_version": "1.0.0",
      "model_name": "IntSliderModel",
      "state": {
       "description": "r",
       "layout": "IPY_MODEL_1d95cb6fa5934b18bfca058c30c09ee5",
       "style": "IPY_MODEL_293316fd146f458b9ed8526a62cc02ff",
       "value": 59
      }
     },
     "f9d4de99477a466d8dfd1d60b7f67cb7": {
      "model_module": "@jupyter-widgets/base",
      "model_module_version": "1.0.0",
      "model_name": "LayoutModel",
      "state": {}
     },
     "fa59932b4aa2426596538c48dfa0378a": {
      "model_module": "@jupyter-widgets/base",
      "model_module_version": "1.0.0",
      "model_name": "LayoutModel",
      "state": {}
     },
     "fa62757de3c74db9b81fc5a0178d7852": {
      "model_module": "@jupyter-widgets/controls",
      "model_module_version": "1.0.0",
      "model_name": "IntSliderModel",
      "state": {
       "description": "lineWidth",
       "layout": "IPY_MODEL_f11202db31ea46248e35d5977814894f",
       "max": 20,
       "style": "IPY_MODEL_4d57ca66b9894897b8fe3d03c2c3460a",
       "value": 13
      }
     },
     "fad4edcbbed241e3894fee5b2bc15c4a": {
      "model_module": "@jupyter-widgets/controls",
      "model_module_version": "1.0.0",
      "model_name": "SliderStyleModel",
      "state": {
       "description_width": ""
      }
     },
     "fb11654398a84c8d9e44e7eef5f91b69": {
      "model_module": "jp_proxy_widget",
      "model_module_version": "^0.3.4",
      "model_name": "JSProxyModel",
      "state": {
       "_model_module_version": "^0.3.4",
       "_send_counter": 2,
       "_view_module_version": "^0.3.4",
       "error_msg": "No error",
       "layout": "IPY_MODEL_ffcf951c70024c22881e2f0618667e8e",
       "rendered": true,
       "status": "Got results."
      }
     },
     "fbec0491c079437da1d0353af56861a7": {
      "model_module": "@jupyter-widgets/controls",
      "model_module_version": "1.0.0",
      "model_name": "VBoxModel",
      "state": {
       "children": [
        "IPY_MODEL_c9197738c9e74ffca50503ed157fd7a5",
        "IPY_MODEL_d860346a4d4c4ed6a843f3216705e6de"
       ],
       "layout": "IPY_MODEL_0f51c34da49247b99b71ecdd5497bf39"
      }
     },
     "fc3b94290d26444d8078c309bdf6a796": {
      "model_module": "@jupyter-widgets/base",
      "model_module_version": "1.0.0",
      "model_name": "LayoutModel",
      "state": {}
     },
     "fc466280281b46d1b6aad61a3266a9e4": {
      "model_module": "@jupyter-widgets/controls",
      "model_module_version": "1.0.0",
      "model_name": "FloatSliderModel",
      "state": {
       "description": "start",
       "layout": "IPY_MODEL_cfe0245f48dd46f288899164a0a516bd",
       "max": 6.283185307179586,
       "step": 0.1,
       "style": "IPY_MODEL_2a9785a69adc473a994b99bbb9c29fb7"
      }
     },
     "fc8459e7d59548afb0a8384995efeeca": {
      "model_module": "@jupyter-widgets/controls",
      "model_module_version": "1.0.0",
      "model_name": "HTMLModel",
      "state": {
       "layout": "IPY_MODEL_402f95aa334748b0bde5c7de2a447f2d",
       "style": "IPY_MODEL_c9564860f70c4668a5fdd72cb85d52c1",
       "value": "<img src=\"interactive_circle.png\" id=\"snapshot_id_25_1536247401851\"/>\n <div id=\"snapshot_id_26_1536247401851\">interactive_circle.png</div>"
      }
     },
     "fe3bff1ddfa742259d7feae110fec4cc": {
      "model_module": "@jupyter-widgets/base",
      "model_module_version": "1.0.0",
      "model_name": "LayoutModel",
      "state": {}
     },
     "feafdda46982449a8226a17e3c72aa24": {
      "model_module": "@jupyter-widgets/controls",
      "model_module_version": "1.0.0",
      "model_name": "SliderStyleModel",
      "state": {
       "description_width": ""
      }
     },
     "fec0ed28eaac45e79b9c209f08869788": {
      "model_module": "@jupyter-widgets/controls",
      "model_module_version": "1.0.0",
      "model_name": "IntSliderModel",
      "state": {
       "description": "green",
       "layout": "IPY_MODEL_f36f1cf92ff6498eae08115f63875bd2",
       "max": 255,
       "style": "IPY_MODEL_a5cd14585e15469ea4523aacb8a51489",
       "value": 127
      }
     },
     "ff5bc05f5fb24d5486365803f5ef211b": {
      "model_module": "@jupyter-widgets/base",
      "model_module_version": "1.0.0",
      "model_name": "LayoutModel",
      "state": {}
     },
     "ffceb71bc89f49c5ab790f1587748f36": {
      "model_module": "@jupyter-widgets/base",
      "model_module_version": "1.0.0",
      "model_name": "LayoutModel",
      "state": {}
     },
     "ffcf951c70024c22881e2f0618667e8e": {
      "model_module": "@jupyter-widgets/base",
      "model_module_version": "1.0.0",
      "model_name": "LayoutModel",
      "state": {}
     }
    },
    "version_major": 2,
    "version_minor": 0
   }
  }
 },
 "nbformat": 4,
 "nbformat_minor": 2
}
