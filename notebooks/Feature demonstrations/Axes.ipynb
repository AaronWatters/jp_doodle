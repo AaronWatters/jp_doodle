{
 "cells": [
  {
   "cell_type": "markdown",
   "metadata": {
    "deletable": true,
    "editable": true
   },
   "source": [
    " <img src=\"Axes.png\" width=\"320\"> \n",
    " \n",
    "# Axes\n",
    "\n",
    "\n",
    "Dual canvases provide built in helpers for creating reference axes\n",
    "either for the whold canvas geometry or with respect to a reference\n",
    "frame."
   ]
  },
  {
   "cell_type": "code",
   "execution_count": 17,
   "metadata": {
    "collapsed": false,
    "deletable": true,
    "editable": true
   },
   "outputs": [],
   "source": [
    "from jp_doodle import dual_canvas\n",
    "from IPython.display import display"
   ]
  },
  {
   "cell_type": "code",
   "execution_count": 18,
   "metadata": {
    "collapsed": false,
    "deletable": true,
    "editable": true
   },
   "outputs": [
    {
     "data": {
      "application/vnd.jupyter.widget-view+json": {
       "model_id": "c5fe737570ec4d27992e2830bb014b08",
       "version_major": 2,
       "version_minor": 0
      },
      "text/html": [
       "<p>Failed to display Jupyter Widget of type <code>Tab</code>.</p>\n",
       "<p>\n",
       "  If you're reading this message in Jupyter Notebook or JupyterLab, it may mean\n",
       "  that the widgets JavaScript is still loading. If this message persists, it\n",
       "  likely means that the widgets JavaScript library is either not installed or\n",
       "  not enabled. See the <a href=\"https://ipywidgets.readthedocs.io/en/stable/user_install.html\">Jupyter\n",
       "  Widgets Documentation</a> for setup instructions.\n",
       "</p>\n",
       "<p>\n",
       "  If you're reading this message in another notebook frontend (for example, a static\n",
       "  rendering on GitHub or <a href=\"https://nbviewer.jupyter.org/\">NBViewer</a>),\n",
       "  it may mean that your frontend doesn't currently support widgets.\n",
       "</p>\n"
      ],
      "text/plain": [
       "Tab(children=(VBox(children=(SnapshotCanvas(status=u'Not yet rendered'), JSProxyWidget(status=u'Not yet rendered'))), HTML(value=u'<img src=\"Axes1.png\" id=\"snapshot_id_23_1537294244227\"/>\\n <div id=\"snapshot_id_24_1537294244227\">Axes1.png</div>')), _titles={u'1': 'Snapshot', u'0': 'Canvas'})"
      ]
     },
     "metadata": {},
     "output_type": "display_data"
    }
   ],
   "source": [
    "# In this demonstration we do most of the work in Javascript.\n",
    "demo = dual_canvas.SnapshotCanvas(\"Axes1.png\", width=720, height=620)\n",
    "demo.display_all()\n",
    "\n",
    "demo.js_init(\"\"\"\n",
    "element.rect({x:-210, y:-210, w:420, h:420, color:\"#dd7\"});\n",
    "\n",
    "// draw axes\n",
    "var axes = element.lower_left_axes({\n",
    "    min_x:-200, max_x:200, min_y:-200, max_y:200,\n",
    "    tick_line_config: {color: \"#5aa\"},\n",
    "    tick_text_config: {color: \"#55a\"},\n",
    "    max_tick_count: 5,\n",
    "    });\n",
    "    \n",
    "element.left_axis({\n",
    "    min_value: -150,\n",
    "    max_value: 150,\n",
    "    max_tick_count: 8,\n",
    "    axis_origin: {x: -220, y: 0},\n",
    "    tick_line_config: {color: \"#f66\"},\n",
    "    tick_text_config: {color: \"#578\", degrees:-45},\n",
    "})\n",
    "\n",
    "element.right_axis({\n",
    "    min_value: -50,\n",
    "    max_value: 150,\n",
    "    max_tick_count: 6,\n",
    "    axis_origin: {x: 220, y: 0},\n",
    "    tick_line_config: {color: \"#66f\"},\n",
    "    tick_text_config: {color: \"#875\", degrees:30},\n",
    "})\n",
    "\n",
    "element.bottom_axis({\n",
    "    min_value: -220,\n",
    "    max_value: 22,\n",
    "    max_tick_count: 8,\n",
    "    axis_origin: {x: 0, y: -220},\n",
    "    tick_line_config: {color: \"#f66\"},\n",
    "    tick_text_config: {color: \"#578\", degrees:-45},\n",
    "    add_end_points: true,\n",
    "})\n",
    "\n",
    "element.top_axis({\n",
    "    min_value: -22,\n",
    "    max_value: 250,\n",
    "    max_tick_count: 4,\n",
    "    axis_origin: {x: 0, y: 220},\n",
    "    tick_line_config: {color: \"#6a6\"},\n",
    "    tick_text_config: {color: \"#36a\"},\n",
    "    add_end_points: true,\n",
    "})\n",
    "\n",
    "\n",
    "// add some content derived from the axes configuration.\n",
    "var left = axes.left;\n",
    "var bottom = axes.bottom;\n",
    "for (var i=0; i<left.length-1; i++) {\n",
    "    for (var j=0; j<bottom.length-1; j++) {\n",
    "        var l = left[i].offset;\n",
    "        var b = bottom[j].offset;\n",
    "        element.rect({x:l+10, y:b+10, \n",
    "            w:left[i+1].offset-l-20, h:bottom[j+1].offset-b-20, color:\"#ad9\"})\n",
    "        element.text({text: l+\",\"+b, x:l, y:b, \n",
    "            color:\"#d96\", degrees:45, background:\"#eea\"})\n",
    "    }\n",
    "}\n",
    "\n",
    "\n",
    "// Fit the figure into the available space\n",
    "element.fit(null, 10);\n",
    "\"\"\")"
   ]
  },
  {
   "cell_type": "code",
   "execution_count": 19,
   "metadata": {
    "collapsed": false,
    "deletable": true,
    "editable": true
   },
   "outputs": [
    {
     "data": {
      "application/vnd.jupyter.widget-view+json": {
       "model_id": "d1757c8d003a4dd4a6cdcbce5a991851",
       "version_major": 2,
       "version_minor": 0
      },
      "text/html": [
       "<p>Failed to display Jupyter Widget of type <code>Tab</code>.</p>\n",
       "<p>\n",
       "  If you're reading this message in Jupyter Notebook or JupyterLab, it may mean\n",
       "  that the widgets JavaScript is still loading. If this message persists, it\n",
       "  likely means that the widgets JavaScript library is either not installed or\n",
       "  not enabled. See the <a href=\"https://ipywidgets.readthedocs.io/en/stable/user_install.html\">Jupyter\n",
       "  Widgets Documentation</a> for setup instructions.\n",
       "</p>\n",
       "<p>\n",
       "  If you're reading this message in another notebook frontend (for example, a static\n",
       "  rendering on GitHub or <a href=\"https://nbviewer.jupyter.org/\">NBViewer</a>),\n",
       "  it may mean that your frontend doesn't currently support widgets.\n",
       "</p>\n"
      ],
      "text/plain": [
       "Tab(children=(VBox(children=(SnapshotCanvas(status=u'Not yet rendered'), JSProxyWidget(status=u'Not yet rendered'))), HTML(value=u'<img src=\"Axes.png\" id=\"snapshot_id_25_1537294246602\"/>\\n <div id=\"snapshot_id_26_1537294246602\">Axes.png</div>')), _titles={u'1': 'Snapshot', u'0': 'Canvas'})"
      ]
     },
     "metadata": {},
     "output_type": "display_data"
    }
   ],
   "source": [
    "# python example\n",
    "\n",
    "demo = dual_canvas.SnapshotCanvas(\"Axes.png\", width=720, height=620)\n",
    "demo.display_all()\n",
    "\n",
    "# draw some content\n",
    "demo.rect(x=-210, y=-210, w=420, h=420, color=\"#dd7\");\n",
    "demo.rect(x=0, y=0, dx=-140, dy=-140, w=280, h=280, color=\"#eaa\", degrees=45);\n",
    "demo.circle(x=0, y=0, r=80, color=\"#aae\")\n",
    "from math import sin, cos\n",
    "curve = [[200 * sin(i*0.05), 200 * cos(i*0.03)] for i in range(1400)]\n",
    "demo.polygon(points=curve, color=\"#b75\", lineWidth=3, fill=False, close=False)\n",
    "# shorthand\n",
    "color, x, y, degrees = \"color x y degrees\".split()\n",
    "\n",
    "# draw axes\n",
    "demo.lower_left_axes(\n",
    "    min_x=-200, max_x=200, min_y=-200, max_y=200,\n",
    "    tick_line_config= {color: \"#5aa\"},\n",
    "    tick_text_config= {color: \"#55a\"},\n",
    "    max_tick_count= 5,\n",
    "    );\n",
    "    \n",
    "demo.left_axis(\n",
    "    min_value= -150,\n",
    "    max_value= 150,\n",
    "    max_tick_count= 8,\n",
    "    axis_origin= {x: -220, y: 0},\n",
    "    tick_line_config= {color: \"#f66\"},\n",
    "    tick_text_config= {color: \"#578\", degrees:-45},\n",
    ")\n",
    "\n",
    "demo.right_axis(\n",
    "    min_value= -50,\n",
    "    max_value= 150,\n",
    "    max_tick_count= 6,\n",
    "    axis_origin= {x: 220, y: 0},\n",
    "    tick_line_config= {color: \"#66f\"},\n",
    "    tick_text_config= {color: \"#875\", degrees:30},\n",
    ")\n",
    "\n",
    "demo.bottom_axis(\n",
    "    min_value= -220,\n",
    "    max_value= 22,\n",
    "    max_tick_count= 8,\n",
    "    axis_origin= {x: 0, y: -220},\n",
    "    tick_line_config= {color: \"#f66\"},\n",
    "    tick_text_config= {color: \"#578\", degrees:-45},\n",
    "    add_end_points= True,\n",
    ")\n",
    "\n",
    "demo.top_axis(\n",
    "    min_value= -22,\n",
    "    max_value= 250,\n",
    "    max_tick_count= 4,\n",
    "    axis_origin= {x: 0, y: 220},\n",
    "    tick_line_config= {color: \"#6a6\"},\n",
    "    tick_text_config= {color: \"#36a\"},\n",
    "    add_end_points= True,\n",
    ")\n",
    "\n",
    "# Fit the figure into the available space\n",
    "demo.fit(None, 10);"
   ]
  },
  {
   "cell_type": "code",
   "execution_count": null,
   "metadata": {
    "collapsed": true,
    "deletable": true,
    "editable": true
   },
   "outputs": [],
   "source": []
  }
 ],
 "metadata": {
  "kernelspec": {
   "display_name": "Python 2",
   "language": "python",
   "name": "python2"
  },
  "language_info": {
   "codemirror_mode": {
    "name": "ipython",
    "version": 2
   },
   "file_extension": ".py",
   "mimetype": "text/x-python",
   "name": "python",
   "nbconvert_exporter": "python",
   "pygments_lexer": "ipython2",
   "version": "2.7.13"
  },
  "widgets": {
   "application/vnd.jupyter.widget-state+json": {
    "state": {
     "0006d793ff1c42b9bb6d6cac4abef506": {
      "model_module": "@jupyter-widgets/base",
      "model_module_version": "1.0.0",
      "model_name": "LayoutModel",
      "state": {}
     },
     "00096da58b064d29a2b4674979627584": {
      "model_module": "@jupyter-widgets/base",
      "model_module_version": "1.0.0",
      "model_name": "LayoutModel",
      "state": {}
     },
     "0047336dd5f84bebb5a8c209b830913f": {
      "model_module": "jp_proxy_widget",
      "model_module_version": "^0.3.4",
      "model_name": "JSProxyModel",
      "state": {
       "_model_module_version": "^0.3.4",
       "_send_counter": 11,
       "_view_module_version": "^0.3.4",
       "error_msg": "No error",
       "layout": "IPY_MODEL_6720579edba5415ca7d8e76f5bd9eac9",
       "rendered": true,
       "status": "Got results."
      }
     },
     "009503d7a6e74225a6315116b3911f71": {
      "model_module": "@jupyter-widgets/controls",
      "model_module_version": "1.0.0",
      "model_name": "HTMLModel",
      "state": {
       "layout": "IPY_MODEL_049c8c10b8da4ac1bd92431f47e55a18",
       "style": "IPY_MODEL_043feb7f56784543a4927f317c3501a1",
       "value": "<img src=\"Axes1.png\" id=\"snapshot_id_23_1537294244227\"/>\n <div id=\"snapshot_id_24_1537294244227\">Axes1.png</div>"
      }
     },
     "017b5efe1f1f4acea35c0305cc27b429": {
      "model_module": "@jupyter-widgets/base",
      "model_module_version": "1.0.0",
      "model_name": "LayoutModel",
      "state": {}
     },
     "01a4fd2f3d79456fb9deb1d790cfe4b8": {
      "model_module": "@jupyter-widgets/base",
      "model_module_version": "1.0.0",
      "model_name": "LayoutModel",
      "state": {}
     },
     "01e655482970472a89a1ba9c03ddce45": {
      "model_module": "@jupyter-widgets/controls",
      "model_module_version": "1.0.0",
      "model_name": "VBoxModel",
      "state": {
       "children": [
        "IPY_MODEL_79c842e211934f298f0762e25002d8fd",
        "IPY_MODEL_e9c31647b0d04e488009aa120126f2e6"
       ],
       "layout": "IPY_MODEL_6b229b02bdc5493c9cf499f1e3907ec4"
      }
     },
     "020798df2bec49e1a2f4f1251f5db99f": {
      "model_module": "@jupyter-widgets/base",
      "model_module_version": "1.0.0",
      "model_name": "LayoutModel",
      "state": {}
     },
     "043feb7f56784543a4927f317c3501a1": {
      "model_module": "@jupyter-widgets/controls",
      "model_module_version": "1.0.0",
      "model_name": "DescriptionStyleModel",
      "state": {
       "description_width": ""
      }
     },
     "049c8c10b8da4ac1bd92431f47e55a18": {
      "model_module": "@jupyter-widgets/base",
      "model_module_version": "1.0.0",
      "model_name": "LayoutModel",
      "state": {}
     },
     "053cf831f57440d8a2188000acb9f188": {
      "model_module": "jp_proxy_widget",
      "model_module_version": "^0.3.4",
      "model_name": "JSProxyModel",
      "state": {
       "_model_module_version": "^0.3.4",
       "_send_counter": 2,
       "_view_module_version": "^0.3.4",
       "error_msg": "No error",
       "layout": "IPY_MODEL_4080117283cb4916802a73e8b1a4e112",
       "rendered": true,
       "status": "Not yet rendered"
      }
     },
     "0596f24a06e94234b468ba6bb37dc2e7": {
      "model_module": "@jupyter-widgets/base",
      "model_module_version": "1.0.0",
      "model_name": "LayoutModel",
      "state": {}
     },
     "06d19fcbf4c6441bae3179b8f8227a1d": {
      "model_module": "@jupyter-widgets/base",
      "model_module_version": "1.0.0",
      "model_name": "LayoutModel",
      "state": {}
     },
     "06fd1cf4ea1647019f3bf45d2334e98f": {
      "model_module": "@jupyter-widgets/base",
      "model_module_version": "1.0.0",
      "model_name": "LayoutModel",
      "state": {}
     },
     "07c5765cbbb64188a426ca1ff5974d98": {
      "model_module": "jp_proxy_widget",
      "model_module_version": "^0.3.4",
      "model_name": "JSProxyModel",
      "state": {
       "_model_module_version": "^0.3.4",
       "_send_counter": 6,
       "_view_module_version": "^0.3.4",
       "error_msg": "No error",
       "layout": "IPY_MODEL_d6010105ee304595b2e9817f588dd325",
       "rendered": true,
       "status": "Got results."
      }
     },
     "096792e5d292417ea67fd80875409cc1": {
      "model_module": "@jupyter-widgets/controls",
      "model_module_version": "1.0.0",
      "model_name": "TabModel",
      "state": {
       "_titles": {
        "0": "Canvas",
        "1": "Snapshot"
       },
       "children": [
        "IPY_MODEL_4ef28ae9eb5d412697291bbfc5de18ec",
        "IPY_MODEL_8a0f73f5ac1d47659a8453ddec70f9b7"
       ],
       "layout": "IPY_MODEL_7af821a7e2cb4985b13ae5bba851015d"
      }
     },
     "0a532211d7714ceb91b13c2da9781842": {
      "model_module": "@jupyter-widgets/controls",
      "model_module_version": "1.0.0",
      "model_name": "HTMLModel",
      "state": {
       "layout": "IPY_MODEL_2eb4feebd6ea4744a745f40c3a690dae",
       "style": "IPY_MODEL_6921c27be0fe4647b5a909eceeb1b42f",
       "value": "<img src=\"Axes.png\" id=\"snapshot_id_9_1537292960931\"/>\n <div id=\"snapshot_id_10_1537292960931\">Axes.png</div>"
      }
     },
     "0b29d60183df44c2b2b9fa5bd8557e3e": {
      "model_module": "@jupyter-widgets/controls",
      "model_module_version": "1.0.0",
      "model_name": "HTMLModel",
      "state": {
       "layout": "IPY_MODEL_bdb0b85ba5014299bc067aa12384287f",
       "style": "IPY_MODEL_1cc1eaf883ac470c879f35329da2525f",
       "value": "<img src=\"Axes.png\" id=\"snapshot_id_25_1537294246602\"/>\n <div id=\"snapshot_id_26_1537294246602\">Axes.png</div>"
      }
     },
     "0b542d0f7f254b58a0ee920d8edc4854": {
      "model_module": "jp_proxy_widget",
      "model_module_version": "^0.3.4",
      "model_name": "JSProxyModel",
      "state": {
       "_model_module_version": "^0.3.4",
       "_send_counter": 6,
       "_view_module_version": "^0.3.4",
       "error_msg": "No error",
       "layout": "IPY_MODEL_28d5e9e8066f47f89daab13ec03bc8dc",
       "rendered": true,
       "status": "Got results."
      }
     },
     "0c6efa0fcce04dbda4c2dbc35e59719a": {
      "model_module": "jp_proxy_widget",
      "model_module_version": "^0.3.4",
      "model_name": "JSProxyModel",
      "state": {
       "_model_module_version": "^0.3.4",
       "_send_counter": 6,
       "_view_module_version": "^0.3.4",
       "error_msg": "No error",
       "layout": "IPY_MODEL_6d16b34800ee42e7bae7976b8fcfaf73",
       "rendered": true,
       "status": "Got results."
      }
     },
     "0c7af0d3a03a4fd0ba2e194a6f8ff201": {
      "model_module": "jp_proxy_widget",
      "model_module_version": "^0.3.4",
      "model_name": "JSProxyModel",
      "state": {
       "_model_module_version": "^0.3.4",
       "_send_counter": 2,
       "_view_module_version": "^0.3.4",
       "error_msg": "No error",
       "layout": "IPY_MODEL_3626f0bb1b3142d1b073029bf9dc4fa2",
       "rendered": true,
       "status": "Got results."
      }
     },
     "0cb02673052b49e396789a87a7cf864c": {
      "model_module": "@jupyter-widgets/controls",
      "model_module_version": "1.0.0",
      "model_name": "VBoxModel",
      "state": {
       "children": [
        "IPY_MODEL_0047336dd5f84bebb5a8c209b830913f",
        "IPY_MODEL_246f97672cf34ed3bc90acc8c4b75c33"
       ],
       "layout": "IPY_MODEL_b99f8a3c7fbd4778b564ddde99f502ff"
      }
     },
     "0d7470819a0e4a2d8eeef28a89e4c8f2": {
      "model_module": "@jupyter-widgets/controls",
      "model_module_version": "1.0.0",
      "model_name": "VBoxModel",
      "state": {
       "children": [
        "IPY_MODEL_fd258d92f22744d69f756cefa439af92",
        "IPY_MODEL_c1c6b41b731142fbb5ec528490366f85"
       ],
       "layout": "IPY_MODEL_6901c2697eda47c996f439616267a23c"
      }
     },
     "0dbcc196acc34a00bf4f52963b41e55d": {
      "model_module": "@jupyter-widgets/base",
      "model_module_version": "1.0.0",
      "model_name": "LayoutModel",
      "state": {}
     },
     "1031e3270ad043acb3e42d6b119542b4": {
      "model_module": "@jupyter-widgets/controls",
      "model_module_version": "1.0.0",
      "model_name": "TabModel",
      "state": {
       "_titles": {
        "0": "Canvas",
        "1": "Snapshot"
       },
       "children": [
        "IPY_MODEL_115485c76f444109b382b56df77e28c8",
        "IPY_MODEL_589aa9e9e5034a7eafd62bf44d324c44"
       ],
       "layout": "IPY_MODEL_8af168f222f241ce8c575aa334c1fa2e"
      }
     },
     "10764f8bfec148c6ae836b9cc8e6ee64": {
      "model_module": "@jupyter-widgets/base",
      "model_module_version": "1.0.0",
      "model_name": "LayoutModel",
      "state": {}
     },
     "115485c76f444109b382b56df77e28c8": {
      "model_module": "@jupyter-widgets/controls",
      "model_module_version": "1.0.0",
      "model_name": "VBoxModel",
      "state": {
       "children": [
        "IPY_MODEL_39352b29bb4a4899a037ca4b3d175ad4",
        "IPY_MODEL_69d9d18a308c4dd7ba4570fb02a80c2e"
       ],
       "layout": "IPY_MODEL_0dbcc196acc34a00bf4f52963b41e55d"
      }
     },
     "11e474378c8941bb80a9cc9f6cef746c": {
      "model_module": "@jupyter-widgets/controls",
      "model_module_version": "1.0.0",
      "model_name": "DescriptionStyleModel",
      "state": {
       "description_width": ""
      }
     },
     "1333dd76c31b441bafccf8b7ae304ce4": {
      "model_module": "@jupyter-widgets/base",
      "model_module_version": "1.0.0",
      "model_name": "LayoutModel",
      "state": {}
     },
     "146d6619d4be45e79b0900ea34d594ae": {
      "model_module": "@jupyter-widgets/base",
      "model_module_version": "1.0.0",
      "model_name": "LayoutModel",
      "state": {}
     },
     "152187b641c145d7ad92b2f467a7e9b1": {
      "model_module": "@jupyter-widgets/controls",
      "model_module_version": "1.0.0",
      "model_name": "TabModel",
      "state": {
       "_titles": {
        "0": "Canvas",
        "1": "Snapshot"
       },
       "children": [
        "IPY_MODEL_7355cdc2810845ca96b72123e426335b",
        "IPY_MODEL_ff3bdfcba0194edb9689b035e6af29c9"
       ],
       "layout": "IPY_MODEL_3b0ca9cb113a4db1a77c3a801aa36b70"
      }
     },
     "15ae975a23f042bb90f4a6fc528dedb3": {
      "model_module": "@jupyter-widgets/base",
      "model_module_version": "1.0.0",
      "model_name": "LayoutModel",
      "state": {}
     },
     "15c8ee495a04447f85a9f2b535fa6699": {
      "model_module": "@jupyter-widgets/base",
      "model_module_version": "1.0.0",
      "model_name": "LayoutModel",
      "state": {}
     },
     "161c9a76f8254232ad472f8de14da76e": {
      "model_module": "jp_proxy_widget",
      "model_module_version": "^0.3.4",
      "model_name": "JSProxyModel",
      "state": {
       "_model_module_version": "^0.3.4",
       "_send_counter": 9,
       "_view_module_version": "^0.3.4",
       "error_msg": "No error",
       "layout": "IPY_MODEL_acc4a08ed6914748bc5db6897ac01cf1",
       "rendered": true,
       "status": "Got results."
      }
     },
     "164ca985b8bf44938cc8ef711e57f349": {
      "model_module": "@jupyter-widgets/base",
      "model_module_version": "1.0.0",
      "model_name": "LayoutModel",
      "state": {}
     },
     "168467fb543348e79656afdf1e5e0c76": {
      "model_module": "@jupyter-widgets/controls",
      "model_module_version": "1.0.0",
      "model_name": "VBoxModel",
      "state": {
       "children": [
        "IPY_MODEL_161c9a76f8254232ad472f8de14da76e",
        "IPY_MODEL_0c7af0d3a03a4fd0ba2e194a6f8ff201"
       ],
       "layout": "IPY_MODEL_b01659301dd04cfa9aa612fdd8029799"
      }
     },
     "1864ff55246c420e9b4375e3f431b52f": {
      "model_module": "@jupyter-widgets/controls",
      "model_module_version": "1.0.0",
      "model_name": "TabModel",
      "state": {
       "_titles": {
        "0": "Canvas",
        "1": "Snapshot"
       },
       "children": [
        "IPY_MODEL_bf13eb2e5dd04e2c8463601c745a48c7",
        "IPY_MODEL_bf4d443a96224cd98398d7958eede6c3"
       ],
       "layout": "IPY_MODEL_7fcbe3d171fc4d4dbbb733a15f912b49"
      }
     },
     "197c081f522d492c973c74ff38674521": {
      "model_module": "@jupyter-widgets/controls",
      "model_module_version": "1.0.0",
      "model_name": "VBoxModel",
      "state": {
       "children": [
        "IPY_MODEL_217c750e83d34acca3910e347001244c",
        "IPY_MODEL_966458dfe8cc4fc8a382c7db091c124b"
       ],
       "layout": "IPY_MODEL_be5221d640c144ac8629b90328532b79"
      }
     },
     "19ad84f1b5104d1e9f70110e557b47d6": {
      "model_module": "jp_proxy_widget",
      "model_module_version": "^0.3.4",
      "model_name": "JSProxyModel",
      "state": {
       "_model_module_version": "^0.3.4",
       "_send_counter": 9,
       "_view_module_version": "^0.3.4",
       "error_msg": "No error",
       "layout": "IPY_MODEL_a56257ca2b0d407aa9928c578a97bc78",
       "rendered": true,
       "status": "Got results."
      }
     },
     "19b26a4686ec44ad80b042fc0211526b": {
      "model_module": "@jupyter-widgets/controls",
      "model_module_version": "1.0.0",
      "model_name": "TabModel",
      "state": {
       "_titles": {
        "0": "Canvas",
        "1": "Snapshot"
       },
       "children": [
        "IPY_MODEL_168467fb543348e79656afdf1e5e0c76",
        "IPY_MODEL_0a532211d7714ceb91b13c2da9781842"
       ],
       "layout": "IPY_MODEL_a4d3a3408c1a4f5dac21f15583163351"
      }
     },
     "19f8b4f53cc14686ae76aa086a4231ee": {
      "model_module": "jp_proxy_widget",
      "model_module_version": "^0.3.4",
      "model_name": "JSProxyModel",
      "state": {
       "_model_module_version": "^0.3.4",
       "_send_counter": 10,
       "_view_module_version": "^0.3.4",
       "error_msg": "In [object Object] no such method left_axes",
       "layout": "IPY_MODEL_0596f24a06e94234b468ba6bb37dc2e7",
       "rendered": true,
       "status": "Got results."
      }
     },
     "1afee8e358ea46438d0329c6d2a8cb2d": {
      "model_module": "@jupyter-widgets/base",
      "model_module_version": "1.0.0",
      "model_name": "LayoutModel",
      "state": {}
     },
     "1b510e441d564c27b36893f14dc0b99e": {
      "model_module": "jp_proxy_widget",
      "model_module_version": "^0.3.4",
      "model_name": "JSProxyModel",
      "state": {
       "_model_module_version": "^0.3.4",
       "_send_counter": 2,
       "_view_module_version": "^0.3.4",
       "error_msg": "No error",
       "layout": "IPY_MODEL_5398d35665f7488f9d17f2bbfd2560b5",
       "rendered": true,
       "status": "Got results."
      }
     },
     "1bfb29d819c741688c83c125547257e7": {
      "model_module": "@jupyter-widgets/base",
      "model_module_version": "1.0.0",
      "model_name": "LayoutModel",
      "state": {}
     },
     "1cb99e3ee8e4462db650ff376f726301": {
      "model_module": "@jupyter-widgets/base",
      "model_module_version": "1.0.0",
      "model_name": "LayoutModel",
      "state": {}
     },
     "1cc1eaf883ac470c879f35329da2525f": {
      "model_module": "@jupyter-widgets/controls",
      "model_module_version": "1.0.0",
      "model_name": "DescriptionStyleModel",
      "state": {
       "description_width": ""
      }
     },
     "1d0169a3e41d4c2c95f798455f705804": {
      "model_module": "@jupyter-widgets/base",
      "model_module_version": "1.0.0",
      "model_name": "LayoutModel",
      "state": {}
     },
     "1d74f1726dea4180926862660c2f4f6b": {
      "model_module": "jp_proxy_widget",
      "model_module_version": "^0.3.4",
      "model_name": "JSProxyModel",
      "state": {
       "_model_module_version": "^0.3.4",
       "_send_counter": 6,
       "_view_module_version": "^0.3.4",
       "error_msg": "No error",
       "layout": "IPY_MODEL_1cb99e3ee8e4462db650ff376f726301",
       "rendered": true,
       "status": "Got results."
      }
     },
     "1da39c76a1c64c978021f57fd58ad372": {
      "model_module": "jp_proxy_widget",
      "model_module_version": "^0.3.4",
      "model_name": "JSProxyModel",
      "state": {
       "_model_module_version": "^0.3.4",
       "_send_counter": 6,
       "_view_module_version": "^0.3.4",
       "error_msg": "No error",
       "layout": "IPY_MODEL_be6b02ba5d804c7db7b46118e91a8a7c",
       "rendered": true,
       "status": "Got results."
      }
     },
     "1e24a31439304b3ab92fa7f24047b4a3": {
      "model_module": "@jupyter-widgets/base",
      "model_module_version": "1.0.0",
      "model_name": "LayoutModel",
      "state": {}
     },
     "1e3f101313d048e59339a03f406729d1": {
      "model_module": "@jupyter-widgets/controls",
      "model_module_version": "1.0.0",
      "model_name": "VBoxModel",
      "state": {
       "children": [
        "IPY_MODEL_3eb8c7120e014a93ba3901f0ade83902",
        "IPY_MODEL_6f2ee195827a4efaaf19452bea91d01a"
       ],
       "layout": "IPY_MODEL_50646767d61f49c5b55f4709db6a46c5"
      }
     },
     "1e6a2444fde0407fb8245aed6a74405e": {
      "model_module": "@jupyter-widgets/controls",
      "model_module_version": "1.0.0",
      "model_name": "DescriptionStyleModel",
      "state": {
       "description_width": ""
      }
     },
     "1f9694bdcef3428cb6c755101b4ce457": {
      "model_module": "@jupyter-widgets/base",
      "model_module_version": "1.0.0",
      "model_name": "LayoutModel",
      "state": {}
     },
     "200a89c203614838817b7ab37487e27f": {
      "model_module": "jp_proxy_widget",
      "model_module_version": "^0.3.4",
      "model_name": "JSProxyModel",
      "state": {
       "_model_module_version": "^0.3.4",
       "_send_counter": 6,
       "_view_module_version": "^0.3.4",
       "error_msg": "No error",
       "layout": "IPY_MODEL_cbc73bff0a8a48bb91d6c444c4d9f1f5",
       "rendered": true,
       "status": "Got results."
      }
     },
     "20edb7323e144d5790c92570976c2284": {
      "model_module": "jp_proxy_widget",
      "model_module_version": "^0.3.4",
      "model_name": "JSProxyModel",
      "state": {
       "_model_module_version": "^0.3.4",
       "_send_counter": 6,
       "_view_module_version": "^0.3.4",
       "error_msg": "No error",
       "layout": "IPY_MODEL_2e2477afbcbc499185e39dd4678dfeb1",
       "rendered": true,
       "status": "Got results."
      }
     },
     "2145df90191143c985910559cd828fb7": {
      "model_module": "@jupyter-widgets/controls",
      "model_module_version": "1.0.0",
      "model_name": "DescriptionStyleModel",
      "state": {
       "description_width": ""
      }
     },
     "217c750e83d34acca3910e347001244c": {
      "model_module": "jp_proxy_widget",
      "model_module_version": "^0.3.4",
      "model_name": "JSProxyModel",
      "state": {
       "_model_module_version": "^0.3.4",
       "_send_counter": 10,
       "_view_module_version": "^0.3.4",
       "error_msg": "No error",
       "layout": "IPY_MODEL_e4e196f5069e455098c24f9ee55282dd",
       "rendered": true,
       "status": "Not yet rendered"
      }
     },
     "21a537adb195425bb31d2ce0f9cbe418": {
      "model_module": "@jupyter-widgets/base",
      "model_module_version": "1.0.0",
      "model_name": "LayoutModel",
      "state": {}
     },
     "21b27fc185404201bfb5bf5a9ff3220f": {
      "model_module": "@jupyter-widgets/base",
      "model_module_version": "1.0.0",
      "model_name": "LayoutModel",
      "state": {}
     },
     "2212b83bf9fb4493a007989da87992d8": {
      "model_module": "@jupyter-widgets/base",
      "model_module_version": "1.0.0",
      "model_name": "LayoutModel",
      "state": {}
     },
     "23142d6b95dc414eae5c92fad06c40f9": {
      "model_module": "@jupyter-widgets/controls",
      "model_module_version": "1.0.0",
      "model_name": "HTMLModel",
      "state": {
       "layout": "IPY_MODEL_75487be711834a30933a109f9a82b0dd",
       "style": "IPY_MODEL_cdcbbd62a03d4f4aab7930b24c3b4ea1",
       "value": "<img src=\"Axes.png\" id=\"snapshot_id_21_1537294207684\"/>\n <div id=\"snapshot_id_22_1537294207684\">Axes.png</div>"
      }
     },
     "246f97672cf34ed3bc90acc8c4b75c33": {
      "model_module": "jp_proxy_widget",
      "model_module_version": "^0.3.4",
      "model_name": "JSProxyModel",
      "state": {
       "_model_module_version": "^0.3.4",
       "_send_counter": 2,
       "_view_module_version": "^0.3.4",
       "error_msg": "No error",
       "layout": "IPY_MODEL_35637b39039242758cb8dff378c8ca8e",
       "rendered": true,
       "status": "Got results."
      }
     },
     "24a305fe26a94e4e9d6cd1ca2336fc2e": {
      "model_module": "@jupyter-widgets/controls",
      "model_module_version": "1.0.0",
      "model_name": "HTMLModel",
      "state": {
       "layout": "IPY_MODEL_db29b56dbbe34dd0b3b825533b3d5b65",
       "style": "IPY_MODEL_1e6a2444fde0407fb8245aed6a74405e",
       "value": "<img src=\"Axes.png\" id=\"snapshot_id_1_1537293053342\"/>\n <div id=\"snapshot_id_2_1537293053342\">Axes.png</div>"
      }
     },
     "2512642f565e4912b640aecc70bc13e9": {
      "model_module": "jp_proxy_widget",
      "model_module_version": "^0.3.4",
      "model_name": "JSProxyModel",
      "state": {
       "_model_module_version": "^0.3.4",
       "_send_counter": 9,
       "_view_module_version": "^0.3.4",
       "error_msg": "No error",
       "layout": "IPY_MODEL_ad14a8f208394dd7bc826c9c0f74dec2",
       "rendered": true,
       "status": "Not yet rendered"
      }
     },
     "251533bd0e5c4c75ad02dbbbbfc77ec0": {
      "model_module": "@jupyter-widgets/base",
      "model_module_version": "1.0.0",
      "model_name": "LayoutModel",
      "state": {}
     },
     "252c333820e64b258fc5a6409f40c09f": {
      "model_module": "@jupyter-widgets/base",
      "model_module_version": "1.0.0",
      "model_name": "LayoutModel",
      "state": {}
     },
     "25879fdd1a3145d9968c663ce599f40a": {
      "model_module": "@jupyter-widgets/controls",
      "model_module_version": "1.0.0",
      "model_name": "TabModel",
      "state": {
       "_titles": {
        "0": "Canvas",
        "1": "Snapshot"
       },
       "children": [
        "IPY_MODEL_c15c73f6ab8744bdae06b1e68ed61882",
        "IPY_MODEL_7b0d4aeb88d44295a55c515d51a22a10"
       ],
       "layout": "IPY_MODEL_2ea2e69b52c3468a8123513ebb5d7b2c"
      }
     },
     "2701691a54bf44fd993fc4fd209e8eb4": {
      "model_module": "@jupyter-widgets/controls",
      "model_module_version": "1.0.0",
      "model_name": "HTMLModel",
      "state": {
       "layout": "IPY_MODEL_8364e57601ca4ff9acb97ad1dcff192c",
       "style": "IPY_MODEL_499357f3e5e044d2963069e0ab433efe",
       "value": "<img src=\"Axes.png\" id=\"snapshot_id_11_1537293862426\"/>\n <div id=\"snapshot_id_12_1537293862426\">Axes.png</div>"
      }
     },
     "2708b61dd3124f71bc3b94c69e840f02": {
      "model_module": "@jupyter-widgets/base",
      "model_module_version": "1.0.0",
      "model_name": "LayoutModel",
      "state": {}
     },
     "2750442df7d04b3694a9994c8bbe6b7d": {
      "model_module": "@jupyter-widgets/base",
      "model_module_version": "1.0.0",
      "model_name": "LayoutModel",
      "state": {}
     },
     "27dacca38ad14dfca1bf2c8d13dfda1a": {
      "model_module": "@jupyter-widgets/base",
      "model_module_version": "1.0.0",
      "model_name": "LayoutModel",
      "state": {}
     },
     "28d5e9e8066f47f89daab13ec03bc8dc": {
      "model_module": "@jupyter-widgets/base",
      "model_module_version": "1.0.0",
      "model_name": "LayoutModel",
      "state": {}
     },
     "29094d4be8cf4ee798c853910424c6f8": {
      "model_module": "jp_proxy_widget",
      "model_module_version": "^0.3.4",
      "model_name": "JSProxyModel",
      "state": {
       "_model_module_version": "^0.3.4",
       "_send_counter": 15,
       "_view_module_version": "^0.3.4",
       "error_msg": "No error",
       "layout": "IPY_MODEL_84ac67328e6e4092803ed6ea52fcbb62",
       "rendered": true,
       "status": "Got results."
      }
     },
     "296e8b0c9ea0464c9ed4aa1dd2e0e478": {
      "model_module": "@jupyter-widgets/controls",
      "model_module_version": "1.0.0",
      "model_name": "TabModel",
      "state": {
       "_titles": {
        "0": "Canvas",
        "1": "Snapshot"
       },
       "children": [
        "IPY_MODEL_5e9dfc5d24464c4b8c977625b6c0fda6",
        "IPY_MODEL_5c00c6d970c5430ab51ccbae740d4d89"
       ],
       "layout": "IPY_MODEL_a7aab267fde04a8e99e3b07eb795d03c"
      }
     },
     "2ae866fa60f14bdd8ca0dd6e67f7e2da": {
      "model_module": "@jupyter-widgets/base",
      "model_module_version": "1.0.0",
      "model_name": "LayoutModel",
      "state": {}
     },
     "2c067efae8d44349951267c27e8a4375": {
      "model_module": "@jupyter-widgets/controls",
      "model_module_version": "1.0.0",
      "model_name": "HTMLModel",
      "state": {
       "layout": "IPY_MODEL_1afee8e358ea46438d0329c6d2a8cb2d",
       "style": "IPY_MODEL_11e474378c8941bb80a9cc9f6cef746c",
       "value": "<img src=\"Axes.png\" id=\"snapshot_id_7_1537293133003\"/>\n <div id=\"snapshot_id_8_1537293133003\">Axes.png</div>"
      }
     },
     "2c78a695c0164d1690c8dafc57d1ec38": {
      "model_module": "@jupyter-widgets/base",
      "model_module_version": "1.0.0",
      "model_name": "LayoutModel",
      "state": {}
     },
     "2c8f80149c034e3a8820111ddabe7aaa": {
      "model_module": "jp_proxy_widget",
      "model_module_version": "^0.3.4",
      "model_name": "JSProxyModel",
      "state": {
       "_model_module_version": "^0.3.4",
       "_send_counter": 6,
       "_view_module_version": "^0.3.4",
       "error_msg": "No error",
       "layout": "IPY_MODEL_cebf58d67291469896982c006044ba93",
       "rendered": true,
       "status": "Got results."
      }
     },
     "2d038c2dd88145148aa7cab467bbd0a4": {
      "model_module": "jp_proxy_widget",
      "model_module_version": "^0.3.4",
      "model_name": "JSProxyModel",
      "state": {
       "_model_module_version": "^0.3.4",
       "_send_counter": 2,
       "_view_module_version": "^0.3.4",
       "error_msg": "No error",
       "layout": "IPY_MODEL_3d71401a241a45c490f59e294c03e1b7",
       "rendered": true,
       "status": "Got results."
      }
     },
     "2d314ae2e35f4792884e38a67059eea8": {
      "model_module": "@jupyter-widgets/base",
      "model_module_version": "1.0.0",
      "model_name": "LayoutModel",
      "state": {}
     },
     "2d3e21a87c1e468987c66ea1c8dd5726": {
      "model_module": "@jupyter-widgets/controls",
      "model_module_version": "1.0.0",
      "model_name": "DescriptionStyleModel",
      "state": {
       "description_width": ""
      }
     },
     "2d6e890c627a4b318990242030a1142e": {
      "model_module": "@jupyter-widgets/base",
      "model_module_version": "1.0.0",
      "model_name": "LayoutModel",
      "state": {}
     },
     "2e2477afbcbc499185e39dd4678dfeb1": {
      "model_module": "@jupyter-widgets/base",
      "model_module_version": "1.0.0",
      "model_name": "LayoutModel",
      "state": {}
     },
     "2ea2e69b52c3468a8123513ebb5d7b2c": {
      "model_module": "@jupyter-widgets/base",
      "model_module_version": "1.0.0",
      "model_name": "LayoutModel",
      "state": {}
     },
     "2ea3af40d30c445ebe9e958570503139": {
      "model_module": "@jupyter-widgets/controls",
      "model_module_version": "1.0.0",
      "model_name": "VBoxModel",
      "state": {
       "children": [
        "IPY_MODEL_d665c9d7a7a0456a8678abfc9c1e2f35",
        "IPY_MODEL_aab66b1d86e246698bd7007d3132e2cd"
       ],
       "layout": "IPY_MODEL_c3f2d37b386f4ad49e41515aee43833b"
      }
     },
     "2eb4feebd6ea4744a745f40c3a690dae": {
      "model_module": "@jupyter-widgets/base",
      "model_module_version": "1.0.0",
      "model_name": "LayoutModel",
      "state": {}
     },
     "2fb231edb71e48b8b67bfa3cfb4beaf1": {
      "model_module": "@jupyter-widgets/base",
      "model_module_version": "1.0.0",
      "model_name": "LayoutModel",
      "state": {}
     },
     "2fc6d279e80648918a01090b9e1f86c9": {
      "model_module": "@jupyter-widgets/controls",
      "model_module_version": "1.0.0",
      "model_name": "TabModel",
      "state": {
       "_titles": {
        "0": "Canvas",
        "1": "Snapshot"
       },
       "children": [
        "IPY_MODEL_98019b1e24794d438d98ddfd2d6a01b5",
        "IPY_MODEL_343074ff1c33426bbf8ec0103724cb15"
       ],
       "layout": "IPY_MODEL_edb38bab32a44e4197d690fac2abc4fa"
      }
     },
     "30b7d6ba03324247a0fcab0ee4f32893": {
      "model_module": "@jupyter-widgets/base",
      "model_module_version": "1.0.0",
      "model_name": "LayoutModel",
      "state": {}
     },
     "335bfebc9e1a49cc889497dbc0c32abc": {
      "model_module": "@jupyter-widgets/controls",
      "model_module_version": "1.0.0",
      "model_name": "VBoxModel",
      "state": {
       "children": [
        "IPY_MODEL_bda20acb1ee4498cac38be9f26283de2",
        "IPY_MODEL_7255ac2443f74d72ab4056e681cf474b"
       ],
       "layout": "IPY_MODEL_3c87cd0d3e904a9589aeb643e824f4e3"
      }
     },
     "339e0f7a1b1640f88722425b45298119": {
      "model_module": "@jupyter-widgets/base",
      "model_module_version": "1.0.0",
      "model_name": "LayoutModel",
      "state": {}
     },
     "33afa61ba69a450e89b74fbebf47efc9": {
      "model_module": "@jupyter-widgets/base",
      "model_module_version": "1.0.0",
      "model_name": "LayoutModel",
      "state": {}
     },
     "343074ff1c33426bbf8ec0103724cb15": {
      "model_module": "@jupyter-widgets/controls",
      "model_module_version": "1.0.0",
      "model_name": "HTMLModel",
      "state": {
       "layout": "IPY_MODEL_5c21b2c3f9c744b4944d2a5d87efcc25",
       "style": "IPY_MODEL_4200a4ab1304414396a3fef45787bfe4",
       "value": "<img src=\"Axes.png\" id=\"snapshot_id_3_1537293158077\"/>\n <div id=\"snapshot_id_4_1537293158077\">Axes.png</div>"
      }
     },
     "35637b39039242758cb8dff378c8ca8e": {
      "model_module": "@jupyter-widgets/base",
      "model_module_version": "1.0.0",
      "model_name": "LayoutModel",
      "state": {}
     },
     "35965dd43a524dffac9d77bbccc80023": {
      "model_module": "@jupyter-widgets/controls",
      "model_module_version": "1.0.0",
      "model_name": "DescriptionStyleModel",
      "state": {
       "description_width": ""
      }
     },
     "3626f0bb1b3142d1b073029bf9dc4fa2": {
      "model_module": "@jupyter-widgets/base",
      "model_module_version": "1.0.0",
      "model_name": "LayoutModel",
      "state": {}
     },
     "365a0a3fff414b78aa5399ff0ecc8156": {
      "model_module": "@jupyter-widgets/controls",
      "model_module_version": "1.0.0",
      "model_name": "TabModel",
      "state": {
       "_titles": {
        "0": "Canvas",
        "1": "Snapshot"
       },
       "children": [
        "IPY_MODEL_0d7470819a0e4a2d8eeef28a89e4c8f2",
        "IPY_MODEL_3a4ebe0c3200404984f2b3626f4cb7e7"
       ],
       "layout": "IPY_MODEL_afbb53cd7670472286a5c65e7eca3de0"
      }
     },
     "367ab7ce109841098a140d17aaf46cd2": {
      "model_module": "@jupyter-widgets/base",
      "model_module_version": "1.0.0",
      "model_name": "LayoutModel",
      "state": {}
     },
     "36ea616f1c5c4f53851973300a844d6a": {
      "model_module": "jp_proxy_widget",
      "model_module_version": "^0.3.4",
      "model_name": "JSProxyModel",
      "state": {
       "_model_module_version": "^0.3.4",
       "_send_counter": 6,
       "_view_module_version": "^0.3.4",
       "error_msg": "Error: Error in element.New SyntaxError: Invalid or unexpected token",
       "layout": "IPY_MODEL_f675ce83d199448aafb7aa8ec4ad183f",
       "rendered": true,
       "status": "Rendered."
      }
     },
     "3899331ca5a24a68bce016ca43e4b93c": {
      "model_module": "@jupyter-widgets/base",
      "model_module_version": "1.0.0",
      "model_name": "LayoutModel",
      "state": {}
     },
     "38e152aa637f4a1bb903b24b23f13ab2": {
      "model_module": "@jupyter-widgets/base",
      "model_module_version": "1.0.0",
      "model_name": "LayoutModel",
      "state": {}
     },
     "39352b29bb4a4899a037ca4b3d175ad4": {
      "model_module": "jp_proxy_widget",
      "model_module_version": "^0.3.4",
      "model_name": "JSProxyModel",
      "state": {
       "_model_module_version": "^0.3.4",
       "_send_counter": 11,
       "_view_module_version": "^0.3.4",
       "error_msg": "No error",
       "layout": "IPY_MODEL_f167732ab8434d2f97ba9c91ed6710de",
       "rendered": true,
       "status": "Got results."
      }
     },
     "399429ede3ef49aeaa8c86d3e5a4e6da": {
      "model_module": "jp_proxy_widget",
      "model_module_version": "^0.3.4",
      "model_name": "JSProxyModel",
      "state": {
       "_model_module_version": "^0.3.4",
       "_send_counter": 6,
       "_view_module_version": "^0.3.4",
       "error_msg": "No error",
       "layout": "IPY_MODEL_27dacca38ad14dfca1bf2c8d13dfda1a",
       "rendered": true,
       "status": "Got results."
      }
     },
     "39dc890666754ca6bc223a12d8d89f27": {
      "model_module": "@jupyter-widgets/base",
      "model_module_version": "1.0.0",
      "model_name": "LayoutModel",
      "state": {}
     },
     "3a4ebe0c3200404984f2b3626f4cb7e7": {
      "model_module": "@jupyter-widgets/controls",
      "model_module_version": "1.0.0",
      "model_name": "HTMLModel",
      "state": {
       "layout": "IPY_MODEL_605e8360a79c4440b737d8c7051c13c1",
       "style": "IPY_MODEL_f8700be033f4493b87cebc1537f992b9",
       "value": "<img src=\"Axes.png\" id=\"snapshot_id_19_1537294195343\"/>\n <div id=\"snapshot_id_20_1537294195343\">Axes.png</div>"
      }
     },
     "3a666a56607a403b8e81e03e595497ef": {
      "model_module": "jp_proxy_widget",
      "model_module_version": "^0.3.4",
      "model_name": "JSProxyModel",
      "state": {
       "_model_module_version": "^0.3.4",
       "_send_counter": 6,
       "_view_module_version": "^0.3.4",
       "error_msg": "No error",
       "layout": "IPY_MODEL_63d0d851493143a0b591906f6b22b7c9",
       "rendered": true,
       "status": "Got results."
      }
     },
     "3b0ca9cb113a4db1a77c3a801aa36b70": {
      "model_module": "@jupyter-widgets/base",
      "model_module_version": "1.0.0",
      "model_name": "LayoutModel",
      "state": {}
     },
     "3c4fbd790840416588787d1d54cb1e00": {
      "model_module": "@jupyter-widgets/controls",
      "model_module_version": "1.0.0",
      "model_name": "HTMLModel",
      "state": {
       "layout": "IPY_MODEL_3ef9536c4ddb4d768a2ef9bfb22d423b",
       "style": "IPY_MODEL_2145df90191143c985910559cd828fb7",
       "value": "<img src=\"Axes.png\" id=\"snapshot_id_17_1537294086749\"/>\n <div id=\"snapshot_id_18_1537294086749\">Axes.png</div>"
      }
     },
     "3c58a8805ce5454eab57419ce7f6bdb3": {
      "model_module": "jp_proxy_widget",
      "model_module_version": "^0.3.4",
      "model_name": "JSProxyModel",
      "state": {
       "_model_module_version": "^0.3.4",
       "_send_counter": 11,
       "_view_module_version": "^0.3.4",
       "error_msg": "No error",
       "layout": "IPY_MODEL_5b92bdaa14234c988ca52af9d0674093",
       "rendered": true,
       "status": "Not yet rendered"
      }
     },
     "3c87cd0d3e904a9589aeb643e824f4e3": {
      "model_module": "@jupyter-widgets/base",
      "model_module_version": "1.0.0",
      "model_name": "LayoutModel",
      "state": {}
     },
     "3d44ec33776e49f3bb868771d007f360": {
      "model_module": "@jupyter-widgets/base",
      "model_module_version": "1.0.0",
      "model_name": "LayoutModel",
      "state": {}
     },
     "3d71401a241a45c490f59e294c03e1b7": {
      "model_module": "@jupyter-widgets/base",
      "model_module_version": "1.0.0",
      "model_name": "LayoutModel",
      "state": {}
     },
     "3dccda5e1ee648de88da756a32484311": {
      "model_module": "@jupyter-widgets/base",
      "model_module_version": "1.0.0",
      "model_name": "LayoutModel",
      "state": {}
     },
     "3ddf027603134d9681485f2ba891834a": {
      "model_module": "jp_proxy_widget",
      "model_module_version": "^0.3.4",
      "model_name": "JSProxyModel",
      "state": {
       "_model_module_version": "^0.3.4",
       "_send_counter": 2,
       "_view_module_version": "^0.3.4",
       "error_msg": "No error",
       "layout": "IPY_MODEL_3eb574f6e624470f9d3519658a05bac6",
       "rendered": true,
       "status": "Got results."
      }
     },
     "3e806ae7793b41c39c6b706d307e6f29": {
      "model_module": "jp_proxy_widget",
      "model_module_version": "^0.3.4",
      "model_name": "JSProxyModel",
      "state": {
       "_model_module_version": "^0.3.4",
       "_send_counter": 6,
       "_view_module_version": "^0.3.4",
       "error_msg": "No error",
       "layout": "IPY_MODEL_2d314ae2e35f4792884e38a67059eea8",
       "rendered": true,
       "status": "Got results."
      }
     },
     "3eb574f6e624470f9d3519658a05bac6": {
      "model_module": "@jupyter-widgets/base",
      "model_module_version": "1.0.0",
      "model_name": "LayoutModel",
      "state": {}
     },
     "3eb8c7120e014a93ba3901f0ade83902": {
      "model_module": "jp_proxy_widget",
      "model_module_version": "^0.3.4",
      "model_name": "JSProxyModel",
      "state": {
       "_model_module_version": "^0.3.4",
       "_send_counter": 17,
       "_view_module_version": "^0.3.4",
       "error_msg": "No error",
       "layout": "IPY_MODEL_164ca985b8bf44938cc8ef711e57f349",
       "rendered": true,
       "status": "Got results."
      }
     },
     "3ef9536c4ddb4d768a2ef9bfb22d423b": {
      "model_module": "@jupyter-widgets/base",
      "model_module_version": "1.0.0",
      "model_name": "LayoutModel",
      "state": {}
     },
     "3f01366904f24f728bc0ccef8d3d35be": {
      "model_module": "@jupyter-widgets/controls",
      "model_module_version": "1.0.0",
      "model_name": "DescriptionStyleModel",
      "state": {
       "description_width": ""
      }
     },
     "3f54592bcca94ac0bbd90d696f0859a3": {
      "model_module": "@jupyter-widgets/base",
      "model_module_version": "1.0.0",
      "model_name": "LayoutModel",
      "state": {}
     },
     "3f5f789e5b974d13bc90c96cbd3a9fe1": {
      "model_module": "@jupyter-widgets/base",
      "model_module_version": "1.0.0",
      "model_name": "LayoutModel",
      "state": {}
     },
     "4080117283cb4916802a73e8b1a4e112": {
      "model_module": "@jupyter-widgets/base",
      "model_module_version": "1.0.0",
      "model_name": "LayoutModel",
      "state": {}
     },
     "4110c9dec8f043b4bbbfc56a48a75565": {
      "model_module": "@jupyter-widgets/controls",
      "model_module_version": "1.0.0",
      "model_name": "TabModel",
      "state": {
       "_titles": {
        "0": "Canvas",
        "1": "Snapshot"
       },
       "children": [
        "IPY_MODEL_01e655482970472a89a1ba9c03ddce45",
        "IPY_MODEL_eb9c9f5fd5ad41ac833367d0d441a499"
       ],
       "layout": "IPY_MODEL_551cd4dc827f418eb4bc18914c950f4c"
      }
     },
     "4200a4ab1304414396a3fef45787bfe4": {
      "model_module": "@jupyter-widgets/controls",
      "model_module_version": "1.0.0",
      "model_name": "DescriptionStyleModel",
      "state": {
       "description_width": ""
      }
     },
     "421851d824ea4f4d8dd59a6c540a5460": {
      "model_module": "@jupyter-widgets/base",
      "model_module_version": "1.0.0",
      "model_name": "LayoutModel",
      "state": {}
     },
     "423f4cfc2a704c9eaac69db178fa6704": {
      "model_module": "@jupyter-widgets/controls",
      "model_module_version": "1.0.0",
      "model_name": "TabModel",
      "state": {
       "_titles": {
        "0": "Canvas",
        "1": "Snapshot"
       },
       "children": [
        "IPY_MODEL_335bfebc9e1a49cc889497dbc0c32abc",
        "IPY_MODEL_74d2872c51c742cb9bc5076113c96f11"
       ],
       "layout": "IPY_MODEL_9b007332dccb40d086346264ce55d60d"
      }
     },
     "42ba4d181d6b47579678507ef62069c2": {
      "model_module": "jp_proxy_widget",
      "model_module_version": "^0.3.4",
      "model_name": "JSProxyModel",
      "state": {
       "_model_module_version": "^0.3.4",
       "_send_counter": 2,
       "_view_module_version": "^0.3.4",
       "error_msg": "No error",
       "layout": "IPY_MODEL_63fa7df406d44b968e17d86301adaee8",
       "rendered": true,
       "status": "call back to <function callback_function at 0x10cff12a8>"
      }
     },
     "43f0d626840c4f8995facd69394e2a54": {
      "model_module": "@jupyter-widgets/base",
      "model_module_version": "1.0.0",
      "model_name": "LayoutModel",
      "state": {}
     },
     "444521fd3cc94baa8fd645e7f462463a": {
      "model_module": "@jupyter-widgets/controls",
      "model_module_version": "1.0.0",
      "model_name": "HTMLModel",
      "state": {
       "layout": "IPY_MODEL_67cb36fac6564fb2b1743eea56324320",
       "style": "IPY_MODEL_8e895e4a4a5546bba415e33a53d29cba",
       "value": "<img src=\"Axes.png\" id=\"snapshot_id_11_1537293416069\"/>\n <div id=\"snapshot_id_12_1537293416069\">Axes.png</div>"
      }
     },
     "447223c7ab03439ea68da4aa1819253b": {
      "model_module": "jp_proxy_widget",
      "model_module_version": "^0.3.4",
      "model_name": "JSProxyModel",
      "state": {
       "_model_module_version": "^0.3.4",
       "_send_counter": 6,
       "_view_module_version": "^0.3.4",
       "error_msg": "No error",
       "layout": "IPY_MODEL_93cdf4720cf74a02890d5ba13e819a0f",
       "rendered": true,
       "status": "Got results."
      }
     },
     "457840ff806d4ebe9efcfb2ff6839859": {
      "model_module": "@jupyter-widgets/controls",
      "model_module_version": "1.0.0",
      "model_name": "TabModel",
      "state": {
       "_titles": {
        "0": "Canvas",
        "1": "Snapshot"
       },
       "children": [
        "IPY_MODEL_f03ecb8decbd4f1da73586b188291988",
        "IPY_MODEL_24a305fe26a94e4e9d6cd1ca2336fc2e"
       ],
       "layout": "IPY_MODEL_66afd4f2f26642d697a4657417825194"
      }
     },
     "46bedca34f3d4c7a9a0789baa5456638": {
      "model_module": "@jupyter-widgets/base",
      "model_module_version": "1.0.0",
      "model_name": "LayoutModel",
      "state": {}
     },
     "472c076bbe32410792393581765c2477": {
      "model_module": "@jupyter-widgets/base",
      "model_module_version": "1.0.0",
      "model_name": "LayoutModel",
      "state": {}
     },
     "47346866774a42a8b630c6cb93298ef3": {
      "model_module": "@jupyter-widgets/controls",
      "model_module_version": "1.0.0",
      "model_name": "TabModel",
      "state": {
       "_titles": {
        "0": "Canvas",
        "1": "Snapshot"
       },
       "children": [
        "IPY_MODEL_753f79f7f15341c89d5b984b38e99656",
        "IPY_MODEL_444521fd3cc94baa8fd645e7f462463a"
       ],
       "layout": "IPY_MODEL_0006d793ff1c42b9bb6d6cac4abef506"
      }
     },
     "47981158d7194cdb83fc8e41bd0f277a": {
      "model_module": "@jupyter-widgets/base",
      "model_module_version": "1.0.0",
      "model_name": "LayoutModel",
      "state": {}
     },
     "4799d3e9103540bba39c626accf26ece": {
      "model_module": "@jupyter-widgets/controls",
      "model_module_version": "1.0.0",
      "model_name": "TabModel",
      "state": {
       "_titles": {
        "0": "Canvas",
        "1": "Snapshot"
       },
       "children": [
        "IPY_MODEL_cbd3face044b4f93b17144cbeec76a18",
        "IPY_MODEL_2c067efae8d44349951267c27e8a4375"
       ],
       "layout": "IPY_MODEL_cebde5358d1c4838b83e1a15255d5893"
      }
     },
     "48eeec3e0cfd4232926ebf1cc57dc272": {
      "model_module": "jp_proxy_widget",
      "model_module_version": "^0.3.4",
      "model_name": "JSProxyModel",
      "state": {
       "_model_module_version": "^0.3.4",
       "_send_counter": 6,
       "_view_module_version": "^0.3.4",
       "error_msg": "No error",
       "layout": "IPY_MODEL_c1a623ccf296460e8c6551105daa4c99",
       "rendered": true,
       "status": "Got results."
      }
     },
     "499357f3e5e044d2963069e0ab433efe": {
      "model_module": "@jupyter-widgets/controls",
      "model_module_version": "1.0.0",
      "model_name": "DescriptionStyleModel",
      "state": {
       "description_width": ""
      }
     },
     "4bf4e7449b7740298ffb3cf83de07f49": {
      "model_module": "jp_proxy_widget",
      "model_module_version": "^0.3.4",
      "model_name": "JSProxyModel",
      "state": {
       "_model_module_version": "^0.3.4",
       "_send_counter": 2,
       "_view_module_version": "^0.3.4",
       "error_msg": "No error",
       "layout": "IPY_MODEL_43f0d626840c4f8995facd69394e2a54",
       "rendered": true,
       "status": "call back to <function callback_function at 0x10cfa39b0>"
      }
     },
     "4c21fe8704a04c13a322af5787a62915": {
      "model_module": "@jupyter-widgets/base",
      "model_module_version": "1.0.0",
      "model_name": "LayoutModel",
      "state": {}
     },
     "4c6f3f5a14d942ba87d181ddad15aed3": {
      "model_module": "@jupyter-widgets/controls",
      "model_module_version": "1.0.0",
      "model_name": "HTMLModel",
      "state": {
       "layout": "IPY_MODEL_252c333820e64b258fc5a6409f40c09f",
       "style": "IPY_MODEL_35965dd43a524dffac9d77bbccc80023",
       "value": "<img src=\"Axes.png\" id=\"snapshot_id_3_1537292855791\"/>\n <div id=\"snapshot_id_4_1537292855791\">Axes.png</div>"
      }
     },
     "4ca2e61b1c0b4d95a21df95134813ad9": {
      "model_module": "@jupyter-widgets/base",
      "model_module_version": "1.0.0",
      "model_name": "LayoutModel",
      "state": {}
     },
     "4ec5506df65c4cc5a097eb50a1c39676": {
      "model_module": "jp_proxy_widget",
      "model_module_version": "^0.3.4",
      "model_name": "JSProxyModel",
      "state": {
       "_model_module_version": "^0.3.4",
       "_send_counter": 9,
       "_view_module_version": "^0.3.4",
       "error_msg": "No error",
       "layout": "IPY_MODEL_4ca2e61b1c0b4d95a21df95134813ad9",
       "rendered": true,
       "status": "Not yet rendered"
      }
     },
     "4ef28ae9eb5d412697291bbfc5de18ec": {
      "model_module": "@jupyter-widgets/controls",
      "model_module_version": "1.0.0",
      "model_name": "VBoxModel",
      "state": {
       "children": [
        "IPY_MODEL_99f6f2a8a9094e749efa5f0b00a5a5d5",
        "IPY_MODEL_5b66a3a39e224d9792894d9949ecde29"
       ],
       "layout": "IPY_MODEL_3899331ca5a24a68bce016ca43e4b93c"
      }
     },
     "4f658a1ee0b44103b22e329725ece7d3": {
      "model_module": "@jupyter-widgets/controls",
      "model_module_version": "1.0.0",
      "model_name": "DescriptionStyleModel",
      "state": {
       "description_width": ""
      }
     },
     "4f844b44c317445b92c666135c4eee02": {
      "model_module": "@jupyter-widgets/base",
      "model_module_version": "1.0.0",
      "model_name": "LayoutModel",
      "state": {}
     },
     "50646767d61f49c5b55f4709db6a46c5": {
      "model_module": "@jupyter-widgets/base",
      "model_module_version": "1.0.0",
      "model_name": "LayoutModel",
      "state": {}
     },
     "5116b4a72d724753bc645a3a044fbc22": {
      "model_module": "@jupyter-widgets/base",
      "model_module_version": "1.0.0",
      "model_name": "LayoutModel",
      "state": {}
     },
     "516307ac05c74a428302319ae5b68b0c": {
      "model_module": "@jupyter-widgets/base",
      "model_module_version": "1.0.0",
      "model_name": "LayoutModel",
      "state": {}
     },
     "51a234d697864878a2bde2699a846551": {
      "model_module": "@jupyter-widgets/base",
      "model_module_version": "1.0.0",
      "model_name": "LayoutModel",
      "state": {}
     },
     "520f4489804641e78b3ba73cab8563d5": {
      "model_module": "@jupyter-widgets/base",
      "model_module_version": "1.0.0",
      "model_name": "LayoutModel",
      "state": {}
     },
     "522e107119b141d4b108348cb9d20559": {
      "model_module": "@jupyter-widgets/base",
      "model_module_version": "1.0.0",
      "model_name": "LayoutModel",
      "state": {}
     },
     "5398d35665f7488f9d17f2bbfd2560b5": {
      "model_module": "@jupyter-widgets/base",
      "model_module_version": "1.0.0",
      "model_name": "LayoutModel",
      "state": {}
     },
     "551cd4dc827f418eb4bc18914c950f4c": {
      "model_module": "@jupyter-widgets/base",
      "model_module_version": "1.0.0",
      "model_name": "LayoutModel",
      "state": {}
     },
     "5544267afaac487d9d0a0cf5eb2e3912": {
      "model_module": "@jupyter-widgets/base",
      "model_module_version": "1.0.0",
      "model_name": "LayoutModel",
      "state": {}
     },
     "57df93ef8ba045c0a0d63e5c33b3be28": {
      "model_module": "@jupyter-widgets/controls",
      "model_module_version": "1.0.0",
      "model_name": "DescriptionStyleModel",
      "state": {
       "description_width": ""
      }
     },
     "584a60d60b744edaac49fd9dab670024": {
      "model_module": "@jupyter-widgets/controls",
      "model_module_version": "1.0.0",
      "model_name": "VBoxModel",
      "state": {
       "children": [
        "IPY_MODEL_8bc2230aefcb4fac9ece5372cb6faf88",
        "IPY_MODEL_d1f886a5822842339ca49558c587f2c4"
       ],
       "layout": "IPY_MODEL_2d6e890c627a4b318990242030a1142e"
      }
     },
     "589aa9e9e5034a7eafd62bf44d324c44": {
      "model_module": "@jupyter-widgets/controls",
      "model_module_version": "1.0.0",
      "model_name": "HTMLModel",
      "state": {
       "layout": "IPY_MODEL_5544267afaac487d9d0a0cf5eb2e3912",
       "style": "IPY_MODEL_2d3e21a87c1e468987c66ea1c8dd5726",
       "value": "<img src=\"Axes.png\" id=\"snapshot_id_1_1537293450223\"/>\n <div id=\"snapshot_id_2_1537293450223\">Axes.png</div>"
      }
     },
     "58e22ec1b2354861b02de0664a35ea21": {
      "model_module": "jp_proxy_widget",
      "model_module_version": "^0.3.4",
      "model_name": "JSProxyModel",
      "state": {
       "_model_module_version": "^0.3.4",
       "_send_counter": 2,
       "_view_module_version": "^0.3.4",
       "error_msg": "No error",
       "layout": "IPY_MODEL_01a4fd2f3d79456fb9deb1d790cfe4b8",
       "rendered": true,
       "status": "Not yet rendered"
      }
     },
     "597b8f26b4074953913690b8d787a4af": {
      "model_module": "@jupyter-widgets/base",
      "model_module_version": "1.0.0",
      "model_name": "LayoutModel",
      "state": {}
     },
     "59d0105e74f440a38769eeb674bbff95": {
      "model_module": "@jupyter-widgets/base",
      "model_module_version": "1.0.0",
      "model_name": "LayoutModel",
      "state": {}
     },
     "5a62581a70f44835815321cc2470a7d6": {
      "model_module": "@jupyter-widgets/controls",
      "model_module_version": "1.0.0",
      "model_name": "TabModel",
      "state": {
       "_titles": {
        "0": "Canvas",
        "1": "Snapshot"
       },
       "children": [
        "IPY_MODEL_9f400c28cdd140db9d0dfaa56640ed48",
        "IPY_MODEL_4c6f3f5a14d942ba87d181ddad15aed3"
       ],
       "layout": "IPY_MODEL_72eab61d5582434c9893af0d37edfeb2"
      }
     },
     "5a81d649c79f43bca44f7d3a99156148": {
      "model_module": "@jupyter-widgets/base",
      "model_module_version": "1.0.0",
      "model_name": "LayoutModel",
      "state": {}
     },
     "5b66a3a39e224d9792894d9949ecde29": {
      "model_module": "jp_proxy_widget",
      "model_module_version": "^0.3.4",
      "model_name": "JSProxyModel",
      "state": {
       "_model_module_version": "^0.3.4",
       "_send_counter": 2,
       "_view_module_version": "^0.3.4",
       "error_msg": "No error",
       "layout": "IPY_MODEL_39dc890666754ca6bc223a12d8d89f27",
       "rendered": true,
       "status": "Not yet rendered"
      }
     },
     "5b92bdaa14234c988ca52af9d0674093": {
      "model_module": "@jupyter-widgets/base",
      "model_module_version": "1.0.0",
      "model_name": "LayoutModel",
      "state": {}
     },
     "5c00c6d970c5430ab51ccbae740d4d89": {
      "model_module": "@jupyter-widgets/controls",
      "model_module_version": "1.0.0",
      "model_name": "HTMLModel",
      "state": {
       "layout": "IPY_MODEL_21a537adb195425bb31d2ce0f9cbe418",
       "style": "IPY_MODEL_4f658a1ee0b44103b22e329725ece7d3",
       "value": "<img src=\"Axes.png\" id=\"snapshot_id_5_1537292885988\"/>\n <div id=\"snapshot_id_6_1537292885988\">Axes.png</div>"
      }
     },
     "5c21b2c3f9c744b4944d2a5d87efcc25": {
      "model_module": "@jupyter-widgets/base",
      "model_module_version": "1.0.0",
      "model_name": "LayoutModel",
      "state": {}
     },
     "5c4caf8eec244e4c986f4cbd8a7edc68": {
      "model_module": "jp_proxy_widget",
      "model_module_version": "^0.3.4",
      "model_name": "JSProxyModel",
      "state": {
       "_model_module_version": "^0.3.4",
       "_send_counter": 2,
       "_view_module_version": "^0.3.4",
       "error_msg": "No error",
       "layout": "IPY_MODEL_5fad2e3abea54482926d2c42c3e4c9c6",
       "rendered": true,
       "status": "Not yet rendered"
      }
     },
     "5e065328c9a04c28945858922c16ba62": {
      "model_module": "jp_proxy_widget",
      "model_module_version": "^0.3.4",
      "model_name": "JSProxyModel",
      "state": {
       "_model_module_version": "^0.3.4",
       "_send_counter": 6,
       "_view_module_version": "^0.3.4",
       "error_msg": "No error",
       "layout": "IPY_MODEL_bdb75a1dd3f447f49c42512e1808d172",
       "rendered": true,
       "status": "Got results."
      }
     },
     "5e9dfc5d24464c4b8c977625b6c0fda6": {
      "model_module": "@jupyter-widgets/controls",
      "model_module_version": "1.0.0",
      "model_name": "VBoxModel",
      "state": {
       "children": [
        "IPY_MODEL_d3fd1d76cacf483c9ee2c52dbd9ffad5",
        "IPY_MODEL_cf81fb2c1a19479c99cba8244413b4de"
       ],
       "layout": "IPY_MODEL_51a234d697864878a2bde2699a846551"
      }
     },
     "5ef465ad21dd490196acff820bb6efb9": {
      "model_module": "@jupyter-widgets/base",
      "model_module_version": "1.0.0",
      "model_name": "LayoutModel",
      "state": {}
     },
     "5f965f00e63d44bc91e7a8669c92571b": {
      "model_module": "@jupyter-widgets/base",
      "model_module_version": "1.0.0",
      "model_name": "LayoutModel",
      "state": {}
     },
     "5fad2e3abea54482926d2c42c3e4c9c6": {
      "model_module": "@jupyter-widgets/base",
      "model_module_version": "1.0.0",
      "model_name": "LayoutModel",
      "state": {}
     },
     "6025058b22904a4fa29c24e8923fcb8f": {
      "model_module": "@jupyter-widgets/controls",
      "model_module_version": "1.0.0",
      "model_name": "HTMLModel",
      "state": {
       "layout": "IPY_MODEL_89bdfa1190f845bb81935c97a3beeef4",
       "style": "IPY_MODEL_818849ee9501499b8c03beae864c2ba7",
       "value": "<img src=\"Axes.png\" id=\"snapshot_id_3_1537293053401\"/>\n <div id=\"snapshot_id_4_1537293053401\">Axes.png</div>"
      }
     },
     "605e8360a79c4440b737d8c7051c13c1": {
      "model_module": "@jupyter-widgets/base",
      "model_module_version": "1.0.0",
      "model_name": "LayoutModel",
      "state": {}
     },
     "617202c343ea4d708cf1d0a2955cb58a": {
      "model_module": "@jupyter-widgets/base",
      "model_module_version": "1.0.0",
      "model_name": "LayoutModel",
      "state": {}
     },
     "628ed6cfc86d4ded8bb61de2f428f1bd": {
      "model_module": "jp_proxy_widget",
      "model_module_version": "^0.3.4",
      "model_name": "JSProxyModel",
      "state": {
       "_model_module_version": "^0.3.4",
       "_send_counter": 14,
       "_view_module_version": "^0.3.4",
       "error_msg": "In [object Object] no such method top_exis",
       "layout": "IPY_MODEL_4c21fe8704a04c13a322af5787a62915",
       "rendered": true,
       "status": "Got results."
      }
     },
     "62b1958f45104aa7930bd0b5b1c43c54": {
      "model_module": "@jupyter-widgets/base",
      "model_module_version": "1.0.0",
      "model_name": "LayoutModel",
      "state": {}
     },
     "63d0d851493143a0b591906f6b22b7c9": {
      "model_module": "@jupyter-widgets/base",
      "model_module_version": "1.0.0",
      "model_name": "LayoutModel",
      "state": {}
     },
     "63fa7df406d44b968e17d86301adaee8": {
      "model_module": "@jupyter-widgets/base",
      "model_module_version": "1.0.0",
      "model_name": "LayoutModel",
      "state": {}
     },
     "66547056c1dd4a088ee1054c2efa557f": {
      "model_module": "@jupyter-widgets/controls",
      "model_module_version": "1.0.0",
      "model_name": "VBoxModel",
      "state": {
       "children": [
        "IPY_MODEL_3c58a8805ce5454eab57419ce7f6bdb3",
        "IPY_MODEL_58e22ec1b2354861b02de0664a35ea21"
       ],
       "layout": "IPY_MODEL_f60227eb3f0e4ac9a926d1cb2b9fd263"
      }
     },
     "66aebb107db44e3c8aca000254655bfd": {
      "model_module": "@jupyter-widgets/base",
      "model_module_version": "1.0.0",
      "model_name": "LayoutModel",
      "state": {}
     },
     "66afd4f2f26642d697a4657417825194": {
      "model_module": "@jupyter-widgets/base",
      "model_module_version": "1.0.0",
      "model_name": "LayoutModel",
      "state": {}
     },
     "6720579edba5415ca7d8e76f5bd9eac9": {
      "model_module": "@jupyter-widgets/base",
      "model_module_version": "1.0.0",
      "model_name": "LayoutModel",
      "state": {}
     },
     "67515d79378043bc8cd1e0d81faa4ed4": {
      "model_module": "@jupyter-widgets/controls",
      "model_module_version": "1.0.0",
      "model_name": "HTMLModel",
      "state": {
       "layout": "IPY_MODEL_bc71347a769a4881adc191062330dd1c",
       "style": "IPY_MODEL_ae647bd7dbc749219dbe2ee44392fbec",
       "value": "<img src=\"Axes.png\" id=\"snapshot_id_1_1537293158018\"/>\n <div id=\"snapshot_id_2_1537293158018\">Axes.png</div>"
      }
     },
     "67cb36fac6564fb2b1743eea56324320": {
      "model_module": "@jupyter-widgets/base",
      "model_module_version": "1.0.0",
      "model_name": "LayoutModel",
      "state": {}
     },
     "68a84b8a395f4d37a2af1c09b7b681f7": {
      "model_module": "@jupyter-widgets/controls",
      "model_module_version": "1.0.0",
      "model_name": "TabModel",
      "state": {
       "_titles": {
        "0": "Canvas",
        "1": "Snapshot"
       },
       "children": [
        "IPY_MODEL_66547056c1dd4a088ee1054c2efa557f",
        "IPY_MODEL_82252a0f758c41ffbaaa1a727fc5b209"
       ],
       "layout": "IPY_MODEL_421851d824ea4f4d8dd59a6c540a5460"
      }
     },
     "6901c2697eda47c996f439616267a23c": {
      "model_module": "@jupyter-widgets/base",
      "model_module_version": "1.0.0",
      "model_name": "LayoutModel",
      "state": {}
     },
     "691067ecaec84a13a76e2a594958834a": {
      "model_module": "@jupyter-widgets/controls",
      "model_module_version": "1.0.0",
      "model_name": "DescriptionStyleModel",
      "state": {
       "description_width": ""
      }
     },
     "6921c27be0fe4647b5a909eceeb1b42f": {
      "model_module": "@jupyter-widgets/controls",
      "model_module_version": "1.0.0",
      "model_name": "DescriptionStyleModel",
      "state": {
       "description_width": ""
      }
     },
     "69d9d18a308c4dd7ba4570fb02a80c2e": {
      "model_module": "jp_proxy_widget",
      "model_module_version": "^0.3.4",
      "model_name": "JSProxyModel",
      "state": {
       "_model_module_version": "^0.3.4",
       "_send_counter": 2,
       "_view_module_version": "^0.3.4",
       "error_msg": "No error",
       "layout": "IPY_MODEL_5116b4a72d724753bc645a3a044fbc22",
       "rendered": true,
       "status": "Got results."
      }
     },
     "69e9ebb5213145f092db390156fe6161": {
      "model_module": "@jupyter-widgets/base",
      "model_module_version": "1.0.0",
      "model_name": "LayoutModel",
      "state": {}
     },
     "6a44369443634eaa991eebd246a443e3": {
      "model_module": "jp_proxy_widget",
      "model_module_version": "^0.3.4",
      "model_name": "JSProxyModel",
      "state": {
       "_model_module_version": "^0.3.4",
       "_send_counter": 2,
       "_view_module_version": "^0.3.4",
       "error_msg": "No error",
       "layout": "IPY_MODEL_ad0d4e72694147ddad941eb9eb83326b",
       "rendered": true,
       "status": "Not yet rendered"
      }
     },
     "6a9ce9ac525d47bc89c84fa145184dcc": {
      "model_module": "@jupyter-widgets/base",
      "model_module_version": "1.0.0",
      "model_name": "LayoutModel",
      "state": {}
     },
     "6b229b02bdc5493c9cf499f1e3907ec4": {
      "model_module": "@jupyter-widgets/base",
      "model_module_version": "1.0.0",
      "model_name": "LayoutModel",
      "state": {}
     },
     "6bb2f60b5bed4bc8bc9802e35633657a": {
      "model_module": "jp_proxy_widget",
      "model_module_version": "^0.3.4",
      "model_name": "JSProxyModel",
      "state": {
       "_model_module_version": "^0.3.4",
       "_send_counter": 6,
       "_view_module_version": "^0.3.4",
       "error_msg": "No error",
       "layout": "IPY_MODEL_c935ee0eb4aa4fe1a35ea3429855dd78",
       "rendered": true,
       "status": "Got results."
      }
     },
     "6c919c24099d48ed93e08e0ce5705437": {
      "model_module": "jp_proxy_widget",
      "model_module_version": "^0.3.4",
      "model_name": "JSProxyModel",
      "state": {
       "_model_module_version": "^0.3.4",
       "_send_counter": 6,
       "_view_module_version": "^0.3.4",
       "error_msg": "No error",
       "layout": "IPY_MODEL_df90628ce5e94a3b8d6179c7591c14a2",
       "rendered": true,
       "status": "Got results."
      }
     },
     "6d16b34800ee42e7bae7976b8fcfaf73": {
      "model_module": "@jupyter-widgets/base",
      "model_module_version": "1.0.0",
      "model_name": "LayoutModel",
      "state": {}
     },
     "6dc776a074984b20ad7bb5a57a9be273": {
      "model_module": "@jupyter-widgets/base",
      "model_module_version": "1.0.0",
      "model_name": "LayoutModel",
      "state": {}
     },
     "6ed6f119bed24cf9a2d17486c64d93ba": {
      "model_module": "@jupyter-widgets/base",
      "model_module_version": "1.0.0",
      "model_name": "LayoutModel",
      "state": {}
     },
     "6f2ee195827a4efaaf19452bea91d01a": {
      "model_module": "jp_proxy_widget",
      "model_module_version": "^0.3.4",
      "model_name": "JSProxyModel",
      "state": {
       "_model_module_version": "^0.3.4",
       "_send_counter": 2,
       "_view_module_version": "^0.3.4",
       "error_msg": "No error",
       "layout": "IPY_MODEL_516307ac05c74a428302319ae5b68b0c",
       "rendered": true,
       "status": "Got results."
      }
     },
     "7255ac2443f74d72ab4056e681cf474b": {
      "model_module": "jp_proxy_widget",
      "model_module_version": "^0.3.4",
      "model_name": "JSProxyModel",
      "state": {
       "_model_module_version": "^0.3.4",
       "_send_counter": 2,
       "_view_module_version": "^0.3.4",
       "error_msg": "No error",
       "layout": "IPY_MODEL_f46cc3afe8a4444d951f8b18cad3d157",
       "rendered": true,
       "status": "Got results."
      }
     },
     "72eab61d5582434c9893af0d37edfeb2": {
      "model_module": "@jupyter-widgets/base",
      "model_module_version": "1.0.0",
      "model_name": "LayoutModel",
      "state": {}
     },
     "7355cdc2810845ca96b72123e426335b": {
      "model_module": "@jupyter-widgets/controls",
      "model_module_version": "1.0.0",
      "model_name": "VBoxModel",
      "state": {
       "children": [
        "IPY_MODEL_a731f04a88a74ecc9a3fd5a89a1b8a52",
        "IPY_MODEL_053cf831f57440d8a2188000acb9f188"
       ],
       "layout": "IPY_MODEL_69e9ebb5213145f092db390156fe6161"
      }
     },
     "748b5cf98ea84d14b6c660bfd243d3c4": {
      "model_module": "@jupyter-widgets/base",
      "model_module_version": "1.0.0",
      "model_name": "LayoutModel",
      "state": {}
     },
     "74d2872c51c742cb9bc5076113c96f11": {
      "model_module": "@jupyter-widgets/controls",
      "model_module_version": "1.0.0",
      "model_name": "HTMLModel",
      "state": {
       "layout": "IPY_MODEL_9285dbed1d23484793d608a7c0cd244d",
       "style": "IPY_MODEL_965a26c380a1480a9055fcc524a16b8a",
       "value": "<img src=\"Axes.png\" id=\"snapshot_id_15_1537294067145\"/>\n <div id=\"snapshot_id_16_1537294067145\">Axes.png</div>"
      }
     },
     "752c56ecc7cb4523a0c5dcdc848b74bb": {
      "model_module": "jp_proxy_widget",
      "model_module_version": "^0.3.4",
      "model_name": "JSProxyModel",
      "state": {
       "_model_module_version": "^0.3.4",
       "_send_counter": 16,
       "_view_module_version": "^0.3.4",
       "error_msg": "No error",
       "layout": "IPY_MODEL_6a9ce9ac525d47bc89c84fa145184dcc",
       "rendered": true,
       "status": "Got results."
      }
     },
     "753f79f7f15341c89d5b984b38e99656": {
      "model_module": "@jupyter-widgets/controls",
      "model_module_version": "1.0.0",
      "model_name": "VBoxModel",
      "state": {
       "children": [
        "IPY_MODEL_628ed6cfc86d4ded8bb61de2f428f1bd",
        "IPY_MODEL_1b510e441d564c27b36893f14dc0b99e"
       ],
       "layout": "IPY_MODEL_7e9825a0534c4f96b1e1e5508dfdafae"
      }
     },
     "75487be711834a30933a109f9a82b0dd": {
      "model_module": "@jupyter-widgets/base",
      "model_module_version": "1.0.0",
      "model_name": "LayoutModel",
      "state": {}
     },
     "780fc2a4b6304db2818148505d667dec": {
      "model_module": "@jupyter-widgets/controls",
      "model_module_version": "1.0.0",
      "model_name": "HTMLModel",
      "state": {
       "layout": "IPY_MODEL_b95d60e7cded42c786500f8fad8cf4be",
       "style": "IPY_MODEL_7fdf617cbb4a43f1aab28171a4fe090c",
       "value": "<img src=\"Axes.png\" id=\"snapshot_id_5_1537293372963\"/>\n <div id=\"snapshot_id_6_1537293372963\">Axes.png</div>"
      }
     },
     "7811e7620dcc41a8b95c1b9cbd673adf": {
      "model_module": "@jupyter-widgets/base",
      "model_module_version": "1.0.0",
      "model_name": "LayoutModel",
      "state": {}
     },
     "79c842e211934f298f0762e25002d8fd": {
      "model_module": "jp_proxy_widget",
      "model_module_version": "^0.3.4",
      "model_name": "JSProxyModel",
      "state": {
       "_model_module_version": "^0.3.4",
       "_send_counter": 14,
       "_view_module_version": "^0.3.4",
       "error_msg": "No error",
       "layout": "IPY_MODEL_6dc776a074984b20ad7bb5a57a9be273",
       "rendered": true,
       "status": "Got results."
      }
     },
     "7a34ea45ea664896a0875cdf53bc3c0b": {
      "model_module": "@jupyter-widgets/controls",
      "model_module_version": "1.0.0",
      "model_name": "VBoxModel",
      "state": {
       "children": [
        "IPY_MODEL_84315928ed624c43b355a8aaad5fd110",
        "IPY_MODEL_fa86da8b91b946389c049993415e939b"
       ],
       "layout": "IPY_MODEL_21b27fc185404201bfb5bf5a9ff3220f"
      }
     },
     "7af821a7e2cb4985b13ae5bba851015d": {
      "model_module": "@jupyter-widgets/base",
      "model_module_version": "1.0.0",
      "model_name": "LayoutModel",
      "state": {}
     },
     "7b0d4aeb88d44295a55c515d51a22a10": {
      "model_module": "@jupyter-widgets/controls",
      "model_module_version": "1.0.0",
      "model_name": "HTMLModel",
      "state": {
       "layout": "IPY_MODEL_3f5f789e5b974d13bc90c96cbd3a9fe1",
       "style": "IPY_MODEL_e2a2a176dd29433691326bfb0d28d1c7",
       "value": "<img src=\"Axes.png\" id=\"snapshot_id_9_1537293407402\"/>\n <div id=\"snapshot_id_10_1537293407402\">Axes.png</div>"
      }
     },
     "7c56a8024eb347f38eb7676e5ee78de5": {
      "model_module": "@jupyter-widgets/base",
      "model_module_version": "1.0.0",
      "model_name": "LayoutModel",
      "state": {}
     },
     "7df6b5eafb894a42b428744c6cd1448f": {
      "model_module": "@jupyter-widgets/controls",
      "model_module_version": "1.0.0",
      "model_name": "TabModel",
      "state": {
       "_titles": {
        "0": "Canvas",
        "1": "Snapshot"
       },
       "children": [
        "IPY_MODEL_b5da6595796d4654ae647aa637991686",
        "IPY_MODEL_da0f17c9e42543e49453bf7a9858599d"
       ],
       "layout": "IPY_MODEL_1333dd76c31b441bafccf8b7ae304ce4"
      }
     },
     "7e6004a0336a4daba19e1eb9f3684924": {
      "model_module": "@jupyter-widgets/controls",
      "model_module_version": "1.0.0",
      "model_name": "TabModel",
      "state": {
       "_titles": {
        "0": "Canvas",
        "1": "Snapshot"
       },
       "children": [
        "IPY_MODEL_b4e4f076ed90422aa840f03339393269",
        "IPY_MODEL_6025058b22904a4fa29c24e8923fcb8f"
       ],
       "layout": "IPY_MODEL_748b5cf98ea84d14b6c660bfd243d3c4"
      }
     },
     "7e9825a0534c4f96b1e1e5508dfdafae": {
      "model_module": "@jupyter-widgets/base",
      "model_module_version": "1.0.0",
      "model_name": "LayoutModel",
      "state": {}
     },
     "7fcbe3d171fc4d4dbbb733a15f912b49": {
      "model_module": "@jupyter-widgets/base",
      "model_module_version": "1.0.0",
      "model_name": "LayoutModel",
      "state": {}
     },
     "7fdf617cbb4a43f1aab28171a4fe090c": {
      "model_module": "@jupyter-widgets/controls",
      "model_module_version": "1.0.0",
      "model_name": "DescriptionStyleModel",
      "state": {
       "description_width": ""
      }
     },
     "81043115b65040f28206f13e4f70b7ce": {
      "model_module": "jp_proxy_widget",
      "model_module_version": "^0.3.4",
      "model_name": "JSProxyModel",
      "state": {
       "_model_module_version": "^0.3.4",
       "_send_counter": 6,
       "_view_module_version": "^0.3.4",
       "error_msg": "No error",
       "layout": "IPY_MODEL_339e0f7a1b1640f88722425b45298119",
       "rendered": true,
       "status": "Got results."
      }
     },
     "818849ee9501499b8c03beae864c2ba7": {
      "model_module": "@jupyter-widgets/controls",
      "model_module_version": "1.0.0",
      "model_name": "DescriptionStyleModel",
      "state": {
       "description_width": ""
      }
     },
     "82252a0f758c41ffbaaa1a727fc5b209": {
      "model_module": "@jupyter-widgets/controls",
      "model_module_version": "1.0.0",
      "model_name": "HTMLModel",
      "state": {
       "layout": "IPY_MODEL_46bedca34f3d4c7a9a0789baa5456638",
       "style": "IPY_MODEL_f6affbc2fdc74bb6879a19363509ec07",
       "value": "<img src=\"Axes.png\" id=\"snapshot_id_7_1537293394978\"/>\n <div id=\"snapshot_id_8_1537293394978\">Axes.png</div>"
      }
     },
     "82a030ff9aa045faa56ea061b3848eb0": {
      "model_module": "jp_proxy_widget",
      "model_module_version": "^0.3.4",
      "model_name": "JSProxyModel",
      "state": {
       "_model_module_version": "^0.3.4",
       "_send_counter": 10,
       "_view_module_version": "^0.3.4",
       "error_msg": "No error",
       "layout": "IPY_MODEL_522e107119b141d4b108348cb9d20559",
       "rendered": true,
       "status": "Got results."
      }
     },
     "8364e57601ca4ff9acb97ad1dcff192c": {
      "model_module": "@jupyter-widgets/base",
      "model_module_version": "1.0.0",
      "model_name": "LayoutModel",
      "state": {}
     },
     "84315928ed624c43b355a8aaad5fd110": {
      "model_module": "jp_proxy_widget",
      "model_module_version": "^0.3.4",
      "model_name": "JSProxyModel",
      "state": {
       "_model_module_version": "^0.3.4",
       "_send_counter": 15,
       "_view_module_version": "^0.3.4",
       "error_msg": "No error",
       "layout": "IPY_MODEL_e2ce7b45cf1d48448fbed5f22d8b4c2f",
       "rendered": true,
       "status": "Got results."
      }
     },
     "84ac67328e6e4092803ed6ea52fcbb62": {
      "model_module": "@jupyter-widgets/base",
      "model_module_version": "1.0.0",
      "model_name": "LayoutModel",
      "state": {}
     },
     "855f19f31a0d421d9212425d6eaa1258": {
      "model_module": "@jupyter-widgets/base",
      "model_module_version": "1.0.0",
      "model_name": "LayoutModel",
      "state": {}
     },
     "8808441432bb4aa990d3c73be2d20b3b": {
      "model_module": "@jupyter-widgets/controls",
      "model_module_version": "1.0.0",
      "model_name": "TabModel",
      "state": {
       "_titles": {
        "0": "Canvas",
        "1": "Snapshot"
       },
       "children": [
        "IPY_MODEL_584a60d60b744edaac49fd9dab670024",
        "IPY_MODEL_e4531d0816474862acd220a8d13f9532"
       ],
       "layout": "IPY_MODEL_6ed6f119bed24cf9a2d17486c64d93ba"
      }
     },
     "880aa0edf1434beea04de0eeda6f4d98": {
      "model_module": "@jupyter-widgets/base",
      "model_module_version": "1.0.0",
      "model_name": "LayoutModel",
      "state": {}
     },
     "8854892323d74b318523fba6f37db336": {
      "model_module": "@jupyter-widgets/base",
      "model_module_version": "1.0.0",
      "model_name": "LayoutModel",
      "state": {}
     },
     "88a163b38cca41f7b6cc5631a3f844e3": {
      "model_module": "@jupyter-widgets/base",
      "model_module_version": "1.0.0",
      "model_name": "LayoutModel",
      "state": {}
     },
     "89bdfa1190f845bb81935c97a3beeef4": {
      "model_module": "@jupyter-widgets/base",
      "model_module_version": "1.0.0",
      "model_name": "LayoutModel",
      "state": {}
     },
     "8a0f73f5ac1d47659a8453ddec70f9b7": {
      "model_module": "@jupyter-widgets/controls",
      "model_module_version": "1.0.0",
      "model_name": "HTMLModel",
      "state": {
       "layout": "IPY_MODEL_c66717eba96d4116a1fc749fda30556b",
       "style": "IPY_MODEL_d3fa6539932547d698b8c6ce65b6241f",
       "value": "<img src=\"Axes.png\" id=\"snapshot_id_5_1537293662430\"/>\n <div id=\"snapshot_id_6_1537293662430\">Axes.png</div>"
      }
     },
     "8af168f222f241ce8c575aa334c1fa2e": {
      "model_module": "@jupyter-widgets/base",
      "model_module_version": "1.0.0",
      "model_name": "LayoutModel",
      "state": {}
     },
     "8bc2230aefcb4fac9ece5372cb6faf88": {
      "model_module": "jp_proxy_widget",
      "model_module_version": "^0.3.4",
      "model_name": "JSProxyModel",
      "state": {
       "_model_module_version": "^0.3.4",
       "_send_counter": 8,
       "_view_module_version": "^0.3.4",
       "error_msg": "No error",
       "layout": "IPY_MODEL_66aebb107db44e3c8aca000254655bfd",
       "rendered": true,
       "status": "Got results."
      }
     },
     "8e895e4a4a5546bba415e33a53d29cba": {
      "model_module": "@jupyter-widgets/controls",
      "model_module_version": "1.0.0",
      "model_name": "DescriptionStyleModel",
      "state": {
       "description_width": ""
      }
     },
     "8ea1927f18b24d39893a7cd02c3b9c26": {
      "model_module": "jp_proxy_widget",
      "model_module_version": "^0.3.4",
      "model_name": "JSProxyModel",
      "state": {
       "_model_module_version": "^0.3.4",
       "_send_counter": 6,
       "_view_module_version": "^0.3.4",
       "error_msg": "No error",
       "layout": "IPY_MODEL_2fb231edb71e48b8b67bfa3cfb4beaf1",
       "rendered": true,
       "status": "Got results."
      }
     },
     "91c668f1936f4c63bd7aedf0b4e8eae3": {
      "model_module": "@jupyter-widgets/base",
      "model_module_version": "1.0.0",
      "model_name": "LayoutModel",
      "state": {}
     },
     "9285dbed1d23484793d608a7c0cd244d": {
      "model_module": "@jupyter-widgets/base",
      "model_module_version": "1.0.0",
      "model_name": "LayoutModel",
      "state": {}
     },
     "93cdf4720cf74a02890d5ba13e819a0f": {
      "model_module": "@jupyter-widgets/base",
      "model_module_version": "1.0.0",
      "model_name": "LayoutModel",
      "state": {}
     },
     "965a26c380a1480a9055fcc524a16b8a": {
      "model_module": "@jupyter-widgets/controls",
      "model_module_version": "1.0.0",
      "model_name": "DescriptionStyleModel",
      "state": {
       "description_width": ""
      }
     },
     "966458dfe8cc4fc8a382c7db091c124b": {
      "model_module": "jp_proxy_widget",
      "model_module_version": "^0.3.4",
      "model_name": "JSProxyModel",
      "state": {
       "_model_module_version": "^0.3.4",
       "_send_counter": 2,
       "_view_module_version": "^0.3.4",
       "error_msg": "No error",
       "layout": "IPY_MODEL_91c668f1936f4c63bd7aedf0b4e8eae3",
       "rendered": true,
       "status": "Not yet rendered"
      }
     },
     "96adc26e1a004187a90f6492770a47fd": {
      "model_module": "jp_proxy_widget",
      "model_module_version": "^0.3.4",
      "model_name": "JSProxyModel",
      "state": {
       "_model_module_version": "^0.3.4",
       "_send_counter": 11,
       "_view_module_version": "^0.3.4",
       "error_msg": "No error",
       "layout": "IPY_MODEL_f8ac29a4604e48a7893f97012b5bb955",
       "rendered": true,
       "status": "Not yet rendered"
      }
     },
     "98019b1e24794d438d98ddfd2d6a01b5": {
      "model_module": "@jupyter-widgets/controls",
      "model_module_version": "1.0.0",
      "model_name": "VBoxModel",
      "state": {
       "children": [
        "IPY_MODEL_82a030ff9aa045faa56ea061b3848eb0",
        "IPY_MODEL_cb1dbb5cb5184670afdc29e44f9daef2"
       ],
       "layout": "IPY_MODEL_520f4489804641e78b3ba73cab8563d5"
      }
     },
     "984b37bfdde94f679700edb30c96e496": {
      "model_module": "@jupyter-widgets/base",
      "model_module_version": "1.0.0",
      "model_name": "LayoutModel",
      "state": {}
     },
     "98ff367bd4f54811b909cd4d3244b104": {
      "model_module": "@jupyter-widgets/base",
      "model_module_version": "1.0.0",
      "model_name": "LayoutModel",
      "state": {}
     },
     "99f6f2a8a9094e749efa5f0b00a5a5d5": {
      "model_module": "jp_proxy_widget",
      "model_module_version": "^0.3.4",
      "model_name": "JSProxyModel",
      "state": {
       "_model_module_version": "^0.3.4",
       "_send_counter": 8,
       "_view_module_version": "^0.3.4",
       "error_msg": "No error",
       "layout": "IPY_MODEL_2708b61dd3124f71bc3b94c69e840f02",
       "rendered": true,
       "status": "Not yet rendered"
      }
     },
     "9a2d590aa5454b1c83b9a15d936f4dd6": {
      "model_module": "@jupyter-widgets/controls",
      "model_module_version": "1.0.0",
      "model_name": "TabModel",
      "state": {
       "_titles": {
        "0": "Canvas",
        "1": "Snapshot"
       },
       "children": [
        "IPY_MODEL_1e3f101313d048e59339a03f406729d1",
        "IPY_MODEL_23142d6b95dc414eae5c92fad06c40f9"
       ],
       "layout": "IPY_MODEL_9e621742230a4f73b455c1f5835c0dbe"
      }
     },
     "9b007332dccb40d086346264ce55d60d": {
      "model_module": "@jupyter-widgets/base",
      "model_module_version": "1.0.0",
      "model_name": "LayoutModel",
      "state": {}
     },
     "9c9f383538e9496a851af7ac60301389": {
      "model_module": "@jupyter-widgets/base",
      "model_module_version": "1.0.0",
      "model_name": "LayoutModel",
      "state": {}
     },
     "9e621742230a4f73b455c1f5835c0dbe": {
      "model_module": "@jupyter-widgets/base",
      "model_module_version": "1.0.0",
      "model_name": "LayoutModel",
      "state": {}
     },
     "9f400c28cdd140db9d0dfaa56640ed48": {
      "model_module": "@jupyter-widgets/controls",
      "model_module_version": "1.0.0",
      "model_name": "VBoxModel",
      "state": {
       "children": [
        "IPY_MODEL_2512642f565e4912b640aecc70bc13e9",
        "IPY_MODEL_5c4caf8eec244e4c986f4cbd8a7edc68"
       ],
       "layout": "IPY_MODEL_b6d76d7a4df14f54a9973d1823ae743a"
      }
     },
     "9f84cefb136f4357b2dbf3359d522c8c": {
      "model_module": "jp_proxy_widget",
      "model_module_version": "^0.3.4",
      "model_name": "JSProxyModel",
      "state": {
       "_model_module_version": "^0.3.4",
       "_send_counter": 6,
       "_view_module_version": "^0.3.4",
       "error_msg": "TypeError: Cannot read property 'offset' of undefined",
       "layout": "IPY_MODEL_30b7d6ba03324247a0fcab0ee4f32893",
       "rendered": true,
       "status": "Rendered."
      }
     },
     "a23ffb13167c4278bf53934d0e401c55": {
      "model_module": "@jupyter-widgets/controls",
      "model_module_version": "1.0.0",
      "model_name": "DescriptionStyleModel",
      "state": {
       "description_width": ""
      }
     },
     "a2c916ee9e894a46afdf1813b067d24a": {
      "model_module": "@jupyter-widgets/base",
      "model_module_version": "1.0.0",
      "model_name": "LayoutModel",
      "state": {}
     },
     "a39e31f630dc435fa33fefec07fab1b3": {
      "model_module": "@jupyter-widgets/controls",
      "model_module_version": "1.0.0",
      "model_name": "TabModel",
      "state": {
       "_titles": {
        "0": "Canvas",
        "1": "Snapshot"
       },
       "children": [
        "IPY_MODEL_2ea3af40d30c445ebe9e958570503139",
        "IPY_MODEL_3c4fbd790840416588787d1d54cb1e00"
       ],
       "layout": "IPY_MODEL_c43b118f8a004ea5b121a61562c08836"
      }
     },
     "a4d3a3408c1a4f5dac21f15583163351": {
      "model_module": "@jupyter-widgets/base",
      "model_module_version": "1.0.0",
      "model_name": "LayoutModel",
      "state": {}
     },
     "a56257ca2b0d407aa9928c578a97bc78": {
      "model_module": "@jupyter-widgets/base",
      "model_module_version": "1.0.0",
      "model_name": "LayoutModel",
      "state": {}
     },
     "a586673fccc5432ea5d1f6c013fa6c34": {
      "model_module": "@jupyter-widgets/controls",
      "model_module_version": "1.0.0",
      "model_name": "VBoxModel",
      "state": {
       "children": [
        "IPY_MODEL_29094d4be8cf4ee798c853910424c6f8",
        "IPY_MODEL_da6ca664646c4c44abce2f13d418d43a"
       ],
       "layout": "IPY_MODEL_9c9f383538e9496a851af7ac60301389"
      }
     },
     "a597ecebf36841e2989d68cb01583e38": {
      "model_module": "@jupyter-widgets/controls",
      "model_module_version": "1.0.0",
      "model_name": "TabModel",
      "state": {
       "_titles": {
        "0": "Canvas",
        "1": "Snapshot"
       },
       "children": [
        "IPY_MODEL_fb4372a5adf64e2b8d84b8e3062d8a81",
        "IPY_MODEL_2701691a54bf44fd993fc4fd209e8eb4"
       ],
       "layout": "IPY_MODEL_5a81d649c79f43bca44f7d3a99156148"
      }
     },
     "a5bf721c43ef4edca101622855cd57e0": {
      "model_module": "@jupyter-widgets/base",
      "model_module_version": "1.0.0",
      "model_name": "LayoutModel",
      "state": {}
     },
     "a6f6f6195ca047faba8779b9fd1d3f07": {
      "model_module": "@jupyter-widgets/controls",
      "model_module_version": "1.0.0",
      "model_name": "TabModel",
      "state": {
       "_titles": {
        "0": "Canvas",
        "1": "Snapshot"
       },
       "children": [
        "IPY_MODEL_0cb02673052b49e396789a87a7cf864c",
        "IPY_MODEL_67515d79378043bc8cd1e0d81faa4ed4"
       ],
       "layout": "IPY_MODEL_1e24a31439304b3ab92fa7f24047b4a3"
      }
     },
     "a731f04a88a74ecc9a3fd5a89a1b8a52": {
      "model_module": "jp_proxy_widget",
      "model_module_version": "^0.3.4",
      "model_name": "JSProxyModel",
      "state": {
       "_model_module_version": "^0.3.4",
       "_send_counter": 9,
       "_view_module_version": "^0.3.4",
       "error_msg": "No error",
       "layout": "IPY_MODEL_c7f45c28bb4e48f598f3623baf5b32e1",
       "rendered": true,
       "status": "Not yet rendered"
      }
     },
     "a7aab267fde04a8e99e3b07eb795d03c": {
      "model_module": "@jupyter-widgets/base",
      "model_module_version": "1.0.0",
      "model_name": "LayoutModel",
      "state": {}
     },
     "a9f4b351c8fa41e1b0f1be8761dfd87e": {
      "model_module": "@jupyter-widgets/base",
      "model_module_version": "1.0.0",
      "model_name": "LayoutModel",
      "state": {}
     },
     "aa6557dd94f64110a7056b43c580a7c4": {
      "model_module": "@jupyter-widgets/base",
      "model_module_version": "1.0.0",
      "model_name": "LayoutModel",
      "state": {}
     },
     "aab66b1d86e246698bd7007d3132e2cd": {
      "model_module": "jp_proxy_widget",
      "model_module_version": "^0.3.4",
      "model_name": "JSProxyModel",
      "state": {
       "_model_module_version": "^0.3.4",
       "_send_counter": 2,
       "_view_module_version": "^0.3.4",
       "error_msg": "No error",
       "layout": "IPY_MODEL_06d19fcbf4c6441bae3179b8f8227a1d",
       "rendered": true,
       "status": "Got results."
      }
     },
     "acbdc2e35bd047418b1fa3bdda8a361c": {
      "model_module": "@jupyter-widgets/base",
      "model_module_version": "1.0.0",
      "model_name": "LayoutModel",
      "state": {}
     },
     "acc4a08ed6914748bc5db6897ac01cf1": {
      "model_module": "@jupyter-widgets/base",
      "model_module_version": "1.0.0",
      "model_name": "LayoutModel",
      "state": {}
     },
     "ad0d4e72694147ddad941eb9eb83326b": {
      "model_module": "@jupyter-widgets/base",
      "model_module_version": "1.0.0",
      "model_name": "LayoutModel",
      "state": {}
     },
     "ad14a8f208394dd7bc826c9c0f74dec2": {
      "model_module": "@jupyter-widgets/base",
      "model_module_version": "1.0.0",
      "model_name": "LayoutModel",
      "state": {}
     },
     "ad76206661714dbf90802a47d232a194": {
      "model_module": "@jupyter-widgets/base",
      "model_module_version": "1.0.0",
      "model_name": "LayoutModel",
      "state": {}
     },
     "adad7b306bfc43faa770997c9902bc3c": {
      "model_module": "@jupyter-widgets/base",
      "model_module_version": "1.0.0",
      "model_name": "LayoutModel",
      "state": {}
     },
     "ae0d9de641684d8196ca0b9ed06cf8cd": {
      "model_module": "jp_proxy_widget",
      "model_module_version": "^0.3.4",
      "model_name": "JSProxyModel",
      "state": {
       "_model_module_version": "^0.3.4",
       "_send_counter": 6,
       "_view_module_version": "^0.3.4",
       "error_msg": "Error: Error in element.New SyntaxError: Invalid shorthand property initializer",
       "layout": "IPY_MODEL_db6d6660926f4461b50428b89b545cdd",
       "rendered": true,
       "status": "Rendered."
      }
     },
     "ae647bd7dbc749219dbe2ee44392fbec": {
      "model_module": "@jupyter-widgets/controls",
      "model_module_version": "1.0.0",
      "model_name": "DescriptionStyleModel",
      "state": {
       "description_width": ""
      }
     },
     "af65f4c8fb0f4f3a9db7f1d94660cfb9": {
      "model_module": "jp_proxy_widget",
      "model_module_version": "^0.3.4",
      "model_name": "JSProxyModel",
      "state": {
       "_model_module_version": "^0.3.4",
       "_send_counter": 6,
       "_view_module_version": "^0.3.4",
       "error_msg": "No error",
       "layout": "IPY_MODEL_62b1958f45104aa7930bd0b5b1c43c54",
       "rendered": true,
       "status": "Got results."
      }
     },
     "afbb53cd7670472286a5c65e7eca3de0": {
      "model_module": "@jupyter-widgets/base",
      "model_module_version": "1.0.0",
      "model_name": "LayoutModel",
      "state": {}
     },
     "b01659301dd04cfa9aa612fdd8029799": {
      "model_module": "@jupyter-widgets/base",
      "model_module_version": "1.0.0",
      "model_name": "LayoutModel",
      "state": {}
     },
     "b24fc9b3fce34205ba9114466d175bcc": {
      "model_module": "jp_proxy_widget",
      "model_module_version": "^0.3.4",
      "model_name": "JSProxyModel",
      "state": {
       "_model_module_version": "^0.3.4",
       "_send_counter": 6,
       "_view_module_version": "^0.3.4",
       "error_msg": "Error: bad anchor",
       "layout": "IPY_MODEL_3d44ec33776e49f3bb868771d007f360",
       "rendered": true,
       "status": "Rendered."
      }
     },
     "b3d485719ac84bed80b9217491a9870c": {
      "model_module": "jp_proxy_widget",
      "model_module_version": "^0.3.4",
      "model_name": "JSProxyModel",
      "state": {
       "_model_module_version": "^0.3.4",
       "_send_counter": 24,
       "_view_module_version": "^0.3.4",
       "error_msg": "No error",
       "layout": "IPY_MODEL_b42013f2588f40a6b92333e3ffa09e08",
       "rendered": true,
       "status": "Got results."
      }
     },
     "b405cf8c1d934d10ae7a9e6e5f6d162f": {
      "model_module": "@jupyter-widgets/base",
      "model_module_version": "1.0.0",
      "model_name": "LayoutModel",
      "state": {}
     },
     "b42013f2588f40a6b92333e3ffa09e08": {
      "model_module": "@jupyter-widgets/base",
      "model_module_version": "1.0.0",
      "model_name": "LayoutModel",
      "state": {}
     },
     "b4e4f076ed90422aa840f03339393269": {
      "model_module": "@jupyter-widgets/controls",
      "model_module_version": "1.0.0",
      "model_name": "VBoxModel",
      "state": {
       "children": [
        "IPY_MODEL_4ec5506df65c4cc5a097eb50a1c39676",
        "IPY_MODEL_b6c0a9028fd2490b89b43a296a458ec2"
       ],
       "layout": "IPY_MODEL_597b8f26b4074953913690b8d787a4af"
      }
     },
     "b5da6595796d4654ae647aa637991686": {
      "model_module": "@jupyter-widgets/controls",
      "model_module_version": "1.0.0",
      "model_name": "VBoxModel",
      "state": {
       "children": [
        "IPY_MODEL_19ad84f1b5104d1e9f70110e557b47d6",
        "IPY_MODEL_3ddf027603134d9681485f2ba891834a"
       ],
       "layout": "IPY_MODEL_adad7b306bfc43faa770997c9902bc3c"
      }
     },
     "b5da73907f7440c481e1f5c6f710d68f": {
      "model_module": "jp_proxy_widget",
      "model_module_version": "^0.3.4",
      "model_name": "JSProxyModel",
      "state": {
       "_model_module_version": "^0.3.4",
       "_send_counter": 6,
       "_view_module_version": "^0.3.4",
       "error_msg": "No error",
       "layout": "IPY_MODEL_2c78a695c0164d1690c8dafc57d1ec38",
       "rendered": true,
       "status": "Got results."
      }
     },
     "b6c0a9028fd2490b89b43a296a458ec2": {
      "model_module": "jp_proxy_widget",
      "model_module_version": "^0.3.4",
      "model_name": "JSProxyModel",
      "state": {
       "_model_module_version": "^0.3.4",
       "_send_counter": 2,
       "_view_module_version": "^0.3.4",
       "error_msg": "No error",
       "layout": "IPY_MODEL_38e152aa637f4a1bb903b24b23f13ab2",
       "rendered": true,
       "status": "Not yet rendered"
      }
     },
     "b6d76d7a4df14f54a9973d1823ae743a": {
      "model_module": "@jupyter-widgets/base",
      "model_module_version": "1.0.0",
      "model_name": "LayoutModel",
      "state": {}
     },
     "b6ffcd274f014e82a985a94f4534d84b": {
      "model_module": "jp_proxy_widget",
      "model_module_version": "^0.3.4",
      "model_name": "JSProxyModel",
      "state": {
       "_model_module_version": "^0.3.4",
       "_send_counter": 6,
       "_view_module_version": "^0.3.4",
       "error_msg": "No error",
       "layout": "IPY_MODEL_3dccda5e1ee648de88da756a32484311",
       "rendered": true,
       "status": "Got results."
      }
     },
     "b7a6228c5e6b4426a7d9172bdd39c4e7": {
      "model_module": "@jupyter-widgets/base",
      "model_module_version": "1.0.0",
      "model_name": "LayoutModel",
      "state": {}
     },
     "b7abd9085a0b45fda29d700cfa252f95": {
      "model_module": "@jupyter-widgets/controls",
      "model_module_version": "1.0.0",
      "model_name": "VBoxModel",
      "state": {
       "children": [
        "IPY_MODEL_752c56ecc7cb4523a0c5dcdc848b74bb",
        "IPY_MODEL_42ba4d181d6b47579678507ef62069c2"
       ],
       "layout": "IPY_MODEL_00096da58b064d29a2b4674979627584"
      }
     },
     "b95d60e7cded42c786500f8fad8cf4be": {
      "model_module": "@jupyter-widgets/base",
      "model_module_version": "1.0.0",
      "model_name": "LayoutModel",
      "state": {}
     },
     "b99f8a3c7fbd4778b564ddde99f502ff": {
      "model_module": "@jupyter-widgets/base",
      "model_module_version": "1.0.0",
      "model_name": "LayoutModel",
      "state": {}
     },
     "bc71347a769a4881adc191062330dd1c": {
      "model_module": "@jupyter-widgets/base",
      "model_module_version": "1.0.0",
      "model_name": "LayoutModel",
      "state": {}
     },
     "bd24ee305b834286838c58d45380989d": {
      "model_module": "jp_proxy_widget",
      "model_module_version": "^0.3.4",
      "model_name": "JSProxyModel",
      "state": {
       "_model_module_version": "^0.3.4",
       "_send_counter": 6,
       "_view_module_version": "^0.3.4",
       "error_msg": "No error",
       "layout": "IPY_MODEL_ea69170c624a49c39e62bc1c083672bb",
       "rendered": true,
       "status": "Got results."
      }
     },
     "bda20acb1ee4498cac38be9f26283de2": {
      "model_module": "jp_proxy_widget",
      "model_module_version": "^0.3.4",
      "model_name": "JSProxyModel",
      "state": {
       "_model_module_version": "^0.3.4",
       "_send_counter": 16,
       "_view_module_version": "^0.3.4",
       "error_msg": "No error",
       "layout": "IPY_MODEL_4f844b44c317445b92c666135c4eee02",
       "rendered": true,
       "status": "Got results."
      }
     },
     "bdb0b85ba5014299bc067aa12384287f": {
      "model_module": "@jupyter-widgets/base",
      "model_module_version": "1.0.0",
      "model_name": "LayoutModel",
      "state": {}
     },
     "bdb75a1dd3f447f49c42512e1808d172": {
      "model_module": "@jupyter-widgets/base",
      "model_module_version": "1.0.0",
      "model_name": "LayoutModel",
      "state": {}
     },
     "be5221d640c144ac8629b90328532b79": {
      "model_module": "@jupyter-widgets/base",
      "model_module_version": "1.0.0",
      "model_name": "LayoutModel",
      "state": {}
     },
     "be6b02ba5d804c7db7b46118e91a8a7c": {
      "model_module": "@jupyter-widgets/base",
      "model_module_version": "1.0.0",
      "model_name": "LayoutModel",
      "state": {}
     },
     "bec168f6a0784015a9e2ea3b9f0f5c5d": {
      "model_module": "jp_proxy_widget",
      "model_module_version": "^0.3.4",
      "model_name": "JSProxyModel",
      "state": {
       "_model_module_version": "^0.3.4",
       "_send_counter": 6,
       "_view_module_version": "^0.3.4",
       "error_msg": "No error",
       "layout": "IPY_MODEL_a2c916ee9e894a46afdf1813b067d24a",
       "rendered": true,
       "status": "Got results."
      }
     },
     "bf13eb2e5dd04e2c8463601c745a48c7": {
      "model_module": "@jupyter-widgets/controls",
      "model_module_version": "1.0.0",
      "model_name": "VBoxModel",
      "state": {
       "children": [
        "IPY_MODEL_cb78bae22a254f0388fd8635bb5f7408",
        "IPY_MODEL_2d038c2dd88145148aa7cab467bbd0a4"
       ],
       "layout": "IPY_MODEL_5ef465ad21dd490196acff820bb6efb9"
      }
     },
     "bf4d443a96224cd98398d7958eede6c3": {
      "model_module": "@jupyter-widgets/controls",
      "model_module_version": "1.0.0",
      "model_name": "HTMLModel",
      "state": {
       "layout": "IPY_MODEL_a5bf721c43ef4edca101622855cd57e0",
       "style": "IPY_MODEL_691067ecaec84a13a76e2a594958834a",
       "value": "<img src=\"Axes.png\" id=\"snapshot_id_5_1537293096100\"/>\n <div id=\"snapshot_id_6_1537293096100\">Axes.png</div>"
      }
     },
     "c056923c88454e28b0eaee6ac54e0aee": {
      "model_module": "jp_proxy_widget",
      "model_module_version": "^0.3.4",
      "model_name": "JSProxyModel",
      "state": {
       "_model_module_version": "^0.3.4",
       "_send_counter": 8,
       "_view_module_version": "^0.3.4",
       "error_msg": "No error",
       "layout": "IPY_MODEL_b405cf8c1d934d10ae7a9e6e5f6d162f",
       "rendered": true,
       "status": "Got results."
      }
     },
     "c072aef214754a99844ae1dc18da94ec": {
      "model_module": "jp_proxy_widget",
      "model_module_version": "^0.3.4",
      "model_name": "JSProxyModel",
      "state": {
       "_model_module_version": "^0.3.4",
       "_send_counter": 15,
       "_view_module_version": "^0.3.4",
       "error_msg": "No error",
       "layout": "IPY_MODEL_33afa61ba69a450e89b74fbebf47efc9",
       "rendered": true,
       "status": "Got results."
      }
     },
     "c155eb786aa54482b246a14fc70cbb33": {
      "model_module": "jp_proxy_widget",
      "model_module_version": "^0.3.4",
      "model_name": "JSProxyModel",
      "state": {
       "_model_module_version": "^0.3.4",
       "_send_counter": 6,
       "_view_module_version": "^0.3.4",
       "error_msg": "No error",
       "layout": "IPY_MODEL_1f9694bdcef3428cb6c755101b4ce457",
       "rendered": true,
       "status": "Got results."
      }
     },
     "c15c73f6ab8744bdae06b1e68ed61882": {
      "model_module": "@jupyter-widgets/controls",
      "model_module_version": "1.0.0",
      "model_name": "VBoxModel",
      "state": {
       "children": [
        "IPY_MODEL_c9b6014265294d4684746e1388de8efc",
        "IPY_MODEL_6a44369443634eaa991eebd246a443e3"
       ],
       "layout": "IPY_MODEL_f4872716555c45d18cb10bb7c42c9431"
      }
     },
     "c1a623ccf296460e8c6551105daa4c99": {
      "model_module": "@jupyter-widgets/base",
      "model_module_version": "1.0.0",
      "model_name": "LayoutModel",
      "state": {}
     },
     "c1c6b41b731142fbb5ec528490366f85": {
      "model_module": "jp_proxy_widget",
      "model_module_version": "^0.3.4",
      "model_name": "JSProxyModel",
      "state": {
       "_model_module_version": "^0.3.4",
       "_send_counter": 2,
       "_view_module_version": "^0.3.4",
       "error_msg": "No error",
       "layout": "IPY_MODEL_f6299a885b664e9aa44773adcee1d823",
       "rendered": true,
       "status": "Got results."
      }
     },
     "c3f2d37b386f4ad49e41515aee43833b": {
      "model_module": "@jupyter-widgets/base",
      "model_module_version": "1.0.0",
      "model_name": "LayoutModel",
      "state": {}
     },
     "c43b118f8a004ea5b121a61562c08836": {
      "model_module": "@jupyter-widgets/base",
      "model_module_version": "1.0.0",
      "model_name": "LayoutModel",
      "state": {}
     },
     "c5fe737570ec4d27992e2830bb014b08": {
      "model_module": "@jupyter-widgets/controls",
      "model_module_version": "1.0.0",
      "model_name": "TabModel",
      "state": {
       "_titles": {
        "0": "Canvas",
        "1": "Snapshot"
       },
       "children": [
        "IPY_MODEL_b7abd9085a0b45fda29d700cfa252f95",
        "IPY_MODEL_009503d7a6e74225a6315116b3911f71"
       ],
       "layout": "IPY_MODEL_aa6557dd94f64110a7056b43c580a7c4",
       "selected_index": 1
      }
     },
     "c65f8280ab5c4dc3a4c8f404c786cff9": {
      "model_module": "jp_proxy_widget",
      "model_module_version": "^0.3.4",
      "model_name": "JSProxyModel",
      "state": {
       "_model_module_version": "^0.3.4",
       "_send_counter": 2,
       "_view_module_version": "^0.3.4",
       "error_msg": "No error",
       "layout": "IPY_MODEL_3f54592bcca94ac0bbd90d696f0859a3",
       "rendered": true,
       "status": "Got results."
      }
     },
     "c66717eba96d4116a1fc749fda30556b": {
      "model_module": "@jupyter-widgets/base",
      "model_module_version": "1.0.0",
      "model_name": "LayoutModel",
      "state": {}
     },
     "c7f45c28bb4e48f598f3623baf5b32e1": {
      "model_module": "@jupyter-widgets/base",
      "model_module_version": "1.0.0",
      "model_name": "LayoutModel",
      "state": {}
     },
     "c8e0f514f8274c86b20d8742ee7035b5": {
      "model_module": "jp_proxy_widget",
      "model_module_version": "^0.3.4",
      "model_name": "JSProxyModel",
      "state": {
       "_model_module_version": "^0.3.4",
       "_send_counter": 6,
       "_view_module_version": "^0.3.4",
       "error_msg": "No error",
       "layout": "IPY_MODEL_d4332615d462449b957a1624200f78b7",
       "rendered": true,
       "status": "Got results."
      }
     },
     "c935ee0eb4aa4fe1a35ea3429855dd78": {
      "model_module": "@jupyter-widgets/base",
      "model_module_version": "1.0.0",
      "model_name": "LayoutModel",
      "state": {}
     },
     "c9b6014265294d4684746e1388de8efc": {
      "model_module": "jp_proxy_widget",
      "model_module_version": "^0.3.4",
      "model_name": "JSProxyModel",
      "state": {
       "_model_module_version": "^0.3.4",
       "_send_counter": 11,
       "_view_module_version": "^0.3.4",
       "error_msg": "No error",
       "layout": "IPY_MODEL_5f965f00e63d44bc91e7a8669c92571b",
       "rendered": true,
       "status": "Not yet rendered"
      }
     },
     "cb1dbb5cb5184670afdc29e44f9daef2": {
      "model_module": "jp_proxy_widget",
      "model_module_version": "^0.3.4",
      "model_name": "JSProxyModel",
      "state": {
       "_model_module_version": "^0.3.4",
       "_send_counter": 2,
       "_view_module_version": "^0.3.4",
       "error_msg": "No error",
       "layout": "IPY_MODEL_7c56a8024eb347f38eb7676e5ee78de5",
       "rendered": true,
       "status": "Got results."
      }
     },
     "cb78bae22a254f0388fd8635bb5f7408": {
      "model_module": "jp_proxy_widget",
      "model_module_version": "^0.3.4",
      "model_name": "JSProxyModel",
      "state": {
       "_model_module_version": "^0.3.4",
       "_send_counter": 11,
       "_view_module_version": "^0.3.4",
       "error_msg": "In [object Object] no such method left_axes",
       "layout": "IPY_MODEL_617202c343ea4d708cf1d0a2955cb58a",
       "rendered": true,
       "status": "Got results."
      }
     },
     "cbc73bff0a8a48bb91d6c444c4d9f1f5": {
      "model_module": "@jupyter-widgets/base",
      "model_module_version": "1.0.0",
      "model_name": "LayoutModel",
      "state": {}
     },
     "cbd3face044b4f93b17144cbeec76a18": {
      "model_module": "@jupyter-widgets/controls",
      "model_module_version": "1.0.0",
      "model_name": "VBoxModel",
      "state": {
       "children": [
        "IPY_MODEL_19f8b4f53cc14686ae76aa086a4231ee",
        "IPY_MODEL_c65f8280ab5c4dc3a4c8f404c786cff9"
       ],
       "layout": "IPY_MODEL_472c076bbe32410792393581765c2477"
      }
     },
     "ccfd6d14b59e4d30bc1d053ee3a5e2fa": {
      "model_module": "@jupyter-widgets/controls",
      "model_module_version": "1.0.0",
      "model_name": "DescriptionStyleModel",
      "state": {
       "description_width": ""
      }
     },
     "cd2fcb173cdf4c7d8e5e0b4e44e211d9": {
      "model_module": "@jupyter-widgets/base",
      "model_module_version": "1.0.0",
      "model_name": "LayoutModel",
      "state": {}
     },
     "cdcbbd62a03d4f4aab7930b24c3b4ea1": {
      "model_module": "@jupyter-widgets/controls",
      "model_module_version": "1.0.0",
      "model_name": "DescriptionStyleModel",
      "state": {
       "description_width": ""
      }
     },
     "ce464fcbae644405969145e5307b2a14": {
      "model_module": "jp_proxy_widget",
      "model_module_version": "^0.3.4",
      "model_name": "JSProxyModel",
      "state": {
       "_model_module_version": "^0.3.4",
       "_send_counter": 6,
       "_view_module_version": "^0.3.4",
       "error_msg": "No error",
       "layout": "IPY_MODEL_2212b83bf9fb4493a007989da87992d8",
       "rendered": true,
       "status": "Got results."
      }
     },
     "ceb54a1b938d44ac972164ee56397c60": {
      "model_module": "@jupyter-widgets/controls",
      "model_module_version": "1.0.0",
      "model_name": "TabModel",
      "state": {
       "_titles": {
        "0": "Canvas",
        "1": "Snapshot"
       },
       "children": [
        "IPY_MODEL_7a34ea45ea664896a0875cdf53bc3c0b",
        "IPY_MODEL_ef719c29bd7d4dd9a523705ea134d831"
       ],
       "layout": "IPY_MODEL_15ae975a23f042bb90f4a6fc528dedb3"
      }
     },
     "cebde5358d1c4838b83e1a15255d5893": {
      "model_module": "@jupyter-widgets/base",
      "model_module_version": "1.0.0",
      "model_name": "LayoutModel",
      "state": {}
     },
     "cebf58d67291469896982c006044ba93": {
      "model_module": "@jupyter-widgets/base",
      "model_module_version": "1.0.0",
      "model_name": "LayoutModel",
      "state": {}
     },
     "ced01c3eb7264701988b27927335ff0b": {
      "model_module": "jp_proxy_widget",
      "model_module_version": "^0.3.4",
      "model_name": "JSProxyModel",
      "state": {
       "_model_module_version": "^0.3.4",
       "_send_counter": 6,
       "_view_module_version": "^0.3.4",
       "error_msg": "No error",
       "layout": "IPY_MODEL_2ae866fa60f14bdd8ca0dd6e67f7e2da",
       "rendered": true,
       "status": "Got results."
      }
     },
     "cf81fb2c1a19479c99cba8244413b4de": {
      "model_module": "jp_proxy_widget",
      "model_module_version": "^0.3.4",
      "model_name": "JSProxyModel",
      "state": {
       "_model_module_version": "^0.3.4",
       "_send_counter": 2,
       "_view_module_version": "^0.3.4",
       "error_msg": "No error",
       "layout": "IPY_MODEL_cd2fcb173cdf4c7d8e5e0b4e44e211d9",
       "rendered": true,
       "status": "Got results."
      }
     },
     "cfe117a935864abbb3ea70ec583380c7": {
      "model_module": "@jupyter-widgets/controls",
      "model_module_version": "1.0.0",
      "model_name": "HTMLModel",
      "state": {
       "layout": "IPY_MODEL_ad76206661714dbf90802a47d232a194",
       "style": "IPY_MODEL_3f01366904f24f728bc0ccef8d3d35be",
       "value": "<img src=\"Axes.png\" id=\"snapshot_id_9_1537293839557\"/>\n <div id=\"snapshot_id_10_1537293839557\">Axes.png</div>"
      }
     },
     "d0bb6f1be6724b5f831fb03b6be0638a": {
      "model_module": "@jupyter-widgets/controls",
      "model_module_version": "1.0.0",
      "model_name": "DescriptionStyleModel",
      "state": {
       "description_width": ""
      }
     },
     "d1757c8d003a4dd4a6cdcbce5a991851": {
      "model_module": "@jupyter-widgets/controls",
      "model_module_version": "1.0.0",
      "model_name": "TabModel",
      "state": {
       "_titles": {
        "0": "Canvas",
        "1": "Snapshot"
       },
       "children": [
        "IPY_MODEL_f5950aaea94b4f928c1e37d28a3ff8c3",
        "IPY_MODEL_0b29d60183df44c2b2b9fa5bd8557e3e"
       ],
       "layout": "IPY_MODEL_d86635d1afc14d9b86f7379dad08112b",
       "selected_index": 1
      }
     },
     "d1f886a5822842339ca49558c587f2c4": {
      "model_module": "jp_proxy_widget",
      "model_module_version": "^0.3.4",
      "model_name": "JSProxyModel",
      "state": {
       "_model_module_version": "^0.3.4",
       "_send_counter": 2,
       "_view_module_version": "^0.3.4",
       "error_msg": "No error",
       "layout": "IPY_MODEL_2750442df7d04b3694a9994c8bbe6b7d",
       "rendered": true,
       "status": "Got results."
      }
     },
     "d30f918d104d406bb5b0bae16918746d": {
      "model_module": "jp_proxy_widget",
      "model_module_version": "^0.3.4",
      "model_name": "JSProxyModel",
      "state": {
       "_model_module_version": "^0.3.4",
       "_send_counter": 6,
       "_view_module_version": "^0.3.4",
       "error_msg": "No error",
       "layout": "IPY_MODEL_e1407f9a972f43028e36ee0184bb171e",
       "rendered": true,
       "status": "Got results."
      }
     },
     "d34f0f07404f4a01a13de53939a86aed": {
      "model_module": "jp_proxy_widget",
      "model_module_version": "^0.3.4",
      "model_name": "JSProxyModel",
      "state": {
       "_model_module_version": "^0.3.4",
       "_send_counter": 2,
       "_view_module_version": "^0.3.4",
       "error_msg": "No error",
       "layout": "IPY_MODEL_984b37bfdde94f679700edb30c96e496",
       "rendered": true,
       "status": "Got results."
      }
     },
     "d3fa6539932547d698b8c6ce65b6241f": {
      "model_module": "@jupyter-widgets/controls",
      "model_module_version": "1.0.0",
      "model_name": "DescriptionStyleModel",
      "state": {
       "description_width": ""
      }
     },
     "d3fd1d76cacf483c9ee2c52dbd9ffad5": {
      "model_module": "jp_proxy_widget",
      "model_module_version": "^0.3.4",
      "model_name": "JSProxyModel",
      "state": {
       "_model_module_version": "^0.3.4",
       "_send_counter": 10,
       "_view_module_version": "^0.3.4",
       "error_msg": "No error",
       "layout": "IPY_MODEL_15c8ee495a04447f85a9f2b535fa6699",
       "rendered": true,
       "status": "Got results."
      }
     },
     "d4332615d462449b957a1624200f78b7": {
      "model_module": "@jupyter-widgets/base",
      "model_module_version": "1.0.0",
      "model_name": "LayoutModel",
      "state": {}
     },
     "d6010105ee304595b2e9817f588dd325": {
      "model_module": "@jupyter-widgets/base",
      "model_module_version": "1.0.0",
      "model_name": "LayoutModel",
      "state": {}
     },
     "d665c9d7a7a0456a8678abfc9c1e2f35": {
      "model_module": "jp_proxy_widget",
      "model_module_version": "^0.3.4",
      "model_name": "JSProxyModel",
      "state": {
       "_model_module_version": "^0.3.4",
       "_send_counter": 16,
       "_view_module_version": "^0.3.4",
       "error_msg": "No error",
       "layout": "IPY_MODEL_855f19f31a0d421d9212425d6eaa1258",
       "rendered": true,
       "status": "Got results."
      }
     },
     "d86635d1afc14d9b86f7379dad08112b": {
      "model_module": "@jupyter-widgets/base",
      "model_module_version": "1.0.0",
      "model_name": "LayoutModel",
      "state": {}
     },
     "d8b32054ade24b3c9a6b1bf75158b9b8": {
      "model_module": "jp_proxy_widget",
      "model_module_version": "^0.3.4",
      "model_name": "JSProxyModel",
      "state": {
       "_model_module_version": "^0.3.4",
       "_send_counter": 6,
       "_view_module_version": "^0.3.4",
       "error_msg": "No error",
       "layout": "IPY_MODEL_10764f8bfec148c6ae836b9cc8e6ee64",
       "rendered": true,
       "status": "Got results."
      }
     },
     "d9d61842c4d043438173179c23c57dc7": {
      "model_module": "jp_proxy_widget",
      "model_module_version": "^0.3.4",
      "model_name": "JSProxyModel",
      "state": {
       "_model_module_version": "^0.3.4",
       "_send_counter": 6,
       "_view_module_version": "^0.3.4",
       "error_msg": "No error",
       "layout": "IPY_MODEL_faeb6621e0a54ce0a30b1b07335a1b2d",
       "rendered": true,
       "status": "Got results."
      }
     },
     "da0f17c9e42543e49453bf7a9858599d": {
      "model_module": "@jupyter-widgets/controls",
      "model_module_version": "1.0.0",
      "model_name": "HTMLModel",
      "state": {
       "layout": "IPY_MODEL_020798df2bec49e1a2f4f1251f5db99f",
       "style": "IPY_MODEL_57df93ef8ba045c0a0d63e5c33b3be28",
       "value": "<img src=\"Axes.png\" id=\"snapshot_id_1_1537284929386\"/>\n <div id=\"snapshot_id_2_1537284929386\">Axes.png</div>"
      }
     },
     "da6ca664646c4c44abce2f13d418d43a": {
      "model_module": "jp_proxy_widget",
      "model_module_version": "^0.3.4",
      "model_name": "JSProxyModel",
      "state": {
       "_model_module_version": "^0.3.4",
       "_send_counter": 2,
       "_view_module_version": "^0.3.4",
       "error_msg": "No error",
       "layout": "IPY_MODEL_b7a6228c5e6b4426a7d9172bdd39c4e7",
       "rendered": true,
       "status": "Got results."
      }
     },
     "db29b56dbbe34dd0b3b825533b3d5b65": {
      "model_module": "@jupyter-widgets/base",
      "model_module_version": "1.0.0",
      "model_name": "LayoutModel",
      "state": {}
     },
     "db6d6660926f4461b50428b89b545cdd": {
      "model_module": "@jupyter-widgets/base",
      "model_module_version": "1.0.0",
      "model_name": "LayoutModel",
      "state": {}
     },
     "dc30e3a906a44164b73f78bca26e178d": {
      "model_module": "jp_proxy_widget",
      "model_module_version": "^0.3.4",
      "model_name": "JSProxyModel",
      "state": {
       "_model_module_version": "^0.3.4",
       "_send_counter": 6,
       "_view_module_version": "^0.3.4",
       "error_msg": "No error",
       "layout": "IPY_MODEL_88a163b38cca41f7b6cc5631a3f844e3",
       "rendered": true,
       "status": "Got results."
      }
     },
     "df90628ce5e94a3b8d6179c7591c14a2": {
      "model_module": "@jupyter-widgets/base",
      "model_module_version": "1.0.0",
      "model_name": "LayoutModel",
      "state": {}
     },
     "e1407f9a972f43028e36ee0184bb171e": {
      "model_module": "@jupyter-widgets/base",
      "model_module_version": "1.0.0",
      "model_name": "LayoutModel",
      "state": {}
     },
     "e22c3ddbd1814f4582f7375dd19a7b84": {
      "model_module": "jp_proxy_widget",
      "model_module_version": "^0.3.4",
      "model_name": "JSProxyModel",
      "state": {
       "_model_module_version": "^0.3.4",
       "_send_counter": 2,
       "_view_module_version": "^0.3.4",
       "error_msg": "No error",
       "layout": "IPY_MODEL_fb8bb62ca51f4ef897fd8a13f4d9a5f0",
       "rendered": true,
       "status": "Not yet rendered"
      }
     },
     "e2a2a176dd29433691326bfb0d28d1c7": {
      "model_module": "@jupyter-widgets/controls",
      "model_module_version": "1.0.0",
      "model_name": "DescriptionStyleModel",
      "state": {
       "description_width": ""
      }
     },
     "e2ce7b45cf1d48448fbed5f22d8b4c2f": {
      "model_module": "@jupyter-widgets/base",
      "model_module_version": "1.0.0",
      "model_name": "LayoutModel",
      "state": {}
     },
     "e404babf8de8458b9e9b3fadcd8bad9f": {
      "model_module": "@jupyter-widgets/base",
      "model_module_version": "1.0.0",
      "model_name": "LayoutModel",
      "state": {}
     },
     "e42da84afa7f4277aa698b83227cc3dc": {
      "model_module": "jp_proxy_widget",
      "model_module_version": "^0.3.4",
      "model_name": "JSProxyModel",
      "state": {
       "_model_module_version": "^0.3.4",
       "_send_counter": 6,
       "_view_module_version": "^0.3.4",
       "error_msg": "No error",
       "layout": "IPY_MODEL_fb5931c3f30846bfac01e26632b11a8c",
       "rendered": true,
       "status": "Got results."
      }
     },
     "e4531d0816474862acd220a8d13f9532": {
      "model_module": "@jupyter-widgets/controls",
      "model_module_version": "1.0.0",
      "model_name": "HTMLModel",
      "state": {
       "layout": "IPY_MODEL_1bfb29d819c741688c83c125547257e7",
       "style": "IPY_MODEL_eea1584862cd438caa75507ace2ebfc0",
       "value": "<img src=\"Axes.png\" id=\"snapshot_id_7_1537293678138\"/>\n <div id=\"snapshot_id_8_1537293678138\">Axes.png</div>"
      }
     },
     "e4e196f5069e455098c24f9ee55282dd": {
      "model_module": "@jupyter-widgets/base",
      "model_module_version": "1.0.0",
      "model_name": "LayoutModel",
      "state": {}
     },
     "e9c31647b0d04e488009aa120126f2e6": {
      "model_module": "jp_proxy_widget",
      "model_module_version": "^0.3.4",
      "model_name": "JSProxyModel",
      "state": {
       "_model_module_version": "^0.3.4",
       "_send_counter": 2,
       "_view_module_version": "^0.3.4",
       "error_msg": "No error",
       "layout": "IPY_MODEL_98ff367bd4f54811b909cd4d3244b104",
       "rendered": true,
       "status": "Got results."
      }
     },
     "ea69170c624a49c39e62bc1c083672bb": {
      "model_module": "@jupyter-widgets/base",
      "model_module_version": "1.0.0",
      "model_name": "LayoutModel",
      "state": {}
     },
     "eb9c9f5fd5ad41ac833367d0d441a499": {
      "model_module": "@jupyter-widgets/controls",
      "model_module_version": "1.0.0",
      "model_name": "HTMLModel",
      "state": {
       "layout": "IPY_MODEL_06fd1cf4ea1647019f3bf45d2334e98f",
       "style": "IPY_MODEL_a23ffb13167c4278bf53934d0e401c55",
       "value": "<img src=\"Axes.png\" id=\"snapshot_id_3_1537293450292\"/>\n <div id=\"snapshot_id_4_1537293450292\">Axes.png</div>"
      }
     },
     "ed21af00adcf4d41b8b66535bca3327e": {
      "model_module": "jp_proxy_widget",
      "model_module_version": "^0.3.4",
      "model_name": "JSProxyModel",
      "state": {
       "_model_module_version": "^0.3.4",
       "_send_counter": 6,
       "_view_module_version": "^0.3.4",
       "error_msg": "No error",
       "layout": "IPY_MODEL_59d0105e74f440a38769eeb674bbff95",
       "rendered": true,
       "status": "Got results."
      }
     },
     "edb38bab32a44e4197d690fac2abc4fa": {
      "model_module": "@jupyter-widgets/base",
      "model_module_version": "1.0.0",
      "model_name": "LayoutModel",
      "state": {}
     },
     "eea1584862cd438caa75507ace2ebfc0": {
      "model_module": "@jupyter-widgets/controls",
      "model_module_version": "1.0.0",
      "model_name": "DescriptionStyleModel",
      "state": {
       "description_width": ""
      }
     },
     "ef719c29bd7d4dd9a523705ea134d831": {
      "model_module": "@jupyter-widgets/controls",
      "model_module_version": "1.0.0",
      "model_name": "HTMLModel",
      "state": {
       "layout": "IPY_MODEL_8854892323d74b318523fba6f37db336",
       "style": "IPY_MODEL_d0bb6f1be6724b5f831fb03b6be0638a",
       "value": "<img src=\"Axes.png\" id=\"snapshot_id_13_1537293887119\"/>\n <div id=\"snapshot_id_14_1537293887119\">Axes.png</div>"
      }
     },
     "f03ecb8decbd4f1da73586b188291988": {
      "model_module": "@jupyter-widgets/controls",
      "model_module_version": "1.0.0",
      "model_name": "VBoxModel",
      "state": {
       "children": [
        "IPY_MODEL_96adc26e1a004187a90f6492770a47fd",
        "IPY_MODEL_e22c3ddbd1814f4582f7375dd19a7b84"
       ],
       "layout": "IPY_MODEL_146d6619d4be45e79b0900ea34d594ae"
      }
     },
     "f167732ab8434d2f97ba9c91ed6710de": {
      "model_module": "@jupyter-widgets/base",
      "model_module_version": "1.0.0",
      "model_name": "LayoutModel",
      "state": {}
     },
     "f16c7a8c850c4ca1acc1f5723be81c71": {
      "model_module": "jp_proxy_widget",
      "model_module_version": "^0.3.4",
      "model_name": "JSProxyModel",
      "state": {
       "_model_module_version": "^0.3.4",
       "_send_counter": 6,
       "_view_module_version": "^0.3.4",
       "error_msg": "No error",
       "layout": "IPY_MODEL_7811e7620dcc41a8b95c1b9cbd673adf",
       "rendered": true,
       "status": "Got results."
      }
     },
     "f25abd7cba034e0c9a4091282bc93957": {
      "model_module": "@jupyter-widgets/controls",
      "model_module_version": "1.0.0",
      "model_name": "TabModel",
      "state": {
       "_titles": {
        "0": "Canvas",
        "1": "Snapshot"
       },
       "children": [
        "IPY_MODEL_a586673fccc5432ea5d1f6c013fa6c34",
        "IPY_MODEL_cfe117a935864abbb3ea70ec583380c7"
       ],
       "layout": "IPY_MODEL_367ab7ce109841098a140d17aaf46cd2"
      }
     },
     "f46cc3afe8a4444d951f8b18cad3d157": {
      "model_module": "@jupyter-widgets/base",
      "model_module_version": "1.0.0",
      "model_name": "LayoutModel",
      "state": {}
     },
     "f4872716555c45d18cb10bb7c42c9431": {
      "model_module": "@jupyter-widgets/base",
      "model_module_version": "1.0.0",
      "model_name": "LayoutModel",
      "state": {}
     },
     "f5950aaea94b4f928c1e37d28a3ff8c3": {
      "model_module": "@jupyter-widgets/controls",
      "model_module_version": "1.0.0",
      "model_name": "VBoxModel",
      "state": {
       "children": [
        "IPY_MODEL_b3d485719ac84bed80b9217491a9870c",
        "IPY_MODEL_4bf4e7449b7740298ffb3cf83de07f49"
       ],
       "layout": "IPY_MODEL_880aa0edf1434beea04de0eeda6f4d98"
      }
     },
     "f5ba719d43f04c69828400e8bafb9086": {
      "model_module": "jp_proxy_widget",
      "model_module_version": "^0.3.4",
      "model_name": "JSProxyModel",
      "state": {
       "_model_module_version": "^0.3.4",
       "_send_counter": 6,
       "_view_module_version": "^0.3.4",
       "error_msg": "No error",
       "layout": "IPY_MODEL_e404babf8de8458b9e9b3fadcd8bad9f",
       "rendered": true,
       "status": "Got results."
      }
     },
     "f60227eb3f0e4ac9a926d1cb2b9fd263": {
      "model_module": "@jupyter-widgets/base",
      "model_module_version": "1.0.0",
      "model_name": "LayoutModel",
      "state": {}
     },
     "f6299a885b664e9aa44773adcee1d823": {
      "model_module": "@jupyter-widgets/base",
      "model_module_version": "1.0.0",
      "model_name": "LayoutModel",
      "state": {}
     },
     "f643f7b19cf743f9aecc0fbefa1a31ff": {
      "model_module": "@jupyter-widgets/controls",
      "model_module_version": "1.0.0",
      "model_name": "TabModel",
      "state": {
       "_titles": {
        "0": "Canvas",
        "1": "Snapshot"
       },
       "children": [
        "IPY_MODEL_197c081f522d492c973c74ff38674521",
        "IPY_MODEL_780fc2a4b6304db2818148505d667dec"
       ],
       "layout": "IPY_MODEL_251533bd0e5c4c75ad02dbbbbfc77ec0"
      }
     },
     "f675ce83d199448aafb7aa8ec4ad183f": {
      "model_module": "@jupyter-widgets/base",
      "model_module_version": "1.0.0",
      "model_name": "LayoutModel",
      "state": {}
     },
     "f6affbc2fdc74bb6879a19363509ec07": {
      "model_module": "@jupyter-widgets/controls",
      "model_module_version": "1.0.0",
      "model_name": "DescriptionStyleModel",
      "state": {
       "description_width": ""
      }
     },
     "f8700be033f4493b87cebc1537f992b9": {
      "model_module": "@jupyter-widgets/controls",
      "model_module_version": "1.0.0",
      "model_name": "DescriptionStyleModel",
      "state": {
       "description_width": ""
      }
     },
     "f8ac29a4604e48a7893f97012b5bb955": {
      "model_module": "@jupyter-widgets/base",
      "model_module_version": "1.0.0",
      "model_name": "LayoutModel",
      "state": {}
     },
     "fa86da8b91b946389c049993415e939b": {
      "model_module": "jp_proxy_widget",
      "model_module_version": "^0.3.4",
      "model_name": "JSProxyModel",
      "state": {
       "_model_module_version": "^0.3.4",
       "_send_counter": 2,
       "_view_module_version": "^0.3.4",
       "error_msg": "No error",
       "layout": "IPY_MODEL_a9f4b351c8fa41e1b0f1be8761dfd87e",
       "rendered": true,
       "status": "Got results."
      }
     },
     "faeb6621e0a54ce0a30b1b07335a1b2d": {
      "model_module": "@jupyter-widgets/base",
      "model_module_version": "1.0.0",
      "model_name": "LayoutModel",
      "state": {}
     },
     "fb1598eddfb14645951416a23183513c": {
      "model_module": "jp_proxy_widget",
      "model_module_version": "^0.3.4",
      "model_name": "JSProxyModel",
      "state": {
       "_model_module_version": "^0.3.4",
       "_send_counter": 6,
       "_view_module_version": "^0.3.4",
       "error_msg": "No error",
       "layout": "IPY_MODEL_1d0169a3e41d4c2c95f798455f705804",
       "rendered": true,
       "status": "Got results."
      }
     },
     "fb4372a5adf64e2b8d84b8e3062d8a81": {
      "model_module": "@jupyter-widgets/controls",
      "model_module_version": "1.0.0",
      "model_name": "VBoxModel",
      "state": {
       "children": [
        "IPY_MODEL_c072aef214754a99844ae1dc18da94ec",
        "IPY_MODEL_d34f0f07404f4a01a13de53939a86aed"
       ],
       "layout": "IPY_MODEL_acbdc2e35bd047418b1fa3bdda8a361c"
      }
     },
     "fb5931c3f30846bfac01e26632b11a8c": {
      "model_module": "@jupyter-widgets/base",
      "model_module_version": "1.0.0",
      "model_name": "LayoutModel",
      "state": {}
     },
     "fb8bb62ca51f4ef897fd8a13f4d9a5f0": {
      "model_module": "@jupyter-widgets/base",
      "model_module_version": "1.0.0",
      "model_name": "LayoutModel",
      "state": {}
     },
     "fd258d92f22744d69f756cefa439af92": {
      "model_module": "jp_proxy_widget",
      "model_module_version": "^0.3.4",
      "model_name": "JSProxyModel",
      "state": {
       "_model_module_version": "^0.3.4",
       "_send_counter": 9,
       "_view_module_version": "^0.3.4",
       "error_msg": "No error",
       "layout": "IPY_MODEL_47981158d7194cdb83fc8e41bd0f277a",
       "rendered": true,
       "status": "Got results."
      }
     },
     "ff3bdfcba0194edb9689b035e6af29c9": {
      "model_module": "@jupyter-widgets/controls",
      "model_module_version": "1.0.0",
      "model_name": "HTMLModel",
      "state": {
       "layout": "IPY_MODEL_017b5efe1f1f4acea35c0305cc27b429",
       "style": "IPY_MODEL_ccfd6d14b59e4d30bc1d053ee3a5e2fa",
       "value": "<img src=\"Axes.png\" id=\"snapshot_id_7_1537292946561\"/>\n <div id=\"snapshot_id_8_1537292946561\">Axes.png</div>"
      }
     }
    },
    "version_major": 2,
    "version_minor": 0
   }
  }
 },
 "nbformat": 4,
 "nbformat_minor": 2
}
