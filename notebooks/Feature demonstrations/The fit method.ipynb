{
 "cells": [
  {
   "cell_type": "markdown",
   "metadata": {
    "deletable": true,
    "editable": true
   },
   "source": [
    "<img src=\"Fit.png\" width=\"320\"/>\n",
    "\n",
    "# Fitting\n",
    "\n",
    "The `element.fit()` method determines a bounding box in X/Y\n",
    "coordinates that contains all visible elements and adjusts the\n",
    "scaling and translation for the HTML canvas element to make\n",
    "the bounding box visible.  \n",
    "\n",
    "You can use `fit` to \"just draw stuff somewhere\" and let the `fit` method\n",
    "figure out how to put them in the visible region.\n",
    "\n",
    "**Warning:**  A buggy program may draw elements too far apart and in\n",
    "this case the resultant `fit` may look blank because the drawn\n",
    "elements are too small to see inside the huge bounding box that\n",
    "fit infers."
   ]
  },
  {
   "cell_type": "code",
   "execution_count": null,
   "metadata": {
    "collapsed": true,
    "deletable": true,
    "editable": true
   },
   "outputs": [],
   "source": [
    "from jp_doodle import dual_canvas\n",
    "from IPython.display import display"
   ]
  },
  {
   "cell_type": "code",
   "execution_count": null,
   "metadata": {
    "collapsed": false,
    "deletable": true,
    "editable": true
   },
   "outputs": [],
   "source": [
    "# In this demonstration we do most of the work in Javascript.\n",
    "\n",
    "# Draw a spiral using trigonometric functions and use fit to\n",
    "# automatically make the whole spiral visible with a boundary.\n",
    "\n",
    "demo1 = dual_canvas.DualCanvasWidget(width=320, height=220)\n",
    "display(demo1)\n",
    "\n",
    "demo1.js_init(\"\"\"\n",
    "\n",
    "var points = []\n",
    "var dr = 10;\n",
    "var dtheta = 0.2;\n",
    "for (var i=0; i<130; i++) {\n",
    "    var r = dr * i;\n",
    "    var theta = dtheta * i;\n",
    "    points.push( [Math.sin(theta) * r, Math.cos(theta) * r])\n",
    "}\n",
    "element.polygon({\n",
    "    points: points, color: \"green\", fill: false, lineWidth:25, close: false\n",
    "})\n",
    "\n",
    "// Fit the figure into the available space with a 50 units margin.\n",
    "var stats = element.fit(null, 50);\n",
    "\n",
    "element.print(\"Canvas limits are\", stats.min_x, stats.min_y, stats.max_x, stats.max_y);\n",
    "\"\"\")"
   ]
  },
  {
   "cell_type": "code",
   "execution_count": null,
   "metadata": {
    "collapsed": false,
    "deletable": true,
    "editable": true
   },
   "outputs": [],
   "source": [
    "# Python analogue\n",
    "import math\n",
    "\n",
    "demo2 = dual_canvas.DualCanvasWidget(width=320, height=220)\n",
    "display(demo2)\n",
    "\n",
    "points = []\n",
    "dr = 10\n",
    "dtheta = 0.2;\n",
    "for i in range(130):\n",
    "    r = dr * i;\n",
    "    theta = dtheta * i;\n",
    "    points.append( [math.sin(theta) * r, math.cos(theta) * r])\n",
    "demo2.element.polygon(dict(\n",
    "    points=points, color=\"green\", fill=False, lineWidth=35, close=False\n",
    "))\n",
    "\n",
    "demo2.fit(margin=100)"
   ]
  },
  {
   "cell_type": "code",
   "execution_count": null,
   "metadata": {
    "collapsed": true,
    "deletable": true,
    "editable": true
   },
   "outputs": [],
   "source": [
    "# The first argument to fit, if provided, specifies the max/min values to fit.\n",
    "# The following call changes the fit for demo2 above to zoom in a bit.\n",
    "demo2.fit(dict(min_x=-500, max_x=500, min_y=-200, max_y=800))"
   ]
  },
  {
   "cell_type": "code",
   "execution_count": null,
   "metadata": {
    "collapsed": true,
    "deletable": true,
    "editable": true
   },
   "outputs": [],
   "source": [
    "#demo2.save_pixels_to_png_async(\"Fit.png\")"
   ]
  },
  {
   "cell_type": "code",
   "execution_count": null,
   "metadata": {
    "collapsed": true,
    "deletable": true,
    "editable": true
   },
   "outputs": [],
   "source": []
  }
 ],
 "metadata": {
  "kernelspec": {
   "display_name": "Python 2",
   "language": "python",
   "name": "python2"
  },
  "language_info": {
   "codemirror_mode": {
    "name": "ipython",
    "version": 2
   },
   "file_extension": ".py",
   "mimetype": "text/x-python",
   "name": "python",
   "nbconvert_exporter": "python",
   "pygments_lexer": "ipython2",
   "version": "2.7.13"
  }
 },
 "nbformat": 4,
 "nbformat_minor": 2
}
