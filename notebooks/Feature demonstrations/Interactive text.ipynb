{
 "cells": [
  {
   "cell_type": "markdown",
   "metadata": {
    "deletable": true,
    "editable": true
   },
   "source": [
    "# Interactive text\n",
    "\n",
    "The following interactive widget is intended to allow the developer to explore\n",
    "texts drawn with different parameter settings.\n"
   ]
  },
  {
   "cell_type": "code",
   "execution_count": 1,
   "metadata": {
    "collapsed": true,
    "deletable": true,
    "editable": true
   },
   "outputs": [],
   "source": [
    "# preliminaries\n",
    "from ipywidgets import interact, interactive, fixed, interact_manual\n",
    "import ipywidgets as widgets\n",
    "from jp_doodle import dual_canvas\n",
    "from IPython.display import display\n",
    "\n",
    "def rgba(*rgba_sequence):\n",
    "    rgba_strings = [str(int(x)) for x in rgba_sequence]\n",
    "    rgba_strings[-1] = str(rgba_sequence[-1])\n",
    "    return \"rgba(%s)\" % \",\".join(rgba_strings)\n",
    "\n",
    "styles = \"normal italic oblique\".split()\n",
    "families = \"times courier arial\".split()\n",
    "aligns = \"left right center\".split()\n",
    "valigns = \"bottom center\".split()\n",
    "backgrounds = [\"\"] + \"blue green pink brown cornsilk\".split()"
   ]
  },
  {
   "cell_type": "code",
   "execution_count": 2,
   "metadata": {
    "collapsed": false,
    "deletable": true,
    "editable": true
   },
   "outputs": [
    {
     "data": {
      "application/vnd.jupyter.widget-view+json": {
       "model_id": "e6df59a551014ec889069bdb0c0288bf",
       "version_major": 2,
       "version_minor": 0
      },
      "text/html": [
       "<p>Failed to display Jupyter Widget of type <code>Tab</code>.</p>\n",
       "<p>\n",
       "  If you're reading this message in Jupyter Notebook or JupyterLab, it may mean\n",
       "  that the widgets JavaScript is still loading. If this message persists, it\n",
       "  likely means that the widgets JavaScript library is either not installed or\n",
       "  not enabled. See the <a href=\"https://ipywidgets.readthedocs.io/en/stable/user_install.html\">Jupyter\n",
       "  Widgets Documentation</a> for setup instructions.\n",
       "</p>\n",
       "<p>\n",
       "  If you're reading this message in another notebook frontend (for example, a static\n",
       "  rendering on GitHub or <a href=\"https://nbviewer.jupyter.org/\">NBViewer</a>),\n",
       "  it may mean that your frontend doesn't currently support widgets.\n",
       "</p>\n"
      ],
      "text/plain": [
       "Tab(children=(VBox(children=(SnapshotCanvas(status=u'Not yet rendered'), JSProxyWidget(status=u'Not yet rendered'))), HTML(value=u'<img src=\"interactive_text.png\" id=\"snapshot_id_1_1536329897714\"/>\\n <div id=\"snapshot_id_2_1536329897714\">interactive_text.png</div>')), _titles={u'1': 'Snapshot', u'0': 'Canvas'})"
      ]
     },
     "metadata": {},
     "output_type": "display_data"
    },
    {
     "data": {
      "application/vnd.jupyter.widget-view+json": {
       "model_id": "13d950746f8342a2aa9b36aaba591014",
       "version_major": 2,
       "version_minor": 0
      },
      "text/html": [
       "<p>Failed to display Jupyter Widget of type <code>interactive</code>.</p>\n",
       "<p>\n",
       "  If you're reading this message in Jupyter Notebook or JupyterLab, it may mean\n",
       "  that the widgets JavaScript is still loading. If this message persists, it\n",
       "  likely means that the widgets JavaScript library is either not installed or\n",
       "  not enabled. See the <a href=\"https://ipywidgets.readthedocs.io/en/stable/user_install.html\">Jupyter\n",
       "  Widgets Documentation</a> for setup instructions.\n",
       "</p>\n",
       "<p>\n",
       "  If you're reading this message in another notebook frontend (for example, a static\n",
       "  rendering on GitHub or <a href=\"https://nbviewer.jupyter.org/\">NBViewer</a>),\n",
       "  it may mean that your frontend doesn't currently support widgets.\n",
       "</p>\n"
      ],
      "text/plain": [
       "interactive(children=(IntSlider(value=0, description=u'x', min=-100), IntSlider(value=0, description=u'y', min=-100), Text(value=u'Stella!', description=u'text'), Dropdown(description=u'background', options=('', 'blue', 'green', 'pink', 'brown', 'cornsilk'), value=''), IntSlider(value=20, description=u'points'), Dropdown(description=u'style', options=('normal', 'italic', 'oblique'), value='normal'), Dropdown(description=u'family', options=('times', 'courier', 'arial'), value='times'), IntSlider(value=0, description=u'degrees', max=360, min=-360), Dropdown(description=u'align', options=('left', 'right', 'center'), value='left'), Dropdown(description=u'valign', options=('bottom', 'center'), value='bottom'), IntSlider(value=255, description=u'red', max=255), IntSlider(value=0, description=u'green', max=255), IntSlider(value=255, description=u'blue', max=255), FloatSlider(value=1.0, description=u'alpha', max=1.0), Output()), _dom_classes=('widget-interact',))"
      ]
     },
     "metadata": {},
     "output_type": "display_data"
    }
   ],
   "source": [
    "# Display a canvas with a circle which can be adjusted interactively\n",
    "\n",
    "# Below we configure the canvas using the Python interface.\n",
    "# This method is terser than using Javascript, but the redraw operations create a jerky effect\n",
    "# because the canvas displays intermediate states due to roundtrip messages\n",
    "# between the Python kernal and the Javascript interpreter.\n",
    "\n",
    "text_canvas = dual_canvas.SnapshotCanvas(\"interactive_text.png\", width=320, height=220)\n",
    "text_canvas.display_all()\n",
    "\n",
    "def change_text(x, y, text=\"Stella!\", background=\"\",\n",
    "                  points=20, style=styles[0], family=families[0],\n",
    "                  degrees=0, align=\"left\", valign=\"bottom\",\n",
    "                  red=255, green=0, blue=255, alpha=1.0):\n",
    "    color = rgba(red, green, blue, alpha)\n",
    "    if not background:\n",
    "        background = None\n",
    "    # font: \"normal 10px Arial\"\n",
    "    font = \"%s %spx %s\" % (style, points, family)\n",
    "    canvas = text_canvas\n",
    "    canvas.reset_canvas()\n",
    "    canvas.text(x=x, y=y, text=text, align=align, valign=valign,\n",
    "                degrees=degrees, color=color, font=font, background=background\n",
    "                 )\n",
    "    canvas.fit()\n",
    "    canvas.lower_left_axes(\n",
    "        max_tick_count=4\n",
    "    )\n",
    "    canvas.circle(x=x, y=y, r=3, color=\"#999\")\n",
    "    canvas.fit(None, 30)\n",
    "\n",
    "w = interactive(\n",
    "    change_text, \n",
    "    align=aligns,\n",
    "    valign=valigns,\n",
    "    x=(-100, 100), \n",
    "    y=(-100,100), \n",
    "    family=families,\n",
    "    style=styles,\n",
    "    points=(0,100),\n",
    "    degrees=(-360,360),\n",
    "    background=backgrounds,\n",
    "    red=(0,255),\n",
    "    green=(0,255),\n",
    "    blue=(0,255),\n",
    "    alpha=(0.0,1.0,0.1)\n",
    ")\n",
    "display(w)"
   ]
  },
  {
   "cell_type": "code",
   "execution_count": 3,
   "metadata": {
    "collapsed": false,
    "deletable": true,
    "editable": true
   },
   "outputs": [
    {
     "data": {
      "application/vnd.jupyter.widget-view+json": {
       "model_id": "b311e040f3da4758aad163b6eb64b7b3",
       "version_major": 2,
       "version_minor": 0
      },
      "text/html": [
       "<p>Failed to display Jupyter Widget of type <code>Tab</code>.</p>\n",
       "<p>\n",
       "  If you're reading this message in Jupyter Notebook or JupyterLab, it may mean\n",
       "  that the widgets JavaScript is still loading. If this message persists, it\n",
       "  likely means that the widgets JavaScript library is either not installed or\n",
       "  not enabled. See the <a href=\"https://ipywidgets.readthedocs.io/en/stable/user_install.html\">Jupyter\n",
       "  Widgets Documentation</a> for setup instructions.\n",
       "</p>\n",
       "<p>\n",
       "  If you're reading this message in another notebook frontend (for example, a static\n",
       "  rendering on GitHub or <a href=\"https://nbviewer.jupyter.org/\">NBViewer</a>),\n",
       "  it may mean that your frontend doesn't currently support widgets.\n",
       "</p>\n"
      ],
      "text/plain": [
       "Tab(children=(VBox(children=(SnapshotCanvas(status=u'Not yet rendered'), JSProxyWidget(status=u'Not yet rendered'))), HTML(value=u'<img src=\"interactive_text2.png\" id=\"snapshot_id_3_1536329900038\"/>\\n <div id=\"snapshot_id_4_1536329900038\">interactive_text2.png</div>')), _titles={u'1': 'Snapshot', u'0': 'Canvas'})"
      ]
     },
     "metadata": {},
     "output_type": "display_data"
    },
    {
     "data": {
      "application/vnd.jupyter.widget-view+json": {
       "model_id": "b9eb51a0cdb74b21b564bbd33a779ce1",
       "version_major": 2,
       "version_minor": 0
      },
      "text/html": [
       "<p>Failed to display Jupyter Widget of type <code>interactive</code>.</p>\n",
       "<p>\n",
       "  If you're reading this message in Jupyter Notebook or JupyterLab, it may mean\n",
       "  that the widgets JavaScript is still loading. If this message persists, it\n",
       "  likely means that the widgets JavaScript library is either not installed or\n",
       "  not enabled. See the <a href=\"https://ipywidgets.readthedocs.io/en/stable/user_install.html\">Jupyter\n",
       "  Widgets Documentation</a> for setup instructions.\n",
       "</p>\n",
       "<p>\n",
       "  If you're reading this message in another notebook frontend (for example, a static\n",
       "  rendering on GitHub or <a href=\"https://nbviewer.jupyter.org/\">NBViewer</a>),\n",
       "  it may mean that your frontend doesn't currently support widgets.\n",
       "</p>\n"
      ],
      "text/plain": [
       "interactive(children=(IntSlider(value=0, description=u'x', min=-100), IntSlider(value=0, description=u'y', min=-100), Text(value=u'Stella!', description=u'text'), Dropdown(description=u'background', options=('', 'blue', 'green', 'pink', 'brown', 'cornsilk'), value=''), IntSlider(value=40, description=u'points'), Dropdown(description=u'style', options=('normal', 'italic', 'oblique'), value='normal'), Dropdown(description=u'family', options=('times', 'courier', 'arial'), value='times'), IntSlider(value=0, description=u'degrees', max=360, min=-360), Dropdown(description=u'align', options=('left', 'right', 'center'), value='left'), Dropdown(description=u'valign', options=('bottom', 'center'), value='bottom'), IntSlider(value=255, description=u'red', max=255), IntSlider(value=0, description=u'green', max=255), IntSlider(value=255, description=u'blue', max=255), FloatSlider(value=1.0, description=u'alpha', max=1.0), Output()), _dom_classes=('widget-interact',))"
      ]
     },
     "metadata": {},
     "output_type": "display_data"
    }
   ],
   "source": [
    "# Display a canvas with a circle which can be adjusted interactively\n",
    "\n",
    "# Using the Javascript interface: \n",
    "# This approach requires more typing because Python values must \n",
    "# be explicitly mapped to Javascript variables.\n",
    "# However the canvas configuration is smooth because no intermediate\n",
    "# results are shown.\n",
    "\n",
    "text_canvas2 = dual_canvas.SnapshotCanvas(\"interactive_text2.png\", width=320, height=220)\n",
    "text_canvas2.display_all()\n",
    "\n",
    "def change_text_js(x, y, text=\"Stella!\", background=\"\",\n",
    "                  points=40, style=styles[0], family=families[0],\n",
    "                  degrees=0, align=\"left\", valign=\"bottom\",\n",
    "                  red=255, green=0, blue=255, alpha=1.0):\n",
    "    color = rgba(red, green, blue, alpha)\n",
    "    if not background:\n",
    "        background = None\n",
    "    # font: \"normal 10px Arial\"\n",
    "    font = \"%s %spx %s\" % (style, points, family)\n",
    "    canvas = text_canvas2\n",
    "    canvas.js_init(\"\"\"\n",
    "    debugger;\n",
    "        element.reset_canvas();\n",
    "        element.text({x:x, y:y, text:text, align:align, valign:valign,\n",
    "                degrees:degrees, color:color, font:font, background:background});\n",
    "        element.fit();\n",
    "        element.lower_left_axes({max_tick_count: 4});\n",
    "        element.circle({x:x, y:y, r:3, color:\"#999\"});\n",
    "        element.fit(null, 30);\n",
    "    \"\"\",\n",
    "                x=x, y=y, text=text, align=align, valign=valign,\n",
    "                degrees=degrees, color=color, font=font, background=background)\n",
    "\n",
    "w = interactive(\n",
    "    change_text_js,\n",
    "    align=aligns,\n",
    "    valign=valigns,\n",
    "    x=(-100, 100), \n",
    "    y=(-100,100), \n",
    "    family=families,\n",
    "    style=styles,\n",
    "    points=(0,100),\n",
    "    degrees=(-360,360),\n",
    "    background=backgrounds,\n",
    "    red=(0,255),\n",
    "    green=(0,255),\n",
    "    blue=(0,255),\n",
    "    alpha=(0.0,1.0,0.1)\n",
    ")\n",
    "display(w)"
   ]
  },
  {
   "cell_type": "code",
   "execution_count": null,
   "metadata": {
    "collapsed": false,
    "deletable": true,
    "editable": true
   },
   "outputs": [],
   "source": [
    "text_canvas2.print_status()"
   ]
  },
  {
   "cell_type": "code",
   "execution_count": null,
   "metadata": {
    "collapsed": true,
    "deletable": true,
    "editable": true
   },
   "outputs": [],
   "source": []
  }
 ],
 "metadata": {
  "kernelspec": {
   "display_name": "Python 2",
   "language": "python",
   "name": "python2"
  },
  "language_info": {
   "codemirror_mode": {
    "name": "ipython",
    "version": 2
   },
   "file_extension": ".py",
   "mimetype": "text/x-python",
   "name": "python",
   "nbconvert_exporter": "python",
   "pygments_lexer": "ipython2",
   "version": "2.7.13"
  },
  "widgets": {
   "application/vnd.jupyter.widget-state+json": {
    "state": {
     "0009e2b579bb4d318f61a1522fa741e7": {
      "model_module": "@jupyter-widgets/controls",
      "model_module_version": "1.0.0",
      "model_name": "DescriptionStyleModel",
      "state": {
       "description_width": ""
      }
     },
     "0075135614be4bc8a7b4d00cd16d43a1": {
      "model_module": "@jupyter-widgets/base",
      "model_module_version": "1.0.0",
      "model_name": "LayoutModel",
      "state": {}
     },
     "00891a882807490f9c8a9813efa8f2ab": {
      "model_module": "@jupyter-widgets/controls",
      "model_module_version": "1.0.0",
      "model_name": "VBoxModel",
      "state": {
       "children": [
        "IPY_MODEL_a53134aaac5b42508f76615c456a67fa",
        "IPY_MODEL_87435810b36f48679fe177ca821da97a"
       ],
       "layout": "IPY_MODEL_8f788561c6ef4021a1a232f6c6d2077c"
      }
     },
     "0094cf76d10c4797877c2acdb1b9b395": {
      "model_module": "@jupyter-widgets/controls",
      "model_module_version": "1.0.0",
      "model_name": "SliderStyleModel",
      "state": {
       "description_width": ""
      }
     },
     "009faa4d2649492c9b4d0bd213c9baed": {
      "model_module": "@jupyter-widgets/controls",
      "model_module_version": "1.0.0",
      "model_name": "SliderStyleModel",
      "state": {
       "description_width": ""
      }
     },
     "00c5f56050f840d193ccb0a97202b4f7": {
      "model_module": "@jupyter-widgets/controls",
      "model_module_version": "1.0.0",
      "model_name": "SliderStyleModel",
      "state": {
       "description_width": ""
      }
     },
     "00cdca98bd6d4b90929842bdca03c560": {
      "model_module": "@jupyter-widgets/base",
      "model_module_version": "1.0.0",
      "model_name": "LayoutModel",
      "state": {}
     },
     "00d911d80b80400aaefb5507ef1f97fd": {
      "model_module": "@jupyter-widgets/base",
      "model_module_version": "1.0.0",
      "model_name": "LayoutModel",
      "state": {}
     },
     "00fa6ca9fc0a40ca98bedbb7cfee3d5d": {
      "model_module": "@jupyter-widgets/base",
      "model_module_version": "1.0.0",
      "model_name": "LayoutModel",
      "state": {}
     },
     "014d7b3cdcd24f9081d577986f36f159": {
      "model_module": "@jupyter-widgets/controls",
      "model_module_version": "1.0.0",
      "model_name": "DescriptionStyleModel",
      "state": {
       "description_width": ""
      }
     },
     "01635c761dc347cc8e40ffd3d802a919": {
      "model_module": "@jupyter-widgets/controls",
      "model_module_version": "1.0.0",
      "model_name": "SliderStyleModel",
      "state": {
       "description_width": ""
      }
     },
     "017568be30a942ad9713ec1d76d8e88e": {
      "model_module": "@jupyter-widgets/controls",
      "model_module_version": "1.0.0",
      "model_name": "TextModel",
      "state": {
       "description": "text",
       "layout": "IPY_MODEL_27e95392e3e845338221604651b5b91e",
       "style": "IPY_MODEL_7f5e5a97d1c94d2488ec48305770f358",
       "value": "Stella!"
      }
     },
     "0177a4128dd24b52bda26f472ecde8d7": {
      "model_module": "@jupyter-widgets/base",
      "model_module_version": "1.0.0",
      "model_name": "LayoutModel",
      "state": {}
     },
     "01a8e8c7bf2b482d95026502f4c12fce": {
      "model_module": "@jupyter-widgets/base",
      "model_module_version": "1.0.0",
      "model_name": "LayoutModel",
      "state": {}
     },
     "01b8b3e774e24d74b92728b15d3dacdf": {
      "model_module": "@jupyter-widgets/output",
      "model_module_version": "1.0.0",
      "model_name": "OutputModel",
      "state": {
       "layout": "IPY_MODEL_956cd7b7e4ac4de7b8d66953bcfaf17e",
       "outputs": [
        {
         "ename": "TypeError",
         "evalue": "text() takes at least 4 arguments (6 given)",
         "output_type": "error",
         "traceback": [
          "\u001b[0;31m---------------------------------------------------------------------------\u001b[0m",
          "\u001b[0;31mTypeError\u001b[0m                                 Traceback (most recent call last)",
          "\u001b[0;32m//anaconda/lib/python2.7/site-packages/ipywidgets/widgets/interaction.pyc\u001b[0m in \u001b[0;36mupdate\u001b[0;34m(self, *args)\u001b[0m\n\u001b[1;32m    248\u001b[0m                     \u001b[0mvalue\u001b[0m \u001b[0;34m=\u001b[0m \u001b[0mwidget\u001b[0m\u001b[0;34m.\u001b[0m\u001b[0mget_interact_value\u001b[0m\u001b[0;34m(\u001b[0m\u001b[0;34m)\u001b[0m\u001b[0;34m\u001b[0m\u001b[0m\n\u001b[1;32m    249\u001b[0m                     \u001b[0mself\u001b[0m\u001b[0;34m.\u001b[0m\u001b[0mkwargs\u001b[0m\u001b[0;34m[\u001b[0m\u001b[0mwidget\u001b[0m\u001b[0;34m.\u001b[0m\u001b[0m_kwarg\u001b[0m\u001b[0;34m]\u001b[0m \u001b[0;34m=\u001b[0m \u001b[0mvalue\u001b[0m\u001b[0;34m\u001b[0m\u001b[0m\n\u001b[0;32m--> 250\u001b[0;31m                 \u001b[0mself\u001b[0m\u001b[0;34m.\u001b[0m\u001b[0mresult\u001b[0m \u001b[0;34m=\u001b[0m \u001b[0mself\u001b[0m\u001b[0;34m.\u001b[0m\u001b[0mf\u001b[0m\u001b[0;34m(\u001b[0m\u001b[0;34m**\u001b[0m\u001b[0mself\u001b[0m\u001b[0;34m.\u001b[0m\u001b[0mkwargs\u001b[0m\u001b[0;34m)\u001b[0m\u001b[0;34m\u001b[0m\u001b[0m\n\u001b[0m\u001b[1;32m    251\u001b[0m                 \u001b[0mshow_inline_matplotlib_plots\u001b[0m\u001b[0;34m(\u001b[0m\u001b[0;34m)\u001b[0m\u001b[0;34m\u001b[0m\u001b[0m\n\u001b[1;32m    252\u001b[0m                 \u001b[0;32mif\u001b[0m \u001b[0mself\u001b[0m\u001b[0;34m.\u001b[0m\u001b[0mauto_display\u001b[0m \u001b[0;32mand\u001b[0m \u001b[0mself\u001b[0m\u001b[0;34m.\u001b[0m\u001b[0mresult\u001b[0m \u001b[0;32mis\u001b[0m \u001b[0;32mnot\u001b[0m \u001b[0mNone\u001b[0m\u001b[0;34m:\u001b[0m\u001b[0;34m\u001b[0m\u001b[0m\n",
          "\u001b[0;32m<ipython-input-5-092b12868912>\u001b[0m in \u001b[0;36mchange_rect\u001b[0;34m(x, y, text, points, style, family, degrees, red, green, blue, alpha)\u001b[0m\n\u001b[1;32m     18\u001b[0m     \u001b[0mcanvas\u001b[0m \u001b[0;34m=\u001b[0m \u001b[0mtext_canvas\u001b[0m\u001b[0;34m\u001b[0m\u001b[0m\n\u001b[1;32m     19\u001b[0m     \u001b[0mcanvas\u001b[0m\u001b[0;34m.\u001b[0m\u001b[0mreset_canvas\u001b[0m\u001b[0;34m(\u001b[0m\u001b[0;34m)\u001b[0m\u001b[0;34m\u001b[0m\u001b[0m\n\u001b[0;32m---> 20\u001b[0;31m     canvas.text(x=x, y=y, degrees=degrees, color=color, font=font,\n\u001b[0m\u001b[1;32m     21\u001b[0m                  )\n\u001b[1;32m     22\u001b[0m     \u001b[0mcanvas\u001b[0m\u001b[0;34m.\u001b[0m\u001b[0mfit\u001b[0m\u001b[0;34m(\u001b[0m\u001b[0;34m)\u001b[0m\u001b[0;34m\u001b[0m\u001b[0m\n",
          "\u001b[0;31mTypeError\u001b[0m: text() takes at least 4 arguments (6 given)"
         ]
        }
       ]
      }
     },
     "01c91381b75a48b49a1448d3750e9058": {
      "model_module": "@jupyter-widgets/controls",
      "model_module_version": "1.0.0",
      "model_name": "DescriptionStyleModel",
      "state": {
       "description_width": ""
      }
     },
     "02107ae2477d48f7913fd5e0fc365cea": {
      "model_module": "@jupyter-widgets/controls",
      "model_module_version": "1.0.0",
      "model_name": "DescriptionStyleModel",
      "state": {
       "description_width": ""
      }
     },
     "023b8ec8373c47afa8b2799297194cd2": {
      "model_module": "@jupyter-widgets/controls",
      "model_module_version": "1.0.0",
      "model_name": "DropdownModel",
      "state": {
       "_options_labels": [
        "normal",
        "italic",
        "oblique"
       ],
       "description": "style",
       "index": 0,
       "layout": "IPY_MODEL_2a16dd34bb4445e88a4a70c9bf78e6b1",
       "style": "IPY_MODEL_66e870441fcc4e388aa9f3edf6519307"
      }
     },
     "02512dc59e61450b8b2b62b9dd63bcac": {
      "model_module": "@jupyter-widgets/base",
      "model_module_version": "1.0.0",
      "model_name": "LayoutModel",
      "state": {}
     },
     "02698a4bf36e4aeaa4c05b2aeef3d1a6": {
      "model_module": "@jupyter-widgets/base",
      "model_module_version": "1.0.0",
      "model_name": "LayoutModel",
      "state": {}
     },
     "027486edd7e64a2284c146b7ea5826ca": {
      "model_module": "@jupyter-widgets/base",
      "model_module_version": "1.0.0",
      "model_name": "LayoutModel",
      "state": {}
     },
     "02851cf953924abfa562b63086d220c2": {
      "model_module": "@jupyter-widgets/base",
      "model_module_version": "1.0.0",
      "model_name": "LayoutModel",
      "state": {}
     },
     "028db3f69540424e9b2f90bd33ce3e5c": {
      "model_module": "@jupyter-widgets/base",
      "model_module_version": "1.0.0",
      "model_name": "LayoutModel",
      "state": {}
     },
     "02b22d41ff394926a741a08e7a1ad128": {
      "model_module": "@jupyter-widgets/controls",
      "model_module_version": "1.0.0",
      "model_name": "IntSliderModel",
      "state": {
       "description": "degrees",
       "layout": "IPY_MODEL_95466f3290994f27a478f9c02fb37263",
       "max": 360,
       "min": -360,
       "style": "IPY_MODEL_6261d2f758084784ba06fda55d2b65ec"
      }
     },
     "02d007c44ab44d52b2cd1dd94cbfb0ef": {
      "model_module": "@jupyter-widgets/controls",
      "model_module_version": "1.0.0",
      "model_name": "SliderStyleModel",
      "state": {
       "description_width": ""
      }
     },
     "02ef1d3478e64c7a815932c13f929553": {
      "model_module": "@jupyter-widgets/controls",
      "model_module_version": "1.0.0",
      "model_name": "DescriptionStyleModel",
      "state": {
       "description_width": ""
      }
     },
     "030a5e845d8d4bf195125636fb2455dc": {
      "model_module": "@jupyter-widgets/base",
      "model_module_version": "1.0.0",
      "model_name": "LayoutModel",
      "state": {}
     },
     "031e3498c52e4c96b167557a53dceab8": {
      "model_module": "@jupyter-widgets/controls",
      "model_module_version": "1.0.0",
      "model_name": "DescriptionStyleModel",
      "state": {
       "description_width": ""
      }
     },
     "033545dec6814cdca79ce4f302c34619": {
      "model_module": "@jupyter-widgets/base",
      "model_module_version": "1.0.0",
      "model_name": "LayoutModel",
      "state": {}
     },
     "0358dedd485141e2af579b43d8a4d9b8": {
      "model_module": "@jupyter-widgets/controls",
      "model_module_version": "1.0.0",
      "model_name": "IntSliderModel",
      "state": {
       "description": "points",
       "layout": "IPY_MODEL_6091b821ff73407590a8029cb6fa1c68",
       "style": "IPY_MODEL_29cdbd7ccc484fed83a43d7da080ca1c",
       "value": 40
      }
     },
     "03778b497e994d2393e8017cbb0bb009": {
      "model_module": "@jupyter-widgets/base",
      "model_module_version": "1.0.0",
      "model_name": "LayoutModel",
      "state": {}
     },
     "03e8424e15314392b53bb2b58cd42fd4": {
      "model_module": "@jupyter-widgets/base",
      "model_module_version": "1.0.0",
      "model_name": "LayoutModel",
      "state": {}
     },
     "040908452424441fad19614ced635b29": {
      "model_module": "@jupyter-widgets/controls",
      "model_module_version": "1.0.0",
      "model_name": "DescriptionStyleModel",
      "state": {
       "description_width": ""
      }
     },
     "04288495fdca4527b30a622903cebc85": {
      "model_module": "@jupyter-widgets/controls",
      "model_module_version": "1.0.0",
      "model_name": "DropdownModel",
      "state": {
       "_options_labels": [
        "times",
        "courier",
        "arial"
       ],
       "description": "family",
       "index": 1,
       "layout": "IPY_MODEL_aeae67acdcd3403299939549bd6ffb3a",
       "style": "IPY_MODEL_5948de2d202f4dcaba8b3c671bc025de"
      }
     },
     "04677a21e0b2442390fd49f6e9526c8b": {
      "model_module": "@jupyter-widgets/controls",
      "model_module_version": "1.0.0",
      "model_name": "FloatSliderModel",
      "state": {
       "description": "arc",
       "layout": "IPY_MODEL_f51c752ce63c4542bac603c4338756b4",
       "max": 6.383185307179586,
       "step": 0.1,
       "style": "IPY_MODEL_3b298347d5164b729809133f282a4913",
       "value": 6.283185307179586
      }
     },
     "046c87648fce4eb4a6069b0703262f0c": {
      "model_module": "@jupyter-widgets/base",
      "model_module_version": "1.0.0",
      "model_name": "LayoutModel",
      "state": {}
     },
     "0471fb02c3b1445cb643143b3131ff0e": {
      "model_module": "@jupyter-widgets/base",
      "model_module_version": "1.0.0",
      "model_name": "LayoutModel",
      "state": {}
     },
     "047416a2f6df4e6ebc415bdbb429152a": {
      "model_module": "@jupyter-widgets/base",
      "model_module_version": "1.0.0",
      "model_name": "LayoutModel",
      "state": {}
     },
     "04750ce289014b89a2abc7b2941ff541": {
      "model_module": "@jupyter-widgets/controls",
      "model_module_version": "1.0.0",
      "model_name": "SliderStyleModel",
      "state": {
       "description_width": ""
      }
     },
     "049da93bf44d463ea7f4c078e9d00e0f": {
      "model_module": "@jupyter-widgets/base",
      "model_module_version": "1.0.0",
      "model_name": "LayoutModel",
      "state": {}
     },
     "04bdafaa1c8d46a3b6426ab4eb921ce8": {
      "model_module": "@jupyter-widgets/controls",
      "model_module_version": "1.0.0",
      "model_name": "DropdownModel",
      "state": {
       "_options_labels": [
        "left",
        "right",
        "center"
       ],
       "description": "align",
       "index": 2,
       "layout": "IPY_MODEL_4912a80bd99b49e69a5487d7728d9ed5",
       "style": "IPY_MODEL_935a3a137c30488ba034c425a40d3be0"
      }
     },
     "0508f8868207466388be8b8299a28843": {
      "model_module": "@jupyter-widgets/controls",
      "model_module_version": "1.0.0",
      "model_name": "SliderStyleModel",
      "state": {
       "description_width": ""
      }
     },
     "053eeb61df224b709839b44ad5e51b19": {
      "model_module": "@jupyter-widgets/base",
      "model_module_version": "1.0.0",
      "model_name": "LayoutModel",
      "state": {}
     },
     "0549ad3832a14c5eae86228413ea42ae": {
      "model_module": "@jupyter-widgets/base",
      "model_module_version": "1.0.0",
      "model_name": "LayoutModel",
      "state": {}
     },
     "0586ec8ffb394e0b93dd00bf3dfa313c": {
      "model_module": "@jupyter-widgets/controls",
      "model_module_version": "1.0.0",
      "model_name": "DescriptionStyleModel",
      "state": {
       "description_width": ""
      }
     },
     "0596668692e34686be3309215f8ab5a3": {
      "model_module": "@jupyter-widgets/controls",
      "model_module_version": "1.0.0",
      "model_name": "IntSliderModel",
      "state": {
       "description": "x",
       "layout": "IPY_MODEL_440ae63fd0cf4ff9ba3ce03440f7ea85",
       "min": -100,
       "style": "IPY_MODEL_c117aec59f164669a43ac586079c37d9"
      }
     },
     "05f3216eb29b4ea391a72e13b34dce8b": {
      "model_module": "@jupyter-widgets/controls",
      "model_module_version": "1.0.0",
      "model_name": "IntSliderModel",
      "state": {
       "description": "green",
       "layout": "IPY_MODEL_916c0e3637cd477c88d588c2f8b215e6",
       "max": 255,
       "style": "IPY_MODEL_87f96583fbe54d0d9c374e169efa7902"
      }
     },
     "05f3aa9aeda94494a2b2319443e93e7b": {
      "model_module": "@jupyter-widgets/controls",
      "model_module_version": "1.0.0",
      "model_name": "DescriptionStyleModel",
      "state": {
       "description_width": ""
      }
     },
     "06244012558b45759158f59041a9bd3c": {
      "model_module": "@jupyter-widgets/base",
      "model_module_version": "1.0.0",
      "model_name": "LayoutModel",
      "state": {}
     },
     "0626be14a03e46c183c08afcd0ec95e4": {
      "model_module": "@jupyter-widgets/base",
      "model_module_version": "1.0.0",
      "model_name": "LayoutModel",
      "state": {}
     },
     "0641ffaf24394f268c2c18cdf7b810bb": {
      "model_module": "@jupyter-widgets/controls",
      "model_module_version": "1.0.0",
      "model_name": "VBoxModel",
      "state": {
       "children": [
        "IPY_MODEL_92703755d8f74aae89b7f06ada3f6496",
        "IPY_MODEL_90e132ec873b4c72aa2ff7b7dd04cc0f"
       ],
       "layout": "IPY_MODEL_7facc299cfc34269b8bc09ecf238e4a6"
      }
     },
     "064e07db63be46ad9183085176277221": {
      "model_module": "@jupyter-widgets/controls",
      "model_module_version": "1.0.0",
      "model_name": "DropdownModel",
      "state": {
       "_options_labels": [
        "left",
        "right",
        "center"
       ],
       "description": "align",
       "index": 2,
       "layout": "IPY_MODEL_8cbbf18aded44d15b6f55047f19d30bd",
       "style": "IPY_MODEL_43c00b3554f542eda6a2ec33236f1b34"
      }
     },
     "068449d6e84d47ba93bee86a28fc050c": {
      "model_module": "@jupyter-widgets/controls",
      "model_module_version": "1.0.0",
      "model_name": "HTMLModel",
      "state": {
       "layout": "IPY_MODEL_3d5058bc2e3b4e539cc00452ef824c4d",
       "style": "IPY_MODEL_5a37f347672e48bd8f2a78eaaaf41828",
       "value": "<img src=\"interactive_circle.png\" id=\"snapshot_id_11_1536246416146\"/>\n <div id=\"snapshot_id_12_1536246416146\">interactive_circle.png</div>"
      }
     },
     "06907417026e4355ae61da1f7bf68b77": {
      "model_module": "@jupyter-widgets/controls",
      "model_module_version": "1.0.0",
      "model_name": "SliderStyleModel",
      "state": {
       "description_width": ""
      }
     },
     "06a8f9ef8f64442092a5bc4b67fbabe7": {
      "model_module": "@jupyter-widgets/controls",
      "model_module_version": "1.0.0",
      "model_name": "IntSliderModel",
      "state": {
       "description": "x",
       "layout": "IPY_MODEL_56ef1b5c57e3445fa59d89de77ec1047",
       "min": -100,
       "style": "IPY_MODEL_2542c7de95084c5fa39c34b5bb97cd55"
      }
     },
     "06ad2a75861b4b61a01cd332b2378bda": {
      "model_module": "@jupyter-widgets/base",
      "model_module_version": "1.0.0",
      "model_name": "LayoutModel",
      "state": {}
     },
     "06cb0d7b4b5d4ea3a2b6694a2defcfe0": {
      "model_module": "@jupyter-widgets/base",
      "model_module_version": "1.0.0",
      "model_name": "LayoutModel",
      "state": {}
     },
     "06ce8190038640b692a9c32725acc6ec": {
      "model_module": "@jupyter-widgets/controls",
      "model_module_version": "1.0.0",
      "model_name": "IntSliderModel",
      "state": {
       "description": "red",
       "layout": "IPY_MODEL_801bca8c5e2a4d528fef40d3b260c502",
       "max": 255,
       "style": "IPY_MODEL_7903fbdfae4843cc877e9f62a7790978",
       "value": 255
      }
     },
     "06ee9ad14ac94bb3909094d34e1dff0c": {
      "model_module": "@jupyter-widgets/controls",
      "model_module_version": "1.0.0",
      "model_name": "VBoxModel",
      "state": {
       "children": [
        "IPY_MODEL_46ee34699d87447dbfd887c31f9b95e8",
        "IPY_MODEL_39ad0857f091487ea76cf71f53f88e50"
       ],
       "layout": "IPY_MODEL_883c774d41f548abb9330c9ca97e4ef8"
      }
     },
     "070cad58c4194bbba8449bfa765e5f19": {
      "model_module": "@jupyter-widgets/controls",
      "model_module_version": "1.0.0",
      "model_name": "TabModel",
      "state": {
       "_titles": {
        "0": "Canvas",
        "1": "Snapshot"
       },
       "children": [
        "IPY_MODEL_85d249ca37ad43f28599a14b346ef541",
        "IPY_MODEL_ec34bcf8e98546d69b3f74a4a63858bc"
       ],
       "layout": "IPY_MODEL_9548b33cf4214107b523d8d234c8bd70"
      }
     },
     "0711718a6c504992a69b52793ab8fae7": {
      "model_module": "@jupyter-widgets/base",
      "model_module_version": "1.0.0",
      "model_name": "LayoutModel",
      "state": {}
     },
     "072eb40a142c4b4baa780c08f838c4ec": {
      "model_module": "@jupyter-widgets/base",
      "model_module_version": "1.0.0",
      "model_name": "LayoutModel",
      "state": {}
     },
     "0734ac469e3443feae42710aaa7e02fd": {
      "model_module": "@jupyter-widgets/base",
      "model_module_version": "1.0.0",
      "model_name": "LayoutModel",
      "state": {}
     },
     "07535ba499da411aa4054322b7bb66b5": {
      "model_module": "@jupyter-widgets/base",
      "model_module_version": "1.0.0",
      "model_name": "LayoutModel",
      "state": {}
     },
     "075c078a83814b8497dbbe75bf9b5c64": {
      "model_module": "@jupyter-widgets/controls",
      "model_module_version": "1.0.0",
      "model_name": "IntSliderModel",
      "state": {
       "description": "green",
       "layout": "IPY_MODEL_d0c0b3a2ad8746e4bb588b59873a55a2",
       "max": 255,
       "style": "IPY_MODEL_51eb848c9cb6490e95d8ed57c016498d"
      }
     },
     "076401acc0ed4270ba5ddb059105b700": {
      "model_module": "@jupyter-widgets/controls",
      "model_module_version": "1.0.0",
      "model_name": "SliderStyleModel",
      "state": {
       "description_width": ""
      }
     },
     "079d806923bb4f9088444c807ff6a139": {
      "model_module": "@jupyter-widgets/controls",
      "model_module_version": "1.0.0",
      "model_name": "DropdownModel",
      "state": {
       "_options_labels": [
        "times",
        "courier",
        "arial"
       ],
       "description": "family",
       "index": 0,
       "layout": "IPY_MODEL_17967d75e0374b119b8d5f166ff449b4",
       "style": "IPY_MODEL_da3d7780e58d4764b4e1a9f99f36d343"
      }
     },
     "079dfa3b532d4b35bfcc8b87dcde53de": {
      "model_module": "@jupyter-widgets/controls",
      "model_module_version": "1.0.0",
      "model_name": "VBoxModel",
      "state": {
       "children": [
        "IPY_MODEL_2a555313f8394d25bbeff83e9e310f80",
        "IPY_MODEL_3ad84ebd5f9c494e810bb3a704cafa59"
       ],
       "layout": "IPY_MODEL_08a9a3e87e0c4f019444258cb203b27e"
      }
     },
     "07cea71eb023485c9026b8bfedc33150": {
      "model_module": "@jupyter-widgets/controls",
      "model_module_version": "1.0.0",
      "model_name": "FloatSliderModel",
      "state": {
       "description": "arc",
       "layout": "IPY_MODEL_093c6e42adc542c29d6a71c9603225f8",
       "max": 6.383185307179586,
       "step": 0.1,
       "style": "IPY_MODEL_76dc543a17bd4d49a495b03b1bfa7ef8",
       "value": 6.3
      }
     },
     "082153a5250c4617b76aef431476d507": {
      "model_module": "@jupyter-widgets/controls",
      "model_module_version": "1.0.0",
      "model_name": "SliderStyleModel",
      "state": {
       "description_width": ""
      }
     },
     "08235632ce8747a1a4c0d8bc3fdcdccb": {
      "model_module": "@jupyter-widgets/controls",
      "model_module_version": "1.0.0",
      "model_name": "SliderStyleModel",
      "state": {
       "description_width": ""
      }
     },
     "08319526df0443e9a41cf861a0861f13": {
      "model_module": "@jupyter-widgets/base",
      "model_module_version": "1.0.0",
      "model_name": "LayoutModel",
      "state": {}
     },
     "088825cd23434719842e80f1370e9dad": {
      "model_module": "@jupyter-widgets/controls",
      "model_module_version": "1.0.0",
      "model_name": "TabModel",
      "state": {
       "_titles": {
        "0": "Canvas",
        "1": "Snapshot"
       },
       "children": [
        "IPY_MODEL_753b63c2122c4b64950abbbe0956daf3",
        "IPY_MODEL_aeef2d01cfaf49939ea4f81be4dc10fa"
       ],
       "layout": "IPY_MODEL_7b166f5e9d214bc3a7a8d21bcfde82de"
      }
     },
     "088856551e854c4e9f738573f967d3ab": {
      "model_module": "jp_proxy_widget",
      "model_module_version": "^0.3.4",
      "model_name": "JSProxyModel",
      "state": {
       "_model_module_version": "^0.3.4",
       "_send_counter": 2,
       "_view_module_version": "^0.3.4",
       "error_msg": "No error",
       "layout": "IPY_MODEL_a796e8852ad34e3fb13dc861d68f0428",
       "rendered": true,
       "status": "Got results."
      }
     },
     "08a1881313f948d19984e9c32ef6e4a5": {
      "model_module": "@jupyter-widgets/base",
      "model_module_version": "1.0.0",
      "model_name": "LayoutModel",
      "state": {}
     },
     "08a9a3e87e0c4f019444258cb203b27e": {
      "model_module": "@jupyter-widgets/base",
      "model_module_version": "1.0.0",
      "model_name": "LayoutModel",
      "state": {}
     },
     "08d6ef584754424bb9a274086ea50c18": {
      "model_module": "@jupyter-widgets/controls",
      "model_module_version": "1.0.0",
      "model_name": "IntSliderModel",
      "state": {
       "description": "green",
       "layout": "IPY_MODEL_ba712410e6124d549f253b83a2386265",
       "max": 255,
       "style": "IPY_MODEL_1bdf6f48ccb644ba98c666e5630ef289",
       "value": 218
      }
     },
     "08f10721a5294105b92790e7e3ae2341": {
      "model_module": "@jupyter-widgets/base",
      "model_module_version": "1.0.0",
      "model_name": "LayoutModel",
      "state": {}
     },
     "092a536d3cb1422a8379407169c2e507": {
      "model_module": "@jupyter-widgets/controls",
      "model_module_version": "1.0.0",
      "model_name": "IntSliderModel",
      "state": {
       "description": "points",
       "layout": "IPY_MODEL_3a5d8d4fbc8142d7bcc5f8da74e9f53e",
       "style": "IPY_MODEL_10114f43e8c84d30acf13860209ef39d",
       "value": 20
      }
     },
     "093c6e42adc542c29d6a71c9603225f8": {
      "model_module": "@jupyter-widgets/base",
      "model_module_version": "1.0.0",
      "model_name": "LayoutModel",
      "state": {}
     },
     "0972753e551c4e1aa03a0f5b3a0981bd": {
      "model_module": "@jupyter-widgets/controls",
      "model_module_version": "1.0.0",
      "model_name": "SliderStyleModel",
      "state": {
       "description_width": ""
      }
     },
     "097f8ef2de234da0ba1d80bc947dc927": {
      "model_module": "@jupyter-widgets/controls",
      "model_module_version": "1.0.0",
      "model_name": "DropdownModel",
      "state": {
       "_options_labels": [
        "normal",
        "italic",
        "oblique"
       ],
       "description": "style",
       "index": 0,
       "layout": "IPY_MODEL_38290112b06c49208f40c08dd132f1a1",
       "style": "IPY_MODEL_bf73d55efbe84ecea98fc306610f353d"
      }
     },
     "098d9093b76044eebce4f17d4ab93a56": {
      "model_module": "@jupyter-widgets/controls",
      "model_module_version": "1.0.0",
      "model_name": "IntSliderModel",
      "state": {
       "description": "points",
       "layout": "IPY_MODEL_db301255a62d4de1823e5ac83962e8f7",
       "style": "IPY_MODEL_78a4310e80be4cb2ae8326633125f25f",
       "value": 20
      }
     },
     "09a374df00ee4f84b8667a41afa94d9c": {
      "model_module": "@jupyter-widgets/controls",
      "model_module_version": "1.0.0",
      "model_name": "IntSliderModel",
      "state": {
       "description": "x",
       "layout": "IPY_MODEL_2cca463f1b4e4275968d9d82efbe752e",
       "min": -100,
       "style": "IPY_MODEL_9138e41ff93548d8a8fbe1a831dd914f"
      }
     },
     "09c40f82b91f4fa0bc073f8f6fb910b9": {
      "model_module": "@jupyter-widgets/controls",
      "model_module_version": "1.0.0",
      "model_name": "TabModel",
      "state": {
       "_titles": {
        "0": "Canvas",
        "1": "Snapshot"
       },
       "children": [
        "IPY_MODEL_69641ee8c18e46d9aead67c8a5e37df6",
        "IPY_MODEL_aa084c89641b40eebcc12e91251a29b7"
       ],
       "layout": "IPY_MODEL_a8e1ab856e4b4a14bca6f5435290cf38"
      }
     },
     "09c9c41714ea41f38aa7731af8b867a7": {
      "model_module": "@jupyter-widgets/base",
      "model_module_version": "1.0.0",
      "model_name": "LayoutModel",
      "state": {}
     },
     "09f9e84dc0b24f3395212e5afb68a236": {
      "model_module": "@jupyter-widgets/controls",
      "model_module_version": "1.0.0",
      "model_name": "SliderStyleModel",
      "state": {
       "description_width": ""
      }
     },
     "0a0bfbafe787495bab6bda6af80167e2": {
      "model_module": "@jupyter-widgets/base",
      "model_module_version": "1.0.0",
      "model_name": "LayoutModel",
      "state": {}
     },
     "0a165a16730a411cafac642b0eafe0e5": {
      "model_module": "@jupyter-widgets/controls",
      "model_module_version": "1.0.0",
      "model_name": "DescriptionStyleModel",
      "state": {
       "description_width": ""
      }
     },
     "0a1ba05e040c4f85ac53e70dabb15389": {
      "model_module": "@jupyter-widgets/base",
      "model_module_version": "1.0.0",
      "model_name": "LayoutModel",
      "state": {}
     },
     "0a39ab45b1af48b9a7f735df24b7b659": {
      "model_module": "@jupyter-widgets/base",
      "model_module_version": "1.0.0",
      "model_name": "LayoutModel",
      "state": {}
     },
     "0a607df771054566985f770e0aabf5c5": {
      "model_module": "@jupyter-widgets/controls",
      "model_module_version": "1.0.0",
      "model_name": "HTMLModel",
      "state": {
       "layout": "IPY_MODEL_953ef9689c474e3eb737c96dec557317",
       "style": "IPY_MODEL_7ef41300ab0146f48ee94354f0107a71",
       "value": "<img src=\"interactive_text.png\" id=\"snapshot_id_1_1536324330429\"/>\n <div id=\"snapshot_id_2_1536324330429\">interactive_text.png</div>"
      }
     },
     "0a783d2adb0940f0a74f8da5faef0d88": {
      "model_module": "jp_proxy_widget",
      "model_module_version": "^0.3.4",
      "model_name": "JSProxyModel",
      "state": {
       "_model_module_version": "^0.3.4",
       "_send_counter": 2,
       "_view_module_version": "^0.3.4",
       "error_msg": "No error",
       "layout": "IPY_MODEL_ea25bef00ba24a6592b58c5416758faa",
       "rendered": true,
       "status": "Got results."
      }
     },
     "0a7eaca5639f4a8fb1c9926e0d5e6460": {
      "model_module": "@jupyter-widgets/controls",
      "model_module_version": "1.0.0",
      "model_name": "SliderStyleModel",
      "state": {
       "description_width": ""
      }
     },
     "0a8329b3a12a478e84a53d841e6caaec": {
      "model_module": "@jupyter-widgets/controls",
      "model_module_version": "1.0.0",
      "model_name": "DropdownModel",
      "state": {
       "_options_labels": [
        "left",
        "right",
        "center"
       ],
       "description": "align",
       "index": 0,
       "layout": "IPY_MODEL_f154bb18eeca4d949a9ca5f14b494c16",
       "style": "IPY_MODEL_f942f442d5b54b25982b23a820a0c985"
      }
     },
     "0aa5994b31944b0f89b69872598bd448": {
      "model_module": "@jupyter-widgets/controls",
      "model_module_version": "1.0.0",
      "model_name": "IntSliderModel",
      "state": {
       "description": "x",
       "layout": "IPY_MODEL_49ee8b1058db4c7ba125fb9f2fb0e05b",
       "min": -100,
       "style": "IPY_MODEL_c980e2036a4d43408e58fdb109273d2c"
      }
     },
     "0ac091066efb425cb2d3da86b3223a7b": {
      "model_module": "@jupyter-widgets/controls",
      "model_module_version": "1.0.0",
      "model_name": "IntSliderModel",
      "state": {
       "description": "x",
       "layout": "IPY_MODEL_c248457df342485d9897f6f96fa8b126",
       "min": -100,
       "style": "IPY_MODEL_24c5457a74644dc4ac126d3efda57e68"
      }
     },
     "0ae66814b850472faabdab32759cc441": {
      "model_module": "@jupyter-widgets/base",
      "model_module_version": "1.0.0",
      "model_name": "LayoutModel",
      "state": {}
     },
     "0b09dc2472a043fcb423f25812a7accf": {
      "model_module": "@jupyter-widgets/controls",
      "model_module_version": "1.0.0",
      "model_name": "HTMLModel",
      "state": {
       "layout": "IPY_MODEL_cb4f5020f35f40158725e25fa5fa34d8",
       "style": "IPY_MODEL_9e74bbe772004c299b27fae0d0e2ef70",
       "value": "<img src=\"interactive_text2.png\" id=\"snapshot_id_5_1536320869454\"/>\n <div id=\"snapshot_id_6_1536320869454\">interactive_text2.png</div>"
      }
     },
     "0b15c648be4d49968a0197ad8638c49e": {
      "model_module": "jp_proxy_widget",
      "model_module_version": "^0.3.4",
      "model_name": "JSProxyModel",
      "state": {
       "_model_module_version": "^0.3.4",
       "_send_counter": 16,
       "_view_module_version": "^0.3.4",
       "error_msg": "No error",
       "layout": "IPY_MODEL_1282d3fa2f754b449a47f60ad0a3588d",
       "rendered": true,
       "status": "Got results."
      }
     },
     "0b388eb410ea42eaa2148e23bdda099a": {
      "model_module": "@jupyter-widgets/controls",
      "model_module_version": "1.0.0",
      "model_name": "IntSliderModel",
      "state": {
       "description": "red",
       "layout": "IPY_MODEL_8fa2c43c81c54a54bf65d9e484693c73",
       "max": 255,
       "style": "IPY_MODEL_4df9c4d1831d4dceb9ba1589c520bbde",
       "value": 127
      }
     },
     "0b4a45ac7bdf4696b196b73a9b5b4b73": {
      "model_module": "@jupyter-widgets/base",
      "model_module_version": "1.0.0",
      "model_name": "LayoutModel",
      "state": {}
     },
     "0b8c014e5bbc4eec93570a57efe31953": {
      "model_module": "@jupyter-widgets/controls",
      "model_module_version": "1.0.0",
      "model_name": "FloatSliderModel",
      "state": {
       "description": "alpha",
       "layout": "IPY_MODEL_ee0b471b70304760bff1b1ff5b0d35fc",
       "max": 1,
       "step": 0.1,
       "style": "IPY_MODEL_b81cf1a397644b2cab1fb61f7616a393",
       "value": 1
      }
     },
     "0bbd75a7181a4e08b0e29a79e02219bc": {
      "model_module": "@jupyter-widgets/controls",
      "model_module_version": "1.0.0",
      "model_name": "SliderStyleModel",
      "state": {
       "description_width": ""
      }
     },
     "0bf4376b67d44d42af0c84af1e921c85": {
      "model_module": "@jupyter-widgets/controls",
      "model_module_version": "1.0.0",
      "model_name": "SliderStyleModel",
      "state": {
       "description_width": ""
      }
     },
     "0c024cd762bc497ebeefeb5b2297e72d": {
      "model_module": "@jupyter-widgets/controls",
      "model_module_version": "1.0.0",
      "model_name": "SliderStyleModel",
      "state": {
       "description_width": ""
      }
     },
     "0c1b85fa2d7744d9b92b6ce8964dbaeb": {
      "model_module": "@jupyter-widgets/base",
      "model_module_version": "1.0.0",
      "model_name": "LayoutModel",
      "state": {}
     },
     "0c4137d2acc246b89bfb60d7dd9be0de": {
      "model_module": "@jupyter-widgets/controls",
      "model_module_version": "1.0.0",
      "model_name": "DescriptionStyleModel",
      "state": {
       "description_width": ""
      }
     },
     "0c5742a5584a443ca5cb066e4ec39e35": {
      "model_module": "@jupyter-widgets/controls",
      "model_module_version": "1.0.0",
      "model_name": "IntSliderModel",
      "state": {
       "description": "y",
       "layout": "IPY_MODEL_77c37a70d686438abda8ceb2dcf1a517",
       "min": -100,
       "style": "IPY_MODEL_082153a5250c4617b76aef431476d507"
      }
     },
     "0c60d548fb5b46329ed9f59a07a80d5f": {
      "model_module": "@jupyter-widgets/controls",
      "model_module_version": "1.0.0",
      "model_name": "SliderStyleModel",
      "state": {
       "description_width": ""
      }
     },
     "0c9c47849e944ad59b153915a987186a": {
      "model_module": "@jupyter-widgets/base",
      "model_module_version": "1.0.0",
      "model_name": "LayoutModel",
      "state": {}
     },
     "0cb87f1e88684fcc8ceb6ea892cfec1b": {
      "model_module": "@jupyter-widgets/controls",
      "model_module_version": "1.0.0",
      "model_name": "SliderStyleModel",
      "state": {
       "description_width": ""
      }
     },
     "0cf2b7ffb0fd4b7e9023102fe5c28623": {
      "model_module": "@jupyter-widgets/base",
      "model_module_version": "1.0.0",
      "model_name": "LayoutModel",
      "state": {}
     },
     "0d2431a2ebde4bcfb5b9da41c8bfbf4e": {
      "model_module": "@jupyter-widgets/controls",
      "model_module_version": "1.0.0",
      "model_name": "SliderStyleModel",
      "state": {
       "description_width": ""
      }
     },
     "0d65c9f8b8cd4c278877f04bb963daea": {
      "model_module": "@jupyter-widgets/controls",
      "model_module_version": "1.0.0",
      "model_name": "SliderStyleModel",
      "state": {
       "description_width": ""
      }
     },
     "0d6eae09978a488fa7f3c6f4bdd0099a": {
      "model_module": "@jupyter-widgets/controls",
      "model_module_version": "1.0.0",
      "model_name": "SliderStyleModel",
      "state": {
       "description_width": ""
      }
     },
     "0e005951387348d1bd27a58710e8e637": {
      "model_module": "@jupyter-widgets/base",
      "model_module_version": "1.0.0",
      "model_name": "LayoutModel",
      "state": {}
     },
     "0e03e61d7c234ed0b6c7b1b0d0e95cb9": {
      "model_module": "@jupyter-widgets/base",
      "model_module_version": "1.0.0",
      "model_name": "LayoutModel",
      "state": {}
     },
     "0e05788d41df4483b3e7b99b1c765c1b": {
      "model_module": "@jupyter-widgets/controls",
      "model_module_version": "1.0.0",
      "model_name": "DescriptionStyleModel",
      "state": {
       "description_width": ""
      }
     },
     "0e0bf54dc5bc42f5ab7c12ca1bb38355": {
      "model_module": "@jupyter-widgets/controls",
      "model_module_version": "1.0.0",
      "model_name": "SliderStyleModel",
      "state": {
       "description_width": ""
      }
     },
     "0e236c0abc8543678cde80a20f77d38a": {
      "model_module": "@jupyter-widgets/controls",
      "model_module_version": "1.0.0",
      "model_name": "SliderStyleModel",
      "state": {
       "description_width": ""
      }
     },
     "0e635c7f9aea4298ad97d98dd1dd69aa": {
      "model_module": "@jupyter-widgets/controls",
      "model_module_version": "1.0.0",
      "model_name": "TextModel",
      "state": {
       "description": "text",
       "layout": "IPY_MODEL_a97a06aae8e04ab8bf37063dee0a4672",
       "style": "IPY_MODEL_3d728e772cef465393b216cb80a15737",
       "value": "Stella!"
      }
     },
     "0e8c2fd6ecf64207855b47f5058b8346": {
      "model_module": "@jupyter-widgets/base",
      "model_module_version": "1.0.0",
      "model_name": "LayoutModel",
      "state": {}
     },
     "0e9d90c28d0d4074b15b218ae9f92d93": {
      "model_module": "jp_proxy_widget",
      "model_module_version": "^0.3.4",
      "model_name": "JSProxyModel",
      "state": {
       "_model_module_version": "^0.3.4",
       "_send_counter": 6,
       "_view_module_version": "^0.3.4",
       "error_msg": "No error",
       "layout": "IPY_MODEL_f33053ce6ead429b90a92c971a8431d6",
       "rendered": true,
       "status": "Got results."
      }
     },
     "0eb2be7a42924abda08834e268871f33": {
      "model_module": "jp_proxy_widget",
      "model_module_version": "^0.3.4",
      "model_name": "JSProxyModel",
      "state": {
       "_model_module_version": "^0.3.4",
       "_send_counter": 2,
       "_view_module_version": "^0.3.4",
       "error_msg": "No error",
       "layout": "IPY_MODEL_7bbcb409e9284b17bf0993b8c1a7121f",
       "rendered": true,
       "status": "call back to <function callback_function at 0x103b63398>"
      }
     },
     "0eb2e51813de43a48111f85c8dbae638": {
      "model_module": "@jupyter-widgets/base",
      "model_module_version": "1.0.0",
      "model_name": "LayoutModel",
      "state": {}
     },
     "0eba418d3b5a444db633bcf466885c19": {
      "model_module": "@jupyter-widgets/controls",
      "model_module_version": "1.0.0",
      "model_name": "DescriptionStyleModel",
      "state": {
       "description_width": ""
      }
     },
     "0f0b3e7c4792423d9ee9aa5f00f82f9e": {
      "model_module": "@jupyter-widgets/controls",
      "model_module_version": "1.0.0",
      "model_name": "IntSliderModel",
      "state": {
       "description": "x",
       "layout": "IPY_MODEL_d489cc2f4f5844a08f377f7dbbf5b611",
       "min": -100,
       "style": "IPY_MODEL_1664fb07bba348f582190d9fa1b70172"
      }
     },
     "0f0f5a5c1da947ee995044f2e28bdf79": {
      "model_module": "@jupyter-widgets/controls",
      "model_module_version": "1.0.0",
      "model_name": "DescriptionStyleModel",
      "state": {
       "description_width": ""
      }
     },
     "0f39eba590774606aa21963601303685": {
      "model_module": "@jupyter-widgets/base",
      "model_module_version": "1.0.0",
      "model_name": "LayoutModel",
      "state": {}
     },
     "0f51c34da49247b99b71ecdd5497bf39": {
      "model_module": "@jupyter-widgets/base",
      "model_module_version": "1.0.0",
      "model_name": "LayoutModel",
      "state": {}
     },
     "0fd823d818d745a59459b962e94bac3a": {
      "model_module": "@jupyter-widgets/base",
      "model_module_version": "1.0.0",
      "model_name": "LayoutModel",
      "state": {}
     },
     "0fe6f8f30ef94655830193d419e41e25": {
      "model_module": "@jupyter-widgets/controls",
      "model_module_version": "1.0.0",
      "model_name": "SliderStyleModel",
      "state": {
       "description_width": ""
      }
     },
     "0ffacdeea28a4d518cd9b36addba4e47": {
      "model_module": "@jupyter-widgets/controls",
      "model_module_version": "1.0.0",
      "model_name": "SliderStyleModel",
      "state": {
       "description_width": ""
      }
     },
     "0ffba13b4b844a2785dfdaae4de2c6ff": {
      "model_module": "@jupyter-widgets/controls",
      "model_module_version": "1.0.0",
      "model_name": "IntSliderModel",
      "state": {
       "description": "green",
       "layout": "IPY_MODEL_f1e60e682a914d4b8be280189ba4970f",
       "max": 255,
       "style": "IPY_MODEL_0a7eaca5639f4a8fb1c9926e0d5e6460"
      }
     },
     "1007244066d04f76af8335f3d0eb323f": {
      "model_module": "@jupyter-widgets/controls",
      "model_module_version": "1.0.0",
      "model_name": "IntSliderModel",
      "state": {
       "description": "y",
       "layout": "IPY_MODEL_55509b020a6642a48b22b6e9b2d1953e",
       "min": -100,
       "style": "IPY_MODEL_767f88e822d64d89acdbe6cfe2d00b85"
      }
     },
     "10114f43e8c84d30acf13860209ef39d": {
      "model_module": "@jupyter-widgets/controls",
      "model_module_version": "1.0.0",
      "model_name": "SliderStyleModel",
      "state": {
       "description_width": ""
      }
     },
     "102f81a1da9d4025935e89118791cb7d": {
      "model_module": "@jupyter-widgets/base",
      "model_module_version": "1.0.0",
      "model_name": "LayoutModel",
      "state": {}
     },
     "103d0013f2164851a319ff6278d93457": {
      "model_module": "@jupyter-widgets/controls",
      "model_module_version": "1.0.0",
      "model_name": "SliderStyleModel",
      "state": {
       "description_width": ""
      }
     },
     "1054327e41f149d8993e8dc1c758389a": {
      "model_module": "@jupyter-widgets/controls",
      "model_module_version": "1.0.0",
      "model_name": "SliderStyleModel",
      "state": {
       "description_width": ""
      }
     },
     "1099c7ec884643e3a302c56a26a48516": {
      "model_module": "jp_proxy_widget",
      "model_module_version": "^0.3.4",
      "model_name": "JSProxyModel",
      "state": {
       "_model_module_version": "^0.3.4",
       "_send_counter": 2,
       "_view_module_version": "^0.3.4",
       "error_msg": "No error",
       "layout": "IPY_MODEL_97fd86653c0445ae813726681c636030",
       "rendered": true,
       "status": "Got results."
      }
     },
     "109a7c86c0064017938696b422530beb": {
      "model_module": "@jupyter-widgets/controls",
      "model_module_version": "1.0.0",
      "model_name": "DescriptionStyleModel",
      "state": {
       "description_width": ""
      }
     },
     "10bfddd03b0a4f2d89300d615bdcaaea": {
      "model_module": "@jupyter-widgets/base",
      "model_module_version": "1.0.0",
      "model_name": "LayoutModel",
      "state": {}
     },
     "10c537b6cd7f432e9e4ecb808650e5df": {
      "model_module": "@jupyter-widgets/controls",
      "model_module_version": "1.0.0",
      "model_name": "SliderStyleModel",
      "state": {
       "description_width": ""
      }
     },
     "111ac8670d7445278f45e70bb50dbd98": {
      "model_module": "@jupyter-widgets/base",
      "model_module_version": "1.0.0",
      "model_name": "LayoutModel",
      "state": {}
     },
     "114e89592ecf463994b3d44e55a4f21b": {
      "model_module": "@jupyter-widgets/controls",
      "model_module_version": "1.0.0",
      "model_name": "TabModel",
      "state": {
       "_titles": {
        "0": "Canvas",
        "1": "Snapshot"
       },
       "children": [
        "IPY_MODEL_8f0e874f1bb54531bd295b3b7f0aaec8",
        "IPY_MODEL_98a2afdb76074604a1cafa8c16393664"
       ],
       "layout": "IPY_MODEL_9d64662664ed47d5b4fc274ae7bc739c"
      }
     },
     "11725c45809344a4abd493179511a0f6": {
      "model_module": "@jupyter-widgets/base",
      "model_module_version": "1.0.0",
      "model_name": "LayoutModel",
      "state": {}
     },
     "11a254440ddf491399a7353d8dae11af": {
      "model_module": "@jupyter-widgets/controls",
      "model_module_version": "1.0.0",
      "model_name": "VBoxModel",
      "state": {
       "children": [
        "IPY_MODEL_1b6025002d6442a890c51907e57d5865",
        "IPY_MODEL_80b1da4b1fab4b1d9eea818ab76f779d"
       ],
       "layout": "IPY_MODEL_f170b3255cf242e49bb02f5f48d965a5"
      }
     },
     "11c5f59ec26b4c4da592ae8e89b38d47": {
      "model_module": "@jupyter-widgets/base",
      "model_module_version": "1.0.0",
      "model_name": "LayoutModel",
      "state": {}
     },
     "11d8c75a31fc47a68db22ba03fe70172": {
      "model_module": "@jupyter-widgets/base",
      "model_module_version": "1.0.0",
      "model_name": "LayoutModel",
      "state": {}
     },
     "11effc9b4d684044bac4a61fa0eacaa7": {
      "model_module": "@jupyter-widgets/base",
      "model_module_version": "1.0.0",
      "model_name": "LayoutModel",
      "state": {}
     },
     "120d49b4e746400da20e028973a20fe7": {
      "model_module": "@jupyter-widgets/controls",
      "model_module_version": "1.0.0",
      "model_name": "HTMLModel",
      "state": {
       "layout": "IPY_MODEL_053eeb61df224b709839b44ad5e51b19",
       "style": "IPY_MODEL_2af5751967594d488226afc3e3138e0b",
       "value": "<img src=\"interactive_circle.png\" id=\"snapshot_id_15_1536246643964\"/>\n <div id=\"snapshot_id_16_1536246643964\">interactive_circle.png</div>"
      }
     },
     "120f53b2f22744898f2dcba332c72471": {
      "model_module": "@jupyter-widgets/controls",
      "model_module_version": "1.0.0",
      "model_name": "IntSliderModel",
      "state": {
       "description": "y",
       "layout": "IPY_MODEL_a4a10e91ee514e8d8df3c62120e8ad7e",
       "min": -100,
       "style": "IPY_MODEL_4e85ca2ee6ce4dd8b293e0b42f3b4f56"
      }
     },
     "12133bd722a34099bd9ce66a13e0c5f9": {
      "model_module": "@jupyter-widgets/base",
      "model_module_version": "1.0.0",
      "model_name": "LayoutModel",
      "state": {}
     },
     "124093b343764e6087ec417bfa119728": {
      "model_module": "@jupyter-widgets/controls",
      "model_module_version": "1.0.0",
      "model_name": "DescriptionStyleModel",
      "state": {
       "description_width": ""
      }
     },
     "125cdc713dbf45e28d6018c9d5dfb4c9": {
      "model_module": "@jupyter-widgets/controls",
      "model_module_version": "1.0.0",
      "model_name": "SliderStyleModel",
      "state": {
       "description_width": ""
      }
     },
     "1282d3fa2f754b449a47f60ad0a3588d": {
      "model_module": "@jupyter-widgets/base",
      "model_module_version": "1.0.0",
      "model_name": "LayoutModel",
      "state": {}
     },
     "12a3242046b34ff591c74db7bf236a5c": {
      "model_module": "@jupyter-widgets/controls",
      "model_module_version": "1.0.0",
      "model_name": "VBoxModel",
      "state": {
       "_dom_classes": [
        "widget-interact"
       ],
       "children": [
        "IPY_MODEL_98a813ba7dca45c2b8edf6b8e9546508",
        "IPY_MODEL_1d1954f8861b474aab082cc4ac7996a8",
        "IPY_MODEL_f9ad8d21513547de90ca9045004db9fa",
        "IPY_MODEL_7fdc6cc7737c4e5cbf198155c702e7f2",
        "IPY_MODEL_04677a21e0b2442390fd49f6e9526c8b",
        "IPY_MODEL_bfe986d974c84706b6a41a8165cc18a5",
        "IPY_MODEL_c6b1d45510234e3d8d35ac54244f371c",
        "IPY_MODEL_86c35f9699ae467b8db928ca74dba34a",
        "IPY_MODEL_8e4a56c8101c40f1a14e61aaacdb2c8f",
        "IPY_MODEL_230e70817e9547c5963daa5665fbdd22",
        "IPY_MODEL_1e73d9abf7ae450f8ff2a199d73bdc56",
        "IPY_MODEL_ad9ac3883d7a4a2cb5551d0094173280"
       ],
       "layout": "IPY_MODEL_a4f2033e14044ccbb37742b372673847"
      }
     },
     "12d3316be6b6481580cf77c90e7e4fb7": {
      "model_module": "@jupyter-widgets/controls",
      "model_module_version": "1.0.0",
      "model_name": "SliderStyleModel",
      "state": {
       "description_width": ""
      }
     },
     "12eac598600b4fcf885de8204484653b": {
      "model_module": "@jupyter-widgets/controls",
      "model_module_version": "1.0.0",
      "model_name": "DropdownModel",
      "state": {
       "_options_labels": [
        "normal",
        "italic",
        "oblique"
       ],
       "description": "style",
       "index": 0,
       "layout": "IPY_MODEL_d40835334e7a4d7db5e985e5bb8ba613",
       "style": "IPY_MODEL_343faef62387451aac32a35eea1c7807"
      }
     },
     "1308b2fb398b4e878230528401d0ada8": {
      "model_module": "@jupyter-widgets/base",
      "model_module_version": "1.0.0",
      "model_name": "LayoutModel",
      "state": {}
     },
     "137c597f04934d4c9baf93a518bfb986": {
      "model_module": "@jupyter-widgets/base",
      "model_module_version": "1.0.0",
      "model_name": "LayoutModel",
      "state": {}
     },
     "13a97aadd03243c4a6edb1330a98b853": {
      "model_module": "@jupyter-widgets/controls",
      "model_module_version": "1.0.0",
      "model_name": "SliderStyleModel",
      "state": {
       "description_width": ""
      }
     },
     "13ad88bbd2294375abf6b1a9b1f69f56": {
      "model_module": "@jupyter-widgets/controls",
      "model_module_version": "1.0.0",
      "model_name": "IntSliderModel",
      "state": {
       "description": "red",
       "layout": "IPY_MODEL_4f61f9ef7a234855b84792c056e6cb32",
       "max": 255,
       "style": "IPY_MODEL_08235632ce8747a1a4c0d8bc3fdcdccb",
       "value": 255
      }
     },
     "13fe3afba30a4125b3f90f46deb767e2": {
      "model_module": "@jupyter-widgets/controls",
      "model_module_version": "1.0.0",
      "model_name": "HTMLModel",
      "state": {
       "layout": "IPY_MODEL_7db546cef0844e48b8d8176be83e1ffd",
       "style": "IPY_MODEL_2fbf0890873c42cd8fd803f0f94a1d74",
       "value": "<img src=\"interactive_text2.png\" id=\"snapshot_id_13_1536323996957\"/>\n <div id=\"snapshot_id_14_1536323996957\">interactive_text2.png</div>"
      }
     },
     "141f0da05dd043878ada6d01aabde1de": {
      "model_module": "@jupyter-widgets/controls",
      "model_module_version": "1.0.0",
      "model_name": "DescriptionStyleModel",
      "state": {
       "description_width": ""
      }
     },
     "143b40abd0c74a17ad2101fc0641b2b3": {
      "model_module": "@jupyter-widgets/base",
      "model_module_version": "1.0.0",
      "model_name": "LayoutModel",
      "state": {}
     },
     "144badcb5fbd449981ed86172490c0c4": {
      "model_module": "@jupyter-widgets/controls",
      "model_module_version": "1.0.0",
      "model_name": "FloatSliderModel",
      "state": {
       "description": "arc",
       "layout": "IPY_MODEL_a0e6c29185ba4a178c97daab2a966d73",
       "max": 6.283185307179586,
       "step": 0.1,
       "style": "IPY_MODEL_ddd3393332a5443e94ae144936613414",
       "value": 4.5
      }
     },
     "1450fa8e8341428298865d9f2482cf03": {
      "model_module": "@jupyter-widgets/base",
      "model_module_version": "1.0.0",
      "model_name": "LayoutModel",
      "state": {}
     },
     "146a607c903f469badb1bc31b9aba4c0": {
      "model_module": "@jupyter-widgets/controls",
      "model_module_version": "1.0.0",
      "model_name": "FloatSliderModel",
      "state": {
       "description": "alpha",
       "layout": "IPY_MODEL_8bd9c7f3f09a4c85b75550e67253e9d1",
       "max": 1,
       "step": 0.1,
       "style": "IPY_MODEL_bf61708c3c25461fa129665eb9f0b3ef",
       "value": 0.5
      }
     },
     "14b11e93c11e4d57a18430fb830bf4aa": {
      "model_module": "@jupyter-widgets/controls",
      "model_module_version": "1.0.0",
      "model_name": "SliderStyleModel",
      "state": {
       "description_width": ""
      }
     },
     "14c35364cb084aee90d725dd9d7c6247": {
      "model_module": "@jupyter-widgets/base",
      "model_module_version": "1.0.0",
      "model_name": "LayoutModel",
      "state": {}
     },
     "1508188053d547288e5eb3f6498d54ca": {
      "model_module": "@jupyter-widgets/base",
      "model_module_version": "1.0.0",
      "model_name": "LayoutModel",
      "state": {}
     },
     "158e53308e664d7497a92df704961415": {
      "model_module": "@jupyter-widgets/controls",
      "model_module_version": "1.0.0",
      "model_name": "IntSliderModel",
      "state": {
       "description": "red",
       "layout": "IPY_MODEL_d67b96605ae94b98a799d311d450e621",
       "max": 255,
       "style": "IPY_MODEL_b9c62fb34b264ee7a971e51710d74065",
       "value": 255
      }
     },
     "15c5acfb2fc545db9e3d668e35c57711": {
      "model_module": "@jupyter-widgets/output",
      "model_module_version": "1.0.0",
      "model_name": "OutputModel",
      "state": {
       "layout": "IPY_MODEL_2dfed08de1b847b3922417ffe1713046",
       "outputs": [
        {
         "ename": "NameError",
         "evalue": "global name 'rgba_int_strings' is not defined",
         "output_type": "error",
         "traceback": [
          "\u001b[0;31m---------------------------------------------------------------------------\u001b[0m",
          "\u001b[0;31mNameError\u001b[0m                                 Traceback (most recent call last)",
          "\u001b[0;32m//anaconda/lib/python2.7/site-packages/ipywidgets/widgets/interaction.pyc\u001b[0m in \u001b[0;36mupdate\u001b[0;34m(self, *args)\u001b[0m\n\u001b[1;32m    248\u001b[0m                     \u001b[0mvalue\u001b[0m \u001b[0;34m=\u001b[0m \u001b[0mwidget\u001b[0m\u001b[0;34m.\u001b[0m\u001b[0mget_interact_value\u001b[0m\u001b[0;34m(\u001b[0m\u001b[0;34m)\u001b[0m\u001b[0;34m\u001b[0m\u001b[0m\n\u001b[1;32m    249\u001b[0m                     \u001b[0mself\u001b[0m\u001b[0;34m.\u001b[0m\u001b[0mkwargs\u001b[0m\u001b[0;34m[\u001b[0m\u001b[0mwidget\u001b[0m\u001b[0;34m.\u001b[0m\u001b[0m_kwarg\u001b[0m\u001b[0;34m]\u001b[0m \u001b[0;34m=\u001b[0m \u001b[0mvalue\u001b[0m\u001b[0;34m\u001b[0m\u001b[0m\n\u001b[0;32m--> 250\u001b[0;31m                 \u001b[0mself\u001b[0m\u001b[0;34m.\u001b[0m\u001b[0mresult\u001b[0m \u001b[0;34m=\u001b[0m \u001b[0mself\u001b[0m\u001b[0;34m.\u001b[0m\u001b[0mf\u001b[0m\u001b[0;34m(\u001b[0m\u001b[0;34m**\u001b[0m\u001b[0mself\u001b[0m\u001b[0;34m.\u001b[0m\u001b[0mkwargs\u001b[0m\u001b[0;34m)\u001b[0m\u001b[0;34m\u001b[0m\u001b[0m\n\u001b[0m\u001b[1;32m    251\u001b[0m                 \u001b[0mshow_inline_matplotlib_plots\u001b[0m\u001b[0;34m(\u001b[0m\u001b[0;34m)\u001b[0m\u001b[0;34m\u001b[0m\u001b[0m\n\u001b[1;32m    252\u001b[0m                 \u001b[0;32mif\u001b[0m \u001b[0mself\u001b[0m\u001b[0;34m.\u001b[0m\u001b[0mauto_display\u001b[0m \u001b[0;32mand\u001b[0m \u001b[0mself\u001b[0m\u001b[0;34m.\u001b[0m\u001b[0mresult\u001b[0m \u001b[0;32mis\u001b[0m \u001b[0;32mnot\u001b[0m \u001b[0mNone\u001b[0m\u001b[0;34m:\u001b[0m\u001b[0;34m\u001b[0m\u001b[0m\n",
          "\u001b[0;32m<ipython-input-9-6f8586e1d8bf>\u001b[0m in \u001b[0;36mchange_circle\u001b[0;34m(x, y, r, red, green, blue, alpha)\u001b[0m\n\u001b[1;32m      6\u001b[0m def change_circle(x, y, r, \n\u001b[1;32m      7\u001b[0m                   red, green, blue, alpha):\n\u001b[0;32m----> 8\u001b[0;31m     \u001b[0mcolor\u001b[0m \u001b[0;34m=\u001b[0m \u001b[0mrgba\u001b[0m\u001b[0;34m(\u001b[0m\u001b[0mred\u001b[0m\u001b[0;34m,\u001b[0m \u001b[0mgreen\u001b[0m\u001b[0;34m,\u001b[0m \u001b[0mblue\u001b[0m\u001b[0;34m,\u001b[0m \u001b[0malpha\u001b[0m\u001b[0;34m)\u001b[0m\u001b[0;34m\u001b[0m\u001b[0m\n\u001b[0m\u001b[1;32m      9\u001b[0m     \u001b[0;32mprint\u001b[0m\u001b[0;34m(\u001b[0m\u001b[0;34m\"color is \"\u001b[0m \u001b[0;34m+\u001b[0m \u001b[0mrepr\u001b[0m\u001b[0;34m(\u001b[0m\u001b[0mcolor\u001b[0m\u001b[0;34m)\u001b[0m\u001b[0;34m)\u001b[0m\u001b[0;34m\u001b[0m\u001b[0m\n\u001b[1;32m     10\u001b[0m     \u001b[0mcolor\u001b[0m \u001b[0;34m=\u001b[0m \u001b[0;34m\"pink\"\u001b[0m\u001b[0;34m\u001b[0m\u001b[0m\n",
          "\u001b[0;32m<ipython-input-8-ebc989cf59e1>\u001b[0m in \u001b[0;36mrgba\u001b[0;34m(*rgba_sequence)\u001b[0m\n\u001b[1;32m      8\u001b[0m     \u001b[0mrgba_strings\u001b[0m \u001b[0;34m=\u001b[0m \u001b[0;34m[\u001b[0m\u001b[0mstr\u001b[0m\u001b[0;34m(\u001b[0m\u001b[0mint\u001b[0m\u001b[0;34m(\u001b[0m\u001b[0mx\u001b[0m\u001b[0;34m)\u001b[0m\u001b[0;34m)\u001b[0m \u001b[0;32mfor\u001b[0m \u001b[0mx\u001b[0m \u001b[0;32min\u001b[0m \u001b[0mrgba_sequence\u001b[0m\u001b[0;34m]\u001b[0m\u001b[0;34m\u001b[0m\u001b[0m\n\u001b[1;32m      9\u001b[0m     \u001b[0mrgba_strings\u001b[0m\u001b[0;34m[\u001b[0m\u001b[0;34m-\u001b[0m\u001b[0;36m1\u001b[0m\u001b[0;34m]\u001b[0m \u001b[0;34m=\u001b[0m \u001b[0mstr\u001b[0m\u001b[0;34m(\u001b[0m\u001b[0mrgba_sequence\u001b[0m\u001b[0;34m[\u001b[0m\u001b[0;34m-\u001b[0m\u001b[0;36m1\u001b[0m\u001b[0;34m]\u001b[0m\u001b[0;34m)\u001b[0m\u001b[0;34m\u001b[0m\u001b[0m\n\u001b[0;32m---> 10\u001b[0;31m     \u001b[0;32mreturn\u001b[0m \u001b[0;34m\"rgba(%s)\"\u001b[0m \u001b[0;34m%\u001b[0m \u001b[0;34m\",\"\u001b[0m\u001b[0;34m.\u001b[0m\u001b[0mjoin\u001b[0m\u001b[0;34m(\u001b[0m\u001b[0mrgba_int_strings\u001b[0m\u001b[0;34m)\u001b[0m\u001b[0;34m\u001b[0m\u001b[0m\n\u001b[0m",
          "\u001b[0;31mNameError\u001b[0m: global name 'rgba_int_strings' is not defined"
         ]
        }
       ]
      }
     },
     "1619dfd7c5284ab09aef1ec4d1e3d037": {
      "model_module": "jp_proxy_widget",
      "model_module_version": "^0.3.4",
      "model_name": "JSProxyModel",
      "state": {
       "_model_module_version": "^0.3.4",
       "_send_counter": 6,
       "_view_module_version": "^0.3.4",
       "error_msg": "No error",
       "layout": "IPY_MODEL_bb92eb26da034c888ca5a8298c238284",
       "rendered": true,
       "status": "Got results."
      }
     },
     "1641e3194b4b4c77a75745fa12bb73b2": {
      "model_module": "@jupyter-widgets/base",
      "model_module_version": "1.0.0",
      "model_name": "LayoutModel",
      "state": {}
     },
     "1664fb07bba348f582190d9fa1b70172": {
      "model_module": "@jupyter-widgets/controls",
      "model_module_version": "1.0.0",
      "model_name": "SliderStyleModel",
      "state": {
       "description_width": ""
      }
     },
     "16892d5ba53447568a8748308e7bbad8": {
      "model_module": "@jupyter-widgets/controls",
      "model_module_version": "1.0.0",
      "model_name": "IntSliderModel",
      "state": {
       "description": "blue",
       "layout": "IPY_MODEL_2608ab08ec564208bfde0d40ef9448e3",
       "max": 255,
       "style": "IPY_MODEL_67cff949f35c4797b3898bc2af60804a",
       "value": 171
      }
     },
     "169d67b236b24954b072c978d78c114a": {
      "model_module": "@jupyter-widgets/controls",
      "model_module_version": "1.0.0",
      "model_name": "DropdownModel",
      "state": {
       "_options_labels": [
        "normal",
        "italic",
        "oblique"
       ],
       "description": "style",
       "index": 0,
       "layout": "IPY_MODEL_2dc0b77e28cc46c5a97e1299ac2dadcf",
       "style": "IPY_MODEL_124093b343764e6087ec417bfa119728"
      }
     },
     "16a16f199b234ae8a11a777c97c734d2": {
      "model_module": "@jupyter-widgets/controls",
      "model_module_version": "1.0.0",
      "model_name": "TextModel",
      "state": {
       "description": "text",
       "layout": "IPY_MODEL_ccf9e6baf93b46e880a1c88628b57c52",
       "style": "IPY_MODEL_bbad56284a5e4f0485fbe28028ece3c5",
       "value": "Stella!"
      }
     },
     "16d341c7d0ed492cb5b510432cc4d078": {
      "model_module": "@jupyter-widgets/base",
      "model_module_version": "1.0.0",
      "model_name": "LayoutModel",
      "state": {}
     },
     "16f1d955b92d40338e926e3499083592": {
      "model_module": "@jupyter-widgets/controls",
      "model_module_version": "1.0.0",
      "model_name": "SliderStyleModel",
      "state": {
       "description_width": ""
      }
     },
     "173596b0295e4d1b91a6befc2cf6282c": {
      "model_module": "@jupyter-widgets/base",
      "model_module_version": "1.0.0",
      "model_name": "LayoutModel",
      "state": {}
     },
     "173b705d6da346a1b794de681834d292": {
      "model_module": "@jupyter-widgets/output",
      "model_module_version": "1.0.0",
      "model_name": "OutputModel",
      "state": {
       "layout": "IPY_MODEL_8979199eeae046aaa0ae638c3094acfc"
      }
     },
     "1758f42542104884a98a67f7127fa6de": {
      "model_module": "@jupyter-widgets/controls",
      "model_module_version": "1.0.0",
      "model_name": "DropdownModel",
      "state": {
       "_options_labels": [
        "bottom",
        "center"
       ],
       "description": "valign",
       "index": 0,
       "layout": "IPY_MODEL_839be13c0bfa4ea3a6a828eff2656369",
       "style": "IPY_MODEL_47007633e05d427f8f737455c3b14cde"
      }
     },
     "176f9de84ad24bb08f6e993c71c10a9f": {
      "model_module": "@jupyter-widgets/base",
      "model_module_version": "1.0.0",
      "model_name": "LayoutModel",
      "state": {}
     },
     "1770fa5ed30f4a1ab907a5d45240c708": {
      "model_module": "@jupyter-widgets/base",
      "model_module_version": "1.0.0",
      "model_name": "LayoutModel",
      "state": {}
     },
     "1772832bd0f942228790595ede6a083a": {
      "model_module": "@jupyter-widgets/base",
      "model_module_version": "1.0.0",
      "model_name": "LayoutModel",
      "state": {}
     },
     "178ffe95edb04dedaa954257a5a89f9c": {
      "model_module": "@jupyter-widgets/controls",
      "model_module_version": "1.0.0",
      "model_name": "SliderStyleModel",
      "state": {
       "description_width": ""
      }
     },
     "17967d75e0374b119b8d5f166ff449b4": {
      "model_module": "@jupyter-widgets/base",
      "model_module_version": "1.0.0",
      "model_name": "LayoutModel",
      "state": {}
     },
     "17b8f446075a4e09b09620b699bdc6e4": {
      "model_module": "@jupyter-widgets/controls",
      "model_module_version": "1.0.0",
      "model_name": "IntSliderModel",
      "state": {
       "description": "x",
       "layout": "IPY_MODEL_2649bf303cc64af0a158a4897ab055d2",
       "min": -100,
       "style": "IPY_MODEL_eeb34d606c7a40518551bf6836ac8c31"
      }
     },
     "182e90ccb34841028ebf955bdfe849ab": {
      "model_module": "@jupyter-widgets/controls",
      "model_module_version": "1.0.0",
      "model_name": "HTMLModel",
      "state": {
       "layout": "IPY_MODEL_18bb96891e2b4c7d841acc5c701ef728",
       "style": "IPY_MODEL_971730905f58425ab4aaaeb3c9ab05ee",
       "value": "<img src=\"interactive_text.png\" id=\"snapshot_id_21_1536320239105\"/>\n <div id=\"snapshot_id_22_1536320239105\">interactive_text.png</div>"
      }
     },
     "183b5a391e6e4b2cb51db0197fab2790": {
      "model_module": "@jupyter-widgets/base",
      "model_module_version": "1.0.0",
      "model_name": "LayoutModel",
      "state": {}
     },
     "189a1bc7509c43e39cf08c1277854895": {
      "model_module": "@jupyter-widgets/base",
      "model_module_version": "1.0.0",
      "model_name": "LayoutModel",
      "state": {}
     },
     "189f97ea2cb04fef8a5248e520f372c9": {
      "model_module": "@jupyter-widgets/base",
      "model_module_version": "1.0.0",
      "model_name": "LayoutModel",
      "state": {}
     },
     "18bb96891e2b4c7d841acc5c701ef728": {
      "model_module": "@jupyter-widgets/base",
      "model_module_version": "1.0.0",
      "model_name": "LayoutModel",
      "state": {}
     },
     "18bc4771174745898713eecc3bde7e5c": {
      "model_module": "@jupyter-widgets/base",
      "model_module_version": "1.0.0",
      "model_name": "LayoutModel",
      "state": {}
     },
     "18d30b04854c48728cb1a2fdb9de96d9": {
      "model_module": "@jupyter-widgets/controls",
      "model_module_version": "1.0.0",
      "model_name": "SliderStyleModel",
      "state": {
       "description_width": ""
      }
     },
     "18d3e296ac384c2e95625188e3cae335": {
      "model_module": "@jupyter-widgets/controls",
      "model_module_version": "1.0.0",
      "model_name": "IntSliderModel",
      "state": {
       "description": "red",
       "layout": "IPY_MODEL_848ca7aae6e04cd18dee9e9bf9e4ccc8",
       "max": 255,
       "style": "IPY_MODEL_f5cf1a9f6189407b90fae19ce832360a",
       "value": 255
      }
     },
     "19567e63837e48fa8acc7fe59f47ac91": {
      "model_module": "@jupyter-widgets/controls",
      "model_module_version": "1.0.0",
      "model_name": "IntSliderModel",
      "state": {
       "description": "blue",
       "layout": "IPY_MODEL_00cdca98bd6d4b90929842bdca03c560",
       "max": 255,
       "style": "IPY_MODEL_a39ef909be504028be725b7bb35c32b8",
       "value": 255
      }
     },
     "1994a870ccce4fc38f9d6d11bdf9e62a": {
      "model_module": "@jupyter-widgets/base",
      "model_module_version": "1.0.0",
      "model_name": "LayoutModel",
      "state": {}
     },
     "19972c9a86934b92bd07da8099bd424f": {
      "model_module": "jp_proxy_widget",
      "model_module_version": "^0.3.4",
      "model_name": "JSProxyModel",
      "state": {
       "_model_module_version": "^0.3.4",
       "_send_counter": 6,
       "_view_module_version": "^0.3.4",
       "error_msg": "No error",
       "layout": "IPY_MODEL_c4a88d8877ee440a964ece7f9eb17f0b",
       "rendered": true,
       "status": "Got results."
      }
     },
     "19b4ed31efd644f989464e0e904b27fb": {
      "model_module": "@jupyter-widgets/base",
      "model_module_version": "1.0.0",
      "model_name": "LayoutModel",
      "state": {}
     },
     "19fde8064ef041d68998d5c0edf13668": {
      "model_module": "@jupyter-widgets/controls",
      "model_module_version": "1.0.0",
      "model_name": "SliderStyleModel",
      "state": {
       "description_width": ""
      }
     },
     "1a8db959954146938074e15713b3f6e8": {
      "model_module": "@jupyter-widgets/base",
      "model_module_version": "1.0.0",
      "model_name": "LayoutModel",
      "state": {}
     },
     "1a8f82465f4a47b9981cb3271fe9314b": {
      "model_module": "@jupyter-widgets/base",
      "model_module_version": "1.0.0",
      "model_name": "LayoutModel",
      "state": {}
     },
     "1b236a9ebc484a3fa96ed4c9def7abd1": {
      "model_module": "@jupyter-widgets/controls",
      "model_module_version": "1.0.0",
      "model_name": "IntSliderModel",
      "state": {
       "description": "green",
       "layout": "IPY_MODEL_61cd665651c045da97a39f18e32b8b97",
       "max": 255,
       "style": "IPY_MODEL_1d12441914304411b7f43e1171aaf9e0"
      }
     },
     "1b2d64fde9424bc5b929a1f3341d037c": {
      "model_module": "@jupyter-widgets/controls",
      "model_module_version": "1.0.0",
      "model_name": "TabModel",
      "state": {
       "_titles": {
        "0": "Canvas",
        "1": "Snapshot"
       },
       "children": [
        "IPY_MODEL_a0259a62757b49b882506178f568333f",
        "IPY_MODEL_c2de558a724e4b2099ab4b23c1cc7c38"
       ],
       "layout": "IPY_MODEL_02851cf953924abfa562b63086d220c2"
      }
     },
     "1b6025002d6442a890c51907e57d5865": {
      "model_module": "jp_proxy_widget",
      "model_module_version": "^0.3.4",
      "model_name": "JSProxyModel",
      "state": {
       "_model_module_version": "^0.3.4",
       "_send_counter": 6,
       "_view_module_version": "^0.3.4",
       "error_msg": "No error",
       "layout": "IPY_MODEL_93e0f1e559e3402e81850228a140592c",
       "rendered": true,
       "status": "Got results."
      }
     },
     "1b7c33e289144757a7343313baa73782": {
      "model_module": "@jupyter-widgets/controls",
      "model_module_version": "1.0.0",
      "model_name": "IntSliderModel",
      "state": {
       "description": "red",
       "layout": "IPY_MODEL_52cd4395d0154213bf112dec2227c1c4",
       "max": 255,
       "style": "IPY_MODEL_60317f55f3924232af762649476ea7f7",
       "value": 255
      }
     },
     "1bc62c0808d84c36865ddee786cc6ca9": {
      "model_module": "@jupyter-widgets/controls",
      "model_module_version": "1.0.0",
      "model_name": "SliderStyleModel",
      "state": {
       "description_width": ""
      }
     },
     "1bdbc8196b4f42079662e8d683bf680f": {
      "model_module": "@jupyter-widgets/base",
      "model_module_version": "1.0.0",
      "model_name": "LayoutModel",
      "state": {}
     },
     "1bdf6f48ccb644ba98c666e5630ef289": {
      "model_module": "@jupyter-widgets/controls",
      "model_module_version": "1.0.0",
      "model_name": "SliderStyleModel",
      "state": {
       "description_width": ""
      }
     },
     "1bec8dd2ae084d1e876140480580abb2": {
      "model_module": "@jupyter-widgets/base",
      "model_module_version": "1.0.0",
      "model_name": "LayoutModel",
      "state": {}
     },
     "1bff957d92294896bb56ea31d60cef6b": {
      "model_module": "@jupyter-widgets/controls",
      "model_module_version": "1.0.0",
      "model_name": "SliderStyleModel",
      "state": {
       "description_width": ""
      }
     },
     "1c26820a71af4bde8fef972fedbad611": {
      "model_module": "@jupyter-widgets/base",
      "model_module_version": "1.0.0",
      "model_name": "LayoutModel",
      "state": {}
     },
     "1c551441a5c94b669ba7168c378dc677": {
      "model_module": "@jupyter-widgets/controls",
      "model_module_version": "1.0.0",
      "model_name": "IntSliderModel",
      "state": {
       "description": "y",
       "layout": "IPY_MODEL_eff5099fd2354346a413578c0f671f09",
       "min": -100,
       "style": "IPY_MODEL_cde03d6fa0174ff686022105b6c81c9b"
      }
     },
     "1c63a40331244f0da4d5915192cbefe3": {
      "model_module": "@jupyter-widgets/base",
      "model_module_version": "1.0.0",
      "model_name": "LayoutModel",
      "state": {}
     },
     "1c85672996c24e0a804c2dac2697a4ca": {
      "model_module": "@jupyter-widgets/output",
      "model_module_version": "1.0.0",
      "model_name": "OutputModel",
      "state": {
       "layout": "IPY_MODEL_03778b497e994d2393e8017cbb0bb009"
      }
     },
     "1ca4f1262179487e9d29a3edcaf82297": {
      "model_module": "@jupyter-widgets/base",
      "model_module_version": "1.0.0",
      "model_name": "LayoutModel",
      "state": {}
     },
     "1cd41c8313ed44d68d4058eafee4da87": {
      "model_module": "@jupyter-widgets/controls",
      "model_module_version": "1.0.0",
      "model_name": "SliderStyleModel",
      "state": {
       "description_width": ""
      }
     },
     "1cebc6ca142b426ca866e00db12afa37": {
      "model_module": "@jupyter-widgets/base",
      "model_module_version": "1.0.0",
      "model_name": "LayoutModel",
      "state": {}
     },
     "1d12441914304411b7f43e1171aaf9e0": {
      "model_module": "@jupyter-widgets/controls",
      "model_module_version": "1.0.0",
      "model_name": "SliderStyleModel",
      "state": {
       "description_width": ""
      }
     },
     "1d1954f8861b474aab082cc4ac7996a8": {
      "model_module": "@jupyter-widgets/controls",
      "model_module_version": "1.0.0",
      "model_name": "IntSliderModel",
      "state": {
       "description": "y",
       "layout": "IPY_MODEL_de5e9366588d41f780d0a3642db3bef7",
       "min": -100,
       "style": "IPY_MODEL_221cc17a24774bbb8356e69a04b4380e",
       "value": -100
      }
     },
     "1d3ed422da5b4a388bf9fb98fce076ad": {
      "model_module": "@jupyter-widgets/controls",
      "model_module_version": "1.0.0",
      "model_name": "SliderStyleModel",
      "state": {
       "description_width": ""
      }
     },
     "1d5d641b801c4e0abcd55fef0f2a4859": {
      "model_module": "@jupyter-widgets/controls",
      "model_module_version": "1.0.0",
      "model_name": "SliderStyleModel",
      "state": {
       "description_width": ""
      }
     },
     "1d8bd9ca8ca2480b928c1aac8022d601": {
      "model_module": "@jupyter-widgets/base",
      "model_module_version": "1.0.0",
      "model_name": "LayoutModel",
      "state": {}
     },
     "1d8c5b1ec77544638818df9a404d2793": {
      "model_module": "@jupyter-widgets/controls",
      "model_module_version": "1.0.0",
      "model_name": "IntSliderModel",
      "state": {
       "description": "y",
       "layout": "IPY_MODEL_b30542ec67c940128ae126e2e41a6119",
       "min": -100,
       "style": "IPY_MODEL_4fd3845a627b42dc8e304b676aa98450"
      }
     },
     "1d95cb6fa5934b18bfca058c30c09ee5": {
      "model_module": "@jupyter-widgets/base",
      "model_module_version": "1.0.0",
      "model_name": "LayoutModel",
      "state": {}
     },
     "1d9dd1cf0f77498fa2d2997f50835c54": {
      "model_module": "@jupyter-widgets/controls",
      "model_module_version": "1.0.0",
      "model_name": "IntSliderModel",
      "state": {
       "description": "degrees",
       "layout": "IPY_MODEL_3b53fd74ac174c6e86a35c3fd37f7627",
       "max": 360,
       "min": -360,
       "style": "IPY_MODEL_8a8031e371fc4800a9c521b0d19d8e62"
      }
     },
     "1deb3f53ba704c21a8990d4c59f978f8": {
      "model_module": "@jupyter-widgets/base",
      "model_module_version": "1.0.0",
      "model_name": "LayoutModel",
      "state": {}
     },
     "1df1009aefe24ebdbec792e483c30b53": {
      "model_module": "@jupyter-widgets/base",
      "model_module_version": "1.0.0",
      "model_name": "LayoutModel",
      "state": {}
     },
     "1e21103892174eb2b5ee60b0f38442d7": {
      "model_module": "@jupyter-widgets/base",
      "model_module_version": "1.0.0",
      "model_name": "LayoutModel",
      "state": {}
     },
     "1e2b0a8d20b046b2b19d8fce885027c0": {
      "model_module": "@jupyter-widgets/base",
      "model_module_version": "1.0.0",
      "model_name": "LayoutModel",
      "state": {}
     },
     "1e5614a3190644ec825933d20236f387": {
      "model_module": "@jupyter-widgets/base",
      "model_module_version": "1.0.0",
      "model_name": "LayoutModel",
      "state": {}
     },
     "1e73d9abf7ae450f8ff2a199d73bdc56": {
      "model_module": "@jupyter-widgets/controls",
      "model_module_version": "1.0.0",
      "model_name": "FloatSliderModel",
      "state": {
       "description": "alpha",
       "layout": "IPY_MODEL_0fd823d818d745a59459b962e94bac3a",
       "max": 1,
       "step": 0.1,
       "style": "IPY_MODEL_c63c46a1b8724c8f848ac25c31265a97",
       "value": 0.6
      }
     },
     "1f6c978c65564c4e8b378b68882dc0a1": {
      "model_module": "@jupyter-widgets/controls",
      "model_module_version": "1.0.0",
      "model_name": "SliderStyleModel",
      "state": {
       "description_width": ""
      }
     },
     "20077546be7546fbaa9a8e354152ffa6": {
      "model_module": "@jupyter-widgets/controls",
      "model_module_version": "1.0.0",
      "model_name": "TabModel",
      "state": {
       "_titles": {
        "0": "Canvas",
        "1": "Snapshot"
       },
       "children": [
        "IPY_MODEL_5aae51f7a2664bb491fa4d63bc4af117",
        "IPY_MODEL_fad5b7bb66454901be95b39476068030"
       ],
       "layout": "IPY_MODEL_a2d0a28866a34d2795e782280336c51b",
       "selected_index": 1
      }
     },
     "201194823eac4061aea9989626d7a85a": {
      "model_module": "@jupyter-widgets/base",
      "model_module_version": "1.0.0",
      "model_name": "LayoutModel",
      "state": {}
     },
     "20186b44b3404b2e8ce165d2abc42c9d": {
      "model_module": "@jupyter-widgets/base",
      "model_module_version": "1.0.0",
      "model_name": "LayoutModel",
      "state": {}
     },
     "2044b5b4aac2498aa782e23bc5294e1d": {
      "model_module": "@jupyter-widgets/controls",
      "model_module_version": "1.0.0",
      "model_name": "SliderStyleModel",
      "state": {
       "description_width": ""
      }
     },
     "2055576160234dc99d6e1929319add1a": {
      "model_module": "@jupyter-widgets/base",
      "model_module_version": "1.0.0",
      "model_name": "LayoutModel",
      "state": {}
     },
     "20818d221903493088f277861d60ffd8": {
      "model_module": "@jupyter-widgets/base",
      "model_module_version": "1.0.0",
      "model_name": "LayoutModel",
      "state": {}
     },
     "20b4d73f915f43a5be5147e599adcab3": {
      "model_module": "@jupyter-widgets/base",
      "model_module_version": "1.0.0",
      "model_name": "LayoutModel",
      "state": {}
     },
     "20bc13538ca74bf0863bd2299f88da79": {
      "model_module": "@jupyter-widgets/controls",
      "model_module_version": "1.0.0",
      "model_name": "IntSliderModel",
      "state": {
       "description": "degrees",
       "layout": "IPY_MODEL_ea37af0ef8b24e00b405dafc8dc23883",
       "max": 360,
       "min": -360,
       "style": "IPY_MODEL_c49418d769ea4470b0bb4d32c0af7d78"
      }
     },
     "20c311924a34422ab254c133edde5b01": {
      "model_module": "@jupyter-widgets/base",
      "model_module_version": "1.0.0",
      "model_name": "LayoutModel",
      "state": {}
     },
     "211c194813464fabb8ac03cc5fa08c83": {
      "model_module": "@jupyter-widgets/controls",
      "model_module_version": "1.0.0",
      "model_name": "DropdownModel",
      "state": {
       "_options_labels": [
        "bottom",
        "center"
       ],
       "description": "valign",
       "index": 0,
       "layout": "IPY_MODEL_bfe7e21eb50a496d8ce16c3d6073bb72",
       "style": "IPY_MODEL_218245bd369b477388e7ea0a4a55ac50"
      }
     },
     "215be76950b64d469f5cac89df9cf8d3": {
      "model_module": "@jupyter-widgets/controls",
      "model_module_version": "1.0.0",
      "model_name": "SliderStyleModel",
      "state": {
       "description_width": ""
      }
     },
     "215dc50a17774c43acba346455672a44": {
      "model_module": "@jupyter-widgets/base",
      "model_module_version": "1.0.0",
      "model_name": "LayoutModel",
      "state": {}
     },
     "2176e153306d4c2f97fec51cb7966a91": {
      "model_module": "@jupyter-widgets/controls",
      "model_module_version": "1.0.0",
      "model_name": "FloatSliderModel",
      "state": {
       "description": "arc",
       "layout": "IPY_MODEL_74b2742b1bfc45aca3cb643243834a8c",
       "max": 6.383185307179586,
       "step": 0.1,
       "style": "IPY_MODEL_8d3de9c3d8984d0dadfe5d788b034158",
       "value": 6.283185307179586
      }
     },
     "218245bd369b477388e7ea0a4a55ac50": {
      "model_module": "@jupyter-widgets/controls",
      "model_module_version": "1.0.0",
      "model_name": "DescriptionStyleModel",
      "state": {
       "description_width": ""
      }
     },
     "218f5d500b394e2fb3d61a769c482a20": {
      "model_module": "@jupyter-widgets/controls",
      "model_module_version": "1.0.0",
      "model_name": "IntSliderModel",
      "state": {
       "description": "points",
       "layout": "IPY_MODEL_f0563a1b051d42279bd0c471879f7100",
       "style": "IPY_MODEL_e44b0f26ce1d42c4b21b8def7676ca57",
       "value": 44
      }
     },
     "21afacf8aa434c3086ccad323de88de6": {
      "model_module": "@jupyter-widgets/controls",
      "model_module_version": "1.0.0",
      "model_name": "DescriptionStyleModel",
      "state": {
       "description_width": ""
      }
     },
     "21d381f803b8484aae27273d3599000f": {
      "model_module": "@jupyter-widgets/controls",
      "model_module_version": "1.0.0",
      "model_name": "SliderStyleModel",
      "state": {
       "description_width": ""
      }
     },
     "21e329fa4faf45089314e21b173484d1": {
      "model_module": "@jupyter-widgets/base",
      "model_module_version": "1.0.0",
      "model_name": "LayoutModel",
      "state": {}
     },
     "220d7a6577b747cf8020e694eaacc517": {
      "model_module": "@jupyter-widgets/controls",
      "model_module_version": "1.0.0",
      "model_name": "VBoxModel",
      "state": {
       "children": [
        "IPY_MODEL_78a36bc249644c3abc87b50dc88506bb",
        "IPY_MODEL_5cae9cd0839d460f8c9c083ef5787246"
       ],
       "layout": "IPY_MODEL_5bc86fe162074d7e9b337fe205a9f53c"
      }
     },
     "221679ad47b147a48c2b9087fee5a816": {
      "model_module": "@jupyter-widgets/controls",
      "model_module_version": "1.0.0",
      "model_name": "DropdownModel",
      "state": {
       "_options_labels": [
        "bottom",
        "center"
       ],
       "description": "valign",
       "index": 0,
       "layout": "IPY_MODEL_65e2c24b51ed4be4a990006233d1c964",
       "style": "IPY_MODEL_6dab31136212497a9a7c238ba8247df7"
      }
     },
     "221cc17a24774bbb8356e69a04b4380e": {
      "model_module": "@jupyter-widgets/controls",
      "model_module_version": "1.0.0",
      "model_name": "SliderStyleModel",
      "state": {
       "description_width": ""
      }
     },
     "2222e6306a6b4bf19c8d19573a9710be": {
      "model_module": "@jupyter-widgets/base",
      "model_module_version": "1.0.0",
      "model_name": "LayoutModel",
      "state": {}
     },
     "224dc997d4a643e9a7b3b31aabc1e9f2": {
      "model_module": "@jupyter-widgets/base",
      "model_module_version": "1.0.0",
      "model_name": "LayoutModel",
      "state": {}
     },
     "22583889de3446cbb69df9633d825d9e": {
      "model_module": "@jupyter-widgets/base",
      "model_module_version": "1.0.0",
      "model_name": "LayoutModel",
      "state": {}
     },
     "22992061a5ba40fd8b836cec63a34fa7": {
      "model_module": "@jupyter-widgets/base",
      "model_module_version": "1.0.0",
      "model_name": "LayoutModel",
      "state": {}
     },
     "22d2da0e1af14383a000d8bb17d69df9": {
      "model_module": "@jupyter-widgets/controls",
      "model_module_version": "1.0.0",
      "model_name": "IntSliderModel",
      "state": {
       "description": "y",
       "layout": "IPY_MODEL_dec3fa695f0d450b85298ad3b5ffcbdb",
       "min": -100,
       "style": "IPY_MODEL_0c60d548fb5b46329ed9f59a07a80d5f"
      }
     },
     "230e70817e9547c5963daa5665fbdd22": {
      "model_module": "@jupyter-widgets/controls",
      "model_module_version": "1.0.0",
      "model_name": "IntSliderModel",
      "state": {
       "description": "blue",
       "layout": "IPY_MODEL_42e7a8305b054c398961897cbac89c79",
       "max": 255,
       "style": "IPY_MODEL_09f9e84dc0b24f3395212e5afb68a236",
       "value": 248
      }
     },
     "232ea3afd38f4320b9d312aca6b15ef9": {
      "model_module": "@jupyter-widgets/base",
      "model_module_version": "1.0.0",
      "model_name": "LayoutModel",
      "state": {}
     },
     "238aec0d86064022b4f816234b5989a2": {
      "model_module": "@jupyter-widgets/base",
      "model_module_version": "1.0.0",
      "model_name": "LayoutModel",
      "state": {}
     },
     "2400671700b64c99a2b65e1898f8c0a5": {
      "model_module": "@jupyter-widgets/base",
      "model_module_version": "1.0.0",
      "model_name": "LayoutModel",
      "state": {}
     },
     "2420c2c46ef54c19b7f63a2b4cad71d9": {
      "model_module": "@jupyter-widgets/controls",
      "model_module_version": "1.0.0",
      "model_name": "FloatSliderModel",
      "state": {
       "description": "alpha",
       "layout": "IPY_MODEL_6ba51923715d4e3db826f58c885c9ea4",
       "max": 1,
       "step": 0.1,
       "style": "IPY_MODEL_350a5346c79b4a808a210a5e66069a45",
       "value": 1
      }
     },
     "244c5ce522f04b528717bfe3997c4be9": {
      "model_module": "@jupyter-widgets/controls",
      "model_module_version": "1.0.0",
      "model_name": "SliderStyleModel",
      "state": {
       "description_width": ""
      }
     },
     "24527cb028fc4366a60ff6d4e3deb435": {
      "model_module": "@jupyter-widgets/base",
      "model_module_version": "1.0.0",
      "model_name": "LayoutModel",
      "state": {}
     },
     "24c5457a74644dc4ac126d3efda57e68": {
      "model_module": "@jupyter-widgets/controls",
      "model_module_version": "1.0.0",
      "model_name": "SliderStyleModel",
      "state": {
       "description_width": ""
      }
     },
     "24c9845d365e48e4ba2d19cfbe577220": {
      "model_module": "jp_proxy_widget",
      "model_module_version": "^0.3.4",
      "model_name": "JSProxyModel",
      "state": {
       "_model_module_version": "^0.3.4",
       "_send_counter": 2,
       "_view_module_version": "^0.3.4",
       "error_msg": "No error",
       "layout": "IPY_MODEL_4f61ecb4d9db4af9a89070c29d0bfbbb",
       "rendered": true,
       "status": "Got results."
      }
     },
     "24d7df0fd6094301b21c7aa7feb3e24a": {
      "model_module": "@jupyter-widgets/base",
      "model_module_version": "1.0.0",
      "model_name": "LayoutModel",
      "state": {}
     },
     "2505942f7b6e48358994d2d1a2be6db6": {
      "model_module": "@jupyter-widgets/base",
      "model_module_version": "1.0.0",
      "model_name": "LayoutModel",
      "state": {}
     },
     "25255b2251d04d9bbf57a93c43bb80b0": {
      "model_module": "@jupyter-widgets/controls",
      "model_module_version": "1.0.0",
      "model_name": "DropdownModel",
      "state": {
       "_options_labels": [
        "times",
        "courier",
        "arial"
       ],
       "description": "family",
       "index": 0,
       "layout": "IPY_MODEL_464fb5516b2843e0822a385fe55c9fe0",
       "style": "IPY_MODEL_ba23bd1754934993b601ca90f4099a69"
      }
     },
     "252c075199c644e4b2e2c95360278243": {
      "model_module": "@jupyter-widgets/base",
      "model_module_version": "1.0.0",
      "model_name": "LayoutModel",
      "state": {}
     },
     "2542c7de95084c5fa39c34b5bb97cd55": {
      "model_module": "@jupyter-widgets/controls",
      "model_module_version": "1.0.0",
      "model_name": "SliderStyleModel",
      "state": {
       "description_width": ""
      }
     },
     "258a037f9c5d4f1ab7e73280fcb610bb": {
      "model_module": "@jupyter-widgets/base",
      "model_module_version": "1.0.0",
      "model_name": "LayoutModel",
      "state": {}
     },
     "25f711c919fc42c5acf1251267909e68": {
      "model_module": "@jupyter-widgets/base",
      "model_module_version": "1.0.0",
      "model_name": "LayoutModel",
      "state": {}
     },
     "2608ab08ec564208bfde0d40ef9448e3": {
      "model_module": "@jupyter-widgets/base",
      "model_module_version": "1.0.0",
      "model_name": "LayoutModel",
      "state": {}
     },
     "2649bf303cc64af0a158a4897ab055d2": {
      "model_module": "@jupyter-widgets/base",
      "model_module_version": "1.0.0",
      "model_name": "LayoutModel",
      "state": {}
     },
     "2673a391622a480d8fe2094753a354c8": {
      "model_module": "@jupyter-widgets/base",
      "model_module_version": "1.0.0",
      "model_name": "LayoutModel",
      "state": {}
     },
     "267d05ac300a4e71a7f705e0e60043c8": {
      "model_module": "@jupyter-widgets/controls",
      "model_module_version": "1.0.0",
      "model_name": "SliderStyleModel",
      "state": {
       "description_width": ""
      }
     },
     "26bebf5448154bd4b302375d200cc359": {
      "model_module": "@jupyter-widgets/controls",
      "model_module_version": "1.0.0",
      "model_name": "SliderStyleModel",
      "state": {
       "description_width": ""
      }
     },
     "26e1911d764a456db6689bce605a8bb3": {
      "model_module": "@jupyter-widgets/base",
      "model_module_version": "1.0.0",
      "model_name": "LayoutModel",
      "state": {}
     },
     "2715990fa5714fc6a0fc16e71955286c": {
      "model_module": "@jupyter-widgets/controls",
      "model_module_version": "1.0.0",
      "model_name": "SliderStyleModel",
      "state": {
       "description_width": ""
      }
     },
     "271ca229989f447aaa43598b1ed6be3e": {
      "model_module": "@jupyter-widgets/controls",
      "model_module_version": "1.0.0",
      "model_name": "TabModel",
      "state": {
       "_titles": {
        "0": "Canvas",
        "1": "Snapshot"
       },
       "children": [
        "IPY_MODEL_ca7539963ab04407ba43c4836e2034bc",
        "IPY_MODEL_614cb14431504f7eaa8060eb2c6605ed"
       ],
       "layout": "IPY_MODEL_f56bb029864a4eb3b037e9f5c955792a",
       "selected_index": 1
      }
     },
     "27470b160bb24bc0bd8384a9293a0711": {
      "model_module": "@jupyter-widgets/controls",
      "model_module_version": "1.0.0",
      "model_name": "SliderStyleModel",
      "state": {
       "description_width": ""
      }
     },
     "278761cef79a4074836119b8b0222f88": {
      "model_module": "@jupyter-widgets/base",
      "model_module_version": "1.0.0",
      "model_name": "LayoutModel",
      "state": {}
     },
     "278c14b15124447588f0c5b9b1090a1e": {
      "model_module": "@jupyter-widgets/controls",
      "model_module_version": "1.0.0",
      "model_name": "IntSliderModel",
      "state": {
       "description": "r",
       "layout": "IPY_MODEL_4ef993eb67774642bd48a4c780196768",
       "style": "IPY_MODEL_a4588cc0de184bc8832320fb76949505",
       "value": 50
      }
     },
     "27d3b3ea13584e46926b5b223ae93d40": {
      "model_module": "@jupyter-widgets/base",
      "model_module_version": "1.0.0",
      "model_name": "LayoutModel",
      "state": {}
     },
     "27e95392e3e845338221604651b5b91e": {
      "model_module": "@jupyter-widgets/base",
      "model_module_version": "1.0.0",
      "model_name": "LayoutModel",
      "state": {}
     },
     "28673f79b0a94a80900e51c7e398509c": {
      "model_module": "@jupyter-widgets/base",
      "model_module_version": "1.0.0",
      "model_name": "LayoutModel",
      "state": {}
     },
     "287cd41b851146269e275908f48cd2d7": {
      "model_module": "@jupyter-widgets/controls",
      "model_module_version": "1.0.0",
      "model_name": "HTMLModel",
      "state": {
       "layout": "IPY_MODEL_a796e87e80984babb3aea6f8278446c4",
       "style": "IPY_MODEL_43380f299241427bb11ab4ba067f8be4",
       "value": "<img src=\"interactive_circle2.png\" id=\"snapshot_id_8_1536250118617\"/>\n <div id=\"snapshot_id_9_1536250118617\">interactive_circle2.png</div>"
      }
     },
     "289a0153c9a14816a57ad94f5c55828e": {
      "model_module": "@jupyter-widgets/controls",
      "model_module_version": "1.0.0",
      "model_name": "IntSliderModel",
      "state": {
       "description": "r",
       "layout": "IPY_MODEL_1a8f82465f4a47b9981cb3271fe9314b",
       "style": "IPY_MODEL_2044b5b4aac2498aa782e23bc5294e1d",
       "value": 39
      }
     },
     "28a6a0f2d17441b8851d635931c10fb0": {
      "model_module": "@jupyter-widgets/output",
      "model_module_version": "1.0.0",
      "model_name": "OutputModel",
      "state": {
       "layout": "IPY_MODEL_78969b3aa7f44102b6754757480491d8",
       "outputs": [
        {
         "ename": "NameError",
         "evalue": "global name 'h' is not defined",
         "output_type": "error",
         "traceback": [
          "\u001b[0;31m---------------------------------------------------------------------------\u001b[0m",
          "\u001b[0;31mNameError\u001b[0m                                 Traceback (most recent call last)",
          "\u001b[0;32m//anaconda/lib/python2.7/site-packages/ipywidgets/widgets/interaction.pyc\u001b[0m in \u001b[0;36mupdate\u001b[0;34m(self, *args)\u001b[0m\n\u001b[1;32m    248\u001b[0m                     \u001b[0mvalue\u001b[0m \u001b[0;34m=\u001b[0m \u001b[0mwidget\u001b[0m\u001b[0;34m.\u001b[0m\u001b[0mget_interact_value\u001b[0m\u001b[0;34m(\u001b[0m\u001b[0;34m)\u001b[0m\u001b[0;34m\u001b[0m\u001b[0m\n\u001b[1;32m    249\u001b[0m                     \u001b[0mself\u001b[0m\u001b[0;34m.\u001b[0m\u001b[0mkwargs\u001b[0m\u001b[0;34m[\u001b[0m\u001b[0mwidget\u001b[0m\u001b[0;34m.\u001b[0m\u001b[0m_kwarg\u001b[0m\u001b[0;34m]\u001b[0m \u001b[0;34m=\u001b[0m \u001b[0mvalue\u001b[0m\u001b[0;34m\u001b[0m\u001b[0m\n\u001b[0;32m--> 250\u001b[0;31m                 \u001b[0mself\u001b[0m\u001b[0;34m.\u001b[0m\u001b[0mresult\u001b[0m \u001b[0;34m=\u001b[0m \u001b[0mself\u001b[0m\u001b[0;34m.\u001b[0m\u001b[0mf\u001b[0m\u001b[0;34m(\u001b[0m\u001b[0;34m**\u001b[0m\u001b[0mself\u001b[0m\u001b[0;34m.\u001b[0m\u001b[0mkwargs\u001b[0m\u001b[0;34m)\u001b[0m\u001b[0;34m\u001b[0m\u001b[0m\n\u001b[0m\u001b[1;32m    251\u001b[0m                 \u001b[0mshow_inline_matplotlib_plots\u001b[0m\u001b[0;34m(\u001b[0m\u001b[0;34m)\u001b[0m\u001b[0;34m\u001b[0m\u001b[0m\n\u001b[1;32m    252\u001b[0m                 \u001b[0;32mif\u001b[0m \u001b[0mself\u001b[0m\u001b[0;34m.\u001b[0m\u001b[0mauto_display\u001b[0m \u001b[0;32mand\u001b[0m \u001b[0mself\u001b[0m\u001b[0;34m.\u001b[0m\u001b[0mresult\u001b[0m \u001b[0;32mis\u001b[0m \u001b[0;32mnot\u001b[0m \u001b[0mNone\u001b[0m\u001b[0;34m:\u001b[0m\u001b[0;34m\u001b[0m\u001b[0m\n",
          "\u001b[0;32m<ipython-input-3-e58d9d2729f6>\u001b[0m in \u001b[0;36mchange_rect\u001b[0;34m(x, y, text, points, style, family, degrees, red, green, blue, alpha)\u001b[0m\n\u001b[1;32m     18\u001b[0m     \u001b[0mcanvas\u001b[0m \u001b[0;34m=\u001b[0m \u001b[0mtext_canvas\u001b[0m\u001b[0;34m\u001b[0m\u001b[0m\n\u001b[1;32m     19\u001b[0m     \u001b[0mcanvas\u001b[0m\u001b[0;34m.\u001b[0m\u001b[0mreset_canvas\u001b[0m\u001b[0;34m(\u001b[0m\u001b[0;34m)\u001b[0m\u001b[0;34m\u001b[0m\u001b[0m\n\u001b[0;32m---> 20\u001b[0;31m     canvas.text(x=x, y=y, w=w, h=h, dx=dx, dy=dy, degrees=degrees, color=color,\n\u001b[0m\u001b[1;32m     21\u001b[0m                  fill=fill, lineWidth=lineWidth)\n\u001b[1;32m     22\u001b[0m     \u001b[0mcanvas\u001b[0m\u001b[0;34m.\u001b[0m\u001b[0mfit\u001b[0m\u001b[0;34m(\u001b[0m\u001b[0;34m)\u001b[0m\u001b[0;34m\u001b[0m\u001b[0m\n",
          "\u001b[0;31mNameError\u001b[0m: global name 'h' is not defined"
         ]
        }
       ]
      }
     },
     "28c3ff7c2bbb401fab4f958cd1aad0e9": {
      "model_module": "@jupyter-widgets/base",
      "model_module_version": "1.0.0",
      "model_name": "LayoutModel",
      "state": {}
     },
     "28c768d661ed4dd2b53706c4e9b8c215": {
      "model_module": "@jupyter-widgets/controls",
      "model_module_version": "1.0.0",
      "model_name": "SliderStyleModel",
      "state": {
       "description_width": ""
      }
     },
     "28d89deba6ff402f8c7778dfc7a0650c": {
      "model_module": "@jupyter-widgets/base",
      "model_module_version": "1.0.0",
      "model_name": "LayoutModel",
      "state": {}
     },
     "28deead5e4324bdf9e821a73124f6374": {
      "model_module": "@jupyter-widgets/controls",
      "model_module_version": "1.0.0",
      "model_name": "SliderStyleModel",
      "state": {
       "description_width": ""
      }
     },
     "28e7c5a36aa7422ebf15a22942d94734": {
      "model_module": "@jupyter-widgets/base",
      "model_module_version": "1.0.0",
      "model_name": "LayoutModel",
      "state": {}
     },
     "2915b7a998184958810ceec36515af41": {
      "model_module": "@jupyter-widgets/controls",
      "model_module_version": "1.0.0",
      "model_name": "SliderStyleModel",
      "state": {
       "description_width": ""
      }
     },
     "29175feef1a148e18a99ea050f6789a2": {
      "model_module": "@jupyter-widgets/controls",
      "model_module_version": "1.0.0",
      "model_name": "SliderStyleModel",
      "state": {
       "description_width": ""
      }
     },
     "2930aa55841d4f98bab357e00f41953e": {
      "model_module": "@jupyter-widgets/controls",
      "model_module_version": "1.0.0",
      "model_name": "SliderStyleModel",
      "state": {
       "description_width": ""
      }
     },
     "293316fd146f458b9ed8526a62cc02ff": {
      "model_module": "@jupyter-widgets/controls",
      "model_module_version": "1.0.0",
      "model_name": "SliderStyleModel",
      "state": {
       "description_width": ""
      }
     },
     "29693551f8a44587878f55441547fb38": {
      "model_module": "@jupyter-widgets/controls",
      "model_module_version": "1.0.0",
      "model_name": "DescriptionStyleModel",
      "state": {
       "description_width": ""
      }
     },
     "29b67f2c596b4499a78ef084a1fb1a9f": {
      "model_module": "@jupyter-widgets/base",
      "model_module_version": "1.0.0",
      "model_name": "LayoutModel",
      "state": {}
     },
     "29cdbd7ccc484fed83a43d7da080ca1c": {
      "model_module": "@jupyter-widgets/controls",
      "model_module_version": "1.0.0",
      "model_name": "SliderStyleModel",
      "state": {
       "description_width": ""
      }
     },
     "2a16dd34bb4445e88a4a70c9bf78e6b1": {
      "model_module": "@jupyter-widgets/base",
      "model_module_version": "1.0.0",
      "model_name": "LayoutModel",
      "state": {}
     },
     "2a3a8a551b87449eb36f5b014ddf79de": {
      "model_module": "@jupyter-widgets/controls",
      "model_module_version": "1.0.0",
      "model_name": "TextModel",
      "state": {
       "description": "text",
       "layout": "IPY_MODEL_5e2d83a795e34134bd4831f5e749b2f6",
       "style": "IPY_MODEL_93db688011be4f479ef998335785452a",
       "value": "Stella!"
      }
     },
     "2a555313f8394d25bbeff83e9e310f80": {
      "model_module": "jp_proxy_widget",
      "model_module_version": "^0.3.4",
      "model_name": "JSProxyModel",
      "state": {
       "_model_module_version": "^0.3.4",
       "_send_counter": 766,
       "_view_module_version": "^0.3.4",
       "error_msg": "No error",
       "layout": "IPY_MODEL_08a1881313f948d19984e9c32ef6e4a5",
       "rendered": true,
       "status": "Got results."
      }
     },
     "2a771ba2332947638e2011cc23b498b3": {
      "model_module": "@jupyter-widgets/controls",
      "model_module_version": "1.0.0",
      "model_name": "VBoxModel",
      "state": {
       "children": [
        "IPY_MODEL_1619dfd7c5284ab09aef1ec4d1e3d037",
        "IPY_MODEL_4bfc39b7ad2b4dd2b03437294ae8a494"
       ],
       "layout": "IPY_MODEL_37a23d3d43b94abbbc2f5332d635d81e"
      }
     },
     "2a809c0d80474d68b1c427f243a7786e": {
      "model_module": "@jupyter-widgets/base",
      "model_module_version": "1.0.0",
      "model_name": "LayoutModel",
      "state": {}
     },
     "2a880959e5a94033a66b882e09687e50": {
      "model_module": "@jupyter-widgets/base",
      "model_module_version": "1.0.0",
      "model_name": "LayoutModel",
      "state": {}
     },
     "2a9785a69adc473a994b99bbb9c29fb7": {
      "model_module": "@jupyter-widgets/controls",
      "model_module_version": "1.0.0",
      "model_name": "SliderStyleModel",
      "state": {
       "description_width": ""
      }
     },
     "2ac029db54324f539966573b9e540eba": {
      "model_module": "@jupyter-widgets/base",
      "model_module_version": "1.0.0",
      "model_name": "LayoutModel",
      "state": {}
     },
     "2ad4f00b19f44a199e4fe8401eb48d3a": {
      "model_module": "@jupyter-widgets/controls",
      "model_module_version": "1.0.0",
      "model_name": "TabModel",
      "state": {
       "_titles": {
        "0": "Canvas",
        "1": "Snapshot"
       },
       "children": [
        "IPY_MODEL_fbc10d8339e0428eaac8852925cf009b",
        "IPY_MODEL_8f3b889ab62940c39848490fb41ec65e"
       ],
       "layout": "IPY_MODEL_f5f13b893b0e4c169713ebd8a8d1e640"
      }
     },
     "2ae5887f749b41a0a4d8ecd88c45cd25": {
      "model_module": "@jupyter-widgets/controls",
      "model_module_version": "1.0.0",
      "model_name": "DropdownModel",
      "state": {
       "_options_labels": [
        "left",
        "right",
        "center"
       ],
       "description": "align",
       "index": 2,
       "layout": "IPY_MODEL_1bec8dd2ae084d1e876140480580abb2",
       "style": "IPY_MODEL_d1d79deffd9f4d61a7ea1e864ca9bfab"
      }
     },
     "2af5751967594d488226afc3e3138e0b": {
      "model_module": "@jupyter-widgets/controls",
      "model_module_version": "1.0.0",
      "model_name": "DescriptionStyleModel",
      "state": {
       "description_width": ""
      }
     },
     "2b3d42d25ac247db8bc321d10812c792": {
      "model_module": "@jupyter-widgets/base",
      "model_module_version": "1.0.0",
      "model_name": "LayoutModel",
      "state": {}
     },
     "2ba572d3d02343139099dc496bff28d3": {
      "model_module": "@jupyter-widgets/controls",
      "model_module_version": "1.0.0",
      "model_name": "DescriptionStyleModel",
      "state": {
       "description_width": ""
      }
     },
     "2bdd3b35c8e94eed9bc9fb815b5d5573": {
      "model_module": "@jupyter-widgets/base",
      "model_module_version": "1.0.0",
      "model_name": "LayoutModel",
      "state": {}
     },
     "2bdf84633aae44ac9767292958e6b60b": {
      "model_module": "@jupyter-widgets/base",
      "model_module_version": "1.0.0",
      "model_name": "LayoutModel",
      "state": {}
     },
     "2beb47b940b4472296b86bdb6f0b0be6": {
      "model_module": "@jupyter-widgets/base",
      "model_module_version": "1.0.0",
      "model_name": "LayoutModel",
      "state": {}
     },
     "2c1f21c40fbe4b3188e0259628b106a4": {
      "model_module": "@jupyter-widgets/controls",
      "model_module_version": "1.0.0",
      "model_name": "TextModel",
      "state": {
       "description": "family",
       "layout": "IPY_MODEL_049da93bf44d463ea7f4c078e9d00e0f",
       "style": "IPY_MODEL_ed345145463f44bc9ad388ed5bd3801b",
       "value": "times courier arial"
      }
     },
     "2c4d5dd2122943d89c0b58aa64ae3948": {
      "model_module": "@jupyter-widgets/controls",
      "model_module_version": "1.0.0",
      "model_name": "TabModel",
      "state": {
       "_titles": {
        "0": "Canvas",
        "1": "Snapshot"
       },
       "children": [
        "IPY_MODEL_a18a77bcbdad4135b25970b115c9276c",
        "IPY_MODEL_f04517dfe8a14f1bb625d4b7ded5c15f"
       ],
       "layout": "IPY_MODEL_d7317b19f73948fe87819792baa135c6"
      }
     },
     "2c5a3deaae6c46649bf71f7b88084ae4": {
      "model_module": "@jupyter-widgets/controls",
      "model_module_version": "1.0.0",
      "model_name": "TabModel",
      "state": {
       "_titles": {
        "0": "Canvas",
        "1": "Snapshot"
       },
       "children": [
        "IPY_MODEL_36490e0ac3e94b72acc7f8a5aabaa055",
        "IPY_MODEL_bc0c9962453741fa87bd0b13b4442d84"
       ],
       "layout": "IPY_MODEL_c321150d3889420097a520653cef8df6"
      }
     },
     "2c70224fc749464a9a794a70957e70c1": {
      "model_module": "@jupyter-widgets/controls",
      "model_module_version": "1.0.0",
      "model_name": "IntSliderModel",
      "state": {
       "description": "degrees",
       "layout": "IPY_MODEL_28673f79b0a94a80900e51c7e398509c",
       "max": 360,
       "min": -360,
       "style": "IPY_MODEL_5d4cb3ad57674a56a9ccb65f7c050f02"
      }
     },
     "2cca463f1b4e4275968d9d82efbe752e": {
      "model_module": "@jupyter-widgets/base",
      "model_module_version": "1.0.0",
      "model_name": "LayoutModel",
      "state": {}
     },
     "2d621120bd884c2bab95eccd69d34ae0": {
      "model_module": "@jupyter-widgets/base",
      "model_module_version": "1.0.0",
      "model_name": "LayoutModel",
      "state": {}
     },
     "2d683ea067ed40759de17d5659d60a14": {
      "model_module": "@jupyter-widgets/controls",
      "model_module_version": "1.0.0",
      "model_name": "VBoxModel",
      "state": {
       "children": [
        "IPY_MODEL_19972c9a86934b92bd07da8099bd424f",
        "IPY_MODEL_91f8bb40a39c41a7add98a8fdaf8140e"
       ],
       "layout": "IPY_MODEL_e513688423cc44048a797845f53385b7"
      }
     },
     "2da4a3bfb14a449b95177395b47cda15": {
      "model_module": "@jupyter-widgets/controls",
      "model_module_version": "1.0.0",
      "model_name": "TextModel",
      "state": {
       "description": "text",
       "layout": "IPY_MODEL_ddf75e291ed14a02a0be36917c41c690",
       "style": "IPY_MODEL_b61103fdbd084b3a97efcc00d28744dc",
       "value": "Stella!"
      }
     },
     "2dc0b77e28cc46c5a97e1299ac2dadcf": {
      "model_module": "@jupyter-widgets/base",
      "model_module_version": "1.0.0",
      "model_name": "LayoutModel",
      "state": {}
     },
     "2dfed08de1b847b3922417ffe1713046": {
      "model_module": "@jupyter-widgets/base",
      "model_module_version": "1.0.0",
      "model_name": "LayoutModel",
      "state": {}
     },
     "2e1bf41ccc744fa2a3c1e2321048e5b0": {
      "model_module": "@jupyter-widgets/controls",
      "model_module_version": "1.0.0",
      "model_name": "SliderStyleModel",
      "state": {
       "description_width": ""
      }
     },
     "2e34cd67022644ac94e51be481464a52": {
      "model_module": "@jupyter-widgets/controls",
      "model_module_version": "1.0.0",
      "model_name": "SliderStyleModel",
      "state": {
       "description_width": ""
      }
     },
     "2e564995d0a74657b91747686e566185": {
      "model_module": "jp_proxy_widget",
      "model_module_version": "^0.3.4",
      "model_name": "JSProxyModel",
      "state": {
       "_model_module_version": "^0.3.4",
       "_send_counter": 745,
       "_view_module_version": "^0.3.4",
       "error_msg": "No error",
       "layout": "IPY_MODEL_224dc997d4a643e9a7b3b31aabc1e9f2",
       "rendered": true,
       "status": "Got results."
      }
     },
     "2e6d683ed79440b9bcf9f1a3d107c32a": {
      "model_module": "@jupyter-widgets/controls",
      "model_module_version": "1.0.0",
      "model_name": "SliderStyleModel",
      "state": {
       "description_width": ""
      }
     },
     "2e6e7f1bd8864607b58b4841cc91d3b7": {
      "model_module": "@jupyter-widgets/controls",
      "model_module_version": "1.0.0",
      "model_name": "IntSliderModel",
      "state": {
       "description": "x",
       "layout": "IPY_MODEL_403a45102ba147f8aa926d450caf82de",
       "min": -100,
       "style": "IPY_MODEL_9f2041dc70e942bd990fe0074cd0e617",
       "value": -20
      }
     },
     "2e7b00438b9c409ea7d5451e5ce7e3ea": {
      "model_module": "@jupyter-widgets/controls",
      "model_module_version": "1.0.0",
      "model_name": "SliderStyleModel",
      "state": {
       "description_width": ""
      }
     },
     "2ee7cc21f0c14506b963356870175365": {
      "model_module": "@jupyter-widgets/controls",
      "model_module_version": "1.0.0",
      "model_name": "IntSliderModel",
      "state": {
       "description": "r",
       "layout": "IPY_MODEL_94860ebcd967426b807144f30016ba20",
       "style": "IPY_MODEL_9efbcad1358c44fb81da258d813a6b3e",
       "value": 66
      }
     },
     "2f68824a86844f66abe24ea385b006a8": {
      "model_module": "@jupyter-widgets/controls",
      "model_module_version": "1.0.0",
      "model_name": "IntSliderModel",
      "state": {
       "description": "x",
       "layout": "IPY_MODEL_c9739257a84a4bda98972255f3b64850",
       "min": -100,
       "style": "IPY_MODEL_f8c7f18ee78d4eaf9f3558a0ac96dab7"
      }
     },
     "2f97d9bde0e34483bf467c675d0a4e23": {
      "model_module": "@jupyter-widgets/controls",
      "model_module_version": "1.0.0",
      "model_name": "SliderStyleModel",
      "state": {
       "description_width": ""
      }
     },
     "2fbf0890873c42cd8fd803f0f94a1d74": {
      "model_module": "@jupyter-widgets/controls",
      "model_module_version": "1.0.0",
      "model_name": "DescriptionStyleModel",
      "state": {
       "description_width": ""
      }
     },
     "2fdfadac1b0944078a638bb6c6a25508": {
      "model_module": "@jupyter-widgets/controls",
      "model_module_version": "1.0.0",
      "model_name": "IntSliderModel",
      "state": {
       "description": "degrees",
       "layout": "IPY_MODEL_dfa493b7cfcc4abdbba3928db2b60469",
       "max": 360,
       "min": -360,
       "style": "IPY_MODEL_80299aab088547aa86b2b6e6e6e117ce",
       "value": -17
      }
     },
     "300103fb7ddf47059da3707ac6a551a0": {
      "model_module": "@jupyter-widgets/base",
      "model_module_version": "1.0.0",
      "model_name": "LayoutModel",
      "state": {}
     },
     "305a5908972c479e95eb4b8cb0418224": {
      "model_module": "@jupyter-widgets/controls",
      "model_module_version": "1.0.0",
      "model_name": "DescriptionStyleModel",
      "state": {
       "description_width": ""
      }
     },
     "309f6532cae847f7bd3762a846f12d2c": {
      "model_module": "@jupyter-widgets/base",
      "model_module_version": "1.0.0",
      "model_name": "LayoutModel",
      "state": {}
     },
     "30c4126882314eef8d15b17065c88f05": {
      "model_module": "@jupyter-widgets/base",
      "model_module_version": "1.0.0",
      "model_name": "LayoutModel",
      "state": {}
     },
     "30e35d86d9994fa2a307a391cf38ddc8": {
      "model_module": "@jupyter-widgets/controls",
      "model_module_version": "1.0.0",
      "model_name": "DropdownModel",
      "state": {
       "_options_labels": [
        "left",
        "right",
        "center"
       ],
       "description": "align",
       "index": 0,
       "layout": "IPY_MODEL_c4070436bbaf4887b16e73780ef653f5",
       "style": "IPY_MODEL_d16ce705106246aa8e9cff44917407f1"
      }
     },
     "31055da1faf849179e57bac70925eb6e": {
      "model_module": "@jupyter-widgets/base",
      "model_module_version": "1.0.0",
      "model_name": "LayoutModel",
      "state": {}
     },
     "315e6e94f85f4de2b83679d49e8837a5": {
      "model_module": "@jupyter-widgets/controls",
      "model_module_version": "1.0.0",
      "model_name": "DropdownModel",
      "state": {
       "_options_labels": [
        "bottom",
        "center"
       ],
       "description": "valign",
       "index": 1,
       "layout": "IPY_MODEL_0e005951387348d1bd27a58710e8e637",
       "style": "IPY_MODEL_86fe82d8c0584eab9d41f2024eecd4c6"
      }
     },
     "31724bf3213045b1b6cfaf3a50f9b993": {
      "model_module": "@jupyter-widgets/base",
      "model_module_version": "1.0.0",
      "model_name": "LayoutModel",
      "state": {}
     },
     "3183ced7344449de8db67aaa128c8228": {
      "model_module": "@jupyter-widgets/controls",
      "model_module_version": "1.0.0",
      "model_name": "IntSliderModel",
      "state": {
       "description": "r",
       "layout": "IPY_MODEL_3aa0d123d8394dc0b2135d92266fb699",
       "style": "IPY_MODEL_5e8de4973518427095d773ea3eaa2419",
       "value": 50
      }
     },
     "31ad56c9ce4142bab077fb4dc28cbd9b": {
      "model_module": "@jupyter-widgets/controls",
      "model_module_version": "1.0.0",
      "model_name": "DescriptionStyleModel",
      "state": {
       "description_width": ""
      }
     },
     "31ce49f6d6fc4e5688787353cdd65c4f": {
      "model_module": "@jupyter-widgets/base",
      "model_module_version": "1.0.0",
      "model_name": "LayoutModel",
      "state": {}
     },
     "3225327b3d2b4d9292d30aa317914c46": {
      "model_module": "jp_proxy_widget",
      "model_module_version": "^0.3.4",
      "model_name": "JSProxyModel",
      "state": {
       "_model_module_version": "^0.3.4",
       "_send_counter": 2,
       "_view_module_version": "^0.3.4",
       "error_msg": "No error",
       "layout": "IPY_MODEL_a9c230e5d9804f73acfd6056080a31fe",
       "rendered": true,
       "status": "Got results."
      }
     },
     "32316a19285745f9aaff790f3d95f45b": {
      "model_module": "@jupyter-widgets/base",
      "model_module_version": "1.0.0",
      "model_name": "LayoutModel",
      "state": {}
     },
     "329de83a89434a7889de69c961337ca5": {
      "model_module": "@jupyter-widgets/controls",
      "model_module_version": "1.0.0",
      "model_name": "DropdownModel",
      "state": {
       "_options_labels": [
        "bottom",
        "center"
       ],
       "description": "valign",
       "index": 1,
       "layout": "IPY_MODEL_033545dec6814cdca79ce4f302c34619",
       "style": "IPY_MODEL_7494e733c1034383a7d4ae1cfe9a2446"
      }
     },
     "32a53dc5428241079119344ea8899143": {
      "model_module": "@jupyter-widgets/base",
      "model_module_version": "1.0.0",
      "model_name": "LayoutModel",
      "state": {}
     },
     "32bdb33c90214892b115d60d101960fe": {
      "model_module": "@jupyter-widgets/controls",
      "model_module_version": "1.0.0",
      "model_name": "IntSliderModel",
      "state": {
       "description": "x",
       "layout": "IPY_MODEL_dbdb1c5d6f83451ca77c4d356d62abc3",
       "min": -100,
       "style": "IPY_MODEL_92229f6efafc4a91a7a0fc3ea0eec483"
      }
     },
     "32e6c99c2d27403788352b4ea6a052cb": {
      "model_module": "@jupyter-widgets/controls",
      "model_module_version": "1.0.0",
      "model_name": "VBoxModel",
      "state": {
       "_dom_classes": [
        "widget-interact"
       ],
       "children": [
        "IPY_MODEL_06a8f9ef8f64442092a5bc4b67fbabe7",
        "IPY_MODEL_668b48326e7f4073b96dfc7df8a22710",
        "IPY_MODEL_017568be30a942ad9713ec1d76d8e88e",
        "IPY_MODEL_b0c524526a454e51a014a1905e058c60",
        "IPY_MODEL_7da90498260d43aea836e60c92426212",
        "IPY_MODEL_3d2035e3322241d99ddaaaed53dd6cb2",
        "IPY_MODEL_a9aff7a2d93c4e5ab346a969280fc573",
        "IPY_MODEL_f7121243026b4fcfaac25f5e0de9edcb",
        "IPY_MODEL_58fd6576b2fd423b9ffa0c7959e253c6",
        "IPY_MODEL_3accbb8520f245149944306f064c0530",
        "IPY_MODEL_d7dcafbc1a5148768c4f508dd96aa1b8",
        "IPY_MODEL_1c85672996c24e0a804c2dac2697a4ca"
       ],
       "layout": "IPY_MODEL_2222e6306a6b4bf19c8d19573a9710be"
      }
     },
     "32ea6d58b7d14d52af1ea024f738485b": {
      "model_module": "@jupyter-widgets/base",
      "model_module_version": "1.0.0",
      "model_name": "LayoutModel",
      "state": {}
     },
     "332c9c53965946ada1aa4e94bb6b4113": {
      "model_module": "@jupyter-widgets/base",
      "model_module_version": "1.0.0",
      "model_name": "LayoutModel",
      "state": {}
     },
     "33a3b06fd72546baa0cf0b1089f6f202": {
      "model_module": "@jupyter-widgets/controls",
      "model_module_version": "1.0.0",
      "model_name": "VBoxModel",
      "state": {
       "children": [
        "IPY_MODEL_3631d8620c6e47eb8d286aceb855e288",
        "IPY_MODEL_1099c7ec884643e3a302c56a26a48516"
       ],
       "layout": "IPY_MODEL_636f6b1c623942b9988c52e27b5a994b"
      }
     },
     "33b4f493f865465e847041d95a0ae6ae": {
      "model_module": "@jupyter-widgets/base",
      "model_module_version": "1.0.0",
      "model_name": "LayoutModel",
      "state": {}
     },
     "33e9a431b6b24fc483cfc4b28860e81f": {
      "model_module": "jp_proxy_widget",
      "model_module_version": "^0.3.4",
      "model_name": "JSProxyModel",
      "state": {
       "_model_module_version": "^0.3.4",
       "_send_counter": 2,
       "_view_module_version": "^0.3.4",
       "error_msg": "No error",
       "layout": "IPY_MODEL_1a8db959954146938074e15713b3f6e8",
       "rendered": true,
       "status": "Got results."
      }
     },
     "33ea071d01af4bf4b16e0ab97b3bc49d": {
      "model_module": "@jupyter-widgets/controls",
      "model_module_version": "1.0.0",
      "model_name": "SliderStyleModel",
      "state": {
       "description_width": ""
      }
     },
     "340807a8698c4584b6364214561f66c6": {
      "model_module": "@jupyter-widgets/controls",
      "model_module_version": "1.0.0",
      "model_name": "IntSliderModel",
      "state": {
       "description": "red",
       "layout": "IPY_MODEL_8fa67750e8c349a8aa134a9b73312390",
       "max": 255,
       "style": "IPY_MODEL_19fde8064ef041d68998d5c0edf13668",
       "value": 255
      }
     },
     "340b49339f1b40ddb7a71d420af7ec5e": {
      "model_module": "@jupyter-widgets/controls",
      "model_module_version": "1.0.0",
      "model_name": "IntSliderModel",
      "state": {
       "description": "blue",
       "layout": "IPY_MODEL_6b345b883a4844648ccf0c1481e3b836",
       "max": 255,
       "style": "IPY_MODEL_c1cb93917abe449392e7f2eeac1db7a4",
       "value": 255
      }
     },
     "3419dc5c58524a888b42415622ad58f4": {
      "model_module": "@jupyter-widgets/controls",
      "model_module_version": "1.0.0",
      "model_name": "DropdownModel",
      "state": {
       "_options_labels": [
        "",
        "blue",
        "green",
        "pink",
        "brown",
        "cornsilk"
       ],
       "description": "background",
       "index": 0,
       "layout": "IPY_MODEL_599233db619346a4b97e810cf7ba48f0",
       "style": "IPY_MODEL_05f3aa9aeda94494a2b2319443e93e7b"
      }
     },
     "343faef62387451aac32a35eea1c7807": {
      "model_module": "@jupyter-widgets/controls",
      "model_module_version": "1.0.0",
      "model_name": "DescriptionStyleModel",
      "state": {
       "description_width": ""
      }
     },
     "346223109c9d4df19db71886a8bd5336": {
      "model_module": "@jupyter-widgets/base",
      "model_module_version": "1.0.0",
      "model_name": "LayoutModel",
      "state": {}
     },
     "34b6f51406e046cbbbb4a176c14387d9": {
      "model_module": "@jupyter-widgets/controls",
      "model_module_version": "1.0.0",
      "model_name": "IntSliderModel",
      "state": {
       "description": "points",
       "layout": "IPY_MODEL_448da7b38d71436fa591ef871e929199",
       "style": "IPY_MODEL_10c537b6cd7f432e9e4ecb808650e5df",
       "value": 20
      }
     },
     "34ccae8d102a4420aceadf685859b466": {
      "model_module": "@jupyter-widgets/controls",
      "model_module_version": "1.0.0",
      "model_name": "IntSliderModel",
      "state": {
       "description": "y",
       "layout": "IPY_MODEL_1df1009aefe24ebdbec792e483c30b53",
       "min": -100,
       "style": "IPY_MODEL_7db11a792a794626b5dca8ff21c61425"
      }
     },
     "350a5346c79b4a808a210a5e66069a45": {
      "model_module": "@jupyter-widgets/controls",
      "model_module_version": "1.0.0",
      "model_name": "SliderStyleModel",
      "state": {
       "description_width": ""
      }
     },
     "350e4ece20144b80a78bc6fb0349ff98": {
      "model_module": "@jupyter-widgets/base",
      "model_module_version": "1.0.0",
      "model_name": "LayoutModel",
      "state": {}
     },
     "351cad72bcaf4b9a8abf332b64dbbb8b": {
      "model_module": "jp_proxy_widget",
      "model_module_version": "^0.3.4",
      "model_name": "JSProxyModel",
      "state": {
       "_model_module_version": "^0.3.4",
       "_send_counter": 2,
       "_view_module_version": "^0.3.4",
       "error_msg": "No error",
       "layout": "IPY_MODEL_03e8424e15314392b53bb2b58cd42fd4",
       "rendered": true,
       "status": "Got results."
      }
     },
     "353eab2f4f634e6fa0edd4505f7ad376": {
      "model_module": "@jupyter-widgets/controls",
      "model_module_version": "1.0.0",
      "model_name": "FloatSliderModel",
      "state": {
       "description": "alpha",
       "layout": "IPY_MODEL_7703086d17604737ab9e28ea82d54df6",
       "max": 1,
       "step": 0.1,
       "style": "IPY_MODEL_65147e69007845d6906edda4fd4b7606",
       "value": 1
      }
     },
     "357a5ba0eb824ec38a0d60209da142f4": {
      "model_module": "@jupyter-widgets/controls",
      "model_module_version": "1.0.0",
      "model_name": "IntSliderModel",
      "state": {
       "description": "blue",
       "layout": "IPY_MODEL_852d3d7058ef486ca68832c30e42bd0c",
       "max": 255,
       "style": "IPY_MODEL_103d0013f2164851a319ff6278d93457",
       "value": 255
      }
     },
     "35a2da6ea3f2477688d4ceacb56d521d": {
      "model_module": "@jupyter-widgets/controls",
      "model_module_version": "1.0.0",
      "model_name": "DropdownModel",
      "state": {
       "_options_labels": [
        "bottom",
        "center"
       ],
       "description": "valign",
       "index": 0,
       "layout": "IPY_MODEL_48982d61d391483283d5d7c77dc593ba",
       "style": "IPY_MODEL_031e3498c52e4c96b167557a53dceab8"
      }
     },
     "35e95b1fc0914ef0976af773085c9a93": {
      "model_module": "@jupyter-widgets/base",
      "model_module_version": "1.0.0",
      "model_name": "LayoutModel",
      "state": {}
     },
     "3604a48be8d84659ba8ece30f912b4e4": {
      "model_module": "@jupyter-widgets/base",
      "model_module_version": "1.0.0",
      "model_name": "LayoutModel",
      "state": {}
     },
     "361bb3a43cfb415a83e926ef37a9ef5c": {
      "model_module": "@jupyter-widgets/controls",
      "model_module_version": "1.0.0",
      "model_name": "SliderStyleModel",
      "state": {
       "description_width": ""
      }
     },
     "3631d8620c6e47eb8d286aceb855e288": {
      "model_module": "jp_proxy_widget",
      "model_module_version": "^0.3.4",
      "model_name": "JSProxyModel",
      "state": {
       "_model_module_version": "^0.3.4",
       "_send_counter": 276,
       "_view_module_version": "^0.3.4",
       "error_msg": "No error",
       "layout": "IPY_MODEL_651e7c1fd81c44279ea33f0e4bb198f1",
       "rendered": true,
       "status": "Got results."
      }
     },
     "3635765646224754a81898cf2b9a1540": {
      "model_module": "@jupyter-widgets/controls",
      "model_module_version": "1.0.0",
      "model_name": "VBoxModel",
      "state": {
       "_dom_classes": [
        "widget-interact"
       ],
       "children": [
        "IPY_MODEL_c301672c974c4159aace83c37eef85cf",
        "IPY_MODEL_9a985d3eaf72493280b8499dd86fc165",
        "IPY_MODEL_4a3407f9f39440749cc0b32530d684b0",
        "IPY_MODEL_f7c5045245ad4c89a25ce89739fa50d7",
        "IPY_MODEL_75ff3d30060f46d396b8539925179e2c",
        "IPY_MODEL_097f8ef2de234da0ba1d80bc947dc927",
        "IPY_MODEL_cd04fd83c3bf4e99a1b97f56ba471e72",
        "IPY_MODEL_46862053642a452c84cffa04293ab16d",
        "IPY_MODEL_04bdafaa1c8d46a3b6426ab4eb921ce8",
        "IPY_MODEL_315e6e94f85f4de2b83679d49e8837a5",
        "IPY_MODEL_8987a349cfda40fe81caa3d0f4542942",
        "IPY_MODEL_f636e9f02c4a4044bf18a0aef7d830a0",
        "IPY_MODEL_e44992d2ae794ddba90abd4bfc383a8b",
        "IPY_MODEL_501e77993f834456ba079b2bcbfeef9b",
        "IPY_MODEL_abb610ecf3dd408d8b19daf74f98d6c1"
       ],
       "layout": "IPY_MODEL_8ed23e2e765345aabb440e5b2aea89ac"
      }
     },
     "36490e0ac3e94b72acc7f8a5aabaa055": {
      "model_module": "@jupyter-widgets/controls",
      "model_module_version": "1.0.0",
      "model_name": "VBoxModel",
      "state": {
       "children": [
        "IPY_MODEL_2e564995d0a74657b91747686e566185",
        "IPY_MODEL_65a97635233c46f3b48e9f9d21f20393"
       ],
       "layout": "IPY_MODEL_f2305bf7a24849e694f1ed5e973a0ff1"
      }
     },
     "36bcf1116841461089bcb10d6731a64c": {
      "model_module": "@jupyter-widgets/controls",
      "model_module_version": "1.0.0",
      "model_name": "SliderStyleModel",
      "state": {
       "description_width": ""
      }
     },
     "3709e14b28004dfebb93e408cc0666b3": {
      "model_module": "@jupyter-widgets/base",
      "model_module_version": "1.0.0",
      "model_name": "LayoutModel",
      "state": {}
     },
     "374eab8fee6243d3ae3b8f150c390a3e": {
      "model_module": "@jupyter-widgets/controls",
      "model_module_version": "1.0.0",
      "model_name": "FloatSliderModel",
      "state": {
       "description": "alpha",
       "layout": "IPY_MODEL_fe3bff1ddfa742259d7feae110fec4cc",
       "max": 1,
       "step": 0.1,
       "style": "IPY_MODEL_375449ef488b4e409949902dbaabdb2f",
       "value": 0.5
      }
     },
     "375449ef488b4e409949902dbaabdb2f": {
      "model_module": "@jupyter-widgets/controls",
      "model_module_version": "1.0.0",
      "model_name": "SliderStyleModel",
      "state": {
       "description_width": ""
      }
     },
     "37684bb7566c45bcac399dc568899113": {
      "model_module": "@jupyter-widgets/controls",
      "model_module_version": "1.0.0",
      "model_name": "SliderStyleModel",
      "state": {
       "description_width": ""
      }
     },
     "376f5cf262ff42549f8c2c6c8a284c27": {
      "model_module": "@jupyter-widgets/controls",
      "model_module_version": "1.0.0",
      "model_name": "VBoxModel",
      "state": {
       "_dom_classes": [
        "widget-interact"
       ],
       "children": [
        "IPY_MODEL_741685aee5214f75ae76a1d377902199",
        "IPY_MODEL_77bb6ea8a3fb4060b8e524e6d280747b",
        "IPY_MODEL_df9f78fe5d944e7d917f959f904c1cef",
        "IPY_MODEL_c89507e8142648ca8fa5a672ab860bc3",
        "IPY_MODEL_4785d1f2e6774f8da026a11010a27c50",
        "IPY_MODEL_f07706da12ef4ac9ae96f7fd04d71a32",
        "IPY_MODEL_f32f0d5b235449e99997ea04076bdb67",
        "IPY_MODEL_13ad88bbd2294375abf6b1a9b1f69f56",
        "IPY_MODEL_904218ac38bc49ba848e26c6dcfb7d6c",
        "IPY_MODEL_5c7420cc1f104ba787320e764fab3026",
        "IPY_MODEL_0b8c014e5bbc4eec93570a57efe31953",
        "IPY_MODEL_01b8b3e774e24d74b92728b15d3dacdf"
       ],
       "layout": "IPY_MODEL_d9db047963c74d228091981d5594e831"
      }
     },
     "37a23d3d43b94abbbc2f5332d635d81e": {
      "model_module": "@jupyter-widgets/base",
      "model_module_version": "1.0.0",
      "model_name": "LayoutModel",
      "state": {}
     },
     "37aea212d404491491f0d3782434ee34": {
      "model_module": "@jupyter-widgets/base",
      "model_module_version": "1.0.0",
      "model_name": "LayoutModel",
      "state": {}
     },
     "38290112b06c49208f40c08dd132f1a1": {
      "model_module": "@jupyter-widgets/base",
      "model_module_version": "1.0.0",
      "model_name": "LayoutModel",
      "state": {}
     },
     "383bc7a3903743b1a6135cf131fb9751": {
      "model_module": "@jupyter-widgets/controls",
      "model_module_version": "1.0.0",
      "model_name": "SliderStyleModel",
      "state": {
       "description_width": ""
      }
     },
     "384063ebafd14d81ba1130a73377a436": {
      "model_module": "@jupyter-widgets/base",
      "model_module_version": "1.0.0",
      "model_name": "LayoutModel",
      "state": {}
     },
     "38524ce934084c13b0a67e55f5af1e61": {
      "model_module": "@jupyter-widgets/controls",
      "model_module_version": "1.0.0",
      "model_name": "DescriptionStyleModel",
      "state": {
       "description_width": ""
      }
     },
     "3859c3bf97d442448e45cf6b83a0356d": {
      "model_module": "@jupyter-widgets/controls",
      "model_module_version": "1.0.0",
      "model_name": "DescriptionStyleModel",
      "state": {
       "description_width": ""
      }
     },
     "385c4cb31c1d491787737c08bb69f148": {
      "model_module": "@jupyter-widgets/base",
      "model_module_version": "1.0.0",
      "model_name": "LayoutModel",
      "state": {}
     },
     "3862761ed3b74fc7926d7523fe5a54f1": {
      "model_module": "@jupyter-widgets/controls",
      "model_module_version": "1.0.0",
      "model_name": "SliderStyleModel",
      "state": {
       "description_width": ""
      }
     },
     "390edc6d88b44056b0f3594355b352d7": {
      "model_module": "@jupyter-widgets/controls",
      "model_module_version": "1.0.0",
      "model_name": "SliderStyleModel",
      "state": {
       "description_width": ""
      }
     },
     "3937387cd47f47d4bcdf5afaba9058b2": {
      "model_module": "@jupyter-widgets/controls",
      "model_module_version": "1.0.0",
      "model_name": "CheckboxModel",
      "state": {
       "description": "fill",
       "disabled": false,
       "layout": "IPY_MODEL_60d1a15b07c54779bd30e5c26d2f0529",
       "style": "IPY_MODEL_3f5d5f0a7c4a48df8bd74dc8be0af2b0",
       "value": true
      }
     },
     "393bb936009241a68c1551d4602e28b0": {
      "model_module": "@jupyter-widgets/controls",
      "model_module_version": "1.0.0",
      "model_name": "SliderStyleModel",
      "state": {
       "description_width": ""
      }
     },
     "3943f1b913fe4b1e94e48c0a87f56dfd": {
      "model_module": "@jupyter-widgets/controls",
      "model_module_version": "1.0.0",
      "model_name": "FloatSliderModel",
      "state": {
       "description": "arc",
       "layout": "IPY_MODEL_dd87b5a13f874675a29a796a3e3cde77",
       "max": 6.383185307179586,
       "step": 0.1,
       "style": "IPY_MODEL_e7873677b53545329c9ff13c24157804",
       "value": 6
      }
     },
     "3960da040cdd4435bb7e4eaf2252d0cb": {
      "model_module": "@jupyter-widgets/controls",
      "model_module_version": "1.0.0",
      "model_name": "IntSliderModel",
      "state": {
       "description": "green",
       "layout": "IPY_MODEL_7f19a3e177924795aeb044709311f354",
       "max": 255,
       "style": "IPY_MODEL_ad28035d4201443e8a1eb3571f9aabbf"
      }
     },
     "396d227606ca4b77a0fd9d9d621270b1": {
      "model_module": "@jupyter-widgets/controls",
      "model_module_version": "1.0.0",
      "model_name": "VBoxModel",
      "state": {
       "_dom_classes": [
        "widget-interact"
       ],
       "children": [
        "IPY_MODEL_32bdb33c90214892b115d60d101960fe",
        "IPY_MODEL_d77b6462ad514ee8876ac19f2c622c6b",
        "IPY_MODEL_d0b2a1f5bc104761968b1bc483afc644",
        "IPY_MODEL_a91cb63369404a839fa3279e3442ce59",
        "IPY_MODEL_7ec85661d6544abb85c44a221e1bdeb7",
        "IPY_MODEL_4d7974b698f245e3b784f70761d959b8",
        "IPY_MODEL_57379ef972a042bbbae4d66672bbbf49",
        "IPY_MODEL_7261fd9657c34e6886f4a75cdc18d33f"
       ],
       "layout": "IPY_MODEL_ebcefb249b364779bb48896bc257b8a1"
      }
     },
     "39a09fa8d131455ca09c8ef8bcac6eea": {
      "model_module": "@jupyter-widgets/output",
      "model_module_version": "1.0.0",
      "model_name": "OutputModel",
      "state": {
       "layout": "IPY_MODEL_189a1bc7509c43e39cf08c1277854895"
      }
     },
     "39ad0857f091487ea76cf71f53f88e50": {
      "model_module": "jp_proxy_widget",
      "model_module_version": "^0.3.4",
      "model_name": "JSProxyModel",
      "state": {
       "_model_module_version": "^0.3.4",
       "_send_counter": 2,
       "_view_module_version": "^0.3.4",
       "error_msg": "No error",
       "layout": "IPY_MODEL_b156d187b7064effa08bec8348875aff",
       "rendered": true,
       "status": "Got results."
      }
     },
     "39e909adf080435aae01a656b208861b": {
      "model_module": "@jupyter-widgets/base",
      "model_module_version": "1.0.0",
      "model_name": "LayoutModel",
      "state": {}
     },
     "39ea280f576d404ea95d4e0672b9771c": {
      "model_module": "@jupyter-widgets/controls",
      "model_module_version": "1.0.0",
      "model_name": "SliderStyleModel",
      "state": {
       "description_width": ""
      }
     },
     "39fbab63948f41a38710d79e8f6baa2c": {
      "model_module": "@jupyter-widgets/base",
      "model_module_version": "1.0.0",
      "model_name": "LayoutModel",
      "state": {}
     },
     "3a0d309da4274cd6a4c0bc706bc51d81": {
      "model_module": "@jupyter-widgets/controls",
      "model_module_version": "1.0.0",
      "model_name": "IntSliderModel",
      "state": {
       "description": "r",
       "layout": "IPY_MODEL_0734ac469e3443feae42710aaa7e02fd",
       "style": "IPY_MODEL_48af8f7a8c244947bfafc0ef05f7b9b6",
       "value": 75
      }
     },
     "3a0ec3f676e5402ebe4376a3f6d6b7eb": {
      "model_module": "@jupyter-widgets/base",
      "model_module_version": "1.0.0",
      "model_name": "LayoutModel",
      "state": {}
     },
     "3a2209d82a8c428a9e1090bedc264712": {
      "model_module": "@jupyter-widgets/base",
      "model_module_version": "1.0.0",
      "model_name": "LayoutModel",
      "state": {}
     },
     "3a27cd6bf58e49f2bc23667b2df0c0d5": {
      "model_module": "@jupyter-widgets/controls",
      "model_module_version": "1.0.0",
      "model_name": "SliderStyleModel",
      "state": {
       "description_width": ""
      }
     },
     "3a2d2afdd56c44fbb63904e7e223ca48": {
      "model_module": "@jupyter-widgets/controls",
      "model_module_version": "1.0.0",
      "model_name": "SliderStyleModel",
      "state": {
       "description_width": ""
      }
     },
     "3a3797311afe4614813177f03d4c72ac": {
      "model_module": "@jupyter-widgets/controls",
      "model_module_version": "1.0.0",
      "model_name": "IntSliderModel",
      "state": {
       "description": "green",
       "layout": "IPY_MODEL_2a809c0d80474d68b1c427f243a7786e",
       "max": 255,
       "style": "IPY_MODEL_73ef9fac00c34fbba2d4679318de8790"
      }
     },
     "3a40261bb6864f5b8a9306961882be63": {
      "model_module": "@jupyter-widgets/controls",
      "model_module_version": "1.0.0",
      "model_name": "IntSliderModel",
      "state": {
       "description": "degrees",
       "layout": "IPY_MODEL_a79fa6e315e748e7a1192e02e1e5f77d",
       "max": 360,
       "min": -360,
       "style": "IPY_MODEL_6d60cc3574744ec1832a0e97e10d4a53",
       "value": 42
      }
     },
     "3a5d8d4fbc8142d7bcc5f8da74e9f53e": {
      "model_module": "@jupyter-widgets/base",
      "model_module_version": "1.0.0",
      "model_name": "LayoutModel",
      "state": {}
     },
     "3aa0d123d8394dc0b2135d92266fb699": {
      "model_module": "@jupyter-widgets/base",
      "model_module_version": "1.0.0",
      "model_name": "LayoutModel",
      "state": {}
     },
     "3abd04a8adb0482296dc8eeb01405aa2": {
      "model_module": "@jupyter-widgets/controls",
      "model_module_version": "1.0.0",
      "model_name": "IntSliderModel",
      "state": {
       "description": "red",
       "layout": "IPY_MODEL_8c019990355540b9b0be4c98c5d09c2a",
       "max": 255,
       "style": "IPY_MODEL_125cdc713dbf45e28d6018c9d5dfb4c9",
       "value": 255
      }
     },
     "3accbb8520f245149944306f064c0530": {
      "model_module": "@jupyter-widgets/controls",
      "model_module_version": "1.0.0",
      "model_name": "IntSliderModel",
      "state": {
       "description": "blue",
       "layout": "IPY_MODEL_21e329fa4faf45089314e21b173484d1",
       "max": 255,
       "style": "IPY_MODEL_71f1c68ad8dc4d1598d5cb952b8aeae3",
       "value": 255
      }
     },
     "3ad84ebd5f9c494e810bb3a704cafa59": {
      "model_module": "jp_proxy_widget",
      "model_module_version": "^0.3.4",
      "model_name": "JSProxyModel",
      "state": {
       "_model_module_version": "^0.3.4",
       "_send_counter": 2,
       "_view_module_version": "^0.3.4",
       "error_msg": "No error",
       "layout": "IPY_MODEL_bde9f9e608ca4a82a7b8598a34262602",
       "rendered": true,
       "status": "Got results."
      }
     },
     "3ae80e42edc6492e9dc7fc09b1a1afb5": {
      "model_module": "jp_proxy_widget",
      "model_module_version": "^0.3.4",
      "model_name": "JSProxyModel",
      "state": {
       "_model_module_version": "^0.3.4",
       "_send_counter": 470,
       "_view_module_version": "^0.3.4",
       "error_msg": "No error",
       "layout": "IPY_MODEL_9c1ba6765f244920acee5f3f328fe2c0",
       "rendered": true,
       "status": "Got results."
      }
     },
     "3af941c9e342491c87e295f01a280228": {
      "model_module": "@jupyter-widgets/controls",
      "model_module_version": "1.0.0",
      "model_name": "FloatSliderModel",
      "state": {
       "description": "alpha",
       "layout": "IPY_MODEL_aba9e6d809a04cdb8f8d7d9e653c7316",
       "max": 1,
       "step": 0.1,
       "style": "IPY_MODEL_feafdda46982449a8226a17e3c72aa24",
       "value": 1
      }
     },
     "3b2745fcf3c54cc8a93d690c5f62facf": {
      "model_module": "@jupyter-widgets/controls",
      "model_module_version": "1.0.0",
      "model_name": "DescriptionStyleModel",
      "state": {
       "description_width": ""
      }
     },
     "3b298347d5164b729809133f282a4913": {
      "model_module": "@jupyter-widgets/controls",
      "model_module_version": "1.0.0",
      "model_name": "SliderStyleModel",
      "state": {
       "description_width": ""
      }
     },
     "3b32588029924dc2bfcbbcb03615ce39": {
      "model_module": "@jupyter-widgets/controls",
      "model_module_version": "1.0.0",
      "model_name": "IntSliderModel",
      "state": {
       "description": "points",
       "layout": "IPY_MODEL_ae7acdaa8185457db6ba983752e9d61f",
       "style": "IPY_MODEL_f16df9e10916449097a6124b2f3ebd00",
       "value": 89
      }
     },
     "3b53fd74ac174c6e86a35c3fd37f7627": {
      "model_module": "@jupyter-widgets/base",
      "model_module_version": "1.0.0",
      "model_name": "LayoutModel",
      "state": {}
     },
     "3b6a98c3ea114cb1b06fc2ca7dc9aedb": {
      "model_module": "@jupyter-widgets/base",
      "model_module_version": "1.0.0",
      "model_name": "LayoutModel",
      "state": {}
     },
     "3b7851ed6cab4dfdbccc2b02b19d5e89": {
      "model_module": "@jupyter-widgets/controls",
      "model_module_version": "1.0.0",
      "model_name": "VBoxModel",
      "state": {
       "_dom_classes": [
        "widget-interact"
       ],
       "children": [
        "IPY_MODEL_fbd10f842c004fa592ea754c8cc42cf4",
        "IPY_MODEL_34ccae8d102a4420aceadf685859b466",
        "IPY_MODEL_16a16f199b234ae8a11a777c97c734d2",
        "IPY_MODEL_498ab2b7e2ed413f9342608e75ece906",
        "IPY_MODEL_f7e3d681c4644d9797123d48dbe3edd8",
        "IPY_MODEL_6fa824a9527b4b288427e9fc75dde05a",
        "IPY_MODEL_a39c7e3cb95d43b4bd56af9316dfd227",
        "IPY_MODEL_20bc13538ca74bf0863bd2299f88da79",
        "IPY_MODEL_4c409ea5cd0d4117ad9d24eab669b304",
        "IPY_MODEL_53320e1f8e7e4013967062b559a45b16",
        "IPY_MODEL_7d643f5ee88b463f884704af0b47ada7",
        "IPY_MODEL_995e1b5ca81f451e9d0e09f6849ff4b0",
        "IPY_MODEL_fa7be63cd60c4db69ca081da810e67a5",
        "IPY_MODEL_695f1f23c9d1417687d3d49766a8970a",
        "IPY_MODEL_e25783d938dc4598bb1058ddea831ec9"
       ],
       "layout": "IPY_MODEL_0a1ba05e040c4f85ac53e70dabb15389"
      }
     },
     "3b86f2f670b3422d9db3de7334d5048b": {
      "model_module": "@jupyter-widgets/controls",
      "model_module_version": "1.0.0",
      "model_name": "HTMLModel",
      "state": {
       "layout": "IPY_MODEL_20b4d73f915f43a5be5147e599adcab3",
       "style": "IPY_MODEL_db2aa71d00024b1e9acf939d78cb3d3c",
       "value": "<img src=\"interactive_circle.png\" id=\"snapshot_id_19_1536246788202\"/>\n <div id=\"snapshot_id_20_1536246788202\">interactive_circle.png</div>"
      }
     },
     "3b975f906e0549c592a2ba177613ee51": {
      "model_module": "@jupyter-widgets/base",
      "model_module_version": "1.0.0",
      "model_name": "LayoutModel",
      "state": {}
     },
     "3b9f01bcdb4347a9938e7b1a24c95ad5": {
      "model_module": "@jupyter-widgets/controls",
      "model_module_version": "1.0.0",
      "model_name": "SliderStyleModel",
      "state": {
       "description_width": ""
      }
     },
     "3bd4fdef432e484697612a1fd266d763": {
      "model_module": "@jupyter-widgets/base",
      "model_module_version": "1.0.0",
      "model_name": "LayoutModel",
      "state": {}
     },
     "3bd73e1ee1a94217801bcdcfc2893f89": {
      "model_module": "@jupyter-widgets/controls",
      "model_module_version": "1.0.0",
      "model_name": "DescriptionStyleModel",
      "state": {
       "description_width": ""
      }
     },
     "3c4f0570b8eb4778b8fcbb1de485171b": {
      "model_module": "@jupyter-widgets/controls",
      "model_module_version": "1.0.0",
      "model_name": "SliderStyleModel",
      "state": {
       "description_width": ""
      }
     },
     "3c96465f78d84942ab62867980e68335": {
      "model_module": "@jupyter-widgets/controls",
      "model_module_version": "1.0.0",
      "model_name": "DescriptionStyleModel",
      "state": {
       "description_width": ""
      }
     },
     "3cb4306aaac04ddfa97480f29d992eb9": {
      "model_module": "@jupyter-widgets/base",
      "model_module_version": "1.0.0",
      "model_name": "LayoutModel",
      "state": {}
     },
     "3cf2b3bec0b345c7ba4a5b7b033fab7e": {
      "model_module": "@jupyter-widgets/controls",
      "model_module_version": "1.0.0",
      "model_name": "IntSliderModel",
      "state": {
       "description": "red",
       "layout": "IPY_MODEL_ee0f71b41f5a4ff98255ef8a9a0c439b",
       "max": 255,
       "style": "IPY_MODEL_e4758ba7d91e43ce8d74d6c2fd0c0536",
       "value": 127
      }
     },
     "3d2035e3322241d99ddaaaed53dd6cb2": {
      "model_module": "@jupyter-widgets/controls",
      "model_module_version": "1.0.0",
      "model_name": "DropdownModel",
      "state": {
       "_options_labels": [
        "times",
        "courier",
        "arial"
       ],
       "description": "family",
       "index": 2,
       "layout": "IPY_MODEL_309f6532cae847f7bd3762a846f12d2c",
       "style": "IPY_MODEL_f26b769351d54235b2675211a20cd909"
      }
     },
     "3d5058bc2e3b4e539cc00452ef824c4d": {
      "model_module": "@jupyter-widgets/base",
      "model_module_version": "1.0.0",
      "model_name": "LayoutModel",
      "state": {}
     },
     "3d728e772cef465393b216cb80a15737": {
      "model_module": "@jupyter-widgets/controls",
      "model_module_version": "1.0.0",
      "model_name": "DescriptionStyleModel",
      "state": {
       "description_width": ""
      }
     },
     "3d813c61c9b34388a1c497d44f887b4a": {
      "model_module": "@jupyter-widgets/base",
      "model_module_version": "1.0.0",
      "model_name": "LayoutModel",
      "state": {}
     },
     "3dc13737412a4673b9f54cbedd66aefb": {
      "model_module": "@jupyter-widgets/base",
      "model_module_version": "1.0.0",
      "model_name": "LayoutModel",
      "state": {}
     },
     "3dc8cd0d64c443d2a4c05a0bd83bf747": {
      "model_module": "@jupyter-widgets/base",
      "model_module_version": "1.0.0",
      "model_name": "LayoutModel",
      "state": {}
     },
     "3dd26f985ec447d7b940e09ff20449cc": {
      "model_module": "@jupyter-widgets/controls",
      "model_module_version": "1.0.0",
      "model_name": "IntSliderModel",
      "state": {
       "description": "y",
       "layout": "IPY_MODEL_b431e2dae4c8488f91e548aacb5e70c0",
       "min": -100,
       "style": "IPY_MODEL_06907417026e4355ae61da1f7bf68b77",
       "value": -47
      }
     },
     "3de8102e5a3a44ce8724230f8f2e9100": {
      "model_module": "@jupyter-widgets/controls",
      "model_module_version": "1.0.0",
      "model_name": "SliderStyleModel",
      "state": {
       "description_width": ""
      }
     },
     "3df3d86594924680a5fd244a0849e541": {
      "model_module": "@jupyter-widgets/base",
      "model_module_version": "1.0.0",
      "model_name": "LayoutModel",
      "state": {}
     },
     "3e08496c5a814d1fb64c034a3b7731f1": {
      "model_module": "@jupyter-widgets/controls",
      "model_module_version": "1.0.0",
      "model_name": "IntSliderModel",
      "state": {
       "description": "red",
       "layout": "IPY_MODEL_2b3d42d25ac247db8bc321d10812c792",
       "max": 255,
       "style": "IPY_MODEL_a895c20fa5904e5e90d479a850648308",
       "value": 255
      }
     },
     "3e0f8127177d425586eb6faea6914232": {
      "model_module": "@jupyter-widgets/output",
      "model_module_version": "1.0.0",
      "model_name": "OutputModel",
      "state": {
       "layout": "IPY_MODEL_91245801af7d46a0b339d34af01e1162"
      }
     },
     "3e367bf33f1047dfbc03f16555494f9c": {
      "model_module": "jp_proxy_widget",
      "model_module_version": "^0.3.4",
      "model_name": "JSProxyModel",
      "state": {
       "_model_module_version": "^0.3.4",
       "_send_counter": 142,
       "_view_module_version": "^0.3.4",
       "error_msg": "No error",
       "layout": "IPY_MODEL_6f24f35404984892b1be42462ad04b72",
       "rendered": true,
       "status": "Got results."
      }
     },
     "3e3e9b985eb14c4c86747feb32453a8a": {
      "model_module": "@jupyter-widgets/base",
      "model_module_version": "1.0.0",
      "model_name": "LayoutModel",
      "state": {}
     },
     "3e610f307a354d59bb57033ae3739d06": {
      "model_module": "@jupyter-widgets/controls",
      "model_module_version": "1.0.0",
      "model_name": "IntSliderModel",
      "state": {
       "description": "green",
       "layout": "IPY_MODEL_71af7a809529405eb2b2c743e068daf6",
       "max": 255,
       "style": "IPY_MODEL_b4687bf831a7432a87d04d4c132c3729"
      }
     },
     "3f0586023cfc4e79ae4c477593a84b5a": {
      "model_module": "@jupyter-widgets/controls",
      "model_module_version": "1.0.0",
      "model_name": "SliderStyleModel",
      "state": {
       "description_width": ""
      }
     },
     "3f0fe496254c47619e7cb218535f2310": {
      "model_module": "@jupyter-widgets/base",
      "model_module_version": "1.0.0",
      "model_name": "LayoutModel",
      "state": {}
     },
     "3f1f43ae23ca4c68be73a8e730710621": {
      "model_module": "@jupyter-widgets/base",
      "model_module_version": "1.0.0",
      "model_name": "LayoutModel",
      "state": {}
     },
     "3f2497cd7fd34f41a11bd20755d62cc7": {
      "model_module": "@jupyter-widgets/base",
      "model_module_version": "1.0.0",
      "model_name": "LayoutModel",
      "state": {}
     },
     "3f2d0bad3d4b4fd68eb991b4e8fef1df": {
      "model_module": "@jupyter-widgets/controls",
      "model_module_version": "1.0.0",
      "model_name": "DescriptionStyleModel",
      "state": {
       "description_width": ""
      }
     },
     "3f4e2b705ee649989756e9621e6df183": {
      "model_module": "@jupyter-widgets/base",
      "model_module_version": "1.0.0",
      "model_name": "LayoutModel",
      "state": {}
     },
     "3f4e50cf7f5942688bbaf2fae2771efa": {
      "model_module": "jp_proxy_widget",
      "model_module_version": "^0.3.4",
      "model_name": "JSProxyModel",
      "state": {
       "_model_module_version": "^0.3.4",
       "_send_counter": 6,
       "_view_module_version": "^0.3.4",
       "error_msg": "No error",
       "layout": "IPY_MODEL_ef845bff6ea347a8a6e2ccc789f9c207",
       "rendered": true,
       "status": "Got results."
      }
     },
     "3f5694b0684f4b3b83868ba13a54c30c": {
      "model_module": "@jupyter-widgets/base",
      "model_module_version": "1.0.0",
      "model_name": "LayoutModel",
      "state": {}
     },
     "3f5d5f0a7c4a48df8bd74dc8be0af2b0": {
      "model_module": "@jupyter-widgets/controls",
      "model_module_version": "1.0.0",
      "model_name": "DescriptionStyleModel",
      "state": {
       "description_width": ""
      }
     },
     "3f924d1212e94c4c98ebeff020b030f9": {
      "model_module": "@jupyter-widgets/base",
      "model_module_version": "1.0.0",
      "model_name": "LayoutModel",
      "state": {}
     },
     "3fcb486482f74e97afcd806b08d8a1d7": {
      "model_module": "@jupyter-widgets/controls",
      "model_module_version": "1.0.0",
      "model_name": "DescriptionStyleModel",
      "state": {
       "description_width": ""
      }
     },
     "3fed4f8c9e8947a0b912f59dfe52886d": {
      "model_module": "@jupyter-widgets/controls",
      "model_module_version": "1.0.0",
      "model_name": "FloatSliderModel",
      "state": {
       "description": "alpha",
       "layout": "IPY_MODEL_4be5a79e239c4ea288091e8e9d87c354",
       "max": 1,
       "step": 0.1,
       "style": "IPY_MODEL_b5d59548077640f7b572d97a543895a7",
       "value": 1
      }
     },
     "402f95aa334748b0bde5c7de2a447f2d": {
      "model_module": "@jupyter-widgets/base",
      "model_module_version": "1.0.0",
      "model_name": "LayoutModel",
      "state": {}
     },
     "403a45102ba147f8aa926d450caf82de": {
      "model_module": "@jupyter-widgets/base",
      "model_module_version": "1.0.0",
      "model_name": "LayoutModel",
      "state": {}
     },
     "4058b1e23a90471eb4ca008b7ff750ba": {
      "model_module": "@jupyter-widgets/base",
      "model_module_version": "1.0.0",
      "model_name": "LayoutModel",
      "state": {}
     },
     "40679a37760f413eaab916ce3109bef5": {
      "model_module": "@jupyter-widgets/controls",
      "model_module_version": "1.0.0",
      "model_name": "IntSliderModel",
      "state": {
       "description": "r",
       "layout": "IPY_MODEL_346223109c9d4df19db71886a8bd5336",
       "style": "IPY_MODEL_ec5aa57ed6cc4905bbae2c4861c17a69",
       "value": 50
      }
     },
     "408e67a7ff1c429cb7224fa3b6f2cb1a": {
      "model_module": "@jupyter-widgets/controls",
      "model_module_version": "1.0.0",
      "model_name": "SliderStyleModel",
      "state": {
       "description_width": ""
      }
     },
     "40a6b8ea36144206bed06da0576c7877": {
      "model_module": "@jupyter-widgets/base",
      "model_module_version": "1.0.0",
      "model_name": "LayoutModel",
      "state": {}
     },
     "40b3a6e46868489c8da8169d343837c4": {
      "model_module": "@jupyter-widgets/controls",
      "model_module_version": "1.0.0",
      "model_name": "SliderStyleModel",
      "state": {
       "description_width": ""
      }
     },
     "40bb0b1a648e4f57b1523dc65133c5af": {
      "model_module": "@jupyter-widgets/controls",
      "model_module_version": "1.0.0",
      "model_name": "SliderStyleModel",
      "state": {
       "description_width": ""
      }
     },
     "412f7e22419940d89548953eaf218817": {
      "model_module": "@jupyter-widgets/controls",
      "model_module_version": "1.0.0",
      "model_name": "DropdownModel",
      "state": {
       "_options_labels": [
        "times",
        "courier",
        "arial"
       ],
       "description": "family",
       "index": 0,
       "layout": "IPY_MODEL_bd47f73d38fc4cbcb69bdd84afff4e35",
       "style": "IPY_MODEL_7457dff0f7c74f5781cebec16400da65"
      }
     },
     "413e6e8d43ff4406811d3af95680b0b1": {
      "model_module": "@jupyter-widgets/base",
      "model_module_version": "1.0.0",
      "model_name": "LayoutModel",
      "state": {}
     },
     "41a99cd649f348548abe834796662ea5": {
      "model_module": "@jupyter-widgets/output",
      "model_module_version": "1.0.0",
      "model_name": "OutputModel",
      "state": {
       "layout": "IPY_MODEL_bc75f9336efe4fd08cb1e8c9c836544c"
      }
     },
     "41c6d7289a09447cae94c2eee94c6d89": {
      "model_module": "@jupyter-widgets/controls",
      "model_module_version": "1.0.0",
      "model_name": "SliderStyleModel",
      "state": {
       "description_width": ""
      }
     },
     "420fb2289d1e47c284a8d96abe7f3aa1": {
      "model_module": "@jupyter-widgets/base",
      "model_module_version": "1.0.0",
      "model_name": "LayoutModel",
      "state": {}
     },
     "4231938157474e4bac316d53841a5973": {
      "model_module": "@jupyter-widgets/controls",
      "model_module_version": "1.0.0",
      "model_name": "DropdownModel",
      "state": {
       "_options_labels": [
        "normal",
        "italic",
        "oblique"
       ],
       "description": "style",
       "index": 0,
       "layout": "IPY_MODEL_d1b3050e14844c7eb8137e2b371b7581",
       "style": "IPY_MODEL_e1db56c42a93445b87fb4ceab0c31bfd"
      }
     },
     "4239c3efea4d43b1a6f0d8c288c6ae50": {
      "model_module": "@jupyter-widgets/base",
      "model_module_version": "1.0.0",
      "model_name": "LayoutModel",
      "state": {}
     },
     "4244e0c3771c4898942ed4036cba7fb0": {
      "model_module": "@jupyter-widgets/base",
      "model_module_version": "1.0.0",
      "model_name": "LayoutModel",
      "state": {}
     },
     "42ac1e9ba8d44f048a605cb200f0714d": {
      "model_module": "@jupyter-widgets/base",
      "model_module_version": "1.0.0",
      "model_name": "LayoutModel",
      "state": {}
     },
     "42b23baac2834dea8209db31f0da05e3": {
      "model_module": "@jupyter-widgets/controls",
      "model_module_version": "1.0.0",
      "model_name": "SliderStyleModel",
      "state": {
       "description_width": ""
      }
     },
     "42d12b1ec7574a50b6104871c58a58ed": {
      "model_module": "@jupyter-widgets/controls",
      "model_module_version": "1.0.0",
      "model_name": "IntSliderModel",
      "state": {
       "description": "y",
       "layout": "IPY_MODEL_39fbab63948f41a38710d79e8f6baa2c",
       "min": -100,
       "style": "IPY_MODEL_0e236c0abc8543678cde80a20f77d38a"
      }
     },
     "42e7a8305b054c398961897cbac89c79": {
      "model_module": "@jupyter-widgets/base",
      "model_module_version": "1.0.0",
      "model_name": "LayoutModel",
      "state": {}
     },
     "42f3a51cc3b94919b42b9103d1d9ddf6": {
      "model_module": "@jupyter-widgets/controls",
      "model_module_version": "1.0.0",
      "model_name": "TextModel",
      "state": {
       "description": "text",
       "layout": "IPY_MODEL_300103fb7ddf47059da3707ac6a551a0",
       "style": "IPY_MODEL_3c96465f78d84942ab62867980e68335",
       "value": "I coulda beena contenda!"
      }
     },
     "43380f299241427bb11ab4ba067f8be4": {
      "model_module": "@jupyter-widgets/controls",
      "model_module_version": "1.0.0",
      "model_name": "DescriptionStyleModel",
      "state": {
       "description_width": ""
      }
     },
     "433bacb0973a4318b9ded7ef2cff266c": {
      "model_module": "@jupyter-widgets/controls",
      "model_module_version": "1.0.0",
      "model_name": "HTMLModel",
      "state": {
       "layout": "IPY_MODEL_afba216634b947eeb2586ce946d3f52c",
       "style": "IPY_MODEL_0586ec8ffb394e0b93dd00bf3dfa313c",
       "value": "<img src=\"interactive_text.png\" id=\"snapshot_id_15_1536324295088\"/>\n <div id=\"snapshot_id_16_1536324295088\">interactive_text.png</div>"
      }
     },
     "43535c6a3263478ab53b869d35b5f5e6": {
      "model_module": "@jupyter-widgets/controls",
      "model_module_version": "1.0.0",
      "model_name": "SliderStyleModel",
      "state": {
       "description_width": ""
      }
     },
     "4392b306158b4b6bb331aea9b210afe8": {
      "model_module": "@jupyter-widgets/base",
      "model_module_version": "1.0.0",
      "model_name": "LayoutModel",
      "state": {}
     },
     "43c00b3554f542eda6a2ec33236f1b34": {
      "model_module": "@jupyter-widgets/controls",
      "model_module_version": "1.0.0",
      "model_name": "DescriptionStyleModel",
      "state": {
       "description_width": ""
      }
     },
     "4402d390aba444cc89d043ed0de01473": {
      "model_module": "@jupyter-widgets/output",
      "model_module_version": "1.0.0",
      "model_name": "OutputModel",
      "state": {
       "layout": "IPY_MODEL_22992061a5ba40fd8b836cec63a34fa7"
      }
     },
     "440ae63fd0cf4ff9ba3ce03440f7ea85": {
      "model_module": "@jupyter-widgets/base",
      "model_module_version": "1.0.0",
      "model_name": "LayoutModel",
      "state": {}
     },
     "4428339fa03a4718a99f6b50ab356b6f": {
      "model_module": "@jupyter-widgets/base",
      "model_module_version": "1.0.0",
      "model_name": "LayoutModel",
      "state": {}
     },
     "448da7b38d71436fa591ef871e929199": {
      "model_module": "@jupyter-widgets/base",
      "model_module_version": "1.0.0",
      "model_name": "LayoutModel",
      "state": {}
     },
     "44b7029e9ef54219bf3fd4ff392dffee": {
      "model_module": "@jupyter-widgets/base",
      "model_module_version": "1.0.0",
      "model_name": "LayoutModel",
      "state": {}
     },
     "455cc0af905b4b2db93fb960e3d9842e": {
      "model_module": "@jupyter-widgets/base",
      "model_module_version": "1.0.0",
      "model_name": "LayoutModel",
      "state": {}
     },
     "456284c4bc4644ec824cad934213daf8": {
      "model_module": "@jupyter-widgets/controls",
      "model_module_version": "1.0.0",
      "model_name": "SliderStyleModel",
      "state": {
       "description_width": ""
      }
     },
     "45a3471c40d64b43b0dfd73efedf75b6": {
      "model_module": "@jupyter-widgets/controls",
      "model_module_version": "1.0.0",
      "model_name": "DropdownModel",
      "state": {
       "_options_labels": [
        "times",
        "courier",
        "arial"
       ],
       "description": "family",
       "index": 0,
       "layout": "IPY_MODEL_047416a2f6df4e6ebc415bdbb429152a",
       "style": "IPY_MODEL_f729e6ba566049ecb84f9fb1a9a65342"
      }
     },
     "4609185a79fb4121a94d20b90454a359": {
      "model_module": "@jupyter-widgets/controls",
      "model_module_version": "1.0.0",
      "model_name": "IntSliderModel",
      "state": {
       "description": "points",
       "layout": "IPY_MODEL_70434ecc6d1f46b297d87d3ce71dffb5",
       "style": "IPY_MODEL_d13360f84ee84b82b8e287ff3167fd95",
       "value": 26
      }
     },
     "464fb5516b2843e0822a385fe55c9fe0": {
      "model_module": "@jupyter-widgets/base",
      "model_module_version": "1.0.0",
      "model_name": "LayoutModel",
      "state": {}
     },
     "4667b46ada7b416486fd86b40e4a943c": {
      "model_module": "@jupyter-widgets/base",
      "model_module_version": "1.0.0",
      "model_name": "LayoutModel",
      "state": {}
     },
     "467f910a730c4d6cbed22720b85af472": {
      "model_module": "@jupyter-widgets/controls",
      "model_module_version": "1.0.0",
      "model_name": "IntSliderModel",
      "state": {
       "description": "x",
       "layout": "IPY_MODEL_1e2b0a8d20b046b2b19d8fce885027c0",
       "min": -100,
       "style": "IPY_MODEL_5e2d2b3dedb841f68b4809b78f3067bb"
      }
     },
     "46862053642a452c84cffa04293ab16d": {
      "model_module": "@jupyter-widgets/controls",
      "model_module_version": "1.0.0",
      "model_name": "IntSliderModel",
      "state": {
       "description": "degrees",
       "layout": "IPY_MODEL_bc09f4251d2b457c910fee4cc0b694f3",
       "max": 360,
       "min": -360,
       "style": "IPY_MODEL_0bf4376b67d44d42af0c84af1e921c85"
      }
     },
     "46b743a3910a417f97d1656b901e48c6": {
      "model_module": "@jupyter-widgets/controls",
      "model_module_version": "1.0.0",
      "model_name": "TabModel",
      "state": {
       "_titles": {
        "0": "Canvas",
        "1": "Snapshot"
       },
       "children": [
        "IPY_MODEL_6a6494d329b04ce3a3bee296ea2fed99",
        "IPY_MODEL_433bacb0973a4318b9ded7ef2cff266c"
       ],
       "layout": "IPY_MODEL_e549d5e587314f108d071f7f5b7fd284"
      }
     },
     "46c58fa1a10243179330baf00608de67": {
      "model_module": "@jupyter-widgets/controls",
      "model_module_version": "1.0.0",
      "model_name": "DescriptionStyleModel",
      "state": {
       "description_width": ""
      }
     },
     "46ce18dd9a104bedb071f6350c310866": {
      "model_module": "@jupyter-widgets/base",
      "model_module_version": "1.0.0",
      "model_name": "LayoutModel",
      "state": {}
     },
     "46cfffbf2dd84d38a01d790f34b90b10": {
      "model_module": "@jupyter-widgets/controls",
      "model_module_version": "1.0.0",
      "model_name": "FloatSliderModel",
      "state": {
       "description": "alpha",
       "layout": "IPY_MODEL_4a71e9c2b321456590da959057378edd",
       "max": 1,
       "step": 0.1,
       "style": "IPY_MODEL_5e87c4a6c0d2406b9793f388914a81aa",
       "value": 1
      }
     },
     "46ee34699d87447dbfd887c31f9b95e8": {
      "model_module": "jp_proxy_widget",
      "model_module_version": "^0.3.4",
      "model_name": "JSProxyModel",
      "state": {
       "_model_module_version": "^0.3.4",
       "_send_counter": 7,
       "_view_module_version": "^0.3.4",
       "error_msg": "No error",
       "layout": "IPY_MODEL_1994a870ccce4fc38f9d6d11bdf9e62a",
       "rendered": true,
       "status": "Got results."
      }
     },
     "46ff31d294d64f96bb7fe1d0377c899b": {
      "model_module": "@jupyter-widgets/controls",
      "model_module_version": "1.0.0",
      "model_name": "TabModel",
      "state": {
       "_titles": {
        "0": "Canvas",
        "1": "Snapshot"
       },
       "children": [
        "IPY_MODEL_7f73b391a61544d99976d28509df635c",
        "IPY_MODEL_abad411e43a94eb2b91b2a63337e8b73"
       ],
       "layout": "IPY_MODEL_96dcd8085b8346399dc5f74a4deedb27"
      }
     },
     "47007633e05d427f8f737455c3b14cde": {
      "model_module": "@jupyter-widgets/controls",
      "model_module_version": "1.0.0",
      "model_name": "DescriptionStyleModel",
      "state": {
       "description_width": ""
      }
     },
     "471d4d33bd7a49fe92d2a8288e45aa45": {
      "model_module": "@jupyter-widgets/controls",
      "model_module_version": "1.0.0",
      "model_name": "SliderStyleModel",
      "state": {
       "description_width": ""
      }
     },
     "4783b529701a46dca696b06456eac4c4": {
      "model_module": "@jupyter-widgets/controls",
      "model_module_version": "1.0.0",
      "model_name": "IntSliderModel",
      "state": {
       "description": "degrees",
       "layout": "IPY_MODEL_28c3ff7c2bbb401fab4f958cd1aad0e9",
       "max": 360,
       "min": -360,
       "style": "IPY_MODEL_2f97d9bde0e34483bf467c675d0a4e23"
      }
     },
     "4785d1f2e6774f8da026a11010a27c50": {
      "model_module": "@jupyter-widgets/controls",
      "model_module_version": "1.0.0",
      "model_name": "DropdownModel",
      "state": {
       "_options_labels": [
        "normal",
        "italic",
        "oblique"
       ],
       "description": "style",
       "index": 0,
       "layout": "IPY_MODEL_86f29bd3fdae4cb9988c8d2dc37138b5",
       "style": "IPY_MODEL_c72d558b934f4ff7bf72dc68243662d7"
      }
     },
     "47b9f53a7bb8418bb7e23f5f8dc3a9b6": {
      "model_module": "@jupyter-widgets/base",
      "model_module_version": "1.0.0",
      "model_name": "LayoutModel",
      "state": {}
     },
     "48199b5f1ddc4a4e876a3cbe531ff454": {
      "model_module": "@jupyter-widgets/controls",
      "model_module_version": "1.0.0",
      "model_name": "TextModel",
      "state": {
       "description": "text",
       "layout": "IPY_MODEL_b63ee6d9e56e42339a77e19abcf6039a",
       "style": "IPY_MODEL_01c91381b75a48b49a1448d3750e9058",
       "value": "Stella!"
      }
     },
     "482ec0dec1534e4f8ca47ad0b6e7f183": {
      "model_module": "@jupyter-widgets/controls",
      "model_module_version": "1.0.0",
      "model_name": "SliderStyleModel",
      "state": {
       "description_width": ""
      }
     },
     "48982d61d391483283d5d7c77dc593ba": {
      "model_module": "@jupyter-widgets/base",
      "model_module_version": "1.0.0",
      "model_name": "LayoutModel",
      "state": {}
     },
     "48af8f7a8c244947bfafc0ef05f7b9b6": {
      "model_module": "@jupyter-widgets/controls",
      "model_module_version": "1.0.0",
      "model_name": "SliderStyleModel",
      "state": {
       "description_width": ""
      }
     },
     "48b3fa82b2ca44cdac0b59f200bfd7f5": {
      "model_module": "@jupyter-widgets/controls",
      "model_module_version": "1.0.0",
      "model_name": "SliderStyleModel",
      "state": {
       "description_width": ""
      }
     },
     "48e5c22b54f941eb847f74c8e48b878e": {
      "model_module": "@jupyter-widgets/controls",
      "model_module_version": "1.0.0",
      "model_name": "IntSliderModel",
      "state": {
       "description": "blue",
       "layout": "IPY_MODEL_e75a16f623c34d9aa7eecfc716fcd7c1",
       "max": 255,
       "style": "IPY_MODEL_d923d386f48548b696759f5699fdebc1",
       "value": 255
      }
     },
     "48fc0c94c8ef41f488fdf2dd0fca7f59": {
      "model_module": "jp_proxy_widget",
      "model_module_version": "^0.3.4",
      "model_name": "JSProxyModel",
      "state": {
       "_model_module_version": "^0.3.4",
       "_send_counter": 2,
       "_view_module_version": "^0.3.4",
       "error_msg": "No error",
       "layout": "IPY_MODEL_e5198c63df6a4f98ad0c52b2aa2751f6",
       "rendered": true,
       "status": "Got results."
      }
     },
     "48fcb461f33e459bbc3d3f23a651adea": {
      "model_module": "@jupyter-widgets/base",
      "model_module_version": "1.0.0",
      "model_name": "LayoutModel",
      "state": {}
     },
     "48fd1af6dcd54b858b470952f5e20a3f": {
      "model_module": "@jupyter-widgets/controls",
      "model_module_version": "1.0.0",
      "model_name": "SliderStyleModel",
      "state": {
       "description_width": ""
      }
     },
     "490fd7622ece4312a5d26f75ddfb4245": {
      "model_module": "@jupyter-widgets/base",
      "model_module_version": "1.0.0",
      "model_name": "LayoutModel",
      "state": {}
     },
     "4912a80bd99b49e69a5487d7728d9ed5": {
      "model_module": "@jupyter-widgets/base",
      "model_module_version": "1.0.0",
      "model_name": "LayoutModel",
      "state": {}
     },
     "491c6293c09d484e9ec1b3ca286ff65b": {
      "model_module": "@jupyter-widgets/controls",
      "model_module_version": "1.0.0",
      "model_name": "IntSliderModel",
      "state": {
       "description": "green",
       "layout": "IPY_MODEL_fac87f5aad2f47eb9b86d85f04e15304",
       "max": 255,
       "style": "IPY_MODEL_afc845e169fa46cea3ef879829116d2c"
      }
     },
     "494cae029da64579ad515347fcf45da5": {
      "model_module": "jp_proxy_widget",
      "model_module_version": "^0.3.4",
      "model_name": "JSProxyModel",
      "state": {
       "_model_module_version": "^0.3.4",
       "_send_counter": 147,
       "_view_module_version": "^0.3.4",
       "error_msg": "No error",
       "layout": "IPY_MODEL_46ce18dd9a104bedb071f6350c310866",
       "rendered": true,
       "status": "Got results."
      }
     },
     "498065b088b64a16a84a6a13d6633ef1": {
      "model_module": "@jupyter-widgets/controls",
      "model_module_version": "1.0.0",
      "model_name": "IntSliderModel",
      "state": {
       "description": "blue",
       "layout": "IPY_MODEL_183b5a391e6e4b2cb51db0197fab2790",
       "max": 255,
       "style": "IPY_MODEL_94757874e4324feaab615dda6d7f01d1",
       "value": 134
      }
     },
     "498ab2b7e2ed413f9342608e75ece906": {
      "model_module": "@jupyter-widgets/controls",
      "model_module_version": "1.0.0",
      "model_name": "DropdownModel",
      "state": {
       "_options_labels": [
        "",
        "blue",
        "green",
        "pink",
        "brown",
        "cornsilk"
       ],
       "description": "background",
       "index": 0,
       "layout": "IPY_MODEL_0ae66814b850472faabdab32759cc441",
       "style": "IPY_MODEL_46c58fa1a10243179330baf00608de67"
      }
     },
     "49ee8b1058db4c7ba125fb9f2fb0e05b": {
      "model_module": "@jupyter-widgets/base",
      "model_module_version": "1.0.0",
      "model_name": "LayoutModel",
      "state": {}
     },
     "4a3407f9f39440749cc0b32530d684b0": {
      "model_module": "@jupyter-widgets/controls",
      "model_module_version": "1.0.0",
      "model_name": "TextModel",
      "state": {
       "description": "text",
       "layout": "IPY_MODEL_fb9de026125b41748399b20f7f975c70",
       "style": "IPY_MODEL_2ba572d3d02343139099dc496bff28d3",
       "value": "Stella!"
      }
     },
     "4a71e9c2b321456590da959057378edd": {
      "model_module": "@jupyter-widgets/base",
      "model_module_version": "1.0.0",
      "model_name": "LayoutModel",
      "state": {}
     },
     "4aa5f589e1b7478dbf9a0f2260067363": {
      "model_module": "@jupyter-widgets/base",
      "model_module_version": "1.0.0",
      "model_name": "LayoutModel",
      "state": {}
     },
     "4b192510f1ad42cf99fd860a2cd84a44": {
      "model_module": "@jupyter-widgets/base",
      "model_module_version": "1.0.0",
      "model_name": "LayoutModel",
      "state": {}
     },
     "4b25c59894064cc8ae6544a6d9d773e1": {
      "model_module": "@jupyter-widgets/controls",
      "model_module_version": "1.0.0",
      "model_name": "SliderStyleModel",
      "state": {
       "description_width": ""
      }
     },
     "4b3ad098badb426bb560a3015cf8d504": {
      "model_module": "@jupyter-widgets/controls",
      "model_module_version": "1.0.0",
      "model_name": "IntSliderModel",
      "state": {
       "description": "x",
       "layout": "IPY_MODEL_9976729cbed14b1ca63f81e29b0c1a02",
       "min": -100,
       "style": "IPY_MODEL_719e3334c46e4a52afb4bd0079e842e5"
      }
     },
     "4b64866648064144a257f2d9d1398c4b": {
      "model_module": "@jupyter-widgets/controls",
      "model_module_version": "1.0.0",
      "model_name": "IntSliderModel",
      "state": {
       "description": "y",
       "layout": "IPY_MODEL_59389512657f42ff866a97d7bc8d4e3c",
       "min": -100,
       "style": "IPY_MODEL_6fd5d09d3b28402f91491fcdfb6506f0",
       "value": -42
      }
     },
     "4b808de0b6ad4ecab9c87c3193464f0f": {
      "model_module": "jp_proxy_widget",
      "model_module_version": "^0.3.4",
      "model_name": "JSProxyModel",
      "state": {
       "_model_module_version": "^0.3.4",
       "_send_counter": 78,
       "_view_module_version": "^0.3.4",
       "error_msg": "No error",
       "layout": "IPY_MODEL_02512dc59e61450b8b2b62b9dd63bcac",
       "rendered": true,
       "status": "Got results."
      }
     },
     "4b90b496c17e48db933de51566ada666": {
      "model_module": "@jupyter-widgets/controls",
      "model_module_version": "1.0.0",
      "model_name": "HTMLModel",
      "state": {
       "layout": "IPY_MODEL_52dd35c21fa147b5ab730c0b62c7c4d4",
       "style": "IPY_MODEL_e5a3b89a6f29427f8fb4de0aab04a10e",
       "value": "<img src=\"interactive_circle.png\" id=\"snapshot_id_3_1536246246688\"/>\n <div id=\"snapshot_id_4_1536246246688\">interactive_circle.png</div>"
      }
     },
     "4bc77836274047259dd6a53fc61a70f4": {
      "model_module": "@jupyter-widgets/controls",
      "model_module_version": "1.0.0",
      "model_name": "SliderStyleModel",
      "state": {
       "description_width": ""
      }
     },
     "4bc7d050845741b9b989355ad510a218": {
      "model_module": "@jupyter-widgets/controls",
      "model_module_version": "1.0.0",
      "model_name": "IntSliderModel",
      "state": {
       "description": "blue",
       "layout": "IPY_MODEL_3dc13737412a4673b9f54cbedd66aefb",
       "max": 255,
       "style": "IPY_MODEL_cd7ad3b935e64efe981cf9f28d481f26",
       "value": 255
      }
     },
     "4bcc3ac8944d48539170d1e89bce0417": {
      "model_module": "@jupyter-widgets/base",
      "model_module_version": "1.0.0",
      "model_name": "LayoutModel",
      "state": {}
     },
     "4be5a79e239c4ea288091e8e9d87c354": {
      "model_module": "@jupyter-widgets/base",
      "model_module_version": "1.0.0",
      "model_name": "LayoutModel",
      "state": {}
     },
     "4bfc39b7ad2b4dd2b03437294ae8a494": {
      "model_module": "jp_proxy_widget",
      "model_module_version": "^0.3.4",
      "model_name": "JSProxyModel",
      "state": {
       "_model_module_version": "^0.3.4",
       "_send_counter": 2,
       "_view_module_version": "^0.3.4",
       "error_msg": "No error",
       "layout": "IPY_MODEL_11effc9b4d684044bac4a61fa0eacaa7",
       "rendered": true,
       "status": "Got results."
      }
     },
     "4c0b998c99ea45fea4dd95926a5b5579": {
      "model_module": "@jupyter-widgets/controls",
      "model_module_version": "1.0.0",
      "model_name": "IntSliderModel",
      "state": {
       "description": "x",
       "layout": "IPY_MODEL_50394f33d8b4451dbacffb1bd659c4f7",
       "min": -100,
       "style": "IPY_MODEL_f54931ffbf994a518aaf318ec361513e"
      }
     },
     "4c409ea5cd0d4117ad9d24eab669b304": {
      "model_module": "@jupyter-widgets/controls",
      "model_module_version": "1.0.0",
      "model_name": "DropdownModel",
      "state": {
       "_options_labels": [
        "left",
        "right",
        "center"
       ],
       "description": "align",
       "index": 0,
       "layout": "IPY_MODEL_5303da38c4e94d628ccbcf18ccaf2808",
       "style": "IPY_MODEL_fb622038cb6449c0a870ce6f63a0c891"
      }
     },
     "4c48691f515c41d6b5f8c569a5708577": {
      "model_module": "@jupyter-widgets/controls",
      "model_module_version": "1.0.0",
      "model_name": "SliderStyleModel",
      "state": {
       "description_width": ""
      }
     },
     "4c7bc2b5bdf24282a8b0b134ce50ecd0": {
      "model_module": "@jupyter-widgets/controls",
      "model_module_version": "1.0.0",
      "model_name": "SliderStyleModel",
      "state": {
       "description_width": ""
      }
     },
     "4c9ba6a8d15d48ff82b4b63fbdfec42d": {
      "model_module": "jp_proxy_widget",
      "model_module_version": "^0.3.4",
      "model_name": "JSProxyModel",
      "state": {
       "_model_module_version": "^0.3.4",
       "_send_counter": 2,
       "_view_module_version": "^0.3.4",
       "error_msg": "No error",
       "layout": "IPY_MODEL_16d341c7d0ed492cb5b510432cc4d078",
       "rendered": true,
       "status": "Got results."
      }
     },
     "4ced25d8025447b6a1bdc6d08ee778e4": {
      "model_module": "@jupyter-widgets/controls",
      "model_module_version": "1.0.0",
      "model_name": "IntSliderModel",
      "state": {
       "description": "green",
       "layout": "IPY_MODEL_a5f69e78401948b983d55ffeef11322c",
       "max": 255,
       "style": "IPY_MODEL_0ffacdeea28a4d518cd9b36addba4e47"
      }
     },
     "4d1c471cb01e4a07a2037e78674cc3ee": {
      "model_module": "@jupyter-widgets/controls",
      "model_module_version": "1.0.0",
      "model_name": "SliderStyleModel",
      "state": {
       "description_width": ""
      }
     },
     "4d3a7bf0082d4b7690cea1eada81b63b": {
      "model_module": "@jupyter-widgets/controls",
      "model_module_version": "1.0.0",
      "model_name": "DescriptionStyleModel",
      "state": {
       "description_width": ""
      }
     },
     "4d3b0cb2573a47c3acb0dd55ed698c7f": {
      "model_module": "@jupyter-widgets/base",
      "model_module_version": "1.0.0",
      "model_name": "LayoutModel",
      "state": {}
     },
     "4d57ca66b9894897b8fe3d03c2c3460a": {
      "model_module": "@jupyter-widgets/controls",
      "model_module_version": "1.0.0",
      "model_name": "SliderStyleModel",
      "state": {
       "description_width": ""
      }
     },
     "4d61024c3421416b94fffacf960b1b02": {
      "model_module": "@jupyter-widgets/base",
      "model_module_version": "1.0.0",
      "model_name": "LayoutModel",
      "state": {}
     },
     "4d7974b698f245e3b784f70761d959b8": {
      "model_module": "@jupyter-widgets/controls",
      "model_module_version": "1.0.0",
      "model_name": "IntSliderModel",
      "state": {
       "description": "blue",
       "layout": "IPY_MODEL_efa3bf782e794925a837c6159dd72847",
       "max": 255,
       "style": "IPY_MODEL_9f1f46c72a2e4d4ea894c49f2bb9e296",
       "value": 127
      }
     },
     "4d7dc592861040e481743ab21b7ca11e": {
      "model_module": "@jupyter-widgets/controls",
      "model_module_version": "1.0.0",
      "model_name": "VBoxModel",
      "state": {
       "children": [
        "IPY_MODEL_3ae80e42edc6492e9dc7fc09b1a1afb5",
        "IPY_MODEL_a06483f5d06e44038966140dbcfbed70"
       ],
       "layout": "IPY_MODEL_4aa5f589e1b7478dbf9a0f2260067363"
      }
     },
     "4da2d1a261a341eb975091e9ea08c765": {
      "model_module": "@jupyter-widgets/controls",
      "model_module_version": "1.0.0",
      "model_name": "FloatSliderModel",
      "state": {
       "description": "alpha",
       "layout": "IPY_MODEL_63bfeaa4362f476682b2ace72e54d3d5",
       "max": 1,
       "step": 0.1,
       "style": "IPY_MODEL_2e1bf41ccc744fa2a3c1e2321048e5b0",
       "value": 1
      }
     },
     "4dcdff024e914b58bb6b3468c4aa6ecb": {
      "model_module": "@jupyter-widgets/controls",
      "model_module_version": "1.0.0",
      "model_name": "TabModel",
      "state": {
       "_titles": {
        "0": "Canvas",
        "1": "Snapshot"
       },
       "children": [
        "IPY_MODEL_cf0f29811c1e4fe19a4da520a384bdb9",
        "IPY_MODEL_a0ce0e78cf2c45199ae9cc506964736f"
       ],
       "layout": "IPY_MODEL_0549ad3832a14c5eae86228413ea42ae"
      }
     },
     "4df9c4d1831d4dceb9ba1589c520bbde": {
      "model_module": "@jupyter-widgets/controls",
      "model_module_version": "1.0.0",
      "model_name": "SliderStyleModel",
      "state": {
       "description_width": ""
      }
     },
     "4e1d1a8733fc4cdbb4495a74bc300bd7": {
      "model_module": "@jupyter-widgets/controls",
      "model_module_version": "1.0.0",
      "model_name": "SliderStyleModel",
      "state": {
       "description_width": ""
      }
     },
     "4e85ca2ee6ce4dd8b293e0b42f3b4f56": {
      "model_module": "@jupyter-widgets/controls",
      "model_module_version": "1.0.0",
      "model_name": "SliderStyleModel",
      "state": {
       "description_width": ""
      }
     },
     "4ecc32bbbd6c4b05a9423b8ef1200a36": {
      "model_module": "jp_proxy_widget",
      "model_module_version": "^0.3.4",
      "model_name": "JSProxyModel",
      "state": {
       "_model_module_version": "^0.3.4",
       "_send_counter": 2,
       "_view_module_version": "^0.3.4",
       "error_msg": "No error",
       "layout": "IPY_MODEL_f43a974eb6314babab62d84f43e89f21",
       "rendered": true,
       "status": "Got results."
      }
     },
     "4ef993eb67774642bd48a4c780196768": {
      "model_module": "@jupyter-widgets/base",
      "model_module_version": "1.0.0",
      "model_name": "LayoutModel",
      "state": {}
     },
     "4f44fabbfae449b19b60b5356d71e75b": {
      "model_module": "@jupyter-widgets/controls",
      "model_module_version": "1.0.0",
      "model_name": "SliderStyleModel",
      "state": {
       "description_width": ""
      }
     },
     "4f58712fcb3a4da788d882aa5a65d701": {
      "model_module": "@jupyter-widgets/base",
      "model_module_version": "1.0.0",
      "model_name": "LayoutModel",
      "state": {}
     },
     "4f61ecb4d9db4af9a89070c29d0bfbbb": {
      "model_module": "@jupyter-widgets/base",
      "model_module_version": "1.0.0",
      "model_name": "LayoutModel",
      "state": {}
     },
     "4f61f9ef7a234855b84792c056e6cb32": {
      "model_module": "@jupyter-widgets/base",
      "model_module_version": "1.0.0",
      "model_name": "LayoutModel",
      "state": {}
     },
     "4f63b440d785425bba8baa39a45d7d37": {
      "model_module": "@jupyter-widgets/controls",
      "model_module_version": "1.0.0",
      "model_name": "VBoxModel",
      "state": {
       "children": [
        "IPY_MODEL_71d476e91d164256a742e7515f6c3ccf",
        "IPY_MODEL_0a783d2adb0940f0a74f8da5faef0d88"
       ],
       "layout": "IPY_MODEL_09c9c41714ea41f38aa7731af8b867a7"
      }
     },
     "4f749c07395f42579b03fbb61bef6432": {
      "model_module": "@jupyter-widgets/controls",
      "model_module_version": "1.0.0",
      "model_name": "DropdownModel",
      "state": {
       "_options_labels": [
        "normal",
        "italic",
        "oblique"
       ],
       "description": "style",
       "index": 0,
       "layout": "IPY_MODEL_8fea24356c194406adc95e2fc1fb3c4a",
       "style": "IPY_MODEL_cc7bb988a19a49b2af73775ff0261d0c"
      }
     },
     "4f95c3887cf847779cfdc721203b7ac7": {
      "model_module": "@jupyter-widgets/base",
      "model_module_version": "1.0.0",
      "model_name": "LayoutModel",
      "state": {}
     },
     "4fd3845a627b42dc8e304b676aa98450": {
      "model_module": "@jupyter-widgets/controls",
      "model_module_version": "1.0.0",
      "model_name": "SliderStyleModel",
      "state": {
       "description_width": ""
      }
     },
     "501e77993f834456ba079b2bcbfeef9b": {
      "model_module": "@jupyter-widgets/controls",
      "model_module_version": "1.0.0",
      "model_name": "FloatSliderModel",
      "state": {
       "description": "alpha",
       "layout": "IPY_MODEL_9f3cf8b18306416a963e2a33536ce226",
       "max": 1,
       "step": 0.1,
       "style": "IPY_MODEL_13a97aadd03243c4a6edb1330a98b853",
       "value": 1
      }
     },
     "5027fd4f925642d9b412dd5309ce1860": {
      "model_module": "@jupyter-widgets/base",
      "model_module_version": "1.0.0",
      "model_name": "LayoutModel",
      "state": {}
     },
     "5032cf378d6d4c5581056c3e4f4fe335": {
      "model_module": "@jupyter-widgets/controls",
      "model_module_version": "1.0.0",
      "model_name": "FloatSliderModel",
      "state": {
       "description": "alpha",
       "layout": "IPY_MODEL_bb6279aaf50045e49b21d2abea98ddcd",
       "max": 1,
       "step": 0.1,
       "style": "IPY_MODEL_8bd2a66d11f7443faba0edda344751e2",
       "value": 1
      }
     },
     "50394f33d8b4451dbacffb1bd659c4f7": {
      "model_module": "@jupyter-widgets/base",
      "model_module_version": "1.0.0",
      "model_name": "LayoutModel",
      "state": {}
     },
     "5067c36019b64d77b1a36e3770e12d92": {
      "model_module": "@jupyter-widgets/base",
      "model_module_version": "1.0.0",
      "model_name": "LayoutModel",
      "state": {}
     },
     "50eb72a1d55744d99a90b437e3a0caf4": {
      "model_module": "@jupyter-widgets/controls",
      "model_module_version": "1.0.0",
      "model_name": "SliderStyleModel",
      "state": {
       "description_width": ""
      }
     },
     "50ec648f3b9442b0b82784a7240a18d9": {
      "model_module": "@jupyter-widgets/controls",
      "model_module_version": "1.0.0",
      "model_name": "DropdownModel",
      "state": {
       "_options_labels": [
        "times",
        "courier",
        "arial"
       ],
       "description": "family",
       "index": 0,
       "layout": "IPY_MODEL_8bc09270c8a44fcc9cea343f8c513aad",
       "style": "IPY_MODEL_109a7c86c0064017938696b422530beb"
      }
     },
     "511b088e41894c51b69bde2a655ccc77": {
      "model_module": "@jupyter-widgets/controls",
      "model_module_version": "1.0.0",
      "model_name": "VBoxModel",
      "state": {
       "_dom_classes": [
        "widget-interact"
       ],
       "children": [
        "IPY_MODEL_17b8f446075a4e09b09620b699bdc6e4",
        "IPY_MODEL_22d2da0e1af14383a000d8bb17d69df9",
        "IPY_MODEL_c423533a81b9471ea5d27a33aa5ed61e",
        "IPY_MODEL_fd49982d55374bf99aea688f88177f3c",
        "IPY_MODEL_12eac598600b4fcf885de8204484653b",
        "IPY_MODEL_52e5853bc6fb4cdd86fc17ed418128f1",
        "IPY_MODEL_cf4192ecd5fb4ba590da557b4cc55e06",
        "IPY_MODEL_340807a8698c4584b6364214561f66c6",
        "IPY_MODEL_beac4960103a4ecdb4f202b48f968bb9",
        "IPY_MODEL_48e5c22b54f941eb847f74c8e48b878e",
        "IPY_MODEL_5032cf378d6d4c5581056c3e4f4fe335",
        "IPY_MODEL_c472bd0730ea4ecd964e5811d2d0e6c4"
       ],
       "layout": "IPY_MODEL_fc2e843bfdd24ea4b3913aa62844e03e"
      }
     },
     "5161bd5d3242454e95b7b6420182bdda": {
      "model_module": "@jupyter-widgets/controls",
      "model_module_version": "1.0.0",
      "model_name": "DropdownModel",
      "state": {
       "_options_labels": [
        "bottom",
        "center"
       ],
       "description": "valign",
       "index": 0,
       "layout": "IPY_MODEL_b5dea403e8a245c3abcc4f7a0d418a2f",
       "style": "IPY_MODEL_3f2d0bad3d4b4fd68eb991b4e8fef1df"
      }
     },
     "516bbfa40f9e4c47a1eda99264b37bdf": {
      "model_module": "@jupyter-widgets/controls",
      "model_module_version": "1.0.0",
      "model_name": "VBoxModel",
      "state": {
       "_dom_classes": [
        "widget-interact"
       ],
       "children": [
        "IPY_MODEL_856a9eb45a8d47e19f2c499d427305b4",
        "IPY_MODEL_4b64866648064144a257f2d9d1398c4b",
        "IPY_MODEL_d3f5c0b256e54b97896118642501354b",
        "IPY_MODEL_f19fcac4b69e476f8ef1224d701cd340",
        "IPY_MODEL_c28c31a7fbdc463aa0b518b2607d6672",
        "IPY_MODEL_4231938157474e4bac316d53841a5973",
        "IPY_MODEL_b671211910c647aca29d59067a96815e",
        "IPY_MODEL_bf2d2a756f0b4eed8035e411ca147aa3",
        "IPY_MODEL_708cfb771d7d4b3cabc58cd8f1c2aa20",
        "IPY_MODEL_90a23e4fca154fe59d30a5855109fc9e",
        "IPY_MODEL_6378548f74234013b9fa15312e2de367",
        "IPY_MODEL_ac4be335a9b142ac8b08de819c2899d8",
        "IPY_MODEL_55544ecd162449cf8011dfe13e631023",
        "IPY_MODEL_d2573eb5c2004b61a90802620c6d8987",
        "IPY_MODEL_c1dbe375875f47cb94f3bc887061f340"
       ],
       "layout": "IPY_MODEL_40a6b8ea36144206bed06da0576c7877"
      }
     },
     "51a0f07958e244549b47c618ea9b75be": {
      "model_module": "@jupyter-widgets/controls",
      "model_module_version": "1.0.0",
      "model_name": "DropdownModel",
      "state": {
       "_options_labels": [
        "normal",
        "italic",
        "oblique"
       ],
       "description": "style",
       "index": 0,
       "layout": "IPY_MODEL_d525e5f6e6d34b9983f1ce5b711abfbd",
       "style": "IPY_MODEL_69c5525a0eea4a27a8f42dc34a28ad09"
      }
     },
     "51b09fea0c0b46ed99a89e662c6f68a1": {
      "model_module": "@jupyter-widgets/controls",
      "model_module_version": "1.0.0",
      "model_name": "VBoxModel",
      "state": {
       "_dom_classes": [
        "widget-interact"
       ],
       "children": [
        "IPY_MODEL_0ac091066efb425cb2d3da86b3223a7b",
        "IPY_MODEL_9cdfa459e2f841198751c3c9db448d74",
        "IPY_MODEL_69bf215928a84d6fbbf6a5bab0f22906",
        "IPY_MODEL_ec1299cf0eff4dde8459fcacd2ce681e",
        "IPY_MODEL_5fafe85e28bd47c38440968aafb856a5",
        "IPY_MODEL_e0a1a94d2f5a4fb1ada66500cf1f8ad0",
        "IPY_MODEL_973d2d166cb54817b04ec75496fef86c",
        "IPY_MODEL_e83de38c04c542ce8601012522b6b783",
        "IPY_MODEL_0ffba13b4b844a2785dfdaae4de2c6ff",
        "IPY_MODEL_8dd27277b5c849e299f48645d3080b04",
        "IPY_MODEL_8e5184a739634726822f19358cebde85",
        "IPY_MODEL_28a6a0f2d17441b8851d635931c10fb0"
       ],
       "layout": "IPY_MODEL_e3afa9ee23c9461eb9135a3117f13943"
      }
     },
     "51d2e31842754ad6b2263377c221e90e": {
      "model_module": "@jupyter-widgets/base",
      "model_module_version": "1.0.0",
      "model_name": "LayoutModel",
      "state": {}
     },
     "51e61da5c3f94f8f8472316bc4157c7b": {
      "model_module": "@jupyter-widgets/controls",
      "model_module_version": "1.0.0",
      "model_name": "SliderStyleModel",
      "state": {
       "description_width": ""
      }
     },
     "51eb848c9cb6490e95d8ed57c016498d": {
      "model_module": "@jupyter-widgets/controls",
      "model_module_version": "1.0.0",
      "model_name": "SliderStyleModel",
      "state": {
       "description_width": ""
      }
     },
     "5219df53f7754cf7898e5c910facc49d": {
      "model_module": "@jupyter-widgets/controls",
      "model_module_version": "1.0.0",
      "model_name": "IntSliderModel",
      "state": {
       "description": "lineWidth",
       "layout": "IPY_MODEL_3f924d1212e94c4c98ebeff020b030f9",
       "max": 20,
       "style": "IPY_MODEL_41c6d7289a09447cae94c2eee94c6d89",
       "value": 7
      }
     },
     "522ce05d4f1049faac6390f1f00d9d27": {
      "model_module": "@jupyter-widgets/controls",
      "model_module_version": "1.0.0",
      "model_name": "TabModel",
      "state": {
       "_titles": {
        "0": "Canvas",
        "1": "Snapshot"
       },
       "children": [
        "IPY_MODEL_a0c16897fb294308adf18a667e67f308",
        "IPY_MODEL_182e90ccb34841028ebf955bdfe849ab"
       ],
       "layout": "IPY_MODEL_ad72dcbb69964036a91b04b5090a5eb3"
      }
     },
     "52629508090d47fcb7b2be2b4a594e3d": {
      "model_module": "jp_proxy_widget",
      "model_module_version": "^0.3.4",
      "model_name": "JSProxyModel",
      "state": {
       "_model_module_version": "^0.3.4",
       "_send_counter": 623,
       "_view_module_version": "^0.3.4",
       "error_msg": "No error",
       "layout": "IPY_MODEL_f2477f9b611448a2a57f7b3770d3ed55",
       "rendered": true,
       "status": "Got results."
      }
     },
     "52beaa73ef0f4f1eb560309d551dbc3f": {
      "model_module": "@jupyter-widgets/base",
      "model_module_version": "1.0.0",
      "model_name": "LayoutModel",
      "state": {}
     },
     "52cd4395d0154213bf112dec2227c1c4": {
      "model_module": "@jupyter-widgets/base",
      "model_module_version": "1.0.0",
      "model_name": "LayoutModel",
      "state": {}
     },
     "52dd35c21fa147b5ab730c0b62c7c4d4": {
      "model_module": "@jupyter-widgets/base",
      "model_module_version": "1.0.0",
      "model_name": "LayoutModel",
      "state": {}
     },
     "52e5853bc6fb4cdd86fc17ed418128f1": {
      "model_module": "@jupyter-widgets/controls",
      "model_module_version": "1.0.0",
      "model_name": "TextModel",
      "state": {
       "description": "family",
       "layout": "IPY_MODEL_5cadea05ad1a4b5fa5e8fbb389679320",
       "style": "IPY_MODEL_fcf775c3c6f14e83a34774cc4100d854",
       "value": "times courier arial"
      }
     },
     "52f3569491114ceba1dfdaf1f88ac7c2": {
      "model_module": "@jupyter-widgets/base",
      "model_module_version": "1.0.0",
      "model_name": "LayoutModel",
      "state": {}
     },
     "5303da38c4e94d628ccbcf18ccaf2808": {
      "model_module": "@jupyter-widgets/base",
      "model_module_version": "1.0.0",
      "model_name": "LayoutModel",
      "state": {}
     },
     "531ae58512f94b9998d8ed8759418349": {
      "model_module": "@jupyter-widgets/base",
      "model_module_version": "1.0.0",
      "model_name": "LayoutModel",
      "state": {}
     },
     "53320e1f8e7e4013967062b559a45b16": {
      "model_module": "@jupyter-widgets/controls",
      "model_module_version": "1.0.0",
      "model_name": "DropdownModel",
      "state": {
       "_options_labels": [
        "bottom",
        "center"
       ],
       "description": "valign",
       "index": 0,
       "layout": "IPY_MODEL_2beb47b940b4472296b86bdb6f0b0be6",
       "style": "IPY_MODEL_e889555f940c491bb5758e4d8e57468e"
      }
     },
     "5342cbd0a0cc4c5f9fe47b82643bfe2a": {
      "model_module": "jp_proxy_widget",
      "model_module_version": "^0.3.4",
      "model_name": "JSProxyModel",
      "state": {
       "_model_module_version": "^0.3.4",
       "_send_counter": 9,
       "_view_module_version": "^0.3.4",
       "error_msg": "No error",
       "layout": "IPY_MODEL_420fb2289d1e47c284a8d96abe7f3aa1",
       "rendered": true,
       "status": "Got results."
      }
     },
     "5346df3fa08f406b85f71cfbf7034902": {
      "model_module": "jp_proxy_widget",
      "model_module_version": "^0.3.4",
      "model_name": "JSProxyModel",
      "state": {
       "_model_module_version": "^0.3.4",
       "_send_counter": 2726,
       "_view_module_version": "^0.3.4",
       "error_msg": "No error",
       "layout": "IPY_MODEL_08319526df0443e9a41cf861a0861f13",
       "rendered": true,
       "status": "Got results."
      }
     },
     "53486bd127fd45ae945f73df6e1153bf": {
      "model_module": "@jupyter-widgets/controls",
      "model_module_version": "1.0.0",
      "model_name": "IntSliderModel",
      "state": {
       "description": "green",
       "layout": "IPY_MODEL_6087dac426db4dbfab40b51f5b37985d",
       "max": 255,
       "style": "IPY_MODEL_37684bb7566c45bcac399dc568899113",
       "value": 127
      }
     },
     "534a418b928645efb99961bdbf3d3417": {
      "model_module": "@jupyter-widgets/base",
      "model_module_version": "1.0.0",
      "model_name": "LayoutModel",
      "state": {}
     },
     "53cd1dd2905b44ee9982f6164d4e3852": {
      "model_module": "@jupyter-widgets/controls",
      "model_module_version": "1.0.0",
      "model_name": "IntSliderModel",
      "state": {
       "description": "r",
       "layout": "IPY_MODEL_29b67f2c596b4499a78ef084a1fb1a9f",
       "style": "IPY_MODEL_8515f031c10a4329ab9ad88eb373fb8a",
       "value": 50
      }
     },
     "540a02d88e304e3982b2aca6cd488a4d": {
      "model_module": "@jupyter-widgets/controls",
      "model_module_version": "1.0.0",
      "model_name": "HTMLModel",
      "state": {
       "layout": "IPY_MODEL_f6e3a8900cbb4f5eb3a1d4ba3225faaf",
       "style": "IPY_MODEL_fffb68012fb14a6ba86b1761a0bc5f64",
       "value": "<img src=\"interactive_text.png\" id=\"snapshot_id_15_1536319965063\"/>\n <div id=\"snapshot_id_16_1536319965063\">interactive_text.png</div>"
      }
     },
     "542e491ac39140828b2c8147565330df": {
      "model_module": "@jupyter-widgets/controls",
      "model_module_version": "1.0.0",
      "model_name": "TabModel",
      "state": {
       "_titles": {
        "0": "Canvas",
        "1": "Snapshot"
       },
       "children": [
        "IPY_MODEL_6296a7f088444181a50cb700bea90c66",
        "IPY_MODEL_4b90b496c17e48db933de51566ada666"
       ],
       "layout": "IPY_MODEL_1deb3f53ba704c21a8990d4c59f978f8"
      }
     },
     "54c68380937a47a4b4b0fcb790bf2c2e": {
      "model_module": "@jupyter-widgets/base",
      "model_module_version": "1.0.0",
      "model_name": "LayoutModel",
      "state": {}
     },
     "550a6dacc3ce40c2b07a6891de9e866c": {
      "model_module": "@jupyter-widgets/controls",
      "model_module_version": "1.0.0",
      "model_name": "VBoxModel",
      "state": {
       "_dom_classes": [
        "widget-interact"
       ],
       "children": [
        "IPY_MODEL_f5e705c30fec4d3488ac3fec21ddaeb1",
        "IPY_MODEL_f2c5e3d7dc7647ee96d68f93cd678e5c",
        "IPY_MODEL_95ea660bf80940b1861c35dd8b29b0e3",
        "IPY_MODEL_b32814a3909546348d771146e2cc04a5",
        "IPY_MODEL_07cea71eb023485c9026b8bfedc33150",
        "IPY_MODEL_58f80e5ce64c45409874b29bff43175c",
        "IPY_MODEL_ea99362f266a4e77a7f42eb24a6c7d11",
        "IPY_MODEL_3abd04a8adb0482296dc8eeb01405aa2",
        "IPY_MODEL_962fd963b8a34b459690737165e2682b",
        "IPY_MODEL_16892d5ba53447568a8748308e7bbad8",
        "IPY_MODEL_7895d0318ecf4cc49eba0188682100b7",
        "IPY_MODEL_bd03f2dc0e314aee9395e440a86b480c"
       ],
       "layout": "IPY_MODEL_9e9a47a314ac40818e6a2ff7c16ae1aa"
      }
     },
     "55392b438df34f41831796518c710a1e": {
      "model_module": "@jupyter-widgets/base",
      "model_module_version": "1.0.0",
      "model_name": "LayoutModel",
      "state": {}
     },
     "55509b020a6642a48b22b6e9b2d1953e": {
      "model_module": "@jupyter-widgets/base",
      "model_module_version": "1.0.0",
      "model_name": "LayoutModel",
      "state": {}
     },
     "55544ecd162449cf8011dfe13e631023": {
      "model_module": "@jupyter-widgets/controls",
      "model_module_version": "1.0.0",
      "model_name": "IntSliderModel",
      "state": {
       "description": "blue",
       "layout": "IPY_MODEL_22583889de3446cbb69df9633d825d9e",
       "max": 255,
       "style": "IPY_MODEL_c4c354844fae43ecbc738c76144f2497",
       "value": 255
      }
     },
     "5569ce1bf7074e4988d86c7e1bc19842": {
      "model_module": "jp_proxy_widget",
      "model_module_version": "^0.3.4",
      "model_name": "JSProxyModel",
      "state": {
       "_model_module_version": "^0.3.4",
       "_send_counter": 12,
       "_view_module_version": "^0.3.4",
       "error_msg": "No error",
       "layout": "IPY_MODEL_95787190fb414051bde8b10ed4bf7937",
       "rendered": true,
       "status": "Got results."
      }
     },
     "55bce9896171486db2e3da61861c320e": {
      "model_module": "@jupyter-widgets/controls",
      "model_module_version": "1.0.0",
      "model_name": "IntSliderModel",
      "state": {
       "description": "y",
       "layout": "IPY_MODEL_f183069381dc47ef92cf8ec0c12c87c8",
       "min": -100,
       "style": "IPY_MODEL_58f43aaa36c84334a42b42128938dd25"
      }
     },
     "55cef9dbc9314fb497d6d53b9550330d": {
      "model_module": "@jupyter-widgets/base",
      "model_module_version": "1.0.0",
      "model_name": "LayoutModel",
      "state": {}
     },
     "562132127dd04dd9b4bc4a5b81df056d": {
      "model_module": "@jupyter-widgets/output",
      "model_module_version": "1.0.0",
      "model_name": "OutputModel",
      "state": {
       "layout": "IPY_MODEL_afedd0cf86a54549a1291d271c295e55"
      }
     },
     "56b49ecf820b4ab0bc314123290a4631": {
      "model_module": "@jupyter-widgets/base",
      "model_module_version": "1.0.0",
      "model_name": "LayoutModel",
      "state": {}
     },
     "56ef1b5c57e3445fa59d89de77ec1047": {
      "model_module": "@jupyter-widgets/base",
      "model_module_version": "1.0.0",
      "model_name": "LayoutModel",
      "state": {}
     },
     "571967e6178941f5b171c632c8792dde": {
      "model_module": "@jupyter-widgets/controls",
      "model_module_version": "1.0.0",
      "model_name": "TextModel",
      "state": {
       "description": "text",
       "layout": "IPY_MODEL_4667b46ada7b416486fd86b40e4a943c",
       "style": "IPY_MODEL_c20d01b4c5c54814ba06767fcbc535f2",
       "value": "Stella!"
      }
     },
     "572a3b6ce8bb425582cf8bd467ef3e9a": {
      "model_module": "@jupyter-widgets/controls",
      "model_module_version": "1.0.0",
      "model_name": "IntSliderModel",
      "state": {
       "description": "red",
       "layout": "IPY_MODEL_7390848d82274b489455146b91d2c590",
       "max": 255,
       "style": "IPY_MODEL_df155fe1c2d543efb3c410dfd6353f37",
       "value": 56
      }
     },
     "5731f9f3dadf4b07b25917e7bca255b6": {
      "model_module": "@jupyter-widgets/controls",
      "model_module_version": "1.0.0",
      "model_name": "IntSliderModel",
      "state": {
       "description": "red",
       "layout": "IPY_MODEL_11c5f59ec26b4c4da592ae8e89b38d47",
       "max": 255,
       "style": "IPY_MODEL_3b9f01bcdb4347a9938e7b1a24c95ad5",
       "value": 255
      }
     },
     "57379ef972a042bbbae4d66672bbbf49": {
      "model_module": "@jupyter-widgets/controls",
      "model_module_version": "1.0.0",
      "model_name": "FloatSliderModel",
      "state": {
       "description": "alpha",
       "layout": "IPY_MODEL_31055da1faf849179e57bac70925eb6e",
       "max": 1,
       "step": 0.1,
       "style": "IPY_MODEL_01635c761dc347cc8e40ffd3d802a919",
       "value": 1
      }
     },
     "57413367ed8f4589a00e21cfda0faf68": {
      "model_module": "@jupyter-widgets/controls",
      "model_module_version": "1.0.0",
      "model_name": "SliderStyleModel",
      "state": {
       "description_width": ""
      }
     },
     "577aedbb1d904c649c733aecd58d83db": {
      "model_module": "@jupyter-widgets/controls",
      "model_module_version": "1.0.0",
      "model_name": "SliderStyleModel",
      "state": {
       "description_width": ""
      }
     },
     "57c812765edd48058e563e2bc034ae84": {
      "model_module": "@jupyter-widgets/base",
      "model_module_version": "1.0.0",
      "model_name": "LayoutModel",
      "state": {}
     },
     "58431f0f25a0457d87adf9c148322d86": {
      "model_module": "@jupyter-widgets/controls",
      "model_module_version": "1.0.0",
      "model_name": "SliderStyleModel",
      "state": {
       "description_width": ""
      }
     },
     "588b32d2e13b4c4a8d73b5f9f7e50f97": {
      "model_module": "@jupyter-widgets/controls",
      "model_module_version": "1.0.0",
      "model_name": "DescriptionStyleModel",
      "state": {
       "description_width": ""
      }
     },
     "588f7eecd5c14832bedc9b0fb00fd8d4": {
      "model_module": "@jupyter-widgets/base",
      "model_module_version": "1.0.0",
      "model_name": "LayoutModel",
      "state": {}
     },
     "58efc72c5ca841459d12dbd099586c17": {
      "model_module": "@jupyter-widgets/controls",
      "model_module_version": "1.0.0",
      "model_name": "DropdownModel",
      "state": {
       "_options_labels": [
        "",
        "blue",
        "green",
        "pink",
        "brown",
        "cornsilk"
       ],
       "description": "background",
       "index": 5,
       "layout": "IPY_MODEL_bb3c0733ffd14afeaa2c1f229be9f6ab",
       "style": "IPY_MODEL_d63c7726b7504f4684d935833837812e"
      }
     },
     "58f43aaa36c84334a42b42128938dd25": {
      "model_module": "@jupyter-widgets/controls",
      "model_module_version": "1.0.0",
      "model_name": "SliderStyleModel",
      "state": {
       "description_width": ""
      }
     },
     "58f80e5ce64c45409874b29bff43175c": {
      "model_module": "@jupyter-widgets/controls",
      "model_module_version": "1.0.0",
      "model_name": "CheckboxModel",
      "state": {
       "description": "fill",
       "disabled": false,
       "layout": "IPY_MODEL_143b40abd0c74a17ad2101fc0641b2b3",
       "style": "IPY_MODEL_ead796fc3a1d4c3d8adb40e912cec8f2",
       "value": false
      }
     },
     "58fd6576b2fd423b9ffa0c7959e253c6": {
      "model_module": "@jupyter-widgets/controls",
      "model_module_version": "1.0.0",
      "model_name": "IntSliderModel",
      "state": {
       "description": "green",
       "layout": "IPY_MODEL_102f81a1da9d4025935e89118791cb7d",
       "max": 255,
       "style": "IPY_MODEL_b671246a91c141b196a52ee24b88f545"
      }
     },
     "591b76202ac54793a9e9a53dcf51c1d7": {
      "model_module": "@jupyter-widgets/controls",
      "model_module_version": "1.0.0",
      "model_name": "VBoxModel",
      "state": {
       "children": [
        "IPY_MODEL_4b808de0b6ad4ecab9c87c3193464f0f",
        "IPY_MODEL_4ecc32bbbd6c4b05a9423b8ef1200a36"
       ],
       "layout": "IPY_MODEL_1ca4f1262179487e9d29a3edcaf82297"
      }
     },
     "59389512657f42ff866a97d7bc8d4e3c": {
      "model_module": "@jupyter-widgets/base",
      "model_module_version": "1.0.0",
      "model_name": "LayoutModel",
      "state": {}
     },
     "5948de2d202f4dcaba8b3c671bc025de": {
      "model_module": "@jupyter-widgets/controls",
      "model_module_version": "1.0.0",
      "model_name": "DescriptionStyleModel",
      "state": {
       "description_width": ""
      }
     },
     "5964f09dd1a3492e81dcd07cdf5b0e2f": {
      "model_module": "@jupyter-widgets/base",
      "model_module_version": "1.0.0",
      "model_name": "LayoutModel",
      "state": {}
     },
     "599233db619346a4b97e810cf7ba48f0": {
      "model_module": "@jupyter-widgets/base",
      "model_module_version": "1.0.0",
      "model_name": "LayoutModel",
      "state": {}
     },
     "59d0251e5689457d892cd2d1a956e974": {
      "model_module": "@jupyter-widgets/base",
      "model_module_version": "1.0.0",
      "model_name": "LayoutModel",
      "state": {}
     },
     "59e10485f140416f8f7c1893934942e8": {
      "model_module": "@jupyter-widgets/controls",
      "model_module_version": "1.0.0",
      "model_name": "HTMLModel",
      "state": {
       "layout": "IPY_MODEL_0075135614be4bc8a7b4d00cd16d43a1",
       "style": "IPY_MODEL_cb4e29fb680a4de68db5ecc9e22cf8c3",
       "value": "<img src=\"interactive_text.png\" id=\"snapshot_id_11_1536270116479\"/>\n <div id=\"snapshot_id_12_1536270116479\">interactive_text.png</div>"
      }
     },
     "59e772fc89b54e239295b6806edb722e": {
      "model_module": "@jupyter-widgets/controls",
      "model_module_version": "1.0.0",
      "model_name": "TabModel",
      "state": {
       "_titles": {
        "0": "Canvas",
        "1": "Snapshot"
       },
       "children": [
        "IPY_MODEL_00891a882807490f9c8a9813efa8f2ab",
        "IPY_MODEL_eb760af13372405c9cebc564826572b4"
       ],
       "layout": "IPY_MODEL_caf3676b517c4648b8708e792fb8e9e2"
      }
     },
     "5a099e350c7a4ce5b1acf3961d49a60c": {
      "model_module": "@jupyter-widgets/controls",
      "model_module_version": "1.0.0",
      "model_name": "FloatSliderModel",
      "state": {
       "description": "arc",
       "layout": "IPY_MODEL_4392b306158b4b6bb331aea9b210afe8",
       "max": 6.283185307179586,
       "step": 0.1,
       "style": "IPY_MODEL_7934e4b314d04c60a45959b29c2a3350",
       "value": 6.2
      }
     },
     "5a37f347672e48bd8f2a78eaaaf41828": {
      "model_module": "@jupyter-widgets/controls",
      "model_module_version": "1.0.0",
      "model_name": "DescriptionStyleModel",
      "state": {
       "description_width": ""
      }
     },
     "5a3b78b492ae4dcdb14c792d743025ac": {
      "model_module": "@jupyter-widgets/base",
      "model_module_version": "1.0.0",
      "model_name": "LayoutModel",
      "state": {}
     },
     "5a8d6f46a8084d5e92434335feabb89c": {
      "model_module": "@jupyter-widgets/controls",
      "model_module_version": "1.0.0",
      "model_name": "IntSliderModel",
      "state": {
       "description": "x",
       "layout": "IPY_MODEL_19b4ed31efd644f989464e0e904b27fb",
       "min": -100,
       "style": "IPY_MODEL_2e34cd67022644ac94e51be481464a52"
      }
     },
     "5aae51f7a2664bb491fa4d63bc4af117": {
      "model_module": "@jupyter-widgets/controls",
      "model_module_version": "1.0.0",
      "model_name": "VBoxModel",
      "state": {
       "children": [
        "IPY_MODEL_494cae029da64579ad515347fcf45da5",
        "IPY_MODEL_957cc7699a144899981e464db6327408"
       ],
       "layout": "IPY_MODEL_2a880959e5a94033a66b882e09687e50"
      }
     },
     "5b041f78229d452f978c6a226f89bb2c": {
      "model_module": "@jupyter-widgets/controls",
      "model_module_version": "1.0.0",
      "model_name": "IntSliderModel",
      "state": {
       "description": "r",
       "layout": "IPY_MODEL_c051e60ad16e4262b6ba4ae9b9828076",
       "style": "IPY_MODEL_577aedbb1d904c649c733aecd58d83db",
       "value": 50
      }
     },
     "5b3fd46a23b04c3b8784d83d2ef292ac": {
      "model_module": "@jupyter-widgets/controls",
      "model_module_version": "1.0.0",
      "model_name": "FloatSliderModel",
      "state": {
       "description": "start",
       "layout": "IPY_MODEL_42ac1e9ba8d44f048a605cb200f0714d",
       "max": 6.283185307179586,
       "step": 0.1,
       "style": "IPY_MODEL_64325dbcb24f47be93ed8a9c8d3463f2",
       "value": 1.2
      }
     },
     "5b702fe5997748058e3299bddfc0830a": {
      "model_module": "@jupyter-widgets/base",
      "model_module_version": "1.0.0",
      "model_name": "LayoutModel",
      "state": {}
     },
     "5b930436d2ec46a4bacd2d556fcd400f": {
      "model_module": "@jupyter-widgets/controls",
      "model_module_version": "1.0.0",
      "model_name": "SliderStyleModel",
      "state": {
       "description_width": ""
      }
     },
     "5bc86fe162074d7e9b337fe205a9f53c": {
      "model_module": "@jupyter-widgets/base",
      "model_module_version": "1.0.0",
      "model_name": "LayoutModel",
      "state": {}
     },
     "5bd9ce45e05749a0baa00517c14f9698": {
      "model_module": "@jupyter-widgets/controls",
      "model_module_version": "1.0.0",
      "model_name": "FloatSliderModel",
      "state": {
       "description": "alpha",
       "layout": "IPY_MODEL_ff1ff6a43e1447899a55b33c197f12e8",
       "max": 1,
       "step": 0.1,
       "style": "IPY_MODEL_4f44fabbfae449b19b60b5356d71e75b",
       "value": 1
      }
     },
     "5be1a133048d4a7990fa0b2b1d9cad8e": {
      "model_module": "@jupyter-widgets/controls",
      "model_module_version": "1.0.0",
      "model_name": "IntSliderModel",
      "state": {
       "description": "green",
       "layout": "IPY_MODEL_a0fb369968714d18802b8bd74fe3e433",
       "max": 255,
       "style": "IPY_MODEL_789475e0aec841d3a1c7cf1c717bece7",
       "value": 82
      }
     },
     "5be64bc9a28c4098989690d44ea350ac": {
      "model_module": "@jupyter-widgets/base",
      "model_module_version": "1.0.0",
      "model_name": "LayoutModel",
      "state": {}
     },
     "5c4e273fbb2e4e21a2c451ba49557d68": {
      "model_module": "@jupyter-widgets/base",
      "model_module_version": "1.0.0",
      "model_name": "LayoutModel",
      "state": {}
     },
     "5c6094353fe94043ae1121e451d5d6dd": {
      "model_module": "@jupyter-widgets/controls",
      "model_module_version": "1.0.0",
      "model_name": "SliderStyleModel",
      "state": {
       "description_width": ""
      }
     },
     "5c7420cc1f104ba787320e764fab3026": {
      "model_module": "@jupyter-widgets/controls",
      "model_module_version": "1.0.0",
      "model_name": "IntSliderModel",
      "state": {
       "description": "blue",
       "layout": "IPY_MODEL_86e75332d2724aee949db61c7c96caff",
       "max": 255,
       "style": "IPY_MODEL_cadb83e6cf5148d18eee775ad4058982",
       "value": 255
      }
     },
     "5c80e166e06a4cc9a8fbac324adbb7ac": {
      "model_module": "@jupyter-widgets/output",
      "model_module_version": "1.0.0",
      "model_name": "OutputModel",
      "state": {
       "layout": "IPY_MODEL_0471fb02c3b1445cb643143b3131ff0e"
      }
     },
     "5ca3f726dcba4713a8f372a5c8bce38d": {
      "model_module": "@jupyter-widgets/base",
      "model_module_version": "1.0.0",
      "model_name": "LayoutModel",
      "state": {}
     },
     "5cadea05ad1a4b5fa5e8fbb389679320": {
      "model_module": "@jupyter-widgets/base",
      "model_module_version": "1.0.0",
      "model_name": "LayoutModel",
      "state": {}
     },
     "5cae9cd0839d460f8c9c083ef5787246": {
      "model_module": "jp_proxy_widget",
      "model_module_version": "^0.3.4",
      "model_name": "JSProxyModel",
      "state": {
       "_model_module_version": "^0.3.4",
       "_send_counter": 2,
       "_view_module_version": "^0.3.4",
       "error_msg": "No error",
       "layout": "IPY_MODEL_278761cef79a4074836119b8b0222f88",
       "rendered": true,
       "status": "Got results."
      }
     },
     "5caef0a5004e4315a212fb9303d9ab20": {
      "model_module": "@jupyter-widgets/base",
      "model_module_version": "1.0.0",
      "model_name": "LayoutModel",
      "state": {}
     },
     "5ce051275ef54c379c8c113ad2438a21": {
      "model_module": "@jupyter-widgets/base",
      "model_module_version": "1.0.0",
      "model_name": "LayoutModel",
      "state": {}
     },
     "5ceb8600e559424392fdee302872cd3a": {
      "model_module": "@jupyter-widgets/base",
      "model_module_version": "1.0.0",
      "model_name": "LayoutModel",
      "state": {}
     },
     "5d4cb3ad57674a56a9ccb65f7c050f02": {
      "model_module": "@jupyter-widgets/controls",
      "model_module_version": "1.0.0",
      "model_name": "SliderStyleModel",
      "state": {
       "description_width": ""
      }
     },
     "5d69ed3ff2f74b48a32ccf4497d84cd5": {
      "model_module": "@jupyter-widgets/base",
      "model_module_version": "1.0.0",
      "model_name": "LayoutModel",
      "state": {}
     },
     "5de9d90490c04c9a976588930788d7cf": {
      "model_module": "@jupyter-widgets/base",
      "model_module_version": "1.0.0",
      "model_name": "LayoutModel",
      "state": {}
     },
     "5e2d2b3dedb841f68b4809b78f3067bb": {
      "model_module": "@jupyter-widgets/controls",
      "model_module_version": "1.0.0",
      "model_name": "SliderStyleModel",
      "state": {
       "description_width": ""
      }
     },
     "5e2d83a795e34134bd4831f5e749b2f6": {
      "model_module": "@jupyter-widgets/base",
      "model_module_version": "1.0.0",
      "model_name": "LayoutModel",
      "state": {}
     },
     "5e31e23242f54e538493ed95103f0559": {
      "model_module": "@jupyter-widgets/base",
      "model_module_version": "1.0.0",
      "model_name": "LayoutModel",
      "state": {}
     },
     "5e723c9ab07143bca0693263bc9f267d": {
      "model_module": "@jupyter-widgets/controls",
      "model_module_version": "1.0.0",
      "model_name": "VBoxModel",
      "state": {
       "_dom_classes": [
        "widget-interact"
       ],
       "children": [
        "IPY_MODEL_0596668692e34686be3309215f8ab5a3",
        "IPY_MODEL_b956385845024940a3952b2ae422c3b6",
        "IPY_MODEL_2a3a8a551b87449eb36f5b014ddf79de",
        "IPY_MODEL_34b6f51406e046cbbbb4a176c14387d9",
        "IPY_MODEL_4f749c07395f42579b03fbb61bef6432",
        "IPY_MODEL_2c1f21c40fbe4b3188e0259628b106a4",
        "IPY_MODEL_1d9dd1cf0f77498fa2d2997f50835c54",
        "IPY_MODEL_9a45c46214dc4734986d184184a4fd6c",
        "IPY_MODEL_97b2a1af041649a9bc643590cf743c29",
        "IPY_MODEL_743c031609e74f5bb0ece92eeb609f4d",
        "IPY_MODEL_de2b7e36f65046b7a3ff7664ae38e21c",
        "IPY_MODEL_79b8136f78544586b6e28f23ea6348e4"
       ],
       "layout": "IPY_MODEL_4d3b0cb2573a47c3acb0dd55ed698c7f"
      }
     },
     "5e87c4a6c0d2406b9793f388914a81aa": {
      "model_module": "@jupyter-widgets/controls",
      "model_module_version": "1.0.0",
      "model_name": "SliderStyleModel",
      "state": {
       "description_width": ""
      }
     },
     "5e8de4973518427095d773ea3eaa2419": {
      "model_module": "@jupyter-widgets/controls",
      "model_module_version": "1.0.0",
      "model_name": "SliderStyleModel",
      "state": {
       "description_width": ""
      }
     },
     "5f459d8122144869af3120716b137eaf": {
      "model_module": "@jupyter-widgets/controls",
      "model_module_version": "1.0.0",
      "model_name": "IntSliderModel",
      "state": {
       "description": "y",
       "layout": "IPY_MODEL_97ae442a8e614bd29144f71297c128b3",
       "min": -100,
       "style": "IPY_MODEL_66fa7f46b94345b39d57ec0c906c6b55"
      }
     },
     "5f5c468e3fe14298921a6cf79be27401": {
      "model_module": "@jupyter-widgets/base",
      "model_module_version": "1.0.0",
      "model_name": "LayoutModel",
      "state": {}
     },
     "5f605a3c0bf94dd7b50caaa65efc0ffa": {
      "model_module": "@jupyter-widgets/controls",
      "model_module_version": "1.0.0",
      "model_name": "FloatSliderModel",
      "state": {
       "description": "alpha",
       "layout": "IPY_MODEL_24527cb028fc4366a60ff6d4e3deb435",
       "max": 1,
       "step": 0.1,
       "style": "IPY_MODEL_5b930436d2ec46a4bacd2d556fcd400f",
       "value": 0.5
      }
     },
     "5f73a2f7556a47cfac7bb9f17e67dec3": {
      "model_module": "@jupyter-widgets/controls",
      "model_module_version": "1.0.0",
      "model_name": "VBoxModel",
      "state": {
       "_dom_classes": [
        "widget-interact"
       ],
       "children": [
        "IPY_MODEL_4c0b998c99ea45fea4dd95926a5b5579",
        "IPY_MODEL_bc6d5b2647514437ae85576f4a000c82",
        "IPY_MODEL_f8b1a7dfac3d4853a7448aa76b7fbee5",
        "IPY_MODEL_3419dc5c58524a888b42415622ad58f4",
        "IPY_MODEL_c7badb3118b949b4ae3e4b76fbd945a0",
        "IPY_MODEL_023b8ec8373c47afa8b2799297194cd2",
        "IPY_MODEL_8ef295ff04ef40ffade266cfdd00b132",
        "IPY_MODEL_4783b529701a46dca696b06456eac4c4",
        "IPY_MODEL_0a8329b3a12a478e84a53d841e6caaec",
        "IPY_MODEL_1758f42542104884a98a67f7127fa6de",
        "IPY_MODEL_65a87398eb784ff683a2e05abb6035df",
        "IPY_MODEL_075c078a83814b8497dbbe75bf9b5c64",
        "IPY_MODEL_357a5ba0eb824ec38a0d60209da142f4",
        "IPY_MODEL_ef2fc09babae40d1a7cc35ec636106a0",
        "IPY_MODEL_f46a526df09e47a698484132c407da97"
       ],
       "layout": "IPY_MODEL_3709e14b28004dfebb93e408cc0666b3"
      }
     },
     "5fafe85e28bd47c38440968aafb856a5": {
      "model_module": "@jupyter-widgets/controls",
      "model_module_version": "1.0.0",
      "model_name": "DropdownModel",
      "state": {
       "_options_labels": [
        "normal",
        "italic",
        "oblique"
       ],
       "description": "style",
       "index": 0,
       "layout": "IPY_MODEL_988b0d9c953d4c909f9c5eef41f629df",
       "style": "IPY_MODEL_b0a18523e7eb41a7a044928efeff7705"
      }
     },
     "5fd66191b18246f8ace0c8f2d90afa26": {
      "model_module": "@jupyter-widgets/controls",
      "model_module_version": "1.0.0",
      "model_name": "IntSliderModel",
      "state": {
       "description": "red",
       "layout": "IPY_MODEL_b0c9a842d4af4dda9c0362edb30fdd31",
       "max": 255,
       "style": "IPY_MODEL_8f049360ac2e4f72bd1d86054e5c7d7c",
       "value": 127
      }
     },
     "5fdc71e79e244e9ba11069045976f111": {
      "model_module": "@jupyter-widgets/controls",
      "model_module_version": "1.0.0",
      "model_name": "IntSliderModel",
      "state": {
       "description": "blue",
       "layout": "IPY_MODEL_f36a8890b4a644d58fbd821584a36883",
       "max": 255,
       "style": "IPY_MODEL_d795fc1c655a4c2983521394b5ed6597",
       "value": 255
      }
     },
     "5ff7b85eb15b486a912d40536fc04afb": {
      "model_module": "@jupyter-widgets/controls",
      "model_module_version": "1.0.0",
      "model_name": "DropdownModel",
      "state": {
       "_options_labels": [
        "normal",
        "italic",
        "oblique"
       ],
       "description": "style",
       "index": 0,
       "layout": "IPY_MODEL_767ae7f4ff954c3dbe2dca4f1398d48c",
       "style": "IPY_MODEL_040908452424441fad19614ced635b29"
      }
     },
     "600fe8cf5a7b4a9c88c3a6274e10f166": {
      "model_module": "@jupyter-widgets/base",
      "model_module_version": "1.0.0",
      "model_name": "LayoutModel",
      "state": {}
     },
     "6013faeeb3f54e0c92e71fa3dd152aa4": {
      "model_module": "@jupyter-widgets/controls",
      "model_module_version": "1.0.0",
      "model_name": "HTMLModel",
      "state": {
       "layout": "IPY_MODEL_663526034e0a4bca85bbdcac8ba872b7",
       "style": "IPY_MODEL_e08df3d34c844af6ad6882c76d7c9cfd",
       "value": "<img src=\"interactive_circle.png\" id=\"snapshot_id_5_1536246292173\"/>\n <div id=\"snapshot_id_6_1536246292173\">interactive_circle.png</div>"
      }
     },
     "602f43d0438440499f2c0ccf9da9c35e": {
      "model_module": "@jupyter-widgets/base",
      "model_module_version": "1.0.0",
      "model_name": "LayoutModel",
      "state": {}
     },
     "60317f55f3924232af762649476ea7f7": {
      "model_module": "@jupyter-widgets/controls",
      "model_module_version": "1.0.0",
      "model_name": "SliderStyleModel",
      "state": {
       "description_width": ""
      }
     },
     "6071918863be40938710b88abcde2ba4": {
      "model_module": "@jupyter-widgets/base",
      "model_module_version": "1.0.0",
      "model_name": "LayoutModel",
      "state": {}
     },
     "6075f317384749ccb54a92044c9c7500": {
      "model_module": "@jupyter-widgets/controls",
      "model_module_version": "1.0.0",
      "model_name": "SliderStyleModel",
      "state": {
       "description_width": ""
      }
     },
     "6087dac426db4dbfab40b51f5b37985d": {
      "model_module": "@jupyter-widgets/base",
      "model_module_version": "1.0.0",
      "model_name": "LayoutModel",
      "state": {}
     },
     "6091b821ff73407590a8029cb6fa1c68": {
      "model_module": "@jupyter-widgets/base",
      "model_module_version": "1.0.0",
      "model_name": "LayoutModel",
      "state": {}
     },
     "60b5b862ab7e4d7aaa8ce24191ab6e24": {
      "model_module": "jp_proxy_widget",
      "model_module_version": "^0.3.4",
      "model_name": "JSProxyModel",
      "state": {
       "_model_module_version": "^0.3.4",
       "_send_counter": 1093,
       "_view_module_version": "^0.3.4",
       "error_msg": "Error: bad offsets",
       "layout": "IPY_MODEL_0a0bfbafe787495bab6bda6af80167e2",
       "rendered": true,
       "status": "Got results."
      }
     },
     "60d1a15b07c54779bd30e5c26d2f0529": {
      "model_module": "@jupyter-widgets/base",
      "model_module_version": "1.0.0",
      "model_name": "LayoutModel",
      "state": {}
     },
     "60ed7062a70346a09229b1ddc629aeab": {
      "model_module": "@jupyter-widgets/controls",
      "model_module_version": "1.0.0",
      "model_name": "VBoxModel",
      "state": {
       "_dom_classes": [
        "widget-interact"
       ],
       "children": [
        "IPY_MODEL_caaeac4ce9754a619d66477a6ed902e9",
        "IPY_MODEL_6738d0336ebf44b29b1582928b866f84",
        "IPY_MODEL_907293990c2344b1a81dbe1185a981b4",
        "IPY_MODEL_5731f9f3dadf4b07b25917e7bca255b6",
        "IPY_MODEL_3a3797311afe4614813177f03d4c72ac",
        "IPY_MODEL_19567e63837e48fa8acc7fe59f47ac91",
        "IPY_MODEL_8cccb48a9ff3463fba96100c4e6260b2",
        "IPY_MODEL_5c80e166e06a4cc9a8fbac324adbb7ac"
       ],
       "layout": "IPY_MODEL_c5b2a34cb7294d459365381e3e13c8e6"
      }
     },
     "613eade50c50423cb1be49e1b9f32926": {
      "model_module": "@jupyter-widgets/base",
      "model_module_version": "1.0.0",
      "model_name": "LayoutModel",
      "state": {}
     },
     "614cb14431504f7eaa8060eb2c6605ed": {
      "model_module": "@jupyter-widgets/controls",
      "model_module_version": "1.0.0",
      "model_name": "HTMLModel",
      "state": {
       "layout": "IPY_MODEL_3f1f43ae23ca4c68be73a8e730710621",
       "style": "IPY_MODEL_f59ceb443c644476a9738231362de665",
       "value": "<img src=\"interactive_text.png\" id=\"snapshot_id_1_1536324422547\"/>\n <div id=\"snapshot_id_2_1536324422547\">interactive_text.png</div>"
      }
     },
     "614fcffc8f4c44b9b526a00215b15911": {
      "model_module": "@jupyter-widgets/controls",
      "model_module_version": "1.0.0",
      "model_name": "TabModel",
      "state": {
       "_titles": {
        "0": "Canvas",
        "1": "Snapshot"
       },
       "children": [
        "IPY_MODEL_88c822b822ac456c8c9a541824b95360",
        "IPY_MODEL_068449d6e84d47ba93bee86a28fc050c"
       ],
       "layout": "IPY_MODEL_c3852c9ce898496996a7c217a28f91c2"
      }
     },
     "616436fa2b1a40c6ab402566f11894c7": {
      "model_module": "@jupyter-widgets/controls",
      "model_module_version": "1.0.0",
      "model_name": "IntSliderModel",
      "state": {
       "description": "blue",
       "layout": "IPY_MODEL_b44c1125df1d471f86794eb610e0224c",
       "max": 255,
       "style": "IPY_MODEL_48b3fa82b2ca44cdac0b59f200bfd7f5",
       "value": 255
      }
     },
     "61ca7862a5f44ae099da9334ffa49491": {
      "model_module": "@jupyter-widgets/controls",
      "model_module_version": "1.0.0",
      "model_name": "SliderStyleModel",
      "state": {
       "description_width": ""
      }
     },
     "61cd665651c045da97a39f18e32b8b97": {
      "model_module": "@jupyter-widgets/base",
      "model_module_version": "1.0.0",
      "model_name": "LayoutModel",
      "state": {}
     },
     "61d3cc01409744a9aa37f37f384ab83e": {
      "model_module": "@jupyter-widgets/base",
      "model_module_version": "1.0.0",
      "model_name": "LayoutModel",
      "state": {}
     },
     "620f480aaa1d4bd3b456dd56d3f16fa6": {
      "model_module": "@jupyter-widgets/controls",
      "model_module_version": "1.0.0",
      "model_name": "IntSliderModel",
      "state": {
       "description": "points",
       "layout": "IPY_MODEL_c47a93d680894d24a6480d67fc9b35b5",
       "style": "IPY_MODEL_b7bb8d1ec2d64c6a8a90b6b86c5be309",
       "value": 20
      }
     },
     "62299abc64be4794b75221df91e738b7": {
      "model_module": "@jupyter-widgets/controls",
      "model_module_version": "1.0.0",
      "model_name": "IntSliderModel",
      "state": {
       "description": "blue",
       "layout": "IPY_MODEL_a4b0a35e4be74747b35bb1dfb56b70f1",
       "max": 255,
       "style": "IPY_MODEL_393bb936009241a68c1551d4602e28b0",
       "value": 255
      }
     },
     "62336b3133e249b190ab50d7dff4dff8": {
      "model_module": "@jupyter-widgets/base",
      "model_module_version": "1.0.0",
      "model_name": "LayoutModel",
      "state": {}
     },
     "625966697a1141b28f05c109867134e7": {
      "model_module": "@jupyter-widgets/controls",
      "model_module_version": "1.0.0",
      "model_name": "VBoxModel",
      "state": {
       "_dom_classes": [
        "widget-interact"
       ],
       "children": [
        "IPY_MODEL_9749d64303884380a8ba5b7e805f1f8c",
        "IPY_MODEL_c94108fed8b94ec986c4f5efca66d8db",
        "IPY_MODEL_c36448c0afdc4b62ad8aab3841015e5f",
        "IPY_MODEL_63ccc048b2494e598e3315472f0a492b",
        "IPY_MODEL_de10f80fee2d4343aa67a300996fe8c8",
        "IPY_MODEL_6c2b33eb9cf94246b596523e217346c4",
        "IPY_MODEL_c04582c3823e45b7ba5b049db3e068d1",
        "IPY_MODEL_eb712f6e5a7240ecb3b25dbdbcbf3ad2"
       ],
       "layout": "IPY_MODEL_55cef9dbc9314fb497d6d53b9550330d"
      }
     },
     "6261d2f758084784ba06fda55d2b65ec": {
      "model_module": "@jupyter-widgets/controls",
      "model_module_version": "1.0.0",
      "model_name": "SliderStyleModel",
      "state": {
       "description_width": ""
      }
     },
     "627b0f1fbe134933ba66c3eda7737f0b": {
      "model_module": "@jupyter-widgets/controls",
      "model_module_version": "1.0.0",
      "model_name": "DescriptionStyleModel",
      "state": {
       "description_width": ""
      }
     },
     "6296a7f088444181a50cb700bea90c66": {
      "model_module": "@jupyter-widgets/controls",
      "model_module_version": "1.0.0",
      "model_name": "VBoxModel",
      "state": {
       "children": [
        "IPY_MODEL_da1ebfdf11064cc9863ace7d1f976301",
        "IPY_MODEL_48fc0c94c8ef41f488fdf2dd0fca7f59"
       ],
       "layout": "IPY_MODEL_6642b2d6e5a64d84a56634ba14b993ec"
      }
     },
     "636486f7fe7c44dea4277b35dd6c5909": {
      "model_module": "@jupyter-widgets/controls",
      "model_module_version": "1.0.0",
      "model_name": "IntSliderModel",
      "state": {
       "description": "red",
       "layout": "IPY_MODEL_6c0912c308e246499a574ab437eafc37",
       "max": 255,
       "style": "IPY_MODEL_0094cf76d10c4797877c2acdb1b9b395",
       "value": 127
      }
     },
     "636f6b1c623942b9988c52e27b5a994b": {
      "model_module": "@jupyter-widgets/base",
      "model_module_version": "1.0.0",
      "model_name": "LayoutModel",
      "state": {}
     },
     "6378548f74234013b9fa15312e2de367": {
      "model_module": "@jupyter-widgets/controls",
      "model_module_version": "1.0.0",
      "model_name": "IntSliderModel",
      "state": {
       "description": "red",
       "layout": "IPY_MODEL_030a5e845d8d4bf195125636fb2455dc",
       "max": 255,
       "style": "IPY_MODEL_4d1c471cb01e4a07a2037e78674cc3ee",
       "value": 255
      }
     },
     "63bfeaa4362f476682b2ace72e54d3d5": {
      "model_module": "@jupyter-widgets/base",
      "model_module_version": "1.0.0",
      "model_name": "LayoutModel",
      "state": {}
     },
     "63c78ef4b6534ef58f5b015d11764d5b": {
      "model_module": "@jupyter-widgets/controls",
      "model_module_version": "1.0.0",
      "model_name": "TextModel",
      "state": {
       "description": "text",
       "layout": "IPY_MODEL_14c35364cb084aee90d725dd9d7c6247",
       "style": "IPY_MODEL_305a5908972c479e95eb4b8cb0418224",
       "value": "I coulda beena contenda"
      }
     },
     "63cc3caefeb54d7b9ad997333309e2e9": {
      "model_module": "@jupyter-widgets/controls",
      "model_module_version": "1.0.0",
      "model_name": "SliderStyleModel",
      "state": {
       "description_width": ""
      }
     },
     "63ccc048b2494e598e3315472f0a492b": {
      "model_module": "@jupyter-widgets/controls",
      "model_module_version": "1.0.0",
      "model_name": "IntSliderModel",
      "state": {
       "description": "red",
       "layout": "IPY_MODEL_7d5476f8bf6b4f0992bbff89a775de6c",
       "max": 255,
       "style": "IPY_MODEL_267d05ac300a4e71a7f705e0e60043c8",
       "value": 127
      }
     },
     "64001ff824ac4b17b27c9190a49bb224": {
      "model_module": "@jupyter-widgets/controls",
      "model_module_version": "1.0.0",
      "model_name": "DescriptionStyleModel",
      "state": {
       "description_width": ""
      }
     },
     "64325dbcb24f47be93ed8a9c8d3463f2": {
      "model_module": "@jupyter-widgets/controls",
      "model_module_version": "1.0.0",
      "model_name": "SliderStyleModel",
      "state": {
       "description_width": ""
      }
     },
     "643af9ed156f461f9dad5f754cd2296c": {
      "model_module": "@jupyter-widgets/base",
      "model_module_version": "1.0.0",
      "model_name": "LayoutModel",
      "state": {}
     },
     "645127a3289045d98b16205088beb533": {
      "model_module": "jp_proxy_widget",
      "model_module_version": "^0.3.4",
      "model_name": "JSProxyModel",
      "state": {
       "_model_module_version": "^0.3.4",
       "_send_counter": 2,
       "_view_module_version": "^0.3.4",
       "error_msg": "No error",
       "layout": "IPY_MODEL_c93de285d2c343a0bba8a56cbfc7cf3b",
       "rendered": true,
       "status": "Got results."
      }
     },
     "649dd9d96a4d4567bb755cc391ae0e03": {
      "model_module": "@jupyter-widgets/controls",
      "model_module_version": "1.0.0",
      "model_name": "IntSliderModel",
      "state": {
       "description": "green",
       "layout": "IPY_MODEL_7e59277b21304e83b283938ad59c0f4a",
       "max": 255,
       "style": "IPY_MODEL_1bff957d92294896bb56ea31d60cef6b"
      }
     },
     "64fd88beba2c403b906b1c69b79a7732": {
      "model_module": "@jupyter-widgets/controls",
      "model_module_version": "1.0.0",
      "model_name": "SliderStyleModel",
      "state": {
       "description_width": ""
      }
     },
     "65147e69007845d6906edda4fd4b7606": {
      "model_module": "@jupyter-widgets/controls",
      "model_module_version": "1.0.0",
      "model_name": "SliderStyleModel",
      "state": {
       "description_width": ""
      }
     },
     "651e7c1fd81c44279ea33f0e4bb198f1": {
      "model_module": "@jupyter-widgets/base",
      "model_module_version": "1.0.0",
      "model_name": "LayoutModel",
      "state": {}
     },
     "652c9595e60947e7a9926b5a18740e99": {
      "model_module": "@jupyter-widgets/base",
      "model_module_version": "1.0.0",
      "model_name": "LayoutModel",
      "state": {}
     },
     "6586fcab46e647e0b8a1d8d6e9ebd160": {
      "model_module": "@jupyter-widgets/controls",
      "model_module_version": "1.0.0",
      "model_name": "IntSliderModel",
      "state": {
       "description": "blue",
       "layout": "IPY_MODEL_e4e2367e30d84ba4990d16528a0fbb9b",
       "max": 255,
       "style": "IPY_MODEL_907f381ceec84cf3b6aaa2f8cfde80be",
       "value": 127
      }
     },
     "6596a80057bc4eb7ac1cfb88e7230c78": {
      "model_module": "@jupyter-widgets/base",
      "model_module_version": "1.0.0",
      "model_name": "LayoutModel",
      "state": {}
     },
     "65a87398eb784ff683a2e05abb6035df": {
      "model_module": "@jupyter-widgets/controls",
      "model_module_version": "1.0.0",
      "model_name": "IntSliderModel",
      "state": {
       "description": "red",
       "layout": "IPY_MODEL_384063ebafd14d81ba1130a73377a436",
       "max": 255,
       "style": "IPY_MODEL_d1f525c6449d492d8af7218ac678b253",
       "value": 255
      }
     },
     "65a97635233c46f3b48e9f9d21f20393": {
      "model_module": "jp_proxy_widget",
      "model_module_version": "^0.3.4",
      "model_name": "JSProxyModel",
      "state": {
       "_model_module_version": "^0.3.4",
       "_send_counter": 2,
       "_view_module_version": "^0.3.4",
       "error_msg": "No error",
       "layout": "IPY_MODEL_b67e2b31d2c4419ca6d200ced4f2225b",
       "rendered": true,
       "status": "call back to <function callback_function at 0x111911de8>"
      }
     },
     "65dff0131de947269e380008891da688": {
      "model_module": "@jupyter-widgets/base",
      "model_module_version": "1.0.0",
      "model_name": "LayoutModel",
      "state": {}
     },
     "65e2c24b51ed4be4a990006233d1c964": {
      "model_module": "@jupyter-widgets/base",
      "model_module_version": "1.0.0",
      "model_name": "LayoutModel",
      "state": {}
     },
     "663526034e0a4bca85bbdcac8ba872b7": {
      "model_module": "@jupyter-widgets/base",
      "model_module_version": "1.0.0",
      "model_name": "LayoutModel",
      "state": {}
     },
     "6642b2d6e5a64d84a56634ba14b993ec": {
      "model_module": "@jupyter-widgets/base",
      "model_module_version": "1.0.0",
      "model_name": "LayoutModel",
      "state": {}
     },
     "668306d55d53408ba65f75f7bccc1c92": {
      "model_module": "@jupyter-widgets/controls",
      "model_module_version": "1.0.0",
      "model_name": "FloatSliderModel",
      "state": {
       "description": "alpha",
       "layout": "IPY_MODEL_413e6e8d43ff4406811d3af95680b0b1",
       "max": 1,
       "step": 0.1,
       "style": "IPY_MODEL_ae662bb392a049859ac33368a1e22d7c",
       "value": 0.5
      }
     },
     "668b48326e7f4073b96dfc7df8a22710": {
      "model_module": "@jupyter-widgets/controls",
      "model_module_version": "1.0.0",
      "model_name": "IntSliderModel",
      "state": {
       "description": "y",
       "layout": "IPY_MODEL_6ff980188e734508840d1e7eddf2bbf9",
       "min": -100,
       "style": "IPY_MODEL_f78fe88a060141c2bab1350bf468d54c"
      }
     },
     "66a19bf2e4a3430a83fef8e1fc02386c": {
      "model_module": "@jupyter-widgets/controls",
      "model_module_version": "1.0.0",
      "model_name": "IntSliderModel",
      "state": {
       "description": "degrees",
       "layout": "IPY_MODEL_4d61024c3421416b94fffacf960b1b02",
       "max": 360,
       "min": -360,
       "style": "IPY_MODEL_8562b46fbae14ef8b4ef67daac6aec16",
       "value": 14
      }
     },
     "66a30f5ab06340d2ac9f2895172416b8": {
      "model_module": "@jupyter-widgets/base",
      "model_module_version": "1.0.0",
      "model_name": "LayoutModel",
      "state": {}
     },
     "66e870441fcc4e388aa9f3edf6519307": {
      "model_module": "@jupyter-widgets/controls",
      "model_module_version": "1.0.0",
      "model_name": "DescriptionStyleModel",
      "state": {
       "description_width": ""
      }
     },
     "66fa7f46b94345b39d57ec0c906c6b55": {
      "model_module": "@jupyter-widgets/controls",
      "model_module_version": "1.0.0",
      "model_name": "SliderStyleModel",
      "state": {
       "description_width": ""
      }
     },
     "670003f8aa1449c0b6448f2ff3c95b4e": {
      "model_module": "@jupyter-widgets/base",
      "model_module_version": "1.0.0",
      "model_name": "LayoutModel",
      "state": {}
     },
     "670124ed91374563b12df1fd5c0e8836": {
      "model_module": "@jupyter-widgets/controls",
      "model_module_version": "1.0.0",
      "model_name": "FloatSliderModel",
      "state": {
       "description": "start",
       "layout": "IPY_MODEL_3bd4fdef432e484697612a1fd266d763",
       "max": 6.283185307179586,
       "step": 0.1,
       "style": "IPY_MODEL_fad4edcbbed241e3894fee5b2bc15c4a",
       "value": 3.4
      }
     },
     "67145fa1e2f84885a2f0369c931d1147": {
      "model_module": "@jupyter-widgets/controls",
      "model_module_version": "1.0.0",
      "model_name": "IntSliderModel",
      "state": {
       "description": "y",
       "layout": "IPY_MODEL_027486edd7e64a2284c146b7ea5826ca",
       "min": -100,
       "style": "IPY_MODEL_cce6bbd9517b44bfa945dc1891d45351"
      }
     },
     "6738d0336ebf44b29b1582928b866f84": {
      "model_module": "@jupyter-widgets/controls",
      "model_module_version": "1.0.0",
      "model_name": "IntSliderModel",
      "state": {
       "description": "y",
       "layout": "IPY_MODEL_3e3e9b985eb14c4c86747feb32453a8a",
       "min": -100,
       "style": "IPY_MODEL_c25afe940e6f4d84a4f6b11c578b572f"
      }
     },
     "675d31bd190f44cfaec15670abe28f69": {
      "model_module": "@jupyter-widgets/controls",
      "model_module_version": "1.0.0",
      "model_name": "IntSliderModel",
      "state": {
       "description": "y",
       "layout": "IPY_MODEL_edd2847043b649489887a4b779bd688a",
       "min": -100,
       "style": "IPY_MODEL_178ffe95edb04dedaa954257a5a89f9c"
      }
     },
     "676357809034493c88db03607895af33": {
      "model_module": "@jupyter-widgets/controls",
      "model_module_version": "1.0.0",
      "model_name": "DescriptionStyleModel",
      "state": {
       "description_width": ""
      }
     },
     "67850d1307714a7faf9907ca86911640": {
      "model_module": "@jupyter-widgets/base",
      "model_module_version": "1.0.0",
      "model_name": "LayoutModel",
      "state": {}
     },
     "67b3c86868704cf9b66b2fc15b3dae54": {
      "model_module": "@jupyter-widgets/output",
      "model_module_version": "1.0.0",
      "model_name": "OutputModel",
      "state": {
       "layout": "IPY_MODEL_b01e7c425dbb46bf8e031f8138807607"
      }
     },
     "67cff949f35c4797b3898bc2af60804a": {
      "model_module": "@jupyter-widgets/controls",
      "model_module_version": "1.0.0",
      "model_name": "SliderStyleModel",
      "state": {
       "description_width": ""
      }
     },
     "67d57405fa244a00a3a8ccd75b144aee": {
      "model_module": "@jupyter-widgets/base",
      "model_module_version": "1.0.0",
      "model_name": "LayoutModel",
      "state": {}
     },
     "681cfafb2590460d8519e7a93f61d006": {
      "model_module": "@jupyter-widgets/base",
      "model_module_version": "1.0.0",
      "model_name": "LayoutModel",
      "state": {}
     },
     "685d33cc6c0d4570ae478d344c6b31ac": {
      "model_module": "jp_proxy_widget",
      "model_module_version": "^0.3.4",
      "model_name": "JSProxyModel",
      "state": {
       "_model_module_version": "^0.3.4",
       "_send_counter": 2,
       "_view_module_version": "^0.3.4",
       "error_msg": "No error",
       "layout": "IPY_MODEL_47b9f53a7bb8418bb7e23f5f8dc3a9b6",
       "rendered": true,
       "status": "call back to <function callback_function at 0x11756acf8>"
      }
     },
     "68a5d472c808460f88575659d5105c02": {
      "model_module": "@jupyter-widgets/base",
      "model_module_version": "1.0.0",
      "model_name": "LayoutModel",
      "state": {}
     },
     "694e5677715948819da2886f6813d1bd": {
      "model_module": "@jupyter-widgets/base",
      "model_module_version": "1.0.0",
      "model_name": "LayoutModel",
      "state": {}
     },
     "6951ae431ef6427d8debc5553711335b": {
      "model_module": "jp_proxy_widget",
      "model_module_version": "^0.3.4",
      "model_name": "JSProxyModel",
      "state": {
       "_model_module_version": "^0.3.4",
       "_send_counter": 6,
       "_view_module_version": "^0.3.4",
       "error_msg": "No error",
       "layout": "IPY_MODEL_f3e8162f7b04404d9166af6358be3a7d",
       "rendered": false,
       "status": "Not yet rendered"
      }
     },
     "695f1f23c9d1417687d3d49766a8970a": {
      "model_module": "@jupyter-widgets/controls",
      "model_module_version": "1.0.0",
      "model_name": "FloatSliderModel",
      "state": {
       "description": "alpha",
       "layout": "IPY_MODEL_5de9d90490c04c9a976588930788d7cf",
       "max": 1,
       "step": 0.1,
       "style": "IPY_MODEL_6ec39c7440c147c98942ba2e71a6d08d",
       "value": 1
      }
     },
     "69638e75881a4a6bba35b419820820a4": {
      "model_module": "@jupyter-widgets/controls",
      "model_module_version": "1.0.0",
      "model_name": "DescriptionStyleModel",
      "state": {
       "description_width": ""
      }
     },
     "69641ee8c18e46d9aead67c8a5e37df6": {
      "model_module": "@jupyter-widgets/controls",
      "model_module_version": "1.0.0",
      "model_name": "VBoxModel",
      "state": {
       "children": [
        "IPY_MODEL_6f2dec6223eb4e82861617f5ab7a90a4",
        "IPY_MODEL_33e9a431b6b24fc483cfc4b28860e81f"
       ],
       "layout": "IPY_MODEL_f7d3b8e11dbb4b5284f60ea428e74055"
      }
     },
     "6984b119343d445d94d0a80eb550ecb3": {
      "model_module": "@jupyter-widgets/base",
      "model_module_version": "1.0.0",
      "model_name": "LayoutModel",
      "state": {}
     },
     "6994decc37844a4fa01e66588fd7e85a": {
      "model_module": "@jupyter-widgets/controls",
      "model_module_version": "1.0.0",
      "model_name": "SliderStyleModel",
      "state": {
       "description_width": ""
      }
     },
     "69bf215928a84d6fbbf6a5bab0f22906": {
      "model_module": "@jupyter-widgets/controls",
      "model_module_version": "1.0.0",
      "model_name": "TextModel",
      "state": {
       "description": "text",
       "layout": "IPY_MODEL_8d58dd6e675f4c26a5d381db4370a2b7",
       "style": "IPY_MODEL_94130a5458c9451abbb8f7711bee6b4e",
       "value": "Stella!"
      }
     },
     "69c5525a0eea4a27a8f42dc34a28ad09": {
      "model_module": "@jupyter-widgets/controls",
      "model_module_version": "1.0.0",
      "model_name": "DescriptionStyleModel",
      "state": {
       "description_width": ""
      }
     },
     "69caaa51cd0f458182717acfdefebf18": {
      "model_module": "@jupyter-widgets/controls",
      "model_module_version": "1.0.0",
      "model_name": "DropdownModel",
      "state": {
       "_options_labels": [
        "bottom",
        "center"
       ],
       "description": "valign",
       "index": 0,
       "layout": "IPY_MODEL_ded9e389e147452ca56a3240a9d30e44",
       "style": "IPY_MODEL_e98021b08797425eae55d6085c143838"
      }
     },
     "6a056c05c1ef4f36a9b6550e78d81514": {
      "model_module": "@jupyter-widgets/controls",
      "model_module_version": "1.0.0",
      "model_name": "IntSliderModel",
      "state": {
       "description": "x",
       "layout": "IPY_MODEL_52beaa73ef0f4f1eb560309d551dbc3f",
       "min": -100,
       "style": "IPY_MODEL_bc94397d4498430aa54141942fa3f3b7",
       "value": 4
      }
     },
     "6a32ffecd5d844ea94aa25c0ac8d9f4a": {
      "model_module": "@jupyter-widgets/controls",
      "model_module_version": "1.0.0",
      "model_name": "DropdownModel",
      "state": {
       "_options_labels": [
        "",
        "blue",
        "green",
        "pink",
        "brown",
        "cornsilk"
       ],
       "description": "background",
       "index": 3,
       "layout": "IPY_MODEL_b70d91ba60c34962a1aeea010f2b7d73",
       "style": "IPY_MODEL_02ef1d3478e64c7a815932c13f929553"
      }
     },
     "6a6494d329b04ce3a3bee296ea2fed99": {
      "model_module": "@jupyter-widgets/controls",
      "model_module_version": "1.0.0",
      "model_name": "VBoxModel",
      "state": {
       "children": [
        "IPY_MODEL_5569ce1bf7074e4988d86c7e1bc19842",
        "IPY_MODEL_3225327b3d2b4d9292d30aa317914c46"
       ],
       "layout": "IPY_MODEL_b10971d8278640d7bf4adc26448ebee3"
      }
     },
     "6aad6a07e72d46e381174dac2b01ec38": {
      "model_module": "@jupyter-widgets/controls",
      "model_module_version": "1.0.0",
      "model_name": "SliderStyleModel",
      "state": {
       "description_width": ""
      }
     },
     "6af12d36ec524d2a9f93d40d8180a1f6": {
      "model_module": "@jupyter-widgets/controls",
      "model_module_version": "1.0.0",
      "model_name": "SliderStyleModel",
      "state": {
       "description_width": ""
      }
     },
     "6b345b883a4844648ccf0c1481e3b836": {
      "model_module": "@jupyter-widgets/base",
      "model_module_version": "1.0.0",
      "model_name": "LayoutModel",
      "state": {}
     },
     "6b8599e059314d8daf65fd432b507481": {
      "model_module": "@jupyter-widgets/controls",
      "model_module_version": "1.0.0",
      "model_name": "SliderStyleModel",
      "state": {
       "description_width": ""
      }
     },
     "6b8810edb85f48f598067d897842dee2": {
      "model_module": "@jupyter-widgets/base",
      "model_module_version": "1.0.0",
      "model_name": "LayoutModel",
      "state": {}
     },
     "6ba51923715d4e3db826f58c885c9ea4": {
      "model_module": "@jupyter-widgets/base",
      "model_module_version": "1.0.0",
      "model_name": "LayoutModel",
      "state": {}
     },
     "6bc96d8188da419b9b25f4a69392d44b": {
      "model_module": "jp_proxy_widget",
      "model_module_version": "^0.3.4",
      "model_name": "JSProxyModel",
      "state": {
       "_model_module_version": "^0.3.4",
       "_send_counter": 2,
       "_view_module_version": "^0.3.4",
       "error_msg": "No error",
       "layout": "IPY_MODEL_613eade50c50423cb1be49e1b9f32926",
       "rendered": true,
       "status": "Got results."
      }
     },
     "6bcdaa4b5c6a45e7821fcb8b29e2f51a": {
      "model_module": "@jupyter-widgets/base",
      "model_module_version": "1.0.0",
      "model_name": "LayoutModel",
      "state": {}
     },
     "6be51e8baa3d4e25bfc3f484503e6b55": {
      "model_module": "@jupyter-widgets/controls",
      "model_module_version": "1.0.0",
      "model_name": "IntSliderModel",
      "state": {
       "description": "blue",
       "layout": "IPY_MODEL_2bdf84633aae44ac9767292958e6b60b",
       "max": 255,
       "style": "IPY_MODEL_dae6ec53ddb742848f39962af1172ebe",
       "value": 127
      }
     },
     "6c0912c308e246499a574ab437eafc37": {
      "model_module": "@jupyter-widgets/base",
      "model_module_version": "1.0.0",
      "model_name": "LayoutModel",
      "state": {}
     },
     "6c2b33eb9cf94246b596523e217346c4": {
      "model_module": "@jupyter-widgets/controls",
      "model_module_version": "1.0.0",
      "model_name": "IntSliderModel",
      "state": {
       "description": "blue",
       "layout": "IPY_MODEL_80e542f23d584f8eb8a698eea1891413",
       "max": 255,
       "style": "IPY_MODEL_4c48691f515c41d6b5f8c569a5708577",
       "value": 127
      }
     },
     "6c66db1765cd453caea29960e7ceff8e": {
      "model_module": "@jupyter-widgets/controls",
      "model_module_version": "1.0.0",
      "model_name": "CheckboxModel",
      "state": {
       "description": "fill",
       "disabled": false,
       "layout": "IPY_MODEL_11725c45809344a4abd493179511a0f6",
       "style": "IPY_MODEL_a5af4789865d49cd80c598c65411191c",
       "value": false
      }
     },
     "6c81dd70e6f04199aeb9b9dffbe1d9c9": {
      "model_module": "@jupyter-widgets/controls",
      "model_module_version": "1.0.0",
      "model_name": "IntSliderModel",
      "state": {
       "description": "red",
       "layout": "IPY_MODEL_9feb9ec5a79c40dfac3cf1c9bfd840d8",
       "max": 255,
       "style": "IPY_MODEL_28deead5e4324bdf9e821a73124f6374",
       "value": 215
      }
     },
     "6c829dd074054cd9a393bbba6c0b7e01": {
      "model_module": "@jupyter-widgets/controls",
      "model_module_version": "1.0.0",
      "model_name": "VBoxModel",
      "state": {
       "children": [
        "IPY_MODEL_ea29709f46784f1892c02378fab3506b",
        "IPY_MODEL_9ee7f0275b654572b043146de97d62b6"
       ],
       "layout": "IPY_MODEL_0b4a45ac7bdf4696b196b73a9b5b4b73"
      }
     },
     "6cb24cc91c784819a653ea7b4e6e7eda": {
      "model_module": "@jupyter-widgets/base",
      "model_module_version": "1.0.0",
      "model_name": "LayoutModel",
      "state": {}
     },
     "6cb4861d65214de5a18c33165b39ea47": {
      "model_module": "@jupyter-widgets/controls",
      "model_module_version": "1.0.0",
      "model_name": "DescriptionStyleModel",
      "state": {
       "description_width": ""
      }
     },
     "6cb5e6cf27454d59a3e5b4dcf065983f": {
      "model_module": "@jupyter-widgets/controls",
      "model_module_version": "1.0.0",
      "model_name": "VBoxModel",
      "state": {
       "_dom_classes": [
        "widget-interact"
       ],
       "children": [
        "IPY_MODEL_a15c11c674114fa38d438a4650427d39",
        "IPY_MODEL_a2e81839dbc34548be334cca65220759",
        "IPY_MODEL_f3c9cad60aa94255ad84cf6ed77f599f",
        "IPY_MODEL_7b158aec785c4a02a2d452c41941073b",
        "IPY_MODEL_098d9093b76044eebce4f17d4ab93a56",
        "IPY_MODEL_51a0f07958e244549b47c618ea9b75be",
        "IPY_MODEL_50ec648f3b9442b0b82784a7240a18d9",
        "IPY_MODEL_8020dc93e5f54d0ea5fb3030f4dfae31",
        "IPY_MODEL_b3e6a4906f694b00a0279d0dab194880",
        "IPY_MODEL_5161bd5d3242454e95b7b6420182bdda",
        "IPY_MODEL_fdbec9af24bd495eae95b564eef5e5a2",
        "IPY_MODEL_649dd9d96a4d4567bb755cc391ae0e03",
        "IPY_MODEL_ebe110ba08264db3812c906388dd9d05",
        "IPY_MODEL_2420c2c46ef54c19b7f63a2b4cad71d9",
        "IPY_MODEL_712b817640c3419c8cdabd9bbfeb7e6e"
       ],
       "layout": "IPY_MODEL_edfd95925a1e4d5c9525c99e60bc1cc3"
      }
     },
     "6ceae8e907cf4d0fa398d83de9779dd7": {
      "model_module": "@jupyter-widgets/controls",
      "model_module_version": "1.0.0",
      "model_name": "IntSliderModel",
      "state": {
       "description": "red",
       "layout": "IPY_MODEL_06cb0d7b4b5d4ea3a2b6694a2defcfe0",
       "max": 255,
       "style": "IPY_MODEL_70241a3b8efb49019f145c82d78b9208",
       "value": 255
      }
     },
     "6cf05933c68e494ba09c4a2b56585d3f": {
      "model_module": "@jupyter-widgets/base",
      "model_module_version": "1.0.0",
      "model_name": "LayoutModel",
      "state": {}
     },
     "6d4038e0eb584952b59dad2d5220fbe4": {
      "model_module": "@jupyter-widgets/controls",
      "model_module_version": "1.0.0",
      "model_name": "HTMLModel",
      "state": {
       "layout": "IPY_MODEL_ff5bc05f5fb24d5486365803f5ef211b",
       "style": "IPY_MODEL_e7a5af3f61d64513beb57f80d97b278d",
       "value": "<img src=\"interactive_circle.png\" id=\"snapshot_id_7_1536246314821\"/>\n <div id=\"snapshot_id_8_1536246314821\">interactive_circle.png</div>"
      }
     },
     "6d4babb2a84444899740d58c0f97d7d5": {
      "model_module": "@jupyter-widgets/base",
      "model_module_version": "1.0.0",
      "model_name": "LayoutModel",
      "state": {}
     },
     "6d53b273f7614a95aa03f7fd42cd1953": {
      "model_module": "@jupyter-widgets/controls",
      "model_module_version": "1.0.0",
      "model_name": "SliderStyleModel",
      "state": {
       "description_width": ""
      }
     },
     "6d60cc3574744ec1832a0e97e10d4a53": {
      "model_module": "@jupyter-widgets/controls",
      "model_module_version": "1.0.0",
      "model_name": "SliderStyleModel",
      "state": {
       "description_width": ""
      }
     },
     "6d7bc704d2be40778eb2a55f63a9cc1d": {
      "model_module": "@jupyter-widgets/controls",
      "model_module_version": "1.0.0",
      "model_name": "TabModel",
      "state": {
       "_titles": {
        "0": "Canvas",
        "1": "Snapshot"
       },
       "children": [
        "IPY_MODEL_591b76202ac54793a9e9a53dcf51c1d7",
        "IPY_MODEL_13fe3afba30a4125b3f90f46deb767e2"
       ],
       "layout": "IPY_MODEL_0c9c47849e944ad59b153915a987186a"
      }
     },
     "6dab31136212497a9a7c238ba8247df7": {
      "model_module": "@jupyter-widgets/controls",
      "model_module_version": "1.0.0",
      "model_name": "DescriptionStyleModel",
      "state": {
       "description_width": ""
      }
     },
     "6e0e73661091496aa5567e3f0102d9f9": {
      "model_module": "@jupyter-widgets/controls",
      "model_module_version": "1.0.0",
      "model_name": "DescriptionStyleModel",
      "state": {
       "description_width": ""
      }
     },
     "6e1d41b1faa4426fbbfce1ec9a66f5ce": {
      "model_module": "@jupyter-widgets/base",
      "model_module_version": "1.0.0",
      "model_name": "LayoutModel",
      "state": {}
     },
     "6e4c4f5c8dd74462a9dcb78800a93984": {
      "model_module": "@jupyter-widgets/controls",
      "model_module_version": "1.0.0",
      "model_name": "DropdownModel",
      "state": {
       "_options_labels": [
        "normal",
        "italic",
        "oblique"
       ],
       "description": "style",
       "index": 0,
       "layout": "IPY_MODEL_bfaf6baf495b4cbcb1431a581cea0998",
       "style": "IPY_MODEL_3bd73e1ee1a94217801bcdcfc2893f89"
      }
     },
     "6e82cf9644c84ce8a63fe1aeb206c0f5": {
      "model_module": "@jupyter-widgets/controls",
      "model_module_version": "1.0.0",
      "model_name": "IntSliderModel",
      "state": {
       "description": "x",
       "layout": "IPY_MODEL_189f97ea2cb04fef8a5248e520f372c9",
       "min": -100,
       "style": "IPY_MODEL_8a38d8684f024f0b88d4276d0f1e1ac8",
       "value": -34
      }
     },
     "6eab57cde38d49609ea6627bf0284119": {
      "model_module": "jp_proxy_widget",
      "model_module_version": "^0.3.4",
      "model_name": "JSProxyModel",
      "state": {
       "_model_module_version": "^0.3.4",
       "_send_counter": 2,
       "_view_module_version": "^0.3.4",
       "error_msg": "No error",
       "layout": "IPY_MODEL_c0d3f2a493b34da7a2b05cf84293b4ff",
       "rendered": true,
       "status": "Got results."
      }
     },
     "6eaf26a552f545f6aaf69bf06451f115": {
      "model_module": "@jupyter-widgets/controls",
      "model_module_version": "1.0.0",
      "model_name": "TabModel",
      "state": {
       "_titles": {
        "0": "Canvas",
        "1": "Snapshot"
       },
       "children": [
        "IPY_MODEL_d3f1fa849def4623a855a1c53a27eb78",
        "IPY_MODEL_d03f96aa10e64b6c8138092e035a2900"
       ],
       "layout": "IPY_MODEL_3a2209d82a8c428a9e1090bedc264712"
      }
     },
     "6ec39c7440c147c98942ba2e71a6d08d": {
      "model_module": "@jupyter-widgets/controls",
      "model_module_version": "1.0.0",
      "model_name": "SliderStyleModel",
      "state": {
       "description_width": ""
      }
     },
     "6f03a2c8f2ad465fa08d9a3cd0476721": {
      "model_module": "@jupyter-widgets/controls",
      "model_module_version": "1.0.0",
      "model_name": "SliderStyleModel",
      "state": {
       "description_width": ""
      }
     },
     "6f15dead747d4fb5bd6870c4537e1f5f": {
      "model_module": "@jupyter-widgets/base",
      "model_module_version": "1.0.0",
      "model_name": "LayoutModel",
      "state": {}
     },
     "6f24f35404984892b1be42462ad04b72": {
      "model_module": "@jupyter-widgets/base",
      "model_module_version": "1.0.0",
      "model_name": "LayoutModel",
      "state": {}
     },
     "6f2dec6223eb4e82861617f5ab7a90a4": {
      "model_module": "jp_proxy_widget",
      "model_module_version": "^0.3.4",
      "model_name": "JSProxyModel",
      "state": {
       "_model_module_version": "^0.3.4",
       "_send_counter": 2072,
       "_view_module_version": "^0.3.4",
       "error_msg": "Error: cannot add point with NaN NaN,NaN",
       "layout": "IPY_MODEL_e49657814c944ef6a65ab5c0ca35e6fb",
       "rendered": true,
       "status": "Got results."
      }
     },
     "6f97f3e3f5374e53acd8d0d2e0a070f6": {
      "model_module": "@jupyter-widgets/controls",
      "model_module_version": "1.0.0",
      "model_name": "TabModel",
      "state": {
       "_titles": {
        "0": "Canvas",
        "1": "Snapshot"
       },
       "children": [
        "IPY_MODEL_4d7dc592861040e481743ab21b7ca11e",
        "IPY_MODEL_c9bb937b54294cc3ace97fef6e8725e4"
       ],
       "layout": "IPY_MODEL_490fd7622ece4312a5d26f75ddfb4245",
       "selected_index": 1
      }
     },
     "6fa824a9527b4b288427e9fc75dde05a": {
      "model_module": "@jupyter-widgets/controls",
      "model_module_version": "1.0.0",
      "model_name": "DropdownModel",
      "state": {
       "_options_labels": [
        "normal",
        "italic",
        "oblique"
       ],
       "description": "style",
       "index": 0,
       "layout": "IPY_MODEL_8fb12a68aaf041ca86b89b26c789373a",
       "style": "IPY_MODEL_ebd01edf2bf44bc1a1c211d0f03f86bf"
      }
     },
     "6fd5d09d3b28402f91491fcdfb6506f0": {
      "model_module": "@jupyter-widgets/controls",
      "model_module_version": "1.0.0",
      "model_name": "SliderStyleModel",
      "state": {
       "description_width": ""
      }
     },
     "6fea13ec858b40bcb25d87fd900a1ee5": {
      "model_module": "jp_proxy_widget",
      "model_module_version": "^0.3.4",
      "model_name": "JSProxyModel",
      "state": {
       "_model_module_version": "^0.3.4",
       "_send_counter": 2,
       "_view_module_version": "^0.3.4",
       "error_msg": "No error",
       "layout": "IPY_MODEL_31ce49f6d6fc4e5688787353cdd65c4f",
       "rendered": true,
       "status": "Got results."
      }
     },
     "6ff980188e734508840d1e7eddf2bbf9": {
      "model_module": "@jupyter-widgets/base",
      "model_module_version": "1.0.0",
      "model_name": "LayoutModel",
      "state": {}
     },
     "70241a3b8efb49019f145c82d78b9208": {
      "model_module": "@jupyter-widgets/controls",
      "model_module_version": "1.0.0",
      "model_name": "SliderStyleModel",
      "state": {
       "description_width": ""
      }
     },
     "70434ecc6d1f46b297d87d3ce71dffb5": {
      "model_module": "@jupyter-widgets/base",
      "model_module_version": "1.0.0",
      "model_name": "LayoutModel",
      "state": {}
     },
     "7081ba89959744d59eeebfdbd4a372fa": {
      "model_module": "@jupyter-widgets/controls",
      "model_module_version": "1.0.0",
      "model_name": "DescriptionStyleModel",
      "state": {
       "description_width": ""
      }
     },
     "708cfb771d7d4b3cabc58cd8f1c2aa20": {
      "model_module": "@jupyter-widgets/controls",
      "model_module_version": "1.0.0",
      "model_name": "DropdownModel",
      "state": {
       "_options_labels": [
        "left",
        "right",
        "center"
       ],
       "description": "align",
       "index": 2,
       "layout": "IPY_MODEL_1c63a40331244f0da4d5915192cbefe3",
       "style": "IPY_MODEL_93f53fa2fce64ef4af50f7566b233777"
      }
     },
     "711a1218934c420086dbd7d1e0213641": {
      "model_module": "@jupyter-widgets/controls",
      "model_module_version": "1.0.0",
      "model_name": "IntSliderModel",
      "state": {
       "description": "blue",
       "layout": "IPY_MODEL_db0ce166b6924696a705aee247ce77a0",
       "max": 255,
       "style": "IPY_MODEL_a5736efe026941f5b28d682dca5eb4ae",
       "value": 255
      }
     },
     "712b817640c3419c8cdabd9bbfeb7e6e": {
      "model_module": "@jupyter-widgets/output",
      "model_module_version": "1.0.0",
      "model_name": "OutputModel",
      "state": {
       "layout": "IPY_MODEL_d025c876be4c40a984dbb4f7c441bae4"
      }
     },
     "716d22fdd9264a66aff6b4d335d77b12": {
      "model_module": "@jupyter-widgets/base",
      "model_module_version": "1.0.0",
      "model_name": "LayoutModel",
      "state": {}
     },
     "719e3334c46e4a52afb4bd0079e842e5": {
      "model_module": "@jupyter-widgets/controls",
      "model_module_version": "1.0.0",
      "model_name": "SliderStyleModel",
      "state": {
       "description_width": ""
      }
     },
     "71af7a809529405eb2b2c743e068daf6": {
      "model_module": "@jupyter-widgets/base",
      "model_module_version": "1.0.0",
      "model_name": "LayoutModel",
      "state": {}
     },
     "71d476e91d164256a742e7515f6c3ccf": {
      "model_module": "jp_proxy_widget",
      "model_module_version": "^0.3.4",
      "model_name": "JSProxyModel",
      "state": {
       "_model_module_version": "^0.3.4",
       "_send_counter": 6,
       "_view_module_version": "^0.3.4",
       "error_msg": "No error",
       "layout": "IPY_MODEL_a3890d116b754cf5980381eca44c3832",
       "rendered": true,
       "status": "Got results."
      }
     },
     "71f1c68ad8dc4d1598d5cb952b8aeae3": {
      "model_module": "@jupyter-widgets/controls",
      "model_module_version": "1.0.0",
      "model_name": "SliderStyleModel",
      "state": {
       "description_width": ""
      }
     },
     "7261fd9657c34e6886f4a75cdc18d33f": {
      "model_module": "@jupyter-widgets/output",
      "model_module_version": "1.0.0",
      "model_name": "OutputModel",
      "state": {
       "layout": "IPY_MODEL_0a39ab45b1af48b9a7f735df24b7b659"
      }
     },
     "726f550660b849dd8934676e66b138d7": {
      "model_module": "@jupyter-widgets/base",
      "model_module_version": "1.0.0",
      "model_name": "LayoutModel",
      "state": {}
     },
     "728eb767e52644d88ceff1a709d7f5b9": {
      "model_module": "@jupyter-widgets/base",
      "model_module_version": "1.0.0",
      "model_name": "LayoutModel",
      "state": {}
     },
     "7295700baa5c45f3b0d06fb035eb5742": {
      "model_module": "@jupyter-widgets/base",
      "model_module_version": "1.0.0",
      "model_name": "LayoutModel",
      "state": {}
     },
     "732d649489a34577a696699a342f66d7": {
      "model_module": "@jupyter-widgets/base",
      "model_module_version": "1.0.0",
      "model_name": "LayoutModel",
      "state": {}
     },
     "733b9d47ab3b4e4eb7a079b6457a1c0a": {
      "model_module": "@jupyter-widgets/base",
      "model_module_version": "1.0.0",
      "model_name": "LayoutModel",
      "state": {}
     },
     "735c58b34315471e962534256a552196": {
      "model_module": "@jupyter-widgets/controls",
      "model_module_version": "1.0.0",
      "model_name": "IntSliderModel",
      "state": {
       "description": "red",
       "layout": "IPY_MODEL_bc4a9abaf51a47fab5340a5b1c7be71f",
       "max": 255,
       "style": "IPY_MODEL_0d65c9f8b8cd4c278877f04bb963daea",
       "value": 127
      }
     },
     "7390848d82274b489455146b91d2c590": {
      "model_module": "@jupyter-widgets/base",
      "model_module_version": "1.0.0",
      "model_name": "LayoutModel",
      "state": {}
     },
     "739e14939f3c40ac9bba98bcaa932241": {
      "model_module": "@jupyter-widgets/controls",
      "model_module_version": "1.0.0",
      "model_name": "IntSliderModel",
      "state": {
       "description": "blue",
       "layout": "IPY_MODEL_728eb767e52644d88ceff1a709d7f5b9",
       "max": 255,
       "style": "IPY_MODEL_57413367ed8f4589a00e21cfda0faf68",
       "value": 255
      }
     },
     "73d882b443ff4045b24734e8a08128aa": {
      "model_module": "@jupyter-widgets/controls",
      "model_module_version": "1.0.0",
      "model_name": "DropdownModel",
      "state": {
       "_options_labels": [
        "bottom",
        "center"
       ],
       "description": "valign",
       "index": 1,
       "layout": "IPY_MODEL_20c311924a34422ab254c133edde5b01",
       "style": "IPY_MODEL_38524ce934084c13b0a67e55f5af1e61"
      }
     },
     "73ef9fac00c34fbba2d4679318de8790": {
      "model_module": "@jupyter-widgets/controls",
      "model_module_version": "1.0.0",
      "model_name": "SliderStyleModel",
      "state": {
       "description_width": ""
      }
     },
     "741685aee5214f75ae76a1d377902199": {
      "model_module": "@jupyter-widgets/controls",
      "model_module_version": "1.0.0",
      "model_name": "IntSliderModel",
      "state": {
       "description": "x",
       "layout": "IPY_MODEL_455cc0af905b4b2db93fb960e3d9842e",
       "min": -100,
       "style": "IPY_MODEL_16f1d955b92d40338e926e3499083592"
      }
     },
     "7432f63598da477ba358388b5f887995": {
      "model_module": "@jupyter-widgets/base",
      "model_module_version": "1.0.0",
      "model_name": "LayoutModel",
      "state": {}
     },
     "743c031609e74f5bb0ece92eeb609f4d": {
      "model_module": "@jupyter-widgets/controls",
      "model_module_version": "1.0.0",
      "model_name": "IntSliderModel",
      "state": {
       "description": "blue",
       "layout": "IPY_MODEL_d29eb2a6a6b340aaa4b70abd6191736c",
       "max": 255,
       "style": "IPY_MODEL_b05e53a8962f48b3b65e8da09da88d05",
       "value": 255
      }
     },
     "74568ab4fb83449d93eb164164743d9d": {
      "model_module": "@jupyter-widgets/controls",
      "model_module_version": "1.0.0",
      "model_name": "TabModel",
      "state": {
       "_titles": {
        "0": "Canvas",
        "1": "Snapshot"
       },
       "children": [
        "IPY_MODEL_2a771ba2332947638e2011cc23b498b3",
        "IPY_MODEL_fc8459e7d59548afb0a8384995efeeca"
       ],
       "layout": "IPY_MODEL_f0de5a912e24406d96588632a574fd8c"
      }
     },
     "7457dff0f7c74f5781cebec16400da65": {
      "model_module": "@jupyter-widgets/controls",
      "model_module_version": "1.0.0",
      "model_name": "DescriptionStyleModel",
      "state": {
       "description_width": ""
      }
     },
     "7494e733c1034383a7d4ae1cfe9a2446": {
      "model_module": "@jupyter-widgets/controls",
      "model_module_version": "1.0.0",
      "model_name": "DescriptionStyleModel",
      "state": {
       "description_width": ""
      }
     },
     "74b2742b1bfc45aca3cb643243834a8c": {
      "model_module": "@jupyter-widgets/base",
      "model_module_version": "1.0.0",
      "model_name": "LayoutModel",
      "state": {}
     },
     "74d9892fee73442e810eb9d810a14681": {
      "model_module": "@jupyter-widgets/controls",
      "model_module_version": "1.0.0",
      "model_name": "IntSliderModel",
      "state": {
       "description": "y",
       "layout": "IPY_MODEL_f9d4de99477a466d8dfd1d60b7f67cb7",
       "min": -100,
       "style": "IPY_MODEL_61ca7862a5f44ae099da9334ffa49491"
      }
     },
     "74df9f0b640c4253bebc717810a94fe9": {
      "model_module": "@jupyter-widgets/controls",
      "model_module_version": "1.0.0",
      "model_name": "DropdownModel",
      "state": {
       "_options_labels": [
        "normal",
        "italic",
        "oblique"
       ],
       "description": "style",
       "index": 0,
       "layout": "IPY_MODEL_98e1cb27ec48462192a275ea67aa80f2",
       "style": "IPY_MODEL_0009e2b579bb4d318f61a1522fa741e7"
      }
     },
     "74ea6cc38ac2424fb12021dfde5a4e57": {
      "model_module": "@jupyter-widgets/base",
      "model_module_version": "1.0.0",
      "model_name": "LayoutModel",
      "state": {}
     },
     "74faef74215548369eb533fd4e826347": {
      "model_module": "@jupyter-widgets/base",
      "model_module_version": "1.0.0",
      "model_name": "LayoutModel",
      "state": {}
     },
     "75394f37115740298c75c9715193030f": {
      "model_module": "@jupyter-widgets/base",
      "model_module_version": "1.0.0",
      "model_name": "LayoutModel",
      "state": {}
     },
     "753b63c2122c4b64950abbbe0956daf3": {
      "model_module": "@jupyter-widgets/controls",
      "model_module_version": "1.0.0",
      "model_name": "VBoxModel",
      "state": {
       "children": [
        "IPY_MODEL_3e367bf33f1047dfbc03f16555494f9c",
        "IPY_MODEL_351cad72bcaf4b9a8abf332b64dbbb8b"
       ],
       "layout": "IPY_MODEL_5e31e23242f54e538493ed95103f0559"
      }
     },
     "754cdad4372b4b7192f1cc4d38e6c975": {
      "model_module": "@jupyter-widgets/controls",
      "model_module_version": "1.0.0",
      "model_name": "DropdownModel",
      "state": {
       "_options_labels": [
        "normal",
        "italic",
        "oblique"
       ],
       "description": "style",
       "index": 1,
       "layout": "IPY_MODEL_c555c1edd1844ccdb4530b8d4cd99f5e",
       "style": "IPY_MODEL_d6653706996a4cbab546f831008cc494"
      }
     },
     "75b8407b3a7d47b2b2bf8c3687d77742": {
      "model_module": "@jupyter-widgets/base",
      "model_module_version": "1.0.0",
      "model_name": "LayoutModel",
      "state": {}
     },
     "75da1847826641b79ba87f9abd2867de": {
      "model_module": "@jupyter-widgets/controls",
      "model_module_version": "1.0.0",
      "model_name": "FloatSliderModel",
      "state": {
       "description": "alpha",
       "layout": "IPY_MODEL_55392b438df34f41831796518c710a1e",
       "max": 1,
       "step": 0.1,
       "style": "IPY_MODEL_960b8aa072264d4cbd33e16a82c3b576",
       "value": 0.5
      }
     },
     "75ff3d30060f46d396b8539925179e2c": {
      "model_module": "@jupyter-widgets/controls",
      "model_module_version": "1.0.0",
      "model_name": "IntSliderModel",
      "state": {
       "description": "points",
       "layout": "IPY_MODEL_8344da7293a740eab6bb36d58b5bf69b",
       "style": "IPY_MODEL_64fd88beba2c403b906b1c69b79a7732",
       "value": 63
      }
     },
     "761ec6e88079411bb17eb4433a854d69": {
      "model_module": "@jupyter-widgets/controls",
      "model_module_version": "1.0.0",
      "model_name": "DescriptionStyleModel",
      "state": {
       "description_width": ""
      }
     },
     "767ae7f4ff954c3dbe2dca4f1398d48c": {
      "model_module": "@jupyter-widgets/base",
      "model_module_version": "1.0.0",
      "model_name": "LayoutModel",
      "state": {}
     },
     "767f88e822d64d89acdbe6cfe2d00b85": {
      "model_module": "@jupyter-widgets/controls",
      "model_module_version": "1.0.0",
      "model_name": "SliderStyleModel",
      "state": {
       "description_width": ""
      }
     },
     "76812d39075f496fa20b7e7875cc60cb": {
      "model_module": "@jupyter-widgets/base",
      "model_module_version": "1.0.0",
      "model_name": "LayoutModel",
      "state": {}
     },
     "76bad0f4ed7044008a4bcc2899bb7098": {
      "model_module": "@jupyter-widgets/base",
      "model_module_version": "1.0.0",
      "model_name": "LayoutModel",
      "state": {}
     },
     "76dc543a17bd4d49a495b03b1bfa7ef8": {
      "model_module": "@jupyter-widgets/controls",
      "model_module_version": "1.0.0",
      "model_name": "SliderStyleModel",
      "state": {
       "description_width": ""
      }
     },
     "76f7856e151f456290e9e847015ffe8b": {
      "model_module": "@jupyter-widgets/base",
      "model_module_version": "1.0.0",
      "model_name": "LayoutModel",
      "state": {}
     },
     "7703086d17604737ab9e28ea82d54df6": {
      "model_module": "@jupyter-widgets/base",
      "model_module_version": "1.0.0",
      "model_name": "LayoutModel",
      "state": {}
     },
     "77618f09b77046b781dbadd2df02cf38": {
      "model_module": "@jupyter-widgets/controls",
      "model_module_version": "1.0.0",
      "model_name": "DescriptionStyleModel",
      "state": {
       "description_width": ""
      }
     },
     "77962c1ae5024ff4a70e652ffbb1096c": {
      "model_module": "@jupyter-widgets/base",
      "model_module_version": "1.0.0",
      "model_name": "LayoutModel",
      "state": {}
     },
     "77a016894383409c88e132c832dfb230": {
      "model_module": "@jupyter-widgets/controls",
      "model_module_version": "1.0.0",
      "model_name": "TabModel",
      "state": {
       "_titles": {
        "0": "Canvas",
        "1": "Snapshot"
       },
       "children": [
        "IPY_MODEL_079dfa3b532d4b35bfcc8b87dcde53de",
        "IPY_MODEL_8b797788befa469e9883570f2e4dfd83"
       ],
       "layout": "IPY_MODEL_1450fa8e8341428298865d9f2482cf03"
      }
     },
     "77a341f37c5d4e53a5ca97d1816ffa93": {
      "model_module": "@jupyter-widgets/controls",
      "model_module_version": "1.0.0",
      "model_name": "DropdownModel",
      "state": {
       "_options_labels": [
        "left",
        "right",
        "center"
       ],
       "description": "align",
       "index": 2,
       "layout": "IPY_MODEL_ea711bfde4e241de837b021de9260751",
       "style": "IPY_MODEL_3b2745fcf3c54cc8a93d690c5f62facf"
      }
     },
     "77bb6ea8a3fb4060b8e524e6d280747b": {
      "model_module": "@jupyter-widgets/controls",
      "model_module_version": "1.0.0",
      "model_name": "IntSliderModel",
      "state": {
       "description": "y",
       "layout": "IPY_MODEL_1d8bd9ca8ca2480b928c1aac8022d601",
       "min": -100,
       "style": "IPY_MODEL_33ea071d01af4bf4b16e0ab97b3bc49d"
      }
     },
     "77c37a70d686438abda8ceb2dcf1a517": {
      "model_module": "@jupyter-widgets/base",
      "model_module_version": "1.0.0",
      "model_name": "LayoutModel",
      "state": {}
     },
     "77e253c7ac8c445982726bf31314d504": {
      "model_module": "@jupyter-widgets/base",
      "model_module_version": "1.0.0",
      "model_name": "LayoutModel",
      "state": {}
     },
     "77fcaa89ee7249ab9168e43a8cba7db1": {
      "model_module": "@jupyter-widgets/base",
      "model_module_version": "1.0.0",
      "model_name": "LayoutModel",
      "state": {}
     },
     "7854499d95134d53979b7ce59471f154": {
      "model_module": "@jupyter-widgets/controls",
      "model_module_version": "1.0.0",
      "model_name": "DescriptionStyleModel",
      "state": {
       "description_width": ""
      }
     },
     "78733a24202b44f3b50528af4ab33b95": {
      "model_module": "@jupyter-widgets/base",
      "model_module_version": "1.0.0",
      "model_name": "LayoutModel",
      "state": {}
     },
     "788bd8e238b24981aa738bfa96547882": {
      "model_module": "@jupyter-widgets/controls",
      "model_module_version": "1.0.0",
      "model_name": "HTMLModel",
      "state": {
       "layout": "IPY_MODEL_9c4d307bd36a43ecbebe3b532825a22d",
       "style": "IPY_MODEL_a7a5c7fbf4eb41b28a7670088c55803e",
       "value": "<img src=\"interactive_circle.png\" id=\"snapshot_id_17_1536246705666\"/>\n <div id=\"snapshot_id_18_1536246705666\">interactive_circle.png</div>"
      }
     },
     "789475e0aec841d3a1c7cf1c717bece7": {
      "model_module": "@jupyter-widgets/controls",
      "model_module_version": "1.0.0",
      "model_name": "SliderStyleModel",
      "state": {
       "description_width": ""
      }
     },
     "7895d0318ecf4cc49eba0188682100b7": {
      "model_module": "@jupyter-widgets/controls",
      "model_module_version": "1.0.0",
      "model_name": "FloatSliderModel",
      "state": {
       "description": "alpha",
       "layout": "IPY_MODEL_dbba1e826ae04c4ca554235ac52af713",
       "max": 1,
       "step": 0.1,
       "style": "IPY_MODEL_f8df1b22de074004a55d08cfec2a9777",
       "value": 1
      }
     },
     "78969b3aa7f44102b6754757480491d8": {
      "model_module": "@jupyter-widgets/base",
      "model_module_version": "1.0.0",
      "model_name": "LayoutModel",
      "state": {}
     },
     "78a36bc249644c3abc87b50dc88506bb": {
      "model_module": "jp_proxy_widget",
      "model_module_version": "^0.3.4",
      "model_name": "JSProxyModel",
      "state": {
       "_model_module_version": "^0.3.4",
       "_send_counter": 6,
       "_view_module_version": "^0.3.4",
       "error_msg": "No error",
       "layout": "IPY_MODEL_d62fd1b878a24442ba33a29738dac5e8",
       "rendered": true,
       "status": "Got results."
      }
     },
     "78a4310e80be4cb2ae8326633125f25f": {
      "model_module": "@jupyter-widgets/controls",
      "model_module_version": "1.0.0",
      "model_name": "SliderStyleModel",
      "state": {
       "description_width": ""
      }
     },
     "79036ee060294a2285ac509a39201e05": {
      "model_module": "@jupyter-widgets/controls",
      "model_module_version": "1.0.0",
      "model_name": "DescriptionStyleModel",
      "state": {
       "description_width": ""
      }
     },
     "7903fbdfae4843cc877e9f62a7790978": {
      "model_module": "@jupyter-widgets/controls",
      "model_module_version": "1.0.0",
      "model_name": "SliderStyleModel",
      "state": {
       "description_width": ""
      }
     },
     "7918ddc9f71f4f57be08b0acd38345f1": {
      "model_module": "@jupyter-widgets/controls",
      "model_module_version": "1.0.0",
      "model_name": "IntSliderModel",
      "state": {
       "description": "x",
       "layout": "IPY_MODEL_b11a5d48597e4a4cac64a4a2af6c2272",
       "min": -100,
       "style": "IPY_MODEL_f5c4a2c132154c80a1c4e45a11a8be55"
      }
     },
     "7934e4b314d04c60a45959b29c2a3350": {
      "model_module": "@jupyter-widgets/controls",
      "model_module_version": "1.0.0",
      "model_name": "SliderStyleModel",
      "state": {
       "description_width": ""
      }
     },
     "79b8136f78544586b6e28f23ea6348e4": {
      "model_module": "@jupyter-widgets/output",
      "model_module_version": "1.0.0",
      "model_name": "OutputModel",
      "state": {
       "layout": "IPY_MODEL_80ef529ca97e4828bae4f5ad4f8bdc77"
      }
     },
     "7a5a0d6277ed4c85a93701ae19b8053a": {
      "model_module": "@jupyter-widgets/base",
      "model_module_version": "1.0.0",
      "model_name": "LayoutModel",
      "state": {}
     },
     "7a648a022543434f978365a9b9afd7ed": {
      "model_module": "@jupyter-widgets/controls",
      "model_module_version": "1.0.0",
      "model_name": "TabModel",
      "state": {
       "_titles": {
        "0": "Canvas",
        "1": "Snapshot"
       },
       "children": [
        "IPY_MODEL_826ff86721bf45978f3bc4a023a2bc3b",
        "IPY_MODEL_0a607df771054566985f770e0aabf5c5"
       ],
       "layout": "IPY_MODEL_a6274b1dbed345ccbe9d5e3c9d348d0e"
      }
     },
     "7abb52453fb04d0087ae7856d04f0512": {
      "model_module": "@jupyter-widgets/controls",
      "model_module_version": "1.0.0",
      "model_name": "IntSliderModel",
      "state": {
       "description": "x",
       "layout": "IPY_MODEL_8222d1ae499f47598b52646611036ddd",
       "min": -100,
       "style": "IPY_MODEL_26bebf5448154bd4b302375d200cc359",
       "value": 23
      }
     },
     "7adbff5b4dd744a99dceacd172689f0d": {
      "model_module": "@jupyter-widgets/base",
      "model_module_version": "1.0.0",
      "model_name": "LayoutModel",
      "state": {}
     },
     "7b158aec785c4a02a2d452c41941073b": {
      "model_module": "@jupyter-widgets/controls",
      "model_module_version": "1.0.0",
      "model_name": "DropdownModel",
      "state": {
       "_options_labels": [
        "",
        "blue",
        "green",
        "pink",
        "brown",
        "cornsilk"
       ],
       "description": "background",
       "index": 0,
       "layout": "IPY_MODEL_cf8b810cdd234a4f9e04769fd5a4cdbc",
       "style": "IPY_MODEL_94edea5c9ba649c8b4365acdf933d07a"
      }
     },
     "7b166f5e9d214bc3a7a8d21bcfde82de": {
      "model_module": "@jupyter-widgets/base",
      "model_module_version": "1.0.0",
      "model_name": "LayoutModel",
      "state": {}
     },
     "7b7d161f386e4e9caad61d54ef813dec": {
      "model_module": "@jupyter-widgets/controls",
      "model_module_version": "1.0.0",
      "model_name": "SliderStyleModel",
      "state": {
       "description_width": ""
      }
     },
     "7bbcb409e9284b17bf0993b8c1a7121f": {
      "model_module": "@jupyter-widgets/base",
      "model_module_version": "1.0.0",
      "model_name": "LayoutModel",
      "state": {}
     },
     "7bded8ef4ff249288ba29740ac5c1e4c": {
      "model_module": "@jupyter-widgets/controls",
      "model_module_version": "1.0.0",
      "model_name": "DropdownModel",
      "state": {
       "_options_labels": [
        "times",
        "courier",
        "arial"
       ],
       "description": "family",
       "index": 2,
       "layout": "IPY_MODEL_4b192510f1ad42cf99fd860a2cd84a44",
       "style": "IPY_MODEL_c1f53c2750294c40b682aa91ea93bc74"
      }
     },
     "7c6b84bdd04743efb9e6bc157def9369": {
      "model_module": "@jupyter-widgets/base",
      "model_module_version": "1.0.0",
      "model_name": "LayoutModel",
      "state": {}
     },
     "7c7ad3f13d354330bc50ec31699a16d1": {
      "model_module": "@jupyter-widgets/controls",
      "model_module_version": "1.0.0",
      "model_name": "SliderStyleModel",
      "state": {
       "description_width": ""
      }
     },
     "7d5476f8bf6b4f0992bbff89a775de6c": {
      "model_module": "@jupyter-widgets/base",
      "model_module_version": "1.0.0",
      "model_name": "LayoutModel",
      "state": {}
     },
     "7d643f5ee88b463f884704af0b47ada7": {
      "model_module": "@jupyter-widgets/controls",
      "model_module_version": "1.0.0",
      "model_name": "IntSliderModel",
      "state": {
       "description": "red",
       "layout": "IPY_MODEL_dd2de729d73d4b84aec03741a9f1454b",
       "max": 255,
       "style": "IPY_MODEL_e67f9df590ed40cfb35226350afaad70",
       "value": 255
      }
     },
     "7da90498260d43aea836e60c92426212": {
      "model_module": "@jupyter-widgets/controls",
      "model_module_version": "1.0.0",
      "model_name": "DropdownModel",
      "state": {
       "_options_labels": [
        "normal",
        "italic",
        "oblique"
       ],
       "description": "style",
       "index": 0,
       "layout": "IPY_MODEL_5f5c468e3fe14298921a6cf79be27401",
       "style": "IPY_MODEL_6e0e73661091496aa5567e3f0102d9f9"
      }
     },
     "7db11a792a794626b5dca8ff21c61425": {
      "model_module": "@jupyter-widgets/controls",
      "model_module_version": "1.0.0",
      "model_name": "SliderStyleModel",
      "state": {
       "description_width": ""
      }
     },
     "7db546cef0844e48b8d8176be83e1ffd": {
      "model_module": "@jupyter-widgets/base",
      "model_module_version": "1.0.0",
      "model_name": "LayoutModel",
      "state": {}
     },
     "7dcfd29da0aa4e149d06378de6474f21": {
      "model_module": "@jupyter-widgets/base",
      "model_module_version": "1.0.0",
      "model_name": "LayoutModel",
      "state": {}
     },
     "7dea190f6afe41538a86688bb30ca95e": {
      "model_module": "@jupyter-widgets/controls",
      "model_module_version": "1.0.0",
      "model_name": "TabModel",
      "state": {
       "_titles": {
        "0": "Canvas",
        "1": "Snapshot"
       },
       "children": [
        "IPY_MODEL_2d683ea067ed40759de17d5659d60a14",
        "IPY_MODEL_540a02d88e304e3982b2aca6cd488a4d"
       ],
       "layout": "IPY_MODEL_3f0fe496254c47619e7cb218535f2310"
      }
     },
     "7df9c0d9b588410592a56255c5e7f11b": {
      "model_module": "@jupyter-widgets/controls",
      "model_module_version": "1.0.0",
      "model_name": "SliderStyleModel",
      "state": {
       "description_width": ""
      }
     },
     "7e0639a0150e4c069207dc587e7c9aa9": {
      "model_module": "@jupyter-widgets/controls",
      "model_module_version": "1.0.0",
      "model_name": "VBoxModel",
      "state": {
       "_dom_classes": [
        "widget-interact"
       ],
       "children": [
        "IPY_MODEL_84f194b01c7d4947870a3768583b7eda",
        "IPY_MODEL_f6b47a1edadb42349590fe308656846d",
        "IPY_MODEL_2ee7cc21f0c14506b963356870175365",
        "IPY_MODEL_954dbf7a8672499abc2e626af4121e9d",
        "IPY_MODEL_2176e153306d4c2f97fec51cb7966a91",
        "IPY_MODEL_3937387cd47f47d4bcdf5afaba9058b2",
        "IPY_MODEL_eed400e9520c4ff5bf3a79899ec94a74",
        "IPY_MODEL_3e08496c5a814d1fb64c034a3b7731f1",
        "IPY_MODEL_f1561fefefa14c829ed03553534205e2",
        "IPY_MODEL_711a1218934c420086dbd7d1e0213641",
        "IPY_MODEL_c0bf9646213642e3a7606a9101d27e3a",
        "IPY_MODEL_3e0f8127177d425586eb6faea6914232"
       ],
       "layout": "IPY_MODEL_173596b0295e4d1b91a6befc2cf6282c"
      }
     },
     "7e51d38002b54e0ebd18f159f4d7e26e": {
      "model_module": "@jupyter-widgets/output",
      "model_module_version": "1.0.0",
      "model_name": "OutputModel",
      "state": {
       "layout": "IPY_MODEL_1c26820a71af4bde8fef972fedbad611"
      }
     },
     "7e59277b21304e83b283938ad59c0f4a": {
      "model_module": "@jupyter-widgets/base",
      "model_module_version": "1.0.0",
      "model_name": "LayoutModel",
      "state": {}
     },
     "7e814e9a865142efb2d8c309b5c51123": {
      "model_module": "@jupyter-widgets/base",
      "model_module_version": "1.0.0",
      "model_name": "LayoutModel",
      "state": {}
     },
     "7eaeb7c5920f435588729901cb57c06f": {
      "model_module": "jp_proxy_widget",
      "model_module_version": "^0.3.4",
      "model_name": "JSProxyModel",
      "state": {
       "_model_module_version": "^0.3.4",
       "_send_counter": 2,
       "_view_module_version": "^0.3.4",
       "error_msg": "No error",
       "layout": "IPY_MODEL_eb72982bceaf41dd8151e96f31b53171",
       "rendered": true,
       "status": "Got results."
      }
     },
     "7ec85661d6544abb85c44a221e1bdeb7": {
      "model_module": "@jupyter-widgets/controls",
      "model_module_version": "1.0.0",
      "model_name": "IntSliderModel",
      "state": {
       "description": "green",
       "layout": "IPY_MODEL_3df3d86594924680a5fd244a0849e541",
       "max": 255,
       "style": "IPY_MODEL_2e6d683ed79440b9bcf9f1a3d107c32a",
       "value": 127
      }
     },
     "7ecb5702a6404d959fb8143f078e0cc6": {
      "model_module": "@jupyter-widgets/controls",
      "model_module_version": "1.0.0",
      "model_name": "SliderStyleModel",
      "state": {
       "description_width": ""
      }
     },
     "7ef41300ab0146f48ee94354f0107a71": {
      "model_module": "@jupyter-widgets/controls",
      "model_module_version": "1.0.0",
      "model_name": "DescriptionStyleModel",
      "state": {
       "description_width": ""
      }
     },
     "7f025d97390f4599a9de93127f856ee9": {
      "model_module": "@jupyter-widgets/base",
      "model_module_version": "1.0.0",
      "model_name": "LayoutModel",
      "state": {}
     },
     "7f19a3e177924795aeb044709311f354": {
      "model_module": "@jupyter-widgets/base",
      "model_module_version": "1.0.0",
      "model_name": "LayoutModel",
      "state": {}
     },
     "7f1b8106a2694b1cafe75ed995284ad3": {
      "model_module": "@jupyter-widgets/controls",
      "model_module_version": "1.0.0",
      "model_name": "IntSliderModel",
      "state": {
       "description": "y",
       "layout": "IPY_MODEL_61d3cc01409744a9aa37f37f384ab83e",
       "min": -100,
       "style": "IPY_MODEL_bb86bea836f64900a3c3952eb12dd805"
      }
     },
     "7f38f5e416ef4c44bb9cf25461386333": {
      "model_module": "@jupyter-widgets/controls",
      "model_module_version": "1.0.0",
      "model_name": "FloatSliderModel",
      "state": {
       "description": "alpha",
       "layout": "IPY_MODEL_99c6e67a78ca4aafaaceabd912f03755",
       "max": 1,
       "step": 0.1,
       "style": "IPY_MODEL_8b64a137aa6f4889863687a15267a604",
       "value": 1
      }
     },
     "7f52fbe106d34d4fb2c991b17afaa1ab": {
      "model_module": "@jupyter-widgets/base",
      "model_module_version": "1.0.0",
      "model_name": "LayoutModel",
      "state": {}
     },
     "7f5bad85f6684b73b87c93391d454514": {
      "model_module": "@jupyter-widgets/base",
      "model_module_version": "1.0.0",
      "model_name": "LayoutModel",
      "state": {}
     },
     "7f5e5a97d1c94d2488ec48305770f358": {
      "model_module": "@jupyter-widgets/controls",
      "model_module_version": "1.0.0",
      "model_name": "DescriptionStyleModel",
      "state": {
       "description_width": ""
      }
     },
     "7f73b391a61544d99976d28509df635c": {
      "model_module": "@jupyter-widgets/controls",
      "model_module_version": "1.0.0",
      "model_name": "VBoxModel",
      "state": {
       "children": [
        "IPY_MODEL_81098712b03a4496900fc7d4a9618e28",
        "IPY_MODEL_088856551e854c4e9f738573f967d3ab"
       ],
       "layout": "IPY_MODEL_b0e963e00439474d8bc4080cd3f3d19e"
      }
     },
     "7facc299cfc34269b8bc09ecf238e4a6": {
      "model_module": "@jupyter-widgets/base",
      "model_module_version": "1.0.0",
      "model_name": "LayoutModel",
      "state": {}
     },
     "7fdc6cc7737c4e5cbf198155c702e7f2": {
      "model_module": "@jupyter-widgets/controls",
      "model_module_version": "1.0.0",
      "model_name": "FloatSliderModel",
      "state": {
       "description": "start",
       "layout": "IPY_MODEL_dd90881f2b41455cb3bf36652bd2b063",
       "max": 6.383185307179586,
       "step": 0.1,
       "style": "IPY_MODEL_18d30b04854c48728cb1a2fdb9de96d9"
      }
     },
     "801bca8c5e2a4d528fef40d3b260c502": {
      "model_module": "@jupyter-widgets/base",
      "model_module_version": "1.0.0",
      "model_name": "LayoutModel",
      "state": {}
     },
     "8020dc93e5f54d0ea5fb3030f4dfae31": {
      "model_module": "@jupyter-widgets/controls",
      "model_module_version": "1.0.0",
      "model_name": "IntSliderModel",
      "state": {
       "description": "degrees",
       "layout": "IPY_MODEL_534a418b928645efb99961bdbf3d3417",
       "max": 360,
       "min": -360,
       "style": "IPY_MODEL_cb223ebd0fb9435c9862f81c8fc1cf5b"
      }
     },
     "80299aab088547aa86b2b6e6e6e117ce": {
      "model_module": "@jupyter-widgets/controls",
      "model_module_version": "1.0.0",
      "model_name": "SliderStyleModel",
      "state": {
       "description_width": ""
      }
     },
     "802af8e2579c4f88aec37916d2ccc7e1": {
      "model_module": "@jupyter-widgets/base",
      "model_module_version": "1.0.0",
      "model_name": "LayoutModel",
      "state": {}
     },
     "804da073b01c45c79a933b3bec0180d3": {
      "model_module": "@jupyter-widgets/controls",
      "model_module_version": "1.0.0",
      "model_name": "IntSliderModel",
      "state": {
       "description": "red",
       "layout": "IPY_MODEL_1770fa5ed30f4a1ab907a5d45240c708",
       "max": 255,
       "style": "IPY_MODEL_50eb72a1d55744d99a90b437e3a0caf4",
       "value": 102
      }
     },
     "8066fc14cc64474a9e20bfc532243f96": {
      "model_module": "@jupyter-widgets/controls",
      "model_module_version": "1.0.0",
      "model_name": "SliderStyleModel",
      "state": {
       "description_width": ""
      }
     },
     "809cd9430f9a43eca3ea6dc5ea5af127": {
      "model_module": "@jupyter-widgets/controls",
      "model_module_version": "1.0.0",
      "model_name": "IntSliderModel",
      "state": {
       "description": "red",
       "layout": "IPY_MODEL_531ae58512f94b9998d8ed8759418349",
       "max": 255,
       "style": "IPY_MODEL_0fe6f8f30ef94655830193d419e41e25",
       "value": 255
      }
     },
     "80b1da4b1fab4b1d9eea818ab76f779d": {
      "model_module": "jp_proxy_widget",
      "model_module_version": "^0.3.4",
      "model_name": "JSProxyModel",
      "state": {
       "_model_module_version": "^0.3.4",
       "_send_counter": 2,
       "_view_module_version": "^0.3.4",
       "error_msg": "No error",
       "layout": "IPY_MODEL_32a53dc5428241079119344ea8899143",
       "rendered": true,
       "status": "Got results."
      }
     },
     "80e542f23d584f8eb8a698eea1891413": {
      "model_module": "@jupyter-widgets/base",
      "model_module_version": "1.0.0",
      "model_name": "LayoutModel",
      "state": {}
     },
     "80ef529ca97e4828bae4f5ad4f8bdc77": {
      "model_module": "@jupyter-widgets/base",
      "model_module_version": "1.0.0",
      "model_name": "LayoutModel",
      "state": {}
     },
     "81003e64eda141608d83a58d16225ba8": {
      "model_module": "@jupyter-widgets/base",
      "model_module_version": "1.0.0",
      "model_name": "LayoutModel",
      "state": {}
     },
     "81098712b03a4496900fc7d4a9618e28": {
      "model_module": "jp_proxy_widget",
      "model_module_version": "^0.3.4",
      "model_name": "JSProxyModel",
      "state": {
       "_model_module_version": "^0.3.4",
       "_send_counter": 8,
       "_view_module_version": "^0.3.4",
       "error_msg": "No error",
       "layout": "IPY_MODEL_7f025d97390f4599a9de93127f856ee9",
       "rendered": true,
       "status": "Got results."
      }
     },
     "813ee9d0f1c5434591c30f50d498c48d": {
      "model_module": "@jupyter-widgets/controls",
      "model_module_version": "1.0.0",
      "model_name": "HTMLModel",
      "state": {
       "layout": "IPY_MODEL_ffceb71bc89f49c5ab790f1587748f36",
       "style": "IPY_MODEL_b91ef243e3be43ecb2f67c2b53ff570e",
       "value": "<img src=\"interactive_circle.png\" id=\"snapshot_id_13_1536246460244\"/>\n <div id=\"snapshot_id_14_1536246460244\">interactive_circle.png</div>"
      }
     },
     "8222d1ae499f47598b52646611036ddd": {
      "model_module": "@jupyter-widgets/base",
      "model_module_version": "1.0.0",
      "model_name": "LayoutModel",
      "state": {}
     },
     "826ff86721bf45978f3bc4a023a2bc3b": {
      "model_module": "@jupyter-widgets/controls",
      "model_module_version": "1.0.0",
      "model_name": "VBoxModel",
      "state": {
       "children": [
        "IPY_MODEL_b2864c5420da4a8fb5f777d9d14db414",
        "IPY_MODEL_f696f9193d7049d38953cd8d17de6cb4"
       ],
       "layout": "IPY_MODEL_8c2ce15a7bf340f0a48d59b92ff5a6f1"
      }
     },
     "82e01ea203ce46c7bc169066dd696bad": {
      "model_module": "@jupyter-widgets/controls",
      "model_module_version": "1.0.0",
      "model_name": "IntSliderModel",
      "state": {
       "description": "blue",
       "layout": "IPY_MODEL_3d813c61c9b34388a1c497d44f887b4a",
       "max": 255,
       "style": "IPY_MODEL_9362d7362e49489fbba6c75b8401a937",
       "value": 127
      }
     },
     "8344da7293a740eab6bb36d58b5bf69b": {
      "model_module": "@jupyter-widgets/base",
      "model_module_version": "1.0.0",
      "model_name": "LayoutModel",
      "state": {}
     },
     "839be13c0bfa4ea3a6a828eff2656369": {
      "model_module": "@jupyter-widgets/base",
      "model_module_version": "1.0.0",
      "model_name": "LayoutModel",
      "state": {}
     },
     "83abd01aa1d9439ba8eb005d96007197": {
      "model_module": "@jupyter-widgets/controls",
      "model_module_version": "1.0.0",
      "model_name": "DescriptionStyleModel",
      "state": {
       "description_width": ""
      }
     },
     "83bca31eff7f4e37a09cd3e6890e39d7": {
      "model_module": "@jupyter-widgets/base",
      "model_module_version": "1.0.0",
      "model_name": "LayoutModel",
      "state": {}
     },
     "840a44daa2cd47ec836a99b51eb473a3": {
      "model_module": "@jupyter-widgets/base",
      "model_module_version": "1.0.0",
      "model_name": "LayoutModel",
      "state": {}
     },
     "841974ce7e044120bd782f63a01aa66b": {
      "model_module": "@jupyter-widgets/controls",
      "model_module_version": "1.0.0",
      "model_name": "SliderStyleModel",
      "state": {
       "description_width": ""
      }
     },
     "848ca7aae6e04cd18dee9e9bf9e4ccc8": {
      "model_module": "@jupyter-widgets/base",
      "model_module_version": "1.0.0",
      "model_name": "LayoutModel",
      "state": {}
     },
     "84f194b01c7d4947870a3768583b7eda": {
      "model_module": "@jupyter-widgets/controls",
      "model_module_version": "1.0.0",
      "model_name": "IntSliderModel",
      "state": {
       "description": "x",
       "layout": "IPY_MODEL_06244012558b45759158f59041a9bd3c",
       "min": -100,
       "style": "IPY_MODEL_4b25c59894064cc8ae6544a6d9d773e1",
       "value": 23
      }
     },
     "8515f031c10a4329ab9ad88eb373fb8a": {
      "model_module": "@jupyter-widgets/controls",
      "model_module_version": "1.0.0",
      "model_name": "SliderStyleModel",
      "state": {
       "description_width": ""
      }
     },
     "852a0e2337244d8eb395136ec6aa2fe6": {
      "model_module": "@jupyter-widgets/controls",
      "model_module_version": "1.0.0",
      "model_name": "IntSliderModel",
      "state": {
       "description": "red",
       "layout": "IPY_MODEL_7f5bad85f6684b73b87c93391d454514",
       "max": 255,
       "style": "IPY_MODEL_d2660cc3be694b73b15f200e20384739",
       "value": 219
      }
     },
     "852d3d7058ef486ca68832c30e42bd0c": {
      "model_module": "@jupyter-widgets/base",
      "model_module_version": "1.0.0",
      "model_name": "LayoutModel",
      "state": {}
     },
     "853b2fdc40c34a7096aa36d505af0a61": {
      "model_module": "@jupyter-widgets/controls",
      "model_module_version": "1.0.0",
      "model_name": "VBoxModel",
      "state": {
       "_dom_classes": [
        "widget-interact"
       ],
       "children": [
        "IPY_MODEL_f853428693da4d4d99f02213275e6850",
        "IPY_MODEL_bc63cf7d81d64395829e8b72073bf42b",
        "IPY_MODEL_571967e6178941f5b171c632c8792dde",
        "IPY_MODEL_3b32588029924dc2bfcbbcb03615ce39",
        "IPY_MODEL_754cdad4372b4b7192f1cc4d38e6c975",
        "IPY_MODEL_7bded8ef4ff249288ba29740ac5c1e4c",
        "IPY_MODEL_3a40261bb6864f5b8a9306961882be63",
        "IPY_MODEL_c5c5898f46a34223b84d70596ead91c4",
        "IPY_MODEL_73d882b443ff4045b24734e8a08128aa",
        "IPY_MODEL_d815744cd4f94bd2b051388d9d2db9a1",
        "IPY_MODEL_491c6293c09d484e9ec1b3ca286ff65b",
        "IPY_MODEL_616436fa2b1a40c6ab402566f11894c7",
        "IPY_MODEL_eec0b5554b2e473bb0d1cbc57072580b",
        "IPY_MODEL_41a99cd649f348548abe834796662ea5"
       ],
       "layout": "IPY_MODEL_1bdbc8196b4f42079662e8d683bf680f"
      }
     },
     "8562b46fbae14ef8b4ef67daac6aec16": {
      "model_module": "@jupyter-widgets/controls",
      "model_module_version": "1.0.0",
      "model_name": "SliderStyleModel",
      "state": {
       "description_width": ""
      }
     },
     "856a9eb45a8d47e19f2c499d427305b4": {
      "model_module": "@jupyter-widgets/controls",
      "model_module_version": "1.0.0",
      "model_name": "IntSliderModel",
      "state": {
       "description": "x",
       "layout": "IPY_MODEL_18bc4771174745898713eecc3bde7e5c",
       "min": -100,
       "style": "IPY_MODEL_8894d87c86084238bedf0a5703894e08",
       "value": 32
      }
     },
     "85764c0088254e41a8e12cfa3af4e4a8": {
      "model_module": "@jupyter-widgets/output",
      "model_module_version": "1.0.0",
      "model_name": "OutputModel",
      "state": {
       "layout": "IPY_MODEL_be750545aa70455987425fe174f9bd0b"
      }
     },
     "85859efc12234c86a926c5915a663aa7": {
      "model_module": "@jupyter-widgets/controls",
      "model_module_version": "1.0.0",
      "model_name": "IntSliderModel",
      "state": {
       "description": "green",
       "layout": "IPY_MODEL_e3a27991e36c432ca73ed49b734ca438",
       "max": 255,
       "style": "IPY_MODEL_e7f79859af144c03b56503b8f391dad1",
       "value": 255
      }
     },
     "85d249ca37ad43f28599a14b346ef541": {
      "model_module": "@jupyter-widgets/controls",
      "model_module_version": "1.0.0",
      "model_name": "VBoxModel",
      "state": {
       "children": [
        "IPY_MODEL_c24bfd49a0ed404ea027ed452e3d30e6",
        "IPY_MODEL_6fea13ec858b40bcb25d87fd900a1ee5"
       ],
       "layout": "IPY_MODEL_aa0a9a20894940ae81dd10f92aa2263f"
      }
     },
     "863e65727cfa461aa78292af8969ffb0": {
      "model_module": "@jupyter-widgets/controls",
      "model_module_version": "1.0.0",
      "model_name": "SliderStyleModel",
      "state": {
       "description_width": ""
      }
     },
     "86495dfee716480995bde7d3c1780017": {
      "model_module": "@jupyter-widgets/base",
      "model_module_version": "1.0.0",
      "model_name": "LayoutModel",
      "state": {}
     },
     "86aeb03e60664f64959e7a04dd2021ab": {
      "model_module": "@jupyter-widgets/controls",
      "model_module_version": "1.0.0",
      "model_name": "IntSliderModel",
      "state": {
       "description": "green",
       "layout": "IPY_MODEL_3604a48be8d84659ba8ece30f912b4e4",
       "max": 255,
       "style": "IPY_MODEL_af369afef032456291d1719c3a2c9b55"
      }
     },
     "86c35f9699ae467b8db928ca74dba34a": {
      "model_module": "@jupyter-widgets/controls",
      "model_module_version": "1.0.0",
      "model_name": "IntSliderModel",
      "state": {
       "description": "red",
       "layout": "IPY_MODEL_78733a24202b44f3b50528af4ab33b95",
       "max": 255,
       "style": "IPY_MODEL_8066fc14cc64474a9e20bfc532243f96",
       "value": 187
      }
     },
     "86db92235e6f4d45af9a07c8ba4fe88a": {
      "model_module": "@jupyter-widgets/base",
      "model_module_version": "1.0.0",
      "model_name": "LayoutModel",
      "state": {}
     },
     "86e75332d2724aee949db61c7c96caff": {
      "model_module": "@jupyter-widgets/base",
      "model_module_version": "1.0.0",
      "model_name": "LayoutModel",
      "state": {}
     },
     "86f29bd3fdae4cb9988c8d2dc37138b5": {
      "model_module": "@jupyter-widgets/base",
      "model_module_version": "1.0.0",
      "model_name": "LayoutModel",
      "state": {}
     },
     "86fe82d8c0584eab9d41f2024eecd4c6": {
      "model_module": "@jupyter-widgets/controls",
      "model_module_version": "1.0.0",
      "model_name": "DescriptionStyleModel",
      "state": {
       "description_width": ""
      }
     },
     "871158a48674414c892bdf4162fa86f1": {
      "model_module": "@jupyter-widgets/controls",
      "model_module_version": "1.0.0",
      "model_name": "TabModel",
      "state": {
       "_titles": {
        "0": "Canvas",
        "1": "Snapshot"
       },
       "children": [
        "IPY_MODEL_220d7a6577b747cf8020e694eaacc517",
        "IPY_MODEL_b817b6fecc4d432585969e2335f72d05"
       ],
       "layout": "IPY_MODEL_0e8c2fd6ecf64207855b47f5058b8346"
      }
     },
     "87435810b36f48679fe177ca821da97a": {
      "model_module": "jp_proxy_widget",
      "model_module_version": "^0.3.4",
      "model_name": "JSProxyModel",
      "state": {
       "_model_module_version": "^0.3.4",
       "_send_counter": 2,
       "_view_module_version": "^0.3.4",
       "error_msg": "No error",
       "layout": "IPY_MODEL_39e909adf080435aae01a656b208861b",
       "rendered": true,
       "status": "Got results."
      }
     },
     "879e1ac9260c48e7a490ab3b7f56d118": {
      "model_module": "@jupyter-widgets/controls",
      "model_module_version": "1.0.0",
      "model_name": "DescriptionStyleModel",
      "state": {
       "description_width": ""
      }
     },
     "87edfca9283c4b6da3d0095ca17687ce": {
      "model_module": "@jupyter-widgets/controls",
      "model_module_version": "1.0.0",
      "model_name": "FloatSliderModel",
      "state": {
       "description": "alpha",
       "layout": "IPY_MODEL_c93a4a07dc114e9a8e7200d9bb1b84a7",
       "max": 1,
       "step": 0.1,
       "style": "IPY_MODEL_c6902fa287be47dcb8f3cef19c803b3f",
       "value": 1
      }
     },
     "87f96583fbe54d0d9c374e169efa7902": {
      "model_module": "@jupyter-widgets/controls",
      "model_module_version": "1.0.0",
      "model_name": "SliderStyleModel",
      "state": {
       "description_width": ""
      }
     },
     "883c774d41f548abb9330c9ca97e4ef8": {
      "model_module": "@jupyter-widgets/base",
      "model_module_version": "1.0.0",
      "model_name": "LayoutModel",
      "state": {}
     },
     "8855f0d6bf664ebe9107ae431a1f578e": {
      "model_module": "@jupyter-widgets/base",
      "model_module_version": "1.0.0",
      "model_name": "LayoutModel",
      "state": {}
     },
     "8894d87c86084238bedf0a5703894e08": {
      "model_module": "@jupyter-widgets/controls",
      "model_module_version": "1.0.0",
      "model_name": "SliderStyleModel",
      "state": {
       "description_width": ""
      }
     },
     "889d5e1c1bf8499e850e275b0e907c79": {
      "model_module": "@jupyter-widgets/controls",
      "model_module_version": "1.0.0",
      "model_name": "SliderStyleModel",
      "state": {
       "description_width": ""
      }
     },
     "88a2e015194342349aa13153256390c5": {
      "model_module": "@jupyter-widgets/controls",
      "model_module_version": "1.0.0",
      "model_name": "IntSliderModel",
      "state": {
       "description": "red",
       "layout": "IPY_MODEL_1e21103892174eb2b5ee60b0f38442d7",
       "max": 255,
       "style": "IPY_MODEL_ed6fa61031cb42c99fa1bb1798922ec4",
       "value": 127
      }
     },
     "88c822b822ac456c8c9a541824b95360": {
      "model_module": "@jupyter-widgets/controls",
      "model_module_version": "1.0.0",
      "model_name": "VBoxModel",
      "state": {
       "children": [
        "IPY_MODEL_c1f9ef91a3854f2788cb95494958537f",
        "IPY_MODEL_91aafad6d429405da1bb6a612e124427"
       ],
       "layout": "IPY_MODEL_6bcdaa4b5c6a45e7821fcb8b29e2f51a"
      }
     },
     "8979199eeae046aaa0ae638c3094acfc": {
      "model_module": "@jupyter-widgets/base",
      "model_module_version": "1.0.0",
      "model_name": "LayoutModel",
      "state": {}
     },
     "8987a349cfda40fe81caa3d0f4542942": {
      "model_module": "@jupyter-widgets/controls",
      "model_module_version": "1.0.0",
      "model_name": "IntSliderModel",
      "state": {
       "description": "red",
       "layout": "IPY_MODEL_681cfafb2590460d8519e7a93f61d006",
       "max": 255,
       "style": "IPY_MODEL_d0ba5aca9c704b0692a1d5a6eb89503d",
       "value": 255
      }
     },
     "89aff094b3e04310b0239eb75f2514a8": {
      "model_module": "@jupyter-widgets/controls",
      "model_module_version": "1.0.0",
      "model_name": "IntSliderModel",
      "state": {
       "description": "x",
       "layout": "IPY_MODEL_252c075199c644e4b2e2c95360278243",
       "min": -100,
       "style": "IPY_MODEL_db2d94ea87bc4955884f78c84c4db7c9",
       "value": -100
      }
     },
     "89e2cfdb11af4b6d824a3db312f2563e": {
      "model_module": "@jupyter-widgets/base",
      "model_module_version": "1.0.0",
      "model_name": "LayoutModel",
      "state": {}
     },
     "8a07b70430b4496ba1b818b51bc030e6": {
      "model_module": "@jupyter-widgets/controls",
      "model_module_version": "1.0.0",
      "model_name": "HTMLModel",
      "state": {
       "layout": "IPY_MODEL_d17ea52f39a943bb92a0f6363871dbfb",
       "style": "IPY_MODEL_9bdcb3dee83347f09ace7f714a405b86",
       "value": "<img src=\"interactive_text.png\" id=\"snapshot_id_19_1536320232082\"/>\n <div id=\"snapshot_id_20_1536320232082\">interactive_text.png</div>"
      }
     },
     "8a194b035dd145eab1996ce79200dd63": {
      "model_module": "@jupyter-widgets/controls",
      "model_module_version": "1.0.0",
      "model_name": "SliderStyleModel",
      "state": {
       "description_width": ""
      }
     },
     "8a38d8684f024f0b88d4276d0f1e1ac8": {
      "model_module": "@jupyter-widgets/controls",
      "model_module_version": "1.0.0",
      "model_name": "SliderStyleModel",
      "state": {
       "description_width": ""
      }
     },
     "8a8031e371fc4800a9c521b0d19d8e62": {
      "model_module": "@jupyter-widgets/controls",
      "model_module_version": "1.0.0",
      "model_name": "SliderStyleModel",
      "state": {
       "description_width": ""
      }
     },
     "8aae7b7f99b746939a1e33f05759c6f4": {
      "model_module": "@jupyter-widgets/controls",
      "model_module_version": "1.0.0",
      "model_name": "IntSliderModel",
      "state": {
       "description": "x",
       "layout": "IPY_MODEL_258a037f9c5d4f1ab7e73280fcb610bb",
       "min": -100,
       "style": "IPY_MODEL_40bb0b1a648e4f57b1523dc65133c5af",
       "value": 83
      }
     },
     "8ac05f52232d4f7aad869e9f243ba054": {
      "model_module": "@jupyter-widgets/base",
      "model_module_version": "1.0.0",
      "model_name": "LayoutModel",
      "state": {}
     },
     "8b64a137aa6f4889863687a15267a604": {
      "model_module": "@jupyter-widgets/controls",
      "model_module_version": "1.0.0",
      "model_name": "SliderStyleModel",
      "state": {
       "description_width": ""
      }
     },
     "8b797788befa469e9883570f2e4dfd83": {
      "model_module": "@jupyter-widgets/controls",
      "model_module_version": "1.0.0",
      "model_name": "HTMLModel",
      "state": {
       "layout": "IPY_MODEL_9b09597ad715496fba85b7ff00d88e85",
       "style": "IPY_MODEL_77618f09b77046b781dbadd2df02cf38",
       "value": "<img src=\"interactive_text.png\" id=\"snapshot_id_17_1536319972332\"/>\n <div id=\"snapshot_id_18_1536319972332\">interactive_text.png</div>"
      }
     },
     "8b9c4b07fe9d4341adb802c88a4246e6": {
      "model_module": "@jupyter-widgets/base",
      "model_module_version": "1.0.0",
      "model_name": "LayoutModel",
      "state": {}
     },
     "8bc09270c8a44fcc9cea343f8c513aad": {
      "model_module": "@jupyter-widgets/base",
      "model_module_version": "1.0.0",
      "model_name": "LayoutModel",
      "state": {}
     },
     "8bd2a66d11f7443faba0edda344751e2": {
      "model_module": "@jupyter-widgets/controls",
      "model_module_version": "1.0.0",
      "model_name": "SliderStyleModel",
      "state": {
       "description_width": ""
      }
     },
     "8bd9c7f3f09a4c85b75550e67253e9d1": {
      "model_module": "@jupyter-widgets/base",
      "model_module_version": "1.0.0",
      "model_name": "LayoutModel",
      "state": {}
     },
     "8c019990355540b9b0be4c98c5d09c2a": {
      "model_module": "@jupyter-widgets/base",
      "model_module_version": "1.0.0",
      "model_name": "LayoutModel",
      "state": {}
     },
     "8c2ce15a7bf340f0a48d59b92ff5a6f1": {
      "model_module": "@jupyter-widgets/base",
      "model_module_version": "1.0.0",
      "model_name": "LayoutModel",
      "state": {}
     },
     "8c3861815ce2489f92deeb3bbb35d4a2": {
      "model_module": "@jupyter-widgets/controls",
      "model_module_version": "1.0.0",
      "model_name": "VBoxModel",
      "state": {
       "_dom_classes": [
        "widget-interact"
       ],
       "children": [
        "IPY_MODEL_2f68824a86844f66abe24ea385b006a8",
        "IPY_MODEL_74d9892fee73442e810eb9d810a14681",
        "IPY_MODEL_cdd45dd4f24047f78b85b1a9bd37fc9f",
        "IPY_MODEL_0b388eb410ea42eaa2148e23bdda099a",
        "IPY_MODEL_d4c739f16e634587b293f737f2f7b649",
        "IPY_MODEL_c83a73155cb045198bc862797b555bc0",
        "IPY_MODEL_668306d55d53408ba65f75f7bccc1c92",
        "IPY_MODEL_a71e0a46812143639219cc267a777e26"
       ],
       "layout": "IPY_MODEL_a3e753abdb8c413d9b0be4cd7349f2c3"
      }
     },
     "8cb6b4d350bb437a8aed00c99d8ae286": {
      "model_module": "@jupyter-widgets/controls",
      "model_module_version": "1.0.0",
      "model_name": "IntSliderModel",
      "state": {
       "description": "blue",
       "layout": "IPY_MODEL_1308b2fb398b4e878230528401d0ada8",
       "max": 255,
       "style": "IPY_MODEL_482ec0dec1534e4f8ca47ad0b6e7f183",
       "value": 127
      }
     },
     "8cbbf18aded44d15b6f55047f19d30bd": {
      "model_module": "@jupyter-widgets/base",
      "model_module_version": "1.0.0",
      "model_name": "LayoutModel",
      "state": {}
     },
     "8cccb48a9ff3463fba96100c4e6260b2": {
      "model_module": "@jupyter-widgets/controls",
      "model_module_version": "1.0.0",
      "model_name": "FloatSliderModel",
      "state": {
       "description": "alpha",
       "layout": "IPY_MODEL_77962c1ae5024ff4a70e652ffbb1096c",
       "max": 1,
       "step": 0.1,
       "style": "IPY_MODEL_39ea280f576d404ea95d4e0672b9771c",
       "value": 1
      }
     },
     "8d3de9c3d8984d0dadfe5d788b034158": {
      "model_module": "@jupyter-widgets/controls",
      "model_module_version": "1.0.0",
      "model_name": "SliderStyleModel",
      "state": {
       "description_width": ""
      }
     },
     "8d58dd6e675f4c26a5d381db4370a2b7": {
      "model_module": "@jupyter-widgets/base",
      "model_module_version": "1.0.0",
      "model_name": "LayoutModel",
      "state": {}
     },
     "8dd27277b5c849e299f48645d3080b04": {
      "model_module": "@jupyter-widgets/controls",
      "model_module_version": "1.0.0",
      "model_name": "IntSliderModel",
      "state": {
       "description": "blue",
       "layout": "IPY_MODEL_7c6b84bdd04743efb9e6bc157def9369",
       "max": 255,
       "style": "IPY_MODEL_e5603efeb2f944b2b2e818acfcab231b",
       "value": 255
      }
     },
     "8e4a56c8101c40f1a14e61aaacdb2c8f": {
      "model_module": "@jupyter-widgets/controls",
      "model_module_version": "1.0.0",
      "model_name": "IntSliderModel",
      "state": {
       "description": "green",
       "layout": "IPY_MODEL_f480b5855391467493e2e9dfad7b7113",
       "max": 255,
       "style": "IPY_MODEL_14b11e93c11e4d57a18430fb830bf4aa",
       "value": 179
      }
     },
     "8e5184a739634726822f19358cebde85": {
      "model_module": "@jupyter-widgets/controls",
      "model_module_version": "1.0.0",
      "model_name": "FloatSliderModel",
      "state": {
       "description": "alpha",
       "layout": "IPY_MODEL_643af9ed156f461f9dad5f754cd2296c",
       "max": 1,
       "step": 0.1,
       "style": "IPY_MODEL_1054327e41f149d8993e8dc1c758389a",
       "value": 1
      }
     },
     "8ebe17764271456188b7be636fb3713d": {
      "model_module": "@jupyter-widgets/controls",
      "model_module_version": "1.0.0",
      "model_name": "FloatSliderModel",
      "state": {
       "description": "alpha",
       "layout": "IPY_MODEL_2055576160234dc99d6e1929319add1a",
       "max": 1,
       "step": 0.1,
       "style": "IPY_MODEL_d196b922cf4042258da63e117d905660",
       "value": 1
      }
     },
     "8ed23e2e765345aabb440e5b2aea89ac": {
      "model_module": "@jupyter-widgets/base",
      "model_module_version": "1.0.0",
      "model_name": "LayoutModel",
      "state": {}
     },
     "8ee6a2148a7c4cf18ac5314a0c819773": {
      "model_module": "@jupyter-widgets/controls",
      "model_module_version": "1.0.0",
      "model_name": "VBoxModel",
      "state": {
       "_dom_classes": [
        "widget-interact"
       ],
       "children": [
        "IPY_MODEL_f9de58598256480189796caf68189d44",
        "IPY_MODEL_5f459d8122144869af3120716b137eaf",
        "IPY_MODEL_b9480267483f4722b72351ac356dbe9f",
        "IPY_MODEL_aa123c21e4084ba5a462132df404ccc8",
        "IPY_MODEL_169d67b236b24954b072c978d78c114a",
        "IPY_MODEL_412f7e22419940d89548953eaf218817",
        "IPY_MODEL_2fdfadac1b0944078a638bb6c6a25508",
        "IPY_MODEL_77a341f37c5d4e53a5ca97d1816ffa93",
        "IPY_MODEL_6c81dd70e6f04199aeb9b9dffbe1d9c9",
        "IPY_MODEL_3e610f307a354d59bb57033ae3739d06",
        "IPY_MODEL_340b49339f1b40ddb7a71d420af7ec5e",
        "IPY_MODEL_3fed4f8c9e8947a0b912f59dfe52886d",
        "IPY_MODEL_d7401e9b00eb4fb7ae4edf25c56d96ba"
       ],
       "layout": "IPY_MODEL_652c9595e60947e7a9926b5a18740e99"
      }
     },
     "8ef295ff04ef40ffade266cfdd00b132": {
      "model_module": "@jupyter-widgets/controls",
      "model_module_version": "1.0.0",
      "model_name": "DropdownModel",
      "state": {
       "_options_labels": [
        "times",
        "courier",
        "arial"
       ],
       "description": "family",
       "index": 0,
       "layout": "IPY_MODEL_65dff0131de947269e380008891da688",
       "style": "IPY_MODEL_ad88863a2e8b4eb8928674244a31e4dc"
      }
     },
     "8f049360ac2e4f72bd1d86054e5c7d7c": {
      "model_module": "@jupyter-widgets/controls",
      "model_module_version": "1.0.0",
      "model_name": "SliderStyleModel",
      "state": {
       "description_width": ""
      }
     },
     "8f0e874f1bb54531bd295b3b7f0aaec8": {
      "model_module": "@jupyter-widgets/controls",
      "model_module_version": "1.0.0",
      "model_name": "VBoxModel",
      "state": {
       "children": [
        "IPY_MODEL_96dd04124fac4073aad2843c3279bc87",
        "IPY_MODEL_7eaeb7c5920f435588729901cb57c06f"
       ],
       "layout": "IPY_MODEL_072eb40a142c4b4baa780c08f838c4ec"
      }
     },
     "8f141d66cf6e471180372a0c320806d0": {
      "model_module": "@jupyter-widgets/base",
      "model_module_version": "1.0.0",
      "model_name": "LayoutModel",
      "state": {}
     },
     "8f3b889ab62940c39848490fb41ec65e": {
      "model_module": "@jupyter-widgets/controls",
      "model_module_version": "1.0.0",
      "model_name": "HTMLModel",
      "state": {
       "layout": "IPY_MODEL_e7e326694f314744aace20192ba327d7",
       "style": "IPY_MODEL_daa7b862d9ac456ebe60e2b253244cbf",
       "value": "<img src=\"interactive_text.png\" id=\"snapshot_id_13_1536270133324\"/>\n <div id=\"snapshot_id_14_1536270133324\">interactive_text.png</div>"
      }
     },
     "8f788561c6ef4021a1a232f6c6d2077c": {
      "model_module": "@jupyter-widgets/base",
      "model_module_version": "1.0.0",
      "model_name": "LayoutModel",
      "state": {}
     },
     "8f9966ed5dc747a7a049f76eeeb5832e": {
      "model_module": "@jupyter-widgets/base",
      "model_module_version": "1.0.0",
      "model_name": "LayoutModel",
      "state": {}
     },
     "8fa2c43c81c54a54bf65d9e484693c73": {
      "model_module": "@jupyter-widgets/base",
      "model_module_version": "1.0.0",
      "model_name": "LayoutModel",
      "state": {}
     },
     "8fa67750e8c349a8aa134a9b73312390": {
      "model_module": "@jupyter-widgets/base",
      "model_module_version": "1.0.0",
      "model_name": "LayoutModel",
      "state": {}
     },
     "8fb12a68aaf041ca86b89b26c789373a": {
      "model_module": "@jupyter-widgets/base",
      "model_module_version": "1.0.0",
      "model_name": "LayoutModel",
      "state": {}
     },
     "8fea24356c194406adc95e2fc1fb3c4a": {
      "model_module": "@jupyter-widgets/base",
      "model_module_version": "1.0.0",
      "model_name": "LayoutModel",
      "state": {}
     },
     "902d0324003c4f108e7dfe2fcc477ed3": {
      "model_module": "@jupyter-widgets/controls",
      "model_module_version": "1.0.0",
      "model_name": "TabModel",
      "state": {
       "_titles": {
        "0": "Canvas",
        "1": "Snapshot"
       },
       "children": [
        "IPY_MODEL_da82f84716a94fc8bbe5631f5be582a1",
        "IPY_MODEL_287cd41b851146269e275908f48cd2d7"
       ],
       "layout": "IPY_MODEL_32316a19285745f9aaff790f3d95f45b",
       "selected_index": 1
      }
     },
     "904218ac38bc49ba848e26c6dcfb7d6c": {
      "model_module": "@jupyter-widgets/controls",
      "model_module_version": "1.0.0",
      "model_name": "IntSliderModel",
      "state": {
       "description": "green",
       "layout": "IPY_MODEL_c9610c9e528b445dbf05288e0ebcf0bf",
       "max": 255,
       "style": "IPY_MODEL_12d3316be6b6481580cf77c90e7e4fb7"
      }
     },
     "907293990c2344b1a81dbe1185a981b4": {
      "model_module": "@jupyter-widgets/controls",
      "model_module_version": "1.0.0",
      "model_name": "IntSliderModel",
      "state": {
       "description": "r",
       "layout": "IPY_MODEL_6f15dead747d4fb5bd6870c4537e1f5f",
       "style": "IPY_MODEL_0d2431a2ebde4bcfb5b9da41c8bfbf4e",
       "value": 50
      }
     },
     "907f381ceec84cf3b6aaa2f8cfde80be": {
      "model_module": "@jupyter-widgets/controls",
      "model_module_version": "1.0.0",
      "model_name": "SliderStyleModel",
      "state": {
       "description_width": ""
      }
     },
     "90a23e4fca154fe59d30a5855109fc9e": {
      "model_module": "@jupyter-widgets/controls",
      "model_module_version": "1.0.0",
      "model_name": "DropdownModel",
      "state": {
       "_options_labels": [
        "bottom",
        "center"
       ],
       "description": "valign",
       "index": 1,
       "layout": "IPY_MODEL_fa9a0ee48eac4bca9242c36fce2f93c2",
       "style": "IPY_MODEL_3fcb486482f74e97afcd806b08d8a1d7"
      }
     },
     "90b8fe11e0ab4a7aa2349cc9123f0b1a": {
      "model_module": "@jupyter-widgets/controls",
      "model_module_version": "1.0.0",
      "model_name": "TabModel",
      "state": {
       "_titles": {
        "0": "Canvas",
        "1": "Snapshot"
       },
       "children": [
        "IPY_MODEL_9e26ce5eb3e54f3598988362fcc60109",
        "IPY_MODEL_bc8c2db07a7546f18a3e41352877b5e0"
       ],
       "layout": "IPY_MODEL_694e5677715948819da2886f6813d1bd",
       "selected_index": 1
      }
     },
     "90e132ec873b4c72aa2ff7b7dd04cc0f": {
      "model_module": "jp_proxy_widget",
      "model_module_version": "^0.3.4",
      "model_name": "JSProxyModel",
      "state": {
       "_model_module_version": "^0.3.4",
       "_send_counter": 2,
       "_view_module_version": "^0.3.4",
       "error_msg": "No error",
       "layout": "IPY_MODEL_0eb2e51813de43a48111f85c8dbae638",
       "rendered": true,
       "status": "Got results."
      }
     },
     "90ebb19dc172489fa3d16ac87e34205d": {
      "model_module": "@jupyter-widgets/base",
      "model_module_version": "1.0.0",
      "model_name": "LayoutModel",
      "state": {}
     },
     "91245801af7d46a0b339d34af01e1162": {
      "model_module": "@jupyter-widgets/base",
      "model_module_version": "1.0.0",
      "model_name": "LayoutModel",
      "state": {}
     },
     "912bfb4b917e4ffdafcb0a2f358c2668": {
      "model_module": "@jupyter-widgets/controls",
      "model_module_version": "1.0.0",
      "model_name": "IntSliderModel",
      "state": {
       "description": "red",
       "layout": "IPY_MODEL_9bb0cdcea1bd46fe8326bd12983a3e6f",
       "max": 255,
       "style": "IPY_MODEL_9eee135bb1d545d5b15504d2854b086b",
       "value": 161
      }
     },
     "9138e41ff93548d8a8fbe1a831dd914f": {
      "model_module": "@jupyter-widgets/controls",
      "model_module_version": "1.0.0",
      "model_name": "SliderStyleModel",
      "state": {
       "description_width": ""
      }
     },
     "916c0e3637cd477c88d588c2f8b215e6": {
      "model_module": "@jupyter-widgets/base",
      "model_module_version": "1.0.0",
      "model_name": "LayoutModel",
      "state": {}
     },
     "91a6f467829b4a8abc1757e62a0968d2": {
      "model_module": "@jupyter-widgets/controls",
      "model_module_version": "1.0.0",
      "model_name": "DropdownModel",
      "state": {
       "_options_labels": [
        "",
        "blue",
        "green",
        "pink",
        "brown",
        "cornsilk"
       ],
       "description": "background",
       "index": 2,
       "layout": "IPY_MODEL_ab8406033a8b46e2a7653cb278f5ff4e",
       "style": "IPY_MODEL_bf762f247ed044e9abc9509f6d9ef882"
      }
     },
     "91aafad6d429405da1bb6a612e124427": {
      "model_module": "jp_proxy_widget",
      "model_module_version": "^0.3.4",
      "model_name": "JSProxyModel",
      "state": {
       "_model_module_version": "^0.3.4",
       "_send_counter": 2,
       "_view_module_version": "^0.3.4",
       "error_msg": "No error",
       "layout": "IPY_MODEL_7432f63598da477ba358388b5f887995",
       "rendered": true,
       "status": "Got results."
      }
     },
     "91f8bb40a39c41a7add98a8fdaf8140e": {
      "model_module": "jp_proxy_widget",
      "model_module_version": "^0.3.4",
      "model_name": "JSProxyModel",
      "state": {
       "_model_module_version": "^0.3.4",
       "_send_counter": 2,
       "_view_module_version": "^0.3.4",
       "error_msg": "No error",
       "layout": "IPY_MODEL_602f43d0438440499f2c0ccf9da9c35e",
       "rendered": true,
       "status": "Got results."
      }
     },
     "92229f6efafc4a91a7a0fc3ea0eec483": {
      "model_module": "@jupyter-widgets/controls",
      "model_module_version": "1.0.0",
      "model_name": "SliderStyleModel",
      "state": {
       "description_width": ""
      }
     },
     "9249b03356d347249f04bcbc0aa74a3b": {
      "model_module": "@jupyter-widgets/controls",
      "model_module_version": "1.0.0",
      "model_name": "TabModel",
      "state": {
       "_titles": {
        "0": "Canvas",
        "1": "Snapshot"
       },
       "children": [
        "IPY_MODEL_d90978939e064552b6538ed9b2eb159a",
        "IPY_MODEL_f665b5582bc84e128b2e9a285c24f12b"
       ],
       "layout": "IPY_MODEL_c86bddaf25444fbdba2ef4500803ade6"
      }
     },
     "92703755d8f74aae89b7f06ada3f6496": {
      "model_module": "jp_proxy_widget",
      "model_module_version": "^0.3.4",
      "model_name": "JSProxyModel",
      "state": {
       "_model_module_version": "^0.3.4",
       "_send_counter": 786,
       "_view_module_version": "^0.3.4",
       "error_msg": "No error",
       "layout": "IPY_MODEL_1641e3194b4b4c77a75745fa12bb73b2",
       "rendered": true,
       "status": "Got results."
      }
     },
     "92ab3206b3b045359ddf9e9268a4954b": {
      "model_module": "@jupyter-widgets/controls",
      "model_module_version": "1.0.0",
      "model_name": "IntSliderModel",
      "state": {
       "description": "green",
       "layout": "IPY_MODEL_4239c3efea4d43b1a6f0d8c288c6ae50",
       "max": 255,
       "style": "IPY_MODEL_b1d77485b05942f0ae52eb456b75c3da",
       "value": 127
      }
     },
     "92ba613b77e24e91994e5756cb58ab09": {
      "model_module": "@jupyter-widgets/controls",
      "model_module_version": "1.0.0",
      "model_name": "SliderStyleModel",
      "state": {
       "description_width": ""
      }
     },
     "930beb4cba624664a44324192d0ab957": {
      "model_module": "@jupyter-widgets/base",
      "model_module_version": "1.0.0",
      "model_name": "LayoutModel",
      "state": {}
     },
     "9349aafdc8b14bebbdecfeee7b26d8ab": {
      "model_module": "@jupyter-widgets/controls",
      "model_module_version": "1.0.0",
      "model_name": "DescriptionStyleModel",
      "state": {
       "description_width": ""
      }
     },
     "935a3a137c30488ba034c425a40d3be0": {
      "model_module": "@jupyter-widgets/controls",
      "model_module_version": "1.0.0",
      "model_name": "DescriptionStyleModel",
      "state": {
       "description_width": ""
      }
     },
     "9362d7362e49489fbba6c75b8401a937": {
      "model_module": "@jupyter-widgets/controls",
      "model_module_version": "1.0.0",
      "model_name": "SliderStyleModel",
      "state": {
       "description_width": ""
      }
     },
     "93bb07654dc54d1093c5f3a9b485e34e": {
      "model_module": "@jupyter-widgets/controls",
      "model_module_version": "1.0.0",
      "model_name": "TabModel",
      "state": {
       "_titles": {
        "0": "Canvas",
        "1": "Snapshot"
       },
       "children": [
        "IPY_MODEL_e9cab7fcdb4d473cbfd652caa886a624",
        "IPY_MODEL_6013faeeb3f54e0c92e71fa3dd152aa4"
       ],
       "layout": "IPY_MODEL_6b8810edb85f48f598067d897842dee2"
      }
     },
     "93db688011be4f479ef998335785452a": {
      "model_module": "@jupyter-widgets/controls",
      "model_module_version": "1.0.0",
      "model_name": "DescriptionStyleModel",
      "state": {
       "description_width": ""
      }
     },
     "93e0f1e559e3402e81850228a140592c": {
      "model_module": "@jupyter-widgets/base",
      "model_module_version": "1.0.0",
      "model_name": "LayoutModel",
      "state": {}
     },
     "93f53fa2fce64ef4af50f7566b233777": {
      "model_module": "@jupyter-widgets/controls",
      "model_module_version": "1.0.0",
      "model_name": "DescriptionStyleModel",
      "state": {
       "description_width": ""
      }
     },
     "940d4c6185d345e3964ba9306ab68688": {
      "model_module": "@jupyter-widgets/base",
      "model_module_version": "1.0.0",
      "model_name": "LayoutModel",
      "state": {}
     },
     "94130a5458c9451abbb8f7711bee6b4e": {
      "model_module": "@jupyter-widgets/controls",
      "model_module_version": "1.0.0",
      "model_name": "DescriptionStyleModel",
      "state": {
       "description_width": ""
      }
     },
     "94757874e4324feaab615dda6d7f01d1": {
      "model_module": "@jupyter-widgets/controls",
      "model_module_version": "1.0.0",
      "model_name": "SliderStyleModel",
      "state": {
       "description_width": ""
      }
     },
     "94860ebcd967426b807144f30016ba20": {
      "model_module": "@jupyter-widgets/base",
      "model_module_version": "1.0.0",
      "model_name": "LayoutModel",
      "state": {}
     },
     "94e4936f21ca4a88b80e7ca0a953f36b": {
      "model_module": "@jupyter-widgets/base",
      "model_module_version": "1.0.0",
      "model_name": "LayoutModel",
      "state": {}
     },
     "94edea5c9ba649c8b4365acdf933d07a": {
      "model_module": "@jupyter-widgets/controls",
      "model_module_version": "1.0.0",
      "model_name": "DescriptionStyleModel",
      "state": {
       "description_width": ""
      }
     },
     "94f3bdfcfdd64066bd8e29d1bd23d33c": {
      "model_module": "@jupyter-widgets/controls",
      "model_module_version": "1.0.0",
      "model_name": "VBoxModel",
      "state": {
       "_dom_classes": [
        "widget-interact"
       ],
       "children": [
        "IPY_MODEL_8aae7b7f99b746939a1e33f05759c6f4",
        "IPY_MODEL_b6cd2dd3ca7b4a82acad007b6b3f594f",
        "IPY_MODEL_99c6cb976abf488db036fbc197fc8ce2",
        "IPY_MODEL_3cf2b3bec0b345c7ba4a5b7b033fab7e",
        "IPY_MODEL_85859efc12234c86a926c5915a663aa7",
        "IPY_MODEL_82e01ea203ce46c7bc169066dd696bad",
        "IPY_MODEL_87edfca9283c4b6da3d0095ca17687ce",
        "IPY_MODEL_f89e3301135847bea965f3e3716f890d"
       ],
       "layout": "IPY_MODEL_6e1d41b1faa4426fbbfce1ec9a66f5ce"
      }
     },
     "953ef9689c474e3eb737c96dec557317": {
      "model_module": "@jupyter-widgets/base",
      "model_module_version": "1.0.0",
      "model_name": "LayoutModel",
      "state": {}
     },
     "9544f814436a4e1bb03a9d5deb788c5c": {
      "model_module": "@jupyter-widgets/controls",
      "model_module_version": "1.0.0",
      "model_name": "IntSliderModel",
      "state": {
       "description": "red",
       "layout": "IPY_MODEL_f6de3677078248f09478747c026b7194",
       "max": 255,
       "style": "IPY_MODEL_96240e2f4bb845afaaee5b94682621c8",
       "value": 80
      }
     },
     "95466f3290994f27a478f9c02fb37263": {
      "model_module": "@jupyter-widgets/base",
      "model_module_version": "1.0.0",
      "model_name": "LayoutModel",
      "state": {}
     },
     "9548b33cf4214107b523d8d234c8bd70": {
      "model_module": "@jupyter-widgets/base",
      "model_module_version": "1.0.0",
      "model_name": "LayoutModel",
      "state": {}
     },
     "954dbf7a8672499abc2e626af4121e9d": {
      "model_module": "@jupyter-widgets/controls",
      "model_module_version": "1.0.0",
      "model_name": "FloatSliderModel",
      "state": {
       "description": "start",
       "layout": "IPY_MODEL_1508188053d547288e5eb3f6498d54ca",
       "max": 6.383185307179586,
       "step": 0.1,
       "style": "IPY_MODEL_e0b9e17141304f02b96350569ed8ebf7"
      }
     },
     "954e332d405840248d0bea9ad55fa112": {
      "model_module": "@jupyter-widgets/base",
      "model_module_version": "1.0.0",
      "model_name": "LayoutModel",
      "state": {}
     },
     "956cd7b7e4ac4de7b8d66953bcfaf17e": {
      "model_module": "@jupyter-widgets/base",
      "model_module_version": "1.0.0",
      "model_name": "LayoutModel",
      "state": {}
     },
     "95787190fb414051bde8b10ed4bf7937": {
      "model_module": "@jupyter-widgets/base",
      "model_module_version": "1.0.0",
      "model_name": "LayoutModel",
      "state": {}
     },
     "957cc7699a144899981e464db6327408": {
      "model_module": "jp_proxy_widget",
      "model_module_version": "^0.3.4",
      "model_name": "JSProxyModel",
      "state": {
       "_model_module_version": "^0.3.4",
       "_send_counter": 2,
       "_view_module_version": "^0.3.4",
       "error_msg": "No error",
       "layout": "IPY_MODEL_e6b2d7b4a4f546af8e4db2e2c9a94138",
       "rendered": true,
       "status": "call back to <function callback_function at 0x113680578>"
      }
     },
     "95ea660bf80940b1861c35dd8b29b0e3": {
      "model_module": "@jupyter-widgets/controls",
      "model_module_version": "1.0.0",
      "model_name": "IntSliderModel",
      "state": {
       "description": "r",
       "layout": "IPY_MODEL_caed84739d874a51bc8e8a549434bba1",
       "style": "IPY_MODEL_e6fa67ee18e44c5b869ba6e3f8df74a1",
       "value": 50
      }
     },
     "960b8aa072264d4cbd33e16a82c3b576": {
      "model_module": "@jupyter-widgets/controls",
      "model_module_version": "1.0.0",
      "model_name": "SliderStyleModel",
      "state": {
       "description_width": ""
      }
     },
     "96240e2f4bb845afaaee5b94682621c8": {
      "model_module": "@jupyter-widgets/controls",
      "model_module_version": "1.0.0",
      "model_name": "SliderStyleModel",
      "state": {
       "description_width": ""
      }
     },
     "962fd963b8a34b459690737165e2682b": {
      "model_module": "@jupyter-widgets/controls",
      "model_module_version": "1.0.0",
      "model_name": "IntSliderModel",
      "state": {
       "description": "green",
       "layout": "IPY_MODEL_adb61307029a413db984b5aff4a0d460",
       "max": 255,
       "style": "IPY_MODEL_1cd41c8313ed44d68d4058eafee4da87",
       "value": 102
      }
     },
     "969354d0877241028b8dce49672df2f2": {
      "model_module": "@jupyter-widgets/controls",
      "model_module_version": "1.0.0",
      "model_name": "SliderStyleModel",
      "state": {
       "description_width": ""
      }
     },
     "96dcd8085b8346399dc5f74a4deedb27": {
      "model_module": "@jupyter-widgets/base",
      "model_module_version": "1.0.0",
      "model_name": "LayoutModel",
      "state": {}
     },
     "96dd04124fac4073aad2843c3279bc87": {
      "model_module": "jp_proxy_widget",
      "model_module_version": "^0.3.4",
      "model_name": "JSProxyModel",
      "state": {
       "_model_module_version": "^0.3.4",
       "_send_counter": 361,
       "_view_module_version": "^0.3.4",
       "error_msg": "No error",
       "layout": "IPY_MODEL_9f68f4b3853d408ba3b2d3f489e2cff5",
       "rendered": true,
       "status": "Got results."
      }
     },
     "971730905f58425ab4aaaeb3c9ab05ee": {
      "model_module": "@jupyter-widgets/controls",
      "model_module_version": "1.0.0",
      "model_name": "DescriptionStyleModel",
      "state": {
       "description_width": ""
      }
     },
     "973d2d166cb54817b04ec75496fef86c": {
      "model_module": "@jupyter-widgets/controls",
      "model_module_version": "1.0.0",
      "model_name": "IntSliderModel",
      "state": {
       "description": "degrees",
       "layout": "IPY_MODEL_02698a4bf36e4aeaa4c05b2aeef3d1a6",
       "max": 360,
       "min": -360,
       "style": "IPY_MODEL_f45e41c1d741442f8723d8a2bf565ca1"
      }
     },
     "9749d64303884380a8ba5b7e805f1f8c": {
      "model_module": "@jupyter-widgets/controls",
      "model_module_version": "1.0.0",
      "model_name": "IntSliderModel",
      "state": {
       "description": "x",
       "layout": "IPY_MODEL_5a3b78b492ae4dcdb14c792d743025ac",
       "min": -100,
       "style": "IPY_MODEL_2715990fa5714fc6a0fc16e71955286c"
      }
     },
     "97959e6375f844e7b6b572cb1a4c8a8d": {
      "model_module": "jp_proxy_widget",
      "model_module_version": "^0.3.4",
      "model_name": "JSProxyModel",
      "state": {
       "_model_module_version": "^0.3.4",
       "_send_counter": 2,
       "_view_module_version": "^0.3.4",
       "error_msg": "No error",
       "layout": "IPY_MODEL_e6392e303d9242039fe63154afd7e4f7",
       "rendered": true,
       "status": "call back to <function callback_function at 0x1121a4de8>"
      }
     },
     "97a79d1483c84492b19ed8499b6e02a5": {
      "model_module": "@jupyter-widgets/controls",
      "model_module_version": "1.0.0",
      "model_name": "HTMLModel",
      "state": {
       "layout": "IPY_MODEL_2d621120bd884c2bab95eccd69d34ae0",
       "style": "IPY_MODEL_7081ba89959744d59eeebfdbd4a372fa",
       "value": "<img src=\"interactive_text2.png\" id=\"snapshot_id_11_1536321095425\"/>\n <div id=\"snapshot_id_12_1536321095425\">interactive_text2.png</div>"
      }
     },
     "97ae442a8e614bd29144f71297c128b3": {
      "model_module": "@jupyter-widgets/base",
      "model_module_version": "1.0.0",
      "model_name": "LayoutModel",
      "state": {}
     },
     "97b2a1af041649a9bc643590cf743c29": {
      "model_module": "@jupyter-widgets/controls",
      "model_module_version": "1.0.0",
      "model_name": "IntSliderModel",
      "state": {
       "description": "green",
       "layout": "IPY_MODEL_de58ca33cece4fca86e212c9a0196fa6",
       "max": 255,
       "style": "IPY_MODEL_dbc89399c8b14812b38cbd63a9f3e0e4"
      }
     },
     "97c7c41c7ac741d488bd9d55e0c23671": {
      "model_module": "@jupyter-widgets/controls",
      "model_module_version": "1.0.0",
      "model_name": "IntSliderModel",
      "state": {
       "description": "green",
       "layout": "IPY_MODEL_83bca31eff7f4e37a09cd3e6890e39d7",
       "max": 255,
       "style": "IPY_MODEL_6d53b273f7614a95aa03f7fd42cd1953",
       "value": 255
      }
     },
     "97e51903c0994d3a9cb6fa07fb443de5": {
      "model_module": "@jupyter-widgets/base",
      "model_module_version": "1.0.0",
      "model_name": "LayoutModel",
      "state": {}
     },
     "97fd86653c0445ae813726681c636030": {
      "model_module": "@jupyter-widgets/base",
      "model_module_version": "1.0.0",
      "model_name": "LayoutModel",
      "state": {}
     },
     "985c496eaafc4e138e05eaef705d1bac": {
      "model_module": "@jupyter-widgets/base",
      "model_module_version": "1.0.0",
      "model_name": "LayoutModel",
      "state": {}
     },
     "988b0d9c953d4c909f9c5eef41f629df": {
      "model_module": "@jupyter-widgets/base",
      "model_module_version": "1.0.0",
      "model_name": "LayoutModel",
      "state": {}
     },
     "98a2afdb76074604a1cafa8c16393664": {
      "model_module": "@jupyter-widgets/controls",
      "model_module_version": "1.0.0",
      "model_name": "HTMLModel",
      "state": {
       "layout": "IPY_MODEL_20818d221903493088f277861d60ffd8",
       "style": "IPY_MODEL_e55dc9e053e2472ab463a184639bbe2d",
       "value": "<img src=\"interactive_circle.png\" id=\"snapshot_id_21_1536246824767\"/>\n <div id=\"snapshot_id_22_1536246824767\">interactive_circle.png</div>"
      }
     },
     "98a813ba7dca45c2b8edf6b8e9546508": {
      "model_module": "@jupyter-widgets/controls",
      "model_module_version": "1.0.0",
      "model_name": "IntSliderModel",
      "state": {
       "description": "x",
       "layout": "IPY_MODEL_ab05b6ebf11a414689aa9c0a754256bc",
       "min": -100,
       "style": "IPY_MODEL_6f03a2c8f2ad465fa08d9a3cd0476721",
       "value": -100
      }
     },
     "98dfd125f5c544dc84d36d1e88d72c0e": {
      "model_module": "@jupyter-widgets/controls",
      "model_module_version": "1.0.0",
      "model_name": "VBoxModel",
      "state": {
       "_dom_classes": [
        "widget-interact"
       ],
       "children": [
        "IPY_MODEL_467f910a730c4d6cbed22720b85af472",
        "IPY_MODEL_1d8c5b1ec77544638818df9a404d2793",
        "IPY_MODEL_40679a37760f413eaab916ce3109bef5",
        "IPY_MODEL_670124ed91374563b12df1fd5c0e8836",
        "IPY_MODEL_a1d54672a26848e19fc1f24dc892ed55",
        "IPY_MODEL_18d3e296ac384c2e95625188e3cae335",
        "IPY_MODEL_4ced25d8025447b6a1bdc6d08ee778e4",
        "IPY_MODEL_5fdc71e79e244e9ba11069045976f111",
        "IPY_MODEL_46cfffbf2dd84d38a01d790f34b90b10",
        "IPY_MODEL_b9c4487767184455aa98e57da81048a3"
       ],
       "layout": "IPY_MODEL_75394f37115740298c75c9715193030f"
      }
     },
     "98e1cb27ec48462192a275ea67aa80f2": {
      "model_module": "@jupyter-widgets/base",
      "model_module_version": "1.0.0",
      "model_name": "LayoutModel",
      "state": {}
     },
     "98f8ac8a9b61438e97aed5dd2a9f2a86": {
      "model_module": "@jupyter-widgets/base",
      "model_module_version": "1.0.0",
      "model_name": "LayoutModel",
      "state": {}
     },
     "9934ce6e80cd4c33b78e86f030ed111e": {
      "model_module": "@jupyter-widgets/controls",
      "model_module_version": "1.0.0",
      "model_name": "IntSliderModel",
      "state": {
       "description": "r",
       "layout": "IPY_MODEL_b251b72b62b04fe7aafb29fb28efd1fc",
       "style": "IPY_MODEL_0508f8868207466388be8b8299a28843",
       "value": 50
      }
     },
     "995e1b5ca81f451e9d0e09f6849ff4b0": {
      "model_module": "@jupyter-widgets/controls",
      "model_module_version": "1.0.0",
      "model_name": "IntSliderModel",
      "state": {
       "description": "green",
       "layout": "IPY_MODEL_98f8ac8a9b61438e97aed5dd2a9f2a86",
       "max": 255,
       "style": "IPY_MODEL_42b23baac2834dea8209db31f0da05e3"
      }
     },
     "9976729cbed14b1ca63f81e29b0c1a02": {
      "model_module": "@jupyter-widgets/base",
      "model_module_version": "1.0.0",
      "model_name": "LayoutModel",
      "state": {}
     },
     "99c6cb976abf488db036fbc197fc8ce2": {
      "model_module": "@jupyter-widgets/controls",
      "model_module_version": "1.0.0",
      "model_name": "IntSliderModel",
      "state": {
       "description": "r",
       "layout": "IPY_MODEL_08f10721a5294105b92790e7e3ae2341",
       "style": "IPY_MODEL_969354d0877241028b8dce49672df2f2",
       "value": 84
      }
     },
     "99c6e67a78ca4aafaaceabd912f03755": {
      "model_module": "@jupyter-widgets/base",
      "model_module_version": "1.0.0",
      "model_name": "LayoutModel",
      "state": {}
     },
     "99ff73067755445da52bc8e6f06a0828": {
      "model_module": "jp_proxy_widget",
      "model_module_version": "^0.3.4",
      "model_name": "JSProxyModel",
      "state": {
       "_model_module_version": "^0.3.4",
       "_send_counter": 2,
       "_view_module_version": "^0.3.4",
       "error_msg": "No error",
       "layout": "IPY_MODEL_30c4126882314eef8d15b17065c88f05",
       "rendered": true,
       "status": "Got results."
      }
     },
     "9a45c46214dc4734986d184184a4fd6c": {
      "model_module": "@jupyter-widgets/controls",
      "model_module_version": "1.0.0",
      "model_name": "IntSliderModel",
      "state": {
       "description": "red",
       "layout": "IPY_MODEL_4428339fa03a4718a99f6b50ab356b6f",
       "max": 255,
       "style": "IPY_MODEL_a676f495276b4414989f05a0ab41a7ba",
       "value": 255
      }
     },
     "9a985d3eaf72493280b8499dd86fc165": {
      "model_module": "@jupyter-widgets/controls",
      "model_module_version": "1.0.0",
      "model_name": "IntSliderModel",
      "state": {
       "description": "y",
       "layout": "IPY_MODEL_52f3569491114ceba1dfdaf1f88ac7c2",
       "min": -100,
       "style": "IPY_MODEL_ee2f850873f74a828a3f233b4ec5a4f8"
      }
     },
     "9aaef4d566be4d819c95c13b8afc5822": {
      "model_module": "jp_proxy_widget",
      "model_module_version": "^0.3.4",
      "model_name": "JSProxyModel",
      "state": {
       "_model_module_version": "^0.3.4",
       "_send_counter": 11,
       "_view_module_version": "^0.3.4",
       "error_msg": "No error",
       "layout": "IPY_MODEL_24d7df0fd6094301b21c7aa7feb3e24a",
       "rendered": true,
       "status": "Got results."
      }
     },
     "9b03adeb39c54861a800974d19db95c3": {
      "model_module": "@jupyter-widgets/base",
      "model_module_version": "1.0.0",
      "model_name": "LayoutModel",
      "state": {}
     },
     "9b09597ad715496fba85b7ff00d88e85": {
      "model_module": "@jupyter-widgets/base",
      "model_module_version": "1.0.0",
      "model_name": "LayoutModel",
      "state": {}
     },
     "9ba4b277b2934979aabf501a57c812bc": {
      "model_module": "@jupyter-widgets/base",
      "model_module_version": "1.0.0",
      "model_name": "LayoutModel",
      "state": {}
     },
     "9bb0cdcea1bd46fe8326bd12983a3e6f": {
      "model_module": "@jupyter-widgets/base",
      "model_module_version": "1.0.0",
      "model_name": "LayoutModel",
      "state": {}
     },
     "9bbf22f03bb24ccc88d91d6666405aa7": {
      "model_module": "@jupyter-widgets/controls",
      "model_module_version": "1.0.0",
      "model_name": "DropdownModel",
      "state": {
       "_options_labels": [
        "times",
        "courier",
        "arial"
       ],
       "description": "family",
       "index": 0,
       "layout": "IPY_MODEL_5c4e273fbb2e4e21a2c451ba49557d68",
       "style": "IPY_MODEL_9349aafdc8b14bebbdecfeee7b26d8ab"
      }
     },
     "9bdcb3dee83347f09ace7f714a405b86": {
      "model_module": "@jupyter-widgets/controls",
      "model_module_version": "1.0.0",
      "model_name": "DescriptionStyleModel",
      "state": {
       "description_width": ""
      }
     },
     "9c1a21c8feb74bc592dd864e35b54ecf": {
      "model_module": "@jupyter-widgets/controls",
      "model_module_version": "1.0.0",
      "model_name": "IntSliderModel",
      "state": {
       "description": "degrees",
       "layout": "IPY_MODEL_28e7c5a36aa7422ebf15a22942d94734",
       "max": 360,
       "min": -360,
       "style": "IPY_MODEL_02d007c44ab44d52b2cd1dd94cbfb0ef",
       "value": 29
      }
     },
     "9c1ba6765f244920acee5f3f328fe2c0": {
      "model_module": "@jupyter-widgets/base",
      "model_module_version": "1.0.0",
      "model_name": "LayoutModel",
      "state": {}
     },
     "9c4d307bd36a43ecbebe3b532825a22d": {
      "model_module": "@jupyter-widgets/base",
      "model_module_version": "1.0.0",
      "model_name": "LayoutModel",
      "state": {}
     },
     "9cb98f819a5b4475abf5aca35639f5ab": {
      "model_module": "@jupyter-widgets/base",
      "model_module_version": "1.0.0",
      "model_name": "LayoutModel",
      "state": {}
     },
     "9cbf1dab380a435ba55d05e76513d162": {
      "model_module": "@jupyter-widgets/controls",
      "model_module_version": "1.0.0",
      "model_name": "HTMLModel",
      "state": {
       "layout": "IPY_MODEL_3f4e2b705ee649989756e9621e6df183",
       "style": "IPY_MODEL_69638e75881a4a6bba35b419820820a4",
       "value": "<img src=\"interactive_text2.png\" id=\"snapshot_id_3_1536320851112\"/>\n <div id=\"snapshot_id_4_1536320851112\">interactive_text2.png</div>"
      }
     },
     "9cdfa459e2f841198751c3c9db448d74": {
      "model_module": "@jupyter-widgets/controls",
      "model_module_version": "1.0.0",
      "model_name": "IntSliderModel",
      "state": {
       "description": "y",
       "layout": "IPY_MODEL_028db3f69540424e9b2f90bd33ce3e5c",
       "min": -100,
       "style": "IPY_MODEL_bb7e7b4b46bb41e4ae1adbb7120ba9a0"
      }
     },
     "9ceb7c28128848539b0cc36ac0a6dff7": {
      "model_module": "@jupyter-widgets/controls",
      "model_module_version": "1.0.0",
      "model_name": "VBoxModel",
      "state": {
       "_dom_classes": [
        "widget-interact"
       ],
       "children": [
        "IPY_MODEL_b02b5eeaff684c63bd5fc983aba6a5b4",
        "IPY_MODEL_42d12b1ec7574a50b6104871c58a58ed",
        "IPY_MODEL_9934ce6e80cd4c33b78e86f030ed111e",
        "IPY_MODEL_636486f7fe7c44dea4277b35dd6c5909",
        "IPY_MODEL_fec0ed28eaac45e79b9c209f08869788",
        "IPY_MODEL_8cb6b4d350bb437a8aed00c99d8ae286",
        "IPY_MODEL_146a607c903f469badb1bc31b9aba4c0",
        "IPY_MODEL_15c5acfb2fc545db9e3d668e35c57711"
       ],
       "layout": "IPY_MODEL_137c597f04934d4c9baf93a518bfb986"
      }
     },
     "9d1d05eb00224cf88087ee92fb00434c": {
      "model_module": "@jupyter-widgets/base",
      "model_module_version": "1.0.0",
      "model_name": "LayoutModel",
      "state": {}
     },
     "9d53b524c6df43419f250eb88f1c908a": {
      "model_module": "@jupyter-widgets/base",
      "model_module_version": "1.0.0",
      "model_name": "LayoutModel",
      "state": {}
     },
     "9d569a6fb5d1427ea8af9ec0ed46e67f": {
      "model_module": "@jupyter-widgets/controls",
      "model_module_version": "1.0.0",
      "model_name": "DescriptionStyleModel",
      "state": {
       "description_width": ""
      }
     },
     "9d64662664ed47d5b4fc274ae7bc739c": {
      "model_module": "@jupyter-widgets/base",
      "model_module_version": "1.0.0",
      "model_name": "LayoutModel",
      "state": {}
     },
     "9da7a800c2c34b2992db727738b9cdf6": {
      "model_module": "@jupyter-widgets/controls",
      "model_module_version": "1.0.0",
      "model_name": "DescriptionStyleModel",
      "state": {
       "description_width": ""
      }
     },
     "9e26ce5eb3e54f3598988362fcc60109": {
      "model_module": "@jupyter-widgets/controls",
      "model_module_version": "1.0.0",
      "model_name": "VBoxModel",
      "state": {
       "children": [
        "IPY_MODEL_52629508090d47fcb7b2be2b4a594e3d",
        "IPY_MODEL_0eb2be7a42924abda08834e268871f33"
       ],
       "layout": "IPY_MODEL_ad064ec60306491cb1815b9abdbb5119"
      }
     },
     "9e74bbe772004c299b27fae0d0e2ef70": {
      "model_module": "@jupyter-widgets/controls",
      "model_module_version": "1.0.0",
      "model_name": "DescriptionStyleModel",
      "state": {
       "description_width": ""
      }
     },
     "9e955b4de449492dbbeb6011b1801f2f": {
      "model_module": "@jupyter-widgets/controls",
      "model_module_version": "1.0.0",
      "model_name": "SliderStyleModel",
      "state": {
       "description_width": ""
      }
     },
     "9e9a47a314ac40818e6a2ff7c16ae1aa": {
      "model_module": "@jupyter-widgets/base",
      "model_module_version": "1.0.0",
      "model_name": "LayoutModel",
      "state": {}
     },
     "9eb8e04e372d42c89f4b8f2668f3579d": {
      "model_module": "@jupyter-widgets/base",
      "model_module_version": "1.0.0",
      "model_name": "LayoutModel",
      "state": {}
     },
     "9ee7f0275b654572b043146de97d62b6": {
      "model_module": "jp_proxy_widget",
      "model_module_version": "^0.3.4",
      "model_name": "JSProxyModel",
      "state": {
       "_model_module_version": "^0.3.4",
       "_send_counter": 2,
       "_view_module_version": "^0.3.4",
       "error_msg": "No error",
       "layout": "IPY_MODEL_940d4c6185d345e3964ba9306ab68688",
       "rendered": true,
       "status": "Got results."
      }
     },
     "9eee135bb1d545d5b15504d2854b086b": {
      "model_module": "@jupyter-widgets/controls",
      "model_module_version": "1.0.0",
      "model_name": "SliderStyleModel",
      "state": {
       "description_width": ""
      }
     },
     "9efbcad1358c44fb81da258d813a6b3e": {
      "model_module": "@jupyter-widgets/controls",
      "model_module_version": "1.0.0",
      "model_name": "SliderStyleModel",
      "state": {
       "description_width": ""
      }
     },
     "9f0168c2896342f59cc9d5c230718d78": {
      "model_module": "@jupyter-widgets/controls",
      "model_module_version": "1.0.0",
      "model_name": "IntSliderModel",
      "state": {
       "description": "green",
       "layout": "IPY_MODEL_0e03e61d7c234ed0b6c7b1b0d0e95cb9",
       "max": 255,
       "style": "IPY_MODEL_6994decc37844a4fa01e66588fd7e85a",
       "value": 127
      }
     },
     "9f1f46c72a2e4d4ea894c49f2bb9e296": {
      "model_module": "@jupyter-widgets/controls",
      "model_module_version": "1.0.0",
      "model_name": "SliderStyleModel",
      "state": {
       "description_width": ""
      }
     },
     "9f2041dc70e942bd990fe0074cd0e617": {
      "model_module": "@jupyter-widgets/controls",
      "model_module_version": "1.0.0",
      "model_name": "SliderStyleModel",
      "state": {
       "description_width": ""
      }
     },
     "9f3cf8b18306416a963e2a33536ce226": {
      "model_module": "@jupyter-widgets/base",
      "model_module_version": "1.0.0",
      "model_name": "LayoutModel",
      "state": {}
     },
     "9f4d4e4011554f3b9f7b2a995c2091f5": {
      "model_module": "@jupyter-widgets/controls",
      "model_module_version": "1.0.0",
      "model_name": "VBoxModel",
      "state": {
       "_dom_classes": [
        "widget-interact"
       ],
       "children": [
        "IPY_MODEL_4b3ad098badb426bb560a3015cf8d504",
        "IPY_MODEL_55bce9896171486db2e3da61861c320e",
        "IPY_MODEL_48199b5f1ddc4a4e876a3cbe531ff454",
        "IPY_MODEL_e834b25fdfb947ca8910cfc2370b8f01",
        "IPY_MODEL_620f480aaa1d4bd3b456dd56d3f16fa6",
        "IPY_MODEL_d2042340855b454cb1f490989cdf1528",
        "IPY_MODEL_25255b2251d04d9bbf57a93c43bb80b0",
        "IPY_MODEL_02b22d41ff394926a741a08e7a1ad128",
        "IPY_MODEL_c891051e3ee2490e8ca6c2923caef439",
        "IPY_MODEL_211c194813464fabb8ac03cc5fa08c83",
        "IPY_MODEL_158e53308e664d7497a92df704961415",
        "IPY_MODEL_e3480fe80c6e440a87eb2c50fe696bc2",
        "IPY_MODEL_efe4d2439d2145399069ce095f8197ca",
        "IPY_MODEL_7f38f5e416ef4c44bb9cf25461386333",
        "IPY_MODEL_b5efba3f9f92429b993e6629c15a0b8e"
       ],
       "layout": "IPY_MODEL_f0d9251de95b4cb6b1f2e82cdc1853ea"
      }
     },
     "9f68f4b3853d408ba3b2d3f489e2cff5": {
      "model_module": "@jupyter-widgets/base",
      "model_module_version": "1.0.0",
      "model_name": "LayoutModel",
      "state": {}
     },
     "9f6e0f4add4d4bccac251b325439b8b6": {
      "model_module": "@jupyter-widgets/base",
      "model_module_version": "1.0.0",
      "model_name": "LayoutModel",
      "state": {}
     },
     "9f94ba3004d74657a0786be9f7be1693": {
      "model_module": "@jupyter-widgets/base",
      "model_module_version": "1.0.0",
      "model_name": "LayoutModel",
      "state": {}
     },
     "9fb0e94e2dbb4d678570fab8fc38fdc5": {
      "model_module": "@jupyter-widgets/base",
      "model_module_version": "1.0.0",
      "model_name": "LayoutModel",
      "state": {}
     },
     "9feb9ec5a79c40dfac3cf1c9bfd840d8": {
      "model_module": "@jupyter-widgets/base",
      "model_module_version": "1.0.0",
      "model_name": "LayoutModel",
      "state": {}
     },
     "a010693dccb54df3a873da2702fb8a51": {
      "model_module": "@jupyter-widgets/base",
      "model_module_version": "1.0.0",
      "model_name": "LayoutModel",
      "state": {}
     },
     "a0259a62757b49b882506178f568333f": {
      "model_module": "@jupyter-widgets/controls",
      "model_module_version": "1.0.0",
      "model_name": "VBoxModel",
      "state": {
       "children": [
        "IPY_MODEL_5342cbd0a0cc4c5f9fe47b82643bfe2a",
        "IPY_MODEL_6bc96d8188da419b9b25f4a69392d44b"
       ],
       "layout": "IPY_MODEL_8b9c4b07fe9d4341adb802c88a4246e6"
      }
     },
     "a05b5071a09645bb88bc12151d42b0a4": {
      "model_module": "jp_proxy_widget",
      "model_module_version": "^0.3.4",
      "model_name": "JSProxyModel",
      "state": {
       "_model_module_version": "^0.3.4",
       "_send_counter": 1858,
       "_view_module_version": "^0.3.4",
       "error_msg": "Error: cannot add point with NaN NaN,NaN",
       "layout": "IPY_MODEL_a8e86f902ad243929cf19640ff11e851",
       "rendered": true,
       "status": "Got results."
      }
     },
     "a06483f5d06e44038966140dbcfbed70": {
      "model_module": "jp_proxy_widget",
      "model_module_version": "^0.3.4",
      "model_name": "JSProxyModel",
      "state": {
       "_model_module_version": "^0.3.4",
       "_send_counter": 2,
       "_view_module_version": "^0.3.4",
       "error_msg": "No error",
       "layout": "IPY_MODEL_20186b44b3404b2e8ce165d2abc42c9d",
       "rendered": true,
       "status": "call back to <function callback_function at 0x1115ae5f0>"
      }
     },
     "a0c16897fb294308adf18a667e67f308": {
      "model_module": "@jupyter-widgets/controls",
      "model_module_version": "1.0.0",
      "model_name": "VBoxModel",
      "state": {
       "children": [
        "IPY_MODEL_0b15c648be4d49968a0197ad8638c49e",
        "IPY_MODEL_24c9845d365e48e4ba2d19cfbe577220"
       ],
       "layout": "IPY_MODEL_802af8e2579c4f88aec37916d2ccc7e1"
      }
     },
     "a0ce0e78cf2c45199ae9cc506964736f": {
      "model_module": "@jupyter-widgets/controls",
      "model_module_version": "1.0.0",
      "model_name": "HTMLModel",
      "state": {
       "layout": "IPY_MODEL_a558e28ae2ec4cdfb59c31a74f8c9e42",
       "style": "IPY_MODEL_761ec6e88079411bb17eb4433a854d69",
       "value": "<img src=\"interactive_circle.png\" id=\"snapshot_id_1_1536246191023\"/>\n <div id=\"snapshot_id_2_1536246191023\">interactive_circle.png</div>"
      }
     },
     "a0e6c29185ba4a178c97daab2a966d73": {
      "model_module": "@jupyter-widgets/base",
      "model_module_version": "1.0.0",
      "model_name": "LayoutModel",
      "state": {}
     },
     "a0fb369968714d18802b8bd74fe3e433": {
      "model_module": "@jupyter-widgets/base",
      "model_module_version": "1.0.0",
      "model_name": "LayoutModel",
      "state": {}
     },
     "a114e28307d7449ab8ad3a5d841450ad": {
      "model_module": "jp_proxy_widget",
      "model_module_version": "^0.3.4",
      "model_name": "JSProxyModel",
      "state": {
       "_model_module_version": "^0.3.4",
       "_send_counter": 2,
       "_view_module_version": "^0.3.4",
       "error_msg": "No error",
       "layout": "IPY_MODEL_00fa6ca9fc0a40ca98bedbb7cfee3d5d",
       "rendered": true,
       "status": "Got results."
      }
     },
     "a15c11c674114fa38d438a4650427d39": {
      "model_module": "@jupyter-widgets/controls",
      "model_module_version": "1.0.0",
      "model_name": "IntSliderModel",
      "state": {
       "description": "x",
       "layout": "IPY_MODEL_e71b18ea780840dd9e65414d38ee2f8a",
       "min": -100,
       "style": "IPY_MODEL_1d5d641b801c4e0abcd55fef0f2a4859"
      }
     },
     "a18a77bcbdad4135b25970b115c9276c": {
      "model_module": "@jupyter-widgets/controls",
      "model_module_version": "1.0.0",
      "model_name": "VBoxModel",
      "state": {
       "children": [
        "IPY_MODEL_e85106bc617b43a4ba48b518146dfa82",
        "IPY_MODEL_4c9ba6a8d15d48ff82b4b63fbdfec42d"
       ],
       "layout": "IPY_MODEL_26e1911d764a456db6689bce605a8bb3"
      }
     },
     "a1b35c0157364dde85d326ffe6273bf4": {
      "model_module": "@jupyter-widgets/base",
      "model_module_version": "1.0.0",
      "model_name": "LayoutModel",
      "state": {}
     },
     "a1d54672a26848e19fc1f24dc892ed55": {
      "model_module": "@jupyter-widgets/controls",
      "model_module_version": "1.0.0",
      "model_name": "FloatSliderModel",
      "state": {
       "description": "arc",
       "layout": "IPY_MODEL_a010693dccb54df3a873da2702fb8a51",
       "max": 6.283185307179586,
       "step": 0.1,
       "style": "IPY_MODEL_43535c6a3263478ab53b869d35b5f5e6",
       "value": 1.6
      }
     },
     "a2d0a28866a34d2795e782280336c51b": {
      "model_module": "@jupyter-widgets/base",
      "model_module_version": "1.0.0",
      "model_name": "LayoutModel",
      "state": {}
     },
     "a2e2e81a41604807a6ef8e383250fce5": {
      "model_module": "@jupyter-widgets/controls",
      "model_module_version": "1.0.0",
      "model_name": "SliderStyleModel",
      "state": {
       "description_width": ""
      }
     },
     "a2e81839dbc34548be334cca65220759": {
      "model_module": "@jupyter-widgets/controls",
      "model_module_version": "1.0.0",
      "model_name": "IntSliderModel",
      "state": {
       "description": "y",
       "layout": "IPY_MODEL_e6cb559aabf0405a9324f390c79a2878",
       "min": -100,
       "style": "IPY_MODEL_b2b1fa0c88b4476ebbaded62722036b1"
      }
     },
     "a3890d116b754cf5980381eca44c3832": {
      "model_module": "@jupyter-widgets/base",
      "model_module_version": "1.0.0",
      "model_name": "LayoutModel",
      "state": {}
     },
     "a39c7e3cb95d43b4bd56af9316dfd227": {
      "model_module": "@jupyter-widgets/controls",
      "model_module_version": "1.0.0",
      "model_name": "DropdownModel",
      "state": {
       "_options_labels": [
        "times",
        "courier",
        "arial"
       ],
       "description": "family",
       "index": 0,
       "layout": "IPY_MODEL_0177a4128dd24b52bda26f472ecde8d7",
       "style": "IPY_MODEL_0f0f5a5c1da947ee995044f2e28bdf79"
      }
     },
     "a39ef909be504028be725b7bb35c32b8": {
      "model_module": "@jupyter-widgets/controls",
      "model_module_version": "1.0.0",
      "model_name": "SliderStyleModel",
      "state": {
       "description_width": ""
      }
     },
     "a3e753abdb8c413d9b0be4cd7349f2c3": {
      "model_module": "@jupyter-widgets/base",
      "model_module_version": "1.0.0",
      "model_name": "LayoutModel",
      "state": {}
     },
     "a4588cc0de184bc8832320fb76949505": {
      "model_module": "@jupyter-widgets/controls",
      "model_module_version": "1.0.0",
      "model_name": "SliderStyleModel",
      "state": {
       "description_width": ""
      }
     },
     "a45d547d58e54087aa33954709b3e27f": {
      "model_module": "jp_proxy_widget",
      "model_module_version": "^0.3.4",
      "model_name": "JSProxyModel",
      "state": {
       "_model_module_version": "^0.3.4",
       "_send_counter": 11,
       "_view_module_version": "^0.3.4",
       "error_msg": "No error",
       "layout": "IPY_MODEL_d1ada41b2e654acda88a78603382310e",
       "rendered": true,
       "status": "Got results."
      }
     },
     "a46982df66cc457a87a89586413f4235": {
      "model_module": "@jupyter-widgets/controls",
      "model_module_version": "1.0.0",
      "model_name": "VBoxModel",
      "state": {
       "_dom_classes": [
        "widget-interact"
       ],
       "children": [
        "IPY_MODEL_6e82cf9644c84ce8a63fe1aeb206c0f5",
        "IPY_MODEL_ba6f7c1444544349bd7c71356beb6f68",
        "IPY_MODEL_2da4a3bfb14a449b95177395b47cda15",
        "IPY_MODEL_f4f71148cc69446497bd752b25469d86",
        "IPY_MODEL_218f5d500b394e2fb3d61a769c482a20",
        "IPY_MODEL_b97b1bbf76f14e4092c6eb5f7ce8879b",
        "IPY_MODEL_079d806923bb4f9088444c807ff6a139",
        "IPY_MODEL_ab43b3c03cee429d88508d2d1545aa8d",
        "IPY_MODEL_d842b913bbec4d9f97e9be956669039e",
        "IPY_MODEL_69caaa51cd0f458182717acfdefebf18",
        "IPY_MODEL_1b7c33e289144757a7343313baa73782",
        "IPY_MODEL_86aeb03e60664f64959e7a04dd2021ab",
        "IPY_MODEL_62299abc64be4794b75221df91e738b7",
        "IPY_MODEL_5bd9ce45e05749a0baa00517c14f9698",
        "IPY_MODEL_562132127dd04dd9b4bc4a5b81df056d"
       ],
       "layout": "IPY_MODEL_f9bae1d32f734a1988ca6f160d623c6b"
      }
     },
     "a4806d08eea944289eaa92240ca246d7": {
      "model_module": "@jupyter-widgets/base",
      "model_module_version": "1.0.0",
      "model_name": "LayoutModel",
      "state": {}
     },
     "a4a10e91ee514e8d8df3c62120e8ad7e": {
      "model_module": "@jupyter-widgets/base",
      "model_module_version": "1.0.0",
      "model_name": "LayoutModel",
      "state": {}
     },
     "a4b0a35e4be74747b35bb1dfb56b70f1": {
      "model_module": "@jupyter-widgets/base",
      "model_module_version": "1.0.0",
      "model_name": "LayoutModel",
      "state": {}
     },
     "a4ce66054fd544a2b601c96b34abd1e8": {
      "model_module": "@jupyter-widgets/controls",
      "model_module_version": "1.0.0",
      "model_name": "TabModel",
      "state": {
       "_titles": {
        "0": "Canvas",
        "1": "Snapshot"
       },
       "children": [
        "IPY_MODEL_4f63b440d785425bba8baa39a45d7d37",
        "IPY_MODEL_0b09dc2472a043fcb423f25812a7accf"
       ],
       "layout": "IPY_MODEL_c889e1ab77ce49aa92020f444cdfd9f0"
      }
     },
     "a4e2bb91829d46fead0c6e503ea1af62": {
      "model_module": "@jupyter-widgets/controls",
      "model_module_version": "1.0.0",
      "model_name": "IntSliderModel",
      "state": {
       "description": "y",
       "layout": "IPY_MODEL_b7f66a9c893b47e8a70781a4a8064154",
       "min": -100,
       "style": "IPY_MODEL_c637d41ba9ae4ee29b56bb98e594fb10"
      }
     },
     "a4f2033e14044ccbb37742b372673847": {
      "model_module": "@jupyter-widgets/base",
      "model_module_version": "1.0.0",
      "model_name": "LayoutModel",
      "state": {}
     },
     "a53134aaac5b42508f76615c456a67fa": {
      "model_module": "jp_proxy_widget",
      "model_module_version": "^0.3.4",
      "model_name": "JSProxyModel",
      "state": {
       "_model_module_version": "^0.3.4",
       "_send_counter": 6,
       "_view_module_version": "^0.3.4",
       "error_msg": "No error",
       "layout": "IPY_MODEL_b96049725a0c42a592805656fb46425c",
       "rendered": true,
       "status": "Got results."
      }
     },
     "a544dc5530a6408c97c9e8854bfa0c45": {
      "model_module": "@jupyter-widgets/controls",
      "model_module_version": "1.0.0",
      "model_name": "TabModel",
      "state": {
       "_titles": {
        "0": "Canvas",
        "1": "Snapshot"
       },
       "children": [
        "IPY_MODEL_6c829dd074054cd9a393bbba6c0b7e01",
        "IPY_MODEL_cc9f8b2344c544c6814a287deee1e5f9"
       ],
       "layout": "IPY_MODEL_3f2497cd7fd34f41a11bd20755d62cc7"
      }
     },
     "a558e28ae2ec4cdfb59c31a74f8c9e42": {
      "model_module": "@jupyter-widgets/base",
      "model_module_version": "1.0.0",
      "model_name": "LayoutModel",
      "state": {}
     },
     "a5736efe026941f5b28d682dca5eb4ae": {
      "model_module": "@jupyter-widgets/controls",
      "model_module_version": "1.0.0",
      "model_name": "SliderStyleModel",
      "state": {
       "description_width": ""
      }
     },
     "a5af4789865d49cd80c598c65411191c": {
      "model_module": "@jupyter-widgets/controls",
      "model_module_version": "1.0.0",
      "model_name": "DescriptionStyleModel",
      "state": {
       "description_width": ""
      }
     },
     "a5cd14585e15469ea4523aacb8a51489": {
      "model_module": "@jupyter-widgets/controls",
      "model_module_version": "1.0.0",
      "model_name": "SliderStyleModel",
      "state": {
       "description_width": ""
      }
     },
     "a5ec7480cf1347b9add55821bfd5d126": {
      "model_module": "@jupyter-widgets/base",
      "model_module_version": "1.0.0",
      "model_name": "LayoutModel",
      "state": {}
     },
     "a5f69e78401948b983d55ffeef11322c": {
      "model_module": "@jupyter-widgets/base",
      "model_module_version": "1.0.0",
      "model_name": "LayoutModel",
      "state": {}
     },
     "a6274b1dbed345ccbe9d5e3c9d348d0e": {
      "model_module": "@jupyter-widgets/base",
      "model_module_version": "1.0.0",
      "model_name": "LayoutModel",
      "state": {}
     },
     "a64451d248a444c2ac1f11536558d6c9": {
      "model_module": "@jupyter-widgets/base",
      "model_module_version": "1.0.0",
      "model_name": "LayoutModel",
      "state": {}
     },
     "a676f495276b4414989f05a0ab41a7ba": {
      "model_module": "@jupyter-widgets/controls",
      "model_module_version": "1.0.0",
      "model_name": "SliderStyleModel",
      "state": {
       "description_width": ""
      }
     },
     "a71e0a46812143639219cc267a777e26": {
      "model_module": "@jupyter-widgets/output",
      "model_module_version": "1.0.0",
      "model_name": "OutputModel",
      "state": {
       "layout": "IPY_MODEL_11d8c75a31fc47a68db22ba03fe70172"
      }
     },
     "a794dfe556e245fd8d35aa0c8eedd338": {
      "model_module": "@jupyter-widgets/base",
      "model_module_version": "1.0.0",
      "model_name": "LayoutModel",
      "state": {}
     },
     "a796e87e80984babb3aea6f8278446c4": {
      "model_module": "@jupyter-widgets/base",
      "model_module_version": "1.0.0",
      "model_name": "LayoutModel",
      "state": {}
     },
     "a796e8852ad34e3fb13dc861d68f0428": {
      "model_module": "@jupyter-widgets/base",
      "model_module_version": "1.0.0",
      "model_name": "LayoutModel",
      "state": {}
     },
     "a79fa6e315e748e7a1192e02e1e5f77d": {
      "model_module": "@jupyter-widgets/base",
      "model_module_version": "1.0.0",
      "model_name": "LayoutModel",
      "state": {}
     },
     "a7a5c7fbf4eb41b28a7670088c55803e": {
      "model_module": "@jupyter-widgets/controls",
      "model_module_version": "1.0.0",
      "model_name": "DescriptionStyleModel",
      "state": {
       "description_width": ""
      }
     },
     "a817562f2cf84d62b26f143dff2f6677": {
      "model_module": "@jupyter-widgets/base",
      "model_module_version": "1.0.0",
      "model_name": "LayoutModel",
      "state": {}
     },
     "a82efd7d99d543369d6c7b5f9ee06c4d": {
      "model_module": "@jupyter-widgets/controls",
      "model_module_version": "1.0.0",
      "model_name": "DropdownModel",
      "state": {
       "_options_labels": [
        "left",
        "right",
        "center"
       ],
       "description": "align",
       "index": 0,
       "layout": "IPY_MODEL_b33fd16557c443e5834f7f3bf20a13ce",
       "style": "IPY_MODEL_29693551f8a44587878f55441547fb38"
      }
     },
     "a83665ebed594db195e1ee15116102fa": {
      "model_module": "@jupyter-widgets/base",
      "model_module_version": "1.0.0",
      "model_name": "LayoutModel",
      "state": {}
     },
     "a895c20fa5904e5e90d479a850648308": {
      "model_module": "@jupyter-widgets/controls",
      "model_module_version": "1.0.0",
      "model_name": "SliderStyleModel",
      "state": {
       "description_width": ""
      }
     },
     "a89e0eae175246b4813f7ab11a7d7dbc": {
      "model_module": "@jupyter-widgets/base",
      "model_module_version": "1.0.0",
      "model_name": "LayoutModel",
      "state": {}
     },
     "a8aa4011ce7248e1bc0e7b6df579014b": {
      "model_module": "@jupyter-widgets/base",
      "model_module_version": "1.0.0",
      "model_name": "LayoutModel",
      "state": {}
     },
     "a8e1ab856e4b4a14bca6f5435290cf38": {
      "model_module": "@jupyter-widgets/base",
      "model_module_version": "1.0.0",
      "model_name": "LayoutModel",
      "state": {}
     },
     "a8e86f902ad243929cf19640ff11e851": {
      "model_module": "@jupyter-widgets/base",
      "model_module_version": "1.0.0",
      "model_name": "LayoutModel",
      "state": {}
     },
     "a8ed4bd7010b4157b403b645c909d09b": {
      "model_module": "@jupyter-widgets/base",
      "model_module_version": "1.0.0",
      "model_name": "LayoutModel",
      "state": {}
     },
     "a91cb63369404a839fa3279e3442ce59": {
      "model_module": "@jupyter-widgets/controls",
      "model_module_version": "1.0.0",
      "model_name": "IntSliderModel",
      "state": {
       "description": "red",
       "layout": "IPY_MODEL_0711718a6c504992a69b52793ab8fae7",
       "max": 255,
       "style": "IPY_MODEL_29175feef1a148e18a99ea050f6789a2",
       "value": 127
      }
     },
     "a97a06aae8e04ab8bf37063dee0a4672": {
      "model_module": "@jupyter-widgets/base",
      "model_module_version": "1.0.0",
      "model_name": "LayoutModel",
      "state": {}
     },
     "a9ad4a23aec54b7e85e22a7ddde4cf9f": {
      "model_module": "@jupyter-widgets/controls",
      "model_module_version": "1.0.0",
      "model_name": "IntSliderModel",
      "state": {
       "description": "r",
       "layout": "IPY_MODEL_94e4936f21ca4a88b80e7ca0a953f36b",
       "style": "IPY_MODEL_e831c1d4f55c448ea55761cc3d2f358d",
       "value": 50
      }
     },
     "a9aff7a2d93c4e5ab346a969280fc573": {
      "model_module": "@jupyter-widgets/controls",
      "model_module_version": "1.0.0",
      "model_name": "IntSliderModel",
      "state": {
       "description": "degrees",
       "layout": "IPY_MODEL_8ac05f52232d4f7aad869e9f243ba054",
       "max": 360,
       "min": -360,
       "style": "IPY_MODEL_3862761ed3b74fc7926d7523fe5a54f1",
       "value": -95
      }
     },
     "a9c230e5d9804f73acfd6056080a31fe": {
      "model_module": "@jupyter-widgets/base",
      "model_module_version": "1.0.0",
      "model_name": "LayoutModel",
      "state": {}
     },
     "aa084c89641b40eebcc12e91251a29b7": {
      "model_module": "@jupyter-widgets/controls",
      "model_module_version": "1.0.0",
      "model_name": "HTMLModel",
      "state": {
       "layout": "IPY_MODEL_76f7856e151f456290e9e847015ffe8b",
       "style": "IPY_MODEL_676357809034493c88db03607895af33",
       "value": "<img src=\"interactive_text.png\" id=\"snapshot_id_1_1536320368459\"/>\n <div id=\"snapshot_id_2_1536320368459\">interactive_text.png</div>"
      }
     },
     "aa0a9a20894940ae81dd10f92aa2263f": {
      "model_module": "@jupyter-widgets/base",
      "model_module_version": "1.0.0",
      "model_name": "LayoutModel",
      "state": {}
     },
     "aa123c21e4084ba5a462132df404ccc8": {
      "model_module": "@jupyter-widgets/controls",
      "model_module_version": "1.0.0",
      "model_name": "IntSliderModel",
      "state": {
       "description": "points",
       "layout": "IPY_MODEL_ea0589f608ee4a999a286cbd873cdc26",
       "style": "IPY_MODEL_cb8222618f0747f88a1b8d0b653e4566",
       "value": 80
      }
     },
     "aa66395257454273864216dd989e16a9": {
      "model_module": "@jupyter-widgets/base",
      "model_module_version": "1.0.0",
      "model_name": "LayoutModel",
      "state": {}
     },
     "aaacfb978d634d928ce9d5ab18f3f724": {
      "model_module": "@jupyter-widgets/controls",
      "model_module_version": "1.0.0",
      "model_name": "VBoxModel",
      "state": {
       "children": [
        "IPY_MODEL_3f4e50cf7f5942688bbaf2fae2771efa",
        "IPY_MODEL_99ff73067755445da52bc8e6f06a0828"
       ],
       "layout": "IPY_MODEL_7e814e9a865142efb2d8c309b5c51123"
      }
     },
     "aad571870bce4fd0a13afd5a407bb798": {
      "model_module": "@jupyter-widgets/controls",
      "model_module_version": "1.0.0",
      "model_name": "VBoxModel",
      "state": {
       "_dom_classes": [
        "widget-interact"
       ],
       "children": [
        "IPY_MODEL_7abb52453fb04d0087ae7856d04f0512",
        "IPY_MODEL_120f53b2f22744898f2dcba332c72471",
        "IPY_MODEL_278c14b15124447588f0c5b9b1090a1e",
        "IPY_MODEL_5fd66191b18246f8ace0c8f2d90afa26",
        "IPY_MODEL_92ab3206b3b045359ddf9e9268a4954b",
        "IPY_MODEL_ad3b5b8f9c18486ea4fff2ab006ae4b1",
        "IPY_MODEL_5f605a3c0bf94dd7b50caaa65efc0ffa",
        "IPY_MODEL_7e51d38002b54e0ebd18f159f4d7e26e"
       ],
       "layout": "IPY_MODEL_d2ee1e268a02467cbec808a81abda56b"
      }
     },
     "ab05b6ebf11a414689aa9c0a754256bc": {
      "model_module": "@jupyter-widgets/base",
      "model_module_version": "1.0.0",
      "model_name": "LayoutModel",
      "state": {}
     },
     "ab283775afc54f1995bb58c0ce1e6e83": {
      "model_module": "@jupyter-widgets/base",
      "model_module_version": "1.0.0",
      "model_name": "LayoutModel",
      "state": {}
     },
     "ab43b3c03cee429d88508d2d1545aa8d": {
      "model_module": "@jupyter-widgets/controls",
      "model_module_version": "1.0.0",
      "model_name": "IntSliderModel",
      "state": {
       "description": "degrees",
       "layout": "IPY_MODEL_2bdd3b35c8e94eed9bc9fb815b5d5573",
       "max": 360,
       "min": -360,
       "style": "IPY_MODEL_27470b160bb24bc0bd8384a9293a0711"
      }
     },
     "ab8406033a8b46e2a7653cb278f5ff4e": {
      "model_module": "@jupyter-widgets/base",
      "model_module_version": "1.0.0",
      "model_name": "LayoutModel",
      "state": {}
     },
     "aba9e6d809a04cdb8f8d7d9e653c7316": {
      "model_module": "@jupyter-widgets/base",
      "model_module_version": "1.0.0",
      "model_name": "LayoutModel",
      "state": {}
     },
     "abad411e43a94eb2b91b2a63337e8b73": {
      "model_module": "@jupyter-widgets/controls",
      "model_module_version": "1.0.0",
      "model_name": "HTMLModel",
      "state": {
       "layout": "IPY_MODEL_d20c0b56f9634cae99e74642551a9373",
       "style": "IPY_MODEL_0c4137d2acc246b89bfb60d7dd9be0de",
       "value": "<img src=\"interactive_text2.png\" id=\"snapshot_id_3_1536324426764\"/>\n <div id=\"snapshot_id_4_1536324426764\">interactive_text2.png</div>"
      }
     },
     "abb610ecf3dd408d8b19daf74f98d6c1": {
      "model_module": "@jupyter-widgets/output",
      "model_module_version": "1.0.0",
      "model_name": "OutputModel",
      "state": {
       "layout": "IPY_MODEL_fdfeb56bead340b0bce838cd968f08b8"
      }
     },
     "ac4be335a9b142ac8b08de819c2899d8": {
      "model_module": "@jupyter-widgets/controls",
      "model_module_version": "1.0.0",
      "model_name": "IntSliderModel",
      "state": {
       "description": "green",
       "layout": "IPY_MODEL_37aea212d404491491f0d3782434ee34",
       "max": 255,
       "style": "IPY_MODEL_1bc62c0808d84c36865ddee786cc6ca9"
      }
     },
     "acdc4721b1604a1fb6f66a0daa987dc1": {
      "model_module": "@jupyter-widgets/base",
      "model_module_version": "1.0.0",
      "model_name": "LayoutModel",
      "state": {}
     },
     "ad064ec60306491cb1815b9abdbb5119": {
      "model_module": "@jupyter-widgets/base",
      "model_module_version": "1.0.0",
      "model_name": "LayoutModel",
      "state": {}
     },
     "ad28035d4201443e8a1eb3571f9aabbf": {
      "model_module": "@jupyter-widgets/controls",
      "model_module_version": "1.0.0",
      "model_name": "SliderStyleModel",
      "state": {
       "description_width": ""
      }
     },
     "ad31aa36b3d74280a0da8d037498f93e": {
      "model_module": "@jupyter-widgets/controls",
      "model_module_version": "1.0.0",
      "model_name": "TabModel",
      "state": {
       "_titles": {
        "0": "Canvas",
        "1": "Snapshot"
       },
       "children": [
        "IPY_MODEL_0641ffaf24394f268c2c18cdf7b810bb",
        "IPY_MODEL_813ee9d0f1c5434591c30f50d498c48d"
       ],
       "layout": "IPY_MODEL_5caef0a5004e4315a212fb9303d9ab20"
      }
     },
     "ad3b5b8f9c18486ea4fff2ab006ae4b1": {
      "model_module": "@jupyter-widgets/controls",
      "model_module_version": "1.0.0",
      "model_name": "IntSliderModel",
      "state": {
       "description": "blue",
       "layout": "IPY_MODEL_74faef74215548369eb533fd4e826347",
       "max": 255,
       "style": "IPY_MODEL_841974ce7e044120bd782f63a01aa66b",
       "value": 127
      }
     },
     "ad72dcbb69964036a91b04b5090a5eb3": {
      "model_module": "@jupyter-widgets/base",
      "model_module_version": "1.0.0",
      "model_name": "LayoutModel",
      "state": {}
     },
     "ad77682bef314b078b595c7426ce33ec": {
      "model_module": "@jupyter-widgets/controls",
      "model_module_version": "1.0.0",
      "model_name": "DescriptionStyleModel",
      "state": {
       "description_width": ""
      }
     },
     "ad88863a2e8b4eb8928674244a31e4dc": {
      "model_module": "@jupyter-widgets/controls",
      "model_module_version": "1.0.0",
      "model_name": "DescriptionStyleModel",
      "state": {
       "description_width": ""
      }
     },
     "ad9ac3883d7a4a2cb5551d0094173280": {
      "model_module": "@jupyter-widgets/output",
      "model_module_version": "1.0.0",
      "model_name": "OutputModel",
      "state": {
       "layout": "IPY_MODEL_716d22fdd9264a66aff6b4d335d77b12"
      }
     },
     "ad9e4f3cd6a849ea83f0c55b902c7803": {
      "model_module": "@jupyter-widgets/controls",
      "model_module_version": "1.0.0",
      "model_name": "SliderStyleModel",
      "state": {
       "description_width": ""
      }
     },
     "adb61307029a413db984b5aff4a0d460": {
      "model_module": "@jupyter-widgets/base",
      "model_module_version": "1.0.0",
      "model_name": "LayoutModel",
      "state": {}
     },
     "ae662bb392a049859ac33368a1e22d7c": {
      "model_module": "@jupyter-widgets/controls",
      "model_module_version": "1.0.0",
      "model_name": "SliderStyleModel",
      "state": {
       "description_width": ""
      }
     },
     "ae7acdaa8185457db6ba983752e9d61f": {
      "model_module": "@jupyter-widgets/base",
      "model_module_version": "1.0.0",
      "model_name": "LayoutModel",
      "state": {}
     },
     "aeae67acdcd3403299939549bd6ffb3a": {
      "model_module": "@jupyter-widgets/base",
      "model_module_version": "1.0.0",
      "model_name": "LayoutModel",
      "state": {}
     },
     "aecb392449b845c6bb67f20a36abdc26": {
      "model_module": "@jupyter-widgets/controls",
      "model_module_version": "1.0.0",
      "model_name": "SliderStyleModel",
      "state": {
       "description_width": ""
      }
     },
     "aeef2d01cfaf49939ea4f81be4dc10fa": {
      "model_module": "@jupyter-widgets/controls",
      "model_module_version": "1.0.0",
      "model_name": "HTMLModel",
      "state": {
       "layout": "IPY_MODEL_7dcfd29da0aa4e149d06378de6474f21",
       "style": "IPY_MODEL_0a165a16730a411cafac642b0eafe0e5",
       "value": "<img src=\"interactive_circle.png\" id=\"snapshot_id_3_1536249905299\"/>\n <div id=\"snapshot_id_4_1536249905300\">interactive_circle.png</div>"
      }
     },
     "af0cda45c5254710a349ed5ec1a8d0dc": {
      "model_module": "@jupyter-widgets/controls",
      "model_module_version": "1.0.0",
      "model_name": "SliderStyleModel",
      "state": {
       "description_width": ""
      }
     },
     "af369afef032456291d1719c3a2c9b55": {
      "model_module": "@jupyter-widgets/controls",
      "model_module_version": "1.0.0",
      "model_name": "SliderStyleModel",
      "state": {
       "description_width": ""
      }
     },
     "af3b3f154c8149e4a4c9c9060a8a32b9": {
      "model_module": "jp_proxy_widget",
      "model_module_version": "^0.3.4",
      "model_name": "JSProxyModel",
      "state": {
       "_model_module_version": "^0.3.4",
       "_send_counter": 2,
       "_view_module_version": "^0.3.4",
       "error_msg": "No error",
       "layout": "IPY_MODEL_a817562f2cf84d62b26f143dff2f6677",
       "rendered": true,
       "status": "Got results."
      }
     },
     "afba216634b947eeb2586ce946d3f52c": {
      "model_module": "@jupyter-widgets/base",
      "model_module_version": "1.0.0",
      "model_name": "LayoutModel",
      "state": {}
     },
     "afc3bb9cdb1547b195693d5b8fdf2d8e": {
      "model_module": "@jupyter-widgets/controls",
      "model_module_version": "1.0.0",
      "model_name": "TabModel",
      "state": {
       "_titles": {
        "0": "Canvas",
        "1": "Snapshot"
       },
       "children": [
        "IPY_MODEL_d94394f1cd9c4e2592cb8ae3d2821fdd",
        "IPY_MODEL_97a79d1483c84492b19ed8499b6e02a5"
       ],
       "layout": "IPY_MODEL_b88394bdd0814b6b828d7716069aa0fa"
      }
     },
     "afc845e169fa46cea3ef879829116d2c": {
      "model_module": "@jupyter-widgets/controls",
      "model_module_version": "1.0.0",
      "model_name": "SliderStyleModel",
      "state": {
       "description_width": ""
      }
     },
     "afedd0cf86a54549a1291d271c295e55": {
      "model_module": "@jupyter-widgets/base",
      "model_module_version": "1.0.0",
      "model_name": "LayoutModel",
      "state": {}
     },
     "b01e7c425dbb46bf8e031f8138807607": {
      "model_module": "@jupyter-widgets/base",
      "model_module_version": "1.0.0",
      "model_name": "LayoutModel",
      "state": {}
     },
     "b02b5eeaff684c63bd5fc983aba6a5b4": {
      "model_module": "@jupyter-widgets/controls",
      "model_module_version": "1.0.0",
      "model_name": "IntSliderModel",
      "state": {
       "description": "x",
       "layout": "IPY_MODEL_4f95c3887cf847779cfdc721203b7ac7",
       "min": -100,
       "style": "IPY_MODEL_ad9e4f3cd6a849ea83f0c55b902c7803"
      }
     },
     "b05e53a8962f48b3b65e8da09da88d05": {
      "model_module": "@jupyter-widgets/controls",
      "model_module_version": "1.0.0",
      "model_name": "SliderStyleModel",
      "state": {
       "description_width": ""
      }
     },
     "b0a18523e7eb41a7a044928efeff7705": {
      "model_module": "@jupyter-widgets/controls",
      "model_module_version": "1.0.0",
      "model_name": "DescriptionStyleModel",
      "state": {
       "description_width": ""
      }
     },
     "b0c524526a454e51a014a1905e058c60": {
      "model_module": "@jupyter-widgets/controls",
      "model_module_version": "1.0.0",
      "model_name": "IntSliderModel",
      "state": {
       "description": "points",
       "layout": "IPY_MODEL_5b702fe5997748058e3299bddfc0830a",
       "style": "IPY_MODEL_0e0bf54dc5bc42f5ab7c12ca1bb38355",
       "value": 17
      }
     },
     "b0c9a842d4af4dda9c0362edb30fdd31": {
      "model_module": "@jupyter-widgets/base",
      "model_module_version": "1.0.0",
      "model_name": "LayoutModel",
      "state": {}
     },
     "b0e963e00439474d8bc4080cd3f3d19e": {
      "model_module": "@jupyter-widgets/base",
      "model_module_version": "1.0.0",
      "model_name": "LayoutModel",
      "state": {}
     },
     "b10971d8278640d7bf4adc26448ebee3": {
      "model_module": "@jupyter-widgets/base",
      "model_module_version": "1.0.0",
      "model_name": "LayoutModel",
      "state": {}
     },
     "b11a5d48597e4a4cac64a4a2af6c2272": {
      "model_module": "@jupyter-widgets/base",
      "model_module_version": "1.0.0",
      "model_name": "LayoutModel",
      "state": {}
     },
     "b156d187b7064effa08bec8348875aff": {
      "model_module": "@jupyter-widgets/base",
      "model_module_version": "1.0.0",
      "model_name": "LayoutModel",
      "state": {}
     },
     "b17d7c13594a4136b97c370a80346682": {
      "model_module": "@jupyter-widgets/controls",
      "model_module_version": "1.0.0",
      "model_name": "DescriptionStyleModel",
      "state": {
       "description_width": ""
      }
     },
     "b1d77485b05942f0ae52eb456b75c3da": {
      "model_module": "@jupyter-widgets/controls",
      "model_module_version": "1.0.0",
      "model_name": "SliderStyleModel",
      "state": {
       "description_width": ""
      }
     },
     "b1f2be3248324a98941e7f4a504fe8ff": {
      "model_module": "@jupyter-widgets/controls",
      "model_module_version": "1.0.0",
      "model_name": "DescriptionStyleModel",
      "state": {
       "description_width": ""
      }
     },
     "b251b72b62b04fe7aafb29fb28efd1fc": {
      "model_module": "@jupyter-widgets/base",
      "model_module_version": "1.0.0",
      "model_name": "LayoutModel",
      "state": {}
     },
     "b2864c5420da4a8fb5f777d9d14db414": {
      "model_module": "jp_proxy_widget",
      "model_module_version": "^0.3.4",
      "model_name": "JSProxyModel",
      "state": {
       "_model_module_version": "^0.3.4",
       "_send_counter": 272,
       "_view_module_version": "^0.3.4",
       "error_msg": "No error",
       "layout": "IPY_MODEL_b3170e5103f842218cf91ffe6b2dcf77",
       "rendered": true,
       "status": "Got results."
      }
     },
     "b2b1fa0c88b4476ebbaded62722036b1": {
      "model_module": "@jupyter-widgets/controls",
      "model_module_version": "1.0.0",
      "model_name": "SliderStyleModel",
      "state": {
       "description_width": ""
      }
     },
     "b2c290b1a2b64498aa9fdfa7a8b1796b": {
      "model_module": "@jupyter-widgets/base",
      "model_module_version": "1.0.0",
      "model_name": "LayoutModel",
      "state": {}
     },
     "b2d8b29c5c6f4b49aaaa74e35099e219": {
      "model_module": "@jupyter-widgets/base",
      "model_module_version": "1.0.0",
      "model_name": "LayoutModel",
      "state": {}
     },
     "b30542ec67c940128ae126e2e41a6119": {
      "model_module": "@jupyter-widgets/base",
      "model_module_version": "1.0.0",
      "model_name": "LayoutModel",
      "state": {}
     },
     "b3170e5103f842218cf91ffe6b2dcf77": {
      "model_module": "@jupyter-widgets/base",
      "model_module_version": "1.0.0",
      "model_name": "LayoutModel",
      "state": {}
     },
     "b32814a3909546348d771146e2cc04a5": {
      "model_module": "@jupyter-widgets/controls",
      "model_module_version": "1.0.0",
      "model_name": "FloatSliderModel",
      "state": {
       "description": "start",
       "layout": "IPY_MODEL_a1b35c0157364dde85d326ffe6273bf4",
       "max": 6.383185307179586,
       "step": 0.1,
       "style": "IPY_MODEL_40b3a6e46868489c8da8169d343837c4",
       "value": 2.6
      }
     },
     "b33fd16557c443e5834f7f3bf20a13ce": {
      "model_module": "@jupyter-widgets/base",
      "model_module_version": "1.0.0",
      "model_name": "LayoutModel",
      "state": {}
     },
     "b3789c225f4a4ff683e2cfe5b7c3d354": {
      "model_module": "@jupyter-widgets/controls",
      "model_module_version": "1.0.0",
      "model_name": "IntSliderModel",
      "state": {
       "description": "lineWidth",
       "layout": "IPY_MODEL_ec9a4c8fe6df4f229b5b07f6fdddcf76",
       "max": 20,
       "style": "IPY_MODEL_076401acc0ed4270ba5ddb059105b700",
       "value": 19
      }
     },
     "b3e6a4906f694b00a0279d0dab194880": {
      "model_module": "@jupyter-widgets/controls",
      "model_module_version": "1.0.0",
      "model_name": "DropdownModel",
      "state": {
       "_options_labels": [
        "left",
        "right",
        "center"
       ],
       "description": "align",
       "index": 0,
       "layout": "IPY_MODEL_2673a391622a480d8fe2094753a354c8",
       "style": "IPY_MODEL_c1f07450a9354016b6c3fb967b2eb5c9"
      }
     },
     "b4026cb6c8434654baf09dffe7377139": {
      "model_module": "@jupyter-widgets/controls",
      "model_module_version": "1.0.0",
      "model_name": "CheckboxModel",
      "state": {
       "description": "fill",
       "disabled": false,
       "layout": "IPY_MODEL_74ea6cc38ac2424fb12021dfde5a4e57",
       "style": "IPY_MODEL_141f0da05dd043878ada6d01aabde1de",
       "value": false
      }
     },
     "b431e2dae4c8488f91e548aacb5e70c0": {
      "model_module": "@jupyter-widgets/base",
      "model_module_version": "1.0.0",
      "model_name": "LayoutModel",
      "state": {}
     },
     "b44c1125df1d471f86794eb610e0224c": {
      "model_module": "@jupyter-widgets/base",
      "model_module_version": "1.0.0",
      "model_name": "LayoutModel",
      "state": {}
     },
     "b4687bf831a7432a87d04d4c132c3729": {
      "model_module": "@jupyter-widgets/controls",
      "model_module_version": "1.0.0",
      "model_name": "SliderStyleModel",
      "state": {
       "description_width": ""
      }
     },
     "b46d0fd35bd941309beeaf7910329a53": {
      "model_module": "@jupyter-widgets/controls",
      "model_module_version": "1.0.0",
      "model_name": "DescriptionStyleModel",
      "state": {
       "description_width": ""
      }
     },
     "b488a544375a4c02a9d199c4cd2e361e": {
      "model_module": "@jupyter-widgets/base",
      "model_module_version": "1.0.0",
      "model_name": "LayoutModel",
      "state": {}
     },
     "b5d59548077640f7b572d97a543895a7": {
      "model_module": "@jupyter-widgets/controls",
      "model_module_version": "1.0.0",
      "model_name": "SliderStyleModel",
      "state": {
       "description_width": ""
      }
     },
     "b5dea403e8a245c3abcc4f7a0d418a2f": {
      "model_module": "@jupyter-widgets/base",
      "model_module_version": "1.0.0",
      "model_name": "LayoutModel",
      "state": {}
     },
     "b5efba3f9f92429b993e6629c15a0b8e": {
      "model_module": "@jupyter-widgets/output",
      "model_module_version": "1.0.0",
      "model_name": "OutputModel",
      "state": {
       "layout": "IPY_MODEL_e53b4178d88e46ff9ba9ef1fc391a8e0"
      }
     },
     "b6059c4431464382af14364350e32cca": {
      "model_module": "@jupyter-widgets/controls",
      "model_module_version": "1.0.0",
      "model_name": "SliderStyleModel",
      "state": {
       "description_width": ""
      }
     },
     "b61103fdbd084b3a97efcc00d28744dc": {
      "model_module": "@jupyter-widgets/controls",
      "model_module_version": "1.0.0",
      "model_name": "DescriptionStyleModel",
      "state": {
       "description_width": ""
      }
     },
     "b63ee6d9e56e42339a77e19abcf6039a": {
      "model_module": "@jupyter-widgets/base",
      "model_module_version": "1.0.0",
      "model_name": "LayoutModel",
      "state": {}
     },
     "b63fcb05e17642aab82f0315f957d681": {
      "model_module": "@jupyter-widgets/base",
      "model_module_version": "1.0.0",
      "model_name": "LayoutModel",
      "state": {}
     },
     "b6494a4a0cf346b986fc8dee4f9f848b": {
      "model_module": "@jupyter-widgets/controls",
      "model_module_version": "1.0.0",
      "model_name": "SliderStyleModel",
      "state": {
       "description_width": ""
      }
     },
     "b671211910c647aca29d59067a96815e": {
      "model_module": "@jupyter-widgets/controls",
      "model_module_version": "1.0.0",
      "model_name": "DropdownModel",
      "state": {
       "_options_labels": [
        "times",
        "courier",
        "arial"
       ],
       "description": "family",
       "index": 0,
       "layout": "IPY_MODEL_97e51903c0994d3a9cb6fa07fb443de5",
       "style": "IPY_MODEL_588b32d2e13b4c4a8d73b5f9f7e50f97"
      }
     },
     "b671246a91c141b196a52ee24b88f545": {
      "model_module": "@jupyter-widgets/controls",
      "model_module_version": "1.0.0",
      "model_name": "SliderStyleModel",
      "state": {
       "description_width": ""
      }
     },
     "b67e2b31d2c4419ca6d200ced4f2225b": {
      "model_module": "@jupyter-widgets/base",
      "model_module_version": "1.0.0",
      "model_name": "LayoutModel",
      "state": {}
     },
     "b6bcc32cc9914f6ea4b313a71571ee36": {
      "model_module": "@jupyter-widgets/base",
      "model_module_version": "1.0.0",
      "model_name": "LayoutModel",
      "state": {}
     },
     "b6bd1cfa23e648f39c4e76cff524b225": {
      "model_module": "@jupyter-widgets/controls",
      "model_module_version": "1.0.0",
      "model_name": "TabModel",
      "state": {
       "_titles": {
        "0": "Canvas",
        "1": "Snapshot"
       },
       "children": [
        "IPY_MODEL_fbec0491c079437da1d0353af56861a7",
        "IPY_MODEL_120d49b4e746400da20e028973a20fe7"
       ],
       "layout": "IPY_MODEL_3a0ec3f676e5402ebe4376a3f6d6b7eb"
      }
     },
     "b6cd2dd3ca7b4a82acad007b6b3f594f": {
      "model_module": "@jupyter-widgets/controls",
      "model_module_version": "1.0.0",
      "model_name": "IntSliderModel",
      "state": {
       "description": "y",
       "layout": "IPY_MODEL_25f711c919fc42c5acf1251267909e68",
       "min": -100,
       "style": "IPY_MODEL_0bbd75a7181a4e08b0e29a79e02219bc",
       "value": 70
      }
     },
     "b6edfe36ded441ba98d5357a6f72e8f1": {
      "model_module": "jp_proxy_widget",
      "model_module_version": "^0.3.4",
      "model_name": "JSProxyModel",
      "state": {
       "_model_module_version": "^0.3.4",
       "_send_counter": 11,
       "_view_module_version": "^0.3.4",
       "error_msg": "No error",
       "layout": "IPY_MODEL_670003f8aa1449c0b6448f2ff3c95b4e",
       "rendered": true,
       "status": "Got results."
      }
     },
     "b70d91ba60c34962a1aeea010f2b7d73": {
      "model_module": "@jupyter-widgets/base",
      "model_module_version": "1.0.0",
      "model_name": "LayoutModel",
      "state": {}
     },
     "b7bb8d1ec2d64c6a8a90b6b86c5be309": {
      "model_module": "@jupyter-widgets/controls",
      "model_module_version": "1.0.0",
      "model_name": "SliderStyleModel",
      "state": {
       "description_width": ""
      }
     },
     "b7f66a9c893b47e8a70781a4a8064154": {
      "model_module": "@jupyter-widgets/base",
      "model_module_version": "1.0.0",
      "model_name": "LayoutModel",
      "state": {}
     },
     "b801b79879de43caa666441e5e38d3dc": {
      "model_module": "@jupyter-widgets/controls",
      "model_module_version": "1.0.0",
      "model_name": "DescriptionStyleModel",
      "state": {
       "description_width": ""
      }
     },
     "b817b6fecc4d432585969e2335f72d05": {
      "model_module": "@jupyter-widgets/controls",
      "model_module_version": "1.0.0",
      "model_name": "HTMLModel",
      "state": {
       "layout": "IPY_MODEL_ddf5f8cc685549199944f2af4ae5e7ef",
       "style": "IPY_MODEL_eef954dc1c954f29bc3df82a2aff1d01",
       "value": "<img src=\"interactive_circle.png\" id=\"snapshot_id_9_1536246393542\"/>\n <div id=\"snapshot_id_10_1536246393542\">interactive_circle.png</div>"
      }
     },
     "b81cf1a397644b2cab1fb61f7616a393": {
      "model_module": "@jupyter-widgets/controls",
      "model_module_version": "1.0.0",
      "model_name": "SliderStyleModel",
      "state": {
       "description_width": ""
      }
     },
     "b88394bdd0814b6b828d7716069aa0fa": {
      "model_module": "@jupyter-widgets/base",
      "model_module_version": "1.0.0",
      "model_name": "LayoutModel",
      "state": {}
     },
     "b8e66a149abb47b6aa364842a8786bb1": {
      "model_module": "@jupyter-widgets/base",
      "model_module_version": "1.0.0",
      "model_name": "LayoutModel",
      "state": {}
     },
     "b91ef243e3be43ecb2f67c2b53ff570e": {
      "model_module": "@jupyter-widgets/controls",
      "model_module_version": "1.0.0",
      "model_name": "DescriptionStyleModel",
      "state": {
       "description_width": ""
      }
     },
     "b92582db2097402d89bb9ea202df484e": {
      "model_module": "@jupyter-widgets/controls",
      "model_module_version": "1.0.0",
      "model_name": "VBoxModel",
      "state": {
       "_dom_classes": [
        "widget-interact"
       ],
       "children": [
        "IPY_MODEL_5a8d6f46a8084d5e92434335feabb89c",
        "IPY_MODEL_675d31bd190f44cfaec15670abe28f69",
        "IPY_MODEL_3183ced7344449de8db67aaa128c8228",
        "IPY_MODEL_735c58b34315471e962534256a552196",
        "IPY_MODEL_9f0168c2896342f59cc9d5c230718d78",
        "IPY_MODEL_6be51e8baa3d4e25bfc3f484503e6b55",
        "IPY_MODEL_374eab8fee6243d3ae3b8f150c390a3e",
        "IPY_MODEL_d4d3a91362c8496e8f5e556addf2f7b5"
       ],
       "layout": "IPY_MODEL_28d89deba6ff402f8c7778dfc7a0650c"
      }
     },
     "b9480267483f4722b72351ac356dbe9f": {
      "model_module": "@jupyter-widgets/controls",
      "model_module_version": "1.0.0",
      "model_name": "TextModel",
      "state": {
       "description": "text",
       "layout": "IPY_MODEL_332c9c53965946ada1aa4e94bb6b4113",
       "style": "IPY_MODEL_4d3a7bf0082d4b7690cea1eada81b63b",
       "value": "Stella!"
      }
     },
     "b956385845024940a3952b2ae422c3b6": {
      "model_module": "@jupyter-widgets/controls",
      "model_module_version": "1.0.0",
      "model_name": "IntSliderModel",
      "state": {
       "description": "y",
       "layout": "IPY_MODEL_c7ef622ed47545909dea8990047ca571",
       "min": -100,
       "style": "IPY_MODEL_1d3ed422da5b4a388bf9fb98fce076ad"
      }
     },
     "b96049725a0c42a592805656fb46425c": {
      "model_module": "@jupyter-widgets/base",
      "model_module_version": "1.0.0",
      "model_name": "LayoutModel",
      "state": {}
     },
     "b97b1bbf76f14e4092c6eb5f7ce8879b": {
      "model_module": "@jupyter-widgets/controls",
      "model_module_version": "1.0.0",
      "model_name": "DropdownModel",
      "state": {
       "_options_labels": [
        "normal",
        "italic",
        "oblique"
       ],
       "description": "style",
       "index": 0,
       "layout": "IPY_MODEL_6596a80057bc4eb7ac1cfb88e7230c78",
       "style": "IPY_MODEL_21afacf8aa434c3086ccad323de88de6"
      }
     },
     "b9c4487767184455aa98e57da81048a3": {
      "model_module": "@jupyter-widgets/output",
      "model_module_version": "1.0.0",
      "model_name": "OutputModel",
      "state": {
       "layout": "IPY_MODEL_fc3b94290d26444d8078c309bdf6a796"
      }
     },
     "b9c62fb34b264ee7a971e51710d74065": {
      "model_module": "@jupyter-widgets/controls",
      "model_module_version": "1.0.0",
      "model_name": "SliderStyleModel",
      "state": {
       "description_width": ""
      }
     },
     "ba23bd1754934993b601ca90f4099a69": {
      "model_module": "@jupyter-widgets/controls",
      "model_module_version": "1.0.0",
      "model_name": "DescriptionStyleModel",
      "state": {
       "description_width": ""
      }
     },
     "ba45b99b941e49149faa3102ac0c6bcb": {
      "model_module": "@jupyter-widgets/controls",
      "model_module_version": "1.0.0",
      "model_name": "CheckboxModel",
      "state": {
       "description": "fill",
       "disabled": false,
       "layout": "IPY_MODEL_b6bcc32cc9914f6ea4b313a71571ee36",
       "style": "IPY_MODEL_d0ca7f495cfa4489923a3e0bdf804d9a",
       "value": false
      }
     },
     "ba647b9b051e42c390a841dc6dbca8e2": {
      "model_module": "@jupyter-widgets/base",
      "model_module_version": "1.0.0",
      "model_name": "LayoutModel",
      "state": {}
     },
     "ba6f7c1444544349bd7c71356beb6f68": {
      "model_module": "@jupyter-widgets/controls",
      "model_module_version": "1.0.0",
      "model_name": "IntSliderModel",
      "state": {
       "description": "y",
       "layout": "IPY_MODEL_588f7eecd5c14832bedc9b0fb00fd8d4",
       "min": -100,
       "style": "IPY_MODEL_d02f7cff984e4801b62d910beda653a2",
       "value": -49
      }
     },
     "ba712410e6124d549f253b83a2386265": {
      "model_module": "@jupyter-widgets/base",
      "model_module_version": "1.0.0",
      "model_name": "LayoutModel",
      "state": {}
     },
     "ba990482d6ab414da140a45614b800d7": {
      "model_module": "@jupyter-widgets/controls",
      "model_module_version": "1.0.0",
      "model_name": "IntSliderModel",
      "state": {
       "description": "green",
       "layout": "IPY_MODEL_111ac8670d7445278f45e70bb50dbd98",
       "max": 255,
       "style": "IPY_MODEL_fb0d405732814d338caeecd7b0d1a54a",
       "value": 165
      }
     },
     "bae5394ab64e4bb1b99de7491ac84b6b": {
      "model_module": "@jupyter-widgets/controls",
      "model_module_version": "1.0.0",
      "model_name": "IntSliderModel",
      "state": {
       "description": "blue",
       "layout": "IPY_MODEL_33b4f493f865465e847041d95a0ae6ae",
       "max": 255,
       "style": "IPY_MODEL_0cb87f1e88684fcc8ceb6ea892cfec1b",
       "value": 255
      }
     },
     "bb00eb040b5344b2969a791237a7b2a9": {
      "model_module": "@jupyter-widgets/controls",
      "model_module_version": "1.0.0",
      "model_name": "DescriptionStyleModel",
      "state": {
       "description_width": ""
      }
     },
     "bb3c0733ffd14afeaa2c1f229be9f6ab": {
      "model_module": "@jupyter-widgets/base",
      "model_module_version": "1.0.0",
      "model_name": "LayoutModel",
      "state": {}
     },
     "bb6279aaf50045e49b21d2abea98ddcd": {
      "model_module": "@jupyter-widgets/base",
      "model_module_version": "1.0.0",
      "model_name": "LayoutModel",
      "state": {}
     },
     "bb7e7b4b46bb41e4ae1adbb7120ba9a0": {
      "model_module": "@jupyter-widgets/controls",
      "model_module_version": "1.0.0",
      "model_name": "SliderStyleModel",
      "state": {
       "description_width": ""
      }
     },
     "bb806e7ec94f45a2b8cea6e2ae2255b9": {
      "model_module": "@jupyter-widgets/controls",
      "model_module_version": "1.0.0",
      "model_name": "IntSliderModel",
      "state": {
       "description": "blue",
       "layout": "IPY_MODEL_2400671700b64c99a2b65e1898f8c0a5",
       "max": 255,
       "style": "IPY_MODEL_bdc72911a863438d8a01fd585a94d015",
       "value": 120
      }
     },
     "bb86bea836f64900a3c3952eb12dd805": {
      "model_module": "@jupyter-widgets/controls",
      "model_module_version": "1.0.0",
      "model_name": "SliderStyleModel",
      "state": {
       "description_width": ""
      }
     },
     "bb91c19a4f9549809beca6f9182514df": {
      "model_module": "@jupyter-widgets/controls",
      "model_module_version": "1.0.0",
      "model_name": "DescriptionStyleModel",
      "state": {
       "description_width": ""
      }
     },
     "bb92eb26da034c888ca5a8298c238284": {
      "model_module": "@jupyter-widgets/base",
      "model_module_version": "1.0.0",
      "model_name": "LayoutModel",
      "state": {}
     },
     "bbabe3affcb24c28a5026429796db7fa": {
      "model_module": "@jupyter-widgets/controls",
      "model_module_version": "1.0.0",
      "model_name": "VBoxModel",
      "state": {
       "_dom_classes": [
        "widget-interact"
       ],
       "children": [
        "IPY_MODEL_0f0b3e7c4792423d9ee9aa5f00f82f9e",
        "IPY_MODEL_67145fa1e2f84885a2f0369c931d1147",
        "IPY_MODEL_a9ad4a23aec54b7e85e22a7ddde4cf9f",
        "IPY_MODEL_5b3fd46a23b04c3b8784d83d2ef292ac",
        "IPY_MODEL_144badcb5fbd449981ed86172490c0c4",
        "IPY_MODEL_809cd9430f9a43eca3ea6dc5ea5af127",
        "IPY_MODEL_dd7c4e5fce814bd5bda5b8bc4fbf4dbf",
        "IPY_MODEL_bae5394ab64e4bb1b99de7491ac84b6b",
        "IPY_MODEL_db20cd32cc654c3e8bb2cf4e0dac38a9",
        "IPY_MODEL_39a09fa8d131455ca09c8ef8bcac6eea"
       ],
       "layout": "IPY_MODEL_a5ec7480cf1347b9add55821bfd5d126"
      }
     },
     "bbad56284a5e4f0485fbe28028ece3c5": {
      "model_module": "@jupyter-widgets/controls",
      "model_module_version": "1.0.0",
      "model_name": "DescriptionStyleModel",
      "state": {
       "description_width": ""
      }
     },
     "bc09f4251d2b457c910fee4cc0b694f3": {
      "model_module": "@jupyter-widgets/base",
      "model_module_version": "1.0.0",
      "model_name": "LayoutModel",
      "state": {}
     },
     "bc0c9962453741fa87bd0b13b4442d84": {
      "model_module": "@jupyter-widgets/controls",
      "model_module_version": "1.0.0",
      "model_name": "HTMLModel",
      "state": {
       "layout": "IPY_MODEL_e9c6182c9a2d4eae8cec7ca083c13915",
       "style": "IPY_MODEL_c5f7efd85a71477fa5401c8a76739ec0",
       "value": "<img src=\"interactive_circle.png\" id=\"snapshot_id_5_1536249985348\"/>\n <div id=\"snapshot_id_6_1536249985348\">interactive_circle.png</div>"
      }
     },
     "bc4a9abaf51a47fab5340a5b1c7be71f": {
      "model_module": "@jupyter-widgets/base",
      "model_module_version": "1.0.0",
      "model_name": "LayoutModel",
      "state": {}
     },
     "bc63cf7d81d64395829e8b72073bf42b": {
      "model_module": "@jupyter-widgets/controls",
      "model_module_version": "1.0.0",
      "model_name": "IntSliderModel",
      "state": {
       "description": "y",
       "layout": "IPY_MODEL_c32950fab7f6492d86e0bc7d1bff20d5",
       "min": -100,
       "style": "IPY_MODEL_390edc6d88b44056b0f3594355b352d7"
      }
     },
     "bc6d5b2647514437ae85576f4a000c82": {
      "model_module": "@jupyter-widgets/controls",
      "model_module_version": "1.0.0",
      "model_name": "IntSliderModel",
      "state": {
       "description": "y",
       "layout": "IPY_MODEL_ffc27b6603c2446a942a439e19bc38f2",
       "min": -100,
       "style": "IPY_MODEL_863e65727cfa461aa78292af8969ffb0"
      }
     },
     "bc75f9336efe4fd08cb1e8c9c836544c": {
      "model_module": "@jupyter-widgets/base",
      "model_module_version": "1.0.0",
      "model_name": "LayoutModel",
      "state": {}
     },
     "bc8c2db07a7546f18a3e41352877b5e0": {
      "model_module": "@jupyter-widgets/controls",
      "model_module_version": "1.0.0",
      "model_name": "HTMLModel",
      "state": {
       "layout": "IPY_MODEL_0c1b85fa2d7744d9b92b6ce8964dbaeb",
       "style": "IPY_MODEL_d9bbec76e58244b0b3d1de3df4573b5c",
       "value": "<img src=\"interactive_circle.png\" id=\"snapshot_id_27_1536247408837\"/>\n <div id=\"snapshot_id_28_1536247408837\">interactive_circle.png</div>"
      }
     },
     "bc94397d4498430aa54141942fa3f3b7": {
      "model_module": "@jupyter-widgets/controls",
      "model_module_version": "1.0.0",
      "model_name": "SliderStyleModel",
      "state": {
       "description_width": ""
      }
     },
     "bcb8b056462640f3b7ff0f6b5bec2541": {
      "model_module": "@jupyter-widgets/base",
      "model_module_version": "1.0.0",
      "model_name": "LayoutModel",
      "state": {}
     },
     "bd0113885a514a2fbf3465b17b49c928": {
      "model_module": "@jupyter-widgets/base",
      "model_module_version": "1.0.0",
      "model_name": "LayoutModel",
      "state": {}
     },
     "bd03f2dc0e314aee9395e440a86b480c": {
      "model_module": "@jupyter-widgets/output",
      "model_module_version": "1.0.0",
      "model_name": "OutputModel",
      "state": {
       "layout": "IPY_MODEL_48fcb461f33e459bbc3d3f23a651adea"
      }
     },
     "bd3e3066ddeb413cab550f73cb41af03": {
      "model_module": "@jupyter-widgets/controls",
      "model_module_version": "1.0.0",
      "model_name": "VBoxModel",
      "state": {
       "_dom_classes": [
        "widget-interact"
       ],
       "children": [
        "IPY_MODEL_89aff094b3e04310b0239eb75f2514a8",
        "IPY_MODEL_da8e78505c804e40a83cb4917f49f0fe",
        "IPY_MODEL_289a0153c9a14816a57ad94f5c55828e",
        "IPY_MODEL_fc466280281b46d1b6aad61a3266a9e4",
        "IPY_MODEL_5a099e350c7a4ce5b1acf3961d49a60c",
        "IPY_MODEL_b4026cb6c8434654baf09dffe7377139",
        "IPY_MODEL_b3789c225f4a4ff683e2cfe5b7c3d354",
        "IPY_MODEL_9544f814436a4e1bb03a9d5deb788c5c",
        "IPY_MODEL_97c7c41c7ac741d488bd9d55e0c23671",
        "IPY_MODEL_df5db89374544bec9858fa5e6039bdcd",
        "IPY_MODEL_8ebe17764271456188b7be636fb3713d",
        "IPY_MODEL_173b705d6da346a1b794de681834d292"
       ],
       "layout": "IPY_MODEL_5ca3f726dcba4713a8f372a5c8bce38d"
      }
     },
     "bd47f73d38fc4cbcb69bdd84afff4e35": {
      "model_module": "@jupyter-widgets/base",
      "model_module_version": "1.0.0",
      "model_name": "LayoutModel",
      "state": {}
     },
     "bd8885ee5ba040a18d194a8f4e2c374a": {
      "model_module": "@jupyter-widgets/controls",
      "model_module_version": "1.0.0",
      "model_name": "SliderStyleModel",
      "state": {
       "description_width": ""
      }
     },
     "bdc72911a863438d8a01fd585a94d015": {
      "model_module": "@jupyter-widgets/controls",
      "model_module_version": "1.0.0",
      "model_name": "SliderStyleModel",
      "state": {
       "description_width": ""
      }
     },
     "bde9f9e608ca4a82a7b8598a34262602": {
      "model_module": "@jupyter-widgets/base",
      "model_module_version": "1.0.0",
      "model_name": "LayoutModel",
      "state": {}
     },
     "be750545aa70455987425fe174f9bd0b": {
      "model_module": "@jupyter-widgets/base",
      "model_module_version": "1.0.0",
      "model_name": "LayoutModel",
      "state": {}
     },
     "beac4960103a4ecdb4f202b48f968bb9": {
      "model_module": "@jupyter-widgets/controls",
      "model_module_version": "1.0.0",
      "model_name": "IntSliderModel",
      "state": {
       "description": "green",
       "layout": "IPY_MODEL_06ad2a75861b4b61a01cd332b2378bda",
       "max": 255,
       "style": "IPY_MODEL_af0cda45c5254710a349ed5ec1a8d0dc"
      }
     },
     "bf2d2a756f0b4eed8035e411ca147aa3": {
      "model_module": "@jupyter-widgets/controls",
      "model_module_version": "1.0.0",
      "model_name": "IntSliderModel",
      "state": {
       "description": "degrees",
       "layout": "IPY_MODEL_57c812765edd48058e563e2bc034ae84",
       "max": 360,
       "min": -360,
       "style": "IPY_MODEL_383bc7a3903743b1a6135cf131fb9751",
       "value": 49
      }
     },
     "bf61708c3c25461fa129665eb9f0b3ef": {
      "model_module": "@jupyter-widgets/controls",
      "model_module_version": "1.0.0",
      "model_name": "SliderStyleModel",
      "state": {
       "description_width": ""
      }
     },
     "bf73d55efbe84ecea98fc306610f353d": {
      "model_module": "@jupyter-widgets/controls",
      "model_module_version": "1.0.0",
      "model_name": "DescriptionStyleModel",
      "state": {
       "description_width": ""
      }
     },
     "bf762f247ed044e9abc9509f6d9ef882": {
      "model_module": "@jupyter-widgets/controls",
      "model_module_version": "1.0.0",
      "model_name": "DescriptionStyleModel",
      "state": {
       "description_width": ""
      }
     },
     "bfaf6baf495b4cbcb1431a581cea0998": {
      "model_module": "@jupyter-widgets/base",
      "model_module_version": "1.0.0",
      "model_name": "LayoutModel",
      "state": {}
     },
     "bfb470373db640ee9f814c2952770fc9": {
      "model_module": "@jupyter-widgets/base",
      "model_module_version": "1.0.0",
      "model_name": "LayoutModel",
      "state": {}
     },
     "bfb5878c09da49ec8ef0048db46f889f": {
      "model_module": "@jupyter-widgets/controls",
      "model_module_version": "1.0.0",
      "model_name": "VBoxModel",
      "state": {
       "_dom_classes": [
        "widget-interact"
       ],
       "children": [
        "IPY_MODEL_cbeb1d164b1244ea84f926ebd7f56331",
        "IPY_MODEL_0c5742a5584a443ca5cb066e4ec39e35",
        "IPY_MODEL_5b041f78229d452f978c6a226f89bb2c",
        "IPY_MODEL_f00dd01cd1834f3fa5c4eea1bdfb6bfe",
        "IPY_MODEL_d2cd4e61e556453281c5ec70e4900d17",
        "IPY_MODEL_6c66db1765cd453caea29960e7ceff8e",
        "IPY_MODEL_5219df53f7754cf7898e5c910facc49d",
        "IPY_MODEL_852a0e2337244d8eb395136ec6aa2fe6",
        "IPY_MODEL_1b236a9ebc484a3fa96ed4c9def7abd1",
        "IPY_MODEL_498065b088b64a16a84a6a13d6633ef1",
        "IPY_MODEL_d6bb29c9c3c34159afe9480d0f0d0063",
        "IPY_MODEL_67b3c86868704cf9b66b2fc15b3dae54"
       ],
       "layout": "IPY_MODEL_bcb8b056462640f3b7ff0f6b5bec2541"
      }
     },
     "bfe743d5521045c7a7801eb8537970a6": {
      "model_module": "@jupyter-widgets/controls",
      "model_module_version": "1.0.0",
      "model_name": "VBoxModel",
      "state": {
       "children": [
        "IPY_MODEL_a45d547d58e54087aa33954709b3e27f",
        "IPY_MODEL_f674a6acfe474528ae03d560df702077"
       ],
       "layout": "IPY_MODEL_8855f0d6bf664ebe9107ae431a1f578e"
      }
     },
     "bfe7e21eb50a496d8ce16c3d6073bb72": {
      "model_module": "@jupyter-widgets/base",
      "model_module_version": "1.0.0",
      "model_name": "LayoutModel",
      "state": {}
     },
     "bfe986d974c84706b6a41a8165cc18a5": {
      "model_module": "@jupyter-widgets/controls",
      "model_module_version": "1.0.0",
      "model_name": "CheckboxModel",
      "state": {
       "description": "fill",
       "disabled": false,
       "layout": "IPY_MODEL_86495dfee716480995bde7d3c1780017",
       "style": "IPY_MODEL_cb21c46c9e7242c5b718f9c05895172c",
       "value": false
      }
     },
     "c02e6d138f9f49de8fb751751ff8683f": {
      "model_module": "@jupyter-widgets/base",
      "model_module_version": "1.0.0",
      "model_name": "LayoutModel",
      "state": {}
     },
     "c041f8da5cd642a085f0ae3c792f5185": {
      "model_module": "@jupyter-widgets/base",
      "model_module_version": "1.0.0",
      "model_name": "LayoutModel",
      "state": {}
     },
     "c04582c3823e45b7ba5b049db3e068d1": {
      "model_module": "@jupyter-widgets/controls",
      "model_module_version": "1.0.0",
      "model_name": "FloatSliderModel",
      "state": {
       "description": "alpha",
       "layout": "IPY_MODEL_fa59932b4aa2426596538c48dfa0378a",
       "max": 1,
       "step": 0.1,
       "style": "IPY_MODEL_361bb3a43cfb415a83e926ef37a9ef5c",
       "value": 0.5
      }
     },
     "c051e60ad16e4262b6ba4ae9b9828076": {
      "model_module": "@jupyter-widgets/base",
      "model_module_version": "1.0.0",
      "model_name": "LayoutModel",
      "state": {}
     },
     "c08d38f7d57c492db41652c219dc139e": {
      "model_module": "@jupyter-widgets/controls",
      "model_module_version": "1.0.0",
      "model_name": "TabModel",
      "state": {
       "_titles": {
        "0": "Canvas",
        "1": "Snapshot"
       },
       "children": [
        "IPY_MODEL_aaacfb978d634d928ce9d5ab18f3f724",
        "IPY_MODEL_59e10485f140416f8f7c1893934942e8"
       ],
       "layout": "IPY_MODEL_89e2cfdb11af4b6d824a3db312f2563e"
      }
     },
     "c0bf9646213642e3a7606a9101d27e3a": {
      "model_module": "@jupyter-widgets/controls",
      "model_module_version": "1.0.0",
      "model_name": "FloatSliderModel",
      "state": {
       "description": "alpha",
       "layout": "IPY_MODEL_7f52fbe106d34d4fb2c991b17afaa1ab",
       "max": 1,
       "step": 0.1,
       "style": "IPY_MODEL_8a194b035dd145eab1996ce79200dd63",
       "value": 1
      }
     },
     "c0cb3cd4ab494d718bc2675688df6894": {
      "model_module": "@jupyter-widgets/base",
      "model_module_version": "1.0.0",
      "model_name": "LayoutModel",
      "state": {}
     },
     "c0d3f2a493b34da7a2b05cf84293b4ff": {
      "model_module": "@jupyter-widgets/base",
      "model_module_version": "1.0.0",
      "model_name": "LayoutModel",
      "state": {}
     },
     "c0d8c1bf1f6f47bf858c8882dafbccac": {
      "model_module": "@jupyter-widgets/base",
      "model_module_version": "1.0.0",
      "model_name": "LayoutModel",
      "state": {}
     },
     "c117aec59f164669a43ac586079c37d9": {
      "model_module": "@jupyter-widgets/controls",
      "model_module_version": "1.0.0",
      "model_name": "SliderStyleModel",
      "state": {
       "description_width": ""
      }
     },
     "c14d2fe68aa34c339422b30329ff0353": {
      "model_module": "@jupyter-widgets/base",
      "model_module_version": "1.0.0",
      "model_name": "LayoutModel",
      "state": {}
     },
     "c1cb93917abe449392e7f2eeac1db7a4": {
      "model_module": "@jupyter-widgets/controls",
      "model_module_version": "1.0.0",
      "model_name": "SliderStyleModel",
      "state": {
       "description_width": ""
      }
     },
     "c1dbe375875f47cb94f3bc887061f340": {
      "model_module": "@jupyter-widgets/output",
      "model_module_version": "1.0.0",
      "model_name": "OutputModel",
      "state": {
       "layout": "IPY_MODEL_600fe8cf5a7b4a9c88c3a6274e10f166"
      }
     },
     "c1f07450a9354016b6c3fb967b2eb5c9": {
      "model_module": "@jupyter-widgets/controls",
      "model_module_version": "1.0.0",
      "model_name": "DescriptionStyleModel",
      "state": {
       "description_width": ""
      }
     },
     "c1f53c2750294c40b682aa91ea93bc74": {
      "model_module": "@jupyter-widgets/controls",
      "model_module_version": "1.0.0",
      "model_name": "DescriptionStyleModel",
      "state": {
       "description_width": ""
      }
     },
     "c1f9ef91a3854f2788cb95494958537f": {
      "model_module": "jp_proxy_widget",
      "model_module_version": "^0.3.4",
      "model_name": "JSProxyModel",
      "state": {
       "_model_module_version": "^0.3.4",
       "_send_counter": 11,
       "_view_module_version": "^0.3.4",
       "error_msg": "No error",
       "layout": "IPY_MODEL_5d69ed3ff2f74b48a32ccf4497d84cd5",
       "rendered": true,
       "status": "Got results."
      }
     },
     "c20d01b4c5c54814ba06767fcbc535f2": {
      "model_module": "@jupyter-widgets/controls",
      "model_module_version": "1.0.0",
      "model_name": "DescriptionStyleModel",
      "state": {
       "description_width": ""
      }
     },
     "c248457df342485d9897f6f96fa8b126": {
      "model_module": "@jupyter-widgets/base",
      "model_module_version": "1.0.0",
      "model_name": "LayoutModel",
      "state": {}
     },
     "c24bfd49a0ed404ea027ed452e3d30e6": {
      "model_module": "jp_proxy_widget",
      "model_module_version": "^0.3.4",
      "model_name": "JSProxyModel",
      "state": {
       "_model_module_version": "^0.3.4",
       "_send_counter": 1126,
       "_view_module_version": "^0.3.4",
       "error_msg": "No error",
       "layout": "IPY_MODEL_6cb24cc91c784819a653ea7b4e6e7eda",
       "rendered": true,
       "status": "Got results."
      }
     },
     "c25afe940e6f4d84a4f6b11c578b572f": {
      "model_module": "@jupyter-widgets/controls",
      "model_module_version": "1.0.0",
      "model_name": "SliderStyleModel",
      "state": {
       "description_width": ""
      }
     },
     "c28c31a7fbdc463aa0b518b2607d6672": {
      "model_module": "@jupyter-widgets/controls",
      "model_module_version": "1.0.0",
      "model_name": "IntSliderModel",
      "state": {
       "description": "points",
       "layout": "IPY_MODEL_a64451d248a444c2ac1f11536558d6c9",
       "style": "IPY_MODEL_0c024cd762bc497ebeefeb5b2297e72d",
       "value": 87
      }
     },
     "c29b55373efe461cb5c9e0ba138d2aca": {
      "model_module": "@jupyter-widgets/controls",
      "model_module_version": "1.0.0",
      "model_name": "DropdownModel",
      "state": {
       "_options_labels": [
        "normal",
        "italic",
        "oblique"
       ],
       "description": "style",
       "index": 1,
       "layout": "IPY_MODEL_77e253c7ac8c445982726bf31314d504",
       "style": "IPY_MODEL_d81842e93e5b42d9a2ba4b4d59012c7c"
      }
     },
     "c2de558a724e4b2099ab4b23c1cc7c38": {
      "model_module": "@jupyter-widgets/controls",
      "model_module_version": "1.0.0",
      "model_name": "HTMLModel",
      "state": {
       "layout": "IPY_MODEL_985c496eaafc4e138e05eaef705d1bac",
       "style": "IPY_MODEL_b46d0fd35bd941309beeaf7910329a53",
       "value": "<img src=\"interactive_text.png\" id=\"snapshot_id_1_1536269849062\"/>\n <div id=\"snapshot_id_2_1536269849062\">interactive_text.png</div>"
      }
     },
     "c301672c974c4159aace83c37eef85cf": {
      "model_module": "@jupyter-widgets/controls",
      "model_module_version": "1.0.0",
      "model_name": "IntSliderModel",
      "state": {
       "description": "x",
       "layout": "IPY_MODEL_ec54a87c6ae7444ea7a2329122d08aa4",
       "min": -100,
       "style": "IPY_MODEL_5c6094353fe94043ae1121e451d5d6dd"
      }
     },
     "c321150d3889420097a520653cef8df6": {
      "model_module": "@jupyter-widgets/base",
      "model_module_version": "1.0.0",
      "model_name": "LayoutModel",
      "state": {}
     },
     "c32950fab7f6492d86e0bc7d1bff20d5": {
      "model_module": "@jupyter-widgets/base",
      "model_module_version": "1.0.0",
      "model_name": "LayoutModel",
      "state": {}
     },
     "c35ae68ad0d1496e9f3d97f0dcb7494f": {
      "model_module": "@jupyter-widgets/output",
      "model_module_version": "1.0.0",
      "model_name": "OutputModel",
      "state": {
       "layout": "IPY_MODEL_6071918863be40938710b88abcde2ba4"
      }
     },
     "c36448c0afdc4b62ad8aab3841015e5f": {
      "model_module": "@jupyter-widgets/controls",
      "model_module_version": "1.0.0",
      "model_name": "IntSliderModel",
      "state": {
       "description": "r",
       "layout": "IPY_MODEL_930beb4cba624664a44324192d0ab957",
       "style": "IPY_MODEL_456284c4bc4644ec824cad934213daf8",
       "value": 50
      }
     },
     "c3852c9ce898496996a7c217a28f91c2": {
      "model_module": "@jupyter-widgets/base",
      "model_module_version": "1.0.0",
      "model_name": "LayoutModel",
      "state": {}
     },
     "c3ec7cbf3b4e450b8e72306890bc6df0": {
      "model_module": "@jupyter-widgets/base",
      "model_module_version": "1.0.0",
      "model_name": "LayoutModel",
      "state": {}
     },
     "c4070436bbaf4887b16e73780ef653f5": {
      "model_module": "@jupyter-widgets/base",
      "model_module_version": "1.0.0",
      "model_name": "LayoutModel",
      "state": {}
     },
     "c40c34db878a41d390975f050eefd09b": {
      "model_module": "@jupyter-widgets/controls",
      "model_module_version": "1.0.0",
      "model_name": "SliderStyleModel",
      "state": {
       "description_width": ""
      }
     },
     "c423533a81b9471ea5d27a33aa5ed61e": {
      "model_module": "@jupyter-widgets/controls",
      "model_module_version": "1.0.0",
      "model_name": "TextModel",
      "state": {
       "description": "text",
       "layout": "IPY_MODEL_9d1d05eb00224cf88087ee92fb00434c",
       "style": "IPY_MODEL_fbffc2d7bcae4bd3a08aa1f9bcd2f635",
       "value": "Stella!"
      }
     },
     "c472bd0730ea4ecd964e5811d2d0e6c4": {
      "model_module": "@jupyter-widgets/output",
      "model_module_version": "1.0.0",
      "model_name": "OutputModel",
      "state": {
       "layout": "IPY_MODEL_733b9d47ab3b4e4eb7a079b6457a1c0a",
       "outputs": [
        {
         "ename": "NameError",
         "evalue": "global name 'fill' is not defined",
         "output_type": "error",
         "traceback": [
          "\u001b[0;31m---------------------------------------------------------------------------\u001b[0m",
          "\u001b[0;31mNameError\u001b[0m                                 Traceback (most recent call last)",
          "\u001b[0;32m//anaconda/lib/python2.7/site-packages/ipywidgets/widgets/interaction.pyc\u001b[0m in \u001b[0;36mupdate\u001b[0;34m(self, *args)\u001b[0m\n\u001b[1;32m    248\u001b[0m                     \u001b[0mvalue\u001b[0m \u001b[0;34m=\u001b[0m \u001b[0mwidget\u001b[0m\u001b[0;34m.\u001b[0m\u001b[0mget_interact_value\u001b[0m\u001b[0;34m(\u001b[0m\u001b[0;34m)\u001b[0m\u001b[0;34m\u001b[0m\u001b[0m\n\u001b[1;32m    249\u001b[0m                     \u001b[0mself\u001b[0m\u001b[0;34m.\u001b[0m\u001b[0mkwargs\u001b[0m\u001b[0;34m[\u001b[0m\u001b[0mwidget\u001b[0m\u001b[0;34m.\u001b[0m\u001b[0m_kwarg\u001b[0m\u001b[0;34m]\u001b[0m \u001b[0;34m=\u001b[0m \u001b[0mvalue\u001b[0m\u001b[0;34m\u001b[0m\u001b[0m\n\u001b[0;32m--> 250\u001b[0;31m                 \u001b[0mself\u001b[0m\u001b[0;34m.\u001b[0m\u001b[0mresult\u001b[0m \u001b[0;34m=\u001b[0m \u001b[0mself\u001b[0m\u001b[0;34m.\u001b[0m\u001b[0mf\u001b[0m\u001b[0;34m(\u001b[0m\u001b[0;34m**\u001b[0m\u001b[0mself\u001b[0m\u001b[0;34m.\u001b[0m\u001b[0mkwargs\u001b[0m\u001b[0;34m)\u001b[0m\u001b[0;34m\u001b[0m\u001b[0m\n\u001b[0m\u001b[1;32m    251\u001b[0m                 \u001b[0mshow_inline_matplotlib_plots\u001b[0m\u001b[0;34m(\u001b[0m\u001b[0;34m)\u001b[0m\u001b[0;34m\u001b[0m\u001b[0m\n\u001b[1;32m    252\u001b[0m                 \u001b[0;32mif\u001b[0m \u001b[0mself\u001b[0m\u001b[0;34m.\u001b[0m\u001b[0mauto_display\u001b[0m \u001b[0;32mand\u001b[0m \u001b[0mself\u001b[0m\u001b[0;34m.\u001b[0m\u001b[0mresult\u001b[0m \u001b[0;32mis\u001b[0m \u001b[0;32mnot\u001b[0m \u001b[0mNone\u001b[0m\u001b[0;34m:\u001b[0m\u001b[0;34m\u001b[0m\u001b[0m\n",
          "\u001b[0;32m<ipython-input-4-3c4ad03cacb2>\u001b[0m in \u001b[0;36mchange_rect\u001b[0;34m(x, y, text, points, style, family, degrees, red, green, blue, alpha)\u001b[0m\n\u001b[1;32m     19\u001b[0m     \u001b[0mcanvas\u001b[0m\u001b[0;34m.\u001b[0m\u001b[0mreset_canvas\u001b[0m\u001b[0;34m(\u001b[0m\u001b[0;34m)\u001b[0m\u001b[0;34m\u001b[0m\u001b[0m\n\u001b[1;32m     20\u001b[0m     canvas.text(x=x, y=y, degrees=degrees, color=color, font=font,\n\u001b[0;32m---> 21\u001b[0;31m                  fill=fill, lineWidth=lineWidth)\n\u001b[0m\u001b[1;32m     22\u001b[0m     \u001b[0mcanvas\u001b[0m\u001b[0;34m.\u001b[0m\u001b[0mfit\u001b[0m\u001b[0;34m(\u001b[0m\u001b[0;34m)\u001b[0m\u001b[0;34m\u001b[0m\u001b[0m\n\u001b[1;32m     23\u001b[0m     canvas.lower_left_axes(\n",
          "\u001b[0;31mNameError\u001b[0m: global name 'fill' is not defined"
         ]
        }
       ]
      }
     },
     "c47a93d680894d24a6480d67fc9b35b5": {
      "model_module": "@jupyter-widgets/base",
      "model_module_version": "1.0.0",
      "model_name": "LayoutModel",
      "state": {}
     },
     "c49418d769ea4470b0bb4d32c0af7d78": {
      "model_module": "@jupyter-widgets/controls",
      "model_module_version": "1.0.0",
      "model_name": "SliderStyleModel",
      "state": {
       "description_width": ""
      }
     },
     "c4a88d8877ee440a964ece7f9eb17f0b": {
      "model_module": "@jupyter-widgets/base",
      "model_module_version": "1.0.0",
      "model_name": "LayoutModel",
      "state": {}
     },
     "c4b7593a065e4e24a68d1df1c07c954b": {
      "model_module": "@jupyter-widgets/base",
      "model_module_version": "1.0.0",
      "model_name": "LayoutModel",
      "state": {}
     },
     "c4c354844fae43ecbc738c76144f2497": {
      "model_module": "@jupyter-widgets/controls",
      "model_module_version": "1.0.0",
      "model_name": "SliderStyleModel",
      "state": {
       "description_width": ""
      }
     },
     "c555c1edd1844ccdb4530b8d4cd99f5e": {
      "model_module": "@jupyter-widgets/base",
      "model_module_version": "1.0.0",
      "model_name": "LayoutModel",
      "state": {}
     },
     "c5b2a34cb7294d459365381e3e13c8e6": {
      "model_module": "@jupyter-widgets/base",
      "model_module_version": "1.0.0",
      "model_name": "LayoutModel",
      "state": {}
     },
     "c5c5898f46a34223b84d70596ead91c4": {
      "model_module": "@jupyter-widgets/controls",
      "model_module_version": "1.0.0",
      "model_name": "DropdownModel",
      "state": {
       "_options_labels": [
        "left",
        "right",
        "center"
       ],
       "description": "align",
       "index": 2,
       "layout": "IPY_MODEL_215dc50a17774c43acba346455672a44",
       "style": "IPY_MODEL_fa09b04e96bb4361bf9bbaa1575265f5"
      }
     },
     "c5d30691d81f465689529e63331fe4b3": {
      "model_module": "@jupyter-widgets/controls",
      "model_module_version": "1.0.0",
      "model_name": "IntSliderModel",
      "state": {
       "description": "x",
       "layout": "IPY_MODEL_ed37bd2cb89e4b5bace8145f7d374df0",
       "min": -100,
       "style": "IPY_MODEL_0d6eae09978a488fa7f3c6f4bdd0099a"
      }
     },
     "c5f7efd85a71477fa5401c8a76739ec0": {
      "model_module": "@jupyter-widgets/controls",
      "model_module_version": "1.0.0",
      "model_name": "DescriptionStyleModel",
      "state": {
       "description_width": ""
      }
     },
     "c637d41ba9ae4ee29b56bb98e594fb10": {
      "model_module": "@jupyter-widgets/controls",
      "model_module_version": "1.0.0",
      "model_name": "SliderStyleModel",
      "state": {
       "description_width": ""
      }
     },
     "c63c46a1b8724c8f848ac25c31265a97": {
      "model_module": "@jupyter-widgets/controls",
      "model_module_version": "1.0.0",
      "model_name": "SliderStyleModel",
      "state": {
       "description_width": ""
      }
     },
     "c6902fa287be47dcb8f3cef19c803b3f": {
      "model_module": "@jupyter-widgets/controls",
      "model_module_version": "1.0.0",
      "model_name": "SliderStyleModel",
      "state": {
       "description_width": ""
      }
     },
     "c6b1d45510234e3d8d35ac54244f371c": {
      "model_module": "@jupyter-widgets/controls",
      "model_module_version": "1.0.0",
      "model_name": "IntSliderModel",
      "state": {
       "description": "lineWidth",
       "layout": "IPY_MODEL_385c4cb31c1d491787737c08bb69f148",
       "max": 20,
       "style": "IPY_MODEL_889d5e1c1bf8499e850e275b0e907c79",
       "value": 15
      }
     },
     "c72d558b934f4ff7bf72dc68243662d7": {
      "model_module": "@jupyter-widgets/controls",
      "model_module_version": "1.0.0",
      "model_name": "DescriptionStyleModel",
      "state": {
       "description_width": ""
      }
     },
     "c76fa9853b80481f9b96122982c797b6": {
      "model_module": "@jupyter-widgets/base",
      "model_module_version": "1.0.0",
      "model_name": "LayoutModel",
      "state": {}
     },
     "c7badb3118b949b4ae3e4b76fbd945a0": {
      "model_module": "@jupyter-widgets/controls",
      "model_module_version": "1.0.0",
      "model_name": "IntSliderModel",
      "state": {
       "description": "points",
       "layout": "IPY_MODEL_44b7029e9ef54219bf3fd4ff392dffee",
       "style": "IPY_MODEL_3a27cd6bf58e49f2bc23667b2df0c0d5",
       "value": 40
      }
     },
     "c7ef622ed47545909dea8990047ca571": {
      "model_module": "@jupyter-widgets/base",
      "model_module_version": "1.0.0",
      "model_name": "LayoutModel",
      "state": {}
     },
     "c83a73155cb045198bc862797b555bc0": {
      "model_module": "@jupyter-widgets/controls",
      "model_module_version": "1.0.0",
      "model_name": "IntSliderModel",
      "state": {
       "description": "blue",
       "layout": "IPY_MODEL_d5a5472d832540eaa737314b68a3a3a2",
       "max": 255,
       "style": "IPY_MODEL_2e7b00438b9c409ea7d5451e5ce7e3ea",
       "value": 127
      }
     },
     "c8408daa8eae4c0cb4f93df44aa93bf8": {
      "model_module": "@jupyter-widgets/controls",
      "model_module_version": "1.0.0",
      "model_name": "DescriptionStyleModel",
      "state": {
       "description_width": ""
      }
     },
     "c86bddaf25444fbdba2ef4500803ade6": {
      "model_module": "@jupyter-widgets/base",
      "model_module_version": "1.0.0",
      "model_name": "LayoutModel",
      "state": {}
     },
     "c889e1ab77ce49aa92020f444cdfd9f0": {
      "model_module": "@jupyter-widgets/base",
      "model_module_version": "1.0.0",
      "model_name": "LayoutModel",
      "state": {}
     },
     "c891051e3ee2490e8ca6c2923caef439": {
      "model_module": "@jupyter-widgets/controls",
      "model_module_version": "1.0.0",
      "model_name": "DropdownModel",
      "state": {
       "_options_labels": [
        "left",
        "right",
        "center"
       ],
       "description": "align",
       "index": 0,
       "layout": "IPY_MODEL_7adbff5b4dd744a99dceacd172689f0d",
       "style": "IPY_MODEL_bb00eb040b5344b2969a791237a7b2a9"
      }
     },
     "c89507e8142648ca8fa5a672ab860bc3": {
      "model_module": "@jupyter-widgets/controls",
      "model_module_version": "1.0.0",
      "model_name": "IntSliderModel",
      "state": {
       "description": "points",
       "layout": "IPY_MODEL_5067c36019b64d77b1a36e3770e12d92",
       "style": "IPY_MODEL_3a2d2afdd56c44fbb63904e7e223ca48",
       "value": 20
      }
     },
     "c9197738c9e74ffca50503ed157fd7a5": {
      "model_module": "jp_proxy_widget",
      "model_module_version": "^0.3.4",
      "model_name": "JSProxyModel",
      "state": {
       "_model_module_version": "^0.3.4",
       "_send_counter": 11,
       "_view_module_version": "^0.3.4",
       "error_msg": "No error",
       "layout": "IPY_MODEL_8f9966ed5dc747a7a049f76eeeb5832e",
       "rendered": true,
       "status": "Got results."
      }
     },
     "c93a4a07dc114e9a8e7200d9bb1b84a7": {
      "model_module": "@jupyter-widgets/base",
      "model_module_version": "1.0.0",
      "model_name": "LayoutModel",
      "state": {}
     },
     "c93de285d2c343a0bba8a56cbfc7cf3b": {
      "model_module": "@jupyter-widgets/base",
      "model_module_version": "1.0.0",
      "model_name": "LayoutModel",
      "state": {}
     },
     "c93e2d5d660b4e99b657000bd3ec3ae3": {
      "model_module": "@jupyter-widgets/controls",
      "model_module_version": "1.0.0",
      "model_name": "SliderStyleModel",
      "state": {
       "description_width": ""
      }
     },
     "c94108fed8b94ec986c4f5efca66d8db": {
      "model_module": "@jupyter-widgets/controls",
      "model_module_version": "1.0.0",
      "model_name": "IntSliderModel",
      "state": {
       "description": "y",
       "layout": "IPY_MODEL_176f9de84ad24bb08f6e993c71c10a9f",
       "min": -100,
       "style": "IPY_MODEL_009faa4d2649492c9b4d0bd213c9baed"
      }
     },
     "c9564860f70c4668a5fdd72cb85d52c1": {
      "model_module": "@jupyter-widgets/controls",
      "model_module_version": "1.0.0",
      "model_name": "DescriptionStyleModel",
      "state": {
       "description_width": ""
      }
     },
     "c9610c9e528b445dbf05288e0ebcf0bf": {
      "model_module": "@jupyter-widgets/base",
      "model_module_version": "1.0.0",
      "model_name": "LayoutModel",
      "state": {}
     },
     "c9739257a84a4bda98972255f3b64850": {
      "model_module": "@jupyter-widgets/base",
      "model_module_version": "1.0.0",
      "model_name": "LayoutModel",
      "state": {}
     },
     "c980e2036a4d43408e58fdb109273d2c": {
      "model_module": "@jupyter-widgets/controls",
      "model_module_version": "1.0.0",
      "model_name": "SliderStyleModel",
      "state": {
       "description_width": ""
      }
     },
     "c992885e4b484e4f8f661303b4b13097": {
      "model_module": "@jupyter-widgets/controls",
      "model_module_version": "1.0.0",
      "model_name": "TabModel",
      "state": {
       "_titles": {
        "0": "Canvas",
        "1": "Snapshot"
       },
       "children": [
        "IPY_MODEL_06ee9ad14ac94bb3909094d34e1dff0c",
        "IPY_MODEL_df1d9b7a7cac43458f352335b9e348a9"
       ],
       "layout": "IPY_MODEL_10bfddd03b0a4f2d89300d615bdcaaea"
      }
     },
     "c9bb937b54294cc3ace97fef6e8725e4": {
      "model_module": "@jupyter-widgets/controls",
      "model_module_version": "1.0.0",
      "model_name": "HTMLModel",
      "state": {
       "layout": "IPY_MODEL_5027fd4f925642d9b412dd5309ce1860",
       "style": "IPY_MODEL_e70715f5d7ef4e95b8214f73bac1a47c",
       "value": "<img src=\"interactive_circle.png\" id=\"snapshot_id_1_1536249636198\"/>\n <div id=\"snapshot_id_2_1536249636198\">interactive_circle.png</div>"
      }
     },
     "ca258b5b09504167b78ab64eefe65565": {
      "model_module": "@jupyter-widgets/output",
      "model_module_version": "1.0.0",
      "model_name": "OutputModel",
      "state": {
       "layout": "IPY_MODEL_c14d2fe68aa34c339422b30329ff0353"
      }
     },
     "ca7539963ab04407ba43c4836e2034bc": {
      "model_module": "@jupyter-widgets/controls",
      "model_module_version": "1.0.0",
      "model_name": "VBoxModel",
      "state": {
       "children": [
        "IPY_MODEL_e499469e7acb41a19fee5830311fd39f",
        "IPY_MODEL_97959e6375f844e7b6b572cb1a4c8a8d"
       ],
       "layout": "IPY_MODEL_ab283775afc54f1995bb58c0ce1e6e83"
      }
     },
     "caaeac4ce9754a619d66477a6ed902e9": {
      "model_module": "@jupyter-widgets/controls",
      "model_module_version": "1.0.0",
      "model_name": "IntSliderModel",
      "state": {
       "description": "x",
       "layout": "IPY_MODEL_5be64bc9a28c4098989690d44ea350ac",
       "min": -100,
       "style": "IPY_MODEL_7b7d161f386e4e9caad61d54ef813dec"
      }
     },
     "cadb83e6cf5148d18eee775ad4058982": {
      "model_module": "@jupyter-widgets/controls",
      "model_module_version": "1.0.0",
      "model_name": "SliderStyleModel",
      "state": {
       "description_width": ""
      }
     },
     "caed84739d874a51bc8e8a549434bba1": {
      "model_module": "@jupyter-widgets/base",
      "model_module_version": "1.0.0",
      "model_name": "LayoutModel",
      "state": {}
     },
     "caf3676b517c4648b8708e792fb8e9e2": {
      "model_module": "@jupyter-widgets/base",
      "model_module_version": "1.0.0",
      "model_name": "LayoutModel",
      "state": {}
     },
     "cb1b9310c8754d1083612b03201c1480": {
      "model_module": "@jupyter-widgets/controls",
      "model_module_version": "1.0.0",
      "model_name": "TabModel",
      "state": {
       "_titles": {
        "0": "Canvas",
        "1": "Snapshot"
       },
       "children": [
        "IPY_MODEL_11a254440ddf491399a7353d8dae11af",
        "IPY_MODEL_8a07b70430b4496ba1b818b51bc030e6"
       ],
       "layout": "IPY_MODEL_aa66395257454273864216dd989e16a9"
      }
     },
     "cb21c46c9e7242c5b718f9c05895172c": {
      "model_module": "@jupyter-widgets/controls",
      "model_module_version": "1.0.0",
      "model_name": "DescriptionStyleModel",
      "state": {
       "description_width": ""
      }
     },
     "cb223ebd0fb9435c9862f81c8fc1cf5b": {
      "model_module": "@jupyter-widgets/controls",
      "model_module_version": "1.0.0",
      "model_name": "SliderStyleModel",
      "state": {
       "description_width": ""
      }
     },
     "cb4e29fb680a4de68db5ecc9e22cf8c3": {
      "model_module": "@jupyter-widgets/controls",
      "model_module_version": "1.0.0",
      "model_name": "DescriptionStyleModel",
      "state": {
       "description_width": ""
      }
     },
     "cb4f5020f35f40158725e25fa5fa34d8": {
      "model_module": "@jupyter-widgets/base",
      "model_module_version": "1.0.0",
      "model_name": "LayoutModel",
      "state": {}
     },
     "cb8222618f0747f88a1b8d0b653e4566": {
      "model_module": "@jupyter-widgets/controls",
      "model_module_version": "1.0.0",
      "model_name": "SliderStyleModel",
      "state": {
       "description_width": ""
      }
     },
     "cbe904656d3544e5be9a3bb3d0d5a862": {
      "model_module": "jp_proxy_widget",
      "model_module_version": "^0.3.4",
      "model_name": "JSProxyModel",
      "state": {
       "_model_module_version": "^0.3.4",
       "_send_counter": 193,
       "_view_module_version": "^0.3.4",
       "error_msg": "No error",
       "layout": "IPY_MODEL_9ba4b277b2934979aabf501a57c812bc",
       "rendered": true,
       "status": "Got results."
      }
     },
     "cbeb1d164b1244ea84f926ebd7f56331": {
      "model_module": "@jupyter-widgets/controls",
      "model_module_version": "1.0.0",
      "model_name": "IntSliderModel",
      "state": {
       "description": "x",
       "layout": "IPY_MODEL_67d57405fa244a00a3a8ccd75b144aee",
       "min": -100,
       "style": "IPY_MODEL_6af12d36ec524d2a9f93d40d8180a1f6",
       "value": -37
      }
     },
     "cc7bb988a19a49b2af73775ff0261d0c": {
      "model_module": "@jupyter-widgets/controls",
      "model_module_version": "1.0.0",
      "model_name": "DescriptionStyleModel",
      "state": {
       "description_width": ""
      }
     },
     "cc875a482b81481aabaa4b59941bb886": {
      "model_module": "@jupyter-widgets/controls",
      "model_module_version": "1.0.0",
      "model_name": "VBoxModel",
      "state": {
       "children": [
        "IPY_MODEL_b6edfe36ded441ba98d5357a6f72e8f1",
        "IPY_MODEL_d01240ca20bf4e438c4f59530776f144"
       ],
       "layout": "IPY_MODEL_df3a643769c54959a85cc571b9fadeb8"
      }
     },
     "cc9f8b2344c544c6814a287deee1e5f9": {
      "model_module": "@jupyter-widgets/controls",
      "model_module_version": "1.0.0",
      "model_name": "HTMLModel",
      "state": {
       "layout": "IPY_MODEL_0f39eba590774606aa21963601303685",
       "style": "IPY_MODEL_83abd01aa1d9439ba8eb005d96007197",
       "value": "<img src=\"interactive_text.png\" id=\"snapshot_id_5_1536269908533\"/>\n <div id=\"snapshot_id_6_1536269908533\">interactive_text.png</div>"
      }
     },
     "cca8b684cc274df7bb62ddd41f0709e3": {
      "model_module": "@jupyter-widgets/base",
      "model_module_version": "1.0.0",
      "model_name": "LayoutModel",
      "state": {}
     },
     "ccbee4771d7e447d890c9d0c9d3dccfe": {
      "model_module": "@jupyter-widgets/controls",
      "model_module_version": "1.0.0",
      "model_name": "DropdownModel",
      "state": {
       "_options_labels": [
        "times",
        "courier",
        "arial"
       ],
       "description": "family",
       "index": 1,
       "layout": "IPY_MODEL_31724bf3213045b1b6cfaf3a50f9b993",
       "style": "IPY_MODEL_3859c3bf97d442448e45cf6b83a0356d"
      }
     },
     "cce6bbd9517b44bfa945dc1891d45351": {
      "model_module": "@jupyter-widgets/controls",
      "model_module_version": "1.0.0",
      "model_name": "SliderStyleModel",
      "state": {
       "description_width": ""
      }
     },
     "ccf9e6baf93b46e880a1c88628b57c52": {
      "model_module": "@jupyter-widgets/base",
      "model_module_version": "1.0.0",
      "model_name": "LayoutModel",
      "state": {}
     },
     "cd04fd83c3bf4e99a1b97f56ba471e72": {
      "model_module": "@jupyter-widgets/controls",
      "model_module_version": "1.0.0",
      "model_name": "DropdownModel",
      "state": {
       "_options_labels": [
        "times",
        "courier",
        "arial"
       ],
       "description": "family",
       "index": 0,
       "layout": "IPY_MODEL_1772832bd0f942228790595ede6a083a",
       "style": "IPY_MODEL_79036ee060294a2285ac509a39201e05"
      }
     },
     "cd0e45c33eda496aa1a9f1cef149434a": {
      "model_module": "@jupyter-widgets/base",
      "model_module_version": "1.0.0",
      "model_name": "LayoutModel",
      "state": {}
     },
     "cd53f18d6c1d4ff1a3f904d9442ac0ef": {
      "model_module": "@jupyter-widgets/controls",
      "model_module_version": "1.0.0",
      "model_name": "VBoxModel",
      "state": {
       "_dom_classes": [
        "widget-interact"
       ],
       "children": [
        "IPY_MODEL_0aa5994b31944b0f89b69872598bd448",
        "IPY_MODEL_1c551441a5c94b669ba7168c378dc677",
        "IPY_MODEL_63c78ef4b6534ef58f5b015d11764d5b",
        "IPY_MODEL_f74ce1f9f08f493181680fb7929e9258",
        "IPY_MODEL_0358dedd485141e2af579b43d8a4d9b8",
        "IPY_MODEL_5ff7b85eb15b486a912d40536fc04afb",
        "IPY_MODEL_45a3471c40d64b43b0dfd73efedf75b6",
        "IPY_MODEL_f4b57f34da694a8fbe28e80f8f6c07ec",
        "IPY_MODEL_2ae5887f749b41a0a4d8ecd88c45cd25",
        "IPY_MODEL_329de83a89434a7889de69c961337ca5",
        "IPY_MODEL_804da073b01c45c79a933b3bec0180d3",
        "IPY_MODEL_05f3216eb29b4ea391a72e13b34dce8b",
        "IPY_MODEL_4bc7d050845741b9b989355ad510a218",
        "IPY_MODEL_d688e013caee437596075d31bbea015f",
        "IPY_MODEL_4402d390aba444cc89d043ed0de01473"
       ],
       "layout": "IPY_MODEL_67850d1307714a7faf9907ca86911640"
      }
     },
     "cd7ad3b935e64efe981cf9f28d481f26": {
      "model_module": "@jupyter-widgets/controls",
      "model_module_version": "1.0.0",
      "model_name": "SliderStyleModel",
      "state": {
       "description_width": ""
      }
     },
     "cdd45dd4f24047f78b85b1a9bd37fc9f": {
      "model_module": "@jupyter-widgets/controls",
      "model_module_version": "1.0.0",
      "model_name": "IntSliderModel",
      "state": {
       "description": "r",
       "layout": "IPY_MODEL_a83665ebed594db195e1ee15116102fa",
       "style": "IPY_MODEL_04750ce289014b89a2abc7b2941ff541",
       "value": 50
      }
     },
     "cde03d6fa0174ff686022105b6c81c9b": {
      "model_module": "@jupyter-widgets/controls",
      "model_module_version": "1.0.0",
      "model_name": "SliderStyleModel",
      "state": {
       "description_width": ""
      }
     },
     "cebf1fa4bc754c1f912397bf62ab73f3": {
      "model_module": "@jupyter-widgets/controls",
      "model_module_version": "1.0.0",
      "model_name": "DescriptionStyleModel",
      "state": {
       "description_width": ""
      }
     },
     "cf0f29811c1e4fe19a4da520a384bdb9": {
      "model_module": "@jupyter-widgets/controls",
      "model_module_version": "1.0.0",
      "model_name": "VBoxModel",
      "state": {
       "children": [
        "IPY_MODEL_cbe904656d3544e5be9a3bb3d0d5a862",
        "IPY_MODEL_af3b3f154c8149e4a4c9c9060a8a32b9"
       ],
       "layout": "IPY_MODEL_b63fcb05e17642aab82f0315f957d681"
      }
     },
     "cf4192ecd5fb4ba590da557b4cc55e06": {
      "model_module": "@jupyter-widgets/controls",
      "model_module_version": "1.0.0",
      "model_name": "IntSliderModel",
      "state": {
       "description": "degrees",
       "layout": "IPY_MODEL_5ceb8600e559424392fdee302872cd3a",
       "max": 360,
       "min": -360,
       "style": "IPY_MODEL_c40c34db878a41d390975f050eefd09b"
      }
     },
     "cf42937fa4be4510b9d4d4a48d4c2bdf": {
      "model_module": "@jupyter-widgets/controls",
      "model_module_version": "1.0.0",
      "model_name": "SliderStyleModel",
      "state": {
       "description_width": ""
      }
     },
     "cf8b810cdd234a4f9e04769fd5a4cdbc": {
      "model_module": "@jupyter-widgets/base",
      "model_module_version": "1.0.0",
      "model_name": "LayoutModel",
      "state": {}
     },
     "cfe0245f48dd46f288899164a0a516bd": {
      "model_module": "@jupyter-widgets/base",
      "model_module_version": "1.0.0",
      "model_name": "LayoutModel",
      "state": {}
     },
     "cfe89f4af3244759b20f47f70a43c991": {
      "model_module": "@jupyter-widgets/controls",
      "model_module_version": "1.0.0",
      "model_name": "SliderStyleModel",
      "state": {
       "description_width": ""
      }
     },
     "d01240ca20bf4e438c4f59530776f144": {
      "model_module": "jp_proxy_widget",
      "model_module_version": "^0.3.4",
      "model_name": "JSProxyModel",
      "state": {
       "_model_module_version": "^0.3.4",
       "_send_counter": 2,
       "_view_module_version": "^0.3.4",
       "error_msg": "No error",
       "layout": "IPY_MODEL_32ea6d58b7d14d52af1ea024f738485b",
       "rendered": true,
       "status": "Got results."
      }
     },
     "d025c876be4c40a984dbb4f7c441bae4": {
      "model_module": "@jupyter-widgets/base",
      "model_module_version": "1.0.0",
      "model_name": "LayoutModel",
      "state": {}
     },
     "d02f7cff984e4801b62d910beda653a2": {
      "model_module": "@jupyter-widgets/controls",
      "model_module_version": "1.0.0",
      "model_name": "SliderStyleModel",
      "state": {
       "description_width": ""
      }
     },
     "d03f96aa10e64b6c8138092e035a2900": {
      "model_module": "@jupyter-widgets/controls",
      "model_module_version": "1.0.0",
      "model_name": "HTMLModel",
      "state": {
       "layout": "IPY_MODEL_dd9d04494d2b4e9ab95331b4e5686841",
       "style": "IPY_MODEL_c8408daa8eae4c0cb4f93df44aa93bf8",
       "value": "<img src=\"interactive_circle.png\" id=\"snapshot_id_23_1536247025635\"/>\n <div id=\"snapshot_id_24_1536247025635\">interactive_circle.png</div>"
      }
     },
     "d0b2a1f5bc104761968b1bc483afc644": {
      "model_module": "@jupyter-widgets/controls",
      "model_module_version": "1.0.0",
      "model_name": "IntSliderModel",
      "state": {
       "description": "r",
       "layout": "IPY_MODEL_a89e0eae175246b4813f7ab11a7d7dbc",
       "style": "IPY_MODEL_92ba613b77e24e91994e5756cb58ab09",
       "value": 50
      }
     },
     "d0ba5aca9c704b0692a1d5a6eb89503d": {
      "model_module": "@jupyter-widgets/controls",
      "model_module_version": "1.0.0",
      "model_name": "SliderStyleModel",
      "state": {
       "description_width": ""
      }
     },
     "d0c0b3a2ad8746e4bb588b59873a55a2": {
      "model_module": "@jupyter-widgets/base",
      "model_module_version": "1.0.0",
      "model_name": "LayoutModel",
      "state": {}
     },
     "d0ca7f495cfa4489923a3e0bdf804d9a": {
      "model_module": "@jupyter-widgets/controls",
      "model_module_version": "1.0.0",
      "model_name": "DescriptionStyleModel",
      "state": {
       "description_width": ""
      }
     },
     "d13360f84ee84b82b8e287ff3167fd95": {
      "model_module": "@jupyter-widgets/controls",
      "model_module_version": "1.0.0",
      "model_name": "SliderStyleModel",
      "state": {
       "description_width": ""
      }
     },
     "d16ce705106246aa8e9cff44917407f1": {
      "model_module": "@jupyter-widgets/controls",
      "model_module_version": "1.0.0",
      "model_name": "DescriptionStyleModel",
      "state": {
       "description_width": ""
      }
     },
     "d17ea52f39a943bb92a0f6363871dbfb": {
      "model_module": "@jupyter-widgets/base",
      "model_module_version": "1.0.0",
      "model_name": "LayoutModel",
      "state": {}
     },
     "d196b922cf4042258da63e117d905660": {
      "model_module": "@jupyter-widgets/controls",
      "model_module_version": "1.0.0",
      "model_name": "SliderStyleModel",
      "state": {
       "description_width": ""
      }
     },
     "d19ad66917bd4e0182562d767ed3194d": {
      "model_module": "@jupyter-widgets/controls",
      "model_module_version": "1.0.0",
      "model_name": "IntSliderModel",
      "state": {
       "description": "blue",
       "layout": "IPY_MODEL_3b6a98c3ea114cb1b06fc2ca7dc9aedb",
       "max": 255,
       "style": "IPY_MODEL_3de8102e5a3a44ce8724230f8f2e9100",
       "value": 255
      }
     },
     "d1ada41b2e654acda88a78603382310e": {
      "model_module": "@jupyter-widgets/base",
      "model_module_version": "1.0.0",
      "model_name": "LayoutModel",
      "state": {}
     },
     "d1b3050e14844c7eb8137e2b371b7581": {
      "model_module": "@jupyter-widgets/base",
      "model_module_version": "1.0.0",
      "model_name": "LayoutModel",
      "state": {}
     },
     "d1d79deffd9f4d61a7ea1e864ca9bfab": {
      "model_module": "@jupyter-widgets/controls",
      "model_module_version": "1.0.0",
      "model_name": "DescriptionStyleModel",
      "state": {
       "description_width": ""
      }
     },
     "d1f525c6449d492d8af7218ac678b253": {
      "model_module": "@jupyter-widgets/controls",
      "model_module_version": "1.0.0",
      "model_name": "SliderStyleModel",
      "state": {
       "description_width": ""
      }
     },
     "d2042340855b454cb1f490989cdf1528": {
      "model_module": "@jupyter-widgets/controls",
      "model_module_version": "1.0.0",
      "model_name": "DropdownModel",
      "state": {
       "_options_labels": [
        "normal",
        "italic",
        "oblique"
       ],
       "description": "style",
       "index": 0,
       "layout": "IPY_MODEL_12133bd722a34099bd9ce66a13e0c5f9",
       "style": "IPY_MODEL_0eba418d3b5a444db633bcf466885c19"
      }
     },
     "d20c0b56f9634cae99e74642551a9373": {
      "model_module": "@jupyter-widgets/base",
      "model_module_version": "1.0.0",
      "model_name": "LayoutModel",
      "state": {}
     },
     "d2573eb5c2004b61a90802620c6d8987": {
      "model_module": "@jupyter-widgets/controls",
      "model_module_version": "1.0.0",
      "model_name": "FloatSliderModel",
      "state": {
       "description": "alpha",
       "layout": "IPY_MODEL_66a30f5ab06340d2ac9f2895172416b8",
       "max": 1,
       "step": 0.1,
       "style": "IPY_MODEL_fcc14482bfae46bcafffa7bb92278435",
       "value": 1
      }
     },
     "d2660cc3be694b73b15f200e20384739": {
      "model_module": "@jupyter-widgets/controls",
      "model_module_version": "1.0.0",
      "model_name": "SliderStyleModel",
      "state": {
       "description_width": ""
      }
     },
     "d29eb2a6a6b340aaa4b70abd6191736c": {
      "model_module": "@jupyter-widgets/base",
      "model_module_version": "1.0.0",
      "model_name": "LayoutModel",
      "state": {}
     },
     "d2cd4e61e556453281c5ec70e4900d17": {
      "model_module": "@jupyter-widgets/controls",
      "model_module_version": "1.0.0",
      "model_name": "FloatSliderModel",
      "state": {
       "description": "arc",
       "layout": "IPY_MODEL_6d4babb2a84444899740d58c0f97d7d5",
       "max": 6.383185307179586,
       "step": 0.1,
       "style": "IPY_MODEL_d50d3a0cd7344f56a6db3839986cb8c6",
       "value": 3.9
      }
     },
     "d2ee1e268a02467cbec808a81abda56b": {
      "model_module": "@jupyter-widgets/base",
      "model_module_version": "1.0.0",
      "model_name": "LayoutModel",
      "state": {}
     },
     "d33c49d2fac843f1980063863d693a73": {
      "model_module": "@jupyter-widgets/controls",
      "model_module_version": "1.0.0",
      "model_name": "SliderStyleModel",
      "state": {
       "description_width": ""
      }
     },
     "d375e2ae877245d981d9f2e02b42cebb": {
      "model_module": "@jupyter-widgets/controls",
      "model_module_version": "1.0.0",
      "model_name": "SliderStyleModel",
      "state": {
       "description_width": ""
      }
     },
     "d3f1fa849def4623a855a1c53a27eb78": {
      "model_module": "@jupyter-widgets/controls",
      "model_module_version": "1.0.0",
      "model_name": "VBoxModel",
      "state": {
       "children": [
        "IPY_MODEL_e0a1cc0237734710a39ccced2933c321",
        "IPY_MODEL_645127a3289045d98b16205088beb533"
       ],
       "layout": "IPY_MODEL_a4806d08eea944289eaa92240ca246d7"
      }
     },
     "d3f5c0b256e54b97896118642501354b": {
      "model_module": "@jupyter-widgets/controls",
      "model_module_version": "1.0.0",
      "model_name": "TextModel",
      "state": {
       "description": "text",
       "layout": "IPY_MODEL_c02e6d138f9f49de8fb751751ff8683f",
       "style": "IPY_MODEL_0e05788d41df4483b3e7b99b1c765c1b",
       "value": "Stella!"
      }
     },
     "d40835334e7a4d7db5e985e5bb8ba613": {
      "model_module": "@jupyter-widgets/base",
      "model_module_version": "1.0.0",
      "model_name": "LayoutModel",
      "state": {}
     },
     "d489cc2f4f5844a08f377f7dbbf5b611": {
      "model_module": "@jupyter-widgets/base",
      "model_module_version": "1.0.0",
      "model_name": "LayoutModel",
      "state": {}
     },
     "d4c739f16e634587b293f737f2f7b649": {
      "model_module": "@jupyter-widgets/controls",
      "model_module_version": "1.0.0",
      "model_name": "IntSliderModel",
      "state": {
       "description": "green",
       "layout": "IPY_MODEL_df7a4d1d7e4e419d880b0f31047bc61d",
       "max": 255,
       "style": "IPY_MODEL_a2e2e81a41604807a6ef8e383250fce5",
       "value": 127
      }
     },
     "d4d3a91362c8496e8f5e556addf2f7b5": {
      "model_module": "@jupyter-widgets/output",
      "model_module_version": "1.0.0",
      "model_name": "OutputModel",
      "state": {
       "layout": "IPY_MODEL_bfb470373db640ee9f814c2952770fc9",
       "outputs": [
        {
         "name": "stdout",
         "output_type": "stream",
         "text": "color is 'rgba(127,127,127,0)'\n"
        }
       ]
      }
     },
     "d50d3a0cd7344f56a6db3839986cb8c6": {
      "model_module": "@jupyter-widgets/controls",
      "model_module_version": "1.0.0",
      "model_name": "SliderStyleModel",
      "state": {
       "description_width": ""
      }
     },
     "d525e5f6e6d34b9983f1ce5b711abfbd": {
      "model_module": "@jupyter-widgets/base",
      "model_module_version": "1.0.0",
      "model_name": "LayoutModel",
      "state": {}
     },
     "d5447e082de24f6d931e4e96446cb03a": {
      "model_module": "@jupyter-widgets/base",
      "model_module_version": "1.0.0",
      "model_name": "LayoutModel",
      "state": {}
     },
     "d5a5472d832540eaa737314b68a3a3a2": {
      "model_module": "@jupyter-widgets/base",
      "model_module_version": "1.0.0",
      "model_name": "LayoutModel",
      "state": {}
     },
     "d5a5c61c057b4ca69e2ce32b3dbcb9ef": {
      "model_module": "@jupyter-widgets/controls",
      "model_module_version": "1.0.0",
      "model_name": "SliderStyleModel",
      "state": {
       "description_width": ""
      }
     },
     "d62fd1b878a24442ba33a29738dac5e8": {
      "model_module": "@jupyter-widgets/base",
      "model_module_version": "1.0.0",
      "model_name": "LayoutModel",
      "state": {}
     },
     "d63c7726b7504f4684d935833837812e": {
      "model_module": "@jupyter-widgets/controls",
      "model_module_version": "1.0.0",
      "model_name": "DescriptionStyleModel",
      "state": {
       "description_width": ""
      }
     },
     "d6653706996a4cbab546f831008cc494": {
      "model_module": "@jupyter-widgets/controls",
      "model_module_version": "1.0.0",
      "model_name": "DescriptionStyleModel",
      "state": {
       "description_width": ""
      }
     },
     "d67b96605ae94b98a799d311d450e621": {
      "model_module": "@jupyter-widgets/base",
      "model_module_version": "1.0.0",
      "model_name": "LayoutModel",
      "state": {}
     },
     "d688e013caee437596075d31bbea015f": {
      "model_module": "@jupyter-widgets/controls",
      "model_module_version": "1.0.0",
      "model_name": "FloatSliderModel",
      "state": {
       "description": "alpha",
       "layout": "IPY_MODEL_a8aa4011ce7248e1bc0e7b6df579014b",
       "max": 1,
       "step": 0.1,
       "style": "IPY_MODEL_63cc3caefeb54d7b9ad997333309e2e9",
       "value": 1
      }
     },
     "d6bb29c9c3c34159afe9480d0f0d0063": {
      "model_module": "@jupyter-widgets/controls",
      "model_module_version": "1.0.0",
      "model_name": "FloatSliderModel",
      "state": {
       "description": "alpha",
       "layout": "IPY_MODEL_5ce051275ef54c379c8c113ad2438a21",
       "max": 1,
       "step": 0.1,
       "style": "IPY_MODEL_b6494a4a0cf346b986fc8dee4f9f848b",
       "value": 1
      }
     },
     "d6c5c887141848109b075b0c4216c3ad": {
      "model_module": "@jupyter-widgets/controls",
      "model_module_version": "1.0.0",
      "model_name": "IntSliderModel",
      "state": {
       "description": "blue",
       "layout": "IPY_MODEL_c0d8c1bf1f6f47bf858c8882dafbccac",
       "max": 255,
       "style": "IPY_MODEL_3c4f0570b8eb4778b8fcbb1de485171b",
       "value": 169
      }
     },
     "d702235e807f4f6db0dbd681e30efba1": {
      "model_module": "@jupyter-widgets/base",
      "model_module_version": "1.0.0",
      "model_name": "LayoutModel",
      "state": {}
     },
     "d7317b19f73948fe87819792baa135c6": {
      "model_module": "@jupyter-widgets/base",
      "model_module_version": "1.0.0",
      "model_name": "LayoutModel",
      "state": {}
     },
     "d7401e9b00eb4fb7ae4edf25c56d96ba": {
      "model_module": "@jupyter-widgets/output",
      "model_module_version": "1.0.0",
      "model_name": "OutputModel",
      "state": {
       "layout": "IPY_MODEL_35e95b1fc0914ef0976af773085c9a93"
      }
     },
     "d77b6462ad514ee8876ac19f2c622c6b": {
      "model_module": "@jupyter-widgets/controls",
      "model_module_version": "1.0.0",
      "model_name": "IntSliderModel",
      "state": {
       "description": "y",
       "layout": "IPY_MODEL_75b8407b3a7d47b2b2bf8c3687d77742",
       "min": -100,
       "style": "IPY_MODEL_4e1d1a8733fc4cdbb4495a74bc300bd7"
      }
     },
     "d795fc1c655a4c2983521394b5ed6597": {
      "model_module": "@jupyter-widgets/controls",
      "model_module_version": "1.0.0",
      "model_name": "SliderStyleModel",
      "state": {
       "description_width": ""
      }
     },
     "d7dcafbc1a5148768c4f508dd96aa1b8": {
      "model_module": "@jupyter-widgets/controls",
      "model_module_version": "1.0.0",
      "model_name": "FloatSliderModel",
      "state": {
       "description": "alpha",
       "layout": "IPY_MODEL_f28503c961cf4be5a2ac85efc8b3ca09",
       "max": 1,
       "step": 0.1,
       "style": "IPY_MODEL_7ecb5702a6404d959fb8143f078e0cc6",
       "value": 1
      }
     },
     "d815744cd4f94bd2b051388d9d2db9a1": {
      "model_module": "@jupyter-widgets/controls",
      "model_module_version": "1.0.0",
      "model_name": "IntSliderModel",
      "state": {
       "description": "red",
       "layout": "IPY_MODEL_b2d8b29c5c6f4b49aaaa74e35099e219",
       "max": 255,
       "style": "IPY_MODEL_f521da7536784c9f8b3250a1ae22ea03",
       "value": 64
      }
     },
     "d81842e93e5b42d9a2ba4b4d59012c7c": {
      "model_module": "@jupyter-widgets/controls",
      "model_module_version": "1.0.0",
      "model_name": "DescriptionStyleModel",
      "state": {
       "description_width": ""
      }
     },
     "d842b913bbec4d9f97e9be956669039e": {
      "model_module": "@jupyter-widgets/controls",
      "model_module_version": "1.0.0",
      "model_name": "DropdownModel",
      "state": {
       "_options_labels": [
        "left",
        "right",
        "center"
       ],
       "description": "align",
       "index": 2,
       "layout": "IPY_MODEL_d702235e807f4f6db0dbd681e30efba1",
       "style": "IPY_MODEL_b1f2be3248324a98941e7f4a504fe8ff"
      }
     },
     "d860346a4d4c4ed6a843f3216705e6de": {
      "model_module": "jp_proxy_widget",
      "model_module_version": "^0.3.4",
      "model_name": "JSProxyModel",
      "state": {
       "_model_module_version": "^0.3.4",
       "_send_counter": 2,
       "_view_module_version": "^0.3.4",
       "error_msg": "No error",
       "layout": "IPY_MODEL_4244e0c3771c4898942ed4036cba7fb0",
       "rendered": true,
       "status": "Got results."
      }
     },
     "d872cba11b3b4d6399daca4f85f41832": {
      "model_module": "@jupyter-widgets/base",
      "model_module_version": "1.0.0",
      "model_name": "LayoutModel",
      "state": {}
     },
     "d90978939e064552b6538ed9b2eb159a": {
      "model_module": "@jupyter-widgets/controls",
      "model_module_version": "1.0.0",
      "model_name": "VBoxModel",
      "state": {
       "children": [
        "IPY_MODEL_0e9d90c28d0d4074b15b218ae9f92d93",
        "IPY_MODEL_e9ef5378f3bc487b8a5affca7b4866fd"
       ],
       "layout": "IPY_MODEL_9b03adeb39c54861a800974d19db95c3"
      }
     },
     "d923d386f48548b696759f5699fdebc1": {
      "model_module": "@jupyter-widgets/controls",
      "model_module_version": "1.0.0",
      "model_name": "SliderStyleModel",
      "state": {
       "description_width": ""
      }
     },
     "d94394f1cd9c4e2592cb8ae3d2821fdd": {
      "model_module": "@jupyter-widgets/controls",
      "model_module_version": "1.0.0",
      "model_name": "VBoxModel",
      "state": {
       "children": [
        "IPY_MODEL_a05b5071a09645bb88bc12151d42b0a4",
        "IPY_MODEL_a114e28307d7449ab8ad3a5d841450ad"
       ],
       "layout": "IPY_MODEL_9eb8e04e372d42c89f4b8f2668f3579d"
      }
     },
     "d9bbec76e58244b0b3d1de3df4573b5c": {
      "model_module": "@jupyter-widgets/controls",
      "model_module_version": "1.0.0",
      "model_name": "DescriptionStyleModel",
      "state": {
       "description_width": ""
      }
     },
     "d9db047963c74d228091981d5594e831": {
      "model_module": "@jupyter-widgets/base",
      "model_module_version": "1.0.0",
      "model_name": "LayoutModel",
      "state": {}
     },
     "d9f068785a9c422abd494a633656441a": {
      "model_module": "@jupyter-widgets/base",
      "model_module_version": "1.0.0",
      "model_name": "LayoutModel",
      "state": {}
     },
     "da1ebfdf11064cc9863ace7d1f976301": {
      "model_module": "jp_proxy_widget",
      "model_module_version": "^0.3.4",
      "model_name": "JSProxyModel",
      "state": {
       "_model_module_version": "^0.3.4",
       "_send_counter": 11,
       "_view_module_version": "^0.3.4",
       "error_msg": "No error",
       "layout": "IPY_MODEL_b8e66a149abb47b6aa364842a8786bb1",
       "rendered": true,
       "status": "Got results."
      }
     },
     "da3d7780e58d4764b4e1a9f99f36d343": {
      "model_module": "@jupyter-widgets/controls",
      "model_module_version": "1.0.0",
      "model_name": "DescriptionStyleModel",
      "state": {
       "description_width": ""
      }
     },
     "da523e903d2c431894755f0ba0f5a2d4": {
      "model_module": "@jupyter-widgets/controls",
      "model_module_version": "1.0.0",
      "model_name": "VBoxModel",
      "state": {
       "_dom_classes": [
        "widget-interact"
       ],
       "children": [
        "IPY_MODEL_2e6e7f1bd8864607b58b4841cc91d3b7",
        "IPY_MODEL_e1491ca1e07e4150b886aecc22040b14",
        "IPY_MODEL_3a0d309da4274cd6a4c0bc706bc51d81",
        "IPY_MODEL_f76a57e9deae43409bd029d9a760c435",
        "IPY_MODEL_3943f1b913fe4b1e94e48c0a87f56dfd",
        "IPY_MODEL_ba45b99b941e49149faa3102ac0c6bcb",
        "IPY_MODEL_fa62757de3c74db9b81fc5a0178d7852",
        "IPY_MODEL_912bfb4b917e4ffdafcb0a2f358c2668",
        "IPY_MODEL_08d6ef584754424bb9a274086ea50c18",
        "IPY_MODEL_bb806e7ec94f45a2b8cea6e2ae2255b9",
        "IPY_MODEL_3af941c9e342491c87e295f01a280228",
        "IPY_MODEL_ca258b5b09504167b78ab64eefe65565"
       ],
       "layout": "IPY_MODEL_c0cb3cd4ab494d718bc2675688df6894"
      }
     },
     "da82f84716a94fc8bbe5631f5be582a1": {
      "model_module": "@jupyter-widgets/controls",
      "model_module_version": "1.0.0",
      "model_name": "VBoxModel",
      "state": {
       "children": [
        "IPY_MODEL_60b5b862ab7e4d7aaa8ce24191ab6e24",
        "IPY_MODEL_685d33cc6c0d4570ae478d344c6b31ac"
       ],
       "layout": "IPY_MODEL_9f94ba3004d74657a0786be9f7be1693"
      }
     },
     "da8e78505c804e40a83cb4917f49f0fe": {
      "model_module": "@jupyter-widgets/controls",
      "model_module_version": "1.0.0",
      "model_name": "IntSliderModel",
      "state": {
       "description": "y",
       "layout": "IPY_MODEL_201194823eac4061aea9989626d7a85a",
       "min": -100,
       "style": "IPY_MODEL_bd8885ee5ba040a18d194a8f4e2c374a",
       "value": -100
      }
     },
     "daa7b862d9ac456ebe60e2b253244cbf": {
      "model_module": "@jupyter-widgets/controls",
      "model_module_version": "1.0.0",
      "model_name": "DescriptionStyleModel",
      "state": {
       "description_width": ""
      }
     },
     "dad22985a91a4abf9682bbe4e1fab9f4": {
      "model_module": "@jupyter-widgets/base",
      "model_module_version": "1.0.0",
      "model_name": "LayoutModel",
      "state": {}
     },
     "dae6ec53ddb742848f39962af1172ebe": {
      "model_module": "@jupyter-widgets/controls",
      "model_module_version": "1.0.0",
      "model_name": "SliderStyleModel",
      "state": {
       "description_width": ""
      }
     },
     "db0ce166b6924696a705aee247ce77a0": {
      "model_module": "@jupyter-widgets/base",
      "model_module_version": "1.0.0",
      "model_name": "LayoutModel",
      "state": {}
     },
     "db20cd32cc654c3e8bb2cf4e0dac38a9": {
      "model_module": "@jupyter-widgets/controls",
      "model_module_version": "1.0.0",
      "model_name": "FloatSliderModel",
      "state": {
       "description": "alpha",
       "layout": "IPY_MODEL_0626be14a03e46c183c08afcd0ec95e4",
       "max": 1,
       "step": 0.1,
       "style": "IPY_MODEL_48fd1af6dcd54b858b470952f5e20a3f",
       "value": 1
      }
     },
     "db2aa71d00024b1e9acf939d78cb3d3c": {
      "model_module": "@jupyter-widgets/controls",
      "model_module_version": "1.0.0",
      "model_name": "DescriptionStyleModel",
      "state": {
       "description_width": ""
      }
     },
     "db2d94ea87bc4955884f78c84c4db7c9": {
      "model_module": "@jupyter-widgets/controls",
      "model_module_version": "1.0.0",
      "model_name": "SliderStyleModel",
      "state": {
       "description_width": ""
      }
     },
     "db301255a62d4de1823e5ac83962e8f7": {
      "model_module": "@jupyter-widgets/base",
      "model_module_version": "1.0.0",
      "model_name": "LayoutModel",
      "state": {}
     },
     "dbba1e826ae04c4ca554235ac52af713": {
      "model_module": "@jupyter-widgets/base",
      "model_module_version": "1.0.0",
      "model_name": "LayoutModel",
      "state": {}
     },
     "dbc89399c8b14812b38cbd63a9f3e0e4": {
      "model_module": "@jupyter-widgets/controls",
      "model_module_version": "1.0.0",
      "model_name": "SliderStyleModel",
      "state": {
       "description_width": ""
      }
     },
     "dbdb1c5d6f83451ca77c4d356d62abc3": {
      "model_module": "@jupyter-widgets/base",
      "model_module_version": "1.0.0",
      "model_name": "LayoutModel",
      "state": {}
     },
     "dd2de729d73d4b84aec03741a9f1454b": {
      "model_module": "@jupyter-widgets/base",
      "model_module_version": "1.0.0",
      "model_name": "LayoutModel",
      "state": {}
     },
     "dd7c4e5fce814bd5bda5b8bc4fbf4dbf": {
      "model_module": "@jupyter-widgets/controls",
      "model_module_version": "1.0.0",
      "model_name": "IntSliderModel",
      "state": {
       "description": "green",
       "layout": "IPY_MODEL_1cebc6ca142b426ca866e00db12afa37",
       "max": 255,
       "style": "IPY_MODEL_c93e2d5d660b4e99b657000bd3ec3ae3"
      }
     },
     "dd87b5a13f874675a29a796a3e3cde77": {
      "model_module": "@jupyter-widgets/base",
      "model_module_version": "1.0.0",
      "model_name": "LayoutModel",
      "state": {}
     },
     "dd90881f2b41455cb3bf36652bd2b063": {
      "model_module": "@jupyter-widgets/base",
      "model_module_version": "1.0.0",
      "model_name": "LayoutModel",
      "state": {}
     },
     "dd9d04494d2b4e9ab95331b4e5686841": {
      "model_module": "@jupyter-widgets/base",
      "model_module_version": "1.0.0",
      "model_name": "LayoutModel",
      "state": {}
     },
     "ddd3393332a5443e94ae144936613414": {
      "model_module": "@jupyter-widgets/controls",
      "model_module_version": "1.0.0",
      "model_name": "SliderStyleModel",
      "state": {
       "description_width": ""
      }
     },
     "ddf5f8cc685549199944f2af4ae5e7ef": {
      "model_module": "@jupyter-widgets/base",
      "model_module_version": "1.0.0",
      "model_name": "LayoutModel",
      "state": {}
     },
     "ddf75e291ed14a02a0be36917c41c690": {
      "model_module": "@jupyter-widgets/base",
      "model_module_version": "1.0.0",
      "model_name": "LayoutModel",
      "state": {}
     },
     "de10f80fee2d4343aa67a300996fe8c8": {
      "model_module": "@jupyter-widgets/controls",
      "model_module_version": "1.0.0",
      "model_name": "IntSliderModel",
      "state": {
       "description": "green",
       "layout": "IPY_MODEL_68a5d472c808460f88575659d5105c02",
       "max": 255,
       "style": "IPY_MODEL_9e955b4de449492dbbeb6011b1801f2f",
       "value": 127
      }
     },
     "de2b7e36f65046b7a3ff7664ae38e21c": {
      "model_module": "@jupyter-widgets/controls",
      "model_module_version": "1.0.0",
      "model_name": "FloatSliderModel",
      "state": {
       "description": "alpha",
       "layout": "IPY_MODEL_3b975f906e0549c592a2ba177613ee51",
       "max": 1,
       "step": 0.1,
       "style": "IPY_MODEL_7df9c0d9b588410592a56255c5e7f11b",
       "value": 1
      }
     },
     "de58ca33cece4fca86e212c9a0196fa6": {
      "model_module": "@jupyter-widgets/base",
      "model_module_version": "1.0.0",
      "model_name": "LayoutModel",
      "state": {}
     },
     "de5e9366588d41f780d0a3642db3bef7": {
      "model_module": "@jupyter-widgets/base",
      "model_module_version": "1.0.0",
      "model_name": "LayoutModel",
      "state": {}
     },
     "dec3fa695f0d450b85298ad3b5ffcbdb": {
      "model_module": "@jupyter-widgets/base",
      "model_module_version": "1.0.0",
      "model_name": "LayoutModel",
      "state": {}
     },
     "ded9e389e147452ca56a3240a9d30e44": {
      "model_module": "@jupyter-widgets/base",
      "model_module_version": "1.0.0",
      "model_name": "LayoutModel",
      "state": {}
     },
     "df155fe1c2d543efb3c410dfd6353f37": {
      "model_module": "@jupyter-widgets/controls",
      "model_module_version": "1.0.0",
      "model_name": "SliderStyleModel",
      "state": {
       "description_width": ""
      }
     },
     "df1d9b7a7cac43458f352335b9e348a9": {
      "model_module": "@jupyter-widgets/controls",
      "model_module_version": "1.0.0",
      "model_name": "HTMLModel",
      "state": {
       "layout": "IPY_MODEL_f39bf166d32b4876974467e54492ccd2",
       "style": "IPY_MODEL_627b0f1fbe134933ba66c3eda7737f0b",
       "value": "<img src=\"interactive_text.png\" id=\"snapshot_id_3_1536269896606\"/>\n <div id=\"snapshot_id_4_1536269896606\">interactive_text.png</div>"
      }
     },
     "df3a643769c54959a85cc571b9fadeb8": {
      "model_module": "@jupyter-widgets/base",
      "model_module_version": "1.0.0",
      "model_name": "LayoutModel",
      "state": {}
     },
     "df5db89374544bec9858fa5e6039bdcd": {
      "model_module": "@jupyter-widgets/controls",
      "model_module_version": "1.0.0",
      "model_name": "IntSliderModel",
      "state": {
       "description": "blue",
       "layout": "IPY_MODEL_726f550660b849dd8934676e66b138d7",
       "max": 255,
       "style": "IPY_MODEL_3f0586023cfc4e79ae4c477593a84b5a",
       "value": 157
      }
     },
     "df7a4d1d7e4e419d880b0f31047bc61d": {
      "model_module": "@jupyter-widgets/base",
      "model_module_version": "1.0.0",
      "model_name": "LayoutModel",
      "state": {}
     },
     "df84fa7f92924c3e84870f415c4a2807": {
      "model_module": "@jupyter-widgets/base",
      "model_module_version": "1.0.0",
      "model_name": "LayoutModel",
      "state": {}
     },
     "df9f78fe5d944e7d917f959f904c1cef": {
      "model_module": "@jupyter-widgets/controls",
      "model_module_version": "1.0.0",
      "model_name": "TextModel",
      "state": {
       "description": "text",
       "layout": "IPY_MODEL_fdeda37a23304e3c83c7ca5e1285f5d4",
       "style": "IPY_MODEL_f6e6d01f5a684fddb2e934d4dd159ffb",
       "value": "Stella!"
      }
     },
     "dfa493b7cfcc4abdbba3928db2b60469": {
      "model_module": "@jupyter-widgets/base",
      "model_module_version": "1.0.0",
      "model_name": "LayoutModel",
      "state": {}
     },
     "dfdced628a9b461d8524204087698643": {
      "model_module": "@jupyter-widgets/base",
      "model_module_version": "1.0.0",
      "model_name": "LayoutModel",
      "state": {}
     },
     "e08df3d34c844af6ad6882c76d7c9cfd": {
      "model_module": "@jupyter-widgets/controls",
      "model_module_version": "1.0.0",
      "model_name": "DescriptionStyleModel",
      "state": {
       "description_width": ""
      }
     },
     "e0a1a94d2f5a4fb1ada66500cf1f8ad0": {
      "model_module": "@jupyter-widgets/controls",
      "model_module_version": "1.0.0",
      "model_name": "TextModel",
      "state": {
       "description": "family",
       "layout": "IPY_MODEL_f10987f4328f45748cfc8273d847b593",
       "style": "IPY_MODEL_bb91c19a4f9549809beca6f9182514df",
       "value": "times courier arial"
      }
     },
     "e0a1cc0237734710a39ccced2933c321": {
      "model_module": "jp_proxy_widget",
      "model_module_version": "^0.3.4",
      "model_name": "JSProxyModel",
      "state": {
       "_model_module_version": "^0.3.4",
       "_send_counter": 2101,
       "_view_module_version": "^0.3.4",
       "error_msg": "No error",
       "layout": "IPY_MODEL_6984b119343d445d94d0a80eb550ecb3",
       "rendered": true,
       "status": "Got results."
      }
     },
     "e0b9e17141304f02b96350569ed8ebf7": {
      "model_module": "@jupyter-widgets/controls",
      "model_module_version": "1.0.0",
      "model_name": "SliderStyleModel",
      "state": {
       "description_width": ""
      }
     },
     "e0de4433845a419cab81b07178cd56e2": {
      "model_module": "@jupyter-widgets/controls",
      "model_module_version": "1.0.0",
      "model_name": "SliderStyleModel",
      "state": {
       "description_width": ""
      }
     },
     "e1491ca1e07e4150b886aecc22040b14": {
      "model_module": "@jupyter-widgets/controls",
      "model_module_version": "1.0.0",
      "model_name": "IntSliderModel",
      "state": {
       "description": "y",
       "layout": "IPY_MODEL_4058b1e23a90471eb4ca008b7ff750ba",
       "min": -100,
       "style": "IPY_MODEL_21d381f803b8484aae27273d3599000f",
       "value": 44
      }
     },
     "e1db56c42a93445b87fb4ceab0c31bfd": {
      "model_module": "@jupyter-widgets/controls",
      "model_module_version": "1.0.0",
      "model_name": "DescriptionStyleModel",
      "state": {
       "description_width": ""
      }
     },
     "e25783d938dc4598bb1058ddea831ec9": {
      "model_module": "@jupyter-widgets/output",
      "model_module_version": "1.0.0",
      "model_name": "OutputModel",
      "state": {
       "layout": "IPY_MODEL_9cb98f819a5b4475abf5aca35639f5ab"
      }
     },
     "e27294ed0b9f43debf2da6558b9e9312": {
      "model_module": "@jupyter-widgets/output",
      "model_module_version": "1.0.0",
      "model_name": "OutputModel",
      "state": {
       "layout": "IPY_MODEL_ba647b9b051e42c390a841dc6dbca8e2"
      }
     },
     "e2b7b7cf6bd84cf2b8e2508e1eadd77d": {
      "model_module": "@jupyter-widgets/controls",
      "model_module_version": "1.0.0",
      "model_name": "SliderStyleModel",
      "state": {
       "description_width": ""
      }
     },
     "e3480fe80c6e440a87eb2c50fe696bc2": {
      "model_module": "@jupyter-widgets/controls",
      "model_module_version": "1.0.0",
      "model_name": "IntSliderModel",
      "state": {
       "description": "green",
       "layout": "IPY_MODEL_046c87648fce4eb4a6069b0703262f0c",
       "max": 255,
       "style": "IPY_MODEL_7c7ad3f13d354330bc50ec31699a16d1"
      }
     },
     "e3a27991e36c432ca73ed49b734ca438": {
      "model_module": "@jupyter-widgets/base",
      "model_module_version": "1.0.0",
      "model_name": "LayoutModel",
      "state": {}
     },
     "e3afa9ee23c9461eb9135a3117f13943": {
      "model_module": "@jupyter-widgets/base",
      "model_module_version": "1.0.0",
      "model_name": "LayoutModel",
      "state": {}
     },
     "e44992d2ae794ddba90abd4bfc383a8b": {
      "model_module": "@jupyter-widgets/controls",
      "model_module_version": "1.0.0",
      "model_name": "IntSliderModel",
      "state": {
       "description": "blue",
       "layout": "IPY_MODEL_dfdced628a9b461d8524204087698643",
       "max": 255,
       "style": "IPY_MODEL_28c768d661ed4dd2b53706c4e9b8c215",
       "value": 255
      }
     },
     "e44b0f26ce1d42c4b21b8def7676ca57": {
      "model_module": "@jupyter-widgets/controls",
      "model_module_version": "1.0.0",
      "model_name": "SliderStyleModel",
      "state": {
       "description_width": ""
      }
     },
     "e4758ba7d91e43ce8d74d6c2fd0c0536": {
      "model_module": "@jupyter-widgets/controls",
      "model_module_version": "1.0.0",
      "model_name": "SliderStyleModel",
      "state": {
       "description_width": ""
      }
     },
     "e49657814c944ef6a65ab5c0ca35e6fb": {
      "model_module": "@jupyter-widgets/base",
      "model_module_version": "1.0.0",
      "model_name": "LayoutModel",
      "state": {}
     },
     "e499469e7acb41a19fee5830311fd39f": {
      "model_module": "jp_proxy_widget",
      "model_module_version": "^0.3.4",
      "model_name": "JSProxyModel",
      "state": {
       "_model_module_version": "^0.3.4",
       "_send_counter": 1023,
       "_view_module_version": "^0.3.4",
       "error_msg": "No error",
       "layout": "IPY_MODEL_c4b7593a065e4e24a68d1df1c07c954b",
       "rendered": true,
       "status": "Got results."
      }
     },
     "e4bcda695d204ba39d554c6d55ab3ab9": {
      "model_module": "@jupyter-widgets/controls",
      "model_module_version": "1.0.0",
      "model_name": "DropdownModel",
      "state": {
       "_options_labels": [
        "bottom",
        "center"
       ],
       "description": "valign",
       "index": 1,
       "layout": "IPY_MODEL_840a44daa2cd47ec836a99b51eb473a3",
       "style": "IPY_MODEL_6cb4861d65214de5a18c33165b39ea47"
      }
     },
     "e4e2367e30d84ba4990d16528a0fbb9b": {
      "model_module": "@jupyter-widgets/base",
      "model_module_version": "1.0.0",
      "model_name": "LayoutModel",
      "state": {}
     },
     "e4fd915814f643dcb747cf0b0896e38d": {
      "model_module": "@jupyter-widgets/base",
      "model_module_version": "1.0.0",
      "model_name": "LayoutModel",
      "state": {}
     },
     "e513688423cc44048a797845f53385b7": {
      "model_module": "@jupyter-widgets/base",
      "model_module_version": "1.0.0",
      "model_name": "LayoutModel",
      "state": {}
     },
     "e5198c63df6a4f98ad0c52b2aa2751f6": {
      "model_module": "@jupyter-widgets/base",
      "model_module_version": "1.0.0",
      "model_name": "LayoutModel",
      "state": {}
     },
     "e53b4178d88e46ff9ba9ef1fc391a8e0": {
      "model_module": "@jupyter-widgets/base",
      "model_module_version": "1.0.0",
      "model_name": "LayoutModel",
      "state": {}
     },
     "e549d5e587314f108d071f7f5b7fd284": {
      "model_module": "@jupyter-widgets/base",
      "model_module_version": "1.0.0",
      "model_name": "LayoutModel",
      "state": {}
     },
     "e55dc9e053e2472ab463a184639bbe2d": {
      "model_module": "@jupyter-widgets/controls",
      "model_module_version": "1.0.0",
      "model_name": "DescriptionStyleModel",
      "state": {
       "description_width": ""
      }
     },
     "e5603efeb2f944b2b2e818acfcab231b": {
      "model_module": "@jupyter-widgets/controls",
      "model_module_version": "1.0.0",
      "model_name": "SliderStyleModel",
      "state": {
       "description_width": ""
      }
     },
     "e5a3b89a6f29427f8fb4de0aab04a10e": {
      "model_module": "@jupyter-widgets/controls",
      "model_module_version": "1.0.0",
      "model_name": "DescriptionStyleModel",
      "state": {
       "description_width": ""
      }
     },
     "e6392e303d9242039fe63154afd7e4f7": {
      "model_module": "@jupyter-widgets/base",
      "model_module_version": "1.0.0",
      "model_name": "LayoutModel",
      "state": {}
     },
     "e66ef1c240fe473a82e5364c06dd77eb": {
      "model_module": "@jupyter-widgets/base",
      "model_module_version": "1.0.0",
      "model_name": "LayoutModel",
      "state": {}
     },
     "e67f9df590ed40cfb35226350afaad70": {
      "model_module": "@jupyter-widgets/controls",
      "model_module_version": "1.0.0",
      "model_name": "SliderStyleModel",
      "state": {
       "description_width": ""
      }
     },
     "e6b2d7b4a4f546af8e4db2e2c9a94138": {
      "model_module": "@jupyter-widgets/base",
      "model_module_version": "1.0.0",
      "model_name": "LayoutModel",
      "state": {}
     },
     "e6cb559aabf0405a9324f390c79a2878": {
      "model_module": "@jupyter-widgets/base",
      "model_module_version": "1.0.0",
      "model_name": "LayoutModel",
      "state": {}
     },
     "e6fa67ee18e44c5b869ba6e3f8df74a1": {
      "model_module": "@jupyter-widgets/controls",
      "model_module_version": "1.0.0",
      "model_name": "SliderStyleModel",
      "state": {
       "description_width": ""
      }
     },
     "e70715f5d7ef4e95b8214f73bac1a47c": {
      "model_module": "@jupyter-widgets/controls",
      "model_module_version": "1.0.0",
      "model_name": "DescriptionStyleModel",
      "state": {
       "description_width": ""
      }
     },
     "e71b18ea780840dd9e65414d38ee2f8a": {
      "model_module": "@jupyter-widgets/base",
      "model_module_version": "1.0.0",
      "model_name": "LayoutModel",
      "state": {}
     },
     "e74eb8dbfbcd40829caf5e95583228ef": {
      "model_module": "@jupyter-widgets/controls",
      "model_module_version": "1.0.0",
      "model_name": "DescriptionStyleModel",
      "state": {
       "description_width": ""
      }
     },
     "e75a16f623c34d9aa7eecfc716fcd7c1": {
      "model_module": "@jupyter-widgets/base",
      "model_module_version": "1.0.0",
      "model_name": "LayoutModel",
      "state": {}
     },
     "e7873677b53545329c9ff13c24157804": {
      "model_module": "@jupyter-widgets/controls",
      "model_module_version": "1.0.0",
      "model_name": "SliderStyleModel",
      "state": {
       "description_width": ""
      }
     },
     "e7a5af3f61d64513beb57f80d97b278d": {
      "model_module": "@jupyter-widgets/controls",
      "model_module_version": "1.0.0",
      "model_name": "DescriptionStyleModel",
      "state": {
       "description_width": ""
      }
     },
     "e7e326694f314744aace20192ba327d7": {
      "model_module": "@jupyter-widgets/base",
      "model_module_version": "1.0.0",
      "model_name": "LayoutModel",
      "state": {}
     },
     "e7f79859af144c03b56503b8f391dad1": {
      "model_module": "@jupyter-widgets/controls",
      "model_module_version": "1.0.0",
      "model_name": "SliderStyleModel",
      "state": {
       "description_width": ""
      }
     },
     "e7fae97e109c45d68789d622d9732fa9": {
      "model_module": "@jupyter-widgets/controls",
      "model_module_version": "1.0.0",
      "model_name": "VBoxModel",
      "state": {
       "_dom_classes": [
        "widget-interact"
       ],
       "children": [
        "IPY_MODEL_6a056c05c1ef4f36a9b6550e78d81514",
        "IPY_MODEL_3dd26f985ec447d7b940e09ff20449cc",
        "IPY_MODEL_f02ddb05ec0d4446aa7a87b0665ad56a",
        "IPY_MODEL_58efc72c5ca841459d12dbd099586c17",
        "IPY_MODEL_fb06209e318045c6a357c1ae8abfcbfd",
        "IPY_MODEL_c29b55373efe461cb5c9e0ba138d2aca",
        "IPY_MODEL_ccbee4771d7e447d890c9d0c9d3dccfe",
        "IPY_MODEL_9c1a21c8feb74bc592dd864e35b54ecf",
        "IPY_MODEL_064e07db63be46ad9183085176277221",
        "IPY_MODEL_e4bcda695d204ba39d554c6d55ab3ab9",
        "IPY_MODEL_06ce8190038640b692a9c32725acc6ec",
        "IPY_MODEL_ba990482d6ab414da140a45614b800d7",
        "IPY_MODEL_d6c5c887141848109b075b0c4216c3ad",
        "IPY_MODEL_fb00ed8e70a0419092fb5ee80b719723",
        "IPY_MODEL_fb6cb5470d934f358abbba72911f58b2"
       ],
       "layout": "IPY_MODEL_232ea3afd38f4320b9d312aca6b15ef9"
      }
     },
     "e831c1d4f55c448ea55761cc3d2f358d": {
      "model_module": "@jupyter-widgets/controls",
      "model_module_version": "1.0.0",
      "model_name": "SliderStyleModel",
      "state": {
       "description_width": ""
      }
     },
     "e834b25fdfb947ca8910cfc2370b8f01": {
      "model_module": "@jupyter-widgets/controls",
      "model_module_version": "1.0.0",
      "model_name": "DropdownModel",
      "state": {
       "_options_labels": [
        "",
        "blue",
        "green",
        "pink",
        "brown",
        "cornsilk"
       ],
       "description": "background",
       "index": 0,
       "layout": "IPY_MODEL_07535ba499da411aa4054322b7bb66b5",
       "style": "IPY_MODEL_9da7a800c2c34b2992db727738b9cdf6"
      }
     },
     "e83de38c04c542ce8601012522b6b783": {
      "model_module": "@jupyter-widgets/controls",
      "model_module_version": "1.0.0",
      "model_name": "IntSliderModel",
      "state": {
       "description": "red",
       "layout": "IPY_MODEL_90ebb19dc172489fa3d16ac87e34205d",
       "max": 255,
       "style": "IPY_MODEL_cfe89f4af3244759b20f47f70a43c991",
       "value": 255
      }
     },
     "e85106bc617b43a4ba48b518146dfa82": {
      "model_module": "jp_proxy_widget",
      "model_module_version": "^0.3.4",
      "model_name": "JSProxyModel",
      "state": {
       "_model_module_version": "^0.3.4",
       "_send_counter": 11,
       "_view_module_version": "^0.3.4",
       "error_msg": "No error",
       "layout": "IPY_MODEL_c041f8da5cd642a085f0ae3c792f5185",
       "rendered": true,
       "status": "Got results."
      }
     },
     "e889555f940c491bb5758e4d8e57468e": {
      "model_module": "@jupyter-widgets/controls",
      "model_module_version": "1.0.0",
      "model_name": "DescriptionStyleModel",
      "state": {
       "description_width": ""
      }
     },
     "e98021b08797425eae55d6085c143838": {
      "model_module": "@jupyter-widgets/controls",
      "model_module_version": "1.0.0",
      "model_name": "DescriptionStyleModel",
      "state": {
       "description_width": ""
      }
     },
     "e9c6182c9a2d4eae8cec7ca083c13915": {
      "model_module": "@jupyter-widgets/base",
      "model_module_version": "1.0.0",
      "model_name": "LayoutModel",
      "state": {}
     },
     "e9cab7fcdb4d473cbfd652caa886a624": {
      "model_module": "@jupyter-widgets/controls",
      "model_module_version": "1.0.0",
      "model_name": "VBoxModel",
      "state": {
       "children": [
        "IPY_MODEL_9aaef4d566be4d819c95c13b8afc5822",
        "IPY_MODEL_fb11654398a84c8d9e44e7eef5f91b69"
       ],
       "layout": "IPY_MODEL_f33f8397f66947ce9ecae3b39681ef64"
      }
     },
     "e9ef5378f3bc487b8a5affca7b4866fd": {
      "model_module": "jp_proxy_widget",
      "model_module_version": "^0.3.4",
      "model_name": "JSProxyModel",
      "state": {
       "_model_module_version": "^0.3.4",
       "_send_counter": 2,
       "_view_module_version": "^0.3.4",
       "error_msg": "No error",
       "layout": "IPY_MODEL_76bad0f4ed7044008a4bcc2899bb7098",
       "rendered": true,
       "status": "Got results."
      }
     },
     "ea0589f608ee4a999a286cbd873cdc26": {
      "model_module": "@jupyter-widgets/base",
      "model_module_version": "1.0.0",
      "model_name": "LayoutModel",
      "state": {}
     },
     "ea25bef00ba24a6592b58c5416758faa": {
      "model_module": "@jupyter-widgets/base",
      "model_module_version": "1.0.0",
      "model_name": "LayoutModel",
      "state": {}
     },
     "ea29709f46784f1892c02378fab3506b": {
      "model_module": "jp_proxy_widget",
      "model_module_version": "^0.3.4",
      "model_name": "JSProxyModel",
      "state": {
       "_model_module_version": "^0.3.4",
       "_send_counter": 7,
       "_view_module_version": "^0.3.4",
       "error_msg": "No error",
       "layout": "IPY_MODEL_732d649489a34577a696699a342f66d7",
       "rendered": true,
       "status": "Got results."
      }
     },
     "ea37af0ef8b24e00b405dafc8dc23883": {
      "model_module": "@jupyter-widgets/base",
      "model_module_version": "1.0.0",
      "model_name": "LayoutModel",
      "state": {}
     },
     "ea711bfde4e241de837b021de9260751": {
      "model_module": "@jupyter-widgets/base",
      "model_module_version": "1.0.0",
      "model_name": "LayoutModel",
      "state": {}
     },
     "ea99362f266a4e77a7f42eb24a6c7d11": {
      "model_module": "@jupyter-widgets/controls",
      "model_module_version": "1.0.0",
      "model_name": "IntSliderModel",
      "state": {
       "description": "lineWidth",
       "layout": "IPY_MODEL_cd0e45c33eda496aa1a9f1cef149434a",
       "max": 20,
       "style": "IPY_MODEL_6b8599e059314d8daf65fd432b507481",
       "value": 10
      }
     },
     "ead796fc3a1d4c3d8adb40e912cec8f2": {
      "model_module": "@jupyter-widgets/controls",
      "model_module_version": "1.0.0",
      "model_name": "DescriptionStyleModel",
      "state": {
       "description_width": ""
      }
     },
     "eb34d0c21b7d4222a94bd3e1e6047192": {
      "model_module": "@jupyter-widgets/controls",
      "model_module_version": "1.0.0",
      "model_name": "TabModel",
      "state": {
       "_titles": {
        "0": "Canvas",
        "1": "Snapshot"
       },
       "children": [
        "IPY_MODEL_33a3b06fd72546baa0cf0b1089f6f202",
        "IPY_MODEL_3b86f2f670b3422d9db3de7334d5048b"
       ],
       "layout": "IPY_MODEL_1e5614a3190644ec825933d20236f387"
      }
     },
     "eb712f6e5a7240ecb3b25dbdbcbf3ad2": {
      "model_module": "@jupyter-widgets/output",
      "model_module_version": "1.0.0",
      "model_name": "OutputModel",
      "state": {
       "layout": "IPY_MODEL_3dc8cd0d64c443d2a4c05a0bd83bf747",
       "outputs": [
        {
         "name": "stdout",
         "output_type": "stream",
         "text": "color is 'rgba(127,127,127,0.5)'\n"
        }
       ]
      }
     },
     "eb72982bceaf41dd8151e96f31b53171": {
      "model_module": "@jupyter-widgets/base",
      "model_module_version": "1.0.0",
      "model_name": "LayoutModel",
      "state": {}
     },
     "eb760af13372405c9cebc564826572b4": {
      "model_module": "@jupyter-widgets/controls",
      "model_module_version": "1.0.0",
      "model_name": "HTMLModel",
      "state": {
       "layout": "IPY_MODEL_62336b3133e249b190ab50d7dff4dff8",
       "style": "IPY_MODEL_02107ae2477d48f7913fd5e0fc365cea",
       "value": "<img src=\"interactive_text2.png\" id=\"snapshot_id_9_1536321043573\"/>\n <div id=\"snapshot_id_10_1536321043573\">interactive_text2.png</div>"
      }
     },
     "ebcefb249b364779bb48896bc257b8a1": {
      "model_module": "@jupyter-widgets/base",
      "model_module_version": "1.0.0",
      "model_name": "LayoutModel",
      "state": {}
     },
     "ebd01edf2bf44bc1a1c211d0f03f86bf": {
      "model_module": "@jupyter-widgets/controls",
      "model_module_version": "1.0.0",
      "model_name": "DescriptionStyleModel",
      "state": {
       "description_width": ""
      }
     },
     "ebe110ba08264db3812c906388dd9d05": {
      "model_module": "@jupyter-widgets/controls",
      "model_module_version": "1.0.0",
      "model_name": "IntSliderModel",
      "state": {
       "description": "blue",
       "layout": "IPY_MODEL_dad22985a91a4abf9682bbe4e1fab9f4",
       "max": 255,
       "style": "IPY_MODEL_4c7bc2b5bdf24282a8b0b134ce50ecd0",
       "value": 255
      }
     },
     "ec1299cf0eff4dde8459fcacd2ce681e": {
      "model_module": "@jupyter-widgets/controls",
      "model_module_version": "1.0.0",
      "model_name": "IntSliderModel",
      "state": {
       "description": "points",
       "layout": "IPY_MODEL_b2c290b1a2b64498aa9fdfa7a8b1796b",
       "style": "IPY_MODEL_e0de4433845a419cab81b07178cd56e2",
       "value": 20
      }
     },
     "ec34bcf8e98546d69b3f74a4a63858bc": {
      "model_module": "@jupyter-widgets/controls",
      "model_module_version": "1.0.0",
      "model_name": "HTMLModel",
      "state": {
       "layout": "IPY_MODEL_350e4ece20144b80a78bc6fb0349ff98",
       "style": "IPY_MODEL_879e1ac9260c48e7a490ab3b7f56d118",
       "value": "<img src=\"interactive_text.png\" id=\"snapshot_id_9_1536269961362\"/>\n <div id=\"snapshot_id_10_1536269961362\">interactive_text.png</div>"
      }
     },
     "ec54a87c6ae7444ea7a2329122d08aa4": {
      "model_module": "@jupyter-widgets/base",
      "model_module_version": "1.0.0",
      "model_name": "LayoutModel",
      "state": {}
     },
     "ec5aa57ed6cc4905bbae2c4861c17a69": {
      "model_module": "@jupyter-widgets/controls",
      "model_module_version": "1.0.0",
      "model_name": "SliderStyleModel",
      "state": {
       "description_width": ""
      }
     },
     "ec9a4c8fe6df4f229b5b07f6fdddcf76": {
      "model_module": "@jupyter-widgets/base",
      "model_module_version": "1.0.0",
      "model_name": "LayoutModel",
      "state": {}
     },
     "ed345145463f44bc9ad388ed5bd3801b": {
      "model_module": "@jupyter-widgets/controls",
      "model_module_version": "1.0.0",
      "model_name": "DescriptionStyleModel",
      "state": {
       "description_width": ""
      }
     },
     "ed37bd2cb89e4b5bace8145f7d374df0": {
      "model_module": "@jupyter-widgets/base",
      "model_module_version": "1.0.0",
      "model_name": "LayoutModel",
      "state": {}
     },
     "ed6fa61031cb42c99fa1bb1798922ec4": {
      "model_module": "@jupyter-widgets/controls",
      "model_module_version": "1.0.0",
      "model_name": "SliderStyleModel",
      "state": {
       "description_width": ""
      }
     },
     "edd2847043b649489887a4b779bd688a": {
      "model_module": "@jupyter-widgets/base",
      "model_module_version": "1.0.0",
      "model_name": "LayoutModel",
      "state": {}
     },
     "edfd95925a1e4d5c9525c99e60bc1cc3": {
      "model_module": "@jupyter-widgets/base",
      "model_module_version": "1.0.0",
      "model_name": "LayoutModel",
      "state": {}
     },
     "ee0b471b70304760bff1b1ff5b0d35fc": {
      "model_module": "@jupyter-widgets/base",
      "model_module_version": "1.0.0",
      "model_name": "LayoutModel",
      "state": {}
     },
     "ee0f71b41f5a4ff98255ef8a9a0c439b": {
      "model_module": "@jupyter-widgets/base",
      "model_module_version": "1.0.0",
      "model_name": "LayoutModel",
      "state": {}
     },
     "ee2f850873f74a828a3f233b4ec5a4f8": {
      "model_module": "@jupyter-widgets/controls",
      "model_module_version": "1.0.0",
      "model_name": "SliderStyleModel",
      "state": {
       "description_width": ""
      }
     },
     "eeb34d606c7a40518551bf6836ac8c31": {
      "model_module": "@jupyter-widgets/controls",
      "model_module_version": "1.0.0",
      "model_name": "SliderStyleModel",
      "state": {
       "description_width": ""
      }
     },
     "eec0b5554b2e473bb0d1cbc57072580b": {
      "model_module": "@jupyter-widgets/controls",
      "model_module_version": "1.0.0",
      "model_name": "FloatSliderModel",
      "state": {
       "description": "alpha",
       "layout": "IPY_MODEL_4bcc3ac8944d48539170d1e89bce0417",
       "max": 1,
       "step": 0.1,
       "style": "IPY_MODEL_215be76950b64d469f5cac89df9cf8d3",
       "value": 1
      }
     },
     "eed400e9520c4ff5bf3a79899ec94a74": {
      "model_module": "@jupyter-widgets/controls",
      "model_module_version": "1.0.0",
      "model_name": "IntSliderModel",
      "state": {
       "description": "lineWidth",
       "layout": "IPY_MODEL_2ac029db54324f539966573b9e540eba",
       "max": 20,
       "style": "IPY_MODEL_4bc77836274047259dd6a53fc61a70f4",
       "value": 3
      }
     },
     "eef954dc1c954f29bc3df82a2aff1d01": {
      "model_module": "@jupyter-widgets/controls",
      "model_module_version": "1.0.0",
      "model_name": "DescriptionStyleModel",
      "state": {
       "description_width": ""
      }
     },
     "eeff52eb22fa4988ad647bffdc053eb7": {
      "model_module": "@jupyter-widgets/controls",
      "model_module_version": "1.0.0",
      "model_name": "VBoxModel",
      "state": {
       "_dom_classes": [
        "widget-interact"
       ],
       "children": [
        "IPY_MODEL_7918ddc9f71f4f57be08b0acd38345f1",
        "IPY_MODEL_1007244066d04f76af8335f3d0eb323f",
        "IPY_MODEL_42f3a51cc3b94919b42b9103d1d9ddf6",
        "IPY_MODEL_6a32ffecd5d844ea94aa25c0ac8d9f4a",
        "IPY_MODEL_4609185a79fb4121a94d20b90454a359",
        "IPY_MODEL_74df9f0b640c4253bebc717810a94fe9",
        "IPY_MODEL_04288495fdca4527b30a622903cebc85",
        "IPY_MODEL_66a19bf2e4a3430a83fef8e1fc02386c",
        "IPY_MODEL_a82efd7d99d543369d6c7b5f9ee06c4d",
        "IPY_MODEL_221679ad47b147a48c2b9087fee5a816",
        "IPY_MODEL_572a3b6ce8bb425582cf8bd467ef3e9a",
        "IPY_MODEL_5be1a133048d4a7990fa0b2b1d9cad8e",
        "IPY_MODEL_d19ad66917bd4e0182562d767ed3194d",
        "IPY_MODEL_353eab2f4f634e6fa0edd4505f7ad376",
        "IPY_MODEL_85764c0088254e41a8e12cfa3af4e4a8"
       ],
       "layout": "IPY_MODEL_cca8b684cc274df7bb62ddd41f0709e3"
      }
     },
     "ef2fc09babae40d1a7cc35ec636106a0": {
      "model_module": "@jupyter-widgets/controls",
      "model_module_version": "1.0.0",
      "model_name": "FloatSliderModel",
      "state": {
       "description": "alpha",
       "layout": "IPY_MODEL_a794dfe556e245fd8d35aa0c8eedd338",
       "max": 1,
       "step": 0.1,
       "style": "IPY_MODEL_0972753e551c4e1aa03a0f5b3a0981bd",
       "value": 1
      }
     },
     "ef845bff6ea347a8a6e2ccc789f9c207": {
      "model_module": "@jupyter-widgets/base",
      "model_module_version": "1.0.0",
      "model_name": "LayoutModel",
      "state": {}
     },
     "efa3bf782e794925a837c6159dd72847": {
      "model_module": "@jupyter-widgets/base",
      "model_module_version": "1.0.0",
      "model_name": "LayoutModel",
      "state": {}
     },
     "efce857f12694f3d8dcc845d11a82251": {
      "model_module": "@jupyter-widgets/controls",
      "model_module_version": "1.0.0",
      "model_name": "VBoxModel",
      "state": {
       "_dom_classes": [
        "widget-interact"
       ],
       "children": [
        "IPY_MODEL_c5d30691d81f465689529e63331fe4b3",
        "IPY_MODEL_a4e2bb91829d46fead0c6e503ea1af62",
        "IPY_MODEL_53cd1dd2905b44ee9982f6164d4e3852",
        "IPY_MODEL_88a2e015194342349aa13153256390c5",
        "IPY_MODEL_53486bd127fd45ae945f73df6e1153bf",
        "IPY_MODEL_6586fcab46e647e0b8a1d8d6e9ebd160",
        "IPY_MODEL_75da1847826641b79ba87f9abd2867de",
        "IPY_MODEL_c35ae68ad0d1496e9f3d97f0dcb7494f"
       ],
       "layout": "IPY_MODEL_3cb4306aaac04ddfa97480f29d992eb9"
      }
     },
     "efe4d2439d2145399069ce095f8197ca": {
      "model_module": "@jupyter-widgets/controls",
      "model_module_version": "1.0.0",
      "model_name": "IntSliderModel",
      "state": {
       "description": "blue",
       "layout": "IPY_MODEL_f9995f0e14f241af99fb97973e408bf8",
       "max": 255,
       "style": "IPY_MODEL_00c5f56050f840d193ccb0a97202b4f7",
       "value": 255
      }
     },
     "eff5099fd2354346a413578c0f671f09": {
      "model_module": "@jupyter-widgets/base",
      "model_module_version": "1.0.0",
      "model_name": "LayoutModel",
      "state": {}
     },
     "f00dd01cd1834f3fa5c4eea1bdfb6bfe": {
      "model_module": "@jupyter-widgets/controls",
      "model_module_version": "1.0.0",
      "model_name": "FloatSliderModel",
      "state": {
       "description": "start",
       "layout": "IPY_MODEL_df84fa7f92924c3e84870f415c4a2807",
       "max": 6.383185307179586,
       "step": 0.1,
       "style": "IPY_MODEL_aecb392449b845c6bb67f20a36abdc26",
       "value": 0.6
      }
     },
     "f02ddb05ec0d4446aa7a87b0665ad56a": {
      "model_module": "@jupyter-widgets/controls",
      "model_module_version": "1.0.0",
      "model_name": "TextModel",
      "state": {
       "description": "text",
       "layout": "IPY_MODEL_f29dba0f51ce45b1913768ae730148a6",
       "style": "IPY_MODEL_ff80f801b27b4869ab01ee4a04dee34e",
       "value": "I coulda beena contenda!"
      }
     },
     "f04517dfe8a14f1bb625d4b7ded5c15f": {
      "model_module": "@jupyter-widgets/controls",
      "model_module_version": "1.0.0",
      "model_name": "HTMLModel",
      "state": {
       "layout": "IPY_MODEL_01a8e8c7bf2b482d95026502f4c12fce",
       "style": "IPY_MODEL_31ad56c9ce4142bab077fb4dc28cbd9b",
       "value": "<img src=\"interactive_text.png\" id=\"snapshot_id_7_1536269929286\"/>\n <div id=\"snapshot_id_8_1536269929286\">interactive_text.png</div>"
      }
     },
     "f0563a1b051d42279bd0c471879f7100": {
      "model_module": "@jupyter-widgets/base",
      "model_module_version": "1.0.0",
      "model_name": "LayoutModel",
      "state": {}
     },
     "f07706da12ef4ac9ae96f7fd04d71a32": {
      "model_module": "@jupyter-widgets/controls",
      "model_module_version": "1.0.0",
      "model_name": "TextModel",
      "state": {
       "description": "family",
       "layout": "IPY_MODEL_ffc18097b56e42c18073eb9f9b9a8bd7",
       "style": "IPY_MODEL_ad77682bef314b078b595c7426ce33ec",
       "value": "times courier arial"
      }
     },
     "f0a44117113641588bf7efc24a2cea57": {
      "model_module": "@jupyter-widgets/controls",
      "model_module_version": "1.0.0",
      "model_name": "VBoxModel",
      "state": {
       "_dom_classes": [
        "widget-interact"
       ],
       "children": [
        "IPY_MODEL_09a374df00ee4f84b8667a41afa94d9c",
        "IPY_MODEL_7f1b8106a2694b1cafe75ed995284ad3",
        "IPY_MODEL_0e635c7f9aea4298ad97d98dd1dd69aa",
        "IPY_MODEL_91a6f467829b4a8abc1757e62a0968d2",
        "IPY_MODEL_092a536d3cb1422a8379407169c2e507",
        "IPY_MODEL_6e4c4f5c8dd74462a9dcb78800a93984",
        "IPY_MODEL_9bbf22f03bb24ccc88d91d6666405aa7",
        "IPY_MODEL_2c70224fc749464a9a794a70957e70c1",
        "IPY_MODEL_30e35d86d9994fa2a307a391cf38ddc8",
        "IPY_MODEL_35a2da6ea3f2477688d4ceacb56d521d",
        "IPY_MODEL_6ceae8e907cf4d0fa398d83de9779dd7",
        "IPY_MODEL_3960da040cdd4435bb7e4eaf2252d0cb",
        "IPY_MODEL_739e14939f3c40ac9bba98bcaa932241",
        "IPY_MODEL_4da2d1a261a341eb975091e9ea08c765",
        "IPY_MODEL_e27294ed0b9f43debf2da6558b9e9312"
       ],
       "layout": "IPY_MODEL_59d0251e5689457d892cd2d1a956e974"
      }
     },
     "f0d9251de95b4cb6b1f2e82cdc1853ea": {
      "model_module": "@jupyter-widgets/base",
      "model_module_version": "1.0.0",
      "model_name": "LayoutModel",
      "state": {}
     },
     "f0de5a912e24406d96588632a574fd8c": {
      "model_module": "@jupyter-widgets/base",
      "model_module_version": "1.0.0",
      "model_name": "LayoutModel",
      "state": {}
     },
     "f10987f4328f45748cfc8273d847b593": {
      "model_module": "@jupyter-widgets/base",
      "model_module_version": "1.0.0",
      "model_name": "LayoutModel",
      "state": {}
     },
     "f11202db31ea46248e35d5977814894f": {
      "model_module": "@jupyter-widgets/base",
      "model_module_version": "1.0.0",
      "model_name": "LayoutModel",
      "state": {}
     },
     "f141db18c00d4cfe994411a9133edbef": {
      "model_module": "@jupyter-widgets/controls",
      "model_module_version": "1.0.0",
      "model_name": "TabModel",
      "state": {
       "_titles": {
        "0": "Canvas",
        "1": "Snapshot"
       },
       "children": [
        "IPY_MODEL_bfe743d5521045c7a7801eb8537970a6",
        "IPY_MODEL_6d4038e0eb584952b59dad2d5220fbe4"
       ],
       "layout": "IPY_MODEL_a8ed4bd7010b4157b403b645c909d09b"
      }
     },
     "f154bb18eeca4d949a9ca5f14b494c16": {
      "model_module": "@jupyter-widgets/base",
      "model_module_version": "1.0.0",
      "model_name": "LayoutModel",
      "state": {}
     },
     "f1561fefefa14c829ed03553534205e2": {
      "model_module": "@jupyter-widgets/controls",
      "model_module_version": "1.0.0",
      "model_name": "IntSliderModel",
      "state": {
       "description": "green",
       "layout": "IPY_MODEL_6cf05933c68e494ba09c4a2b56585d3f",
       "max": 255,
       "style": "IPY_MODEL_51e61da5c3f94f8f8472316bc4157c7b"
      }
     },
     "f16df9e10916449097a6124b2f3ebd00": {
      "model_module": "@jupyter-widgets/controls",
      "model_module_version": "1.0.0",
      "model_name": "SliderStyleModel",
      "state": {
       "description_width": ""
      }
     },
     "f170b3255cf242e49bb02f5f48d965a5": {
      "model_module": "@jupyter-widgets/base",
      "model_module_version": "1.0.0",
      "model_name": "LayoutModel",
      "state": {}
     },
     "f183069381dc47ef92cf8ec0c12c87c8": {
      "model_module": "@jupyter-widgets/base",
      "model_module_version": "1.0.0",
      "model_name": "LayoutModel",
      "state": {}
     },
     "f19fcac4b69e476f8ef1224d701cd340": {
      "model_module": "@jupyter-widgets/controls",
      "model_module_version": "1.0.0",
      "model_name": "DropdownModel",
      "state": {
       "_options_labels": [
        "",
        "blue",
        "green",
        "pink",
        "brown",
        "cornsilk"
       ],
       "description": "background",
       "index": 0,
       "layout": "IPY_MODEL_9fb0e94e2dbb4d678570fab8fc38fdc5",
       "style": "IPY_MODEL_64001ff824ac4b17b27c9190a49bb224"
      }
     },
     "f1e60e682a914d4b8be280189ba4970f": {
      "model_module": "@jupyter-widgets/base",
      "model_module_version": "1.0.0",
      "model_name": "LayoutModel",
      "state": {}
     },
     "f2305bf7a24849e694f1ed5e973a0ff1": {
      "model_module": "@jupyter-widgets/base",
      "model_module_version": "1.0.0",
      "model_name": "LayoutModel",
      "state": {}
     },
     "f2477f9b611448a2a57f7b3770d3ed55": {
      "model_module": "@jupyter-widgets/base",
      "model_module_version": "1.0.0",
      "model_name": "LayoutModel",
      "state": {}
     },
     "f26b769351d54235b2675211a20cd909": {
      "model_module": "@jupyter-widgets/controls",
      "model_module_version": "1.0.0",
      "model_name": "DescriptionStyleModel",
      "state": {
       "description_width": ""
      }
     },
     "f28503c961cf4be5a2ac85efc8b3ca09": {
      "model_module": "@jupyter-widgets/base",
      "model_module_version": "1.0.0",
      "model_name": "LayoutModel",
      "state": {}
     },
     "f29dba0f51ce45b1913768ae730148a6": {
      "model_module": "@jupyter-widgets/base",
      "model_module_version": "1.0.0",
      "model_name": "LayoutModel",
      "state": {}
     },
     "f2c5e3d7dc7647ee96d68f93cd678e5c": {
      "model_module": "@jupyter-widgets/controls",
      "model_module_version": "1.0.0",
      "model_name": "IntSliderModel",
      "state": {
       "description": "y",
       "layout": "IPY_MODEL_77fcaa89ee7249ab9168e43a8cba7db1",
       "min": -100,
       "style": "IPY_MODEL_f43ad1a28c05443885d5e22909bc1162"
      }
     },
     "f32f0d5b235449e99997ea04076bdb67": {
      "model_module": "@jupyter-widgets/controls",
      "model_module_version": "1.0.0",
      "model_name": "IntSliderModel",
      "state": {
       "description": "degrees",
       "layout": "IPY_MODEL_e4fd915814f643dcb747cf0b0896e38d",
       "max": 360,
       "min": -360,
       "style": "IPY_MODEL_d33c49d2fac843f1980063863d693a73"
      }
     },
     "f33053ce6ead429b90a92c971a8431d6": {
      "model_module": "@jupyter-widgets/base",
      "model_module_version": "1.0.0",
      "model_name": "LayoutModel",
      "state": {}
     },
     "f33f8397f66947ce9ecae3b39681ef64": {
      "model_module": "@jupyter-widgets/base",
      "model_module_version": "1.0.0",
      "model_name": "LayoutModel",
      "state": {}
     },
     "f36a8890b4a644d58fbd821584a36883": {
      "model_module": "@jupyter-widgets/base",
      "model_module_version": "1.0.0",
      "model_name": "LayoutModel",
      "state": {}
     },
     "f36f1cf92ff6498eae08115f63875bd2": {
      "model_module": "@jupyter-widgets/base",
      "model_module_version": "1.0.0",
      "model_name": "LayoutModel",
      "state": {}
     },
     "f39bf166d32b4876974467e54492ccd2": {
      "model_module": "@jupyter-widgets/base",
      "model_module_version": "1.0.0",
      "model_name": "LayoutModel",
      "state": {}
     },
     "f3c9cad60aa94255ad84cf6ed77f599f": {
      "model_module": "@jupyter-widgets/controls",
      "model_module_version": "1.0.0",
      "model_name": "TextModel",
      "state": {
       "description": "text",
       "layout": "IPY_MODEL_d872cba11b3b4d6399daca4f85f41832",
       "style": "IPY_MODEL_7854499d95134d53979b7ce59471f154",
       "value": "Stella!"
      }
     },
     "f3e8162f7b04404d9166af6358be3a7d": {
      "model_module": "@jupyter-widgets/base",
      "model_module_version": "1.0.0",
      "model_name": "LayoutModel",
      "state": {}
     },
     "f43a974eb6314babab62d84f43e89f21": {
      "model_module": "@jupyter-widgets/base",
      "model_module_version": "1.0.0",
      "model_name": "LayoutModel",
      "state": {}
     },
     "f43ad1a28c05443885d5e22909bc1162": {
      "model_module": "@jupyter-widgets/controls",
      "model_module_version": "1.0.0",
      "model_name": "SliderStyleModel",
      "state": {
       "description_width": ""
      }
     },
     "f45e41c1d741442f8723d8a2bf565ca1": {
      "model_module": "@jupyter-widgets/controls",
      "model_module_version": "1.0.0",
      "model_name": "SliderStyleModel",
      "state": {
       "description_width": ""
      }
     },
     "f46a526df09e47a698484132c407da97": {
      "model_module": "@jupyter-widgets/output",
      "model_module_version": "1.0.0",
      "model_name": "OutputModel",
      "state": {
       "layout": "IPY_MODEL_54c68380937a47a4b4b0fcb790bf2c2e"
      }
     },
     "f480b5855391467493e2e9dfad7b7113": {
      "model_module": "@jupyter-widgets/base",
      "model_module_version": "1.0.0",
      "model_name": "LayoutModel",
      "state": {}
     },
     "f4b57f34da694a8fbe28e80f8f6c07ec": {
      "model_module": "@jupyter-widgets/controls",
      "model_module_version": "1.0.0",
      "model_name": "IntSliderModel",
      "state": {
       "description": "degrees",
       "layout": "IPY_MODEL_bd0113885a514a2fbf3465b17b49c928",
       "max": 360,
       "min": -360,
       "style": "IPY_MODEL_d375e2ae877245d981d9f2e02b42cebb",
       "value": -43
      }
     },
     "f4f71148cc69446497bd752b25469d86": {
      "model_module": "@jupyter-widgets/controls",
      "model_module_version": "1.0.0",
      "model_name": "DropdownModel",
      "state": {
       "_options_labels": [
        "",
        "blue",
        "green",
        "pink",
        "brown",
        "cornsilk"
       ],
       "description": "background",
       "index": 2,
       "layout": "IPY_MODEL_e66ef1c240fe473a82e5364c06dd77eb",
       "style": "IPY_MODEL_b801b79879de43caa666441e5e38d3dc"
      }
     },
     "f51c752ce63c4542bac603c4338756b4": {
      "model_module": "@jupyter-widgets/base",
      "model_module_version": "1.0.0",
      "model_name": "LayoutModel",
      "state": {}
     },
     "f521da7536784c9f8b3250a1ae22ea03": {
      "model_module": "@jupyter-widgets/controls",
      "model_module_version": "1.0.0",
      "model_name": "SliderStyleModel",
      "state": {
       "description_width": ""
      }
     },
     "f54931ffbf994a518aaf318ec361513e": {
      "model_module": "@jupyter-widgets/controls",
      "model_module_version": "1.0.0",
      "model_name": "SliderStyleModel",
      "state": {
       "description_width": ""
      }
     },
     "f56bb029864a4eb3b037e9f5c955792a": {
      "model_module": "@jupyter-widgets/base",
      "model_module_version": "1.0.0",
      "model_name": "LayoutModel",
      "state": {}
     },
     "f59ceb443c644476a9738231362de665": {
      "model_module": "@jupyter-widgets/controls",
      "model_module_version": "1.0.0",
      "model_name": "DescriptionStyleModel",
      "state": {
       "description_width": ""
      }
     },
     "f5c4a2c132154c80a1c4e45a11a8be55": {
      "model_module": "@jupyter-widgets/controls",
      "model_module_version": "1.0.0",
      "model_name": "SliderStyleModel",
      "state": {
       "description_width": ""
      }
     },
     "f5cf1a9f6189407b90fae19ce832360a": {
      "model_module": "@jupyter-widgets/controls",
      "model_module_version": "1.0.0",
      "model_name": "SliderStyleModel",
      "state": {
       "description_width": ""
      }
     },
     "f5e705c30fec4d3488ac3fec21ddaeb1": {
      "model_module": "@jupyter-widgets/controls",
      "model_module_version": "1.0.0",
      "model_name": "IntSliderModel",
      "state": {
       "description": "x",
       "layout": "IPY_MODEL_00d911d80b80400aaefb5507ef1f97fd",
       "min": -100,
       "style": "IPY_MODEL_408e67a7ff1c429cb7224fa3b6f2cb1a"
      }
     },
     "f5f13b893b0e4c169713ebd8a8d1e640": {
      "model_module": "@jupyter-widgets/base",
      "model_module_version": "1.0.0",
      "model_name": "LayoutModel",
      "state": {}
     },
     "f636e9f02c4a4044bf18a0aef7d830a0": {
      "model_module": "@jupyter-widgets/controls",
      "model_module_version": "1.0.0",
      "model_name": "IntSliderModel",
      "state": {
       "description": "green",
       "layout": "IPY_MODEL_56b49ecf820b4ab0bc314123290a4631",
       "max": 255,
       "style": "IPY_MODEL_58431f0f25a0457d87adf9c148322d86"
      }
     },
     "f665b5582bc84e128b2e9a285c24f12b": {
      "model_module": "@jupyter-widgets/controls",
      "model_module_version": "1.0.0",
      "model_name": "HTMLModel",
      "state": {
       "layout": "IPY_MODEL_2505942f7b6e48358994d2d1a2be6db6",
       "style": "IPY_MODEL_b17d7c13594a4136b97c370a80346682",
       "value": "<img src=\"interactive_text2.png\" id=\"snapshot_id_7_1536320894210\"/>\n <div id=\"snapshot_id_8_1536320894210\">interactive_text2.png</div>"
      }
     },
     "f674a6acfe474528ae03d560df702077": {
      "model_module": "jp_proxy_widget",
      "model_module_version": "^0.3.4",
      "model_name": "JSProxyModel",
      "state": {
       "_model_module_version": "^0.3.4",
       "_send_counter": 2,
       "_view_module_version": "^0.3.4",
       "error_msg": "No error",
       "layout": "IPY_MODEL_4f58712fcb3a4da788d882aa5a65d701",
       "rendered": true,
       "status": "Got results."
      }
     },
     "f696f9193d7049d38953cd8d17de6cb4": {
      "model_module": "jp_proxy_widget",
      "model_module_version": "^0.3.4",
      "model_name": "JSProxyModel",
      "state": {
       "_model_module_version": "^0.3.4",
       "_send_counter": 2,
       "_view_module_version": "^0.3.4",
       "error_msg": "No error",
       "layout": "IPY_MODEL_3f5694b0684f4b3b83868ba13a54c30c",
       "rendered": true,
       "status": "Got results."
      }
     },
     "f6b47a1edadb42349590fe308656846d": {
      "model_module": "@jupyter-widgets/controls",
      "model_module_version": "1.0.0",
      "model_name": "IntSliderModel",
      "state": {
       "description": "y",
       "layout": "IPY_MODEL_b488a544375a4c02a9d199c4cd2e361e",
       "min": -100,
       "style": "IPY_MODEL_cf42937fa4be4510b9d4d4a48d4c2bdf"
      }
     },
     "f6de3677078248f09478747c026b7194": {
      "model_module": "@jupyter-widgets/base",
      "model_module_version": "1.0.0",
      "model_name": "LayoutModel",
      "state": {}
     },
     "f6e3a8900cbb4f5eb3a1d4ba3225faaf": {
      "model_module": "@jupyter-widgets/base",
      "model_module_version": "1.0.0",
      "model_name": "LayoutModel",
      "state": {}
     },
     "f6e6d01f5a684fddb2e934d4dd159ffb": {
      "model_module": "@jupyter-widgets/controls",
      "model_module_version": "1.0.0",
      "model_name": "DescriptionStyleModel",
      "state": {
       "description_width": ""
      }
     },
     "f7121243026b4fcfaac25f5e0de9edcb": {
      "model_module": "@jupyter-widgets/controls",
      "model_module_version": "1.0.0",
      "model_name": "IntSliderModel",
      "state": {
       "description": "red",
       "layout": "IPY_MODEL_5964f09dd1a3492e81dcd07cdf5b0e2f",
       "max": 255,
       "style": "IPY_MODEL_2930aa55841d4f98bab357e00f41953e",
       "value": 255
      }
     },
     "f729e6ba566049ecb84f9fb1a9a65342": {
      "model_module": "@jupyter-widgets/controls",
      "model_module_version": "1.0.0",
      "model_name": "DescriptionStyleModel",
      "state": {
       "description_width": ""
      }
     },
     "f74ce1f9f08f493181680fb7929e9258": {
      "model_module": "@jupyter-widgets/controls",
      "model_module_version": "1.0.0",
      "model_name": "DropdownModel",
      "state": {
       "_options_labels": [
        "",
        "blue",
        "green",
        "pink",
        "brown",
        "cornsilk"
       ],
       "description": "background",
       "index": 5,
       "layout": "IPY_MODEL_954e332d405840248d0bea9ad55fa112",
       "style": "IPY_MODEL_9d569a6fb5d1427ea8af9ec0ed46e67f"
      }
     },
     "f76a57e9deae43409bd029d9a760c435": {
      "model_module": "@jupyter-widgets/controls",
      "model_module_version": "1.0.0",
      "model_name": "FloatSliderModel",
      "state": {
       "description": "start",
       "layout": "IPY_MODEL_76812d39075f496fa20b7e7875cc60cb",
       "max": 6.383185307179586,
       "step": 0.1,
       "style": "IPY_MODEL_e2b7b7cf6bd84cf2b8e2508e1eadd77d",
       "value": 1.6
      }
     },
     "f78fe88a060141c2bab1350bf468d54c": {
      "model_module": "@jupyter-widgets/controls",
      "model_module_version": "1.0.0",
      "model_name": "SliderStyleModel",
      "state": {
       "description_width": ""
      }
     },
     "f7c5045245ad4c89a25ce89739fa50d7": {
      "model_module": "@jupyter-widgets/controls",
      "model_module_version": "1.0.0",
      "model_name": "DropdownModel",
      "state": {
       "_options_labels": [
        "",
        "blue",
        "green",
        "pink",
        "brown",
        "cornsilk"
       ],
       "description": "background",
       "index": 3,
       "layout": "IPY_MODEL_51d2e31842754ad6b2263377c221e90e",
       "style": "IPY_MODEL_014d7b3cdcd24f9081d577986f36f159"
      }
     },
     "f7d3b8e11dbb4b5284f60ea428e74055": {
      "model_module": "@jupyter-widgets/base",
      "model_module_version": "1.0.0",
      "model_name": "LayoutModel",
      "state": {}
     },
     "f7e3d681c4644d9797123d48dbe3edd8": {
      "model_module": "@jupyter-widgets/controls",
      "model_module_version": "1.0.0",
      "model_name": "IntSliderModel",
      "state": {
       "description": "points",
       "layout": "IPY_MODEL_86db92235e6f4d45af9a07c8ba4fe88a",
       "style": "IPY_MODEL_d5a5c61c057b4ca69e2ce32b3dbcb9ef",
       "value": 20
      }
     },
     "f7f6b5f8e6fc44de9f7b4cbd20901760": {
      "model_module": "@jupyter-widgets/controls",
      "model_module_version": "1.0.0",
      "model_name": "TabModel",
      "state": {
       "_titles": {
        "0": "Canvas",
        "1": "Snapshot"
       },
       "children": [
        "IPY_MODEL_cc875a482b81481aabaa4b59941bb886",
        "IPY_MODEL_788bd8e238b24981aa738bfa96547882"
       ],
       "layout": "IPY_MODEL_81003e64eda141608d83a58d16225ba8"
      }
     },
     "f853428693da4d4d99f02213275e6850": {
      "model_module": "@jupyter-widgets/controls",
      "model_module_version": "1.0.0",
      "model_name": "IntSliderModel",
      "state": {
       "description": "x",
       "layout": "IPY_MODEL_27d3b3ea13584e46926b5b223ae93d40",
       "min": -100,
       "style": "IPY_MODEL_6075f317384749ccb54a92044c9c7500"
      }
     },
     "f89e3301135847bea965f3e3716f890d": {
      "model_module": "@jupyter-widgets/output",
      "model_module_version": "1.0.0",
      "model_name": "OutputModel",
      "state": {
       "layout": "IPY_MODEL_d9f068785a9c422abd494a633656441a"
      }
     },
     "f8b1a7dfac3d4853a7448aa76b7fbee5": {
      "model_module": "@jupyter-widgets/controls",
      "model_module_version": "1.0.0",
      "model_name": "TextModel",
      "state": {
       "description": "text",
       "layout": "IPY_MODEL_238aec0d86064022b4f816234b5989a2",
       "style": "IPY_MODEL_e74eb8dbfbcd40829caf5e95583228ef",
       "value": "Stella!"
      }
     },
     "f8c7f18ee78d4eaf9f3558a0ac96dab7": {
      "model_module": "@jupyter-widgets/controls",
      "model_module_version": "1.0.0",
      "model_name": "SliderStyleModel",
      "state": {
       "description_width": ""
      }
     },
     "f8df1b22de074004a55d08cfec2a9777": {
      "model_module": "@jupyter-widgets/controls",
      "model_module_version": "1.0.0",
      "model_name": "SliderStyleModel",
      "state": {
       "description_width": ""
      }
     },
     "f942f442d5b54b25982b23a820a0c985": {
      "model_module": "@jupyter-widgets/controls",
      "model_module_version": "1.0.0",
      "model_name": "DescriptionStyleModel",
      "state": {
       "description_width": ""
      }
     },
     "f9995f0e14f241af99fb97973e408bf8": {
      "model_module": "@jupyter-widgets/base",
      "model_module_version": "1.0.0",
      "model_name": "LayoutModel",
      "state": {}
     },
     "f9ad8d21513547de90ca9045004db9fa": {
      "model_module": "@jupyter-widgets/controls",
      "model_module_version": "1.0.0",
      "model_name": "IntSliderModel",
      "state": {
       "description": "r",
       "layout": "IPY_MODEL_1d95cb6fa5934b18bfca058c30c09ee5",
       "style": "IPY_MODEL_293316fd146f458b9ed8526a62cc02ff",
       "value": 59
      }
     },
     "f9bae1d32f734a1988ca6f160d623c6b": {
      "model_module": "@jupyter-widgets/base",
      "model_module_version": "1.0.0",
      "model_name": "LayoutModel",
      "state": {}
     },
     "f9d4de99477a466d8dfd1d60b7f67cb7": {
      "model_module": "@jupyter-widgets/base",
      "model_module_version": "1.0.0",
      "model_name": "LayoutModel",
      "state": {}
     },
     "f9de58598256480189796caf68189d44": {
      "model_module": "@jupyter-widgets/controls",
      "model_module_version": "1.0.0",
      "model_name": "IntSliderModel",
      "state": {
       "description": "x",
       "layout": "IPY_MODEL_d5447e082de24f6d931e4e96446cb03a",
       "min": -100,
       "style": "IPY_MODEL_1f6c978c65564c4e8b378b68882dc0a1"
      }
     },
     "fa09b04e96bb4361bf9bbaa1575265f5": {
      "model_module": "@jupyter-widgets/controls",
      "model_module_version": "1.0.0",
      "model_name": "DescriptionStyleModel",
      "state": {
       "description_width": ""
      }
     },
     "fa59932b4aa2426596538c48dfa0378a": {
      "model_module": "@jupyter-widgets/base",
      "model_module_version": "1.0.0",
      "model_name": "LayoutModel",
      "state": {}
     },
     "fa62757de3c74db9b81fc5a0178d7852": {
      "model_module": "@jupyter-widgets/controls",
      "model_module_version": "1.0.0",
      "model_name": "IntSliderModel",
      "state": {
       "description": "lineWidth",
       "layout": "IPY_MODEL_f11202db31ea46248e35d5977814894f",
       "max": 20,
       "style": "IPY_MODEL_4d57ca66b9894897b8fe3d03c2c3460a",
       "value": 13
      }
     },
     "fa7be63cd60c4db69ca081da810e67a5": {
      "model_module": "@jupyter-widgets/controls",
      "model_module_version": "1.0.0",
      "model_name": "IntSliderModel",
      "state": {
       "description": "blue",
       "layout": "IPY_MODEL_9f6e0f4add4d4bccac251b325439b8b6",
       "max": 255,
       "style": "IPY_MODEL_36bcf1116841461089bcb10d6731a64c",
       "value": 255
      }
     },
     "fa9a0ee48eac4bca9242c36fce2f93c2": {
      "model_module": "@jupyter-widgets/base",
      "model_module_version": "1.0.0",
      "model_name": "LayoutModel",
      "state": {}
     },
     "fac87f5aad2f47eb9b86d85f04e15304": {
      "model_module": "@jupyter-widgets/base",
      "model_module_version": "1.0.0",
      "model_name": "LayoutModel",
      "state": {}
     },
     "fad4edcbbed241e3894fee5b2bc15c4a": {
      "model_module": "@jupyter-widgets/controls",
      "model_module_version": "1.0.0",
      "model_name": "SliderStyleModel",
      "state": {
       "description_width": ""
      }
     },
     "fad5b7bb66454901be95b39476068030": {
      "model_module": "@jupyter-widgets/controls",
      "model_module_version": "1.0.0",
      "model_name": "HTMLModel",
      "state": {
       "layout": "IPY_MODEL_0cf2b7ffb0fd4b7e9023102fe5c28623",
       "style": "IPY_MODEL_cebf1fa4bc754c1f912397bf62ab73f3",
       "value": "<img src=\"interactive_text2.png\" id=\"snapshot_id_6_1536324534546\"/>\n <div id=\"snapshot_id_7_1536324534546\">interactive_text2.png</div>"
      }
     },
     "fb00ed8e70a0419092fb5ee80b719723": {
      "model_module": "@jupyter-widgets/controls",
      "model_module_version": "1.0.0",
      "model_name": "FloatSliderModel",
      "state": {
       "description": "alpha",
       "layout": "IPY_MODEL_7a5a0d6277ed4c85a93701ae19b8053a",
       "max": 1,
       "step": 0.1,
       "style": "IPY_MODEL_244c5ce522f04b528717bfe3997c4be9",
       "value": 1
      }
     },
     "fb06209e318045c6a357c1ae8abfcbfd": {
      "model_module": "@jupyter-widgets/controls",
      "model_module_version": "1.0.0",
      "model_name": "IntSliderModel",
      "state": {
       "description": "points",
       "layout": "IPY_MODEL_7295700baa5c45f3b0d06fb035eb5742",
       "style": "IPY_MODEL_6aad6a07e72d46e381174dac2b01ec38",
       "value": 23
      }
     },
     "fb0d405732814d338caeecd7b0d1a54a": {
      "model_module": "@jupyter-widgets/controls",
      "model_module_version": "1.0.0",
      "model_name": "SliderStyleModel",
      "state": {
       "description_width": ""
      }
     },
     "fb11654398a84c8d9e44e7eef5f91b69": {
      "model_module": "jp_proxy_widget",
      "model_module_version": "^0.3.4",
      "model_name": "JSProxyModel",
      "state": {
       "_model_module_version": "^0.3.4",
       "_send_counter": 2,
       "_view_module_version": "^0.3.4",
       "error_msg": "No error",
       "layout": "IPY_MODEL_ffcf951c70024c22881e2f0618667e8e",
       "rendered": true,
       "status": "Got results."
      }
     },
     "fb622038cb6449c0a870ce6f63a0c891": {
      "model_module": "@jupyter-widgets/controls",
      "model_module_version": "1.0.0",
      "model_name": "DescriptionStyleModel",
      "state": {
       "description_width": ""
      }
     },
     "fb6cb5470d934f358abbba72911f58b2": {
      "model_module": "@jupyter-widgets/output",
      "model_module_version": "1.0.0",
      "model_name": "OutputModel",
      "state": {
       "layout": "IPY_MODEL_9d53b524c6df43419f250eb88f1c908a"
      }
     },
     "fb9de026125b41748399b20f7f975c70": {
      "model_module": "@jupyter-widgets/base",
      "model_module_version": "1.0.0",
      "model_name": "LayoutModel",
      "state": {}
     },
     "fbc10d8339e0428eaac8852925cf009b": {
      "model_module": "@jupyter-widgets/controls",
      "model_module_version": "1.0.0",
      "model_name": "VBoxModel",
      "state": {
       "children": [
        "IPY_MODEL_5346df3fa08f406b85f71cfbf7034902",
        "IPY_MODEL_6eab57cde38d49609ea6627bf0284119"
       ],
       "layout": "IPY_MODEL_acdc4721b1604a1fb6f66a0daa987dc1"
      }
     },
     "fbd10f842c004fa592ea754c8cc42cf4": {
      "model_module": "@jupyter-widgets/controls",
      "model_module_version": "1.0.0",
      "model_name": "IntSliderModel",
      "state": {
       "description": "x",
       "layout": "IPY_MODEL_c3ec7cbf3b4e450b8e72306890bc6df0",
       "min": -100,
       "style": "IPY_MODEL_471d4d33bd7a49fe92d2a8288e45aa45"
      }
     },
     "fbec0491c079437da1d0353af56861a7": {
      "model_module": "@jupyter-widgets/controls",
      "model_module_version": "1.0.0",
      "model_name": "VBoxModel",
      "state": {
       "children": [
        "IPY_MODEL_c9197738c9e74ffca50503ed157fd7a5",
        "IPY_MODEL_d860346a4d4c4ed6a843f3216705e6de"
       ],
       "layout": "IPY_MODEL_0f51c34da49247b99b71ecdd5497bf39"
      }
     },
     "fbffc2d7bcae4bd3a08aa1f9bcd2f635": {
      "model_module": "@jupyter-widgets/controls",
      "model_module_version": "1.0.0",
      "model_name": "DescriptionStyleModel",
      "state": {
       "description_width": ""
      }
     },
     "fc2e843bfdd24ea4b3913aa62844e03e": {
      "model_module": "@jupyter-widgets/base",
      "model_module_version": "1.0.0",
      "model_name": "LayoutModel",
      "state": {}
     },
     "fc3b94290d26444d8078c309bdf6a796": {
      "model_module": "@jupyter-widgets/base",
      "model_module_version": "1.0.0",
      "model_name": "LayoutModel",
      "state": {}
     },
     "fc466280281b46d1b6aad61a3266a9e4": {
      "model_module": "@jupyter-widgets/controls",
      "model_module_version": "1.0.0",
      "model_name": "FloatSliderModel",
      "state": {
       "description": "start",
       "layout": "IPY_MODEL_cfe0245f48dd46f288899164a0a516bd",
       "max": 6.283185307179586,
       "step": 0.1,
       "style": "IPY_MODEL_2a9785a69adc473a994b99bbb9c29fb7"
      }
     },
     "fc8459e7d59548afb0a8384995efeeca": {
      "model_module": "@jupyter-widgets/controls",
      "model_module_version": "1.0.0",
      "model_name": "HTMLModel",
      "state": {
       "layout": "IPY_MODEL_402f95aa334748b0bde5c7de2a447f2d",
       "style": "IPY_MODEL_c9564860f70c4668a5fdd72cb85d52c1",
       "value": "<img src=\"interactive_circle.png\" id=\"snapshot_id_25_1536247401851\"/>\n <div id=\"snapshot_id_26_1536247401851\">interactive_circle.png</div>"
      }
     },
     "fcc14482bfae46bcafffa7bb92278435": {
      "model_module": "@jupyter-widgets/controls",
      "model_module_version": "1.0.0",
      "model_name": "SliderStyleModel",
      "state": {
       "description_width": ""
      }
     },
     "fcf775c3c6f14e83a34774cc4100d854": {
      "model_module": "@jupyter-widgets/controls",
      "model_module_version": "1.0.0",
      "model_name": "DescriptionStyleModel",
      "state": {
       "description_width": ""
      }
     },
     "fd49982d55374bf99aea688f88177f3c": {
      "model_module": "@jupyter-widgets/controls",
      "model_module_version": "1.0.0",
      "model_name": "IntSliderModel",
      "state": {
       "description": "points",
       "layout": "IPY_MODEL_8f141d66cf6e471180372a0c320806d0",
       "style": "IPY_MODEL_b6059c4431464382af14364350e32cca",
       "value": 20
      }
     },
     "fdbec9af24bd495eae95b564eef5e5a2": {
      "model_module": "@jupyter-widgets/controls",
      "model_module_version": "1.0.0",
      "model_name": "IntSliderModel",
      "state": {
       "description": "red",
       "layout": "IPY_MODEL_c76fa9853b80481f9b96122982c797b6",
       "max": 255,
       "style": "IPY_MODEL_2915b7a998184958810ceec36515af41",
       "value": 255
      }
     },
     "fdeda37a23304e3c83c7ca5e1285f5d4": {
      "model_module": "@jupyter-widgets/base",
      "model_module_version": "1.0.0",
      "model_name": "LayoutModel",
      "state": {}
     },
     "fdfeb56bead340b0bce838cd968f08b8": {
      "model_module": "@jupyter-widgets/base",
      "model_module_version": "1.0.0",
      "model_name": "LayoutModel",
      "state": {}
     },
     "fe3bff1ddfa742259d7feae110fec4cc": {
      "model_module": "@jupyter-widgets/base",
      "model_module_version": "1.0.0",
      "model_name": "LayoutModel",
      "state": {}
     },
     "feafdda46982449a8226a17e3c72aa24": {
      "model_module": "@jupyter-widgets/controls",
      "model_module_version": "1.0.0",
      "model_name": "SliderStyleModel",
      "state": {
       "description_width": ""
      }
     },
     "fec0ed28eaac45e79b9c209f08869788": {
      "model_module": "@jupyter-widgets/controls",
      "model_module_version": "1.0.0",
      "model_name": "IntSliderModel",
      "state": {
       "description": "green",
       "layout": "IPY_MODEL_f36f1cf92ff6498eae08115f63875bd2",
       "max": 255,
       "style": "IPY_MODEL_a5cd14585e15469ea4523aacb8a51489",
       "value": 127
      }
     },
     "ff1ff6a43e1447899a55b33c197f12e8": {
      "model_module": "@jupyter-widgets/base",
      "model_module_version": "1.0.0",
      "model_name": "LayoutModel",
      "state": {}
     },
     "ff5bc05f5fb24d5486365803f5ef211b": {
      "model_module": "@jupyter-widgets/base",
      "model_module_version": "1.0.0",
      "model_name": "LayoutModel",
      "state": {}
     },
     "ff80f801b27b4869ab01ee4a04dee34e": {
      "model_module": "@jupyter-widgets/controls",
      "model_module_version": "1.0.0",
      "model_name": "DescriptionStyleModel",
      "state": {
       "description_width": ""
      }
     },
     "ffc18097b56e42c18073eb9f9b9a8bd7": {
      "model_module": "@jupyter-widgets/base",
      "model_module_version": "1.0.0",
      "model_name": "LayoutModel",
      "state": {}
     },
     "ffc27b6603c2446a942a439e19bc38f2": {
      "model_module": "@jupyter-widgets/base",
      "model_module_version": "1.0.0",
      "model_name": "LayoutModel",
      "state": {}
     },
     "ffceb71bc89f49c5ab790f1587748f36": {
      "model_module": "@jupyter-widgets/base",
      "model_module_version": "1.0.0",
      "model_name": "LayoutModel",
      "state": {}
     },
     "ffcf951c70024c22881e2f0618667e8e": {
      "model_module": "@jupyter-widgets/base",
      "model_module_version": "1.0.0",
      "model_name": "LayoutModel",
      "state": {}
     },
     "fffb68012fb14a6ba86b1761a0bc5f64": {
      "model_module": "@jupyter-widgets/controls",
      "model_module_version": "1.0.0",
      "model_name": "DescriptionStyleModel",
      "state": {
       "description_width": ""
      }
     }
    },
    "version_major": 2,
    "version_minor": 0
   }
  }
 },
 "nbformat": 4,
 "nbformat_minor": 2
}
