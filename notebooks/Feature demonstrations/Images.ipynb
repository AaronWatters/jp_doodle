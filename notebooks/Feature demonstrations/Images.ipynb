{
 "cells": [
  {
   "cell_type": "markdown",
   "metadata": {},
   "source": [
    " <img src=\"Images.png\" width=\"320\"> \n",
    " \n",
    "# Images\n",
    "\n",
    "\n",
    "You can draw images on canvases in two steps.\n",
    "First you must load the image and identify it with a name,\n",
    "and afterward you can draw the image any number of times\n",
    "by providing x, y corner coordinates with width and height.\n",
    "You may also specify a rectangle inside the image to draw."
   ]
  },
  {
   "cell_type": "code",
   "execution_count": 3,
   "metadata": {},
   "outputs": [],
   "source": [
    "from jp_doodle import dual_canvas\n",
    "from IPython.display import display"
   ]
  },
  {
   "cell_type": "code",
   "execution_count": 4,
   "metadata": {},
   "outputs": [
    {
     "data": {
      "application/vnd.jupyter.widget-view+json": {
       "model_id": "b9c96d6c04b745bfa158a30957951de6",
       "version_major": 2,
       "version_minor": 0
      },
      "text/plain": [
       "Tab(children=(VBox(children=(SnapshotCanvas(status='deferring flush until render'), JSProxyWidget(status='defe…"
      ]
     },
     "metadata": {},
     "output_type": "display_data"
    }
   ],
   "source": [
    "# In this demonstration we do most of the work in Javascript.\n",
    "\n",
    "demo = dual_canvas.SnapshotCanvas(\"Image0.png\", width=320, height=220)\n",
    "demo.display_all()\n",
    "\n",
    "demo.js_init(\"\"\"\n",
    "\n",
    "// Mandrill from a remote image\n",
    "var mandrill_url = \"http://sipi.usc.edu/database/preview/misc/4.2.03.png\";\n",
    "// This local image reference works in \"classic\" notebook, but not in Jupyter Lab.\n",
    "var mandrill_url = \"../mandrill.png\"\n",
    "element.name_image_url(\"mandrill\", mandrill_url);\n",
    "\n",
    "// just the eyes, not the whole image\n",
    "var eyes = element.named_image({\n",
    "    name: \"mandrill eyes\",\n",
    "    image_name: \"mandrill\", x:0, y:-40, w:80, h:30,\n",
    "    sx:30, sy:15, sWidth:140, sHeight:20\n",
    "    });\n",
    "    \n",
    "var mandrill = element.named_image({\n",
    "    name: \"whole mandrill\",\n",
    "    image_name: \"mandrill\", x:0, y:0, w:200, h:200\n",
    "    });\n",
    "    \n",
    "var square = element.named_image({\n",
    "    name: \"mandrill square\",\n",
    "    image_name: \"mandrill\", x:210, y:0, w:200, h:200,\n",
    "    sx:40, sy:14, sWidth:30, sHeight:30\n",
    "    });\n",
    "    \n",
    "var highlight = element.rect({name:\"highlight\", x:40, y:200-14, w:30, h:-30,\n",
    "    color:\"rgba(200,200,100,0.7)\"});\n",
    "    \n",
    "// events to drag the square and adjust the detail.\n",
    "// Attach a mousedown event which picks the highlight.\n",
    "var moving = false;\n",
    "var on_mouse_down = function(event) {\n",
    "    moving = true;\n",
    "};\n",
    "element.on_canvas_event(\"mousedown\", on_mouse_down);\n",
    "square.on(\"mousedown\", on_mouse_down)\n",
    "\n",
    "// Attach a mousemove event which moves the highlight.\n",
    "var on_mouse_move = function(event) {\n",
    "    if (moving) {\n",
    "        var loc = element.event_model_location(event);\n",
    "        var x = loc.x;\n",
    "        var y = loc.y;\n",
    "        if ((x > 0) && (y > 30) && (x < 170) && (y < 200)) {\n",
    "            highlight.change({x:loc.x, y:loc.y});\n",
    "            square.change({sx:loc.x, sy:200-loc.y})\n",
    "        }\n",
    "    } \n",
    "};\n",
    "element.on_canvas_event(\"mousemove\", on_mouse_move);\n",
    "\n",
    "// Attach a mouseup event which \"drops\" the current picked up object.\n",
    "var on_mouse_up = function(event) {\n",
    "    moving = false;\n",
    "};\n",
    "element.on_canvas_event(\"mouseup\", on_mouse_up);\n",
    "\n",
    "// Fit the figure into the available space\n",
    "element.fit(null, 10);\n",
    "\n",
    "$(\"<div>Drag the yellow square to adjust the detail view</div>\").appendTo(element);\n",
    "\"\"\")"
   ]
  },
  {
   "cell_type": "code",
   "execution_count": null,
   "metadata": {},
   "outputs": [],
   "source": [
    "#demo.save_pixels_to_png_async(\"Images.png\")"
   ]
  },
  {
   "cell_type": "markdown",
   "metadata": {},
   "source": [
    "# You can also load images from numpy arrays"
   ]
  },
  {
   "cell_type": "code",
   "execution_count": 5,
   "metadata": {},
   "outputs": [
    {
     "data": {
      "text/plain": [
       "((200, 200, 3), 0.9647059, 0.09411765)"
      ]
     },
     "execution_count": 5,
     "metadata": {},
     "output_type": "execute_result"
    }
   ],
   "source": [
    "# reading an image from python\n",
    "import matplotlib.image as mpimg\n",
    "img = mpimg.imread('../mandrill.png')[:,:,:3]\n",
    "img.shape, img.max(), img.min()"
   ]
  },
  {
   "cell_type": "code",
   "execution_count": 7,
   "metadata": {},
   "outputs": [
    {
     "data": {
      "application/vnd.jupyter.widget-view+json": {
       "model_id": "6f2a7c96f37242f49c7255fdc07f71ce",
       "version_major": 2,
       "version_minor": 0
      },
      "text/plain": [
       "Tab(children=(VBox(children=(SnapshotCanvas(status='deferring flush until render'), JSProxyWidget(status='defe…"
      ]
     },
     "metadata": {},
     "output_type": "display_data"
    }
   ],
   "source": [
    "demo2 = dual_canvas.SnapshotCanvas(\"Image1.png\", width=320, height=220)\n",
    "demo2.display_all()\n",
    "# Scaled the image to byte values.\n",
    "inverted = (1 - img) * 255\n",
    "# Load the image to the canvas and name it.\n",
    "demo2.name_image_array(\"inverted mandrill\", inverted)\n",
    "# Draw the image by name.\n",
    "demo2.named_image(\"inverted mandrill\", 50, 50, 210, 130)"
   ]
  },
  {
   "cell_type": "code",
   "execution_count": 8,
   "metadata": {},
   "outputs": [
    {
     "data": {
      "text/plain": [
       "((220, 320, 4), 1.0, 0.0)"
      ]
     },
     "execution_count": 8,
     "metadata": {},
     "output_type": "execute_result"
    }
   ],
   "source": [
    "# You can also use images with alpha channels\n",
    "import matplotlib.image as mpimg\n",
    "img2 = mpimg.imread('Transitions.png')\n",
    "img2.shape, img2.max(), img2.min()"
   ]
  },
  {
   "cell_type": "code",
   "execution_count": 9,
   "metadata": {},
   "outputs": [
    {
     "data": {
      "application/vnd.jupyter.widget-view+json": {
       "model_id": "66a5849471844fa08febe68edc78b534",
       "version_major": 2,
       "version_minor": 0
      },
      "text/plain": [
       "Tab(children=(VBox(children=(SnapshotCanvas(status='deferring flush until render'), JSProxyWidget(status='defe…"
      ]
     },
     "metadata": {},
     "output_type": "display_data"
    }
   ],
   "source": [
    "demo3 = dual_canvas.SnapshotCanvas(\"Image3.png\", width=320, height=220)\n",
    "demo3.display_all()\n",
    "# Load the image, scaled to byte values, and name it.\n",
    "inverted = img * 255\n",
    "demo3.name_image_array(\"mandrill\", inverted)\n",
    "# Draw the image by name.\n",
    "demo3.named_image(\"mandrill\", 50, 50, 210, 130)\n",
    "\n",
    "# draw a partially transparent image on top\n",
    "demo3.name_image_array(\"alpha\", img2 * 255)\n",
    "demo3.named_image(\"alpha\", 50, 50, 210, 130)"
   ]
  },
  {
   "cell_type": "code",
   "execution_count": 10,
   "metadata": {},
   "outputs": [
    {
     "data": {
      "application/vnd.jupyter.widget-view+json": {
       "model_id": "8e3726fb805e40b2b4af2f8826822c0b",
       "version_major": 2,
       "version_minor": 0
      },
      "text/plain": [
       "Tab(children=(VBox(children=(SnapshotCanvas(status='deferring flush until render'), JSProxyWidget(status='defe…"
      ]
     },
     "metadata": {},
     "output_type": "display_data"
    }
   ],
   "source": [
    "# Use a numpy array with transparency as a focus over another image.\n",
    "import numpy as np\n",
    "\n",
    "# focus_array has an opaque border and a clear center for a lens effect.\n",
    "focus_array = np.zeros((100,100,4), dtype=np.float)\n",
    "for i in range(50):\n",
    "    f = 1.0 - i/50.0\n",
    "    hi = 99-i\n",
    "    focus_array[i:hi,i:hi,:] = f\n",
    "focus_array[:,:,2] = 1 - focus_array[:,:,2] # invert blue band\n",
    "    \n",
    "demo4 = dual_canvas.SnapshotCanvas(\"Image4.png\", width=520, height=420)\n",
    "demo4.display_all()\n",
    "\n",
    "demo4.name_image_array(\"focus\", focus_array * 255)\n",
    "\n",
    "demo4.js_init(\"\"\"\n",
    "\n",
    "// Mandrill from a remote image\n",
    "var mandrill_url = \"http://sipi.usc.edu/database/preview/misc/4.2.03.png\";\n",
    "// This local image reference works in \"classic\" notebook, but not in Jupyter Lab.\n",
    "var mandrill_url = \"../mandrill.png\"\n",
    "element.name_image_url(\"mandrill\", mandrill_url);\n",
    "\n",
    "// just the eyes, not the whole image\n",
    "element.named_image({\n",
    "    name: \"mandrill eyes\",\n",
    "    image_name: \"mandrill\", x:0, y:-40, w:80, h:30,\n",
    "    sx:30, sy:15, sWidth:140, sHeight:20\n",
    "    });\n",
    "    \n",
    "var mandrill = element.named_image({\n",
    "    name: \"whole mandrill\",\n",
    "    image_name: \"mandrill\", x:0, y:0, w:200, h:200\n",
    "    });\n",
    "    \n",
    "var square = element.named_image({\n",
    "    name: \"mandrill square\",\n",
    "    image_name: \"mandrill\", x:210, y:0, w:200, h:200,\n",
    "    sx:40, sy:14, sWidth:30, sHeight:30\n",
    "    });\n",
    "    \n",
    "var highlight = element.named_image({name:\"highlight\", x:40, y:200-14, w:30, h:-30,\n",
    "    image_name: \"focus\"});\n",
    "    \n",
    "// events to drag the square and adjust the detail.\n",
    "// Attach a mousedown event which picks the highlight.\n",
    "var moving = false;\n",
    "var on_mouse_down = function(event) {\n",
    "    moving = true;\n",
    "};\n",
    "highlight.on(\"mousedown\", on_mouse_down);\n",
    "\n",
    "// Attach a mousemove event which moves the highlight.\n",
    "var on_mouse_move = function(event) {\n",
    "    if (moving) {\n",
    "        var loc = element.event_model_location(event);\n",
    "        var x = loc.x;\n",
    "        var y = loc.y;\n",
    "        if ((x > 0) && (y > 30) && (x < 170) && (y < 200)) {\n",
    "            highlight.change({x:loc.x, y:loc.y});\n",
    "            square.change({sx:loc.x, sy:200-loc.y})\n",
    "        }\n",
    "    } \n",
    "};\n",
    "element.on_canvas_event(\"mousemove\", on_mouse_move);\n",
    "\n",
    "// Attach a mouseup event which \"drops\" the current picked up object and re-fits the canvas.\n",
    "var on_mouse_up = function(event) {\n",
    "    moving = false;\n",
    "};\n",
    "element.on_canvas_event(\"mouseup\", on_mouse_up);\n",
    "\n",
    "// Fit the figure into the available space\n",
    "element.fit(null, 10);\n",
    "\n",
    "$(\"<div>Drag the yellow square to adjust the detail view</div>\").appendTo(element);\n",
    "\"\"\")"
   ]
  },
  {
   "cell_type": "markdown",
   "metadata": {
    "collapsed": true
   },
   "source": [
    "# Loading canvas contents to numpy arrays\n",
    "\n",
    "It is also possible to asynchronously load the contents of a canvas to a numpy array.\n",
    "The following example draws some objects on a canvas, loads the canvas image as a numpy\n",
    "array and then runs a convolution over the image contents.  The resulting modified array\n",
    "is then displayed in another canvas."
   ]
  },
  {
   "cell_type": "code",
   "execution_count": 11,
   "metadata": {},
   "outputs": [
    {
     "data": {
      "text/plain": [
       "array([[  0,   0,   0,   0,   0,   0,   0],\n",
       "       [  0,   0,  33,   0,   0,   0,   0],\n",
       "       [  0,  33,  33,  33,   0,   0,   0],\n",
       "       [ 85,  85, 118,  85,  85,  85,  85],\n",
       "       [255, 255, 255, 255, 255, 255, 255],\n",
       "       [ 85,  85,  85,  85,  85,  85,  85],\n",
       "       [  0,   0,   0,   0,   0,   0,   0]])"
      ]
     },
     "execution_count": 11,
     "metadata": {},
     "output_type": "execute_result"
    }
   ],
   "source": [
    "from scipy.ndimage import convolve\n",
    "\n",
    "kernel = np.zeros((3,3), dtype=np.float)\n",
    "kernel[1,:] = 1\n",
    "kernel[:,1] = 1\n",
    "image = np.zeros([7,7], dtype=np.float)\n",
    "image[4,:] = 255\n",
    "image[2,2] = 100\n",
    "\n",
    "def convolve_and_scale255(image2d, kernel=kernel):\n",
    "    cv = convolve(image2d, kernel)\n",
    "    return (cv * (255.0/cv.max())).astype(np.int)\n",
    "\n",
    "convolve_and_scale255(image)"
   ]
  },
  {
   "cell_type": "code",
   "execution_count": 12,
   "metadata": {},
   "outputs": [
    {
     "data": {
      "application/vnd.jupyter.widget-view+json": {
       "model_id": "52d11d8b03594c42b6db20a0c533ee7e",
       "version_major": 2,
       "version_minor": 0
      },
      "text/plain": [
       "Tab(children=(VBox(children=(SnapshotCanvas(status='deferring flush until render'), JSProxyWidget(status='defe…"
      ]
     },
     "metadata": {},
     "output_type": "display_data"
    },
    {
     "data": {
      "application/vnd.jupyter.widget-view+json": {
       "model_id": "6271bfd7767c4ab08ac3bfb44152cbf6",
       "version_major": 2,
       "version_minor": 0
      },
      "text/plain": [
       "Tab(children=(VBox(children=(SnapshotCanvas(status='deferring flush until render'), JSProxyWidget(status='defe…"
      ]
     },
     "metadata": {},
     "output_type": "display_data"
    }
   ],
   "source": [
    "big_kernel = np.eye(10) * 2.0 + 1\n",
    "big_kernel[4,4] = 19\n",
    "big_kernel[8,2] = 6\n",
    "#big_kernel[4,:] = 4\n",
    "#big_kernel[:,5] = 7\n",
    "\n",
    "class ConvolveCanvas:\n",
    "    \n",
    "    def __init__(self):\n",
    "        \"\"\"\n",
    "        Draw stuff on a canvas and call get_array_async when done.\n",
    "        \"\"\"\n",
    "        # Display both the source and dest canvases\n",
    "        self.source_canvas = dual_canvas.SnapshotCanvas(\"Image_source.png\", width=320, height=220)\n",
    "        self.source_canvas.display_all()\n",
    "        self.dest_canvas = dual_canvas.SnapshotCanvas(\"Image_processed.png\", width=320, height=220)\n",
    "        self.dest_canvas.display_all()\n",
    "        \n",
    "        # put some stuff in the source canvas, and call get_array_async when done.\n",
    "        self.source_canvas.js_init(\"\"\"\n",
    "            // A filled yellow circle (disk) named \"Colonel Mustard\n",
    "            element.circle({name: \"Colonel Mustard\", x:100, y:150, r:90, color:\"yellow\"});\n",
    "            // A filled red rectangle named \"Miss Scarlett\"\n",
    "            element.rect({name: \"Miss Scarlett\", x:100, y:130, w:100, h:20, color: \"red\"});\n",
    "            // An unfilled white circle named \"Mrs. White\"\n",
    "            element.circle({\n",
    "                name: \"Mrs. White\", x:100, y:150, r:58, fill:false, \n",
    "                color:\"white\", lineWidth: 14});\n",
    "            // An unfilled blue rectangle named Mrs. Peacock\n",
    "            element.rect({\n",
    "                name: \"Mrs. Peacock\", x:40, y:110, w:100, h:20,\n",
    "                color: \"blue\", lineWidth: 10, degrees:70, fill:false});\n",
    "            // A line segment named \"Professor Plum\".\n",
    "            element.line({\n",
    "                name: \"Professor Plum\", x1:190, y1:100, x2:10, y2:200,\n",
    "                color:\"purple\", lineWidth: 20});\n",
    "            element.fit();\n",
    "            ready()\n",
    "        \"\"\", ready = self.get_array_async)\n",
    "        \n",
    "    def get_array_async(self):\n",
    "        \"\"\"\n",
    "        Get the array from the source_canvas and deliver it to the process_array callback\n",
    "        \"\"\"\n",
    "        self.source_canvas.element[\"print\"](\"Now getting array async.\")\n",
    "        self.source_canvas.pixels_array_async(self.process_array)\n",
    "        \n",
    "    def process_array(self, image_array):\n",
    "        \"\"\"\n",
    "        Process the canvas array and display it in the destination canvas.\n",
    "        \"\"\"\n",
    "        processed_array = image_array.astype(np.float)\n",
    "        # make background partially opaque\n",
    "        processed_array[:,:,3] = np.maximum(processed_array[:,:,1], 100)\n",
    "        # convolve all bands\n",
    "        for i in range(3):\n",
    "            processed_array[:,:,i] = convolve_and_scale255(processed_array[:,:,i], big_kernel)\n",
    "        self.dest_canvas.name_image_array(\"processed\", processed_array)\n",
    "        # Draw the image by name.\n",
    "        self.dest_canvas.named_image(\"processed\", 0, 0, 320, 220)\n",
    "        self.dest_canvas.element[\"print\"](\"Processed image loaded.\")\n",
    "        \n",
    "C = ConvolveCanvas()"
   ]
  },
  {
   "cell_type": "code",
   "execution_count": null,
   "metadata": {},
   "outputs": [],
   "source": []
  }
 ],
 "metadata": {
  "kernelspec": {
   "display_name": "Python 3",
   "language": "python",
   "name": "python3"
  },
  "language_info": {
   "codemirror_mode": {
    "name": "ipython",
    "version": 3
   },
   "file_extension": ".py",
   "mimetype": "text/x-python",
   "name": "python",
   "nbconvert_exporter": "python",
   "pygments_lexer": "ipython3",
   "version": "3.6.8"
  },
  "widgets": {
   "application/vnd.jupyter.widget-state+json": {
    "state": {
     "006d947f4ea043a0945311c1769d8bef": {
      "model_module": "@jupyter-widgets/base",
      "model_module_version": "1.0.0",
      "model_name": "LayoutModel",
      "state": {}
     },
     "0110b7ce1c8d4387b5e1c00706619c56": {
      "model_module": "@jupyter-widgets/controls",
      "model_module_version": "1.0.0",
      "model_name": "DescriptionStyleModel",
      "state": {
       "description_width": ""
      }
     },
     "013c536bd44046e28ed2aeac632eba8b": {
      "model_module": "@jupyter-widgets/controls",
      "model_module_version": "1.0.0",
      "model_name": "HTMLModel",
      "state": {
       "layout": "IPY_MODEL_9fa62013c9f949e79977223d99d587f9",
       "style": "IPY_MODEL_e9d9439769ff4fb0ac94792b99160613",
       "value": "<img src=\"Image_processed.png\" id=\"snapshot_id_67_1535658070050\"/>\n <div id=\"snapshot_id_68_1535658070050\">Image_processed.png</div>"
      }
     },
     "0141a572d0c74e3da409461ed3171082": {
      "model_module": "@jupyter-widgets/base",
      "model_module_version": "1.0.0",
      "model_name": "LayoutModel",
      "state": {}
     },
     "014e0984f19d4e17b7ce3034c8a15346": {
      "model_module": "@jupyter-widgets/base",
      "model_module_version": "1.0.0",
      "model_name": "LayoutModel",
      "state": {}
     },
     "01a0ffaa08b449b492f8922fca1f25b1": {
      "model_module": "@jupyter-widgets/controls",
      "model_module_version": "1.0.0",
      "model_name": "HTMLModel",
      "state": {
       "layout": "IPY_MODEL_acb03afda4f1471e80fb8735a58046d8",
       "style": "IPY_MODEL_404c9207fcbb42028aa99f7275303da4",
       "value": "<img src=\"Image3.png\" id=\"snapshot_id_11_1535576633316\"/>\n <div id=\"snapshot_id_12_1535576633316\">Image3.png</div>"
      }
     },
     "01d01174de844f84869901203ee80e6f": {
      "model_module": "jp_proxy_widget",
      "model_module_version": "^0.3.4",
      "model_name": "JSProxyModel",
      "state": {
       "_model_module_version": "^0.3.4",
       "_send_counter": 11,
       "_view_module_version": "^0.3.4",
       "error_msg": "No error",
       "layout": "IPY_MODEL_2611ce5545b642b1ba2f43fdcd63beec",
       "rendered": true,
       "status": "Got results."
      }
     },
     "024c485d0153420e9246785c0a684430": {
      "model_module": "jp_proxy_widget",
      "model_module_version": "^0.3.4",
      "model_name": "JSProxyModel",
      "state": {
       "_model_module_version": "^0.3.4",
       "_send_counter": 6,
       "_view_module_version": "^0.3.4",
       "error_msg": "No error",
       "layout": "IPY_MODEL_a4fb27c9a1534703a12b61c6fa7710dd",
       "rendered": true,
       "status": "Got results."
      }
     },
     "025c784deb9947d18401daf7c400b859": {
      "model_module": "@jupyter-widgets/base",
      "model_module_version": "1.0.0",
      "model_name": "LayoutModel",
      "state": {}
     },
     "02f5899a8192499599d49fda38270d60": {
      "model_module": "@jupyter-widgets/controls",
      "model_module_version": "1.0.0",
      "model_name": "DescriptionStyleModel",
      "state": {
       "description_width": ""
      }
     },
     "03094a2c08a94e51b51e22fe08b0ff22": {
      "model_module": "@jupyter-widgets/controls",
      "model_module_version": "1.0.0",
      "model_name": "DescriptionStyleModel",
      "state": {
       "description_width": ""
      }
     },
     "033939a06c35491fb2b53752987496ae": {
      "model_module": "@jupyter-widgets/controls",
      "model_module_version": "1.0.0",
      "model_name": "HTMLModel",
      "state": {
       "layout": "IPY_MODEL_3f03630de5d84c09a471473a5fb00a95",
       "style": "IPY_MODEL_8bb59d7d1068427aad0efe0541e44567",
       "value": "<img src=\"Image_source.png\" id=\"snapshot_id_29_1535655310315\"/>\n <div id=\"snapshot_id_30_1535655310315\">Image_source.png</div>"
      }
     },
     "037cacdbd25249ec99262d32e909ba54": {
      "model_module": "@jupyter-widgets/base",
      "model_module_version": "1.0.0",
      "model_name": "LayoutModel",
      "state": {}
     },
     "037de0476b0141ca9300a22f16dd1772": {
      "model_module": "@jupyter-widgets/base",
      "model_module_version": "1.0.0",
      "model_name": "LayoutModel",
      "state": {}
     },
     "041c8bd81e15491194c17288539143fb": {
      "model_module": "@jupyter-widgets/controls",
      "model_module_version": "1.0.0",
      "model_name": "DescriptionStyleModel",
      "state": {
       "description_width": ""
      }
     },
     "043ba9f479464a5dac477a2fa6c3f23f": {
      "model_module": "jp_proxy_widget",
      "model_module_version": "^0.3.4",
      "model_name": "JSProxyModel",
      "state": {
       "_model_module_version": "^0.3.4",
       "_send_counter": 11,
       "_view_module_version": "^0.3.4",
       "error_msg": "No error",
       "layout": "IPY_MODEL_ce103865568c422cb892a08a6ec6535a",
       "rendered": true,
       "status": "Got results."
      }
     },
     "0445673fff51492db3f377c31260410f": {
      "model_module": "@jupyter-widgets/base",
      "model_module_version": "1.0.0",
      "model_name": "LayoutModel",
      "state": {
       "border": "1px solid black"
      }
     },
     "0525bffe26fe40f9b271eba408e95a42": {
      "model_module": "@jupyter-widgets/controls",
      "model_module_version": "1.0.0",
      "model_name": "TextModel",
      "state": {
       "description": "error",
       "layout": "IPY_MODEL_fedbcefb267f427bb52316f03665db5c",
       "style": "IPY_MODEL_d9534c002cb948ffa950291f5b6c9b6f",
       "value": "No error"
      }
     },
     "05b49a48bd6742b79f0ba807dead7f4a": {
      "model_module": "@jupyter-widgets/base",
      "model_module_version": "1.0.0",
      "model_name": "LayoutModel",
      "state": {}
     },
     "05ec1a51a7da4ad899b12f0d197618f3": {
      "model_module": "@jupyter-widgets/controls",
      "model_module_version": "1.0.0",
      "model_name": "TabModel",
      "state": {
       "_titles": {
        "0": "Canvas",
        "1": "Snapshot"
       },
       "children": [
        "IPY_MODEL_16435f89683649319dd877aa5d7956ae",
        "IPY_MODEL_85975dff124548d2b060a1b6605f1076"
       ],
       "layout": "IPY_MODEL_4a49a3fb8e6c42f9bac00a76ef57c48c"
      }
     },
     "05f5330c6da54c51b7f2f88e13bd0bd7": {
      "model_module": "@jupyter-widgets/controls",
      "model_module_version": "1.0.0",
      "model_name": "DescriptionStyleModel",
      "state": {
       "description_width": ""
      }
     },
     "06569eb2f59d4de987de4818389c539f": {
      "model_module": "@jupyter-widgets/base",
      "model_module_version": "1.0.0",
      "model_name": "LayoutModel",
      "state": {}
     },
     "0679973236be49eb8a83b5ff8c9c690a": {
      "model_module": "@jupyter-widgets/controls",
      "model_module_version": "1.0.0",
      "model_name": "TextModel",
      "state": {
       "description": "status:",
       "layout": "IPY_MODEL_ffda226daa4e4bd8803cb60731789504",
       "style": "IPY_MODEL_57db697a06574059a11ae05cb8fdcb68",
       "value": "Got results."
      }
     },
     "0688408a85fd4c79bd9ce7297abd6c0f": {
      "model_module": "@jupyter-widgets/controls",
      "model_module_version": "1.0.0",
      "model_name": "TextModel",
      "state": {
       "description": "status:",
       "layout": "IPY_MODEL_95233b89741b464db2706f4e9a7771fb",
       "style": "IPY_MODEL_57382920b79047bfa34275b3dfb2a1ea",
       "value": "Got results."
      }
     },
     "06a4be1e4e6e47a2b6f9939656d10cd2": {
      "model_module": "@jupyter-widgets/base",
      "model_module_version": "1.0.0",
      "model_name": "LayoutModel",
      "state": {
       "border": "1px solid black"
      }
     },
     "06d3397ff05c4496ba78c132f3415d8b": {
      "model_module": "@jupyter-widgets/controls",
      "model_module_version": "1.0.0",
      "model_name": "VBoxModel",
      "state": {
       "children": [
        "IPY_MODEL_55cadbabf03c409f858db71f82f29a36",
        "IPY_MODEL_202ef7365a534247abce2e9959f06cdb",
        "IPY_MODEL_0716674be9ca49a9b51fb4d37a37a4ee",
        "IPY_MODEL_7859201af2f84495b923ffdfe0238b8f"
       ],
       "layout": "IPY_MODEL_b9b5e9cd75a94d43ad86af59fee69678"
      }
     },
     "0716674be9ca49a9b51fb4d37a37a4ee": {
      "model_module": "@jupyter-widgets/controls",
      "model_module_version": "1.0.0",
      "model_name": "TextModel",
      "state": {
       "description": "error",
       "layout": "IPY_MODEL_aad4a8a4e8554cd2b88fa3868cc4bed2",
       "style": "IPY_MODEL_fbc12baf6db24a0fb5107b850baa4ddc",
       "value": "No error"
      }
     },
     "07834359ca69424dbab9d2539d8d9edc": {
      "model_module": "@jupyter-widgets/base",
      "model_module_version": "1.0.0",
      "model_name": "LayoutModel",
      "state": {}
     },
     "0786a939f9cc4754a7223067024d7a94": {
      "model_module": "@jupyter-widgets/controls",
      "model_module_version": "1.0.0",
      "model_name": "DescriptionStyleModel",
      "state": {
       "description_width": ""
      }
     },
     "07cd07744d2143a29f2661c4560e875c": {
      "model_module": "@jupyter-widgets/controls",
      "model_module_version": "1.0.0",
      "model_name": "HTMLModel",
      "state": {
       "layout": "IPY_MODEL_955b682621e24bccabcaf6c3a0e2d51e",
       "style": "IPY_MODEL_3abe8e1380374c4c9234326714b487de",
       "value": "<img src=\"Image3.png\" id=\"snapshot_id_5_1535658716270\"/>\n <div id=\"snapshot_id_6_1535658716270\">Image3.png</div>"
      }
     },
     "084afabd1fe340308c6a0d8b4cfd3848": {
      "model_module": "@jupyter-widgets/controls",
      "model_module_version": "1.0.0",
      "model_name": "VBoxModel",
      "state": {
       "children": [
        "IPY_MODEL_9a1fe4e04e594ad3ad52b21b4741e6f9",
        "IPY_MODEL_12add627099043218a7596d51d3ee603",
        "IPY_MODEL_f8b358b257504acf9671d1354b3a0615",
        "IPY_MODEL_126fa27fa0cf4d2e9eb1781d2cd77476"
       ],
       "layout": "IPY_MODEL_3de95ab49e404d598f2b51ca9a952f41"
      }
     },
     "0865d8a3b69f46bbab31ee8bcdb8ca06": {
      "model_module": "@jupyter-widgets/controls",
      "model_module_version": "1.0.0",
      "model_name": "TextModel",
      "state": {
       "description": "error",
       "layout": "IPY_MODEL_65676a99d9724987aaed13fdd5385bb3",
       "style": "IPY_MODEL_6f761f74bdbc4eaa8f327909e71179e9",
       "value": "NameError(\"global name 'inverted' is not defined\",)"
      }
     },
     "087ed0cfdd8f4f52b82356ef7949653b": {
      "model_module": "@jupyter-widgets/base",
      "model_module_version": "1.0.0",
      "model_name": "LayoutModel",
      "state": {}
     },
     "08fc1e437d714c9e986088dbc3c3e507": {
      "model_module": "jp_proxy_widget",
      "model_module_version": "^0.3.4",
      "model_name": "JSProxyModel",
      "state": {
       "_model_module_version": "^0.3.4",
       "_send_counter": 11,
       "_view_module_version": "^0.3.4",
       "error_msg": "No error",
       "layout": "IPY_MODEL_e2a592a82087458b91e90ab29e29ef9e",
       "rendered": true,
       "status": "Got results."
      }
     },
     "09302cb99e65417eaf63891780e54e1d": {
      "model_module": "@jupyter-widgets/base",
      "model_module_version": "1.0.0",
      "model_name": "LayoutModel",
      "state": {}
     },
     "09b7b8145cb745e0a3351c875ba6fed8": {
      "model_module": "@jupyter-widgets/controls",
      "model_module_version": "1.0.0",
      "model_name": "DescriptionStyleModel",
      "state": {
       "description_width": ""
      }
     },
     "09eacb48b58549f296841b75d4a6e90a": {
      "model_module": "jp_proxy_widget",
      "model_module_version": "^0.3.4",
      "model_name": "JSProxyModel",
      "state": {
       "_model_module_version": "^0.3.4",
       "_send_counter": 9,
       "_view_module_version": "^0.3.4",
       "error_msg": "No error",
       "layout": "IPY_MODEL_100f1ec6009649748ea5a52d5edf1c59",
       "rendered": true,
       "status": "Got results."
      }
     },
     "0a3efa708e194a4099758c06ffe04be7": {
      "model_module": "@jupyter-widgets/controls",
      "model_module_version": "1.0.0",
      "model_name": "TextModel",
      "state": {
       "description": "status:",
       "layout": "IPY_MODEL_5e785e371fcc43338ba743be0401dfd0",
       "style": "IPY_MODEL_18ec3ee462ab409a886f99a3e4a73467",
       "value": "Got results."
      }
     },
     "0a591a2472194cb99d43c2d36fa60484": {
      "model_module": "@jupyter-widgets/controls",
      "model_module_version": "1.0.0",
      "model_name": "DescriptionStyleModel",
      "state": {
       "description_width": ""
      }
     },
     "0a5d958cae584736b325c08aabaf7154": {
      "model_module": "@jupyter-widgets/controls",
      "model_module_version": "1.0.0",
      "model_name": "HTMLModel",
      "state": {
       "layout": "IPY_MODEL_6ac20885d4684ef09197f8ce3014dcb6",
       "style": "IPY_MODEL_bf46ce9d7dcc4833afb2bfab82b387a6",
       "value": "<img src=\"Image_source.png\" id=\"snapshot_id_15_1535655051617\"/>\n <div id=\"snapshot_id_16_1535655051617\">Image_source.png</div>"
      }
     },
     "0a5f0d0f0378413db45743111e334399": {
      "model_module": "@jupyter-widgets/base",
      "model_module_version": "1.0.0",
      "model_name": "LayoutModel",
      "state": {
       "border": "1px solid black"
      }
     },
     "0a93c645bbf9439994ef48072d3ca715": {
      "model_module": "@jupyter-widgets/controls",
      "model_module_version": "1.0.0",
      "model_name": "DescriptionStyleModel",
      "state": {
       "description_width": ""
      }
     },
     "0b7be4f9bf54411c991d02ee55f9aacc": {
      "model_module": "@jupyter-widgets/controls",
      "model_module_version": "1.0.0",
      "model_name": "DescriptionStyleModel",
      "state": {
       "description_width": ""
      }
     },
     "0b8dade43c3a46c9986c94e2f687c7f9": {
      "model_module": "@jupyter-widgets/controls",
      "model_module_version": "1.0.0",
      "model_name": "DescriptionStyleModel",
      "state": {
       "description_width": ""
      }
     },
     "0baf6aa3ea964903b454dc750ca8177b": {
      "model_module": "@jupyter-widgets/base",
      "model_module_version": "1.0.0",
      "model_name": "LayoutModel",
      "state": {}
     },
     "0bea9ee91b1c4347b0d42ccafdd0dc9c": {
      "model_module": "@jupyter-widgets/controls",
      "model_module_version": "1.0.0",
      "model_name": "TabModel",
      "state": {
       "_titles": {
        "0": "Canvas",
        "1": "Snapshot"
       },
       "children": [
        "IPY_MODEL_668fd0171a4347698b30e9373e300556",
        "IPY_MODEL_7154b696fb5342e488a8ec9e08e5464e"
       ],
       "layout": "IPY_MODEL_3db6e2b1268d456fa535af76cc55a956"
      }
     },
     "0c4b3cb25ee947c0a0afbd9b4e1b64cf": {
      "model_module": "@jupyter-widgets/base",
      "model_module_version": "1.0.0",
      "model_name": "LayoutModel",
      "state": {}
     },
     "0cdc8d371273402a9dd5790c46b5a811": {
      "model_module": "@jupyter-widgets/controls",
      "model_module_version": "1.0.0",
      "model_name": "DescriptionStyleModel",
      "state": {
       "description_width": ""
      }
     },
     "0d34a970535040f184d463b4ad8ed7f0": {
      "model_module": "@jupyter-widgets/base",
      "model_module_version": "1.0.0",
      "model_name": "LayoutModel",
      "state": {}
     },
     "0d8f26cfe8ec4862a346ca1c75bb9ef8": {
      "model_module": "@jupyter-widgets/base",
      "model_module_version": "1.0.0",
      "model_name": "LayoutModel",
      "state": {}
     },
     "0dee489364dd4d1a9d0304360dc77c0e": {
      "model_module": "@jupyter-widgets/controls",
      "model_module_version": "1.0.0",
      "model_name": "HTMLModel",
      "state": {
       "layout": "IPY_MODEL_98da326f1fb24740ab166ef3d58fb7b2",
       "style": "IPY_MODEL_d08ae5bf3f0a48dda8ad6c13629aa125",
       "value": "<img src=\"Image_source.png\" id=\"snapshot_id_49_1535657560870\"/>\n <div id=\"snapshot_id_50_1535657560870\">Image_source.png</div>"
      }
     },
     "0e2d4b6eda5647f09bb1d1687ee63b0b": {
      "model_module": "@jupyter-widgets/base",
      "model_module_version": "1.0.0",
      "model_name": "LayoutModel",
      "state": {}
     },
     "0e33714eb0af4695b122368053f41491": {
      "model_module": "@jupyter-widgets/base",
      "model_module_version": "1.0.0",
      "model_name": "LayoutModel",
      "state": {}
     },
     "0e6e87311e0e4919af489150e8b7fca0": {
      "model_module": "jp_proxy_widget",
      "model_module_version": "^0.3.4",
      "model_name": "JSProxyModel",
      "state": {
       "_model_module_version": "^0.3.4",
       "_send_counter": 6,
       "_view_module_version": "^0.3.4",
       "error_msg": "No error",
       "layout": "IPY_MODEL_2914c06e17604b609a65de089a175acc",
       "rendered": true,
       "status": "Got results."
      }
     },
     "0ed05257caf04837a8c17f8f492b6185": {
      "model_module": "@jupyter-widgets/controls",
      "model_module_version": "1.0.0",
      "model_name": "TextModel",
      "state": {
       "description": "status:",
       "layout": "IPY_MODEL_5a372cff1b1349769114be1c45180633",
       "style": "IPY_MODEL_616dd3592b8340fc92ba7d1eed14badf",
       "value": "Got results."
      }
     },
     "0f2583c694ac4be48e9994d35bc0ffc3": {
      "model_module": "@jupyter-widgets/base",
      "model_module_version": "1.0.0",
      "model_name": "LayoutModel",
      "state": {}
     },
     "0f577e94ab604b2487319e1c02481053": {
      "model_module": "jp_proxy_widget",
      "model_module_version": "^0.3.4",
      "model_name": "JSProxyModel",
      "state": {
       "_model_module_version": "^0.3.4",
       "_send_counter": 8,
       "_view_module_version": "^0.3.4",
       "error_msg": "No error",
       "layout": "IPY_MODEL_1403cd8407074f4684a271fa60c8abd4",
       "rendered": true,
       "status": "Got results."
      }
     },
     "100f1ec6009649748ea5a52d5edf1c59": {
      "model_module": "@jupyter-widgets/base",
      "model_module_version": "1.0.0",
      "model_name": "LayoutModel",
      "state": {}
     },
     "10362e1686df46deb69fd56836fa9a39": {
      "model_module": "@jupyter-widgets/controls",
      "model_module_version": "1.0.0",
      "model_name": "TextModel",
      "state": {
       "description": "error",
       "layout": "IPY_MODEL_95a6a47c8ec04780befc2bfc82ca42fa",
       "style": "IPY_MODEL_54a025d11bd74bcc87a853a09513a363",
       "value": "No error"
      }
     },
     "10aa514853f0435985681cfaf064af85": {
      "model_module": "jp_proxy_widget",
      "model_module_version": "^0.3.4",
      "model_name": "JSProxyModel",
      "state": {
       "_model_module_version": "^0.3.4",
       "_send_counter": 2,
       "_view_module_version": "^0.3.4",
       "error_msg": "No error",
       "layout": "IPY_MODEL_29b7516ad3254461be59cac662a8190d",
       "rendered": true,
       "status": "Got results."
      }
     },
     "10c6bd4c9c344722b0eb8453c3bd72f6": {
      "model_module": "@jupyter-widgets/controls",
      "model_module_version": "1.0.0",
      "model_name": "DescriptionStyleModel",
      "state": {
       "description_width": ""
      }
     },
     "10cea9489ea5479e9bc85e52d91ecceb": {
      "model_module": "@jupyter-widgets/controls",
      "model_module_version": "1.0.0",
      "model_name": "HTMLModel",
      "state": {
       "layout": "IPY_MODEL_697612c036634b5cace899efb7c48c9c",
       "style": "IPY_MODEL_65110c7016184f4ca3249ddc2775660a",
       "value": "<img src=\"Image_source.png\" id=\"snapshot_id_57_1535657942135\"/>\n <div id=\"snapshot_id_58_1535657942135\">Image_source.png</div>"
      }
     },
     "10e9d29232f14c9abf66e24fad5311d1": {
      "model_module": "@jupyter-widgets/controls",
      "model_module_version": "1.0.0",
      "model_name": "DescriptionStyleModel",
      "state": {
       "description_width": ""
      }
     },
     "11b8a0274f634a11b19b6dafb8f2b914": {
      "model_module": "@jupyter-widgets/base",
      "model_module_version": "1.0.0",
      "model_name": "LayoutModel",
      "state": {}
     },
     "11c8a5110d7f4c6c88f4b409d00ebd4e": {
      "model_module": "@jupyter-widgets/base",
      "model_module_version": "1.0.0",
      "model_name": "LayoutModel",
      "state": {}
     },
     "1220cf677ae848a4a11be21b2981bfa7": {
      "model_module": "@jupyter-widgets/output",
      "model_module_version": "1.0.0",
      "model_name": "OutputModel",
      "state": {
       "layout": "IPY_MODEL_369ffceb22ba462a8384c4e93d19a4e7",
       "outputs": [
        {
         "name": "stdout",
         "output_type": "stream",
         "text": "debug message area for widget:\n"
        }
       ]
      }
     },
     "124b05f0e95d447bacb9625f616cf4fc": {
      "model_module": "@jupyter-widgets/base",
      "model_module_version": "1.0.0",
      "model_name": "LayoutModel",
      "state": {}
     },
     "126fa27fa0cf4d2e9eb1781d2cd77476": {
      "model_module": "@jupyter-widgets/output",
      "model_module_version": "1.0.0",
      "model_name": "OutputModel",
      "state": {
       "layout": "IPY_MODEL_7d9257136fe04b23afd0834b37ff92ef",
       "outputs": [
        {
         "name": "stdout",
         "output_type": "stream",
         "text": "debug message area for widget:\n"
        }
       ]
      }
     },
     "12add627099043218a7596d51d3ee603": {
      "model_module": "@jupyter-widgets/controls",
      "model_module_version": "1.0.0",
      "model_name": "TextModel",
      "state": {
       "description": "status:",
       "layout": "IPY_MODEL_a94b573425244b0bb61350fd200a74e7",
       "style": "IPY_MODEL_e531b291cd5d47debaf4cbf437015518",
       "value": "Got results."
      }
     },
     "1336d047449846e0a76c0b38cdfaef09": {
      "model_module": "@jupyter-widgets/controls",
      "model_module_version": "1.0.0",
      "model_name": "TextModel",
      "state": {
       "description": "error",
       "layout": "IPY_MODEL_17c7137ed79d4381b066782dd8114041",
       "style": "IPY_MODEL_0b7be4f9bf54411c991d02ee55f9aacc",
       "value": "No error"
      }
     },
     "134c9e24717440ea9867bc8698878a20": {
      "model_module": "@jupyter-widgets/base",
      "model_module_version": "1.0.0",
      "model_name": "LayoutModel",
      "state": {}
     },
     "1364cc1fd5bd4ce587f42d018ff09b2f": {
      "model_module": "@jupyter-widgets/base",
      "model_module_version": "1.0.0",
      "model_name": "LayoutModel",
      "state": {}
     },
     "1403cd8407074f4684a271fa60c8abd4": {
      "model_module": "@jupyter-widgets/base",
      "model_module_version": "1.0.0",
      "model_name": "LayoutModel",
      "state": {}
     },
     "145b621e5a354ecf902992f7029ff87d": {
      "model_module": "@jupyter-widgets/controls",
      "model_module_version": "1.0.0",
      "model_name": "TextModel",
      "state": {
       "description": "error",
       "layout": "IPY_MODEL_3ffb699c24444e60940516a87ab8f1a5",
       "style": "IPY_MODEL_b6e1da38a4f04daea7f0b8ae8644abf6",
       "value": "No error"
      }
     },
     "14742755e5454dde8c929d2ad50751a0": {
      "model_module": "@jupyter-widgets/base",
      "model_module_version": "1.0.0",
      "model_name": "LayoutModel",
      "state": {}
     },
     "1496dcd4b13f4ce6977ca1d6886ab32d": {
      "model_module": "@jupyter-widgets/output",
      "model_module_version": "1.0.0",
      "model_name": "OutputModel",
      "state": {
       "layout": "IPY_MODEL_de27df794d964794b0319ba2eaf65d91",
       "outputs": [
        {
         "name": "stdout",
         "output_type": "stream",
         "text": "debug message area for widget:\n"
        },
        {
         "data": {
          "application/vnd.jupyter.widget-view+json": {
           "model_id": "ede98f528ec544c1a8c28590831141f7",
           "version_major": 2,
           "version_minor": 0
          },
          "text/html": "<p>Failed to display Jupyter Widget of type <code>VBox</code>.</p>\n<p>\n  If you're reading this message in Jupyter Notebook or JupyterLab, it may mean\n  that the widgets JavaScript is still loading. If this message persists, it\n  likely means that the widgets JavaScript library is either not installed or\n  not enabled. See the <a href=\"https://ipywidgets.readthedocs.io/en/stable/user_install.html\">Jupyter\n  Widgets Documentation</a> for setup instructions.\n</p>\n<p>\n  If you're reading this message in another notebook frontend (for example, a static\n  rendering on GitHub or <a href=\"https://nbviewer.jupyter.org/\">NBViewer</a>),\n  it may mean that your frontend doesn't currently support widgets.\n</p>\n",
          "text/plain": "VBox(children=(SnapshotCanvas(status=u'Not yet rendered'), Text(value=u'Not yet rendered', description=u'status:'), Text(value=u'No error', description=u'error'), Output(layout=Layout(border=u'1px solid black'))))"
         },
         "metadata": {},
         "output_type": "display_data"
        }
       ]
      }
     },
     "14992a0fb329439ea47045f952eef8ec": {
      "model_module": "@jupyter-widgets/output",
      "model_module_version": "1.0.0",
      "model_name": "OutputModel",
      "state": {
       "layout": "IPY_MODEL_0445673fff51492db3f377c31260410f",
       "outputs": [
        {
         "name": "stdout",
         "output_type": "stream",
         "text": "debug message area for widget:\n"
        }
       ]
      }
     },
     "14a4a560757f41ac967d78ee8988a8c6": {
      "model_module": "@jupyter-widgets/controls",
      "model_module_version": "1.0.0",
      "model_name": "VBoxModel",
      "state": {
       "children": [
        "IPY_MODEL_f522415c1d034855b43fffc48f9899ef",
        "IPY_MODEL_af5a4487051c4df280d2fac79433ea35",
        "IPY_MODEL_9c2d569656c84c28b1d537de72f62e22",
        "IPY_MODEL_e9ec97ba371a4bbea372b59cbdfc4fe6"
       ],
       "layout": "IPY_MODEL_9d9283c3108343b29456043225a380f7"
      }
     },
     "14e422dc523b4ae4a9b10ca70750ae6b": {
      "model_module": "jp_proxy_widget",
      "model_module_version": "^0.3.4",
      "model_name": "JSProxyModel",
      "state": {
       "_model_module_version": "^0.3.4",
       "_send_counter": 10,
       "_view_module_version": "^0.3.4",
       "error_msg": "No error",
       "layout": "IPY_MODEL_825f73677ff94f6d83d2bb77e08197dd",
       "rendered": true,
       "status": "Got results."
      }
     },
     "14ead575c30b406da4c1ea0296ed473d": {
      "model_module": "@jupyter-widgets/base",
      "model_module_version": "1.0.0",
      "model_name": "LayoutModel",
      "state": {}
     },
     "152798091a4a4571ac87b6d7c8c18256": {
      "model_module": "@jupyter-widgets/base",
      "model_module_version": "1.0.0",
      "model_name": "LayoutModel",
      "state": {}
     },
     "16015099229a4071b3aa17ccda31dc56": {
      "model_module": "@jupyter-widgets/base",
      "model_module_version": "1.0.0",
      "model_name": "LayoutModel",
      "state": {}
     },
     "160d3d1a611c438e9baf73fef451c733": {
      "model_module": "@jupyter-widgets/controls",
      "model_module_version": "1.0.0",
      "model_name": "DescriptionStyleModel",
      "state": {
       "description_width": ""
      }
     },
     "16435f89683649319dd877aa5d7956ae": {
      "model_module": "@jupyter-widgets/controls",
      "model_module_version": "1.0.0",
      "model_name": "VBoxModel",
      "state": {
       "children": [
        "IPY_MODEL_611a4951d8f942d3a1a056d15ee69f59",
        "IPY_MODEL_10aa514853f0435985681cfaf064af85"
       ],
       "layout": "IPY_MODEL_fdd7cdb32c0148649787948b355f144f"
      }
     },
     "1673a05b0b6642cab9b0804def406600": {
      "model_module": "jp_proxy_widget",
      "model_module_version": "^0.3.4",
      "model_name": "JSProxyModel",
      "state": {
       "_model_module_version": "^0.3.4",
       "_send_counter": 18,
       "_view_module_version": "^0.3.4",
       "error_msg": "No error",
       "layout": "IPY_MODEL_5b7806288b634ac9b36bcc8489dde55f",
       "rendered": true,
       "status": "Got results."
      }
     },
     "16889bceb8bb4a70b5fcde28e0651d75": {
      "model_module": "@jupyter-widgets/base",
      "model_module_version": "1.0.0",
      "model_name": "LayoutModel",
      "state": {}
     },
     "16c8fb4953fe4ab0a554e9dd2606c06f": {
      "model_module": "@jupyter-widgets/controls",
      "model_module_version": "1.0.0",
      "model_name": "DescriptionStyleModel",
      "state": {
       "description_width": ""
      }
     },
     "16f079a6f41d4c00b29499ab17b38785": {
      "model_module": "@jupyter-widgets/controls",
      "model_module_version": "1.0.0",
      "model_name": "VBoxModel",
      "state": {
       "children": [
        "IPY_MODEL_14e422dc523b4ae4a9b10ca70750ae6b",
        "IPY_MODEL_eb6b307d16064357897b37a22d556788"
       ],
       "layout": "IPY_MODEL_1b8407fc9a1a4126888e8be32ab151f9"
      }
     },
     "17667bbb4de043eb85aef0307516fdd4": {
      "model_module": "@jupyter-widgets/base",
      "model_module_version": "1.0.0",
      "model_name": "LayoutModel",
      "state": {}
     },
     "17c7137ed79d4381b066782dd8114041": {
      "model_module": "@jupyter-widgets/base",
      "model_module_version": "1.0.0",
      "model_name": "LayoutModel",
      "state": {}
     },
     "17e3c2eae8cd48e9af299fba3f2b5d9f": {
      "model_module": "@jupyter-widgets/controls",
      "model_module_version": "1.0.0",
      "model_name": "DescriptionStyleModel",
      "state": {
       "description_width": ""
      }
     },
     "1830e2e1484943c6a9c1d2a15b57cfd6": {
      "model_module": "@jupyter-widgets/base",
      "model_module_version": "1.0.0",
      "model_name": "LayoutModel",
      "state": {}
     },
     "183d3f4263cd4be19b16b1632e53ccbc": {
      "model_module": "@jupyter-widgets/base",
      "model_module_version": "1.0.0",
      "model_name": "LayoutModel",
      "state": {}
     },
     "18933f16aead4e478de82911fe930eea": {
      "model_module": "@jupyter-widgets/base",
      "model_module_version": "1.0.0",
      "model_name": "LayoutModel",
      "state": {}
     },
     "1899983b288d473c9d5c33877833276d": {
      "model_module": "@jupyter-widgets/controls",
      "model_module_version": "1.0.0",
      "model_name": "DescriptionStyleModel",
      "state": {
       "description_width": ""
      }
     },
     "189a49704c9442a69ef85aa747c79f83": {
      "model_module": "jp_proxy_widget",
      "model_module_version": "^0.3.4",
      "model_name": "JSProxyModel",
      "state": {
       "_model_module_version": "^0.3.4",
       "_send_counter": 2,
       "_view_module_version": "^0.3.4",
       "error_msg": "No error",
       "layout": "IPY_MODEL_32711b14714244b980aad376ed7d3077",
       "rendered": true,
       "status": "Got results."
      }
     },
     "18ec3ee462ab409a886f99a3e4a73467": {
      "model_module": "@jupyter-widgets/controls",
      "model_module_version": "1.0.0",
      "model_name": "DescriptionStyleModel",
      "state": {
       "description_width": ""
      }
     },
     "1939501d73794e97a6173361002321b7": {
      "model_module": "@jupyter-widgets/base",
      "model_module_version": "1.0.0",
      "model_name": "LayoutModel",
      "state": {}
     },
     "195ec407bcaa444a95294c6976147d51": {
      "model_module": "@jupyter-widgets/base",
      "model_module_version": "1.0.0",
      "model_name": "LayoutModel",
      "state": {}
     },
     "196a1a9f477a44839d7916e6cdb8a812": {
      "model_module": "@jupyter-widgets/base",
      "model_module_version": "1.0.0",
      "model_name": "LayoutModel",
      "state": {}
     },
     "19835353a6d64bb982617e3c3015a044": {
      "model_module": "@jupyter-widgets/controls",
      "model_module_version": "1.0.0",
      "model_name": "VBoxModel",
      "state": {
       "children": [
        "IPY_MODEL_01d01174de844f84869901203ee80e6f",
        "IPY_MODEL_8307d13701b145e6a8c3425b7dcb9d8d",
        "IPY_MODEL_33e98b81c2b54735b2b5bf094d22345b",
        "IPY_MODEL_97b9173218f84244925df624ee2a1c9d"
       ],
       "layout": "IPY_MODEL_ddb6e338fb3c43da936aa9526443cb55"
      }
     },
     "19f49e9c64e24d6e8ed31cf748ae1f14": {
      "model_module": "@jupyter-widgets/controls",
      "model_module_version": "1.0.0",
      "model_name": "DescriptionStyleModel",
      "state": {
       "description_width": ""
      }
     },
     "1a70bb78bdf04ea38bbc457214b211bb": {
      "model_module": "@jupyter-widgets/base",
      "model_module_version": "1.0.0",
      "model_name": "LayoutModel",
      "state": {}
     },
     "1a75f78791584c728a6be380cd21ec4f": {
      "model_module": "jp_proxy_widget",
      "model_module_version": "^0.3.4",
      "model_name": "JSProxyModel",
      "state": {
       "_model_module_version": "^0.3.4",
       "_send_counter": 2,
       "_view_module_version": "^0.3.4",
       "error_msg": "No error",
       "layout": "IPY_MODEL_a034bed383e94a078d07cf184b4ca4e2",
       "rendered": true,
       "status": "Got results."
      }
     },
     "1a88d8b27337450788aa6722ba0c6bb3": {
      "model_module": "@jupyter-widgets/controls",
      "model_module_version": "1.0.0",
      "model_name": "TextModel",
      "state": {
       "description": "error",
       "layout": "IPY_MODEL_63b826cf560d423ea599edbc4441614e",
       "style": "IPY_MODEL_561abe802d3a4d9482afd7ef4d698431",
       "value": "No error"
      }
     },
     "1a8d67d2ab184e2891921f6efbeed275": {
      "model_module": "@jupyter-widgets/output",
      "model_module_version": "1.0.0",
      "model_name": "OutputModel",
      "state": {
       "layout": "IPY_MODEL_9396086380614ff6975b71e91eef0e9d",
       "outputs": [
        {
         "name": "stdout",
         "output_type": "stream",
         "text": "debug message area for widget:\n"
        }
       ]
      }
     },
     "1ac0f63c5abc4074b78e14184267d36e": {
      "model_module": "@jupyter-widgets/output",
      "model_module_version": "1.0.0",
      "model_name": "OutputModel",
      "state": {
       "layout": "IPY_MODEL_87965d27e246497bbab046e26db601cc",
       "outputs": [
        {
         "name": "stdout",
         "output_type": "stream",
         "text": "debug message area for widget:\n"
        }
       ]
      }
     },
     "1acc2a3a5fc14d67a5b44ba66c240335": {
      "model_module": "jp_proxy_widget",
      "model_module_version": "^0.3.4",
      "model_name": "JSProxyModel",
      "state": {
       "_model_module_version": "^0.3.4",
       "_send_counter": 8,
       "_view_module_version": "^0.3.4",
       "error_msg": "No error",
       "layout": "IPY_MODEL_c43c4da7bfa048bcbe1e59d15286fd6e",
       "rendered": true,
       "status": "Got results."
      }
     },
     "1aec4757ca874bb39faf86f58a23671d": {
      "model_module": "jp_proxy_widget",
      "model_module_version": "^0.3.3",
      "model_name": "JSProxyModel",
      "state": {
       "_model_module_version": "^0.3.3",
       "_send_counter": 17,
       "_view_module_version": "^0.3.3",
       "error_msg": "No error",
       "layout": "IPY_MODEL_a5f847cedb5e421c9b9aeacd688f08c0",
       "rendered": true,
       "status": "Got results."
      }
     },
     "1b186bff004f4f0587af34a2cb057aa9": {
      "model_module": "@jupyter-widgets/controls",
      "model_module_version": "1.0.0",
      "model_name": "HTMLModel",
      "state": {
       "layout": "IPY_MODEL_5123f222b1234a32a228738bcceefaf0",
       "style": "IPY_MODEL_bdc38f454f714bfcaf6471a9394f3d61",
       "value": "<img src=\"Image_source.png\" id=\"snapshot_id_51_1535655548053\"/>\n <div id=\"snapshot_id_52_1535655548053\">Image_source.png</div>"
      }
     },
     "1b44164d376044d8b1ce9d337a2f817e": {
      "model_module": "@jupyter-widgets/controls",
      "model_module_version": "1.0.0",
      "model_name": "DescriptionStyleModel",
      "state": {
       "description_width": ""
      }
     },
     "1b76dffe6ae2438286fb4af7f14e5d61": {
      "model_module": "@jupyter-widgets/output",
      "model_module_version": "1.0.0",
      "model_name": "OutputModel",
      "state": {
       "layout": "IPY_MODEL_c5765f99125947719b4c64119a0c132d",
       "outputs": [
        {
         "name": "stdout",
         "output_type": "stream",
         "text": "debug message area for widget:\n"
        }
       ]
      }
     },
     "1b8407fc9a1a4126888e8be32ab151f9": {
      "model_module": "@jupyter-widgets/base",
      "model_module_version": "1.0.0",
      "model_name": "LayoutModel",
      "state": {}
     },
     "1bd61a8b7ca245c1b777bf3903148656": {
      "model_module": "jp_proxy_widget",
      "model_module_version": "^0.3.4",
      "model_name": "JSProxyModel",
      "state": {
       "_model_module_version": "^0.3.4",
       "_send_counter": 8,
       "_view_module_version": "^0.3.4",
       "error_msg": "No error",
       "layout": "IPY_MODEL_f47699003d594b47842c0389358467c0",
       "rendered": true,
       "status": "Got results."
      }
     },
     "1bea907e96eb4f99a242d6ec0edb2ea8": {
      "model_module": "@jupyter-widgets/base",
      "model_module_version": "1.0.0",
      "model_name": "LayoutModel",
      "state": {}
     },
     "1c415182d98d4cc3a36b61b5257389b0": {
      "model_module": "@jupyter-widgets/output",
      "model_module_version": "1.0.0",
      "model_name": "OutputModel",
      "state": {
       "layout": "IPY_MODEL_c4a507433f7e49a9803d21c236b866ea",
       "outputs": [
        {
         "name": "stdout",
         "output_type": "stream",
         "text": "debug message area for widget:\n"
        }
       ]
      }
     },
     "1c5286f1b838490692fbb90bbf08d1d5": {
      "model_module": "@jupyter-widgets/controls",
      "model_module_version": "1.0.0",
      "model_name": "DescriptionStyleModel",
      "state": {
       "description_width": ""
      }
     },
     "1c99a111e8d542c8beb74e3bb1f06986": {
      "model_module": "@jupyter-widgets/controls",
      "model_module_version": "1.0.0",
      "model_name": "VBoxModel",
      "state": {
       "children": [
        "IPY_MODEL_624ce3beef2c4cf1901bb19b1ca2f8e8",
        "IPY_MODEL_f346f90dc05d42a1a1fd7efd67a909ef",
        "IPY_MODEL_d33b8910bfb9427fa29689c4d7d2805b",
        "IPY_MODEL_6c783d0dcfe845c2b1b5bdb7029bc07e"
       ],
       "layout": "IPY_MODEL_661e2acc0f3c4c98a7d3c25723177f2d"
      }
     },
     "1cd4e37b4c8049fbbc4e94c64b47eae4": {
      "model_module": "@jupyter-widgets/controls",
      "model_module_version": "1.0.0",
      "model_name": "VBoxModel",
      "state": {
       "children": [
        "IPY_MODEL_1bd61a8b7ca245c1b777bf3903148656",
        "IPY_MODEL_6ddbae8a8dd74cb7b970710164c06842",
        "IPY_MODEL_583317a3ad1e49c4befb40bfea91a012",
        "IPY_MODEL_a4b4c9cf0e1a4e949eef803a992371fd"
       ],
       "layout": "IPY_MODEL_f75a3c986f7541a7b974bc4c1dd02224"
      }
     },
     "1d231044910046b39e462a77fb20de39": {
      "model_module": "@jupyter-widgets/base",
      "model_module_version": "1.0.0",
      "model_name": "LayoutModel",
      "state": {}
     },
     "1e48eefa8ad340a090f6b946c2c7bee8": {
      "model_module": "@jupyter-widgets/controls",
      "model_module_version": "1.0.0",
      "model_name": "DescriptionStyleModel",
      "state": {
       "description_width": ""
      }
     },
     "1e80abec70214fce8fc0eb4d1147f2c5": {
      "model_module": "@jupyter-widgets/base",
      "model_module_version": "1.0.0",
      "model_name": "LayoutModel",
      "state": {}
     },
     "1e90b97fdcec490c9ec9c463f40e5b1d": {
      "model_module": "@jupyter-widgets/controls",
      "model_module_version": "1.0.0",
      "model_name": "DescriptionStyleModel",
      "state": {
       "description_width": ""
      }
     },
     "1f31e194a1194820a3e0425166187fdd": {
      "model_module": "@jupyter-widgets/base",
      "model_module_version": "1.0.0",
      "model_name": "LayoutModel",
      "state": {}
     },
     "1f3c7d84323946a0ae11a854e1fd4513": {
      "model_module": "@jupyter-widgets/controls",
      "model_module_version": "1.0.0",
      "model_name": "DescriptionStyleModel",
      "state": {
       "description_width": ""
      }
     },
     "1f5bee377225461ba5cbf2fabc444091": {
      "model_module": "@jupyter-widgets/base",
      "model_module_version": "1.0.0",
      "model_name": "LayoutModel",
      "state": {}
     },
     "1fcd442be7ce4aa28556716c624dda84": {
      "model_module": "@jupyter-widgets/controls",
      "model_module_version": "1.0.0",
      "model_name": "VBoxModel",
      "state": {
       "children": [
        "IPY_MODEL_ee3b2a5fef154e5b9d080c70299aa8f5",
        "IPY_MODEL_a649b88926844d8e8a3ef0326b44d352",
        "IPY_MODEL_c06bdd0651aa4a99ac7770163bb49975",
        "IPY_MODEL_7800400e760747eda42333d7aebe52c9"
       ],
       "layout": "IPY_MODEL_6277aa0d72424ee88e73968e6d88fc25"
      }
     },
     "202ef7365a534247abce2e9959f06cdb": {
      "model_module": "@jupyter-widgets/controls",
      "model_module_version": "1.0.0",
      "model_name": "TextModel",
      "state": {
       "description": "status:",
       "layout": "IPY_MODEL_abd5d8e4f3c24c9a9a82fc3b550de12b",
       "style": "IPY_MODEL_329ef5f2e0ab43138e5b7eb995921bb2",
       "value": "Got results."
      }
     },
     "2068f8ae4baf4c59b2590a4297943e70": {
      "model_module": "@jupyter-widgets/output",
      "model_module_version": "1.0.0",
      "model_name": "OutputModel",
      "state": {
       "layout": "IPY_MODEL_43cfd786bdd842abab03c6a7b65a1738",
       "outputs": [
        {
         "name": "stdout",
         "output_type": "stream",
         "text": "debug message area for widget:\n"
        }
       ]
      }
     },
     "20753a1064db49c2a8e5ccce48be694e": {
      "model_module": "jp_proxy_widget",
      "model_module_version": "^0.3.3",
      "model_name": "JSProxyModel",
      "state": {
       "_model_module_version": "^0.3.3",
       "_send_counter": 2,
       "_view_module_version": "^0.3.3",
       "error_msg": "No error",
       "layout": "IPY_MODEL_797fd8a01aa2419b921fcf9822a2c21f",
       "rendered": true,
       "status": "call back to <function callback_function at 0x10dfb2578>"
      }
     },
     "2122b9c41fbc47d7a88404cbeb11f022": {
      "model_module": "jp_proxy_widget",
      "model_module_version": "^0.3.4",
      "model_name": "JSProxyModel",
      "state": {
       "_model_module_version": "^0.3.4",
       "_send_counter": 11,
       "_view_module_version": "^0.3.4",
       "error_msg": "No error",
       "layout": "IPY_MODEL_3ad2702f8a614a7485670fa171dc5382",
       "rendered": true,
       "status": "Got results."
      }
     },
     "21886baf24bd40d880b60677c37b698e": {
      "model_module": "@jupyter-widgets/base",
      "model_module_version": "1.0.0",
      "model_name": "LayoutModel",
      "state": {}
     },
     "23133bf797b640d2bd42a3f838b1480f": {
      "model_module": "@jupyter-widgets/base",
      "model_module_version": "1.0.0",
      "model_name": "LayoutModel",
      "state": {}
     },
     "23e4a045ad584728996f197ae0db6571": {
      "model_module": "@jupyter-widgets/base",
      "model_module_version": "1.0.0",
      "model_name": "LayoutModel",
      "state": {}
     },
     "24611504dc3d494288ca4c0c61258079": {
      "model_module": "@jupyter-widgets/controls",
      "model_module_version": "1.0.0",
      "model_name": "HTMLModel",
      "state": {
       "layout": "IPY_MODEL_e9919ea31d3c4f0f8b68182f46cca5f9",
       "style": "IPY_MODEL_10e9d29232f14c9abf66e24fad5311d1",
       "value": "<img src=\"Image_source.png\" id=\"snapshot_id_43_1535655395020\"/>\n <div id=\"snapshot_id_44_1535655395020\">Image_source.png</div>"
      }
     },
     "247bfa47a39c4d93ac6b419806d75b7c": {
      "model_module": "@jupyter-widgets/controls",
      "model_module_version": "1.0.0",
      "model_name": "DescriptionStyleModel",
      "state": {
       "description_width": ""
      }
     },
     "248d8150d1d449459d5c4d4106a72211": {
      "model_module": "@jupyter-widgets/base",
      "model_module_version": "1.0.0",
      "model_name": "LayoutModel",
      "state": {}
     },
     "24d0b0b3695944f284430e052d923c82": {
      "model_module": "@jupyter-widgets/controls",
      "model_module_version": "1.0.0",
      "model_name": "TextModel",
      "state": {
       "description": "status:",
       "layout": "IPY_MODEL_a0682f1ff0e34a0ca0b444386ed744c7",
       "style": "IPY_MODEL_97cb2c51adfa49519a7286fd5186f8d3",
       "value": "Got results."
      }
     },
     "24e18d6b3f064cce9e0a8c09c8ab7c98": {
      "model_module": "@jupyter-widgets/output",
      "model_module_version": "1.0.0",
      "model_name": "OutputModel",
      "state": {
       "layout": "IPY_MODEL_6a4706cad5d849aaba06f1dc19cdceab",
       "outputs": [
        {
         "name": "stdout",
         "output_type": "stream",
         "text": "debug message area for widget:\n"
        }
       ]
      }
     },
     "24f88e106b7745f884e2b94bbd37e325": {
      "model_module": "@jupyter-widgets/base",
      "model_module_version": "1.0.0",
      "model_name": "LayoutModel",
      "state": {}
     },
     "2566521311d745bd8fa290ff052677fe": {
      "model_module": "@jupyter-widgets/base",
      "model_module_version": "1.0.0",
      "model_name": "LayoutModel",
      "state": {}
     },
     "2609a5e15a0f40d1b1762826e3e5d852": {
      "model_module": "@jupyter-widgets/base",
      "model_module_version": "1.0.0",
      "model_name": "LayoutModel",
      "state": {}
     },
     "2611ce5545b642b1ba2f43fdcd63beec": {
      "model_module": "@jupyter-widgets/base",
      "model_module_version": "1.0.0",
      "model_name": "LayoutModel",
      "state": {}
     },
     "26601760d38c40479398fade68d800b5": {
      "model_module": "@jupyter-widgets/output",
      "model_module_version": "1.0.0",
      "model_name": "OutputModel",
      "state": {
       "layout": "IPY_MODEL_4422f6e046534ca49618b6bb42516a76",
       "outputs": [
        {
         "name": "stdout",
         "output_type": "stream",
         "text": "debug message area for widget:\n"
        }
       ]
      }
     },
     "2704626aefcd49e0a8ed2ce9e3d81884": {
      "model_module": "jp_proxy_widget",
      "model_module_version": "^0.3.4",
      "model_name": "JSProxyModel",
      "state": {
       "_model_module_version": "^0.3.4",
       "_send_counter": 8,
       "_view_module_version": "^0.3.4",
       "error_msg": "No error",
       "layout": "IPY_MODEL_b2b408f76eeb4e90ae9b9bd25b112e38",
       "rendered": true,
       "status": "Got results."
      }
     },
     "287d26fcbc014fa4859ed40be170bc34": {
      "model_module": "jp_proxy_widget",
      "model_module_version": "^0.3.4",
      "model_name": "JSProxyModel",
      "state": {
       "_model_module_version": "^0.3.4",
       "_send_counter": 11,
       "_view_module_version": "^0.3.4",
       "error_msg": "No error",
       "layout": "IPY_MODEL_a9ec2e0d8bcf4ec68f699c6050248280",
       "rendered": true,
       "status": "Got results."
      }
     },
     "2883c422bcba4c94859466200d249a42": {
      "model_module": "@jupyter-widgets/controls",
      "model_module_version": "1.0.0",
      "model_name": "VBoxModel",
      "state": {
       "children": [
        "IPY_MODEL_501721f9f8ec44e3bc50759686483a93",
        "IPY_MODEL_e5730921a85c4a3bbaff1a1c4f0d3da2",
        "IPY_MODEL_b54254c886c14f3e9a1727f3721a3c8a",
        "IPY_MODEL_f0664d6ccb904ebba7fdac490bc3b632"
       ],
       "layout": "IPY_MODEL_c6b05ec4d475442ea84a940d88d652bb"
      }
     },
     "2884f18c24db4c78af25b10e18714f3e": {
      "model_module": "@jupyter-widgets/controls",
      "model_module_version": "1.0.0",
      "model_name": "VBoxModel",
      "state": {
       "children": [
        "IPY_MODEL_b7e0cfe13a1f4d2eb195c2cf078e0f70",
        "IPY_MODEL_a52c372d5ba247c0a8cafa4dbcc59cd5"
       ],
       "layout": "IPY_MODEL_aa4c7f6b51824af3af9b574c0e0a9878"
      }
     },
     "288cc108909745adbc8e6f5a4625ffaa": {
      "model_module": "@jupyter-widgets/base",
      "model_module_version": "1.0.0",
      "model_name": "LayoutModel",
      "state": {}
     },
     "2893c566dc444f32a280bd6257abb91b": {
      "model_module": "jp_proxy_widget",
      "model_module_version": "^0.3.4",
      "model_name": "JSProxyModel",
      "state": {
       "_model_module_version": "^0.3.4",
       "_send_counter": 8,
       "_view_module_version": "^0.3.4",
       "error_msg": "No error",
       "layout": "IPY_MODEL_5cda63a2be0d47cba6e73c4d1e7f5fad",
       "rendered": false,
       "status": "Not yet rendered"
      }
     },
     "29006c1ab95d44e8b4e3f218aaea6a04": {
      "model_module": "@jupyter-widgets/base",
      "model_module_version": "1.0.0",
      "model_name": "LayoutModel",
      "state": {}
     },
     "2904cfe14e0246f0a3e6dc25523f1c7d": {
      "model_module": "@jupyter-widgets/controls",
      "model_module_version": "1.0.0",
      "model_name": "DescriptionStyleModel",
      "state": {
       "description_width": ""
      }
     },
     "2914c06e17604b609a65de089a175acc": {
      "model_module": "@jupyter-widgets/base",
      "model_module_version": "1.0.0",
      "model_name": "LayoutModel",
      "state": {}
     },
     "295229317c554ffdab1e6493fd5a763c": {
      "model_module": "@jupyter-widgets/controls",
      "model_module_version": "1.0.0",
      "model_name": "DescriptionStyleModel",
      "state": {
       "description_width": ""
      }
     },
     "296f4101463d422a9b55d8a2f990b1c1": {
      "model_module": "@jupyter-widgets/controls",
      "model_module_version": "1.0.0",
      "model_name": "HTMLModel",
      "state": {
       "layout": "IPY_MODEL_b87e72662a174f9c8a8dcc28e9c61526",
       "style": "IPY_MODEL_411cfc21e09b4650baa6486363ab9892",
       "value": "<img src=\"Image_source.png\" id=\"snapshot_id_5_1535654503826\"/>\n <div id=\"snapshot_id_6_1535654503826\">Image_source.png</div>"
      }
     },
     "29b7516ad3254461be59cac662a8190d": {
      "model_module": "@jupyter-widgets/base",
      "model_module_version": "1.0.0",
      "model_name": "LayoutModel",
      "state": {}
     },
     "29c2be784a7f41d79b5e8d53d3875d60": {
      "model_module": "@jupyter-widgets/controls",
      "model_module_version": "1.0.0",
      "model_name": "VBoxModel",
      "state": {
       "children": [
        "IPY_MODEL_99daf024151d44299977f43187eacc4f",
        "IPY_MODEL_2be29b8283dc41e0a3c3f8c710ec0cd4"
       ],
       "layout": "IPY_MODEL_fd276eb79bed4722ac1924ba8f061e06"
      }
     },
     "2a192479d50b4e3ebbb8b9a1d73bbc65": {
      "model_module": "@jupyter-widgets/controls",
      "model_module_version": "1.0.0",
      "model_name": "DescriptionStyleModel",
      "state": {
       "description_width": ""
      }
     },
     "2a23fb7153684b998e427cb21c30275a": {
      "model_module": "@jupyter-widgets/base",
      "model_module_version": "1.0.0",
      "model_name": "LayoutModel",
      "state": {}
     },
     "2a4321dbd4154dea87d365f511792dc0": {
      "model_module": "@jupyter-widgets/controls",
      "model_module_version": "1.0.0",
      "model_name": "DescriptionStyleModel",
      "state": {
       "description_width": ""
      }
     },
     "2a6804f02722431391132ba4bab0e10a": {
      "model_module": "@jupyter-widgets/base",
      "model_module_version": "1.0.0",
      "model_name": "LayoutModel",
      "state": {
       "border": "1px solid black"
      }
     },
     "2a6fcf07b0fe4cec8252b75ad6b08100": {
      "model_module": "@jupyter-widgets/controls",
      "model_module_version": "1.0.0",
      "model_name": "TabModel",
      "state": {
       "_titles": {
        "0": "Canvas",
        "1": "Snapshot"
       },
       "children": [
        "IPY_MODEL_8abd7972a0f440bb9a574aa82aef7553",
        "IPY_MODEL_b78b1eb1bbd545f89784222f203fd900"
       ],
       "layout": "IPY_MODEL_1a70bb78bdf04ea38bbc457214b211bb"
      }
     },
     "2ad12e463c12447dbe690713cc0ff652": {
      "model_module": "@jupyter-widgets/controls",
      "model_module_version": "1.0.0",
      "model_name": "DescriptionStyleModel",
      "state": {
       "description_width": ""
      }
     },
     "2b37a8904cab4490b58fe791881457da": {
      "model_module": "@jupyter-widgets/controls",
      "model_module_version": "1.0.0",
      "model_name": "DescriptionStyleModel",
      "state": {
       "description_width": ""
      }
     },
     "2b3e8e1939ae4f6b9115ffb7e25c090d": {
      "model_module": "@jupyter-widgets/base",
      "model_module_version": "1.0.0",
      "model_name": "LayoutModel",
      "state": {}
     },
     "2ba75e84f3744810963665d5fea9803c": {
      "model_module": "@jupyter-widgets/controls",
      "model_module_version": "1.0.0",
      "model_name": "DescriptionStyleModel",
      "state": {
       "description_width": ""
      }
     },
     "2bc99e4e8019454780c37b9007fd04cd": {
      "model_module": "jp_proxy_widget",
      "model_module_version": "^0.3.4",
      "model_name": "JSProxyModel",
      "state": {
       "_model_module_version": "^0.3.4",
       "_send_counter": 11,
       "_view_module_version": "^0.3.4",
       "error_msg": "No error",
       "layout": "IPY_MODEL_394bd0dc4f0f461f87e867387118478f",
       "rendered": true,
       "status": "Got results."
      }
     },
     "2be29b8283dc41e0a3c3f8c710ec0cd4": {
      "model_module": "jp_proxy_widget",
      "model_module_version": "^0.3.4",
      "model_name": "JSProxyModel",
      "state": {
       "_model_module_version": "^0.3.4",
       "_send_counter": 2,
       "_view_module_version": "^0.3.4",
       "error_msg": "No error",
       "layout": "IPY_MODEL_54cd62e9f62e4346bd24a018f791546f",
       "rendered": true,
       "status": "Got results."
      }
     },
     "2ca68adc924442a199a1e9a969d8d968": {
      "model_module": "@jupyter-widgets/controls",
      "model_module_version": "1.0.0",
      "model_name": "DescriptionStyleModel",
      "state": {
       "description_width": ""
      }
     },
     "2cf1cd472ccb4afd8c1c910e46434d3e": {
      "model_module": "@jupyter-widgets/base",
      "model_module_version": "1.0.0",
      "model_name": "LayoutModel",
      "state": {
       "border": "1px solid black"
      }
     },
     "2da93b67d2264a00889db8c56c019f37": {
      "model_module": "@jupyter-widgets/controls",
      "model_module_version": "1.0.0",
      "model_name": "HTMLModel",
      "state": {
       "layout": "IPY_MODEL_5bb5a50103704198bef9e64d66b42a40",
       "style": "IPY_MODEL_93f98528f571467ebb2fcf32f362685a",
       "value": "<img src=\"Image_source.png\" id=\"snapshot_id_65_1535658070006\"/>\n <div id=\"snapshot_id_66_1535658070006\">Image_source.png</div>"
      }
     },
     "2dfabf02a523417ba599968d23cab186": {
      "model_module": "@jupyter-widgets/output",
      "model_module_version": "1.0.0",
      "model_name": "OutputModel",
      "state": {
       "layout": "IPY_MODEL_688f202a2d834b019fd59d4880db8d64",
       "outputs": [
        {
         "name": "stdout",
         "output_type": "stream",
         "text": "debug message area for widget:\n"
        }
       ]
      }
     },
     "2e8e5bb9ff744c60b912a68f1e0ff47a": {
      "model_module": "@jupyter-widgets/base",
      "model_module_version": "1.0.0",
      "model_name": "LayoutModel",
      "state": {}
     },
     "2f46fbb5bc414a12a78656c21acc808a": {
      "model_module": "@jupyter-widgets/controls",
      "model_module_version": "1.0.0",
      "model_name": "TextModel",
      "state": {
       "description": "error",
       "layout": "IPY_MODEL_4a7e73062bbc4b359c6058ef1ee483e3",
       "style": "IPY_MODEL_b203a3e5fc7d4fa092bcb4b1cc6b9b9b",
       "value": "No error"
      }
     },
     "2f4d508358cd41e28699ea5672d309c9": {
      "model_module": "@jupyter-widgets/base",
      "model_module_version": "1.0.0",
      "model_name": "LayoutModel",
      "state": {}
     },
     "2f817c2b0e494b91905caa2e9659f3f4": {
      "model_module": "@jupyter-widgets/base",
      "model_module_version": "1.0.0",
      "model_name": "LayoutModel",
      "state": {}
     },
     "2fc6d39b45d34521953769791c40bfe6": {
      "model_module": "@jupyter-widgets/base",
      "model_module_version": "1.0.0",
      "model_name": "LayoutModel",
      "state": {}
     },
     "2fd4346e261e426893d4ca22a31a09b2": {
      "model_module": "@jupyter-widgets/base",
      "model_module_version": "1.0.0",
      "model_name": "LayoutModel",
      "state": {}
     },
     "30446e3fb1e24d04ada6c262f7621e28": {
      "model_module": "@jupyter-widgets/controls",
      "model_module_version": "1.0.0",
      "model_name": "HTMLModel",
      "state": {
       "layout": "IPY_MODEL_5ba2cf58ca4e410ebd88528ed5e4efa9",
       "style": "IPY_MODEL_5bbe2287a9c1440da7eb75306b2992ad",
       "value": "<img src=\"Image_source.png\" id=\"snapshot_id_37_1535657269169\"/>\n <div id=\"snapshot_id_38_1535657269169\">Image_source.png</div>"
      }
     },
     "30d090f118304214baf2240f8f967946": {
      "model_module": "@jupyter-widgets/base",
      "model_module_version": "1.0.0",
      "model_name": "LayoutModel",
      "state": {}
     },
     "3121d957a630492fb7c788573b03c211": {
      "model_module": "@jupyter-widgets/controls",
      "model_module_version": "1.0.0",
      "model_name": "TextModel",
      "state": {
       "description": "error",
       "layout": "IPY_MODEL_fd1afd3a3f334aba9f66df1dbac943d0",
       "style": "IPY_MODEL_eed360cc6f6342e58daa96c5dcbb7bdc",
       "value": "No error"
      }
     },
     "3158ebdc00cf4cafb72134bdb356c579": {
      "model_module": "@jupyter-widgets/base",
      "model_module_version": "1.0.0",
      "model_name": "LayoutModel",
      "state": {}
     },
     "315df812d3ef497ba9f8dca707b003a5": {
      "model_module": "@jupyter-widgets/base",
      "model_module_version": "1.0.0",
      "model_name": "LayoutModel",
      "state": {}
     },
     "31e5c84580884d459579f36c185f2c05": {
      "model_module": "@jupyter-widgets/controls",
      "model_module_version": "1.0.0",
      "model_name": "TabModel",
      "state": {
       "_titles": {
        "0": "Canvas",
        "1": "Snapshot"
       },
       "children": [
        "IPY_MODEL_a71d56c60c3a47868e6fd1c82a59ee92",
        "IPY_MODEL_a435cbd0d6dc4bfcb7264e75a13b6c89"
       ],
       "layout": "IPY_MODEL_a9f438e12bd9439ba4d289a6c1091b5e",
       "selected_index": 1
      }
     },
     "32711b14714244b980aad376ed7d3077": {
      "model_module": "@jupyter-widgets/base",
      "model_module_version": "1.0.0",
      "model_name": "LayoutModel",
      "state": {}
     },
     "329ef5f2e0ab43138e5b7eb995921bb2": {
      "model_module": "@jupyter-widgets/controls",
      "model_module_version": "1.0.0",
      "model_name": "DescriptionStyleModel",
      "state": {
       "description_width": ""
      }
     },
     "32c5eb6f2f344968998d6195da80b273": {
      "model_module": "@jupyter-widgets/base",
      "model_module_version": "1.0.0",
      "model_name": "LayoutModel",
      "state": {}
     },
     "32e2f7775e5242748a011853f5cf654b": {
      "model_module": "@jupyter-widgets/controls",
      "model_module_version": "1.0.0",
      "model_name": "TextModel",
      "state": {
       "description": "status:",
       "layout": "IPY_MODEL_97ddbbf400ec44cb8bc99b9f0542517b",
       "style": "IPY_MODEL_69106c82c07c4efda1f525c73f8b131f",
       "value": "Got results."
      }
     },
     "332d706ae4a1484bb853339136e1d5a2": {
      "model_module": "@jupyter-widgets/base",
      "model_module_version": "1.0.0",
      "model_name": "LayoutModel",
      "state": {
       "border": "1px solid black"
      }
     },
     "3392380721324d8ba2f1e155ae19cf87": {
      "model_module": "@jupyter-widgets/base",
      "model_module_version": "1.0.0",
      "model_name": "LayoutModel",
      "state": {}
     },
     "33c35e291064494d9396fb01b40aa220": {
      "model_module": "jp_proxy_widget",
      "model_module_version": "^0.3.4",
      "model_name": "JSProxyModel",
      "state": {
       "_model_module_version": "^0.3.4",
       "_send_counter": 11,
       "_view_module_version": "^0.3.4",
       "error_msg": "No error",
       "layout": "IPY_MODEL_5a478799ab824f699042c1a8acbaf3f8",
       "rendered": true,
       "status": "Got results."
      }
     },
     "33e98b81c2b54735b2b5bf094d22345b": {
      "model_module": "@jupyter-widgets/controls",
      "model_module_version": "1.0.0",
      "model_name": "TextModel",
      "state": {
       "description": "error",
       "layout": "IPY_MODEL_2b3e8e1939ae4f6b9115ffb7e25c090d",
       "style": "IPY_MODEL_ab3a317efaa640eabc3ffa2eb4d62bdc",
       "value": "No error"
      }
     },
     "3405f8453c4948e1915718550e3a5826": {
      "model_module": "@jupyter-widgets/controls",
      "model_module_version": "1.0.0",
      "model_name": "DescriptionStyleModel",
      "state": {
       "description_width": ""
      }
     },
     "345d2643665d4ee7a9c31c1de13caec4": {
      "model_module": "jp_proxy_widget",
      "model_module_version": "^0.3.4",
      "model_name": "JSProxyModel",
      "state": {
       "_model_module_version": "^0.3.4",
       "_send_counter": 11,
       "_view_module_version": "^0.3.4",
       "error_msg": "No error",
       "layout": "IPY_MODEL_14742755e5454dde8c929d2ad50751a0",
       "rendered": true,
       "status": "Got results."
      }
     },
     "34834ad4f1db4db78074c877b81d126e": {
      "model_module": "@jupyter-widgets/base",
      "model_module_version": "1.0.0",
      "model_name": "LayoutModel",
      "state": {}
     },
     "3544be68ba22410ebf72989a785ccccf": {
      "model_module": "@jupyter-widgets/controls",
      "model_module_version": "1.0.0",
      "model_name": "DescriptionStyleModel",
      "state": {
       "description_width": ""
      }
     },
     "35e1635ce2f04a77af066d2dce856ec6": {
      "model_module": "@jupyter-widgets/base",
      "model_module_version": "1.0.0",
      "model_name": "LayoutModel",
      "state": {
       "border": "1px solid black"
      }
     },
     "36092481bf8647f7ab935a3511ce7f13": {
      "model_module": "@jupyter-widgets/output",
      "model_module_version": "1.0.0",
      "model_name": "OutputModel",
      "state": {
       "layout": "IPY_MODEL_72f9d3e0761149ee96040aefa03a2e60",
       "outputs": [
        {
         "name": "stdout",
         "output_type": "stream",
         "text": "debug message area for widget:\n"
        }
       ]
      }
     },
     "361afd65e6df48b49e5fa6b301aa7669": {
      "model_module": "@jupyter-widgets/controls",
      "model_module_version": "1.0.0",
      "model_name": "HTMLModel",
      "state": {
       "layout": "IPY_MODEL_18933f16aead4e478de82911fe930eea",
       "style": "IPY_MODEL_bc9c847d5932433daa3f0e6604a286bb",
       "value": "<img src=\"Image1.png\" id=\"snapshot_id_3_1535655577927\"/>\n <div id=\"snapshot_id_4_1535655577927\">Image1.png</div>"
      }
     },
     "36269e184c21434e9e735a6ef29cfc48": {
      "model_module": "@jupyter-widgets/controls",
      "model_module_version": "1.0.0",
      "model_name": "TextModel",
      "state": {
       "description": "status:",
       "layout": "IPY_MODEL_75b9e5f49f5d4c86b550672ae7770085",
       "style": "IPY_MODEL_3d13e510de7e4cd483b0bd4421708d6c",
       "value": "Got results."
      }
     },
     "369ffceb22ba462a8384c4e93d19a4e7": {
      "model_module": "@jupyter-widgets/base",
      "model_module_version": "1.0.0",
      "model_name": "LayoutModel",
      "state": {
       "border": "1px solid black"
      }
     },
     "36a6a2ae7adf4ecb8a8ed967bca7ad3f": {
      "model_module": "@jupyter-widgets/base",
      "model_module_version": "1.0.0",
      "model_name": "LayoutModel",
      "state": {}
     },
     "36e8758576ce495088f7cc7017030866": {
      "model_module": "@jupyter-widgets/base",
      "model_module_version": "1.0.0",
      "model_name": "LayoutModel",
      "state": {}
     },
     "36fae7ba96fc4256b7a89a65804e4fc5": {
      "model_module": "@jupyter-widgets/base",
      "model_module_version": "1.0.0",
      "model_name": "LayoutModel",
      "state": {}
     },
     "3790a68bd7d34b90b86a54ebfb9b69f0": {
      "model_module": "@jupyter-widgets/output",
      "model_module_version": "1.0.0",
      "model_name": "OutputModel",
      "state": {
       "layout": "IPY_MODEL_bd3bda2b838a4fb8bd84223b2f1c0ba3",
       "outputs": [
        {
         "name": "stdout",
         "output_type": "stream",
         "text": "debug message area for widget:\n"
        }
       ]
      }
     },
     "379f439699a14a44bdffddc77b315797": {
      "model_module": "@jupyter-widgets/base",
      "model_module_version": "1.0.0",
      "model_name": "LayoutModel",
      "state": {}
     },
     "37a2790ea65d4166af5bfa1d945d19c2": {
      "model_module": "@jupyter-widgets/controls",
      "model_module_version": "1.0.0",
      "model_name": "DescriptionStyleModel",
      "state": {
       "description_width": ""
      }
     },
     "37c0f62a290241a580d94cc22213c2bd": {
      "model_module": "jp_proxy_widget",
      "model_module_version": "^0.3.4",
      "model_name": "JSProxyModel",
      "state": {
       "_model_module_version": "^0.3.4",
       "_send_counter": 11,
       "_view_module_version": "^0.3.4",
       "error_msg": "No error",
       "layout": "IPY_MODEL_e9c6fc0f699745919eb813a9ba249baf",
       "rendered": true,
       "status": "Got results."
      }
     },
     "381f3ef7d9574711af9580b7b097a096": {
      "model_module": "@jupyter-widgets/controls",
      "model_module_version": "1.0.0",
      "model_name": "DescriptionStyleModel",
      "state": {
       "description_width": ""
      }
     },
     "382900e6d61d4125b35016cd18ef844f": {
      "model_module": "@jupyter-widgets/base",
      "model_module_version": "1.0.0",
      "model_name": "LayoutModel",
      "state": {}
     },
     "383e0dfa486141a8be9c610cf1c0d00c": {
      "model_module": "@jupyter-widgets/controls",
      "model_module_version": "1.0.0",
      "model_name": "DescriptionStyleModel",
      "state": {
       "description_width": ""
      }
     },
     "38490c0e03e64afe9532ab1ad595c076": {
      "model_module": "@jupyter-widgets/base",
      "model_module_version": "1.0.0",
      "model_name": "LayoutModel",
      "state": {}
     },
     "387e0ef881d0478b9d3d5f0fce6c2bae": {
      "model_module": "@jupyter-widgets/controls",
      "model_module_version": "1.0.0",
      "model_name": "HTMLModel",
      "state": {
       "layout": "IPY_MODEL_494eaeb3b7174e8d9b0e70f7578646de",
       "style": "IPY_MODEL_ad9c712a30b4494c992199764e4b8e76",
       "value": "<img src=\"Image0.png\" id=\"snapshot_id_3_1535576464657\"/>\n <div id=\"snapshot_id_4_1535576464657\">Image0.png</div>"
      }
     },
     "38b6926ec66648ef977429c27f416186": {
      "model_module": "@jupyter-widgets/controls",
      "model_module_version": "1.0.0",
      "model_name": "DescriptionStyleModel",
      "state": {
       "description_width": ""
      }
     },
     "38d34109a9f6468bba57df4b4e00babc": {
      "model_module": "@jupyter-widgets/base",
      "model_module_version": "1.0.0",
      "model_name": "LayoutModel",
      "state": {}
     },
     "392d32ce35834bd4a5aa10dc2758ae4c": {
      "model_module": "@jupyter-widgets/controls",
      "model_module_version": "1.0.0",
      "model_name": "DescriptionStyleModel",
      "state": {
       "description_width": ""
      }
     },
     "394bd0dc4f0f461f87e867387118478f": {
      "model_module": "@jupyter-widgets/base",
      "model_module_version": "1.0.0",
      "model_name": "LayoutModel",
      "state": {}
     },
     "3953f7ad4b774f8898005796146e6d32": {
      "model_module": "@jupyter-widgets/base",
      "model_module_version": "1.0.0",
      "model_name": "LayoutModel",
      "state": {}
     },
     "39be272625be4bc693751a9186117ee2": {
      "model_module": "@jupyter-widgets/base",
      "model_module_version": "1.0.0",
      "model_name": "LayoutModel",
      "state": {}
     },
     "39c68aa7700449c18943ced5d54dcb5b": {
      "model_module": "@jupyter-widgets/base",
      "model_module_version": "1.0.0",
      "model_name": "LayoutModel",
      "state": {}
     },
     "39dc2c3a06d146748bf59289bb0488da": {
      "model_module": "@jupyter-widgets/base",
      "model_module_version": "1.0.0",
      "model_name": "LayoutModel",
      "state": {}
     },
     "39e2d3fc1fb0427ebc35ae82de887671": {
      "model_module": "jp_proxy_widget",
      "model_module_version": "^0.3.3",
      "model_name": "JSProxyModel",
      "state": {
       "_model_module_version": "^0.3.3",
       "_send_counter": 16,
       "_view_module_version": "^0.3.3",
       "error_msg": "No error",
       "layout": "IPY_MODEL_47a084dd552c448fb3ad9244aaacfc0c",
       "rendered": true,
       "status": "Got results."
      }
     },
     "3a1f8b6a2ea741539f276aed739a2ab5": {
      "model_module": "jp_proxy_widget",
      "model_module_version": "^0.3.4",
      "model_name": "JSProxyModel",
      "state": {
       "_model_module_version": "^0.3.4",
       "_send_counter": 11,
       "_view_module_version": "^0.3.4",
       "error_msg": "No error",
       "layout": "IPY_MODEL_4515bf24f1fe42d2b81cf59b31841b3b",
       "rendered": true,
       "status": "Got results."
      }
     },
     "3a248041d7b2448586fa19034702bb9e": {
      "model_module": "@jupyter-widgets/output",
      "model_module_version": "1.0.0",
      "model_name": "OutputModel",
      "state": {
       "layout": "IPY_MODEL_c7c1f36e27844a0782f554666934bec6",
       "outputs": [
        {
         "name": "stdout",
         "output_type": "stream",
         "text": "debug message area for widget:\n"
        }
       ]
      }
     },
     "3aa9e6ef1abc40db8f156f9cea410e19": {
      "model_module": "@jupyter-widgets/base",
      "model_module_version": "1.0.0",
      "model_name": "LayoutModel",
      "state": {}
     },
     "3abe8e1380374c4c9234326714b487de": {
      "model_module": "@jupyter-widgets/controls",
      "model_module_version": "1.0.0",
      "model_name": "DescriptionStyleModel",
      "state": {
       "description_width": ""
      }
     },
     "3ad2702f8a614a7485670fa171dc5382": {
      "model_module": "@jupyter-widgets/base",
      "model_module_version": "1.0.0",
      "model_name": "LayoutModel",
      "state": {}
     },
     "3b696dd29ffd4ac38bf4e098bee64e6d": {
      "model_module": "@jupyter-widgets/output",
      "model_module_version": "1.0.0",
      "model_name": "OutputModel",
      "state": {
       "layout": "IPY_MODEL_6130d42f40b84bd4a0053cedca61dba9",
       "outputs": [
        {
         "name": "stdout",
         "output_type": "stream",
         "text": "debug message area for widget:\n"
        }
       ]
      }
     },
     "3bfcf7ecc2d146679c8c61c0f42cae90": {
      "model_module": "@jupyter-widgets/base",
      "model_module_version": "1.0.0",
      "model_name": "LayoutModel",
      "state": {}
     },
     "3c22556c8dd8454cad40be8ead847aa3": {
      "model_module": "@jupyter-widgets/controls",
      "model_module_version": "1.0.0",
      "model_name": "TabModel",
      "state": {
       "_titles": {
        "0": "Canvas",
        "1": "Snapshot"
       },
       "children": [
        "IPY_MODEL_9c90fef4de7f49c39a78c949e56202c5",
        "IPY_MODEL_2da93b67d2264a00889db8c56c019f37"
       ],
       "layout": "IPY_MODEL_124b05f0e95d447bacb9625f616cf4fc",
       "selected_index": 1
      }
     },
     "3ca9f206269048dcb659dce69f26e42f": {
      "model_module": "jp_proxy_widget",
      "model_module_version": "^0.3.3",
      "model_name": "JSProxyModel",
      "state": {
       "_model_module_version": "^0.3.3",
       "_send_counter": 2,
       "_view_module_version": "^0.3.3",
       "error_msg": "No error",
       "layout": "IPY_MODEL_e6413824c0824d87838ca3524bab7c83",
       "rendered": true,
       "status": "call back to <function callback_function at 0x10da1b050>"
      }
     },
     "3ccb9eb46d864e20ba4bb33d76700805": {
      "model_module": "@jupyter-widgets/controls",
      "model_module_version": "1.0.0",
      "model_name": "HTMLModel",
      "state": {
       "layout": "IPY_MODEL_cda1476adf9045bfacc55379f3c4da8e",
       "style": "IPY_MODEL_0786a939f9cc4754a7223067024d7a94",
       "value": "<img src=\"Image4.png\" id=\"snapshot_id_14_1535576700945\"/>\n <div id=\"snapshot_id_15_1535576700945\">Image4.png</div>"
      }
     },
     "3ce8143479af462598fafce793ac6c8a": {
      "model_module": "@jupyter-widgets/base",
      "model_module_version": "1.0.0",
      "model_name": "LayoutModel",
      "state": {}
     },
     "3d00e2201c9d4346820e5ef058b45dde": {
      "model_module": "@jupyter-widgets/output",
      "model_module_version": "1.0.0",
      "model_name": "OutputModel",
      "state": {
       "layout": "IPY_MODEL_35e1635ce2f04a77af066d2dce856ec6",
       "outputs": [
        {
         "name": "stdout",
         "output_type": "stream",
         "text": "debug message area for widget:\n"
        }
       ]
      }
     },
     "3d13e510de7e4cd483b0bd4421708d6c": {
      "model_module": "@jupyter-widgets/controls",
      "model_module_version": "1.0.0",
      "model_name": "DescriptionStyleModel",
      "state": {
       "description_width": ""
      }
     },
     "3d5d3056c0514bb4a532a35dc3443803": {
      "model_module": "@jupyter-widgets/controls",
      "model_module_version": "1.0.0",
      "model_name": "DescriptionStyleModel",
      "state": {
       "description_width": ""
      }
     },
     "3db6e2b1268d456fa535af76cc55a956": {
      "model_module": "@jupyter-widgets/base",
      "model_module_version": "1.0.0",
      "model_name": "LayoutModel",
      "state": {}
     },
     "3ddbe6e3d5424409bda13da8a352e29c": {
      "model_module": "@jupyter-widgets/controls",
      "model_module_version": "1.0.0",
      "model_name": "DescriptionStyleModel",
      "state": {
       "description_width": ""
      }
     },
     "3de95ab49e404d598f2b51ca9a952f41": {
      "model_module": "@jupyter-widgets/base",
      "model_module_version": "1.0.0",
      "model_name": "LayoutModel",
      "state": {}
     },
     "3e09927c1a724584a034aafe1ac7afb7": {
      "model_module": "@jupyter-widgets/base",
      "model_module_version": "1.0.0",
      "model_name": "LayoutModel",
      "state": {
       "border": "1px solid black"
      }
     },
     "3e1ff19e51b04e398a7d2002d4fab552": {
      "model_module": "jp_proxy_widget",
      "model_module_version": "^0.3.4",
      "model_name": "JSProxyModel",
      "state": {
       "_model_module_version": "^0.3.4",
       "_send_counter": 8,
       "_view_module_version": "^0.3.4",
       "error_msg": "No error",
       "layout": "IPY_MODEL_f61b9115bc0d464c8dc76ef064689534",
       "rendered": true,
       "status": "Got results."
      }
     },
     "3e4695a84f4d48208e0b74d8b1c435b9": {
      "model_module": "@jupyter-widgets/base",
      "model_module_version": "1.0.0",
      "model_name": "LayoutModel",
      "state": {
       "border": "1px solid black"
      }
     },
     "3f004b3ef6e3402199464bbdadd1a5b3": {
      "model_module": "@jupyter-widgets/base",
      "model_module_version": "1.0.0",
      "model_name": "LayoutModel",
      "state": {}
     },
     "3f03630de5d84c09a471473a5fb00a95": {
      "model_module": "@jupyter-widgets/base",
      "model_module_version": "1.0.0",
      "model_name": "LayoutModel",
      "state": {}
     },
     "3f090304ebe44a7aabb041174d343ea6": {
      "model_module": "@jupyter-widgets/controls",
      "model_module_version": "1.0.0",
      "model_name": "VBoxModel",
      "state": {
       "children": [
        "IPY_MODEL_f55ceb08134145359761b2437c98a61a",
        "IPY_MODEL_7347029b26074e39be29ef53a6fe8763",
        "IPY_MODEL_5df4c9e29654495b8149f7a1096958c8",
        "IPY_MODEL_24e18d6b3f064cce9e0a8c09c8ab7c98"
       ],
       "layout": "IPY_MODEL_5efc007899db4f3daf388b5669e29a2b"
      }
     },
     "3f6a587c3a094d4eb475d17095dd80fd": {
      "model_module": "@jupyter-widgets/base",
      "model_module_version": "1.0.0",
      "model_name": "LayoutModel",
      "state": {}
     },
     "3fc7ada93a744a9fb2a21f2a9f82d85d": {
      "model_module": "@jupyter-widgets/base",
      "model_module_version": "1.0.0",
      "model_name": "LayoutModel",
      "state": {}
     },
     "3fcc5096edd54983983775afb3886d3d": {
      "model_module": "@jupyter-widgets/controls",
      "model_module_version": "1.0.0",
      "model_name": "HTMLModel",
      "state": {
       "layout": "IPY_MODEL_36a6a2ae7adf4ecb8a8ed967bca7ad3f",
       "style": "IPY_MODEL_f7336ef887a64866a65321dd247cb250",
       "value": "<img src=\"Image_source.png\" id=\"snapshot_id_31_1535655310358\"/>\n <div id=\"snapshot_id_32_1535655310358\">Image_source.png</div>"
      }
     },
     "3ffa5df97d42415a95d21bd94756c728": {
      "model_module": "@jupyter-widgets/controls",
      "model_module_version": "1.0.0",
      "model_name": "DescriptionStyleModel",
      "state": {
       "description_width": ""
      }
     },
     "3ffb699c24444e60940516a87ab8f1a5": {
      "model_module": "@jupyter-widgets/base",
      "model_module_version": "1.0.0",
      "model_name": "LayoutModel",
      "state": {}
     },
     "404c9207fcbb42028aa99f7275303da4": {
      "model_module": "@jupyter-widgets/controls",
      "model_module_version": "1.0.0",
      "model_name": "DescriptionStyleModel",
      "state": {
       "description_width": ""
      }
     },
     "40867ff8c181440f8ae9c5b3971a6752": {
      "model_module": "@jupyter-widgets/controls",
      "model_module_version": "1.0.0",
      "model_name": "VBoxModel",
      "state": {
       "children": [
        "IPY_MODEL_3a1f8b6a2ea741539f276aed739a2ab5",
        "IPY_MODEL_d9a3d70a82214f92947de23d4fb3281d",
        "IPY_MODEL_995f244ce6944b9fa5155c4b70169d98",
        "IPY_MODEL_c84d039c9ed84b329df149099b19ca7b"
       ],
       "layout": "IPY_MODEL_9b7cc4950b004f41b3e978228da74771"
      }
     },
     "40dd7718468e4fbea6054b49d0f11216": {
      "model_module": "@jupyter-widgets/base",
      "model_module_version": "1.0.0",
      "model_name": "LayoutModel",
      "state": {}
     },
     "40ee76dc184246169e72ee151cf50c11": {
      "model_module": "@jupyter-widgets/base",
      "model_module_version": "1.0.0",
      "model_name": "LayoutModel",
      "state": {}
     },
     "411cfc21e09b4650baa6486363ab9892": {
      "model_module": "@jupyter-widgets/controls",
      "model_module_version": "1.0.0",
      "model_name": "DescriptionStyleModel",
      "state": {
       "description_width": ""
      }
     },
     "412da1dacb484a8a88547454dcc26546": {
      "model_module": "@jupyter-widgets/base",
      "model_module_version": "1.0.0",
      "model_name": "LayoutModel",
      "state": {}
     },
     "41b339c512174443951c0f76333a683c": {
      "model_module": "@jupyter-widgets/controls",
      "model_module_version": "1.0.0",
      "model_name": "TextModel",
      "state": {
       "description": "error",
       "layout": "IPY_MODEL_9ec88c4dd1b34b81965556523651c186",
       "style": "IPY_MODEL_ee18fe8414f54a148199edea8e123978",
       "value": "No error"
      }
     },
     "41c2093267254008a0c37ae6752d3f1c": {
      "model_module": "@jupyter-widgets/base",
      "model_module_version": "1.0.0",
      "model_name": "LayoutModel",
      "state": {}
     },
     "41dce1307f324956a62d32f34555177e": {
      "model_module": "@jupyter-widgets/base",
      "model_module_version": "1.0.0",
      "model_name": "LayoutModel",
      "state": {}
     },
     "431f8c5014fb430aac023627161ca46d": {
      "model_module": "@jupyter-widgets/base",
      "model_module_version": "1.0.0",
      "model_name": "LayoutModel",
      "state": {}
     },
     "4398b489ca2141adab07eade02cad7d5": {
      "model_module": "@jupyter-widgets/controls",
      "model_module_version": "1.0.0",
      "model_name": "DescriptionStyleModel",
      "state": {
       "description_width": ""
      }
     },
     "43cfd786bdd842abab03c6a7b65a1738": {
      "model_module": "@jupyter-widgets/base",
      "model_module_version": "1.0.0",
      "model_name": "LayoutModel",
      "state": {
       "border": "1px solid black"
      }
     },
     "43e42688917948b0897f7fee1b4ce921": {
      "model_module": "@jupyter-widgets/controls",
      "model_module_version": "1.0.0",
      "model_name": "TextModel",
      "state": {
       "description": "error",
       "layout": "IPY_MODEL_510229bd282e4d75a42aad6c0b09ebb3",
       "style": "IPY_MODEL_c601b723aa644f3d9376162305738acd",
       "value": "No error"
      }
     },
     "4422f6e046534ca49618b6bb42516a76": {
      "model_module": "@jupyter-widgets/base",
      "model_module_version": "1.0.0",
      "model_name": "LayoutModel",
      "state": {
       "border": "1px solid black"
      }
     },
     "4451f1c22eb54dbfa090e94ef3004366": {
      "model_module": "@jupyter-widgets/controls",
      "model_module_version": "1.0.0",
      "model_name": "DescriptionStyleModel",
      "state": {
       "description_width": ""
      }
     },
     "4504fcf8d45f4da2ad2cf83c9a90f8ae": {
      "model_module": "@jupyter-widgets/controls",
      "model_module_version": "1.0.0",
      "model_name": "DescriptionStyleModel",
      "state": {
       "description_width": ""
      }
     },
     "4515bf24f1fe42d2b81cf59b31841b3b": {
      "model_module": "@jupyter-widgets/base",
      "model_module_version": "1.0.0",
      "model_name": "LayoutModel",
      "state": {}
     },
     "45512359ce6542379acc43169e442a0a": {
      "model_module": "@jupyter-widgets/base",
      "model_module_version": "1.0.0",
      "model_name": "LayoutModel",
      "state": {}
     },
     "4562b40a9e084d40bfc1d12c82f54659": {
      "model_module": "@jupyter-widgets/controls",
      "model_module_version": "1.0.0",
      "model_name": "DescriptionStyleModel",
      "state": {
       "description_width": ""
      }
     },
     "456ecdcfa4c34d3198f8f40068ffba10": {
      "model_module": "@jupyter-widgets/controls",
      "model_module_version": "1.0.0",
      "model_name": "DescriptionStyleModel",
      "state": {
       "description_width": ""
      }
     },
     "459850c377ee4ec58962cdb1667907eb": {
      "model_module": "@jupyter-widgets/base",
      "model_module_version": "1.0.0",
      "model_name": "LayoutModel",
      "state": {}
     },
     "45b0ee441c884c769d3eee29bf2b4fe8": {
      "model_module": "@jupyter-widgets/base",
      "model_module_version": "1.0.0",
      "model_name": "LayoutModel",
      "state": {}
     },
     "467da1ffb7a24a7db6f02807ceacb743": {
      "model_module": "@jupyter-widgets/controls",
      "model_module_version": "1.0.0",
      "model_name": "VBoxModel",
      "state": {
       "children": [
        "IPY_MODEL_09eacb48b58549f296841b75d4a6e90a",
        "IPY_MODEL_0a3efa708e194a4099758c06ffe04be7",
        "IPY_MODEL_2f46fbb5bc414a12a78656c21acc808a",
        "IPY_MODEL_1c415182d98d4cc3a36b61b5257389b0"
       ],
       "layout": "IPY_MODEL_1830e2e1484943c6a9c1d2a15b57cfd6"
      }
     },
     "46c0a56abd994e049f70737ae7b2f985": {
      "model_module": "@jupyter-widgets/output",
      "model_module_version": "1.0.0",
      "model_name": "OutputModel",
      "state": {
       "layout": "IPY_MODEL_f5cbfdf493544629ba3a4462d49d6fe6",
       "outputs": [
        {
         "name": "stdout",
         "output_type": "stream",
         "text": "debug message area for widget:\n"
        }
       ]
      }
     },
     "46df7a2846164529b8fe5fe84fcccc82": {
      "model_module": "@jupyter-widgets/base",
      "model_module_version": "1.0.0",
      "model_name": "LayoutModel",
      "state": {}
     },
     "471a9f657cca45af9a88f238594db248": {
      "model_module": "@jupyter-widgets/controls",
      "model_module_version": "1.0.0",
      "model_name": "HTMLModel",
      "state": {
       "layout": "IPY_MODEL_3f6a587c3a094d4eb475d17095dd80fd",
       "style": "IPY_MODEL_5f356ede0365457fabccefcd4e1f445c",
       "value": "<img src=\"Image_source.png\" id=\"snapshot_id_27_1535655173144\"/>\n <div id=\"snapshot_id_28_1535655173144\">Image_source.png</div>"
      }
     },
     "475d2047033843c4b95c163260c265d4": {
      "model_module": "@jupyter-widgets/base",
      "model_module_version": "1.0.0",
      "model_name": "LayoutModel",
      "state": {}
     },
     "47859a9e273e49ba9bfcce3c6c05de59": {
      "model_module": "@jupyter-widgets/controls",
      "model_module_version": "1.0.0",
      "model_name": "DescriptionStyleModel",
      "state": {
       "description_width": ""
      }
     },
     "47a084dd552c448fb3ad9244aaacfc0c": {
      "model_module": "@jupyter-widgets/base",
      "model_module_version": "1.0.0",
      "model_name": "LayoutModel",
      "state": {}
     },
     "47ac145814e14b3c9aaa1763e91a8647": {
      "model_module": "@jupyter-widgets/controls",
      "model_module_version": "1.0.0",
      "model_name": "TextModel",
      "state": {
       "description": "status:",
       "layout": "IPY_MODEL_7a0a221ff6cf4dafbc0d1a410037b90a",
       "style": "IPY_MODEL_980f651822c3494c9c51994773f7bf49",
       "value": "Got results."
      }
     },
     "483137e3f2534831bfc5e8278e3ae511": {
      "model_module": "@jupyter-widgets/controls",
      "model_module_version": "1.0.0",
      "model_name": "HTMLModel",
      "state": {
       "layout": "IPY_MODEL_1d231044910046b39e462a77fb20de39",
       "style": "IPY_MODEL_4504fcf8d45f4da2ad2cf83c9a90f8ae",
       "value": "<img src=\"Image_source.png\" id=\"snapshot_id_55_1535657856105\"/>\n <div id=\"snapshot_id_56_1535657856105\">Image_source.png</div>"
      }
     },
     "487e019d64e84aebaf386bad8b644583": {
      "model_module": "@jupyter-widgets/base",
      "model_module_version": "1.0.0",
      "model_name": "LayoutModel",
      "state": {
       "border": "1px solid black"
      }
     },
     "4888987b7dc54119b3783c157e809cf3": {
      "model_module": "@jupyter-widgets/base",
      "model_module_version": "1.0.0",
      "model_name": "LayoutModel",
      "state": {}
     },
     "48982cac8b3b4e4d8f6d73a816e18adb": {
      "model_module": "@jupyter-widgets/base",
      "model_module_version": "1.0.0",
      "model_name": "LayoutModel",
      "state": {}
     },
     "48a4f210e40248cfb0111c02f5790616": {
      "model_module": "@jupyter-widgets/controls",
      "model_module_version": "1.0.0",
      "model_name": "HTMLModel",
      "state": {
       "layout": "IPY_MODEL_1f5bee377225461ba5cbf2fabc444091",
       "style": "IPY_MODEL_2904cfe14e0246f0a3e6dc25523f1c7d",
       "value": "<img src=\"Image_source.png\" id=\"snapshot_id_23_1535655734311\"/>\n <div id=\"snapshot_id_24_1535655734311\">Image_source.png</div>"
      }
     },
     "48c8d72abe244de4a859924ef821c09a": {
      "model_module": "@jupyter-widgets/controls",
      "model_module_version": "1.0.0",
      "model_name": "VBoxModel",
      "state": {
       "children": [
        "IPY_MODEL_33c35e291064494d9396fb01b40aa220",
        "IPY_MODEL_ddabc1e797774de2ab17f61e885d4e49"
       ],
       "layout": "IPY_MODEL_7410f48df0c745e1a29534d98e8e8a0a"
      }
     },
     "4915524deb1f4bcdb25c81895a494f79": {
      "model_module": "@jupyter-widgets/controls",
      "model_module_version": "1.0.0",
      "model_name": "DescriptionStyleModel",
      "state": {
       "description_width": ""
      }
     },
     "494eaeb3b7174e8d9b0e70f7578646de": {
      "model_module": "@jupyter-widgets/base",
      "model_module_version": "1.0.0",
      "model_name": "LayoutModel",
      "state": {}
     },
     "4977b804cf4e4b65b55692f40a115486": {
      "model_module": "@jupyter-widgets/base",
      "model_module_version": "1.0.0",
      "model_name": "LayoutModel",
      "state": {}
     },
     "4a49a3fb8e6c42f9bac00a76ef57c48c": {
      "model_module": "@jupyter-widgets/base",
      "model_module_version": "1.0.0",
      "model_name": "LayoutModel",
      "state": {}
     },
     "4a7e73062bbc4b359c6058ef1ee483e3": {
      "model_module": "@jupyter-widgets/base",
      "model_module_version": "1.0.0",
      "model_name": "LayoutModel",
      "state": {}
     },
     "4acd1f169db042b88ccecb6c14a7dbe5": {
      "model_module": "@jupyter-widgets/controls",
      "model_module_version": "1.0.0",
      "model_name": "DescriptionStyleModel",
      "state": {
       "description_width": ""
      }
     },
     "4b289207b26940e79907eb9ae8a26957": {
      "model_module": "jp_proxy_widget",
      "model_module_version": "^0.3.3",
      "model_name": "JSProxyModel",
      "state": {
       "_model_module_version": "^0.3.3",
       "_send_counter": 15,
       "_view_module_version": "^0.3.3",
       "error_msg": "No error",
       "layout": "IPY_MODEL_f1f2a845c06746f481d9f896f489c041",
       "rendered": true,
       "status": "Got results."
      }
     },
     "4b33f22ac39641dcb9ff173c9e9a2845": {
      "model_module": "@jupyter-widgets/base",
      "model_module_version": "1.0.0",
      "model_name": "LayoutModel",
      "state": {}
     },
     "4b51b057a3f5442a82edd42ccb1caf25": {
      "model_module": "@jupyter-widgets/base",
      "model_module_version": "1.0.0",
      "model_name": "LayoutModel",
      "state": {}
     },
     "4b8d15ca37e34082a5ba264fe887bf7d": {
      "model_module": "jp_proxy_widget",
      "model_module_version": "^0.3.4",
      "model_name": "JSProxyModel",
      "state": {
       "_model_module_version": "^0.3.4",
       "_send_counter": 11,
       "_view_module_version": "^0.3.4",
       "error_msg": "No error",
       "layout": "IPY_MODEL_7478568985054581817ed020294c13f7",
       "rendered": true,
       "status": "Got results."
      }
     },
     "4bde1d3cdbe84b9aa3cae99a5ca4f9d9": {
      "model_module": "@jupyter-widgets/base",
      "model_module_version": "1.0.0",
      "model_name": "LayoutModel",
      "state": {}
     },
     "4cfc01abe6f54810bbdc016d18236d60": {
      "model_module": "@jupyter-widgets/controls",
      "model_module_version": "1.0.0",
      "model_name": "TextModel",
      "state": {
       "description": "status:",
       "layout": "IPY_MODEL_17667bbb4de043eb85aef0307516fdd4",
       "style": "IPY_MODEL_09b7b8145cb745e0a3351c875ba6fed8",
       "value": "Got results."
      }
     },
     "4da72811985646e08adf7f5cbd9d304e": {
      "model_module": "@jupyter-widgets/base",
      "model_module_version": "1.0.0",
      "model_name": "LayoutModel",
      "state": {}
     },
     "4dc0c6f24df4459ca16b2ea1be24b40b": {
      "model_module": "@jupyter-widgets/base",
      "model_module_version": "1.0.0",
      "model_name": "LayoutModel",
      "state": {
       "border": "1px solid black"
      }
     },
     "4dff553a093a4940b3ac150cdc0775ac": {
      "model_module": "@jupyter-widgets/base",
      "model_module_version": "1.0.0",
      "model_name": "LayoutModel",
      "state": {}
     },
     "4f2e02edb981465c913f9c1cb4b98ccb": {
      "model_module": "@jupyter-widgets/controls",
      "model_module_version": "1.0.0",
      "model_name": "HTMLModel",
      "state": {
       "layout": "IPY_MODEL_b9fa6ff76d954bd7a2cea111b41bf7ca",
       "style": "IPY_MODEL_8468a8944e1e400a837f1e7db6c06ce6",
       "value": "<img src=\"Image_source.png\" id=\"snapshot_id_9_1535654592412\"/>\n <div id=\"snapshot_id_10_1535654592412\">Image_source.png</div>"
      }
     },
     "4f2e0926a2c74b5ea4a67a7059bf09af": {
      "model_module": "@jupyter-widgets/controls",
      "model_module_version": "1.0.0",
      "model_name": "DescriptionStyleModel",
      "state": {
       "description_width": ""
      }
     },
     "4f62d093dfc34f7aafb6b45a1f3ccc92": {
      "model_module": "@jupyter-widgets/controls",
      "model_module_version": "1.0.0",
      "model_name": "DescriptionStyleModel",
      "state": {
       "description_width": ""
      }
     },
     "4f69acdaea5245508ac73c4936a6f8f6": {
      "model_module": "@jupyter-widgets/output",
      "model_module_version": "1.0.0",
      "model_name": "OutputModel",
      "state": {
       "layout": "IPY_MODEL_cec79519f3744335bb0b6b211b158372",
       "outputs": [
        {
         "name": "stdout",
         "output_type": "stream",
         "text": "debug message area for widget:\n"
        }
       ]
      }
     },
     "4f81aa2af70a4e968f5a9908ca148527": {
      "model_module": "jp_proxy_widget",
      "model_module_version": "^0.3.4",
      "model_name": "JSProxyModel",
      "state": {
       "_model_module_version": "^0.3.4",
       "_send_counter": 2,
       "_view_module_version": "^0.3.4",
       "error_msg": "No error",
       "layout": "IPY_MODEL_45512359ce6542379acc43169e442a0a",
       "rendered": true,
       "status": "Got results."
      }
     },
     "4fca3a80b7e74263a8a16bc6a3f87889": {
      "model_module": "@jupyter-widgets/controls",
      "model_module_version": "1.0.0",
      "model_name": "TextModel",
      "state": {
       "description": "status:",
       "layout": "IPY_MODEL_e3f5e05c4b0e42a8833c2f2a24605a19",
       "style": "IPY_MODEL_7e84f467d3224992be72c13aa18eeb59",
       "value": "Got results."
      }
     },
     "501721f9f8ec44e3bc50759686483a93": {
      "model_module": "jp_proxy_widget",
      "model_module_version": "^0.3.4",
      "model_name": "JSProxyModel",
      "state": {
       "_model_module_version": "^0.3.4",
       "_send_counter": 8,
       "_view_module_version": "^0.3.4",
       "error_msg": "No error",
       "layout": "IPY_MODEL_14ead575c30b406da4c1ea0296ed473d",
       "rendered": true,
       "status": "Got results."
      }
     },
     "5029775b50044209af58b7850a1064fb": {
      "model_module": "@jupyter-widgets/controls",
      "model_module_version": "1.0.0",
      "model_name": "HTMLModel",
      "state": {
       "layout": "IPY_MODEL_7602203dc92a4d95a4f314b8535638f0",
       "style": "IPY_MODEL_64325aab811644b5a5e80365bd799c90",
       "value": "<img src=\"Image1.png\" id=\"snapshot_id_3_1535658716194\"/>\n <div id=\"snapshot_id_4_1535658716194\">Image1.png</div>"
      }
     },
     "502c7a37ea224a4084560bb394fdec8c": {
      "model_module": "@jupyter-widgets/base",
      "model_module_version": "1.0.0",
      "model_name": "LayoutModel",
      "state": {}
     },
     "507e0f10db9b4517988fea8a5e6409a2": {
      "model_module": "@jupyter-widgets/controls",
      "model_module_version": "1.0.0",
      "model_name": "HTMLModel",
      "state": {
       "layout": "IPY_MODEL_68e98b3c333f46c6ae00fe50f0e950fe",
       "style": "IPY_MODEL_d9e2508e436d451aa027c35be6161c34",
       "value": "<img src=\"Image1.png\" id=\"snapshot_id_6_1535576531437\"/>\n <div id=\"snapshot_id_7_1535576531437\">Image1.png</div>"
      }
     },
     "508f93eaf5474d1fa64cd634cf0aaf36": {
      "model_module": "@jupyter-widgets/controls",
      "model_module_version": "1.0.0",
      "model_name": "TabModel",
      "state": {
       "_titles": {
        "0": "Canvas",
        "1": "Snapshot"
       },
       "children": [
        "IPY_MODEL_cca16aa130924c4fb59c59f49e3f23fe",
        "IPY_MODEL_8e126e1f20d14e0f926aaf0322ec66d6"
       ],
       "layout": "IPY_MODEL_34834ad4f1db4db78074c877b81d126e"
      }
     },
     "50b8f802cd05454ebccee0b2dd67baee": {
      "model_module": "@jupyter-widgets/controls",
      "model_module_version": "1.0.0",
      "model_name": "DescriptionStyleModel",
      "state": {
       "description_width": ""
      }
     },
     "50e06579172e4c9082422a1813e758a0": {
      "model_module": "@jupyter-widgets/base",
      "model_module_version": "1.0.0",
      "model_name": "LayoutModel",
      "state": {}
     },
     "510229bd282e4d75a42aad6c0b09ebb3": {
      "model_module": "@jupyter-widgets/base",
      "model_module_version": "1.0.0",
      "model_name": "LayoutModel",
      "state": {}
     },
     "5122bd0c7f2e4d6e911b4bccbb928f65": {
      "model_module": "jp_proxy_widget",
      "model_module_version": "^0.3.4",
      "model_name": "JSProxyModel",
      "state": {
       "_model_module_version": "^0.3.4",
       "_send_counter": 8,
       "_view_module_version": "^0.3.4",
       "error_msg": "No error",
       "layout": "IPY_MODEL_152798091a4a4571ac87b6d7c8c18256",
       "rendered": true,
       "status": "Got results."
      }
     },
     "5123f222b1234a32a228738bcceefaf0": {
      "model_module": "@jupyter-widgets/base",
      "model_module_version": "1.0.0",
      "model_name": "LayoutModel",
      "state": {}
     },
     "514b6a367c4e480db1acfe4641cfc669": {
      "model_module": "@jupyter-widgets/controls",
      "model_module_version": "1.0.0",
      "model_name": "VBoxModel",
      "state": {
       "children": [
        "IPY_MODEL_0e6e87311e0e4919af489150e8b7fca0",
        "IPY_MODEL_bfee5473f77f4da3b0fdaa2f19815328",
        "IPY_MODEL_bc07d3eedf9748c890bcd0fcea844613",
        "IPY_MODEL_3d00e2201c9d4346820e5ef058b45dde"
       ],
       "layout": "IPY_MODEL_bf399724e4c54e70b939a10aa976af51"
      }
     },
     "514e4678df8a450e996f5aa6d06d63f0": {
      "model_module": "@jupyter-widgets/base",
      "model_module_version": "1.0.0",
      "model_name": "LayoutModel",
      "state": {}
     },
     "51d7e7dca39c43adb6234e427123c78a": {
      "model_module": "@jupyter-widgets/base",
      "model_module_version": "1.0.0",
      "model_name": "LayoutModel",
      "state": {}
     },
     "52901e83d48d475cb4492e2527565a1b": {
      "model_module": "@jupyter-widgets/controls",
      "model_module_version": "1.0.0",
      "model_name": "DescriptionStyleModel",
      "state": {
       "description_width": ""
      }
     },
     "52ab653268e742d6b32186fb29801fad": {
      "model_module": "jp_proxy_widget",
      "model_module_version": "^0.3.4",
      "model_name": "JSProxyModel",
      "state": {
       "_model_module_version": "^0.3.4",
       "_send_counter": 11,
       "_view_module_version": "^0.3.4",
       "error_msg": "No error",
       "layout": "IPY_MODEL_f41ebda9974e4c4a9fd2180e0c82a48c",
       "rendered": true,
       "status": "Got results."
      }
     },
     "52f0ab5e966a4dd299a36a88e0e37224": {
      "model_module": "@jupyter-widgets/base",
      "model_module_version": "1.0.0",
      "model_name": "LayoutModel",
      "state": {}
     },
     "5328b6608efc463398003a82c19e784c": {
      "model_module": "@jupyter-widgets/controls",
      "model_module_version": "1.0.0",
      "model_name": "TextModel",
      "state": {
       "description": "error",
       "layout": "IPY_MODEL_4b51b057a3f5442a82edd42ccb1caf25",
       "style": "IPY_MODEL_adbfba2f4565466984102e529a43d37c",
       "value": "No error"
      }
     },
     "532f1c4fdbf84636a19d93336ae0a9a9": {
      "model_module": "@jupyter-widgets/base",
      "model_module_version": "1.0.0",
      "model_name": "LayoutModel",
      "state": {}
     },
     "5371eb64d5d94f889076dd2274c5eb72": {
      "model_module": "@jupyter-widgets/controls",
      "model_module_version": "1.0.0",
      "model_name": "VBoxModel",
      "state": {
       "children": [
        "IPY_MODEL_73c3f268f71d4b4c8aac4ab8913a2935",
        "IPY_MODEL_e7e8ca6758ff45e1a47fdb8a421a1dde",
        "IPY_MODEL_7a7f2739a6b3476986328ebc9c8306ef",
        "IPY_MODEL_8dd0b84c28614f9ba1792ca96d8d7809"
       ],
       "layout": "IPY_MODEL_40dd7718468e4fbea6054b49d0f11216"
      }
     },
     "53c1e54dded84a668e6c29183dc49cfb": {
      "model_module": "@jupyter-widgets/controls",
      "model_module_version": "1.0.0",
      "model_name": "VBoxModel",
      "state": {
       "children": [
        "IPY_MODEL_1acc2a3a5fc14d67a5b44ba66c240335",
        "IPY_MODEL_0679973236be49eb8a83b5ff8c9c690a",
        "IPY_MODEL_f10fdf736fcc4c8c8b7bf77f62ef9c6c",
        "IPY_MODEL_d2eec880d9354bf096aa698f2609d994"
       ],
       "layout": "IPY_MODEL_50e06579172e4c9082422a1813e758a0"
      }
     },
     "5404fbe8751847f88db57c91fe599446": {
      "model_module": "jp_proxy_widget",
      "model_module_version": "^0.3.4",
      "model_name": "JSProxyModel",
      "state": {
       "_model_module_version": "^0.3.4",
       "_send_counter": 10,
       "_view_module_version": "^0.3.4",
       "error_msg": "No error",
       "layout": "IPY_MODEL_74b2c017077c4e909a5d201176886767",
       "rendered": true,
       "status": "Got results."
      }
     },
     "54a025d11bd74bcc87a853a09513a363": {
      "model_module": "@jupyter-widgets/controls",
      "model_module_version": "1.0.0",
      "model_name": "DescriptionStyleModel",
      "state": {
       "description_width": ""
      }
     },
     "54b3716ec88549969b2583d5bcc379ff": {
      "model_module": "@jupyter-widgets/base",
      "model_module_version": "1.0.0",
      "model_name": "LayoutModel",
      "state": {
       "border": "1px solid black"
      }
     },
     "54cd62e9f62e4346bd24a018f791546f": {
      "model_module": "@jupyter-widgets/base",
      "model_module_version": "1.0.0",
      "model_name": "LayoutModel",
      "state": {}
     },
     "5506f489d45e47c3b3ff90c36ae9e94c": {
      "model_module": "@jupyter-widgets/base",
      "model_module_version": "1.0.0",
      "model_name": "LayoutModel",
      "state": {}
     },
     "552e8f2d1a0740258a46636af9ba0a98": {
      "model_module": "@jupyter-widgets/output",
      "model_module_version": "1.0.0",
      "model_name": "OutputModel",
      "state": {
       "layout": "IPY_MODEL_d1bbf0ff145d4607a59fc5737b79a2f5",
       "outputs": [
        {
         "name": "stdout",
         "output_type": "stream",
         "text": "debug message area for widget:\n"
        }
       ]
      }
     },
     "55ae926002d9439185a5834f7126d0ff": {
      "model_module": "@jupyter-widgets/base",
      "model_module_version": "1.0.0",
      "model_name": "LayoutModel",
      "state": {}
     },
     "55cadbabf03c409f858db71f82f29a36": {
      "model_module": "jp_proxy_widget",
      "model_module_version": "^0.3.4",
      "model_name": "JSProxyModel",
      "state": {
       "_model_module_version": "^0.3.4",
       "_send_counter": 6,
       "_view_module_version": "^0.3.4",
       "error_msg": "No error",
       "layout": "IPY_MODEL_65019ae53d774120b98997ca3a998216",
       "rendered": true,
       "status": "Got results."
      }
     },
     "55e8151e3f5f4c538d5bbc9f8cdccddc": {
      "model_module": "@jupyter-widgets/controls",
      "model_module_version": "1.0.0",
      "model_name": "DescriptionStyleModel",
      "state": {
       "description_width": ""
      }
     },
     "5604c16685724aeb873b790a06c0247f": {
      "model_module": "@jupyter-widgets/base",
      "model_module_version": "1.0.0",
      "model_name": "LayoutModel",
      "state": {}
     },
     "561abe802d3a4d9482afd7ef4d698431": {
      "model_module": "@jupyter-widgets/controls",
      "model_module_version": "1.0.0",
      "model_name": "DescriptionStyleModel",
      "state": {
       "description_width": ""
      }
     },
     "563737d9db314d0ea36819cf4ee8fab9": {
      "model_module": "@jupyter-widgets/controls",
      "model_module_version": "1.0.0",
      "model_name": "TextModel",
      "state": {
       "description": "status:",
       "layout": "IPY_MODEL_5f0122e106c5474a9f1c1a760aeb7cc6",
       "style": "IPY_MODEL_3405f8453c4948e1915718550e3a5826",
       "value": "Got results."
      }
     },
     "57225c4deef54be18dfa4df566f7b5e6": {
      "model_module": "@jupyter-widgets/base",
      "model_module_version": "1.0.0",
      "model_name": "LayoutModel",
      "state": {}
     },
     "57382920b79047bfa34275b3dfb2a1ea": {
      "model_module": "@jupyter-widgets/controls",
      "model_module_version": "1.0.0",
      "model_name": "DescriptionStyleModel",
      "state": {
       "description_width": ""
      }
     },
     "57857904e8104a6c8e73870be574361f": {
      "model_module": "@jupyter-widgets/controls",
      "model_module_version": "1.0.0",
      "model_name": "TextModel",
      "state": {
       "description": "error",
       "layout": "IPY_MODEL_4b33f22ac39641dcb9ff173c9e9a2845",
       "style": "IPY_MODEL_a4db1b83e9f54df7b8bc2ba772c0042d",
       "value": "No error"
      }
     },
     "57db697a06574059a11ae05cb8fdcb68": {
      "model_module": "@jupyter-widgets/controls",
      "model_module_version": "1.0.0",
      "model_name": "DescriptionStyleModel",
      "state": {
       "description_width": ""
      }
     },
     "57e5f4fd66574555b49ead1005cddd84": {
      "model_module": "jp_proxy_widget",
      "model_module_version": "^0.3.4",
      "model_name": "JSProxyModel",
      "state": {
       "_model_module_version": "^0.3.4",
       "_send_counter": 11,
       "_view_module_version": "^0.3.4",
       "error_msg": "No error",
       "layout": "IPY_MODEL_29006c1ab95d44e8b4e3f218aaea6a04",
       "rendered": true,
       "status": "Got results."
      }
     },
     "57fbfd44c797445193bcc55b82e8eca7": {
      "model_module": "@jupyter-widgets/base",
      "model_module_version": "1.0.0",
      "model_name": "LayoutModel",
      "state": {}
     },
     "583317a3ad1e49c4befb40bfea91a012": {
      "model_module": "@jupyter-widgets/controls",
      "model_module_version": "1.0.0",
      "model_name": "TextModel",
      "state": {
       "description": "error",
       "layout": "IPY_MODEL_2f4d508358cd41e28699ea5672d309c9",
       "style": "IPY_MODEL_b1a389095ab14acabcfbfce68be7a150",
       "value": "No error"
      }
     },
     "5834392b73b849cebe2404947eab9b89": {
      "model_module": "@jupyter-widgets/base",
      "model_module_version": "1.0.0",
      "model_name": "LayoutModel",
      "state": {}
     },
     "58b9246c2fda4836b78a4bf31d20f2f5": {
      "model_module": "@jupyter-widgets/base",
      "model_module_version": "1.0.0",
      "model_name": "LayoutModel",
      "state": {}
     },
     "59428ac62f1442cf86ea0d855dc1404f": {
      "model_module": "@jupyter-widgets/controls",
      "model_module_version": "1.0.0",
      "model_name": "HTMLModel",
      "state": {
       "layout": "IPY_MODEL_1f31e194a1194820a3e0425166187fdd",
       "style": "IPY_MODEL_3ffa5df97d42415a95d21bd94756c728",
       "value": "<img src=\"Image_source.png\" id=\"snapshot_id_21_1535655123347\"/>\n <div id=\"snapshot_id_22_1535655123347\">Image_source.png</div>"
      }
     },
     "5a18f67f038c4f3e91786f2202295bf7": {
      "model_module": "@jupyter-widgets/base",
      "model_module_version": "1.0.0",
      "model_name": "LayoutModel",
      "state": {}
     },
     "5a372cff1b1349769114be1c45180633": {
      "model_module": "@jupyter-widgets/base",
      "model_module_version": "1.0.0",
      "model_name": "LayoutModel",
      "state": {}
     },
     "5a478799ab824f699042c1a8acbaf3f8": {
      "model_module": "@jupyter-widgets/base",
      "model_module_version": "1.0.0",
      "model_name": "LayoutModel",
      "state": {}
     },
     "5a6e2e98b31c4001a21271dfff5210f7": {
      "model_module": "@jupyter-widgets/base",
      "model_module_version": "1.0.0",
      "model_name": "LayoutModel",
      "state": {}
     },
     "5aa29c31d4644c9ca5cefac4e3dab8ea": {
      "model_module": "@jupyter-widgets/controls",
      "model_module_version": "1.0.0",
      "model_name": "DescriptionStyleModel",
      "state": {
       "description_width": ""
      }
     },
     "5b7806288b634ac9b36bcc8489dde55f": {
      "model_module": "@jupyter-widgets/base",
      "model_module_version": "1.0.0",
      "model_name": "LayoutModel",
      "state": {}
     },
     "5b91025216694f24874eef39d26b8fdd": {
      "model_module": "jp_proxy_widget",
      "model_module_version": "^0.3.4",
      "model_name": "JSProxyModel",
      "state": {
       "_model_module_version": "^0.3.4",
       "_send_counter": 9,
       "_view_module_version": "^0.3.4",
       "error_msg": "No error",
       "layout": "IPY_MODEL_e2526042ca844a48bf723bd1b9391190",
       "rendered": true,
       "status": "Got results."
      }
     },
     "5b921588825d46be9c3524789a2f881b": {
      "model_module": "@jupyter-widgets/base",
      "model_module_version": "1.0.0",
      "model_name": "LayoutModel",
      "state": {}
     },
     "5b950bef7c934fe9b419a019a53dcbf6": {
      "model_module": "@jupyter-widgets/controls",
      "model_module_version": "1.0.0",
      "model_name": "TextModel",
      "state": {
       "description": "status:",
       "layout": "IPY_MODEL_3aa9e6ef1abc40db8f156f9cea410e19",
       "style": "IPY_MODEL_1899983b288d473c9d5c33877833276d",
       "value": "Got results."
      }
     },
     "5ba2cf58ca4e410ebd88528ed5e4efa9": {
      "model_module": "@jupyter-widgets/base",
      "model_module_version": "1.0.0",
      "model_name": "LayoutModel",
      "state": {}
     },
     "5bb5a50103704198bef9e64d66b42a40": {
      "model_module": "@jupyter-widgets/base",
      "model_module_version": "1.0.0",
      "model_name": "LayoutModel",
      "state": {}
     },
     "5bbe2287a9c1440da7eb75306b2992ad": {
      "model_module": "@jupyter-widgets/controls",
      "model_module_version": "1.0.0",
      "model_name": "DescriptionStyleModel",
      "state": {
       "description_width": ""
      }
     },
     "5be5ac177dc746fa8223634c26c1c5d0": {
      "model_module": "@jupyter-widgets/controls",
      "model_module_version": "1.0.0",
      "model_name": "DescriptionStyleModel",
      "state": {
       "description_width": ""
      }
     },
     "5beee43f6cfd4f1297e0debe86f7a63d": {
      "model_module": "@jupyter-widgets/controls",
      "model_module_version": "1.0.0",
      "model_name": "TabModel",
      "state": {
       "_titles": {
        "0": "Canvas",
        "1": "Snapshot"
       },
       "children": [
        "IPY_MODEL_8b60ff399ec14fc68fffbcdea53e44e0",
        "IPY_MODEL_507e0f10db9b4517988fea8a5e6409a2"
       ],
       "layout": "IPY_MODEL_09302cb99e65417eaf63891780e54e1d"
      }
     },
     "5c0f3a1aa51f4c6bac1e4e53a0bae7a8": {
      "model_module": "@jupyter-widgets/base",
      "model_module_version": "1.0.0",
      "model_name": "LayoutModel",
      "state": {}
     },
     "5cda63a2be0d47cba6e73c4d1e7f5fad": {
      "model_module": "@jupyter-widgets/base",
      "model_module_version": "1.0.0",
      "model_name": "LayoutModel",
      "state": {}
     },
     "5d09e41764b84ca9a0d96598e809759f": {
      "model_module": "@jupyter-widgets/controls",
      "model_module_version": "1.0.0",
      "model_name": "TabModel",
      "state": {
       "_titles": {
        "0": "Canvas",
        "1": "Snapshot"
       },
       "children": [
        "IPY_MODEL_cc56639131a742dcb3e20c0c9ed997ad",
        "IPY_MODEL_3ccb9eb46d864e20ba4bb33d76700805"
       ],
       "layout": "IPY_MODEL_39dc2c3a06d146748bf59289bb0488da",
       "selected_index": 1
      }
     },
     "5d15069dbaea42dfbe833abe8d1cda66": {
      "model_module": "@jupyter-widgets/controls",
      "model_module_version": "1.0.0",
      "model_name": "VBoxModel",
      "state": {
       "children": [
        "IPY_MODEL_2704626aefcd49e0a8ed2ce9e3d81884",
        "IPY_MODEL_563737d9db314d0ea36819cf4ee8fab9",
        "IPY_MODEL_828081bea7854df983775eb6c3b23846",
        "IPY_MODEL_552e8f2d1a0740258a46636af9ba0a98"
       ],
       "layout": "IPY_MODEL_c4fee377aca34c23b45829a8f8a2b959"
      }
     },
     "5d9aa72a039443eb9ed7d9f198452b27": {
      "model_module": "@jupyter-widgets/controls",
      "model_module_version": "1.0.0",
      "model_name": "HTMLModel",
      "state": {
       "layout": "IPY_MODEL_9d9f75cd3e9144cd90877ad7cae7d729",
       "style": "IPY_MODEL_50b8f802cd05454ebccee0b2dd67baee",
       "value": "<img src=\"Image0.png\" id=\"snapshot_id_1_1535576432119\"/>\n <div id=\"snapshot_id_2_1535576432119\">Image0.png</div>"
      }
     },
     "5da365de60d9431db45c43442c43dc94": {
      "model_module": "@jupyter-widgets/base",
      "model_module_version": "1.0.0",
      "model_name": "LayoutModel",
      "state": {}
     },
     "5daed1aba84b4a0f8e8b06b5d428c542": {
      "model_module": "@jupyter-widgets/controls",
      "model_module_version": "1.0.0",
      "model_name": "HTMLModel",
      "state": {
       "layout": "IPY_MODEL_ce3b6c6e51c343fa81aba5564d36027f",
       "style": "IPY_MODEL_b2967a99ebac436484a527c9b470cc08",
       "value": "<img src=\"Image_source.png\" id=\"snapshot_id_45_1535657403414\"/>\n <div id=\"snapshot_id_46_1535657403414\">Image_source.png</div>"
      }
     },
     "5de15a14fcdb42be9755f7f358019017": {
      "model_module": "@jupyter-widgets/controls",
      "model_module_version": "1.0.0",
      "model_name": "VBoxModel",
      "state": {
       "children": [
        "IPY_MODEL_4b289207b26940e79907eb9ae8a26957",
        "IPY_MODEL_e3b8c89b9fa34da69ee8eb9eb9b518e7"
       ],
       "layout": "IPY_MODEL_622e0fd24c6f497b9c97b10296d32314"
      }
     },
     "5de7036251e84fa1b1db6db747eb5945": {
      "model_module": "jp_proxy_widget",
      "model_module_version": "^0.3.4",
      "model_name": "JSProxyModel",
      "state": {
       "_model_module_version": "^0.3.4",
       "_send_counter": 2,
       "_view_module_version": "^0.3.4",
       "error_msg": "No error",
       "layout": "IPY_MODEL_459850c377ee4ec58962cdb1667907eb",
       "rendered": true,
       "status": "Got results."
      }
     },
     "5df4387b877145e3b4f0944792c05915": {
      "model_module": "@jupyter-widgets/controls",
      "model_module_version": "1.0.0",
      "model_name": "DescriptionStyleModel",
      "state": {
       "description_width": ""
      }
     },
     "5df4c9e29654495b8149f7a1096958c8": {
      "model_module": "@jupyter-widgets/controls",
      "model_module_version": "1.0.0",
      "model_name": "TextModel",
      "state": {
       "description": "error",
       "layout": "IPY_MODEL_8780c598bf524887a988e808e073f654",
       "style": "IPY_MODEL_80b4d5e31ba84c6a8298378a5823cbb2",
       "value": "No error"
      }
     },
     "5e345aa13a224a01bb35b56dc81f7dd0": {
      "model_module": "@jupyter-widgets/base",
      "model_module_version": "1.0.0",
      "model_name": "LayoutModel",
      "state": {}
     },
     "5e785e371fcc43338ba743be0401dfd0": {
      "model_module": "@jupyter-widgets/base",
      "model_module_version": "1.0.0",
      "model_name": "LayoutModel",
      "state": {}
     },
     "5ec0c809afff4b59808d723d60479a39": {
      "model_module": "@jupyter-widgets/controls",
      "model_module_version": "1.0.0",
      "model_name": "HTMLModel",
      "state": {
       "layout": "IPY_MODEL_c3845801fe6f42ab97e12afdc37062ba",
       "style": "IPY_MODEL_4f2e0926a2c74b5ea4a67a7059bf09af",
       "value": "<img src=\"Image_source.png\" id=\"snapshot_id_47_1535655547706\"/>\n <div id=\"snapshot_id_48_1535655547706\">Image_source.png</div>"
      }
     },
     "5efc007899db4f3daf388b5669e29a2b": {
      "model_module": "@jupyter-widgets/base",
      "model_module_version": "1.0.0",
      "model_name": "LayoutModel",
      "state": {}
     },
     "5f0122e106c5474a9f1c1a760aeb7cc6": {
      "model_module": "@jupyter-widgets/base",
      "model_module_version": "1.0.0",
      "model_name": "LayoutModel",
      "state": {}
     },
     "5f356ede0365457fabccefcd4e1f445c": {
      "model_module": "@jupyter-widgets/controls",
      "model_module_version": "1.0.0",
      "model_name": "DescriptionStyleModel",
      "state": {
       "description_width": ""
      }
     },
     "5f7237a9d663432ea5abf2b9b02c3ae8": {
      "model_module": "jp_proxy_widget",
      "model_module_version": "^0.3.3",
      "model_name": "JSProxyModel",
      "state": {
       "_model_module_version": "^0.3.3",
       "_send_counter": 6,
       "_view_module_version": "^0.3.3",
       "error_msg": "No error",
       "layout": "IPY_MODEL_aa0358ec948541749d453cdfa0d34040",
       "rendered": true,
       "status": "Not yet rendered"
      }
     },
     "5f826f7ded344970890b70b086d39b2d": {
      "model_module": "@jupyter-widgets/controls",
      "model_module_version": "1.0.0",
      "model_name": "HTMLModel",
      "state": {
       "layout": "IPY_MODEL_f72d7abdaf46484cb749e1bbc52c15e6",
       "style": "IPY_MODEL_1e90b97fdcec490c9ec9c463f40e5b1d",
       "value": "<img src=\"Image_source.png\" id=\"snapshot_id_39_1535655367010\"/>\n <div id=\"snapshot_id_40_1535655367010\">Image_source.png</div>"
      }
     },
     "5fa86d314a194753b3c410f4d868c2d1": {
      "model_module": "jp_proxy_widget",
      "model_module_version": "^0.3.4",
      "model_name": "JSProxyModel",
      "state": {
       "_model_module_version": "^0.3.4",
       "_send_counter": 8,
       "_view_module_version": "^0.3.4",
       "error_msg": "No error",
       "layout": "IPY_MODEL_c024242b354340bf99b13409fa7b6c5a",
       "rendered": true,
       "status": "Got results."
      }
     },
     "5fcd008aa82346708cc8e0560b173b7e": {
      "model_module": "@jupyter-widgets/base",
      "model_module_version": "1.0.0",
      "model_name": "LayoutModel",
      "state": {}
     },
     "5ff9fe888d4b4e9b9f615460dff40abf": {
      "model_module": "@jupyter-widgets/controls",
      "model_module_version": "1.0.0",
      "model_name": "HTMLModel",
      "state": {
       "layout": "IPY_MODEL_641849a2d8cb4fd88e12859d0f7f8c7e",
       "style": "IPY_MODEL_f065166da6de449d85f8758a142d6951",
       "value": "<img src=\"Image_source.png\" id=\"snapshot_id_47_1535657403468\"/>\n <div id=\"snapshot_id_48_1535657403468\">Image_source.png</div>"
      }
     },
     "5ffd3c13683e48f4a9b501f0309539ff": {
      "model_module": "@jupyter-widgets/base",
      "model_module_version": "1.0.0",
      "model_name": "LayoutModel",
      "state": {}
     },
     "604c2e790ecc482cb7a45100ab90bc2f": {
      "model_module": "@jupyter-widgets/base",
      "model_module_version": "1.0.0",
      "model_name": "LayoutModel",
      "state": {}
     },
     "611a4951d8f942d3a1a056d15ee69f59": {
      "model_module": "jp_proxy_widget",
      "model_module_version": "^0.3.4",
      "model_name": "JSProxyModel",
      "state": {
       "_model_module_version": "^0.3.4",
       "_send_counter": 10,
       "_view_module_version": "^0.3.4",
       "error_msg": "No error",
       "layout": "IPY_MODEL_6f1e4018d02147749fbea39a134e5f3c",
       "rendered": true,
       "status": "Got results."
      }
     },
     "6130d42f40b84bd4a0053cedca61dba9": {
      "model_module": "@jupyter-widgets/base",
      "model_module_version": "1.0.0",
      "model_name": "LayoutModel",
      "state": {
       "border": "1px solid black"
      }
     },
     "616dd3592b8340fc92ba7d1eed14badf": {
      "model_module": "@jupyter-widgets/controls",
      "model_module_version": "1.0.0",
      "model_name": "DescriptionStyleModel",
      "state": {
       "description_width": ""
      }
     },
     "622e0fd24c6f497b9c97b10296d32314": {
      "model_module": "@jupyter-widgets/base",
      "model_module_version": "1.0.0",
      "model_name": "LayoutModel",
      "state": {}
     },
     "624ce3beef2c4cf1901bb19b1ca2f8e8": {
      "model_module": "jp_proxy_widget",
      "model_module_version": "^0.3.4",
      "model_name": "JSProxyModel",
      "state": {
       "_model_module_version": "^0.3.4",
       "_send_counter": 6,
       "_view_module_version": "^0.3.4",
       "error_msg": "No error",
       "layout": "IPY_MODEL_3fc7ada93a744a9fb2a21f2a9f82d85d",
       "rendered": true,
       "status": "Got results."
      }
     },
     "6277aa0d72424ee88e73968e6d88fc25": {
      "model_module": "@jupyter-widgets/base",
      "model_module_version": "1.0.0",
      "model_name": "LayoutModel",
      "state": {}
     },
     "62b5202b28824bf39312c6d10132e5ee": {
      "model_module": "jp_proxy_widget",
      "model_module_version": "^0.3.4",
      "model_name": "JSProxyModel",
      "state": {
       "_model_module_version": "^0.3.4",
       "_send_counter": 2,
       "_view_module_version": "^0.3.4",
       "error_msg": "No error",
       "layout": "IPY_MODEL_5ffd3c13683e48f4a9b501f0309539ff",
       "rendered": true,
       "status": "Got results."
      }
     },
     "63b826cf560d423ea599edbc4441614e": {
      "model_module": "@jupyter-widgets/base",
      "model_module_version": "1.0.0",
      "model_name": "LayoutModel",
      "state": {}
     },
     "641849a2d8cb4fd88e12859d0f7f8c7e": {
      "model_module": "@jupyter-widgets/base",
      "model_module_version": "1.0.0",
      "model_name": "LayoutModel",
      "state": {}
     },
     "64325aab811644b5a5e80365bd799c90": {
      "model_module": "@jupyter-widgets/controls",
      "model_module_version": "1.0.0",
      "model_name": "DescriptionStyleModel",
      "state": {
       "description_width": ""
      }
     },
     "65019ae53d774120b98997ca3a998216": {
      "model_module": "@jupyter-widgets/base",
      "model_module_version": "1.0.0",
      "model_name": "LayoutModel",
      "state": {}
     },
     "65110c7016184f4ca3249ddc2775660a": {
      "model_module": "@jupyter-widgets/controls",
      "model_module_version": "1.0.0",
      "model_name": "DescriptionStyleModel",
      "state": {
       "description_width": ""
      }
     },
     "65414604ac964902a701f0c8f4164bf7": {
      "model_module": "@jupyter-widgets/base",
      "model_module_version": "1.0.0",
      "model_name": "LayoutModel",
      "state": {}
     },
     "65676a99d9724987aaed13fdd5385bb3": {
      "model_module": "@jupyter-widgets/base",
      "model_module_version": "1.0.0",
      "model_name": "LayoutModel",
      "state": {}
     },
     "661e2acc0f3c4c98a7d3c25723177f2d": {
      "model_module": "@jupyter-widgets/base",
      "model_module_version": "1.0.0",
      "model_name": "LayoutModel",
      "state": {}
     },
     "6636b63521e04c4da96278e56075e73c": {
      "model_module": "@jupyter-widgets/controls",
      "model_module_version": "1.0.0",
      "model_name": "DescriptionStyleModel",
      "state": {
       "description_width": ""
      }
     },
     "664d9641f8cd478ca951455552af0de0": {
      "model_module": "jp_proxy_widget",
      "model_module_version": "^0.3.4",
      "model_name": "JSProxyModel",
      "state": {
       "_model_module_version": "^0.3.4",
       "_send_counter": 2,
       "_view_module_version": "^0.3.4",
       "error_msg": "No error",
       "layout": "IPY_MODEL_ed4987ada3774ac981c31b6af5668b9e",
       "rendered": true,
       "status": "call back to <function callback_function at 0x1181c1848>"
      }
     },
     "6650e7408eed41f7aea8d874227485b6": {
      "model_module": "@jupyter-widgets/controls",
      "model_module_version": "1.0.0",
      "model_name": "HTMLModel",
      "state": {
       "layout": "IPY_MODEL_bc4b1d0fae5c4ade8ca71847e2b3390d",
       "style": "IPY_MODEL_0a591a2472194cb99d43c2d36fa60484",
       "value": "<img src=\"Image_source.png\" id=\"snapshot_id_9_1535658716508\"/>\n <div id=\"snapshot_id_10_1535658716508\">Image_source.png</div>"
      }
     },
     "668fd0171a4347698b30e9373e300556": {
      "model_module": "@jupyter-widgets/controls",
      "model_module_version": "1.0.0",
      "model_name": "VBoxModel",
      "state": {
       "children": [
        "IPY_MODEL_bb0b2cb8850c4917a84e192ab79de2e8",
        "IPY_MODEL_a2125eef1fa94f22bddbb11f7ef7d1fa"
       ],
       "layout": "IPY_MODEL_51d7e7dca39c43adb6234e427123c78a"
      }
     },
     "675a892e47dc4b348101e63deb3715be": {
      "model_module": "jp_proxy_widget",
      "model_module_version": "^0.3.4",
      "model_name": "JSProxyModel",
      "state": {
       "_model_module_version": "^0.3.4",
       "_send_counter": 10,
       "_view_module_version": "^0.3.4",
       "error_msg": "No error",
       "layout": "IPY_MODEL_ff6ead014d9343a48fd07fb454db381c",
       "rendered": true,
       "status": "Got results."
      }
     },
     "67af15fea44047d9bed1b6ce49f8d915": {
      "model_module": "@jupyter-widgets/base",
      "model_module_version": "1.0.0",
      "model_name": "LayoutModel",
      "state": {}
     },
     "68276eea6d65460bad4f3ff42cf30d65": {
      "model_module": "@jupyter-widgets/base",
      "model_module_version": "1.0.0",
      "model_name": "LayoutModel",
      "state": {}
     },
     "684ad80f6b824b0287bf019b2875e47a": {
      "model_module": "@jupyter-widgets/controls",
      "model_module_version": "1.0.0",
      "model_name": "HTMLModel",
      "state": {
       "layout": "IPY_MODEL_3f004b3ef6e3402199464bbdadd1a5b3",
       "style": "IPY_MODEL_4f62d093dfc34f7aafb6b45a1f3ccc92",
       "value": "<img src=\"Image_source.png\" id=\"snapshot_id_19_1535655099200\"/>\n <div id=\"snapshot_id_20_1535655099200\">Image_source.png</div>"
      }
     },
     "688f202a2d834b019fd59d4880db8d64": {
      "model_module": "@jupyter-widgets/base",
      "model_module_version": "1.0.0",
      "model_name": "LayoutModel",
      "state": {
       "border": "1px solid black"
      }
     },
     "68d69e58833e40fa85d2519e23bd66cb": {
      "model_module": "@jupyter-widgets/controls",
      "model_module_version": "1.0.0",
      "model_name": "DescriptionStyleModel",
      "state": {
       "description_width": ""
      }
     },
     "68e98b3c333f46c6ae00fe50f0e950fe": {
      "model_module": "@jupyter-widgets/base",
      "model_module_version": "1.0.0",
      "model_name": "LayoutModel",
      "state": {}
     },
     "69106c82c07c4efda1f525c73f8b131f": {
      "model_module": "@jupyter-widgets/controls",
      "model_module_version": "1.0.0",
      "model_name": "DescriptionStyleModel",
      "state": {
       "description_width": ""
      }
     },
     "69293bf53c7c4470a87904535808b721": {
      "model_module": "@jupyter-widgets/controls",
      "model_module_version": "1.0.0",
      "model_name": "DescriptionStyleModel",
      "state": {
       "description_width": ""
      }
     },
     "697612c036634b5cace899efb7c48c9c": {
      "model_module": "@jupyter-widgets/base",
      "model_module_version": "1.0.0",
      "model_name": "LayoutModel",
      "state": {}
     },
     "6a4706cad5d849aaba06f1dc19cdceab": {
      "model_module": "@jupyter-widgets/base",
      "model_module_version": "1.0.0",
      "model_name": "LayoutModel",
      "state": {
       "border": "1px solid black"
      }
     },
     "6a53e9404a4549d3ba804eae8a001c56": {
      "model_module": "@jupyter-widgets/controls",
      "model_module_version": "1.0.0",
      "model_name": "HTMLModel",
      "state": {
       "layout": "IPY_MODEL_9e37e02843e54d2ab377bfa7c9677397",
       "style": "IPY_MODEL_efb7d046b69246d185e133a489a68a84",
       "value": "<img src=\"Image_source.png\" id=\"snapshot_id_3_1535654304342\"/>\n <div id=\"snapshot_id_4_1535654304342\">Image_source.png</div>"
      }
     },
     "6a70f0e45e074e578a2857fc666e8929": {
      "model_module": "@jupyter-widgets/controls",
      "model_module_version": "1.0.0",
      "model_name": "HTMLModel",
      "state": {
       "layout": "IPY_MODEL_a1ba8efa03ab40699f4da4f1ef298354",
       "style": "IPY_MODEL_7c554e20a4974b218147760d5b0b80f0",
       "value": "<img src=\"Image0.png\" id=\"snapshot_id_1_1535658715765\"/>\n <div id=\"snapshot_id_2_1535658715765\">Image0.png</div>"
      }
     },
     "6abf9582ac864fa189e0a1b6d99d44e6": {
      "model_module": "@jupyter-widgets/base",
      "model_module_version": "1.0.0",
      "model_name": "LayoutModel",
      "state": {}
     },
     "6ac20885d4684ef09197f8ce3014dcb6": {
      "model_module": "@jupyter-widgets/base",
      "model_module_version": "1.0.0",
      "model_name": "LayoutModel",
      "state": {}
     },
     "6c783d0dcfe845c2b1b5bdb7029bc07e": {
      "model_module": "@jupyter-widgets/output",
      "model_module_version": "1.0.0",
      "model_name": "OutputModel",
      "state": {
       "layout": "IPY_MODEL_487e019d64e84aebaf386bad8b644583",
       "outputs": [
        {
         "name": "stdout",
         "output_type": "stream",
         "text": "debug message area for widget:\n"
        }
       ]
      }
     },
     "6c829c61f17547ac89bef7a0b8f82cb0": {
      "model_module": "@jupyter-widgets/base",
      "model_module_version": "1.0.0",
      "model_name": "LayoutModel",
      "state": {}
     },
     "6ca54bf127f742c9a3f48d4bf307ceb1": {
      "model_module": "@jupyter-widgets/controls",
      "model_module_version": "1.0.0",
      "model_name": "HTMLModel",
      "state": {
       "layout": "IPY_MODEL_d24f572db5a44b4b9825e2ab4620c6bf",
       "style": "IPY_MODEL_17e3c2eae8cd48e9af299fba3f2b5d9f",
       "value": "<img src=\"Image_source.png\" id=\"snapshot_id_41_1535657319895\"/>\n <div id=\"snapshot_id_42_1535657319895\">Image_source.png</div>"
      }
     },
     "6d665e9fa8764f2c9ed9b5bcc61b7790": {
      "model_module": "@jupyter-widgets/controls",
      "model_module_version": "1.0.0",
      "model_name": "TextModel",
      "state": {
       "description": "status:",
       "layout": "IPY_MODEL_ddf8feff42ad47079bbb4207263e61cf",
       "style": "IPY_MODEL_f25ccac73f794aa585ba47d5c4cfa170",
       "value": "Got results."
      }
     },
     "6d6dc96a4b4f4b0891eda35b3c6050e0": {
      "model_module": "@jupyter-widgets/base",
      "model_module_version": "1.0.0",
      "model_name": "LayoutModel",
      "state": {}
     },
     "6ddbae8a8dd74cb7b970710164c06842": {
      "model_module": "@jupyter-widgets/controls",
      "model_module_version": "1.0.0",
      "model_name": "TextModel",
      "state": {
       "description": "status:",
       "layout": "IPY_MODEL_195ec407bcaa444a95294c6976147d51",
       "style": "IPY_MODEL_ef8a7018a49f4f9d910061e2bd46aea9",
       "value": "Got results."
      }
     },
     "6e505b2a19a74b7a8821fcd100af733e": {
      "model_module": "@jupyter-widgets/controls",
      "model_module_version": "1.0.0",
      "model_name": "DescriptionStyleModel",
      "state": {
       "description_width": ""
      }
     },
     "6f1e4018d02147749fbea39a134e5f3c": {
      "model_module": "@jupyter-widgets/base",
      "model_module_version": "1.0.0",
      "model_name": "LayoutModel",
      "state": {}
     },
     "6f761f74bdbc4eaa8f327909e71179e9": {
      "model_module": "@jupyter-widgets/controls",
      "model_module_version": "1.0.0",
      "model_name": "DescriptionStyleModel",
      "state": {
       "description_width": ""
      }
     },
     "6fb882f1ffa0406cae9ef3fd8b85b7b2": {
      "model_module": "@jupyter-widgets/controls",
      "model_module_version": "1.0.0",
      "model_name": "DescriptionStyleModel",
      "state": {
       "description_width": ""
      }
     },
     "6fe21425d8744029821a6a92eadb33c9": {
      "model_module": "@jupyter-widgets/base",
      "model_module_version": "1.0.0",
      "model_name": "LayoutModel",
      "state": {
       "border": "1px solid black"
      }
     },
     "701297bd61d04251aaa3b2ed4a770a73": {
      "model_module": "@jupyter-widgets/controls",
      "model_module_version": "1.0.0",
      "model_name": "DescriptionStyleModel",
      "state": {
       "description_width": ""
      }
     },
     "702edde755134ee7865b763b8c2688bc": {
      "model_module": "@jupyter-widgets/controls",
      "model_module_version": "1.0.0",
      "model_name": "TextModel",
      "state": {
       "description": "error",
       "layout": "IPY_MODEL_0141a572d0c74e3da409461ed3171082",
       "style": "IPY_MODEL_81cf8af17cae40f8898d5cc2da69af04",
       "value": "No error"
      }
     },
     "703df3ba5c88464c8ec6e92686cc5443": {
      "model_module": "@jupyter-widgets/base",
      "model_module_version": "1.0.0",
      "model_name": "LayoutModel",
      "state": {}
     },
     "70905df2d9d64aa58cb5399f555deec6": {
      "model_module": "@jupyter-widgets/controls",
      "model_module_version": "1.0.0",
      "model_name": "VBoxModel",
      "state": {
       "children": [
        "IPY_MODEL_f3e9e0eb2ad6468190a88c3db36477d9",
        "IPY_MODEL_84d2c05794aa4e7eaff9bf29a261e9d4"
       ],
       "layout": "IPY_MODEL_f70a7b39af664dad93fb3a7e158bfb06"
      }
     },
     "7154b696fb5342e488a8ec9e08e5464e": {
      "model_module": "@jupyter-widgets/controls",
      "model_module_version": "1.0.0",
      "model_name": "HTMLModel",
      "state": {
       "layout": "IPY_MODEL_4da72811985646e08adf7f5cbd9d304e",
       "style": "IPY_MODEL_bc64673020dd459999b41a6601750f32",
       "value": "<img src=\"Image_source.png\" id=\"snapshot_id_63_1535658009995\"/>\n <div id=\"snapshot_id_64_1535658009995\">Image_source.png</div>"
      }
     },
     "715d755521c2461083845850721e34da": {
      "model_module": "@jupyter-widgets/controls",
      "model_module_version": "1.0.0",
      "model_name": "TabModel",
      "state": {
       "_titles": {
        "0": "Canvas",
        "1": "Snapshot"
       },
       "children": [
        "IPY_MODEL_16f079a6f41d4c00b29499ab17b38785",
        "IPY_MODEL_a46fb87637ff457bba50e2c96441e6f4"
       ],
       "layout": "IPY_MODEL_21886baf24bd40d880b60677c37b698e",
       "selected_index": 1
      }
     },
     "72704b93ddb34f45b987be173c3773ab": {
      "model_module": "jp_proxy_widget",
      "model_module_version": "^0.3.4",
      "model_name": "JSProxyModel",
      "state": {
       "_model_module_version": "^0.3.4",
       "_send_counter": 2,
       "_view_module_version": "^0.3.4",
       "error_msg": "No error",
       "layout": "IPY_MODEL_5604c16685724aeb873b790a06c0247f",
       "rendered": true,
       "status": "Got results."
      }
     },
     "7271826b89204d7387b7aebf9138ac73": {
      "model_module": "@jupyter-widgets/controls",
      "model_module_version": "1.0.0",
      "model_name": "HTMLModel",
      "state": {
       "layout": "IPY_MODEL_2609a5e15a0f40d1b1762826e3e5d852",
       "style": "IPY_MODEL_8085dd2516b542d6a1dab7124a839faa",
       "value": "<img src=\"Image_source.png\" id=\"snapshot_id_33_1535657242029\"/>\n <div id=\"snapshot_id_34_1535657242029\">Image_source.png</div>"
      }
     },
     "72f4fbfa33604d92a3d3fda3233f59be": {
      "model_module": "@jupyter-widgets/base",
      "model_module_version": "1.0.0",
      "model_name": "LayoutModel",
      "state": {}
     },
     "72f80b06a0a241ae82abbc58bacfc365": {
      "model_module": "@jupyter-widgets/base",
      "model_module_version": "1.0.0",
      "model_name": "LayoutModel",
      "state": {}
     },
     "72f9d3e0761149ee96040aefa03a2e60": {
      "model_module": "@jupyter-widgets/base",
      "model_module_version": "1.0.0",
      "model_name": "LayoutModel",
      "state": {
       "border": "1px solid black"
      }
     },
     "72ff8ab06dce40ea824a085978466dcc": {
      "model_module": "@jupyter-widgets/controls",
      "model_module_version": "1.0.0",
      "model_name": "VBoxModel",
      "state": {
       "children": [
        "IPY_MODEL_2893c566dc444f32a280bd6257abb91b",
        "IPY_MODEL_abe6abc4f5d14b5eb4acef5b623e2dec",
        "IPY_MODEL_f074e438da1b4bbd9a7943715b9f02c5",
        "IPY_MODEL_1a8d67d2ab184e2891921f6efbeed275"
       ],
       "layout": "IPY_MODEL_bdc549ca931943e7bed59c00d9ce2632"
      }
     },
     "7347029b26074e39be29ef53a6fe8763": {
      "model_module": "@jupyter-widgets/controls",
      "model_module_version": "1.0.0",
      "model_name": "TextModel",
      "state": {
       "description": "status:",
       "layout": "IPY_MODEL_ccec85475817435eb8f32f7846bf8a30",
       "style": "IPY_MODEL_041c8bd81e15491194c17288539143fb",
       "value": "Got results."
      }
     },
     "73c3f268f71d4b4c8aac4ab8913a2935": {
      "model_module": "jp_proxy_widget",
      "model_module_version": "^0.3.4",
      "model_name": "JSProxyModel",
      "state": {
       "_model_module_version": "^0.3.4",
       "_send_counter": 11,
       "_view_module_version": "^0.3.4",
       "error_msg": "NameError(\"global name 'demo2' is not defined\",)",
       "layout": "IPY_MODEL_89850c6df32045468413a340c2118f28",
       "rendered": true,
       "status": "Got results."
      }
     },
     "73e991bca2c04d03bc0580ee57de1dd6": {
      "model_module": "@jupyter-widgets/controls",
      "model_module_version": "1.0.0",
      "model_name": "VBoxModel",
      "state": {
       "children": [
        "IPY_MODEL_57e5f4fd66574555b49ead1005cddd84",
        "IPY_MODEL_47ac145814e14b3c9aaa1763e91a8647",
        "IPY_MODEL_ea75abda405548bd80a5f2ab866076e8",
        "IPY_MODEL_1496dcd4b13f4ce6977ca1d6886ab32d"
       ],
       "layout": "IPY_MODEL_1e80abec70214fce8fc0eb4d1147f2c5"
      }
     },
     "7410f48df0c745e1a29534d98e8e8a0a": {
      "model_module": "@jupyter-widgets/base",
      "model_module_version": "1.0.0",
      "model_name": "LayoutModel",
      "state": {}
     },
     "745ce7d1c4a848d1895c4062e3043a56": {
      "model_module": "@jupyter-widgets/controls",
      "model_module_version": "1.0.0",
      "model_name": "TabModel",
      "state": {
       "_titles": {
        "0": "Canvas",
        "1": "Snapshot"
       },
       "children": [
        "IPY_MODEL_5de15a14fcdb42be9755f7f358019017",
        "IPY_MODEL_387e0ef881d0478b9d3d5f0fce6c2bae"
       ],
       "layout": "IPY_MODEL_e0b7250cd29a471bbfad520c7b434c26",
       "selected_index": 1
      }
     },
     "74703c87e7c84cc09049ee4022f81711": {
      "model_module": "@jupyter-widgets/base",
      "model_module_version": "1.0.0",
      "model_name": "LayoutModel",
      "state": {
       "border": "1px solid black"
      }
     },
     "7478568985054581817ed020294c13f7": {
      "model_module": "@jupyter-widgets/base",
      "model_module_version": "1.0.0",
      "model_name": "LayoutModel",
      "state": {}
     },
     "74b2c017077c4e909a5d201176886767": {
      "model_module": "@jupyter-widgets/base",
      "model_module_version": "1.0.0",
      "model_name": "LayoutModel",
      "state": {}
     },
     "74b38f44e2b142bfbcc54c74feeea767": {
      "model_module": "@jupyter-widgets/controls",
      "model_module_version": "1.0.0",
      "model_name": "VBoxModel",
      "state": {
       "children": [
        "IPY_MODEL_cae07af383d64824aebbaeeb7a97088d",
        "IPY_MODEL_189a49704c9442a69ef85aa747c79f83"
       ],
       "layout": "IPY_MODEL_e2571948c3084b04bc265d08fdcb3a1d"
      }
     },
     "75030b4ea22d4ffd89f4589c37e38463": {
      "model_module": "@jupyter-widgets/base",
      "model_module_version": "1.0.0",
      "model_name": "LayoutModel",
      "state": {}
     },
     "7505aba7bda84b8e8069396eab5b568e": {
      "model_module": "@jupyter-widgets/base",
      "model_module_version": "1.0.0",
      "model_name": "LayoutModel",
      "state": {}
     },
     "753f9dc6684847e98396224f785fb06d": {
      "model_module": "@jupyter-widgets/controls",
      "model_module_version": "1.0.0",
      "model_name": "TextModel",
      "state": {
       "description": "error",
       "layout": "IPY_MODEL_4888987b7dc54119b3783c157e809cf3",
       "style": "IPY_MODEL_f869e451f6e84169a6b0dbb394464898",
       "value": "No error"
      }
     },
     "75599cc72a6a48379a2b5888a2c3e5ec": {
      "model_module": "@jupyter-widgets/controls",
      "model_module_version": "1.0.0",
      "model_name": "DescriptionStyleModel",
      "state": {
       "description_width": ""
      }
     },
     "7599723fc05b461caacfaae64105ef0b": {
      "model_module": "@jupyter-widgets/base",
      "model_module_version": "1.0.0",
      "model_name": "LayoutModel",
      "state": {}
     },
     "75b9e5f49f5d4c86b550672ae7770085": {
      "model_module": "@jupyter-widgets/base",
      "model_module_version": "1.0.0",
      "model_name": "LayoutModel",
      "state": {}
     },
     "75de9101abea45118dce4d9b9f95faf5": {
      "model_module": "@jupyter-widgets/controls",
      "model_module_version": "1.0.0",
      "model_name": "VBoxModel",
      "state": {
       "children": [
        "IPY_MODEL_37c0f62a290241a580d94cc22213c2bd",
        "IPY_MODEL_7cdeaab5aab74e43ba7a91f0d4885727",
        "IPY_MODEL_b4eb71a9f45448ffb11c8352e514b1cc",
        "IPY_MODEL_fe9ada8132d54ebab696414435a90303"
       ],
       "layout": "IPY_MODEL_5fcd008aa82346708cc8e0560b173b7e"
      }
     },
     "7602203dc92a4d95a4f314b8535638f0": {
      "model_module": "@jupyter-widgets/base",
      "model_module_version": "1.0.0",
      "model_name": "LayoutModel",
      "state": {}
     },
     "772cf2ec29194935a275d5fa63bc32bb": {
      "model_module": "@jupyter-widgets/controls",
      "model_module_version": "1.0.0",
      "model_name": "VBoxModel",
      "state": {
       "children": [
        "IPY_MODEL_af6dc3d887d241d1a68c3dcc67cc4ebf",
        "IPY_MODEL_7a72aa8bc40e4c2381e8ee9b44580523",
        "IPY_MODEL_41b339c512174443951c0f76333a683c",
        "IPY_MODEL_c633eb759f11441485df371ec57456da"
       ],
       "layout": "IPY_MODEL_41dce1307f324956a62d32f34555177e"
      }
     },
     "77a4ecea27cc402b9073311006fb33f6": {
      "model_module": "@jupyter-widgets/base",
      "model_module_version": "1.0.0",
      "model_name": "LayoutModel",
      "state": {}
     },
     "77b0a071320e46a0be73b43123389a2d": {
      "model_module": "@jupyter-widgets/base",
      "model_module_version": "1.0.0",
      "model_name": "LayoutModel",
      "state": {}
     },
     "77c26499059e4d0fac31bb02b86a9c80": {
      "model_module": "@jupyter-widgets/base",
      "model_module_version": "1.0.0",
      "model_name": "LayoutModel",
      "state": {}
     },
     "77ced8d3e1dd4b9097830e1378423a1b": {
      "model_module": "@jupyter-widgets/base",
      "model_module_version": "1.0.0",
      "model_name": "LayoutModel",
      "state": {}
     },
     "7800400e760747eda42333d7aebe52c9": {
      "model_module": "@jupyter-widgets/output",
      "model_module_version": "1.0.0",
      "model_name": "OutputModel",
      "state": {
       "layout": "IPY_MODEL_06a4be1e4e6e47a2b6f9939656d10cd2",
       "outputs": [
        {
         "name": "stdout",
         "output_type": "stream",
         "text": "debug message area for widget:\n"
        }
       ]
      }
     },
     "7859201af2f84495b923ffdfe0238b8f": {
      "model_module": "@jupyter-widgets/output",
      "model_module_version": "1.0.0",
      "model_name": "OutputModel",
      "state": {
       "layout": "IPY_MODEL_83a57e4fd6d3459d8c488e042660f15c",
       "outputs": [
        {
         "name": "stdout",
         "output_type": "stream",
         "text": "debug message area for widget:\n"
        }
       ]
      }
     },
     "78cfd045c46b4f09ba220f1ea54c93a4": {
      "model_module": "@jupyter-widgets/controls",
      "model_module_version": "1.0.0",
      "model_name": "DescriptionStyleModel",
      "state": {
       "description_width": ""
      }
     },
     "78e8f506ba014b1eb2351cfe79589670": {
      "model_module": "@jupyter-widgets/base",
      "model_module_version": "1.0.0",
      "model_name": "LayoutModel",
      "state": {}
     },
     "797ed1b42d454928bd37b7a88287ad16": {
      "model_module": "@jupyter-widgets/base",
      "model_module_version": "1.0.0",
      "model_name": "LayoutModel",
      "state": {}
     },
     "797fd8a01aa2419b921fcf9822a2c21f": {
      "model_module": "@jupyter-widgets/base",
      "model_module_version": "1.0.0",
      "model_name": "LayoutModel",
      "state": {}
     },
     "7986535b772f4aaea5db4157406aaacf": {
      "model_module": "@jupyter-widgets/controls",
      "model_module_version": "1.0.0",
      "model_name": "TabModel",
      "state": {
       "_titles": {
        "0": "Canvas",
        "1": "Snapshot"
       },
       "children": [
        "IPY_MODEL_91972d9591794d979ee0460ad4ab41dd",
        "IPY_MODEL_013c536bd44046e28ed2aeac632eba8b"
       ],
       "layout": "IPY_MODEL_f0a9d48f49c74512ab7d96702731b1a6",
       "selected_index": 1
      }
     },
     "799e61837ff445d0bdd2ddb3e40fde85": {
      "model_module": "jp_proxy_widget",
      "model_module_version": "^0.3.4",
      "model_name": "JSProxyModel",
      "state": {
       "_model_module_version": "^0.3.4",
       "_send_counter": 11,
       "_view_module_version": "^0.3.4",
       "error_msg": "No error",
       "layout": "IPY_MODEL_3953f7ad4b774f8898005796146e6d32",
       "rendered": true,
       "status": "Got results."
      }
     },
     "7a0a221ff6cf4dafbc0d1a410037b90a": {
      "model_module": "@jupyter-widgets/base",
      "model_module_version": "1.0.0",
      "model_name": "LayoutModel",
      "state": {}
     },
     "7a4815b7e3bd46b6b613a5837b046c7c": {
      "model_module": "@jupyter-widgets/base",
      "model_module_version": "1.0.0",
      "model_name": "LayoutModel",
      "state": {}
     },
     "7a72aa8bc40e4c2381e8ee9b44580523": {
      "model_module": "@jupyter-widgets/controls",
      "model_module_version": "1.0.0",
      "model_name": "TextModel",
      "state": {
       "description": "status:",
       "layout": "IPY_MODEL_4bde1d3cdbe84b9aa3cae99a5ca4f9d9",
       "style": "IPY_MODEL_16c8fb4953fe4ab0a554e9dd2606c06f",
       "value": "Not yet rendered"
      }
     },
     "7a7f2739a6b3476986328ebc9c8306ef": {
      "model_module": "@jupyter-widgets/controls",
      "model_module_version": "1.0.0",
      "model_name": "TextModel",
      "state": {
       "description": "error",
       "layout": "IPY_MODEL_e7c899b96edb4b4689ed15d62468740a",
       "style": "IPY_MODEL_6636b63521e04c4da96278e56075e73c",
       "value": "NameError(\"global name 'demo2' is not defined\",)"
      }
     },
     "7a8ee7303f88423c8fdbee203344da82": {
      "model_module": "@jupyter-widgets/controls",
      "model_module_version": "1.0.0",
      "model_name": "VBoxModel",
      "state": {
       "children": [
        "IPY_MODEL_3e1ff19e51b04e398a7d2002d4fab552",
        "IPY_MODEL_0ed05257caf04837a8c17f8f492b6185",
        "IPY_MODEL_145b621e5a354ecf902992f7029ff87d",
        "IPY_MODEL_b8c569c4d5ff4a05acebf6abde726a88"
       ],
       "layout": "IPY_MODEL_b07b258a502f417c86c08ec8171284fc"
      }
     },
     "7ae5595afed8436ebf01bff6c2ac170f": {
      "model_module": "@jupyter-widgets/controls",
      "model_module_version": "1.0.0",
      "model_name": "VBoxModel",
      "state": {
       "children": [
        "IPY_MODEL_4b8d15ca37e34082a5ba264fe887bf7d",
        "IPY_MODEL_9d65f5f35c5a4f1a86024cccf1c9b3b0",
        "IPY_MODEL_1a88d8b27337450788aa6722ba0c6bb3",
        "IPY_MODEL_e2ade79ac7db493484929c8c98429ca2"
       ],
       "layout": "IPY_MODEL_90a3059d735e46d394185c325444aaf0"
      }
     },
     "7bb5ef4005f14b8bb3407c99230c00bc": {
      "model_module": "@jupyter-widgets/base",
      "model_module_version": "1.0.0",
      "model_name": "LayoutModel",
      "state": {
       "border": "1px solid black"
      }
     },
     "7bb62628ca7b4ea5856fe0be79cd6245": {
      "model_module": "@jupyter-widgets/controls",
      "model_module_version": "1.0.0",
      "model_name": "DescriptionStyleModel",
      "state": {
       "description_width": ""
      }
     },
     "7be2dad37d24466faea7251b14f189ed": {
      "model_module": "@jupyter-widgets/base",
      "model_module_version": "1.0.0",
      "model_name": "LayoutModel",
      "state": {}
     },
     "7c081749d3c64e94b2ca10d811bd2bc7": {
      "model_module": "@jupyter-widgets/controls",
      "model_module_version": "1.0.0",
      "model_name": "HTMLModel",
      "state": {
       "layout": "IPY_MODEL_aaf003e0e0ef428a8ae4b453c997bef9",
       "style": "IPY_MODEL_8de8f1da88b6489a9d30a2ccda7214fc",
       "value": "<img src=\"Image4.png\" id=\"snapshot_id_7_1535658716343\"/>\n <div id=\"snapshot_id_8_1535658716343\">Image4.png</div>"
      }
     },
     "7c554e20a4974b218147760d5b0b80f0": {
      "model_module": "@jupyter-widgets/controls",
      "model_module_version": "1.0.0",
      "model_name": "DescriptionStyleModel",
      "state": {
       "description_width": ""
      }
     },
     "7cdeaab5aab74e43ba7a91f0d4885727": {
      "model_module": "@jupyter-widgets/controls",
      "model_module_version": "1.0.0",
      "model_name": "TextModel",
      "state": {
       "description": "status:",
       "layout": "IPY_MODEL_07834359ca69424dbab9d2539d8d9edc",
       "style": "IPY_MODEL_6fb882f1ffa0406cae9ef3fd8b85b7b2",
       "value": "Got results."
      }
     },
     "7cf23437a7ee4b998da0f7d997f423c2": {
      "model_module": "@jupyter-widgets/base",
      "model_module_version": "1.0.0",
      "model_name": "LayoutModel",
      "state": {}
     },
     "7d30015625bd45be889c78e402e4ed03": {
      "model_module": "@jupyter-widgets/controls",
      "model_module_version": "1.0.0",
      "model_name": "TextModel",
      "state": {
       "description": "error",
       "layout": "IPY_MODEL_46df7a2846164529b8fe5fe84fcccc82",
       "style": "IPY_MODEL_392d32ce35834bd4a5aa10dc2758ae4c",
       "value": "No error"
      }
     },
     "7d9257136fe04b23afd0834b37ff92ef": {
      "model_module": "@jupyter-widgets/base",
      "model_module_version": "1.0.0",
      "model_name": "LayoutModel",
      "state": {
       "border": "1px solid black"
      }
     },
     "7d94cd7a4ff147f29b98a4173b9ef34a": {
      "model_module": "jp_proxy_widget",
      "model_module_version": "^0.3.3",
      "model_name": "JSProxyModel",
      "state": {
       "_model_module_version": "^0.3.3",
       "_send_counter": 10,
       "_view_module_version": "^0.3.3",
       "error_msg": "No error",
       "layout": "IPY_MODEL_2fd4346e261e426893d4ca22a31a09b2",
       "rendered": true,
       "status": "Got results."
      }
     },
     "7e49f99ca01240068c052b69ff21b210": {
      "model_module": "jp_proxy_widget",
      "model_module_version": "^0.3.4",
      "model_name": "JSProxyModel",
      "state": {
       "_model_module_version": "^0.3.4",
       "_send_counter": 6,
       "_view_module_version": "^0.3.4",
       "error_msg": "No error",
       "layout": "IPY_MODEL_9e21a85879de413eaa14f39ba6051e11",
       "rendered": true,
       "status": "Got results."
      }
     },
     "7e5ec874a8914139bab08b66bd79c943": {
      "model_module": "@jupyter-widgets/base",
      "model_module_version": "1.0.0",
      "model_name": "LayoutModel",
      "state": {}
     },
     "7e84f467d3224992be72c13aa18eeb59": {
      "model_module": "@jupyter-widgets/controls",
      "model_module_version": "1.0.0",
      "model_name": "DescriptionStyleModel",
      "state": {
       "description_width": ""
      }
     },
     "7e99b13a82794c8fb7cb2040332688a1": {
      "model_module": "@jupyter-widgets/base",
      "model_module_version": "1.0.0",
      "model_name": "LayoutModel",
      "state": {}
     },
     "7fbecf7e77ab41c8b9646e06d9c0d855": {
      "model_module": "jp_proxy_widget",
      "model_module_version": "^0.3.4",
      "model_name": "JSProxyModel",
      "state": {
       "_model_module_version": "^0.3.4",
       "_send_counter": 2,
       "_view_module_version": "^0.3.4",
       "error_msg": "No error",
       "layout": "IPY_MODEL_a1276234c64a4d44b60ff1be7da61572",
       "rendered": true,
       "status": "call back to <function callback_function at 0x1181c18c0>"
      }
     },
     "7ff4c1de0ec14756a86c184ee6dabdef": {
      "model_module": "jp_proxy_widget",
      "model_module_version": "^0.3.4",
      "model_name": "JSProxyModel",
      "state": {
       "_model_module_version": "^0.3.4",
       "_send_counter": 2,
       "_view_module_version": "^0.3.4",
       "error_msg": "No error",
       "layout": "IPY_MODEL_a1895384410746dfb4b041a262dd2e10",
       "rendered": true,
       "status": "Got results."
      }
     },
     "802a796f2c9147ea8e5b13d8e8959ae2": {
      "model_module": "@jupyter-widgets/base",
      "model_module_version": "1.0.0",
      "model_name": "LayoutModel",
      "state": {}
     },
     "8041e0612f0b47d0957fd4fd90086982": {
      "model_module": "@jupyter-widgets/controls",
      "model_module_version": "1.0.0",
      "model_name": "TextModel",
      "state": {
       "description": "error",
       "layout": "IPY_MODEL_24f88e106b7745f884e2b94bbd37e325",
       "style": "IPY_MODEL_2b37a8904cab4490b58fe791881457da",
       "value": "No error"
      }
     },
     "8085dd2516b542d6a1dab7124a839faa": {
      "model_module": "@jupyter-widgets/controls",
      "model_module_version": "1.0.0",
      "model_name": "DescriptionStyleModel",
      "state": {
       "description_width": ""
      }
     },
     "80abf2d7c97745eaa56f6d24edb76d68": {
      "model_module": "@jupyter-widgets/controls",
      "model_module_version": "1.0.0",
      "model_name": "VBoxModel",
      "state": {
       "children": [
        "IPY_MODEL_675a892e47dc4b348101e63deb3715be",
        "IPY_MODEL_ba595ece897e40678293712c2531bb44"
       ],
       "layout": "IPY_MODEL_7e99b13a82794c8fb7cb2040332688a1"
      }
     },
     "80b4d5e31ba84c6a8298378a5823cbb2": {
      "model_module": "@jupyter-widgets/controls",
      "model_module_version": "1.0.0",
      "model_name": "DescriptionStyleModel",
      "state": {
       "description_width": ""
      }
     },
     "8112d201d9324235becdf1471f3cf41c": {
      "model_module": "@jupyter-widgets/base",
      "model_module_version": "1.0.0",
      "model_name": "LayoutModel",
      "state": {}
     },
     "81cf8af17cae40f8898d5cc2da69af04": {
      "model_module": "@jupyter-widgets/controls",
      "model_module_version": "1.0.0",
      "model_name": "DescriptionStyleModel",
      "state": {
       "description_width": ""
      }
     },
     "8249b60c44684cb8a661384a7438e7d2": {
      "model_module": "@jupyter-widgets/controls",
      "model_module_version": "1.0.0",
      "model_name": "VBoxModel",
      "state": {
       "children": [
        "IPY_MODEL_8702daa3105e41b1b3710e8f3b268362",
        "IPY_MODEL_f90a0be554004d099967dc08f00e947a",
        "IPY_MODEL_ff92ccdcbdfa4fb38809bce516be41c8",
        "IPY_MODEL_903ec30b24f647b697887f02b3f7cda7"
       ],
       "layout": "IPY_MODEL_f18ce8c241f947aa9b6c7ea3edf5d52a"
      }
     },
     "825f73677ff94f6d83d2bb77e08197dd": {
      "model_module": "@jupyter-widgets/base",
      "model_module_version": "1.0.0",
      "model_name": "LayoutModel",
      "state": {}
     },
     "828081bea7854df983775eb6c3b23846": {
      "model_module": "@jupyter-widgets/controls",
      "model_module_version": "1.0.0",
      "model_name": "TextModel",
      "state": {
       "description": "error",
       "layout": "IPY_MODEL_0e33714eb0af4695b122368053f41491",
       "style": "IPY_MODEL_83a36340fb784ab88d2da8162c134516",
       "value": "No error"
      }
     },
     "8307d13701b145e6a8c3425b7dcb9d8d": {
      "model_module": "@jupyter-widgets/controls",
      "model_module_version": "1.0.0",
      "model_name": "TextModel",
      "state": {
       "description": "status:",
       "layout": "IPY_MODEL_e6717c82486d46239983169035ea492d",
       "style": "IPY_MODEL_e3a4ffef7fbb46e49d74afdfd0f245e9",
       "value": "Got results."
      }
     },
     "831891b11e2e4e4da04033af9f4b4056": {
      "model_module": "@jupyter-widgets/controls",
      "model_module_version": "1.0.0",
      "model_name": "HTMLModel",
      "state": {
       "layout": "IPY_MODEL_0c4b3cb25ee947c0a0afbd9b4e1b64cf",
       "style": "IPY_MODEL_3d5d3056c0514bb4a532a35dc3443803",
       "value": "<img src=\"Image_source.png\" id=\"snapshot_id_45_1535655395257\"/>\n <div id=\"snapshot_id_46_1535655395257\">Image_source.png</div>"
      }
     },
     "8364d2bd223d40e6ab8016b26cb1ed1d": {
      "model_module": "@jupyter-widgets/controls",
      "model_module_version": "1.0.0",
      "model_name": "DescriptionStyleModel",
      "state": {
       "description_width": ""
      }
     },
     "83a36340fb784ab88d2da8162c134516": {
      "model_module": "@jupyter-widgets/controls",
      "model_module_version": "1.0.0",
      "model_name": "DescriptionStyleModel",
      "state": {
       "description_width": ""
      }
     },
     "83a57e4fd6d3459d8c488e042660f15c": {
      "model_module": "@jupyter-widgets/base",
      "model_module_version": "1.0.0",
      "model_name": "LayoutModel",
      "state": {
       "border": "1px solid black"
      }
     },
     "844f873be72e42cb830a5ef8fa048231": {
      "model_module": "@jupyter-widgets/base",
      "model_module_version": "1.0.0",
      "model_name": "LayoutModel",
      "state": {}
     },
     "8456b20c79694baa9ebf108e8854934b": {
      "model_module": "@jupyter-widgets/controls",
      "model_module_version": "1.0.0",
      "model_name": "TabModel",
      "state": {
       "_titles": {
        "0": "Canvas",
        "1": "Snapshot"
       },
       "children": [
        "IPY_MODEL_fe86c071699343c79d143adb1d10a6f7",
        "IPY_MODEL_a068f3a358544b67abe98e1916934038"
       ],
       "layout": "IPY_MODEL_502c7a37ea224a4084560bb394fdec8c"
      }
     },
     "8468a8944e1e400a837f1e7db6c06ce6": {
      "model_module": "@jupyter-widgets/controls",
      "model_module_version": "1.0.0",
      "model_name": "DescriptionStyleModel",
      "state": {
       "description_width": ""
      }
     },
     "846bcc21f90644c8abf84fec978365fc": {
      "model_module": "@jupyter-widgets/controls",
      "model_module_version": "1.0.0",
      "model_name": "TabModel",
      "state": {
       "_titles": {
        "0": "Canvas",
        "1": "Snapshot"
       },
       "children": [
        "IPY_MODEL_ed190cf9e5864d479067b5db350ec06d",
        "IPY_MODEL_033939a06c35491fb2b53752987496ae"
       ],
       "layout": "IPY_MODEL_7a4815b7e3bd46b6b613a5837b046c7c"
      }
     },
     "848e8291e9ef4872a151d0a674162c92": {
      "model_module": "@jupyter-widgets/controls",
      "model_module_version": "1.0.0",
      "model_name": "HTMLModel",
      "state": {
       "layout": "IPY_MODEL_f8592c9cc7914a10aa75149810cc06da",
       "style": "IPY_MODEL_381f3ef7d9574711af9580b7b097a096",
       "value": "<img src=\"Image_source.png\" id=\"snapshot_id_43_1535657319950\"/>\n <div id=\"snapshot_id_44_1535657319950\">Image_source.png</div>"
      }
     },
     "84d2c05794aa4e7eaff9bf29a261e9d4": {
      "model_module": "jp_proxy_widget",
      "model_module_version": "^0.3.4",
      "model_name": "JSProxyModel",
      "state": {
       "_model_module_version": "^0.3.4",
       "_send_counter": 2,
       "_view_module_version": "^0.3.4",
       "error_msg": "No error",
       "layout": "IPY_MODEL_475d2047033843c4b95c163260c265d4",
       "rendered": true,
       "status": "Got results."
      }
     },
     "85975dff124548d2b060a1b6605f1076": {
      "model_module": "@jupyter-widgets/controls",
      "model_module_version": "1.0.0",
      "model_name": "HTMLModel",
      "state": {
       "layout": "IPY_MODEL_11c8a5110d7f4c6c88f4b409d00ebd4e",
       "style": "IPY_MODEL_3ddbe6e3d5424409bda13da8a352e29c",
       "value": "<img src=\"Image_source.png\" id=\"snapshot_id_1_1535654279263\"/>\n <div id=\"snapshot_id_2_1535654279263\">Image_source.png</div>"
      }
     },
     "85ec18f48572470cb62caf8d46d9c266": {
      "model_module": "@jupyter-widgets/base",
      "model_module_version": "1.0.0",
      "model_name": "LayoutModel",
      "state": {
       "border": "1px solid black"
      }
     },
     "8702daa3105e41b1b3710e8f3b268362": {
      "model_module": "jp_proxy_widget",
      "model_module_version": "^0.3.4",
      "model_name": "JSProxyModel",
      "state": {
       "_model_module_version": "^0.3.4",
       "_send_counter": 11,
       "_view_module_version": "^0.3.4",
       "error_msg": "No error",
       "layout": "IPY_MODEL_288cc108909745adbc8e6f5a4625ffaa",
       "rendered": true,
       "status": "Got results."
      }
     },
     "8780c598bf524887a988e808e073f654": {
      "model_module": "@jupyter-widgets/base",
      "model_module_version": "1.0.0",
      "model_name": "LayoutModel",
      "state": {}
     },
     "87965d27e246497bbab046e26db601cc": {
      "model_module": "@jupyter-widgets/base",
      "model_module_version": "1.0.0",
      "model_name": "LayoutModel",
      "state": {
       "border": "1px solid black"
      }
     },
     "87ae790daf014bf69128ccda5442fbd0": {
      "model_module": "jp_proxy_widget",
      "model_module_version": "^0.3.4",
      "model_name": "JSProxyModel",
      "state": {
       "_model_module_version": "^0.3.4",
       "_send_counter": 6,
       "_view_module_version": "^0.3.4",
       "error_msg": "No error",
       "layout": "IPY_MODEL_7e5ec874a8914139bab08b66bd79c943",
       "rendered": true,
       "status": "Got results."
      }
     },
     "87b8c204da674494ad065abb0aaa8ba4": {
      "model_module": "@jupyter-widgets/controls",
      "model_module_version": "1.0.0",
      "model_name": "VBoxModel",
      "state": {
       "children": [
        "IPY_MODEL_c8455d4eabce49bb90cf7e94b68afa4e",
        "IPY_MODEL_de4d676bcc7a492a85bc5103ef3383e1",
        "IPY_MODEL_0525bffe26fe40f9b271eba408e95a42",
        "IPY_MODEL_ce6ad981b9474d368319bb0b3fc93a12"
       ],
       "layout": "IPY_MODEL_ae2bc38d747c49288b9936fabe5548db"
      }
     },
     "8815d6cb3f0c44a0b5d517dced54c8b5": {
      "model_module": "@jupyter-widgets/controls",
      "model_module_version": "1.0.0",
      "model_name": "HTMLModel",
      "state": {
       "layout": "IPY_MODEL_514e4678df8a450e996f5aa6d06d63f0",
       "style": "IPY_MODEL_bfc23fbb5b0348789ca742e71d323e57",
       "value": "<img src=\"Image_source.png\" id=\"snapshot_id_21_1535655734257\"/>\n <div id=\"snapshot_id_22_1535655734257\">Image_source.png</div>"
      }
     },
     "884c29d84fe24a1d90b671a23f303da3": {
      "model_module": "@jupyter-widgets/output",
      "model_module_version": "1.0.0",
      "model_name": "OutputModel",
      "state": {
       "layout": "IPY_MODEL_d07ca4ac57f24c2d9e01cbd8d158d116",
       "outputs": [
        {
         "name": "stdout",
         "output_type": "stream",
         "text": "debug message area for widget:\n"
        },
        {
         "data": {
          "application/vnd.jupyter.widget-view+json": {
           "model_id": "2883c422bcba4c94859466200d249a42",
           "version_major": 2,
           "version_minor": 0
          },
          "text/html": "<p>Failed to display Jupyter Widget of type <code>VBox</code>.</p>\n<p>\n  If you're reading this message in Jupyter Notebook or JupyterLab, it may mean\n  that the widgets JavaScript is still loading. If this message persists, it\n  likely means that the widgets JavaScript library is either not installed or\n  not enabled. See the <a href=\"https://ipywidgets.readthedocs.io/en/stable/user_install.html\">Jupyter\n  Widgets Documentation</a> for setup instructions.\n</p>\n<p>\n  If you're reading this message in another notebook frontend (for example, a static\n  rendering on GitHub or <a href=\"https://nbviewer.jupyter.org/\">NBViewer</a>),\n  it may mean that your frontend doesn't currently support widgets.\n</p>\n",
          "text/plain": "VBox(children=(SnapshotCanvas(status=u'Not yet rendered'), Text(value=u'Not yet rendered', description=u'status:'), Text(value=u'No error', description=u'error'), Output(layout=Layout(border=u'1px solid black'))))"
         },
         "metadata": {},
         "output_type": "display_data"
        }
       ]
      }
     },
     "8897e2b19769443a8d74f9f07e13d4a9": {
      "model_module": "@jupyter-widgets/controls",
      "model_module_version": "1.0.0",
      "model_name": "HTMLModel",
      "state": {
       "layout": "IPY_MODEL_92032a9c91e24f1994f5ea646849b274",
       "style": "IPY_MODEL_af9899aca407483ab7127d0cbbf6f2a2",
       "value": "<img src=\"Image0.png\" id=\"snapshot_id_1_1535655573897\"/>\n <div id=\"snapshot_id_2_1535655573897\">Image0.png</div>"
      }
     },
     "88cb8430104e42dca65f92d222a3895d": {
      "model_module": "@jupyter-widgets/controls",
      "model_module_version": "1.0.0",
      "model_name": "HTMLModel",
      "state": {
       "layout": "IPY_MODEL_5e345aa13a224a01bb35b56dc81f7dd0",
       "style": "IPY_MODEL_47859a9e273e49ba9bfcce3c6c05de59",
       "value": "<img src=\"Image_source.png\" id=\"snapshot_id_13_1535655592819\"/>\n <div id=\"snapshot_id_14_1535655592819\">Image_source.png</div>"
      }
     },
     "8962f03984fa41c4aac88f07068bc71d": {
      "model_module": "jp_proxy_widget",
      "model_module_version": "^0.3.4",
      "model_name": "JSProxyModel",
      "state": {
       "_model_module_version": "^0.3.4",
       "_send_counter": 6,
       "_view_module_version": "^0.3.4",
       "error_msg": "No error",
       "layout": "IPY_MODEL_39be272625be4bc693751a9186117ee2",
       "rendered": true,
       "status": "Got results."
      }
     },
     "89850c6df32045468413a340c2118f28": {
      "model_module": "@jupyter-widgets/base",
      "model_module_version": "1.0.0",
      "model_name": "LayoutModel",
      "state": {}
     },
     "89da308cb4cf4c5e8968cc716b6a906f": {
      "model_module": "@jupyter-widgets/base",
      "model_module_version": "1.0.0",
      "model_name": "LayoutModel",
      "state": {}
     },
     "8abd7972a0f440bb9a574aa82aef7553": {
      "model_module": "@jupyter-widgets/controls",
      "model_module_version": "1.0.0",
      "model_name": "VBoxModel",
      "state": {
       "children": [
        "IPY_MODEL_52ab653268e742d6b32186fb29801fad",
        "IPY_MODEL_4f81aa2af70a4e968f5a9908ca148527"
       ],
       "layout": "IPY_MODEL_bfca8ed8ae5d4e728412036b410b4be7"
      }
     },
     "8b60ff399ec14fc68fffbcdea53e44e0": {
      "model_module": "@jupyter-widgets/controls",
      "model_module_version": "1.0.0",
      "model_name": "VBoxModel",
      "state": {
       "children": [
        "IPY_MODEL_5f7237a9d663432ea5abf2b9b02c3ae8",
        "IPY_MODEL_baafe7da6f8a42419a47d51fefa87c5c"
       ],
       "layout": "IPY_MODEL_0d34a970535040f184d463b4ad8ed7f0"
      }
     },
     "8bb59d7d1068427aad0efe0541e44567": {
      "model_module": "@jupyter-widgets/controls",
      "model_module_version": "1.0.0",
      "model_name": "DescriptionStyleModel",
      "state": {
       "description_width": ""
      }
     },
     "8bd6c05645964c4c99d6b620798cfcad": {
      "model_module": "@jupyter-widgets/base",
      "model_module_version": "1.0.0",
      "model_name": "LayoutModel",
      "state": {}
     },
     "8c6d6915a5e046ebaa52bd3d15e23e1e": {
      "model_module": "@jupyter-widgets/controls",
      "model_module_version": "1.0.0",
      "model_name": "DescriptionStyleModel",
      "state": {
       "description_width": ""
      }
     },
     "8cd92acdd7c246a8af6ca42f1ec78b1e": {
      "model_module": "@jupyter-widgets/base",
      "model_module_version": "1.0.0",
      "model_name": "LayoutModel",
      "state": {}
     },
     "8d759bd8ea2e409780c48a8964de8975": {
      "model_module": "@jupyter-widgets/controls",
      "model_module_version": "1.0.0",
      "model_name": "VBoxModel",
      "state": {
       "children": [
        "IPY_MODEL_5404fbe8751847f88db57c91fe599446",
        "IPY_MODEL_9c28fa851c3b4a8bbc718f1fc5264e57"
       ],
       "layout": "IPY_MODEL_3158ebdc00cf4cafb72134bdb356c579"
      }
     },
     "8d9829c8efaf4b919407749b773bea73": {
      "model_module": "@jupyter-widgets/base",
      "model_module_version": "1.0.0",
      "model_name": "LayoutModel",
      "state": {}
     },
     "8dd0b84c28614f9ba1792ca96d8d7809": {
      "model_module": "@jupyter-widgets/output",
      "model_module_version": "1.0.0",
      "model_name": "OutputModel",
      "state": {
       "layout": "IPY_MODEL_2a6804f02722431391132ba4bab0e10a",
       "outputs": [
        {
         "name": "stdout",
         "output_type": "stream",
         "text": "debug message area for widget:\n"
        },
        {
         "data": {
          "application/vnd.jupyter.widget-view+json": {
           "model_id": "a67a1b2fc1cb4a41b3451732b0fa6fa9",
           "version_major": 2,
           "version_minor": 0
          },
          "text/html": "<p>Failed to display Jupyter Widget of type <code>VBox</code>.</p>\n<p>\n  If you're reading this message in Jupyter Notebook or JupyterLab, it may mean\n  that the widgets JavaScript is still loading. If this message persists, it\n  likely means that the widgets JavaScript library is either not installed or\n  not enabled. See the <a href=\"https://ipywidgets.readthedocs.io/en/stable/user_install.html\">Jupyter\n  Widgets Documentation</a> for setup instructions.\n</p>\n<p>\n  If you're reading this message in another notebook frontend (for example, a static\n  rendering on GitHub or <a href=\"https://nbviewer.jupyter.org/\">NBViewer</a>),\n  it may mean that your frontend doesn't currently support widgets.\n</p>\n",
          "text/plain": "VBox(children=(SnapshotCanvas(status=u'Not yet rendered'), Text(value=u'Not yet rendered', description=u'status:'), Text(value=u'No error', description=u'error'), Output(layout=Layout(border=u'1px solid black'))))"
         },
         "metadata": {},
         "output_type": "display_data"
        },
        {
         "name": "stdout",
         "output_type": "stream",
         "text": "new error message: Handle callback results: NameError(\"global name 'demo2' is not defined\",)\nnew error message: NameError(\"global name 'demo2' is not defined\",)\n"
        },
        {
         "ename": "NameError",
         "evalue": "global name 'demo2' is not defined",
         "output_type": "error",
         "traceback": [
          "\u001b[0;31m---------------------------------------------------------------------------\u001b[0m",
          "\u001b[0;31mNameError\u001b[0m                                 Traceback (most recent call last)",
          "\u001b[0;32m/Users/awatters/repos/jp_proxy_widget/jp_proxy_widget/proxy_widget.pyc\u001b[0m in \u001b[0;36mhandle_custom_message_wrapper\u001b[0;34m(self, widget, data, *etcetera)\u001b[0m\n\u001b[1;32m    282\u001b[0m         \u001b[0;32mif\u001b[0m \u001b[0moutput\u001b[0m \u001b[0;32mis\u001b[0m \u001b[0;32mnot\u001b[0m \u001b[0mNone\u001b[0m\u001b[0;34m:\u001b[0m\u001b[0;34m\u001b[0m\u001b[0m\n\u001b[1;32m    283\u001b[0m             \u001b[0;32mwith\u001b[0m \u001b[0moutput\u001b[0m\u001b[0;34m:\u001b[0m\u001b[0;34m\u001b[0m\u001b[0m\n\u001b[0;32m--> 284\u001b[0;31m                 \u001b[0mself\u001b[0m\u001b[0;34m.\u001b[0m\u001b[0mhandle_custom_message\u001b[0m\u001b[0;34m(\u001b[0m\u001b[0mwidget\u001b[0m\u001b[0;34m,\u001b[0m \u001b[0mdata\u001b[0m\u001b[0;34m,\u001b[0m \u001b[0;34m*\u001b[0m\u001b[0metcetera\u001b[0m\u001b[0;34m)\u001b[0m\u001b[0;34m\u001b[0m\u001b[0m\n\u001b[0m\u001b[1;32m    285\u001b[0m         \u001b[0;32melse\u001b[0m\u001b[0;34m:\u001b[0m\u001b[0;34m\u001b[0m\u001b[0m\n\u001b[1;32m    286\u001b[0m             \u001b[0mself\u001b[0m\u001b[0;34m.\u001b[0m\u001b[0mhandle_custom_message\u001b[0m\u001b[0;34m(\u001b[0m\u001b[0mwidget\u001b[0m\u001b[0;34m,\u001b[0m \u001b[0mdata\u001b[0m\u001b[0;34m,\u001b[0m \u001b[0;34m*\u001b[0m\u001b[0metcetera\u001b[0m\u001b[0;34m)\u001b[0m\u001b[0;34m\u001b[0m\u001b[0m\n",
          "\u001b[0;32m/Users/awatters/repos/jp_proxy_widget/jp_proxy_widget/proxy_widget.pyc\u001b[0m in \u001b[0;36mhandle_custom_message\u001b[0;34m(self, widget, data, *etcetera)\u001b[0m\n\u001b[1;32m    314\u001b[0m                 \u001b[0mself\u001b[0m\u001b[0;34m.\u001b[0m\u001b[0mstatus\u001b[0m \u001b[0;34m=\u001b[0m \u001b[0;34m\"got callback results\"\u001b[0m\u001b[0;34m\u001b[0m\u001b[0m\n\u001b[1;32m    315\u001b[0m                 \u001b[0mself\u001b[0m\u001b[0;34m.\u001b[0m\u001b[0mlast_callback_results\u001b[0m \u001b[0;34m=\u001b[0m \u001b[0mpayload\u001b[0m\u001b[0;34m\u001b[0m\u001b[0m\n\u001b[0;32m--> 316\u001b[0;31m                 \u001b[0mself\u001b[0m\u001b[0;34m.\u001b[0m\u001b[0mhandle_callback_results\u001b[0m\u001b[0;34m(\u001b[0m\u001b[0mpayload\u001b[0m\u001b[0;34m)\u001b[0m\u001b[0;34m\u001b[0m\u001b[0m\n\u001b[0m\u001b[1;32m    317\u001b[0m             \u001b[0;32melif\u001b[0m \u001b[0mindicator\u001b[0m \u001b[0;34m==\u001b[0m \u001b[0mJSON_CB_FRAGMENT\u001b[0m\u001b[0;34m:\u001b[0m\u001b[0;34m\u001b[0m\u001b[0m\n\u001b[1;32m    318\u001b[0m                 \u001b[0mself\u001b[0m\u001b[0;34m.\u001b[0m\u001b[0mstatus\u001b[0m \u001b[0;34m=\u001b[0m \u001b[0;34m\"got callback fragment\"\u001b[0m\u001b[0;34m\u001b[0m\u001b[0m\n",
          "\u001b[0;32m/Users/awatters/repos/jp_proxy_widget/jp_proxy_widget/proxy_widget.pyc\u001b[0m in \u001b[0;36mhandle_callback_results\u001b[0;34m(self, new)\u001b[0m\n\u001b[1;32m    543\u001b[0m         \u001b[0;32mif\u001b[0m \u001b[0mresults_callback\u001b[0m \u001b[0;32mis\u001b[0m \u001b[0;32mnot\u001b[0m \u001b[0mNone\u001b[0m\u001b[0;34m:\u001b[0m\u001b[0;34m\u001b[0m\u001b[0m\n\u001b[1;32m    544\u001b[0m             \u001b[0;32mtry\u001b[0m\u001b[0;34m:\u001b[0m\u001b[0;34m\u001b[0m\u001b[0m\n\u001b[0;32m--> 545\u001b[0;31m                 \u001b[0mresults_callback\u001b[0m\u001b[0;34m(\u001b[0m\u001b[0mjson_value\u001b[0m\u001b[0;34m,\u001b[0m \u001b[0marguments\u001b[0m\u001b[0;34m)\u001b[0m\u001b[0;34m\u001b[0m\u001b[0m\n\u001b[0m\u001b[1;32m    546\u001b[0m             \u001b[0;32mexcept\u001b[0m \u001b[0mException\u001b[0m \u001b[0;32mas\u001b[0m \u001b[0me\u001b[0m\u001b[0;34m:\u001b[0m\u001b[0;34m\u001b[0m\u001b[0m\n\u001b[1;32m    547\u001b[0m                 \u001b[0;31m#pr (\"handle results callback exception \" +repr(e))\u001b[0m\u001b[0;34m\u001b[0m\u001b[0;34m\u001b[0m\u001b[0m\n",
          "\u001b[0;32m/Users/awatters/repos/jp_proxy_widget/jp_proxy_widget/proxy_widget.pyc\u001b[0m in \u001b[0;36mcallback_function\u001b[0;34m(_data, arguments)\u001b[0m\n\u001b[1;32m    655\u001b[0m                 \u001b[0;32melse\u001b[0m\u001b[0;34m:\u001b[0m\u001b[0;34m\u001b[0m\u001b[0m\n\u001b[1;32m    656\u001b[0m                     \u001b[0;32mbreak\u001b[0m\u001b[0;34m\u001b[0m\u001b[0m\n\u001b[0;32m--> 657\u001b[0;31m             \u001b[0mfunction_or_method\u001b[0m\u001b[0;34m(\u001b[0m\u001b[0;34m*\u001b[0m\u001b[0mpy_arguments\u001b[0m\u001b[0;34m)\u001b[0m\u001b[0;34m\u001b[0m\u001b[0m\n\u001b[0m\u001b[1;32m    658\u001b[0m         \u001b[0;32mreturn\u001b[0m \u001b[0mself\u001b[0m\u001b[0;34m.\u001b[0m\u001b[0mcallback\u001b[0m\u001b[0;34m(\u001b[0m\u001b[0mcallback_function\u001b[0m\u001b[0;34m,\u001b[0m \u001b[0mdata\u001b[0m\u001b[0;34m,\u001b[0m \u001b[0mlevel\u001b[0m\u001b[0;34m,\u001b[0m \u001b[0mdelay\u001b[0m\u001b[0;34m,\u001b[0m \u001b[0msegmented\u001b[0m\u001b[0;34m)\u001b[0m\u001b[0;34m\u001b[0m\u001b[0m\n\u001b[1;32m    659\u001b[0m \u001b[0;34m\u001b[0m\u001b[0m\n",
          "\u001b[0;32m/Users/awatters/repos/jp_doodle/jp_doodle/dual_canvas.py\u001b[0m in \u001b[0;36mconverter_callback\u001b[0;34m(imgData)\u001b[0m\n\u001b[1;32m    240\u001b[0m             \u001b[0mbytes_per_pixel\u001b[0m \u001b[0;34m=\u001b[0m \u001b[0;36m4\u001b[0m\u001b[0;34m\u001b[0m\u001b[0m\n\u001b[1;32m    241\u001b[0m             \u001b[0mimage_array\u001b[0m \u001b[0;34m=\u001b[0m \u001b[0marray1d\u001b[0m\u001b[0;34m.\u001b[0m\u001b[0mreshape\u001b[0m\u001b[0;34m(\u001b[0m\u001b[0;34m(\u001b[0m\u001b[0mheight\u001b[0m\u001b[0;34m,\u001b[0m \u001b[0mwidth\u001b[0m\u001b[0;34m,\u001b[0m \u001b[0mbytes_per_pixel\u001b[0m\u001b[0;34m)\u001b[0m\u001b[0;34m)\u001b[0m\u001b[0;34m\u001b[0m\u001b[0m\n\u001b[0;32m--> 242\u001b[0;31m             \u001b[0mcallback\u001b[0m\u001b[0;34m(\u001b[0m\u001b[0mimage_array\u001b[0m\u001b[0;34m)\u001b[0m\u001b[0;34m\u001b[0m\u001b[0m\n\u001b[0m\u001b[1;32m    243\u001b[0m         self.js_init(\"\"\"\n\u001b[1;32m    244\u001b[0m             \u001b[0mvar\u001b[0m \u001b[0mpixels\u001b[0m \u001b[0;34m=\u001b[0m \u001b[0melement\u001b[0m\u001b[0;34m.\u001b[0m\u001b[0mpixels\u001b[0m\u001b[0;34m(\u001b[0m\u001b[0mx\u001b[0m\u001b[0;34m,\u001b[0m \u001b[0my\u001b[0m\u001b[0;34m,\u001b[0m \u001b[0mw\u001b[0m\u001b[0;34m,\u001b[0m \u001b[0mh\u001b[0m\u001b[0;34m)\u001b[0m\u001b[0;34m;\u001b[0m\u001b[0;34m\u001b[0m\u001b[0m\n",
          "\u001b[0;32m<ipython-input-11-1a7c983ee394>\u001b[0m in \u001b[0;36mprocess_array\u001b[0;34m(self, image_array)\u001b[0m\n\u001b[1;32m     45\u001b[0m         \u001b[0;31m#self.dest_canvas.display_all()\u001b[0m\u001b[0;34m\u001b[0m\u001b[0;34m\u001b[0m\u001b[0m\n\u001b[1;32m     46\u001b[0m         \u001b[0mdisplay\u001b[0m\u001b[0;34m(\u001b[0m\u001b[0mself\u001b[0m\u001b[0;34m.\u001b[0m\u001b[0mdest_canvas\u001b[0m\u001b[0;34m.\u001b[0m\u001b[0mdebugging_display\u001b[0m\u001b[0;34m(\u001b[0m\u001b[0;34m)\u001b[0m\u001b[0;34m)\u001b[0m\u001b[0;34m\u001b[0m\u001b[0m\n\u001b[0;32m---> 47\u001b[0;31m         \u001b[0mdemo2\u001b[0m\u001b[0;34m.\u001b[0m\u001b[0mname_image_array\u001b[0m\u001b[0;34m(\u001b[0m\u001b[0;34m\"processed\"\u001b[0m\u001b[0;34m,\u001b[0m \u001b[0minverted\u001b[0m\u001b[0;34m)\u001b[0m\u001b[0;34m\u001b[0m\u001b[0m\n\u001b[0m\u001b[1;32m     48\u001b[0m         \u001b[0;31m# Draw the image by name.\u001b[0m\u001b[0;34m\u001b[0m\u001b[0;34m\u001b[0m\u001b[0m\n\u001b[1;32m     49\u001b[0m         \u001b[0mdemo2\u001b[0m\u001b[0;34m.\u001b[0m\u001b[0mnamed_image\u001b[0m\u001b[0;34m(\u001b[0m\u001b[0;34m\"processed\"\u001b[0m\u001b[0;34m,\u001b[0m \u001b[0;36m0\u001b[0m\u001b[0;34m,\u001b[0m \u001b[0;36m0\u001b[0m\u001b[0;34m,\u001b[0m \u001b[0;36m320\u001b[0m\u001b[0;34m,\u001b[0m \u001b[0;36m220\u001b[0m\u001b[0;34m)\u001b[0m\u001b[0;34m\u001b[0m\u001b[0m\n",
          "\u001b[0;31mNameError\u001b[0m: global name 'demo2' is not defined"
         ]
        }
       ]
      }
     },
     "8de0061acf38426487271aff531fbec3": {
      "model_module": "@jupyter-widgets/base",
      "model_module_version": "1.0.0",
      "model_name": "LayoutModel",
      "state": {}
     },
     "8de8f1da88b6489a9d30a2ccda7214fc": {
      "model_module": "@jupyter-widgets/controls",
      "model_module_version": "1.0.0",
      "model_name": "DescriptionStyleModel",
      "state": {
       "description_width": ""
      }
     },
     "8df2a488345947eb89031188ef68b8a4": {
      "model_module": "@jupyter-widgets/base",
      "model_module_version": "1.0.0",
      "model_name": "LayoutModel",
      "state": {}
     },
     "8e126e1f20d14e0f926aaf0322ec66d6": {
      "model_module": "@jupyter-widgets/controls",
      "model_module_version": "1.0.0",
      "model_name": "HTMLModel",
      "state": {
       "layout": "IPY_MODEL_2fc6d39b45d34521953769791c40bfe6",
       "style": "IPY_MODEL_ef5badc3ed0c4abda220b8f868d2e45b",
       "value": "<img src=\"Image_source.png\" id=\"snapshot_id_61_1535658009951\"/>\n <div id=\"snapshot_id_62_1535658009951\">Image_source.png</div>"
      }
     },
     "8e4958c95f9941ad97b6084c83b5b5d2": {
      "model_module": "jp_proxy_widget",
      "model_module_version": "^0.3.4",
      "model_name": "JSProxyModel",
      "state": {
       "_model_module_version": "^0.3.4",
       "_send_counter": 9,
       "_view_module_version": "^0.3.4",
       "error_msg": "No error",
       "layout": "IPY_MODEL_06569eb2f59d4de987de4818389c539f",
       "rendered": true,
       "status": "Got results."
      }
     },
     "8eaa5e1c7ff04daa8e612e5bb9941e1a": {
      "model_module": "@jupyter-widgets/controls",
      "model_module_version": "1.0.0",
      "model_name": "DescriptionStyleModel",
      "state": {
       "description_width": ""
      }
     },
     "8eca04daa4e3410f9a659dccc415432f": {
      "model_module": "@jupyter-widgets/base",
      "model_module_version": "1.0.0",
      "model_name": "LayoutModel",
      "state": {}
     },
     "8f4d3422aab04b969711b9877f375bef": {
      "model_module": "@jupyter-widgets/base",
      "model_module_version": "1.0.0",
      "model_name": "LayoutModel",
      "state": {}
     },
     "8f95ea74fe8b4536aca71f1226c4902f": {
      "model_module": "jp_proxy_widget",
      "model_module_version": "^0.3.4",
      "model_name": "JSProxyModel",
      "state": {
       "_model_module_version": "^0.3.4",
       "_send_counter": 8,
       "_view_module_version": "^0.3.4",
       "error_msg": "No error",
       "layout": "IPY_MODEL_b536cac63cb245bcb324dd486de8b804",
       "rendered": true,
       "status": "Got results."
      }
     },
     "8fac199242134448bc3f75ab9b51d00a": {
      "model_module": "jp_proxy_widget",
      "model_module_version": "^0.3.4",
      "model_name": "JSProxyModel",
      "state": {
       "_model_module_version": "^0.3.4",
       "_send_counter": 6,
       "_view_module_version": "^0.3.4",
       "error_msg": "No error",
       "layout": "IPY_MODEL_977c89bc65c5415db663d2669959fdb6",
       "rendered": false,
       "status": "Not yet rendered"
      }
     },
     "90117c09c7b4415d88afcbd680ff2c14": {
      "model_module": "@jupyter-widgets/controls",
      "model_module_version": "1.0.0",
      "model_name": "DescriptionStyleModel",
      "state": {
       "description_width": ""
      }
     },
     "903ec30b24f647b697887f02b3f7cda7": {
      "model_module": "@jupyter-widgets/output",
      "model_module_version": "1.0.0",
      "model_name": "OutputModel",
      "state": {
       "layout": "IPY_MODEL_e798cc3e7c4245d6bf7aa4e940aca648",
       "outputs": [
        {
         "name": "stdout",
         "output_type": "stream",
         "text": "debug message area for widget:\n"
        }
       ]
      }
     },
     "908ab0f9f5524ab3a8a01fe9559ee28c": {
      "model_module": "jp_proxy_widget",
      "model_module_version": "^0.3.4",
      "model_name": "JSProxyModel",
      "state": {
       "_model_module_version": "^0.3.4",
       "_send_counter": 11,
       "_view_module_version": "^0.3.4",
       "error_msg": "No error",
       "layout": "IPY_MODEL_77c26499059e4d0fac31bb02b86a9c80",
       "rendered": true,
       "status": "Got results."
      }
     },
     "90a3059d735e46d394185c325444aaf0": {
      "model_module": "@jupyter-widgets/base",
      "model_module_version": "1.0.0",
      "model_name": "LayoutModel",
      "state": {}
     },
     "9111c3f27c024ce9a4989ccfa24902c7": {
      "model_module": "@jupyter-widgets/base",
      "model_module_version": "1.0.0",
      "model_name": "LayoutModel",
      "state": {
       "border": "1px solid black"
      }
     },
     "91972d9591794d979ee0460ad4ab41dd": {
      "model_module": "@jupyter-widgets/controls",
      "model_module_version": "1.0.0",
      "model_name": "VBoxModel",
      "state": {
       "children": [
        "IPY_MODEL_caf1e2f5f8434371a599ec160a1f6fd9",
        "IPY_MODEL_7fbecf7e77ab41c8b9646e06d9c0d855"
       ],
       "layout": "IPY_MODEL_e3fdd5170510476e818bae5921a478a8"
      }
     },
     "919bef196a04447eb4afc3e32ee9cdde": {
      "model_module": "@jupyter-widgets/base",
      "model_module_version": "1.0.0",
      "model_name": "LayoutModel",
      "state": {}
     },
     "91df74075184476da76aa24dc1f9bf6f": {
      "model_module": "jp_proxy_widget",
      "model_module_version": "^0.3.4",
      "model_name": "JSProxyModel",
      "state": {
       "_model_module_version": "^0.3.4",
       "_send_counter": 11,
       "_view_module_version": "^0.3.4",
       "error_msg": "No error",
       "layout": "IPY_MODEL_183d3f4263cd4be19b16b1632e53ccbc",
       "rendered": true,
       "status": "Got results."
      }
     },
     "92032a9c91e24f1994f5ea646849b274": {
      "model_module": "@jupyter-widgets/base",
      "model_module_version": "1.0.0",
      "model_name": "LayoutModel",
      "state": {}
     },
     "929f30aa2e0948b893468fc71e76d07d": {
      "model_module": "@jupyter-widgets/controls",
      "model_module_version": "1.0.0",
      "model_name": "VBoxModel",
      "state": {
       "children": [
        "IPY_MODEL_024c485d0153420e9246785c0a684430",
        "IPY_MODEL_d63f4524e91a441893f732becefd70fb",
        "IPY_MODEL_ba1206bc2ffe4ef29534b6194799d624",
        "IPY_MODEL_feda2dfb644d47b2aa9cd8435c0984a5"
       ],
       "layout": "IPY_MODEL_1939501d73794e97a6173361002321b7"
      }
     },
     "92c82dd771ef48bb86219739fe0028e9": {
      "model_module": "jp_proxy_widget",
      "model_module_version": "^0.3.4",
      "model_name": "JSProxyModel",
      "state": {
       "_model_module_version": "^0.3.4",
       "_send_counter": 8,
       "_view_module_version": "^0.3.4",
       "error_msg": "No error",
       "layout": "IPY_MODEL_7505aba7bda84b8e8069396eab5b568e",
       "rendered": false,
       "status": "Not yet rendered"
      }
     },
     "9396086380614ff6975b71e91eef0e9d": {
      "model_module": "@jupyter-widgets/base",
      "model_module_version": "1.0.0",
      "model_name": "LayoutModel",
      "state": {
       "border": "1px solid black"
      }
     },
     "93f98528f571467ebb2fcf32f362685a": {
      "model_module": "@jupyter-widgets/controls",
      "model_module_version": "1.0.0",
      "model_name": "DescriptionStyleModel",
      "state": {
       "description_width": ""
      }
     },
     "944c2bd64a464aa09f03c3e5c1dfdc0d": {
      "model_module": "@jupyter-widgets/controls",
      "model_module_version": "1.0.0",
      "model_name": "VBoxModel",
      "state": {
       "children": [
        "IPY_MODEL_5122bd0c7f2e4d6e911b4bccbb928f65",
        "IPY_MODEL_c052229303354edcadef2cf49b8a145c",
        "IPY_MODEL_bdb2afc7a2d343578568f2c63fb9e276",
        "IPY_MODEL_4f69acdaea5245508ac73c4936a6f8f6"
       ],
       "layout": "IPY_MODEL_5a18f67f038c4f3e91786f2202295bf7"
      }
     },
     "9500717c070147f58840ab4666339732": {
      "model_module": "@jupyter-widgets/base",
      "model_module_version": "1.0.0",
      "model_name": "LayoutModel",
      "state": {}
     },
     "95233b89741b464db2706f4e9a7771fb": {
      "model_module": "@jupyter-widgets/base",
      "model_module_version": "1.0.0",
      "model_name": "LayoutModel",
      "state": {}
     },
     "9540de50941a47f5a9dba9e1d19665f9": {
      "model_module": "@jupyter-widgets/controls",
      "model_module_version": "1.0.0",
      "model_name": "HTMLModel",
      "state": {
       "layout": "IPY_MODEL_72f80b06a0a241ae82abbc58bacfc365",
       "style": "IPY_MODEL_bcc4354d5c774d1aa8bf95a8c7ee8636",
       "value": "<img src=\"Image_source.png\" id=\"snapshot_id_17_1535655657791\"/>\n <div id=\"snapshot_id_18_1535655657791\">Image_source.png</div>"
      }
     },
     "955b682621e24bccabcaf6c3a0e2d51e": {
      "model_module": "@jupyter-widgets/base",
      "model_module_version": "1.0.0",
      "model_name": "LayoutModel",
      "state": {}
     },
     "95a6a47c8ec04780befc2bfc82ca42fa": {
      "model_module": "@jupyter-widgets/base",
      "model_module_version": "1.0.0",
      "model_name": "LayoutModel",
      "state": {}
     },
     "95cb04f6c4b04f8190b6f0e226ffc5e3": {
      "model_module": "@jupyter-widgets/controls",
      "model_module_version": "1.0.0",
      "model_name": "DescriptionStyleModel",
      "state": {
       "description_width": ""
      }
     },
     "962eedcc3c994206987c8629759926a8": {
      "model_module": "@jupyter-widgets/base",
      "model_module_version": "1.0.0",
      "model_name": "LayoutModel",
      "state": {}
     },
     "96bfa728790a4ac1bb843d37929c8efa": {
      "model_module": "@jupyter-widgets/base",
      "model_module_version": "1.0.0",
      "model_name": "LayoutModel",
      "state": {}
     },
     "973f901c33ee4b48b6b597a721695f91": {
      "model_module": "@jupyter-widgets/base",
      "model_module_version": "1.0.0",
      "model_name": "LayoutModel",
      "state": {}
     },
     "975d5e46d38f413680ae2f96706d0f4d": {
      "model_module": "@jupyter-widgets/controls",
      "model_module_version": "1.0.0",
      "model_name": "VBoxModel",
      "state": {
       "children": [
        "IPY_MODEL_af2b572e419d41319b9ad04a9cd89b02",
        "IPY_MODEL_1a75f78791584c728a6be380cd21ec4f"
       ],
       "layout": "IPY_MODEL_97f141ae892c40d08ee8b3c3d696f796"
      }
     },
     "977c89bc65c5415db663d2669959fdb6": {
      "model_module": "@jupyter-widgets/base",
      "model_module_version": "1.0.0",
      "model_name": "LayoutModel",
      "state": {}
     },
     "979bb4307609437493c50db8549736c3": {
      "model_module": "@jupyter-widgets/controls",
      "model_module_version": "1.0.0",
      "model_name": "VBoxModel",
      "state": {
       "children": [
        "IPY_MODEL_f005f87d22614f1fb07da98b45a5b29a",
        "IPY_MODEL_b7bb17fd67a54bcead74dc4bd3b518e8",
        "IPY_MODEL_c01624b547474ca4acaad27fdc5d62f2",
        "IPY_MODEL_3a248041d7b2448586fa19034702bb9e"
       ],
       "layout": "IPY_MODEL_5c0f3a1aa51f4c6bac1e4e53a0bae7a8"
      }
     },
     "97b9173218f84244925df624ee2a1c9d": {
      "model_module": "@jupyter-widgets/output",
      "model_module_version": "1.0.0",
      "model_name": "OutputModel",
      "state": {
       "layout": "IPY_MODEL_ccad7650ccae4cb1b7bee51f0d5456bd",
       "outputs": [
        {
         "name": "stdout",
         "output_type": "stream",
         "text": "debug message area for widget:\n"
        },
        {
         "data": {
          "application/vnd.jupyter.widget-view+json": {
           "model_id": "979bb4307609437493c50db8549736c3",
           "version_major": 2,
           "version_minor": 0
          },
          "text/html": "<p>Failed to display Jupyter Widget of type <code>VBox</code>.</p>\n<p>\n  If you're reading this message in Jupyter Notebook or JupyterLab, it may mean\n  that the widgets JavaScript is still loading. If this message persists, it\n  likely means that the widgets JavaScript library is either not installed or\n  not enabled. See the <a href=\"https://ipywidgets.readthedocs.io/en/stable/user_install.html\">Jupyter\n  Widgets Documentation</a> for setup instructions.\n</p>\n<p>\n  If you're reading this message in another notebook frontend (for example, a static\n  rendering on GitHub or <a href=\"https://nbviewer.jupyter.org/\">NBViewer</a>),\n  it may mean that your frontend doesn't currently support widgets.\n</p>\n",
          "text/plain": "VBox(children=(SnapshotCanvas(status=u'Not yet rendered'), Text(value=u'Not yet rendered', description=u'status:'), Text(value=u'No error', description=u'error'), Output(layout=Layout(border=u'1px solid black'))))"
         },
         "metadata": {},
         "output_type": "display_data"
        }
       ]
      }
     },
     "97cb2c51adfa49519a7286fd5186f8d3": {
      "model_module": "@jupyter-widgets/controls",
      "model_module_version": "1.0.0",
      "model_name": "DescriptionStyleModel",
      "state": {
       "description_width": ""
      }
     },
     "97ddbbf400ec44cb8bc99b9f0542517b": {
      "model_module": "@jupyter-widgets/base",
      "model_module_version": "1.0.0",
      "model_name": "LayoutModel",
      "state": {}
     },
     "97f141ae892c40d08ee8b3c3d696f796": {
      "model_module": "@jupyter-widgets/base",
      "model_module_version": "1.0.0",
      "model_name": "LayoutModel",
      "state": {}
     },
     "980f651822c3494c9c51994773f7bf49": {
      "model_module": "@jupyter-widgets/controls",
      "model_module_version": "1.0.0",
      "model_name": "DescriptionStyleModel",
      "state": {
       "description_width": ""
      }
     },
     "982827b0f56e4cda83421a93e2e8a456": {
      "model_module": "@jupyter-widgets/controls",
      "model_module_version": "1.0.0",
      "model_name": "DescriptionStyleModel",
      "state": {
       "description_width": ""
      }
     },
     "982fa6d3a63e4860aece4d94bd81b783": {
      "model_module": "@jupyter-widgets/controls",
      "model_module_version": "1.0.0",
      "model_name": "HTMLModel",
      "state": {
       "layout": "IPY_MODEL_f17ac63a473a4a7986550fc5177fa677",
       "style": "IPY_MODEL_383e0dfa486141a8be9c610cf1c0d00c",
       "value": "<img src=\"Image_source.png\" id=\"snapshot_id_39_1535657269223\"/>\n <div id=\"snapshot_id_40_1535657269223\">Image_source.png</div>"
      }
     },
     "98da326f1fb24740ab166ef3d58fb7b2": {
      "model_module": "@jupyter-widgets/base",
      "model_module_version": "1.0.0",
      "model_name": "LayoutModel",
      "state": {}
     },
     "992f324c79664d1bace2055b8daee64b": {
      "model_module": "@jupyter-widgets/base",
      "model_module_version": "1.0.0",
      "model_name": "LayoutModel",
      "state": {}
     },
     "995f244ce6944b9fa5155c4b70169d98": {
      "model_module": "@jupyter-widgets/controls",
      "model_module_version": "1.0.0",
      "model_name": "TextModel",
      "state": {
       "description": "error",
       "layout": "IPY_MODEL_1bea907e96eb4f99a242d6ec0edb2ea8",
       "style": "IPY_MODEL_4398b489ca2141adab07eade02cad7d5",
       "value": "No error"
      }
     },
     "997f5363795c4eb38722e2e4f050ee6d": {
      "model_module": "@jupyter-widgets/controls",
      "model_module_version": "1.0.0",
      "model_name": "HTMLModel",
      "state": {
       "layout": "IPY_MODEL_89da308cb4cf4c5e8968cc716b6a906f",
       "style": "IPY_MODEL_d3230fdbdd3a43e587c9b2aaec1feda6",
       "value": "<img src=\"Image_source.png\" id=\"snapshot_id_51_1535657560923\"/>\n <div id=\"snapshot_id_52_1535657560923\">Image_source.png</div>"
      }
     },
     "99ac76bfa558468391289a0a8071f552": {
      "model_module": "@jupyter-widgets/base",
      "model_module_version": "1.0.0",
      "model_name": "LayoutModel",
      "state": {}
     },
     "99daf024151d44299977f43187eacc4f": {
      "model_module": "jp_proxy_widget",
      "model_module_version": "^0.3.4",
      "model_name": "JSProxyModel",
      "state": {
       "_model_module_version": "^0.3.4",
       "_send_counter": 10,
       "_view_module_version": "^0.3.4",
       "error_msg": "No error",
       "layout": "IPY_MODEL_c286338112b84e779dc7bcf3daffc5cf",
       "rendered": true,
       "status": "Got results."
      }
     },
     "9a1fe4e04e594ad3ad52b21b4741e6f9": {
      "model_module": "jp_proxy_widget",
      "model_module_version": "^0.3.4",
      "model_name": "JSProxyModel",
      "state": {
       "_model_module_version": "^0.3.4",
       "_send_counter": 6,
       "_view_module_version": "^0.3.4",
       "error_msg": "No error",
       "layout": "IPY_MODEL_ea2f230f8bdc489f8bb4c95d35ab60b9",
       "rendered": true,
       "status": "Got results."
      }
     },
     "9a91f57b9a424b15b59b785b10c7a191": {
      "model_module": "@jupyter-widgets/controls",
      "model_module_version": "1.0.0",
      "model_name": "HTMLModel",
      "state": {
       "layout": "IPY_MODEL_4dff553a093a4940b3ac150cdc0775ac",
       "style": "IPY_MODEL_456ecdcfa4c34d3198f8f40068ffba10",
       "value": "<img src=\"Image_source.png\" id=\"snapshot_id_41_1535655394966\"/>\n <div id=\"snapshot_id_42_1535655394966\">Image_source.png</div>"
      }
     },
     "9b14c234aac24535aec20469e2e68587": {
      "model_module": "jp_proxy_widget",
      "model_module_version": "^0.3.4",
      "model_name": "JSProxyModel",
      "state": {
       "_model_module_version": "^0.3.4",
       "_send_counter": 11,
       "_view_module_version": "^0.3.4",
       "error_msg": "NameError(\"global name 'inverted' is not defined\",)",
       "layout": "IPY_MODEL_196a1a9f477a44839d7916e6cdb8a812",
       "rendered": true,
       "status": "Got results."
      }
     },
     "9b3ded51593b4da6974bcf21de4ddd94": {
      "model_module": "@jupyter-widgets/controls",
      "model_module_version": "1.0.0",
      "model_name": "DescriptionStyleModel",
      "state": {
       "description_width": ""
      }
     },
     "9b7cc4950b004f41b3e978228da74771": {
      "model_module": "@jupyter-widgets/base",
      "model_module_version": "1.0.0",
      "model_name": "LayoutModel",
      "state": {}
     },
     "9bd8ae068e0d44dc9026e9768f5a3db8": {
      "model_module": "@jupyter-widgets/controls",
      "model_module_version": "1.0.0",
      "model_name": "HTMLModel",
      "state": {
       "layout": "IPY_MODEL_eb49842fdc26409f8847ddb5736a878c",
       "style": "IPY_MODEL_37a2790ea65d4166af5bfa1d945d19c2",
       "value": "<img src=\"Image_source.png\" id=\"snapshot_id_27_1535656917817\"/>\n <div id=\"snapshot_id_28_1535656917817\">Image_source.png</div>"
      }
     },
     "9c28fa851c3b4a8bbc718f1fc5264e57": {
      "model_module": "jp_proxy_widget",
      "model_module_version": "^0.3.4",
      "model_name": "JSProxyModel",
      "state": {
       "_model_module_version": "^0.3.4",
       "_send_counter": 2,
       "_view_module_version": "^0.3.4",
       "error_msg": "No error",
       "layout": "IPY_MODEL_5b921588825d46be9c3524789a2f881b",
       "rendered": true,
       "status": "Got results."
      }
     },
     "9c2d569656c84c28b1d537de72f62e22": {
      "model_module": "@jupyter-widgets/controls",
      "model_module_version": "1.0.0",
      "model_name": "TextModel",
      "state": {
       "description": "error",
       "layout": "IPY_MODEL_d7e3f80c0c114fc3a619510a71ba8445",
       "style": "IPY_MODEL_19f49e9c64e24d6e8ed31cf748ae1f14",
       "value": "No error"
      }
     },
     "9c90fef4de7f49c39a78c949e56202c5": {
      "model_module": "@jupyter-widgets/controls",
      "model_module_version": "1.0.0",
      "model_name": "VBoxModel",
      "state": {
       "children": [
        "IPY_MODEL_1673a05b0b6642cab9b0804def406600",
        "IPY_MODEL_664d9641f8cd478ca951455552af0de0"
       ],
       "layout": "IPY_MODEL_a04c67df408f4e13b0a6417e7b6e2c47"
      }
     },
     "9d65f5f35c5a4f1a86024cccf1c9b3b0": {
      "model_module": "@jupyter-widgets/controls",
      "model_module_version": "1.0.0",
      "model_name": "TextModel",
      "state": {
       "description": "status:",
       "layout": "IPY_MODEL_9e14ae973d704a80a045f2f54180faf1",
       "style": "IPY_MODEL_38b6926ec66648ef977429c27f416186",
       "value": "Got results."
      }
     },
     "9d9283c3108343b29456043225a380f7": {
      "model_module": "@jupyter-widgets/base",
      "model_module_version": "1.0.0",
      "model_name": "LayoutModel",
      "state": {}
     },
     "9d9f75cd3e9144cd90877ad7cae7d729": {
      "model_module": "@jupyter-widgets/base",
      "model_module_version": "1.0.0",
      "model_name": "LayoutModel",
      "state": {}
     },
     "9dcea13cc8004a949d7653eac0103921": {
      "model_module": "@jupyter-widgets/controls",
      "model_module_version": "1.0.0",
      "model_name": "HTMLModel",
      "state": {
       "layout": "IPY_MODEL_f878b0894b454170b22668f572c340eb",
       "style": "IPY_MODEL_1f3c7d84323946a0ae11a854e1fd4513",
       "value": "<img src=\"Image_source.png\" id=\"snapshot_id_35_1535657242089\"/>\n <div id=\"snapshot_id_36_1535657242089\">Image_source.png</div>"
      }
     },
     "9e14ae973d704a80a045f2f54180faf1": {
      "model_module": "@jupyter-widgets/base",
      "model_module_version": "1.0.0",
      "model_name": "LayoutModel",
      "state": {}
     },
     "9e21a85879de413eaa14f39ba6051e11": {
      "model_module": "@jupyter-widgets/base",
      "model_module_version": "1.0.0",
      "model_name": "LayoutModel",
      "state": {}
     },
     "9e37e02843e54d2ab377bfa7c9677397": {
      "model_module": "@jupyter-widgets/base",
      "model_module_version": "1.0.0",
      "model_name": "LayoutModel",
      "state": {}
     },
     "9e48cc0a15fd458fa66481ee136a1fae": {
      "model_module": "@jupyter-widgets/controls",
      "model_module_version": "1.0.0",
      "model_name": "DescriptionStyleModel",
      "state": {
       "description_width": ""
      }
     },
     "9eac9bcc1b3748d2bc1178a56a5cd038": {
      "model_module": "@jupyter-widgets/controls",
      "model_module_version": "1.0.0",
      "model_name": "HTMLModel",
      "state": {
       "layout": "IPY_MODEL_919bef196a04447eb4afc3e32ee9cdde",
       "style": "IPY_MODEL_0110b7ce1c8d4387b5e1c00706619c56",
       "value": "<img src=\"Image_source.png\" id=\"snapshot_id_37_1535655366761\"/>\n <div id=\"snapshot_id_38_1535655366761\">Image_source.png</div>"
      }
     },
     "9ec88c4dd1b34b81965556523651c186": {
      "model_module": "@jupyter-widgets/base",
      "model_module_version": "1.0.0",
      "model_name": "LayoutModel",
      "state": {}
     },
     "9f19c7cf6c824eb7bc23fac45714dfac": {
      "model_module": "@jupyter-widgets/controls",
      "model_module_version": "1.0.0",
      "model_name": "TextModel",
      "state": {
       "description": "status:",
       "layout": "IPY_MODEL_5506f489d45e47c3b3ff90c36ae9e94c",
       "style": "IPY_MODEL_247bfa47a39c4d93ac6b419806d75b7c",
       "value": "Got results."
      }
     },
     "9f5513efe5fd407594721510c6df7179": {
      "model_module": "@jupyter-widgets/base",
      "model_module_version": "1.0.0",
      "model_name": "LayoutModel",
      "state": {}
     },
     "9fa62013c9f949e79977223d99d587f9": {
      "model_module": "@jupyter-widgets/base",
      "model_module_version": "1.0.0",
      "model_name": "LayoutModel",
      "state": {}
     },
     "a034bed383e94a078d07cf184b4ca4e2": {
      "model_module": "@jupyter-widgets/base",
      "model_module_version": "1.0.0",
      "model_name": "LayoutModel",
      "state": {}
     },
     "a04c67df408f4e13b0a6417e7b6e2c47": {
      "model_module": "@jupyter-widgets/base",
      "model_module_version": "1.0.0",
      "model_name": "LayoutModel",
      "state": {}
     },
     "a0682f1ff0e34a0ca0b444386ed744c7": {
      "model_module": "@jupyter-widgets/base",
      "model_module_version": "1.0.0",
      "model_name": "LayoutModel",
      "state": {}
     },
     "a068f3a358544b67abe98e1916934038": {
      "model_module": "@jupyter-widgets/controls",
      "model_module_version": "1.0.0",
      "model_name": "HTMLModel",
      "state": {
       "layout": "IPY_MODEL_4977b804cf4e4b65b55692f40a115486",
       "style": "IPY_MODEL_2ad12e463c12447dbe690713cc0ff652",
       "value": "<img src=\"Image_source.png\" id=\"snapshot_id_35_1535655366717\"/>\n <div id=\"snapshot_id_36_1535655366717\">Image_source.png</div>"
      }
     },
     "a0ed6642bc6d4090b9bb77a504b298d1": {
      "model_module": "@jupyter-widgets/controls",
      "model_module_version": "1.0.0",
      "model_name": "HTMLModel",
      "state": {
       "layout": "IPY_MODEL_bb11d6affa19410db95aabef153c20b7",
       "style": "IPY_MODEL_160d3d1a611c438e9baf73fef451c733",
       "value": "<img src=\"Image_source.png\" id=\"snapshot_id_31_1535657096180\"/>\n <div id=\"snapshot_id_32_1535657096180\">Image_source.png</div>"
      }
     },
     "a10db383099e47fba50cec213f7fc71d": {
      "model_module": "@jupyter-widgets/controls",
      "model_module_version": "1.0.0",
      "model_name": "TextModel",
      "state": {
       "description": "status:",
       "layout": "IPY_MODEL_77a4ecea27cc402b9073311006fb33f6",
       "style": "IPY_MODEL_bd0a6d5337794333be46b85fe6d50e90",
       "value": "Got results."
      }
     },
     "a1276234c64a4d44b60ff1be7da61572": {
      "model_module": "@jupyter-widgets/base",
      "model_module_version": "1.0.0",
      "model_name": "LayoutModel",
      "state": {}
     },
     "a17f9f61a3cd4d23bce399155e02e992": {
      "model_module": "@jupyter-widgets/controls",
      "model_module_version": "1.0.0",
      "model_name": "VBoxModel",
      "state": {
       "children": [
        "IPY_MODEL_908ab0f9f5524ab3a8a01fe9559ee28c",
        "IPY_MODEL_36269e184c21434e9e735a6ef29cfc48",
        "IPY_MODEL_3121d957a630492fb7c788573b03c211",
        "IPY_MODEL_884c29d84fe24a1d90b671a23f303da3"
       ],
       "layout": "IPY_MODEL_39c68aa7700449c18943ced5d54dcb5b"
      }
     },
     "a1895384410746dfb4b041a262dd2e10": {
      "model_module": "@jupyter-widgets/base",
      "model_module_version": "1.0.0",
      "model_name": "LayoutModel",
      "state": {}
     },
     "a18ebba0efe24192a61590149f7253cf": {
      "model_module": "@jupyter-widgets/controls",
      "model_module_version": "1.0.0",
      "model_name": "HTMLModel",
      "state": {
       "layout": "IPY_MODEL_382900e6d61d4125b35016cd18ef844f",
       "style": "IPY_MODEL_be6626f99c2c4230b3bae929aead1742",
       "value": "<img src=\"Image_source.png\" id=\"snapshot_id_49_1535655547759\"/>\n <div id=\"snapshot_id_50_1535655547759\">Image_source.png</div>"
      }
     },
     "a1ae0b480d6f4c8f842976697d9cbbb2": {
      "model_module": "@jupyter-widgets/controls",
      "model_module_version": "1.0.0",
      "model_name": "HTMLModel",
      "state": {
       "layout": "IPY_MODEL_f2e02a4ce3964084af59c6c621d93e10",
       "style": "IPY_MODEL_aefebd148d754160ab33fc90c25e1240",
       "value": "<img src=\"Image4.png\" id=\"snapshot_id_7_1535655584499\"/>\n <div id=\"snapshot_id_8_1535655584499\">Image4.png</div>"
      }
     },
     "a1ba8efa03ab40699f4da4f1ef298354": {
      "model_module": "@jupyter-widgets/base",
      "model_module_version": "1.0.0",
      "model_name": "LayoutModel",
      "state": {}
     },
     "a2125eef1fa94f22bddbb11f7ef7d1fa": {
      "model_module": "jp_proxy_widget",
      "model_module_version": "^0.3.4",
      "model_name": "JSProxyModel",
      "state": {
       "_model_module_version": "^0.3.4",
       "_send_counter": 2,
       "_view_module_version": "^0.3.4",
       "error_msg": "No error",
       "layout": "IPY_MODEL_e12a1a93869d413594a488352d12c8bb",
       "rendered": true,
       "status": "Got results."
      }
     },
     "a40f6f5cc9514c7bafddf14eeed0ee2f": {
      "model_module": "@jupyter-widgets/controls",
      "model_module_version": "1.0.0",
      "model_name": "VBoxModel",
      "state": {
       "children": [
        "IPY_MODEL_df0c8a53de5d44428a808bcb52983a8c",
        "IPY_MODEL_24d0b0b3695944f284430e052d923c82",
        "IPY_MODEL_c098eb2bbefc4652a6d8d2548a4855bd",
        "IPY_MODEL_26601760d38c40479398fade68d800b5"
       ],
       "layout": "IPY_MODEL_0baf6aa3ea964903b454dc750ca8177b"
      }
     },
     "a42c9f8bc5d147ca8aa457a7dbc5db94": {
      "model_module": "@jupyter-widgets/base",
      "model_module_version": "1.0.0",
      "model_name": "LayoutModel",
      "state": {}
     },
     "a435cbd0d6dc4bfcb7264e75a13b6c89": {
      "model_module": "@jupyter-widgets/controls",
      "model_module_version": "1.0.0",
      "model_name": "HTMLModel",
      "state": {
       "layout": "IPY_MODEL_532f1c4fdbf84636a19d93336ae0a9a9",
       "style": "IPY_MODEL_4562b40a9e084d40bfc1d12c82f54659",
       "value": "<img src=\"Image_processed.png\" id=\"snapshot_id_11_1535658716551\"/>\n <div id=\"snapshot_id_12_1535658716551\">Image_processed.png</div>"
      }
     },
     "a46fb87637ff457bba50e2c96441e6f4": {
      "model_module": "@jupyter-widgets/controls",
      "model_module_version": "1.0.0",
      "model_name": "HTMLModel",
      "state": {
       "layout": "IPY_MODEL_802a796f2c9147ea8e5b13d8e8959ae2",
       "style": "IPY_MODEL_55e8151e3f5f4c538d5bbc9f8cdccddc",
       "value": "<img src=\"Image3.png\" id=\"snapshot_id_5_1535655583695\"/>\n <div id=\"snapshot_id_6_1535655583695\">Image3.png</div>"
      }
     },
     "a4b4c9cf0e1a4e949eef803a992371fd": {
      "model_module": "@jupyter-widgets/output",
      "model_module_version": "1.0.0",
      "model_name": "OutputModel",
      "state": {
       "layout": "IPY_MODEL_7bb5ef4005f14b8bb3407c99230c00bc",
       "outputs": [
        {
         "name": "stdout",
         "output_type": "stream",
         "text": "debug message area for widget:\n"
        }
       ]
      }
     },
     "a4db1b83e9f54df7b8bc2ba772c0042d": {
      "model_module": "@jupyter-widgets/controls",
      "model_module_version": "1.0.0",
      "model_name": "DescriptionStyleModel",
      "state": {
       "description_width": ""
      }
     },
     "a4fb27c9a1534703a12b61c6fa7710dd": {
      "model_module": "@jupyter-widgets/base",
      "model_module_version": "1.0.0",
      "model_name": "LayoutModel",
      "state": {}
     },
     "a529e26c389a481f90d51150ea2d2d8d": {
      "model_module": "@jupyter-widgets/base",
      "model_module_version": "1.0.0",
      "model_name": "LayoutModel",
      "state": {}
     },
     "a52b57fd1a9841bbb6ca401284fe522f": {
      "model_module": "@jupyter-widgets/base",
      "model_module_version": "1.0.0",
      "model_name": "LayoutModel",
      "state": {}
     },
     "a52c372d5ba247c0a8cafa4dbcc59cd5": {
      "model_module": "jp_proxy_widget",
      "model_module_version": "^0.3.3",
      "model_name": "JSProxyModel",
      "state": {
       "_model_module_version": "^0.3.3",
       "_send_counter": 2,
       "_view_module_version": "^0.3.3",
       "error_msg": "No error",
       "layout": "IPY_MODEL_67af15fea44047d9bed1b6ce49f8d915",
       "rendered": true,
       "status": "call back to <function callback_function at 0x10df1e848>"
      }
     },
     "a5f847cedb5e421c9b9aeacd688f08c0": {
      "model_module": "@jupyter-widgets/base",
      "model_module_version": "1.0.0",
      "model_name": "LayoutModel",
      "state": {}
     },
     "a6211ed52ef64b5b851f1bf67b723887": {
      "model_module": "@jupyter-widgets/base",
      "model_module_version": "1.0.0",
      "model_name": "LayoutModel",
      "state": {
       "border": "1px solid black"
      }
     },
     "a649b88926844d8e8a3ef0326b44d352": {
      "model_module": "@jupyter-widgets/controls",
      "model_module_version": "1.0.0",
      "model_name": "TextModel",
      "state": {
       "description": "status:",
       "layout": "IPY_MODEL_cc4fa2bc9a1341578ea4fb303df9fb54",
       "style": "IPY_MODEL_dbc9a5b4e93f498482fe2d748a388184",
       "value": "Got results."
      }
     },
     "a67a1b2fc1cb4a41b3451732b0fa6fa9": {
      "model_module": "@jupyter-widgets/controls",
      "model_module_version": "1.0.0",
      "model_name": "VBoxModel",
      "state": {
       "children": [
        "IPY_MODEL_87ae790daf014bf69128ccda5442fbd0",
        "IPY_MODEL_b171390a12064a47a00b7e2ea30d3014",
        "IPY_MODEL_e1d12bc553064516b6ede7f53e8ca859",
        "IPY_MODEL_d03ba6ff100744988da6e5cd7e6068bb"
       ],
       "layout": "IPY_MODEL_8bd6c05645964c4c99d6b620798cfcad"
      }
     },
     "a6b2cae3b3174481a4f5795f419cd0bb": {
      "model_module": "@jupyter-widgets/controls",
      "model_module_version": "1.0.0",
      "model_name": "TextModel",
      "state": {
       "description": "status:",
       "layout": "IPY_MODEL_78e8f506ba014b1eb2351cfe79589670",
       "style": "IPY_MODEL_295229317c554ffdab1e6493fd5a763c",
       "value": "Got results."
      }
     },
     "a71d56c60c3a47868e6fd1c82a59ee92": {
      "model_module": "@jupyter-widgets/controls",
      "model_module_version": "1.0.0",
      "model_name": "VBoxModel",
      "state": {
       "children": [
        "IPY_MODEL_d673b7a1b8db4ff29c20c6f605721043",
        "IPY_MODEL_7ff4c1de0ec14756a86c184ee6dabdef"
       ],
       "layout": "IPY_MODEL_38490c0e03e64afe9532ab1ad595c076"
      }
     },
     "a8459a6d0d0741dc8f99f186a77d6e2e": {
      "model_module": "jp_proxy_widget",
      "model_module_version": "^0.3.4",
      "model_name": "JSProxyModel",
      "state": {
       "_model_module_version": "^0.3.4",
       "_send_counter": 9,
       "_view_module_version": "^0.3.4",
       "error_msg": "No error",
       "layout": "IPY_MODEL_58b9246c2fda4836b78a4bf31d20f2f5",
       "rendered": true,
       "status": "Got results."
      }
     },
     "a856da3a5c074e68877b4fc6b9fbb233": {
      "model_module": "@jupyter-widgets/controls",
      "model_module_version": "1.0.0",
      "model_name": "TabModel",
      "state": {
       "_titles": {
        "0": "Canvas",
        "1": "Snapshot"
       },
       "children": [
        "IPY_MODEL_74b38f44e2b142bfbcc54c74feeea767",
        "IPY_MODEL_a1ae0b480d6f4c8f842976697d9cbbb2"
       ],
       "layout": "IPY_MODEL_e2bca77cebd74c7e933256665f152147",
       "selected_index": 1
      }
     },
     "a94b573425244b0bb61350fd200a74e7": {
      "model_module": "@jupyter-widgets/base",
      "model_module_version": "1.0.0",
      "model_name": "LayoutModel",
      "state": {}
     },
     "a959819821564c408266f6da9355a7d4": {
      "model_module": "jp_proxy_widget",
      "model_module_version": "^0.3.4",
      "model_name": "JSProxyModel",
      "state": {
       "_model_module_version": "^0.3.4",
       "_send_counter": 9,
       "_view_module_version": "^0.3.4",
       "error_msg": "No error",
       "layout": "IPY_MODEL_2f817c2b0e494b91905caa2e9659f3f4",
       "rendered": true,
       "status": "Got results."
      }
     },
     "a9ec2e0d8bcf4ec68f699c6050248280": {
      "model_module": "@jupyter-widgets/base",
      "model_module_version": "1.0.0",
      "model_name": "LayoutModel",
      "state": {}
     },
     "a9f3571dd12c4fcb9d7fcb2fd586a949": {
      "model_module": "@jupyter-widgets/base",
      "model_module_version": "1.0.0",
      "model_name": "LayoutModel",
      "state": {}
     },
     "a9f438e12bd9439ba4d289a6c1091b5e": {
      "model_module": "@jupyter-widgets/base",
      "model_module_version": "1.0.0",
      "model_name": "LayoutModel",
      "state": {}
     },
     "aa0358ec948541749d453cdfa0d34040": {
      "model_module": "@jupyter-widgets/base",
      "model_module_version": "1.0.0",
      "model_name": "LayoutModel",
      "state": {}
     },
     "aa0b19eced87474982c426456996388d": {
      "model_module": "@jupyter-widgets/base",
      "model_module_version": "1.0.0",
      "model_name": "LayoutModel",
      "state": {}
     },
     "aa4c7f6b51824af3af9b574c0e0a9878": {
      "model_module": "@jupyter-widgets/base",
      "model_module_version": "1.0.0",
      "model_name": "LayoutModel",
      "state": {}
     },
     "aa62fe0ac3d041db9a8d408b9bae2cb8": {
      "model_module": "@jupyter-widgets/base",
      "model_module_version": "1.0.0",
      "model_name": "LayoutModel",
      "state": {}
     },
     "aa7d3eabf7db42159513407f28ba4923": {
      "model_module": "@jupyter-widgets/controls",
      "model_module_version": "1.0.0",
      "model_name": "VBoxModel",
      "state": {
       "children": [
        "IPY_MODEL_043ba9f479464a5dac477a2fa6c3f23f",
        "IPY_MODEL_fc7cd058cf0344999fd94abcda50fd8c",
        "IPY_MODEL_7d30015625bd45be889c78e402e4ed03",
        "IPY_MODEL_db98db99310c46fcaa397853d953a5ff"
       ],
       "layout": "IPY_MODEL_8eca04daa4e3410f9a659dccc415432f"
      }
     },
     "aacb3b9876a843d59b98d60f1b2b9bd2": {
      "model_module": "@jupyter-widgets/controls",
      "model_module_version": "1.0.0",
      "model_name": "DescriptionStyleModel",
      "state": {
       "description_width": ""
      }
     },
     "aad4a8a4e8554cd2b88fa3868cc4bed2": {
      "model_module": "@jupyter-widgets/base",
      "model_module_version": "1.0.0",
      "model_name": "LayoutModel",
      "state": {}
     },
     "aaf003e0e0ef428a8ae4b453c997bef9": {
      "model_module": "@jupyter-widgets/base",
      "model_module_version": "1.0.0",
      "model_name": "LayoutModel",
      "state": {}
     },
     "ab3a317efaa640eabc3ffa2eb4d62bdc": {
      "model_module": "@jupyter-widgets/controls",
      "model_module_version": "1.0.0",
      "model_name": "DescriptionStyleModel",
      "state": {
       "description_width": ""
      }
     },
     "aba1aea9ecc24e3eb1670de8b4cdfb15": {
      "model_module": "@jupyter-widgets/controls",
      "model_module_version": "1.0.0",
      "model_name": "DescriptionStyleModel",
      "state": {
       "description_width": ""
      }
     },
     "abd5d8e4f3c24c9a9a82fc3b550de12b": {
      "model_module": "@jupyter-widgets/base",
      "model_module_version": "1.0.0",
      "model_name": "LayoutModel",
      "state": {}
     },
     "abe19964e5e440e69540b5b5b9837fd1": {
      "model_module": "@jupyter-widgets/base",
      "model_module_version": "1.0.0",
      "model_name": "LayoutModel",
      "state": {}
     },
     "abe6abc4f5d14b5eb4acef5b623e2dec": {
      "model_module": "@jupyter-widgets/controls",
      "model_module_version": "1.0.0",
      "model_name": "TextModel",
      "state": {
       "description": "status:",
       "layout": "IPY_MODEL_379f439699a14a44bdffddc77b315797",
       "style": "IPY_MODEL_52901e83d48d475cb4492e2527565a1b",
       "value": "Not yet rendered"
      }
     },
     "abfa8525fc1d493b9b79a4e08920c6dd": {
      "model_module": "@jupyter-widgets/base",
      "model_module_version": "1.0.0",
      "model_name": "LayoutModel",
      "state": {}
     },
     "ac0d2019f7944b1e9e8f1bea3b132e2a": {
      "model_module": "@jupyter-widgets/controls",
      "model_module_version": "1.0.0",
      "model_name": "HTMLModel",
      "state": {
       "layout": "IPY_MODEL_2e8e5bb9ff744c60b912a68f1e0ff47a",
       "style": "IPY_MODEL_4451f1c22eb54dbfa090e94ef3004366",
       "value": "<img src=\"Image_source.png\" id=\"snapshot_id_19_1535655658000\"/>\n <div id=\"snapshot_id_20_1535655658000\">Image_source.png</div>"
      }
     },
     "ac4f6b16469f4416bad280b16e7d5295": {
      "model_module": "@jupyter-widgets/base",
      "model_module_version": "1.0.0",
      "model_name": "LayoutModel",
      "state": {}
     },
     "acb03afda4f1471e80fb8735a58046d8": {
      "model_module": "@jupyter-widgets/base",
      "model_module_version": "1.0.0",
      "model_name": "LayoutModel",
      "state": {}
     },
     "ad9c712a30b4494c992199764e4b8e76": {
      "model_module": "@jupyter-widgets/controls",
      "model_module_version": "1.0.0",
      "model_name": "DescriptionStyleModel",
      "state": {
       "description_width": ""
      }
     },
     "ada584dd6aee45a38625c8df55a9ea95": {
      "model_module": "@jupyter-widgets/controls",
      "model_module_version": "1.0.0",
      "model_name": "VBoxModel",
      "state": {
       "children": [
        "IPY_MODEL_0f577e94ab604b2487319e1c02481053",
        "IPY_MODEL_0688408a85fd4c79bd9ce7297abd6c0f",
        "IPY_MODEL_d5b6e6a410bf43d8af21c1baca1ec659",
        "IPY_MODEL_3790a68bd7d34b90b86a54ebfb9b69f0"
       ],
       "layout": "IPY_MODEL_aa0b19eced87474982c426456996388d"
      }
     },
     "adbfba2f4565466984102e529a43d37c": {
      "model_module": "@jupyter-widgets/controls",
      "model_module_version": "1.0.0",
      "model_name": "DescriptionStyleModel",
      "state": {
       "description_width": ""
      }
     },
     "ae29d7dd78bd4fe7a62ae53f236819d8": {
      "model_module": "@jupyter-widgets/controls",
      "model_module_version": "1.0.0",
      "model_name": "DescriptionStyleModel",
      "state": {
       "description_width": ""
      }
     },
     "ae2bc38d747c49288b9936fabe5548db": {
      "model_module": "@jupyter-widgets/base",
      "model_module_version": "1.0.0",
      "model_name": "LayoutModel",
      "state": {}
     },
     "aefebd148d754160ab33fc90c25e1240": {
      "model_module": "@jupyter-widgets/controls",
      "model_module_version": "1.0.0",
      "model_name": "DescriptionStyleModel",
      "state": {
       "description_width": ""
      }
     },
     "af2b572e419d41319b9ad04a9cd89b02": {
      "model_module": "jp_proxy_widget",
      "model_module_version": "^0.3.4",
      "model_name": "JSProxyModel",
      "state": {
       "_model_module_version": "^0.3.4",
       "_send_counter": 8,
       "_view_module_version": "^0.3.4",
       "error_msg": "No error",
       "layout": "IPY_MODEL_025c784deb9947d18401daf7c400b859",
       "rendered": true,
       "status": "Got results."
      }
     },
     "af4f2b8c2c5140ce94d59f20110077f7": {
      "model_module": "@jupyter-widgets/output",
      "model_module_version": "1.0.0",
      "model_name": "OutputModel",
      "state": {
       "layout": "IPY_MODEL_6fe21425d8744029821a6a92eadb33c9",
       "outputs": [
        {
         "name": "stdout",
         "output_type": "stream",
         "text": "debug message area for widget:\n"
        },
        {
         "data": {
          "application/vnd.jupyter.widget-view+json": {
           "model_id": "06d3397ff05c4496ba78c132f3415d8b",
           "version_major": 2,
           "version_minor": 0
          },
          "text/html": "<p>Failed to display Jupyter Widget of type <code>VBox</code>.</p>\n<p>\n  If you're reading this message in Jupyter Notebook or JupyterLab, it may mean\n  that the widgets JavaScript is still loading. If this message persists, it\n  likely means that the widgets JavaScript library is either not installed or\n  not enabled. See the <a href=\"https://ipywidgets.readthedocs.io/en/stable/user_install.html\">Jupyter\n  Widgets Documentation</a> for setup instructions.\n</p>\n<p>\n  If you're reading this message in another notebook frontend (for example, a static\n  rendering on GitHub or <a href=\"https://nbviewer.jupyter.org/\">NBViewer</a>),\n  it may mean that your frontend doesn't currently support widgets.\n</p>\n",
          "text/plain": "VBox(children=(SnapshotCanvas(status=u'Not yet rendered'), Text(value=u'Not yet rendered', description=u'status:'), Text(value=u'No error', description=u'error'), Output(layout=Layout(border=u'1px solid black'))))"
         },
         "metadata": {},
         "output_type": "display_data"
        },
        {
         "name": "stdout",
         "output_type": "stream",
         "text": "new error message: Handle callback results: NameError(\"global name 'inverted' is not defined\",)\nnew error message: NameError(\"global name 'inverted' is not defined\",)\n"
        },
        {
         "ename": "NameError",
         "evalue": "global name 'inverted' is not defined",
         "output_type": "error",
         "traceback": [
          "\u001b[0;31m---------------------------------------------------------------------------\u001b[0m",
          "\u001b[0;31mNameError\u001b[0m                                 Traceback (most recent call last)",
          "\u001b[0;32m/Users/awatters/repos/jp_proxy_widget/jp_proxy_widget/proxy_widget.pyc\u001b[0m in \u001b[0;36mhandle_custom_message_wrapper\u001b[0;34m(self, widget, data, *etcetera)\u001b[0m\n\u001b[1;32m    282\u001b[0m         \u001b[0;32mif\u001b[0m \u001b[0moutput\u001b[0m \u001b[0;32mis\u001b[0m \u001b[0;32mnot\u001b[0m \u001b[0mNone\u001b[0m\u001b[0;34m:\u001b[0m\u001b[0;34m\u001b[0m\u001b[0m\n\u001b[1;32m    283\u001b[0m             \u001b[0;32mwith\u001b[0m \u001b[0moutput\u001b[0m\u001b[0;34m:\u001b[0m\u001b[0;34m\u001b[0m\u001b[0m\n\u001b[0;32m--> 284\u001b[0;31m                 \u001b[0mself\u001b[0m\u001b[0;34m.\u001b[0m\u001b[0mhandle_custom_message\u001b[0m\u001b[0;34m(\u001b[0m\u001b[0mwidget\u001b[0m\u001b[0;34m,\u001b[0m \u001b[0mdata\u001b[0m\u001b[0;34m,\u001b[0m \u001b[0;34m*\u001b[0m\u001b[0metcetera\u001b[0m\u001b[0;34m)\u001b[0m\u001b[0;34m\u001b[0m\u001b[0m\n\u001b[0m\u001b[1;32m    285\u001b[0m         \u001b[0;32melse\u001b[0m\u001b[0;34m:\u001b[0m\u001b[0;34m\u001b[0m\u001b[0m\n\u001b[1;32m    286\u001b[0m             \u001b[0mself\u001b[0m\u001b[0;34m.\u001b[0m\u001b[0mhandle_custom_message\u001b[0m\u001b[0;34m(\u001b[0m\u001b[0mwidget\u001b[0m\u001b[0;34m,\u001b[0m \u001b[0mdata\u001b[0m\u001b[0;34m,\u001b[0m \u001b[0;34m*\u001b[0m\u001b[0metcetera\u001b[0m\u001b[0;34m)\u001b[0m\u001b[0;34m\u001b[0m\u001b[0m\n",
          "\u001b[0;32m/Users/awatters/repos/jp_proxy_widget/jp_proxy_widget/proxy_widget.pyc\u001b[0m in \u001b[0;36mhandle_custom_message\u001b[0;34m(self, widget, data, *etcetera)\u001b[0m\n\u001b[1;32m    314\u001b[0m                 \u001b[0mself\u001b[0m\u001b[0;34m.\u001b[0m\u001b[0mstatus\u001b[0m \u001b[0;34m=\u001b[0m \u001b[0;34m\"got callback results\"\u001b[0m\u001b[0;34m\u001b[0m\u001b[0m\n\u001b[1;32m    315\u001b[0m                 \u001b[0mself\u001b[0m\u001b[0;34m.\u001b[0m\u001b[0mlast_callback_results\u001b[0m \u001b[0;34m=\u001b[0m \u001b[0mpayload\u001b[0m\u001b[0;34m\u001b[0m\u001b[0m\n\u001b[0;32m--> 316\u001b[0;31m                 \u001b[0mself\u001b[0m\u001b[0;34m.\u001b[0m\u001b[0mhandle_callback_results\u001b[0m\u001b[0;34m(\u001b[0m\u001b[0mpayload\u001b[0m\u001b[0;34m)\u001b[0m\u001b[0;34m\u001b[0m\u001b[0m\n\u001b[0m\u001b[1;32m    317\u001b[0m             \u001b[0;32melif\u001b[0m \u001b[0mindicator\u001b[0m \u001b[0;34m==\u001b[0m \u001b[0mJSON_CB_FRAGMENT\u001b[0m\u001b[0;34m:\u001b[0m\u001b[0;34m\u001b[0m\u001b[0m\n\u001b[1;32m    318\u001b[0m                 \u001b[0mself\u001b[0m\u001b[0;34m.\u001b[0m\u001b[0mstatus\u001b[0m \u001b[0;34m=\u001b[0m \u001b[0;34m\"got callback fragment\"\u001b[0m\u001b[0;34m\u001b[0m\u001b[0m\n",
          "\u001b[0;32m/Users/awatters/repos/jp_proxy_widget/jp_proxy_widget/proxy_widget.pyc\u001b[0m in \u001b[0;36mhandle_callback_results\u001b[0;34m(self, new)\u001b[0m\n\u001b[1;32m    543\u001b[0m         \u001b[0;32mif\u001b[0m \u001b[0mresults_callback\u001b[0m \u001b[0;32mis\u001b[0m \u001b[0;32mnot\u001b[0m \u001b[0mNone\u001b[0m\u001b[0;34m:\u001b[0m\u001b[0;34m\u001b[0m\u001b[0m\n\u001b[1;32m    544\u001b[0m             \u001b[0;32mtry\u001b[0m\u001b[0;34m:\u001b[0m\u001b[0;34m\u001b[0m\u001b[0m\n\u001b[0;32m--> 545\u001b[0;31m                 \u001b[0mresults_callback\u001b[0m\u001b[0;34m(\u001b[0m\u001b[0mjson_value\u001b[0m\u001b[0;34m,\u001b[0m \u001b[0marguments\u001b[0m\u001b[0;34m)\u001b[0m\u001b[0;34m\u001b[0m\u001b[0m\n\u001b[0m\u001b[1;32m    546\u001b[0m             \u001b[0;32mexcept\u001b[0m \u001b[0mException\u001b[0m \u001b[0;32mas\u001b[0m \u001b[0me\u001b[0m\u001b[0;34m:\u001b[0m\u001b[0;34m\u001b[0m\u001b[0m\n\u001b[1;32m    547\u001b[0m                 \u001b[0;31m#pr (\"handle results callback exception \" +repr(e))\u001b[0m\u001b[0;34m\u001b[0m\u001b[0;34m\u001b[0m\u001b[0m\n",
          "\u001b[0;32m/Users/awatters/repos/jp_proxy_widget/jp_proxy_widget/proxy_widget.pyc\u001b[0m in \u001b[0;36mcallback_function\u001b[0;34m(_data, arguments)\u001b[0m\n\u001b[1;32m    655\u001b[0m                 \u001b[0;32melse\u001b[0m\u001b[0;34m:\u001b[0m\u001b[0;34m\u001b[0m\u001b[0m\n\u001b[1;32m    656\u001b[0m                     \u001b[0;32mbreak\u001b[0m\u001b[0;34m\u001b[0m\u001b[0m\n\u001b[0;32m--> 657\u001b[0;31m             \u001b[0mfunction_or_method\u001b[0m\u001b[0;34m(\u001b[0m\u001b[0;34m*\u001b[0m\u001b[0mpy_arguments\u001b[0m\u001b[0;34m)\u001b[0m\u001b[0;34m\u001b[0m\u001b[0m\n\u001b[0m\u001b[1;32m    658\u001b[0m         \u001b[0;32mreturn\u001b[0m \u001b[0mself\u001b[0m\u001b[0;34m.\u001b[0m\u001b[0mcallback\u001b[0m\u001b[0;34m(\u001b[0m\u001b[0mcallback_function\u001b[0m\u001b[0;34m,\u001b[0m \u001b[0mdata\u001b[0m\u001b[0;34m,\u001b[0m \u001b[0mlevel\u001b[0m\u001b[0;34m,\u001b[0m \u001b[0mdelay\u001b[0m\u001b[0;34m,\u001b[0m \u001b[0msegmented\u001b[0m\u001b[0;34m)\u001b[0m\u001b[0;34m\u001b[0m\u001b[0m\n\u001b[1;32m    659\u001b[0m \u001b[0;34m\u001b[0m\u001b[0m\n",
          "\u001b[0;32m/Users/awatters/repos/jp_doodle/jp_doodle/dual_canvas.py\u001b[0m in \u001b[0;36mconverter_callback\u001b[0;34m(imgData)\u001b[0m\n\u001b[1;32m    240\u001b[0m             \u001b[0mbytes_per_pixel\u001b[0m \u001b[0;34m=\u001b[0m \u001b[0;36m4\u001b[0m\u001b[0;34m\u001b[0m\u001b[0m\n\u001b[1;32m    241\u001b[0m             \u001b[0mimage_array\u001b[0m \u001b[0;34m=\u001b[0m \u001b[0marray1d\u001b[0m\u001b[0;34m.\u001b[0m\u001b[0mreshape\u001b[0m\u001b[0;34m(\u001b[0m\u001b[0;34m(\u001b[0m\u001b[0mheight\u001b[0m\u001b[0;34m,\u001b[0m \u001b[0mwidth\u001b[0m\u001b[0;34m,\u001b[0m \u001b[0mbytes_per_pixel\u001b[0m\u001b[0;34m)\u001b[0m\u001b[0;34m)\u001b[0m\u001b[0;34m\u001b[0m\u001b[0m\n\u001b[0;32m--> 242\u001b[0;31m             \u001b[0mcallback\u001b[0m\u001b[0;34m(\u001b[0m\u001b[0mimage_array\u001b[0m\u001b[0;34m)\u001b[0m\u001b[0;34m\u001b[0m\u001b[0m\n\u001b[0m\u001b[1;32m    243\u001b[0m         self.js_init(\"\"\"\n\u001b[1;32m    244\u001b[0m             \u001b[0mvar\u001b[0m \u001b[0mpixels\u001b[0m \u001b[0;34m=\u001b[0m \u001b[0melement\u001b[0m\u001b[0;34m.\u001b[0m\u001b[0mpixels\u001b[0m\u001b[0;34m(\u001b[0m\u001b[0mx\u001b[0m\u001b[0;34m,\u001b[0m \u001b[0my\u001b[0m\u001b[0;34m,\u001b[0m \u001b[0mw\u001b[0m\u001b[0;34m,\u001b[0m \u001b[0mh\u001b[0m\u001b[0;34m)\u001b[0m\u001b[0;34m;\u001b[0m\u001b[0;34m\u001b[0m\u001b[0m\n",
          "\u001b[0;32m<ipython-input-12-85e3e742b1a6>\u001b[0m in \u001b[0;36mprocess_array\u001b[0;34m(self, image_array)\u001b[0m\n\u001b[1;32m     45\u001b[0m         \u001b[0;31m#self.dest_canvas.display_all()\u001b[0m\u001b[0;34m\u001b[0m\u001b[0;34m\u001b[0m\u001b[0m\n\u001b[1;32m     46\u001b[0m         \u001b[0mdisplay\u001b[0m\u001b[0;34m(\u001b[0m\u001b[0mself\u001b[0m\u001b[0;34m.\u001b[0m\u001b[0mdest_canvas\u001b[0m\u001b[0;34m.\u001b[0m\u001b[0mdebugging_display\u001b[0m\u001b[0;34m(\u001b[0m\u001b[0;34m)\u001b[0m\u001b[0;34m)\u001b[0m\u001b[0;34m\u001b[0m\u001b[0m\n\u001b[0;32m---> 47\u001b[0;31m         \u001b[0mself\u001b[0m\u001b[0;34m.\u001b[0m\u001b[0mdest_canvas\u001b[0m\u001b[0;34m.\u001b[0m\u001b[0mname_image_array\u001b[0m\u001b[0;34m(\u001b[0m\u001b[0;34m\"processed\"\u001b[0m\u001b[0;34m,\u001b[0m \u001b[0minverted\u001b[0m\u001b[0;34m)\u001b[0m\u001b[0;34m\u001b[0m\u001b[0m\n\u001b[0m\u001b[1;32m     48\u001b[0m         \u001b[0;31m# Draw the image by name.\u001b[0m\u001b[0;34m\u001b[0m\u001b[0;34m\u001b[0m\u001b[0m\n\u001b[1;32m     49\u001b[0m         \u001b[0mself\u001b[0m\u001b[0;34m.\u001b[0m\u001b[0mdest_canvas\u001b[0m\u001b[0;34m.\u001b[0m\u001b[0mnamed_image\u001b[0m\u001b[0;34m(\u001b[0m\u001b[0;34m\"processed\"\u001b[0m\u001b[0;34m,\u001b[0m \u001b[0;36m0\u001b[0m\u001b[0;34m,\u001b[0m \u001b[0;36m0\u001b[0m\u001b[0;34m,\u001b[0m \u001b[0;36m320\u001b[0m\u001b[0;34m,\u001b[0m \u001b[0;36m220\u001b[0m\u001b[0;34m)\u001b[0m\u001b[0;34m\u001b[0m\u001b[0m\n",
          "\u001b[0;31mNameError\u001b[0m: global name 'inverted' is not defined"
         ]
        }
       ]
      }
     },
     "af5a4487051c4df280d2fac79433ea35": {
      "model_module": "@jupyter-widgets/controls",
      "model_module_version": "1.0.0",
      "model_name": "TextModel",
      "state": {
       "description": "status:",
       "layout": "IPY_MODEL_96bfa728790a4ac1bb843d37929c8efa",
       "style": "IPY_MODEL_e86b866da0f045b9803d82d723cfbaa2",
       "value": "Not yet rendered"
      }
     },
     "af6d2e3241444fdd84ad68476c7712db": {
      "model_module": "@jupyter-widgets/controls",
      "model_module_version": "1.0.0",
      "model_name": "TabModel",
      "state": {
       "_titles": {
        "0": "Canvas",
        "1": "Snapshot"
       },
       "children": [
        "IPY_MODEL_70905df2d9d64aa58cb5399f555deec6",
        "IPY_MODEL_5029775b50044209af58b7850a1064fb"
       ],
       "layout": "IPY_MODEL_134c9e24717440ea9867bc8698878a20",
       "selected_index": 1
      }
     },
     "af6dc3d887d241d1a68c3dcc67cc4ebf": {
      "model_module": "jp_proxy_widget",
      "model_module_version": "^0.3.4",
      "model_name": "JSProxyModel",
      "state": {
       "_model_module_version": "^0.3.4",
       "_send_counter": 8,
       "_view_module_version": "^0.3.4",
       "error_msg": "No error",
       "layout": "IPY_MODEL_604c2e790ecc482cb7a45100ab90bc2f",
       "rendered": false,
       "status": "Not yet rendered"
      }
     },
     "af9899aca407483ab7127d0cbbf6f2a2": {
      "model_module": "@jupyter-widgets/controls",
      "model_module_version": "1.0.0",
      "model_name": "DescriptionStyleModel",
      "state": {
       "description_width": ""
      }
     },
     "b03c4c0b2487476a973ce659e6cb15fd": {
      "model_module": "@jupyter-widgets/controls",
      "model_module_version": "1.0.0",
      "model_name": "HTMLModel",
      "state": {
       "layout": "IPY_MODEL_52f0ab5e966a4dd299a36a88e0e37224",
       "style": "IPY_MODEL_982827b0f56e4cda83421a93e2e8a456",
       "value": "<img src=\"Image_source.png\" id=\"snapshot_id_11_1535655592484\"/>\n <div id=\"snapshot_id_12_1535655592484\">Image_source.png</div>"
      }
     },
     "b07b258a502f417c86c08ec8171284fc": {
      "model_module": "@jupyter-widgets/base",
      "model_module_version": "1.0.0",
      "model_name": "LayoutModel",
      "state": {}
     },
     "b0e520083fb44c7c8800b578b4637544": {
      "model_module": "@jupyter-widgets/controls",
      "model_module_version": "1.0.0",
      "model_name": "TabModel",
      "state": {
       "_titles": {
        "0": "Canvas",
        "1": "Snapshot"
       },
       "children": [
        "IPY_MODEL_dce060439efc44cdbe65e0ec65df73c9",
        "IPY_MODEL_7c081749d3c64e94b2ca10d811bd2bc7"
       ],
       "layout": "IPY_MODEL_d20677b0b750493289bcee89b4be08b9",
       "selected_index": 1
      }
     },
     "b171390a12064a47a00b7e2ea30d3014": {
      "model_module": "@jupyter-widgets/controls",
      "model_module_version": "1.0.0",
      "model_name": "TextModel",
      "state": {
       "description": "status:",
       "layout": "IPY_MODEL_fc97fcb5620c40e082c7939368c20537",
       "style": "IPY_MODEL_dca3fe4cd9834fef82860c66aafd7db6",
       "value": "Got results."
      }
     },
     "b17facef5ab34c2a8bfa0810b2f2ccf7": {
      "model_module": "@jupyter-widgets/controls",
      "model_module_version": "1.0.0",
      "model_name": "HTMLModel",
      "state": {
       "layout": "IPY_MODEL_8de0061acf38426487271aff531fbec3",
       "style": "IPY_MODEL_ae29d7dd78bd4fe7a62ae53f236819d8",
       "value": "<img src=\"Image_source.png\" id=\"snapshot_id_59_1535657942190\"/>\n <div id=\"snapshot_id_60_1535657942190\">Image_source.png</div>"
      }
     },
     "b1a389095ab14acabcfbfce68be7a150": {
      "model_module": "@jupyter-widgets/controls",
      "model_module_version": "1.0.0",
      "model_name": "DescriptionStyleModel",
      "state": {
       "description_width": ""
      }
     },
     "b203a3e5fc7d4fa092bcb4b1cc6b9b9b": {
      "model_module": "@jupyter-widgets/controls",
      "model_module_version": "1.0.0",
      "model_name": "DescriptionStyleModel",
      "state": {
       "description_width": ""
      }
     },
     "b231dfbc67394c8dbd725bcc5176762f": {
      "model_module": "@jupyter-widgets/controls",
      "model_module_version": "1.0.0",
      "model_name": "TextModel",
      "state": {
       "description": "status:",
       "layout": "IPY_MODEL_d9d129516a4344a09d3c91f324160bf9",
       "style": "IPY_MODEL_cb9bd79e6d964fca8767e143b9925114",
       "value": "Got results."
      }
     },
     "b2967a99ebac436484a527c9b470cc08": {
      "model_module": "@jupyter-widgets/controls",
      "model_module_version": "1.0.0",
      "model_name": "DescriptionStyleModel",
      "state": {
       "description_width": ""
      }
     },
     "b2b408f76eeb4e90ae9b9bd25b112e38": {
      "model_module": "@jupyter-widgets/base",
      "model_module_version": "1.0.0",
      "model_name": "LayoutModel",
      "state": {}
     },
     "b2cc6a097cd946ecada397fe770ebc95": {
      "model_module": "@jupyter-widgets/base",
      "model_module_version": "1.0.0",
      "model_name": "LayoutModel",
      "state": {}
     },
     "b4eb71a9f45448ffb11c8352e514b1cc": {
      "model_module": "@jupyter-widgets/controls",
      "model_module_version": "1.0.0",
      "model_name": "TextModel",
      "state": {
       "description": "error",
       "layout": "IPY_MODEL_8df2a488345947eb89031188ef68b8a4",
       "style": "IPY_MODEL_75599cc72a6a48379a2b5888a2c3e5ec",
       "value": "No error"
      }
     },
     "b519dd401f3444538128b94e42015f88": {
      "model_module": "@jupyter-widgets/base",
      "model_module_version": "1.0.0",
      "model_name": "LayoutModel",
      "state": {}
     },
     "b536cac63cb245bcb324dd486de8b804": {
      "model_module": "@jupyter-widgets/base",
      "model_module_version": "1.0.0",
      "model_name": "LayoutModel",
      "state": {}
     },
     "b54254c886c14f3e9a1727f3721a3c8a": {
      "model_module": "@jupyter-widgets/controls",
      "model_module_version": "1.0.0",
      "model_name": "TextModel",
      "state": {
       "description": "error",
       "layout": "IPY_MODEL_a9f3571dd12c4fcb9d7fcb2fd586a949",
       "style": "IPY_MODEL_2ba75e84f3744810963665d5fea9803c",
       "value": "No error"
      }
     },
     "b59546cf67554bfdbc7c1390e7825517": {
      "model_module": "@jupyter-widgets/controls",
      "model_module_version": "1.0.0",
      "model_name": "TextModel",
      "state": {
       "description": "status:",
       "layout": "IPY_MODEL_38d34109a9f6468bba57df4b4e00babc",
       "style": "IPY_MODEL_95cb04f6c4b04f8190b6f0e226ffc5e3",
       "value": "Got results."
      }
     },
     "b6e1da38a4f04daea7f0b8ae8644abf6": {
      "model_module": "@jupyter-widgets/controls",
      "model_module_version": "1.0.0",
      "model_name": "DescriptionStyleModel",
      "state": {
       "description_width": ""
      }
     },
     "b705397208ad4e90ae6b919b722fd6a5": {
      "model_module": "@jupyter-widgets/base",
      "model_module_version": "1.0.0",
      "model_name": "LayoutModel",
      "state": {}
     },
     "b78b1eb1bbd545f89784222f203fd900": {
      "model_module": "@jupyter-widgets/controls",
      "model_module_version": "1.0.0",
      "model_name": "HTMLModel",
      "state": {
       "layout": "IPY_MODEL_844f873be72e42cb830a5ef8fa048231",
       "style": "IPY_MODEL_7bb62628ca7b4ea5856fe0be79cd6245",
       "value": "<img src=\"Image_source.png\" id=\"snapshot_id_25_1535655172920\"/>\n <div id=\"snapshot_id_26_1535655172920\">Image_source.png</div>"
      }
     },
     "b7bb17fd67a54bcead74dc4bd3b518e8": {
      "model_module": "@jupyter-widgets/controls",
      "model_module_version": "1.0.0",
      "model_name": "TextModel",
      "state": {
       "description": "status:",
       "layout": "IPY_MODEL_d5fe85c7839842a08b2459078c755fb2",
       "style": "IPY_MODEL_2a4321dbd4154dea87d365f511792dc0",
       "value": "Got results."
      }
     },
     "b7e0cfe13a1f4d2eb195c2cf078e0f70": {
      "model_module": "jp_proxy_widget",
      "model_module_version": "^0.3.3",
      "model_name": "JSProxyModel",
      "state": {
       "_model_module_version": "^0.3.3",
       "_send_counter": 15,
       "_view_module_version": "^0.3.3",
       "error_msg": "No error",
       "layout": "IPY_MODEL_7599723fc05b461caacfaae64105ef0b",
       "rendered": true,
       "status": "Got results."
      }
     },
     "b7e4bffa7a3840f4b252268f5f72a800": {
      "model_module": "@jupyter-widgets/base",
      "model_module_version": "1.0.0",
      "model_name": "LayoutModel",
      "state": {
       "border": "1px solid black"
      }
     },
     "b87e72662a174f9c8a8dcc28e9c61526": {
      "model_module": "@jupyter-widgets/base",
      "model_module_version": "1.0.0",
      "model_name": "LayoutModel",
      "state": {}
     },
     "b8c569c4d5ff4a05acebf6abde726a88": {
      "model_module": "@jupyter-widgets/output",
      "model_module_version": "1.0.0",
      "model_name": "OutputModel",
      "state": {
       "layout": "IPY_MODEL_fdfd09d18dcc43918e38617bb68e17f9",
       "outputs": [
        {
         "name": "stdout",
         "output_type": "stream",
         "text": "debug message area for widget:\n"
        }
       ]
      }
     },
     "b9b5e9cd75a94d43ad86af59fee69678": {
      "model_module": "@jupyter-widgets/base",
      "model_module_version": "1.0.0",
      "model_name": "LayoutModel",
      "state": {}
     },
     "b9fa6ff76d954bd7a2cea111b41bf7ca": {
      "model_module": "@jupyter-widgets/base",
      "model_module_version": "1.0.0",
      "model_name": "LayoutModel",
      "state": {}
     },
     "ba1206bc2ffe4ef29534b6194799d624": {
      "model_module": "@jupyter-widgets/controls",
      "model_module_version": "1.0.0",
      "model_name": "TextModel",
      "state": {
       "description": "error",
       "layout": "IPY_MODEL_ecfb0a37485a437ea09577eafbecdc75",
       "style": "IPY_MODEL_9b3ded51593b4da6974bcf21de4ddd94",
       "value": "No error"
      }
     },
     "ba595ece897e40678293712c2531bb44": {
      "model_module": "jp_proxy_widget",
      "model_module_version": "^0.3.4",
      "model_name": "JSProxyModel",
      "state": {
       "_model_module_version": "^0.3.4",
       "_send_counter": 2,
       "_view_module_version": "^0.3.4",
       "error_msg": "No error",
       "layout": "IPY_MODEL_edc5dab03623407496fa54ea718fd50a",
       "rendered": true,
       "status": "Got results."
      }
     },
     "baafe7da6f8a42419a47d51fefa87c5c": {
      "model_module": "jp_proxy_widget",
      "model_module_version": "^0.3.3",
      "model_name": "JSProxyModel",
      "state": {
       "_model_module_version": "^0.3.3",
       "_send_counter": 2,
       "_view_module_version": "^0.3.3",
       "error_msg": "No error",
       "layout": "IPY_MODEL_6d6dc96a4b4f4b0891eda35b3c6050e0",
       "rendered": true,
       "status": "Not yet rendered"
      }
     },
     "bb0b2cb8850c4917a84e192ab79de2e8": {
      "model_module": "jp_proxy_widget",
      "model_module_version": "^0.3.4",
      "model_name": "JSProxyModel",
      "state": {
       "_model_module_version": "^0.3.4",
       "_send_counter": 9,
       "_view_module_version": "^0.3.4",
       "error_msg": "No error",
       "layout": "IPY_MODEL_32c5eb6f2f344968998d6195da80b273",
       "rendered": true,
       "status": "Got results."
      }
     },
     "bb11d6affa19410db95aabef153c20b7": {
      "model_module": "@jupyter-widgets/base",
      "model_module_version": "1.0.0",
      "model_name": "LayoutModel",
      "state": {}
     },
     "bb7e8efd8fef42879711e5fe72f6732d": {
      "model_module": "@jupyter-widgets/controls",
      "model_module_version": "1.0.0",
      "model_name": "TabModel",
      "state": {
       "_titles": {
        "0": "Canvas",
        "1": "Snapshot"
       },
       "children": [
        "IPY_MODEL_975d5e46d38f413680ae2f96706d0f4d",
        "IPY_MODEL_6a53e9404a4549d3ba804eae8a001c56"
       ],
       "layout": "IPY_MODEL_a52b57fd1a9841bbb6ca401284fe522f"
      }
     },
     "bbaec446422941af9e7030f40b89cd09": {
      "model_module": "@jupyter-widgets/base",
      "model_module_version": "1.0.0",
      "model_name": "LayoutModel",
      "state": {}
     },
     "bc07d3eedf9748c890bcd0fcea844613": {
      "model_module": "@jupyter-widgets/controls",
      "model_module_version": "1.0.0",
      "model_name": "TextModel",
      "state": {
       "description": "error",
       "layout": "IPY_MODEL_bbaec446422941af9e7030f40b89cd09",
       "style": "IPY_MODEL_10c6bd4c9c344722b0eb8453c3bd72f6",
       "value": "No error"
      }
     },
     "bc243f539f574163ab85f329783dbd4d": {
      "model_module": "@jupyter-widgets/base",
      "model_module_version": "1.0.0",
      "model_name": "LayoutModel",
      "state": {}
     },
     "bc4b1d0fae5c4ade8ca71847e2b3390d": {
      "model_module": "@jupyter-widgets/base",
      "model_module_version": "1.0.0",
      "model_name": "LayoutModel",
      "state": {}
     },
     "bc64673020dd459999b41a6601750f32": {
      "model_module": "@jupyter-widgets/controls",
      "model_module_version": "1.0.0",
      "model_name": "DescriptionStyleModel",
      "state": {
       "description_width": ""
      }
     },
     "bc9c847d5932433daa3f0e6604a286bb": {
      "model_module": "@jupyter-widgets/controls",
      "model_module_version": "1.0.0",
      "model_name": "DescriptionStyleModel",
      "state": {
       "description_width": ""
      }
     },
     "bcc4354d5c774d1aa8bf95a8c7ee8636": {
      "model_module": "@jupyter-widgets/controls",
      "model_module_version": "1.0.0",
      "model_name": "DescriptionStyleModel",
      "state": {
       "description_width": ""
      }
     },
     "bd0a6d5337794333be46b85fe6d50e90": {
      "model_module": "@jupyter-widgets/controls",
      "model_module_version": "1.0.0",
      "model_name": "DescriptionStyleModel",
      "state": {
       "description_width": ""
      }
     },
     "bd3bda2b838a4fb8bd84223b2f1c0ba3": {
      "model_module": "@jupyter-widgets/base",
      "model_module_version": "1.0.0",
      "model_name": "LayoutModel",
      "state": {
       "border": "1px solid black"
      }
     },
     "bdb2afc7a2d343578568f2c63fb9e276": {
      "model_module": "@jupyter-widgets/controls",
      "model_module_version": "1.0.0",
      "model_name": "TextModel",
      "state": {
       "description": "error",
       "layout": "IPY_MODEL_23e4a045ad584728996f197ae0db6571",
       "style": "IPY_MODEL_df68da3da25a4f4f9ad714b4acbde3ea",
       "value": "No error"
      }
     },
     "bdc38f454f714bfcaf6471a9394f3d61": {
      "model_module": "@jupyter-widgets/controls",
      "model_module_version": "1.0.0",
      "model_name": "DescriptionStyleModel",
      "state": {
       "description_width": ""
      }
     },
     "bdc549ca931943e7bed59c00d9ce2632": {
      "model_module": "@jupyter-widgets/base",
      "model_module_version": "1.0.0",
      "model_name": "LayoutModel",
      "state": {}
     },
     "be6626f99c2c4230b3bae929aead1742": {
      "model_module": "@jupyter-widgets/controls",
      "model_module_version": "1.0.0",
      "model_name": "DescriptionStyleModel",
      "state": {
       "description_width": ""
      }
     },
     "bf1bfcc496ab4e3bb3d0875a22112eba": {
      "model_module": "@jupyter-widgets/base",
      "model_module_version": "1.0.0",
      "model_name": "LayoutModel",
      "state": {}
     },
     "bf399724e4c54e70b939a10aa976af51": {
      "model_module": "@jupyter-widgets/base",
      "model_module_version": "1.0.0",
      "model_name": "LayoutModel",
      "state": {}
     },
     "bf46ce9d7dcc4833afb2bfab82b387a6": {
      "model_module": "@jupyter-widgets/controls",
      "model_module_version": "1.0.0",
      "model_name": "DescriptionStyleModel",
      "state": {
       "description_width": ""
      }
     },
     "bfc23fbb5b0348789ca742e71d323e57": {
      "model_module": "@jupyter-widgets/controls",
      "model_module_version": "1.0.0",
      "model_name": "DescriptionStyleModel",
      "state": {
       "description_width": ""
      }
     },
     "bfca8ed8ae5d4e728412036b410b4be7": {
      "model_module": "@jupyter-widgets/base",
      "model_module_version": "1.0.0",
      "model_name": "LayoutModel",
      "state": {}
     },
     "bfcf5cc9d23640aaae9185072d4f647f": {
      "model_module": "@jupyter-widgets/controls",
      "model_module_version": "1.0.0",
      "model_name": "HTMLModel",
      "state": {
       "layout": "IPY_MODEL_412da1dacb484a8a88547454dcc26546",
       "style": "IPY_MODEL_5be5ac177dc746fa8223634c26c1c5d0",
       "value": "<img src=\"Image_source.png\" id=\"snapshot_id_33_1535655310659\"/>\n <div id=\"snapshot_id_34_1535655310659\">Image_source.png</div>"
      }
     },
     "bfee5473f77f4da3b0fdaa2f19815328": {
      "model_module": "@jupyter-widgets/controls",
      "model_module_version": "1.0.0",
      "model_name": "TextModel",
      "state": {
       "description": "status:",
       "layout": "IPY_MODEL_fbaec728544b45fabec9b0bac9bfc16c",
       "style": "IPY_MODEL_0cdc8d371273402a9dd5790c46b5a811",
       "value": "Got results."
      }
     },
     "c00b03cc213845a0a90b94765bcab89c": {
      "model_module": "@jupyter-widgets/output",
      "model_module_version": "1.0.0",
      "model_name": "OutputModel",
      "state": {
       "layout": "IPY_MODEL_3e09927c1a724584a034aafe1ac7afb7",
       "outputs": [
        {
         "name": "stdout",
         "output_type": "stream",
         "text": "debug message area for widget:\n"
        }
       ]
      }
     },
     "c01624b547474ca4acaad27fdc5d62f2": {
      "model_module": "@jupyter-widgets/controls",
      "model_module_version": "1.0.0",
      "model_name": "TextModel",
      "state": {
       "description": "error",
       "layout": "IPY_MODEL_77b0a071320e46a0be73b43123389a2d",
       "style": "IPY_MODEL_1c5286f1b838490692fbb90bbf08d1d5",
       "value": "No error"
      }
     },
     "c024242b354340bf99b13409fa7b6c5a": {
      "model_module": "@jupyter-widgets/base",
      "model_module_version": "1.0.0",
      "model_name": "LayoutModel",
      "state": {}
     },
     "c03bc1bf9f5d4de5bc3293ced7405c2a": {
      "model_module": "@jupyter-widgets/controls",
      "model_module_version": "1.0.0",
      "model_name": "DescriptionStyleModel",
      "state": {
       "description_width": ""
      }
     },
     "c052229303354edcadef2cf49b8a145c": {
      "model_module": "@jupyter-widgets/controls",
      "model_module_version": "1.0.0",
      "model_name": "TextModel",
      "state": {
       "description": "status:",
       "layout": "IPY_MODEL_5834392b73b849cebe2404947eab9b89",
       "style": "IPY_MODEL_1e48eefa8ad340a090f6b946c2c7bee8",
       "value": "Got results."
      }
     },
     "c06bdd0651aa4a99ac7770163bb49975": {
      "model_module": "@jupyter-widgets/controls",
      "model_module_version": "1.0.0",
      "model_name": "TextModel",
      "state": {
       "description": "error",
       "layout": "IPY_MODEL_77ced8d3e1dd4b9097830e1378423a1b",
       "style": "IPY_MODEL_c03bc1bf9f5d4de5bc3293ced7405c2a",
       "value": "No error"
      }
     },
     "c098eb2bbefc4652a6d8d2548a4855bd": {
      "model_module": "@jupyter-widgets/controls",
      "model_module_version": "1.0.0",
      "model_name": "TextModel",
      "state": {
       "description": "error",
       "layout": "IPY_MODEL_b705397208ad4e90ae6b919b722fd6a5",
       "style": "IPY_MODEL_03094a2c08a94e51b51e22fe08b0ff22",
       "value": "No error"
      }
     },
     "c0f22202a0934c43ba1050d73ab9657c": {
      "model_module": "jp_proxy_widget",
      "model_module_version": "^0.3.4",
      "model_name": "JSProxyModel",
      "state": {
       "_model_module_version": "^0.3.4",
       "_send_counter": 2,
       "_view_module_version": "^0.3.4",
       "error_msg": "No error",
       "layout": "IPY_MODEL_d529cbe2cc784dedb2ac8b7349083311",
       "rendered": true,
       "status": "Got results."
      }
     },
     "c1006afd16194deebb035e3b7b1d6a1e": {
      "model_module": "@jupyter-widgets/controls",
      "model_module_version": "1.0.0",
      "model_name": "VBoxModel",
      "state": {
       "children": [
        "IPY_MODEL_9b14c234aac24535aec20469e2e68587",
        "IPY_MODEL_9f19c7cf6c824eb7bc23fac45714dfac",
        "IPY_MODEL_0865d8a3b69f46bbab31ee8bcdb8ca06",
        "IPY_MODEL_af4f2b8c2c5140ce94d59f20110077f7"
       ],
       "layout": "IPY_MODEL_5da365de60d9431db45c43442c43dc94"
      }
     },
     "c286338112b84e779dc7bcf3daffc5cf": {
      "model_module": "@jupyter-widgets/base",
      "model_module_version": "1.0.0",
      "model_name": "LayoutModel",
      "state": {}
     },
     "c2e8193aa4b64cc9882b28d462224753": {
      "model_module": "@jupyter-widgets/controls",
      "model_module_version": "1.0.0",
      "model_name": "HTMLModel",
      "state": {
       "layout": "IPY_MODEL_3ce8143479af462598fafce793ac6c8a",
       "style": "IPY_MODEL_2ca68adc924442a199a1e9a969d8d968",
       "value": "<img src=\"Image_source.png\" id=\"snapshot_id_17_1535655098945\"/>\n <div id=\"snapshot_id_18_1535655098945\">Image_source.png</div>"
      }
     },
     "c3845801fe6f42ab97e12afdc37062ba": {
      "model_module": "@jupyter-widgets/base",
      "model_module_version": "1.0.0",
      "model_name": "LayoutModel",
      "state": {}
     },
     "c43c4da7bfa048bcbe1e59d15286fd6e": {
      "model_module": "@jupyter-widgets/base",
      "model_module_version": "1.0.0",
      "model_name": "LayoutModel",
      "state": {}
     },
     "c4a507433f7e49a9803d21c236b866ea": {
      "model_module": "@jupyter-widgets/base",
      "model_module_version": "1.0.0",
      "model_name": "LayoutModel",
      "state": {
       "border": "1px solid black"
      }
     },
     "c4fee377aca34c23b45829a8f8a2b959": {
      "model_module": "@jupyter-widgets/base",
      "model_module_version": "1.0.0",
      "model_name": "LayoutModel",
      "state": {}
     },
     "c5765f99125947719b4c64119a0c132d": {
      "model_module": "@jupyter-widgets/base",
      "model_module_version": "1.0.0",
      "model_name": "LayoutModel",
      "state": {
       "border": "1px solid black"
      }
     },
     "c583d39bfc0d49f1a1f3175e66cda0a3": {
      "model_module": "@jupyter-widgets/base",
      "model_module_version": "1.0.0",
      "model_name": "LayoutModel",
      "state": {}
     },
     "c601b723aa644f3d9376162305738acd": {
      "model_module": "@jupyter-widgets/controls",
      "model_module_version": "1.0.0",
      "model_name": "DescriptionStyleModel",
      "state": {
       "description_width": ""
      }
     },
     "c604c8c98d29480bb583bcd6bd7ead43": {
      "model_module": "@jupyter-widgets/controls",
      "model_module_version": "1.0.0",
      "model_name": "VBoxModel",
      "state": {
       "children": [
        "IPY_MODEL_8f95ea74fe8b4536aca71f1226c4902f",
        "IPY_MODEL_ce9d8c57fd634484a47f0d01aa60b2e5"
       ],
       "layout": "IPY_MODEL_41c2093267254008a0c37ae6752d3f1c"
      }
     },
     "c633eb759f11441485df371ec57456da": {
      "model_module": "@jupyter-widgets/output",
      "model_module_version": "1.0.0",
      "model_name": "OutputModel",
      "state": {
       "layout": "IPY_MODEL_4dc0c6f24df4459ca16b2ea1be24b40b",
       "outputs": [
        {
         "name": "stdout",
         "output_type": "stream",
         "text": "debug message area for widget:\n"
        }
       ]
      }
     },
     "c6b05ec4d475442ea84a940d88d652bb": {
      "model_module": "@jupyter-widgets/base",
      "model_module_version": "1.0.0",
      "model_name": "LayoutModel",
      "state": {}
     },
     "c6cc338f1b294bd6bb04a8a6834b0fd4": {
      "model_module": "@jupyter-widgets/controls",
      "model_module_version": "1.0.0",
      "model_name": "TextModel",
      "state": {
       "description": "error",
       "layout": "IPY_MODEL_36e8758576ce495088f7cc7017030866",
       "style": "IPY_MODEL_6e505b2a19a74b7a8821fcd100af733e",
       "value": "No error"
      }
     },
     "c710623d9b674fa19c7f19790dc8bf30": {
      "model_module": "@jupyter-widgets/controls",
      "model_module_version": "1.0.0",
      "model_name": "TabModel",
      "state": {
       "_titles": {
        "0": "Canvas",
        "1": "Snapshot"
       },
       "children": [
        "IPY_MODEL_48c8d72abe244de4a859924ef821c09a",
        "IPY_MODEL_6650e7408eed41f7aea8d874227485b6"
       ],
       "layout": "IPY_MODEL_ac4f6b16469f4416bad280b16e7d5295",
       "selected_index": 1
      }
     },
     "c7ab63e9f0a24aa7a5eedeab27011190": {
      "model_module": "@jupyter-widgets/controls",
      "model_module_version": "1.0.0",
      "model_name": "DescriptionStyleModel",
      "state": {
       "description_width": ""
      }
     },
     "c7c1f36e27844a0782f554666934bec6": {
      "model_module": "@jupyter-widgets/base",
      "model_module_version": "1.0.0",
      "model_name": "LayoutModel",
      "state": {
       "border": "1px solid black"
      }
     },
     "c8455d4eabce49bb90cf7e94b68afa4e": {
      "model_module": "jp_proxy_widget",
      "model_module_version": "^0.3.4",
      "model_name": "JSProxyModel",
      "state": {
       "_model_module_version": "^0.3.4",
       "_send_counter": 8,
       "_view_module_version": "^0.3.4",
       "error_msg": "No error",
       "layout": "IPY_MODEL_3392380721324d8ba2f1e155ae19cf87",
       "rendered": true,
       "status": "Got results."
      }
     },
     "c84d039c9ed84b329df149099b19ca7b": {
      "model_module": "@jupyter-widgets/output",
      "model_module_version": "1.0.0",
      "model_name": "OutputModel",
      "state": {
       "layout": "IPY_MODEL_85ec18f48572470cb62caf8d46d9c266",
       "outputs": [
        {
         "name": "stdout",
         "output_type": "stream",
         "text": "debug message area for widget:\n"
        }
       ]
      }
     },
     "ca7d267422a240ff841aff443555f81c": {
      "model_module": "@jupyter-widgets/base",
      "model_module_version": "1.0.0",
      "model_name": "LayoutModel",
      "state": {}
     },
     "cae07af383d64824aebbaeeb7a97088d": {
      "model_module": "jp_proxy_widget",
      "model_module_version": "^0.3.4",
      "model_name": "JSProxyModel",
      "state": {
       "_model_module_version": "^0.3.4",
       "_send_counter": 9,
       "_view_module_version": "^0.3.4",
       "error_msg": "No error",
       "layout": "IPY_MODEL_a529e26c389a481f90d51150ea2d2d8d",
       "rendered": true,
       "status": "Got results."
      }
     },
     "caf1e2f5f8434371a599ec160a1f6fd9": {
      "model_module": "jp_proxy_widget",
      "model_module_version": "^0.3.4",
      "model_name": "JSProxyModel",
      "state": {
       "_model_module_version": "^0.3.4",
       "_send_counter": 16,
       "_view_module_version": "^0.3.4",
       "error_msg": "No error",
       "layout": "IPY_MODEL_57fbfd44c797445193bcc55b82e8eca7",
       "rendered": true,
       "status": "Got results."
      }
     },
     "cb2a3913ba9b438892f87750786d5fa9": {
      "model_module": "@jupyter-widgets/base",
      "model_module_version": "1.0.0",
      "model_name": "LayoutModel",
      "state": {}
     },
     "cb9a9e3f321344eeba51b78ecff17a4a": {
      "model_module": "@jupyter-widgets/controls",
      "model_module_version": "1.0.0",
      "model_name": "VBoxModel",
      "state": {
       "children": [
        "IPY_MODEL_287d26fcbc014fa4859ed40be170bc34",
        "IPY_MODEL_6d665e9fa8764f2c9ed9b5bcc61b7790",
        "IPY_MODEL_c6cc338f1b294bd6bb04a8a6834b0fd4",
        "IPY_MODEL_46c0a56abd994e049f70737ae7b2f985"
       ],
       "layout": "IPY_MODEL_30d090f118304214baf2240f8f967946"
      }
     },
     "cb9bd79e6d964fca8767e143b9925114": {
      "model_module": "@jupyter-widgets/controls",
      "model_module_version": "1.0.0",
      "model_name": "DescriptionStyleModel",
      "state": {
       "description_width": ""
      }
     },
     "cbcb9c1a12874305aff64f264749885d": {
      "model_module": "@jupyter-widgets/controls",
      "model_module_version": "1.0.0",
      "model_name": "VBoxModel",
      "state": {
       "children": [
        "IPY_MODEL_e77db5c0736c411e86fe2696e2b3ebbe",
        "IPY_MODEL_5b950bef7c934fe9b419a019a53dcbf6",
        "IPY_MODEL_ef40c908f85a456885ee8848a91d4067",
        "IPY_MODEL_14992a0fb329439ea47045f952eef8ec"
       ],
       "layout": "IPY_MODEL_ece5474fea7045d4b5c366de5565e86b"
      }
     },
     "cc4fa2bc9a1341578ea4fb303df9fb54": {
      "model_module": "@jupyter-widgets/base",
      "model_module_version": "1.0.0",
      "model_name": "LayoutModel",
      "state": {}
     },
     "cc56639131a742dcb3e20c0c9ed997ad": {
      "model_module": "@jupyter-widgets/controls",
      "model_module_version": "1.0.0",
      "model_name": "VBoxModel",
      "state": {
       "children": [
        "IPY_MODEL_39e2d3fc1fb0427ebc35ae82de887671",
        "IPY_MODEL_20753a1064db49c2a8e5ccce48be694e"
       ],
       "layout": "IPY_MODEL_e561cdefbd2a4ebbaade042e2f6ebaf2"
      }
     },
     "cca16aa130924c4fb59c59f49e3f23fe": {
      "model_module": "@jupyter-widgets/controls",
      "model_module_version": "1.0.0",
      "model_name": "VBoxModel",
      "state": {
       "children": [
        "IPY_MODEL_2122b9c41fbc47d7a88404cbeb11f022",
        "IPY_MODEL_5de7036251e84fa1b1db6db747eb5945"
       ],
       "layout": "IPY_MODEL_b2cc6a097cd946ecada397fe770ebc95"
      }
     },
     "ccad7650ccae4cb1b7bee51f0d5456bd": {
      "model_module": "@jupyter-widgets/base",
      "model_module_version": "1.0.0",
      "model_name": "LayoutModel",
      "state": {
       "border": "1px solid black"
      }
     },
     "ccec85475817435eb8f32f7846bf8a30": {
      "model_module": "@jupyter-widgets/base",
      "model_module_version": "1.0.0",
      "model_name": "LayoutModel",
      "state": {}
     },
     "cd9b36bd2e644024977d7327f0d1a58b": {
      "model_module": "@jupyter-widgets/controls",
      "model_module_version": "1.0.0",
      "model_name": "DescriptionStyleModel",
      "state": {
       "description_width": ""
      }
     },
     "cda1476adf9045bfacc55379f3c4da8e": {
      "model_module": "@jupyter-widgets/base",
      "model_module_version": "1.0.0",
      "model_name": "LayoutModel",
      "state": {}
     },
     "ce103865568c422cb892a08a6ec6535a": {
      "model_module": "@jupyter-widgets/base",
      "model_module_version": "1.0.0",
      "model_name": "LayoutModel",
      "state": {}
     },
     "ce3b6c6e51c343fa81aba5564d36027f": {
      "model_module": "@jupyter-widgets/base",
      "model_module_version": "1.0.0",
      "model_name": "LayoutModel",
      "state": {}
     },
     "ce6ad981b9474d368319bb0b3fc93a12": {
      "model_module": "@jupyter-widgets/output",
      "model_module_version": "1.0.0",
      "model_name": "OutputModel",
      "state": {
       "layout": "IPY_MODEL_9111c3f27c024ce9a4989ccfa24902c7",
       "outputs": [
        {
         "name": "stdout",
         "output_type": "stream",
         "text": "debug message area for widget:\n"
        }
       ]
      }
     },
     "ce6f852b54d04fdd889c98d3fcaeeed0": {
      "model_module": "@jupyter-widgets/base",
      "model_module_version": "1.0.0",
      "model_name": "LayoutModel",
      "state": {}
     },
     "ce9d8c57fd634484a47f0d01aa60b2e5": {
      "model_module": "jp_proxy_widget",
      "model_module_version": "^0.3.4",
      "model_name": "JSProxyModel",
      "state": {
       "_model_module_version": "^0.3.4",
       "_send_counter": 2,
       "_view_module_version": "^0.3.4",
       "error_msg": "No error",
       "layout": "IPY_MODEL_087ed0cfdd8f4f52b82356ef7949653b",
       "rendered": true,
       "status": "Got results."
      }
     },
     "cec79519f3744335bb0b6b211b158372": {
      "model_module": "@jupyter-widgets/base",
      "model_module_version": "1.0.0",
      "model_name": "LayoutModel",
      "state": {
       "border": "1px solid black"
      }
     },
     "cf622430d52145e7a410e94f09839b65": {
      "model_module": "@jupyter-widgets/base",
      "model_module_version": "1.0.0",
      "model_name": "LayoutModel",
      "state": {}
     },
     "d03ba6ff100744988da6e5cd7e6068bb": {
      "model_module": "@jupyter-widgets/output",
      "model_module_version": "1.0.0",
      "model_name": "OutputModel",
      "state": {
       "layout": "IPY_MODEL_3e4695a84f4d48208e0b74d8b1c435b9",
       "outputs": [
        {
         "name": "stdout",
         "output_type": "stream",
         "text": "debug message area for widget:\n"
        }
       ]
      }
     },
     "d04cfd00c87f4e86aee3c1bc4529135a": {
      "model_module": "@jupyter-widgets/base",
      "model_module_version": "1.0.0",
      "model_name": "LayoutModel",
      "state": {}
     },
     "d061da18861a441985782d15da76f350": {
      "model_module": "@jupyter-widgets/controls",
      "model_module_version": "1.0.0",
      "model_name": "TextModel",
      "state": {
       "description": "status:",
       "layout": "IPY_MODEL_68276eea6d65460bad4f3ff42cf30d65",
       "style": "IPY_MODEL_d6fb1e99c9db4873ab3be7eadef736b5",
       "value": "Got results."
      }
     },
     "d0755dbec8c348909a4d669c8ab53926": {
      "model_module": "@jupyter-widgets/controls",
      "model_module_version": "1.0.0",
      "model_name": "TabModel",
      "state": {
       "_titles": {
        "0": "Canvas",
        "1": "Snapshot"
       },
       "children": [
        "IPY_MODEL_80abf2d7c97745eaa56f6d24edb76d68",
        "IPY_MODEL_6a70f0e45e074e578a2857fc666e8929"
       ],
       "layout": "IPY_MODEL_992f324c79664d1bace2055b8daee64b",
       "selected_index": 1
      }
     },
     "d07ca4ac57f24c2d9e01cbd8d158d116": {
      "model_module": "@jupyter-widgets/base",
      "model_module_version": "1.0.0",
      "model_name": "LayoutModel",
      "state": {
       "border": "1px solid black"
      }
     },
     "d08ae5bf3f0a48dda8ad6c13629aa125": {
      "model_module": "@jupyter-widgets/controls",
      "model_module_version": "1.0.0",
      "model_name": "DescriptionStyleModel",
      "state": {
       "description_width": ""
      }
     },
     "d09e9fe020d64deba284f418b24bdd2a": {
      "model_module": "@jupyter-widgets/controls",
      "model_module_version": "1.0.0",
      "model_name": "TextModel",
      "state": {
       "description": "status:",
       "layout": "IPY_MODEL_797ed1b42d454928bd37b7a88287ad16",
       "style": "IPY_MODEL_8364d2bd223d40e6ab8016b26cb1ed1d",
       "value": "Got results."
      }
     },
     "d0cb7c5c210d4acd8f9965c6985465ed": {
      "model_module": "@jupyter-widgets/controls",
      "model_module_version": "1.0.0",
      "model_name": "TabModel",
      "state": {
       "_titles": {
        "0": "Canvas",
        "1": "Snapshot"
       },
       "children": [
        "IPY_MODEL_2884f18c24db4c78af25b10e18714f3e",
        "IPY_MODEL_df3da05ba55a4559bde9c076d685904f"
       ],
       "layout": "IPY_MODEL_daac3da2c9914b42b213c22fac0c7c53",
       "selected_index": 1
      }
     },
     "d19f399cd2f74ea8af46277245a9b1ab": {
      "model_module": "@jupyter-widgets/controls",
      "model_module_version": "1.0.0",
      "model_name": "DescriptionStyleModel",
      "state": {
       "description_width": ""
      }
     },
     "d1bbf0ff145d4607a59fc5737b79a2f5": {
      "model_module": "@jupyter-widgets/base",
      "model_module_version": "1.0.0",
      "model_name": "LayoutModel",
      "state": {
       "border": "1px solid black"
      }
     },
     "d20677b0b750493289bcee89b4be08b9": {
      "model_module": "@jupyter-widgets/base",
      "model_module_version": "1.0.0",
      "model_name": "LayoutModel",
      "state": {}
     },
     "d24f572db5a44b4b9825e2ab4620c6bf": {
      "model_module": "@jupyter-widgets/base",
      "model_module_version": "1.0.0",
      "model_name": "LayoutModel",
      "state": {}
     },
     "d2eec880d9354bf096aa698f2609d994": {
      "model_module": "@jupyter-widgets/output",
      "model_module_version": "1.0.0",
      "model_name": "OutputModel",
      "state": {
       "layout": "IPY_MODEL_0a5f0d0f0378413db45743111e334399",
       "outputs": [
        {
         "name": "stdout",
         "output_type": "stream",
         "text": "debug message area for widget:\n"
        }
       ]
      }
     },
     "d3230fdbdd3a43e587c9b2aaec1feda6": {
      "model_module": "@jupyter-widgets/controls",
      "model_module_version": "1.0.0",
      "model_name": "DescriptionStyleModel",
      "state": {
       "description_width": ""
      }
     },
     "d33b8910bfb9427fa29689c4d7d2805b": {
      "model_module": "@jupyter-widgets/controls",
      "model_module_version": "1.0.0",
      "model_name": "TextModel",
      "state": {
       "description": "error",
       "layout": "IPY_MODEL_23133bf797b640d2bd42a3f838b1480f",
       "style": "IPY_MODEL_f2c3799a6dd64fff9f0bda5d6a5bf09c",
       "value": "No error"
      }
     },
     "d3999a5c7ba7451aa41e1b075f599952": {
      "model_module": "@jupyter-widgets/controls",
      "model_module_version": "1.0.0",
      "model_name": "TextModel",
      "state": {
       "description": "error",
       "layout": "IPY_MODEL_df771fce56cf4e79b76a7c713ca3966c",
       "style": "IPY_MODEL_9e48cc0a15fd458fa66481ee136a1fae",
       "value": "No error"
      }
     },
     "d5290e85683a458bafa52c6933954b27": {
      "model_module": "@jupyter-widgets/controls",
      "model_module_version": "1.0.0",
      "model_name": "DescriptionStyleModel",
      "state": {
       "description_width": ""
      }
     },
     "d529cbe2cc784dedb2ac8b7349083311": {
      "model_module": "@jupyter-widgets/base",
      "model_module_version": "1.0.0",
      "model_name": "LayoutModel",
      "state": {}
     },
     "d56f4efedbac457ab7446faf1d3fe0d7": {
      "model_module": "@jupyter-widgets/controls",
      "model_module_version": "1.0.0",
      "model_name": "TextModel",
      "state": {
       "description": "status:",
       "layout": "IPY_MODEL_99ac76bfa558468391289a0a8071f552",
       "style": "IPY_MODEL_701297bd61d04251aaa3b2ed4a770a73",
       "value": "Not yet rendered"
      }
     },
     "d5b6e6a410bf43d8af21c1baca1ec659": {
      "model_module": "@jupyter-widgets/controls",
      "model_module_version": "1.0.0",
      "model_name": "TextModel",
      "state": {
       "description": "error",
       "layout": "IPY_MODEL_bf1bfcc496ab4e3bb3d0875a22112eba",
       "style": "IPY_MODEL_f09aa9ee0c554c87bed87b3d58057ad5",
       "value": "No error"
      }
     },
     "d5fe85c7839842a08b2459078c755fb2": {
      "model_module": "@jupyter-widgets/base",
      "model_module_version": "1.0.0",
      "model_name": "LayoutModel",
      "state": {}
     },
     "d63f4524e91a441893f732becefd70fb": {
      "model_module": "@jupyter-widgets/controls",
      "model_module_version": "1.0.0",
      "model_name": "TextModel",
      "state": {
       "description": "status:",
       "layout": "IPY_MODEL_2566521311d745bd8fa290ff052677fe",
       "style": "IPY_MODEL_5aa29c31d4644c9ca5cefac4e3dab8ea",
       "value": "Got results."
      }
     },
     "d656388259784844ac134bf591d70f7a": {
      "model_module": "@jupyter-widgets/controls",
      "model_module_version": "1.0.0",
      "model_name": "VBoxModel",
      "state": {
       "children": [
        "IPY_MODEL_a959819821564c408266f6da9355a7d4",
        "IPY_MODEL_a6b2cae3b3174481a4f5795f419cd0bb",
        "IPY_MODEL_702edde755134ee7865b763b8c2688bc",
        "IPY_MODEL_1ac0f63c5abc4074b78e14184267d36e"
       ],
       "layout": "IPY_MODEL_006d947f4ea043a0945311c1769d8bef"
      }
     },
     "d673b7a1b8db4ff29c20c6f605721043": {
      "model_module": "jp_proxy_widget",
      "model_module_version": "^0.3.4",
      "model_name": "JSProxyModel",
      "state": {
       "_model_module_version": "^0.3.4",
       "_send_counter": 9,
       "_view_module_version": "^0.3.4",
       "error_msg": "No error",
       "layout": "IPY_MODEL_ca7d267422a240ff841aff443555f81c",
       "rendered": true,
       "status": "Got results."
      }
     },
     "d6f3c0b5038c45bcbe060531f86318f2": {
      "model_module": "@jupyter-widgets/controls",
      "model_module_version": "1.0.0",
      "model_name": "VBoxModel",
      "state": {
       "children": [
        "IPY_MODEL_08fc1e437d714c9e986088dbc3c3e507",
        "IPY_MODEL_efd3628bf7074738bb745c5fc410cba5",
        "IPY_MODEL_1336d047449846e0a76c0b38cdfaef09",
        "IPY_MODEL_eb23f60ddbfd44a2bf27b6093b58cecd"
       ],
       "layout": "IPY_MODEL_b519dd401f3444538128b94e42015f88"
      }
     },
     "d6fb1e99c9db4873ab3be7eadef736b5": {
      "model_module": "@jupyter-widgets/controls",
      "model_module_version": "1.0.0",
      "model_name": "DescriptionStyleModel",
      "state": {
       "description_width": ""
      }
     },
     "d7620ebaaf814d1db0855a02525ee1d0": {
      "model_module": "@jupyter-widgets/controls",
      "model_module_version": "1.0.0",
      "model_name": "VBoxModel",
      "state": {
       "children": [
        "IPY_MODEL_7e49f99ca01240068c052b69ff21b210",
        "IPY_MODEL_b231dfbc67394c8dbd725bcc5176762f",
        "IPY_MODEL_43e42688917948b0897f7fee1b4ce921",
        "IPY_MODEL_36092481bf8647f7ab935a3511ce7f13"
       ],
       "layout": "IPY_MODEL_bc243f539f574163ab85f329783dbd4d"
      }
     },
     "d7e3f80c0c114fc3a619510a71ba8445": {
      "model_module": "@jupyter-widgets/base",
      "model_module_version": "1.0.0",
      "model_name": "LayoutModel",
      "state": {}
     },
     "d86cadb9fb3b47058c3d6d7653427cb6": {
      "model_module": "@jupyter-widgets/controls",
      "model_module_version": "1.0.0",
      "model_name": "DescriptionStyleModel",
      "state": {
       "description_width": ""
      }
     },
     "d94f6485fa204c51a330fda4e7242d2a": {
      "model_module": "@jupyter-widgets/controls",
      "model_module_version": "1.0.0",
      "model_name": "HTMLModel",
      "state": {
       "layout": "IPY_MODEL_248d8150d1d449459d5c4d4106a72211",
       "style": "IPY_MODEL_69293bf53c7c4470a87904535808b721",
       "value": "<img src=\"Image_source.png\" id=\"snapshot_id_23_1535655123562\"/>\n <div id=\"snapshot_id_24_1535655123562\">Image_source.png</div>"
      }
     },
     "d9534c002cb948ffa950291f5b6c9b6f": {
      "model_module": "@jupyter-widgets/controls",
      "model_module_version": "1.0.0",
      "model_name": "DescriptionStyleModel",
      "state": {
       "description_width": ""
      }
     },
     "d9a3d70a82214f92947de23d4fb3281d": {
      "model_module": "@jupyter-widgets/controls",
      "model_module_version": "1.0.0",
      "model_name": "TextModel",
      "state": {
       "description": "status:",
       "layout": "IPY_MODEL_9f5513efe5fd407594721510c6df7179",
       "style": "IPY_MODEL_ebb691eb4005429dac291a966f178217",
       "value": "Got results."
      }
     },
     "d9d129516a4344a09d3c91f324160bf9": {
      "model_module": "@jupyter-widgets/base",
      "model_module_version": "1.0.0",
      "model_name": "LayoutModel",
      "state": {}
     },
     "d9e2508e436d451aa027c35be6161c34": {
      "model_module": "@jupyter-widgets/controls",
      "model_module_version": "1.0.0",
      "model_name": "DescriptionStyleModel",
      "state": {
       "description_width": ""
      }
     },
     "da08b8dda22a47d09499b7549eee6ffd": {
      "model_module": "@jupyter-widgets/controls",
      "model_module_version": "1.0.0",
      "model_name": "TabModel",
      "state": {
       "_titles": {
        "0": "Canvas",
        "1": "Snapshot"
       },
       "children": [
        "IPY_MODEL_e06d8c716a174f76bb4a9f848fce8584",
        "IPY_MODEL_01a0ffaa08b449b492f8922fca1f25b1"
       ],
       "layout": "IPY_MODEL_0f2583c694ac4be48e9994d35bc0ffc3",
       "selected_index": 1
      }
     },
     "daac3da2c9914b42b213c22fac0c7c53": {
      "model_module": "@jupyter-widgets/base",
      "model_module_version": "1.0.0",
      "model_name": "LayoutModel",
      "state": {}
     },
     "db8f9e1af8ab49e49ead09b5fac2b95e": {
      "model_module": "@jupyter-widgets/controls",
      "model_module_version": "1.0.0",
      "model_name": "TabModel",
      "state": {
       "_titles": {
        "0": "Canvas",
        "1": "Snapshot"
       },
       "children": [
        "IPY_MODEL_8d759bd8ea2e409780c48a8964de8975",
        "IPY_MODEL_8897e2b19769443a8d74f9f07e13d4a9"
       ],
       "layout": "IPY_MODEL_16889bceb8bb4a70b5fcde28e0651d75",
       "selected_index": 1
      }
     },
     "db98db99310c46fcaa397853d953a5ff": {
      "model_module": "@jupyter-widgets/output",
      "model_module_version": "1.0.0",
      "model_name": "OutputModel",
      "state": {
       "layout": "IPY_MODEL_b7e4bffa7a3840f4b252268f5f72a800",
       "outputs": [
        {
         "name": "stdout",
         "output_type": "stream",
         "text": "debug message area for widget:\n"
        }
       ]
      }
     },
     "dbc9a5b4e93f498482fe2d748a388184": {
      "model_module": "@jupyter-widgets/controls",
      "model_module_version": "1.0.0",
      "model_name": "DescriptionStyleModel",
      "state": {
       "description_width": ""
      }
     },
     "dbedcddbd3bb4df9add66d71e4c85e78": {
      "model_module": "@jupyter-widgets/controls",
      "model_module_version": "1.0.0",
      "model_name": "DescriptionStyleModel",
      "state": {
       "description_width": ""
      }
     },
     "dc02a1775bd94a8aba9c26ffafe5b48a": {
      "model_module": "@jupyter-widgets/controls",
      "model_module_version": "1.0.0",
      "model_name": "TabModel",
      "state": {
       "_titles": {
        "0": "Canvas",
        "1": "Snapshot"
       },
       "children": [
        "IPY_MODEL_29c2be784a7f41d79b5e8d53d3875d60",
        "IPY_MODEL_07cd07744d2143a29f2661c4560e875c"
       ],
       "layout": "IPY_MODEL_d04cfd00c87f4e86aee3c1bc4529135a",
       "selected_index": 1
      }
     },
     "dca3fe4cd9834fef82860c66aafd7db6": {
      "model_module": "@jupyter-widgets/controls",
      "model_module_version": "1.0.0",
      "model_name": "DescriptionStyleModel",
      "state": {
       "description_width": ""
      }
     },
     "dce060439efc44cdbe65e0ec65df73c9": {
      "model_module": "@jupyter-widgets/controls",
      "model_module_version": "1.0.0",
      "model_name": "VBoxModel",
      "state": {
       "children": [
        "IPY_MODEL_a8459a6d0d0741dc8f99f186a77d6e2e",
        "IPY_MODEL_62b5202b28824bf39312c6d10132e5ee"
       ],
       "layout": "IPY_MODEL_8d9829c8efaf4b919407749b773bea73"
      }
     },
     "ddabc1e797774de2ab17f61e885d4e49": {
      "model_module": "jp_proxy_widget",
      "model_module_version": "^0.3.4",
      "model_name": "JSProxyModel",
      "state": {
       "_model_module_version": "^0.3.4",
       "_send_counter": 2,
       "_view_module_version": "^0.3.4",
       "error_msg": "No error",
       "layout": "IPY_MODEL_0e2d4b6eda5647f09bb1d1687ee63b0b",
       "rendered": true,
       "status": "Got results."
      }
     },
     "ddb6e338fb3c43da936aa9526443cb55": {
      "model_module": "@jupyter-widgets/base",
      "model_module_version": "1.0.0",
      "model_name": "LayoutModel",
      "state": {}
     },
     "ddf8feff42ad47079bbb4207263e61cf": {
      "model_module": "@jupyter-widgets/base",
      "model_module_version": "1.0.0",
      "model_name": "LayoutModel",
      "state": {}
     },
     "de27df794d964794b0319ba2eaf65d91": {
      "model_module": "@jupyter-widgets/base",
      "model_module_version": "1.0.0",
      "model_name": "LayoutModel",
      "state": {
       "border": "1px solid black"
      }
     },
     "de4d676bcc7a492a85bc5103ef3383e1": {
      "model_module": "@jupyter-widgets/controls",
      "model_module_version": "1.0.0",
      "model_name": "TextModel",
      "state": {
       "description": "status:",
       "layout": "IPY_MODEL_f5a1ff6ef3b94461bd89a2117389db90",
       "style": "IPY_MODEL_78cfd045c46b4f09ba220f1ea54c93a4",
       "value": "Got results."
      }
     },
     "de5f45e292ac4f5086c4893e6b2fb9c9": {
      "model_module": "jp_proxy_widget",
      "model_module_version": "^0.3.4",
      "model_name": "JSProxyModel",
      "state": {
       "_model_module_version": "^0.3.4",
       "_send_counter": 8,
       "_view_module_version": "^0.3.4",
       "error_msg": "No error",
       "layout": "IPY_MODEL_05b49a48bd6742b79f0ba807dead7f4a",
       "rendered": true,
       "status": "Got results."
      }
     },
     "de776b8a104841a985f2056f621e1728": {
      "model_module": "@jupyter-widgets/controls",
      "model_module_version": "1.0.0",
      "model_name": "HTMLModel",
      "state": {
       "layout": "IPY_MODEL_3bfcf7ecc2d146679c8c61c0f42cae90",
       "style": "IPY_MODEL_d5290e85683a458bafa52c6933954b27",
       "value": "<img src=\"Image_source.png\" id=\"snapshot_id_13_1535655050992\"/>\n <div id=\"snapshot_id_14_1535655050992\">Image_source.png</div>"
      }
     },
     "df0c8a53de5d44428a808bcb52983a8c": {
      "model_module": "jp_proxy_widget",
      "model_module_version": "^0.3.4",
      "model_name": "JSProxyModel",
      "state": {
       "_model_module_version": "^0.3.4",
       "_send_counter": 11,
       "_view_module_version": "^0.3.4",
       "error_msg": "No error",
       "layout": "IPY_MODEL_7be2dad37d24466faea7251b14f189ed",
       "rendered": true,
       "status": "Got results."
      }
     },
     "df3da05ba55a4559bde9c076d685904f": {
      "model_module": "@jupyter-widgets/controls",
      "model_module_version": "1.0.0",
      "model_name": "HTMLModel",
      "state": {
       "layout": "IPY_MODEL_ea923dfbd30b4c02bd7db2d01b04af2f",
       "style": "IPY_MODEL_feb022d2b0284991b5a6583de7516c6d",
       "value": "<img src=\"Image1.png\" id=\"snapshot_id_8_1535576541033\"/>\n <div id=\"snapshot_id_9_1535576541033\">Image1.png</div>"
      }
     },
     "df68da3da25a4f4f9ad714b4acbde3ea": {
      "model_module": "@jupyter-widgets/controls",
      "model_module_version": "1.0.0",
      "model_name": "DescriptionStyleModel",
      "state": {
       "description_width": ""
      }
     },
     "df771fce56cf4e79b76a7c713ca3966c": {
      "model_module": "@jupyter-widgets/base",
      "model_module_version": "1.0.0",
      "model_name": "LayoutModel",
      "state": {}
     },
     "e011e718892d4d9fae022447ba8848db": {
      "model_module": "@jupyter-widgets/controls",
      "model_module_version": "1.0.0",
      "model_name": "HTMLModel",
      "state": {
       "layout": "IPY_MODEL_1364cc1fd5bd4ce587f42d018ff09b2f",
       "style": "IPY_MODEL_d86cadb9fb3b47058c3d6d7653427cb6",
       "value": "<img src=\"Image_source.png\" id=\"snapshot_id_29_1535657096125\"/>\n <div id=\"snapshot_id_30_1535657096125\">Image_source.png</div>"
      }
     },
     "e06d8c716a174f76bb4a9f848fce8584": {
      "model_module": "@jupyter-widgets/controls",
      "model_module_version": "1.0.0",
      "model_name": "VBoxModel",
      "state": {
       "children": [
        "IPY_MODEL_1aec4757ca874bb39faf86f58a23671d",
        "IPY_MODEL_3ca9f206269048dcb659dce69f26e42f"
       ],
       "layout": "IPY_MODEL_16015099229a4071b3aa17ccda31dc56"
      }
     },
     "e0b7250cd29a471bbfad520c7b434c26": {
      "model_module": "@jupyter-widgets/base",
      "model_module_version": "1.0.0",
      "model_name": "LayoutModel",
      "state": {}
     },
     "e12a1a93869d413594a488352d12c8bb": {
      "model_module": "@jupyter-widgets/base",
      "model_module_version": "1.0.0",
      "model_name": "LayoutModel",
      "state": {}
     },
     "e138a2b4d78348acb0c66e02ceb01d1d": {
      "model_module": "@jupyter-widgets/controls",
      "model_module_version": "1.0.0",
      "model_name": "HTMLModel",
      "state": {
       "layout": "IPY_MODEL_36fae7ba96fc4256b7a89a65804e4fc5",
       "style": "IPY_MODEL_dbedcddbd3bb4df9add66d71e4c85e78",
       "value": "<img src=\"Image_source.png\" id=\"snapshot_id_53_1535657856051\"/>\n <div id=\"snapshot_id_54_1535657856051\">Image_source.png</div>"
      }
     },
     "e1d12bc553064516b6ede7f53e8ca859": {
      "model_module": "@jupyter-widgets/controls",
      "model_module_version": "1.0.0",
      "model_name": "TextModel",
      "state": {
       "description": "error",
       "layout": "IPY_MODEL_e99e7f2f1c5948029894401b39363547",
       "style": "IPY_MODEL_8c6d6915a5e046ebaa52bd3d15e23e1e",
       "value": "No error"
      }
     },
     "e2526042ca844a48bf723bd1b9391190": {
      "model_module": "@jupyter-widgets/base",
      "model_module_version": "1.0.0",
      "model_name": "LayoutModel",
      "state": {}
     },
     "e2571948c3084b04bc265d08fdcb3a1d": {
      "model_module": "@jupyter-widgets/base",
      "model_module_version": "1.0.0",
      "model_name": "LayoutModel",
      "state": {}
     },
     "e2a592a82087458b91e90ab29e29ef9e": {
      "model_module": "@jupyter-widgets/base",
      "model_module_version": "1.0.0",
      "model_name": "LayoutModel",
      "state": {}
     },
     "e2ade79ac7db493484929c8c98429ca2": {
      "model_module": "@jupyter-widgets/output",
      "model_module_version": "1.0.0",
      "model_name": "OutputModel",
      "state": {
       "layout": "IPY_MODEL_f4783e8c6a864ad2b44653d0b9f81c75",
       "outputs": [
        {
         "name": "stdout",
         "output_type": "stream",
         "text": "debug message area for widget:\n"
        }
       ]
      }
     },
     "e2bca77cebd74c7e933256665f152147": {
      "model_module": "@jupyter-widgets/base",
      "model_module_version": "1.0.0",
      "model_name": "LayoutModel",
      "state": {}
     },
     "e304e07554ec407e972c53ee1ca02154": {
      "model_module": "@jupyter-widgets/controls",
      "model_module_version": "1.0.0",
      "model_name": "VBoxModel",
      "state": {
       "children": [
        "IPY_MODEL_8962f03984fa41c4aac88f07068bc71d",
        "IPY_MODEL_d061da18861a441985782d15da76f350",
        "IPY_MODEL_57857904e8104a6c8e73870be574361f",
        "IPY_MODEL_2068f8ae4baf4c59b2590a4297943e70"
       ],
       "layout": "IPY_MODEL_abe19964e5e440e69540b5b5b9837fd1"
      }
     },
     "e3a4ffef7fbb46e49d74afdfd0f245e9": {
      "model_module": "@jupyter-widgets/controls",
      "model_module_version": "1.0.0",
      "model_name": "DescriptionStyleModel",
      "state": {
       "description_width": ""
      }
     },
     "e3b8c89b9fa34da69ee8eb9eb9b518e7": {
      "model_module": "jp_proxy_widget",
      "model_module_version": "^0.3.3",
      "model_name": "JSProxyModel",
      "state": {
       "_model_module_version": "^0.3.3",
       "_send_counter": 2,
       "_view_module_version": "^0.3.3",
       "error_msg": "No error",
       "layout": "IPY_MODEL_5a6e2e98b31c4001a21271dfff5210f7",
       "rendered": true,
       "status": "call back to <function callback_function at 0x107bf5a28>"
      }
     },
     "e3b9638bb04549aba609e22ee550ac74": {
      "model_module": "@jupyter-widgets/controls",
      "model_module_version": "1.0.0",
      "model_name": "HTMLModel",
      "state": {
       "layout": "IPY_MODEL_e5119414726b4ad4897bb1a7eb734c75",
       "style": "IPY_MODEL_aacb3b9876a843d59b98d60f1b2b9bd2",
       "value": "<img src=\"Image_source.png\" id=\"snapshot_id_7_1535654579227\"/>\n <div id=\"snapshot_id_8_1535654579227\">Image_source.png</div>"
      }
     },
     "e3f5e05c4b0e42a8833c2f2a24605a19": {
      "model_module": "@jupyter-widgets/base",
      "model_module_version": "1.0.0",
      "model_name": "LayoutModel",
      "state": {}
     },
     "e3fdd5170510476e818bae5921a478a8": {
      "model_module": "@jupyter-widgets/base",
      "model_module_version": "1.0.0",
      "model_name": "LayoutModel",
      "state": {}
     },
     "e5119414726b4ad4897bb1a7eb734c75": {
      "model_module": "@jupyter-widgets/base",
      "model_module_version": "1.0.0",
      "model_name": "LayoutModel",
      "state": {}
     },
     "e531b291cd5d47debaf4cbf437015518": {
      "model_module": "@jupyter-widgets/controls",
      "model_module_version": "1.0.0",
      "model_name": "DescriptionStyleModel",
      "state": {
       "description_width": ""
      }
     },
     "e561cdefbd2a4ebbaade042e2f6ebaf2": {
      "model_module": "@jupyter-widgets/base",
      "model_module_version": "1.0.0",
      "model_name": "LayoutModel",
      "state": {}
     },
     "e5730921a85c4a3bbaff1a1c4f0d3da2": {
      "model_module": "@jupyter-widgets/controls",
      "model_module_version": "1.0.0",
      "model_name": "TextModel",
      "state": {
       "description": "status:",
       "layout": "IPY_MODEL_75030b4ea22d4ffd89f4589c37e38463",
       "style": "IPY_MODEL_02f5899a8192499599d49fda38270d60",
       "value": "Got results."
      }
     },
     "e584d64e7efb4406aaf0122b4dd1dcbb": {
      "model_module": "@jupyter-widgets/controls",
      "model_module_version": "1.0.0",
      "model_name": "HTMLModel",
      "state": {
       "layout": "IPY_MODEL_8f4d3422aab04b969711b9877f375bef",
       "style": "IPY_MODEL_2a192479d50b4e3ebbb8b9a1d73bbc65",
       "value": "<img src=\"Image_source.png\" id=\"snapshot_id_11_1535654623433\"/>\n <div id=\"snapshot_id_12_1535654623433\">Image_source.png</div>"
      }
     },
     "e6413824c0824d87838ca3524bab7c83": {
      "model_module": "@jupyter-widgets/base",
      "model_module_version": "1.0.0",
      "model_name": "LayoutModel",
      "state": {}
     },
     "e6717c82486d46239983169035ea492d": {
      "model_module": "@jupyter-widgets/base",
      "model_module_version": "1.0.0",
      "model_name": "LayoutModel",
      "state": {}
     },
     "e77db5c0736c411e86fe2696e2b3ebbe": {
      "model_module": "jp_proxy_widget",
      "model_module_version": "^0.3.4",
      "model_name": "JSProxyModel",
      "state": {
       "_model_module_version": "^0.3.4",
       "_send_counter": 11,
       "_view_module_version": "^0.3.4",
       "error_msg": "No error",
       "layout": "IPY_MODEL_c583d39bfc0d49f1a1f3175e66cda0a3",
       "rendered": true,
       "status": "Got results."
      }
     },
     "e798cc3e7c4245d6bf7aa4e940aca648": {
      "model_module": "@jupyter-widgets/base",
      "model_module_version": "1.0.0",
      "model_name": "LayoutModel",
      "state": {
       "border": "1px solid black"
      }
     },
     "e79a8f43fdab48f2928bd0a711a8257a": {
      "model_module": "@jupyter-widgets/controls",
      "model_module_version": "1.0.0",
      "model_name": "VBoxModel",
      "state": {
       "children": [
        "IPY_MODEL_5fa86d314a194753b3c410f4d868c2d1",
        "IPY_MODEL_32e2f7775e5242748a011853f5cf654b",
        "IPY_MODEL_753f9dc6684847e98396224f785fb06d",
        "IPY_MODEL_f23aedcd4f6e410cb88748542ef5d2ff"
       ],
       "layout": "IPY_MODEL_6c829c61f17547ac89bef7a0b8f82cb0"
      }
     },
     "e7c899b96edb4b4689ed15d62468740a": {
      "model_module": "@jupyter-widgets/base",
      "model_module_version": "1.0.0",
      "model_name": "LayoutModel",
      "state": {}
     },
     "e7e8ca6758ff45e1a47fdb8a421a1dde": {
      "model_module": "@jupyter-widgets/controls",
      "model_module_version": "1.0.0",
      "model_name": "TextModel",
      "state": {
       "description": "status:",
       "layout": "IPY_MODEL_fc71a6c1caf64cc5b78b028e9912867f",
       "style": "IPY_MODEL_05f5330c6da54c51b7f2f88e13bd0bd7",
       "value": "Got results."
      }
     },
     "e8569d0f4e1f48de81f7bd13c2dad013": {
      "model_module": "@jupyter-widgets/controls",
      "model_module_version": "1.0.0",
      "model_name": "TabModel",
      "state": {
       "_titles": {
        "0": "Canvas",
        "1": "Snapshot"
       },
       "children": [
        "IPY_MODEL_c604c8c98d29480bb583bcd6bd7ead43",
        "IPY_MODEL_361afd65e6df48b49e5fa6b301aa7669"
       ],
       "layout": "IPY_MODEL_ce6f852b54d04fdd889c98d3fcaeeed0",
       "selected_index": 1
      }
     },
     "e86b866da0f045b9803d82d723cfbaa2": {
      "model_module": "@jupyter-widgets/controls",
      "model_module_version": "1.0.0",
      "model_name": "DescriptionStyleModel",
      "state": {
       "description_width": ""
      }
     },
     "e8a136c4217a422aaf75ef1c64dbf4b2": {
      "model_module": "@jupyter-widgets/controls",
      "model_module_version": "1.0.0",
      "model_name": "DescriptionStyleModel",
      "state": {
       "description_width": ""
      }
     },
     "e9919ea31d3c4f0f8b68182f46cca5f9": {
      "model_module": "@jupyter-widgets/base",
      "model_module_version": "1.0.0",
      "model_name": "LayoutModel",
      "state": {}
     },
     "e99e7f2f1c5948029894401b39363547": {
      "model_module": "@jupyter-widgets/base",
      "model_module_version": "1.0.0",
      "model_name": "LayoutModel",
      "state": {}
     },
     "e9c6fc0f699745919eb813a9ba249baf": {
      "model_module": "@jupyter-widgets/base",
      "model_module_version": "1.0.0",
      "model_name": "LayoutModel",
      "state": {}
     },
     "e9d9439769ff4fb0ac94792b99160613": {
      "model_module": "@jupyter-widgets/controls",
      "model_module_version": "1.0.0",
      "model_name": "DescriptionStyleModel",
      "state": {
       "description_width": ""
      }
     },
     "e9e8a6bee2d84a28afa9e6fd318e9624": {
      "model_module": "@jupyter-widgets/base",
      "model_module_version": "1.0.0",
      "model_name": "LayoutModel",
      "state": {}
     },
     "e9ec97ba371a4bbea372b59cbdfc4fe6": {
      "model_module": "@jupyter-widgets/output",
      "model_module_version": "1.0.0",
      "model_name": "OutputModel",
      "state": {
       "layout": "IPY_MODEL_2cf1cd472ccb4afd8c1c910e46434d3e",
       "outputs": [
        {
         "name": "stdout",
         "output_type": "stream",
         "text": "debug message area for widget:\n"
        }
       ]
      }
     },
     "ea2f230f8bdc489f8bb4c95d35ab60b9": {
      "model_module": "@jupyter-widgets/base",
      "model_module_version": "1.0.0",
      "model_name": "LayoutModel",
      "state": {}
     },
     "ea75abda405548bd80a5f2ab866076e8": {
      "model_module": "@jupyter-widgets/controls",
      "model_module_version": "1.0.0",
      "model_name": "TextModel",
      "state": {
       "description": "error",
       "layout": "IPY_MODEL_65414604ac964902a701f0c8f4164bf7",
       "style": "IPY_MODEL_8eaa5e1c7ff04daa8e612e5bb9941e1a",
       "value": "No error"
      }
     },
     "ea923dfbd30b4c02bd7db2d01b04af2f": {
      "model_module": "@jupyter-widgets/base",
      "model_module_version": "1.0.0",
      "model_name": "LayoutModel",
      "state": {}
     },
     "eaa18b990b6d4dd782865fa2e63710d2": {
      "model_module": "jp_proxy_widget",
      "model_module_version": "^0.3.4",
      "model_name": "JSProxyModel",
      "state": {
       "_model_module_version": "^0.3.4",
       "_send_counter": 9,
       "_view_module_version": "^0.3.4",
       "error_msg": "No error",
       "layout": "IPY_MODEL_f0923ef9903a491ea96d8f00c43f1eae",
       "rendered": false,
       "status": "Not yet rendered"
      }
     },
     "eb23f60ddbfd44a2bf27b6093b58cecd": {
      "model_module": "@jupyter-widgets/output",
      "model_module_version": "1.0.0",
      "model_name": "OutputModel",
      "state": {
       "layout": "IPY_MODEL_74703c87e7c84cc09049ee4022f81711",
       "outputs": [
        {
         "name": "stdout",
         "output_type": "stream",
         "text": "debug message area for widget:\n"
        },
        {
         "data": {
          "application/vnd.jupyter.widget-view+json": {
           "model_id": "e79a8f43fdab48f2928bd0a711a8257a",
           "version_major": 2,
           "version_minor": 0
          },
          "text/html": "<p>Failed to display Jupyter Widget of type <code>VBox</code>.</p>\n<p>\n  If you're reading this message in Jupyter Notebook or JupyterLab, it may mean\n  that the widgets JavaScript is still loading. If this message persists, it\n  likely means that the widgets JavaScript library is either not installed or\n  not enabled. See the <a href=\"https://ipywidgets.readthedocs.io/en/stable/user_install.html\">Jupyter\n  Widgets Documentation</a> for setup instructions.\n</p>\n<p>\n  If you're reading this message in another notebook frontend (for example, a static\n  rendering on GitHub or <a href=\"https://nbviewer.jupyter.org/\">NBViewer</a>),\n  it may mean that your frontend doesn't currently support widgets.\n</p>\n",
          "text/plain": "VBox(children=(SnapshotCanvas(status=u'Not yet rendered'), Text(value=u'Not yet rendered', description=u'status:'), Text(value=u'No error', description=u'error'), Output(layout=Layout(border=u'1px solid black'))))"
         },
         "metadata": {},
         "output_type": "display_data"
        }
       ]
      }
     },
     "eb3d23a5532d4f7eb85e5dd46b2bee9d": {
      "model_module": "@jupyter-widgets/base",
      "model_module_version": "1.0.0",
      "model_name": "LayoutModel",
      "state": {
       "border": "1px solid black"
      }
     },
     "eb49842fdc26409f8847ddb5736a878c": {
      "model_module": "@jupyter-widgets/base",
      "model_module_version": "1.0.0",
      "model_name": "LayoutModel",
      "state": {}
     },
     "eb6b307d16064357897b37a22d556788": {
      "model_module": "jp_proxy_widget",
      "model_module_version": "^0.3.4",
      "model_name": "JSProxyModel",
      "state": {
       "_model_module_version": "^0.3.4",
       "_send_counter": 2,
       "_view_module_version": "^0.3.4",
       "error_msg": "No error",
       "layout": "IPY_MODEL_431f8c5014fb430aac023627161ca46d",
       "rendered": true,
       "status": "Got results."
      }
     },
     "eb7251db0f1a43df9ad42644f2e1de95": {
      "model_module": "@jupyter-widgets/controls",
      "model_module_version": "1.0.0",
      "model_name": "VBoxModel",
      "state": {
       "children": [
        "IPY_MODEL_799e61837ff445d0bdd2ddb3e40fde85",
        "IPY_MODEL_4cfc01abe6f54810bbdc016d18236d60",
        "IPY_MODEL_ffc03cecb9c64ded90dbb2a4ae127cb6",
        "IPY_MODEL_1b76dffe6ae2438286fb4af7f14e5d61"
       ],
       "layout": "IPY_MODEL_6abf9582ac864fa189e0a1b6d99d44e6"
      }
     },
     "eb8d7b62995b43a688168c773008f93c": {
      "model_module": "@jupyter-widgets/controls",
      "model_module_version": "1.0.0",
      "model_name": "TextModel",
      "state": {
       "description": "error",
       "layout": "IPY_MODEL_e9e8a6bee2d84a28afa9e6fd318e9624",
       "style": "IPY_MODEL_4915524deb1f4bcdb25c81895a494f79",
       "value": "No error"
      }
     },
     "ebb691eb4005429dac291a966f178217": {
      "model_module": "@jupyter-widgets/controls",
      "model_module_version": "1.0.0",
      "model_name": "DescriptionStyleModel",
      "state": {
       "description_width": ""
      }
     },
     "ec14191c19b240f0a0f03b6314332735": {
      "model_module": "@jupyter-widgets/controls",
      "model_module_version": "1.0.0",
      "model_name": "HTMLModel",
      "state": {
       "layout": "IPY_MODEL_72f4fbfa33604d92a3d3fda3233f59be",
       "style": "IPY_MODEL_c7ab63e9f0a24aa7a5eedeab27011190",
       "value": "<img src=\"Image_source.png\" id=\"snapshot_id_15_1535655657735\"/>\n <div id=\"snapshot_id_16_1535655657735\">Image_source.png</div>"
      }
     },
     "ece5474fea7045d4b5c366de5565e86b": {
      "model_module": "@jupyter-widgets/base",
      "model_module_version": "1.0.0",
      "model_name": "LayoutModel",
      "state": {}
     },
     "ecfb0a37485a437ea09577eafbecdc75": {
      "model_module": "@jupyter-widgets/base",
      "model_module_version": "1.0.0",
      "model_name": "LayoutModel",
      "state": {}
     },
     "ed190cf9e5864d479067b5db350ec06d": {
      "model_module": "@jupyter-widgets/controls",
      "model_module_version": "1.0.0",
      "model_name": "VBoxModel",
      "state": {
       "children": [
        "IPY_MODEL_91df74075184476da76aa24dc1f9bf6f",
        "IPY_MODEL_72704b93ddb34f45b987be173c3773ab"
       ],
       "layout": "IPY_MODEL_57225c4deef54be18dfa4df566f7b5e6"
      }
     },
     "ed4987ada3774ac981c31b6af5668b9e": {
      "model_module": "@jupyter-widgets/base",
      "model_module_version": "1.0.0",
      "model_name": "LayoutModel",
      "state": {}
     },
     "edc5dab03623407496fa54ea718fd50a": {
      "model_module": "@jupyter-widgets/base",
      "model_module_version": "1.0.0",
      "model_name": "LayoutModel",
      "state": {}
     },
     "ede98f528ec544c1a8c28590831141f7": {
      "model_module": "@jupyter-widgets/controls",
      "model_module_version": "1.0.0",
      "model_name": "VBoxModel",
      "state": {
       "children": [
        "IPY_MODEL_de5f45e292ac4f5086c4893e6b2fb9c9",
        "IPY_MODEL_d09e9fe020d64deba284f418b24bdd2a",
        "IPY_MODEL_d3999a5c7ba7451aa41e1b075f599952",
        "IPY_MODEL_3b696dd29ffd4ac38bf4e098bee64e6d"
       ],
       "layout": "IPY_MODEL_45b0ee441c884c769d3eee29bf2b4fe8"
      }
     },
     "ee18fe8414f54a148199edea8e123978": {
      "model_module": "@jupyter-widgets/controls",
      "model_module_version": "1.0.0",
      "model_name": "DescriptionStyleModel",
      "state": {
       "description_width": ""
      }
     },
     "ee3b2a5fef154e5b9d080c70299aa8f5": {
      "model_module": "jp_proxy_widget",
      "model_module_version": "^0.3.4",
      "model_name": "JSProxyModel",
      "state": {
       "_model_module_version": "^0.3.4",
       "_send_counter": 8,
       "_view_module_version": "^0.3.4",
       "error_msg": "No error",
       "layout": "IPY_MODEL_7cf23437a7ee4b998da0f7d997f423c2",
       "rendered": true,
       "status": "Got results."
      }
     },
     "eed360cc6f6342e58daa96c5dcbb7bdc": {
      "model_module": "@jupyter-widgets/controls",
      "model_module_version": "1.0.0",
      "model_name": "DescriptionStyleModel",
      "state": {
       "description_width": ""
      }
     },
     "ef40c908f85a456885ee8848a91d4067": {
      "model_module": "@jupyter-widgets/controls",
      "model_module_version": "1.0.0",
      "model_name": "TextModel",
      "state": {
       "description": "error",
       "layout": "IPY_MODEL_2a23fb7153684b998e427cb21c30275a",
       "style": "IPY_MODEL_68d69e58833e40fa85d2519e23bd66cb",
       "value": "No error"
      }
     },
     "ef51c18122984b0ca6ccccf2d4590cca": {
      "model_module": "@jupyter-widgets/controls",
      "model_module_version": "1.0.0",
      "model_name": "VBoxModel",
      "state": {
       "children": [
        "IPY_MODEL_8e4958c95f9941ad97b6084c83b5b5d2",
        "IPY_MODEL_a10db383099e47fba50cec213f7fc71d",
        "IPY_MODEL_eb8d7b62995b43a688168c773008f93c",
        "IPY_MODEL_1220cf677ae848a4a11be21b2981bfa7"
       ],
       "layout": "IPY_MODEL_014e0984f19d4e17b7ce3034c8a15346"
      }
     },
     "ef5badc3ed0c4abda220b8f868d2e45b": {
      "model_module": "@jupyter-widgets/controls",
      "model_module_version": "1.0.0",
      "model_name": "DescriptionStyleModel",
      "state": {
       "description_width": ""
      }
     },
     "ef8a7018a49f4f9d910061e2bd46aea9": {
      "model_module": "@jupyter-widgets/controls",
      "model_module_version": "1.0.0",
      "model_name": "DescriptionStyleModel",
      "state": {
       "description_width": ""
      }
     },
     "efb7d046b69246d185e133a489a68a84": {
      "model_module": "@jupyter-widgets/controls",
      "model_module_version": "1.0.0",
      "model_name": "DescriptionStyleModel",
      "state": {
       "description_width": ""
      }
     },
     "efbe0659f59e47d29726507393b3c2e2": {
      "model_module": "@jupyter-widgets/controls",
      "model_module_version": "1.0.0",
      "model_name": "VBoxModel",
      "state": {
       "children": [
        "IPY_MODEL_92c82dd771ef48bb86219739fe0028e9",
        "IPY_MODEL_d56f4efedbac457ab7446faf1d3fe0d7",
        "IPY_MODEL_10362e1686df46deb69fd56836fa9a39",
        "IPY_MODEL_2dfabf02a523417ba599968d23cab186"
       ],
       "layout": "IPY_MODEL_48982cac8b3b4e4d8f6d73a816e18adb"
      }
     },
     "efd3628bf7074738bb745c5fc410cba5": {
      "model_module": "@jupyter-widgets/controls",
      "model_module_version": "1.0.0",
      "model_name": "TextModel",
      "state": {
       "description": "status:",
       "layout": "IPY_MODEL_40ee76dc184246169e72ee151cf50c11",
       "style": "IPY_MODEL_5df4387b877145e3b4f0944792c05915",
       "value": "Got results."
      }
     },
     "f005f87d22614f1fb07da98b45a5b29a": {
      "model_module": "jp_proxy_widget",
      "model_module_version": "^0.3.4",
      "model_name": "JSProxyModel",
      "state": {
       "_model_module_version": "^0.3.4",
       "_send_counter": 9,
       "_view_module_version": "^0.3.4",
       "error_msg": "No error",
       "layout": "IPY_MODEL_abfa8525fc1d493b9b79a4e08920c6dd",
       "rendered": true,
       "status": "Got results."
      }
     },
     "f065166da6de449d85f8758a142d6951": {
      "model_module": "@jupyter-widgets/controls",
      "model_module_version": "1.0.0",
      "model_name": "DescriptionStyleModel",
      "state": {
       "description_width": ""
      }
     },
     "f0664d6ccb904ebba7fdac490bc3b632": {
      "model_module": "@jupyter-widgets/output",
      "model_module_version": "1.0.0",
      "model_name": "OutputModel",
      "state": {
       "layout": "IPY_MODEL_332d706ae4a1484bb853339136e1d5a2",
       "outputs": [
        {
         "name": "stdout",
         "output_type": "stream",
         "text": "debug message area for widget:\n"
        }
       ]
      }
     },
     "f074e438da1b4bbd9a7943715b9f02c5": {
      "model_module": "@jupyter-widgets/controls",
      "model_module_version": "1.0.0",
      "model_name": "TextModel",
      "state": {
       "description": "error",
       "layout": "IPY_MODEL_8112d201d9324235becdf1471f3cf41c",
       "style": "IPY_MODEL_1b44164d376044d8b1ce9d337a2f817e",
       "value": "No error"
      }
     },
     "f0923ef9903a491ea96d8f00c43f1eae": {
      "model_module": "@jupyter-widgets/base",
      "model_module_version": "1.0.0",
      "model_name": "LayoutModel",
      "state": {}
     },
     "f09aa9ee0c554c87bed87b3d58057ad5": {
      "model_module": "@jupyter-widgets/controls",
      "model_module_version": "1.0.0",
      "model_name": "DescriptionStyleModel",
      "state": {
       "description_width": ""
      }
     },
     "f0a9d48f49c74512ab7d96702731b1a6": {
      "model_module": "@jupyter-widgets/base",
      "model_module_version": "1.0.0",
      "model_name": "LayoutModel",
      "state": {}
     },
     "f10fdf736fcc4c8c8b7bf77f62ef9c6c": {
      "model_module": "@jupyter-widgets/controls",
      "model_module_version": "1.0.0",
      "model_name": "TextModel",
      "state": {
       "description": "error",
       "layout": "IPY_MODEL_9500717c070147f58840ab4666339732",
       "style": "IPY_MODEL_90117c09c7b4415d88afcbd680ff2c14",
       "value": "No error"
      }
     },
     "f17ac63a473a4a7986550fc5177fa677": {
      "model_module": "@jupyter-widgets/base",
      "model_module_version": "1.0.0",
      "model_name": "LayoutModel",
      "state": {}
     },
     "f18ce8c241f947aa9b6c7ea3edf5d52a": {
      "model_module": "@jupyter-widgets/base",
      "model_module_version": "1.0.0",
      "model_name": "LayoutModel",
      "state": {}
     },
     "f1f2a845c06746f481d9f896f489c041": {
      "model_module": "@jupyter-widgets/base",
      "model_module_version": "1.0.0",
      "model_name": "LayoutModel",
      "state": {}
     },
     "f23aedcd4f6e410cb88748542ef5d2ff": {
      "model_module": "@jupyter-widgets/output",
      "model_module_version": "1.0.0",
      "model_name": "OutputModel",
      "state": {
       "layout": "IPY_MODEL_a6211ed52ef64b5b851f1bf67b723887",
       "outputs": [
        {
         "name": "stdout",
         "output_type": "stream",
         "text": "debug message area for widget:\n"
        }
       ]
      }
     },
     "f25ccac73f794aa585ba47d5c4cfa170": {
      "model_module": "@jupyter-widgets/controls",
      "model_module_version": "1.0.0",
      "model_name": "DescriptionStyleModel",
      "state": {
       "description_width": ""
      }
     },
     "f26d4e0e798943f7893da796b57b4dba": {
      "model_module": "@jupyter-widgets/output",
      "model_module_version": "1.0.0",
      "model_name": "OutputModel",
      "state": {
       "layout": "IPY_MODEL_54b3716ec88549969b2583d5bcc379ff",
       "outputs": [
        {
         "name": "stdout",
         "output_type": "stream",
         "text": "debug message area for widget:\n"
        }
       ]
      }
     },
     "f2c3799a6dd64fff9f0bda5d6a5bf09c": {
      "model_module": "@jupyter-widgets/controls",
      "model_module_version": "1.0.0",
      "model_name": "DescriptionStyleModel",
      "state": {
       "description_width": ""
      }
     },
     "f2e02a4ce3964084af59c6c621d93e10": {
      "model_module": "@jupyter-widgets/base",
      "model_module_version": "1.0.0",
      "model_name": "LayoutModel",
      "state": {}
     },
     "f346f90dc05d42a1a1fd7efd67a909ef": {
      "model_module": "@jupyter-widgets/controls",
      "model_module_version": "1.0.0",
      "model_name": "TextModel",
      "state": {
       "description": "status:",
       "layout": "IPY_MODEL_55ae926002d9439185a5834f7126d0ff",
       "style": "IPY_MODEL_cd9b36bd2e644024977d7327f0d1a58b",
       "value": "Got results."
      }
     },
     "f3e9e0eb2ad6468190a88c3db36477d9": {
      "model_module": "jp_proxy_widget",
      "model_module_version": "^0.3.4",
      "model_name": "JSProxyModel",
      "state": {
       "_model_module_version": "^0.3.4",
       "_send_counter": 8,
       "_view_module_version": "^0.3.4",
       "error_msg": "No error",
       "layout": "IPY_MODEL_11b8a0274f634a11b19b6dafb8f2b914",
       "rendered": true,
       "status": "Got results."
      }
     },
     "f41ebda9974e4c4a9fd2180e0c82a48c": {
      "model_module": "@jupyter-widgets/base",
      "model_module_version": "1.0.0",
      "model_name": "LayoutModel",
      "state": {}
     },
     "f47699003d594b47842c0389358467c0": {
      "model_module": "@jupyter-widgets/base",
      "model_module_version": "1.0.0",
      "model_name": "LayoutModel",
      "state": {}
     },
     "f4783e8c6a864ad2b44653d0b9f81c75": {
      "model_module": "@jupyter-widgets/base",
      "model_module_version": "1.0.0",
      "model_name": "LayoutModel",
      "state": {
       "border": "1px solid black"
      }
     },
     "f4cf1283e1024458a8e37a26a26b93f3": {
      "model_module": "@jupyter-widgets/controls",
      "model_module_version": "1.0.0",
      "model_name": "HTMLModel",
      "state": {
       "layout": "IPY_MODEL_0d8f26cfe8ec4862a346ca1c75bb9ef8",
       "style": "IPY_MODEL_3544be68ba22410ebf72989a785ccccf",
       "value": "<img src=\"Image_source.png\" id=\"snapshot_id_9_1535655592431\"/>\n <div id=\"snapshot_id_10_1535655592431\">Image_source.png</div>"
      }
     },
     "f522415c1d034855b43fffc48f9899ef": {
      "model_module": "jp_proxy_widget",
      "model_module_version": "^0.3.4",
      "model_name": "JSProxyModel",
      "state": {
       "_model_module_version": "^0.3.4",
       "_send_counter": 8,
       "_view_module_version": "^0.3.4",
       "error_msg": "No error",
       "layout": "IPY_MODEL_cf622430d52145e7a410e94f09839b65",
       "rendered": false,
       "status": "Not yet rendered"
      }
     },
     "f55ceb08134145359761b2437c98a61a": {
      "model_module": "jp_proxy_widget",
      "model_module_version": "^0.3.4",
      "model_name": "JSProxyModel",
      "state": {
       "_model_module_version": "^0.3.4",
       "_send_counter": 11,
       "_view_module_version": "^0.3.4",
       "error_msg": "No error",
       "layout": "IPY_MODEL_037de0476b0141ca9300a22f16dd1772",
       "rendered": true,
       "status": "Got results."
      }
     },
     "f5a1ff6ef3b94461bd89a2117389db90": {
      "model_module": "@jupyter-widgets/base",
      "model_module_version": "1.0.0",
      "model_name": "LayoutModel",
      "state": {}
     },
     "f5cbfdf493544629ba3a4462d49d6fe6": {
      "model_module": "@jupyter-widgets/base",
      "model_module_version": "1.0.0",
      "model_name": "LayoutModel",
      "state": {
       "border": "1px solid black"
      }
     },
     "f61b9115bc0d464c8dc76ef064689534": {
      "model_module": "@jupyter-widgets/base",
      "model_module_version": "1.0.0",
      "model_name": "LayoutModel",
      "state": {}
     },
     "f70a7b39af664dad93fb3a7e158bfb06": {
      "model_module": "@jupyter-widgets/base",
      "model_module_version": "1.0.0",
      "model_name": "LayoutModel",
      "state": {}
     },
     "f72d7abdaf46484cb749e1bbc52c15e6": {
      "model_module": "@jupyter-widgets/base",
      "model_module_version": "1.0.0",
      "model_name": "LayoutModel",
      "state": {}
     },
     "f7336ef887a64866a65321dd247cb250": {
      "model_module": "@jupyter-widgets/controls",
      "model_module_version": "1.0.0",
      "model_name": "DescriptionStyleModel",
      "state": {
       "description_width": ""
      }
     },
     "f75a3c986f7541a7b974bc4c1dd02224": {
      "model_module": "@jupyter-widgets/base",
      "model_module_version": "1.0.0",
      "model_name": "LayoutModel",
      "state": {}
     },
     "f8592c9cc7914a10aa75149810cc06da": {
      "model_module": "@jupyter-widgets/base",
      "model_module_version": "1.0.0",
      "model_name": "LayoutModel",
      "state": {}
     },
     "f869e451f6e84169a6b0dbb394464898": {
      "model_module": "@jupyter-widgets/controls",
      "model_module_version": "1.0.0",
      "model_name": "DescriptionStyleModel",
      "state": {
       "description_width": ""
      }
     },
     "f878b0894b454170b22668f572c340eb": {
      "model_module": "@jupyter-widgets/base",
      "model_module_version": "1.0.0",
      "model_name": "LayoutModel",
      "state": {}
     },
     "f8b358b257504acf9671d1354b3a0615": {
      "model_module": "@jupyter-widgets/controls",
      "model_module_version": "1.0.0",
      "model_name": "TextModel",
      "state": {
       "description": "error",
       "layout": "IPY_MODEL_a42c9f8bc5d147ca8aa457a7dbc5db94",
       "style": "IPY_MODEL_aba1aea9ecc24e3eb1670de8b4cdfb15",
       "value": "No error"
      }
     },
     "f90a0be554004d099967dc08f00e947a": {
      "model_module": "@jupyter-widgets/controls",
      "model_module_version": "1.0.0",
      "model_name": "TextModel",
      "state": {
       "description": "status:",
       "layout": "IPY_MODEL_962eedcc3c994206987c8629759926a8",
       "style": "IPY_MODEL_4acd1f169db042b88ccecb6c14a7dbe5",
       "value": "Got results."
      }
     },
     "f97826a6c3ca4fd2b8896ce9b3895e51": {
      "model_module": "@jupyter-widgets/controls",
      "model_module_version": "1.0.0",
      "model_name": "HTMLModel",
      "state": {
       "layout": "IPY_MODEL_703df3ba5c88464c8ec6e92686cc5443",
       "style": "IPY_MODEL_e8a136c4217a422aaf75ef1c64dbf4b2",
       "value": "<img src=\"Image_source.png\" id=\"snapshot_id_25_1535656917761\"/>\n <div id=\"snapshot_id_26_1535656917761\">Image_source.png</div>"
      }
     },
     "fb888d2926684ff48c6a7cafa07b47d8": {
      "model_module": "@jupyter-widgets/base",
      "model_module_version": "1.0.0",
      "model_name": "LayoutModel",
      "state": {
       "border": "1px solid black"
      }
     },
     "fbaec728544b45fabec9b0bac9bfc16c": {
      "model_module": "@jupyter-widgets/base",
      "model_module_version": "1.0.0",
      "model_name": "LayoutModel",
      "state": {}
     },
     "fbc12baf6db24a0fb5107b850baa4ddc": {
      "model_module": "@jupyter-widgets/controls",
      "model_module_version": "1.0.0",
      "model_name": "DescriptionStyleModel",
      "state": {
       "description_width": ""
      }
     },
     "fc71a6c1caf64cc5b78b028e9912867f": {
      "model_module": "@jupyter-widgets/base",
      "model_module_version": "1.0.0",
      "model_name": "LayoutModel",
      "state": {}
     },
     "fc7cd058cf0344999fd94abcda50fd8c": {
      "model_module": "@jupyter-widgets/controls",
      "model_module_version": "1.0.0",
      "model_name": "TextModel",
      "state": {
       "description": "status:",
       "layout": "IPY_MODEL_973f901c33ee4b48b6b597a721695f91",
       "style": "IPY_MODEL_0a93c645bbf9439994ef48072d3ca715",
       "value": "Got results."
      }
     },
     "fc97fcb5620c40e082c7939368c20537": {
      "model_module": "@jupyter-widgets/base",
      "model_module_version": "1.0.0",
      "model_name": "LayoutModel",
      "state": {}
     },
     "fd1afd3a3f334aba9f66df1dbac943d0": {
      "model_module": "@jupyter-widgets/base",
      "model_module_version": "1.0.0",
      "model_name": "LayoutModel",
      "state": {}
     },
     "fd276eb79bed4722ac1924ba8f061e06": {
      "model_module": "@jupyter-widgets/base",
      "model_module_version": "1.0.0",
      "model_name": "LayoutModel",
      "state": {}
     },
     "fd85de58a8d54042b1d28481968c5191": {
      "model_module": "@jupyter-widgets/controls",
      "model_module_version": "1.0.0",
      "model_name": "VBoxModel",
      "state": {
       "children": [
        "IPY_MODEL_2bc99e4e8019454780c37b9007fd04cd",
        "IPY_MODEL_b59546cf67554bfdbc7c1390e7825517",
        "IPY_MODEL_5328b6608efc463398003a82c19e784c",
        "IPY_MODEL_f26d4e0e798943f7893da796b57b4dba"
       ],
       "layout": "IPY_MODEL_315df812d3ef497ba9f8dca707b003a5"
      }
     },
     "fdd7cdb32c0148649787948b355f144f": {
      "model_module": "@jupyter-widgets/base",
      "model_module_version": "1.0.0",
      "model_name": "LayoutModel",
      "state": {}
     },
     "fdfd09d18dcc43918e38617bb68e17f9": {
      "model_module": "@jupyter-widgets/base",
      "model_module_version": "1.0.0",
      "model_name": "LayoutModel",
      "state": {
       "border": "1px solid black"
      }
     },
     "fe86c071699343c79d143adb1d10a6f7": {
      "model_module": "@jupyter-widgets/controls",
      "model_module_version": "1.0.0",
      "model_name": "VBoxModel",
      "state": {
       "children": [
        "IPY_MODEL_345d2643665d4ee7a9c31c1de13caec4",
        "IPY_MODEL_c0f22202a0934c43ba1050d73ab9657c"
       ],
       "layout": "IPY_MODEL_aa62fe0ac3d041db9a8d408b9bae2cb8"
      }
     },
     "fe9ada8132d54ebab696414435a90303": {
      "model_module": "@jupyter-widgets/output",
      "model_module_version": "1.0.0",
      "model_name": "OutputModel",
      "state": {
       "layout": "IPY_MODEL_eb3d23a5532d4f7eb85e5dd46b2bee9d",
       "outputs": [
        {
         "name": "stdout",
         "output_type": "stream",
         "text": "debug message area for widget:\n"
        }
       ]
      }
     },
     "feb022d2b0284991b5a6583de7516c6d": {
      "model_module": "@jupyter-widgets/controls",
      "model_module_version": "1.0.0",
      "model_name": "DescriptionStyleModel",
      "state": {
       "description_width": ""
      }
     },
     "feda2dfb644d47b2aa9cd8435c0984a5": {
      "model_module": "@jupyter-widgets/output",
      "model_module_version": "1.0.0",
      "model_name": "OutputModel",
      "state": {
       "layout": "IPY_MODEL_fb888d2926684ff48c6a7cafa07b47d8",
       "outputs": [
        {
         "name": "stdout",
         "output_type": "stream",
         "text": "debug message area for widget:\n"
        }
       ]
      }
     },
     "fedbcefb267f427bb52316f03665db5c": {
      "model_module": "@jupyter-widgets/base",
      "model_module_version": "1.0.0",
      "model_name": "LayoutModel",
      "state": {}
     },
     "fee54ba555d04d56b1f6cded26a02a23": {
      "model_module": "@jupyter-widgets/controls",
      "model_module_version": "1.0.0",
      "model_name": "VBoxModel",
      "state": {
       "children": [
        "IPY_MODEL_5b91025216694f24874eef39d26b8fdd",
        "IPY_MODEL_4fca3a80b7e74263a8a16bc6a3f87889",
        "IPY_MODEL_8041e0612f0b47d0957fd4fd90086982",
        "IPY_MODEL_c00b03cc213845a0a90b94765bcab89c"
       ],
       "layout": "IPY_MODEL_cb2a3913ba9b438892f87750786d5fa9"
      }
     },
     "ff6ead014d9343a48fd07fb454db381c": {
      "model_module": "@jupyter-widgets/base",
      "model_module_version": "1.0.0",
      "model_name": "LayoutModel",
      "state": {}
     },
     "ff92ccdcbdfa4fb38809bce516be41c8": {
      "model_module": "@jupyter-widgets/controls",
      "model_module_version": "1.0.0",
      "model_name": "TextModel",
      "state": {
       "description": "error",
       "layout": "IPY_MODEL_8cd92acdd7c246a8af6ca42f1ec78b1e",
       "style": "IPY_MODEL_0b8dade43c3a46c9986c94e2f687c7f9",
       "value": "No error"
      }
     },
     "ffc03cecb9c64ded90dbb2a4ae127cb6": {
      "model_module": "@jupyter-widgets/controls",
      "model_module_version": "1.0.0",
      "model_name": "TextModel",
      "state": {
       "description": "error",
       "layout": "IPY_MODEL_037cacdbd25249ec99262d32e909ba54",
       "style": "IPY_MODEL_d19f399cd2f74ea8af46277245a9b1ab",
       "value": "No error"
      }
     },
     "ffda226daa4e4bd8803cb60731789504": {
      "model_module": "@jupyter-widgets/base",
      "model_module_version": "1.0.0",
      "model_name": "LayoutModel",
      "state": {}
     }
    },
    "version_major": 2,
    "version_minor": 0
   }
  }
 },
 "nbformat": 4,
 "nbformat_minor": 2
}
