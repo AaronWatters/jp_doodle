{
 "cells": [
  {
   "cell_type": "markdown",
   "metadata": {
    "deletable": true,
    "editable": true
   },
   "source": [
    " <img src=\"Images.png\" width=\"320\"> \n",
    " \n",
    "# Images\n",
    "\n",
    "\n",
    "You can draw images on canvases in two steps.\n",
    "First you must load the image and identify it with a name,\n",
    "and afterward you can draw the image any number of times\n",
    "by providing x, y corner coordinates with width and height.\n",
    "You may also specify a rectangle inside the image to draw."
   ]
  },
  {
   "cell_type": "code",
   "execution_count": 2,
   "metadata": {
    "collapsed": true,
    "deletable": true,
    "editable": true
   },
   "outputs": [],
   "source": [
    "from jp_doodle import dual_canvas\n",
    "from IPython.display import display"
   ]
  },
  {
   "cell_type": "code",
   "execution_count": 4,
   "metadata": {
    "collapsed": false,
    "deletable": true,
    "editable": true
   },
   "outputs": [
    {
     "data": {
      "application/vnd.jupyter.widget-view+json": {
       "model_id": "745ce7d1c4a848d1895c4062e3043a56",
       "version_major": 2,
       "version_minor": 0
      },
      "text/html": [
       "<p>Failed to display Jupyter Widget of type <code>Tab</code>.</p>\n",
       "<p>\n",
       "  If you're reading this message in Jupyter Notebook or JupyterLab, it may mean\n",
       "  that the widgets JavaScript is still loading. If this message persists, it\n",
       "  likely means that the widgets JavaScript library is either not installed or\n",
       "  not enabled. See the <a href=\"https://ipywidgets.readthedocs.io/en/stable/user_install.html\">Jupyter\n",
       "  Widgets Documentation</a> for setup instructions.\n",
       "</p>\n",
       "<p>\n",
       "  If you're reading this message in another notebook frontend (for example, a static\n",
       "  rendering on GitHub or <a href=\"https://nbviewer.jupyter.org/\">NBViewer</a>),\n",
       "  it may mean that your frontend doesn't currently support widgets.\n",
       "</p>\n"
      ],
      "text/plain": [
       "Tab(children=(VBox(children=(SnapshotCanvas(status=u'Not yet rendered'), JSProxyWidget(status=u'Not yet rendered'))), HTML(value=u'<img src=\"Image0.png\" id=\"snapshot_id_3_1535576464657\"/>\\n <div id=\"snapshot_id_4_1535576464657\">Image0.png</div>')), _titles={u'1': 'Snapshot', u'0': 'Canvas'})"
      ]
     },
     "metadata": {},
     "output_type": "display_data"
    }
   ],
   "source": [
    "# In this demonstration we do most of the work in Javascript.\n",
    "\n",
    "demo = dual_canvas.SnapshotCanvas(\"Image0.png\", width=320, height=220)\n",
    "demo.display_all()\n",
    "\n",
    "demo.js_init(\"\"\"\n",
    "\n",
    "// Mandrill from a remote image\n",
    "var mandrill_url = \"http://sipi.usc.edu/database/preview/misc/4.2.03.png\";\n",
    "// This local image reference works in \"classic\" notebook, but not in Jupyter Lab.\n",
    "var mandrill_url = \"../mandrill.png\"\n",
    "element.name_image_url(\"mandrill\", mandrill_url);\n",
    "\n",
    "// just the eyes, not the whole image\n",
    "element.named_image({\n",
    "    name: \"mandrill eyes\",\n",
    "    image_name: \"mandrill\", x:0, y:-40, w:80, h:30,\n",
    "    sx:30, sy:15, sWidth:140, sHeight:20\n",
    "    });\n",
    "    \n",
    "element.named_image({\n",
    "    name: \"whole mandrill\",\n",
    "    image_name: \"mandrill\", x:0, y:0, w:200, h:200\n",
    "    });\n",
    "    \n",
    "element.named_image({\n",
    "    name: \"mandrill square\",\n",
    "    image_name: \"mandrill\", x:210, y:0, w:200, h:200,\n",
    "    sx:40, sy:14, sWidth:30, sHeight:30\n",
    "    });\n",
    "    \n",
    "element.rect({name:\"highlight\", x:40, y:200-14, w:30, h:-30,\n",
    "    color:\"rgba(200,200,100,0.7)\"});\n",
    "    \n",
    "// events to drag the square and adjust the detail.\n",
    "// Attach a mousedown event which picks the hightlight.\n",
    "var moving = false;\n",
    "var on_mouse_down = function(event) {\n",
    "    if (event.canvas_name==\"highlight\") {\n",
    "        moving = true;\n",
    "    }\n",
    "};\n",
    "element.on_canvas_event(\"mousedown\", on_mouse_down);\n",
    "\n",
    "// Attach a mousemove event which moves the highlight.\n",
    "var on_mouse_move = function(event) {\n",
    "    if (moving) {\n",
    "        var loc = element.event_model_location(event);\n",
    "        var x = loc.x;\n",
    "        var y = loc.y;\n",
    "        if ((x > 0) && (y > 30) && (x < 170) && (y < 200)) {\n",
    "            element.change_element(\"highlight\", {x:loc.x, y:loc.y});\n",
    "            element.change_element(\"mandrill square\", {sx:loc.x, sy:200-loc.y})\n",
    "        }\n",
    "    } \n",
    "};\n",
    "element.on_canvas_event(\"mousemove\", on_mouse_move);\n",
    "\n",
    "// Attach a mouseup event which \"drops\" the current picked up object and re-fits the canvas.\n",
    "var on_mouse_up = function(event) {\n",
    "    moving = false;\n",
    "};\n",
    "element.on_canvas_event(\"mouseup\", on_mouse_up);\n",
    "\n",
    "// Fit the figure into the available space\n",
    "element.fit(null, 10);\n",
    "\n",
    "$(\"<div>Drag the yellow square to adjust the detail view</div>\").appendTo(element);\n",
    "\"\"\")"
   ]
  },
  {
   "cell_type": "code",
   "execution_count": 3,
   "metadata": {
    "collapsed": true,
    "deletable": true,
    "editable": true
   },
   "outputs": [],
   "source": [
    "#demo.save_pixels_to_png_async(\"Images.png\")"
   ]
  },
  {
   "cell_type": "markdown",
   "metadata": {
    "deletable": true,
    "editable": true
   },
   "source": [
    "# You can also load images from numpy arrays"
   ]
  },
  {
   "cell_type": "code",
   "execution_count": 6,
   "metadata": {
    "collapsed": false,
    "deletable": true,
    "editable": true
   },
   "outputs": [
    {
     "data": {
      "text/plain": [
       "((200, 200, 3), 0.96470588, 0.094117649)"
      ]
     },
     "execution_count": 6,
     "metadata": {},
     "output_type": "execute_result"
    }
   ],
   "source": [
    "# reading an image from python\n",
    "import matplotlib.image as mpimg\n",
    "img = mpimg.imread('../mandrill.png')\n",
    "img.shape, img.max(), img.min()"
   ]
  },
  {
   "cell_type": "code",
   "execution_count": 7,
   "metadata": {
    "collapsed": false,
    "deletable": true,
    "editable": true
   },
   "outputs": [
    {
     "data": {
      "application/vnd.jupyter.widget-view+json": {
       "model_id": "d0cb7c5c210d4acd8f9965c6985465ed",
       "version_major": 2,
       "version_minor": 0
      },
      "text/html": [
       "<p>Failed to display Jupyter Widget of type <code>Tab</code>.</p>\n",
       "<p>\n",
       "  If you're reading this message in Jupyter Notebook or JupyterLab, it may mean\n",
       "  that the widgets JavaScript is still loading. If this message persists, it\n",
       "  likely means that the widgets JavaScript library is either not installed or\n",
       "  not enabled. See the <a href=\"https://ipywidgets.readthedocs.io/en/stable/user_install.html\">Jupyter\n",
       "  Widgets Documentation</a> for setup instructions.\n",
       "</p>\n",
       "<p>\n",
       "  If you're reading this message in another notebook frontend (for example, a static\n",
       "  rendering on GitHub or <a href=\"https://nbviewer.jupyter.org/\">NBViewer</a>),\n",
       "  it may mean that your frontend doesn't currently support widgets.\n",
       "</p>\n"
      ],
      "text/plain": [
       "Tab(children=(VBox(children=(SnapshotCanvas(status=u'Not yet rendered'), JSProxyWidget(status=u'Not yet rendered'))), HTML(value=u'<img src=\"Image1.png\" id=\"snapshot_id_8_1535576541033\"/>\\n <div id=\"snapshot_id_9_1535576541033\">Image1.png</div>')), _titles={u'1': 'Snapshot', u'0': 'Canvas'})"
      ]
     },
     "metadata": {},
     "output_type": "display_data"
    }
   ],
   "source": [
    "demo2 = dual_canvas.SnapshotCanvas(\"Image1.png\", width=320, height=220)\n",
    "demo2.display_all()\n",
    "# Scaled the image to byte values.\n",
    "inverted = (1 - img) * 255\n",
    "# Load the image to the canvas and name it.\n",
    "demo2.name_image_array(\"inverted mandrill\", inverted)\n",
    "# Draw the image by name.\n",
    "demo2.named_image(\"inverted mandrill\", 50, 50, 210, 130)"
   ]
  },
  {
   "cell_type": "code",
   "execution_count": 8,
   "metadata": {
    "collapsed": false,
    "deletable": true,
    "editable": true
   },
   "outputs": [
    {
     "data": {
      "text/plain": [
       "((220, 320, 4), 1.0, 0.0)"
      ]
     },
     "execution_count": 8,
     "metadata": {},
     "output_type": "execute_result"
    }
   ],
   "source": [
    "# You can also use images with alpha channels\n",
    "import matplotlib.image as mpimg\n",
    "img2 = mpimg.imread('Transitions.png')\n",
    "img2.shape, img2.max(), img2.min()"
   ]
  },
  {
   "cell_type": "code",
   "execution_count": 9,
   "metadata": {
    "collapsed": false,
    "deletable": true,
    "editable": true
   },
   "outputs": [
    {
     "data": {
      "application/vnd.jupyter.widget-view+json": {
       "model_id": "da08b8dda22a47d09499b7549eee6ffd",
       "version_major": 2,
       "version_minor": 0
      },
      "text/html": [
       "<p>Failed to display Jupyter Widget of type <code>Tab</code>.</p>\n",
       "<p>\n",
       "  If you're reading this message in Jupyter Notebook or JupyterLab, it may mean\n",
       "  that the widgets JavaScript is still loading. If this message persists, it\n",
       "  likely means that the widgets JavaScript library is either not installed or\n",
       "  not enabled. See the <a href=\"https://ipywidgets.readthedocs.io/en/stable/user_install.html\">Jupyter\n",
       "  Widgets Documentation</a> for setup instructions.\n",
       "</p>\n",
       "<p>\n",
       "  If you're reading this message in another notebook frontend (for example, a static\n",
       "  rendering on GitHub or <a href=\"https://nbviewer.jupyter.org/\">NBViewer</a>),\n",
       "  it may mean that your frontend doesn't currently support widgets.\n",
       "</p>\n"
      ],
      "text/plain": [
       "Tab(children=(VBox(children=(SnapshotCanvas(status=u'Not yet rendered'), JSProxyWidget(status=u'Not yet rendered'))), HTML(value=u'<img src=\"Image3.png\" id=\"snapshot_id_11_1535576633316\"/>\\n <div id=\"snapshot_id_12_1535576633316\">Image3.png</div>')), _titles={u'1': 'Snapshot', u'0': 'Canvas'})"
      ]
     },
     "metadata": {},
     "output_type": "display_data"
    }
   ],
   "source": [
    "demo3 = dual_canvas.SnapshotCanvas(\"Image3.png\", width=320, height=220)\n",
    "demo3.display_all()\n",
    "# Load the image, scaled to byte values, and name it.\n",
    "inverted = img * 255\n",
    "demo3.name_image_array(\"mandrill\", inverted)\n",
    "# Draw the image by name.\n",
    "demo3.named_image(\"mandrill\", 50, 50, 210, 130)\n",
    "\n",
    "# draw a partially transparent image on top\n",
    "demo3.name_image_array(\"alpha\", img2 * 255)\n",
    "demo3.named_image(\"alpha\", 50, 50, 210, 130)"
   ]
  },
  {
   "cell_type": "code",
   "execution_count": 10,
   "metadata": {
    "collapsed": false,
    "deletable": true,
    "editable": true
   },
   "outputs": [
    {
     "data": {
      "application/vnd.jupyter.widget-view+json": {
       "model_id": "5d09e41764b84ca9a0d96598e809759f",
       "version_major": 2,
       "version_minor": 0
      },
      "text/html": [
       "<p>Failed to display Jupyter Widget of type <code>Tab</code>.</p>\n",
       "<p>\n",
       "  If you're reading this message in Jupyter Notebook or JupyterLab, it may mean\n",
       "  that the widgets JavaScript is still loading. If this message persists, it\n",
       "  likely means that the widgets JavaScript library is either not installed or\n",
       "  not enabled. See the <a href=\"https://ipywidgets.readthedocs.io/en/stable/user_install.html\">Jupyter\n",
       "  Widgets Documentation</a> for setup instructions.\n",
       "</p>\n",
       "<p>\n",
       "  If you're reading this message in another notebook frontend (for example, a static\n",
       "  rendering on GitHub or <a href=\"https://nbviewer.jupyter.org/\">NBViewer</a>),\n",
       "  it may mean that your frontend doesn't currently support widgets.\n",
       "</p>\n"
      ],
      "text/plain": [
       "Tab(children=(VBox(children=(SnapshotCanvas(status=u'Not yet rendered'), JSProxyWidget(status=u'Not yet rendered'))), HTML(value=u'<img src=\"Image4.png\" id=\"snapshot_id_14_1535576700945\"/>\\n <div id=\"snapshot_id_15_1535576700945\">Image4.png</div>')), _titles={u'1': 'Snapshot', u'0': 'Canvas'})"
      ]
     },
     "metadata": {},
     "output_type": "display_data"
    }
   ],
   "source": [
    "# Use a numpy array with transparency as a focus over another image.\n",
    "import numpy as np\n",
    "\n",
    "# focus_array has an opaque border and a clear center for a lens effect.\n",
    "focus_array = np.zeros((100,100,4), dtype=np.float)\n",
    "for i in range(50):\n",
    "    f = 1.0 - i/50.0\n",
    "    hi = 99-i\n",
    "    focus_array[i:hi,i:hi,:] = f\n",
    "focus_array[:,:,2] = 1 - focus_array[:,:,2] # invert blue band\n",
    "    \n",
    "demo4 = dual_canvas.SnapshotCanvas(\"Image4.png\", width=520, height=420)\n",
    "demo4.display_all()\n",
    "\n",
    "demo4.name_image_array(\"focus\", focus_array * 255)\n",
    "\n",
    "demo4.js_init(\"\"\"\n",
    "\n",
    "// Mandrill from a remote image\n",
    "var mandrill_url = \"http://sipi.usc.edu/database/preview/misc/4.2.03.png\";\n",
    "// This local image reference works in \"classic\" notebook, but not in Jupyter Lab.\n",
    "var mandrill_url = \"../mandrill.png\"\n",
    "element.name_image_url(\"mandrill\", mandrill_url);\n",
    "\n",
    "// just the eyes, not the whole image\n",
    "element.named_image({\n",
    "    name: \"mandrill eyes\",\n",
    "    image_name: \"mandrill\", x:0, y:-40, w:80, h:30,\n",
    "    sx:30, sy:15, sWidth:140, sHeight:20\n",
    "    });\n",
    "    \n",
    "element.named_image({\n",
    "    name: \"whole mandrill\",\n",
    "    image_name: \"mandrill\", x:0, y:0, w:200, h:200\n",
    "    });\n",
    "    \n",
    "element.named_image({\n",
    "    name: \"mandrill square\",\n",
    "    image_name: \"mandrill\", x:210, y:0, w:200, h:200,\n",
    "    sx:40, sy:14, sWidth:30, sHeight:30\n",
    "    });\n",
    "    \n",
    "element.named_image({name:\"highlight\", x:40, y:200-14, w:30, h:-30,\n",
    "    image_name: \"focus\"});\n",
    "    \n",
    "// events to drag the square and adjust the detail.\n",
    "// Attach a mousedown event which picks the hightlight.\n",
    "var moving = false;\n",
    "var on_mouse_down = function(event) {\n",
    "    if (event.canvas_name==\"highlight\") {\n",
    "        moving = true;\n",
    "    }\n",
    "};\n",
    "element.on_canvas_event(\"mousedown\", on_mouse_down);\n",
    "\n",
    "// Attach a mousemove event which moves the highlight.\n",
    "var on_mouse_move = function(event) {\n",
    "    if (moving) {\n",
    "        var loc = element.event_model_location(event);\n",
    "        var x = loc.x;\n",
    "        var y = loc.y;\n",
    "        if ((x > 0) && (y > 30) && (x < 170) && (y < 200)) {\n",
    "            element.change_element(\"highlight\", {x:loc.x, y:loc.y});\n",
    "            element.change_element(\"mandrill square\", {sx:loc.x, sy:200-loc.y})\n",
    "        }\n",
    "    } \n",
    "};\n",
    "element.on_canvas_event(\"mousemove\", on_mouse_move);\n",
    "\n",
    "// Attach a mouseup event which \"drops\" the current picked up object and re-fits the canvas.\n",
    "var on_mouse_up = function(event) {\n",
    "    moving = false;\n",
    "};\n",
    "element.on_canvas_event(\"mouseup\", on_mouse_up);\n",
    "\n",
    "// Fit the figure into the available space\n",
    "element.fit(null, 10);\n",
    "\n",
    "$(\"<div>Drag the yellow square to adjust the detail view</div>\").appendTo(element);\n",
    "\"\"\")"
   ]
  },
  {
   "cell_type": "code",
   "execution_count": 9,
   "metadata": {
    "collapsed": true,
    "deletable": true,
    "editable": true
   },
   "outputs": [],
   "source": [
    "#demo4.save_pixels_to_png_async(\"Images.png\")"
   ]
  },
  {
   "cell_type": "code",
   "execution_count": null,
   "metadata": {
    "collapsed": true,
    "deletable": true,
    "editable": true
   },
   "outputs": [],
   "source": []
  }
 ],
 "metadata": {
  "kernelspec": {
   "display_name": "Python 2",
   "language": "python",
   "name": "python2"
  },
  "language_info": {
   "codemirror_mode": {
    "name": "ipython",
    "version": 2
   },
   "file_extension": ".py",
   "mimetype": "text/x-python",
   "name": "python",
   "nbconvert_exporter": "python",
   "pygments_lexer": "ipython2",
   "version": "2.7.13"
  },
  "widgets": {
   "application/vnd.jupyter.widget-state+json": {
    "state": {
     "01a0ffaa08b449b492f8922fca1f25b1": {
      "model_module": "@jupyter-widgets/controls",
      "model_module_version": "1.0.0",
      "model_name": "HTMLModel",
      "state": {
       "layout": "IPY_MODEL_acb03afda4f1471e80fb8735a58046d8",
       "style": "IPY_MODEL_404c9207fcbb42028aa99f7275303da4",
       "value": "<img src=\"Image3.png\" id=\"snapshot_id_11_1535576633316\"/>\n <div id=\"snapshot_id_12_1535576633316\">Image3.png</div>"
      }
     },
     "0786a939f9cc4754a7223067024d7a94": {
      "model_module": "@jupyter-widgets/controls",
      "model_module_version": "1.0.0",
      "model_name": "DescriptionStyleModel",
      "state": {
       "description_width": ""
      }
     },
     "09302cb99e65417eaf63891780e54e1d": {
      "model_module": "@jupyter-widgets/base",
      "model_module_version": "1.0.0",
      "model_name": "LayoutModel",
      "state": {}
     },
     "0d34a970535040f184d463b4ad8ed7f0": {
      "model_module": "@jupyter-widgets/base",
      "model_module_version": "1.0.0",
      "model_name": "LayoutModel",
      "state": {}
     },
     "0f2583c694ac4be48e9994d35bc0ffc3": {
      "model_module": "@jupyter-widgets/base",
      "model_module_version": "1.0.0",
      "model_name": "LayoutModel",
      "state": {}
     },
     "16015099229a4071b3aa17ccda31dc56": {
      "model_module": "@jupyter-widgets/base",
      "model_module_version": "1.0.0",
      "model_name": "LayoutModel",
      "state": {}
     },
     "1aec4757ca874bb39faf86f58a23671d": {
      "model_module": "jp_proxy_widget",
      "model_module_version": "^0.3.3",
      "model_name": "JSProxyModel",
      "state": {
       "_model_module_version": "^0.3.3",
       "_send_counter": 17,
       "_view_module_version": "^0.3.3",
       "error_msg": "No error",
       "layout": "IPY_MODEL_a5f847cedb5e421c9b9aeacd688f08c0",
       "rendered": true,
       "status": "Got results."
      }
     },
     "20753a1064db49c2a8e5ccce48be694e": {
      "model_module": "jp_proxy_widget",
      "model_module_version": "^0.3.3",
      "model_name": "JSProxyModel",
      "state": {
       "_model_module_version": "^0.3.3",
       "_send_counter": 2,
       "_view_module_version": "^0.3.3",
       "error_msg": "No error",
       "layout": "IPY_MODEL_797fd8a01aa2419b921fcf9822a2c21f",
       "rendered": true,
       "status": "call back to <function callback_function at 0x10dfb2578>"
      }
     },
     "2884f18c24db4c78af25b10e18714f3e": {
      "model_module": "@jupyter-widgets/controls",
      "model_module_version": "1.0.0",
      "model_name": "VBoxModel",
      "state": {
       "children": [
        "IPY_MODEL_b7e0cfe13a1f4d2eb195c2cf078e0f70",
        "IPY_MODEL_a52c372d5ba247c0a8cafa4dbcc59cd5"
       ],
       "layout": "IPY_MODEL_aa4c7f6b51824af3af9b574c0e0a9878"
      }
     },
     "2fd4346e261e426893d4ca22a31a09b2": {
      "model_module": "@jupyter-widgets/base",
      "model_module_version": "1.0.0",
      "model_name": "LayoutModel",
      "state": {}
     },
     "387e0ef881d0478b9d3d5f0fce6c2bae": {
      "model_module": "@jupyter-widgets/controls",
      "model_module_version": "1.0.0",
      "model_name": "HTMLModel",
      "state": {
       "layout": "IPY_MODEL_494eaeb3b7174e8d9b0e70f7578646de",
       "style": "IPY_MODEL_ad9c712a30b4494c992199764e4b8e76",
       "value": "<img src=\"Image0.png\" id=\"snapshot_id_3_1535576464657\"/>\n <div id=\"snapshot_id_4_1535576464657\">Image0.png</div>"
      }
     },
     "39dc2c3a06d146748bf59289bb0488da": {
      "model_module": "@jupyter-widgets/base",
      "model_module_version": "1.0.0",
      "model_name": "LayoutModel",
      "state": {}
     },
     "39e2d3fc1fb0427ebc35ae82de887671": {
      "model_module": "jp_proxy_widget",
      "model_module_version": "^0.3.3",
      "model_name": "JSProxyModel",
      "state": {
       "_model_module_version": "^0.3.3",
       "_send_counter": 16,
       "_view_module_version": "^0.3.3",
       "error_msg": "No error",
       "layout": "IPY_MODEL_47a084dd552c448fb3ad9244aaacfc0c",
       "rendered": true,
       "status": "Got results."
      }
     },
     "3ca9f206269048dcb659dce69f26e42f": {
      "model_module": "jp_proxy_widget",
      "model_module_version": "^0.3.3",
      "model_name": "JSProxyModel",
      "state": {
       "_model_module_version": "^0.3.3",
       "_send_counter": 2,
       "_view_module_version": "^0.3.3",
       "error_msg": "No error",
       "layout": "IPY_MODEL_e6413824c0824d87838ca3524bab7c83",
       "rendered": true,
       "status": "call back to <function callback_function at 0x10da1b050>"
      }
     },
     "3ccb9eb46d864e20ba4bb33d76700805": {
      "model_module": "@jupyter-widgets/controls",
      "model_module_version": "1.0.0",
      "model_name": "HTMLModel",
      "state": {
       "layout": "IPY_MODEL_cda1476adf9045bfacc55379f3c4da8e",
       "style": "IPY_MODEL_0786a939f9cc4754a7223067024d7a94",
       "value": "<img src=\"Image4.png\" id=\"snapshot_id_14_1535576700945\"/>\n <div id=\"snapshot_id_15_1535576700945\">Image4.png</div>"
      }
     },
     "404c9207fcbb42028aa99f7275303da4": {
      "model_module": "@jupyter-widgets/controls",
      "model_module_version": "1.0.0",
      "model_name": "DescriptionStyleModel",
      "state": {
       "description_width": ""
      }
     },
     "47a084dd552c448fb3ad9244aaacfc0c": {
      "model_module": "@jupyter-widgets/base",
      "model_module_version": "1.0.0",
      "model_name": "LayoutModel",
      "state": {}
     },
     "494eaeb3b7174e8d9b0e70f7578646de": {
      "model_module": "@jupyter-widgets/base",
      "model_module_version": "1.0.0",
      "model_name": "LayoutModel",
      "state": {}
     },
     "4b289207b26940e79907eb9ae8a26957": {
      "model_module": "jp_proxy_widget",
      "model_module_version": "^0.3.3",
      "model_name": "JSProxyModel",
      "state": {
       "_model_module_version": "^0.3.3",
       "_send_counter": 15,
       "_view_module_version": "^0.3.3",
       "error_msg": "No error",
       "layout": "IPY_MODEL_f1f2a845c06746f481d9f896f489c041",
       "rendered": true,
       "status": "Got results."
      }
     },
     "507e0f10db9b4517988fea8a5e6409a2": {
      "model_module": "@jupyter-widgets/controls",
      "model_module_version": "1.0.0",
      "model_name": "HTMLModel",
      "state": {
       "layout": "IPY_MODEL_68e98b3c333f46c6ae00fe50f0e950fe",
       "style": "IPY_MODEL_d9e2508e436d451aa027c35be6161c34",
       "value": "<img src=\"Image1.png\" id=\"snapshot_id_6_1535576531437\"/>\n <div id=\"snapshot_id_7_1535576531437\">Image1.png</div>"
      }
     },
     "50b8f802cd05454ebccee0b2dd67baee": {
      "model_module": "@jupyter-widgets/controls",
      "model_module_version": "1.0.0",
      "model_name": "DescriptionStyleModel",
      "state": {
       "description_width": ""
      }
     },
     "5a6e2e98b31c4001a21271dfff5210f7": {
      "model_module": "@jupyter-widgets/base",
      "model_module_version": "1.0.0",
      "model_name": "LayoutModel",
      "state": {}
     },
     "5beee43f6cfd4f1297e0debe86f7a63d": {
      "model_module": "@jupyter-widgets/controls",
      "model_module_version": "1.0.0",
      "model_name": "TabModel",
      "state": {
       "_titles": {
        "0": "Canvas",
        "1": "Snapshot"
       },
       "children": [
        "IPY_MODEL_8b60ff399ec14fc68fffbcdea53e44e0",
        "IPY_MODEL_507e0f10db9b4517988fea8a5e6409a2"
       ],
       "layout": "IPY_MODEL_09302cb99e65417eaf63891780e54e1d"
      }
     },
     "5d09e41764b84ca9a0d96598e809759f": {
      "model_module": "@jupyter-widgets/controls",
      "model_module_version": "1.0.0",
      "model_name": "TabModel",
      "state": {
       "_titles": {
        "0": "Canvas",
        "1": "Snapshot"
       },
       "children": [
        "IPY_MODEL_cc56639131a742dcb3e20c0c9ed997ad",
        "IPY_MODEL_3ccb9eb46d864e20ba4bb33d76700805"
       ],
       "layout": "IPY_MODEL_39dc2c3a06d146748bf59289bb0488da",
       "selected_index": 1
      }
     },
     "5d9aa72a039443eb9ed7d9f198452b27": {
      "model_module": "@jupyter-widgets/controls",
      "model_module_version": "1.0.0",
      "model_name": "HTMLModel",
      "state": {
       "layout": "IPY_MODEL_9d9f75cd3e9144cd90877ad7cae7d729",
       "style": "IPY_MODEL_50b8f802cd05454ebccee0b2dd67baee",
       "value": "<img src=\"Image0.png\" id=\"snapshot_id_1_1535576432119\"/>\n <div id=\"snapshot_id_2_1535576432119\">Image0.png</div>"
      }
     },
     "5de15a14fcdb42be9755f7f358019017": {
      "model_module": "@jupyter-widgets/controls",
      "model_module_version": "1.0.0",
      "model_name": "VBoxModel",
      "state": {
       "children": [
        "IPY_MODEL_4b289207b26940e79907eb9ae8a26957",
        "IPY_MODEL_e3b8c89b9fa34da69ee8eb9eb9b518e7"
       ],
       "layout": "IPY_MODEL_622e0fd24c6f497b9c97b10296d32314"
      }
     },
     "5f7237a9d663432ea5abf2b9b02c3ae8": {
      "model_module": "jp_proxy_widget",
      "model_module_version": "^0.3.3",
      "model_name": "JSProxyModel",
      "state": {
       "_model_module_version": "^0.3.3",
       "_send_counter": 6,
       "_view_module_version": "^0.3.3",
       "error_msg": "No error",
       "layout": "IPY_MODEL_aa0358ec948541749d453cdfa0d34040",
       "rendered": true,
       "status": "Not yet rendered"
      }
     },
     "622e0fd24c6f497b9c97b10296d32314": {
      "model_module": "@jupyter-widgets/base",
      "model_module_version": "1.0.0",
      "model_name": "LayoutModel",
      "state": {}
     },
     "67af15fea44047d9bed1b6ce49f8d915": {
      "model_module": "@jupyter-widgets/base",
      "model_module_version": "1.0.0",
      "model_name": "LayoutModel",
      "state": {}
     },
     "68e98b3c333f46c6ae00fe50f0e950fe": {
      "model_module": "@jupyter-widgets/base",
      "model_module_version": "1.0.0",
      "model_name": "LayoutModel",
      "state": {}
     },
     "6d6dc96a4b4f4b0891eda35b3c6050e0": {
      "model_module": "@jupyter-widgets/base",
      "model_module_version": "1.0.0",
      "model_name": "LayoutModel",
      "state": {}
     },
     "745ce7d1c4a848d1895c4062e3043a56": {
      "model_module": "@jupyter-widgets/controls",
      "model_module_version": "1.0.0",
      "model_name": "TabModel",
      "state": {
       "_titles": {
        "0": "Canvas",
        "1": "Snapshot"
       },
       "children": [
        "IPY_MODEL_5de15a14fcdb42be9755f7f358019017",
        "IPY_MODEL_387e0ef881d0478b9d3d5f0fce6c2bae"
       ],
       "layout": "IPY_MODEL_e0b7250cd29a471bbfad520c7b434c26",
       "selected_index": 1
      }
     },
     "7599723fc05b461caacfaae64105ef0b": {
      "model_module": "@jupyter-widgets/base",
      "model_module_version": "1.0.0",
      "model_name": "LayoutModel",
      "state": {}
     },
     "797fd8a01aa2419b921fcf9822a2c21f": {
      "model_module": "@jupyter-widgets/base",
      "model_module_version": "1.0.0",
      "model_name": "LayoutModel",
      "state": {}
     },
     "7d94cd7a4ff147f29b98a4173b9ef34a": {
      "model_module": "jp_proxy_widget",
      "model_module_version": "^0.3.3",
      "model_name": "JSProxyModel",
      "state": {
       "_model_module_version": "^0.3.3",
       "_send_counter": 10,
       "_view_module_version": "^0.3.3",
       "error_msg": "No error",
       "layout": "IPY_MODEL_2fd4346e261e426893d4ca22a31a09b2",
       "rendered": true,
       "status": "Got results."
      }
     },
     "8b60ff399ec14fc68fffbcdea53e44e0": {
      "model_module": "@jupyter-widgets/controls",
      "model_module_version": "1.0.0",
      "model_name": "VBoxModel",
      "state": {
       "children": [
        "IPY_MODEL_5f7237a9d663432ea5abf2b9b02c3ae8",
        "IPY_MODEL_baafe7da6f8a42419a47d51fefa87c5c"
       ],
       "layout": "IPY_MODEL_0d34a970535040f184d463b4ad8ed7f0"
      }
     },
     "9d9f75cd3e9144cd90877ad7cae7d729": {
      "model_module": "@jupyter-widgets/base",
      "model_module_version": "1.0.0",
      "model_name": "LayoutModel",
      "state": {}
     },
     "a52c372d5ba247c0a8cafa4dbcc59cd5": {
      "model_module": "jp_proxy_widget",
      "model_module_version": "^0.3.3",
      "model_name": "JSProxyModel",
      "state": {
       "_model_module_version": "^0.3.3",
       "_send_counter": 2,
       "_view_module_version": "^0.3.3",
       "error_msg": "No error",
       "layout": "IPY_MODEL_67af15fea44047d9bed1b6ce49f8d915",
       "rendered": true,
       "status": "call back to <function callback_function at 0x10df1e848>"
      }
     },
     "a5f847cedb5e421c9b9aeacd688f08c0": {
      "model_module": "@jupyter-widgets/base",
      "model_module_version": "1.0.0",
      "model_name": "LayoutModel",
      "state": {}
     },
     "aa0358ec948541749d453cdfa0d34040": {
      "model_module": "@jupyter-widgets/base",
      "model_module_version": "1.0.0",
      "model_name": "LayoutModel",
      "state": {}
     },
     "aa4c7f6b51824af3af9b574c0e0a9878": {
      "model_module": "@jupyter-widgets/base",
      "model_module_version": "1.0.0",
      "model_name": "LayoutModel",
      "state": {}
     },
     "acb03afda4f1471e80fb8735a58046d8": {
      "model_module": "@jupyter-widgets/base",
      "model_module_version": "1.0.0",
      "model_name": "LayoutModel",
      "state": {}
     },
     "ad9c712a30b4494c992199764e4b8e76": {
      "model_module": "@jupyter-widgets/controls",
      "model_module_version": "1.0.0",
      "model_name": "DescriptionStyleModel",
      "state": {
       "description_width": ""
      }
     },
     "b7e0cfe13a1f4d2eb195c2cf078e0f70": {
      "model_module": "jp_proxy_widget",
      "model_module_version": "^0.3.3",
      "model_name": "JSProxyModel",
      "state": {
       "_model_module_version": "^0.3.3",
       "_send_counter": 15,
       "_view_module_version": "^0.3.3",
       "error_msg": "No error",
       "layout": "IPY_MODEL_7599723fc05b461caacfaae64105ef0b",
       "rendered": true,
       "status": "Got results."
      }
     },
     "baafe7da6f8a42419a47d51fefa87c5c": {
      "model_module": "jp_proxy_widget",
      "model_module_version": "^0.3.3",
      "model_name": "JSProxyModel",
      "state": {
       "_model_module_version": "^0.3.3",
       "_send_counter": 2,
       "_view_module_version": "^0.3.3",
       "error_msg": "No error",
       "layout": "IPY_MODEL_6d6dc96a4b4f4b0891eda35b3c6050e0",
       "rendered": true,
       "status": "Not yet rendered"
      }
     },
     "cc56639131a742dcb3e20c0c9ed997ad": {
      "model_module": "@jupyter-widgets/controls",
      "model_module_version": "1.0.0",
      "model_name": "VBoxModel",
      "state": {
       "children": [
        "IPY_MODEL_39e2d3fc1fb0427ebc35ae82de887671",
        "IPY_MODEL_20753a1064db49c2a8e5ccce48be694e"
       ],
       "layout": "IPY_MODEL_e561cdefbd2a4ebbaade042e2f6ebaf2"
      }
     },
     "cda1476adf9045bfacc55379f3c4da8e": {
      "model_module": "@jupyter-widgets/base",
      "model_module_version": "1.0.0",
      "model_name": "LayoutModel",
      "state": {}
     },
     "d0cb7c5c210d4acd8f9965c6985465ed": {
      "model_module": "@jupyter-widgets/controls",
      "model_module_version": "1.0.0",
      "model_name": "TabModel",
      "state": {
       "_titles": {
        "0": "Canvas",
        "1": "Snapshot"
       },
       "children": [
        "IPY_MODEL_2884f18c24db4c78af25b10e18714f3e",
        "IPY_MODEL_df3da05ba55a4559bde9c076d685904f"
       ],
       "layout": "IPY_MODEL_daac3da2c9914b42b213c22fac0c7c53",
       "selected_index": 1
      }
     },
     "d9e2508e436d451aa027c35be6161c34": {
      "model_module": "@jupyter-widgets/controls",
      "model_module_version": "1.0.0",
      "model_name": "DescriptionStyleModel",
      "state": {
       "description_width": ""
      }
     },
     "da08b8dda22a47d09499b7549eee6ffd": {
      "model_module": "@jupyter-widgets/controls",
      "model_module_version": "1.0.0",
      "model_name": "TabModel",
      "state": {
       "_titles": {
        "0": "Canvas",
        "1": "Snapshot"
       },
       "children": [
        "IPY_MODEL_e06d8c716a174f76bb4a9f848fce8584",
        "IPY_MODEL_01a0ffaa08b449b492f8922fca1f25b1"
       ],
       "layout": "IPY_MODEL_0f2583c694ac4be48e9994d35bc0ffc3",
       "selected_index": 1
      }
     },
     "daac3da2c9914b42b213c22fac0c7c53": {
      "model_module": "@jupyter-widgets/base",
      "model_module_version": "1.0.0",
      "model_name": "LayoutModel",
      "state": {}
     },
     "df3da05ba55a4559bde9c076d685904f": {
      "model_module": "@jupyter-widgets/controls",
      "model_module_version": "1.0.0",
      "model_name": "HTMLModel",
      "state": {
       "layout": "IPY_MODEL_ea923dfbd30b4c02bd7db2d01b04af2f",
       "style": "IPY_MODEL_feb022d2b0284991b5a6583de7516c6d",
       "value": "<img src=\"Image1.png\" id=\"snapshot_id_8_1535576541033\"/>\n <div id=\"snapshot_id_9_1535576541033\">Image1.png</div>"
      }
     },
     "e06d8c716a174f76bb4a9f848fce8584": {
      "model_module": "@jupyter-widgets/controls",
      "model_module_version": "1.0.0",
      "model_name": "VBoxModel",
      "state": {
       "children": [
        "IPY_MODEL_1aec4757ca874bb39faf86f58a23671d",
        "IPY_MODEL_3ca9f206269048dcb659dce69f26e42f"
       ],
       "layout": "IPY_MODEL_16015099229a4071b3aa17ccda31dc56"
      }
     },
     "e0b7250cd29a471bbfad520c7b434c26": {
      "model_module": "@jupyter-widgets/base",
      "model_module_version": "1.0.0",
      "model_name": "LayoutModel",
      "state": {}
     },
     "e3b8c89b9fa34da69ee8eb9eb9b518e7": {
      "model_module": "jp_proxy_widget",
      "model_module_version": "^0.3.3",
      "model_name": "JSProxyModel",
      "state": {
       "_model_module_version": "^0.3.3",
       "_send_counter": 2,
       "_view_module_version": "^0.3.3",
       "error_msg": "No error",
       "layout": "IPY_MODEL_5a6e2e98b31c4001a21271dfff5210f7",
       "rendered": true,
       "status": "call back to <function callback_function at 0x107bf5a28>"
      }
     },
     "e561cdefbd2a4ebbaade042e2f6ebaf2": {
      "model_module": "@jupyter-widgets/base",
      "model_module_version": "1.0.0",
      "model_name": "LayoutModel",
      "state": {}
     },
     "e6413824c0824d87838ca3524bab7c83": {
      "model_module": "@jupyter-widgets/base",
      "model_module_version": "1.0.0",
      "model_name": "LayoutModel",
      "state": {}
     },
     "ea923dfbd30b4c02bd7db2d01b04af2f": {
      "model_module": "@jupyter-widgets/base",
      "model_module_version": "1.0.0",
      "model_name": "LayoutModel",
      "state": {}
     },
     "f1f2a845c06746f481d9f896f489c041": {
      "model_module": "@jupyter-widgets/base",
      "model_module_version": "1.0.0",
      "model_name": "LayoutModel",
      "state": {}
     },
     "feb022d2b0284991b5a6583de7516c6d": {
      "model_module": "@jupyter-widgets/controls",
      "model_module_version": "1.0.0",
      "model_name": "DescriptionStyleModel",
      "state": {
       "description_width": ""
      }
     }
    },
    "version_major": 2,
    "version_minor": 0
   }
  }
 },
 "nbformat": 4,
 "nbformat_minor": 2
}
