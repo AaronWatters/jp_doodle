{
 "cells": [
  {
   "cell_type": "markdown",
   "metadata": {
    "deletable": true,
    "editable": true
   },
   "source": [
    " <img src=\"Images.png\" width=\"320\"> \n",
    " \n",
    "# Images\n",
    "\n",
    "\n",
    "You can draw images on canvases in two steps.\n",
    "First you must load the image and identify it with a name,\n",
    "and afterward you can draw the image any number of times\n",
    "by providing x, y corner coordinates with width and height.\n",
    "You may also specify a rectangle inside the image to draw."
   ]
  },
  {
   "cell_type": "code",
   "execution_count": null,
   "metadata": {
    "collapsed": true,
    "deletable": true,
    "editable": true
   },
   "outputs": [],
   "source": [
    "from jp_doodle import dual_canvas\n",
    "from IPython.display import display"
   ]
  },
  {
   "cell_type": "code",
   "execution_count": null,
   "metadata": {
    "collapsed": false,
    "deletable": true,
    "editable": true
   },
   "outputs": [],
   "source": [
    "# In this demonstration we do most of the work in Javascript.\n",
    "\n",
    "demo = dual_canvas.DualCanvasWidget(width=320, height=220)\n",
    "display(demo)\n",
    "\n",
    "demo.js_init(\"\"\"\n",
    "\n",
    "// Mandrill eyes from a remote image\n",
    "var mandrill_url = \"http://sipi.usc.edu/database/preview/misc/4.2.03.png\";\n",
    "var mandrill_url = \"../mandrill.png\"\n",
    "element.name_image_url(\"mandrill\", mandrill_url);\n",
    "\n",
    "// just the eyes, not the whole image\n",
    "element.named_image({\n",
    "    name: \"mandrill eyes\",\n",
    "    image_name: \"mandrill\", x:0, y:-40, w:80, h:30,\n",
    "    sx:30, sy:15, sWidth:140, sHeight:20\n",
    "    });\n",
    "    \n",
    "element.named_image({\n",
    "    name: \"whole mandrill\",\n",
    "    image_name: \"mandrill\", x:0, y:0, w:200, h:200\n",
    "    });\n",
    "    \n",
    "element.named_image({\n",
    "    name: \"mandrill square\",\n",
    "    image_name: \"mandrill\", x:210, y:0, w:200, h:200,\n",
    "    sx:40, sy:14, sWidth:30, sHeight:30\n",
    "    });\n",
    "    \n",
    "element.rect({name:\"highlight\", x:40, y:200-14, w:30, h:-30,\n",
    "    color:\"rgba(200,200,100,0.7)\"});\n",
    "    \n",
    "// events to drag the square and adjust the detail.\n",
    "// Attach a mousedown event which picks the hightlight.\n",
    "var moving = false;\n",
    "var on_mouse_down = function(event) {\n",
    "    if (event.canvas_name==\"highlight\") {\n",
    "        moving = true;\n",
    "    }\n",
    "};\n",
    "element.on_canvas_event(\"mousedown\", on_mouse_down);\n",
    "\n",
    "// Attach a mousemove event which moves the highlight.\n",
    "var on_mouse_move = function(event) {\n",
    "    if (moving) {\n",
    "        var loc = element.event_model_location(event);\n",
    "        var x = loc.x;\n",
    "        var y = loc.y;\n",
    "        if ((x > 0) && (y > 30) && (x < 170) && (y < 200)) {\n",
    "            element.change_element(\"highlight\", {x:loc.x, y:loc.y});\n",
    "            element.change_element(\"mandrill square\", {sx:loc.x, sy:200-loc.y})\n",
    "        }\n",
    "    } \n",
    "};\n",
    "element.on_canvas_event(\"mousemove\", on_mouse_move);\n",
    "\n",
    "// Attach a mouseup event which \"drops\" the current picked up object and re-fits the canvas.\n",
    "var on_mouse_up = function(event) {\n",
    "    moving = false;\n",
    "};\n",
    "element.on_canvas_event(\"mouseup\", on_mouse_up);\n",
    "\n",
    "// Fit the figure into the available space\n",
    "element.fit(null, 10);\n",
    "\n",
    "$(\"<div>Drag the yellow square to adjust the detail view</div>\").appendTo(element);\n",
    "\"\"\")"
   ]
  },
  {
   "cell_type": "code",
   "execution_count": null,
   "metadata": {
    "collapsed": true,
    "deletable": true,
    "editable": true
   },
   "outputs": [],
   "source": [
    "demo.save_pixels_to_png_async(\"Images.png\")"
   ]
  },
  {
   "cell_type": "code",
   "execution_count": null,
   "metadata": {
    "collapsed": true,
    "deletable": true,
    "editable": true
   },
   "outputs": [],
   "source": []
  }
 ],
 "metadata": {
  "kernelspec": {
   "display_name": "Python 2",
   "language": "python",
   "name": "python2"
  },
  "language_info": {
   "codemirror_mode": {
    "name": "ipython",
    "version": 2
   },
   "file_extension": ".py",
   "mimetype": "text/x-python",
   "name": "python",
   "nbconvert_exporter": "python",
   "pygments_lexer": "ipython2",
   "version": "2.7.13"
  }
 },
 "nbformat": 4,
 "nbformat_minor": 2
}
