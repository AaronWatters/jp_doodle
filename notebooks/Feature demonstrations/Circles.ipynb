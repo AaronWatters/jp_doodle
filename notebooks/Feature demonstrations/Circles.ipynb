{
 "cells": [
  {
   "cell_type": "markdown",
   "metadata": {
    "deletable": true,
    "editable": true
   },
   "source": [
    "# Circles"
   ]
  },
  {
   "cell_type": "code",
   "execution_count": null,
   "metadata": {
    "collapsed": true,
    "deletable": true,
    "editable": true
   },
   "outputs": [],
   "source": [
    "from jp_doodle import dual_canvas\n",
    "from IPython.display import display"
   ]
  },
  {
   "cell_type": "code",
   "execution_count": null,
   "metadata": {
    "collapsed": false,
    "deletable": true,
    "editable": true
   },
   "outputs": [],
   "source": [
    "# In this demonstration we do most of the work in Javascript.\n",
    "\n",
    "demo = dual_canvas.DualCanvasWidget(width=320, height=220)\n",
    "display(demo)\n",
    "\n",
    "demo.js_init(\"\"\"\n",
    "\n",
    "element.circle({name: \"full filled\", x:0, y:0, r:20, color:\"green\"});\n",
    "element.circle({name: \"half circle\", x:50, y:0, r:20, color:\"red\",\n",
    "    arc: 2*Math.PI, start: Math.PI});\n",
    "element.circle({name: \"full stroked\", x:0, y:-20, r:20, color:\"cyan\",\n",
    "    fill: false, lineWidth: 5});\n",
    "element.circle({name: \"half stroked transparent\", x:50, y:30, \n",
    "    r:20, color:\"rgba(2,22,222,0.5)\",\n",
    "    fill: false, lineWidth: 10,\n",
    "    arc: Math.PI, start: 3*Math.PI/2});\n",
    "\n",
    "// Fit the figure into the available space\n",
    "element.fit(null, 10);\n",
    "\"\"\")"
   ]
  },
  {
   "cell_type": "code",
   "execution_count": null,
   "metadata": {
    "collapsed": true,
    "deletable": true,
    "editable": true
   },
   "outputs": [],
   "source": []
  }
 ],
 "metadata": {
  "kernelspec": {
   "display_name": "Python 2",
   "language": "python",
   "name": "python2"
  },
  "language_info": {
   "codemirror_mode": {
    "name": "ipython",
    "version": 2
   },
   "file_extension": ".py",
   "mimetype": "text/x-python",
   "name": "python",
   "nbconvert_exporter": "python",
   "pygments_lexer": "ipython2",
   "version": "2.7.13"
  }
 },
 "nbformat": 4,
 "nbformat_minor": 2
}
