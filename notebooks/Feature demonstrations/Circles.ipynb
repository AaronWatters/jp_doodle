{
 "cells": [
  {
   "cell_type": "markdown",
   "metadata": {
    "deletable": true,
    "editable": true
   },
   "source": [
    " <img src=\"Circles.png\" width=\"320\"> \n",
    " \n",
    "# Circles\n",
    "\n",
    "\n",
    "You can draw circles on canvases by providing a radius and x, y center coordinates.\n",
    "The circles can have transparent colors and they may be filled or not (stroked).\n",
    "It is also possible to draw partial circles."
   ]
  },
  {
   "cell_type": "code",
   "execution_count": null,
   "metadata": {
    "collapsed": true,
    "deletable": true,
    "editable": true
   },
   "outputs": [],
   "source": [
    "from jp_doodle import dual_canvas\n",
    "from IPython.display import display"
   ]
  },
  {
   "cell_type": "code",
   "execution_count": null,
   "metadata": {
    "collapsed": false,
    "deletable": true,
    "editable": true
   },
   "outputs": [],
   "source": [
    "# In this demonstration we do most of the work in Javascript.\n",
    "\n",
    "demo = dual_canvas.DualCanvasWidget(width=320, height=220)\n",
    "display(demo)\n",
    "\n",
    "demo.js_init(\"\"\"\n",
    "\n",
    "element.circle({name: \"full filled\", x:0, y:0, r:20, color:\"green\"});\n",
    "element.circle({name: \"half circle\", x:50, y:0, r:20, color:\"red\",\n",
    "    arc: 2*Math.PI, start: Math.PI});\n",
    "element.circle({name: \"full stroked\", x:0, y:-20, r:20, color:\"cyan\",\n",
    "    fill: false, lineWidth: 5});\n",
    "element.circle({name: \"half stroked transparent\", x:50, y:30, \n",
    "    r:20, color:\"rgba(2,22,222,0.5)\",\n",
    "    fill: false, lineWidth: 10,\n",
    "    arc: Math.PI, start: 3*Math.PI/2});\n",
    "\n",
    "// Fit the figure into the available space\n",
    "element.fit(null, 10);\n",
    "\"\"\")"
   ]
  },
  {
   "cell_type": "code",
   "execution_count": null,
   "metadata": {
    "collapsed": false,
    "deletable": true,
    "editable": true
   },
   "outputs": [],
   "source": [
    "# python equivalent\n",
    "import math\n",
    "\n",
    "demo2 = dual_canvas.DualCanvasWidget(width=320, height=220)\n",
    "display(demo2)\n",
    "\n",
    "demo2.circle(name=\"full filled\", x=0, y=0, r=20, color=\"green\");\n",
    "\n",
    "demo2.circle(name=\"half circle\", x=50, y=0, r=20, color=\"red\",\n",
    "    arc=2*math.pi, start=math.pi)\n",
    "demo2.circle(name=\"full stroked\", x=0, y=-20, r=20, color=\"cyan\",\n",
    "    fill=False, lineWidth=5)\n",
    "demo2.circle(name=\"partial stroked transparent\", x=50, y=30, \n",
    "    r=20, color=\"rgba(2,22,222,0.5)\",\n",
    "    fill=False, lineWidth=10,\n",
    "    arc=math.pi, start=3*math.pi/2)\n",
    "\n",
    "# Fit the figure into the available space\n",
    "demo2.fit(None, 10);"
   ]
  },
  {
   "cell_type": "code",
   "execution_count": null,
   "metadata": {
    "collapsed": true,
    "deletable": true,
    "editable": true
   },
   "outputs": [],
   "source": [
    "#demo2.save_pixels_to_png_async(\"Circles.png\")"
   ]
  },
  {
   "cell_type": "code",
   "execution_count": null,
   "metadata": {
    "collapsed": true,
    "deletable": true,
    "editable": true
   },
   "outputs": [],
   "source": []
  }
 ],
 "metadata": {
  "kernelspec": {
   "display_name": "Python 2",
   "language": "python",
   "name": "python2"
  },
  "language_info": {
   "codemirror_mode": {
    "name": "ipython",
    "version": 2
   },
   "file_extension": ".py",
   "mimetype": "text/x-python",
   "name": "python",
   "nbconvert_exporter": "python",
   "pygments_lexer": "ipython2",
   "version": "2.7.13"
  }
 },
 "nbformat": 4,
 "nbformat_minor": 2
}
