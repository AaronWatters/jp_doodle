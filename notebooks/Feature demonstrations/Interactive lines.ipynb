{
 "cells": [
  {
   "cell_type": "markdown",
   "metadata": {
    "deletable": true,
    "editable": true
   },
   "source": [
    "# Interactive lines\n",
    "\n",
    "The following interactive widget is intended to allow the developer to explore\n",
    "lines drawn with different parameter settings.\n"
   ]
  },
  {
   "cell_type": "code",
   "execution_count": 1,
   "metadata": {
    "collapsed": true,
    "deletable": true,
    "editable": true
   },
   "outputs": [],
   "source": [
    "# preliminaries\n",
    "from ipywidgets import interact, interactive, fixed, interact_manual\n",
    "import ipywidgets as widgets\n",
    "from jp_doodle import dual_canvas\n",
    "from IPython.display import display\n",
    "\n",
    "def rgba(*rgba_sequence):\n",
    "    rgba_strings = [str(int(x)) for x in rgba_sequence]\n",
    "    rgba_strings[-1] = str(rgba_sequence[-1])\n",
    "    return \"rgba(%s)\" % \",\".join(rgba_strings)"
   ]
  },
  {
   "cell_type": "code",
   "execution_count": 2,
   "metadata": {
    "collapsed": false,
    "deletable": true,
    "editable": true
   },
   "outputs": [
    {
     "data": {
      "application/vnd.jupyter.widget-view+json": {
       "model_id": "5599e776f2724d9ab8f78bd96c428b37",
       "version_major": 2,
       "version_minor": 0
      },
      "text/html": [
       "<p>Failed to display Jupyter Widget of type <code>Tab</code>.</p>\n",
       "<p>\n",
       "  If you're reading this message in Jupyter Notebook or JupyterLab, it may mean\n",
       "  that the widgets JavaScript is still loading. If this message persists, it\n",
       "  likely means that the widgets JavaScript library is either not installed or\n",
       "  not enabled. See the <a href=\"https://ipywidgets.readthedocs.io/en/stable/user_install.html\">Jupyter\n",
       "  Widgets Documentation</a> for setup instructions.\n",
       "</p>\n",
       "<p>\n",
       "  If you're reading this message in another notebook frontend (for example, a static\n",
       "  rendering on GitHub or <a href=\"https://nbviewer.jupyter.org/\">NBViewer</a>),\n",
       "  it may mean that your frontend doesn't currently support widgets.\n",
       "</p>\n"
      ],
      "text/plain": [
       "Tab(children=(VBox(children=(SnapshotCanvas(status=u'Not yet rendered'), JSProxyWidget(status=u'Not yet rendered'))), HTML(value=u'<img src=\"interactive_line.png\" id=\"snapshot_id_1_1536844110104\"/>\\n <div id=\"snapshot_id_2_1536844110104\">interactive_line.png</div>')), _titles={u'1': 'Snapshot', u'0': 'Canvas'})"
      ]
     },
     "metadata": {},
     "output_type": "display_data"
    },
    {
     "data": {
      "application/vnd.jupyter.widget-view+json": {
       "model_id": "3cfc267610d8405ba3c9ad8ffc8fb859",
       "version_major": 2,
       "version_minor": 0
      },
      "text/html": [
       "<p>Failed to display Jupyter Widget of type <code>interactive</code>.</p>\n",
       "<p>\n",
       "  If you're reading this message in Jupyter Notebook or JupyterLab, it may mean\n",
       "  that the widgets JavaScript is still loading. If this message persists, it\n",
       "  likely means that the widgets JavaScript library is either not installed or\n",
       "  not enabled. See the <a href=\"https://ipywidgets.readthedocs.io/en/stable/user_install.html\">Jupyter\n",
       "  Widgets Documentation</a> for setup instructions.\n",
       "</p>\n",
       "<p>\n",
       "  If you're reading this message in another notebook frontend (for example, a static\n",
       "  rendering on GitHub or <a href=\"https://nbviewer.jupyter.org/\">NBViewer</a>),\n",
       "  it may mean that your frontend doesn't currently support widgets.\n",
       "</p>\n"
      ],
      "text/plain": [
       "interactive(children=(IntSlider(value=0, description=u'x1', min=-100), IntSlider(value=0, description=u'y1', min=-100), IntSlider(value=100, description=u'x2', min=-100), IntSlider(value=50, description=u'y2', min=-100), IntSlider(value=3, description=u'lineWidth', max=20), IntSlider(value=255, description=u'red', max=255), IntSlider(value=0, description=u'green', max=255), IntSlider(value=255, description=u'blue', max=255), FloatSlider(value=1.0, description=u'alpha', max=1.0), Output()), _dom_classes=('widget-interact',))"
      ]
     },
     "metadata": {},
     "output_type": "display_data"
    }
   ],
   "source": [
    "# Display a canvas with a line which can be adjusted interactively\n",
    "\n",
    "# Below we configure the canvas using the Python interface.\n",
    "# This method is terser than using Javascript, but the redraw operations create a jerky effect\n",
    "# because the canvas displays intermediate states due to roundtrip messages\n",
    "# between the Python kernel and the Javascript interpreter.\n",
    "\n",
    "line_canvas = dual_canvas.SnapshotCanvas(\"interactive_line.png\", width=320, height=220)\n",
    "line_canvas.display_all()\n",
    "\n",
    "def change_line(x1, y1, x2=100, y2=50, lineWidth=3,\n",
    "                  red=255, green=0, blue=255, alpha=1.0):\n",
    "    color = rgba(red, green, blue, alpha)\n",
    "    canvas = line_canvas\n",
    "    canvas.reset_canvas()\n",
    "    canvas.line(x1=x1, y1=y1, x2=x2, y2=y2, color=color, lineWidth=lineWidth)\n",
    "    canvas.fit()\n",
    "    canvas.lower_left_axes(\n",
    "        max_tick_count=4\n",
    "    )\n",
    "    canvas.circle(x=x1, y=y1, r=3, color=\"#999\")\n",
    "    canvas.fit(None, 30)\n",
    "\n",
    "w = interactive(\n",
    "    change_line, \n",
    "    x1=(-100, 100), \n",
    "    y1=(-100,100), \n",
    "    x2=(-100, 100), \n",
    "    y2=(-100,100), \n",
    "    lineWidth=(0,20),\n",
    "    red=(0,255),\n",
    "    green=(0,255),\n",
    "    blue=(0,255),\n",
    "    alpha=(0.0,1.0,0.1)\n",
    ")\n",
    "display(w)"
   ]
  },
  {
   "cell_type": "code",
   "execution_count": 3,
   "metadata": {
    "collapsed": false,
    "deletable": true,
    "editable": true
   },
   "outputs": [
    {
     "data": {
      "application/vnd.jupyter.widget-view+json": {
       "model_id": "4f565a911a9d4516830921431c93047c",
       "version_major": 2,
       "version_minor": 0
      },
      "text/html": [
       "<p>Failed to display Jupyter Widget of type <code>Tab</code>.</p>\n",
       "<p>\n",
       "  If you're reading this message in Jupyter Notebook or JupyterLab, it may mean\n",
       "  that the widgets JavaScript is still loading. If this message persists, it\n",
       "  likely means that the widgets JavaScript library is either not installed or\n",
       "  not enabled. See the <a href=\"https://ipywidgets.readthedocs.io/en/stable/user_install.html\">Jupyter\n",
       "  Widgets Documentation</a> for setup instructions.\n",
       "</p>\n",
       "<p>\n",
       "  If you're reading this message in another notebook frontend (for example, a static\n",
       "  rendering on GitHub or <a href=\"https://nbviewer.jupyter.org/\">NBViewer</a>),\n",
       "  it may mean that your frontend doesn't currently support widgets.\n",
       "</p>\n"
      ],
      "text/plain": [
       "Tab(children=(VBox(children=(SnapshotCanvas(status=u'Not yet rendered'), JSProxyWidget(status=u'Not yet rendered'))), HTML(value=u'<img src=\"interactive_line.png\" id=\"snapshot_id_3_1536844112884\"/>\\n <div id=\"snapshot_id_4_1536844112884\">interactive_line.png</div>')), _titles={u'1': 'Snapshot', u'0': 'Canvas'})"
      ]
     },
     "metadata": {},
     "output_type": "display_data"
    },
    {
     "data": {
      "application/vnd.jupyter.widget-view+json": {
       "model_id": "643fa04535794284a15064c64b0efdbf",
       "version_major": 2,
       "version_minor": 0
      },
      "text/html": [
       "<p>Failed to display Jupyter Widget of type <code>interactive</code>.</p>\n",
       "<p>\n",
       "  If you're reading this message in Jupyter Notebook or JupyterLab, it may mean\n",
       "  that the widgets JavaScript is still loading. If this message persists, it\n",
       "  likely means that the widgets JavaScript library is either not installed or\n",
       "  not enabled. See the <a href=\"https://ipywidgets.readthedocs.io/en/stable/user_install.html\">Jupyter\n",
       "  Widgets Documentation</a> for setup instructions.\n",
       "</p>\n",
       "<p>\n",
       "  If you're reading this message in another notebook frontend (for example, a static\n",
       "  rendering on GitHub or <a href=\"https://nbviewer.jupyter.org/\">NBViewer</a>),\n",
       "  it may mean that your frontend doesn't currently support widgets.\n",
       "</p>\n"
      ],
      "text/plain": [
       "interactive(children=(IntSlider(value=0, description=u'x1', min=-100), IntSlider(value=0, description=u'y1', min=-100), IntSlider(value=100, description=u'x2', min=-100), IntSlider(value=50, description=u'y2', min=-100), IntSlider(value=3, description=u'lineWidth', max=20), IntSlider(value=255, description=u'red', max=255), IntSlider(value=0, description=u'green', max=255), IntSlider(value=255, description=u'blue', max=255), FloatSlider(value=1.0, description=u'alpha', max=1.0), Output()), _dom_classes=('widget-interact',))"
      ]
     },
     "metadata": {},
     "output_type": "display_data"
    }
   ],
   "source": [
    "# Display a canvas with a circle which can be adjusted interactively\n",
    "\n",
    "# Using the Javascript interface: \n",
    "# This approach requires more typing because Python values must \n",
    "# be explicitly mapped to Javascript variables.\n",
    "# However the canvas configuration is smooth because no intermediate\n",
    "# results are shown.\n",
    "line_canvas2 = dual_canvas.SnapshotCanvas(\"interactive_line.png\", width=320, height=220)\n",
    "line_canvas2.display_all()\n",
    "\n",
    "def change_line_js(x1, y1, x2=100, y2=50, lineWidth=3,\n",
    "                  red=255, green=0, blue=255, alpha=1.0):\n",
    "    color = rgba(red, green, blue, alpha)\n",
    "    canvas = line_canvas2\n",
    "    canvas.js_init(\"\"\"\n",
    "    element.reset_canvas();\n",
    "    element.line({x1: x1, y1: y1, x2:x2, y2: y2, color: color, lineWidth: lineWidth});\n",
    "    element.fit();\n",
    "    element.lower_left_axes({max_tick_count: 4});\n",
    "    element.circle({x: x1, y: y1, r: 3, color: \"#999\"});\n",
    "    element.fit(null, 30);\n",
    "    \"\"\", x1=x1, y1=y1, x2=x2, y2=y2, color=color, lineWidth=lineWidth)\n",
    "\n",
    "w = interactive(\n",
    "    change_line_js, \n",
    "    x1=(-100, 100), \n",
    "    y1=(-100,100), \n",
    "    x2=(-100, 100), \n",
    "    y2=(-100,100), \n",
    "    lineWidth=(0,20),\n",
    "    red=(0,255),\n",
    "    green=(0,255),\n",
    "    blue=(0,255),\n",
    "    alpha=(0.0,1.0,0.1)\n",
    ")\n",
    "display(w)"
   ]
  },
  {
   "cell_type": "code",
   "execution_count": null,
   "metadata": {
    "collapsed": true,
    "deletable": true,
    "editable": true
   },
   "outputs": [],
   "source": []
  }
 ],
 "metadata": {
  "kernelspec": {
   "display_name": "Python 2",
   "language": "python",
   "name": "python2"
  },
  "language_info": {
   "codemirror_mode": {
    "name": "ipython",
    "version": 2
   },
   "file_extension": ".py",
   "mimetype": "text/x-python",
   "name": "python",
   "nbconvert_exporter": "python",
   "pygments_lexer": "ipython2",
   "version": "2.7.13"
  },
  "widgets": {
   "application/vnd.jupyter.widget-state+json": {
    "state": {
     "005d7e69075e4500880e8d546c9ba667": {
      "model_module": "@jupyter-widgets/controls",
      "model_module_version": "1.0.0",
      "model_name": "VBoxModel",
      "state": {
       "_dom_classes": [
        "widget-interact"
       ],
       "children": [
        "IPY_MODEL_7d252896fa97438fafaa084ea4551263",
        "IPY_MODEL_08f6369929cf46c1ae6068c3c37a97e5",
        "IPY_MODEL_c46b22814e3e499c955b03520fc8e632",
        "IPY_MODEL_671272fad9ef4134ae1fe02dd34c4ad8",
        "IPY_MODEL_c93f39da518646438b04157b34bd7c56",
        "IPY_MODEL_d4aa3be275c549bf98a27301f9ea643d",
        "IPY_MODEL_619cee7a7141452a96b54b06e86fa0cf",
        "IPY_MODEL_aed552f711b14f6db7a42e5a8a0586cd",
        "IPY_MODEL_12f5c7292f984cbfaa022fe0d962b938",
        "IPY_MODEL_4735820ddc5747699b67ac8e88b845c4",
        "IPY_MODEL_fb136458447a4a3babc1aba38566dcc5",
        "IPY_MODEL_890a4c79450a41178b3d849094e6a4d2",
        "IPY_MODEL_9c886f7f3f304c5295d0c90f6caad1cf",
        "IPY_MODEL_b90c9b37f55a42b992e229035b04d963"
       ],
       "layout": "IPY_MODEL_86d78f77ed4c48d6b572271895385d14"
      }
     },
     "006dd5c513074a388c13700f91733f63": {
      "model_module": "@jupyter-widgets/base",
      "model_module_version": "1.0.0",
      "model_name": "LayoutModel",
      "state": {}
     },
     "0077f871efb442d488e6daf1aa85f782": {
      "model_module": "@jupyter-widgets/controls",
      "model_module_version": "1.0.0",
      "model_name": "IntSliderModel",
      "state": {
       "description": "red",
       "layout": "IPY_MODEL_f4828d78be1f4978ad79535ccb130877",
       "max": 255,
       "style": "IPY_MODEL_a837d6ff2c364206824be155e814bbe0",
       "value": 255
      }
     },
     "0094cf76d10c4797877c2acdb1b9b395": {
      "model_module": "@jupyter-widgets/controls",
      "model_module_version": "1.0.0",
      "model_name": "SliderStyleModel",
      "state": {
       "description_width": ""
      }
     },
     "009a9d3919eb4e30b6ef76c7568be6b1": {
      "model_module": "@jupyter-widgets/base",
      "model_module_version": "1.0.0",
      "model_name": "LayoutModel",
      "state": {}
     },
     "009faa4d2649492c9b4d0bd213c9baed": {
      "model_module": "@jupyter-widgets/controls",
      "model_module_version": "1.0.0",
      "model_name": "SliderStyleModel",
      "state": {
       "description_width": ""
      }
     },
     "00cdca98bd6d4b90929842bdca03c560": {
      "model_module": "@jupyter-widgets/base",
      "model_module_version": "1.0.0",
      "model_name": "LayoutModel",
      "state": {}
     },
     "00d911d80b80400aaefb5507ef1f97fd": {
      "model_module": "@jupyter-widgets/base",
      "model_module_version": "1.0.0",
      "model_name": "LayoutModel",
      "state": {}
     },
     "00fff51fda9745da91cb8581a04d0204": {
      "model_module": "@jupyter-widgets/controls",
      "model_module_version": "1.0.0",
      "model_name": "SliderStyleModel",
      "state": {
       "description_width": ""
      }
     },
     "01078b705d2646639e336ba32eab301c": {
      "model_module": "@jupyter-widgets/base",
      "model_module_version": "1.0.0",
      "model_name": "LayoutModel",
      "state": {}
     },
     "013bcc8df4274bbf8d1fa0ba9b6588c3": {
      "model_module": "@jupyter-widgets/controls",
      "model_module_version": "1.0.0",
      "model_name": "SliderStyleModel",
      "state": {
       "description_width": ""
      }
     },
     "01635c761dc347cc8e40ffd3d802a919": {
      "model_module": "@jupyter-widgets/controls",
      "model_module_version": "1.0.0",
      "model_name": "SliderStyleModel",
      "state": {
       "description_width": ""
      }
     },
     "016987adc58d4baaa310d23a98c0b766": {
      "model_module": "@jupyter-widgets/controls",
      "model_module_version": "1.0.0",
      "model_name": "IntSliderModel",
      "state": {
       "description": "lineWidth",
       "layout": "IPY_MODEL_1d44b798ee5a4307bf1d1444247621aa",
       "max": 20,
       "style": "IPY_MODEL_6d972143f2264451a4b3cc428b6d03b0",
       "value": 5
      }
     },
     "018103180dfb40f0a0a80f565ac2ce91": {
      "model_module": "@jupyter-widgets/controls",
      "model_module_version": "1.0.0",
      "model_name": "HTMLModel",
      "state": {
       "layout": "IPY_MODEL_b7c59a5bc66d4f3c81461a2f55b4d850",
       "style": "IPY_MODEL_4a3d1dafe98d447688a7353ac480e895",
       "value": "<img src=\"interactive_rectangle2.png\" id=\"snapshot_id_45_1536323832354\"/>\n <div id=\"snapshot_id_46_1536323832354\">interactive_rectangle2.png</div>"
      }
     },
     "019f95e0bcc14171a624a10eb9e017c3": {
      "model_module": "@jupyter-widgets/controls",
      "model_module_version": "1.0.0",
      "model_name": "IntSliderModel",
      "state": {
       "description": "green",
       "layout": "IPY_MODEL_27fafaa986e74dafa21ee00b18011127",
       "max": 255,
       "style": "IPY_MODEL_4f6224acd4be445786a9d4dae41bbb5a"
      }
     },
     "01ded9535e644790bc4dfaeaa991eaf2": {
      "model_module": "@jupyter-widgets/controls",
      "model_module_version": "1.0.0",
      "model_name": "SliderStyleModel",
      "state": {
       "description_width": ""
      }
     },
     "01e015fd51a04bfb9ada1ac03e896b31": {
      "model_module": "@jupyter-widgets/controls",
      "model_module_version": "1.0.0",
      "model_name": "SliderStyleModel",
      "state": {
       "description_width": ""
      }
     },
     "027486edd7e64a2284c146b7ea5826ca": {
      "model_module": "@jupyter-widgets/base",
      "model_module_version": "1.0.0",
      "model_name": "LayoutModel",
      "state": {}
     },
     "028923014a394f6d8f57325039850cb0": {
      "model_module": "@jupyter-widgets/controls",
      "model_module_version": "1.0.0",
      "model_name": "IntSliderModel",
      "state": {
       "description": "x",
       "layout": "IPY_MODEL_983495d1532844bd84e4ebcaae25b17f",
       "min": -100,
       "style": "IPY_MODEL_07a2488470b448bf96fe9d8b0772086d"
      }
     },
     "02ffe96dc5a74646b3504b5fa40947b6": {
      "model_module": "@jupyter-widgets/base",
      "model_module_version": "1.0.0",
      "model_name": "LayoutModel",
      "state": {}
     },
     "030f09cf81f94695b9101d1acfe7f7a4": {
      "model_module": "@jupyter-widgets/base",
      "model_module_version": "1.0.0",
      "model_name": "LayoutModel",
      "state": {}
     },
     "03236a0df9f948cab8d472e8d40ab507": {
      "model_module": "@jupyter-widgets/base",
      "model_module_version": "1.0.0",
      "model_name": "LayoutModel",
      "state": {}
     },
     "0341be857f89415a999b1d56d3e4f063": {
      "model_module": "@jupyter-widgets/controls",
      "model_module_version": "1.0.0",
      "model_name": "IntSliderModel",
      "state": {
       "description": "blue",
       "layout": "IPY_MODEL_853ca156af7b460f8c762327496bfe5c",
       "max": 255,
       "style": "IPY_MODEL_05b58c69e84c4ba0ba8f909c65996287",
       "value": 255
      }
     },
     "0345744ae72e468aa14869456bf5632d": {
      "model_module": "@jupyter-widgets/base",
      "model_module_version": "1.0.0",
      "model_name": "LayoutModel",
      "state": {}
     },
     "03710299ba0f42a484350cf7c10020d9": {
      "model_module": "@jupyter-widgets/controls",
      "model_module_version": "1.0.0",
      "model_name": "SliderStyleModel",
      "state": {
       "description_width": ""
      }
     },
     "03d5c1c6ceae4094aeedabd648e6750d": {
      "model_module": "@jupyter-widgets/base",
      "model_module_version": "1.0.0",
      "model_name": "LayoutModel",
      "state": {}
     },
     "03e8424e15314392b53bb2b58cd42fd4": {
      "model_module": "@jupyter-widgets/base",
      "model_module_version": "1.0.0",
      "model_name": "LayoutModel",
      "state": {}
     },
     "044dcd88e28142e894c2503d60f882f9": {
      "model_module": "@jupyter-widgets/base",
      "model_module_version": "1.0.0",
      "model_name": "LayoutModel",
      "state": {}
     },
     "04677a21e0b2442390fd49f6e9526c8b": {
      "model_module": "@jupyter-widgets/controls",
      "model_module_version": "1.0.0",
      "model_name": "FloatSliderModel",
      "state": {
       "description": "arc",
       "layout": "IPY_MODEL_f51c752ce63c4542bac603c4338756b4",
       "max": 6.383185307179586,
       "step": 0.1,
       "style": "IPY_MODEL_3b298347d5164b729809133f282a4913",
       "value": 6.283185307179586
      }
     },
     "0471fb02c3b1445cb643143b3131ff0e": {
      "model_module": "@jupyter-widgets/base",
      "model_module_version": "1.0.0",
      "model_name": "LayoutModel",
      "state": {}
     },
     "04750ce289014b89a2abc7b2941ff541": {
      "model_module": "@jupyter-widgets/controls",
      "model_module_version": "1.0.0",
      "model_name": "SliderStyleModel",
      "state": {
       "description_width": ""
      }
     },
     "0497085973f24842bbc8acb93622ec08": {
      "model_module": "@jupyter-widgets/controls",
      "model_module_version": "1.0.0",
      "model_name": "IntSliderModel",
      "state": {
       "description": "y",
       "layout": "IPY_MODEL_17c32cedf63843efa18263616549455e",
       "min": -100,
       "style": "IPY_MODEL_0e58615fe41543d0b022cf6dfd39402c"
      }
     },
     "049ec02dd1914999b0a2640382ea71f7": {
      "model_module": "@jupyter-widgets/controls",
      "model_module_version": "1.0.0",
      "model_name": "SliderStyleModel",
      "state": {
       "description_width": ""
      }
     },
     "0508f8868207466388be8b8299a28843": {
      "model_module": "@jupyter-widgets/controls",
      "model_module_version": "1.0.0",
      "model_name": "SliderStyleModel",
      "state": {
       "description_width": ""
      }
     },
     "0523c1154da14aba9d5473b750217bf9": {
      "model_module": "@jupyter-widgets/base",
      "model_module_version": "1.0.0",
      "model_name": "LayoutModel",
      "state": {}
     },
     "0525bd700c3c4877bff059112338f5e8": {
      "model_module": "@jupyter-widgets/controls",
      "model_module_version": "1.0.0",
      "model_name": "IntSliderModel",
      "state": {
       "description": "red",
       "layout": "IPY_MODEL_24e26df30b86429da83d79df00b7ad0c",
       "max": 255,
       "style": "IPY_MODEL_cd76a416be4544e481d8658fe3ddec62",
       "value": 58
      }
     },
     "052b9bb8a8514d9fb17b8f5fb392876c": {
      "model_module": "@jupyter-widgets/base",
      "model_module_version": "1.0.0",
      "model_name": "LayoutModel",
      "state": {}
     },
     "05357c6f1330445c85d9d9dc445e43f1": {
      "model_module": "@jupyter-widgets/controls",
      "model_module_version": "1.0.0",
      "model_name": "SliderStyleModel",
      "state": {
       "description_width": ""
      }
     },
     "053eeb61df224b709839b44ad5e51b19": {
      "model_module": "@jupyter-widgets/base",
      "model_module_version": "1.0.0",
      "model_name": "LayoutModel",
      "state": {}
     },
     "0549ad3832a14c5eae86228413ea42ae": {
      "model_module": "@jupyter-widgets/base",
      "model_module_version": "1.0.0",
      "model_name": "LayoutModel",
      "state": {}
     },
     "05576f09bc9a40fca38ec2e4b4d5d182": {
      "model_module": "@jupyter-widgets/controls",
      "model_module_version": "1.0.0",
      "model_name": "SliderStyleModel",
      "state": {
       "description_width": ""
      }
     },
     "055989d265f64cf991290bd78be7324d": {
      "model_module": "@jupyter-widgets/controls",
      "model_module_version": "1.0.0",
      "model_name": "IntSliderModel",
      "state": {
       "description": "x2",
       "layout": "IPY_MODEL_b9412e3164e145c79a5d8a62d08508f2",
       "min": -100,
       "style": "IPY_MODEL_94d89b5158624b56be41333e270032f9",
       "value": 100
      }
     },
     "057600f2f3b546c9bfe152530fddb0cf": {
      "model_module": "@jupyter-widgets/controls",
      "model_module_version": "1.0.0",
      "model_name": "SliderStyleModel",
      "state": {
       "description_width": ""
      }
     },
     "05b58c69e84c4ba0ba8f909c65996287": {
      "model_module": "@jupyter-widgets/controls",
      "model_module_version": "1.0.0",
      "model_name": "SliderStyleModel",
      "state": {
       "description_width": ""
      }
     },
     "05c4f4409d0047a9964c5ec5d0677a44": {
      "model_module": "@jupyter-widgets/base",
      "model_module_version": "1.0.0",
      "model_name": "LayoutModel",
      "state": {}
     },
     "05e830773cac4398bac55ebbd4742f2b": {
      "model_module": "jp_proxy_widget",
      "model_module_version": "^0.3.4",
      "model_name": "JSProxyModel",
      "state": {
       "_model_module_version": "^0.3.4",
       "_send_counter": 12,
       "_view_module_version": "^0.3.4",
       "error_msg": "No error",
       "layout": "IPY_MODEL_69d899e910a6474e9180e9f585471087",
       "rendered": true,
       "status": "Got results."
      }
     },
     "05e92ab3b2fb4499bbf686498455913e": {
      "model_module": "jp_proxy_widget",
      "model_module_version": "^0.3.4",
      "model_name": "JSProxyModel",
      "state": {
       "_model_module_version": "^0.3.4",
       "_send_counter": 2,
       "_view_module_version": "^0.3.4",
       "error_msg": "No error",
       "layout": "IPY_MODEL_f0785c61d9e845258dc0cccb6822b89d",
       "rendered": true,
       "status": "Got results."
      }
     },
     "060305a695a44d20a0b336f9e1956c1a": {
      "model_module": "jp_proxy_widget",
      "model_module_version": "^0.3.4",
      "model_name": "JSProxyModel",
      "state": {
       "_model_module_version": "^0.3.4",
       "_send_counter": 2,
       "_view_module_version": "^0.3.4",
       "error_msg": "No error",
       "layout": "IPY_MODEL_cf5016b393d64edc81d8b22c8e192988",
       "rendered": true,
       "status": "Got results."
      }
     },
     "06244012558b45759158f59041a9bd3c": {
      "model_module": "@jupyter-widgets/base",
      "model_module_version": "1.0.0",
      "model_name": "LayoutModel",
      "state": {}
     },
     "0626be14a03e46c183c08afcd0ec95e4": {
      "model_module": "@jupyter-widgets/base",
      "model_module_version": "1.0.0",
      "model_name": "LayoutModel",
      "state": {}
     },
     "062a3a4367764cf49196ece2907e2f0e": {
      "model_module": "@jupyter-widgets/controls",
      "model_module_version": "1.0.0",
      "model_name": "SliderStyleModel",
      "state": {
       "description_width": ""
      }
     },
     "0636ebbe717145b49cfed57df280d29a": {
      "model_module": "@jupyter-widgets/controls",
      "model_module_version": "1.0.0",
      "model_name": "IntSliderModel",
      "state": {
       "description": "red",
       "layout": "IPY_MODEL_de3492bfd1184a9f94ff3b963b75fc13",
       "max": 255,
       "style": "IPY_MODEL_14c809c8d4bb4297bae32cec73e83ce1",
       "value": 255
      }
     },
     "0641ffaf24394f268c2c18cdf7b810bb": {
      "model_module": "@jupyter-widgets/controls",
      "model_module_version": "1.0.0",
      "model_name": "VBoxModel",
      "state": {
       "children": [
        "IPY_MODEL_92703755d8f74aae89b7f06ada3f6496",
        "IPY_MODEL_90e132ec873b4c72aa2ff7b7dd04cc0f"
       ],
       "layout": "IPY_MODEL_7facc299cfc34269b8bc09ecf238e4a6"
      }
     },
     "0683a782ef144a8b8fe64d0539892c52": {
      "model_module": "@jupyter-widgets/base",
      "model_module_version": "1.0.0",
      "model_name": "LayoutModel",
      "state": {}
     },
     "068449d6e84d47ba93bee86a28fc050c": {
      "model_module": "@jupyter-widgets/controls",
      "model_module_version": "1.0.0",
      "model_name": "HTMLModel",
      "state": {
       "layout": "IPY_MODEL_3d5058bc2e3b4e539cc00452ef824c4d",
       "style": "IPY_MODEL_5a37f347672e48bd8f2a78eaaaf41828",
       "value": "<img src=\"interactive_circle.png\" id=\"snapshot_id_11_1536246416146\"/>\n <div id=\"snapshot_id_12_1536246416146\">interactive_circle.png</div>"
      }
     },
     "06c7e09f993543399edab0f8d7be2a68": {
      "model_module": "@jupyter-widgets/base",
      "model_module_version": "1.0.0",
      "model_name": "LayoutModel",
      "state": {}
     },
     "06de8db91b384e5c84a4a00f09dea284": {
      "model_module": "@jupyter-widgets/controls",
      "model_module_version": "1.0.0",
      "model_name": "VBoxModel",
      "state": {
       "children": [
        "IPY_MODEL_ad81e4957373490ea2d83440a1f06289",
        "IPY_MODEL_1c41b7644f7a408ca122eb73652c73d1"
       ],
       "layout": "IPY_MODEL_2c0703e95f93481e80c43e646030cf5f"
      }
     },
     "0711718a6c504992a69b52793ab8fae7": {
      "model_module": "@jupyter-widgets/base",
      "model_module_version": "1.0.0",
      "model_name": "LayoutModel",
      "state": {}
     },
     "071db224102a43ea88cf25df7b21e318": {
      "model_module": "@jupyter-widgets/controls",
      "model_module_version": "1.0.0",
      "model_name": "SliderStyleModel",
      "state": {
       "description_width": ""
      }
     },
     "072eb40a142c4b4baa780c08f838c4ec": {
      "model_module": "@jupyter-widgets/base",
      "model_module_version": "1.0.0",
      "model_name": "LayoutModel",
      "state": {}
     },
     "0734ac469e3443feae42710aaa7e02fd": {
      "model_module": "@jupyter-widgets/base",
      "model_module_version": "1.0.0",
      "model_name": "LayoutModel",
      "state": {}
     },
     "073caac3c8f54eb0b927bc56bd31fab4": {
      "model_module": "@jupyter-widgets/controls",
      "model_module_version": "1.0.0",
      "model_name": "SliderStyleModel",
      "state": {
       "description_width": ""
      }
     },
     "07428dc03a9b492bb050648b100fabc7": {
      "model_module": "@jupyter-widgets/base",
      "model_module_version": "1.0.0",
      "model_name": "LayoutModel",
      "state": {}
     },
     "075a08c4b40b4fb08c3c09feb464c993": {
      "model_module": "@jupyter-widgets/base",
      "model_module_version": "1.0.0",
      "model_name": "LayoutModel",
      "state": {}
     },
     "076401acc0ed4270ba5ddb059105b700": {
      "model_module": "@jupyter-widgets/controls",
      "model_module_version": "1.0.0",
      "model_name": "SliderStyleModel",
      "state": {
       "description_width": ""
      }
     },
     "0772d72b375e413dbcfb10010cb42e55": {
      "model_module": "@jupyter-widgets/base",
      "model_module_version": "1.0.0",
      "model_name": "LayoutModel",
      "state": {}
     },
     "077d2fa2edd74850ab287ffabf01d1fd": {
      "model_module": "@jupyter-widgets/base",
      "model_module_version": "1.0.0",
      "model_name": "LayoutModel",
      "state": {}
     },
     "079ecc7ed8e84960911ee838dd808b8d": {
      "model_module": "@jupyter-widgets/base",
      "model_module_version": "1.0.0",
      "model_name": "LayoutModel",
      "state": {}
     },
     "07a2488470b448bf96fe9d8b0772086d": {
      "model_module": "@jupyter-widgets/controls",
      "model_module_version": "1.0.0",
      "model_name": "SliderStyleModel",
      "state": {
       "description_width": ""
      }
     },
     "07cb3f0a01ae4050962530ac799a9ada": {
      "model_module": "@jupyter-widgets/controls",
      "model_module_version": "1.0.0",
      "model_name": "SliderStyleModel",
      "state": {
       "description_width": ""
      }
     },
     "07cea71eb023485c9026b8bfedc33150": {
      "model_module": "@jupyter-widgets/controls",
      "model_module_version": "1.0.0",
      "model_name": "FloatSliderModel",
      "state": {
       "description": "arc",
       "layout": "IPY_MODEL_093c6e42adc542c29d6a71c9603225f8",
       "max": 6.383185307179586,
       "step": 0.1,
       "style": "IPY_MODEL_76dc543a17bd4d49a495b03b1bfa7ef8",
       "value": 6.3
      }
     },
     "07f1621bf2ff452ca1db38ef44fb98ba": {
      "model_module": "@jupyter-widgets/base",
      "model_module_version": "1.0.0",
      "model_name": "LayoutModel",
      "state": {}
     },
     "0820e16ac24e4e2ab5bb87eef8113dee": {
      "model_module": "@jupyter-widgets/controls",
      "model_module_version": "1.0.0",
      "model_name": "IntSliderModel",
      "state": {
       "description": "blue",
       "layout": "IPY_MODEL_aaf239bd30944d0cad7ddea1b6fa57c8",
       "max": 255,
       "style": "IPY_MODEL_a57c354ccb1d40f3a428ee033eff51b1",
       "value": 255
      }
     },
     "082153a5250c4617b76aef431476d507": {
      "model_module": "@jupyter-widgets/controls",
      "model_module_version": "1.0.0",
      "model_name": "SliderStyleModel",
      "state": {
       "description_width": ""
      }
     },
     "083acbc277a3405fa402c4168b4e3f9f": {
      "model_module": "@jupyter-widgets/controls",
      "model_module_version": "1.0.0",
      "model_name": "SliderStyleModel",
      "state": {
       "description_width": ""
      }
     },
     "086895d5615c4299818d42ee4ec28ca3": {
      "model_module": "@jupyter-widgets/output",
      "model_module_version": "1.0.0",
      "model_name": "OutputModel",
      "state": {
       "layout": "IPY_MODEL_bccf8a24fbb2429ea1fa463826f0d2a2"
      }
     },
     "088825cd23434719842e80f1370e9dad": {
      "model_module": "@jupyter-widgets/controls",
      "model_module_version": "1.0.0",
      "model_name": "TabModel",
      "state": {
       "_titles": {
        "0": "Canvas",
        "1": "Snapshot"
       },
       "children": [
        "IPY_MODEL_753b63c2122c4b64950abbbe0956daf3",
        "IPY_MODEL_aeef2d01cfaf49939ea4f81be4dc10fa"
       ],
       "layout": "IPY_MODEL_7b166f5e9d214bc3a7a8d21bcfde82de"
      }
     },
     "08a236e0088846f1a23ad747a760a532": {
      "model_module": "@jupyter-widgets/controls",
      "model_module_version": "1.0.0",
      "model_name": "SliderStyleModel",
      "state": {
       "description_width": ""
      }
     },
     "08d6ef584754424bb9a274086ea50c18": {
      "model_module": "@jupyter-widgets/controls",
      "model_module_version": "1.0.0",
      "model_name": "IntSliderModel",
      "state": {
       "description": "green",
       "layout": "IPY_MODEL_ba712410e6124d549f253b83a2386265",
       "max": 255,
       "style": "IPY_MODEL_1bdf6f48ccb644ba98c666e5630ef289",
       "value": 218
      }
     },
     "08f10721a5294105b92790e7e3ae2341": {
      "model_module": "@jupyter-widgets/base",
      "model_module_version": "1.0.0",
      "model_name": "LayoutModel",
      "state": {}
     },
     "08f6369929cf46c1ae6068c3c37a97e5": {
      "model_module": "@jupyter-widgets/controls",
      "model_module_version": "1.0.0",
      "model_name": "IntSliderModel",
      "state": {
       "description": "y",
       "layout": "IPY_MODEL_104af2a27d0846f299238f2d6746c6ed",
       "min": -100,
       "style": "IPY_MODEL_e731ce980a4a4a82923d3b480caf82d8"
      }
     },
     "092491e84d704b03a093ac4070a52555": {
      "model_module": "@jupyter-widgets/controls",
      "model_module_version": "1.0.0",
      "model_name": "SliderStyleModel",
      "state": {
       "description_width": ""
      }
     },
     "093c6e42adc542c29d6a71c9603225f8": {
      "model_module": "@jupyter-widgets/base",
      "model_module_version": "1.0.0",
      "model_name": "LayoutModel",
      "state": {}
     },
     "095662c712264a84874ace2ee25f9b12": {
      "model_module": "@jupyter-widgets/controls",
      "model_module_version": "1.0.0",
      "model_name": "HTMLModel",
      "state": {
       "layout": "IPY_MODEL_916d11057a8f41b9aaccb6dfd5c3370d",
       "style": "IPY_MODEL_8e0c373f41db4cc09854c9983ec840ad",
       "value": "<img src=\"interactive_rectangle.png\" id=\"snapshot_id_39_1536323697425\"/>\n <div id=\"snapshot_id_40_1536323697425\">interactive_rectangle.png</div>"
      }
     },
     "0965547da6e141d8ae9d333ef196b042": {
      "model_module": "@jupyter-widgets/controls",
      "model_module_version": "1.0.0",
      "model_name": "SliderStyleModel",
      "state": {
       "description_width": ""
      }
     },
     "09882c0f28c24ce0a6a1169714214bf0": {
      "model_module": "@jupyter-widgets/controls",
      "model_module_version": "1.0.0",
      "model_name": "IntSliderModel",
      "state": {
       "description": "dy",
       "layout": "IPY_MODEL_a99673c6ce4d47a8a0afbad27a81988e",
       "min": -100,
       "style": "IPY_MODEL_159fa7584b624d54b0bc95dc7b102e67",
       "value": -20
      }
     },
     "09bfa3b8227f4234be3b6973c6f028e6": {
      "model_module": "@jupyter-widgets/controls",
      "model_module_version": "1.0.0",
      "model_name": "IntSliderModel",
      "state": {
       "description": "degrees",
       "layout": "IPY_MODEL_43954d7df1884b2684065c9e92e8a746",
       "max": 360,
       "min": -360,
       "style": "IPY_MODEL_4379508570554a5b9505ff68ffd31c81",
       "value": -135
      }
     },
     "09d217c780954a4094b36369a8145622": {
      "model_module": "@jupyter-widgets/controls",
      "model_module_version": "1.0.0",
      "model_name": "CheckboxModel",
      "state": {
       "description": "fill",
       "disabled": false,
       "layout": "IPY_MODEL_2e34f0fc8ec0401aaa0a52dbc5a8eb0e",
       "style": "IPY_MODEL_47eda62a46664c0e8006899dbb95c783",
       "value": false
      }
     },
     "09f9e84dc0b24f3395212e5afb68a236": {
      "model_module": "@jupyter-widgets/controls",
      "model_module_version": "1.0.0",
      "model_name": "SliderStyleModel",
      "state": {
       "description_width": ""
      }
     },
     "09fab0e60d594696ac2da9a0e1c49240": {
      "model_module": "@jupyter-widgets/controls",
      "model_module_version": "1.0.0",
      "model_name": "SliderStyleModel",
      "state": {
       "description_width": ""
      }
     },
     "0a092f6ecd2c4878844e74022c21d4d2": {
      "model_module": "@jupyter-widgets/controls",
      "model_module_version": "1.0.0",
      "model_name": "SliderStyleModel",
      "state": {
       "description_width": ""
      }
     },
     "0a0bfbafe787495bab6bda6af80167e2": {
      "model_module": "@jupyter-widgets/base",
      "model_module_version": "1.0.0",
      "model_name": "LayoutModel",
      "state": {}
     },
     "0a165a16730a411cafac642b0eafe0e5": {
      "model_module": "@jupyter-widgets/controls",
      "model_module_version": "1.0.0",
      "model_name": "DescriptionStyleModel",
      "state": {
       "description_width": ""
      }
     },
     "0a290f2ee54a4b0b91e1a19caf776beb": {
      "model_module": "@jupyter-widgets/controls",
      "model_module_version": "1.0.0",
      "model_name": "SliderStyleModel",
      "state": {
       "description_width": ""
      }
     },
     "0a39ab45b1af48b9a7f735df24b7b659": {
      "model_module": "@jupyter-widgets/base",
      "model_module_version": "1.0.0",
      "model_name": "LayoutModel",
      "state": {}
     },
     "0a61c15754a14c7398ac7bc43cf63d67": {
      "model_module": "@jupyter-widgets/controls",
      "model_module_version": "1.0.0",
      "model_name": "SliderStyleModel",
      "state": {
       "description_width": ""
      }
     },
     "0a94e72be7834372881929c340aabc03": {
      "model_module": "@jupyter-widgets/base",
      "model_module_version": "1.0.0",
      "model_name": "LayoutModel",
      "state": {}
     },
     "0a985590eb4c4369992dd537c216e700": {
      "model_module": "@jupyter-widgets/controls",
      "model_module_version": "1.0.0",
      "model_name": "IntSliderModel",
      "state": {
       "description": "w",
       "layout": "IPY_MODEL_170926b1c358431595f3c0f93b670133",
       "max": 300,
       "min": -300,
       "style": "IPY_MODEL_6e59fb65d30e409e8ee3a08184440031",
       "value": 150
      }
     },
     "0ac8962311e442a6b9131ec618ebbae7": {
      "model_module": "@jupyter-widgets/base",
      "model_module_version": "1.0.0",
      "model_name": "LayoutModel",
      "state": {}
     },
     "0af65bb5734049498a94319a63d47323": {
      "model_module": "@jupyter-widgets/controls",
      "model_module_version": "1.0.0",
      "model_name": "IntSliderModel",
      "state": {
       "description": "w",
       "layout": "IPY_MODEL_2c22ee5d344241849908524593aad2f4",
       "max": 300,
       "min": -300,
       "style": "IPY_MODEL_c84ef6aea8fd425881cea85bfb25d2dc",
       "value": 10
      }
     },
     "0af90d87d0e84a3ea77d1b51ac3e81e3": {
      "model_module": "@jupyter-widgets/base",
      "model_module_version": "1.0.0",
      "model_name": "LayoutModel",
      "state": {}
     },
     "0b38796392674006bccfc9b83ac3285c": {
      "model_module": "@jupyter-widgets/base",
      "model_module_version": "1.0.0",
      "model_name": "LayoutModel",
      "state": {}
     },
     "0b388eb410ea42eaa2148e23bdda099a": {
      "model_module": "@jupyter-widgets/controls",
      "model_module_version": "1.0.0",
      "model_name": "IntSliderModel",
      "state": {
       "description": "red",
       "layout": "IPY_MODEL_8fa2c43c81c54a54bf65d9e484693c73",
       "max": 255,
       "style": "IPY_MODEL_4df9c4d1831d4dceb9ba1589c520bbde",
       "value": 127
      }
     },
     "0b3e93831e304980afb4329aabfc6a27": {
      "model_module": "@jupyter-widgets/controls",
      "model_module_version": "1.0.0",
      "model_name": "VBoxModel",
      "state": {
       "children": [
        "IPY_MODEL_b5c2db12e98c4ecb95e4b562d5ac27a9",
        "IPY_MODEL_6106db625c77487f802601fc0fa34672"
       ],
       "layout": "IPY_MODEL_a385a6cf99664b71a15615cad2739a0f"
      }
     },
     "0b95c4c8fdb041f19c79512c9059213e": {
      "model_module": "@jupyter-widgets/base",
      "model_module_version": "1.0.0",
      "model_name": "LayoutModel",
      "state": {}
     },
     "0b97ea9234934a809d86a1b4bff6ff19": {
      "model_module": "@jupyter-widgets/base",
      "model_module_version": "1.0.0",
      "model_name": "LayoutModel",
      "state": {}
     },
     "0bbcabd308a7424bafc46ff827ea4800": {
      "model_module": "@jupyter-widgets/controls",
      "model_module_version": "1.0.0",
      "model_name": "HTMLModel",
      "state": {
       "layout": "IPY_MODEL_4c7b83a3e80741779596afa730e65ebc",
       "style": "IPY_MODEL_c86e65b621944ea29cfc1e033b0d40b6",
       "value": "<img src=\"interactive_rectangle.png\" id=\"snapshot_id_23_1536268043646\"/>\n <div id=\"snapshot_id_24_1536268043646\">interactive_rectangle.png</div>"
      }
     },
     "0bbd75a7181a4e08b0e29a79e02219bc": {
      "model_module": "@jupyter-widgets/controls",
      "model_module_version": "1.0.0",
      "model_name": "SliderStyleModel",
      "state": {
       "description_width": ""
      }
     },
     "0c1b85fa2d7744d9b92b6ce8964dbaeb": {
      "model_module": "@jupyter-widgets/base",
      "model_module_version": "1.0.0",
      "model_name": "LayoutModel",
      "state": {}
     },
     "0c4006d73c0943cb99ce6685de810a57": {
      "model_module": "@jupyter-widgets/controls",
      "model_module_version": "1.0.0",
      "model_name": "SliderStyleModel",
      "state": {
       "description_width": ""
      }
     },
     "0c5742a5584a443ca5cb066e4ec39e35": {
      "model_module": "@jupyter-widgets/controls",
      "model_module_version": "1.0.0",
      "model_name": "IntSliderModel",
      "state": {
       "description": "y",
       "layout": "IPY_MODEL_77c37a70d686438abda8ceb2dcf1a517",
       "min": -100,
       "style": "IPY_MODEL_082153a5250c4617b76aef431476d507"
      }
     },
     "0c805990a4924a9abc03534bdc3c9551": {
      "model_module": "@jupyter-widgets/controls",
      "model_module_version": "1.0.0",
      "model_name": "DescriptionStyleModel",
      "state": {
       "description_width": ""
      }
     },
     "0c9b20fa6f0342f89eede01647a3e169": {
      "model_module": "@jupyter-widgets/controls",
      "model_module_version": "1.0.0",
      "model_name": "VBoxModel",
      "state": {
       "children": [
        "IPY_MODEL_1e8b760abbc54bd58f0b72eb6b00fcbe",
        "IPY_MODEL_df387ebf851c4805ac460a506dda15a9"
       ],
       "layout": "IPY_MODEL_98e77d776be9423bb965524d69df7df3"
      }
     },
     "0ca84b16e0db4d94b1ca67cfca0f5392": {
      "model_module": "@jupyter-widgets/base",
      "model_module_version": "1.0.0",
      "model_name": "LayoutModel",
      "state": {}
     },
     "0caa6c38d047432d8437cb74fad8de3b": {
      "model_module": "@jupyter-widgets/controls",
      "model_module_version": "1.0.0",
      "model_name": "FloatSliderModel",
      "state": {
       "description": "alpha",
       "layout": "IPY_MODEL_9b5aab8d991c48169b32e45127b67cc0",
       "max": 1,
       "step": 0.1,
       "style": "IPY_MODEL_5b8e952740c744e5b88b23014164a2e6",
       "value": 1
      }
     },
     "0cb328fb5fac4df5bd04e16affa363b2": {
      "model_module": "@jupyter-widgets/controls",
      "model_module_version": "1.0.0",
      "model_name": "SliderStyleModel",
      "state": {
       "description_width": ""
      }
     },
     "0cb87f1e88684fcc8ceb6ea892cfec1b": {
      "model_module": "@jupyter-widgets/controls",
      "model_module_version": "1.0.0",
      "model_name": "SliderStyleModel",
      "state": {
       "description_width": ""
      }
     },
     "0cd04d97c4da4af296e44f5a1fc7cd39": {
      "model_module": "@jupyter-widgets/controls",
      "model_module_version": "1.0.0",
      "model_name": "SliderStyleModel",
      "state": {
       "description_width": ""
      }
     },
     "0cef01227f0c4904810d7642a4cf9400": {
      "model_module": "@jupyter-widgets/base",
      "model_module_version": "1.0.0",
      "model_name": "LayoutModel",
      "state": {}
     },
     "0d1a97c4b5f043f0b93bf39679ed888e": {
      "model_module": "@jupyter-widgets/controls",
      "model_module_version": "1.0.0",
      "model_name": "IntSliderModel",
      "state": {
       "description": "green",
       "layout": "IPY_MODEL_2232333ea6a6491cb05dcddfce9ff6e1",
       "max": 255,
       "style": "IPY_MODEL_8f28642a34004b8ebb0a59d2a6e9a7b8"
      }
     },
     "0d2431a2ebde4bcfb5b9da41c8bfbf4e": {
      "model_module": "@jupyter-widgets/controls",
      "model_module_version": "1.0.0",
      "model_name": "SliderStyleModel",
      "state": {
       "description_width": ""
      }
     },
     "0d24dcc3b4f94035ae9b3b83eb6b2356": {
      "model_module": "@jupyter-widgets/controls",
      "model_module_version": "1.0.0",
      "model_name": "SliderStyleModel",
      "state": {
       "description_width": ""
      }
     },
     "0d4046d4646440acaa414b77f21f90f7": {
      "model_module": "@jupyter-widgets/controls",
      "model_module_version": "1.0.0",
      "model_name": "SliderStyleModel",
      "state": {
       "description_width": ""
      }
     },
     "0d65c9f8b8cd4c278877f04bb963daea": {
      "model_module": "@jupyter-widgets/controls",
      "model_module_version": "1.0.0",
      "model_name": "SliderStyleModel",
      "state": {
       "description_width": ""
      }
     },
     "0d6eae09978a488fa7f3c6f4bdd0099a": {
      "model_module": "@jupyter-widgets/controls",
      "model_module_version": "1.0.0",
      "model_name": "SliderStyleModel",
      "state": {
       "description_width": ""
      }
     },
     "0d8ef70c113a406e9d845bd05d245abc": {
      "model_module": "@jupyter-widgets/controls",
      "model_module_version": "1.0.0",
      "model_name": "SliderStyleModel",
      "state": {
       "description_width": ""
      }
     },
     "0da7d200c9374e8aa583dde3e514bf86": {
      "model_module": "@jupyter-widgets/base",
      "model_module_version": "1.0.0",
      "model_name": "LayoutModel",
      "state": {}
     },
     "0db4fe523f844d1cb607269ac13e0270": {
      "model_module": "@jupyter-widgets/controls",
      "model_module_version": "1.0.0",
      "model_name": "SliderStyleModel",
      "state": {
       "description_width": ""
      }
     },
     "0dbdfa6c2d544196852733b3e45c54bc": {
      "model_module": "@jupyter-widgets/base",
      "model_module_version": "1.0.0",
      "model_name": "LayoutModel",
      "state": {}
     },
     "0dc07ffe40814fa3a0b829a2dd0f9b01": {
      "model_module": "@jupyter-widgets/controls",
      "model_module_version": "1.0.0",
      "model_name": "SliderStyleModel",
      "state": {
       "description_width": ""
      }
     },
     "0dc100683cfa456ebc8efd91961e6e46": {
      "model_module": "@jupyter-widgets/controls",
      "model_module_version": "1.0.0",
      "model_name": "SliderStyleModel",
      "state": {
       "description_width": ""
      }
     },
     "0dc53b1eb5e94cdab25a60fa959d7160": {
      "model_module": "@jupyter-widgets/base",
      "model_module_version": "1.0.0",
      "model_name": "LayoutModel",
      "state": {}
     },
     "0de6e360c2ef40949e6fa5124c73644a": {
      "model_module": "@jupyter-widgets/controls",
      "model_module_version": "1.0.0",
      "model_name": "SliderStyleModel",
      "state": {
       "description_width": ""
      }
     },
     "0e03e61d7c234ed0b6c7b1b0d0e95cb9": {
      "model_module": "@jupyter-widgets/base",
      "model_module_version": "1.0.0",
      "model_name": "LayoutModel",
      "state": {}
     },
     "0e0f736cb1244181a578d9fe1bd18a5c": {
      "model_module": "@jupyter-widgets/controls",
      "model_module_version": "1.0.0",
      "model_name": "IntSliderModel",
      "state": {
       "description": "blue",
       "layout": "IPY_MODEL_a76598dabb5b438eb99011de3a3e5eb9",
       "max": 255,
       "style": "IPY_MODEL_122941342671498786a80d48157096c1",
       "value": 255
      }
     },
     "0e236c0abc8543678cde80a20f77d38a": {
      "model_module": "@jupyter-widgets/controls",
      "model_module_version": "1.0.0",
      "model_name": "SliderStyleModel",
      "state": {
       "description_width": ""
      }
     },
     "0e58615fe41543d0b022cf6dfd39402c": {
      "model_module": "@jupyter-widgets/controls",
      "model_module_version": "1.0.0",
      "model_name": "SliderStyleModel",
      "state": {
       "description_width": ""
      }
     },
     "0e615e5c637d466ba260c1deef5e2672": {
      "model_module": "@jupyter-widgets/base",
      "model_module_version": "1.0.0",
      "model_name": "LayoutModel",
      "state": {}
     },
     "0e8c2fd6ecf64207855b47f5058b8346": {
      "model_module": "@jupyter-widgets/base",
      "model_module_version": "1.0.0",
      "model_name": "LayoutModel",
      "state": {}
     },
     "0eb03ac1fd3f4bbaac2f11c2fdc71877": {
      "model_module": "@jupyter-widgets/base",
      "model_module_version": "1.0.0",
      "model_name": "LayoutModel",
      "state": {}
     },
     "0eb2be7a42924abda08834e268871f33": {
      "model_module": "jp_proxy_widget",
      "model_module_version": "^0.3.4",
      "model_name": "JSProxyModel",
      "state": {
       "_model_module_version": "^0.3.4",
       "_send_counter": 2,
       "_view_module_version": "^0.3.4",
       "error_msg": "No error",
       "layout": "IPY_MODEL_7bbcb409e9284b17bf0993b8c1a7121f",
       "rendered": true,
       "status": "call back to <function callback_function at 0x103b63398>"
      }
     },
     "0eb2e51813de43a48111f85c8dbae638": {
      "model_module": "@jupyter-widgets/base",
      "model_module_version": "1.0.0",
      "model_name": "LayoutModel",
      "state": {}
     },
     "0efde9d58262422e94d9940d190f9520": {
      "model_module": "@jupyter-widgets/base",
      "model_module_version": "1.0.0",
      "model_name": "LayoutModel",
      "state": {}
     },
     "0f0b3e7c4792423d9ee9aa5f00f82f9e": {
      "model_module": "@jupyter-widgets/controls",
      "model_module_version": "1.0.0",
      "model_name": "IntSliderModel",
      "state": {
       "description": "x",
       "layout": "IPY_MODEL_d489cc2f4f5844a08f377f7dbbf5b611",
       "min": -100,
       "style": "IPY_MODEL_1664fb07bba348f582190d9fa1b70172"
      }
     },
     "0f40adde64bb4a949323981cbd3dc422": {
      "model_module": "@jupyter-widgets/controls",
      "model_module_version": "1.0.0",
      "model_name": "IntSliderModel",
      "state": {
       "description": "degrees",
       "layout": "IPY_MODEL_e138db6a2e5149f5ad8104ed0b3ae41f",
       "max": 360,
       "min": -360,
       "style": "IPY_MODEL_de4aad0c3d944fa99f7b24f6b8a7973a"
      }
     },
     "0f51c34da49247b99b71ecdd5497bf39": {
      "model_module": "@jupyter-widgets/base",
      "model_module_version": "1.0.0",
      "model_name": "LayoutModel",
      "state": {}
     },
     "0fd3cb40dba6496f8ec1e16175f84e53": {
      "model_module": "@jupyter-widgets/controls",
      "model_module_version": "1.0.0",
      "model_name": "SliderStyleModel",
      "state": {
       "description_width": ""
      }
     },
     "0fd823d818d745a59459b962e94bac3a": {
      "model_module": "@jupyter-widgets/base",
      "model_module_version": "1.0.0",
      "model_name": "LayoutModel",
      "state": {}
     },
     "0fe33f6ce39c4997bcb980b16c3ac51e": {
      "model_module": "@jupyter-widgets/base",
      "model_module_version": "1.0.0",
      "model_name": "LayoutModel",
      "state": {}
     },
     "0fe6f8f30ef94655830193d419e41e25": {
      "model_module": "@jupyter-widgets/controls",
      "model_module_version": "1.0.0",
      "model_name": "SliderStyleModel",
      "state": {
       "description_width": ""
      }
     },
     "0ffacdeea28a4d518cd9b36addba4e47": {
      "model_module": "@jupyter-widgets/controls",
      "model_module_version": "1.0.0",
      "model_name": "SliderStyleModel",
      "state": {
       "description_width": ""
      }
     },
     "1000747db3224025aa9f220ec43e0a10": {
      "model_module": "@jupyter-widgets/base",
      "model_module_version": "1.0.0",
      "model_name": "LayoutModel",
      "state": {}
     },
     "10112307254d466ea0e7ce2f47ad3a71": {
      "model_module": "@jupyter-widgets/base",
      "model_module_version": "1.0.0",
      "model_name": "LayoutModel",
      "state": {}
     },
     "104af2a27d0846f299238f2d6746c6ed": {
      "model_module": "@jupyter-widgets/base",
      "model_module_version": "1.0.0",
      "model_name": "LayoutModel",
      "state": {}
     },
     "106ae15c35714f68a260aa36ffcbdf87": {
      "model_module": "@jupyter-widgets/base",
      "model_module_version": "1.0.0",
      "model_name": "LayoutModel",
      "state": {}
     },
     "1074c68f3fbb4175a73ee6587dac4f2d": {
      "model_module": "@jupyter-widgets/base",
      "model_module_version": "1.0.0",
      "model_name": "LayoutModel",
      "state": {}
     },
     "1099c7ec884643e3a302c56a26a48516": {
      "model_module": "jp_proxy_widget",
      "model_module_version": "^0.3.4",
      "model_name": "JSProxyModel",
      "state": {
       "_model_module_version": "^0.3.4",
       "_send_counter": 2,
       "_view_module_version": "^0.3.4",
       "error_msg": "No error",
       "layout": "IPY_MODEL_97fd86653c0445ae813726681c636030",
       "rendered": true,
       "status": "Got results."
      }
     },
     "109ee51aa37a4caa9c892b2df134729e": {
      "model_module": "@jupyter-widgets/base",
      "model_module_version": "1.0.0",
      "model_name": "LayoutModel",
      "state": {}
     },
     "10a3705620fd4a1a988a4484cfbaac72": {
      "model_module": "@jupyter-widgets/controls",
      "model_module_version": "1.0.0",
      "model_name": "SliderStyleModel",
      "state": {
       "description_width": ""
      }
     },
     "10d5d358ab884c8b971ff2fc7ce1d2eb": {
      "model_module": "@jupyter-widgets/controls",
      "model_module_version": "1.0.0",
      "model_name": "VBoxModel",
      "state": {
       "children": [
        "IPY_MODEL_7899031a98a84214a4617ed3b18814bc",
        "IPY_MODEL_05e92ab3b2fb4499bbf686498455913e"
       ],
       "layout": "IPY_MODEL_ac1085b427584a88b03c019ba5b35317"
      }
     },
     "11404e3697a74494a8812bb353847cd1": {
      "model_module": "@jupyter-widgets/base",
      "model_module_version": "1.0.0",
      "model_name": "LayoutModel",
      "state": {}
     },
     "114e89592ecf463994b3d44e55a4f21b": {
      "model_module": "@jupyter-widgets/controls",
      "model_module_version": "1.0.0",
      "model_name": "TabModel",
      "state": {
       "_titles": {
        "0": "Canvas",
        "1": "Snapshot"
       },
       "children": [
        "IPY_MODEL_8f0e874f1bb54531bd295b3b7f0aaec8",
        "IPY_MODEL_98a2afdb76074604a1cafa8c16393664"
       ],
       "layout": "IPY_MODEL_9d64662664ed47d5b4fc274ae7bc739c"
      }
     },
     "115273af4d1f468cb248f0bdfbc4b940": {
      "model_module": "@jupyter-widgets/controls",
      "model_module_version": "1.0.0",
      "model_name": "DescriptionStyleModel",
      "state": {
       "description_width": ""
      }
     },
     "11725c45809344a4abd493179511a0f6": {
      "model_module": "@jupyter-widgets/base",
      "model_module_version": "1.0.0",
      "model_name": "LayoutModel",
      "state": {}
     },
     "11b4cd7275ae454b9f8f4193c877792f": {
      "model_module": "@jupyter-widgets/controls",
      "model_module_version": "1.0.0",
      "model_name": "SliderStyleModel",
      "state": {
       "description_width": ""
      }
     },
     "11c5f59ec26b4c4da592ae8e89b38d47": {
      "model_module": "@jupyter-widgets/base",
      "model_module_version": "1.0.0",
      "model_name": "LayoutModel",
      "state": {}
     },
     "11d8c75a31fc47a68db22ba03fe70172": {
      "model_module": "@jupyter-widgets/base",
      "model_module_version": "1.0.0",
      "model_name": "LayoutModel",
      "state": {}
     },
     "11effc9b4d684044bac4a61fa0eacaa7": {
      "model_module": "@jupyter-widgets/base",
      "model_module_version": "1.0.0",
      "model_name": "LayoutModel",
      "state": {}
     },
     "11fea5e7575d45f4a007f28bbf303921": {
      "model_module": "@jupyter-widgets/controls",
      "model_module_version": "1.0.0",
      "model_name": "SliderStyleModel",
      "state": {
       "description_width": ""
      }
     },
     "120d49b4e746400da20e028973a20fe7": {
      "model_module": "@jupyter-widgets/controls",
      "model_module_version": "1.0.0",
      "model_name": "HTMLModel",
      "state": {
       "layout": "IPY_MODEL_053eeb61df224b709839b44ad5e51b19",
       "style": "IPY_MODEL_2af5751967594d488226afc3e3138e0b",
       "value": "<img src=\"interactive_circle.png\" id=\"snapshot_id_15_1536246643964\"/>\n <div id=\"snapshot_id_16_1536246643964\">interactive_circle.png</div>"
      }
     },
     "120f53b2f22744898f2dcba332c72471": {
      "model_module": "@jupyter-widgets/controls",
      "model_module_version": "1.0.0",
      "model_name": "IntSliderModel",
      "state": {
       "description": "y",
       "layout": "IPY_MODEL_a4a10e91ee514e8d8df3c62120e8ad7e",
       "min": -100,
       "style": "IPY_MODEL_4e85ca2ee6ce4dd8b293e0b42f3b4f56"
      }
     },
     "122941342671498786a80d48157096c1": {
      "model_module": "@jupyter-widgets/controls",
      "model_module_version": "1.0.0",
      "model_name": "SliderStyleModel",
      "state": {
       "description_width": ""
      }
     },
     "122f550f05fb4f0d8e737fe3ce01ad00": {
      "model_module": "@jupyter-widgets/controls",
      "model_module_version": "1.0.0",
      "model_name": "IntSliderModel",
      "state": {
       "description": "w",
       "layout": "IPY_MODEL_69c090e5603049bc8fad6c2c4b800e80",
       "max": 300,
       "min": -300,
       "style": "IPY_MODEL_be7fa198ec62415f8aa89fdb112aea29",
       "value": 10
      }
     },
     "12321996fd1949d5b398aac5d4f07243": {
      "model_module": "@jupyter-widgets/controls",
      "model_module_version": "1.0.0",
      "model_name": "SliderStyleModel",
      "state": {
       "description_width": ""
      }
     },
     "125cdc713dbf45e28d6018c9d5dfb4c9": {
      "model_module": "@jupyter-widgets/controls",
      "model_module_version": "1.0.0",
      "model_name": "SliderStyleModel",
      "state": {
       "description_width": ""
      }
     },
     "12686f784b0f4718bbdc499cb0caf71f": {
      "model_module": "@jupyter-widgets/base",
      "model_module_version": "1.0.0",
      "model_name": "LayoutModel",
      "state": {}
     },
     "1271f322b3584bdbadd7f2e75bcbf457": {
      "model_module": "@jupyter-widgets/controls",
      "model_module_version": "1.0.0",
      "model_name": "VBoxModel",
      "state": {
       "_dom_classes": [
        "widget-interact"
       ],
       "children": [
        "IPY_MODEL_fd43698bb1194bdb8258140acfcdfd3d",
        "IPY_MODEL_2d904ae99ba04142b53fc480c126672e",
        "IPY_MODEL_122f550f05fb4f0d8e737fe3ce01ad00",
        "IPY_MODEL_3df1634a2c3d4b5e9c98b5f6f6ad482f",
        "IPY_MODEL_29a846cc8705469ca82fa3c96a3ff821",
        "IPY_MODEL_647ce9212691432a87459cdd8194af6c",
        "IPY_MODEL_e840521b5a9942ee938e6f4faa2e7a5f",
        "IPY_MODEL_8ebc81d3151648448774381e62667d6b",
        "IPY_MODEL_c53d22c942cc477bbdabb683b00226fb",
        "IPY_MODEL_d02d01235e7a41b2854466446ea553e6",
        "IPY_MODEL_e3f0163e0a9c414a9e23e893bdb1d803",
        "IPY_MODEL_79af80ea7bce48508e4ac2360b1a826d",
        "IPY_MODEL_1f74090739164ba0851cb28751655374",
        "IPY_MODEL_d541291b54994d64b270097d8966c4bd"
       ],
       "layout": "IPY_MODEL_0523c1154da14aba9d5473b750217bf9"
      }
     },
     "12931c63b5634be2afedfda63b29c293": {
      "model_module": "@jupyter-widgets/controls",
      "model_module_version": "1.0.0",
      "model_name": "IntSliderModel",
      "state": {
       "description": "lineWidth",
       "layout": "IPY_MODEL_9c5ae278ac4948d2acdbaf383b292661",
       "max": 20,
       "style": "IPY_MODEL_a483f93a31554b3e9e2c4271b9406ecb",
       "value": 3
      }
     },
     "12a3242046b34ff591c74db7bf236a5c": {
      "model_module": "@jupyter-widgets/controls",
      "model_module_version": "1.0.0",
      "model_name": "VBoxModel",
      "state": {
       "_dom_classes": [
        "widget-interact"
       ],
       "children": [
        "IPY_MODEL_98a813ba7dca45c2b8edf6b8e9546508",
        "IPY_MODEL_1d1954f8861b474aab082cc4ac7996a8",
        "IPY_MODEL_f9ad8d21513547de90ca9045004db9fa",
        "IPY_MODEL_7fdc6cc7737c4e5cbf198155c702e7f2",
        "IPY_MODEL_04677a21e0b2442390fd49f6e9526c8b",
        "IPY_MODEL_bfe986d974c84706b6a41a8165cc18a5",
        "IPY_MODEL_c6b1d45510234e3d8d35ac54244f371c",
        "IPY_MODEL_86c35f9699ae467b8db928ca74dba34a",
        "IPY_MODEL_8e4a56c8101c40f1a14e61aaacdb2c8f",
        "IPY_MODEL_230e70817e9547c5963daa5665fbdd22",
        "IPY_MODEL_1e73d9abf7ae450f8ff2a199d73bdc56",
        "IPY_MODEL_ad9ac3883d7a4a2cb5551d0094173280"
       ],
       "layout": "IPY_MODEL_a4f2033e14044ccbb37742b372673847"
      }
     },
     "12ea862f319a46c8aa68afac893f4b87": {
      "model_module": "@jupyter-widgets/base",
      "model_module_version": "1.0.0",
      "model_name": "LayoutModel",
      "state": {}
     },
     "12ec4dcca7e1440aab1ba95c407f5aca": {
      "model_module": "@jupyter-widgets/controls",
      "model_module_version": "1.0.0",
      "model_name": "SliderStyleModel",
      "state": {
       "description_width": ""
      }
     },
     "12f5c7292f984cbfaa022fe0d962b938": {
      "model_module": "@jupyter-widgets/controls",
      "model_module_version": "1.0.0",
      "model_name": "IntSliderModel",
      "state": {
       "description": "lineWidth",
       "layout": "IPY_MODEL_7fc028dcfb1045048e2a8f12a6fdd82b",
       "max": 20,
       "style": "IPY_MODEL_e17ce102f5694f0380adbd04975fc627",
       "value": 3
      }
     },
     "1308b2fb398b4e878230528401d0ada8": {
      "model_module": "@jupyter-widgets/base",
      "model_module_version": "1.0.0",
      "model_name": "LayoutModel",
      "state": {}
     },
     "13563a364b374ca2b69630ec7090f0c0": {
      "model_module": "@jupyter-widgets/base",
      "model_module_version": "1.0.0",
      "model_name": "LayoutModel",
      "state": {}
     },
     "137c597f04934d4c9baf93a518bfb986": {
      "model_module": "@jupyter-widgets/base",
      "model_module_version": "1.0.0",
      "model_name": "LayoutModel",
      "state": {}
     },
     "139ed70ad6d942a387c84db7bd7fe0ca": {
      "model_module": "@jupyter-widgets/controls",
      "model_module_version": "1.0.0",
      "model_name": "VBoxModel",
      "state": {
       "_dom_classes": [
        "widget-interact"
       ],
       "children": [
        "IPY_MODEL_7034e15b99524fcfa7fa3f7d3136bebe",
        "IPY_MODEL_9b8b4bdb88154cfcaa2cd7f9c2c342cc",
        "IPY_MODEL_808583d75fc84ac3ac6d49ac3e523722",
        "IPY_MODEL_a41cb1462eaa4cfe90417e2b625aefc7",
        "IPY_MODEL_874285e201fa4a3a91eaa9a00f0c449c",
        "IPY_MODEL_575d18eb29ed4d328263cf88d4443f12",
        "IPY_MODEL_0f40adde64bb4a949323981cbd3dc422",
        "IPY_MODEL_c5726901884c4db9a68d78bda805df23",
        "IPY_MODEL_355b75f9f77f4c7882dca5e9a796f15b",
        "IPY_MODEL_ad76cdf708024e84af977f430db6754f",
        "IPY_MODEL_019f95e0bcc14171a624a10eb9e017c3",
        "IPY_MODEL_5a85a914431f4a858d985f2fc999a4fe",
        "IPY_MODEL_7fac70abfe8044c6b8d6fd23f0342eae",
        "IPY_MODEL_73275ec3a7884fc5bbb9adc97de3af76"
       ],
       "layout": "IPY_MODEL_62343e7b586e46e882aa91386486be97"
      }
     },
     "13c4018925354b7d85fb02998ea8d51e": {
      "model_module": "@jupyter-widgets/controls",
      "model_module_version": "1.0.0",
      "model_name": "IntSliderModel",
      "state": {
       "description": "blue",
       "layout": "IPY_MODEL_7bc23c6caa9f4946ad4b068af408efc5",
       "max": 255,
       "style": "IPY_MODEL_97491f28898642c081bd46967fc78799",
       "value": 255
      }
     },
     "13d3fe13e99b498dbd1e027865445c76": {
      "model_module": "@jupyter-widgets/controls",
      "model_module_version": "1.0.0",
      "model_name": "SliderStyleModel",
      "state": {
       "description_width": ""
      }
     },
     "1415fdca4e46409eb59cf54fee80efde": {
      "model_module": "@jupyter-widgets/controls",
      "model_module_version": "1.0.0",
      "model_name": "CheckboxModel",
      "state": {
       "description": "fill",
       "disabled": false,
       "layout": "IPY_MODEL_4e474971b7ee444eadc96a53044a7388",
       "style": "IPY_MODEL_2bbddc9e026c40ada225af4c8d2c4e06",
       "value": true
      }
     },
     "141f0da05dd043878ada6d01aabde1de": {
      "model_module": "@jupyter-widgets/controls",
      "model_module_version": "1.0.0",
      "model_name": "DescriptionStyleModel",
      "state": {
       "description_width": ""
      }
     },
     "143b40abd0c74a17ad2101fc0641b2b3": {
      "model_module": "@jupyter-widgets/base",
      "model_module_version": "1.0.0",
      "model_name": "LayoutModel",
      "state": {}
     },
     "144badcb5fbd449981ed86172490c0c4": {
      "model_module": "@jupyter-widgets/controls",
      "model_module_version": "1.0.0",
      "model_name": "FloatSliderModel",
      "state": {
       "description": "arc",
       "layout": "IPY_MODEL_a0e6c29185ba4a178c97daab2a966d73",
       "max": 6.283185307179586,
       "step": 0.1,
       "style": "IPY_MODEL_ddd3393332a5443e94ae144936613414",
       "value": 4.5
      }
     },
     "146a607c903f469badb1bc31b9aba4c0": {
      "model_module": "@jupyter-widgets/controls",
      "model_module_version": "1.0.0",
      "model_name": "FloatSliderModel",
      "state": {
       "description": "alpha",
       "layout": "IPY_MODEL_8bd9c7f3f09a4c85b75550e67253e9d1",
       "max": 1,
       "step": 0.1,
       "style": "IPY_MODEL_bf61708c3c25461fa129665eb9f0b3ef",
       "value": 0.5
      }
     },
     "148ac0d4cb4c4108b648c4c3a215b187": {
      "model_module": "@jupyter-widgets/controls",
      "model_module_version": "1.0.0",
      "model_name": "DescriptionStyleModel",
      "state": {
       "description_width": ""
      }
     },
     "14b11e93c11e4d57a18430fb830bf4aa": {
      "model_module": "@jupyter-widgets/controls",
      "model_module_version": "1.0.0",
      "model_name": "SliderStyleModel",
      "state": {
       "description_width": ""
      }
     },
     "14b71e8d5ee64cd882b295919891f6a0": {
      "model_module": "jp_proxy_widget",
      "model_module_version": "^0.3.4",
      "model_name": "JSProxyModel",
      "state": {
       "_model_module_version": "^0.3.4",
       "_send_counter": 2,
       "_view_module_version": "^0.3.4",
       "error_msg": "No error",
       "layout": "IPY_MODEL_eca7a409247946a78de94c9e2b6fb668",
       "rendered": true,
       "status": "call back to <function callback_function at 0x10600fc80>"
      }
     },
     "14c06f2ae0914a7d88688b7f53be2152": {
      "model_module": "@jupyter-widgets/base",
      "model_module_version": "1.0.0",
      "model_name": "LayoutModel",
      "state": {}
     },
     "14c809c8d4bb4297bae32cec73e83ce1": {
      "model_module": "@jupyter-widgets/controls",
      "model_module_version": "1.0.0",
      "model_name": "SliderStyleModel",
      "state": {
       "description_width": ""
      }
     },
     "1508188053d547288e5eb3f6498d54ca": {
      "model_module": "@jupyter-widgets/base",
      "model_module_version": "1.0.0",
      "model_name": "LayoutModel",
      "state": {}
     },
     "153e79a861aa4a6c82c63a2fa002bc94": {
      "model_module": "@jupyter-widgets/controls",
      "model_module_version": "1.0.0",
      "model_name": "CheckboxModel",
      "state": {
       "description": "fill",
       "disabled": false,
       "layout": "IPY_MODEL_5f37afd8cd284f9e9ac5f200c87dcf80",
       "style": "IPY_MODEL_1b3737f13cfa481e9265677dca5b089f",
       "value": true
      }
     },
     "1564f7efd38a42c897ecbf21ec608e19": {
      "model_module": "@jupyter-widgets/controls",
      "model_module_version": "1.0.0",
      "model_name": "SliderStyleModel",
      "state": {
       "description_width": ""
      }
     },
     "1584e220d25c49ed8c7087bbcd5aea4c": {
      "model_module": "@jupyter-widgets/controls",
      "model_module_version": "1.0.0",
      "model_name": "IntSliderModel",
      "state": {
       "description": "x2",
       "layout": "IPY_MODEL_e062cc581a8e4947a132a81bc046b760",
       "min": -100,
       "style": "IPY_MODEL_629f742cfe2049d5b6bfaae51f0f723f",
       "value": 100
      }
     },
     "158b238502984896a59ed0fb976c0294": {
      "model_module": "@jupyter-widgets/base",
      "model_module_version": "1.0.0",
      "model_name": "LayoutModel",
      "state": {}
     },
     "159fa7584b624d54b0bc95dc7b102e67": {
      "model_module": "@jupyter-widgets/controls",
      "model_module_version": "1.0.0",
      "model_name": "SliderStyleModel",
      "state": {
       "description_width": ""
      }
     },
     "15a63fb211784a52a4afb2f11d15e123": {
      "model_module": "@jupyter-widgets/controls",
      "model_module_version": "1.0.0",
      "model_name": "FloatSliderModel",
      "state": {
       "description": "alpha",
       "layout": "IPY_MODEL_12686f784b0f4718bbdc499cb0caf71f",
       "max": 1,
       "step": 0.1,
       "style": "IPY_MODEL_8ffe8df03b654df8adcb3736536dd0ce",
       "value": 1
      }
     },
     "15c5acfb2fc545db9e3d668e35c57711": {
      "model_module": "@jupyter-widgets/output",
      "model_module_version": "1.0.0",
      "model_name": "OutputModel",
      "state": {
       "layout": "IPY_MODEL_2dfed08de1b847b3922417ffe1713046",
       "outputs": [
        {
         "ename": "NameError",
         "evalue": "global name 'rgba_int_strings' is not defined",
         "output_type": "error",
         "traceback": [
          "\u001b[0;31m---------------------------------------------------------------------------\u001b[0m",
          "\u001b[0;31mNameError\u001b[0m                                 Traceback (most recent call last)",
          "\u001b[0;32m//anaconda/lib/python2.7/site-packages/ipywidgets/widgets/interaction.pyc\u001b[0m in \u001b[0;36mupdate\u001b[0;34m(self, *args)\u001b[0m\n\u001b[1;32m    248\u001b[0m                     \u001b[0mvalue\u001b[0m \u001b[0;34m=\u001b[0m \u001b[0mwidget\u001b[0m\u001b[0;34m.\u001b[0m\u001b[0mget_interact_value\u001b[0m\u001b[0;34m(\u001b[0m\u001b[0;34m)\u001b[0m\u001b[0;34m\u001b[0m\u001b[0m\n\u001b[1;32m    249\u001b[0m                     \u001b[0mself\u001b[0m\u001b[0;34m.\u001b[0m\u001b[0mkwargs\u001b[0m\u001b[0;34m[\u001b[0m\u001b[0mwidget\u001b[0m\u001b[0;34m.\u001b[0m\u001b[0m_kwarg\u001b[0m\u001b[0;34m]\u001b[0m \u001b[0;34m=\u001b[0m \u001b[0mvalue\u001b[0m\u001b[0;34m\u001b[0m\u001b[0m\n\u001b[0;32m--> 250\u001b[0;31m                 \u001b[0mself\u001b[0m\u001b[0;34m.\u001b[0m\u001b[0mresult\u001b[0m \u001b[0;34m=\u001b[0m \u001b[0mself\u001b[0m\u001b[0;34m.\u001b[0m\u001b[0mf\u001b[0m\u001b[0;34m(\u001b[0m\u001b[0;34m**\u001b[0m\u001b[0mself\u001b[0m\u001b[0;34m.\u001b[0m\u001b[0mkwargs\u001b[0m\u001b[0;34m)\u001b[0m\u001b[0;34m\u001b[0m\u001b[0m\n\u001b[0m\u001b[1;32m    251\u001b[0m                 \u001b[0mshow_inline_matplotlib_plots\u001b[0m\u001b[0;34m(\u001b[0m\u001b[0;34m)\u001b[0m\u001b[0;34m\u001b[0m\u001b[0m\n\u001b[1;32m    252\u001b[0m                 \u001b[0;32mif\u001b[0m \u001b[0mself\u001b[0m\u001b[0;34m.\u001b[0m\u001b[0mauto_display\u001b[0m \u001b[0;32mand\u001b[0m \u001b[0mself\u001b[0m\u001b[0;34m.\u001b[0m\u001b[0mresult\u001b[0m \u001b[0;32mis\u001b[0m \u001b[0;32mnot\u001b[0m \u001b[0mNone\u001b[0m\u001b[0;34m:\u001b[0m\u001b[0;34m\u001b[0m\u001b[0m\n",
          "\u001b[0;32m<ipython-input-9-6f8586e1d8bf>\u001b[0m in \u001b[0;36mchange_circle\u001b[0;34m(x, y, r, red, green, blue, alpha)\u001b[0m\n\u001b[1;32m      6\u001b[0m def change_circle(x, y, r, \n\u001b[1;32m      7\u001b[0m                   red, green, blue, alpha):\n\u001b[0;32m----> 8\u001b[0;31m     \u001b[0mcolor\u001b[0m \u001b[0;34m=\u001b[0m \u001b[0mrgba\u001b[0m\u001b[0;34m(\u001b[0m\u001b[0mred\u001b[0m\u001b[0;34m,\u001b[0m \u001b[0mgreen\u001b[0m\u001b[0;34m,\u001b[0m \u001b[0mblue\u001b[0m\u001b[0;34m,\u001b[0m \u001b[0malpha\u001b[0m\u001b[0;34m)\u001b[0m\u001b[0;34m\u001b[0m\u001b[0m\n\u001b[0m\u001b[1;32m      9\u001b[0m     \u001b[0;32mprint\u001b[0m\u001b[0;34m(\u001b[0m\u001b[0;34m\"color is \"\u001b[0m \u001b[0;34m+\u001b[0m \u001b[0mrepr\u001b[0m\u001b[0;34m(\u001b[0m\u001b[0mcolor\u001b[0m\u001b[0;34m)\u001b[0m\u001b[0;34m)\u001b[0m\u001b[0;34m\u001b[0m\u001b[0m\n\u001b[1;32m     10\u001b[0m     \u001b[0mcolor\u001b[0m \u001b[0;34m=\u001b[0m \u001b[0;34m\"pink\"\u001b[0m\u001b[0;34m\u001b[0m\u001b[0m\n",
          "\u001b[0;32m<ipython-input-8-ebc989cf59e1>\u001b[0m in \u001b[0;36mrgba\u001b[0;34m(*rgba_sequence)\u001b[0m\n\u001b[1;32m      8\u001b[0m     \u001b[0mrgba_strings\u001b[0m \u001b[0;34m=\u001b[0m \u001b[0;34m[\u001b[0m\u001b[0mstr\u001b[0m\u001b[0;34m(\u001b[0m\u001b[0mint\u001b[0m\u001b[0;34m(\u001b[0m\u001b[0mx\u001b[0m\u001b[0;34m)\u001b[0m\u001b[0;34m)\u001b[0m \u001b[0;32mfor\u001b[0m \u001b[0mx\u001b[0m \u001b[0;32min\u001b[0m \u001b[0mrgba_sequence\u001b[0m\u001b[0;34m]\u001b[0m\u001b[0;34m\u001b[0m\u001b[0m\n\u001b[1;32m      9\u001b[0m     \u001b[0mrgba_strings\u001b[0m\u001b[0;34m[\u001b[0m\u001b[0;34m-\u001b[0m\u001b[0;36m1\u001b[0m\u001b[0;34m]\u001b[0m \u001b[0;34m=\u001b[0m \u001b[0mstr\u001b[0m\u001b[0;34m(\u001b[0m\u001b[0mrgba_sequence\u001b[0m\u001b[0;34m[\u001b[0m\u001b[0;34m-\u001b[0m\u001b[0;36m1\u001b[0m\u001b[0;34m]\u001b[0m\u001b[0;34m)\u001b[0m\u001b[0;34m\u001b[0m\u001b[0m\n\u001b[0;32m---> 10\u001b[0;31m     \u001b[0;32mreturn\u001b[0m \u001b[0;34m\"rgba(%s)\"\u001b[0m \u001b[0;34m%\u001b[0m \u001b[0;34m\",\"\u001b[0m\u001b[0;34m.\u001b[0m\u001b[0mjoin\u001b[0m\u001b[0;34m(\u001b[0m\u001b[0mrgba_int_strings\u001b[0m\u001b[0;34m)\u001b[0m\u001b[0;34m\u001b[0m\u001b[0m\n\u001b[0m",
          "\u001b[0;31mNameError\u001b[0m: global name 'rgba_int_strings' is not defined"
         ]
        }
       ]
      }
     },
     "15dabf416aaa432387bad9c237018c3d": {
      "model_module": "@jupyter-widgets/base",
      "model_module_version": "1.0.0",
      "model_name": "LayoutModel",
      "state": {}
     },
     "160b6fb2391e4d749e2f435576c782e4": {
      "model_module": "@jupyter-widgets/controls",
      "model_module_version": "1.0.0",
      "model_name": "IntSliderModel",
      "state": {
       "description": "blue",
       "layout": "IPY_MODEL_ee7de1d3fc4944a7b2858f32c7d5bc41",
       "max": 255,
       "style": "IPY_MODEL_7ee482a8eaaa4862b3ebc526ca3efde0",
       "value": 255
      }
     },
     "1619dfd7c5284ab09aef1ec4d1e3d037": {
      "model_module": "jp_proxy_widget",
      "model_module_version": "^0.3.4",
      "model_name": "JSProxyModel",
      "state": {
       "_model_module_version": "^0.3.4",
       "_send_counter": 6,
       "_view_module_version": "^0.3.4",
       "error_msg": "No error",
       "layout": "IPY_MODEL_bb92eb26da034c888ca5a8298c238284",
       "rendered": true,
       "status": "Got results."
      }
     },
     "1641e3194b4b4c77a75745fa12bb73b2": {
      "model_module": "@jupyter-widgets/base",
      "model_module_version": "1.0.0",
      "model_name": "LayoutModel",
      "state": {}
     },
     "164d1707fa58468f944d17164352cd60": {
      "model_module": "@jupyter-widgets/controls",
      "model_module_version": "1.0.0",
      "model_name": "IntSliderModel",
      "state": {
       "description": "degrees",
       "layout": "IPY_MODEL_c4f9dcacbbfb4f7b9ae4c978eb2b2118",
       "max": 360,
       "min": -360,
       "style": "IPY_MODEL_59846e888ea2498287aff5e4b78ba4fe",
       "value": 48
      }
     },
     "165f76d03e254ad1b8f24adbda929dca": {
      "model_module": "@jupyter-widgets/base",
      "model_module_version": "1.0.0",
      "model_name": "LayoutModel",
      "state": {}
     },
     "1664fb07bba348f582190d9fa1b70172": {
      "model_module": "@jupyter-widgets/controls",
      "model_module_version": "1.0.0",
      "model_name": "SliderStyleModel",
      "state": {
       "description_width": ""
      }
     },
     "16892d5ba53447568a8748308e7bbad8": {
      "model_module": "@jupyter-widgets/controls",
      "model_module_version": "1.0.0",
      "model_name": "IntSliderModel",
      "state": {
       "description": "blue",
       "layout": "IPY_MODEL_2608ab08ec564208bfde0d40ef9448e3",
       "max": 255,
       "style": "IPY_MODEL_67cff949f35c4797b3898bc2af60804a",
       "value": 171
      }
     },
     "1695c185bc914e8d87b718bb9f06c15b": {
      "model_module": "@jupyter-widgets/controls",
      "model_module_version": "1.0.0",
      "model_name": "SliderStyleModel",
      "state": {
       "description_width": ""
      }
     },
     "16f23b808e804397bdda82e8380dedc4": {
      "model_module": "jp_proxy_widget",
      "model_module_version": "^0.3.4",
      "model_name": "JSProxyModel",
      "state": {
       "_model_module_version": "^0.3.4",
       "_send_counter": 691,
       "_view_module_version": "^0.3.4",
       "error_msg": "No error",
       "layout": "IPY_MODEL_4603c40eec0f405e940a4794959333c1",
       "rendered": true,
       "status": "Got results."
      }
     },
     "170926b1c358431595f3c0f93b670133": {
      "model_module": "@jupyter-widgets/base",
      "model_module_version": "1.0.0",
      "model_name": "LayoutModel",
      "state": {}
     },
     "17200c425f7b42f4b3e0dc84f04973ea": {
      "model_module": "@jupyter-widgets/controls",
      "model_module_version": "1.0.0",
      "model_name": "IntSliderModel",
      "state": {
       "description": "green",
       "layout": "IPY_MODEL_9cd1d0c08363476e9beaa923c76d3832",
       "max": 255,
       "style": "IPY_MODEL_620399a59a8742cf8e465d3d09b6f85c"
      }
     },
     "173596b0295e4d1b91a6befc2cf6282c": {
      "model_module": "@jupyter-widgets/base",
      "model_module_version": "1.0.0",
      "model_name": "LayoutModel",
      "state": {}
     },
     "173b705d6da346a1b794de681834d292": {
      "model_module": "@jupyter-widgets/output",
      "model_module_version": "1.0.0",
      "model_name": "OutputModel",
      "state": {
       "layout": "IPY_MODEL_8979199eeae046aaa0ae638c3094acfc"
      }
     },
     "17489415cbdb4179a12fab805f035bf7": {
      "model_module": "@jupyter-widgets/controls",
      "model_module_version": "1.0.0",
      "model_name": "DescriptionStyleModel",
      "state": {
       "description_width": ""
      }
     },
     "1760473947cd40e2a78b5104a2058f8d": {
      "model_module": "@jupyter-widgets/controls",
      "model_module_version": "1.0.0",
      "model_name": "SliderStyleModel",
      "state": {
       "description_width": ""
      }
     },
     "176f9de84ad24bb08f6e993c71c10a9f": {
      "model_module": "@jupyter-widgets/base",
      "model_module_version": "1.0.0",
      "model_name": "LayoutModel",
      "state": {}
     },
     "178f9659879d4ed6b088a35c1d4a1ec2": {
      "model_module": "@jupyter-widgets/controls",
      "model_module_version": "1.0.0",
      "model_name": "SliderStyleModel",
      "state": {
       "description_width": ""
      }
     },
     "178ffe95edb04dedaa954257a5a89f9c": {
      "model_module": "@jupyter-widgets/controls",
      "model_module_version": "1.0.0",
      "model_name": "SliderStyleModel",
      "state": {
       "description_width": ""
      }
     },
     "17aaad3f18cc4362afeec3bd265aa715": {
      "model_module": "@jupyter-widgets/controls",
      "model_module_version": "1.0.0",
      "model_name": "IntSliderModel",
      "state": {
       "description": "red",
       "layout": "IPY_MODEL_8cf28a395ca24e18b32c2f9e55eb0d98",
       "max": 255,
       "style": "IPY_MODEL_d4cecc9f7adc473abd5ce05686fc5d91",
       "value": 179
      }
     },
     "17c32cedf63843efa18263616549455e": {
      "model_module": "@jupyter-widgets/base",
      "model_module_version": "1.0.0",
      "model_name": "LayoutModel",
      "state": {}
     },
     "182e9477e458404da88ce6eb901786e4": {
      "model_module": "@jupyter-widgets/base",
      "model_module_version": "1.0.0",
      "model_name": "LayoutModel",
      "state": {}
     },
     "1830fa3e4a8141caad7a0816790c27db": {
      "model_module": "@jupyter-widgets/base",
      "model_module_version": "1.0.0",
      "model_name": "LayoutModel",
      "state": {}
     },
     "183b5a391e6e4b2cb51db0197fab2790": {
      "model_module": "@jupyter-widgets/base",
      "model_module_version": "1.0.0",
      "model_name": "LayoutModel",
      "state": {}
     },
     "1871e7ca025a4c5a9fe91a67a607418c": {
      "model_module": "@jupyter-widgets/base",
      "model_module_version": "1.0.0",
      "model_name": "LayoutModel",
      "state": {}
     },
     "189a1bc7509c43e39cf08c1277854895": {
      "model_module": "@jupyter-widgets/base",
      "model_module_version": "1.0.0",
      "model_name": "LayoutModel",
      "state": {}
     },
     "18bf884b0fec4a6e857c6c8c3648fd6b": {
      "model_module": "@jupyter-widgets/base",
      "model_module_version": "1.0.0",
      "model_name": "LayoutModel",
      "state": {}
     },
     "18c9fcd26c6447f6a8dd9cf255688116": {
      "model_module": "@jupyter-widgets/controls",
      "model_module_version": "1.0.0",
      "model_name": "VBoxModel",
      "state": {
       "children": [
        "IPY_MODEL_83f729da62b249389c6b5cb28d6b9079",
        "IPY_MODEL_060305a695a44d20a0b336f9e1956c1a"
       ],
       "layout": "IPY_MODEL_6e28ffc7e0f445909beafded825cbfcd"
      }
     },
     "18d30b04854c48728cb1a2fdb9de96d9": {
      "model_module": "@jupyter-widgets/controls",
      "model_module_version": "1.0.0",
      "model_name": "SliderStyleModel",
      "state": {
       "description_width": ""
      }
     },
     "18d3e296ac384c2e95625188e3cae335": {
      "model_module": "@jupyter-widgets/controls",
      "model_module_version": "1.0.0",
      "model_name": "IntSliderModel",
      "state": {
       "description": "red",
       "layout": "IPY_MODEL_848ca7aae6e04cd18dee9e9bf9e4ccc8",
       "max": 255,
       "style": "IPY_MODEL_f5cf1a9f6189407b90fae19ce832360a",
       "value": 255
      }
     },
     "18f5bc867cf64f3b9caf1293800364b6": {
      "model_module": "@jupyter-widgets/controls",
      "model_module_version": "1.0.0",
      "model_name": "VBoxModel",
      "state": {
       "_dom_classes": [
        "widget-interact"
       ],
       "children": [
        "IPY_MODEL_7b992c1907404d9e849eb907215bacc3",
        "IPY_MODEL_8fa91c4eb0ff40a9b4ce3ad6a02e01a7",
        "IPY_MODEL_0a985590eb4c4369992dd537c216e700",
        "IPY_MODEL_783fb53931f7465aac62c5a159b4c993",
        "IPY_MODEL_20d7c6ce8daa459cad687f97085c600e",
        "IPY_MODEL_7ce10ad1ce32441b936aae9ec15573c0",
        "IPY_MODEL_5bd6716f40d64b51a3fa4d9d6eb20b93",
        "IPY_MODEL_392ef3f48acd41e88c1d5623d9e01d57",
        "IPY_MODEL_5b2ab2261872491fae0606f5a486bc74",
        "IPY_MODEL_d6743d86e74d4d608510648b7268f0e7",
        "IPY_MODEL_d240df807fc9475097759a549fb108e5",
        "IPY_MODEL_609b7d1a01c140be85df54eaa6f812c6",
        "IPY_MODEL_fd03c594c7ca4c2099ee16f624d755ed",
        "IPY_MODEL_37e481c97a4e48448f0b40ac9cc2fe8c"
       ],
       "layout": "IPY_MODEL_355c025af7ae47f49b2b897551a69f6e"
      }
     },
     "1939450f967845b3ade2cd9eed0e0bdc": {
      "model_module": "@jupyter-widgets/controls",
      "model_module_version": "1.0.0",
      "model_name": "IntSliderModel",
      "state": {
       "description": "y",
       "layout": "IPY_MODEL_c4b0254c79dc46bfa72aedbf3dc6351f",
       "min": -100,
       "style": "IPY_MODEL_94fd25717daf488caed0f52419baf3a4",
       "value": 70
      }
     },
     "1955a57b925a4512bd0c81d802a742b9": {
      "model_module": "@jupyter-widgets/base",
      "model_module_version": "1.0.0",
      "model_name": "LayoutModel",
      "state": {}
     },
     "19567e63837e48fa8acc7fe59f47ac91": {
      "model_module": "@jupyter-widgets/controls",
      "model_module_version": "1.0.0",
      "model_name": "IntSliderModel",
      "state": {
       "description": "blue",
       "layout": "IPY_MODEL_00cdca98bd6d4b90929842bdca03c560",
       "max": 255,
       "style": "IPY_MODEL_a39ef909be504028be725b7bb35c32b8",
       "value": 255
      }
     },
     "199aa7e23a00433ba45d8231b55ae762": {
      "model_module": "@jupyter-widgets/base",
      "model_module_version": "1.0.0",
      "model_name": "LayoutModel",
      "state": {}
     },
     "199f2b4a3fbf4137927b3c986b69f21d": {
      "model_module": "@jupyter-widgets/controls",
      "model_module_version": "1.0.0",
      "model_name": "SliderStyleModel",
      "state": {
       "description_width": ""
      }
     },
     "19b4ed31efd644f989464e0e904b27fb": {
      "model_module": "@jupyter-widgets/base",
      "model_module_version": "1.0.0",
      "model_name": "LayoutModel",
      "state": {}
     },
     "19b52c664afb439cb85e11bd39081f60": {
      "model_module": "@jupyter-widgets/base",
      "model_module_version": "1.0.0",
      "model_name": "LayoutModel",
      "state": {}
     },
     "19f3a7cf5aac4c49b394e447c1abc5b9": {
      "model_module": "@jupyter-widgets/base",
      "model_module_version": "1.0.0",
      "model_name": "LayoutModel",
      "state": {}
     },
     "1a17ad335a7b479a81d58659c4c678bc": {
      "model_module": "@jupyter-widgets/controls",
      "model_module_version": "1.0.0",
      "model_name": "SliderStyleModel",
      "state": {
       "description_width": ""
      }
     },
     "1a1abcf76ed9493fba78f3699f57aa52": {
      "model_module": "@jupyter-widgets/controls",
      "model_module_version": "1.0.0",
      "model_name": "IntSliderModel",
      "state": {
       "description": "x",
       "layout": "IPY_MODEL_26aa5b55371645f9ad24aead6c30b0c5",
       "min": -100,
       "style": "IPY_MODEL_f14ef45a76da45f290ebf87131c8030d"
      }
     },
     "1a1c907499fd4b8cbfd2b05f94033e5d": {
      "model_module": "@jupyter-widgets/base",
      "model_module_version": "1.0.0",
      "model_name": "LayoutModel",
      "state": {}
     },
     "1a3941a7da6b43b89feba07e5a679b4f": {
      "model_module": "@jupyter-widgets/controls",
      "model_module_version": "1.0.0",
      "model_name": "SliderStyleModel",
      "state": {
       "description_width": ""
      }
     },
     "1a75d36d8d364903a06abf4a553e84df": {
      "model_module": "jp_proxy_widget",
      "model_module_version": "^0.3.4",
      "model_name": "JSProxyModel",
      "state": {
       "_model_module_version": "^0.3.4",
       "_send_counter": 2,
       "_view_module_version": "^0.3.4",
       "error_msg": "No error",
       "layout": "IPY_MODEL_b2b96f5306a54adaa60234ec566ab5e7",
       "rendered": true,
       "status": "Got results."
      }
     },
     "1a7f1a3078a646db98d7c2f7615ed4c3": {
      "model_module": "@jupyter-widgets/controls",
      "model_module_version": "1.0.0",
      "model_name": "SliderStyleModel",
      "state": {
       "description_width": ""
      }
     },
     "1a8f82465f4a47b9981cb3271fe9314b": {
      "model_module": "@jupyter-widgets/base",
      "model_module_version": "1.0.0",
      "model_name": "LayoutModel",
      "state": {}
     },
     "1a9f359c6de541d481faf8b5bbb58905": {
      "model_module": "@jupyter-widgets/base",
      "model_module_version": "1.0.0",
      "model_name": "LayoutModel",
      "state": {}
     },
     "1ac45593583245a98ce89cf39faeabed": {
      "model_module": "@jupyter-widgets/controls",
      "model_module_version": "1.0.0",
      "model_name": "SliderStyleModel",
      "state": {
       "description_width": ""
      }
     },
     "1ac6d0452983445d9594cab96c29b18f": {
      "model_module": "@jupyter-widgets/base",
      "model_module_version": "1.0.0",
      "model_name": "LayoutModel",
      "state": {}
     },
     "1ada6af791244f0b9aed56b9b1f91f12": {
      "model_module": "@jupyter-widgets/controls",
      "model_module_version": "1.0.0",
      "model_name": "IntSliderModel",
      "state": {
       "description": "lineWidth",
       "layout": "IPY_MODEL_91503f4094084c1b9d2e286c7993eae2",
       "max": 20,
       "style": "IPY_MODEL_76647457cb0c4fb7ac3772753ee048d1",
       "value": 3
      }
     },
     "1ae303bd44574e82bd3a2d4bbb2aee97": {
      "model_module": "@jupyter-widgets/base",
      "model_module_version": "1.0.0",
      "model_name": "LayoutModel",
      "state": {}
     },
     "1ae993e3901145b28b24636a531e39de": {
      "model_module": "@jupyter-widgets/controls",
      "model_module_version": "1.0.0",
      "model_name": "IntSliderModel",
      "state": {
       "description": "h",
       "layout": "IPY_MODEL_62f45c2122e54b0597d3e325911b5d6b",
       "max": 300,
       "min": -300,
       "style": "IPY_MODEL_01e015fd51a04bfb9ada1ac03e896b31",
       "value": 300
      }
     },
     "1b094caceb6d43cfae969cf932ef0c9b": {
      "model_module": "@jupyter-widgets/base",
      "model_module_version": "1.0.0",
      "model_name": "LayoutModel",
      "state": {}
     },
     "1b236a9ebc484a3fa96ed4c9def7abd1": {
      "model_module": "@jupyter-widgets/controls",
      "model_module_version": "1.0.0",
      "model_name": "IntSliderModel",
      "state": {
       "description": "green",
       "layout": "IPY_MODEL_61cd665651c045da97a39f18e32b8b97",
       "max": 255,
       "style": "IPY_MODEL_1d12441914304411b7f43e1171aaf9e0"
      }
     },
     "1b23deee1716489a958a8737ee5186bb": {
      "model_module": "@jupyter-widgets/controls",
      "model_module_version": "1.0.0",
      "model_name": "SliderStyleModel",
      "state": {
       "description_width": ""
      }
     },
     "1b321198594e48f88ba16eab3e8a3043": {
      "model_module": "jp_proxy_widget",
      "model_module_version": "^0.3.4",
      "model_name": "JSProxyModel",
      "state": {
       "_model_module_version": "^0.3.4",
       "_send_counter": 2,
       "_view_module_version": "^0.3.4",
       "error_msg": "No error",
       "layout": "IPY_MODEL_5734e56916404e8194e539e957682582",
       "rendered": true,
       "status": "call back to <function callback_function at 0x103af9a28>"
      }
     },
     "1b3737f13cfa481e9265677dca5b089f": {
      "model_module": "@jupyter-widgets/controls",
      "model_module_version": "1.0.0",
      "model_name": "DescriptionStyleModel",
      "state": {
       "description_width": ""
      }
     },
     "1b5760bb5c5748b8a94c43f57ca687de": {
      "model_module": "@jupyter-widgets/controls",
      "model_module_version": "1.0.0",
      "model_name": "VBoxModel",
      "state": {
       "children": [
        "IPY_MODEL_5199766345004bd1b8235ba248de015b",
        "IPY_MODEL_262e201408c845bdbd57f16621e5c07c"
       ],
       "layout": "IPY_MODEL_959b0c73748843c2800f5bee78ed60e9"
      }
     },
     "1b8858b911844c2687e1d21467252375": {
      "model_module": "@jupyter-widgets/base",
      "model_module_version": "1.0.0",
      "model_name": "LayoutModel",
      "state": {}
     },
     "1b947ec1e23240b69feaf5923657623d": {
      "model_module": "@jupyter-widgets/controls",
      "model_module_version": "1.0.0",
      "model_name": "IntSliderModel",
      "state": {
       "description": "dy",
       "layout": "IPY_MODEL_c1d1a0e2e2404bb7956668ea8f402b66",
       "min": -100,
       "style": "IPY_MODEL_2bdd5cd1c8164541a2dedaf5640b8699"
      }
     },
     "1bdf6f48ccb644ba98c666e5630ef289": {
      "model_module": "@jupyter-widgets/controls",
      "model_module_version": "1.0.0",
      "model_name": "SliderStyleModel",
      "state": {
       "description_width": ""
      }
     },
     "1c0672dafec54c2ab201a0f37c7a9616": {
      "model_module": "@jupyter-widgets/controls",
      "model_module_version": "1.0.0",
      "model_name": "SliderStyleModel",
      "state": {
       "description_width": ""
      }
     },
     "1c1597811e9644e9921d0946b61de3f2": {
      "model_module": "@jupyter-widgets/controls",
      "model_module_version": "1.0.0",
      "model_name": "CheckboxModel",
      "state": {
       "description": "fill",
       "disabled": false,
       "layout": "IPY_MODEL_e1fe63be5762464fabdb4f5f803c0698",
       "style": "IPY_MODEL_6cd7980a40aa440e9704447ff0d9776f",
       "value": true
      }
     },
     "1c26820a71af4bde8fef972fedbad611": {
      "model_module": "@jupyter-widgets/base",
      "model_module_version": "1.0.0",
      "model_name": "LayoutModel",
      "state": {}
     },
     "1c328b16b21a4814998eca9f69ff66bd": {
      "model_module": "@jupyter-widgets/base",
      "model_module_version": "1.0.0",
      "model_name": "LayoutModel",
      "state": {}
     },
     "1c41b7644f7a408ca122eb73652c73d1": {
      "model_module": "jp_proxy_widget",
      "model_module_version": "^0.3.4",
      "model_name": "JSProxyModel",
      "state": {
       "_model_module_version": "^0.3.4",
       "_send_counter": 2,
       "_view_module_version": "^0.3.4",
       "error_msg": "No error",
       "layout": "IPY_MODEL_d215d83e52134853b6e8e9dc5ade8fa0",
       "rendered": true,
       "status": "Got results."
      }
     },
     "1c7c49de0acb4fceb3770bf3d57aa973": {
      "model_module": "@jupyter-widgets/controls",
      "model_module_version": "1.0.0",
      "model_name": "TabModel",
      "state": {
       "_titles": {
        "0": "Canvas",
        "1": "Snapshot"
       },
       "children": [
        "IPY_MODEL_4f591cb4b09d4d50a07e5de3a6c0ce13",
        "IPY_MODEL_dd148ca9f1a54b7f8b363ef661479c05"
       ],
       "layout": "IPY_MODEL_ffe61169182049e3a6377207d7c8862c"
      }
     },
     "1cb7369d10064166b67960bb9e474db3": {
      "model_module": "@jupyter-widgets/controls",
      "model_module_version": "1.0.0",
      "model_name": "IntSliderModel",
      "state": {
       "description": "degrees",
       "layout": "IPY_MODEL_5855e1b67eda454d844c08db1e2517e6",
       "max": 360,
       "min": -360,
       "style": "IPY_MODEL_f8e6ba793fc4496ca2f453da7b1d4a63",
       "value": -24
      }
     },
     "1cd41c8313ed44d68d4058eafee4da87": {
      "model_module": "@jupyter-widgets/controls",
      "model_module_version": "1.0.0",
      "model_name": "SliderStyleModel",
      "state": {
       "description_width": ""
      }
     },
     "1cebc6ca142b426ca866e00db12afa37": {
      "model_module": "@jupyter-widgets/base",
      "model_module_version": "1.0.0",
      "model_name": "LayoutModel",
      "state": {}
     },
     "1d12441914304411b7f43e1171aaf9e0": {
      "model_module": "@jupyter-widgets/controls",
      "model_module_version": "1.0.0",
      "model_name": "SliderStyleModel",
      "state": {
       "description_width": ""
      }
     },
     "1d1954f8861b474aab082cc4ac7996a8": {
      "model_module": "@jupyter-widgets/controls",
      "model_module_version": "1.0.0",
      "model_name": "IntSliderModel",
      "state": {
       "description": "y",
       "layout": "IPY_MODEL_de5e9366588d41f780d0a3642db3bef7",
       "min": -100,
       "style": "IPY_MODEL_221cc17a24774bbb8356e69a04b4380e",
       "value": -100
      }
     },
     "1d3002310a3546499fae87434bfa97ce": {
      "model_module": "@jupyter-widgets/controls",
      "model_module_version": "1.0.0",
      "model_name": "DescriptionStyleModel",
      "state": {
       "description_width": ""
      }
     },
     "1d44b798ee5a4307bf1d1444247621aa": {
      "model_module": "@jupyter-widgets/base",
      "model_module_version": "1.0.0",
      "model_name": "LayoutModel",
      "state": {}
     },
     "1d5a2c6599124c82ab6ddf4ffe33b490": {
      "model_module": "@jupyter-widgets/controls",
      "model_module_version": "1.0.0",
      "model_name": "DescriptionStyleModel",
      "state": {
       "description_width": ""
      }
     },
     "1d68a64528da4f249c908fc9cc34c495": {
      "model_module": "jp_proxy_widget",
      "model_module_version": "^0.3.4",
      "model_name": "JSProxyModel",
      "state": {
       "_model_module_version": "^0.3.4",
       "_send_counter": 12,
       "_view_module_version": "^0.3.4",
       "error_msg": "No error",
       "layout": "IPY_MODEL_39519c9e3c8f4a6a9f1cf2307cdc9f1c",
       "rendered": true,
       "status": "Got results."
      }
     },
     "1d8c5b1ec77544638818df9a404d2793": {
      "model_module": "@jupyter-widgets/controls",
      "model_module_version": "1.0.0",
      "model_name": "IntSliderModel",
      "state": {
       "description": "y",
       "layout": "IPY_MODEL_b30542ec67c940128ae126e2e41a6119",
       "min": -100,
       "style": "IPY_MODEL_4fd3845a627b42dc8e304b676aa98450"
      }
     },
     "1d9134c7350c4eb3bc038da102f3eb1c": {
      "model_module": "jp_proxy_widget",
      "model_module_version": "^0.3.4",
      "model_name": "JSProxyModel",
      "state": {
       "_model_module_version": "^0.3.4",
       "_send_counter": 2,
       "_view_module_version": "^0.3.4",
       "error_msg": "No error",
       "layout": "IPY_MODEL_6b0b9a1774144e57bc1b537e9701860b",
       "rendered": true,
       "status": "Got results."
      }
     },
     "1d95cb6fa5934b18bfca058c30c09ee5": {
      "model_module": "@jupyter-widgets/base",
      "model_module_version": "1.0.0",
      "model_name": "LayoutModel",
      "state": {}
     },
     "1deb3f53ba704c21a8990d4c59f978f8": {
      "model_module": "@jupyter-widgets/base",
      "model_module_version": "1.0.0",
      "model_name": "LayoutModel",
      "state": {}
     },
     "1e11d2baa8e94ac5b719d57b62773b2e": {
      "model_module": "@jupyter-widgets/controls",
      "model_module_version": "1.0.0",
      "model_name": "VBoxModel",
      "state": {
       "_dom_classes": [
        "widget-interact"
       ],
       "children": [
        "IPY_MODEL_e5726578961245af926719b2c86787dd",
        "IPY_MODEL_fea6b3d7744b4a73ab9b5329648375eb",
        "IPY_MODEL_f7a6b5e89f744eec985e065c4ae1a9bc",
        "IPY_MODEL_f2e4246051e5471db01470285747cc45",
        "IPY_MODEL_c848a1e5a80545ea865c5a57296090d9",
        "IPY_MODEL_91690d0cdd3f490e97cdac9efd9c2d4f",
        "IPY_MODEL_164d1707fa58468f944d17164352cd60",
        "IPY_MODEL_3cbdc852fd03454683e9b38754f4bca1",
        "IPY_MODEL_4017432258cc4e68bd91b1ec5b507251",
        "IPY_MODEL_29a668a62dca4230b543192b50ea8f07",
        "IPY_MODEL_38828d358eb84bd98cc001a8035c7889",
        "IPY_MODEL_ea1708b906cb4d05bb8164dea4652b97",
        "IPY_MODEL_8d09d459a5c547888266f784653607d0",
        "IPY_MODEL_e6e416f630824bbb90f84a94a0194cae"
       ],
       "layout": "IPY_MODEL_de7107679763482d967dae5e8378e587"
      }
     },
     "1e21103892174eb2b5ee60b0f38442d7": {
      "model_module": "@jupyter-widgets/base",
      "model_module_version": "1.0.0",
      "model_name": "LayoutModel",
      "state": {}
     },
     "1e2b0a8d20b046b2b19d8fce885027c0": {
      "model_module": "@jupyter-widgets/base",
      "model_module_version": "1.0.0",
      "model_name": "LayoutModel",
      "state": {}
     },
     "1e39f0d12b8b4afabd8fd2ef38b8c0d7": {
      "model_module": "@jupyter-widgets/controls",
      "model_module_version": "1.0.0",
      "model_name": "IntSliderModel",
      "state": {
       "description": "blue",
       "layout": "IPY_MODEL_843a3cb437b04c11882cbc073f7b822e",
       "max": 255,
       "style": "IPY_MODEL_05357c6f1330445c85d9d9dc445e43f1",
       "value": 255
      }
     },
     "1e5614a3190644ec825933d20236f387": {
      "model_module": "@jupyter-widgets/base",
      "model_module_version": "1.0.0",
      "model_name": "LayoutModel",
      "state": {}
     },
     "1e56a5d8063745c0b2b085eb32b96ae4": {
      "model_module": "@jupyter-widgets/controls",
      "model_module_version": "1.0.0",
      "model_name": "SliderStyleModel",
      "state": {
       "description_width": ""
      }
     },
     "1e6e80219ae84015be81c89573c84417": {
      "model_module": "@jupyter-widgets/controls",
      "model_module_version": "1.0.0",
      "model_name": "IntSliderModel",
      "state": {
       "description": "lineWidth",
       "layout": "IPY_MODEL_555b24f7f2fe400f84f5b81a6fe875ca",
       "max": 20,
       "style": "IPY_MODEL_cf4a6c2f44d64cb6be0b082ed0214c3e",
       "value": 3
      }
     },
     "1e73d9abf7ae450f8ff2a199d73bdc56": {
      "model_module": "@jupyter-widgets/controls",
      "model_module_version": "1.0.0",
      "model_name": "FloatSliderModel",
      "state": {
       "description": "alpha",
       "layout": "IPY_MODEL_0fd823d818d745a59459b962e94bac3a",
       "max": 1,
       "step": 0.1,
       "style": "IPY_MODEL_c63c46a1b8724c8f848ac25c31265a97",
       "value": 0.6
      }
     },
     "1e8b760abbc54bd58f0b72eb6b00fcbe": {
      "model_module": "jp_proxy_widget",
      "model_module_version": "^0.3.4",
      "model_name": "JSProxyModel",
      "state": {
       "_model_module_version": "^0.3.4",
       "_send_counter": 984,
       "_view_module_version": "^0.3.4",
       "error_msg": "No error",
       "layout": "IPY_MODEL_50c5d544ea8e410db372b947bd6c544c",
       "rendered": true,
       "status": "Got results."
      }
     },
     "1e9e35e60e0049b3ae2f0f9db17d9f1b": {
      "model_module": "@jupyter-widgets/controls",
      "model_module_version": "1.0.0",
      "model_name": "SliderStyleModel",
      "state": {
       "description_width": ""
      }
     },
     "1ecd46bdc4e3473491986afa7972d7ac": {
      "model_module": "@jupyter-widgets/controls",
      "model_module_version": "1.0.0",
      "model_name": "DescriptionStyleModel",
      "state": {
       "description_width": ""
      }
     },
     "1ef7ded2723e4eacaec2d8393eae381f": {
      "model_module": "@jupyter-widgets/controls",
      "model_module_version": "1.0.0",
      "model_name": "IntSliderModel",
      "state": {
       "description": "green",
       "layout": "IPY_MODEL_625371eb8f884c039c175f8679b460da",
       "max": 255,
       "style": "IPY_MODEL_d93029a6e95544d9b474cf99c19e86e1"
      }
     },
     "1f5eab211b534502bb7460ad5cacad79": {
      "model_module": "@jupyter-widgets/base",
      "model_module_version": "1.0.0",
      "model_name": "LayoutModel",
      "state": {}
     },
     "1f74090739164ba0851cb28751655374": {
      "model_module": "@jupyter-widgets/controls",
      "model_module_version": "1.0.0",
      "model_name": "FloatSliderModel",
      "state": {
       "description": "alpha",
       "layout": "IPY_MODEL_238083e1ae9645d196fb0037039b6201",
       "max": 1,
       "step": 0.1,
       "style": "IPY_MODEL_7d6123cb113747b0bef85cef4f1ec352",
       "value": 1
      }
     },
     "1f9fa07d19ea4367b82a541a552a17a9": {
      "model_module": "@jupyter-widgets/controls",
      "model_module_version": "1.0.0",
      "model_name": "SliderStyleModel",
      "state": {
       "description_width": ""
      }
     },
     "1fc3bb3d328d41038b62e196aa0a8dde": {
      "model_module": "@jupyter-widgets/controls",
      "model_module_version": "1.0.0",
      "model_name": "SliderStyleModel",
      "state": {
       "description_width": ""
      }
     },
     "1fc4a7c3dd364879b144346222c71143": {
      "model_module": "@jupyter-widgets/controls",
      "model_module_version": "1.0.0",
      "model_name": "SliderStyleModel",
      "state": {
       "description_width": ""
      }
     },
     "20016902a50041298eecaddad2caf14f": {
      "model_module": "@jupyter-widgets/controls",
      "model_module_version": "1.0.0",
      "model_name": "SliderStyleModel",
      "state": {
       "description_width": ""
      }
     },
     "200ff205022d4b898fafbe077cda899e": {
      "model_module": "@jupyter-widgets/controls",
      "model_module_version": "1.0.0",
      "model_name": "SliderStyleModel",
      "state": {
       "description_width": ""
      }
     },
     "201194823eac4061aea9989626d7a85a": {
      "model_module": "@jupyter-widgets/base",
      "model_module_version": "1.0.0",
      "model_name": "LayoutModel",
      "state": {}
     },
     "20186b44b3404b2e8ce165d2abc42c9d": {
      "model_module": "@jupyter-widgets/base",
      "model_module_version": "1.0.0",
      "model_name": "LayoutModel",
      "state": {}
     },
     "2044b5b4aac2498aa782e23bc5294e1d": {
      "model_module": "@jupyter-widgets/controls",
      "model_module_version": "1.0.0",
      "model_name": "SliderStyleModel",
      "state": {
       "description_width": ""
      }
     },
     "2055576160234dc99d6e1929319add1a": {
      "model_module": "@jupyter-widgets/base",
      "model_module_version": "1.0.0",
      "model_name": "LayoutModel",
      "state": {}
     },
     "20818d221903493088f277861d60ffd8": {
      "model_module": "@jupyter-widgets/base",
      "model_module_version": "1.0.0",
      "model_name": "LayoutModel",
      "state": {}
     },
     "20b4d73f915f43a5be5147e599adcab3": {
      "model_module": "@jupyter-widgets/base",
      "model_module_version": "1.0.0",
      "model_name": "LayoutModel",
      "state": {}
     },
     "20ba679bfe5d4b71b7fd081df1d2dda2": {
      "model_module": "@jupyter-widgets/base",
      "model_module_version": "1.0.0",
      "model_name": "LayoutModel",
      "state": {}
     },
     "20d7c6ce8daa459cad687f97085c600e": {
      "model_module": "@jupyter-widgets/controls",
      "model_module_version": "1.0.0",
      "model_name": "IntSliderModel",
      "state": {
       "description": "dx",
       "layout": "IPY_MODEL_8cad3a0ccfc1410196a9664237ad327e",
       "min": -100,
       "style": "IPY_MODEL_11fea5e7575d45f4a007f28bbf303921",
       "value": -53
      }
     },
     "20dce1b757a348448e729f999faca420": {
      "model_module": "@jupyter-widgets/output",
      "model_module_version": "1.0.0",
      "model_name": "OutputModel",
      "state": {
       "layout": "IPY_MODEL_0a94e72be7834372881929c340aabc03"
      }
     },
     "20f31c8f41b946b693587a30e0e8b77a": {
      "model_module": "@jupyter-widgets/output",
      "model_module_version": "1.0.0",
      "model_name": "OutputModel",
      "state": {
       "layout": "IPY_MODEL_8f685c7d705c4d11afc906f4ca489788"
      }
     },
     "2176e153306d4c2f97fec51cb7966a91": {
      "model_module": "@jupyter-widgets/controls",
      "model_module_version": "1.0.0",
      "model_name": "FloatSliderModel",
      "state": {
       "description": "arc",
       "layout": "IPY_MODEL_74b2742b1bfc45aca3cb643243834a8c",
       "max": 6.383185307179586,
       "step": 0.1,
       "style": "IPY_MODEL_8d3de9c3d8984d0dadfe5d788b034158",
       "value": 6.283185307179586
      }
     },
     "21a477be45764a1280eab63194d9d51f": {
      "model_module": "@jupyter-widgets/controls",
      "model_module_version": "1.0.0",
      "model_name": "SliderStyleModel",
      "state": {
       "description_width": ""
      }
     },
     "21d0d13ceb4046b5a28ebb88b79ca687": {
      "model_module": "@jupyter-widgets/controls",
      "model_module_version": "1.0.0",
      "model_name": "SliderStyleModel",
      "state": {
       "description_width": ""
      }
     },
     "21d381f803b8484aae27273d3599000f": {
      "model_module": "@jupyter-widgets/controls",
      "model_module_version": "1.0.0",
      "model_name": "SliderStyleModel",
      "state": {
       "description_width": ""
      }
     },
     "21debb73a2f64c4cac30d3480ba7e5a2": {
      "model_module": "@jupyter-widgets/controls",
      "model_module_version": "1.0.0",
      "model_name": "SliderStyleModel",
      "state": {
       "description_width": ""
      }
     },
     "220d7a6577b747cf8020e694eaacc517": {
      "model_module": "@jupyter-widgets/controls",
      "model_module_version": "1.0.0",
      "model_name": "VBoxModel",
      "state": {
       "children": [
        "IPY_MODEL_78a36bc249644c3abc87b50dc88506bb",
        "IPY_MODEL_5cae9cd0839d460f8c9c083ef5787246"
       ],
       "layout": "IPY_MODEL_5bc86fe162074d7e9b337fe205a9f53c"
      }
     },
     "221b79b9b54a4f7b85ca0ee0c3e355fc": {
      "model_module": "@jupyter-widgets/controls",
      "model_module_version": "1.0.0",
      "model_name": "DescriptionStyleModel",
      "state": {
       "description_width": ""
      }
     },
     "221cc17a24774bbb8356e69a04b4380e": {
      "model_module": "@jupyter-widgets/controls",
      "model_module_version": "1.0.0",
      "model_name": "SliderStyleModel",
      "state": {
       "description_width": ""
      }
     },
     "222e6bfdaa0a4d6eb0a91c708e69798b": {
      "model_module": "@jupyter-widgets/controls",
      "model_module_version": "1.0.0",
      "model_name": "HTMLModel",
      "state": {
       "layout": "IPY_MODEL_e96abbed313840179ea1bd9d6589387d",
       "style": "IPY_MODEL_9f618ea841d14958b87b761236c98b85",
       "value": "<img src=\"interactive_rectangle.png\" id=\"snapshot_id_25_1536268364205\"/>\n <div id=\"snapshot_id_26_1536268364205\">interactive_rectangle.png</div>"
      }
     },
     "2232333ea6a6491cb05dcddfce9ff6e1": {
      "model_module": "@jupyter-widgets/base",
      "model_module_version": "1.0.0",
      "model_name": "LayoutModel",
      "state": {}
     },
     "224a9447e7654c9183d92d752ae40252": {
      "model_module": "@jupyter-widgets/controls",
      "model_module_version": "1.0.0",
      "model_name": "VBoxModel",
      "state": {
       "_dom_classes": [
        "widget-interact"
       ],
       "children": [
        "IPY_MODEL_5504c9b68256430d808135c0f542b41a",
        "IPY_MODEL_4af7c0fca58b4caaa843371a39b17c61",
        "IPY_MODEL_faa7a14f16684d438afa4d69158245dd",
        "IPY_MODEL_fe2fed39a8214696815758d627af9200",
        "IPY_MODEL_6d2f433dc08247a8b01df182c6e1f0fe",
        "IPY_MODEL_93933cd18ff14ce48cdbda7090e4f468",
        "IPY_MODEL_460b49dd6a3144de967af63bb52c0dd8",
        "IPY_MODEL_e8e01f29308e4383a60218d541df44bd",
        "IPY_MODEL_df8e82b9bebd454180b445e85a235612",
        "IPY_MODEL_86aaadec64f648d3a6b6bbd2535bf776",
        "IPY_MODEL_c67dbeda3de244d29c75a91b6e905fa1",
        "IPY_MODEL_b495034dc0a848d8b9ee5590a449b2c6",
        "IPY_MODEL_97f225b315494a76a716fdfe464db030",
        "IPY_MODEL_20f31c8f41b946b693587a30e0e8b77a"
       ],
       "layout": "IPY_MODEL_f5389a88be6b45cebc2139fdf6e23343"
      }
     },
     "224dc997d4a643e9a7b3b31aabc1e9f2": {
      "model_module": "@jupyter-widgets/base",
      "model_module_version": "1.0.0",
      "model_name": "LayoutModel",
      "state": {}
     },
     "228935655cbd4a42886d80516f6f1add": {
      "model_module": "@jupyter-widgets/base",
      "model_module_version": "1.0.0",
      "model_name": "LayoutModel",
      "state": {}
     },
     "229848c89a1d478a8a8b3417d58431ea": {
      "model_module": "@jupyter-widgets/output",
      "model_module_version": "1.0.0",
      "model_name": "OutputModel",
      "state": {
       "layout": "IPY_MODEL_483b39d0a5f647389e951808d8dab527"
      }
     },
     "230e70817e9547c5963daa5665fbdd22": {
      "model_module": "@jupyter-widgets/controls",
      "model_module_version": "1.0.0",
      "model_name": "IntSliderModel",
      "state": {
       "description": "blue",
       "layout": "IPY_MODEL_42e7a8305b054c398961897cbac89c79",
       "max": 255,
       "style": "IPY_MODEL_09f9e84dc0b24f3395212e5afb68a236",
       "value": 248
      }
     },
     "2328df1c179b4876ad127f784edc929b": {
      "model_module": "@jupyter-widgets/controls",
      "model_module_version": "1.0.0",
      "model_name": "SliderStyleModel",
      "state": {
       "description_width": ""
      }
     },
     "238083e1ae9645d196fb0037039b6201": {
      "model_module": "@jupyter-widgets/base",
      "model_module_version": "1.0.0",
      "model_name": "LayoutModel",
      "state": {}
     },
     "23d1f2d601234c0993e35cc7cd9b5d94": {
      "model_module": "@jupyter-widgets/controls",
      "model_module_version": "1.0.0",
      "model_name": "SliderStyleModel",
      "state": {
       "description_width": ""
      }
     },
     "23ea168f6d8b4be4aa1febf6b7134381": {
      "model_module": "@jupyter-widgets/base",
      "model_module_version": "1.0.0",
      "model_name": "LayoutModel",
      "state": {}
     },
     "2400671700b64c99a2b65e1898f8c0a5": {
      "model_module": "@jupyter-widgets/base",
      "model_module_version": "1.0.0",
      "model_name": "LayoutModel",
      "state": {}
     },
     "245098d6c0794a19bb06779bd65346e6": {
      "model_module": "@jupyter-widgets/base",
      "model_module_version": "1.0.0",
      "model_name": "LayoutModel",
      "state": {}
     },
     "24527cb028fc4366a60ff6d4e3deb435": {
      "model_module": "@jupyter-widgets/base",
      "model_module_version": "1.0.0",
      "model_name": "LayoutModel",
      "state": {}
     },
     "24547a73d5b3471a984e1667a2d2ac82": {
      "model_module": "@jupyter-widgets/base",
      "model_module_version": "1.0.0",
      "model_name": "LayoutModel",
      "state": {}
     },
     "24d7df0fd6094301b21c7aa7feb3e24a": {
      "model_module": "@jupyter-widgets/base",
      "model_module_version": "1.0.0",
      "model_name": "LayoutModel",
      "state": {}
     },
     "24e26df30b86429da83d79df00b7ad0c": {
      "model_module": "@jupyter-widgets/base",
      "model_module_version": "1.0.0",
      "model_name": "LayoutModel",
      "state": {}
     },
     "252c075199c644e4b2e2c95360278243": {
      "model_module": "@jupyter-widgets/base",
      "model_module_version": "1.0.0",
      "model_name": "LayoutModel",
      "state": {}
     },
     "253caeaf32d743d08625923e6429970a": {
      "model_module": "@jupyter-widgets/base",
      "model_module_version": "1.0.0",
      "model_name": "LayoutModel",
      "state": {}
     },
     "258a037f9c5d4f1ab7e73280fcb610bb": {
      "model_module": "@jupyter-widgets/base",
      "model_module_version": "1.0.0",
      "model_name": "LayoutModel",
      "state": {}
     },
     "259a0d5baf5648449649a1169a23969c": {
      "model_module": "@jupyter-widgets/controls",
      "model_module_version": "1.0.0",
      "model_name": "IntSliderModel",
      "state": {
       "description": "h",
       "layout": "IPY_MODEL_ff700983c343484cbb7f6850177ee17f",
       "max": 300,
       "min": -300,
       "style": "IPY_MODEL_5b33747b426b477f9a60bfd1128a65fd",
       "value": 108
      }
     },
     "25a18e877fa24734b75769fa6e63c68f": {
      "model_module": "@jupyter-widgets/controls",
      "model_module_version": "1.0.0",
      "model_name": "IntSliderModel",
      "state": {
       "description": "dy",
       "layout": "IPY_MODEL_ece400934a4849ec83e0ed6585d19384",
       "min": -100,
       "style": "IPY_MODEL_75b20f334ff84f84a84a206f9cedb680",
       "value": -25
      }
     },
     "25d8a509efa1443fb9a269c10e9e79ef": {
      "model_module": "@jupyter-widgets/controls",
      "model_module_version": "1.0.0",
      "model_name": "SliderStyleModel",
      "state": {
       "description_width": ""
      }
     },
     "25e715584ab4424e8a35eb9df9c85de8": {
      "model_module": "@jupyter-widgets/controls",
      "model_module_version": "1.0.0",
      "model_name": "SliderStyleModel",
      "state": {
       "description_width": ""
      }
     },
     "25f4b5cfe0e04d4da1ca22db5da2edf0": {
      "model_module": "@jupyter-widgets/base",
      "model_module_version": "1.0.0",
      "model_name": "LayoutModel",
      "state": {}
     },
     "25f711c919fc42c5acf1251267909e68": {
      "model_module": "@jupyter-widgets/base",
      "model_module_version": "1.0.0",
      "model_name": "LayoutModel",
      "state": {}
     },
     "25fe0e83a7be4b38a7211ce894201e9e": {
      "model_module": "@jupyter-widgets/base",
      "model_module_version": "1.0.0",
      "model_name": "LayoutModel",
      "state": {}
     },
     "2608ab08ec564208bfde0d40ef9448e3": {
      "model_module": "@jupyter-widgets/base",
      "model_module_version": "1.0.0",
      "model_name": "LayoutModel",
      "state": {}
     },
     "262e201408c845bdbd57f16621e5c07c": {
      "model_module": "jp_proxy_widget",
      "model_module_version": "^0.3.4",
      "model_name": "JSProxyModel",
      "state": {
       "_model_module_version": "^0.3.4",
       "_send_counter": 2,
       "_view_module_version": "^0.3.4",
       "error_msg": "No error",
       "layout": "IPY_MODEL_311496ed979945b4b934584d777351f4",
       "rendered": true,
       "status": "Got results."
      }
     },
     "2632036bb6bf473da1b587ff86aa87fd": {
      "model_module": "@jupyter-widgets/controls",
      "model_module_version": "1.0.0",
      "model_name": "TabModel",
      "state": {
       "_titles": {
        "0": "Canvas",
        "1": "Snapshot"
       },
       "children": [
        "IPY_MODEL_18c9fcd26c6447f6a8dd9cf255688116",
        "IPY_MODEL_97435a4202fe4f1fbe3d8e44f0feb34a"
       ],
       "layout": "IPY_MODEL_c8ac01fe12dd4bfbb557dabc3c365a78",
       "selected_index": 1
      }
     },
     "266a1b69002f43df828cbbd586abb503": {
      "model_module": "@jupyter-widgets/controls",
      "model_module_version": "1.0.0",
      "model_name": "IntSliderModel",
      "state": {
       "description": "x",
       "layout": "IPY_MODEL_4fcabb2ea9944429a4d817eb777e7be1",
       "min": -100,
       "style": "IPY_MODEL_21a477be45764a1280eab63194d9d51f"
      }
     },
     "267d05ac300a4e71a7f705e0e60043c8": {
      "model_module": "@jupyter-widgets/controls",
      "model_module_version": "1.0.0",
      "model_name": "SliderStyleModel",
      "state": {
       "description_width": ""
      }
     },
     "269ba0d24ef946468e8f98e69f4778bb": {
      "model_module": "@jupyter-widgets/controls",
      "model_module_version": "1.0.0",
      "model_name": "SliderStyleModel",
      "state": {
       "description_width": ""
      }
     },
     "26aa5b55371645f9ad24aead6c30b0c5": {
      "model_module": "@jupyter-widgets/base",
      "model_module_version": "1.0.0",
      "model_name": "LayoutModel",
      "state": {}
     },
     "26b13228cb334bd6ac7d3184617b3a14": {
      "model_module": "@jupyter-widgets/controls",
      "model_module_version": "1.0.0",
      "model_name": "IntSliderModel",
      "state": {
       "description": "red",
       "layout": "IPY_MODEL_4141082cfa0347e0b36b4f20f5ee698e",
       "max": 255,
       "style": "IPY_MODEL_c1191473b69c4c65917b6fecdf0ebd3b",
       "value": 255
      }
     },
     "26bb7c19ef7642acbe11cc5fdaf4223a": {
      "model_module": "@jupyter-widgets/base",
      "model_module_version": "1.0.0",
      "model_name": "LayoutModel",
      "state": {}
     },
     "26bebf5448154bd4b302375d200cc359": {
      "model_module": "@jupyter-widgets/controls",
      "model_module_version": "1.0.0",
      "model_name": "SliderStyleModel",
      "state": {
       "description_width": ""
      }
     },
     "26e4900072e1472292fe343d0ff4e056": {
      "model_module": "@jupyter-widgets/base",
      "model_module_version": "1.0.0",
      "model_name": "LayoutModel",
      "state": {}
     },
     "27012439e37b43689536808bef069672": {
      "model_module": "@jupyter-widgets/base",
      "model_module_version": "1.0.0",
      "model_name": "LayoutModel",
      "state": {}
     },
     "2715990fa5714fc6a0fc16e71955286c": {
      "model_module": "@jupyter-widgets/controls",
      "model_module_version": "1.0.0",
      "model_name": "SliderStyleModel",
      "state": {
       "description_width": ""
      }
     },
     "278761cef79a4074836119b8b0222f88": {
      "model_module": "@jupyter-widgets/base",
      "model_module_version": "1.0.0",
      "model_name": "LayoutModel",
      "state": {}
     },
     "27886f0e5084463eb1417a26237d54e3": {
      "model_module": "@jupyter-widgets/base",
      "model_module_version": "1.0.0",
      "model_name": "LayoutModel",
      "state": {}
     },
     "278c14b15124447588f0c5b9b1090a1e": {
      "model_module": "@jupyter-widgets/controls",
      "model_module_version": "1.0.0",
      "model_name": "IntSliderModel",
      "state": {
       "description": "r",
       "layout": "IPY_MODEL_4ef993eb67774642bd48a4c780196768",
       "style": "IPY_MODEL_a4588cc0de184bc8832320fb76949505",
       "value": 50
      }
     },
     "27bfc583335d4bcbbe9be4cb124123e7": {
      "model_module": "@jupyter-widgets/controls",
      "model_module_version": "1.0.0",
      "model_name": "IntSliderModel",
      "state": {
       "description": "degrees",
       "layout": "IPY_MODEL_27886f0e5084463eb1417a26237d54e3",
       "max": 360,
       "min": -360,
       "style": "IPY_MODEL_376246a27470445cbf6f3d42aad9101a",
       "value": -9
      }
     },
     "27fafaa986e74dafa21ee00b18011127": {
      "model_module": "@jupyter-widgets/base",
      "model_module_version": "1.0.0",
      "model_name": "LayoutModel",
      "state": {}
     },
     "2818da40efa2451ea93d3b75a745c880": {
      "model_module": "@jupyter-widgets/base",
      "model_module_version": "1.0.0",
      "model_name": "LayoutModel",
      "state": {}
     },
     "28342e8f840844f3924bb3b45e98abfd": {
      "model_module": "@jupyter-widgets/base",
      "model_module_version": "1.0.0",
      "model_name": "LayoutModel",
      "state": {}
     },
     "28471fdbe2d4485fa5e32ed60ec1915d": {
      "model_module": "@jupyter-widgets/controls",
      "model_module_version": "1.0.0",
      "model_name": "SliderStyleModel",
      "state": {
       "description_width": ""
      }
     },
     "28622d7dc50448ba8a54324fce5fc3a4": {
      "model_module": "@jupyter-widgets/controls",
      "model_module_version": "1.0.0",
      "model_name": "VBoxModel",
      "state": {
       "children": [
        "IPY_MODEL_a6afeaee117d4c87819cceb651ddf789",
        "IPY_MODEL_b3f1a97ecd8b4aab91af8726e1063296"
       ],
       "layout": "IPY_MODEL_d38d110673304e319daafa6a39990cfc"
      }
     },
     "287cd41b851146269e275908f48cd2d7": {
      "model_module": "@jupyter-widgets/controls",
      "model_module_version": "1.0.0",
      "model_name": "HTMLModel",
      "state": {
       "layout": "IPY_MODEL_a796e87e80984babb3aea6f8278446c4",
       "style": "IPY_MODEL_43380f299241427bb11ab4ba067f8be4",
       "value": "<img src=\"interactive_circle2.png\" id=\"snapshot_id_8_1536250118617\"/>\n <div id=\"snapshot_id_9_1536250118617\">interactive_circle2.png</div>"
      }
     },
     "287f31043d5a4e62bbae1cad15d5c0b5": {
      "model_module": "@jupyter-widgets/controls",
      "model_module_version": "1.0.0",
      "model_name": "TabModel",
      "state": {
       "_titles": {
        "0": "Canvas",
        "1": "Snapshot"
       },
       "children": [
        "IPY_MODEL_e2334c3c19c2476b9eac05ce52baa0a7",
        "IPY_MODEL_ac8bcbb72d4043d8854ecd8f3494a1d3"
       ],
       "layout": "IPY_MODEL_35b35fc8abe046b5b4349bb67aba2d57"
      }
     },
     "289a0153c9a14816a57ad94f5c55828e": {
      "model_module": "@jupyter-widgets/controls",
      "model_module_version": "1.0.0",
      "model_name": "IntSliderModel",
      "state": {
       "description": "r",
       "layout": "IPY_MODEL_1a8f82465f4a47b9981cb3271fe9314b",
       "style": "IPY_MODEL_2044b5b4aac2498aa782e23bc5294e1d",
       "value": 39
      }
     },
     "28d39ff5265846bba335125a2ccb7a79": {
      "model_module": "@jupyter-widgets/controls",
      "model_module_version": "1.0.0",
      "model_name": "SliderStyleModel",
      "state": {
       "description_width": ""
      }
     },
     "28d89deba6ff402f8c7778dfc7a0650c": {
      "model_module": "@jupyter-widgets/base",
      "model_module_version": "1.0.0",
      "model_name": "LayoutModel",
      "state": {}
     },
     "28f3fca56bf245a1a9d22ae1cb574cf7": {
      "model_module": "@jupyter-widgets/base",
      "model_module_version": "1.0.0",
      "model_name": "LayoutModel",
      "state": {}
     },
     "29010fa647a445f4accddbb8a18a8e7b": {
      "model_module": "@jupyter-widgets/base",
      "model_module_version": "1.0.0",
      "model_name": "LayoutModel",
      "state": {}
     },
     "290d5891803043118d55ba1033bc388c": {
      "model_module": "@jupyter-widgets/base",
      "model_module_version": "1.0.0",
      "model_name": "LayoutModel",
      "state": {}
     },
     "29175feef1a148e18a99ea050f6789a2": {
      "model_module": "@jupyter-widgets/controls",
      "model_module_version": "1.0.0",
      "model_name": "SliderStyleModel",
      "state": {
       "description_width": ""
      }
     },
     "293196b84bca4d75b930132f3fee8dc6": {
      "model_module": "@jupyter-widgets/base",
      "model_module_version": "1.0.0",
      "model_name": "LayoutModel",
      "state": {}
     },
     "293316fd146f458b9ed8526a62cc02ff": {
      "model_module": "@jupyter-widgets/controls",
      "model_module_version": "1.0.0",
      "model_name": "SliderStyleModel",
      "state": {
       "description_width": ""
      }
     },
     "293d1cecc11c4e92b515026e1832008a": {
      "model_module": "@jupyter-widgets/controls",
      "model_module_version": "1.0.0",
      "model_name": "SliderStyleModel",
      "state": {
       "description_width": ""
      }
     },
     "29428aa375d24224bf45cee58e9908e4": {
      "model_module": "@jupyter-widgets/base",
      "model_module_version": "1.0.0",
      "model_name": "LayoutModel",
      "state": {}
     },
     "29927dc321974356a79469d249d5ce3b": {
      "model_module": "@jupyter-widgets/controls",
      "model_module_version": "1.0.0",
      "model_name": "SliderStyleModel",
      "state": {
       "description_width": ""
      }
     },
     "29a3fb6cd1db40f6aa53c9ff72568f9a": {
      "model_module": "@jupyter-widgets/base",
      "model_module_version": "1.0.0",
      "model_name": "LayoutModel",
      "state": {}
     },
     "29a668a62dca4230b543192b50ea8f07": {
      "model_module": "@jupyter-widgets/controls",
      "model_module_version": "1.0.0",
      "model_name": "IntSliderModel",
      "state": {
       "description": "red",
       "layout": "IPY_MODEL_a2d530c62187438e81a574efcb35f847",
       "max": 255,
       "style": "IPY_MODEL_8ebd5697257746bd996a84748fdd2335",
       "value": 147
      }
     },
     "29a846cc8705469ca82fa3c96a3ff821": {
      "model_module": "@jupyter-widgets/controls",
      "model_module_version": "1.0.0",
      "model_name": "IntSliderModel",
      "state": {
       "description": "dx",
       "layout": "IPY_MODEL_1f5eab211b534502bb7460ad5cacad79",
       "min": -100,
       "style": "IPY_MODEL_72d208781a684957b07912b6b3bc8f8f",
       "value": 37
      }
     },
     "29b67f2c596b4499a78ef084a1fb1a9f": {
      "model_module": "@jupyter-widgets/base",
      "model_module_version": "1.0.0",
      "model_name": "LayoutModel",
      "state": {}
     },
     "29bcfc628b4a4af4ae21a2c8aaec0205": {
      "model_module": "@jupyter-widgets/controls",
      "model_module_version": "1.0.0",
      "model_name": "SliderStyleModel",
      "state": {
       "description_width": ""
      }
     },
     "2a4d5eee08884a65bb98f2f774f3ebe3": {
      "model_module": "@jupyter-widgets/controls",
      "model_module_version": "1.0.0",
      "model_name": "IntSliderModel",
      "state": {
       "description": "x2",
       "layout": "IPY_MODEL_f59113ffa3d14f6d904941eb496af921",
       "min": -100,
       "style": "IPY_MODEL_b1952b7a9a8f4f06bcbc2d7268933771",
       "value": 100
      }
     },
     "2a771ba2332947638e2011cc23b498b3": {
      "model_module": "@jupyter-widgets/controls",
      "model_module_version": "1.0.0",
      "model_name": "VBoxModel",
      "state": {
       "children": [
        "IPY_MODEL_1619dfd7c5284ab09aef1ec4d1e3d037",
        "IPY_MODEL_4bfc39b7ad2b4dd2b03437294ae8a494"
       ],
       "layout": "IPY_MODEL_37a23d3d43b94abbbc2f5332d635d81e"
      }
     },
     "2a7e3bcd806d4c73bf90412c6c35699f": {
      "model_module": "@jupyter-widgets/controls",
      "model_module_version": "1.0.0",
      "model_name": "SliderStyleModel",
      "state": {
       "description_width": ""
      }
     },
     "2a809c0d80474d68b1c427f243a7786e": {
      "model_module": "@jupyter-widgets/base",
      "model_module_version": "1.0.0",
      "model_name": "LayoutModel",
      "state": {}
     },
     "2a96869849f1497d9027aa3b38e3a849": {
      "model_module": "@jupyter-widgets/base",
      "model_module_version": "1.0.0",
      "model_name": "LayoutModel",
      "state": {}
     },
     "2a9785a69adc473a994b99bbb9c29fb7": {
      "model_module": "@jupyter-widgets/controls",
      "model_module_version": "1.0.0",
      "model_name": "SliderStyleModel",
      "state": {
       "description_width": ""
      }
     },
     "2ac029db54324f539966573b9e540eba": {
      "model_module": "@jupyter-widgets/base",
      "model_module_version": "1.0.0",
      "model_name": "LayoutModel",
      "state": {}
     },
     "2af5751967594d488226afc3e3138e0b": {
      "model_module": "@jupyter-widgets/controls",
      "model_module_version": "1.0.0",
      "model_name": "DescriptionStyleModel",
      "state": {
       "description_width": ""
      }
     },
     "2b0ede0e51c34c789d0b6d3b1f34fa57": {
      "model_module": "@jupyter-widgets/controls",
      "model_module_version": "1.0.0",
      "model_name": "SliderStyleModel",
      "state": {
       "description_width": ""
      }
     },
     "2b1354f3513547d9be7ea5abf77a3936": {
      "model_module": "@jupyter-widgets/base",
      "model_module_version": "1.0.0",
      "model_name": "LayoutModel",
      "state": {}
     },
     "2b3d42d25ac247db8bc321d10812c792": {
      "model_module": "@jupyter-widgets/base",
      "model_module_version": "1.0.0",
      "model_name": "LayoutModel",
      "state": {}
     },
     "2b7be72eef08490494bfd8de96fce6a3": {
      "model_module": "@jupyter-widgets/base",
      "model_module_version": "1.0.0",
      "model_name": "LayoutModel",
      "state": {}
     },
     "2bbddc9e026c40ada225af4c8d2c4e06": {
      "model_module": "@jupyter-widgets/controls",
      "model_module_version": "1.0.0",
      "model_name": "DescriptionStyleModel",
      "state": {
       "description_width": ""
      }
     },
     "2bd99a6bd36b40e19e167a9293c1a31f": {
      "model_module": "@jupyter-widgets/controls",
      "model_module_version": "1.0.0",
      "model_name": "IntSliderModel",
      "state": {
       "description": "y",
       "layout": "IPY_MODEL_8dbc6d59254949a7a2a31b82ddfede27",
       "min": -100,
       "style": "IPY_MODEL_c6a9a33d2cd847ffbcecd32efae5e60a"
      }
     },
     "2bdd5cd1c8164541a2dedaf5640b8699": {
      "model_module": "@jupyter-widgets/controls",
      "model_module_version": "1.0.0",
      "model_name": "SliderStyleModel",
      "state": {
       "description_width": ""
      }
     },
     "2bdf84633aae44ac9767292958e6b60b": {
      "model_module": "@jupyter-widgets/base",
      "model_module_version": "1.0.0",
      "model_name": "LayoutModel",
      "state": {}
     },
     "2bf7e51094224b23b29a40900d1d8086": {
      "model_module": "@jupyter-widgets/controls",
      "model_module_version": "1.0.0",
      "model_name": "SliderStyleModel",
      "state": {
       "description_width": ""
      }
     },
     "2c0703e95f93481e80c43e646030cf5f": {
      "model_module": "@jupyter-widgets/base",
      "model_module_version": "1.0.0",
      "model_name": "LayoutModel",
      "state": {}
     },
     "2c20afb9d41f4367930922af4583f0fd": {
      "model_module": "@jupyter-widgets/controls",
      "model_module_version": "1.0.0",
      "model_name": "SliderStyleModel",
      "state": {
       "description_width": ""
      }
     },
     "2c22ee5d344241849908524593aad2f4": {
      "model_module": "@jupyter-widgets/base",
      "model_module_version": "1.0.0",
      "model_name": "LayoutModel",
      "state": {}
     },
     "2c430439150043db857466387ed95f0a": {
      "model_module": "@jupyter-widgets/base",
      "model_module_version": "1.0.0",
      "model_name": "LayoutModel",
      "state": {}
     },
     "2c5a3deaae6c46649bf71f7b88084ae4": {
      "model_module": "@jupyter-widgets/controls",
      "model_module_version": "1.0.0",
      "model_name": "TabModel",
      "state": {
       "_titles": {
        "0": "Canvas",
        "1": "Snapshot"
       },
       "children": [
        "IPY_MODEL_36490e0ac3e94b72acc7f8a5aabaa055",
        "IPY_MODEL_bc0c9962453741fa87bd0b13b4442d84"
       ],
       "layout": "IPY_MODEL_c321150d3889420097a520653cef8df6"
      }
     },
     "2c87a24df3ce443a8c8b5c17fbe21d87": {
      "model_module": "@jupyter-widgets/controls",
      "model_module_version": "1.0.0",
      "model_name": "SliderStyleModel",
      "state": {
       "description_width": ""
      }
     },
     "2d25cde2c3a34ce78c0183785f2b5627": {
      "model_module": "@jupyter-widgets/controls",
      "model_module_version": "1.0.0",
      "model_name": "IntSliderModel",
      "state": {
       "description": "lineWidth",
       "layout": "IPY_MODEL_ced358c677e44a39ab42f0f84a832deb",
       "max": 20,
       "style": "IPY_MODEL_e9b47e5be3874a76868819b827041232",
       "value": 3
      }
     },
     "2d6082387d2c4646b93bc81c59bdc36d": {
      "model_module": "@jupyter-widgets/base",
      "model_module_version": "1.0.0",
      "model_name": "LayoutModel",
      "state": {}
     },
     "2d76bf95824445969bc3a7b390089690": {
      "model_module": "@jupyter-widgets/controls",
      "model_module_version": "1.0.0",
      "model_name": "SliderStyleModel",
      "state": {
       "description_width": ""
      }
     },
     "2d904ae99ba04142b53fc480c126672e": {
      "model_module": "@jupyter-widgets/controls",
      "model_module_version": "1.0.0",
      "model_name": "IntSliderModel",
      "state": {
       "description": "y",
       "layout": "IPY_MODEL_550f920564e34228a7d10ffdd31b298a",
       "min": -100,
       "style": "IPY_MODEL_59fed05fbec546849a66b9f6c87f0070"
      }
     },
     "2d96f23bc6174fdbb9c5669ec901c7cc": {
      "model_module": "@jupyter-widgets/controls",
      "model_module_version": "1.0.0",
      "model_name": "SliderStyleModel",
      "state": {
       "description_width": ""
      }
     },
     "2d9d871495414279bd3aa73612c85bab": {
      "model_module": "@jupyter-widgets/controls",
      "model_module_version": "1.0.0",
      "model_name": "SliderStyleModel",
      "state": {
       "description_width": ""
      }
     },
     "2dfed08de1b847b3922417ffe1713046": {
      "model_module": "@jupyter-widgets/base",
      "model_module_version": "1.0.0",
      "model_name": "LayoutModel",
      "state": {}
     },
     "2e0efeb66c774b279f328baef2f76ba9": {
      "model_module": "@jupyter-widgets/base",
      "model_module_version": "1.0.0",
      "model_name": "LayoutModel",
      "state": {}
     },
     "2e17d479126748d58e6f116ef236360e": {
      "model_module": "@jupyter-widgets/controls",
      "model_module_version": "1.0.0",
      "model_name": "HTMLModel",
      "state": {
       "layout": "IPY_MODEL_5c4393d40f2040c2bc5af343689e425e",
       "style": "IPY_MODEL_9ca79bab1e76473b995970c804bbb6fa",
       "value": "<img src=\"interactive_rectangle.png\" id=\"snapshot_id_5_1536267134875\"/>\n <div id=\"snapshot_id_6_1536267134875\">interactive_rectangle.png</div>"
      }
     },
     "2e1c983d417a4f2f84bf78c2c2c47e71": {
      "model_module": "@jupyter-widgets/base",
      "model_module_version": "1.0.0",
      "model_name": "LayoutModel",
      "state": {}
     },
     "2e34cd67022644ac94e51be481464a52": {
      "model_module": "@jupyter-widgets/controls",
      "model_module_version": "1.0.0",
      "model_name": "SliderStyleModel",
      "state": {
       "description_width": ""
      }
     },
     "2e34f0fc8ec0401aaa0a52dbc5a8eb0e": {
      "model_module": "@jupyter-widgets/base",
      "model_module_version": "1.0.0",
      "model_name": "LayoutModel",
      "state": {}
     },
     "2e3700642f6c448f8f7c6904103bd311": {
      "model_module": "@jupyter-widgets/controls",
      "model_module_version": "1.0.0",
      "model_name": "IntSliderModel",
      "state": {
       "description": "y",
       "layout": "IPY_MODEL_54af61ffcfe54dea9157cd638550ee34",
       "min": -100,
       "style": "IPY_MODEL_bf556472c98e402281ff21357794cc11"
      }
     },
     "2e560254a2aa47f6bfa4611fba173a78": {
      "model_module": "@jupyter-widgets/controls",
      "model_module_version": "1.0.0",
      "model_name": "IntSliderModel",
      "state": {
       "description": "green",
       "layout": "IPY_MODEL_f1a3b8333cd64b18b9fc81cfd5eaf1d1",
       "max": 255,
       "style": "IPY_MODEL_8e6574475ec24bfb8beb1c233639c1c2"
      }
     },
     "2e564995d0a74657b91747686e566185": {
      "model_module": "jp_proxy_widget",
      "model_module_version": "^0.3.4",
      "model_name": "JSProxyModel",
      "state": {
       "_model_module_version": "^0.3.4",
       "_send_counter": 745,
       "_view_module_version": "^0.3.4",
       "error_msg": "No error",
       "layout": "IPY_MODEL_224dc997d4a643e9a7b3b31aabc1e9f2",
       "rendered": true,
       "status": "Got results."
      }
     },
     "2e6b052db3a14267957a9104b599128e": {
      "model_module": "@jupyter-widgets/controls",
      "model_module_version": "1.0.0",
      "model_name": "IntSliderModel",
      "state": {
       "description": "lineWidth",
       "layout": "IPY_MODEL_1955a57b925a4512bd0c81d802a742b9",
       "max": 20,
       "style": "IPY_MODEL_31f9b0309ed143be9cd86aafa176c281",
       "value": 3
      }
     },
     "2e6d683ed79440b9bcf9f1a3d107c32a": {
      "model_module": "@jupyter-widgets/controls",
      "model_module_version": "1.0.0",
      "model_name": "SliderStyleModel",
      "state": {
       "description_width": ""
      }
     },
     "2e6e7f1bd8864607b58b4841cc91d3b7": {
      "model_module": "@jupyter-widgets/controls",
      "model_module_version": "1.0.0",
      "model_name": "IntSliderModel",
      "state": {
       "description": "x",
       "layout": "IPY_MODEL_403a45102ba147f8aa926d450caf82de",
       "min": -100,
       "style": "IPY_MODEL_9f2041dc70e942bd990fe0074cd0e617",
       "value": -20
      }
     },
     "2e7b00438b9c409ea7d5451e5ce7e3ea": {
      "model_module": "@jupyter-widgets/controls",
      "model_module_version": "1.0.0",
      "model_name": "SliderStyleModel",
      "state": {
       "description_width": ""
      }
     },
     "2ed53716cbfb4930b6f2d38798db8ed8": {
      "model_module": "@jupyter-widgets/controls",
      "model_module_version": "1.0.0",
      "model_name": "IntSliderModel",
      "state": {
       "description": "y",
       "layout": "IPY_MODEL_c5c9439fa4874263bb7416c88ee5a009",
       "min": -100,
       "style": "IPY_MODEL_1fc4a7c3dd364879b144346222c71143"
      }
     },
     "2ee7cc21f0c14506b963356870175365": {
      "model_module": "@jupyter-widgets/controls",
      "model_module_version": "1.0.0",
      "model_name": "IntSliderModel",
      "state": {
       "description": "r",
       "layout": "IPY_MODEL_94860ebcd967426b807144f30016ba20",
       "style": "IPY_MODEL_9efbcad1358c44fb81da258d813a6b3e",
       "value": 66
      }
     },
     "2f09336969534ac8ba8a19f5317dfb46": {
      "model_module": "@jupyter-widgets/controls",
      "model_module_version": "1.0.0",
      "model_name": "IntSliderModel",
      "state": {
       "description": "y1",
       "layout": "IPY_MODEL_ad512bcaf4a04daa8b0e0ad8323f166f",
       "min": -100,
       "style": "IPY_MODEL_4bb6004152364a59ab2caae61cc9cdc1"
      }
     },
     "2f3d6dde3c174c5aa52fca0b2738c72b": {
      "model_module": "@jupyter-widgets/base",
      "model_module_version": "1.0.0",
      "model_name": "LayoutModel",
      "state": {}
     },
     "2f469495cf944a398f9eb31a7df84eb7": {
      "model_module": "@jupyter-widgets/base",
      "model_module_version": "1.0.0",
      "model_name": "LayoutModel",
      "state": {}
     },
     "2f46fb6da2b94ff6889866d57e844574": {
      "model_module": "@jupyter-widgets/controls",
      "model_module_version": "1.0.0",
      "model_name": "IntSliderModel",
      "state": {
       "description": "degrees",
       "layout": "IPY_MODEL_41000056eef44173854400c5ec5f0ba8",
       "max": 360,
       "min": -360,
       "style": "IPY_MODEL_013bcc8df4274bbf8d1fa0ba9b6588c3",
       "value": 105
      }
     },
     "2f495c39c6cb4ab1898d1bde88aeddf9": {
      "model_module": "@jupyter-widgets/controls",
      "model_module_version": "1.0.0",
      "model_name": "IntSliderModel",
      "state": {
       "description": "degrees",
       "layout": "IPY_MODEL_fd84cdb996cc4455a58be1a082d33d64",
       "max": 360,
       "min": -360,
       "style": "IPY_MODEL_5b877241ffe94a1f824204f242725880",
       "value": -20
      }
     },
     "2f64bd323e8d4c39a1be231236eb5bdb": {
      "model_module": "@jupyter-widgets/base",
      "model_module_version": "1.0.0",
      "model_name": "LayoutModel",
      "state": {}
     },
     "2f68824a86844f66abe24ea385b006a8": {
      "model_module": "@jupyter-widgets/controls",
      "model_module_version": "1.0.0",
      "model_name": "IntSliderModel",
      "state": {
       "description": "x",
       "layout": "IPY_MODEL_c9739257a84a4bda98972255f3b64850",
       "min": -100,
       "style": "IPY_MODEL_f8c7f18ee78d4eaf9f3558a0ac96dab7"
      }
     },
     "2f826654126b4036bc63c60f245cb8d4": {
      "model_module": "@jupyter-widgets/base",
      "model_module_version": "1.0.0",
      "model_name": "LayoutModel",
      "state": {}
     },
     "2fcd3b36d3b34ea6a4a4f0b0cdcf3d4b": {
      "model_module": "@jupyter-widgets/base",
      "model_module_version": "1.0.0",
      "model_name": "LayoutModel",
      "state": {}
     },
     "2fe98e560b484079961d3fe8bcc2534f": {
      "model_module": "@jupyter-widgets/base",
      "model_module_version": "1.0.0",
      "model_name": "LayoutModel",
      "state": {}
     },
     "306102ceeafd4b5a844af48aff0536f7": {
      "model_module": "@jupyter-widgets/base",
      "model_module_version": "1.0.0",
      "model_name": "LayoutModel",
      "state": {}
     },
     "308983ee82314e1bbb51b95c49c485b0": {
      "model_module": "@jupyter-widgets/controls",
      "model_module_version": "1.0.0",
      "model_name": "DescriptionStyleModel",
      "state": {
       "description_width": ""
      }
     },
     "30ae503ef27948eda6fbe5090c7190a6": {
      "model_module": "@jupyter-widgets/controls",
      "model_module_version": "1.0.0",
      "model_name": "SliderStyleModel",
      "state": {
       "description_width": ""
      }
     },
     "30bd36145e50450692de05721c86915e": {
      "model_module": "@jupyter-widgets/controls",
      "model_module_version": "1.0.0",
      "model_name": "FloatSliderModel",
      "state": {
       "description": "alpha",
       "layout": "IPY_MODEL_45fc2b1fdc644b72a5b174eebf2d4479",
       "max": 1,
       "step": 0.1,
       "style": "IPY_MODEL_6360675e71464d4397d2db1b861e399a",
       "value": 1
      }
     },
     "30f95ad4f26443cfa8a317965531e3fa": {
      "model_module": "@jupyter-widgets/base",
      "model_module_version": "1.0.0",
      "model_name": "LayoutModel",
      "state": {}
     },
     "31055da1faf849179e57bac70925eb6e": {
      "model_module": "@jupyter-widgets/base",
      "model_module_version": "1.0.0",
      "model_name": "LayoutModel",
      "state": {}
     },
     "3111dc70ff244d0891a651244c6578cf": {
      "model_module": "@jupyter-widgets/controls",
      "model_module_version": "1.0.0",
      "model_name": "IntSliderModel",
      "state": {
       "description": "h",
       "layout": "IPY_MODEL_c2d0c38e2c2c43c4952fc13b03dfe5ce",
       "max": 300,
       "min": -300,
       "style": "IPY_MODEL_0db4fe523f844d1cb607269ac13e0270",
       "value": 50
      }
     },
     "3112e381369e40eab9b3f2cfbcc48fcb": {
      "model_module": "@jupyter-widgets/controls",
      "model_module_version": "1.0.0",
      "model_name": "SliderStyleModel",
      "state": {
       "description_width": ""
      }
     },
     "311496ed979945b4b934584d777351f4": {
      "model_module": "@jupyter-widgets/base",
      "model_module_version": "1.0.0",
      "model_name": "LayoutModel",
      "state": {}
     },
     "3137af19dab94d0196ba067e9e41e63b": {
      "model_module": "@jupyter-widgets/controls",
      "model_module_version": "1.0.0",
      "model_name": "HTMLModel",
      "state": {
       "layout": "IPY_MODEL_56d79001880a4f9191e1017062b27cf3",
       "style": "IPY_MODEL_b4203a299efb48c4af5c85b36a0479d4",
       "value": "<img src=\"interactive_rectangle2.png\" id=\"snapshot_id_13_1536267611791\"/>\n <div id=\"snapshot_id_14_1536267611791\">interactive_rectangle2.png</div>"
      }
     },
     "31818af4692248f9a90f6093c5088e7d": {
      "model_module": "@jupyter-widgets/controls",
      "model_module_version": "1.0.0",
      "model_name": "SliderStyleModel",
      "state": {
       "description_width": ""
      }
     },
     "3183ced7344449de8db67aaa128c8228": {
      "model_module": "@jupyter-widgets/controls",
      "model_module_version": "1.0.0",
      "model_name": "IntSliderModel",
      "state": {
       "description": "r",
       "layout": "IPY_MODEL_3aa0d123d8394dc0b2135d92266fb699",
       "style": "IPY_MODEL_5e8de4973518427095d773ea3eaa2419",
       "value": 50
      }
     },
     "31ef5bc0e1834995a7e80726ae1f2c19": {
      "model_module": "@jupyter-widgets/controls",
      "model_module_version": "1.0.0",
      "model_name": "IntSliderModel",
      "state": {
       "description": "green",
       "layout": "IPY_MODEL_5772e9302cf446c89dd02be81cf3bef3",
       "max": 255,
       "style": "IPY_MODEL_65c713cc7d514c069b40fc1dd5979ec1",
       "value": 180
      }
     },
     "31f9b0309ed143be9cd86aafa176c281": {
      "model_module": "@jupyter-widgets/controls",
      "model_module_version": "1.0.0",
      "model_name": "SliderStyleModel",
      "state": {
       "description_width": ""
      }
     },
     "32108ab90f2349d783435c79410aa218": {
      "model_module": "@jupyter-widgets/base",
      "model_module_version": "1.0.0",
      "model_name": "LayoutModel",
      "state": {}
     },
     "32316a19285745f9aaff790f3d95f45b": {
      "model_module": "@jupyter-widgets/base",
      "model_module_version": "1.0.0",
      "model_name": "LayoutModel",
      "state": {}
     },
     "327961bb7e5e4f5faf14ff8de56d6867": {
      "model_module": "@jupyter-widgets/controls",
      "model_module_version": "1.0.0",
      "model_name": "IntSliderModel",
      "state": {
       "description": "blue",
       "layout": "IPY_MODEL_6dab80f1957149c1ae5bfccfaf936039",
       "max": 255,
       "style": "IPY_MODEL_3b2a321f6ed04ca18c41d8cf82787b85",
       "value": 64
      }
     },
     "32bdb33c90214892b115d60d101960fe": {
      "model_module": "@jupyter-widgets/controls",
      "model_module_version": "1.0.0",
      "model_name": "IntSliderModel",
      "state": {
       "description": "x",
       "layout": "IPY_MODEL_dbdb1c5d6f83451ca77c4d356d62abc3",
       "min": -100,
       "style": "IPY_MODEL_92229f6efafc4a91a7a0fc3ea0eec483"
      }
     },
     "32d5076fab904baabf6f9a2defb1d202": {
      "model_module": "@jupyter-widgets/output",
      "model_module_version": "1.0.0",
      "model_name": "OutputModel",
      "state": {
       "layout": "IPY_MODEL_aecb26f4530545afa1470e4e977433fa"
      }
     },
     "32dd3842cfd84edcaa0383b5a1aa5cae": {
      "model_module": "@jupyter-widgets/base",
      "model_module_version": "1.0.0",
      "model_name": "LayoutModel",
      "state": {}
     },
     "32ea6d58b7d14d52af1ea024f738485b": {
      "model_module": "@jupyter-widgets/base",
      "model_module_version": "1.0.0",
      "model_name": "LayoutModel",
      "state": {}
     },
     "32f007b21b6040e2b881709d790c9495": {
      "model_module": "@jupyter-widgets/controls",
      "model_module_version": "1.0.0",
      "model_name": "SliderStyleModel",
      "state": {
       "description_width": ""
      }
     },
     "32f639dcb31a4d2c828b6385eed836e2": {
      "model_module": "@jupyter-widgets/base",
      "model_module_version": "1.0.0",
      "model_name": "LayoutModel",
      "state": {}
     },
     "336e0d5cbd424918b6574828dceb6bc1": {
      "model_module": "@jupyter-widgets/controls",
      "model_module_version": "1.0.0",
      "model_name": "IntSliderModel",
      "state": {
       "description": "dy",
       "layout": "IPY_MODEL_ad98b8d469854e1999cd606f78b78aa1",
       "min": -100,
       "style": "IPY_MODEL_7dbe734a24c6482da842a3153a324f1b",
       "value": -3
      }
     },
     "33a3b06fd72546baa0cf0b1089f6f202": {
      "model_module": "@jupyter-widgets/controls",
      "model_module_version": "1.0.0",
      "model_name": "VBoxModel",
      "state": {
       "children": [
        "IPY_MODEL_3631d8620c6e47eb8d286aceb855e288",
        "IPY_MODEL_1099c7ec884643e3a302c56a26a48516"
       ],
       "layout": "IPY_MODEL_636f6b1c623942b9988c52e27b5a994b"
      }
     },
     "33b4f493f865465e847041d95a0ae6ae": {
      "model_module": "@jupyter-widgets/base",
      "model_module_version": "1.0.0",
      "model_name": "LayoutModel",
      "state": {}
     },
     "33bf7e3e592542449a1d15893af420eb": {
      "model_module": "@jupyter-widgets/base",
      "model_module_version": "1.0.0",
      "model_name": "LayoutModel",
      "state": {}
     },
     "33cbedf0465f48ada3ed90416f0951b2": {
      "model_module": "@jupyter-widgets/base",
      "model_module_version": "1.0.0",
      "model_name": "LayoutModel",
      "state": {}
     },
     "33cfd78eac3943b880ca19a95a2cbca8": {
      "model_module": "@jupyter-widgets/controls",
      "model_module_version": "1.0.0",
      "model_name": "IntSliderModel",
      "state": {
       "description": "y",
       "layout": "IPY_MODEL_70757c7e31fc4f119a9d09d51a68e066",
       "min": -100,
       "style": "IPY_MODEL_20016902a50041298eecaddad2caf14f"
      }
     },
     "342e460cee784520b610e5554c32ea9f": {
      "model_module": "@jupyter-widgets/controls",
      "model_module_version": "1.0.0",
      "model_name": "FloatSliderModel",
      "state": {
       "description": "alpha",
       "layout": "IPY_MODEL_d49c75f078c5498d9c46f8c1f51ad263",
       "max": 1,
       "step": 0.1,
       "style": "IPY_MODEL_5174be3a9b0f44c487de94babccdf304",
       "value": 1
      }
     },
     "343b75a7e01e4ceabe7c39260a568fdc": {
      "model_module": "jp_proxy_widget",
      "model_module_version": "^0.3.4",
      "model_name": "JSProxyModel",
      "state": {
       "_model_module_version": "^0.3.4",
       "_send_counter": 2,
       "_view_module_version": "^0.3.4",
       "error_msg": "No error",
       "layout": "IPY_MODEL_e005e1478ee54e209036c8c3207013b9",
       "rendered": true,
       "status": "Got results."
      }
     },
     "344eed1f2d2441e1866ef88666e9f62b": {
      "model_module": "@jupyter-widgets/controls",
      "model_module_version": "1.0.0",
      "model_name": "IntSliderModel",
      "state": {
       "description": "dx",
       "layout": "IPY_MODEL_2a96869849f1497d9027aa3b38e3a849",
       "min": -100,
       "style": "IPY_MODEL_057600f2f3b546c9bfe152530fddb0cf",
       "value": -3
      }
     },
     "346223109c9d4df19db71886a8bd5336": {
      "model_module": "@jupyter-widgets/base",
      "model_module_version": "1.0.0",
      "model_name": "LayoutModel",
      "state": {}
     },
     "3462e27fd50e485695a62b08636f316b": {
      "model_module": "@jupyter-widgets/controls",
      "model_module_version": "1.0.0",
      "model_name": "IntSliderModel",
      "state": {
       "description": "degrees",
       "layout": "IPY_MODEL_4ea7cc0b3a494b209389574b14f990f4",
       "max": 360,
       "min": -360,
       "style": "IPY_MODEL_44a5f054202945688347adf7ceadf3a4",
       "value": 54
      }
     },
     "347eed3ddc6649128d809c7398cde9b9": {
      "model_module": "@jupyter-widgets/base",
      "model_module_version": "1.0.0",
      "model_name": "LayoutModel",
      "state": {}
     },
     "34e04ba915f74f3bae7aea7b41796ed3": {
      "model_module": "@jupyter-widgets/controls",
      "model_module_version": "1.0.0",
      "model_name": "VBoxModel",
      "state": {
       "children": [
        "IPY_MODEL_bb6b6aa353cd490b86ce9ff22960c95e",
        "IPY_MODEL_1a75d36d8d364903a06abf4a553e84df"
       ],
       "layout": "IPY_MODEL_f9f512b2f04245e0be43eee7d5d43c29"
      }
     },
     "351cad72bcaf4b9a8abf332b64dbbb8b": {
      "model_module": "jp_proxy_widget",
      "model_module_version": "^0.3.4",
      "model_name": "JSProxyModel",
      "state": {
       "_model_module_version": "^0.3.4",
       "_send_counter": 2,
       "_view_module_version": "^0.3.4",
       "error_msg": "No error",
       "layout": "IPY_MODEL_03e8424e15314392b53bb2b58cd42fd4",
       "rendered": true,
       "status": "Got results."
      }
     },
     "3521f3a31d6b4c889e800f06677dd79f": {
      "model_module": "@jupyter-widgets/controls",
      "model_module_version": "1.0.0",
      "model_name": "CheckboxModel",
      "state": {
       "description": "fill",
       "disabled": false,
       "layout": "IPY_MODEL_610a72af0a99458382e6fe05819694fc",
       "style": "IPY_MODEL_fdadf82036e54dedab8373150bed1d18",
       "value": true
      }
     },
     "355b75f9f77f4c7882dca5e9a796f15b": {
      "model_module": "@jupyter-widgets/controls",
      "model_module_version": "1.0.0",
      "model_name": "IntSliderModel",
      "state": {
       "description": "lineWidth",
       "layout": "IPY_MODEL_ec35b7df7c4749f49503595d8f76356f",
       "max": 20,
       "style": "IPY_MODEL_2d9d871495414279bd3aa73612c85bab",
       "value": 3
      }
     },
     "355c025af7ae47f49b2b897551a69f6e": {
      "model_module": "@jupyter-widgets/base",
      "model_module_version": "1.0.0",
      "model_name": "LayoutModel",
      "state": {}
     },
     "358f1175ab3648ce9c52857012a82dff": {
      "model_module": "@jupyter-widgets/base",
      "model_module_version": "1.0.0",
      "model_name": "LayoutModel",
      "state": {}
     },
     "35b35fc8abe046b5b4349bb67aba2d57": {
      "model_module": "@jupyter-widgets/base",
      "model_module_version": "1.0.0",
      "model_name": "LayoutModel",
      "state": {}
     },
     "3609fd852d26486e946e01adaa2db271": {
      "model_module": "@jupyter-widgets/controls",
      "model_module_version": "1.0.0",
      "model_name": "IntSliderModel",
      "state": {
       "description": "lineWidth",
       "layout": "IPY_MODEL_8d73966a91144913abd9654d21b5c291",
       "max": 20,
       "style": "IPY_MODEL_c71f1a9e54ce49ce9f522cd479c351c8",
       "value": 3
      }
     },
     "361bb3a43cfb415a83e926ef37a9ef5c": {
      "model_module": "@jupyter-widgets/controls",
      "model_module_version": "1.0.0",
      "model_name": "SliderStyleModel",
      "state": {
       "description_width": ""
      }
     },
     "3631d8620c6e47eb8d286aceb855e288": {
      "model_module": "jp_proxy_widget",
      "model_module_version": "^0.3.4",
      "model_name": "JSProxyModel",
      "state": {
       "_model_module_version": "^0.3.4",
       "_send_counter": 276,
       "_view_module_version": "^0.3.4",
       "error_msg": "No error",
       "layout": "IPY_MODEL_651e7c1fd81c44279ea33f0e4bb198f1",
       "rendered": true,
       "status": "Got results."
      }
     },
     "364817d6ce7a4904b270524afa789cf7": {
      "model_module": "@jupyter-widgets/controls",
      "model_module_version": "1.0.0",
      "model_name": "IntSliderModel",
      "state": {
       "description": "h",
       "layout": "IPY_MODEL_0cef01227f0c4904810d7642a4cf9400",
       "max": 300,
       "min": -300,
       "style": "IPY_MODEL_bbeaa4e6eb2b41378e1f7151ed2fe41f",
       "value": 188
      }
     },
     "36490e0ac3e94b72acc7f8a5aabaa055": {
      "model_module": "@jupyter-widgets/controls",
      "model_module_version": "1.0.0",
      "model_name": "VBoxModel",
      "state": {
       "children": [
        "IPY_MODEL_2e564995d0a74657b91747686e566185",
        "IPY_MODEL_65a97635233c46f3b48e9f9d21f20393"
       ],
       "layout": "IPY_MODEL_f2305bf7a24849e694f1ed5e973a0ff1"
      }
     },
     "36e043cf685a4b5aa75ad46d5f5165ab": {
      "model_module": "@jupyter-widgets/controls",
      "model_module_version": "1.0.0",
      "model_name": "SliderStyleModel",
      "state": {
       "description_width": ""
      }
     },
     "37449dee1e3e49d1ae5a15e15a3365f3": {
      "model_module": "@jupyter-widgets/base",
      "model_module_version": "1.0.0",
      "model_name": "LayoutModel",
      "state": {}
     },
     "374eab8fee6243d3ae3b8f150c390a3e": {
      "model_module": "@jupyter-widgets/controls",
      "model_module_version": "1.0.0",
      "model_name": "FloatSliderModel",
      "state": {
       "description": "alpha",
       "layout": "IPY_MODEL_fe3bff1ddfa742259d7feae110fec4cc",
       "max": 1,
       "step": 0.1,
       "style": "IPY_MODEL_375449ef488b4e409949902dbaabdb2f",
       "value": 0.5
      }
     },
     "375449ef488b4e409949902dbaabdb2f": {
      "model_module": "@jupyter-widgets/controls",
      "model_module_version": "1.0.0",
      "model_name": "SliderStyleModel",
      "state": {
       "description_width": ""
      }
     },
     "3755edaea1fa4f1bbe5efe885e020ca8": {
      "model_module": "@jupyter-widgets/base",
      "model_module_version": "1.0.0",
      "model_name": "LayoutModel",
      "state": {}
     },
     "376246a27470445cbf6f3d42aad9101a": {
      "model_module": "@jupyter-widgets/controls",
      "model_module_version": "1.0.0",
      "model_name": "SliderStyleModel",
      "state": {
       "description_width": ""
      }
     },
     "37684bb7566c45bcac399dc568899113": {
      "model_module": "@jupyter-widgets/controls",
      "model_module_version": "1.0.0",
      "model_name": "SliderStyleModel",
      "state": {
       "description_width": ""
      }
     },
     "3772dc481e804676b7bc1c71e74e4b2c": {
      "model_module": "@jupyter-widgets/base",
      "model_module_version": "1.0.0",
      "model_name": "LayoutModel",
      "state": {}
     },
     "377d102e0f4c45bb8bd08237d6675d98": {
      "model_module": "@jupyter-widgets/controls",
      "model_module_version": "1.0.0",
      "model_name": "SliderStyleModel",
      "state": {
       "description_width": ""
      }
     },
     "37a23d3d43b94abbbc2f5332d635d81e": {
      "model_module": "@jupyter-widgets/base",
      "model_module_version": "1.0.0",
      "model_name": "LayoutModel",
      "state": {}
     },
     "37b4620c990d47ca967041ebbebf5a61": {
      "model_module": "@jupyter-widgets/controls",
      "model_module_version": "1.0.0",
      "model_name": "SliderStyleModel",
      "state": {
       "description_width": ""
      }
     },
     "37c6920ec2fb4dad8b23464d673ec94c": {
      "model_module": "@jupyter-widgets/base",
      "model_module_version": "1.0.0",
      "model_name": "LayoutModel",
      "state": {}
     },
     "37e481c97a4e48448f0b40ac9cc2fe8c": {
      "model_module": "@jupyter-widgets/output",
      "model_module_version": "1.0.0",
      "model_name": "OutputModel",
      "state": {
       "layout": "IPY_MODEL_4d0d47a8cbf0435b9821330f7380181f"
      }
     },
     "3810ae9521ad4feb9e41a2d0618526fd": {
      "model_module": "@jupyter-widgets/base",
      "model_module_version": "1.0.0",
      "model_name": "LayoutModel",
      "state": {}
     },
     "385c4cb31c1d491787737c08bb69f148": {
      "model_module": "@jupyter-widgets/base",
      "model_module_version": "1.0.0",
      "model_name": "LayoutModel",
      "state": {}
     },
     "38828d358eb84bd98cc001a8035c7889": {
      "model_module": "@jupyter-widgets/controls",
      "model_module_version": "1.0.0",
      "model_name": "IntSliderModel",
      "state": {
       "description": "green",
       "layout": "IPY_MODEL_d8731cce1a234f04a4695181cfb54a7d",
       "max": 255,
       "style": "IPY_MODEL_564320759de54b449c13694c5679bde0",
       "value": 191
      }
     },
     "38a6fa7cde5044bf86db7497b1d791d6": {
      "model_module": "@jupyter-widgets/base",
      "model_module_version": "1.0.0",
      "model_name": "LayoutModel",
      "state": {}
     },
     "38b6a4a2c6c346a19ffd9662d6915086": {
      "model_module": "@jupyter-widgets/base",
      "model_module_version": "1.0.0",
      "model_name": "LayoutModel",
      "state": {}
     },
     "38d109f39d1b4bcdae6ca1e0580db0d2": {
      "model_module": "@jupyter-widgets/controls",
      "model_module_version": "1.0.0",
      "model_name": "FloatSliderModel",
      "state": {
       "description": "alpha",
       "layout": "IPY_MODEL_4862b3cafd2942bb8cd9d20c906b4833",
       "max": 1,
       "step": 0.1,
       "style": "IPY_MODEL_60711ad324264ea1bbf7a9d4cbc89030",
       "value": 1
      }
     },
     "38d5f0d38bcb4bf386c6b6881c02e16e": {
      "model_module": "@jupyter-widgets/base",
      "model_module_version": "1.0.0",
      "model_name": "LayoutModel",
      "state": {}
     },
     "38de2859c2a64b2db04b4fa2ac890c20": {
      "model_module": "@jupyter-widgets/base",
      "model_module_version": "1.0.0",
      "model_name": "LayoutModel",
      "state": {}
     },
     "38f3bfd5549d46aa81d0ccf9f4895674": {
      "model_module": "@jupyter-widgets/controls",
      "model_module_version": "1.0.0",
      "model_name": "FloatSliderModel",
      "state": {
       "description": "alpha",
       "layout": "IPY_MODEL_5a7cb5e3b848420ba4698be1bd7d78ec",
       "max": 1,
       "step": 0.1,
       "style": "IPY_MODEL_b4180451ea8a49c683b56bad3f9c85d9",
       "value": 1
      }
     },
     "392ef3f48acd41e88c1d5623d9e01d57": {
      "model_module": "@jupyter-widgets/controls",
      "model_module_version": "1.0.0",
      "model_name": "CheckboxModel",
      "state": {
       "description": "fill",
       "disabled": false,
       "layout": "IPY_MODEL_7e566cc251284e0bb94dffc041f96e04",
       "style": "IPY_MODEL_148ac0d4cb4c4108b648c4c3a215b187",
       "value": false
      }
     },
     "3937387cd47f47d4bcdf5afaba9058b2": {
      "model_module": "@jupyter-widgets/controls",
      "model_module_version": "1.0.0",
      "model_name": "CheckboxModel",
      "state": {
       "description": "fill",
       "disabled": false,
       "layout": "IPY_MODEL_60d1a15b07c54779bd30e5c26d2f0529",
       "style": "IPY_MODEL_3f5d5f0a7c4a48df8bd74dc8be0af2b0",
       "value": true
      }
     },
     "3943f1b913fe4b1e94e48c0a87f56dfd": {
      "model_module": "@jupyter-widgets/controls",
      "model_module_version": "1.0.0",
      "model_name": "FloatSliderModel",
      "state": {
       "description": "arc",
       "layout": "IPY_MODEL_dd87b5a13f874675a29a796a3e3cde77",
       "max": 6.383185307179586,
       "step": 0.1,
       "style": "IPY_MODEL_e7873677b53545329c9ff13c24157804",
       "value": 6
      }
     },
     "394f2987ee704c2eb5eeaf069b97d63e": {
      "model_module": "@jupyter-widgets/base",
      "model_module_version": "1.0.0",
      "model_name": "LayoutModel",
      "state": {}
     },
     "39519c9e3c8f4a6a9f1cf2307cdc9f1c": {
      "model_module": "@jupyter-widgets/base",
      "model_module_version": "1.0.0",
      "model_name": "LayoutModel",
      "state": {}
     },
     "396d227606ca4b77a0fd9d9d621270b1": {
      "model_module": "@jupyter-widgets/controls",
      "model_module_version": "1.0.0",
      "model_name": "VBoxModel",
      "state": {
       "_dom_classes": [
        "widget-interact"
       ],
       "children": [
        "IPY_MODEL_32bdb33c90214892b115d60d101960fe",
        "IPY_MODEL_d77b6462ad514ee8876ac19f2c622c6b",
        "IPY_MODEL_d0b2a1f5bc104761968b1bc483afc644",
        "IPY_MODEL_a91cb63369404a839fa3279e3442ce59",
        "IPY_MODEL_7ec85661d6544abb85c44a221e1bdeb7",
        "IPY_MODEL_4d7974b698f245e3b784f70761d959b8",
        "IPY_MODEL_57379ef972a042bbbae4d66672bbbf49",
        "IPY_MODEL_7261fd9657c34e6886f4a75cdc18d33f"
       ],
       "layout": "IPY_MODEL_ebcefb249b364779bb48896bc257b8a1"
      }
     },
     "397ba3b3105743ca9da3ba4eb69e4d62": {
      "model_module": "@jupyter-widgets/controls",
      "model_module_version": "1.0.0",
      "model_name": "SliderStyleModel",
      "state": {
       "description_width": ""
      }
     },
     "398c92001708431d9af9cceff4f8795a": {
      "model_module": "@jupyter-widgets/controls",
      "model_module_version": "1.0.0",
      "model_name": "IntSliderModel",
      "state": {
       "description": "y",
       "layout": "IPY_MODEL_0fe33f6ce39c4997bcb980b16c3ac51e",
       "min": -100,
       "style": "IPY_MODEL_1695c185bc914e8d87b718bb9f06c15b",
       "value": -49
      }
     },
     "39a09fa8d131455ca09c8ef8bcac6eea": {
      "model_module": "@jupyter-widgets/output",
      "model_module_version": "1.0.0",
      "model_name": "OutputModel",
      "state": {
       "layout": "IPY_MODEL_189a1bc7509c43e39cf08c1277854895"
      }
     },
     "39cb24a05bcf4055ae6e74f44d1b77bb": {
      "model_module": "@jupyter-widgets/controls",
      "model_module_version": "1.0.0",
      "model_name": "SliderStyleModel",
      "state": {
       "description_width": ""
      }
     },
     "39ea280f576d404ea95d4e0672b9771c": {
      "model_module": "@jupyter-widgets/controls",
      "model_module_version": "1.0.0",
      "model_name": "SliderStyleModel",
      "state": {
       "description_width": ""
      }
     },
     "39fbab63948f41a38710d79e8f6baa2c": {
      "model_module": "@jupyter-widgets/base",
      "model_module_version": "1.0.0",
      "model_name": "LayoutModel",
      "state": {}
     },
     "3a0d309da4274cd6a4c0bc706bc51d81": {
      "model_module": "@jupyter-widgets/controls",
      "model_module_version": "1.0.0",
      "model_name": "IntSliderModel",
      "state": {
       "description": "r",
       "layout": "IPY_MODEL_0734ac469e3443feae42710aaa7e02fd",
       "style": "IPY_MODEL_48af8f7a8c244947bfafc0ef05f7b9b6",
       "value": 75
      }
     },
     "3a0ec3f676e5402ebe4376a3f6d6b7eb": {
      "model_module": "@jupyter-widgets/base",
      "model_module_version": "1.0.0",
      "model_name": "LayoutModel",
      "state": {}
     },
     "3a2209d82a8c428a9e1090bedc264712": {
      "model_module": "@jupyter-widgets/base",
      "model_module_version": "1.0.0",
      "model_name": "LayoutModel",
      "state": {}
     },
     "3a282912c7754259a4c2384d5f2e151a": {
      "model_module": "jp_proxy_widget",
      "model_module_version": "^0.3.4",
      "model_name": "JSProxyModel",
      "state": {
       "_model_module_version": "^0.3.4",
       "_send_counter": 2,
       "_view_module_version": "^0.3.4",
       "error_msg": "No error",
       "layout": "IPY_MODEL_347eed3ddc6649128d809c7398cde9b9",
       "rendered": true,
       "status": "call back to <function callback_function at 0x109fade60>"
      }
     },
     "3a30ab3b24034ce8a9d71c7d8a258822": {
      "model_module": "@jupyter-widgets/controls",
      "model_module_version": "1.0.0",
      "model_name": "SliderStyleModel",
      "state": {
       "description_width": ""
      }
     },
     "3a3797311afe4614813177f03d4c72ac": {
      "model_module": "@jupyter-widgets/controls",
      "model_module_version": "1.0.0",
      "model_name": "IntSliderModel",
      "state": {
       "description": "green",
       "layout": "IPY_MODEL_2a809c0d80474d68b1c427f243a7786e",
       "max": 255,
       "style": "IPY_MODEL_73ef9fac00c34fbba2d4679318de8790"
      }
     },
     "3a39e878416c4279a635b2502a25b3c4": {
      "model_module": "@jupyter-widgets/controls",
      "model_module_version": "1.0.0",
      "model_name": "TabModel",
      "state": {
       "_titles": {
        "0": "Canvas",
        "1": "Snapshot"
       },
       "children": [
        "IPY_MODEL_6aed85d7b94c4ad19b72463d6a3cf8e3",
        "IPY_MODEL_6dfd70e3c3a345679a18f400ff4f9099"
       ],
       "layout": "IPY_MODEL_19b52c664afb439cb85e11bd39081f60",
       "selected_index": 1
      }
     },
     "3a49ef557fb346d5a2f2dc60f1072a6b": {
      "model_module": "@jupyter-widgets/base",
      "model_module_version": "1.0.0",
      "model_name": "LayoutModel",
      "state": {}
     },
     "3a60bffe0d094b08aab9b53591731c9e": {
      "model_module": "@jupyter-widgets/controls",
      "model_module_version": "1.0.0",
      "model_name": "SliderStyleModel",
      "state": {
       "description_width": ""
      }
     },
     "3aa0d123d8394dc0b2135d92266fb699": {
      "model_module": "@jupyter-widgets/base",
      "model_module_version": "1.0.0",
      "model_name": "LayoutModel",
      "state": {}
     },
     "3abd04a8adb0482296dc8eeb01405aa2": {
      "model_module": "@jupyter-widgets/controls",
      "model_module_version": "1.0.0",
      "model_name": "IntSliderModel",
      "state": {
       "description": "red",
       "layout": "IPY_MODEL_8c019990355540b9b0be4c98c5d09c2a",
       "max": 255,
       "style": "IPY_MODEL_125cdc713dbf45e28d6018c9d5dfb4c9",
       "value": 255
      }
     },
     "3ae80e42edc6492e9dc7fc09b1a1afb5": {
      "model_module": "jp_proxy_widget",
      "model_module_version": "^0.3.4",
      "model_name": "JSProxyModel",
      "state": {
       "_model_module_version": "^0.3.4",
       "_send_counter": 470,
       "_view_module_version": "^0.3.4",
       "error_msg": "No error",
       "layout": "IPY_MODEL_9c1ba6765f244920acee5f3f328fe2c0",
       "rendered": true,
       "status": "Got results."
      }
     },
     "3af941c9e342491c87e295f01a280228": {
      "model_module": "@jupyter-widgets/controls",
      "model_module_version": "1.0.0",
      "model_name": "FloatSliderModel",
      "state": {
       "description": "alpha",
       "layout": "IPY_MODEL_aba9e6d809a04cdb8f8d7d9e653c7316",
       "max": 1,
       "step": 0.1,
       "style": "IPY_MODEL_feafdda46982449a8226a17e3c72aa24",
       "value": 1
      }
     },
     "3b2146ed6a794cc28dff2017141ecff9": {
      "model_module": "@jupyter-widgets/base",
      "model_module_version": "1.0.0",
      "model_name": "LayoutModel",
      "state": {}
     },
     "3b298347d5164b729809133f282a4913": {
      "model_module": "@jupyter-widgets/controls",
      "model_module_version": "1.0.0",
      "model_name": "SliderStyleModel",
      "state": {
       "description_width": ""
      }
     },
     "3b2a321f6ed04ca18c41d8cf82787b85": {
      "model_module": "@jupyter-widgets/controls",
      "model_module_version": "1.0.0",
      "model_name": "SliderStyleModel",
      "state": {
       "description_width": ""
      }
     },
     "3b7c16746cf8472aa45b7df52c6a3d5b": {
      "model_module": "@jupyter-widgets/controls",
      "model_module_version": "1.0.0",
      "model_name": "SliderStyleModel",
      "state": {
       "description_width": ""
      }
     },
     "3b86f2f670b3422d9db3de7334d5048b": {
      "model_module": "@jupyter-widgets/controls",
      "model_module_version": "1.0.0",
      "model_name": "HTMLModel",
      "state": {
       "layout": "IPY_MODEL_20b4d73f915f43a5be5147e599adcab3",
       "style": "IPY_MODEL_db2aa71d00024b1e9acf939d78cb3d3c",
       "value": "<img src=\"interactive_circle.png\" id=\"snapshot_id_19_1536246788202\"/>\n <div id=\"snapshot_id_20_1536246788202\">interactive_circle.png</div>"
      }
     },
     "3b9f01bcdb4347a9938e7b1a24c95ad5": {
      "model_module": "@jupyter-widgets/controls",
      "model_module_version": "1.0.0",
      "model_name": "SliderStyleModel",
      "state": {
       "description_width": ""
      }
     },
     "3bc8227fed9f4b199d664930c684ef9c": {
      "model_module": "@jupyter-widgets/base",
      "model_module_version": "1.0.0",
      "model_name": "LayoutModel",
      "state": {}
     },
     "3bd4fdef432e484697612a1fd266d763": {
      "model_module": "@jupyter-widgets/base",
      "model_module_version": "1.0.0",
      "model_name": "LayoutModel",
      "state": {}
     },
     "3bf03e2b61e64d0d839847d558021c8d": {
      "model_module": "@jupyter-widgets/controls",
      "model_module_version": "1.0.0",
      "model_name": "IntSliderModel",
      "state": {
       "description": "w",
       "layout": "IPY_MODEL_74d193da70504933894e6fd7933dda49",
       "max": 300,
       "min": -300,
       "style": "IPY_MODEL_a7695c8029704b4e8212ccdeb31f440e",
       "value": 45
      }
     },
     "3c14499fc91d425eb47cc2fe077a5cc0": {
      "model_module": "@jupyter-widgets/base",
      "model_module_version": "1.0.0",
      "model_name": "LayoutModel",
      "state": {}
     },
     "3c312d48f827487bb5615bb3681d9f75": {
      "model_module": "@jupyter-widgets/base",
      "model_module_version": "1.0.0",
      "model_name": "LayoutModel",
      "state": {}
     },
     "3c579f3bc35340539b2c0d3d343460e9": {
      "model_module": "@jupyter-widgets/controls",
      "model_module_version": "1.0.0",
      "model_name": "IntSliderModel",
      "state": {
       "description": "dx",
       "layout": "IPY_MODEL_1ac6d0452983445d9594cab96c29b18f",
       "min": -100,
       "style": "IPY_MODEL_f6cc98f805fb4c1297d6442113bb79e9",
       "value": -50
      }
     },
     "3c8d093f27ca43e98c709bdec227af87": {
      "model_module": "@jupyter-widgets/controls",
      "model_module_version": "1.0.0",
      "model_name": "IntSliderModel",
      "state": {
       "description": "blue",
       "layout": "IPY_MODEL_2f3d6dde3c174c5aa52fca0b2738c72b",
       "max": 255,
       "style": "IPY_MODEL_23d1f2d601234c0993e35cc7cd9b5d94",
       "value": 255
      }
     },
     "3cb4306aaac04ddfa97480f29d992eb9": {
      "model_module": "@jupyter-widgets/base",
      "model_module_version": "1.0.0",
      "model_name": "LayoutModel",
      "state": {}
     },
     "3cbdc852fd03454683e9b38754f4bca1": {
      "model_module": "@jupyter-widgets/controls",
      "model_module_version": "1.0.0",
      "model_name": "CheckboxModel",
      "state": {
       "description": "fill",
       "disabled": false,
       "layout": "IPY_MODEL_eff5d44c82f045cea5b652a99b3a3bf1",
       "style": "IPY_MODEL_0c805990a4924a9abc03534bdc3c9551",
       "value": false
      }
     },
     "3cf2b3bec0b345c7ba4a5b7b033fab7e": {
      "model_module": "@jupyter-widgets/controls",
      "model_module_version": "1.0.0",
      "model_name": "IntSliderModel",
      "state": {
       "description": "red",
       "layout": "IPY_MODEL_ee0f71b41f5a4ff98255ef8a9a0c439b",
       "max": 255,
       "style": "IPY_MODEL_e4758ba7d91e43ce8d74d6c2fd0c0536",
       "value": 127
      }
     },
     "3cf6e0894b7241e49e6fe11ed4f572fa": {
      "model_module": "@jupyter-widgets/controls",
      "model_module_version": "1.0.0",
      "model_name": "SliderStyleModel",
      "state": {
       "description_width": ""
      }
     },
     "3cfc267610d8405ba3c9ad8ffc8fb859": {
      "model_module": "@jupyter-widgets/controls",
      "model_module_version": "1.0.0",
      "model_name": "VBoxModel",
      "state": {
       "_dom_classes": [
        "widget-interact"
       ],
       "children": [
        "IPY_MODEL_ec928ba503cc48d49e9f9c69f60df8d7",
        "IPY_MODEL_2f09336969534ac8ba8a19f5317dfb46",
        "IPY_MODEL_1584e220d25c49ed8c7087bbcd5aea4c",
        "IPY_MODEL_51576a43a95741149709993e95da046d",
        "IPY_MODEL_78e129673a1c4eaa88fc995fc38e6d7b",
        "IPY_MODEL_b0bf3ef42a544012ac747637cf0e9143",
        "IPY_MODEL_60bff4c4fcf64842bda7b423cb94ccef",
        "IPY_MODEL_dad0a60f0b984601ab7a8c645a2da3e0",
        "IPY_MODEL_73c6dfbab166404dbfdd9c2c3d0e4dfb",
        "IPY_MODEL_a3d88c39f92f422e90972924b2ff7d43"
       ],
       "layout": "IPY_MODEL_f9a95e1380e3461a94fd7cd0181f8bed"
      }
     },
     "3d21df8e29bd46e5b2c5c65bfdc7be05": {
      "model_module": "@jupyter-widgets/controls",
      "model_module_version": "1.0.0",
      "model_name": "IntSliderModel",
      "state": {
       "description": "y",
       "layout": "IPY_MODEL_60089789060445b09495f2a73886d7fa",
       "min": -100,
       "style": "IPY_MODEL_28d39ff5265846bba335125a2ccb7a79"
      }
     },
     "3d5058bc2e3b4e539cc00452ef824c4d": {
      "model_module": "@jupyter-widgets/base",
      "model_module_version": "1.0.0",
      "model_name": "LayoutModel",
      "state": {}
     },
     "3d813c61c9b34388a1c497d44f887b4a": {
      "model_module": "@jupyter-widgets/base",
      "model_module_version": "1.0.0",
      "model_name": "LayoutModel",
      "state": {}
     },
     "3dc212351fc440058bf1bd983c272dd6": {
      "model_module": "@jupyter-widgets/base",
      "model_module_version": "1.0.0",
      "model_name": "LayoutModel",
      "state": {}
     },
     "3dc8cd0d64c443d2a4c05a0bd83bf747": {
      "model_module": "@jupyter-widgets/base",
      "model_module_version": "1.0.0",
      "model_name": "LayoutModel",
      "state": {}
     },
     "3dce779d871c4269adb9173511b2df5a": {
      "model_module": "@jupyter-widgets/base",
      "model_module_version": "1.0.0",
      "model_name": "LayoutModel",
      "state": {}
     },
     "3df1634a2c3d4b5e9c98b5f6f6ad482f": {
      "model_module": "@jupyter-widgets/controls",
      "model_module_version": "1.0.0",
      "model_name": "IntSliderModel",
      "state": {
       "description": "h",
       "layout": "IPY_MODEL_b9e25213cb4f4c57bf78ded3c1a28714",
       "max": 300,
       "min": -300,
       "style": "IPY_MODEL_7401918960794eacb24017c0d138171c",
       "value": 50
      }
     },
     "3df3d86594924680a5fd244a0849e541": {
      "model_module": "@jupyter-widgets/base",
      "model_module_version": "1.0.0",
      "model_name": "LayoutModel",
      "state": {}
     },
     "3e08496c5a814d1fb64c034a3b7731f1": {
      "model_module": "@jupyter-widgets/controls",
      "model_module_version": "1.0.0",
      "model_name": "IntSliderModel",
      "state": {
       "description": "red",
       "layout": "IPY_MODEL_2b3d42d25ac247db8bc321d10812c792",
       "max": 255,
       "style": "IPY_MODEL_a895c20fa5904e5e90d479a850648308",
       "value": 255
      }
     },
     "3e0b2938dd5b453faa0317b9956d2099": {
      "model_module": "@jupyter-widgets/controls",
      "model_module_version": "1.0.0",
      "model_name": "SliderStyleModel",
      "state": {
       "description_width": ""
      }
     },
     "3e0f8127177d425586eb6faea6914232": {
      "model_module": "@jupyter-widgets/output",
      "model_module_version": "1.0.0",
      "model_name": "OutputModel",
      "state": {
       "layout": "IPY_MODEL_91245801af7d46a0b339d34af01e1162"
      }
     },
     "3e25631bc1f54f50b20fe57a847614fb": {
      "model_module": "@jupyter-widgets/base",
      "model_module_version": "1.0.0",
      "model_name": "LayoutModel",
      "state": {}
     },
     "3e340659f1254df497b3ed666f22c98b": {
      "model_module": "@jupyter-widgets/base",
      "model_module_version": "1.0.0",
      "model_name": "LayoutModel",
      "state": {}
     },
     "3e367bf33f1047dfbc03f16555494f9c": {
      "model_module": "jp_proxy_widget",
      "model_module_version": "^0.3.4",
      "model_name": "JSProxyModel",
      "state": {
       "_model_module_version": "^0.3.4",
       "_send_counter": 142,
       "_view_module_version": "^0.3.4",
       "error_msg": "No error",
       "layout": "IPY_MODEL_6f24f35404984892b1be42462ad04b72",
       "rendered": true,
       "status": "Got results."
      }
     },
     "3e3e9b985eb14c4c86747feb32453a8a": {
      "model_module": "@jupyter-widgets/base",
      "model_module_version": "1.0.0",
      "model_name": "LayoutModel",
      "state": {}
     },
     "3e43b5dbec0e422d9f99a7f3f56e6c17": {
      "model_module": "@jupyter-widgets/base",
      "model_module_version": "1.0.0",
      "model_name": "LayoutModel",
      "state": {}
     },
     "3e4c590d40324812b350512df6bfe115": {
      "model_module": "@jupyter-widgets/controls",
      "model_module_version": "1.0.0",
      "model_name": "IntSliderModel",
      "state": {
       "description": "blue",
       "layout": "IPY_MODEL_645f40b7a5a14b5db060125aae0644aa",
       "max": 255,
       "style": "IPY_MODEL_7b611f35ec414076b82be5e4bf25a275",
       "value": 126
      }
     },
     "3ec8030449244fe4aae93cc02895dfe9": {
      "model_module": "@jupyter-widgets/base",
      "model_module_version": "1.0.0",
      "model_name": "LayoutModel",
      "state": {}
     },
     "3edc9638d53f4bc790edff56fe75b448": {
      "model_module": "@jupyter-widgets/controls",
      "model_module_version": "1.0.0",
      "model_name": "SliderStyleModel",
      "state": {
       "description_width": ""
      }
     },
     "3f0586023cfc4e79ae4c477593a84b5a": {
      "model_module": "@jupyter-widgets/controls",
      "model_module_version": "1.0.0",
      "model_name": "SliderStyleModel",
      "state": {
       "description_width": ""
      }
     },
     "3f07e7eb5db348b28e21b87aac6ca1f2": {
      "model_module": "@jupyter-widgets/controls",
      "model_module_version": "1.0.0",
      "model_name": "IntSliderModel",
      "state": {
       "description": "y",
       "layout": "IPY_MODEL_442837ba9f35427c9c443a5221762d5b",
       "min": -100,
       "style": "IPY_MODEL_178f9659879d4ed6b088a35c1d4a1ec2"
      }
     },
     "3f501892f92d49f385ca689073a9d446": {
      "model_module": "jp_proxy_widget",
      "model_module_version": "^0.3.4",
      "model_name": "JSProxyModel",
      "state": {
       "_model_module_version": "^0.3.4",
       "_send_counter": 2,
       "_view_module_version": "^0.3.4",
       "error_msg": "No error",
       "layout": "IPY_MODEL_1b094caceb6d43cfae969cf932ef0c9b",
       "rendered": true,
       "status": "Got results."
      }
     },
     "3f5d5f0a7c4a48df8bd74dc8be0af2b0": {
      "model_module": "@jupyter-widgets/controls",
      "model_module_version": "1.0.0",
      "model_name": "DescriptionStyleModel",
      "state": {
       "description_width": ""
      }
     },
     "3f924d1212e94c4c98ebeff020b030f9": {
      "model_module": "@jupyter-widgets/base",
      "model_module_version": "1.0.0",
      "model_name": "LayoutModel",
      "state": {}
     },
     "3faa37d119d14750bbeac9b4483cf57b": {
      "model_module": "@jupyter-widgets/controls",
      "model_module_version": "1.0.0",
      "model_name": "CheckboxModel",
      "state": {
       "description": "fill",
       "disabled": false,
       "layout": "IPY_MODEL_70c20b7fc64f4087b31856d8cc1e32ad",
       "style": "IPY_MODEL_aef8426a607a4401bf3deeaefc189e84",
       "value": true
      }
     },
     "3ff3ef1421c4477782a3f54432015a95": {
      "model_module": "@jupyter-widgets/controls",
      "model_module_version": "1.0.0",
      "model_name": "SliderStyleModel",
      "state": {
       "description_width": ""
      }
     },
     "40005d17ef2a453581b89a074eed00f2": {
      "model_module": "@jupyter-widgets/controls",
      "model_module_version": "1.0.0",
      "model_name": "VBoxModel",
      "state": {
       "_dom_classes": [
        "widget-interact"
       ],
       "children": [
        "IPY_MODEL_e30f0a68a2d14f918cf07bf1b8c1a5ee",
        "IPY_MODEL_c2543703fffa45b3970ce58be00dc637",
        "IPY_MODEL_4c7e707786cb4c3dab46f3d0b8236e11",
        "IPY_MODEL_7e14317e98e84687ae40df82bac5d903",
        "IPY_MODEL_78ebd864a4344056910e970f1f016825",
        "IPY_MODEL_aceea22abb284a589c84a2d8ba6f2e42",
        "IPY_MODEL_1cb7369d10064166b67960bb9e474db3",
        "IPY_MODEL_4d4ac664337d4753b134a32a3a5ee48b",
        "IPY_MODEL_2e6b052db3a14267957a9104b599128e",
        "IPY_MODEL_486f6a0face14dd0ba820a1d6a71a84f",
        "IPY_MODEL_e5ad087ecd704aef8eb110a44eeb02a5",
        "IPY_MODEL_db5bdac5a92948b98142d2826c2a654b",
        "IPY_MODEL_aeaa55f4a37247f98d3dafd7ec15f247",
        "IPY_MODEL_fb17bc911b11445a9165639f979e9eab"
       ],
       "layout": "IPY_MODEL_f87b8aed1b2244caa33bd15e06207836"
      }
     },
     "4017432258cc4e68bd91b1ec5b507251": {
      "model_module": "@jupyter-widgets/controls",
      "model_module_version": "1.0.0",
      "model_name": "IntSliderModel",
      "state": {
       "description": "lineWidth",
       "layout": "IPY_MODEL_c380bb8b910e485f91663f014a5fdd51",
       "max": 20,
       "style": "IPY_MODEL_f0ad98568b0d42c89393813f9fe6232d",
       "value": 6
      }
     },
     "402f95aa334748b0bde5c7de2a447f2d": {
      "model_module": "@jupyter-widgets/base",
      "model_module_version": "1.0.0",
      "model_name": "LayoutModel",
      "state": {}
     },
     "403a45102ba147f8aa926d450caf82de": {
      "model_module": "@jupyter-widgets/base",
      "model_module_version": "1.0.0",
      "model_name": "LayoutModel",
      "state": {}
     },
     "40438ecc1b6849b498a3aef1c636cf61": {
      "model_module": "@jupyter-widgets/base",
      "model_module_version": "1.0.0",
      "model_name": "LayoutModel",
      "state": {}
     },
     "4058b1e23a90471eb4ca008b7ff750ba": {
      "model_module": "@jupyter-widgets/base",
      "model_module_version": "1.0.0",
      "model_name": "LayoutModel",
      "state": {}
     },
     "40679a37760f413eaab916ce3109bef5": {
      "model_module": "@jupyter-widgets/controls",
      "model_module_version": "1.0.0",
      "model_name": "IntSliderModel",
      "state": {
       "description": "r",
       "layout": "IPY_MODEL_346223109c9d4df19db71886a8bd5336",
       "style": "IPY_MODEL_ec5aa57ed6cc4905bbae2c4861c17a69",
       "value": 50
      }
     },
     "408871657b3a49e1aaf1575004613c88": {
      "model_module": "@jupyter-widgets/controls",
      "model_module_version": "1.0.0",
      "model_name": "SliderStyleModel",
      "state": {
       "description_width": ""
      }
     },
     "408c10ccbc734beaba126b8f30975e97": {
      "model_module": "@jupyter-widgets/base",
      "model_module_version": "1.0.0",
      "model_name": "LayoutModel",
      "state": {}
     },
     "408e67a7ff1c429cb7224fa3b6f2cb1a": {
      "model_module": "@jupyter-widgets/controls",
      "model_module_version": "1.0.0",
      "model_name": "SliderStyleModel",
      "state": {
       "description_width": ""
      }
     },
     "40a6555930644a19836498bde62e7096": {
      "model_module": "@jupyter-widgets/controls",
      "model_module_version": "1.0.0",
      "model_name": "SliderStyleModel",
      "state": {
       "description_width": ""
      }
     },
     "40b3a6e46868489c8da8169d343837c4": {
      "model_module": "@jupyter-widgets/controls",
      "model_module_version": "1.0.0",
      "model_name": "SliderStyleModel",
      "state": {
       "description_width": ""
      }
     },
     "40bb0b1a648e4f57b1523dc65133c5af": {
      "model_module": "@jupyter-widgets/controls",
      "model_module_version": "1.0.0",
      "model_name": "SliderStyleModel",
      "state": {
       "description_width": ""
      }
     },
     "41000056eef44173854400c5ec5f0ba8": {
      "model_module": "@jupyter-widgets/base",
      "model_module_version": "1.0.0",
      "model_name": "LayoutModel",
      "state": {}
     },
     "411921282fa740f8ac1f528051dac85e": {
      "model_module": "@jupyter-widgets/controls",
      "model_module_version": "1.0.0",
      "model_name": "SliderStyleModel",
      "state": {
       "description_width": ""
      }
     },
     "4119b9bf791645ff95eedb06fdc371d2": {
      "model_module": "@jupyter-widgets/base",
      "model_module_version": "1.0.0",
      "model_name": "LayoutModel",
      "state": {}
     },
     "41232876897e45c7b89c8a978fc7a5d8": {
      "model_module": "@jupyter-widgets/base",
      "model_module_version": "1.0.0",
      "model_name": "LayoutModel",
      "state": {}
     },
     "413e6e8d43ff4406811d3af95680b0b1": {
      "model_module": "@jupyter-widgets/base",
      "model_module_version": "1.0.0",
      "model_name": "LayoutModel",
      "state": {}
     },
     "4141082cfa0347e0b36b4f20f5ee698e": {
      "model_module": "@jupyter-widgets/base",
      "model_module_version": "1.0.0",
      "model_name": "LayoutModel",
      "state": {}
     },
     "41484ed2655643e08c0097d01cd4735b": {
      "model_module": "@jupyter-widgets/base",
      "model_module_version": "1.0.0",
      "model_name": "LayoutModel",
      "state": {}
     },
     "4191f12f667d4f8ca6c0787bddc7619c": {
      "model_module": "@jupyter-widgets/base",
      "model_module_version": "1.0.0",
      "model_name": "LayoutModel",
      "state": {}
     },
     "41c6d7289a09447cae94c2eee94c6d89": {
      "model_module": "@jupyter-widgets/controls",
      "model_module_version": "1.0.0",
      "model_name": "SliderStyleModel",
      "state": {
       "description_width": ""
      }
     },
     "41d329c9fb844c58b33a0e053b44c6aa": {
      "model_module": "@jupyter-widgets/controls",
      "model_module_version": "1.0.0",
      "model_name": "IntSliderModel",
      "state": {
       "description": "y",
       "layout": "IPY_MODEL_dda6c4af1bd14558916865156306cace",
       "min": -100,
       "style": "IPY_MODEL_ec6bc3b7f5af41a397224ffc50787343"
      }
     },
     "4239c3efea4d43b1a6f0d8c288c6ae50": {
      "model_module": "@jupyter-widgets/base",
      "model_module_version": "1.0.0",
      "model_name": "LayoutModel",
      "state": {}
     },
     "4244e0c3771c4898942ed4036cba7fb0": {
      "model_module": "@jupyter-widgets/base",
      "model_module_version": "1.0.0",
      "model_name": "LayoutModel",
      "state": {}
     },
     "42624f06e6734e78b739cac1ea841130": {
      "model_module": "@jupyter-widgets/base",
      "model_module_version": "1.0.0",
      "model_name": "LayoutModel",
      "state": {}
     },
     "42ac1e9ba8d44f048a605cb200f0714d": {
      "model_module": "@jupyter-widgets/base",
      "model_module_version": "1.0.0",
      "model_name": "LayoutModel",
      "state": {}
     },
     "42ba9a277c5646e7b5a861482a296b25": {
      "model_module": "@jupyter-widgets/controls",
      "model_module_version": "1.0.0",
      "model_name": "IntSliderModel",
      "state": {
       "description": "green",
       "layout": "IPY_MODEL_9c869b2b547944e896724e0f1f082ca1",
       "max": 255,
       "style": "IPY_MODEL_3edc9638d53f4bc790edff56fe75b448"
      }
     },
     "42cc639b4af647f28d2724b2f5028853": {
      "model_module": "@jupyter-widgets/controls",
      "model_module_version": "1.0.0",
      "model_name": "DescriptionStyleModel",
      "state": {
       "description_width": ""
      }
     },
     "42d12b1ec7574a50b6104871c58a58ed": {
      "model_module": "@jupyter-widgets/controls",
      "model_module_version": "1.0.0",
      "model_name": "IntSliderModel",
      "state": {
       "description": "y",
       "layout": "IPY_MODEL_39fbab63948f41a38710d79e8f6baa2c",
       "min": -100,
       "style": "IPY_MODEL_0e236c0abc8543678cde80a20f77d38a"
      }
     },
     "42e7a8305b054c398961897cbac89c79": {
      "model_module": "@jupyter-widgets/base",
      "model_module_version": "1.0.0",
      "model_name": "LayoutModel",
      "state": {}
     },
     "43194c117c34491083a4e0ae4cc3830d": {
      "model_module": "@jupyter-widgets/controls",
      "model_module_version": "1.0.0",
      "model_name": "IntSliderModel",
      "state": {
       "description": "w",
       "layout": "IPY_MODEL_4896f5319db84497bc8124a80a6a16b3",
       "max": 300,
       "min": -300,
       "style": "IPY_MODEL_eae0c7f52ba644bd9adc766a60ffc9e1",
       "value": 83
      }
     },
     "43335df01ac143f5bd7efb6415e22c52": {
      "model_module": "@jupyter-widgets/base",
      "model_module_version": "1.0.0",
      "model_name": "LayoutModel",
      "state": {}
     },
     "43380f299241427bb11ab4ba067f8be4": {
      "model_module": "@jupyter-widgets/controls",
      "model_module_version": "1.0.0",
      "model_name": "DescriptionStyleModel",
      "state": {
       "description_width": ""
      }
     },
     "43535c6a3263478ab53b869d35b5f5e6": {
      "model_module": "@jupyter-widgets/controls",
      "model_module_version": "1.0.0",
      "model_name": "SliderStyleModel",
      "state": {
       "description_width": ""
      }
     },
     "4379508570554a5b9505ff68ffd31c81": {
      "model_module": "@jupyter-widgets/controls",
      "model_module_version": "1.0.0",
      "model_name": "SliderStyleModel",
      "state": {
       "description_width": ""
      }
     },
     "4386074b37c84218a7c70ef4920565b5": {
      "model_module": "@jupyter-widgets/controls",
      "model_module_version": "1.0.0",
      "model_name": "TabModel",
      "state": {
       "_titles": {
        "0": "Canvas",
        "1": "Snapshot"
       },
       "children": [
        "IPY_MODEL_6a2e8306e8bb44fba322c60c417cbc7a",
        "IPY_MODEL_e686183a7f2645bab5ce2f0f8677f4c3"
       ],
       "layout": "IPY_MODEL_b641d6c0cd8240f79a7de7768b7a5395"
      }
     },
     "4392b306158b4b6bb331aea9b210afe8": {
      "model_module": "@jupyter-widgets/base",
      "model_module_version": "1.0.0",
      "model_name": "LayoutModel",
      "state": {}
     },
     "439519df286841d598e294e7be2c6537": {
      "model_module": "@jupyter-widgets/base",
      "model_module_version": "1.0.0",
      "model_name": "LayoutModel",
      "state": {}
     },
     "43954d7df1884b2684065c9e92e8a746": {
      "model_module": "@jupyter-widgets/base",
      "model_module_version": "1.0.0",
      "model_name": "LayoutModel",
      "state": {}
     },
     "43cd9bc4b687415a9da2b07ba9325515": {
      "model_module": "@jupyter-widgets/controls",
      "model_module_version": "1.0.0",
      "model_name": "DescriptionStyleModel",
      "state": {
       "description_width": ""
      }
     },
     "43d331fb913541c0a30fd1395e7acc11": {
      "model_module": "@jupyter-widgets/base",
      "model_module_version": "1.0.0",
      "model_name": "LayoutModel",
      "state": {}
     },
     "43da1a340ef740c6a2e3e035f9573200": {
      "model_module": "@jupyter-widgets/base",
      "model_module_version": "1.0.0",
      "model_name": "LayoutModel",
      "state": {}
     },
     "43fcf0ffc18747639180ddcffbe43699": {
      "model_module": "@jupyter-widgets/base",
      "model_module_version": "1.0.0",
      "model_name": "LayoutModel",
      "state": {}
     },
     "442837ba9f35427c9c443a5221762d5b": {
      "model_module": "@jupyter-widgets/base",
      "model_module_version": "1.0.0",
      "model_name": "LayoutModel",
      "state": {}
     },
     "44416140818f45b8abad7c386b9d793a": {
      "model_module": "@jupyter-widgets/base",
      "model_module_version": "1.0.0",
      "model_name": "LayoutModel",
      "state": {}
     },
     "445a1d207a3f424dbc83d5dcae542144": {
      "model_module": "@jupyter-widgets/controls",
      "model_module_version": "1.0.0",
      "model_name": "IntSliderModel",
      "state": {
       "description": "x1",
       "layout": "IPY_MODEL_b8bc26cbaf1a4a0b8a0ce4f5345bf043",
       "min": -100,
       "style": "IPY_MODEL_9d86484376e6430984db59b859ad0961",
       "value": -65
      }
     },
     "44a5f054202945688347adf7ceadf3a4": {
      "model_module": "@jupyter-widgets/controls",
      "model_module_version": "1.0.0",
      "model_name": "SliderStyleModel",
      "state": {
       "description_width": ""
      }
     },
     "44ee557031604031a6861c063720caf1": {
      "model_module": "@jupyter-widgets/base",
      "model_module_version": "1.0.0",
      "model_name": "LayoutModel",
      "state": {}
     },
     "4534bccc59c44772b130d2ad4fe7f2ff": {
      "model_module": "@jupyter-widgets/base",
      "model_module_version": "1.0.0",
      "model_name": "LayoutModel",
      "state": {}
     },
     "456284c4bc4644ec824cad934213daf8": {
      "model_module": "@jupyter-widgets/controls",
      "model_module_version": "1.0.0",
      "model_name": "SliderStyleModel",
      "state": {
       "description_width": ""
      }
     },
     "45f85def23654524a52fdce948787ba9": {
      "model_module": "@jupyter-widgets/controls",
      "model_module_version": "1.0.0",
      "model_name": "IntSliderModel",
      "state": {
       "description": "red",
       "layout": "IPY_MODEL_b3e7e9ade30248dcb7d7bb017a1f77eb",
       "max": 255,
       "style": "IPY_MODEL_0dc07ffe40814fa3a0b829a2dd0f9b01",
       "value": 255
      }
     },
     "45fc2b1fdc644b72a5b174eebf2d4479": {
      "model_module": "@jupyter-widgets/base",
      "model_module_version": "1.0.0",
      "model_name": "LayoutModel",
      "state": {}
     },
     "4603c40eec0f405e940a4794959333c1": {
      "model_module": "@jupyter-widgets/base",
      "model_module_version": "1.0.0",
      "model_name": "LayoutModel",
      "state": {}
     },
     "460aad71be2844eaa50d17fbb17a0b09": {
      "model_module": "@jupyter-widgets/base",
      "model_module_version": "1.0.0",
      "model_name": "LayoutModel",
      "state": {}
     },
     "460b49dd6a3144de967af63bb52c0dd8": {
      "model_module": "@jupyter-widgets/controls",
      "model_module_version": "1.0.0",
      "model_name": "IntSliderModel",
      "state": {
       "description": "degrees",
       "layout": "IPY_MODEL_fd89396ce5eb466e89d973f1cb217129",
       "max": 360,
       "min": -360,
       "style": "IPY_MODEL_1a17ad335a7b479a81d58659c4c678bc",
       "value": 110
      }
     },
     "467f910a730c4d6cbed22720b85af472": {
      "model_module": "@jupyter-widgets/controls",
      "model_module_version": "1.0.0",
      "model_name": "IntSliderModel",
      "state": {
       "description": "x",
       "layout": "IPY_MODEL_1e2b0a8d20b046b2b19d8fce885027c0",
       "min": -100,
       "style": "IPY_MODEL_5e2d2b3dedb841f68b4809b78f3067bb"
      }
     },
     "468d3d24bb9e4c4fa56383ee4b3a3a60": {
      "model_module": "@jupyter-widgets/controls",
      "model_module_version": "1.0.0",
      "model_name": "TabModel",
      "state": {
       "_titles": {
        "0": "Canvas",
        "1": "Snapshot"
       },
       "children": [
        "IPY_MODEL_ff6caf81169d4e109b32f9e2487c79b5",
        "IPY_MODEL_d23452d3277f41808d6c6cfaae3f540e"
       ],
       "layout": "IPY_MODEL_2b1354f3513547d9be7ea5abf77a3936"
      }
     },
     "46c337e9db694ad0b220a53483bc6365": {
      "model_module": "@jupyter-widgets/controls",
      "model_module_version": "1.0.0",
      "model_name": "SliderStyleModel",
      "state": {
       "description_width": ""
      }
     },
     "46cfffbf2dd84d38a01d790f34b90b10": {
      "model_module": "@jupyter-widgets/controls",
      "model_module_version": "1.0.0",
      "model_name": "FloatSliderModel",
      "state": {
       "description": "alpha",
       "layout": "IPY_MODEL_4a71e9c2b321456590da959057378edd",
       "max": 1,
       "step": 0.1,
       "style": "IPY_MODEL_5e87c4a6c0d2406b9793f388914a81aa",
       "value": 1
      }
     },
     "47323002577446458c8e7840f3a5f413": {
      "model_module": "@jupyter-widgets/controls",
      "model_module_version": "1.0.0",
      "model_name": "IntSliderModel",
      "state": {
       "description": "y",
       "layout": "IPY_MODEL_030f09cf81f94695b9101d1acfe7f7a4",
       "min": -100,
       "style": "IPY_MODEL_87ee05369c03491495514468a1f10b27"
      }
     },
     "4735820ddc5747699b67ac8e88b845c4": {
      "model_module": "@jupyter-widgets/controls",
      "model_module_version": "1.0.0",
      "model_name": "IntSliderModel",
      "state": {
       "description": "red",
       "layout": "IPY_MODEL_7cb202cb4d8c432181afd5546536bea2",
       "max": 255,
       "style": "IPY_MODEL_bdcb8c8ea08b4c05a3b3d068bbb3f7c5",
       "value": 255
      }
     },
     "4765360dba43443dac09a2f22574d440": {
      "model_module": "@jupyter-widgets/base",
      "model_module_version": "1.0.0",
      "model_name": "LayoutModel",
      "state": {}
     },
     "4793b046c6e045399cca20c501b3b72c": {
      "model_module": "@jupyter-widgets/controls",
      "model_module_version": "1.0.0",
      "model_name": "IntSliderModel",
      "state": {
       "description": "blue",
       "layout": "IPY_MODEL_d49ced60d57543849fad8b7370f68608",
       "max": 255,
       "style": "IPY_MODEL_1f9fa07d19ea4367b82a541a552a17a9",
       "value": 255
      }
     },
     "47b9f53a7bb8418bb7e23f5f8dc3a9b6": {
      "model_module": "@jupyter-widgets/base",
      "model_module_version": "1.0.0",
      "model_name": "LayoutModel",
      "state": {}
     },
     "47eda62a46664c0e8006899dbb95c783": {
      "model_module": "@jupyter-widgets/controls",
      "model_module_version": "1.0.0",
      "model_name": "DescriptionStyleModel",
      "state": {
       "description_width": ""
      }
     },
     "4816630a5ec44d6784bc30d7a6e81a40": {
      "model_module": "@jupyter-widgets/base",
      "model_module_version": "1.0.0",
      "model_name": "LayoutModel",
      "state": {}
     },
     "482ec0dec1534e4f8ca47ad0b6e7f183": {
      "model_module": "@jupyter-widgets/controls",
      "model_module_version": "1.0.0",
      "model_name": "SliderStyleModel",
      "state": {
       "description_width": ""
      }
     },
     "483b39d0a5f647389e951808d8dab527": {
      "model_module": "@jupyter-widgets/base",
      "model_module_version": "1.0.0",
      "model_name": "LayoutModel",
      "state": {}
     },
     "4862b3cafd2942bb8cd9d20c906b4833": {
      "model_module": "@jupyter-widgets/base",
      "model_module_version": "1.0.0",
      "model_name": "LayoutModel",
      "state": {}
     },
     "4869744500114573bcbf1a60ca30ff55": {
      "model_module": "@jupyter-widgets/base",
      "model_module_version": "1.0.0",
      "model_name": "LayoutModel",
      "state": {}
     },
     "486f6a0face14dd0ba820a1d6a71a84f": {
      "model_module": "@jupyter-widgets/controls",
      "model_module_version": "1.0.0",
      "model_name": "IntSliderModel",
      "state": {
       "description": "red",
       "layout": "IPY_MODEL_cf2d0a68fb95489790103bac5a383118",
       "max": 255,
       "style": "IPY_MODEL_49fef72859674effa1c7f0d089f370da",
       "value": 255
      }
     },
     "4870b8c7de1941a7a4634d842a99ce61": {
      "model_module": "@jupyter-widgets/controls",
      "model_module_version": "1.0.0",
      "model_name": "SliderStyleModel",
      "state": {
       "description_width": ""
      }
     },
     "4896f5319db84497bc8124a80a6a16b3": {
      "model_module": "@jupyter-widgets/base",
      "model_module_version": "1.0.0",
      "model_name": "LayoutModel",
      "state": {}
     },
     "48af8f7a8c244947bfafc0ef05f7b9b6": {
      "model_module": "@jupyter-widgets/controls",
      "model_module_version": "1.0.0",
      "model_name": "SliderStyleModel",
      "state": {
       "description_width": ""
      }
     },
     "48f7f4fd69324bacaeffc487047dbffc": {
      "model_module": "@jupyter-widgets/base",
      "model_module_version": "1.0.0",
      "model_name": "LayoutModel",
      "state": {}
     },
     "48fc0c94c8ef41f488fdf2dd0fca7f59": {
      "model_module": "jp_proxy_widget",
      "model_module_version": "^0.3.4",
      "model_name": "JSProxyModel",
      "state": {
       "_model_module_version": "^0.3.4",
       "_send_counter": 2,
       "_view_module_version": "^0.3.4",
       "error_msg": "No error",
       "layout": "IPY_MODEL_e5198c63df6a4f98ad0c52b2aa2751f6",
       "rendered": true,
       "status": "Got results."
      }
     },
     "48fcb461f33e459bbc3d3f23a651adea": {
      "model_module": "@jupyter-widgets/base",
      "model_module_version": "1.0.0",
      "model_name": "LayoutModel",
      "state": {}
     },
     "48fd1af6dcd54b858b470952f5e20a3f": {
      "model_module": "@jupyter-widgets/controls",
      "model_module_version": "1.0.0",
      "model_name": "SliderStyleModel",
      "state": {
       "description_width": ""
      }
     },
     "490fd7622ece4312a5d26f75ddfb4245": {
      "model_module": "@jupyter-widgets/base",
      "model_module_version": "1.0.0",
      "model_name": "LayoutModel",
      "state": {}
     },
     "4976f286fcd14d76b5fa92eef53be5a5": {
      "model_module": "@jupyter-widgets/base",
      "model_module_version": "1.0.0",
      "model_name": "LayoutModel",
      "state": {}
     },
     "498065b088b64a16a84a6a13d6633ef1": {
      "model_module": "@jupyter-widgets/controls",
      "model_module_version": "1.0.0",
      "model_name": "IntSliderModel",
      "state": {
       "description": "blue",
       "layout": "IPY_MODEL_183b5a391e6e4b2cb51db0197fab2790",
       "max": 255,
       "style": "IPY_MODEL_94757874e4324feaab615dda6d7f01d1",
       "value": 134
      }
     },
     "49c1f1e474924b74885d58d88112bb8a": {
      "model_module": "@jupyter-widgets/base",
      "model_module_version": "1.0.0",
      "model_name": "LayoutModel",
      "state": {}
     },
     "49d7f9f02fcc4e8da263c8969b31e156": {
      "model_module": "@jupyter-widgets/controls",
      "model_module_version": "1.0.0",
      "model_name": "VBoxModel",
      "state": {
       "children": [
        "IPY_MODEL_6e2d821ac383472692841f46384a8def",
        "IPY_MODEL_343b75a7e01e4ceabe7c39260a568fdc"
       ],
       "layout": "IPY_MODEL_f2319f5738ee48b2afb6d92303c7ae04"
      }
     },
     "49f8afd4c65042e2b45e9918a9b2a2e5": {
      "model_module": "@jupyter-widgets/base",
      "model_module_version": "1.0.0",
      "model_name": "LayoutModel",
      "state": {}
     },
     "49f9f96431484d729ee0545a8fa0c400": {
      "model_module": "@jupyter-widgets/base",
      "model_module_version": "1.0.0",
      "model_name": "LayoutModel",
      "state": {}
     },
     "49fbf872b4f14515a8ebfc2bc4440f0a": {
      "model_module": "@jupyter-widgets/controls",
      "model_module_version": "1.0.0",
      "model_name": "IntSliderModel",
      "state": {
       "description": "h",
       "layout": "IPY_MODEL_c1fc481351124e64a4a58f4f929ddf8b",
       "min": -100,
       "style": "IPY_MODEL_a89f8ea5835443bc8de1b6610915682b"
      }
     },
     "49fef72859674effa1c7f0d089f370da": {
      "model_module": "@jupyter-widgets/controls",
      "model_module_version": "1.0.0",
      "model_name": "SliderStyleModel",
      "state": {
       "description_width": ""
      }
     },
     "4a097b14fe1a4cbd8318c47335733245": {
      "model_module": "@jupyter-widgets/controls",
      "model_module_version": "1.0.0",
      "model_name": "TabModel",
      "state": {
       "_titles": {
        "0": "Canvas",
        "1": "Snapshot"
       },
       "children": [
        "IPY_MODEL_9ec6c97fc5f543d9a616fb51e241fc02",
        "IPY_MODEL_acb52ce4c3ad4dfa87a7c361340ffe58"
       ],
       "layout": "IPY_MODEL_5599f3c9698148a697181e3a857360ac"
      }
     },
     "4a0a047496e94e5d87598225cd08f145": {
      "model_module": "@jupyter-widgets/controls",
      "model_module_version": "1.0.0",
      "model_name": "SliderStyleModel",
      "state": {
       "description_width": ""
      }
     },
     "4a344308292f48a5a8f5ef23f5cb35d5": {
      "model_module": "@jupyter-widgets/controls",
      "model_module_version": "1.0.0",
      "model_name": "SliderStyleModel",
      "state": {
       "description_width": ""
      }
     },
     "4a3d1dafe98d447688a7353ac480e895": {
      "model_module": "@jupyter-widgets/controls",
      "model_module_version": "1.0.0",
      "model_name": "DescriptionStyleModel",
      "state": {
       "description_width": ""
      }
     },
     "4a4bc73e1c6644f9838c5d4e9d9e650c": {
      "model_module": "@jupyter-widgets/controls",
      "model_module_version": "1.0.0",
      "model_name": "SliderStyleModel",
      "state": {
       "description_width": ""
      }
     },
     "4a5bb5a2ad0a403b89385b55dd784650": {
      "model_module": "@jupyter-widgets/base",
      "model_module_version": "1.0.0",
      "model_name": "LayoutModel",
      "state": {}
     },
     "4a71e9c2b321456590da959057378edd": {
      "model_module": "@jupyter-widgets/base",
      "model_module_version": "1.0.0",
      "model_name": "LayoutModel",
      "state": {}
     },
     "4aa5f589e1b7478dbf9a0f2260067363": {
      "model_module": "@jupyter-widgets/base",
      "model_module_version": "1.0.0",
      "model_name": "LayoutModel",
      "state": {}
     },
     "4af7c0fca58b4caaa843371a39b17c61": {
      "model_module": "@jupyter-widgets/controls",
      "model_module_version": "1.0.0",
      "model_name": "IntSliderModel",
      "state": {
       "description": "y",
       "layout": "IPY_MODEL_ebe40b8f892f458fbdd7c678e7848a35",
       "min": -100,
       "style": "IPY_MODEL_4d1e4482e0dd4a49965ee5bbc0a45503",
       "value": -31
      }
     },
     "4afc9f6b2965496b8c4aa6f3d4e2a0ac": {
      "model_module": "@jupyter-widgets/controls",
      "model_module_version": "1.0.0",
      "model_name": "IntSliderModel",
      "state": {
       "description": "green",
       "layout": "IPY_MODEL_02ffe96dc5a74646b3504b5fa40947b6",
       "max": 255,
       "style": "IPY_MODEL_592e87ac27974cb9a38ee1222677b585"
      }
     },
     "4b25c59894064cc8ae6544a6d9d773e1": {
      "model_module": "@jupyter-widgets/controls",
      "model_module_version": "1.0.0",
      "model_name": "SliderStyleModel",
      "state": {
       "description_width": ""
      }
     },
     "4b289351962a49d8885434db08b2260b": {
      "model_module": "@jupyter-widgets/base",
      "model_module_version": "1.0.0",
      "model_name": "LayoutModel",
      "state": {}
     },
     "4b90b496c17e48db933de51566ada666": {
      "model_module": "@jupyter-widgets/controls",
      "model_module_version": "1.0.0",
      "model_name": "HTMLModel",
      "state": {
       "layout": "IPY_MODEL_52dd35c21fa147b5ab730c0b62c7c4d4",
       "style": "IPY_MODEL_e5a3b89a6f29427f8fb4de0aab04a10e",
       "value": "<img src=\"interactive_circle.png\" id=\"snapshot_id_3_1536246246688\"/>\n <div id=\"snapshot_id_4_1536246246688\">interactive_circle.png</div>"
      }
     },
     "4b9a3d349d11466598208f0b66361fbd": {
      "model_module": "@jupyter-widgets/controls",
      "model_module_version": "1.0.0",
      "model_name": "SliderStyleModel",
      "state": {
       "description_width": ""
      }
     },
     "4b9bf59b0cb94d8991418a5e7ea8035a": {
      "model_module": "@jupyter-widgets/base",
      "model_module_version": "1.0.0",
      "model_name": "LayoutModel",
      "state": {}
     },
     "4bb4e556d3f74f52987e5ce2a471cdf4": {
      "model_module": "jp_proxy_widget",
      "model_module_version": "^0.3.4",
      "model_name": "JSProxyModel",
      "state": {
       "_model_module_version": "^0.3.4",
       "_send_counter": 2,
       "_view_module_version": "^0.3.4",
       "error_msg": "No error",
       "layout": "IPY_MODEL_24547a73d5b3471a984e1667a2d2ac82",
       "rendered": true,
       "status": "Got results."
      }
     },
     "4bb6004152364a59ab2caae61cc9cdc1": {
      "model_module": "@jupyter-widgets/controls",
      "model_module_version": "1.0.0",
      "model_name": "SliderStyleModel",
      "state": {
       "description_width": ""
      }
     },
     "4bc77836274047259dd6a53fc61a70f4": {
      "model_module": "@jupyter-widgets/controls",
      "model_module_version": "1.0.0",
      "model_name": "SliderStyleModel",
      "state": {
       "description_width": ""
      }
     },
     "4bfc39b7ad2b4dd2b03437294ae8a494": {
      "model_module": "jp_proxy_widget",
      "model_module_version": "^0.3.4",
      "model_name": "JSProxyModel",
      "state": {
       "_model_module_version": "^0.3.4",
       "_send_counter": 2,
       "_view_module_version": "^0.3.4",
       "error_msg": "No error",
       "layout": "IPY_MODEL_11effc9b4d684044bac4a61fa0eacaa7",
       "rendered": true,
       "status": "Got results."
      }
     },
     "4c48691f515c41d6b5f8c569a5708577": {
      "model_module": "@jupyter-widgets/controls",
      "model_module_version": "1.0.0",
      "model_name": "SliderStyleModel",
      "state": {
       "description_width": ""
      }
     },
     "4c4b1efc357a4fe19395518a49997ebb": {
      "model_module": "@jupyter-widgets/base",
      "model_module_version": "1.0.0",
      "model_name": "LayoutModel",
      "state": {}
     },
     "4c7b83a3e80741779596afa730e65ebc": {
      "model_module": "@jupyter-widgets/base",
      "model_module_version": "1.0.0",
      "model_name": "LayoutModel",
      "state": {}
     },
     "4c7e707786cb4c3dab46f3d0b8236e11": {
      "model_module": "@jupyter-widgets/controls",
      "model_module_version": "1.0.0",
      "model_name": "IntSliderModel",
      "state": {
       "description": "w",
       "layout": "IPY_MODEL_3810ae9521ad4feb9e41a2d0618526fd",
       "max": 300,
       "min": -300,
       "style": "IPY_MODEL_e85deeb3c32847b4a3e673804bbc61c6",
       "value": 10
      }
     },
     "4c809ac4793846b89d40a84782f7efde": {
      "model_module": "@jupyter-widgets/controls",
      "model_module_version": "1.0.0",
      "model_name": "IntSliderModel",
      "state": {
       "description": "blue",
       "layout": "IPY_MODEL_aa4bd49b733944568e690541d93119a1",
       "max": 255,
       "style": "IPY_MODEL_fd8923b361584ce9818b2443c511e6e6",
       "value": 255
      }
     },
     "4ced25d8025447b6a1bdc6d08ee778e4": {
      "model_module": "@jupyter-widgets/controls",
      "model_module_version": "1.0.0",
      "model_name": "IntSliderModel",
      "state": {
       "description": "green",
       "layout": "IPY_MODEL_a5f69e78401948b983d55ffeef11322c",
       "max": 255,
       "style": "IPY_MODEL_0ffacdeea28a4d518cd9b36addba4e47"
      }
     },
     "4cfed11be5bd48028bd6eeaa7b3ee27e": {
      "model_module": "@jupyter-widgets/base",
      "model_module_version": "1.0.0",
      "model_name": "LayoutModel",
      "state": {}
     },
     "4d042f76f4df40ad8c667b1a782e8044": {
      "model_module": "@jupyter-widgets/controls",
      "model_module_version": "1.0.0",
      "model_name": "TabModel",
      "state": {
       "_titles": {
        "0": "Canvas",
        "1": "Snapshot"
       },
       "children": [
        "IPY_MODEL_06de8db91b384e5c84a4a00f09dea284",
        "IPY_MODEL_b5eddec2ca0c4b31ac0cda37aa3079e6"
       ],
       "layout": "IPY_MODEL_bcd7658b1f0d4753866a786f7acd1b2e"
      }
     },
     "4d0d47a8cbf0435b9821330f7380181f": {
      "model_module": "@jupyter-widgets/base",
      "model_module_version": "1.0.0",
      "model_name": "LayoutModel",
      "state": {}
     },
     "4d1767f16ed54db48ec90fbeb63e1456": {
      "model_module": "@jupyter-widgets/base",
      "model_module_version": "1.0.0",
      "model_name": "LayoutModel",
      "state": {}
     },
     "4d1e4482e0dd4a49965ee5bbc0a45503": {
      "model_module": "@jupyter-widgets/controls",
      "model_module_version": "1.0.0",
      "model_name": "SliderStyleModel",
      "state": {
       "description_width": ""
      }
     },
     "4d3a2259cd6049dfbf4cfde90d435461": {
      "model_module": "@jupyter-widgets/base",
      "model_module_version": "1.0.0",
      "model_name": "LayoutModel",
      "state": {}
     },
     "4d4ac664337d4753b134a32a3a5ee48b": {
      "model_module": "@jupyter-widgets/controls",
      "model_module_version": "1.0.0",
      "model_name": "CheckboxModel",
      "state": {
       "description": "fill",
       "disabled": false,
       "layout": "IPY_MODEL_ae32ebc2ccce45afbd02a02f5d085753",
       "style": "IPY_MODEL_91790091169740d28c8f183230e49cb9",
       "value": true
      }
     },
     "4d57ca66b9894897b8fe3d03c2c3460a": {
      "model_module": "@jupyter-widgets/controls",
      "model_module_version": "1.0.0",
      "model_name": "SliderStyleModel",
      "state": {
       "description_width": ""
      }
     },
     "4d7974b698f245e3b784f70761d959b8": {
      "model_module": "@jupyter-widgets/controls",
      "model_module_version": "1.0.0",
      "model_name": "IntSliderModel",
      "state": {
       "description": "blue",
       "layout": "IPY_MODEL_efa3bf782e794925a837c6159dd72847",
       "max": 255,
       "style": "IPY_MODEL_9f1f46c72a2e4d4ea894c49f2bb9e296",
       "value": 127
      }
     },
     "4d7dc592861040e481743ab21b7ca11e": {
      "model_module": "@jupyter-widgets/controls",
      "model_module_version": "1.0.0",
      "model_name": "VBoxModel",
      "state": {
       "children": [
        "IPY_MODEL_3ae80e42edc6492e9dc7fc09b1a1afb5",
        "IPY_MODEL_a06483f5d06e44038966140dbcfbed70"
       ],
       "layout": "IPY_MODEL_4aa5f589e1b7478dbf9a0f2260067363"
      }
     },
     "4dbe75d5e0874cc380e9c6180e6838fa": {
      "model_module": "@jupyter-widgets/base",
      "model_module_version": "1.0.0",
      "model_name": "LayoutModel",
      "state": {}
     },
     "4dcdff024e914b58bb6b3468c4aa6ecb": {
      "model_module": "@jupyter-widgets/controls",
      "model_module_version": "1.0.0",
      "model_name": "TabModel",
      "state": {
       "_titles": {
        "0": "Canvas",
        "1": "Snapshot"
       },
       "children": [
        "IPY_MODEL_cf0f29811c1e4fe19a4da520a384bdb9",
        "IPY_MODEL_a0ce0e78cf2c45199ae9cc506964736f"
       ],
       "layout": "IPY_MODEL_0549ad3832a14c5eae86228413ea42ae"
      }
     },
     "4df9c4d1831d4dceb9ba1589c520bbde": {
      "model_module": "@jupyter-widgets/controls",
      "model_module_version": "1.0.0",
      "model_name": "SliderStyleModel",
      "state": {
       "description_width": ""
      }
     },
     "4e1d1a8733fc4cdbb4495a74bc300bd7": {
      "model_module": "@jupyter-widgets/controls",
      "model_module_version": "1.0.0",
      "model_name": "SliderStyleModel",
      "state": {
       "description_width": ""
      }
     },
     "4e474971b7ee444eadc96a53044a7388": {
      "model_module": "@jupyter-widgets/base",
      "model_module_version": "1.0.0",
      "model_name": "LayoutModel",
      "state": {}
     },
     "4e72ba28cb424d8c83de3ca85bf1b7a4": {
      "model_module": "@jupyter-widgets/controls",
      "model_module_version": "1.0.0",
      "model_name": "SliderStyleModel",
      "state": {
       "description_width": ""
      }
     },
     "4e85ca2ee6ce4dd8b293e0b42f3b4f56": {
      "model_module": "@jupyter-widgets/controls",
      "model_module_version": "1.0.0",
      "model_name": "SliderStyleModel",
      "state": {
       "description_width": ""
      }
     },
     "4ea7cc0b3a494b209389574b14f990f4": {
      "model_module": "@jupyter-widgets/base",
      "model_module_version": "1.0.0",
      "model_name": "LayoutModel",
      "state": {}
     },
     "4ef993eb67774642bd48a4c780196768": {
      "model_module": "@jupyter-widgets/base",
      "model_module_version": "1.0.0",
      "model_name": "LayoutModel",
      "state": {}
     },
     "4f2ffd7b17e549be9b31a12f0b3e86e2": {
      "model_module": "@jupyter-widgets/controls",
      "model_module_version": "1.0.0",
      "model_name": "CheckboxModel",
      "state": {
       "description": "fill",
       "disabled": false,
       "layout": "IPY_MODEL_8cd3a0b0613942978ef8ec0c8f78cc0c",
       "style": "IPY_MODEL_fe75751d16454078b012b8d4221cefab",
       "value": false
      }
     },
     "4f565a911a9d4516830921431c93047c": {
      "model_module": "@jupyter-widgets/controls",
      "model_module_version": "1.0.0",
      "model_name": "TabModel",
      "state": {
       "_titles": {
        "0": "Canvas",
        "1": "Snapshot"
       },
       "children": [
        "IPY_MODEL_dacc8e2de66f42b1a951d7d349d8f964",
        "IPY_MODEL_6a4a3ea9f2ed4c459fc988cd0e49afc8"
       ],
       "layout": "IPY_MODEL_a0129f3993dd4f65be64fd528c915087",
       "selected_index": 1
      }
     },
     "4f58712fcb3a4da788d882aa5a65d701": {
      "model_module": "@jupyter-widgets/base",
      "model_module_version": "1.0.0",
      "model_name": "LayoutModel",
      "state": {}
     },
     "4f591cb4b09d4d50a07e5de3a6c0ce13": {
      "model_module": "@jupyter-widgets/controls",
      "model_module_version": "1.0.0",
      "model_name": "VBoxModel",
      "state": {
       "children": [
        "IPY_MODEL_8e89decbe5734facba4b2723f3c118c0",
        "IPY_MODEL_b07e62c6c07d4814860ba92a0e58c38a"
       ],
       "layout": "IPY_MODEL_b23dbdcd7e59490e83482dd67ada8a81"
      }
     },
     "4f6224acd4be445786a9d4dae41bbb5a": {
      "model_module": "@jupyter-widgets/controls",
      "model_module_version": "1.0.0",
      "model_name": "SliderStyleModel",
      "state": {
       "description_width": ""
      }
     },
     "4f67d023507b402ba18c542e953f8890": {
      "model_module": "@jupyter-widgets/base",
      "model_module_version": "1.0.0",
      "model_name": "LayoutModel",
      "state": {}
     },
     "4f6ad3ad878d4109b669c27889752e15": {
      "model_module": "@jupyter-widgets/base",
      "model_module_version": "1.0.0",
      "model_name": "LayoutModel",
      "state": {}
     },
     "4f7b2ecb3a2b4fd59ca3e1e006c40469": {
      "model_module": "jp_proxy_widget",
      "model_module_version": "^0.3.4",
      "model_name": "JSProxyModel",
      "state": {
       "_model_module_version": "^0.3.4",
       "_send_counter": 2,
       "_view_module_version": "^0.3.4",
       "error_msg": "No error",
       "layout": "IPY_MODEL_c627df3f2b5044d08254aba41f4aaa2a",
       "rendered": true,
       "status": "Got results."
      }
     },
     "4f95c3887cf847779cfdc721203b7ac7": {
      "model_module": "@jupyter-widgets/base",
      "model_module_version": "1.0.0",
      "model_name": "LayoutModel",
      "state": {}
     },
     "4fcabb2ea9944429a4d817eb777e7be1": {
      "model_module": "@jupyter-widgets/base",
      "model_module_version": "1.0.0",
      "model_name": "LayoutModel",
      "state": {}
     },
     "4fd3845a627b42dc8e304b676aa98450": {
      "model_module": "@jupyter-widgets/controls",
      "model_module_version": "1.0.0",
      "model_name": "SliderStyleModel",
      "state": {
       "description_width": ""
      }
     },
     "5027fd4f925642d9b412dd5309ce1860": {
      "model_module": "@jupyter-widgets/base",
      "model_module_version": "1.0.0",
      "model_name": "LayoutModel",
      "state": {}
     },
     "50c5d544ea8e410db372b947bd6c544c": {
      "model_module": "@jupyter-widgets/base",
      "model_module_version": "1.0.0",
      "model_name": "LayoutModel",
      "state": {}
     },
     "50e2a8da7d5c4f42922499191d78f4d0": {
      "model_module": "@jupyter-widgets/base",
      "model_module_version": "1.0.0",
      "model_name": "LayoutModel",
      "state": {}
     },
     "51576a43a95741149709993e95da046d": {
      "model_module": "@jupyter-widgets/controls",
      "model_module_version": "1.0.0",
      "model_name": "IntSliderModel",
      "state": {
       "description": "y2",
       "layout": "IPY_MODEL_044dcd88e28142e894c2503d60f882f9",
       "min": -100,
       "style": "IPY_MODEL_be968a4dbcb14ebaa6847380486f61c6",
       "value": 50
      }
     },
     "516c6731a9214bec998c47864ddf63f6": {
      "model_module": "@jupyter-widgets/controls",
      "model_module_version": "1.0.0",
      "model_name": "TabModel",
      "state": {
       "_titles": {
        "0": "Canvas",
        "1": "Snapshot"
       },
       "children": [
        "IPY_MODEL_9e3dad2f1ffe4789bdf8778a5651aad7",
        "IPY_MODEL_f5c4a9348e0f4ec38cd7c819fae3aa71"
       ],
       "layout": "IPY_MODEL_aca9c5619da7495fab991c1214b4643a",
       "selected_index": 1
      }
     },
     "5174be3a9b0f44c487de94babccdf304": {
      "model_module": "@jupyter-widgets/controls",
      "model_module_version": "1.0.0",
      "model_name": "SliderStyleModel",
      "state": {
       "description_width": ""
      }
     },
     "5198649c3e604221a3fd1195ec348f38": {
      "model_module": "@jupyter-widgets/base",
      "model_module_version": "1.0.0",
      "model_name": "LayoutModel",
      "state": {}
     },
     "5199766345004bd1b8235ba248de015b": {
      "model_module": "jp_proxy_widget",
      "model_module_version": "^0.3.4",
      "model_name": "JSProxyModel",
      "state": {
       "_model_module_version": "^0.3.4",
       "_send_counter": 298,
       "_view_module_version": "^0.3.4",
       "error_msg": "No error",
       "layout": "IPY_MODEL_daa81e61b74947cc818a446fd80ed6ea",
       "rendered": true,
       "status": "Got results."
      }
     },
     "51a73dfa73cc4b13ae008e8867d871a3": {
      "model_module": "@jupyter-widgets/base",
      "model_module_version": "1.0.0",
      "model_name": "LayoutModel",
      "state": {}
     },
     "51a810326ae54838a6065c3631ad5bd3": {
      "model_module": "@jupyter-widgets/base",
      "model_module_version": "1.0.0",
      "model_name": "LayoutModel",
      "state": {}
     },
     "51e61da5c3f94f8f8472316bc4157c7b": {
      "model_module": "@jupyter-widgets/controls",
      "model_module_version": "1.0.0",
      "model_name": "SliderStyleModel",
      "state": {
       "description_width": ""
      }
     },
     "5219df53f7754cf7898e5c910facc49d": {
      "model_module": "@jupyter-widgets/controls",
      "model_module_version": "1.0.0",
      "model_name": "IntSliderModel",
      "state": {
       "description": "lineWidth",
       "layout": "IPY_MODEL_3f924d1212e94c4c98ebeff020b030f9",
       "max": 20,
       "style": "IPY_MODEL_41c6d7289a09447cae94c2eee94c6d89",
       "value": 7
      }
     },
     "524faaaf1bda4c4f9ac25d8a84ffbd62": {
      "model_module": "@jupyter-widgets/controls",
      "model_module_version": "1.0.0",
      "model_name": "SliderStyleModel",
      "state": {
       "description_width": ""
      }
     },
     "525bb4ec0d4445d692687c165d517fd6": {
      "model_module": "@jupyter-widgets/controls",
      "model_module_version": "1.0.0",
      "model_name": "DescriptionStyleModel",
      "state": {
       "description_width": ""
      }
     },
     "52629508090d47fcb7b2be2b4a594e3d": {
      "model_module": "jp_proxy_widget",
      "model_module_version": "^0.3.4",
      "model_name": "JSProxyModel",
      "state": {
       "_model_module_version": "^0.3.4",
       "_send_counter": 623,
       "_view_module_version": "^0.3.4",
       "error_msg": "No error",
       "layout": "IPY_MODEL_f2477f9b611448a2a57f7b3770d3ed55",
       "rendered": true,
       "status": "Got results."
      }
     },
     "526a27a2f7ad41c79312d9d48632750f": {
      "model_module": "@jupyter-widgets/controls",
      "model_module_version": "1.0.0",
      "model_name": "SliderStyleModel",
      "state": {
       "description_width": ""
      }
     },
     "527ed0c55c454b6e97440e8dd21fdb62": {
      "model_module": "@jupyter-widgets/controls",
      "model_module_version": "1.0.0",
      "model_name": "IntSliderModel",
      "state": {
       "description": "red",
       "layout": "IPY_MODEL_182e9477e458404da88ce6eb901786e4",
       "max": 255,
       "style": "IPY_MODEL_4a0a047496e94e5d87598225cd08f145",
       "value": 255
      }
     },
     "52a361e1c0af487c81897171b415279f": {
      "model_module": "@jupyter-widgets/controls",
      "model_module_version": "1.0.0",
      "model_name": "IntSliderModel",
      "state": {
       "description": "blue",
       "layout": "IPY_MODEL_93bda981be4a4b5c9ee1eb0cb30a27a3",
       "max": 255,
       "style": "IPY_MODEL_c2fcc600132e4b099cdcb5280ff2d0d7",
       "value": 255
      }
     },
     "52b7ca20f33b4a7392693f8fa90ef028": {
      "model_module": "@jupyter-widgets/base",
      "model_module_version": "1.0.0",
      "model_name": "LayoutModel",
      "state": {}
     },
     "52dd35c21fa147b5ab730c0b62c7c4d4": {
      "model_module": "@jupyter-widgets/base",
      "model_module_version": "1.0.0",
      "model_name": "LayoutModel",
      "state": {}
     },
     "52fb248847984e71a74b0de5cc2274a0": {
      "model_module": "@jupyter-widgets/controls",
      "model_module_version": "1.0.0",
      "model_name": "HTMLModel",
      "state": {
       "layout": "IPY_MODEL_075a08c4b40b4fb08c3c09feb464c993",
       "style": "IPY_MODEL_ee0d1bebee2c4617b38b941ce5046f46",
       "value": "<img src=\"interactive_rectangle.png\" id=\"snapshot_id_1_1536267072642\"/>\n <div id=\"snapshot_id_2_1536267072642\">interactive_rectangle.png</div>"
      }
     },
     "5300c2c95e8d4e2a83415581c598f82d": {
      "model_module": "@jupyter-widgets/controls",
      "model_module_version": "1.0.0",
      "model_name": "SliderStyleModel",
      "state": {
       "description_width": ""
      }
     },
     "530477f1c0fb47b7a36031836ced98ed": {
      "model_module": "@jupyter-widgets/controls",
      "model_module_version": "1.0.0",
      "model_name": "FloatSliderModel",
      "state": {
       "description": "alpha",
       "layout": "IPY_MODEL_3ec8030449244fe4aae93cc02895dfe9",
       "max": 1,
       "step": 0.1,
       "style": "IPY_MODEL_84776cacdb0c4316bf3eb07e8892d6d0",
       "value": 1
      }
     },
     "531ae58512f94b9998d8ed8759418349": {
      "model_module": "@jupyter-widgets/base",
      "model_module_version": "1.0.0",
      "model_name": "LayoutModel",
      "state": {}
     },
     "53486bd127fd45ae945f73df6e1153bf": {
      "model_module": "@jupyter-widgets/controls",
      "model_module_version": "1.0.0",
      "model_name": "IntSliderModel",
      "state": {
       "description": "green",
       "layout": "IPY_MODEL_6087dac426db4dbfab40b51f5b37985d",
       "max": 255,
       "style": "IPY_MODEL_37684bb7566c45bcac399dc568899113",
       "value": 127
      }
     },
     "53ca6aa02bf241bbbdad97a8fd1358ee": {
      "model_module": "@jupyter-widgets/controls",
      "model_module_version": "1.0.0",
      "model_name": "IntSliderModel",
      "state": {
       "description": "blue",
       "layout": "IPY_MODEL_253caeaf32d743d08625923e6429970a",
       "max": 255,
       "style": "IPY_MODEL_cf4162e7f0d34b7f9796226a57216c5b",
       "value": 255
      }
     },
     "53cd1dd2905b44ee9982f6164d4e3852": {
      "model_module": "@jupyter-widgets/controls",
      "model_module_version": "1.0.0",
      "model_name": "IntSliderModel",
      "state": {
       "description": "r",
       "layout": "IPY_MODEL_29b67f2c596b4499a78ef084a1fb1a9f",
       "style": "IPY_MODEL_8515f031c10a4329ab9ad88eb373fb8a",
       "value": 50
      }
     },
     "53d35cf702314fa6acd433984401cb05": {
      "model_module": "@jupyter-widgets/controls",
      "model_module_version": "1.0.0",
      "model_name": "SliderStyleModel",
      "state": {
       "description_width": ""
      }
     },
     "53da87cb2dee42eead1b7d4856b99815": {
      "model_module": "@jupyter-widgets/base",
      "model_module_version": "1.0.0",
      "model_name": "LayoutModel",
      "state": {}
     },
     "542e491ac39140828b2c8147565330df": {
      "model_module": "@jupyter-widgets/controls",
      "model_module_version": "1.0.0",
      "model_name": "TabModel",
      "state": {
       "_titles": {
        "0": "Canvas",
        "1": "Snapshot"
       },
       "children": [
        "IPY_MODEL_6296a7f088444181a50cb700bea90c66",
        "IPY_MODEL_4b90b496c17e48db933de51566ada666"
       ],
       "layout": "IPY_MODEL_1deb3f53ba704c21a8990d4c59f978f8"
      }
     },
     "548681b9419845498ce0b180b6f43dd2": {
      "model_module": "jp_proxy_widget",
      "model_module_version": "^0.3.4",
      "model_name": "JSProxyModel",
      "state": {
       "_model_module_version": "^0.3.4",
       "_send_counter": 851,
       "_view_module_version": "^0.3.4",
       "error_msg": "No error",
       "layout": "IPY_MODEL_43335df01ac143f5bd7efb6415e22c52",
       "rendered": true,
       "status": "Got results."
      }
     },
     "548c4b2d07df456f98cfa8e9e4041b15": {
      "model_module": "@jupyter-widgets/controls",
      "model_module_version": "1.0.0",
      "model_name": "IntSliderModel",
      "state": {
       "description": "green",
       "layout": "IPY_MODEL_6576e9d653f2429c8715cf6b178e5123",
       "max": 255,
       "style": "IPY_MODEL_73e5fb468e134a7c868d006d7d7f16b4",
       "value": 153
      }
     },
     "54af61ffcfe54dea9157cd638550ee34": {
      "model_module": "@jupyter-widgets/base",
      "model_module_version": "1.0.0",
      "model_name": "LayoutModel",
      "state": {}
     },
     "550204628bc449f384f28260bf092cc5": {
      "model_module": "@jupyter-widgets/controls",
      "model_module_version": "1.0.0",
      "model_name": "SliderStyleModel",
      "state": {
       "description_width": ""
      }
     },
     "5504c9b68256430d808135c0f542b41a": {
      "model_module": "@jupyter-widgets/controls",
      "model_module_version": "1.0.0",
      "model_name": "IntSliderModel",
      "state": {
       "description": "x",
       "layout": "IPY_MODEL_1c328b16b21a4814998eca9f69ff66bd",
       "min": -100,
       "style": "IPY_MODEL_a5db2d8b419a47b08f8dfca13524deec",
       "value": 26
      }
     },
     "550a6dacc3ce40c2b07a6891de9e866c": {
      "model_module": "@jupyter-widgets/controls",
      "model_module_version": "1.0.0",
      "model_name": "VBoxModel",
      "state": {
       "_dom_classes": [
        "widget-interact"
       ],
       "children": [
        "IPY_MODEL_f5e705c30fec4d3488ac3fec21ddaeb1",
        "IPY_MODEL_f2c5e3d7dc7647ee96d68f93cd678e5c",
        "IPY_MODEL_95ea660bf80940b1861c35dd8b29b0e3",
        "IPY_MODEL_b32814a3909546348d771146e2cc04a5",
        "IPY_MODEL_07cea71eb023485c9026b8bfedc33150",
        "IPY_MODEL_58f80e5ce64c45409874b29bff43175c",
        "IPY_MODEL_ea99362f266a4e77a7f42eb24a6c7d11",
        "IPY_MODEL_3abd04a8adb0482296dc8eeb01405aa2",
        "IPY_MODEL_962fd963b8a34b459690737165e2682b",
        "IPY_MODEL_16892d5ba53447568a8748308e7bbad8",
        "IPY_MODEL_7895d0318ecf4cc49eba0188682100b7",
        "IPY_MODEL_bd03f2dc0e314aee9395e440a86b480c"
       ],
       "layout": "IPY_MODEL_9e9a47a314ac40818e6a2ff7c16ae1aa"
      }
     },
     "550f920564e34228a7d10ffdd31b298a": {
      "model_module": "@jupyter-widgets/base",
      "model_module_version": "1.0.0",
      "model_name": "LayoutModel",
      "state": {}
     },
     "5510dbc5f0c84b28a86559758cee8202": {
      "model_module": "jp_proxy_widget",
      "model_module_version": "^0.3.4",
      "model_name": "JSProxyModel",
      "state": {
       "_model_module_version": "^0.3.4",
       "_send_counter": 8,
       "_view_module_version": "^0.3.4",
       "error_msg": "No error",
       "layout": "IPY_MODEL_29428aa375d24224bf45cee58e9908e4",
       "rendered": true,
       "status": "Not yet rendered"
      }
     },
     "55392b438df34f41831796518c710a1e": {
      "model_module": "@jupyter-widgets/base",
      "model_module_version": "1.0.0",
      "model_name": "LayoutModel",
      "state": {}
     },
     "555b24f7f2fe400f84f5b81a6fe875ca": {
      "model_module": "@jupyter-widgets/base",
      "model_module_version": "1.0.0",
      "model_name": "LayoutModel",
      "state": {}
     },
     "556d9d566c4b4d099d582c7fe7b21600": {
      "model_module": "@jupyter-widgets/base",
      "model_module_version": "1.0.0",
      "model_name": "LayoutModel",
      "state": {}
     },
     "55707e2fec594331943f86f94481d04c": {
      "model_module": "@jupyter-widgets/controls",
      "model_module_version": "1.0.0",
      "model_name": "HTMLModel",
      "state": {
       "layout": "IPY_MODEL_7680fba223bd4cd4a608ed09f41b67c2",
       "style": "IPY_MODEL_d47b00a7a00e42aaa213ec57c4ffd28a",
       "value": "<img src=\"interactive_line.png\" id=\"snapshot_id_1_1536844110104\"/>\n <div id=\"snapshot_id_2_1536844110104\">interactive_line.png</div>"
      }
     },
     "5599e776f2724d9ab8f78bd96c428b37": {
      "model_module": "@jupyter-widgets/controls",
      "model_module_version": "1.0.0",
      "model_name": "TabModel",
      "state": {
       "_titles": {
        "0": "Canvas",
        "1": "Snapshot"
       },
       "children": [
        "IPY_MODEL_ebe0e9d793bf4d9f92d49eea28cee00a",
        "IPY_MODEL_55707e2fec594331943f86f94481d04c"
       ],
       "layout": "IPY_MODEL_15dabf416aaa432387bad9c237018c3d",
       "selected_index": 1
      }
     },
     "5599f3c9698148a697181e3a857360ac": {
      "model_module": "@jupyter-widgets/base",
      "model_module_version": "1.0.0",
      "model_name": "LayoutModel",
      "state": {}
     },
     "55b26cd4ddb34215ae2f5f8e2a8ca7cb": {
      "model_module": "@jupyter-widgets/controls",
      "model_module_version": "1.0.0",
      "model_name": "HTMLModel",
      "state": {
       "layout": "IPY_MODEL_7e33c3c5c64f492da0732863c8f73828",
       "style": "IPY_MODEL_17489415cbdb4179a12fab805f035bf7",
       "value": "<img src=\"interactive_rectangle2.png\" id=\"snapshot_id_47_1536323892397\"/>\n <div id=\"snapshot_id_48_1536323892397\">interactive_rectangle2.png</div>"
      }
     },
     "55bc4d95cabc4e34b7cac4a2022ffebd": {
      "model_module": "jp_proxy_widget",
      "model_module_version": "^0.3.4",
      "model_name": "JSProxyModel",
      "state": {
       "_model_module_version": "^0.3.4",
       "_send_counter": 2,
       "_view_module_version": "^0.3.4",
       "error_msg": "No error",
       "layout": "IPY_MODEL_f04436ac82524dd18481cc34e6bc6989",
       "rendered": true,
       "status": "Got results."
      }
     },
     "55cef9dbc9314fb497d6d53b9550330d": {
      "model_module": "@jupyter-widgets/base",
      "model_module_version": "1.0.0",
      "model_name": "LayoutModel",
      "state": {}
     },
     "55fc557529ef4c9c90646b30a44967b1": {
      "model_module": "@jupyter-widgets/controls",
      "model_module_version": "1.0.0",
      "model_name": "IntSliderModel",
      "state": {
       "description": "h",
       "layout": "IPY_MODEL_957e1290120847d1bc378baa282e7176",
       "max": 300,
       "min": -300,
       "style": "IPY_MODEL_ed2ad9ae2cef4910b766bfe6b423e5c2",
       "value": 50
      }
     },
     "561abff454a34724b5dd4d16fed9ab61": {
      "model_module": "@jupyter-widgets/base",
      "model_module_version": "1.0.0",
      "model_name": "LayoutModel",
      "state": {}
     },
     "5620930d4d4242ee843c5d1dc830101d": {
      "model_module": "@jupyter-widgets/controls",
      "model_module_version": "1.0.0",
      "model_name": "IntSliderModel",
      "state": {
       "description": "red",
       "layout": "IPY_MODEL_9734a48831d9400bb5680062428c9bf3",
       "max": 255,
       "style": "IPY_MODEL_e8586e4267b249ef910b844b1d99e3d5",
       "value": 255
      }
     },
     "564320759de54b449c13694c5679bde0": {
      "model_module": "@jupyter-widgets/controls",
      "model_module_version": "1.0.0",
      "model_name": "SliderStyleModel",
      "state": {
       "description_width": ""
      }
     },
     "56617b2f5f1b4ee2a05400e1398ff924": {
      "model_module": "@jupyter-widgets/controls",
      "model_module_version": "1.0.0",
      "model_name": "SliderStyleModel",
      "state": {
       "description_width": ""
      }
     },
     "56d79001880a4f9191e1017062b27cf3": {
      "model_module": "@jupyter-widgets/base",
      "model_module_version": "1.0.0",
      "model_name": "LayoutModel",
      "state": {}
     },
     "56fb0298bbcc4a06a21c9ee43666dcfc": {
      "model_module": "@jupyter-widgets/controls",
      "model_module_version": "1.0.0",
      "model_name": "SliderStyleModel",
      "state": {
       "description_width": ""
      }
     },
     "5731f9f3dadf4b07b25917e7bca255b6": {
      "model_module": "@jupyter-widgets/controls",
      "model_module_version": "1.0.0",
      "model_name": "IntSliderModel",
      "state": {
       "description": "red",
       "layout": "IPY_MODEL_11c5f59ec26b4c4da592ae8e89b38d47",
       "max": 255,
       "style": "IPY_MODEL_3b9f01bcdb4347a9938e7b1a24c95ad5",
       "value": 255
      }
     },
     "5734e56916404e8194e539e957682582": {
      "model_module": "@jupyter-widgets/base",
      "model_module_version": "1.0.0",
      "model_name": "LayoutModel",
      "state": {}
     },
     "57379ef972a042bbbae4d66672bbbf49": {
      "model_module": "@jupyter-widgets/controls",
      "model_module_version": "1.0.0",
      "model_name": "FloatSliderModel",
      "state": {
       "description": "alpha",
       "layout": "IPY_MODEL_31055da1faf849179e57bac70925eb6e",
       "max": 1,
       "step": 0.1,
       "style": "IPY_MODEL_01635c761dc347cc8e40ffd3d802a919",
       "value": 1
      }
     },
     "575d18eb29ed4d328263cf88d4443f12": {
      "model_module": "@jupyter-widgets/controls",
      "model_module_version": "1.0.0",
      "model_name": "IntSliderModel",
      "state": {
       "description": "dy",
       "layout": "IPY_MODEL_43da1a340ef740c6a2e3e035f9573200",
       "min": -100,
       "style": "IPY_MODEL_5b0d76106fda4f3c8a569a3a085c2534",
       "value": -25
      }
     },
     "5772e9302cf446c89dd02be81cf3bef3": {
      "model_module": "@jupyter-widgets/base",
      "model_module_version": "1.0.0",
      "model_name": "LayoutModel",
      "state": {}
     },
     "577aedbb1d904c649c733aecd58d83db": {
      "model_module": "@jupyter-widgets/controls",
      "model_module_version": "1.0.0",
      "model_name": "SliderStyleModel",
      "state": {
       "description_width": ""
      }
     },
     "579a2f8c3c314b3cb0ba47f3746dfd7e": {
      "model_module": "@jupyter-widgets/base",
      "model_module_version": "1.0.0",
      "model_name": "LayoutModel",
      "state": {}
     },
     "57d0523b00c04f79a784a983c12c2cee": {
      "model_module": "@jupyter-widgets/base",
      "model_module_version": "1.0.0",
      "model_name": "LayoutModel",
      "state": {}
     },
     "57fcb6511a72439ba54b7a1835ce9373": {
      "model_module": "@jupyter-widgets/controls",
      "model_module_version": "1.0.0",
      "model_name": "IntSliderModel",
      "state": {
       "description": "dx",
       "layout": "IPY_MODEL_b38c81cbff524c1d8eccbec8ba83f52a",
       "min": -100,
       "style": "IPY_MODEL_3112e381369e40eab9b3f2cfbcc48fcb",
       "value": -30
      }
     },
     "5802f977a96a4cb0868143dd08549481": {
      "model_module": "@jupyter-widgets/controls",
      "model_module_version": "1.0.0",
      "model_name": "IntSliderModel",
      "state": {
       "description": "x",
       "layout": "IPY_MODEL_f847ca4b5c34462e8e7336c76c01c97b",
       "min": -100,
       "style": "IPY_MODEL_4870b8c7de1941a7a4634d842a99ce61",
       "value": -23
      }
     },
     "58132c2268c547e78418fcdb2993164a": {
      "model_module": "@jupyter-widgets/base",
      "model_module_version": "1.0.0",
      "model_name": "LayoutModel",
      "state": {}
     },
     "5814e6229cce45fc9b5bb6063b7caec8": {
      "model_module": "@jupyter-widgets/base",
      "model_module_version": "1.0.0",
      "model_name": "LayoutModel",
      "state": {}
     },
     "58265be954484c2380cfce0cc4b69ef4": {
      "model_module": "@jupyter-widgets/controls",
      "model_module_version": "1.0.0",
      "model_name": "SliderStyleModel",
      "state": {
       "description_width": ""
      }
     },
     "5855e1b67eda454d844c08db1e2517e6": {
      "model_module": "@jupyter-widgets/base",
      "model_module_version": "1.0.0",
      "model_name": "LayoutModel",
      "state": {}
     },
     "58e2098f4a824f44a4fca48b2d2f7765": {
      "model_module": "@jupyter-widgets/base",
      "model_module_version": "1.0.0",
      "model_name": "LayoutModel",
      "state": {}
     },
     "58f80e5ce64c45409874b29bff43175c": {
      "model_module": "@jupyter-widgets/controls",
      "model_module_version": "1.0.0",
      "model_name": "CheckboxModel",
      "state": {
       "description": "fill",
       "disabled": false,
       "layout": "IPY_MODEL_143b40abd0c74a17ad2101fc0641b2b3",
       "style": "IPY_MODEL_ead796fc3a1d4c3d8adb40e912cec8f2",
       "value": false
      }
     },
     "592e87ac27974cb9a38ee1222677b585": {
      "model_module": "@jupyter-widgets/controls",
      "model_module_version": "1.0.0",
      "model_name": "SliderStyleModel",
      "state": {
       "description_width": ""
      }
     },
     "5933621444114d4ab5a994f0ded88e3f": {
      "model_module": "@jupyter-widgets/controls",
      "model_module_version": "1.0.0",
      "model_name": "DescriptionStyleModel",
      "state": {
       "description_width": ""
      }
     },
     "5956e81c07a44f5098ab7f63476b1f7e": {
      "model_module": "@jupyter-widgets/controls",
      "model_module_version": "1.0.0",
      "model_name": "DescriptionStyleModel",
      "state": {
       "description_width": ""
      }
     },
     "59846e888ea2498287aff5e4b78ba4fe": {
      "model_module": "@jupyter-widgets/controls",
      "model_module_version": "1.0.0",
      "model_name": "SliderStyleModel",
      "state": {
       "description_width": ""
      }
     },
     "59fed05fbec546849a66b9f6c87f0070": {
      "model_module": "@jupyter-widgets/controls",
      "model_module_version": "1.0.0",
      "model_name": "SliderStyleModel",
      "state": {
       "description_width": ""
      }
     },
     "5a099e350c7a4ce5b1acf3961d49a60c": {
      "model_module": "@jupyter-widgets/controls",
      "model_module_version": "1.0.0",
      "model_name": "FloatSliderModel",
      "state": {
       "description": "arc",
       "layout": "IPY_MODEL_4392b306158b4b6bb331aea9b210afe8",
       "max": 6.283185307179586,
       "step": 0.1,
       "style": "IPY_MODEL_7934e4b314d04c60a45959b29c2a3350",
       "value": 6.2
      }
     },
     "5a37f347672e48bd8f2a78eaaaf41828": {
      "model_module": "@jupyter-widgets/controls",
      "model_module_version": "1.0.0",
      "model_name": "DescriptionStyleModel",
      "state": {
       "description_width": ""
      }
     },
     "5a3b78b492ae4dcdb14c792d743025ac": {
      "model_module": "@jupyter-widgets/base",
      "model_module_version": "1.0.0",
      "model_name": "LayoutModel",
      "state": {}
     },
     "5a5b7a2cbb11488a8c43156a6c50f757": {
      "model_module": "@jupyter-widgets/base",
      "model_module_version": "1.0.0",
      "model_name": "LayoutModel",
      "state": {}
     },
     "5a7cb5e3b848420ba4698be1bd7d78ec": {
      "model_module": "@jupyter-widgets/base",
      "model_module_version": "1.0.0",
      "model_name": "LayoutModel",
      "state": {}
     },
     "5a7e8eb1300749dda22c3f637d791ba6": {
      "model_module": "@jupyter-widgets/controls",
      "model_module_version": "1.0.0",
      "model_name": "SliderStyleModel",
      "state": {
       "description_width": ""
      }
     },
     "5a85a914431f4a858d985f2fc999a4fe": {
      "model_module": "@jupyter-widgets/controls",
      "model_module_version": "1.0.0",
      "model_name": "IntSliderModel",
      "state": {
       "description": "blue",
       "layout": "IPY_MODEL_3c312d48f827487bb5615bb3681d9f75",
       "max": 255,
       "style": "IPY_MODEL_13d3fe13e99b498dbd1e027865445c76",
       "value": 255
      }
     },
     "5a8d6f46a8084d5e92434335feabb89c": {
      "model_module": "@jupyter-widgets/controls",
      "model_module_version": "1.0.0",
      "model_name": "IntSliderModel",
      "state": {
       "description": "x",
       "layout": "IPY_MODEL_19b4ed31efd644f989464e0e904b27fb",
       "min": -100,
       "style": "IPY_MODEL_2e34cd67022644ac94e51be481464a52"
      }
     },
     "5a95b45ed81b4302a25366e8363eb67b": {
      "model_module": "@jupyter-widgets/controls",
      "model_module_version": "1.0.0",
      "model_name": "TabModel",
      "state": {
       "_titles": {
        "0": "Canvas",
        "1": "Snapshot"
       },
       "children": [
        "IPY_MODEL_0c9b20fa6f0342f89eede01647a3e169",
        "IPY_MODEL_095662c712264a84874ace2ee25f9b12"
       ],
       "layout": "IPY_MODEL_f7bd49fe65e045bdb3d5332f42390d7d"
      }
     },
     "5a9dae84f4cf42cfb6dfae572f1ab26b": {
      "model_module": "@jupyter-widgets/controls",
      "model_module_version": "1.0.0",
      "model_name": "SliderStyleModel",
      "state": {
       "description_width": ""
      }
     },
     "5ae202ab10df4fb1bf68f12c56ac06f3": {
      "model_module": "@jupyter-widgets/base",
      "model_module_version": "1.0.0",
      "model_name": "LayoutModel",
      "state": {}
     },
     "5b041f78229d452f978c6a226f89bb2c": {
      "model_module": "@jupyter-widgets/controls",
      "model_module_version": "1.0.0",
      "model_name": "IntSliderModel",
      "state": {
       "description": "r",
       "layout": "IPY_MODEL_c051e60ad16e4262b6ba4ae9b9828076",
       "style": "IPY_MODEL_577aedbb1d904c649c733aecd58d83db",
       "value": 50
      }
     },
     "5b0d6f2548b146dfa66642d69a365f77": {
      "model_module": "@jupyter-widgets/controls",
      "model_module_version": "1.0.0",
      "model_name": "SliderStyleModel",
      "state": {
       "description_width": ""
      }
     },
     "5b0d76106fda4f3c8a569a3a085c2534": {
      "model_module": "@jupyter-widgets/controls",
      "model_module_version": "1.0.0",
      "model_name": "SliderStyleModel",
      "state": {
       "description_width": ""
      }
     },
     "5b2ab2261872491fae0606f5a486bc74": {
      "model_module": "@jupyter-widgets/controls",
      "model_module_version": "1.0.0",
      "model_name": "IntSliderModel",
      "state": {
       "description": "lineWidth",
       "layout": "IPY_MODEL_e18626c761a34850b9e34f1b6818b9ae",
       "max": 20,
       "style": "IPY_MODEL_6ea8e3c6b0974b47958541b17601c079",
       "value": 3
      }
     },
     "5b33747b426b477f9a60bfd1128a65fd": {
      "model_module": "@jupyter-widgets/controls",
      "model_module_version": "1.0.0",
      "model_name": "SliderStyleModel",
      "state": {
       "description_width": ""
      }
     },
     "5b34794fac084797b4f378f9e12a34a3": {
      "model_module": "@jupyter-widgets/base",
      "model_module_version": "1.0.0",
      "model_name": "LayoutModel",
      "state": {}
     },
     "5b3fd46a23b04c3b8784d83d2ef292ac": {
      "model_module": "@jupyter-widgets/controls",
      "model_module_version": "1.0.0",
      "model_name": "FloatSliderModel",
      "state": {
       "description": "start",
       "layout": "IPY_MODEL_42ac1e9ba8d44f048a605cb200f0714d",
       "max": 6.283185307179586,
       "step": 0.1,
       "style": "IPY_MODEL_64325dbcb24f47be93ed8a9c8d3463f2",
       "value": 1.2
      }
     },
     "5b43c0e559dc4732a6848c99389f9ce0": {
      "model_module": "@jupyter-widgets/controls",
      "model_module_version": "1.0.0",
      "model_name": "HTMLModel",
      "state": {
       "layout": "IPY_MODEL_cea452d7705f434f95dbffe362646d71",
       "style": "IPY_MODEL_a4878b73067548d78b014d7d1c282b7a",
       "value": "<img src=\"interactive_rectangle.png\" id=\"snapshot_id_37_1536323684655\"/>\n <div id=\"snapshot_id_38_1536323684655\">interactive_rectangle.png</div>"
      }
     },
     "5b4ad0fa516a4d9684f1698b9c338b9d": {
      "model_module": "@jupyter-widgets/controls",
      "model_module_version": "1.0.0",
      "model_name": "DescriptionStyleModel",
      "state": {
       "description_width": ""
      }
     },
     "5b685f19286e444ab77d775980f2afec": {
      "model_module": "@jupyter-widgets/base",
      "model_module_version": "1.0.0",
      "model_name": "LayoutModel",
      "state": {}
     },
     "5b877241ffe94a1f824204f242725880": {
      "model_module": "@jupyter-widgets/controls",
      "model_module_version": "1.0.0",
      "model_name": "SliderStyleModel",
      "state": {
       "description_width": ""
      }
     },
     "5b8e952740c744e5b88b23014164a2e6": {
      "model_module": "@jupyter-widgets/controls",
      "model_module_version": "1.0.0",
      "model_name": "SliderStyleModel",
      "state": {
       "description_width": ""
      }
     },
     "5b930436d2ec46a4bacd2d556fcd400f": {
      "model_module": "@jupyter-widgets/controls",
      "model_module_version": "1.0.0",
      "model_name": "SliderStyleModel",
      "state": {
       "description_width": ""
      }
     },
     "5bc86fe162074d7e9b337fe205a9f53c": {
      "model_module": "@jupyter-widgets/base",
      "model_module_version": "1.0.0",
      "model_name": "LayoutModel",
      "state": {}
     },
     "5bd59eb981634666817c32ff405d8373": {
      "model_module": "@jupyter-widgets/base",
      "model_module_version": "1.0.0",
      "model_name": "LayoutModel",
      "state": {}
     },
     "5bd6716f40d64b51a3fa4d9d6eb20b93": {
      "model_module": "@jupyter-widgets/controls",
      "model_module_version": "1.0.0",
      "model_name": "IntSliderModel",
      "state": {
       "description": "degrees",
       "layout": "IPY_MODEL_6a4ba9b461b640d9b0b8281e6303fa31",
       "max": 360,
       "min": -360,
       "style": "IPY_MODEL_d3361b9f65724648ae68d6f30878cf24",
       "value": 95
      }
     },
     "5be64bc9a28c4098989690d44ea350ac": {
      "model_module": "@jupyter-widgets/base",
      "model_module_version": "1.0.0",
      "model_name": "LayoutModel",
      "state": {}
     },
     "5c3df0a644564f3abfa2d309fbd6c0cf": {
      "model_module": "@jupyter-widgets/controls",
      "model_module_version": "1.0.0",
      "model_name": "IntSliderModel",
      "state": {
       "description": "w",
       "layout": "IPY_MODEL_d8e2262e5a4c4ebfbab4e4e351031511",
       "max": 300,
       "min": -300,
       "style": "IPY_MODEL_092491e84d704b03a093ac4070a52555",
       "value": 10
      }
     },
     "5c4393d40f2040c2bc5af343689e425e": {
      "model_module": "@jupyter-widgets/base",
      "model_module_version": "1.0.0",
      "model_name": "LayoutModel",
      "state": {}
     },
     "5c668aa23f9145d3afd5cab13193b2ba": {
      "model_module": "@jupyter-widgets/output",
      "model_module_version": "1.0.0",
      "model_name": "OutputModel",
      "state": {
       "layout": "IPY_MODEL_da9169aa4f7e4d1e8cc2679672d489c1"
      }
     },
     "5c80e166e06a4cc9a8fbac324adbb7ac": {
      "model_module": "@jupyter-widgets/output",
      "model_module_version": "1.0.0",
      "model_name": "OutputModel",
      "state": {
       "layout": "IPY_MODEL_0471fb02c3b1445cb643143b3131ff0e"
      }
     },
     "5ca3f726dcba4713a8f372a5c8bce38d": {
      "model_module": "@jupyter-widgets/base",
      "model_module_version": "1.0.0",
      "model_name": "LayoutModel",
      "state": {}
     },
     "5cae9cd0839d460f8c9c083ef5787246": {
      "model_module": "jp_proxy_widget",
      "model_module_version": "^0.3.4",
      "model_name": "JSProxyModel",
      "state": {
       "_model_module_version": "^0.3.4",
       "_send_counter": 2,
       "_view_module_version": "^0.3.4",
       "error_msg": "No error",
       "layout": "IPY_MODEL_278761cef79a4074836119b8b0222f88",
       "rendered": true,
       "status": "Got results."
      }
     },
     "5caef0a5004e4315a212fb9303d9ab20": {
      "model_module": "@jupyter-widgets/base",
      "model_module_version": "1.0.0",
      "model_name": "LayoutModel",
      "state": {}
     },
     "5cb98d4bc39e494a8f6a7e03e1ac6871": {
      "model_module": "@jupyter-widgets/controls",
      "model_module_version": "1.0.0",
      "model_name": "SliderStyleModel",
      "state": {
       "description_width": ""
      }
     },
     "5cc75a57db0a4c9288e887c6bb1ee24a": {
      "model_module": "@jupyter-widgets/base",
      "model_module_version": "1.0.0",
      "model_name": "LayoutModel",
      "state": {}
     },
     "5ce051275ef54c379c8c113ad2438a21": {
      "model_module": "@jupyter-widgets/base",
      "model_module_version": "1.0.0",
      "model_name": "LayoutModel",
      "state": {}
     },
     "5cf3cac98ec2425d8288506ecd9be9d5": {
      "model_module": "@jupyter-widgets/controls",
      "model_module_version": "1.0.0",
      "model_name": "SliderStyleModel",
      "state": {
       "description_width": ""
      }
     },
     "5d69ed3ff2f74b48a32ccf4497d84cd5": {
      "model_module": "@jupyter-widgets/base",
      "model_module_version": "1.0.0",
      "model_name": "LayoutModel",
      "state": {}
     },
     "5ddae8e746174b0e8a3d522910ca6ec2": {
      "model_module": "@jupyter-widgets/controls",
      "model_module_version": "1.0.0",
      "model_name": "IntSliderModel",
      "state": {
       "description": "w",
       "layout": "IPY_MODEL_dd5c42b76ef6466e95373b52b53a0654",
       "max": 300,
       "min": -300,
       "style": "IPY_MODEL_293d1cecc11c4e92b515026e1832008a",
       "value": 60
      }
     },
     "5deb7680091c4c6b82dce909f8223c13": {
      "model_module": "@jupyter-widgets/base",
      "model_module_version": "1.0.0",
      "model_name": "LayoutModel",
      "state": {}
     },
     "5dffa2baa6f1413b999e413091b424c9": {
      "model_module": "@jupyter-widgets/base",
      "model_module_version": "1.0.0",
      "model_name": "LayoutModel",
      "state": {}
     },
     "5e2b968defc0470fbfa8d7c89bdddd99": {
      "model_module": "@jupyter-widgets/controls",
      "model_module_version": "1.0.0",
      "model_name": "TabModel",
      "state": {
       "_titles": {
        "0": "Canvas",
        "1": "Snapshot"
       },
       "children": [
        "IPY_MODEL_95d9c5df64524a6cb45ef36ad039f7d2",
        "IPY_MODEL_52fb248847984e71a74b0de5cc2274a0"
       ],
       "layout": "IPY_MODEL_a2014374aa78441ab489babe6bf459df"
      }
     },
     "5e2d2b3dedb841f68b4809b78f3067bb": {
      "model_module": "@jupyter-widgets/controls",
      "model_module_version": "1.0.0",
      "model_name": "SliderStyleModel",
      "state": {
       "description_width": ""
      }
     },
     "5e31210eb5f0429ea58f29f49e88fa10": {
      "model_module": "@jupyter-widgets/base",
      "model_module_version": "1.0.0",
      "model_name": "LayoutModel",
      "state": {}
     },
     "5e31e23242f54e538493ed95103f0559": {
      "model_module": "@jupyter-widgets/base",
      "model_module_version": "1.0.0",
      "model_name": "LayoutModel",
      "state": {}
     },
     "5e67ccf3abd54a20b7d68c9219c50c53": {
      "model_module": "@jupyter-widgets/controls",
      "model_module_version": "1.0.0",
      "model_name": "SliderStyleModel",
      "state": {
       "description_width": ""
      }
     },
     "5e87c4a6c0d2406b9793f388914a81aa": {
      "model_module": "@jupyter-widgets/controls",
      "model_module_version": "1.0.0",
      "model_name": "SliderStyleModel",
      "state": {
       "description_width": ""
      }
     },
     "5e8de4973518427095d773ea3eaa2419": {
      "model_module": "@jupyter-widgets/controls",
      "model_module_version": "1.0.0",
      "model_name": "SliderStyleModel",
      "state": {
       "description_width": ""
      }
     },
     "5ebe0764df31438b9fbd275a98af4562": {
      "model_module": "@jupyter-widgets/base",
      "model_module_version": "1.0.0",
      "model_name": "LayoutModel",
      "state": {}
     },
     "5f23aa8eb35946b4afd3317b9c342d13": {
      "model_module": "@jupyter-widgets/controls",
      "model_module_version": "1.0.0",
      "model_name": "FloatSliderModel",
      "state": {
       "description": "alpha",
       "layout": "IPY_MODEL_807e39d5b37542359a5f272bdbd05715",
       "max": 1,
       "step": 0.1,
       "style": "IPY_MODEL_d1650c137f8443c7a95fc490533752eb",
       "value": 1
      }
     },
     "5f37afd8cd284f9e9ac5f200c87dcf80": {
      "model_module": "@jupyter-widgets/base",
      "model_module_version": "1.0.0",
      "model_name": "LayoutModel",
      "state": {}
     },
     "5f605a3c0bf94dd7b50caaa65efc0ffa": {
      "model_module": "@jupyter-widgets/controls",
      "model_module_version": "1.0.0",
      "model_name": "FloatSliderModel",
      "state": {
       "description": "alpha",
       "layout": "IPY_MODEL_24527cb028fc4366a60ff6d4e3deb435",
       "max": 1,
       "step": 0.1,
       "style": "IPY_MODEL_5b930436d2ec46a4bacd2d556fcd400f",
       "value": 0.5
      }
     },
     "5f71c0e3f729442e9cdf7bdf989171e4": {
      "model_module": "@jupyter-widgets/base",
      "model_module_version": "1.0.0",
      "model_name": "LayoutModel",
      "state": {}
     },
     "5f7284fceea0493e953211c6dad98176": {
      "model_module": "@jupyter-widgets/controls",
      "model_module_version": "1.0.0",
      "model_name": "SliderStyleModel",
      "state": {
       "description_width": ""
      }
     },
     "5f919fb8c9894913a10fa9b09b222291": {
      "model_module": "@jupyter-widgets/base",
      "model_module_version": "1.0.0",
      "model_name": "LayoutModel",
      "state": {}
     },
     "5fd66191b18246f8ace0c8f2d90afa26": {
      "model_module": "@jupyter-widgets/controls",
      "model_module_version": "1.0.0",
      "model_name": "IntSliderModel",
      "state": {
       "description": "red",
       "layout": "IPY_MODEL_b0c9a842d4af4dda9c0362edb30fdd31",
       "max": 255,
       "style": "IPY_MODEL_8f049360ac2e4f72bd1d86054e5c7d7c",
       "value": 127
      }
     },
     "5fdc71e79e244e9ba11069045976f111": {
      "model_module": "@jupyter-widgets/controls",
      "model_module_version": "1.0.0",
      "model_name": "IntSliderModel",
      "state": {
       "description": "blue",
       "layout": "IPY_MODEL_f36a8890b4a644d58fbd821584a36883",
       "max": 255,
       "style": "IPY_MODEL_d795fc1c655a4c2983521394b5ed6597",
       "value": 255
      }
     },
     "60089789060445b09495f2a73886d7fa": {
      "model_module": "@jupyter-widgets/base",
      "model_module_version": "1.0.0",
      "model_name": "LayoutModel",
      "state": {}
     },
     "6013faeeb3f54e0c92e71fa3dd152aa4": {
      "model_module": "@jupyter-widgets/controls",
      "model_module_version": "1.0.0",
      "model_name": "HTMLModel",
      "state": {
       "layout": "IPY_MODEL_663526034e0a4bca85bbdcac8ba872b7",
       "style": "IPY_MODEL_e08df3d34c844af6ad6882c76d7c9cfd",
       "value": "<img src=\"interactive_circle.png\" id=\"snapshot_id_5_1536246292173\"/>\n <div id=\"snapshot_id_6_1536246292173\">interactive_circle.png</div>"
      }
     },
     "605e482b5da1423fb1480bb9340df729": {
      "model_module": "@jupyter-widgets/base",
      "model_module_version": "1.0.0",
      "model_name": "LayoutModel",
      "state": {}
     },
     "606a3d3081df41feba38cf18d7bb14fb": {
      "model_module": "@jupyter-widgets/controls",
      "model_module_version": "1.0.0",
      "model_name": "SliderStyleModel",
      "state": {
       "description_width": ""
      }
     },
     "60711ad324264ea1bbf7a9d4cbc89030": {
      "model_module": "@jupyter-widgets/controls",
      "model_module_version": "1.0.0",
      "model_name": "SliderStyleModel",
      "state": {
       "description_width": ""
      }
     },
     "6071918863be40938710b88abcde2ba4": {
      "model_module": "@jupyter-widgets/base",
      "model_module_version": "1.0.0",
      "model_name": "LayoutModel",
      "state": {}
     },
     "6087dac426db4dbfab40b51f5b37985d": {
      "model_module": "@jupyter-widgets/base",
      "model_module_version": "1.0.0",
      "model_name": "LayoutModel",
      "state": {}
     },
     "609b7d1a01c140be85df54eaa6f812c6": {
      "model_module": "@jupyter-widgets/controls",
      "model_module_version": "1.0.0",
      "model_name": "IntSliderModel",
      "state": {
       "description": "blue",
       "layout": "IPY_MODEL_73074169b87449eab2881cdc1c2dc5f8",
       "max": 255,
       "style": "IPY_MODEL_21debb73a2f64c4cac30d3480ba7e5a2",
       "value": 255
      }
     },
     "60a5d955acca47bb9652e168976d267e": {
      "model_module": "@jupyter-widgets/base",
      "model_module_version": "1.0.0",
      "model_name": "LayoutModel",
      "state": {}
     },
     "60b5b862ab7e4d7aaa8ce24191ab6e24": {
      "model_module": "jp_proxy_widget",
      "model_module_version": "^0.3.4",
      "model_name": "JSProxyModel",
      "state": {
       "_model_module_version": "^0.3.4",
       "_send_counter": 1093,
       "_view_module_version": "^0.3.4",
       "error_msg": "Error: bad offsets",
       "layout": "IPY_MODEL_0a0bfbafe787495bab6bda6af80167e2",
       "rendered": true,
       "status": "Got results."
      }
     },
     "60bff4c4fcf64842bda7b423cb94ccef": {
      "model_module": "@jupyter-widgets/controls",
      "model_module_version": "1.0.0",
      "model_name": "IntSliderModel",
      "state": {
       "description": "green",
       "layout": "IPY_MODEL_d0f6f3d928fa4f888942f18c296d30be",
       "max": 255,
       "style": "IPY_MODEL_f8b5be5520cc475caa13e85856d1cb5d"
      }
     },
     "60d1a15b07c54779bd30e5c26d2f0529": {
      "model_module": "@jupyter-widgets/base",
      "model_module_version": "1.0.0",
      "model_name": "LayoutModel",
      "state": {}
     },
     "60ed7062a70346a09229b1ddc629aeab": {
      "model_module": "@jupyter-widgets/controls",
      "model_module_version": "1.0.0",
      "model_name": "VBoxModel",
      "state": {
       "_dom_classes": [
        "widget-interact"
       ],
       "children": [
        "IPY_MODEL_caaeac4ce9754a619d66477a6ed902e9",
        "IPY_MODEL_6738d0336ebf44b29b1582928b866f84",
        "IPY_MODEL_907293990c2344b1a81dbe1185a981b4",
        "IPY_MODEL_5731f9f3dadf4b07b25917e7bca255b6",
        "IPY_MODEL_3a3797311afe4614813177f03d4c72ac",
        "IPY_MODEL_19567e63837e48fa8acc7fe59f47ac91",
        "IPY_MODEL_8cccb48a9ff3463fba96100c4e6260b2",
        "IPY_MODEL_5c80e166e06a4cc9a8fbac324adbb7ac"
       ],
       "layout": "IPY_MODEL_c5b2a34cb7294d459365381e3e13c8e6"
      }
     },
     "60ef360ce7a4489885f5dcae69fe552a": {
      "model_module": "@jupyter-widgets/controls",
      "model_module_version": "1.0.0",
      "model_name": "VBoxModel",
      "state": {
       "_dom_classes": [
        "widget-interact"
       ],
       "children": [
        "IPY_MODEL_8e77f275c91243c49e72272961292920",
        "IPY_MODEL_398c92001708431d9af9cceff4f8795a",
        "IPY_MODEL_cfaa57bb07974d7f9d9b2da3fbed7125",
        "IPY_MODEL_259a0d5baf5648449649a1169a23969c",
        "IPY_MODEL_344eed1f2d2441e1866ef88666e9f62b",
        "IPY_MODEL_336e0d5cbd424918b6574828dceb6bc1",
        "IPY_MODEL_e39bd63376d643db8de9dd24a3faf4de",
        "IPY_MODEL_09d217c780954a4094b36369a8145622",
        "IPY_MODEL_1e6e80219ae84015be81c89573c84417",
        "IPY_MODEL_527ed0c55c454b6e97440e8dd21fdb62",
        "IPY_MODEL_ddef74b9d21243599d42482f82df84cb",
        "IPY_MODEL_ec84328d9d4141a4b49c2b681136235a",
        "IPY_MODEL_fc8d68c23cf44f31824d99928cb1941c",
        "IPY_MODEL_798539f121e44a62bf3e83b1816cd28d"
       ],
       "layout": "IPY_MODEL_ccee99ed2c864003af64da5c63af3dd7"
      }
     },
     "6106db625c77487f802601fc0fa34672": {
      "model_module": "jp_proxy_widget",
      "model_module_version": "^0.3.4",
      "model_name": "JSProxyModel",
      "state": {
       "_model_module_version": "^0.3.4",
       "_send_counter": 2,
       "_view_module_version": "^0.3.4",
       "error_msg": "No error",
       "layout": "IPY_MODEL_1871e7ca025a4c5a9fe91a67a607418c",
       "rendered": true,
       "status": "Got results."
      }
     },
     "610a72af0a99458382e6fe05819694fc": {
      "model_module": "@jupyter-widgets/base",
      "model_module_version": "1.0.0",
      "model_name": "LayoutModel",
      "state": {}
     },
     "614fcffc8f4c44b9b526a00215b15911": {
      "model_module": "@jupyter-widgets/controls",
      "model_module_version": "1.0.0",
      "model_name": "TabModel",
      "state": {
       "_titles": {
        "0": "Canvas",
        "1": "Snapshot"
       },
       "children": [
        "IPY_MODEL_88c822b822ac456c8c9a541824b95360",
        "IPY_MODEL_068449d6e84d47ba93bee86a28fc050c"
       ],
       "layout": "IPY_MODEL_c3852c9ce898496996a7c217a28f91c2"
      }
     },
     "616b37d972d6467990b7304b8dff1830": {
      "model_module": "@jupyter-widgets/controls",
      "model_module_version": "1.0.0",
      "model_name": "IntSliderModel",
      "state": {
       "description": "dx",
       "layout": "IPY_MODEL_792e019f2ba742f1b26acacb985ef347",
       "min": -100,
       "style": "IPY_MODEL_29bcfc628b4a4af4ae21a2c8aaec0205"
      }
     },
     "619cee7a7141452a96b54b06e86fa0cf": {
      "model_module": "@jupyter-widgets/controls",
      "model_module_version": "1.0.0",
      "model_name": "IntSliderModel",
      "state": {
       "description": "degrees",
       "layout": "IPY_MODEL_0ca84b16e0db4d94b1ca67cfca0f5392",
       "max": 360,
       "min": -360,
       "style": "IPY_MODEL_6a7b1f7cdbd64634b5ae2f7a5feb6c04"
      }
     },
     "61ca7862a5f44ae099da9334ffa49491": {
      "model_module": "@jupyter-widgets/controls",
      "model_module_version": "1.0.0",
      "model_name": "SliderStyleModel",
      "state": {
       "description_width": ""
      }
     },
     "61cd665651c045da97a39f18e32b8b97": {
      "model_module": "@jupyter-widgets/base",
      "model_module_version": "1.0.0",
      "model_name": "LayoutModel",
      "state": {}
     },
     "620399a59a8742cf8e465d3d09b6f85c": {
      "model_module": "@jupyter-widgets/controls",
      "model_module_version": "1.0.0",
      "model_name": "SliderStyleModel",
      "state": {
       "description_width": ""
      }
     },
     "622748a04be14af8ad5e9c829c0264b6": {
      "model_module": "@jupyter-widgets/base",
      "model_module_version": "1.0.0",
      "model_name": "LayoutModel",
      "state": {}
     },
     "623248918cdd493eaf760c9327f0c033": {
      "model_module": "@jupyter-widgets/controls",
      "model_module_version": "1.0.0",
      "model_name": "SliderStyleModel",
      "state": {
       "description_width": ""
      }
     },
     "62343e7b586e46e882aa91386486be97": {
      "model_module": "@jupyter-widgets/base",
      "model_module_version": "1.0.0",
      "model_name": "LayoutModel",
      "state": {}
     },
     "624148a33dc441bf98147da31d887c9c": {
      "model_module": "@jupyter-widgets/controls",
      "model_module_version": "1.0.0",
      "model_name": "HTMLModel",
      "state": {
       "layout": "IPY_MODEL_5a5b7a2cbb11488a8c43156a6c50f757",
       "style": "IPY_MODEL_308983ee82314e1bbb51b95c49c485b0",
       "value": "<img src=\"interactive_rectangle.png\" id=\"snapshot_id_31_1536268833008\"/>\n <div id=\"snapshot_id_32_1536268833008\">interactive_rectangle.png</div>"
      }
     },
     "625371eb8f884c039c175f8679b460da": {
      "model_module": "@jupyter-widgets/base",
      "model_module_version": "1.0.0",
      "model_name": "LayoutModel",
      "state": {}
     },
     "625966697a1141b28f05c109867134e7": {
      "model_module": "@jupyter-widgets/controls",
      "model_module_version": "1.0.0",
      "model_name": "VBoxModel",
      "state": {
       "_dom_classes": [
        "widget-interact"
       ],
       "children": [
        "IPY_MODEL_9749d64303884380a8ba5b7e805f1f8c",
        "IPY_MODEL_c94108fed8b94ec986c4f5efca66d8db",
        "IPY_MODEL_c36448c0afdc4b62ad8aab3841015e5f",
        "IPY_MODEL_63ccc048b2494e598e3315472f0a492b",
        "IPY_MODEL_de10f80fee2d4343aa67a300996fe8c8",
        "IPY_MODEL_6c2b33eb9cf94246b596523e217346c4",
        "IPY_MODEL_c04582c3823e45b7ba5b049db3e068d1",
        "IPY_MODEL_eb712f6e5a7240ecb3b25dbdbcbf3ad2"
       ],
       "layout": "IPY_MODEL_55cef9dbc9314fb497d6d53b9550330d"
      }
     },
     "6296a7f088444181a50cb700bea90c66": {
      "model_module": "@jupyter-widgets/controls",
      "model_module_version": "1.0.0",
      "model_name": "VBoxModel",
      "state": {
       "children": [
        "IPY_MODEL_da1ebfdf11064cc9863ace7d1f976301",
        "IPY_MODEL_48fc0c94c8ef41f488fdf2dd0fca7f59"
       ],
       "layout": "IPY_MODEL_6642b2d6e5a64d84a56634ba14b993ec"
      }
     },
     "629f742cfe2049d5b6bfaae51f0f723f": {
      "model_module": "@jupyter-widgets/controls",
      "model_module_version": "1.0.0",
      "model_name": "SliderStyleModel",
      "state": {
       "description_width": ""
      }
     },
     "62f45c2122e54b0597d3e325911b5d6b": {
      "model_module": "@jupyter-widgets/base",
      "model_module_version": "1.0.0",
      "model_name": "LayoutModel",
      "state": {}
     },
     "631067298f494156957a5bcc44fd1655": {
      "model_module": "@jupyter-widgets/controls",
      "model_module_version": "1.0.0",
      "model_name": "TabModel",
      "state": {
       "_titles": {
        "0": "Canvas",
        "1": "Snapshot"
       },
       "children": [
        "IPY_MODEL_e1217eb7b54c4c8b8666a9df40497021",
        "IPY_MODEL_5b43c0e559dc4732a6848c99389f9ce0"
       ],
       "layout": "IPY_MODEL_2fe98e560b484079961d3fe8bcc2534f"
      }
     },
     "6360675e71464d4397d2db1b861e399a": {
      "model_module": "@jupyter-widgets/controls",
      "model_module_version": "1.0.0",
      "model_name": "SliderStyleModel",
      "state": {
       "description_width": ""
      }
     },
     "636486f7fe7c44dea4277b35dd6c5909": {
      "model_module": "@jupyter-widgets/controls",
      "model_module_version": "1.0.0",
      "model_name": "IntSliderModel",
      "state": {
       "description": "red",
       "layout": "IPY_MODEL_6c0912c308e246499a574ab437eafc37",
       "max": 255,
       "style": "IPY_MODEL_0094cf76d10c4797877c2acdb1b9b395",
       "value": 127
      }
     },
     "636f6b1c623942b9988c52e27b5a994b": {
      "model_module": "@jupyter-widgets/base",
      "model_module_version": "1.0.0",
      "model_name": "LayoutModel",
      "state": {}
     },
     "63ccc048b2494e598e3315472f0a492b": {
      "model_module": "@jupyter-widgets/controls",
      "model_module_version": "1.0.0",
      "model_name": "IntSliderModel",
      "state": {
       "description": "red",
       "layout": "IPY_MODEL_7d5476f8bf6b4f0992bbff89a775de6c",
       "max": 255,
       "style": "IPY_MODEL_267d05ac300a4e71a7f705e0e60043c8",
       "value": 127
      }
     },
     "63f9a81969744b96bc5120f4bdf75b74": {
      "model_module": "@jupyter-widgets/controls",
      "model_module_version": "1.0.0",
      "model_name": "DescriptionStyleModel",
      "state": {
       "description_width": ""
      }
     },
     "64221c31e8db4368bb08104bb5a81691": {
      "model_module": "@jupyter-widgets/base",
      "model_module_version": "1.0.0",
      "model_name": "LayoutModel",
      "state": {}
     },
     "64325dbcb24f47be93ed8a9c8d3463f2": {
      "model_module": "@jupyter-widgets/controls",
      "model_module_version": "1.0.0",
      "model_name": "SliderStyleModel",
      "state": {
       "description_width": ""
      }
     },
     "643fa04535794284a15064c64b0efdbf": {
      "model_module": "@jupyter-widgets/controls",
      "model_module_version": "1.0.0",
      "model_name": "VBoxModel",
      "state": {
       "_dom_classes": [
        "widget-interact"
       ],
       "children": [
        "IPY_MODEL_9b9335297b50426b9b901209993c9e21",
        "IPY_MODEL_f94a1d8ee72c4461a9daa6d2b1c47d4d",
        "IPY_MODEL_f2b005c5ec8e4a0dbd3f0ac4f4c70453",
        "IPY_MODEL_8667c675b4af4b1997d35b2cfea2ffb7",
        "IPY_MODEL_c31ce3a94d1d48efbed34766ca24d555",
        "IPY_MODEL_a06c830d554141e0860dfb052a95a5b6",
        "IPY_MODEL_1ef7ded2723e4eacaec2d8393eae381f",
        "IPY_MODEL_4793b046c6e045399cca20c501b3b72c",
        "IPY_MODEL_9aefb093b05d42afadf49335814e15b9",
        "IPY_MODEL_229848c89a1d478a8a8b3417d58431ea"
       ],
       "layout": "IPY_MODEL_73d60ee0f77c4947bb197a00a8827b55"
      }
     },
     "645127a3289045d98b16205088beb533": {
      "model_module": "jp_proxy_widget",
      "model_module_version": "^0.3.4",
      "model_name": "JSProxyModel",
      "state": {
       "_model_module_version": "^0.3.4",
       "_send_counter": 2,
       "_view_module_version": "^0.3.4",
       "error_msg": "No error",
       "layout": "IPY_MODEL_c93de285d2c343a0bba8a56cbfc7cf3b",
       "rendered": true,
       "status": "Got results."
      }
     },
     "6459704f4554452dbb9101578413a0e6": {
      "model_module": "@jupyter-widgets/controls",
      "model_module_version": "1.0.0",
      "model_name": "SliderStyleModel",
      "state": {
       "description_width": ""
      }
     },
     "6459b4b20ac540d4bb9a44b15138e938": {
      "model_module": "@jupyter-widgets/controls",
      "model_module_version": "1.0.0",
      "model_name": "SliderStyleModel",
      "state": {
       "description_width": ""
      }
     },
     "645f40b7a5a14b5db060125aae0644aa": {
      "model_module": "@jupyter-widgets/base",
      "model_module_version": "1.0.0",
      "model_name": "LayoutModel",
      "state": {}
     },
     "647ce9212691432a87459cdd8194af6c": {
      "model_module": "@jupyter-widgets/controls",
      "model_module_version": "1.0.0",
      "model_name": "IntSliderModel",
      "state": {
       "description": "dy",
       "layout": "IPY_MODEL_803f177e28c54ea09474f695f83e2704",
       "min": -100,
       "style": "IPY_MODEL_f56a9a9c87d5410ba1410ef8b7746334",
       "value": -42
      }
     },
     "64b37651a14746bda9ec69ded6c39241": {
      "model_module": "@jupyter-widgets/controls",
      "model_module_version": "1.0.0",
      "model_name": "VBoxModel",
      "state": {
       "children": [
        "IPY_MODEL_aa2f95ce469b4e9483a2a8d5775cb66b",
        "IPY_MODEL_eee1c68ab67f4597ab748d02d4a18802"
       ],
       "layout": "IPY_MODEL_e81291b541594151985dbaaf4b14f89f"
      }
     },
     "64cfda1421b14d81b87fd4aa82150b70": {
      "model_module": "@jupyter-widgets/base",
      "model_module_version": "1.0.0",
      "model_name": "LayoutModel",
      "state": {}
     },
     "651e7c1fd81c44279ea33f0e4bb198f1": {
      "model_module": "@jupyter-widgets/base",
      "model_module_version": "1.0.0",
      "model_name": "LayoutModel",
      "state": {}
     },
     "65262d833e9b4fd7914e4a137e4bb896": {
      "model_module": "@jupyter-widgets/base",
      "model_module_version": "1.0.0",
      "model_name": "LayoutModel",
      "state": {}
     },
     "653d8e4b6f3045e8aab33966ccf662fe": {
      "model_module": "@jupyter-widgets/controls",
      "model_module_version": "1.0.0",
      "model_name": "DescriptionStyleModel",
      "state": {
       "description_width": ""
      }
     },
     "6576e9d653f2429c8715cf6b178e5123": {
      "model_module": "@jupyter-widgets/base",
      "model_module_version": "1.0.0",
      "model_name": "LayoutModel",
      "state": {}
     },
     "6586fcab46e647e0b8a1d8d6e9ebd160": {
      "model_module": "@jupyter-widgets/controls",
      "model_module_version": "1.0.0",
      "model_name": "IntSliderModel",
      "state": {
       "description": "blue",
       "layout": "IPY_MODEL_e4e2367e30d84ba4990d16528a0fbb9b",
       "max": 255,
       "style": "IPY_MODEL_907f381ceec84cf3b6aaa2f8cfde80be",
       "value": 127
      }
     },
     "65a97635233c46f3b48e9f9d21f20393": {
      "model_module": "jp_proxy_widget",
      "model_module_version": "^0.3.4",
      "model_name": "JSProxyModel",
      "state": {
       "_model_module_version": "^0.3.4",
       "_send_counter": 2,
       "_view_module_version": "^0.3.4",
       "error_msg": "No error",
       "layout": "IPY_MODEL_b67e2b31d2c4419ca6d200ced4f2225b",
       "rendered": true,
       "status": "call back to <function callback_function at 0x111911de8>"
      }
     },
     "65c713cc7d514c069b40fc1dd5979ec1": {
      "model_module": "@jupyter-widgets/controls",
      "model_module_version": "1.0.0",
      "model_name": "SliderStyleModel",
      "state": {
       "description_width": ""
      }
     },
     "663526034e0a4bca85bbdcac8ba872b7": {
      "model_module": "@jupyter-widgets/base",
      "model_module_version": "1.0.0",
      "model_name": "LayoutModel",
      "state": {}
     },
     "6642b2d6e5a64d84a56634ba14b993ec": {
      "model_module": "@jupyter-widgets/base",
      "model_module_version": "1.0.0",
      "model_name": "LayoutModel",
      "state": {}
     },
     "667d364091a84344a308a6f005a68833": {
      "model_module": "@jupyter-widgets/controls",
      "model_module_version": "1.0.0",
      "model_name": "IntSliderModel",
      "state": {
       "description": "green",
       "layout": "IPY_MODEL_42624f06e6734e78b739cac1ea841130",
       "max": 255,
       "style": "IPY_MODEL_2c20afb9d41f4367930922af4583f0fd"
      }
     },
     "668306d55d53408ba65f75f7bccc1c92": {
      "model_module": "@jupyter-widgets/controls",
      "model_module_version": "1.0.0",
      "model_name": "FloatSliderModel",
      "state": {
       "description": "alpha",
       "layout": "IPY_MODEL_413e6e8d43ff4406811d3af95680b0b1",
       "max": 1,
       "step": 0.1,
       "style": "IPY_MODEL_ae662bb392a049859ac33368a1e22d7c",
       "value": 0.5
      }
     },
     "66ba2aa5484d4887b27d7839101f531f": {
      "model_module": "@jupyter-widgets/controls",
      "model_module_version": "1.0.0",
      "model_name": "FloatSliderModel",
      "state": {
       "description": "alpha",
       "layout": "IPY_MODEL_bd66f6abb92e402581f1f26acfbe2de5",
       "max": 1,
       "step": 0.1,
       "style": "IPY_MODEL_10a3705620fd4a1a988a4484cfbaac72",
       "value": 1
      }
     },
     "670003f8aa1449c0b6448f2ff3c95b4e": {
      "model_module": "@jupyter-widgets/base",
      "model_module_version": "1.0.0",
      "model_name": "LayoutModel",
      "state": {}
     },
     "670124ed91374563b12df1fd5c0e8836": {
      "model_module": "@jupyter-widgets/controls",
      "model_module_version": "1.0.0",
      "model_name": "FloatSliderModel",
      "state": {
       "description": "start",
       "layout": "IPY_MODEL_3bd4fdef432e484697612a1fd266d763",
       "max": 6.283185307179586,
       "step": 0.1,
       "style": "IPY_MODEL_fad4edcbbed241e3894fee5b2bc15c4a",
       "value": 3.4
      }
     },
     "671272fad9ef4134ae1fe02dd34c4ad8": {
      "model_module": "@jupyter-widgets/controls",
      "model_module_version": "1.0.0",
      "model_name": "IntSliderModel",
      "state": {
       "description": "h",
       "layout": "IPY_MODEL_53da87cb2dee42eead1b7d4856b99815",
       "max": 300,
       "min": -300,
       "style": "IPY_MODEL_c9f0ac68ba5841ea80cba3b28d87b6e6",
       "value": 50
      }
     },
     "67145fa1e2f84885a2f0369c931d1147": {
      "model_module": "@jupyter-widgets/controls",
      "model_module_version": "1.0.0",
      "model_name": "IntSliderModel",
      "state": {
       "description": "y",
       "layout": "IPY_MODEL_027486edd7e64a2284c146b7ea5826ca",
       "min": -100,
       "style": "IPY_MODEL_cce6bbd9517b44bfa945dc1891d45351"
      }
     },
     "6738d0336ebf44b29b1582928b866f84": {
      "model_module": "@jupyter-widgets/controls",
      "model_module_version": "1.0.0",
      "model_name": "IntSliderModel",
      "state": {
       "description": "y",
       "layout": "IPY_MODEL_3e3e9b985eb14c4c86747feb32453a8a",
       "min": -100,
       "style": "IPY_MODEL_c25afe940e6f4d84a4f6b11c578b572f"
      }
     },
     "6746894886a24607a6b6c2664d6a8bd7": {
      "model_module": "@jupyter-widgets/base",
      "model_module_version": "1.0.0",
      "model_name": "LayoutModel",
      "state": {}
     },
     "675d31bd190f44cfaec15670abe28f69": {
      "model_module": "@jupyter-widgets/controls",
      "model_module_version": "1.0.0",
      "model_name": "IntSliderModel",
      "state": {
       "description": "y",
       "layout": "IPY_MODEL_edd2847043b649489887a4b779bd688a",
       "min": -100,
       "style": "IPY_MODEL_178ffe95edb04dedaa954257a5a89f9c"
      }
     },
     "67721d0e499d45a59adc83cc41f11b8a": {
      "model_module": "jp_proxy_widget",
      "model_module_version": "^0.3.4",
      "model_name": "JSProxyModel",
      "state": {
       "_model_module_version": "^0.3.4",
       "_send_counter": 1278,
       "_view_module_version": "^0.3.4",
       "error_msg": "No error",
       "layout": "IPY_MODEL_db3a5ae362bd42ac92cb70274cd5fa5f",
       "rendered": true,
       "status": "Got results."
      }
     },
     "67b3c86868704cf9b66b2fc15b3dae54": {
      "model_module": "@jupyter-widgets/output",
      "model_module_version": "1.0.0",
      "model_name": "OutputModel",
      "state": {
       "layout": "IPY_MODEL_b01e7c425dbb46bf8e031f8138807607"
      }
     },
     "67cff949f35c4797b3898bc2af60804a": {
      "model_module": "@jupyter-widgets/controls",
      "model_module_version": "1.0.0",
      "model_name": "SliderStyleModel",
      "state": {
       "description_width": ""
      }
     },
     "67d57405fa244a00a3a8ccd75b144aee": {
      "model_module": "@jupyter-widgets/base",
      "model_module_version": "1.0.0",
      "model_name": "LayoutModel",
      "state": {}
     },
     "67fa53a0df314813a2196034d2b1f49f": {
      "model_module": "@jupyter-widgets/controls",
      "model_module_version": "1.0.0",
      "model_name": "SliderStyleModel",
      "state": {
       "description_width": ""
      }
     },
     "681279e9c03e455c9d01ebdfc85eb524": {
      "model_module": "@jupyter-widgets/base",
      "model_module_version": "1.0.0",
      "model_name": "LayoutModel",
      "state": {}
     },
     "685d33cc6c0d4570ae478d344c6b31ac": {
      "model_module": "jp_proxy_widget",
      "model_module_version": "^0.3.4",
      "model_name": "JSProxyModel",
      "state": {
       "_model_module_version": "^0.3.4",
       "_send_counter": 2,
       "_view_module_version": "^0.3.4",
       "error_msg": "No error",
       "layout": "IPY_MODEL_47b9f53a7bb8418bb7e23f5f8dc3a9b6",
       "rendered": true,
       "status": "call back to <function callback_function at 0x11756acf8>"
      }
     },
     "686b873e0ae74e57a9f771ca939ff852": {
      "model_module": "@jupyter-widgets/controls",
      "model_module_version": "1.0.0",
      "model_name": "IntSliderModel",
      "state": {
       "description": "blue",
       "layout": "IPY_MODEL_1b8858b911844c2687e1d21467252375",
       "max": 255,
       "style": "IPY_MODEL_36e043cf685a4b5aa75ad46d5f5165ab",
       "value": 255
      }
     },
     "686fb0d835de46e7af3b551e700a6199": {
      "model_module": "@jupyter-widgets/base",
      "model_module_version": "1.0.0",
      "model_name": "LayoutModel",
      "state": {}
     },
     "688b5fedc49748f3a55d1e5ec5024781": {
      "model_module": "@jupyter-widgets/base",
      "model_module_version": "1.0.0",
      "model_name": "LayoutModel",
      "state": {}
     },
     "688e54401bc04753b113d9dbd4665faf": {
      "model_module": "@jupyter-widgets/controls",
      "model_module_version": "1.0.0",
      "model_name": "IntSliderModel",
      "state": {
       "description": "y1",
       "layout": "IPY_MODEL_72f692b678f6423a8f87100eae247733",
       "min": -100,
       "style": "IPY_MODEL_29927dc321974356a79469d249d5ce3b"
      }
     },
     "68a5d472c808460f88575659d5105c02": {
      "model_module": "@jupyter-widgets/base",
      "model_module_version": "1.0.0",
      "model_name": "LayoutModel",
      "state": {}
     },
     "68a88543c485471f815e28bc14dfacaa": {
      "model_module": "@jupyter-widgets/controls",
      "model_module_version": "1.0.0",
      "model_name": "DescriptionStyleModel",
      "state": {
       "description_width": ""
      }
     },
     "68fc161d9ef34903b90ca446333d7f92": {
      "model_module": "@jupyter-widgets/controls",
      "model_module_version": "1.0.0",
      "model_name": "DescriptionStyleModel",
      "state": {
       "description_width": ""
      }
     },
     "691fb79dbef64db3a6c7bd3f634d3978": {
      "model_module": "@jupyter-widgets/controls",
      "model_module_version": "1.0.0",
      "model_name": "TabModel",
      "state": {
       "_titles": {
        "0": "Canvas",
        "1": "Snapshot"
       },
       "children": [
        "IPY_MODEL_0b3e93831e304980afb4329aabfc6a27",
        "IPY_MODEL_222e6bfdaa0a4d6eb0a91c708e69798b"
       ],
       "layout": "IPY_MODEL_b2808eb5701c4b898f2d985b1c52d6ff"
      }
     },
     "694323d9407d4f8e81444fe32317fb0e": {
      "model_module": "@jupyter-widgets/controls",
      "model_module_version": "1.0.0",
      "model_name": "HTMLModel",
      "state": {
       "layout": "IPY_MODEL_ceac2f6b3a5c473d9d44aff5675dac99",
       "style": "IPY_MODEL_653d8e4b6f3045e8aab33966ccf662fe",
       "value": "<img src=\"interactive_line.png\" id=\"snapshot_id_3_1536843577039\"/>\n <div id=\"snapshot_id_4_1536843577039\">interactive_line.png</div>"
      }
     },
     "694e5677715948819da2886f6813d1bd": {
      "model_module": "@jupyter-widgets/base",
      "model_module_version": "1.0.0",
      "model_name": "LayoutModel",
      "state": {}
     },
     "6984b119343d445d94d0a80eb550ecb3": {
      "model_module": "@jupyter-widgets/base",
      "model_module_version": "1.0.0",
      "model_name": "LayoutModel",
      "state": {}
     },
     "6994decc37844a4fa01e66588fd7e85a": {
      "model_module": "@jupyter-widgets/controls",
      "model_module_version": "1.0.0",
      "model_name": "SliderStyleModel",
      "state": {
       "description_width": ""
      }
     },
     "69c090e5603049bc8fad6c2c4b800e80": {
      "model_module": "@jupyter-widgets/base",
      "model_module_version": "1.0.0",
      "model_name": "LayoutModel",
      "state": {}
     },
     "69d899e910a6474e9180e9f585471087": {
      "model_module": "@jupyter-widgets/base",
      "model_module_version": "1.0.0",
      "model_name": "LayoutModel",
      "state": {}
     },
     "69da7c609298498283da7b6ad8b551ce": {
      "model_module": "@jupyter-widgets/controls",
      "model_module_version": "1.0.0",
      "model_name": "IntSliderModel",
      "state": {
       "description": "degrees",
       "layout": "IPY_MODEL_8faa4b4227214033b4e21ee370b89668",
       "max": 360,
       "min": -360,
       "style": "IPY_MODEL_c7a09c31f4dd4d3cb3c349c78fea19cc",
       "value": 110
      }
     },
     "6a2e8306e8bb44fba322c60c417cbc7a": {
      "model_module": "@jupyter-widgets/controls",
      "model_module_version": "1.0.0",
      "model_name": "VBoxModel",
      "state": {
       "children": [
        "IPY_MODEL_1d68a64528da4f249c908fc9cc34c495",
        "IPY_MODEL_89298f083eea49699950dd6aabb5e4d0"
       ],
       "layout": "IPY_MODEL_9dc17061b8f04cf3880b13da187767fc"
      }
     },
     "6a4a3ea9f2ed4c459fc988cd0e49afc8": {
      "model_module": "@jupyter-widgets/controls",
      "model_module_version": "1.0.0",
      "model_name": "HTMLModel",
      "state": {
       "layout": "IPY_MODEL_d68fb73a0f9d42a78bf9bf60823186fb",
       "style": "IPY_MODEL_1d5a2c6599124c82ab6ddf4ffe33b490",
       "value": "<img src=\"interactive_line.png\" id=\"snapshot_id_3_1536844112884\"/>\n <div id=\"snapshot_id_4_1536844112884\">interactive_line.png</div>"
      }
     },
     "6a4ba9b461b640d9b0b8281e6303fa31": {
      "model_module": "@jupyter-widgets/base",
      "model_module_version": "1.0.0",
      "model_name": "LayoutModel",
      "state": {}
     },
     "6a7b1f7cdbd64634b5ae2f7a5feb6c04": {
      "model_module": "@jupyter-widgets/controls",
      "model_module_version": "1.0.0",
      "model_name": "SliderStyleModel",
      "state": {
       "description_width": ""
      }
     },
     "6a7ec45aa5ae461abe59d0ba8fc42c98": {
      "model_module": "@jupyter-widgets/output",
      "model_module_version": "1.0.0",
      "model_name": "OutputModel",
      "state": {
       "layout": "IPY_MODEL_9962a4f8460e4081b27bc8ef15ea4a39"
      }
     },
     "6add4c8f42d34393804c1fb7dad61dde": {
      "model_module": "@jupyter-widgets/base",
      "model_module_version": "1.0.0",
      "model_name": "LayoutModel",
      "state": {}
     },
     "6aed85d7b94c4ad19b72463d6a3cf8e3": {
      "model_module": "@jupyter-widgets/controls",
      "model_module_version": "1.0.0",
      "model_name": "VBoxModel",
      "state": {
       "children": [
        "IPY_MODEL_bde474d5f5be412282fc989249510a3b",
        "IPY_MODEL_83779faaf30b4ba3934a82e904a369ab"
       ],
       "layout": "IPY_MODEL_65262d833e9b4fd7914e4a137e4bb896"
      }
     },
     "6af12d36ec524d2a9f93d40d8180a1f6": {
      "model_module": "@jupyter-widgets/controls",
      "model_module_version": "1.0.0",
      "model_name": "SliderStyleModel",
      "state": {
       "description_width": ""
      }
     },
     "6b0b9a1774144e57bc1b537e9701860b": {
      "model_module": "@jupyter-widgets/base",
      "model_module_version": "1.0.0",
      "model_name": "LayoutModel",
      "state": {}
     },
     "6b38d1c60f5a4d6fa574a8c6f0a3eef1": {
      "model_module": "@jupyter-widgets/controls",
      "model_module_version": "1.0.0",
      "model_name": "SliderStyleModel",
      "state": {
       "description_width": ""
      }
     },
     "6b8599e059314d8daf65fd432b507481": {
      "model_module": "@jupyter-widgets/controls",
      "model_module_version": "1.0.0",
      "model_name": "SliderStyleModel",
      "state": {
       "description_width": ""
      }
     },
     "6b8810edb85f48f598067d897842dee2": {
      "model_module": "@jupyter-widgets/base",
      "model_module_version": "1.0.0",
      "model_name": "LayoutModel",
      "state": {}
     },
     "6baa799853bb4fd99fc6abba6e05a97c": {
      "model_module": "@jupyter-widgets/controls",
      "model_module_version": "1.0.0",
      "model_name": "IntSliderModel",
      "state": {
       "description": "blue",
       "layout": "IPY_MODEL_da488c2eb02645ccacf80641c0784067",
       "max": 255,
       "style": "IPY_MODEL_00fff51fda9745da91cb8581a04d0204",
       "value": 255
      }
     },
     "6bcdaa4b5c6a45e7821fcb8b29e2f51a": {
      "model_module": "@jupyter-widgets/base",
      "model_module_version": "1.0.0",
      "model_name": "LayoutModel",
      "state": {}
     },
     "6bd2a7c1d6e94dbfb16a52f86ce0a812": {
      "model_module": "@jupyter-widgets/controls",
      "model_module_version": "1.0.0",
      "model_name": "IntSliderModel",
      "state": {
       "description": "dx",
       "layout": "IPY_MODEL_10112307254d466ea0e7ce2f47ad3a71",
       "min": -100,
       "style": "IPY_MODEL_f45d798df0094cdc9df7a020fa84844f",
       "value": -40
      }
     },
     "6be51e8baa3d4e25bfc3f484503e6b55": {
      "model_module": "@jupyter-widgets/controls",
      "model_module_version": "1.0.0",
      "model_name": "IntSliderModel",
      "state": {
       "description": "blue",
       "layout": "IPY_MODEL_2bdf84633aae44ac9767292958e6b60b",
       "max": 255,
       "style": "IPY_MODEL_dae6ec53ddb742848f39962af1172ebe",
       "value": 127
      }
     },
     "6c0912c308e246499a574ab437eafc37": {
      "model_module": "@jupyter-widgets/base",
      "model_module_version": "1.0.0",
      "model_name": "LayoutModel",
      "state": {}
     },
     "6c2b33eb9cf94246b596523e217346c4": {
      "model_module": "@jupyter-widgets/controls",
      "model_module_version": "1.0.0",
      "model_name": "IntSliderModel",
      "state": {
       "description": "blue",
       "layout": "IPY_MODEL_80e542f23d584f8eb8a698eea1891413",
       "max": 255,
       "style": "IPY_MODEL_4c48691f515c41d6b5f8c569a5708577",
       "value": 127
      }
     },
     "6c3a5664f9b848b1bc1ddee2ca8cc870": {
      "model_module": "@jupyter-widgets/controls",
      "model_module_version": "1.0.0",
      "model_name": "SliderStyleModel",
      "state": {
       "description_width": ""
      }
     },
     "6c66db1765cd453caea29960e7ceff8e": {
      "model_module": "@jupyter-widgets/controls",
      "model_module_version": "1.0.0",
      "model_name": "CheckboxModel",
      "state": {
       "description": "fill",
       "disabled": false,
       "layout": "IPY_MODEL_11725c45809344a4abd493179511a0f6",
       "style": "IPY_MODEL_a5af4789865d49cd80c598c65411191c",
       "value": false
      }
     },
     "6cad878add9443cebd75e872964e7447": {
      "model_module": "@jupyter-widgets/controls",
      "model_module_version": "1.0.0",
      "model_name": "SliderStyleModel",
      "state": {
       "description_width": ""
      }
     },
     "6cd7980a40aa440e9704447ff0d9776f": {
      "model_module": "@jupyter-widgets/controls",
      "model_module_version": "1.0.0",
      "model_name": "DescriptionStyleModel",
      "state": {
       "description_width": ""
      }
     },
     "6cf05933c68e494ba09c4a2b56585d3f": {
      "model_module": "@jupyter-widgets/base",
      "model_module_version": "1.0.0",
      "model_name": "LayoutModel",
      "state": {}
     },
     "6d012ed42fcc4acb83d52b4c84315eec": {
      "model_module": "@jupyter-widgets/controls",
      "model_module_version": "1.0.0",
      "model_name": "SliderStyleModel",
      "state": {
       "description_width": ""
      }
     },
     "6d0e050d11934430bfdc1515040358cc": {
      "model_module": "@jupyter-widgets/controls",
      "model_module_version": "1.0.0",
      "model_name": "DescriptionStyleModel",
      "state": {
       "description_width": ""
      }
     },
     "6d137b4cff794842ab283cf701df56b8": {
      "model_module": "@jupyter-widgets/base",
      "model_module_version": "1.0.0",
      "model_name": "LayoutModel",
      "state": {}
     },
     "6d2f433dc08247a8b01df182c6e1f0fe": {
      "model_module": "@jupyter-widgets/controls",
      "model_module_version": "1.0.0",
      "model_name": "IntSliderModel",
      "state": {
       "description": "dx",
       "layout": "IPY_MODEL_52b7ca20f33b4a7392693f8fa90ef028",
       "min": -100,
       "style": "IPY_MODEL_2c87a24df3ce443a8c8b5c17fbe21d87",
       "value": -30
      }
     },
     "6d4038e0eb584952b59dad2d5220fbe4": {
      "model_module": "@jupyter-widgets/controls",
      "model_module_version": "1.0.0",
      "model_name": "HTMLModel",
      "state": {
       "layout": "IPY_MODEL_ff5bc05f5fb24d5486365803f5ef211b",
       "style": "IPY_MODEL_e7a5af3f61d64513beb57f80d97b278d",
       "value": "<img src=\"interactive_circle.png\" id=\"snapshot_id_7_1536246314821\"/>\n <div id=\"snapshot_id_8_1536246314821\">interactive_circle.png</div>"
      }
     },
     "6d4babb2a84444899740d58c0f97d7d5": {
      "model_module": "@jupyter-widgets/base",
      "model_module_version": "1.0.0",
      "model_name": "LayoutModel",
      "state": {}
     },
     "6d4d21c7ae254ed783fb1637f1ce3e14": {
      "model_module": "@jupyter-widgets/base",
      "model_module_version": "1.0.0",
      "model_name": "LayoutModel",
      "state": {}
     },
     "6d53b273f7614a95aa03f7fd42cd1953": {
      "model_module": "@jupyter-widgets/controls",
      "model_module_version": "1.0.0",
      "model_name": "SliderStyleModel",
      "state": {
       "description_width": ""
      }
     },
     "6d5afc2ea58840f5ae4870822ca386d1": {
      "model_module": "@jupyter-widgets/controls",
      "model_module_version": "1.0.0",
      "model_name": "CheckboxModel",
      "state": {
       "description": "fill",
       "disabled": false,
       "layout": "IPY_MODEL_90c1e9edf46c4edfb6360845f5517339",
       "style": "IPY_MODEL_115273af4d1f468cb248f0bdfbc4b940",
       "value": true
      }
     },
     "6d5cf87f965945839f7681433a3e50bf": {
      "model_module": "@jupyter-widgets/base",
      "model_module_version": "1.0.0",
      "model_name": "LayoutModel",
      "state": {}
     },
     "6d710b3826df4b25a40bc2b3b4257d43": {
      "model_module": "@jupyter-widgets/base",
      "model_module_version": "1.0.0",
      "model_name": "LayoutModel",
      "state": {}
     },
     "6d8b5f90ac914fa4b0cbbab5eb40e737": {
      "model_module": "@jupyter-widgets/controls",
      "model_module_version": "1.0.0",
      "model_name": "SliderStyleModel",
      "state": {
       "description_width": ""
      }
     },
     "6d972143f2264451a4b3cc428b6d03b0": {
      "model_module": "@jupyter-widgets/controls",
      "model_module_version": "1.0.0",
      "model_name": "SliderStyleModel",
      "state": {
       "description_width": ""
      }
     },
     "6dab80f1957149c1ae5bfccfaf936039": {
      "model_module": "@jupyter-widgets/base",
      "model_module_version": "1.0.0",
      "model_name": "LayoutModel",
      "state": {}
     },
     "6dfd70e3c3a345679a18f400ff4f9099": {
      "model_module": "@jupyter-widgets/controls",
      "model_module_version": "1.0.0",
      "model_name": "HTMLModel",
      "state": {
       "layout": "IPY_MODEL_4119b9bf791645ff95eedb06fdc371d2",
       "style": "IPY_MODEL_ed23f2d2d3464772aa68c7b32bd5c2b9",
       "value": "<img src=\"interactive_rectangle.png\" id=\"snapshot_id_1_1536324763397\"/>\n <div id=\"snapshot_id_2_1536324763397\">interactive_rectangle.png</div>"
      }
     },
     "6e1d41b1faa4426fbbfce1ec9a66f5ce": {
      "model_module": "@jupyter-widgets/base",
      "model_module_version": "1.0.0",
      "model_name": "LayoutModel",
      "state": {}
     },
     "6e1e8faadadf4ad4bc820f529156cdfc": {
      "model_module": "@jupyter-widgets/controls",
      "model_module_version": "1.0.0",
      "model_name": "IntSliderModel",
      "state": {
       "description": "dy",
       "layout": "IPY_MODEL_5e31210eb5f0429ea58f29f49e88fa10",
       "min": -100,
       "style": "IPY_MODEL_bba4884728144eda89defa3c7c0c17bd",
       "value": -25
      }
     },
     "6e1f685470a14e5d9fa21428f7610a59": {
      "model_module": "@jupyter-widgets/controls",
      "model_module_version": "1.0.0",
      "model_name": "SliderStyleModel",
      "state": {
       "description_width": ""
      }
     },
     "6e28ffc7e0f445909beafded825cbfcd": {
      "model_module": "@jupyter-widgets/base",
      "model_module_version": "1.0.0",
      "model_name": "LayoutModel",
      "state": {}
     },
     "6e2d821ac383472692841f46384a8def": {
      "model_module": "jp_proxy_widget",
      "model_module_version": "^0.3.4",
      "model_name": "JSProxyModel",
      "state": {
       "_model_module_version": "^0.3.4",
       "_send_counter": 971,
       "_view_module_version": "^0.3.4",
       "error_msg": "No error",
       "layout": "IPY_MODEL_8bb00b65c35c444494ab3b28d974e55b",
       "rendered": true,
       "status": "Got results."
      }
     },
     "6e59fb65d30e409e8ee3a08184440031": {
      "model_module": "@jupyter-widgets/controls",
      "model_module_version": "1.0.0",
      "model_name": "SliderStyleModel",
      "state": {
       "description_width": ""
      }
     },
     "6e9116a2d0ac4b4e92cd52d7c4f73c33": {
      "model_module": "@jupyter-widgets/base",
      "model_module_version": "1.0.0",
      "model_name": "LayoutModel",
      "state": {}
     },
     "6ea8e3c6b0974b47958541b17601c079": {
      "model_module": "@jupyter-widgets/controls",
      "model_module_version": "1.0.0",
      "model_name": "SliderStyleModel",
      "state": {
       "description_width": ""
      }
     },
     "6eaf26a552f545f6aaf69bf06451f115": {
      "model_module": "@jupyter-widgets/controls",
      "model_module_version": "1.0.0",
      "model_name": "TabModel",
      "state": {
       "_titles": {
        "0": "Canvas",
        "1": "Snapshot"
       },
       "children": [
        "IPY_MODEL_d3f1fa849def4623a855a1c53a27eb78",
        "IPY_MODEL_d03f96aa10e64b6c8138092e035a2900"
       ],
       "layout": "IPY_MODEL_3a2209d82a8c428a9e1090bedc264712"
      }
     },
     "6f03a2c8f2ad465fa08d9a3cd0476721": {
      "model_module": "@jupyter-widgets/controls",
      "model_module_version": "1.0.0",
      "model_name": "SliderStyleModel",
      "state": {
       "description_width": ""
      }
     },
     "6f0a0e727db641c7a2fd92e15152fc08": {
      "model_module": "@jupyter-widgets/controls",
      "model_module_version": "1.0.0",
      "model_name": "IntSliderModel",
      "state": {
       "description": "red",
       "layout": "IPY_MODEL_8431d3e46d244224bc51e879cc4f5e5a",
       "max": 255,
       "style": "IPY_MODEL_0d4046d4646440acaa414b77f21f90f7",
       "value": 255
      }
     },
     "6f15dead747d4fb5bd6870c4537e1f5f": {
      "model_module": "@jupyter-widgets/base",
      "model_module_version": "1.0.0",
      "model_name": "LayoutModel",
      "state": {}
     },
     "6f24f35404984892b1be42462ad04b72": {
      "model_module": "@jupyter-widgets/base",
      "model_module_version": "1.0.0",
      "model_name": "LayoutModel",
      "state": {}
     },
     "6f386e0aa2ac4cf0b7ec8fa4d9f574a1": {
      "model_module": "@jupyter-widgets/controls",
      "model_module_version": "1.0.0",
      "model_name": "IntSliderModel",
      "state": {
       "description": "red",
       "layout": "IPY_MODEL_a6765dde2a0947518cd142f3dd6dc9c9",
       "max": 255,
       "style": "IPY_MODEL_1a3941a7da6b43b89feba07e5a679b4f",
       "value": 255
      }
     },
     "6f7b901cf4034bb5afc797757f2c228c": {
      "model_module": "@jupyter-widgets/controls",
      "model_module_version": "1.0.0",
      "model_name": "SliderStyleModel",
      "state": {
       "description_width": ""
      }
     },
     "6f862d10dbd142f7a51f104347dd4b0d": {
      "model_module": "@jupyter-widgets/controls",
      "model_module_version": "1.0.0",
      "model_name": "SliderStyleModel",
      "state": {
       "description_width": ""
      }
     },
     "6f97f3e3f5374e53acd8d0d2e0a070f6": {
      "model_module": "@jupyter-widgets/controls",
      "model_module_version": "1.0.0",
      "model_name": "TabModel",
      "state": {
       "_titles": {
        "0": "Canvas",
        "1": "Snapshot"
       },
       "children": [
        "IPY_MODEL_4d7dc592861040e481743ab21b7ca11e",
        "IPY_MODEL_c9bb937b54294cc3ace97fef6e8725e4"
       ],
       "layout": "IPY_MODEL_490fd7622ece4312a5d26f75ddfb4245",
       "selected_index": 1
      }
     },
     "6fb4c8bdcba34aeeba4c3ec6d9d69226": {
      "model_module": "@jupyter-widgets/base",
      "model_module_version": "1.0.0",
      "model_name": "LayoutModel",
      "state": {}
     },
     "6fc21fbe0efe42daad394b4c2f8fc92e": {
      "model_module": "@jupyter-widgets/controls",
      "model_module_version": "1.0.0",
      "model_name": "VBoxModel",
      "state": {
       "_dom_classes": [
        "widget-interact"
       ],
       "children": [
        "IPY_MODEL_963992f08beb4ffe829757a4f8414eec",
        "IPY_MODEL_df898d04eb9147aaafb054cfc84208b2",
        "IPY_MODEL_b33cb00102d14143ab21cdceead4b814",
        "IPY_MODEL_88761024531d4828b6f17bdeb1fbd651",
        "IPY_MODEL_3c579f3bc35340539b2c0d3d343460e9",
        "IPY_MODEL_a3cb5d37fe2d4dfdb8e29799ac81eacc",
        "IPY_MODEL_e67079bdb3f544d385740f8a84caf7e7",
        "IPY_MODEL_97a2057749f140b4831454510ea7bf28",
        "IPY_MODEL_b450bdde95ad4080af671cbcb4a8afee",
        "IPY_MODEL_45f85def23654524a52fdce948787ba9",
        "IPY_MODEL_0d1a97c4b5f043f0b93bf39679ed888e",
        "IPY_MODEL_b8631914d4744931b7b8a022e3bfd075",
        "IPY_MODEL_8aca6b664680447a92ac23cca5983a39",
        "IPY_MODEL_7decb20a2a7849f2abd5225a366b8758"
       ],
       "layout": "IPY_MODEL_6746894886a24607a6b6c2664d6a8bd7"
      }
     },
     "6ffd4bbf9b714444829715cc1ff9b183": {
      "model_module": "@jupyter-widgets/base",
      "model_module_version": "1.0.0",
      "model_name": "LayoutModel",
      "state": {}
     },
     "7014a69f65a948d6a0d03300924247d6": {
      "model_module": "@jupyter-widgets/controls",
      "model_module_version": "1.0.0",
      "model_name": "SliderStyleModel",
      "state": {
       "description_width": ""
      }
     },
     "7028bbe4624d480093da42cbdbeae5bb": {
      "model_module": "@jupyter-widgets/base",
      "model_module_version": "1.0.0",
      "model_name": "LayoutModel",
      "state": {}
     },
     "7034e15b99524fcfa7fa3f7d3136bebe": {
      "model_module": "@jupyter-widgets/controls",
      "model_module_version": "1.0.0",
      "model_name": "IntSliderModel",
      "state": {
       "description": "x",
       "layout": "IPY_MODEL_70ca1b2de6c54067999d3e8acf1a2f0f",
       "min": -100,
       "style": "IPY_MODEL_550204628bc449f384f28260bf092cc5"
      }
     },
     "7051678c881e4a09ad0f6d414720a272": {
      "model_module": "@jupyter-widgets/base",
      "model_module_version": "1.0.0",
      "model_name": "LayoutModel",
      "state": {}
     },
     "7072fd63f11f4373be2bee31ae07ae78": {
      "model_module": "@jupyter-widgets/controls",
      "model_module_version": "1.0.0",
      "model_name": "IntSliderModel",
      "state": {
       "description": "y2",
       "layout": "IPY_MODEL_245098d6c0794a19bb06779bd65346e6",
       "min": -100,
       "style": "IPY_MODEL_73991f059b6441fc83c368ce0260f207",
       "value": 3
      }
     },
     "70757c7e31fc4f119a9d09d51a68e066": {
      "model_module": "@jupyter-widgets/base",
      "model_module_version": "1.0.0",
      "model_name": "LayoutModel",
      "state": {}
     },
     "707d0395e2f94c519a9081dc56d95048": {
      "model_module": "@jupyter-widgets/controls",
      "model_module_version": "1.0.0",
      "model_name": "SliderStyleModel",
      "state": {
       "description_width": ""
      }
     },
     "70c20b7fc64f4087b31856d8cc1e32ad": {
      "model_module": "@jupyter-widgets/base",
      "model_module_version": "1.0.0",
      "model_name": "LayoutModel",
      "state": {}
     },
     "70ca1b2de6c54067999d3e8acf1a2f0f": {
      "model_module": "@jupyter-widgets/base",
      "model_module_version": "1.0.0",
      "model_name": "LayoutModel",
      "state": {}
     },
     "70ca8aff3e444c4eb5149fef3575b2f5": {
      "model_module": "@jupyter-widgets/base",
      "model_module_version": "1.0.0",
      "model_name": "LayoutModel",
      "state": {}
     },
     "70fa1f14384541f9990d724beaa7ba1e": {
      "model_module": "@jupyter-widgets/output",
      "model_module_version": "1.0.0",
      "model_name": "OutputModel",
      "state": {
       "layout": "IPY_MODEL_9cfae546c5804466a3022b889235da51"
      }
     },
     "711a1218934c420086dbd7d1e0213641": {
      "model_module": "@jupyter-widgets/controls",
      "model_module_version": "1.0.0",
      "model_name": "IntSliderModel",
      "state": {
       "description": "blue",
       "layout": "IPY_MODEL_db0ce166b6924696a705aee247ce77a0",
       "max": 255,
       "style": "IPY_MODEL_a5736efe026941f5b28d682dca5eb4ae",
       "value": 255
      }
     },
     "71371a01f60e41b4917632e837b7da74": {
      "model_module": "@jupyter-widgets/controls",
      "model_module_version": "1.0.0",
      "model_name": "SliderStyleModel",
      "state": {
       "description_width": ""
      }
     },
     "714bd7ab1d4b4ed5a83e75058c7573df": {
      "model_module": "@jupyter-widgets/base",
      "model_module_version": "1.0.0",
      "model_name": "LayoutModel",
      "state": {}
     },
     "716d22fdd9264a66aff6b4d335d77b12": {
      "model_module": "@jupyter-widgets/base",
      "model_module_version": "1.0.0",
      "model_name": "LayoutModel",
      "state": {}
     },
     "7183c0c2306b4419861ea22754a66085": {
      "model_module": "@jupyter-widgets/controls",
      "model_module_version": "1.0.0",
      "model_name": "SliderStyleModel",
      "state": {
       "description_width": ""
      }
     },
     "720944a2fcfc45b493d963d41317271b": {
      "model_module": "@jupyter-widgets/controls",
      "model_module_version": "1.0.0",
      "model_name": "CheckboxModel",
      "state": {
       "description": "fill",
       "disabled": false,
       "layout": "IPY_MODEL_26bb7c19ef7642acbe11cc5fdaf4223a",
       "style": "IPY_MODEL_ef50217bb523497c99ecbd90f68af130",
       "value": true
      }
     },
     "7261fd9657c34e6886f4a75cdc18d33f": {
      "model_module": "@jupyter-widgets/output",
      "model_module_version": "1.0.0",
      "model_name": "OutputModel",
      "state": {
       "layout": "IPY_MODEL_0a39ab45b1af48b9a7f735df24b7b659"
      }
     },
     "7262fdf8bef544d49598ad81ef0767f1": {
      "model_module": "@jupyter-widgets/controls",
      "model_module_version": "1.0.0",
      "model_name": "SliderStyleModel",
      "state": {
       "description_width": ""
      }
     },
     "726f550660b849dd8934676e66b138d7": {
      "model_module": "@jupyter-widgets/base",
      "model_module_version": "1.0.0",
      "model_name": "LayoutModel",
      "state": {}
     },
     "72d208781a684957b07912b6b3bc8f8f": {
      "model_module": "@jupyter-widgets/controls",
      "model_module_version": "1.0.0",
      "model_name": "SliderStyleModel",
      "state": {
       "description_width": ""
      }
     },
     "72e543b8197b4f1c94f81c699b5973a9": {
      "model_module": "@jupyter-widgets/controls",
      "model_module_version": "1.0.0",
      "model_name": "SliderStyleModel",
      "state": {
       "description_width": ""
      }
     },
     "72f0a85eac66457c8896743b3888cc6b": {
      "model_module": "@jupyter-widgets/base",
      "model_module_version": "1.0.0",
      "model_name": "LayoutModel",
      "state": {}
     },
     "72f692b678f6423a8f87100eae247733": {
      "model_module": "@jupyter-widgets/base",
      "model_module_version": "1.0.0",
      "model_name": "LayoutModel",
      "state": {}
     },
     "73074169b87449eab2881cdc1c2dc5f8": {
      "model_module": "@jupyter-widgets/base",
      "model_module_version": "1.0.0",
      "model_name": "LayoutModel",
      "state": {}
     },
     "731926c1ad3e43c89edecc4ab25cff3f": {
      "model_module": "@jupyter-widgets/base",
      "model_module_version": "1.0.0",
      "model_name": "LayoutModel",
      "state": {}
     },
     "73275ec3a7884fc5bbb9adc97de3af76": {
      "model_module": "@jupyter-widgets/output",
      "model_module_version": "1.0.0",
      "model_name": "OutputModel",
      "state": {
       "layout": "IPY_MODEL_c260cf1cfd354d4c9dd122e6ecf9e8b1"
      }
     },
     "732f278402d5481a9d2e2dbf881ddffa": {
      "model_module": "@jupyter-widgets/controls",
      "model_module_version": "1.0.0",
      "model_name": "SliderStyleModel",
      "state": {
       "description_width": ""
      }
     },
     "735c58b34315471e962534256a552196": {
      "model_module": "@jupyter-widgets/controls",
      "model_module_version": "1.0.0",
      "model_name": "IntSliderModel",
      "state": {
       "description": "red",
       "layout": "IPY_MODEL_bc4a9abaf51a47fab5340a5b1c7be71f",
       "max": 255,
       "style": "IPY_MODEL_0d65c9f8b8cd4c278877f04bb963daea",
       "value": 127
      }
     },
     "7376d47badbb45339288218712a8c41a": {
      "model_module": "@jupyter-widgets/base",
      "model_module_version": "1.0.0",
      "model_name": "LayoutModel",
      "state": {}
     },
     "738407a4dc154d9ea46b2c4ba7d200bc": {
      "model_module": "@jupyter-widgets/controls",
      "model_module_version": "1.0.0",
      "model_name": "TabModel",
      "state": {
       "_titles": {
        "0": "Canvas",
        "1": "Snapshot"
       },
       "children": [
        "IPY_MODEL_49d7f9f02fcc4e8da263c8969b31e156",
        "IPY_MODEL_d3eec64ce798400397108160d8174df0"
       ],
       "layout": "IPY_MODEL_b34cec64080c447cb8f0edadd7cce72a",
       "selected_index": 1
      }
     },
     "73991f059b6441fc83c368ce0260f207": {
      "model_module": "@jupyter-widgets/controls",
      "model_module_version": "1.0.0",
      "model_name": "SliderStyleModel",
      "state": {
       "description_width": ""
      }
     },
     "739cb1b3e551481faef72e4ac3e280cd": {
      "model_module": "@jupyter-widgets/base",
      "model_module_version": "1.0.0",
      "model_name": "LayoutModel",
      "state": {}
     },
     "73c6dfbab166404dbfdd9c2c3d0e4dfb": {
      "model_module": "@jupyter-widgets/controls",
      "model_module_version": "1.0.0",
      "model_name": "FloatSliderModel",
      "state": {
       "description": "alpha",
       "layout": "IPY_MODEL_d7c66be035fe4e6086b9f6553f680907",
       "max": 1,
       "step": 0.1,
       "style": "IPY_MODEL_b7af4c9995f34f65abc69ba697ac1db8",
       "value": 1
      }
     },
     "73d60ee0f77c4947bb197a00a8827b55": {
      "model_module": "@jupyter-widgets/base",
      "model_module_version": "1.0.0",
      "model_name": "LayoutModel",
      "state": {}
     },
     "73e5fb468e134a7c868d006d7d7f16b4": {
      "model_module": "@jupyter-widgets/controls",
      "model_module_version": "1.0.0",
      "model_name": "SliderStyleModel",
      "state": {
       "description_width": ""
      }
     },
     "73ef9fac00c34fbba2d4679318de8790": {
      "model_module": "@jupyter-widgets/controls",
      "model_module_version": "1.0.0",
      "model_name": "SliderStyleModel",
      "state": {
       "description_width": ""
      }
     },
     "7401918960794eacb24017c0d138171c": {
      "model_module": "@jupyter-widgets/controls",
      "model_module_version": "1.0.0",
      "model_name": "SliderStyleModel",
      "state": {
       "description_width": ""
      }
     },
     "740855e0bebf4f35b41ae7c98254eed0": {
      "model_module": "@jupyter-widgets/controls",
      "model_module_version": "1.0.0",
      "model_name": "DescriptionStyleModel",
      "state": {
       "description_width": ""
      }
     },
     "7432f63598da477ba358388b5f887995": {
      "model_module": "@jupyter-widgets/base",
      "model_module_version": "1.0.0",
      "model_name": "LayoutModel",
      "state": {}
     },
     "7434ff9a078940b9bb4436c95a8f73c1": {
      "model_module": "@jupyter-widgets/base",
      "model_module_version": "1.0.0",
      "model_name": "LayoutModel",
      "state": {}
     },
     "743cd709f7fa41219527bf7d464da3b6": {
      "model_module": "@jupyter-widgets/controls",
      "model_module_version": "1.0.0",
      "model_name": "IntSliderModel",
      "state": {
       "description": "lineWidth",
       "layout": "IPY_MODEL_4b289351962a49d8885434db08b2260b",
       "max": 20,
       "style": "IPY_MODEL_28471fdbe2d4485fa5e32ed60ec1915d",
       "value": 3
      }
     },
     "7449daf1931a454eb1d0b13c9a1ea37a": {
      "model_module": "@jupyter-widgets/controls",
      "model_module_version": "1.0.0",
      "model_name": "IntSliderModel",
      "state": {
       "description": "x",
       "layout": "IPY_MODEL_38d5f0d38bcb4bf386c6b6881c02e16e",
       "min": -100,
       "style": "IPY_MODEL_707d0395e2f94c519a9081dc56d95048"
      }
     },
     "74568ab4fb83449d93eb164164743d9d": {
      "model_module": "@jupyter-widgets/controls",
      "model_module_version": "1.0.0",
      "model_name": "TabModel",
      "state": {
       "_titles": {
        "0": "Canvas",
        "1": "Snapshot"
       },
       "children": [
        "IPY_MODEL_2a771ba2332947638e2011cc23b498b3",
        "IPY_MODEL_fc8459e7d59548afb0a8384995efeeca"
       ],
       "layout": "IPY_MODEL_f0de5a912e24406d96588632a574fd8c"
      }
     },
     "7486f5e5619f4d95ab244e452f2d0b97": {
      "model_module": "@jupyter-widgets/base",
      "model_module_version": "1.0.0",
      "model_name": "LayoutModel",
      "state": {}
     },
     "748e5c97d2804ec0a77f6d19bff0669b": {
      "model_module": "@jupyter-widgets/controls",
      "model_module_version": "1.0.0",
      "model_name": "SliderStyleModel",
      "state": {
       "description_width": ""
      }
     },
     "74957b9d872f41b4b7443bf11f88fec4": {
      "model_module": "@jupyter-widgets/controls",
      "model_module_version": "1.0.0",
      "model_name": "DescriptionStyleModel",
      "state": {
       "description_width": ""
      }
     },
     "74b2742b1bfc45aca3cb643243834a8c": {
      "model_module": "@jupyter-widgets/base",
      "model_module_version": "1.0.0",
      "model_name": "LayoutModel",
      "state": {}
     },
     "74d193da70504933894e6fd7933dda49": {
      "model_module": "@jupyter-widgets/base",
      "model_module_version": "1.0.0",
      "model_name": "LayoutModel",
      "state": {}
     },
     "74d9892fee73442e810eb9d810a14681": {
      "model_module": "@jupyter-widgets/controls",
      "model_module_version": "1.0.0",
      "model_name": "IntSliderModel",
      "state": {
       "description": "y",
       "layout": "IPY_MODEL_f9d4de99477a466d8dfd1d60b7f67cb7",
       "min": -100,
       "style": "IPY_MODEL_61ca7862a5f44ae099da9334ffa49491"
      }
     },
     "74ea6cc38ac2424fb12021dfde5a4e57": {
      "model_module": "@jupyter-widgets/base",
      "model_module_version": "1.0.0",
      "model_name": "LayoutModel",
      "state": {}
     },
     "74faef74215548369eb533fd4e826347": {
      "model_module": "@jupyter-widgets/base",
      "model_module_version": "1.0.0",
      "model_name": "LayoutModel",
      "state": {}
     },
     "752dc1c8506e40b688e535d79cc259ba": {
      "model_module": "@jupyter-widgets/controls",
      "model_module_version": "1.0.0",
      "model_name": "DescriptionStyleModel",
      "state": {
       "description_width": ""
      }
     },
     "75394f37115740298c75c9715193030f": {
      "model_module": "@jupyter-widgets/base",
      "model_module_version": "1.0.0",
      "model_name": "LayoutModel",
      "state": {}
     },
     "753b63c2122c4b64950abbbe0956daf3": {
      "model_module": "@jupyter-widgets/controls",
      "model_module_version": "1.0.0",
      "model_name": "VBoxModel",
      "state": {
       "children": [
        "IPY_MODEL_3e367bf33f1047dfbc03f16555494f9c",
        "IPY_MODEL_351cad72bcaf4b9a8abf332b64dbbb8b"
       ],
       "layout": "IPY_MODEL_5e31e23242f54e538493ed95103f0559"
      }
     },
     "75b20f334ff84f84a84a206f9cedb680": {
      "model_module": "@jupyter-widgets/controls",
      "model_module_version": "1.0.0",
      "model_name": "SliderStyleModel",
      "state": {
       "description_width": ""
      }
     },
     "75b8407b3a7d47b2b2bf8c3687d77742": {
      "model_module": "@jupyter-widgets/base",
      "model_module_version": "1.0.0",
      "model_name": "LayoutModel",
      "state": {}
     },
     "75bbe9e5394a4ea5b7935b97532a3629": {
      "model_module": "@jupyter-widgets/controls",
      "model_module_version": "1.0.0",
      "model_name": "IntSliderModel",
      "state": {
       "description": "lineWidth",
       "layout": "IPY_MODEL_0683a782ef144a8b8fe64d0539892c52",
       "max": 20,
       "style": "IPY_MODEL_11b4cd7275ae454b9f8f4193c877792f",
       "value": 3
      }
     },
     "75d62cb247714505aa42c4e9aabbb163": {
      "model_module": "@jupyter-widgets/controls",
      "model_module_version": "1.0.0",
      "model_name": "IntSliderModel",
      "state": {
       "description": "y",
       "layout": "IPY_MODEL_23ea168f6d8b4be4aa1febf6b7134381",
       "min": -100,
       "style": "IPY_MODEL_cccd07e7220c4bcf8244cd36ff89b8c2"
      }
     },
     "75da1847826641b79ba87f9abd2867de": {
      "model_module": "@jupyter-widgets/controls",
      "model_module_version": "1.0.0",
      "model_name": "FloatSliderModel",
      "state": {
       "description": "alpha",
       "layout": "IPY_MODEL_55392b438df34f41831796518c710a1e",
       "max": 1,
       "step": 0.1,
       "style": "IPY_MODEL_960b8aa072264d4cbd33e16a82c3b576",
       "value": 0.5
      }
     },
     "75faa03da9bb4dfb9992eca290675553": {
      "model_module": "jp_proxy_widget",
      "model_module_version": "^0.3.4",
      "model_name": "JSProxyModel",
      "state": {
       "_model_module_version": "^0.3.4",
       "_send_counter": 21,
       "_view_module_version": "^0.3.4",
       "error_msg": "No error",
       "layout": "IPY_MODEL_b94f0959b92c4a0292195c5e10f814ac",
       "rendered": true,
       "status": "Got results."
      }
     },
     "761ec6e88079411bb17eb4433a854d69": {
      "model_module": "@jupyter-widgets/controls",
      "model_module_version": "1.0.0",
      "model_name": "DescriptionStyleModel",
      "state": {
       "description_width": ""
      }
     },
     "76647457cb0c4fb7ac3772753ee048d1": {
      "model_module": "@jupyter-widgets/controls",
      "model_module_version": "1.0.0",
      "model_name": "SliderStyleModel",
      "state": {
       "description_width": ""
      }
     },
     "7680fba223bd4cd4a608ed09f41b67c2": {
      "model_module": "@jupyter-widgets/base",
      "model_module_version": "1.0.0",
      "model_name": "LayoutModel",
      "state": {}
     },
     "76812d39075f496fa20b7e7875cc60cb": {
      "model_module": "@jupyter-widgets/base",
      "model_module_version": "1.0.0",
      "model_name": "LayoutModel",
      "state": {}
     },
     "76a75424ca3b491998cc985918889cad": {
      "model_module": "@jupyter-widgets/base",
      "model_module_version": "1.0.0",
      "model_name": "LayoutModel",
      "state": {}
     },
     "76dc543a17bd4d49a495b03b1bfa7ef8": {
      "model_module": "@jupyter-widgets/controls",
      "model_module_version": "1.0.0",
      "model_name": "SliderStyleModel",
      "state": {
       "description_width": ""
      }
     },
     "76ea393a04ce40e7b5863626859af42f": {
      "model_module": "@jupyter-widgets/controls",
      "model_module_version": "1.0.0",
      "model_name": "VBoxModel",
      "state": {
       "children": [
        "IPY_MODEL_e0281f9f3d08469f81337355e0bf6474",
        "IPY_MODEL_784ff64570c242feb94a8531e0406bf3"
       ],
       "layout": "IPY_MODEL_0dbdfa6c2d544196852733b3e45c54bc"
      }
     },
     "7733cf83a8b343f3a87244e92575400b": {
      "model_module": "@jupyter-widgets/controls",
      "model_module_version": "1.0.0",
      "model_name": "SliderStyleModel",
      "state": {
       "description_width": ""
      }
     },
     "773cb762157b4048ab31df3dc28afe53": {
      "model_module": "@jupyter-widgets/base",
      "model_module_version": "1.0.0",
      "model_name": "LayoutModel",
      "state": {}
     },
     "77962c1ae5024ff4a70e652ffbb1096c": {
      "model_module": "@jupyter-widgets/base",
      "model_module_version": "1.0.0",
      "model_name": "LayoutModel",
      "state": {}
     },
     "77c37a70d686438abda8ceb2dcf1a517": {
      "model_module": "@jupyter-widgets/base",
      "model_module_version": "1.0.0",
      "model_name": "LayoutModel",
      "state": {}
     },
     "77ee900ecbcc4efa94202755e8cabc96": {
      "model_module": "@jupyter-widgets/controls",
      "model_module_version": "1.0.0",
      "model_name": "IntSliderModel",
      "state": {
       "description": "degrees",
       "layout": "IPY_MODEL_9487eb47d99e4727a37ae8c605ab0bb3",
       "max": 360,
       "min": -360,
       "style": "IPY_MODEL_25e715584ab4424e8a35eb9df9c85de8",
       "value": -66
      }
     },
     "77fcaa89ee7249ab9168e43a8cba7db1": {
      "model_module": "@jupyter-widgets/base",
      "model_module_version": "1.0.0",
      "model_name": "LayoutModel",
      "state": {}
     },
     "78075ba7ce14402e873e368460f85431": {
      "model_module": "@jupyter-widgets/controls",
      "model_module_version": "1.0.0",
      "model_name": "HTMLModel",
      "state": {
       "layout": "IPY_MODEL_9e7f4e7bdd10445e8264dde9ac80028d",
       "style": "IPY_MODEL_5b4ad0fa516a4d9684f1698b9c338b9d",
       "value": "<img src=\"interactive_line.png\" id=\"snapshot_id_8_1536844030659\"/>\n <div id=\"snapshot_id_9_1536844030659\">interactive_line.png</div>"
      }
     },
     "783fb53931f7465aac62c5a159b4c993": {
      "model_module": "@jupyter-widgets/controls",
      "model_module_version": "1.0.0",
      "model_name": "IntSliderModel",
      "state": {
       "description": "h",
       "layout": "IPY_MODEL_b3ae95d92943403d9fdf8b440b491b8d",
       "max": 300,
       "min": -300,
       "style": "IPY_MODEL_79188187496d4003bec542d6bbc3b5b8",
       "value": 50
      }
     },
     "784ff64570c242feb94a8531e0406bf3": {
      "model_module": "jp_proxy_widget",
      "model_module_version": "^0.3.4",
      "model_name": "JSProxyModel",
      "state": {
       "_model_module_version": "^0.3.4",
       "_send_counter": 2,
       "_view_module_version": "^0.3.4",
       "error_msg": "No error",
       "layout": "IPY_MODEL_90df6b04c75042698e0f42ca277d36d0",
       "rendered": true,
       "status": "Got results."
      }
     },
     "78608b96edfd46af8ef1e85ba4b4dde0": {
      "model_module": "@jupyter-widgets/output",
      "model_module_version": "1.0.0",
      "model_name": "OutputModel",
      "state": {
       "layout": "IPY_MODEL_7ab63f850df5473999c30321403c55c2"
      }
     },
     "78733a24202b44f3b50528af4ab33b95": {
      "model_module": "@jupyter-widgets/base",
      "model_module_version": "1.0.0",
      "model_name": "LayoutModel",
      "state": {}
     },
     "787a8b1266fd49f5916346166d335ec2": {
      "model_module": "@jupyter-widgets/base",
      "model_module_version": "1.0.0",
      "model_name": "LayoutModel",
      "state": {}
     },
     "788bd8e238b24981aa738bfa96547882": {
      "model_module": "@jupyter-widgets/controls",
      "model_module_version": "1.0.0",
      "model_name": "HTMLModel",
      "state": {
       "layout": "IPY_MODEL_9c4d307bd36a43ecbebe3b532825a22d",
       "style": "IPY_MODEL_a7a5c7fbf4eb41b28a7670088c55803e",
       "value": "<img src=\"interactive_circle.png\" id=\"snapshot_id_17_1536246705666\"/>\n <div id=\"snapshot_id_18_1536246705666\">interactive_circle.png</div>"
      }
     },
     "7895d0318ecf4cc49eba0188682100b7": {
      "model_module": "@jupyter-widgets/controls",
      "model_module_version": "1.0.0",
      "model_name": "FloatSliderModel",
      "state": {
       "description": "alpha",
       "layout": "IPY_MODEL_dbba1e826ae04c4ca554235ac52af713",
       "max": 1,
       "step": 0.1,
       "style": "IPY_MODEL_f8df1b22de074004a55d08cfec2a9777",
       "value": 1
      }
     },
     "7899031a98a84214a4617ed3b18814bc": {
      "model_module": "jp_proxy_widget",
      "model_module_version": "^0.3.4",
      "model_name": "JSProxyModel",
      "state": {
       "_model_module_version": "^0.3.4",
       "_send_counter": 3761,
       "_view_module_version": "^0.3.4",
       "error_msg": "No error",
       "layout": "IPY_MODEL_b1126a34fafc43049a8bb0fa7b268819",
       "rendered": true,
       "status": "Got results."
      }
     },
     "78a36bc249644c3abc87b50dc88506bb": {
      "model_module": "jp_proxy_widget",
      "model_module_version": "^0.3.4",
      "model_name": "JSProxyModel",
      "state": {
       "_model_module_version": "^0.3.4",
       "_send_counter": 6,
       "_view_module_version": "^0.3.4",
       "error_msg": "No error",
       "layout": "IPY_MODEL_d62fd1b878a24442ba33a29738dac5e8",
       "rendered": true,
       "status": "Got results."
      }
     },
     "78e129673a1c4eaa88fc995fc38e6d7b": {
      "model_module": "@jupyter-widgets/controls",
      "model_module_version": "1.0.0",
      "model_name": "IntSliderModel",
      "state": {
       "description": "lineWidth",
       "layout": "IPY_MODEL_9069a3a719df4163888c8e81a2f2894b",
       "max": 20,
       "style": "IPY_MODEL_be1907c6b6fe4c269a67598306c3e30c",
       "value": 3
      }
     },
     "78ebd864a4344056910e970f1f016825": {
      "model_module": "@jupyter-widgets/controls",
      "model_module_version": "1.0.0",
      "model_name": "IntSliderModel",
      "state": {
       "description": "dx",
       "layout": "IPY_MODEL_32f639dcb31a4d2c828b6385eed836e2",
       "min": -100,
       "style": "IPY_MODEL_200ff205022d4b898fafbe077cda899e",
       "value": 10
      }
     },
     "7913ece20bb84999aef7db3488be134a": {
      "model_module": "@jupyter-widgets/controls",
      "model_module_version": "1.0.0",
      "model_name": "IntSliderModel",
      "state": {
       "description": "degrees",
       "layout": "IPY_MODEL_077d2fa2edd74850ab287ffabf01d1fd",
       "max": 360,
       "min": -360,
       "style": "IPY_MODEL_e4aef8f45a9e449c8055e60176b338a1",
       "value": 229
      }
     },
     "79188187496d4003bec542d6bbc3b5b8": {
      "model_module": "@jupyter-widgets/controls",
      "model_module_version": "1.0.0",
      "model_name": "SliderStyleModel",
      "state": {
       "description_width": ""
      }
     },
     "792e019f2ba742f1b26acacb985ef347": {
      "model_module": "@jupyter-widgets/base",
      "model_module_version": "1.0.0",
      "model_name": "LayoutModel",
      "state": {}
     },
     "7934e4b314d04c60a45959b29c2a3350": {
      "model_module": "@jupyter-widgets/controls",
      "model_module_version": "1.0.0",
      "model_name": "SliderStyleModel",
      "state": {
       "description_width": ""
      }
     },
     "794c0af0d20341e29b6e7dd2b18aa6ec": {
      "model_module": "@jupyter-widgets/controls",
      "model_module_version": "1.0.0",
      "model_name": "SliderStyleModel",
      "state": {
       "description_width": ""
      }
     },
     "7955179a22604f3b82080f97639bfcdb": {
      "model_module": "@jupyter-widgets/controls",
      "model_module_version": "1.0.0",
      "model_name": "IntSliderModel",
      "state": {
       "description": "x1",
       "layout": "IPY_MODEL_f739a770d3d642ff8fb68f06df0a4e15",
       "min": -100,
       "style": "IPY_MODEL_53d35cf702314fa6acd433984401cb05"
      }
     },
     "7975f3519aa5488d8f4544f3926229ea": {
      "model_module": "@jupyter-widgets/controls",
      "model_module_version": "1.0.0",
      "model_name": "SliderStyleModel",
      "state": {
       "description_width": ""
      }
     },
     "798539f121e44a62bf3e83b1816cd28d": {
      "model_module": "@jupyter-widgets/output",
      "model_module_version": "1.0.0",
      "model_name": "OutputModel",
      "state": {
       "layout": "IPY_MODEL_2f826654126b4036bc63c60f245cb8d4"
      }
     },
     "7998e8d5577844d3bf28f31dd064c725": {
      "model_module": "@jupyter-widgets/controls",
      "model_module_version": "1.0.0",
      "model_name": "SliderStyleModel",
      "state": {
       "description_width": ""
      }
     },
     "799dac79b6ad4ddb816b595570a5f807": {
      "model_module": "@jupyter-widgets/controls",
      "model_module_version": "1.0.0",
      "model_name": "TabModel",
      "state": {
       "_titles": {
        "0": "Canvas",
        "1": "Snapshot"
       },
       "children": [
        "IPY_MODEL_cae855fe20e243a782578955cba95947",
        "IPY_MODEL_c3cfffbf5d344c70bde405da1c31e7f0"
       ],
       "layout": "IPY_MODEL_7486f5e5619f4d95ab244e452f2d0b97"
      }
     },
     "79af80ea7bce48508e4ac2360b1a826d": {
      "model_module": "@jupyter-widgets/controls",
      "model_module_version": "1.0.0",
      "model_name": "IntSliderModel",
      "state": {
       "description": "blue",
       "layout": "IPY_MODEL_408c10ccbc734beaba126b8f30975e97",
       "max": 255,
       "style": "IPY_MODEL_4e72ba28cb424d8c83de3ca85bf1b7a4",
       "value": 255
      }
     },
     "79cac0fb030d453395324e9856560dbb": {
      "model_module": "@jupyter-widgets/controls",
      "model_module_version": "1.0.0",
      "model_name": "SliderStyleModel",
      "state": {
       "description_width": ""
      }
     },
     "79cc631e2ea74b14b6d696891885ec6f": {
      "model_module": "jp_proxy_widget",
      "model_module_version": "^0.3.4",
      "model_name": "JSProxyModel",
      "state": {
       "_model_module_version": "^0.3.4",
       "_send_counter": 2646,
       "_view_module_version": "^0.3.4",
       "error_msg": "No error",
       "layout": "IPY_MODEL_556d9d566c4b4d099d582c7fe7b21600",
       "rendered": true,
       "status": "Got results."
      }
     },
     "7ab63f850df5473999c30321403c55c2": {
      "model_module": "@jupyter-widgets/base",
      "model_module_version": "1.0.0",
      "model_name": "LayoutModel",
      "state": {}
     },
     "7abb52453fb04d0087ae7856d04f0512": {
      "model_module": "@jupyter-widgets/controls",
      "model_module_version": "1.0.0",
      "model_name": "IntSliderModel",
      "state": {
       "description": "x",
       "layout": "IPY_MODEL_8222d1ae499f47598b52646611036ddd",
       "min": -100,
       "style": "IPY_MODEL_26bebf5448154bd4b302375d200cc359",
       "value": 23
      }
     },
     "7b166f5e9d214bc3a7a8d21bcfde82de": {
      "model_module": "@jupyter-widgets/base",
      "model_module_version": "1.0.0",
      "model_name": "LayoutModel",
      "state": {}
     },
     "7b22d20645bc461d8e495e5fe8cee6e8": {
      "model_module": "@jupyter-widgets/controls",
      "model_module_version": "1.0.0",
      "model_name": "SliderStyleModel",
      "state": {
       "description_width": ""
      }
     },
     "7b611f35ec414076b82be5e4bf25a275": {
      "model_module": "@jupyter-widgets/controls",
      "model_module_version": "1.0.0",
      "model_name": "SliderStyleModel",
      "state": {
       "description_width": ""
      }
     },
     "7b7d161f386e4e9caad61d54ef813dec": {
      "model_module": "@jupyter-widgets/controls",
      "model_module_version": "1.0.0",
      "model_name": "SliderStyleModel",
      "state": {
       "description_width": ""
      }
     },
     "7b992c1907404d9e849eb907215bacc3": {
      "model_module": "@jupyter-widgets/controls",
      "model_module_version": "1.0.0",
      "model_name": "IntSliderModel",
      "state": {
       "description": "x",
       "layout": "IPY_MODEL_7e342c165ed04353ad60beb0d591ca28",
       "min": -100,
       "style": "IPY_MODEL_c55c69ef0e4f421298649bebcc12e3cb"
      }
     },
     "7bbcb409e9284b17bf0993b8c1a7121f": {
      "model_module": "@jupyter-widgets/base",
      "model_module_version": "1.0.0",
      "model_name": "LayoutModel",
      "state": {}
     },
     "7bc23c6caa9f4946ad4b068af408efc5": {
      "model_module": "@jupyter-widgets/base",
      "model_module_version": "1.0.0",
      "model_name": "LayoutModel",
      "state": {}
     },
     "7c2a06925cff4b30bfe13fd9dab84fad": {
      "model_module": "@jupyter-widgets/controls",
      "model_module_version": "1.0.0",
      "model_name": "IntSliderModel",
      "state": {
       "description": "green",
       "layout": "IPY_MODEL_f5969e5883c14ab6be001748f20fdd9e",
       "max": 255,
       "style": "IPY_MODEL_6f7b901cf4034bb5afc797757f2c228c"
      }
     },
     "7c3418e1e8ca43bab6ef5371bb932f4e": {
      "model_module": "@jupyter-widgets/base",
      "model_module_version": "1.0.0",
      "model_name": "LayoutModel",
      "state": {}
     },
     "7ca0d2b4d83746758ac261bd89f88a25": {
      "model_module": "@jupyter-widgets/controls",
      "model_module_version": "1.0.0",
      "model_name": "IntSliderModel",
      "state": {
       "description": "w",
       "layout": "IPY_MODEL_81c2f7da79fd4fd49d872fde81ce7076",
       "max": 300,
       "min": -300,
       "style": "IPY_MODEL_79cac0fb030d453395324e9856560dbb",
       "value": 100
      }
     },
     "7cabe852dbc24c31acc7c6a7c6d0ede4": {
      "model_module": "@jupyter-widgets/base",
      "model_module_version": "1.0.0",
      "model_name": "LayoutModel",
      "state": {}
     },
     "7cb202cb4d8c432181afd5546536bea2": {
      "model_module": "@jupyter-widgets/base",
      "model_module_version": "1.0.0",
      "model_name": "LayoutModel",
      "state": {}
     },
     "7cc25c3914fc4fd49d9c6389ea6c1b99": {
      "model_module": "@jupyter-widgets/controls",
      "model_module_version": "1.0.0",
      "model_name": "IntSliderModel",
      "state": {
       "description": "red",
       "layout": "IPY_MODEL_c080b133e43c4405baeb5af835bdf0b4",
       "max": 255,
       "style": "IPY_MODEL_bdb7aa20bc444802b7c22332c41550dd",
       "value": 255
      }
     },
     "7ce10ad1ce32441b936aae9ec15573c0": {
      "model_module": "@jupyter-widgets/controls",
      "model_module_version": "1.0.0",
      "model_name": "IntSliderModel",
      "state": {
       "description": "dy",
       "layout": "IPY_MODEL_9aa455474c8941d2ab6401962d0436ee",
       "min": -100,
       "style": "IPY_MODEL_05576f09bc9a40fca38ec2e4b4d5d182",
       "value": -44
      }
     },
     "7cf24ad747244371a6a664cef869c052": {
      "model_module": "@jupyter-widgets/controls",
      "model_module_version": "1.0.0",
      "model_name": "CheckboxModel",
      "state": {
       "description": "fill",
       "disabled": false,
       "layout": "IPY_MODEL_01078b705d2646639e336ba32eab301c",
       "style": "IPY_MODEL_68a88543c485471f815e28bc14dfacaa",
       "value": true
      }
     },
     "7d252896fa97438fafaa084ea4551263": {
      "model_module": "@jupyter-widgets/controls",
      "model_module_version": "1.0.0",
      "model_name": "IntSliderModel",
      "state": {
       "description": "x",
       "layout": "IPY_MODEL_7ef4a4950a524affbfa31ecff5b28191",
       "min": -100,
       "style": "IPY_MODEL_606a3d3081df41feba38cf18d7bb14fb"
      }
     },
     "7d5476f8bf6b4f0992bbff89a775de6c": {
      "model_module": "@jupyter-widgets/base",
      "model_module_version": "1.0.0",
      "model_name": "LayoutModel",
      "state": {}
     },
     "7d5ec6f5e9464f8fa173e1092a4d49ab": {
      "model_module": "@jupyter-widgets/base",
      "model_module_version": "1.0.0",
      "model_name": "LayoutModel",
      "state": {}
     },
     "7d6123cb113747b0bef85cef4f1ec352": {
      "model_module": "@jupyter-widgets/controls",
      "model_module_version": "1.0.0",
      "model_name": "SliderStyleModel",
      "state": {
       "description_width": ""
      }
     },
     "7d61a2ecfa8940c49fe91f32145025b8": {
      "model_module": "@jupyter-widgets/base",
      "model_module_version": "1.0.0",
      "model_name": "LayoutModel",
      "state": {}
     },
     "7d8875bda6b5402284ce4d68d8ddeded": {
      "model_module": "@jupyter-widgets/controls",
      "model_module_version": "1.0.0",
      "model_name": "SliderStyleModel",
      "state": {
       "description_width": ""
      }
     },
     "7dbe734a24c6482da842a3153a324f1b": {
      "model_module": "@jupyter-widgets/controls",
      "model_module_version": "1.0.0",
      "model_name": "SliderStyleModel",
      "state": {
       "description_width": ""
      }
     },
     "7dce7fb0ed0a4d62a8a22b48a5cbbf4f": {
      "model_module": "@jupyter-widgets/base",
      "model_module_version": "1.0.0",
      "model_name": "LayoutModel",
      "state": {}
     },
     "7dcfd29da0aa4e149d06378de6474f21": {
      "model_module": "@jupyter-widgets/base",
      "model_module_version": "1.0.0",
      "model_name": "LayoutModel",
      "state": {}
     },
     "7decb20a2a7849f2abd5225a366b8758": {
      "model_module": "@jupyter-widgets/output",
      "model_module_version": "1.0.0",
      "model_name": "OutputModel",
      "state": {
       "layout": "IPY_MODEL_b0e051589e98426c8122b50e5614bf32",
       "outputs": [
        {
         "ename": "AttributeError",
         "evalue": "'SnapshotCanvas' object has no attribute 'circ'",
         "output_type": "error",
         "traceback": [
          "\u001b[0;31m---------------------------------------------------------------------------\u001b[0m",
          "\u001b[0;31mAttributeError\u001b[0m                            Traceback (most recent call last)",
          "\u001b[0;32m//anaconda/lib/python2.7/site-packages/ipywidgets/widgets/interaction.pyc\u001b[0m in \u001b[0;36mupdate\u001b[0;34m(self, *args)\u001b[0m\n\u001b[1;32m    248\u001b[0m                     \u001b[0mvalue\u001b[0m \u001b[0;34m=\u001b[0m \u001b[0mwidget\u001b[0m\u001b[0;34m.\u001b[0m\u001b[0mget_interact_value\u001b[0m\u001b[0;34m(\u001b[0m\u001b[0;34m)\u001b[0m\u001b[0;34m\u001b[0m\u001b[0m\n\u001b[1;32m    249\u001b[0m                     \u001b[0mself\u001b[0m\u001b[0;34m.\u001b[0m\u001b[0mkwargs\u001b[0m\u001b[0;34m[\u001b[0m\u001b[0mwidget\u001b[0m\u001b[0;34m.\u001b[0m\u001b[0m_kwarg\u001b[0m\u001b[0;34m]\u001b[0m \u001b[0;34m=\u001b[0m \u001b[0mvalue\u001b[0m\u001b[0;34m\u001b[0m\u001b[0m\n\u001b[0;32m--> 250\u001b[0;31m                 \u001b[0mself\u001b[0m\u001b[0;34m.\u001b[0m\u001b[0mresult\u001b[0m \u001b[0;34m=\u001b[0m \u001b[0mself\u001b[0m\u001b[0;34m.\u001b[0m\u001b[0mf\u001b[0m\u001b[0;34m(\u001b[0m\u001b[0;34m**\u001b[0m\u001b[0mself\u001b[0m\u001b[0;34m.\u001b[0m\u001b[0mkwargs\u001b[0m\u001b[0;34m)\u001b[0m\u001b[0;34m\u001b[0m\u001b[0m\n\u001b[0m\u001b[1;32m    251\u001b[0m                 \u001b[0mshow_inline_matplotlib_plots\u001b[0m\u001b[0;34m(\u001b[0m\u001b[0;34m)\u001b[0m\u001b[0;34m\u001b[0m\u001b[0m\n\u001b[1;32m    252\u001b[0m                 \u001b[0;32mif\u001b[0m \u001b[0mself\u001b[0m\u001b[0;34m.\u001b[0m\u001b[0mauto_display\u001b[0m \u001b[0;32mand\u001b[0m \u001b[0mself\u001b[0m\u001b[0;34m.\u001b[0m\u001b[0mresult\u001b[0m \u001b[0;32mis\u001b[0m \u001b[0;32mnot\u001b[0m \u001b[0mNone\u001b[0m\u001b[0;34m:\u001b[0m\u001b[0;34m\u001b[0m\u001b[0m\n",
          "\u001b[0;32m<ipython-input-20-ffaab79665fc>\u001b[0m in \u001b[0;36mchange_rect\u001b[0;34m(x, y, w, h, dx, dy, degrees, fill, lineWidth, red, green, blue, alpha)\u001b[0m\n\u001b[1;32m     22\u001b[0m         \u001b[0mmax_tick_count\u001b[0m\u001b[0;34m=\u001b[0m\u001b[0;36m4\u001b[0m\u001b[0;34m\u001b[0m\u001b[0m\n\u001b[1;32m     23\u001b[0m     )\n\u001b[0;32m---> 24\u001b[0;31m     \u001b[0mcanvas\u001b[0m\u001b[0;34m.\u001b[0m\u001b[0mcirc\u001b[0m\u001b[0;34m(\u001b[0m\u001b[0mx\u001b[0m\u001b[0;34m=\u001b[0m\u001b[0mx\u001b[0m\u001b[0;34m,\u001b[0m \u001b[0my\u001b[0m\u001b[0;34m=\u001b[0m\u001b[0my\u001b[0m\u001b[0;34m,\u001b[0m \u001b[0mr\u001b[0m\u001b[0;34m=\u001b[0m\u001b[0;36m3\u001b[0m\u001b[0;34m,\u001b[0m \u001b[0mcolor\u001b[0m\u001b[0;34m=\u001b[0m\u001b[0;34m\"#999\"\u001b[0m\u001b[0;34m)\u001b[0m\u001b[0;34m\u001b[0m\u001b[0m\n\u001b[0m\u001b[1;32m     25\u001b[0m     \u001b[0mcanvas\u001b[0m\u001b[0;34m.\u001b[0m\u001b[0mfit\u001b[0m\u001b[0;34m(\u001b[0m\u001b[0mNone\u001b[0m\u001b[0;34m,\u001b[0m \u001b[0;36m30\u001b[0m\u001b[0;34m)\u001b[0m\u001b[0;34m\u001b[0m\u001b[0m\n\u001b[1;32m     26\u001b[0m \u001b[0;34m\u001b[0m\u001b[0m\n",
          "\u001b[0;31mAttributeError\u001b[0m: 'SnapshotCanvas' object has no attribute 'circ'"
         ]
        }
       ]
      }
     },
     "7e0639a0150e4c069207dc587e7c9aa9": {
      "model_module": "@jupyter-widgets/controls",
      "model_module_version": "1.0.0",
      "model_name": "VBoxModel",
      "state": {
       "_dom_classes": [
        "widget-interact"
       ],
       "children": [
        "IPY_MODEL_84f194b01c7d4947870a3768583b7eda",
        "IPY_MODEL_f6b47a1edadb42349590fe308656846d",
        "IPY_MODEL_2ee7cc21f0c14506b963356870175365",
        "IPY_MODEL_954dbf7a8672499abc2e626af4121e9d",
        "IPY_MODEL_2176e153306d4c2f97fec51cb7966a91",
        "IPY_MODEL_3937387cd47f47d4bcdf5afaba9058b2",
        "IPY_MODEL_eed400e9520c4ff5bf3a79899ec94a74",
        "IPY_MODEL_3e08496c5a814d1fb64c034a3b7731f1",
        "IPY_MODEL_f1561fefefa14c829ed03553534205e2",
        "IPY_MODEL_711a1218934c420086dbd7d1e0213641",
        "IPY_MODEL_c0bf9646213642e3a7606a9101d27e3a",
        "IPY_MODEL_3e0f8127177d425586eb6faea6914232"
       ],
       "layout": "IPY_MODEL_173596b0295e4d1b91a6befc2cf6282c"
      }
     },
     "7e14317e98e84687ae40df82bac5d903": {
      "model_module": "@jupyter-widgets/controls",
      "model_module_version": "1.0.0",
      "model_name": "IntSliderModel",
      "state": {
       "description": "h",
       "layout": "IPY_MODEL_f74e296d54f6479d9c30cecede702738",
       "max": 300,
       "min": -300,
       "style": "IPY_MODEL_7e63a45dd5254f62957729eb85750934",
       "value": 50
      }
     },
     "7e33c3c5c64f492da0732863c8f73828": {
      "model_module": "@jupyter-widgets/base",
      "model_module_version": "1.0.0",
      "model_name": "LayoutModel",
      "state": {}
     },
     "7e342c165ed04353ad60beb0d591ca28": {
      "model_module": "@jupyter-widgets/base",
      "model_module_version": "1.0.0",
      "model_name": "LayoutModel",
      "state": {}
     },
     "7e3f6f144840474e8d63baf2c2fe32e8": {
      "model_module": "@jupyter-widgets/base",
      "model_module_version": "1.0.0",
      "model_name": "LayoutModel",
      "state": {}
     },
     "7e51d38002b54e0ebd18f159f4d7e26e": {
      "model_module": "@jupyter-widgets/output",
      "model_module_version": "1.0.0",
      "model_name": "OutputModel",
      "state": {
       "layout": "IPY_MODEL_1c26820a71af4bde8fef972fedbad611"
      }
     },
     "7e566cc251284e0bb94dffc041f96e04": {
      "model_module": "@jupyter-widgets/base",
      "model_module_version": "1.0.0",
      "model_name": "LayoutModel",
      "state": {}
     },
     "7e63a45dd5254f62957729eb85750934": {
      "model_module": "@jupyter-widgets/controls",
      "model_module_version": "1.0.0",
      "model_name": "SliderStyleModel",
      "state": {
       "description_width": ""
      }
     },
     "7ea80488a7b34816b242c0d957f00d1c": {
      "model_module": "@jupyter-widgets/base",
      "model_module_version": "1.0.0",
      "model_name": "LayoutModel",
      "state": {}
     },
     "7eacc4a310c44d019d0bba76fb4fe95b": {
      "model_module": "@jupyter-widgets/controls",
      "model_module_version": "1.0.0",
      "model_name": "IntSliderModel",
      "state": {
       "description": "h",
       "layout": "IPY_MODEL_394f2987ee704c2eb5eeaf069b97d63e",
       "max": 300,
       "min": -300,
       "style": "IPY_MODEL_f4c3a3b84145476bb7e6150669bec128",
       "value": 50
      }
     },
     "7eaeb7c5920f435588729901cb57c06f": {
      "model_module": "jp_proxy_widget",
      "model_module_version": "^0.3.4",
      "model_name": "JSProxyModel",
      "state": {
       "_model_module_version": "^0.3.4",
       "_send_counter": 2,
       "_view_module_version": "^0.3.4",
       "error_msg": "No error",
       "layout": "IPY_MODEL_eb72982bceaf41dd8151e96f31b53171",
       "rendered": true,
       "status": "Got results."
      }
     },
     "7ebd3ea6b73a4f77a2dcd36cbfcf4bfc": {
      "model_module": "@jupyter-widgets/controls",
      "model_module_version": "1.0.0",
      "model_name": "SliderStyleModel",
      "state": {
       "description_width": ""
      }
     },
     "7ec268b6b17748918e24f610fa8443c8": {
      "model_module": "@jupyter-widgets/base",
      "model_module_version": "1.0.0",
      "model_name": "LayoutModel",
      "state": {}
     },
     "7ec3cf33ab24484b88846d75c87ee552": {
      "model_module": "@jupyter-widgets/base",
      "model_module_version": "1.0.0",
      "model_name": "LayoutModel",
      "state": {}
     },
     "7ec85661d6544abb85c44a221e1bdeb7": {
      "model_module": "@jupyter-widgets/controls",
      "model_module_version": "1.0.0",
      "model_name": "IntSliderModel",
      "state": {
       "description": "green",
       "layout": "IPY_MODEL_3df3d86594924680a5fd244a0849e541",
       "max": 255,
       "style": "IPY_MODEL_2e6d683ed79440b9bcf9f1a3d107c32a",
       "value": 127
      }
     },
     "7ee482a8eaaa4862b3ebc526ca3efde0": {
      "model_module": "@jupyter-widgets/controls",
      "model_module_version": "1.0.0",
      "model_name": "SliderStyleModel",
      "state": {
       "description_width": ""
      }
     },
     "7ee698d3b8304050a06a08de9976e278": {
      "model_module": "@jupyter-widgets/controls",
      "model_module_version": "1.0.0",
      "model_name": "SliderStyleModel",
      "state": {
       "description_width": ""
      }
     },
     "7ef4a4950a524affbfa31ecff5b28191": {
      "model_module": "@jupyter-widgets/base",
      "model_module_version": "1.0.0",
      "model_name": "LayoutModel",
      "state": {}
     },
     "7ef7d494d49340799b56de3cec702d9c": {
      "model_module": "@jupyter-widgets/controls",
      "model_module_version": "1.0.0",
      "model_name": "SliderStyleModel",
      "state": {
       "description_width": ""
      }
     },
     "7f1d2fb58b5a47aea7d0060e9f986063": {
      "model_module": "@jupyter-widgets/controls",
      "model_module_version": "1.0.0",
      "model_name": "SliderStyleModel",
      "state": {
       "description_width": ""
      }
     },
     "7f52fbe106d34d4fb2c991b17afaa1ab": {
      "model_module": "@jupyter-widgets/base",
      "model_module_version": "1.0.0",
      "model_name": "LayoutModel",
      "state": {}
     },
     "7f5bad85f6684b73b87c93391d454514": {
      "model_module": "@jupyter-widgets/base",
      "model_module_version": "1.0.0",
      "model_name": "LayoutModel",
      "state": {}
     },
     "7f606e287dd7473e81505e79346abeb3": {
      "model_module": "@jupyter-widgets/controls",
      "model_module_version": "1.0.0",
      "model_name": "IntSliderModel",
      "state": {
       "description": "dx",
       "layout": "IPY_MODEL_d1f1e07bd9d247cfbf32db3951c9e4a0",
       "min": -100,
       "style": "IPY_MODEL_f815b2710c114a04baaf46c85e440583",
       "value": -50
      }
     },
     "7fac70abfe8044c6b8d6fd23f0342eae": {
      "model_module": "@jupyter-widgets/controls",
      "model_module_version": "1.0.0",
      "model_name": "FloatSliderModel",
      "state": {
       "description": "alpha",
       "layout": "IPY_MODEL_20ba679bfe5d4b71b7fd081df1d2dda2",
       "max": 1,
       "step": 0.1,
       "style": "IPY_MODEL_1c0672dafec54c2ab201a0f37c7a9616",
       "value": 1
      }
     },
     "7facc299cfc34269b8bc09ecf238e4a6": {
      "model_module": "@jupyter-widgets/base",
      "model_module_version": "1.0.0",
      "model_name": "LayoutModel",
      "state": {}
     },
     "7fc028dcfb1045048e2a8f12a6fdd82b": {
      "model_module": "@jupyter-widgets/base",
      "model_module_version": "1.0.0",
      "model_name": "LayoutModel",
      "state": {}
     },
     "7fdc6cc7737c4e5cbf198155c702e7f2": {
      "model_module": "@jupyter-widgets/controls",
      "model_module_version": "1.0.0",
      "model_name": "FloatSliderModel",
      "state": {
       "description": "start",
       "layout": "IPY_MODEL_dd90881f2b41455cb3bf36652bd2b063",
       "max": 6.383185307179586,
       "step": 0.1,
       "style": "IPY_MODEL_18d30b04854c48728cb1a2fdb9de96d9"
      }
     },
     "7ff11d080f144ca78b16c15eae3486f9": {
      "model_module": "@jupyter-widgets/base",
      "model_module_version": "1.0.0",
      "model_name": "LayoutModel",
      "state": {}
     },
     "803f177e28c54ea09474f695f83e2704": {
      "model_module": "@jupyter-widgets/base",
      "model_module_version": "1.0.0",
      "model_name": "LayoutModel",
      "state": {}
     },
     "80498fd3416645f989fa62a8e035ab7c": {
      "model_module": "@jupyter-widgets/controls",
      "model_module_version": "1.0.0",
      "model_name": "VBoxModel",
      "state": {
       "_dom_classes": [
        "widget-interact"
       ],
       "children": [
        "IPY_MODEL_934480c99bfc4e75a13efb7372109e9e",
        "IPY_MODEL_3d21df8e29bd46e5b2c5c65bfdc7be05",
        "IPY_MODEL_80910a45a3094b82a77c92f7b354f392",
        "IPY_MODEL_1ae993e3901145b28b24636a531e39de",
        "IPY_MODEL_2f46fb6da2b94ff6889866d57e844574",
        "IPY_MODEL_cb27cfbd809f4c28b409728ef3943a9e",
        "IPY_MODEL_f9115cd814a4459792918ce9d0c592af",
        "IPY_MODEL_0525bd700c3c4877bff059112338f5e8",
        "IPY_MODEL_4afc9f6b2965496b8c4aa6f3d4e2a0ac",
        "IPY_MODEL_908f2b28926d41f7bb86e9fb834caada",
        "IPY_MODEL_15a63fb211784a52a4afb2f11d15e123",
        "IPY_MODEL_70fa1f14384541f9990d724beaa7ba1e"
       ],
       "layout": "IPY_MODEL_37c6920ec2fb4dad8b23464d673ec94c"
      }
     },
     "805ef17e775242b8830f482604bae8f0": {
      "model_module": "@jupyter-widgets/controls",
      "model_module_version": "1.0.0",
      "model_name": "VBoxModel",
      "state": {
       "_dom_classes": [
        "widget-interact"
       ],
       "children": [
        "IPY_MODEL_91bc1f0aaf02481cb3a0eff7cc8ea21c",
        "IPY_MODEL_98b82d10bc104fa59712193683dcd63f",
        "IPY_MODEL_2a4d5eee08884a65bb98f2f774f3ebe3",
        "IPY_MODEL_d5a2e57cb6b94e65b8a9f1ff2e57ede3",
        "IPY_MODEL_98694341a05544a3b283250f79b6c93a",
        "IPY_MODEL_bf836dc6e341494c84dbd6bf776bf844",
        "IPY_MODEL_7c2a06925cff4b30bfe13fd9dab84fad",
        "IPY_MODEL_a7fe19671d3d48a887edf292ca9feeca",
        "IPY_MODEL_342e460cee784520b610e5554c32ea9f",
        "IPY_MODEL_6a7ec45aa5ae461abe59d0ba8fc42c98"
       ],
       "layout": "IPY_MODEL_3e43b5dbec0e422d9f99a7f3f56e6c17"
      }
     },
     "8066fc14cc64474a9e20bfc532243f96": {
      "model_module": "@jupyter-widgets/controls",
      "model_module_version": "1.0.0",
      "model_name": "SliderStyleModel",
      "state": {
       "description_width": ""
      }
     },
     "806c33d3ac9149e8a2b8b9d5cfc127cb": {
      "model_module": "jp_proxy_widget",
      "model_module_version": "^0.3.4",
      "model_name": "JSProxyModel",
      "state": {
       "_model_module_version": "^0.3.4",
       "_send_counter": 1436,
       "_view_module_version": "^0.3.4",
       "error_msg": "No error",
       "layout": "IPY_MODEL_681279e9c03e455c9d01ebdfc85eb524",
       "rendered": true,
       "status": "Got results."
      }
     },
     "807e39d5b37542359a5f272bdbd05715": {
      "model_module": "@jupyter-widgets/base",
      "model_module_version": "1.0.0",
      "model_name": "LayoutModel",
      "state": {}
     },
     "80828539fecd44cabeaece7134eb7eb8": {
      "model_module": "@jupyter-widgets/controls",
      "model_module_version": "1.0.0",
      "model_name": "IntSliderModel",
      "state": {
       "description": "dy",
       "layout": "IPY_MODEL_3c14499fc91d425eb47cc2fe077a5cc0",
       "min": -100,
       "style": "IPY_MODEL_c6a705628f7b4bd3a58d6fa4dd7c5761",
       "value": -12
      }
     },
     "808583d75fc84ac3ac6d49ac3e523722": {
      "model_module": "@jupyter-widgets/controls",
      "model_module_version": "1.0.0",
      "model_name": "IntSliderModel",
      "state": {
       "description": "w",
       "layout": "IPY_MODEL_5bd59eb981634666817c32ff405d8373",
       "max": 300,
       "min": -300,
       "style": "IPY_MODEL_a6d069049d974f4086d1b78e62383f1b",
       "value": 100
      }
     },
     "80910a45a3094b82a77c92f7b354f392": {
      "model_module": "@jupyter-widgets/controls",
      "model_module_version": "1.0.0",
      "model_name": "IntSliderModel",
      "state": {
       "description": "w",
       "layout": "IPY_MODEL_0b97ea9234934a809d86a1b4bff6ff19",
       "max": 300,
       "min": -300,
       "style": "IPY_MODEL_397ba3b3105743ca9da3ba4eb69e4d62",
       "value": 216
      }
     },
     "809cd9430f9a43eca3ea6dc5ea5af127": {
      "model_module": "@jupyter-widgets/controls",
      "model_module_version": "1.0.0",
      "model_name": "IntSliderModel",
      "state": {
       "description": "red",
       "layout": "IPY_MODEL_531ae58512f94b9998d8ed8759418349",
       "max": 255,
       "style": "IPY_MODEL_0fe6f8f30ef94655830193d419e41e25",
       "value": 255
      }
     },
     "80e2d7a7d8ff47e6bc334173deae823d": {
      "model_module": "@jupyter-widgets/base",
      "model_module_version": "1.0.0",
      "model_name": "LayoutModel",
      "state": {}
     },
     "80e542f23d584f8eb8a698eea1891413": {
      "model_module": "@jupyter-widgets/base",
      "model_module_version": "1.0.0",
      "model_name": "LayoutModel",
      "state": {}
     },
     "81003e64eda141608d83a58d16225ba8": {
      "model_module": "@jupyter-widgets/base",
      "model_module_version": "1.0.0",
      "model_name": "LayoutModel",
      "state": {}
     },
     "8124f86ca2ad4838924995068dee860c": {
      "model_module": "@jupyter-widgets/controls",
      "model_module_version": "1.0.0",
      "model_name": "VBoxModel",
      "state": {
       "_dom_classes": [
        "widget-interact"
       ],
       "children": [
        "IPY_MODEL_445a1d207a3f424dbc83d5dcae542144",
        "IPY_MODEL_a7710192fd874c38927a02c6f9c89831",
        "IPY_MODEL_055989d265f64cf991290bd78be7324d",
        "IPY_MODEL_7072fd63f11f4373be2bee31ae07ae78",
        "IPY_MODEL_016987adc58d4baaa310d23a98c0b766",
        "IPY_MODEL_6f386e0aa2ac4cf0b7ec8fa4d9f574a1",
        "IPY_MODEL_667d364091a84344a308a6f005a68833",
        "IPY_MODEL_9bbe5e52d3464f0191fc603a85613959",
        "IPY_MODEL_38f3bfd5549d46aa81d0ccf9f4895674",
        "IPY_MODEL_da870b321611401ea27683c1a9622451"
       ],
       "layout": "IPY_MODEL_ab3c247325834dab8dc31571248aff4a"
      }
     },
     "813ee9d0f1c5434591c30f50d498c48d": {
      "model_module": "@jupyter-widgets/controls",
      "model_module_version": "1.0.0",
      "model_name": "HTMLModel",
      "state": {
       "layout": "IPY_MODEL_ffceb71bc89f49c5ab790f1587748f36",
       "style": "IPY_MODEL_b91ef243e3be43ecb2f67c2b53ff570e",
       "value": "<img src=\"interactive_circle.png\" id=\"snapshot_id_13_1536246460244\"/>\n <div id=\"snapshot_id_14_1536246460244\">interactive_circle.png</div>"
      }
     },
     "8142417d674540de833028324adc982c": {
      "model_module": "@jupyter-widgets/controls",
      "model_module_version": "1.0.0",
      "model_name": "SliderStyleModel",
      "state": {
       "description_width": ""
      }
     },
     "8186e88363564f80a0f8067a6588ef13": {
      "model_module": "@jupyter-widgets/controls",
      "model_module_version": "1.0.0",
      "model_name": "IntSliderModel",
      "state": {
       "description": "lineWidth",
       "layout": "IPY_MODEL_80e2d7a7d8ff47e6bc334173deae823d",
       "max": 20,
       "style": "IPY_MODEL_0d8ef70c113a406e9d845bd05d245abc",
       "value": 3
      }
     },
     "81c2f7da79fd4fd49d872fde81ce7076": {
      "model_module": "@jupyter-widgets/base",
      "model_module_version": "1.0.0",
      "model_name": "LayoutModel",
      "state": {}
     },
     "8222d1ae499f47598b52646611036ddd": {
      "model_module": "@jupyter-widgets/base",
      "model_module_version": "1.0.0",
      "model_name": "LayoutModel",
      "state": {}
     },
     "822c24f8b03f4fc59bd8557707eacd48": {
      "model_module": "@jupyter-widgets/controls",
      "model_module_version": "1.0.0",
      "model_name": "TabModel",
      "state": {
       "_titles": {
        "0": "Canvas",
        "1": "Snapshot"
       },
       "children": [
        "IPY_MODEL_10d5d358ab884c8b971ff2fc7ce1d2eb",
        "IPY_MODEL_0bbcabd308a7424bafc46ff827ea4800"
       ],
       "layout": "IPY_MODEL_a56dbd51571a41dcb6f156dd7c62b8be"
      }
     },
     "82550c0b4893422f83ae1c27ff2e7ce8": {
      "model_module": "@jupyter-widgets/controls",
      "model_module_version": "1.0.0",
      "model_name": "VBoxModel",
      "state": {
       "_dom_classes": [
        "widget-interact"
       ],
       "children": [
        "IPY_MODEL_b3ff48d0c76f4ff2b104a3fc1f6ce8ec",
        "IPY_MODEL_2bd99a6bd36b40e19e167a9293c1a31f",
        "IPY_MODEL_fdf2b1be9bf445b5a1c4e757ac5b3c39",
        "IPY_MODEL_e679f8c5e4e748afbc972c0df7f2f78c",
        "IPY_MODEL_c32ed8e68ab940a3974a9d7dc2686797",
        "IPY_MODEL_8d257c83ce064230b8be6ac6b939a94b",
        "IPY_MODEL_8409c9c64ac746589c0e39f5a677f87c",
        "IPY_MODEL_7cf24ad747244371a6a664cef869c052",
        "IPY_MODEL_dc7a50006e0f4c8282437f87cfde3f62",
        "IPY_MODEL_d66e4b88c77846a1847dd5f6177fe23b",
        "IPY_MODEL_9f3466cd81c74af98e92abbeac77c88c",
        "IPY_MODEL_1e39f0d12b8b4afabd8fd2ef38b8c0d7",
        "IPY_MODEL_ca59becc1eaf462f8eaad9afa1347757",
        "IPY_MODEL_32d5076fab904baabf6f9a2defb1d202"
       ],
       "layout": "IPY_MODEL_b5b3c28324074fd59e3fdb0f245ac68a"
      }
     },
     "82cc904349994e94b91cdbbcf798069c": {
      "model_module": "@jupyter-widgets/controls",
      "model_module_version": "1.0.0",
      "model_name": "DescriptionStyleModel",
      "state": {
       "description_width": ""
      }
     },
     "82e01ea203ce46c7bc169066dd696bad": {
      "model_module": "@jupyter-widgets/controls",
      "model_module_version": "1.0.0",
      "model_name": "IntSliderModel",
      "state": {
       "description": "blue",
       "layout": "IPY_MODEL_3d813c61c9b34388a1c497d44f887b4a",
       "max": 255,
       "style": "IPY_MODEL_9362d7362e49489fbba6c75b8401a937",
       "value": 127
      }
     },
     "83779faaf30b4ba3934a82e904a369ab": {
      "model_module": "jp_proxy_widget",
      "model_module_version": "^0.3.4",
      "model_name": "JSProxyModel",
      "state": {
       "_model_module_version": "^0.3.4",
       "_send_counter": 2,
       "_view_module_version": "^0.3.4",
       "error_msg": "No error",
       "layout": "IPY_MODEL_41232876897e45c7b89c8a978fc7a5d8",
       "rendered": true,
       "status": "call back to <function callback_function at 0x105b896e0>"
      }
     },
     "83bca31eff7f4e37a09cd3e6890e39d7": {
      "model_module": "@jupyter-widgets/base",
      "model_module_version": "1.0.0",
      "model_name": "LayoutModel",
      "state": {}
     },
     "83f729da62b249389c6b5cb28d6b9079": {
      "model_module": "jp_proxy_widget",
      "model_module_version": "^0.3.4",
      "model_name": "JSProxyModel",
      "state": {
       "_model_module_version": "^0.3.4",
       "_send_counter": 6,
       "_view_module_version": "^0.3.4",
       "error_msg": "No error",
       "layout": "IPY_MODEL_38de2859c2a64b2db04b4fa2ac890c20",
       "rendered": true,
       "status": "Got results."
      }
     },
     "8409c9c64ac746589c0e39f5a677f87c": {
      "model_module": "@jupyter-widgets/controls",
      "model_module_version": "1.0.0",
      "model_name": "IntSliderModel",
      "state": {
       "description": "degrees",
       "layout": "IPY_MODEL_8ae3e4b4649343a0858f7c89f6934f0b",
       "max": 360,
       "min": -360,
       "style": "IPY_MODEL_071db224102a43ea88cf25df7b21e318"
      }
     },
     "841974ce7e044120bd782f63a01aa66b": {
      "model_module": "@jupyter-widgets/controls",
      "model_module_version": "1.0.0",
      "model_name": "SliderStyleModel",
      "state": {
       "description_width": ""
      }
     },
     "8431d3e46d244224bc51e879cc4f5e5a": {
      "model_module": "@jupyter-widgets/base",
      "model_module_version": "1.0.0",
      "model_name": "LayoutModel",
      "state": {}
     },
     "843a3cb437b04c11882cbc073f7b822e": {
      "model_module": "@jupyter-widgets/base",
      "model_module_version": "1.0.0",
      "model_name": "LayoutModel",
      "state": {}
     },
     "84776cacdb0c4316bf3eb07e8892d6d0": {
      "model_module": "@jupyter-widgets/controls",
      "model_module_version": "1.0.0",
      "model_name": "SliderStyleModel",
      "state": {
       "description_width": ""
      }
     },
     "848ca7aae6e04cd18dee9e9bf9e4ccc8": {
      "model_module": "@jupyter-widgets/base",
      "model_module_version": "1.0.0",
      "model_name": "LayoutModel",
      "state": {}
     },
     "84d6d3c7907546458b117d36029f606d": {
      "model_module": "@jupyter-widgets/controls",
      "model_module_version": "1.0.0",
      "model_name": "VBoxModel",
      "state": {
       "children": [
        "IPY_MODEL_16f23b808e804397bdda82e8380dedc4",
        "IPY_MODEL_eda86c9aad7a48f09c0264dc65fe9778"
       ],
       "layout": "IPY_MODEL_bc6d72ec6e3c455d984996770c60f6df"
      }
     },
     "84f194b01c7d4947870a3768583b7eda": {
      "model_module": "@jupyter-widgets/controls",
      "model_module_version": "1.0.0",
      "model_name": "IntSliderModel",
      "state": {
       "description": "x",
       "layout": "IPY_MODEL_06244012558b45759158f59041a9bd3c",
       "min": -100,
       "style": "IPY_MODEL_4b25c59894064cc8ae6544a6d9d773e1",
       "value": 23
      }
     },
     "8515f031c10a4329ab9ad88eb373fb8a": {
      "model_module": "@jupyter-widgets/controls",
      "model_module_version": "1.0.0",
      "model_name": "SliderStyleModel",
      "state": {
       "description_width": ""
      }
     },
     "85220fa1498145299948a92bcc54cb21": {
      "model_module": "@jupyter-widgets/controls",
      "model_module_version": "1.0.0",
      "model_name": "SliderStyleModel",
      "state": {
       "description_width": ""
      }
     },
     "852a0e2337244d8eb395136ec6aa2fe6": {
      "model_module": "@jupyter-widgets/controls",
      "model_module_version": "1.0.0",
      "model_name": "IntSliderModel",
      "state": {
       "description": "red",
       "layout": "IPY_MODEL_7f5bad85f6684b73b87c93391d454514",
       "max": 255,
       "style": "IPY_MODEL_d2660cc3be694b73b15f200e20384739",
       "value": 219
      }
     },
     "8537e06fad374f5da60b58bb29bb53bb": {
      "model_module": "@jupyter-widgets/controls",
      "model_module_version": "1.0.0",
      "model_name": "SliderStyleModel",
      "state": {
       "description_width": ""
      }
     },
     "853ca156af7b460f8c762327496bfe5c": {
      "model_module": "@jupyter-widgets/base",
      "model_module_version": "1.0.0",
      "model_name": "LayoutModel",
      "state": {}
     },
     "857efc66b94d4f9480f383c567404de4": {
      "model_module": "@jupyter-widgets/controls",
      "model_module_version": "1.0.0",
      "model_name": "VBoxModel",
      "state": {
       "_dom_classes": [
        "widget-interact"
       ],
       "children": [
        "IPY_MODEL_cc7b403341ba40bc88fc001a317f0d91",
        "IPY_MODEL_f7c994458fa34135a1c306a91053c617",
        "IPY_MODEL_f9128485ea0740f5b534a29ecfc3d87a",
        "IPY_MODEL_49fbf872b4f14515a8ebfc2bc4440f0a",
        "IPY_MODEL_9d0f8948576f47bba77e751e848148b2",
        "IPY_MODEL_720944a2fcfc45b493d963d41317271b",
        "IPY_MODEL_8186e88363564f80a0f8067a6588ef13",
        "IPY_MODEL_d0887bb28339491099f8a29d80d04de5",
        "IPY_MODEL_fbacfc3ceee1477a99901563054f35c6",
        "IPY_MODEL_13c4018925354b7d85fb02998ea8d51e",
        "IPY_MODEL_d5ba70ed6b704761b746ea3db23d7b0e",
        "IPY_MODEL_c7d698191ca8416baefb2f883cacde9c"
       ],
       "layout": "IPY_MODEL_358f1175ab3648ce9c52857012a82dff"
      }
     },
     "85859efc12234c86a926c5915a663aa7": {
      "model_module": "@jupyter-widgets/controls",
      "model_module_version": "1.0.0",
      "model_name": "IntSliderModel",
      "state": {
       "description": "green",
       "layout": "IPY_MODEL_e3a27991e36c432ca73ed49b734ca438",
       "max": 255,
       "style": "IPY_MODEL_e7f79859af144c03b56503b8f391dad1",
       "value": 255
      }
     },
     "85c5807edfaa447caf02d4471ee47094": {
      "model_module": "@jupyter-widgets/controls",
      "model_module_version": "1.0.0",
      "model_name": "SliderStyleModel",
      "state": {
       "description_width": ""
      }
     },
     "85ef07fdd58b4d7b91dec99126643aff": {
      "model_module": "@jupyter-widgets/controls",
      "model_module_version": "1.0.0",
      "model_name": "VBoxModel",
      "state": {
       "children": [
        "IPY_MODEL_79cc631e2ea74b14b6d696891885ec6f",
        "IPY_MODEL_8bb4c379e71a4f56939bcfbf54223036"
       ],
       "layout": "IPY_MODEL_d2e26a0c4b104027b0140a2843718a61"
      }
     },
     "862715dc7b7642448662c1ca6b52be42": {
      "model_module": "@jupyter-widgets/controls",
      "model_module_version": "1.0.0",
      "model_name": "SliderStyleModel",
      "state": {
       "description_width": ""
      }
     },
     "8627d22ab35f47b4a864ea88f67bac25": {
      "model_module": "@jupyter-widgets/controls",
      "model_module_version": "1.0.0",
      "model_name": "IntSliderModel",
      "state": {
       "description": "h",
       "layout": "IPY_MODEL_32108ab90f2349d783435c79410aa218",
       "max": 300,
       "min": -300,
       "style": "IPY_MODEL_2a7e3bcd806d4c73bf90412c6c35699f",
       "value": 50
      }
     },
     "86495dfee716480995bde7d3c1780017": {
      "model_module": "@jupyter-widgets/base",
      "model_module_version": "1.0.0",
      "model_name": "LayoutModel",
      "state": {}
     },
     "8667c675b4af4b1997d35b2cfea2ffb7": {
      "model_module": "@jupyter-widgets/controls",
      "model_module_version": "1.0.0",
      "model_name": "IntSliderModel",
      "state": {
       "description": "y2",
       "layout": "IPY_MODEL_bb83c039a0174e9f9e9fefc7111bcd7a",
       "min": -100,
       "style": "IPY_MODEL_1e56a5d8063745c0b2b085eb32b96ae4",
       "value": -100
      }
     },
     "86aaadec64f648d3a6b6bbd2535bf776": {
      "model_module": "@jupyter-widgets/controls",
      "model_module_version": "1.0.0",
      "model_name": "IntSliderModel",
      "state": {
       "description": "red",
       "layout": "IPY_MODEL_5814e6229cce45fc9b5bb6063b7caec8",
       "max": 255,
       "style": "IPY_MODEL_39cb24a05bcf4055ae6e74f44d1b77bb",
       "value": 179
      }
     },
     "86c35f9699ae467b8db928ca74dba34a": {
      "model_module": "@jupyter-widgets/controls",
      "model_module_version": "1.0.0",
      "model_name": "IntSliderModel",
      "state": {
       "description": "red",
       "layout": "IPY_MODEL_78733a24202b44f3b50528af4ab33b95",
       "max": 255,
       "style": "IPY_MODEL_8066fc14cc64474a9e20bfc532243f96",
       "value": 187
      }
     },
     "86d78f77ed4c48d6b572271895385d14": {
      "model_module": "@jupyter-widgets/base",
      "model_module_version": "1.0.0",
      "model_name": "LayoutModel",
      "state": {}
     },
     "871158a48674414c892bdf4162fa86f1": {
      "model_module": "@jupyter-widgets/controls",
      "model_module_version": "1.0.0",
      "model_name": "TabModel",
      "state": {
       "_titles": {
        "0": "Canvas",
        "1": "Snapshot"
       },
       "children": [
        "IPY_MODEL_220d7a6577b747cf8020e694eaacc517",
        "IPY_MODEL_b817b6fecc4d432585969e2335f72d05"
       ],
       "layout": "IPY_MODEL_0e8c2fd6ecf64207855b47f5058b8346"
      }
     },
     "872a15b914ca4d62a4a9abbf76b3a45d": {
      "model_module": "@jupyter-widgets/controls",
      "model_module_version": "1.0.0",
      "model_name": "SliderStyleModel",
      "state": {
       "description_width": ""
      }
     },
     "874285e201fa4a3a91eaa9a00f0c449c": {
      "model_module": "@jupyter-widgets/controls",
      "model_module_version": "1.0.0",
      "model_name": "IntSliderModel",
      "state": {
       "description": "dx",
       "layout": "IPY_MODEL_bc45813443e745539ea6c80e797ea3ba",
       "min": -100,
       "style": "IPY_MODEL_b3a54178d86746b7a5c65be4281a7a09",
       "value": -50
      }
     },
     "87e0fb16f13b41a8a808d9a2ed43a3b7": {
      "model_module": "@jupyter-widgets/controls",
      "model_module_version": "1.0.0",
      "model_name": "IntSliderModel",
      "state": {
       "description": "blue",
       "layout": "IPY_MODEL_13563a364b374ca2b69630ec7090f0c0",
       "max": 255,
       "style": "IPY_MODEL_8d929fea6d68492eb78c7fd09d8fbc1b",
       "value": 255
      }
     },
     "87edfca9283c4b6da3d0095ca17687ce": {
      "model_module": "@jupyter-widgets/controls",
      "model_module_version": "1.0.0",
      "model_name": "FloatSliderModel",
      "state": {
       "description": "alpha",
       "layout": "IPY_MODEL_c93a4a07dc114e9a8e7200d9bb1b84a7",
       "max": 1,
       "step": 0.1,
       "style": "IPY_MODEL_c6902fa287be47dcb8f3cef19c803b3f",
       "value": 1
      }
     },
     "87ee05369c03491495514468a1f10b27": {
      "model_module": "@jupyter-widgets/controls",
      "model_module_version": "1.0.0",
      "model_name": "SliderStyleModel",
      "state": {
       "description_width": ""
      }
     },
     "880dc605687e47f199c75971178a1bf9": {
      "model_module": "@jupyter-widgets/controls",
      "model_module_version": "1.0.0",
      "model_name": "IntSliderModel",
      "state": {
       "description": "x",
       "layout": "IPY_MODEL_3dce779d871c4269adb9173511b2df5a",
       "min": -100,
       "style": "IPY_MODEL_5f7284fceea0493e953211c6dad98176"
      }
     },
     "88352f4c399d4fd0bdd7436f2b9e2e8e": {
      "model_module": "@jupyter-widgets/controls",
      "model_module_version": "1.0.0",
      "model_name": "SliderStyleModel",
      "state": {
       "description_width": ""
      }
     },
     "8855f0d6bf664ebe9107ae431a1f578e": {
      "model_module": "@jupyter-widgets/base",
      "model_module_version": "1.0.0",
      "model_name": "LayoutModel",
      "state": {}
     },
     "88761024531d4828b6f17bdeb1fbd651": {
      "model_module": "@jupyter-widgets/controls",
      "model_module_version": "1.0.0",
      "model_name": "IntSliderModel",
      "state": {
       "description": "h",
       "layout": "IPY_MODEL_03236a0df9f948cab8d472e8d40ab507",
       "max": 300,
       "min": -300,
       "style": "IPY_MODEL_3ff3ef1421c4477782a3f54432015a95",
       "value": 50
      }
     },
     "889d5e1c1bf8499e850e275b0e907c79": {
      "model_module": "@jupyter-widgets/controls",
      "model_module_version": "1.0.0",
      "model_name": "SliderStyleModel",
      "state": {
       "description_width": ""
      }
     },
     "88a2e015194342349aa13153256390c5": {
      "model_module": "@jupyter-widgets/controls",
      "model_module_version": "1.0.0",
      "model_name": "IntSliderModel",
      "state": {
       "description": "red",
       "layout": "IPY_MODEL_1e21103892174eb2b5ee60b0f38442d7",
       "max": 255,
       "style": "IPY_MODEL_ed6fa61031cb42c99fa1bb1798922ec4",
       "value": 127
      }
     },
     "88c822b822ac456c8c9a541824b95360": {
      "model_module": "@jupyter-widgets/controls",
      "model_module_version": "1.0.0",
      "model_name": "VBoxModel",
      "state": {
       "children": [
        "IPY_MODEL_c1f9ef91a3854f2788cb95494958537f",
        "IPY_MODEL_91aafad6d429405da1bb6a612e124427"
       ],
       "layout": "IPY_MODEL_6bcdaa4b5c6a45e7821fcb8b29e2f51a"
      }
     },
     "890a4c79450a41178b3d849094e6a4d2": {
      "model_module": "@jupyter-widgets/controls",
      "model_module_version": "1.0.0",
      "model_name": "IntSliderModel",
      "state": {
       "description": "blue",
       "layout": "IPY_MODEL_8c5ff5058d4e49d0bf73af06bf3dc160",
       "max": 255,
       "style": "IPY_MODEL_5300c2c95e8d4e2a83415581c598f82d",
       "value": 255
      }
     },
     "89298f083eea49699950dd6aabb5e4d0": {
      "model_module": "jp_proxy_widget",
      "model_module_version": "^0.3.4",
      "model_name": "JSProxyModel",
      "state": {
       "_model_module_version": "^0.3.4",
       "_send_counter": 2,
       "_view_module_version": "^0.3.4",
       "error_msg": "No error",
       "layout": "IPY_MODEL_5dffa2baa6f1413b999e413091b424c9",
       "rendered": true,
       "status": "Got results."
      }
     },
     "8931306267154b1f9030a35620922ea0": {
      "model_module": "@jupyter-widgets/controls",
      "model_module_version": "1.0.0",
      "model_name": "DescriptionStyleModel",
      "state": {
       "description_width": ""
      }
     },
     "8979199eeae046aaa0ae638c3094acfc": {
      "model_module": "@jupyter-widgets/base",
      "model_module_version": "1.0.0",
      "model_name": "LayoutModel",
      "state": {}
     },
     "898741e98f6d4783af3e66b51fcab947": {
      "model_module": "jp_proxy_widget",
      "model_module_version": "^0.3.4",
      "model_name": "JSProxyModel",
      "state": {
       "_model_module_version": "^0.3.4",
       "_send_counter": 399,
       "_view_module_version": "^0.3.4",
       "error_msg": "No error",
       "layout": "IPY_MODEL_8c58c20029b54cdb97a6dc54a47a9d5a",
       "rendered": true,
       "status": "Got results."
      }
     },
     "89aff094b3e04310b0239eb75f2514a8": {
      "model_module": "@jupyter-widgets/controls",
      "model_module_version": "1.0.0",
      "model_name": "IntSliderModel",
      "state": {
       "description": "x",
       "layout": "IPY_MODEL_252c075199c644e4b2e2c95360278243",
       "min": -100,
       "style": "IPY_MODEL_db2d94ea87bc4955884f78c84c4db7c9",
       "value": -100
      }
     },
     "8a194b035dd145eab1996ce79200dd63": {
      "model_module": "@jupyter-widgets/controls",
      "model_module_version": "1.0.0",
      "model_name": "SliderStyleModel",
      "state": {
       "description_width": ""
      }
     },
     "8a32684ce4bf486cb3a914b93c1a63ec": {
      "model_module": "@jupyter-widgets/controls",
      "model_module_version": "1.0.0",
      "model_name": "SliderStyleModel",
      "state": {
       "description_width": ""
      }
     },
     "8a571d30c965493494acd397a42e4429": {
      "model_module": "@jupyter-widgets/controls",
      "model_module_version": "1.0.0",
      "model_name": "FloatSliderModel",
      "state": {
       "description": "alpha",
       "layout": "IPY_MODEL_33bf7e3e592542449a1d15893af420eb",
       "max": 1,
       "step": 0.1,
       "style": "IPY_MODEL_31818af4692248f9a90f6093c5088e7d",
       "value": 1
      }
     },
     "8a95a701a455426694f56406b8643549": {
      "model_module": "@jupyter-widgets/base",
      "model_module_version": "1.0.0",
      "model_name": "LayoutModel",
      "state": {}
     },
     "8aae7b7f99b746939a1e33f05759c6f4": {
      "model_module": "@jupyter-widgets/controls",
      "model_module_version": "1.0.0",
      "model_name": "IntSliderModel",
      "state": {
       "description": "x",
       "layout": "IPY_MODEL_258a037f9c5d4f1ab7e73280fcb610bb",
       "min": -100,
       "style": "IPY_MODEL_40bb0b1a648e4f57b1523dc65133c5af",
       "value": 83
      }
     },
     "8abcdff960d846c6a0577c99b1127e69": {
      "model_module": "@jupyter-widgets/base",
      "model_module_version": "1.0.0",
      "model_name": "LayoutModel",
      "state": {}
     },
     "8aca6b664680447a92ac23cca5983a39": {
      "model_module": "@jupyter-widgets/controls",
      "model_module_version": "1.0.0",
      "model_name": "FloatSliderModel",
      "state": {
       "description": "alpha",
       "layout": "IPY_MODEL_6d5cf87f965945839f7681433a3e50bf",
       "max": 1,
       "step": 0.1,
       "style": "IPY_MODEL_c31868732213485d825c1890af649ef7",
       "value": 1
      }
     },
     "8adf44f872d84633bbf4ec0817892b7b": {
      "model_module": "@jupyter-widgets/controls",
      "model_module_version": "1.0.0",
      "model_name": "TabModel",
      "state": {
       "_titles": {
        "0": "Canvas",
        "1": "Snapshot"
       },
       "children": [
        "IPY_MODEL_28622d7dc50448ba8a54324fce5fc3a4",
        "IPY_MODEL_55b26cd4ddb34215ae2f5f8e2a8ca7cb"
       ],
       "layout": "IPY_MODEL_8b6ec652029d4f89bbd87a40a8fc838f"
      }
     },
     "8ae3e4b4649343a0858f7c89f6934f0b": {
      "model_module": "@jupyter-widgets/base",
      "model_module_version": "1.0.0",
      "model_name": "LayoutModel",
      "state": {}
     },
     "8b6a643a7903485e8d2792361b47d345": {
      "model_module": "@jupyter-widgets/controls",
      "model_module_version": "1.0.0",
      "model_name": "SliderStyleModel",
      "state": {
       "description_width": ""
      }
     },
     "8b6ec652029d4f89bbd87a40a8fc838f": {
      "model_module": "@jupyter-widgets/base",
      "model_module_version": "1.0.0",
      "model_name": "LayoutModel",
      "state": {}
     },
     "8b927c5f840c471292605a570f133cc1": {
      "model_module": "@jupyter-widgets/base",
      "model_module_version": "1.0.0",
      "model_name": "LayoutModel",
      "state": {}
     },
     "8bb00b65c35c444494ab3b28d974e55b": {
      "model_module": "@jupyter-widgets/base",
      "model_module_version": "1.0.0",
      "model_name": "LayoutModel",
      "state": {}
     },
     "8bb4c379e71a4f56939bcfbf54223036": {
      "model_module": "jp_proxy_widget",
      "model_module_version": "^0.3.4",
      "model_name": "JSProxyModel",
      "state": {
       "_model_module_version": "^0.3.4",
       "_send_counter": 2,
       "_view_module_version": "^0.3.4",
       "error_msg": "No error",
       "layout": "IPY_MODEL_b8b25a3982614225b64f2d8272a311cb",
       "rendered": true,
       "status": "Got results."
      }
     },
     "8bd9c7f3f09a4c85b75550e67253e9d1": {
      "model_module": "@jupyter-widgets/base",
      "model_module_version": "1.0.0",
      "model_name": "LayoutModel",
      "state": {}
     },
     "8c019990355540b9b0be4c98c5d09c2a": {
      "model_module": "@jupyter-widgets/base",
      "model_module_version": "1.0.0",
      "model_name": "LayoutModel",
      "state": {}
     },
     "8c2720bff4e94ef5af2844d5a01ad9a1": {
      "model_module": "@jupyter-widgets/base",
      "model_module_version": "1.0.0",
      "model_name": "LayoutModel",
      "state": {}
     },
     "8c3861815ce2489f92deeb3bbb35d4a2": {
      "model_module": "@jupyter-widgets/controls",
      "model_module_version": "1.0.0",
      "model_name": "VBoxModel",
      "state": {
       "_dom_classes": [
        "widget-interact"
       ],
       "children": [
        "IPY_MODEL_2f68824a86844f66abe24ea385b006a8",
        "IPY_MODEL_74d9892fee73442e810eb9d810a14681",
        "IPY_MODEL_cdd45dd4f24047f78b85b1a9bd37fc9f",
        "IPY_MODEL_0b388eb410ea42eaa2148e23bdda099a",
        "IPY_MODEL_d4c739f16e634587b293f737f2f7b649",
        "IPY_MODEL_c83a73155cb045198bc862797b555bc0",
        "IPY_MODEL_668306d55d53408ba65f75f7bccc1c92",
        "IPY_MODEL_a71e0a46812143639219cc267a777e26"
       ],
       "layout": "IPY_MODEL_a3e753abdb8c413d9b0be4cd7349f2c3"
      }
     },
     "8c58c20029b54cdb97a6dc54a47a9d5a": {
      "model_module": "@jupyter-widgets/base",
      "model_module_version": "1.0.0",
      "model_name": "LayoutModel",
      "state": {}
     },
     "8c5ff5058d4e49d0bf73af06bf3dc160": {
      "model_module": "@jupyter-widgets/base",
      "model_module_version": "1.0.0",
      "model_name": "LayoutModel",
      "state": {}
     },
     "8c7e573d2d554d3bb010b87b238b785c": {
      "model_module": "@jupyter-widgets/controls",
      "model_module_version": "1.0.0",
      "model_name": "SliderStyleModel",
      "state": {
       "description_width": ""
      }
     },
     "8cad3a0ccfc1410196a9664237ad327e": {
      "model_module": "@jupyter-widgets/base",
      "model_module_version": "1.0.0",
      "model_name": "LayoutModel",
      "state": {}
     },
     "8cb6b4d350bb437a8aed00c99d8ae286": {
      "model_module": "@jupyter-widgets/controls",
      "model_module_version": "1.0.0",
      "model_name": "IntSliderModel",
      "state": {
       "description": "blue",
       "layout": "IPY_MODEL_1308b2fb398b4e878230528401d0ada8",
       "max": 255,
       "style": "IPY_MODEL_482ec0dec1534e4f8ca47ad0b6e7f183",
       "value": 127
      }
     },
     "8cccb48a9ff3463fba96100c4e6260b2": {
      "model_module": "@jupyter-widgets/controls",
      "model_module_version": "1.0.0",
      "model_name": "FloatSliderModel",
      "state": {
       "description": "alpha",
       "layout": "IPY_MODEL_77962c1ae5024ff4a70e652ffbb1096c",
       "max": 1,
       "step": 0.1,
       "style": "IPY_MODEL_39ea280f576d404ea95d4e0672b9771c",
       "value": 1
      }
     },
     "8cd3a0b0613942978ef8ec0c8f78cc0c": {
      "model_module": "@jupyter-widgets/base",
      "model_module_version": "1.0.0",
      "model_name": "LayoutModel",
      "state": {}
     },
     "8cf28a395ca24e18b32c2f9e55eb0d98": {
      "model_module": "@jupyter-widgets/base",
      "model_module_version": "1.0.0",
      "model_name": "LayoutModel",
      "state": {}
     },
     "8d09d459a5c547888266f784653607d0": {
      "model_module": "@jupyter-widgets/controls",
      "model_module_version": "1.0.0",
      "model_name": "FloatSliderModel",
      "state": {
       "description": "alpha",
       "layout": "IPY_MODEL_76a75424ca3b491998cc985918889cad",
       "max": 1,
       "step": 0.1,
       "style": "IPY_MODEL_a62f8490d26d4473a8556a2f4792bee1",
       "value": 1
      }
     },
     "8d257c83ce064230b8be6ac6b939a94b": {
      "model_module": "@jupyter-widgets/controls",
      "model_module_version": "1.0.0",
      "model_name": "IntSliderModel",
      "state": {
       "description": "dy",
       "layout": "IPY_MODEL_6add4c8f42d34393804c1fb7dad61dde",
       "min": -100,
       "style": "IPY_MODEL_ce626ab925984d18bd32715074a73dc9",
       "value": 25
      }
     },
     "8d2d9c626d6c4fffa1adf9b477de4624": {
      "model_module": "jp_proxy_widget",
      "model_module_version": "^0.3.4",
      "model_name": "JSProxyModel",
      "state": {
       "_model_module_version": "^0.3.4",
       "_send_counter": 2,
       "_view_module_version": "^0.3.4",
       "error_msg": "No error",
       "layout": "IPY_MODEL_d8910ae1ca1d4bda8882afb2679eaa0e",
       "rendered": true,
       "status": "call back to <function callback_function at 0x105e90e60>"
      }
     },
     "8d35756d5b594468ac91929a0cafe38f": {
      "model_module": "@jupyter-widgets/controls",
      "model_module_version": "1.0.0",
      "model_name": "DescriptionStyleModel",
      "state": {
       "description_width": ""
      }
     },
     "8d3de9c3d8984d0dadfe5d788b034158": {
      "model_module": "@jupyter-widgets/controls",
      "model_module_version": "1.0.0",
      "model_name": "SliderStyleModel",
      "state": {
       "description_width": ""
      }
     },
     "8d73966a91144913abd9654d21b5c291": {
      "model_module": "@jupyter-widgets/base",
      "model_module_version": "1.0.0",
      "model_name": "LayoutModel",
      "state": {}
     },
     "8d929fea6d68492eb78c7fd09d8fbc1b": {
      "model_module": "@jupyter-widgets/controls",
      "model_module_version": "1.0.0",
      "model_name": "SliderStyleModel",
      "state": {
       "description_width": ""
      }
     },
     "8d98a7b2d0d845199ae52a9c56bee245": {
      "model_module": "@jupyter-widgets/controls",
      "model_module_version": "1.0.0",
      "model_name": "VBoxModel",
      "state": {
       "_dom_classes": [
        "widget-interact"
       ],
       "children": [
        "IPY_MODEL_93470566f1f24c3c82b931076ba9e644",
        "IPY_MODEL_1939450f967845b3ade2cd9eed0e0bdc",
        "IPY_MODEL_7ca0d2b4d83746758ac261bd89f88a25",
        "IPY_MODEL_b3a74ed6f86140d8a213a74551fe12fa",
        "IPY_MODEL_7f606e287dd7473e81505e79346abeb3",
        "IPY_MODEL_25a18e877fa24734b75769fa6e63c68f",
        "IPY_MODEL_09bfa3b8227f4234be3b6973c6f028e6",
        "IPY_MODEL_eea913a7c4dc4044b9ad52e02a3858d1",
        "IPY_MODEL_de9862f8f87942648d32604a87b12c73",
        "IPY_MODEL_5620930d4d4242ee843c5d1dc830101d",
        "IPY_MODEL_17200c425f7b42f4b3e0dc84f04973ea",
        "IPY_MODEL_52a361e1c0af487c81897171b415279f",
        "IPY_MODEL_5f23aa8eb35946b4afd3317b9c342d13",
        "IPY_MODEL_20dce1b757a348448e729f999faca420"
       ],
       "layout": "IPY_MODEL_4a5bb5a2ad0a403b89385b55dd784650"
      }
     },
     "8dbc6d59254949a7a2a31b82ddfede27": {
      "model_module": "@jupyter-widgets/base",
      "model_module_version": "1.0.0",
      "model_name": "LayoutModel",
      "state": {}
     },
     "8dcfe9fbf00f4154a4f1bdfd4e590aa3": {
      "model_module": "@jupyter-widgets/output",
      "model_module_version": "1.0.0",
      "model_name": "OutputModel",
      "state": {
       "layout": "IPY_MODEL_d81ae6fc7a504f21b8238804dc3332ce"
      }
     },
     "8dfa08fda6b94839b8221b743c5d0738": {
      "model_module": "@jupyter-widgets/base",
      "model_module_version": "1.0.0",
      "model_name": "LayoutModel",
      "state": {}
     },
     "8e050e8319084963bf83170ed81fa29f": {
      "model_module": "@jupyter-widgets/controls",
      "model_module_version": "1.0.0",
      "model_name": "TabModel",
      "state": {
       "_titles": {
        "0": "Canvas",
        "1": "Snapshot"
       },
       "children": [
        "IPY_MODEL_84d6d3c7907546458b117d36029f606d",
        "IPY_MODEL_694323d9407d4f8e81444fe32317fb0e"
       ],
       "layout": "IPY_MODEL_c6b14e4c4df24364bea5c8ba06263cb0",
       "selected_index": 1
      }
     },
     "8e0c373f41db4cc09854c9983ec840ad": {
      "model_module": "@jupyter-widgets/controls",
      "model_module_version": "1.0.0",
      "model_name": "DescriptionStyleModel",
      "state": {
       "description_width": ""
      }
     },
     "8e4a56c8101c40f1a14e61aaacdb2c8f": {
      "model_module": "@jupyter-widgets/controls",
      "model_module_version": "1.0.0",
      "model_name": "IntSliderModel",
      "state": {
       "description": "green",
       "layout": "IPY_MODEL_f480b5855391467493e2e9dfad7b7113",
       "max": 255,
       "style": "IPY_MODEL_14b11e93c11e4d57a18430fb830bf4aa",
       "value": 179
      }
     },
     "8e6574475ec24bfb8beb1c233639c1c2": {
      "model_module": "@jupyter-widgets/controls",
      "model_module_version": "1.0.0",
      "model_name": "SliderStyleModel",
      "state": {
       "description_width": ""
      }
     },
     "8e77f275c91243c49e72272961292920": {
      "model_module": "@jupyter-widgets/controls",
      "model_module_version": "1.0.0",
      "model_name": "IntSliderModel",
      "state": {
       "description": "x",
       "layout": "IPY_MODEL_4b9bf59b0cb94d8991418a5e7ea8035a",
       "min": -100,
       "style": "IPY_MODEL_269ba0d24ef946468e8f98e69f4778bb",
       "value": -50
      }
     },
     "8e89decbe5734facba4b2723f3c118c0": {
      "model_module": "jp_proxy_widget",
      "model_module_version": "^0.3.4",
      "model_name": "JSProxyModel",
      "state": {
       "_model_module_version": "^0.3.4",
       "_send_counter": 11,
       "_view_module_version": "^0.3.4",
       "error_msg": "Error: bad offsets",
       "layout": "IPY_MODEL_beb11951bd4c44659cf613affcbae496",
       "rendered": true,
       "status": "Rendered."
      }
     },
     "8ebc81d3151648448774381e62667d6b": {
      "model_module": "@jupyter-widgets/controls",
      "model_module_version": "1.0.0",
      "model_name": "CheckboxModel",
      "state": {
       "description": "fill",
       "disabled": false,
       "layout": "IPY_MODEL_c966f1056f224e68b089b45bd169ee5b",
       "style": "IPY_MODEL_1ecd46bdc4e3473491986afa7972d7ac",
       "value": true
      }
     },
     "8ebd5697257746bd996a84748fdd2335": {
      "model_module": "@jupyter-widgets/controls",
      "model_module_version": "1.0.0",
      "model_name": "SliderStyleModel",
      "state": {
       "description_width": ""
      }
     },
     "8ebe17764271456188b7be636fb3713d": {
      "model_module": "@jupyter-widgets/controls",
      "model_module_version": "1.0.0",
      "model_name": "FloatSliderModel",
      "state": {
       "description": "alpha",
       "layout": "IPY_MODEL_2055576160234dc99d6e1929319add1a",
       "max": 1,
       "step": 0.1,
       "style": "IPY_MODEL_d196b922cf4042258da63e117d905660",
       "value": 1
      }
     },
     "8ec1a5b4ccc949b5bf4f6a161858bbb2": {
      "model_module": "@jupyter-widgets/controls",
      "model_module_version": "1.0.0",
      "model_name": "SliderStyleModel",
      "state": {
       "description_width": ""
      }
     },
     "8f049360ac2e4f72bd1d86054e5c7d7c": {
      "model_module": "@jupyter-widgets/controls",
      "model_module_version": "1.0.0",
      "model_name": "SliderStyleModel",
      "state": {
       "description_width": ""
      }
     },
     "8f0e874f1bb54531bd295b3b7f0aaec8": {
      "model_module": "@jupyter-widgets/controls",
      "model_module_version": "1.0.0",
      "model_name": "VBoxModel",
      "state": {
       "children": [
        "IPY_MODEL_96dd04124fac4073aad2843c3279bc87",
        "IPY_MODEL_7eaeb7c5920f435588729901cb57c06f"
       ],
       "layout": "IPY_MODEL_072eb40a142c4b4baa780c08f838c4ec"
      }
     },
     "8f17182938d347afb135311b531649ef": {
      "model_module": "@jupyter-widgets/base",
      "model_module_version": "1.0.0",
      "model_name": "LayoutModel",
      "state": {}
     },
     "8f28642a34004b8ebb0a59d2a6e9a7b8": {
      "model_module": "@jupyter-widgets/controls",
      "model_module_version": "1.0.0",
      "model_name": "SliderStyleModel",
      "state": {
       "description_width": ""
      }
     },
     "8f2a2eb581e74e248ec9f692a4e45850": {
      "model_module": "@jupyter-widgets/base",
      "model_module_version": "1.0.0",
      "model_name": "LayoutModel",
      "state": {}
     },
     "8f3a44ec9b9e41a3a6ec7d60dc25e644": {
      "model_module": "@jupyter-widgets/base",
      "model_module_version": "1.0.0",
      "model_name": "LayoutModel",
      "state": {}
     },
     "8f4a5ba9c0cf4db0bc554718117c7069": {
      "model_module": "@jupyter-widgets/base",
      "model_module_version": "1.0.0",
      "model_name": "LayoutModel",
      "state": {}
     },
     "8f52c27644c74311925b48362952bc7b": {
      "model_module": "@jupyter-widgets/controls",
      "model_module_version": "1.0.0",
      "model_name": "IntSliderModel",
      "state": {
       "description": "green",
       "layout": "IPY_MODEL_33cbedf0465f48ada3ed90416f0951b2",
       "max": 255,
       "style": "IPY_MODEL_fd71ba3eafa342c6a26823f834be5996"
      }
     },
     "8f685c7d705c4d11afc906f4ca489788": {
      "model_module": "@jupyter-widgets/base",
      "model_module_version": "1.0.0",
      "model_name": "LayoutModel",
      "state": {}
     },
     "8f93193711984d49b71f3ea0aca28b5b": {
      "model_module": "@jupyter-widgets/base",
      "model_module_version": "1.0.0",
      "model_name": "LayoutModel",
      "state": {}
     },
     "8f9966ed5dc747a7a049f76eeeb5832e": {
      "model_module": "@jupyter-widgets/base",
      "model_module_version": "1.0.0",
      "model_name": "LayoutModel",
      "state": {}
     },
     "8fa2c43c81c54a54bf65d9e484693c73": {
      "model_module": "@jupyter-widgets/base",
      "model_module_version": "1.0.0",
      "model_name": "LayoutModel",
      "state": {}
     },
     "8fa91c4eb0ff40a9b4ce3ad6a02e01a7": {
      "model_module": "@jupyter-widgets/controls",
      "model_module_version": "1.0.0",
      "model_name": "IntSliderModel",
      "state": {
       "description": "y",
       "layout": "IPY_MODEL_3e340659f1254df497b3ed666f22c98b",
       "min": -100,
       "style": "IPY_MODEL_a0959f330af1452cbd82e03d29626269"
      }
     },
     "8faa4b4227214033b4e21ee370b89668": {
      "model_module": "@jupyter-widgets/base",
      "model_module_version": "1.0.0",
      "model_name": "LayoutModel",
      "state": {}
     },
     "8fb22e7524884ee18e626b17d717798f": {
      "model_module": "@jupyter-widgets/base",
      "model_module_version": "1.0.0",
      "model_name": "LayoutModel",
      "state": {}
     },
     "8fd7a075c11a46d3bbefab2dec3cfad9": {
      "model_module": "@jupyter-widgets/base",
      "model_module_version": "1.0.0",
      "model_name": "LayoutModel",
      "state": {}
     },
     "8fd7e0b153e34acaa585a34e4ef3223f": {
      "model_module": "@jupyter-widgets/base",
      "model_module_version": "1.0.0",
      "model_name": "LayoutModel",
      "state": {}
     },
     "8ffe8df03b654df8adcb3736536dd0ce": {
      "model_module": "@jupyter-widgets/controls",
      "model_module_version": "1.0.0",
      "model_name": "SliderStyleModel",
      "state": {
       "description_width": ""
      }
     },
     "902d0324003c4f108e7dfe2fcc477ed3": {
      "model_module": "@jupyter-widgets/controls",
      "model_module_version": "1.0.0",
      "model_name": "TabModel",
      "state": {
       "_titles": {
        "0": "Canvas",
        "1": "Snapshot"
       },
       "children": [
        "IPY_MODEL_da82f84716a94fc8bbe5631f5be582a1",
        "IPY_MODEL_287cd41b851146269e275908f48cd2d7"
       ],
       "layout": "IPY_MODEL_32316a19285745f9aaff790f3d95f45b",
       "selected_index": 1
      }
     },
     "904b4c21ee404ae8a704757cf80ae702": {
      "model_module": "@jupyter-widgets/controls",
      "model_module_version": "1.0.0",
      "model_name": "SliderStyleModel",
      "state": {
       "description_width": ""
      }
     },
     "904d8d6b982843ed9961aa95569c2e02": {
      "model_module": "@jupyter-widgets/controls",
      "model_module_version": "1.0.0",
      "model_name": "IntSliderModel",
      "state": {
       "description": "y2",
       "layout": "IPY_MODEL_e66fe6bbeaf346e0b94a79ef4759f07b",
       "min": -100,
       "style": "IPY_MODEL_fdd954413ee64a2cb66f795a557f1350",
       "value": 50
      }
     },
     "9069a3a719df4163888c8e81a2f2894b": {
      "model_module": "@jupyter-widgets/base",
      "model_module_version": "1.0.0",
      "model_name": "LayoutModel",
      "state": {}
     },
     "907293990c2344b1a81dbe1185a981b4": {
      "model_module": "@jupyter-widgets/controls",
      "model_module_version": "1.0.0",
      "model_name": "IntSliderModel",
      "state": {
       "description": "r",
       "layout": "IPY_MODEL_6f15dead747d4fb5bd6870c4537e1f5f",
       "style": "IPY_MODEL_0d2431a2ebde4bcfb5b9da41c8bfbf4e",
       "value": 50
      }
     },
     "907f381ceec84cf3b6aaa2f8cfde80be": {
      "model_module": "@jupyter-widgets/controls",
      "model_module_version": "1.0.0",
      "model_name": "SliderStyleModel",
      "state": {
       "description_width": ""
      }
     },
     "908f2b28926d41f7bb86e9fb834caada": {
      "model_module": "@jupyter-widgets/controls",
      "model_module_version": "1.0.0",
      "model_name": "IntSliderModel",
      "state": {
       "description": "blue",
       "layout": "IPY_MODEL_8f2a2eb581e74e248ec9f692a4e45850",
       "max": 255,
       "style": "IPY_MODEL_960f99244f534a039b633c3311e3abf3",
       "value": 255
      }
     },
     "90b8fe11e0ab4a7aa2349cc9123f0b1a": {
      "model_module": "@jupyter-widgets/controls",
      "model_module_version": "1.0.0",
      "model_name": "TabModel",
      "state": {
       "_titles": {
        "0": "Canvas",
        "1": "Snapshot"
       },
       "children": [
        "IPY_MODEL_9e26ce5eb3e54f3598988362fcc60109",
        "IPY_MODEL_bc8c2db07a7546f18a3e41352877b5e0"
       ],
       "layout": "IPY_MODEL_694e5677715948819da2886f6813d1bd",
       "selected_index": 1
      }
     },
     "90c1e9edf46c4edfb6360845f5517339": {
      "model_module": "@jupyter-widgets/base",
      "model_module_version": "1.0.0",
      "model_name": "LayoutModel",
      "state": {}
     },
     "90df6b04c75042698e0f42ca277d36d0": {
      "model_module": "@jupyter-widgets/base",
      "model_module_version": "1.0.0",
      "model_name": "LayoutModel",
      "state": {}
     },
     "90e132ec873b4c72aa2ff7b7dd04cc0f": {
      "model_module": "jp_proxy_widget",
      "model_module_version": "^0.3.4",
      "model_name": "JSProxyModel",
      "state": {
       "_model_module_version": "^0.3.4",
       "_send_counter": 2,
       "_view_module_version": "^0.3.4",
       "error_msg": "No error",
       "layout": "IPY_MODEL_0eb2e51813de43a48111f85c8dbae638",
       "rendered": true,
       "status": "Got results."
      }
     },
     "91245801af7d46a0b339d34af01e1162": {
      "model_module": "@jupyter-widgets/base",
      "model_module_version": "1.0.0",
      "model_name": "LayoutModel",
      "state": {}
     },
     "912bfb4b917e4ffdafcb0a2f358c2668": {
      "model_module": "@jupyter-widgets/controls",
      "model_module_version": "1.0.0",
      "model_name": "IntSliderModel",
      "state": {
       "description": "red",
       "layout": "IPY_MODEL_9bb0cdcea1bd46fe8326bd12983a3e6f",
       "max": 255,
       "style": "IPY_MODEL_9eee135bb1d545d5b15504d2854b086b",
       "value": 161
      }
     },
     "914c172dab934604ac707520b873949c": {
      "model_module": "@jupyter-widgets/controls",
      "model_module_version": "1.0.0",
      "model_name": "FloatSliderModel",
      "state": {
       "description": "alpha",
       "layout": "IPY_MODEL_ce0096ce45434c669e04d8443d2ca151",
       "max": 1,
       "step": 0.1,
       "style": "IPY_MODEL_7ee698d3b8304050a06a08de9976e278",
       "value": 1
      }
     },
     "91503f4094084c1b9d2e286c7993eae2": {
      "model_module": "@jupyter-widgets/base",
      "model_module_version": "1.0.0",
      "model_name": "LayoutModel",
      "state": {}
     },
     "91690d0cdd3f490e97cdac9efd9c2d4f": {
      "model_module": "@jupyter-widgets/controls",
      "model_module_version": "1.0.0",
      "model_name": "IntSliderModel",
      "state": {
       "description": "dy",
       "layout": "IPY_MODEL_07428dc03a9b492bb050648b100fabc7",
       "min": -100,
       "style": "IPY_MODEL_7183c0c2306b4419861ea22754a66085",
       "value": -10
      }
     },
     "916d11057a8f41b9aaccb6dfd5c3370d": {
      "model_module": "@jupyter-widgets/base",
      "model_module_version": "1.0.0",
      "model_name": "LayoutModel",
      "state": {}
     },
     "91790091169740d28c8f183230e49cb9": {
      "model_module": "@jupyter-widgets/controls",
      "model_module_version": "1.0.0",
      "model_name": "DescriptionStyleModel",
      "state": {
       "description_width": ""
      }
     },
     "9188b498434748fbadf305488776d9ad": {
      "model_module": "@jupyter-widgets/controls",
      "model_module_version": "1.0.0",
      "model_name": "SliderStyleModel",
      "state": {
       "description_width": ""
      }
     },
     "91aafad6d429405da1bb6a612e124427": {
      "model_module": "jp_proxy_widget",
      "model_module_version": "^0.3.4",
      "model_name": "JSProxyModel",
      "state": {
       "_model_module_version": "^0.3.4",
       "_send_counter": 2,
       "_view_module_version": "^0.3.4",
       "error_msg": "No error",
       "layout": "IPY_MODEL_7432f63598da477ba358388b5f887995",
       "rendered": true,
       "status": "Got results."
      }
     },
     "91bc1f0aaf02481cb3a0eff7cc8ea21c": {
      "model_module": "@jupyter-widgets/controls",
      "model_module_version": "1.0.0",
      "model_name": "IntSliderModel",
      "state": {
       "description": "x1",
       "layout": "IPY_MODEL_9d7d8d7829ba4d169555fa21a4ce3035",
       "min": -100,
       "style": "IPY_MODEL_be8e9b620ee8438a9181c132a622a9b9",
       "value": -63
      }
     },
     "91c5912f81f542569548c7f2d2086c22": {
      "model_module": "@jupyter-widgets/controls",
      "model_module_version": "1.0.0",
      "model_name": "SliderStyleModel",
      "state": {
       "description_width": ""
      }
     },
     "92229f6efafc4a91a7a0fc3ea0eec483": {
      "model_module": "@jupyter-widgets/controls",
      "model_module_version": "1.0.0",
      "model_name": "SliderStyleModel",
      "state": {
       "description_width": ""
      }
     },
     "92367a846b2a4480938b360946e7bb23": {
      "model_module": "@jupyter-widgets/controls",
      "model_module_version": "1.0.0",
      "model_name": "IntSliderModel",
      "state": {
       "description": "h",
       "layout": "IPY_MODEL_5ae202ab10df4fb1bf68f12c56ac06f3",
       "max": 300,
       "min": -300,
       "style": "IPY_MODEL_37b4620c990d47ca967041ebbebf5a61",
       "value": 50
      }
     },
     "92703755d8f74aae89b7f06ada3f6496": {
      "model_module": "jp_proxy_widget",
      "model_module_version": "^0.3.4",
      "model_name": "JSProxyModel",
      "state": {
       "_model_module_version": "^0.3.4",
       "_send_counter": 786,
       "_view_module_version": "^0.3.4",
       "error_msg": "No error",
       "layout": "IPY_MODEL_1641e3194b4b4c77a75745fa12bb73b2",
       "rendered": true,
       "status": "Got results."
      }
     },
     "92ab3206b3b045359ddf9e9268a4954b": {
      "model_module": "@jupyter-widgets/controls",
      "model_module_version": "1.0.0",
      "model_name": "IntSliderModel",
      "state": {
       "description": "green",
       "layout": "IPY_MODEL_4239c3efea4d43b1a6f0d8c288c6ae50",
       "max": 255,
       "style": "IPY_MODEL_b1d77485b05942f0ae52eb456b75c3da",
       "value": 127
      }
     },
     "92ba613b77e24e91994e5756cb58ab09": {
      "model_module": "@jupyter-widgets/controls",
      "model_module_version": "1.0.0",
      "model_name": "SliderStyleModel",
      "state": {
       "description_width": ""
      }
     },
     "92e3305b9bbc4f3c918dc4f77c13c3a0": {
      "model_module": "jp_proxy_widget",
      "model_module_version": "^0.3.4",
      "model_name": "JSProxyModel",
      "state": {
       "_model_module_version": "^0.3.4",
       "_send_counter": 2,
       "_view_module_version": "^0.3.4",
       "error_msg": "No error",
       "layout": "IPY_MODEL_165f76d03e254ad1b8f24adbda929dca",
       "rendered": true,
       "status": "Got results."
      }
     },
     "92f90e70447345fb992a22bc56de04ac": {
      "model_module": "@jupyter-widgets/base",
      "model_module_version": "1.0.0",
      "model_name": "LayoutModel",
      "state": {}
     },
     "930beb4cba624664a44324192d0ab957": {
      "model_module": "@jupyter-widgets/base",
      "model_module_version": "1.0.0",
      "model_name": "LayoutModel",
      "state": {}
     },
     "9322699c6b354233a97a8b61c0ed46a6": {
      "model_module": "@jupyter-widgets/controls",
      "model_module_version": "1.0.0",
      "model_name": "FloatSliderModel",
      "state": {
       "description": "alpha",
       "layout": "IPY_MODEL_b0559fa9d89647198546212cf3702549",
       "max": 1,
       "step": 0.1,
       "style": "IPY_MODEL_3b7c16746cf8472aa45b7df52c6a3d5b",
       "value": 1
      }
     },
     "934480c99bfc4e75a13efb7372109e9e": {
      "model_module": "@jupyter-widgets/controls",
      "model_module_version": "1.0.0",
      "model_name": "IntSliderModel",
      "state": {
       "description": "x",
       "layout": "IPY_MODEL_2f64bd323e8d4c39a1be231236eb5bdb",
       "min": -100,
       "style": "IPY_MODEL_f4f1aeaeefd34e1c8b13068d01757d14"
      }
     },
     "93470566f1f24c3c82b931076ba9e644": {
      "model_module": "@jupyter-widgets/controls",
      "model_module_version": "1.0.0",
      "model_name": "IntSliderModel",
      "state": {
       "description": "x",
       "layout": "IPY_MODEL_0da7d200c9374e8aa583dde3e514bf86",
       "min": -100,
       "style": "IPY_MODEL_c906782d655040058158d35d65c34d5c"
      }
     },
     "9362d7362e49489fbba6c75b8401a937": {
      "model_module": "@jupyter-widgets/controls",
      "model_module_version": "1.0.0",
      "model_name": "SliderStyleModel",
      "state": {
       "description_width": ""
      }
     },
     "93933cd18ff14ce48cdbda7090e4f468": {
      "model_module": "@jupyter-widgets/controls",
      "model_module_version": "1.0.0",
      "model_name": "IntSliderModel",
      "state": {
       "description": "dy",
       "layout": "IPY_MODEL_be6661b6b12148e392e84996f81079a2",
       "min": -100,
       "style": "IPY_MODEL_748e5c97d2804ec0a77f6d19bff0669b",
       "value": -20
      }
     },
     "93b0860a3d8646d987730e4fe87e2e40": {
      "model_module": "@jupyter-widgets/base",
      "model_module_version": "1.0.0",
      "model_name": "LayoutModel",
      "state": {}
     },
     "93bb07654dc54d1093c5f3a9b485e34e": {
      "model_module": "@jupyter-widgets/controls",
      "model_module_version": "1.0.0",
      "model_name": "TabModel",
      "state": {
       "_titles": {
        "0": "Canvas",
        "1": "Snapshot"
       },
       "children": [
        "IPY_MODEL_e9cab7fcdb4d473cbfd652caa886a624",
        "IPY_MODEL_6013faeeb3f54e0c92e71fa3dd152aa4"
       ],
       "layout": "IPY_MODEL_6b8810edb85f48f598067d897842dee2"
      }
     },
     "93bda981be4a4b5c9ee1eb0cb30a27a3": {
      "model_module": "@jupyter-widgets/base",
      "model_module_version": "1.0.0",
      "model_name": "LayoutModel",
      "state": {}
     },
     "943001675456478789ec6b966a345cb9": {
      "model_module": "@jupyter-widgets/controls",
      "model_module_version": "1.0.0",
      "model_name": "DescriptionStyleModel",
      "state": {
       "description_width": ""
      }
     },
     "94757874e4324feaab615dda6d7f01d1": {
      "model_module": "@jupyter-widgets/controls",
      "model_module_version": "1.0.0",
      "model_name": "SliderStyleModel",
      "state": {
       "description_width": ""
      }
     },
     "94860ebcd967426b807144f30016ba20": {
      "model_module": "@jupyter-widgets/base",
      "model_module_version": "1.0.0",
      "model_name": "LayoutModel",
      "state": {}
     },
     "9487eb47d99e4727a37ae8c605ab0bb3": {
      "model_module": "@jupyter-widgets/base",
      "model_module_version": "1.0.0",
      "model_name": "LayoutModel",
      "state": {}
     },
     "94d89b5158624b56be41333e270032f9": {
      "model_module": "@jupyter-widgets/controls",
      "model_module_version": "1.0.0",
      "model_name": "SliderStyleModel",
      "state": {
       "description_width": ""
      }
     },
     "94e4936f21ca4a88b80e7ca0a953f36b": {
      "model_module": "@jupyter-widgets/base",
      "model_module_version": "1.0.0",
      "model_name": "LayoutModel",
      "state": {}
     },
     "94f3bdfcfdd64066bd8e29d1bd23d33c": {
      "model_module": "@jupyter-widgets/controls",
      "model_module_version": "1.0.0",
      "model_name": "VBoxModel",
      "state": {
       "_dom_classes": [
        "widget-interact"
       ],
       "children": [
        "IPY_MODEL_8aae7b7f99b746939a1e33f05759c6f4",
        "IPY_MODEL_b6cd2dd3ca7b4a82acad007b6b3f594f",
        "IPY_MODEL_99c6cb976abf488db036fbc197fc8ce2",
        "IPY_MODEL_3cf2b3bec0b345c7ba4a5b7b033fab7e",
        "IPY_MODEL_85859efc12234c86a926c5915a663aa7",
        "IPY_MODEL_82e01ea203ce46c7bc169066dd696bad",
        "IPY_MODEL_87edfca9283c4b6da3d0095ca17687ce",
        "IPY_MODEL_f89e3301135847bea965f3e3716f890d"
       ],
       "layout": "IPY_MODEL_6e1d41b1faa4426fbbfce1ec9a66f5ce"
      }
     },
     "94f5ead4d89c4810a9ce06b392d0dac9": {
      "model_module": "jp_proxy_widget",
      "model_module_version": "^0.3.4",
      "model_name": "JSProxyModel",
      "state": {
       "_model_module_version": "^0.3.4",
       "_send_counter": 8,
       "_view_module_version": "^0.3.4",
       "error_msg": "Error: Error in element.New SyntaxError: Unexpected token )",
       "layout": "IPY_MODEL_7ff11d080f144ca78b16c15eae3486f9",
       "rendered": true,
       "status": "Rendered."
      }
     },
     "94f962939e8344f4afd526b62fd42415": {
      "model_module": "@jupyter-widgets/base",
      "model_module_version": "1.0.0",
      "model_name": "LayoutModel",
      "state": {}
     },
     "94fd25717daf488caed0f52419baf3a4": {
      "model_module": "@jupyter-widgets/controls",
      "model_module_version": "1.0.0",
      "model_name": "SliderStyleModel",
      "state": {
       "description_width": ""
      }
     },
     "951425817c1049ec94d89750a33393a9": {
      "model_module": "@jupyter-widgets/base",
      "model_module_version": "1.0.0",
      "model_name": "LayoutModel",
      "state": {}
     },
     "953d9e255045410a9ab50f4c51da1860": {
      "model_module": "@jupyter-widgets/controls",
      "model_module_version": "1.0.0",
      "model_name": "SliderStyleModel",
      "state": {
       "description_width": ""
      }
     },
     "9544f814436a4e1bb03a9d5deb788c5c": {
      "model_module": "@jupyter-widgets/controls",
      "model_module_version": "1.0.0",
      "model_name": "IntSliderModel",
      "state": {
       "description": "red",
       "layout": "IPY_MODEL_f6de3677078248f09478747c026b7194",
       "max": 255,
       "style": "IPY_MODEL_96240e2f4bb845afaaee5b94682621c8",
       "value": 80
      }
     },
     "954dbf7a8672499abc2e626af4121e9d": {
      "model_module": "@jupyter-widgets/controls",
      "model_module_version": "1.0.0",
      "model_name": "FloatSliderModel",
      "state": {
       "description": "start",
       "layout": "IPY_MODEL_1508188053d547288e5eb3f6498d54ca",
       "max": 6.383185307179586,
       "step": 0.1,
       "style": "IPY_MODEL_e0b9e17141304f02b96350569ed8ebf7"
      }
     },
     "957e1290120847d1bc378baa282e7176": {
      "model_module": "@jupyter-widgets/base",
      "model_module_version": "1.0.0",
      "model_name": "LayoutModel",
      "state": {}
     },
     "959b0c73748843c2800f5bee78ed60e9": {
      "model_module": "@jupyter-widgets/base",
      "model_module_version": "1.0.0",
      "model_name": "LayoutModel",
      "state": {}
     },
     "95d9c5df64524a6cb45ef36ad039f7d2": {
      "model_module": "@jupyter-widgets/controls",
      "model_module_version": "1.0.0",
      "model_name": "VBoxModel",
      "state": {
       "children": [
        "IPY_MODEL_97237a22f26a4c2397f8a23739e0943f",
        "IPY_MODEL_d8865abe04a448bcb6dc9639d3943fd0"
       ],
       "layout": "IPY_MODEL_3a49ef557fb346d5a2f2dc60f1072a6b"
      }
     },
     "95da91ee74954114b05c79f596be386b": {
      "model_module": "@jupyter-widgets/base",
      "model_module_version": "1.0.0",
      "model_name": "LayoutModel",
      "state": {}
     },
     "95ea660bf80940b1861c35dd8b29b0e3": {
      "model_module": "@jupyter-widgets/controls",
      "model_module_version": "1.0.0",
      "model_name": "IntSliderModel",
      "state": {
       "description": "r",
       "layout": "IPY_MODEL_caed84739d874a51bc8e8a549434bba1",
       "style": "IPY_MODEL_e6fa67ee18e44c5b869ba6e3f8df74a1",
       "value": 50
      }
     },
     "95ff717ffd9f4d25be2d9134e4c071c1": {
      "model_module": "@jupyter-widgets/output",
      "model_module_version": "1.0.0",
      "model_name": "OutputModel",
      "state": {
       "layout": "IPY_MODEL_adfaa824e21d42cdbe35d69e0d3c7fa4"
      }
     },
     "960b8aa072264d4cbd33e16a82c3b576": {
      "model_module": "@jupyter-widgets/controls",
      "model_module_version": "1.0.0",
      "model_name": "SliderStyleModel",
      "state": {
       "description_width": ""
      }
     },
     "960f99244f534a039b633c3311e3abf3": {
      "model_module": "@jupyter-widgets/controls",
      "model_module_version": "1.0.0",
      "model_name": "SliderStyleModel",
      "state": {
       "description_width": ""
      }
     },
     "96240e2f4bb845afaaee5b94682621c8": {
      "model_module": "@jupyter-widgets/controls",
      "model_module_version": "1.0.0",
      "model_name": "SliderStyleModel",
      "state": {
       "description_width": ""
      }
     },
     "962fd963b8a34b459690737165e2682b": {
      "model_module": "@jupyter-widgets/controls",
      "model_module_version": "1.0.0",
      "model_name": "IntSliderModel",
      "state": {
       "description": "green",
       "layout": "IPY_MODEL_adb61307029a413db984b5aff4a0d460",
       "max": 255,
       "style": "IPY_MODEL_1cd41c8313ed44d68d4058eafee4da87",
       "value": 102
      }
     },
     "963992f08beb4ffe829757a4f8414eec": {
      "model_module": "@jupyter-widgets/controls",
      "model_module_version": "1.0.0",
      "model_name": "IntSliderModel",
      "state": {
       "description": "x",
       "layout": "IPY_MODEL_f057a207c5fe4153ae61e7a75cc46fcd",
       "min": -100,
       "style": "IPY_MODEL_0a092f6ecd2c4878844e74022c21d4d2"
      }
     },
     "966a6e9387e04e34b837ece3baad5a7f": {
      "model_module": "@jupyter-widgets/controls",
      "model_module_version": "1.0.0",
      "model_name": "IntSliderModel",
      "state": {
       "description": "lineWidth",
       "layout": "IPY_MODEL_0b38796392674006bccfc9b83ac3285c",
       "max": 20,
       "style": "IPY_MODEL_03710299ba0f42a484350cf7c10020d9",
       "value": 3
      }
     },
     "967000da70084aa0b5286cc7d81bcd26": {
      "model_module": "@jupyter-widgets/controls",
      "model_module_version": "1.0.0",
      "model_name": "IntSliderModel",
      "state": {
       "description": "degrees",
       "layout": "IPY_MODEL_05c4f4409d0047a9964c5ec5d0677a44",
       "max": 360,
       "min": -360,
       "style": "IPY_MODEL_72e543b8197b4f1c94f81c699b5973a9"
      }
     },
     "969354d0877241028b8dce49672df2f2": {
      "model_module": "@jupyter-widgets/controls",
      "model_module_version": "1.0.0",
      "model_name": "SliderStyleModel",
      "state": {
       "description_width": ""
      }
     },
     "96a030ea80a2439da61ac5dc35066bab": {
      "model_module": "@jupyter-widgets/controls",
      "model_module_version": "1.0.0",
      "model_name": "HTMLModel",
      "state": {
       "layout": "IPY_MODEL_37449dee1e3e49d1ae5a15e15a3365f3",
       "style": "IPY_MODEL_221b79b9b54a4f7b85ca0ee0c3e355fc",
       "value": "<img src=\"interactive_rectangle.png\" id=\"snapshot_id_7_1536267178705\"/>\n <div id=\"snapshot_id_8_1536267178705\">interactive_rectangle.png</div>"
      }
     },
     "96db201a68074106b9687c2e0aa8ce02": {
      "model_module": "@jupyter-widgets/output",
      "model_module_version": "1.0.0",
      "model_name": "OutputModel",
      "state": {
       "layout": "IPY_MODEL_9e0c52c0df0d407383f0e347dbab4cc0"
      }
     },
     "96dd04124fac4073aad2843c3279bc87": {
      "model_module": "jp_proxy_widget",
      "model_module_version": "^0.3.4",
      "model_name": "JSProxyModel",
      "state": {
       "_model_module_version": "^0.3.4",
       "_send_counter": 361,
       "_view_module_version": "^0.3.4",
       "error_msg": "No error",
       "layout": "IPY_MODEL_9f68f4b3853d408ba3b2d3f489e2cff5",
       "rendered": true,
       "status": "Got results."
      }
     },
     "96f589a7ef6147209ade39e214aeb6e7": {
      "model_module": "@jupyter-widgets/controls",
      "model_module_version": "1.0.0",
      "model_name": "VBoxModel",
      "state": {
       "children": [
        "IPY_MODEL_e96f2c223b23422eb1ef64952b3dcb39",
        "IPY_MODEL_14b71e8d5ee64cd882b295919891f6a0"
       ],
       "layout": "IPY_MODEL_b72756d775504881bba2ea14be12d291"
      }
     },
     "9703f2405b9a42ad8857c017f4b8891c": {
      "model_module": "@jupyter-widgets/base",
      "model_module_version": "1.0.0",
      "model_name": "LayoutModel",
      "state": {}
     },
     "97237a22f26a4c2397f8a23739e0943f": {
      "model_module": "jp_proxy_widget",
      "model_module_version": "^0.3.4",
      "model_name": "JSProxyModel",
      "state": {
       "_model_module_version": "^0.3.4",
       "_send_counter": 9,
       "_view_module_version": "^0.3.4",
       "error_msg": "No error",
       "layout": "IPY_MODEL_8fb22e7524884ee18e626b17d717798f",
       "rendered": true,
       "status": "Got results."
      }
     },
     "9734a48831d9400bb5680062428c9bf3": {
      "model_module": "@jupyter-widgets/base",
      "model_module_version": "1.0.0",
      "model_name": "LayoutModel",
      "state": {}
     },
     "97435a4202fe4f1fbe3d8e44f0feb34a": {
      "model_module": "@jupyter-widgets/controls",
      "model_module_version": "1.0.0",
      "model_name": "HTMLModel",
      "state": {
       "layout": "IPY_MODEL_605e482b5da1423fb1480bb9340df729",
       "style": "IPY_MODEL_f23b4aa9807e416b9cb2a4e9d0157312",
       "value": "<img src=\"interactive_rectangle.png\" id=\"snapshot_id_9_1536267266886\"/>\n <div id=\"snapshot_id_10_1536267266886\">interactive_rectangle.png</div>"
      }
     },
     "97491f28898642c081bd46967fc78799": {
      "model_module": "@jupyter-widgets/controls",
      "model_module_version": "1.0.0",
      "model_name": "SliderStyleModel",
      "state": {
       "description_width": ""
      }
     },
     "9749d64303884380a8ba5b7e805f1f8c": {
      "model_module": "@jupyter-widgets/controls",
      "model_module_version": "1.0.0",
      "model_name": "IntSliderModel",
      "state": {
       "description": "x",
       "layout": "IPY_MODEL_5a3b78b492ae4dcdb14c792d743025ac",
       "min": -100,
       "style": "IPY_MODEL_2715990fa5714fc6a0fc16e71955286c"
      }
     },
     "97a2057749f140b4831454510ea7bf28": {
      "model_module": "@jupyter-widgets/controls",
      "model_module_version": "1.0.0",
      "model_name": "CheckboxModel",
      "state": {
       "description": "fill",
       "disabled": false,
       "layout": "IPY_MODEL_fff9bb4b535947c7bf79a0bea121892c",
       "style": "IPY_MODEL_43cd9bc4b687415a9da2b07ba9325515",
       "value": true
      }
     },
     "97c7c41c7ac741d488bd9d55e0c23671": {
      "model_module": "@jupyter-widgets/controls",
      "model_module_version": "1.0.0",
      "model_name": "IntSliderModel",
      "state": {
       "description": "green",
       "layout": "IPY_MODEL_83bca31eff7f4e37a09cd3e6890e39d7",
       "max": 255,
       "style": "IPY_MODEL_6d53b273f7614a95aa03f7fd42cd1953",
       "value": 255
      }
     },
     "97cac1033881494ca21c650aa515ccf1": {
      "model_module": "@jupyter-widgets/base",
      "model_module_version": "1.0.0",
      "model_name": "LayoutModel",
      "state": {}
     },
     "97e57c34a4a1426dad4edfa8c7991f90": {
      "model_module": "@jupyter-widgets/base",
      "model_module_version": "1.0.0",
      "model_name": "LayoutModel",
      "state": {}
     },
     "97f225b315494a76a716fdfe464db030": {
      "model_module": "@jupyter-widgets/controls",
      "model_module_version": "1.0.0",
      "model_name": "FloatSliderModel",
      "state": {
       "description": "alpha",
       "layout": "IPY_MODEL_ee7981a197524d44adba221234da9602",
       "max": 1,
       "step": 0.1,
       "style": "IPY_MODEL_1a7f1a3078a646db98d7c2f7615ed4c3",
       "value": 1
      }
     },
     "97fd86653c0445ae813726681c636030": {
      "model_module": "@jupyter-widgets/base",
      "model_module_version": "1.0.0",
      "model_name": "LayoutModel",
      "state": {}
     },
     "983495d1532844bd84e4ebcaae25b17f": {
      "model_module": "@jupyter-widgets/base",
      "model_module_version": "1.0.0",
      "model_name": "LayoutModel",
      "state": {}
     },
     "98694341a05544a3b283250f79b6c93a": {
      "model_module": "@jupyter-widgets/controls",
      "model_module_version": "1.0.0",
      "model_name": "IntSliderModel",
      "state": {
       "description": "lineWidth",
       "layout": "IPY_MODEL_58e2098f4a824f44a4fca48b2d2f7765",
       "max": 20,
       "style": "IPY_MODEL_fa0f63c4f112441084c630d906c015a4",
       "value": 10
      }
     },
     "9887ea32c3a1417c9ea02ea40a34cd19": {
      "model_module": "@jupyter-widgets/base",
      "model_module_version": "1.0.0",
      "model_name": "LayoutModel",
      "state": {}
     },
     "98a2afdb76074604a1cafa8c16393664": {
      "model_module": "@jupyter-widgets/controls",
      "model_module_version": "1.0.0",
      "model_name": "HTMLModel",
      "state": {
       "layout": "IPY_MODEL_20818d221903493088f277861d60ffd8",
       "style": "IPY_MODEL_e55dc9e053e2472ab463a184639bbe2d",
       "value": "<img src=\"interactive_circle.png\" id=\"snapshot_id_21_1536246824767\"/>\n <div id=\"snapshot_id_22_1536246824767\">interactive_circle.png</div>"
      }
     },
     "98a813ba7dca45c2b8edf6b8e9546508": {
      "model_module": "@jupyter-widgets/controls",
      "model_module_version": "1.0.0",
      "model_name": "IntSliderModel",
      "state": {
       "description": "x",
       "layout": "IPY_MODEL_ab05b6ebf11a414689aa9c0a754256bc",
       "min": -100,
       "style": "IPY_MODEL_6f03a2c8f2ad465fa08d9a3cd0476721",
       "value": -100
      }
     },
     "98b82d10bc104fa59712193683dcd63f": {
      "model_module": "@jupyter-widgets/controls",
      "model_module_version": "1.0.0",
      "model_name": "IntSliderModel",
      "state": {
       "description": "y1",
       "layout": "IPY_MODEL_228935655cbd4a42886d80516f6f1add",
       "min": -100,
       "style": "IPY_MODEL_c52ea40ebe7e4452b3ad40dcbc026d99",
       "value": -47
      }
     },
     "98dfd125f5c544dc84d36d1e88d72c0e": {
      "model_module": "@jupyter-widgets/controls",
      "model_module_version": "1.0.0",
      "model_name": "VBoxModel",
      "state": {
       "_dom_classes": [
        "widget-interact"
       ],
       "children": [
        "IPY_MODEL_467f910a730c4d6cbed22720b85af472",
        "IPY_MODEL_1d8c5b1ec77544638818df9a404d2793",
        "IPY_MODEL_40679a37760f413eaab916ce3109bef5",
        "IPY_MODEL_670124ed91374563b12df1fd5c0e8836",
        "IPY_MODEL_a1d54672a26848e19fc1f24dc892ed55",
        "IPY_MODEL_18d3e296ac384c2e95625188e3cae335",
        "IPY_MODEL_4ced25d8025447b6a1bdc6d08ee778e4",
        "IPY_MODEL_5fdc71e79e244e9ba11069045976f111",
        "IPY_MODEL_46cfffbf2dd84d38a01d790f34b90b10",
        "IPY_MODEL_b9c4487767184455aa98e57da81048a3"
       ],
       "layout": "IPY_MODEL_75394f37115740298c75c9715193030f"
      }
     },
     "98e77d776be9423bb965524d69df7df3": {
      "model_module": "@jupyter-widgets/base",
      "model_module_version": "1.0.0",
      "model_name": "LayoutModel",
      "state": {}
     },
     "98f730cba2124d9f8cb7ab336db82e7f": {
      "model_module": "@jupyter-widgets/controls",
      "model_module_version": "1.0.0",
      "model_name": "SliderStyleModel",
      "state": {
       "description_width": ""
      }
     },
     "990331e2026d4c5d8cd4afbc90b899f7": {
      "model_module": "@jupyter-widgets/controls",
      "model_module_version": "1.0.0",
      "model_name": "SliderStyleModel",
      "state": {
       "description_width": ""
      }
     },
     "9934ce6e80cd4c33b78e86f030ed111e": {
      "model_module": "@jupyter-widgets/controls",
      "model_module_version": "1.0.0",
      "model_name": "IntSliderModel",
      "state": {
       "description": "r",
       "layout": "IPY_MODEL_b251b72b62b04fe7aafb29fb28efd1fc",
       "style": "IPY_MODEL_0508f8868207466388be8b8299a28843",
       "value": 50
      }
     },
     "99501f18fc0f4702a3ad47481ddb8c36": {
      "model_module": "@jupyter-widgets/controls",
      "model_module_version": "1.0.0",
      "model_name": "SliderStyleModel",
      "state": {
       "description_width": ""
      }
     },
     "9962a4f8460e4081b27bc8ef15ea4a39": {
      "model_module": "@jupyter-widgets/base",
      "model_module_version": "1.0.0",
      "model_name": "LayoutModel",
      "state": {}
     },
     "9981d2f81d9b4a5fb673271488812dcc": {
      "model_module": "@jupyter-widgets/base",
      "model_module_version": "1.0.0",
      "model_name": "LayoutModel",
      "state": {}
     },
     "99c6cb976abf488db036fbc197fc8ce2": {
      "model_module": "@jupyter-widgets/controls",
      "model_module_version": "1.0.0",
      "model_name": "IntSliderModel",
      "state": {
       "description": "r",
       "layout": "IPY_MODEL_08f10721a5294105b92790e7e3ae2341",
       "style": "IPY_MODEL_969354d0877241028b8dce49672df2f2",
       "value": 84
      }
     },
     "99d1520b5d1b490d9e68949745c79fbd": {
      "model_module": "@jupyter-widgets/base",
      "model_module_version": "1.0.0",
      "model_name": "LayoutModel",
      "state": {}
     },
     "99ddfccd1226411db9e9ac32fad70dfa": {
      "model_module": "@jupyter-widgets/controls",
      "model_module_version": "1.0.0",
      "model_name": "FloatSliderModel",
      "state": {
       "description": "alpha",
       "layout": "IPY_MODEL_6fb4c8bdcba34aeeba4c3ec6d9d69226",
       "max": 1,
       "step": 0.1,
       "style": "IPY_MODEL_6f862d10dbd142f7a51f104347dd4b0d",
       "value": 1
      }
     },
     "9a8b08b8930540fdba9c35d1bd3b00bd": {
      "model_module": "@jupyter-widgets/controls",
      "model_module_version": "1.0.0",
      "model_name": "TabModel",
      "state": {
       "_titles": {
        "0": "Canvas",
        "1": "Snapshot"
       },
       "children": [
        "IPY_MODEL_ff59da232fb842459eb945e86381e6c2",
        "IPY_MODEL_2e17d479126748d58e6f116ef236360e"
       ],
       "layout": "IPY_MODEL_0dc53b1eb5e94cdab25a60fa959d7160"
      }
     },
     "9aa455474c8941d2ab6401962d0436ee": {
      "model_module": "@jupyter-widgets/base",
      "model_module_version": "1.0.0",
      "model_name": "LayoutModel",
      "state": {}
     },
     "9aaef4d566be4d819c95c13b8afc5822": {
      "model_module": "jp_proxy_widget",
      "model_module_version": "^0.3.4",
      "model_name": "JSProxyModel",
      "state": {
       "_model_module_version": "^0.3.4",
       "_send_counter": 11,
       "_view_module_version": "^0.3.4",
       "error_msg": "No error",
       "layout": "IPY_MODEL_24d7df0fd6094301b21c7aa7feb3e24a",
       "rendered": true,
       "status": "Got results."
      }
     },
     "9aefb093b05d42afadf49335814e15b9": {
      "model_module": "@jupyter-widgets/controls",
      "model_module_version": "1.0.0",
      "model_name": "FloatSliderModel",
      "state": {
       "description": "alpha",
       "layout": "IPY_MODEL_4816630a5ec44d6784bc30d7a6e81a40",
       "max": 1,
       "step": 0.1,
       "style": "IPY_MODEL_7f1d2fb58b5a47aea7d0060e9f986063",
       "value": 1
      }
     },
     "9b2c3e1c0fba461fbbd673e6f1354bde": {
      "model_module": "@jupyter-widgets/base",
      "model_module_version": "1.0.0",
      "model_name": "LayoutModel",
      "state": {}
     },
     "9b39b834f0774be2bb2a4275eef1f3bd": {
      "model_module": "@jupyter-widgets/controls",
      "model_module_version": "1.0.0",
      "model_name": "VBoxModel",
      "state": {
       "children": [
        "IPY_MODEL_bec694eb56c24f349b1e2ddfb71455b0",
        "IPY_MODEL_4bb4e556d3f74f52987e5ce2a471cdf4"
       ],
       "layout": "IPY_MODEL_a7b66fbab77c406bb7f10192143b06ce"
      }
     },
     "9b5aab8d991c48169b32e45127b67cc0": {
      "model_module": "@jupyter-widgets/base",
      "model_module_version": "1.0.0",
      "model_name": "LayoutModel",
      "state": {}
     },
     "9b8b4bdb88154cfcaa2cd7f9c2c342cc": {
      "model_module": "@jupyter-widgets/controls",
      "model_module_version": "1.0.0",
      "model_name": "IntSliderModel",
      "state": {
       "description": "y",
       "layout": "IPY_MODEL_9703f2405b9a42ad8857c017f4b8891c",
       "min": -100,
       "style": "IPY_MODEL_e5f379a9288c48f48dcd39a88365eae8"
      }
     },
     "9b9335297b50426b9b901209993c9e21": {
      "model_module": "@jupyter-widgets/controls",
      "model_module_version": "1.0.0",
      "model_name": "IntSliderModel",
      "state": {
       "description": "x1",
       "layout": "IPY_MODEL_9c81d03ec2984eba8f0f62f85a87ee89",
       "min": -100,
       "style": "IPY_MODEL_5e67ccf3abd54a20b7d68c9219c50c53",
       "value": 75
      }
     },
     "9ba4b277b2934979aabf501a57c812bc": {
      "model_module": "@jupyter-widgets/base",
      "model_module_version": "1.0.0",
      "model_name": "LayoutModel",
      "state": {}
     },
     "9bb0cdcea1bd46fe8326bd12983a3e6f": {
      "model_module": "@jupyter-widgets/base",
      "model_module_version": "1.0.0",
      "model_name": "LayoutModel",
      "state": {}
     },
     "9bbe5e52d3464f0191fc603a85613959": {
      "model_module": "@jupyter-widgets/controls",
      "model_module_version": "1.0.0",
      "model_name": "IntSliderModel",
      "state": {
       "description": "blue",
       "layout": "IPY_MODEL_a02de709b4c74e898ccf1ca981d6f0b2",
       "max": 255,
       "style": "IPY_MODEL_732f278402d5481a9d2e2dbf881ddffa",
       "value": 255
      }
     },
     "9bdec2b712e44a16af2b4102e706f219": {
      "model_module": "@jupyter-widgets/controls",
      "model_module_version": "1.0.0",
      "model_name": "IntSliderModel",
      "state": {
       "description": "w",
       "layout": "IPY_MODEL_64cfda1421b14d81b87fd4aa82150b70",
       "max": 300,
       "min": -300,
       "style": "IPY_MODEL_1b23deee1716489a958a8737ee5186bb",
       "value": 10
      }
     },
     "9c1ba6765f244920acee5f3f328fe2c0": {
      "model_module": "@jupyter-widgets/base",
      "model_module_version": "1.0.0",
      "model_name": "LayoutModel",
      "state": {}
     },
     "9c4d307bd36a43ecbebe3b532825a22d": {
      "model_module": "@jupyter-widgets/base",
      "model_module_version": "1.0.0",
      "model_name": "LayoutModel",
      "state": {}
     },
     "9c5ae278ac4948d2acdbaf383b292661": {
      "model_module": "@jupyter-widgets/base",
      "model_module_version": "1.0.0",
      "model_name": "LayoutModel",
      "state": {}
     },
     "9c7427fbc0894abcbc8fb20bd6e60063": {
      "model_module": "@jupyter-widgets/output",
      "model_module_version": "1.0.0",
      "model_name": "OutputModel",
      "state": {
       "layout": "IPY_MODEL_293196b84bca4d75b930132f3fee8dc6"
      }
     },
     "9c81d03ec2984eba8f0f62f85a87ee89": {
      "model_module": "@jupyter-widgets/base",
      "model_module_version": "1.0.0",
      "model_name": "LayoutModel",
      "state": {}
     },
     "9c869b2b547944e896724e0f1f082ca1": {
      "model_module": "@jupyter-widgets/base",
      "model_module_version": "1.0.0",
      "model_name": "LayoutModel",
      "state": {}
     },
     "9c886f7f3f304c5295d0c90f6caad1cf": {
      "model_module": "@jupyter-widgets/controls",
      "model_module_version": "1.0.0",
      "model_name": "FloatSliderModel",
      "state": {
       "description": "alpha",
       "layout": "IPY_MODEL_2b7be72eef08490494bfd8de96fce6a3",
       "max": 1,
       "step": 0.1,
       "style": "IPY_MODEL_6459b4b20ac540d4bb9a44b15138e938",
       "value": 1
      }
     },
     "9ca79bab1e76473b995970c804bbb6fa": {
      "model_module": "@jupyter-widgets/controls",
      "model_module_version": "1.0.0",
      "model_name": "DescriptionStyleModel",
      "state": {
       "description_width": ""
      }
     },
     "9cd1d0c08363476e9beaa923c76d3832": {
      "model_module": "@jupyter-widgets/base",
      "model_module_version": "1.0.0",
      "model_name": "LayoutModel",
      "state": {}
     },
     "9ce08209fb0d4805b04dece439059979": {
      "model_module": "@jupyter-widgets/controls",
      "model_module_version": "1.0.0",
      "model_name": "SliderStyleModel",
      "state": {
       "description_width": ""
      }
     },
     "9ceb7c28128848539b0cc36ac0a6dff7": {
      "model_module": "@jupyter-widgets/controls",
      "model_module_version": "1.0.0",
      "model_name": "VBoxModel",
      "state": {
       "_dom_classes": [
        "widget-interact"
       ],
       "children": [
        "IPY_MODEL_b02b5eeaff684c63bd5fc983aba6a5b4",
        "IPY_MODEL_42d12b1ec7574a50b6104871c58a58ed",
        "IPY_MODEL_9934ce6e80cd4c33b78e86f030ed111e",
        "IPY_MODEL_636486f7fe7c44dea4277b35dd6c5909",
        "IPY_MODEL_fec0ed28eaac45e79b9c209f08869788",
        "IPY_MODEL_8cb6b4d350bb437a8aed00c99d8ae286",
        "IPY_MODEL_146a607c903f469badb1bc31b9aba4c0",
        "IPY_MODEL_15c5acfb2fc545db9e3d668e35c57711"
       ],
       "layout": "IPY_MODEL_137c597f04934d4c9baf93a518bfb986"
      }
     },
     "9cfae546c5804466a3022b889235da51": {
      "model_module": "@jupyter-widgets/base",
      "model_module_version": "1.0.0",
      "model_name": "LayoutModel",
      "state": {}
     },
     "9d029c3ec77a4027af5a903f9a252011": {
      "model_module": "@jupyter-widgets/base",
      "model_module_version": "1.0.0",
      "model_name": "LayoutModel",
      "state": {}
     },
     "9d0f8948576f47bba77e751e848148b2": {
      "model_module": "@jupyter-widgets/controls",
      "model_module_version": "1.0.0",
      "model_name": "IntSliderModel",
      "state": {
       "description": "degrees",
       "layout": "IPY_MODEL_4534bccc59c44772b130d2ad4fe7f2ff",
       "max": 360,
       "min": -360,
       "style": "IPY_MODEL_f432c98687394d009c0f3fdb4213b3a3"
      }
     },
     "9d64662664ed47d5b4fc274ae7bc739c": {
      "model_module": "@jupyter-widgets/base",
      "model_module_version": "1.0.0",
      "model_name": "LayoutModel",
      "state": {}
     },
     "9d7d8d7829ba4d169555fa21a4ce3035": {
      "model_module": "@jupyter-widgets/base",
      "model_module_version": "1.0.0",
      "model_name": "LayoutModel",
      "state": {}
     },
     "9d86484376e6430984db59b859ad0961": {
      "model_module": "@jupyter-widgets/controls",
      "model_module_version": "1.0.0",
      "model_name": "SliderStyleModel",
      "state": {
       "description_width": ""
      }
     },
     "9d8d41caee2342e6ac952ca629b983ad": {
      "model_module": "@jupyter-widgets/base",
      "model_module_version": "1.0.0",
      "model_name": "LayoutModel",
      "state": {}
     },
     "9dc17061b8f04cf3880b13da187767fc": {
      "model_module": "@jupyter-widgets/base",
      "model_module_version": "1.0.0",
      "model_name": "LayoutModel",
      "state": {}
     },
     "9e0c52c0df0d407383f0e347dbab4cc0": {
      "model_module": "@jupyter-widgets/base",
      "model_module_version": "1.0.0",
      "model_name": "LayoutModel",
      "state": {}
     },
     "9e26ce5eb3e54f3598988362fcc60109": {
      "model_module": "@jupyter-widgets/controls",
      "model_module_version": "1.0.0",
      "model_name": "VBoxModel",
      "state": {
       "children": [
        "IPY_MODEL_52629508090d47fcb7b2be2b4a594e3d",
        "IPY_MODEL_0eb2be7a42924abda08834e268871f33"
       ],
       "layout": "IPY_MODEL_ad064ec60306491cb1815b9abdbb5119"
      }
     },
     "9e35aea2782e4ecb80b50a9c6c27639a": {
      "model_module": "@jupyter-widgets/base",
      "model_module_version": "1.0.0",
      "model_name": "LayoutModel",
      "state": {}
     },
     "9e3dad2f1ffe4789bdf8778a5651aad7": {
      "model_module": "@jupyter-widgets/controls",
      "model_module_version": "1.0.0",
      "model_name": "VBoxModel",
      "state": {
       "children": [
        "IPY_MODEL_898741e98f6d4783af3e66b51fcab947",
        "IPY_MODEL_3a282912c7754259a4c2384d5f2e151a"
       ],
       "layout": "IPY_MODEL_7434ff9a078940b9bb4436c95a8f73c1"
      }
     },
     "9e52c6b43361439bb139169155adb5cc": {
      "model_module": "@jupyter-widgets/base",
      "model_module_version": "1.0.0",
      "model_name": "LayoutModel",
      "state": {}
     },
     "9e69e5c26d1043b5b5822426a65a17d4": {
      "model_module": "@jupyter-widgets/controls",
      "model_module_version": "1.0.0",
      "model_name": "IntSliderModel",
      "state": {
       "description": "blue",
       "layout": "IPY_MODEL_d9b9d58fac3545cdae2dfceb1f2a73ab",
       "max": 255,
       "style": "IPY_MODEL_21d0d13ceb4046b5a28ebb88b79ca687",
       "value": 255
      }
     },
     "9e7f4e7bdd10445e8264dde9ac80028d": {
      "model_module": "@jupyter-widgets/base",
      "model_module_version": "1.0.0",
      "model_name": "LayoutModel",
      "state": {}
     },
     "9e955b4de449492dbbeb6011b1801f2f": {
      "model_module": "@jupyter-widgets/controls",
      "model_module_version": "1.0.0",
      "model_name": "SliderStyleModel",
      "state": {
       "description_width": ""
      }
     },
     "9e9a47a314ac40818e6a2ff7c16ae1aa": {
      "model_module": "@jupyter-widgets/base",
      "model_module_version": "1.0.0",
      "model_name": "LayoutModel",
      "state": {}
     },
     "9ec6c97fc5f543d9a616fb51e241fc02": {
      "model_module": "@jupyter-widgets/controls",
      "model_module_version": "1.0.0",
      "model_name": "VBoxModel",
      "state": {
       "children": [
        "IPY_MODEL_5510dbc5f0c84b28a86559758cee8202",
        "IPY_MODEL_bd35bf9fbd4449f99673dd9ce2c8cf7b"
       ],
       "layout": "IPY_MODEL_3bc8227fed9f4b199d664930c684ef9c"
      }
     },
     "9eee135bb1d545d5b15504d2854b086b": {
      "model_module": "@jupyter-widgets/controls",
      "model_module_version": "1.0.0",
      "model_name": "SliderStyleModel",
      "state": {
       "description_width": ""
      }
     },
     "9efbcad1358c44fb81da258d813a6b3e": {
      "model_module": "@jupyter-widgets/controls",
      "model_module_version": "1.0.0",
      "model_name": "SliderStyleModel",
      "state": {
       "description_width": ""
      }
     },
     "9f0168c2896342f59cc9d5c230718d78": {
      "model_module": "@jupyter-widgets/controls",
      "model_module_version": "1.0.0",
      "model_name": "IntSliderModel",
      "state": {
       "description": "green",
       "layout": "IPY_MODEL_0e03e61d7c234ed0b6c7b1b0d0e95cb9",
       "max": 255,
       "style": "IPY_MODEL_6994decc37844a4fa01e66588fd7e85a",
       "value": 127
      }
     },
     "9f1f46c72a2e4d4ea894c49f2bb9e296": {
      "model_module": "@jupyter-widgets/controls",
      "model_module_version": "1.0.0",
      "model_name": "SliderStyleModel",
      "state": {
       "description_width": ""
      }
     },
     "9f2041dc70e942bd990fe0074cd0e617": {
      "model_module": "@jupyter-widgets/controls",
      "model_module_version": "1.0.0",
      "model_name": "SliderStyleModel",
      "state": {
       "description_width": ""
      }
     },
     "9f3466cd81c74af98e92abbeac77c88c": {
      "model_module": "@jupyter-widgets/controls",
      "model_module_version": "1.0.0",
      "model_name": "IntSliderModel",
      "state": {
       "description": "green",
       "layout": "IPY_MODEL_688b5fedc49748f3a55d1e5ec5024781",
       "max": 255,
       "style": "IPY_MODEL_9f86f8d0cde945d1bad5ea3c9ddf70f1"
      }
     },
     "9f3baae4310a46c6bc7af1324f608e5b": {
      "model_module": "@jupyter-widgets/controls",
      "model_module_version": "1.0.0",
      "model_name": "IntSliderModel",
      "state": {
       "description": "lineWidth",
       "layout": "IPY_MODEL_4869744500114573bcbf1a60ca30ff55",
       "max": 20,
       "style": "IPY_MODEL_9f6fd2e7e02143ac972f0ce03b17011e",
       "value": 3
      }
     },
     "9f5b742e2bb54c169f9f987a2e33ca8b": {
      "model_module": "@jupyter-widgets/controls",
      "model_module_version": "1.0.0",
      "model_name": "IntSliderModel",
      "state": {
       "description": "w",
       "layout": "IPY_MODEL_9887ea32c3a1417c9ea02ea40a34cd19",
       "max": 300,
       "min": -300,
       "style": "IPY_MODEL_5a9dae84f4cf42cfb6dfae572f1ab26b",
       "value": 10
      }
     },
     "9f618ea841d14958b87b761236c98b85": {
      "model_module": "@jupyter-widgets/controls",
      "model_module_version": "1.0.0",
      "model_name": "DescriptionStyleModel",
      "state": {
       "description_width": ""
      }
     },
     "9f68f4b3853d408ba3b2d3f489e2cff5": {
      "model_module": "@jupyter-widgets/base",
      "model_module_version": "1.0.0",
      "model_name": "LayoutModel",
      "state": {}
     },
     "9f6fd2e7e02143ac972f0ce03b17011e": {
      "model_module": "@jupyter-widgets/controls",
      "model_module_version": "1.0.0",
      "model_name": "SliderStyleModel",
      "state": {
       "description_width": ""
      }
     },
     "9f86f8d0cde945d1bad5ea3c9ddf70f1": {
      "model_module": "@jupyter-widgets/controls",
      "model_module_version": "1.0.0",
      "model_name": "SliderStyleModel",
      "state": {
       "description_width": ""
      }
     },
     "9f94ba3004d74657a0786be9f7be1693": {
      "model_module": "@jupyter-widgets/base",
      "model_module_version": "1.0.0",
      "model_name": "LayoutModel",
      "state": {}
     },
     "9fbeec1b73f64c2cbe6c55427bc86dde": {
      "model_module": "@jupyter-widgets/controls",
      "model_module_version": "1.0.0",
      "model_name": "IntSliderModel",
      "state": {
       "description": "y",
       "layout": "IPY_MODEL_5b685f19286e444ab77d775980f2afec",
       "min": -100,
       "style": "IPY_MODEL_990331e2026d4c5d8cd4afbc90b899f7"
      }
     },
     "a010693dccb54df3a873da2702fb8a51": {
      "model_module": "@jupyter-widgets/base",
      "model_module_version": "1.0.0",
      "model_name": "LayoutModel",
      "state": {}
     },
     "a0129f3993dd4f65be64fd528c915087": {
      "model_module": "@jupyter-widgets/base",
      "model_module_version": "1.0.0",
      "model_name": "LayoutModel",
      "state": {}
     },
     "a02de709b4c74e898ccf1ca981d6f0b2": {
      "model_module": "@jupyter-widgets/base",
      "model_module_version": "1.0.0",
      "model_name": "LayoutModel",
      "state": {}
     },
     "a033a8461f03478e97060f7f5fd1d4c1": {
      "model_module": "@jupyter-widgets/base",
      "model_module_version": "1.0.0",
      "model_name": "LayoutModel",
      "state": {}
     },
     "a06483f5d06e44038966140dbcfbed70": {
      "model_module": "jp_proxy_widget",
      "model_module_version": "^0.3.4",
      "model_name": "JSProxyModel",
      "state": {
       "_model_module_version": "^0.3.4",
       "_send_counter": 2,
       "_view_module_version": "^0.3.4",
       "error_msg": "No error",
       "layout": "IPY_MODEL_20186b44b3404b2e8ce165d2abc42c9d",
       "rendered": true,
       "status": "call back to <function callback_function at 0x1115ae5f0>"
      }
     },
     "a06c830d554141e0860dfb052a95a5b6": {
      "model_module": "@jupyter-widgets/controls",
      "model_module_version": "1.0.0",
      "model_name": "IntSliderModel",
      "state": {
       "description": "red",
       "layout": "IPY_MODEL_28f3fca56bf245a1a9d22ae1cb574cf7",
       "max": 255,
       "style": "IPY_MODEL_ca3cb503044149a6aa65c58fc7eb3255",
       "value": 255
      }
     },
     "a08dd97e00374879b927af8c575d879a": {
      "model_module": "@jupyter-widgets/controls",
      "model_module_version": "1.0.0",
      "model_name": "TabModel",
      "state": {
       "_titles": {
        "0": "Canvas",
        "1": "Snapshot"
       },
       "children": [
        "IPY_MODEL_1b5760bb5c5748b8a94c43f57ca687de",
        "IPY_MODEL_be227897841b4f1f808679d7a16b0b97"
       ],
       "layout": "IPY_MODEL_079ecc7ed8e84960911ee838dd808b8d"
      }
     },
     "a08fbe38edd64cffb4f8a8d0f37a960d": {
      "model_module": "@jupyter-widgets/base",
      "model_module_version": "1.0.0",
      "model_name": "LayoutModel",
      "state": {}
     },
     "a0959f330af1452cbd82e03d29626269": {
      "model_module": "@jupyter-widgets/controls",
      "model_module_version": "1.0.0",
      "model_name": "SliderStyleModel",
      "state": {
       "description_width": ""
      }
     },
     "a0bc2562b24248b0b7152d6bc64c5b77": {
      "model_module": "@jupyter-widgets/base",
      "model_module_version": "1.0.0",
      "model_name": "LayoutModel",
      "state": {}
     },
     "a0ce0e78cf2c45199ae9cc506964736f": {
      "model_module": "@jupyter-widgets/controls",
      "model_module_version": "1.0.0",
      "model_name": "HTMLModel",
      "state": {
       "layout": "IPY_MODEL_a558e28ae2ec4cdfb59c31a74f8c9e42",
       "style": "IPY_MODEL_761ec6e88079411bb17eb4433a854d69",
       "value": "<img src=\"interactive_circle.png\" id=\"snapshot_id_1_1536246191023\"/>\n <div id=\"snapshot_id_2_1536246191023\">interactive_circle.png</div>"
      }
     },
     "a0e21a792b7d4322b33769eae6bb5261": {
      "model_module": "@jupyter-widgets/controls",
      "model_module_version": "1.0.0",
      "model_name": "VBoxModel",
      "state": {
       "_dom_classes": [
        "widget-interact"
       ],
       "children": [
        "IPY_MODEL_7449daf1931a454eb1d0b13c9a1ea37a",
        "IPY_MODEL_b5eb95fbaaea4fa39d909a84f8fab27b",
        "IPY_MODEL_5c3df0a644564f3abfa2d309fbd6c0cf",
        "IPY_MODEL_55fc557529ef4c9c90646b30a44967b1",
        "IPY_MODEL_b6f3babd8e7b46b8a61e1ed795442e58",
        "IPY_MODEL_3faa37d119d14750bbeac9b4483cf57b",
        "IPY_MODEL_9f3baae4310a46c6bc7af1324f608e5b",
        "IPY_MODEL_b64fc0de7e5c4dfa917e140dad49b5c4",
        "IPY_MODEL_c21eb6a1f61d496bb45e0da1f4a5ef29",
        "IPY_MODEL_686b873e0ae74e57a9f771ca939ff852",
        "IPY_MODEL_914c172dab934604ac707520b873949c",
        "IPY_MODEL_5c668aa23f9145d3afd5cab13193b2ba"
       ],
       "layout": "IPY_MODEL_11404e3697a74494a8812bb353847cd1"
      }
     },
     "a0e6c29185ba4a178c97daab2a966d73": {
      "model_module": "@jupyter-widgets/base",
      "model_module_version": "1.0.0",
      "model_name": "LayoutModel",
      "state": {}
     },
     "a1202575d60f47cd9e61f1e6fc0bbcec": {
      "model_module": "@jupyter-widgets/controls",
      "model_module_version": "1.0.0",
      "model_name": "SliderStyleModel",
      "state": {
       "description_width": ""
      }
     },
     "a1b35c0157364dde85d326ffe6273bf4": {
      "model_module": "@jupyter-widgets/base",
      "model_module_version": "1.0.0",
      "model_name": "LayoutModel",
      "state": {}
     },
     "a1be3805468f4ca1928698a3443caaf3": {
      "model_module": "@jupyter-widgets/base",
      "model_module_version": "1.0.0",
      "model_name": "LayoutModel",
      "state": {}
     },
     "a1d54672a26848e19fc1f24dc892ed55": {
      "model_module": "@jupyter-widgets/controls",
      "model_module_version": "1.0.0",
      "model_name": "FloatSliderModel",
      "state": {
       "description": "arc",
       "layout": "IPY_MODEL_a010693dccb54df3a873da2702fb8a51",
       "max": 6.283185307179586,
       "step": 0.1,
       "style": "IPY_MODEL_43535c6a3263478ab53b869d35b5f5e6",
       "value": 1.6
      }
     },
     "a1f400faccc74475b01560ace5063bc4": {
      "model_module": "@jupyter-widgets/controls",
      "model_module_version": "1.0.0",
      "model_name": "SliderStyleModel",
      "state": {
       "description_width": ""
      }
     },
     "a2014374aa78441ab489babe6bf459df": {
      "model_module": "@jupyter-widgets/base",
      "model_module_version": "1.0.0",
      "model_name": "LayoutModel",
      "state": {}
     },
     "a2d530c62187438e81a574efcb35f847": {
      "model_module": "@jupyter-widgets/base",
      "model_module_version": "1.0.0",
      "model_name": "LayoutModel",
      "state": {}
     },
     "a2dcdbbe24764788a3f7639c89117ea4": {
      "model_module": "@jupyter-widgets/base",
      "model_module_version": "1.0.0",
      "model_name": "LayoutModel",
      "state": {}
     },
     "a2e2e81a41604807a6ef8e383250fce5": {
      "model_module": "@jupyter-widgets/controls",
      "model_module_version": "1.0.0",
      "model_name": "SliderStyleModel",
      "state": {
       "description_width": ""
      }
     },
     "a310748f15544800944ced5a4d761722": {
      "model_module": "@jupyter-widgets/base",
      "model_module_version": "1.0.0",
      "model_name": "LayoutModel",
      "state": {}
     },
     "a3299de5f2df4e95b7d5581d413bb8ad": {
      "model_module": "@jupyter-widgets/base",
      "model_module_version": "1.0.0",
      "model_name": "LayoutModel",
      "state": {}
     },
     "a385a6cf99664b71a15615cad2739a0f": {
      "model_module": "@jupyter-widgets/base",
      "model_module_version": "1.0.0",
      "model_name": "LayoutModel",
      "state": {}
     },
     "a39191e79ab94869bce99b1b46ed065f": {
      "model_module": "@jupyter-widgets/base",
      "model_module_version": "1.0.0",
      "model_name": "LayoutModel",
      "state": {}
     },
     "a39ef909be504028be725b7bb35c32b8": {
      "model_module": "@jupyter-widgets/controls",
      "model_module_version": "1.0.0",
      "model_name": "SliderStyleModel",
      "state": {
       "description_width": ""
      }
     },
     "a3cb5d37fe2d4dfdb8e29799ac81eacc": {
      "model_module": "@jupyter-widgets/controls",
      "model_module_version": "1.0.0",
      "model_name": "IntSliderModel",
      "state": {
       "description": "dy",
       "layout": "IPY_MODEL_9981d2f81d9b4a5fb673271488812dcc",
       "min": -100,
       "style": "IPY_MODEL_7975f3519aa5488d8f4544f3926229ea",
       "value": -25
      }
     },
     "a3d88c39f92f422e90972924b2ff7d43": {
      "model_module": "@jupyter-widgets/output",
      "model_module_version": "1.0.0",
      "model_name": "OutputModel",
      "state": {
       "layout": "IPY_MODEL_a1be3805468f4ca1928698a3443caaf3"
      }
     },
     "a3e753abdb8c413d9b0be4cd7349f2c3": {
      "model_module": "@jupyter-widgets/base",
      "model_module_version": "1.0.0",
      "model_name": "LayoutModel",
      "state": {}
     },
     "a401e230efd3488f89b6bcc2b9ddd6fb": {
      "model_module": "@jupyter-widgets/base",
      "model_module_version": "1.0.0",
      "model_name": "LayoutModel",
      "state": {}
     },
     "a41cb1462eaa4cfe90417e2b625aefc7": {
      "model_module": "@jupyter-widgets/controls",
      "model_module_version": "1.0.0",
      "model_name": "IntSliderModel",
      "state": {
       "description": "h",
       "layout": "IPY_MODEL_4d1767f16ed54db48ec90fbeb63e1456",
       "max": 300,
       "min": -300,
       "style": "IPY_MODEL_46c337e9db694ad0b220a53483bc6365",
       "value": 50
      }
     },
     "a4588cc0de184bc8832320fb76949505": {
      "model_module": "@jupyter-widgets/controls",
      "model_module_version": "1.0.0",
      "model_name": "SliderStyleModel",
      "state": {
       "description_width": ""
      }
     },
     "a45d547d58e54087aa33954709b3e27f": {
      "model_module": "jp_proxy_widget",
      "model_module_version": "^0.3.4",
      "model_name": "JSProxyModel",
      "state": {
       "_model_module_version": "^0.3.4",
       "_send_counter": 11,
       "_view_module_version": "^0.3.4",
       "error_msg": "No error",
       "layout": "IPY_MODEL_d1ada41b2e654acda88a78603382310e",
       "rendered": true,
       "status": "Got results."
      }
     },
     "a469783eaa864dd1a666075b99c2f77c": {
      "model_module": "@jupyter-widgets/controls",
      "model_module_version": "1.0.0",
      "model_name": "SliderStyleModel",
      "state": {
       "description_width": ""
      }
     },
     "a4806d08eea944289eaa92240ca246d7": {
      "model_module": "@jupyter-widgets/base",
      "model_module_version": "1.0.0",
      "model_name": "LayoutModel",
      "state": {}
     },
     "a483f93a31554b3e9e2c4271b9406ecb": {
      "model_module": "@jupyter-widgets/controls",
      "model_module_version": "1.0.0",
      "model_name": "SliderStyleModel",
      "state": {
       "description_width": ""
      }
     },
     "a4878b73067548d78b014d7d1c282b7a": {
      "model_module": "@jupyter-widgets/controls",
      "model_module_version": "1.0.0",
      "model_name": "DescriptionStyleModel",
      "state": {
       "description_width": ""
      }
     },
     "a4a10e91ee514e8d8df3c62120e8ad7e": {
      "model_module": "@jupyter-widgets/base",
      "model_module_version": "1.0.0",
      "model_name": "LayoutModel",
      "state": {}
     },
     "a4e2bb91829d46fead0c6e503ea1af62": {
      "model_module": "@jupyter-widgets/controls",
      "model_module_version": "1.0.0",
      "model_name": "IntSliderModel",
      "state": {
       "description": "y",
       "layout": "IPY_MODEL_b7f66a9c893b47e8a70781a4a8064154",
       "min": -100,
       "style": "IPY_MODEL_c637d41ba9ae4ee29b56bb98e594fb10"
      }
     },
     "a4f2033e14044ccbb37742b372673847": {
      "model_module": "@jupyter-widgets/base",
      "model_module_version": "1.0.0",
      "model_name": "LayoutModel",
      "state": {}
     },
     "a535c647d0ec4c1096304df3d7fac4a4": {
      "model_module": "@jupyter-widgets/base",
      "model_module_version": "1.0.0",
      "model_name": "LayoutModel",
      "state": {}
     },
     "a558e28ae2ec4cdfb59c31a74f8c9e42": {
      "model_module": "@jupyter-widgets/base",
      "model_module_version": "1.0.0",
      "model_name": "LayoutModel",
      "state": {}
     },
     "a56bedb4915744c6bb7b35b9fa607cf4": {
      "model_module": "@jupyter-widgets/controls",
      "model_module_version": "1.0.0",
      "model_name": "VBoxModel",
      "state": {
       "_dom_classes": [
        "widget-interact"
       ],
       "children": [
        "IPY_MODEL_880dc605687e47f199c75971178a1bf9",
        "IPY_MODEL_75d62cb247714505aa42c4e9aabbb163",
        "IPY_MODEL_0af65bb5734049498a94319a63d47323",
        "IPY_MODEL_cb4e29db0eff4938a5fb7049de51f7bc",
        "IPY_MODEL_616b37d972d6467990b7304b8dff1830",
        "IPY_MODEL_cfbcb51eae0d45d5b497bba163de55b5",
        "IPY_MODEL_967000da70084aa0b5286cc7d81bcd26",
        "IPY_MODEL_1c1597811e9644e9921d0946b61de3f2",
        "IPY_MODEL_f21c46ef68e14e58ad2834788dcbaa94",
        "IPY_MODEL_eb1cb2131e144536be681ddb71be1994",
        "IPY_MODEL_f5888cec71454a90b9159ca8c2ecef45",
        "IPY_MODEL_9e69e5c26d1043b5b5822426a65a17d4",
        "IPY_MODEL_8a571d30c965493494acd397a42e4429",
        "IPY_MODEL_f63770e08d2a4b64b9a7e0f3ff66390b"
       ],
       "layout": "IPY_MODEL_b301ab582eeb49f9b480550426a02315"
      }
     },
     "a56dbd51571a41dcb6f156dd7c62b8be": {
      "model_module": "@jupyter-widgets/base",
      "model_module_version": "1.0.0",
      "model_name": "LayoutModel",
      "state": {}
     },
     "a5736efe026941f5b28d682dca5eb4ae": {
      "model_module": "@jupyter-widgets/controls",
      "model_module_version": "1.0.0",
      "model_name": "SliderStyleModel",
      "state": {
       "description_width": ""
      }
     },
     "a57c354ccb1d40f3a428ee033eff51b1": {
      "model_module": "@jupyter-widgets/controls",
      "model_module_version": "1.0.0",
      "model_name": "SliderStyleModel",
      "state": {
       "description_width": ""
      }
     },
     "a5af4789865d49cd80c598c65411191c": {
      "model_module": "@jupyter-widgets/controls",
      "model_module_version": "1.0.0",
      "model_name": "DescriptionStyleModel",
      "state": {
       "description_width": ""
      }
     },
     "a5cd14585e15469ea4523aacb8a51489": {
      "model_module": "@jupyter-widgets/controls",
      "model_module_version": "1.0.0",
      "model_name": "SliderStyleModel",
      "state": {
       "description_width": ""
      }
     },
     "a5db2d8b419a47b08f8dfca13524deec": {
      "model_module": "@jupyter-widgets/controls",
      "model_module_version": "1.0.0",
      "model_name": "SliderStyleModel",
      "state": {
       "description_width": ""
      }
     },
     "a5ec7480cf1347b9add55821bfd5d126": {
      "model_module": "@jupyter-widgets/base",
      "model_module_version": "1.0.0",
      "model_name": "LayoutModel",
      "state": {}
     },
     "a5f69e78401948b983d55ffeef11322c": {
      "model_module": "@jupyter-widgets/base",
      "model_module_version": "1.0.0",
      "model_name": "LayoutModel",
      "state": {}
     },
     "a62f8490d26d4473a8556a2f4792bee1": {
      "model_module": "@jupyter-widgets/controls",
      "model_module_version": "1.0.0",
      "model_name": "SliderStyleModel",
      "state": {
       "description_width": ""
      }
     },
     "a6765dde2a0947518cd142f3dd6dc9c9": {
      "model_module": "@jupyter-widgets/base",
      "model_module_version": "1.0.0",
      "model_name": "LayoutModel",
      "state": {}
     },
     "a690428d3c9243cd8953a2ee2f838221": {
      "model_module": "@jupyter-widgets/controls",
      "model_module_version": "1.0.0",
      "model_name": "IntSliderModel",
      "state": {
       "description": "degrees",
       "layout": "IPY_MODEL_f04237ca32f24dd8bf9735548eed436b",
       "max": 360,
       "min": -360,
       "style": "IPY_MODEL_862715dc7b7642448662c1ca6b52be42",
       "value": -3
      }
     },
     "a6afeaee117d4c87819cceb651ddf789": {
      "model_module": "jp_proxy_widget",
      "model_module_version": "^0.3.4",
      "model_name": "JSProxyModel",
      "state": {
       "_model_module_version": "^0.3.4",
       "_send_counter": 8,
       "_view_module_version": "^0.3.4",
       "error_msg": "No error",
       "layout": "IPY_MODEL_7c3418e1e8ca43bab6ef5371bb932f4e",
       "rendered": true,
       "status": "Got results."
      }
     },
     "a6d069049d974f4086d1b78e62383f1b": {
      "model_module": "@jupyter-widgets/controls",
      "model_module_version": "1.0.0",
      "model_name": "SliderStyleModel",
      "state": {
       "description_width": ""
      }
     },
     "a7139a7daaec47d791a40fde3c8bdc3d": {
      "model_module": "@jupyter-widgets/controls",
      "model_module_version": "1.0.0",
      "model_name": "SliderStyleModel",
      "state": {
       "description_width": ""
      }
     },
     "a71e0a46812143639219cc267a777e26": {
      "model_module": "@jupyter-widgets/output",
      "model_module_version": "1.0.0",
      "model_name": "OutputModel",
      "state": {
       "layout": "IPY_MODEL_11d8c75a31fc47a68db22ba03fe70172"
      }
     },
     "a76598dabb5b438eb99011de3a3e5eb9": {
      "model_module": "@jupyter-widgets/base",
      "model_module_version": "1.0.0",
      "model_name": "LayoutModel",
      "state": {}
     },
     "a7695c8029704b4e8212ccdeb31f440e": {
      "model_module": "@jupyter-widgets/controls",
      "model_module_version": "1.0.0",
      "model_name": "SliderStyleModel",
      "state": {
       "description_width": ""
      }
     },
     "a7710192fd874c38927a02c6f9c89831": {
      "model_module": "@jupyter-widgets/controls",
      "model_module_version": "1.0.0",
      "model_name": "IntSliderModel",
      "state": {
       "description": "y1",
       "layout": "IPY_MODEL_d538a6b926244c978935e5e426402afc",
       "min": -100,
       "style": "IPY_MODEL_b315ccd9b77841409d8662a69e113dd5",
       "value": -26
      }
     },
     "a796e87e80984babb3aea6f8278446c4": {
      "model_module": "@jupyter-widgets/base",
      "model_module_version": "1.0.0",
      "model_name": "LayoutModel",
      "state": {}
     },
     "a7a5c7fbf4eb41b28a7670088c55803e": {
      "model_module": "@jupyter-widgets/controls",
      "model_module_version": "1.0.0",
      "model_name": "DescriptionStyleModel",
      "state": {
       "description_width": ""
      }
     },
     "a7b66fbab77c406bb7f10192143b06ce": {
      "model_module": "@jupyter-widgets/base",
      "model_module_version": "1.0.0",
      "model_name": "LayoutModel",
      "state": {}
     },
     "a7b79cc948c1472eaaeb045dceb9b5e1": {
      "model_module": "@jupyter-widgets/controls",
      "model_module_version": "1.0.0",
      "model_name": "IntSliderModel",
      "state": {
       "description": "x",
       "layout": "IPY_MODEL_e3f96fdaf0654b9bb5ef5fe5d95dbefb",
       "min": -100,
       "style": "IPY_MODEL_6c3a5664f9b848b1bc1ddee2ca8cc870"
      }
     },
     "a7fe19671d3d48a887edf292ca9feeca": {
      "model_module": "@jupyter-widgets/controls",
      "model_module_version": "1.0.0",
      "model_name": "IntSliderModel",
      "state": {
       "description": "blue",
       "layout": "IPY_MODEL_41484ed2655643e08c0097d01cd4735b",
       "max": 255,
       "style": "IPY_MODEL_b113d16c7bd242f3949b22a26ba6f6f3",
       "value": 255
      }
     },
     "a817562f2cf84d62b26f143dff2f6677": {
      "model_module": "@jupyter-widgets/base",
      "model_module_version": "1.0.0",
      "model_name": "LayoutModel",
      "state": {}
     },
     "a83665ebed594db195e1ee15116102fa": {
      "model_module": "@jupyter-widgets/base",
      "model_module_version": "1.0.0",
      "model_name": "LayoutModel",
      "state": {}
     },
     "a837d6ff2c364206824be155e814bbe0": {
      "model_module": "@jupyter-widgets/controls",
      "model_module_version": "1.0.0",
      "model_name": "SliderStyleModel",
      "state": {
       "description_width": ""
      }
     },
     "a84675d11d67424fb6a9343edc54cc6e": {
      "model_module": "@jupyter-widgets/controls",
      "model_module_version": "1.0.0",
      "model_name": "CheckboxModel",
      "state": {
       "description": "fill",
       "disabled": false,
       "layout": "IPY_MODEL_32dd3842cfd84edcaa0383b5a1aa5cae",
       "style": "IPY_MODEL_525bb4ec0d4445d692687c165d517fd6",
       "value": true
      }
     },
     "a895c20fa5904e5e90d479a850648308": {
      "model_module": "@jupyter-widgets/controls",
      "model_module_version": "1.0.0",
      "model_name": "SliderStyleModel",
      "state": {
       "description_width": ""
      }
     },
     "a89e0eae175246b4813f7ab11a7d7dbc": {
      "model_module": "@jupyter-widgets/base",
      "model_module_version": "1.0.0",
      "model_name": "LayoutModel",
      "state": {}
     },
     "a89f8ea5835443bc8de1b6610915682b": {
      "model_module": "@jupyter-widgets/controls",
      "model_module_version": "1.0.0",
      "model_name": "SliderStyleModel",
      "state": {
       "description_width": ""
      }
     },
     "a8a6968d6f6e4bde8507d981c1d4dff9": {
      "model_module": "@jupyter-widgets/base",
      "model_module_version": "1.0.0",
      "model_name": "LayoutModel",
      "state": {}
     },
     "a8d4c3fd16ab4245a16428aa9021b616": {
      "model_module": "@jupyter-widgets/controls",
      "model_module_version": "1.0.0",
      "model_name": "TabModel",
      "state": {
       "_titles": {
        "0": "Canvas",
        "1": "Snapshot"
       },
       "children": [
        "IPY_MODEL_34e04ba915f74f3bae7aea7b41796ed3",
        "IPY_MODEL_3137af19dab94d0196ba067e9e41e63b"
       ],
       "layout": "IPY_MODEL_2818da40efa2451ea93d3b75a745c880"
      }
     },
     "a8ed4bd7010b4157b403b645c909d09b": {
      "model_module": "@jupyter-widgets/base",
      "model_module_version": "1.0.0",
      "model_name": "LayoutModel",
      "state": {}
     },
     "a907ed66ad484584a6a2dca6aaf5fc04": {
      "model_module": "@jupyter-widgets/base",
      "model_module_version": "1.0.0",
      "model_name": "LayoutModel",
      "state": {}
     },
     "a91cb63369404a839fa3279e3442ce59": {
      "model_module": "@jupyter-widgets/controls",
      "model_module_version": "1.0.0",
      "model_name": "IntSliderModel",
      "state": {
       "description": "red",
       "layout": "IPY_MODEL_0711718a6c504992a69b52793ab8fae7",
       "max": 255,
       "style": "IPY_MODEL_29175feef1a148e18a99ea050f6789a2",
       "value": 127
      }
     },
     "a9725976eee54c08869ce129eed45be3": {
      "model_module": "@jupyter-widgets/controls",
      "model_module_version": "1.0.0",
      "model_name": "FloatSliderModel",
      "state": {
       "description": "alpha",
       "layout": "IPY_MODEL_199aa7e23a00433ba45d8231b55ae762",
       "max": 1,
       "step": 0.1,
       "style": "IPY_MODEL_8142417d674540de833028324adc982c",
       "value": 1
      }
     },
     "a978688fa6d84dd4be067a0b6c83ddec": {
      "model_module": "@jupyter-widgets/base",
      "model_module_version": "1.0.0",
      "model_name": "LayoutModel",
      "state": {}
     },
     "a9850fccd3c04fbd83bd7b4aa40deff6": {
      "model_module": "@jupyter-widgets/controls",
      "model_module_version": "1.0.0",
      "model_name": "HTMLModel",
      "state": {
       "layout": "IPY_MODEL_460aad71be2844eaa50d17fbb17a0b09",
       "style": "IPY_MODEL_b7861027dc4b41a8be0fb038f6a0b24a",
       "value": "<img src=\"interactive_rectangle2.png\" id=\"snapshot_id_21_1536268014900\"/>\n <div id=\"snapshot_id_22_1536268014900\">interactive_rectangle2.png</div>"
      }
     },
     "a99673c6ce4d47a8a0afbad27a81988e": {
      "model_module": "@jupyter-widgets/base",
      "model_module_version": "1.0.0",
      "model_name": "LayoutModel",
      "state": {}
     },
     "a9ad4a23aec54b7e85e22a7ddde4cf9f": {
      "model_module": "@jupyter-widgets/controls",
      "model_module_version": "1.0.0",
      "model_name": "IntSliderModel",
      "state": {
       "description": "r",
       "layout": "IPY_MODEL_94e4936f21ca4a88b80e7ca0a953f36b",
       "style": "IPY_MODEL_e831c1d4f55c448ea55761cc3d2f358d",
       "value": 50
      }
     },
     "aa2f95ce469b4e9483a2a8d5775cb66b": {
      "model_module": "jp_proxy_widget",
      "model_module_version": "^0.3.4",
      "model_name": "JSProxyModel",
      "state": {
       "_model_module_version": "^0.3.4",
       "_send_counter": 8,
       "_view_module_version": "^0.3.4",
       "error_msg": "No error",
       "layout": "IPY_MODEL_49f8afd4c65042e2b45e9918a9b2a2e5",
       "rendered": true,
       "status": "Got results."
      }
     },
     "aa331e7213d547a6af42a3951e2d8391": {
      "model_module": "@jupyter-widgets/base",
      "model_module_version": "1.0.0",
      "model_name": "LayoutModel",
      "state": {}
     },
     "aa4bd49b733944568e690541d93119a1": {
      "model_module": "@jupyter-widgets/base",
      "model_module_version": "1.0.0",
      "model_name": "LayoutModel",
      "state": {}
     },
     "aaa40bbc1ed243bda89c812cf3486b67": {
      "model_module": "@jupyter-widgets/base",
      "model_module_version": "1.0.0",
      "model_name": "LayoutModel",
      "state": {}
     },
     "aad571870bce4fd0a13afd5a407bb798": {
      "model_module": "@jupyter-widgets/controls",
      "model_module_version": "1.0.0",
      "model_name": "VBoxModel",
      "state": {
       "_dom_classes": [
        "widget-interact"
       ],
       "children": [
        "IPY_MODEL_7abb52453fb04d0087ae7856d04f0512",
        "IPY_MODEL_120f53b2f22744898f2dcba332c72471",
        "IPY_MODEL_278c14b15124447588f0c5b9b1090a1e",
        "IPY_MODEL_5fd66191b18246f8ace0c8f2d90afa26",
        "IPY_MODEL_92ab3206b3b045359ddf9e9268a4954b",
        "IPY_MODEL_ad3b5b8f9c18486ea4fff2ab006ae4b1",
        "IPY_MODEL_5f605a3c0bf94dd7b50caaa65efc0ffa",
        "IPY_MODEL_7e51d38002b54e0ebd18f159f4d7e26e"
       ],
       "layout": "IPY_MODEL_d2ee1e268a02467cbec808a81abda56b"
      }
     },
     "aaf239bd30944d0cad7ddea1b6fa57c8": {
      "model_module": "@jupyter-widgets/base",
      "model_module_version": "1.0.0",
      "model_name": "LayoutModel",
      "state": {}
     },
     "ab05b6ebf11a414689aa9c0a754256bc": {
      "model_module": "@jupyter-widgets/base",
      "model_module_version": "1.0.0",
      "model_name": "LayoutModel",
      "state": {}
     },
     "ab3c247325834dab8dc31571248aff4a": {
      "model_module": "@jupyter-widgets/base",
      "model_module_version": "1.0.0",
      "model_name": "LayoutModel",
      "state": {}
     },
     "aba9e6d809a04cdb8f8d7d9e653c7316": {
      "model_module": "@jupyter-widgets/base",
      "model_module_version": "1.0.0",
      "model_name": "LayoutModel",
      "state": {}
     },
     "ac09a2d816d245b1b4e2206d6f441ef9": {
      "model_module": "@jupyter-widgets/controls",
      "model_module_version": "1.0.0",
      "model_name": "IntSliderModel",
      "state": {
       "description": "green",
       "layout": "IPY_MODEL_d22f0614b98c4b1eae236fdb8c18c638",
       "max": 255,
       "style": "IPY_MODEL_56617b2f5f1b4ee2a05400e1398ff924"
      }
     },
     "ac1085b427584a88b03c019ba5b35317": {
      "model_module": "@jupyter-widgets/base",
      "model_module_version": "1.0.0",
      "model_name": "LayoutModel",
      "state": {}
     },
     "ac264d2086a743c5a7c6d05dee267a4a": {
      "model_module": "@jupyter-widgets/base",
      "model_module_version": "1.0.0",
      "model_name": "LayoutModel",
      "state": {}
     },
     "ac8bcbb72d4043d8854ecd8f3494a1d3": {
      "model_module": "@jupyter-widgets/controls",
      "model_module_version": "1.0.0",
      "model_name": "HTMLModel",
      "state": {
       "layout": "IPY_MODEL_4f6ad3ad878d4109b669c27889752e15",
       "style": "IPY_MODEL_5956e81c07a44f5098ab7f63476b1f7e",
       "value": "<img src=\"interactive_rectangle.png\" id=\"snapshot_id_29_1536268644354\"/>\n <div id=\"snapshot_id_30_1536268644354\">interactive_rectangle.png</div>"
      }
     },
     "aca9c5619da7495fab991c1214b4643a": {
      "model_module": "@jupyter-widgets/base",
      "model_module_version": "1.0.0",
      "model_name": "LayoutModel",
      "state": {}
     },
     "acb52ce4c3ad4dfa87a7c361340ffe58": {
      "model_module": "@jupyter-widgets/controls",
      "model_module_version": "1.0.0",
      "model_name": "HTMLModel",
      "state": {
       "layout": "IPY_MODEL_e6612e47c4d64d2f9f9f1ca073b57196",
       "style": "IPY_MODEL_1d3002310a3546499fae87434bfa97ce",
       "value": "<img src=\"interactive_line.png\" id=\"snapshot_id_1_1536843565483\"/>\n <div id=\"snapshot_id_2_1536843565483\">interactive_line.png</div>"
      }
     },
     "ace7cbbdcdd14deaa8d4ed74791d607a": {
      "model_module": "jp_proxy_widget",
      "model_module_version": "^0.3.4",
      "model_name": "JSProxyModel",
      "state": {
       "_model_module_version": "^0.3.4",
       "_send_counter": 10,
       "_view_module_version": "^0.3.4",
       "error_msg": "No error",
       "layout": "IPY_MODEL_6d4d21c7ae254ed783fb1637f1ce3e14",
       "rendered": true,
       "status": "Got results."
      }
     },
     "aceea22abb284a589c84a2d8ba6f2e42": {
      "model_module": "@jupyter-widgets/controls",
      "model_module_version": "1.0.0",
      "model_name": "IntSliderModel",
      "state": {
       "description": "dy",
       "layout": "IPY_MODEL_b7f44bb0e4fb484aa4abf3ef0fb8a433",
       "min": -100,
       "style": "IPY_MODEL_872a15b914ca4d62a4a9abbf76b3a45d"
      }
     },
     "ad064ec60306491cb1815b9abdbb5119": {
      "model_module": "@jupyter-widgets/base",
      "model_module_version": "1.0.0",
      "model_name": "LayoutModel",
      "state": {}
     },
     "ad2d170c8b03485abd7e77de4a619edf": {
      "model_module": "@jupyter-widgets/controls",
      "model_module_version": "1.0.0",
      "model_name": "VBoxModel",
      "state": {
       "_dom_classes": [
        "widget-interact"
       ],
       "children": [
        "IPY_MODEL_bfb5d5e81d9548a9af70e63c05250087",
        "IPY_MODEL_f660f2aebd3e41459baf5952ec52ec7b",
        "IPY_MODEL_b03c7a1aa8dd463091010c53a39cb159",
        "IPY_MODEL_364817d6ce7a4904b270524afa789cf7",
        "IPY_MODEL_3462e27fd50e485695a62b08636f316b",
        "IPY_MODEL_1415fdca4e46409eb59cf54fee80efde",
        "IPY_MODEL_2d25cde2c3a34ce78c0183785f2b5627",
        "IPY_MODEL_d0c0dee0922c469aad59bd249675d036",
        "IPY_MODEL_548c4b2d07df456f98cfa8e9e4041b15",
        "IPY_MODEL_3e4c590d40324812b350512df6bfe115",
        "IPY_MODEL_d2c723e1d21e4cd1ae36a66547296c25",
        "IPY_MODEL_8dcfe9fbf00f4154a4f1bdfd4e590aa3"
       ],
       "layout": "IPY_MODEL_27012439e37b43689536808bef069672"
      }
     },
     "ad31aa36b3d74280a0da8d037498f93e": {
      "model_module": "@jupyter-widgets/controls",
      "model_module_version": "1.0.0",
      "model_name": "TabModel",
      "state": {
       "_titles": {
        "0": "Canvas",
        "1": "Snapshot"
       },
       "children": [
        "IPY_MODEL_0641ffaf24394f268c2c18cdf7b810bb",
        "IPY_MODEL_813ee9d0f1c5434591c30f50d498c48d"
       ],
       "layout": "IPY_MODEL_5caef0a5004e4315a212fb9303d9ab20"
      }
     },
     "ad3b5b8f9c18486ea4fff2ab006ae4b1": {
      "model_module": "@jupyter-widgets/controls",
      "model_module_version": "1.0.0",
      "model_name": "IntSliderModel",
      "state": {
       "description": "blue",
       "layout": "IPY_MODEL_74faef74215548369eb533fd4e826347",
       "max": 255,
       "style": "IPY_MODEL_841974ce7e044120bd782f63a01aa66b",
       "value": 127
      }
     },
     "ad512bcaf4a04daa8b0e0ad8323f166f": {
      "model_module": "@jupyter-widgets/base",
      "model_module_version": "1.0.0",
      "model_name": "LayoutModel",
      "state": {}
     },
     "ad76cdf708024e84af977f430db6754f": {
      "model_module": "@jupyter-widgets/controls",
      "model_module_version": "1.0.0",
      "model_name": "IntSliderModel",
      "state": {
       "description": "red",
       "layout": "IPY_MODEL_0772d72b375e413dbcfb10010cb42e55",
       "max": 255,
       "style": "IPY_MODEL_a1f400faccc74475b01560ace5063bc4",
       "value": 255
      }
     },
     "ad81e4957373490ea2d83440a1f06289": {
      "model_module": "jp_proxy_widget",
      "model_module_version": "^0.3.4",
      "model_name": "JSProxyModel",
      "state": {
       "_model_module_version": "^0.3.4",
       "_send_counter": 8,
       "_view_module_version": "^0.3.4",
       "error_msg": "No error",
       "layout": "IPY_MODEL_06c7e09f993543399edab0f8d7be2a68",
       "rendered": true,
       "status": "Got results."
      }
     },
     "ad8a2b78acbf49ca920c3a83de258486": {
      "model_module": "@jupyter-widgets/controls",
      "model_module_version": "1.0.0",
      "model_name": "SliderStyleModel",
      "state": {
       "description_width": ""
      }
     },
     "ad98b8d469854e1999cd606f78b78aa1": {
      "model_module": "@jupyter-widgets/base",
      "model_module_version": "1.0.0",
      "model_name": "LayoutModel",
      "state": {}
     },
     "ad9ac3883d7a4a2cb5551d0094173280": {
      "model_module": "@jupyter-widgets/output",
      "model_module_version": "1.0.0",
      "model_name": "OutputModel",
      "state": {
       "layout": "IPY_MODEL_716d22fdd9264a66aff6b4d335d77b12"
      }
     },
     "ad9e4f3cd6a849ea83f0c55b902c7803": {
      "model_module": "@jupyter-widgets/controls",
      "model_module_version": "1.0.0",
      "model_name": "SliderStyleModel",
      "state": {
       "description_width": ""
      }
     },
     "adb61307029a413db984b5aff4a0d460": {
      "model_module": "@jupyter-widgets/base",
      "model_module_version": "1.0.0",
      "model_name": "LayoutModel",
      "state": {}
     },
     "adbaaddc728b42dfbab21ec286379b64": {
      "model_module": "@jupyter-widgets/controls",
      "model_module_version": "1.0.0",
      "model_name": "CheckboxModel",
      "state": {
       "description": "fill",
       "disabled": false,
       "layout": "IPY_MODEL_bd42569f3e1a4190b29d2cf03881a6b6",
       "style": "IPY_MODEL_8d35756d5b594468ac91929a0cafe38f",
       "value": true
      }
     },
     "adcdd0ed7e0b45ac916fa9c875acfd1e": {
      "model_module": "@jupyter-widgets/controls",
      "model_module_version": "1.0.0",
      "model_name": "VBoxModel",
      "state": {
       "_dom_classes": [
        "widget-interact"
       ],
       "children": [
        "IPY_MODEL_1a1abcf76ed9493fba78f3699f57aa52",
        "IPY_MODEL_9fbeec1b73f64c2cbe6c55427bc86dde",
        "IPY_MODEL_b232d4094d4440ec9fa7825c63abbe6d",
        "IPY_MODEL_3111dc70ff244d0891a651244c6578cf",
        "IPY_MODEL_cdd59653765a453a8ea86d10d3942b2d",
        "IPY_MODEL_ba51bfa81d684da4b93dd347db03872f",
        "IPY_MODEL_f27dc97bdcda4ffe92471ba17a77cd87",
        "IPY_MODEL_adbaaddc728b42dfbab21ec286379b64",
        "IPY_MODEL_ca49dec8e05f4407aaf375e474c4bcb7",
        "IPY_MODEL_f784a82fec144e189d614fd45b001b3f",
        "IPY_MODEL_8f52c27644c74311925b48362952bc7b",
        "IPY_MODEL_0341be857f89415a999b1d56d3e4f063",
        "IPY_MODEL_530477f1c0fb47b7a36031836ced98ed",
        "IPY_MODEL_78608b96edfd46af8ef1e85ba4b4dde0"
       ],
       "layout": "IPY_MODEL_579a2f8c3c314b3cb0ba47f3746dfd7e"
      }
     },
     "adeef088174a4a4cbaf480b4c15eb80d": {
      "model_module": "@jupyter-widgets/controls",
      "model_module_version": "1.0.0",
      "model_name": "SliderStyleModel",
      "state": {
       "description_width": ""
      }
     },
     "adfaa824e21d42cdbe35d69e0d3c7fa4": {
      "model_module": "@jupyter-widgets/base",
      "model_module_version": "1.0.0",
      "model_name": "LayoutModel",
      "state": {}
     },
     "ae0aa466feaf4779811b94927ae580b4": {
      "model_module": "@jupyter-widgets/controls",
      "model_module_version": "1.0.0",
      "model_name": "SliderStyleModel",
      "state": {
       "description_width": ""
      }
     },
     "ae32ebc2ccce45afbd02a02f5d085753": {
      "model_module": "@jupyter-widgets/base",
      "model_module_version": "1.0.0",
      "model_name": "LayoutModel",
      "state": {}
     },
     "ae662bb392a049859ac33368a1e22d7c": {
      "model_module": "@jupyter-widgets/controls",
      "model_module_version": "1.0.0",
      "model_name": "SliderStyleModel",
      "state": {
       "description_width": ""
      }
     },
     "ae77c7584fdf41a38bf4fecbef2531ca": {
      "model_module": "@jupyter-widgets/base",
      "model_module_version": "1.0.0",
      "model_name": "LayoutModel",
      "state": {}
     },
     "aeaa55f4a37247f98d3dafd7ec15f247": {
      "model_module": "@jupyter-widgets/controls",
      "model_module_version": "1.0.0",
      "model_name": "FloatSliderModel",
      "state": {
       "description": "alpha",
       "layout": "IPY_MODEL_fb6b06434ccc4d08a576f28986e68133",
       "max": 1,
       "step": 0.1,
       "style": "IPY_MODEL_0965547da6e141d8ae9d333ef196b042",
       "value": 1
      }
     },
     "aeb3cd3b74c3402e936664314ac099c8": {
      "model_module": "@jupyter-widgets/controls",
      "model_module_version": "1.0.0",
      "model_name": "SliderStyleModel",
      "state": {
       "description_width": ""
      }
     },
     "aecb26f4530545afa1470e4e977433fa": {
      "model_module": "@jupyter-widgets/base",
      "model_module_version": "1.0.0",
      "model_name": "LayoutModel",
      "state": {}
     },
     "aecb392449b845c6bb67f20a36abdc26": {
      "model_module": "@jupyter-widgets/controls",
      "model_module_version": "1.0.0",
      "model_name": "SliderStyleModel",
      "state": {
       "description_width": ""
      }
     },
     "aed552f711b14f6db7a42e5a8a0586cd": {
      "model_module": "@jupyter-widgets/controls",
      "model_module_version": "1.0.0",
      "model_name": "CheckboxModel",
      "state": {
       "description": "fill",
       "disabled": false,
       "layout": "IPY_MODEL_ac264d2086a743c5a7c6d05dee267a4a",
       "style": "IPY_MODEL_5933621444114d4ab5a994f0ded88e3f",
       "value": true
      }
     },
     "aeef2d01cfaf49939ea4f81be4dc10fa": {
      "model_module": "@jupyter-widgets/controls",
      "model_module_version": "1.0.0",
      "model_name": "HTMLModel",
      "state": {
       "layout": "IPY_MODEL_7dcfd29da0aa4e149d06378de6474f21",
       "style": "IPY_MODEL_0a165a16730a411cafac642b0eafe0e5",
       "value": "<img src=\"interactive_circle.png\" id=\"snapshot_id_3_1536249905299\"/>\n <div id=\"snapshot_id_4_1536249905300\">interactive_circle.png</div>"
      }
     },
     "aef8426a607a4401bf3deeaefc189e84": {
      "model_module": "@jupyter-widgets/controls",
      "model_module_version": "1.0.0",
      "model_name": "DescriptionStyleModel",
      "state": {
       "description_width": ""
      }
     },
     "af3b3f154c8149e4a4c9c9060a8a32b9": {
      "model_module": "jp_proxy_widget",
      "model_module_version": "^0.3.4",
      "model_name": "JSProxyModel",
      "state": {
       "_model_module_version": "^0.3.4",
       "_send_counter": 2,
       "_view_module_version": "^0.3.4",
       "error_msg": "No error",
       "layout": "IPY_MODEL_a817562f2cf84d62b26f143dff2f6677",
       "rendered": true,
       "status": "Got results."
      }
     },
     "af637c81abac4081a0a5933eb0a6bb06": {
      "model_module": "@jupyter-widgets/output",
      "model_module_version": "1.0.0",
      "model_name": "OutputModel",
      "state": {
       "layout": "IPY_MODEL_306102ceeafd4b5a844af48aff0536f7"
      }
     },
     "b000f583281e40d5978547bb27fc60da": {
      "model_module": "jp_proxy_widget",
      "model_module_version": "^0.3.4",
      "model_name": "JSProxyModel",
      "state": {
       "_model_module_version": "^0.3.4",
       "_send_counter": 2,
       "_view_module_version": "^0.3.4",
       "error_msg": "No error",
       "layout": "IPY_MODEL_0ac8962311e442a6b9131ec618ebbae7",
       "rendered": true,
       "status": "Got results."
      }
     },
     "b01e7c425dbb46bf8e031f8138807607": {
      "model_module": "@jupyter-widgets/base",
      "model_module_version": "1.0.0",
      "model_name": "LayoutModel",
      "state": {}
     },
     "b02b5eeaff684c63bd5fc983aba6a5b4": {
      "model_module": "@jupyter-widgets/controls",
      "model_module_version": "1.0.0",
      "model_name": "IntSliderModel",
      "state": {
       "description": "x",
       "layout": "IPY_MODEL_4f95c3887cf847779cfdc721203b7ac7",
       "min": -100,
       "style": "IPY_MODEL_ad9e4f3cd6a849ea83f0c55b902c7803"
      }
     },
     "b03c7a1aa8dd463091010c53a39cb159": {
      "model_module": "@jupyter-widgets/controls",
      "model_module_version": "1.0.0",
      "model_name": "IntSliderModel",
      "state": {
       "description": "w",
       "layout": "IPY_MODEL_57d0523b00c04f79a784a983c12c2cee",
       "max": 300,
       "min": -300,
       "style": "IPY_MODEL_0cb328fb5fac4df5bd04e16affa363b2",
       "value": 121
      }
     },
     "b0559fa9d89647198546212cf3702549": {
      "model_module": "@jupyter-widgets/base",
      "model_module_version": "1.0.0",
      "model_name": "LayoutModel",
      "state": {}
     },
     "b075a8d9ce1b484591f76e43c8aa5231": {
      "model_module": "@jupyter-widgets/controls",
      "model_module_version": "1.0.0",
      "model_name": "DescriptionStyleModel",
      "state": {
       "description_width": ""
      }
     },
     "b07e62c6c07d4814860ba92a0e58c38a": {
      "model_module": "jp_proxy_widget",
      "model_module_version": "^0.3.4",
      "model_name": "JSProxyModel",
      "state": {
       "_model_module_version": "^0.3.4",
       "_send_counter": 2,
       "_view_module_version": "^0.3.4",
       "error_msg": "No error",
       "layout": "IPY_MODEL_72f0a85eac66457c8896743b3888cc6b",
       "rendered": true,
       "status": "Got results."
      }
     },
     "b0bf3ef42a544012ac747637cf0e9143": {
      "model_module": "@jupyter-widgets/controls",
      "model_module_version": "1.0.0",
      "model_name": "IntSliderModel",
      "state": {
       "description": "red",
       "layout": "IPY_MODEL_a8a6968d6f6e4bde8507d981c1d4dff9",
       "max": 255,
       "style": "IPY_MODEL_0de6e360c2ef40949e6fa5124c73644a",
       "value": 255
      }
     },
     "b0c9a842d4af4dda9c0362edb30fdd31": {
      "model_module": "@jupyter-widgets/base",
      "model_module_version": "1.0.0",
      "model_name": "LayoutModel",
      "state": {}
     },
     "b0e051589e98426c8122b50e5614bf32": {
      "model_module": "@jupyter-widgets/base",
      "model_module_version": "1.0.0",
      "model_name": "LayoutModel",
      "state": {}
     },
     "b1126a34fafc43049a8bb0fa7b268819": {
      "model_module": "@jupyter-widgets/base",
      "model_module_version": "1.0.0",
      "model_name": "LayoutModel",
      "state": {}
     },
     "b113d16c7bd242f3949b22a26ba6f6f3": {
      "model_module": "@jupyter-widgets/controls",
      "model_module_version": "1.0.0",
      "model_name": "SliderStyleModel",
      "state": {
       "description_width": ""
      }
     },
     "b183ff6808a9422189f14f676f905c9e": {
      "model_module": "@jupyter-widgets/controls",
      "model_module_version": "1.0.0",
      "model_name": "TabModel",
      "state": {
       "_titles": {
        "0": "Canvas",
        "1": "Snapshot"
       },
       "children": [
        "IPY_MODEL_9b39b834f0774be2bb2a4275eef1f3bd",
        "IPY_MODEL_a9850fccd3c04fbd83bd7b4aa40deff6"
       ],
       "layout": "IPY_MODEL_7051678c881e4a09ad0f6d414720a272"
      }
     },
     "b1952b7a9a8f4f06bcbc2d7268933771": {
      "model_module": "@jupyter-widgets/controls",
      "model_module_version": "1.0.0",
      "model_name": "SliderStyleModel",
      "state": {
       "description_width": ""
      }
     },
     "b1d77485b05942f0ae52eb456b75c3da": {
      "model_module": "@jupyter-widgets/controls",
      "model_module_version": "1.0.0",
      "model_name": "SliderStyleModel",
      "state": {
       "description_width": ""
      }
     },
     "b232d4094d4440ec9fa7825c63abbe6d": {
      "model_module": "@jupyter-widgets/controls",
      "model_module_version": "1.0.0",
      "model_name": "IntSliderModel",
      "state": {
       "description": "w",
       "layout": "IPY_MODEL_f2c5b7b13eb14d68ae2ebd7fbfc7c340",
       "max": 300,
       "min": -300,
       "style": "IPY_MODEL_7b22d20645bc461d8e495e5fe8cee6e8",
       "value": 10
      }
     },
     "b23dbdcd7e59490e83482dd67ada8a81": {
      "model_module": "@jupyter-widgets/base",
      "model_module_version": "1.0.0",
      "model_name": "LayoutModel",
      "state": {}
     },
     "b251b72b62b04fe7aafb29fb28efd1fc": {
      "model_module": "@jupyter-widgets/base",
      "model_module_version": "1.0.0",
      "model_name": "LayoutModel",
      "state": {}
     },
     "b2808eb5701c4b898f2d985b1c52d6ff": {
      "model_module": "@jupyter-widgets/base",
      "model_module_version": "1.0.0",
      "model_name": "LayoutModel",
      "state": {}
     },
     "b2922ccad79943ad811cdecfc33293ff": {
      "model_module": "@jupyter-widgets/base",
      "model_module_version": "1.0.0",
      "model_name": "LayoutModel",
      "state": {}
     },
     "b2b96f5306a54adaa60234ec566ab5e7": {
      "model_module": "@jupyter-widgets/base",
      "model_module_version": "1.0.0",
      "model_name": "LayoutModel",
      "state": {}
     },
     "b301ab582eeb49f9b480550426a02315": {
      "model_module": "@jupyter-widgets/base",
      "model_module_version": "1.0.0",
      "model_name": "LayoutModel",
      "state": {}
     },
     "b30542ec67c940128ae126e2e41a6119": {
      "model_module": "@jupyter-widgets/base",
      "model_module_version": "1.0.0",
      "model_name": "LayoutModel",
      "state": {}
     },
     "b315ccd9b77841409d8662a69e113dd5": {
      "model_module": "@jupyter-widgets/controls",
      "model_module_version": "1.0.0",
      "model_name": "SliderStyleModel",
      "state": {
       "description_width": ""
      }
     },
     "b32814a3909546348d771146e2cc04a5": {
      "model_module": "@jupyter-widgets/controls",
      "model_module_version": "1.0.0",
      "model_name": "FloatSliderModel",
      "state": {
       "description": "start",
       "layout": "IPY_MODEL_a1b35c0157364dde85d326ffe6273bf4",
       "max": 6.383185307179586,
       "step": 0.1,
       "style": "IPY_MODEL_40b3a6e46868489c8da8169d343837c4",
       "value": 2.6
      }
     },
     "b33cb00102d14143ab21cdceead4b814": {
      "model_module": "@jupyter-widgets/controls",
      "model_module_version": "1.0.0",
      "model_name": "IntSliderModel",
      "state": {
       "description": "w",
       "layout": "IPY_MODEL_7ea80488a7b34816b242c0d957f00d1c",
       "max": 300,
       "min": -300,
       "style": "IPY_MODEL_7ebd3ea6b73a4f77a2dcd36cbfcf4bfc",
       "value": 100
      }
     },
     "b34cec64080c447cb8f0edadd7cce72a": {
      "model_module": "@jupyter-widgets/base",
      "model_module_version": "1.0.0",
      "model_name": "LayoutModel",
      "state": {}
     },
     "b3789c225f4a4ff683e2cfe5b7c3d354": {
      "model_module": "@jupyter-widgets/controls",
      "model_module_version": "1.0.0",
      "model_name": "IntSliderModel",
      "state": {
       "description": "lineWidth",
       "layout": "IPY_MODEL_ec9a4c8fe6df4f229b5b07f6fdddcf76",
       "max": 20,
       "style": "IPY_MODEL_076401acc0ed4270ba5ddb059105b700",
       "value": 19
      }
     },
     "b38c81cbff524c1d8eccbec8ba83f52a": {
      "model_module": "@jupyter-widgets/base",
      "model_module_version": "1.0.0",
      "model_name": "LayoutModel",
      "state": {}
     },
     "b3a54178d86746b7a5c65be4281a7a09": {
      "model_module": "@jupyter-widgets/controls",
      "model_module_version": "1.0.0",
      "model_name": "SliderStyleModel",
      "state": {
       "description_width": ""
      }
     },
     "b3a74ed6f86140d8a213a74551fe12fa": {
      "model_module": "@jupyter-widgets/controls",
      "model_module_version": "1.0.0",
      "model_name": "IntSliderModel",
      "state": {
       "description": "h",
       "layout": "IPY_MODEL_58132c2268c547e78418fcdb2993164a",
       "max": 300,
       "min": -300,
       "style": "IPY_MODEL_cfa12cfa008640eaa4a84e33872b9c0f",
       "value": 50
      }
     },
     "b3ae95d92943403d9fdf8b440b491b8d": {
      "model_module": "@jupyter-widgets/base",
      "model_module_version": "1.0.0",
      "model_name": "LayoutModel",
      "state": {}
     },
     "b3e7e9ade30248dcb7d7bb017a1f77eb": {
      "model_module": "@jupyter-widgets/base",
      "model_module_version": "1.0.0",
      "model_name": "LayoutModel",
      "state": {}
     },
     "b3f1a97ecd8b4aab91af8726e1063296": {
      "model_module": "jp_proxy_widget",
      "model_module_version": "^0.3.4",
      "model_name": "JSProxyModel",
      "state": {
       "_model_module_version": "^0.3.4",
       "_send_counter": 2,
       "_view_module_version": "^0.3.4",
       "error_msg": "No error",
       "layout": "IPY_MODEL_4f67d023507b402ba18c542e953f8890",
       "rendered": true,
       "status": "Got results."
      }
     },
     "b3f89d10763c4ecea7ea82b3555326f0": {
      "model_module": "@jupyter-widgets/base",
      "model_module_version": "1.0.0",
      "model_name": "LayoutModel",
      "state": {}
     },
     "b3ff48d0c76f4ff2b104a3fc1f6ce8ec": {
      "model_module": "@jupyter-widgets/controls",
      "model_module_version": "1.0.0",
      "model_name": "IntSliderModel",
      "state": {
       "description": "x",
       "layout": "IPY_MODEL_a3299de5f2df4e95b7d5581d413bb8ad",
       "min": -100,
       "style": "IPY_MODEL_91c5912f81f542569548c7f2d2086c22"
      }
     },
     "b4026cb6c8434654baf09dffe7377139": {
      "model_module": "@jupyter-widgets/controls",
      "model_module_version": "1.0.0",
      "model_name": "CheckboxModel",
      "state": {
       "description": "fill",
       "disabled": false,
       "layout": "IPY_MODEL_74ea6cc38ac2424fb12021dfde5a4e57",
       "style": "IPY_MODEL_141f0da05dd043878ada6d01aabde1de",
       "value": false
      }
     },
     "b4180451ea8a49c683b56bad3f9c85d9": {
      "model_module": "@jupyter-widgets/controls",
      "model_module_version": "1.0.0",
      "model_name": "SliderStyleModel",
      "state": {
       "description_width": ""
      }
     },
     "b4203a299efb48c4af5c85b36a0479d4": {
      "model_module": "@jupyter-widgets/controls",
      "model_module_version": "1.0.0",
      "model_name": "DescriptionStyleModel",
      "state": {
       "description_width": ""
      }
     },
     "b450bdde95ad4080af671cbcb4a8afee": {
      "model_module": "@jupyter-widgets/controls",
      "model_module_version": "1.0.0",
      "model_name": "IntSliderModel",
      "state": {
       "description": "lineWidth",
       "layout": "IPY_MODEL_7dce7fb0ed0a4d62a8a22b48a5cbbf4f",
       "max": 20,
       "style": "IPY_MODEL_85c5807edfaa447caf02d4471ee47094",
       "value": 3
      }
     },
     "b488a544375a4c02a9d199c4cd2e361e": {
      "model_module": "@jupyter-widgets/base",
      "model_module_version": "1.0.0",
      "model_name": "LayoutModel",
      "state": {}
     },
     "b495034dc0a848d8b9ee5590a449b2c6": {
      "model_module": "@jupyter-widgets/controls",
      "model_module_version": "1.0.0",
      "model_name": "IntSliderModel",
      "state": {
       "description": "blue",
       "layout": "IPY_MODEL_7028bbe4624d480093da42cbdbeae5bb",
       "max": 255,
       "style": "IPY_MODEL_a7139a7daaec47d791a40fde3c8bdc3d",
       "value": 64
      }
     },
     "b4a3a574878540ffb08c5b0cf8d7ca45": {
      "model_module": "@jupyter-widgets/controls",
      "model_module_version": "1.0.0",
      "model_name": "IntSliderModel",
      "state": {
       "description": "h",
       "layout": "IPY_MODEL_c4a4124ad1b24e6ea0bbdeab20c3d004",
       "max": 300,
       "min": -300,
       "style": "IPY_MODEL_f7016569d7824952a9f5a8257e34cb57",
       "value": 50
      }
     },
     "b5363c159f8940a081542eef2de15a55": {
      "model_module": "@jupyter-widgets/base",
      "model_module_version": "1.0.0",
      "model_name": "LayoutModel",
      "state": {}
     },
     "b57326d1f9634cf4bca1037d3ea6a27b": {
      "model_module": "@jupyter-widgets/base",
      "model_module_version": "1.0.0",
      "model_name": "LayoutModel",
      "state": {}
     },
     "b5b3c28324074fd59e3fdb0f245ac68a": {
      "model_module": "@jupyter-widgets/base",
      "model_module_version": "1.0.0",
      "model_name": "LayoutModel",
      "state": {}
     },
     "b5c2db12e98c4ecb95e4b562d5ac27a9": {
      "model_module": "jp_proxy_widget",
      "model_module_version": "^0.3.4",
      "model_name": "JSProxyModel",
      "state": {
       "_model_module_version": "^0.3.4",
       "_send_counter": 1602,
       "_view_module_version": "^0.3.4",
       "error_msg": "No error",
       "layout": "IPY_MODEL_aaa40bbc1ed243bda89c812cf3486b67",
       "rendered": true,
       "status": "Got results."
      }
     },
     "b5eb95fbaaea4fa39d909a84f8fab27b": {
      "model_module": "@jupyter-widgets/controls",
      "model_module_version": "1.0.0",
      "model_name": "IntSliderModel",
      "state": {
       "description": "y",
       "layout": "IPY_MODEL_1a1c907499fd4b8cbfd2b05f94033e5d",
       "min": -100,
       "style": "IPY_MODEL_07cb3f0a01ae4050962530ac799a9ada"
      }
     },
     "b5eddec2ca0c4b31ac0cda37aa3079e6": {
      "model_module": "@jupyter-widgets/controls",
      "model_module_version": "1.0.0",
      "model_name": "HTMLModel",
      "state": {
       "layout": "IPY_MODEL_714bd7ab1d4b4ed5a83e75058c7573df",
       "style": "IPY_MODEL_c438e6fe25694db8a57f5542e79ada21",
       "value": "<img src=\"interactive_line.png\" id=\"snapshot_id_6_1536844015668\"/>\n <div id=\"snapshot_id_7_1536844015668\">interactive_line.png</div>"
      }
     },
     "b63fcb05e17642aab82f0315f957d681": {
      "model_module": "@jupyter-widgets/base",
      "model_module_version": "1.0.0",
      "model_name": "LayoutModel",
      "state": {}
     },
     "b641d6c0cd8240f79a7de7768b7a5395": {
      "model_module": "@jupyter-widgets/base",
      "model_module_version": "1.0.0",
      "model_name": "LayoutModel",
      "state": {}
     },
     "b6494a4a0cf346b986fc8dee4f9f848b": {
      "model_module": "@jupyter-widgets/controls",
      "model_module_version": "1.0.0",
      "model_name": "SliderStyleModel",
      "state": {
       "description_width": ""
      }
     },
     "b64fc0de7e5c4dfa917e140dad49b5c4": {
      "model_module": "@jupyter-widgets/controls",
      "model_module_version": "1.0.0",
      "model_name": "IntSliderModel",
      "state": {
       "description": "red",
       "layout": "IPY_MODEL_0eb03ac1fd3f4bbaac2f11c2fdc71877",
       "max": 255,
       "style": "IPY_MODEL_f135fbd1950e43588fb802f3b98e7e85",
       "value": 255
      }
     },
     "b650597f9fba4815b7269579254f8321": {
      "model_module": "@jupyter-widgets/base",
      "model_module_version": "1.0.0",
      "model_name": "LayoutModel",
      "state": {}
     },
     "b67e2b31d2c4419ca6d200ced4f2225b": {
      "model_module": "@jupyter-widgets/base",
      "model_module_version": "1.0.0",
      "model_name": "LayoutModel",
      "state": {}
     },
     "b6bcc32cc9914f6ea4b313a71571ee36": {
      "model_module": "@jupyter-widgets/base",
      "model_module_version": "1.0.0",
      "model_name": "LayoutModel",
      "state": {}
     },
     "b6bd1cfa23e648f39c4e76cff524b225": {
      "model_module": "@jupyter-widgets/controls",
      "model_module_version": "1.0.0",
      "model_name": "TabModel",
      "state": {
       "_titles": {
        "0": "Canvas",
        "1": "Snapshot"
       },
       "children": [
        "IPY_MODEL_fbec0491c079437da1d0353af56861a7",
        "IPY_MODEL_120d49b4e746400da20e028973a20fe7"
       ],
       "layout": "IPY_MODEL_3a0ec3f676e5402ebe4376a3f6d6b7eb"
      }
     },
     "b6cd2dd3ca7b4a82acad007b6b3f594f": {
      "model_module": "@jupyter-widgets/controls",
      "model_module_version": "1.0.0",
      "model_name": "IntSliderModel",
      "state": {
       "description": "y",
       "layout": "IPY_MODEL_25f711c919fc42c5acf1251267909e68",
       "min": -100,
       "style": "IPY_MODEL_0bbd75a7181a4e08b0e29a79e02219bc",
       "value": 70
      }
     },
     "b6edfe36ded441ba98d5357a6f72e8f1": {
      "model_module": "jp_proxy_widget",
      "model_module_version": "^0.3.4",
      "model_name": "JSProxyModel",
      "state": {
       "_model_module_version": "^0.3.4",
       "_send_counter": 11,
       "_view_module_version": "^0.3.4",
       "error_msg": "No error",
       "layout": "IPY_MODEL_670003f8aa1449c0b6448f2ff3c95b4e",
       "rendered": true,
       "status": "Got results."
      }
     },
     "b6f3babd8e7b46b8a61e1ed795442e58": {
      "model_module": "@jupyter-widgets/controls",
      "model_module_version": "1.0.0",
      "model_name": "IntSliderModel",
      "state": {
       "description": "degrees",
       "layout": "IPY_MODEL_a0bc2562b24248b0b7152d6bc64c5b77",
       "max": 360,
       "min": -360,
       "style": "IPY_MODEL_0a61c15754a14c7398ac7bc43cf63d67"
      }
     },
     "b72756d775504881bba2ea14be12d291": {
      "model_module": "@jupyter-widgets/base",
      "model_module_version": "1.0.0",
      "model_name": "LayoutModel",
      "state": {}
     },
     "b77facf65ffe48769f5f878ee774afd8": {
      "model_module": "@jupyter-widgets/controls",
      "model_module_version": "1.0.0",
      "model_name": "SliderStyleModel",
      "state": {
       "description_width": ""
      }
     },
     "b7838dd715044888aeaec9fdc76f3e39": {
      "model_module": "@jupyter-widgets/controls",
      "model_module_version": "1.0.0",
      "model_name": "IntSliderModel",
      "state": {
       "description": "x",
       "layout": "IPY_MODEL_ee63ff1c0d7444e0886dcb3343d895da",
       "min": -100,
       "style": "IPY_MODEL_3a30ab3b24034ce8a9d71c7d8a258822"
      }
     },
     "b7861027dc4b41a8be0fb038f6a0b24a": {
      "model_module": "@jupyter-widgets/controls",
      "model_module_version": "1.0.0",
      "model_name": "DescriptionStyleModel",
      "state": {
       "description_width": ""
      }
     },
     "b7af4c9995f34f65abc69ba697ac1db8": {
      "model_module": "@jupyter-widgets/controls",
      "model_module_version": "1.0.0",
      "model_name": "SliderStyleModel",
      "state": {
       "description_width": ""
      }
     },
     "b7c59a5bc66d4f3c81461a2f55b4d850": {
      "model_module": "@jupyter-widgets/base",
      "model_module_version": "1.0.0",
      "model_name": "LayoutModel",
      "state": {}
     },
     "b7f3da87efa74cce87bb768bdc9fb870": {
      "model_module": "@jupyter-widgets/base",
      "model_module_version": "1.0.0",
      "model_name": "LayoutModel",
      "state": {}
     },
     "b7f3dc6cdaa142789f6135a9280eff5d": {
      "model_module": "@jupyter-widgets/controls",
      "model_module_version": "1.0.0",
      "model_name": "CheckboxModel",
      "state": {
       "description": "fill",
       "disabled": false,
       "layout": "IPY_MODEL_b5363c159f8940a081542eef2de15a55",
       "style": "IPY_MODEL_74957b9d872f41b4b7443bf11f88fec4",
       "value": true
      }
     },
     "b7f44bb0e4fb484aa4abf3ef0fb8a433": {
      "model_module": "@jupyter-widgets/base",
      "model_module_version": "1.0.0",
      "model_name": "LayoutModel",
      "state": {}
     },
     "b7f66a9c893b47e8a70781a4a8064154": {
      "model_module": "@jupyter-widgets/base",
      "model_module_version": "1.0.0",
      "model_name": "LayoutModel",
      "state": {}
     },
     "b817b6fecc4d432585969e2335f72d05": {
      "model_module": "@jupyter-widgets/controls",
      "model_module_version": "1.0.0",
      "model_name": "HTMLModel",
      "state": {
       "layout": "IPY_MODEL_ddf5f8cc685549199944f2af4ae5e7ef",
       "style": "IPY_MODEL_eef954dc1c954f29bc3df82a2aff1d01",
       "value": "<img src=\"interactive_circle.png\" id=\"snapshot_id_9_1536246393542\"/>\n <div id=\"snapshot_id_10_1536246393542\">interactive_circle.png</div>"
      }
     },
     "b8513281be7b4874a7fe031d4726bc24": {
      "model_module": "@jupyter-widgets/controls",
      "model_module_version": "1.0.0",
      "model_name": "VBoxModel",
      "state": {
       "_dom_classes": [
        "widget-interact"
       ],
       "children": [
        "IPY_MODEL_e8e893d6db3346799b23c9250fdce389",
        "IPY_MODEL_f5c8e888d78b471d9700c37c34deca12",
        "IPY_MODEL_43194c117c34491083a4e0ae4cc3830d",
        "IPY_MODEL_f513303ea9c941c888c941a7a1cbb802",
        "IPY_MODEL_27bfc583335d4bcbbe9be4cb124123e7",
        "IPY_MODEL_4f2ffd7b17e549be9b31a12f0b3e86e2",
        "IPY_MODEL_c71f0629393148be849668c51357c18e",
        "IPY_MODEL_17aaad3f18cc4362afeec3bd265aa715",
        "IPY_MODEL_31ef5bc0e1834995a7e80726ae1f2c19",
        "IPY_MODEL_327961bb7e5e4f5faf14ff8de56d6867",
        "IPY_MODEL_e0b80e37615d4caf9802ab5782cea119",
        "IPY_MODEL_bc71b315b3ca40279384a08efb9c0a60"
       ],
       "layout": "IPY_MODEL_97e57c34a4a1426dad4edfa8c7991f90"
      }
     },
     "b85fc7f4ec1a48e39291a1e7c7f6fb9d": {
      "model_module": "@jupyter-widgets/base",
      "model_module_version": "1.0.0",
      "model_name": "LayoutModel",
      "state": {}
     },
     "b8631914d4744931b7b8a022e3bfd075": {
      "model_module": "@jupyter-widgets/controls",
      "model_module_version": "1.0.0",
      "model_name": "IntSliderModel",
      "state": {
       "description": "blue",
       "layout": "IPY_MODEL_f7c7c2ac98c340aba364ee302d3034df",
       "max": 255,
       "style": "IPY_MODEL_b9fbb40240c0435488a574c7d301b304",
       "value": 255
      }
     },
     "b8677abfe8d64da595f54f8f4c0ece29": {
      "model_module": "@jupyter-widgets/controls",
      "model_module_version": "1.0.0",
      "model_name": "SliderStyleModel",
      "state": {
       "description_width": ""
      }
     },
     "b87bcb6e4f894fbb8c32dd5b6b1e7b30": {
      "model_module": "@jupyter-widgets/controls",
      "model_module_version": "1.0.0",
      "model_name": "VBoxModel",
      "state": {
       "children": [
        "IPY_MODEL_94f5ead4d89c4810a9ce06b392d0dac9",
        "IPY_MODEL_e21d1b2c97cf40a3a97da224a6fc6084"
       ],
       "layout": "IPY_MODEL_5cc75a57db0a4c9288e887c6bb1ee24a"
      }
     },
     "b8b25a3982614225b64f2d8272a311cb": {
      "model_module": "@jupyter-widgets/base",
      "model_module_version": "1.0.0",
      "model_name": "LayoutModel",
      "state": {}
     },
     "b8bc26cbaf1a4a0b8a0ce4f5345bf043": {
      "model_module": "@jupyter-widgets/base",
      "model_module_version": "1.0.0",
      "model_name": "LayoutModel",
      "state": {}
     },
     "b8d7427f1ac0478fa5f9fdc6ae7cc8f3": {
      "model_module": "@jupyter-widgets/base",
      "model_module_version": "1.0.0",
      "model_name": "LayoutModel",
      "state": {}
     },
     "b8e66a149abb47b6aa364842a8786bb1": {
      "model_module": "@jupyter-widgets/base",
      "model_module_version": "1.0.0",
      "model_name": "LayoutModel",
      "state": {}
     },
     "b8ee8156f0a74a1a8b842ccfae245780": {
      "model_module": "@jupyter-widgets/base",
      "model_module_version": "1.0.0",
      "model_name": "LayoutModel",
      "state": {}
     },
     "b90c9b37f55a42b992e229035b04d963": {
      "model_module": "@jupyter-widgets/output",
      "model_module_version": "1.0.0",
      "model_name": "OutputModel",
      "state": {
       "layout": "IPY_MODEL_5ebe0764df31438b9fbd275a98af4562"
      }
     },
     "b91ef243e3be43ecb2f67c2b53ff570e": {
      "model_module": "@jupyter-widgets/controls",
      "model_module_version": "1.0.0",
      "model_name": "DescriptionStyleModel",
      "state": {
       "description_width": ""
      }
     },
     "b92582db2097402d89bb9ea202df484e": {
      "model_module": "@jupyter-widgets/controls",
      "model_module_version": "1.0.0",
      "model_name": "VBoxModel",
      "state": {
       "_dom_classes": [
        "widget-interact"
       ],
       "children": [
        "IPY_MODEL_5a8d6f46a8084d5e92434335feabb89c",
        "IPY_MODEL_675d31bd190f44cfaec15670abe28f69",
        "IPY_MODEL_3183ced7344449de8db67aaa128c8228",
        "IPY_MODEL_735c58b34315471e962534256a552196",
        "IPY_MODEL_9f0168c2896342f59cc9d5c230718d78",
        "IPY_MODEL_6be51e8baa3d4e25bfc3f484503e6b55",
        "IPY_MODEL_374eab8fee6243d3ae3b8f150c390a3e",
        "IPY_MODEL_d4d3a91362c8496e8f5e556addf2f7b5"
       ],
       "layout": "IPY_MODEL_28d89deba6ff402f8c7778dfc7a0650c"
      }
     },
     "b9412e3164e145c79a5d8a62d08508f2": {
      "model_module": "@jupyter-widgets/base",
      "model_module_version": "1.0.0",
      "model_name": "LayoutModel",
      "state": {}
     },
     "b94f0959b92c4a0292195c5e10f814ac": {
      "model_module": "@jupyter-widgets/base",
      "model_module_version": "1.0.0",
      "model_name": "LayoutModel",
      "state": {}
     },
     "b9c4487767184455aa98e57da81048a3": {
      "model_module": "@jupyter-widgets/output",
      "model_module_version": "1.0.0",
      "model_name": "OutputModel",
      "state": {
       "layout": "IPY_MODEL_fc3b94290d26444d8078c309bdf6a796"
      }
     },
     "b9e25213cb4f4c57bf78ded3c1a28714": {
      "model_module": "@jupyter-widgets/base",
      "model_module_version": "1.0.0",
      "model_name": "LayoutModel",
      "state": {}
     },
     "b9fbb40240c0435488a574c7d301b304": {
      "model_module": "@jupyter-widgets/controls",
      "model_module_version": "1.0.0",
      "model_name": "SliderStyleModel",
      "state": {
       "description_width": ""
      }
     },
     "ba45b99b941e49149faa3102ac0c6bcb": {
      "model_module": "@jupyter-widgets/controls",
      "model_module_version": "1.0.0",
      "model_name": "CheckboxModel",
      "state": {
       "description": "fill",
       "disabled": false,
       "layout": "IPY_MODEL_b6bcc32cc9914f6ea4b313a71571ee36",
       "style": "IPY_MODEL_d0ca7f495cfa4489923a3e0bdf804d9a",
       "value": false
      }
     },
     "ba51bfa81d684da4b93dd347db03872f": {
      "model_module": "@jupyter-widgets/controls",
      "model_module_version": "1.0.0",
      "model_name": "IntSliderModel",
      "state": {
       "description": "dy",
       "layout": "IPY_MODEL_290d5891803043118d55ba1033bc388c",
       "min": -100,
       "style": "IPY_MODEL_0a290f2ee54a4b0b91e1a19caf776beb"
      }
     },
     "ba712410e6124d549f253b83a2386265": {
      "model_module": "@jupyter-widgets/base",
      "model_module_version": "1.0.0",
      "model_name": "LayoutModel",
      "state": {}
     },
     "ba923784be6945e581e17069df1601df": {
      "model_module": "@jupyter-widgets/base",
      "model_module_version": "1.0.0",
      "model_name": "LayoutModel",
      "state": {}
     },
     "bac004f7fed24647884d39691d7feb60": {
      "model_module": "@jupyter-widgets/controls",
      "model_module_version": "1.0.0",
      "model_name": "TabModel",
      "state": {
       "_titles": {
        "0": "Canvas",
        "1": "Snapshot"
       },
       "children": [
        "IPY_MODEL_c8677ad9bb5045578eabe21e216e0dc8",
        "IPY_MODEL_96a030ea80a2439da61ac5dc35066bab"
       ],
       "layout": "IPY_MODEL_f0d4395ddc634aea8e036c718af9e029"
      }
     },
     "bae5394ab64e4bb1b99de7491ac84b6b": {
      "model_module": "@jupyter-widgets/controls",
      "model_module_version": "1.0.0",
      "model_name": "IntSliderModel",
      "state": {
       "description": "blue",
       "layout": "IPY_MODEL_33b4f493f865465e847041d95a0ae6ae",
       "max": 255,
       "style": "IPY_MODEL_0cb87f1e88684fcc8ceb6ea892cfec1b",
       "value": 255
      }
     },
     "bb240a5d30264b119e5837e4330708e5": {
      "model_module": "@jupyter-widgets/controls",
      "model_module_version": "1.0.0",
      "model_name": "SliderStyleModel",
      "state": {
       "description_width": ""
      }
     },
     "bb6b6aa353cd490b86ce9ff22960c95e": {
      "model_module": "jp_proxy_widget",
      "model_module_version": "^0.3.4",
      "model_name": "JSProxyModel",
      "state": {
       "_model_module_version": "^0.3.4",
       "_send_counter": 8,
       "_view_module_version": "^0.3.4",
       "error_msg": "Error: Error in element.New SyntaxError: missing ) after argument list",
       "layout": "IPY_MODEL_773cb762157b4048ab31df3dc28afe53",
       "rendered": true,
       "status": "Rendered."
      }
     },
     "bb806e7ec94f45a2b8cea6e2ae2255b9": {
      "model_module": "@jupyter-widgets/controls",
      "model_module_version": "1.0.0",
      "model_name": "IntSliderModel",
      "state": {
       "description": "blue",
       "layout": "IPY_MODEL_2400671700b64c99a2b65e1898f8c0a5",
       "max": 255,
       "style": "IPY_MODEL_bdc72911a863438d8a01fd585a94d015",
       "value": 120
      }
     },
     "bb83c039a0174e9f9e9fefc7111bcd7a": {
      "model_module": "@jupyter-widgets/base",
      "model_module_version": "1.0.0",
      "model_name": "LayoutModel",
      "state": {}
     },
     "bb92eb26da034c888ca5a8298c238284": {
      "model_module": "@jupyter-widgets/base",
      "model_module_version": "1.0.0",
      "model_name": "LayoutModel",
      "state": {}
     },
     "bba4884728144eda89defa3c7c0c17bd": {
      "model_module": "@jupyter-widgets/controls",
      "model_module_version": "1.0.0",
      "model_name": "SliderStyleModel",
      "state": {
       "description_width": ""
      }
     },
     "bbabe3affcb24c28a5026429796db7fa": {
      "model_module": "@jupyter-widgets/controls",
      "model_module_version": "1.0.0",
      "model_name": "VBoxModel",
      "state": {
       "_dom_classes": [
        "widget-interact"
       ],
       "children": [
        "IPY_MODEL_0f0b3e7c4792423d9ee9aa5f00f82f9e",
        "IPY_MODEL_67145fa1e2f84885a2f0369c931d1147",
        "IPY_MODEL_a9ad4a23aec54b7e85e22a7ddde4cf9f",
        "IPY_MODEL_5b3fd46a23b04c3b8784d83d2ef292ac",
        "IPY_MODEL_144badcb5fbd449981ed86172490c0c4",
        "IPY_MODEL_809cd9430f9a43eca3ea6dc5ea5af127",
        "IPY_MODEL_dd7c4e5fce814bd5bda5b8bc4fbf4dbf",
        "IPY_MODEL_bae5394ab64e4bb1b99de7491ac84b6b",
        "IPY_MODEL_db20cd32cc654c3e8bb2cf4e0dac38a9",
        "IPY_MODEL_39a09fa8d131455ca09c8ef8bcac6eea"
       ],
       "layout": "IPY_MODEL_a5ec7480cf1347b9add55821bfd5d126"
      }
     },
     "bbeaa4e6eb2b41378e1f7151ed2fe41f": {
      "model_module": "@jupyter-widgets/controls",
      "model_module_version": "1.0.0",
      "model_name": "SliderStyleModel",
      "state": {
       "description_width": ""
      }
     },
     "bbf321ce86664ec59acf63082465eb7d": {
      "model_module": "@jupyter-widgets/controls",
      "model_module_version": "1.0.0",
      "model_name": "TabModel",
      "state": {
       "_titles": {
        "0": "Canvas",
        "1": "Snapshot"
       },
       "children": [
        "IPY_MODEL_e00ddbdbb1214e8caee6a962aa8657f6",
        "IPY_MODEL_624148a33dc441bf98147da31d887c9c"
       ],
       "layout": "IPY_MODEL_0e615e5c637d466ba260c1deef5e2672"
      }
     },
     "bc0c9962453741fa87bd0b13b4442d84": {
      "model_module": "@jupyter-widgets/controls",
      "model_module_version": "1.0.0",
      "model_name": "HTMLModel",
      "state": {
       "layout": "IPY_MODEL_e9c6182c9a2d4eae8cec7ca083c13915",
       "style": "IPY_MODEL_c5f7efd85a71477fa5401c8a76739ec0",
       "value": "<img src=\"interactive_circle.png\" id=\"snapshot_id_5_1536249985348\"/>\n <div id=\"snapshot_id_6_1536249985348\">interactive_circle.png</div>"
      }
     },
     "bc45813443e745539ea6c80e797ea3ba": {
      "model_module": "@jupyter-widgets/base",
      "model_module_version": "1.0.0",
      "model_name": "LayoutModel",
      "state": {}
     },
     "bc4a9abaf51a47fab5340a5b1c7be71f": {
      "model_module": "@jupyter-widgets/base",
      "model_module_version": "1.0.0",
      "model_name": "LayoutModel",
      "state": {}
     },
     "bc6d72ec6e3c455d984996770c60f6df": {
      "model_module": "@jupyter-widgets/base",
      "model_module_version": "1.0.0",
      "model_name": "LayoutModel",
      "state": {}
     },
     "bc71b315b3ca40279384a08efb9c0a60": {
      "model_module": "@jupyter-widgets/output",
      "model_module_version": "1.0.0",
      "model_name": "OutputModel",
      "state": {
       "layout": "IPY_MODEL_f785890f3a1440fd87de7c592bdd9d37"
      }
     },
     "bc8c2db07a7546f18a3e41352877b5e0": {
      "model_module": "@jupyter-widgets/controls",
      "model_module_version": "1.0.0",
      "model_name": "HTMLModel",
      "state": {
       "layout": "IPY_MODEL_0c1b85fa2d7744d9b92b6ce8964dbaeb",
       "style": "IPY_MODEL_d9bbec76e58244b0b3d1de3df4573b5c",
       "value": "<img src=\"interactive_circle.png\" id=\"snapshot_id_27_1536247408837\"/>\n <div id=\"snapshot_id_28_1536247408837\">interactive_circle.png</div>"
      }
     },
     "bcb8b056462640f3b7ff0f6b5bec2541": {
      "model_module": "@jupyter-widgets/base",
      "model_module_version": "1.0.0",
      "model_name": "LayoutModel",
      "state": {}
     },
     "bccf8a24fbb2429ea1fa463826f0d2a2": {
      "model_module": "@jupyter-widgets/base",
      "model_module_version": "1.0.0",
      "model_name": "LayoutModel",
      "state": {}
     },
     "bcd7658b1f0d4753866a786f7acd1b2e": {
      "model_module": "@jupyter-widgets/base",
      "model_module_version": "1.0.0",
      "model_name": "LayoutModel",
      "state": {}
     },
     "bd03f2dc0e314aee9395e440a86b480c": {
      "model_module": "@jupyter-widgets/output",
      "model_module_version": "1.0.0",
      "model_name": "OutputModel",
      "state": {
       "layout": "IPY_MODEL_48fcb461f33e459bbc3d3f23a651adea"
      }
     },
     "bd35bf9fbd4449f99673dd9ce2c8cf7b": {
      "model_module": "jp_proxy_widget",
      "model_module_version": "^0.3.4",
      "model_name": "JSProxyModel",
      "state": {
       "_model_module_version": "^0.3.4",
       "_send_counter": 2,
       "_view_module_version": "^0.3.4",
       "error_msg": "No error",
       "layout": "IPY_MODEL_fed2b9258bd345278097951a84f4231a",
       "rendered": true,
       "status": "Not yet rendered"
      }
     },
     "bd3e3066ddeb413cab550f73cb41af03": {
      "model_module": "@jupyter-widgets/controls",
      "model_module_version": "1.0.0",
      "model_name": "VBoxModel",
      "state": {
       "_dom_classes": [
        "widget-interact"
       ],
       "children": [
        "IPY_MODEL_89aff094b3e04310b0239eb75f2514a8",
        "IPY_MODEL_da8e78505c804e40a83cb4917f49f0fe",
        "IPY_MODEL_289a0153c9a14816a57ad94f5c55828e",
        "IPY_MODEL_fc466280281b46d1b6aad61a3266a9e4",
        "IPY_MODEL_5a099e350c7a4ce5b1acf3961d49a60c",
        "IPY_MODEL_b4026cb6c8434654baf09dffe7377139",
        "IPY_MODEL_b3789c225f4a4ff683e2cfe5b7c3d354",
        "IPY_MODEL_9544f814436a4e1bb03a9d5deb788c5c",
        "IPY_MODEL_97c7c41c7ac741d488bd9d55e0c23671",
        "IPY_MODEL_df5db89374544bec9858fa5e6039bdcd",
        "IPY_MODEL_8ebe17764271456188b7be636fb3713d",
        "IPY_MODEL_173b705d6da346a1b794de681834d292"
       ],
       "layout": "IPY_MODEL_5ca3f726dcba4713a8f372a5c8bce38d"
      }
     },
     "bd42569f3e1a4190b29d2cf03881a6b6": {
      "model_module": "@jupyter-widgets/base",
      "model_module_version": "1.0.0",
      "model_name": "LayoutModel",
      "state": {}
     },
     "bd66f6abb92e402581f1f26acfbe2de5": {
      "model_module": "@jupyter-widgets/base",
      "model_module_version": "1.0.0",
      "model_name": "LayoutModel",
      "state": {}
     },
     "bd8885ee5ba040a18d194a8f4e2c374a": {
      "model_module": "@jupyter-widgets/controls",
      "model_module_version": "1.0.0",
      "model_name": "SliderStyleModel",
      "state": {
       "description_width": ""
      }
     },
     "bdb67a6303b34171b01ae54e012c11f0": {
      "model_module": "@jupyter-widgets/base",
      "model_module_version": "1.0.0",
      "model_name": "LayoutModel",
      "state": {}
     },
     "bdb7aa20bc444802b7c22332c41550dd": {
      "model_module": "@jupyter-widgets/controls",
      "model_module_version": "1.0.0",
      "model_name": "SliderStyleModel",
      "state": {
       "description_width": ""
      }
     },
     "bdc22207417e4919bf457087e84d4cec": {
      "model_module": "@jupyter-widgets/controls",
      "model_module_version": "1.0.0",
      "model_name": "VBoxModel",
      "state": {
       "children": [
        "IPY_MODEL_e1991ecc4f304602bf07ac4f53ffba18",
        "IPY_MODEL_8d2d9c626d6c4fffa1adf9b477de4624"
       ],
       "layout": "IPY_MODEL_38b6a4a2c6c346a19ffd9662d6915086"
      }
     },
     "bdc72911a863438d8a01fd585a94d015": {
      "model_module": "@jupyter-widgets/controls",
      "model_module_version": "1.0.0",
      "model_name": "SliderStyleModel",
      "state": {
       "description_width": ""
      }
     },
     "bdcb8c8ea08b4c05a3b3d068bbb3f7c5": {
      "model_module": "@jupyter-widgets/controls",
      "model_module_version": "1.0.0",
      "model_name": "SliderStyleModel",
      "state": {
       "description_width": ""
      }
     },
     "bde474d5f5be412282fc989249510a3b": {
      "model_module": "jp_proxy_widget",
      "model_module_version": "^0.3.4",
      "model_name": "JSProxyModel",
      "state": {
       "_model_module_version": "^0.3.4",
       "_send_counter": 567,
       "_view_module_version": "^0.3.4",
       "error_msg": "No error",
       "layout": "IPY_MODEL_30f95ad4f26443cfa8a317965531e3fa",
       "rendered": true,
       "status": "Got results."
      }
     },
     "be0d23da9e884dafa721bb34190c775c": {
      "model_module": "@jupyter-widgets/controls",
      "model_module_version": "1.0.0",
      "model_name": "IntSliderModel",
      "state": {
       "description": "h",
       "layout": "IPY_MODEL_a535c647d0ec4c1096304df3d7fac4a4",
       "max": 300,
       "min": -300,
       "style": "IPY_MODEL_32f007b21b6040e2b881709d790c9495",
       "value": 50
      }
     },
     "be1907c6b6fe4c269a67598306c3e30c": {
      "model_module": "@jupyter-widgets/controls",
      "model_module_version": "1.0.0",
      "model_name": "SliderStyleModel",
      "state": {
       "description_width": ""
      }
     },
     "be227897841b4f1f808679d7a16b0b97": {
      "model_module": "@jupyter-widgets/controls",
      "model_module_version": "1.0.0",
      "model_name": "HTMLModel",
      "state": {
       "layout": "IPY_MODEL_f8b532b8784241b7a5adb735f8327b7d",
       "style": "IPY_MODEL_82cc904349994e94b91cdbbcf798069c",
       "value": "<img src=\"interactive_rectangle2.png\" id=\"snapshot_id_49_1536323927768\"/>\n <div id=\"snapshot_id_50_1536323927768\">interactive_rectangle2.png</div>"
      }
     },
     "be6661b6b12148e392e84996f81079a2": {
      "model_module": "@jupyter-widgets/base",
      "model_module_version": "1.0.0",
      "model_name": "LayoutModel",
      "state": {}
     },
     "be7fa198ec62415f8aa89fdb112aea29": {
      "model_module": "@jupyter-widgets/controls",
      "model_module_version": "1.0.0",
      "model_name": "SliderStyleModel",
      "state": {
       "description_width": ""
      }
     },
     "be8e9b620ee8438a9181c132a622a9b9": {
      "model_module": "@jupyter-widgets/controls",
      "model_module_version": "1.0.0",
      "model_name": "SliderStyleModel",
      "state": {
       "description_width": ""
      }
     },
     "be968a4dbcb14ebaa6847380486f61c6": {
      "model_module": "@jupyter-widgets/controls",
      "model_module_version": "1.0.0",
      "model_name": "SliderStyleModel",
      "state": {
       "description_width": ""
      }
     },
     "beb11951bd4c44659cf613affcbae496": {
      "model_module": "@jupyter-widgets/base",
      "model_module_version": "1.0.0",
      "model_name": "LayoutModel",
      "state": {}
     },
     "bec0e839b04a4788bdc6486ca3b757a9": {
      "model_module": "@jupyter-widgets/controls",
      "model_module_version": "1.0.0",
      "model_name": "VBoxModel",
      "state": {
       "_dom_classes": [
        "widget-interact"
       ],
       "children": [
        "IPY_MODEL_f6b1a32713f842c3a29f9128bbbeacc7",
        "IPY_MODEL_47323002577446458c8e7840f3a5f413",
        "IPY_MODEL_9f5b742e2bb54c169f9f987a2e33ca8b",
        "IPY_MODEL_f256f9da34334b1ba97491c85fc0c8e8",
        "IPY_MODEL_c74f953c11ae417187e2cd038d430815",
        "IPY_MODEL_1b947ec1e23240b69feaf5923657623d",
        "IPY_MODEL_a690428d3c9243cd8953a2ee2f838221",
        "IPY_MODEL_f8939d170ea24aa49e517bfc1737ab31",
        "IPY_MODEL_966a6e9387e04e34b837ece3baad5a7f",
        "IPY_MODEL_fd0cab56d81e429e8cfb05189ed230e6",
        "IPY_MODEL_42ba9a277c5646e7b5a861482a296b25",
        "IPY_MODEL_53ca6aa02bf241bbbdad97a8fd1358ee",
        "IPY_MODEL_38d109f39d1b4bcdae6ca1e0580db0d2",
        "IPY_MODEL_fbceecffda414f9ea76655d23a557869"
       ],
       "layout": "IPY_MODEL_0345744ae72e468aa14869456bf5632d"
      }
     },
     "bec694eb56c24f349b1e2ddfb71455b0": {
      "model_module": "jp_proxy_widget",
      "model_module_version": "^0.3.4",
      "model_name": "JSProxyModel",
      "state": {
       "_model_module_version": "^0.3.4",
       "_send_counter": 334,
       "_view_module_version": "^0.3.4",
       "error_msg": "No error",
       "layout": "IPY_MODEL_a08fbe38edd64cffb4f8a8d0f37a960d",
       "rendered": true,
       "status": "Got results."
      }
     },
     "bec8764ed5cf4f8b842e269975882224": {
      "model_module": "@jupyter-widgets/controls",
      "model_module_version": "1.0.0",
      "model_name": "DescriptionStyleModel",
      "state": {
       "description_width": ""
      }
     },
     "bed8d8d90cca495c8eafbe6f09802fca": {
      "model_module": "@jupyter-widgets/controls",
      "model_module_version": "1.0.0",
      "model_name": "IntSliderModel",
      "state": {
       "description": "red",
       "layout": "IPY_MODEL_e8c13e9226ad42b29b1e7d7dbb9cf8d9",
       "max": 255,
       "style": "IPY_MODEL_d8be6d0468cb47c390dd854aa7d167ba",
       "value": 255
      }
     },
     "bf0e112c007b446d92ae8d00487a1830": {
      "model_module": "@jupyter-widgets/base",
      "model_module_version": "1.0.0",
      "model_name": "LayoutModel",
      "state": {}
     },
     "bf556472c98e402281ff21357794cc11": {
      "model_module": "@jupyter-widgets/controls",
      "model_module_version": "1.0.0",
      "model_name": "SliderStyleModel",
      "state": {
       "description_width": ""
      }
     },
     "bf61708c3c25461fa129665eb9f0b3ef": {
      "model_module": "@jupyter-widgets/controls",
      "model_module_version": "1.0.0",
      "model_name": "SliderStyleModel",
      "state": {
       "description_width": ""
      }
     },
     "bf836dc6e341494c84dbd6bf776bf844": {
      "model_module": "@jupyter-widgets/controls",
      "model_module_version": "1.0.0",
      "model_name": "IntSliderModel",
      "state": {
       "description": "red",
       "layout": "IPY_MODEL_18bf884b0fec4a6e857c6c8c3648fd6b",
       "max": 255,
       "style": "IPY_MODEL_7998e8d5577844d3bf28f31dd064c725",
       "value": 255
      }
     },
     "bf902873c1a34d75b30cf90e00e7075a": {
      "model_module": "@jupyter-widgets/controls",
      "model_module_version": "1.0.0",
      "model_name": "TabModel",
      "state": {
       "_titles": {
        "0": "Canvas",
        "1": "Snapshot"
       },
       "children": [
        "IPY_MODEL_b87bcb6e4f894fbb8c32dd5b6b1e7b30",
        "IPY_MODEL_db1db6179a454a59bbde59e397193f2e"
       ],
       "layout": "IPY_MODEL_51a810326ae54838a6065c3631ad5bd3"
      }
     },
     "bfb470373db640ee9f814c2952770fc9": {
      "model_module": "@jupyter-widgets/base",
      "model_module_version": "1.0.0",
      "model_name": "LayoutModel",
      "state": {}
     },
     "bfb5878c09da49ec8ef0048db46f889f": {
      "model_module": "@jupyter-widgets/controls",
      "model_module_version": "1.0.0",
      "model_name": "VBoxModel",
      "state": {
       "_dom_classes": [
        "widget-interact"
       ],
       "children": [
        "IPY_MODEL_cbeb1d164b1244ea84f926ebd7f56331",
        "IPY_MODEL_0c5742a5584a443ca5cb066e4ec39e35",
        "IPY_MODEL_5b041f78229d452f978c6a226f89bb2c",
        "IPY_MODEL_f00dd01cd1834f3fa5c4eea1bdfb6bfe",
        "IPY_MODEL_d2cd4e61e556453281c5ec70e4900d17",
        "IPY_MODEL_6c66db1765cd453caea29960e7ceff8e",
        "IPY_MODEL_5219df53f7754cf7898e5c910facc49d",
        "IPY_MODEL_852a0e2337244d8eb395136ec6aa2fe6",
        "IPY_MODEL_1b236a9ebc484a3fa96ed4c9def7abd1",
        "IPY_MODEL_498065b088b64a16a84a6a13d6633ef1",
        "IPY_MODEL_d6bb29c9c3c34159afe9480d0f0d0063",
        "IPY_MODEL_67b3c86868704cf9b66b2fc15b3dae54"
       ],
       "layout": "IPY_MODEL_bcb8b056462640f3b7ff0f6b5bec2541"
      }
     },
     "bfb5d5e81d9548a9af70e63c05250087": {
      "model_module": "@jupyter-widgets/controls",
      "model_module_version": "1.0.0",
      "model_name": "IntSliderModel",
      "state": {
       "description": "x",
       "layout": "IPY_MODEL_f980b369b69346d690870d0e912bdc64",
       "min": -100,
       "style": "IPY_MODEL_b8677abfe8d64da595f54f8f4c0ece29",
       "value": 39
      }
     },
     "bfc08279813648a2962c7ef30285a018": {
      "model_module": "@jupyter-widgets/controls",
      "model_module_version": "1.0.0",
      "model_name": "SliderStyleModel",
      "state": {
       "description_width": ""
      }
     },
     "bfd3505eb30a46e69284cbe50566b772": {
      "model_module": "@jupyter-widgets/controls",
      "model_module_version": "1.0.0",
      "model_name": "TabModel",
      "state": {
       "_titles": {
        "0": "Canvas",
        "1": "Snapshot"
       },
       "children": [
        "IPY_MODEL_96f589a7ef6147209ade39e214aeb6e7",
        "IPY_MODEL_fc8d2275459b40cebe497f274631f612"
       ],
       "layout": "IPY_MODEL_03d5c1c6ceae4094aeedabd648e6750d",
       "selected_index": 1
      }
     },
     "bfe743d5521045c7a7801eb8537970a6": {
      "model_module": "@jupyter-widgets/controls",
      "model_module_version": "1.0.0",
      "model_name": "VBoxModel",
      "state": {
       "children": [
        "IPY_MODEL_a45d547d58e54087aa33954709b3e27f",
        "IPY_MODEL_f674a6acfe474528ae03d560df702077"
       ],
       "layout": "IPY_MODEL_8855f0d6bf664ebe9107ae431a1f578e"
      }
     },
     "bfe986d974c84706b6a41a8165cc18a5": {
      "model_module": "@jupyter-widgets/controls",
      "model_module_version": "1.0.0",
      "model_name": "CheckboxModel",
      "state": {
       "description": "fill",
       "disabled": false,
       "layout": "IPY_MODEL_86495dfee716480995bde7d3c1780017",
       "style": "IPY_MODEL_cb21c46c9e7242c5b718f9c05895172c",
       "value": false
      }
     },
     "c04582c3823e45b7ba5b049db3e068d1": {
      "model_module": "@jupyter-widgets/controls",
      "model_module_version": "1.0.0",
      "model_name": "FloatSliderModel",
      "state": {
       "description": "alpha",
       "layout": "IPY_MODEL_fa59932b4aa2426596538c48dfa0378a",
       "max": 1,
       "step": 0.1,
       "style": "IPY_MODEL_361bb3a43cfb415a83e926ef37a9ef5c",
       "value": 0.5
      }
     },
     "c051e60ad16e4262b6ba4ae9b9828076": {
      "model_module": "@jupyter-widgets/base",
      "model_module_version": "1.0.0",
      "model_name": "LayoutModel",
      "state": {}
     },
     "c080b133e43c4405baeb5af835bdf0b4": {
      "model_module": "@jupyter-widgets/base",
      "model_module_version": "1.0.0",
      "model_name": "LayoutModel",
      "state": {}
     },
     "c0bf9646213642e3a7606a9101d27e3a": {
      "model_module": "@jupyter-widgets/controls",
      "model_module_version": "1.0.0",
      "model_name": "FloatSliderModel",
      "state": {
       "description": "alpha",
       "layout": "IPY_MODEL_7f52fbe106d34d4fb2c991b17afaa1ab",
       "max": 1,
       "step": 0.1,
       "style": "IPY_MODEL_8a194b035dd145eab1996ce79200dd63",
       "value": 1
      }
     },
     "c0cb3cd4ab494d718bc2675688df6894": {
      "model_module": "@jupyter-widgets/base",
      "model_module_version": "1.0.0",
      "model_name": "LayoutModel",
      "state": {}
     },
     "c0d4c7c92eae43e882773625772efb27": {
      "model_module": "@jupyter-widgets/controls",
      "model_module_version": "1.0.0",
      "model_name": "IntSliderModel",
      "state": {
       "description": "degrees",
       "layout": "IPY_MODEL_d13f88b8840543bf8d24db2259a4b4ab",
       "max": 360,
       "min": -360,
       "style": "IPY_MODEL_25d8a509efa1443fb9a269c10e9e79ef"
      }
     },
     "c1191473b69c4c65917b6fecdf0ebd3b": {
      "model_module": "@jupyter-widgets/controls",
      "model_module_version": "1.0.0",
      "model_name": "SliderStyleModel",
      "state": {
       "description_width": ""
      }
     },
     "c14d2fe68aa34c339422b30329ff0353": {
      "model_module": "@jupyter-widgets/base",
      "model_module_version": "1.0.0",
      "model_name": "LayoutModel",
      "state": {}
     },
     "c1b4df7f19064994a38329e516fa1347": {
      "model_module": "@jupyter-widgets/controls",
      "model_module_version": "1.0.0",
      "model_name": "SliderStyleModel",
      "state": {
       "description_width": ""
      }
     },
     "c1d1a0e2e2404bb7956668ea8f402b66": {
      "model_module": "@jupyter-widgets/base",
      "model_module_version": "1.0.0",
      "model_name": "LayoutModel",
      "state": {}
     },
     "c1f9ef91a3854f2788cb95494958537f": {
      "model_module": "jp_proxy_widget",
      "model_module_version": "^0.3.4",
      "model_name": "JSProxyModel",
      "state": {
       "_model_module_version": "^0.3.4",
       "_send_counter": 11,
       "_view_module_version": "^0.3.4",
       "error_msg": "No error",
       "layout": "IPY_MODEL_5d69ed3ff2f74b48a32ccf4497d84cd5",
       "rendered": true,
       "status": "Got results."
      }
     },
     "c1fc481351124e64a4a58f4f929ddf8b": {
      "model_module": "@jupyter-widgets/base",
      "model_module_version": "1.0.0",
      "model_name": "LayoutModel",
      "state": {}
     },
     "c21eb6a1f61d496bb45e0da1f4a5ef29": {
      "model_module": "@jupyter-widgets/controls",
      "model_module_version": "1.0.0",
      "model_name": "IntSliderModel",
      "state": {
       "description": "green",
       "layout": "IPY_MODEL_95da91ee74954114b05c79f596be386b",
       "max": 255,
       "style": "IPY_MODEL_d3b037df43b449028f58513bbf26df95"
      }
     },
     "c2543703fffa45b3970ce58be00dc637": {
      "model_module": "@jupyter-widgets/controls",
      "model_module_version": "1.0.0",
      "model_name": "IntSliderModel",
      "state": {
       "description": "y",
       "layout": "IPY_MODEL_c67dfb21c8de4f57a884a8d323057c85",
       "min": -100,
       "style": "IPY_MODEL_904b4c21ee404ae8a704757cf80ae702"
      }
     },
     "c25afe940e6f4d84a4f6b11c578b572f": {
      "model_module": "@jupyter-widgets/controls",
      "model_module_version": "1.0.0",
      "model_name": "SliderStyleModel",
      "state": {
       "description_width": ""
      }
     },
     "c260cf1cfd354d4c9dd122e6ecf9e8b1": {
      "model_module": "@jupyter-widgets/base",
      "model_module_version": "1.0.0",
      "model_name": "LayoutModel",
      "state": {}
     },
     "c26c8efc4ffa49468281cc2afd872f08": {
      "model_module": "@jupyter-widgets/controls",
      "model_module_version": "1.0.0",
      "model_name": "DescriptionStyleModel",
      "state": {
       "description_width": ""
      }
     },
     "c2859d972ab74f16a107fcd5d4c08585": {
      "model_module": "@jupyter-widgets/base",
      "model_module_version": "1.0.0",
      "model_name": "LayoutModel",
      "state": {}
     },
     "c2cbf731987143b2af202f430d066388": {
      "model_module": "@jupyter-widgets/controls",
      "model_module_version": "1.0.0",
      "model_name": "CheckboxModel",
      "state": {
       "description": "fill",
       "disabled": false,
       "layout": "IPY_MODEL_19f3a7cf5aac4c49b394e447c1abc5b9",
       "style": "IPY_MODEL_f1f17d255c5f493798afb9b52763f31e",
       "value": true
      }
     },
     "c2d0c38e2c2c43c4952fc13b03dfe5ce": {
      "model_module": "@jupyter-widgets/base",
      "model_module_version": "1.0.0",
      "model_name": "LayoutModel",
      "state": {}
     },
     "c2fcc600132e4b099cdcb5280ff2d0d7": {
      "model_module": "@jupyter-widgets/controls",
      "model_module_version": "1.0.0",
      "model_name": "SliderStyleModel",
      "state": {
       "description_width": ""
      }
     },
     "c31868732213485d825c1890af649ef7": {
      "model_module": "@jupyter-widgets/controls",
      "model_module_version": "1.0.0",
      "model_name": "SliderStyleModel",
      "state": {
       "description_width": ""
      }
     },
     "c31ce3a94d1d48efbed34766ca24d555": {
      "model_module": "@jupyter-widgets/controls",
      "model_module_version": "1.0.0",
      "model_name": "IntSliderModel",
      "state": {
       "description": "lineWidth",
       "layout": "IPY_MODEL_4765360dba43443dac09a2f22574d440",
       "max": 20,
       "style": "IPY_MODEL_adeef088174a4a4cbaf480b4c15eb80d",
       "value": 7
      }
     },
     "c321150d3889420097a520653cef8df6": {
      "model_module": "@jupyter-widgets/base",
      "model_module_version": "1.0.0",
      "model_name": "LayoutModel",
      "state": {}
     },
     "c32ed8e68ab940a3974a9d7dc2686797": {
      "model_module": "@jupyter-widgets/controls",
      "model_module_version": "1.0.0",
      "model_name": "IntSliderModel",
      "state": {
       "description": "dx",
       "layout": "IPY_MODEL_49c1f1e474924b74885d58d88112bb8a",
       "min": -100,
       "style": "IPY_MODEL_56fb0298bbcc4a06a21c9ee43666dcfc",
       "value": -50
      }
     },
     "c35ae68ad0d1496e9f3d97f0dcb7494f": {
      "model_module": "@jupyter-widgets/output",
      "model_module_version": "1.0.0",
      "model_name": "OutputModel",
      "state": {
       "layout": "IPY_MODEL_6071918863be40938710b88abcde2ba4"
      }
     },
     "c36448c0afdc4b62ad8aab3841015e5f": {
      "model_module": "@jupyter-widgets/controls",
      "model_module_version": "1.0.0",
      "model_name": "IntSliderModel",
      "state": {
       "description": "r",
       "layout": "IPY_MODEL_930beb4cba624664a44324192d0ab957",
       "style": "IPY_MODEL_456284c4bc4644ec824cad934213daf8",
       "value": 50
      }
     },
     "c380bb8b910e485f91663f014a5fdd51": {
      "model_module": "@jupyter-widgets/base",
      "model_module_version": "1.0.0",
      "model_name": "LayoutModel",
      "state": {}
     },
     "c3852c9ce898496996a7c217a28f91c2": {
      "model_module": "@jupyter-widgets/base",
      "model_module_version": "1.0.0",
      "model_name": "LayoutModel",
      "state": {}
     },
     "c3cfffbf5d344c70bde405da1c31e7f0": {
      "model_module": "@jupyter-widgets/controls",
      "model_module_version": "1.0.0",
      "model_name": "HTMLModel",
      "state": {
       "layout": "IPY_MODEL_5deb7680091c4c6b82dce909f8223c13",
       "style": "IPY_MODEL_943001675456478789ec6b966a345cb9",
       "value": "<img src=\"interactive_rectangle2.png\" id=\"snapshot_id_41_1536323800910\"/>\n <div id=\"snapshot_id_42_1536323800910\">interactive_rectangle2.png</div>"
      }
     },
     "c438e6fe25694db8a57f5542e79ada21": {
      "model_module": "@jupyter-widgets/controls",
      "model_module_version": "1.0.0",
      "model_name": "DescriptionStyleModel",
      "state": {
       "description_width": ""
      }
     },
     "c46b22814e3e499c955b03520fc8e632": {
      "model_module": "@jupyter-widgets/controls",
      "model_module_version": "1.0.0",
      "model_name": "IntSliderModel",
      "state": {
       "description": "w",
       "layout": "IPY_MODEL_25fe0e83a7be4b38a7211ce894201e9e",
       "max": 300,
       "min": -300,
       "style": "IPY_MODEL_01ded9535e644790bc4dfaeaa991eaf2",
       "value": 10
      }
     },
     "c4a4124ad1b24e6ea0bbdeab20c3d004": {
      "model_module": "@jupyter-widgets/base",
      "model_module_version": "1.0.0",
      "model_name": "LayoutModel",
      "state": {}
     },
     "c4b0254c79dc46bfa72aedbf3dc6351f": {
      "model_module": "@jupyter-widgets/base",
      "model_module_version": "1.0.0",
      "model_name": "LayoutModel",
      "state": {}
     },
     "c4f9dcacbbfb4f7b9ae4c978eb2b2118": {
      "model_module": "@jupyter-widgets/base",
      "model_module_version": "1.0.0",
      "model_name": "LayoutModel",
      "state": {}
     },
     "c52ea40ebe7e4452b3ad40dcbc026d99": {
      "model_module": "@jupyter-widgets/controls",
      "model_module_version": "1.0.0",
      "model_name": "SliderStyleModel",
      "state": {
       "description_width": ""
      }
     },
     "c53d22c942cc477bbdabb683b00226fb": {
      "model_module": "@jupyter-widgets/controls",
      "model_module_version": "1.0.0",
      "model_name": "IntSliderModel",
      "state": {
       "description": "lineWidth",
       "layout": "IPY_MODEL_43d331fb913541c0a30fd1395e7acc11",
       "max": 20,
       "style": "IPY_MODEL_377d102e0f4c45bb8bd08237d6675d98",
       "value": 3
      }
     },
     "c55c69ef0e4f421298649bebcc12e3cb": {
      "model_module": "@jupyter-widgets/controls",
      "model_module_version": "1.0.0",
      "model_name": "SliderStyleModel",
      "state": {
       "description_width": ""
      }
     },
     "c5726901884c4db9a68d78bda805df23": {
      "model_module": "@jupyter-widgets/controls",
      "model_module_version": "1.0.0",
      "model_name": "CheckboxModel",
      "state": {
       "description": "fill",
       "disabled": false,
       "layout": "IPY_MODEL_e90ff826d98e4eee9f3ee90749d1319b",
       "style": "IPY_MODEL_ca5f12c82f57431a92b62f10911e02c2",
       "value": true
      }
     },
     "c5b2a34cb7294d459365381e3e13c8e6": {
      "model_module": "@jupyter-widgets/base",
      "model_module_version": "1.0.0",
      "model_name": "LayoutModel",
      "state": {}
     },
     "c5c9439fa4874263bb7416c88ee5a009": {
      "model_module": "@jupyter-widgets/base",
      "model_module_version": "1.0.0",
      "model_name": "LayoutModel",
      "state": {}
     },
     "c5d30691d81f465689529e63331fe4b3": {
      "model_module": "@jupyter-widgets/controls",
      "model_module_version": "1.0.0",
      "model_name": "IntSliderModel",
      "state": {
       "description": "x",
       "layout": "IPY_MODEL_ed37bd2cb89e4b5bace8145f7d374df0",
       "min": -100,
       "style": "IPY_MODEL_0d6eae09978a488fa7f3c6f4bdd0099a"
      }
     },
     "c5f7efd85a71477fa5401c8a76739ec0": {
      "model_module": "@jupyter-widgets/controls",
      "model_module_version": "1.0.0",
      "model_name": "DescriptionStyleModel",
      "state": {
       "description_width": ""
      }
     },
     "c603de0ffe524fe9970d191be2bec02a": {
      "model_module": "@jupyter-widgets/base",
      "model_module_version": "1.0.0",
      "model_name": "LayoutModel",
      "state": {}
     },
     "c62736f595874dd5b348f934c20c2c2d": {
      "model_module": "@jupyter-widgets/output",
      "model_module_version": "1.0.0",
      "model_name": "OutputModel",
      "state": {
       "layout": "IPY_MODEL_29a3fb6cd1db40f6aa53c9ff72568f9a"
      }
     },
     "c627df3f2b5044d08254aba41f4aaa2a": {
      "model_module": "@jupyter-widgets/base",
      "model_module_version": "1.0.0",
      "model_name": "LayoutModel",
      "state": {}
     },
     "c637d41ba9ae4ee29b56bb98e594fb10": {
      "model_module": "@jupyter-widgets/controls",
      "model_module_version": "1.0.0",
      "model_name": "SliderStyleModel",
      "state": {
       "description_width": ""
      }
     },
     "c63c46a1b8724c8f848ac25c31265a97": {
      "model_module": "@jupyter-widgets/controls",
      "model_module_version": "1.0.0",
      "model_name": "SliderStyleModel",
      "state": {
       "description_width": ""
      }
     },
     "c650655ae4d74728b4021f6c921df9ef": {
      "model_module": "@jupyter-widgets/base",
      "model_module_version": "1.0.0",
      "model_name": "LayoutModel",
      "state": {}
     },
     "c67dbeda3de244d29c75a91b6e905fa1": {
      "model_module": "@jupyter-widgets/controls",
      "model_module_version": "1.0.0",
      "model_name": "IntSliderModel",
      "state": {
       "description": "green",
       "layout": "IPY_MODEL_d87f1c365bcf49368c2dbc0fd69b6d4c",
       "max": 255,
       "style": "IPY_MODEL_9188b498434748fbadf305488776d9ad",
       "value": 173
      }
     },
     "c67dfb21c8de4f57a884a8d323057c85": {
      "model_module": "@jupyter-widgets/base",
      "model_module_version": "1.0.0",
      "model_name": "LayoutModel",
      "state": {}
     },
     "c6902fa287be47dcb8f3cef19c803b3f": {
      "model_module": "@jupyter-widgets/controls",
      "model_module_version": "1.0.0",
      "model_name": "SliderStyleModel",
      "state": {
       "description_width": ""
      }
     },
     "c6a705628f7b4bd3a58d6fa4dd7c5761": {
      "model_module": "@jupyter-widgets/controls",
      "model_module_version": "1.0.0",
      "model_name": "SliderStyleModel",
      "state": {
       "description_width": ""
      }
     },
     "c6a7788f85dd48d8b515c7f1dd1182f5": {
      "model_module": "@jupyter-widgets/base",
      "model_module_version": "1.0.0",
      "model_name": "LayoutModel",
      "state": {}
     },
     "c6a8a55460244f3f853c6f57bd5499ec": {
      "model_module": "@jupyter-widgets/controls",
      "model_module_version": "1.0.0",
      "model_name": "TabModel",
      "state": {
       "_titles": {
        "0": "Canvas",
        "1": "Snapshot"
       },
       "children": [
        "IPY_MODEL_85ef07fdd58b4d7b91dec99126643aff",
        "IPY_MODEL_e9897326133e4bd0ba05d5f31aadf455"
       ],
       "layout": "IPY_MODEL_efd7c744f3464ea5b4eac393a6be38ca"
      }
     },
     "c6a9a33d2cd847ffbcecd32efae5e60a": {
      "model_module": "@jupyter-widgets/controls",
      "model_module_version": "1.0.0",
      "model_name": "SliderStyleModel",
      "state": {
       "description_width": ""
      }
     },
     "c6b14e4c4df24364bea5c8ba06263cb0": {
      "model_module": "@jupyter-widgets/base",
      "model_module_version": "1.0.0",
      "model_name": "LayoutModel",
      "state": {}
     },
     "c6b1d45510234e3d8d35ac54244f371c": {
      "model_module": "@jupyter-widgets/controls",
      "model_module_version": "1.0.0",
      "model_name": "IntSliderModel",
      "state": {
       "description": "lineWidth",
       "layout": "IPY_MODEL_385c4cb31c1d491787737c08bb69f148",
       "max": 20,
       "style": "IPY_MODEL_889d5e1c1bf8499e850e275b0e907c79",
       "value": 15
      }
     },
     "c6fe692a8d344d90a3ffd999592a90a6": {
      "model_module": "@jupyter-widgets/controls",
      "model_module_version": "1.0.0",
      "model_name": "TabModel",
      "state": {
       "_titles": {
        "0": "Canvas",
        "1": "Snapshot"
       },
       "children": [
        "IPY_MODEL_bdc22207417e4919bf457087e84d4cec",
        "IPY_MODEL_d619c8ad159e4439bdc75fef297eb164"
       ],
       "layout": "IPY_MODEL_ea6da93702914c17b511d28dd3de4dae",
       "selected_index": 1
      }
     },
     "c71f0629393148be849668c51357c18e": {
      "model_module": "@jupyter-widgets/controls",
      "model_module_version": "1.0.0",
      "model_name": "IntSliderModel",
      "state": {
       "description": "lineWidth",
       "layout": "IPY_MODEL_ee4274a611f5455b9d8fef6ae1f74ee7",
       "max": 20,
       "style": "IPY_MODEL_c8a57fbf987b491e963b8f6a8cad64aa",
       "value": 7
      }
     },
     "c71f1a9e54ce49ce9f522cd479c351c8": {
      "model_module": "@jupyter-widgets/controls",
      "model_module_version": "1.0.0",
      "model_name": "SliderStyleModel",
      "state": {
       "description_width": ""
      }
     },
     "c73d7d27386a44fcb10e338ef688961f": {
      "model_module": "@jupyter-widgets/base",
      "model_module_version": "1.0.0",
      "model_name": "LayoutModel",
      "state": {}
     },
     "c74f953c11ae417187e2cd038d430815": {
      "model_module": "@jupyter-widgets/controls",
      "model_module_version": "1.0.0",
      "model_name": "IntSliderModel",
      "state": {
       "description": "dx",
       "layout": "IPY_MODEL_009a9d3919eb4e30b6ef76c7568be6b1",
       "min": -100,
       "style": "IPY_MODEL_0d24dcc3b4f94035ae9b3b83eb6b2356",
       "value": 37
      }
     },
     "c7a09c31f4dd4d3cb3c349c78fea19cc": {
      "model_module": "@jupyter-widgets/controls",
      "model_module_version": "1.0.0",
      "model_name": "SliderStyleModel",
      "state": {
       "description_width": ""
      }
     },
     "c7d698191ca8416baefb2f883cacde9c": {
      "model_module": "@jupyter-widgets/output",
      "model_module_version": "1.0.0",
      "model_name": "OutputModel",
      "state": {
       "layout": "IPY_MODEL_b57326d1f9634cf4bca1037d3ea6a27b"
      }
     },
     "c7ef28a872db47d682a1e2fb852a8e3e": {
      "model_module": "@jupyter-widgets/controls",
      "model_module_version": "1.0.0",
      "model_name": "SliderStyleModel",
      "state": {
       "description_width": ""
      }
     },
     "c81b6c763dde4686be31dc5e4c0dc0cc": {
      "model_module": "@jupyter-widgets/base",
      "model_module_version": "1.0.0",
      "model_name": "LayoutModel",
      "state": {}
     },
     "c83a73155cb045198bc862797b555bc0": {
      "model_module": "@jupyter-widgets/controls",
      "model_module_version": "1.0.0",
      "model_name": "IntSliderModel",
      "state": {
       "description": "blue",
       "layout": "IPY_MODEL_d5a5472d832540eaa737314b68a3a3a2",
       "max": 255,
       "style": "IPY_MODEL_2e7b00438b9c409ea7d5451e5ce7e3ea",
       "value": 127
      }
     },
     "c8408daa8eae4c0cb4f93df44aa93bf8": {
      "model_module": "@jupyter-widgets/controls",
      "model_module_version": "1.0.0",
      "model_name": "DescriptionStyleModel",
      "state": {
       "description_width": ""
      }
     },
     "c848a1e5a80545ea865c5a57296090d9": {
      "model_module": "@jupyter-widgets/controls",
      "model_module_version": "1.0.0",
      "model_name": "IntSliderModel",
      "state": {
       "description": "dx",
       "layout": "IPY_MODEL_686fb0d835de46e7af3b551e700a6199",
       "min": -100,
       "style": "IPY_MODEL_71371a01f60e41b4917632e837b7da74",
       "value": -50
      }
     },
     "c84ef6aea8fd425881cea85bfb25d2dc": {
      "model_module": "@jupyter-widgets/controls",
      "model_module_version": "1.0.0",
      "model_name": "SliderStyleModel",
      "state": {
       "description_width": ""
      }
     },
     "c8677ad9bb5045578eabe21e216e0dc8": {
      "model_module": "@jupyter-widgets/controls",
      "model_module_version": "1.0.0",
      "model_name": "VBoxModel",
      "state": {
       "children": [
        "IPY_MODEL_806c33d3ac9149e8a2b8b9d5cfc127cb",
        "IPY_MODEL_3f501892f92d49f385ca689073a9d446"
       ],
       "layout": "IPY_MODEL_bf0e112c007b446d92ae8d00487a1830"
      }
     },
     "c86e65b621944ea29cfc1e033b0d40b6": {
      "model_module": "@jupyter-widgets/controls",
      "model_module_version": "1.0.0",
      "model_name": "DescriptionStyleModel",
      "state": {
       "description_width": ""
      }
     },
     "c8828dede2e94543b064504e4120dfd5": {
      "model_module": "@jupyter-widgets/controls",
      "model_module_version": "1.0.0",
      "model_name": "VBoxModel",
      "state": {
       "_dom_classes": [
        "widget-interact"
       ],
       "children": [
        "IPY_MODEL_f870f64f1f7843428fc4c3c8181e368e",
        "IPY_MODEL_33cfd78eac3943b880ca19a95a2cbca8",
        "IPY_MODEL_9bdec2b712e44a16af2b4102e706f219",
        "IPY_MODEL_92367a846b2a4480938b360946e7bb23",
        "IPY_MODEL_effd005c70954ca59d1e609d9670977d",
        "IPY_MODEL_3521f3a31d6b4c889e800f06677dd79f",
        "IPY_MODEL_1ada6af791244f0b9aed56b9b1f91f12",
        "IPY_MODEL_6f0a0e727db641c7a2fd92e15152fc08",
        "IPY_MODEL_dbaf081b173a45f7bf11e0b400805ce8",
        "IPY_MODEL_0e0f736cb1244181a578d9fe1bd18a5c",
        "IPY_MODEL_d733671ae3d64d3ab2213ee72119df7c",
        "IPY_MODEL_af637c81abac4081a0a5933eb0a6bb06"
       ],
       "layout": "IPY_MODEL_d42e82ba935b458aa1202cbe2a08ffbf"
      }
     },
     "c891b4f90b5e435f990cd79fa9a2d3ab": {
      "model_module": "@jupyter-widgets/base",
      "model_module_version": "1.0.0",
      "model_name": "LayoutModel",
      "state": {}
     },
     "c8a57fbf987b491e963b8f6a8cad64aa": {
      "model_module": "@jupyter-widgets/controls",
      "model_module_version": "1.0.0",
      "model_name": "SliderStyleModel",
      "state": {
       "description_width": ""
      }
     },
     "c8ac01fe12dd4bfbb557dabc3c365a78": {
      "model_module": "@jupyter-widgets/base",
      "model_module_version": "1.0.0",
      "model_name": "LayoutModel",
      "state": {}
     },
     "c8b304b83e3946c6a3d84c2feaa94ce8": {
      "model_module": "@jupyter-widgets/controls",
      "model_module_version": "1.0.0",
      "model_name": "SliderStyleModel",
      "state": {
       "description_width": ""
      }
     },
     "c906782d655040058158d35d65c34d5c": {
      "model_module": "@jupyter-widgets/controls",
      "model_module_version": "1.0.0",
      "model_name": "SliderStyleModel",
      "state": {
       "description_width": ""
      }
     },
     "c9197738c9e74ffca50503ed157fd7a5": {
      "model_module": "jp_proxy_widget",
      "model_module_version": "^0.3.4",
      "model_name": "JSProxyModel",
      "state": {
       "_model_module_version": "^0.3.4",
       "_send_counter": 11,
       "_view_module_version": "^0.3.4",
       "error_msg": "No error",
       "layout": "IPY_MODEL_8f9966ed5dc747a7a049f76eeeb5832e",
       "rendered": true,
       "status": "Got results."
      }
     },
     "c91f43116f3647e6a3c8f92e72b5b6dc": {
      "model_module": "@jupyter-widgets/controls",
      "model_module_version": "1.0.0",
      "model_name": "SliderStyleModel",
      "state": {
       "description_width": ""
      }
     },
     "c93a4a07dc114e9a8e7200d9bb1b84a7": {
      "model_module": "@jupyter-widgets/base",
      "model_module_version": "1.0.0",
      "model_name": "LayoutModel",
      "state": {}
     },
     "c93de285d2c343a0bba8a56cbfc7cf3b": {
      "model_module": "@jupyter-widgets/base",
      "model_module_version": "1.0.0",
      "model_name": "LayoutModel",
      "state": {}
     },
     "c93e2d5d660b4e99b657000bd3ec3ae3": {
      "model_module": "@jupyter-widgets/controls",
      "model_module_version": "1.0.0",
      "model_name": "SliderStyleModel",
      "state": {
       "description_width": ""
      }
     },
     "c93f39da518646438b04157b34bd7c56": {
      "model_module": "@jupyter-widgets/controls",
      "model_module_version": "1.0.0",
      "model_name": "IntSliderModel",
      "state": {
       "description": "dx",
       "layout": "IPY_MODEL_f42f1c6388db4b20b28194b01d374641",
       "min": -100,
       "style": "IPY_MODEL_083acbc277a3405fa402c4168b4e3f9f"
      }
     },
     "c94108fed8b94ec986c4f5efca66d8db": {
      "model_module": "@jupyter-widgets/controls",
      "model_module_version": "1.0.0",
      "model_name": "IntSliderModel",
      "state": {
       "description": "y",
       "layout": "IPY_MODEL_176f9de84ad24bb08f6e993c71c10a9f",
       "min": -100,
       "style": "IPY_MODEL_009faa4d2649492c9b4d0bd213c9baed"
      }
     },
     "c94bf6997ffa43ce824dc66924f18cc9": {
      "model_module": "@jupyter-widgets/controls",
      "model_module_version": "1.0.0",
      "model_name": "IntSliderModel",
      "state": {
       "description": "green",
       "layout": "IPY_MODEL_b8ee8156f0a74a1a8b842ccfae245780",
       "max": 255,
       "style": "IPY_MODEL_524faaaf1bda4c4f9ac25d8a84ffbd62"
      }
     },
     "c9564860f70c4668a5fdd72cb85d52c1": {
      "model_module": "@jupyter-widgets/controls",
      "model_module_version": "1.0.0",
      "model_name": "DescriptionStyleModel",
      "state": {
       "description_width": ""
      }
     },
     "c966f1056f224e68b089b45bd169ee5b": {
      "model_module": "@jupyter-widgets/base",
      "model_module_version": "1.0.0",
      "model_name": "LayoutModel",
      "state": {}
     },
     "c9739257a84a4bda98972255f3b64850": {
      "model_module": "@jupyter-widgets/base",
      "model_module_version": "1.0.0",
      "model_name": "LayoutModel",
      "state": {}
     },
     "c9bb937b54294cc3ace97fef6e8725e4": {
      "model_module": "@jupyter-widgets/controls",
      "model_module_version": "1.0.0",
      "model_name": "HTMLModel",
      "state": {
       "layout": "IPY_MODEL_5027fd4f925642d9b412dd5309ce1860",
       "style": "IPY_MODEL_e70715f5d7ef4e95b8214f73bac1a47c",
       "value": "<img src=\"interactive_circle.png\" id=\"snapshot_id_1_1536249636198\"/>\n <div id=\"snapshot_id_2_1536249636198\">interactive_circle.png</div>"
      }
     },
     "c9f0ac68ba5841ea80cba3b28d87b6e6": {
      "model_module": "@jupyter-widgets/controls",
      "model_module_version": "1.0.0",
      "model_name": "SliderStyleModel",
      "state": {
       "description_width": ""
      }
     },
     "ca258b5b09504167b78ab64eefe65565": {
      "model_module": "@jupyter-widgets/output",
      "model_module_version": "1.0.0",
      "model_name": "OutputModel",
      "state": {
       "layout": "IPY_MODEL_c14d2fe68aa34c339422b30329ff0353"
      }
     },
     "ca3cb503044149a6aa65c58fc7eb3255": {
      "model_module": "@jupyter-widgets/controls",
      "model_module_version": "1.0.0",
      "model_name": "SliderStyleModel",
      "state": {
       "description_width": ""
      }
     },
     "ca49dec8e05f4407aaf375e474c4bcb7": {
      "model_module": "@jupyter-widgets/controls",
      "model_module_version": "1.0.0",
      "model_name": "IntSliderModel",
      "state": {
       "description": "lineWidth",
       "layout": "IPY_MODEL_25f4b5cfe0e04d4da1ca22db5da2edf0",
       "max": 20,
       "style": "IPY_MODEL_c8b304b83e3946c6a3d84c2feaa94ce8",
       "value": 3
      }
     },
     "ca59becc1eaf462f8eaad9afa1347757": {
      "model_module": "@jupyter-widgets/controls",
      "model_module_version": "1.0.0",
      "model_name": "FloatSliderModel",
      "state": {
       "description": "alpha",
       "layout": "IPY_MODEL_eb57d51690c54ebcb265695a3c65e591",
       "max": 1,
       "step": 0.1,
       "style": "IPY_MODEL_40a6555930644a19836498bde62e7096",
       "value": 1
      }
     },
     "ca5e5e42aec14edf8c2d057b97178db3": {
      "model_module": "@jupyter-widgets/controls",
      "model_module_version": "1.0.0",
      "model_name": "TabModel",
      "state": {
       "_titles": {
        "0": "Canvas",
        "1": "Snapshot"
       },
       "children": [
        "IPY_MODEL_76ea393a04ce40e7b5863626859af42f",
        "IPY_MODEL_78075ba7ce14402e873e368460f85431"
       ],
       "layout": "IPY_MODEL_28342e8f840844f3924bb3b45e98abfd"
      }
     },
     "ca5f12c82f57431a92b62f10911e02c2": {
      "model_module": "@jupyter-widgets/controls",
      "model_module_version": "1.0.0",
      "model_name": "DescriptionStyleModel",
      "state": {
       "description_width": ""
      }
     },
     "caaeac4ce9754a619d66477a6ed902e9": {
      "model_module": "@jupyter-widgets/controls",
      "model_module_version": "1.0.0",
      "model_name": "IntSliderModel",
      "state": {
       "description": "x",
       "layout": "IPY_MODEL_5be64bc9a28c4098989690d44ea350ac",
       "min": -100,
       "style": "IPY_MODEL_7b7d161f386e4e9caad61d54ef813dec"
      }
     },
     "cae855fe20e243a782578955cba95947": {
      "model_module": "@jupyter-widgets/controls",
      "model_module_version": "1.0.0",
      "model_name": "VBoxModel",
      "state": {
       "children": [
        "IPY_MODEL_de0addb33f8d4f748ddbdf4715f06ea3",
        "IPY_MODEL_b000f583281e40d5978547bb27fc60da"
       ],
       "layout": "IPY_MODEL_2d6082387d2c4646b93bc81c59bdc36d"
      }
     },
     "caed84739d874a51bc8e8a549434bba1": {
      "model_module": "@jupyter-widgets/base",
      "model_module_version": "1.0.0",
      "model_name": "LayoutModel",
      "state": {}
     },
     "cb21c46c9e7242c5b718f9c05895172c": {
      "model_module": "@jupyter-widgets/controls",
      "model_module_version": "1.0.0",
      "model_name": "DescriptionStyleModel",
      "state": {
       "description_width": ""
      }
     },
     "cb27cfbd809f4c28b409728ef3943a9e": {
      "model_module": "@jupyter-widgets/controls",
      "model_module_version": "1.0.0",
      "model_name": "CheckboxModel",
      "state": {
       "description": "fill",
       "disabled": false,
       "layout": "IPY_MODEL_9e52c6b43361439bb139169155adb5cc",
       "style": "IPY_MODEL_bec8764ed5cf4f8b842e269975882224",
       "value": false
      }
     },
     "cb352164ec654c069607b41a35727582": {
      "model_module": "@jupyter-widgets/controls",
      "model_module_version": "1.0.0",
      "model_name": "SliderStyleModel",
      "state": {
       "description_width": ""
      }
     },
     "cb4e29db0eff4938a5fb7049de51f7bc": {
      "model_module": "@jupyter-widgets/controls",
      "model_module_version": "1.0.0",
      "model_name": "IntSliderModel",
      "state": {
       "description": "h",
       "layout": "IPY_MODEL_29010fa647a445f4accddbb8a18a8e7b",
       "max": 300,
       "min": -300,
       "style": "IPY_MODEL_df3cd7d1aa754bed8f77bcdd1e70d5f1",
       "value": 50
      }
     },
     "cbe904656d3544e5be9a3bb3d0d5a862": {
      "model_module": "jp_proxy_widget",
      "model_module_version": "^0.3.4",
      "model_name": "JSProxyModel",
      "state": {
       "_model_module_version": "^0.3.4",
       "_send_counter": 193,
       "_view_module_version": "^0.3.4",
       "error_msg": "No error",
       "layout": "IPY_MODEL_9ba4b277b2934979aabf501a57c812bc",
       "rendered": true,
       "status": "Got results."
      }
     },
     "cbeb1d164b1244ea84f926ebd7f56331": {
      "model_module": "@jupyter-widgets/controls",
      "model_module_version": "1.0.0",
      "model_name": "IntSliderModel",
      "state": {
       "description": "x",
       "layout": "IPY_MODEL_67d57405fa244a00a3a8ccd75b144aee",
       "min": -100,
       "style": "IPY_MODEL_6af12d36ec524d2a9f93d40d8180a1f6",
       "value": -37
      }
     },
     "cc78da8ecdff4e4d8ac60a121090426d": {
      "model_module": "@jupyter-widgets/controls",
      "model_module_version": "1.0.0",
      "model_name": "IntSliderModel",
      "state": {
       "description": "red",
       "layout": "IPY_MODEL_622748a04be14af8ad5e9c829c0264b6",
       "max": 255,
       "style": "IPY_MODEL_a469783eaa864dd1a666075b99c2f77c",
       "value": 255
      }
     },
     "cc7b403341ba40bc88fc001a317f0d91": {
      "model_module": "@jupyter-widgets/controls",
      "model_module_version": "1.0.0",
      "model_name": "IntSliderModel",
      "state": {
       "description": "x",
       "layout": "IPY_MODEL_a2dcdbbe24764788a3f7639c89117ea4",
       "min": -100,
       "style": "IPY_MODEL_0cd04d97c4da4af296e44f5a1fc7cd39"
      }
     },
     "cc875a482b81481aabaa4b59941bb886": {
      "model_module": "@jupyter-widgets/controls",
      "model_module_version": "1.0.0",
      "model_name": "VBoxModel",
      "state": {
       "children": [
        "IPY_MODEL_b6edfe36ded441ba98d5357a6f72e8f1",
        "IPY_MODEL_d01240ca20bf4e438c4f59530776f144"
       ],
       "layout": "IPY_MODEL_df3a643769c54959a85cc571b9fadeb8"
      }
     },
     "cccd07e7220c4bcf8244cd36ff89b8c2": {
      "model_module": "@jupyter-widgets/controls",
      "model_module_version": "1.0.0",
      "model_name": "SliderStyleModel",
      "state": {
       "description_width": ""
      }
     },
     "cce6bbd9517b44bfa945dc1891d45351": {
      "model_module": "@jupyter-widgets/controls",
      "model_module_version": "1.0.0",
      "model_name": "SliderStyleModel",
      "state": {
       "description_width": ""
      }
     },
     "ccee99ed2c864003af64da5c63af3dd7": {
      "model_module": "@jupyter-widgets/base",
      "model_module_version": "1.0.0",
      "model_name": "LayoutModel",
      "state": {}
     },
     "cd0e45c33eda496aa1a9f1cef149434a": {
      "model_module": "@jupyter-widgets/base",
      "model_module_version": "1.0.0",
      "model_name": "LayoutModel",
      "state": {}
     },
     "cd27513bce0a493092790ec43ab9f187": {
      "model_module": "@jupyter-widgets/controls",
      "model_module_version": "1.0.0",
      "model_name": "IntSliderModel",
      "state": {
       "description": "x2",
       "layout": "IPY_MODEL_3755edaea1fa4f1bbe5efe885e020ca8",
       "min": -100,
       "style": "IPY_MODEL_cfb71d6414464d67a9ef79d9a14a4f36",
       "value": 100
      }
     },
     "cd76a416be4544e481d8658fe3ddec62": {
      "model_module": "@jupyter-widgets/controls",
      "model_module_version": "1.0.0",
      "model_name": "SliderStyleModel",
      "state": {
       "description_width": ""
      }
     },
     "cd8dc1c66be94ddcab63196258049889": {
      "model_module": "jp_proxy_widget",
      "model_module_version": "^0.3.4",
      "model_name": "JSProxyModel",
      "state": {
       "_model_module_version": "^0.3.4",
       "_send_counter": 205,
       "_view_module_version": "^0.3.4",
       "error_msg": "No error",
       "layout": "IPY_MODEL_1a9f359c6de541d481faf8b5bbb58905",
       "rendered": true,
       "status": "Got results."
      }
     },
     "cdd45dd4f24047f78b85b1a9bd37fc9f": {
      "model_module": "@jupyter-widgets/controls",
      "model_module_version": "1.0.0",
      "model_name": "IntSliderModel",
      "state": {
       "description": "r",
       "layout": "IPY_MODEL_a83665ebed594db195e1ee15116102fa",
       "style": "IPY_MODEL_04750ce289014b89a2abc7b2941ff541",
       "value": 50
      }
     },
     "cdd59653765a453a8ea86d10d3942b2d": {
      "model_module": "@jupyter-widgets/controls",
      "model_module_version": "1.0.0",
      "model_name": "IntSliderModel",
      "state": {
       "description": "dx",
       "layout": "IPY_MODEL_b2922ccad79943ad811cdecfc33293ff",
       "min": -100,
       "style": "IPY_MODEL_6459704f4554452dbb9101578413a0e6"
      }
     },
     "ce0096ce45434c669e04d8443d2ca151": {
      "model_module": "@jupyter-widgets/base",
      "model_module_version": "1.0.0",
      "model_name": "LayoutModel",
      "state": {}
     },
     "ce09b659de6641d9a1dba74a86e88dd9": {
      "model_module": "@jupyter-widgets/controls",
      "model_module_version": "1.0.0",
      "model_name": "IntSliderModel",
      "state": {
       "description": "dx",
       "layout": "IPY_MODEL_a033a8461f03478e97060f7f5fd1d4c1",
       "min": -100,
       "style": "IPY_MODEL_30ae503ef27948eda6fbe5090c7190a6",
       "value": -30
      }
     },
     "ce626ab925984d18bd32715074a73dc9": {
      "model_module": "@jupyter-widgets/controls",
      "model_module_version": "1.0.0",
      "model_name": "SliderStyleModel",
      "state": {
       "description_width": ""
      }
     },
     "cea452d7705f434f95dbffe362646d71": {
      "model_module": "@jupyter-widgets/base",
      "model_module_version": "1.0.0",
      "model_name": "LayoutModel",
      "state": {}
     },
     "ceac2f6b3a5c473d9d44aff5675dac99": {
      "model_module": "@jupyter-widgets/base",
      "model_module_version": "1.0.0",
      "model_name": "LayoutModel",
      "state": {}
     },
     "ced358c677e44a39ab42f0f84a832deb": {
      "model_module": "@jupyter-widgets/base",
      "model_module_version": "1.0.0",
      "model_name": "LayoutModel",
      "state": {}
     },
     "cf0f29811c1e4fe19a4da520a384bdb9": {
      "model_module": "@jupyter-widgets/controls",
      "model_module_version": "1.0.0",
      "model_name": "VBoxModel",
      "state": {
       "children": [
        "IPY_MODEL_cbe904656d3544e5be9a3bb3d0d5a862",
        "IPY_MODEL_af3b3f154c8149e4a4c9c9060a8a32b9"
       ],
       "layout": "IPY_MODEL_b63fcb05e17642aab82f0315f957d681"
      }
     },
     "cf2d0a68fb95489790103bac5a383118": {
      "model_module": "@jupyter-widgets/base",
      "model_module_version": "1.0.0",
      "model_name": "LayoutModel",
      "state": {}
     },
     "cf4162e7f0d34b7f9796226a57216c5b": {
      "model_module": "@jupyter-widgets/controls",
      "model_module_version": "1.0.0",
      "model_name": "SliderStyleModel",
      "state": {
       "description_width": ""
      }
     },
     "cf42937fa4be4510b9d4d4a48d4c2bdf": {
      "model_module": "@jupyter-widgets/controls",
      "model_module_version": "1.0.0",
      "model_name": "SliderStyleModel",
      "state": {
       "description_width": ""
      }
     },
     "cf4a6c2f44d64cb6be0b082ed0214c3e": {
      "model_module": "@jupyter-widgets/controls",
      "model_module_version": "1.0.0",
      "model_name": "SliderStyleModel",
      "state": {
       "description_width": ""
      }
     },
     "cf5016b393d64edc81d8b22c8e192988": {
      "model_module": "@jupyter-widgets/base",
      "model_module_version": "1.0.0",
      "model_name": "LayoutModel",
      "state": {}
     },
     "cf924c9c868b46e9b325a1eaf3a9aae1": {
      "model_module": "@jupyter-widgets/controls",
      "model_module_version": "1.0.0",
      "model_name": "SliderStyleModel",
      "state": {
       "description_width": ""
      }
     },
     "cfa12cfa008640eaa4a84e33872b9c0f": {
      "model_module": "@jupyter-widgets/controls",
      "model_module_version": "1.0.0",
      "model_name": "SliderStyleModel",
      "state": {
       "description_width": ""
      }
     },
     "cfaa57bb07974d7f9d9b2da3fbed7125": {
      "model_module": "@jupyter-widgets/controls",
      "model_module_version": "1.0.0",
      "model_name": "IntSliderModel",
      "state": {
       "description": "w",
       "layout": "IPY_MODEL_d853415dfca441509785dc43163533e7",
       "max": 300,
       "min": -300,
       "style": "IPY_MODEL_4a344308292f48a5a8f5ef23f5cb35d5",
       "value": 102
      }
     },
     "cfb71d6414464d67a9ef79d9a14a4f36": {
      "model_module": "@jupyter-widgets/controls",
      "model_module_version": "1.0.0",
      "model_name": "SliderStyleModel",
      "state": {
       "description_width": ""
      }
     },
     "cfbbbecad58c4ae8a3386420c343def5": {
      "model_module": "@jupyter-widgets/base",
      "model_module_version": "1.0.0",
      "model_name": "LayoutModel",
      "state": {}
     },
     "cfbcb51eae0d45d5b497bba163de55b5": {
      "model_module": "@jupyter-widgets/controls",
      "model_module_version": "1.0.0",
      "model_name": "IntSliderModel",
      "state": {
       "description": "dy",
       "layout": "IPY_MODEL_6d710b3826df4b25a40bc2b3b4257d43",
       "min": -100,
       "style": "IPY_MODEL_408871657b3a49e1aaf1575004613c88"
      }
     },
     "cfc42e85a02d4cc3a90f760736017703": {
      "model_module": "@jupyter-widgets/base",
      "model_module_version": "1.0.0",
      "model_name": "LayoutModel",
      "state": {}
     },
     "cfe0245f48dd46f288899164a0a516bd": {
      "model_module": "@jupyter-widgets/base",
      "model_module_version": "1.0.0",
      "model_name": "LayoutModel",
      "state": {}
     },
     "d01240ca20bf4e438c4f59530776f144": {
      "model_module": "jp_proxy_widget",
      "model_module_version": "^0.3.4",
      "model_name": "JSProxyModel",
      "state": {
       "_model_module_version": "^0.3.4",
       "_send_counter": 2,
       "_view_module_version": "^0.3.4",
       "error_msg": "No error",
       "layout": "IPY_MODEL_32ea6d58b7d14d52af1ea024f738485b",
       "rendered": true,
       "status": "Got results."
      }
     },
     "d02d01235e7a41b2854466446ea553e6": {
      "model_module": "@jupyter-widgets/controls",
      "model_module_version": "1.0.0",
      "model_name": "IntSliderModel",
      "state": {
       "description": "red",
       "layout": "IPY_MODEL_c650655ae4d74728b4021f6c921df9ef",
       "max": 255,
       "style": "IPY_MODEL_2d96f23bc6174fdbb9c5669ec901c7cc",
       "value": 255
      }
     },
     "d03f96aa10e64b6c8138092e035a2900": {
      "model_module": "@jupyter-widgets/controls",
      "model_module_version": "1.0.0",
      "model_name": "HTMLModel",
      "state": {
       "layout": "IPY_MODEL_dd9d04494d2b4e9ab95331b4e5686841",
       "style": "IPY_MODEL_c8408daa8eae4c0cb4f93df44aa93bf8",
       "value": "<img src=\"interactive_circle.png\" id=\"snapshot_id_23_1536247025635\"/>\n <div id=\"snapshot_id_24_1536247025635\">interactive_circle.png</div>"
      }
     },
     "d0887bb28339491099f8a29d80d04de5": {
      "model_module": "@jupyter-widgets/controls",
      "model_module_version": "1.0.0",
      "model_name": "IntSliderModel",
      "state": {
       "description": "red",
       "layout": "IPY_MODEL_9d8d41caee2342e6ac952ca629b983ad",
       "max": 255,
       "style": "IPY_MODEL_5cf3cac98ec2425d8288506ecd9be9d5",
       "value": 255
      }
     },
     "d0b2a1f5bc104761968b1bc483afc644": {
      "model_module": "@jupyter-widgets/controls",
      "model_module_version": "1.0.0",
      "model_name": "IntSliderModel",
      "state": {
       "description": "r",
       "layout": "IPY_MODEL_a89e0eae175246b4813f7ab11a7d7dbc",
       "style": "IPY_MODEL_92ba613b77e24e91994e5756cb58ab09",
       "value": 50
      }
     },
     "d0c0dee0922c469aad59bd249675d036": {
      "model_module": "@jupyter-widgets/controls",
      "model_module_version": "1.0.0",
      "model_name": "IntSliderModel",
      "state": {
       "description": "red",
       "layout": "IPY_MODEL_97cac1033881494ca21c650aa515ccf1",
       "max": 255,
       "style": "IPY_MODEL_c91f43116f3647e6a3c8f92e72b5b6dc",
       "value": 90
      }
     },
     "d0ca7f495cfa4489923a3e0bdf804d9a": {
      "model_module": "@jupyter-widgets/controls",
      "model_module_version": "1.0.0",
      "model_name": "DescriptionStyleModel",
      "state": {
       "description_width": ""
      }
     },
     "d0f6f3d928fa4f888942f18c296d30be": {
      "model_module": "@jupyter-widgets/base",
      "model_module_version": "1.0.0",
      "model_name": "LayoutModel",
      "state": {}
     },
     "d13f88b8840543bf8d24db2259a4b4ab": {
      "model_module": "@jupyter-widgets/base",
      "model_module_version": "1.0.0",
      "model_name": "LayoutModel",
      "state": {}
     },
     "d1650c137f8443c7a95fc490533752eb": {
      "model_module": "@jupyter-widgets/controls",
      "model_module_version": "1.0.0",
      "model_name": "SliderStyleModel",
      "state": {
       "description_width": ""
      }
     },
     "d196b922cf4042258da63e117d905660": {
      "model_module": "@jupyter-widgets/controls",
      "model_module_version": "1.0.0",
      "model_name": "SliderStyleModel",
      "state": {
       "description_width": ""
      }
     },
     "d1ab587eed194597bdf7f29b7a4daa22": {
      "model_module": "@jupyter-widgets/controls",
      "model_module_version": "1.0.0",
      "model_name": "SliderStyleModel",
      "state": {
       "description_width": ""
      }
     },
     "d1ada41b2e654acda88a78603382310e": {
      "model_module": "@jupyter-widgets/base",
      "model_module_version": "1.0.0",
      "model_name": "LayoutModel",
      "state": {}
     },
     "d1d26d7f781b403e9fa3ec81001a5dca": {
      "model_module": "@jupyter-widgets/base",
      "model_module_version": "1.0.0",
      "model_name": "LayoutModel",
      "state": {}
     },
     "d1f1e07bd9d247cfbf32db3951c9e4a0": {
      "model_module": "@jupyter-widgets/base",
      "model_module_version": "1.0.0",
      "model_name": "LayoutModel",
      "state": {}
     },
     "d215d83e52134853b6e8e9dc5ade8fa0": {
      "model_module": "@jupyter-widgets/base",
      "model_module_version": "1.0.0",
      "model_name": "LayoutModel",
      "state": {}
     },
     "d22f0614b98c4b1eae236fdb8c18c638": {
      "model_module": "@jupyter-widgets/base",
      "model_module_version": "1.0.0",
      "model_name": "LayoutModel",
      "state": {}
     },
     "d23452d3277f41808d6c6cfaae3f540e": {
      "model_module": "@jupyter-widgets/controls",
      "model_module_version": "1.0.0",
      "model_name": "HTMLModel",
      "state": {
       "layout": "IPY_MODEL_43fcf0ffc18747639180ddcffbe43699",
       "style": "IPY_MODEL_42cc639b4af647f28d2724b2f5028853",
       "value": "<img src=\"interactive_rectangle.png\" id=\"snapshot_id_35_1536268865491\"/>\n <div id=\"snapshot_id_36_1536268865491\">interactive_rectangle.png</div>"
      }
     },
     "d240df807fc9475097759a549fb108e5": {
      "model_module": "@jupyter-widgets/controls",
      "model_module_version": "1.0.0",
      "model_name": "IntSliderModel",
      "state": {
       "description": "green",
       "layout": "IPY_MODEL_5198649c3e604221a3fd1195ec348f38",
       "max": 255,
       "style": "IPY_MODEL_3cf6e0894b7241e49e6fe11ed4f572fa"
      }
     },
     "d2660cc3be694b73b15f200e20384739": {
      "model_module": "@jupyter-widgets/controls",
      "model_module_version": "1.0.0",
      "model_name": "SliderStyleModel",
      "state": {
       "description_width": ""
      }
     },
     "d2a6f861616345babe9c8d79d39ee47f": {
      "model_module": "@jupyter-widgets/controls",
      "model_module_version": "1.0.0",
      "model_name": "DescriptionStyleModel",
      "state": {
       "description_width": ""
      }
     },
     "d2c723e1d21e4cd1ae36a66547296c25": {
      "model_module": "@jupyter-widgets/controls",
      "model_module_version": "1.0.0",
      "model_name": "FloatSliderModel",
      "state": {
       "description": "alpha",
       "layout": "IPY_MODEL_8fd7a075c11a46d3bbefab2dec3cfad9",
       "max": 1,
       "step": 0.1,
       "style": "IPY_MODEL_1ac45593583245a98ce89cf39faeabed",
       "value": 1
      }
     },
     "d2cd4e61e556453281c5ec70e4900d17": {
      "model_module": "@jupyter-widgets/controls",
      "model_module_version": "1.0.0",
      "model_name": "FloatSliderModel",
      "state": {
       "description": "arc",
       "layout": "IPY_MODEL_6d4babb2a84444899740d58c0f97d7d5",
       "max": 6.383185307179586,
       "step": 0.1,
       "style": "IPY_MODEL_d50d3a0cd7344f56a6db3839986cb8c6",
       "value": 3.9
      }
     },
     "d2e26a0c4b104027b0140a2843718a61": {
      "model_module": "@jupyter-widgets/base",
      "model_module_version": "1.0.0",
      "model_name": "LayoutModel",
      "state": {}
     },
     "d2ee1e268a02467cbec808a81abda56b": {
      "model_module": "@jupyter-widgets/base",
      "model_module_version": "1.0.0",
      "model_name": "LayoutModel",
      "state": {}
     },
     "d3361b9f65724648ae68d6f30878cf24": {
      "model_module": "@jupyter-widgets/controls",
      "model_module_version": "1.0.0",
      "model_name": "SliderStyleModel",
      "state": {
       "description_width": ""
      }
     },
     "d38d110673304e319daafa6a39990cfc": {
      "model_module": "@jupyter-widgets/base",
      "model_module_version": "1.0.0",
      "model_name": "LayoutModel",
      "state": {}
     },
     "d3b037df43b449028f58513bbf26df95": {
      "model_module": "@jupyter-widgets/controls",
      "model_module_version": "1.0.0",
      "model_name": "SliderStyleModel",
      "state": {
       "description_width": ""
      }
     },
     "d3eec64ce798400397108160d8174df0": {
      "model_module": "@jupyter-widgets/controls",
      "model_module_version": "1.0.0",
      "model_name": "HTMLModel",
      "state": {
       "layout": "IPY_MODEL_ff2b85b3af354540b4feffc43c975ae3",
       "style": "IPY_MODEL_63f9a81969744b96bc5120f4bdf75b74",
       "value": "<img src=\"interactive_rectangle.png\" id=\"snapshot_id_19_1536267860626\"/>\n <div id=\"snapshot_id_20_1536267860626\">interactive_rectangle.png</div>"
      }
     },
     "d3f1fa849def4623a855a1c53a27eb78": {
      "model_module": "@jupyter-widgets/controls",
      "model_module_version": "1.0.0",
      "model_name": "VBoxModel",
      "state": {
       "children": [
        "IPY_MODEL_e0a1cc0237734710a39ccced2933c321",
        "IPY_MODEL_645127a3289045d98b16205088beb533"
       ],
       "layout": "IPY_MODEL_a4806d08eea944289eaa92240ca246d7"
      }
     },
     "d42e82ba935b458aa1202cbe2a08ffbf": {
      "model_module": "@jupyter-widgets/base",
      "model_module_version": "1.0.0",
      "model_name": "LayoutModel",
      "state": {}
     },
     "d47b00a7a00e42aaa213ec57c4ffd28a": {
      "model_module": "@jupyter-widgets/controls",
      "model_module_version": "1.0.0",
      "model_name": "DescriptionStyleModel",
      "state": {
       "description_width": ""
      }
     },
     "d489cc2f4f5844a08f377f7dbbf5b611": {
      "model_module": "@jupyter-widgets/base",
      "model_module_version": "1.0.0",
      "model_name": "LayoutModel",
      "state": {}
     },
     "d49c75f078c5498d9c46f8c1f51ad263": {
      "model_module": "@jupyter-widgets/base",
      "model_module_version": "1.0.0",
      "model_name": "LayoutModel",
      "state": {}
     },
     "d49ced60d57543849fad8b7370f68608": {
      "model_module": "@jupyter-widgets/base",
      "model_module_version": "1.0.0",
      "model_name": "LayoutModel",
      "state": {}
     },
     "d4aa3be275c549bf98a27301f9ea643d": {
      "model_module": "@jupyter-widgets/controls",
      "model_module_version": "1.0.0",
      "model_name": "IntSliderModel",
      "state": {
       "description": "dy",
       "layout": "IPY_MODEL_7e3f6f144840474e8d63baf2c2fe32e8",
       "min": -100,
       "style": "IPY_MODEL_8b6a643a7903485e8d2792361b47d345"
      }
     },
     "d4c739f16e634587b293f737f2f7b649": {
      "model_module": "@jupyter-widgets/controls",
      "model_module_version": "1.0.0",
      "model_name": "IntSliderModel",
      "state": {
       "description": "green",
       "layout": "IPY_MODEL_df7a4d1d7e4e419d880b0f31047bc61d",
       "max": 255,
       "style": "IPY_MODEL_a2e2e81a41604807a6ef8e383250fce5",
       "value": 127
      }
     },
     "d4ca52050c6b48c1b2547e3457aff758": {
      "model_module": "@jupyter-widgets/controls",
      "model_module_version": "1.0.0",
      "model_name": "IntSliderModel",
      "state": {
       "description": "dy",
       "layout": "IPY_MODEL_ded69e43b6b14b9082e0218e9a530a31",
       "min": -100,
       "style": "IPY_MODEL_e7fae1a7050b402f97cbcb57d710fecf",
       "value": -25
      }
     },
     "d4cecc9f7adc473abd5ce05686fc5d91": {
      "model_module": "@jupyter-widgets/controls",
      "model_module_version": "1.0.0",
      "model_name": "SliderStyleModel",
      "state": {
       "description_width": ""
      }
     },
     "d4d3a91362c8496e8f5e556addf2f7b5": {
      "model_module": "@jupyter-widgets/output",
      "model_module_version": "1.0.0",
      "model_name": "OutputModel",
      "state": {
       "layout": "IPY_MODEL_bfb470373db640ee9f814c2952770fc9",
       "outputs": [
        {
         "name": "stdout",
         "output_type": "stream",
         "text": "color is 'rgba(127,127,127,0)'\n"
        }
       ]
      }
     },
     "d50d3a0cd7344f56a6db3839986cb8c6": {
      "model_module": "@jupyter-widgets/controls",
      "model_module_version": "1.0.0",
      "model_name": "SliderStyleModel",
      "state": {
       "description_width": ""
      }
     },
     "d538a6b926244c978935e5e426402afc": {
      "model_module": "@jupyter-widgets/base",
      "model_module_version": "1.0.0",
      "model_name": "LayoutModel",
      "state": {}
     },
     "d541291b54994d64b270097d8966c4bd": {
      "model_module": "@jupyter-widgets/output",
      "model_module_version": "1.0.0",
      "model_name": "OutputModel",
      "state": {
       "layout": "IPY_MODEL_e77047fc9fab487fbd8934f5e59023e8"
      }
     },
     "d564cf7922044760ba2c31a0f498dc94": {
      "model_module": "@jupyter-widgets/controls",
      "model_module_version": "1.0.0",
      "model_name": "CheckboxModel",
      "state": {
       "description": "fill",
       "disabled": false,
       "layout": "IPY_MODEL_5f71c0e3f729442e9cdf7bdf989171e4",
       "style": "IPY_MODEL_c26c8efc4ffa49468281cc2afd872f08",
       "value": true
      }
     },
     "d5a2e57cb6b94e65b8a9f1ff2e57ede3": {
      "model_module": "@jupyter-widgets/controls",
      "model_module_version": "1.0.0",
      "model_name": "IntSliderModel",
      "state": {
       "description": "y2",
       "layout": "IPY_MODEL_70ca8aff3e444c4eb5149fef3575b2f5",
       "min": -100,
       "style": "IPY_MODEL_5cb98d4bc39e494a8f6a7e03e1ac6871",
       "value": -21
      }
     },
     "d5a5472d832540eaa737314b68a3a3a2": {
      "model_module": "@jupyter-widgets/base",
      "model_module_version": "1.0.0",
      "model_name": "LayoutModel",
      "state": {}
     },
     "d5ba70ed6b704761b746ea3db23d7b0e": {
      "model_module": "@jupyter-widgets/controls",
      "model_module_version": "1.0.0",
      "model_name": "FloatSliderModel",
      "state": {
       "description": "alpha",
       "layout": "IPY_MODEL_8f93193711984d49b71f3ea0aca28b5b",
       "max": 1,
       "step": 0.1,
       "style": "IPY_MODEL_7ef7d494d49340799b56de3cec702d9c",
       "value": 1
      }
     },
     "d619c8ad159e4439bdc75fef297eb164": {
      "model_module": "@jupyter-widgets/controls",
      "model_module_version": "1.0.0",
      "model_name": "HTMLModel",
      "state": {
       "layout": "IPY_MODEL_1000747db3224025aa9f220ec43e0a10",
       "style": "IPY_MODEL_8931306267154b1f9030a35620922ea0",
       "value": "<img src=\"interactive_rectangle2.png\" id=\"snapshot_id_15_1536267636629\"/>\n <div id=\"snapshot_id_16_1536267636629\">interactive_rectangle2.png</div>"
      }
     },
     "d62fd1b878a24442ba33a29738dac5e8": {
      "model_module": "@jupyter-widgets/base",
      "model_module_version": "1.0.0",
      "model_name": "LayoutModel",
      "state": {}
     },
     "d66e4b88c77846a1847dd5f6177fe23b": {
      "model_module": "@jupyter-widgets/controls",
      "model_module_version": "1.0.0",
      "model_name": "IntSliderModel",
      "state": {
       "description": "red",
       "layout": "IPY_MODEL_1830fa3e4a8141caad7a0816790c27db",
       "max": 255,
       "style": "IPY_MODEL_9ce08209fb0d4805b04dece439059979",
       "value": 255
      }
     },
     "d6743d86e74d4d608510648b7268f0e7": {
      "model_module": "@jupyter-widgets/controls",
      "model_module_version": "1.0.0",
      "model_name": "IntSliderModel",
      "state": {
       "description": "red",
       "layout": "IPY_MODEL_b7f3da87efa74cce87bb768bdc9fb870",
       "max": 255,
       "style": "IPY_MODEL_e359b730c9214fac8f06e33b9f3b85e4",
       "value": 255
      }
     },
     "d68fb73a0f9d42a78bf9bf60823186fb": {
      "model_module": "@jupyter-widgets/base",
      "model_module_version": "1.0.0",
      "model_name": "LayoutModel",
      "state": {}
     },
     "d6bb29c9c3c34159afe9480d0f0d0063": {
      "model_module": "@jupyter-widgets/controls",
      "model_module_version": "1.0.0",
      "model_name": "FloatSliderModel",
      "state": {
       "description": "alpha",
       "layout": "IPY_MODEL_5ce051275ef54c379c8c113ad2438a21",
       "max": 1,
       "step": 0.1,
       "style": "IPY_MODEL_b6494a4a0cf346b986fc8dee4f9f848b",
       "value": 1
      }
     },
     "d733671ae3d64d3ab2213ee72119df7c": {
      "model_module": "@jupyter-widgets/controls",
      "model_module_version": "1.0.0",
      "model_name": "FloatSliderModel",
      "state": {
       "description": "alpha",
       "layout": "IPY_MODEL_f660fee8e512432199370c43956b6958",
       "max": 1,
       "step": 0.1,
       "style": "IPY_MODEL_1fc3bb3d328d41038b62e196aa0a8dde",
       "value": 1
      }
     },
     "d77b6462ad514ee8876ac19f2c622c6b": {
      "model_module": "@jupyter-widgets/controls",
      "model_module_version": "1.0.0",
      "model_name": "IntSliderModel",
      "state": {
       "description": "y",
       "layout": "IPY_MODEL_75b8407b3a7d47b2b2bf8c3687d77742",
       "min": -100,
       "style": "IPY_MODEL_4e1d1a8733fc4cdbb4495a74bc300bd7"
      }
     },
     "d795fc1c655a4c2983521394b5ed6597": {
      "model_module": "@jupyter-widgets/controls",
      "model_module_version": "1.0.0",
      "model_name": "SliderStyleModel",
      "state": {
       "description_width": ""
      }
     },
     "d7c66be035fe4e6086b9f6553f680907": {
      "model_module": "@jupyter-widgets/base",
      "model_module_version": "1.0.0",
      "model_name": "LayoutModel",
      "state": {}
     },
     "d81ae6fc7a504f21b8238804dc3332ce": {
      "model_module": "@jupyter-widgets/base",
      "model_module_version": "1.0.0",
      "model_name": "LayoutModel",
      "state": {}
     },
     "d853415dfca441509785dc43163533e7": {
      "model_module": "@jupyter-widgets/base",
      "model_module_version": "1.0.0",
      "model_name": "LayoutModel",
      "state": {}
     },
     "d860346a4d4c4ed6a843f3216705e6de": {
      "model_module": "jp_proxy_widget",
      "model_module_version": "^0.3.4",
      "model_name": "JSProxyModel",
      "state": {
       "_model_module_version": "^0.3.4",
       "_send_counter": 2,
       "_view_module_version": "^0.3.4",
       "error_msg": "No error",
       "layout": "IPY_MODEL_4244e0c3771c4898942ed4036cba7fb0",
       "rendered": true,
       "status": "Got results."
      }
     },
     "d86e8db51e6a4c39b9ab087dd78b9999": {
      "model_module": "@jupyter-widgets/controls",
      "model_module_version": "1.0.0",
      "model_name": "FloatSliderModel",
      "state": {
       "description": "alpha",
       "layout": "IPY_MODEL_26e4900072e1472292fe343d0ff4e056",
       "max": 1,
       "step": 0.1,
       "style": "IPY_MODEL_98f730cba2124d9f8cb7ab336db82e7f",
       "value": 1
      }
     },
     "d8731cce1a234f04a4695181cfb54a7d": {
      "model_module": "@jupyter-widgets/base",
      "model_module_version": "1.0.0",
      "model_name": "LayoutModel",
      "state": {}
     },
     "d87f1c365bcf49368c2dbc0fd69b6d4c": {
      "model_module": "@jupyter-widgets/base",
      "model_module_version": "1.0.0",
      "model_name": "LayoutModel",
      "state": {}
     },
     "d8865abe04a448bcb6dc9639d3943fd0": {
      "model_module": "jp_proxy_widget",
      "model_module_version": "^0.3.4",
      "model_name": "JSProxyModel",
      "state": {
       "_model_module_version": "^0.3.4",
       "_send_counter": 2,
       "_view_module_version": "^0.3.4",
       "error_msg": "No error",
       "layout": "IPY_MODEL_2f469495cf944a398f9eb31a7df84eb7",
       "rendered": true,
       "status": "Got results."
      }
     },
     "d8910ae1ca1d4bda8882afb2679eaa0e": {
      "model_module": "@jupyter-widgets/base",
      "model_module_version": "1.0.0",
      "model_name": "LayoutModel",
      "state": {}
     },
     "d8be6d0468cb47c390dd854aa7d167ba": {
      "model_module": "@jupyter-widgets/controls",
      "model_module_version": "1.0.0",
      "model_name": "SliderStyleModel",
      "state": {
       "description_width": ""
      }
     },
     "d8e2262e5a4c4ebfbab4e4e351031511": {
      "model_module": "@jupyter-widgets/base",
      "model_module_version": "1.0.0",
      "model_name": "LayoutModel",
      "state": {}
     },
     "d93029a6e95544d9b474cf99c19e86e1": {
      "model_module": "@jupyter-widgets/controls",
      "model_module_version": "1.0.0",
      "model_name": "SliderStyleModel",
      "state": {
       "description_width": ""
      }
     },
     "d94c866fd871461f8531a21a8894da17": {
      "model_module": "@jupyter-widgets/controls",
      "model_module_version": "1.0.0",
      "model_name": "IntSliderModel",
      "state": {
       "description": "dx",
       "layout": "IPY_MODEL_a907ed66ad484584a6a2dca6aaf5fc04",
       "min": -100,
       "style": "IPY_MODEL_aeb3cd3b74c3402e936664314ac099c8",
       "value": -12
      }
     },
     "d97c44cbd6934c4ba079da1b565f3917": {
      "model_module": "@jupyter-widgets/controls",
      "model_module_version": "1.0.0",
      "model_name": "VBoxModel",
      "state": {
       "_dom_classes": [
        "widget-interact"
       ],
       "children": [
        "IPY_MODEL_b7838dd715044888aeaec9fdc76f3e39",
        "IPY_MODEL_2e3700642f6c448f8f7c6904103bd311",
        "IPY_MODEL_dac725c55628422d81d17796626d1e3b",
        "IPY_MODEL_fa71a705efd74b09b968b39c4b2b2dbe",
        "IPY_MODEL_c0d4c7c92eae43e882773625772efb27",
        "IPY_MODEL_c2cbf731987143b2af202f430d066388",
        "IPY_MODEL_e00e28fd4b1b41828fe0f531c23c9f5c",
        "IPY_MODEL_7cc25c3914fc4fd49d9c6389ea6c1b99",
        "IPY_MODEL_e2c5cd70dab04a759fcca9d405217a26",
        "IPY_MODEL_3c8d093f27ca43e98c709bdec227af87",
        "IPY_MODEL_66ba2aa5484d4887b27d7839101f531f",
        "IPY_MODEL_e20c1868eb674822bdf62185ed173dab"
       ],
       "layout": "IPY_MODEL_3b2146ed6a794cc28dff2017141ecff9"
      }
     },
     "d998abd016614883aa956a795c055f83": {
      "model_module": "@jupyter-widgets/base",
      "model_module_version": "1.0.0",
      "model_name": "LayoutModel",
      "state": {}
     },
     "d9b9d58fac3545cdae2dfceb1f2a73ab": {
      "model_module": "@jupyter-widgets/base",
      "model_module_version": "1.0.0",
      "model_name": "LayoutModel",
      "state": {}
     },
     "d9bbec76e58244b0b3d1de3df4573b5c": {
      "model_module": "@jupyter-widgets/controls",
      "model_module_version": "1.0.0",
      "model_name": "DescriptionStyleModel",
      "state": {
       "description_width": ""
      }
     },
     "d9f068785a9c422abd494a633656441a": {
      "model_module": "@jupyter-widgets/base",
      "model_module_version": "1.0.0",
      "model_name": "LayoutModel",
      "state": {}
     },
     "da1ebfdf11064cc9863ace7d1f976301": {
      "model_module": "jp_proxy_widget",
      "model_module_version": "^0.3.4",
      "model_name": "JSProxyModel",
      "state": {
       "_model_module_version": "^0.3.4",
       "_send_counter": 11,
       "_view_module_version": "^0.3.4",
       "error_msg": "No error",
       "layout": "IPY_MODEL_b8e66a149abb47b6aa364842a8786bb1",
       "rendered": true,
       "status": "Got results."
      }
     },
     "da488c2eb02645ccacf80641c0784067": {
      "model_module": "@jupyter-widgets/base",
      "model_module_version": "1.0.0",
      "model_name": "LayoutModel",
      "state": {}
     },
     "da523e903d2c431894755f0ba0f5a2d4": {
      "model_module": "@jupyter-widgets/controls",
      "model_module_version": "1.0.0",
      "model_name": "VBoxModel",
      "state": {
       "_dom_classes": [
        "widget-interact"
       ],
       "children": [
        "IPY_MODEL_2e6e7f1bd8864607b58b4841cc91d3b7",
        "IPY_MODEL_e1491ca1e07e4150b886aecc22040b14",
        "IPY_MODEL_3a0d309da4274cd6a4c0bc706bc51d81",
        "IPY_MODEL_f76a57e9deae43409bd029d9a760c435",
        "IPY_MODEL_3943f1b913fe4b1e94e48c0a87f56dfd",
        "IPY_MODEL_ba45b99b941e49149faa3102ac0c6bcb",
        "IPY_MODEL_fa62757de3c74db9b81fc5a0178d7852",
        "IPY_MODEL_912bfb4b917e4ffdafcb0a2f358c2668",
        "IPY_MODEL_08d6ef584754424bb9a274086ea50c18",
        "IPY_MODEL_bb806e7ec94f45a2b8cea6e2ae2255b9",
        "IPY_MODEL_3af941c9e342491c87e295f01a280228",
        "IPY_MODEL_ca258b5b09504167b78ab64eefe65565"
       ],
       "layout": "IPY_MODEL_c0cb3cd4ab494d718bc2675688df6894"
      }
     },
     "da82f84716a94fc8bbe5631f5be582a1": {
      "model_module": "@jupyter-widgets/controls",
      "model_module_version": "1.0.0",
      "model_name": "VBoxModel",
      "state": {
       "children": [
        "IPY_MODEL_60b5b862ab7e4d7aaa8ce24191ab6e24",
        "IPY_MODEL_685d33cc6c0d4570ae478d344c6b31ac"
       ],
       "layout": "IPY_MODEL_9f94ba3004d74657a0786be9f7be1693"
      }
     },
     "da870b321611401ea27683c1a9622451": {
      "model_module": "@jupyter-widgets/output",
      "model_module_version": "1.0.0",
      "model_name": "OutputModel",
      "state": {
       "layout": "IPY_MODEL_b85fc7f4ec1a48e39291a1e7c7f6fb9d"
      }
     },
     "da8e78505c804e40a83cb4917f49f0fe": {
      "model_module": "@jupyter-widgets/controls",
      "model_module_version": "1.0.0",
      "model_name": "IntSliderModel",
      "state": {
       "description": "y",
       "layout": "IPY_MODEL_201194823eac4061aea9989626d7a85a",
       "min": -100,
       "style": "IPY_MODEL_bd8885ee5ba040a18d194a8f4e2c374a",
       "value": -100
      }
     },
     "da9169aa4f7e4d1e8cc2679672d489c1": {
      "model_module": "@jupyter-widgets/base",
      "model_module_version": "1.0.0",
      "model_name": "LayoutModel",
      "state": {}
     },
     "daa81e61b74947cc818a446fd80ed6ea": {
      "model_module": "@jupyter-widgets/base",
      "model_module_version": "1.0.0",
      "model_name": "LayoutModel",
      "state": {}
     },
     "dac725c55628422d81d17796626d1e3b": {
      "model_module": "@jupyter-widgets/controls",
      "model_module_version": "1.0.0",
      "model_name": "IntSliderModel",
      "state": {
       "description": "w",
       "layout": "IPY_MODEL_f3a0ca12ebcd438aa781da85f04cd4b9",
       "min": -100,
       "style": "IPY_MODEL_5a7e8eb1300749dda22c3f637d791ba6"
      }
     },
     "dacc8e2de66f42b1a951d7d349d8f964": {
      "model_module": "@jupyter-widgets/controls",
      "model_module_version": "1.0.0",
      "model_name": "VBoxModel",
      "state": {
       "children": [
        "IPY_MODEL_cd8dc1c66be94ddcab63196258049889",
        "IPY_MODEL_1b321198594e48f88ba16eab3e8a3043"
       ],
       "layout": "IPY_MODEL_c2859d972ab74f16a107fcd5d4c08585"
      }
     },
     "dad0a60f0b984601ab7a8c645a2da3e0": {
      "model_module": "@jupyter-widgets/controls",
      "model_module_version": "1.0.0",
      "model_name": "IntSliderModel",
      "state": {
       "description": "blue",
       "layout": "IPY_MODEL_f5e801ba60984980887e93e2fd43515f",
       "max": 255,
       "style": "IPY_MODEL_2b0ede0e51c34c789d0b6d3b1f34fa57",
       "value": 255
      }
     },
     "dae60a9b002543e9a552e9daf4576b9a": {
      "model_module": "@jupyter-widgets/controls",
      "model_module_version": "1.0.0",
      "model_name": "IntSliderModel",
      "state": {
       "description": "lineWidth",
       "layout": "IPY_MODEL_7ec268b6b17748918e24f610fa8443c8",
       "max": 20,
       "style": "IPY_MODEL_cf924c9c868b46e9b325a1eaf3a9aae1",
       "value": 3
      }
     },
     "dae6ec53ddb742848f39962af1172ebe": {
      "model_module": "@jupyter-widgets/controls",
      "model_module_version": "1.0.0",
      "model_name": "SliderStyleModel",
      "state": {
       "description_width": ""
      }
     },
     "db0755d3aaa4465ea839aee6faf992c3": {
      "model_module": "@jupyter-widgets/controls",
      "model_module_version": "1.0.0",
      "model_name": "IntSliderModel",
      "state": {
       "description": "green",
       "layout": "IPY_MODEL_f5c6c7ba963447798adb520a3185cf45",
       "max": 255,
       "style": "IPY_MODEL_2328df1c179b4876ad127f784edc929b"
      }
     },
     "db0ce166b6924696a705aee247ce77a0": {
      "model_module": "@jupyter-widgets/base",
      "model_module_version": "1.0.0",
      "model_name": "LayoutModel",
      "state": {}
     },
     "db1db6179a454a59bbde59e397193f2e": {
      "model_module": "@jupyter-widgets/controls",
      "model_module_version": "1.0.0",
      "model_name": "HTMLModel",
      "state": {
       "layout": "IPY_MODEL_e954dff4c0d14af79f3465888de53ff8",
       "style": "IPY_MODEL_740855e0bebf4f35b41ae7c98254eed0",
       "value": "<img src=\"interactive_rectangle2.png\" id=\"snapshot_id_43_1536323814311\"/>\n <div id=\"snapshot_id_44_1536323814311\">interactive_rectangle2.png</div>"
      }
     },
     "db20cd32cc654c3e8bb2cf4e0dac38a9": {
      "model_module": "@jupyter-widgets/controls",
      "model_module_version": "1.0.0",
      "model_name": "FloatSliderModel",
      "state": {
       "description": "alpha",
       "layout": "IPY_MODEL_0626be14a03e46c183c08afcd0ec95e4",
       "max": 1,
       "step": 0.1,
       "style": "IPY_MODEL_48fd1af6dcd54b858b470952f5e20a3f",
       "value": 1
      }
     },
     "db2aa71d00024b1e9acf939d78cb3d3c": {
      "model_module": "@jupyter-widgets/controls",
      "model_module_version": "1.0.0",
      "model_name": "DescriptionStyleModel",
      "state": {
       "description_width": ""
      }
     },
     "db2d94ea87bc4955884f78c84c4db7c9": {
      "model_module": "@jupyter-widgets/controls",
      "model_module_version": "1.0.0",
      "model_name": "SliderStyleModel",
      "state": {
       "description_width": ""
      }
     },
     "db3a5ae362bd42ac92cb70274cd5fa5f": {
      "model_module": "@jupyter-widgets/base",
      "model_module_version": "1.0.0",
      "model_name": "LayoutModel",
      "state": {}
     },
     "db5bdac5a92948b98142d2826c2a654b": {
      "model_module": "@jupyter-widgets/controls",
      "model_module_version": "1.0.0",
      "model_name": "IntSliderModel",
      "state": {
       "description": "blue",
       "layout": "IPY_MODEL_f21723f381ac443eb640955d6df26724",
       "max": 255,
       "style": "IPY_MODEL_dbce462ae8d847f9b65751d8f1b76d1b",
       "value": 255
      }
     },
     "db793658e2034355b40fd7a31973f70f": {
      "model_module": "@jupyter-widgets/base",
      "model_module_version": "1.0.0",
      "model_name": "LayoutModel",
      "state": {}
     },
     "dbaf081b173a45f7bf11e0b400805ce8": {
      "model_module": "@jupyter-widgets/controls",
      "model_module_version": "1.0.0",
      "model_name": "IntSliderModel",
      "state": {
       "description": "green",
       "layout": "IPY_MODEL_0b95c4c8fdb041f19c79512c9059213e",
       "max": 255,
       "style": "IPY_MODEL_2d76bf95824445969bc3a7b390089690"
      }
     },
     "dbba1e826ae04c4ca554235ac52af713": {
      "model_module": "@jupyter-widgets/base",
      "model_module_version": "1.0.0",
      "model_name": "LayoutModel",
      "state": {}
     },
     "dbce462ae8d847f9b65751d8f1b76d1b": {
      "model_module": "@jupyter-widgets/controls",
      "model_module_version": "1.0.0",
      "model_name": "SliderStyleModel",
      "state": {
       "description_width": ""
      }
     },
     "dbdb1c5d6f83451ca77c4d356d62abc3": {
      "model_module": "@jupyter-widgets/base",
      "model_module_version": "1.0.0",
      "model_name": "LayoutModel",
      "state": {}
     },
     "dc7a50006e0f4c8282437f87cfde3f62": {
      "model_module": "@jupyter-widgets/controls",
      "model_module_version": "1.0.0",
      "model_name": "IntSliderModel",
      "state": {
       "description": "lineWidth",
       "layout": "IPY_MODEL_f6e2534e68144b43a9fdae752be3b257",
       "max": 20,
       "style": "IPY_MODEL_953d9e255045410a9ab50f4c51da1860",
       "value": 3
      }
     },
     "dcc4bc8216db4d659a38b3c3c084a27d": {
      "model_module": "@jupyter-widgets/base",
      "model_module_version": "1.0.0",
      "model_name": "LayoutModel",
      "state": {}
     },
     "dd148ca9f1a54b7f8b363ef661479c05": {
      "model_module": "@jupyter-widgets/controls",
      "model_module_version": "1.0.0",
      "model_name": "HTMLModel",
      "state": {
       "layout": "IPY_MODEL_bdb67a6303b34171b01ae54e012c11f0",
       "style": "IPY_MODEL_f97b7b9bd4b542b190353ca6174627ff",
       "value": "<img src=\"interactive_rectangle.png\" id=\"snapshot_id_3_1536267088046\"/>\n <div id=\"snapshot_id_4_1536267088046\">interactive_rectangle.png</div>"
      }
     },
     "dd5c42b76ef6466e95373b52b53a0654": {
      "model_module": "@jupyter-widgets/base",
      "model_module_version": "1.0.0",
      "model_name": "LayoutModel",
      "state": {}
     },
     "dd6cec31f1184e32b032f603b932ada6": {
      "model_module": "@jupyter-widgets/controls",
      "model_module_version": "1.0.0",
      "model_name": "VBoxModel",
      "state": {
       "_dom_classes": [
        "widget-interact"
       ],
       "children": [
        "IPY_MODEL_028923014a394f6d8f57325039850cb0",
        "IPY_MODEL_2ed53716cbfb4930b6f2d38798db8ed8",
        "IPY_MODEL_5ddae8e746174b0e8a3d522910ca6ec2",
        "IPY_MODEL_be0d23da9e884dafa721bb34190c775c",
        "IPY_MODEL_ce09b659de6641d9a1dba74a86e88dd9",
        "IPY_MODEL_09882c0f28c24ce0a6a1169714214bf0",
        "IPY_MODEL_69da7c609298498283da7b6ad8b551ce",
        "IPY_MODEL_b7f3dc6cdaa142789f6135a9280eff5d",
        "IPY_MODEL_dae60a9b002543e9a552e9daf4576b9a",
        "IPY_MODEL_0636ebbe717145b49cfed57df280d29a",
        "IPY_MODEL_c94bf6997ffa43ce824dc66924f18cc9",
        "IPY_MODEL_4c809ac4793846b89d40a84782f7efde",
        "IPY_MODEL_d86e8db51e6a4c39b9ab087dd78b9999",
        "IPY_MODEL_086895d5615c4299818d42ee4ec28ca3"
       ],
       "layout": "IPY_MODEL_ef0c311c2bc247f6b3be70b9aa2f2420"
      }
     },
     "dd7c4e5fce814bd5bda5b8bc4fbf4dbf": {
      "model_module": "@jupyter-widgets/controls",
      "model_module_version": "1.0.0",
      "model_name": "IntSliderModel",
      "state": {
       "description": "green",
       "layout": "IPY_MODEL_1cebc6ca142b426ca866e00db12afa37",
       "max": 255,
       "style": "IPY_MODEL_c93e2d5d660b4e99b657000bd3ec3ae3"
      }
     },
     "dd87b5a13f874675a29a796a3e3cde77": {
      "model_module": "@jupyter-widgets/base",
      "model_module_version": "1.0.0",
      "model_name": "LayoutModel",
      "state": {}
     },
     "dd90881f2b41455cb3bf36652bd2b063": {
      "model_module": "@jupyter-widgets/base",
      "model_module_version": "1.0.0",
      "model_name": "LayoutModel",
      "state": {}
     },
     "dd9d04494d2b4e9ab95331b4e5686841": {
      "model_module": "@jupyter-widgets/base",
      "model_module_version": "1.0.0",
      "model_name": "LayoutModel",
      "state": {}
     },
     "dda6c4af1bd14558916865156306cace": {
      "model_module": "@jupyter-widgets/base",
      "model_module_version": "1.0.0",
      "model_name": "LayoutModel",
      "state": {}
     },
     "ddd3393332a5443e94ae144936613414": {
      "model_module": "@jupyter-widgets/controls",
      "model_module_version": "1.0.0",
      "model_name": "SliderStyleModel",
      "state": {
       "description_width": ""
      }
     },
     "ddef74b9d21243599d42482f82df84cb": {
      "model_module": "@jupyter-widgets/controls",
      "model_module_version": "1.0.0",
      "model_name": "IntSliderModel",
      "state": {
       "description": "green",
       "layout": "IPY_MODEL_2e1c983d417a4f2f84bf78c2c2c47e71",
       "max": 255,
       "style": "IPY_MODEL_c7ef28a872db47d682a1e2fb852a8e3e"
      }
     },
     "ddf5f8cc685549199944f2af4ae5e7ef": {
      "model_module": "@jupyter-widgets/base",
      "model_module_version": "1.0.0",
      "model_name": "LayoutModel",
      "state": {}
     },
     "de0addb33f8d4f748ddbdf4715f06ea3": {
      "model_module": "jp_proxy_widget",
      "model_module_version": "^0.3.4",
      "model_name": "JSProxyModel",
      "state": {
       "_model_module_version": "^0.3.4",
       "_send_counter": 8,
       "_view_module_version": "^0.3.4",
       "error_msg": "Error: Error in element.New SyntaxError: Unexpected token )",
       "layout": "IPY_MODEL_07f1621bf2ff452ca1db38ef44fb98ba",
       "rendered": true,
       "status": "Rendered."
      }
     },
     "de10f80fee2d4343aa67a300996fe8c8": {
      "model_module": "@jupyter-widgets/controls",
      "model_module_version": "1.0.0",
      "model_name": "IntSliderModel",
      "state": {
       "description": "green",
       "layout": "IPY_MODEL_68a5d472c808460f88575659d5105c02",
       "max": 255,
       "style": "IPY_MODEL_9e955b4de449492dbbeb6011b1801f2f",
       "value": 127
      }
     },
     "de3492bfd1184a9f94ff3b963b75fc13": {
      "model_module": "@jupyter-widgets/base",
      "model_module_version": "1.0.0",
      "model_name": "LayoutModel",
      "state": {}
     },
     "de488c6c728e4a4088d69353d3e53422": {
      "model_module": "@jupyter-widgets/controls",
      "model_module_version": "1.0.0",
      "model_name": "VBoxModel",
      "state": {
       "_dom_classes": [
        "widget-interact"
       ],
       "children": [
        "IPY_MODEL_a7b79cc948c1472eaaeb045dceb9b5e1",
        "IPY_MODEL_e93882178118463293a2741d64b03d15",
        "IPY_MODEL_f7aaec5aece8452e8c351af6478aa83a",
        "IPY_MODEL_7eacc4a310c44d019d0bba76fb4fe95b",
        "IPY_MODEL_57fcb6511a72439ba54b7a1835ce9373",
        "IPY_MODEL_6e1e8faadadf4ad4bc820f529156cdfc",
        "IPY_MODEL_7913ece20bb84999aef7db3488be134a",
        "IPY_MODEL_6d5afc2ea58840f5ae4870822ca386d1",
        "IPY_MODEL_f7a572f44dd7448ea0e1a4ccb1dda9e4",
        "IPY_MODEL_cc78da8ecdff4e4d8ac60a121090426d",
        "IPY_MODEL_f2f8e59f6dca4cdc80799e3e4230c7c2",
        "IPY_MODEL_e9a0b448db2b49928cd5b2eba383b755",
        "IPY_MODEL_99ddfccd1226411db9e9ac32fad70dfa",
        "IPY_MODEL_9c7427fbc0894abcbc8fb20bd6e60063"
       ],
       "layout": "IPY_MODEL_9e35aea2782e4ecb80b50a9c6c27639a"
      }
     },
     "de4aad0c3d944fa99f7b24f6b8a7973a": {
      "model_module": "@jupyter-widgets/controls",
      "model_module_version": "1.0.0",
      "model_name": "SliderStyleModel",
      "state": {
       "description_width": ""
      }
     },
     "de5e9366588d41f780d0a3642db3bef7": {
      "model_module": "@jupyter-widgets/base",
      "model_module_version": "1.0.0",
      "model_name": "LayoutModel",
      "state": {}
     },
     "de7107679763482d967dae5e8378e587": {
      "model_module": "@jupyter-widgets/base",
      "model_module_version": "1.0.0",
      "model_name": "LayoutModel",
      "state": {}
     },
     "de9862f8f87942648d32604a87b12c73": {
      "model_module": "@jupyter-widgets/controls",
      "model_module_version": "1.0.0",
      "model_name": "IntSliderModel",
      "state": {
       "description": "lineWidth",
       "layout": "IPY_MODEL_3e25631bc1f54f50b20fe57a847614fb",
       "max": 20,
       "style": "IPY_MODEL_6b38d1c60f5a4d6fa574a8c6f0a3eef1",
       "value": 3
      }
     },
     "ded69e43b6b14b9082e0218e9a530a31": {
      "model_module": "@jupyter-widgets/base",
      "model_module_version": "1.0.0",
      "model_name": "LayoutModel",
      "state": {}
     },
     "df387ebf851c4805ac460a506dda15a9": {
      "model_module": "jp_proxy_widget",
      "model_module_version": "^0.3.4",
      "model_name": "JSProxyModel",
      "state": {
       "_model_module_version": "^0.3.4",
       "_send_counter": 2,
       "_view_module_version": "^0.3.4",
       "error_msg": "No error",
       "layout": "IPY_MODEL_a978688fa6d84dd4be067a0b6c83ddec",
       "rendered": true,
       "status": "Got results."
      }
     },
     "df3a643769c54959a85cc571b9fadeb8": {
      "model_module": "@jupyter-widgets/base",
      "model_module_version": "1.0.0",
      "model_name": "LayoutModel",
      "state": {}
     },
     "df3cd7d1aa754bed8f77bcdd1e70d5f1": {
      "model_module": "@jupyter-widgets/controls",
      "model_module_version": "1.0.0",
      "model_name": "SliderStyleModel",
      "state": {
       "description_width": ""
      }
     },
     "df46c5a9cc2c479490826df7ce60d501": {
      "model_module": "@jupyter-widgets/controls",
      "model_module_version": "1.0.0",
      "model_name": "DescriptionStyleModel",
      "state": {
       "description_width": ""
      }
     },
     "df5db89374544bec9858fa5e6039bdcd": {
      "model_module": "@jupyter-widgets/controls",
      "model_module_version": "1.0.0",
      "model_name": "IntSliderModel",
      "state": {
       "description": "blue",
       "layout": "IPY_MODEL_726f550660b849dd8934676e66b138d7",
       "max": 255,
       "style": "IPY_MODEL_3f0586023cfc4e79ae4c477593a84b5a",
       "value": 157
      }
     },
     "df7a4d1d7e4e419d880b0f31047bc61d": {
      "model_module": "@jupyter-widgets/base",
      "model_module_version": "1.0.0",
      "model_name": "LayoutModel",
      "state": {}
     },
     "df84fa7f92924c3e84870f415c4a2807": {
      "model_module": "@jupyter-widgets/base",
      "model_module_version": "1.0.0",
      "model_name": "LayoutModel",
      "state": {}
     },
     "df898d04eb9147aaafb054cfc84208b2": {
      "model_module": "@jupyter-widgets/controls",
      "model_module_version": "1.0.0",
      "model_name": "IntSliderModel",
      "state": {
       "description": "y",
       "layout": "IPY_MODEL_4dbe75d5e0874cc380e9c6180e6838fa",
       "min": -100,
       "style": "IPY_MODEL_f6d900c4ae03476bbda2e8c488f7ae68"
      }
     },
     "df8e82b9bebd454180b445e85a235612": {
      "model_module": "@jupyter-widgets/controls",
      "model_module_version": "1.0.0",
      "model_name": "IntSliderModel",
      "state": {
       "description": "lineWidth",
       "layout": "IPY_MODEL_b8d7427f1ac0478fa5f9fdc6ae7cc8f3",
       "max": 20,
       "style": "IPY_MODEL_cb352164ec654c069607b41a35727582",
       "value": 3
      }
     },
     "e005e1478ee54e209036c8c3207013b9": {
      "model_module": "@jupyter-widgets/base",
      "model_module_version": "1.0.0",
      "model_name": "LayoutModel",
      "state": {}
     },
     "e00ddbdbb1214e8caee6a962aa8657f6": {
      "model_module": "@jupyter-widgets/controls",
      "model_module_version": "1.0.0",
      "model_name": "VBoxModel",
      "state": {
       "children": [
        "IPY_MODEL_05e830773cac4398bac55ebbd4742f2b",
        "IPY_MODEL_1d9134c7350c4eb3bc038da102f3eb1c"
       ],
       "layout": "IPY_MODEL_51a73dfa73cc4b13ae008e8867d871a3"
      }
     },
     "e00e28fd4b1b41828fe0f531c23c9f5c": {
      "model_module": "@jupyter-widgets/controls",
      "model_module_version": "1.0.0",
      "model_name": "IntSliderModel",
      "state": {
       "description": "lineWidth",
       "layout": "IPY_MODEL_ba923784be6945e581e17069df1601df",
       "max": 20,
       "style": "IPY_MODEL_3a60bffe0d094b08aab9b53591731c9e",
       "value": 3
      }
     },
     "e0281f9f3d08469f81337355e0bf6474": {
      "model_module": "jp_proxy_widget",
      "model_module_version": "^0.3.4",
      "model_name": "JSProxyModel",
      "state": {
       "_model_module_version": "^0.3.4",
       "_send_counter": 222,
       "_view_module_version": "^0.3.4",
       "error_msg": "No error",
       "layout": "IPY_MODEL_8abcdff960d846c6a0577c99b1127e69",
       "rendered": true,
       "status": "Got results."
      }
     },
     "e0564c7a56554eceb2a26522d9810f81": {
      "model_module": "@jupyter-widgets/controls",
      "model_module_version": "1.0.0",
      "model_name": "VBoxModel",
      "state": {
       "_dom_classes": [
        "widget-interact"
       ],
       "children": [
        "IPY_MODEL_5802f977a96a4cb0868143dd08549481",
        "IPY_MODEL_3f07e7eb5db348b28e21b87aac6ca1f2",
        "IPY_MODEL_e5435ace42bb4ae29394ec4d3dfa5fda",
        "IPY_MODEL_8627d22ab35f47b4a864ea88f67bac25",
        "IPY_MODEL_6bd2a7c1d6e94dbfb16a52f86ce0a812",
        "IPY_MODEL_d4ca52050c6b48c1b2547e3457aff758",
        "IPY_MODEL_77ee900ecbcc4efa94202755e8cabc96",
        "IPY_MODEL_a84675d11d67424fb6a9343edc54cc6e",
        "IPY_MODEL_743cd709f7fa41219527bf7d464da3b6",
        "IPY_MODEL_26b13228cb334bd6ac7d3184617b3a14",
        "IPY_MODEL_2e560254a2aa47f6bfa4611fba173a78",
        "IPY_MODEL_0820e16ac24e4e2ab5bb87eef8113dee",
        "IPY_MODEL_0caa6c38d047432d8437cb74fad8de3b",
        "IPY_MODEL_f8bcaad5bb39448a8670c1dfe4507c88"
       ],
       "layout": "IPY_MODEL_7d5ec6f5e9464f8fa173e1092a4d49ab"
      }
     },
     "e062cc581a8e4947a132a81bc046b760": {
      "model_module": "@jupyter-widgets/base",
      "model_module_version": "1.0.0",
      "model_name": "LayoutModel",
      "state": {}
     },
     "e08df3d34c844af6ad6882c76d7c9cfd": {
      "model_module": "@jupyter-widgets/controls",
      "model_module_version": "1.0.0",
      "model_name": "DescriptionStyleModel",
      "state": {
       "description_width": ""
      }
     },
     "e0a1cc0237734710a39ccced2933c321": {
      "model_module": "jp_proxy_widget",
      "model_module_version": "^0.3.4",
      "model_name": "JSProxyModel",
      "state": {
       "_model_module_version": "^0.3.4",
       "_send_counter": 2101,
       "_view_module_version": "^0.3.4",
       "error_msg": "No error",
       "layout": "IPY_MODEL_6984b119343d445d94d0a80eb550ecb3",
       "rendered": true,
       "status": "Got results."
      }
     },
     "e0b80e37615d4caf9802ab5782cea119": {
      "model_module": "@jupyter-widgets/controls",
      "model_module_version": "1.0.0",
      "model_name": "FloatSliderModel",
      "state": {
       "description": "alpha",
       "layout": "IPY_MODEL_fd725ccb3b304ee095f66041fb006870",
       "max": 1,
       "step": 0.1,
       "style": "IPY_MODEL_073caac3c8f54eb0b927bc56bd31fab4",
       "value": 1
      }
     },
     "e0b9e17141304f02b96350569ed8ebf7": {
      "model_module": "@jupyter-widgets/controls",
      "model_module_version": "1.0.0",
      "model_name": "SliderStyleModel",
      "state": {
       "description_width": ""
      }
     },
     "e1217eb7b54c4c8b8666a9df40497021": {
      "model_module": "@jupyter-widgets/controls",
      "model_module_version": "1.0.0",
      "model_name": "VBoxModel",
      "state": {
       "children": [
        "IPY_MODEL_ace7cbbdcdd14deaa8d4ed74791d607a",
        "IPY_MODEL_92e3305b9bbc4f3c918dc4f77c13c3a0"
       ],
       "layout": "IPY_MODEL_c603de0ffe524fe9970d191be2bec02a"
      }
     },
     "e138db6a2e5149f5ad8104ed0b3ae41f": {
      "model_module": "@jupyter-widgets/base",
      "model_module_version": "1.0.0",
      "model_name": "LayoutModel",
      "state": {}
     },
     "e1491ca1e07e4150b886aecc22040b14": {
      "model_module": "@jupyter-widgets/controls",
      "model_module_version": "1.0.0",
      "model_name": "IntSliderModel",
      "state": {
       "description": "y",
       "layout": "IPY_MODEL_4058b1e23a90471eb4ca008b7ff750ba",
       "min": -100,
       "style": "IPY_MODEL_21d381f803b8484aae27273d3599000f",
       "value": 44
      }
     },
     "e17ce102f5694f0380adbd04975fc627": {
      "model_module": "@jupyter-widgets/controls",
      "model_module_version": "1.0.0",
      "model_name": "SliderStyleModel",
      "state": {
       "description_width": ""
      }
     },
     "e18626c761a34850b9e34f1b6818b9ae": {
      "model_module": "@jupyter-widgets/base",
      "model_module_version": "1.0.0",
      "model_name": "LayoutModel",
      "state": {}
     },
     "e1991ecc4f304602bf07ac4f53ffba18": {
      "model_module": "jp_proxy_widget",
      "model_module_version": "^0.3.4",
      "model_name": "JSProxyModel",
      "state": {
       "_model_module_version": "^0.3.4",
       "_send_counter": 887,
       "_view_module_version": "^0.3.4",
       "error_msg": "No error",
       "layout": "IPY_MODEL_7d61a2ecfa8940c49fe91f32145025b8",
       "rendered": true,
       "status": "Got results."
      }
     },
     "e1b4027107304460a650f380f9ff5a5e": {
      "model_module": "@jupyter-widgets/controls",
      "model_module_version": "1.0.0",
      "model_name": "IntSliderModel",
      "state": {
       "description": "x",
       "layout": "IPY_MODEL_aa331e7213d547a6af42a3951e2d8391",
       "min": -100,
       "style": "IPY_MODEL_fd24a03937a54d3ab9ffd2997e8eaa9d"
      }
     },
     "e1fe63be5762464fabdb4f5f803c0698": {
      "model_module": "@jupyter-widgets/base",
      "model_module_version": "1.0.0",
      "model_name": "LayoutModel",
      "state": {}
     },
     "e20c1868eb674822bdf62185ed173dab": {
      "model_module": "@jupyter-widgets/output",
      "model_module_version": "1.0.0",
      "model_name": "OutputModel",
      "state": {
       "layout": "IPY_MODEL_1ae303bd44574e82bd3a2d4bbb2aee97",
       "outputs": [
        {
         "ename": "NameError",
         "evalue": "global name 'start' is not defined",
         "output_type": "error",
         "traceback": [
          "\u001b[0;31m---------------------------------------------------------------------------\u001b[0m",
          "\u001b[0;31mNameError\u001b[0m                                 Traceback (most recent call last)",
          "\u001b[0;32m//anaconda/lib/python2.7/site-packages/ipywidgets/widgets/interaction.pyc\u001b[0m in \u001b[0;36mupdate\u001b[0;34m(self, *args)\u001b[0m\n\u001b[1;32m    248\u001b[0m                     \u001b[0mvalue\u001b[0m \u001b[0;34m=\u001b[0m \u001b[0mwidget\u001b[0m\u001b[0;34m.\u001b[0m\u001b[0mget_interact_value\u001b[0m\u001b[0;34m(\u001b[0m\u001b[0;34m)\u001b[0m\u001b[0;34m\u001b[0m\u001b[0m\n\u001b[1;32m    249\u001b[0m                     \u001b[0mself\u001b[0m\u001b[0;34m.\u001b[0m\u001b[0mkwargs\u001b[0m\u001b[0;34m[\u001b[0m\u001b[0mwidget\u001b[0m\u001b[0;34m.\u001b[0m\u001b[0m_kwarg\u001b[0m\u001b[0;34m]\u001b[0m \u001b[0;34m=\u001b[0m \u001b[0mvalue\u001b[0m\u001b[0;34m\u001b[0m\u001b[0m\n\u001b[0;32m--> 250\u001b[0;31m                 \u001b[0mself\u001b[0m\u001b[0;34m.\u001b[0m\u001b[0mresult\u001b[0m \u001b[0;34m=\u001b[0m \u001b[0mself\u001b[0m\u001b[0;34m.\u001b[0m\u001b[0mf\u001b[0m\u001b[0;34m(\u001b[0m\u001b[0;34m**\u001b[0m\u001b[0mself\u001b[0m\u001b[0;34m.\u001b[0m\u001b[0mkwargs\u001b[0m\u001b[0;34m)\u001b[0m\u001b[0;34m\u001b[0m\u001b[0m\n\u001b[0m\u001b[1;32m    251\u001b[0m                 \u001b[0mshow_inline_matplotlib_plots\u001b[0m\u001b[0;34m(\u001b[0m\u001b[0;34m)\u001b[0m\u001b[0;34m\u001b[0m\u001b[0m\n\u001b[1;32m    252\u001b[0m                 \u001b[0;32mif\u001b[0m \u001b[0mself\u001b[0m\u001b[0;34m.\u001b[0m\u001b[0mauto_display\u001b[0m \u001b[0;32mand\u001b[0m \u001b[0mself\u001b[0m\u001b[0;34m.\u001b[0m\u001b[0mresult\u001b[0m \u001b[0;32mis\u001b[0m \u001b[0;32mnot\u001b[0m \u001b[0mNone\u001b[0m\u001b[0;34m:\u001b[0m\u001b[0;34m\u001b[0m\u001b[0m\n",
          "\u001b[0;32m<ipython-input-3-bbe17df0fb1f>\u001b[0m in \u001b[0;36mchange_circle\u001b[0;34m(x, y, w, h, degrees, fill, lineWidth, red, green, blue, alpha)\u001b[0m\n\u001b[1;32m     17\u001b[0m     \u001b[0mcanvas\u001b[0m\u001b[0;34m.\u001b[0m\u001b[0mreset_canvas\u001b[0m\u001b[0;34m(\u001b[0m\u001b[0;34m)\u001b[0m\u001b[0;34m\u001b[0m\u001b[0m\n\u001b[1;32m     18\u001b[0m     canvas.rect(x=x, y=y, w=w, h=h, degrees=degrees, color=color,\n\u001b[0;32m---> 19\u001b[0;31m                  \u001b[0mstart\u001b[0m\u001b[0;34m=\u001b[0m\u001b[0mstart\u001b[0m\u001b[0;34m,\u001b[0m \u001b[0marc\u001b[0m\u001b[0;34m=\u001b[0m\u001b[0marc\u001b[0m\u001b[0;34m,\u001b[0m\u001b[0;34m\u001b[0m\u001b[0m\n\u001b[0m\u001b[1;32m     20\u001b[0m                  fill=fill, lineWidth=lineWidth)\n\u001b[1;32m     21\u001b[0m     \u001b[0mcanvas\u001b[0m\u001b[0;34m.\u001b[0m\u001b[0mfit\u001b[0m\u001b[0;34m(\u001b[0m\u001b[0;34m)\u001b[0m\u001b[0;34m\u001b[0m\u001b[0m\n",
          "\u001b[0;31mNameError\u001b[0m: global name 'start' is not defined"
         ]
        }
       ]
      }
     },
     "e21d1b2c97cf40a3a97da224a6fc6084": {
      "model_module": "jp_proxy_widget",
      "model_module_version": "^0.3.4",
      "model_name": "JSProxyModel",
      "state": {
       "_model_module_version": "^0.3.4",
       "_send_counter": 2,
       "_view_module_version": "^0.3.4",
       "error_msg": "No error",
       "layout": "IPY_MODEL_006dd5c513074a388c13700f91733f63",
       "rendered": true,
       "status": "Got results."
      }
     },
     "e2334c3c19c2476b9eac05ce52baa0a7": {
      "model_module": "@jupyter-widgets/controls",
      "model_module_version": "1.0.0",
      "model_name": "VBoxModel",
      "state": {
       "children": [
        "IPY_MODEL_67721d0e499d45a59adc83cc41f11b8a",
        "IPY_MODEL_55bc4d95cabc4e34b7cac4a2022ffebd"
       ],
       "layout": "IPY_MODEL_3dc212351fc440058bf1bd983c272dd6"
      }
     },
     "e2b7b7cf6bd84cf2b8e2508e1eadd77d": {
      "model_module": "@jupyter-widgets/controls",
      "model_module_version": "1.0.0",
      "model_name": "SliderStyleModel",
      "state": {
       "description_width": ""
      }
     },
     "e2c5cd70dab04a759fcca9d405217a26": {
      "model_module": "@jupyter-widgets/controls",
      "model_module_version": "1.0.0",
      "model_name": "IntSliderModel",
      "state": {
       "description": "green",
       "layout": "IPY_MODEL_db793658e2034355b40fd7a31973f70f",
       "max": 255,
       "style": "IPY_MODEL_85220fa1498145299948a92bcc54cb21"
      }
     },
     "e30f0a68a2d14f918cf07bf1b8c1a5ee": {
      "model_module": "@jupyter-widgets/controls",
      "model_module_version": "1.0.0",
      "model_name": "IntSliderModel",
      "state": {
       "description": "x",
       "layout": "IPY_MODEL_c73d7d27386a44fcb10e338ef688961f",
       "min": -100,
       "style": "IPY_MODEL_b77facf65ffe48769f5f878ee774afd8",
       "value": 92
      }
     },
     "e336a8457be84d469462aca68a82411a": {
      "model_module": "@jupyter-widgets/base",
      "model_module_version": "1.0.0",
      "model_name": "LayoutModel",
      "state": {}
     },
     "e359b730c9214fac8f06e33b9f3b85e4": {
      "model_module": "@jupyter-widgets/controls",
      "model_module_version": "1.0.0",
      "model_name": "SliderStyleModel",
      "state": {
       "description_width": ""
      }
     },
     "e39bd63376d643db8de9dd24a3faf4de": {
      "model_module": "@jupyter-widgets/controls",
      "model_module_version": "1.0.0",
      "model_name": "IntSliderModel",
      "state": {
       "description": "degrees",
       "layout": "IPY_MODEL_6e9116a2d0ac4b4e92cd52d7c4f73c33",
       "max": 360,
       "min": -360,
       "style": "IPY_MODEL_f74304c5167846aa8ea7a9a542299b00",
       "value": 45
      }
     },
     "e3a27991e36c432ca73ed49b734ca438": {
      "model_module": "@jupyter-widgets/base",
      "model_module_version": "1.0.0",
      "model_name": "LayoutModel",
      "state": {}
     },
     "e3ba1bee25cc434190043a8faa1b34ff": {
      "model_module": "@jupyter-widgets/controls",
      "model_module_version": "1.0.0",
      "model_name": "IntSliderModel",
      "state": {
       "description": "green",
       "layout": "IPY_MODEL_60a5d955acca47bb9652e168976d267e",
       "max": 255,
       "style": "IPY_MODEL_99501f18fc0f4702a3ad47481ddb8c36"
      }
     },
     "e3f0163e0a9c414a9e23e893bdb1d803": {
      "model_module": "@jupyter-widgets/controls",
      "model_module_version": "1.0.0",
      "model_name": "IntSliderModel",
      "state": {
       "description": "green",
       "layout": "IPY_MODEL_6d137b4cff794842ab283cf701df56b8",
       "max": 255,
       "style": "IPY_MODEL_062a3a4367764cf49196ece2907e2f0e"
      }
     },
     "e3f96fdaf0654b9bb5ef5fe5d95dbefb": {
      "model_module": "@jupyter-widgets/base",
      "model_module_version": "1.0.0",
      "model_name": "LayoutModel",
      "state": {}
     },
     "e4758ba7d91e43ce8d74d6c2fd0c0536": {
      "model_module": "@jupyter-widgets/controls",
      "model_module_version": "1.0.0",
      "model_name": "SliderStyleModel",
      "state": {
       "description_width": ""
      }
     },
     "e47f032df6b444b488e74843da63ab7a": {
      "model_module": "jp_proxy_widget",
      "model_module_version": "^0.3.4",
      "model_name": "JSProxyModel",
      "state": {
       "_model_module_version": "^0.3.4",
       "_send_counter": 2,
       "_view_module_version": "^0.3.4",
       "error_msg": "No error",
       "layout": "IPY_MODEL_6ffd4bbf9b714444829715cc1ff9b183",
       "rendered": true,
       "status": "Got results."
      }
     },
     "e4aef8f45a9e449c8055e60176b338a1": {
      "model_module": "@jupyter-widgets/controls",
      "model_module_version": "1.0.0",
      "model_name": "SliderStyleModel",
      "state": {
       "description_width": ""
      }
     },
     "e4e2367e30d84ba4990d16528a0fbb9b": {
      "model_module": "@jupyter-widgets/base",
      "model_module_version": "1.0.0",
      "model_name": "LayoutModel",
      "state": {}
     },
     "e5023d5bcc98405ea5a70955dbbe00e4": {
      "model_module": "@jupyter-widgets/controls",
      "model_module_version": "1.0.0",
      "model_name": "IntSliderModel",
      "state": {
       "description": "red",
       "layout": "IPY_MODEL_9b2c3e1c0fba461fbbd673e6f1354bde",
       "max": 255,
       "style": "IPY_MODEL_1e9e35e60e0049b3ae2f0f9db17d9f1b",
       "value": 255
      }
     },
     "e5198c63df6a4f98ad0c52b2aa2751f6": {
      "model_module": "@jupyter-widgets/base",
      "model_module_version": "1.0.0",
      "model_name": "LayoutModel",
      "state": {}
     },
     "e5435ace42bb4ae29394ec4d3dfa5fda": {
      "model_module": "@jupyter-widgets/controls",
      "model_module_version": "1.0.0",
      "model_name": "IntSliderModel",
      "state": {
       "description": "w",
       "layout": "IPY_MODEL_3772dc481e804676b7bc1c71e74e4b2c",
       "max": 300,
       "min": -300,
       "style": "IPY_MODEL_8537e06fad374f5da60b58bb29bb53bb",
       "value": 100
      }
     },
     "e55dc9e053e2472ab463a184639bbe2d": {
      "model_module": "@jupyter-widgets/controls",
      "model_module_version": "1.0.0",
      "model_name": "DescriptionStyleModel",
      "state": {
       "description_width": ""
      }
     },
     "e5726578961245af926719b2c86787dd": {
      "model_module": "@jupyter-widgets/controls",
      "model_module_version": "1.0.0",
      "model_name": "IntSliderModel",
      "state": {
       "description": "x",
       "layout": "IPY_MODEL_4cfed11be5bd48028bd6eeaa7b3ee27e",
       "min": -100,
       "style": "IPY_MODEL_6d8b5f90ac914fa4b0cbbab5eb40e737",
       "value": -47
      }
     },
     "e5a3b89a6f29427f8fb4de0aab04a10e": {
      "model_module": "@jupyter-widgets/controls",
      "model_module_version": "1.0.0",
      "model_name": "DescriptionStyleModel",
      "state": {
       "description_width": ""
      }
     },
     "e5ad087ecd704aef8eb110a44eeb02a5": {
      "model_module": "@jupyter-widgets/controls",
      "model_module_version": "1.0.0",
      "model_name": "IntSliderModel",
      "state": {
       "description": "green",
       "layout": "IPY_MODEL_48f7f4fd69324bacaeffc487047dbffc",
       "max": 255,
       "style": "IPY_MODEL_1564f7efd38a42c897ecbf21ec608e19"
      }
     },
     "e5f379a9288c48f48dcd39a88365eae8": {
      "model_module": "@jupyter-widgets/controls",
      "model_module_version": "1.0.0",
      "model_name": "SliderStyleModel",
      "state": {
       "description_width": ""
      }
     },
     "e6612e47c4d64d2f9f9f1ca073b57196": {
      "model_module": "@jupyter-widgets/base",
      "model_module_version": "1.0.0",
      "model_name": "LayoutModel",
      "state": {}
     },
     "e66fe6bbeaf346e0b94a79ef4759f07b": {
      "model_module": "@jupyter-widgets/base",
      "model_module_version": "1.0.0",
      "model_name": "LayoutModel",
      "state": {}
     },
     "e67079bdb3f544d385740f8a84caf7e7": {
      "model_module": "@jupyter-widgets/controls",
      "model_module_version": "1.0.0",
      "model_name": "IntSliderModel",
      "state": {
       "description": "degrees",
       "layout": "IPY_MODEL_561abff454a34724b5dd4d16fed9ab61",
       "max": 360,
       "min": -360,
       "style": "IPY_MODEL_049ec02dd1914999b0a2640382ea71f7"
      }
     },
     "e679f8c5e4e748afbc972c0df7f2f78c": {
      "model_module": "@jupyter-widgets/controls",
      "model_module_version": "1.0.0",
      "model_name": "IntSliderModel",
      "state": {
       "description": "h",
       "layout": "IPY_MODEL_e746df92da7646f6913294a5a7876566",
       "max": 300,
       "min": -300,
       "style": "IPY_MODEL_58265be954484c2380cfce0cc4b69ef4",
       "value": 50
      }
     },
     "e686183a7f2645bab5ce2f0f8677f4c3": {
      "model_module": "@jupyter-widgets/controls",
      "model_module_version": "1.0.0",
      "model_name": "HTMLModel",
      "state": {
       "layout": "IPY_MODEL_40438ecc1b6849b498a3aef1c636cf61",
       "style": "IPY_MODEL_68fc161d9ef34903b90ca446333d7f92",
       "value": "<img src=\"interactive_rectangle.png\" id=\"snapshot_id_33_1536268844407\"/>\n <div id=\"snapshot_id_34_1536268844407\">interactive_rectangle.png</div>"
      }
     },
     "e6da6dc035704e01b5b4276f3cbabe77": {
      "model_module": "@jupyter-widgets/controls",
      "model_module_version": "1.0.0",
      "model_name": "SliderStyleModel",
      "state": {
       "description_width": ""
      }
     },
     "e6e416f630824bbb90f84a94a0194cae": {
      "model_module": "@jupyter-widgets/output",
      "model_module_version": "1.0.0",
      "model_name": "OutputModel",
      "state": {
       "layout": "IPY_MODEL_c81b6c763dde4686be31dc5e4c0dc0cc"
      }
     },
     "e6fa67ee18e44c5b869ba6e3f8df74a1": {
      "model_module": "@jupyter-widgets/controls",
      "model_module_version": "1.0.0",
      "model_name": "SliderStyleModel",
      "state": {
       "description_width": ""
      }
     },
     "e70715f5d7ef4e95b8214f73bac1a47c": {
      "model_module": "@jupyter-widgets/controls",
      "model_module_version": "1.0.0",
      "model_name": "DescriptionStyleModel",
      "state": {
       "description_width": ""
      }
     },
     "e731ce980a4a4a82923d3b480caf82d8": {
      "model_module": "@jupyter-widgets/controls",
      "model_module_version": "1.0.0",
      "model_name": "SliderStyleModel",
      "state": {
       "description_width": ""
      }
     },
     "e746df92da7646f6913294a5a7876566": {
      "model_module": "@jupyter-widgets/base",
      "model_module_version": "1.0.0",
      "model_name": "LayoutModel",
      "state": {}
     },
     "e77047fc9fab487fbd8934f5e59023e8": {
      "model_module": "@jupyter-widgets/base",
      "model_module_version": "1.0.0",
      "model_name": "LayoutModel",
      "state": {}
     },
     "e7873677b53545329c9ff13c24157804": {
      "model_module": "@jupyter-widgets/controls",
      "model_module_version": "1.0.0",
      "model_name": "SliderStyleModel",
      "state": {
       "description_width": ""
      }
     },
     "e7a5af3f61d64513beb57f80d97b278d": {
      "model_module": "@jupyter-widgets/controls",
      "model_module_version": "1.0.0",
      "model_name": "DescriptionStyleModel",
      "state": {
       "description_width": ""
      }
     },
     "e7f79859af144c03b56503b8f391dad1": {
      "model_module": "@jupyter-widgets/controls",
      "model_module_version": "1.0.0",
      "model_name": "SliderStyleModel",
      "state": {
       "description_width": ""
      }
     },
     "e7fae1a7050b402f97cbcb57d710fecf": {
      "model_module": "@jupyter-widgets/controls",
      "model_module_version": "1.0.0",
      "model_name": "SliderStyleModel",
      "state": {
       "description_width": ""
      }
     },
     "e81291b541594151985dbaaf4b14f89f": {
      "model_module": "@jupyter-widgets/base",
      "model_module_version": "1.0.0",
      "model_name": "LayoutModel",
      "state": {}
     },
     "e831c1d4f55c448ea55761cc3d2f358d": {
      "model_module": "@jupyter-widgets/controls",
      "model_module_version": "1.0.0",
      "model_name": "SliderStyleModel",
      "state": {
       "description_width": ""
      }
     },
     "e840521b5a9942ee938e6f4faa2e7a5f": {
      "model_module": "@jupyter-widgets/controls",
      "model_module_version": "1.0.0",
      "model_name": "IntSliderModel",
      "state": {
       "description": "degrees",
       "layout": "IPY_MODEL_cfc42e85a02d4cc3a90f760736017703",
       "max": 360,
       "min": -360,
       "style": "IPY_MODEL_a1202575d60f47cd9e61f1e6fc0bbcec",
       "value": -9
      }
     },
     "e8586e4267b249ef910b844b1d99e3d5": {
      "model_module": "@jupyter-widgets/controls",
      "model_module_version": "1.0.0",
      "model_name": "SliderStyleModel",
      "state": {
       "description_width": ""
      }
     },
     "e85deeb3c32847b4a3e673804bbc61c6": {
      "model_module": "@jupyter-widgets/controls",
      "model_module_version": "1.0.0",
      "model_name": "SliderStyleModel",
      "state": {
       "description_width": ""
      }
     },
     "e8c13e9226ad42b29b1e7d7dbb9cf8d9": {
      "model_module": "@jupyter-widgets/base",
      "model_module_version": "1.0.0",
      "model_name": "LayoutModel",
      "state": {}
     },
     "e8e01f29308e4383a60218d541df44bd": {
      "model_module": "@jupyter-widgets/controls",
      "model_module_version": "1.0.0",
      "model_name": "CheckboxModel",
      "state": {
       "description": "fill",
       "disabled": false,
       "layout": "IPY_MODEL_439519df286841d598e294e7be2c6537",
       "style": "IPY_MODEL_6d0e050d11934430bfdc1515040358cc",
       "value": true
      }
     },
     "e8e893d6db3346799b23c9250fdce389": {
      "model_module": "@jupyter-widgets/controls",
      "model_module_version": "1.0.0",
      "model_name": "IntSliderModel",
      "state": {
       "description": "x",
       "layout": "IPY_MODEL_50e2a8da7d5c4f42922499191d78f4d0",
       "min": -100,
       "style": "IPY_MODEL_f92d3ffb7ea74ffa92685d4c4c5f3d06",
       "value": -29
      }
     },
     "e90ff826d98e4eee9f3ee90749d1319b": {
      "model_module": "@jupyter-widgets/base",
      "model_module_version": "1.0.0",
      "model_name": "LayoutModel",
      "state": {}
     },
     "e93882178118463293a2741d64b03d15": {
      "model_module": "@jupyter-widgets/controls",
      "model_module_version": "1.0.0",
      "model_name": "IntSliderModel",
      "state": {
       "description": "y",
       "layout": "IPY_MODEL_5b34794fac084797b4f378f9e12a34a3",
       "min": -100,
       "style": "IPY_MODEL_67fa53a0df314813a2196034d2b1f49f"
      }
     },
     "e954dff4c0d14af79f3465888de53ff8": {
      "model_module": "@jupyter-widgets/base",
      "model_module_version": "1.0.0",
      "model_name": "LayoutModel",
      "state": {}
     },
     "e96abbed313840179ea1bd9d6589387d": {
      "model_module": "@jupyter-widgets/base",
      "model_module_version": "1.0.0",
      "model_name": "LayoutModel",
      "state": {}
     },
     "e96f2c223b23422eb1ef64952b3dcb39": {
      "model_module": "jp_proxy_widget",
      "model_module_version": "^0.3.4",
      "model_name": "JSProxyModel",
      "state": {
       "_model_module_version": "^0.3.4",
       "_send_counter": 2918,
       "_view_module_version": "^0.3.4",
       "error_msg": "No error",
       "layout": "IPY_MODEL_38a6fa7cde5044bf86db7497b1d791d6",
       "rendered": true,
       "status": "Got results."
      }
     },
     "e9897326133e4bd0ba05d5f31aadf455": {
      "model_module": "@jupyter-widgets/controls",
      "model_module_version": "1.0.0",
      "model_name": "HTMLModel",
      "state": {
       "layout": "IPY_MODEL_2c430439150043db857466387ed95f0a",
       "style": "IPY_MODEL_df46c5a9cc2c479490826df7ce60d501",
       "value": "<img src=\"interactive_rectangle.png\" id=\"snapshot_id_27_1536268449459\"/>\n <div id=\"snapshot_id_28_1536268449459\">interactive_rectangle.png</div>"
      }
     },
     "e9a0b448db2b49928cd5b2eba383b755": {
      "model_module": "@jupyter-widgets/controls",
      "model_module_version": "1.0.0",
      "model_name": "IntSliderModel",
      "state": {
       "description": "blue",
       "layout": "IPY_MODEL_8b927c5f840c471292605a570f133cc1",
       "max": 255,
       "style": "IPY_MODEL_12321996fd1949d5b398aac5d4f07243",
       "value": 255
      }
     },
     "e9b47e5be3874a76868819b827041232": {
      "model_module": "@jupyter-widgets/controls",
      "model_module_version": "1.0.0",
      "model_name": "SliderStyleModel",
      "state": {
       "description_width": ""
      }
     },
     "e9c6182c9a2d4eae8cec7ca083c13915": {
      "model_module": "@jupyter-widgets/base",
      "model_module_version": "1.0.0",
      "model_name": "LayoutModel",
      "state": {}
     },
     "e9cab7fcdb4d473cbfd652caa886a624": {
      "model_module": "@jupyter-widgets/controls",
      "model_module_version": "1.0.0",
      "model_name": "VBoxModel",
      "state": {
       "children": [
        "IPY_MODEL_9aaef4d566be4d819c95c13b8afc5822",
        "IPY_MODEL_fb11654398a84c8d9e44e7eef5f91b69"
       ],
       "layout": "IPY_MODEL_f33f8397f66947ce9ecae3b39681ef64"
      }
     },
     "ea1708b906cb4d05bb8164dea4652b97": {
      "model_module": "@jupyter-widgets/controls",
      "model_module_version": "1.0.0",
      "model_name": "IntSliderModel",
      "state": {
       "description": "blue",
       "layout": "IPY_MODEL_c891b4f90b5e435f990cd79fa9a2d3ab",
       "max": 255,
       "style": "IPY_MODEL_7733cf83a8b343f3a87244e92575400b",
       "value": 130
      }
     },
     "ea6da93702914c17b511d28dd3de4dae": {
      "model_module": "@jupyter-widgets/base",
      "model_module_version": "1.0.0",
      "model_name": "LayoutModel",
      "state": {}
     },
     "ea99362f266a4e77a7f42eb24a6c7d11": {
      "model_module": "@jupyter-widgets/controls",
      "model_module_version": "1.0.0",
      "model_name": "IntSliderModel",
      "state": {
       "description": "lineWidth",
       "layout": "IPY_MODEL_cd0e45c33eda496aa1a9f1cef149434a",
       "max": 20,
       "style": "IPY_MODEL_6b8599e059314d8daf65fd432b507481",
       "value": 10
      }
     },
     "eaaa595c505f4252a68b992d6aba2c4c": {
      "model_module": "@jupyter-widgets/base",
      "model_module_version": "1.0.0",
      "model_name": "LayoutModel",
      "state": {}
     },
     "eac4bbefd68143ebaf3a5a7a4189c3cb": {
      "model_module": "@jupyter-widgets/controls",
      "model_module_version": "1.0.0",
      "model_name": "TabModel",
      "state": {
       "_titles": {
        "0": "Canvas",
        "1": "Snapshot"
       },
       "children": [
        "IPY_MODEL_64b37651a14746bda9ec69ded6c39241",
        "IPY_MODEL_018103180dfb40f0a0a80f565ac2ce91"
       ],
       "layout": "IPY_MODEL_731926c1ad3e43c89edecc4ab25cff3f"
      }
     },
     "ead796fc3a1d4c3d8adb40e912cec8f2": {
      "model_module": "@jupyter-widgets/controls",
      "model_module_version": "1.0.0",
      "model_name": "DescriptionStyleModel",
      "state": {
       "description_width": ""
      }
     },
     "eae0c7f52ba644bd9adc766a60ffc9e1": {
      "model_module": "@jupyter-widgets/controls",
      "model_module_version": "1.0.0",
      "model_name": "SliderStyleModel",
      "state": {
       "description_width": ""
      }
     },
     "eb1cb2131e144536be681ddb71be1994": {
      "model_module": "@jupyter-widgets/controls",
      "model_module_version": "1.0.0",
      "model_name": "IntSliderModel",
      "state": {
       "description": "red",
       "layout": "IPY_MODEL_7ec3cf33ab24484b88846d75c87ee552",
       "max": 255,
       "style": "IPY_MODEL_e6da6dc035704e01b5b4276f3cbabe77",
       "value": 255
      }
     },
     "eb34d0c21b7d4222a94bd3e1e6047192": {
      "model_module": "@jupyter-widgets/controls",
      "model_module_version": "1.0.0",
      "model_name": "TabModel",
      "state": {
       "_titles": {
        "0": "Canvas",
        "1": "Snapshot"
       },
       "children": [
        "IPY_MODEL_33a3b06fd72546baa0cf0b1089f6f202",
        "IPY_MODEL_3b86f2f670b3422d9db3de7334d5048b"
       ],
       "layout": "IPY_MODEL_1e5614a3190644ec825933d20236f387"
      }
     },
     "eb57d51690c54ebcb265695a3c65e591": {
      "model_module": "@jupyter-widgets/base",
      "model_module_version": "1.0.0",
      "model_name": "LayoutModel",
      "state": {}
     },
     "eb712f6e5a7240ecb3b25dbdbcbf3ad2": {
      "model_module": "@jupyter-widgets/output",
      "model_module_version": "1.0.0",
      "model_name": "OutputModel",
      "state": {
       "layout": "IPY_MODEL_3dc8cd0d64c443d2a4c05a0bd83bf747",
       "outputs": [
        {
         "name": "stdout",
         "output_type": "stream",
         "text": "color is 'rgba(127,127,127,0.5)'\n"
        }
       ]
      }
     },
     "eb72982bceaf41dd8151e96f31b53171": {
      "model_module": "@jupyter-widgets/base",
      "model_module_version": "1.0.0",
      "model_name": "LayoutModel",
      "state": {}
     },
     "ebcefb249b364779bb48896bc257b8a1": {
      "model_module": "@jupyter-widgets/base",
      "model_module_version": "1.0.0",
      "model_name": "LayoutModel",
      "state": {}
     },
     "ebe0e9d793bf4d9f92d49eea28cee00a": {
      "model_module": "@jupyter-widgets/controls",
      "model_module_version": "1.0.0",
      "model_name": "VBoxModel",
      "state": {
       "children": [
        "IPY_MODEL_75faa03da9bb4dfb9992eca290675553",
        "IPY_MODEL_fef8ff7b9a6c4028b91961d5fa44ab4a"
       ],
       "layout": "IPY_MODEL_8c2720bff4e94ef5af2844d5a01ad9a1"
      }
     },
     "ebe40b8f892f458fbdd7c678e7848a35": {
      "model_module": "@jupyter-widgets/base",
      "model_module_version": "1.0.0",
      "model_name": "LayoutModel",
      "state": {}
     },
     "ec35b7df7c4749f49503595d8f76356f": {
      "model_module": "@jupyter-widgets/base",
      "model_module_version": "1.0.0",
      "model_name": "LayoutModel",
      "state": {}
     },
     "ec41ba11eecb4d7183eff806a19f3d7c": {
      "model_module": "@jupyter-widgets/controls",
      "model_module_version": "1.0.0",
      "model_name": "SliderStyleModel",
      "state": {
       "description_width": ""
      }
     },
     "ec5aa57ed6cc4905bbae2c4861c17a69": {
      "model_module": "@jupyter-widgets/controls",
      "model_module_version": "1.0.0",
      "model_name": "SliderStyleModel",
      "state": {
       "description_width": ""
      }
     },
     "ec6bc3b7f5af41a397224ffc50787343": {
      "model_module": "@jupyter-widgets/controls",
      "model_module_version": "1.0.0",
      "model_name": "SliderStyleModel",
      "state": {
       "description_width": ""
      }
     },
     "ec84328d9d4141a4b49c2b681136235a": {
      "model_module": "@jupyter-widgets/controls",
      "model_module_version": "1.0.0",
      "model_name": "IntSliderModel",
      "state": {
       "description": "blue",
       "layout": "IPY_MODEL_8fd7e0b153e34acaa585a34e4ef3223f",
       "max": 255,
       "style": "IPY_MODEL_6cad878add9443cebd75e872964e7447",
       "value": 255
      }
     },
     "ec928ba503cc48d49e9f9c69f60df8d7": {
      "model_module": "@jupyter-widgets/controls",
      "model_module_version": "1.0.0",
      "model_name": "IntSliderModel",
      "state": {
       "description": "x1",
       "layout": "IPY_MODEL_94f962939e8344f4afd526b62fd42415",
       "min": -100,
       "style": "IPY_MODEL_6e1f685470a14e5d9fa21428f7610a59"
      }
     },
     "ec9a4c8fe6df4f229b5b07f6fdddcf76": {
      "model_module": "@jupyter-widgets/base",
      "model_module_version": "1.0.0",
      "model_name": "LayoutModel",
      "state": {}
     },
     "eca7a409247946a78de94c9e2b6fb668": {
      "model_module": "@jupyter-widgets/base",
      "model_module_version": "1.0.0",
      "model_name": "LayoutModel",
      "state": {}
     },
     "ece400934a4849ec83e0ed6585d19384": {
      "model_module": "@jupyter-widgets/base",
      "model_module_version": "1.0.0",
      "model_name": "LayoutModel",
      "state": {}
     },
     "ed23f2d2d3464772aa68c7b32bd5c2b9": {
      "model_module": "@jupyter-widgets/controls",
      "model_module_version": "1.0.0",
      "model_name": "DescriptionStyleModel",
      "state": {
       "description_width": ""
      }
     },
     "ed2ad9ae2cef4910b766bfe6b423e5c2": {
      "model_module": "@jupyter-widgets/controls",
      "model_module_version": "1.0.0",
      "model_name": "SliderStyleModel",
      "state": {
       "description_width": ""
      }
     },
     "ed37bd2cb89e4b5bace8145f7d374df0": {
      "model_module": "@jupyter-widgets/base",
      "model_module_version": "1.0.0",
      "model_name": "LayoutModel",
      "state": {}
     },
     "ed6fa61031cb42c99fa1bb1798922ec4": {
      "model_module": "@jupyter-widgets/controls",
      "model_module_version": "1.0.0",
      "model_name": "SliderStyleModel",
      "state": {
       "description_width": ""
      }
     },
     "eda86c9aad7a48f09c0264dc65fe9778": {
      "model_module": "jp_proxy_widget",
      "model_module_version": "^0.3.4",
      "model_name": "JSProxyModel",
      "state": {
       "_model_module_version": "^0.3.4",
       "_send_counter": 2,
       "_view_module_version": "^0.3.4",
       "error_msg": "No error",
       "layout": "IPY_MODEL_0af90d87d0e84a3ea77d1b51ac3e81e3",
       "rendered": true,
       "status": "call back to <function callback_function at 0x104576a28>"
      }
     },
     "edd2847043b649489887a4b779bd688a": {
      "model_module": "@jupyter-widgets/base",
      "model_module_version": "1.0.0",
      "model_name": "LayoutModel",
      "state": {}
     },
     "ee0d1bebee2c4617b38b941ce5046f46": {
      "model_module": "@jupyter-widgets/controls",
      "model_module_version": "1.0.0",
      "model_name": "DescriptionStyleModel",
      "state": {
       "description_width": ""
      }
     },
     "ee0f71b41f5a4ff98255ef8a9a0c439b": {
      "model_module": "@jupyter-widgets/base",
      "model_module_version": "1.0.0",
      "model_name": "LayoutModel",
      "state": {}
     },
     "ee4274a611f5455b9d8fef6ae1f74ee7": {
      "model_module": "@jupyter-widgets/base",
      "model_module_version": "1.0.0",
      "model_name": "LayoutModel",
      "state": {}
     },
     "ee63ff1c0d7444e0886dcb3343d895da": {
      "model_module": "@jupyter-widgets/base",
      "model_module_version": "1.0.0",
      "model_name": "LayoutModel",
      "state": {}
     },
     "ee7981a197524d44adba221234da9602": {
      "model_module": "@jupyter-widgets/base",
      "model_module_version": "1.0.0",
      "model_name": "LayoutModel",
      "state": {}
     },
     "ee7de1d3fc4944a7b2858f32c7d5bc41": {
      "model_module": "@jupyter-widgets/base",
      "model_module_version": "1.0.0",
      "model_name": "LayoutModel",
      "state": {}
     },
     "eea913a7c4dc4044b9ad52e02a3858d1": {
      "model_module": "@jupyter-widgets/controls",
      "model_module_version": "1.0.0",
      "model_name": "CheckboxModel",
      "state": {
       "description": "fill",
       "disabled": false,
       "layout": "IPY_MODEL_ae77c7584fdf41a38bf4fecbef2531ca",
       "style": "IPY_MODEL_d2a6f861616345babe9c8d79d39ee47f",
       "value": true
      }
     },
     "eec0ff62031645bc88be2c5e1ba23563": {
      "model_module": "@jupyter-widgets/controls",
      "model_module_version": "1.0.0",
      "model_name": "VBoxModel",
      "state": {
       "_dom_classes": [
        "widget-interact"
       ],
       "children": [
        "IPY_MODEL_7955179a22604f3b82080f97639bfcdb",
        "IPY_MODEL_688e54401bc04753b113d9dbd4665faf",
        "IPY_MODEL_cd27513bce0a493092790ec43ab9f187",
        "IPY_MODEL_904d8d6b982843ed9961aa95569c2e02",
        "IPY_MODEL_3609fd852d26486e946e01adaa2db271",
        "IPY_MODEL_e5023d5bcc98405ea5a70955dbbe00e4",
        "IPY_MODEL_e3ba1bee25cc434190043a8faa1b34ff",
        "IPY_MODEL_160b6fb2391e4d749e2f435576c782e4",
        "IPY_MODEL_30bd36145e50450692de05721c86915e",
        "IPY_MODEL_c62736f595874dd5b348f934c20c2c2d"
       ],
       "layout": "IPY_MODEL_787a8b1266fd49f5916346166d335ec2"
      }
     },
     "eed400e9520c4ff5bf3a79899ec94a74": {
      "model_module": "@jupyter-widgets/controls",
      "model_module_version": "1.0.0",
      "model_name": "IntSliderModel",
      "state": {
       "description": "lineWidth",
       "layout": "IPY_MODEL_2ac029db54324f539966573b9e540eba",
       "max": 20,
       "style": "IPY_MODEL_4bc77836274047259dd6a53fc61a70f4",
       "value": 3
      }
     },
     "eee1c68ab67f4597ab748d02d4a18802": {
      "model_module": "jp_proxy_widget",
      "model_module_version": "^0.3.4",
      "model_name": "JSProxyModel",
      "state": {
       "_model_module_version": "^0.3.4",
       "_send_counter": 2,
       "_view_module_version": "^0.3.4",
       "error_msg": "No error",
       "layout": "IPY_MODEL_d998abd016614883aa956a795c055f83",
       "rendered": true,
       "status": "Got results."
      }
     },
     "eef954dc1c954f29bc3df82a2aff1d01": {
      "model_module": "@jupyter-widgets/controls",
      "model_module_version": "1.0.0",
      "model_name": "DescriptionStyleModel",
      "state": {
       "description_width": ""
      }
     },
     "ef0c311c2bc247f6b3be70b9aa2f2420": {
      "model_module": "@jupyter-widgets/base",
      "model_module_version": "1.0.0",
      "model_name": "LayoutModel",
      "state": {}
     },
     "ef12e6bf3c0141b8b03e806a20bf05c3": {
      "model_module": "@jupyter-widgets/controls",
      "model_module_version": "1.0.0",
      "model_name": "IntSliderModel",
      "state": {
       "description": "w",
       "layout": "IPY_MODEL_8dfa08fda6b94839b8221b743c5d0738",
       "min": -100,
       "style": "IPY_MODEL_7262fdf8bef544d49598ad81ef0767f1",
       "value": 47
      }
     },
     "ef50217bb523497c99ecbd90f68af130": {
      "model_module": "@jupyter-widgets/controls",
      "model_module_version": "1.0.0",
      "model_name": "DescriptionStyleModel",
      "state": {
       "description_width": ""
      }
     },
     "efa3bf782e794925a837c6159dd72847": {
      "model_module": "@jupyter-widgets/base",
      "model_module_version": "1.0.0",
      "model_name": "LayoutModel",
      "state": {}
     },
     "efce857f12694f3d8dcc845d11a82251": {
      "model_module": "@jupyter-widgets/controls",
      "model_module_version": "1.0.0",
      "model_name": "VBoxModel",
      "state": {
       "_dom_classes": [
        "widget-interact"
       ],
       "children": [
        "IPY_MODEL_c5d30691d81f465689529e63331fe4b3",
        "IPY_MODEL_a4e2bb91829d46fead0c6e503ea1af62",
        "IPY_MODEL_53cd1dd2905b44ee9982f6164d4e3852",
        "IPY_MODEL_88a2e015194342349aa13153256390c5",
        "IPY_MODEL_53486bd127fd45ae945f73df6e1153bf",
        "IPY_MODEL_6586fcab46e647e0b8a1d8d6e9ebd160",
        "IPY_MODEL_75da1847826641b79ba87f9abd2867de",
        "IPY_MODEL_c35ae68ad0d1496e9f3d97f0dcb7494f"
       ],
       "layout": "IPY_MODEL_3cb4306aaac04ddfa97480f29d992eb9"
      }
     },
     "efd7c744f3464ea5b4eac393a6be38ca": {
      "model_module": "@jupyter-widgets/base",
      "model_module_version": "1.0.0",
      "model_name": "LayoutModel",
      "state": {}
     },
     "eff5d44c82f045cea5b652a99b3a3bf1": {
      "model_module": "@jupyter-widgets/base",
      "model_module_version": "1.0.0",
      "model_name": "LayoutModel",
      "state": {}
     },
     "effd005c70954ca59d1e609d9670977d": {
      "model_module": "@jupyter-widgets/controls",
      "model_module_version": "1.0.0",
      "model_name": "IntSliderModel",
      "state": {
       "description": "degrees",
       "layout": "IPY_MODEL_2fcd3b36d3b34ea6a4a4f0b0cdcf3d4b",
       "max": 360,
       "min": -360,
       "style": "IPY_MODEL_09fab0e60d594696ac2da9a0e1c49240"
      }
     },
     "f00dd01cd1834f3fa5c4eea1bdfb6bfe": {
      "model_module": "@jupyter-widgets/controls",
      "model_module_version": "1.0.0",
      "model_name": "FloatSliderModel",
      "state": {
       "description": "start",
       "layout": "IPY_MODEL_df84fa7f92924c3e84870f415c4a2807",
       "max": 6.383185307179586,
       "step": 0.1,
       "style": "IPY_MODEL_aecb392449b845c6bb67f20a36abdc26",
       "value": 0.6
      }
     },
     "f04237ca32f24dd8bf9735548eed436b": {
      "model_module": "@jupyter-widgets/base",
      "model_module_version": "1.0.0",
      "model_name": "LayoutModel",
      "state": {}
     },
     "f04436ac82524dd18481cc34e6bc6989": {
      "model_module": "@jupyter-widgets/base",
      "model_module_version": "1.0.0",
      "model_name": "LayoutModel",
      "state": {}
     },
     "f057a207c5fe4153ae61e7a75cc46fcd": {
      "model_module": "@jupyter-widgets/base",
      "model_module_version": "1.0.0",
      "model_name": "LayoutModel",
      "state": {}
     },
     "f0785c61d9e845258dc0cccb6822b89d": {
      "model_module": "@jupyter-widgets/base",
      "model_module_version": "1.0.0",
      "model_name": "LayoutModel",
      "state": {}
     },
     "f0ad98568b0d42c89393813f9fe6232d": {
      "model_module": "@jupyter-widgets/controls",
      "model_module_version": "1.0.0",
      "model_name": "SliderStyleModel",
      "state": {
       "description_width": ""
      }
     },
     "f0ce8c31afb94ff3b0f2399cc5064ff5": {
      "model_module": "@jupyter-widgets/base",
      "model_module_version": "1.0.0",
      "model_name": "LayoutModel",
      "state": {}
     },
     "f0d4395ddc634aea8e036c718af9e029": {
      "model_module": "@jupyter-widgets/base",
      "model_module_version": "1.0.0",
      "model_name": "LayoutModel",
      "state": {}
     },
     "f0de5a912e24406d96588632a574fd8c": {
      "model_module": "@jupyter-widgets/base",
      "model_module_version": "1.0.0",
      "model_name": "LayoutModel",
      "state": {}
     },
     "f11202db31ea46248e35d5977814894f": {
      "model_module": "@jupyter-widgets/base",
      "model_module_version": "1.0.0",
      "model_name": "LayoutModel",
      "state": {}
     },
     "f135fbd1950e43588fb802f3b98e7e85": {
      "model_module": "@jupyter-widgets/controls",
      "model_module_version": "1.0.0",
      "model_name": "SliderStyleModel",
      "state": {
       "description_width": ""
      }
     },
     "f141db18c00d4cfe994411a9133edbef": {
      "model_module": "@jupyter-widgets/controls",
      "model_module_version": "1.0.0",
      "model_name": "TabModel",
      "state": {
       "_titles": {
        "0": "Canvas",
        "1": "Snapshot"
       },
       "children": [
        "IPY_MODEL_bfe743d5521045c7a7801eb8537970a6",
        "IPY_MODEL_6d4038e0eb584952b59dad2d5220fbe4"
       ],
       "layout": "IPY_MODEL_a8ed4bd7010b4157b403b645c909d09b"
      }
     },
     "f14ef45a76da45f290ebf87131c8030d": {
      "model_module": "@jupyter-widgets/controls",
      "model_module_version": "1.0.0",
      "model_name": "SliderStyleModel",
      "state": {
       "description_width": ""
      }
     },
     "f1561fefefa14c829ed03553534205e2": {
      "model_module": "@jupyter-widgets/controls",
      "model_module_version": "1.0.0",
      "model_name": "IntSliderModel",
      "state": {
       "description": "green",
       "layout": "IPY_MODEL_6cf05933c68e494ba09c4a2b56585d3f",
       "max": 255,
       "style": "IPY_MODEL_51e61da5c3f94f8f8472316bc4157c7b"
      }
     },
     "f1a3b8333cd64b18b9fc81cfd5eaf1d1": {
      "model_module": "@jupyter-widgets/base",
      "model_module_version": "1.0.0",
      "model_name": "LayoutModel",
      "state": {}
     },
     "f1f17d255c5f493798afb9b52763f31e": {
      "model_module": "@jupyter-widgets/controls",
      "model_module_version": "1.0.0",
      "model_name": "DescriptionStyleModel",
      "state": {
       "description_width": ""
      }
     },
     "f21723f381ac443eb640955d6df26724": {
      "model_module": "@jupyter-widgets/base",
      "model_module_version": "1.0.0",
      "model_name": "LayoutModel",
      "state": {}
     },
     "f21c46ef68e14e58ad2834788dcbaa94": {
      "model_module": "@jupyter-widgets/controls",
      "model_module_version": "1.0.0",
      "model_name": "IntSliderModel",
      "state": {
       "description": "lineWidth",
       "layout": "IPY_MODEL_a401e230efd3488f89b6bcc2b9ddd6fb",
       "max": 20,
       "style": "IPY_MODEL_411921282fa740f8ac1f528051dac85e",
       "value": 3
      }
     },
     "f2305bf7a24849e694f1ed5e973a0ff1": {
      "model_module": "@jupyter-widgets/base",
      "model_module_version": "1.0.0",
      "model_name": "LayoutModel",
      "state": {}
     },
     "f2319f5738ee48b2afb6d92303c7ae04": {
      "model_module": "@jupyter-widgets/base",
      "model_module_version": "1.0.0",
      "model_name": "LayoutModel",
      "state": {}
     },
     "f23b4aa9807e416b9cb2a4e9d0157312": {
      "model_module": "@jupyter-widgets/controls",
      "model_module_version": "1.0.0",
      "model_name": "DescriptionStyleModel",
      "state": {
       "description_width": ""
      }
     },
     "f2477f9b611448a2a57f7b3770d3ed55": {
      "model_module": "@jupyter-widgets/base",
      "model_module_version": "1.0.0",
      "model_name": "LayoutModel",
      "state": {}
     },
     "f256f9da34334b1ba97491c85fc0c8e8": {
      "model_module": "@jupyter-widgets/controls",
      "model_module_version": "1.0.0",
      "model_name": "IntSliderModel",
      "state": {
       "description": "h",
       "layout": "IPY_MODEL_93b0860a3d8646d987730e4fe87e2e40",
       "max": 300,
       "min": -300,
       "style": "IPY_MODEL_7014a69f65a948d6a0d03300924247d6",
       "value": 50
      }
     },
     "f27dc97bdcda4ffe92471ba17a77cd87": {
      "model_module": "@jupyter-widgets/controls",
      "model_module_version": "1.0.0",
      "model_name": "IntSliderModel",
      "state": {
       "description": "degrees",
       "layout": "IPY_MODEL_109ee51aa37a4caa9c892b2df134729e",
       "max": 360,
       "min": -360,
       "style": "IPY_MODEL_8c7e573d2d554d3bb010b87b238b785c"
      }
     },
     "f2975fe9213c44688c2eb639a547b33b": {
      "model_module": "@jupyter-widgets/controls",
      "model_module_version": "1.0.0",
      "model_name": "SliderStyleModel",
      "state": {
       "description_width": ""
      }
     },
     "f2a5875e415c4e47b4e2d9b42aed1602": {
      "model_module": "@jupyter-widgets/base",
      "model_module_version": "1.0.0",
      "model_name": "LayoutModel",
      "state": {}
     },
     "f2b005c5ec8e4a0dbd3f0ac4f4c70453": {
      "model_module": "@jupyter-widgets/controls",
      "model_module_version": "1.0.0",
      "model_name": "IntSliderModel",
      "state": {
       "description": "x2",
       "layout": "IPY_MODEL_d1d26d7f781b403e9fa3ec81001a5dca",
       "min": -100,
       "style": "IPY_MODEL_5b0d6f2548b146dfa66642d69a365f77",
       "value": -50
      }
     },
     "f2c5b7b13eb14d68ae2ebd7fbfc7c340": {
      "model_module": "@jupyter-widgets/base",
      "model_module_version": "1.0.0",
      "model_name": "LayoutModel",
      "state": {}
     },
     "f2c5e3d7dc7647ee96d68f93cd678e5c": {
      "model_module": "@jupyter-widgets/controls",
      "model_module_version": "1.0.0",
      "model_name": "IntSliderModel",
      "state": {
       "description": "y",
       "layout": "IPY_MODEL_77fcaa89ee7249ab9168e43a8cba7db1",
       "min": -100,
       "style": "IPY_MODEL_f43ad1a28c05443885d5e22909bc1162"
      }
     },
     "f2e4246051e5471db01470285747cc45": {
      "model_module": "@jupyter-widgets/controls",
      "model_module_version": "1.0.0",
      "model_name": "IntSliderModel",
      "state": {
       "description": "h",
       "layout": "IPY_MODEL_8f4a5ba9c0cf4db0bc554718117c7069",
       "max": 300,
       "min": -300,
       "style": "IPY_MODEL_bfc08279813648a2962c7ef30285a018",
       "value": 50
      }
     },
     "f2f8e59f6dca4cdc80799e3e4230c7c2": {
      "model_module": "@jupyter-widgets/controls",
      "model_module_version": "1.0.0",
      "model_name": "IntSliderModel",
      "state": {
       "description": "green",
       "layout": "IPY_MODEL_8f3a44ec9b9e41a3a6ec7d60dc25e644",
       "max": 255,
       "style": "IPY_MODEL_0dc100683cfa456ebc8efd91961e6e46"
      }
     },
     "f3155e34e93847f2b33d1656fdbfc664": {
      "model_module": "@jupyter-widgets/controls",
      "model_module_version": "1.0.0",
      "model_name": "IntSliderModel",
      "state": {
       "description": "h",
       "layout": "IPY_MODEL_2e0efeb66c774b279f328baef2f76ba9",
       "min": -100,
       "style": "IPY_MODEL_2bf7e51094224b23b29a40900d1d8086",
       "value": 35
      }
     },
     "f33f8397f66947ce9ecae3b39681ef64": {
      "model_module": "@jupyter-widgets/base",
      "model_module_version": "1.0.0",
      "model_name": "LayoutModel",
      "state": {}
     },
     "f36a8890b4a644d58fbd821584a36883": {
      "model_module": "@jupyter-widgets/base",
      "model_module_version": "1.0.0",
      "model_name": "LayoutModel",
      "state": {}
     },
     "f36f1cf92ff6498eae08115f63875bd2": {
      "model_module": "@jupyter-widgets/base",
      "model_module_version": "1.0.0",
      "model_name": "LayoutModel",
      "state": {}
     },
     "f3a0ca12ebcd438aa781da85f04cd4b9": {
      "model_module": "@jupyter-widgets/base",
      "model_module_version": "1.0.0",
      "model_name": "LayoutModel",
      "state": {}
     },
     "f42f1c6388db4b20b28194b01d374641": {
      "model_module": "@jupyter-widgets/base",
      "model_module_version": "1.0.0",
      "model_name": "LayoutModel",
      "state": {}
     },
     "f432c98687394d009c0f3fdb4213b3a3": {
      "model_module": "@jupyter-widgets/controls",
      "model_module_version": "1.0.0",
      "model_name": "SliderStyleModel",
      "state": {
       "description_width": ""
      }
     },
     "f43ad1a28c05443885d5e22909bc1162": {
      "model_module": "@jupyter-widgets/controls",
      "model_module_version": "1.0.0",
      "model_name": "SliderStyleModel",
      "state": {
       "description_width": ""
      }
     },
     "f45d798df0094cdc9df7a020fa84844f": {
      "model_module": "@jupyter-widgets/controls",
      "model_module_version": "1.0.0",
      "model_name": "SliderStyleModel",
      "state": {
       "description_width": ""
      }
     },
     "f480b5855391467493e2e9dfad7b7113": {
      "model_module": "@jupyter-widgets/base",
      "model_module_version": "1.0.0",
      "model_name": "LayoutModel",
      "state": {}
     },
     "f4828d78be1f4978ad79535ccb130877": {
      "model_module": "@jupyter-widgets/base",
      "model_module_version": "1.0.0",
      "model_name": "LayoutModel",
      "state": {}
     },
     "f4c3a3b84145476bb7e6150669bec128": {
      "model_module": "@jupyter-widgets/controls",
      "model_module_version": "1.0.0",
      "model_name": "SliderStyleModel",
      "state": {
       "description_width": ""
      }
     },
     "f4f1aeaeefd34e1c8b13068d01757d14": {
      "model_module": "@jupyter-widgets/controls",
      "model_module_version": "1.0.0",
      "model_name": "SliderStyleModel",
      "state": {
       "description_width": ""
      }
     },
     "f513303ea9c941c888c941a7a1cbb802": {
      "model_module": "@jupyter-widgets/controls",
      "model_module_version": "1.0.0",
      "model_name": "IntSliderModel",
      "state": {
       "description": "h",
       "layout": "IPY_MODEL_8f17182938d347afb135311b531649ef",
       "max": 300,
       "min": -300,
       "style": "IPY_MODEL_c1b4df7f19064994a38329e516fa1347",
       "value": -169
      }
     },
     "f51c752ce63c4542bac603c4338756b4": {
      "model_module": "@jupyter-widgets/base",
      "model_module_version": "1.0.0",
      "model_name": "LayoutModel",
      "state": {}
     },
     "f5389a88be6b45cebc2139fdf6e23343": {
      "model_module": "@jupyter-widgets/base",
      "model_module_version": "1.0.0",
      "model_name": "LayoutModel",
      "state": {}
     },
     "f5460a51d7b64e7c9304ed8978309d2f": {
      "model_module": "@jupyter-widgets/base",
      "model_module_version": "1.0.0",
      "model_name": "LayoutModel",
      "state": {}
     },
     "f56a9a9c87d5410ba1410ef8b7746334": {
      "model_module": "@jupyter-widgets/controls",
      "model_module_version": "1.0.0",
      "model_name": "SliderStyleModel",
      "state": {
       "description_width": ""
      }
     },
     "f5791560a9b6438dacc830569596a3fd": {
      "model_module": "jp_proxy_widget",
      "model_module_version": "^0.3.4",
      "model_name": "JSProxyModel",
      "state": {
       "_model_module_version": "^0.3.4",
       "_send_counter": 2191,
       "_view_module_version": "^0.3.4",
       "error_msg": "No error",
       "layout": "IPY_MODEL_44416140818f45b8abad7c386b9d793a",
       "rendered": true,
       "status": "Got results."
      }
     },
     "f5888cec71454a90b9159ca8c2ecef45": {
      "model_module": "@jupyter-widgets/controls",
      "model_module_version": "1.0.0",
      "model_name": "IntSliderModel",
      "state": {
       "description": "green",
       "layout": "IPY_MODEL_739cb1b3e551481faef72e4ac3e280cd",
       "max": 255,
       "style": "IPY_MODEL_0c4006d73c0943cb99ce6685de810a57"
      }
     },
     "f59113ffa3d14f6d904941eb496af921": {
      "model_module": "@jupyter-widgets/base",
      "model_module_version": "1.0.0",
      "model_name": "LayoutModel",
      "state": {}
     },
     "f5969e5883c14ab6be001748f20fdd9e": {
      "model_module": "@jupyter-widgets/base",
      "model_module_version": "1.0.0",
      "model_name": "LayoutModel",
      "state": {}
     },
     "f5c4a9348e0f4ec38cd7c819fae3aa71": {
      "model_module": "@jupyter-widgets/controls",
      "model_module_version": "1.0.0",
      "model_name": "HTMLModel",
      "state": {
       "layout": "IPY_MODEL_dcc4bc8216db4d659a38b3c3c084a27d",
       "style": "IPY_MODEL_752dc1c8506e40b688e535d79cc259ba",
       "value": "<img src=\"interactive_rectangle2.png\" id=\"snapshot_id_4_1536324855559\"/>\n <div id=\"snapshot_id_5_1536324855559\">interactive_rectangle2.png</div>"
      }
     },
     "f5c6c7ba963447798adb520a3185cf45": {
      "model_module": "@jupyter-widgets/base",
      "model_module_version": "1.0.0",
      "model_name": "LayoutModel",
      "state": {}
     },
     "f5c8e888d78b471d9700c37c34deca12": {
      "model_module": "@jupyter-widgets/controls",
      "model_module_version": "1.0.0",
      "model_name": "IntSliderModel",
      "state": {
       "description": "y",
       "layout": "IPY_MODEL_eaaa595c505f4252a68b992d6aba2c4c",
       "min": -100,
       "style": "IPY_MODEL_ae0aa466feaf4779811b94927ae580b4",
       "value": 75
      }
     },
     "f5cf1a9f6189407b90fae19ce832360a": {
      "model_module": "@jupyter-widgets/controls",
      "model_module_version": "1.0.0",
      "model_name": "SliderStyleModel",
      "state": {
       "description_width": ""
      }
     },
     "f5e705c30fec4d3488ac3fec21ddaeb1": {
      "model_module": "@jupyter-widgets/controls",
      "model_module_version": "1.0.0",
      "model_name": "IntSliderModel",
      "state": {
       "description": "x",
       "layout": "IPY_MODEL_00d911d80b80400aaefb5507ef1f97fd",
       "min": -100,
       "style": "IPY_MODEL_408e67a7ff1c429cb7224fa3b6f2cb1a"
      }
     },
     "f5e801ba60984980887e93e2fd43515f": {
      "model_module": "@jupyter-widgets/base",
      "model_module_version": "1.0.0",
      "model_name": "LayoutModel",
      "state": {}
     },
     "f63770e08d2a4b64b9a7e0f3ff66390b": {
      "model_module": "@jupyter-widgets/output",
      "model_module_version": "1.0.0",
      "model_name": "OutputModel",
      "state": {
       "layout": "IPY_MODEL_e336a8457be84d469462aca68a82411a"
      }
     },
     "f660f2aebd3e41459baf5952ec52ec7b": {
      "model_module": "@jupyter-widgets/controls",
      "model_module_version": "1.0.0",
      "model_name": "IntSliderModel",
      "state": {
       "description": "y",
       "layout": "IPY_MODEL_951425817c1049ec94d89750a33393a9",
       "min": -100,
       "style": "IPY_MODEL_0fd3cb40dba6496f8ec1e16175f84e53",
       "value": -41
      }
     },
     "f660fee8e512432199370c43956b6958": {
      "model_module": "@jupyter-widgets/base",
      "model_module_version": "1.0.0",
      "model_name": "LayoutModel",
      "state": {}
     },
     "f674a6acfe474528ae03d560df702077": {
      "model_module": "jp_proxy_widget",
      "model_module_version": "^0.3.4",
      "model_name": "JSProxyModel",
      "state": {
       "_model_module_version": "^0.3.4",
       "_send_counter": 2,
       "_view_module_version": "^0.3.4",
       "error_msg": "No error",
       "layout": "IPY_MODEL_4f58712fcb3a4da788d882aa5a65d701",
       "rendered": true,
       "status": "Got results."
      }
     },
     "f6b1a32713f842c3a29f9128bbbeacc7": {
      "model_module": "@jupyter-widgets/controls",
      "model_module_version": "1.0.0",
      "model_name": "IntSliderModel",
      "state": {
       "description": "x",
       "layout": "IPY_MODEL_f0ce8c31afb94ff3b0f2399cc5064ff5",
       "min": -100,
       "style": "IPY_MODEL_08a236e0088846f1a23ad747a760a532",
       "value": 17
      }
     },
     "f6b47a1edadb42349590fe308656846d": {
      "model_module": "@jupyter-widgets/controls",
      "model_module_version": "1.0.0",
      "model_name": "IntSliderModel",
      "state": {
       "description": "y",
       "layout": "IPY_MODEL_b488a544375a4c02a9d199c4cd2e361e",
       "min": -100,
       "style": "IPY_MODEL_cf42937fa4be4510b9d4d4a48d4c2bdf"
      }
     },
     "f6c096ce6cca471bbb844d3e0c893aaa": {
      "model_module": "@jupyter-widgets/controls",
      "model_module_version": "1.0.0",
      "model_name": "SliderStyleModel",
      "state": {
       "description_width": ""
      }
     },
     "f6cc98f805fb4c1297d6442113bb79e9": {
      "model_module": "@jupyter-widgets/controls",
      "model_module_version": "1.0.0",
      "model_name": "SliderStyleModel",
      "state": {
       "description_width": ""
      }
     },
     "f6d900c4ae03476bbda2e8c488f7ae68": {
      "model_module": "@jupyter-widgets/controls",
      "model_module_version": "1.0.0",
      "model_name": "SliderStyleModel",
      "state": {
       "description_width": ""
      }
     },
     "f6de3677078248f09478747c026b7194": {
      "model_module": "@jupyter-widgets/base",
      "model_module_version": "1.0.0",
      "model_name": "LayoutModel",
      "state": {}
     },
     "f6e2534e68144b43a9fdae752be3b257": {
      "model_module": "@jupyter-widgets/base",
      "model_module_version": "1.0.0",
      "model_name": "LayoutModel",
      "state": {}
     },
     "f7016569d7824952a9f5a8257e34cb57": {
      "model_module": "@jupyter-widgets/controls",
      "model_module_version": "1.0.0",
      "model_name": "SliderStyleModel",
      "state": {
       "description_width": ""
      }
     },
     "f739a770d3d642ff8fb68f06df0a4e15": {
      "model_module": "@jupyter-widgets/base",
      "model_module_version": "1.0.0",
      "model_name": "LayoutModel",
      "state": {}
     },
     "f73c4e2865c144fbb73e11a98f2a8c2c": {
      "model_module": "@jupyter-widgets/base",
      "model_module_version": "1.0.0",
      "model_name": "LayoutModel",
      "state": {}
     },
     "f74304c5167846aa8ea7a9a542299b00": {
      "model_module": "@jupyter-widgets/controls",
      "model_module_version": "1.0.0",
      "model_name": "SliderStyleModel",
      "state": {
       "description_width": ""
      }
     },
     "f74e296d54f6479d9c30cecede702738": {
      "model_module": "@jupyter-widgets/base",
      "model_module_version": "1.0.0",
      "model_name": "LayoutModel",
      "state": {}
     },
     "f757cfdc6e98470da17519d0b6b10c4f": {
      "model_module": "@jupyter-widgets/controls",
      "model_module_version": "1.0.0",
      "model_name": "SliderStyleModel",
      "state": {
       "description_width": ""
      }
     },
     "f76a57e9deae43409bd029d9a760c435": {
      "model_module": "@jupyter-widgets/controls",
      "model_module_version": "1.0.0",
      "model_name": "FloatSliderModel",
      "state": {
       "description": "start",
       "layout": "IPY_MODEL_76812d39075f496fa20b7e7875cc60cb",
       "max": 6.383185307179586,
       "step": 0.1,
       "style": "IPY_MODEL_e2b7b7cf6bd84cf2b8e2508e1eadd77d",
       "value": 1.6
      }
     },
     "f784a82fec144e189d614fd45b001b3f": {
      "model_module": "@jupyter-widgets/controls",
      "model_module_version": "1.0.0",
      "model_name": "IntSliderModel",
      "state": {
       "description": "red",
       "layout": "IPY_MODEL_5f919fb8c9894913a10fa9b09b222291",
       "max": 255,
       "style": "IPY_MODEL_794c0af0d20341e29b6e7dd2b18aa6ec",
       "value": 255
      }
     },
     "f785890f3a1440fd87de7c592bdd9d37": {
      "model_module": "@jupyter-widgets/base",
      "model_module_version": "1.0.0",
      "model_name": "LayoutModel",
      "state": {}
     },
     "f7a572f44dd7448ea0e1a4ccb1dda9e4": {
      "model_module": "@jupyter-widgets/controls",
      "model_module_version": "1.0.0",
      "model_name": "IntSliderModel",
      "state": {
       "description": "lineWidth",
       "layout": "IPY_MODEL_49f9f96431484d729ee0545a8fa0c400",
       "max": 20,
       "style": "IPY_MODEL_199f2b4a3fbf4137927b3c986b69f21d",
       "value": 3
      }
     },
     "f7a6b5e89f744eec985e065c4ae1a9bc": {
      "model_module": "@jupyter-widgets/controls",
      "model_module_version": "1.0.0",
      "model_name": "IntSliderModel",
      "state": {
       "description": "w",
       "layout": "IPY_MODEL_b650597f9fba4815b7269579254f8321",
       "max": 300,
       "min": -300,
       "style": "IPY_MODEL_4b9a3d349d11466598208f0b66361fbd",
       "value": 100
      }
     },
     "f7aaec5aece8452e8c351af6478aa83a": {
      "model_module": "@jupyter-widgets/controls",
      "model_module_version": "1.0.0",
      "model_name": "IntSliderModel",
      "state": {
       "description": "w",
       "layout": "IPY_MODEL_f2a5875e415c4e47b4e2d9b42aed1602",
       "max": 300,
       "min": -300,
       "style": "IPY_MODEL_d1ab587eed194597bdf7f29b7a4daa22",
       "value": 60
      }
     },
     "f7bd49fe65e045bdb3d5332f42390d7d": {
      "model_module": "@jupyter-widgets/base",
      "model_module_version": "1.0.0",
      "model_name": "LayoutModel",
      "state": {}
     },
     "f7c7c2ac98c340aba364ee302d3034df": {
      "model_module": "@jupyter-widgets/base",
      "model_module_version": "1.0.0",
      "model_name": "LayoutModel",
      "state": {}
     },
     "f7c994458fa34135a1c306a91053c617": {
      "model_module": "@jupyter-widgets/controls",
      "model_module_version": "1.0.0",
      "model_name": "IntSliderModel",
      "state": {
       "description": "y",
       "layout": "IPY_MODEL_0efde9d58262422e94d9940d190f9520",
       "min": -100,
       "style": "IPY_MODEL_623248918cdd493eaf760c9327f0c033"
      }
     },
     "f7f6b5f8e6fc44de9f7b4cbd20901760": {
      "model_module": "@jupyter-widgets/controls",
      "model_module_version": "1.0.0",
      "model_name": "TabModel",
      "state": {
       "_titles": {
        "0": "Canvas",
        "1": "Snapshot"
       },
       "children": [
        "IPY_MODEL_cc875a482b81481aabaa4b59941bb886",
        "IPY_MODEL_788bd8e238b24981aa738bfa96547882"
       ],
       "layout": "IPY_MODEL_81003e64eda141608d83a58d16225ba8"
      }
     },
     "f815b2710c114a04baaf46c85e440583": {
      "model_module": "@jupyter-widgets/controls",
      "model_module_version": "1.0.0",
      "model_name": "SliderStyleModel",
      "state": {
       "description_width": ""
      }
     },
     "f847ca4b5c34462e8e7336c76c01c97b": {
      "model_module": "@jupyter-widgets/base",
      "model_module_version": "1.0.0",
      "model_name": "LayoutModel",
      "state": {}
     },
     "f867e165590a4816926b53cfe5af2f28": {
      "model_module": "@jupyter-widgets/base",
      "model_module_version": "1.0.0",
      "model_name": "LayoutModel",
      "state": {}
     },
     "f870f64f1f7843428fc4c3c8181e368e": {
      "model_module": "@jupyter-widgets/controls",
      "model_module_version": "1.0.0",
      "model_name": "IntSliderModel",
      "state": {
       "description": "x",
       "layout": "IPY_MODEL_92f90e70447345fb992a22bc56de04ac",
       "min": -100,
       "style": "IPY_MODEL_12ec4dcca7e1440aab1ba95c407f5aca"
      }
     },
     "f87b8aed1b2244caa33bd15e06207836": {
      "model_module": "@jupyter-widgets/base",
      "model_module_version": "1.0.0",
      "model_name": "LayoutModel",
      "state": {}
     },
     "f8939d170ea24aa49e517bfc1737ab31": {
      "model_module": "@jupyter-widgets/controls",
      "model_module_version": "1.0.0",
      "model_name": "CheckboxModel",
      "state": {
       "description": "fill",
       "disabled": false,
       "layout": "IPY_MODEL_b3f89d10763c4ecea7ea82b3555326f0",
       "style": "IPY_MODEL_b075a8d9ce1b484591f76e43c8aa5231",
       "value": true
      }
     },
     "f89e3301135847bea965f3e3716f890d": {
      "model_module": "@jupyter-widgets/output",
      "model_module_version": "1.0.0",
      "model_name": "OutputModel",
      "state": {
       "layout": "IPY_MODEL_d9f068785a9c422abd494a633656441a"
      }
     },
     "f8b532b8784241b7a5adb735f8327b7d": {
      "model_module": "@jupyter-widgets/base",
      "model_module_version": "1.0.0",
      "model_name": "LayoutModel",
      "state": {}
     },
     "f8b5be5520cc475caa13e85856d1cb5d": {
      "model_module": "@jupyter-widgets/controls",
      "model_module_version": "1.0.0",
      "model_name": "SliderStyleModel",
      "state": {
       "description_width": ""
      }
     },
     "f8bcaad5bb39448a8670c1dfe4507c88": {
      "model_module": "@jupyter-widgets/output",
      "model_module_version": "1.0.0",
      "model_name": "OutputModel",
      "state": {
       "layout": "IPY_MODEL_8a95a701a455426694f56406b8643549"
      }
     },
     "f8c7f18ee78d4eaf9f3558a0ac96dab7": {
      "model_module": "@jupyter-widgets/controls",
      "model_module_version": "1.0.0",
      "model_name": "SliderStyleModel",
      "state": {
       "description_width": ""
      }
     },
     "f8df1b22de074004a55d08cfec2a9777": {
      "model_module": "@jupyter-widgets/controls",
      "model_module_version": "1.0.0",
      "model_name": "SliderStyleModel",
      "state": {
       "description_width": ""
      }
     },
     "f8e6ba793fc4496ca2f453da7b1d4a63": {
      "model_module": "@jupyter-widgets/controls",
      "model_module_version": "1.0.0",
      "model_name": "SliderStyleModel",
      "state": {
       "description_width": ""
      }
     },
     "f9115cd814a4459792918ce9d0c592af": {
      "model_module": "@jupyter-widgets/controls",
      "model_module_version": "1.0.0",
      "model_name": "IntSliderModel",
      "state": {
       "description": "lineWidth",
       "layout": "IPY_MODEL_f867e165590a4816926b53cfe5af2f28",
       "max": 20,
       "style": "IPY_MODEL_3e0b2938dd5b453faa0317b9956d2099",
       "value": 18
      }
     },
     "f9128485ea0740f5b534a29ecfc3d87a": {
      "model_module": "@jupyter-widgets/controls",
      "model_module_version": "1.0.0",
      "model_name": "IntSliderModel",
      "state": {
       "description": "w",
       "layout": "IPY_MODEL_1074c68f3fbb4175a73ee6587dac4f2d",
       "min": -100,
       "style": "IPY_MODEL_ec41ba11eecb4d7183eff806a19f3d7c"
      }
     },
     "f92d3ffb7ea74ffa92685d4c4c5f3d06": {
      "model_module": "@jupyter-widgets/controls",
      "model_module_version": "1.0.0",
      "model_name": "SliderStyleModel",
      "state": {
       "description_width": ""
      }
     },
     "f93645cc012b4ae3bdc8dfefc535e600": {
      "model_module": "@jupyter-widgets/controls",
      "model_module_version": "1.0.0",
      "model_name": "DescriptionStyleModel",
      "state": {
       "description_width": ""
      }
     },
     "f94a1d8ee72c4461a9daa6d2b1c47d4d": {
      "model_module": "@jupyter-widgets/controls",
      "model_module_version": "1.0.0",
      "model_name": "IntSliderModel",
      "state": {
       "description": "y1",
       "layout": "IPY_MODEL_4c4b1efc357a4fe19395518a49997ebb",
       "min": -100,
       "style": "IPY_MODEL_4a4bc73e1c6644f9838c5d4e9d9e650c",
       "value": -79
      }
     },
     "f97b7b9bd4b542b190353ca6174627ff": {
      "model_module": "@jupyter-widgets/controls",
      "model_module_version": "1.0.0",
      "model_name": "DescriptionStyleModel",
      "state": {
       "description_width": ""
      }
     },
     "f980b369b69346d690870d0e912bdc64": {
      "model_module": "@jupyter-widgets/base",
      "model_module_version": "1.0.0",
      "model_name": "LayoutModel",
      "state": {}
     },
     "f9a95e1380e3461a94fd7cd0181f8bed": {
      "model_module": "@jupyter-widgets/base",
      "model_module_version": "1.0.0",
      "model_name": "LayoutModel",
      "state": {}
     },
     "f9ad8d21513547de90ca9045004db9fa": {
      "model_module": "@jupyter-widgets/controls",
      "model_module_version": "1.0.0",
      "model_name": "IntSliderModel",
      "state": {
       "description": "r",
       "layout": "IPY_MODEL_1d95cb6fa5934b18bfca058c30c09ee5",
       "style": "IPY_MODEL_293316fd146f458b9ed8526a62cc02ff",
       "value": 59
      }
     },
     "f9d4de99477a466d8dfd1d60b7f67cb7": {
      "model_module": "@jupyter-widgets/base",
      "model_module_version": "1.0.0",
      "model_name": "LayoutModel",
      "state": {}
     },
     "f9f512b2f04245e0be43eee7d5d43c29": {
      "model_module": "@jupyter-widgets/base",
      "model_module_version": "1.0.0",
      "model_name": "LayoutModel",
      "state": {}
     },
     "fa0f63c4f112441084c630d906c015a4": {
      "model_module": "@jupyter-widgets/controls",
      "model_module_version": "1.0.0",
      "model_name": "SliderStyleModel",
      "state": {
       "description_width": ""
      }
     },
     "fa59932b4aa2426596538c48dfa0378a": {
      "model_module": "@jupyter-widgets/base",
      "model_module_version": "1.0.0",
      "model_name": "LayoutModel",
      "state": {}
     },
     "fa62757de3c74db9b81fc5a0178d7852": {
      "model_module": "@jupyter-widgets/controls",
      "model_module_version": "1.0.0",
      "model_name": "IntSliderModel",
      "state": {
       "description": "lineWidth",
       "layout": "IPY_MODEL_f11202db31ea46248e35d5977814894f",
       "max": 20,
       "style": "IPY_MODEL_4d57ca66b9894897b8fe3d03c2c3460a",
       "value": 13
      }
     },
     "fa71a705efd74b09b968b39c4b2b2dbe": {
      "model_module": "@jupyter-widgets/controls",
      "model_module_version": "1.0.0",
      "model_name": "IntSliderModel",
      "state": {
       "description": "h",
       "layout": "IPY_MODEL_9d029c3ec77a4027af5a903f9a252011",
       "min": -100,
       "style": "IPY_MODEL_f2975fe9213c44688c2eb639a547b33b"
      }
     },
     "faa7a14f16684d438afa4d69158245dd": {
      "model_module": "@jupyter-widgets/controls",
      "model_module_version": "1.0.0",
      "model_name": "IntSliderModel",
      "state": {
       "description": "w",
       "layout": "IPY_MODEL_4d3a2259cd6049dfbf4cfde90d435461",
       "max": 300,
       "min": -300,
       "style": "IPY_MODEL_526a27a2f7ad41c79312d9d48632750f",
       "value": 60
      }
     },
     "fad4edcbbed241e3894fee5b2bc15c4a": {
      "model_module": "@jupyter-widgets/controls",
      "model_module_version": "1.0.0",
      "model_name": "SliderStyleModel",
      "state": {
       "description_width": ""
      }
     },
     "fb11654398a84c8d9e44e7eef5f91b69": {
      "model_module": "jp_proxy_widget",
      "model_module_version": "^0.3.4",
      "model_name": "JSProxyModel",
      "state": {
       "_model_module_version": "^0.3.4",
       "_send_counter": 2,
       "_view_module_version": "^0.3.4",
       "error_msg": "No error",
       "layout": "IPY_MODEL_ffcf951c70024c22881e2f0618667e8e",
       "rendered": true,
       "status": "Got results."
      }
     },
     "fb136458447a4a3babc1aba38566dcc5": {
      "model_module": "@jupyter-widgets/controls",
      "model_module_version": "1.0.0",
      "model_name": "IntSliderModel",
      "state": {
       "description": "green",
       "layout": "IPY_MODEL_f5460a51d7b64e7c9304ed8978309d2f",
       "max": 255,
       "style": "IPY_MODEL_6d012ed42fcc4acb83d52b4c84315eec"
      }
     },
     "fb17bc911b11445a9165639f979e9eab": {
      "model_module": "@jupyter-widgets/output",
      "model_module_version": "1.0.0",
      "model_name": "OutputModel",
      "state": {
       "layout": "IPY_MODEL_106ae15c35714f68a260aa36ffcbdf87"
      }
     },
     "fb6492d0dfbf480e93f89353b21a2fd3": {
      "model_module": "@jupyter-widgets/controls",
      "model_module_version": "1.0.0",
      "model_name": "VBoxModel",
      "state": {
       "_dom_classes": [
        "widget-interact"
       ],
       "children": [
        "IPY_MODEL_e1b4027107304460a650f380f9ff5a5e",
        "IPY_MODEL_41d329c9fb844c58b33a0e053b44c6aa",
        "IPY_MODEL_ef12e6bf3c0141b8b03e806a20bf05c3",
        "IPY_MODEL_f3155e34e93847f2b33d1656fdbfc664",
        "IPY_MODEL_fd8137c934a443388ea382aa54339aca",
        "IPY_MODEL_153e79a861aa4a6c82c63a2fa002bc94",
        "IPY_MODEL_12931c63b5634be2afedfda63b29c293",
        "IPY_MODEL_bed8d8d90cca495c8eafbe6f09802fca",
        "IPY_MODEL_db0755d3aaa4465ea839aee6faf992c3",
        "IPY_MODEL_6baa799853bb4fd99fc6abba6e05a97c",
        "IPY_MODEL_a9725976eee54c08869ce129eed45be3",
        "IPY_MODEL_96db201a68074106b9687c2e0aa8ce02"
       ],
       "layout": "IPY_MODEL_158b238502984896a59ed0fb976c0294"
      }
     },
     "fb6b06434ccc4d08a576f28986e68133": {
      "model_module": "@jupyter-widgets/base",
      "model_module_version": "1.0.0",
      "model_name": "LayoutModel",
      "state": {}
     },
     "fbacfc3ceee1477a99901563054f35c6": {
      "model_module": "@jupyter-widgets/controls",
      "model_module_version": "1.0.0",
      "model_name": "IntSliderModel",
      "state": {
       "description": "green",
       "layout": "IPY_MODEL_44ee557031604031a6861c063720caf1",
       "max": 255,
       "style": "IPY_MODEL_88352f4c399d4fd0bdd7436f2b9e2e8e"
      }
     },
     "fbceecffda414f9ea76655d23a557869": {
      "model_module": "@jupyter-widgets/output",
      "model_module_version": "1.0.0",
      "model_name": "OutputModel",
      "state": {
       "layout": "IPY_MODEL_7376d47badbb45339288218712a8c41a"
      }
     },
     "fbec0491c079437da1d0353af56861a7": {
      "model_module": "@jupyter-widgets/controls",
      "model_module_version": "1.0.0",
      "model_name": "VBoxModel",
      "state": {
       "children": [
        "IPY_MODEL_c9197738c9e74ffca50503ed157fd7a5",
        "IPY_MODEL_d860346a4d4c4ed6a843f3216705e6de"
       ],
       "layout": "IPY_MODEL_0f51c34da49247b99b71ecdd5497bf39"
      }
     },
     "fc3b94290d26444d8078c309bdf6a796": {
      "model_module": "@jupyter-widgets/base",
      "model_module_version": "1.0.0",
      "model_name": "LayoutModel",
      "state": {}
     },
     "fc466280281b46d1b6aad61a3266a9e4": {
      "model_module": "@jupyter-widgets/controls",
      "model_module_version": "1.0.0",
      "model_name": "FloatSliderModel",
      "state": {
       "description": "start",
       "layout": "IPY_MODEL_cfe0245f48dd46f288899164a0a516bd",
       "max": 6.283185307179586,
       "step": 0.1,
       "style": "IPY_MODEL_2a9785a69adc473a994b99bbb9c29fb7"
      }
     },
     "fc8459e7d59548afb0a8384995efeeca": {
      "model_module": "@jupyter-widgets/controls",
      "model_module_version": "1.0.0",
      "model_name": "HTMLModel",
      "state": {
       "layout": "IPY_MODEL_402f95aa334748b0bde5c7de2a447f2d",
       "style": "IPY_MODEL_c9564860f70c4668a5fdd72cb85d52c1",
       "value": "<img src=\"interactive_circle.png\" id=\"snapshot_id_25_1536247401851\"/>\n <div id=\"snapshot_id_26_1536247401851\">interactive_circle.png</div>"
      }
     },
     "fc8d2275459b40cebe497f274631f612": {
      "model_module": "@jupyter-widgets/controls",
      "model_module_version": "1.0.0",
      "model_name": "HTMLModel",
      "state": {
       "layout": "IPY_MODEL_cfbbbecad58c4ae8a3386420c343def5",
       "style": "IPY_MODEL_f93645cc012b4ae3bdc8dfefc535e600",
       "value": "<img src=\"interactive_rectangle.png\" id=\"snapshot_id_11_1536267309901\"/>\n <div id=\"snapshot_id_12_1536267309901\">interactive_rectangle.png</div>"
      }
     },
     "fc8d68c23cf44f31824d99928cb1941c": {
      "model_module": "@jupyter-widgets/controls",
      "model_module_version": "1.0.0",
      "model_name": "FloatSliderModel",
      "state": {
       "description": "alpha",
       "layout": "IPY_MODEL_14c06f2ae0914a7d88688b7f53be2152",
       "max": 1,
       "step": 0.1,
       "style": "IPY_MODEL_bb240a5d30264b119e5837e4330708e5",
       "value": 1
      }
     },
     "fd03c594c7ca4c2099ee16f624d755ed": {
      "model_module": "@jupyter-widgets/controls",
      "model_module_version": "1.0.0",
      "model_name": "FloatSliderModel",
      "state": {
       "description": "alpha",
       "layout": "IPY_MODEL_7cabe852dbc24c31acc7c6a7c6d0ede4",
       "max": 1,
       "step": 0.1,
       "style": "IPY_MODEL_ad8a2b78acbf49ca920c3a83de258486",
       "value": 1
      }
     },
     "fd0cab56d81e429e8cfb05189ed230e6": {
      "model_module": "@jupyter-widgets/controls",
      "model_module_version": "1.0.0",
      "model_name": "IntSliderModel",
      "state": {
       "description": "red",
       "layout": "IPY_MODEL_052b9bb8a8514d9fb17b8f5fb392876c",
       "max": 255,
       "style": "IPY_MODEL_f6c096ce6cca471bbb844d3e0c893aaa",
       "value": 255
      }
     },
     "fd24a03937a54d3ab9ffd2997e8eaa9d": {
      "model_module": "@jupyter-widgets/controls",
      "model_module_version": "1.0.0",
      "model_name": "SliderStyleModel",
      "state": {
       "description_width": ""
      }
     },
     "fd43698bb1194bdb8258140acfcdfd3d": {
      "model_module": "@jupyter-widgets/controls",
      "model_module_version": "1.0.0",
      "model_name": "IntSliderModel",
      "state": {
       "description": "x",
       "layout": "IPY_MODEL_a310748f15544800944ced5a4d761722",
       "min": -100,
       "style": "IPY_MODEL_1760473947cd40e2a78b5104a2058f8d"
      }
     },
     "fd47c552ddb648b2812b397bcb7305c1": {
      "model_module": "@jupyter-widgets/controls",
      "model_module_version": "1.0.0",
      "model_name": "VBoxModel",
      "state": {
       "_dom_classes": [
        "widget-interact"
       ],
       "children": [
        "IPY_MODEL_266a1b69002f43df828cbbd586abb503",
        "IPY_MODEL_0497085973f24842bbc8acb93622ec08",
        "IPY_MODEL_3bf03e2b61e64d0d839847d558021c8d",
        "IPY_MODEL_b4a3a574878540ffb08c5b0cf8d7ca45",
        "IPY_MODEL_d94c866fd871461f8531a21a8894da17",
        "IPY_MODEL_80828539fecd44cabeaece7134eb7eb8",
        "IPY_MODEL_2f495c39c6cb4ab1898d1bde88aeddf9",
        "IPY_MODEL_d564cf7922044760ba2c31a0f498dc94",
        "IPY_MODEL_75bbe9e5394a4ea5b7935b97532a3629",
        "IPY_MODEL_0077f871efb442d488e6daf1aa85f782",
        "IPY_MODEL_ac09a2d816d245b1b4e2206d6f441ef9",
        "IPY_MODEL_87e0fb16f13b41a8a808d9a2ed43a3b7",
        "IPY_MODEL_9322699c6b354233a97a8b61c0ed46a6",
        "IPY_MODEL_95ff717ffd9f4d25be2d9134e4c071c1"
       ],
       "layout": "IPY_MODEL_4191f12f667d4f8ca6c0787bddc7619c"
      }
     },
     "fd71ba3eafa342c6a26823f834be5996": {
      "model_module": "@jupyter-widgets/controls",
      "model_module_version": "1.0.0",
      "model_name": "SliderStyleModel",
      "state": {
       "description_width": ""
      }
     },
     "fd725ccb3b304ee095f66041fb006870": {
      "model_module": "@jupyter-widgets/base",
      "model_module_version": "1.0.0",
      "model_name": "LayoutModel",
      "state": {}
     },
     "fd8137c934a443388ea382aa54339aca": {
      "model_module": "@jupyter-widgets/controls",
      "model_module_version": "1.0.0",
      "model_name": "IntSliderModel",
      "state": {
       "description": "degrees",
       "layout": "IPY_MODEL_c6a7788f85dd48d8b515c7f1dd1182f5",
       "max": 360,
       "min": -360,
       "style": "IPY_MODEL_8a32684ce4bf486cb3a914b93c1a63ec",
       "value": 259
      }
     },
     "fd84cdb996cc4455a58be1a082d33d64": {
      "model_module": "@jupyter-widgets/base",
      "model_module_version": "1.0.0",
      "model_name": "LayoutModel",
      "state": {}
     },
     "fd8923b361584ce9818b2443c511e6e6": {
      "model_module": "@jupyter-widgets/controls",
      "model_module_version": "1.0.0",
      "model_name": "SliderStyleModel",
      "state": {
       "description_width": ""
      }
     },
     "fd89396ce5eb466e89d973f1cb217129": {
      "model_module": "@jupyter-widgets/base",
      "model_module_version": "1.0.0",
      "model_name": "LayoutModel",
      "state": {}
     },
     "fdadf82036e54dedab8373150bed1d18": {
      "model_module": "@jupyter-widgets/controls",
      "model_module_version": "1.0.0",
      "model_name": "DescriptionStyleModel",
      "state": {
       "description_width": ""
      }
     },
     "fdd954413ee64a2cb66f795a557f1350": {
      "model_module": "@jupyter-widgets/controls",
      "model_module_version": "1.0.0",
      "model_name": "SliderStyleModel",
      "state": {
       "description_width": ""
      }
     },
     "fdf2b1be9bf445b5a1c4e757ac5b3c39": {
      "model_module": "@jupyter-widgets/controls",
      "model_module_version": "1.0.0",
      "model_name": "IntSliderModel",
      "state": {
       "description": "w",
       "layout": "IPY_MODEL_a39191e79ab94869bce99b1b46ed065f",
       "max": 300,
       "min": -300,
       "style": "IPY_MODEL_8ec1a5b4ccc949b5bf4f6a161858bbb2",
       "value": 100
      }
     },
     "fe2fed39a8214696815758d627af9200": {
      "model_module": "@jupyter-widgets/controls",
      "model_module_version": "1.0.0",
      "model_name": "IntSliderModel",
      "state": {
       "description": "h",
       "layout": "IPY_MODEL_12ea862f319a46c8aa68afac893f4b87",
       "max": 300,
       "min": -300,
       "style": "IPY_MODEL_f757cfdc6e98470da17519d0b6b10c4f",
       "value": 222
      }
     },
     "fe3bff1ddfa742259d7feae110fec4cc": {
      "model_module": "@jupyter-widgets/base",
      "model_module_version": "1.0.0",
      "model_name": "LayoutModel",
      "state": {}
     },
     "fe75751d16454078b012b8d4221cefab": {
      "model_module": "@jupyter-widgets/controls",
      "model_module_version": "1.0.0",
      "model_name": "DescriptionStyleModel",
      "state": {
       "description_width": ""
      }
     },
     "fea6b3d7744b4a73ab9b5329648375eb": {
      "model_module": "@jupyter-widgets/controls",
      "model_module_version": "1.0.0",
      "model_name": "IntSliderModel",
      "state": {
       "description": "y",
       "layout": "IPY_MODEL_64221c31e8db4368bb08104bb5a81691",
       "min": -100,
       "style": "IPY_MODEL_7d8875bda6b5402284ce4d68d8ddeded",
       "value": 26
      }
     },
     "feafdda46982449a8226a17e3c72aa24": {
      "model_module": "@jupyter-widgets/controls",
      "model_module_version": "1.0.0",
      "model_name": "SliderStyleModel",
      "state": {
       "description_width": ""
      }
     },
     "fec0ed28eaac45e79b9c209f08869788": {
      "model_module": "@jupyter-widgets/controls",
      "model_module_version": "1.0.0",
      "model_name": "IntSliderModel",
      "state": {
       "description": "green",
       "layout": "IPY_MODEL_f36f1cf92ff6498eae08115f63875bd2",
       "max": 255,
       "style": "IPY_MODEL_a5cd14585e15469ea4523aacb8a51489",
       "value": 127
      }
     },
     "fed2b9258bd345278097951a84f4231a": {
      "model_module": "@jupyter-widgets/base",
      "model_module_version": "1.0.0",
      "model_name": "LayoutModel",
      "state": {}
     },
     "fef8ff7b9a6c4028b91961d5fa44ab4a": {
      "model_module": "jp_proxy_widget",
      "model_module_version": "^0.3.4",
      "model_name": "JSProxyModel",
      "state": {
       "_model_module_version": "^0.3.4",
       "_send_counter": 2,
       "_view_module_version": "^0.3.4",
       "error_msg": "No error",
       "layout": "IPY_MODEL_f73c4e2865c144fbb73e11a98f2a8c2c",
       "rendered": true,
       "status": "call back to <function callback_function at 0x103774938>"
      }
     },
     "ff2b85b3af354540b4feffc43c975ae3": {
      "model_module": "@jupyter-widgets/base",
      "model_module_version": "1.0.0",
      "model_name": "LayoutModel",
      "state": {}
     },
     "ff59da232fb842459eb945e86381e6c2": {
      "model_module": "@jupyter-widgets/controls",
      "model_module_version": "1.0.0",
      "model_name": "VBoxModel",
      "state": {
       "children": [
        "IPY_MODEL_548681b9419845498ce0b180b6f43dd2",
        "IPY_MODEL_4f7b2ecb3a2b4fd59ca3e1e006c40469"
       ],
       "layout": "IPY_MODEL_4976f286fcd14d76b5fa92eef53be5a5"
      }
     },
     "ff5bc05f5fb24d5486365803f5ef211b": {
      "model_module": "@jupyter-widgets/base",
      "model_module_version": "1.0.0",
      "model_name": "LayoutModel",
      "state": {}
     },
     "ff6caf81169d4e109b32f9e2487c79b5": {
      "model_module": "@jupyter-widgets/controls",
      "model_module_version": "1.0.0",
      "model_name": "VBoxModel",
      "state": {
       "children": [
        "IPY_MODEL_f5791560a9b6438dacc830569596a3fd",
        "IPY_MODEL_e47f032df6b444b488e74843da63ab7a"
       ],
       "layout": "IPY_MODEL_99d1520b5d1b490d9e68949745c79fbd"
      }
     },
     "ff700983c343484cbb7f6850177ee17f": {
      "model_module": "@jupyter-widgets/base",
      "model_module_version": "1.0.0",
      "model_name": "LayoutModel",
      "state": {}
     },
     "ffceb71bc89f49c5ab790f1587748f36": {
      "model_module": "@jupyter-widgets/base",
      "model_module_version": "1.0.0",
      "model_name": "LayoutModel",
      "state": {}
     },
     "ffcf951c70024c22881e2f0618667e8e": {
      "model_module": "@jupyter-widgets/base",
      "model_module_version": "1.0.0",
      "model_name": "LayoutModel",
      "state": {}
     },
     "ffe61169182049e3a6377207d7c8862c": {
      "model_module": "@jupyter-widgets/base",
      "model_module_version": "1.0.0",
      "model_name": "LayoutModel",
      "state": {}
     },
     "fff9bb4b535947c7bf79a0bea121892c": {
      "model_module": "@jupyter-widgets/base",
      "model_module_version": "1.0.0",
      "model_name": "LayoutModel",
      "state": {}
     }
    },
    "version_major": 2,
    "version_minor": 0
   }
  }
 },
 "nbformat": 4,
 "nbformat_minor": 2
}
