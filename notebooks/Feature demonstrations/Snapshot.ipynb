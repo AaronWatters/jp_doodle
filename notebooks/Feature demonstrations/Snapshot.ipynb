{
 "cells": [
  {
   "cell_type": "markdown",
   "metadata": {
    "deletable": true,
    "editable": true
   },
   "source": [
    " <img src=\"Snapshot.png\" width=\"320\"> \n",
    " \n",
    "# Snapshots\n",
    "\n",
    "The `dual_canvas.SnapshotCanvas` class wraps a dual canvas in\n",
    "a composite widget which creates and displays a snapshot of the\n",
    "drawn canvas.  The snapshot is stored to a specified file path.\n",
    "\n",
    "If you save the widget state for the canvas the snapshot will\n",
    "appear when you reopen the notebook or \"offline\" when viewed\n",
    "using `nbviewer`.\n"
   ]
  },
  {
   "cell_type": "code",
   "execution_count": 1,
   "metadata": {
    "collapsed": false,
    "deletable": true,
    "editable": true
   },
   "outputs": [],
   "source": [
    "from jp_doodle import dual_canvas\n",
    "from IPython.display import display"
   ]
  },
  {
   "cell_type": "code",
   "execution_count": 2,
   "metadata": {
    "collapsed": false,
    "deletable": true,
    "editable": true
   },
   "outputs": [
    {
     "data": {
      "application/vnd.jupyter.widget-view+json": {
       "model_id": "c4147dbc623646fc848d0251d17d1fe1",
       "version_major": 2,
       "version_minor": 0
      },
      "text/html": [
       "<p>Failed to display Jupyter Widget of type <code>Tab</code>.</p>\n",
       "<p>\n",
       "  If you're reading this message in Jupyter Notebook or JupyterLab, it may mean\n",
       "  that the widgets JavaScript is still loading. If this message persists, it\n",
       "  likely means that the widgets JavaScript library is either not installed or\n",
       "  not enabled. See the <a href=\"https://ipywidgets.readthedocs.io/en/stable/user_install.html\">Jupyter\n",
       "  Widgets Documentation</a> for setup instructions.\n",
       "</p>\n",
       "<p>\n",
       "  If you're reading this message in another notebook frontend (for example, a static\n",
       "  rendering on GitHub or <a href=\"https://nbviewer.jupyter.org/\">NBViewer</a>),\n",
       "  it may mean that your frontend doesn't currently support widgets.\n",
       "</p>\n"
      ],
      "text/plain": [
       "Tab(children=(VBox(children=(SnapshotCanvas(status=u'Not yet rendered'), JSProxyWidget(status=u'Not yet rendered'))), HTML(value=u'<img src=\"Snapshot_example.png\" id=\"snapshot_id_1_1535659292212\"/>\\n <div id=\"snapshot_id_2_1535659292212\">Snapshot_example.png</div>')), _titles={u'1': 'Snapshot', u'0': 'Canvas'})"
      ]
     },
     "metadata": {},
     "output_type": "display_data"
    }
   ],
   "source": [
    "# In this demonstration we do most of the work in Javascript.\n",
    "\n",
    "demo = dual_canvas.SnapshotCanvas(\"Snapshot_example.png\", width=320, height=220)\n",
    "\n",
    "demo.display_all()\n",
    "\n",
    "demo.js_init(\"\"\"\n",
    "\n",
    "//element.circle({name: \"full filled\", x:0, y:0, r:20, color:\"green\"});\n",
    "element.circle({name: \"half circle\", x:50, y:0, r:20, color:\"red\",\n",
    "    arc: 2*Math.PI, start: Math.PI});\n",
    "element.circle({name: \"full stroked\", x:0, y:-20, r:20, color:\"cyan\",\n",
    "    fill: false, lineWidth: 5});\n",
    "element.circle({name: \"half stroked transparent\", x:50, y:30, \n",
    "    r:20, color:\"rgba(2,22,222,0.5)\",\n",
    "    fill: false, lineWidth: 10,\n",
    "    arc: Math.PI, start: 3*Math.PI/2});\n",
    "\n",
    "// Fit the figure into the available space\n",
    "element.fit(null, 10);\n",
    "\"\"\")"
   ]
  },
  {
   "cell_type": "markdown",
   "metadata": {
    "deletable": true,
    "editable": true
   },
   "source": [
    "It is possible to display the snapshot, snapshot button, and\n",
    "canvas separately or arranged differently in other composite\n",
    "widgets."
   ]
  },
  {
   "cell_type": "code",
   "execution_count": 7,
   "metadata": {
    "collapsed": true,
    "deletable": true,
    "editable": true
   },
   "outputs": [],
   "source": [
    "\n",
    "demo2 = dual_canvas.SnapshotCanvas(\"Snapshot_example2.png\", width=320, height=220)\n",
    "\n",
    "demo2.js_init(\"\"\"\n",
    "\n",
    "element.text({name: \"full\", x:-20, y:20, \n",
    "    text:\"Cookie\", font: \"40pt Arial\", color:\"#ee3\", background:\"#faf\"});\n",
    "element.text({name: \"rotated\", x:-30, y:-40, text: \"SNAP IT\\u2192\", color:\"#7DD\",\n",
    "    font: \"40pt Times\", degrees: 92});\n",
    "element.circle({name: \"alignment reference\", x:20, y:-10, r:3, color:\"red\"});\n",
    "element.text({name: \"transparent\", x:20, y:-10, text: \"EYES ONLY\",\n",
    "    color:\"rgba(222,111,111,0.4)\", degrees:45, align:\"center\",\n",
    "    valign: \"center\", font: \"30pt Courier\", background: \"rgba(0,0,0,0.05)\"});\n",
    "element.text({name: \"left aligned\", text: \"\\u2190EXIT\", x:20, y:-10, \n",
    "    degrees: -10, align:\"left\", color:\"rgba(200,150,50,0.8)\",\n",
    "    font: \"20pt Arial\"});\n",
    "\n",
    "// Fit the figure into the available space\n",
    "element.fit(null, 10);\n",
    "\"\"\")"
   ]
  },
  {
   "cell_type": "code",
   "execution_count": 8,
   "metadata": {
    "collapsed": false,
    "deletable": true,
    "editable": true
   },
   "outputs": [
    {
     "data": {
      "application/vnd.jupyter.widget-view+json": {
       "model_id": "cff0f92c435e4c509476bef4d55a0461",
       "version_major": 2,
       "version_minor": 0
      },
      "text/html": [
       "<p>Failed to display Jupyter Widget of type <code>HTML</code>.</p>\n",
       "<p>\n",
       "  If you're reading this message in Jupyter Notebook or JupyterLab, it may mean\n",
       "  that the widgets JavaScript is still loading. If this message persists, it\n",
       "  likely means that the widgets JavaScript library is either not installed or\n",
       "  not enabled. See the <a href=\"https://ipywidgets.readthedocs.io/en/stable/user_install.html\">Jupyter\n",
       "  Widgets Documentation</a> for setup instructions.\n",
       "</p>\n",
       "<p>\n",
       "  If you're reading this message in another notebook frontend (for example, a static\n",
       "  rendering on GitHub or <a href=\"https://nbviewer.jupyter.org/\">NBViewer</a>),\n",
       "  it may mean that your frontend doesn't currently support widgets.\n",
       "</p>\n"
      ],
      "text/plain": [
       "HTML(value=u'<img src=\"Snapshot_example2.png\" id=\"snapshot_id_6_1535632416758\"/>\\n <div id=\"snapshot_id_7_1535632416758\">Snapshot_example2.png</div>')"
      ]
     },
     "metadata": {},
     "output_type": "display_data"
    }
   ],
   "source": [
    "# the snapshot\n",
    "display(demo2.snapshot_widget)"
   ]
  },
  {
   "cell_type": "code",
   "execution_count": 9,
   "metadata": {
    "collapsed": false,
    "deletable": true,
    "editable": true
   },
   "outputs": [
    {
     "data": {
      "application/vnd.jupyter.widget-view+json": {
       "model_id": "5be60d5e856248ab91b57618fb793663",
       "version_major": 2,
       "version_minor": 0
      },
      "text/html": [
       "<p>Failed to display Jupyter Widget of type <code>JSProxyWidget</code>.</p>\n",
       "<p>\n",
       "  If you're reading this message in Jupyter Notebook or JupyterLab, it may mean\n",
       "  that the widgets JavaScript is still loading. If this message persists, it\n",
       "  likely means that the widgets JavaScript library is either not installed or\n",
       "  not enabled. See the <a href=\"https://ipywidgets.readthedocs.io/en/stable/user_install.html\">Jupyter\n",
       "  Widgets Documentation</a> for setup instructions.\n",
       "</p>\n",
       "<p>\n",
       "  If you're reading this message in another notebook frontend (for example, a static\n",
       "  rendering on GitHub or <a href=\"https://nbviewer.jupyter.org/\">NBViewer</a>),\n",
       "  it may mean that your frontend doesn't currently support widgets.\n",
       "</p>\n"
      ],
      "text/plain": [
       "JSProxyWidget(status=u'Not yet rendered')"
      ]
     },
     "metadata": {},
     "output_type": "display_data"
    }
   ],
   "source": [
    "display(demo2.snapshot_button())"
   ]
  },
  {
   "cell_type": "code",
   "execution_count": 10,
   "metadata": {
    "collapsed": false,
    "deletable": true,
    "editable": true
   },
   "outputs": [
    {
     "data": {
      "application/vnd.jupyter.widget-view+json": {
       "model_id": "192a52efd1d140d2bc5b86b2b1a1cbfa",
       "version_major": 2,
       "version_minor": 0
      },
      "text/html": [
       "<p>Failed to display Jupyter Widget of type <code>SnapshotCanvas</code>.</p>\n",
       "<p>\n",
       "  If you're reading this message in Jupyter Notebook or JupyterLab, it may mean\n",
       "  that the widgets JavaScript is still loading. If this message persists, it\n",
       "  likely means that the widgets JavaScript library is either not installed or\n",
       "  not enabled. See the <a href=\"https://ipywidgets.readthedocs.io/en/stable/user_install.html\">Jupyter\n",
       "  Widgets Documentation</a> for setup instructions.\n",
       "</p>\n",
       "<p>\n",
       "  If you're reading this message in another notebook frontend (for example, a static\n",
       "  rendering on GitHub or <a href=\"https://nbviewer.jupyter.org/\">NBViewer</a>),\n",
       "  it may mean that your frontend doesn't currently support widgets.\n",
       "</p>\n"
      ],
      "text/plain": [
       "SnapshotCanvas(status=u'Not yet rendered')"
      ]
     },
     "metadata": {},
     "output_type": "display_data"
    }
   ],
   "source": [
    "display(demo2)"
   ]
  },
  {
   "cell_type": "code",
   "execution_count": null,
   "metadata": {
    "collapsed": true,
    "deletable": true,
    "editable": true
   },
   "outputs": [],
   "source": []
  }
 ],
 "metadata": {
  "kernelspec": {
   "display_name": "Python 2",
   "language": "python",
   "name": "python2"
  },
  "language_info": {
   "codemirror_mode": {
    "name": "ipython",
    "version": 2
   },
   "file_extension": ".py",
   "mimetype": "text/x-python",
   "name": "python",
   "nbconvert_exporter": "python",
   "pygments_lexer": "ipython2",
   "version": "2.7.13"
  },
  "widgets": {
   "application/vnd.jupyter.widget-state+json": {
    "state": {
     "05153df140bb4cb9a41a0d04de723267": {
      "model_module": "@jupyter-widgets/base",
      "model_module_version": "1.0.0",
      "model_name": "LayoutModel",
      "state": {}
     },
     "05cbd93d51f1444eb5d4ae45c688f59c": {
      "model_module": "@jupyter-widgets/controls",
      "model_module_version": "1.0.0",
      "model_name": "VBoxModel",
      "state": {
       "children": [
        "IPY_MODEL_6b590c8f1c774d8680809b7760aa944f",
        "IPY_MODEL_80ce4a6d628244f1aa782b8dd5aed2eb"
       ],
       "layout": "IPY_MODEL_05153df140bb4cb9a41a0d04de723267"
      }
     },
     "06931729e4dc482eb88325bd1c5622ec": {
      "model_module": "@jupyter-widgets/controls",
      "model_module_version": "1.0.0",
      "model_name": "TabModel",
      "state": {
       "_titles": {
        "0": "Canvas",
        "1": "Snapshot"
       },
       "children": [
        "IPY_MODEL_b0cb580e1c964cacb9a6434a6ab389cf",
        "IPY_MODEL_0f14131ba11c42638b9f085e1e79f925"
       ],
       "layout": "IPY_MODEL_affee527c86a425da53d3a964472c70b"
      }
     },
     "07433764211b4b47b538d394faf8eb68": {
      "model_module": "jp_proxy_widget",
      "model_module_version": "^0.3.3",
      "model_name": "JSProxyModel",
      "state": {
       "_model_module_version": "^0.3.3",
       "_send_counter": 8,
       "_view_module_version": "^0.3.3",
       "error_msg": "No error",
       "layout": "IPY_MODEL_b17041e30264480face42ccedbc4254c",
       "rendered": true,
       "status": "Got results."
      }
     },
     "07f691204361423d8feca8dd26fda049": {
      "model_module": "jp_proxy_widget",
      "model_module_version": "^0.3.3",
      "model_name": "JSProxyModel",
      "state": {
       "_model_module_version": "^0.3.3",
       "_send_counter": 8,
       "_view_module_version": "^0.3.3",
       "error_msg": "No error",
       "layout": "IPY_MODEL_26d3861d97f74a0fa0fb44ef5fedf02d",
       "rendered": false,
       "status": "Not yet rendered"
      }
     },
     "09aafd7676634ab79c14029365cf263d": {
      "model_module": "@jupyter-widgets/base",
      "model_module_version": "1.0.0",
      "model_name": "LayoutModel",
      "state": {}
     },
     "0f14131ba11c42638b9f085e1e79f925": {
      "model_module": "@jupyter-widgets/controls",
      "model_module_version": "1.0.0",
      "model_name": "HTMLModel",
      "state": {
       "layout": "IPY_MODEL_ada4530e83b64ac6a851deeb05460a3a",
       "style": "IPY_MODEL_34624b6c52a6474998dec9593d63aca7",
       "value": "<img src=\"snapshot_test0.png\" id=\"snapshot_id_1_1535552600751\"/>"
      }
     },
     "10081e6bfc934f2e98bbe47a1617f116": {
      "model_module": "@jupyter-widgets/controls",
      "model_module_version": "1.0.0",
      "model_name": "VBoxModel",
      "state": {
       "children": [
        "IPY_MODEL_07433764211b4b47b538d394faf8eb68",
        "IPY_MODEL_b950ce70e65d488ca753577b5a32e4b9"
       ],
       "layout": "IPY_MODEL_44fa97e0012c4aa8afe73032c3cbcaff"
      }
     },
     "104baf81c69f4182acaaf33056a18aa1": {
      "model_module": "@jupyter-widgets/base",
      "model_module_version": "1.0.0",
      "model_name": "LayoutModel",
      "state": {}
     },
     "192a52efd1d140d2bc5b86b2b1a1cbfa": {
      "model_module": "jp_proxy_widget",
      "model_module_version": "^0.3.3",
      "model_name": "JSProxyModel",
      "state": {
       "_model_module_version": "^0.3.3",
       "_send_counter": 8,
       "_view_module_version": "^0.3.3",
       "error_msg": "No error",
       "layout": "IPY_MODEL_f7e794f53fbe4e8d8a95aef2220c9605",
       "rendered": true,
       "status": "Got results."
      }
     },
     "1a45aa21c5444d31a5809e8f35857069": {
      "model_module": "@jupyter-widgets/base",
      "model_module_version": "1.0.0",
      "model_name": "LayoutModel",
      "state": {}
     },
     "1b52691e81134c30bb777d3171e33d43": {
      "model_module": "@jupyter-widgets/base",
      "model_module_version": "1.0.0",
      "model_name": "LayoutModel",
      "state": {}
     },
     "1b8492aee2de4f9f915bd6ffa9b944ba": {
      "model_module": "jp_proxy_widget",
      "model_module_version": "^0.3.4",
      "model_name": "JSProxyModel",
      "state": {
       "_model_module_version": "^0.3.4",
       "_send_counter": 17,
       "_view_module_version": "^0.3.4",
       "error_msg": "No error",
       "layout": "IPY_MODEL_f303c5156d0a47d695739f74b170d267",
       "rendered": true,
       "status": "Got results."
      }
     },
     "1cffe7822e7b4d0cb92022016bac6e1c": {
      "model_module": "@jupyter-widgets/base",
      "model_module_version": "1.0.0",
      "model_name": "LayoutModel",
      "state": {}
     },
     "1d1740d94ab446c1b4a25d61b52d927e": {
      "model_module": "@jupyter-widgets/controls",
      "model_module_version": "1.0.0",
      "model_name": "HTMLModel",
      "state": {
       "layout": "IPY_MODEL_c81f27175863451981f44ed8d5d42664",
       "style": "IPY_MODEL_5ab7207348804243a6fc4243d9a6eb2e",
       "value": "<img src=\"snapshot_test2.png\" id=\"snapshot_id_1_1535553870703\"/>\n <div id=\"snapshot_id_2_1535553870703\">snapshot_test2.png</div>"
      }
     },
     "22e6b46829b146fabfb12a3671b9e5ce": {
      "model_module": "@jupyter-widgets/controls",
      "model_module_version": "1.0.0",
      "model_name": "DescriptionStyleModel",
      "state": {
       "description_width": ""
      }
     },
     "232ccd0ad99a4dfba9829139b2460b19": {
      "model_module": "@jupyter-widgets/base",
      "model_module_version": "1.0.0",
      "model_name": "LayoutModel",
      "state": {}
     },
     "236ff67b30cc4fa1897b4aba34526527": {
      "model_module": "@jupyter-widgets/base",
      "model_module_version": "1.0.0",
      "model_name": "LayoutModel",
      "state": {}
     },
     "26d3861d97f74a0fa0fb44ef5fedf02d": {
      "model_module": "@jupyter-widgets/base",
      "model_module_version": "1.0.0",
      "model_name": "LayoutModel",
      "state": {}
     },
     "27556a9195fe47fe922fc389c2045f7c": {
      "model_module": "@jupyter-widgets/controls",
      "model_module_version": "1.0.0",
      "model_name": "HTMLModel",
      "state": {
       "layout": "IPY_MODEL_a5114c09f14e430b91d06d1fb6b7f239",
       "style": "IPY_MODEL_b10626c8914a48d3bba9a2eabc614596",
       "value": "<img src=\"snapshot_test1.png\" id=\"snapshot_id_1_1535552902783\"/>"
      }
     },
     "27803237519c489f917935eff78207ea": {
      "model_module": "@jupyter-widgets/base",
      "model_module_version": "1.0.0",
      "model_name": "LayoutModel",
      "state": {}
     },
     "294629f9f4284dfc932b84e575ad46b3": {
      "model_module": "@jupyter-widgets/controls",
      "model_module_version": "1.0.0",
      "model_name": "DescriptionStyleModel",
      "state": {
       "description_width": ""
      }
     },
     "2a528fa0affa472aa794402f81bc8db6": {
      "model_module": "@jupyter-widgets/base",
      "model_module_version": "1.0.0",
      "model_name": "LayoutModel",
      "state": {}
     },
     "2ac8cae258d24d629905944f52bc16ca": {
      "model_module": "jp_proxy_widget",
      "model_module_version": "^0.3.3",
      "model_name": "JSProxyModel",
      "state": {
       "_model_module_version": "^0.3.3",
       "_send_counter": 2,
       "_view_module_version": "^0.3.3",
       "error_msg": "No error",
       "layout": "IPY_MODEL_eada697026e34d1389efda3abc70bc13",
       "rendered": true,
       "status": "call back to <function callback_function at 0x105bc6f50>"
      }
     },
     "33ed0907860f432f905b10e428486e19": {
      "model_module": "@jupyter-widgets/base",
      "model_module_version": "1.0.0",
      "model_name": "LayoutModel",
      "state": {}
     },
     "34624b6c52a6474998dec9593d63aca7": {
      "model_module": "@jupyter-widgets/controls",
      "model_module_version": "1.0.0",
      "model_name": "DescriptionStyleModel",
      "state": {
       "description_width": ""
      }
     },
     "351cbde4cf674569928254f68d93f475": {
      "model_module": "jp_proxy_widget",
      "model_module_version": "^0.3.3",
      "model_name": "JSProxyModel",
      "state": {
       "_model_module_version": "^0.3.3",
       "_send_counter": 10,
       "_view_module_version": "^0.3.3",
       "error_msg": "No error",
       "layout": "IPY_MODEL_ab5c34b6f09d458c990fb5e0cb3c096d",
       "rendered": true,
       "status": "Got results."
      }
     },
     "352f2b8a876b43cead115bfdf8076c3b": {
      "model_module": "jp_proxy_widget",
      "model_module_version": "^0.3.3",
      "model_name": "JSProxyModel",
      "state": {
       "_model_module_version": "^0.3.3",
       "_send_counter": 10,
       "_view_module_version": "^0.3.3",
       "error_msg": "No error",
       "layout": "IPY_MODEL_27803237519c489f917935eff78207ea",
       "rendered": true,
       "status": "Got results."
      }
     },
     "357dd3f0fc0c45cc8cdd339ffcb98a8f": {
      "model_module": "@jupyter-widgets/controls",
      "model_module_version": "1.0.0",
      "model_name": "HTMLModel",
      "state": {
       "layout": "IPY_MODEL_56ed8ffc78a040e5af74154ee30c7098",
       "style": "IPY_MODEL_ac126df4e33042438e712043edca04e2",
       "value": "<img src=\"Snapshot_example2.png\" id=\"snapshot_id_3_1535632119295\"/>\n <div id=\"snapshot_id_4_1535632119295\">Snapshot_example2.png</div>"
      }
     },
     "35ea54a28b3c4f3288a9df40db027682": {
      "model_module": "@jupyter-widgets/controls",
      "model_module_version": "1.0.0",
      "model_name": "TabModel",
      "state": {
       "_titles": {
        "0": "Canvas",
        "1": "Snapshot"
       },
       "children": [
        "IPY_MODEL_98e330c21ead4b6685107405d5311e5a",
        "IPY_MODEL_58bf3fd8aaad430ab7494d882a8189a1"
       ],
       "layout": "IPY_MODEL_6a7715aeb64a47b1b9159b34d5f6b96c"
      }
     },
     "386eedb6bfb8474eacfeed828cb81783": {
      "model_module": "@jupyter-widgets/base",
      "model_module_version": "1.0.0",
      "model_name": "LayoutModel",
      "state": {}
     },
     "38bc05d002644affafbc9e19b26cf318": {
      "model_module": "jp_proxy_widget",
      "model_module_version": "^0.3.3",
      "model_name": "JSProxyModel",
      "state": {
       "_model_module_version": "^0.3.3",
       "_send_counter": 2,
       "_view_module_version": "^0.3.3",
       "error_msg": "No error",
       "layout": "IPY_MODEL_571e6fad98fb4c9186da05170df1e2c5",
       "rendered": true,
       "status": "Got results."
      }
     },
     "39d6d529e0364077881c5a9a10476ab1": {
      "model_module": "@jupyter-widgets/base",
      "model_module_version": "1.0.0",
      "model_name": "LayoutModel",
      "state": {}
     },
     "3a10dcdbe6e64629a10197e29b9d72a8": {
      "model_module": "@jupyter-widgets/base",
      "model_module_version": "1.0.0",
      "model_name": "LayoutModel",
      "state": {}
     },
     "3af748b752c54a96b8253eacd3382a46": {
      "model_module": "@jupyter-widgets/controls",
      "model_module_version": "1.0.0",
      "model_name": "HTMLModel",
      "state": {
       "layout": "IPY_MODEL_a046d80a870c4766bbdd510013385fe8",
       "style": "IPY_MODEL_757214da8efe4ff9b9396c0c6280435e",
       "value": "<img src=\"snapshot_test0.png\" id=\"snapshot_id_1_1535552575115\"/>"
      }
     },
     "3ca93a8c353c44229a30ceada7cf6150": {
      "model_module": "@jupyter-widgets/base",
      "model_module_version": "1.0.0",
      "model_name": "LayoutModel",
      "state": {}
     },
     "3cf9ae41f1064db2a329e54685f95697": {
      "model_module": "@jupyter-widgets/base",
      "model_module_version": "1.0.0",
      "model_name": "LayoutModel",
      "state": {}
     },
     "3e5c4d26d60b44da85163382ffb7ab55": {
      "model_module": "@jupyter-widgets/base",
      "model_module_version": "1.0.0",
      "model_name": "LayoutModel",
      "state": {}
     },
     "3f8a0a6f5f2b496abbd4cf97865ebdf3": {
      "model_module": "jp_proxy_widget",
      "model_module_version": "^0.3.3",
      "model_name": "JSProxyModel",
      "state": {
       "_model_module_version": "^0.3.3",
       "_send_counter": 2,
       "_view_module_version": "^0.3.3",
       "error_msg": "No error",
       "layout": "IPY_MODEL_a5004a591eaf44baa280ef24154847c3",
       "rendered": true,
       "status": "call back to <function callback_function at 0x10c4220c8>"
      }
     },
     "41e3376b93194b42ab7fa2feca3c940a": {
      "model_module": "@jupyter-widgets/controls",
      "model_module_version": "1.0.0",
      "model_name": "TabModel",
      "state": {
       "_titles": {
        "0": "Canvas",
        "1": "Snapshot"
       },
       "children": [
        "IPY_MODEL_bfc6c0247b3b4d468fb2c8bc39c7e779",
        "IPY_MODEL_5b94728c8fec409cacbee4cef99d97b3"
       ],
       "layout": "IPY_MODEL_8db46b6726864a54aed35774ec8bef8b",
       "selected_index": 1
      }
     },
     "42b32e4447b34c9eb7d8f85a3e442b63": {
      "model_module": "@jupyter-widgets/controls",
      "model_module_version": "1.0.0",
      "model_name": "TabModel",
      "state": {
       "_titles": {
        "0": "Canvas",
        "1": "Snapshot"
       },
       "children": [
        "IPY_MODEL_bf388252f6344432949ad5bc03eec426",
        "IPY_MODEL_1d1740d94ab446c1b4a25d61b52d927e"
       ],
       "layout": "IPY_MODEL_90e57c1660424f27a279ec41008e55c4",
       "selected_index": 1
      }
     },
     "44fa97e0012c4aa8afe73032c3cbcaff": {
      "model_module": "@jupyter-widgets/base",
      "model_module_version": "1.0.0",
      "model_name": "LayoutModel",
      "state": {}
     },
     "4a367246b5d74b5194dfb517716d6ed2": {
      "model_module": "@jupyter-widgets/base",
      "model_module_version": "1.0.0",
      "model_name": "LayoutModel",
      "state": {}
     },
     "4b2a6aa14eae4b5b8aa4e1ee374a5f01": {
      "model_module": "@jupyter-widgets/base",
      "model_module_version": "1.0.0",
      "model_name": "LayoutModel",
      "state": {}
     },
     "4f3bafea272e48dcb990a6d9feafedd9": {
      "model_module": "@jupyter-widgets/base",
      "model_module_version": "1.0.0",
      "model_name": "LayoutModel",
      "state": {}
     },
     "5643fe8553d94cbeb480a785478552ab": {
      "model_module": "@jupyter-widgets/base",
      "model_module_version": "1.0.0",
      "model_name": "LayoutModel",
      "state": {}
     },
     "56ed8ffc78a040e5af74154ee30c7098": {
      "model_module": "@jupyter-widgets/base",
      "model_module_version": "1.0.0",
      "model_name": "LayoutModel",
      "state": {}
     },
     "571e6fad98fb4c9186da05170df1e2c5": {
      "model_module": "@jupyter-widgets/base",
      "model_module_version": "1.0.0",
      "model_name": "LayoutModel",
      "state": {}
     },
     "58bf3fd8aaad430ab7494d882a8189a1": {
      "model_module": "@jupyter-widgets/controls",
      "model_module_version": "1.0.0",
      "model_name": "HTMLModel",
      "state": {
       "layout": "IPY_MODEL_88775366aa12477fbd1104fe2741dcd9",
       "style": "IPY_MODEL_22e6b46829b146fabfb12a3671b9e5ce",
       "value": "<img src=\"snapshot_test0.png\" id=\"snapshot_id_1_1535552852624\"/>"
      }
     },
     "591c2d7d94c0488992ef30dd7a4d48db": {
      "model_module": "@jupyter-widgets/controls",
      "model_module_version": "1.0.0",
      "model_name": "DescriptionStyleModel",
      "state": {
       "description_width": ""
      }
     },
     "5984567edb774826b757ca36442dd6f1": {
      "model_module": "@jupyter-widgets/base",
      "model_module_version": "1.0.0",
      "model_name": "LayoutModel",
      "state": {}
     },
     "5a9067bca34c4d9caea0121e7eea2306": {
      "model_module": "jp_proxy_widget",
      "model_module_version": "^0.3.3",
      "model_name": "JSProxyModel",
      "state": {
       "_model_module_version": "^0.3.3",
       "_send_counter": 15,
       "_view_module_version": "^0.3.3",
       "error_msg": "AttributeError(\"'NoneType' object has no attribute 'selected_index'\",)",
       "layout": "IPY_MODEL_33ed0907860f432f905b10e428486e19",
       "rendered": true,
       "status": "Got results."
      }
     },
     "5ab7207348804243a6fc4243d9a6eb2e": {
      "model_module": "@jupyter-widgets/controls",
      "model_module_version": "1.0.0",
      "model_name": "DescriptionStyleModel",
      "state": {
       "description_width": ""
      }
     },
     "5b54749a71aa4315b8a6894da7d2c7a1": {
      "model_module": "@jupyter-widgets/base",
      "model_module_version": "1.0.0",
      "model_name": "LayoutModel",
      "state": {}
     },
     "5b94728c8fec409cacbee4cef99d97b3": {
      "model_module": "@jupyter-widgets/controls",
      "model_module_version": "1.0.0",
      "model_name": "HTMLModel",
      "state": {
       "layout": "IPY_MODEL_236ff67b30cc4fa1897b4aba34526527",
       "style": "IPY_MODEL_f4f88a7b53fe4b6a89ed2e75153f93ef",
       "value": "<img src=\"Snapshot_example.png\" id=\"snapshot_id_1_1535631929143\"/>\n <div id=\"snapshot_id_2_1535631929143\">Snapshot_example.png</div>"
      }
     },
     "5be60d5e856248ab91b57618fb793663": {
      "model_module": "jp_proxy_widget",
      "model_module_version": "^0.3.3",
      "model_name": "JSProxyModel",
      "state": {
       "_model_module_version": "^0.3.3",
       "_send_counter": 2,
       "_view_module_version": "^0.3.3",
       "error_msg": "No error",
       "layout": "IPY_MODEL_5984567edb774826b757ca36442dd6f1",
       "rendered": true,
       "status": "Got results."
      }
     },
     "5d98869e3626488d84804069dd1c576d": {
      "model_module": "@jupyter-widgets/controls",
      "model_module_version": "1.0.0",
      "model_name": "HTMLModel",
      "state": {
       "layout": "IPY_MODEL_ce39da1c36484b52bcf5ff9a01bef46b",
       "style": "IPY_MODEL_e78216bbd852479884600b8db9b89da1",
       "value": "<img src=\"snapshot_test2.png\" id=\"snapshot_id_3_1535553731312\"/>\n <div id=\"snapshot_id_4_1535553731312\">snapshot_test2.png</div>"
      }
     },
     "5fd726b5696a484f96eaa6a471347f6b": {
      "model_module": "jp_proxy_widget",
      "model_module_version": "^0.3.3",
      "model_name": "JSProxyModel",
      "state": {
       "_model_module_version": "^0.3.3",
       "_send_counter": 2,
       "_view_module_version": "^0.3.3",
       "error_msg": "No error",
       "layout": "IPY_MODEL_1b52691e81134c30bb777d3171e33d43",
       "rendered": true,
       "status": "Got results."
      }
     },
     "61fd968c2eac469198c15300b2ea088f": {
      "model_module": "@jupyter-widgets/base",
      "model_module_version": "1.0.0",
      "model_name": "LayoutModel",
      "state": {}
     },
     "62280f0815ea44c4bd6c6bc7c088a131": {
      "model_module": "@jupyter-widgets/controls",
      "model_module_version": "1.0.0",
      "model_name": "DescriptionStyleModel",
      "state": {
       "description_width": ""
      }
     },
     "6a7715aeb64a47b1b9159b34d5f6b96c": {
      "model_module": "@jupyter-widgets/base",
      "model_module_version": "1.0.0",
      "model_name": "LayoutModel",
      "state": {}
     },
     "6b590c8f1c774d8680809b7760aa944f": {
      "model_module": "jp_proxy_widget",
      "model_module_version": "^0.3.3",
      "model_name": "JSProxyModel",
      "state": {
       "_model_module_version": "^0.3.3",
       "_send_counter": 6,
       "_view_module_version": "^0.3.3",
       "error_msg": "No error",
       "layout": "IPY_MODEL_6fa3c3937a67491cacf7dae7a1237480",
       "rendered": false,
       "status": "Not yet rendered"
      }
     },
     "6b7fe774405b49d9936a8c93ad171b91": {
      "model_module": "@jupyter-widgets/base",
      "model_module_version": "1.0.0",
      "model_name": "LayoutModel",
      "state": {}
     },
     "6ebbd6a8465042a3badd8d1c9288be83": {
      "model_module": "@jupyter-widgets/base",
      "model_module_version": "1.0.0",
      "model_name": "LayoutModel",
      "state": {}
     },
     "6f7ea1c74b244d71ae760f79c4db84d4": {
      "model_module": "@jupyter-widgets/base",
      "model_module_version": "1.0.0",
      "model_name": "LayoutModel",
      "state": {}
     },
     "6fa3c3937a67491cacf7dae7a1237480": {
      "model_module": "@jupyter-widgets/base",
      "model_module_version": "1.0.0",
      "model_name": "LayoutModel",
      "state": {}
     },
     "757214da8efe4ff9b9396c0c6280435e": {
      "model_module": "@jupyter-widgets/controls",
      "model_module_version": "1.0.0",
      "model_name": "DescriptionStyleModel",
      "state": {
       "description_width": ""
      }
     },
     "7b73ba6c42374c6c809ffa0f9b5e819a": {
      "model_module": "@jupyter-widgets/base",
      "model_module_version": "1.0.0",
      "model_name": "LayoutModel",
      "state": {}
     },
     "7d7682b136de480ea6e1500386e6824d": {
      "model_module": "jp_proxy_widget",
      "model_module_version": "^0.3.3",
      "model_name": "JSProxyModel",
      "state": {
       "_model_module_version": "^0.3.3",
       "_send_counter": 8,
       "_view_module_version": "^0.3.3",
       "error_msg": "No error",
       "layout": "IPY_MODEL_4a367246b5d74b5194dfb517716d6ed2",
       "rendered": true,
       "status": "Got results."
      }
     },
     "7f03f2746e3942b4941c4f30cf753a0d": {
      "model_module": "@jupyter-widgets/base",
      "model_module_version": "1.0.0",
      "model_name": "LayoutModel",
      "state": {}
     },
     "80933352b60446bc909538e1f57edda4": {
      "model_module": "@jupyter-widgets/base",
      "model_module_version": "1.0.0",
      "model_name": "LayoutModel",
      "state": {}
     },
     "80a8782eba1b4b8a83dad822fae55b89": {
      "model_module": "@jupyter-widgets/base",
      "model_module_version": "1.0.0",
      "model_name": "LayoutModel",
      "state": {}
     },
     "80ce4a6d628244f1aa782b8dd5aed2eb": {
      "model_module": "jp_proxy_widget",
      "model_module_version": "^0.3.3",
      "model_name": "JSProxyModel",
      "state": {
       "_model_module_version": "^0.3.3",
       "_send_counter": 2,
       "_view_module_version": "^0.3.3",
       "error_msg": "No error",
       "layout": "IPY_MODEL_6b7fe774405b49d9936a8c93ad171b91",
       "rendered": false,
       "status": "Not yet rendered"
      }
     },
     "8523a1b195a943da9d3076535a4ebe6d": {
      "model_module": "@jupyter-widgets/controls",
      "model_module_version": "1.0.0",
      "model_name": "VBoxModel",
      "state": {
       "children": [
        "IPY_MODEL_c62351d09c4845d682ae055c3a6b87e0",
        "IPY_MODEL_9563e52b0359422aa9ddc5a3ba7cd87f"
       ],
       "layout": "IPY_MODEL_6f7ea1c74b244d71ae760f79c4db84d4"
      }
     },
     "88775366aa12477fbd1104fe2741dcd9": {
      "model_module": "@jupyter-widgets/base",
      "model_module_version": "1.0.0",
      "model_name": "LayoutModel",
      "state": {}
     },
     "8db46b6726864a54aed35774ec8bef8b": {
      "model_module": "@jupyter-widgets/base",
      "model_module_version": "1.0.0",
      "model_name": "LayoutModel",
      "state": {}
     },
     "90c89161e1e341f6969145ea843fc810": {
      "model_module": "@jupyter-widgets/controls",
      "model_module_version": "1.0.0",
      "model_name": "VBoxModel",
      "state": {
       "children": [
        "IPY_MODEL_1b8492aee2de4f9f915bd6ffa9b944ba",
        "IPY_MODEL_ca82320c2a184001b15b4dfaead5badd"
       ],
       "layout": "IPY_MODEL_1cffe7822e7b4d0cb92022016bac6e1c"
      }
     },
     "90e57c1660424f27a279ec41008e55c4": {
      "model_module": "@jupyter-widgets/base",
      "model_module_version": "1.0.0",
      "model_name": "LayoutModel",
      "state": {}
     },
     "916e855fd4b94903a93bf1c37fd72e87": {
      "model_module": "@jupyter-widgets/controls",
      "model_module_version": "1.0.0",
      "model_name": "HTMLModel",
      "state": {
       "layout": "IPY_MODEL_3ca93a8c353c44229a30ceada7cf6150",
       "style": "IPY_MODEL_591c2d7d94c0488992ef30dd7a4d48db",
       "value": "<img src=\"Snapshot_example.png\" id=\"snapshot_id_4_1535554084451\"/>\n <div id=\"snapshot_id_5_1535554084451\">Snapshot_example.png</div>"
      }
     },
     "94dbc466597645f6b331b50a09dbe670": {
      "model_module": "@jupyter-widgets/base",
      "model_module_version": "1.0.0",
      "model_name": "LayoutModel",
      "state": {}
     },
     "9563e52b0359422aa9ddc5a3ba7cd87f": {
      "model_module": "jp_proxy_widget",
      "model_module_version": "^0.3.3",
      "model_name": "JSProxyModel",
      "state": {
       "_model_module_version": "^0.3.3",
       "_send_counter": 2,
       "_view_module_version": "^0.3.3",
       "error_msg": "No error",
       "layout": "IPY_MODEL_3e5c4d26d60b44da85163382ffb7ab55",
       "rendered": true,
       "status": "call back to <function callback_function at 0x1096cb5f0>"
      }
     },
     "96818bd27da842ca893b93dc42f7c703": {
      "model_module": "@jupyter-widgets/base",
      "model_module_version": "1.0.0",
      "model_name": "LayoutModel",
      "state": {}
     },
     "98e330c21ead4b6685107405d5311e5a": {
      "model_module": "@jupyter-widgets/controls",
      "model_module_version": "1.0.0",
      "model_name": "VBoxModel",
      "state": {
       "children": [
        "IPY_MODEL_7d7682b136de480ea6e1500386e6824d",
        "IPY_MODEL_38bc05d002644affafbc9e19b26cf318"
       ],
       "layout": "IPY_MODEL_386eedb6bfb8474eacfeed828cb81783"
      }
     },
     "9a2b2ba0de114dc88da53b57d4332122": {
      "model_module": "@jupyter-widgets/base",
      "model_module_version": "1.0.0",
      "model_name": "LayoutModel",
      "state": {}
     },
     "9d83e1c2bba8497d814b57b10accf8a7": {
      "model_module": "@jupyter-widgets/controls",
      "model_module_version": "1.0.0",
      "model_name": "VBoxModel",
      "state": {
       "children": [
        "IPY_MODEL_d1d3f075fbe844119347b2025b096909",
        "IPY_MODEL_3f8a0a6f5f2b496abbd4cf97865ebdf3"
       ],
       "layout": "IPY_MODEL_6ebbd6a8465042a3badd8d1c9288be83"
      }
     },
     "a046d80a870c4766bbdd510013385fe8": {
      "model_module": "@jupyter-widgets/base",
      "model_module_version": "1.0.0",
      "model_name": "LayoutModel",
      "state": {}
     },
     "a1b1649704a1410bbb1c75e8bdbeba0a": {
      "model_module": "@jupyter-widgets/controls",
      "model_module_version": "1.0.0",
      "model_name": "TabModel",
      "state": {
       "_titles": {
        "0": "Canvas",
        "1": "Snapshot"
       },
       "children": [
        "IPY_MODEL_8523a1b195a943da9d3076535a4ebe6d",
        "IPY_MODEL_27556a9195fe47fe922fc389c2045f7c"
       ],
       "layout": "IPY_MODEL_f0d1a421e8d3403f9ef192588caf17db",
       "selected_index": 1
      }
     },
     "a229f2bd1262474f821d8f4680b396ac": {
      "model_module": "jp_proxy_widget",
      "model_module_version": "^0.3.3",
      "model_name": "JSProxyModel",
      "state": {
       "_model_module_version": "^0.3.3",
       "_send_counter": 2,
       "_view_module_version": "^0.3.3",
       "error_msg": "No error",
       "layout": "IPY_MODEL_4f3bafea272e48dcb990a6d9feafedd9",
       "rendered": true,
       "status": "Got results."
      }
     },
     "a5004a591eaf44baa280ef24154847c3": {
      "model_module": "@jupyter-widgets/base",
      "model_module_version": "1.0.0",
      "model_name": "LayoutModel",
      "state": {}
     },
     "a5114c09f14e430b91d06d1fb6b7f239": {
      "model_module": "@jupyter-widgets/base",
      "model_module_version": "1.0.0",
      "model_name": "LayoutModel",
      "state": {}
     },
     "ab5c34b6f09d458c990fb5e0cb3c096d": {
      "model_module": "@jupyter-widgets/base",
      "model_module_version": "1.0.0",
      "model_name": "LayoutModel",
      "state": {}
     },
     "ac126df4e33042438e712043edca04e2": {
      "model_module": "@jupyter-widgets/controls",
      "model_module_version": "1.0.0",
      "model_name": "DescriptionStyleModel",
      "state": {
       "description_width": ""
      }
     },
     "acb6730ab9e84ec38e2a3d4a8e6c8f82": {
      "model_module": "@jupyter-widgets/base",
      "model_module_version": "1.0.0",
      "model_name": "LayoutModel",
      "state": {}
     },
     "ad37ab457c4f4d578337b1ce0e4cdd79": {
      "model_module": "@jupyter-widgets/base",
      "model_module_version": "1.0.0",
      "model_name": "LayoutModel",
      "state": {}
     },
     "ada4530e83b64ac6a851deeb05460a3a": {
      "model_module": "@jupyter-widgets/base",
      "model_module_version": "1.0.0",
      "model_name": "LayoutModel",
      "state": {}
     },
     "affee527c86a425da53d3a964472c70b": {
      "model_module": "@jupyter-widgets/base",
      "model_module_version": "1.0.0",
      "model_name": "LayoutModel",
      "state": {}
     },
     "b0cb580e1c964cacb9a6434a6ab389cf": {
      "model_module": "@jupyter-widgets/controls",
      "model_module_version": "1.0.0",
      "model_name": "VBoxModel",
      "state": {
       "children": [
        "IPY_MODEL_07f691204361423d8feca8dd26fda049",
        "IPY_MODEL_bfb783a8fd694f8fa4f9ec00463de5c3"
       ],
       "layout": "IPY_MODEL_232ccd0ad99a4dfba9829139b2460b19"
      }
     },
     "b10626c8914a48d3bba9a2eabc614596": {
      "model_module": "@jupyter-widgets/controls",
      "model_module_version": "1.0.0",
      "model_name": "DescriptionStyleModel",
      "state": {
       "description_width": ""
      }
     },
     "b17041e30264480face42ccedbc4254c": {
      "model_module": "@jupyter-widgets/base",
      "model_module_version": "1.0.0",
      "model_name": "LayoutModel",
      "state": {}
     },
     "b5e58b0d0ce8405dafbeb334f23491f5": {
      "model_module": "@jupyter-widgets/base",
      "model_module_version": "1.0.0",
      "model_name": "LayoutModel",
      "state": {}
     },
     "b67e67d2dcf74886a1a464cca2fad9c4": {
      "model_module": "@jupyter-widgets/controls",
      "model_module_version": "1.0.0",
      "model_name": "TabModel",
      "state": {
       "_titles": {
        "0": "Canvas",
        "1": "Snapshot"
       },
       "children": [
        "IPY_MODEL_d586a1e558834103b019869d49ed9f61",
        "IPY_MODEL_5d98869e3626488d84804069dd1c576d"
       ],
       "layout": "IPY_MODEL_09aafd7676634ab79c14029365cf263d",
       "selected_index": 1
      }
     },
     "b950ce70e65d488ca753577b5a32e4b9": {
      "model_module": "jp_proxy_widget",
      "model_module_version": "^0.3.3",
      "model_name": "JSProxyModel",
      "state": {
       "_model_module_version": "^0.3.3",
       "_send_counter": 2,
       "_view_module_version": "^0.3.3",
       "error_msg": "No error",
       "layout": "IPY_MODEL_39d6d529e0364077881c5a9a10476ab1",
       "rendered": true,
       "status": "Got results."
      }
     },
     "bc8f7d5388f74d05a39dc2f7768682f2": {
      "model_module": "@jupyter-widgets/controls",
      "model_module_version": "1.0.0",
      "model_name": "HTMLModel",
      "state": {
       "layout": "IPY_MODEL_5b54749a71aa4315b8a6894da7d2c7a1",
       "style": "IPY_MODEL_ece84f7b0e9849f9bed434b666dd2943",
       "value": "<img src=\"Snapshot_example.png\" id=\"snapshot_id_1_1535659292212\"/>\n <div id=\"snapshot_id_2_1535659292212\">Snapshot_example.png</div>"
      }
     },
     "bf388252f6344432949ad5bc03eec426": {
      "model_module": "@jupyter-widgets/controls",
      "model_module_version": "1.0.0",
      "model_name": "VBoxModel",
      "state": {
       "children": [
        "IPY_MODEL_e8cdba1a9ed94388a81292e97ccd5107",
        "IPY_MODEL_d89eb6c674864d51aaa94761434a204a"
       ],
       "layout": "IPY_MODEL_94dbc466597645f6b331b50a09dbe670"
      }
     },
     "bfb783a8fd694f8fa4f9ec00463de5c3": {
      "model_module": "jp_proxy_widget",
      "model_module_version": "^0.3.3",
      "model_name": "JSProxyModel",
      "state": {
       "_model_module_version": "^0.3.3",
       "_send_counter": 2,
       "_view_module_version": "^0.3.3",
       "error_msg": "No error",
       "layout": "IPY_MODEL_96818bd27da842ca893b93dc42f7c703",
       "rendered": false,
       "status": "Not yet rendered"
      }
     },
     "bfc6c0247b3b4d468fb2c8bc39c7e779": {
      "model_module": "@jupyter-widgets/controls",
      "model_module_version": "1.0.0",
      "model_name": "VBoxModel",
      "state": {
       "children": [
        "IPY_MODEL_352f2b8a876b43cead115bfdf8076c3b",
        "IPY_MODEL_a229f2bd1262474f821d8f4680b396ac"
       ],
       "layout": "IPY_MODEL_104baf81c69f4182acaaf33056a18aa1"
      }
     },
     "c2a7d19f2152405b80b6ac514c0b01f2": {
      "model_module": "@jupyter-widgets/controls",
      "model_module_version": "1.0.0",
      "model_name": "HTMLModel",
      "state": {
       "layout": "IPY_MODEL_b5e58b0d0ce8405dafbeb334f23491f5",
       "style": "IPY_MODEL_62280f0815ea44c4bd6c6bc7c088a131",
       "value": "<img src=\"snapshot_test1.png\" id=\"snapshot_id_1_1535553713074\"/>\n <div id=\"snapshot_id_2_1535553713074\">snapshot_test1.png</div>"
      }
     },
     "c4147dbc623646fc848d0251d17d1fe1": {
      "model_module": "@jupyter-widgets/controls",
      "model_module_version": "1.0.0",
      "model_name": "TabModel",
      "state": {
       "_titles": {
        "0": "Canvas",
        "1": "Snapshot"
       },
       "children": [
        "IPY_MODEL_90c89161e1e341f6969145ea843fc810",
        "IPY_MODEL_bc8f7d5388f74d05a39dc2f7768682f2"
       ],
       "layout": "IPY_MODEL_7f03f2746e3942b4941c4f30cf753a0d",
       "selected_index": 1
      }
     },
     "c62351d09c4845d682ae055c3a6b87e0": {
      "model_module": "jp_proxy_widget",
      "model_module_version": "^0.3.3",
      "model_name": "JSProxyModel",
      "state": {
       "_model_module_version": "^0.3.3",
       "_send_counter": 11,
       "_view_module_version": "^0.3.3",
       "error_msg": "No error",
       "layout": "IPY_MODEL_3a10dcdbe6e64629a10197e29b9d72a8",
       "rendered": true,
       "status": "Got results."
      }
     },
     "c81f27175863451981f44ed8d5d42664": {
      "model_module": "@jupyter-widgets/base",
      "model_module_version": "1.0.0",
      "model_name": "LayoutModel",
      "state": {}
     },
     "ca82320c2a184001b15b4dfaead5badd": {
      "model_module": "jp_proxy_widget",
      "model_module_version": "^0.3.4",
      "model_name": "JSProxyModel",
      "state": {
       "_model_module_version": "^0.3.4",
       "_send_counter": 2,
       "_view_module_version": "^0.3.4",
       "error_msg": "No error",
       "layout": "IPY_MODEL_7b73ba6c42374c6c809ffa0f9b5e819a",
       "rendered": true,
       "status": "call back to <function callback_function at 0x10541f1b8>"
      }
     },
     "ce39da1c36484b52bcf5ff9a01bef46b": {
      "model_module": "@jupyter-widgets/base",
      "model_module_version": "1.0.0",
      "model_name": "LayoutModel",
      "state": {}
     },
     "cff0f92c435e4c509476bef4d55a0461": {
      "model_module": "@jupyter-widgets/controls",
      "model_module_version": "1.0.0",
      "model_name": "HTMLModel",
      "state": {
       "layout": "IPY_MODEL_ad37ab457c4f4d578337b1ce0e4cdd79",
       "style": "IPY_MODEL_294629f9f4284dfc932b84e575ad46b3",
       "value": "<img src=\"Snapshot_example2.png\" id=\"snapshot_id_6_1535632416758\"/>\n <div id=\"snapshot_id_7_1535632416758\">Snapshot_example2.png</div>"
      }
     },
     "d128fd120a714e53b321f36d37aa8ebc": {
      "model_module": "@jupyter-widgets/controls",
      "model_module_version": "1.0.0",
      "model_name": "TabModel",
      "state": {
       "_titles": {
        "0": "Canvas",
        "1": "Snapshot"
       },
       "children": [
        "IPY_MODEL_9d83e1c2bba8497d814b57b10accf8a7",
        "IPY_MODEL_916e855fd4b94903a93bf1c37fd72e87"
       ],
       "layout": "IPY_MODEL_f2a7f6db22a2418b99838d9b9c997169",
       "selected_index": 1
      }
     },
     "d1d3f075fbe844119347b2025b096909": {
      "model_module": "jp_proxy_widget",
      "model_module_version": "^0.3.3",
      "model_name": "JSProxyModel",
      "state": {
       "_model_module_version": "^0.3.3",
       "_send_counter": 15,
       "_view_module_version": "^0.3.3",
       "error_msg": "No error",
       "layout": "IPY_MODEL_80933352b60446bc909538e1f57edda4",
       "rendered": true,
       "status": "Got results."
      }
     },
     "d586a1e558834103b019869d49ed9f61": {
      "model_module": "@jupyter-widgets/controls",
      "model_module_version": "1.0.0",
      "model_name": "VBoxModel",
      "state": {
       "children": [
        "IPY_MODEL_e4436e7d41d74dc794d7d7f045b8201f",
        "IPY_MODEL_fe89e82dd82843e6a45fc098be3994f1"
       ],
       "layout": "IPY_MODEL_acb6730ab9e84ec38e2a3d4a8e6c8f82"
      }
     },
     "d5faf1ad81d74f12b41f5f76a211fcbb": {
      "model_module": "@jupyter-widgets/controls",
      "model_module_version": "1.0.0",
      "model_name": "DescriptionStyleModel",
      "state": {
       "description_width": ""
      }
     },
     "d7ff0d9cfa1343a2ac91c599b9123edc": {
      "model_module": "@jupyter-widgets/base",
      "model_module_version": "1.0.0",
      "model_name": "LayoutModel",
      "state": {}
     },
     "d89eb6c674864d51aaa94761434a204a": {
      "model_module": "jp_proxy_widget",
      "model_module_version": "^0.3.3",
      "model_name": "JSProxyModel",
      "state": {
       "_model_module_version": "^0.3.3",
       "_send_counter": 2,
       "_view_module_version": "^0.3.3",
       "error_msg": "No error",
       "layout": "IPY_MODEL_5643fe8553d94cbeb480a785478552ab",
       "rendered": true,
       "status": "call back to <function callback_function at 0x10c25d0c8>"
      }
     },
     "e0eb9d17f17044839e6743c70250b5a7": {
      "model_module": "jp_proxy_widget",
      "model_module_version": "^0.3.3",
      "model_name": "JSProxyModel",
      "state": {
       "_model_module_version": "^0.3.3",
       "_send_counter": 6,
       "_view_module_version": "^0.3.3",
       "error_msg": "No error",
       "layout": "IPY_MODEL_4b2a6aa14eae4b5b8aa4e1ee374a5f01",
       "rendered": false,
       "status": "Not yet rendered"
      }
     },
     "e4436e7d41d74dc794d7d7f045b8201f": {
      "model_module": "jp_proxy_widget",
      "model_module_version": "^0.3.3",
      "model_name": "JSProxyModel",
      "state": {
       "_model_module_version": "^0.3.3",
       "_send_counter": 15,
       "_view_module_version": "^0.3.3",
       "error_msg": "No error",
       "layout": "IPY_MODEL_1a45aa21c5444d31a5809e8f35857069",
       "rendered": true,
       "status": "Got results."
      }
     },
     "e78216bbd852479884600b8db9b89da1": {
      "model_module": "@jupyter-widgets/controls",
      "model_module_version": "1.0.0",
      "model_name": "DescriptionStyleModel",
      "state": {
       "description_width": ""
      }
     },
     "e7e4ad1267a545ad942a2f1cff5052df": {
      "model_module": "@jupyter-widgets/controls",
      "model_module_version": "1.0.0",
      "model_name": "TabModel",
      "state": {
       "_titles": {
        "0": "Canvas",
        "1": "Snapshot"
       },
       "children": [
        "IPY_MODEL_fab49413fdce443eb3e702ea8cbfa357",
        "IPY_MODEL_c2a7d19f2152405b80b6ac514c0b01f2"
       ],
       "layout": "IPY_MODEL_80a8782eba1b4b8a83dad822fae55b89",
       "selected_index": 1
      }
     },
     "e8cdba1a9ed94388a81292e97ccd5107": {
      "model_module": "jp_proxy_widget",
      "model_module_version": "^0.3.3",
      "model_name": "JSProxyModel",
      "state": {
       "_model_module_version": "^0.3.3",
       "_send_counter": 17,
       "_view_module_version": "^0.3.3",
       "error_msg": "No error",
       "layout": "IPY_MODEL_d7ff0d9cfa1343a2ac91c599b9123edc",
       "rendered": true,
       "status": "Got results."
      }
     },
     "eada697026e34d1389efda3abc70bc13": {
      "model_module": "@jupyter-widgets/base",
      "model_module_version": "1.0.0",
      "model_name": "LayoutModel",
      "state": {}
     },
     "eae9ecd41daa4a4db7c3631bafbd939d": {
      "model_module": "@jupyter-widgets/controls",
      "model_module_version": "1.0.0",
      "model_name": "AccordionModel",
      "state": {
       "_titles": {
        "0": "Widget Snapshot"
       },
       "children": [
        "IPY_MODEL_f95040a572ef43e48199596dc66fc80f"
       ],
       "layout": "IPY_MODEL_2a528fa0affa472aa794402f81bc8db6"
      }
     },
     "ece84f7b0e9849f9bed434b666dd2943": {
      "model_module": "@jupyter-widgets/controls",
      "model_module_version": "1.0.0",
      "model_name": "DescriptionStyleModel",
      "state": {
       "description_width": ""
      }
     },
     "f0d1a421e8d3403f9ef192588caf17db": {
      "model_module": "@jupyter-widgets/base",
      "model_module_version": "1.0.0",
      "model_name": "LayoutModel",
      "state": {}
     },
     "f2a7f6db22a2418b99838d9b9c997169": {
      "model_module": "@jupyter-widgets/base",
      "model_module_version": "1.0.0",
      "model_name": "LayoutModel",
      "state": {}
     },
     "f303c5156d0a47d695739f74b170d267": {
      "model_module": "@jupyter-widgets/base",
      "model_module_version": "1.0.0",
      "model_name": "LayoutModel",
      "state": {}
     },
     "f4f88a7b53fe4b6a89ed2e75153f93ef": {
      "model_module": "@jupyter-widgets/controls",
      "model_module_version": "1.0.0",
      "model_name": "DescriptionStyleModel",
      "state": {
       "description_width": ""
      }
     },
     "f7e794f53fbe4e8d8a95aef2220c9605": {
      "model_module": "@jupyter-widgets/base",
      "model_module_version": "1.0.0",
      "model_name": "LayoutModel",
      "state": {}
     },
     "f95040a572ef43e48199596dc66fc80f": {
      "model_module": "@jupyter-widgets/controls",
      "model_module_version": "1.0.0",
      "model_name": "HTMLModel",
      "state": {
       "layout": "IPY_MODEL_61fd968c2eac469198c15300b2ea088f",
       "style": "IPY_MODEL_d5faf1ad81d74f12b41f5f76a211fcbb",
       "value": "<img src=\"snapshot_test0.png\" id=\"snapshot_id_1_1535551290393\"/>"
      }
     },
     "fab49413fdce443eb3e702ea8cbfa357": {
      "model_module": "@jupyter-widgets/controls",
      "model_module_version": "1.0.0",
      "model_name": "VBoxModel",
      "state": {
       "children": [
        "IPY_MODEL_351cbde4cf674569928254f68d93f475",
        "IPY_MODEL_5fd726b5696a484f96eaa6a471347f6b"
       ],
       "layout": "IPY_MODEL_9a2b2ba0de114dc88da53b57d4332122"
      }
     },
     "fe89e82dd82843e6a45fc098be3994f1": {
      "model_module": "jp_proxy_widget",
      "model_module_version": "^0.3.3",
      "model_name": "JSProxyModel",
      "state": {
       "_model_module_version": "^0.3.3",
       "_send_counter": 2,
       "_view_module_version": "^0.3.3",
       "error_msg": "No error",
       "layout": "IPY_MODEL_3cf9ae41f1064db2a329e54685f95697",
       "rendered": true,
       "status": "call back to <function callback_function at 0x10ac63500>"
      }
     }
    },
    "version_major": 2,
    "version_minor": 0
   }
  }
 },
 "nbformat": 4,
 "nbformat_minor": 2
}
