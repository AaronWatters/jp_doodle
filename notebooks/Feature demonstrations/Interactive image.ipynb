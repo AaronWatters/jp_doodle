{
 "cells": [
  {
   "cell_type": "markdown",
   "metadata": {
    "deletable": true,
    "editable": true
   },
   "source": [
    "<img src=\"interactive_image.png\"/>\n",
    "\n",
    "# Interactive image\n",
    "\n",
    "The following interactive widget is intended to allow the developer to explore\n",
    "images drawn with different parameter settings.\n"
   ]
  },
  {
   "cell_type": "code",
   "execution_count": 1,
   "metadata": {
    "collapsed": true,
    "deletable": true,
    "editable": true
   },
   "outputs": [],
   "source": [
    "# preliminaries\n",
    "from ipywidgets import interact, interactive, fixed, interact_manual\n",
    "import ipywidgets as widgets\n",
    "from jp_doodle import dual_canvas\n",
    "from IPython.display import display"
   ]
  },
  {
   "cell_type": "code",
   "execution_count": 2,
   "metadata": {
    "collapsed": false,
    "deletable": true,
    "editable": true
   },
   "outputs": [
    {
     "data": {
      "application/vnd.jupyter.widget-view+json": {
       "model_id": "d4991da4d9ff43cbbcd2eea1d875d36d",
       "version_major": 2,
       "version_minor": 0
      },
      "text/html": [
       "<p>Failed to display Jupyter Widget of type <code>Tab</code>.</p>\n",
       "<p>\n",
       "  If you're reading this message in Jupyter Notebook or JupyterLab, it may mean\n",
       "  that the widgets JavaScript is still loading. If this message persists, it\n",
       "  likely means that the widgets JavaScript library is either not installed or\n",
       "  not enabled. See the <a href=\"https://ipywidgets.readthedocs.io/en/stable/user_install.html\">Jupyter\n",
       "  Widgets Documentation</a> for setup instructions.\n",
       "</p>\n",
       "<p>\n",
       "  If you're reading this message in another notebook frontend (for example, a static\n",
       "  rendering on GitHub or <a href=\"https://nbviewer.jupyter.org/\">NBViewer</a>),\n",
       "  it may mean that your frontend doesn't currently support widgets.\n",
       "</p>\n"
      ],
      "text/plain": [
       "Tab(children=(VBox(children=(SnapshotCanvas(status=u'Not yet rendered'), JSProxyWidget(status=u'Not yet rendered'))), HTML(value=u'<img src=\"interactive_image.png?id=snapshot_id_1_1539194995728\" id=\"snapshot_id_1_1539194995728\"/>\\n <div id=\"snapshot_id_2_1539194995728\">interactive_image.png</div>')), _titles={u'1': 'Snapshot', u'0': 'Canvas'})"
      ]
     },
     "metadata": {},
     "output_type": "display_data"
    },
    {
     "data": {
      "application/vnd.jupyter.widget-view+json": {
       "model_id": "5009837c4d454926a575ab4f523fab39",
       "version_major": 2,
       "version_minor": 0
      },
      "text/html": [
       "<p>Failed to display Jupyter Widget of type <code>interactive</code>.</p>\n",
       "<p>\n",
       "  If you're reading this message in Jupyter Notebook or JupyterLab, it may mean\n",
       "  that the widgets JavaScript is still loading. If this message persists, it\n",
       "  likely means that the widgets JavaScript library is either not installed or\n",
       "  not enabled. See the <a href=\"https://ipywidgets.readthedocs.io/en/stable/user_install.html\">Jupyter\n",
       "  Widgets Documentation</a> for setup instructions.\n",
       "</p>\n",
       "<p>\n",
       "  If you're reading this message in another notebook frontend (for example, a static\n",
       "  rendering on GitHub or <a href=\"https://nbviewer.jupyter.org/\">NBViewer</a>),\n",
       "  it may mean that your frontend doesn't currently support widgets.\n",
       "</p>\n"
      ],
      "text/plain": [
       "interactive(children=(IntSlider(value=0, description=u'x', min=-100), IntSlider(value=0, description=u'y', min=-100), IntSlider(value=250, description=u'w', max=300, min=-300), IntSlider(value=50, description=u'h', max=300, min=-300), IntSlider(value=-50, description=u'dx', max=300, min=-300), IntSlider(value=-25, description=u'dy', max=300, min=-300), IntSlider(value=0, description=u'degrees', max=360, min=-360), IntSlider(value=30, description=u'sx', max=600), IntSlider(value=15, description=u'sy', max=600), IntSlider(value=140, description=u'sWidth', max=600), IntSlider(value=20, description=u'sHeight', max=600), Checkbox(value=False, description=u'whole'), Output()), _dom_classes=('widget-interact',))"
      ]
     },
     "metadata": {},
     "output_type": "display_data"
    }
   ],
   "source": [
    "# Display a canvas with an image which can be adjusted interactively\n",
    "\n",
    "# Below we configure the canvas using the Python interface.\n",
    "# This method is terser than using Javascript, but the redraw operations create a jerky effect\n",
    "# because the canvas displays intermediate states due to roundtrip messages\n",
    "# between the Python kernal and the Javascript interpreter.\n",
    "\n",
    "image_canvas = dual_canvas.SnapshotCanvas(\"interactive_image.png\", width=320, height=220)\n",
    "image_canvas.display_all()\n",
    "\n",
    "def change_image(x=0, y=0, w=250, h=50, dx=-50, dy=-25,\n",
    "                  degrees=0, sx=30, sy=15, sWidth=140, sHeight=20, whole=False\n",
    "                  ): #sx:30, sy:15, sWidth:140, sHeight:20\n",
    "    if whole:\n",
    "        sx = sy = sWidth = sHeight = None\n",
    "    canvas = image_canvas\n",
    "    with canvas.delay_redraw():\n",
    "        # This local image reference works in \"classic\" notebook, but not in Jupyter Lab.\n",
    "        canvas.reset_canvas()\n",
    "        mandrill_url = \"../mandrill.png\"\n",
    "        image_canvas.name_image_url(\"mandrill\", mandrill_url)\n",
    "        canvas.named_image(\"mandrill\", \n",
    "                           x, y, w, h, degrees, sx, sy, sWidth, sHeight, dx=dx, dy=dy, name=True)\n",
    "        canvas.fit()\n",
    "        canvas.lower_left_axes(\n",
    "            max_tick_count=4\n",
    "        )\n",
    "        canvas.circle(x=x, y=y, r=10, color=\"#999\")\n",
    "        canvas.fit(None, 30)\n",
    "        #canvas.element.invisible_canvas.show()\n",
    "    \n",
    "change_image()\n",
    "\n",
    "w = interactive(\n",
    "    change_image, \n",
    "    x=(-100, 100), \n",
    "    y=(-100,100), \n",
    "    dx=(-300, 300), \n",
    "    dy=(-300,300), \n",
    "    w=(-300,300), \n",
    "    h=(-300,300), \n",
    "    degrees=(-360,360),\n",
    "    sx=(0,600),\n",
    "    sy=(0,600),\n",
    "    sWidth=(0,600),\n",
    "    sHeight=(0,600),\n",
    ")\n",
    "display(w)"
   ]
  },
  {
   "cell_type": "code",
   "execution_count": 3,
   "metadata": {
    "collapsed": false,
    "deletable": true,
    "editable": true
   },
   "outputs": [
    {
     "data": {
      "application/vnd.jupyter.widget-view+json": {
       "model_id": "bee0ab204f0f459899fda209a168ca70",
       "version_major": 2,
       "version_minor": 0
      },
      "text/html": [
       "<p>Failed to display Jupyter Widget of type <code>Tab</code>.</p>\n",
       "<p>\n",
       "  If you're reading this message in Jupyter Notebook or JupyterLab, it may mean\n",
       "  that the widgets JavaScript is still loading. If this message persists, it\n",
       "  likely means that the widgets JavaScript library is either not installed or\n",
       "  not enabled. See the <a href=\"https://ipywidgets.readthedocs.io/en/stable/user_install.html\">Jupyter\n",
       "  Widgets Documentation</a> for setup instructions.\n",
       "</p>\n",
       "<p>\n",
       "  If you're reading this message in another notebook frontend (for example, a static\n",
       "  rendering on GitHub or <a href=\"https://nbviewer.jupyter.org/\">NBViewer</a>),\n",
       "  it may mean that your frontend doesn't currently support widgets.\n",
       "</p>\n"
      ],
      "text/plain": [
       "Tab(children=(VBox(children=(SnapshotCanvas(status=u'Not yet rendered'), JSProxyWidget(status=u'Not yet rendered'))), HTML(value=u'<img src=\"interactive_image.png?id=snapshot_id_3_1539194995931\" id=\"snapshot_id_3_1539194995931\"/>\\n <div id=\"snapshot_id_4_1539194995931\">interactive_image.png</div>')), _titles={u'1': 'Snapshot', u'0': 'Canvas'})"
      ]
     },
     "metadata": {},
     "output_type": "display_data"
    },
    {
     "data": {
      "application/vnd.jupyter.widget-view+json": {
       "model_id": "82d5aee1890440f6ad24a1f0ff4f8758",
       "version_major": 2,
       "version_minor": 0
      },
      "text/html": [
       "<p>Failed to display Jupyter Widget of type <code>interactive</code>.</p>\n",
       "<p>\n",
       "  If you're reading this message in Jupyter Notebook or JupyterLab, it may mean\n",
       "  that the widgets JavaScript is still loading. If this message persists, it\n",
       "  likely means that the widgets JavaScript library is either not installed or\n",
       "  not enabled. See the <a href=\"https://ipywidgets.readthedocs.io/en/stable/user_install.html\">Jupyter\n",
       "  Widgets Documentation</a> for setup instructions.\n",
       "</p>\n",
       "<p>\n",
       "  If you're reading this message in another notebook frontend (for example, a static\n",
       "  rendering on GitHub or <a href=\"https://nbviewer.jupyter.org/\">NBViewer</a>),\n",
       "  it may mean that your frontend doesn't currently support widgets.\n",
       "</p>\n"
      ],
      "text/plain": [
       "interactive(children=(IntSlider(value=0, description=u'x', min=-100), IntSlider(value=0, description=u'y', min=-100), IntSlider(value=250, description=u'w', max=300, min=-300), IntSlider(value=50, description=u'h', max=300, min=-300), IntSlider(value=-50, description=u'dx', max=300, min=-300), IntSlider(value=-25, description=u'dy', max=300, min=-300), IntSlider(value=0, description=u'degrees', max=360, min=-360), IntSlider(value=30, description=u'sx', max=90, min=-30), IntSlider(value=15, description=u'sy', max=45, min=-15), IntSlider(value=140, description=u'sWidth', max=420, min=-140), IntSlider(value=20, description=u'sHeight', max=60, min=-20), Checkbox(value=False, description=u'whole'), Output()), _dom_classes=('widget-interact',))"
      ]
     },
     "metadata": {},
     "output_type": "display_data"
    }
   ],
   "source": [
    "# Display a canvas with an image which can be adjusted interactively\n",
    "\n",
    "# Using the Javascript interface: \n",
    "# This approach requires more typing because Python values must \n",
    "# be explicitly mapped to Javascript variables.\n",
    "# However the canvas configuration is smooth because no intermediate\n",
    "# results are shown.\n",
    "\n",
    "image_canvas2 = dual_canvas.SnapshotCanvas(\"interactive_image.png\", width=320, height=220)\n",
    "image_canvas2.display_all()\n",
    "\n",
    "def change_rect_js(x=0, y=0, w=250, h=50, dx=-50, dy=-25,\n",
    "                  degrees=0, sx=30, sy=15, sWidth=140, sHeight=20, whole=False\n",
    "                  ): #sx:30, sy:15, sWidth:140, sHeight:20\n",
    "    if whole:\n",
    "        sx = sy = sWidth = sHeight = None\n",
    "    canvas = image_canvas2\n",
    "    canvas.js_init(\"\"\"\n",
    "        element.reset_canvas();\n",
    "        var mandrill_url = \"../mandrill.png\";\n",
    "        element.name_image_url(\"mandrill\", mandrill_url);\n",
    "        element.named_image({image_name: \"mandrill\",\n",
    "                 x:x, y:y, dx:dx, dy:dy, w:w, h:h, degrees:degrees,\n",
    "                 sx:sx, sy:sy, sWidth:sWidth, sHeight:sHeight});\n",
    "        element.fit();\n",
    "        element.lower_left_axes({max_tick_count: 4});\n",
    "        element.circle({x:x, y:y, r:5, color:\"#999\"});\n",
    "        element.fit(null, 30);\n",
    "    \"\"\",\n",
    "                 x=x, y=y, dx=dx, dy=dy, w=w, h=h, degrees=degrees,\n",
    "                 sx=sx, sy=sy, sWidth=sWidth, sHeight=sHeight)\n",
    "\n",
    "w = interactive(\n",
    "    change_rect_js, \n",
    "    x=(-100, 100), \n",
    "    y=(-100,100), \n",
    "    dx=(-300, 300), \n",
    "    dy=(-300, 300), \n",
    "    w=(-300,300), \n",
    "    h=(-300,300), \n",
    "    fill=True,\n",
    "    lineWidth=(0,20),\n",
    "    degrees=(-360,360),\n",
    "    red=(0,255),\n",
    "    green=(0,255),\n",
    "    blue=(0,255),\n",
    "    alpha=(0.0,1.0,0.1)\n",
    ")\n",
    "display(w)"
   ]
  },
  {
   "cell_type": "code",
   "execution_count": null,
   "metadata": {
    "collapsed": true,
    "deletable": true,
    "editable": true
   },
   "outputs": [],
   "source": []
  }
 ],
 "metadata": {
  "kernelspec": {
   "display_name": "Python 2",
   "language": "python",
   "name": "python2"
  },
  "language_info": {
   "codemirror_mode": {
    "name": "ipython",
    "version": 2
   },
   "file_extension": ".py",
   "mimetype": "text/x-python",
   "name": "python",
   "nbconvert_exporter": "python",
   "pygments_lexer": "ipython2",
   "version": "2.7.13"
  },
  "widgets": {
   "application/vnd.jupyter.widget-state+json": {
    "state": {
     "005d7e69075e4500880e8d546c9ba667": {
      "model_module": "@jupyter-widgets/controls",
      "model_module_version": "1.0.0",
      "model_name": "VBoxModel",
      "state": {
       "_dom_classes": [
        "widget-interact"
       ],
       "children": [
        "IPY_MODEL_7d252896fa97438fafaa084ea4551263",
        "IPY_MODEL_08f6369929cf46c1ae6068c3c37a97e5",
        "IPY_MODEL_c46b22814e3e499c955b03520fc8e632",
        "IPY_MODEL_671272fad9ef4134ae1fe02dd34c4ad8",
        "IPY_MODEL_c93f39da518646438b04157b34bd7c56",
        "IPY_MODEL_d4aa3be275c549bf98a27301f9ea643d",
        "IPY_MODEL_619cee7a7141452a96b54b06e86fa0cf",
        "IPY_MODEL_aed552f711b14f6db7a42e5a8a0586cd",
        "IPY_MODEL_12f5c7292f984cbfaa022fe0d962b938",
        "IPY_MODEL_4735820ddc5747699b67ac8e88b845c4",
        "IPY_MODEL_fb136458447a4a3babc1aba38566dcc5",
        "IPY_MODEL_890a4c79450a41178b3d849094e6a4d2",
        "IPY_MODEL_9c886f7f3f304c5295d0c90f6caad1cf",
        "IPY_MODEL_b90c9b37f55a42b992e229035b04d963"
       ],
       "layout": "IPY_MODEL_86d78f77ed4c48d6b572271895385d14"
      }
     },
     "006dd5c513074a388c13700f91733f63": {
      "model_module": "@jupyter-widgets/base",
      "model_module_version": "1.0.0",
      "model_name": "LayoutModel",
      "state": {}
     },
     "0077f871efb442d488e6daf1aa85f782": {
      "model_module": "@jupyter-widgets/controls",
      "model_module_version": "1.0.0",
      "model_name": "IntSliderModel",
      "state": {
       "description": "red",
       "layout": "IPY_MODEL_f4828d78be1f4978ad79535ccb130877",
       "max": 255,
       "style": "IPY_MODEL_a837d6ff2c364206824be155e814bbe0",
       "value": 255
      }
     },
     "0094cf76d10c4797877c2acdb1b9b395": {
      "model_module": "@jupyter-widgets/controls",
      "model_module_version": "1.0.0",
      "model_name": "SliderStyleModel",
      "state": {
       "description_width": ""
      }
     },
     "009a9d3919eb4e30b6ef76c7568be6b1": {
      "model_module": "@jupyter-widgets/base",
      "model_module_version": "1.0.0",
      "model_name": "LayoutModel",
      "state": {}
     },
     "009faa4d2649492c9b4d0bd213c9baed": {
      "model_module": "@jupyter-widgets/controls",
      "model_module_version": "1.0.0",
      "model_name": "SliderStyleModel",
      "state": {
       "description_width": ""
      }
     },
     "00a2854d502d46858a8c11d326433c41": {
      "model_module": "@jupyter-widgets/controls",
      "model_module_version": "1.0.0",
      "model_name": "IntSliderModel",
      "state": {
       "description": "y",
       "layout": "IPY_MODEL_a683844a29dd4b76a4062514d56e0409",
       "min": -100,
       "style": "IPY_MODEL_ffd809b2f3824b25aa959835fa730ebe"
      }
     },
     "00cdca98bd6d4b90929842bdca03c560": {
      "model_module": "@jupyter-widgets/base",
      "model_module_version": "1.0.0",
      "model_name": "LayoutModel",
      "state": {}
     },
     "00d911d80b80400aaefb5507ef1f97fd": {
      "model_module": "@jupyter-widgets/base",
      "model_module_version": "1.0.0",
      "model_name": "LayoutModel",
      "state": {}
     },
     "00e6ec30df2f4ab9bd65dd37bd8748c5": {
      "model_module": "@jupyter-widgets/controls",
      "model_module_version": "1.0.0",
      "model_name": "IntSliderModel",
      "state": {
       "description": "h",
       "layout": "IPY_MODEL_e71b48c6563a41d191fee80c69dd692d",
       "max": 300,
       "min": -300,
       "style": "IPY_MODEL_0e6eeb4bec9d46b5975422d325b91e82",
       "value": 50
      }
     },
     "00fff51fda9745da91cb8581a04d0204": {
      "model_module": "@jupyter-widgets/controls",
      "model_module_version": "1.0.0",
      "model_name": "SliderStyleModel",
      "state": {
       "description_width": ""
      }
     },
     "01078b705d2646639e336ba32eab301c": {
      "model_module": "@jupyter-widgets/base",
      "model_module_version": "1.0.0",
      "model_name": "LayoutModel",
      "state": {}
     },
     "011ab356b78d4a5992025e189eec6e00": {
      "model_module": "@jupyter-widgets/base",
      "model_module_version": "1.0.0",
      "model_name": "LayoutModel",
      "state": {}
     },
     "011e81fa7b274300897fe0dc82d29300": {
      "model_module": "@jupyter-widgets/output",
      "model_module_version": "1.0.0",
      "model_name": "OutputModel",
      "state": {
       "layout": "IPY_MODEL_0ce20764054f4a87b81035beab5a01a4"
      }
     },
     "013bcc8df4274bbf8d1fa0ba9b6588c3": {
      "model_module": "@jupyter-widgets/controls",
      "model_module_version": "1.0.0",
      "model_name": "SliderStyleModel",
      "state": {
       "description_width": ""
      }
     },
     "01635c761dc347cc8e40ffd3d802a919": {
      "model_module": "@jupyter-widgets/controls",
      "model_module_version": "1.0.0",
      "model_name": "SliderStyleModel",
      "state": {
       "description_width": ""
      }
     },
     "0165297d54e146a797a52ef30be8dd22": {
      "model_module": "@jupyter-widgets/base",
      "model_module_version": "1.0.0",
      "model_name": "LayoutModel",
      "state": {}
     },
     "01732de0b1d942c0b7243d42fd8a22f3": {
      "model_module": "@jupyter-widgets/controls",
      "model_module_version": "1.0.0",
      "model_name": "VBoxModel",
      "state": {
       "_dom_classes": [
        "widget-interact"
       ],
       "children": [
        "IPY_MODEL_183a2c2ee69b495982899c0e616eb051",
        "IPY_MODEL_299f3d95952d4905a1a0828a6698ab7e",
        "IPY_MODEL_af11e6b9bc9947648b101d8f95df0fa2",
        "IPY_MODEL_8cd9087fd6cd4b3489d01d3d0f86bb16",
        "IPY_MODEL_14681b007f684debbfd0f56b201cc68c",
        "IPY_MODEL_b28e2a3ff6c94267a237a2e116d22279",
        "IPY_MODEL_2135da27ff2b4d20b484caf2e5ffcb5c",
        "IPY_MODEL_011e81fa7b274300897fe0dc82d29300"
       ],
       "layout": "IPY_MODEL_25ff0f4b6a034b2aae3e5551002cf462"
      }
     },
     "018103180dfb40f0a0a80f565ac2ce91": {
      "model_module": "@jupyter-widgets/controls",
      "model_module_version": "1.0.0",
      "model_name": "HTMLModel",
      "state": {
       "layout": "IPY_MODEL_b7c59a5bc66d4f3c81461a2f55b4d850",
       "style": "IPY_MODEL_4a3d1dafe98d447688a7353ac480e895",
       "value": "<img src=\"interactive_rectangle2.png\" id=\"snapshot_id_45_1536323832354\"/>\n <div id=\"snapshot_id_46_1536323832354\">interactive_rectangle2.png</div>"
      }
     },
     "019f95e0bcc14171a624a10eb9e017c3": {
      "model_module": "@jupyter-widgets/controls",
      "model_module_version": "1.0.0",
      "model_name": "IntSliderModel",
      "state": {
       "description": "green",
       "layout": "IPY_MODEL_27fafaa986e74dafa21ee00b18011127",
       "max": 255,
       "style": "IPY_MODEL_4f6224acd4be445786a9d4dae41bbb5a"
      }
     },
     "01ce7e1c64da45af840da3ee4d55fbab": {
      "model_module": "@jupyter-widgets/base",
      "model_module_version": "1.0.0",
      "model_name": "LayoutModel",
      "state": {}
     },
     "01ded9535e644790bc4dfaeaa991eaf2": {
      "model_module": "@jupyter-widgets/controls",
      "model_module_version": "1.0.0",
      "model_name": "SliderStyleModel",
      "state": {
       "description_width": ""
      }
     },
     "01e015fd51a04bfb9ada1ac03e896b31": {
      "model_module": "@jupyter-widgets/controls",
      "model_module_version": "1.0.0",
      "model_name": "SliderStyleModel",
      "state": {
       "description_width": ""
      }
     },
     "0217e51f2874443c8a2f90ad6241e90b": {
      "model_module": "@jupyter-widgets/controls",
      "model_module_version": "1.0.0",
      "model_name": "SliderStyleModel",
      "state": {
       "description_width": ""
      }
     },
     "025dcefcb31a4ae09f553560e5a22a65": {
      "model_module": "@jupyter-widgets/controls",
      "model_module_version": "1.0.0",
      "model_name": "IntSliderModel",
      "state": {
       "description": "sWidth",
       "layout": "IPY_MODEL_06e42f4e9d2744c8b640b4b537d534d8",
       "max": 600,
       "style": "IPY_MODEL_d7ab38be6987414485b598a9d5f21995",
       "value": 200
      }
     },
     "027486edd7e64a2284c146b7ea5826ca": {
      "model_module": "@jupyter-widgets/base",
      "model_module_version": "1.0.0",
      "model_name": "LayoutModel",
      "state": {}
     },
     "027f158faff448d1b4d9c5bb7c6b4d69": {
      "model_module": "@jupyter-widgets/base",
      "model_module_version": "1.0.0",
      "model_name": "LayoutModel",
      "state": {}
     },
     "028923014a394f6d8f57325039850cb0": {
      "model_module": "@jupyter-widgets/controls",
      "model_module_version": "1.0.0",
      "model_name": "IntSliderModel",
      "state": {
       "description": "x",
       "layout": "IPY_MODEL_983495d1532844bd84e4ebcaae25b17f",
       "min": -100,
       "style": "IPY_MODEL_07a2488470b448bf96fe9d8b0772086d"
      }
     },
     "02a35eac757842de97421a2c54c4cc2c": {
      "model_module": "@jupyter-widgets/controls",
      "model_module_version": "1.0.0",
      "model_name": "IntSliderModel",
      "state": {
       "description": "y",
       "layout": "IPY_MODEL_bf3ac0a2376840cdbe5f87784addf0dc",
       "min": -100,
       "style": "IPY_MODEL_94af5cb8eea84f968da673b7046507bd"
      }
     },
     "02a3e6955b81446797012535ed0b1223": {
      "model_module": "@jupyter-widgets/controls",
      "model_module_version": "1.0.0",
      "model_name": "SliderStyleModel",
      "state": {
       "description_width": ""
      }
     },
     "02ffe96dc5a74646b3504b5fa40947b6": {
      "model_module": "@jupyter-widgets/base",
      "model_module_version": "1.0.0",
      "model_name": "LayoutModel",
      "state": {}
     },
     "030f09cf81f94695b9101d1acfe7f7a4": {
      "model_module": "@jupyter-widgets/base",
      "model_module_version": "1.0.0",
      "model_name": "LayoutModel",
      "state": {}
     },
     "03236a0df9f948cab8d472e8d40ab507": {
      "model_module": "@jupyter-widgets/base",
      "model_module_version": "1.0.0",
      "model_name": "LayoutModel",
      "state": {}
     },
     "0341be857f89415a999b1d56d3e4f063": {
      "model_module": "@jupyter-widgets/controls",
      "model_module_version": "1.0.0",
      "model_name": "IntSliderModel",
      "state": {
       "description": "blue",
       "layout": "IPY_MODEL_853ca156af7b460f8c762327496bfe5c",
       "max": 255,
       "style": "IPY_MODEL_05b58c69e84c4ba0ba8f909c65996287",
       "value": 255
      }
     },
     "0345744ae72e468aa14869456bf5632d": {
      "model_module": "@jupyter-widgets/base",
      "model_module_version": "1.0.0",
      "model_name": "LayoutModel",
      "state": {}
     },
     "03710299ba0f42a484350cf7c10020d9": {
      "model_module": "@jupyter-widgets/controls",
      "model_module_version": "1.0.0",
      "model_name": "SliderStyleModel",
      "state": {
       "description_width": ""
      }
     },
     "03b9c31bbf114c5da61ab5d2b80d6b53": {
      "model_module": "@jupyter-widgets/controls",
      "model_module_version": "1.0.0",
      "model_name": "IntSliderModel",
      "state": {
       "description": "y",
       "layout": "IPY_MODEL_94c13bd898194f829d899e5bc6d0e7cf",
       "min": -100,
       "style": "IPY_MODEL_96e9924830e84e0ca89ceb881f24f32d"
      }
     },
     "03d5c1c6ceae4094aeedabd648e6750d": {
      "model_module": "@jupyter-widgets/base",
      "model_module_version": "1.0.0",
      "model_name": "LayoutModel",
      "state": {}
     },
     "03e8424e15314392b53bb2b58cd42fd4": {
      "model_module": "@jupyter-widgets/base",
      "model_module_version": "1.0.0",
      "model_name": "LayoutModel",
      "state": {}
     },
     "04222862bd364a5e8841f203658f8e94": {
      "model_module": "@jupyter-widgets/base",
      "model_module_version": "1.0.0",
      "model_name": "LayoutModel",
      "state": {}
     },
     "042a257d074943feb584ca7db9f070e6": {
      "model_module": "@jupyter-widgets/controls",
      "model_module_version": "1.0.0",
      "model_name": "CheckboxModel",
      "state": {
       "description": "whole",
       "disabled": false,
       "layout": "IPY_MODEL_90fc91d8925447619d4e3fc5e7f2eddd",
       "style": "IPY_MODEL_667a7e302a584538b6191af798bd5f01",
       "value": true
      }
     },
     "0464484d936844668677a598d59f112f": {
      "model_module": "@jupyter-widgets/base",
      "model_module_version": "1.0.0",
      "model_name": "LayoutModel",
      "state": {}
     },
     "04677a21e0b2442390fd49f6e9526c8b": {
      "model_module": "@jupyter-widgets/controls",
      "model_module_version": "1.0.0",
      "model_name": "FloatSliderModel",
      "state": {
       "description": "arc",
       "layout": "IPY_MODEL_f51c752ce63c4542bac603c4338756b4",
       "max": 6.383185307179586,
       "step": 0.1,
       "style": "IPY_MODEL_3b298347d5164b729809133f282a4913",
       "value": 6.283185307179586
      }
     },
     "0471fb02c3b1445cb643143b3131ff0e": {
      "model_module": "@jupyter-widgets/base",
      "model_module_version": "1.0.0",
      "model_name": "LayoutModel",
      "state": {}
     },
     "04750ce289014b89a2abc7b2941ff541": {
      "model_module": "@jupyter-widgets/controls",
      "model_module_version": "1.0.0",
      "model_name": "SliderStyleModel",
      "state": {
       "description_width": ""
      }
     },
     "047d684297904b99b17ea456ba668582": {
      "model_module": "@jupyter-widgets/base",
      "model_module_version": "1.0.0",
      "model_name": "LayoutModel",
      "state": {}
     },
     "0497085973f24842bbc8acb93622ec08": {
      "model_module": "@jupyter-widgets/controls",
      "model_module_version": "1.0.0",
      "model_name": "IntSliderModel",
      "state": {
       "description": "y",
       "layout": "IPY_MODEL_17c32cedf63843efa18263616549455e",
       "min": -100,
       "style": "IPY_MODEL_0e58615fe41543d0b022cf6dfd39402c"
      }
     },
     "049ec02dd1914999b0a2640382ea71f7": {
      "model_module": "@jupyter-widgets/controls",
      "model_module_version": "1.0.0",
      "model_name": "SliderStyleModel",
      "state": {
       "description_width": ""
      }
     },
     "04a301abe8e84ebdb7ffb664ffbef756": {
      "model_module": "@jupyter-widgets/output",
      "model_module_version": "1.0.0",
      "model_name": "OutputModel",
      "state": {
       "layout": "IPY_MODEL_fe3abd8add854c0d916060fd09e84ef7"
      }
     },
     "04d39ec9e7cf4f788b69f6aaaca6c74b": {
      "model_module": "@jupyter-widgets/base",
      "model_module_version": "1.0.0",
      "model_name": "LayoutModel",
      "state": {}
     },
     "0508f8868207466388be8b8299a28843": {
      "model_module": "@jupyter-widgets/controls",
      "model_module_version": "1.0.0",
      "model_name": "SliderStyleModel",
      "state": {
       "description_width": ""
      }
     },
     "0523c1154da14aba9d5473b750217bf9": {
      "model_module": "@jupyter-widgets/base",
      "model_module_version": "1.0.0",
      "model_name": "LayoutModel",
      "state": {}
     },
     "0525bd700c3c4877bff059112338f5e8": {
      "model_module": "@jupyter-widgets/controls",
      "model_module_version": "1.0.0",
      "model_name": "IntSliderModel",
      "state": {
       "description": "red",
       "layout": "IPY_MODEL_24e26df30b86429da83d79df00b7ad0c",
       "max": 255,
       "style": "IPY_MODEL_cd76a416be4544e481d8658fe3ddec62",
       "value": 58
      }
     },
     "052b9bb8a8514d9fb17b8f5fb392876c": {
      "model_module": "@jupyter-widgets/base",
      "model_module_version": "1.0.0",
      "model_name": "LayoutModel",
      "state": {}
     },
     "05357c6f1330445c85d9d9dc445e43f1": {
      "model_module": "@jupyter-widgets/controls",
      "model_module_version": "1.0.0",
      "model_name": "SliderStyleModel",
      "state": {
       "description_width": ""
      }
     },
     "053eeb61df224b709839b44ad5e51b19": {
      "model_module": "@jupyter-widgets/base",
      "model_module_version": "1.0.0",
      "model_name": "LayoutModel",
      "state": {}
     },
     "0549ad3832a14c5eae86228413ea42ae": {
      "model_module": "@jupyter-widgets/base",
      "model_module_version": "1.0.0",
      "model_name": "LayoutModel",
      "state": {}
     },
     "05576f09bc9a40fca38ec2e4b4d5d182": {
      "model_module": "@jupyter-widgets/controls",
      "model_module_version": "1.0.0",
      "model_name": "SliderStyleModel",
      "state": {
       "description_width": ""
      }
     },
     "057600f2f3b546c9bfe152530fddb0cf": {
      "model_module": "@jupyter-widgets/controls",
      "model_module_version": "1.0.0",
      "model_name": "SliderStyleModel",
      "state": {
       "description_width": ""
      }
     },
     "0582119718fa4f558f6e5088c808c8d6": {
      "model_module": "@jupyter-widgets/controls",
      "model_module_version": "1.0.0",
      "model_name": "SliderStyleModel",
      "state": {
       "description_width": ""
      }
     },
     "05b58c69e84c4ba0ba8f909c65996287": {
      "model_module": "@jupyter-widgets/controls",
      "model_module_version": "1.0.0",
      "model_name": "SliderStyleModel",
      "state": {
       "description_width": ""
      }
     },
     "05c4f4409d0047a9964c5ec5d0677a44": {
      "model_module": "@jupyter-widgets/base",
      "model_module_version": "1.0.0",
      "model_name": "LayoutModel",
      "state": {}
     },
     "05e830773cac4398bac55ebbd4742f2b": {
      "model_module": "jp_proxy_widget",
      "model_module_version": "^0.3.4",
      "model_name": "JSProxyModel",
      "state": {
       "_model_module_version": "^0.3.4",
       "_send_counter": 12,
       "_view_module_version": "^0.3.4",
       "error_msg": "No error",
       "layout": "IPY_MODEL_69d899e910a6474e9180e9f585471087",
       "rendered": true,
       "status": "Got results."
      }
     },
     "05e92ab3b2fb4499bbf686498455913e": {
      "model_module": "jp_proxy_widget",
      "model_module_version": "^0.3.4",
      "model_name": "JSProxyModel",
      "state": {
       "_model_module_version": "^0.3.4",
       "_send_counter": 2,
       "_view_module_version": "^0.3.4",
       "error_msg": "No error",
       "layout": "IPY_MODEL_f0785c61d9e845258dc0cccb6822b89d",
       "rendered": true,
       "status": "Got results."
      }
     },
     "05e9cf00c3834e0cb8d19dc44e58de38": {
      "model_module": "@jupyter-widgets/base",
      "model_module_version": "1.0.0",
      "model_name": "LayoutModel",
      "state": {}
     },
     "060305a695a44d20a0b336f9e1956c1a": {
      "model_module": "jp_proxy_widget",
      "model_module_version": "^0.3.4",
      "model_name": "JSProxyModel",
      "state": {
       "_model_module_version": "^0.3.4",
       "_send_counter": 2,
       "_view_module_version": "^0.3.4",
       "error_msg": "No error",
       "layout": "IPY_MODEL_cf5016b393d64edc81d8b22c8e192988",
       "rendered": true,
       "status": "Got results."
      }
     },
     "060bf0bf31994a9496a025ed1384f456": {
      "model_module": "@jupyter-widgets/controls",
      "model_module_version": "1.0.0",
      "model_name": "SliderStyleModel",
      "state": {
       "description_width": ""
      }
     },
     "061dec35383f407fa900734867c48283": {
      "model_module": "@jupyter-widgets/base",
      "model_module_version": "1.0.0",
      "model_name": "LayoutModel",
      "state": {}
     },
     "06244012558b45759158f59041a9bd3c": {
      "model_module": "@jupyter-widgets/base",
      "model_module_version": "1.0.0",
      "model_name": "LayoutModel",
      "state": {}
     },
     "0626be14a03e46c183c08afcd0ec95e4": {
      "model_module": "@jupyter-widgets/base",
      "model_module_version": "1.0.0",
      "model_name": "LayoutModel",
      "state": {}
     },
     "062a3a4367764cf49196ece2907e2f0e": {
      "model_module": "@jupyter-widgets/controls",
      "model_module_version": "1.0.0",
      "model_name": "SliderStyleModel",
      "state": {
       "description_width": ""
      }
     },
     "0636ebbe717145b49cfed57df280d29a": {
      "model_module": "@jupyter-widgets/controls",
      "model_module_version": "1.0.0",
      "model_name": "IntSliderModel",
      "state": {
       "description": "red",
       "layout": "IPY_MODEL_de3492bfd1184a9f94ff3b963b75fc13",
       "max": 255,
       "style": "IPY_MODEL_14c809c8d4bb4297bae32cec73e83ce1",
       "value": 255
      }
     },
     "0641ffaf24394f268c2c18cdf7b810bb": {
      "model_module": "@jupyter-widgets/controls",
      "model_module_version": "1.0.0",
      "model_name": "VBoxModel",
      "state": {
       "children": [
        "IPY_MODEL_92703755d8f74aae89b7f06ada3f6496",
        "IPY_MODEL_90e132ec873b4c72aa2ff7b7dd04cc0f"
       ],
       "layout": "IPY_MODEL_7facc299cfc34269b8bc09ecf238e4a6"
      }
     },
     "066ffbddbb724515a74f044c0e03af47": {
      "model_module": "@jupyter-widgets/base",
      "model_module_version": "1.0.0",
      "model_name": "LayoutModel",
      "state": {}
     },
     "0683a782ef144a8b8fe64d0539892c52": {
      "model_module": "@jupyter-widgets/base",
      "model_module_version": "1.0.0",
      "model_name": "LayoutModel",
      "state": {}
     },
     "068449d6e84d47ba93bee86a28fc050c": {
      "model_module": "@jupyter-widgets/controls",
      "model_module_version": "1.0.0",
      "model_name": "HTMLModel",
      "state": {
       "layout": "IPY_MODEL_3d5058bc2e3b4e539cc00452ef824c4d",
       "style": "IPY_MODEL_5a37f347672e48bd8f2a78eaaaf41828",
       "value": "<img src=\"interactive_circle.png\" id=\"snapshot_id_11_1536246416146\"/>\n <div id=\"snapshot_id_12_1536246416146\">interactive_circle.png</div>"
      }
     },
     "069cd5a6455f43a3a20f330a4c55e438": {
      "model_module": "@jupyter-widgets/controls",
      "model_module_version": "1.0.0",
      "model_name": "SliderStyleModel",
      "state": {
       "description_width": ""
      }
     },
     "06b27714f4f04550bd0981fdc6d7d157": {
      "model_module": "@jupyter-widgets/controls",
      "model_module_version": "1.0.0",
      "model_name": "SliderStyleModel",
      "state": {
       "description_width": ""
      }
     },
     "06e42f4e9d2744c8b640b4b537d534d8": {
      "model_module": "@jupyter-widgets/base",
      "model_module_version": "1.0.0",
      "model_name": "LayoutModel",
      "state": {}
     },
     "0711718a6c504992a69b52793ab8fae7": {
      "model_module": "@jupyter-widgets/base",
      "model_module_version": "1.0.0",
      "model_name": "LayoutModel",
      "state": {}
     },
     "071db224102a43ea88cf25df7b21e318": {
      "model_module": "@jupyter-widgets/controls",
      "model_module_version": "1.0.0",
      "model_name": "SliderStyleModel",
      "state": {
       "description_width": ""
      }
     },
     "071eca30f4084ad5adbe8938eb8d99f1": {
      "model_module": "@jupyter-widgets/controls",
      "model_module_version": "1.0.0",
      "model_name": "SliderStyleModel",
      "state": {
       "description_width": ""
      }
     },
     "072eb40a142c4b4baa780c08f838c4ec": {
      "model_module": "@jupyter-widgets/base",
      "model_module_version": "1.0.0",
      "model_name": "LayoutModel",
      "state": {}
     },
     "0734ac469e3443feae42710aaa7e02fd": {
      "model_module": "@jupyter-widgets/base",
      "model_module_version": "1.0.0",
      "model_name": "LayoutModel",
      "state": {}
     },
     "073caac3c8f54eb0b927bc56bd31fab4": {
      "model_module": "@jupyter-widgets/controls",
      "model_module_version": "1.0.0",
      "model_name": "SliderStyleModel",
      "state": {
       "description_width": ""
      }
     },
     "07428dc03a9b492bb050648b100fabc7": {
      "model_module": "@jupyter-widgets/base",
      "model_module_version": "1.0.0",
      "model_name": "LayoutModel",
      "state": {}
     },
     "075a08c4b40b4fb08c3c09feb464c993": {
      "model_module": "@jupyter-widgets/base",
      "model_module_version": "1.0.0",
      "model_name": "LayoutModel",
      "state": {}
     },
     "076401acc0ed4270ba5ddb059105b700": {
      "model_module": "@jupyter-widgets/controls",
      "model_module_version": "1.0.0",
      "model_name": "SliderStyleModel",
      "state": {
       "description_width": ""
      }
     },
     "076d5de6fca2426e900b6d0c1da1ad9f": {
      "model_module": "@jupyter-widgets/controls",
      "model_module_version": "1.0.0",
      "model_name": "SliderStyleModel",
      "state": {
       "description_width": ""
      }
     },
     "077146c174644a00a7adc7c9f61fcb14": {
      "model_module": "@jupyter-widgets/controls",
      "model_module_version": "1.0.0",
      "model_name": "SliderStyleModel",
      "state": {
       "description_width": ""
      }
     },
     "0772d72b375e413dbcfb10010cb42e55": {
      "model_module": "@jupyter-widgets/base",
      "model_module_version": "1.0.0",
      "model_name": "LayoutModel",
      "state": {}
     },
     "077d2fa2edd74850ab287ffabf01d1fd": {
      "model_module": "@jupyter-widgets/base",
      "model_module_version": "1.0.0",
      "model_name": "LayoutModel",
      "state": {}
     },
     "077e8dc850b04a97880a0f4699b163e2": {
      "model_module": "@jupyter-widgets/base",
      "model_module_version": "1.0.0",
      "model_name": "LayoutModel",
      "state": {}
     },
     "079ecc7ed8e84960911ee838dd808b8d": {
      "model_module": "@jupyter-widgets/base",
      "model_module_version": "1.0.0",
      "model_name": "LayoutModel",
      "state": {}
     },
     "07a2488470b448bf96fe9d8b0772086d": {
      "model_module": "@jupyter-widgets/controls",
      "model_module_version": "1.0.0",
      "model_name": "SliderStyleModel",
      "state": {
       "description_width": ""
      }
     },
     "07b5d4d1e7044359bb533564608d9204": {
      "model_module": "@jupyter-widgets/base",
      "model_module_version": "1.0.0",
      "model_name": "LayoutModel",
      "state": {}
     },
     "07cb3f0a01ae4050962530ac799a9ada": {
      "model_module": "@jupyter-widgets/controls",
      "model_module_version": "1.0.0",
      "model_name": "SliderStyleModel",
      "state": {
       "description_width": ""
      }
     },
     "07cea71eb023485c9026b8bfedc33150": {
      "model_module": "@jupyter-widgets/controls",
      "model_module_version": "1.0.0",
      "model_name": "FloatSliderModel",
      "state": {
       "description": "arc",
       "layout": "IPY_MODEL_093c6e42adc542c29d6a71c9603225f8",
       "max": 6.383185307179586,
       "step": 0.1,
       "style": "IPY_MODEL_76dc543a17bd4d49a495b03b1bfa7ef8",
       "value": 6.3
      }
     },
     "07f1621bf2ff452ca1db38ef44fb98ba": {
      "model_module": "@jupyter-widgets/base",
      "model_module_version": "1.0.0",
      "model_name": "LayoutModel",
      "state": {}
     },
     "0820e16ac24e4e2ab5bb87eef8113dee": {
      "model_module": "@jupyter-widgets/controls",
      "model_module_version": "1.0.0",
      "model_name": "IntSliderModel",
      "state": {
       "description": "blue",
       "layout": "IPY_MODEL_aaf239bd30944d0cad7ddea1b6fa57c8",
       "max": 255,
       "style": "IPY_MODEL_a57c354ccb1d40f3a428ee033eff51b1",
       "value": 255
      }
     },
     "082153a5250c4617b76aef431476d507": {
      "model_module": "@jupyter-widgets/controls",
      "model_module_version": "1.0.0",
      "model_name": "SliderStyleModel",
      "state": {
       "description_width": ""
      }
     },
     "083acbc277a3405fa402c4168b4e3f9f": {
      "model_module": "@jupyter-widgets/controls",
      "model_module_version": "1.0.0",
      "model_name": "SliderStyleModel",
      "state": {
       "description_width": ""
      }
     },
     "084d47a86dc84edebc9fb623ffb3af70": {
      "model_module": "@jupyter-widgets/base",
      "model_module_version": "1.0.0",
      "model_name": "LayoutModel",
      "state": {}
     },
     "086895d5615c4299818d42ee4ec28ca3": {
      "model_module": "@jupyter-widgets/output",
      "model_module_version": "1.0.0",
      "model_name": "OutputModel",
      "state": {
       "layout": "IPY_MODEL_bccf8a24fbb2429ea1fa463826f0d2a2"
      }
     },
     "088189aff70042c3b53f758ef165629a": {
      "model_module": "@jupyter-widgets/base",
      "model_module_version": "1.0.0",
      "model_name": "LayoutModel",
      "state": {}
     },
     "088825cd23434719842e80f1370e9dad": {
      "model_module": "@jupyter-widgets/controls",
      "model_module_version": "1.0.0",
      "model_name": "TabModel",
      "state": {
       "_titles": {
        "0": "Canvas",
        "1": "Snapshot"
       },
       "children": [
        "IPY_MODEL_753b63c2122c4b64950abbbe0956daf3",
        "IPY_MODEL_aeef2d01cfaf49939ea4f81be4dc10fa"
       ],
       "layout": "IPY_MODEL_7b166f5e9d214bc3a7a8d21bcfde82de"
      }
     },
     "08a236e0088846f1a23ad747a760a532": {
      "model_module": "@jupyter-widgets/controls",
      "model_module_version": "1.0.0",
      "model_name": "SliderStyleModel",
      "state": {
       "description_width": ""
      }
     },
     "08b0c015430346f7af502b1900c78fd6": {
      "model_module": "jp_proxy_widget",
      "model_module_version": "^0.3.4",
      "model_name": "JSProxyModel",
      "state": {
       "_model_module_version": "^0.3.4",
       "_send_counter": 6,
       "_view_module_version": "^0.3.4",
       "error_msg": "No error",
       "layout": "IPY_MODEL_084d47a86dc84edebc9fb623ffb3af70",
       "rendered": true,
       "status": "Got results."
      }
     },
     "08d6ef584754424bb9a274086ea50c18": {
      "model_module": "@jupyter-widgets/controls",
      "model_module_version": "1.0.0",
      "model_name": "IntSliderModel",
      "state": {
       "description": "green",
       "layout": "IPY_MODEL_ba712410e6124d549f253b83a2386265",
       "max": 255,
       "style": "IPY_MODEL_1bdf6f48ccb644ba98c666e5630ef289",
       "value": 218
      }
     },
     "08f10721a5294105b92790e7e3ae2341": {
      "model_module": "@jupyter-widgets/base",
      "model_module_version": "1.0.0",
      "model_name": "LayoutModel",
      "state": {}
     },
     "08f6369929cf46c1ae6068c3c37a97e5": {
      "model_module": "@jupyter-widgets/controls",
      "model_module_version": "1.0.0",
      "model_name": "IntSliderModel",
      "state": {
       "description": "y",
       "layout": "IPY_MODEL_104af2a27d0846f299238f2d6746c6ed",
       "min": -100,
       "style": "IPY_MODEL_e731ce980a4a4a82923d3b480caf82d8"
      }
     },
     "092491e84d704b03a093ac4070a52555": {
      "model_module": "@jupyter-widgets/controls",
      "model_module_version": "1.0.0",
      "model_name": "SliderStyleModel",
      "state": {
       "description_width": ""
      }
     },
     "0925f9491d2a46b09bdc1c4198ebbe9e": {
      "model_module": "@jupyter-widgets/base",
      "model_module_version": "1.0.0",
      "model_name": "LayoutModel",
      "state": {}
     },
     "093c6e42adc542c29d6a71c9603225f8": {
      "model_module": "@jupyter-widgets/base",
      "model_module_version": "1.0.0",
      "model_name": "LayoutModel",
      "state": {}
     },
     "094eabe6be1141e19dcc7c25830ab854": {
      "model_module": "@jupyter-widgets/controls",
      "model_module_version": "1.0.0",
      "model_name": "SliderStyleModel",
      "state": {
       "description_width": ""
      }
     },
     "095662c712264a84874ace2ee25f9b12": {
      "model_module": "@jupyter-widgets/controls",
      "model_module_version": "1.0.0",
      "model_name": "HTMLModel",
      "state": {
       "layout": "IPY_MODEL_916d11057a8f41b9aaccb6dfd5c3370d",
       "style": "IPY_MODEL_8e0c373f41db4cc09854c9983ec840ad",
       "value": "<img src=\"interactive_rectangle.png\" id=\"snapshot_id_39_1536323697425\"/>\n <div id=\"snapshot_id_40_1536323697425\">interactive_rectangle.png</div>"
      }
     },
     "0965547da6e141d8ae9d333ef196b042": {
      "model_module": "@jupyter-widgets/controls",
      "model_module_version": "1.0.0",
      "model_name": "SliderStyleModel",
      "state": {
       "description_width": ""
      }
     },
     "09677a9ab95347d28b305760c6f174e7": {
      "model_module": "@jupyter-widgets/base",
      "model_module_version": "1.0.0",
      "model_name": "LayoutModel",
      "state": {}
     },
     "09882c0f28c24ce0a6a1169714214bf0": {
      "model_module": "@jupyter-widgets/controls",
      "model_module_version": "1.0.0",
      "model_name": "IntSliderModel",
      "state": {
       "description": "dy",
       "layout": "IPY_MODEL_a99673c6ce4d47a8a0afbad27a81988e",
       "min": -100,
       "style": "IPY_MODEL_159fa7584b624d54b0bc95dc7b102e67",
       "value": -20
      }
     },
     "09b9d669611b4f45977cf7521dfa5733": {
      "model_module": "@jupyter-widgets/controls",
      "model_module_version": "1.0.0",
      "model_name": "SliderStyleModel",
      "state": {
       "description_width": ""
      }
     },
     "09bfa3b8227f4234be3b6973c6f028e6": {
      "model_module": "@jupyter-widgets/controls",
      "model_module_version": "1.0.0",
      "model_name": "IntSliderModel",
      "state": {
       "description": "degrees",
       "layout": "IPY_MODEL_43954d7df1884b2684065c9e92e8a746",
       "max": 360,
       "min": -360,
       "style": "IPY_MODEL_4379508570554a5b9505ff68ffd31c81",
       "value": -135
      }
     },
     "09d217c780954a4094b36369a8145622": {
      "model_module": "@jupyter-widgets/controls",
      "model_module_version": "1.0.0",
      "model_name": "CheckboxModel",
      "state": {
       "description": "fill",
       "disabled": false,
       "layout": "IPY_MODEL_2e34f0fc8ec0401aaa0a52dbc5a8eb0e",
       "style": "IPY_MODEL_47eda62a46664c0e8006899dbb95c783",
       "value": false
      }
     },
     "09f9e84dc0b24f3395212e5afb68a236": {
      "model_module": "@jupyter-widgets/controls",
      "model_module_version": "1.0.0",
      "model_name": "SliderStyleModel",
      "state": {
       "description_width": ""
      }
     },
     "09fab0e60d594696ac2da9a0e1c49240": {
      "model_module": "@jupyter-widgets/controls",
      "model_module_version": "1.0.0",
      "model_name": "SliderStyleModel",
      "state": {
       "description_width": ""
      }
     },
     "0a092f6ecd2c4878844e74022c21d4d2": {
      "model_module": "@jupyter-widgets/controls",
      "model_module_version": "1.0.0",
      "model_name": "SliderStyleModel",
      "state": {
       "description_width": ""
      }
     },
     "0a0bfbafe787495bab6bda6af80167e2": {
      "model_module": "@jupyter-widgets/base",
      "model_module_version": "1.0.0",
      "model_name": "LayoutModel",
      "state": {}
     },
     "0a165a16730a411cafac642b0eafe0e5": {
      "model_module": "@jupyter-widgets/controls",
      "model_module_version": "1.0.0",
      "model_name": "DescriptionStyleModel",
      "state": {
       "description_width": ""
      }
     },
     "0a290f2ee54a4b0b91e1a19caf776beb": {
      "model_module": "@jupyter-widgets/controls",
      "model_module_version": "1.0.0",
      "model_name": "SliderStyleModel",
      "state": {
       "description_width": ""
      }
     },
     "0a39ab45b1af48b9a7f735df24b7b659": {
      "model_module": "@jupyter-widgets/base",
      "model_module_version": "1.0.0",
      "model_name": "LayoutModel",
      "state": {}
     },
     "0a61c15754a14c7398ac7bc43cf63d67": {
      "model_module": "@jupyter-widgets/controls",
      "model_module_version": "1.0.0",
      "model_name": "SliderStyleModel",
      "state": {
       "description_width": ""
      }
     },
     "0a75d7799b644b81a7dd9096b959dd7e": {
      "model_module": "@jupyter-widgets/base",
      "model_module_version": "1.0.0",
      "model_name": "LayoutModel",
      "state": {}
     },
     "0a94e72be7834372881929c340aabc03": {
      "model_module": "@jupyter-widgets/base",
      "model_module_version": "1.0.0",
      "model_name": "LayoutModel",
      "state": {}
     },
     "0a985590eb4c4369992dd537c216e700": {
      "model_module": "@jupyter-widgets/controls",
      "model_module_version": "1.0.0",
      "model_name": "IntSliderModel",
      "state": {
       "description": "w",
       "layout": "IPY_MODEL_170926b1c358431595f3c0f93b670133",
       "max": 300,
       "min": -300,
       "style": "IPY_MODEL_6e59fb65d30e409e8ee3a08184440031",
       "value": 150
      }
     },
     "0ac8962311e442a6b9131ec618ebbae7": {
      "model_module": "@jupyter-widgets/base",
      "model_module_version": "1.0.0",
      "model_name": "LayoutModel",
      "state": {}
     },
     "0af65bb5734049498a94319a63d47323": {
      "model_module": "@jupyter-widgets/controls",
      "model_module_version": "1.0.0",
      "model_name": "IntSliderModel",
      "state": {
       "description": "w",
       "layout": "IPY_MODEL_2c22ee5d344241849908524593aad2f4",
       "max": 300,
       "min": -300,
       "style": "IPY_MODEL_c84ef6aea8fd425881cea85bfb25d2dc",
       "value": 10
      }
     },
     "0b254c05cb974bb48196ad82fc71b536": {
      "model_module": "@jupyter-widgets/base",
      "model_module_version": "1.0.0",
      "model_name": "LayoutModel",
      "state": {}
     },
     "0b38796392674006bccfc9b83ac3285c": {
      "model_module": "@jupyter-widgets/base",
      "model_module_version": "1.0.0",
      "model_name": "LayoutModel",
      "state": {}
     },
     "0b388eb410ea42eaa2148e23bdda099a": {
      "model_module": "@jupyter-widgets/controls",
      "model_module_version": "1.0.0",
      "model_name": "IntSliderModel",
      "state": {
       "description": "red",
       "layout": "IPY_MODEL_8fa2c43c81c54a54bf65d9e484693c73",
       "max": 255,
       "style": "IPY_MODEL_4df9c4d1831d4dceb9ba1589c520bbde",
       "value": 127
      }
     },
     "0b3e93831e304980afb4329aabfc6a27": {
      "model_module": "@jupyter-widgets/controls",
      "model_module_version": "1.0.0",
      "model_name": "VBoxModel",
      "state": {
       "children": [
        "IPY_MODEL_b5c2db12e98c4ecb95e4b562d5ac27a9",
        "IPY_MODEL_6106db625c77487f802601fc0fa34672"
       ],
       "layout": "IPY_MODEL_a385a6cf99664b71a15615cad2739a0f"
      }
     },
     "0b5d0d312c0844f791a7f98794c10abd": {
      "model_module": "@jupyter-widgets/controls",
      "model_module_version": "1.0.0",
      "model_name": "IntSliderModel",
      "state": {
       "description": "h",
       "layout": "IPY_MODEL_56a3603eaaa844f0ba7563cf25b4c32c",
       "max": 300,
       "min": -300,
       "style": "IPY_MODEL_d68929939063440a8c1c399ead0d9b38",
       "value": 250
      }
     },
     "0b7ae5d655a54251b0f4b3fe172d2508": {
      "model_module": "@jupyter-widgets/controls",
      "model_module_version": "1.0.0",
      "model_name": "TabModel",
      "state": {
       "_titles": {
        "0": "Canvas",
        "1": "Snapshot"
       },
       "children": [
        "IPY_MODEL_75f15d47285c43418a8dbdf550a192b3",
        "IPY_MODEL_7edac2d8d79b4be5a8c9de36a201bd09"
       ],
       "layout": "IPY_MODEL_82871915cfc74f9e837977973e5ff9d7"
      }
     },
     "0b91127308ca41f3b5f7eb6c69011cd8": {
      "model_module": "@jupyter-widgets/controls",
      "model_module_version": "1.0.0",
      "model_name": "SliderStyleModel",
      "state": {
       "description_width": ""
      }
     },
     "0b947080d0254b92a8c8f0cf5938749b": {
      "model_module": "@jupyter-widgets/base",
      "model_module_version": "1.0.0",
      "model_name": "LayoutModel",
      "state": {}
     },
     "0b95c4c8fdb041f19c79512c9059213e": {
      "model_module": "@jupyter-widgets/base",
      "model_module_version": "1.0.0",
      "model_name": "LayoutModel",
      "state": {}
     },
     "0b97ea9234934a809d86a1b4bff6ff19": {
      "model_module": "@jupyter-widgets/base",
      "model_module_version": "1.0.0",
      "model_name": "LayoutModel",
      "state": {}
     },
     "0b9d6eb9450f4fb99ca4540478833373": {
      "model_module": "@jupyter-widgets/controls",
      "model_module_version": "1.0.0",
      "model_name": "SliderStyleModel",
      "state": {
       "description_width": ""
      }
     },
     "0bbcabd308a7424bafc46ff827ea4800": {
      "model_module": "@jupyter-widgets/controls",
      "model_module_version": "1.0.0",
      "model_name": "HTMLModel",
      "state": {
       "layout": "IPY_MODEL_4c7b83a3e80741779596afa730e65ebc",
       "style": "IPY_MODEL_c86e65b621944ea29cfc1e033b0d40b6",
       "value": "<img src=\"interactive_rectangle.png\" id=\"snapshot_id_23_1536268043646\"/>\n <div id=\"snapshot_id_24_1536268043646\">interactive_rectangle.png</div>"
      }
     },
     "0bbd75a7181a4e08b0e29a79e02219bc": {
      "model_module": "@jupyter-widgets/controls",
      "model_module_version": "1.0.0",
      "model_name": "SliderStyleModel",
      "state": {
       "description_width": ""
      }
     },
     "0bf0e990d3654d6b8079d465fee8c9d0": {
      "model_module": "@jupyter-widgets/controls",
      "model_module_version": "1.0.0",
      "model_name": "IntSliderModel",
      "state": {
       "description": "sHeight",
       "layout": "IPY_MODEL_5a68293086bf4e61bea025d6d33ac74f",
       "max": 600,
       "style": "IPY_MODEL_98a66b11b680404684768fd20a9d8dad",
       "value": 200
      }
     },
     "0c01f070fcf141ec97af15ae4aa6cd2e": {
      "model_module": "@jupyter-widgets/controls",
      "model_module_version": "1.0.0",
      "model_name": "SliderStyleModel",
      "state": {
       "description_width": ""
      }
     },
     "0c1b85fa2d7744d9b92b6ce8964dbaeb": {
      "model_module": "@jupyter-widgets/base",
      "model_module_version": "1.0.0",
      "model_name": "LayoutModel",
      "state": {}
     },
     "0c31c7d015cc42a8a3827a54d88b5f7f": {
      "model_module": "@jupyter-widgets/base",
      "model_module_version": "1.0.0",
      "model_name": "LayoutModel",
      "state": {}
     },
     "0c4006d73c0943cb99ce6685de810a57": {
      "model_module": "@jupyter-widgets/controls",
      "model_module_version": "1.0.0",
      "model_name": "SliderStyleModel",
      "state": {
       "description_width": ""
      }
     },
     "0c5742a5584a443ca5cb066e4ec39e35": {
      "model_module": "@jupyter-widgets/controls",
      "model_module_version": "1.0.0",
      "model_name": "IntSliderModel",
      "state": {
       "description": "y",
       "layout": "IPY_MODEL_77c37a70d686438abda8ceb2dcf1a517",
       "min": -100,
       "style": "IPY_MODEL_082153a5250c4617b76aef431476d507"
      }
     },
     "0c805990a4924a9abc03534bdc3c9551": {
      "model_module": "@jupyter-widgets/controls",
      "model_module_version": "1.0.0",
      "model_name": "DescriptionStyleModel",
      "state": {
       "description_width": ""
      }
     },
     "0c9b20fa6f0342f89eede01647a3e169": {
      "model_module": "@jupyter-widgets/controls",
      "model_module_version": "1.0.0",
      "model_name": "VBoxModel",
      "state": {
       "children": [
        "IPY_MODEL_1e8b760abbc54bd58f0b72eb6b00fcbe",
        "IPY_MODEL_df387ebf851c4805ac460a506dda15a9"
       ],
       "layout": "IPY_MODEL_98e77d776be9423bb965524d69df7df3"
      }
     },
     "0ca84b16e0db4d94b1ca67cfca0f5392": {
      "model_module": "@jupyter-widgets/base",
      "model_module_version": "1.0.0",
      "model_name": "LayoutModel",
      "state": {}
     },
     "0caa6c38d047432d8437cb74fad8de3b": {
      "model_module": "@jupyter-widgets/controls",
      "model_module_version": "1.0.0",
      "model_name": "FloatSliderModel",
      "state": {
       "description": "alpha",
       "layout": "IPY_MODEL_9b5aab8d991c48169b32e45127b67cc0",
       "max": 1,
       "step": 0.1,
       "style": "IPY_MODEL_5b8e952740c744e5b88b23014164a2e6",
       "value": 1
      }
     },
     "0cb328fb5fac4df5bd04e16affa363b2": {
      "model_module": "@jupyter-widgets/controls",
      "model_module_version": "1.0.0",
      "model_name": "SliderStyleModel",
      "state": {
       "description_width": ""
      }
     },
     "0cb87f1e88684fcc8ceb6ea892cfec1b": {
      "model_module": "@jupyter-widgets/controls",
      "model_module_version": "1.0.0",
      "model_name": "SliderStyleModel",
      "state": {
       "description_width": ""
      }
     },
     "0cd04d97c4da4af296e44f5a1fc7cd39": {
      "model_module": "@jupyter-widgets/controls",
      "model_module_version": "1.0.0",
      "model_name": "SliderStyleModel",
      "state": {
       "description_width": ""
      }
     },
     "0cd5fbec298c4c4488c83adbdc260c09": {
      "model_module": "@jupyter-widgets/controls",
      "model_module_version": "1.0.0",
      "model_name": "IntSliderModel",
      "state": {
       "description": "sHeight",
       "layout": "IPY_MODEL_784d4fa3301e452abc5224ea6dfa0361",
       "max": 60,
       "min": -20,
       "style": "IPY_MODEL_500324cbd0b24191a4e7d0811d938612",
       "value": 20
      }
     },
     "0ce20764054f4a87b81035beab5a01a4": {
      "model_module": "@jupyter-widgets/base",
      "model_module_version": "1.0.0",
      "model_name": "LayoutModel",
      "state": {}
     },
     "0cef01227f0c4904810d7642a4cf9400": {
      "model_module": "@jupyter-widgets/base",
      "model_module_version": "1.0.0",
      "model_name": "LayoutModel",
      "state": {}
     },
     "0d1a798e411c4c01a1a7fa6531a4f574": {
      "model_module": "@jupyter-widgets/base",
      "model_module_version": "1.0.0",
      "model_name": "LayoutModel",
      "state": {}
     },
     "0d1a97c4b5f043f0b93bf39679ed888e": {
      "model_module": "@jupyter-widgets/controls",
      "model_module_version": "1.0.0",
      "model_name": "IntSliderModel",
      "state": {
       "description": "green",
       "layout": "IPY_MODEL_2232333ea6a6491cb05dcddfce9ff6e1",
       "max": 255,
       "style": "IPY_MODEL_8f28642a34004b8ebb0a59d2a6e9a7b8"
      }
     },
     "0d2431a2ebde4bcfb5b9da41c8bfbf4e": {
      "model_module": "@jupyter-widgets/controls",
      "model_module_version": "1.0.0",
      "model_name": "SliderStyleModel",
      "state": {
       "description_width": ""
      }
     },
     "0d24dcc3b4f94035ae9b3b83eb6b2356": {
      "model_module": "@jupyter-widgets/controls",
      "model_module_version": "1.0.0",
      "model_name": "SliderStyleModel",
      "state": {
       "description_width": ""
      }
     },
     "0d4046d4646440acaa414b77f21f90f7": {
      "model_module": "@jupyter-widgets/controls",
      "model_module_version": "1.0.0",
      "model_name": "SliderStyleModel",
      "state": {
       "description_width": ""
      }
     },
     "0d65c9f8b8cd4c278877f04bb963daea": {
      "model_module": "@jupyter-widgets/controls",
      "model_module_version": "1.0.0",
      "model_name": "SliderStyleModel",
      "state": {
       "description_width": ""
      }
     },
     "0d6c55016e1a462aa67db37385979879": {
      "model_module": "@jupyter-widgets/controls",
      "model_module_version": "1.0.0",
      "model_name": "VBoxModel",
      "state": {
       "children": [
        "IPY_MODEL_d62b7d9d1b5641b486a86b4a85775d40",
        "IPY_MODEL_ef9b7b9508a547e79f2a8b39493d440d"
       ],
       "layout": "IPY_MODEL_9d4667ad4f4f44ef8291adb1e95a5c08"
      }
     },
     "0d6d462aab7049109a11831718f86406": {
      "model_module": "@jupyter-widgets/base",
      "model_module_version": "1.0.0",
      "model_name": "LayoutModel",
      "state": {}
     },
     "0d6e20ce23a145f6a6a18bf05360151f": {
      "model_module": "@jupyter-widgets/base",
      "model_module_version": "1.0.0",
      "model_name": "LayoutModel",
      "state": {}
     },
     "0d6eae09978a488fa7f3c6f4bdd0099a": {
      "model_module": "@jupyter-widgets/controls",
      "model_module_version": "1.0.0",
      "model_name": "SliderStyleModel",
      "state": {
       "description_width": ""
      }
     },
     "0d76138d9c31432481555163e720f8ca": {
      "model_module": "@jupyter-widgets/controls",
      "model_module_version": "1.0.0",
      "model_name": "SliderStyleModel",
      "state": {
       "description_width": ""
      }
     },
     "0d81f56be12742fe9af4c0a1c5e224c6": {
      "model_module": "@jupyter-widgets/controls",
      "model_module_version": "1.0.0",
      "model_name": "SliderStyleModel",
      "state": {
       "description_width": ""
      }
     },
     "0d8e833a5ebb4b0a9a741f98eace2d23": {
      "model_module": "@jupyter-widgets/controls",
      "model_module_version": "1.0.0",
      "model_name": "VBoxModel",
      "state": {
       "_dom_classes": [
        "widget-interact"
       ],
       "children": [
        "IPY_MODEL_ed31773af6e94dd2bc8a42399460139f",
        "IPY_MODEL_7de48c2a592f413d89a01ab6f916a0a3",
        "IPY_MODEL_f0987f95a7ba457dbec95aee3f0208f4",
        "IPY_MODEL_b4c01577aea743c4a6eef4e24c173613",
        "IPY_MODEL_dbd54d9aa4a141ee9a6de65c07589d0d",
        "IPY_MODEL_a6c255d5f322481e8d481b38835666a8",
        "IPY_MODEL_8e4fdad9bf9642faa4745b8060ff30a6",
        "IPY_MODEL_eda0a9e39c374f15833c5295cc36135d"
       ],
       "layout": "IPY_MODEL_b907ef09c8714810a75f1a84b4fedd54"
      }
     },
     "0d8ef70c113a406e9d845bd05d245abc": {
      "model_module": "@jupyter-widgets/controls",
      "model_module_version": "1.0.0",
      "model_name": "SliderStyleModel",
      "state": {
       "description_width": ""
      }
     },
     "0d9500af9f814ce382e464bd7536ede5": {
      "model_module": "@jupyter-widgets/base",
      "model_module_version": "1.0.0",
      "model_name": "LayoutModel",
      "state": {}
     },
     "0da7d200c9374e8aa583dde3e514bf86": {
      "model_module": "@jupyter-widgets/base",
      "model_module_version": "1.0.0",
      "model_name": "LayoutModel",
      "state": {}
     },
     "0db4fe523f844d1cb607269ac13e0270": {
      "model_module": "@jupyter-widgets/controls",
      "model_module_version": "1.0.0",
      "model_name": "SliderStyleModel",
      "state": {
       "description_width": ""
      }
     },
     "0dc07ffe40814fa3a0b829a2dd0f9b01": {
      "model_module": "@jupyter-widgets/controls",
      "model_module_version": "1.0.0",
      "model_name": "SliderStyleModel",
      "state": {
       "description_width": ""
      }
     },
     "0dc100683cfa456ebc8efd91961e6e46": {
      "model_module": "@jupyter-widgets/controls",
      "model_module_version": "1.0.0",
      "model_name": "SliderStyleModel",
      "state": {
       "description_width": ""
      }
     },
     "0dc53b1eb5e94cdab25a60fa959d7160": {
      "model_module": "@jupyter-widgets/base",
      "model_module_version": "1.0.0",
      "model_name": "LayoutModel",
      "state": {}
     },
     "0e03e61d7c234ed0b6c7b1b0d0e95cb9": {
      "model_module": "@jupyter-widgets/base",
      "model_module_version": "1.0.0",
      "model_name": "LayoutModel",
      "state": {}
     },
     "0e0f736cb1244181a578d9fe1bd18a5c": {
      "model_module": "@jupyter-widgets/controls",
      "model_module_version": "1.0.0",
      "model_name": "IntSliderModel",
      "state": {
       "description": "blue",
       "layout": "IPY_MODEL_a76598dabb5b438eb99011de3a3e5eb9",
       "max": 255,
       "style": "IPY_MODEL_122941342671498786a80d48157096c1",
       "value": 255
      }
     },
     "0e236c0abc8543678cde80a20f77d38a": {
      "model_module": "@jupyter-widgets/controls",
      "model_module_version": "1.0.0",
      "model_name": "SliderStyleModel",
      "state": {
       "description_width": ""
      }
     },
     "0e58615fe41543d0b022cf6dfd39402c": {
      "model_module": "@jupyter-widgets/controls",
      "model_module_version": "1.0.0",
      "model_name": "SliderStyleModel",
      "state": {
       "description_width": ""
      }
     },
     "0e615e5c637d466ba260c1deef5e2672": {
      "model_module": "@jupyter-widgets/base",
      "model_module_version": "1.0.0",
      "model_name": "LayoutModel",
      "state": {}
     },
     "0e6eeb4bec9d46b5975422d325b91e82": {
      "model_module": "@jupyter-widgets/controls",
      "model_module_version": "1.0.0",
      "model_name": "SliderStyleModel",
      "state": {
       "description_width": ""
      }
     },
     "0e8c2fd6ecf64207855b47f5058b8346": {
      "model_module": "@jupyter-widgets/base",
      "model_module_version": "1.0.0",
      "model_name": "LayoutModel",
      "state": {}
     },
     "0eb03ac1fd3f4bbaac2f11c2fdc71877": {
      "model_module": "@jupyter-widgets/base",
      "model_module_version": "1.0.0",
      "model_name": "LayoutModel",
      "state": {}
     },
     "0eb2be7a42924abda08834e268871f33": {
      "model_module": "jp_proxy_widget",
      "model_module_version": "^0.3.4",
      "model_name": "JSProxyModel",
      "state": {
       "_model_module_version": "^0.3.4",
       "_send_counter": 2,
       "_view_module_version": "^0.3.4",
       "error_msg": "No error",
       "layout": "IPY_MODEL_7bbcb409e9284b17bf0993b8c1a7121f",
       "rendered": true,
       "status": "call back to <function callback_function at 0x103b63398>"
      }
     },
     "0eb2e51813de43a48111f85c8dbae638": {
      "model_module": "@jupyter-widgets/base",
      "model_module_version": "1.0.0",
      "model_name": "LayoutModel",
      "state": {}
     },
     "0eee68637e81438f949455d8b040a62a": {
      "model_module": "@jupyter-widgets/controls",
      "model_module_version": "1.0.0",
      "model_name": "IntSliderModel",
      "state": {
       "description": "h",
       "layout": "IPY_MODEL_6d25f4b246244bff9f7ed1b283126c57",
       "max": 300,
       "min": -300,
       "style": "IPY_MODEL_c01861edb4c64525bc96a4f0b9758722",
       "value": 50
      }
     },
     "0efde9d58262422e94d9940d190f9520": {
      "model_module": "@jupyter-widgets/base",
      "model_module_version": "1.0.0",
      "model_name": "LayoutModel",
      "state": {}
     },
     "0f0b3e7c4792423d9ee9aa5f00f82f9e": {
      "model_module": "@jupyter-widgets/controls",
      "model_module_version": "1.0.0",
      "model_name": "IntSliderModel",
      "state": {
       "description": "x",
       "layout": "IPY_MODEL_d489cc2f4f5844a08f377f7dbbf5b611",
       "min": -100,
       "style": "IPY_MODEL_1664fb07bba348f582190d9fa1b70172"
      }
     },
     "0f40adde64bb4a949323981cbd3dc422": {
      "model_module": "@jupyter-widgets/controls",
      "model_module_version": "1.0.0",
      "model_name": "IntSliderModel",
      "state": {
       "description": "degrees",
       "layout": "IPY_MODEL_e138db6a2e5149f5ad8104ed0b3ae41f",
       "max": 360,
       "min": -360,
       "style": "IPY_MODEL_de4aad0c3d944fa99f7b24f6b8a7973a"
      }
     },
     "0f51c34da49247b99b71ecdd5497bf39": {
      "model_module": "@jupyter-widgets/base",
      "model_module_version": "1.0.0",
      "model_name": "LayoutModel",
      "state": {}
     },
     "0fa1afb4ceb347fc9d0a5c5b49b11c87": {
      "model_module": "@jupyter-widgets/controls",
      "model_module_version": "1.0.0",
      "model_name": "SliderStyleModel",
      "state": {
       "description_width": ""
      }
     },
     "0fd3cb40dba6496f8ec1e16175f84e53": {
      "model_module": "@jupyter-widgets/controls",
      "model_module_version": "1.0.0",
      "model_name": "SliderStyleModel",
      "state": {
       "description_width": ""
      }
     },
     "0fd823d818d745a59459b962e94bac3a": {
      "model_module": "@jupyter-widgets/base",
      "model_module_version": "1.0.0",
      "model_name": "LayoutModel",
      "state": {}
     },
     "0fe33f6ce39c4997bcb980b16c3ac51e": {
      "model_module": "@jupyter-widgets/base",
      "model_module_version": "1.0.0",
      "model_name": "LayoutModel",
      "state": {}
     },
     "0fe6f8f30ef94655830193d419e41e25": {
      "model_module": "@jupyter-widgets/controls",
      "model_module_version": "1.0.0",
      "model_name": "SliderStyleModel",
      "state": {
       "description_width": ""
      }
     },
     "0ff24370f34945b399f1c2bcdc9900fd": {
      "model_module": "@jupyter-widgets/base",
      "model_module_version": "1.0.0",
      "model_name": "LayoutModel",
      "state": {}
     },
     "0ffacdeea28a4d518cd9b36addba4e47": {
      "model_module": "@jupyter-widgets/controls",
      "model_module_version": "1.0.0",
      "model_name": "SliderStyleModel",
      "state": {
       "description_width": ""
      }
     },
     "1000747db3224025aa9f220ec43e0a10": {
      "model_module": "@jupyter-widgets/base",
      "model_module_version": "1.0.0",
      "model_name": "LayoutModel",
      "state": {}
     },
     "100e70db0d62423b93c3ff6f291feae1": {
      "model_module": "@jupyter-widgets/controls",
      "model_module_version": "1.0.0",
      "model_name": "IntSliderModel",
      "state": {
       "description": "sWidth",
       "layout": "IPY_MODEL_2f98d56cccb649dfa78b7c580cbbda10",
       "max": 600,
       "style": "IPY_MODEL_cadbede7b5c04d618228bf7258ba0558",
       "value": 140
      }
     },
     "10112307254d466ea0e7ce2f47ad3a71": {
      "model_module": "@jupyter-widgets/base",
      "model_module_version": "1.0.0",
      "model_name": "LayoutModel",
      "state": {}
     },
     "104af2a27d0846f299238f2d6746c6ed": {
      "model_module": "@jupyter-widgets/base",
      "model_module_version": "1.0.0",
      "model_name": "LayoutModel",
      "state": {}
     },
     "106ae15c35714f68a260aa36ffcbdf87": {
      "model_module": "@jupyter-widgets/base",
      "model_module_version": "1.0.0",
      "model_name": "LayoutModel",
      "state": {}
     },
     "1074c68f3fbb4175a73ee6587dac4f2d": {
      "model_module": "@jupyter-widgets/base",
      "model_module_version": "1.0.0",
      "model_name": "LayoutModel",
      "state": {}
     },
     "107743a1024c4ae69ca4478704750b3c": {
      "model_module": "@jupyter-widgets/controls",
      "model_module_version": "1.0.0",
      "model_name": "IntSliderModel",
      "state": {
       "description": "h",
       "layout": "IPY_MODEL_78a2a8296214403b863bd782faff1aff",
       "max": 300,
       "min": -300,
       "style": "IPY_MODEL_120d98a6ea0d482daa52b66457fc1925",
       "value": 50
      }
     },
     "1099c7ec884643e3a302c56a26a48516": {
      "model_module": "jp_proxy_widget",
      "model_module_version": "^0.3.4",
      "model_name": "JSProxyModel",
      "state": {
       "_model_module_version": "^0.3.4",
       "_send_counter": 2,
       "_view_module_version": "^0.3.4",
       "error_msg": "No error",
       "layout": "IPY_MODEL_97fd86653c0445ae813726681c636030",
       "rendered": true,
       "status": "Got results."
      }
     },
     "109ee51aa37a4caa9c892b2df134729e": {
      "model_module": "@jupyter-widgets/base",
      "model_module_version": "1.0.0",
      "model_name": "LayoutModel",
      "state": {}
     },
     "10a3705620fd4a1a988a4484cfbaac72": {
      "model_module": "@jupyter-widgets/controls",
      "model_module_version": "1.0.0",
      "model_name": "SliderStyleModel",
      "state": {
       "description_width": ""
      }
     },
     "10d5d358ab884c8b971ff2fc7ce1d2eb": {
      "model_module": "@jupyter-widgets/controls",
      "model_module_version": "1.0.0",
      "model_name": "VBoxModel",
      "state": {
       "children": [
        "IPY_MODEL_7899031a98a84214a4617ed3b18814bc",
        "IPY_MODEL_05e92ab3b2fb4499bbf686498455913e"
       ],
       "layout": "IPY_MODEL_ac1085b427584a88b03c019ba5b35317"
      }
     },
     "11404e3697a74494a8812bb353847cd1": {
      "model_module": "@jupyter-widgets/base",
      "model_module_version": "1.0.0",
      "model_name": "LayoutModel",
      "state": {}
     },
     "114e89592ecf463994b3d44e55a4f21b": {
      "model_module": "@jupyter-widgets/controls",
      "model_module_version": "1.0.0",
      "model_name": "TabModel",
      "state": {
       "_titles": {
        "0": "Canvas",
        "1": "Snapshot"
       },
       "children": [
        "IPY_MODEL_8f0e874f1bb54531bd295b3b7f0aaec8",
        "IPY_MODEL_98a2afdb76074604a1cafa8c16393664"
       ],
       "layout": "IPY_MODEL_9d64662664ed47d5b4fc274ae7bc739c"
      }
     },
     "115273af4d1f468cb248f0bdfbc4b940": {
      "model_module": "@jupyter-widgets/controls",
      "model_module_version": "1.0.0",
      "model_name": "DescriptionStyleModel",
      "state": {
       "description_width": ""
      }
     },
     "11725c45809344a4abd493179511a0f6": {
      "model_module": "@jupyter-widgets/base",
      "model_module_version": "1.0.0",
      "model_name": "LayoutModel",
      "state": {}
     },
     "11b4cd7275ae454b9f8f4193c877792f": {
      "model_module": "@jupyter-widgets/controls",
      "model_module_version": "1.0.0",
      "model_name": "SliderStyleModel",
      "state": {
       "description_width": ""
      }
     },
     "11c5f59ec26b4c4da592ae8e89b38d47": {
      "model_module": "@jupyter-widgets/base",
      "model_module_version": "1.0.0",
      "model_name": "LayoutModel",
      "state": {}
     },
     "11d8c75a31fc47a68db22ba03fe70172": {
      "model_module": "@jupyter-widgets/base",
      "model_module_version": "1.0.0",
      "model_name": "LayoutModel",
      "state": {}
     },
     "11effc9b4d684044bac4a61fa0eacaa7": {
      "model_module": "@jupyter-widgets/base",
      "model_module_version": "1.0.0",
      "model_name": "LayoutModel",
      "state": {}
     },
     "11fea5e7575d45f4a007f28bbf303921": {
      "model_module": "@jupyter-widgets/controls",
      "model_module_version": "1.0.0",
      "model_name": "SliderStyleModel",
      "state": {
       "description_width": ""
      }
     },
     "12052c1d46b045e58e90d9e737c2c681": {
      "model_module": "@jupyter-widgets/controls",
      "model_module_version": "1.0.0",
      "model_name": "IntSliderModel",
      "state": {
       "description": "dx",
       "layout": "IPY_MODEL_b2ed388f1ce8464299386cad081b0c3e",
       "min": -100,
       "style": "IPY_MODEL_44fa149ccbf6424aa54a431f76f99a36",
       "value": -100
      }
     },
     "1208b49613fd4be594bcfb44dd1db62f": {
      "model_module": "@jupyter-widgets/base",
      "model_module_version": "1.0.0",
      "model_name": "LayoutModel",
      "state": {}
     },
     "120d49b4e746400da20e028973a20fe7": {
      "model_module": "@jupyter-widgets/controls",
      "model_module_version": "1.0.0",
      "model_name": "HTMLModel",
      "state": {
       "layout": "IPY_MODEL_053eeb61df224b709839b44ad5e51b19",
       "style": "IPY_MODEL_2af5751967594d488226afc3e3138e0b",
       "value": "<img src=\"interactive_circle.png\" id=\"snapshot_id_15_1536246643964\"/>\n <div id=\"snapshot_id_16_1536246643964\">interactive_circle.png</div>"
      }
     },
     "120d98a6ea0d482daa52b66457fc1925": {
      "model_module": "@jupyter-widgets/controls",
      "model_module_version": "1.0.0",
      "model_name": "SliderStyleModel",
      "state": {
       "description_width": ""
      }
     },
     "120f53b2f22744898f2dcba332c72471": {
      "model_module": "@jupyter-widgets/controls",
      "model_module_version": "1.0.0",
      "model_name": "IntSliderModel",
      "state": {
       "description": "y",
       "layout": "IPY_MODEL_a4a10e91ee514e8d8df3c62120e8ad7e",
       "min": -100,
       "style": "IPY_MODEL_4e85ca2ee6ce4dd8b293e0b42f3b4f56"
      }
     },
     "122941342671498786a80d48157096c1": {
      "model_module": "@jupyter-widgets/controls",
      "model_module_version": "1.0.0",
      "model_name": "SliderStyleModel",
      "state": {
       "description_width": ""
      }
     },
     "122f550f05fb4f0d8e737fe3ce01ad00": {
      "model_module": "@jupyter-widgets/controls",
      "model_module_version": "1.0.0",
      "model_name": "IntSliderModel",
      "state": {
       "description": "w",
       "layout": "IPY_MODEL_69c090e5603049bc8fad6c2c4b800e80",
       "max": 300,
       "min": -300,
       "style": "IPY_MODEL_be7fa198ec62415f8aa89fdb112aea29",
       "value": 10
      }
     },
     "122fc5d0a6bb484faa705b52ab066bad": {
      "model_module": "@jupyter-widgets/base",
      "model_module_version": "1.0.0",
      "model_name": "LayoutModel",
      "state": {}
     },
     "12321996fd1949d5b398aac5d4f07243": {
      "model_module": "@jupyter-widgets/controls",
      "model_module_version": "1.0.0",
      "model_name": "SliderStyleModel",
      "state": {
       "description_width": ""
      }
     },
     "124a015963a64957b53a1809622e49c0": {
      "model_module": "@jupyter-widgets/base",
      "model_module_version": "1.0.0",
      "model_name": "LayoutModel",
      "state": {}
     },
     "125cdc713dbf45e28d6018c9d5dfb4c9": {
      "model_module": "@jupyter-widgets/controls",
      "model_module_version": "1.0.0",
      "model_name": "SliderStyleModel",
      "state": {
       "description_width": ""
      }
     },
     "12686f784b0f4718bbdc499cb0caf71f": {
      "model_module": "@jupyter-widgets/base",
      "model_module_version": "1.0.0",
      "model_name": "LayoutModel",
      "state": {}
     },
     "1271f322b3584bdbadd7f2e75bcbf457": {
      "model_module": "@jupyter-widgets/controls",
      "model_module_version": "1.0.0",
      "model_name": "VBoxModel",
      "state": {
       "_dom_classes": [
        "widget-interact"
       ],
       "children": [
        "IPY_MODEL_fd43698bb1194bdb8258140acfcdfd3d",
        "IPY_MODEL_2d904ae99ba04142b53fc480c126672e",
        "IPY_MODEL_122f550f05fb4f0d8e737fe3ce01ad00",
        "IPY_MODEL_3df1634a2c3d4b5e9c98b5f6f6ad482f",
        "IPY_MODEL_29a846cc8705469ca82fa3c96a3ff821",
        "IPY_MODEL_647ce9212691432a87459cdd8194af6c",
        "IPY_MODEL_e840521b5a9942ee938e6f4faa2e7a5f",
        "IPY_MODEL_8ebc81d3151648448774381e62667d6b",
        "IPY_MODEL_c53d22c942cc477bbdabb683b00226fb",
        "IPY_MODEL_d02d01235e7a41b2854466446ea553e6",
        "IPY_MODEL_e3f0163e0a9c414a9e23e893bdb1d803",
        "IPY_MODEL_79af80ea7bce48508e4ac2360b1a826d",
        "IPY_MODEL_1f74090739164ba0851cb28751655374",
        "IPY_MODEL_d541291b54994d64b270097d8966c4bd"
       ],
       "layout": "IPY_MODEL_0523c1154da14aba9d5473b750217bf9"
      }
     },
     "12931c63b5634be2afedfda63b29c293": {
      "model_module": "@jupyter-widgets/controls",
      "model_module_version": "1.0.0",
      "model_name": "IntSliderModel",
      "state": {
       "description": "lineWidth",
       "layout": "IPY_MODEL_9c5ae278ac4948d2acdbaf383b292661",
       "max": 20,
       "style": "IPY_MODEL_a483f93a31554b3e9e2c4271b9406ecb",
       "value": 3
      }
     },
     "12a3242046b34ff591c74db7bf236a5c": {
      "model_module": "@jupyter-widgets/controls",
      "model_module_version": "1.0.0",
      "model_name": "VBoxModel",
      "state": {
       "_dom_classes": [
        "widget-interact"
       ],
       "children": [
        "IPY_MODEL_98a813ba7dca45c2b8edf6b8e9546508",
        "IPY_MODEL_1d1954f8861b474aab082cc4ac7996a8",
        "IPY_MODEL_f9ad8d21513547de90ca9045004db9fa",
        "IPY_MODEL_7fdc6cc7737c4e5cbf198155c702e7f2",
        "IPY_MODEL_04677a21e0b2442390fd49f6e9526c8b",
        "IPY_MODEL_bfe986d974c84706b6a41a8165cc18a5",
        "IPY_MODEL_c6b1d45510234e3d8d35ac54244f371c",
        "IPY_MODEL_86c35f9699ae467b8db928ca74dba34a",
        "IPY_MODEL_8e4a56c8101c40f1a14e61aaacdb2c8f",
        "IPY_MODEL_230e70817e9547c5963daa5665fbdd22",
        "IPY_MODEL_1e73d9abf7ae450f8ff2a199d73bdc56",
        "IPY_MODEL_ad9ac3883d7a4a2cb5551d0094173280"
       ],
       "layout": "IPY_MODEL_a4f2033e14044ccbb37742b372673847"
      }
     },
     "12ea862f319a46c8aa68afac893f4b87": {
      "model_module": "@jupyter-widgets/base",
      "model_module_version": "1.0.0",
      "model_name": "LayoutModel",
      "state": {}
     },
     "12ec4dcca7e1440aab1ba95c407f5aca": {
      "model_module": "@jupyter-widgets/controls",
      "model_module_version": "1.0.0",
      "model_name": "SliderStyleModel",
      "state": {
       "description_width": ""
      }
     },
     "12f5c7292f984cbfaa022fe0d962b938": {
      "model_module": "@jupyter-widgets/controls",
      "model_module_version": "1.0.0",
      "model_name": "IntSliderModel",
      "state": {
       "description": "lineWidth",
       "layout": "IPY_MODEL_7fc028dcfb1045048e2a8f12a6fdd82b",
       "max": 20,
       "style": "IPY_MODEL_e17ce102f5694f0380adbd04975fc627",
       "value": 3
      }
     },
     "130182fe5e2247bdbf790694a5976e3d": {
      "model_module": "@jupyter-widgets/controls",
      "model_module_version": "1.0.0",
      "model_name": "SliderStyleModel",
      "state": {
       "description_width": ""
      }
     },
     "1308b2fb398b4e878230528401d0ada8": {
      "model_module": "@jupyter-widgets/base",
      "model_module_version": "1.0.0",
      "model_name": "LayoutModel",
      "state": {}
     },
     "13297f3152a34b9298341b60caea4539": {
      "model_module": "@jupyter-widgets/controls",
      "model_module_version": "1.0.0",
      "model_name": "IntSliderModel",
      "state": {
       "description": "x",
       "layout": "IPY_MODEL_5b00a32788d7476eada0d76766fe5fca",
       "min": -100,
       "style": "IPY_MODEL_fdfddd90df834e06a1e3624430080d0f"
      }
     },
     "13563a364b374ca2b69630ec7090f0c0": {
      "model_module": "@jupyter-widgets/base",
      "model_module_version": "1.0.0",
      "model_name": "LayoutModel",
      "state": {}
     },
     "1362e65b3e074c9bba9dcfc817c42cc8": {
      "model_module": "@jupyter-widgets/controls",
      "model_module_version": "1.0.0",
      "model_name": "SliderStyleModel",
      "state": {
       "description_width": ""
      }
     },
     "137c597f04934d4c9baf93a518bfb986": {
      "model_module": "@jupyter-widgets/base",
      "model_module_version": "1.0.0",
      "model_name": "LayoutModel",
      "state": {}
     },
     "139ed70ad6d942a387c84db7bd7fe0ca": {
      "model_module": "@jupyter-widgets/controls",
      "model_module_version": "1.0.0",
      "model_name": "VBoxModel",
      "state": {
       "_dom_classes": [
        "widget-interact"
       ],
       "children": [
        "IPY_MODEL_7034e15b99524fcfa7fa3f7d3136bebe",
        "IPY_MODEL_9b8b4bdb88154cfcaa2cd7f9c2c342cc",
        "IPY_MODEL_808583d75fc84ac3ac6d49ac3e523722",
        "IPY_MODEL_a41cb1462eaa4cfe90417e2b625aefc7",
        "IPY_MODEL_874285e201fa4a3a91eaa9a00f0c449c",
        "IPY_MODEL_575d18eb29ed4d328263cf88d4443f12",
        "IPY_MODEL_0f40adde64bb4a949323981cbd3dc422",
        "IPY_MODEL_c5726901884c4db9a68d78bda805df23",
        "IPY_MODEL_355b75f9f77f4c7882dca5e9a796f15b",
        "IPY_MODEL_ad76cdf708024e84af977f430db6754f",
        "IPY_MODEL_019f95e0bcc14171a624a10eb9e017c3",
        "IPY_MODEL_5a85a914431f4a858d985f2fc999a4fe",
        "IPY_MODEL_7fac70abfe8044c6b8d6fd23f0342eae",
        "IPY_MODEL_73275ec3a7884fc5bbb9adc97de3af76"
       ],
       "layout": "IPY_MODEL_62343e7b586e46e882aa91386486be97"
      }
     },
     "13c4018925354b7d85fb02998ea8d51e": {
      "model_module": "@jupyter-widgets/controls",
      "model_module_version": "1.0.0",
      "model_name": "IntSliderModel",
      "state": {
       "description": "blue",
       "layout": "IPY_MODEL_7bc23c6caa9f4946ad4b068af408efc5",
       "max": 255,
       "style": "IPY_MODEL_97491f28898642c081bd46967fc78799",
       "value": 255
      }
     },
     "13d3fe13e99b498dbd1e027865445c76": {
      "model_module": "@jupyter-widgets/controls",
      "model_module_version": "1.0.0",
      "model_name": "SliderStyleModel",
      "state": {
       "description_width": ""
      }
     },
     "13f59ec8017b48de8228e9e338d677c8": {
      "model_module": "@jupyter-widgets/controls",
      "model_module_version": "1.0.0",
      "model_name": "HTMLModel",
      "state": {
       "layout": "IPY_MODEL_f8ced2bdfc204b8a98b0151b8ae9518b",
       "style": "IPY_MODEL_c2b3394930fe46b98efeb21050ba75fe",
       "value": "<img src=\"interactive_image.png\" id=\"snapshot_id_27_1536960315234\"/>\n <div id=\"snapshot_id_28_1536960315234\">interactive_image.png</div>"
      }
     },
     "1415fdca4e46409eb59cf54fee80efde": {
      "model_module": "@jupyter-widgets/controls",
      "model_module_version": "1.0.0",
      "model_name": "CheckboxModel",
      "state": {
       "description": "fill",
       "disabled": false,
       "layout": "IPY_MODEL_4e474971b7ee444eadc96a53044a7388",
       "style": "IPY_MODEL_2bbddc9e026c40ada225af4c8d2c4e06",
       "value": true
      }
     },
     "141f0da05dd043878ada6d01aabde1de": {
      "model_module": "@jupyter-widgets/controls",
      "model_module_version": "1.0.0",
      "model_name": "DescriptionStyleModel",
      "state": {
       "description_width": ""
      }
     },
     "143b40abd0c74a17ad2101fc0641b2b3": {
      "model_module": "@jupyter-widgets/base",
      "model_module_version": "1.0.0",
      "model_name": "LayoutModel",
      "state": {}
     },
     "144badcb5fbd449981ed86172490c0c4": {
      "model_module": "@jupyter-widgets/controls",
      "model_module_version": "1.0.0",
      "model_name": "FloatSliderModel",
      "state": {
       "description": "arc",
       "layout": "IPY_MODEL_a0e6c29185ba4a178c97daab2a966d73",
       "max": 6.283185307179586,
       "step": 0.1,
       "style": "IPY_MODEL_ddd3393332a5443e94ae144936613414",
       "value": 4.5
      }
     },
     "14681b007f684debbfd0f56b201cc68c": {
      "model_module": "@jupyter-widgets/controls",
      "model_module_version": "1.0.0",
      "model_name": "IntSliderModel",
      "state": {
       "description": "dx",
       "layout": "IPY_MODEL_28ba04977e8e405c985da17c6576161c",
       "min": -100,
       "style": "IPY_MODEL_5c8502e0d7534ddc99ad6e7554a031dc",
       "value": -50
      }
     },
     "146a607c903f469badb1bc31b9aba4c0": {
      "model_module": "@jupyter-widgets/controls",
      "model_module_version": "1.0.0",
      "model_name": "FloatSliderModel",
      "state": {
       "description": "alpha",
       "layout": "IPY_MODEL_8bd9c7f3f09a4c85b75550e67253e9d1",
       "max": 1,
       "step": 0.1,
       "style": "IPY_MODEL_bf61708c3c25461fa129665eb9f0b3ef",
       "value": 0.5
      }
     },
     "146c0a6f1a824f8bbd35085e8d13b9b6": {
      "model_module": "@jupyter-widgets/controls",
      "model_module_version": "1.0.0",
      "model_name": "IntSliderModel",
      "state": {
       "description": "dy",
       "layout": "IPY_MODEL_0c31c7d015cc42a8a3827a54d88b5f7f",
       "min": -100,
       "style": "IPY_MODEL_a1375b53da4f4068aec8ade52100ed1d",
       "value": -25
      }
     },
     "148ac0d4cb4c4108b648c4c3a215b187": {
      "model_module": "@jupyter-widgets/controls",
      "model_module_version": "1.0.0",
      "model_name": "DescriptionStyleModel",
      "state": {
       "description_width": ""
      }
     },
     "148dea211f784b30991994f8ecf3e4b5": {
      "model_module": "jp_proxy_widget",
      "model_module_version": "^0.3.4",
      "model_name": "JSProxyModel",
      "state": {
       "_model_module_version": "^0.3.4",
       "_send_counter": 1021,
       "_view_module_version": "^0.3.4",
       "error_msg": "No error",
       "layout": "IPY_MODEL_375bc42d11b646dd89206f9674093396",
       "rendered": true,
       "status": "Got results."
      }
     },
     "149f62dd827046de8537b83f1aa1334c": {
      "model_module": "@jupyter-widgets/controls",
      "model_module_version": "1.0.0",
      "model_name": "SliderStyleModel",
      "state": {
       "description_width": ""
      }
     },
     "14b11e93c11e4d57a18430fb830bf4aa": {
      "model_module": "@jupyter-widgets/controls",
      "model_module_version": "1.0.0",
      "model_name": "SliderStyleModel",
      "state": {
       "description_width": ""
      }
     },
     "14b71e8d5ee64cd882b295919891f6a0": {
      "model_module": "jp_proxy_widget",
      "model_module_version": "^0.3.4",
      "model_name": "JSProxyModel",
      "state": {
       "_model_module_version": "^0.3.4",
       "_send_counter": 2,
       "_view_module_version": "^0.3.4",
       "error_msg": "No error",
       "layout": "IPY_MODEL_eca7a409247946a78de94c9e2b6fb668",
       "rendered": true,
       "status": "call back to <function callback_function at 0x10600fc80>"
      }
     },
     "14c06f2ae0914a7d88688b7f53be2152": {
      "model_module": "@jupyter-widgets/base",
      "model_module_version": "1.0.0",
      "model_name": "LayoutModel",
      "state": {}
     },
     "14c809c8d4bb4297bae32cec73e83ce1": {
      "model_module": "@jupyter-widgets/controls",
      "model_module_version": "1.0.0",
      "model_name": "SliderStyleModel",
      "state": {
       "description_width": ""
      }
     },
     "14cb7c50d8304d09bfd9f6b26e40d8b9": {
      "model_module": "@jupyter-widgets/controls",
      "model_module_version": "1.0.0",
      "model_name": "SliderStyleModel",
      "state": {
       "description_width": ""
      }
     },
     "1508188053d547288e5eb3f6498d54ca": {
      "model_module": "@jupyter-widgets/base",
      "model_module_version": "1.0.0",
      "model_name": "LayoutModel",
      "state": {}
     },
     "153e79a861aa4a6c82c63a2fa002bc94": {
      "model_module": "@jupyter-widgets/controls",
      "model_module_version": "1.0.0",
      "model_name": "CheckboxModel",
      "state": {
       "description": "fill",
       "disabled": false,
       "layout": "IPY_MODEL_5f37afd8cd284f9e9ac5f200c87dcf80",
       "style": "IPY_MODEL_1b3737f13cfa481e9265677dca5b089f",
       "value": true
      }
     },
     "1564f7efd38a42c897ecbf21ec608e19": {
      "model_module": "@jupyter-widgets/controls",
      "model_module_version": "1.0.0",
      "model_name": "SliderStyleModel",
      "state": {
       "description_width": ""
      }
     },
     "15722c82c7014f1792c29e9902305ec0": {
      "model_module": "@jupyter-widgets/base",
      "model_module_version": "1.0.0",
      "model_name": "LayoutModel",
      "state": {}
     },
     "1575d9857d044a1f8c60ddc713402950": {
      "model_module": "@jupyter-widgets/controls",
      "model_module_version": "1.0.0",
      "model_name": "VBoxModel",
      "state": {
       "children": [
        "IPY_MODEL_785d4f9fe73e408a8315d05cd9b8a4ce",
        "IPY_MODEL_78562587a4a144cb9a4e644dfd6d8453"
       ],
       "layout": "IPY_MODEL_a366da566bb943079f4f952de94f28b9"
      }
     },
     "158b238502984896a59ed0fb976c0294": {
      "model_module": "@jupyter-widgets/base",
      "model_module_version": "1.0.0",
      "model_name": "LayoutModel",
      "state": {}
     },
     "159fa7584b624d54b0bc95dc7b102e67": {
      "model_module": "@jupyter-widgets/controls",
      "model_module_version": "1.0.0",
      "model_name": "SliderStyleModel",
      "state": {
       "description_width": ""
      }
     },
     "15a3d905c59e4ef4820ba36f5f000512": {
      "model_module": "@jupyter-widgets/base",
      "model_module_version": "1.0.0",
      "model_name": "LayoutModel",
      "state": {}
     },
     "15a63fb211784a52a4afb2f11d15e123": {
      "model_module": "@jupyter-widgets/controls",
      "model_module_version": "1.0.0",
      "model_name": "FloatSliderModel",
      "state": {
       "description": "alpha",
       "layout": "IPY_MODEL_12686f784b0f4718bbdc499cb0caf71f",
       "max": 1,
       "step": 0.1,
       "style": "IPY_MODEL_8ffe8df03b654df8adcb3736536dd0ce",
       "value": 1
      }
     },
     "15c5acfb2fc545db9e3d668e35c57711": {
      "model_module": "@jupyter-widgets/output",
      "model_module_version": "1.0.0",
      "model_name": "OutputModel",
      "state": {
       "layout": "IPY_MODEL_2dfed08de1b847b3922417ffe1713046",
       "outputs": [
        {
         "ename": "NameError",
         "evalue": "global name 'rgba_int_strings' is not defined",
         "output_type": "error",
         "traceback": [
          "\u001b[0;31m---------------------------------------------------------------------------\u001b[0m",
          "\u001b[0;31mNameError\u001b[0m                                 Traceback (most recent call last)",
          "\u001b[0;32m//anaconda/lib/python2.7/site-packages/ipywidgets/widgets/interaction.pyc\u001b[0m in \u001b[0;36mupdate\u001b[0;34m(self, *args)\u001b[0m\n\u001b[1;32m    248\u001b[0m                     \u001b[0mvalue\u001b[0m \u001b[0;34m=\u001b[0m \u001b[0mwidget\u001b[0m\u001b[0;34m.\u001b[0m\u001b[0mget_interact_value\u001b[0m\u001b[0;34m(\u001b[0m\u001b[0;34m)\u001b[0m\u001b[0;34m\u001b[0m\u001b[0m\n\u001b[1;32m    249\u001b[0m                     \u001b[0mself\u001b[0m\u001b[0;34m.\u001b[0m\u001b[0mkwargs\u001b[0m\u001b[0;34m[\u001b[0m\u001b[0mwidget\u001b[0m\u001b[0;34m.\u001b[0m\u001b[0m_kwarg\u001b[0m\u001b[0;34m]\u001b[0m \u001b[0;34m=\u001b[0m \u001b[0mvalue\u001b[0m\u001b[0;34m\u001b[0m\u001b[0m\n\u001b[0;32m--> 250\u001b[0;31m                 \u001b[0mself\u001b[0m\u001b[0;34m.\u001b[0m\u001b[0mresult\u001b[0m \u001b[0;34m=\u001b[0m \u001b[0mself\u001b[0m\u001b[0;34m.\u001b[0m\u001b[0mf\u001b[0m\u001b[0;34m(\u001b[0m\u001b[0;34m**\u001b[0m\u001b[0mself\u001b[0m\u001b[0;34m.\u001b[0m\u001b[0mkwargs\u001b[0m\u001b[0;34m)\u001b[0m\u001b[0;34m\u001b[0m\u001b[0m\n\u001b[0m\u001b[1;32m    251\u001b[0m                 \u001b[0mshow_inline_matplotlib_plots\u001b[0m\u001b[0;34m(\u001b[0m\u001b[0;34m)\u001b[0m\u001b[0;34m\u001b[0m\u001b[0m\n\u001b[1;32m    252\u001b[0m                 \u001b[0;32mif\u001b[0m \u001b[0mself\u001b[0m\u001b[0;34m.\u001b[0m\u001b[0mauto_display\u001b[0m \u001b[0;32mand\u001b[0m \u001b[0mself\u001b[0m\u001b[0;34m.\u001b[0m\u001b[0mresult\u001b[0m \u001b[0;32mis\u001b[0m \u001b[0;32mnot\u001b[0m \u001b[0mNone\u001b[0m\u001b[0;34m:\u001b[0m\u001b[0;34m\u001b[0m\u001b[0m\n",
          "\u001b[0;32m<ipython-input-9-6f8586e1d8bf>\u001b[0m in \u001b[0;36mchange_circle\u001b[0;34m(x, y, r, red, green, blue, alpha)\u001b[0m\n\u001b[1;32m      6\u001b[0m def change_circle(x, y, r, \n\u001b[1;32m      7\u001b[0m                   red, green, blue, alpha):\n\u001b[0;32m----> 8\u001b[0;31m     \u001b[0mcolor\u001b[0m \u001b[0;34m=\u001b[0m \u001b[0mrgba\u001b[0m\u001b[0;34m(\u001b[0m\u001b[0mred\u001b[0m\u001b[0;34m,\u001b[0m \u001b[0mgreen\u001b[0m\u001b[0;34m,\u001b[0m \u001b[0mblue\u001b[0m\u001b[0;34m,\u001b[0m \u001b[0malpha\u001b[0m\u001b[0;34m)\u001b[0m\u001b[0;34m\u001b[0m\u001b[0m\n\u001b[0m\u001b[1;32m      9\u001b[0m     \u001b[0;32mprint\u001b[0m\u001b[0;34m(\u001b[0m\u001b[0;34m\"color is \"\u001b[0m \u001b[0;34m+\u001b[0m \u001b[0mrepr\u001b[0m\u001b[0;34m(\u001b[0m\u001b[0mcolor\u001b[0m\u001b[0;34m)\u001b[0m\u001b[0;34m)\u001b[0m\u001b[0;34m\u001b[0m\u001b[0m\n\u001b[1;32m     10\u001b[0m     \u001b[0mcolor\u001b[0m \u001b[0;34m=\u001b[0m \u001b[0;34m\"pink\"\u001b[0m\u001b[0;34m\u001b[0m\u001b[0m\n",
          "\u001b[0;32m<ipython-input-8-ebc989cf59e1>\u001b[0m in \u001b[0;36mrgba\u001b[0;34m(*rgba_sequence)\u001b[0m\n\u001b[1;32m      8\u001b[0m     \u001b[0mrgba_strings\u001b[0m \u001b[0;34m=\u001b[0m \u001b[0;34m[\u001b[0m\u001b[0mstr\u001b[0m\u001b[0;34m(\u001b[0m\u001b[0mint\u001b[0m\u001b[0;34m(\u001b[0m\u001b[0mx\u001b[0m\u001b[0;34m)\u001b[0m\u001b[0;34m)\u001b[0m \u001b[0;32mfor\u001b[0m \u001b[0mx\u001b[0m \u001b[0;32min\u001b[0m \u001b[0mrgba_sequence\u001b[0m\u001b[0;34m]\u001b[0m\u001b[0;34m\u001b[0m\u001b[0m\n\u001b[1;32m      9\u001b[0m     \u001b[0mrgba_strings\u001b[0m\u001b[0;34m[\u001b[0m\u001b[0;34m-\u001b[0m\u001b[0;36m1\u001b[0m\u001b[0;34m]\u001b[0m \u001b[0;34m=\u001b[0m \u001b[0mstr\u001b[0m\u001b[0;34m(\u001b[0m\u001b[0mrgba_sequence\u001b[0m\u001b[0;34m[\u001b[0m\u001b[0;34m-\u001b[0m\u001b[0;36m1\u001b[0m\u001b[0;34m]\u001b[0m\u001b[0;34m)\u001b[0m\u001b[0;34m\u001b[0m\u001b[0m\n\u001b[0;32m---> 10\u001b[0;31m     \u001b[0;32mreturn\u001b[0m \u001b[0;34m\"rgba(%s)\"\u001b[0m \u001b[0;34m%\u001b[0m \u001b[0;34m\",\"\u001b[0m\u001b[0;34m.\u001b[0m\u001b[0mjoin\u001b[0m\u001b[0;34m(\u001b[0m\u001b[0mrgba_int_strings\u001b[0m\u001b[0;34m)\u001b[0m\u001b[0;34m\u001b[0m\u001b[0m\n\u001b[0m",
          "\u001b[0;31mNameError\u001b[0m: global name 'rgba_int_strings' is not defined"
         ]
        }
       ]
      }
     },
     "15cddbef3b7b4e2695c62ea43b2a5bd9": {
      "model_module": "@jupyter-widgets/controls",
      "model_module_version": "1.0.0",
      "model_name": "TabModel",
      "state": {
       "_titles": {
        "0": "Canvas",
        "1": "Snapshot"
       },
       "children": [
        "IPY_MODEL_f30b332d7180434bad669f3d72aee571",
        "IPY_MODEL_d3ff73723e024a5c859ec53815869662"
       ],
       "layout": "IPY_MODEL_c376115fa93a4c178fc381626701680b"
      }
     },
     "1619dfd7c5284ab09aef1ec4d1e3d037": {
      "model_module": "jp_proxy_widget",
      "model_module_version": "^0.3.4",
      "model_name": "JSProxyModel",
      "state": {
       "_model_module_version": "^0.3.4",
       "_send_counter": 6,
       "_view_module_version": "^0.3.4",
       "error_msg": "No error",
       "layout": "IPY_MODEL_bb92eb26da034c888ca5a8298c238284",
       "rendered": true,
       "status": "Got results."
      }
     },
     "1641e3194b4b4c77a75745fa12bb73b2": {
      "model_module": "@jupyter-widgets/base",
      "model_module_version": "1.0.0",
      "model_name": "LayoutModel",
      "state": {}
     },
     "16442ff0cdcd41dab085c5cf3e86fde0": {
      "model_module": "@jupyter-widgets/base",
      "model_module_version": "1.0.0",
      "model_name": "LayoutModel",
      "state": {}
     },
     "164d1707fa58468f944d17164352cd60": {
      "model_module": "@jupyter-widgets/controls",
      "model_module_version": "1.0.0",
      "model_name": "IntSliderModel",
      "state": {
       "description": "degrees",
       "layout": "IPY_MODEL_c4f9dcacbbfb4f7b9ae4c978eb2b2118",
       "max": 360,
       "min": -360,
       "style": "IPY_MODEL_59846e888ea2498287aff5e4b78ba4fe",
       "value": 48
      }
     },
     "165f76d03e254ad1b8f24adbda929dca": {
      "model_module": "@jupyter-widgets/base",
      "model_module_version": "1.0.0",
      "model_name": "LayoutModel",
      "state": {}
     },
     "1664fb07bba348f582190d9fa1b70172": {
      "model_module": "@jupyter-widgets/controls",
      "model_module_version": "1.0.0",
      "model_name": "SliderStyleModel",
      "state": {
       "description_width": ""
      }
     },
     "167589c8386c4cd99f4196f4328a1fdd": {
      "model_module": "jp_proxy_widget",
      "model_module_version": "^0.3.4",
      "model_name": "JSProxyModel",
      "state": {
       "_model_module_version": "^0.3.4",
       "_send_counter": 2,
       "_view_module_version": "^0.3.4",
       "error_msg": "No error",
       "layout": "IPY_MODEL_124a015963a64957b53a1809622e49c0",
       "rendered": true,
       "status": "Got results."
      }
     },
     "16892d5ba53447568a8748308e7bbad8": {
      "model_module": "@jupyter-widgets/controls",
      "model_module_version": "1.0.0",
      "model_name": "IntSliderModel",
      "state": {
       "description": "blue",
       "layout": "IPY_MODEL_2608ab08ec564208bfde0d40ef9448e3",
       "max": 255,
       "style": "IPY_MODEL_67cff949f35c4797b3898bc2af60804a",
       "value": 171
      }
     },
     "1695c185bc914e8d87b718bb9f06c15b": {
      "model_module": "@jupyter-widgets/controls",
      "model_module_version": "1.0.0",
      "model_name": "SliderStyleModel",
      "state": {
       "description_width": ""
      }
     },
     "16a4e370bf4747658520886954979a64": {
      "model_module": "@jupyter-widgets/controls",
      "model_module_version": "1.0.0",
      "model_name": "SliderStyleModel",
      "state": {
       "description_width": ""
      }
     },
     "16bb4a7b6f984f5fb249d3ccf1ac89ee": {
      "model_module": "@jupyter-widgets/controls",
      "model_module_version": "1.0.0",
      "model_name": "SliderStyleModel",
      "state": {
       "description_width": ""
      }
     },
     "170926b1c358431595f3c0f93b670133": {
      "model_module": "@jupyter-widgets/base",
      "model_module_version": "1.0.0",
      "model_name": "LayoutModel",
      "state": {}
     },
     "1714178b073a439abde533ed15534562": {
      "model_module": "@jupyter-widgets/controls",
      "model_module_version": "1.0.0",
      "model_name": "SliderStyleModel",
      "state": {
       "description_width": ""
      }
     },
     "17200c425f7b42f4b3e0dc84f04973ea": {
      "model_module": "@jupyter-widgets/controls",
      "model_module_version": "1.0.0",
      "model_name": "IntSliderModel",
      "state": {
       "description": "green",
       "layout": "IPY_MODEL_9cd1d0c08363476e9beaa923c76d3832",
       "max": 255,
       "style": "IPY_MODEL_620399a59a8742cf8e465d3d09b6f85c"
      }
     },
     "173596b0295e4d1b91a6befc2cf6282c": {
      "model_module": "@jupyter-widgets/base",
      "model_module_version": "1.0.0",
      "model_name": "LayoutModel",
      "state": {}
     },
     "173b705d6da346a1b794de681834d292": {
      "model_module": "@jupyter-widgets/output",
      "model_module_version": "1.0.0",
      "model_name": "OutputModel",
      "state": {
       "layout": "IPY_MODEL_8979199eeae046aaa0ae638c3094acfc"
      }
     },
     "17489415cbdb4179a12fab805f035bf7": {
      "model_module": "@jupyter-widgets/controls",
      "model_module_version": "1.0.0",
      "model_name": "DescriptionStyleModel",
      "state": {
       "description_width": ""
      }
     },
     "1760473947cd40e2a78b5104a2058f8d": {
      "model_module": "@jupyter-widgets/controls",
      "model_module_version": "1.0.0",
      "model_name": "SliderStyleModel",
      "state": {
       "description_width": ""
      }
     },
     "176f9de84ad24bb08f6e993c71c10a9f": {
      "model_module": "@jupyter-widgets/base",
      "model_module_version": "1.0.0",
      "model_name": "LayoutModel",
      "state": {}
     },
     "178f9659879d4ed6b088a35c1d4a1ec2": {
      "model_module": "@jupyter-widgets/controls",
      "model_module_version": "1.0.0",
      "model_name": "SliderStyleModel",
      "state": {
       "description_width": ""
      }
     },
     "178ffe95edb04dedaa954257a5a89f9c": {
      "model_module": "@jupyter-widgets/controls",
      "model_module_version": "1.0.0",
      "model_name": "SliderStyleModel",
      "state": {
       "description_width": ""
      }
     },
     "17aaad3f18cc4362afeec3bd265aa715": {
      "model_module": "@jupyter-widgets/controls",
      "model_module_version": "1.0.0",
      "model_name": "IntSliderModel",
      "state": {
       "description": "red",
       "layout": "IPY_MODEL_8cf28a395ca24e18b32c2f9e55eb0d98",
       "max": 255,
       "style": "IPY_MODEL_d4cecc9f7adc473abd5ce05686fc5d91",
       "value": 179
      }
     },
     "17c32cedf63843efa18263616549455e": {
      "model_module": "@jupyter-widgets/base",
      "model_module_version": "1.0.0",
      "model_name": "LayoutModel",
      "state": {}
     },
     "182e9477e458404da88ce6eb901786e4": {
      "model_module": "@jupyter-widgets/base",
      "model_module_version": "1.0.0",
      "model_name": "LayoutModel",
      "state": {}
     },
     "1830fa3e4a8141caad7a0816790c27db": {
      "model_module": "@jupyter-widgets/base",
      "model_module_version": "1.0.0",
      "model_name": "LayoutModel",
      "state": {}
     },
     "18385e76a7a54d73a7da3c3194cb6a51": {
      "model_module": "@jupyter-widgets/base",
      "model_module_version": "1.0.0",
      "model_name": "LayoutModel",
      "state": {}
     },
     "183a2c2ee69b495982899c0e616eb051": {
      "model_module": "@jupyter-widgets/controls",
      "model_module_version": "1.0.0",
      "model_name": "IntSliderModel",
      "state": {
       "description": "x",
       "layout": "IPY_MODEL_e6c29c7b94624bb5a5c8438566491e6c",
       "min": -100,
       "style": "IPY_MODEL_cb673f6b75644cf38e8239f78430de51"
      }
     },
     "183b5a391e6e4b2cb51db0197fab2790": {
      "model_module": "@jupyter-widgets/base",
      "model_module_version": "1.0.0",
      "model_name": "LayoutModel",
      "state": {}
     },
     "1871e7ca025a4c5a9fe91a67a607418c": {
      "model_module": "@jupyter-widgets/base",
      "model_module_version": "1.0.0",
      "model_name": "LayoutModel",
      "state": {}
     },
     "18965df6de4f46618c827d509738e71e": {
      "model_module": "@jupyter-widgets/base",
      "model_module_version": "1.0.0",
      "model_name": "LayoutModel",
      "state": {}
     },
     "189a1bc7509c43e39cf08c1277854895": {
      "model_module": "@jupyter-widgets/base",
      "model_module_version": "1.0.0",
      "model_name": "LayoutModel",
      "state": {}
     },
     "18a4b574f66244a1ae398bb819b49657": {
      "model_module": "@jupyter-widgets/controls",
      "model_module_version": "1.0.0",
      "model_name": "VBoxModel",
      "state": {
       "_dom_classes": [
        "widget-interact"
       ],
       "children": [
        "IPY_MODEL_fc18c23598724be4a593a94ecd4c123f",
        "IPY_MODEL_00a2854d502d46858a8c11d326433c41",
        "IPY_MODEL_b41e3b1f607545c4b214b6a4bd92cde9",
        "IPY_MODEL_2eed981eb41041e0be50357f0d4231ee",
        "IPY_MODEL_bc09207b7be74ad0ada6e3381feeaccf",
        "IPY_MODEL_35f0e663a0db44a497f190fc4ad743be",
        "IPY_MODEL_76d68944188a41489cbe6e6b749a3a1a",
        "IPY_MODEL_c9469426bcc049de9147504979fc31cd",
        "IPY_MODEL_3e46762c585b42d49f92d997e7c7c43c",
        "IPY_MODEL_709b5d69daa14e6bbb31689d426916f0",
        "IPY_MODEL_34d40abc984e49fa9ad72ec29b554c09",
        "IPY_MODEL_4d86f3d1ecdf4b6cb98919746a551bd3"
       ],
       "layout": "IPY_MODEL_bf923fc46a85490dbd3cc71a3408166c"
      }
     },
     "18c3ce862352475f9bcaf0bbea566b71": {
      "model_module": "jp_proxy_widget",
      "model_module_version": "^0.3.4",
      "model_name": "JSProxyModel",
      "state": {
       "_model_module_version": "^0.3.4",
       "_send_counter": 2,
       "_view_module_version": "^0.3.4",
       "error_msg": "No error",
       "layout": "IPY_MODEL_f5bbbd5cc3f74476b4a4a30a9bd72166",
       "rendered": true,
       "status": "Got results."
      }
     },
     "18c9fcd26c6447f6a8dd9cf255688116": {
      "model_module": "@jupyter-widgets/controls",
      "model_module_version": "1.0.0",
      "model_name": "VBoxModel",
      "state": {
       "children": [
        "IPY_MODEL_83f729da62b249389c6b5cb28d6b9079",
        "IPY_MODEL_060305a695a44d20a0b336f9e1956c1a"
       ],
       "layout": "IPY_MODEL_6e28ffc7e0f445909beafded825cbfcd"
      }
     },
     "18d30b04854c48728cb1a2fdb9de96d9": {
      "model_module": "@jupyter-widgets/controls",
      "model_module_version": "1.0.0",
      "model_name": "SliderStyleModel",
      "state": {
       "description_width": ""
      }
     },
     "18d3e296ac384c2e95625188e3cae335": {
      "model_module": "@jupyter-widgets/controls",
      "model_module_version": "1.0.0",
      "model_name": "IntSliderModel",
      "state": {
       "description": "red",
       "layout": "IPY_MODEL_848ca7aae6e04cd18dee9e9bf9e4ccc8",
       "max": 255,
       "style": "IPY_MODEL_f5cf1a9f6189407b90fae19ce832360a",
       "value": 255
      }
     },
     "18f5bc867cf64f3b9caf1293800364b6": {
      "model_module": "@jupyter-widgets/controls",
      "model_module_version": "1.0.0",
      "model_name": "VBoxModel",
      "state": {
       "_dom_classes": [
        "widget-interact"
       ],
       "children": [
        "IPY_MODEL_7b992c1907404d9e849eb907215bacc3",
        "IPY_MODEL_8fa91c4eb0ff40a9b4ce3ad6a02e01a7",
        "IPY_MODEL_0a985590eb4c4369992dd537c216e700",
        "IPY_MODEL_783fb53931f7465aac62c5a159b4c993",
        "IPY_MODEL_20d7c6ce8daa459cad687f97085c600e",
        "IPY_MODEL_7ce10ad1ce32441b936aae9ec15573c0",
        "IPY_MODEL_5bd6716f40d64b51a3fa4d9d6eb20b93",
        "IPY_MODEL_392ef3f48acd41e88c1d5623d9e01d57",
        "IPY_MODEL_5b2ab2261872491fae0606f5a486bc74",
        "IPY_MODEL_d6743d86e74d4d608510648b7268f0e7",
        "IPY_MODEL_d240df807fc9475097759a549fb108e5",
        "IPY_MODEL_609b7d1a01c140be85df54eaa6f812c6",
        "IPY_MODEL_fd03c594c7ca4c2099ee16f624d755ed",
        "IPY_MODEL_37e481c97a4e48448f0b40ac9cc2fe8c"
       ],
       "layout": "IPY_MODEL_355c025af7ae47f49b2b897551a69f6e"
      }
     },
     "18fefd1db5ca4479ac5edc6e948a33b2": {
      "model_module": "@jupyter-widgets/controls",
      "model_module_version": "1.0.0",
      "model_name": "IntSliderModel",
      "state": {
       "description": "sy",
       "layout": "IPY_MODEL_a4ff458619774581a69abb4e3617937f",
       "max": 600,
       "style": "IPY_MODEL_4a52c2a76fa84bc0a62baa676642269b",
       "value": 100
      }
     },
     "19075fd9652f49128f1fb1fe6fc09f61": {
      "model_module": "@jupyter-widgets/base",
      "model_module_version": "1.0.0",
      "model_name": "LayoutModel",
      "state": {}
     },
     "1939450f967845b3ade2cd9eed0e0bdc": {
      "model_module": "@jupyter-widgets/controls",
      "model_module_version": "1.0.0",
      "model_name": "IntSliderModel",
      "state": {
       "description": "y",
       "layout": "IPY_MODEL_c4b0254c79dc46bfa72aedbf3dc6351f",
       "min": -100,
       "style": "IPY_MODEL_94fd25717daf488caed0f52419baf3a4",
       "value": 70
      }
     },
     "193dda8540214daab20ebb6e00db1e69": {
      "model_module": "jp_proxy_widget",
      "model_module_version": "^0.3.4",
      "model_name": "JSProxyModel",
      "state": {
       "_model_module_version": "^0.3.4",
       "_send_counter": 2,
       "_view_module_version": "^0.3.4",
       "error_msg": "No error",
       "layout": "IPY_MODEL_33460e6b76c8470cacb69dc5392c1626",
       "rendered": true,
       "status": "Got results."
      }
     },
     "1955a57b925a4512bd0c81d802a742b9": {
      "model_module": "@jupyter-widgets/base",
      "model_module_version": "1.0.0",
      "model_name": "LayoutModel",
      "state": {}
     },
     "19567e63837e48fa8acc7fe59f47ac91": {
      "model_module": "@jupyter-widgets/controls",
      "model_module_version": "1.0.0",
      "model_name": "IntSliderModel",
      "state": {
       "description": "blue",
       "layout": "IPY_MODEL_00cdca98bd6d4b90929842bdca03c560",
       "max": 255,
       "style": "IPY_MODEL_a39ef909be504028be725b7bb35c32b8",
       "value": 255
      }
     },
     "199aa7e23a00433ba45d8231b55ae762": {
      "model_module": "@jupyter-widgets/base",
      "model_module_version": "1.0.0",
      "model_name": "LayoutModel",
      "state": {}
     },
     "199f2b4a3fbf4137927b3c986b69f21d": {
      "model_module": "@jupyter-widgets/controls",
      "model_module_version": "1.0.0",
      "model_name": "SliderStyleModel",
      "state": {
       "description_width": ""
      }
     },
     "19b4ed31efd644f989464e0e904b27fb": {
      "model_module": "@jupyter-widgets/base",
      "model_module_version": "1.0.0",
      "model_name": "LayoutModel",
      "state": {}
     },
     "19b52c664afb439cb85e11bd39081f60": {
      "model_module": "@jupyter-widgets/base",
      "model_module_version": "1.0.0",
      "model_name": "LayoutModel",
      "state": {}
     },
     "19f3a7cf5aac4c49b394e447c1abc5b9": {
      "model_module": "@jupyter-widgets/base",
      "model_module_version": "1.0.0",
      "model_name": "LayoutModel",
      "state": {}
     },
     "1a17ad335a7b479a81d58659c4c678bc": {
      "model_module": "@jupyter-widgets/controls",
      "model_module_version": "1.0.0",
      "model_name": "SliderStyleModel",
      "state": {
       "description_width": ""
      }
     },
     "1a1abcf76ed9493fba78f3699f57aa52": {
      "model_module": "@jupyter-widgets/controls",
      "model_module_version": "1.0.0",
      "model_name": "IntSliderModel",
      "state": {
       "description": "x",
       "layout": "IPY_MODEL_26aa5b55371645f9ad24aead6c30b0c5",
       "min": -100,
       "style": "IPY_MODEL_f14ef45a76da45f290ebf87131c8030d"
      }
     },
     "1a1c907499fd4b8cbfd2b05f94033e5d": {
      "model_module": "@jupyter-widgets/base",
      "model_module_version": "1.0.0",
      "model_name": "LayoutModel",
      "state": {}
     },
     "1a75d36d8d364903a06abf4a553e84df": {
      "model_module": "jp_proxy_widget",
      "model_module_version": "^0.3.4",
      "model_name": "JSProxyModel",
      "state": {
       "_model_module_version": "^0.3.4",
       "_send_counter": 2,
       "_view_module_version": "^0.3.4",
       "error_msg": "No error",
       "layout": "IPY_MODEL_b2b96f5306a54adaa60234ec566ab5e7",
       "rendered": true,
       "status": "Got results."
      }
     },
     "1a7ae19c77b64682a564ac7249206322": {
      "model_module": "jp_proxy_widget",
      "model_module_version": "^0.3.4",
      "model_name": "JSProxyModel",
      "state": {
       "_model_module_version": "^0.3.4",
       "_send_counter": 2260,
       "_view_module_version": "^0.3.4",
       "error_msg": "No error",
       "layout": "IPY_MODEL_b6193373ba184180bddb208c56270b5a",
       "rendered": true,
       "status": "Got results."
      }
     },
     "1a7cd7522ab444e6946ec8549baefd6a": {
      "model_module": "@jupyter-widgets/base",
      "model_module_version": "1.0.0",
      "model_name": "LayoutModel",
      "state": {}
     },
     "1a7f1a3078a646db98d7c2f7615ed4c3": {
      "model_module": "@jupyter-widgets/controls",
      "model_module_version": "1.0.0",
      "model_name": "SliderStyleModel",
      "state": {
       "description_width": ""
      }
     },
     "1a8ea8749c1c44aea5230cc35fbf9e71": {
      "model_module": "@jupyter-widgets/base",
      "model_module_version": "1.0.0",
      "model_name": "LayoutModel",
      "state": {}
     },
     "1a8f82465f4a47b9981cb3271fe9314b": {
      "model_module": "@jupyter-widgets/base",
      "model_module_version": "1.0.0",
      "model_name": "LayoutModel",
      "state": {}
     },
     "1ac45593583245a98ce89cf39faeabed": {
      "model_module": "@jupyter-widgets/controls",
      "model_module_version": "1.0.0",
      "model_name": "SliderStyleModel",
      "state": {
       "description_width": ""
      }
     },
     "1ac6d0452983445d9594cab96c29b18f": {
      "model_module": "@jupyter-widgets/base",
      "model_module_version": "1.0.0",
      "model_name": "LayoutModel",
      "state": {}
     },
     "1ada6af791244f0b9aed56b9b1f91f12": {
      "model_module": "@jupyter-widgets/controls",
      "model_module_version": "1.0.0",
      "model_name": "IntSliderModel",
      "state": {
       "description": "lineWidth",
       "layout": "IPY_MODEL_91503f4094084c1b9d2e286c7993eae2",
       "max": 20,
       "style": "IPY_MODEL_76647457cb0c4fb7ac3772753ee048d1",
       "value": 3
      }
     },
     "1ae303bd44574e82bd3a2d4bbb2aee97": {
      "model_module": "@jupyter-widgets/base",
      "model_module_version": "1.0.0",
      "model_name": "LayoutModel",
      "state": {}
     },
     "1ae85370f46640dc88edaa20cd3006b2": {
      "model_module": "@jupyter-widgets/base",
      "model_module_version": "1.0.0",
      "model_name": "LayoutModel",
      "state": {}
     },
     "1ae993e3901145b28b24636a531e39de": {
      "model_module": "@jupyter-widgets/controls",
      "model_module_version": "1.0.0",
      "model_name": "IntSliderModel",
      "state": {
       "description": "h",
       "layout": "IPY_MODEL_62f45c2122e54b0597d3e325911b5d6b",
       "max": 300,
       "min": -300,
       "style": "IPY_MODEL_01e015fd51a04bfb9ada1ac03e896b31",
       "value": 300
      }
     },
     "1b094caceb6d43cfae969cf932ef0c9b": {
      "model_module": "@jupyter-widgets/base",
      "model_module_version": "1.0.0",
      "model_name": "LayoutModel",
      "state": {}
     },
     "1b236a9ebc484a3fa96ed4c9def7abd1": {
      "model_module": "@jupyter-widgets/controls",
      "model_module_version": "1.0.0",
      "model_name": "IntSliderModel",
      "state": {
       "description": "green",
       "layout": "IPY_MODEL_61cd665651c045da97a39f18e32b8b97",
       "max": 255,
       "style": "IPY_MODEL_1d12441914304411b7f43e1171aaf9e0"
      }
     },
     "1b23deee1716489a958a8737ee5186bb": {
      "model_module": "@jupyter-widgets/controls",
      "model_module_version": "1.0.0",
      "model_name": "SliderStyleModel",
      "state": {
       "description_width": ""
      }
     },
     "1b2d86d4db6d452c9af945530a21b4b1": {
      "model_module": "@jupyter-widgets/controls",
      "model_module_version": "1.0.0",
      "model_name": "SliderStyleModel",
      "state": {
       "description_width": ""
      }
     },
     "1b3737f13cfa481e9265677dca5b089f": {
      "model_module": "@jupyter-widgets/controls",
      "model_module_version": "1.0.0",
      "model_name": "DescriptionStyleModel",
      "state": {
       "description_width": ""
      }
     },
     "1b5760bb5c5748b8a94c43f57ca687de": {
      "model_module": "@jupyter-widgets/controls",
      "model_module_version": "1.0.0",
      "model_name": "VBoxModel",
      "state": {
       "children": [
        "IPY_MODEL_5199766345004bd1b8235ba248de015b",
        "IPY_MODEL_262e201408c845bdbd57f16621e5c07c"
       ],
       "layout": "IPY_MODEL_959b0c73748843c2800f5bee78ed60e9"
      }
     },
     "1b8858b911844c2687e1d21467252375": {
      "model_module": "@jupyter-widgets/base",
      "model_module_version": "1.0.0",
      "model_name": "LayoutModel",
      "state": {}
     },
     "1b947ec1e23240b69feaf5923657623d": {
      "model_module": "@jupyter-widgets/controls",
      "model_module_version": "1.0.0",
      "model_name": "IntSliderModel",
      "state": {
       "description": "dy",
       "layout": "IPY_MODEL_c1d1a0e2e2404bb7956668ea8f402b66",
       "min": -100,
       "style": "IPY_MODEL_2bdd5cd1c8164541a2dedaf5640b8699"
      }
     },
     "1b97a6f5c7d04b8295e5006ea9b840d8": {
      "model_module": "@jupyter-widgets/controls",
      "model_module_version": "1.0.0",
      "model_name": "SliderStyleModel",
      "state": {
       "description_width": ""
      }
     },
     "1bdf6f48ccb644ba98c666e5630ef289": {
      "model_module": "@jupyter-widgets/controls",
      "model_module_version": "1.0.0",
      "model_name": "SliderStyleModel",
      "state": {
       "description_width": ""
      }
     },
     "1be69ceba3c04b02ae4df8590459f674": {
      "model_module": "@jupyter-widgets/controls",
      "model_module_version": "1.0.0",
      "model_name": "DescriptionStyleModel",
      "state": {
       "description_width": ""
      }
     },
     "1c0672dafec54c2ab201a0f37c7a9616": {
      "model_module": "@jupyter-widgets/controls",
      "model_module_version": "1.0.0",
      "model_name": "SliderStyleModel",
      "state": {
       "description_width": ""
      }
     },
     "1c13e85c47a24df2becb30e6b63fb3c6": {
      "model_module": "@jupyter-widgets/controls",
      "model_module_version": "1.0.0",
      "model_name": "SliderStyleModel",
      "state": {
       "description_width": ""
      }
     },
     "1c1597811e9644e9921d0946b61de3f2": {
      "model_module": "@jupyter-widgets/controls",
      "model_module_version": "1.0.0",
      "model_name": "CheckboxModel",
      "state": {
       "description": "fill",
       "disabled": false,
       "layout": "IPY_MODEL_e1fe63be5762464fabdb4f5f803c0698",
       "style": "IPY_MODEL_6cd7980a40aa440e9704447ff0d9776f",
       "value": true
      }
     },
     "1c26820a71af4bde8fef972fedbad611": {
      "model_module": "@jupyter-widgets/base",
      "model_module_version": "1.0.0",
      "model_name": "LayoutModel",
      "state": {}
     },
     "1c328b16b21a4814998eca9f69ff66bd": {
      "model_module": "@jupyter-widgets/base",
      "model_module_version": "1.0.0",
      "model_name": "LayoutModel",
      "state": {}
     },
     "1c7c49de0acb4fceb3770bf3d57aa973": {
      "model_module": "@jupyter-widgets/controls",
      "model_module_version": "1.0.0",
      "model_name": "TabModel",
      "state": {
       "_titles": {
        "0": "Canvas",
        "1": "Snapshot"
       },
       "children": [
        "IPY_MODEL_4f591cb4b09d4d50a07e5de3a6c0ce13",
        "IPY_MODEL_dd148ca9f1a54b7f8b363ef661479c05"
       ],
       "layout": "IPY_MODEL_ffe61169182049e3a6377207d7c8862c"
      }
     },
     "1cb7369d10064166b67960bb9e474db3": {
      "model_module": "@jupyter-widgets/controls",
      "model_module_version": "1.0.0",
      "model_name": "IntSliderModel",
      "state": {
       "description": "degrees",
       "layout": "IPY_MODEL_5855e1b67eda454d844c08db1e2517e6",
       "max": 360,
       "min": -360,
       "style": "IPY_MODEL_f8e6ba793fc4496ca2f453da7b1d4a63",
       "value": -24
      }
     },
     "1cbd01adc502481eaaa41ae860fb98c8": {
      "model_module": "@jupyter-widgets/controls",
      "model_module_version": "1.0.0",
      "model_name": "SliderStyleModel",
      "state": {
       "description_width": ""
      }
     },
     "1cd41c8313ed44d68d4058eafee4da87": {
      "model_module": "@jupyter-widgets/controls",
      "model_module_version": "1.0.0",
      "model_name": "SliderStyleModel",
      "state": {
       "description_width": ""
      }
     },
     "1cebc6ca142b426ca866e00db12afa37": {
      "model_module": "@jupyter-widgets/base",
      "model_module_version": "1.0.0",
      "model_name": "LayoutModel",
      "state": {}
     },
     "1cee3fc2eacd4f5c9caeb1a5d2b1f71b": {
      "model_module": "@jupyter-widgets/base",
      "model_module_version": "1.0.0",
      "model_name": "LayoutModel",
      "state": {}
     },
     "1cfd51e51bff4e43ae3bdda4f05c8190": {
      "model_module": "@jupyter-widgets/controls",
      "model_module_version": "1.0.0",
      "model_name": "SliderStyleModel",
      "state": {
       "description_width": ""
      }
     },
     "1d12441914304411b7f43e1171aaf9e0": {
      "model_module": "@jupyter-widgets/controls",
      "model_module_version": "1.0.0",
      "model_name": "SliderStyleModel",
      "state": {
       "description_width": ""
      }
     },
     "1d1954f8861b474aab082cc4ac7996a8": {
      "model_module": "@jupyter-widgets/controls",
      "model_module_version": "1.0.0",
      "model_name": "IntSliderModel",
      "state": {
       "description": "y",
       "layout": "IPY_MODEL_de5e9366588d41f780d0a3642db3bef7",
       "min": -100,
       "style": "IPY_MODEL_221cc17a24774bbb8356e69a04b4380e",
       "value": -100
      }
     },
     "1d68a64528da4f249c908fc9cc34c495": {
      "model_module": "jp_proxy_widget",
      "model_module_version": "^0.3.4",
      "model_name": "JSProxyModel",
      "state": {
       "_model_module_version": "^0.3.4",
       "_send_counter": 12,
       "_view_module_version": "^0.3.4",
       "error_msg": "No error",
       "layout": "IPY_MODEL_39519c9e3c8f4a6a9f1cf2307cdc9f1c",
       "rendered": true,
       "status": "Got results."
      }
     },
     "1d8275e92dad4161bedacccd36f65138": {
      "model_module": "@jupyter-widgets/base",
      "model_module_version": "1.0.0",
      "model_name": "LayoutModel",
      "state": {}
     },
     "1d8c5b1ec77544638818df9a404d2793": {
      "model_module": "@jupyter-widgets/controls",
      "model_module_version": "1.0.0",
      "model_name": "IntSliderModel",
      "state": {
       "description": "y",
       "layout": "IPY_MODEL_b30542ec67c940128ae126e2e41a6119",
       "min": -100,
       "style": "IPY_MODEL_4fd3845a627b42dc8e304b676aa98450"
      }
     },
     "1d9134c7350c4eb3bc038da102f3eb1c": {
      "model_module": "jp_proxy_widget",
      "model_module_version": "^0.3.4",
      "model_name": "JSProxyModel",
      "state": {
       "_model_module_version": "^0.3.4",
       "_send_counter": 2,
       "_view_module_version": "^0.3.4",
       "error_msg": "No error",
       "layout": "IPY_MODEL_6b0b9a1774144e57bc1b537e9701860b",
       "rendered": true,
       "status": "Got results."
      }
     },
     "1d95cb6fa5934b18bfca058c30c09ee5": {
      "model_module": "@jupyter-widgets/base",
      "model_module_version": "1.0.0",
      "model_name": "LayoutModel",
      "state": {}
     },
     "1deb3f53ba704c21a8990d4c59f978f8": {
      "model_module": "@jupyter-widgets/base",
      "model_module_version": "1.0.0",
      "model_name": "LayoutModel",
      "state": {}
     },
     "1e11d2baa8e94ac5b719d57b62773b2e": {
      "model_module": "@jupyter-widgets/controls",
      "model_module_version": "1.0.0",
      "model_name": "VBoxModel",
      "state": {
       "_dom_classes": [
        "widget-interact"
       ],
       "children": [
        "IPY_MODEL_e5726578961245af926719b2c86787dd",
        "IPY_MODEL_fea6b3d7744b4a73ab9b5329648375eb",
        "IPY_MODEL_f7a6b5e89f744eec985e065c4ae1a9bc",
        "IPY_MODEL_f2e4246051e5471db01470285747cc45",
        "IPY_MODEL_c848a1e5a80545ea865c5a57296090d9",
        "IPY_MODEL_91690d0cdd3f490e97cdac9efd9c2d4f",
        "IPY_MODEL_164d1707fa58468f944d17164352cd60",
        "IPY_MODEL_3cbdc852fd03454683e9b38754f4bca1",
        "IPY_MODEL_4017432258cc4e68bd91b1ec5b507251",
        "IPY_MODEL_29a668a62dca4230b543192b50ea8f07",
        "IPY_MODEL_38828d358eb84bd98cc001a8035c7889",
        "IPY_MODEL_ea1708b906cb4d05bb8164dea4652b97",
        "IPY_MODEL_8d09d459a5c547888266f784653607d0",
        "IPY_MODEL_e6e416f630824bbb90f84a94a0194cae"
       ],
       "layout": "IPY_MODEL_de7107679763482d967dae5e8378e587"
      }
     },
     "1e21103892174eb2b5ee60b0f38442d7": {
      "model_module": "@jupyter-widgets/base",
      "model_module_version": "1.0.0",
      "model_name": "LayoutModel",
      "state": {}
     },
     "1e2b0a8d20b046b2b19d8fce885027c0": {
      "model_module": "@jupyter-widgets/base",
      "model_module_version": "1.0.0",
      "model_name": "LayoutModel",
      "state": {}
     },
     "1e3164a09cef46ff8224ab4096fde553": {
      "model_module": "@jupyter-widgets/controls",
      "model_module_version": "1.0.0",
      "model_name": "IntSliderModel",
      "state": {
       "description": "y",
       "layout": "IPY_MODEL_29d8fa81879e4a869232b57bede86256",
       "min": -100,
       "style": "IPY_MODEL_d1d69b5bfc8240978473818212637213"
      }
     },
     "1e39f0d12b8b4afabd8fd2ef38b8c0d7": {
      "model_module": "@jupyter-widgets/controls",
      "model_module_version": "1.0.0",
      "model_name": "IntSliderModel",
      "state": {
       "description": "blue",
       "layout": "IPY_MODEL_843a3cb437b04c11882cbc073f7b822e",
       "max": 255,
       "style": "IPY_MODEL_05357c6f1330445c85d9d9dc445e43f1",
       "value": 255
      }
     },
     "1e5614a3190644ec825933d20236f387": {
      "model_module": "@jupyter-widgets/base",
      "model_module_version": "1.0.0",
      "model_name": "LayoutModel",
      "state": {}
     },
     "1e6e80219ae84015be81c89573c84417": {
      "model_module": "@jupyter-widgets/controls",
      "model_module_version": "1.0.0",
      "model_name": "IntSliderModel",
      "state": {
       "description": "lineWidth",
       "layout": "IPY_MODEL_555b24f7f2fe400f84f5b81a6fe875ca",
       "max": 20,
       "style": "IPY_MODEL_cf4a6c2f44d64cb6be0b082ed0214c3e",
       "value": 3
      }
     },
     "1e73d9abf7ae450f8ff2a199d73bdc56": {
      "model_module": "@jupyter-widgets/controls",
      "model_module_version": "1.0.0",
      "model_name": "FloatSliderModel",
      "state": {
       "description": "alpha",
       "layout": "IPY_MODEL_0fd823d818d745a59459b962e94bac3a",
       "max": 1,
       "step": 0.1,
       "style": "IPY_MODEL_c63c46a1b8724c8f848ac25c31265a97",
       "value": 0.6
      }
     },
     "1e8b760abbc54bd58f0b72eb6b00fcbe": {
      "model_module": "jp_proxy_widget",
      "model_module_version": "^0.3.4",
      "model_name": "JSProxyModel",
      "state": {
       "_model_module_version": "^0.3.4",
       "_send_counter": 984,
       "_view_module_version": "^0.3.4",
       "error_msg": "No error",
       "layout": "IPY_MODEL_50c5d544ea8e410db372b947bd6c544c",
       "rendered": true,
       "status": "Got results."
      }
     },
     "1e92340eac6a468c94270f36659eee74": {
      "model_module": "@jupyter-widgets/base",
      "model_module_version": "1.0.0",
      "model_name": "LayoutModel",
      "state": {}
     },
     "1ea7213f94b5467388a4d1223e9438a1": {
      "model_module": "@jupyter-widgets/controls",
      "model_module_version": "1.0.0",
      "model_name": "DescriptionStyleModel",
      "state": {
       "description_width": ""
      }
     },
     "1eb7b245c11f4f178bd22959e45251cc": {
      "model_module": "@jupyter-widgets/base",
      "model_module_version": "1.0.0",
      "model_name": "LayoutModel",
      "state": {}
     },
     "1ecd46bdc4e3473491986afa7972d7ac": {
      "model_module": "@jupyter-widgets/controls",
      "model_module_version": "1.0.0",
      "model_name": "DescriptionStyleModel",
      "state": {
       "description_width": ""
      }
     },
     "1f5eab211b534502bb7460ad5cacad79": {
      "model_module": "@jupyter-widgets/base",
      "model_module_version": "1.0.0",
      "model_name": "LayoutModel",
      "state": {}
     },
     "1f74090739164ba0851cb28751655374": {
      "model_module": "@jupyter-widgets/controls",
      "model_module_version": "1.0.0",
      "model_name": "FloatSliderModel",
      "state": {
       "description": "alpha",
       "layout": "IPY_MODEL_238083e1ae9645d196fb0037039b6201",
       "max": 1,
       "step": 0.1,
       "style": "IPY_MODEL_7d6123cb113747b0bef85cef4f1ec352",
       "value": 1
      }
     },
     "1fa40cc8e52346bb8a847dd9158f0387": {
      "model_module": "@jupyter-widgets/controls",
      "model_module_version": "1.0.0",
      "model_name": "SliderStyleModel",
      "state": {
       "description_width": ""
      }
     },
     "1fc3bb3d328d41038b62e196aa0a8dde": {
      "model_module": "@jupyter-widgets/controls",
      "model_module_version": "1.0.0",
      "model_name": "SliderStyleModel",
      "state": {
       "description_width": ""
      }
     },
     "1fc4a7c3dd364879b144346222c71143": {
      "model_module": "@jupyter-widgets/controls",
      "model_module_version": "1.0.0",
      "model_name": "SliderStyleModel",
      "state": {
       "description_width": ""
      }
     },
     "1fdcfdfedf154947a28c6380bcc5bfbc": {
      "model_module": "@jupyter-widgets/controls",
      "model_module_version": "1.0.0",
      "model_name": "SliderStyleModel",
      "state": {
       "description_width": ""
      }
     },
     "20016902a50041298eecaddad2caf14f": {
      "model_module": "@jupyter-widgets/controls",
      "model_module_version": "1.0.0",
      "model_name": "SliderStyleModel",
      "state": {
       "description_width": ""
      }
     },
     "200ff205022d4b898fafbe077cda899e": {
      "model_module": "@jupyter-widgets/controls",
      "model_module_version": "1.0.0",
      "model_name": "SliderStyleModel",
      "state": {
       "description_width": ""
      }
     },
     "201194823eac4061aea9989626d7a85a": {
      "model_module": "@jupyter-widgets/base",
      "model_module_version": "1.0.0",
      "model_name": "LayoutModel",
      "state": {}
     },
     "20186b44b3404b2e8ce165d2abc42c9d": {
      "model_module": "@jupyter-widgets/base",
      "model_module_version": "1.0.0",
      "model_name": "LayoutModel",
      "state": {}
     },
     "2044b5b4aac2498aa782e23bc5294e1d": {
      "model_module": "@jupyter-widgets/controls",
      "model_module_version": "1.0.0",
      "model_name": "SliderStyleModel",
      "state": {
       "description_width": ""
      }
     },
     "20482828f53e456381d8581dd99b7c00": {
      "model_module": "@jupyter-widgets/controls",
      "model_module_version": "1.0.0",
      "model_name": "IntSliderModel",
      "state": {
       "description": "y",
       "layout": "IPY_MODEL_edcf1d132abb474392a1b9a7c10ee249",
       "min": -100,
       "style": "IPY_MODEL_c19b09dd5e954e898df607c063154f1c"
      }
     },
     "2055576160234dc99d6e1929319add1a": {
      "model_module": "@jupyter-widgets/base",
      "model_module_version": "1.0.0",
      "model_name": "LayoutModel",
      "state": {}
     },
     "20818d221903493088f277861d60ffd8": {
      "model_module": "@jupyter-widgets/base",
      "model_module_version": "1.0.0",
      "model_name": "LayoutModel",
      "state": {}
     },
     "20b4d73f915f43a5be5147e599adcab3": {
      "model_module": "@jupyter-widgets/base",
      "model_module_version": "1.0.0",
      "model_name": "LayoutModel",
      "state": {}
     },
     "20ba679bfe5d4b71b7fd081df1d2dda2": {
      "model_module": "@jupyter-widgets/base",
      "model_module_version": "1.0.0",
      "model_name": "LayoutModel",
      "state": {}
     },
     "20d7c6ce8daa459cad687f97085c600e": {
      "model_module": "@jupyter-widgets/controls",
      "model_module_version": "1.0.0",
      "model_name": "IntSliderModel",
      "state": {
       "description": "dx",
       "layout": "IPY_MODEL_8cad3a0ccfc1410196a9664237ad327e",
       "min": -100,
       "style": "IPY_MODEL_11fea5e7575d45f4a007f28bbf303921",
       "value": -53
      }
     },
     "20dce1b757a348448e729f999faca420": {
      "model_module": "@jupyter-widgets/output",
      "model_module_version": "1.0.0",
      "model_name": "OutputModel",
      "state": {
       "layout": "IPY_MODEL_0a94e72be7834372881929c340aabc03"
      }
     },
     "20f31c8f41b946b693587a30e0e8b77a": {
      "model_module": "@jupyter-widgets/output",
      "model_module_version": "1.0.0",
      "model_name": "OutputModel",
      "state": {
       "layout": "IPY_MODEL_8f685c7d705c4d11afc906f4ca489788"
      }
     },
     "2135da27ff2b4d20b484caf2e5ffcb5c": {
      "model_module": "@jupyter-widgets/controls",
      "model_module_version": "1.0.0",
      "model_name": "IntSliderModel",
      "state": {
       "description": "degrees",
       "layout": "IPY_MODEL_c4e8a147e9b44b7bb7596a26498c9583",
       "max": 360,
       "min": -360,
       "style": "IPY_MODEL_6438aa4d55664f73a1e78fbf6990a7b3"
      }
     },
     "2176e153306d4c2f97fec51cb7966a91": {
      "model_module": "@jupyter-widgets/controls",
      "model_module_version": "1.0.0",
      "model_name": "FloatSliderModel",
      "state": {
       "description": "arc",
       "layout": "IPY_MODEL_74b2742b1bfc45aca3cb643243834a8c",
       "max": 6.383185307179586,
       "step": 0.1,
       "style": "IPY_MODEL_8d3de9c3d8984d0dadfe5d788b034158",
       "value": 6.283185307179586
      }
     },
     "217812abe0e84e3d9e4f26a5bd906e14": {
      "model_module": "@jupyter-widgets/base",
      "model_module_version": "1.0.0",
      "model_name": "LayoutModel",
      "state": {}
     },
     "21a477be45764a1280eab63194d9d51f": {
      "model_module": "@jupyter-widgets/controls",
      "model_module_version": "1.0.0",
      "model_name": "SliderStyleModel",
      "state": {
       "description_width": ""
      }
     },
     "21bd63d2f2bd47519a43f9d92bab98e1": {
      "model_module": "@jupyter-widgets/controls",
      "model_module_version": "1.0.0",
      "model_name": "SliderStyleModel",
      "state": {
       "description_width": ""
      }
     },
     "21d0d13ceb4046b5a28ebb88b79ca687": {
      "model_module": "@jupyter-widgets/controls",
      "model_module_version": "1.0.0",
      "model_name": "SliderStyleModel",
      "state": {
       "description_width": ""
      }
     },
     "21d381f803b8484aae27273d3599000f": {
      "model_module": "@jupyter-widgets/controls",
      "model_module_version": "1.0.0",
      "model_name": "SliderStyleModel",
      "state": {
       "description_width": ""
      }
     },
     "21debb73a2f64c4cac30d3480ba7e5a2": {
      "model_module": "@jupyter-widgets/controls",
      "model_module_version": "1.0.0",
      "model_name": "SliderStyleModel",
      "state": {
       "description_width": ""
      }
     },
     "220d7a6577b747cf8020e694eaacc517": {
      "model_module": "@jupyter-widgets/controls",
      "model_module_version": "1.0.0",
      "model_name": "VBoxModel",
      "state": {
       "children": [
        "IPY_MODEL_78a36bc249644c3abc87b50dc88506bb",
        "IPY_MODEL_5cae9cd0839d460f8c9c083ef5787246"
       ],
       "layout": "IPY_MODEL_5bc86fe162074d7e9b337fe205a9f53c"
      }
     },
     "221b79b9b54a4f7b85ca0ee0c3e355fc": {
      "model_module": "@jupyter-widgets/controls",
      "model_module_version": "1.0.0",
      "model_name": "DescriptionStyleModel",
      "state": {
       "description_width": ""
      }
     },
     "221cc17a24774bbb8356e69a04b4380e": {
      "model_module": "@jupyter-widgets/controls",
      "model_module_version": "1.0.0",
      "model_name": "SliderStyleModel",
      "state": {
       "description_width": ""
      }
     },
     "222e6bfdaa0a4d6eb0a91c708e69798b": {
      "model_module": "@jupyter-widgets/controls",
      "model_module_version": "1.0.0",
      "model_name": "HTMLModel",
      "state": {
       "layout": "IPY_MODEL_e96abbed313840179ea1bd9d6589387d",
       "style": "IPY_MODEL_9f618ea841d14958b87b761236c98b85",
       "value": "<img src=\"interactive_rectangle.png\" id=\"snapshot_id_25_1536268364205\"/>\n <div id=\"snapshot_id_26_1536268364205\">interactive_rectangle.png</div>"
      }
     },
     "2232333ea6a6491cb05dcddfce9ff6e1": {
      "model_module": "@jupyter-widgets/base",
      "model_module_version": "1.0.0",
      "model_name": "LayoutModel",
      "state": {}
     },
     "224a9447e7654c9183d92d752ae40252": {
      "model_module": "@jupyter-widgets/controls",
      "model_module_version": "1.0.0",
      "model_name": "VBoxModel",
      "state": {
       "_dom_classes": [
        "widget-interact"
       ],
       "children": [
        "IPY_MODEL_5504c9b68256430d808135c0f542b41a",
        "IPY_MODEL_4af7c0fca58b4caaa843371a39b17c61",
        "IPY_MODEL_faa7a14f16684d438afa4d69158245dd",
        "IPY_MODEL_fe2fed39a8214696815758d627af9200",
        "IPY_MODEL_6d2f433dc08247a8b01df182c6e1f0fe",
        "IPY_MODEL_93933cd18ff14ce48cdbda7090e4f468",
        "IPY_MODEL_460b49dd6a3144de967af63bb52c0dd8",
        "IPY_MODEL_e8e01f29308e4383a60218d541df44bd",
        "IPY_MODEL_df8e82b9bebd454180b445e85a235612",
        "IPY_MODEL_86aaadec64f648d3a6b6bbd2535bf776",
        "IPY_MODEL_c67dbeda3de244d29c75a91b6e905fa1",
        "IPY_MODEL_b495034dc0a848d8b9ee5590a449b2c6",
        "IPY_MODEL_97f225b315494a76a716fdfe464db030",
        "IPY_MODEL_20f31c8f41b946b693587a30e0e8b77a"
       ],
       "layout": "IPY_MODEL_f5389a88be6b45cebc2139fdf6e23343"
      }
     },
     "224dc997d4a643e9a7b3b31aabc1e9f2": {
      "model_module": "@jupyter-widgets/base",
      "model_module_version": "1.0.0",
      "model_name": "LayoutModel",
      "state": {}
     },
     "227a1c76e4db484fba14540b4b9134d9": {
      "model_module": "@jupyter-widgets/controls",
      "model_module_version": "1.0.0",
      "model_name": "VBoxModel",
      "state": {
       "children": [
        "IPY_MODEL_e04218aa025445888af612b046571c60",
        "IPY_MODEL_276a41bf954f4f059dcb9b47afecf971"
       ],
       "layout": "IPY_MODEL_1a8ea8749c1c44aea5230cc35fbf9e71"
      }
     },
     "22ad830a2a9b48bebc9e98f6d2359f3d": {
      "model_module": "@jupyter-widgets/base",
      "model_module_version": "1.0.0",
      "model_name": "LayoutModel",
      "state": {}
     },
     "230c1a08081649faafad0c93be77558e": {
      "model_module": "@jupyter-widgets/controls",
      "model_module_version": "1.0.0",
      "model_name": "IntSliderModel",
      "state": {
       "description": "dy",
       "layout": "IPY_MODEL_28082da30ce0410382d7871495bada90",
       "min": -100,
       "style": "IPY_MODEL_87d2e9b94d2b4af98a97cd52d05cd508",
       "value": -25
      }
     },
     "230e70817e9547c5963daa5665fbdd22": {
      "model_module": "@jupyter-widgets/controls",
      "model_module_version": "1.0.0",
      "model_name": "IntSliderModel",
      "state": {
       "description": "blue",
       "layout": "IPY_MODEL_42e7a8305b054c398961897cbac89c79",
       "max": 255,
       "style": "IPY_MODEL_09f9e84dc0b24f3395212e5afb68a236",
       "value": 248
      }
     },
     "23196bbb9ceb4b5791040a771bbd21b0": {
      "model_module": "@jupyter-widgets/controls",
      "model_module_version": "1.0.0",
      "model_name": "IntSliderModel",
      "state": {
       "description": "dx",
       "layout": "IPY_MODEL_9874445439384710be37c58de95c877c",
       "max": 300,
       "min": -300,
       "style": "IPY_MODEL_1b2d86d4db6d452c9af945530a21b4b1",
       "value": -50
      }
     },
     "2322c72f1bd2427398cb86f8d4654343": {
      "model_module": "@jupyter-widgets/controls",
      "model_module_version": "1.0.0",
      "model_name": "IntSliderModel",
      "state": {
       "description": "degrees",
       "layout": "IPY_MODEL_45d006e7097941cd9f13c854dfb2dc5e",
       "max": 360,
       "min": -360,
       "style": "IPY_MODEL_45f42df02647452e9c902400395b0012"
      }
     },
     "2328df1c179b4876ad127f784edc929b": {
      "model_module": "@jupyter-widgets/controls",
      "model_module_version": "1.0.0",
      "model_name": "SliderStyleModel",
      "state": {
       "description_width": ""
      }
     },
     "232d06a8e8e545278689b1ec2fac5f93": {
      "model_module": "@jupyter-widgets/base",
      "model_module_version": "1.0.0",
      "model_name": "LayoutModel",
      "state": {}
     },
     "235b7ce2db10418f8223bb4a5d1f03aa": {
      "model_module": "@jupyter-widgets/controls",
      "model_module_version": "1.0.0",
      "model_name": "IntSliderModel",
      "state": {
       "description": "h",
       "layout": "IPY_MODEL_70524fb36c18456d92b154ee3631e5af",
       "max": 300,
       "min": -300,
       "style": "IPY_MODEL_df7b3597ab8a4ff8b65c4f3be4abf655",
       "value": 179
      }
     },
     "238083e1ae9645d196fb0037039b6201": {
      "model_module": "@jupyter-widgets/base",
      "model_module_version": "1.0.0",
      "model_name": "LayoutModel",
      "state": {}
     },
     "23d1f2d601234c0993e35cc7cd9b5d94": {
      "model_module": "@jupyter-widgets/controls",
      "model_module_version": "1.0.0",
      "model_name": "SliderStyleModel",
      "state": {
       "description_width": ""
      }
     },
     "23dec63042644c9abd5ac34fc133b502": {
      "model_module": "@jupyter-widgets/controls",
      "model_module_version": "1.0.0",
      "model_name": "SliderStyleModel",
      "state": {
       "description_width": ""
      }
     },
     "23df2c891e2d48d89afcc76b817e8241": {
      "model_module": "@jupyter-widgets/base",
      "model_module_version": "1.0.0",
      "model_name": "LayoutModel",
      "state": {}
     },
     "23ea168f6d8b4be4aa1febf6b7134381": {
      "model_module": "@jupyter-widgets/base",
      "model_module_version": "1.0.0",
      "model_name": "LayoutModel",
      "state": {}
     },
     "23ec3e85846e47189f2fbc2c785c6973": {
      "model_module": "jp_proxy_widget",
      "model_module_version": "^0.3.4",
      "model_name": "JSProxyModel",
      "state": {
       "_model_module_version": "^0.3.4",
       "_send_counter": 2,
       "_view_module_version": "^0.3.4",
       "error_msg": "No error",
       "layout": "IPY_MODEL_15722c82c7014f1792c29e9902305ec0",
       "rendered": true,
       "status": "Got results."
      }
     },
     "2400671700b64c99a2b65e1898f8c0a5": {
      "model_module": "@jupyter-widgets/base",
      "model_module_version": "1.0.0",
      "model_name": "LayoutModel",
      "state": {}
     },
     "24527cb028fc4366a60ff6d4e3deb435": {
      "model_module": "@jupyter-widgets/base",
      "model_module_version": "1.0.0",
      "model_name": "LayoutModel",
      "state": {}
     },
     "24547a73d5b3471a984e1667a2d2ac82": {
      "model_module": "@jupyter-widgets/base",
      "model_module_version": "1.0.0",
      "model_name": "LayoutModel",
      "state": {}
     },
     "24d7df0fd6094301b21c7aa7feb3e24a": {
      "model_module": "@jupyter-widgets/base",
      "model_module_version": "1.0.0",
      "model_name": "LayoutModel",
      "state": {}
     },
     "24e26df30b86429da83d79df00b7ad0c": {
      "model_module": "@jupyter-widgets/base",
      "model_module_version": "1.0.0",
      "model_name": "LayoutModel",
      "state": {}
     },
     "252c075199c644e4b2e2c95360278243": {
      "model_module": "@jupyter-widgets/base",
      "model_module_version": "1.0.0",
      "model_name": "LayoutModel",
      "state": {}
     },
     "253caeaf32d743d08625923e6429970a": {
      "model_module": "@jupyter-widgets/base",
      "model_module_version": "1.0.0",
      "model_name": "LayoutModel",
      "state": {}
     },
     "25769e48098b453bb529a81dac6f948d": {
      "model_module": "@jupyter-widgets/controls",
      "model_module_version": "1.0.0",
      "model_name": "SliderStyleModel",
      "state": {
       "description_width": ""
      }
     },
     "258a037f9c5d4f1ab7e73280fcb610bb": {
      "model_module": "@jupyter-widgets/base",
      "model_module_version": "1.0.0",
      "model_name": "LayoutModel",
      "state": {}
     },
     "259a0d5baf5648449649a1169a23969c": {
      "model_module": "@jupyter-widgets/controls",
      "model_module_version": "1.0.0",
      "model_name": "IntSliderModel",
      "state": {
       "description": "h",
       "layout": "IPY_MODEL_ff700983c343484cbb7f6850177ee17f",
       "max": 300,
       "min": -300,
       "style": "IPY_MODEL_5b33747b426b477f9a60bfd1128a65fd",
       "value": 108
      }
     },
     "259adae8627a4b149eccacfa734ad30d": {
      "model_module": "@jupyter-widgets/base",
      "model_module_version": "1.0.0",
      "model_name": "LayoutModel",
      "state": {}
     },
     "25a18e877fa24734b75769fa6e63c68f": {
      "model_module": "@jupyter-widgets/controls",
      "model_module_version": "1.0.0",
      "model_name": "IntSliderModel",
      "state": {
       "description": "dy",
       "layout": "IPY_MODEL_ece400934a4849ec83e0ed6585d19384",
       "min": -100,
       "style": "IPY_MODEL_75b20f334ff84f84a84a206f9cedb680",
       "value": -25
      }
     },
     "25d8a509efa1443fb9a269c10e9e79ef": {
      "model_module": "@jupyter-widgets/controls",
      "model_module_version": "1.0.0",
      "model_name": "SliderStyleModel",
      "state": {
       "description_width": ""
      }
     },
     "25e715584ab4424e8a35eb9df9c85de8": {
      "model_module": "@jupyter-widgets/controls",
      "model_module_version": "1.0.0",
      "model_name": "SliderStyleModel",
      "state": {
       "description_width": ""
      }
     },
     "25f4b5cfe0e04d4da1ca22db5da2edf0": {
      "model_module": "@jupyter-widgets/base",
      "model_module_version": "1.0.0",
      "model_name": "LayoutModel",
      "state": {}
     },
     "25f711c919fc42c5acf1251267909e68": {
      "model_module": "@jupyter-widgets/base",
      "model_module_version": "1.0.0",
      "model_name": "LayoutModel",
      "state": {}
     },
     "25fa68fcc4ec4698a103113c760189e1": {
      "model_module": "@jupyter-widgets/controls",
      "model_module_version": "1.0.0",
      "model_name": "CheckboxModel",
      "state": {
       "description": "whole",
       "disabled": false,
       "layout": "IPY_MODEL_ebd8c6e59dd34f62a713a5e1d3cf2ad5",
       "style": "IPY_MODEL_ad53bb39a79140c2ba50a593b050523e",
       "value": false
      }
     },
     "25fe0e83a7be4b38a7211ce894201e9e": {
      "model_module": "@jupyter-widgets/base",
      "model_module_version": "1.0.0",
      "model_name": "LayoutModel",
      "state": {}
     },
     "25ff0f4b6a034b2aae3e5551002cf462": {
      "model_module": "@jupyter-widgets/base",
      "model_module_version": "1.0.0",
      "model_name": "LayoutModel",
      "state": {}
     },
     "2608ab08ec564208bfde0d40ef9448e3": {
      "model_module": "@jupyter-widgets/base",
      "model_module_version": "1.0.0",
      "model_name": "LayoutModel",
      "state": {}
     },
     "262e201408c845bdbd57f16621e5c07c": {
      "model_module": "jp_proxy_widget",
      "model_module_version": "^0.3.4",
      "model_name": "JSProxyModel",
      "state": {
       "_model_module_version": "^0.3.4",
       "_send_counter": 2,
       "_view_module_version": "^0.3.4",
       "error_msg": "No error",
       "layout": "IPY_MODEL_311496ed979945b4b934584d777351f4",
       "rendered": true,
       "status": "Got results."
      }
     },
     "2632036bb6bf473da1b587ff86aa87fd": {
      "model_module": "@jupyter-widgets/controls",
      "model_module_version": "1.0.0",
      "model_name": "TabModel",
      "state": {
       "_titles": {
        "0": "Canvas",
        "1": "Snapshot"
       },
       "children": [
        "IPY_MODEL_18c9fcd26c6447f6a8dd9cf255688116",
        "IPY_MODEL_97435a4202fe4f1fbe3d8e44f0feb34a"
       ],
       "layout": "IPY_MODEL_c8ac01fe12dd4bfbb557dabc3c365a78",
       "selected_index": 1
      }
     },
     "266a1b69002f43df828cbbd586abb503": {
      "model_module": "@jupyter-widgets/controls",
      "model_module_version": "1.0.0",
      "model_name": "IntSliderModel",
      "state": {
       "description": "x",
       "layout": "IPY_MODEL_4fcabb2ea9944429a4d817eb777e7be1",
       "min": -100,
       "style": "IPY_MODEL_21a477be45764a1280eab63194d9d51f"
      }
     },
     "267d05ac300a4e71a7f705e0e60043c8": {
      "model_module": "@jupyter-widgets/controls",
      "model_module_version": "1.0.0",
      "model_name": "SliderStyleModel",
      "state": {
       "description_width": ""
      }
     },
     "2694e78c304542fca142a320c7dadf47": {
      "model_module": "@jupyter-widgets/controls",
      "model_module_version": "1.0.0",
      "model_name": "IntSliderModel",
      "state": {
       "description": "h",
       "layout": "IPY_MODEL_39324e799caa4b39b06537c04b04a6d0",
       "max": 300,
       "min": -300,
       "style": "IPY_MODEL_14cb7c50d8304d09bfd9f6b26e40d8b9",
       "value": 88
      }
     },
     "269ba0d24ef946468e8f98e69f4778bb": {
      "model_module": "@jupyter-widgets/controls",
      "model_module_version": "1.0.0",
      "model_name": "SliderStyleModel",
      "state": {
       "description_width": ""
      }
     },
     "26aa5b55371645f9ad24aead6c30b0c5": {
      "model_module": "@jupyter-widgets/base",
      "model_module_version": "1.0.0",
      "model_name": "LayoutModel",
      "state": {}
     },
     "26b13228cb334bd6ac7d3184617b3a14": {
      "model_module": "@jupyter-widgets/controls",
      "model_module_version": "1.0.0",
      "model_name": "IntSliderModel",
      "state": {
       "description": "red",
       "layout": "IPY_MODEL_4141082cfa0347e0b36b4f20f5ee698e",
       "max": 255,
       "style": "IPY_MODEL_c1191473b69c4c65917b6fecdf0ebd3b",
       "value": 255
      }
     },
     "26bb7c19ef7642acbe11cc5fdaf4223a": {
      "model_module": "@jupyter-widgets/base",
      "model_module_version": "1.0.0",
      "model_name": "LayoutModel",
      "state": {}
     },
     "26bebf5448154bd4b302375d200cc359": {
      "model_module": "@jupyter-widgets/controls",
      "model_module_version": "1.0.0",
      "model_name": "SliderStyleModel",
      "state": {
       "description_width": ""
      }
     },
     "26e4900072e1472292fe343d0ff4e056": {
      "model_module": "@jupyter-widgets/base",
      "model_module_version": "1.0.0",
      "model_name": "LayoutModel",
      "state": {}
     },
     "27012439e37b43689536808bef069672": {
      "model_module": "@jupyter-widgets/base",
      "model_module_version": "1.0.0",
      "model_name": "LayoutModel",
      "state": {}
     },
     "2715990fa5714fc6a0fc16e71955286c": {
      "model_module": "@jupyter-widgets/controls",
      "model_module_version": "1.0.0",
      "model_name": "SliderStyleModel",
      "state": {
       "description_width": ""
      }
     },
     "27691200ac7a4d2eb7ca06b8cfd0bd80": {
      "model_module": "@jupyter-widgets/base",
      "model_module_version": "1.0.0",
      "model_name": "LayoutModel",
      "state": {}
     },
     "276a41bf954f4f059dcb9b47afecf971": {
      "model_module": "jp_proxy_widget",
      "model_module_version": "^0.3.4",
      "model_name": "JSProxyModel",
      "state": {
       "_model_module_version": "^0.3.4",
       "_send_counter": 2,
       "_view_module_version": "^0.3.4",
       "error_msg": "No error",
       "layout": "IPY_MODEL_fd1cee0fb14e4f829e869365b300dac3",
       "rendered": true,
       "status": "Got results."
      }
     },
     "278761cef79a4074836119b8b0222f88": {
      "model_module": "@jupyter-widgets/base",
      "model_module_version": "1.0.0",
      "model_name": "LayoutModel",
      "state": {}
     },
     "27886f0e5084463eb1417a26237d54e3": {
      "model_module": "@jupyter-widgets/base",
      "model_module_version": "1.0.0",
      "model_name": "LayoutModel",
      "state": {}
     },
     "278c14b15124447588f0c5b9b1090a1e": {
      "model_module": "@jupyter-widgets/controls",
      "model_module_version": "1.0.0",
      "model_name": "IntSliderModel",
      "state": {
       "description": "r",
       "layout": "IPY_MODEL_4ef993eb67774642bd48a4c780196768",
       "style": "IPY_MODEL_a4588cc0de184bc8832320fb76949505",
       "value": 50
      }
     },
     "27bfc583335d4bcbbe9be4cb124123e7": {
      "model_module": "@jupyter-widgets/controls",
      "model_module_version": "1.0.0",
      "model_name": "IntSliderModel",
      "state": {
       "description": "degrees",
       "layout": "IPY_MODEL_27886f0e5084463eb1417a26237d54e3",
       "max": 360,
       "min": -360,
       "style": "IPY_MODEL_376246a27470445cbf6f3d42aad9101a",
       "value": -9
      }
     },
     "27fafaa986e74dafa21ee00b18011127": {
      "model_module": "@jupyter-widgets/base",
      "model_module_version": "1.0.0",
      "model_name": "LayoutModel",
      "state": {}
     },
     "28082da30ce0410382d7871495bada90": {
      "model_module": "@jupyter-widgets/base",
      "model_module_version": "1.0.0",
      "model_name": "LayoutModel",
      "state": {}
     },
     "2818da40efa2451ea93d3b75a745c880": {
      "model_module": "@jupyter-widgets/base",
      "model_module_version": "1.0.0",
      "model_name": "LayoutModel",
      "state": {}
     },
     "28471fdbe2d4485fa5e32ed60ec1915d": {
      "model_module": "@jupyter-widgets/controls",
      "model_module_version": "1.0.0",
      "model_name": "SliderStyleModel",
      "state": {
       "description_width": ""
      }
     },
     "28622d7dc50448ba8a54324fce5fc3a4": {
      "model_module": "@jupyter-widgets/controls",
      "model_module_version": "1.0.0",
      "model_name": "VBoxModel",
      "state": {
       "children": [
        "IPY_MODEL_a6afeaee117d4c87819cceb651ddf789",
        "IPY_MODEL_b3f1a97ecd8b4aab91af8726e1063296"
       ],
       "layout": "IPY_MODEL_d38d110673304e319daafa6a39990cfc"
      }
     },
     "286b979d49fd4641b46cc3a834cd1cf9": {
      "model_module": "@jupyter-widgets/controls",
      "model_module_version": "1.0.0",
      "model_name": "SliderStyleModel",
      "state": {
       "description_width": ""
      }
     },
     "286ea4c7e2794df0a9aa52bc80986ede": {
      "model_module": "@jupyter-widgets/controls",
      "model_module_version": "1.0.0",
      "model_name": "SliderStyleModel",
      "state": {
       "description_width": ""
      }
     },
     "287a0108f4b74575a485bdd9d44db305": {
      "model_module": "@jupyter-widgets/base",
      "model_module_version": "1.0.0",
      "model_name": "LayoutModel",
      "state": {}
     },
     "287cd41b851146269e275908f48cd2d7": {
      "model_module": "@jupyter-widgets/controls",
      "model_module_version": "1.0.0",
      "model_name": "HTMLModel",
      "state": {
       "layout": "IPY_MODEL_a796e87e80984babb3aea6f8278446c4",
       "style": "IPY_MODEL_43380f299241427bb11ab4ba067f8be4",
       "value": "<img src=\"interactive_circle2.png\" id=\"snapshot_id_8_1536250118617\"/>\n <div id=\"snapshot_id_9_1536250118617\">interactive_circle2.png</div>"
      }
     },
     "287f31043d5a4e62bbae1cad15d5c0b5": {
      "model_module": "@jupyter-widgets/controls",
      "model_module_version": "1.0.0",
      "model_name": "TabModel",
      "state": {
       "_titles": {
        "0": "Canvas",
        "1": "Snapshot"
       },
       "children": [
        "IPY_MODEL_e2334c3c19c2476b9eac05ce52baa0a7",
        "IPY_MODEL_ac8bcbb72d4043d8854ecd8f3494a1d3"
       ],
       "layout": "IPY_MODEL_35b35fc8abe046b5b4349bb67aba2d57"
      }
     },
     "28981a0ecc854b09892cce7b4e2dfda5": {
      "model_module": "jp_proxy_widget",
      "model_module_version": "^0.3.4",
      "model_name": "JSProxyModel",
      "state": {
       "_model_module_version": "^0.3.4",
       "_send_counter": 13,
       "_view_module_version": "^0.3.4",
       "error_msg": "No error",
       "layout": "IPY_MODEL_5554471bf5774b0b83104352e0f61b59",
       "rendered": true,
       "status": "Got results."
      }
     },
     "289a0153c9a14816a57ad94f5c55828e": {
      "model_module": "@jupyter-widgets/controls",
      "model_module_version": "1.0.0",
      "model_name": "IntSliderModel",
      "state": {
       "description": "r",
       "layout": "IPY_MODEL_1a8f82465f4a47b9981cb3271fe9314b",
       "style": "IPY_MODEL_2044b5b4aac2498aa782e23bc5294e1d",
       "value": 39
      }
     },
     "28ba04977e8e405c985da17c6576161c": {
      "model_module": "@jupyter-widgets/base",
      "model_module_version": "1.0.0",
      "model_name": "LayoutModel",
      "state": {}
     },
     "28d39ff5265846bba335125a2ccb7a79": {
      "model_module": "@jupyter-widgets/controls",
      "model_module_version": "1.0.0",
      "model_name": "SliderStyleModel",
      "state": {
       "description_width": ""
      }
     },
     "28d89deba6ff402f8c7778dfc7a0650c": {
      "model_module": "@jupyter-widgets/base",
      "model_module_version": "1.0.0",
      "model_name": "LayoutModel",
      "state": {}
     },
     "29010fa647a445f4accddbb8a18a8e7b": {
      "model_module": "@jupyter-widgets/base",
      "model_module_version": "1.0.0",
      "model_name": "LayoutModel",
      "state": {}
     },
     "290d5891803043118d55ba1033bc388c": {
      "model_module": "@jupyter-widgets/base",
      "model_module_version": "1.0.0",
      "model_name": "LayoutModel",
      "state": {}
     },
     "29175feef1a148e18a99ea050f6789a2": {
      "model_module": "@jupyter-widgets/controls",
      "model_module_version": "1.0.0",
      "model_name": "SliderStyleModel",
      "state": {
       "description_width": ""
      }
     },
     "293196b84bca4d75b930132f3fee8dc6": {
      "model_module": "@jupyter-widgets/base",
      "model_module_version": "1.0.0",
      "model_name": "LayoutModel",
      "state": {}
     },
     "293316fd146f458b9ed8526a62cc02ff": {
      "model_module": "@jupyter-widgets/controls",
      "model_module_version": "1.0.0",
      "model_name": "SliderStyleModel",
      "state": {
       "description_width": ""
      }
     },
     "293d1cecc11c4e92b515026e1832008a": {
      "model_module": "@jupyter-widgets/controls",
      "model_module_version": "1.0.0",
      "model_name": "SliderStyleModel",
      "state": {
       "description_width": ""
      }
     },
     "2963ea3916734e9d8f9d311195ff5b06": {
      "model_module": "@jupyter-widgets/controls",
      "model_module_version": "1.0.0",
      "model_name": "IntSliderModel",
      "state": {
       "description": "h",
       "layout": "IPY_MODEL_d0709f5fc127471fa647d58108b5261b",
       "max": 300,
       "min": -300,
       "style": "IPY_MODEL_da8385d05b7a4debb1899852ddbc734a",
       "value": 78
      }
     },
     "299f3d95952d4905a1a0828a6698ab7e": {
      "model_module": "@jupyter-widgets/controls",
      "model_module_version": "1.0.0",
      "model_name": "IntSliderModel",
      "state": {
       "description": "y",
       "layout": "IPY_MODEL_f8064f5681034ad28c0fb847780f621e",
       "min": -100,
       "style": "IPY_MODEL_51744c0083334ef2b624daf8052527f8"
      }
     },
     "29a668a62dca4230b543192b50ea8f07": {
      "model_module": "@jupyter-widgets/controls",
      "model_module_version": "1.0.0",
      "model_name": "IntSliderModel",
      "state": {
       "description": "red",
       "layout": "IPY_MODEL_a2d530c62187438e81a574efcb35f847",
       "max": 255,
       "style": "IPY_MODEL_8ebd5697257746bd996a84748fdd2335",
       "value": 147
      }
     },
     "29a846cc8705469ca82fa3c96a3ff821": {
      "model_module": "@jupyter-widgets/controls",
      "model_module_version": "1.0.0",
      "model_name": "IntSliderModel",
      "state": {
       "description": "dx",
       "layout": "IPY_MODEL_1f5eab211b534502bb7460ad5cacad79",
       "min": -100,
       "style": "IPY_MODEL_72d208781a684957b07912b6b3bc8f8f",
       "value": 37
      }
     },
     "29b67f2c596b4499a78ef084a1fb1a9f": {
      "model_module": "@jupyter-widgets/base",
      "model_module_version": "1.0.0",
      "model_name": "LayoutModel",
      "state": {}
     },
     "29bcfc628b4a4af4ae21a2c8aaec0205": {
      "model_module": "@jupyter-widgets/controls",
      "model_module_version": "1.0.0",
      "model_name": "SliderStyleModel",
      "state": {
       "description_width": ""
      }
     },
     "29d8602416e747088fc9e9407ba64046": {
      "model_module": "@jupyter-widgets/base",
      "model_module_version": "1.0.0",
      "model_name": "LayoutModel",
      "state": {}
     },
     "29d8fa81879e4a869232b57bede86256": {
      "model_module": "@jupyter-widgets/base",
      "model_module_version": "1.0.0",
      "model_name": "LayoutModel",
      "state": {}
     },
     "29f98982228a480b8ae6365c02dfedbe": {
      "model_module": "@jupyter-widgets/controls",
      "model_module_version": "1.0.0",
      "model_name": "IntSliderModel",
      "state": {
       "description": "dy",
       "layout": "IPY_MODEL_43ecff260c6e4673857d890d8255d7b3",
       "min": -100,
       "style": "IPY_MODEL_974b699df0894ca88baa8e91e1bf8a4e",
       "value": -25
      }
     },
     "2a15a51837da428e984690eae2dd5b8f": {
      "model_module": "@jupyter-widgets/base",
      "model_module_version": "1.0.0",
      "model_name": "LayoutModel",
      "state": {}
     },
     "2a503bf572854f738b7f99976ad6a69e": {
      "model_module": "jp_proxy_widget",
      "model_module_version": "^0.3.4",
      "model_name": "JSProxyModel",
      "state": {
       "_model_module_version": "^0.3.4",
       "_send_counter": 2,
       "_view_module_version": "^0.3.4",
       "error_msg": "No error",
       "layout": "IPY_MODEL_53a3fe8142034ae8b0c19f28c450b896",
       "rendered": true,
       "status": "Got results."
      }
     },
     "2a771ba2332947638e2011cc23b498b3": {
      "model_module": "@jupyter-widgets/controls",
      "model_module_version": "1.0.0",
      "model_name": "VBoxModel",
      "state": {
       "children": [
        "IPY_MODEL_1619dfd7c5284ab09aef1ec4d1e3d037",
        "IPY_MODEL_4bfc39b7ad2b4dd2b03437294ae8a494"
       ],
       "layout": "IPY_MODEL_37a23d3d43b94abbbc2f5332d635d81e"
      }
     },
     "2a7e3bcd806d4c73bf90412c6c35699f": {
      "model_module": "@jupyter-widgets/controls",
      "model_module_version": "1.0.0",
      "model_name": "SliderStyleModel",
      "state": {
       "description_width": ""
      }
     },
     "2a809c0d80474d68b1c427f243a7786e": {
      "model_module": "@jupyter-widgets/base",
      "model_module_version": "1.0.0",
      "model_name": "LayoutModel",
      "state": {}
     },
     "2a96869849f1497d9027aa3b38e3a849": {
      "model_module": "@jupyter-widgets/base",
      "model_module_version": "1.0.0",
      "model_name": "LayoutModel",
      "state": {}
     },
     "2a9785a69adc473a994b99bbb9c29fb7": {
      "model_module": "@jupyter-widgets/controls",
      "model_module_version": "1.0.0",
      "model_name": "SliderStyleModel",
      "state": {
       "description_width": ""
      }
     },
     "2aa1ea1dea5e449fafe88771600480d9": {
      "model_module": "@jupyter-widgets/base",
      "model_module_version": "1.0.0",
      "model_name": "LayoutModel",
      "state": {}
     },
     "2ac029db54324f539966573b9e540eba": {
      "model_module": "@jupyter-widgets/base",
      "model_module_version": "1.0.0",
      "model_name": "LayoutModel",
      "state": {}
     },
     "2af5751967594d488226afc3e3138e0b": {
      "model_module": "@jupyter-widgets/controls",
      "model_module_version": "1.0.0",
      "model_name": "DescriptionStyleModel",
      "state": {
       "description_width": ""
      }
     },
     "2b1354f3513547d9be7ea5abf77a3936": {
      "model_module": "@jupyter-widgets/base",
      "model_module_version": "1.0.0",
      "model_name": "LayoutModel",
      "state": {}
     },
     "2b3d42d25ac247db8bc321d10812c792": {
      "model_module": "@jupyter-widgets/base",
      "model_module_version": "1.0.0",
      "model_name": "LayoutModel",
      "state": {}
     },
     "2b7be72eef08490494bfd8de96fce6a3": {
      "model_module": "@jupyter-widgets/base",
      "model_module_version": "1.0.0",
      "model_name": "LayoutModel",
      "state": {}
     },
     "2b86948bdf714e53b0ed584c81c8d7d3": {
      "model_module": "@jupyter-widgets/base",
      "model_module_version": "1.0.0",
      "model_name": "LayoutModel",
      "state": {}
     },
     "2bbddc9e026c40ada225af4c8d2c4e06": {
      "model_module": "@jupyter-widgets/controls",
      "model_module_version": "1.0.0",
      "model_name": "DescriptionStyleModel",
      "state": {
       "description_width": ""
      }
     },
     "2bd99a6bd36b40e19e167a9293c1a31f": {
      "model_module": "@jupyter-widgets/controls",
      "model_module_version": "1.0.0",
      "model_name": "IntSliderModel",
      "state": {
       "description": "y",
       "layout": "IPY_MODEL_8dbc6d59254949a7a2a31b82ddfede27",
       "min": -100,
       "style": "IPY_MODEL_c6a9a33d2cd847ffbcecd32efae5e60a"
      }
     },
     "2bdd5cd1c8164541a2dedaf5640b8699": {
      "model_module": "@jupyter-widgets/controls",
      "model_module_version": "1.0.0",
      "model_name": "SliderStyleModel",
      "state": {
       "description_width": ""
      }
     },
     "2bdf84633aae44ac9767292958e6b60b": {
      "model_module": "@jupyter-widgets/base",
      "model_module_version": "1.0.0",
      "model_name": "LayoutModel",
      "state": {}
     },
     "2bf7e51094224b23b29a40900d1d8086": {
      "model_module": "@jupyter-widgets/controls",
      "model_module_version": "1.0.0",
      "model_name": "SliderStyleModel",
      "state": {
       "description_width": ""
      }
     },
     "2c152d9a76c445a1bbbcdd777485ac99": {
      "model_module": "@jupyter-widgets/controls",
      "model_module_version": "1.0.0",
      "model_name": "TabModel",
      "state": {
       "_titles": {
        "0": "Canvas",
        "1": "Snapshot"
       },
       "children": [
        "IPY_MODEL_73f3bcd258c747d3bcac3d2331ca4f87",
        "IPY_MODEL_45fc4475c0c946c498a424a7bac8120e"
       ],
       "layout": "IPY_MODEL_bf1545fd402e448da6b5372adb53285e"
      }
     },
     "2c22ee5d344241849908524593aad2f4": {
      "model_module": "@jupyter-widgets/base",
      "model_module_version": "1.0.0",
      "model_name": "LayoutModel",
      "state": {}
     },
     "2c3ecbe80928411bb80f0b3a06066223": {
      "model_module": "@jupyter-widgets/base",
      "model_module_version": "1.0.0",
      "model_name": "LayoutModel",
      "state": {}
     },
     "2c430439150043db857466387ed95f0a": {
      "model_module": "@jupyter-widgets/base",
      "model_module_version": "1.0.0",
      "model_name": "LayoutModel",
      "state": {}
     },
     "2c5a3deaae6c46649bf71f7b88084ae4": {
      "model_module": "@jupyter-widgets/controls",
      "model_module_version": "1.0.0",
      "model_name": "TabModel",
      "state": {
       "_titles": {
        "0": "Canvas",
        "1": "Snapshot"
       },
       "children": [
        "IPY_MODEL_36490e0ac3e94b72acc7f8a5aabaa055",
        "IPY_MODEL_bc0c9962453741fa87bd0b13b4442d84"
       ],
       "layout": "IPY_MODEL_c321150d3889420097a520653cef8df6"
      }
     },
     "2c87a24df3ce443a8c8b5c17fbe21d87": {
      "model_module": "@jupyter-widgets/controls",
      "model_module_version": "1.0.0",
      "model_name": "SliderStyleModel",
      "state": {
       "description_width": ""
      }
     },
     "2cd65aeebb324a9c86ba53e5b8d1b7e8": {
      "model_module": "@jupyter-widgets/controls",
      "model_module_version": "1.0.0",
      "model_name": "TabModel",
      "state": {
       "_titles": {
        "0": "Canvas",
        "1": "Snapshot"
       },
       "children": [
        "IPY_MODEL_ba47a2ab07c441bfa3ae18049cc3afea",
        "IPY_MODEL_f40d65cd70784080bd242d3c8b0151ae"
       ],
       "layout": "IPY_MODEL_0d6e20ce23a145f6a6a18bf05360151f"
      }
     },
     "2d25cde2c3a34ce78c0183785f2b5627": {
      "model_module": "@jupyter-widgets/controls",
      "model_module_version": "1.0.0",
      "model_name": "IntSliderModel",
      "state": {
       "description": "lineWidth",
       "layout": "IPY_MODEL_ced358c677e44a39ab42f0f84a832deb",
       "max": 20,
       "style": "IPY_MODEL_e9b47e5be3874a76868819b827041232",
       "value": 3
      }
     },
     "2d6082387d2c4646b93bc81c59bdc36d": {
      "model_module": "@jupyter-widgets/base",
      "model_module_version": "1.0.0",
      "model_name": "LayoutModel",
      "state": {}
     },
     "2d651863e2544820bc0a148fc5b6c65d": {
      "model_module": "@jupyter-widgets/base",
      "model_module_version": "1.0.0",
      "model_name": "LayoutModel",
      "state": {}
     },
     "2d76bf95824445969bc3a7b390089690": {
      "model_module": "@jupyter-widgets/controls",
      "model_module_version": "1.0.0",
      "model_name": "SliderStyleModel",
      "state": {
       "description_width": ""
      }
     },
     "2d904ae99ba04142b53fc480c126672e": {
      "model_module": "@jupyter-widgets/controls",
      "model_module_version": "1.0.0",
      "model_name": "IntSliderModel",
      "state": {
       "description": "y",
       "layout": "IPY_MODEL_550f920564e34228a7d10ffdd31b298a",
       "min": -100,
       "style": "IPY_MODEL_59fed05fbec546849a66b9f6c87f0070"
      }
     },
     "2d96f23bc6174fdbb9c5669ec901c7cc": {
      "model_module": "@jupyter-widgets/controls",
      "model_module_version": "1.0.0",
      "model_name": "SliderStyleModel",
      "state": {
       "description_width": ""
      }
     },
     "2d9d871495414279bd3aa73612c85bab": {
      "model_module": "@jupyter-widgets/controls",
      "model_module_version": "1.0.0",
      "model_name": "SliderStyleModel",
      "state": {
       "description_width": ""
      }
     },
     "2dfed08de1b847b3922417ffe1713046": {
      "model_module": "@jupyter-widgets/base",
      "model_module_version": "1.0.0",
      "model_name": "LayoutModel",
      "state": {}
     },
     "2e08898fcf3248e28c28a65c39c1c0f0": {
      "model_module": "@jupyter-widgets/controls",
      "model_module_version": "1.0.0",
      "model_name": "IntSliderModel",
      "state": {
       "description": "dy",
       "layout": "IPY_MODEL_ee96c12850934fa898a617e130f6dabf",
       "min": -100,
       "style": "IPY_MODEL_a4f54d5f02334d15988462b5378f36b5",
       "value": -31
      }
     },
     "2e0efeb66c774b279f328baef2f76ba9": {
      "model_module": "@jupyter-widgets/base",
      "model_module_version": "1.0.0",
      "model_name": "LayoutModel",
      "state": {}
     },
     "2e17d479126748d58e6f116ef236360e": {
      "model_module": "@jupyter-widgets/controls",
      "model_module_version": "1.0.0",
      "model_name": "HTMLModel",
      "state": {
       "layout": "IPY_MODEL_5c4393d40f2040c2bc5af343689e425e",
       "style": "IPY_MODEL_9ca79bab1e76473b995970c804bbb6fa",
       "value": "<img src=\"interactive_rectangle.png\" id=\"snapshot_id_5_1536267134875\"/>\n <div id=\"snapshot_id_6_1536267134875\">interactive_rectangle.png</div>"
      }
     },
     "2e1c983d417a4f2f84bf78c2c2c47e71": {
      "model_module": "@jupyter-widgets/base",
      "model_module_version": "1.0.0",
      "model_name": "LayoutModel",
      "state": {}
     },
     "2e34cd67022644ac94e51be481464a52": {
      "model_module": "@jupyter-widgets/controls",
      "model_module_version": "1.0.0",
      "model_name": "SliderStyleModel",
      "state": {
       "description_width": ""
      }
     },
     "2e34f0fc8ec0401aaa0a52dbc5a8eb0e": {
      "model_module": "@jupyter-widgets/base",
      "model_module_version": "1.0.0",
      "model_name": "LayoutModel",
      "state": {}
     },
     "2e3700642f6c448f8f7c6904103bd311": {
      "model_module": "@jupyter-widgets/controls",
      "model_module_version": "1.0.0",
      "model_name": "IntSliderModel",
      "state": {
       "description": "y",
       "layout": "IPY_MODEL_54af61ffcfe54dea9157cd638550ee34",
       "min": -100,
       "style": "IPY_MODEL_bf556472c98e402281ff21357794cc11"
      }
     },
     "2e560254a2aa47f6bfa4611fba173a78": {
      "model_module": "@jupyter-widgets/controls",
      "model_module_version": "1.0.0",
      "model_name": "IntSliderModel",
      "state": {
       "description": "green",
       "layout": "IPY_MODEL_f1a3b8333cd64b18b9fc81cfd5eaf1d1",
       "max": 255,
       "style": "IPY_MODEL_8e6574475ec24bfb8beb1c233639c1c2"
      }
     },
     "2e564995d0a74657b91747686e566185": {
      "model_module": "jp_proxy_widget",
      "model_module_version": "^0.3.4",
      "model_name": "JSProxyModel",
      "state": {
       "_model_module_version": "^0.3.4",
       "_send_counter": 745,
       "_view_module_version": "^0.3.4",
       "error_msg": "No error",
       "layout": "IPY_MODEL_224dc997d4a643e9a7b3b31aabc1e9f2",
       "rendered": true,
       "status": "Got results."
      }
     },
     "2e6b052db3a14267957a9104b599128e": {
      "model_module": "@jupyter-widgets/controls",
      "model_module_version": "1.0.0",
      "model_name": "IntSliderModel",
      "state": {
       "description": "lineWidth",
       "layout": "IPY_MODEL_1955a57b925a4512bd0c81d802a742b9",
       "max": 20,
       "style": "IPY_MODEL_31f9b0309ed143be9cd86aafa176c281",
       "value": 3
      }
     },
     "2e6d683ed79440b9bcf9f1a3d107c32a": {
      "model_module": "@jupyter-widgets/controls",
      "model_module_version": "1.0.0",
      "model_name": "SliderStyleModel",
      "state": {
       "description_width": ""
      }
     },
     "2e6e7f1bd8864607b58b4841cc91d3b7": {
      "model_module": "@jupyter-widgets/controls",
      "model_module_version": "1.0.0",
      "model_name": "IntSliderModel",
      "state": {
       "description": "x",
       "layout": "IPY_MODEL_403a45102ba147f8aa926d450caf82de",
       "min": -100,
       "style": "IPY_MODEL_9f2041dc70e942bd990fe0074cd0e617",
       "value": -20
      }
     },
     "2e7b00438b9c409ea7d5451e5ce7e3ea": {
      "model_module": "@jupyter-widgets/controls",
      "model_module_version": "1.0.0",
      "model_name": "SliderStyleModel",
      "state": {
       "description_width": ""
      }
     },
     "2ed53716cbfb4930b6f2d38798db8ed8": {
      "model_module": "@jupyter-widgets/controls",
      "model_module_version": "1.0.0",
      "model_name": "IntSliderModel",
      "state": {
       "description": "y",
       "layout": "IPY_MODEL_c5c9439fa4874263bb7416c88ee5a009",
       "min": -100,
       "style": "IPY_MODEL_1fc4a7c3dd364879b144346222c71143"
      }
     },
     "2ee7cc21f0c14506b963356870175365": {
      "model_module": "@jupyter-widgets/controls",
      "model_module_version": "1.0.0",
      "model_name": "IntSliderModel",
      "state": {
       "description": "r",
       "layout": "IPY_MODEL_94860ebcd967426b807144f30016ba20",
       "style": "IPY_MODEL_9efbcad1358c44fb81da258d813a6b3e",
       "value": 66
      }
     },
     "2eed981eb41041e0be50357f0d4231ee": {
      "model_module": "@jupyter-widgets/controls",
      "model_module_version": "1.0.0",
      "model_name": "IntSliderModel",
      "state": {
       "description": "h",
       "layout": "IPY_MODEL_05e9cf00c3834e0cb8d19dc44e58de38",
       "max": 300,
       "min": -300,
       "style": "IPY_MODEL_95a3b84faf594de5a95d852bccc73160",
       "value": 50
      }
     },
     "2f3d6dde3c174c5aa52fca0b2738c72b": {
      "model_module": "@jupyter-widgets/base",
      "model_module_version": "1.0.0",
      "model_name": "LayoutModel",
      "state": {}
     },
     "2f469495cf944a398f9eb31a7df84eb7": {
      "model_module": "@jupyter-widgets/base",
      "model_module_version": "1.0.0",
      "model_name": "LayoutModel",
      "state": {}
     },
     "2f46fb6da2b94ff6889866d57e844574": {
      "model_module": "@jupyter-widgets/controls",
      "model_module_version": "1.0.0",
      "model_name": "IntSliderModel",
      "state": {
       "description": "degrees",
       "layout": "IPY_MODEL_41000056eef44173854400c5ec5f0ba8",
       "max": 360,
       "min": -360,
       "style": "IPY_MODEL_013bcc8df4274bbf8d1fa0ba9b6588c3",
       "value": 105
      }
     },
     "2f495c39c6cb4ab1898d1bde88aeddf9": {
      "model_module": "@jupyter-widgets/controls",
      "model_module_version": "1.0.0",
      "model_name": "IntSliderModel",
      "state": {
       "description": "degrees",
       "layout": "IPY_MODEL_fd84cdb996cc4455a58be1a082d33d64",
       "max": 360,
       "min": -360,
       "style": "IPY_MODEL_5b877241ffe94a1f824204f242725880",
       "value": -20
      }
     },
     "2f64bd323e8d4c39a1be231236eb5bdb": {
      "model_module": "@jupyter-widgets/base",
      "model_module_version": "1.0.0",
      "model_name": "LayoutModel",
      "state": {}
     },
     "2f68824a86844f66abe24ea385b006a8": {
      "model_module": "@jupyter-widgets/controls",
      "model_module_version": "1.0.0",
      "model_name": "IntSliderModel",
      "state": {
       "description": "x",
       "layout": "IPY_MODEL_c9739257a84a4bda98972255f3b64850",
       "min": -100,
       "style": "IPY_MODEL_f8c7f18ee78d4eaf9f3558a0ac96dab7"
      }
     },
     "2f826654126b4036bc63c60f245cb8d4": {
      "model_module": "@jupyter-widgets/base",
      "model_module_version": "1.0.0",
      "model_name": "LayoutModel",
      "state": {}
     },
     "2f98d56cccb649dfa78b7c580cbbda10": {
      "model_module": "@jupyter-widgets/base",
      "model_module_version": "1.0.0",
      "model_name": "LayoutModel",
      "state": {}
     },
     "2fcd3b36d3b34ea6a4a4f0b0cdcf3d4b": {
      "model_module": "@jupyter-widgets/base",
      "model_module_version": "1.0.0",
      "model_name": "LayoutModel",
      "state": {}
     },
     "2fe98e560b484079961d3fe8bcc2534f": {
      "model_module": "@jupyter-widgets/base",
      "model_module_version": "1.0.0",
      "model_name": "LayoutModel",
      "state": {}
     },
     "3007b4fa3064435a8709f25a65c99910": {
      "model_module": "@jupyter-widgets/controls",
      "model_module_version": "1.0.0",
      "model_name": "IntSliderModel",
      "state": {
       "description": "dx",
       "layout": "IPY_MODEL_46b28ed5e3b34f928ec78e85440f50a8",
       "max": 300,
       "min": -300,
       "style": "IPY_MODEL_831306703b9945d9bf4f35470234c1b9",
       "value": -50
      }
     },
     "306102ceeafd4b5a844af48aff0536f7": {
      "model_module": "@jupyter-widgets/base",
      "model_module_version": "1.0.0",
      "model_name": "LayoutModel",
      "state": {}
     },
     "306fdc110419461984a11d92173150a9": {
      "model_module": "@jupyter-widgets/controls",
      "model_module_version": "1.0.0",
      "model_name": "IntSliderModel",
      "state": {
       "description": "sHeight",
       "layout": "IPY_MODEL_3a72f338f7904b529c621a2b92846d70",
       "max": 600,
       "style": "IPY_MODEL_f1bfff3ecc9844bc9e2af4dcbe1f3ab3",
       "value": 20
      }
     },
     "308983ee82314e1bbb51b95c49c485b0": {
      "model_module": "@jupyter-widgets/controls",
      "model_module_version": "1.0.0",
      "model_name": "DescriptionStyleModel",
      "state": {
       "description_width": ""
      }
     },
     "30ae503ef27948eda6fbe5090c7190a6": {
      "model_module": "@jupyter-widgets/controls",
      "model_module_version": "1.0.0",
      "model_name": "SliderStyleModel",
      "state": {
       "description_width": ""
      }
     },
     "30f95ad4f26443cfa8a317965531e3fa": {
      "model_module": "@jupyter-widgets/base",
      "model_module_version": "1.0.0",
      "model_name": "LayoutModel",
      "state": {}
     },
     "31055da1faf849179e57bac70925eb6e": {
      "model_module": "@jupyter-widgets/base",
      "model_module_version": "1.0.0",
      "model_name": "LayoutModel",
      "state": {}
     },
     "3105bd21232f49429613cf604d884963": {
      "model_module": "@jupyter-widgets/controls",
      "model_module_version": "1.0.0",
      "model_name": "SliderStyleModel",
      "state": {
       "description_width": ""
      }
     },
     "310a1b67e11e44daab311322f0668ccc": {
      "model_module": "@jupyter-widgets/controls",
      "model_module_version": "1.0.0",
      "model_name": "IntSliderModel",
      "state": {
       "description": "sy",
       "layout": "IPY_MODEL_9cb1474a54b14264a9689220754b41b8",
       "max": 600,
       "style": "IPY_MODEL_071eca30f4084ad5adbe8938eb8d99f1",
       "value": 15
      }
     },
     "3111dc70ff244d0891a651244c6578cf": {
      "model_module": "@jupyter-widgets/controls",
      "model_module_version": "1.0.0",
      "model_name": "IntSliderModel",
      "state": {
       "description": "h",
       "layout": "IPY_MODEL_c2d0c38e2c2c43c4952fc13b03dfe5ce",
       "max": 300,
       "min": -300,
       "style": "IPY_MODEL_0db4fe523f844d1cb607269ac13e0270",
       "value": 50
      }
     },
     "3112e381369e40eab9b3f2cfbcc48fcb": {
      "model_module": "@jupyter-widgets/controls",
      "model_module_version": "1.0.0",
      "model_name": "SliderStyleModel",
      "state": {
       "description_width": ""
      }
     },
     "311496ed979945b4b934584d777351f4": {
      "model_module": "@jupyter-widgets/base",
      "model_module_version": "1.0.0",
      "model_name": "LayoutModel",
      "state": {}
     },
     "311f944ca8f1493ea151b10cb6c51be3": {
      "model_module": "@jupyter-widgets/controls",
      "model_module_version": "1.0.0",
      "model_name": "SliderStyleModel",
      "state": {
       "description_width": ""
      }
     },
     "3137af19dab94d0196ba067e9e41e63b": {
      "model_module": "@jupyter-widgets/controls",
      "model_module_version": "1.0.0",
      "model_name": "HTMLModel",
      "state": {
       "layout": "IPY_MODEL_56d79001880a4f9191e1017062b27cf3",
       "style": "IPY_MODEL_b4203a299efb48c4af5c85b36a0479d4",
       "value": "<img src=\"interactive_rectangle2.png\" id=\"snapshot_id_13_1536267611791\"/>\n <div id=\"snapshot_id_14_1536267611791\">interactive_rectangle2.png</div>"
      }
     },
     "315c0709d80e494399a96ddc344661d4": {
      "model_module": "@jupyter-widgets/controls",
      "model_module_version": "1.0.0",
      "model_name": "IntSliderModel",
      "state": {
       "description": "w",
       "layout": "IPY_MODEL_16442ff0cdcd41dab085c5cf3e86fde0",
       "max": 300,
       "min": -300,
       "style": "IPY_MODEL_f2286597cb4444709a98f5f0051d73ea",
       "value": 66
      }
     },
     "31818af4692248f9a90f6093c5088e7d": {
      "model_module": "@jupyter-widgets/controls",
      "model_module_version": "1.0.0",
      "model_name": "SliderStyleModel",
      "state": {
       "description_width": ""
      }
     },
     "3183ced7344449de8db67aaa128c8228": {
      "model_module": "@jupyter-widgets/controls",
      "model_module_version": "1.0.0",
      "model_name": "IntSliderModel",
      "state": {
       "description": "r",
       "layout": "IPY_MODEL_3aa0d123d8394dc0b2135d92266fb699",
       "style": "IPY_MODEL_5e8de4973518427095d773ea3eaa2419",
       "value": 50
      }
     },
     "31ef5bc0e1834995a7e80726ae1f2c19": {
      "model_module": "@jupyter-widgets/controls",
      "model_module_version": "1.0.0",
      "model_name": "IntSliderModel",
      "state": {
       "description": "green",
       "layout": "IPY_MODEL_5772e9302cf446c89dd02be81cf3bef3",
       "max": 255,
       "style": "IPY_MODEL_65c713cc7d514c069b40fc1dd5979ec1",
       "value": 180
      }
     },
     "31f9b0309ed143be9cd86aafa176c281": {
      "model_module": "@jupyter-widgets/controls",
      "model_module_version": "1.0.0",
      "model_name": "SliderStyleModel",
      "state": {
       "description_width": ""
      }
     },
     "32108ab90f2349d783435c79410aa218": {
      "model_module": "@jupyter-widgets/base",
      "model_module_version": "1.0.0",
      "model_name": "LayoutModel",
      "state": {}
     },
     "32316a19285745f9aaff790f3d95f45b": {
      "model_module": "@jupyter-widgets/base",
      "model_module_version": "1.0.0",
      "model_name": "LayoutModel",
      "state": {}
     },
     "327961bb7e5e4f5faf14ff8de56d6867": {
      "model_module": "@jupyter-widgets/controls",
      "model_module_version": "1.0.0",
      "model_name": "IntSliderModel",
      "state": {
       "description": "blue",
       "layout": "IPY_MODEL_6dab80f1957149c1ae5bfccfaf936039",
       "max": 255,
       "style": "IPY_MODEL_3b2a321f6ed04ca18c41d8cf82787b85",
       "value": 64
      }
     },
     "32bdb33c90214892b115d60d101960fe": {
      "model_module": "@jupyter-widgets/controls",
      "model_module_version": "1.0.0",
      "model_name": "IntSliderModel",
      "state": {
       "description": "x",
       "layout": "IPY_MODEL_dbdb1c5d6f83451ca77c4d356d62abc3",
       "min": -100,
       "style": "IPY_MODEL_92229f6efafc4a91a7a0fc3ea0eec483"
      }
     },
     "32d5076fab904baabf6f9a2defb1d202": {
      "model_module": "@jupyter-widgets/output",
      "model_module_version": "1.0.0",
      "model_name": "OutputModel",
      "state": {
       "layout": "IPY_MODEL_aecb26f4530545afa1470e4e977433fa"
      }
     },
     "32dd3842cfd84edcaa0383b5a1aa5cae": {
      "model_module": "@jupyter-widgets/base",
      "model_module_version": "1.0.0",
      "model_name": "LayoutModel",
      "state": {}
     },
     "32ea6d58b7d14d52af1ea024f738485b": {
      "model_module": "@jupyter-widgets/base",
      "model_module_version": "1.0.0",
      "model_name": "LayoutModel",
      "state": {}
     },
     "32f007b21b6040e2b881709d790c9495": {
      "model_module": "@jupyter-widgets/controls",
      "model_module_version": "1.0.0",
      "model_name": "SliderStyleModel",
      "state": {
       "description_width": ""
      }
     },
     "32f639dcb31a4d2c828b6385eed836e2": {
      "model_module": "@jupyter-widgets/base",
      "model_module_version": "1.0.0",
      "model_name": "LayoutModel",
      "state": {}
     },
     "33460e6b76c8470cacb69dc5392c1626": {
      "model_module": "@jupyter-widgets/base",
      "model_module_version": "1.0.0",
      "model_name": "LayoutModel",
      "state": {}
     },
     "336e0d5cbd424918b6574828dceb6bc1": {
      "model_module": "@jupyter-widgets/controls",
      "model_module_version": "1.0.0",
      "model_name": "IntSliderModel",
      "state": {
       "description": "dy",
       "layout": "IPY_MODEL_ad98b8d469854e1999cd606f78b78aa1",
       "min": -100,
       "style": "IPY_MODEL_7dbe734a24c6482da842a3153a324f1b",
       "value": -3
      }
     },
     "33a3b06fd72546baa0cf0b1089f6f202": {
      "model_module": "@jupyter-widgets/controls",
      "model_module_version": "1.0.0",
      "model_name": "VBoxModel",
      "state": {
       "children": [
        "IPY_MODEL_3631d8620c6e47eb8d286aceb855e288",
        "IPY_MODEL_1099c7ec884643e3a302c56a26a48516"
       ],
       "layout": "IPY_MODEL_636f6b1c623942b9988c52e27b5a994b"
      }
     },
     "33b4f493f865465e847041d95a0ae6ae": {
      "model_module": "@jupyter-widgets/base",
      "model_module_version": "1.0.0",
      "model_name": "LayoutModel",
      "state": {}
     },
     "33bf7e3e592542449a1d15893af420eb": {
      "model_module": "@jupyter-widgets/base",
      "model_module_version": "1.0.0",
      "model_name": "LayoutModel",
      "state": {}
     },
     "33cbedf0465f48ada3ed90416f0951b2": {
      "model_module": "@jupyter-widgets/base",
      "model_module_version": "1.0.0",
      "model_name": "LayoutModel",
      "state": {}
     },
     "33cfd78eac3943b880ca19a95a2cbca8": {
      "model_module": "@jupyter-widgets/controls",
      "model_module_version": "1.0.0",
      "model_name": "IntSliderModel",
      "state": {
       "description": "y",
       "layout": "IPY_MODEL_70757c7e31fc4f119a9d09d51a68e066",
       "min": -100,
       "style": "IPY_MODEL_20016902a50041298eecaddad2caf14f"
      }
     },
     "33de8342505245ba8a8a1ba17de3e0d9": {
      "model_module": "@jupyter-widgets/controls",
      "model_module_version": "1.0.0",
      "model_name": "IntSliderModel",
      "state": {
       "description": "sWidth",
       "layout": "IPY_MODEL_066ffbddbb724515a74f044c0e03af47",
       "max": 420,
       "min": -140,
       "style": "IPY_MODEL_4fc8d499d97440abb4d02ebaff6a9700",
       "value": 140
      }
     },
     "341a73a9c3b04ae187fae4dca75a0e28": {
      "model_module": "@jupyter-widgets/base",
      "model_module_version": "1.0.0",
      "model_name": "LayoutModel",
      "state": {}
     },
     "342799169da9429d9edd682c846d6d7f": {
      "model_module": "@jupyter-widgets/base",
      "model_module_version": "1.0.0",
      "model_name": "LayoutModel",
      "state": {}
     },
     "343b75a7e01e4ceabe7c39260a568fdc": {
      "model_module": "jp_proxy_widget",
      "model_module_version": "^0.3.4",
      "model_name": "JSProxyModel",
      "state": {
       "_model_module_version": "^0.3.4",
       "_send_counter": 2,
       "_view_module_version": "^0.3.4",
       "error_msg": "No error",
       "layout": "IPY_MODEL_e005e1478ee54e209036c8c3207013b9",
       "rendered": true,
       "status": "Got results."
      }
     },
     "34480fb4279f4ad197230694882ef318": {
      "model_module": "@jupyter-widgets/controls",
      "model_module_version": "1.0.0",
      "model_name": "IntSliderModel",
      "state": {
       "description": "y",
       "layout": "IPY_MODEL_18965df6de4f46618c827d509738e71e",
       "min": -100,
       "style": "IPY_MODEL_d4639b34e0e14db39a4bfe608e0d2340"
      }
     },
     "344eed1f2d2441e1866ef88666e9f62b": {
      "model_module": "@jupyter-widgets/controls",
      "model_module_version": "1.0.0",
      "model_name": "IntSliderModel",
      "state": {
       "description": "dx",
       "layout": "IPY_MODEL_2a96869849f1497d9027aa3b38e3a849",
       "min": -100,
       "style": "IPY_MODEL_057600f2f3b546c9bfe152530fddb0cf",
       "value": -3
      }
     },
     "346223109c9d4df19db71886a8bd5336": {
      "model_module": "@jupyter-widgets/base",
      "model_module_version": "1.0.0",
      "model_name": "LayoutModel",
      "state": {}
     },
     "3462e27fd50e485695a62b08636f316b": {
      "model_module": "@jupyter-widgets/controls",
      "model_module_version": "1.0.0",
      "model_name": "IntSliderModel",
      "state": {
       "description": "degrees",
       "layout": "IPY_MODEL_4ea7cc0b3a494b209389574b14f990f4",
       "max": 360,
       "min": -360,
       "style": "IPY_MODEL_44a5f054202945688347adf7ceadf3a4",
       "value": 54
      }
     },
     "347eed3ddc6649128d809c7398cde9b9": {
      "model_module": "@jupyter-widgets/base",
      "model_module_version": "1.0.0",
      "model_name": "LayoutModel",
      "state": {}
     },
     "34975c24ac6842758578dd8f53bd5645": {
      "model_module": "@jupyter-widgets/controls",
      "model_module_version": "1.0.0",
      "model_name": "IntSliderModel",
      "state": {
       "description": "sx",
       "layout": "IPY_MODEL_341a73a9c3b04ae187fae4dca75a0e28",
       "max": 600,
       "style": "IPY_MODEL_8a762be9807c41aeb150e22ab828d45b"
      }
     },
     "34d40abc984e49fa9ad72ec29b554c09": {
      "model_module": "@jupyter-widgets/controls",
      "model_module_version": "1.0.0",
      "model_name": "IntSliderModel",
      "state": {
       "description": "sHeight",
       "layout": "IPY_MODEL_5ca5a895b3584ca68e205b40041d6c75",
       "max": 600,
       "style": "IPY_MODEL_3105bd21232f49429613cf604d884963",
       "value": 20
      }
     },
     "34e04ba915f74f3bae7aea7b41796ed3": {
      "model_module": "@jupyter-widgets/controls",
      "model_module_version": "1.0.0",
      "model_name": "VBoxModel",
      "state": {
       "children": [
        "IPY_MODEL_bb6b6aa353cd490b86ce9ff22960c95e",
        "IPY_MODEL_1a75d36d8d364903a06abf4a553e84df"
       ],
       "layout": "IPY_MODEL_f9f512b2f04245e0be43eee7d5d43c29"
      }
     },
     "34f9bdcf09194a6d859a4f7d23eeb48c": {
      "model_module": "@jupyter-widgets/base",
      "model_module_version": "1.0.0",
      "model_name": "LayoutModel",
      "state": {}
     },
     "351cad72bcaf4b9a8abf332b64dbbb8b": {
      "model_module": "jp_proxy_widget",
      "model_module_version": "^0.3.4",
      "model_name": "JSProxyModel",
      "state": {
       "_model_module_version": "^0.3.4",
       "_send_counter": 2,
       "_view_module_version": "^0.3.4",
       "error_msg": "No error",
       "layout": "IPY_MODEL_03e8424e15314392b53bb2b58cd42fd4",
       "rendered": true,
       "status": "Got results."
      }
     },
     "3521f3a31d6b4c889e800f06677dd79f": {
      "model_module": "@jupyter-widgets/controls",
      "model_module_version": "1.0.0",
      "model_name": "CheckboxModel",
      "state": {
       "description": "fill",
       "disabled": false,
       "layout": "IPY_MODEL_610a72af0a99458382e6fe05819694fc",
       "style": "IPY_MODEL_fdadf82036e54dedab8373150bed1d18",
       "value": true
      }
     },
     "355b75f9f77f4c7882dca5e9a796f15b": {
      "model_module": "@jupyter-widgets/controls",
      "model_module_version": "1.0.0",
      "model_name": "IntSliderModel",
      "state": {
       "description": "lineWidth",
       "layout": "IPY_MODEL_ec35b7df7c4749f49503595d8f76356f",
       "max": 20,
       "style": "IPY_MODEL_2d9d871495414279bd3aa73612c85bab",
       "value": 3
      }
     },
     "355c025af7ae47f49b2b897551a69f6e": {
      "model_module": "@jupyter-widgets/base",
      "model_module_version": "1.0.0",
      "model_name": "LayoutModel",
      "state": {}
     },
     "358f1175ab3648ce9c52857012a82dff": {
      "model_module": "@jupyter-widgets/base",
      "model_module_version": "1.0.0",
      "model_name": "LayoutModel",
      "state": {}
     },
     "35b35fc8abe046b5b4349bb67aba2d57": {
      "model_module": "@jupyter-widgets/base",
      "model_module_version": "1.0.0",
      "model_name": "LayoutModel",
      "state": {}
     },
     "35f0e663a0db44a497f190fc4ad743be": {
      "model_module": "@jupyter-widgets/controls",
      "model_module_version": "1.0.0",
      "model_name": "IntSliderModel",
      "state": {
       "description": "dy",
       "layout": "IPY_MODEL_1eb7b245c11f4f178bd22959e45251cc",
       "min": -100,
       "style": "IPY_MODEL_939c455aa2514d51bc225b0d4eaf1500",
       "value": -6
      }
     },
     "361bb3a43cfb415a83e926ef37a9ef5c": {
      "model_module": "@jupyter-widgets/controls",
      "model_module_version": "1.0.0",
      "model_name": "SliderStyleModel",
      "state": {
       "description_width": ""
      }
     },
     "3631d8620c6e47eb8d286aceb855e288": {
      "model_module": "jp_proxy_widget",
      "model_module_version": "^0.3.4",
      "model_name": "JSProxyModel",
      "state": {
       "_model_module_version": "^0.3.4",
       "_send_counter": 276,
       "_view_module_version": "^0.3.4",
       "error_msg": "No error",
       "layout": "IPY_MODEL_651e7c1fd81c44279ea33f0e4bb198f1",
       "rendered": true,
       "status": "Got results."
      }
     },
     "364817d6ce7a4904b270524afa789cf7": {
      "model_module": "@jupyter-widgets/controls",
      "model_module_version": "1.0.0",
      "model_name": "IntSliderModel",
      "state": {
       "description": "h",
       "layout": "IPY_MODEL_0cef01227f0c4904810d7642a4cf9400",
       "max": 300,
       "min": -300,
       "style": "IPY_MODEL_bbeaa4e6eb2b41378e1f7151ed2fe41f",
       "value": 188
      }
     },
     "36490e0ac3e94b72acc7f8a5aabaa055": {
      "model_module": "@jupyter-widgets/controls",
      "model_module_version": "1.0.0",
      "model_name": "VBoxModel",
      "state": {
       "children": [
        "IPY_MODEL_2e564995d0a74657b91747686e566185",
        "IPY_MODEL_65a97635233c46f3b48e9f9d21f20393"
       ],
       "layout": "IPY_MODEL_f2305bf7a24849e694f1ed5e973a0ff1"
      }
     },
     "3659d7b0d8c14b05abfa16584f07b36e": {
      "model_module": "@jupyter-widgets/controls",
      "model_module_version": "1.0.0",
      "model_name": "DescriptionStyleModel",
      "state": {
       "description_width": ""
      }
     },
     "36e043cf685a4b5aa75ad46d5f5165ab": {
      "model_module": "@jupyter-widgets/controls",
      "model_module_version": "1.0.0",
      "model_name": "SliderStyleModel",
      "state": {
       "description_width": ""
      }
     },
     "36f364eaf7384fb0bcd4dd15483222bf": {
      "model_module": "@jupyter-widgets/base",
      "model_module_version": "1.0.0",
      "model_name": "LayoutModel",
      "state": {}
     },
     "37449dee1e3e49d1ae5a15e15a3365f3": {
      "model_module": "@jupyter-widgets/base",
      "model_module_version": "1.0.0",
      "model_name": "LayoutModel",
      "state": {}
     },
     "374eab8fee6243d3ae3b8f150c390a3e": {
      "model_module": "@jupyter-widgets/controls",
      "model_module_version": "1.0.0",
      "model_name": "FloatSliderModel",
      "state": {
       "description": "alpha",
       "layout": "IPY_MODEL_fe3bff1ddfa742259d7feae110fec4cc",
       "max": 1,
       "step": 0.1,
       "style": "IPY_MODEL_375449ef488b4e409949902dbaabdb2f",
       "value": 0.5
      }
     },
     "375449ef488b4e409949902dbaabdb2f": {
      "model_module": "@jupyter-widgets/controls",
      "model_module_version": "1.0.0",
      "model_name": "SliderStyleModel",
      "state": {
       "description_width": ""
      }
     },
     "375bc42d11b646dd89206f9674093396": {
      "model_module": "@jupyter-widgets/base",
      "model_module_version": "1.0.0",
      "model_name": "LayoutModel",
      "state": {}
     },
     "376246a27470445cbf6f3d42aad9101a": {
      "model_module": "@jupyter-widgets/controls",
      "model_module_version": "1.0.0",
      "model_name": "SliderStyleModel",
      "state": {
       "description_width": ""
      }
     },
     "37684bb7566c45bcac399dc568899113": {
      "model_module": "@jupyter-widgets/controls",
      "model_module_version": "1.0.0",
      "model_name": "SliderStyleModel",
      "state": {
       "description_width": ""
      }
     },
     "3772dc481e804676b7bc1c71e74e4b2c": {
      "model_module": "@jupyter-widgets/base",
      "model_module_version": "1.0.0",
      "model_name": "LayoutModel",
      "state": {}
     },
     "377d102e0f4c45bb8bd08237d6675d98": {
      "model_module": "@jupyter-widgets/controls",
      "model_module_version": "1.0.0",
      "model_name": "SliderStyleModel",
      "state": {
       "description_width": ""
      }
     },
     "378198a84e704fa2864bc67a88a7cf32": {
      "model_module": "@jupyter-widgets/base",
      "model_module_version": "1.0.0",
      "model_name": "LayoutModel",
      "state": {}
     },
     "379d65cbe55a40429de2b4b19a6a3290": {
      "model_module": "@jupyter-widgets/controls",
      "model_module_version": "1.0.0",
      "model_name": "IntSliderModel",
      "state": {
       "description": "y",
       "layout": "IPY_MODEL_6f716cffa40a4d69b9e7994a26a2f1aa",
       "min": -100,
       "style": "IPY_MODEL_e442bb46ab404fabadd1719504b8e14f"
      }
     },
     "37a23d3d43b94abbbc2f5332d635d81e": {
      "model_module": "@jupyter-widgets/base",
      "model_module_version": "1.0.0",
      "model_name": "LayoutModel",
      "state": {}
     },
     "37b4620c990d47ca967041ebbebf5a61": {
      "model_module": "@jupyter-widgets/controls",
      "model_module_version": "1.0.0",
      "model_name": "SliderStyleModel",
      "state": {
       "description_width": ""
      }
     },
     "37c6920ec2fb4dad8b23464d673ec94c": {
      "model_module": "@jupyter-widgets/base",
      "model_module_version": "1.0.0",
      "model_name": "LayoutModel",
      "state": {}
     },
     "37c98a65172045ffbd84c7988dccc1fd": {
      "model_module": "jp_proxy_widget",
      "model_module_version": "^0.3.4",
      "model_name": "JSProxyModel",
      "state": {
       "_model_module_version": "^0.3.4",
       "_send_counter": 176,
       "_view_module_version": "^0.3.4",
       "error_msg": "No error",
       "layout": "IPY_MODEL_ad87d330220a47619ca1a695837c45d2",
       "rendered": true,
       "status": "Got results."
      }
     },
     "37e481c97a4e48448f0b40ac9cc2fe8c": {
      "model_module": "@jupyter-widgets/output",
      "model_module_version": "1.0.0",
      "model_name": "OutputModel",
      "state": {
       "layout": "IPY_MODEL_4d0d47a8cbf0435b9821330f7380181f"
      }
     },
     "3810ae9521ad4feb9e41a2d0618526fd": {
      "model_module": "@jupyter-widgets/base",
      "model_module_version": "1.0.0",
      "model_name": "LayoutModel",
      "state": {}
     },
     "38565d794f6040e98f0cf1c0349d4058": {
      "model_module": "@jupyter-widgets/controls",
      "model_module_version": "1.0.0",
      "model_name": "SliderStyleModel",
      "state": {
       "description_width": ""
      }
     },
     "385c4cb31c1d491787737c08bb69f148": {
      "model_module": "@jupyter-widgets/base",
      "model_module_version": "1.0.0",
      "model_name": "LayoutModel",
      "state": {}
     },
     "38685009935041b88585d448bf18dd56": {
      "model_module": "jp_proxy_widget",
      "model_module_version": "^0.3.4",
      "model_name": "JSProxyModel",
      "state": {
       "_model_module_version": "^0.3.4",
       "_send_counter": 2,
       "_view_module_version": "^0.3.4",
       "error_msg": "No error",
       "layout": "IPY_MODEL_c998d83a79f64186baeb16e0ab6a84fd",
       "rendered": true,
       "status": "Got results."
      }
     },
     "38828d358eb84bd98cc001a8035c7889": {
      "model_module": "@jupyter-widgets/controls",
      "model_module_version": "1.0.0",
      "model_name": "IntSliderModel",
      "state": {
       "description": "green",
       "layout": "IPY_MODEL_d8731cce1a234f04a4695181cfb54a7d",
       "max": 255,
       "style": "IPY_MODEL_564320759de54b449c13694c5679bde0",
       "value": 191
      }
     },
     "38891d0ccd9441e799bc2e001f2b5598": {
      "model_module": "@jupyter-widgets/base",
      "model_module_version": "1.0.0",
      "model_name": "LayoutModel",
      "state": {}
     },
     "38a6fa7cde5044bf86db7497b1d791d6": {
      "model_module": "@jupyter-widgets/base",
      "model_module_version": "1.0.0",
      "model_name": "LayoutModel",
      "state": {}
     },
     "38b6a4a2c6c346a19ffd9662d6915086": {
      "model_module": "@jupyter-widgets/base",
      "model_module_version": "1.0.0",
      "model_name": "LayoutModel",
      "state": {}
     },
     "38d109f39d1b4bcdae6ca1e0580db0d2": {
      "model_module": "@jupyter-widgets/controls",
      "model_module_version": "1.0.0",
      "model_name": "FloatSliderModel",
      "state": {
       "description": "alpha",
       "layout": "IPY_MODEL_4862b3cafd2942bb8cd9d20c906b4833",
       "max": 1,
       "step": 0.1,
       "style": "IPY_MODEL_60711ad324264ea1bbf7a9d4cbc89030",
       "value": 1
      }
     },
     "38d5f0d38bcb4bf386c6b6881c02e16e": {
      "model_module": "@jupyter-widgets/base",
      "model_module_version": "1.0.0",
      "model_name": "LayoutModel",
      "state": {}
     },
     "38de2859c2a64b2db04b4fa2ac890c20": {
      "model_module": "@jupyter-widgets/base",
      "model_module_version": "1.0.0",
      "model_name": "LayoutModel",
      "state": {}
     },
     "392ef3f48acd41e88c1d5623d9e01d57": {
      "model_module": "@jupyter-widgets/controls",
      "model_module_version": "1.0.0",
      "model_name": "CheckboxModel",
      "state": {
       "description": "fill",
       "disabled": false,
       "layout": "IPY_MODEL_7e566cc251284e0bb94dffc041f96e04",
       "style": "IPY_MODEL_148ac0d4cb4c4108b648c4c3a215b187",
       "value": false
      }
     },
     "39324e799caa4b39b06537c04b04a6d0": {
      "model_module": "@jupyter-widgets/base",
      "model_module_version": "1.0.0",
      "model_name": "LayoutModel",
      "state": {}
     },
     "3937387cd47f47d4bcdf5afaba9058b2": {
      "model_module": "@jupyter-widgets/controls",
      "model_module_version": "1.0.0",
      "model_name": "CheckboxModel",
      "state": {
       "description": "fill",
       "disabled": false,
       "layout": "IPY_MODEL_60d1a15b07c54779bd30e5c26d2f0529",
       "style": "IPY_MODEL_3f5d5f0a7c4a48df8bd74dc8be0af2b0",
       "value": true
      }
     },
     "3943f1b913fe4b1e94e48c0a87f56dfd": {
      "model_module": "@jupyter-widgets/controls",
      "model_module_version": "1.0.0",
      "model_name": "FloatSliderModel",
      "state": {
       "description": "arc",
       "layout": "IPY_MODEL_dd87b5a13f874675a29a796a3e3cde77",
       "max": 6.383185307179586,
       "step": 0.1,
       "style": "IPY_MODEL_e7873677b53545329c9ff13c24157804",
       "value": 6
      }
     },
     "394f2987ee704c2eb5eeaf069b97d63e": {
      "model_module": "@jupyter-widgets/base",
      "model_module_version": "1.0.0",
      "model_name": "LayoutModel",
      "state": {}
     },
     "39519c9e3c8f4a6a9f1cf2307cdc9f1c": {
      "model_module": "@jupyter-widgets/base",
      "model_module_version": "1.0.0",
      "model_name": "LayoutModel",
      "state": {}
     },
     "396d227606ca4b77a0fd9d9d621270b1": {
      "model_module": "@jupyter-widgets/controls",
      "model_module_version": "1.0.0",
      "model_name": "VBoxModel",
      "state": {
       "_dom_classes": [
        "widget-interact"
       ],
       "children": [
        "IPY_MODEL_32bdb33c90214892b115d60d101960fe",
        "IPY_MODEL_d77b6462ad514ee8876ac19f2c622c6b",
        "IPY_MODEL_d0b2a1f5bc104761968b1bc483afc644",
        "IPY_MODEL_a91cb63369404a839fa3279e3442ce59",
        "IPY_MODEL_7ec85661d6544abb85c44a221e1bdeb7",
        "IPY_MODEL_4d7974b698f245e3b784f70761d959b8",
        "IPY_MODEL_57379ef972a042bbbae4d66672bbbf49",
        "IPY_MODEL_7261fd9657c34e6886f4a75cdc18d33f"
       ],
       "layout": "IPY_MODEL_ebcefb249b364779bb48896bc257b8a1"
      }
     },
     "39755bd60f7243889c480a0f19023bce": {
      "model_module": "@jupyter-widgets/base",
      "model_module_version": "1.0.0",
      "model_name": "LayoutModel",
      "state": {}
     },
     "397ba3b3105743ca9da3ba4eb69e4d62": {
      "model_module": "@jupyter-widgets/controls",
      "model_module_version": "1.0.0",
      "model_name": "SliderStyleModel",
      "state": {
       "description_width": ""
      }
     },
     "398c92001708431d9af9cceff4f8795a": {
      "model_module": "@jupyter-widgets/controls",
      "model_module_version": "1.0.0",
      "model_name": "IntSliderModel",
      "state": {
       "description": "y",
       "layout": "IPY_MODEL_0fe33f6ce39c4997bcb980b16c3ac51e",
       "min": -100,
       "style": "IPY_MODEL_1695c185bc914e8d87b718bb9f06c15b",
       "value": -49
      }
     },
     "3995bb2a564841d88c4c7a8782168d42": {
      "model_module": "@jupyter-widgets/base",
      "model_module_version": "1.0.0",
      "model_name": "LayoutModel",
      "state": {}
     },
     "39a09fa8d131455ca09c8ef8bcac6eea": {
      "model_module": "@jupyter-widgets/output",
      "model_module_version": "1.0.0",
      "model_name": "OutputModel",
      "state": {
       "layout": "IPY_MODEL_189a1bc7509c43e39cf08c1277854895"
      }
     },
     "39a570adedbd4d7dbbdd40a3cdc2f4a4": {
      "model_module": "@jupyter-widgets/output",
      "model_module_version": "1.0.0",
      "model_name": "OutputModel",
      "state": {
       "layout": "IPY_MODEL_4216e0cf63e94577b5334b0299cd604a"
      }
     },
     "39cac152df9344f684689dfa5378c2e6": {
      "model_module": "@jupyter-widgets/controls",
      "model_module_version": "1.0.0",
      "model_name": "SliderStyleModel",
      "state": {
       "description_width": ""
      }
     },
     "39cb24a05bcf4055ae6e74f44d1b77bb": {
      "model_module": "@jupyter-widgets/controls",
      "model_module_version": "1.0.0",
      "model_name": "SliderStyleModel",
      "state": {
       "description_width": ""
      }
     },
     "39ce48f54b454c6bb7364f23a400735b": {
      "model_module": "@jupyter-widgets/controls",
      "model_module_version": "1.0.0",
      "model_name": "DescriptionStyleModel",
      "state": {
       "description_width": ""
      }
     },
     "39e974c34cf64f0a81ec590b2cb6c3ea": {
      "model_module": "@jupyter-widgets/controls",
      "model_module_version": "1.0.0",
      "model_name": "DescriptionStyleModel",
      "state": {
       "description_width": ""
      }
     },
     "39ea280f576d404ea95d4e0672b9771c": {
      "model_module": "@jupyter-widgets/controls",
      "model_module_version": "1.0.0",
      "model_name": "SliderStyleModel",
      "state": {
       "description_width": ""
      }
     },
     "39fbab63948f41a38710d79e8f6baa2c": {
      "model_module": "@jupyter-widgets/base",
      "model_module_version": "1.0.0",
      "model_name": "LayoutModel",
      "state": {}
     },
     "3a0d309da4274cd6a4c0bc706bc51d81": {
      "model_module": "@jupyter-widgets/controls",
      "model_module_version": "1.0.0",
      "model_name": "IntSliderModel",
      "state": {
       "description": "r",
       "layout": "IPY_MODEL_0734ac469e3443feae42710aaa7e02fd",
       "style": "IPY_MODEL_48af8f7a8c244947bfafc0ef05f7b9b6",
       "value": 75
      }
     },
     "3a0ec3f676e5402ebe4376a3f6d6b7eb": {
      "model_module": "@jupyter-widgets/base",
      "model_module_version": "1.0.0",
      "model_name": "LayoutModel",
      "state": {}
     },
     "3a2209d82a8c428a9e1090bedc264712": {
      "model_module": "@jupyter-widgets/base",
      "model_module_version": "1.0.0",
      "model_name": "LayoutModel",
      "state": {}
     },
     "3a282912c7754259a4c2384d5f2e151a": {
      "model_module": "jp_proxy_widget",
      "model_module_version": "^0.3.4",
      "model_name": "JSProxyModel",
      "state": {
       "_model_module_version": "^0.3.4",
       "_send_counter": 2,
       "_view_module_version": "^0.3.4",
       "error_msg": "No error",
       "layout": "IPY_MODEL_347eed3ddc6649128d809c7398cde9b9",
       "rendered": true,
       "status": "call back to <function callback_function at 0x109fade60>"
      }
     },
     "3a30ab3b24034ce8a9d71c7d8a258822": {
      "model_module": "@jupyter-widgets/controls",
      "model_module_version": "1.0.0",
      "model_name": "SliderStyleModel",
      "state": {
       "description_width": ""
      }
     },
     "3a3797311afe4614813177f03d4c72ac": {
      "model_module": "@jupyter-widgets/controls",
      "model_module_version": "1.0.0",
      "model_name": "IntSliderModel",
      "state": {
       "description": "green",
       "layout": "IPY_MODEL_2a809c0d80474d68b1c427f243a7786e",
       "max": 255,
       "style": "IPY_MODEL_73ef9fac00c34fbba2d4679318de8790"
      }
     },
     "3a39e878416c4279a635b2502a25b3c4": {
      "model_module": "@jupyter-widgets/controls",
      "model_module_version": "1.0.0",
      "model_name": "TabModel",
      "state": {
       "_titles": {
        "0": "Canvas",
        "1": "Snapshot"
       },
       "children": [
        "IPY_MODEL_6aed85d7b94c4ad19b72463d6a3cf8e3",
        "IPY_MODEL_6dfd70e3c3a345679a18f400ff4f9099"
       ],
       "layout": "IPY_MODEL_19b52c664afb439cb85e11bd39081f60",
       "selected_index": 1
      }
     },
     "3a49ef557fb346d5a2f2dc60f1072a6b": {
      "model_module": "@jupyter-widgets/base",
      "model_module_version": "1.0.0",
      "model_name": "LayoutModel",
      "state": {}
     },
     "3a60bffe0d094b08aab9b53591731c9e": {
      "model_module": "@jupyter-widgets/controls",
      "model_module_version": "1.0.0",
      "model_name": "SliderStyleModel",
      "state": {
       "description_width": ""
      }
     },
     "3a6a4898e86f4634ad2918e2deeb7588": {
      "model_module": "@jupyter-widgets/controls",
      "model_module_version": "1.0.0",
      "model_name": "SliderStyleModel",
      "state": {
       "description_width": ""
      }
     },
     "3a72f338f7904b529c621a2b92846d70": {
      "model_module": "@jupyter-widgets/base",
      "model_module_version": "1.0.0",
      "model_name": "LayoutModel",
      "state": {}
     },
     "3aa0d123d8394dc0b2135d92266fb699": {
      "model_module": "@jupyter-widgets/base",
      "model_module_version": "1.0.0",
      "model_name": "LayoutModel",
      "state": {}
     },
     "3abd04a8adb0482296dc8eeb01405aa2": {
      "model_module": "@jupyter-widgets/controls",
      "model_module_version": "1.0.0",
      "model_name": "IntSliderModel",
      "state": {
       "description": "red",
       "layout": "IPY_MODEL_8c019990355540b9b0be4c98c5d09c2a",
       "max": 255,
       "style": "IPY_MODEL_125cdc713dbf45e28d6018c9d5dfb4c9",
       "value": 255
      }
     },
     "3ae80e42edc6492e9dc7fc09b1a1afb5": {
      "model_module": "jp_proxy_widget",
      "model_module_version": "^0.3.4",
      "model_name": "JSProxyModel",
      "state": {
       "_model_module_version": "^0.3.4",
       "_send_counter": 470,
       "_view_module_version": "^0.3.4",
       "error_msg": "No error",
       "layout": "IPY_MODEL_9c1ba6765f244920acee5f3f328fe2c0",
       "rendered": true,
       "status": "Got results."
      }
     },
     "3af941c9e342491c87e295f01a280228": {
      "model_module": "@jupyter-widgets/controls",
      "model_module_version": "1.0.0",
      "model_name": "FloatSliderModel",
      "state": {
       "description": "alpha",
       "layout": "IPY_MODEL_aba9e6d809a04cdb8f8d7d9e653c7316",
       "max": 1,
       "step": 0.1,
       "style": "IPY_MODEL_feafdda46982449a8226a17e3c72aa24",
       "value": 1
      }
     },
     "3b2146ed6a794cc28dff2017141ecff9": {
      "model_module": "@jupyter-widgets/base",
      "model_module_version": "1.0.0",
      "model_name": "LayoutModel",
      "state": {}
     },
     "3b298347d5164b729809133f282a4913": {
      "model_module": "@jupyter-widgets/controls",
      "model_module_version": "1.0.0",
      "model_name": "SliderStyleModel",
      "state": {
       "description_width": ""
      }
     },
     "3b2a321f6ed04ca18c41d8cf82787b85": {
      "model_module": "@jupyter-widgets/controls",
      "model_module_version": "1.0.0",
      "model_name": "SliderStyleModel",
      "state": {
       "description_width": ""
      }
     },
     "3b4f6500fca24898b560da161781e0d2": {
      "model_module": "@jupyter-widgets/controls",
      "model_module_version": "1.0.0",
      "model_name": "IntSliderModel",
      "state": {
       "description": "sy",
       "layout": "IPY_MODEL_43c9a31928ab4562a180e31b303ac392",
       "max": 45,
       "min": -15,
       "style": "IPY_MODEL_39cac152df9344f684689dfa5378c2e6",
       "value": 15
      }
     },
     "3b625e03d92c4d8eaf5841f6fc92b6c2": {
      "model_module": "@jupyter-widgets/controls",
      "model_module_version": "1.0.0",
      "model_name": "IntSliderModel",
      "state": {
       "description": "sHeight",
       "layout": "IPY_MODEL_0d9500af9f814ce382e464bd7536ede5",
       "max": 60,
       "min": -20,
       "style": "IPY_MODEL_0b9d6eb9450f4fb99ca4540478833373",
       "value": 20
      }
     },
     "3b7c16746cf8472aa45b7df52c6a3d5b": {
      "model_module": "@jupyter-widgets/controls",
      "model_module_version": "1.0.0",
      "model_name": "SliderStyleModel",
      "state": {
       "description_width": ""
      }
     },
     "3b7ded6f7eda48579dd8c9360a514a96": {
      "model_module": "@jupyter-widgets/controls",
      "model_module_version": "1.0.0",
      "model_name": "SliderStyleModel",
      "state": {
       "description_width": ""
      }
     },
     "3b86f2f670b3422d9db3de7334d5048b": {
      "model_module": "@jupyter-widgets/controls",
      "model_module_version": "1.0.0",
      "model_name": "HTMLModel",
      "state": {
       "layout": "IPY_MODEL_20b4d73f915f43a5be5147e599adcab3",
       "style": "IPY_MODEL_db2aa71d00024b1e9acf939d78cb3d3c",
       "value": "<img src=\"interactive_circle.png\" id=\"snapshot_id_19_1536246788202\"/>\n <div id=\"snapshot_id_20_1536246788202\">interactive_circle.png</div>"
      }
     },
     "3b9f01bcdb4347a9938e7b1a24c95ad5": {
      "model_module": "@jupyter-widgets/controls",
      "model_module_version": "1.0.0",
      "model_name": "SliderStyleModel",
      "state": {
       "description_width": ""
      }
     },
     "3bbe84bbfed24a26a0f65fc92039b2ec": {
      "model_module": "@jupyter-widgets/base",
      "model_module_version": "1.0.0",
      "model_name": "LayoutModel",
      "state": {}
     },
     "3bd4fdef432e484697612a1fd266d763": {
      "model_module": "@jupyter-widgets/base",
      "model_module_version": "1.0.0",
      "model_name": "LayoutModel",
      "state": {}
     },
     "3bf03e2b61e64d0d839847d558021c8d": {
      "model_module": "@jupyter-widgets/controls",
      "model_module_version": "1.0.0",
      "model_name": "IntSliderModel",
      "state": {
       "description": "w",
       "layout": "IPY_MODEL_74d193da70504933894e6fd7933dda49",
       "max": 300,
       "min": -300,
       "style": "IPY_MODEL_a7695c8029704b4e8212ccdeb31f440e",
       "value": 45
      }
     },
     "3c14499fc91d425eb47cc2fe077a5cc0": {
      "model_module": "@jupyter-widgets/base",
      "model_module_version": "1.0.0",
      "model_name": "LayoutModel",
      "state": {}
     },
     "3c312d48f827487bb5615bb3681d9f75": {
      "model_module": "@jupyter-widgets/base",
      "model_module_version": "1.0.0",
      "model_name": "LayoutModel",
      "state": {}
     },
     "3c579f3bc35340539b2c0d3d343460e9": {
      "model_module": "@jupyter-widgets/controls",
      "model_module_version": "1.0.0",
      "model_name": "IntSliderModel",
      "state": {
       "description": "dx",
       "layout": "IPY_MODEL_1ac6d0452983445d9594cab96c29b18f",
       "min": -100,
       "style": "IPY_MODEL_f6cc98f805fb4c1297d6442113bb79e9",
       "value": -50
      }
     },
     "3c8d093f27ca43e98c709bdec227af87": {
      "model_module": "@jupyter-widgets/controls",
      "model_module_version": "1.0.0",
      "model_name": "IntSliderModel",
      "state": {
       "description": "blue",
       "layout": "IPY_MODEL_2f3d6dde3c174c5aa52fca0b2738c72b",
       "max": 255,
       "style": "IPY_MODEL_23d1f2d601234c0993e35cc7cd9b5d94",
       "value": 255
      }
     },
     "3cb4306aaac04ddfa97480f29d992eb9": {
      "model_module": "@jupyter-widgets/base",
      "model_module_version": "1.0.0",
      "model_name": "LayoutModel",
      "state": {}
     },
     "3cb6fe98aa4242f7a973c1f8a30b18cd": {
      "model_module": "@jupyter-widgets/base",
      "model_module_version": "1.0.0",
      "model_name": "LayoutModel",
      "state": {}
     },
     "3cbdc852fd03454683e9b38754f4bca1": {
      "model_module": "@jupyter-widgets/controls",
      "model_module_version": "1.0.0",
      "model_name": "CheckboxModel",
      "state": {
       "description": "fill",
       "disabled": false,
       "layout": "IPY_MODEL_eff5d44c82f045cea5b652a99b3a3bf1",
       "style": "IPY_MODEL_0c805990a4924a9abc03534bdc3c9551",
       "value": false
      }
     },
     "3cf2b3bec0b345c7ba4a5b7b033fab7e": {
      "model_module": "@jupyter-widgets/controls",
      "model_module_version": "1.0.0",
      "model_name": "IntSliderModel",
      "state": {
       "description": "red",
       "layout": "IPY_MODEL_ee0f71b41f5a4ff98255ef8a9a0c439b",
       "max": 255,
       "style": "IPY_MODEL_e4758ba7d91e43ce8d74d6c2fd0c0536",
       "value": 127
      }
     },
     "3cf6e0894b7241e49e6fe11ed4f572fa": {
      "model_module": "@jupyter-widgets/controls",
      "model_module_version": "1.0.0",
      "model_name": "SliderStyleModel",
      "state": {
       "description_width": ""
      }
     },
     "3d21df8e29bd46e5b2c5c65bfdc7be05": {
      "model_module": "@jupyter-widgets/controls",
      "model_module_version": "1.0.0",
      "model_name": "IntSliderModel",
      "state": {
       "description": "y",
       "layout": "IPY_MODEL_60089789060445b09495f2a73886d7fa",
       "min": -100,
       "style": "IPY_MODEL_28d39ff5265846bba335125a2ccb7a79"
      }
     },
     "3d30537708ee4ea793baa438bb088bd4": {
      "model_module": "@jupyter-widgets/base",
      "model_module_version": "1.0.0",
      "model_name": "LayoutModel",
      "state": {}
     },
     "3d5058bc2e3b4e539cc00452ef824c4d": {
      "model_module": "@jupyter-widgets/base",
      "model_module_version": "1.0.0",
      "model_name": "LayoutModel",
      "state": {}
     },
     "3d672c5fb31f468c93eb837903108f54": {
      "model_module": "@jupyter-widgets/controls",
      "model_module_version": "1.0.0",
      "model_name": "VBoxModel",
      "state": {
       "_dom_classes": [
        "widget-interact"
       ],
       "children": [
        "IPY_MODEL_c581394d355643998a566f43623f0ac8",
        "IPY_MODEL_34480fb4279f4ad197230694882ef318",
        "IPY_MODEL_a2b30b67d7444565bb3892a032214614",
        "IPY_MODEL_463e62dc9e64424ab22af40628145199",
        "IPY_MODEL_d9956828338f4695a1f5db59dd93669a",
        "IPY_MODEL_d3678f79cb88451fa8a947b23d5ebba3",
        "IPY_MODEL_f0f492e78868471ab3d861051181c82c",
        "IPY_MODEL_a0327d09a77d439f8effd30606516001"
       ],
       "layout": "IPY_MODEL_3d30537708ee4ea793baa438bb088bd4"
      }
     },
     "3d72f7f6bb214090a730452da64e73e3": {
      "model_module": "@jupyter-widgets/controls",
      "model_module_version": "1.0.0",
      "model_name": "IntSliderModel",
      "state": {
       "description": "w",
       "layout": "IPY_MODEL_061dec35383f407fa900734867c48283",
       "max": 300,
       "min": -300,
       "style": "IPY_MODEL_25769e48098b453bb529a81dac6f948d",
       "value": 50
      }
     },
     "3d813c61c9b34388a1c497d44f887b4a": {
      "model_module": "@jupyter-widgets/base",
      "model_module_version": "1.0.0",
      "model_name": "LayoutModel",
      "state": {}
     },
     "3dc212351fc440058bf1bd983c272dd6": {
      "model_module": "@jupyter-widgets/base",
      "model_module_version": "1.0.0",
      "model_name": "LayoutModel",
      "state": {}
     },
     "3dc8cd0d64c443d2a4c05a0bd83bf747": {
      "model_module": "@jupyter-widgets/base",
      "model_module_version": "1.0.0",
      "model_name": "LayoutModel",
      "state": {}
     },
     "3dce779d871c4269adb9173511b2df5a": {
      "model_module": "@jupyter-widgets/base",
      "model_module_version": "1.0.0",
      "model_name": "LayoutModel",
      "state": {}
     },
     "3df1634a2c3d4b5e9c98b5f6f6ad482f": {
      "model_module": "@jupyter-widgets/controls",
      "model_module_version": "1.0.0",
      "model_name": "IntSliderModel",
      "state": {
       "description": "h",
       "layout": "IPY_MODEL_b9e25213cb4f4c57bf78ded3c1a28714",
       "max": 300,
       "min": -300,
       "style": "IPY_MODEL_7401918960794eacb24017c0d138171c",
       "value": 50
      }
     },
     "3df3d86594924680a5fd244a0849e541": {
      "model_module": "@jupyter-widgets/base",
      "model_module_version": "1.0.0",
      "model_name": "LayoutModel",
      "state": {}
     },
     "3e08496c5a814d1fb64c034a3b7731f1": {
      "model_module": "@jupyter-widgets/controls",
      "model_module_version": "1.0.0",
      "model_name": "IntSliderModel",
      "state": {
       "description": "red",
       "layout": "IPY_MODEL_2b3d42d25ac247db8bc321d10812c792",
       "max": 255,
       "style": "IPY_MODEL_a895c20fa5904e5e90d479a850648308",
       "value": 255
      }
     },
     "3e0b2938dd5b453faa0317b9956d2099": {
      "model_module": "@jupyter-widgets/controls",
      "model_module_version": "1.0.0",
      "model_name": "SliderStyleModel",
      "state": {
       "description_width": ""
      }
     },
     "3e0f8127177d425586eb6faea6914232": {
      "model_module": "@jupyter-widgets/output",
      "model_module_version": "1.0.0",
      "model_name": "OutputModel",
      "state": {
       "layout": "IPY_MODEL_91245801af7d46a0b339d34af01e1162"
      }
     },
     "3e25631bc1f54f50b20fe57a847614fb": {
      "model_module": "@jupyter-widgets/base",
      "model_module_version": "1.0.0",
      "model_name": "LayoutModel",
      "state": {}
     },
     "3e340659f1254df497b3ed666f22c98b": {
      "model_module": "@jupyter-widgets/base",
      "model_module_version": "1.0.0",
      "model_name": "LayoutModel",
      "state": {}
     },
     "3e367bf33f1047dfbc03f16555494f9c": {
      "model_module": "jp_proxy_widget",
      "model_module_version": "^0.3.4",
      "model_name": "JSProxyModel",
      "state": {
       "_model_module_version": "^0.3.4",
       "_send_counter": 142,
       "_view_module_version": "^0.3.4",
       "error_msg": "No error",
       "layout": "IPY_MODEL_6f24f35404984892b1be42462ad04b72",
       "rendered": true,
       "status": "Got results."
      }
     },
     "3e3e9b985eb14c4c86747feb32453a8a": {
      "model_module": "@jupyter-widgets/base",
      "model_module_version": "1.0.0",
      "model_name": "LayoutModel",
      "state": {}
     },
     "3e46762c585b42d49f92d997e7c7c43c": {
      "model_module": "@jupyter-widgets/controls",
      "model_module_version": "1.0.0",
      "model_name": "IntSliderModel",
      "state": {
       "description": "sy",
       "layout": "IPY_MODEL_816a3787e00a4b8c94fe88c9008118fb",
       "max": 600,
       "style": "IPY_MODEL_d39a2e266d9f4d4c8b6bdc5a5e3555f9",
       "value": 15
      }
     },
     "3e4c590d40324812b350512df6bfe115": {
      "model_module": "@jupyter-widgets/controls",
      "model_module_version": "1.0.0",
      "model_name": "IntSliderModel",
      "state": {
       "description": "blue",
       "layout": "IPY_MODEL_645f40b7a5a14b5db060125aae0644aa",
       "max": 255,
       "style": "IPY_MODEL_7b611f35ec414076b82be5e4bf25a275",
       "value": 126
      }
     },
     "3e80e0ca01a34967bb6bccde79b37328": {
      "model_module": "@jupyter-widgets/base",
      "model_module_version": "1.0.0",
      "model_name": "LayoutModel",
      "state": {}
     },
     "3ec8030449244fe4aae93cc02895dfe9": {
      "model_module": "@jupyter-widgets/base",
      "model_module_version": "1.0.0",
      "model_name": "LayoutModel",
      "state": {}
     },
     "3ecb644f62c1418dafd037fadaf93dd2": {
      "model_module": "@jupyter-widgets/base",
      "model_module_version": "1.0.0",
      "model_name": "LayoutModel",
      "state": {}
     },
     "3edc9638d53f4bc790edff56fe75b448": {
      "model_module": "@jupyter-widgets/controls",
      "model_module_version": "1.0.0",
      "model_name": "SliderStyleModel",
      "state": {
       "description_width": ""
      }
     },
     "3f0586023cfc4e79ae4c477593a84b5a": {
      "model_module": "@jupyter-widgets/controls",
      "model_module_version": "1.0.0",
      "model_name": "SliderStyleModel",
      "state": {
       "description_width": ""
      }
     },
     "3f07e7eb5db348b28e21b87aac6ca1f2": {
      "model_module": "@jupyter-widgets/controls",
      "model_module_version": "1.0.0",
      "model_name": "IntSliderModel",
      "state": {
       "description": "y",
       "layout": "IPY_MODEL_442837ba9f35427c9c443a5221762d5b",
       "min": -100,
       "style": "IPY_MODEL_178f9659879d4ed6b088a35c1d4a1ec2"
      }
     },
     "3f31e04859ae47a4ac2242b0ad4cb3a8": {
      "model_module": "@jupyter-widgets/controls",
      "model_module_version": "1.0.0",
      "model_name": "IntSliderModel",
      "state": {
       "description": "h",
       "layout": "IPY_MODEL_74cbc4cb81b147a1b9489b8430bad25c",
       "max": 300,
       "min": -300,
       "style": "IPY_MODEL_3b7ded6f7eda48579dd8c9360a514a96",
       "value": 50
      }
     },
     "3f36d1c365a04599b896a9682b5cfba1": {
      "model_module": "@jupyter-widgets/controls",
      "model_module_version": "1.0.0",
      "model_name": "SliderStyleModel",
      "state": {
       "description_width": ""
      }
     },
     "3f501892f92d49f385ca689073a9d446": {
      "model_module": "jp_proxy_widget",
      "model_module_version": "^0.3.4",
      "model_name": "JSProxyModel",
      "state": {
       "_model_module_version": "^0.3.4",
       "_send_counter": 2,
       "_view_module_version": "^0.3.4",
       "error_msg": "No error",
       "layout": "IPY_MODEL_1b094caceb6d43cfae969cf932ef0c9b",
       "rendered": true,
       "status": "Got results."
      }
     },
     "3f544a0bb5c4475a8d87d05c5a85b1f7": {
      "model_module": "@jupyter-widgets/controls",
      "model_module_version": "1.0.0",
      "model_name": "SliderStyleModel",
      "state": {
       "description_width": ""
      }
     },
     "3f5d5f0a7c4a48df8bd74dc8be0af2b0": {
      "model_module": "@jupyter-widgets/controls",
      "model_module_version": "1.0.0",
      "model_name": "DescriptionStyleModel",
      "state": {
       "description_width": ""
      }
     },
     "3f924d1212e94c4c98ebeff020b030f9": {
      "model_module": "@jupyter-widgets/base",
      "model_module_version": "1.0.0",
      "model_name": "LayoutModel",
      "state": {}
     },
     "3faa37d119d14750bbeac9b4483cf57b": {
      "model_module": "@jupyter-widgets/controls",
      "model_module_version": "1.0.0",
      "model_name": "CheckboxModel",
      "state": {
       "description": "fill",
       "disabled": false,
       "layout": "IPY_MODEL_70c20b7fc64f4087b31856d8cc1e32ad",
       "style": "IPY_MODEL_aef8426a607a4401bf3deeaefc189e84",
       "value": true
      }
     },
     "3ff3ef1421c4477782a3f54432015a95": {
      "model_module": "@jupyter-widgets/controls",
      "model_module_version": "1.0.0",
      "model_name": "SliderStyleModel",
      "state": {
       "description_width": ""
      }
     },
     "40005d17ef2a453581b89a074eed00f2": {
      "model_module": "@jupyter-widgets/controls",
      "model_module_version": "1.0.0",
      "model_name": "VBoxModel",
      "state": {
       "_dom_classes": [
        "widget-interact"
       ],
       "children": [
        "IPY_MODEL_e30f0a68a2d14f918cf07bf1b8c1a5ee",
        "IPY_MODEL_c2543703fffa45b3970ce58be00dc637",
        "IPY_MODEL_4c7e707786cb4c3dab46f3d0b8236e11",
        "IPY_MODEL_7e14317e98e84687ae40df82bac5d903",
        "IPY_MODEL_78ebd864a4344056910e970f1f016825",
        "IPY_MODEL_aceea22abb284a589c84a2d8ba6f2e42",
        "IPY_MODEL_1cb7369d10064166b67960bb9e474db3",
        "IPY_MODEL_4d4ac664337d4753b134a32a3a5ee48b",
        "IPY_MODEL_2e6b052db3a14267957a9104b599128e",
        "IPY_MODEL_486f6a0face14dd0ba820a1d6a71a84f",
        "IPY_MODEL_e5ad087ecd704aef8eb110a44eeb02a5",
        "IPY_MODEL_db5bdac5a92948b98142d2826c2a654b",
        "IPY_MODEL_aeaa55f4a37247f98d3dafd7ec15f247",
        "IPY_MODEL_fb17bc911b11445a9165639f979e9eab"
       ],
       "layout": "IPY_MODEL_f87b8aed1b2244caa33bd15e06207836"
      }
     },
     "4017432258cc4e68bd91b1ec5b507251": {
      "model_module": "@jupyter-widgets/controls",
      "model_module_version": "1.0.0",
      "model_name": "IntSliderModel",
      "state": {
       "description": "lineWidth",
       "layout": "IPY_MODEL_c380bb8b910e485f91663f014a5fdd51",
       "max": 20,
       "style": "IPY_MODEL_f0ad98568b0d42c89393813f9fe6232d",
       "value": 6
      }
     },
     "4027afec70cd40f1bccd89c50fd04fad": {
      "model_module": "@jupyter-widgets/base",
      "model_module_version": "1.0.0",
      "model_name": "LayoutModel",
      "state": {}
     },
     "402f95aa334748b0bde5c7de2a447f2d": {
      "model_module": "@jupyter-widgets/base",
      "model_module_version": "1.0.0",
      "model_name": "LayoutModel",
      "state": {}
     },
     "403a45102ba147f8aa926d450caf82de": {
      "model_module": "@jupyter-widgets/base",
      "model_module_version": "1.0.0",
      "model_name": "LayoutModel",
      "state": {}
     },
     "40438ecc1b6849b498a3aef1c636cf61": {
      "model_module": "@jupyter-widgets/base",
      "model_module_version": "1.0.0",
      "model_name": "LayoutModel",
      "state": {}
     },
     "4058b1e23a90471eb4ca008b7ff750ba": {
      "model_module": "@jupyter-widgets/base",
      "model_module_version": "1.0.0",
      "model_name": "LayoutModel",
      "state": {}
     },
     "40679a37760f413eaab916ce3109bef5": {
      "model_module": "@jupyter-widgets/controls",
      "model_module_version": "1.0.0",
      "model_name": "IntSliderModel",
      "state": {
       "description": "r",
       "layout": "IPY_MODEL_346223109c9d4df19db71886a8bd5336",
       "style": "IPY_MODEL_ec5aa57ed6cc4905bbae2c4861c17a69",
       "value": 50
      }
     },
     "408871657b3a49e1aaf1575004613c88": {
      "model_module": "@jupyter-widgets/controls",
      "model_module_version": "1.0.0",
      "model_name": "SliderStyleModel",
      "state": {
       "description_width": ""
      }
     },
     "408c10ccbc734beaba126b8f30975e97": {
      "model_module": "@jupyter-widgets/base",
      "model_module_version": "1.0.0",
      "model_name": "LayoutModel",
      "state": {}
     },
     "408e67a7ff1c429cb7224fa3b6f2cb1a": {
      "model_module": "@jupyter-widgets/controls",
      "model_module_version": "1.0.0",
      "model_name": "SliderStyleModel",
      "state": {
       "description_width": ""
      }
     },
     "40a6555930644a19836498bde62e7096": {
      "model_module": "@jupyter-widgets/controls",
      "model_module_version": "1.0.0",
      "model_name": "SliderStyleModel",
      "state": {
       "description_width": ""
      }
     },
     "40b3a6e46868489c8da8169d343837c4": {
      "model_module": "@jupyter-widgets/controls",
      "model_module_version": "1.0.0",
      "model_name": "SliderStyleModel",
      "state": {
       "description_width": ""
      }
     },
     "40bb0b1a648e4f57b1523dc65133c5af": {
      "model_module": "@jupyter-widgets/controls",
      "model_module_version": "1.0.0",
      "model_name": "SliderStyleModel",
      "state": {
       "description_width": ""
      }
     },
     "40fa66e98c884a99ab2db5f8095f61f3": {
      "model_module": "@jupyter-widgets/base",
      "model_module_version": "1.0.0",
      "model_name": "LayoutModel",
      "state": {}
     },
     "41000056eef44173854400c5ec5f0ba8": {
      "model_module": "@jupyter-widgets/base",
      "model_module_version": "1.0.0",
      "model_name": "LayoutModel",
      "state": {}
     },
     "41021f4477894126b449d35cdd5f40be": {
      "model_module": "@jupyter-widgets/controls",
      "model_module_version": "1.0.0",
      "model_name": "IntSliderModel",
      "state": {
       "description": "w",
       "layout": "IPY_MODEL_e115a27d3872487bbace53aa26ab22ca",
       "max": 300,
       "min": -300,
       "style": "IPY_MODEL_7c737a7125534bfc8e6776f648b536c3",
       "value": 50
      }
     },
     "411921282fa740f8ac1f528051dac85e": {
      "model_module": "@jupyter-widgets/controls",
      "model_module_version": "1.0.0",
      "model_name": "SliderStyleModel",
      "state": {
       "description_width": ""
      }
     },
     "4119b9bf791645ff95eedb06fdc371d2": {
      "model_module": "@jupyter-widgets/base",
      "model_module_version": "1.0.0",
      "model_name": "LayoutModel",
      "state": {}
     },
     "41232876897e45c7b89c8a978fc7a5d8": {
      "model_module": "@jupyter-widgets/base",
      "model_module_version": "1.0.0",
      "model_name": "LayoutModel",
      "state": {}
     },
     "413e6e8d43ff4406811d3af95680b0b1": {
      "model_module": "@jupyter-widgets/base",
      "model_module_version": "1.0.0",
      "model_name": "LayoutModel",
      "state": {}
     },
     "4141082cfa0347e0b36b4f20f5ee698e": {
      "model_module": "@jupyter-widgets/base",
      "model_module_version": "1.0.0",
      "model_name": "LayoutModel",
      "state": {}
     },
     "416e928762274e0a8feaf32a6e039119": {
      "model_module": "@jupyter-widgets/controls",
      "model_module_version": "1.0.0",
      "model_name": "IntSliderModel",
      "state": {
       "description": "y",
       "layout": "IPY_MODEL_c3d1f62242c04bf49247f8f46b632547",
       "min": -100,
       "style": "IPY_MODEL_076d5de6fca2426e900b6d0c1da1ad9f"
      }
     },
     "4191f12f667d4f8ca6c0787bddc7619c": {
      "model_module": "@jupyter-widgets/base",
      "model_module_version": "1.0.0",
      "model_name": "LayoutModel",
      "state": {}
     },
     "41a465916d704594bf10020ce9130e8e": {
      "model_module": "@jupyter-widgets/controls",
      "model_module_version": "1.0.0",
      "model_name": "VBoxModel",
      "state": {
       "children": [
        "IPY_MODEL_37c98a65172045ffbd84c7988dccc1fd",
        "IPY_MODEL_9c3845432d1e4dc7b5ec589f562d54c3"
       ],
       "layout": "IPY_MODEL_088189aff70042c3b53f758ef165629a"
      }
     },
     "41c6d7289a09447cae94c2eee94c6d89": {
      "model_module": "@jupyter-widgets/controls",
      "model_module_version": "1.0.0",
      "model_name": "SliderStyleModel",
      "state": {
       "description_width": ""
      }
     },
     "41d329c9fb844c58b33a0e053b44c6aa": {
      "model_module": "@jupyter-widgets/controls",
      "model_module_version": "1.0.0",
      "model_name": "IntSliderModel",
      "state": {
       "description": "y",
       "layout": "IPY_MODEL_dda6c4af1bd14558916865156306cace",
       "min": -100,
       "style": "IPY_MODEL_ec6bc3b7f5af41a397224ffc50787343"
      }
     },
     "420e5c2b331442dcb22b9eb28dd5f9ff": {
      "model_module": "@jupyter-widgets/output",
      "model_module_version": "1.0.0",
      "model_name": "OutputModel",
      "state": {
       "layout": "IPY_MODEL_dae373942a2b4e8fa4c60b3a635e4d7f",
       "outputs": [
        {
         "ename": "NameError",
         "evalue": "global name 'other_args' is not defined",
         "output_type": "error",
         "traceback": [
          "\u001b[0;31m---------------------------------------------------------------------------\u001b[0m",
          "\u001b[0;31mNameError\u001b[0m                                 Traceback (most recent call last)",
          "\u001b[0;32m//anaconda/lib/python2.7/site-packages/ipywidgets/widgets/interaction.pyc\u001b[0m in \u001b[0;36mupdate\u001b[0;34m(self, *args)\u001b[0m\n\u001b[1;32m    248\u001b[0m                     \u001b[0mvalue\u001b[0m \u001b[0;34m=\u001b[0m \u001b[0mwidget\u001b[0m\u001b[0;34m.\u001b[0m\u001b[0mget_interact_value\u001b[0m\u001b[0;34m(\u001b[0m\u001b[0;34m)\u001b[0m\u001b[0;34m\u001b[0m\u001b[0m\n\u001b[1;32m    249\u001b[0m                     \u001b[0mself\u001b[0m\u001b[0;34m.\u001b[0m\u001b[0mkwargs\u001b[0m\u001b[0;34m[\u001b[0m\u001b[0mwidget\u001b[0m\u001b[0;34m.\u001b[0m\u001b[0m_kwarg\u001b[0m\u001b[0;34m]\u001b[0m \u001b[0;34m=\u001b[0m \u001b[0mvalue\u001b[0m\u001b[0;34m\u001b[0m\u001b[0m\n\u001b[0;32m--> 250\u001b[0;31m                 \u001b[0mself\u001b[0m\u001b[0;34m.\u001b[0m\u001b[0mresult\u001b[0m \u001b[0;34m=\u001b[0m \u001b[0mself\u001b[0m\u001b[0;34m.\u001b[0m\u001b[0mf\u001b[0m\u001b[0;34m(\u001b[0m\u001b[0;34m**\u001b[0m\u001b[0mself\u001b[0m\u001b[0;34m.\u001b[0m\u001b[0mkwargs\u001b[0m\u001b[0;34m)\u001b[0m\u001b[0;34m\u001b[0m\u001b[0m\n\u001b[0m\u001b[1;32m    251\u001b[0m                 \u001b[0mshow_inline_matplotlib_plots\u001b[0m\u001b[0;34m(\u001b[0m\u001b[0;34m)\u001b[0m\u001b[0;34m\u001b[0m\u001b[0m\n\u001b[1;32m    252\u001b[0m                 \u001b[0;32mif\u001b[0m \u001b[0mself\u001b[0m\u001b[0;34m.\u001b[0m\u001b[0mauto_display\u001b[0m \u001b[0;32mand\u001b[0m \u001b[0mself\u001b[0m\u001b[0;34m.\u001b[0m\u001b[0mresult\u001b[0m \u001b[0;32mis\u001b[0m \u001b[0;32mnot\u001b[0m \u001b[0mNone\u001b[0m\u001b[0;34m:\u001b[0m\u001b[0;34m\u001b[0m\u001b[0m\n",
          "\u001b[0;32m<ipython-input-3-ae4c2689f9f6>\u001b[0m in \u001b[0;36mchange_image\u001b[0;34m(x, y, w, h, dx, dy, degrees)\u001b[0m\n\u001b[1;32m     19\u001b[0m     \u001b[0mcanvas\u001b[0m\u001b[0;34m.\u001b[0m\u001b[0mreset_canvas\u001b[0m\u001b[0;34m(\u001b[0m\u001b[0;34m)\u001b[0m\u001b[0;34m\u001b[0m\u001b[0m\n\u001b[1;32m     20\u001b[0m     canvas.named_image(\"mandrill\", \n\u001b[0;32m---> 21\u001b[0;31m                        x, y, w, h, degrees=0, sx=None, sy=None, sWidth=None, sHeight=None, **other_args)\n\u001b[0m\u001b[1;32m     22\u001b[0m     \u001b[0mcanvas\u001b[0m\u001b[0;34m.\u001b[0m\u001b[0mfit\u001b[0m\u001b[0;34m(\u001b[0m\u001b[0;34m)\u001b[0m\u001b[0;34m\u001b[0m\u001b[0m\n\u001b[1;32m     23\u001b[0m     canvas.lower_left_axes(\n",
          "\u001b[0;31mNameError\u001b[0m: global name 'other_args' is not defined"
         ]
        }
       ]
      }
     },
     "4216e0cf63e94577b5334b0299cd604a": {
      "model_module": "@jupyter-widgets/base",
      "model_module_version": "1.0.0",
      "model_name": "LayoutModel",
      "state": {}
     },
     "42232af9790941aa9b6adb14485aabb2": {
      "model_module": "@jupyter-widgets/controls",
      "model_module_version": "1.0.0",
      "model_name": "IntSliderModel",
      "state": {
       "description": "sx",
       "layout": "IPY_MODEL_98040f2ebb3648738e1287e591d68bfa",
       "max": 600,
       "style": "IPY_MODEL_0b91127308ca41f3b5f7eb6c69011cd8",
       "value": 30
      }
     },
     "4239a2bf6a8c43c1bb7ddd92906e4738": {
      "model_module": "@jupyter-widgets/controls",
      "model_module_version": "1.0.0",
      "model_name": "SliderStyleModel",
      "state": {
       "description_width": ""
      }
     },
     "4239c3efea4d43b1a6f0d8c288c6ae50": {
      "model_module": "@jupyter-widgets/base",
      "model_module_version": "1.0.0",
      "model_name": "LayoutModel",
      "state": {}
     },
     "4244e0c3771c4898942ed4036cba7fb0": {
      "model_module": "@jupyter-widgets/base",
      "model_module_version": "1.0.0",
      "model_name": "LayoutModel",
      "state": {}
     },
     "424900edfd704b968e95b22656951fd3": {
      "model_module": "@jupyter-widgets/base",
      "model_module_version": "1.0.0",
      "model_name": "LayoutModel",
      "state": {}
     },
     "42a6db763d3f4183bde09e127a71a9e3": {
      "model_module": "@jupyter-widgets/base",
      "model_module_version": "1.0.0",
      "model_name": "LayoutModel",
      "state": {}
     },
     "42ac1e9ba8d44f048a605cb200f0714d": {
      "model_module": "@jupyter-widgets/base",
      "model_module_version": "1.0.0",
      "model_name": "LayoutModel",
      "state": {}
     },
     "42ba9a277c5646e7b5a861482a296b25": {
      "model_module": "@jupyter-widgets/controls",
      "model_module_version": "1.0.0",
      "model_name": "IntSliderModel",
      "state": {
       "description": "green",
       "layout": "IPY_MODEL_9c869b2b547944e896724e0f1f082ca1",
       "max": 255,
       "style": "IPY_MODEL_3edc9638d53f4bc790edff56fe75b448"
      }
     },
     "42cc639b4af647f28d2724b2f5028853": {
      "model_module": "@jupyter-widgets/controls",
      "model_module_version": "1.0.0",
      "model_name": "DescriptionStyleModel",
      "state": {
       "description_width": ""
      }
     },
     "42d12b1ec7574a50b6104871c58a58ed": {
      "model_module": "@jupyter-widgets/controls",
      "model_module_version": "1.0.0",
      "model_name": "IntSliderModel",
      "state": {
       "description": "y",
       "layout": "IPY_MODEL_39fbab63948f41a38710d79e8f6baa2c",
       "min": -100,
       "style": "IPY_MODEL_0e236c0abc8543678cde80a20f77d38a"
      }
     },
     "42e7a8305b054c398961897cbac89c79": {
      "model_module": "@jupyter-widgets/base",
      "model_module_version": "1.0.0",
      "model_name": "LayoutModel",
      "state": {}
     },
     "43194c117c34491083a4e0ae4cc3830d": {
      "model_module": "@jupyter-widgets/controls",
      "model_module_version": "1.0.0",
      "model_name": "IntSliderModel",
      "state": {
       "description": "w",
       "layout": "IPY_MODEL_4896f5319db84497bc8124a80a6a16b3",
       "max": 300,
       "min": -300,
       "style": "IPY_MODEL_eae0c7f52ba644bd9adc766a60ffc9e1",
       "value": 83
      }
     },
     "43335df01ac143f5bd7efb6415e22c52": {
      "model_module": "@jupyter-widgets/base",
      "model_module_version": "1.0.0",
      "model_name": "LayoutModel",
      "state": {}
     },
     "43380f299241427bb11ab4ba067f8be4": {
      "model_module": "@jupyter-widgets/controls",
      "model_module_version": "1.0.0",
      "model_name": "DescriptionStyleModel",
      "state": {
       "description_width": ""
      }
     },
     "43535c6a3263478ab53b869d35b5f5e6": {
      "model_module": "@jupyter-widgets/controls",
      "model_module_version": "1.0.0",
      "model_name": "SliderStyleModel",
      "state": {
       "description_width": ""
      }
     },
     "435498d1e66b46d0a00a24b717810d46": {
      "model_module": "@jupyter-widgets/controls",
      "model_module_version": "1.0.0",
      "model_name": "IntSliderModel",
      "state": {
       "description": "y",
       "layout": "IPY_MODEL_959f17ce8ed040f085a637af126f4865",
       "min": -100,
       "style": "IPY_MODEL_67d386ea83b54ecc84d6418d7fe233ce"
      }
     },
     "4379508570554a5b9505ff68ffd31c81": {
      "model_module": "@jupyter-widgets/controls",
      "model_module_version": "1.0.0",
      "model_name": "SliderStyleModel",
      "state": {
       "description_width": ""
      }
     },
     "43849faed1e54c04bf637631cb72551d": {
      "model_module": "@jupyter-widgets/controls",
      "model_module_version": "1.0.0",
      "model_name": "HTMLModel",
      "state": {
       "layout": "IPY_MODEL_94e2e3d91530478c87f001d5c716a5d9",
       "style": "IPY_MODEL_39ce48f54b454c6bb7364f23a400735b",
       "value": "<img src=\"interactive_image.png\" id=\"snapshot_id_19_1536959547122\"/>\n <div id=\"snapshot_id_20_1536959547122\">interactive_image.png</div>"
      }
     },
     "4386074b37c84218a7c70ef4920565b5": {
      "model_module": "@jupyter-widgets/controls",
      "model_module_version": "1.0.0",
      "model_name": "TabModel",
      "state": {
       "_titles": {
        "0": "Canvas",
        "1": "Snapshot"
       },
       "children": [
        "IPY_MODEL_6a2e8306e8bb44fba322c60c417cbc7a",
        "IPY_MODEL_e686183a7f2645bab5ce2f0f8677f4c3"
       ],
       "layout": "IPY_MODEL_b641d6c0cd8240f79a7de7768b7a5395"
      }
     },
     "4392b306158b4b6bb331aea9b210afe8": {
      "model_module": "@jupyter-widgets/base",
      "model_module_version": "1.0.0",
      "model_name": "LayoutModel",
      "state": {}
     },
     "439519df286841d598e294e7be2c6537": {
      "model_module": "@jupyter-widgets/base",
      "model_module_version": "1.0.0",
      "model_name": "LayoutModel",
      "state": {}
     },
     "43954d7df1884b2684065c9e92e8a746": {
      "model_module": "@jupyter-widgets/base",
      "model_module_version": "1.0.0",
      "model_name": "LayoutModel",
      "state": {}
     },
     "43c9a31928ab4562a180e31b303ac392": {
      "model_module": "@jupyter-widgets/base",
      "model_module_version": "1.0.0",
      "model_name": "LayoutModel",
      "state": {}
     },
     "43cd9bc4b687415a9da2b07ba9325515": {
      "model_module": "@jupyter-widgets/controls",
      "model_module_version": "1.0.0",
      "model_name": "DescriptionStyleModel",
      "state": {
       "description_width": ""
      }
     },
     "43d331fb913541c0a30fd1395e7acc11": {
      "model_module": "@jupyter-widgets/base",
      "model_module_version": "1.0.0",
      "model_name": "LayoutModel",
      "state": {}
     },
     "43da1a340ef740c6a2e3e035f9573200": {
      "model_module": "@jupyter-widgets/base",
      "model_module_version": "1.0.0",
      "model_name": "LayoutModel",
      "state": {}
     },
     "43e4236a5b834cbfbd4c30fce08261ac": {
      "model_module": "@jupyter-widgets/base",
      "model_module_version": "1.0.0",
      "model_name": "LayoutModel",
      "state": {}
     },
     "43ecff260c6e4673857d890d8255d7b3": {
      "model_module": "@jupyter-widgets/base",
      "model_module_version": "1.0.0",
      "model_name": "LayoutModel",
      "state": {}
     },
     "43f5fe67a0004dbd98770a640fab46d6": {
      "model_module": "@jupyter-widgets/base",
      "model_module_version": "1.0.0",
      "model_name": "LayoutModel",
      "state": {}
     },
     "43fcf0ffc18747639180ddcffbe43699": {
      "model_module": "@jupyter-widgets/base",
      "model_module_version": "1.0.0",
      "model_name": "LayoutModel",
      "state": {}
     },
     "43ffce4f99bd4a46ab596cd6c257ac55": {
      "model_module": "@jupyter-widgets/controls",
      "model_module_version": "1.0.0",
      "model_name": "VBoxModel",
      "state": {
       "_dom_classes": [
        "widget-interact"
       ],
       "children": [
        "IPY_MODEL_7c39e9cebc5e4a038786b9e8150830e7",
        "IPY_MODEL_b8446bd298cc49d3b2ababf8d428746e",
        "IPY_MODEL_a474772baffb48be8ea7b813121d387f",
        "IPY_MODEL_a202e53c9dbc441e94d1c7d4f8239bff",
        "IPY_MODEL_acbe1b3ed6d9474a807502f80acd938b",
        "IPY_MODEL_a06e212057c54f15b9fcb1de91d7ee7a",
        "IPY_MODEL_5cc045cc2f60427082e94a2ad018dd2a",
        "IPY_MODEL_4d90df618aeb4498b2fe31a41b0f39f8",
        "IPY_MODEL_310a1b67e11e44daab311322f0668ccc",
        "IPY_MODEL_100e70db0d62423b93c3ff6f291feae1",
        "IPY_MODEL_b52cb582d4c74b5ca7ecb80b133fb21a",
        "IPY_MODEL_042a257d074943feb584ca7db9f070e6",
        "IPY_MODEL_c8e86f9be66544cc88af5593c9330977"
       ],
       "layout": "IPY_MODEL_c8c5f17ea2b244a99ce5c1cc812f7bcf"
      }
     },
     "442837ba9f35427c9c443a5221762d5b": {
      "model_module": "@jupyter-widgets/base",
      "model_module_version": "1.0.0",
      "model_name": "LayoutModel",
      "state": {}
     },
     "44416140818f45b8abad7c386b9d793a": {
      "model_module": "@jupyter-widgets/base",
      "model_module_version": "1.0.0",
      "model_name": "LayoutModel",
      "state": {}
     },
     "44a5f054202945688347adf7ceadf3a4": {
      "model_module": "@jupyter-widgets/controls",
      "model_module_version": "1.0.0",
      "model_name": "SliderStyleModel",
      "state": {
       "description_width": ""
      }
     },
     "44ee557031604031a6861c063720caf1": {
      "model_module": "@jupyter-widgets/base",
      "model_module_version": "1.0.0",
      "model_name": "LayoutModel",
      "state": {}
     },
     "44fa149ccbf6424aa54a431f76f99a36": {
      "model_module": "@jupyter-widgets/controls",
      "model_module_version": "1.0.0",
      "model_name": "SliderStyleModel",
      "state": {
       "description_width": ""
      }
     },
     "4534bccc59c44772b130d2ad4fe7f2ff": {
      "model_module": "@jupyter-widgets/base",
      "model_module_version": "1.0.0",
      "model_name": "LayoutModel",
      "state": {}
     },
     "456284c4bc4644ec824cad934213daf8": {
      "model_module": "@jupyter-widgets/controls",
      "model_module_version": "1.0.0",
      "model_name": "SliderStyleModel",
      "state": {
       "description_width": ""
      }
     },
     "45d006e7097941cd9f13c854dfb2dc5e": {
      "model_module": "@jupyter-widgets/base",
      "model_module_version": "1.0.0",
      "model_name": "LayoutModel",
      "state": {}
     },
     "45f42df02647452e9c902400395b0012": {
      "model_module": "@jupyter-widgets/controls",
      "model_module_version": "1.0.0",
      "model_name": "SliderStyleModel",
      "state": {
       "description_width": ""
      }
     },
     "45f85def23654524a52fdce948787ba9": {
      "model_module": "@jupyter-widgets/controls",
      "model_module_version": "1.0.0",
      "model_name": "IntSliderModel",
      "state": {
       "description": "red",
       "layout": "IPY_MODEL_b3e7e9ade30248dcb7d7bb017a1f77eb",
       "max": 255,
       "style": "IPY_MODEL_0dc07ffe40814fa3a0b829a2dd0f9b01",
       "value": 255
      }
     },
     "45fc4475c0c946c498a424a7bac8120e": {
      "model_module": "@jupyter-widgets/controls",
      "model_module_version": "1.0.0",
      "model_name": "HTMLModel",
      "state": {
       "layout": "IPY_MODEL_6fbed0bd8db94792abc506a17141eed8",
       "style": "IPY_MODEL_dc74f83e801c4c8d97ae7f2bfd979f65",
       "value": "<img src=\"interactive_image.png\" id=\"snapshot_id_21_1536959669525\"/>\n <div id=\"snapshot_id_22_1536959669525\">interactive_image.png</div>"
      }
     },
     "460aad71be2844eaa50d17fbb17a0b09": {
      "model_module": "@jupyter-widgets/base",
      "model_module_version": "1.0.0",
      "model_name": "LayoutModel",
      "state": {}
     },
     "460b49dd6a3144de967af63bb52c0dd8": {
      "model_module": "@jupyter-widgets/controls",
      "model_module_version": "1.0.0",
      "model_name": "IntSliderModel",
      "state": {
       "description": "degrees",
       "layout": "IPY_MODEL_fd89396ce5eb466e89d973f1cb217129",
       "max": 360,
       "min": -360,
       "style": "IPY_MODEL_1a17ad335a7b479a81d58659c4c678bc",
       "value": 110
      }
     },
     "463e62dc9e64424ab22af40628145199": {
      "model_module": "@jupyter-widgets/controls",
      "model_module_version": "1.0.0",
      "model_name": "IntSliderModel",
      "state": {
       "description": "h",
       "layout": "IPY_MODEL_7b8bd77963da4309899845143bcae4c3",
       "max": 300,
       "min": -300,
       "style": "IPY_MODEL_1cbd01adc502481eaaa41ae860fb98c8",
       "value": 169
      }
     },
     "46702300a493408db99e36843e84477e": {
      "model_module": "@jupyter-widgets/controls",
      "model_module_version": "1.0.0",
      "model_name": "SliderStyleModel",
      "state": {
       "description_width": ""
      }
     },
     "467f910a730c4d6cbed22720b85af472": {
      "model_module": "@jupyter-widgets/controls",
      "model_module_version": "1.0.0",
      "model_name": "IntSliderModel",
      "state": {
       "description": "x",
       "layout": "IPY_MODEL_1e2b0a8d20b046b2b19d8fce885027c0",
       "min": -100,
       "style": "IPY_MODEL_5e2d2b3dedb841f68b4809b78f3067bb"
      }
     },
     "468d3d24bb9e4c4fa56383ee4b3a3a60": {
      "model_module": "@jupyter-widgets/controls",
      "model_module_version": "1.0.0",
      "model_name": "TabModel",
      "state": {
       "_titles": {
        "0": "Canvas",
        "1": "Snapshot"
       },
       "children": [
        "IPY_MODEL_ff6caf81169d4e109b32f9e2487c79b5",
        "IPY_MODEL_d23452d3277f41808d6c6cfaae3f540e"
       ],
       "layout": "IPY_MODEL_2b1354f3513547d9be7ea5abf77a3936"
      }
     },
     "46b28ed5e3b34f928ec78e85440f50a8": {
      "model_module": "@jupyter-widgets/base",
      "model_module_version": "1.0.0",
      "model_name": "LayoutModel",
      "state": {}
     },
     "46c337e9db694ad0b220a53483bc6365": {
      "model_module": "@jupyter-widgets/controls",
      "model_module_version": "1.0.0",
      "model_name": "SliderStyleModel",
      "state": {
       "description_width": ""
      }
     },
     "46cfffbf2dd84d38a01d790f34b90b10": {
      "model_module": "@jupyter-widgets/controls",
      "model_module_version": "1.0.0",
      "model_name": "FloatSliderModel",
      "state": {
       "description": "alpha",
       "layout": "IPY_MODEL_4a71e9c2b321456590da959057378edd",
       "max": 1,
       "step": 0.1,
       "style": "IPY_MODEL_5e87c4a6c0d2406b9793f388914a81aa",
       "value": 1
      }
     },
     "47323002577446458c8e7840f3a5f413": {
      "model_module": "@jupyter-widgets/controls",
      "model_module_version": "1.0.0",
      "model_name": "IntSliderModel",
      "state": {
       "description": "y",
       "layout": "IPY_MODEL_030f09cf81f94695b9101d1acfe7f7a4",
       "min": -100,
       "style": "IPY_MODEL_87ee05369c03491495514468a1f10b27"
      }
     },
     "4735820ddc5747699b67ac8e88b845c4": {
      "model_module": "@jupyter-widgets/controls",
      "model_module_version": "1.0.0",
      "model_name": "IntSliderModel",
      "state": {
       "description": "red",
       "layout": "IPY_MODEL_7cb202cb4d8c432181afd5546536bea2",
       "max": 255,
       "style": "IPY_MODEL_bdcb8c8ea08b4c05a3b3d068bbb3f7c5",
       "value": 255
      }
     },
     "473840ca2720473d94b7f99f27a050c3": {
      "model_module": "@jupyter-widgets/controls",
      "model_module_version": "1.0.0",
      "model_name": "TabModel",
      "state": {
       "_titles": {
        "0": "Canvas",
        "1": "Snapshot"
       },
       "children": [
        "IPY_MODEL_0d6c55016e1a462aa67db37385979879",
        "IPY_MODEL_e20bc2a8f1d3486387a3bfe562975811"
       ],
       "layout": "IPY_MODEL_3e80e0ca01a34967bb6bccde79b37328"
      }
     },
     "47b9f53a7bb8418bb7e23f5f8dc3a9b6": {
      "model_module": "@jupyter-widgets/base",
      "model_module_version": "1.0.0",
      "model_name": "LayoutModel",
      "state": {}
     },
     "47e10ff22a834789b18a60f850c182b6": {
      "model_module": "jp_proxy_widget",
      "model_module_version": "^0.3.4",
      "model_name": "JSProxyModel",
      "state": {
       "_model_module_version": "^0.3.4",
       "_send_counter": 209,
       "_view_module_version": "^0.3.4",
       "error_msg": "No error",
       "layout": "IPY_MODEL_232d06a8e8e545278689b1ec2fac5f93",
       "rendered": true,
       "status": "Got results."
      }
     },
     "47eda62a46664c0e8006899dbb95c783": {
      "model_module": "@jupyter-widgets/controls",
      "model_module_version": "1.0.0",
      "model_name": "DescriptionStyleModel",
      "state": {
       "description_width": ""
      }
     },
     "47ef920395de48c6b688a91b406054f0": {
      "model_module": "@jupyter-widgets/controls",
      "model_module_version": "1.0.0",
      "model_name": "SliderStyleModel",
      "state": {
       "description_width": ""
      }
     },
     "47fc5af1645a44d19ffa71b881857d27": {
      "model_module": "@jupyter-widgets/base",
      "model_module_version": "1.0.0",
      "model_name": "LayoutModel",
      "state": {}
     },
     "482ec0dec1534e4f8ca47ad0b6e7f183": {
      "model_module": "@jupyter-widgets/controls",
      "model_module_version": "1.0.0",
      "model_name": "SliderStyleModel",
      "state": {
       "description_width": ""
      }
     },
     "483123a220ea487b8a3e745a2ffcdf75": {
      "model_module": "@jupyter-widgets/controls",
      "model_module_version": "1.0.0",
      "model_name": "SliderStyleModel",
      "state": {
       "description_width": ""
      }
     },
     "4862b3cafd2942bb8cd9d20c906b4833": {
      "model_module": "@jupyter-widgets/base",
      "model_module_version": "1.0.0",
      "model_name": "LayoutModel",
      "state": {}
     },
     "4869744500114573bcbf1a60ca30ff55": {
      "model_module": "@jupyter-widgets/base",
      "model_module_version": "1.0.0",
      "model_name": "LayoutModel",
      "state": {}
     },
     "486f6a0face14dd0ba820a1d6a71a84f": {
      "model_module": "@jupyter-widgets/controls",
      "model_module_version": "1.0.0",
      "model_name": "IntSliderModel",
      "state": {
       "description": "red",
       "layout": "IPY_MODEL_cf2d0a68fb95489790103bac5a383118",
       "max": 255,
       "style": "IPY_MODEL_49fef72859674effa1c7f0d089f370da",
       "value": 255
      }
     },
     "4870b8c7de1941a7a4634d842a99ce61": {
      "model_module": "@jupyter-widgets/controls",
      "model_module_version": "1.0.0",
      "model_name": "SliderStyleModel",
      "state": {
       "description_width": ""
      }
     },
     "48857c75c1e942a99babc7e4d9afed68": {
      "model_module": "@jupyter-widgets/base",
      "model_module_version": "1.0.0",
      "model_name": "LayoutModel",
      "state": {}
     },
     "4896f5319db84497bc8124a80a6a16b3": {
      "model_module": "@jupyter-widgets/base",
      "model_module_version": "1.0.0",
      "model_name": "LayoutModel",
      "state": {}
     },
     "48a5cc351221455f815776e36f408b26": {
      "model_module": "@jupyter-widgets/base",
      "model_module_version": "1.0.0",
      "model_name": "LayoutModel",
      "state": {}
     },
     "48af8f7a8c244947bfafc0ef05f7b9b6": {
      "model_module": "@jupyter-widgets/controls",
      "model_module_version": "1.0.0",
      "model_name": "SliderStyleModel",
      "state": {
       "description_width": ""
      }
     },
     "48cf2275ed4f4b34a3490a76428d821d": {
      "model_module": "@jupyter-widgets/controls",
      "model_module_version": "1.0.0",
      "model_name": "VBoxModel",
      "state": {
       "children": [
        "IPY_MODEL_f1d177f62714468397e74f7dd001d96f",
        "IPY_MODEL_18c3ce862352475f9bcaf0bbea566b71"
       ],
       "layout": "IPY_MODEL_43f5fe67a0004dbd98770a640fab46d6"
      }
     },
     "48f7f4fd69324bacaeffc487047dbffc": {
      "model_module": "@jupyter-widgets/base",
      "model_module_version": "1.0.0",
      "model_name": "LayoutModel",
      "state": {}
     },
     "48fc0c94c8ef41f488fdf2dd0fca7f59": {
      "model_module": "jp_proxy_widget",
      "model_module_version": "^0.3.4",
      "model_name": "JSProxyModel",
      "state": {
       "_model_module_version": "^0.3.4",
       "_send_counter": 2,
       "_view_module_version": "^0.3.4",
       "error_msg": "No error",
       "layout": "IPY_MODEL_e5198c63df6a4f98ad0c52b2aa2751f6",
       "rendered": true,
       "status": "Got results."
      }
     },
     "48fcb461f33e459bbc3d3f23a651adea": {
      "model_module": "@jupyter-widgets/base",
      "model_module_version": "1.0.0",
      "model_name": "LayoutModel",
      "state": {}
     },
     "48fd1af6dcd54b858b470952f5e20a3f": {
      "model_module": "@jupyter-widgets/controls",
      "model_module_version": "1.0.0",
      "model_name": "SliderStyleModel",
      "state": {
       "description_width": ""
      }
     },
     "490fd7622ece4312a5d26f75ddfb4245": {
      "model_module": "@jupyter-widgets/base",
      "model_module_version": "1.0.0",
      "model_name": "LayoutModel",
      "state": {}
     },
     "491bc71f70d6426fb1d320d5b572cc16": {
      "model_module": "@jupyter-widgets/controls",
      "model_module_version": "1.0.0",
      "model_name": "SliderStyleModel",
      "state": {
       "description_width": ""
      }
     },
     "4951713c59b2453ca2a121801a4b51fa": {
      "model_module": "@jupyter-widgets/controls",
      "model_module_version": "1.0.0",
      "model_name": "HTMLModel",
      "state": {
       "layout": "IPY_MODEL_4ab1c97c472e4fc09b2974278646e9df",
       "style": "IPY_MODEL_3659d7b0d8c14b05abfa16584f07b36e",
       "value": "<img src=\"interactive_image.png\" id=\"snapshot_id_31_1536960833000\"/>\n <div id=\"snapshot_id_32_1536960833000\">interactive_image.png</div>"
      }
     },
     "496e60f0c5e5458aa5f4dca9f53e8240": {
      "model_module": "@jupyter-widgets/controls",
      "model_module_version": "1.0.0",
      "model_name": "VBoxModel",
      "state": {
       "children": [
        "IPY_MODEL_1a7ae19c77b64682a564ac7249206322",
        "IPY_MODEL_167589c8386c4cd99f4196f4328a1fdd"
       ],
       "layout": "IPY_MODEL_67106e78b28f4a60837df247cf7bebf8"
      }
     },
     "4976f286fcd14d76b5fa92eef53be5a5": {
      "model_module": "@jupyter-widgets/base",
      "model_module_version": "1.0.0",
      "model_name": "LayoutModel",
      "state": {}
     },
     "498065b088b64a16a84a6a13d6633ef1": {
      "model_module": "@jupyter-widgets/controls",
      "model_module_version": "1.0.0",
      "model_name": "IntSliderModel",
      "state": {
       "description": "blue",
       "layout": "IPY_MODEL_183b5a391e6e4b2cb51db0197fab2790",
       "max": 255,
       "style": "IPY_MODEL_94757874e4324feaab615dda6d7f01d1",
       "value": 134
      }
     },
     "4980acb4035c4cbd9fc41ce981ee2004": {
      "model_module": "@jupyter-widgets/controls",
      "model_module_version": "1.0.0",
      "model_name": "CheckboxModel",
      "state": {
       "description": "whole",
       "disabled": false,
       "layout": "IPY_MODEL_7fc39d075d9a495dab953b1f8aabb8d4",
       "style": "IPY_MODEL_39e974c34cf64f0a81ec590b2cb6c3ea",
       "value": true
      }
     },
     "498e02883e534f70b9545b5a207408c7": {
      "model_module": "@jupyter-widgets/controls",
      "model_module_version": "1.0.0",
      "model_name": "VBoxModel",
      "state": {
       "children": [
        "IPY_MODEL_9bea6810438841c88ebc1ad53494bba2",
        "IPY_MODEL_a16655cdf938494d805d71872eb54aad"
       ],
       "layout": "IPY_MODEL_56189ed3b37f49aaa2b41352043e663f"
      }
     },
     "49c1f1e474924b74885d58d88112bb8a": {
      "model_module": "@jupyter-widgets/base",
      "model_module_version": "1.0.0",
      "model_name": "LayoutModel",
      "state": {}
     },
     "49d6ace0fb16438786c724e0de92a162": {
      "model_module": "@jupyter-widgets/controls",
      "model_module_version": "1.0.0",
      "model_name": "SliderStyleModel",
      "state": {
       "description_width": ""
      }
     },
     "49d7f9f02fcc4e8da263c8969b31e156": {
      "model_module": "@jupyter-widgets/controls",
      "model_module_version": "1.0.0",
      "model_name": "VBoxModel",
      "state": {
       "children": [
        "IPY_MODEL_6e2d821ac383472692841f46384a8def",
        "IPY_MODEL_343b75a7e01e4ceabe7c39260a568fdc"
       ],
       "layout": "IPY_MODEL_f2319f5738ee48b2afb6d92303c7ae04"
      }
     },
     "49f8afd4c65042e2b45e9918a9b2a2e5": {
      "model_module": "@jupyter-widgets/base",
      "model_module_version": "1.0.0",
      "model_name": "LayoutModel",
      "state": {}
     },
     "49f9f96431484d729ee0545a8fa0c400": {
      "model_module": "@jupyter-widgets/base",
      "model_module_version": "1.0.0",
      "model_name": "LayoutModel",
      "state": {}
     },
     "49fbf872b4f14515a8ebfc2bc4440f0a": {
      "model_module": "@jupyter-widgets/controls",
      "model_module_version": "1.0.0",
      "model_name": "IntSliderModel",
      "state": {
       "description": "h",
       "layout": "IPY_MODEL_c1fc481351124e64a4a58f4f929ddf8b",
       "min": -100,
       "style": "IPY_MODEL_a89f8ea5835443bc8de1b6610915682b"
      }
     },
     "49fef72859674effa1c7f0d089f370da": {
      "model_module": "@jupyter-widgets/controls",
      "model_module_version": "1.0.0",
      "model_name": "SliderStyleModel",
      "state": {
       "description_width": ""
      }
     },
     "4a0a047496e94e5d87598225cd08f145": {
      "model_module": "@jupyter-widgets/controls",
      "model_module_version": "1.0.0",
      "model_name": "SliderStyleModel",
      "state": {
       "description_width": ""
      }
     },
     "4a344308292f48a5a8f5ef23f5cb35d5": {
      "model_module": "@jupyter-widgets/controls",
      "model_module_version": "1.0.0",
      "model_name": "SliderStyleModel",
      "state": {
       "description_width": ""
      }
     },
     "4a3d1dafe98d447688a7353ac480e895": {
      "model_module": "@jupyter-widgets/controls",
      "model_module_version": "1.0.0",
      "model_name": "DescriptionStyleModel",
      "state": {
       "description_width": ""
      }
     },
     "4a52c2a76fa84bc0a62baa676642269b": {
      "model_module": "@jupyter-widgets/controls",
      "model_module_version": "1.0.0",
      "model_name": "SliderStyleModel",
      "state": {
       "description_width": ""
      }
     },
     "4a5bb5a2ad0a403b89385b55dd784650": {
      "model_module": "@jupyter-widgets/base",
      "model_module_version": "1.0.0",
      "model_name": "LayoutModel",
      "state": {}
     },
     "4a71e9c2b321456590da959057378edd": {
      "model_module": "@jupyter-widgets/base",
      "model_module_version": "1.0.0",
      "model_name": "LayoutModel",
      "state": {}
     },
     "4a9fcc4967294ce48e0e8be103b9197f": {
      "model_module": "@jupyter-widgets/base",
      "model_module_version": "1.0.0",
      "model_name": "LayoutModel",
      "state": {}
     },
     "4aa5f589e1b7478dbf9a0f2260067363": {
      "model_module": "@jupyter-widgets/base",
      "model_module_version": "1.0.0",
      "model_name": "LayoutModel",
      "state": {}
     },
     "4ab1c97c472e4fc09b2974278646e9df": {
      "model_module": "@jupyter-widgets/base",
      "model_module_version": "1.0.0",
      "model_name": "LayoutModel",
      "state": {}
     },
     "4ad13304442d40baa3d428f0e5b9d9cb": {
      "model_module": "@jupyter-widgets/controls",
      "model_module_version": "1.0.0",
      "model_name": "HTMLModel",
      "state": {
       "layout": "IPY_MODEL_1ae85370f46640dc88edaa20cd3006b2",
       "style": "IPY_MODEL_7ffd8981617244a88fc1c02e286bfe24",
       "value": "<img src=\"interactive_image.png\" id=\"snapshot_id_3_1536958634641\"/>\n <div id=\"snapshot_id_4_1536958634641\">interactive_image.png</div>"
      }
     },
     "4af7c0fca58b4caaa843371a39b17c61": {
      "model_module": "@jupyter-widgets/controls",
      "model_module_version": "1.0.0",
      "model_name": "IntSliderModel",
      "state": {
       "description": "y",
       "layout": "IPY_MODEL_ebe40b8f892f458fbdd7c678e7848a35",
       "min": -100,
       "style": "IPY_MODEL_4d1e4482e0dd4a49965ee5bbc0a45503",
       "value": -31
      }
     },
     "4afc9f6b2965496b8c4aa6f3d4e2a0ac": {
      "model_module": "@jupyter-widgets/controls",
      "model_module_version": "1.0.0",
      "model_name": "IntSliderModel",
      "state": {
       "description": "green",
       "layout": "IPY_MODEL_02ffe96dc5a74646b3504b5fa40947b6",
       "max": 255,
       "style": "IPY_MODEL_592e87ac27974cb9a38ee1222677b585"
      }
     },
     "4b25c59894064cc8ae6544a6d9d773e1": {
      "model_module": "@jupyter-widgets/controls",
      "model_module_version": "1.0.0",
      "model_name": "SliderStyleModel",
      "state": {
       "description_width": ""
      }
     },
     "4b289351962a49d8885434db08b2260b": {
      "model_module": "@jupyter-widgets/base",
      "model_module_version": "1.0.0",
      "model_name": "LayoutModel",
      "state": {}
     },
     "4b90b496c17e48db933de51566ada666": {
      "model_module": "@jupyter-widgets/controls",
      "model_module_version": "1.0.0",
      "model_name": "HTMLModel",
      "state": {
       "layout": "IPY_MODEL_52dd35c21fa147b5ab730c0b62c7c4d4",
       "style": "IPY_MODEL_e5a3b89a6f29427f8fb4de0aab04a10e",
       "value": "<img src=\"interactive_circle.png\" id=\"snapshot_id_3_1536246246688\"/>\n <div id=\"snapshot_id_4_1536246246688\">interactive_circle.png</div>"
      }
     },
     "4b9a3d349d11466598208f0b66361fbd": {
      "model_module": "@jupyter-widgets/controls",
      "model_module_version": "1.0.0",
      "model_name": "SliderStyleModel",
      "state": {
       "description_width": ""
      }
     },
     "4b9bf59b0cb94d8991418a5e7ea8035a": {
      "model_module": "@jupyter-widgets/base",
      "model_module_version": "1.0.0",
      "model_name": "LayoutModel",
      "state": {}
     },
     "4bb4e556d3f74f52987e5ce2a471cdf4": {
      "model_module": "jp_proxy_widget",
      "model_module_version": "^0.3.4",
      "model_name": "JSProxyModel",
      "state": {
       "_model_module_version": "^0.3.4",
       "_send_counter": 2,
       "_view_module_version": "^0.3.4",
       "error_msg": "No error",
       "layout": "IPY_MODEL_24547a73d5b3471a984e1667a2d2ac82",
       "rendered": true,
       "status": "Got results."
      }
     },
     "4bc2dda9b9ad444aadf80842e589054e": {
      "model_module": "@jupyter-widgets/base",
      "model_module_version": "1.0.0",
      "model_name": "LayoutModel",
      "state": {}
     },
     "4bc77836274047259dd6a53fc61a70f4": {
      "model_module": "@jupyter-widgets/controls",
      "model_module_version": "1.0.0",
      "model_name": "SliderStyleModel",
      "state": {
       "description_width": ""
      }
     },
     "4bfc39b7ad2b4dd2b03437294ae8a494": {
      "model_module": "jp_proxy_widget",
      "model_module_version": "^0.3.4",
      "model_name": "JSProxyModel",
      "state": {
       "_model_module_version": "^0.3.4",
       "_send_counter": 2,
       "_view_module_version": "^0.3.4",
       "error_msg": "No error",
       "layout": "IPY_MODEL_11effc9b4d684044bac4a61fa0eacaa7",
       "rendered": true,
       "status": "Got results."
      }
     },
     "4c48691f515c41d6b5f8c569a5708577": {
      "model_module": "@jupyter-widgets/controls",
      "model_module_version": "1.0.0",
      "model_name": "SliderStyleModel",
      "state": {
       "description_width": ""
      }
     },
     "4c7b83a3e80741779596afa730e65ebc": {
      "model_module": "@jupyter-widgets/base",
      "model_module_version": "1.0.0",
      "model_name": "LayoutModel",
      "state": {}
     },
     "4c7e707786cb4c3dab46f3d0b8236e11": {
      "model_module": "@jupyter-widgets/controls",
      "model_module_version": "1.0.0",
      "model_name": "IntSliderModel",
      "state": {
       "description": "w",
       "layout": "IPY_MODEL_3810ae9521ad4feb9e41a2d0618526fd",
       "max": 300,
       "min": -300,
       "style": "IPY_MODEL_e85deeb3c32847b4a3e673804bbc61c6",
       "value": 10
      }
     },
     "4c809ac4793846b89d40a84782f7efde": {
      "model_module": "@jupyter-widgets/controls",
      "model_module_version": "1.0.0",
      "model_name": "IntSliderModel",
      "state": {
       "description": "blue",
       "layout": "IPY_MODEL_aa4bd49b733944568e690541d93119a1",
       "max": 255,
       "style": "IPY_MODEL_fd8923b361584ce9818b2443c511e6e6",
       "value": 255
      }
     },
     "4cc4fd032e55417bb4e967f67424ffe6": {
      "model_module": "@jupyter-widgets/controls",
      "model_module_version": "1.0.0",
      "model_name": "HTMLModel",
      "state": {
       "layout": "IPY_MODEL_0d1a798e411c4c01a1a7fa6531a4f574",
       "style": "IPY_MODEL_d32b53fb0605440ea0f1d8468f138f6b",
       "value": "<img src=\"interactive_image.png\" id=\"snapshot_id_23_1536960031040\"/>\n <div id=\"snapshot_id_24_1536960031040\">interactive_image.png</div>"
      }
     },
     "4ced25d8025447b6a1bdc6d08ee778e4": {
      "model_module": "@jupyter-widgets/controls",
      "model_module_version": "1.0.0",
      "model_name": "IntSliderModel",
      "state": {
       "description": "green",
       "layout": "IPY_MODEL_a5f69e78401948b983d55ffeef11322c",
       "max": 255,
       "style": "IPY_MODEL_0ffacdeea28a4d518cd9b36addba4e47"
      }
     },
     "4cf02ee63e8d4f1194850ca69ced4f86": {
      "model_module": "@jupyter-widgets/controls",
      "model_module_version": "1.0.0",
      "model_name": "IntSliderModel",
      "state": {
       "description": "sx",
       "layout": "IPY_MODEL_7a6de2fbbd7b4d97b8ffcf1bd47d2c75",
       "max": 90,
       "min": -30,
       "style": "IPY_MODEL_5253258db2094b85adfb0922e05a9bf6",
       "value": 30
      }
     },
     "4cfed11be5bd48028bd6eeaa7b3ee27e": {
      "model_module": "@jupyter-widgets/base",
      "model_module_version": "1.0.0",
      "model_name": "LayoutModel",
      "state": {}
     },
     "4d0d47a8cbf0435b9821330f7380181f": {
      "model_module": "@jupyter-widgets/base",
      "model_module_version": "1.0.0",
      "model_name": "LayoutModel",
      "state": {}
     },
     "4d1767f16ed54db48ec90fbeb63e1456": {
      "model_module": "@jupyter-widgets/base",
      "model_module_version": "1.0.0",
      "model_name": "LayoutModel",
      "state": {}
     },
     "4d1e4482e0dd4a49965ee5bbc0a45503": {
      "model_module": "@jupyter-widgets/controls",
      "model_module_version": "1.0.0",
      "model_name": "SliderStyleModel",
      "state": {
       "description_width": ""
      }
     },
     "4d3a2259cd6049dfbf4cfde90d435461": {
      "model_module": "@jupyter-widgets/base",
      "model_module_version": "1.0.0",
      "model_name": "LayoutModel",
      "state": {}
     },
     "4d3f305a35df4725be3caad1ee53f222": {
      "model_module": "@jupyter-widgets/base",
      "model_module_version": "1.0.0",
      "model_name": "LayoutModel",
      "state": {}
     },
     "4d495982ad2942908d04c803dece103a": {
      "model_module": "jp_proxy_widget",
      "model_module_version": "^0.3.4",
      "model_name": "JSProxyModel",
      "state": {
       "_model_module_version": "^0.3.4",
       "_send_counter": 2,
       "_view_module_version": "^0.3.4",
       "error_msg": "No error",
       "layout": "IPY_MODEL_5b639170bce84aa4b20075cf1ddbf6cf",
       "rendered": true,
       "status": "Got results."
      }
     },
     "4d4ac664337d4753b134a32a3a5ee48b": {
      "model_module": "@jupyter-widgets/controls",
      "model_module_version": "1.0.0",
      "model_name": "CheckboxModel",
      "state": {
       "description": "fill",
       "disabled": false,
       "layout": "IPY_MODEL_ae32ebc2ccce45afbd02a02f5d085753",
       "style": "IPY_MODEL_91790091169740d28c8f183230e49cb9",
       "value": true
      }
     },
     "4d4d91bb5a9241cbbc8d862533afaaa9": {
      "model_module": "jp_proxy_widget",
      "model_module_version": "^0.3.4",
      "model_name": "JSProxyModel",
      "state": {
       "_model_module_version": "^0.3.4",
       "_send_counter": 2,
       "_view_module_version": "^0.3.4",
       "error_msg": "No error",
       "layout": "IPY_MODEL_a1e1d96663cc4bcda5d37202f620607f",
       "rendered": true,
       "status": "Got results."
      }
     },
     "4d57ca66b9894897b8fe3d03c2c3460a": {
      "model_module": "@jupyter-widgets/controls",
      "model_module_version": "1.0.0",
      "model_name": "SliderStyleModel",
      "state": {
       "description_width": ""
      }
     },
     "4d7974b698f245e3b784f70761d959b8": {
      "model_module": "@jupyter-widgets/controls",
      "model_module_version": "1.0.0",
      "model_name": "IntSliderModel",
      "state": {
       "description": "blue",
       "layout": "IPY_MODEL_efa3bf782e794925a837c6159dd72847",
       "max": 255,
       "style": "IPY_MODEL_9f1f46c72a2e4d4ea894c49f2bb9e296",
       "value": 127
      }
     },
     "4d7dc592861040e481743ab21b7ca11e": {
      "model_module": "@jupyter-widgets/controls",
      "model_module_version": "1.0.0",
      "model_name": "VBoxModel",
      "state": {
       "children": [
        "IPY_MODEL_3ae80e42edc6492e9dc7fc09b1a1afb5",
        "IPY_MODEL_a06483f5d06e44038966140dbcfbed70"
       ],
       "layout": "IPY_MODEL_4aa5f589e1b7478dbf9a0f2260067363"
      }
     },
     "4d86f3d1ecdf4b6cb98919746a551bd3": {
      "model_module": "@jupyter-widgets/output",
      "model_module_version": "1.0.0",
      "model_name": "OutputModel",
      "state": {
       "layout": "IPY_MODEL_04222862bd364a5e8841f203658f8e94"
      }
     },
     "4d90df618aeb4498b2fe31a41b0f39f8": {
      "model_module": "@jupyter-widgets/controls",
      "model_module_version": "1.0.0",
      "model_name": "IntSliderModel",
      "state": {
       "description": "sx",
       "layout": "IPY_MODEL_e1c3c19caca343e08ef4d96e1aac07a0",
       "max": 600,
       "style": "IPY_MODEL_f3397c90093e4c3fb9b46186234853b0",
       "value": 30
      }
     },
     "4dbe75d5e0874cc380e9c6180e6838fa": {
      "model_module": "@jupyter-widgets/base",
      "model_module_version": "1.0.0",
      "model_name": "LayoutModel",
      "state": {}
     },
     "4dcdff024e914b58bb6b3468c4aa6ecb": {
      "model_module": "@jupyter-widgets/controls",
      "model_module_version": "1.0.0",
      "model_name": "TabModel",
      "state": {
       "_titles": {
        "0": "Canvas",
        "1": "Snapshot"
       },
       "children": [
        "IPY_MODEL_cf0f29811c1e4fe19a4da520a384bdb9",
        "IPY_MODEL_a0ce0e78cf2c45199ae9cc506964736f"
       ],
       "layout": "IPY_MODEL_0549ad3832a14c5eae86228413ea42ae"
      }
     },
     "4df9c4d1831d4dceb9ba1589c520bbde": {
      "model_module": "@jupyter-widgets/controls",
      "model_module_version": "1.0.0",
      "model_name": "SliderStyleModel",
      "state": {
       "description_width": ""
      }
     },
     "4e1d1a8733fc4cdbb4495a74bc300bd7": {
      "model_module": "@jupyter-widgets/controls",
      "model_module_version": "1.0.0",
      "model_name": "SliderStyleModel",
      "state": {
       "description_width": ""
      }
     },
     "4e3e6bd87d1c4f4298d8ad175902f6af": {
      "model_module": "@jupyter-widgets/controls",
      "model_module_version": "1.0.0",
      "model_name": "VBoxModel",
      "state": {
       "children": [
        "IPY_MODEL_6c83bff7d80c40acb408ccf9be7b5f21",
        "IPY_MODEL_4d4d91bb5a9241cbbc8d862533afaaa9"
       ],
       "layout": "IPY_MODEL_7ea303b8e1044f49a7541af2b3ca2759"
      }
     },
     "4e474971b7ee444eadc96a53044a7388": {
      "model_module": "@jupyter-widgets/base",
      "model_module_version": "1.0.0",
      "model_name": "LayoutModel",
      "state": {}
     },
     "4e72ba28cb424d8c83de3ca85bf1b7a4": {
      "model_module": "@jupyter-widgets/controls",
      "model_module_version": "1.0.0",
      "model_name": "SliderStyleModel",
      "state": {
       "description_width": ""
      }
     },
     "4e85ca2ee6ce4dd8b293e0b42f3b4f56": {
      "model_module": "@jupyter-widgets/controls",
      "model_module_version": "1.0.0",
      "model_name": "SliderStyleModel",
      "state": {
       "description_width": ""
      }
     },
     "4ea7cc0b3a494b209389574b14f990f4": {
      "model_module": "@jupyter-widgets/base",
      "model_module_version": "1.0.0",
      "model_name": "LayoutModel",
      "state": {}
     },
     "4ef993eb67774642bd48a4c780196768": {
      "model_module": "@jupyter-widgets/base",
      "model_module_version": "1.0.0",
      "model_name": "LayoutModel",
      "state": {}
     },
     "4f2ffd7b17e549be9b31a12f0b3e86e2": {
      "model_module": "@jupyter-widgets/controls",
      "model_module_version": "1.0.0",
      "model_name": "CheckboxModel",
      "state": {
       "description": "fill",
       "disabled": false,
       "layout": "IPY_MODEL_8cd3a0b0613942978ef8ec0c8f78cc0c",
       "style": "IPY_MODEL_fe75751d16454078b012b8d4221cefab",
       "value": false
      }
     },
     "4f35de2b9ff6431394c1a182df5691e5": {
      "model_module": "@jupyter-widgets/controls",
      "model_module_version": "1.0.0",
      "model_name": "SliderStyleModel",
      "state": {
       "description_width": ""
      }
     },
     "4f58712fcb3a4da788d882aa5a65d701": {
      "model_module": "@jupyter-widgets/base",
      "model_module_version": "1.0.0",
      "model_name": "LayoutModel",
      "state": {}
     },
     "4f591cb4b09d4d50a07e5de3a6c0ce13": {
      "model_module": "@jupyter-widgets/controls",
      "model_module_version": "1.0.0",
      "model_name": "VBoxModel",
      "state": {
       "children": [
        "IPY_MODEL_8e89decbe5734facba4b2723f3c118c0",
        "IPY_MODEL_b07e62c6c07d4814860ba92a0e58c38a"
       ],
       "layout": "IPY_MODEL_b23dbdcd7e59490e83482dd67ada8a81"
      }
     },
     "4f6224acd4be445786a9d4dae41bbb5a": {
      "model_module": "@jupyter-widgets/controls",
      "model_module_version": "1.0.0",
      "model_name": "SliderStyleModel",
      "state": {
       "description_width": ""
      }
     },
     "4f67d023507b402ba18c542e953f8890": {
      "model_module": "@jupyter-widgets/base",
      "model_module_version": "1.0.0",
      "model_name": "LayoutModel",
      "state": {}
     },
     "4f6ad3ad878d4109b669c27889752e15": {
      "model_module": "@jupyter-widgets/base",
      "model_module_version": "1.0.0",
      "model_name": "LayoutModel",
      "state": {}
     },
     "4f7b2ecb3a2b4fd59ca3e1e006c40469": {
      "model_module": "jp_proxy_widget",
      "model_module_version": "^0.3.4",
      "model_name": "JSProxyModel",
      "state": {
       "_model_module_version": "^0.3.4",
       "_send_counter": 2,
       "_view_module_version": "^0.3.4",
       "error_msg": "No error",
       "layout": "IPY_MODEL_c627df3f2b5044d08254aba41f4aaa2a",
       "rendered": true,
       "status": "Got results."
      }
     },
     "4f95c3887cf847779cfdc721203b7ac7": {
      "model_module": "@jupyter-widgets/base",
      "model_module_version": "1.0.0",
      "model_name": "LayoutModel",
      "state": {}
     },
     "4fb6befa28b34fbead7278019e69f7e8": {
      "model_module": "@jupyter-widgets/base",
      "model_module_version": "1.0.0",
      "model_name": "LayoutModel",
      "state": {}
     },
     "4fc8d499d97440abb4d02ebaff6a9700": {
      "model_module": "@jupyter-widgets/controls",
      "model_module_version": "1.0.0",
      "model_name": "SliderStyleModel",
      "state": {
       "description_width": ""
      }
     },
     "4fcabb2ea9944429a4d817eb777e7be1": {
      "model_module": "@jupyter-widgets/base",
      "model_module_version": "1.0.0",
      "model_name": "LayoutModel",
      "state": {}
     },
     "4fd3845a627b42dc8e304b676aa98450": {
      "model_module": "@jupyter-widgets/controls",
      "model_module_version": "1.0.0",
      "model_name": "SliderStyleModel",
      "state": {
       "description_width": ""
      }
     },
     "4fe0b62e95074f2ab51e3a5fd2b774a7": {
      "model_module": "jp_proxy_widget",
      "model_module_version": "^0.3.4",
      "model_name": "JSProxyModel",
      "state": {
       "_model_module_version": "^0.3.4",
       "_send_counter": 2,
       "_view_module_version": "^0.3.4",
       "error_msg": "No error",
       "layout": "IPY_MODEL_7feb5aca96e9452d887bbfb1fd8c1e01",
       "rendered": true,
       "status": "Got results."
      }
     },
     "500324cbd0b24191a4e7d0811d938612": {
      "model_module": "@jupyter-widgets/controls",
      "model_module_version": "1.0.0",
      "model_name": "SliderStyleModel",
      "state": {
       "description_width": ""
      }
     },
     "50191da8648c412b968ea7179cc4e00b": {
      "model_module": "@jupyter-widgets/base",
      "model_module_version": "1.0.0",
      "model_name": "LayoutModel",
      "state": {}
     },
     "5027fd4f925642d9b412dd5309ce1860": {
      "model_module": "@jupyter-widgets/base",
      "model_module_version": "1.0.0",
      "model_name": "LayoutModel",
      "state": {}
     },
     "50797ed82dd54ad8b7feb7f3bb5483ce": {
      "model_module": "@jupyter-widgets/base",
      "model_module_version": "1.0.0",
      "model_name": "LayoutModel",
      "state": {}
     },
     "50c5d544ea8e410db372b947bd6c544c": {
      "model_module": "@jupyter-widgets/base",
      "model_module_version": "1.0.0",
      "model_name": "LayoutModel",
      "state": {}
     },
     "50e2a8da7d5c4f42922499191d78f4d0": {
      "model_module": "@jupyter-widgets/base",
      "model_module_version": "1.0.0",
      "model_name": "LayoutModel",
      "state": {}
     },
     "50f37fc0a9244bdabc12ce7fabd60c65": {
      "model_module": "@jupyter-widgets/controls",
      "model_module_version": "1.0.0",
      "model_name": "SliderStyleModel",
      "state": {
       "description_width": ""
      }
     },
     "516c6731a9214bec998c47864ddf63f6": {
      "model_module": "@jupyter-widgets/controls",
      "model_module_version": "1.0.0",
      "model_name": "TabModel",
      "state": {
       "_titles": {
        "0": "Canvas",
        "1": "Snapshot"
       },
       "children": [
        "IPY_MODEL_9e3dad2f1ffe4789bdf8778a5651aad7",
        "IPY_MODEL_f5c4a9348e0f4ec38cd7c819fae3aa71"
       ],
       "layout": "IPY_MODEL_aca9c5619da7495fab991c1214b4643a",
       "selected_index": 1
      }
     },
     "5172de26bcab419f9741a15f4d02222f": {
      "model_module": "@jupyter-widgets/controls",
      "model_module_version": "1.0.0",
      "model_name": "IntSliderModel",
      "state": {
       "description": "sy",
       "layout": "IPY_MODEL_027f158faff448d1b4d9c5bb7c6b4d69",
       "max": 600,
       "style": "IPY_MODEL_149f62dd827046de8537b83f1aa1334c",
       "value": 15
      }
     },
     "51744c0083334ef2b624daf8052527f8": {
      "model_module": "@jupyter-widgets/controls",
      "model_module_version": "1.0.0",
      "model_name": "SliderStyleModel",
      "state": {
       "description_width": ""
      }
     },
     "5198649c3e604221a3fd1195ec348f38": {
      "model_module": "@jupyter-widgets/base",
      "model_module_version": "1.0.0",
      "model_name": "LayoutModel",
      "state": {}
     },
     "5199766345004bd1b8235ba248de015b": {
      "model_module": "jp_proxy_widget",
      "model_module_version": "^0.3.4",
      "model_name": "JSProxyModel",
      "state": {
       "_model_module_version": "^0.3.4",
       "_send_counter": 298,
       "_view_module_version": "^0.3.4",
       "error_msg": "No error",
       "layout": "IPY_MODEL_daa81e61b74947cc818a446fd80ed6ea",
       "rendered": true,
       "status": "Got results."
      }
     },
     "51a73dfa73cc4b13ae008e8867d871a3": {
      "model_module": "@jupyter-widgets/base",
      "model_module_version": "1.0.0",
      "model_name": "LayoutModel",
      "state": {}
     },
     "51a810326ae54838a6065c3631ad5bd3": {
      "model_module": "@jupyter-widgets/base",
      "model_module_version": "1.0.0",
      "model_name": "LayoutModel",
      "state": {}
     },
     "51e61da5c3f94f8f8472316bc4157c7b": {
      "model_module": "@jupyter-widgets/controls",
      "model_module_version": "1.0.0",
      "model_name": "SliderStyleModel",
      "state": {
       "description_width": ""
      }
     },
     "5219df53f7754cf7898e5c910facc49d": {
      "model_module": "@jupyter-widgets/controls",
      "model_module_version": "1.0.0",
      "model_name": "IntSliderModel",
      "state": {
       "description": "lineWidth",
       "layout": "IPY_MODEL_3f924d1212e94c4c98ebeff020b030f9",
       "max": 20,
       "style": "IPY_MODEL_41c6d7289a09447cae94c2eee94c6d89",
       "value": 7
      }
     },
     "524faaaf1bda4c4f9ac25d8a84ffbd62": {
      "model_module": "@jupyter-widgets/controls",
      "model_module_version": "1.0.0",
      "model_name": "SliderStyleModel",
      "state": {
       "description_width": ""
      }
     },
     "5253258db2094b85adfb0922e05a9bf6": {
      "model_module": "@jupyter-widgets/controls",
      "model_module_version": "1.0.0",
      "model_name": "SliderStyleModel",
      "state": {
       "description_width": ""
      }
     },
     "525bb4ec0d4445d692687c165d517fd6": {
      "model_module": "@jupyter-widgets/controls",
      "model_module_version": "1.0.0",
      "model_name": "DescriptionStyleModel",
      "state": {
       "description_width": ""
      }
     },
     "52629508090d47fcb7b2be2b4a594e3d": {
      "model_module": "jp_proxy_widget",
      "model_module_version": "^0.3.4",
      "model_name": "JSProxyModel",
      "state": {
       "_model_module_version": "^0.3.4",
       "_send_counter": 623,
       "_view_module_version": "^0.3.4",
       "error_msg": "No error",
       "layout": "IPY_MODEL_f2477f9b611448a2a57f7b3770d3ed55",
       "rendered": true,
       "status": "Got results."
      }
     },
     "526a27a2f7ad41c79312d9d48632750f": {
      "model_module": "@jupyter-widgets/controls",
      "model_module_version": "1.0.0",
      "model_name": "SliderStyleModel",
      "state": {
       "description_width": ""
      }
     },
     "527ed0c55c454b6e97440e8dd21fdb62": {
      "model_module": "@jupyter-widgets/controls",
      "model_module_version": "1.0.0",
      "model_name": "IntSliderModel",
      "state": {
       "description": "red",
       "layout": "IPY_MODEL_182e9477e458404da88ce6eb901786e4",
       "max": 255,
       "style": "IPY_MODEL_4a0a047496e94e5d87598225cd08f145",
       "value": 255
      }
     },
     "52a361e1c0af487c81897171b415279f": {
      "model_module": "@jupyter-widgets/controls",
      "model_module_version": "1.0.0",
      "model_name": "IntSliderModel",
      "state": {
       "description": "blue",
       "layout": "IPY_MODEL_93bda981be4a4b5c9ee1eb0cb30a27a3",
       "max": 255,
       "style": "IPY_MODEL_c2fcc600132e4b099cdcb5280ff2d0d7",
       "value": 255
      }
     },
     "52b7ca20f33b4a7392693f8fa90ef028": {
      "model_module": "@jupyter-widgets/base",
      "model_module_version": "1.0.0",
      "model_name": "LayoutModel",
      "state": {}
     },
     "52dd35c21fa147b5ab730c0b62c7c4d4": {
      "model_module": "@jupyter-widgets/base",
      "model_module_version": "1.0.0",
      "model_name": "LayoutModel",
      "state": {}
     },
     "52fb248847984e71a74b0de5cc2274a0": {
      "model_module": "@jupyter-widgets/controls",
      "model_module_version": "1.0.0",
      "model_name": "HTMLModel",
      "state": {
       "layout": "IPY_MODEL_075a08c4b40b4fb08c3c09feb464c993",
       "style": "IPY_MODEL_ee0d1bebee2c4617b38b941ce5046f46",
       "value": "<img src=\"interactive_rectangle.png\" id=\"snapshot_id_1_1536267072642\"/>\n <div id=\"snapshot_id_2_1536267072642\">interactive_rectangle.png</div>"
      }
     },
     "5300c2c95e8d4e2a83415581c598f82d": {
      "model_module": "@jupyter-widgets/controls",
      "model_module_version": "1.0.0",
      "model_name": "SliderStyleModel",
      "state": {
       "description_width": ""
      }
     },
     "530477f1c0fb47b7a36031836ced98ed": {
      "model_module": "@jupyter-widgets/controls",
      "model_module_version": "1.0.0",
      "model_name": "FloatSliderModel",
      "state": {
       "description": "alpha",
       "layout": "IPY_MODEL_3ec8030449244fe4aae93cc02895dfe9",
       "max": 1,
       "step": 0.1,
       "style": "IPY_MODEL_84776cacdb0c4316bf3eb07e8892d6d0",
       "value": 1
      }
     },
     "531ae58512f94b9998d8ed8759418349": {
      "model_module": "@jupyter-widgets/base",
      "model_module_version": "1.0.0",
      "model_name": "LayoutModel",
      "state": {}
     },
     "5327d1ddf39348679952e841cc38e2a8": {
      "model_module": "@jupyter-widgets/controls",
      "model_module_version": "1.0.0",
      "model_name": "VBoxModel",
      "state": {
       "_dom_classes": [
        "widget-interact"
       ],
       "children": [
        "IPY_MODEL_8e1f7c9d192d441790e097da67b928a0",
        "IPY_MODEL_03b9c31bbf114c5da61ab5d2b80d6b53",
        "IPY_MODEL_ee1ac6a411d44489b8fd420ee12d51a5",
        "IPY_MODEL_bd2d7bf4d24242fbb153647fd57ea5c8",
        "IPY_MODEL_23196bbb9ceb4b5791040a771bbd21b0",
        "IPY_MODEL_7cd2d028bc254b6f8d294dac06843509",
        "IPY_MODEL_e2bdd590eafb4b29bd45badd368b63ab",
        "IPY_MODEL_624f92d67461439dbcd569a36a295973",
        "IPY_MODEL_3b4f6500fca24898b560da161781e0d2",
        "IPY_MODEL_33de8342505245ba8a8a1ba17de3e0d9",
        "IPY_MODEL_3b625e03d92c4d8eaf5841f6fc92b6c2",
        "IPY_MODEL_f0738b71e72c4fa1b0a391346d81be15",
        "IPY_MODEL_39a570adedbd4d7dbbdd40a3cdc2f4a4"
       ],
       "layout": "IPY_MODEL_2d651863e2544820bc0a148fc5b6c65d"
      }
     },
     "5341a02c5479453fa7f391b2c6186bbc": {
      "model_module": "@jupyter-widgets/base",
      "model_module_version": "1.0.0",
      "model_name": "LayoutModel",
      "state": {}
     },
     "53486bd127fd45ae945f73df6e1153bf": {
      "model_module": "@jupyter-widgets/controls",
      "model_module_version": "1.0.0",
      "model_name": "IntSliderModel",
      "state": {
       "description": "green",
       "layout": "IPY_MODEL_6087dac426db4dbfab40b51f5b37985d",
       "max": 255,
       "style": "IPY_MODEL_37684bb7566c45bcac399dc568899113",
       "value": 127
      }
     },
     "53a3fe8142034ae8b0c19f28c450b896": {
      "model_module": "@jupyter-widgets/base",
      "model_module_version": "1.0.0",
      "model_name": "LayoutModel",
      "state": {}
     },
     "53ca6aa02bf241bbbdad97a8fd1358ee": {
      "model_module": "@jupyter-widgets/controls",
      "model_module_version": "1.0.0",
      "model_name": "IntSliderModel",
      "state": {
       "description": "blue",
       "layout": "IPY_MODEL_253caeaf32d743d08625923e6429970a",
       "max": 255,
       "style": "IPY_MODEL_cf4162e7f0d34b7f9796226a57216c5b",
       "value": 255
      }
     },
     "53cd1dd2905b44ee9982f6164d4e3852": {
      "model_module": "@jupyter-widgets/controls",
      "model_module_version": "1.0.0",
      "model_name": "IntSliderModel",
      "state": {
       "description": "r",
       "layout": "IPY_MODEL_29b67f2c596b4499a78ef084a1fb1a9f",
       "style": "IPY_MODEL_8515f031c10a4329ab9ad88eb373fb8a",
       "value": 50
      }
     },
     "53da87cb2dee42eead1b7d4856b99815": {
      "model_module": "@jupyter-widgets/base",
      "model_module_version": "1.0.0",
      "model_name": "LayoutModel",
      "state": {}
     },
     "542e491ac39140828b2c8147565330df": {
      "model_module": "@jupyter-widgets/controls",
      "model_module_version": "1.0.0",
      "model_name": "TabModel",
      "state": {
       "_titles": {
        "0": "Canvas",
        "1": "Snapshot"
       },
       "children": [
        "IPY_MODEL_6296a7f088444181a50cb700bea90c66",
        "IPY_MODEL_4b90b496c17e48db933de51566ada666"
       ],
       "layout": "IPY_MODEL_1deb3f53ba704c21a8990d4c59f978f8"
      }
     },
     "5434943fba5747058de020a94c3be2dd": {
      "model_module": "@jupyter-widgets/controls",
      "model_module_version": "1.0.0",
      "model_name": "SliderStyleModel",
      "state": {
       "description_width": ""
      }
     },
     "548681b9419845498ce0b180b6f43dd2": {
      "model_module": "jp_proxy_widget",
      "model_module_version": "^0.3.4",
      "model_name": "JSProxyModel",
      "state": {
       "_model_module_version": "^0.3.4",
       "_send_counter": 851,
       "_view_module_version": "^0.3.4",
       "error_msg": "No error",
       "layout": "IPY_MODEL_43335df01ac143f5bd7efb6415e22c52",
       "rendered": true,
       "status": "Got results."
      }
     },
     "548c4b2d07df456f98cfa8e9e4041b15": {
      "model_module": "@jupyter-widgets/controls",
      "model_module_version": "1.0.0",
      "model_name": "IntSliderModel",
      "state": {
       "description": "green",
       "layout": "IPY_MODEL_6576e9d653f2429c8715cf6b178e5123",
       "max": 255,
       "style": "IPY_MODEL_73e5fb468e134a7c868d006d7d7f16b4",
       "value": 153
      }
     },
     "54af61ffcfe54dea9157cd638550ee34": {
      "model_module": "@jupyter-widgets/base",
      "model_module_version": "1.0.0",
      "model_name": "LayoutModel",
      "state": {}
     },
     "54c8d986fcbd479382cd6c7681141c7c": {
      "model_module": "@jupyter-widgets/controls",
      "model_module_version": "1.0.0",
      "model_name": "SliderStyleModel",
      "state": {
       "description_width": ""
      }
     },
     "550204628bc449f384f28260bf092cc5": {
      "model_module": "@jupyter-widgets/controls",
      "model_module_version": "1.0.0",
      "model_name": "SliderStyleModel",
      "state": {
       "description_width": ""
      }
     },
     "5504c9b68256430d808135c0f542b41a": {
      "model_module": "@jupyter-widgets/controls",
      "model_module_version": "1.0.0",
      "model_name": "IntSliderModel",
      "state": {
       "description": "x",
       "layout": "IPY_MODEL_1c328b16b21a4814998eca9f69ff66bd",
       "min": -100,
       "style": "IPY_MODEL_a5db2d8b419a47b08f8dfca13524deec",
       "value": 26
      }
     },
     "550a034c89084e2593a03bb7774b5712": {
      "model_module": "@jupyter-widgets/controls",
      "model_module_version": "1.0.0",
      "model_name": "IntSliderModel",
      "state": {
       "description": "dx",
       "layout": "IPY_MODEL_d919f5d720e64059bf27feca2c76d681",
       "min": -100,
       "style": "IPY_MODEL_0217e51f2874443c8a2f90ad6241e90b",
       "value": -50
      }
     },
     "550a6dacc3ce40c2b07a6891de9e866c": {
      "model_module": "@jupyter-widgets/controls",
      "model_module_version": "1.0.0",
      "model_name": "VBoxModel",
      "state": {
       "_dom_classes": [
        "widget-interact"
       ],
       "children": [
        "IPY_MODEL_f5e705c30fec4d3488ac3fec21ddaeb1",
        "IPY_MODEL_f2c5e3d7dc7647ee96d68f93cd678e5c",
        "IPY_MODEL_95ea660bf80940b1861c35dd8b29b0e3",
        "IPY_MODEL_b32814a3909546348d771146e2cc04a5",
        "IPY_MODEL_07cea71eb023485c9026b8bfedc33150",
        "IPY_MODEL_58f80e5ce64c45409874b29bff43175c",
        "IPY_MODEL_ea99362f266a4e77a7f42eb24a6c7d11",
        "IPY_MODEL_3abd04a8adb0482296dc8eeb01405aa2",
        "IPY_MODEL_962fd963b8a34b459690737165e2682b",
        "IPY_MODEL_16892d5ba53447568a8748308e7bbad8",
        "IPY_MODEL_7895d0318ecf4cc49eba0188682100b7",
        "IPY_MODEL_bd03f2dc0e314aee9395e440a86b480c"
       ],
       "layout": "IPY_MODEL_9e9a47a314ac40818e6a2ff7c16ae1aa"
      }
     },
     "550f920564e34228a7d10ffdd31b298a": {
      "model_module": "@jupyter-widgets/base",
      "model_module_version": "1.0.0",
      "model_name": "LayoutModel",
      "state": {}
     },
     "55165924eb7f444897a5d09dc793feda": {
      "model_module": "@jupyter-widgets/controls",
      "model_module_version": "1.0.0",
      "model_name": "IntSliderModel",
      "state": {
       "description": "x",
       "layout": "IPY_MODEL_09677a9ab95347d28b305760c6f174e7",
       "min": -100,
       "style": "IPY_MODEL_09b9d669611b4f45977cf7521dfa5733"
      }
     },
     "55392b438df34f41831796518c710a1e": {
      "model_module": "@jupyter-widgets/base",
      "model_module_version": "1.0.0",
      "model_name": "LayoutModel",
      "state": {}
     },
     "5554471bf5774b0b83104352e0f61b59": {
      "model_module": "@jupyter-widgets/base",
      "model_module_version": "1.0.0",
      "model_name": "LayoutModel",
      "state": {}
     },
     "555b24f7f2fe400f84f5b81a6fe875ca": {
      "model_module": "@jupyter-widgets/base",
      "model_module_version": "1.0.0",
      "model_name": "LayoutModel",
      "state": {}
     },
     "556d9d566c4b4d099d582c7fe7b21600": {
      "model_module": "@jupyter-widgets/base",
      "model_module_version": "1.0.0",
      "model_name": "LayoutModel",
      "state": {}
     },
     "557fd89152c54643bf4d0ac1f46a0efa": {
      "model_module": "@jupyter-widgets/base",
      "model_module_version": "1.0.0",
      "model_name": "LayoutModel",
      "state": {}
     },
     "5592645c716746e39e7d59c51df49a70": {
      "model_module": "@jupyter-widgets/output",
      "model_module_version": "1.0.0",
      "model_name": "OutputModel",
      "state": {
       "layout": "IPY_MODEL_04d39ec9e7cf4f788b69f6aaaca6c74b"
      }
     },
     "55b26cd4ddb34215ae2f5f8e2a8ca7cb": {
      "model_module": "@jupyter-widgets/controls",
      "model_module_version": "1.0.0",
      "model_name": "HTMLModel",
      "state": {
       "layout": "IPY_MODEL_7e33c3c5c64f492da0732863c8f73828",
       "style": "IPY_MODEL_17489415cbdb4179a12fab805f035bf7",
       "value": "<img src=\"interactive_rectangle2.png\" id=\"snapshot_id_47_1536323892397\"/>\n <div id=\"snapshot_id_48_1536323892397\">interactive_rectangle2.png</div>"
      }
     },
     "55bc4d95cabc4e34b7cac4a2022ffebd": {
      "model_module": "jp_proxy_widget",
      "model_module_version": "^0.3.4",
      "model_name": "JSProxyModel",
      "state": {
       "_model_module_version": "^0.3.4",
       "_send_counter": 2,
       "_view_module_version": "^0.3.4",
       "error_msg": "No error",
       "layout": "IPY_MODEL_f04436ac82524dd18481cc34e6bc6989",
       "rendered": true,
       "status": "Got results."
      }
     },
     "55cef9dbc9314fb497d6d53b9550330d": {
      "model_module": "@jupyter-widgets/base",
      "model_module_version": "1.0.0",
      "model_name": "LayoutModel",
      "state": {}
     },
     "55e25fcb5ba14c129e4ff1c38fe2577f": {
      "model_module": "@jupyter-widgets/controls",
      "model_module_version": "1.0.0",
      "model_name": "TabModel",
      "state": {
       "_titles": {
        "0": "Canvas",
        "1": "Snapshot"
       },
       "children": [
        "IPY_MODEL_41a465916d704594bf10020ce9130e8e",
        "IPY_MODEL_ffa850661d08447ca0356de52696b2f7"
       ],
       "layout": "IPY_MODEL_fa557b579ffd4b80b187222183f9de82",
       "selected_index": 1
      }
     },
     "55fc557529ef4c9c90646b30a44967b1": {
      "model_module": "@jupyter-widgets/controls",
      "model_module_version": "1.0.0",
      "model_name": "IntSliderModel",
      "state": {
       "description": "h",
       "layout": "IPY_MODEL_957e1290120847d1bc378baa282e7176",
       "max": 300,
       "min": -300,
       "style": "IPY_MODEL_ed2ad9ae2cef4910b766bfe6b423e5c2",
       "value": 50
      }
     },
     "56101b5f613b48a582e234759b668cc3": {
      "model_module": "@jupyter-widgets/base",
      "model_module_version": "1.0.0",
      "model_name": "LayoutModel",
      "state": {}
     },
     "56189ed3b37f49aaa2b41352043e663f": {
      "model_module": "@jupyter-widgets/base",
      "model_module_version": "1.0.0",
      "model_name": "LayoutModel",
      "state": {}
     },
     "561abff454a34724b5dd4d16fed9ab61": {
      "model_module": "@jupyter-widgets/base",
      "model_module_version": "1.0.0",
      "model_name": "LayoutModel",
      "state": {}
     },
     "5620930d4d4242ee843c5d1dc830101d": {
      "model_module": "@jupyter-widgets/controls",
      "model_module_version": "1.0.0",
      "model_name": "IntSliderModel",
      "state": {
       "description": "red",
       "layout": "IPY_MODEL_9734a48831d9400bb5680062428c9bf3",
       "max": 255,
       "style": "IPY_MODEL_e8586e4267b249ef910b844b1d99e3d5",
       "value": 255
      }
     },
     "564320759de54b449c13694c5679bde0": {
      "model_module": "@jupyter-widgets/controls",
      "model_module_version": "1.0.0",
      "model_name": "SliderStyleModel",
      "state": {
       "description_width": ""
      }
     },
     "564d0b380d164a37b80aff183313009d": {
      "model_module": "@jupyter-widgets/controls",
      "model_module_version": "1.0.0",
      "model_name": "SliderStyleModel",
      "state": {
       "description_width": ""
      }
     },
     "56617b2f5f1b4ee2a05400e1398ff924": {
      "model_module": "@jupyter-widgets/controls",
      "model_module_version": "1.0.0",
      "model_name": "SliderStyleModel",
      "state": {
       "description_width": ""
      }
     },
     "567f32093dda4fb0b861f182148a2f93": {
      "model_module": "@jupyter-widgets/controls",
      "model_module_version": "1.0.0",
      "model_name": "VBoxModel",
      "state": {
       "_dom_classes": [
        "widget-interact"
       ],
       "children": [
        "IPY_MODEL_71dd05174d9640ed840584b1ff333298",
        "IPY_MODEL_d57d96059d1d4333a51ee9af939a8d09",
        "IPY_MODEL_95fed14a9c504dbdbe8bb33a15425ce0",
        "IPY_MODEL_3f31e04859ae47a4ac2242b0ad4cb3a8",
        "IPY_MODEL_86325f08f64d49b19314d5577d15a5e3",
        "IPY_MODEL_29f98982228a480b8ae6365c02dfedbe",
        "IPY_MODEL_94b07bdfd8ab42849472faaf3d6333d0",
        "IPY_MODEL_f22f0eae4c594be182fbbb08d151b064"
       ],
       "layout": "IPY_MODEL_378198a84e704fa2864bc67a88a7cf32"
      }
     },
     "56a3603eaaa844f0ba7563cf25b4c32c": {
      "model_module": "@jupyter-widgets/base",
      "model_module_version": "1.0.0",
      "model_name": "LayoutModel",
      "state": {}
     },
     "56d79001880a4f9191e1017062b27cf3": {
      "model_module": "@jupyter-widgets/base",
      "model_module_version": "1.0.0",
      "model_name": "LayoutModel",
      "state": {}
     },
     "56fb0298bbcc4a06a21c9ee43666dcfc": {
      "model_module": "@jupyter-widgets/controls",
      "model_module_version": "1.0.0",
      "model_name": "SliderStyleModel",
      "state": {
       "description_width": ""
      }
     },
     "5731f9f3dadf4b07b25917e7bca255b6": {
      "model_module": "@jupyter-widgets/controls",
      "model_module_version": "1.0.0",
      "model_name": "IntSliderModel",
      "state": {
       "description": "red",
       "layout": "IPY_MODEL_11c5f59ec26b4c4da592ae8e89b38d47",
       "max": 255,
       "style": "IPY_MODEL_3b9f01bcdb4347a9938e7b1a24c95ad5",
       "value": 255
      }
     },
     "57379ef972a042bbbae4d66672bbbf49": {
      "model_module": "@jupyter-widgets/controls",
      "model_module_version": "1.0.0",
      "model_name": "FloatSliderModel",
      "state": {
       "description": "alpha",
       "layout": "IPY_MODEL_31055da1faf849179e57bac70925eb6e",
       "max": 1,
       "step": 0.1,
       "style": "IPY_MODEL_01635c761dc347cc8e40ffd3d802a919",
       "value": 1
      }
     },
     "575d18eb29ed4d328263cf88d4443f12": {
      "model_module": "@jupyter-widgets/controls",
      "model_module_version": "1.0.0",
      "model_name": "IntSliderModel",
      "state": {
       "description": "dy",
       "layout": "IPY_MODEL_43da1a340ef740c6a2e3e035f9573200",
       "min": -100,
       "style": "IPY_MODEL_5b0d76106fda4f3c8a569a3a085c2534",
       "value": -25
      }
     },
     "576003ca3ad443ebaadd13f4ccc4435e": {
      "model_module": "@jupyter-widgets/controls",
      "model_module_version": "1.0.0",
      "model_name": "IntSliderModel",
      "state": {
       "description": "dy",
       "layout": "IPY_MODEL_6307efc8518a4f14bf3e522d377c7e27",
       "max": 300,
       "min": -300,
       "style": "IPY_MODEL_c0471b264a124c918cc1a8332addd713",
       "value": -25
      }
     },
     "5772e9302cf446c89dd02be81cf3bef3": {
      "model_module": "@jupyter-widgets/base",
      "model_module_version": "1.0.0",
      "model_name": "LayoutModel",
      "state": {}
     },
     "577aedbb1d904c649c733aecd58d83db": {
      "model_module": "@jupyter-widgets/controls",
      "model_module_version": "1.0.0",
      "model_name": "SliderStyleModel",
      "state": {
       "description_width": ""
      }
     },
     "579a2f8c3c314b3cb0ba47f3746dfd7e": {
      "model_module": "@jupyter-widgets/base",
      "model_module_version": "1.0.0",
      "model_name": "LayoutModel",
      "state": {}
     },
     "57d0523b00c04f79a784a983c12c2cee": {
      "model_module": "@jupyter-widgets/base",
      "model_module_version": "1.0.0",
      "model_name": "LayoutModel",
      "state": {}
     },
     "57fcb6511a72439ba54b7a1835ce9373": {
      "model_module": "@jupyter-widgets/controls",
      "model_module_version": "1.0.0",
      "model_name": "IntSliderModel",
      "state": {
       "description": "dx",
       "layout": "IPY_MODEL_b38c81cbff524c1d8eccbec8ba83f52a",
       "min": -100,
       "style": "IPY_MODEL_3112e381369e40eab9b3f2cfbcc48fcb",
       "value": -30
      }
     },
     "58019bee6d2c459396450b6c07d8c1e3": {
      "model_module": "@jupyter-widgets/base",
      "model_module_version": "1.0.0",
      "model_name": "LayoutModel",
      "state": {}
     },
     "5802f977a96a4cb0868143dd08549481": {
      "model_module": "@jupyter-widgets/controls",
      "model_module_version": "1.0.0",
      "model_name": "IntSliderModel",
      "state": {
       "description": "x",
       "layout": "IPY_MODEL_f847ca4b5c34462e8e7336c76c01c97b",
       "min": -100,
       "style": "IPY_MODEL_4870b8c7de1941a7a4634d842a99ce61",
       "value": -23
      }
     },
     "580ca465312040cb97f4de46e7e1ba87": {
      "model_module": "@jupyter-widgets/controls",
      "model_module_version": "1.0.0",
      "model_name": "IntSliderModel",
      "state": {
       "description": "dy",
       "layout": "IPY_MODEL_e8f90ab7f368471c8065f91cb0b05b98",
       "max": 300,
       "min": -300,
       "style": "IPY_MODEL_4239a2bf6a8c43c1bb7ddd92906e4738",
       "value": -25
      }
     },
     "58132c2268c547e78418fcdb2993164a": {
      "model_module": "@jupyter-widgets/base",
      "model_module_version": "1.0.0",
      "model_name": "LayoutModel",
      "state": {}
     },
     "5814e6229cce45fc9b5bb6063b7caec8": {
      "model_module": "@jupyter-widgets/base",
      "model_module_version": "1.0.0",
      "model_name": "LayoutModel",
      "state": {}
     },
     "58265be954484c2380cfce0cc4b69ef4": {
      "model_module": "@jupyter-widgets/controls",
      "model_module_version": "1.0.0",
      "model_name": "SliderStyleModel",
      "state": {
       "description_width": ""
      }
     },
     "582c697042cf4d14bdd610626ec289c5": {
      "model_module": "@jupyter-widgets/controls",
      "model_module_version": "1.0.0",
      "model_name": "IntSliderModel",
      "state": {
       "description": "sWidth",
       "layout": "IPY_MODEL_8aafe6eac7114500be4489db94fec115",
       "max": 600,
       "style": "IPY_MODEL_f66f41791aac43b183608019c51db27c",
       "value": 18
      }
     },
     "5855e1b67eda454d844c08db1e2517e6": {
      "model_module": "@jupyter-widgets/base",
      "model_module_version": "1.0.0",
      "model_name": "LayoutModel",
      "state": {}
     },
     "58ab7ae448434ef9ab457f1380e96c0b": {
      "model_module": "@jupyter-widgets/controls",
      "model_module_version": "1.0.0",
      "model_name": "DescriptionStyleModel",
      "state": {
       "description_width": ""
      }
     },
     "58f80e5ce64c45409874b29bff43175c": {
      "model_module": "@jupyter-widgets/controls",
      "model_module_version": "1.0.0",
      "model_name": "CheckboxModel",
      "state": {
       "description": "fill",
       "disabled": false,
       "layout": "IPY_MODEL_143b40abd0c74a17ad2101fc0641b2b3",
       "style": "IPY_MODEL_ead796fc3a1d4c3d8adb40e912cec8f2",
       "value": false
      }
     },
     "592e87ac27974cb9a38ee1222677b585": {
      "model_module": "@jupyter-widgets/controls",
      "model_module_version": "1.0.0",
      "model_name": "SliderStyleModel",
      "state": {
       "description_width": ""
      }
     },
     "5933621444114d4ab5a994f0ded88e3f": {
      "model_module": "@jupyter-widgets/controls",
      "model_module_version": "1.0.0",
      "model_name": "DescriptionStyleModel",
      "state": {
       "description_width": ""
      }
     },
     "5956e81c07a44f5098ab7f63476b1f7e": {
      "model_module": "@jupyter-widgets/controls",
      "model_module_version": "1.0.0",
      "model_name": "DescriptionStyleModel",
      "state": {
       "description_width": ""
      }
     },
     "59846e888ea2498287aff5e4b78ba4fe": {
      "model_module": "@jupyter-widgets/controls",
      "model_module_version": "1.0.0",
      "model_name": "SliderStyleModel",
      "state": {
       "description_width": ""
      }
     },
     "59fa78487ee5441aba21f7d5775e750c": {
      "model_module": "@jupyter-widgets/controls",
      "model_module_version": "1.0.0",
      "model_name": "SliderStyleModel",
      "state": {
       "description_width": ""
      }
     },
     "59fed05fbec546849a66b9f6c87f0070": {
      "model_module": "@jupyter-widgets/controls",
      "model_module_version": "1.0.0",
      "model_name": "SliderStyleModel",
      "state": {
       "description_width": ""
      }
     },
     "5a099e350c7a4ce5b1acf3961d49a60c": {
      "model_module": "@jupyter-widgets/controls",
      "model_module_version": "1.0.0",
      "model_name": "FloatSliderModel",
      "state": {
       "description": "arc",
       "layout": "IPY_MODEL_4392b306158b4b6bb331aea9b210afe8",
       "max": 6.283185307179586,
       "step": 0.1,
       "style": "IPY_MODEL_7934e4b314d04c60a45959b29c2a3350",
       "value": 6.2
      }
     },
     "5a37f347672e48bd8f2a78eaaaf41828": {
      "model_module": "@jupyter-widgets/controls",
      "model_module_version": "1.0.0",
      "model_name": "DescriptionStyleModel",
      "state": {
       "description_width": ""
      }
     },
     "5a3b78b492ae4dcdb14c792d743025ac": {
      "model_module": "@jupyter-widgets/base",
      "model_module_version": "1.0.0",
      "model_name": "LayoutModel",
      "state": {}
     },
     "5a5b7a2cbb11488a8c43156a6c50f757": {
      "model_module": "@jupyter-widgets/base",
      "model_module_version": "1.0.0",
      "model_name": "LayoutModel",
      "state": {}
     },
     "5a68293086bf4e61bea025d6d33ac74f": {
      "model_module": "@jupyter-widgets/base",
      "model_module_version": "1.0.0",
      "model_name": "LayoutModel",
      "state": {}
     },
     "5a7811c8a1ef4959b716c7298582daca": {
      "model_module": "@jupyter-widgets/controls",
      "model_module_version": "1.0.0",
      "model_name": "DescriptionStyleModel",
      "state": {
       "description_width": ""
      }
     },
     "5a7e8eb1300749dda22c3f637d791ba6": {
      "model_module": "@jupyter-widgets/controls",
      "model_module_version": "1.0.0",
      "model_name": "SliderStyleModel",
      "state": {
       "description_width": ""
      }
     },
     "5a85a914431f4a858d985f2fc999a4fe": {
      "model_module": "@jupyter-widgets/controls",
      "model_module_version": "1.0.0",
      "model_name": "IntSliderModel",
      "state": {
       "description": "blue",
       "layout": "IPY_MODEL_3c312d48f827487bb5615bb3681d9f75",
       "max": 255,
       "style": "IPY_MODEL_13d3fe13e99b498dbd1e027865445c76",
       "value": 255
      }
     },
     "5a8d6f46a8084d5e92434335feabb89c": {
      "model_module": "@jupyter-widgets/controls",
      "model_module_version": "1.0.0",
      "model_name": "IntSliderModel",
      "state": {
       "description": "x",
       "layout": "IPY_MODEL_19b4ed31efd644f989464e0e904b27fb",
       "min": -100,
       "style": "IPY_MODEL_2e34cd67022644ac94e51be481464a52"
      }
     },
     "5a95b45ed81b4302a25366e8363eb67b": {
      "model_module": "@jupyter-widgets/controls",
      "model_module_version": "1.0.0",
      "model_name": "TabModel",
      "state": {
       "_titles": {
        "0": "Canvas",
        "1": "Snapshot"
       },
       "children": [
        "IPY_MODEL_0c9b20fa6f0342f89eede01647a3e169",
        "IPY_MODEL_095662c712264a84874ace2ee25f9b12"
       ],
       "layout": "IPY_MODEL_f7bd49fe65e045bdb3d5332f42390d7d"
      }
     },
     "5a9dae84f4cf42cfb6dfae572f1ab26b": {
      "model_module": "@jupyter-widgets/controls",
      "model_module_version": "1.0.0",
      "model_name": "SliderStyleModel",
      "state": {
       "description_width": ""
      }
     },
     "5ad9f0e3c48b4fe1ae9767419e2e2289": {
      "model_module": "@jupyter-widgets/controls",
      "model_module_version": "1.0.0",
      "model_name": "DescriptionStyleModel",
      "state": {
       "description_width": ""
      }
     },
     "5ae202ab10df4fb1bf68f12c56ac06f3": {
      "model_module": "@jupyter-widgets/base",
      "model_module_version": "1.0.0",
      "model_name": "LayoutModel",
      "state": {}
     },
     "5b00a32788d7476eada0d76766fe5fca": {
      "model_module": "@jupyter-widgets/base",
      "model_module_version": "1.0.0",
      "model_name": "LayoutModel",
      "state": {}
     },
     "5b041f78229d452f978c6a226f89bb2c": {
      "model_module": "@jupyter-widgets/controls",
      "model_module_version": "1.0.0",
      "model_name": "IntSliderModel",
      "state": {
       "description": "r",
       "layout": "IPY_MODEL_c051e60ad16e4262b6ba4ae9b9828076",
       "style": "IPY_MODEL_577aedbb1d904c649c733aecd58d83db",
       "value": 50
      }
     },
     "5b0d76106fda4f3c8a569a3a085c2534": {
      "model_module": "@jupyter-widgets/controls",
      "model_module_version": "1.0.0",
      "model_name": "SliderStyleModel",
      "state": {
       "description_width": ""
      }
     },
     "5b2ab2261872491fae0606f5a486bc74": {
      "model_module": "@jupyter-widgets/controls",
      "model_module_version": "1.0.0",
      "model_name": "IntSliderModel",
      "state": {
       "description": "lineWidth",
       "layout": "IPY_MODEL_e18626c761a34850b9e34f1b6818b9ae",
       "max": 20,
       "style": "IPY_MODEL_6ea8e3c6b0974b47958541b17601c079",
       "value": 3
      }
     },
     "5b33747b426b477f9a60bfd1128a65fd": {
      "model_module": "@jupyter-widgets/controls",
      "model_module_version": "1.0.0",
      "model_name": "SliderStyleModel",
      "state": {
       "description_width": ""
      }
     },
     "5b34794fac084797b4f378f9e12a34a3": {
      "model_module": "@jupyter-widgets/base",
      "model_module_version": "1.0.0",
      "model_name": "LayoutModel",
      "state": {}
     },
     "5b3fd46a23b04c3b8784d83d2ef292ac": {
      "model_module": "@jupyter-widgets/controls",
      "model_module_version": "1.0.0",
      "model_name": "FloatSliderModel",
      "state": {
       "description": "start",
       "layout": "IPY_MODEL_42ac1e9ba8d44f048a605cb200f0714d",
       "max": 6.283185307179586,
       "step": 0.1,
       "style": "IPY_MODEL_64325dbcb24f47be93ed8a9c8d3463f2",
       "value": 1.2
      }
     },
     "5b43c0e559dc4732a6848c99389f9ce0": {
      "model_module": "@jupyter-widgets/controls",
      "model_module_version": "1.0.0",
      "model_name": "HTMLModel",
      "state": {
       "layout": "IPY_MODEL_cea452d7705f434f95dbffe362646d71",
       "style": "IPY_MODEL_a4878b73067548d78b014d7d1c282b7a",
       "value": "<img src=\"interactive_rectangle.png\" id=\"snapshot_id_37_1536323684655\"/>\n <div id=\"snapshot_id_38_1536323684655\">interactive_rectangle.png</div>"
      }
     },
     "5b639170bce84aa4b20075cf1ddbf6cf": {
      "model_module": "@jupyter-widgets/base",
      "model_module_version": "1.0.0",
      "model_name": "LayoutModel",
      "state": {}
     },
     "5b685f19286e444ab77d775980f2afec": {
      "model_module": "@jupyter-widgets/base",
      "model_module_version": "1.0.0",
      "model_name": "LayoutModel",
      "state": {}
     },
     "5b877241ffe94a1f824204f242725880": {
      "model_module": "@jupyter-widgets/controls",
      "model_module_version": "1.0.0",
      "model_name": "SliderStyleModel",
      "state": {
       "description_width": ""
      }
     },
     "5b8e952740c744e5b88b23014164a2e6": {
      "model_module": "@jupyter-widgets/controls",
      "model_module_version": "1.0.0",
      "model_name": "SliderStyleModel",
      "state": {
       "description_width": ""
      }
     },
     "5b930436d2ec46a4bacd2d556fcd400f": {
      "model_module": "@jupyter-widgets/controls",
      "model_module_version": "1.0.0",
      "model_name": "SliderStyleModel",
      "state": {
       "description_width": ""
      }
     },
     "5bc86fe162074d7e9b337fe205a9f53c": {
      "model_module": "@jupyter-widgets/base",
      "model_module_version": "1.0.0",
      "model_name": "LayoutModel",
      "state": {}
     },
     "5bd59eb981634666817c32ff405d8373": {
      "model_module": "@jupyter-widgets/base",
      "model_module_version": "1.0.0",
      "model_name": "LayoutModel",
      "state": {}
     },
     "5bd6716f40d64b51a3fa4d9d6eb20b93": {
      "model_module": "@jupyter-widgets/controls",
      "model_module_version": "1.0.0",
      "model_name": "IntSliderModel",
      "state": {
       "description": "degrees",
       "layout": "IPY_MODEL_6a4ba9b461b640d9b0b8281e6303fa31",
       "max": 360,
       "min": -360,
       "style": "IPY_MODEL_d3361b9f65724648ae68d6f30878cf24",
       "value": 95
      }
     },
     "5be64bc9a28c4098989690d44ea350ac": {
      "model_module": "@jupyter-widgets/base",
      "model_module_version": "1.0.0",
      "model_name": "LayoutModel",
      "state": {}
     },
     "5c3df0a644564f3abfa2d309fbd6c0cf": {
      "model_module": "@jupyter-widgets/controls",
      "model_module_version": "1.0.0",
      "model_name": "IntSliderModel",
      "state": {
       "description": "w",
       "layout": "IPY_MODEL_d8e2262e5a4c4ebfbab4e4e351031511",
       "max": 300,
       "min": -300,
       "style": "IPY_MODEL_092491e84d704b03a093ac4070a52555",
       "value": 10
      }
     },
     "5c4393d40f2040c2bc5af343689e425e": {
      "model_module": "@jupyter-widgets/base",
      "model_module_version": "1.0.0",
      "model_name": "LayoutModel",
      "state": {}
     },
     "5c668aa23f9145d3afd5cab13193b2ba": {
      "model_module": "@jupyter-widgets/output",
      "model_module_version": "1.0.0",
      "model_name": "OutputModel",
      "state": {
       "layout": "IPY_MODEL_da9169aa4f7e4d1e8cc2679672d489c1"
      }
     },
     "5c80e166e06a4cc9a8fbac324adbb7ac": {
      "model_module": "@jupyter-widgets/output",
      "model_module_version": "1.0.0",
      "model_name": "OutputModel",
      "state": {
       "layout": "IPY_MODEL_0471fb02c3b1445cb643143b3131ff0e"
      }
     },
     "5c8502e0d7534ddc99ad6e7554a031dc": {
      "model_module": "@jupyter-widgets/controls",
      "model_module_version": "1.0.0",
      "model_name": "SliderStyleModel",
      "state": {
       "description_width": ""
      }
     },
     "5ca188b730494e439cc43d335abe4a70": {
      "model_module": "@jupyter-widgets/base",
      "model_module_version": "1.0.0",
      "model_name": "LayoutModel",
      "state": {}
     },
     "5ca3f726dcba4713a8f372a5c8bce38d": {
      "model_module": "@jupyter-widgets/base",
      "model_module_version": "1.0.0",
      "model_name": "LayoutModel",
      "state": {}
     },
     "5ca5a895b3584ca68e205b40041d6c75": {
      "model_module": "@jupyter-widgets/base",
      "model_module_version": "1.0.0",
      "model_name": "LayoutModel",
      "state": {}
     },
     "5cae9cd0839d460f8c9c083ef5787246": {
      "model_module": "jp_proxy_widget",
      "model_module_version": "^0.3.4",
      "model_name": "JSProxyModel",
      "state": {
       "_model_module_version": "^0.3.4",
       "_send_counter": 2,
       "_view_module_version": "^0.3.4",
       "error_msg": "No error",
       "layout": "IPY_MODEL_278761cef79a4074836119b8b0222f88",
       "rendered": true,
       "status": "Got results."
      }
     },
     "5caef0a5004e4315a212fb9303d9ab20": {
      "model_module": "@jupyter-widgets/base",
      "model_module_version": "1.0.0",
      "model_name": "LayoutModel",
      "state": {}
     },
     "5cc045cc2f60427082e94a2ad018dd2a": {
      "model_module": "@jupyter-widgets/controls",
      "model_module_version": "1.0.0",
      "model_name": "IntSliderModel",
      "state": {
       "description": "degrees",
       "layout": "IPY_MODEL_ecb1baf7a7d849bf901f6b38c4d5a5c9",
       "max": 360,
       "min": -360,
       "style": "IPY_MODEL_5434943fba5747058de020a94c3be2dd",
       "value": 162
      }
     },
     "5cc75a57db0a4c9288e887c6bb1ee24a": {
      "model_module": "@jupyter-widgets/base",
      "model_module_version": "1.0.0",
      "model_name": "LayoutModel",
      "state": {}
     },
     "5ce051275ef54c379c8c113ad2438a21": {
      "model_module": "@jupyter-widgets/base",
      "model_module_version": "1.0.0",
      "model_name": "LayoutModel",
      "state": {}
     },
     "5cf3cac98ec2425d8288506ecd9be9d5": {
      "model_module": "@jupyter-widgets/controls",
      "model_module_version": "1.0.0",
      "model_name": "SliderStyleModel",
      "state": {
       "description_width": ""
      }
     },
     "5d3a3b3f80634ec1a6744b7f7a79a519": {
      "model_module": "jp_proxy_widget",
      "model_module_version": "^0.3.4",
      "model_name": "JSProxyModel",
      "state": {
       "_model_module_version": "^0.3.4",
       "_send_counter": 20,
       "_view_module_version": "^0.3.4",
       "error_msg": "No error",
       "layout": "IPY_MODEL_76b992c74e704e72b70e270e78e5bab9",
       "rendered": true,
       "status": "Got results."
      }
     },
     "5d4a8dccf1ff40cc975e3d8f9dad6777": {
      "model_module": "@jupyter-widgets/controls",
      "model_module_version": "1.0.0",
      "model_name": "SliderStyleModel",
      "state": {
       "description_width": ""
      }
     },
     "5d4ba6c18e7240f7adebb714867d048d": {
      "model_module": "@jupyter-widgets/base",
      "model_module_version": "1.0.0",
      "model_name": "LayoutModel",
      "state": {}
     },
     "5d4ed3cf2fbe4255b15c962e173d47eb": {
      "model_module": "@jupyter-widgets/base",
      "model_module_version": "1.0.0",
      "model_name": "LayoutModel",
      "state": {}
     },
     "5d69ed3ff2f74b48a32ccf4497d84cd5": {
      "model_module": "@jupyter-widgets/base",
      "model_module_version": "1.0.0",
      "model_name": "LayoutModel",
      "state": {}
     },
     "5d83b332562f4b52b462dd8436e966ae": {
      "model_module": "@jupyter-widgets/base",
      "model_module_version": "1.0.0",
      "model_name": "LayoutModel",
      "state": {}
     },
     "5dab7ad9b23a4aefbc48e901d2dc5c79": {
      "model_module": "jp_proxy_widget",
      "model_module_version": "^0.3.4",
      "model_name": "JSProxyModel",
      "state": {
       "_model_module_version": "^0.3.4",
       "_send_counter": 2,
       "_view_module_version": "^0.3.4",
       "error_msg": "No error",
       "layout": "IPY_MODEL_fa8412402ec34e09a339adf095c6de1a",
       "rendered": true,
       "status": "Got results."
      }
     },
     "5ddae8e746174b0e8a3d522910ca6ec2": {
      "model_module": "@jupyter-widgets/controls",
      "model_module_version": "1.0.0",
      "model_name": "IntSliderModel",
      "state": {
       "description": "w",
       "layout": "IPY_MODEL_dd5c42b76ef6466e95373b52b53a0654",
       "max": 300,
       "min": -300,
       "style": "IPY_MODEL_293d1cecc11c4e92b515026e1832008a",
       "value": 60
      }
     },
     "5deb7680091c4c6b82dce909f8223c13": {
      "model_module": "@jupyter-widgets/base",
      "model_module_version": "1.0.0",
      "model_name": "LayoutModel",
      "state": {}
     },
     "5dffa2baa6f1413b999e413091b424c9": {
      "model_module": "@jupyter-widgets/base",
      "model_module_version": "1.0.0",
      "model_name": "LayoutModel",
      "state": {}
     },
     "5e2b968defc0470fbfa8d7c89bdddd99": {
      "model_module": "@jupyter-widgets/controls",
      "model_module_version": "1.0.0",
      "model_name": "TabModel",
      "state": {
       "_titles": {
        "0": "Canvas",
        "1": "Snapshot"
       },
       "children": [
        "IPY_MODEL_95d9c5df64524a6cb45ef36ad039f7d2",
        "IPY_MODEL_52fb248847984e71a74b0de5cc2274a0"
       ],
       "layout": "IPY_MODEL_a2014374aa78441ab489babe6bf459df"
      }
     },
     "5e2d2b3dedb841f68b4809b78f3067bb": {
      "model_module": "@jupyter-widgets/controls",
      "model_module_version": "1.0.0",
      "model_name": "SliderStyleModel",
      "state": {
       "description_width": ""
      }
     },
     "5e31210eb5f0429ea58f29f49e88fa10": {
      "model_module": "@jupyter-widgets/base",
      "model_module_version": "1.0.0",
      "model_name": "LayoutModel",
      "state": {}
     },
     "5e31e23242f54e538493ed95103f0559": {
      "model_module": "@jupyter-widgets/base",
      "model_module_version": "1.0.0",
      "model_name": "LayoutModel",
      "state": {}
     },
     "5e87c4a6c0d2406b9793f388914a81aa": {
      "model_module": "@jupyter-widgets/controls",
      "model_module_version": "1.0.0",
      "model_name": "SliderStyleModel",
      "state": {
       "description_width": ""
      }
     },
     "5e8de4973518427095d773ea3eaa2419": {
      "model_module": "@jupyter-widgets/controls",
      "model_module_version": "1.0.0",
      "model_name": "SliderStyleModel",
      "state": {
       "description_width": ""
      }
     },
     "5ebe0764df31438b9fbd275a98af4562": {
      "model_module": "@jupyter-widgets/base",
      "model_module_version": "1.0.0",
      "model_name": "LayoutModel",
      "state": {}
     },
     "5f23aa8eb35946b4afd3317b9c342d13": {
      "model_module": "@jupyter-widgets/controls",
      "model_module_version": "1.0.0",
      "model_name": "FloatSliderModel",
      "state": {
       "description": "alpha",
       "layout": "IPY_MODEL_807e39d5b37542359a5f272bdbd05715",
       "max": 1,
       "step": 0.1,
       "style": "IPY_MODEL_d1650c137f8443c7a95fc490533752eb",
       "value": 1
      }
     },
     "5f37afd8cd284f9e9ac5f200c87dcf80": {
      "model_module": "@jupyter-widgets/base",
      "model_module_version": "1.0.0",
      "model_name": "LayoutModel",
      "state": {}
     },
     "5f605a3c0bf94dd7b50caaa65efc0ffa": {
      "model_module": "@jupyter-widgets/controls",
      "model_module_version": "1.0.0",
      "model_name": "FloatSliderModel",
      "state": {
       "description": "alpha",
       "layout": "IPY_MODEL_24527cb028fc4366a60ff6d4e3deb435",
       "max": 1,
       "step": 0.1,
       "style": "IPY_MODEL_5b930436d2ec46a4bacd2d556fcd400f",
       "value": 0.5
      }
     },
     "5f71c0e3f729442e9cdf7bdf989171e4": {
      "model_module": "@jupyter-widgets/base",
      "model_module_version": "1.0.0",
      "model_name": "LayoutModel",
      "state": {}
     },
     "5f7284fceea0493e953211c6dad98176": {
      "model_module": "@jupyter-widgets/controls",
      "model_module_version": "1.0.0",
      "model_name": "SliderStyleModel",
      "state": {
       "description_width": ""
      }
     },
     "5f919fb8c9894913a10fa9b09b222291": {
      "model_module": "@jupyter-widgets/base",
      "model_module_version": "1.0.0",
      "model_name": "LayoutModel",
      "state": {}
     },
     "5fa5c4bc9e624ce98afc5cadc72efcd8": {
      "model_module": "@jupyter-widgets/base",
      "model_module_version": "1.0.0",
      "model_name": "LayoutModel",
      "state": {}
     },
     "5fa631712ea54d6fb470d2d91c01b04e": {
      "model_module": "@jupyter-widgets/controls",
      "model_module_version": "1.0.0",
      "model_name": "DescriptionStyleModel",
      "state": {
       "description_width": ""
      }
     },
     "5fcaae6f8ffc4b9fb2daeda92a707e31": {
      "model_module": "@jupyter-widgets/controls",
      "model_module_version": "1.0.0",
      "model_name": "TabModel",
      "state": {
       "_titles": {
        "0": "Canvas",
        "1": "Snapshot"
       },
       "children": [
        "IPY_MODEL_48cf2275ed4f4b34a3490a76428d821d",
        "IPY_MODEL_cf1cd974fad04b02a58355653fd391e1"
       ],
       "layout": "IPY_MODEL_1cee3fc2eacd4f5c9caeb1a5d2b1f71b"
      }
     },
     "5fd66191b18246f8ace0c8f2d90afa26": {
      "model_module": "@jupyter-widgets/controls",
      "model_module_version": "1.0.0",
      "model_name": "IntSliderModel",
      "state": {
       "description": "red",
       "layout": "IPY_MODEL_b0c9a842d4af4dda9c0362edb30fdd31",
       "max": 255,
       "style": "IPY_MODEL_8f049360ac2e4f72bd1d86054e5c7d7c",
       "value": 127
      }
     },
     "5fdc71e79e244e9ba11069045976f111": {
      "model_module": "@jupyter-widgets/controls",
      "model_module_version": "1.0.0",
      "model_name": "IntSliderModel",
      "state": {
       "description": "blue",
       "layout": "IPY_MODEL_f36a8890b4a644d58fbd821584a36883",
       "max": 255,
       "style": "IPY_MODEL_d795fc1c655a4c2983521394b5ed6597",
       "value": 255
      }
     },
     "60089789060445b09495f2a73886d7fa": {
      "model_module": "@jupyter-widgets/base",
      "model_module_version": "1.0.0",
      "model_name": "LayoutModel",
      "state": {}
     },
     "60101c54f7ac44b18afcd8d633a79830": {
      "model_module": "@jupyter-widgets/controls",
      "model_module_version": "1.0.0",
      "model_name": "TabModel",
      "state": {
       "_titles": {
        "0": "Canvas",
        "1": "Snapshot"
       },
       "children": [
        "IPY_MODEL_227a1c76e4db484fba14540b4b9134d9",
        "IPY_MODEL_4951713c59b2453ca2a121801a4b51fa"
       ],
       "layout": "IPY_MODEL_77f7355e4afc4e1baf658fc4c61590ec"
      }
     },
     "6013faeeb3f54e0c92e71fa3dd152aa4": {
      "model_module": "@jupyter-widgets/controls",
      "model_module_version": "1.0.0",
      "model_name": "HTMLModel",
      "state": {
       "layout": "IPY_MODEL_663526034e0a4bca85bbdcac8ba872b7",
       "style": "IPY_MODEL_e08df3d34c844af6ad6882c76d7c9cfd",
       "value": "<img src=\"interactive_circle.png\" id=\"snapshot_id_5_1536246292173\"/>\n <div id=\"snapshot_id_6_1536246292173\">interactive_circle.png</div>"
      }
     },
     "6017fa86fd384e408a87fa5d37cac8c8": {
      "model_module": "@jupyter-widgets/controls",
      "model_module_version": "1.0.0",
      "model_name": "VBoxModel",
      "state": {
       "children": [
        "IPY_MODEL_82dc4c213bb34d06991fc27f9b6a3263",
        "IPY_MODEL_70bed7192989422b8d39d815d5927246"
       ],
       "layout": "IPY_MODEL_9497283747b64dc6a1815b085234c5de"
      }
     },
     "605e482b5da1423fb1480bb9340df729": {
      "model_module": "@jupyter-widgets/base",
      "model_module_version": "1.0.0",
      "model_name": "LayoutModel",
      "state": {}
     },
     "606a3d3081df41feba38cf18d7bb14fb": {
      "model_module": "@jupyter-widgets/controls",
      "model_module_version": "1.0.0",
      "model_name": "SliderStyleModel",
      "state": {
       "description_width": ""
      }
     },
     "60711ad324264ea1bbf7a9d4cbc89030": {
      "model_module": "@jupyter-widgets/controls",
      "model_module_version": "1.0.0",
      "model_name": "SliderStyleModel",
      "state": {
       "description_width": ""
      }
     },
     "6071918863be40938710b88abcde2ba4": {
      "model_module": "@jupyter-widgets/base",
      "model_module_version": "1.0.0",
      "model_name": "LayoutModel",
      "state": {}
     },
     "6087dac426db4dbfab40b51f5b37985d": {
      "model_module": "@jupyter-widgets/base",
      "model_module_version": "1.0.0",
      "model_name": "LayoutModel",
      "state": {}
     },
     "609b7d1a01c140be85df54eaa6f812c6": {
      "model_module": "@jupyter-widgets/controls",
      "model_module_version": "1.0.0",
      "model_name": "IntSliderModel",
      "state": {
       "description": "blue",
       "layout": "IPY_MODEL_73074169b87449eab2881cdc1c2dc5f8",
       "max": 255,
       "style": "IPY_MODEL_21debb73a2f64c4cac30d3480ba7e5a2",
       "value": 255
      }
     },
     "60b5b862ab7e4d7aaa8ce24191ab6e24": {
      "model_module": "jp_proxy_widget",
      "model_module_version": "^0.3.4",
      "model_name": "JSProxyModel",
      "state": {
       "_model_module_version": "^0.3.4",
       "_send_counter": 1093,
       "_view_module_version": "^0.3.4",
       "error_msg": "Error: bad offsets",
       "layout": "IPY_MODEL_0a0bfbafe787495bab6bda6af80167e2",
       "rendered": true,
       "status": "Got results."
      }
     },
     "60d1a15b07c54779bd30e5c26d2f0529": {
      "model_module": "@jupyter-widgets/base",
      "model_module_version": "1.0.0",
      "model_name": "LayoutModel",
      "state": {}
     },
     "60ed7062a70346a09229b1ddc629aeab": {
      "model_module": "@jupyter-widgets/controls",
      "model_module_version": "1.0.0",
      "model_name": "VBoxModel",
      "state": {
       "_dom_classes": [
        "widget-interact"
       ],
       "children": [
        "IPY_MODEL_caaeac4ce9754a619d66477a6ed902e9",
        "IPY_MODEL_6738d0336ebf44b29b1582928b866f84",
        "IPY_MODEL_907293990c2344b1a81dbe1185a981b4",
        "IPY_MODEL_5731f9f3dadf4b07b25917e7bca255b6",
        "IPY_MODEL_3a3797311afe4614813177f03d4c72ac",
        "IPY_MODEL_19567e63837e48fa8acc7fe59f47ac91",
        "IPY_MODEL_8cccb48a9ff3463fba96100c4e6260b2",
        "IPY_MODEL_5c80e166e06a4cc9a8fbac324adbb7ac"
       ],
       "layout": "IPY_MODEL_c5b2a34cb7294d459365381e3e13c8e6"
      }
     },
     "60ef360ce7a4489885f5dcae69fe552a": {
      "model_module": "@jupyter-widgets/controls",
      "model_module_version": "1.0.0",
      "model_name": "VBoxModel",
      "state": {
       "_dom_classes": [
        "widget-interact"
       ],
       "children": [
        "IPY_MODEL_8e77f275c91243c49e72272961292920",
        "IPY_MODEL_398c92001708431d9af9cceff4f8795a",
        "IPY_MODEL_cfaa57bb07974d7f9d9b2da3fbed7125",
        "IPY_MODEL_259a0d5baf5648449649a1169a23969c",
        "IPY_MODEL_344eed1f2d2441e1866ef88666e9f62b",
        "IPY_MODEL_336e0d5cbd424918b6574828dceb6bc1",
        "IPY_MODEL_e39bd63376d643db8de9dd24a3faf4de",
        "IPY_MODEL_09d217c780954a4094b36369a8145622",
        "IPY_MODEL_1e6e80219ae84015be81c89573c84417",
        "IPY_MODEL_527ed0c55c454b6e97440e8dd21fdb62",
        "IPY_MODEL_ddef74b9d21243599d42482f82df84cb",
        "IPY_MODEL_ec84328d9d4141a4b49c2b681136235a",
        "IPY_MODEL_fc8d68c23cf44f31824d99928cb1941c",
        "IPY_MODEL_798539f121e44a62bf3e83b1816cd28d"
       ],
       "layout": "IPY_MODEL_ccee99ed2c864003af64da5c63af3dd7"
      }
     },
     "6106db625c77487f802601fc0fa34672": {
      "model_module": "jp_proxy_widget",
      "model_module_version": "^0.3.4",
      "model_name": "JSProxyModel",
      "state": {
       "_model_module_version": "^0.3.4",
       "_send_counter": 2,
       "_view_module_version": "^0.3.4",
       "error_msg": "No error",
       "layout": "IPY_MODEL_1871e7ca025a4c5a9fe91a67a607418c",
       "rendered": true,
       "status": "Got results."
      }
     },
     "610a72af0a99458382e6fe05819694fc": {
      "model_module": "@jupyter-widgets/base",
      "model_module_version": "1.0.0",
      "model_name": "LayoutModel",
      "state": {}
     },
     "614fcffc8f4c44b9b526a00215b15911": {
      "model_module": "@jupyter-widgets/controls",
      "model_module_version": "1.0.0",
      "model_name": "TabModel",
      "state": {
       "_titles": {
        "0": "Canvas",
        "1": "Snapshot"
       },
       "children": [
        "IPY_MODEL_88c822b822ac456c8c9a541824b95360",
        "IPY_MODEL_068449d6e84d47ba93bee86a28fc050c"
       ],
       "layout": "IPY_MODEL_c3852c9ce898496996a7c217a28f91c2"
      }
     },
     "616b37d972d6467990b7304b8dff1830": {
      "model_module": "@jupyter-widgets/controls",
      "model_module_version": "1.0.0",
      "model_name": "IntSliderModel",
      "state": {
       "description": "dx",
       "layout": "IPY_MODEL_792e019f2ba742f1b26acacb985ef347",
       "min": -100,
       "style": "IPY_MODEL_29bcfc628b4a4af4ae21a2c8aaec0205"
      }
     },
     "619cee7a7141452a96b54b06e86fa0cf": {
      "model_module": "@jupyter-widgets/controls",
      "model_module_version": "1.0.0",
      "model_name": "IntSliderModel",
      "state": {
       "description": "degrees",
       "layout": "IPY_MODEL_0ca84b16e0db4d94b1ca67cfca0f5392",
       "max": 360,
       "min": -360,
       "style": "IPY_MODEL_6a7b1f7cdbd64634b5ae2f7a5feb6c04"
      }
     },
     "61ca7862a5f44ae099da9334ffa49491": {
      "model_module": "@jupyter-widgets/controls",
      "model_module_version": "1.0.0",
      "model_name": "SliderStyleModel",
      "state": {
       "description_width": ""
      }
     },
     "61cd665651c045da97a39f18e32b8b97": {
      "model_module": "@jupyter-widgets/base",
      "model_module_version": "1.0.0",
      "model_name": "LayoutModel",
      "state": {}
     },
     "620399a59a8742cf8e465d3d09b6f85c": {
      "model_module": "@jupyter-widgets/controls",
      "model_module_version": "1.0.0",
      "model_name": "SliderStyleModel",
      "state": {
       "description_width": ""
      }
     },
     "622748a04be14af8ad5e9c829c0264b6": {
      "model_module": "@jupyter-widgets/base",
      "model_module_version": "1.0.0",
      "model_name": "LayoutModel",
      "state": {}
     },
     "623248918cdd493eaf760c9327f0c033": {
      "model_module": "@jupyter-widgets/controls",
      "model_module_version": "1.0.0",
      "model_name": "SliderStyleModel",
      "state": {
       "description_width": ""
      }
     },
     "62343e7b586e46e882aa91386486be97": {
      "model_module": "@jupyter-widgets/base",
      "model_module_version": "1.0.0",
      "model_name": "LayoutModel",
      "state": {}
     },
     "624148a33dc441bf98147da31d887c9c": {
      "model_module": "@jupyter-widgets/controls",
      "model_module_version": "1.0.0",
      "model_name": "HTMLModel",
      "state": {
       "layout": "IPY_MODEL_5a5b7a2cbb11488a8c43156a6c50f757",
       "style": "IPY_MODEL_308983ee82314e1bbb51b95c49c485b0",
       "value": "<img src=\"interactive_rectangle.png\" id=\"snapshot_id_31_1536268833008\"/>\n <div id=\"snapshot_id_32_1536268833008\">interactive_rectangle.png</div>"
      }
     },
     "624f92d67461439dbcd569a36a295973": {
      "model_module": "@jupyter-widgets/controls",
      "model_module_version": "1.0.0",
      "model_name": "IntSliderModel",
      "state": {
       "description": "sx",
       "layout": "IPY_MODEL_4bc2dda9b9ad444aadf80842e589054e",
       "max": 90,
       "min": -30,
       "style": "IPY_MODEL_74aae400d0234be49cd4a21330aa3a10",
       "value": 30
      }
     },
     "625966697a1141b28f05c109867134e7": {
      "model_module": "@jupyter-widgets/controls",
      "model_module_version": "1.0.0",
      "model_name": "VBoxModel",
      "state": {
       "_dom_classes": [
        "widget-interact"
       ],
       "children": [
        "IPY_MODEL_9749d64303884380a8ba5b7e805f1f8c",
        "IPY_MODEL_c94108fed8b94ec986c4f5efca66d8db",
        "IPY_MODEL_c36448c0afdc4b62ad8aab3841015e5f",
        "IPY_MODEL_63ccc048b2494e598e3315472f0a492b",
        "IPY_MODEL_de10f80fee2d4343aa67a300996fe8c8",
        "IPY_MODEL_6c2b33eb9cf94246b596523e217346c4",
        "IPY_MODEL_c04582c3823e45b7ba5b049db3e068d1",
        "IPY_MODEL_eb712f6e5a7240ecb3b25dbdbcbf3ad2"
       ],
       "layout": "IPY_MODEL_55cef9dbc9314fb497d6d53b9550330d"
      }
     },
     "6296a7f088444181a50cb700bea90c66": {
      "model_module": "@jupyter-widgets/controls",
      "model_module_version": "1.0.0",
      "model_name": "VBoxModel",
      "state": {
       "children": [
        "IPY_MODEL_da1ebfdf11064cc9863ace7d1f976301",
        "IPY_MODEL_48fc0c94c8ef41f488fdf2dd0fca7f59"
       ],
       "layout": "IPY_MODEL_6642b2d6e5a64d84a56634ba14b993ec"
      }
     },
     "62f45c2122e54b0597d3e325911b5d6b": {
      "model_module": "@jupyter-widgets/base",
      "model_module_version": "1.0.0",
      "model_name": "LayoutModel",
      "state": {}
     },
     "6307efc8518a4f14bf3e522d377c7e27": {
      "model_module": "@jupyter-widgets/base",
      "model_module_version": "1.0.0",
      "model_name": "LayoutModel",
      "state": {}
     },
     "631067298f494156957a5bcc44fd1655": {
      "model_module": "@jupyter-widgets/controls",
      "model_module_version": "1.0.0",
      "model_name": "TabModel",
      "state": {
       "_titles": {
        "0": "Canvas",
        "1": "Snapshot"
       },
       "children": [
        "IPY_MODEL_e1217eb7b54c4c8b8666a9df40497021",
        "IPY_MODEL_5b43c0e559dc4732a6848c99389f9ce0"
       ],
       "layout": "IPY_MODEL_2fe98e560b484079961d3fe8bcc2534f"
      }
     },
     "631a68a50ca648eea20f1f6ed19998a8": {
      "model_module": "@jupyter-widgets/base",
      "model_module_version": "1.0.0",
      "model_name": "LayoutModel",
      "state": {}
     },
     "6341e21bd4ea49e995e940ddc25a023f": {
      "model_module": "@jupyter-widgets/output",
      "model_module_version": "1.0.0",
      "model_name": "OutputModel",
      "state": {
       "layout": "IPY_MODEL_a683fd2de4624ac3a17950b5ddc76214"
      }
     },
     "636486f7fe7c44dea4277b35dd6c5909": {
      "model_module": "@jupyter-widgets/controls",
      "model_module_version": "1.0.0",
      "model_name": "IntSliderModel",
      "state": {
       "description": "red",
       "layout": "IPY_MODEL_6c0912c308e246499a574ab437eafc37",
       "max": 255,
       "style": "IPY_MODEL_0094cf76d10c4797877c2acdb1b9b395",
       "value": 127
      }
     },
     "636f6b1c623942b9988c52e27b5a994b": {
      "model_module": "@jupyter-widgets/base",
      "model_module_version": "1.0.0",
      "model_name": "LayoutModel",
      "state": {}
     },
     "63ccc048b2494e598e3315472f0a492b": {
      "model_module": "@jupyter-widgets/controls",
      "model_module_version": "1.0.0",
      "model_name": "IntSliderModel",
      "state": {
       "description": "red",
       "layout": "IPY_MODEL_7d5476f8bf6b4f0992bbff89a775de6c",
       "max": 255,
       "style": "IPY_MODEL_267d05ac300a4e71a7f705e0e60043c8",
       "value": 127
      }
     },
     "63db2454b3834f4ea1ed5975de197807": {
      "model_module": "@jupyter-widgets/base",
      "model_module_version": "1.0.0",
      "model_name": "LayoutModel",
      "state": {}
     },
     "63f9a81969744b96bc5120f4bdf75b74": {
      "model_module": "@jupyter-widgets/controls",
      "model_module_version": "1.0.0",
      "model_name": "DescriptionStyleModel",
      "state": {
       "description_width": ""
      }
     },
     "64221c31e8db4368bb08104bb5a81691": {
      "model_module": "@jupyter-widgets/base",
      "model_module_version": "1.0.0",
      "model_name": "LayoutModel",
      "state": {}
     },
     "64325dbcb24f47be93ed8a9c8d3463f2": {
      "model_module": "@jupyter-widgets/controls",
      "model_module_version": "1.0.0",
      "model_name": "SliderStyleModel",
      "state": {
       "description_width": ""
      }
     },
     "6438aa4d55664f73a1e78fbf6990a7b3": {
      "model_module": "@jupyter-widgets/controls",
      "model_module_version": "1.0.0",
      "model_name": "SliderStyleModel",
      "state": {
       "description_width": ""
      }
     },
     "645127a3289045d98b16205088beb533": {
      "model_module": "jp_proxy_widget",
      "model_module_version": "^0.3.4",
      "model_name": "JSProxyModel",
      "state": {
       "_model_module_version": "^0.3.4",
       "_send_counter": 2,
       "_view_module_version": "^0.3.4",
       "error_msg": "No error",
       "layout": "IPY_MODEL_c93de285d2c343a0bba8a56cbfc7cf3b",
       "rendered": true,
       "status": "Got results."
      }
     },
     "6459704f4554452dbb9101578413a0e6": {
      "model_module": "@jupyter-widgets/controls",
      "model_module_version": "1.0.0",
      "model_name": "SliderStyleModel",
      "state": {
       "description_width": ""
      }
     },
     "6459b4b20ac540d4bb9a44b15138e938": {
      "model_module": "@jupyter-widgets/controls",
      "model_module_version": "1.0.0",
      "model_name": "SliderStyleModel",
      "state": {
       "description_width": ""
      }
     },
     "645f40b7a5a14b5db060125aae0644aa": {
      "model_module": "@jupyter-widgets/base",
      "model_module_version": "1.0.0",
      "model_name": "LayoutModel",
      "state": {}
     },
     "647ce9212691432a87459cdd8194af6c": {
      "model_module": "@jupyter-widgets/controls",
      "model_module_version": "1.0.0",
      "model_name": "IntSliderModel",
      "state": {
       "description": "dy",
       "layout": "IPY_MODEL_803f177e28c54ea09474f695f83e2704",
       "min": -100,
       "style": "IPY_MODEL_f56a9a9c87d5410ba1410ef8b7746334",
       "value": -42
      }
     },
     "64aec5e70370448591da99d9a3e78c9a": {
      "model_module": "@jupyter-widgets/base",
      "model_module_version": "1.0.0",
      "model_name": "LayoutModel",
      "state": {}
     },
     "64b37651a14746bda9ec69ded6c39241": {
      "model_module": "@jupyter-widgets/controls",
      "model_module_version": "1.0.0",
      "model_name": "VBoxModel",
      "state": {
       "children": [
        "IPY_MODEL_aa2f95ce469b4e9483a2a8d5775cb66b",
        "IPY_MODEL_eee1c68ab67f4597ab748d02d4a18802"
       ],
       "layout": "IPY_MODEL_e81291b541594151985dbaaf4b14f89f"
      }
     },
     "64cfda1421b14d81b87fd4aa82150b70": {
      "model_module": "@jupyter-widgets/base",
      "model_module_version": "1.0.0",
      "model_name": "LayoutModel",
      "state": {}
     },
     "650664319c6c436a90ff82f9cc7e44fc": {
      "model_module": "@jupyter-widgets/controls",
      "model_module_version": "1.0.0",
      "model_name": "IntSliderModel",
      "state": {
       "description": "sHeight",
       "layout": "IPY_MODEL_cc419fd4f1e8420e8fbda7b179389645",
       "max": 600,
       "style": "IPY_MODEL_73ac49203d344925b1952cbf1effcd99",
       "value": 20
      }
     },
     "651e7c1fd81c44279ea33f0e4bb198f1": {
      "model_module": "@jupyter-widgets/base",
      "model_module_version": "1.0.0",
      "model_name": "LayoutModel",
      "state": {}
     },
     "6521fe8028574f058b603bb7814cbcf5": {
      "model_module": "@jupyter-widgets/controls",
      "model_module_version": "1.0.0",
      "model_name": "HTMLModel",
      "state": {
       "layout": "IPY_MODEL_4a9fcc4967294ce48e0e8be103b9197f",
       "style": "IPY_MODEL_5ad9f0e3c48b4fe1ae9767419e2e2289",
       "value": "<img src=\"interactive_image.png\" id=\"snapshot_id_11_1536959010540\"/>\n <div id=\"snapshot_id_12_1536959010540\">interactive_image.png</div>"
      }
     },
     "65262d833e9b4fd7914e4a137e4bb896": {
      "model_module": "@jupyter-widgets/base",
      "model_module_version": "1.0.0",
      "model_name": "LayoutModel",
      "state": {}
     },
     "6576e9d653f2429c8715cf6b178e5123": {
      "model_module": "@jupyter-widgets/base",
      "model_module_version": "1.0.0",
      "model_name": "LayoutModel",
      "state": {}
     },
     "6586fcab46e647e0b8a1d8d6e9ebd160": {
      "model_module": "@jupyter-widgets/controls",
      "model_module_version": "1.0.0",
      "model_name": "IntSliderModel",
      "state": {
       "description": "blue",
       "layout": "IPY_MODEL_e4e2367e30d84ba4990d16528a0fbb9b",
       "max": 255,
       "style": "IPY_MODEL_907f381ceec84cf3b6aaa2f8cfde80be",
       "value": 127
      }
     },
     "65a97635233c46f3b48e9f9d21f20393": {
      "model_module": "jp_proxy_widget",
      "model_module_version": "^0.3.4",
      "model_name": "JSProxyModel",
      "state": {
       "_model_module_version": "^0.3.4",
       "_send_counter": 2,
       "_view_module_version": "^0.3.4",
       "error_msg": "No error",
       "layout": "IPY_MODEL_b67e2b31d2c4419ca6d200ced4f2225b",
       "rendered": true,
       "status": "call back to <function callback_function at 0x111911de8>"
      }
     },
     "65c713cc7d514c069b40fc1dd5979ec1": {
      "model_module": "@jupyter-widgets/controls",
      "model_module_version": "1.0.0",
      "model_name": "SliderStyleModel",
      "state": {
       "description_width": ""
      }
     },
     "65fe27f2b93549f5b41303a40ce083ab": {
      "model_module": "@jupyter-widgets/controls",
      "model_module_version": "1.0.0",
      "model_name": "SliderStyleModel",
      "state": {
       "description_width": ""
      }
     },
     "66337e9cd5f248c48818a05a1696c6dc": {
      "model_module": "@jupyter-widgets/controls",
      "model_module_version": "1.0.0",
      "model_name": "VBoxModel",
      "state": {
       "children": [
        "IPY_MODEL_47e10ff22a834789b18a60f850c182b6",
        "IPY_MODEL_2a503bf572854f738b7f99976ad6a69e"
       ],
       "layout": "IPY_MODEL_ed4506c5bb494e808b4f908062b4613c"
      }
     },
     "663526034e0a4bca85bbdcac8ba872b7": {
      "model_module": "@jupyter-widgets/base",
      "model_module_version": "1.0.0",
      "model_name": "LayoutModel",
      "state": {}
     },
     "6642b2d6e5a64d84a56634ba14b993ec": {
      "model_module": "@jupyter-widgets/base",
      "model_module_version": "1.0.0",
      "model_name": "LayoutModel",
      "state": {}
     },
     "667a7e302a584538b6191af798bd5f01": {
      "model_module": "@jupyter-widgets/controls",
      "model_module_version": "1.0.0",
      "model_name": "DescriptionStyleModel",
      "state": {
       "description_width": ""
      }
     },
     "668306d55d53408ba65f75f7bccc1c92": {
      "model_module": "@jupyter-widgets/controls",
      "model_module_version": "1.0.0",
      "model_name": "FloatSliderModel",
      "state": {
       "description": "alpha",
       "layout": "IPY_MODEL_413e6e8d43ff4406811d3af95680b0b1",
       "max": 1,
       "step": 0.1,
       "style": "IPY_MODEL_ae662bb392a049859ac33368a1e22d7c",
       "value": 0.5
      }
     },
     "66ba2aa5484d4887b27d7839101f531f": {
      "model_module": "@jupyter-widgets/controls",
      "model_module_version": "1.0.0",
      "model_name": "FloatSliderModel",
      "state": {
       "description": "alpha",
       "layout": "IPY_MODEL_bd66f6abb92e402581f1f26acfbe2de5",
       "max": 1,
       "step": 0.1,
       "style": "IPY_MODEL_10a3705620fd4a1a988a4484cfbaac72",
       "value": 1
      }
     },
     "670003f8aa1449c0b6448f2ff3c95b4e": {
      "model_module": "@jupyter-widgets/base",
      "model_module_version": "1.0.0",
      "model_name": "LayoutModel",
      "state": {}
     },
     "670124ed91374563b12df1fd5c0e8836": {
      "model_module": "@jupyter-widgets/controls",
      "model_module_version": "1.0.0",
      "model_name": "FloatSliderModel",
      "state": {
       "description": "start",
       "layout": "IPY_MODEL_3bd4fdef432e484697612a1fd266d763",
       "max": 6.283185307179586,
       "step": 0.1,
       "style": "IPY_MODEL_fad4edcbbed241e3894fee5b2bc15c4a",
       "value": 3.4
      }
     },
     "67106e78b28f4a60837df247cf7bebf8": {
      "model_module": "@jupyter-widgets/base",
      "model_module_version": "1.0.0",
      "model_name": "LayoutModel",
      "state": {}
     },
     "671272fad9ef4134ae1fe02dd34c4ad8": {
      "model_module": "@jupyter-widgets/controls",
      "model_module_version": "1.0.0",
      "model_name": "IntSliderModel",
      "state": {
       "description": "h",
       "layout": "IPY_MODEL_53da87cb2dee42eead1b7d4856b99815",
       "max": 300,
       "min": -300,
       "style": "IPY_MODEL_c9f0ac68ba5841ea80cba3b28d87b6e6",
       "value": 50
      }
     },
     "67145fa1e2f84885a2f0369c931d1147": {
      "model_module": "@jupyter-widgets/controls",
      "model_module_version": "1.0.0",
      "model_name": "IntSliderModel",
      "state": {
       "description": "y",
       "layout": "IPY_MODEL_027486edd7e64a2284c146b7ea5826ca",
       "min": -100,
       "style": "IPY_MODEL_cce6bbd9517b44bfa945dc1891d45351"
      }
     },
     "6738d0336ebf44b29b1582928b866f84": {
      "model_module": "@jupyter-widgets/controls",
      "model_module_version": "1.0.0",
      "model_name": "IntSliderModel",
      "state": {
       "description": "y",
       "layout": "IPY_MODEL_3e3e9b985eb14c4c86747feb32453a8a",
       "min": -100,
       "style": "IPY_MODEL_c25afe940e6f4d84a4f6b11c578b572f"
      }
     },
     "6746894886a24607a6b6c2664d6a8bd7": {
      "model_module": "@jupyter-widgets/base",
      "model_module_version": "1.0.0",
      "model_name": "LayoutModel",
      "state": {}
     },
     "674b16e63f1642048bb6ad44070988e9": {
      "model_module": "@jupyter-widgets/controls",
      "model_module_version": "1.0.0",
      "model_name": "SliderStyleModel",
      "state": {
       "description_width": ""
      }
     },
     "675d31bd190f44cfaec15670abe28f69": {
      "model_module": "@jupyter-widgets/controls",
      "model_module_version": "1.0.0",
      "model_name": "IntSliderModel",
      "state": {
       "description": "y",
       "layout": "IPY_MODEL_edd2847043b649489887a4b779bd688a",
       "min": -100,
       "style": "IPY_MODEL_178ffe95edb04dedaa954257a5a89f9c"
      }
     },
     "67721d0e499d45a59adc83cc41f11b8a": {
      "model_module": "jp_proxy_widget",
      "model_module_version": "^0.3.4",
      "model_name": "JSProxyModel",
      "state": {
       "_model_module_version": "^0.3.4",
       "_send_counter": 1278,
       "_view_module_version": "^0.3.4",
       "error_msg": "No error",
       "layout": "IPY_MODEL_db3a5ae362bd42ac92cb70274cd5fa5f",
       "rendered": true,
       "status": "Got results."
      }
     },
     "67b3c86868704cf9b66b2fc15b3dae54": {
      "model_module": "@jupyter-widgets/output",
      "model_module_version": "1.0.0",
      "model_name": "OutputModel",
      "state": {
       "layout": "IPY_MODEL_b01e7c425dbb46bf8e031f8138807607"
      }
     },
     "67cd06f6b0b94d5f802f5d9390d9df31": {
      "model_module": "@jupyter-widgets/controls",
      "model_module_version": "1.0.0",
      "model_name": "IntSliderModel",
      "state": {
       "description": "y",
       "layout": "IPY_MODEL_36f364eaf7384fb0bcd4dd15483222bf",
       "min": -100,
       "style": "IPY_MODEL_ac99ae6f50354110a122f5bd8a25ffd2"
      }
     },
     "67cff949f35c4797b3898bc2af60804a": {
      "model_module": "@jupyter-widgets/controls",
      "model_module_version": "1.0.0",
      "model_name": "SliderStyleModel",
      "state": {
       "description_width": ""
      }
     },
     "67d386ea83b54ecc84d6418d7fe233ce": {
      "model_module": "@jupyter-widgets/controls",
      "model_module_version": "1.0.0",
      "model_name": "SliderStyleModel",
      "state": {
       "description_width": ""
      }
     },
     "67d57405fa244a00a3a8ccd75b144aee": {
      "model_module": "@jupyter-widgets/base",
      "model_module_version": "1.0.0",
      "model_name": "LayoutModel",
      "state": {}
     },
     "67fa53a0df314813a2196034d2b1f49f": {
      "model_module": "@jupyter-widgets/controls",
      "model_module_version": "1.0.0",
      "model_name": "SliderStyleModel",
      "state": {
       "description_width": ""
      }
     },
     "681279e9c03e455c9d01ebdfc85eb524": {
      "model_module": "@jupyter-widgets/base",
      "model_module_version": "1.0.0",
      "model_name": "LayoutModel",
      "state": {}
     },
     "685d33cc6c0d4570ae478d344c6b31ac": {
      "model_module": "jp_proxy_widget",
      "model_module_version": "^0.3.4",
      "model_name": "JSProxyModel",
      "state": {
       "_model_module_version": "^0.3.4",
       "_send_counter": 2,
       "_view_module_version": "^0.3.4",
       "error_msg": "No error",
       "layout": "IPY_MODEL_47b9f53a7bb8418bb7e23f5f8dc3a9b6",
       "rendered": true,
       "status": "call back to <function callback_function at 0x11756acf8>"
      }
     },
     "686b873e0ae74e57a9f771ca939ff852": {
      "model_module": "@jupyter-widgets/controls",
      "model_module_version": "1.0.0",
      "model_name": "IntSliderModel",
      "state": {
       "description": "blue",
       "layout": "IPY_MODEL_1b8858b911844c2687e1d21467252375",
       "max": 255,
       "style": "IPY_MODEL_36e043cf685a4b5aa75ad46d5f5165ab",
       "value": 255
      }
     },
     "686fb0d835de46e7af3b551e700a6199": {
      "model_module": "@jupyter-widgets/base",
      "model_module_version": "1.0.0",
      "model_name": "LayoutModel",
      "state": {}
     },
     "688076ecb32a443a9e224e63ff1e7b3a": {
      "model_module": "@jupyter-widgets/base",
      "model_module_version": "1.0.0",
      "model_name": "LayoutModel",
      "state": {}
     },
     "688b5fedc49748f3a55d1e5ec5024781": {
      "model_module": "@jupyter-widgets/base",
      "model_module_version": "1.0.0",
      "model_name": "LayoutModel",
      "state": {}
     },
     "68914187419d416e80caccf0afdc47ce": {
      "model_module": "@jupyter-widgets/controls",
      "model_module_version": "1.0.0",
      "model_name": "SliderStyleModel",
      "state": {
       "description_width": ""
      }
     },
     "68a198aa9ef94c25a27d5d02ecafab75": {
      "model_module": "@jupyter-widgets/controls",
      "model_module_version": "1.0.0",
      "model_name": "SliderStyleModel",
      "state": {
       "description_width": ""
      }
     },
     "68a5d472c808460f88575659d5105c02": {
      "model_module": "@jupyter-widgets/base",
      "model_module_version": "1.0.0",
      "model_name": "LayoutModel",
      "state": {}
     },
     "68a88543c485471f815e28bc14dfacaa": {
      "model_module": "@jupyter-widgets/controls",
      "model_module_version": "1.0.0",
      "model_name": "DescriptionStyleModel",
      "state": {
       "description_width": ""
      }
     },
     "68afb2b9e3ff41b5a0e4ee4e98e9612e": {
      "model_module": "@jupyter-widgets/controls",
      "model_module_version": "1.0.0",
      "model_name": "IntSliderModel",
      "state": {
       "description": "sy",
       "layout": "IPY_MODEL_9ad5d926220b4e43bc5101fad4016617",
       "max": 600,
       "style": "IPY_MODEL_50f37fc0a9244bdabc12ce7fabd60c65",
       "value": 54
      }
     },
     "68fc161d9ef34903b90ca446333d7f92": {
      "model_module": "@jupyter-widgets/controls",
      "model_module_version": "1.0.0",
      "model_name": "DescriptionStyleModel",
      "state": {
       "description_width": ""
      }
     },
     "691fb79dbef64db3a6c7bd3f634d3978": {
      "model_module": "@jupyter-widgets/controls",
      "model_module_version": "1.0.0",
      "model_name": "TabModel",
      "state": {
       "_titles": {
        "0": "Canvas",
        "1": "Snapshot"
       },
       "children": [
        "IPY_MODEL_0b3e93831e304980afb4329aabfc6a27",
        "IPY_MODEL_222e6bfdaa0a4d6eb0a91c708e69798b"
       ],
       "layout": "IPY_MODEL_b2808eb5701c4b898f2d985b1c52d6ff"
      }
     },
     "694e5677715948819da2886f6813d1bd": {
      "model_module": "@jupyter-widgets/base",
      "model_module_version": "1.0.0",
      "model_name": "LayoutModel",
      "state": {}
     },
     "6984b119343d445d94d0a80eb550ecb3": {
      "model_module": "@jupyter-widgets/base",
      "model_module_version": "1.0.0",
      "model_name": "LayoutModel",
      "state": {}
     },
     "6994decc37844a4fa01e66588fd7e85a": {
      "model_module": "@jupyter-widgets/controls",
      "model_module_version": "1.0.0",
      "model_name": "SliderStyleModel",
      "state": {
       "description_width": ""
      }
     },
     "69c090e5603049bc8fad6c2c4b800e80": {
      "model_module": "@jupyter-widgets/base",
      "model_module_version": "1.0.0",
      "model_name": "LayoutModel",
      "state": {}
     },
     "69d899e910a6474e9180e9f585471087": {
      "model_module": "@jupyter-widgets/base",
      "model_module_version": "1.0.0",
      "model_name": "LayoutModel",
      "state": {}
     },
     "69da7c609298498283da7b6ad8b551ce": {
      "model_module": "@jupyter-widgets/controls",
      "model_module_version": "1.0.0",
      "model_name": "IntSliderModel",
      "state": {
       "description": "degrees",
       "layout": "IPY_MODEL_8faa4b4227214033b4e21ee370b89668",
       "max": 360,
       "min": -360,
       "style": "IPY_MODEL_c7a09c31f4dd4d3cb3c349c78fea19cc",
       "value": 110
      }
     },
     "6a2e8306e8bb44fba322c60c417cbc7a": {
      "model_module": "@jupyter-widgets/controls",
      "model_module_version": "1.0.0",
      "model_name": "VBoxModel",
      "state": {
       "children": [
        "IPY_MODEL_1d68a64528da4f249c908fc9cc34c495",
        "IPY_MODEL_89298f083eea49699950dd6aabb5e4d0"
       ],
       "layout": "IPY_MODEL_9dc17061b8f04cf3880b13da187767fc"
      }
     },
     "6a4ba9b461b640d9b0b8281e6303fa31": {
      "model_module": "@jupyter-widgets/base",
      "model_module_version": "1.0.0",
      "model_name": "LayoutModel",
      "state": {}
     },
     "6a7b1f7cdbd64634b5ae2f7a5feb6c04": {
      "model_module": "@jupyter-widgets/controls",
      "model_module_version": "1.0.0",
      "model_name": "SliderStyleModel",
      "state": {
       "description_width": ""
      }
     },
     "6abd6d1e6d874f5ba308d8cb270e93a1": {
      "model_module": "@jupyter-widgets/output",
      "model_module_version": "1.0.0",
      "model_name": "OutputModel",
      "state": {
       "layout": "IPY_MODEL_d524e06b39a546d3b0a0558930e6108b"
      }
     },
     "6add4c8f42d34393804c1fb7dad61dde": {
      "model_module": "@jupyter-widgets/base",
      "model_module_version": "1.0.0",
      "model_name": "LayoutModel",
      "state": {}
     },
     "6aed85d7b94c4ad19b72463d6a3cf8e3": {
      "model_module": "@jupyter-widgets/controls",
      "model_module_version": "1.0.0",
      "model_name": "VBoxModel",
      "state": {
       "children": [
        "IPY_MODEL_bde474d5f5be412282fc989249510a3b",
        "IPY_MODEL_83779faaf30b4ba3934a82e904a369ab"
       ],
       "layout": "IPY_MODEL_65262d833e9b4fd7914e4a137e4bb896"
      }
     },
     "6af12d36ec524d2a9f93d40d8180a1f6": {
      "model_module": "@jupyter-widgets/controls",
      "model_module_version": "1.0.0",
      "model_name": "SliderStyleModel",
      "state": {
       "description_width": ""
      }
     },
     "6b0b9a1774144e57bc1b537e9701860b": {
      "model_module": "@jupyter-widgets/base",
      "model_module_version": "1.0.0",
      "model_name": "LayoutModel",
      "state": {}
     },
     "6b38d1c60f5a4d6fa574a8c6f0a3eef1": {
      "model_module": "@jupyter-widgets/controls",
      "model_module_version": "1.0.0",
      "model_name": "SliderStyleModel",
      "state": {
       "description_width": ""
      }
     },
     "6b486d9b9b2a4a0682571438afbdb2ad": {
      "model_module": "@jupyter-widgets/controls",
      "model_module_version": "1.0.0",
      "model_name": "TabModel",
      "state": {
       "_titles": {
        "0": "Canvas",
        "1": "Snapshot"
       },
       "children": [
        "IPY_MODEL_6017fa86fd384e408a87fa5d37cac8c8",
        "IPY_MODEL_6f15505895ce467db8d6ee1784e8157c"
       ],
       "layout": "IPY_MODEL_ca4b02b8f74c44b2ad3ab769ec1dbf61"
      }
     },
     "6b8599e059314d8daf65fd432b507481": {
      "model_module": "@jupyter-widgets/controls",
      "model_module_version": "1.0.0",
      "model_name": "SliderStyleModel",
      "state": {
       "description_width": ""
      }
     },
     "6b8810edb85f48f598067d897842dee2": {
      "model_module": "@jupyter-widgets/base",
      "model_module_version": "1.0.0",
      "model_name": "LayoutModel",
      "state": {}
     },
     "6ba1d7d04b0c4c40b5752000ecb1f4ca": {
      "model_module": "@jupyter-widgets/base",
      "model_module_version": "1.0.0",
      "model_name": "LayoutModel",
      "state": {}
     },
     "6baa799853bb4fd99fc6abba6e05a97c": {
      "model_module": "@jupyter-widgets/controls",
      "model_module_version": "1.0.0",
      "model_name": "IntSliderModel",
      "state": {
       "description": "blue",
       "layout": "IPY_MODEL_da488c2eb02645ccacf80641c0784067",
       "max": 255,
       "style": "IPY_MODEL_00fff51fda9745da91cb8581a04d0204",
       "value": 255
      }
     },
     "6bcdaa4b5c6a45e7821fcb8b29e2f51a": {
      "model_module": "@jupyter-widgets/base",
      "model_module_version": "1.0.0",
      "model_name": "LayoutModel",
      "state": {}
     },
     "6bd2a7c1d6e94dbfb16a52f86ce0a812": {
      "model_module": "@jupyter-widgets/controls",
      "model_module_version": "1.0.0",
      "model_name": "IntSliderModel",
      "state": {
       "description": "dx",
       "layout": "IPY_MODEL_10112307254d466ea0e7ce2f47ad3a71",
       "min": -100,
       "style": "IPY_MODEL_f45d798df0094cdc9df7a020fa84844f",
       "value": -40
      }
     },
     "6be51e8baa3d4e25bfc3f484503e6b55": {
      "model_module": "@jupyter-widgets/controls",
      "model_module_version": "1.0.0",
      "model_name": "IntSliderModel",
      "state": {
       "description": "blue",
       "layout": "IPY_MODEL_2bdf84633aae44ac9767292958e6b60b",
       "max": 255,
       "style": "IPY_MODEL_dae6ec53ddb742848f39962af1172ebe",
       "value": 127
      }
     },
     "6bebb24b7d7a4230bbcebbe599efb6d1": {
      "model_module": "@jupyter-widgets/base",
      "model_module_version": "1.0.0",
      "model_name": "LayoutModel",
      "state": {}
     },
     "6c0912c308e246499a574ab437eafc37": {
      "model_module": "@jupyter-widgets/base",
      "model_module_version": "1.0.0",
      "model_name": "LayoutModel",
      "state": {}
     },
     "6c1ddde9223c439cafd332cad851eb19": {
      "model_module": "@jupyter-widgets/controls",
      "model_module_version": "1.0.0",
      "model_name": "TabModel",
      "state": {
       "_titles": {
        "0": "Canvas",
        "1": "Snapshot"
       },
       "children": [
        "IPY_MODEL_1575d9857d044a1f8c60ddc713402950",
        "IPY_MODEL_84546739974d4269acfdc9942fc4af69"
       ],
       "layout": "IPY_MODEL_c0b4f1ed462749e98e18c28396a19d1a",
       "selected_index": 1
      }
     },
     "6c2b33eb9cf94246b596523e217346c4": {
      "model_module": "@jupyter-widgets/controls",
      "model_module_version": "1.0.0",
      "model_name": "IntSliderModel",
      "state": {
       "description": "blue",
       "layout": "IPY_MODEL_80e542f23d584f8eb8a698eea1891413",
       "max": 255,
       "style": "IPY_MODEL_4c48691f515c41d6b5f8c569a5708577",
       "value": 127
      }
     },
     "6c3a5664f9b848b1bc1ddee2ca8cc870": {
      "model_module": "@jupyter-widgets/controls",
      "model_module_version": "1.0.0",
      "model_name": "SliderStyleModel",
      "state": {
       "description_width": ""
      }
     },
     "6c53957b75b24a588bcb8bde6910b775": {
      "model_module": "@jupyter-widgets/base",
      "model_module_version": "1.0.0",
      "model_name": "LayoutModel",
      "state": {}
     },
     "6c66db1765cd453caea29960e7ceff8e": {
      "model_module": "@jupyter-widgets/controls",
      "model_module_version": "1.0.0",
      "model_name": "CheckboxModel",
      "state": {
       "description": "fill",
       "disabled": false,
       "layout": "IPY_MODEL_11725c45809344a4abd493179511a0f6",
       "style": "IPY_MODEL_a5af4789865d49cd80c598c65411191c",
       "value": false
      }
     },
     "6c83bff7d80c40acb408ccf9be7b5f21": {
      "model_module": "jp_proxy_widget",
      "model_module_version": "^0.3.4",
      "model_name": "JSProxyModel",
      "state": {
       "_model_module_version": "^0.3.4",
       "_send_counter": 1189,
       "_view_module_version": "^0.3.4",
       "error_msg": "No error",
       "layout": "IPY_MODEL_8974cede791e40f4aeb8f6975216d633",
       "rendered": true,
       "status": "Got results."
      }
     },
     "6cad878add9443cebd75e872964e7447": {
      "model_module": "@jupyter-widgets/controls",
      "model_module_version": "1.0.0",
      "model_name": "SliderStyleModel",
      "state": {
       "description_width": ""
      }
     },
     "6cd7980a40aa440e9704447ff0d9776f": {
      "model_module": "@jupyter-widgets/controls",
      "model_module_version": "1.0.0",
      "model_name": "DescriptionStyleModel",
      "state": {
       "description_width": ""
      }
     },
     "6cefa574d5a14324a7a09f778cbd9467": {
      "model_module": "@jupyter-widgets/controls",
      "model_module_version": "1.0.0",
      "model_name": "IntSliderModel",
      "state": {
       "description": "w",
       "layout": "IPY_MODEL_259adae8627a4b149eccacfa734ad30d",
       "max": 300,
       "min": -300,
       "style": "IPY_MODEL_94cea451818c4489bfe8196570bf2eec",
       "value": 250
      }
     },
     "6cf05933c68e494ba09c4a2b56585d3f": {
      "model_module": "@jupyter-widgets/base",
      "model_module_version": "1.0.0",
      "model_name": "LayoutModel",
      "state": {}
     },
     "6d012ed42fcc4acb83d52b4c84315eec": {
      "model_module": "@jupyter-widgets/controls",
      "model_module_version": "1.0.0",
      "model_name": "SliderStyleModel",
      "state": {
       "description_width": ""
      }
     },
     "6d09bb1ef36e495abc45c677b9579649": {
      "model_module": "@jupyter-widgets/controls",
      "model_module_version": "1.0.0",
      "model_name": "SliderStyleModel",
      "state": {
       "description_width": ""
      }
     },
     "6d0e050d11934430bfdc1515040358cc": {
      "model_module": "@jupyter-widgets/controls",
      "model_module_version": "1.0.0",
      "model_name": "DescriptionStyleModel",
      "state": {
       "description_width": ""
      }
     },
     "6d137b4cff794842ab283cf701df56b8": {
      "model_module": "@jupyter-widgets/base",
      "model_module_version": "1.0.0",
      "model_name": "LayoutModel",
      "state": {}
     },
     "6d25f4b246244bff9f7ed1b283126c57": {
      "model_module": "@jupyter-widgets/base",
      "model_module_version": "1.0.0",
      "model_name": "LayoutModel",
      "state": {}
     },
     "6d2f433dc08247a8b01df182c6e1f0fe": {
      "model_module": "@jupyter-widgets/controls",
      "model_module_version": "1.0.0",
      "model_name": "IntSliderModel",
      "state": {
       "description": "dx",
       "layout": "IPY_MODEL_52b7ca20f33b4a7392693f8fa90ef028",
       "min": -100,
       "style": "IPY_MODEL_2c87a24df3ce443a8c8b5c17fbe21d87",
       "value": -30
      }
     },
     "6d4038e0eb584952b59dad2d5220fbe4": {
      "model_module": "@jupyter-widgets/controls",
      "model_module_version": "1.0.0",
      "model_name": "HTMLModel",
      "state": {
       "layout": "IPY_MODEL_ff5bc05f5fb24d5486365803f5ef211b",
       "style": "IPY_MODEL_e7a5af3f61d64513beb57f80d97b278d",
       "value": "<img src=\"interactive_circle.png\" id=\"snapshot_id_7_1536246314821\"/>\n <div id=\"snapshot_id_8_1536246314821\">interactive_circle.png</div>"
      }
     },
     "6d4babb2a84444899740d58c0f97d7d5": {
      "model_module": "@jupyter-widgets/base",
      "model_module_version": "1.0.0",
      "model_name": "LayoutModel",
      "state": {}
     },
     "6d4d21c7ae254ed783fb1637f1ce3e14": {
      "model_module": "@jupyter-widgets/base",
      "model_module_version": "1.0.0",
      "model_name": "LayoutModel",
      "state": {}
     },
     "6d53b273f7614a95aa03f7fd42cd1953": {
      "model_module": "@jupyter-widgets/controls",
      "model_module_version": "1.0.0",
      "model_name": "SliderStyleModel",
      "state": {
       "description_width": ""
      }
     },
     "6d5afc2ea58840f5ae4870822ca386d1": {
      "model_module": "@jupyter-widgets/controls",
      "model_module_version": "1.0.0",
      "model_name": "CheckboxModel",
      "state": {
       "description": "fill",
       "disabled": false,
       "layout": "IPY_MODEL_90c1e9edf46c4edfb6360845f5517339",
       "style": "IPY_MODEL_115273af4d1f468cb248f0bdfbc4b940",
       "value": true
      }
     },
     "6d5cf87f965945839f7681433a3e50bf": {
      "model_module": "@jupyter-widgets/base",
      "model_module_version": "1.0.0",
      "model_name": "LayoutModel",
      "state": {}
     },
     "6d710b3826df4b25a40bc2b3b4257d43": {
      "model_module": "@jupyter-widgets/base",
      "model_module_version": "1.0.0",
      "model_name": "LayoutModel",
      "state": {}
     },
     "6d8b5f90ac914fa4b0cbbab5eb40e737": {
      "model_module": "@jupyter-widgets/controls",
      "model_module_version": "1.0.0",
      "model_name": "SliderStyleModel",
      "state": {
       "description_width": ""
      }
     },
     "6da10e7cb7a74048b28d9ea1e637e9a1": {
      "model_module": "@jupyter-widgets/base",
      "model_module_version": "1.0.0",
      "model_name": "LayoutModel",
      "state": {}
     },
     "6dab80f1957149c1ae5bfccfaf936039": {
      "model_module": "@jupyter-widgets/base",
      "model_module_version": "1.0.0",
      "model_name": "LayoutModel",
      "state": {}
     },
     "6dfd70e3c3a345679a18f400ff4f9099": {
      "model_module": "@jupyter-widgets/controls",
      "model_module_version": "1.0.0",
      "model_name": "HTMLModel",
      "state": {
       "layout": "IPY_MODEL_4119b9bf791645ff95eedb06fdc371d2",
       "style": "IPY_MODEL_ed23f2d2d3464772aa68c7b32bd5c2b9",
       "value": "<img src=\"interactive_rectangle.png\" id=\"snapshot_id_1_1536324763397\"/>\n <div id=\"snapshot_id_2_1536324763397\">interactive_rectangle.png</div>"
      }
     },
     "6e1d41b1faa4426fbbfce1ec9a66f5ce": {
      "model_module": "@jupyter-widgets/base",
      "model_module_version": "1.0.0",
      "model_name": "LayoutModel",
      "state": {}
     },
     "6e1e8faadadf4ad4bc820f529156cdfc": {
      "model_module": "@jupyter-widgets/controls",
      "model_module_version": "1.0.0",
      "model_name": "IntSliderModel",
      "state": {
       "description": "dy",
       "layout": "IPY_MODEL_5e31210eb5f0429ea58f29f49e88fa10",
       "min": -100,
       "style": "IPY_MODEL_bba4884728144eda89defa3c7c0c17bd",
       "value": -25
      }
     },
     "6e28ffc7e0f445909beafded825cbfcd": {
      "model_module": "@jupyter-widgets/base",
      "model_module_version": "1.0.0",
      "model_name": "LayoutModel",
      "state": {}
     },
     "6e2d821ac383472692841f46384a8def": {
      "model_module": "jp_proxy_widget",
      "model_module_version": "^0.3.4",
      "model_name": "JSProxyModel",
      "state": {
       "_model_module_version": "^0.3.4",
       "_send_counter": 971,
       "_view_module_version": "^0.3.4",
       "error_msg": "No error",
       "layout": "IPY_MODEL_8bb00b65c35c444494ab3b28d974e55b",
       "rendered": true,
       "status": "Got results."
      }
     },
     "6e3772cec3154cdbb4216e8e21b93f3b": {
      "model_module": "@jupyter-widgets/controls",
      "model_module_version": "1.0.0",
      "model_name": "SliderStyleModel",
      "state": {
       "description_width": ""
      }
     },
     "6e59fb65d30e409e8ee3a08184440031": {
      "model_module": "@jupyter-widgets/controls",
      "model_module_version": "1.0.0",
      "model_name": "SliderStyleModel",
      "state": {
       "description_width": ""
      }
     },
     "6e9116a2d0ac4b4e92cd52d7c4f73c33": {
      "model_module": "@jupyter-widgets/base",
      "model_module_version": "1.0.0",
      "model_name": "LayoutModel",
      "state": {}
     },
     "6ea8e3c6b0974b47958541b17601c079": {
      "model_module": "@jupyter-widgets/controls",
      "model_module_version": "1.0.0",
      "model_name": "SliderStyleModel",
      "state": {
       "description_width": ""
      }
     },
     "6eaf26a552f545f6aaf69bf06451f115": {
      "model_module": "@jupyter-widgets/controls",
      "model_module_version": "1.0.0",
      "model_name": "TabModel",
      "state": {
       "_titles": {
        "0": "Canvas",
        "1": "Snapshot"
       },
       "children": [
        "IPY_MODEL_d3f1fa849def4623a855a1c53a27eb78",
        "IPY_MODEL_d03f96aa10e64b6c8138092e035a2900"
       ],
       "layout": "IPY_MODEL_3a2209d82a8c428a9e1090bedc264712"
      }
     },
     "6eee09e773c24b05a440905cb4dce105": {
      "model_module": "@jupyter-widgets/controls",
      "model_module_version": "1.0.0",
      "model_name": "IntSliderModel",
      "state": {
       "description": "sy",
       "layout": "IPY_MODEL_0d6d462aab7049109a11831718f86406",
       "max": 600,
       "style": "IPY_MODEL_d4f5cdefc1ca423db00de00bdd678c74"
      }
     },
     "6f03a2c8f2ad465fa08d9a3cd0476721": {
      "model_module": "@jupyter-widgets/controls",
      "model_module_version": "1.0.0",
      "model_name": "SliderStyleModel",
      "state": {
       "description_width": ""
      }
     },
     "6f0a0e727db641c7a2fd92e15152fc08": {
      "model_module": "@jupyter-widgets/controls",
      "model_module_version": "1.0.0",
      "model_name": "IntSliderModel",
      "state": {
       "description": "red",
       "layout": "IPY_MODEL_8431d3e46d244224bc51e879cc4f5e5a",
       "max": 255,
       "style": "IPY_MODEL_0d4046d4646440acaa414b77f21f90f7",
       "value": 255
      }
     },
     "6f15505895ce467db8d6ee1784e8157c": {
      "model_module": "@jupyter-widgets/controls",
      "model_module_version": "1.0.0",
      "model_name": "HTMLModel",
      "state": {
       "layout": "IPY_MODEL_c8c76f8d1d214fc58f09456a8118cbdd",
       "style": "IPY_MODEL_acfbed4ab78f4662a77ba40e48488ecc",
       "value": "<img src=\"interactive_image.png\" id=\"snapshot_id_9_1536958821946\"/>\n <div id=\"snapshot_id_10_1536958821946\">interactive_image.png</div>"
      }
     },
     "6f15dead747d4fb5bd6870c4537e1f5f": {
      "model_module": "@jupyter-widgets/base",
      "model_module_version": "1.0.0",
      "model_name": "LayoutModel",
      "state": {}
     },
     "6f24f35404984892b1be42462ad04b72": {
      "model_module": "@jupyter-widgets/base",
      "model_module_version": "1.0.0",
      "model_name": "LayoutModel",
      "state": {}
     },
     "6f716cffa40a4d69b9e7994a26a2f1aa": {
      "model_module": "@jupyter-widgets/base",
      "model_module_version": "1.0.0",
      "model_name": "LayoutModel",
      "state": {}
     },
     "6f862d10dbd142f7a51f104347dd4b0d": {
      "model_module": "@jupyter-widgets/controls",
      "model_module_version": "1.0.0",
      "model_name": "SliderStyleModel",
      "state": {
       "description_width": ""
      }
     },
     "6f97f3e3f5374e53acd8d0d2e0a070f6": {
      "model_module": "@jupyter-widgets/controls",
      "model_module_version": "1.0.0",
      "model_name": "TabModel",
      "state": {
       "_titles": {
        "0": "Canvas",
        "1": "Snapshot"
       },
       "children": [
        "IPY_MODEL_4d7dc592861040e481743ab21b7ca11e",
        "IPY_MODEL_c9bb937b54294cc3ace97fef6e8725e4"
       ],
       "layout": "IPY_MODEL_490fd7622ece4312a5d26f75ddfb4245",
       "selected_index": 1
      }
     },
     "6fb4c8bdcba34aeeba4c3ec6d9d69226": {
      "model_module": "@jupyter-widgets/base",
      "model_module_version": "1.0.0",
      "model_name": "LayoutModel",
      "state": {}
     },
     "6fbed0bd8db94792abc506a17141eed8": {
      "model_module": "@jupyter-widgets/base",
      "model_module_version": "1.0.0",
      "model_name": "LayoutModel",
      "state": {}
     },
     "6fc21fbe0efe42daad394b4c2f8fc92e": {
      "model_module": "@jupyter-widgets/controls",
      "model_module_version": "1.0.0",
      "model_name": "VBoxModel",
      "state": {
       "_dom_classes": [
        "widget-interact"
       ],
       "children": [
        "IPY_MODEL_963992f08beb4ffe829757a4f8414eec",
        "IPY_MODEL_df898d04eb9147aaafb054cfc84208b2",
        "IPY_MODEL_b33cb00102d14143ab21cdceead4b814",
        "IPY_MODEL_88761024531d4828b6f17bdeb1fbd651",
        "IPY_MODEL_3c579f3bc35340539b2c0d3d343460e9",
        "IPY_MODEL_a3cb5d37fe2d4dfdb8e29799ac81eacc",
        "IPY_MODEL_e67079bdb3f544d385740f8a84caf7e7",
        "IPY_MODEL_97a2057749f140b4831454510ea7bf28",
        "IPY_MODEL_b450bdde95ad4080af671cbcb4a8afee",
        "IPY_MODEL_45f85def23654524a52fdce948787ba9",
        "IPY_MODEL_0d1a97c4b5f043f0b93bf39679ed888e",
        "IPY_MODEL_b8631914d4744931b7b8a022e3bfd075",
        "IPY_MODEL_8aca6b664680447a92ac23cca5983a39",
        "IPY_MODEL_7decb20a2a7849f2abd5225a366b8758"
       ],
       "layout": "IPY_MODEL_6746894886a24607a6b6c2664d6a8bd7"
      }
     },
     "6fdd0a80489742e1bc7c450446fce0d1": {
      "model_module": "@jupyter-widgets/base",
      "model_module_version": "1.0.0",
      "model_name": "LayoutModel",
      "state": {}
     },
     "6ffd4bbf9b714444829715cc1ff9b183": {
      "model_module": "@jupyter-widgets/base",
      "model_module_version": "1.0.0",
      "model_name": "LayoutModel",
      "state": {}
     },
     "7014a69f65a948d6a0d03300924247d6": {
      "model_module": "@jupyter-widgets/controls",
      "model_module_version": "1.0.0",
      "model_name": "SliderStyleModel",
      "state": {
       "description_width": ""
      }
     },
     "7028bbe4624d480093da42cbdbeae5bb": {
      "model_module": "@jupyter-widgets/base",
      "model_module_version": "1.0.0",
      "model_name": "LayoutModel",
      "state": {}
     },
     "7034e15b99524fcfa7fa3f7d3136bebe": {
      "model_module": "@jupyter-widgets/controls",
      "model_module_version": "1.0.0",
      "model_name": "IntSliderModel",
      "state": {
       "description": "x",
       "layout": "IPY_MODEL_70ca1b2de6c54067999d3e8acf1a2f0f",
       "min": -100,
       "style": "IPY_MODEL_550204628bc449f384f28260bf092cc5"
      }
     },
     "7051678c881e4a09ad0f6d414720a272": {
      "model_module": "@jupyter-widgets/base",
      "model_module_version": "1.0.0",
      "model_name": "LayoutModel",
      "state": {}
     },
     "70524fb36c18456d92b154ee3631e5af": {
      "model_module": "@jupyter-widgets/base",
      "model_module_version": "1.0.0",
      "model_name": "LayoutModel",
      "state": {}
     },
     "70757c7e31fc4f119a9d09d51a68e066": {
      "model_module": "@jupyter-widgets/base",
      "model_module_version": "1.0.0",
      "model_name": "LayoutModel",
      "state": {}
     },
     "707d0395e2f94c519a9081dc56d95048": {
      "model_module": "@jupyter-widgets/controls",
      "model_module_version": "1.0.0",
      "model_name": "SliderStyleModel",
      "state": {
       "description_width": ""
      }
     },
     "709b5d69daa14e6bbb31689d426916f0": {
      "model_module": "@jupyter-widgets/controls",
      "model_module_version": "1.0.0",
      "model_name": "IntSliderModel",
      "state": {
       "description": "sWidth",
       "layout": "IPY_MODEL_8f84a325cd2c4402b039cc6181a16c0e",
       "max": 600,
       "style": "IPY_MODEL_1714178b073a439abde533ed15534562",
       "value": 140
      }
     },
     "70bed7192989422b8d39d815d5927246": {
      "model_module": "jp_proxy_widget",
      "model_module_version": "^0.3.4",
      "model_name": "JSProxyModel",
      "state": {
       "_model_module_version": "^0.3.4",
       "_send_counter": 2,
       "_view_module_version": "^0.3.4",
       "error_msg": "No error",
       "layout": "IPY_MODEL_5fa5c4bc9e624ce98afc5cadc72efcd8",
       "rendered": true,
       "status": "Got results."
      }
     },
     "70c20b7fc64f4087b31856d8cc1e32ad": {
      "model_module": "@jupyter-widgets/base",
      "model_module_version": "1.0.0",
      "model_name": "LayoutModel",
      "state": {}
     },
     "70ca1b2de6c54067999d3e8acf1a2f0f": {
      "model_module": "@jupyter-widgets/base",
      "model_module_version": "1.0.0",
      "model_name": "LayoutModel",
      "state": {}
     },
     "70fa1f14384541f9990d724beaa7ba1e": {
      "model_module": "@jupyter-widgets/output",
      "model_module_version": "1.0.0",
      "model_name": "OutputModel",
      "state": {
       "layout": "IPY_MODEL_9cfae546c5804466a3022b889235da51"
      }
     },
     "711a1218934c420086dbd7d1e0213641": {
      "model_module": "@jupyter-widgets/controls",
      "model_module_version": "1.0.0",
      "model_name": "IntSliderModel",
      "state": {
       "description": "blue",
       "layout": "IPY_MODEL_db0ce166b6924696a705aee247ce77a0",
       "max": 255,
       "style": "IPY_MODEL_a5736efe026941f5b28d682dca5eb4ae",
       "value": 255
      }
     },
     "71371a01f60e41b4917632e837b7da74": {
      "model_module": "@jupyter-widgets/controls",
      "model_module_version": "1.0.0",
      "model_name": "SliderStyleModel",
      "state": {
       "description_width": ""
      }
     },
     "715f7fa9ed1f4eee9319ec6bdf318f37": {
      "model_module": "@jupyter-widgets/controls",
      "model_module_version": "1.0.0",
      "model_name": "SliderStyleModel",
      "state": {
       "description_width": ""
      }
     },
     "716d22fdd9264a66aff6b4d335d77b12": {
      "model_module": "@jupyter-widgets/base",
      "model_module_version": "1.0.0",
      "model_name": "LayoutModel",
      "state": {}
     },
     "7183c0c2306b4419861ea22754a66085": {
      "model_module": "@jupyter-widgets/controls",
      "model_module_version": "1.0.0",
      "model_name": "SliderStyleModel",
      "state": {
       "description_width": ""
      }
     },
     "71dd05174d9640ed840584b1ff333298": {
      "model_module": "@jupyter-widgets/controls",
      "model_module_version": "1.0.0",
      "model_name": "IntSliderModel",
      "state": {
       "description": "x",
       "layout": "IPY_MODEL_7d621d942551485fa26fe63782ebcc34",
       "min": -100,
       "style": "IPY_MODEL_0d76138d9c31432481555163e720f8ca"
      }
     },
     "720944a2fcfc45b493d963d41317271b": {
      "model_module": "@jupyter-widgets/controls",
      "model_module_version": "1.0.0",
      "model_name": "CheckboxModel",
      "state": {
       "description": "fill",
       "disabled": false,
       "layout": "IPY_MODEL_26bb7c19ef7642acbe11cc5fdaf4223a",
       "style": "IPY_MODEL_ef50217bb523497c99ecbd90f68af130",
       "value": true
      }
     },
     "725cea37ab154e93b93e6d150aa2825e": {
      "model_module": "@jupyter-widgets/controls",
      "model_module_version": "1.0.0",
      "model_name": "IntSliderModel",
      "state": {
       "description": "degrees",
       "layout": "IPY_MODEL_ccafb69d6dc943beb8e644a2bbc2ee54",
       "max": 360,
       "min": -360,
       "style": "IPY_MODEL_491bc71f70d6426fb1d320d5b572cc16",
       "value": 149
      }
     },
     "7261fd9657c34e6886f4a75cdc18d33f": {
      "model_module": "@jupyter-widgets/output",
      "model_module_version": "1.0.0",
      "model_name": "OutputModel",
      "state": {
       "layout": "IPY_MODEL_0a39ab45b1af48b9a7f735df24b7b659"
      }
     },
     "7262fdf8bef544d49598ad81ef0767f1": {
      "model_module": "@jupyter-widgets/controls",
      "model_module_version": "1.0.0",
      "model_name": "SliderStyleModel",
      "state": {
       "description_width": ""
      }
     },
     "726f550660b849dd8934676e66b138d7": {
      "model_module": "@jupyter-widgets/base",
      "model_module_version": "1.0.0",
      "model_name": "LayoutModel",
      "state": {}
     },
     "72d208781a684957b07912b6b3bc8f8f": {
      "model_module": "@jupyter-widgets/controls",
      "model_module_version": "1.0.0",
      "model_name": "SliderStyleModel",
      "state": {
       "description_width": ""
      }
     },
     "72d976ab5db34ef1947715ee8110368a": {
      "model_module": "@jupyter-widgets/controls",
      "model_module_version": "1.0.0",
      "model_name": "TabModel",
      "state": {
       "_titles": {
        "0": "Canvas",
        "1": "Snapshot"
       },
       "children": [
        "IPY_MODEL_e1223ba971ef4031ba21e4f2a5130939",
        "IPY_MODEL_43849faed1e54c04bf637631cb72551d"
       ],
       "layout": "IPY_MODEL_342799169da9429d9edd682c846d6d7f"
      }
     },
     "72e543b8197b4f1c94f81c699b5973a9": {
      "model_module": "@jupyter-widgets/controls",
      "model_module_version": "1.0.0",
      "model_name": "SliderStyleModel",
      "state": {
       "description_width": ""
      }
     },
     "72f0a85eac66457c8896743b3888cc6b": {
      "model_module": "@jupyter-widgets/base",
      "model_module_version": "1.0.0",
      "model_name": "LayoutModel",
      "state": {}
     },
     "73074169b87449eab2881cdc1c2dc5f8": {
      "model_module": "@jupyter-widgets/base",
      "model_module_version": "1.0.0",
      "model_name": "LayoutModel",
      "state": {}
     },
     "731926c1ad3e43c89edecc4ab25cff3f": {
      "model_module": "@jupyter-widgets/base",
      "model_module_version": "1.0.0",
      "model_name": "LayoutModel",
      "state": {}
     },
     "73275ec3a7884fc5bbb9adc97de3af76": {
      "model_module": "@jupyter-widgets/output",
      "model_module_version": "1.0.0",
      "model_name": "OutputModel",
      "state": {
       "layout": "IPY_MODEL_c260cf1cfd354d4c9dd122e6ecf9e8b1"
      }
     },
     "735c58b34315471e962534256a552196": {
      "model_module": "@jupyter-widgets/controls",
      "model_module_version": "1.0.0",
      "model_name": "IntSliderModel",
      "state": {
       "description": "red",
       "layout": "IPY_MODEL_bc4a9abaf51a47fab5340a5b1c7be71f",
       "max": 255,
       "style": "IPY_MODEL_0d65c9f8b8cd4c278877f04bb963daea",
       "value": 127
      }
     },
     "7376d47badbb45339288218712a8c41a": {
      "model_module": "@jupyter-widgets/base",
      "model_module_version": "1.0.0",
      "model_name": "LayoutModel",
      "state": {}
     },
     "738407a4dc154d9ea46b2c4ba7d200bc": {
      "model_module": "@jupyter-widgets/controls",
      "model_module_version": "1.0.0",
      "model_name": "TabModel",
      "state": {
       "_titles": {
        "0": "Canvas",
        "1": "Snapshot"
       },
       "children": [
        "IPY_MODEL_49d7f9f02fcc4e8da263c8969b31e156",
        "IPY_MODEL_d3eec64ce798400397108160d8174df0"
       ],
       "layout": "IPY_MODEL_b34cec64080c447cb8f0edadd7cce72a",
       "selected_index": 1
      }
     },
     "739cb1b3e551481faef72e4ac3e280cd": {
      "model_module": "@jupyter-widgets/base",
      "model_module_version": "1.0.0",
      "model_name": "LayoutModel",
      "state": {}
     },
     "73ac49203d344925b1952cbf1effcd99": {
      "model_module": "@jupyter-widgets/controls",
      "model_module_version": "1.0.0",
      "model_name": "SliderStyleModel",
      "state": {
       "description_width": ""
      }
     },
     "73e5fb468e134a7c868d006d7d7f16b4": {
      "model_module": "@jupyter-widgets/controls",
      "model_module_version": "1.0.0",
      "model_name": "SliderStyleModel",
      "state": {
       "description_width": ""
      }
     },
     "73ef9fac00c34fbba2d4679318de8790": {
      "model_module": "@jupyter-widgets/controls",
      "model_module_version": "1.0.0",
      "model_name": "SliderStyleModel",
      "state": {
       "description_width": ""
      }
     },
     "73f3bcd258c747d3bcac3d2331ca4f87": {
      "model_module": "@jupyter-widgets/controls",
      "model_module_version": "1.0.0",
      "model_name": "VBoxModel",
      "state": {
       "children": [
        "IPY_MODEL_148dea211f784b30991994f8ecf3e4b5",
        "IPY_MODEL_4fe0b62e95074f2ab51e3a5fd2b774a7"
       ],
       "layout": "IPY_MODEL_50797ed82dd54ad8b7feb7f3bb5483ce"
      }
     },
     "7401918960794eacb24017c0d138171c": {
      "model_module": "@jupyter-widgets/controls",
      "model_module_version": "1.0.0",
      "model_name": "SliderStyleModel",
      "state": {
       "description_width": ""
      }
     },
     "740855e0bebf4f35b41ae7c98254eed0": {
      "model_module": "@jupyter-widgets/controls",
      "model_module_version": "1.0.0",
      "model_name": "DescriptionStyleModel",
      "state": {
       "description_width": ""
      }
     },
     "7412294309a0417bb062c0c61da819e3": {
      "model_module": "@jupyter-widgets/base",
      "model_module_version": "1.0.0",
      "model_name": "LayoutModel",
      "state": {}
     },
     "7432f63598da477ba358388b5f887995": {
      "model_module": "@jupyter-widgets/base",
      "model_module_version": "1.0.0",
      "model_name": "LayoutModel",
      "state": {}
     },
     "7434ff9a078940b9bb4436c95a8f73c1": {
      "model_module": "@jupyter-widgets/base",
      "model_module_version": "1.0.0",
      "model_name": "LayoutModel",
      "state": {}
     },
     "743cd709f7fa41219527bf7d464da3b6": {
      "model_module": "@jupyter-widgets/controls",
      "model_module_version": "1.0.0",
      "model_name": "IntSliderModel",
      "state": {
       "description": "lineWidth",
       "layout": "IPY_MODEL_4b289351962a49d8885434db08b2260b",
       "max": 20,
       "style": "IPY_MODEL_28471fdbe2d4485fa5e32ed60ec1915d",
       "value": 3
      }
     },
     "7449daf1931a454eb1d0b13c9a1ea37a": {
      "model_module": "@jupyter-widgets/controls",
      "model_module_version": "1.0.0",
      "model_name": "IntSliderModel",
      "state": {
       "description": "x",
       "layout": "IPY_MODEL_38d5f0d38bcb4bf386c6b6881c02e16e",
       "min": -100,
       "style": "IPY_MODEL_707d0395e2f94c519a9081dc56d95048"
      }
     },
     "74568ab4fb83449d93eb164164743d9d": {
      "model_module": "@jupyter-widgets/controls",
      "model_module_version": "1.0.0",
      "model_name": "TabModel",
      "state": {
       "_titles": {
        "0": "Canvas",
        "1": "Snapshot"
       },
       "children": [
        "IPY_MODEL_2a771ba2332947638e2011cc23b498b3",
        "IPY_MODEL_fc8459e7d59548afb0a8384995efeeca"
       ],
       "layout": "IPY_MODEL_f0de5a912e24406d96588632a574fd8c"
      }
     },
     "7486f5e5619f4d95ab244e452f2d0b97": {
      "model_module": "@jupyter-widgets/base",
      "model_module_version": "1.0.0",
      "model_name": "LayoutModel",
      "state": {}
     },
     "748e5c97d2804ec0a77f6d19bff0669b": {
      "model_module": "@jupyter-widgets/controls",
      "model_module_version": "1.0.0",
      "model_name": "SliderStyleModel",
      "state": {
       "description_width": ""
      }
     },
     "74957b9d872f41b4b7443bf11f88fec4": {
      "model_module": "@jupyter-widgets/controls",
      "model_module_version": "1.0.0",
      "model_name": "DescriptionStyleModel",
      "state": {
       "description_width": ""
      }
     },
     "74aae400d0234be49cd4a21330aa3a10": {
      "model_module": "@jupyter-widgets/controls",
      "model_module_version": "1.0.0",
      "model_name": "SliderStyleModel",
      "state": {
       "description_width": ""
      }
     },
     "74b2742b1bfc45aca3cb643243834a8c": {
      "model_module": "@jupyter-widgets/base",
      "model_module_version": "1.0.0",
      "model_name": "LayoutModel",
      "state": {}
     },
     "74cbc4cb81b147a1b9489b8430bad25c": {
      "model_module": "@jupyter-widgets/base",
      "model_module_version": "1.0.0",
      "model_name": "LayoutModel",
      "state": {}
     },
     "74d193da70504933894e6fd7933dda49": {
      "model_module": "@jupyter-widgets/base",
      "model_module_version": "1.0.0",
      "model_name": "LayoutModel",
      "state": {}
     },
     "74d9892fee73442e810eb9d810a14681": {
      "model_module": "@jupyter-widgets/controls",
      "model_module_version": "1.0.0",
      "model_name": "IntSliderModel",
      "state": {
       "description": "y",
       "layout": "IPY_MODEL_f9d4de99477a466d8dfd1d60b7f67cb7",
       "min": -100,
       "style": "IPY_MODEL_61ca7862a5f44ae099da9334ffa49491"
      }
     },
     "74e1c823b913436e97f7bfb1babe2ac9": {
      "model_module": "jp_proxy_widget",
      "model_module_version": "^0.3.4",
      "model_name": "JSProxyModel",
      "state": {
       "_model_module_version": "^0.3.4",
       "_send_counter": 3408,
       "_view_module_version": "^0.3.4",
       "error_msg": "No error",
       "layout": "IPY_MODEL_bc9199ac33e64f7bbe9c6e9112ed9eed",
       "rendered": true,
       "status": "Got results."
      }
     },
     "74ea6cc38ac2424fb12021dfde5a4e57": {
      "model_module": "@jupyter-widgets/base",
      "model_module_version": "1.0.0",
      "model_name": "LayoutModel",
      "state": {}
     },
     "74faef74215548369eb533fd4e826347": {
      "model_module": "@jupyter-widgets/base",
      "model_module_version": "1.0.0",
      "model_name": "LayoutModel",
      "state": {}
     },
     "752dc1c8506e40b688e535d79cc259ba": {
      "model_module": "@jupyter-widgets/controls",
      "model_module_version": "1.0.0",
      "model_name": "DescriptionStyleModel",
      "state": {
       "description_width": ""
      }
     },
     "75394f37115740298c75c9715193030f": {
      "model_module": "@jupyter-widgets/base",
      "model_module_version": "1.0.0",
      "model_name": "LayoutModel",
      "state": {}
     },
     "753b63c2122c4b64950abbbe0956daf3": {
      "model_module": "@jupyter-widgets/controls",
      "model_module_version": "1.0.0",
      "model_name": "VBoxModel",
      "state": {
       "children": [
        "IPY_MODEL_3e367bf33f1047dfbc03f16555494f9c",
        "IPY_MODEL_351cad72bcaf4b9a8abf332b64dbbb8b"
       ],
       "layout": "IPY_MODEL_5e31e23242f54e538493ed95103f0559"
      }
     },
     "75a1ff9c5e9d4bfba39c20d5b0c999c7": {
      "model_module": "@jupyter-widgets/base",
      "model_module_version": "1.0.0",
      "model_name": "LayoutModel",
      "state": {}
     },
     "75b20f334ff84f84a84a206f9cedb680": {
      "model_module": "@jupyter-widgets/controls",
      "model_module_version": "1.0.0",
      "model_name": "SliderStyleModel",
      "state": {
       "description_width": ""
      }
     },
     "75b8407b3a7d47b2b2bf8c3687d77742": {
      "model_module": "@jupyter-widgets/base",
      "model_module_version": "1.0.0",
      "model_name": "LayoutModel",
      "state": {}
     },
     "75bbe9e5394a4ea5b7935b97532a3629": {
      "model_module": "@jupyter-widgets/controls",
      "model_module_version": "1.0.0",
      "model_name": "IntSliderModel",
      "state": {
       "description": "lineWidth",
       "layout": "IPY_MODEL_0683a782ef144a8b8fe64d0539892c52",
       "max": 20,
       "style": "IPY_MODEL_11b4cd7275ae454b9f8f4193c877792f",
       "value": 3
      }
     },
     "75cda1e42d134d4ca9c5a41eeeb9263a": {
      "model_module": "@jupyter-widgets/base",
      "model_module_version": "1.0.0",
      "model_name": "LayoutModel",
      "state": {}
     },
     "75d62cb247714505aa42c4e9aabbb163": {
      "model_module": "@jupyter-widgets/controls",
      "model_module_version": "1.0.0",
      "model_name": "IntSliderModel",
      "state": {
       "description": "y",
       "layout": "IPY_MODEL_23ea168f6d8b4be4aa1febf6b7134381",
       "min": -100,
       "style": "IPY_MODEL_cccd07e7220c4bcf8244cd36ff89b8c2"
      }
     },
     "75da1847826641b79ba87f9abd2867de": {
      "model_module": "@jupyter-widgets/controls",
      "model_module_version": "1.0.0",
      "model_name": "FloatSliderModel",
      "state": {
       "description": "alpha",
       "layout": "IPY_MODEL_55392b438df34f41831796518c710a1e",
       "max": 1,
       "step": 0.1,
       "style": "IPY_MODEL_960b8aa072264d4cbd33e16a82c3b576",
       "value": 0.5
      }
     },
     "75f15d47285c43418a8dbdf550a192b3": {
      "model_module": "@jupyter-widgets/controls",
      "model_module_version": "1.0.0",
      "model_name": "VBoxModel",
      "state": {
       "children": [
        "IPY_MODEL_e0ccbe12073c4957b1112c8e058aaf3f",
        "IPY_MODEL_ed11029dc350472c9129c773df21df98"
       ],
       "layout": "IPY_MODEL_0165297d54e146a797a52ef30be8dd22"
      }
     },
     "761ec6e88079411bb17eb4433a854d69": {
      "model_module": "@jupyter-widgets/controls",
      "model_module_version": "1.0.0",
      "model_name": "DescriptionStyleModel",
      "state": {
       "description_width": ""
      }
     },
     "76647457cb0c4fb7ac3772753ee048d1": {
      "model_module": "@jupyter-widgets/controls",
      "model_module_version": "1.0.0",
      "model_name": "SliderStyleModel",
      "state": {
       "description_width": ""
      }
     },
     "76812d39075f496fa20b7e7875cc60cb": {
      "model_module": "@jupyter-widgets/base",
      "model_module_version": "1.0.0",
      "model_name": "LayoutModel",
      "state": {}
     },
     "76a75424ca3b491998cc985918889cad": {
      "model_module": "@jupyter-widgets/base",
      "model_module_version": "1.0.0",
      "model_name": "LayoutModel",
      "state": {}
     },
     "76b992c74e704e72b70e270e78e5bab9": {
      "model_module": "@jupyter-widgets/base",
      "model_module_version": "1.0.0",
      "model_name": "LayoutModel",
      "state": {}
     },
     "76d68944188a41489cbe6e6b749a3a1a": {
      "model_module": "@jupyter-widgets/controls",
      "model_module_version": "1.0.0",
      "model_name": "IntSliderModel",
      "state": {
       "description": "degrees",
       "layout": "IPY_MODEL_aab3ed321aac429fb4c144fa8e59f161",
       "max": 360,
       "min": -360,
       "style": "IPY_MODEL_e6467deb9dab4a8ab80a2ba1bafc1f7a",
       "value": 25
      }
     },
     "76dc543a17bd4d49a495b03b1bfa7ef8": {
      "model_module": "@jupyter-widgets/controls",
      "model_module_version": "1.0.0",
      "model_name": "SliderStyleModel",
      "state": {
       "description_width": ""
      }
     },
     "7733cf83a8b343f3a87244e92575400b": {
      "model_module": "@jupyter-widgets/controls",
      "model_module_version": "1.0.0",
      "model_name": "SliderStyleModel",
      "state": {
       "description_width": ""
      }
     },
     "773cb762157b4048ab31df3dc28afe53": {
      "model_module": "@jupyter-widgets/base",
      "model_module_version": "1.0.0",
      "model_name": "LayoutModel",
      "state": {}
     },
     "77704684c82943c7902b7a09cf676d6b": {
      "model_module": "@jupyter-widgets/base",
      "model_module_version": "1.0.0",
      "model_name": "LayoutModel",
      "state": {}
     },
     "77962c1ae5024ff4a70e652ffbb1096c": {
      "model_module": "@jupyter-widgets/base",
      "model_module_version": "1.0.0",
      "model_name": "LayoutModel",
      "state": {}
     },
     "77ae9bb1c14f40f1a09cf92591099c78": {
      "model_module": "@jupyter-widgets/controls",
      "model_module_version": "1.0.0",
      "model_name": "IntSliderModel",
      "state": {
       "description": "sHeight",
       "layout": "IPY_MODEL_7ddf99235d7046f0aa749d76dd8d7679",
       "max": 600,
       "style": "IPY_MODEL_0c01f070fcf141ec97af15ae4aa6cd2e",
       "value": 20
      }
     },
     "77c37a70d686438abda8ceb2dcf1a517": {
      "model_module": "@jupyter-widgets/base",
      "model_module_version": "1.0.0",
      "model_name": "LayoutModel",
      "state": {}
     },
     "77ee900ecbcc4efa94202755e8cabc96": {
      "model_module": "@jupyter-widgets/controls",
      "model_module_version": "1.0.0",
      "model_name": "IntSliderModel",
      "state": {
       "description": "degrees",
       "layout": "IPY_MODEL_9487eb47d99e4727a37ae8c605ab0bb3",
       "max": 360,
       "min": -360,
       "style": "IPY_MODEL_25e715584ab4424e8a35eb9df9c85de8",
       "value": -66
      }
     },
     "77f7355e4afc4e1baf658fc4c61590ec": {
      "model_module": "@jupyter-widgets/base",
      "model_module_version": "1.0.0",
      "model_name": "LayoutModel",
      "state": {}
     },
     "77fcaa89ee7249ab9168e43a8cba7db1": {
      "model_module": "@jupyter-widgets/base",
      "model_module_version": "1.0.0",
      "model_name": "LayoutModel",
      "state": {}
     },
     "783fb53931f7465aac62c5a159b4c993": {
      "model_module": "@jupyter-widgets/controls",
      "model_module_version": "1.0.0",
      "model_name": "IntSliderModel",
      "state": {
       "description": "h",
       "layout": "IPY_MODEL_b3ae95d92943403d9fdf8b440b491b8d",
       "max": 300,
       "min": -300,
       "style": "IPY_MODEL_79188187496d4003bec542d6bbc3b5b8",
       "value": 50
      }
     },
     "784d4fa3301e452abc5224ea6dfa0361": {
      "model_module": "@jupyter-widgets/base",
      "model_module_version": "1.0.0",
      "model_name": "LayoutModel",
      "state": {}
     },
     "78562587a4a144cb9a4e644dfd6d8453": {
      "model_module": "jp_proxy_widget",
      "model_module_version": "^0.3.4",
      "model_name": "JSProxyModel",
      "state": {
       "_model_module_version": "^0.3.4",
       "_send_counter": 2,
       "_view_module_version": "^0.3.4",
       "error_msg": "No error",
       "layout": "IPY_MODEL_b51443f9a63c4a1db477062701315528",
       "rendered": true,
       "status": "call back to <function callback_function at 0x10d62a320>"
      }
     },
     "785d4f9fe73e408a8315d05cd9b8a4ce": {
      "model_module": "jp_proxy_widget",
      "model_module_version": "^0.3.4",
      "model_name": "JSProxyModel",
      "state": {
       "_model_module_version": "^0.3.4",
       "_send_counter": 181,
       "_view_module_version": "^0.3.4",
       "error_msg": "No error",
       "layout": "IPY_MODEL_b21c96b17def40f4b789abe49259fab7",
       "rendered": true,
       "status": "Got results."
      }
     },
     "78608b96edfd46af8ef1e85ba4b4dde0": {
      "model_module": "@jupyter-widgets/output",
      "model_module_version": "1.0.0",
      "model_name": "OutputModel",
      "state": {
       "layout": "IPY_MODEL_7ab63f850df5473999c30321403c55c2"
      }
     },
     "78733a24202b44f3b50528af4ab33b95": {
      "model_module": "@jupyter-widgets/base",
      "model_module_version": "1.0.0",
      "model_name": "LayoutModel",
      "state": {}
     },
     "788bd8e238b24981aa738bfa96547882": {
      "model_module": "@jupyter-widgets/controls",
      "model_module_version": "1.0.0",
      "model_name": "HTMLModel",
      "state": {
       "layout": "IPY_MODEL_9c4d307bd36a43ecbebe3b532825a22d",
       "style": "IPY_MODEL_a7a5c7fbf4eb41b28a7670088c55803e",
       "value": "<img src=\"interactive_circle.png\" id=\"snapshot_id_17_1536246705666\"/>\n <div id=\"snapshot_id_18_1536246705666\">interactive_circle.png</div>"
      }
     },
     "7895d0318ecf4cc49eba0188682100b7": {
      "model_module": "@jupyter-widgets/controls",
      "model_module_version": "1.0.0",
      "model_name": "FloatSliderModel",
      "state": {
       "description": "alpha",
       "layout": "IPY_MODEL_dbba1e826ae04c4ca554235ac52af713",
       "max": 1,
       "step": 0.1,
       "style": "IPY_MODEL_f8df1b22de074004a55d08cfec2a9777",
       "value": 1
      }
     },
     "7899031a98a84214a4617ed3b18814bc": {
      "model_module": "jp_proxy_widget",
      "model_module_version": "^0.3.4",
      "model_name": "JSProxyModel",
      "state": {
       "_model_module_version": "^0.3.4",
       "_send_counter": 3761,
       "_view_module_version": "^0.3.4",
       "error_msg": "No error",
       "layout": "IPY_MODEL_b1126a34fafc43049a8bb0fa7b268819",
       "rendered": true,
       "status": "Got results."
      }
     },
     "78a2a8296214403b863bd782faff1aff": {
      "model_module": "@jupyter-widgets/base",
      "model_module_version": "1.0.0",
      "model_name": "LayoutModel",
      "state": {}
     },
     "78a36bc249644c3abc87b50dc88506bb": {
      "model_module": "jp_proxy_widget",
      "model_module_version": "^0.3.4",
      "model_name": "JSProxyModel",
      "state": {
       "_model_module_version": "^0.3.4",
       "_send_counter": 6,
       "_view_module_version": "^0.3.4",
       "error_msg": "No error",
       "layout": "IPY_MODEL_d62fd1b878a24442ba33a29738dac5e8",
       "rendered": true,
       "status": "Got results."
      }
     },
     "78c2fc49d89e4a098dfbf0dea6f2a2a2": {
      "model_module": "@jupyter-widgets/controls",
      "model_module_version": "1.0.0",
      "model_name": "IntSliderModel",
      "state": {
       "description": "dx",
       "layout": "IPY_MODEL_7b7344ed237e455fb1ccce6c966386bf",
       "min": -100,
       "style": "IPY_MODEL_aa57f6633ee54a089b609d1e78376427",
       "value": -50
      }
     },
     "78ebd864a4344056910e970f1f016825": {
      "model_module": "@jupyter-widgets/controls",
      "model_module_version": "1.0.0",
      "model_name": "IntSliderModel",
      "state": {
       "description": "dx",
       "layout": "IPY_MODEL_32f639dcb31a4d2c828b6385eed836e2",
       "min": -100,
       "style": "IPY_MODEL_200ff205022d4b898fafbe077cda899e",
       "value": 10
      }
     },
     "7913ece20bb84999aef7db3488be134a": {
      "model_module": "@jupyter-widgets/controls",
      "model_module_version": "1.0.0",
      "model_name": "IntSliderModel",
      "state": {
       "description": "degrees",
       "layout": "IPY_MODEL_077d2fa2edd74850ab287ffabf01d1fd",
       "max": 360,
       "min": -360,
       "style": "IPY_MODEL_e4aef8f45a9e449c8055e60176b338a1",
       "value": 229
      }
     },
     "79188187496d4003bec542d6bbc3b5b8": {
      "model_module": "@jupyter-widgets/controls",
      "model_module_version": "1.0.0",
      "model_name": "SliderStyleModel",
      "state": {
       "description_width": ""
      }
     },
     "792e019f2ba742f1b26acacb985ef347": {
      "model_module": "@jupyter-widgets/base",
      "model_module_version": "1.0.0",
      "model_name": "LayoutModel",
      "state": {}
     },
     "7934e4b314d04c60a45959b29c2a3350": {
      "model_module": "@jupyter-widgets/controls",
      "model_module_version": "1.0.0",
      "model_name": "SliderStyleModel",
      "state": {
       "description_width": ""
      }
     },
     "794c0af0d20341e29b6e7dd2b18aa6ec": {
      "model_module": "@jupyter-widgets/controls",
      "model_module_version": "1.0.0",
      "model_name": "SliderStyleModel",
      "state": {
       "description_width": ""
      }
     },
     "7975f3519aa5488d8f4544f3926229ea": {
      "model_module": "@jupyter-widgets/controls",
      "model_module_version": "1.0.0",
      "model_name": "SliderStyleModel",
      "state": {
       "description_width": ""
      }
     },
     "798539f121e44a62bf3e83b1816cd28d": {
      "model_module": "@jupyter-widgets/output",
      "model_module_version": "1.0.0",
      "model_name": "OutputModel",
      "state": {
       "layout": "IPY_MODEL_2f826654126b4036bc63c60f245cb8d4"
      }
     },
     "799dac79b6ad4ddb816b595570a5f807": {
      "model_module": "@jupyter-widgets/controls",
      "model_module_version": "1.0.0",
      "model_name": "TabModel",
      "state": {
       "_titles": {
        "0": "Canvas",
        "1": "Snapshot"
       },
       "children": [
        "IPY_MODEL_cae855fe20e243a782578955cba95947",
        "IPY_MODEL_c3cfffbf5d344c70bde405da1c31e7f0"
       ],
       "layout": "IPY_MODEL_7486f5e5619f4d95ab244e452f2d0b97"
      }
     },
     "79af80ea7bce48508e4ac2360b1a826d": {
      "model_module": "@jupyter-widgets/controls",
      "model_module_version": "1.0.0",
      "model_name": "IntSliderModel",
      "state": {
       "description": "blue",
       "layout": "IPY_MODEL_408c10ccbc734beaba126b8f30975e97",
       "max": 255,
       "style": "IPY_MODEL_4e72ba28cb424d8c83de3ca85bf1b7a4",
       "value": 255
      }
     },
     "79cac0fb030d453395324e9856560dbb": {
      "model_module": "@jupyter-widgets/controls",
      "model_module_version": "1.0.0",
      "model_name": "SliderStyleModel",
      "state": {
       "description_width": ""
      }
     },
     "79cc631e2ea74b14b6d696891885ec6f": {
      "model_module": "jp_proxy_widget",
      "model_module_version": "^0.3.4",
      "model_name": "JSProxyModel",
      "state": {
       "_model_module_version": "^0.3.4",
       "_send_counter": 2646,
       "_view_module_version": "^0.3.4",
       "error_msg": "No error",
       "layout": "IPY_MODEL_556d9d566c4b4d099d582c7fe7b21600",
       "rendered": true,
       "status": "Got results."
      }
     },
     "7a6de2fbbd7b4d97b8ffcf1bd47d2c75": {
      "model_module": "@jupyter-widgets/base",
      "model_module_version": "1.0.0",
      "model_name": "LayoutModel",
      "state": {}
     },
     "7ab63f850df5473999c30321403c55c2": {
      "model_module": "@jupyter-widgets/base",
      "model_module_version": "1.0.0",
      "model_name": "LayoutModel",
      "state": {}
     },
     "7abb52453fb04d0087ae7856d04f0512": {
      "model_module": "@jupyter-widgets/controls",
      "model_module_version": "1.0.0",
      "model_name": "IntSliderModel",
      "state": {
       "description": "x",
       "layout": "IPY_MODEL_8222d1ae499f47598b52646611036ddd",
       "min": -100,
       "style": "IPY_MODEL_26bebf5448154bd4b302375d200cc359",
       "value": 23
      }
     },
     "7b166f5e9d214bc3a7a8d21bcfde82de": {
      "model_module": "@jupyter-widgets/base",
      "model_module_version": "1.0.0",
      "model_name": "LayoutModel",
      "state": {}
     },
     "7b22d20645bc461d8e495e5fe8cee6e8": {
      "model_module": "@jupyter-widgets/controls",
      "model_module_version": "1.0.0",
      "model_name": "SliderStyleModel",
      "state": {
       "description_width": ""
      }
     },
     "7b611f35ec414076b82be5e4bf25a275": {
      "model_module": "@jupyter-widgets/controls",
      "model_module_version": "1.0.0",
      "model_name": "SliderStyleModel",
      "state": {
       "description_width": ""
      }
     },
     "7b7344ed237e455fb1ccce6c966386bf": {
      "model_module": "@jupyter-widgets/base",
      "model_module_version": "1.0.0",
      "model_name": "LayoutModel",
      "state": {}
     },
     "7b7d161f386e4e9caad61d54ef813dec": {
      "model_module": "@jupyter-widgets/controls",
      "model_module_version": "1.0.0",
      "model_name": "SliderStyleModel",
      "state": {
       "description_width": ""
      }
     },
     "7b8bd77963da4309899845143bcae4c3": {
      "model_module": "@jupyter-widgets/base",
      "model_module_version": "1.0.0",
      "model_name": "LayoutModel",
      "state": {}
     },
     "7b96437c6e4647f694db9b79196e2a92": {
      "model_module": "@jupyter-widgets/controls",
      "model_module_version": "1.0.0",
      "model_name": "SliderStyleModel",
      "state": {
       "description_width": ""
      }
     },
     "7b992c1907404d9e849eb907215bacc3": {
      "model_module": "@jupyter-widgets/controls",
      "model_module_version": "1.0.0",
      "model_name": "IntSliderModel",
      "state": {
       "description": "x",
       "layout": "IPY_MODEL_7e342c165ed04353ad60beb0d591ca28",
       "min": -100,
       "style": "IPY_MODEL_c55c69ef0e4f421298649bebcc12e3cb"
      }
     },
     "7bbcb409e9284b17bf0993b8c1a7121f": {
      "model_module": "@jupyter-widgets/base",
      "model_module_version": "1.0.0",
      "model_name": "LayoutModel",
      "state": {}
     },
     "7bc23c6caa9f4946ad4b068af408efc5": {
      "model_module": "@jupyter-widgets/base",
      "model_module_version": "1.0.0",
      "model_name": "LayoutModel",
      "state": {}
     },
     "7c2ea7c4b47147d7a957be383787a9a0": {
      "model_module": "@jupyter-widgets/controls",
      "model_module_version": "1.0.0",
      "model_name": "SliderStyleModel",
      "state": {
       "description_width": ""
      }
     },
     "7c3418e1e8ca43bab6ef5371bb932f4e": {
      "model_module": "@jupyter-widgets/base",
      "model_module_version": "1.0.0",
      "model_name": "LayoutModel",
      "state": {}
     },
     "7c39e9cebc5e4a038786b9e8150830e7": {
      "model_module": "@jupyter-widgets/controls",
      "model_module_version": "1.0.0",
      "model_name": "IntSliderModel",
      "state": {
       "description": "x",
       "layout": "IPY_MODEL_b8ec113e1d494e2084c59b3375635b5e",
       "min": -100,
       "style": "IPY_MODEL_59fa78487ee5441aba21f7d5775e750c"
      }
     },
     "7c737a7125534bfc8e6776f648b536c3": {
      "model_module": "@jupyter-widgets/controls",
      "model_module_version": "1.0.0",
      "model_name": "SliderStyleModel",
      "state": {
       "description_width": ""
      }
     },
     "7ca0d2b4d83746758ac261bd89f88a25": {
      "model_module": "@jupyter-widgets/controls",
      "model_module_version": "1.0.0",
      "model_name": "IntSliderModel",
      "state": {
       "description": "w",
       "layout": "IPY_MODEL_81c2f7da79fd4fd49d872fde81ce7076",
       "max": 300,
       "min": -300,
       "style": "IPY_MODEL_79cac0fb030d453395324e9856560dbb",
       "value": 100
      }
     },
     "7cabe852dbc24c31acc7c6a7c6d0ede4": {
      "model_module": "@jupyter-widgets/base",
      "model_module_version": "1.0.0",
      "model_name": "LayoutModel",
      "state": {}
     },
     "7cb202cb4d8c432181afd5546536bea2": {
      "model_module": "@jupyter-widgets/base",
      "model_module_version": "1.0.0",
      "model_name": "LayoutModel",
      "state": {}
     },
     "7cc25c3914fc4fd49d9c6389ea6c1b99": {
      "model_module": "@jupyter-widgets/controls",
      "model_module_version": "1.0.0",
      "model_name": "IntSliderModel",
      "state": {
       "description": "red",
       "layout": "IPY_MODEL_c080b133e43c4405baeb5af835bdf0b4",
       "max": 255,
       "style": "IPY_MODEL_bdb7aa20bc444802b7c22332c41550dd",
       "value": 255
      }
     },
     "7cd2d028bc254b6f8d294dac06843509": {
      "model_module": "@jupyter-widgets/controls",
      "model_module_version": "1.0.0",
      "model_name": "IntSliderModel",
      "state": {
       "description": "dy",
       "layout": "IPY_MODEL_dbeef444dbc04857bf0df30320cafd0f",
       "max": 300,
       "min": -300,
       "style": "IPY_MODEL_094eabe6be1141e19dcc7c25830ab854",
       "value": -25
      }
     },
     "7ce10ad1ce32441b936aae9ec15573c0": {
      "model_module": "@jupyter-widgets/controls",
      "model_module_version": "1.0.0",
      "model_name": "IntSliderModel",
      "state": {
       "description": "dy",
       "layout": "IPY_MODEL_9aa455474c8941d2ab6401962d0436ee",
       "min": -100,
       "style": "IPY_MODEL_05576f09bc9a40fca38ec2e4b4d5d182",
       "value": -44
      }
     },
     "7cf24ad747244371a6a664cef869c052": {
      "model_module": "@jupyter-widgets/controls",
      "model_module_version": "1.0.0",
      "model_name": "CheckboxModel",
      "state": {
       "description": "fill",
       "disabled": false,
       "layout": "IPY_MODEL_01078b705d2646639e336ba32eab301c",
       "style": "IPY_MODEL_68a88543c485471f815e28bc14dfacaa",
       "value": true
      }
     },
     "7d252896fa97438fafaa084ea4551263": {
      "model_module": "@jupyter-widgets/controls",
      "model_module_version": "1.0.0",
      "model_name": "IntSliderModel",
      "state": {
       "description": "x",
       "layout": "IPY_MODEL_7ef4a4950a524affbfa31ecff5b28191",
       "min": -100,
       "style": "IPY_MODEL_606a3d3081df41feba38cf18d7bb14fb"
      }
     },
     "7d5476f8bf6b4f0992bbff89a775de6c": {
      "model_module": "@jupyter-widgets/base",
      "model_module_version": "1.0.0",
      "model_name": "LayoutModel",
      "state": {}
     },
     "7d5ec6f5e9464f8fa173e1092a4d49ab": {
      "model_module": "@jupyter-widgets/base",
      "model_module_version": "1.0.0",
      "model_name": "LayoutModel",
      "state": {}
     },
     "7d6123cb113747b0bef85cef4f1ec352": {
      "model_module": "@jupyter-widgets/controls",
      "model_module_version": "1.0.0",
      "model_name": "SliderStyleModel",
      "state": {
       "description_width": ""
      }
     },
     "7d61a2ecfa8940c49fe91f32145025b8": {
      "model_module": "@jupyter-widgets/base",
      "model_module_version": "1.0.0",
      "model_name": "LayoutModel",
      "state": {}
     },
     "7d621d942551485fa26fe63782ebcc34": {
      "model_module": "@jupyter-widgets/base",
      "model_module_version": "1.0.0",
      "model_name": "LayoutModel",
      "state": {}
     },
     "7d7172352da74ff7a76dab1a08ff1a63": {
      "model_module": "@jupyter-widgets/controls",
      "model_module_version": "1.0.0",
      "model_name": "IntSliderModel",
      "state": {
       "description": "sx",
       "layout": "IPY_MODEL_217812abe0e84e3d9e4f26a5bd906e14",
       "max": 600,
       "style": "IPY_MODEL_1b97a6f5c7d04b8295e5006ea9b840d8",
       "value": 30
      }
     },
     "7d8875bda6b5402284ce4d68d8ddeded": {
      "model_module": "@jupyter-widgets/controls",
      "model_module_version": "1.0.0",
      "model_name": "SliderStyleModel",
      "state": {
       "description_width": ""
      }
     },
     "7d8eb81eebc04502bdcd5385f88c5391": {
      "model_module": "@jupyter-widgets/controls",
      "model_module_version": "1.0.0",
      "model_name": "IntSliderModel",
      "state": {
       "description": "sx",
       "layout": "IPY_MODEL_b9261795a9b84967ad0a365bd7e15f50",
       "max": 600,
       "style": "IPY_MODEL_1362e65b3e074c9bba9dcfc817c42cc8",
       "value": 100
      }
     },
     "7da6102835f64cce9f9ed976a1408c3a": {
      "model_module": "@jupyter-widgets/controls",
      "model_module_version": "1.0.0",
      "model_name": "VBoxModel",
      "state": {
       "_dom_classes": [
        "widget-interact"
       ],
       "children": [
        "IPY_MODEL_b7584fd4c3714f09bade3b9c6372300c",
        "IPY_MODEL_416e928762274e0a8feaf32a6e039119",
        "IPY_MODEL_800f99f87edc49e997ce2df274e25723",
        "IPY_MODEL_c6e877e093e54af3a29c449a59e03e80",
        "IPY_MODEL_953da96a37b1424fb5c0becb6b5a78f2",
        "IPY_MODEL_2e08898fcf3248e28c28a65c39c1c0f0",
        "IPY_MODEL_f5290bb43bfe4df2993854d038dd7fd3",
        "IPY_MODEL_34975c24ac6842758578dd8f53bd5645",
        "IPY_MODEL_6eee09e773c24b05a440905cb4dce105",
        "IPY_MODEL_c87dd26b9d0f4544976adb06ee54cd38",
        "IPY_MODEL_978be5dff01743e9bc6d024c17e6d5e3",
        "IPY_MODEL_87e8711c7baa4279a19f60d178338592"
       ],
       "layout": "IPY_MODEL_dd1d122e9e5f40fa8eaa8ef3da1d96c6"
      }
     },
     "7dbe734a24c6482da842a3153a324f1b": {
      "model_module": "@jupyter-widgets/controls",
      "model_module_version": "1.0.0",
      "model_name": "SliderStyleModel",
      "state": {
       "description_width": ""
      }
     },
     "7dce7fb0ed0a4d62a8a22b48a5cbbf4f": {
      "model_module": "@jupyter-widgets/base",
      "model_module_version": "1.0.0",
      "model_name": "LayoutModel",
      "state": {}
     },
     "7dcfd29da0aa4e149d06378de6474f21": {
      "model_module": "@jupyter-widgets/base",
      "model_module_version": "1.0.0",
      "model_name": "LayoutModel",
      "state": {}
     },
     "7ddf99235d7046f0aa749d76dd8d7679": {
      "model_module": "@jupyter-widgets/base",
      "model_module_version": "1.0.0",
      "model_name": "LayoutModel",
      "state": {}
     },
     "7de48c2a592f413d89a01ab6f916a0a3": {
      "model_module": "@jupyter-widgets/controls",
      "model_module_version": "1.0.0",
      "model_name": "IntSliderModel",
      "state": {
       "description": "y",
       "layout": "IPY_MODEL_98e83dc2e37641b6bc4298ac77db31f9",
       "min": -100,
       "style": "IPY_MODEL_c531536d9e7b47a2aaf36faa963f7894"
      }
     },
     "7decb20a2a7849f2abd5225a366b8758": {
      "model_module": "@jupyter-widgets/output",
      "model_module_version": "1.0.0",
      "model_name": "OutputModel",
      "state": {
       "layout": "IPY_MODEL_b0e051589e98426c8122b50e5614bf32",
       "outputs": [
        {
         "ename": "AttributeError",
         "evalue": "'SnapshotCanvas' object has no attribute 'circ'",
         "output_type": "error",
         "traceback": [
          "\u001b[0;31m---------------------------------------------------------------------------\u001b[0m",
          "\u001b[0;31mAttributeError\u001b[0m                            Traceback (most recent call last)",
          "\u001b[0;32m//anaconda/lib/python2.7/site-packages/ipywidgets/widgets/interaction.pyc\u001b[0m in \u001b[0;36mupdate\u001b[0;34m(self, *args)\u001b[0m\n\u001b[1;32m    248\u001b[0m                     \u001b[0mvalue\u001b[0m \u001b[0;34m=\u001b[0m \u001b[0mwidget\u001b[0m\u001b[0;34m.\u001b[0m\u001b[0mget_interact_value\u001b[0m\u001b[0;34m(\u001b[0m\u001b[0;34m)\u001b[0m\u001b[0;34m\u001b[0m\u001b[0m\n\u001b[1;32m    249\u001b[0m                     \u001b[0mself\u001b[0m\u001b[0;34m.\u001b[0m\u001b[0mkwargs\u001b[0m\u001b[0;34m[\u001b[0m\u001b[0mwidget\u001b[0m\u001b[0;34m.\u001b[0m\u001b[0m_kwarg\u001b[0m\u001b[0;34m]\u001b[0m \u001b[0;34m=\u001b[0m \u001b[0mvalue\u001b[0m\u001b[0;34m\u001b[0m\u001b[0m\n\u001b[0;32m--> 250\u001b[0;31m                 \u001b[0mself\u001b[0m\u001b[0;34m.\u001b[0m\u001b[0mresult\u001b[0m \u001b[0;34m=\u001b[0m \u001b[0mself\u001b[0m\u001b[0;34m.\u001b[0m\u001b[0mf\u001b[0m\u001b[0;34m(\u001b[0m\u001b[0;34m**\u001b[0m\u001b[0mself\u001b[0m\u001b[0;34m.\u001b[0m\u001b[0mkwargs\u001b[0m\u001b[0;34m)\u001b[0m\u001b[0;34m\u001b[0m\u001b[0m\n\u001b[0m\u001b[1;32m    251\u001b[0m                 \u001b[0mshow_inline_matplotlib_plots\u001b[0m\u001b[0;34m(\u001b[0m\u001b[0;34m)\u001b[0m\u001b[0;34m\u001b[0m\u001b[0m\n\u001b[1;32m    252\u001b[0m                 \u001b[0;32mif\u001b[0m \u001b[0mself\u001b[0m\u001b[0;34m.\u001b[0m\u001b[0mauto_display\u001b[0m \u001b[0;32mand\u001b[0m \u001b[0mself\u001b[0m\u001b[0;34m.\u001b[0m\u001b[0mresult\u001b[0m \u001b[0;32mis\u001b[0m \u001b[0;32mnot\u001b[0m \u001b[0mNone\u001b[0m\u001b[0;34m:\u001b[0m\u001b[0;34m\u001b[0m\u001b[0m\n",
          "\u001b[0;32m<ipython-input-20-ffaab79665fc>\u001b[0m in \u001b[0;36mchange_rect\u001b[0;34m(x, y, w, h, dx, dy, degrees, fill, lineWidth, red, green, blue, alpha)\u001b[0m\n\u001b[1;32m     22\u001b[0m         \u001b[0mmax_tick_count\u001b[0m\u001b[0;34m=\u001b[0m\u001b[0;36m4\u001b[0m\u001b[0;34m\u001b[0m\u001b[0m\n\u001b[1;32m     23\u001b[0m     )\n\u001b[0;32m---> 24\u001b[0;31m     \u001b[0mcanvas\u001b[0m\u001b[0;34m.\u001b[0m\u001b[0mcirc\u001b[0m\u001b[0;34m(\u001b[0m\u001b[0mx\u001b[0m\u001b[0;34m=\u001b[0m\u001b[0mx\u001b[0m\u001b[0;34m,\u001b[0m \u001b[0my\u001b[0m\u001b[0;34m=\u001b[0m\u001b[0my\u001b[0m\u001b[0;34m,\u001b[0m \u001b[0mr\u001b[0m\u001b[0;34m=\u001b[0m\u001b[0;36m3\u001b[0m\u001b[0;34m,\u001b[0m \u001b[0mcolor\u001b[0m\u001b[0;34m=\u001b[0m\u001b[0;34m\"#999\"\u001b[0m\u001b[0;34m)\u001b[0m\u001b[0;34m\u001b[0m\u001b[0m\n\u001b[0m\u001b[1;32m     25\u001b[0m     \u001b[0mcanvas\u001b[0m\u001b[0;34m.\u001b[0m\u001b[0mfit\u001b[0m\u001b[0;34m(\u001b[0m\u001b[0mNone\u001b[0m\u001b[0;34m,\u001b[0m \u001b[0;36m30\u001b[0m\u001b[0;34m)\u001b[0m\u001b[0;34m\u001b[0m\u001b[0m\n\u001b[1;32m     26\u001b[0m \u001b[0;34m\u001b[0m\u001b[0m\n",
          "\u001b[0;31mAttributeError\u001b[0m: 'SnapshotCanvas' object has no attribute 'circ'"
         ]
        }
       ]
      }
     },
     "7df5954dbbae473a91095b7a8b38f465": {
      "model_module": "@jupyter-widgets/controls",
      "model_module_version": "1.0.0",
      "model_name": "SliderStyleModel",
      "state": {
       "description_width": ""
      }
     },
     "7e0639a0150e4c069207dc587e7c9aa9": {
      "model_module": "@jupyter-widgets/controls",
      "model_module_version": "1.0.0",
      "model_name": "VBoxModel",
      "state": {
       "_dom_classes": [
        "widget-interact"
       ],
       "children": [
        "IPY_MODEL_84f194b01c7d4947870a3768583b7eda",
        "IPY_MODEL_f6b47a1edadb42349590fe308656846d",
        "IPY_MODEL_2ee7cc21f0c14506b963356870175365",
        "IPY_MODEL_954dbf7a8672499abc2e626af4121e9d",
        "IPY_MODEL_2176e153306d4c2f97fec51cb7966a91",
        "IPY_MODEL_3937387cd47f47d4bcdf5afaba9058b2",
        "IPY_MODEL_eed400e9520c4ff5bf3a79899ec94a74",
        "IPY_MODEL_3e08496c5a814d1fb64c034a3b7731f1",
        "IPY_MODEL_f1561fefefa14c829ed03553534205e2",
        "IPY_MODEL_711a1218934c420086dbd7d1e0213641",
        "IPY_MODEL_c0bf9646213642e3a7606a9101d27e3a",
        "IPY_MODEL_3e0f8127177d425586eb6faea6914232"
       ],
       "layout": "IPY_MODEL_173596b0295e4d1b91a6befc2cf6282c"
      }
     },
     "7e14317e98e84687ae40df82bac5d903": {
      "model_module": "@jupyter-widgets/controls",
      "model_module_version": "1.0.0",
      "model_name": "IntSliderModel",
      "state": {
       "description": "h",
       "layout": "IPY_MODEL_f74e296d54f6479d9c30cecede702738",
       "max": 300,
       "min": -300,
       "style": "IPY_MODEL_7e63a45dd5254f62957729eb85750934",
       "value": 50
      }
     },
     "7e33c3c5c64f492da0732863c8f73828": {
      "model_module": "@jupyter-widgets/base",
      "model_module_version": "1.0.0",
      "model_name": "LayoutModel",
      "state": {}
     },
     "7e342c165ed04353ad60beb0d591ca28": {
      "model_module": "@jupyter-widgets/base",
      "model_module_version": "1.0.0",
      "model_name": "LayoutModel",
      "state": {}
     },
     "7e3f6f144840474e8d63baf2c2fe32e8": {
      "model_module": "@jupyter-widgets/base",
      "model_module_version": "1.0.0",
      "model_name": "LayoutModel",
      "state": {}
     },
     "7e51d38002b54e0ebd18f159f4d7e26e": {
      "model_module": "@jupyter-widgets/output",
      "model_module_version": "1.0.0",
      "model_name": "OutputModel",
      "state": {
       "layout": "IPY_MODEL_1c26820a71af4bde8fef972fedbad611"
      }
     },
     "7e54f15186c749fcb7f7c074159e5384": {
      "model_module": "@jupyter-widgets/base",
      "model_module_version": "1.0.0",
      "model_name": "LayoutModel",
      "state": {}
     },
     "7e566cc251284e0bb94dffc041f96e04": {
      "model_module": "@jupyter-widgets/base",
      "model_module_version": "1.0.0",
      "model_name": "LayoutModel",
      "state": {}
     },
     "7e63a45dd5254f62957729eb85750934": {
      "model_module": "@jupyter-widgets/controls",
      "model_module_version": "1.0.0",
      "model_name": "SliderStyleModel",
      "state": {
       "description_width": ""
      }
     },
     "7ea303b8e1044f49a7541af2b3ca2759": {
      "model_module": "@jupyter-widgets/base",
      "model_module_version": "1.0.0",
      "model_name": "LayoutModel",
      "state": {}
     },
     "7ea80488a7b34816b242c0d957f00d1c": {
      "model_module": "@jupyter-widgets/base",
      "model_module_version": "1.0.0",
      "model_name": "LayoutModel",
      "state": {}
     },
     "7eacc4a310c44d019d0bba76fb4fe95b": {
      "model_module": "@jupyter-widgets/controls",
      "model_module_version": "1.0.0",
      "model_name": "IntSliderModel",
      "state": {
       "description": "h",
       "layout": "IPY_MODEL_394f2987ee704c2eb5eeaf069b97d63e",
       "max": 300,
       "min": -300,
       "style": "IPY_MODEL_f4c3a3b84145476bb7e6150669bec128",
       "value": 50
      }
     },
     "7eaeb7c5920f435588729901cb57c06f": {
      "model_module": "jp_proxy_widget",
      "model_module_version": "^0.3.4",
      "model_name": "JSProxyModel",
      "state": {
       "_model_module_version": "^0.3.4",
       "_send_counter": 2,
       "_view_module_version": "^0.3.4",
       "error_msg": "No error",
       "layout": "IPY_MODEL_eb72982bceaf41dd8151e96f31b53171",
       "rendered": true,
       "status": "Got results."
      }
     },
     "7eb9a2271ca64dd9a85cceaaad44a2f8": {
      "model_module": "@jupyter-widgets/controls",
      "model_module_version": "1.0.0",
      "model_name": "SliderStyleModel",
      "state": {
       "description_width": ""
      }
     },
     "7ebd3ea6b73a4f77a2dcd36cbfcf4bfc": {
      "model_module": "@jupyter-widgets/controls",
      "model_module_version": "1.0.0",
      "model_name": "SliderStyleModel",
      "state": {
       "description_width": ""
      }
     },
     "7ec268b6b17748918e24f610fa8443c8": {
      "model_module": "@jupyter-widgets/base",
      "model_module_version": "1.0.0",
      "model_name": "LayoutModel",
      "state": {}
     },
     "7ec3cf33ab24484b88846d75c87ee552": {
      "model_module": "@jupyter-widgets/base",
      "model_module_version": "1.0.0",
      "model_name": "LayoutModel",
      "state": {}
     },
     "7ec85661d6544abb85c44a221e1bdeb7": {
      "model_module": "@jupyter-widgets/controls",
      "model_module_version": "1.0.0",
      "model_name": "IntSliderModel",
      "state": {
       "description": "green",
       "layout": "IPY_MODEL_3df3d86594924680a5fd244a0849e541",
       "max": 255,
       "style": "IPY_MODEL_2e6d683ed79440b9bcf9f1a3d107c32a",
       "value": 127
      }
     },
     "7edac2d8d79b4be5a8c9de36a201bd09": {
      "model_module": "@jupyter-widgets/controls",
      "model_module_version": "1.0.0",
      "model_name": "HTMLModel",
      "state": {
       "layout": "IPY_MODEL_d1e2031bd1614a73ab2f6f9baa7913c3",
       "style": "IPY_MODEL_5a7811c8a1ef4959b716c7298582daca",
       "value": "<img src=\"interactive_image.png\" id=\"snapshot_id_7_1536958800026\"/>\n <div id=\"snapshot_id_8_1536958800026\">interactive_image.png</div>"
      }
     },
     "7ee698d3b8304050a06a08de9976e278": {
      "model_module": "@jupyter-widgets/controls",
      "model_module_version": "1.0.0",
      "model_name": "SliderStyleModel",
      "state": {
       "description_width": ""
      }
     },
     "7ef4a4950a524affbfa31ecff5b28191": {
      "model_module": "@jupyter-widgets/base",
      "model_module_version": "1.0.0",
      "model_name": "LayoutModel",
      "state": {}
     },
     "7ef7d494d49340799b56de3cec702d9c": {
      "model_module": "@jupyter-widgets/controls",
      "model_module_version": "1.0.0",
      "model_name": "SliderStyleModel",
      "state": {
       "description_width": ""
      }
     },
     "7f3397c5a21e48c693e1f80e22100776": {
      "model_module": "@jupyter-widgets/base",
      "model_module_version": "1.0.0",
      "model_name": "LayoutModel",
      "state": {}
     },
     "7f52fbe106d34d4fb2c991b17afaa1ab": {
      "model_module": "@jupyter-widgets/base",
      "model_module_version": "1.0.0",
      "model_name": "LayoutModel",
      "state": {}
     },
     "7f56c435237f49bbad6e262e8646da8e": {
      "model_module": "@jupyter-widgets/base",
      "model_module_version": "1.0.0",
      "model_name": "LayoutModel",
      "state": {}
     },
     "7f5bad85f6684b73b87c93391d454514": {
      "model_module": "@jupyter-widgets/base",
      "model_module_version": "1.0.0",
      "model_name": "LayoutModel",
      "state": {}
     },
     "7f606e287dd7473e81505e79346abeb3": {
      "model_module": "@jupyter-widgets/controls",
      "model_module_version": "1.0.0",
      "model_name": "IntSliderModel",
      "state": {
       "description": "dx",
       "layout": "IPY_MODEL_d1f1e07bd9d247cfbf32db3951c9e4a0",
       "min": -100,
       "style": "IPY_MODEL_f815b2710c114a04baaf46c85e440583",
       "value": -50
      }
     },
     "7f9c383b8d5a40dea7e6ccff3f8d5df4": {
      "model_module": "@jupyter-widgets/controls",
      "model_module_version": "1.0.0",
      "model_name": "IntSliderModel",
      "state": {
       "description": "sWidth",
       "layout": "IPY_MODEL_cb3b34c8ea2f426d84ebf91204d86b6c",
       "max": 600,
       "style": "IPY_MODEL_286b979d49fd4641b46cc3a834cd1cf9",
       "value": 140
      }
     },
     "7fac70abfe8044c6b8d6fd23f0342eae": {
      "model_module": "@jupyter-widgets/controls",
      "model_module_version": "1.0.0",
      "model_name": "FloatSliderModel",
      "state": {
       "description": "alpha",
       "layout": "IPY_MODEL_20ba679bfe5d4b71b7fd081df1d2dda2",
       "max": 1,
       "step": 0.1,
       "style": "IPY_MODEL_1c0672dafec54c2ab201a0f37c7a9616",
       "value": 1
      }
     },
     "7facc299cfc34269b8bc09ecf238e4a6": {
      "model_module": "@jupyter-widgets/base",
      "model_module_version": "1.0.0",
      "model_name": "LayoutModel",
      "state": {}
     },
     "7fc028dcfb1045048e2a8f12a6fdd82b": {
      "model_module": "@jupyter-widgets/base",
      "model_module_version": "1.0.0",
      "model_name": "LayoutModel",
      "state": {}
     },
     "7fc39d075d9a495dab953b1f8aabb8d4": {
      "model_module": "@jupyter-widgets/base",
      "model_module_version": "1.0.0",
      "model_name": "LayoutModel",
      "state": {}
     },
     "7fdc6cc7737c4e5cbf198155c702e7f2": {
      "model_module": "@jupyter-widgets/controls",
      "model_module_version": "1.0.0",
      "model_name": "FloatSliderModel",
      "state": {
       "description": "start",
       "layout": "IPY_MODEL_dd90881f2b41455cb3bf36652bd2b063",
       "max": 6.383185307179586,
       "step": 0.1,
       "style": "IPY_MODEL_18d30b04854c48728cb1a2fdb9de96d9"
      }
     },
     "7feb5aca96e9452d887bbfb1fd8c1e01": {
      "model_module": "@jupyter-widgets/base",
      "model_module_version": "1.0.0",
      "model_name": "LayoutModel",
      "state": {}
     },
     "7ff11d080f144ca78b16c15eae3486f9": {
      "model_module": "@jupyter-widgets/base",
      "model_module_version": "1.0.0",
      "model_name": "LayoutModel",
      "state": {}
     },
     "7ffd8981617244a88fc1c02e286bfe24": {
      "model_module": "@jupyter-widgets/controls",
      "model_module_version": "1.0.0",
      "model_name": "DescriptionStyleModel",
      "state": {
       "description_width": ""
      }
     },
     "800f99f87edc49e997ce2df274e25723": {
      "model_module": "@jupyter-widgets/controls",
      "model_module_version": "1.0.0",
      "model_name": "IntSliderModel",
      "state": {
       "description": "w",
       "layout": "IPY_MODEL_a7e96d0a3bbc42c4957d66f539e7aa12",
       "max": 300,
       "min": -300,
       "style": "IPY_MODEL_060bf0bf31994a9496a025ed1384f456",
       "value": 300
      }
     },
     "803f177e28c54ea09474f695f83e2704": {
      "model_module": "@jupyter-widgets/base",
      "model_module_version": "1.0.0",
      "model_name": "LayoutModel",
      "state": {}
     },
     "80498fd3416645f989fa62a8e035ab7c": {
      "model_module": "@jupyter-widgets/controls",
      "model_module_version": "1.0.0",
      "model_name": "VBoxModel",
      "state": {
       "_dom_classes": [
        "widget-interact"
       ],
       "children": [
        "IPY_MODEL_934480c99bfc4e75a13efb7372109e9e",
        "IPY_MODEL_3d21df8e29bd46e5b2c5c65bfdc7be05",
        "IPY_MODEL_80910a45a3094b82a77c92f7b354f392",
        "IPY_MODEL_1ae993e3901145b28b24636a531e39de",
        "IPY_MODEL_2f46fb6da2b94ff6889866d57e844574",
        "IPY_MODEL_cb27cfbd809f4c28b409728ef3943a9e",
        "IPY_MODEL_f9115cd814a4459792918ce9d0c592af",
        "IPY_MODEL_0525bd700c3c4877bff059112338f5e8",
        "IPY_MODEL_4afc9f6b2965496b8c4aa6f3d4e2a0ac",
        "IPY_MODEL_908f2b28926d41f7bb86e9fb834caada",
        "IPY_MODEL_15a63fb211784a52a4afb2f11d15e123",
        "IPY_MODEL_70fa1f14384541f9990d724beaa7ba1e"
       ],
       "layout": "IPY_MODEL_37c6920ec2fb4dad8b23464d673ec94c"
      }
     },
     "8066fc14cc64474a9e20bfc532243f96": {
      "model_module": "@jupyter-widgets/controls",
      "model_module_version": "1.0.0",
      "model_name": "SliderStyleModel",
      "state": {
       "description_width": ""
      }
     },
     "806c33d3ac9149e8a2b8b9d5cfc127cb": {
      "model_module": "jp_proxy_widget",
      "model_module_version": "^0.3.4",
      "model_name": "JSProxyModel",
      "state": {
       "_model_module_version": "^0.3.4",
       "_send_counter": 1436,
       "_view_module_version": "^0.3.4",
       "error_msg": "No error",
       "layout": "IPY_MODEL_681279e9c03e455c9d01ebdfc85eb524",
       "rendered": true,
       "status": "Got results."
      }
     },
     "807e39d5b37542359a5f272bdbd05715": {
      "model_module": "@jupyter-widgets/base",
      "model_module_version": "1.0.0",
      "model_name": "LayoutModel",
      "state": {}
     },
     "80828539fecd44cabeaece7134eb7eb8": {
      "model_module": "@jupyter-widgets/controls",
      "model_module_version": "1.0.0",
      "model_name": "IntSliderModel",
      "state": {
       "description": "dy",
       "layout": "IPY_MODEL_3c14499fc91d425eb47cc2fe077a5cc0",
       "min": -100,
       "style": "IPY_MODEL_c6a705628f7b4bd3a58d6fa4dd7c5761",
       "value": -12
      }
     },
     "808583d75fc84ac3ac6d49ac3e523722": {
      "model_module": "@jupyter-widgets/controls",
      "model_module_version": "1.0.0",
      "model_name": "IntSliderModel",
      "state": {
       "description": "w",
       "layout": "IPY_MODEL_5bd59eb981634666817c32ff405d8373",
       "max": 300,
       "min": -300,
       "style": "IPY_MODEL_a6d069049d974f4086d1b78e62383f1b",
       "value": 100
      }
     },
     "80910a45a3094b82a77c92f7b354f392": {
      "model_module": "@jupyter-widgets/controls",
      "model_module_version": "1.0.0",
      "model_name": "IntSliderModel",
      "state": {
       "description": "w",
       "layout": "IPY_MODEL_0b97ea9234934a809d86a1b4bff6ff19",
       "max": 300,
       "min": -300,
       "style": "IPY_MODEL_397ba3b3105743ca9da3ba4eb69e4d62",
       "value": 216
      }
     },
     "809cd9430f9a43eca3ea6dc5ea5af127": {
      "model_module": "@jupyter-widgets/controls",
      "model_module_version": "1.0.0",
      "model_name": "IntSliderModel",
      "state": {
       "description": "red",
       "layout": "IPY_MODEL_531ae58512f94b9998d8ed8759418349",
       "max": 255,
       "style": "IPY_MODEL_0fe6f8f30ef94655830193d419e41e25",
       "value": 255
      }
     },
     "80aa11b85231477f88a4a34d26560175": {
      "model_module": "@jupyter-widgets/controls",
      "model_module_version": "1.0.0",
      "model_name": "SliderStyleModel",
      "state": {
       "description_width": ""
      }
     },
     "80e2d7a7d8ff47e6bc334173deae823d": {
      "model_module": "@jupyter-widgets/base",
      "model_module_version": "1.0.0",
      "model_name": "LayoutModel",
      "state": {}
     },
     "80e542f23d584f8eb8a698eea1891413": {
      "model_module": "@jupyter-widgets/base",
      "model_module_version": "1.0.0",
      "model_name": "LayoutModel",
      "state": {}
     },
     "81003e64eda141608d83a58d16225ba8": {
      "model_module": "@jupyter-widgets/base",
      "model_module_version": "1.0.0",
      "model_name": "LayoutModel",
      "state": {}
     },
     "813ee9d0f1c5434591c30f50d498c48d": {
      "model_module": "@jupyter-widgets/controls",
      "model_module_version": "1.0.0",
      "model_name": "HTMLModel",
      "state": {
       "layout": "IPY_MODEL_ffceb71bc89f49c5ab790f1587748f36",
       "style": "IPY_MODEL_b91ef243e3be43ecb2f67c2b53ff570e",
       "value": "<img src=\"interactive_circle.png\" id=\"snapshot_id_13_1536246460244\"/>\n <div id=\"snapshot_id_14_1536246460244\">interactive_circle.png</div>"
      }
     },
     "8142417d674540de833028324adc982c": {
      "model_module": "@jupyter-widgets/controls",
      "model_module_version": "1.0.0",
      "model_name": "SliderStyleModel",
      "state": {
       "description_width": ""
      }
     },
     "81604282f48f43938724c3bbf7948a71": {
      "model_module": "@jupyter-widgets/controls",
      "model_module_version": "1.0.0",
      "model_name": "SliderStyleModel",
      "state": {
       "description_width": ""
      }
     },
     "816a3787e00a4b8c94fe88c9008118fb": {
      "model_module": "@jupyter-widgets/base",
      "model_module_version": "1.0.0",
      "model_name": "LayoutModel",
      "state": {}
     },
     "8186e88363564f80a0f8067a6588ef13": {
      "model_module": "@jupyter-widgets/controls",
      "model_module_version": "1.0.0",
      "model_name": "IntSliderModel",
      "state": {
       "description": "lineWidth",
       "layout": "IPY_MODEL_80e2d7a7d8ff47e6bc334173deae823d",
       "max": 20,
       "style": "IPY_MODEL_0d8ef70c113a406e9d845bd05d245abc",
       "value": 3
      }
     },
     "819974a4e6ad4ec3af1dbadc798cbd6d": {
      "model_module": "@jupyter-widgets/controls",
      "model_module_version": "1.0.0",
      "model_name": "IntSliderModel",
      "state": {
       "description": "dx",
       "layout": "IPY_MODEL_4fb6befa28b34fbead7278019e69f7e8",
       "max": 300,
       "min": -300,
       "style": "IPY_MODEL_c7204382e6604222996e3b17ea3e8daa",
       "value": -50
      }
     },
     "81ae28313ef74278b85120349bf9a46c": {
      "model_module": "@jupyter-widgets/base",
      "model_module_version": "1.0.0",
      "model_name": "LayoutModel",
      "state": {}
     },
     "81c2f7da79fd4fd49d872fde81ce7076": {
      "model_module": "@jupyter-widgets/base",
      "model_module_version": "1.0.0",
      "model_name": "LayoutModel",
      "state": {}
     },
     "81dd7b4d97f94e27b3694fdcb73a58b6": {
      "model_module": "@jupyter-widgets/base",
      "model_module_version": "1.0.0",
      "model_name": "LayoutModel",
      "state": {}
     },
     "8222d1ae499f47598b52646611036ddd": {
      "model_module": "@jupyter-widgets/base",
      "model_module_version": "1.0.0",
      "model_name": "LayoutModel",
      "state": {}
     },
     "822c24f8b03f4fc59bd8557707eacd48": {
      "model_module": "@jupyter-widgets/controls",
      "model_module_version": "1.0.0",
      "model_name": "TabModel",
      "state": {
       "_titles": {
        "0": "Canvas",
        "1": "Snapshot"
       },
       "children": [
        "IPY_MODEL_10d5d358ab884c8b971ff2fc7ce1d2eb",
        "IPY_MODEL_0bbcabd308a7424bafc46ff827ea4800"
       ],
       "layout": "IPY_MODEL_a56dbd51571a41dcb6f156dd7c62b8be"
      }
     },
     "82550c0b4893422f83ae1c27ff2e7ce8": {
      "model_module": "@jupyter-widgets/controls",
      "model_module_version": "1.0.0",
      "model_name": "VBoxModel",
      "state": {
       "_dom_classes": [
        "widget-interact"
       ],
       "children": [
        "IPY_MODEL_b3ff48d0c76f4ff2b104a3fc1f6ce8ec",
        "IPY_MODEL_2bd99a6bd36b40e19e167a9293c1a31f",
        "IPY_MODEL_fdf2b1be9bf445b5a1c4e757ac5b3c39",
        "IPY_MODEL_e679f8c5e4e748afbc972c0df7f2f78c",
        "IPY_MODEL_c32ed8e68ab940a3974a9d7dc2686797",
        "IPY_MODEL_8d257c83ce064230b8be6ac6b939a94b",
        "IPY_MODEL_8409c9c64ac746589c0e39f5a677f87c",
        "IPY_MODEL_7cf24ad747244371a6a664cef869c052",
        "IPY_MODEL_dc7a50006e0f4c8282437f87cfde3f62",
        "IPY_MODEL_d66e4b88c77846a1847dd5f6177fe23b",
        "IPY_MODEL_9f3466cd81c74af98e92abbeac77c88c",
        "IPY_MODEL_1e39f0d12b8b4afabd8fd2ef38b8c0d7",
        "IPY_MODEL_ca59becc1eaf462f8eaad9afa1347757",
        "IPY_MODEL_32d5076fab904baabf6f9a2defb1d202"
       ],
       "layout": "IPY_MODEL_b5b3c28324074fd59e3fdb0f245ac68a"
      }
     },
     "8277608b0a2d49a98a0d035855417852": {
      "model_module": "@jupyter-widgets/base",
      "model_module_version": "1.0.0",
      "model_name": "LayoutModel",
      "state": {}
     },
     "82871915cfc74f9e837977973e5ff9d7": {
      "model_module": "@jupyter-widgets/base",
      "model_module_version": "1.0.0",
      "model_name": "LayoutModel",
      "state": {}
     },
     "82cc904349994e94b91cdbbcf798069c": {
      "model_module": "@jupyter-widgets/controls",
      "model_module_version": "1.0.0",
      "model_name": "DescriptionStyleModel",
      "state": {
       "description_width": ""
      }
     },
     "82dc4c213bb34d06991fc27f9b6a3263": {
      "model_module": "jp_proxy_widget",
      "model_module_version": "^0.3.4",
      "model_name": "JSProxyModel",
      "state": {
       "_model_module_version": "^0.3.4",
       "_send_counter": 13,
       "_view_module_version": "^0.3.4",
       "error_msg": "Error: No image loaded with name: mandrill",
       "layout": "IPY_MODEL_5ca188b730494e439cc43d335abe4a70",
       "rendered": true,
       "status": "Rendered."
      }
     },
     "82e01ea203ce46c7bc169066dd696bad": {
      "model_module": "@jupyter-widgets/controls",
      "model_module_version": "1.0.0",
      "model_name": "IntSliderModel",
      "state": {
       "description": "blue",
       "layout": "IPY_MODEL_3d813c61c9b34388a1c497d44f887b4a",
       "max": 255,
       "style": "IPY_MODEL_9362d7362e49489fbba6c75b8401a937",
       "value": 127
      }
     },
     "831306703b9945d9bf4f35470234c1b9": {
      "model_module": "@jupyter-widgets/controls",
      "model_module_version": "1.0.0",
      "model_name": "SliderStyleModel",
      "state": {
       "description_width": ""
      }
     },
     "8347f04acb554d22a76d93d4d6adb496": {
      "model_module": "@jupyter-widgets/base",
      "model_module_version": "1.0.0",
      "model_name": "LayoutModel",
      "state": {}
     },
     "83779faaf30b4ba3934a82e904a369ab": {
      "model_module": "jp_proxy_widget",
      "model_module_version": "^0.3.4",
      "model_name": "JSProxyModel",
      "state": {
       "_model_module_version": "^0.3.4",
       "_send_counter": 2,
       "_view_module_version": "^0.3.4",
       "error_msg": "No error",
       "layout": "IPY_MODEL_41232876897e45c7b89c8a978fc7a5d8",
       "rendered": true,
       "status": "call back to <function callback_function at 0x105b896e0>"
      }
     },
     "837ea593874f4852982368a6c7a97230": {
      "model_module": "@jupyter-widgets/controls",
      "model_module_version": "1.0.0",
      "model_name": "SliderStyleModel",
      "state": {
       "description_width": ""
      }
     },
     "83bca31eff7f4e37a09cd3e6890e39d7": {
      "model_module": "@jupyter-widgets/base",
      "model_module_version": "1.0.0",
      "model_name": "LayoutModel",
      "state": {}
     },
     "83d62af86420477aa9e03683690992fa": {
      "model_module": "@jupyter-widgets/controls",
      "model_module_version": "1.0.0",
      "model_name": "IntSliderModel",
      "state": {
       "description": "dx",
       "layout": "IPY_MODEL_43e4236a5b834cbfbd4c30fce08261ac",
       "max": 300,
       "min": -300,
       "style": "IPY_MODEL_1c13e85c47a24df2becb30e6b63fb3c6",
       "value": -50
      }
     },
     "83f729da62b249389c6b5cb28d6b9079": {
      "model_module": "jp_proxy_widget",
      "model_module_version": "^0.3.4",
      "model_name": "JSProxyModel",
      "state": {
       "_model_module_version": "^0.3.4",
       "_send_counter": 6,
       "_view_module_version": "^0.3.4",
       "error_msg": "No error",
       "layout": "IPY_MODEL_38de2859c2a64b2db04b4fa2ac890c20",
       "rendered": true,
       "status": "Got results."
      }
     },
     "8409c9c64ac746589c0e39f5a677f87c": {
      "model_module": "@jupyter-widgets/controls",
      "model_module_version": "1.0.0",
      "model_name": "IntSliderModel",
      "state": {
       "description": "degrees",
       "layout": "IPY_MODEL_8ae3e4b4649343a0858f7c89f6934f0b",
       "max": 360,
       "min": -360,
       "style": "IPY_MODEL_071db224102a43ea88cf25df7b21e318"
      }
     },
     "841974ce7e044120bd782f63a01aa66b": {
      "model_module": "@jupyter-widgets/controls",
      "model_module_version": "1.0.0",
      "model_name": "SliderStyleModel",
      "state": {
       "description_width": ""
      }
     },
     "8431d3e46d244224bc51e879cc4f5e5a": {
      "model_module": "@jupyter-widgets/base",
      "model_module_version": "1.0.0",
      "model_name": "LayoutModel",
      "state": {}
     },
     "843a3cb437b04c11882cbc073f7b822e": {
      "model_module": "@jupyter-widgets/base",
      "model_module_version": "1.0.0",
      "model_name": "LayoutModel",
      "state": {}
     },
     "84546739974d4269acfdc9942fc4af69": {
      "model_module": "@jupyter-widgets/controls",
      "model_module_version": "1.0.0",
      "model_name": "HTMLModel",
      "state": {
       "layout": "IPY_MODEL_8e40368708c845bca34f2c1399282309",
       "style": "IPY_MODEL_1be69ceba3c04b02ae4df8590459f674",
       "value": "<img src=\"interactive_image.png\" id=\"snapshot_id_37_1536960987016\"/>\n <div id=\"snapshot_id_38_1536960987016\">interactive_image.png</div>"
      }
     },
     "8469455c05194700a3ad4b26ac154fb4": {
      "model_module": "@jupyter-widgets/controls",
      "model_module_version": "1.0.0",
      "model_name": "SliderStyleModel",
      "state": {
       "description_width": ""
      }
     },
     "846b56bc0cb040579bd55f9ecf7b2971": {
      "model_module": "@jupyter-widgets/controls",
      "model_module_version": "1.0.0",
      "model_name": "SliderStyleModel",
      "state": {
       "description_width": ""
      }
     },
     "84776cacdb0c4316bf3eb07e8892d6d0": {
      "model_module": "@jupyter-widgets/controls",
      "model_module_version": "1.0.0",
      "model_name": "SliderStyleModel",
      "state": {
       "description_width": ""
      }
     },
     "8482c110ef8e408f86e87da56038465c": {
      "model_module": "@jupyter-widgets/controls",
      "model_module_version": "1.0.0",
      "model_name": "IntSliderModel",
      "state": {
       "description": "x",
       "layout": "IPY_MODEL_8277608b0a2d49a98a0d035855417852",
       "min": -100,
       "style": "IPY_MODEL_a94da95ef8c74aff807a2f54c385d296"
      }
     },
     "848ca7aae6e04cd18dee9e9bf9e4ccc8": {
      "model_module": "@jupyter-widgets/base",
      "model_module_version": "1.0.0",
      "model_name": "LayoutModel",
      "state": {}
     },
     "8493424c74c34a50a1221e8cc58134d3": {
      "model_module": "@jupyter-widgets/base",
      "model_module_version": "1.0.0",
      "model_name": "LayoutModel",
      "state": {}
     },
     "84f194b01c7d4947870a3768583b7eda": {
      "model_module": "@jupyter-widgets/controls",
      "model_module_version": "1.0.0",
      "model_name": "IntSliderModel",
      "state": {
       "description": "x",
       "layout": "IPY_MODEL_06244012558b45759158f59041a9bd3c",
       "min": -100,
       "style": "IPY_MODEL_4b25c59894064cc8ae6544a6d9d773e1",
       "value": 23
      }
     },
     "8515f031c10a4329ab9ad88eb373fb8a": {
      "model_module": "@jupyter-widgets/controls",
      "model_module_version": "1.0.0",
      "model_name": "SliderStyleModel",
      "state": {
       "description_width": ""
      }
     },
     "85220fa1498145299948a92bcc54cb21": {
      "model_module": "@jupyter-widgets/controls",
      "model_module_version": "1.0.0",
      "model_name": "SliderStyleModel",
      "state": {
       "description_width": ""
      }
     },
     "852a0e2337244d8eb395136ec6aa2fe6": {
      "model_module": "@jupyter-widgets/controls",
      "model_module_version": "1.0.0",
      "model_name": "IntSliderModel",
      "state": {
       "description": "red",
       "layout": "IPY_MODEL_7f5bad85f6684b73b87c93391d454514",
       "max": 255,
       "style": "IPY_MODEL_d2660cc3be694b73b15f200e20384739",
       "value": 219
      }
     },
     "8537e06fad374f5da60b58bb29bb53bb": {
      "model_module": "@jupyter-widgets/controls",
      "model_module_version": "1.0.0",
      "model_name": "SliderStyleModel",
      "state": {
       "description_width": ""
      }
     },
     "853ca156af7b460f8c762327496bfe5c": {
      "model_module": "@jupyter-widgets/base",
      "model_module_version": "1.0.0",
      "model_name": "LayoutModel",
      "state": {}
     },
     "857efc66b94d4f9480f383c567404de4": {
      "model_module": "@jupyter-widgets/controls",
      "model_module_version": "1.0.0",
      "model_name": "VBoxModel",
      "state": {
       "_dom_classes": [
        "widget-interact"
       ],
       "children": [
        "IPY_MODEL_cc7b403341ba40bc88fc001a317f0d91",
        "IPY_MODEL_f7c994458fa34135a1c306a91053c617",
        "IPY_MODEL_f9128485ea0740f5b534a29ecfc3d87a",
        "IPY_MODEL_49fbf872b4f14515a8ebfc2bc4440f0a",
        "IPY_MODEL_9d0f8948576f47bba77e751e848148b2",
        "IPY_MODEL_720944a2fcfc45b493d963d41317271b",
        "IPY_MODEL_8186e88363564f80a0f8067a6588ef13",
        "IPY_MODEL_d0887bb28339491099f8a29d80d04de5",
        "IPY_MODEL_fbacfc3ceee1477a99901563054f35c6",
        "IPY_MODEL_13c4018925354b7d85fb02998ea8d51e",
        "IPY_MODEL_d5ba70ed6b704761b746ea3db23d7b0e",
        "IPY_MODEL_c7d698191ca8416baefb2f883cacde9c"
       ],
       "layout": "IPY_MODEL_358f1175ab3648ce9c52857012a82dff"
      }
     },
     "85859efc12234c86a926c5915a663aa7": {
      "model_module": "@jupyter-widgets/controls",
      "model_module_version": "1.0.0",
      "model_name": "IntSliderModel",
      "state": {
       "description": "green",
       "layout": "IPY_MODEL_e3a27991e36c432ca73ed49b734ca438",
       "max": 255,
       "style": "IPY_MODEL_e7f79859af144c03b56503b8f391dad1",
       "value": 255
      }
     },
     "85c5807edfaa447caf02d4471ee47094": {
      "model_module": "@jupyter-widgets/controls",
      "model_module_version": "1.0.0",
      "model_name": "SliderStyleModel",
      "state": {
       "description_width": ""
      }
     },
     "85ea6c74b08648cea83180ca178b36dd": {
      "model_module": "@jupyter-widgets/controls",
      "model_module_version": "1.0.0",
      "model_name": "DescriptionStyleModel",
      "state": {
       "description_width": ""
      }
     },
     "85ef07fdd58b4d7b91dec99126643aff": {
      "model_module": "@jupyter-widgets/controls",
      "model_module_version": "1.0.0",
      "model_name": "VBoxModel",
      "state": {
       "children": [
        "IPY_MODEL_79cc631e2ea74b14b6d696891885ec6f",
        "IPY_MODEL_8bb4c379e71a4f56939bcfbf54223036"
       ],
       "layout": "IPY_MODEL_d2e26a0c4b104027b0140a2843718a61"
      }
     },
     "862715dc7b7642448662c1ca6b52be42": {
      "model_module": "@jupyter-widgets/controls",
      "model_module_version": "1.0.0",
      "model_name": "SliderStyleModel",
      "state": {
       "description_width": ""
      }
     },
     "8627d22ab35f47b4a864ea88f67bac25": {
      "model_module": "@jupyter-widgets/controls",
      "model_module_version": "1.0.0",
      "model_name": "IntSliderModel",
      "state": {
       "description": "h",
       "layout": "IPY_MODEL_32108ab90f2349d783435c79410aa218",
       "max": 300,
       "min": -300,
       "style": "IPY_MODEL_2a7e3bcd806d4c73bf90412c6c35699f",
       "value": 50
      }
     },
     "86325f08f64d49b19314d5577d15a5e3": {
      "model_module": "@jupyter-widgets/controls",
      "model_module_version": "1.0.0",
      "model_name": "IntSliderModel",
      "state": {
       "description": "dx",
       "layout": "IPY_MODEL_56101b5f613b48a582e234759b668cc3",
       "min": -100,
       "style": "IPY_MODEL_564d0b380d164a37b80aff183313009d",
       "value": -50
      }
     },
     "8633b1c90f834a0c9ddcbf73a8403535": {
      "model_module": "@jupyter-widgets/controls",
      "model_module_version": "1.0.0",
      "model_name": "IntSliderModel",
      "state": {
       "description": "w",
       "layout": "IPY_MODEL_a0836a09ee9a4aafa6b7cc2fcc9e0d68",
       "max": 300,
       "min": -300,
       "style": "IPY_MODEL_069cd5a6455f43a3a20f330a4c55e438",
       "value": 250
      }
     },
     "86495dfee716480995bde7d3c1780017": {
      "model_module": "@jupyter-widgets/base",
      "model_module_version": "1.0.0",
      "model_name": "LayoutModel",
      "state": {}
     },
     "86aaadec64f648d3a6b6bbd2535bf776": {
      "model_module": "@jupyter-widgets/controls",
      "model_module_version": "1.0.0",
      "model_name": "IntSliderModel",
      "state": {
       "description": "red",
       "layout": "IPY_MODEL_5814e6229cce45fc9b5bb6063b7caec8",
       "max": 255,
       "style": "IPY_MODEL_39cb24a05bcf4055ae6e74f44d1b77bb",
       "value": 179
      }
     },
     "86c35f9699ae467b8db928ca74dba34a": {
      "model_module": "@jupyter-widgets/controls",
      "model_module_version": "1.0.0",
      "model_name": "IntSliderModel",
      "state": {
       "description": "red",
       "layout": "IPY_MODEL_78733a24202b44f3b50528af4ab33b95",
       "max": 255,
       "style": "IPY_MODEL_8066fc14cc64474a9e20bfc532243f96",
       "value": 187
      }
     },
     "86d78f77ed4c48d6b572271895385d14": {
      "model_module": "@jupyter-widgets/base",
      "model_module_version": "1.0.0",
      "model_name": "LayoutModel",
      "state": {}
     },
     "870356d9728644b9b7edf8379c9f5f47": {
      "model_module": "@jupyter-widgets/base",
      "model_module_version": "1.0.0",
      "model_name": "LayoutModel",
      "state": {}
     },
     "871158a48674414c892bdf4162fa86f1": {
      "model_module": "@jupyter-widgets/controls",
      "model_module_version": "1.0.0",
      "model_name": "TabModel",
      "state": {
       "_titles": {
        "0": "Canvas",
        "1": "Snapshot"
       },
       "children": [
        "IPY_MODEL_220d7a6577b747cf8020e694eaacc517",
        "IPY_MODEL_b817b6fecc4d432585969e2335f72d05"
       ],
       "layout": "IPY_MODEL_0e8c2fd6ecf64207855b47f5058b8346"
      }
     },
     "872a15b914ca4d62a4a9abbf76b3a45d": {
      "model_module": "@jupyter-widgets/controls",
      "model_module_version": "1.0.0",
      "model_name": "SliderStyleModel",
      "state": {
       "description_width": ""
      }
     },
     "874285e201fa4a3a91eaa9a00f0c449c": {
      "model_module": "@jupyter-widgets/controls",
      "model_module_version": "1.0.0",
      "model_name": "IntSliderModel",
      "state": {
       "description": "dx",
       "layout": "IPY_MODEL_bc45813443e745539ea6c80e797ea3ba",
       "min": -100,
       "style": "IPY_MODEL_b3a54178d86746b7a5c65be4281a7a09",
       "value": -50
      }
     },
     "879b95c1fbbf4ae5998fe626a5e1eeda": {
      "model_module": "@jupyter-widgets/controls",
      "model_module_version": "1.0.0",
      "model_name": "SliderStyleModel",
      "state": {
       "description_width": ""
      }
     },
     "87d2e9b94d2b4af98a97cd52d05cd508": {
      "model_module": "@jupyter-widgets/controls",
      "model_module_version": "1.0.0",
      "model_name": "SliderStyleModel",
      "state": {
       "description_width": ""
      }
     },
     "87e0fb16f13b41a8a808d9a2ed43a3b7": {
      "model_module": "@jupyter-widgets/controls",
      "model_module_version": "1.0.0",
      "model_name": "IntSliderModel",
      "state": {
       "description": "blue",
       "layout": "IPY_MODEL_13563a364b374ca2b69630ec7090f0c0",
       "max": 255,
       "style": "IPY_MODEL_8d929fea6d68492eb78c7fd09d8fbc1b",
       "value": 255
      }
     },
     "87e8711c7baa4279a19f60d178338592": {
      "model_module": "@jupyter-widgets/output",
      "model_module_version": "1.0.0",
      "model_name": "OutputModel",
      "state": {
       "layout": "IPY_MODEL_d3b8cd63f17e4ad8adc307aeb201153d"
      }
     },
     "87edfca9283c4b6da3d0095ca17687ce": {
      "model_module": "@jupyter-widgets/controls",
      "model_module_version": "1.0.0",
      "model_name": "FloatSliderModel",
      "state": {
       "description": "alpha",
       "layout": "IPY_MODEL_c93a4a07dc114e9a8e7200d9bb1b84a7",
       "max": 1,
       "step": 0.1,
       "style": "IPY_MODEL_c6902fa287be47dcb8f3cef19c803b3f",
       "value": 1
      }
     },
     "87ee05369c03491495514468a1f10b27": {
      "model_module": "@jupyter-widgets/controls",
      "model_module_version": "1.0.0",
      "model_name": "SliderStyleModel",
      "state": {
       "description_width": ""
      }
     },
     "87fb64fb80614109a86e86c361472a86": {
      "model_module": "@jupyter-widgets/controls",
      "model_module_version": "1.0.0",
      "model_name": "IntSliderModel",
      "state": {
       "description": "sWidth",
       "layout": "IPY_MODEL_a57a52d56c09448b935cf24c6be59dd5",
       "max": 420,
       "min": -140,
       "style": "IPY_MODEL_7eb9a2271ca64dd9a85cceaaad44a2f8",
       "value": 140
      }
     },
     "880dc605687e47f199c75971178a1bf9": {
      "model_module": "@jupyter-widgets/controls",
      "model_module_version": "1.0.0",
      "model_name": "IntSliderModel",
      "state": {
       "description": "x",
       "layout": "IPY_MODEL_3dce779d871c4269adb9173511b2df5a",
       "min": -100,
       "style": "IPY_MODEL_5f7284fceea0493e953211c6dad98176"
      }
     },
     "881f9a91bfc04479b8283f1ced3c434e": {
      "model_module": "@jupyter-widgets/base",
      "model_module_version": "1.0.0",
      "model_name": "LayoutModel",
      "state": {}
     },
     "88352f4c399d4fd0bdd7436f2b9e2e8e": {
      "model_module": "@jupyter-widgets/controls",
      "model_module_version": "1.0.0",
      "model_name": "SliderStyleModel",
      "state": {
       "description_width": ""
      }
     },
     "8855f0d6bf664ebe9107ae431a1f578e": {
      "model_module": "@jupyter-widgets/base",
      "model_module_version": "1.0.0",
      "model_name": "LayoutModel",
      "state": {}
     },
     "88761024531d4828b6f17bdeb1fbd651": {
      "model_module": "@jupyter-widgets/controls",
      "model_module_version": "1.0.0",
      "model_name": "IntSliderModel",
      "state": {
       "description": "h",
       "layout": "IPY_MODEL_03236a0df9f948cab8d472e8d40ab507",
       "max": 300,
       "min": -300,
       "style": "IPY_MODEL_3ff3ef1421c4477782a3f54432015a95",
       "value": 50
      }
     },
     "889d5e1c1bf8499e850e275b0e907c79": {
      "model_module": "@jupyter-widgets/controls",
      "model_module_version": "1.0.0",
      "model_name": "SliderStyleModel",
      "state": {
       "description_width": ""
      }
     },
     "88a2e015194342349aa13153256390c5": {
      "model_module": "@jupyter-widgets/controls",
      "model_module_version": "1.0.0",
      "model_name": "IntSliderModel",
      "state": {
       "description": "red",
       "layout": "IPY_MODEL_1e21103892174eb2b5ee60b0f38442d7",
       "max": 255,
       "style": "IPY_MODEL_ed6fa61031cb42c99fa1bb1798922ec4",
       "value": 127
      }
     },
     "88adce279506439bbb9175780f610934": {
      "model_module": "@jupyter-widgets/controls",
      "model_module_version": "1.0.0",
      "model_name": "SliderStyleModel",
      "state": {
       "description_width": ""
      }
     },
     "88bc530f0f0b405798dcf8edb2f5dbb3": {
      "model_module": "@jupyter-widgets/controls",
      "model_module_version": "1.0.0",
      "model_name": "SliderStyleModel",
      "state": {
       "description_width": ""
      }
     },
     "88c822b822ac456c8c9a541824b95360": {
      "model_module": "@jupyter-widgets/controls",
      "model_module_version": "1.0.0",
      "model_name": "VBoxModel",
      "state": {
       "children": [
        "IPY_MODEL_c1f9ef91a3854f2788cb95494958537f",
        "IPY_MODEL_91aafad6d429405da1bb6a612e124427"
       ],
       "layout": "IPY_MODEL_6bcdaa4b5c6a45e7821fcb8b29e2f51a"
      }
     },
     "890a4c79450a41178b3d849094e6a4d2": {
      "model_module": "@jupyter-widgets/controls",
      "model_module_version": "1.0.0",
      "model_name": "IntSliderModel",
      "state": {
       "description": "blue",
       "layout": "IPY_MODEL_8c5ff5058d4e49d0bf73af06bf3dc160",
       "max": 255,
       "style": "IPY_MODEL_5300c2c95e8d4e2a83415581c598f82d",
       "value": 255
      }
     },
     "89298f083eea49699950dd6aabb5e4d0": {
      "model_module": "jp_proxy_widget",
      "model_module_version": "^0.3.4",
      "model_name": "JSProxyModel",
      "state": {
       "_model_module_version": "^0.3.4",
       "_send_counter": 2,
       "_view_module_version": "^0.3.4",
       "error_msg": "No error",
       "layout": "IPY_MODEL_5dffa2baa6f1413b999e413091b424c9",
       "rendered": true,
       "status": "Got results."
      }
     },
     "8931306267154b1f9030a35620922ea0": {
      "model_module": "@jupyter-widgets/controls",
      "model_module_version": "1.0.0",
      "model_name": "DescriptionStyleModel",
      "state": {
       "description_width": ""
      }
     },
     "8973052550e740c0bc86cc40eede3865": {
      "model_module": "@jupyter-widgets/controls",
      "model_module_version": "1.0.0",
      "model_name": "VBoxModel",
      "state": {
       "_dom_classes": [
        "widget-interact"
       ],
       "children": [
        "IPY_MODEL_f2ef151d30264c1dbbc7176b8e3440b2",
        "IPY_MODEL_435498d1e66b46d0a00a24b717810d46",
        "IPY_MODEL_8e7a1af631c24de0aaff687f0c3d0220",
        "IPY_MODEL_235b7ce2db10418f8223bb4a5d1f03aa",
        "IPY_MODEL_12052c1d46b045e58e90d9e737c2c681",
        "IPY_MODEL_d3a2d22eb84e4a60bc996283e2d5f3eb",
        "IPY_MODEL_afe8f4ad8c0a42dc88e0b3476f34053a",
        "IPY_MODEL_8b5803848e1444b797292f30ef5c1768",
        "IPY_MODEL_68afb2b9e3ff41b5a0e4ee4e98e9612e",
        "IPY_MODEL_582c697042cf4d14bdd610626ec289c5",
        "IPY_MODEL_77ae9bb1c14f40f1a09cf92591099c78",
        "IPY_MODEL_8d073b9131cf4898b3dc8a9c4be018fb"
       ],
       "layout": "IPY_MODEL_2aa1ea1dea5e449fafe88771600480d9"
      }
     },
     "8974cede791e40f4aeb8f6975216d633": {
      "model_module": "@jupyter-widgets/base",
      "model_module_version": "1.0.0",
      "model_name": "LayoutModel",
      "state": {}
     },
     "8979199eeae046aaa0ae638c3094acfc": {
      "model_module": "@jupyter-widgets/base",
      "model_module_version": "1.0.0",
      "model_name": "LayoutModel",
      "state": {}
     },
     "898741e98f6d4783af3e66b51fcab947": {
      "model_module": "jp_proxy_widget",
      "model_module_version": "^0.3.4",
      "model_name": "JSProxyModel",
      "state": {
       "_model_module_version": "^0.3.4",
       "_send_counter": 399,
       "_view_module_version": "^0.3.4",
       "error_msg": "No error",
       "layout": "IPY_MODEL_8c58c20029b54cdb97a6dc54a47a9d5a",
       "rendered": true,
       "status": "Got results."
      }
     },
     "89aff094b3e04310b0239eb75f2514a8": {
      "model_module": "@jupyter-widgets/controls",
      "model_module_version": "1.0.0",
      "model_name": "IntSliderModel",
      "state": {
       "description": "x",
       "layout": "IPY_MODEL_252c075199c644e4b2e2c95360278243",
       "min": -100,
       "style": "IPY_MODEL_db2d94ea87bc4955884f78c84c4db7c9",
       "value": -100
      }
     },
     "8a194b035dd145eab1996ce79200dd63": {
      "model_module": "@jupyter-widgets/controls",
      "model_module_version": "1.0.0",
      "model_name": "SliderStyleModel",
      "state": {
       "description_width": ""
      }
     },
     "8a30aa7e50a343e088f9016ff37b9b94": {
      "model_module": "@jupyter-widgets/controls",
      "model_module_version": "1.0.0",
      "model_name": "SliderStyleModel",
      "state": {
       "description_width": ""
      }
     },
     "8a32684ce4bf486cb3a914b93c1a63ec": {
      "model_module": "@jupyter-widgets/controls",
      "model_module_version": "1.0.0",
      "model_name": "SliderStyleModel",
      "state": {
       "description_width": ""
      }
     },
     "8a3cd1498f134c97a7d34af24a608ec5": {
      "model_module": "@jupyter-widgets/controls",
      "model_module_version": "1.0.0",
      "model_name": "IntSliderModel",
      "state": {
       "description": "dx",
       "layout": "IPY_MODEL_6bebb24b7d7a4230bbcebbe599efb6d1",
       "max": 300,
       "min": -300,
       "style": "IPY_MODEL_483123a220ea487b8a3e745a2ffcdf75",
       "value": -11
      }
     },
     "8a571d30c965493494acd397a42e4429": {
      "model_module": "@jupyter-widgets/controls",
      "model_module_version": "1.0.0",
      "model_name": "FloatSliderModel",
      "state": {
       "description": "alpha",
       "layout": "IPY_MODEL_33bf7e3e592542449a1d15893af420eb",
       "max": 1,
       "step": 0.1,
       "style": "IPY_MODEL_31818af4692248f9a90f6093c5088e7d",
       "value": 1
      }
     },
     "8a762be9807c41aeb150e22ab828d45b": {
      "model_module": "@jupyter-widgets/controls",
      "model_module_version": "1.0.0",
      "model_name": "SliderStyleModel",
      "state": {
       "description_width": ""
      }
     },
     "8a762fab787244a7a67a139b006e52f5": {
      "model_module": "@jupyter-widgets/base",
      "model_module_version": "1.0.0",
      "model_name": "LayoutModel",
      "state": {}
     },
     "8a95a701a455426694f56406b8643549": {
      "model_module": "@jupyter-widgets/base",
      "model_module_version": "1.0.0",
      "model_name": "LayoutModel",
      "state": {}
     },
     "8aa7936dd2804ff8935610c5eedafee2": {
      "model_module": "@jupyter-widgets/controls",
      "model_module_version": "1.0.0",
      "model_name": "IntSliderModel",
      "state": {
       "description": "sWidth",
       "layout": "IPY_MODEL_077e8dc850b04a97880a0f4699b163e2",
       "max": 600,
       "style": "IPY_MODEL_f5e753b26bf14fd1b0ce8abc6f23dcbc",
       "value": 140
      }
     },
     "8aae7b7f99b746939a1e33f05759c6f4": {
      "model_module": "@jupyter-widgets/controls",
      "model_module_version": "1.0.0",
      "model_name": "IntSliderModel",
      "state": {
       "description": "x",
       "layout": "IPY_MODEL_258a037f9c5d4f1ab7e73280fcb610bb",
       "min": -100,
       "style": "IPY_MODEL_40bb0b1a648e4f57b1523dc65133c5af",
       "value": 83
      }
     },
     "8aafe6eac7114500be4489db94fec115": {
      "model_module": "@jupyter-widgets/base",
      "model_module_version": "1.0.0",
      "model_name": "LayoutModel",
      "state": {}
     },
     "8aca6b664680447a92ac23cca5983a39": {
      "model_module": "@jupyter-widgets/controls",
      "model_module_version": "1.0.0",
      "model_name": "FloatSliderModel",
      "state": {
       "description": "alpha",
       "layout": "IPY_MODEL_6d5cf87f965945839f7681433a3e50bf",
       "max": 1,
       "step": 0.1,
       "style": "IPY_MODEL_c31868732213485d825c1890af649ef7",
       "value": 1
      }
     },
     "8adf44f872d84633bbf4ec0817892b7b": {
      "model_module": "@jupyter-widgets/controls",
      "model_module_version": "1.0.0",
      "model_name": "TabModel",
      "state": {
       "_titles": {
        "0": "Canvas",
        "1": "Snapshot"
       },
       "children": [
        "IPY_MODEL_28622d7dc50448ba8a54324fce5fc3a4",
        "IPY_MODEL_55b26cd4ddb34215ae2f5f8e2a8ca7cb"
       ],
       "layout": "IPY_MODEL_8b6ec652029d4f89bbd87a40a8fc838f"
      }
     },
     "8ae3e4b4649343a0858f7c89f6934f0b": {
      "model_module": "@jupyter-widgets/base",
      "model_module_version": "1.0.0",
      "model_name": "LayoutModel",
      "state": {}
     },
     "8b5803848e1444b797292f30ef5c1768": {
      "model_module": "@jupyter-widgets/controls",
      "model_module_version": "1.0.0",
      "model_name": "IntSliderModel",
      "state": {
       "description": "sx",
       "layout": "IPY_MODEL_64aec5e70370448591da99d9a3e78c9a",
       "max": 600,
       "style": "IPY_MODEL_6d09bb1ef36e495abc45c677b9579649",
       "value": 26
      }
     },
     "8b6a643a7903485e8d2792361b47d345": {
      "model_module": "@jupyter-widgets/controls",
      "model_module_version": "1.0.0",
      "model_name": "SliderStyleModel",
      "state": {
       "description_width": ""
      }
     },
     "8b6ec652029d4f89bbd87a40a8fc838f": {
      "model_module": "@jupyter-widgets/base",
      "model_module_version": "1.0.0",
      "model_name": "LayoutModel",
      "state": {}
     },
     "8b927c5f840c471292605a570f133cc1": {
      "model_module": "@jupyter-widgets/base",
      "model_module_version": "1.0.0",
      "model_name": "LayoutModel",
      "state": {}
     },
     "8bb00b65c35c444494ab3b28d974e55b": {
      "model_module": "@jupyter-widgets/base",
      "model_module_version": "1.0.0",
      "model_name": "LayoutModel",
      "state": {}
     },
     "8bb4c379e71a4f56939bcfbf54223036": {
      "model_module": "jp_proxy_widget",
      "model_module_version": "^0.3.4",
      "model_name": "JSProxyModel",
      "state": {
       "_model_module_version": "^0.3.4",
       "_send_counter": 2,
       "_view_module_version": "^0.3.4",
       "error_msg": "No error",
       "layout": "IPY_MODEL_b8b25a3982614225b64f2d8272a311cb",
       "rendered": true,
       "status": "Got results."
      }
     },
     "8bd20eda10d047e9b028a1b91ca63949": {
      "model_module": "@jupyter-widgets/controls",
      "model_module_version": "1.0.0",
      "model_name": "IntSliderModel",
      "state": {
       "description": "h",
       "layout": "IPY_MODEL_d1219b07e9bf4ca4bc3e5687f20a155f",
       "max": 300,
       "min": -300,
       "style": "IPY_MODEL_7c2ea7c4b47147d7a957be383787a9a0",
       "value": 50
      }
     },
     "8bd9c7f3f09a4c85b75550e67253e9d1": {
      "model_module": "@jupyter-widgets/base",
      "model_module_version": "1.0.0",
      "model_name": "LayoutModel",
      "state": {}
     },
     "8c019990355540b9b0be4c98c5d09c2a": {
      "model_module": "@jupyter-widgets/base",
      "model_module_version": "1.0.0",
      "model_name": "LayoutModel",
      "state": {}
     },
     "8c3861815ce2489f92deeb3bbb35d4a2": {
      "model_module": "@jupyter-widgets/controls",
      "model_module_version": "1.0.0",
      "model_name": "VBoxModel",
      "state": {
       "_dom_classes": [
        "widget-interact"
       ],
       "children": [
        "IPY_MODEL_2f68824a86844f66abe24ea385b006a8",
        "IPY_MODEL_74d9892fee73442e810eb9d810a14681",
        "IPY_MODEL_cdd45dd4f24047f78b85b1a9bd37fc9f",
        "IPY_MODEL_0b388eb410ea42eaa2148e23bdda099a",
        "IPY_MODEL_d4c739f16e634587b293f737f2f7b649",
        "IPY_MODEL_c83a73155cb045198bc862797b555bc0",
        "IPY_MODEL_668306d55d53408ba65f75f7bccc1c92",
        "IPY_MODEL_a71e0a46812143639219cc267a777e26"
       ],
       "layout": "IPY_MODEL_a3e753abdb8c413d9b0be4cd7349f2c3"
      }
     },
     "8c4407e4b398475fade15697bce17d6c": {
      "model_module": "@jupyter-widgets/base",
      "model_module_version": "1.0.0",
      "model_name": "LayoutModel",
      "state": {}
     },
     "8c58c20029b54cdb97a6dc54a47a9d5a": {
      "model_module": "@jupyter-widgets/base",
      "model_module_version": "1.0.0",
      "model_name": "LayoutModel",
      "state": {}
     },
     "8c5ff5058d4e49d0bf73af06bf3dc160": {
      "model_module": "@jupyter-widgets/base",
      "model_module_version": "1.0.0",
      "model_name": "LayoutModel",
      "state": {}
     },
     "8c7e573d2d554d3bb010b87b238b785c": {
      "model_module": "@jupyter-widgets/controls",
      "model_module_version": "1.0.0",
      "model_name": "SliderStyleModel",
      "state": {
       "description_width": ""
      }
     },
     "8cad3a0ccfc1410196a9664237ad327e": {
      "model_module": "@jupyter-widgets/base",
      "model_module_version": "1.0.0",
      "model_name": "LayoutModel",
      "state": {}
     },
     "8cb6b4d350bb437a8aed00c99d8ae286": {
      "model_module": "@jupyter-widgets/controls",
      "model_module_version": "1.0.0",
      "model_name": "IntSliderModel",
      "state": {
       "description": "blue",
       "layout": "IPY_MODEL_1308b2fb398b4e878230528401d0ada8",
       "max": 255,
       "style": "IPY_MODEL_482ec0dec1534e4f8ca47ad0b6e7f183",
       "value": 127
      }
     },
     "8cccb48a9ff3463fba96100c4e6260b2": {
      "model_module": "@jupyter-widgets/controls",
      "model_module_version": "1.0.0",
      "model_name": "FloatSliderModel",
      "state": {
       "description": "alpha",
       "layout": "IPY_MODEL_77962c1ae5024ff4a70e652ffbb1096c",
       "max": 1,
       "step": 0.1,
       "style": "IPY_MODEL_39ea280f576d404ea95d4e0672b9771c",
       "value": 1
      }
     },
     "8cd310e34fe8448ba5a32a55208dbe52": {
      "model_module": "@jupyter-widgets/base",
      "model_module_version": "1.0.0",
      "model_name": "LayoutModel",
      "state": {}
     },
     "8cd3a0b0613942978ef8ec0c8f78cc0c": {
      "model_module": "@jupyter-widgets/base",
      "model_module_version": "1.0.0",
      "model_name": "LayoutModel",
      "state": {}
     },
     "8cd9087fd6cd4b3489d01d3d0f86bb16": {
      "model_module": "@jupyter-widgets/controls",
      "model_module_version": "1.0.0",
      "model_name": "IntSliderModel",
      "state": {
       "description": "h",
       "layout": "IPY_MODEL_34f9bdcf09194a6d859a4f7d23eeb48c",
       "max": 300,
       "min": -300,
       "style": "IPY_MODEL_c74dfd9008bb4077abefb2ecbecb87bb",
       "value": 50
      }
     },
     "8cf28a395ca24e18b32c2f9e55eb0d98": {
      "model_module": "@jupyter-widgets/base",
      "model_module_version": "1.0.0",
      "model_name": "LayoutModel",
      "state": {}
     },
     "8d073b9131cf4898b3dc8a9c4be018fb": {
      "model_module": "@jupyter-widgets/output",
      "model_module_version": "1.0.0",
      "model_name": "OutputModel",
      "state": {
       "layout": "IPY_MODEL_0a75d7799b644b81a7dd9096b959dd7e"
      }
     },
     "8d09d459a5c547888266f784653607d0": {
      "model_module": "@jupyter-widgets/controls",
      "model_module_version": "1.0.0",
      "model_name": "FloatSliderModel",
      "state": {
       "description": "alpha",
       "layout": "IPY_MODEL_76a75424ca3b491998cc985918889cad",
       "max": 1,
       "step": 0.1,
       "style": "IPY_MODEL_a62f8490d26d4473a8556a2f4792bee1",
       "value": 1
      }
     },
     "8d257c83ce064230b8be6ac6b939a94b": {
      "model_module": "@jupyter-widgets/controls",
      "model_module_version": "1.0.0",
      "model_name": "IntSliderModel",
      "state": {
       "description": "dy",
       "layout": "IPY_MODEL_6add4c8f42d34393804c1fb7dad61dde",
       "min": -100,
       "style": "IPY_MODEL_ce626ab925984d18bd32715074a73dc9",
       "value": 25
      }
     },
     "8d2d9c626d6c4fffa1adf9b477de4624": {
      "model_module": "jp_proxy_widget",
      "model_module_version": "^0.3.4",
      "model_name": "JSProxyModel",
      "state": {
       "_model_module_version": "^0.3.4",
       "_send_counter": 2,
       "_view_module_version": "^0.3.4",
       "error_msg": "No error",
       "layout": "IPY_MODEL_d8910ae1ca1d4bda8882afb2679eaa0e",
       "rendered": true,
       "status": "call back to <function callback_function at 0x105e90e60>"
      }
     },
     "8d35756d5b594468ac91929a0cafe38f": {
      "model_module": "@jupyter-widgets/controls",
      "model_module_version": "1.0.0",
      "model_name": "DescriptionStyleModel",
      "state": {
       "description_width": ""
      }
     },
     "8d3de9c3d8984d0dadfe5d788b034158": {
      "model_module": "@jupyter-widgets/controls",
      "model_module_version": "1.0.0",
      "model_name": "SliderStyleModel",
      "state": {
       "description_width": ""
      }
     },
     "8d67b373dc634513b858328e66bd3f9a": {
      "model_module": "@jupyter-widgets/controls",
      "model_module_version": "1.0.0",
      "model_name": "DescriptionStyleModel",
      "state": {
       "description_width": ""
      }
     },
     "8d929fea6d68492eb78c7fd09d8fbc1b": {
      "model_module": "@jupyter-widgets/controls",
      "model_module_version": "1.0.0",
      "model_name": "SliderStyleModel",
      "state": {
       "description_width": ""
      }
     },
     "8d98a7b2d0d845199ae52a9c56bee245": {
      "model_module": "@jupyter-widgets/controls",
      "model_module_version": "1.0.0",
      "model_name": "VBoxModel",
      "state": {
       "_dom_classes": [
        "widget-interact"
       ],
       "children": [
        "IPY_MODEL_93470566f1f24c3c82b931076ba9e644",
        "IPY_MODEL_1939450f967845b3ade2cd9eed0e0bdc",
        "IPY_MODEL_7ca0d2b4d83746758ac261bd89f88a25",
        "IPY_MODEL_b3a74ed6f86140d8a213a74551fe12fa",
        "IPY_MODEL_7f606e287dd7473e81505e79346abeb3",
        "IPY_MODEL_25a18e877fa24734b75769fa6e63c68f",
        "IPY_MODEL_09bfa3b8227f4234be3b6973c6f028e6",
        "IPY_MODEL_eea913a7c4dc4044b9ad52e02a3858d1",
        "IPY_MODEL_de9862f8f87942648d32604a87b12c73",
        "IPY_MODEL_5620930d4d4242ee843c5d1dc830101d",
        "IPY_MODEL_17200c425f7b42f4b3e0dc84f04973ea",
        "IPY_MODEL_52a361e1c0af487c81897171b415279f",
        "IPY_MODEL_5f23aa8eb35946b4afd3317b9c342d13",
        "IPY_MODEL_20dce1b757a348448e729f999faca420"
       ],
       "layout": "IPY_MODEL_4a5bb5a2ad0a403b89385b55dd784650"
      }
     },
     "8dbc6d59254949a7a2a31b82ddfede27": {
      "model_module": "@jupyter-widgets/base",
      "model_module_version": "1.0.0",
      "model_name": "LayoutModel",
      "state": {}
     },
     "8dcfe9fbf00f4154a4f1bdfd4e590aa3": {
      "model_module": "@jupyter-widgets/output",
      "model_module_version": "1.0.0",
      "model_name": "OutputModel",
      "state": {
       "layout": "IPY_MODEL_d81ae6fc7a504f21b8238804dc3332ce"
      }
     },
     "8dfa08fda6b94839b8221b743c5d0738": {
      "model_module": "@jupyter-widgets/base",
      "model_module_version": "1.0.0",
      "model_name": "LayoutModel",
      "state": {}
     },
     "8e0c373f41db4cc09854c9983ec840ad": {
      "model_module": "@jupyter-widgets/controls",
      "model_module_version": "1.0.0",
      "model_name": "DescriptionStyleModel",
      "state": {
       "description_width": ""
      }
     },
     "8e1f7c9d192d441790e097da67b928a0": {
      "model_module": "@jupyter-widgets/controls",
      "model_module_version": "1.0.0",
      "model_name": "IntSliderModel",
      "state": {
       "description": "x",
       "layout": "IPY_MODEL_1a7cd7522ab444e6946ec8549baefd6a",
       "min": -100,
       "style": "IPY_MODEL_06b27714f4f04550bd0981fdc6d7d157"
      }
     },
     "8e40368708c845bca34f2c1399282309": {
      "model_module": "@jupyter-widgets/base",
      "model_module_version": "1.0.0",
      "model_name": "LayoutModel",
      "state": {}
     },
     "8e4a56c8101c40f1a14e61aaacdb2c8f": {
      "model_module": "@jupyter-widgets/controls",
      "model_module_version": "1.0.0",
      "model_name": "IntSliderModel",
      "state": {
       "description": "green",
       "layout": "IPY_MODEL_f480b5855391467493e2e9dfad7b7113",
       "max": 255,
       "style": "IPY_MODEL_14b11e93c11e4d57a18430fb830bf4aa",
       "value": 179
      }
     },
     "8e4fdad9bf9642faa4745b8060ff30a6": {
      "model_module": "@jupyter-widgets/controls",
      "model_module_version": "1.0.0",
      "model_name": "IntSliderModel",
      "state": {
       "description": "degrees",
       "layout": "IPY_MODEL_d00062981ce7408482a743fc2ceb6602",
       "max": 360,
       "min": -360,
       "style": "IPY_MODEL_5d4a8dccf1ff40cc975e3d8f9dad6777"
      }
     },
     "8e5966ef828146a5a95467fcf561242e": {
      "model_module": "@jupyter-widgets/base",
      "model_module_version": "1.0.0",
      "model_name": "LayoutModel",
      "state": {}
     },
     "8e6574475ec24bfb8beb1c233639c1c2": {
      "model_module": "@jupyter-widgets/controls",
      "model_module_version": "1.0.0",
      "model_name": "SliderStyleModel",
      "state": {
       "description_width": ""
      }
     },
     "8e77f275c91243c49e72272961292920": {
      "model_module": "@jupyter-widgets/controls",
      "model_module_version": "1.0.0",
      "model_name": "IntSliderModel",
      "state": {
       "description": "x",
       "layout": "IPY_MODEL_4b9bf59b0cb94d8991418a5e7ea8035a",
       "min": -100,
       "style": "IPY_MODEL_269ba0d24ef946468e8f98e69f4778bb",
       "value": -50
      }
     },
     "8e7a1af631c24de0aaff687f0c3d0220": {
      "model_module": "@jupyter-widgets/controls",
      "model_module_version": "1.0.0",
      "model_name": "IntSliderModel",
      "state": {
       "description": "w",
       "layout": "IPY_MODEL_881f9a91bfc04479b8283f1ced3c434e",
       "max": 300,
       "min": -300,
       "style": "IPY_MODEL_3a6a4898e86f4634ad2918e2deeb7588",
       "value": 225
      }
     },
     "8e86f92bb44b42368e67ffe2c646f03a": {
      "model_module": "@jupyter-widgets/controls",
      "model_module_version": "1.0.0",
      "model_name": "IntSliderModel",
      "state": {
       "description": "degrees",
       "layout": "IPY_MODEL_a6302deaa5e74dd7b7adbb12c3ee4492",
       "max": 360,
       "min": -360,
       "style": "IPY_MODEL_95e7e2a7e24148e2a9c5361cf40eec39"
      }
     },
     "8e89decbe5734facba4b2723f3c118c0": {
      "model_module": "jp_proxy_widget",
      "model_module_version": "^0.3.4",
      "model_name": "JSProxyModel",
      "state": {
       "_model_module_version": "^0.3.4",
       "_send_counter": 11,
       "_view_module_version": "^0.3.4",
       "error_msg": "Error: bad offsets",
       "layout": "IPY_MODEL_beb11951bd4c44659cf613affcbae496",
       "rendered": true,
       "status": "Rendered."
      }
     },
     "8ebc81d3151648448774381e62667d6b": {
      "model_module": "@jupyter-widgets/controls",
      "model_module_version": "1.0.0",
      "model_name": "CheckboxModel",
      "state": {
       "description": "fill",
       "disabled": false,
       "layout": "IPY_MODEL_c966f1056f224e68b089b45bd169ee5b",
       "style": "IPY_MODEL_1ecd46bdc4e3473491986afa7972d7ac",
       "value": true
      }
     },
     "8ebd5697257746bd996a84748fdd2335": {
      "model_module": "@jupyter-widgets/controls",
      "model_module_version": "1.0.0",
      "model_name": "SliderStyleModel",
      "state": {
       "description_width": ""
      }
     },
     "8ebe17764271456188b7be636fb3713d": {
      "model_module": "@jupyter-widgets/controls",
      "model_module_version": "1.0.0",
      "model_name": "FloatSliderModel",
      "state": {
       "description": "alpha",
       "layout": "IPY_MODEL_2055576160234dc99d6e1929319add1a",
       "max": 1,
       "step": 0.1,
       "style": "IPY_MODEL_d196b922cf4042258da63e117d905660",
       "value": 1
      }
     },
     "8ec1a5b4ccc949b5bf4f6a161858bbb2": {
      "model_module": "@jupyter-widgets/controls",
      "model_module_version": "1.0.0",
      "model_name": "SliderStyleModel",
      "state": {
       "description_width": ""
      }
     },
     "8ef5c0c9aba54a1bbaf647375d8a2bb3": {
      "model_module": "@jupyter-widgets/controls",
      "model_module_version": "1.0.0",
      "model_name": "IntSliderModel",
      "state": {
       "description": "y",
       "layout": "IPY_MODEL_c23a39f98848499d81e211fec3e65f89",
       "min": -100,
       "style": "IPY_MODEL_dbaea43170f24428b8b449ad55b2c82d"
      }
     },
     "8f049360ac2e4f72bd1d86054e5c7d7c": {
      "model_module": "@jupyter-widgets/controls",
      "model_module_version": "1.0.0",
      "model_name": "SliderStyleModel",
      "state": {
       "description_width": ""
      }
     },
     "8f0e874f1bb54531bd295b3b7f0aaec8": {
      "model_module": "@jupyter-widgets/controls",
      "model_module_version": "1.0.0",
      "model_name": "VBoxModel",
      "state": {
       "children": [
        "IPY_MODEL_96dd04124fac4073aad2843c3279bc87",
        "IPY_MODEL_7eaeb7c5920f435588729901cb57c06f"
       ],
       "layout": "IPY_MODEL_072eb40a142c4b4baa780c08f838c4ec"
      }
     },
     "8f17182938d347afb135311b531649ef": {
      "model_module": "@jupyter-widgets/base",
      "model_module_version": "1.0.0",
      "model_name": "LayoutModel",
      "state": {}
     },
     "8f28642a34004b8ebb0a59d2a6e9a7b8": {
      "model_module": "@jupyter-widgets/controls",
      "model_module_version": "1.0.0",
      "model_name": "SliderStyleModel",
      "state": {
       "description_width": ""
      }
     },
     "8f2a2eb581e74e248ec9f692a4e45850": {
      "model_module": "@jupyter-widgets/base",
      "model_module_version": "1.0.0",
      "model_name": "LayoutModel",
      "state": {}
     },
     "8f3a44ec9b9e41a3a6ec7d60dc25e644": {
      "model_module": "@jupyter-widgets/base",
      "model_module_version": "1.0.0",
      "model_name": "LayoutModel",
      "state": {}
     },
     "8f4a5ba9c0cf4db0bc554718117c7069": {
      "model_module": "@jupyter-widgets/base",
      "model_module_version": "1.0.0",
      "model_name": "LayoutModel",
      "state": {}
     },
     "8f52c27644c74311925b48362952bc7b": {
      "model_module": "@jupyter-widgets/controls",
      "model_module_version": "1.0.0",
      "model_name": "IntSliderModel",
      "state": {
       "description": "green",
       "layout": "IPY_MODEL_33cbedf0465f48ada3ed90416f0951b2",
       "max": 255,
       "style": "IPY_MODEL_fd71ba3eafa342c6a26823f834be5996"
      }
     },
     "8f658814eecb445e8522eb98ae2ba880": {
      "model_module": "@jupyter-widgets/controls",
      "model_module_version": "1.0.0",
      "model_name": "HTMLModel",
      "state": {
       "layout": "IPY_MODEL_d25efeef59ed4c48a3064e7c8bc4b210",
       "style": "IPY_MODEL_b94c8b1e0bab4563861abfe52acdc6c7",
       "value": "<img src=\"interactive_image.png\" id=\"snapshot_id_5_1536958671316\"/>\n <div id=\"snapshot_id_6_1536958671316\">interactive_image.png</div>"
      }
     },
     "8f685c7d705c4d11afc906f4ca489788": {
      "model_module": "@jupyter-widgets/base",
      "model_module_version": "1.0.0",
      "model_name": "LayoutModel",
      "state": {}
     },
     "8f84a325cd2c4402b039cc6181a16c0e": {
      "model_module": "@jupyter-widgets/base",
      "model_module_version": "1.0.0",
      "model_name": "LayoutModel",
      "state": {}
     },
     "8f93193711984d49b71f3ea0aca28b5b": {
      "model_module": "@jupyter-widgets/base",
      "model_module_version": "1.0.0",
      "model_name": "LayoutModel",
      "state": {}
     },
     "8f9966ed5dc747a7a049f76eeeb5832e": {
      "model_module": "@jupyter-widgets/base",
      "model_module_version": "1.0.0",
      "model_name": "LayoutModel",
      "state": {}
     },
     "8f9a9ce8f3444e7dbda08420666a3c6e": {
      "model_module": "@jupyter-widgets/controls",
      "model_module_version": "1.0.0",
      "model_name": "IntSliderModel",
      "state": {
       "description": "x",
       "layout": "IPY_MODEL_d5eb5ae4f43543c3a4303561be44b5ab",
       "min": -100,
       "style": "IPY_MODEL_7df5954dbbae473a91095b7a8b38f465"
      }
     },
     "8fa2c43c81c54a54bf65d9e484693c73": {
      "model_module": "@jupyter-widgets/base",
      "model_module_version": "1.0.0",
      "model_name": "LayoutModel",
      "state": {}
     },
     "8fa91c4eb0ff40a9b4ce3ad6a02e01a7": {
      "model_module": "@jupyter-widgets/controls",
      "model_module_version": "1.0.0",
      "model_name": "IntSliderModel",
      "state": {
       "description": "y",
       "layout": "IPY_MODEL_3e340659f1254df497b3ed666f22c98b",
       "min": -100,
       "style": "IPY_MODEL_a0959f330af1452cbd82e03d29626269"
      }
     },
     "8faa4b4227214033b4e21ee370b89668": {
      "model_module": "@jupyter-widgets/base",
      "model_module_version": "1.0.0",
      "model_name": "LayoutModel",
      "state": {}
     },
     "8fb22e7524884ee18e626b17d717798f": {
      "model_module": "@jupyter-widgets/base",
      "model_module_version": "1.0.0",
      "model_name": "LayoutModel",
      "state": {}
     },
     "8fd7a075c11a46d3bbefab2dec3cfad9": {
      "model_module": "@jupyter-widgets/base",
      "model_module_version": "1.0.0",
      "model_name": "LayoutModel",
      "state": {}
     },
     "8fd7e0b153e34acaa585a34e4ef3223f": {
      "model_module": "@jupyter-widgets/base",
      "model_module_version": "1.0.0",
      "model_name": "LayoutModel",
      "state": {}
     },
     "8ffe8df03b654df8adcb3736536dd0ce": {
      "model_module": "@jupyter-widgets/controls",
      "model_module_version": "1.0.0",
      "model_name": "SliderStyleModel",
      "state": {
       "description_width": ""
      }
     },
     "902d0324003c4f108e7dfe2fcc477ed3": {
      "model_module": "@jupyter-widgets/controls",
      "model_module_version": "1.0.0",
      "model_name": "TabModel",
      "state": {
       "_titles": {
        "0": "Canvas",
        "1": "Snapshot"
       },
       "children": [
        "IPY_MODEL_da82f84716a94fc8bbe5631f5be582a1",
        "IPY_MODEL_287cd41b851146269e275908f48cd2d7"
       ],
       "layout": "IPY_MODEL_32316a19285745f9aaff790f3d95f45b",
       "selected_index": 1
      }
     },
     "904b4c21ee404ae8a704757cf80ae702": {
      "model_module": "@jupyter-widgets/controls",
      "model_module_version": "1.0.0",
      "model_name": "SliderStyleModel",
      "state": {
       "description_width": ""
      }
     },
     "907293990c2344b1a81dbe1185a981b4": {
      "model_module": "@jupyter-widgets/controls",
      "model_module_version": "1.0.0",
      "model_name": "IntSliderModel",
      "state": {
       "description": "r",
       "layout": "IPY_MODEL_6f15dead747d4fb5bd6870c4537e1f5f",
       "style": "IPY_MODEL_0d2431a2ebde4bcfb5b9da41c8bfbf4e",
       "value": 50
      }
     },
     "907f381ceec84cf3b6aaa2f8cfde80be": {
      "model_module": "@jupyter-widgets/controls",
      "model_module_version": "1.0.0",
      "model_name": "SliderStyleModel",
      "state": {
       "description_width": ""
      }
     },
     "908f2b28926d41f7bb86e9fb834caada": {
      "model_module": "@jupyter-widgets/controls",
      "model_module_version": "1.0.0",
      "model_name": "IntSliderModel",
      "state": {
       "description": "blue",
       "layout": "IPY_MODEL_8f2a2eb581e74e248ec9f692a4e45850",
       "max": 255,
       "style": "IPY_MODEL_960f99244f534a039b633c3311e3abf3",
       "value": 255
      }
     },
     "90b8fe11e0ab4a7aa2349cc9123f0b1a": {
      "model_module": "@jupyter-widgets/controls",
      "model_module_version": "1.0.0",
      "model_name": "TabModel",
      "state": {
       "_titles": {
        "0": "Canvas",
        "1": "Snapshot"
       },
       "children": [
        "IPY_MODEL_9e26ce5eb3e54f3598988362fcc60109",
        "IPY_MODEL_bc8c2db07a7546f18a3e41352877b5e0"
       ],
       "layout": "IPY_MODEL_694e5677715948819da2886f6813d1bd",
       "selected_index": 1
      }
     },
     "90c1e9edf46c4edfb6360845f5517339": {
      "model_module": "@jupyter-widgets/base",
      "model_module_version": "1.0.0",
      "model_name": "LayoutModel",
      "state": {}
     },
     "90e132ec873b4c72aa2ff7b7dd04cc0f": {
      "model_module": "jp_proxy_widget",
      "model_module_version": "^0.3.4",
      "model_name": "JSProxyModel",
      "state": {
       "_model_module_version": "^0.3.4",
       "_send_counter": 2,
       "_view_module_version": "^0.3.4",
       "error_msg": "No error",
       "layout": "IPY_MODEL_0eb2e51813de43a48111f85c8dbae638",
       "rendered": true,
       "status": "Got results."
      }
     },
     "90fc91d8925447619d4e3fc5e7f2eddd": {
      "model_module": "@jupyter-widgets/base",
      "model_module_version": "1.0.0",
      "model_name": "LayoutModel",
      "state": {}
     },
     "91245801af7d46a0b339d34af01e1162": {
      "model_module": "@jupyter-widgets/base",
      "model_module_version": "1.0.0",
      "model_name": "LayoutModel",
      "state": {}
     },
     "912bfb4b917e4ffdafcb0a2f358c2668": {
      "model_module": "@jupyter-widgets/controls",
      "model_module_version": "1.0.0",
      "model_name": "IntSliderModel",
      "state": {
       "description": "red",
       "layout": "IPY_MODEL_9bb0cdcea1bd46fe8326bd12983a3e6f",
       "max": 255,
       "style": "IPY_MODEL_9eee135bb1d545d5b15504d2854b086b",
       "value": 161
      }
     },
     "914c172dab934604ac707520b873949c": {
      "model_module": "@jupyter-widgets/controls",
      "model_module_version": "1.0.0",
      "model_name": "FloatSliderModel",
      "state": {
       "description": "alpha",
       "layout": "IPY_MODEL_ce0096ce45434c669e04d8443d2ca151",
       "max": 1,
       "step": 0.1,
       "style": "IPY_MODEL_7ee698d3b8304050a06a08de9976e278",
       "value": 1
      }
     },
     "91503f4094084c1b9d2e286c7993eae2": {
      "model_module": "@jupyter-widgets/base",
      "model_module_version": "1.0.0",
      "model_name": "LayoutModel",
      "state": {}
     },
     "91690d0cdd3f490e97cdac9efd9c2d4f": {
      "model_module": "@jupyter-widgets/controls",
      "model_module_version": "1.0.0",
      "model_name": "IntSliderModel",
      "state": {
       "description": "dy",
       "layout": "IPY_MODEL_07428dc03a9b492bb050648b100fabc7",
       "min": -100,
       "style": "IPY_MODEL_7183c0c2306b4419861ea22754a66085",
       "value": -10
      }
     },
     "916d11057a8f41b9aaccb6dfd5c3370d": {
      "model_module": "@jupyter-widgets/base",
      "model_module_version": "1.0.0",
      "model_name": "LayoutModel",
      "state": {}
     },
     "91790091169740d28c8f183230e49cb9": {
      "model_module": "@jupyter-widgets/controls",
      "model_module_version": "1.0.0",
      "model_name": "DescriptionStyleModel",
      "state": {
       "description_width": ""
      }
     },
     "9188b498434748fbadf305488776d9ad": {
      "model_module": "@jupyter-widgets/controls",
      "model_module_version": "1.0.0",
      "model_name": "SliderStyleModel",
      "state": {
       "description_width": ""
      }
     },
     "91a95133192d422b98ffacded64f0300": {
      "model_module": "@jupyter-widgets/base",
      "model_module_version": "1.0.0",
      "model_name": "LayoutModel",
      "state": {}
     },
     "91aafad6d429405da1bb6a612e124427": {
      "model_module": "jp_proxy_widget",
      "model_module_version": "^0.3.4",
      "model_name": "JSProxyModel",
      "state": {
       "_model_module_version": "^0.3.4",
       "_send_counter": 2,
       "_view_module_version": "^0.3.4",
       "error_msg": "No error",
       "layout": "IPY_MODEL_7432f63598da477ba358388b5f887995",
       "rendered": true,
       "status": "Got results."
      }
     },
     "91c5912f81f542569548c7f2d2086c22": {
      "model_module": "@jupyter-widgets/controls",
      "model_module_version": "1.0.0",
      "model_name": "SliderStyleModel",
      "state": {
       "description_width": ""
      }
     },
     "92229f6efafc4a91a7a0fc3ea0eec483": {
      "model_module": "@jupyter-widgets/controls",
      "model_module_version": "1.0.0",
      "model_name": "SliderStyleModel",
      "state": {
       "description_width": ""
      }
     },
     "92367a846b2a4480938b360946e7bb23": {
      "model_module": "@jupyter-widgets/controls",
      "model_module_version": "1.0.0",
      "model_name": "IntSliderModel",
      "state": {
       "description": "h",
       "layout": "IPY_MODEL_5ae202ab10df4fb1bf68f12c56ac06f3",
       "max": 300,
       "min": -300,
       "style": "IPY_MODEL_37b4620c990d47ca967041ebbebf5a61",
       "value": 50
      }
     },
     "92703755d8f74aae89b7f06ada3f6496": {
      "model_module": "jp_proxy_widget",
      "model_module_version": "^0.3.4",
      "model_name": "JSProxyModel",
      "state": {
       "_model_module_version": "^0.3.4",
       "_send_counter": 786,
       "_view_module_version": "^0.3.4",
       "error_msg": "No error",
       "layout": "IPY_MODEL_1641e3194b4b4c77a75745fa12bb73b2",
       "rendered": true,
       "status": "Got results."
      }
     },
     "929e65312ebb48ffaefdf220503710e9": {
      "model_module": "@jupyter-widgets/base",
      "model_module_version": "1.0.0",
      "model_name": "LayoutModel",
      "state": {}
     },
     "92ab3206b3b045359ddf9e9268a4954b": {
      "model_module": "@jupyter-widgets/controls",
      "model_module_version": "1.0.0",
      "model_name": "IntSliderModel",
      "state": {
       "description": "green",
       "layout": "IPY_MODEL_4239c3efea4d43b1a6f0d8c288c6ae50",
       "max": 255,
       "style": "IPY_MODEL_b1d77485b05942f0ae52eb456b75c3da",
       "value": 127
      }
     },
     "92ba613b77e24e91994e5756cb58ab09": {
      "model_module": "@jupyter-widgets/controls",
      "model_module_version": "1.0.0",
      "model_name": "SliderStyleModel",
      "state": {
       "description_width": ""
      }
     },
     "92e3305b9bbc4f3c918dc4f77c13c3a0": {
      "model_module": "jp_proxy_widget",
      "model_module_version": "^0.3.4",
      "model_name": "JSProxyModel",
      "state": {
       "_model_module_version": "^0.3.4",
       "_send_counter": 2,
       "_view_module_version": "^0.3.4",
       "error_msg": "No error",
       "layout": "IPY_MODEL_165f76d03e254ad1b8f24adbda929dca",
       "rendered": true,
       "status": "Got results."
      }
     },
     "92f90e70447345fb992a22bc56de04ac": {
      "model_module": "@jupyter-widgets/base",
      "model_module_version": "1.0.0",
      "model_name": "LayoutModel",
      "state": {}
     },
     "930beb4cba624664a44324192d0ab957": {
      "model_module": "@jupyter-widgets/base",
      "model_module_version": "1.0.0",
      "model_name": "LayoutModel",
      "state": {}
     },
     "930ef949ddb84cfe9341ffb5026d3ef6": {
      "model_module": "@jupyter-widgets/controls",
      "model_module_version": "1.0.0",
      "model_name": "SliderStyleModel",
      "state": {
       "description_width": ""
      }
     },
     "9322699c6b354233a97a8b61c0ed46a6": {
      "model_module": "@jupyter-widgets/controls",
      "model_module_version": "1.0.0",
      "model_name": "FloatSliderModel",
      "state": {
       "description": "alpha",
       "layout": "IPY_MODEL_b0559fa9d89647198546212cf3702549",
       "max": 1,
       "step": 0.1,
       "style": "IPY_MODEL_3b7c16746cf8472aa45b7df52c6a3d5b",
       "value": 1
      }
     },
     "934480c99bfc4e75a13efb7372109e9e": {
      "model_module": "@jupyter-widgets/controls",
      "model_module_version": "1.0.0",
      "model_name": "IntSliderModel",
      "state": {
       "description": "x",
       "layout": "IPY_MODEL_2f64bd323e8d4c39a1be231236eb5bdb",
       "min": -100,
       "style": "IPY_MODEL_f4f1aeaeefd34e1c8b13068d01757d14"
      }
     },
     "93470566f1f24c3c82b931076ba9e644": {
      "model_module": "@jupyter-widgets/controls",
      "model_module_version": "1.0.0",
      "model_name": "IntSliderModel",
      "state": {
       "description": "x",
       "layout": "IPY_MODEL_0da7d200c9374e8aa583dde3e514bf86",
       "min": -100,
       "style": "IPY_MODEL_c906782d655040058158d35d65c34d5c"
      }
     },
     "9362d7362e49489fbba6c75b8401a937": {
      "model_module": "@jupyter-widgets/controls",
      "model_module_version": "1.0.0",
      "model_name": "SliderStyleModel",
      "state": {
       "description_width": ""
      }
     },
     "93933cd18ff14ce48cdbda7090e4f468": {
      "model_module": "@jupyter-widgets/controls",
      "model_module_version": "1.0.0",
      "model_name": "IntSliderModel",
      "state": {
       "description": "dy",
       "layout": "IPY_MODEL_be6661b6b12148e392e84996f81079a2",
       "min": -100,
       "style": "IPY_MODEL_748e5c97d2804ec0a77f6d19bff0669b",
       "value": -20
      }
     },
     "939c455aa2514d51bc225b0d4eaf1500": {
      "model_module": "@jupyter-widgets/controls",
      "model_module_version": "1.0.0",
      "model_name": "SliderStyleModel",
      "state": {
       "description_width": ""
      }
     },
     "93a97614704c4fe7b48b9a263f6acfe9": {
      "model_module": "@jupyter-widgets/controls",
      "model_module_version": "1.0.0",
      "model_name": "TabModel",
      "state": {
       "_titles": {
        "0": "Canvas",
        "1": "Snapshot"
       },
       "children": [
        "IPY_MODEL_496e60f0c5e5458aa5f4dca9f53e8240",
        "IPY_MODEL_13f59ec8017b48de8228e9e338d677c8"
       ],
       "layout": "IPY_MODEL_b6a3801eee114df18810b2d8feefb7fe"
      }
     },
     "93b0860a3d8646d987730e4fe87e2e40": {
      "model_module": "@jupyter-widgets/base",
      "model_module_version": "1.0.0",
      "model_name": "LayoutModel",
      "state": {}
     },
     "93bb07654dc54d1093c5f3a9b485e34e": {
      "model_module": "@jupyter-widgets/controls",
      "model_module_version": "1.0.0",
      "model_name": "TabModel",
      "state": {
       "_titles": {
        "0": "Canvas",
        "1": "Snapshot"
       },
       "children": [
        "IPY_MODEL_e9cab7fcdb4d473cbfd652caa886a624",
        "IPY_MODEL_6013faeeb3f54e0c92e71fa3dd152aa4"
       ],
       "layout": "IPY_MODEL_6b8810edb85f48f598067d897842dee2"
      }
     },
     "93bda981be4a4b5c9ee1eb0cb30a27a3": {
      "model_module": "@jupyter-widgets/base",
      "model_module_version": "1.0.0",
      "model_name": "LayoutModel",
      "state": {}
     },
     "93d2ed7e4eba4646aed9a425aaec7fec": {
      "model_module": "@jupyter-widgets/controls",
      "model_module_version": "1.0.0",
      "model_name": "DescriptionStyleModel",
      "state": {
       "description_width": ""
      }
     },
     "943001675456478789ec6b966a345cb9": {
      "model_module": "@jupyter-widgets/controls",
      "model_module_version": "1.0.0",
      "model_name": "DescriptionStyleModel",
      "state": {
       "description_width": ""
      }
     },
     "94757874e4324feaab615dda6d7f01d1": {
      "model_module": "@jupyter-widgets/controls",
      "model_module_version": "1.0.0",
      "model_name": "SliderStyleModel",
      "state": {
       "description_width": ""
      }
     },
     "94860ebcd967426b807144f30016ba20": {
      "model_module": "@jupyter-widgets/base",
      "model_module_version": "1.0.0",
      "model_name": "LayoutModel",
      "state": {}
     },
     "9487eb47d99e4727a37ae8c605ab0bb3": {
      "model_module": "@jupyter-widgets/base",
      "model_module_version": "1.0.0",
      "model_name": "LayoutModel",
      "state": {}
     },
     "9497283747b64dc6a1815b085234c5de": {
      "model_module": "@jupyter-widgets/base",
      "model_module_version": "1.0.0",
      "model_name": "LayoutModel",
      "state": {}
     },
     "94af5cb8eea84f968da673b7046507bd": {
      "model_module": "@jupyter-widgets/controls",
      "model_module_version": "1.0.0",
      "model_name": "SliderStyleModel",
      "state": {
       "description_width": ""
      }
     },
     "94b07bdfd8ab42849472faaf3d6333d0": {
      "model_module": "@jupyter-widgets/controls",
      "model_module_version": "1.0.0",
      "model_name": "IntSliderModel",
      "state": {
       "description": "degrees",
       "layout": "IPY_MODEL_eca3a6d9c80d46d5a1f6e5bb00dac633",
       "max": 360,
       "min": -360,
       "style": "IPY_MODEL_7b96437c6e4647f694db9b79196e2a92"
      }
     },
     "94c13bd898194f829d899e5bc6d0e7cf": {
      "model_module": "@jupyter-widgets/base",
      "model_module_version": "1.0.0",
      "model_name": "LayoutModel",
      "state": {}
     },
     "94cea451818c4489bfe8196570bf2eec": {
      "model_module": "@jupyter-widgets/controls",
      "model_module_version": "1.0.0",
      "model_name": "SliderStyleModel",
      "state": {
       "description_width": ""
      }
     },
     "94e2e3d91530478c87f001d5c716a5d9": {
      "model_module": "@jupyter-widgets/base",
      "model_module_version": "1.0.0",
      "model_name": "LayoutModel",
      "state": {}
     },
     "94e4936f21ca4a88b80e7ca0a953f36b": {
      "model_module": "@jupyter-widgets/base",
      "model_module_version": "1.0.0",
      "model_name": "LayoutModel",
      "state": {}
     },
     "94f3bdfcfdd64066bd8e29d1bd23d33c": {
      "model_module": "@jupyter-widgets/controls",
      "model_module_version": "1.0.0",
      "model_name": "VBoxModel",
      "state": {
       "_dom_classes": [
        "widget-interact"
       ],
       "children": [
        "IPY_MODEL_8aae7b7f99b746939a1e33f05759c6f4",
        "IPY_MODEL_b6cd2dd3ca7b4a82acad007b6b3f594f",
        "IPY_MODEL_99c6cb976abf488db036fbc197fc8ce2",
        "IPY_MODEL_3cf2b3bec0b345c7ba4a5b7b033fab7e",
        "IPY_MODEL_85859efc12234c86a926c5915a663aa7",
        "IPY_MODEL_82e01ea203ce46c7bc169066dd696bad",
        "IPY_MODEL_87edfca9283c4b6da3d0095ca17687ce",
        "IPY_MODEL_f89e3301135847bea965f3e3716f890d"
       ],
       "layout": "IPY_MODEL_6e1d41b1faa4426fbbfce1ec9a66f5ce"
      }
     },
     "94f5ead4d89c4810a9ce06b392d0dac9": {
      "model_module": "jp_proxy_widget",
      "model_module_version": "^0.3.4",
      "model_name": "JSProxyModel",
      "state": {
       "_model_module_version": "^0.3.4",
       "_send_counter": 8,
       "_view_module_version": "^0.3.4",
       "error_msg": "Error: Error in element.New SyntaxError: Unexpected token )",
       "layout": "IPY_MODEL_7ff11d080f144ca78b16c15eae3486f9",
       "rendered": true,
       "status": "Rendered."
      }
     },
     "94fd25717daf488caed0f52419baf3a4": {
      "model_module": "@jupyter-widgets/controls",
      "model_module_version": "1.0.0",
      "model_name": "SliderStyleModel",
      "state": {
       "description_width": ""
      }
     },
     "95036bef62e54981aa70de3486b25995": {
      "model_module": "jp_proxy_widget",
      "model_module_version": "^0.3.4",
      "model_name": "JSProxyModel",
      "state": {
       "_model_module_version": "^0.3.4",
       "_send_counter": 2,
       "_view_module_version": "^0.3.4",
       "error_msg": "No error",
       "layout": "IPY_MODEL_7f3397c5a21e48c693e1f80e22100776",
       "rendered": true,
       "status": "Got results."
      }
     },
     "951425817c1049ec94d89750a33393a9": {
      "model_module": "@jupyter-widgets/base",
      "model_module_version": "1.0.0",
      "model_name": "LayoutModel",
      "state": {}
     },
     "9521663f05a444dd957044146cfedf0b": {
      "model_module": "@jupyter-widgets/controls",
      "model_module_version": "1.0.0",
      "model_name": "IntSliderModel",
      "state": {
       "description": "w",
       "layout": "IPY_MODEL_ea9acbd424534eb7a9fc84ac2b14e52a",
       "max": 300,
       "min": -300,
       "style": "IPY_MODEL_8469455c05194700a3ad4b26ac154fb4",
       "value": 250
      }
     },
     "953d9e255045410a9ab50f4c51da1860": {
      "model_module": "@jupyter-widgets/controls",
      "model_module_version": "1.0.0",
      "model_name": "SliderStyleModel",
      "state": {
       "description_width": ""
      }
     },
     "953da96a37b1424fb5c0becb6b5a78f2": {
      "model_module": "@jupyter-widgets/controls",
      "model_module_version": "1.0.0",
      "model_name": "IntSliderModel",
      "state": {
       "description": "dx",
       "layout": "IPY_MODEL_40fa66e98c884a99ab2db5f8095f61f3",
       "min": -100,
       "style": "IPY_MODEL_4f35de2b9ff6431394c1a182df5691e5",
       "value": -41
      }
     },
     "9544f814436a4e1bb03a9d5deb788c5c": {
      "model_module": "@jupyter-widgets/controls",
      "model_module_version": "1.0.0",
      "model_name": "IntSliderModel",
      "state": {
       "description": "red",
       "layout": "IPY_MODEL_f6de3677078248f09478747c026b7194",
       "max": 255,
       "style": "IPY_MODEL_96240e2f4bb845afaaee5b94682621c8",
       "value": 80
      }
     },
     "954dbf7a8672499abc2e626af4121e9d": {
      "model_module": "@jupyter-widgets/controls",
      "model_module_version": "1.0.0",
      "model_name": "FloatSliderModel",
      "state": {
       "description": "start",
       "layout": "IPY_MODEL_1508188053d547288e5eb3f6498d54ca",
       "max": 6.383185307179586,
       "step": 0.1,
       "style": "IPY_MODEL_e0b9e17141304f02b96350569ed8ebf7"
      }
     },
     "957e1290120847d1bc378baa282e7176": {
      "model_module": "@jupyter-widgets/base",
      "model_module_version": "1.0.0",
      "model_name": "LayoutModel",
      "state": {}
     },
     "959b0c73748843c2800f5bee78ed60e9": {
      "model_module": "@jupyter-widgets/base",
      "model_module_version": "1.0.0",
      "model_name": "LayoutModel",
      "state": {}
     },
     "959f17ce8ed040f085a637af126f4865": {
      "model_module": "@jupyter-widgets/base",
      "model_module_version": "1.0.0",
      "model_name": "LayoutModel",
      "state": {}
     },
     "95a3b84faf594de5a95d852bccc73160": {
      "model_module": "@jupyter-widgets/controls",
      "model_module_version": "1.0.0",
      "model_name": "SliderStyleModel",
      "state": {
       "description_width": ""
      }
     },
     "95d9c5df64524a6cb45ef36ad039f7d2": {
      "model_module": "@jupyter-widgets/controls",
      "model_module_version": "1.0.0",
      "model_name": "VBoxModel",
      "state": {
       "children": [
        "IPY_MODEL_97237a22f26a4c2397f8a23739e0943f",
        "IPY_MODEL_d8865abe04a448bcb6dc9639d3943fd0"
       ],
       "layout": "IPY_MODEL_3a49ef557fb346d5a2f2dc60f1072a6b"
      }
     },
     "95da91ee74954114b05c79f596be386b": {
      "model_module": "@jupyter-widgets/base",
      "model_module_version": "1.0.0",
      "model_name": "LayoutModel",
      "state": {}
     },
     "95e7e2a7e24148e2a9c5361cf40eec39": {
      "model_module": "@jupyter-widgets/controls",
      "model_module_version": "1.0.0",
      "model_name": "SliderStyleModel",
      "state": {
       "description_width": ""
      }
     },
     "95ea660bf80940b1861c35dd8b29b0e3": {
      "model_module": "@jupyter-widgets/controls",
      "model_module_version": "1.0.0",
      "model_name": "IntSliderModel",
      "state": {
       "description": "r",
       "layout": "IPY_MODEL_caed84739d874a51bc8e8a549434bba1",
       "style": "IPY_MODEL_e6fa67ee18e44c5b869ba6e3f8df74a1",
       "value": 50
      }
     },
     "95fed14a9c504dbdbe8bb33a15425ce0": {
      "model_module": "@jupyter-widgets/controls",
      "model_module_version": "1.0.0",
      "model_name": "IntSliderModel",
      "state": {
       "description": "w",
       "layout": "IPY_MODEL_a4a98a09bb4a4f1297d24a278d5962dd",
       "max": 300,
       "min": -300,
       "style": "IPY_MODEL_0582119718fa4f558f6e5088c808c8d6",
       "value": 50
      }
     },
     "95ff717ffd9f4d25be2d9134e4c071c1": {
      "model_module": "@jupyter-widgets/output",
      "model_module_version": "1.0.0",
      "model_name": "OutputModel",
      "state": {
       "layout": "IPY_MODEL_adfaa824e21d42cdbe35d69e0d3c7fa4"
      }
     },
     "960b8aa072264d4cbd33e16a82c3b576": {
      "model_module": "@jupyter-widgets/controls",
      "model_module_version": "1.0.0",
      "model_name": "SliderStyleModel",
      "state": {
       "description_width": ""
      }
     },
     "960f99244f534a039b633c3311e3abf3": {
      "model_module": "@jupyter-widgets/controls",
      "model_module_version": "1.0.0",
      "model_name": "SliderStyleModel",
      "state": {
       "description_width": ""
      }
     },
     "96240e2f4bb845afaaee5b94682621c8": {
      "model_module": "@jupyter-widgets/controls",
      "model_module_version": "1.0.0",
      "model_name": "SliderStyleModel",
      "state": {
       "description_width": ""
      }
     },
     "962fd963b8a34b459690737165e2682b": {
      "model_module": "@jupyter-widgets/controls",
      "model_module_version": "1.0.0",
      "model_name": "IntSliderModel",
      "state": {
       "description": "green",
       "layout": "IPY_MODEL_adb61307029a413db984b5aff4a0d460",
       "max": 255,
       "style": "IPY_MODEL_1cd41c8313ed44d68d4058eafee4da87",
       "value": 102
      }
     },
     "963992f08beb4ffe829757a4f8414eec": {
      "model_module": "@jupyter-widgets/controls",
      "model_module_version": "1.0.0",
      "model_name": "IntSliderModel",
      "state": {
       "description": "x",
       "layout": "IPY_MODEL_f057a207c5fe4153ae61e7a75cc46fcd",
       "min": -100,
       "style": "IPY_MODEL_0a092f6ecd2c4878844e74022c21d4d2"
      }
     },
     "966a6e9387e04e34b837ece3baad5a7f": {
      "model_module": "@jupyter-widgets/controls",
      "model_module_version": "1.0.0",
      "model_name": "IntSliderModel",
      "state": {
       "description": "lineWidth",
       "layout": "IPY_MODEL_0b38796392674006bccfc9b83ac3285c",
       "max": 20,
       "style": "IPY_MODEL_03710299ba0f42a484350cf7c10020d9",
       "value": 3
      }
     },
     "967000da70084aa0b5286cc7d81bcd26": {
      "model_module": "@jupyter-widgets/controls",
      "model_module_version": "1.0.0",
      "model_name": "IntSliderModel",
      "state": {
       "description": "degrees",
       "layout": "IPY_MODEL_05c4f4409d0047a9964c5ec5d0677a44",
       "max": 360,
       "min": -360,
       "style": "IPY_MODEL_72e543b8197b4f1c94f81c699b5973a9"
      }
     },
     "969354d0877241028b8dce49672df2f2": {
      "model_module": "@jupyter-widgets/controls",
      "model_module_version": "1.0.0",
      "model_name": "SliderStyleModel",
      "state": {
       "description_width": ""
      }
     },
     "96a030ea80a2439da61ac5dc35066bab": {
      "model_module": "@jupyter-widgets/controls",
      "model_module_version": "1.0.0",
      "model_name": "HTMLModel",
      "state": {
       "layout": "IPY_MODEL_37449dee1e3e49d1ae5a15e15a3365f3",
       "style": "IPY_MODEL_221b79b9b54a4f7b85ca0ee0c3e355fc",
       "value": "<img src=\"interactive_rectangle.png\" id=\"snapshot_id_7_1536267178705\"/>\n <div id=\"snapshot_id_8_1536267178705\">interactive_rectangle.png</div>"
      }
     },
     "96db201a68074106b9687c2e0aa8ce02": {
      "model_module": "@jupyter-widgets/output",
      "model_module_version": "1.0.0",
      "model_name": "OutputModel",
      "state": {
       "layout": "IPY_MODEL_9e0c52c0df0d407383f0e347dbab4cc0"
      }
     },
     "96dd04124fac4073aad2843c3279bc87": {
      "model_module": "jp_proxy_widget",
      "model_module_version": "^0.3.4",
      "model_name": "JSProxyModel",
      "state": {
       "_model_module_version": "^0.3.4",
       "_send_counter": 361,
       "_view_module_version": "^0.3.4",
       "error_msg": "No error",
       "layout": "IPY_MODEL_9f68f4b3853d408ba3b2d3f489e2cff5",
       "rendered": true,
       "status": "Got results."
      }
     },
     "96e9924830e84e0ca89ceb881f24f32d": {
      "model_module": "@jupyter-widgets/controls",
      "model_module_version": "1.0.0",
      "model_name": "SliderStyleModel",
      "state": {
       "description_width": ""
      }
     },
     "96f589a7ef6147209ade39e214aeb6e7": {
      "model_module": "@jupyter-widgets/controls",
      "model_module_version": "1.0.0",
      "model_name": "VBoxModel",
      "state": {
       "children": [
        "IPY_MODEL_e96f2c223b23422eb1ef64952b3dcb39",
        "IPY_MODEL_14b71e8d5ee64cd882b295919891f6a0"
       ],
       "layout": "IPY_MODEL_b72756d775504881bba2ea14be12d291"
      }
     },
     "9703f2405b9a42ad8857c017f4b8891c": {
      "model_module": "@jupyter-widgets/base",
      "model_module_version": "1.0.0",
      "model_name": "LayoutModel",
      "state": {}
     },
     "97237a22f26a4c2397f8a23739e0943f": {
      "model_module": "jp_proxy_widget",
      "model_module_version": "^0.3.4",
      "model_name": "JSProxyModel",
      "state": {
       "_model_module_version": "^0.3.4",
       "_send_counter": 9,
       "_view_module_version": "^0.3.4",
       "error_msg": "No error",
       "layout": "IPY_MODEL_8fb22e7524884ee18e626b17d717798f",
       "rendered": true,
       "status": "Got results."
      }
     },
     "9734a48831d9400bb5680062428c9bf3": {
      "model_module": "@jupyter-widgets/base",
      "model_module_version": "1.0.0",
      "model_name": "LayoutModel",
      "state": {}
     },
     "97435a4202fe4f1fbe3d8e44f0feb34a": {
      "model_module": "@jupyter-widgets/controls",
      "model_module_version": "1.0.0",
      "model_name": "HTMLModel",
      "state": {
       "layout": "IPY_MODEL_605e482b5da1423fb1480bb9340df729",
       "style": "IPY_MODEL_f23b4aa9807e416b9cb2a4e9d0157312",
       "value": "<img src=\"interactive_rectangle.png\" id=\"snapshot_id_9_1536267266886\"/>\n <div id=\"snapshot_id_10_1536267266886\">interactive_rectangle.png</div>"
      }
     },
     "97491f28898642c081bd46967fc78799": {
      "model_module": "@jupyter-widgets/controls",
      "model_module_version": "1.0.0",
      "model_name": "SliderStyleModel",
      "state": {
       "description_width": ""
      }
     },
     "9749d64303884380a8ba5b7e805f1f8c": {
      "model_module": "@jupyter-widgets/controls",
      "model_module_version": "1.0.0",
      "model_name": "IntSliderModel",
      "state": {
       "description": "x",
       "layout": "IPY_MODEL_5a3b78b492ae4dcdb14c792d743025ac",
       "min": -100,
       "style": "IPY_MODEL_2715990fa5714fc6a0fc16e71955286c"
      }
     },
     "974b699df0894ca88baa8e91e1bf8a4e": {
      "model_module": "@jupyter-widgets/controls",
      "model_module_version": "1.0.0",
      "model_name": "SliderStyleModel",
      "state": {
       "description_width": ""
      }
     },
     "978be5dff01743e9bc6d024c17e6d5e3": {
      "model_module": "@jupyter-widgets/controls",
      "model_module_version": "1.0.0",
      "model_name": "IntSliderModel",
      "state": {
       "description": "sHeight",
       "layout": "IPY_MODEL_8a762fab787244a7a67a139b006e52f5",
       "max": 600,
       "style": "IPY_MODEL_f9ebb59cfe704d27b3625b8d5b3b1343",
       "value": 153
      }
     },
     "97a2057749f140b4831454510ea7bf28": {
      "model_module": "@jupyter-widgets/controls",
      "model_module_version": "1.0.0",
      "model_name": "CheckboxModel",
      "state": {
       "description": "fill",
       "disabled": false,
       "layout": "IPY_MODEL_fff9bb4b535947c7bf79a0bea121892c",
       "style": "IPY_MODEL_43cd9bc4b687415a9da2b07ba9325515",
       "value": true
      }
     },
     "97c7c41c7ac741d488bd9d55e0c23671": {
      "model_module": "@jupyter-widgets/controls",
      "model_module_version": "1.0.0",
      "model_name": "IntSliderModel",
      "state": {
       "description": "green",
       "layout": "IPY_MODEL_83bca31eff7f4e37a09cd3e6890e39d7",
       "max": 255,
       "style": "IPY_MODEL_6d53b273f7614a95aa03f7fd42cd1953",
       "value": 255
      }
     },
     "97cac1033881494ca21c650aa515ccf1": {
      "model_module": "@jupyter-widgets/base",
      "model_module_version": "1.0.0",
      "model_name": "LayoutModel",
      "state": {}
     },
     "97e57c34a4a1426dad4edfa8c7991f90": {
      "model_module": "@jupyter-widgets/base",
      "model_module_version": "1.0.0",
      "model_name": "LayoutModel",
      "state": {}
     },
     "97f225b315494a76a716fdfe464db030": {
      "model_module": "@jupyter-widgets/controls",
      "model_module_version": "1.0.0",
      "model_name": "FloatSliderModel",
      "state": {
       "description": "alpha",
       "layout": "IPY_MODEL_ee7981a197524d44adba221234da9602",
       "max": 1,
       "step": 0.1,
       "style": "IPY_MODEL_1a7f1a3078a646db98d7c2f7615ed4c3",
       "value": 1
      }
     },
     "97fd86653c0445ae813726681c636030": {
      "model_module": "@jupyter-widgets/base",
      "model_module_version": "1.0.0",
      "model_name": "LayoutModel",
      "state": {}
     },
     "98040f2ebb3648738e1287e591d68bfa": {
      "model_module": "@jupyter-widgets/base",
      "model_module_version": "1.0.0",
      "model_name": "LayoutModel",
      "state": {}
     },
     "983495d1532844bd84e4ebcaae25b17f": {
      "model_module": "@jupyter-widgets/base",
      "model_module_version": "1.0.0",
      "model_name": "LayoutModel",
      "state": {}
     },
     "9874445439384710be37c58de95c877c": {
      "model_module": "@jupyter-widgets/base",
      "model_module_version": "1.0.0",
      "model_name": "LayoutModel",
      "state": {}
     },
     "9887ea32c3a1417c9ea02ea40a34cd19": {
      "model_module": "@jupyter-widgets/base",
      "model_module_version": "1.0.0",
      "model_name": "LayoutModel",
      "state": {}
     },
     "98a2afdb76074604a1cafa8c16393664": {
      "model_module": "@jupyter-widgets/controls",
      "model_module_version": "1.0.0",
      "model_name": "HTMLModel",
      "state": {
       "layout": "IPY_MODEL_20818d221903493088f277861d60ffd8",
       "style": "IPY_MODEL_e55dc9e053e2472ab463a184639bbe2d",
       "value": "<img src=\"interactive_circle.png\" id=\"snapshot_id_21_1536246824767\"/>\n <div id=\"snapshot_id_22_1536246824767\">interactive_circle.png</div>"
      }
     },
     "98a66b11b680404684768fd20a9d8dad": {
      "model_module": "@jupyter-widgets/controls",
      "model_module_version": "1.0.0",
      "model_name": "SliderStyleModel",
      "state": {
       "description_width": ""
      }
     },
     "98a813ba7dca45c2b8edf6b8e9546508": {
      "model_module": "@jupyter-widgets/controls",
      "model_module_version": "1.0.0",
      "model_name": "IntSliderModel",
      "state": {
       "description": "x",
       "layout": "IPY_MODEL_ab05b6ebf11a414689aa9c0a754256bc",
       "min": -100,
       "style": "IPY_MODEL_6f03a2c8f2ad465fa08d9a3cd0476721",
       "value": -100
      }
     },
     "98dfd125f5c544dc84d36d1e88d72c0e": {
      "model_module": "@jupyter-widgets/controls",
      "model_module_version": "1.0.0",
      "model_name": "VBoxModel",
      "state": {
       "_dom_classes": [
        "widget-interact"
       ],
       "children": [
        "IPY_MODEL_467f910a730c4d6cbed22720b85af472",
        "IPY_MODEL_1d8c5b1ec77544638818df9a404d2793",
        "IPY_MODEL_40679a37760f413eaab916ce3109bef5",
        "IPY_MODEL_670124ed91374563b12df1fd5c0e8836",
        "IPY_MODEL_a1d54672a26848e19fc1f24dc892ed55",
        "IPY_MODEL_18d3e296ac384c2e95625188e3cae335",
        "IPY_MODEL_4ced25d8025447b6a1bdc6d08ee778e4",
        "IPY_MODEL_5fdc71e79e244e9ba11069045976f111",
        "IPY_MODEL_46cfffbf2dd84d38a01d790f34b90b10",
        "IPY_MODEL_b9c4487767184455aa98e57da81048a3"
       ],
       "layout": "IPY_MODEL_75394f37115740298c75c9715193030f"
      }
     },
     "98e77d776be9423bb965524d69df7df3": {
      "model_module": "@jupyter-widgets/base",
      "model_module_version": "1.0.0",
      "model_name": "LayoutModel",
      "state": {}
     },
     "98e83dc2e37641b6bc4298ac77db31f9": {
      "model_module": "@jupyter-widgets/base",
      "model_module_version": "1.0.0",
      "model_name": "LayoutModel",
      "state": {}
     },
     "98f730cba2124d9f8cb7ab336db82e7f": {
      "model_module": "@jupyter-widgets/controls",
      "model_module_version": "1.0.0",
      "model_name": "SliderStyleModel",
      "state": {
       "description_width": ""
      }
     },
     "990331e2026d4c5d8cd4afbc90b899f7": {
      "model_module": "@jupyter-widgets/controls",
      "model_module_version": "1.0.0",
      "model_name": "SliderStyleModel",
      "state": {
       "description_width": ""
      }
     },
     "9934ce6e80cd4c33b78e86f030ed111e": {
      "model_module": "@jupyter-widgets/controls",
      "model_module_version": "1.0.0",
      "model_name": "IntSliderModel",
      "state": {
       "description": "r",
       "layout": "IPY_MODEL_b251b72b62b04fe7aafb29fb28efd1fc",
       "style": "IPY_MODEL_0508f8868207466388be8b8299a28843",
       "value": 50
      }
     },
     "9981d2f81d9b4a5fb673271488812dcc": {
      "model_module": "@jupyter-widgets/base",
      "model_module_version": "1.0.0",
      "model_name": "LayoutModel",
      "state": {}
     },
     "99c6cb976abf488db036fbc197fc8ce2": {
      "model_module": "@jupyter-widgets/controls",
      "model_module_version": "1.0.0",
      "model_name": "IntSliderModel",
      "state": {
       "description": "r",
       "layout": "IPY_MODEL_08f10721a5294105b92790e7e3ae2341",
       "style": "IPY_MODEL_969354d0877241028b8dce49672df2f2",
       "value": 84
      }
     },
     "99d1520b5d1b490d9e68949745c79fbd": {
      "model_module": "@jupyter-widgets/base",
      "model_module_version": "1.0.0",
      "model_name": "LayoutModel",
      "state": {}
     },
     "99ddfccd1226411db9e9ac32fad70dfa": {
      "model_module": "@jupyter-widgets/controls",
      "model_module_version": "1.0.0",
      "model_name": "FloatSliderModel",
      "state": {
       "description": "alpha",
       "layout": "IPY_MODEL_6fb4c8bdcba34aeeba4c3ec6d9d69226",
       "max": 1,
       "step": 0.1,
       "style": "IPY_MODEL_6f862d10dbd142f7a51f104347dd4b0d",
       "value": 1
      }
     },
     "9a8b08b8930540fdba9c35d1bd3b00bd": {
      "model_module": "@jupyter-widgets/controls",
      "model_module_version": "1.0.0",
      "model_name": "TabModel",
      "state": {
       "_titles": {
        "0": "Canvas",
        "1": "Snapshot"
       },
       "children": [
        "IPY_MODEL_ff59da232fb842459eb945e86381e6c2",
        "IPY_MODEL_2e17d479126748d58e6f116ef236360e"
       ],
       "layout": "IPY_MODEL_0dc53b1eb5e94cdab25a60fa959d7160"
      }
     },
     "9aa455474c8941d2ab6401962d0436ee": {
      "model_module": "@jupyter-widgets/base",
      "model_module_version": "1.0.0",
      "model_name": "LayoutModel",
      "state": {}
     },
     "9aaef4d566be4d819c95c13b8afc5822": {
      "model_module": "jp_proxy_widget",
      "model_module_version": "^0.3.4",
      "model_name": "JSProxyModel",
      "state": {
       "_model_module_version": "^0.3.4",
       "_send_counter": 11,
       "_view_module_version": "^0.3.4",
       "error_msg": "No error",
       "layout": "IPY_MODEL_24d7df0fd6094301b21c7aa7feb3e24a",
       "rendered": true,
       "status": "Got results."
      }
     },
     "9ac2c5d2447848fbbe6bfcaece2befb0": {
      "model_module": "@jupyter-widgets/controls",
      "model_module_version": "1.0.0",
      "model_name": "SliderStyleModel",
      "state": {
       "description_width": ""
      }
     },
     "9ad5d926220b4e43bc5101fad4016617": {
      "model_module": "@jupyter-widgets/base",
      "model_module_version": "1.0.0",
      "model_name": "LayoutModel",
      "state": {}
     },
     "9afa8c0a9dad457f901f0d955810d83c": {
      "model_module": "@jupyter-widgets/controls",
      "model_module_version": "1.0.0",
      "model_name": "TabModel",
      "state": {
       "_titles": {
        "0": "Canvas",
        "1": "Snapshot"
       },
       "children": [
        "IPY_MODEL_66337e9cd5f248c48818a05a1696c6dc",
        "IPY_MODEL_ec053a81f3474ad0ba477d4a554a3c80"
       ],
       "layout": "IPY_MODEL_8493424c74c34a50a1221e8cc58134d3"
      }
     },
     "9b39b834f0774be2bb2a4275eef1f3bd": {
      "model_module": "@jupyter-widgets/controls",
      "model_module_version": "1.0.0",
      "model_name": "VBoxModel",
      "state": {
       "children": [
        "IPY_MODEL_bec694eb56c24f349b1e2ddfb71455b0",
        "IPY_MODEL_4bb4e556d3f74f52987e5ce2a471cdf4"
       ],
       "layout": "IPY_MODEL_a7b66fbab77c406bb7f10192143b06ce"
      }
     },
     "9b5aab8d991c48169b32e45127b67cc0": {
      "model_module": "@jupyter-widgets/base",
      "model_module_version": "1.0.0",
      "model_name": "LayoutModel",
      "state": {}
     },
     "9b8b4bdb88154cfcaa2cd7f9c2c342cc": {
      "model_module": "@jupyter-widgets/controls",
      "model_module_version": "1.0.0",
      "model_name": "IntSliderModel",
      "state": {
       "description": "y",
       "layout": "IPY_MODEL_9703f2405b9a42ad8857c017f4b8891c",
       "min": -100,
       "style": "IPY_MODEL_e5f379a9288c48f48dcd39a88365eae8"
      }
     },
     "9ba4b277b2934979aabf501a57c812bc": {
      "model_module": "@jupyter-widgets/base",
      "model_module_version": "1.0.0",
      "model_name": "LayoutModel",
      "state": {}
     },
     "9bb0cdcea1bd46fe8326bd12983a3e6f": {
      "model_module": "@jupyter-widgets/base",
      "model_module_version": "1.0.0",
      "model_name": "LayoutModel",
      "state": {}
     },
     "9bdec2b712e44a16af2b4102e706f219": {
      "model_module": "@jupyter-widgets/controls",
      "model_module_version": "1.0.0",
      "model_name": "IntSliderModel",
      "state": {
       "description": "w",
       "layout": "IPY_MODEL_64cfda1421b14d81b87fd4aa82150b70",
       "max": 300,
       "min": -300,
       "style": "IPY_MODEL_1b23deee1716489a958a8737ee5186bb",
       "value": 10
      }
     },
     "9bea6810438841c88ebc1ad53494bba2": {
      "model_module": "jp_proxy_widget",
      "model_module_version": "^0.3.4",
      "model_name": "JSProxyModel",
      "state": {
       "_model_module_version": "^0.3.4",
       "_send_counter": 13,
       "_view_module_version": "^0.3.4",
       "error_msg": "Error: No image loaded with name: mandrill",
       "layout": "IPY_MODEL_5341a02c5479453fa7f391b2c6186bbc",
       "rendered": true,
       "status": "Rendered."
      }
     },
     "9c1ba6765f244920acee5f3f328fe2c0": {
      "model_module": "@jupyter-widgets/base",
      "model_module_version": "1.0.0",
      "model_name": "LayoutModel",
      "state": {}
     },
     "9c3845432d1e4dc7b5ec589f562d54c3": {
      "model_module": "jp_proxy_widget",
      "model_module_version": "^0.3.4",
      "model_name": "JSProxyModel",
      "state": {
       "_model_module_version": "^0.3.4",
       "_send_counter": 2,
       "_view_module_version": "^0.3.4",
       "error_msg": "No error",
       "layout": "IPY_MODEL_d1a91629c0a5400a8d022d15c9134685",
       "rendered": true,
       "status": "Got results."
      }
     },
     "9c4d307bd36a43ecbebe3b532825a22d": {
      "model_module": "@jupyter-widgets/base",
      "model_module_version": "1.0.0",
      "model_name": "LayoutModel",
      "state": {}
     },
     "9c5ae278ac4948d2acdbaf383b292661": {
      "model_module": "@jupyter-widgets/base",
      "model_module_version": "1.0.0",
      "model_name": "LayoutModel",
      "state": {}
     },
     "9c5c6e3a784d41249ad4d6326a0abd1e": {
      "model_module": "@jupyter-widgets/base",
      "model_module_version": "1.0.0",
      "model_name": "LayoutModel",
      "state": {}
     },
     "9c62680d856643398837ad633e2a9640": {
      "model_module": "@jupyter-widgets/controls",
      "model_module_version": "1.0.0",
      "model_name": "SliderStyleModel",
      "state": {
       "description_width": ""
      }
     },
     "9c6f5f20a35344f29479e723f2b92239": {
      "model_module": "@jupyter-widgets/controls",
      "model_module_version": "1.0.0",
      "model_name": "SliderStyleModel",
      "state": {
       "description_width": ""
      }
     },
     "9c7427fbc0894abcbc8fb20bd6e60063": {
      "model_module": "@jupyter-widgets/output",
      "model_module_version": "1.0.0",
      "model_name": "OutputModel",
      "state": {
       "layout": "IPY_MODEL_293196b84bca4d75b930132f3fee8dc6"
      }
     },
     "9c869b2b547944e896724e0f1f082ca1": {
      "model_module": "@jupyter-widgets/base",
      "model_module_version": "1.0.0",
      "model_name": "LayoutModel",
      "state": {}
     },
     "9c886f7f3f304c5295d0c90f6caad1cf": {
      "model_module": "@jupyter-widgets/controls",
      "model_module_version": "1.0.0",
      "model_name": "FloatSliderModel",
      "state": {
       "description": "alpha",
       "layout": "IPY_MODEL_2b7be72eef08490494bfd8de96fce6a3",
       "max": 1,
       "step": 0.1,
       "style": "IPY_MODEL_6459b4b20ac540d4bb9a44b15138e938",
       "value": 1
      }
     },
     "9c969a7979da4e468568b7d251044da4": {
      "model_module": "@jupyter-widgets/controls",
      "model_module_version": "1.0.0",
      "model_name": "IntSliderModel",
      "state": {
       "description": "sx",
       "layout": "IPY_MODEL_29d8602416e747088fc9e9407ba64046",
       "max": 90,
       "min": -30,
       "style": "IPY_MODEL_38565d794f6040e98f0cf1c0349d4058",
       "value": 27
      }
     },
     "9ca79bab1e76473b995970c804bbb6fa": {
      "model_module": "@jupyter-widgets/controls",
      "model_module_version": "1.0.0",
      "model_name": "DescriptionStyleModel",
      "state": {
       "description_width": ""
      }
     },
     "9cb1474a54b14264a9689220754b41b8": {
      "model_module": "@jupyter-widgets/base",
      "model_module_version": "1.0.0",
      "model_name": "LayoutModel",
      "state": {}
     },
     "9cd1d0c08363476e9beaa923c76d3832": {
      "model_module": "@jupyter-widgets/base",
      "model_module_version": "1.0.0",
      "model_name": "LayoutModel",
      "state": {}
     },
     "9ce08209fb0d4805b04dece439059979": {
      "model_module": "@jupyter-widgets/controls",
      "model_module_version": "1.0.0",
      "model_name": "SliderStyleModel",
      "state": {
       "description_width": ""
      }
     },
     "9ceb7c28128848539b0cc36ac0a6dff7": {
      "model_module": "@jupyter-widgets/controls",
      "model_module_version": "1.0.0",
      "model_name": "VBoxModel",
      "state": {
       "_dom_classes": [
        "widget-interact"
       ],
       "children": [
        "IPY_MODEL_b02b5eeaff684c63bd5fc983aba6a5b4",
        "IPY_MODEL_42d12b1ec7574a50b6104871c58a58ed",
        "IPY_MODEL_9934ce6e80cd4c33b78e86f030ed111e",
        "IPY_MODEL_636486f7fe7c44dea4277b35dd6c5909",
        "IPY_MODEL_fec0ed28eaac45e79b9c209f08869788",
        "IPY_MODEL_8cb6b4d350bb437a8aed00c99d8ae286",
        "IPY_MODEL_146a607c903f469badb1bc31b9aba4c0",
        "IPY_MODEL_15c5acfb2fc545db9e3d668e35c57711"
       ],
       "layout": "IPY_MODEL_137c597f04934d4c9baf93a518bfb986"
      }
     },
     "9cfae546c5804466a3022b889235da51": {
      "model_module": "@jupyter-widgets/base",
      "model_module_version": "1.0.0",
      "model_name": "LayoutModel",
      "state": {}
     },
     "9d029c3ec77a4027af5a903f9a252011": {
      "model_module": "@jupyter-widgets/base",
      "model_module_version": "1.0.0",
      "model_name": "LayoutModel",
      "state": {}
     },
     "9d0f8948576f47bba77e751e848148b2": {
      "model_module": "@jupyter-widgets/controls",
      "model_module_version": "1.0.0",
      "model_name": "IntSliderModel",
      "state": {
       "description": "degrees",
       "layout": "IPY_MODEL_4534bccc59c44772b130d2ad4fe7f2ff",
       "max": 360,
       "min": -360,
       "style": "IPY_MODEL_f432c98687394d009c0f3fdb4213b3a3"
      }
     },
     "9d17ea2d416f4ce7a81e70c1aa66639a": {
      "model_module": "@jupyter-widgets/base",
      "model_module_version": "1.0.0",
      "model_name": "LayoutModel",
      "state": {}
     },
     "9d36b12d9675467d809c20b8d269eb7a": {
      "model_module": "@jupyter-widgets/controls",
      "model_module_version": "1.0.0",
      "model_name": "VBoxModel",
      "state": {
       "_dom_classes": [
        "widget-interact"
       ],
       "children": [
        "IPY_MODEL_13297f3152a34b9298341b60caea4539",
        "IPY_MODEL_dbf431fcd49c4b88aa0e06f75cec3110",
        "IPY_MODEL_6cefa574d5a14324a7a09f778cbd9467",
        "IPY_MODEL_c90621fa6a534c29aff5ac4250e4d445",
        "IPY_MODEL_819974a4e6ad4ec3af1dbadc798cbd6d",
        "IPY_MODEL_580ca465312040cb97f4de46e7e1ba87",
        "IPY_MODEL_b74cbdb21afe4ce18406e6efd7d2a366",
        "IPY_MODEL_9c969a7979da4e468568b7d251044da4",
        "IPY_MODEL_e6d98bf490ce4acd965f888285fe285e",
        "IPY_MODEL_b96dbcfcc28c48c1a55a5b681136e1db",
        "IPY_MODEL_c994795a3bd046599b37051087fc429a",
        "IPY_MODEL_a5645434b30d41a6940ae832b165542b",
        "IPY_MODEL_b52abea9f7304ae4b1347dcfaddcb312"
       ],
       "layout": "IPY_MODEL_6c53957b75b24a588bcb8bde6910b775"
      }
     },
     "9d4667ad4f4f44ef8291adb1e95a5c08": {
      "model_module": "@jupyter-widgets/base",
      "model_module_version": "1.0.0",
      "model_name": "LayoutModel",
      "state": {}
     },
     "9d64662664ed47d5b4fc274ae7bc739c": {
      "model_module": "@jupyter-widgets/base",
      "model_module_version": "1.0.0",
      "model_name": "LayoutModel",
      "state": {}
     },
     "9d8d41caee2342e6ac952ca629b983ad": {
      "model_module": "@jupyter-widgets/base",
      "model_module_version": "1.0.0",
      "model_name": "LayoutModel",
      "state": {}
     },
     "9dc17061b8f04cf3880b13da187767fc": {
      "model_module": "@jupyter-widgets/base",
      "model_module_version": "1.0.0",
      "model_name": "LayoutModel",
      "state": {}
     },
     "9e0c52c0df0d407383f0e347dbab4cc0": {
      "model_module": "@jupyter-widgets/base",
      "model_module_version": "1.0.0",
      "model_name": "LayoutModel",
      "state": {}
     },
     "9e26ce5eb3e54f3598988362fcc60109": {
      "model_module": "@jupyter-widgets/controls",
      "model_module_version": "1.0.0",
      "model_name": "VBoxModel",
      "state": {
       "children": [
        "IPY_MODEL_52629508090d47fcb7b2be2b4a594e3d",
        "IPY_MODEL_0eb2be7a42924abda08834e268871f33"
       ],
       "layout": "IPY_MODEL_ad064ec60306491cb1815b9abdbb5119"
      }
     },
     "9e35aea2782e4ecb80b50a9c6c27639a": {
      "model_module": "@jupyter-widgets/base",
      "model_module_version": "1.0.0",
      "model_name": "LayoutModel",
      "state": {}
     },
     "9e3dad2f1ffe4789bdf8778a5651aad7": {
      "model_module": "@jupyter-widgets/controls",
      "model_module_version": "1.0.0",
      "model_name": "VBoxModel",
      "state": {
       "children": [
        "IPY_MODEL_898741e98f6d4783af3e66b51fcab947",
        "IPY_MODEL_3a282912c7754259a4c2384d5f2e151a"
       ],
       "layout": "IPY_MODEL_7434ff9a078940b9bb4436c95a8f73c1"
      }
     },
     "9e52c6b43361439bb139169155adb5cc": {
      "model_module": "@jupyter-widgets/base",
      "model_module_version": "1.0.0",
      "model_name": "LayoutModel",
      "state": {}
     },
     "9e69e5c26d1043b5b5822426a65a17d4": {
      "model_module": "@jupyter-widgets/controls",
      "model_module_version": "1.0.0",
      "model_name": "IntSliderModel",
      "state": {
       "description": "blue",
       "layout": "IPY_MODEL_d9b9d58fac3545cdae2dfceb1f2a73ab",
       "max": 255,
       "style": "IPY_MODEL_21d0d13ceb4046b5a28ebb88b79ca687",
       "value": 255
      }
     },
     "9e955b4de449492dbbeb6011b1801f2f": {
      "model_module": "@jupyter-widgets/controls",
      "model_module_version": "1.0.0",
      "model_name": "SliderStyleModel",
      "state": {
       "description_width": ""
      }
     },
     "9e9a47a314ac40818e6a2ff7c16ae1aa": {
      "model_module": "@jupyter-widgets/base",
      "model_module_version": "1.0.0",
      "model_name": "LayoutModel",
      "state": {}
     },
     "9ed341f3949744aba37326718312272a": {
      "model_module": "@jupyter-widgets/base",
      "model_module_version": "1.0.0",
      "model_name": "LayoutModel",
      "state": {}
     },
     "9eee135bb1d545d5b15504d2854b086b": {
      "model_module": "@jupyter-widgets/controls",
      "model_module_version": "1.0.0",
      "model_name": "SliderStyleModel",
      "state": {
       "description_width": ""
      }
     },
     "9efbcad1358c44fb81da258d813a6b3e": {
      "model_module": "@jupyter-widgets/controls",
      "model_module_version": "1.0.0",
      "model_name": "SliderStyleModel",
      "state": {
       "description_width": ""
      }
     },
     "9f0168c2896342f59cc9d5c230718d78": {
      "model_module": "@jupyter-widgets/controls",
      "model_module_version": "1.0.0",
      "model_name": "IntSliderModel",
      "state": {
       "description": "green",
       "layout": "IPY_MODEL_0e03e61d7c234ed0b6c7b1b0d0e95cb9",
       "max": 255,
       "style": "IPY_MODEL_6994decc37844a4fa01e66588fd7e85a",
       "value": 127
      }
     },
     "9f061010ae2844448948eaeb114fd9b4": {
      "model_module": "@jupyter-widgets/base",
      "model_module_version": "1.0.0",
      "model_name": "LayoutModel",
      "state": {}
     },
     "9f1f46c72a2e4d4ea894c49f2bb9e296": {
      "model_module": "@jupyter-widgets/controls",
      "model_module_version": "1.0.0",
      "model_name": "SliderStyleModel",
      "state": {
       "description_width": ""
      }
     },
     "9f2041dc70e942bd990fe0074cd0e617": {
      "model_module": "@jupyter-widgets/controls",
      "model_module_version": "1.0.0",
      "model_name": "SliderStyleModel",
      "state": {
       "description_width": ""
      }
     },
     "9f3466cd81c74af98e92abbeac77c88c": {
      "model_module": "@jupyter-widgets/controls",
      "model_module_version": "1.0.0",
      "model_name": "IntSliderModel",
      "state": {
       "description": "green",
       "layout": "IPY_MODEL_688b5fedc49748f3a55d1e5ec5024781",
       "max": 255,
       "style": "IPY_MODEL_9f86f8d0cde945d1bad5ea3c9ddf70f1"
      }
     },
     "9f3baae4310a46c6bc7af1324f608e5b": {
      "model_module": "@jupyter-widgets/controls",
      "model_module_version": "1.0.0",
      "model_name": "IntSliderModel",
      "state": {
       "description": "lineWidth",
       "layout": "IPY_MODEL_4869744500114573bcbf1a60ca30ff55",
       "max": 20,
       "style": "IPY_MODEL_9f6fd2e7e02143ac972f0ce03b17011e",
       "value": 3
      }
     },
     "9f5b742e2bb54c169f9f987a2e33ca8b": {
      "model_module": "@jupyter-widgets/controls",
      "model_module_version": "1.0.0",
      "model_name": "IntSliderModel",
      "state": {
       "description": "w",
       "layout": "IPY_MODEL_9887ea32c3a1417c9ea02ea40a34cd19",
       "max": 300,
       "min": -300,
       "style": "IPY_MODEL_5a9dae84f4cf42cfb6dfae572f1ab26b",
       "value": 10
      }
     },
     "9f618ea841d14958b87b761236c98b85": {
      "model_module": "@jupyter-widgets/controls",
      "model_module_version": "1.0.0",
      "model_name": "DescriptionStyleModel",
      "state": {
       "description_width": ""
      }
     },
     "9f68f4b3853d408ba3b2d3f489e2cff5": {
      "model_module": "@jupyter-widgets/base",
      "model_module_version": "1.0.0",
      "model_name": "LayoutModel",
      "state": {}
     },
     "9f6962d82c9448248e239513726f3f1c": {
      "model_module": "@jupyter-widgets/controls",
      "model_module_version": "1.0.0",
      "model_name": "TabModel",
      "state": {
       "_titles": {
        "0": "Canvas",
        "1": "Snapshot"
       },
       "children": [
        "IPY_MODEL_eac03681c50c4f32b17ae676cf976464",
        "IPY_MODEL_4ad13304442d40baa3d428f0e5b9d9cb"
       ],
       "layout": "IPY_MODEL_be96b43986c846fbaa913224495e2d4c"
      }
     },
     "9f6fd2e7e02143ac972f0ce03b17011e": {
      "model_module": "@jupyter-widgets/controls",
      "model_module_version": "1.0.0",
      "model_name": "SliderStyleModel",
      "state": {
       "description_width": ""
      }
     },
     "9f86f8d0cde945d1bad5ea3c9ddf70f1": {
      "model_module": "@jupyter-widgets/controls",
      "model_module_version": "1.0.0",
      "model_name": "SliderStyleModel",
      "state": {
       "description_width": ""
      }
     },
     "9f94ba3004d74657a0786be9f7be1693": {
      "model_module": "@jupyter-widgets/base",
      "model_module_version": "1.0.0",
      "model_name": "LayoutModel",
      "state": {}
     },
     "9fbeec1b73f64c2cbe6c55427bc86dde": {
      "model_module": "@jupyter-widgets/controls",
      "model_module_version": "1.0.0",
      "model_name": "IntSliderModel",
      "state": {
       "description": "y",
       "layout": "IPY_MODEL_5b685f19286e444ab77d775980f2afec",
       "min": -100,
       "style": "IPY_MODEL_990331e2026d4c5d8cd4afbc90b899f7"
      }
     },
     "a010693dccb54df3a873da2702fb8a51": {
      "model_module": "@jupyter-widgets/base",
      "model_module_version": "1.0.0",
      "model_name": "LayoutModel",
      "state": {}
     },
     "a0327d09a77d439f8effd30606516001": {
      "model_module": "@jupyter-widgets/output",
      "model_module_version": "1.0.0",
      "model_name": "OutputModel",
      "state": {
       "layout": "IPY_MODEL_9c5c6e3a784d41249ad4d6326a0abd1e"
      }
     },
     "a033a8461f03478e97060f7f5fd1d4c1": {
      "model_module": "@jupyter-widgets/base",
      "model_module_version": "1.0.0",
      "model_name": "LayoutModel",
      "state": {}
     },
     "a06483f5d06e44038966140dbcfbed70": {
      "model_module": "jp_proxy_widget",
      "model_module_version": "^0.3.4",
      "model_name": "JSProxyModel",
      "state": {
       "_model_module_version": "^0.3.4",
       "_send_counter": 2,
       "_view_module_version": "^0.3.4",
       "error_msg": "No error",
       "layout": "IPY_MODEL_20186b44b3404b2e8ce165d2abc42c9d",
       "rendered": true,
       "status": "call back to <function callback_function at 0x1115ae5f0>"
      }
     },
     "a06e212057c54f15b9fcb1de91d7ee7a": {
      "model_module": "@jupyter-widgets/controls",
      "model_module_version": "1.0.0",
      "model_name": "IntSliderModel",
      "state": {
       "description": "dy",
       "layout": "IPY_MODEL_cf377bf4e830440abaf63067fc7bc47c",
       "min": -100,
       "style": "IPY_MODEL_16bb4a7b6f984f5fb249d3ccf1ac89ee",
       "value": -100
      }
     },
     "a0836a09ee9a4aafa6b7cc2fcc9e0d68": {
      "model_module": "@jupyter-widgets/base",
      "model_module_version": "1.0.0",
      "model_name": "LayoutModel",
      "state": {}
     },
     "a08dd97e00374879b927af8c575d879a": {
      "model_module": "@jupyter-widgets/controls",
      "model_module_version": "1.0.0",
      "model_name": "TabModel",
      "state": {
       "_titles": {
        "0": "Canvas",
        "1": "Snapshot"
       },
       "children": [
        "IPY_MODEL_1b5760bb5c5748b8a94c43f57ca687de",
        "IPY_MODEL_be227897841b4f1f808679d7a16b0b97"
       ],
       "layout": "IPY_MODEL_079ecc7ed8e84960911ee838dd808b8d"
      }
     },
     "a08fbe38edd64cffb4f8a8d0f37a960d": {
      "model_module": "@jupyter-widgets/base",
      "model_module_version": "1.0.0",
      "model_name": "LayoutModel",
      "state": {}
     },
     "a0959f330af1452cbd82e03d29626269": {
      "model_module": "@jupyter-widgets/controls",
      "model_module_version": "1.0.0",
      "model_name": "SliderStyleModel",
      "state": {
       "description_width": ""
      }
     },
     "a0bc2562b24248b0b7152d6bc64c5b77": {
      "model_module": "@jupyter-widgets/base",
      "model_module_version": "1.0.0",
      "model_name": "LayoutModel",
      "state": {}
     },
     "a0ce0e78cf2c45199ae9cc506964736f": {
      "model_module": "@jupyter-widgets/controls",
      "model_module_version": "1.0.0",
      "model_name": "HTMLModel",
      "state": {
       "layout": "IPY_MODEL_a558e28ae2ec4cdfb59c31a74f8c9e42",
       "style": "IPY_MODEL_761ec6e88079411bb17eb4433a854d69",
       "value": "<img src=\"interactive_circle.png\" id=\"snapshot_id_1_1536246191023\"/>\n <div id=\"snapshot_id_2_1536246191023\">interactive_circle.png</div>"
      }
     },
     "a0e21a792b7d4322b33769eae6bb5261": {
      "model_module": "@jupyter-widgets/controls",
      "model_module_version": "1.0.0",
      "model_name": "VBoxModel",
      "state": {
       "_dom_classes": [
        "widget-interact"
       ],
       "children": [
        "IPY_MODEL_7449daf1931a454eb1d0b13c9a1ea37a",
        "IPY_MODEL_b5eb95fbaaea4fa39d909a84f8fab27b",
        "IPY_MODEL_5c3df0a644564f3abfa2d309fbd6c0cf",
        "IPY_MODEL_55fc557529ef4c9c90646b30a44967b1",
        "IPY_MODEL_b6f3babd8e7b46b8a61e1ed795442e58",
        "IPY_MODEL_3faa37d119d14750bbeac9b4483cf57b",
        "IPY_MODEL_9f3baae4310a46c6bc7af1324f608e5b",
        "IPY_MODEL_b64fc0de7e5c4dfa917e140dad49b5c4",
        "IPY_MODEL_c21eb6a1f61d496bb45e0da1f4a5ef29",
        "IPY_MODEL_686b873e0ae74e57a9f771ca939ff852",
        "IPY_MODEL_914c172dab934604ac707520b873949c",
        "IPY_MODEL_5c668aa23f9145d3afd5cab13193b2ba"
       ],
       "layout": "IPY_MODEL_11404e3697a74494a8812bb353847cd1"
      }
     },
     "a0e6c29185ba4a178c97daab2a966d73": {
      "model_module": "@jupyter-widgets/base",
      "model_module_version": "1.0.0",
      "model_name": "LayoutModel",
      "state": {}
     },
     "a1202575d60f47cd9e61f1e6fc0bbcec": {
      "model_module": "@jupyter-widgets/controls",
      "model_module_version": "1.0.0",
      "model_name": "SliderStyleModel",
      "state": {
       "description_width": ""
      }
     },
     "a1375b53da4f4068aec8ade52100ed1d": {
      "model_module": "@jupyter-widgets/controls",
      "model_module_version": "1.0.0",
      "model_name": "SliderStyleModel",
      "state": {
       "description_width": ""
      }
     },
     "a16655cdf938494d805d71872eb54aad": {
      "model_module": "jp_proxy_widget",
      "model_module_version": "^0.3.4",
      "model_name": "JSProxyModel",
      "state": {
       "_model_module_version": "^0.3.4",
       "_send_counter": 2,
       "_view_module_version": "^0.3.4",
       "error_msg": "No error",
       "layout": "IPY_MODEL_df02f93d21514af4b486662738a4c803",
       "rendered": true,
       "status": "Got results."
      }
     },
     "a1b35c0157364dde85d326ffe6273bf4": {
      "model_module": "@jupyter-widgets/base",
      "model_module_version": "1.0.0",
      "model_name": "LayoutModel",
      "state": {}
     },
     "a1d54672a26848e19fc1f24dc892ed55": {
      "model_module": "@jupyter-widgets/controls",
      "model_module_version": "1.0.0",
      "model_name": "FloatSliderModel",
      "state": {
       "description": "arc",
       "layout": "IPY_MODEL_a010693dccb54df3a873da2702fb8a51",
       "max": 6.283185307179586,
       "step": 0.1,
       "style": "IPY_MODEL_43535c6a3263478ab53b869d35b5f5e6",
       "value": 1.6
      }
     },
     "a1e1d96663cc4bcda5d37202f620607f": {
      "model_module": "@jupyter-widgets/base",
      "model_module_version": "1.0.0",
      "model_name": "LayoutModel",
      "state": {}
     },
     "a1f400faccc74475b01560ace5063bc4": {
      "model_module": "@jupyter-widgets/controls",
      "model_module_version": "1.0.0",
      "model_name": "SliderStyleModel",
      "state": {
       "description_width": ""
      }
     },
     "a2014374aa78441ab489babe6bf459df": {
      "model_module": "@jupyter-widgets/base",
      "model_module_version": "1.0.0",
      "model_name": "LayoutModel",
      "state": {}
     },
     "a202e53c9dbc441e94d1c7d4f8239bff": {
      "model_module": "@jupyter-widgets/controls",
      "model_module_version": "1.0.0",
      "model_name": "IntSliderModel",
      "state": {
       "description": "h",
       "layout": "IPY_MODEL_122fc5d0a6bb484faa705b52ab066bad",
       "max": 300,
       "min": -300,
       "style": "IPY_MODEL_6e3772cec3154cdbb4216e8e21b93f3b",
       "value": 265
      }
     },
     "a215b94a9cb346e5aaaec2a9ca378f04": {
      "model_module": "@jupyter-widgets/controls",
      "model_module_version": "1.0.0",
      "model_name": "IntSliderModel",
      "state": {
       "description": "degrees",
       "layout": "IPY_MODEL_688076ecb32a443a9e224e63ff1e7b3a",
       "max": 360,
       "min": -360,
       "style": "IPY_MODEL_3f544a0bb5c4475a8d87d05c5a85b1f7"
      }
     },
     "a2b30b67d7444565bb3892a032214614": {
      "model_module": "@jupyter-widgets/controls",
      "model_module_version": "1.0.0",
      "model_name": "IntSliderModel",
      "state": {
       "description": "w",
       "layout": "IPY_MODEL_cdaa7a8487ed484ebd560a9266d922ce",
       "max": 300,
       "min": -300,
       "style": "IPY_MODEL_16a4e370bf4747658520886954979a64",
       "value": 155
      }
     },
     "a2d530c62187438e81a574efcb35f847": {
      "model_module": "@jupyter-widgets/base",
      "model_module_version": "1.0.0",
      "model_name": "LayoutModel",
      "state": {}
     },
     "a2dcdbbe24764788a3f7639c89117ea4": {
      "model_module": "@jupyter-widgets/base",
      "model_module_version": "1.0.0",
      "model_name": "LayoutModel",
      "state": {}
     },
     "a2e2e81a41604807a6ef8e383250fce5": {
      "model_module": "@jupyter-widgets/controls",
      "model_module_version": "1.0.0",
      "model_name": "SliderStyleModel",
      "state": {
       "description_width": ""
      }
     },
     "a2ee214e47d943998ce9fd3456927c18": {
      "model_module": "@jupyter-widgets/base",
      "model_module_version": "1.0.0",
      "model_name": "LayoutModel",
      "state": {}
     },
     "a310748f15544800944ced5a4d761722": {
      "model_module": "@jupyter-widgets/base",
      "model_module_version": "1.0.0",
      "model_name": "LayoutModel",
      "state": {}
     },
     "a3299de5f2df4e95b7d5581d413bb8ad": {
      "model_module": "@jupyter-widgets/base",
      "model_module_version": "1.0.0",
      "model_name": "LayoutModel",
      "state": {}
     },
     "a366da566bb943079f4f952de94f28b9": {
      "model_module": "@jupyter-widgets/base",
      "model_module_version": "1.0.0",
      "model_name": "LayoutModel",
      "state": {}
     },
     "a37b43d43ac5429291462ebbe5ffb025": {
      "model_module": "@jupyter-widgets/controls",
      "model_module_version": "1.0.0",
      "model_name": "SliderStyleModel",
      "state": {
       "description_width": ""
      }
     },
     "a385a6cf99664b71a15615cad2739a0f": {
      "model_module": "@jupyter-widgets/base",
      "model_module_version": "1.0.0",
      "model_name": "LayoutModel",
      "state": {}
     },
     "a39191e79ab94869bce99b1b46ed065f": {
      "model_module": "@jupyter-widgets/base",
      "model_module_version": "1.0.0",
      "model_name": "LayoutModel",
      "state": {}
     },
     "a39ef909be504028be725b7bb35c32b8": {
      "model_module": "@jupyter-widgets/controls",
      "model_module_version": "1.0.0",
      "model_name": "SliderStyleModel",
      "state": {
       "description_width": ""
      }
     },
     "a3cb5d37fe2d4dfdb8e29799ac81eacc": {
      "model_module": "@jupyter-widgets/controls",
      "model_module_version": "1.0.0",
      "model_name": "IntSliderModel",
      "state": {
       "description": "dy",
       "layout": "IPY_MODEL_9981d2f81d9b4a5fb673271488812dcc",
       "min": -100,
       "style": "IPY_MODEL_7975f3519aa5488d8f4544f3926229ea",
       "value": -25
      }
     },
     "a3e753abdb8c413d9b0be4cd7349f2c3": {
      "model_module": "@jupyter-widgets/base",
      "model_module_version": "1.0.0",
      "model_name": "LayoutModel",
      "state": {}
     },
     "a401e230efd3488f89b6bcc2b9ddd6fb": {
      "model_module": "@jupyter-widgets/base",
      "model_module_version": "1.0.0",
      "model_name": "LayoutModel",
      "state": {}
     },
     "a41cb1462eaa4cfe90417e2b625aefc7": {
      "model_module": "@jupyter-widgets/controls",
      "model_module_version": "1.0.0",
      "model_name": "IntSliderModel",
      "state": {
       "description": "h",
       "layout": "IPY_MODEL_4d1767f16ed54db48ec90fbeb63e1456",
       "max": 300,
       "min": -300,
       "style": "IPY_MODEL_46c337e9db694ad0b220a53483bc6365",
       "value": 50
      }
     },
     "a4588cc0de184bc8832320fb76949505": {
      "model_module": "@jupyter-widgets/controls",
      "model_module_version": "1.0.0",
      "model_name": "SliderStyleModel",
      "state": {
       "description_width": ""
      }
     },
     "a459c0c1b6324f89b0a2205eaedb36f0": {
      "model_module": "@jupyter-widgets/controls",
      "model_module_version": "1.0.0",
      "model_name": "IntSliderModel",
      "state": {
       "description": "w",
       "layout": "IPY_MODEL_0b947080d0254b92a8c8f0cf5938749b",
       "max": 300,
       "min": -300,
       "style": "IPY_MODEL_9c62680d856643398837ad633e2a9640",
       "value": 50
      }
     },
     "a45d547d58e54087aa33954709b3e27f": {
      "model_module": "jp_proxy_widget",
      "model_module_version": "^0.3.4",
      "model_name": "JSProxyModel",
      "state": {
       "_model_module_version": "^0.3.4",
       "_send_counter": 11,
       "_view_module_version": "^0.3.4",
       "error_msg": "No error",
       "layout": "IPY_MODEL_d1ada41b2e654acda88a78603382310e",
       "rendered": true,
       "status": "Got results."
      }
     },
     "a469783eaa864dd1a666075b99c2f77c": {
      "model_module": "@jupyter-widgets/controls",
      "model_module_version": "1.0.0",
      "model_name": "SliderStyleModel",
      "state": {
       "description_width": ""
      }
     },
     "a474772baffb48be8ea7b813121d387f": {
      "model_module": "@jupyter-widgets/controls",
      "model_module_version": "1.0.0",
      "model_name": "IntSliderModel",
      "state": {
       "description": "w",
       "layout": "IPY_MODEL_8347f04acb554d22a76d93d4d6adb496",
       "max": 300,
       "min": -300,
       "style": "IPY_MODEL_d2019cc2ffd64050bfb4a452fea7b44f",
       "value": 250
      }
     },
     "a4806d08eea944289eaa92240ca246d7": {
      "model_module": "@jupyter-widgets/base",
      "model_module_version": "1.0.0",
      "model_name": "LayoutModel",
      "state": {}
     },
     "a483f93a31554b3e9e2c4271b9406ecb": {
      "model_module": "@jupyter-widgets/controls",
      "model_module_version": "1.0.0",
      "model_name": "SliderStyleModel",
      "state": {
       "description_width": ""
      }
     },
     "a4878b73067548d78b014d7d1c282b7a": {
      "model_module": "@jupyter-widgets/controls",
      "model_module_version": "1.0.0",
      "model_name": "DescriptionStyleModel",
      "state": {
       "description_width": ""
      }
     },
     "a4a10e91ee514e8d8df3c62120e8ad7e": {
      "model_module": "@jupyter-widgets/base",
      "model_module_version": "1.0.0",
      "model_name": "LayoutModel",
      "state": {}
     },
     "a4a98a09bb4a4f1297d24a278d5962dd": {
      "model_module": "@jupyter-widgets/base",
      "model_module_version": "1.0.0",
      "model_name": "LayoutModel",
      "state": {}
     },
     "a4e2bb91829d46fead0c6e503ea1af62": {
      "model_module": "@jupyter-widgets/controls",
      "model_module_version": "1.0.0",
      "model_name": "IntSliderModel",
      "state": {
       "description": "y",
       "layout": "IPY_MODEL_b7f66a9c893b47e8a70781a4a8064154",
       "min": -100,
       "style": "IPY_MODEL_c637d41ba9ae4ee29b56bb98e594fb10"
      }
     },
     "a4e646f06a9b458ca97daaea71a669f4": {
      "model_module": "@jupyter-widgets/controls",
      "model_module_version": "1.0.0",
      "model_name": "IntSliderModel",
      "state": {
       "description": "dy",
       "layout": "IPY_MODEL_eace2ec9df6f4baf96e468f65fbaeff8",
       "min": -100,
       "style": "IPY_MODEL_c263234c0a034f67836a06598f3a4e10",
       "value": -25
      }
     },
     "a4e873612d804001b03577b2fdb3c554": {
      "model_module": "@jupyter-widgets/base",
      "model_module_version": "1.0.0",
      "model_name": "LayoutModel",
      "state": {}
     },
     "a4f2033e14044ccbb37742b372673847": {
      "model_module": "@jupyter-widgets/base",
      "model_module_version": "1.0.0",
      "model_name": "LayoutModel",
      "state": {}
     },
     "a4f54d5f02334d15988462b5378f36b5": {
      "model_module": "@jupyter-widgets/controls",
      "model_module_version": "1.0.0",
      "model_name": "SliderStyleModel",
      "state": {
       "description_width": ""
      }
     },
     "a4ff458619774581a69abb4e3617937f": {
      "model_module": "@jupyter-widgets/base",
      "model_module_version": "1.0.0",
      "model_name": "LayoutModel",
      "state": {}
     },
     "a535c647d0ec4c1096304df3d7fac4a4": {
      "model_module": "@jupyter-widgets/base",
      "model_module_version": "1.0.0",
      "model_name": "LayoutModel",
      "state": {}
     },
     "a558e28ae2ec4cdfb59c31a74f8c9e42": {
      "model_module": "@jupyter-widgets/base",
      "model_module_version": "1.0.0",
      "model_name": "LayoutModel",
      "state": {}
     },
     "a5645434b30d41a6940ae832b165542b": {
      "model_module": "@jupyter-widgets/controls",
      "model_module_version": "1.0.0",
      "model_name": "CheckboxModel",
      "state": {
       "description": "whole",
       "disabled": false,
       "layout": "IPY_MODEL_22ad830a2a9b48bebc9e98f6d2359f3d",
       "style": "IPY_MODEL_1ea7213f94b5467388a4d1223e9438a1",
       "value": true
      }
     },
     "a56bedb4915744c6bb7b35b9fa607cf4": {
      "model_module": "@jupyter-widgets/controls",
      "model_module_version": "1.0.0",
      "model_name": "VBoxModel",
      "state": {
       "_dom_classes": [
        "widget-interact"
       ],
       "children": [
        "IPY_MODEL_880dc605687e47f199c75971178a1bf9",
        "IPY_MODEL_75d62cb247714505aa42c4e9aabbb163",
        "IPY_MODEL_0af65bb5734049498a94319a63d47323",
        "IPY_MODEL_cb4e29db0eff4938a5fb7049de51f7bc",
        "IPY_MODEL_616b37d972d6467990b7304b8dff1830",
        "IPY_MODEL_cfbcb51eae0d45d5b497bba163de55b5",
        "IPY_MODEL_967000da70084aa0b5286cc7d81bcd26",
        "IPY_MODEL_1c1597811e9644e9921d0946b61de3f2",
        "IPY_MODEL_f21c46ef68e14e58ad2834788dcbaa94",
        "IPY_MODEL_eb1cb2131e144536be681ddb71be1994",
        "IPY_MODEL_f5888cec71454a90b9159ca8c2ecef45",
        "IPY_MODEL_9e69e5c26d1043b5b5822426a65a17d4",
        "IPY_MODEL_8a571d30c965493494acd397a42e4429",
        "IPY_MODEL_f63770e08d2a4b64b9a7e0f3ff66390b"
       ],
       "layout": "IPY_MODEL_b301ab582eeb49f9b480550426a02315"
      }
     },
     "a56dbd51571a41dcb6f156dd7c62b8be": {
      "model_module": "@jupyter-widgets/base",
      "model_module_version": "1.0.0",
      "model_name": "LayoutModel",
      "state": {}
     },
     "a5736efe026941f5b28d682dca5eb4ae": {
      "model_module": "@jupyter-widgets/controls",
      "model_module_version": "1.0.0",
      "model_name": "SliderStyleModel",
      "state": {
       "description_width": ""
      }
     },
     "a57a52d56c09448b935cf24c6be59dd5": {
      "model_module": "@jupyter-widgets/base",
      "model_module_version": "1.0.0",
      "model_name": "LayoutModel",
      "state": {}
     },
     "a57c354ccb1d40f3a428ee033eff51b1": {
      "model_module": "@jupyter-widgets/controls",
      "model_module_version": "1.0.0",
      "model_name": "SliderStyleModel",
      "state": {
       "description_width": ""
      }
     },
     "a5aabaf06c2a49e69b7cc74c066d3c25": {
      "model_module": "@jupyter-widgets/controls",
      "model_module_version": "1.0.0",
      "model_name": "DescriptionStyleModel",
      "state": {
       "description_width": ""
      }
     },
     "a5af4789865d49cd80c598c65411191c": {
      "model_module": "@jupyter-widgets/controls",
      "model_module_version": "1.0.0",
      "model_name": "DescriptionStyleModel",
      "state": {
       "description_width": ""
      }
     },
     "a5bbde58ba4542748f6a11612cfea8b0": {
      "model_module": "@jupyter-widgets/base",
      "model_module_version": "1.0.0",
      "model_name": "LayoutModel",
      "state": {}
     },
     "a5cd14585e15469ea4523aacb8a51489": {
      "model_module": "@jupyter-widgets/controls",
      "model_module_version": "1.0.0",
      "model_name": "SliderStyleModel",
      "state": {
       "description_width": ""
      }
     },
     "a5db2d8b419a47b08f8dfca13524deec": {
      "model_module": "@jupyter-widgets/controls",
      "model_module_version": "1.0.0",
      "model_name": "SliderStyleModel",
      "state": {
       "description_width": ""
      }
     },
     "a5ec7480cf1347b9add55821bfd5d126": {
      "model_module": "@jupyter-widgets/base",
      "model_module_version": "1.0.0",
      "model_name": "LayoutModel",
      "state": {}
     },
     "a5f69e78401948b983d55ffeef11322c": {
      "model_module": "@jupyter-widgets/base",
      "model_module_version": "1.0.0",
      "model_name": "LayoutModel",
      "state": {}
     },
     "a62f8490d26d4473a8556a2f4792bee1": {
      "model_module": "@jupyter-widgets/controls",
      "model_module_version": "1.0.0",
      "model_name": "SliderStyleModel",
      "state": {
       "description_width": ""
      }
     },
     "a6302deaa5e74dd7b7adbb12c3ee4492": {
      "model_module": "@jupyter-widgets/base",
      "model_module_version": "1.0.0",
      "model_name": "LayoutModel",
      "state": {}
     },
     "a683844a29dd4b76a4062514d56e0409": {
      "model_module": "@jupyter-widgets/base",
      "model_module_version": "1.0.0",
      "model_name": "LayoutModel",
      "state": {}
     },
     "a683fd2de4624ac3a17950b5ddc76214": {
      "model_module": "@jupyter-widgets/base",
      "model_module_version": "1.0.0",
      "model_name": "LayoutModel",
      "state": {}
     },
     "a690428d3c9243cd8953a2ee2f838221": {
      "model_module": "@jupyter-widgets/controls",
      "model_module_version": "1.0.0",
      "model_name": "IntSliderModel",
      "state": {
       "description": "degrees",
       "layout": "IPY_MODEL_f04237ca32f24dd8bf9735548eed436b",
       "max": 360,
       "min": -360,
       "style": "IPY_MODEL_862715dc7b7642448662c1ca6b52be42",
       "value": -3
      }
     },
     "a6afeaee117d4c87819cceb651ddf789": {
      "model_module": "jp_proxy_widget",
      "model_module_version": "^0.3.4",
      "model_name": "JSProxyModel",
      "state": {
       "_model_module_version": "^0.3.4",
       "_send_counter": 8,
       "_view_module_version": "^0.3.4",
       "error_msg": "No error",
       "layout": "IPY_MODEL_7c3418e1e8ca43bab6ef5371bb932f4e",
       "rendered": true,
       "status": "Got results."
      }
     },
     "a6c255d5f322481e8d481b38835666a8": {
      "model_module": "@jupyter-widgets/controls",
      "model_module_version": "1.0.0",
      "model_name": "IntSliderModel",
      "state": {
       "description": "dy",
       "layout": "IPY_MODEL_8c4407e4b398475fade15697bce17d6c",
       "min": -100,
       "style": "IPY_MODEL_837ea593874f4852982368a6c7a97230",
       "value": -25
      }
     },
     "a6d069049d974f4086d1b78e62383f1b": {
      "model_module": "@jupyter-widgets/controls",
      "model_module_version": "1.0.0",
      "model_name": "SliderStyleModel",
      "state": {
       "description_width": ""
      }
     },
     "a6fba46921864a83bf30ef7489ffdd71": {
      "model_module": "@jupyter-widgets/base",
      "model_module_version": "1.0.0",
      "model_name": "LayoutModel",
      "state": {}
     },
     "a7139a7daaec47d791a40fde3c8bdc3d": {
      "model_module": "@jupyter-widgets/controls",
      "model_module_version": "1.0.0",
      "model_name": "SliderStyleModel",
      "state": {
       "description_width": ""
      }
     },
     "a71e0a46812143639219cc267a777e26": {
      "model_module": "@jupyter-widgets/output",
      "model_module_version": "1.0.0",
      "model_name": "OutputModel",
      "state": {
       "layout": "IPY_MODEL_11d8c75a31fc47a68db22ba03fe70172"
      }
     },
     "a76598dabb5b438eb99011de3a3e5eb9": {
      "model_module": "@jupyter-widgets/base",
      "model_module_version": "1.0.0",
      "model_name": "LayoutModel",
      "state": {}
     },
     "a7695c8029704b4e8212ccdeb31f440e": {
      "model_module": "@jupyter-widgets/controls",
      "model_module_version": "1.0.0",
      "model_name": "SliderStyleModel",
      "state": {
       "description_width": ""
      }
     },
     "a796e87e80984babb3aea6f8278446c4": {
      "model_module": "@jupyter-widgets/base",
      "model_module_version": "1.0.0",
      "model_name": "LayoutModel",
      "state": {}
     },
     "a7a5c7fbf4eb41b28a7670088c55803e": {
      "model_module": "@jupyter-widgets/controls",
      "model_module_version": "1.0.0",
      "model_name": "DescriptionStyleModel",
      "state": {
       "description_width": ""
      }
     },
     "a7b66fbab77c406bb7f10192143b06ce": {
      "model_module": "@jupyter-widgets/base",
      "model_module_version": "1.0.0",
      "model_name": "LayoutModel",
      "state": {}
     },
     "a7b79cc948c1472eaaeb045dceb9b5e1": {
      "model_module": "@jupyter-widgets/controls",
      "model_module_version": "1.0.0",
      "model_name": "IntSliderModel",
      "state": {
       "description": "x",
       "layout": "IPY_MODEL_e3f96fdaf0654b9bb5ef5fe5d95dbefb",
       "min": -100,
       "style": "IPY_MODEL_6c3a5664f9b848b1bc1ddee2ca8cc870"
      }
     },
     "a7e96d0a3bbc42c4957d66f539e7aa12": {
      "model_module": "@jupyter-widgets/base",
      "model_module_version": "1.0.0",
      "model_name": "LayoutModel",
      "state": {}
     },
     "a817562f2cf84d62b26f143dff2f6677": {
      "model_module": "@jupyter-widgets/base",
      "model_module_version": "1.0.0",
      "model_name": "LayoutModel",
      "state": {}
     },
     "a83665ebed594db195e1ee15116102fa": {
      "model_module": "@jupyter-widgets/base",
      "model_module_version": "1.0.0",
      "model_name": "LayoutModel",
      "state": {}
     },
     "a837d6ff2c364206824be155e814bbe0": {
      "model_module": "@jupyter-widgets/controls",
      "model_module_version": "1.0.0",
      "model_name": "SliderStyleModel",
      "state": {
       "description_width": ""
      }
     },
     "a84675d11d67424fb6a9343edc54cc6e": {
      "model_module": "@jupyter-widgets/controls",
      "model_module_version": "1.0.0",
      "model_name": "CheckboxModel",
      "state": {
       "description": "fill",
       "disabled": false,
       "layout": "IPY_MODEL_32dd3842cfd84edcaa0383b5a1aa5cae",
       "style": "IPY_MODEL_525bb4ec0d4445d692687c165d517fd6",
       "value": true
      }
     },
     "a895c20fa5904e5e90d479a850648308": {
      "model_module": "@jupyter-widgets/controls",
      "model_module_version": "1.0.0",
      "model_name": "SliderStyleModel",
      "state": {
       "description_width": ""
      }
     },
     "a89e0eae175246b4813f7ab11a7d7dbc": {
      "model_module": "@jupyter-widgets/base",
      "model_module_version": "1.0.0",
      "model_name": "LayoutModel",
      "state": {}
     },
     "a89f8ea5835443bc8de1b6610915682b": {
      "model_module": "@jupyter-widgets/controls",
      "model_module_version": "1.0.0",
      "model_name": "SliderStyleModel",
      "state": {
       "description_width": ""
      }
     },
     "a8d4c3fd16ab4245a16428aa9021b616": {
      "model_module": "@jupyter-widgets/controls",
      "model_module_version": "1.0.0",
      "model_name": "TabModel",
      "state": {
       "_titles": {
        "0": "Canvas",
        "1": "Snapshot"
       },
       "children": [
        "IPY_MODEL_34e04ba915f74f3bae7aea7b41796ed3",
        "IPY_MODEL_3137af19dab94d0196ba067e9e41e63b"
       ],
       "layout": "IPY_MODEL_2818da40efa2451ea93d3b75a745c880"
      }
     },
     "a8ed4bd7010b4157b403b645c909d09b": {
      "model_module": "@jupyter-widgets/base",
      "model_module_version": "1.0.0",
      "model_name": "LayoutModel",
      "state": {}
     },
     "a907ed66ad484584a6a2dca6aaf5fc04": {
      "model_module": "@jupyter-widgets/base",
      "model_module_version": "1.0.0",
      "model_name": "LayoutModel",
      "state": {}
     },
     "a91cb63369404a839fa3279e3442ce59": {
      "model_module": "@jupyter-widgets/controls",
      "model_module_version": "1.0.0",
      "model_name": "IntSliderModel",
      "state": {
       "description": "red",
       "layout": "IPY_MODEL_0711718a6c504992a69b52793ab8fae7",
       "max": 255,
       "style": "IPY_MODEL_29175feef1a148e18a99ea050f6789a2",
       "value": 127
      }
     },
     "a94da95ef8c74aff807a2f54c385d296": {
      "model_module": "@jupyter-widgets/controls",
      "model_module_version": "1.0.0",
      "model_name": "SliderStyleModel",
      "state": {
       "description_width": ""
      }
     },
     "a9725976eee54c08869ce129eed45be3": {
      "model_module": "@jupyter-widgets/controls",
      "model_module_version": "1.0.0",
      "model_name": "FloatSliderModel",
      "state": {
       "description": "alpha",
       "layout": "IPY_MODEL_199aa7e23a00433ba45d8231b55ae762",
       "max": 1,
       "step": 0.1,
       "style": "IPY_MODEL_8142417d674540de833028324adc982c",
       "value": 1
      }
     },
     "a978688fa6d84dd4be067a0b6c83ddec": {
      "model_module": "@jupyter-widgets/base",
      "model_module_version": "1.0.0",
      "model_name": "LayoutModel",
      "state": {}
     },
     "a97bb7463ece4e34ae08696d76379e62": {
      "model_module": "@jupyter-widgets/controls",
      "model_module_version": "1.0.0",
      "model_name": "SliderStyleModel",
      "state": {
       "description_width": ""
      }
     },
     "a9850fccd3c04fbd83bd7b4aa40deff6": {
      "model_module": "@jupyter-widgets/controls",
      "model_module_version": "1.0.0",
      "model_name": "HTMLModel",
      "state": {
       "layout": "IPY_MODEL_460aad71be2844eaa50d17fbb17a0b09",
       "style": "IPY_MODEL_b7861027dc4b41a8be0fb038f6a0b24a",
       "value": "<img src=\"interactive_rectangle2.png\" id=\"snapshot_id_21_1536268014900\"/>\n <div id=\"snapshot_id_22_1536268014900\">interactive_rectangle2.png</div>"
      }
     },
     "a99673c6ce4d47a8a0afbad27a81988e": {
      "model_module": "@jupyter-widgets/base",
      "model_module_version": "1.0.0",
      "model_name": "LayoutModel",
      "state": {}
     },
     "a9ad4a23aec54b7e85e22a7ddde4cf9f": {
      "model_module": "@jupyter-widgets/controls",
      "model_module_version": "1.0.0",
      "model_name": "IntSliderModel",
      "state": {
       "description": "r",
       "layout": "IPY_MODEL_94e4936f21ca4a88b80e7ca0a953f36b",
       "style": "IPY_MODEL_e831c1d4f55c448ea55761cc3d2f358d",
       "value": 50
      }
     },
     "aa2f95ce469b4e9483a2a8d5775cb66b": {
      "model_module": "jp_proxy_widget",
      "model_module_version": "^0.3.4",
      "model_name": "JSProxyModel",
      "state": {
       "_model_module_version": "^0.3.4",
       "_send_counter": 8,
       "_view_module_version": "^0.3.4",
       "error_msg": "No error",
       "layout": "IPY_MODEL_49f8afd4c65042e2b45e9918a9b2a2e5",
       "rendered": true,
       "status": "Got results."
      }
     },
     "aa331e7213d547a6af42a3951e2d8391": {
      "model_module": "@jupyter-widgets/base",
      "model_module_version": "1.0.0",
      "model_name": "LayoutModel",
      "state": {}
     },
     "aa423ca757cf42ddb653097b44cc96a5": {
      "model_module": "jp_proxy_widget",
      "model_module_version": "^0.3.4",
      "model_name": "JSProxyModel",
      "state": {
       "_model_module_version": "^0.3.4",
       "_send_counter": 2,
       "_view_module_version": "^0.3.4",
       "error_msg": "No error",
       "layout": "IPY_MODEL_b0daa09467764436aff0e8bc5a10cd9f",
       "rendered": true,
       "status": "Got results."
      }
     },
     "aa4bd49b733944568e690541d93119a1": {
      "model_module": "@jupyter-widgets/base",
      "model_module_version": "1.0.0",
      "model_name": "LayoutModel",
      "state": {}
     },
     "aa57f6633ee54a089b609d1e78376427": {
      "model_module": "@jupyter-widgets/controls",
      "model_module_version": "1.0.0",
      "model_name": "SliderStyleModel",
      "state": {
       "description_width": ""
      }
     },
     "aaa40bbc1ed243bda89c812cf3486b67": {
      "model_module": "@jupyter-widgets/base",
      "model_module_version": "1.0.0",
      "model_name": "LayoutModel",
      "state": {}
     },
     "aab3ed321aac429fb4c144fa8e59f161": {
      "model_module": "@jupyter-widgets/base",
      "model_module_version": "1.0.0",
      "model_name": "LayoutModel",
      "state": {}
     },
     "aad571870bce4fd0a13afd5a407bb798": {
      "model_module": "@jupyter-widgets/controls",
      "model_module_version": "1.0.0",
      "model_name": "VBoxModel",
      "state": {
       "_dom_classes": [
        "widget-interact"
       ],
       "children": [
        "IPY_MODEL_7abb52453fb04d0087ae7856d04f0512",
        "IPY_MODEL_120f53b2f22744898f2dcba332c72471",
        "IPY_MODEL_278c14b15124447588f0c5b9b1090a1e",
        "IPY_MODEL_5fd66191b18246f8ace0c8f2d90afa26",
        "IPY_MODEL_92ab3206b3b045359ddf9e9268a4954b",
        "IPY_MODEL_ad3b5b8f9c18486ea4fff2ab006ae4b1",
        "IPY_MODEL_5f605a3c0bf94dd7b50caaa65efc0ffa",
        "IPY_MODEL_7e51d38002b54e0ebd18f159f4d7e26e"
       ],
       "layout": "IPY_MODEL_d2ee1e268a02467cbec808a81abda56b"
      }
     },
     "aaf239bd30944d0cad7ddea1b6fa57c8": {
      "model_module": "@jupyter-widgets/base",
      "model_module_version": "1.0.0",
      "model_name": "LayoutModel",
      "state": {}
     },
     "ab05b6ebf11a414689aa9c0a754256bc": {
      "model_module": "@jupyter-widgets/base",
      "model_module_version": "1.0.0",
      "model_name": "LayoutModel",
      "state": {}
     },
     "ab1a06ed73ac4752b88a8460277d62e5": {
      "model_module": "@jupyter-widgets/controls",
      "model_module_version": "1.0.0",
      "model_name": "TabModel",
      "state": {
       "_titles": {
        "0": "Canvas",
        "1": "Snapshot"
       },
       "children": [
        "IPY_MODEL_498e02883e534f70b9545b5a207408c7",
        "IPY_MODEL_6521fe8028574f058b603bb7814cbcf5"
       ],
       "layout": "IPY_MODEL_b26461238e884caeb8f776ff977aa97a"
      }
     },
     "aba9e6d809a04cdb8f8d7d9e653c7316": {
      "model_module": "@jupyter-widgets/base",
      "model_module_version": "1.0.0",
      "model_name": "LayoutModel",
      "state": {}
     },
     "ac09a2d816d245b1b4e2206d6f441ef9": {
      "model_module": "@jupyter-widgets/controls",
      "model_module_version": "1.0.0",
      "model_name": "IntSliderModel",
      "state": {
       "description": "green",
       "layout": "IPY_MODEL_d22f0614b98c4b1eae236fdb8c18c638",
       "max": 255,
       "style": "IPY_MODEL_56617b2f5f1b4ee2a05400e1398ff924"
      }
     },
     "ac1085b427584a88b03c019ba5b35317": {
      "model_module": "@jupyter-widgets/base",
      "model_module_version": "1.0.0",
      "model_name": "LayoutModel",
      "state": {}
     },
     "ac264d2086a743c5a7c6d05dee267a4a": {
      "model_module": "@jupyter-widgets/base",
      "model_module_version": "1.0.0",
      "model_name": "LayoutModel",
      "state": {}
     },
     "ac8bcbb72d4043d8854ecd8f3494a1d3": {
      "model_module": "@jupyter-widgets/controls",
      "model_module_version": "1.0.0",
      "model_name": "HTMLModel",
      "state": {
       "layout": "IPY_MODEL_4f6ad3ad878d4109b669c27889752e15",
       "style": "IPY_MODEL_5956e81c07a44f5098ab7f63476b1f7e",
       "value": "<img src=\"interactive_rectangle.png\" id=\"snapshot_id_29_1536268644354\"/>\n <div id=\"snapshot_id_30_1536268644354\">interactive_rectangle.png</div>"
      }
     },
     "ac99ae6f50354110a122f5bd8a25ffd2": {
      "model_module": "@jupyter-widgets/controls",
      "model_module_version": "1.0.0",
      "model_name": "SliderStyleModel",
      "state": {
       "description_width": ""
      }
     },
     "aca9c5619da7495fab991c1214b4643a": {
      "model_module": "@jupyter-widgets/base",
      "model_module_version": "1.0.0",
      "model_name": "LayoutModel",
      "state": {}
     },
     "acbe1b3ed6d9474a807502f80acd938b": {
      "model_module": "@jupyter-widgets/controls",
      "model_module_version": "1.0.0",
      "model_name": "IntSliderModel",
      "state": {
       "description": "dx",
       "layout": "IPY_MODEL_19075fd9652f49128f1fb1fe6fc09f61",
       "min": -100,
       "style": "IPY_MODEL_68914187419d416e80caccf0afdc47ce",
       "value": -100
      }
     },
     "ace7cbbdcdd14deaa8d4ed74791d607a": {
      "model_module": "jp_proxy_widget",
      "model_module_version": "^0.3.4",
      "model_name": "JSProxyModel",
      "state": {
       "_model_module_version": "^0.3.4",
       "_send_counter": 10,
       "_view_module_version": "^0.3.4",
       "error_msg": "No error",
       "layout": "IPY_MODEL_6d4d21c7ae254ed783fb1637f1ce3e14",
       "rendered": true,
       "status": "Got results."
      }
     },
     "aceea22abb284a589c84a2d8ba6f2e42": {
      "model_module": "@jupyter-widgets/controls",
      "model_module_version": "1.0.0",
      "model_name": "IntSliderModel",
      "state": {
       "description": "dy",
       "layout": "IPY_MODEL_b7f44bb0e4fb484aa4abf3ef0fb8a433",
       "min": -100,
       "style": "IPY_MODEL_872a15b914ca4d62a4a9abbf76b3a45d"
      }
     },
     "acfbed4ab78f4662a77ba40e48488ecc": {
      "model_module": "@jupyter-widgets/controls",
      "model_module_version": "1.0.0",
      "model_name": "DescriptionStyleModel",
      "state": {
       "description_width": ""
      }
     },
     "ad064ec60306491cb1815b9abdbb5119": {
      "model_module": "@jupyter-widgets/base",
      "model_module_version": "1.0.0",
      "model_name": "LayoutModel",
      "state": {}
     },
     "ad2d170c8b03485abd7e77de4a619edf": {
      "model_module": "@jupyter-widgets/controls",
      "model_module_version": "1.0.0",
      "model_name": "VBoxModel",
      "state": {
       "_dom_classes": [
        "widget-interact"
       ],
       "children": [
        "IPY_MODEL_bfb5d5e81d9548a9af70e63c05250087",
        "IPY_MODEL_f660f2aebd3e41459baf5952ec52ec7b",
        "IPY_MODEL_b03c7a1aa8dd463091010c53a39cb159",
        "IPY_MODEL_364817d6ce7a4904b270524afa789cf7",
        "IPY_MODEL_3462e27fd50e485695a62b08636f316b",
        "IPY_MODEL_1415fdca4e46409eb59cf54fee80efde",
        "IPY_MODEL_2d25cde2c3a34ce78c0183785f2b5627",
        "IPY_MODEL_d0c0dee0922c469aad59bd249675d036",
        "IPY_MODEL_548c4b2d07df456f98cfa8e9e4041b15",
        "IPY_MODEL_3e4c590d40324812b350512df6bfe115",
        "IPY_MODEL_d2c723e1d21e4cd1ae36a66547296c25",
        "IPY_MODEL_8dcfe9fbf00f4154a4f1bdfd4e590aa3"
       ],
       "layout": "IPY_MODEL_27012439e37b43689536808bef069672"
      }
     },
     "ad31aa36b3d74280a0da8d037498f93e": {
      "model_module": "@jupyter-widgets/controls",
      "model_module_version": "1.0.0",
      "model_name": "TabModel",
      "state": {
       "_titles": {
        "0": "Canvas",
        "1": "Snapshot"
       },
       "children": [
        "IPY_MODEL_0641ffaf24394f268c2c18cdf7b810bb",
        "IPY_MODEL_813ee9d0f1c5434591c30f50d498c48d"
       ],
       "layout": "IPY_MODEL_5caef0a5004e4315a212fb9303d9ab20"
      }
     },
     "ad3b5b8f9c18486ea4fff2ab006ae4b1": {
      "model_module": "@jupyter-widgets/controls",
      "model_module_version": "1.0.0",
      "model_name": "IntSliderModel",
      "state": {
       "description": "blue",
       "layout": "IPY_MODEL_74faef74215548369eb533fd4e826347",
       "max": 255,
       "style": "IPY_MODEL_841974ce7e044120bd782f63a01aa66b",
       "value": 127
      }
     },
     "ad53bb39a79140c2ba50a593b050523e": {
      "model_module": "@jupyter-widgets/controls",
      "model_module_version": "1.0.0",
      "model_name": "DescriptionStyleModel",
      "state": {
       "description_width": ""
      }
     },
     "ad76cdf708024e84af977f430db6754f": {
      "model_module": "@jupyter-widgets/controls",
      "model_module_version": "1.0.0",
      "model_name": "IntSliderModel",
      "state": {
       "description": "red",
       "layout": "IPY_MODEL_0772d72b375e413dbcfb10010cb42e55",
       "max": 255,
       "style": "IPY_MODEL_a1f400faccc74475b01560ace5063bc4",
       "value": 255
      }
     },
     "ad87d330220a47619ca1a695837c45d2": {
      "model_module": "@jupyter-widgets/base",
      "model_module_version": "1.0.0",
      "model_name": "LayoutModel",
      "state": {}
     },
     "ad8a2b78acbf49ca920c3a83de258486": {
      "model_module": "@jupyter-widgets/controls",
      "model_module_version": "1.0.0",
      "model_name": "SliderStyleModel",
      "state": {
       "description_width": ""
      }
     },
     "ad98b8d469854e1999cd606f78b78aa1": {
      "model_module": "@jupyter-widgets/base",
      "model_module_version": "1.0.0",
      "model_name": "LayoutModel",
      "state": {}
     },
     "ad9ac3883d7a4a2cb5551d0094173280": {
      "model_module": "@jupyter-widgets/output",
      "model_module_version": "1.0.0",
      "model_name": "OutputModel",
      "state": {
       "layout": "IPY_MODEL_716d22fdd9264a66aff6b4d335d77b12"
      }
     },
     "ad9e4f3cd6a849ea83f0c55b902c7803": {
      "model_module": "@jupyter-widgets/controls",
      "model_module_version": "1.0.0",
      "model_name": "SliderStyleModel",
      "state": {
       "description_width": ""
      }
     },
     "adb61307029a413db984b5aff4a0d460": {
      "model_module": "@jupyter-widgets/base",
      "model_module_version": "1.0.0",
      "model_name": "LayoutModel",
      "state": {}
     },
     "adbaaddc728b42dfbab21ec286379b64": {
      "model_module": "@jupyter-widgets/controls",
      "model_module_version": "1.0.0",
      "model_name": "CheckboxModel",
      "state": {
       "description": "fill",
       "disabled": false,
       "layout": "IPY_MODEL_bd42569f3e1a4190b29d2cf03881a6b6",
       "style": "IPY_MODEL_8d35756d5b594468ac91929a0cafe38f",
       "value": true
      }
     },
     "adcdd0ed7e0b45ac916fa9c875acfd1e": {
      "model_module": "@jupyter-widgets/controls",
      "model_module_version": "1.0.0",
      "model_name": "VBoxModel",
      "state": {
       "_dom_classes": [
        "widget-interact"
       ],
       "children": [
        "IPY_MODEL_1a1abcf76ed9493fba78f3699f57aa52",
        "IPY_MODEL_9fbeec1b73f64c2cbe6c55427bc86dde",
        "IPY_MODEL_b232d4094d4440ec9fa7825c63abbe6d",
        "IPY_MODEL_3111dc70ff244d0891a651244c6578cf",
        "IPY_MODEL_cdd59653765a453a8ea86d10d3942b2d",
        "IPY_MODEL_ba51bfa81d684da4b93dd347db03872f",
        "IPY_MODEL_f27dc97bdcda4ffe92471ba17a77cd87",
        "IPY_MODEL_adbaaddc728b42dfbab21ec286379b64",
        "IPY_MODEL_ca49dec8e05f4407aaf375e474c4bcb7",
        "IPY_MODEL_f784a82fec144e189d614fd45b001b3f",
        "IPY_MODEL_8f52c27644c74311925b48362952bc7b",
        "IPY_MODEL_0341be857f89415a999b1d56d3e4f063",
        "IPY_MODEL_530477f1c0fb47b7a36031836ced98ed",
        "IPY_MODEL_78608b96edfd46af8ef1e85ba4b4dde0"
       ],
       "layout": "IPY_MODEL_579a2f8c3c314b3cb0ba47f3746dfd7e"
      }
     },
     "adfaa824e21d42cdbe35d69e0d3c7fa4": {
      "model_module": "@jupyter-widgets/base",
      "model_module_version": "1.0.0",
      "model_name": "LayoutModel",
      "state": {}
     },
     "ae0aa466feaf4779811b94927ae580b4": {
      "model_module": "@jupyter-widgets/controls",
      "model_module_version": "1.0.0",
      "model_name": "SliderStyleModel",
      "state": {
       "description_width": ""
      }
     },
     "ae32ebc2ccce45afbd02a02f5d085753": {
      "model_module": "@jupyter-widgets/base",
      "model_module_version": "1.0.0",
      "model_name": "LayoutModel",
      "state": {}
     },
     "ae662bb392a049859ac33368a1e22d7c": {
      "model_module": "@jupyter-widgets/controls",
      "model_module_version": "1.0.0",
      "model_name": "SliderStyleModel",
      "state": {
       "description_width": ""
      }
     },
     "ae77c7584fdf41a38bf4fecbef2531ca": {
      "model_module": "@jupyter-widgets/base",
      "model_module_version": "1.0.0",
      "model_name": "LayoutModel",
      "state": {}
     },
     "aeaa55f4a37247f98d3dafd7ec15f247": {
      "model_module": "@jupyter-widgets/controls",
      "model_module_version": "1.0.0",
      "model_name": "FloatSliderModel",
      "state": {
       "description": "alpha",
       "layout": "IPY_MODEL_fb6b06434ccc4d08a576f28986e68133",
       "max": 1,
       "step": 0.1,
       "style": "IPY_MODEL_0965547da6e141d8ae9d333ef196b042",
       "value": 1
      }
     },
     "aeb3cd3b74c3402e936664314ac099c8": {
      "model_module": "@jupyter-widgets/controls",
      "model_module_version": "1.0.0",
      "model_name": "SliderStyleModel",
      "state": {
       "description_width": ""
      }
     },
     "aecb26f4530545afa1470e4e977433fa": {
      "model_module": "@jupyter-widgets/base",
      "model_module_version": "1.0.0",
      "model_name": "LayoutModel",
      "state": {}
     },
     "aecb392449b845c6bb67f20a36abdc26": {
      "model_module": "@jupyter-widgets/controls",
      "model_module_version": "1.0.0",
      "model_name": "SliderStyleModel",
      "state": {
       "description_width": ""
      }
     },
     "aed552f711b14f6db7a42e5a8a0586cd": {
      "model_module": "@jupyter-widgets/controls",
      "model_module_version": "1.0.0",
      "model_name": "CheckboxModel",
      "state": {
       "description": "fill",
       "disabled": false,
       "layout": "IPY_MODEL_ac264d2086a743c5a7c6d05dee267a4a",
       "style": "IPY_MODEL_5933621444114d4ab5a994f0ded88e3f",
       "value": true
      }
     },
     "aeef2d01cfaf49939ea4f81be4dc10fa": {
      "model_module": "@jupyter-widgets/controls",
      "model_module_version": "1.0.0",
      "model_name": "HTMLModel",
      "state": {
       "layout": "IPY_MODEL_7dcfd29da0aa4e149d06378de6474f21",
       "style": "IPY_MODEL_0a165a16730a411cafac642b0eafe0e5",
       "value": "<img src=\"interactive_circle.png\" id=\"snapshot_id_3_1536249905299\"/>\n <div id=\"snapshot_id_4_1536249905300\">interactive_circle.png</div>"
      }
     },
     "aef8426a607a4401bf3deeaefc189e84": {
      "model_module": "@jupyter-widgets/controls",
      "model_module_version": "1.0.0",
      "model_name": "DescriptionStyleModel",
      "state": {
       "description_width": ""
      }
     },
     "af11e6b9bc9947648b101d8f95df0fa2": {
      "model_module": "@jupyter-widgets/controls",
      "model_module_version": "1.0.0",
      "model_name": "IntSliderModel",
      "state": {
       "description": "w",
       "layout": "IPY_MODEL_f6cfc11322624ebab85b68b9ea709116",
       "max": 300,
       "min": -300,
       "style": "IPY_MODEL_88adce279506439bbb9175780f610934",
       "value": 50
      }
     },
     "af3b3f154c8149e4a4c9c9060a8a32b9": {
      "model_module": "jp_proxy_widget",
      "model_module_version": "^0.3.4",
      "model_name": "JSProxyModel",
      "state": {
       "_model_module_version": "^0.3.4",
       "_send_counter": 2,
       "_view_module_version": "^0.3.4",
       "error_msg": "No error",
       "layout": "IPY_MODEL_a817562f2cf84d62b26f143dff2f6677",
       "rendered": true,
       "status": "Got results."
      }
     },
     "af637c81abac4081a0a5933eb0a6bb06": {
      "model_module": "@jupyter-widgets/output",
      "model_module_version": "1.0.0",
      "model_name": "OutputModel",
      "state": {
       "layout": "IPY_MODEL_306102ceeafd4b5a844af48aff0536f7"
      }
     },
     "afe8f4ad8c0a42dc88e0b3476f34053a": {
      "model_module": "@jupyter-widgets/controls",
      "model_module_version": "1.0.0",
      "model_name": "IntSliderModel",
      "state": {
       "description": "degrees",
       "layout": "IPY_MODEL_cef4b44d91494ac0aff0b13920d81a3b",
       "max": 360,
       "min": -360,
       "style": "IPY_MODEL_9ac2c5d2447848fbbe6bfcaece2befb0",
       "value": 8
      }
     },
     "b000f583281e40d5978547bb27fc60da": {
      "model_module": "jp_proxy_widget",
      "model_module_version": "^0.3.4",
      "model_name": "JSProxyModel",
      "state": {
       "_model_module_version": "^0.3.4",
       "_send_counter": 2,
       "_view_module_version": "^0.3.4",
       "error_msg": "No error",
       "layout": "IPY_MODEL_0ac8962311e442a6b9131ec618ebbae7",
       "rendered": true,
       "status": "Got results."
      }
     },
     "b01e7c425dbb46bf8e031f8138807607": {
      "model_module": "@jupyter-widgets/base",
      "model_module_version": "1.0.0",
      "model_name": "LayoutModel",
      "state": {}
     },
     "b02b5eeaff684c63bd5fc983aba6a5b4": {
      "model_module": "@jupyter-widgets/controls",
      "model_module_version": "1.0.0",
      "model_name": "IntSliderModel",
      "state": {
       "description": "x",
       "layout": "IPY_MODEL_4f95c3887cf847779cfdc721203b7ac7",
       "min": -100,
       "style": "IPY_MODEL_ad9e4f3cd6a849ea83f0c55b902c7803"
      }
     },
     "b03c7a1aa8dd463091010c53a39cb159": {
      "model_module": "@jupyter-widgets/controls",
      "model_module_version": "1.0.0",
      "model_name": "IntSliderModel",
      "state": {
       "description": "w",
       "layout": "IPY_MODEL_57d0523b00c04f79a784a983c12c2cee",
       "max": 300,
       "min": -300,
       "style": "IPY_MODEL_0cb328fb5fac4df5bd04e16affa363b2",
       "value": 121
      }
     },
     "b0559fa9d89647198546212cf3702549": {
      "model_module": "@jupyter-widgets/base",
      "model_module_version": "1.0.0",
      "model_name": "LayoutModel",
      "state": {}
     },
     "b075a8d9ce1b484591f76e43c8aa5231": {
      "model_module": "@jupyter-widgets/controls",
      "model_module_version": "1.0.0",
      "model_name": "DescriptionStyleModel",
      "state": {
       "description_width": ""
      }
     },
     "b07e62c6c07d4814860ba92a0e58c38a": {
      "model_module": "jp_proxy_widget",
      "model_module_version": "^0.3.4",
      "model_name": "JSProxyModel",
      "state": {
       "_model_module_version": "^0.3.4",
       "_send_counter": 2,
       "_view_module_version": "^0.3.4",
       "error_msg": "No error",
       "layout": "IPY_MODEL_72f0a85eac66457c8896743b3888cc6b",
       "rendered": true,
       "status": "Got results."
      }
     },
     "b0c9a842d4af4dda9c0362edb30fdd31": {
      "model_module": "@jupyter-widgets/base",
      "model_module_version": "1.0.0",
      "model_name": "LayoutModel",
      "state": {}
     },
     "b0daa09467764436aff0e8bc5a10cd9f": {
      "model_module": "@jupyter-widgets/base",
      "model_module_version": "1.0.0",
      "model_name": "LayoutModel",
      "state": {}
     },
     "b0e051589e98426c8122b50e5614bf32": {
      "model_module": "@jupyter-widgets/base",
      "model_module_version": "1.0.0",
      "model_name": "LayoutModel",
      "state": {}
     },
     "b1126a34fafc43049a8bb0fa7b268819": {
      "model_module": "@jupyter-widgets/base",
      "model_module_version": "1.0.0",
      "model_name": "LayoutModel",
      "state": {}
     },
     "b183ff6808a9422189f14f676f905c9e": {
      "model_module": "@jupyter-widgets/controls",
      "model_module_version": "1.0.0",
      "model_name": "TabModel",
      "state": {
       "_titles": {
        "0": "Canvas",
        "1": "Snapshot"
       },
       "children": [
        "IPY_MODEL_9b39b834f0774be2bb2a4275eef1f3bd",
        "IPY_MODEL_a9850fccd3c04fbd83bd7b4aa40deff6"
       ],
       "layout": "IPY_MODEL_7051678c881e4a09ad0f6d414720a272"
      }
     },
     "b1d77485b05942f0ae52eb456b75c3da": {
      "model_module": "@jupyter-widgets/controls",
      "model_module_version": "1.0.0",
      "model_name": "SliderStyleModel",
      "state": {
       "description_width": ""
      }
     },
     "b1f2891b34264e0abd60c31c84862fc1": {
      "model_module": "@jupyter-widgets/base",
      "model_module_version": "1.0.0",
      "model_name": "LayoutModel",
      "state": {}
     },
     "b21c96b17def40f4b789abe49259fab7": {
      "model_module": "@jupyter-widgets/base",
      "model_module_version": "1.0.0",
      "model_name": "LayoutModel",
      "state": {}
     },
     "b232d4094d4440ec9fa7825c63abbe6d": {
      "model_module": "@jupyter-widgets/controls",
      "model_module_version": "1.0.0",
      "model_name": "IntSliderModel",
      "state": {
       "description": "w",
       "layout": "IPY_MODEL_f2c5b7b13eb14d68ae2ebd7fbfc7c340",
       "max": 300,
       "min": -300,
       "style": "IPY_MODEL_7b22d20645bc461d8e495e5fe8cee6e8",
       "value": 10
      }
     },
     "b23dbdcd7e59490e83482dd67ada8a81": {
      "model_module": "@jupyter-widgets/base",
      "model_module_version": "1.0.0",
      "model_name": "LayoutModel",
      "state": {}
     },
     "b251b72b62b04fe7aafb29fb28efd1fc": {
      "model_module": "@jupyter-widgets/base",
      "model_module_version": "1.0.0",
      "model_name": "LayoutModel",
      "state": {}
     },
     "b26461238e884caeb8f776ff977aa97a": {
      "model_module": "@jupyter-widgets/base",
      "model_module_version": "1.0.0",
      "model_name": "LayoutModel",
      "state": {}
     },
     "b2808eb5701c4b898f2d985b1c52d6ff": {
      "model_module": "@jupyter-widgets/base",
      "model_module_version": "1.0.0",
      "model_name": "LayoutModel",
      "state": {}
     },
     "b28e2a3ff6c94267a237a2e116d22279": {
      "model_module": "@jupyter-widgets/controls",
      "model_module_version": "1.0.0",
      "model_name": "IntSliderModel",
      "state": {
       "description": "dy",
       "layout": "IPY_MODEL_7412294309a0417bb062c0c61da819e3",
       "min": -100,
       "style": "IPY_MODEL_c2231e772e134409a86f99365f2b78d3",
       "value": -25
      }
     },
     "b2922ccad79943ad811cdecfc33293ff": {
      "model_module": "@jupyter-widgets/base",
      "model_module_version": "1.0.0",
      "model_name": "LayoutModel",
      "state": {}
     },
     "b2b96f5306a54adaa60234ec566ab5e7": {
      "model_module": "@jupyter-widgets/base",
      "model_module_version": "1.0.0",
      "model_name": "LayoutModel",
      "state": {}
     },
     "b2ed388f1ce8464299386cad081b0c3e": {
      "model_module": "@jupyter-widgets/base",
      "model_module_version": "1.0.0",
      "model_name": "LayoutModel",
      "state": {}
     },
     "b301ab582eeb49f9b480550426a02315": {
      "model_module": "@jupyter-widgets/base",
      "model_module_version": "1.0.0",
      "model_name": "LayoutModel",
      "state": {}
     },
     "b30542ec67c940128ae126e2e41a6119": {
      "model_module": "@jupyter-widgets/base",
      "model_module_version": "1.0.0",
      "model_name": "LayoutModel",
      "state": {}
     },
     "b32814a3909546348d771146e2cc04a5": {
      "model_module": "@jupyter-widgets/controls",
      "model_module_version": "1.0.0",
      "model_name": "FloatSliderModel",
      "state": {
       "description": "start",
       "layout": "IPY_MODEL_a1b35c0157364dde85d326ffe6273bf4",
       "max": 6.383185307179586,
       "step": 0.1,
       "style": "IPY_MODEL_40b3a6e46868489c8da8169d343837c4",
       "value": 2.6
      }
     },
     "b33cb00102d14143ab21cdceead4b814": {
      "model_module": "@jupyter-widgets/controls",
      "model_module_version": "1.0.0",
      "model_name": "IntSliderModel",
      "state": {
       "description": "w",
       "layout": "IPY_MODEL_7ea80488a7b34816b242c0d957f00d1c",
       "max": 300,
       "min": -300,
       "style": "IPY_MODEL_7ebd3ea6b73a4f77a2dcd36cbfcf4bfc",
       "value": 100
      }
     },
     "b34cec64080c447cb8f0edadd7cce72a": {
      "model_module": "@jupyter-widgets/base",
      "model_module_version": "1.0.0",
      "model_name": "LayoutModel",
      "state": {}
     },
     "b3789c225f4a4ff683e2cfe5b7c3d354": {
      "model_module": "@jupyter-widgets/controls",
      "model_module_version": "1.0.0",
      "model_name": "IntSliderModel",
      "state": {
       "description": "lineWidth",
       "layout": "IPY_MODEL_ec9a4c8fe6df4f229b5b07f6fdddcf76",
       "max": 20,
       "style": "IPY_MODEL_076401acc0ed4270ba5ddb059105b700",
       "value": 19
      }
     },
     "b38c81cbff524c1d8eccbec8ba83f52a": {
      "model_module": "@jupyter-widgets/base",
      "model_module_version": "1.0.0",
      "model_name": "LayoutModel",
      "state": {}
     },
     "b3a54178d86746b7a5c65be4281a7a09": {
      "model_module": "@jupyter-widgets/controls",
      "model_module_version": "1.0.0",
      "model_name": "SliderStyleModel",
      "state": {
       "description_width": ""
      }
     },
     "b3a74ed6f86140d8a213a74551fe12fa": {
      "model_module": "@jupyter-widgets/controls",
      "model_module_version": "1.0.0",
      "model_name": "IntSliderModel",
      "state": {
       "description": "h",
       "layout": "IPY_MODEL_58132c2268c547e78418fcdb2993164a",
       "max": 300,
       "min": -300,
       "style": "IPY_MODEL_cfa12cfa008640eaa4a84e33872b9c0f",
       "value": 50
      }
     },
     "b3ae95d92943403d9fdf8b440b491b8d": {
      "model_module": "@jupyter-widgets/base",
      "model_module_version": "1.0.0",
      "model_name": "LayoutModel",
      "state": {}
     },
     "b3e7e9ade30248dcb7d7bb017a1f77eb": {
      "model_module": "@jupyter-widgets/base",
      "model_module_version": "1.0.0",
      "model_name": "LayoutModel",
      "state": {}
     },
     "b3f1a97ecd8b4aab91af8726e1063296": {
      "model_module": "jp_proxy_widget",
      "model_module_version": "^0.3.4",
      "model_name": "JSProxyModel",
      "state": {
       "_model_module_version": "^0.3.4",
       "_send_counter": 2,
       "_view_module_version": "^0.3.4",
       "error_msg": "No error",
       "layout": "IPY_MODEL_4f67d023507b402ba18c542e953f8890",
       "rendered": true,
       "status": "Got results."
      }
     },
     "b3f89d10763c4ecea7ea82b3555326f0": {
      "model_module": "@jupyter-widgets/base",
      "model_module_version": "1.0.0",
      "model_name": "LayoutModel",
      "state": {}
     },
     "b3fad72916ee48cb9436f1b2ddd5a110": {
      "model_module": "@jupyter-widgets/base",
      "model_module_version": "1.0.0",
      "model_name": "LayoutModel",
      "state": {}
     },
     "b3ff48d0c76f4ff2b104a3fc1f6ce8ec": {
      "model_module": "@jupyter-widgets/controls",
      "model_module_version": "1.0.0",
      "model_name": "IntSliderModel",
      "state": {
       "description": "x",
       "layout": "IPY_MODEL_a3299de5f2df4e95b7d5581d413bb8ad",
       "min": -100,
       "style": "IPY_MODEL_91c5912f81f542569548c7f2d2086c22"
      }
     },
     "b4026cb6c8434654baf09dffe7377139": {
      "model_module": "@jupyter-widgets/controls",
      "model_module_version": "1.0.0",
      "model_name": "CheckboxModel",
      "state": {
       "description": "fill",
       "disabled": false,
       "layout": "IPY_MODEL_74ea6cc38ac2424fb12021dfde5a4e57",
       "style": "IPY_MODEL_141f0da05dd043878ada6d01aabde1de",
       "value": false
      }
     },
     "b4091dd7924e41f5a9ad28aac52dc7ba": {
      "model_module": "@jupyter-widgets/controls",
      "model_module_version": "1.0.0",
      "model_name": "IntSliderModel",
      "state": {
       "description": "degrees",
       "layout": "IPY_MODEL_ea0e72f9b4d2457b9d9d829f0ea83bf2",
       "max": 360,
       "min": -360,
       "style": "IPY_MODEL_ce4eeb0a47c64fb2b326c38acd0f50a1"
      }
     },
     "b41e3b1f607545c4b214b6a4bd92cde9": {
      "model_module": "@jupyter-widgets/controls",
      "model_module_version": "1.0.0",
      "model_name": "IntSliderModel",
      "state": {
       "description": "w",
       "layout": "IPY_MODEL_47fc5af1645a44d19ffa71b881857d27",
       "max": 300,
       "min": -300,
       "style": "IPY_MODEL_077146c174644a00a7adc7c9f61fcb14",
       "value": 250
      }
     },
     "b4203a299efb48c4af5c85b36a0479d4": {
      "model_module": "@jupyter-widgets/controls",
      "model_module_version": "1.0.0",
      "model_name": "DescriptionStyleModel",
      "state": {
       "description_width": ""
      }
     },
     "b450bdde95ad4080af671cbcb4a8afee": {
      "model_module": "@jupyter-widgets/controls",
      "model_module_version": "1.0.0",
      "model_name": "IntSliderModel",
      "state": {
       "description": "lineWidth",
       "layout": "IPY_MODEL_7dce7fb0ed0a4d62a8a22b48a5cbbf4f",
       "max": 20,
       "style": "IPY_MODEL_85c5807edfaa447caf02d4471ee47094",
       "value": 3
      }
     },
     "b488a544375a4c02a9d199c4cd2e361e": {
      "model_module": "@jupyter-widgets/base",
      "model_module_version": "1.0.0",
      "model_name": "LayoutModel",
      "state": {}
     },
     "b495034dc0a848d8b9ee5590a449b2c6": {
      "model_module": "@jupyter-widgets/controls",
      "model_module_version": "1.0.0",
      "model_name": "IntSliderModel",
      "state": {
       "description": "blue",
       "layout": "IPY_MODEL_7028bbe4624d480093da42cbdbeae5bb",
       "max": 255,
       "style": "IPY_MODEL_a7139a7daaec47d791a40fde3c8bdc3d",
       "value": 64
      }
     },
     "b4a3a574878540ffb08c5b0cf8d7ca45": {
      "model_module": "@jupyter-widgets/controls",
      "model_module_version": "1.0.0",
      "model_name": "IntSliderModel",
      "state": {
       "description": "h",
       "layout": "IPY_MODEL_c4a4124ad1b24e6ea0bbdeab20c3d004",
       "max": 300,
       "min": -300,
       "style": "IPY_MODEL_f7016569d7824952a9f5a8257e34cb57",
       "value": 50
      }
     },
     "b4c01577aea743c4a6eef4e24c173613": {
      "model_module": "@jupyter-widgets/controls",
      "model_module_version": "1.0.0",
      "model_name": "IntSliderModel",
      "state": {
       "description": "h",
       "layout": "IPY_MODEL_1d8275e92dad4161bedacccd36f65138",
       "max": 300,
       "min": -300,
       "style": "IPY_MODEL_930ef949ddb84cfe9341ffb5026d3ef6",
       "value": 50
      }
     },
     "b51443f9a63c4a1db477062701315528": {
      "model_module": "@jupyter-widgets/base",
      "model_module_version": "1.0.0",
      "model_name": "LayoutModel",
      "state": {}
     },
     "b51daf5d65fe4624a12eddb7bd16af8a": {
      "model_module": "@jupyter-widgets/base",
      "model_module_version": "1.0.0",
      "model_name": "LayoutModel",
      "state": {}
     },
     "b52abea9f7304ae4b1347dcfaddcb312": {
      "model_module": "@jupyter-widgets/output",
      "model_module_version": "1.0.0",
      "model_name": "OutputModel",
      "state": {
       "layout": "IPY_MODEL_39755bd60f7243889c480a0f19023bce"
      }
     },
     "b52cb582d4c74b5ca7ecb80b133fb21a": {
      "model_module": "@jupyter-widgets/controls",
      "model_module_version": "1.0.0",
      "model_name": "IntSliderModel",
      "state": {
       "description": "sHeight",
       "layout": "IPY_MODEL_cc5cacaec15b407c8c86df099d4c96d3",
       "max": 600,
       "style": "IPY_MODEL_c45b26bde786405d9d84aa677ad171bf",
       "value": 20
      }
     },
     "b5363c159f8940a081542eef2de15a55": {
      "model_module": "@jupyter-widgets/base",
      "model_module_version": "1.0.0",
      "model_name": "LayoutModel",
      "state": {}
     },
     "b57326d1f9634cf4bca1037d3ea6a27b": {
      "model_module": "@jupyter-widgets/base",
      "model_module_version": "1.0.0",
      "model_name": "LayoutModel",
      "state": {}
     },
     "b5b3c28324074fd59e3fdb0f245ac68a": {
      "model_module": "@jupyter-widgets/base",
      "model_module_version": "1.0.0",
      "model_name": "LayoutModel",
      "state": {}
     },
     "b5c2db12e98c4ecb95e4b562d5ac27a9": {
      "model_module": "jp_proxy_widget",
      "model_module_version": "^0.3.4",
      "model_name": "JSProxyModel",
      "state": {
       "_model_module_version": "^0.3.4",
       "_send_counter": 1602,
       "_view_module_version": "^0.3.4",
       "error_msg": "No error",
       "layout": "IPY_MODEL_aaa40bbc1ed243bda89c812cf3486b67",
       "rendered": true,
       "status": "Got results."
      }
     },
     "b5eb95fbaaea4fa39d909a84f8fab27b": {
      "model_module": "@jupyter-widgets/controls",
      "model_module_version": "1.0.0",
      "model_name": "IntSliderModel",
      "state": {
       "description": "y",
       "layout": "IPY_MODEL_1a1c907499fd4b8cbfd2b05f94033e5d",
       "min": -100,
       "style": "IPY_MODEL_07cb3f0a01ae4050962530ac799a9ada"
      }
     },
     "b5feb991848643afa934bc15f605cacd": {
      "model_module": "@jupyter-widgets/controls",
      "model_module_version": "1.0.0",
      "model_name": "VBoxModel",
      "state": {
       "_dom_classes": [
        "widget-interact"
       ],
       "children": [
        "IPY_MODEL_55165924eb7f444897a5d09dc793feda",
        "IPY_MODEL_67cd06f6b0b94d5f802f5d9390d9df31",
        "IPY_MODEL_e05d8698614f44e4be752b84c2cf044f",
        "IPY_MODEL_8bd20eda10d047e9b028a1b91ca63949",
        "IPY_MODEL_83d62af86420477aa9e03683690992fa",
        "IPY_MODEL_576003ca3ad443ebaadd13f4ccc4435e",
        "IPY_MODEL_b4091dd7924e41f5a9ad28aac52dc7ba",
        "IPY_MODEL_4cf02ee63e8d4f1194850ca69ced4f86",
        "IPY_MODEL_e3e3ac2930bd41aeb53bc9b593566d00",
        "IPY_MODEL_87fb64fb80614109a86e86c361472a86",
        "IPY_MODEL_0cd5fbec298c4c4488c83adbdc260c09",
        "IPY_MODEL_25fa68fcc4ec4698a103113c760189e1",
        "IPY_MODEL_6abd6d1e6d874f5ba308d8cb270e93a1"
       ],
       "layout": "IPY_MODEL_42a6db763d3f4183bde09e127a71a9e3"
      }
     },
     "b6193373ba184180bddb208c56270b5a": {
      "model_module": "@jupyter-widgets/base",
      "model_module_version": "1.0.0",
      "model_name": "LayoutModel",
      "state": {}
     },
     "b63fcb05e17642aab82f0315f957d681": {
      "model_module": "@jupyter-widgets/base",
      "model_module_version": "1.0.0",
      "model_name": "LayoutModel",
      "state": {}
     },
     "b641d6c0cd8240f79a7de7768b7a5395": {
      "model_module": "@jupyter-widgets/base",
      "model_module_version": "1.0.0",
      "model_name": "LayoutModel",
      "state": {}
     },
     "b6494a4a0cf346b986fc8dee4f9f848b": {
      "model_module": "@jupyter-widgets/controls",
      "model_module_version": "1.0.0",
      "model_name": "SliderStyleModel",
      "state": {
       "description_width": ""
      }
     },
     "b64fc0de7e5c4dfa917e140dad49b5c4": {
      "model_module": "@jupyter-widgets/controls",
      "model_module_version": "1.0.0",
      "model_name": "IntSliderModel",
      "state": {
       "description": "red",
       "layout": "IPY_MODEL_0eb03ac1fd3f4bbaac2f11c2fdc71877",
       "max": 255,
       "style": "IPY_MODEL_f135fbd1950e43588fb802f3b98e7e85",
       "value": 255
      }
     },
     "b650597f9fba4815b7269579254f8321": {
      "model_module": "@jupyter-widgets/base",
      "model_module_version": "1.0.0",
      "model_name": "LayoutModel",
      "state": {}
     },
     "b67e2b31d2c4419ca6d200ced4f2225b": {
      "model_module": "@jupyter-widgets/base",
      "model_module_version": "1.0.0",
      "model_name": "LayoutModel",
      "state": {}
     },
     "b6a3801eee114df18810b2d8feefb7fe": {
      "model_module": "@jupyter-widgets/base",
      "model_module_version": "1.0.0",
      "model_name": "LayoutModel",
      "state": {}
     },
     "b6b4e97bd2674a5b9cde6baff3be9860": {
      "model_module": "jp_proxy_widget",
      "model_module_version": "^0.3.4",
      "model_name": "JSProxyModel",
      "state": {
       "_model_module_version": "^0.3.4",
       "_send_counter": 8,
       "_view_module_version": "^0.3.4",
       "error_msg": "No error",
       "layout": "IPY_MODEL_81ae28313ef74278b85120349bf9a46c",
       "rendered": true,
       "status": "Got results."
      }
     },
     "b6bcc32cc9914f6ea4b313a71571ee36": {
      "model_module": "@jupyter-widgets/base",
      "model_module_version": "1.0.0",
      "model_name": "LayoutModel",
      "state": {}
     },
     "b6bd1cfa23e648f39c4e76cff524b225": {
      "model_module": "@jupyter-widgets/controls",
      "model_module_version": "1.0.0",
      "model_name": "TabModel",
      "state": {
       "_titles": {
        "0": "Canvas",
        "1": "Snapshot"
       },
       "children": [
        "IPY_MODEL_fbec0491c079437da1d0353af56861a7",
        "IPY_MODEL_120d49b4e746400da20e028973a20fe7"
       ],
       "layout": "IPY_MODEL_3a0ec3f676e5402ebe4376a3f6d6b7eb"
      }
     },
     "b6cd2dd3ca7b4a82acad007b6b3f594f": {
      "model_module": "@jupyter-widgets/controls",
      "model_module_version": "1.0.0",
      "model_name": "IntSliderModel",
      "state": {
       "description": "y",
       "layout": "IPY_MODEL_25f711c919fc42c5acf1251267909e68",
       "min": -100,
       "style": "IPY_MODEL_0bbd75a7181a4e08b0e29a79e02219bc",
       "value": 70
      }
     },
     "b6edfe36ded441ba98d5357a6f72e8f1": {
      "model_module": "jp_proxy_widget",
      "model_module_version": "^0.3.4",
      "model_name": "JSProxyModel",
      "state": {
       "_model_module_version": "^0.3.4",
       "_send_counter": 11,
       "_view_module_version": "^0.3.4",
       "error_msg": "No error",
       "layout": "IPY_MODEL_670003f8aa1449c0b6448f2ff3c95b4e",
       "rendered": true,
       "status": "Got results."
      }
     },
     "b6f3babd8e7b46b8a61e1ed795442e58": {
      "model_module": "@jupyter-widgets/controls",
      "model_module_version": "1.0.0",
      "model_name": "IntSliderModel",
      "state": {
       "description": "degrees",
       "layout": "IPY_MODEL_a0bc2562b24248b0b7152d6bc64c5b77",
       "max": 360,
       "min": -360,
       "style": "IPY_MODEL_0a61c15754a14c7398ac7bc43cf63d67"
      }
     },
     "b72756d775504881bba2ea14be12d291": {
      "model_module": "@jupyter-widgets/base",
      "model_module_version": "1.0.0",
      "model_name": "LayoutModel",
      "state": {}
     },
     "b74cbdb21afe4ce18406e6efd7d2a366": {
      "model_module": "@jupyter-widgets/controls",
      "model_module_version": "1.0.0",
      "model_name": "IntSliderModel",
      "state": {
       "description": "degrees",
       "layout": "IPY_MODEL_6ba1d7d04b0c4c40b5752000ecb1f4ca",
       "max": 360,
       "min": -360,
       "style": "IPY_MODEL_b9383be3406a4a16866caf5c348ab300",
       "value": -283
      }
     },
     "b7584fd4c3714f09bade3b9c6372300c": {
      "model_module": "@jupyter-widgets/controls",
      "model_module_version": "1.0.0",
      "model_name": "IntSliderModel",
      "state": {
       "description": "x",
       "layout": "IPY_MODEL_15a3d905c59e4ef4820ba36f5f000512",
       "min": -100,
       "style": "IPY_MODEL_0d81f56be12742fe9af4c0a1c5e224c6"
      }
     },
     "b77facf65ffe48769f5f878ee774afd8": {
      "model_module": "@jupyter-widgets/controls",
      "model_module_version": "1.0.0",
      "model_name": "SliderStyleModel",
      "state": {
       "description_width": ""
      }
     },
     "b7838dd715044888aeaec9fdc76f3e39": {
      "model_module": "@jupyter-widgets/controls",
      "model_module_version": "1.0.0",
      "model_name": "IntSliderModel",
      "state": {
       "description": "x",
       "layout": "IPY_MODEL_ee63ff1c0d7444e0886dcb3343d895da",
       "min": -100,
       "style": "IPY_MODEL_3a30ab3b24034ce8a9d71c7d8a258822"
      }
     },
     "b7861027dc4b41a8be0fb038f6a0b24a": {
      "model_module": "@jupyter-widgets/controls",
      "model_module_version": "1.0.0",
      "model_name": "DescriptionStyleModel",
      "state": {
       "description_width": ""
      }
     },
     "b7c59a5bc66d4f3c81461a2f55b4d850": {
      "model_module": "@jupyter-widgets/base",
      "model_module_version": "1.0.0",
      "model_name": "LayoutModel",
      "state": {}
     },
     "b7e9133114f2434daff3c4a4ee5eaf17": {
      "model_module": "@jupyter-widgets/controls",
      "model_module_version": "1.0.0",
      "model_name": "SliderStyleModel",
      "state": {
       "description_width": ""
      }
     },
     "b7f3da87efa74cce87bb768bdc9fb870": {
      "model_module": "@jupyter-widgets/base",
      "model_module_version": "1.0.0",
      "model_name": "LayoutModel",
      "state": {}
     },
     "b7f3dc6cdaa142789f6135a9280eff5d": {
      "model_module": "@jupyter-widgets/controls",
      "model_module_version": "1.0.0",
      "model_name": "CheckboxModel",
      "state": {
       "description": "fill",
       "disabled": false,
       "layout": "IPY_MODEL_b5363c159f8940a081542eef2de15a55",
       "style": "IPY_MODEL_74957b9d872f41b4b7443bf11f88fec4",
       "value": true
      }
     },
     "b7f44bb0e4fb484aa4abf3ef0fb8a433": {
      "model_module": "@jupyter-widgets/base",
      "model_module_version": "1.0.0",
      "model_name": "LayoutModel",
      "state": {}
     },
     "b7f66a9c893b47e8a70781a4a8064154": {
      "model_module": "@jupyter-widgets/base",
      "model_module_version": "1.0.0",
      "model_name": "LayoutModel",
      "state": {}
     },
     "b817b6fecc4d432585969e2335f72d05": {
      "model_module": "@jupyter-widgets/controls",
      "model_module_version": "1.0.0",
      "model_name": "HTMLModel",
      "state": {
       "layout": "IPY_MODEL_ddf5f8cc685549199944f2af4ae5e7ef",
       "style": "IPY_MODEL_eef954dc1c954f29bc3df82a2aff1d01",
       "value": "<img src=\"interactive_circle.png\" id=\"snapshot_id_9_1536246393542\"/>\n <div id=\"snapshot_id_10_1536246393542\">interactive_circle.png</div>"
      }
     },
     "b8446bd298cc49d3b2ababf8d428746e": {
      "model_module": "@jupyter-widgets/controls",
      "model_module_version": "1.0.0",
      "model_name": "IntSliderModel",
      "state": {
       "description": "y",
       "layout": "IPY_MODEL_d1ce676ee4624e63a0e23d9f9122d02a",
       "min": -100,
       "style": "IPY_MODEL_ef34459fa7bb48b298798295875c131d"
      }
     },
     "b8513281be7b4874a7fe031d4726bc24": {
      "model_module": "@jupyter-widgets/controls",
      "model_module_version": "1.0.0",
      "model_name": "VBoxModel",
      "state": {
       "_dom_classes": [
        "widget-interact"
       ],
       "children": [
        "IPY_MODEL_e8e893d6db3346799b23c9250fdce389",
        "IPY_MODEL_f5c8e888d78b471d9700c37c34deca12",
        "IPY_MODEL_43194c117c34491083a4e0ae4cc3830d",
        "IPY_MODEL_f513303ea9c941c888c941a7a1cbb802",
        "IPY_MODEL_27bfc583335d4bcbbe9be4cb124123e7",
        "IPY_MODEL_4f2ffd7b17e549be9b31a12f0b3e86e2",
        "IPY_MODEL_c71f0629393148be849668c51357c18e",
        "IPY_MODEL_17aaad3f18cc4362afeec3bd265aa715",
        "IPY_MODEL_31ef5bc0e1834995a7e80726ae1f2c19",
        "IPY_MODEL_327961bb7e5e4f5faf14ff8de56d6867",
        "IPY_MODEL_e0b80e37615d4caf9802ab5782cea119",
        "IPY_MODEL_bc71b315b3ca40279384a08efb9c0a60"
       ],
       "layout": "IPY_MODEL_97e57c34a4a1426dad4edfa8c7991f90"
      }
     },
     "b8612176863e4ec1b69b947a2f53cb0d": {
      "model_module": "@jupyter-widgets/controls",
      "model_module_version": "1.0.0",
      "model_name": "VBoxModel",
      "state": {
       "_dom_classes": [
        "widget-interact"
       ],
       "children": [
        "IPY_MODEL_e29f8324b7044ca1907df2bd788dcd67",
        "IPY_MODEL_02a35eac757842de97421a2c54c4cc2c",
        "IPY_MODEL_9521663f05a444dd957044146cfedf0b",
        "IPY_MODEL_2694e78c304542fca142a320c7dadf47",
        "IPY_MODEL_3007b4fa3064435a8709f25a65c99910",
        "IPY_MODEL_da97d6afd91f4be6a8f3289007f9ab2c",
        "IPY_MODEL_cca99d45f1df480482836b859f1932ea",
        "IPY_MODEL_42232af9790941aa9b6adb14485aabb2",
        "IPY_MODEL_5172de26bcab419f9741a15f4d02222f",
        "IPY_MODEL_8aa7936dd2804ff8935610c5eedafee2",
        "IPY_MODEL_650664319c6c436a90ff82f9cc7e44fc",
        "IPY_MODEL_eb70a80f4df048d6aff6db5dabf49277",
        "IPY_MODEL_ca35a826868b4e3897a5cc1d901a2fbe"
       ],
       "layout": "IPY_MODEL_424900edfd704b968e95b22656951fd3"
      }
     },
     "b8631914d4744931b7b8a022e3bfd075": {
      "model_module": "@jupyter-widgets/controls",
      "model_module_version": "1.0.0",
      "model_name": "IntSliderModel",
      "state": {
       "description": "blue",
       "layout": "IPY_MODEL_f7c7c2ac98c340aba364ee302d3034df",
       "max": 255,
       "style": "IPY_MODEL_b9fbb40240c0435488a574c7d301b304",
       "value": 255
      }
     },
     "b8677abfe8d64da595f54f8f4c0ece29": {
      "model_module": "@jupyter-widgets/controls",
      "model_module_version": "1.0.0",
      "model_name": "SliderStyleModel",
      "state": {
       "description_width": ""
      }
     },
     "b87bcb6e4f894fbb8c32dd5b6b1e7b30": {
      "model_module": "@jupyter-widgets/controls",
      "model_module_version": "1.0.0",
      "model_name": "VBoxModel",
      "state": {
       "children": [
        "IPY_MODEL_94f5ead4d89c4810a9ce06b392d0dac9",
        "IPY_MODEL_e21d1b2c97cf40a3a97da224a6fc6084"
       ],
       "layout": "IPY_MODEL_5cc75a57db0a4c9288e887c6bb1ee24a"
      }
     },
     "b8b25a3982614225b64f2d8272a311cb": {
      "model_module": "@jupyter-widgets/base",
      "model_module_version": "1.0.0",
      "model_name": "LayoutModel",
      "state": {}
     },
     "b8d7427f1ac0478fa5f9fdc6ae7cc8f3": {
      "model_module": "@jupyter-widgets/base",
      "model_module_version": "1.0.0",
      "model_name": "LayoutModel",
      "state": {}
     },
     "b8e66a149abb47b6aa364842a8786bb1": {
      "model_module": "@jupyter-widgets/base",
      "model_module_version": "1.0.0",
      "model_name": "LayoutModel",
      "state": {}
     },
     "b8ec113e1d494e2084c59b3375635b5e": {
      "model_module": "@jupyter-widgets/base",
      "model_module_version": "1.0.0",
      "model_name": "LayoutModel",
      "state": {}
     },
     "b8ee8156f0a74a1a8b842ccfae245780": {
      "model_module": "@jupyter-widgets/base",
      "model_module_version": "1.0.0",
      "model_name": "LayoutModel",
      "state": {}
     },
     "b907ef09c8714810a75f1a84b4fedd54": {
      "model_module": "@jupyter-widgets/base",
      "model_module_version": "1.0.0",
      "model_name": "LayoutModel",
      "state": {}
     },
     "b90c9b37f55a42b992e229035b04d963": {
      "model_module": "@jupyter-widgets/output",
      "model_module_version": "1.0.0",
      "model_name": "OutputModel",
      "state": {
       "layout": "IPY_MODEL_5ebe0764df31438b9fbd275a98af4562"
      }
     },
     "b91ef243e3be43ecb2f67c2b53ff570e": {
      "model_module": "@jupyter-widgets/controls",
      "model_module_version": "1.0.0",
      "model_name": "DescriptionStyleModel",
      "state": {
       "description_width": ""
      }
     },
     "b92582db2097402d89bb9ea202df484e": {
      "model_module": "@jupyter-widgets/controls",
      "model_module_version": "1.0.0",
      "model_name": "VBoxModel",
      "state": {
       "_dom_classes": [
        "widget-interact"
       ],
       "children": [
        "IPY_MODEL_5a8d6f46a8084d5e92434335feabb89c",
        "IPY_MODEL_675d31bd190f44cfaec15670abe28f69",
        "IPY_MODEL_3183ced7344449de8db67aaa128c8228",
        "IPY_MODEL_735c58b34315471e962534256a552196",
        "IPY_MODEL_9f0168c2896342f59cc9d5c230718d78",
        "IPY_MODEL_6be51e8baa3d4e25bfc3f484503e6b55",
        "IPY_MODEL_374eab8fee6243d3ae3b8f150c390a3e",
        "IPY_MODEL_d4d3a91362c8496e8f5e556addf2f7b5"
       ],
       "layout": "IPY_MODEL_28d89deba6ff402f8c7778dfc7a0650c"
      }
     },
     "b9261795a9b84967ad0a365bd7e15f50": {
      "model_module": "@jupyter-widgets/base",
      "model_module_version": "1.0.0",
      "model_name": "LayoutModel",
      "state": {}
     },
     "b9383be3406a4a16866caf5c348ab300": {
      "model_module": "@jupyter-widgets/controls",
      "model_module_version": "1.0.0",
      "model_name": "SliderStyleModel",
      "state": {
       "description_width": ""
      }
     },
     "b94c8b1e0bab4563861abfe52acdc6c7": {
      "model_module": "@jupyter-widgets/controls",
      "model_module_version": "1.0.0",
      "model_name": "DescriptionStyleModel",
      "state": {
       "description_width": ""
      }
     },
     "b96dbcfcc28c48c1a55a5b681136e1db": {
      "model_module": "@jupyter-widgets/controls",
      "model_module_version": "1.0.0",
      "model_name": "IntSliderModel",
      "state": {
       "description": "sWidth",
       "layout": "IPY_MODEL_7e54f15186c749fcb7f7c074159e5384",
       "max": 420,
       "min": -140,
       "style": "IPY_MODEL_54c8d986fcbd479382cd6c7681141c7c",
       "value": 140
      }
     },
     "b9c4487767184455aa98e57da81048a3": {
      "model_module": "@jupyter-widgets/output",
      "model_module_version": "1.0.0",
      "model_name": "OutputModel",
      "state": {
       "layout": "IPY_MODEL_fc3b94290d26444d8078c309bdf6a796"
      }
     },
     "b9e25213cb4f4c57bf78ded3c1a28714": {
      "model_module": "@jupyter-widgets/base",
      "model_module_version": "1.0.0",
      "model_name": "LayoutModel",
      "state": {}
     },
     "b9fbb40240c0435488a574c7d301b304": {
      "model_module": "@jupyter-widgets/controls",
      "model_module_version": "1.0.0",
      "model_name": "SliderStyleModel",
      "state": {
       "description_width": ""
      }
     },
     "ba45b99b941e49149faa3102ac0c6bcb": {
      "model_module": "@jupyter-widgets/controls",
      "model_module_version": "1.0.0",
      "model_name": "CheckboxModel",
      "state": {
       "description": "fill",
       "disabled": false,
       "layout": "IPY_MODEL_b6bcc32cc9914f6ea4b313a71571ee36",
       "style": "IPY_MODEL_d0ca7f495cfa4489923a3e0bdf804d9a",
       "value": false
      }
     },
     "ba47a2ab07c441bfa3ae18049cc3afea": {
      "model_module": "@jupyter-widgets/controls",
      "model_module_version": "1.0.0",
      "model_name": "VBoxModel",
      "state": {
       "children": [
        "IPY_MODEL_28981a0ecc854b09892cce7b4e2dfda5",
        "IPY_MODEL_193dda8540214daab20ebb6e00db1e69"
       ],
       "layout": "IPY_MODEL_3995bb2a564841d88c4c7a8782168d42"
      }
     },
     "ba51bfa81d684da4b93dd347db03872f": {
      "model_module": "@jupyter-widgets/controls",
      "model_module_version": "1.0.0",
      "model_name": "IntSliderModel",
      "state": {
       "description": "dy",
       "layout": "IPY_MODEL_290d5891803043118d55ba1033bc388c",
       "min": -100,
       "style": "IPY_MODEL_0a290f2ee54a4b0b91e1a19caf776beb"
      }
     },
     "ba712410e6124d549f253b83a2386265": {
      "model_module": "@jupyter-widgets/base",
      "model_module_version": "1.0.0",
      "model_name": "LayoutModel",
      "state": {}
     },
     "ba923784be6945e581e17069df1601df": {
      "model_module": "@jupyter-widgets/base",
      "model_module_version": "1.0.0",
      "model_name": "LayoutModel",
      "state": {}
     },
     "bac004f7fed24647884d39691d7feb60": {
      "model_module": "@jupyter-widgets/controls",
      "model_module_version": "1.0.0",
      "model_name": "TabModel",
      "state": {
       "_titles": {
        "0": "Canvas",
        "1": "Snapshot"
       },
       "children": [
        "IPY_MODEL_c8677ad9bb5045578eabe21e216e0dc8",
        "IPY_MODEL_96a030ea80a2439da61ac5dc35066bab"
       ],
       "layout": "IPY_MODEL_f0d4395ddc634aea8e036c718af9e029"
      }
     },
     "bae5394ab64e4bb1b99de7491ac84b6b": {
      "model_module": "@jupyter-widgets/controls",
      "model_module_version": "1.0.0",
      "model_name": "IntSliderModel",
      "state": {
       "description": "blue",
       "layout": "IPY_MODEL_33b4f493f865465e847041d95a0ae6ae",
       "max": 255,
       "style": "IPY_MODEL_0cb87f1e88684fcc8ceb6ea892cfec1b",
       "value": 255
      }
     },
     "bb054894ab9a4d04820314239d49fe4d": {
      "model_module": "@jupyter-widgets/controls",
      "model_module_version": "1.0.0",
      "model_name": "IntSliderModel",
      "state": {
       "description": "dy",
       "layout": "IPY_MODEL_77704684c82943c7902b7a09cf676d6b",
       "max": 300,
       "min": -300,
       "style": "IPY_MODEL_46702300a493408db99e36843e84477e",
       "value": -44
      }
     },
     "bb240a5d30264b119e5837e4330708e5": {
      "model_module": "@jupyter-widgets/controls",
      "model_module_version": "1.0.0",
      "model_name": "SliderStyleModel",
      "state": {
       "description_width": ""
      }
     },
     "bb6b6aa353cd490b86ce9ff22960c95e": {
      "model_module": "jp_proxy_widget",
      "model_module_version": "^0.3.4",
      "model_name": "JSProxyModel",
      "state": {
       "_model_module_version": "^0.3.4",
       "_send_counter": 8,
       "_view_module_version": "^0.3.4",
       "error_msg": "Error: Error in element.New SyntaxError: missing ) after argument list",
       "layout": "IPY_MODEL_773cb762157b4048ab31df3dc28afe53",
       "rendered": true,
       "status": "Rendered."
      }
     },
     "bb806e7ec94f45a2b8cea6e2ae2255b9": {
      "model_module": "@jupyter-widgets/controls",
      "model_module_version": "1.0.0",
      "model_name": "IntSliderModel",
      "state": {
       "description": "blue",
       "layout": "IPY_MODEL_2400671700b64c99a2b65e1898f8c0a5",
       "max": 255,
       "style": "IPY_MODEL_bdc72911a863438d8a01fd585a94d015",
       "value": 120
      }
     },
     "bb92eb26da034c888ca5a8298c238284": {
      "model_module": "@jupyter-widgets/base",
      "model_module_version": "1.0.0",
      "model_name": "LayoutModel",
      "state": {}
     },
     "bba4884728144eda89defa3c7c0c17bd": {
      "model_module": "@jupyter-widgets/controls",
      "model_module_version": "1.0.0",
      "model_name": "SliderStyleModel",
      "state": {
       "description_width": ""
      }
     },
     "bbabe3affcb24c28a5026429796db7fa": {
      "model_module": "@jupyter-widgets/controls",
      "model_module_version": "1.0.0",
      "model_name": "VBoxModel",
      "state": {
       "_dom_classes": [
        "widget-interact"
       ],
       "children": [
        "IPY_MODEL_0f0b3e7c4792423d9ee9aa5f00f82f9e",
        "IPY_MODEL_67145fa1e2f84885a2f0369c931d1147",
        "IPY_MODEL_a9ad4a23aec54b7e85e22a7ddde4cf9f",
        "IPY_MODEL_5b3fd46a23b04c3b8784d83d2ef292ac",
        "IPY_MODEL_144badcb5fbd449981ed86172490c0c4",
        "IPY_MODEL_809cd9430f9a43eca3ea6dc5ea5af127",
        "IPY_MODEL_dd7c4e5fce814bd5bda5b8bc4fbf4dbf",
        "IPY_MODEL_bae5394ab64e4bb1b99de7491ac84b6b",
        "IPY_MODEL_db20cd32cc654c3e8bb2cf4e0dac38a9",
        "IPY_MODEL_39a09fa8d131455ca09c8ef8bcac6eea"
       ],
       "layout": "IPY_MODEL_a5ec7480cf1347b9add55821bfd5d126"
      }
     },
     "bbdeec5825ba48628f614d7a1a79051b": {
      "model_module": "@jupyter-widgets/controls",
      "model_module_version": "1.0.0",
      "model_name": "HTMLModel",
      "state": {
       "layout": "IPY_MODEL_ddfd2a1ae1b84f9fbaa5c208d6d9105f",
       "style": "IPY_MODEL_93d2ed7e4eba4646aed9a425aaec7fec",
       "value": "<img src=\"interactive_image.png\" id=\"snapshot_id_25_1536960154127\"/>\n <div id=\"snapshot_id_26_1536960154127\">interactive_image.png</div>"
      }
     },
     "bbeaa4e6eb2b41378e1f7151ed2fe41f": {
      "model_module": "@jupyter-widgets/controls",
      "model_module_version": "1.0.0",
      "model_name": "SliderStyleModel",
      "state": {
       "description_width": ""
      }
     },
     "bbf321ce86664ec59acf63082465eb7d": {
      "model_module": "@jupyter-widgets/controls",
      "model_module_version": "1.0.0",
      "model_name": "TabModel",
      "state": {
       "_titles": {
        "0": "Canvas",
        "1": "Snapshot"
       },
       "children": [
        "IPY_MODEL_e00ddbdbb1214e8caee6a962aa8657f6",
        "IPY_MODEL_624148a33dc441bf98147da31d887c9c"
       ],
       "layout": "IPY_MODEL_0e615e5c637d466ba260c1deef5e2672"
      }
     },
     "bc09207b7be74ad0ada6e3381feeaccf": {
      "model_module": "@jupyter-widgets/controls",
      "model_module_version": "1.0.0",
      "model_name": "IntSliderModel",
      "state": {
       "description": "dx",
       "layout": "IPY_MODEL_557fd89152c54643bf4d0ac1f46a0efa",
       "min": -100,
       "style": "IPY_MODEL_c5f2b1d0c3384121b812a63fe282b364",
       "value": -8
      }
     },
     "bc0c9962453741fa87bd0b13b4442d84": {
      "model_module": "@jupyter-widgets/controls",
      "model_module_version": "1.0.0",
      "model_name": "HTMLModel",
      "state": {
       "layout": "IPY_MODEL_e9c6182c9a2d4eae8cec7ca083c13915",
       "style": "IPY_MODEL_c5f7efd85a71477fa5401c8a76739ec0",
       "value": "<img src=\"interactive_circle.png\" id=\"snapshot_id_5_1536249985348\"/>\n <div id=\"snapshot_id_6_1536249985348\">interactive_circle.png</div>"
      }
     },
     "bc45813443e745539ea6c80e797ea3ba": {
      "model_module": "@jupyter-widgets/base",
      "model_module_version": "1.0.0",
      "model_name": "LayoutModel",
      "state": {}
     },
     "bc4a9abaf51a47fab5340a5b1c7be71f": {
      "model_module": "@jupyter-widgets/base",
      "model_module_version": "1.0.0",
      "model_name": "LayoutModel",
      "state": {}
     },
     "bc61d9ca824d473e8003127feb6d01c6": {
      "model_module": "@jupyter-widgets/controls",
      "model_module_version": "1.0.0",
      "model_name": "VBoxModel",
      "state": {
       "_dom_classes": [
        "widget-interact"
       ],
       "children": [
        "IPY_MODEL_8f9a9ce8f3444e7dbda08420666a3c6e",
        "IPY_MODEL_8ef5c0c9aba54a1bbaf647375d8a2bb3",
        "IPY_MODEL_a459c0c1b6324f89b0a2205eaedb36f0",
        "IPY_MODEL_107743a1024c4ae69ca4478704750b3c",
        "IPY_MODEL_550a034c89084e2593a03bb7774b5712",
        "IPY_MODEL_230c1a08081649faafad0c93be77558e",
        "IPY_MODEL_8e86f92bb44b42368e67ffe2c646f03a",
        "IPY_MODEL_6341e21bd4ea49e995e940ddc25a023f"
       ],
       "layout": "IPY_MODEL_047d684297904b99b17ea456ba668582"
      }
     },
     "bc71b315b3ca40279384a08efb9c0a60": {
      "model_module": "@jupyter-widgets/output",
      "model_module_version": "1.0.0",
      "model_name": "OutputModel",
      "state": {
       "layout": "IPY_MODEL_f785890f3a1440fd87de7c592bdd9d37"
      }
     },
     "bc8c2db07a7546f18a3e41352877b5e0": {
      "model_module": "@jupyter-widgets/controls",
      "model_module_version": "1.0.0",
      "model_name": "HTMLModel",
      "state": {
       "layout": "IPY_MODEL_0c1b85fa2d7744d9b92b6ce8964dbaeb",
       "style": "IPY_MODEL_d9bbec76e58244b0b3d1de3df4573b5c",
       "value": "<img src=\"interactive_circle.png\" id=\"snapshot_id_27_1536247408837\"/>\n <div id=\"snapshot_id_28_1536247408837\">interactive_circle.png</div>"
      }
     },
     "bc9199ac33e64f7bbe9c6e9112ed9eed": {
      "model_module": "@jupyter-widgets/base",
      "model_module_version": "1.0.0",
      "model_name": "LayoutModel",
      "state": {}
     },
     "bcb8b056462640f3b7ff0f6b5bec2541": {
      "model_module": "@jupyter-widgets/base",
      "model_module_version": "1.0.0",
      "model_name": "LayoutModel",
      "state": {}
     },
     "bccf8a24fbb2429ea1fa463826f0d2a2": {
      "model_module": "@jupyter-widgets/base",
      "model_module_version": "1.0.0",
      "model_name": "LayoutModel",
      "state": {}
     },
     "bd03f2dc0e314aee9395e440a86b480c": {
      "model_module": "@jupyter-widgets/output",
      "model_module_version": "1.0.0",
      "model_name": "OutputModel",
      "state": {
       "layout": "IPY_MODEL_48fcb461f33e459bbc3d3f23a651adea"
      }
     },
     "bd2d7bf4d24242fbb153647fd57ea5c8": {
      "model_module": "@jupyter-widgets/controls",
      "model_module_version": "1.0.0",
      "model_name": "IntSliderModel",
      "state": {
       "description": "h",
       "layout": "IPY_MODEL_2a15a51837da428e984690eae2dd5b8f",
       "max": 300,
       "min": -300,
       "style": "IPY_MODEL_81604282f48f43938724c3bbf7948a71",
       "value": 50
      }
     },
     "bd3e3066ddeb413cab550f73cb41af03": {
      "model_module": "@jupyter-widgets/controls",
      "model_module_version": "1.0.0",
      "model_name": "VBoxModel",
      "state": {
       "_dom_classes": [
        "widget-interact"
       ],
       "children": [
        "IPY_MODEL_89aff094b3e04310b0239eb75f2514a8",
        "IPY_MODEL_da8e78505c804e40a83cb4917f49f0fe",
        "IPY_MODEL_289a0153c9a14816a57ad94f5c55828e",
        "IPY_MODEL_fc466280281b46d1b6aad61a3266a9e4",
        "IPY_MODEL_5a099e350c7a4ce5b1acf3961d49a60c",
        "IPY_MODEL_b4026cb6c8434654baf09dffe7377139",
        "IPY_MODEL_b3789c225f4a4ff683e2cfe5b7c3d354",
        "IPY_MODEL_9544f814436a4e1bb03a9d5deb788c5c",
        "IPY_MODEL_97c7c41c7ac741d488bd9d55e0c23671",
        "IPY_MODEL_df5db89374544bec9858fa5e6039bdcd",
        "IPY_MODEL_8ebe17764271456188b7be636fb3713d",
        "IPY_MODEL_173b705d6da346a1b794de681834d292"
       ],
       "layout": "IPY_MODEL_5ca3f726dcba4713a8f372a5c8bce38d"
      }
     },
     "bd42569f3e1a4190b29d2cf03881a6b6": {
      "model_module": "@jupyter-widgets/base",
      "model_module_version": "1.0.0",
      "model_name": "LayoutModel",
      "state": {}
     },
     "bd66f6abb92e402581f1f26acfbe2de5": {
      "model_module": "@jupyter-widgets/base",
      "model_module_version": "1.0.0",
      "model_name": "LayoutModel",
      "state": {}
     },
     "bd8885ee5ba040a18d194a8f4e2c374a": {
      "model_module": "@jupyter-widgets/controls",
      "model_module_version": "1.0.0",
      "model_name": "SliderStyleModel",
      "state": {
       "description_width": ""
      }
     },
     "bdb67a6303b34171b01ae54e012c11f0": {
      "model_module": "@jupyter-widgets/base",
      "model_module_version": "1.0.0",
      "model_name": "LayoutModel",
      "state": {}
     },
     "bdb7aa20bc444802b7c22332c41550dd": {
      "model_module": "@jupyter-widgets/controls",
      "model_module_version": "1.0.0",
      "model_name": "SliderStyleModel",
      "state": {
       "description_width": ""
      }
     },
     "bdc22207417e4919bf457087e84d4cec": {
      "model_module": "@jupyter-widgets/controls",
      "model_module_version": "1.0.0",
      "model_name": "VBoxModel",
      "state": {
       "children": [
        "IPY_MODEL_e1991ecc4f304602bf07ac4f53ffba18",
        "IPY_MODEL_8d2d9c626d6c4fffa1adf9b477de4624"
       ],
       "layout": "IPY_MODEL_38b6a4a2c6c346a19ffd9662d6915086"
      }
     },
     "bdc72911a863438d8a01fd585a94d015": {
      "model_module": "@jupyter-widgets/controls",
      "model_module_version": "1.0.0",
      "model_name": "SliderStyleModel",
      "state": {
       "description_width": ""
      }
     },
     "bdcb8c8ea08b4c05a3b3d068bbb3f7c5": {
      "model_module": "@jupyter-widgets/controls",
      "model_module_version": "1.0.0",
      "model_name": "SliderStyleModel",
      "state": {
       "description_width": ""
      }
     },
     "bde474d5f5be412282fc989249510a3b": {
      "model_module": "jp_proxy_widget",
      "model_module_version": "^0.3.4",
      "model_name": "JSProxyModel",
      "state": {
       "_model_module_version": "^0.3.4",
       "_send_counter": 567,
       "_view_module_version": "^0.3.4",
       "error_msg": "No error",
       "layout": "IPY_MODEL_30f95ad4f26443cfa8a317965531e3fa",
       "rendered": true,
       "status": "Got results."
      }
     },
     "be0d23da9e884dafa721bb34190c775c": {
      "model_module": "@jupyter-widgets/controls",
      "model_module_version": "1.0.0",
      "model_name": "IntSliderModel",
      "state": {
       "description": "h",
       "layout": "IPY_MODEL_a535c647d0ec4c1096304df3d7fac4a4",
       "max": 300,
       "min": -300,
       "style": "IPY_MODEL_32f007b21b6040e2b881709d790c9495",
       "value": 50
      }
     },
     "be227897841b4f1f808679d7a16b0b97": {
      "model_module": "@jupyter-widgets/controls",
      "model_module_version": "1.0.0",
      "model_name": "HTMLModel",
      "state": {
       "layout": "IPY_MODEL_f8b532b8784241b7a5adb735f8327b7d",
       "style": "IPY_MODEL_82cc904349994e94b91cdbbcf798069c",
       "value": "<img src=\"interactive_rectangle2.png\" id=\"snapshot_id_49_1536323927768\"/>\n <div id=\"snapshot_id_50_1536323927768\">interactive_rectangle2.png</div>"
      }
     },
     "be6661b6b12148e392e84996f81079a2": {
      "model_module": "@jupyter-widgets/base",
      "model_module_version": "1.0.0",
      "model_name": "LayoutModel",
      "state": {}
     },
     "be7fa198ec62415f8aa89fdb112aea29": {
      "model_module": "@jupyter-widgets/controls",
      "model_module_version": "1.0.0",
      "model_name": "SliderStyleModel",
      "state": {
       "description_width": ""
      }
     },
     "be96b43986c846fbaa913224495e2d4c": {
      "model_module": "@jupyter-widgets/base",
      "model_module_version": "1.0.0",
      "model_name": "LayoutModel",
      "state": {}
     },
     "beb11951bd4c44659cf613affcbae496": {
      "model_module": "@jupyter-widgets/base",
      "model_module_version": "1.0.0",
      "model_name": "LayoutModel",
      "state": {}
     },
     "bec0e839b04a4788bdc6486ca3b757a9": {
      "model_module": "@jupyter-widgets/controls",
      "model_module_version": "1.0.0",
      "model_name": "VBoxModel",
      "state": {
       "_dom_classes": [
        "widget-interact"
       ],
       "children": [
        "IPY_MODEL_f6b1a32713f842c3a29f9128bbbeacc7",
        "IPY_MODEL_47323002577446458c8e7840f3a5f413",
        "IPY_MODEL_9f5b742e2bb54c169f9f987a2e33ca8b",
        "IPY_MODEL_f256f9da34334b1ba97491c85fc0c8e8",
        "IPY_MODEL_c74f953c11ae417187e2cd038d430815",
        "IPY_MODEL_1b947ec1e23240b69feaf5923657623d",
        "IPY_MODEL_a690428d3c9243cd8953a2ee2f838221",
        "IPY_MODEL_f8939d170ea24aa49e517bfc1737ab31",
        "IPY_MODEL_966a6e9387e04e34b837ece3baad5a7f",
        "IPY_MODEL_fd0cab56d81e429e8cfb05189ed230e6",
        "IPY_MODEL_42ba9a277c5646e7b5a861482a296b25",
        "IPY_MODEL_53ca6aa02bf241bbbdad97a8fd1358ee",
        "IPY_MODEL_38d109f39d1b4bcdae6ca1e0580db0d2",
        "IPY_MODEL_fbceecffda414f9ea76655d23a557869"
       ],
       "layout": "IPY_MODEL_0345744ae72e468aa14869456bf5632d"
      }
     },
     "bec694eb56c24f349b1e2ddfb71455b0": {
      "model_module": "jp_proxy_widget",
      "model_module_version": "^0.3.4",
      "model_name": "JSProxyModel",
      "state": {
       "_model_module_version": "^0.3.4",
       "_send_counter": 334,
       "_view_module_version": "^0.3.4",
       "error_msg": "No error",
       "layout": "IPY_MODEL_a08fbe38edd64cffb4f8a8d0f37a960d",
       "rendered": true,
       "status": "Got results."
      }
     },
     "bec8764ed5cf4f8b842e269975882224": {
      "model_module": "@jupyter-widgets/controls",
      "model_module_version": "1.0.0",
      "model_name": "DescriptionStyleModel",
      "state": {
       "description_width": ""
      }
     },
     "bed8d8d90cca495c8eafbe6f09802fca": {
      "model_module": "@jupyter-widgets/controls",
      "model_module_version": "1.0.0",
      "model_name": "IntSliderModel",
      "state": {
       "description": "red",
       "layout": "IPY_MODEL_e8c13e9226ad42b29b1e7d7dbb9cf8d9",
       "max": 255,
       "style": "IPY_MODEL_d8be6d0468cb47c390dd854aa7d167ba",
       "value": 255
      }
     },
     "bf0e112c007b446d92ae8d00487a1830": {
      "model_module": "@jupyter-widgets/base",
      "model_module_version": "1.0.0",
      "model_name": "LayoutModel",
      "state": {}
     },
     "bf1545fd402e448da6b5372adb53285e": {
      "model_module": "@jupyter-widgets/base",
      "model_module_version": "1.0.0",
      "model_name": "LayoutModel",
      "state": {}
     },
     "bf3ac0a2376840cdbe5f87784addf0dc": {
      "model_module": "@jupyter-widgets/base",
      "model_module_version": "1.0.0",
      "model_name": "LayoutModel",
      "state": {}
     },
     "bf556472c98e402281ff21357794cc11": {
      "model_module": "@jupyter-widgets/controls",
      "model_module_version": "1.0.0",
      "model_name": "SliderStyleModel",
      "state": {
       "description_width": ""
      }
     },
     "bf61708c3c25461fa129665eb9f0b3ef": {
      "model_module": "@jupyter-widgets/controls",
      "model_module_version": "1.0.0",
      "model_name": "SliderStyleModel",
      "state": {
       "description_width": ""
      }
     },
     "bf902873c1a34d75b30cf90e00e7075a": {
      "model_module": "@jupyter-widgets/controls",
      "model_module_version": "1.0.0",
      "model_name": "TabModel",
      "state": {
       "_titles": {
        "0": "Canvas",
        "1": "Snapshot"
       },
       "children": [
        "IPY_MODEL_b87bcb6e4f894fbb8c32dd5b6b1e7b30",
        "IPY_MODEL_db1db6179a454a59bbde59e397193f2e"
       ],
       "layout": "IPY_MODEL_51a810326ae54838a6065c3631ad5bd3"
      }
     },
     "bf923fc46a85490dbd3cc71a3408166c": {
      "model_module": "@jupyter-widgets/base",
      "model_module_version": "1.0.0",
      "model_name": "LayoutModel",
      "state": {}
     },
     "bfb470373db640ee9f814c2952770fc9": {
      "model_module": "@jupyter-widgets/base",
      "model_module_version": "1.0.0",
      "model_name": "LayoutModel",
      "state": {}
     },
     "bfb5878c09da49ec8ef0048db46f889f": {
      "model_module": "@jupyter-widgets/controls",
      "model_module_version": "1.0.0",
      "model_name": "VBoxModel",
      "state": {
       "_dom_classes": [
        "widget-interact"
       ],
       "children": [
        "IPY_MODEL_cbeb1d164b1244ea84f926ebd7f56331",
        "IPY_MODEL_0c5742a5584a443ca5cb066e4ec39e35",
        "IPY_MODEL_5b041f78229d452f978c6a226f89bb2c",
        "IPY_MODEL_f00dd01cd1834f3fa5c4eea1bdfb6bfe",
        "IPY_MODEL_d2cd4e61e556453281c5ec70e4900d17",
        "IPY_MODEL_6c66db1765cd453caea29960e7ceff8e",
        "IPY_MODEL_5219df53f7754cf7898e5c910facc49d",
        "IPY_MODEL_852a0e2337244d8eb395136ec6aa2fe6",
        "IPY_MODEL_1b236a9ebc484a3fa96ed4c9def7abd1",
        "IPY_MODEL_498065b088b64a16a84a6a13d6633ef1",
        "IPY_MODEL_d6bb29c9c3c34159afe9480d0f0d0063",
        "IPY_MODEL_67b3c86868704cf9b66b2fc15b3dae54"
       ],
       "layout": "IPY_MODEL_bcb8b056462640f3b7ff0f6b5bec2541"
      }
     },
     "bfb5d5e81d9548a9af70e63c05250087": {
      "model_module": "@jupyter-widgets/controls",
      "model_module_version": "1.0.0",
      "model_name": "IntSliderModel",
      "state": {
       "description": "x",
       "layout": "IPY_MODEL_f980b369b69346d690870d0e912bdc64",
       "min": -100,
       "style": "IPY_MODEL_b8677abfe8d64da595f54f8f4c0ece29",
       "value": 39
      }
     },
     "bfc08279813648a2962c7ef30285a018": {
      "model_module": "@jupyter-widgets/controls",
      "model_module_version": "1.0.0",
      "model_name": "SliderStyleModel",
      "state": {
       "description_width": ""
      }
     },
     "bfd3505eb30a46e69284cbe50566b772": {
      "model_module": "@jupyter-widgets/controls",
      "model_module_version": "1.0.0",
      "model_name": "TabModel",
      "state": {
       "_titles": {
        "0": "Canvas",
        "1": "Snapshot"
       },
       "children": [
        "IPY_MODEL_96f589a7ef6147209ade39e214aeb6e7",
        "IPY_MODEL_fc8d2275459b40cebe497f274631f612"
       ],
       "layout": "IPY_MODEL_03d5c1c6ceae4094aeedabd648e6750d",
       "selected_index": 1
      }
     },
     "bfe743d5521045c7a7801eb8537970a6": {
      "model_module": "@jupyter-widgets/controls",
      "model_module_version": "1.0.0",
      "model_name": "VBoxModel",
      "state": {
       "children": [
        "IPY_MODEL_a45d547d58e54087aa33954709b3e27f",
        "IPY_MODEL_f674a6acfe474528ae03d560df702077"
       ],
       "layout": "IPY_MODEL_8855f0d6bf664ebe9107ae431a1f578e"
      }
     },
     "bfe986d974c84706b6a41a8165cc18a5": {
      "model_module": "@jupyter-widgets/controls",
      "model_module_version": "1.0.0",
      "model_name": "CheckboxModel",
      "state": {
       "description": "fill",
       "disabled": false,
       "layout": "IPY_MODEL_86495dfee716480995bde7d3c1780017",
       "style": "IPY_MODEL_cb21c46c9e7242c5b718f9c05895172c",
       "value": false
      }
     },
     "c01861edb4c64525bc96a4f0b9758722": {
      "model_module": "@jupyter-widgets/controls",
      "model_module_version": "1.0.0",
      "model_name": "SliderStyleModel",
      "state": {
       "description_width": ""
      }
     },
     "c04582c3823e45b7ba5b049db3e068d1": {
      "model_module": "@jupyter-widgets/controls",
      "model_module_version": "1.0.0",
      "model_name": "FloatSliderModel",
      "state": {
       "description": "alpha",
       "layout": "IPY_MODEL_fa59932b4aa2426596538c48dfa0378a",
       "max": 1,
       "step": 0.1,
       "style": "IPY_MODEL_361bb3a43cfb415a83e926ef37a9ef5c",
       "value": 0.5
      }
     },
     "c0471b264a124c918cc1a8332addd713": {
      "model_module": "@jupyter-widgets/controls",
      "model_module_version": "1.0.0",
      "model_name": "SliderStyleModel",
      "state": {
       "description_width": ""
      }
     },
     "c051e60ad16e4262b6ba4ae9b9828076": {
      "model_module": "@jupyter-widgets/base",
      "model_module_version": "1.0.0",
      "model_name": "LayoutModel",
      "state": {}
     },
     "c080b133e43c4405baeb5af835bdf0b4": {
      "model_module": "@jupyter-widgets/base",
      "model_module_version": "1.0.0",
      "model_name": "LayoutModel",
      "state": {}
     },
     "c091669584ae45d4b306ef230bdf8754": {
      "model_module": "@jupyter-widgets/controls",
      "model_module_version": "1.0.0",
      "model_name": "SliderStyleModel",
      "state": {
       "description_width": ""
      }
     },
     "c0b4f1ed462749e98e18c28396a19d1a": {
      "model_module": "@jupyter-widgets/base",
      "model_module_version": "1.0.0",
      "model_name": "LayoutModel",
      "state": {}
     },
     "c0bf9646213642e3a7606a9101d27e3a": {
      "model_module": "@jupyter-widgets/controls",
      "model_module_version": "1.0.0",
      "model_name": "FloatSliderModel",
      "state": {
       "description": "alpha",
       "layout": "IPY_MODEL_7f52fbe106d34d4fb2c991b17afaa1ab",
       "max": 1,
       "step": 0.1,
       "style": "IPY_MODEL_8a194b035dd145eab1996ce79200dd63",
       "value": 1
      }
     },
     "c0cb3cd4ab494d718bc2675688df6894": {
      "model_module": "@jupyter-widgets/base",
      "model_module_version": "1.0.0",
      "model_name": "LayoutModel",
      "state": {}
     },
     "c0d4c7c92eae43e882773625772efb27": {
      "model_module": "@jupyter-widgets/controls",
      "model_module_version": "1.0.0",
      "model_name": "IntSliderModel",
      "state": {
       "description": "degrees",
       "layout": "IPY_MODEL_d13f88b8840543bf8d24db2259a4b4ab",
       "max": 360,
       "min": -360,
       "style": "IPY_MODEL_25d8a509efa1443fb9a269c10e9e79ef"
      }
     },
     "c1191473b69c4c65917b6fecdf0ebd3b": {
      "model_module": "@jupyter-widgets/controls",
      "model_module_version": "1.0.0",
      "model_name": "SliderStyleModel",
      "state": {
       "description_width": ""
      }
     },
     "c14d2fe68aa34c339422b30329ff0353": {
      "model_module": "@jupyter-widgets/base",
      "model_module_version": "1.0.0",
      "model_name": "LayoutModel",
      "state": {}
     },
     "c19b09dd5e954e898df607c063154f1c": {
      "model_module": "@jupyter-widgets/controls",
      "model_module_version": "1.0.0",
      "model_name": "SliderStyleModel",
      "state": {
       "description_width": ""
      }
     },
     "c1b4df7f19064994a38329e516fa1347": {
      "model_module": "@jupyter-widgets/controls",
      "model_module_version": "1.0.0",
      "model_name": "SliderStyleModel",
      "state": {
       "description_width": ""
      }
     },
     "c1d1a0e2e2404bb7956668ea8f402b66": {
      "model_module": "@jupyter-widgets/base",
      "model_module_version": "1.0.0",
      "model_name": "LayoutModel",
      "state": {}
     },
     "c1f7a3959b0a4e5ca8f9a70415bc3998": {
      "model_module": "@jupyter-widgets/base",
      "model_module_version": "1.0.0",
      "model_name": "LayoutModel",
      "state": {}
     },
     "c1f9ef91a3854f2788cb95494958537f": {
      "model_module": "jp_proxy_widget",
      "model_module_version": "^0.3.4",
      "model_name": "JSProxyModel",
      "state": {
       "_model_module_version": "^0.3.4",
       "_send_counter": 11,
       "_view_module_version": "^0.3.4",
       "error_msg": "No error",
       "layout": "IPY_MODEL_5d69ed3ff2f74b48a32ccf4497d84cd5",
       "rendered": true,
       "status": "Got results."
      }
     },
     "c1fc481351124e64a4a58f4f929ddf8b": {
      "model_module": "@jupyter-widgets/base",
      "model_module_version": "1.0.0",
      "model_name": "LayoutModel",
      "state": {}
     },
     "c21eb6a1f61d496bb45e0da1f4a5ef29": {
      "model_module": "@jupyter-widgets/controls",
      "model_module_version": "1.0.0",
      "model_name": "IntSliderModel",
      "state": {
       "description": "green",
       "layout": "IPY_MODEL_95da91ee74954114b05c79f596be386b",
       "max": 255,
       "style": "IPY_MODEL_d3b037df43b449028f58513bbf26df95"
      }
     },
     "c2231e772e134409a86f99365f2b78d3": {
      "model_module": "@jupyter-widgets/controls",
      "model_module_version": "1.0.0",
      "model_name": "SliderStyleModel",
      "state": {
       "description_width": ""
      }
     },
     "c23a39f98848499d81e211fec3e65f89": {
      "model_module": "@jupyter-widgets/base",
      "model_module_version": "1.0.0",
      "model_name": "LayoutModel",
      "state": {}
     },
     "c2543703fffa45b3970ce58be00dc637": {
      "model_module": "@jupyter-widgets/controls",
      "model_module_version": "1.0.0",
      "model_name": "IntSliderModel",
      "state": {
       "description": "y",
       "layout": "IPY_MODEL_c67dfb21c8de4f57a884a8d323057c85",
       "min": -100,
       "style": "IPY_MODEL_904b4c21ee404ae8a704757cf80ae702"
      }
     },
     "c25afe940e6f4d84a4f6b11c578b572f": {
      "model_module": "@jupyter-widgets/controls",
      "model_module_version": "1.0.0",
      "model_name": "SliderStyleModel",
      "state": {
       "description_width": ""
      }
     },
     "c260cf1cfd354d4c9dd122e6ecf9e8b1": {
      "model_module": "@jupyter-widgets/base",
      "model_module_version": "1.0.0",
      "model_name": "LayoutModel",
      "state": {}
     },
     "c263234c0a034f67836a06598f3a4e10": {
      "model_module": "@jupyter-widgets/controls",
      "model_module_version": "1.0.0",
      "model_name": "SliderStyleModel",
      "state": {
       "description_width": ""
      }
     },
     "c26c8efc4ffa49468281cc2afd872f08": {
      "model_module": "@jupyter-widgets/controls",
      "model_module_version": "1.0.0",
      "model_name": "DescriptionStyleModel",
      "state": {
       "description_width": ""
      }
     },
     "c2b3394930fe46b98efeb21050ba75fe": {
      "model_module": "@jupyter-widgets/controls",
      "model_module_version": "1.0.0",
      "model_name": "DescriptionStyleModel",
      "state": {
       "description_width": ""
      }
     },
     "c2cbf731987143b2af202f430d066388": {
      "model_module": "@jupyter-widgets/controls",
      "model_module_version": "1.0.0",
      "model_name": "CheckboxModel",
      "state": {
       "description": "fill",
       "disabled": false,
       "layout": "IPY_MODEL_19f3a7cf5aac4c49b394e447c1abc5b9",
       "style": "IPY_MODEL_f1f17d255c5f493798afb9b52763f31e",
       "value": true
      }
     },
     "c2d0c38e2c2c43c4952fc13b03dfe5ce": {
      "model_module": "@jupyter-widgets/base",
      "model_module_version": "1.0.0",
      "model_name": "LayoutModel",
      "state": {}
     },
     "c2fcc600132e4b099cdcb5280ff2d0d7": {
      "model_module": "@jupyter-widgets/controls",
      "model_module_version": "1.0.0",
      "model_name": "SliderStyleModel",
      "state": {
       "description_width": ""
      }
     },
     "c31868732213485d825c1890af649ef7": {
      "model_module": "@jupyter-widgets/controls",
      "model_module_version": "1.0.0",
      "model_name": "SliderStyleModel",
      "state": {
       "description_width": ""
      }
     },
     "c321150d3889420097a520653cef8df6": {
      "model_module": "@jupyter-widgets/base",
      "model_module_version": "1.0.0",
      "model_name": "LayoutModel",
      "state": {}
     },
     "c32ed8e68ab940a3974a9d7dc2686797": {
      "model_module": "@jupyter-widgets/controls",
      "model_module_version": "1.0.0",
      "model_name": "IntSliderModel",
      "state": {
       "description": "dx",
       "layout": "IPY_MODEL_49c1f1e474924b74885d58d88112bb8a",
       "min": -100,
       "style": "IPY_MODEL_56fb0298bbcc4a06a21c9ee43666dcfc",
       "value": -50
      }
     },
     "c35ae68ad0d1496e9f3d97f0dcb7494f": {
      "model_module": "@jupyter-widgets/output",
      "model_module_version": "1.0.0",
      "model_name": "OutputModel",
      "state": {
       "layout": "IPY_MODEL_6071918863be40938710b88abcde2ba4"
      }
     },
     "c3620d4443b2419f989b9e7754da4f1f": {
      "model_module": "@jupyter-widgets/base",
      "model_module_version": "1.0.0",
      "model_name": "LayoutModel",
      "state": {}
     },
     "c36448c0afdc4b62ad8aab3841015e5f": {
      "model_module": "@jupyter-widgets/controls",
      "model_module_version": "1.0.0",
      "model_name": "IntSliderModel",
      "state": {
       "description": "r",
       "layout": "IPY_MODEL_930beb4cba624664a44324192d0ab957",
       "style": "IPY_MODEL_456284c4bc4644ec824cad934213daf8",
       "value": 50
      }
     },
     "c376115fa93a4c178fc381626701680b": {
      "model_module": "@jupyter-widgets/base",
      "model_module_version": "1.0.0",
      "model_name": "LayoutModel",
      "state": {}
     },
     "c380bb8b910e485f91663f014a5fdd51": {
      "model_module": "@jupyter-widgets/base",
      "model_module_version": "1.0.0",
      "model_name": "LayoutModel",
      "state": {}
     },
     "c3852c9ce898496996a7c217a28f91c2": {
      "model_module": "@jupyter-widgets/base",
      "model_module_version": "1.0.0",
      "model_name": "LayoutModel",
      "state": {}
     },
     "c3cfffbf5d344c70bde405da1c31e7f0": {
      "model_module": "@jupyter-widgets/controls",
      "model_module_version": "1.0.0",
      "model_name": "HTMLModel",
      "state": {
       "layout": "IPY_MODEL_5deb7680091c4c6b82dce909f8223c13",
       "style": "IPY_MODEL_943001675456478789ec6b966a345cb9",
       "value": "<img src=\"interactive_rectangle2.png\" id=\"snapshot_id_41_1536323800910\"/>\n <div id=\"snapshot_id_42_1536323800910\">interactive_rectangle2.png</div>"
      }
     },
     "c3d1f62242c04bf49247f8f46b632547": {
      "model_module": "@jupyter-widgets/base",
      "model_module_version": "1.0.0",
      "model_name": "LayoutModel",
      "state": {}
     },
     "c40ad9f3188f43e88703c35c0ec0f9b2": {
      "model_module": "@jupyter-widgets/controls",
      "model_module_version": "1.0.0",
      "model_name": "VBoxModel",
      "state": {
       "children": [
        "IPY_MODEL_74e1c823b913436e97f7bfb1babe2ac9",
        "IPY_MODEL_23ec3e85846e47189f2fbc2c785c6973"
       ],
       "layout": "IPY_MODEL_8cd310e34fe8448ba5a32a55208dbe52"
      }
     },
     "c45b26bde786405d9d84aa677ad171bf": {
      "model_module": "@jupyter-widgets/controls",
      "model_module_version": "1.0.0",
      "model_name": "SliderStyleModel",
      "state": {
       "description_width": ""
      }
     },
     "c46b22814e3e499c955b03520fc8e632": {
      "model_module": "@jupyter-widgets/controls",
      "model_module_version": "1.0.0",
      "model_name": "IntSliderModel",
      "state": {
       "description": "w",
       "layout": "IPY_MODEL_25fe0e83a7be4b38a7211ce894201e9e",
       "max": 300,
       "min": -300,
       "style": "IPY_MODEL_01ded9535e644790bc4dfaeaa991eaf2",
       "value": 10
      }
     },
     "c4a4124ad1b24e6ea0bbdeab20c3d004": {
      "model_module": "@jupyter-widgets/base",
      "model_module_version": "1.0.0",
      "model_name": "LayoutModel",
      "state": {}
     },
     "c4b0254c79dc46bfa72aedbf3dc6351f": {
      "model_module": "@jupyter-widgets/base",
      "model_module_version": "1.0.0",
      "model_name": "LayoutModel",
      "state": {}
     },
     "c4d27fc123584278b7c988ef455b08da": {
      "model_module": "@jupyter-widgets/base",
      "model_module_version": "1.0.0",
      "model_name": "LayoutModel",
      "state": {}
     },
     "c4e8a147e9b44b7bb7596a26498c9583": {
      "model_module": "@jupyter-widgets/base",
      "model_module_version": "1.0.0",
      "model_name": "LayoutModel",
      "state": {}
     },
     "c4f9dcacbbfb4f7b9ae4c978eb2b2118": {
      "model_module": "@jupyter-widgets/base",
      "model_module_version": "1.0.0",
      "model_name": "LayoutModel",
      "state": {}
     },
     "c531536d9e7b47a2aaf36faa963f7894": {
      "model_module": "@jupyter-widgets/controls",
      "model_module_version": "1.0.0",
      "model_name": "SliderStyleModel",
      "state": {
       "description_width": ""
      }
     },
     "c53d22c942cc477bbdabb683b00226fb": {
      "model_module": "@jupyter-widgets/controls",
      "model_module_version": "1.0.0",
      "model_name": "IntSliderModel",
      "state": {
       "description": "lineWidth",
       "layout": "IPY_MODEL_43d331fb913541c0a30fd1395e7acc11",
       "max": 20,
       "style": "IPY_MODEL_377d102e0f4c45bb8bd08237d6675d98",
       "value": 3
      }
     },
     "c55c69ef0e4f421298649bebcc12e3cb": {
      "model_module": "@jupyter-widgets/controls",
      "model_module_version": "1.0.0",
      "model_name": "SliderStyleModel",
      "state": {
       "description_width": ""
      }
     },
     "c5726901884c4db9a68d78bda805df23": {
      "model_module": "@jupyter-widgets/controls",
      "model_module_version": "1.0.0",
      "model_name": "CheckboxModel",
      "state": {
       "description": "fill",
       "disabled": false,
       "layout": "IPY_MODEL_e90ff826d98e4eee9f3ee90749d1319b",
       "style": "IPY_MODEL_ca5f12c82f57431a92b62f10911e02c2",
       "value": true
      }
     },
     "c581394d355643998a566f43623f0ac8": {
      "model_module": "@jupyter-widgets/controls",
      "model_module_version": "1.0.0",
      "model_name": "IntSliderModel",
      "state": {
       "description": "x",
       "layout": "IPY_MODEL_eb862fba1dd2450fb8801ceb9d0ece60",
       "min": -100,
       "style": "IPY_MODEL_fa287936da9d4725bbe8c4e87e7ff883"
      }
     },
     "c5b2a34cb7294d459365381e3e13c8e6": {
      "model_module": "@jupyter-widgets/base",
      "model_module_version": "1.0.0",
      "model_name": "LayoutModel",
      "state": {}
     },
     "c5c9439fa4874263bb7416c88ee5a009": {
      "model_module": "@jupyter-widgets/base",
      "model_module_version": "1.0.0",
      "model_name": "LayoutModel",
      "state": {}
     },
     "c5d30691d81f465689529e63331fe4b3": {
      "model_module": "@jupyter-widgets/controls",
      "model_module_version": "1.0.0",
      "model_name": "IntSliderModel",
      "state": {
       "description": "x",
       "layout": "IPY_MODEL_ed37bd2cb89e4b5bace8145f7d374df0",
       "min": -100,
       "style": "IPY_MODEL_0d6eae09978a488fa7f3c6f4bdd0099a"
      }
     },
     "c5d70cf520654369830463f8c05a7cec": {
      "model_module": "@jupyter-widgets/controls",
      "model_module_version": "1.0.0",
      "model_name": "IntSliderModel",
      "state": {
       "description": "dx",
       "layout": "IPY_MODEL_18385e76a7a54d73a7da3c3194cb6a51",
       "min": -100,
       "style": "IPY_MODEL_21bd63d2f2bd47519a43f9d92bab98e1",
       "value": -50
      }
     },
     "c5f2b1d0c3384121b812a63fe282b364": {
      "model_module": "@jupyter-widgets/controls",
      "model_module_version": "1.0.0",
      "model_name": "SliderStyleModel",
      "state": {
       "description_width": ""
      }
     },
     "c5f50609849944dcac311b82e377f0a8": {
      "model_module": "@jupyter-widgets/controls",
      "model_module_version": "1.0.0",
      "model_name": "IntSliderModel",
      "state": {
       "description": "dy",
       "layout": "IPY_MODEL_27691200ac7a4d2eb7ca06b8cfd0bd80",
       "min": -100,
       "style": "IPY_MODEL_23dec63042644c9abd5ac34fc133b502",
       "value": -25
      }
     },
     "c5f7efd85a71477fa5401c8a76739ec0": {
      "model_module": "@jupyter-widgets/controls",
      "model_module_version": "1.0.0",
      "model_name": "DescriptionStyleModel",
      "state": {
       "description_width": ""
      }
     },
     "c603de0ffe524fe9970d191be2bec02a": {
      "model_module": "@jupyter-widgets/base",
      "model_module_version": "1.0.0",
      "model_name": "LayoutModel",
      "state": {}
     },
     "c611b9cb751d4b9fb639bc404d7affe3": {
      "model_module": "@jupyter-widgets/controls",
      "model_module_version": "1.0.0",
      "model_name": "IntSliderModel",
      "state": {
       "description": "x",
       "layout": "IPY_MODEL_48a5cc351221455f815776e36f408b26",
       "min": -100,
       "style": "IPY_MODEL_ef1b17d7fab74dea8a4ba6e9adaf1f23"
      }
     },
     "c627df3f2b5044d08254aba41f4aaa2a": {
      "model_module": "@jupyter-widgets/base",
      "model_module_version": "1.0.0",
      "model_name": "LayoutModel",
      "state": {}
     },
     "c637d41ba9ae4ee29b56bb98e594fb10": {
      "model_module": "@jupyter-widgets/controls",
      "model_module_version": "1.0.0",
      "model_name": "SliderStyleModel",
      "state": {
       "description_width": ""
      }
     },
     "c63c46a1b8724c8f848ac25c31265a97": {
      "model_module": "@jupyter-widgets/controls",
      "model_module_version": "1.0.0",
      "model_name": "SliderStyleModel",
      "state": {
       "description_width": ""
      }
     },
     "c650655ae4d74728b4021f6c921df9ef": {
      "model_module": "@jupyter-widgets/base",
      "model_module_version": "1.0.0",
      "model_name": "LayoutModel",
      "state": {}
     },
     "c67dbeda3de244d29c75a91b6e905fa1": {
      "model_module": "@jupyter-widgets/controls",
      "model_module_version": "1.0.0",
      "model_name": "IntSliderModel",
      "state": {
       "description": "green",
       "layout": "IPY_MODEL_d87f1c365bcf49368c2dbc0fd69b6d4c",
       "max": 255,
       "style": "IPY_MODEL_9188b498434748fbadf305488776d9ad",
       "value": 173
      }
     },
     "c67dfb21c8de4f57a884a8d323057c85": {
      "model_module": "@jupyter-widgets/base",
      "model_module_version": "1.0.0",
      "model_name": "LayoutModel",
      "state": {}
     },
     "c6902fa287be47dcb8f3cef19c803b3f": {
      "model_module": "@jupyter-widgets/controls",
      "model_module_version": "1.0.0",
      "model_name": "SliderStyleModel",
      "state": {
       "description_width": ""
      }
     },
     "c6a705628f7b4bd3a58d6fa4dd7c5761": {
      "model_module": "@jupyter-widgets/controls",
      "model_module_version": "1.0.0",
      "model_name": "SliderStyleModel",
      "state": {
       "description_width": ""
      }
     },
     "c6a7788f85dd48d8b515c7f1dd1182f5": {
      "model_module": "@jupyter-widgets/base",
      "model_module_version": "1.0.0",
      "model_name": "LayoutModel",
      "state": {}
     },
     "c6a8a55460244f3f853c6f57bd5499ec": {
      "model_module": "@jupyter-widgets/controls",
      "model_module_version": "1.0.0",
      "model_name": "TabModel",
      "state": {
       "_titles": {
        "0": "Canvas",
        "1": "Snapshot"
       },
       "children": [
        "IPY_MODEL_85ef07fdd58b4d7b91dec99126643aff",
        "IPY_MODEL_e9897326133e4bd0ba05d5f31aadf455"
       ],
       "layout": "IPY_MODEL_efd7c744f3464ea5b4eac393a6be38ca"
      }
     },
     "c6a9a33d2cd847ffbcecd32efae5e60a": {
      "model_module": "@jupyter-widgets/controls",
      "model_module_version": "1.0.0",
      "model_name": "SliderStyleModel",
      "state": {
       "description_width": ""
      }
     },
     "c6b1d45510234e3d8d35ac54244f371c": {
      "model_module": "@jupyter-widgets/controls",
      "model_module_version": "1.0.0",
      "model_name": "IntSliderModel",
      "state": {
       "description": "lineWidth",
       "layout": "IPY_MODEL_385c4cb31c1d491787737c08bb69f148",
       "max": 20,
       "style": "IPY_MODEL_889d5e1c1bf8499e850e275b0e907c79",
       "value": 15
      }
     },
     "c6e877e093e54af3a29c449a59e03e80": {
      "model_module": "@jupyter-widgets/controls",
      "model_module_version": "1.0.0",
      "model_name": "IntSliderModel",
      "state": {
       "description": "h",
       "layout": "IPY_MODEL_a2ee214e47d943998ce9fd3456927c18",
       "max": 300,
       "min": -300,
       "style": "IPY_MODEL_311f944ca8f1493ea151b10cb6c51be3",
       "value": 300
      }
     },
     "c6fe692a8d344d90a3ffd999592a90a6": {
      "model_module": "@jupyter-widgets/controls",
      "model_module_version": "1.0.0",
      "model_name": "TabModel",
      "state": {
       "_titles": {
        "0": "Canvas",
        "1": "Snapshot"
       },
       "children": [
        "IPY_MODEL_bdc22207417e4919bf457087e84d4cec",
        "IPY_MODEL_d619c8ad159e4439bdc75fef297eb164"
       ],
       "layout": "IPY_MODEL_ea6da93702914c17b511d28dd3de4dae",
       "selected_index": 1
      }
     },
     "c71f0629393148be849668c51357c18e": {
      "model_module": "@jupyter-widgets/controls",
      "model_module_version": "1.0.0",
      "model_name": "IntSliderModel",
      "state": {
       "description": "lineWidth",
       "layout": "IPY_MODEL_ee4274a611f5455b9d8fef6ae1f74ee7",
       "max": 20,
       "style": "IPY_MODEL_c8a57fbf987b491e963b8f6a8cad64aa",
       "value": 7
      }
     },
     "c7204382e6604222996e3b17ea3e8daa": {
      "model_module": "@jupyter-widgets/controls",
      "model_module_version": "1.0.0",
      "model_name": "SliderStyleModel",
      "state": {
       "description_width": ""
      }
     },
     "c73d7d27386a44fcb10e338ef688961f": {
      "model_module": "@jupyter-widgets/base",
      "model_module_version": "1.0.0",
      "model_name": "LayoutModel",
      "state": {}
     },
     "c74dfd9008bb4077abefb2ecbecb87bb": {
      "model_module": "@jupyter-widgets/controls",
      "model_module_version": "1.0.0",
      "model_name": "SliderStyleModel",
      "state": {
       "description_width": ""
      }
     },
     "c74f953c11ae417187e2cd038d430815": {
      "model_module": "@jupyter-widgets/controls",
      "model_module_version": "1.0.0",
      "model_name": "IntSliderModel",
      "state": {
       "description": "dx",
       "layout": "IPY_MODEL_009a9d3919eb4e30b6ef76c7568be6b1",
       "min": -100,
       "style": "IPY_MODEL_0d24dcc3b4f94035ae9b3b83eb6b2356",
       "value": 37
      }
     },
     "c766b51274074efeaec96544a1d034d9": {
      "model_module": "@jupyter-widgets/controls",
      "model_module_version": "1.0.0",
      "model_name": "VBoxModel",
      "state": {
       "_dom_classes": [
        "widget-interact"
       ],
       "children": [
        "IPY_MODEL_e90eb4d819984a73a04039cc769b11c9",
        "IPY_MODEL_fbd71857f06448d7a28737ef53f21e4b",
        "IPY_MODEL_41021f4477894126b449d35cdd5f40be",
        "IPY_MODEL_0eee68637e81438f949455d8b040a62a",
        "IPY_MODEL_c5d70cf520654369830463f8c05a7cec",
        "IPY_MODEL_146c0a6f1a824f8bbd35085e8d13b9b6",
        "IPY_MODEL_e6d2ad8a655e40c3a0c12274f77727c0",
        "IPY_MODEL_420e5c2b331442dcb22b9eb28dd5f9ff"
       ],
       "layout": "IPY_MODEL_75cda1e42d134d4ca9c5a41eeeb9263a"
      }
     },
     "c7a09c31f4dd4d3cb3c349c78fea19cc": {
      "model_module": "@jupyter-widgets/controls",
      "model_module_version": "1.0.0",
      "model_name": "SliderStyleModel",
      "state": {
       "description_width": ""
      }
     },
     "c7d698191ca8416baefb2f883cacde9c": {
      "model_module": "@jupyter-widgets/output",
      "model_module_version": "1.0.0",
      "model_name": "OutputModel",
      "state": {
       "layout": "IPY_MODEL_b57326d1f9634cf4bca1037d3ea6a27b"
      }
     },
     "c7ef28a872db47d682a1e2fb852a8e3e": {
      "model_module": "@jupyter-widgets/controls",
      "model_module_version": "1.0.0",
      "model_name": "SliderStyleModel",
      "state": {
       "description_width": ""
      }
     },
     "c81b6c763dde4686be31dc5e4c0dc0cc": {
      "model_module": "@jupyter-widgets/base",
      "model_module_version": "1.0.0",
      "model_name": "LayoutModel",
      "state": {}
     },
     "c83a73155cb045198bc862797b555bc0": {
      "model_module": "@jupyter-widgets/controls",
      "model_module_version": "1.0.0",
      "model_name": "IntSliderModel",
      "state": {
       "description": "blue",
       "layout": "IPY_MODEL_d5a5472d832540eaa737314b68a3a3a2",
       "max": 255,
       "style": "IPY_MODEL_2e7b00438b9c409ea7d5451e5ce7e3ea",
       "value": 127
      }
     },
     "c8408daa8eae4c0cb4f93df44aa93bf8": {
      "model_module": "@jupyter-widgets/controls",
      "model_module_version": "1.0.0",
      "model_name": "DescriptionStyleModel",
      "state": {
       "description_width": ""
      }
     },
     "c848a1e5a80545ea865c5a57296090d9": {
      "model_module": "@jupyter-widgets/controls",
      "model_module_version": "1.0.0",
      "model_name": "IntSliderModel",
      "state": {
       "description": "dx",
       "layout": "IPY_MODEL_686fb0d835de46e7af3b551e700a6199",
       "min": -100,
       "style": "IPY_MODEL_71371a01f60e41b4917632e837b7da74",
       "value": -50
      }
     },
     "c84ef6aea8fd425881cea85bfb25d2dc": {
      "model_module": "@jupyter-widgets/controls",
      "model_module_version": "1.0.0",
      "model_name": "SliderStyleModel",
      "state": {
       "description_width": ""
      }
     },
     "c8677ad9bb5045578eabe21e216e0dc8": {
      "model_module": "@jupyter-widgets/controls",
      "model_module_version": "1.0.0",
      "model_name": "VBoxModel",
      "state": {
       "children": [
        "IPY_MODEL_806c33d3ac9149e8a2b8b9d5cfc127cb",
        "IPY_MODEL_3f501892f92d49f385ca689073a9d446"
       ],
       "layout": "IPY_MODEL_bf0e112c007b446d92ae8d00487a1830"
      }
     },
     "c86e65b621944ea29cfc1e033b0d40b6": {
      "model_module": "@jupyter-widgets/controls",
      "model_module_version": "1.0.0",
      "model_name": "DescriptionStyleModel",
      "state": {
       "description_width": ""
      }
     },
     "c87dd26b9d0f4544976adb06ee54cd38": {
      "model_module": "@jupyter-widgets/controls",
      "model_module_version": "1.0.0",
      "model_name": "IntSliderModel",
      "state": {
       "description": "sWidth",
       "layout": "IPY_MODEL_631a68a50ca648eea20f1f6ed19998a8",
       "max": 600,
       "style": "IPY_MODEL_db77563cdc6b4d53860ab1cad21d37d7",
       "value": 177
      }
     },
     "c8828dede2e94543b064504e4120dfd5": {
      "model_module": "@jupyter-widgets/controls",
      "model_module_version": "1.0.0",
      "model_name": "VBoxModel",
      "state": {
       "_dom_classes": [
        "widget-interact"
       ],
       "children": [
        "IPY_MODEL_f870f64f1f7843428fc4c3c8181e368e",
        "IPY_MODEL_33cfd78eac3943b880ca19a95a2cbca8",
        "IPY_MODEL_9bdec2b712e44a16af2b4102e706f219",
        "IPY_MODEL_92367a846b2a4480938b360946e7bb23",
        "IPY_MODEL_effd005c70954ca59d1e609d9670977d",
        "IPY_MODEL_3521f3a31d6b4c889e800f06677dd79f",
        "IPY_MODEL_1ada6af791244f0b9aed56b9b1f91f12",
        "IPY_MODEL_6f0a0e727db641c7a2fd92e15152fc08",
        "IPY_MODEL_dbaf081b173a45f7bf11e0b400805ce8",
        "IPY_MODEL_0e0f736cb1244181a578d9fe1bd18a5c",
        "IPY_MODEL_d733671ae3d64d3ab2213ee72119df7c",
        "IPY_MODEL_af637c81abac4081a0a5933eb0a6bb06"
       ],
       "layout": "IPY_MODEL_d42e82ba935b458aa1202cbe2a08ffbf"
      }
     },
     "c891b4f90b5e435f990cd79fa9a2d3ab": {
      "model_module": "@jupyter-widgets/base",
      "model_module_version": "1.0.0",
      "model_name": "LayoutModel",
      "state": {}
     },
     "c8a57fbf987b491e963b8f6a8cad64aa": {
      "model_module": "@jupyter-widgets/controls",
      "model_module_version": "1.0.0",
      "model_name": "SliderStyleModel",
      "state": {
       "description_width": ""
      }
     },
     "c8ac01fe12dd4bfbb557dabc3c365a78": {
      "model_module": "@jupyter-widgets/base",
      "model_module_version": "1.0.0",
      "model_name": "LayoutModel",
      "state": {}
     },
     "c8b304b83e3946c6a3d84c2feaa94ce8": {
      "model_module": "@jupyter-widgets/controls",
      "model_module_version": "1.0.0",
      "model_name": "SliderStyleModel",
      "state": {
       "description_width": ""
      }
     },
     "c8c5f17ea2b244a99ce5c1cc812f7bcf": {
      "model_module": "@jupyter-widgets/base",
      "model_module_version": "1.0.0",
      "model_name": "LayoutModel",
      "state": {}
     },
     "c8c76f8d1d214fc58f09456a8118cbdd": {
      "model_module": "@jupyter-widgets/base",
      "model_module_version": "1.0.0",
      "model_name": "LayoutModel",
      "state": {}
     },
     "c8e86f9be66544cc88af5593c9330977": {
      "model_module": "@jupyter-widgets/output",
      "model_module_version": "1.0.0",
      "model_name": "OutputModel",
      "state": {
       "layout": "IPY_MODEL_01ce7e1c64da45af840da3ee4d55fbab"
      }
     },
     "c90621fa6a534c29aff5ac4250e4d445": {
      "model_module": "@jupyter-widgets/controls",
      "model_module_version": "1.0.0",
      "model_name": "IntSliderModel",
      "state": {
       "description": "h",
       "layout": "IPY_MODEL_b1f2891b34264e0abd60c31c84862fc1",
       "max": 300,
       "min": -300,
       "style": "IPY_MODEL_130182fe5e2247bdbf790694a5976e3d",
       "value": 246
      }
     },
     "c906782d655040058158d35d65c34d5c": {
      "model_module": "@jupyter-widgets/controls",
      "model_module_version": "1.0.0",
      "model_name": "SliderStyleModel",
      "state": {
       "description_width": ""
      }
     },
     "c9197738c9e74ffca50503ed157fd7a5": {
      "model_module": "jp_proxy_widget",
      "model_module_version": "^0.3.4",
      "model_name": "JSProxyModel",
      "state": {
       "_model_module_version": "^0.3.4",
       "_send_counter": 11,
       "_view_module_version": "^0.3.4",
       "error_msg": "No error",
       "layout": "IPY_MODEL_8f9966ed5dc747a7a049f76eeeb5832e",
       "rendered": true,
       "status": "Got results."
      }
     },
     "c91f43116f3647e6a3c8f92e72b5b6dc": {
      "model_module": "@jupyter-widgets/controls",
      "model_module_version": "1.0.0",
      "model_name": "SliderStyleModel",
      "state": {
       "description_width": ""
      }
     },
     "c93a4a07dc114e9a8e7200d9bb1b84a7": {
      "model_module": "@jupyter-widgets/base",
      "model_module_version": "1.0.0",
      "model_name": "LayoutModel",
      "state": {}
     },
     "c93de285d2c343a0bba8a56cbfc7cf3b": {
      "model_module": "@jupyter-widgets/base",
      "model_module_version": "1.0.0",
      "model_name": "LayoutModel",
      "state": {}
     },
     "c93e2d5d660b4e99b657000bd3ec3ae3": {
      "model_module": "@jupyter-widgets/controls",
      "model_module_version": "1.0.0",
      "model_name": "SliderStyleModel",
      "state": {
       "description_width": ""
      }
     },
     "c93f39da518646438b04157b34bd7c56": {
      "model_module": "@jupyter-widgets/controls",
      "model_module_version": "1.0.0",
      "model_name": "IntSliderModel",
      "state": {
       "description": "dx",
       "layout": "IPY_MODEL_f42f1c6388db4b20b28194b01d374641",
       "min": -100,
       "style": "IPY_MODEL_083acbc277a3405fa402c4168b4e3f9f"
      }
     },
     "c94108fed8b94ec986c4f5efca66d8db": {
      "model_module": "@jupyter-widgets/controls",
      "model_module_version": "1.0.0",
      "model_name": "IntSliderModel",
      "state": {
       "description": "y",
       "layout": "IPY_MODEL_176f9de84ad24bb08f6e993c71c10a9f",
       "min": -100,
       "style": "IPY_MODEL_009faa4d2649492c9b4d0bd213c9baed"
      }
     },
     "c9469426bcc049de9147504979fc31cd": {
      "model_module": "@jupyter-widgets/controls",
      "model_module_version": "1.0.0",
      "model_name": "IntSliderModel",
      "state": {
       "description": "sx",
       "layout": "IPY_MODEL_5d4ba6c18e7240f7adebb714867d048d",
       "max": 600,
       "style": "IPY_MODEL_715f7fa9ed1f4eee9319ec6bdf318f37",
       "value": 30
      }
     },
     "c94bf6997ffa43ce824dc66924f18cc9": {
      "model_module": "@jupyter-widgets/controls",
      "model_module_version": "1.0.0",
      "model_name": "IntSliderModel",
      "state": {
       "description": "green",
       "layout": "IPY_MODEL_b8ee8156f0a74a1a8b842ccfae245780",
       "max": 255,
       "style": "IPY_MODEL_524faaaf1bda4c4f9ac25d8a84ffbd62"
      }
     },
     "c9564860f70c4668a5fdd72cb85d52c1": {
      "model_module": "@jupyter-widgets/controls",
      "model_module_version": "1.0.0",
      "model_name": "DescriptionStyleModel",
      "state": {
       "description_width": ""
      }
     },
     "c966f1056f224e68b089b45bd169ee5b": {
      "model_module": "@jupyter-widgets/base",
      "model_module_version": "1.0.0",
      "model_name": "LayoutModel",
      "state": {}
     },
     "c9739257a84a4bda98972255f3b64850": {
      "model_module": "@jupyter-widgets/base",
      "model_module_version": "1.0.0",
      "model_name": "LayoutModel",
      "state": {}
     },
     "c994795a3bd046599b37051087fc429a": {
      "model_module": "@jupyter-widgets/controls",
      "model_module_version": "1.0.0",
      "model_name": "IntSliderModel",
      "state": {
       "description": "sHeight",
       "layout": "IPY_MODEL_dff309bf8b3844c3b41c58354ed707d4",
       "max": 60,
       "min": -20,
       "style": "IPY_MODEL_02a3e6955b81446797012535ed0b1223",
       "value": 20
      }
     },
     "c998d83a79f64186baeb16e0ab6a84fd": {
      "model_module": "@jupyter-widgets/base",
      "model_module_version": "1.0.0",
      "model_name": "LayoutModel",
      "state": {}
     },
     "c9bb937b54294cc3ace97fef6e8725e4": {
      "model_module": "@jupyter-widgets/controls",
      "model_module_version": "1.0.0",
      "model_name": "HTMLModel",
      "state": {
       "layout": "IPY_MODEL_5027fd4f925642d9b412dd5309ce1860",
       "style": "IPY_MODEL_e70715f5d7ef4e95b8214f73bac1a47c",
       "value": "<img src=\"interactive_circle.png\" id=\"snapshot_id_1_1536249636198\"/>\n <div id=\"snapshot_id_2_1536249636198\">interactive_circle.png</div>"
      }
     },
     "c9f0ac68ba5841ea80cba3b28d87b6e6": {
      "model_module": "@jupyter-widgets/controls",
      "model_module_version": "1.0.0",
      "model_name": "SliderStyleModel",
      "state": {
       "description_width": ""
      }
     },
     "ca258b5b09504167b78ab64eefe65565": {
      "model_module": "@jupyter-widgets/output",
      "model_module_version": "1.0.0",
      "model_name": "OutputModel",
      "state": {
       "layout": "IPY_MODEL_c14d2fe68aa34c339422b30329ff0353"
      }
     },
     "ca35a826868b4e3897a5cc1d901a2fbe": {
      "model_module": "@jupyter-widgets/output",
      "model_module_version": "1.0.0",
      "model_name": "OutputModel",
      "state": {
       "layout": "IPY_MODEL_dc761fffd24f4f74bd0fd80cb685b585"
      }
     },
     "ca49dec8e05f4407aaf375e474c4bcb7": {
      "model_module": "@jupyter-widgets/controls",
      "model_module_version": "1.0.0",
      "model_name": "IntSliderModel",
      "state": {
       "description": "lineWidth",
       "layout": "IPY_MODEL_25f4b5cfe0e04d4da1ca22db5da2edf0",
       "max": 20,
       "style": "IPY_MODEL_c8b304b83e3946c6a3d84c2feaa94ce8",
       "value": 3
      }
     },
     "ca4b02b8f74c44b2ad3ab769ec1dbf61": {
      "model_module": "@jupyter-widgets/base",
      "model_module_version": "1.0.0",
      "model_name": "LayoutModel",
      "state": {}
     },
     "ca59becc1eaf462f8eaad9afa1347757": {
      "model_module": "@jupyter-widgets/controls",
      "model_module_version": "1.0.0",
      "model_name": "FloatSliderModel",
      "state": {
       "description": "alpha",
       "layout": "IPY_MODEL_eb57d51690c54ebcb265695a3c65e591",
       "max": 1,
       "step": 0.1,
       "style": "IPY_MODEL_40a6555930644a19836498bde62e7096",
       "value": 1
      }
     },
     "ca5f12c82f57431a92b62f10911e02c2": {
      "model_module": "@jupyter-widgets/controls",
      "model_module_version": "1.0.0",
      "model_name": "DescriptionStyleModel",
      "state": {
       "description_width": ""
      }
     },
     "caaeac4ce9754a619d66477a6ed902e9": {
      "model_module": "@jupyter-widgets/controls",
      "model_module_version": "1.0.0",
      "model_name": "IntSliderModel",
      "state": {
       "description": "x",
       "layout": "IPY_MODEL_5be64bc9a28c4098989690d44ea350ac",
       "min": -100,
       "style": "IPY_MODEL_7b7d161f386e4e9caad61d54ef813dec"
      }
     },
     "cadbede7b5c04d618228bf7258ba0558": {
      "model_module": "@jupyter-widgets/controls",
      "model_module_version": "1.0.0",
      "model_name": "SliderStyleModel",
      "state": {
       "description_width": ""
      }
     },
     "cae855fe20e243a782578955cba95947": {
      "model_module": "@jupyter-widgets/controls",
      "model_module_version": "1.0.0",
      "model_name": "VBoxModel",
      "state": {
       "children": [
        "IPY_MODEL_de0addb33f8d4f748ddbdf4715f06ea3",
        "IPY_MODEL_b000f583281e40d5978547bb27fc60da"
       ],
       "layout": "IPY_MODEL_2d6082387d2c4646b93bc81c59bdc36d"
      }
     },
     "caed84739d874a51bc8e8a549434bba1": {
      "model_module": "@jupyter-widgets/base",
      "model_module_version": "1.0.0",
      "model_name": "LayoutModel",
      "state": {}
     },
     "cb21c46c9e7242c5b718f9c05895172c": {
      "model_module": "@jupyter-widgets/controls",
      "model_module_version": "1.0.0",
      "model_name": "DescriptionStyleModel",
      "state": {
       "description_width": ""
      }
     },
     "cb27cfbd809f4c28b409728ef3943a9e": {
      "model_module": "@jupyter-widgets/controls",
      "model_module_version": "1.0.0",
      "model_name": "CheckboxModel",
      "state": {
       "description": "fill",
       "disabled": false,
       "layout": "IPY_MODEL_9e52c6b43361439bb139169155adb5cc",
       "style": "IPY_MODEL_bec8764ed5cf4f8b842e269975882224",
       "value": false
      }
     },
     "cb352164ec654c069607b41a35727582": {
      "model_module": "@jupyter-widgets/controls",
      "model_module_version": "1.0.0",
      "model_name": "SliderStyleModel",
      "state": {
       "description_width": ""
      }
     },
     "cb3b34c8ea2f426d84ebf91204d86b6c": {
      "model_module": "@jupyter-widgets/base",
      "model_module_version": "1.0.0",
      "model_name": "LayoutModel",
      "state": {}
     },
     "cb4e29db0eff4938a5fb7049de51f7bc": {
      "model_module": "@jupyter-widgets/controls",
      "model_module_version": "1.0.0",
      "model_name": "IntSliderModel",
      "state": {
       "description": "h",
       "layout": "IPY_MODEL_29010fa647a445f4accddbb8a18a8e7b",
       "max": 300,
       "min": -300,
       "style": "IPY_MODEL_df3cd7d1aa754bed8f77bcdd1e70d5f1",
       "value": 50
      }
     },
     "cb673f6b75644cf38e8239f78430de51": {
      "model_module": "@jupyter-widgets/controls",
      "model_module_version": "1.0.0",
      "model_name": "SliderStyleModel",
      "state": {
       "description_width": ""
      }
     },
     "cbe904656d3544e5be9a3bb3d0d5a862": {
      "model_module": "jp_proxy_widget",
      "model_module_version": "^0.3.4",
      "model_name": "JSProxyModel",
      "state": {
       "_model_module_version": "^0.3.4",
       "_send_counter": 193,
       "_view_module_version": "^0.3.4",
       "error_msg": "No error",
       "layout": "IPY_MODEL_9ba4b277b2934979aabf501a57c812bc",
       "rendered": true,
       "status": "Got results."
      }
     },
     "cbeb1d164b1244ea84f926ebd7f56331": {
      "model_module": "@jupyter-widgets/controls",
      "model_module_version": "1.0.0",
      "model_name": "IntSliderModel",
      "state": {
       "description": "x",
       "layout": "IPY_MODEL_67d57405fa244a00a3a8ccd75b144aee",
       "min": -100,
       "style": "IPY_MODEL_6af12d36ec524d2a9f93d40d8180a1f6",
       "value": -37
      }
     },
     "cc419fd4f1e8420e8fbda7b179389645": {
      "model_module": "@jupyter-widgets/base",
      "model_module_version": "1.0.0",
      "model_name": "LayoutModel",
      "state": {}
     },
     "cc4480b6368f4988a9ca75f82fa0d3f4": {
      "model_module": "@jupyter-widgets/base",
      "model_module_version": "1.0.0",
      "model_name": "LayoutModel",
      "state": {}
     },
     "cc5cacaec15b407c8c86df099d4c96d3": {
      "model_module": "@jupyter-widgets/base",
      "model_module_version": "1.0.0",
      "model_name": "LayoutModel",
      "state": {}
     },
     "cc78da8ecdff4e4d8ac60a121090426d": {
      "model_module": "@jupyter-widgets/controls",
      "model_module_version": "1.0.0",
      "model_name": "IntSliderModel",
      "state": {
       "description": "red",
       "layout": "IPY_MODEL_622748a04be14af8ad5e9c829c0264b6",
       "max": 255,
       "style": "IPY_MODEL_a469783eaa864dd1a666075b99c2f77c",
       "value": 255
      }
     },
     "cc7b403341ba40bc88fc001a317f0d91": {
      "model_module": "@jupyter-widgets/controls",
      "model_module_version": "1.0.0",
      "model_name": "IntSliderModel",
      "state": {
       "description": "x",
       "layout": "IPY_MODEL_a2dcdbbe24764788a3f7639c89117ea4",
       "min": -100,
       "style": "IPY_MODEL_0cd04d97c4da4af296e44f5a1fc7cd39"
      }
     },
     "cc875a482b81481aabaa4b59941bb886": {
      "model_module": "@jupyter-widgets/controls",
      "model_module_version": "1.0.0",
      "model_name": "VBoxModel",
      "state": {
       "children": [
        "IPY_MODEL_b6edfe36ded441ba98d5357a6f72e8f1",
        "IPY_MODEL_d01240ca20bf4e438c4f59530776f144"
       ],
       "layout": "IPY_MODEL_df3a643769c54959a85cc571b9fadeb8"
      }
     },
     "cca99d45f1df480482836b859f1932ea": {
      "model_module": "@jupyter-widgets/controls",
      "model_module_version": "1.0.0",
      "model_name": "IntSliderModel",
      "state": {
       "description": "degrees",
       "layout": "IPY_MODEL_b51daf5d65fe4624a12eddb7bd16af8a",
       "max": 360,
       "min": -360,
       "style": "IPY_MODEL_1fdcfdfedf154947a28c6380bcc5bfbc",
       "value": -55
      }
     },
     "ccafb69d6dc943beb8e644a2bbc2ee54": {
      "model_module": "@jupyter-widgets/base",
      "model_module_version": "1.0.0",
      "model_name": "LayoutModel",
      "state": {}
     },
     "cccd07e7220c4bcf8244cd36ff89b8c2": {
      "model_module": "@jupyter-widgets/controls",
      "model_module_version": "1.0.0",
      "model_name": "SliderStyleModel",
      "state": {
       "description_width": ""
      }
     },
     "cce6bbd9517b44bfa945dc1891d45351": {
      "model_module": "@jupyter-widgets/controls",
      "model_module_version": "1.0.0",
      "model_name": "SliderStyleModel",
      "state": {
       "description_width": ""
      }
     },
     "ccee99ed2c864003af64da5c63af3dd7": {
      "model_module": "@jupyter-widgets/base",
      "model_module_version": "1.0.0",
      "model_name": "LayoutModel",
      "state": {}
     },
     "cd0e45c33eda496aa1a9f1cef149434a": {
      "model_module": "@jupyter-widgets/base",
      "model_module_version": "1.0.0",
      "model_name": "LayoutModel",
      "state": {}
     },
     "cd76a416be4544e481d8658fe3ddec62": {
      "model_module": "@jupyter-widgets/controls",
      "model_module_version": "1.0.0",
      "model_name": "SliderStyleModel",
      "state": {
       "description_width": ""
      }
     },
     "cdaa7a8487ed484ebd560a9266d922ce": {
      "model_module": "@jupyter-widgets/base",
      "model_module_version": "1.0.0",
      "model_name": "LayoutModel",
      "state": {}
     },
     "cdd45dd4f24047f78b85b1a9bd37fc9f": {
      "model_module": "@jupyter-widgets/controls",
      "model_module_version": "1.0.0",
      "model_name": "IntSliderModel",
      "state": {
       "description": "r",
       "layout": "IPY_MODEL_a83665ebed594db195e1ee15116102fa",
       "style": "IPY_MODEL_04750ce289014b89a2abc7b2941ff541",
       "value": 50
      }
     },
     "cdd59653765a453a8ea86d10d3942b2d": {
      "model_module": "@jupyter-widgets/controls",
      "model_module_version": "1.0.0",
      "model_name": "IntSliderModel",
      "state": {
       "description": "dx",
       "layout": "IPY_MODEL_b2922ccad79943ad811cdecfc33293ff",
       "min": -100,
       "style": "IPY_MODEL_6459704f4554452dbb9101578413a0e6"
      }
     },
     "cddd1be2ac24448f8f57806e980006a2": {
      "model_module": "@jupyter-widgets/controls",
      "model_module_version": "1.0.0",
      "model_name": "IntSliderModel",
      "state": {
       "description": "dx",
       "layout": "IPY_MODEL_a5bbde58ba4542748f6a11612cfea8b0",
       "min": -100,
       "style": "IPY_MODEL_f7c612bab7e541bc8f1451c7b2b166f7",
       "value": -50
      }
     },
     "ce0096ce45434c669e04d8443d2ca151": {
      "model_module": "@jupyter-widgets/base",
      "model_module_version": "1.0.0",
      "model_name": "LayoutModel",
      "state": {}
     },
     "ce09b659de6641d9a1dba74a86e88dd9": {
      "model_module": "@jupyter-widgets/controls",
      "model_module_version": "1.0.0",
      "model_name": "IntSliderModel",
      "state": {
       "description": "dx",
       "layout": "IPY_MODEL_a033a8461f03478e97060f7f5fd1d4c1",
       "min": -100,
       "style": "IPY_MODEL_30ae503ef27948eda6fbe5090c7190a6",
       "value": -30
      }
     },
     "ce4eeb0a47c64fb2b326c38acd0f50a1": {
      "model_module": "@jupyter-widgets/controls",
      "model_module_version": "1.0.0",
      "model_name": "SliderStyleModel",
      "state": {
       "description_width": ""
      }
     },
     "ce626ab925984d18bd32715074a73dc9": {
      "model_module": "@jupyter-widgets/controls",
      "model_module_version": "1.0.0",
      "model_name": "SliderStyleModel",
      "state": {
       "description_width": ""
      }
     },
     "cea452d7705f434f95dbffe362646d71": {
      "model_module": "@jupyter-widgets/base",
      "model_module_version": "1.0.0",
      "model_name": "LayoutModel",
      "state": {}
     },
     "ced358c677e44a39ab42f0f84a832deb": {
      "model_module": "@jupyter-widgets/base",
      "model_module_version": "1.0.0",
      "model_name": "LayoutModel",
      "state": {}
     },
     "cef4b44d91494ac0aff0b13920d81a3b": {
      "model_module": "@jupyter-widgets/base",
      "model_module_version": "1.0.0",
      "model_name": "LayoutModel",
      "state": {}
     },
     "cf0f29811c1e4fe19a4da520a384bdb9": {
      "model_module": "@jupyter-widgets/controls",
      "model_module_version": "1.0.0",
      "model_name": "VBoxModel",
      "state": {
       "children": [
        "IPY_MODEL_cbe904656d3544e5be9a3bb3d0d5a862",
        "IPY_MODEL_af3b3f154c8149e4a4c9c9060a8a32b9"
       ],
       "layout": "IPY_MODEL_b63fcb05e17642aab82f0315f957d681"
      }
     },
     "cf1cd974fad04b02a58355653fd391e1": {
      "model_module": "@jupyter-widgets/controls",
      "model_module_version": "1.0.0",
      "model_name": "HTMLModel",
      "state": {
       "layout": "IPY_MODEL_a4e873612d804001b03577b2fdb3c554",
       "style": "IPY_MODEL_8d67b373dc634513b858328e66bd3f9a",
       "value": "<img src=\"interactive_image.png\" id=\"snapshot_id_33_1536960857512\"/>\n <div id=\"snapshot_id_34_1536960857512\">interactive_image.png</div>"
      }
     },
     "cf2d0a68fb95489790103bac5a383118": {
      "model_module": "@jupyter-widgets/base",
      "model_module_version": "1.0.0",
      "model_name": "LayoutModel",
      "state": {}
     },
     "cf377bf4e830440abaf63067fc7bc47c": {
      "model_module": "@jupyter-widgets/base",
      "model_module_version": "1.0.0",
      "model_name": "LayoutModel",
      "state": {}
     },
     "cf4162e7f0d34b7f9796226a57216c5b": {
      "model_module": "@jupyter-widgets/controls",
      "model_module_version": "1.0.0",
      "model_name": "SliderStyleModel",
      "state": {
       "description_width": ""
      }
     },
     "cf42937fa4be4510b9d4d4a48d4c2bdf": {
      "model_module": "@jupyter-widgets/controls",
      "model_module_version": "1.0.0",
      "model_name": "SliderStyleModel",
      "state": {
       "description_width": ""
      }
     },
     "cf4a6c2f44d64cb6be0b082ed0214c3e": {
      "model_module": "@jupyter-widgets/controls",
      "model_module_version": "1.0.0",
      "model_name": "SliderStyleModel",
      "state": {
       "description_width": ""
      }
     },
     "cf5016b393d64edc81d8b22c8e192988": {
      "model_module": "@jupyter-widgets/base",
      "model_module_version": "1.0.0",
      "model_name": "LayoutModel",
      "state": {}
     },
     "cf924c9c868b46e9b325a1eaf3a9aae1": {
      "model_module": "@jupyter-widgets/controls",
      "model_module_version": "1.0.0",
      "model_name": "SliderStyleModel",
      "state": {
       "description_width": ""
      }
     },
     "cfa12cfa008640eaa4a84e33872b9c0f": {
      "model_module": "@jupyter-widgets/controls",
      "model_module_version": "1.0.0",
      "model_name": "SliderStyleModel",
      "state": {
       "description_width": ""
      }
     },
     "cfaa57bb07974d7f9d9b2da3fbed7125": {
      "model_module": "@jupyter-widgets/controls",
      "model_module_version": "1.0.0",
      "model_name": "IntSliderModel",
      "state": {
       "description": "w",
       "layout": "IPY_MODEL_d853415dfca441509785dc43163533e7",
       "max": 300,
       "min": -300,
       "style": "IPY_MODEL_4a344308292f48a5a8f5ef23f5cb35d5",
       "value": 102
      }
     },
     "cfbbbecad58c4ae8a3386420c343def5": {
      "model_module": "@jupyter-widgets/base",
      "model_module_version": "1.0.0",
      "model_name": "LayoutModel",
      "state": {}
     },
     "cfbcb51eae0d45d5b497bba163de55b5": {
      "model_module": "@jupyter-widgets/controls",
      "model_module_version": "1.0.0",
      "model_name": "IntSliderModel",
      "state": {
       "description": "dy",
       "layout": "IPY_MODEL_6d710b3826df4b25a40bc2b3b4257d43",
       "min": -100,
       "style": "IPY_MODEL_408871657b3a49e1aaf1575004613c88"
      }
     },
     "cfc42e85a02d4cc3a90f760736017703": {
      "model_module": "@jupyter-widgets/base",
      "model_module_version": "1.0.0",
      "model_name": "LayoutModel",
      "state": {}
     },
     "cfe0245f48dd46f288899164a0a516bd": {
      "model_module": "@jupyter-widgets/base",
      "model_module_version": "1.0.0",
      "model_name": "LayoutModel",
      "state": {}
     },
     "d00062981ce7408482a743fc2ceb6602": {
      "model_module": "@jupyter-widgets/base",
      "model_module_version": "1.0.0",
      "model_name": "LayoutModel",
      "state": {}
     },
     "d01240ca20bf4e438c4f59530776f144": {
      "model_module": "jp_proxy_widget",
      "model_module_version": "^0.3.4",
      "model_name": "JSProxyModel",
      "state": {
       "_model_module_version": "^0.3.4",
       "_send_counter": 2,
       "_view_module_version": "^0.3.4",
       "error_msg": "No error",
       "layout": "IPY_MODEL_32ea6d58b7d14d52af1ea024f738485b",
       "rendered": true,
       "status": "Got results."
      }
     },
     "d02d01235e7a41b2854466446ea553e6": {
      "model_module": "@jupyter-widgets/controls",
      "model_module_version": "1.0.0",
      "model_name": "IntSliderModel",
      "state": {
       "description": "red",
       "layout": "IPY_MODEL_c650655ae4d74728b4021f6c921df9ef",
       "max": 255,
       "style": "IPY_MODEL_2d96f23bc6174fdbb9c5669ec901c7cc",
       "value": 255
      }
     },
     "d03f96aa10e64b6c8138092e035a2900": {
      "model_module": "@jupyter-widgets/controls",
      "model_module_version": "1.0.0",
      "model_name": "HTMLModel",
      "state": {
       "layout": "IPY_MODEL_dd9d04494d2b4e9ab95331b4e5686841",
       "style": "IPY_MODEL_c8408daa8eae4c0cb4f93df44aa93bf8",
       "value": "<img src=\"interactive_circle.png\" id=\"snapshot_id_23_1536247025635\"/>\n <div id=\"snapshot_id_24_1536247025635\">interactive_circle.png</div>"
      }
     },
     "d0709f5fc127471fa647d58108b5261b": {
      "model_module": "@jupyter-widgets/base",
      "model_module_version": "1.0.0",
      "model_name": "LayoutModel",
      "state": {}
     },
     "d0887bb28339491099f8a29d80d04de5": {
      "model_module": "@jupyter-widgets/controls",
      "model_module_version": "1.0.0",
      "model_name": "IntSliderModel",
      "state": {
       "description": "red",
       "layout": "IPY_MODEL_9d8d41caee2342e6ac952ca629b983ad",
       "max": 255,
       "style": "IPY_MODEL_5cf3cac98ec2425d8288506ecd9be9d5",
       "value": 255
      }
     },
     "d0b2a1f5bc104761968b1bc483afc644": {
      "model_module": "@jupyter-widgets/controls",
      "model_module_version": "1.0.0",
      "model_name": "IntSliderModel",
      "state": {
       "description": "r",
       "layout": "IPY_MODEL_a89e0eae175246b4813f7ab11a7d7dbc",
       "style": "IPY_MODEL_92ba613b77e24e91994e5756cb58ab09",
       "value": 50
      }
     },
     "d0b973946afe459db32f2d424fbd03d5": {
      "model_module": "@jupyter-widgets/controls",
      "model_module_version": "1.0.0",
      "model_name": "DescriptionStyleModel",
      "state": {
       "description_width": ""
      }
     },
     "d0c0dee0922c469aad59bd249675d036": {
      "model_module": "@jupyter-widgets/controls",
      "model_module_version": "1.0.0",
      "model_name": "IntSliderModel",
      "state": {
       "description": "red",
       "layout": "IPY_MODEL_97cac1033881494ca21c650aa515ccf1",
       "max": 255,
       "style": "IPY_MODEL_c91f43116f3647e6a3c8f92e72b5b6dc",
       "value": 90
      }
     },
     "d0ca7f495cfa4489923a3e0bdf804d9a": {
      "model_module": "@jupyter-widgets/controls",
      "model_module_version": "1.0.0",
      "model_name": "DescriptionStyleModel",
      "state": {
       "description_width": ""
      }
     },
     "d1219b07e9bf4ca4bc3e5687f20a155f": {
      "model_module": "@jupyter-widgets/base",
      "model_module_version": "1.0.0",
      "model_name": "LayoutModel",
      "state": {}
     },
     "d13f88b8840543bf8d24db2259a4b4ab": {
      "model_module": "@jupyter-widgets/base",
      "model_module_version": "1.0.0",
      "model_name": "LayoutModel",
      "state": {}
     },
     "d1650c137f8443c7a95fc490533752eb": {
      "model_module": "@jupyter-widgets/controls",
      "model_module_version": "1.0.0",
      "model_name": "SliderStyleModel",
      "state": {
       "description_width": ""
      }
     },
     "d196b922cf4042258da63e117d905660": {
      "model_module": "@jupyter-widgets/controls",
      "model_module_version": "1.0.0",
      "model_name": "SliderStyleModel",
      "state": {
       "description_width": ""
      }
     },
     "d1a91629c0a5400a8d022d15c9134685": {
      "model_module": "@jupyter-widgets/base",
      "model_module_version": "1.0.0",
      "model_name": "LayoutModel",
      "state": {}
     },
     "d1ab587eed194597bdf7f29b7a4daa22": {
      "model_module": "@jupyter-widgets/controls",
      "model_module_version": "1.0.0",
      "model_name": "SliderStyleModel",
      "state": {
       "description_width": ""
      }
     },
     "d1ada41b2e654acda88a78603382310e": {
      "model_module": "@jupyter-widgets/base",
      "model_module_version": "1.0.0",
      "model_name": "LayoutModel",
      "state": {}
     },
     "d1ce676ee4624e63a0e23d9f9122d02a": {
      "model_module": "@jupyter-widgets/base",
      "model_module_version": "1.0.0",
      "model_name": "LayoutModel",
      "state": {}
     },
     "d1d69b5bfc8240978473818212637213": {
      "model_module": "@jupyter-widgets/controls",
      "model_module_version": "1.0.0",
      "model_name": "SliderStyleModel",
      "state": {
       "description_width": ""
      }
     },
     "d1e2031bd1614a73ab2f6f9baa7913c3": {
      "model_module": "@jupyter-widgets/base",
      "model_module_version": "1.0.0",
      "model_name": "LayoutModel",
      "state": {}
     },
     "d1f1e07bd9d247cfbf32db3951c9e4a0": {
      "model_module": "@jupyter-widgets/base",
      "model_module_version": "1.0.0",
      "model_name": "LayoutModel",
      "state": {}
     },
     "d2019cc2ffd64050bfb4a452fea7b44f": {
      "model_module": "@jupyter-widgets/controls",
      "model_module_version": "1.0.0",
      "model_name": "SliderStyleModel",
      "state": {
       "description_width": ""
      }
     },
     "d22323e6c2d349c795b64ef078c4227a": {
      "model_module": "@jupyter-widgets/controls",
      "model_module_version": "1.0.0",
      "model_name": "VBoxModel",
      "state": {
       "children": [
        "IPY_MODEL_eb1ad05366e9455598dbf6d7d608dd92",
        "IPY_MODEL_5dab7ad9b23a4aefbc48e901d2dc5c79"
       ],
       "layout": "IPY_MODEL_3cb6fe98aa4242f7a973c1f8a30b18cd"
      }
     },
     "d22f0614b98c4b1eae236fdb8c18c638": {
      "model_module": "@jupyter-widgets/base",
      "model_module_version": "1.0.0",
      "model_name": "LayoutModel",
      "state": {}
     },
     "d23452d3277f41808d6c6cfaae3f540e": {
      "model_module": "@jupyter-widgets/controls",
      "model_module_version": "1.0.0",
      "model_name": "HTMLModel",
      "state": {
       "layout": "IPY_MODEL_43fcf0ffc18747639180ddcffbe43699",
       "style": "IPY_MODEL_42cc639b4af647f28d2724b2f5028853",
       "value": "<img src=\"interactive_rectangle.png\" id=\"snapshot_id_35_1536268865491\"/>\n <div id=\"snapshot_id_36_1536268865491\">interactive_rectangle.png</div>"
      }
     },
     "d240df807fc9475097759a549fb108e5": {
      "model_module": "@jupyter-widgets/controls",
      "model_module_version": "1.0.0",
      "model_name": "IntSliderModel",
      "state": {
       "description": "green",
       "layout": "IPY_MODEL_5198649c3e604221a3fd1195ec348f38",
       "max": 255,
       "style": "IPY_MODEL_3cf6e0894b7241e49e6fe11ed4f572fa"
      }
     },
     "d25efeef59ed4c48a3064e7c8bc4b210": {
      "model_module": "@jupyter-widgets/base",
      "model_module_version": "1.0.0",
      "model_name": "LayoutModel",
      "state": {}
     },
     "d2660cc3be694b73b15f200e20384739": {
      "model_module": "@jupyter-widgets/controls",
      "model_module_version": "1.0.0",
      "model_name": "SliderStyleModel",
      "state": {
       "description_width": ""
      }
     },
     "d2a49fa0e8ac4ca5be59e1bee1b706de": {
      "model_module": "@jupyter-widgets/controls",
      "model_module_version": "1.0.0",
      "model_name": "SliderStyleModel",
      "state": {
       "description_width": ""
      }
     },
     "d2a6f861616345babe9c8d79d39ee47f": {
      "model_module": "@jupyter-widgets/controls",
      "model_module_version": "1.0.0",
      "model_name": "DescriptionStyleModel",
      "state": {
       "description_width": ""
      }
     },
     "d2c723e1d21e4cd1ae36a66547296c25": {
      "model_module": "@jupyter-widgets/controls",
      "model_module_version": "1.0.0",
      "model_name": "FloatSliderModel",
      "state": {
       "description": "alpha",
       "layout": "IPY_MODEL_8fd7a075c11a46d3bbefab2dec3cfad9",
       "max": 1,
       "step": 0.1,
       "style": "IPY_MODEL_1ac45593583245a98ce89cf39faeabed",
       "value": 1
      }
     },
     "d2c8ec80c2ee4cff88af74ed0ce3b5b0": {
      "model_module": "@jupyter-widgets/base",
      "model_module_version": "1.0.0",
      "model_name": "LayoutModel",
      "state": {}
     },
     "d2cd4e61e556453281c5ec70e4900d17": {
      "model_module": "@jupyter-widgets/controls",
      "model_module_version": "1.0.0",
      "model_name": "FloatSliderModel",
      "state": {
       "description": "arc",
       "layout": "IPY_MODEL_6d4babb2a84444899740d58c0f97d7d5",
       "max": 6.383185307179586,
       "step": 0.1,
       "style": "IPY_MODEL_d50d3a0cd7344f56a6db3839986cb8c6",
       "value": 3.9
      }
     },
     "d2cd6e8cc4254617a758c71868bdb15b": {
      "model_module": "@jupyter-widgets/controls",
      "model_module_version": "1.0.0",
      "model_name": "VBoxModel",
      "state": {
       "_dom_classes": [
        "widget-interact"
       ],
       "children": [
        "IPY_MODEL_f3341ada70f64ca0883e8179ddbaa8d9",
        "IPY_MODEL_1e3164a09cef46ff8224ab4096fde553",
        "IPY_MODEL_3d72f7f6bb214090a730452da64e73e3",
        "IPY_MODEL_00e6ec30df2f4ab9bd65dd37bd8748c5",
        "IPY_MODEL_cddd1be2ac24448f8f57806e980006a2",
        "IPY_MODEL_a4e646f06a9b458ca97daaea71a669f4",
        "IPY_MODEL_a215b94a9cb346e5aaaec2a9ca378f04",
        "IPY_MODEL_5592645c716746e39e7d59c51df49a70"
       ],
       "layout": "IPY_MODEL_7f56c435237f49bbad6e262e8646da8e"
      }
     },
     "d2e26a0c4b104027b0140a2843718a61": {
      "model_module": "@jupyter-widgets/base",
      "model_module_version": "1.0.0",
      "model_name": "LayoutModel",
      "state": {}
     },
     "d2ee1e268a02467cbec808a81abda56b": {
      "model_module": "@jupyter-widgets/base",
      "model_module_version": "1.0.0",
      "model_name": "LayoutModel",
      "state": {}
     },
     "d32b53fb0605440ea0f1d8468f138f6b": {
      "model_module": "@jupyter-widgets/controls",
      "model_module_version": "1.0.0",
      "model_name": "DescriptionStyleModel",
      "state": {
       "description_width": ""
      }
     },
     "d3361b9f65724648ae68d6f30878cf24": {
      "model_module": "@jupyter-widgets/controls",
      "model_module_version": "1.0.0",
      "model_name": "SliderStyleModel",
      "state": {
       "description_width": ""
      }
     },
     "d3678f79cb88451fa8a947b23d5ebba3": {
      "model_module": "@jupyter-widgets/controls",
      "model_module_version": "1.0.0",
      "model_name": "IntSliderModel",
      "state": {
       "description": "dy",
       "layout": "IPY_MODEL_8e5966ef828146a5a95467fcf561242e",
       "min": -100,
       "style": "IPY_MODEL_1cfd51e51bff4e43ae3bdda4f05c8190",
       "value": -25
      }
     },
     "d38d110673304e319daafa6a39990cfc": {
      "model_module": "@jupyter-widgets/base",
      "model_module_version": "1.0.0",
      "model_name": "LayoutModel",
      "state": {}
     },
     "d39a2e266d9f4d4c8b6bdc5a5e3555f9": {
      "model_module": "@jupyter-widgets/controls",
      "model_module_version": "1.0.0",
      "model_name": "SliderStyleModel",
      "state": {
       "description_width": ""
      }
     },
     "d3a2d22eb84e4a60bc996283e2d5f3eb": {
      "model_module": "@jupyter-widgets/controls",
      "model_module_version": "1.0.0",
      "model_name": "IntSliderModel",
      "state": {
       "description": "dy",
       "layout": "IPY_MODEL_e566194da9954174a1baad9fb7f211af",
       "min": -100,
       "style": "IPY_MODEL_1fa40cc8e52346bb8a847dd9158f0387",
       "value": -25
      }
     },
     "d3a363afa42c417d86212d2a0101f24f": {
      "model_module": "@jupyter-widgets/controls",
      "model_module_version": "1.0.0",
      "model_name": "TabModel",
      "state": {
       "_titles": {
        "0": "Canvas",
        "1": "Snapshot"
       },
       "children": [
        "IPY_MODEL_4e3e6bd87d1c4f4298d8ad175902f6af",
        "IPY_MODEL_bbdeec5825ba48628f614d7a1a79051b"
       ],
       "layout": "IPY_MODEL_5d83b332562f4b52b462dd8436e966ae"
      }
     },
     "d3b037df43b449028f58513bbf26df95": {
      "model_module": "@jupyter-widgets/controls",
      "model_module_version": "1.0.0",
      "model_name": "SliderStyleModel",
      "state": {
       "description_width": ""
      }
     },
     "d3b8cd63f17e4ad8adc307aeb201153d": {
      "model_module": "@jupyter-widgets/base",
      "model_module_version": "1.0.0",
      "model_name": "LayoutModel",
      "state": {}
     },
     "d3ed787919c54dfcac6482eda7beb484": {
      "model_module": "@jupyter-widgets/controls",
      "model_module_version": "1.0.0",
      "model_name": "VBoxModel",
      "state": {
       "children": [
        "IPY_MODEL_fee3b7fa2337463999f7d7e635542804",
        "IPY_MODEL_4d495982ad2942908d04c803dece103a"
       ],
       "layout": "IPY_MODEL_48857c75c1e942a99babc7e4d9afed68"
      }
     },
     "d3eec64ce798400397108160d8174df0": {
      "model_module": "@jupyter-widgets/controls",
      "model_module_version": "1.0.0",
      "model_name": "HTMLModel",
      "state": {
       "layout": "IPY_MODEL_ff2b85b3af354540b4feffc43c975ae3",
       "style": "IPY_MODEL_63f9a81969744b96bc5120f4bdf75b74",
       "value": "<img src=\"interactive_rectangle.png\" id=\"snapshot_id_19_1536267860626\"/>\n <div id=\"snapshot_id_20_1536267860626\">interactive_rectangle.png</div>"
      }
     },
     "d3f1fa849def4623a855a1c53a27eb78": {
      "model_module": "@jupyter-widgets/controls",
      "model_module_version": "1.0.0",
      "model_name": "VBoxModel",
      "state": {
       "children": [
        "IPY_MODEL_e0a1cc0237734710a39ccced2933c321",
        "IPY_MODEL_645127a3289045d98b16205088beb533"
       ],
       "layout": "IPY_MODEL_a4806d08eea944289eaa92240ca246d7"
      }
     },
     "d3ff73723e024a5c859ec53815869662": {
      "model_module": "@jupyter-widgets/controls",
      "model_module_version": "1.0.0",
      "model_name": "HTMLModel",
      "state": {
       "layout": "IPY_MODEL_9f061010ae2844448948eaeb114fd9b4",
       "style": "IPY_MODEL_d0b973946afe459db32f2d424fbd03d5",
       "value": "<img src=\"interactive_image.png\" id=\"snapshot_id_29_1536960817180\"/>\n <div id=\"snapshot_id_30_1536960817180\">interactive_image.png</div>"
      }
     },
     "d42e82ba935b458aa1202cbe2a08ffbf": {
      "model_module": "@jupyter-widgets/base",
      "model_module_version": "1.0.0",
      "model_name": "LayoutModel",
      "state": {}
     },
     "d4639b34e0e14db39a4bfe608e0d2340": {
      "model_module": "@jupyter-widgets/controls",
      "model_module_version": "1.0.0",
      "model_name": "SliderStyleModel",
      "state": {
       "description_width": ""
      }
     },
     "d489cc2f4f5844a08f377f7dbbf5b611": {
      "model_module": "@jupyter-widgets/base",
      "model_module_version": "1.0.0",
      "model_name": "LayoutModel",
      "state": {}
     },
     "d4aa3be275c549bf98a27301f9ea643d": {
      "model_module": "@jupyter-widgets/controls",
      "model_module_version": "1.0.0",
      "model_name": "IntSliderModel",
      "state": {
       "description": "dy",
       "layout": "IPY_MODEL_7e3f6f144840474e8d63baf2c2fe32e8",
       "min": -100,
       "style": "IPY_MODEL_8b6a643a7903485e8d2792361b47d345"
      }
     },
     "d4c739f16e634587b293f737f2f7b649": {
      "model_module": "@jupyter-widgets/controls",
      "model_module_version": "1.0.0",
      "model_name": "IntSliderModel",
      "state": {
       "description": "green",
       "layout": "IPY_MODEL_df7a4d1d7e4e419d880b0f31047bc61d",
       "max": 255,
       "style": "IPY_MODEL_a2e2e81a41604807a6ef8e383250fce5",
       "value": 127
      }
     },
     "d4ca52050c6b48c1b2547e3457aff758": {
      "model_module": "@jupyter-widgets/controls",
      "model_module_version": "1.0.0",
      "model_name": "IntSliderModel",
      "state": {
       "description": "dy",
       "layout": "IPY_MODEL_ded69e43b6b14b9082e0218e9a530a31",
       "min": -100,
       "style": "IPY_MODEL_e7fae1a7050b402f97cbcb57d710fecf",
       "value": -25
      }
     },
     "d4cecc9f7adc473abd5ce05686fc5d91": {
      "model_module": "@jupyter-widgets/controls",
      "model_module_version": "1.0.0",
      "model_name": "SliderStyleModel",
      "state": {
       "description_width": ""
      }
     },
     "d4d3a91362c8496e8f5e556addf2f7b5": {
      "model_module": "@jupyter-widgets/output",
      "model_module_version": "1.0.0",
      "model_name": "OutputModel",
      "state": {
       "layout": "IPY_MODEL_bfb470373db640ee9f814c2952770fc9",
       "outputs": [
        {
         "name": "stdout",
         "output_type": "stream",
         "text": "color is 'rgba(127,127,127,0)'\n"
        }
       ]
      }
     },
     "d4f5cdefc1ca423db00de00bdd678c74": {
      "model_module": "@jupyter-widgets/controls",
      "model_module_version": "1.0.0",
      "model_name": "SliderStyleModel",
      "state": {
       "description_width": ""
      }
     },
     "d50d3a0cd7344f56a6db3839986cb8c6": {
      "model_module": "@jupyter-widgets/controls",
      "model_module_version": "1.0.0",
      "model_name": "SliderStyleModel",
      "state": {
       "description_width": ""
      }
     },
     "d524e06b39a546d3b0a0558930e6108b": {
      "model_module": "@jupyter-widgets/base",
      "model_module_version": "1.0.0",
      "model_name": "LayoutModel",
      "state": {}
     },
     "d53ad9e3a55943b98f908ba3f928df60": {
      "model_module": "@jupyter-widgets/base",
      "model_module_version": "1.0.0",
      "model_name": "LayoutModel",
      "state": {}
     },
     "d541291b54994d64b270097d8966c4bd": {
      "model_module": "@jupyter-widgets/output",
      "model_module_version": "1.0.0",
      "model_name": "OutputModel",
      "state": {
       "layout": "IPY_MODEL_e77047fc9fab487fbd8934f5e59023e8"
      }
     },
     "d564cf7922044760ba2c31a0f498dc94": {
      "model_module": "@jupyter-widgets/controls",
      "model_module_version": "1.0.0",
      "model_name": "CheckboxModel",
      "state": {
       "description": "fill",
       "disabled": false,
       "layout": "IPY_MODEL_5f71c0e3f729442e9cdf7bdf989171e4",
       "style": "IPY_MODEL_c26c8efc4ffa49468281cc2afd872f08",
       "value": true
      }
     },
     "d57d96059d1d4333a51ee9af939a8d09": {
      "model_module": "@jupyter-widgets/controls",
      "model_module_version": "1.0.0",
      "model_name": "IntSliderModel",
      "state": {
       "description": "y",
       "layout": "IPY_MODEL_870356d9728644b9b7edf8379c9f5f47",
       "min": -100,
       "style": "IPY_MODEL_a97bb7463ece4e34ae08696d76379e62"
      }
     },
     "d5a5472d832540eaa737314b68a3a3a2": {
      "model_module": "@jupyter-widgets/base",
      "model_module_version": "1.0.0",
      "model_name": "LayoutModel",
      "state": {}
     },
     "d5ba70ed6b704761b746ea3db23d7b0e": {
      "model_module": "@jupyter-widgets/controls",
      "model_module_version": "1.0.0",
      "model_name": "FloatSliderModel",
      "state": {
       "description": "alpha",
       "layout": "IPY_MODEL_8f93193711984d49b71f3ea0aca28b5b",
       "max": 1,
       "step": 0.1,
       "style": "IPY_MODEL_7ef7d494d49340799b56de3cec702d9c",
       "value": 1
      }
     },
     "d5eb5ae4f43543c3a4303561be44b5ab": {
      "model_module": "@jupyter-widgets/base",
      "model_module_version": "1.0.0",
      "model_name": "LayoutModel",
      "state": {}
     },
     "d619c8ad159e4439bdc75fef297eb164": {
      "model_module": "@jupyter-widgets/controls",
      "model_module_version": "1.0.0",
      "model_name": "HTMLModel",
      "state": {
       "layout": "IPY_MODEL_1000747db3224025aa9f220ec43e0a10",
       "style": "IPY_MODEL_8931306267154b1f9030a35620922ea0",
       "value": "<img src=\"interactive_rectangle2.png\" id=\"snapshot_id_15_1536267636629\"/>\n <div id=\"snapshot_id_16_1536267636629\">interactive_rectangle2.png</div>"
      }
     },
     "d62b7d9d1b5641b486a86b4a85775d40": {
      "model_module": "jp_proxy_widget",
      "model_module_version": "^0.3.4",
      "model_name": "JSProxyModel",
      "state": {
       "_model_module_version": "^0.3.4",
       "_send_counter": 8,
       "_view_module_version": "^0.3.4",
       "error_msg": "No error",
       "layout": "IPY_MODEL_1208b49613fd4be594bcfb44dd1db62f",
       "rendered": true,
       "status": "Not yet rendered"
      }
     },
     "d62fd1b878a24442ba33a29738dac5e8": {
      "model_module": "@jupyter-widgets/base",
      "model_module_version": "1.0.0",
      "model_name": "LayoutModel",
      "state": {}
     },
     "d63e8015a7b54f2191c19d9256dab4ea": {
      "model_module": "@jupyter-widgets/controls",
      "model_module_version": "1.0.0",
      "model_name": "VBoxModel",
      "state": {
       "_dom_classes": [
        "widget-interact"
       ],
       "children": [
        "IPY_MODEL_c611b9cb751d4b9fb639bc404d7affe3",
        "IPY_MODEL_379d65cbe55a40429de2b4b19a6a3290",
        "IPY_MODEL_315c0709d80e494399a96ddc344661d4",
        "IPY_MODEL_2963ea3916734e9d8f9d311195ff5b06",
        "IPY_MODEL_8a3cd1498f134c97a7d34af24a608ec5",
        "IPY_MODEL_bb054894ab9a4d04820314239d49fe4d",
        "IPY_MODEL_725cea37ab154e93b93e6d150aa2825e",
        "IPY_MODEL_7d7172352da74ff7a76dab1a08ff1a63",
        "IPY_MODEL_d705206fe98743288cc02b04b7f97d69",
        "IPY_MODEL_7f9c383b8d5a40dea7e6ccff3f8d5df4",
        "IPY_MODEL_306fdc110419461984a11d92173150a9",
        "IPY_MODEL_4980acb4035c4cbd9fc41ce981ee2004",
        "IPY_MODEL_04a301abe8e84ebdb7ffb664ffbef756"
       ],
       "layout": "IPY_MODEL_cc4480b6368f4988a9ca75f82fa0d3f4"
      }
     },
     "d66e4b88c77846a1847dd5f6177fe23b": {
      "model_module": "@jupyter-widgets/controls",
      "model_module_version": "1.0.0",
      "model_name": "IntSliderModel",
      "state": {
       "description": "red",
       "layout": "IPY_MODEL_1830fa3e4a8141caad7a0816790c27db",
       "max": 255,
       "style": "IPY_MODEL_9ce08209fb0d4805b04dece439059979",
       "value": 255
      }
     },
     "d6743d86e74d4d608510648b7268f0e7": {
      "model_module": "@jupyter-widgets/controls",
      "model_module_version": "1.0.0",
      "model_name": "IntSliderModel",
      "state": {
       "description": "red",
       "layout": "IPY_MODEL_b7f3da87efa74cce87bb768bdc9fb870",
       "max": 255,
       "style": "IPY_MODEL_e359b730c9214fac8f06e33b9f3b85e4",
       "value": 255
      }
     },
     "d68929939063440a8c1c399ead0d9b38": {
      "model_module": "@jupyter-widgets/controls",
      "model_module_version": "1.0.0",
      "model_name": "SliderStyleModel",
      "state": {
       "description_width": ""
      }
     },
     "d6bb29c9c3c34159afe9480d0f0d0063": {
      "model_module": "@jupyter-widgets/controls",
      "model_module_version": "1.0.0",
      "model_name": "FloatSliderModel",
      "state": {
       "description": "alpha",
       "layout": "IPY_MODEL_5ce051275ef54c379c8c113ad2438a21",
       "max": 1,
       "step": 0.1,
       "style": "IPY_MODEL_b6494a4a0cf346b986fc8dee4f9f848b",
       "value": 1
      }
     },
     "d705206fe98743288cc02b04b7f97d69": {
      "model_module": "@jupyter-widgets/controls",
      "model_module_version": "1.0.0",
      "model_name": "IntSliderModel",
      "state": {
       "description": "sy",
       "layout": "IPY_MODEL_2b86948bdf714e53b0ed584c81c8d7d3",
       "max": 600,
       "style": "IPY_MODEL_80aa11b85231477f88a4a34d26560175",
       "value": 15
      }
     },
     "d733671ae3d64d3ab2213ee72119df7c": {
      "model_module": "@jupyter-widgets/controls",
      "model_module_version": "1.0.0",
      "model_name": "FloatSliderModel",
      "state": {
       "description": "alpha",
       "layout": "IPY_MODEL_f660fee8e512432199370c43956b6958",
       "max": 1,
       "step": 0.1,
       "style": "IPY_MODEL_1fc3bb3d328d41038b62e196aa0a8dde",
       "value": 1
      }
     },
     "d77b6462ad514ee8876ac19f2c622c6b": {
      "model_module": "@jupyter-widgets/controls",
      "model_module_version": "1.0.0",
      "model_name": "IntSliderModel",
      "state": {
       "description": "y",
       "layout": "IPY_MODEL_75b8407b3a7d47b2b2bf8c3687d77742",
       "min": -100,
       "style": "IPY_MODEL_4e1d1a8733fc4cdbb4495a74bc300bd7"
      }
     },
     "d795fc1c655a4c2983521394b5ed6597": {
      "model_module": "@jupyter-widgets/controls",
      "model_module_version": "1.0.0",
      "model_name": "SliderStyleModel",
      "state": {
       "description_width": ""
      }
     },
     "d7ab38be6987414485b598a9d5f21995": {
      "model_module": "@jupyter-widgets/controls",
      "model_module_version": "1.0.0",
      "model_name": "SliderStyleModel",
      "state": {
       "description_width": ""
      }
     },
     "d81ae6fc7a504f21b8238804dc3332ce": {
      "model_module": "@jupyter-widgets/base",
      "model_module_version": "1.0.0",
      "model_name": "LayoutModel",
      "state": {}
     },
     "d853415dfca441509785dc43163533e7": {
      "model_module": "@jupyter-widgets/base",
      "model_module_version": "1.0.0",
      "model_name": "LayoutModel",
      "state": {}
     },
     "d860346a4d4c4ed6a843f3216705e6de": {
      "model_module": "jp_proxy_widget",
      "model_module_version": "^0.3.4",
      "model_name": "JSProxyModel",
      "state": {
       "_model_module_version": "^0.3.4",
       "_send_counter": 2,
       "_view_module_version": "^0.3.4",
       "error_msg": "No error",
       "layout": "IPY_MODEL_4244e0c3771c4898942ed4036cba7fb0",
       "rendered": true,
       "status": "Got results."
      }
     },
     "d86e8db51e6a4c39b9ab087dd78b9999": {
      "model_module": "@jupyter-widgets/controls",
      "model_module_version": "1.0.0",
      "model_name": "FloatSliderModel",
      "state": {
       "description": "alpha",
       "layout": "IPY_MODEL_26e4900072e1472292fe343d0ff4e056",
       "max": 1,
       "step": 0.1,
       "style": "IPY_MODEL_98f730cba2124d9f8cb7ab336db82e7f",
       "value": 1
      }
     },
     "d8731cce1a234f04a4695181cfb54a7d": {
      "model_module": "@jupyter-widgets/base",
      "model_module_version": "1.0.0",
      "model_name": "LayoutModel",
      "state": {}
     },
     "d87f1c365bcf49368c2dbc0fd69b6d4c": {
      "model_module": "@jupyter-widgets/base",
      "model_module_version": "1.0.0",
      "model_name": "LayoutModel",
      "state": {}
     },
     "d8865abe04a448bcb6dc9639d3943fd0": {
      "model_module": "jp_proxy_widget",
      "model_module_version": "^0.3.4",
      "model_name": "JSProxyModel",
      "state": {
       "_model_module_version": "^0.3.4",
       "_send_counter": 2,
       "_view_module_version": "^0.3.4",
       "error_msg": "No error",
       "layout": "IPY_MODEL_2f469495cf944a398f9eb31a7df84eb7",
       "rendered": true,
       "status": "Got results."
      }
     },
     "d8910ae1ca1d4bda8882afb2679eaa0e": {
      "model_module": "@jupyter-widgets/base",
      "model_module_version": "1.0.0",
      "model_name": "LayoutModel",
      "state": {}
     },
     "d8be6d0468cb47c390dd854aa7d167ba": {
      "model_module": "@jupyter-widgets/controls",
      "model_module_version": "1.0.0",
      "model_name": "SliderStyleModel",
      "state": {
       "description_width": ""
      }
     },
     "d8e2262e5a4c4ebfbab4e4e351031511": {
      "model_module": "@jupyter-widgets/base",
      "model_module_version": "1.0.0",
      "model_name": "LayoutModel",
      "state": {}
     },
     "d919f5d720e64059bf27feca2c76d681": {
      "model_module": "@jupyter-widgets/base",
      "model_module_version": "1.0.0",
      "model_name": "LayoutModel",
      "state": {}
     },
     "d91ecb53827045b9be510f517cf209c6": {
      "model_module": "@jupyter-widgets/base",
      "model_module_version": "1.0.0",
      "model_name": "LayoutModel",
      "state": {}
     },
     "d94c866fd871461f8531a21a8894da17": {
      "model_module": "@jupyter-widgets/controls",
      "model_module_version": "1.0.0",
      "model_name": "IntSliderModel",
      "state": {
       "description": "dx",
       "layout": "IPY_MODEL_a907ed66ad484584a6a2dca6aaf5fc04",
       "min": -100,
       "style": "IPY_MODEL_aeb3cd3b74c3402e936664314ac099c8",
       "value": -12
      }
     },
     "d97c44cbd6934c4ba079da1b565f3917": {
      "model_module": "@jupyter-widgets/controls",
      "model_module_version": "1.0.0",
      "model_name": "VBoxModel",
      "state": {
       "_dom_classes": [
        "widget-interact"
       ],
       "children": [
        "IPY_MODEL_b7838dd715044888aeaec9fdc76f3e39",
        "IPY_MODEL_2e3700642f6c448f8f7c6904103bd311",
        "IPY_MODEL_dac725c55628422d81d17796626d1e3b",
        "IPY_MODEL_fa71a705efd74b09b968b39c4b2b2dbe",
        "IPY_MODEL_c0d4c7c92eae43e882773625772efb27",
        "IPY_MODEL_c2cbf731987143b2af202f430d066388",
        "IPY_MODEL_e00e28fd4b1b41828fe0f531c23c9f5c",
        "IPY_MODEL_7cc25c3914fc4fd49d9c6389ea6c1b99",
        "IPY_MODEL_e2c5cd70dab04a759fcca9d405217a26",
        "IPY_MODEL_3c8d093f27ca43e98c709bdec227af87",
        "IPY_MODEL_66ba2aa5484d4887b27d7839101f531f",
        "IPY_MODEL_e20c1868eb674822bdf62185ed173dab"
       ],
       "layout": "IPY_MODEL_3b2146ed6a794cc28dff2017141ecff9"
      }
     },
     "d9956828338f4695a1f5db59dd93669a": {
      "model_module": "@jupyter-widgets/controls",
      "model_module_version": "1.0.0",
      "model_name": "IntSliderModel",
      "state": {
       "description": "dx",
       "layout": "IPY_MODEL_1e92340eac6a468c94270f36659eee74",
       "min": -100,
       "style": "IPY_MODEL_0fa1afb4ceb347fc9d0a5c5b49b11c87",
       "value": -50
      }
     },
     "d998abd016614883aa956a795c055f83": {
      "model_module": "@jupyter-widgets/base",
      "model_module_version": "1.0.0",
      "model_name": "LayoutModel",
      "state": {}
     },
     "d9b9d58fac3545cdae2dfceb1f2a73ab": {
      "model_module": "@jupyter-widgets/base",
      "model_module_version": "1.0.0",
      "model_name": "LayoutModel",
      "state": {}
     },
     "d9bbec76e58244b0b3d1de3df4573b5c": {
      "model_module": "@jupyter-widgets/controls",
      "model_module_version": "1.0.0",
      "model_name": "DescriptionStyleModel",
      "state": {
       "description_width": ""
      }
     },
     "d9f068785a9c422abd494a633656441a": {
      "model_module": "@jupyter-widgets/base",
      "model_module_version": "1.0.0",
      "model_name": "LayoutModel",
      "state": {}
     },
     "da1ebfdf11064cc9863ace7d1f976301": {
      "model_module": "jp_proxy_widget",
      "model_module_version": "^0.3.4",
      "model_name": "JSProxyModel",
      "state": {
       "_model_module_version": "^0.3.4",
       "_send_counter": 11,
       "_view_module_version": "^0.3.4",
       "error_msg": "No error",
       "layout": "IPY_MODEL_b8e66a149abb47b6aa364842a8786bb1",
       "rendered": true,
       "status": "Got results."
      }
     },
     "da488c2eb02645ccacf80641c0784067": {
      "model_module": "@jupyter-widgets/base",
      "model_module_version": "1.0.0",
      "model_name": "LayoutModel",
      "state": {}
     },
     "da523e903d2c431894755f0ba0f5a2d4": {
      "model_module": "@jupyter-widgets/controls",
      "model_module_version": "1.0.0",
      "model_name": "VBoxModel",
      "state": {
       "_dom_classes": [
        "widget-interact"
       ],
       "children": [
        "IPY_MODEL_2e6e7f1bd8864607b58b4841cc91d3b7",
        "IPY_MODEL_e1491ca1e07e4150b886aecc22040b14",
        "IPY_MODEL_3a0d309da4274cd6a4c0bc706bc51d81",
        "IPY_MODEL_f76a57e9deae43409bd029d9a760c435",
        "IPY_MODEL_3943f1b913fe4b1e94e48c0a87f56dfd",
        "IPY_MODEL_ba45b99b941e49149faa3102ac0c6bcb",
        "IPY_MODEL_fa62757de3c74db9b81fc5a0178d7852",
        "IPY_MODEL_912bfb4b917e4ffdafcb0a2f358c2668",
        "IPY_MODEL_08d6ef584754424bb9a274086ea50c18",
        "IPY_MODEL_bb806e7ec94f45a2b8cea6e2ae2255b9",
        "IPY_MODEL_3af941c9e342491c87e295f01a280228",
        "IPY_MODEL_ca258b5b09504167b78ab64eefe65565"
       ],
       "layout": "IPY_MODEL_c0cb3cd4ab494d718bc2675688df6894"
      }
     },
     "da53c74d82b049e581d8363ff5daba3c": {
      "model_module": "@jupyter-widgets/controls",
      "model_module_version": "1.0.0",
      "model_name": "DescriptionStyleModel",
      "state": {
       "description_width": ""
      }
     },
     "da82f84716a94fc8bbe5631f5be582a1": {
      "model_module": "@jupyter-widgets/controls",
      "model_module_version": "1.0.0",
      "model_name": "VBoxModel",
      "state": {
       "children": [
        "IPY_MODEL_60b5b862ab7e4d7aaa8ce24191ab6e24",
        "IPY_MODEL_685d33cc6c0d4570ae478d344c6b31ac"
       ],
       "layout": "IPY_MODEL_9f94ba3004d74657a0786be9f7be1693"
      }
     },
     "da8385d05b7a4debb1899852ddbc734a": {
      "model_module": "@jupyter-widgets/controls",
      "model_module_version": "1.0.0",
      "model_name": "SliderStyleModel",
      "state": {
       "description_width": ""
      }
     },
     "da8e78505c804e40a83cb4917f49f0fe": {
      "model_module": "@jupyter-widgets/controls",
      "model_module_version": "1.0.0",
      "model_name": "IntSliderModel",
      "state": {
       "description": "y",
       "layout": "IPY_MODEL_201194823eac4061aea9989626d7a85a",
       "min": -100,
       "style": "IPY_MODEL_bd8885ee5ba040a18d194a8f4e2c374a",
       "value": -100
      }
     },
     "da9169aa4f7e4d1e8cc2679672d489c1": {
      "model_module": "@jupyter-widgets/base",
      "model_module_version": "1.0.0",
      "model_name": "LayoutModel",
      "state": {}
     },
     "da97d6afd91f4be6a8f3289007f9ab2c": {
      "model_module": "@jupyter-widgets/controls",
      "model_module_version": "1.0.0",
      "model_name": "IntSliderModel",
      "state": {
       "description": "dy",
       "layout": "IPY_MODEL_d2c8ec80c2ee4cff88af74ed0ce3b5b0",
       "max": 300,
       "min": -300,
       "style": "IPY_MODEL_286ea4c7e2794df0a9aa52bc80986ede",
       "value": -25
      }
     },
     "daa81e61b74947cc818a446fd80ed6ea": {
      "model_module": "@jupyter-widgets/base",
      "model_module_version": "1.0.0",
      "model_name": "LayoutModel",
      "state": {}
     },
     "dac725c55628422d81d17796626d1e3b": {
      "model_module": "@jupyter-widgets/controls",
      "model_module_version": "1.0.0",
      "model_name": "IntSliderModel",
      "state": {
       "description": "w",
       "layout": "IPY_MODEL_f3a0ca12ebcd438aa781da85f04cd4b9",
       "min": -100,
       "style": "IPY_MODEL_5a7e8eb1300749dda22c3f637d791ba6"
      }
     },
     "dae373942a2b4e8fa4c60b3a635e4d7f": {
      "model_module": "@jupyter-widgets/base",
      "model_module_version": "1.0.0",
      "model_name": "LayoutModel",
      "state": {}
     },
     "dae60a9b002543e9a552e9daf4576b9a": {
      "model_module": "@jupyter-widgets/controls",
      "model_module_version": "1.0.0",
      "model_name": "IntSliderModel",
      "state": {
       "description": "lineWidth",
       "layout": "IPY_MODEL_7ec268b6b17748918e24f610fa8443c8",
       "max": 20,
       "style": "IPY_MODEL_cf924c9c868b46e9b325a1eaf3a9aae1",
       "value": 3
      }
     },
     "dae6ec53ddb742848f39962af1172ebe": {
      "model_module": "@jupyter-widgets/controls",
      "model_module_version": "1.0.0",
      "model_name": "SliderStyleModel",
      "state": {
       "description_width": ""
      }
     },
     "db0755d3aaa4465ea839aee6faf992c3": {
      "model_module": "@jupyter-widgets/controls",
      "model_module_version": "1.0.0",
      "model_name": "IntSliderModel",
      "state": {
       "description": "green",
       "layout": "IPY_MODEL_f5c6c7ba963447798adb520a3185cf45",
       "max": 255,
       "style": "IPY_MODEL_2328df1c179b4876ad127f784edc929b"
      }
     },
     "db0ce166b6924696a705aee247ce77a0": {
      "model_module": "@jupyter-widgets/base",
      "model_module_version": "1.0.0",
      "model_name": "LayoutModel",
      "state": {}
     },
     "db1db6179a454a59bbde59e397193f2e": {
      "model_module": "@jupyter-widgets/controls",
      "model_module_version": "1.0.0",
      "model_name": "HTMLModel",
      "state": {
       "layout": "IPY_MODEL_e954dff4c0d14af79f3465888de53ff8",
       "style": "IPY_MODEL_740855e0bebf4f35b41ae7c98254eed0",
       "value": "<img src=\"interactive_rectangle2.png\" id=\"snapshot_id_43_1536323814311\"/>\n <div id=\"snapshot_id_44_1536323814311\">interactive_rectangle2.png</div>"
      }
     },
     "db20cd32cc654c3e8bb2cf4e0dac38a9": {
      "model_module": "@jupyter-widgets/controls",
      "model_module_version": "1.0.0",
      "model_name": "FloatSliderModel",
      "state": {
       "description": "alpha",
       "layout": "IPY_MODEL_0626be14a03e46c183c08afcd0ec95e4",
       "max": 1,
       "step": 0.1,
       "style": "IPY_MODEL_48fd1af6dcd54b858b470952f5e20a3f",
       "value": 1
      }
     },
     "db2aa71d00024b1e9acf939d78cb3d3c": {
      "model_module": "@jupyter-widgets/controls",
      "model_module_version": "1.0.0",
      "model_name": "DescriptionStyleModel",
      "state": {
       "description_width": ""
      }
     },
     "db2d94ea87bc4955884f78c84c4db7c9": {
      "model_module": "@jupyter-widgets/controls",
      "model_module_version": "1.0.0",
      "model_name": "SliderStyleModel",
      "state": {
       "description_width": ""
      }
     },
     "db3a5ae362bd42ac92cb70274cd5fa5f": {
      "model_module": "@jupyter-widgets/base",
      "model_module_version": "1.0.0",
      "model_name": "LayoutModel",
      "state": {}
     },
     "db457d15f1fd4495abd89e926ee56e87": {
      "model_module": "@jupyter-widgets/base",
      "model_module_version": "1.0.0",
      "model_name": "LayoutModel",
      "state": {}
     },
     "db5bdac5a92948b98142d2826c2a654b": {
      "model_module": "@jupyter-widgets/controls",
      "model_module_version": "1.0.0",
      "model_name": "IntSliderModel",
      "state": {
       "description": "blue",
       "layout": "IPY_MODEL_f21723f381ac443eb640955d6df26724",
       "max": 255,
       "style": "IPY_MODEL_dbce462ae8d847f9b65751d8f1b76d1b",
       "value": 255
      }
     },
     "db77563cdc6b4d53860ab1cad21d37d7": {
      "model_module": "@jupyter-widgets/controls",
      "model_module_version": "1.0.0",
      "model_name": "SliderStyleModel",
      "state": {
       "description_width": ""
      }
     },
     "db793658e2034355b40fd7a31973f70f": {
      "model_module": "@jupyter-widgets/base",
      "model_module_version": "1.0.0",
      "model_name": "LayoutModel",
      "state": {}
     },
     "dbaea43170f24428b8b449ad55b2c82d": {
      "model_module": "@jupyter-widgets/controls",
      "model_module_version": "1.0.0",
      "model_name": "SliderStyleModel",
      "state": {
       "description_width": ""
      }
     },
     "dbaf081b173a45f7bf11e0b400805ce8": {
      "model_module": "@jupyter-widgets/controls",
      "model_module_version": "1.0.0",
      "model_name": "IntSliderModel",
      "state": {
       "description": "green",
       "layout": "IPY_MODEL_0b95c4c8fdb041f19c79512c9059213e",
       "max": 255,
       "style": "IPY_MODEL_2d76bf95824445969bc3a7b390089690"
      }
     },
     "dbba1e826ae04c4ca554235ac52af713": {
      "model_module": "@jupyter-widgets/base",
      "model_module_version": "1.0.0",
      "model_name": "LayoutModel",
      "state": {}
     },
     "dbce462ae8d847f9b65751d8f1b76d1b": {
      "model_module": "@jupyter-widgets/controls",
      "model_module_version": "1.0.0",
      "model_name": "SliderStyleModel",
      "state": {
       "description_width": ""
      }
     },
     "dbd54d9aa4a141ee9a6de65c07589d0d": {
      "model_module": "@jupyter-widgets/controls",
      "model_module_version": "1.0.0",
      "model_name": "IntSliderModel",
      "state": {
       "description": "dx",
       "layout": "IPY_MODEL_4d3f305a35df4725be3caad1ee53f222",
       "min": -100,
       "style": "IPY_MODEL_3f36d1c365a04599b896a9682b5cfba1",
       "value": -50
      }
     },
     "dbdb1c5d6f83451ca77c4d356d62abc3": {
      "model_module": "@jupyter-widgets/base",
      "model_module_version": "1.0.0",
      "model_name": "LayoutModel",
      "state": {}
     },
     "dbeef444dbc04857bf0df30320cafd0f": {
      "model_module": "@jupyter-widgets/base",
      "model_module_version": "1.0.0",
      "model_name": "LayoutModel",
      "state": {}
     },
     "dbf431fcd49c4b88aa0e06f75cec3110": {
      "model_module": "@jupyter-widgets/controls",
      "model_module_version": "1.0.0",
      "model_name": "IntSliderModel",
      "state": {
       "description": "y",
       "layout": "IPY_MODEL_ecf61ffa288040bba982acb3a3745647",
       "min": -100,
       "style": "IPY_MODEL_d2a49fa0e8ac4ca5be59e1bee1b706de"
      }
     },
     "dc74f83e801c4c8d97ae7f2bfd979f65": {
      "model_module": "@jupyter-widgets/controls",
      "model_module_version": "1.0.0",
      "model_name": "DescriptionStyleModel",
      "state": {
       "description_width": ""
      }
     },
     "dc761fffd24f4f74bd0fd80cb685b585": {
      "model_module": "@jupyter-widgets/base",
      "model_module_version": "1.0.0",
      "model_name": "LayoutModel",
      "state": {}
     },
     "dc7a50006e0f4c8282437f87cfde3f62": {
      "model_module": "@jupyter-widgets/controls",
      "model_module_version": "1.0.0",
      "model_name": "IntSliderModel",
      "state": {
       "description": "lineWidth",
       "layout": "IPY_MODEL_f6e2534e68144b43a9fdae752be3b257",
       "max": 20,
       "style": "IPY_MODEL_953d9e255045410a9ab50f4c51da1860",
       "value": 3
      }
     },
     "dcc4bc8216db4d659a38b3c3c084a27d": {
      "model_module": "@jupyter-widgets/base",
      "model_module_version": "1.0.0",
      "model_name": "LayoutModel",
      "state": {}
     },
     "dce597f0bdfd45bcb8a8f8babe22d310": {
      "model_module": "@jupyter-widgets/base",
      "model_module_version": "1.0.0",
      "model_name": "LayoutModel",
      "state": {}
     },
     "dd148ca9f1a54b7f8b363ef661479c05": {
      "model_module": "@jupyter-widgets/controls",
      "model_module_version": "1.0.0",
      "model_name": "HTMLModel",
      "state": {
       "layout": "IPY_MODEL_bdb67a6303b34171b01ae54e012c11f0",
       "style": "IPY_MODEL_f97b7b9bd4b542b190353ca6174627ff",
       "value": "<img src=\"interactive_rectangle.png\" id=\"snapshot_id_3_1536267088046\"/>\n <div id=\"snapshot_id_4_1536267088046\">interactive_rectangle.png</div>"
      }
     },
     "dd1d122e9e5f40fa8eaa8ef3da1d96c6": {
      "model_module": "@jupyter-widgets/base",
      "model_module_version": "1.0.0",
      "model_name": "LayoutModel",
      "state": {}
     },
     "dd5c42b76ef6466e95373b52b53a0654": {
      "model_module": "@jupyter-widgets/base",
      "model_module_version": "1.0.0",
      "model_name": "LayoutModel",
      "state": {}
     },
     "dd6cec31f1184e32b032f603b932ada6": {
      "model_module": "@jupyter-widgets/controls",
      "model_module_version": "1.0.0",
      "model_name": "VBoxModel",
      "state": {
       "_dom_classes": [
        "widget-interact"
       ],
       "children": [
        "IPY_MODEL_028923014a394f6d8f57325039850cb0",
        "IPY_MODEL_2ed53716cbfb4930b6f2d38798db8ed8",
        "IPY_MODEL_5ddae8e746174b0e8a3d522910ca6ec2",
        "IPY_MODEL_be0d23da9e884dafa721bb34190c775c",
        "IPY_MODEL_ce09b659de6641d9a1dba74a86e88dd9",
        "IPY_MODEL_09882c0f28c24ce0a6a1169714214bf0",
        "IPY_MODEL_69da7c609298498283da7b6ad8b551ce",
        "IPY_MODEL_b7f3dc6cdaa142789f6135a9280eff5d",
        "IPY_MODEL_dae60a9b002543e9a552e9daf4576b9a",
        "IPY_MODEL_0636ebbe717145b49cfed57df280d29a",
        "IPY_MODEL_c94bf6997ffa43ce824dc66924f18cc9",
        "IPY_MODEL_4c809ac4793846b89d40a84782f7efde",
        "IPY_MODEL_d86e8db51e6a4c39b9ab087dd78b9999",
        "IPY_MODEL_086895d5615c4299818d42ee4ec28ca3"
       ],
       "layout": "IPY_MODEL_ef0c311c2bc247f6b3be70b9aa2f2420"
      }
     },
     "dd7c4e5fce814bd5bda5b8bc4fbf4dbf": {
      "model_module": "@jupyter-widgets/controls",
      "model_module_version": "1.0.0",
      "model_name": "IntSliderModel",
      "state": {
       "description": "green",
       "layout": "IPY_MODEL_1cebc6ca142b426ca866e00db12afa37",
       "max": 255,
       "style": "IPY_MODEL_c93e2d5d660b4e99b657000bd3ec3ae3"
      }
     },
     "dd87b5a13f874675a29a796a3e3cde77": {
      "model_module": "@jupyter-widgets/base",
      "model_module_version": "1.0.0",
      "model_name": "LayoutModel",
      "state": {}
     },
     "dd90881f2b41455cb3bf36652bd2b063": {
      "model_module": "@jupyter-widgets/base",
      "model_module_version": "1.0.0",
      "model_name": "LayoutModel",
      "state": {}
     },
     "dd9d04494d2b4e9ab95331b4e5686841": {
      "model_module": "@jupyter-widgets/base",
      "model_module_version": "1.0.0",
      "model_name": "LayoutModel",
      "state": {}
     },
     "dda6c4af1bd14558916865156306cace": {
      "model_module": "@jupyter-widgets/base",
      "model_module_version": "1.0.0",
      "model_name": "LayoutModel",
      "state": {}
     },
     "ddd3393332a5443e94ae144936613414": {
      "model_module": "@jupyter-widgets/controls",
      "model_module_version": "1.0.0",
      "model_name": "SliderStyleModel",
      "state": {
       "description_width": ""
      }
     },
     "ddef74b9d21243599d42482f82df84cb": {
      "model_module": "@jupyter-widgets/controls",
      "model_module_version": "1.0.0",
      "model_name": "IntSliderModel",
      "state": {
       "description": "green",
       "layout": "IPY_MODEL_2e1c983d417a4f2f84bf78c2c2c47e71",
       "max": 255,
       "style": "IPY_MODEL_c7ef28a872db47d682a1e2fb852a8e3e"
      }
     },
     "ddf5f8cc685549199944f2af4ae5e7ef": {
      "model_module": "@jupyter-widgets/base",
      "model_module_version": "1.0.0",
      "model_name": "LayoutModel",
      "state": {}
     },
     "ddfd2a1ae1b84f9fbaa5c208d6d9105f": {
      "model_module": "@jupyter-widgets/base",
      "model_module_version": "1.0.0",
      "model_name": "LayoutModel",
      "state": {}
     },
     "de0addb33f8d4f748ddbdf4715f06ea3": {
      "model_module": "jp_proxy_widget",
      "model_module_version": "^0.3.4",
      "model_name": "JSProxyModel",
      "state": {
       "_model_module_version": "^0.3.4",
       "_send_counter": 8,
       "_view_module_version": "^0.3.4",
       "error_msg": "Error: Error in element.New SyntaxError: Unexpected token )",
       "layout": "IPY_MODEL_07f1621bf2ff452ca1db38ef44fb98ba",
       "rendered": true,
       "status": "Rendered."
      }
     },
     "de10f80fee2d4343aa67a300996fe8c8": {
      "model_module": "@jupyter-widgets/controls",
      "model_module_version": "1.0.0",
      "model_name": "IntSliderModel",
      "state": {
       "description": "green",
       "layout": "IPY_MODEL_68a5d472c808460f88575659d5105c02",
       "max": 255,
       "style": "IPY_MODEL_9e955b4de449492dbbeb6011b1801f2f",
       "value": 127
      }
     },
     "de3492bfd1184a9f94ff3b963b75fc13": {
      "model_module": "@jupyter-widgets/base",
      "model_module_version": "1.0.0",
      "model_name": "LayoutModel",
      "state": {}
     },
     "de488c6c728e4a4088d69353d3e53422": {
      "model_module": "@jupyter-widgets/controls",
      "model_module_version": "1.0.0",
      "model_name": "VBoxModel",
      "state": {
       "_dom_classes": [
        "widget-interact"
       ],
       "children": [
        "IPY_MODEL_a7b79cc948c1472eaaeb045dceb9b5e1",
        "IPY_MODEL_e93882178118463293a2741d64b03d15",
        "IPY_MODEL_f7aaec5aece8452e8c351af6478aa83a",
        "IPY_MODEL_7eacc4a310c44d019d0bba76fb4fe95b",
        "IPY_MODEL_57fcb6511a72439ba54b7a1835ce9373",
        "IPY_MODEL_6e1e8faadadf4ad4bc820f529156cdfc",
        "IPY_MODEL_7913ece20bb84999aef7db3488be134a",
        "IPY_MODEL_6d5afc2ea58840f5ae4870822ca386d1",
        "IPY_MODEL_f7a572f44dd7448ea0e1a4ccb1dda9e4",
        "IPY_MODEL_cc78da8ecdff4e4d8ac60a121090426d",
        "IPY_MODEL_f2f8e59f6dca4cdc80799e3e4230c7c2",
        "IPY_MODEL_e9a0b448db2b49928cd5b2eba383b755",
        "IPY_MODEL_99ddfccd1226411db9e9ac32fad70dfa",
        "IPY_MODEL_9c7427fbc0894abcbc8fb20bd6e60063"
       ],
       "layout": "IPY_MODEL_9e35aea2782e4ecb80b50a9c6c27639a"
      }
     },
     "de4aad0c3d944fa99f7b24f6b8a7973a": {
      "model_module": "@jupyter-widgets/controls",
      "model_module_version": "1.0.0",
      "model_name": "SliderStyleModel",
      "state": {
       "description_width": ""
      }
     },
     "de5e9366588d41f780d0a3642db3bef7": {
      "model_module": "@jupyter-widgets/base",
      "model_module_version": "1.0.0",
      "model_name": "LayoutModel",
      "state": {}
     },
     "de7107679763482d967dae5e8378e587": {
      "model_module": "@jupyter-widgets/base",
      "model_module_version": "1.0.0",
      "model_name": "LayoutModel",
      "state": {}
     },
     "de9862f8f87942648d32604a87b12c73": {
      "model_module": "@jupyter-widgets/controls",
      "model_module_version": "1.0.0",
      "model_name": "IntSliderModel",
      "state": {
       "description": "lineWidth",
       "layout": "IPY_MODEL_3e25631bc1f54f50b20fe57a847614fb",
       "max": 20,
       "style": "IPY_MODEL_6b38d1c60f5a4d6fa574a8c6f0a3eef1",
       "value": 3
      }
     },
     "ded69e43b6b14b9082e0218e9a530a31": {
      "model_module": "@jupyter-widgets/base",
      "model_module_version": "1.0.0",
      "model_name": "LayoutModel",
      "state": {}
     },
     "df02f93d21514af4b486662738a4c803": {
      "model_module": "@jupyter-widgets/base",
      "model_module_version": "1.0.0",
      "model_name": "LayoutModel",
      "state": {}
     },
     "df387ebf851c4805ac460a506dda15a9": {
      "model_module": "jp_proxy_widget",
      "model_module_version": "^0.3.4",
      "model_name": "JSProxyModel",
      "state": {
       "_model_module_version": "^0.3.4",
       "_send_counter": 2,
       "_view_module_version": "^0.3.4",
       "error_msg": "No error",
       "layout": "IPY_MODEL_a978688fa6d84dd4be067a0b6c83ddec",
       "rendered": true,
       "status": "Got results."
      }
     },
     "df3a643769c54959a85cc571b9fadeb8": {
      "model_module": "@jupyter-widgets/base",
      "model_module_version": "1.0.0",
      "model_name": "LayoutModel",
      "state": {}
     },
     "df3cd7d1aa754bed8f77bcdd1e70d5f1": {
      "model_module": "@jupyter-widgets/controls",
      "model_module_version": "1.0.0",
      "model_name": "SliderStyleModel",
      "state": {
       "description_width": ""
      }
     },
     "df46c5a9cc2c479490826df7ce60d501": {
      "model_module": "@jupyter-widgets/controls",
      "model_module_version": "1.0.0",
      "model_name": "DescriptionStyleModel",
      "state": {
       "description_width": ""
      }
     },
     "df5db89374544bec9858fa5e6039bdcd": {
      "model_module": "@jupyter-widgets/controls",
      "model_module_version": "1.0.0",
      "model_name": "IntSliderModel",
      "state": {
       "description": "blue",
       "layout": "IPY_MODEL_726f550660b849dd8934676e66b138d7",
       "max": 255,
       "style": "IPY_MODEL_3f0586023cfc4e79ae4c477593a84b5a",
       "value": 157
      }
     },
     "df7a4d1d7e4e419d880b0f31047bc61d": {
      "model_module": "@jupyter-widgets/base",
      "model_module_version": "1.0.0",
      "model_name": "LayoutModel",
      "state": {}
     },
     "df7b3597ab8a4ff8b65c4f3be4abf655": {
      "model_module": "@jupyter-widgets/controls",
      "model_module_version": "1.0.0",
      "model_name": "SliderStyleModel",
      "state": {
       "description_width": ""
      }
     },
     "df84fa7f92924c3e84870f415c4a2807": {
      "model_module": "@jupyter-widgets/base",
      "model_module_version": "1.0.0",
      "model_name": "LayoutModel",
      "state": {}
     },
     "df898d04eb9147aaafb054cfc84208b2": {
      "model_module": "@jupyter-widgets/controls",
      "model_module_version": "1.0.0",
      "model_name": "IntSliderModel",
      "state": {
       "description": "y",
       "layout": "IPY_MODEL_4dbe75d5e0874cc380e9c6180e6838fa",
       "min": -100,
       "style": "IPY_MODEL_f6d900c4ae03476bbda2e8c488f7ae68"
      }
     },
     "df8e82b9bebd454180b445e85a235612": {
      "model_module": "@jupyter-widgets/controls",
      "model_module_version": "1.0.0",
      "model_name": "IntSliderModel",
      "state": {
       "description": "lineWidth",
       "layout": "IPY_MODEL_b8d7427f1ac0478fa5f9fdc6ae7cc8f3",
       "max": 20,
       "style": "IPY_MODEL_cb352164ec654c069607b41a35727582",
       "value": 3
      }
     },
     "dff309bf8b3844c3b41c58354ed707d4": {
      "model_module": "@jupyter-widgets/base",
      "model_module_version": "1.0.0",
      "model_name": "LayoutModel",
      "state": {}
     },
     "e005e1478ee54e209036c8c3207013b9": {
      "model_module": "@jupyter-widgets/base",
      "model_module_version": "1.0.0",
      "model_name": "LayoutModel",
      "state": {}
     },
     "e00ddbdbb1214e8caee6a962aa8657f6": {
      "model_module": "@jupyter-widgets/controls",
      "model_module_version": "1.0.0",
      "model_name": "VBoxModel",
      "state": {
       "children": [
        "IPY_MODEL_05e830773cac4398bac55ebbd4742f2b",
        "IPY_MODEL_1d9134c7350c4eb3bc038da102f3eb1c"
       ],
       "layout": "IPY_MODEL_51a73dfa73cc4b13ae008e8867d871a3"
      }
     },
     "e00e28fd4b1b41828fe0f531c23c9f5c": {
      "model_module": "@jupyter-widgets/controls",
      "model_module_version": "1.0.0",
      "model_name": "IntSliderModel",
      "state": {
       "description": "lineWidth",
       "layout": "IPY_MODEL_ba923784be6945e581e17069df1601df",
       "max": 20,
       "style": "IPY_MODEL_3a60bffe0d094b08aab9b53591731c9e",
       "value": 3
      }
     },
     "e04218aa025445888af612b046571c60": {
      "model_module": "jp_proxy_widget",
      "model_module_version": "^0.3.4",
      "model_name": "JSProxyModel",
      "state": {
       "_model_module_version": "^0.3.4",
       "_send_counter": 8,
       "_view_module_version": "^0.3.4",
       "error_msg": "ReferenceError: image_canvas is not defined",
       "layout": "IPY_MODEL_0ff24370f34945b399f1c2bcdc9900fd",
       "rendered": true,
       "status": "Rendered."
      }
     },
     "e0564c7a56554eceb2a26522d9810f81": {
      "model_module": "@jupyter-widgets/controls",
      "model_module_version": "1.0.0",
      "model_name": "VBoxModel",
      "state": {
       "_dom_classes": [
        "widget-interact"
       ],
       "children": [
        "IPY_MODEL_5802f977a96a4cb0868143dd08549481",
        "IPY_MODEL_3f07e7eb5db348b28e21b87aac6ca1f2",
        "IPY_MODEL_e5435ace42bb4ae29394ec4d3dfa5fda",
        "IPY_MODEL_8627d22ab35f47b4a864ea88f67bac25",
        "IPY_MODEL_6bd2a7c1d6e94dbfb16a52f86ce0a812",
        "IPY_MODEL_d4ca52050c6b48c1b2547e3457aff758",
        "IPY_MODEL_77ee900ecbcc4efa94202755e8cabc96",
        "IPY_MODEL_a84675d11d67424fb6a9343edc54cc6e",
        "IPY_MODEL_743cd709f7fa41219527bf7d464da3b6",
        "IPY_MODEL_26b13228cb334bd6ac7d3184617b3a14",
        "IPY_MODEL_2e560254a2aa47f6bfa4611fba173a78",
        "IPY_MODEL_0820e16ac24e4e2ab5bb87eef8113dee",
        "IPY_MODEL_0caa6c38d047432d8437cb74fad8de3b",
        "IPY_MODEL_f8bcaad5bb39448a8670c1dfe4507c88"
       ],
       "layout": "IPY_MODEL_7d5ec6f5e9464f8fa173e1092a4d49ab"
      }
     },
     "e05d8698614f44e4be752b84c2cf044f": {
      "model_module": "@jupyter-widgets/controls",
      "model_module_version": "1.0.0",
      "model_name": "IntSliderModel",
      "state": {
       "description": "w",
       "layout": "IPY_MODEL_2c3ecbe80928411bb80f0b3a06066223",
       "max": 300,
       "min": -300,
       "style": "IPY_MODEL_674b16e63f1642048bb6ad44070988e9",
       "value": 250
      }
     },
     "e08df3d34c844af6ad6882c76d7c9cfd": {
      "model_module": "@jupyter-widgets/controls",
      "model_module_version": "1.0.0",
      "model_name": "DescriptionStyleModel",
      "state": {
       "description_width": ""
      }
     },
     "e0a1cc0237734710a39ccced2933c321": {
      "model_module": "jp_proxy_widget",
      "model_module_version": "^0.3.4",
      "model_name": "JSProxyModel",
      "state": {
       "_model_module_version": "^0.3.4",
       "_send_counter": 2101,
       "_view_module_version": "^0.3.4",
       "error_msg": "No error",
       "layout": "IPY_MODEL_6984b119343d445d94d0a80eb550ecb3",
       "rendered": true,
       "status": "Got results."
      }
     },
     "e0b80e37615d4caf9802ab5782cea119": {
      "model_module": "@jupyter-widgets/controls",
      "model_module_version": "1.0.0",
      "model_name": "FloatSliderModel",
      "state": {
       "description": "alpha",
       "layout": "IPY_MODEL_fd725ccb3b304ee095f66041fb006870",
       "max": 1,
       "step": 0.1,
       "style": "IPY_MODEL_073caac3c8f54eb0b927bc56bd31fab4",
       "value": 1
      }
     },
     "e0b9e17141304f02b96350569ed8ebf7": {
      "model_module": "@jupyter-widgets/controls",
      "model_module_version": "1.0.0",
      "model_name": "SliderStyleModel",
      "state": {
       "description_width": ""
      }
     },
     "e0ccbe12073c4957b1112c8e058aaf3f": {
      "model_module": "jp_proxy_widget",
      "model_module_version": "^0.3.4",
      "model_name": "JSProxyModel",
      "state": {
       "_model_module_version": "^0.3.4",
       "_send_counter": 7,
       "_view_module_version": "^0.3.4",
       "error_msg": "No error",
       "layout": "IPY_MODEL_23df2c891e2d48d89afcc76b817e8241",
       "rendered": true,
       "status": "Got results."
      }
     },
     "e115a27d3872487bbace53aa26ab22ca": {
      "model_module": "@jupyter-widgets/base",
      "model_module_version": "1.0.0",
      "model_name": "LayoutModel",
      "state": {}
     },
     "e1217eb7b54c4c8b8666a9df40497021": {
      "model_module": "@jupyter-widgets/controls",
      "model_module_version": "1.0.0",
      "model_name": "VBoxModel",
      "state": {
       "children": [
        "IPY_MODEL_ace7cbbdcdd14deaa8d4ed74791d607a",
        "IPY_MODEL_92e3305b9bbc4f3c918dc4f77c13c3a0"
       ],
       "layout": "IPY_MODEL_c603de0ffe524fe9970d191be2bec02a"
      }
     },
     "e1223ba971ef4031ba21e4f2a5130939": {
      "model_module": "@jupyter-widgets/controls",
      "model_module_version": "1.0.0",
      "model_name": "VBoxModel",
      "state": {
       "children": [
        "IPY_MODEL_5d3a3b3f80634ec1a6744b7f7a79a519",
        "IPY_MODEL_aa423ca757cf42ddb653097b44cc96a5"
       ],
       "layout": "IPY_MODEL_c3620d4443b2419f989b9e7754da4f1f"
      }
     },
     "e138db6a2e5149f5ad8104ed0b3ae41f": {
      "model_module": "@jupyter-widgets/base",
      "model_module_version": "1.0.0",
      "model_name": "LayoutModel",
      "state": {}
     },
     "e1491ca1e07e4150b886aecc22040b14": {
      "model_module": "@jupyter-widgets/controls",
      "model_module_version": "1.0.0",
      "model_name": "IntSliderModel",
      "state": {
       "description": "y",
       "layout": "IPY_MODEL_4058b1e23a90471eb4ca008b7ff750ba",
       "min": -100,
       "style": "IPY_MODEL_21d381f803b8484aae27273d3599000f",
       "value": 44
      }
     },
     "e17ce102f5694f0380adbd04975fc627": {
      "model_module": "@jupyter-widgets/controls",
      "model_module_version": "1.0.0",
      "model_name": "SliderStyleModel",
      "state": {
       "description_width": ""
      }
     },
     "e18626c761a34850b9e34f1b6818b9ae": {
      "model_module": "@jupyter-widgets/base",
      "model_module_version": "1.0.0",
      "model_name": "LayoutModel",
      "state": {}
     },
     "e1991ecc4f304602bf07ac4f53ffba18": {
      "model_module": "jp_proxy_widget",
      "model_module_version": "^0.3.4",
      "model_name": "JSProxyModel",
      "state": {
       "_model_module_version": "^0.3.4",
       "_send_counter": 887,
       "_view_module_version": "^0.3.4",
       "error_msg": "No error",
       "layout": "IPY_MODEL_7d61a2ecfa8940c49fe91f32145025b8",
       "rendered": true,
       "status": "Got results."
      }
     },
     "e1b4027107304460a650f380f9ff5a5e": {
      "model_module": "@jupyter-widgets/controls",
      "model_module_version": "1.0.0",
      "model_name": "IntSliderModel",
      "state": {
       "description": "x",
       "layout": "IPY_MODEL_aa331e7213d547a6af42a3951e2d8391",
       "min": -100,
       "style": "IPY_MODEL_fd24a03937a54d3ab9ffd2997e8eaa9d"
      }
     },
     "e1c3c19caca343e08ef4d96e1aac07a0": {
      "model_module": "@jupyter-widgets/base",
      "model_module_version": "1.0.0",
      "model_name": "LayoutModel",
      "state": {}
     },
     "e1fe63be5762464fabdb4f5f803c0698": {
      "model_module": "@jupyter-widgets/base",
      "model_module_version": "1.0.0",
      "model_name": "LayoutModel",
      "state": {}
     },
     "e20bc2a8f1d3486387a3bfe562975811": {
      "model_module": "@jupyter-widgets/controls",
      "model_module_version": "1.0.0",
      "model_name": "HTMLModel",
      "state": {
       "layout": "IPY_MODEL_0464484d936844668677a598d59f112f",
       "style": "IPY_MODEL_85ea6c74b08648cea83180ca178b36dd",
       "value": "<img src=\"interactive_image.png\" id=\"snapshot_id_1_1536958621892\"/>\n <div id=\"snapshot_id_2_1536958621892\">interactive_image.png</div>"
      }
     },
     "e20c1868eb674822bdf62185ed173dab": {
      "model_module": "@jupyter-widgets/output",
      "model_module_version": "1.0.0",
      "model_name": "OutputModel",
      "state": {
       "layout": "IPY_MODEL_1ae303bd44574e82bd3a2d4bbb2aee97",
       "outputs": [
        {
         "ename": "NameError",
         "evalue": "global name 'start' is not defined",
         "output_type": "error",
         "traceback": [
          "\u001b[0;31m---------------------------------------------------------------------------\u001b[0m",
          "\u001b[0;31mNameError\u001b[0m                                 Traceback (most recent call last)",
          "\u001b[0;32m//anaconda/lib/python2.7/site-packages/ipywidgets/widgets/interaction.pyc\u001b[0m in \u001b[0;36mupdate\u001b[0;34m(self, *args)\u001b[0m\n\u001b[1;32m    248\u001b[0m                     \u001b[0mvalue\u001b[0m \u001b[0;34m=\u001b[0m \u001b[0mwidget\u001b[0m\u001b[0;34m.\u001b[0m\u001b[0mget_interact_value\u001b[0m\u001b[0;34m(\u001b[0m\u001b[0;34m)\u001b[0m\u001b[0;34m\u001b[0m\u001b[0m\n\u001b[1;32m    249\u001b[0m                     \u001b[0mself\u001b[0m\u001b[0;34m.\u001b[0m\u001b[0mkwargs\u001b[0m\u001b[0;34m[\u001b[0m\u001b[0mwidget\u001b[0m\u001b[0;34m.\u001b[0m\u001b[0m_kwarg\u001b[0m\u001b[0;34m]\u001b[0m \u001b[0;34m=\u001b[0m \u001b[0mvalue\u001b[0m\u001b[0;34m\u001b[0m\u001b[0m\n\u001b[0;32m--> 250\u001b[0;31m                 \u001b[0mself\u001b[0m\u001b[0;34m.\u001b[0m\u001b[0mresult\u001b[0m \u001b[0;34m=\u001b[0m \u001b[0mself\u001b[0m\u001b[0;34m.\u001b[0m\u001b[0mf\u001b[0m\u001b[0;34m(\u001b[0m\u001b[0;34m**\u001b[0m\u001b[0mself\u001b[0m\u001b[0;34m.\u001b[0m\u001b[0mkwargs\u001b[0m\u001b[0;34m)\u001b[0m\u001b[0;34m\u001b[0m\u001b[0m\n\u001b[0m\u001b[1;32m    251\u001b[0m                 \u001b[0mshow_inline_matplotlib_plots\u001b[0m\u001b[0;34m(\u001b[0m\u001b[0;34m)\u001b[0m\u001b[0;34m\u001b[0m\u001b[0m\n\u001b[1;32m    252\u001b[0m                 \u001b[0;32mif\u001b[0m \u001b[0mself\u001b[0m\u001b[0;34m.\u001b[0m\u001b[0mauto_display\u001b[0m \u001b[0;32mand\u001b[0m \u001b[0mself\u001b[0m\u001b[0;34m.\u001b[0m\u001b[0mresult\u001b[0m \u001b[0;32mis\u001b[0m \u001b[0;32mnot\u001b[0m \u001b[0mNone\u001b[0m\u001b[0;34m:\u001b[0m\u001b[0;34m\u001b[0m\u001b[0m\n",
          "\u001b[0;32m<ipython-input-3-bbe17df0fb1f>\u001b[0m in \u001b[0;36mchange_circle\u001b[0;34m(x, y, w, h, degrees, fill, lineWidth, red, green, blue, alpha)\u001b[0m\n\u001b[1;32m     17\u001b[0m     \u001b[0mcanvas\u001b[0m\u001b[0;34m.\u001b[0m\u001b[0mreset_canvas\u001b[0m\u001b[0;34m(\u001b[0m\u001b[0;34m)\u001b[0m\u001b[0;34m\u001b[0m\u001b[0m\n\u001b[1;32m     18\u001b[0m     canvas.rect(x=x, y=y, w=w, h=h, degrees=degrees, color=color,\n\u001b[0;32m---> 19\u001b[0;31m                  \u001b[0mstart\u001b[0m\u001b[0;34m=\u001b[0m\u001b[0mstart\u001b[0m\u001b[0;34m,\u001b[0m \u001b[0marc\u001b[0m\u001b[0;34m=\u001b[0m\u001b[0marc\u001b[0m\u001b[0;34m,\u001b[0m\u001b[0;34m\u001b[0m\u001b[0m\n\u001b[0m\u001b[1;32m     20\u001b[0m                  fill=fill, lineWidth=lineWidth)\n\u001b[1;32m     21\u001b[0m     \u001b[0mcanvas\u001b[0m\u001b[0;34m.\u001b[0m\u001b[0mfit\u001b[0m\u001b[0;34m(\u001b[0m\u001b[0;34m)\u001b[0m\u001b[0;34m\u001b[0m\u001b[0m\n",
          "\u001b[0;31mNameError\u001b[0m: global name 'start' is not defined"
         ]
        }
       ]
      }
     },
     "e21d1b2c97cf40a3a97da224a6fc6084": {
      "model_module": "jp_proxy_widget",
      "model_module_version": "^0.3.4",
      "model_name": "JSProxyModel",
      "state": {
       "_model_module_version": "^0.3.4",
       "_send_counter": 2,
       "_view_module_version": "^0.3.4",
       "error_msg": "No error",
       "layout": "IPY_MODEL_006dd5c513074a388c13700f91733f63",
       "rendered": true,
       "status": "Got results."
      }
     },
     "e2334c3c19c2476b9eac05ce52baa0a7": {
      "model_module": "@jupyter-widgets/controls",
      "model_module_version": "1.0.0",
      "model_name": "VBoxModel",
      "state": {
       "children": [
        "IPY_MODEL_67721d0e499d45a59adc83cc41f11b8a",
        "IPY_MODEL_55bc4d95cabc4e34b7cac4a2022ffebd"
       ],
       "layout": "IPY_MODEL_3dc212351fc440058bf1bd983c272dd6"
      }
     },
     "e25a65add43c4eb6b724c9c8a8f61077": {
      "model_module": "@jupyter-widgets/controls",
      "model_module_version": "1.0.0",
      "model_name": "SliderStyleModel",
      "state": {
       "description_width": ""
      }
     },
     "e29f8324b7044ca1907df2bd788dcd67": {
      "model_module": "@jupyter-widgets/controls",
      "model_module_version": "1.0.0",
      "model_name": "IntSliderModel",
      "state": {
       "description": "x",
       "layout": "IPY_MODEL_fb93666fd93040ffb7d3daa37993b0b7",
       "min": -100,
       "style": "IPY_MODEL_846b56bc0cb040579bd55f9ecf7b2971"
      }
     },
     "e2b7b7cf6bd84cf2b8e2508e1eadd77d": {
      "model_module": "@jupyter-widgets/controls",
      "model_module_version": "1.0.0",
      "model_name": "SliderStyleModel",
      "state": {
       "description_width": ""
      }
     },
     "e2bdd590eafb4b29bd45badd368b63ab": {
      "model_module": "@jupyter-widgets/controls",
      "model_module_version": "1.0.0",
      "model_name": "IntSliderModel",
      "state": {
       "description": "degrees",
       "layout": "IPY_MODEL_6da10e7cb7a74048b28d9ea1e637e9a1",
       "max": 360,
       "min": -360,
       "style": "IPY_MODEL_65fe27f2b93549f5b41303a40ce083ab"
      }
     },
     "e2c5cd70dab04a759fcca9d405217a26": {
      "model_module": "@jupyter-widgets/controls",
      "model_module_version": "1.0.0",
      "model_name": "IntSliderModel",
      "state": {
       "description": "green",
       "layout": "IPY_MODEL_db793658e2034355b40fd7a31973f70f",
       "max": 255,
       "style": "IPY_MODEL_85220fa1498145299948a92bcc54cb21"
      }
     },
     "e30b9f8815a14163bbe74aa778a268f3": {
      "model_module": "@jupyter-widgets/controls",
      "model_module_version": "1.0.0",
      "model_name": "DescriptionStyleModel",
      "state": {
       "description_width": ""
      }
     },
     "e30f0a68a2d14f918cf07bf1b8c1a5ee": {
      "model_module": "@jupyter-widgets/controls",
      "model_module_version": "1.0.0",
      "model_name": "IntSliderModel",
      "state": {
       "description": "x",
       "layout": "IPY_MODEL_c73d7d27386a44fcb10e338ef688961f",
       "min": -100,
       "style": "IPY_MODEL_b77facf65ffe48769f5f878ee774afd8",
       "value": 92
      }
     },
     "e336a8457be84d469462aca68a82411a": {
      "model_module": "@jupyter-widgets/base",
      "model_module_version": "1.0.0",
      "model_name": "LayoutModel",
      "state": {}
     },
     "e359b730c9214fac8f06e33b9f3b85e4": {
      "model_module": "@jupyter-widgets/controls",
      "model_module_version": "1.0.0",
      "model_name": "SliderStyleModel",
      "state": {
       "description_width": ""
      }
     },
     "e39bd63376d643db8de9dd24a3faf4de": {
      "model_module": "@jupyter-widgets/controls",
      "model_module_version": "1.0.0",
      "model_name": "IntSliderModel",
      "state": {
       "description": "degrees",
       "layout": "IPY_MODEL_6e9116a2d0ac4b4e92cd52d7c4f73c33",
       "max": 360,
       "min": -360,
       "style": "IPY_MODEL_f74304c5167846aa8ea7a9a542299b00",
       "value": 45
      }
     },
     "e3a27991e36c432ca73ed49b734ca438": {
      "model_module": "@jupyter-widgets/base",
      "model_module_version": "1.0.0",
      "model_name": "LayoutModel",
      "state": {}
     },
     "e3e3ac2930bd41aeb53bc9b593566d00": {
      "model_module": "@jupyter-widgets/controls",
      "model_module_version": "1.0.0",
      "model_name": "IntSliderModel",
      "state": {
       "description": "sy",
       "layout": "IPY_MODEL_9ed341f3949744aba37326718312272a",
       "max": 45,
       "min": -15,
       "style": "IPY_MODEL_e25a65add43c4eb6b724c9c8a8f61077",
       "value": 15
      }
     },
     "e3f0163e0a9c414a9e23e893bdb1d803": {
      "model_module": "@jupyter-widgets/controls",
      "model_module_version": "1.0.0",
      "model_name": "IntSliderModel",
      "state": {
       "description": "green",
       "layout": "IPY_MODEL_6d137b4cff794842ab283cf701df56b8",
       "max": 255,
       "style": "IPY_MODEL_062a3a4367764cf49196ece2907e2f0e"
      }
     },
     "e3f96fdaf0654b9bb5ef5fe5d95dbefb": {
      "model_module": "@jupyter-widgets/base",
      "model_module_version": "1.0.0",
      "model_name": "LayoutModel",
      "state": {}
     },
     "e442bb46ab404fabadd1719504b8e14f": {
      "model_module": "@jupyter-widgets/controls",
      "model_module_version": "1.0.0",
      "model_name": "SliderStyleModel",
      "state": {
       "description_width": ""
      }
     },
     "e4758ba7d91e43ce8d74d6c2fd0c0536": {
      "model_module": "@jupyter-widgets/controls",
      "model_module_version": "1.0.0",
      "model_name": "SliderStyleModel",
      "state": {
       "description_width": ""
      }
     },
     "e47f032df6b444b488e74843da63ab7a": {
      "model_module": "jp_proxy_widget",
      "model_module_version": "^0.3.4",
      "model_name": "JSProxyModel",
      "state": {
       "_model_module_version": "^0.3.4",
       "_send_counter": 2,
       "_view_module_version": "^0.3.4",
       "error_msg": "No error",
       "layout": "IPY_MODEL_6ffd4bbf9b714444829715cc1ff9b183",
       "rendered": true,
       "status": "Got results."
      }
     },
     "e4aef8f45a9e449c8055e60176b338a1": {
      "model_module": "@jupyter-widgets/controls",
      "model_module_version": "1.0.0",
      "model_name": "SliderStyleModel",
      "state": {
       "description_width": ""
      }
     },
     "e4e2367e30d84ba4990d16528a0fbb9b": {
      "model_module": "@jupyter-widgets/base",
      "model_module_version": "1.0.0",
      "model_name": "LayoutModel",
      "state": {}
     },
     "e5198c63df6a4f98ad0c52b2aa2751f6": {
      "model_module": "@jupyter-widgets/base",
      "model_module_version": "1.0.0",
      "model_name": "LayoutModel",
      "state": {}
     },
     "e5435ace42bb4ae29394ec4d3dfa5fda": {
      "model_module": "@jupyter-widgets/controls",
      "model_module_version": "1.0.0",
      "model_name": "IntSliderModel",
      "state": {
       "description": "w",
       "layout": "IPY_MODEL_3772dc481e804676b7bc1c71e74e4b2c",
       "max": 300,
       "min": -300,
       "style": "IPY_MODEL_8537e06fad374f5da60b58bb29bb53bb",
       "value": 100
      }
     },
     "e55dc9e053e2472ab463a184639bbe2d": {
      "model_module": "@jupyter-widgets/controls",
      "model_module_version": "1.0.0",
      "model_name": "DescriptionStyleModel",
      "state": {
       "description_width": ""
      }
     },
     "e566194da9954174a1baad9fb7f211af": {
      "model_module": "@jupyter-widgets/base",
      "model_module_version": "1.0.0",
      "model_name": "LayoutModel",
      "state": {}
     },
     "e5726578961245af926719b2c86787dd": {
      "model_module": "@jupyter-widgets/controls",
      "model_module_version": "1.0.0",
      "model_name": "IntSliderModel",
      "state": {
       "description": "x",
       "layout": "IPY_MODEL_4cfed11be5bd48028bd6eeaa7b3ee27e",
       "min": -100,
       "style": "IPY_MODEL_6d8b5f90ac914fa4b0cbbab5eb40e737",
       "value": -47
      }
     },
     "e5a3b89a6f29427f8fb4de0aab04a10e": {
      "model_module": "@jupyter-widgets/controls",
      "model_module_version": "1.0.0",
      "model_name": "DescriptionStyleModel",
      "state": {
       "description_width": ""
      }
     },
     "e5ad087ecd704aef8eb110a44eeb02a5": {
      "model_module": "@jupyter-widgets/controls",
      "model_module_version": "1.0.0",
      "model_name": "IntSliderModel",
      "state": {
       "description": "green",
       "layout": "IPY_MODEL_48f7f4fd69324bacaeffc487047dbffc",
       "max": 255,
       "style": "IPY_MODEL_1564f7efd38a42c897ecbf21ec608e19"
      }
     },
     "e5f379a9288c48f48dcd39a88365eae8": {
      "model_module": "@jupyter-widgets/controls",
      "model_module_version": "1.0.0",
      "model_name": "SliderStyleModel",
      "state": {
       "description_width": ""
      }
     },
     "e6467deb9dab4a8ab80a2ba1bafc1f7a": {
      "model_module": "@jupyter-widgets/controls",
      "model_module_version": "1.0.0",
      "model_name": "SliderStyleModel",
      "state": {
       "description_width": ""
      }
     },
     "e67079bdb3f544d385740f8a84caf7e7": {
      "model_module": "@jupyter-widgets/controls",
      "model_module_version": "1.0.0",
      "model_name": "IntSliderModel",
      "state": {
       "description": "degrees",
       "layout": "IPY_MODEL_561abff454a34724b5dd4d16fed9ab61",
       "max": 360,
       "min": -360,
       "style": "IPY_MODEL_049ec02dd1914999b0a2640382ea71f7"
      }
     },
     "e679f8c5e4e748afbc972c0df7f2f78c": {
      "model_module": "@jupyter-widgets/controls",
      "model_module_version": "1.0.0",
      "model_name": "IntSliderModel",
      "state": {
       "description": "h",
       "layout": "IPY_MODEL_e746df92da7646f6913294a5a7876566",
       "max": 300,
       "min": -300,
       "style": "IPY_MODEL_58265be954484c2380cfce0cc4b69ef4",
       "value": 50
      }
     },
     "e686183a7f2645bab5ce2f0f8677f4c3": {
      "model_module": "@jupyter-widgets/controls",
      "model_module_version": "1.0.0",
      "model_name": "HTMLModel",
      "state": {
       "layout": "IPY_MODEL_40438ecc1b6849b498a3aef1c636cf61",
       "style": "IPY_MODEL_68fc161d9ef34903b90ca446333d7f92",
       "value": "<img src=\"interactive_rectangle.png\" id=\"snapshot_id_33_1536268844407\"/>\n <div id=\"snapshot_id_34_1536268844407\">interactive_rectangle.png</div>"
      }
     },
     "e6c29c7b94624bb5a5c8438566491e6c": {
      "model_module": "@jupyter-widgets/base",
      "model_module_version": "1.0.0",
      "model_name": "LayoutModel",
      "state": {}
     },
     "e6d2ad8a655e40c3a0c12274f77727c0": {
      "model_module": "@jupyter-widgets/controls",
      "model_module_version": "1.0.0",
      "model_name": "IntSliderModel",
      "state": {
       "description": "degrees",
       "layout": "IPY_MODEL_929e65312ebb48ffaefdf220503710e9",
       "max": 360,
       "min": -360,
       "style": "IPY_MODEL_47ef920395de48c6b688a91b406054f0"
      }
     },
     "e6d98bf490ce4acd965f888285fe285e": {
      "model_module": "@jupyter-widgets/controls",
      "model_module_version": "1.0.0",
      "model_name": "IntSliderModel",
      "state": {
       "description": "sy",
       "layout": "IPY_MODEL_f363266fea704a75be8c2e8846478f93",
       "max": 45,
       "min": -15,
       "style": "IPY_MODEL_c091669584ae45d4b306ef230bdf8754",
       "value": 15
      }
     },
     "e6da6dc035704e01b5b4276f3cbabe77": {
      "model_module": "@jupyter-widgets/controls",
      "model_module_version": "1.0.0",
      "model_name": "SliderStyleModel",
      "state": {
       "description_width": ""
      }
     },
     "e6e416f630824bbb90f84a94a0194cae": {
      "model_module": "@jupyter-widgets/output",
      "model_module_version": "1.0.0",
      "model_name": "OutputModel",
      "state": {
       "layout": "IPY_MODEL_c81b6c763dde4686be31dc5e4c0dc0cc"
      }
     },
     "e6fa67ee18e44c5b869ba6e3f8df74a1": {
      "model_module": "@jupyter-widgets/controls",
      "model_module_version": "1.0.0",
      "model_name": "SliderStyleModel",
      "state": {
       "description_width": ""
      }
     },
     "e70715f5d7ef4e95b8214f73bac1a47c": {
      "model_module": "@jupyter-widgets/controls",
      "model_module_version": "1.0.0",
      "model_name": "DescriptionStyleModel",
      "state": {
       "description_width": ""
      }
     },
     "e71b48c6563a41d191fee80c69dd692d": {
      "model_module": "@jupyter-widgets/base",
      "model_module_version": "1.0.0",
      "model_name": "LayoutModel",
      "state": {}
     },
     "e731ce980a4a4a82923d3b480caf82d8": {
      "model_module": "@jupyter-widgets/controls",
      "model_module_version": "1.0.0",
      "model_name": "SliderStyleModel",
      "state": {
       "description_width": ""
      }
     },
     "e746df92da7646f6913294a5a7876566": {
      "model_module": "@jupyter-widgets/base",
      "model_module_version": "1.0.0",
      "model_name": "LayoutModel",
      "state": {}
     },
     "e77047fc9fab487fbd8934f5e59023e8": {
      "model_module": "@jupyter-widgets/base",
      "model_module_version": "1.0.0",
      "model_name": "LayoutModel",
      "state": {}
     },
     "e7873677b53545329c9ff13c24157804": {
      "model_module": "@jupyter-widgets/controls",
      "model_module_version": "1.0.0",
      "model_name": "SliderStyleModel",
      "state": {
       "description_width": ""
      }
     },
     "e7a5af3f61d64513beb57f80d97b278d": {
      "model_module": "@jupyter-widgets/controls",
      "model_module_version": "1.0.0",
      "model_name": "DescriptionStyleModel",
      "state": {
       "description_width": ""
      }
     },
     "e7f79859af144c03b56503b8f391dad1": {
      "model_module": "@jupyter-widgets/controls",
      "model_module_version": "1.0.0",
      "model_name": "SliderStyleModel",
      "state": {
       "description_width": ""
      }
     },
     "e7fae1a7050b402f97cbcb57d710fecf": {
      "model_module": "@jupyter-widgets/controls",
      "model_module_version": "1.0.0",
      "model_name": "SliderStyleModel",
      "state": {
       "description_width": ""
      }
     },
     "e81291b541594151985dbaaf4b14f89f": {
      "model_module": "@jupyter-widgets/base",
      "model_module_version": "1.0.0",
      "model_name": "LayoutModel",
      "state": {}
     },
     "e831c1d4f55c448ea55761cc3d2f358d": {
      "model_module": "@jupyter-widgets/controls",
      "model_module_version": "1.0.0",
      "model_name": "SliderStyleModel",
      "state": {
       "description_width": ""
      }
     },
     "e840521b5a9942ee938e6f4faa2e7a5f": {
      "model_module": "@jupyter-widgets/controls",
      "model_module_version": "1.0.0",
      "model_name": "IntSliderModel",
      "state": {
       "description": "degrees",
       "layout": "IPY_MODEL_cfc42e85a02d4cc3a90f760736017703",
       "max": 360,
       "min": -360,
       "style": "IPY_MODEL_a1202575d60f47cd9e61f1e6fc0bbcec",
       "value": -9
      }
     },
     "e8586e4267b249ef910b844b1d99e3d5": {
      "model_module": "@jupyter-widgets/controls",
      "model_module_version": "1.0.0",
      "model_name": "SliderStyleModel",
      "state": {
       "description_width": ""
      }
     },
     "e85deeb3c32847b4a3e673804bbc61c6": {
      "model_module": "@jupyter-widgets/controls",
      "model_module_version": "1.0.0",
      "model_name": "SliderStyleModel",
      "state": {
       "description_width": ""
      }
     },
     "e8c13e9226ad42b29b1e7d7dbb9cf8d9": {
      "model_module": "@jupyter-widgets/base",
      "model_module_version": "1.0.0",
      "model_name": "LayoutModel",
      "state": {}
     },
     "e8e01f29308e4383a60218d541df44bd": {
      "model_module": "@jupyter-widgets/controls",
      "model_module_version": "1.0.0",
      "model_name": "CheckboxModel",
      "state": {
       "description": "fill",
       "disabled": false,
       "layout": "IPY_MODEL_439519df286841d598e294e7be2c6537",
       "style": "IPY_MODEL_6d0e050d11934430bfdc1515040358cc",
       "value": true
      }
     },
     "e8e893d6db3346799b23c9250fdce389": {
      "model_module": "@jupyter-widgets/controls",
      "model_module_version": "1.0.0",
      "model_name": "IntSliderModel",
      "state": {
       "description": "x",
       "layout": "IPY_MODEL_50e2a8da7d5c4f42922499191d78f4d0",
       "min": -100,
       "style": "IPY_MODEL_f92d3ffb7ea74ffa92685d4c4c5f3d06",
       "value": -29
      }
     },
     "e8f90ab7f368471c8065f91cb0b05b98": {
      "model_module": "@jupyter-widgets/base",
      "model_module_version": "1.0.0",
      "model_name": "LayoutModel",
      "state": {}
     },
     "e90eb4d819984a73a04039cc769b11c9": {
      "model_module": "@jupyter-widgets/controls",
      "model_module_version": "1.0.0",
      "model_name": "IntSliderModel",
      "state": {
       "description": "x",
       "layout": "IPY_MODEL_f28d8561ba834b1a8a010586d240840b",
       "min": -100,
       "style": "IPY_MODEL_fc1a7e2dab4949baaaf6d3b7ce2f7b60"
      }
     },
     "e90ff826d98e4eee9f3ee90749d1319b": {
      "model_module": "@jupyter-widgets/base",
      "model_module_version": "1.0.0",
      "model_name": "LayoutModel",
      "state": {}
     },
     "e93882178118463293a2741d64b03d15": {
      "model_module": "@jupyter-widgets/controls",
      "model_module_version": "1.0.0",
      "model_name": "IntSliderModel",
      "state": {
       "description": "y",
       "layout": "IPY_MODEL_5b34794fac084797b4f378f9e12a34a3",
       "min": -100,
       "style": "IPY_MODEL_67fa53a0df314813a2196034d2b1f49f"
      }
     },
     "e954dff4c0d14af79f3465888de53ff8": {
      "model_module": "@jupyter-widgets/base",
      "model_module_version": "1.0.0",
      "model_name": "LayoutModel",
      "state": {}
     },
     "e96abbed313840179ea1bd9d6589387d": {
      "model_module": "@jupyter-widgets/base",
      "model_module_version": "1.0.0",
      "model_name": "LayoutModel",
      "state": {}
     },
     "e96f2c223b23422eb1ef64952b3dcb39": {
      "model_module": "jp_proxy_widget",
      "model_module_version": "^0.3.4",
      "model_name": "JSProxyModel",
      "state": {
       "_model_module_version": "^0.3.4",
       "_send_counter": 2918,
       "_view_module_version": "^0.3.4",
       "error_msg": "No error",
       "layout": "IPY_MODEL_38a6fa7cde5044bf86db7497b1d791d6",
       "rendered": true,
       "status": "Got results."
      }
     },
     "e9897326133e4bd0ba05d5f31aadf455": {
      "model_module": "@jupyter-widgets/controls",
      "model_module_version": "1.0.0",
      "model_name": "HTMLModel",
      "state": {
       "layout": "IPY_MODEL_2c430439150043db857466387ed95f0a",
       "style": "IPY_MODEL_df46c5a9cc2c479490826df7ce60d501",
       "value": "<img src=\"interactive_rectangle.png\" id=\"snapshot_id_27_1536268449459\"/>\n <div id=\"snapshot_id_28_1536268449459\">interactive_rectangle.png</div>"
      }
     },
     "e9a0b448db2b49928cd5b2eba383b755": {
      "model_module": "@jupyter-widgets/controls",
      "model_module_version": "1.0.0",
      "model_name": "IntSliderModel",
      "state": {
       "description": "blue",
       "layout": "IPY_MODEL_8b927c5f840c471292605a570f133cc1",
       "max": 255,
       "style": "IPY_MODEL_12321996fd1949d5b398aac5d4f07243",
       "value": 255
      }
     },
     "e9b47e5be3874a76868819b827041232": {
      "model_module": "@jupyter-widgets/controls",
      "model_module_version": "1.0.0",
      "model_name": "SliderStyleModel",
      "state": {
       "description_width": ""
      }
     },
     "e9c6182c9a2d4eae8cec7ca083c13915": {
      "model_module": "@jupyter-widgets/base",
      "model_module_version": "1.0.0",
      "model_name": "LayoutModel",
      "state": {}
     },
     "e9cab7fcdb4d473cbfd652caa886a624": {
      "model_module": "@jupyter-widgets/controls",
      "model_module_version": "1.0.0",
      "model_name": "VBoxModel",
      "state": {
       "children": [
        "IPY_MODEL_9aaef4d566be4d819c95c13b8afc5822",
        "IPY_MODEL_fb11654398a84c8d9e44e7eef5f91b69"
       ],
       "layout": "IPY_MODEL_f33f8397f66947ce9ecae3b39681ef64"
      }
     },
     "ea0e72f9b4d2457b9d9d829f0ea83bf2": {
      "model_module": "@jupyter-widgets/base",
      "model_module_version": "1.0.0",
      "model_name": "LayoutModel",
      "state": {}
     },
     "ea1708b906cb4d05bb8164dea4652b97": {
      "model_module": "@jupyter-widgets/controls",
      "model_module_version": "1.0.0",
      "model_name": "IntSliderModel",
      "state": {
       "description": "blue",
       "layout": "IPY_MODEL_c891b4f90b5e435f990cd79fa9a2d3ab",
       "max": 255,
       "style": "IPY_MODEL_7733cf83a8b343f3a87244e92575400b",
       "value": 130
      }
     },
     "ea6da93702914c17b511d28dd3de4dae": {
      "model_module": "@jupyter-widgets/base",
      "model_module_version": "1.0.0",
      "model_name": "LayoutModel",
      "state": {}
     },
     "ea99362f266a4e77a7f42eb24a6c7d11": {
      "model_module": "@jupyter-widgets/controls",
      "model_module_version": "1.0.0",
      "model_name": "IntSliderModel",
      "state": {
       "description": "lineWidth",
       "layout": "IPY_MODEL_cd0e45c33eda496aa1a9f1cef149434a",
       "max": 20,
       "style": "IPY_MODEL_6b8599e059314d8daf65fd432b507481",
       "value": 10
      }
     },
     "ea9acbd424534eb7a9fc84ac2b14e52a": {
      "model_module": "@jupyter-widgets/base",
      "model_module_version": "1.0.0",
      "model_name": "LayoutModel",
      "state": {}
     },
     "eaaa595c505f4252a68b992d6aba2c4c": {
      "model_module": "@jupyter-widgets/base",
      "model_module_version": "1.0.0",
      "model_name": "LayoutModel",
      "state": {}
     },
     "eac03681c50c4f32b17ae676cf976464": {
      "model_module": "@jupyter-widgets/controls",
      "model_module_version": "1.0.0",
      "model_name": "VBoxModel",
      "state": {
       "children": [
        "IPY_MODEL_b6b4e97bd2674a5b9cde6baff3be9860",
        "IPY_MODEL_38685009935041b88585d448bf18dd56"
       ],
       "layout": "IPY_MODEL_81dd7b4d97f94e27b3694fdcb73a58b6"
      }
     },
     "eac4bbefd68143ebaf3a5a7a4189c3cb": {
      "model_module": "@jupyter-widgets/controls",
      "model_module_version": "1.0.0",
      "model_name": "TabModel",
      "state": {
       "_titles": {
        "0": "Canvas",
        "1": "Snapshot"
       },
       "children": [
        "IPY_MODEL_64b37651a14746bda9ec69ded6c39241",
        "IPY_MODEL_018103180dfb40f0a0a80f565ac2ce91"
       ],
       "layout": "IPY_MODEL_731926c1ad3e43c89edecc4ab25cff3f"
      }
     },
     "eace2ec9df6f4baf96e468f65fbaeff8": {
      "model_module": "@jupyter-widgets/base",
      "model_module_version": "1.0.0",
      "model_name": "LayoutModel",
      "state": {}
     },
     "ead796fc3a1d4c3d8adb40e912cec8f2": {
      "model_module": "@jupyter-widgets/controls",
      "model_module_version": "1.0.0",
      "model_name": "DescriptionStyleModel",
      "state": {
       "description_width": ""
      }
     },
     "eae0c7f52ba644bd9adc766a60ffc9e1": {
      "model_module": "@jupyter-widgets/controls",
      "model_module_version": "1.0.0",
      "model_name": "SliderStyleModel",
      "state": {
       "description_width": ""
      }
     },
     "eb1ad05366e9455598dbf6d7d608dd92": {
      "model_module": "jp_proxy_widget",
      "model_module_version": "^0.3.4",
      "model_name": "JSProxyModel",
      "state": {
       "_model_module_version": "^0.3.4",
       "_send_counter": 13,
       "_view_module_version": "^0.3.4",
       "error_msg": "Error: No image loaded with name: mandrill",
       "layout": "IPY_MODEL_d53ad9e3a55943b98f908ba3f928df60",
       "rendered": true,
       "status": "Rendered."
      }
     },
     "eb1cb2131e144536be681ddb71be1994": {
      "model_module": "@jupyter-widgets/controls",
      "model_module_version": "1.0.0",
      "model_name": "IntSliderModel",
      "state": {
       "description": "red",
       "layout": "IPY_MODEL_7ec3cf33ab24484b88846d75c87ee552",
       "max": 255,
       "style": "IPY_MODEL_e6da6dc035704e01b5b4276f3cbabe77",
       "value": 255
      }
     },
     "eb34d0c21b7d4222a94bd3e1e6047192": {
      "model_module": "@jupyter-widgets/controls",
      "model_module_version": "1.0.0",
      "model_name": "TabModel",
      "state": {
       "_titles": {
        "0": "Canvas",
        "1": "Snapshot"
       },
       "children": [
        "IPY_MODEL_33a3b06fd72546baa0cf0b1089f6f202",
        "IPY_MODEL_3b86f2f670b3422d9db3de7334d5048b"
       ],
       "layout": "IPY_MODEL_1e5614a3190644ec825933d20236f387"
      }
     },
     "eb40c657c7b3471fa1a399db32125a0f": {
      "model_module": "@jupyter-widgets/controls",
      "model_module_version": "1.0.0",
      "model_name": "TabModel",
      "state": {
       "_titles": {
        "0": "Canvas",
        "1": "Snapshot"
       },
       "children": [
        "IPY_MODEL_d22323e6c2d349c795b64ef078c4227a",
        "IPY_MODEL_8f658814eecb445e8522eb98ae2ba880"
       ],
       "layout": "IPY_MODEL_63db2454b3834f4ea1ed5975de197807"
      }
     },
     "eb57d51690c54ebcb265695a3c65e591": {
      "model_module": "@jupyter-widgets/base",
      "model_module_version": "1.0.0",
      "model_name": "LayoutModel",
      "state": {}
     },
     "eb70a80f4df048d6aff6db5dabf49277": {
      "model_module": "@jupyter-widgets/controls",
      "model_module_version": "1.0.0",
      "model_name": "CheckboxModel",
      "state": {
       "description": "whole",
       "disabled": false,
       "layout": "IPY_MODEL_011ab356b78d4a5992025e189eec6e00",
       "style": "IPY_MODEL_5fa631712ea54d6fb470d2d91c01b04e",
       "value": false
      }
     },
     "eb712f6e5a7240ecb3b25dbdbcbf3ad2": {
      "model_module": "@jupyter-widgets/output",
      "model_module_version": "1.0.0",
      "model_name": "OutputModel",
      "state": {
       "layout": "IPY_MODEL_3dc8cd0d64c443d2a4c05a0bd83bf747",
       "outputs": [
        {
         "name": "stdout",
         "output_type": "stream",
         "text": "color is 'rgba(127,127,127,0.5)'\n"
        }
       ]
      }
     },
     "eb72982bceaf41dd8151e96f31b53171": {
      "model_module": "@jupyter-widgets/base",
      "model_module_version": "1.0.0",
      "model_name": "LayoutModel",
      "state": {}
     },
     "eb74267019084640b5f9a7632c91c872": {
      "model_module": "@jupyter-widgets/controls",
      "model_module_version": "1.0.0",
      "model_name": "HTMLModel",
      "state": {
       "layout": "IPY_MODEL_f518b0b4223d4e009a1a4633ae75c1b4",
       "style": "IPY_MODEL_58ab7ae448434ef9ab457f1380e96c0b",
       "value": "<img src=\"interactive_image.png\" id=\"snapshot_id_17_1536959407959\"/>\n <div id=\"snapshot_id_18_1536959407959\">interactive_image.png</div>"
      }
     },
     "eb862fba1dd2450fb8801ceb9d0ece60": {
      "model_module": "@jupyter-widgets/base",
      "model_module_version": "1.0.0",
      "model_name": "LayoutModel",
      "state": {}
     },
     "ebcefb249b364779bb48896bc257b8a1": {
      "model_module": "@jupyter-widgets/base",
      "model_module_version": "1.0.0",
      "model_name": "LayoutModel",
      "state": {}
     },
     "ebd8c6e59dd34f62a713a5e1d3cf2ad5": {
      "model_module": "@jupyter-widgets/base",
      "model_module_version": "1.0.0",
      "model_name": "LayoutModel",
      "state": {}
     },
     "ebe40b8f892f458fbdd7c678e7848a35": {
      "model_module": "@jupyter-widgets/base",
      "model_module_version": "1.0.0",
      "model_name": "LayoutModel",
      "state": {}
     },
     "ec053a81f3474ad0ba477d4a554a3c80": {
      "model_module": "@jupyter-widgets/controls",
      "model_module_version": "1.0.0",
      "model_name": "HTMLModel",
      "state": {
       "layout": "IPY_MODEL_75a1ff9c5e9d4bfba39c20d5b0c999c7",
       "style": "IPY_MODEL_a5aabaf06c2a49e69b7cc74c066d3c25",
       "value": "<img src=\"interactive_image.png\" id=\"snapshot_id_15_1536959231542\"/>\n <div id=\"snapshot_id_16_1536959231542\">interactive_image.png</div>"
      }
     },
     "ec35b7df7c4749f49503595d8f76356f": {
      "model_module": "@jupyter-widgets/base",
      "model_module_version": "1.0.0",
      "model_name": "LayoutModel",
      "state": {}
     },
     "ec41ba11eecb4d7183eff806a19f3d7c": {
      "model_module": "@jupyter-widgets/controls",
      "model_module_version": "1.0.0",
      "model_name": "SliderStyleModel",
      "state": {
       "description_width": ""
      }
     },
     "ec5aa57ed6cc4905bbae2c4861c17a69": {
      "model_module": "@jupyter-widgets/controls",
      "model_module_version": "1.0.0",
      "model_name": "SliderStyleModel",
      "state": {
       "description_width": ""
      }
     },
     "ec6bc3b7f5af41a397224ffc50787343": {
      "model_module": "@jupyter-widgets/controls",
      "model_module_version": "1.0.0",
      "model_name": "SliderStyleModel",
      "state": {
       "description_width": ""
      }
     },
     "ec84328d9d4141a4b49c2b681136235a": {
      "model_module": "@jupyter-widgets/controls",
      "model_module_version": "1.0.0",
      "model_name": "IntSliderModel",
      "state": {
       "description": "blue",
       "layout": "IPY_MODEL_8fd7e0b153e34acaa585a34e4ef3223f",
       "max": 255,
       "style": "IPY_MODEL_6cad878add9443cebd75e872964e7447",
       "value": 255
      }
     },
     "ec9a4c8fe6df4f229b5b07f6fdddcf76": {
      "model_module": "@jupyter-widgets/base",
      "model_module_version": "1.0.0",
      "model_name": "LayoutModel",
      "state": {}
     },
     "eca3a6d9c80d46d5a1f6e5bb00dac633": {
      "model_module": "@jupyter-widgets/base",
      "model_module_version": "1.0.0",
      "model_name": "LayoutModel",
      "state": {}
     },
     "eca7a409247946a78de94c9e2b6fb668": {
      "model_module": "@jupyter-widgets/base",
      "model_module_version": "1.0.0",
      "model_name": "LayoutModel",
      "state": {}
     },
     "ecb1baf7a7d849bf901f6b38c4d5a5c9": {
      "model_module": "@jupyter-widgets/base",
      "model_module_version": "1.0.0",
      "model_name": "LayoutModel",
      "state": {}
     },
     "ece400934a4849ec83e0ed6585d19384": {
      "model_module": "@jupyter-widgets/base",
      "model_module_version": "1.0.0",
      "model_name": "LayoutModel",
      "state": {}
     },
     "ece90c291a1a4d0a8d1bdd4c1a742119": {
      "model_module": "@jupyter-widgets/controls",
      "model_module_version": "1.0.0",
      "model_name": "SliderStyleModel",
      "state": {
       "description_width": ""
      }
     },
     "ecf61ffa288040bba982acb3a3745647": {
      "model_module": "@jupyter-widgets/base",
      "model_module_version": "1.0.0",
      "model_name": "LayoutModel",
      "state": {}
     },
     "ed11029dc350472c9129c773df21df98": {
      "model_module": "jp_proxy_widget",
      "model_module_version": "^0.3.4",
      "model_name": "JSProxyModel",
      "state": {
       "_model_module_version": "^0.3.4",
       "_send_counter": 2,
       "_view_module_version": "^0.3.4",
       "error_msg": "No error",
       "layout": "IPY_MODEL_50191da8648c412b968ea7179cc4e00b",
       "rendered": true,
       "status": "Got results."
      }
     },
     "ed23f2d2d3464772aa68c7b32bd5c2b9": {
      "model_module": "@jupyter-widgets/controls",
      "model_module_version": "1.0.0",
      "model_name": "DescriptionStyleModel",
      "state": {
       "description_width": ""
      }
     },
     "ed2ad9ae2cef4910b766bfe6b423e5c2": {
      "model_module": "@jupyter-widgets/controls",
      "model_module_version": "1.0.0",
      "model_name": "SliderStyleModel",
      "state": {
       "description_width": ""
      }
     },
     "ed31773af6e94dd2bc8a42399460139f": {
      "model_module": "@jupyter-widgets/controls",
      "model_module_version": "1.0.0",
      "model_name": "IntSliderModel",
      "state": {
       "description": "x",
       "layout": "IPY_MODEL_287a0108f4b74575a485bdd9d44db305",
       "min": -100,
       "style": "IPY_MODEL_ece90c291a1a4d0a8d1bdd4c1a742119"
      }
     },
     "ed37bd2cb89e4b5bace8145f7d374df0": {
      "model_module": "@jupyter-widgets/base",
      "model_module_version": "1.0.0",
      "model_name": "LayoutModel",
      "state": {}
     },
     "ed4506c5bb494e808b4f908062b4613c": {
      "model_module": "@jupyter-widgets/base",
      "model_module_version": "1.0.0",
      "model_name": "LayoutModel",
      "state": {}
     },
     "ed6fa61031cb42c99fa1bb1798922ec4": {
      "model_module": "@jupyter-widgets/controls",
      "model_module_version": "1.0.0",
      "model_name": "SliderStyleModel",
      "state": {
       "description_width": ""
      }
     },
     "eda0a9e39c374f15833c5295cc36135d": {
      "model_module": "@jupyter-widgets/output",
      "model_module_version": "1.0.0",
      "model_name": "OutputModel",
      "state": {
       "layout": "IPY_MODEL_3bbe84bbfed24a26a0f65fc92039b2ec"
      }
     },
     "edcf1d132abb474392a1b9a7c10ee249": {
      "model_module": "@jupyter-widgets/base",
      "model_module_version": "1.0.0",
      "model_name": "LayoutModel",
      "state": {}
     },
     "edd2847043b649489887a4b779bd688a": {
      "model_module": "@jupyter-widgets/base",
      "model_module_version": "1.0.0",
      "model_name": "LayoutModel",
      "state": {}
     },
     "ee0d1bebee2c4617b38b941ce5046f46": {
      "model_module": "@jupyter-widgets/controls",
      "model_module_version": "1.0.0",
      "model_name": "DescriptionStyleModel",
      "state": {
       "description_width": ""
      }
     },
     "ee0f71b41f5a4ff98255ef8a9a0c439b": {
      "model_module": "@jupyter-widgets/base",
      "model_module_version": "1.0.0",
      "model_name": "LayoutModel",
      "state": {}
     },
     "ee1ac6a411d44489b8fd420ee12d51a5": {
      "model_module": "@jupyter-widgets/controls",
      "model_module_version": "1.0.0",
      "model_name": "IntSliderModel",
      "state": {
       "description": "w",
       "layout": "IPY_MODEL_f4912122823b42dbbc77da11bbbb28b9",
       "max": 300,
       "min": -300,
       "style": "IPY_MODEL_879b95c1fbbf4ae5998fe626a5e1eeda",
       "value": 250
      }
     },
     "ee4274a611f5455b9d8fef6ae1f74ee7": {
      "model_module": "@jupyter-widgets/base",
      "model_module_version": "1.0.0",
      "model_name": "LayoutModel",
      "state": {}
     },
     "ee63ff1c0d7444e0886dcb3343d895da": {
      "model_module": "@jupyter-widgets/base",
      "model_module_version": "1.0.0",
      "model_name": "LayoutModel",
      "state": {}
     },
     "ee7981a197524d44adba221234da9602": {
      "model_module": "@jupyter-widgets/base",
      "model_module_version": "1.0.0",
      "model_name": "LayoutModel",
      "state": {}
     },
     "ee96c12850934fa898a617e130f6dabf": {
      "model_module": "@jupyter-widgets/base",
      "model_module_version": "1.0.0",
      "model_name": "LayoutModel",
      "state": {}
     },
     "eea913a7c4dc4044b9ad52e02a3858d1": {
      "model_module": "@jupyter-widgets/controls",
      "model_module_version": "1.0.0",
      "model_name": "CheckboxModel",
      "state": {
       "description": "fill",
       "disabled": false,
       "layout": "IPY_MODEL_ae77c7584fdf41a38bf4fecbef2531ca",
       "style": "IPY_MODEL_d2a6f861616345babe9c8d79d39ee47f",
       "value": true
      }
     },
     "eed400e9520c4ff5bf3a79899ec94a74": {
      "model_module": "@jupyter-widgets/controls",
      "model_module_version": "1.0.0",
      "model_name": "IntSliderModel",
      "state": {
       "description": "lineWidth",
       "layout": "IPY_MODEL_2ac029db54324f539966573b9e540eba",
       "max": 20,
       "style": "IPY_MODEL_4bc77836274047259dd6a53fc61a70f4",
       "value": 3
      }
     },
     "eee1c68ab67f4597ab748d02d4a18802": {
      "model_module": "jp_proxy_widget",
      "model_module_version": "^0.3.4",
      "model_name": "JSProxyModel",
      "state": {
       "_model_module_version": "^0.3.4",
       "_send_counter": 2,
       "_view_module_version": "^0.3.4",
       "error_msg": "No error",
       "layout": "IPY_MODEL_d998abd016614883aa956a795c055f83",
       "rendered": true,
       "status": "Got results."
      }
     },
     "eef954dc1c954f29bc3df82a2aff1d01": {
      "model_module": "@jupyter-widgets/controls",
      "model_module_version": "1.0.0",
      "model_name": "DescriptionStyleModel",
      "state": {
       "description_width": ""
      }
     },
     "ef0c311c2bc247f6b3be70b9aa2f2420": {
      "model_module": "@jupyter-widgets/base",
      "model_module_version": "1.0.0",
      "model_name": "LayoutModel",
      "state": {}
     },
     "ef12e6bf3c0141b8b03e806a20bf05c3": {
      "model_module": "@jupyter-widgets/controls",
      "model_module_version": "1.0.0",
      "model_name": "IntSliderModel",
      "state": {
       "description": "w",
       "layout": "IPY_MODEL_8dfa08fda6b94839b8221b743c5d0738",
       "min": -100,
       "style": "IPY_MODEL_7262fdf8bef544d49598ad81ef0767f1",
       "value": 47
      }
     },
     "ef1b17d7fab74dea8a4ba6e9adaf1f23": {
      "model_module": "@jupyter-widgets/controls",
      "model_module_version": "1.0.0",
      "model_name": "SliderStyleModel",
      "state": {
       "description_width": ""
      }
     },
     "ef34459fa7bb48b298798295875c131d": {
      "model_module": "@jupyter-widgets/controls",
      "model_module_version": "1.0.0",
      "model_name": "SliderStyleModel",
      "state": {
       "description_width": ""
      }
     },
     "ef50217bb523497c99ecbd90f68af130": {
      "model_module": "@jupyter-widgets/controls",
      "model_module_version": "1.0.0",
      "model_name": "DescriptionStyleModel",
      "state": {
       "description_width": ""
      }
     },
     "ef9b7b9508a547e79f2a8b39493d440d": {
      "model_module": "jp_proxy_widget",
      "model_module_version": "^0.3.4",
      "model_name": "JSProxyModel",
      "state": {
       "_model_module_version": "^0.3.4",
       "_send_counter": 2,
       "_view_module_version": "^0.3.4",
       "error_msg": "No error",
       "layout": "IPY_MODEL_c4d27fc123584278b7c988ef455b08da",
       "rendered": true,
       "status": "Not yet rendered"
      }
     },
     "efa3bf782e794925a837c6159dd72847": {
      "model_module": "@jupyter-widgets/base",
      "model_module_version": "1.0.0",
      "model_name": "LayoutModel",
      "state": {}
     },
     "efce857f12694f3d8dcc845d11a82251": {
      "model_module": "@jupyter-widgets/controls",
      "model_module_version": "1.0.0",
      "model_name": "VBoxModel",
      "state": {
       "_dom_classes": [
        "widget-interact"
       ],
       "children": [
        "IPY_MODEL_c5d30691d81f465689529e63331fe4b3",
        "IPY_MODEL_a4e2bb91829d46fead0c6e503ea1af62",
        "IPY_MODEL_53cd1dd2905b44ee9982f6164d4e3852",
        "IPY_MODEL_88a2e015194342349aa13153256390c5",
        "IPY_MODEL_53486bd127fd45ae945f73df6e1153bf",
        "IPY_MODEL_6586fcab46e647e0b8a1d8d6e9ebd160",
        "IPY_MODEL_75da1847826641b79ba87f9abd2867de",
        "IPY_MODEL_c35ae68ad0d1496e9f3d97f0dcb7494f"
       ],
       "layout": "IPY_MODEL_3cb4306aaac04ddfa97480f29d992eb9"
      }
     },
     "efd7c744f3464ea5b4eac393a6be38ca": {
      "model_module": "@jupyter-widgets/base",
      "model_module_version": "1.0.0",
      "model_name": "LayoutModel",
      "state": {}
     },
     "eff5d44c82f045cea5b652a99b3a3bf1": {
      "model_module": "@jupyter-widgets/base",
      "model_module_version": "1.0.0",
      "model_name": "LayoutModel",
      "state": {}
     },
     "effd005c70954ca59d1e609d9670977d": {
      "model_module": "@jupyter-widgets/controls",
      "model_module_version": "1.0.0",
      "model_name": "IntSliderModel",
      "state": {
       "description": "degrees",
       "layout": "IPY_MODEL_2fcd3b36d3b34ea6a4a4f0b0cdcf3d4b",
       "max": 360,
       "min": -360,
       "style": "IPY_MODEL_09fab0e60d594696ac2da9a0e1c49240"
      }
     },
     "f00dd01cd1834f3fa5c4eea1bdfb6bfe": {
      "model_module": "@jupyter-widgets/controls",
      "model_module_version": "1.0.0",
      "model_name": "FloatSliderModel",
      "state": {
       "description": "start",
       "layout": "IPY_MODEL_df84fa7f92924c3e84870f415c4a2807",
       "max": 6.383185307179586,
       "step": 0.1,
       "style": "IPY_MODEL_aecb392449b845c6bb67f20a36abdc26",
       "value": 0.6
      }
     },
     "f022e53f7bd9408aa1dc511515da6de9": {
      "model_module": "@jupyter-widgets/controls",
      "model_module_version": "1.0.0",
      "model_name": "VBoxModel",
      "state": {
       "_dom_classes": [
        "widget-interact"
       ],
       "children": [
        "IPY_MODEL_8482c110ef8e408f86e87da56038465c",
        "IPY_MODEL_20482828f53e456381d8581dd99b7c00",
        "IPY_MODEL_8633b1c90f834a0c9ddcbf73a8403535",
        "IPY_MODEL_0b5d0d312c0844f791a7f98794c10abd",
        "IPY_MODEL_78c2fc49d89e4a098dfbf0dea6f2a2a2",
        "IPY_MODEL_c5f50609849944dcac311b82e377f0a8",
        "IPY_MODEL_2322c72f1bd2427398cb86f8d4654343",
        "IPY_MODEL_7d8eb81eebc04502bdcd5385f88c5391",
        "IPY_MODEL_18fefd1db5ca4479ac5edc6e948a33b2",
        "IPY_MODEL_025dcefcb31a4ae09f553560e5a22a65",
        "IPY_MODEL_0bf0e990d3654d6b8079d465fee8c9d0",
        "IPY_MODEL_fc9d2b5ecf9d4cdfa606c23b3fb04cd2"
       ],
       "layout": "IPY_MODEL_0b254c05cb974bb48196ad82fc71b536"
      }
     },
     "f04237ca32f24dd8bf9735548eed436b": {
      "model_module": "@jupyter-widgets/base",
      "model_module_version": "1.0.0",
      "model_name": "LayoutModel",
      "state": {}
     },
     "f04436ac82524dd18481cc34e6bc6989": {
      "model_module": "@jupyter-widgets/base",
      "model_module_version": "1.0.0",
      "model_name": "LayoutModel",
      "state": {}
     },
     "f057a207c5fe4153ae61e7a75cc46fcd": {
      "model_module": "@jupyter-widgets/base",
      "model_module_version": "1.0.0",
      "model_name": "LayoutModel",
      "state": {}
     },
     "f0738b71e72c4fa1b0a391346d81be15": {
      "model_module": "@jupyter-widgets/controls",
      "model_module_version": "1.0.0",
      "model_name": "CheckboxModel",
      "state": {
       "description": "whole",
       "disabled": false,
       "layout": "IPY_MODEL_6fdd0a80489742e1bc7c450446fce0d1",
       "style": "IPY_MODEL_da53c74d82b049e581d8363ff5daba3c",
       "value": false
      }
     },
     "f0785c61d9e845258dc0cccb6822b89d": {
      "model_module": "@jupyter-widgets/base",
      "model_module_version": "1.0.0",
      "model_name": "LayoutModel",
      "state": {}
     },
     "f0987f95a7ba457dbec95aee3f0208f4": {
      "model_module": "@jupyter-widgets/controls",
      "model_module_version": "1.0.0",
      "model_name": "IntSliderModel",
      "state": {
       "description": "w",
       "layout": "IPY_MODEL_d91ecb53827045b9be510f517cf209c6",
       "max": 300,
       "min": -300,
       "style": "IPY_MODEL_49d6ace0fb16438786c724e0de92a162",
       "value": 50
      }
     },
     "f0ad98568b0d42c89393813f9fe6232d": {
      "model_module": "@jupyter-widgets/controls",
      "model_module_version": "1.0.0",
      "model_name": "SliderStyleModel",
      "state": {
       "description_width": ""
      }
     },
     "f0ce8c31afb94ff3b0f2399cc5064ff5": {
      "model_module": "@jupyter-widgets/base",
      "model_module_version": "1.0.0",
      "model_name": "LayoutModel",
      "state": {}
     },
     "f0d04d2e39d14379a1f4b7c01d2529a7": {
      "model_module": "@jupyter-widgets/controls",
      "model_module_version": "1.0.0",
      "model_name": "TabModel",
      "state": {
       "_titles": {
        "0": "Canvas",
        "1": "Snapshot"
       },
       "children": [
        "IPY_MODEL_d3ed787919c54dfcac6482eda7beb484",
        "IPY_MODEL_4cc4fd032e55417bb4e967f67424ffe6"
       ],
       "layout": "IPY_MODEL_ffad6978826b47b891f654ef2fd3c8d6"
      }
     },
     "f0d4395ddc634aea8e036c718af9e029": {
      "model_module": "@jupyter-widgets/base",
      "model_module_version": "1.0.0",
      "model_name": "LayoutModel",
      "state": {}
     },
     "f0de5a912e24406d96588632a574fd8c": {
      "model_module": "@jupyter-widgets/base",
      "model_module_version": "1.0.0",
      "model_name": "LayoutModel",
      "state": {}
     },
     "f0f492e78868471ab3d861051181c82c": {
      "model_module": "@jupyter-widgets/controls",
      "model_module_version": "1.0.0",
      "model_name": "IntSliderModel",
      "state": {
       "description": "degrees",
       "layout": "IPY_MODEL_4027afec70cd40f1bccd89c50fd04fad",
       "max": 360,
       "min": -360,
       "style": "IPY_MODEL_b7e9133114f2434daff3c4a4ee5eaf17"
      }
     },
     "f11202db31ea46248e35d5977814894f": {
      "model_module": "@jupyter-widgets/base",
      "model_module_version": "1.0.0",
      "model_name": "LayoutModel",
      "state": {}
     },
     "f135fbd1950e43588fb802f3b98e7e85": {
      "model_module": "@jupyter-widgets/controls",
      "model_module_version": "1.0.0",
      "model_name": "SliderStyleModel",
      "state": {
       "description_width": ""
      }
     },
     "f141db18c00d4cfe994411a9133edbef": {
      "model_module": "@jupyter-widgets/controls",
      "model_module_version": "1.0.0",
      "model_name": "TabModel",
      "state": {
       "_titles": {
        "0": "Canvas",
        "1": "Snapshot"
       },
       "children": [
        "IPY_MODEL_bfe743d5521045c7a7801eb8537970a6",
        "IPY_MODEL_6d4038e0eb584952b59dad2d5220fbe4"
       ],
       "layout": "IPY_MODEL_a8ed4bd7010b4157b403b645c909d09b"
      }
     },
     "f14ef45a76da45f290ebf87131c8030d": {
      "model_module": "@jupyter-widgets/controls",
      "model_module_version": "1.0.0",
      "model_name": "SliderStyleModel",
      "state": {
       "description_width": ""
      }
     },
     "f1561fefefa14c829ed03553534205e2": {
      "model_module": "@jupyter-widgets/controls",
      "model_module_version": "1.0.0",
      "model_name": "IntSliderModel",
      "state": {
       "description": "green",
       "layout": "IPY_MODEL_6cf05933c68e494ba09c4a2b56585d3f",
       "max": 255,
       "style": "IPY_MODEL_51e61da5c3f94f8f8472316bc4157c7b"
      }
     },
     "f1a3b8333cd64b18b9fc81cfd5eaf1d1": {
      "model_module": "@jupyter-widgets/base",
      "model_module_version": "1.0.0",
      "model_name": "LayoutModel",
      "state": {}
     },
     "f1bfff3ecc9844bc9e2af4dcbe1f3ab3": {
      "model_module": "@jupyter-widgets/controls",
      "model_module_version": "1.0.0",
      "model_name": "SliderStyleModel",
      "state": {
       "description_width": ""
      }
     },
     "f1d177f62714468397e74f7dd001d96f": {
      "model_module": "jp_proxy_widget",
      "model_module_version": "^0.3.4",
      "model_name": "JSProxyModel",
      "state": {
       "_model_module_version": "^0.3.4",
       "_send_counter": 8,
       "_view_module_version": "^0.3.4",
       "error_msg": "Error: No image loaded with name: null",
       "layout": "IPY_MODEL_3ecb644f62c1418dafd037fadaf93dd2",
       "rendered": true,
       "status": "Rendered."
      }
     },
     "f1f17d255c5f493798afb9b52763f31e": {
      "model_module": "@jupyter-widgets/controls",
      "model_module_version": "1.0.0",
      "model_name": "DescriptionStyleModel",
      "state": {
       "description_width": ""
      }
     },
     "f21723f381ac443eb640955d6df26724": {
      "model_module": "@jupyter-widgets/base",
      "model_module_version": "1.0.0",
      "model_name": "LayoutModel",
      "state": {}
     },
     "f21c46ef68e14e58ad2834788dcbaa94": {
      "model_module": "@jupyter-widgets/controls",
      "model_module_version": "1.0.0",
      "model_name": "IntSliderModel",
      "state": {
       "description": "lineWidth",
       "layout": "IPY_MODEL_a401e230efd3488f89b6bcc2b9ddd6fb",
       "max": 20,
       "style": "IPY_MODEL_411921282fa740f8ac1f528051dac85e",
       "value": 3
      }
     },
     "f2286597cb4444709a98f5f0051d73ea": {
      "model_module": "@jupyter-widgets/controls",
      "model_module_version": "1.0.0",
      "model_name": "SliderStyleModel",
      "state": {
       "description_width": ""
      }
     },
     "f22f0eae4c594be182fbbb08d151b064": {
      "model_module": "@jupyter-widgets/output",
      "model_module_version": "1.0.0",
      "model_name": "OutputModel",
      "state": {
       "layout": "IPY_MODEL_db457d15f1fd4495abd89e926ee56e87"
      }
     },
     "f2305bf7a24849e694f1ed5e973a0ff1": {
      "model_module": "@jupyter-widgets/base",
      "model_module_version": "1.0.0",
      "model_name": "LayoutModel",
      "state": {}
     },
     "f2319f5738ee48b2afb6d92303c7ae04": {
      "model_module": "@jupyter-widgets/base",
      "model_module_version": "1.0.0",
      "model_name": "LayoutModel",
      "state": {}
     },
     "f23b4aa9807e416b9cb2a4e9d0157312": {
      "model_module": "@jupyter-widgets/controls",
      "model_module_version": "1.0.0",
      "model_name": "DescriptionStyleModel",
      "state": {
       "description_width": ""
      }
     },
     "f2477f9b611448a2a57f7b3770d3ed55": {
      "model_module": "@jupyter-widgets/base",
      "model_module_version": "1.0.0",
      "model_name": "LayoutModel",
      "state": {}
     },
     "f256f9da34334b1ba97491c85fc0c8e8": {
      "model_module": "@jupyter-widgets/controls",
      "model_module_version": "1.0.0",
      "model_name": "IntSliderModel",
      "state": {
       "description": "h",
       "layout": "IPY_MODEL_93b0860a3d8646d987730e4fe87e2e40",
       "max": 300,
       "min": -300,
       "style": "IPY_MODEL_7014a69f65a948d6a0d03300924247d6",
       "value": 50
      }
     },
     "f27dc97bdcda4ffe92471ba17a77cd87": {
      "model_module": "@jupyter-widgets/controls",
      "model_module_version": "1.0.0",
      "model_name": "IntSliderModel",
      "state": {
       "description": "degrees",
       "layout": "IPY_MODEL_109ee51aa37a4caa9c892b2df134729e",
       "max": 360,
       "min": -360,
       "style": "IPY_MODEL_8c7e573d2d554d3bb010b87b238b785c"
      }
     },
     "f28d8561ba834b1a8a010586d240840b": {
      "model_module": "@jupyter-widgets/base",
      "model_module_version": "1.0.0",
      "model_name": "LayoutModel",
      "state": {}
     },
     "f2975fe9213c44688c2eb639a547b33b": {
      "model_module": "@jupyter-widgets/controls",
      "model_module_version": "1.0.0",
      "model_name": "SliderStyleModel",
      "state": {
       "description_width": ""
      }
     },
     "f2a5875e415c4e47b4e2d9b42aed1602": {
      "model_module": "@jupyter-widgets/base",
      "model_module_version": "1.0.0",
      "model_name": "LayoutModel",
      "state": {}
     },
     "f2c5b7b13eb14d68ae2ebd7fbfc7c340": {
      "model_module": "@jupyter-widgets/base",
      "model_module_version": "1.0.0",
      "model_name": "LayoutModel",
      "state": {}
     },
     "f2c5e3d7dc7647ee96d68f93cd678e5c": {
      "model_module": "@jupyter-widgets/controls",
      "model_module_version": "1.0.0",
      "model_name": "IntSliderModel",
      "state": {
       "description": "y",
       "layout": "IPY_MODEL_77fcaa89ee7249ab9168e43a8cba7db1",
       "min": -100,
       "style": "IPY_MODEL_f43ad1a28c05443885d5e22909bc1162"
      }
     },
     "f2e4246051e5471db01470285747cc45": {
      "model_module": "@jupyter-widgets/controls",
      "model_module_version": "1.0.0",
      "model_name": "IntSliderModel",
      "state": {
       "description": "h",
       "layout": "IPY_MODEL_8f4a5ba9c0cf4db0bc554718117c7069",
       "max": 300,
       "min": -300,
       "style": "IPY_MODEL_bfc08279813648a2962c7ef30285a018",
       "value": 50
      }
     },
     "f2ef151d30264c1dbbc7176b8e3440b2": {
      "model_module": "@jupyter-widgets/controls",
      "model_module_version": "1.0.0",
      "model_name": "IntSliderModel",
      "state": {
       "description": "x",
       "layout": "IPY_MODEL_dce597f0bdfd45bcb8a8f8babe22d310",
       "min": -100,
       "style": "IPY_MODEL_68a198aa9ef94c25a27d5d02ecafab75"
      }
     },
     "f2f8e59f6dca4cdc80799e3e4230c7c2": {
      "model_module": "@jupyter-widgets/controls",
      "model_module_version": "1.0.0",
      "model_name": "IntSliderModel",
      "state": {
       "description": "green",
       "layout": "IPY_MODEL_8f3a44ec9b9e41a3a6ec7d60dc25e644",
       "max": 255,
       "style": "IPY_MODEL_0dc100683cfa456ebc8efd91961e6e46"
      }
     },
     "f30b332d7180434bad669f3d72aee571": {
      "model_module": "@jupyter-widgets/controls",
      "model_module_version": "1.0.0",
      "model_name": "VBoxModel",
      "state": {
       "children": [
        "IPY_MODEL_08b0c015430346f7af502b1900c78fd6",
        "IPY_MODEL_95036bef62e54981aa70de3486b25995"
       ],
       "layout": "IPY_MODEL_91a95133192d422b98ffacded64f0300"
      }
     },
     "f3155e34e93847f2b33d1656fdbfc664": {
      "model_module": "@jupyter-widgets/controls",
      "model_module_version": "1.0.0",
      "model_name": "IntSliderModel",
      "state": {
       "description": "h",
       "layout": "IPY_MODEL_2e0efeb66c774b279f328baef2f76ba9",
       "min": -100,
       "style": "IPY_MODEL_2bf7e51094224b23b29a40900d1d8086",
       "value": 35
      }
     },
     "f3341ada70f64ca0883e8179ddbaa8d9": {
      "model_module": "@jupyter-widgets/controls",
      "model_module_version": "1.0.0",
      "model_name": "IntSliderModel",
      "state": {
       "description": "x",
       "layout": "IPY_MODEL_5d4ed3cf2fbe4255b15c962e173d47eb",
       "min": -100,
       "style": "IPY_MODEL_8a30aa7e50a343e088f9016ff37b9b94"
      }
     },
     "f3397c90093e4c3fb9b46186234853b0": {
      "model_module": "@jupyter-widgets/controls",
      "model_module_version": "1.0.0",
      "model_name": "SliderStyleModel",
      "state": {
       "description_width": ""
      }
     },
     "f33f8397f66947ce9ecae3b39681ef64": {
      "model_module": "@jupyter-widgets/base",
      "model_module_version": "1.0.0",
      "model_name": "LayoutModel",
      "state": {}
     },
     "f363266fea704a75be8c2e8846478f93": {
      "model_module": "@jupyter-widgets/base",
      "model_module_version": "1.0.0",
      "model_name": "LayoutModel",
      "state": {}
     },
     "f36a8890b4a644d58fbd821584a36883": {
      "model_module": "@jupyter-widgets/base",
      "model_module_version": "1.0.0",
      "model_name": "LayoutModel",
      "state": {}
     },
     "f36f1cf92ff6498eae08115f63875bd2": {
      "model_module": "@jupyter-widgets/base",
      "model_module_version": "1.0.0",
      "model_name": "LayoutModel",
      "state": {}
     },
     "f3a0ca12ebcd438aa781da85f04cd4b9": {
      "model_module": "@jupyter-widgets/base",
      "model_module_version": "1.0.0",
      "model_name": "LayoutModel",
      "state": {}
     },
     "f40d65cd70784080bd242d3c8b0151ae": {
      "model_module": "@jupyter-widgets/controls",
      "model_module_version": "1.0.0",
      "model_name": "HTMLModel",
      "state": {
       "layout": "IPY_MODEL_b3fad72916ee48cb9436f1b2ddd5a110",
       "style": "IPY_MODEL_e30b9f8815a14163bbe74aa778a268f3",
       "value": "<img src=\"interactive_image.png\" id=\"snapshot_id_13_1536959216104\"/>\n <div id=\"snapshot_id_14_1536959216104\">interactive_image.png</div>"
      }
     },
     "f42f1c6388db4b20b28194b01d374641": {
      "model_module": "@jupyter-widgets/base",
      "model_module_version": "1.0.0",
      "model_name": "LayoutModel",
      "state": {}
     },
     "f432c98687394d009c0f3fdb4213b3a3": {
      "model_module": "@jupyter-widgets/controls",
      "model_module_version": "1.0.0",
      "model_name": "SliderStyleModel",
      "state": {
       "description_width": ""
      }
     },
     "f43ad1a28c05443885d5e22909bc1162": {
      "model_module": "@jupyter-widgets/controls",
      "model_module_version": "1.0.0",
      "model_name": "SliderStyleModel",
      "state": {
       "description_width": ""
      }
     },
     "f45d798df0094cdc9df7a020fa84844f": {
      "model_module": "@jupyter-widgets/controls",
      "model_module_version": "1.0.0",
      "model_name": "SliderStyleModel",
      "state": {
       "description_width": ""
      }
     },
     "f480b5855391467493e2e9dfad7b7113": {
      "model_module": "@jupyter-widgets/base",
      "model_module_version": "1.0.0",
      "model_name": "LayoutModel",
      "state": {}
     },
     "f4828d78be1f4978ad79535ccb130877": {
      "model_module": "@jupyter-widgets/base",
      "model_module_version": "1.0.0",
      "model_name": "LayoutModel",
      "state": {}
     },
     "f4912122823b42dbbc77da11bbbb28b9": {
      "model_module": "@jupyter-widgets/base",
      "model_module_version": "1.0.0",
      "model_name": "LayoutModel",
      "state": {}
     },
     "f4c3a3b84145476bb7e6150669bec128": {
      "model_module": "@jupyter-widgets/controls",
      "model_module_version": "1.0.0",
      "model_name": "SliderStyleModel",
      "state": {
       "description_width": ""
      }
     },
     "f4f1aeaeefd34e1c8b13068d01757d14": {
      "model_module": "@jupyter-widgets/controls",
      "model_module_version": "1.0.0",
      "model_name": "SliderStyleModel",
      "state": {
       "description_width": ""
      }
     },
     "f513303ea9c941c888c941a7a1cbb802": {
      "model_module": "@jupyter-widgets/controls",
      "model_module_version": "1.0.0",
      "model_name": "IntSliderModel",
      "state": {
       "description": "h",
       "layout": "IPY_MODEL_8f17182938d347afb135311b531649ef",
       "max": 300,
       "min": -300,
       "style": "IPY_MODEL_c1b4df7f19064994a38329e516fa1347",
       "value": -169
      }
     },
     "f518b0b4223d4e009a1a4633ae75c1b4": {
      "model_module": "@jupyter-widgets/base",
      "model_module_version": "1.0.0",
      "model_name": "LayoutModel",
      "state": {}
     },
     "f51c752ce63c4542bac603c4338756b4": {
      "model_module": "@jupyter-widgets/base",
      "model_module_version": "1.0.0",
      "model_name": "LayoutModel",
      "state": {}
     },
     "f5290bb43bfe4df2993854d038dd7fd3": {
      "model_module": "@jupyter-widgets/controls",
      "model_module_version": "1.0.0",
      "model_name": "IntSliderModel",
      "state": {
       "description": "degrees",
       "layout": "IPY_MODEL_07b5d4d1e7044359bb533564608d9204",
       "max": 360,
       "min": -360,
       "style": "IPY_MODEL_88bc530f0f0b405798dcf8edb2f5dbb3",
       "value": 2
      }
     },
     "f5389a88be6b45cebc2139fdf6e23343": {
      "model_module": "@jupyter-widgets/base",
      "model_module_version": "1.0.0",
      "model_name": "LayoutModel",
      "state": {}
     },
     "f5460a51d7b64e7c9304ed8978309d2f": {
      "model_module": "@jupyter-widgets/base",
      "model_module_version": "1.0.0",
      "model_name": "LayoutModel",
      "state": {}
     },
     "f56a9a9c87d5410ba1410ef8b7746334": {
      "model_module": "@jupyter-widgets/controls",
      "model_module_version": "1.0.0",
      "model_name": "SliderStyleModel",
      "state": {
       "description_width": ""
      }
     },
     "f5791560a9b6438dacc830569596a3fd": {
      "model_module": "jp_proxy_widget",
      "model_module_version": "^0.3.4",
      "model_name": "JSProxyModel",
      "state": {
       "_model_module_version": "^0.3.4",
       "_send_counter": 2191,
       "_view_module_version": "^0.3.4",
       "error_msg": "No error",
       "layout": "IPY_MODEL_44416140818f45b8abad7c386b9d793a",
       "rendered": true,
       "status": "Got results."
      }
     },
     "f5888cec71454a90b9159ca8c2ecef45": {
      "model_module": "@jupyter-widgets/controls",
      "model_module_version": "1.0.0",
      "model_name": "IntSliderModel",
      "state": {
       "description": "green",
       "layout": "IPY_MODEL_739cb1b3e551481faef72e4ac3e280cd",
       "max": 255,
       "style": "IPY_MODEL_0c4006d73c0943cb99ce6685de810a57"
      }
     },
     "f5b56121883743ec950100446366ead8": {
      "model_module": "@jupyter-widgets/controls",
      "model_module_version": "1.0.0",
      "model_name": "DescriptionStyleModel",
      "state": {
       "description_width": ""
      }
     },
     "f5bbbd5cc3f74476b4a4a30a9bd72166": {
      "model_module": "@jupyter-widgets/base",
      "model_module_version": "1.0.0",
      "model_name": "LayoutModel",
      "state": {}
     },
     "f5c4a9348e0f4ec38cd7c819fae3aa71": {
      "model_module": "@jupyter-widgets/controls",
      "model_module_version": "1.0.0",
      "model_name": "HTMLModel",
      "state": {
       "layout": "IPY_MODEL_dcc4bc8216db4d659a38b3c3c084a27d",
       "style": "IPY_MODEL_752dc1c8506e40b688e535d79cc259ba",
       "value": "<img src=\"interactive_rectangle2.png\" id=\"snapshot_id_4_1536324855559\"/>\n <div id=\"snapshot_id_5_1536324855559\">interactive_rectangle2.png</div>"
      }
     },
     "f5c6c7ba963447798adb520a3185cf45": {
      "model_module": "@jupyter-widgets/base",
      "model_module_version": "1.0.0",
      "model_name": "LayoutModel",
      "state": {}
     },
     "f5c8e888d78b471d9700c37c34deca12": {
      "model_module": "@jupyter-widgets/controls",
      "model_module_version": "1.0.0",
      "model_name": "IntSliderModel",
      "state": {
       "description": "y",
       "layout": "IPY_MODEL_eaaa595c505f4252a68b992d6aba2c4c",
       "min": -100,
       "style": "IPY_MODEL_ae0aa466feaf4779811b94927ae580b4",
       "value": 75
      }
     },
     "f5cf1a9f6189407b90fae19ce832360a": {
      "model_module": "@jupyter-widgets/controls",
      "model_module_version": "1.0.0",
      "model_name": "SliderStyleModel",
      "state": {
       "description_width": ""
      }
     },
     "f5e705c30fec4d3488ac3fec21ddaeb1": {
      "model_module": "@jupyter-widgets/controls",
      "model_module_version": "1.0.0",
      "model_name": "IntSliderModel",
      "state": {
       "description": "x",
       "layout": "IPY_MODEL_00d911d80b80400aaefb5507ef1f97fd",
       "min": -100,
       "style": "IPY_MODEL_408e67a7ff1c429cb7224fa3b6f2cb1a"
      }
     },
     "f5e753b26bf14fd1b0ce8abc6f23dcbc": {
      "model_module": "@jupyter-widgets/controls",
      "model_module_version": "1.0.0",
      "model_name": "SliderStyleModel",
      "state": {
       "description_width": ""
      }
     },
     "f63770e08d2a4b64b9a7e0f3ff66390b": {
      "model_module": "@jupyter-widgets/output",
      "model_module_version": "1.0.0",
      "model_name": "OutputModel",
      "state": {
       "layout": "IPY_MODEL_e336a8457be84d469462aca68a82411a"
      }
     },
     "f660f2aebd3e41459baf5952ec52ec7b": {
      "model_module": "@jupyter-widgets/controls",
      "model_module_version": "1.0.0",
      "model_name": "IntSliderModel",
      "state": {
       "description": "y",
       "layout": "IPY_MODEL_951425817c1049ec94d89750a33393a9",
       "min": -100,
       "style": "IPY_MODEL_0fd3cb40dba6496f8ec1e16175f84e53",
       "value": -41
      }
     },
     "f660fee8e512432199370c43956b6958": {
      "model_module": "@jupyter-widgets/base",
      "model_module_version": "1.0.0",
      "model_name": "LayoutModel",
      "state": {}
     },
     "f66f41791aac43b183608019c51db27c": {
      "model_module": "@jupyter-widgets/controls",
      "model_module_version": "1.0.0",
      "model_name": "SliderStyleModel",
      "state": {
       "description_width": ""
      }
     },
     "f674a6acfe474528ae03d560df702077": {
      "model_module": "jp_proxy_widget",
      "model_module_version": "^0.3.4",
      "model_name": "JSProxyModel",
      "state": {
       "_model_module_version": "^0.3.4",
       "_send_counter": 2,
       "_view_module_version": "^0.3.4",
       "error_msg": "No error",
       "layout": "IPY_MODEL_4f58712fcb3a4da788d882aa5a65d701",
       "rendered": true,
       "status": "Got results."
      }
     },
     "f6b1a32713f842c3a29f9128bbbeacc7": {
      "model_module": "@jupyter-widgets/controls",
      "model_module_version": "1.0.0",
      "model_name": "IntSliderModel",
      "state": {
       "description": "x",
       "layout": "IPY_MODEL_f0ce8c31afb94ff3b0f2399cc5064ff5",
       "min": -100,
       "style": "IPY_MODEL_08a236e0088846f1a23ad747a760a532",
       "value": 17
      }
     },
     "f6b47a1edadb42349590fe308656846d": {
      "model_module": "@jupyter-widgets/controls",
      "model_module_version": "1.0.0",
      "model_name": "IntSliderModel",
      "state": {
       "description": "y",
       "layout": "IPY_MODEL_b488a544375a4c02a9d199c4cd2e361e",
       "min": -100,
       "style": "IPY_MODEL_cf42937fa4be4510b9d4d4a48d4c2bdf"
      }
     },
     "f6c096ce6cca471bbb844d3e0c893aaa": {
      "model_module": "@jupyter-widgets/controls",
      "model_module_version": "1.0.0",
      "model_name": "SliderStyleModel",
      "state": {
       "description_width": ""
      }
     },
     "f6cc98f805fb4c1297d6442113bb79e9": {
      "model_module": "@jupyter-widgets/controls",
      "model_module_version": "1.0.0",
      "model_name": "SliderStyleModel",
      "state": {
       "description_width": ""
      }
     },
     "f6cfc11322624ebab85b68b9ea709116": {
      "model_module": "@jupyter-widgets/base",
      "model_module_version": "1.0.0",
      "model_name": "LayoutModel",
      "state": {}
     },
     "f6d900c4ae03476bbda2e8c488f7ae68": {
      "model_module": "@jupyter-widgets/controls",
      "model_module_version": "1.0.0",
      "model_name": "SliderStyleModel",
      "state": {
       "description_width": ""
      }
     },
     "f6de3677078248f09478747c026b7194": {
      "model_module": "@jupyter-widgets/base",
      "model_module_version": "1.0.0",
      "model_name": "LayoutModel",
      "state": {}
     },
     "f6e2534e68144b43a9fdae752be3b257": {
      "model_module": "@jupyter-widgets/base",
      "model_module_version": "1.0.0",
      "model_name": "LayoutModel",
      "state": {}
     },
     "f7016569d7824952a9f5a8257e34cb57": {
      "model_module": "@jupyter-widgets/controls",
      "model_module_version": "1.0.0",
      "model_name": "SliderStyleModel",
      "state": {
       "description_width": ""
      }
     },
     "f74304c5167846aa8ea7a9a542299b00": {
      "model_module": "@jupyter-widgets/controls",
      "model_module_version": "1.0.0",
      "model_name": "SliderStyleModel",
      "state": {
       "description_width": ""
      }
     },
     "f74e296d54f6479d9c30cecede702738": {
      "model_module": "@jupyter-widgets/base",
      "model_module_version": "1.0.0",
      "model_name": "LayoutModel",
      "state": {}
     },
     "f757cfdc6e98470da17519d0b6b10c4f": {
      "model_module": "@jupyter-widgets/controls",
      "model_module_version": "1.0.0",
      "model_name": "SliderStyleModel",
      "state": {
       "description_width": ""
      }
     },
     "f76a57e9deae43409bd029d9a760c435": {
      "model_module": "@jupyter-widgets/controls",
      "model_module_version": "1.0.0",
      "model_name": "FloatSliderModel",
      "state": {
       "description": "start",
       "layout": "IPY_MODEL_76812d39075f496fa20b7e7875cc60cb",
       "max": 6.383185307179586,
       "step": 0.1,
       "style": "IPY_MODEL_e2b7b7cf6bd84cf2b8e2508e1eadd77d",
       "value": 1.6
      }
     },
     "f784a82fec144e189d614fd45b001b3f": {
      "model_module": "@jupyter-widgets/controls",
      "model_module_version": "1.0.0",
      "model_name": "IntSliderModel",
      "state": {
       "description": "red",
       "layout": "IPY_MODEL_5f919fb8c9894913a10fa9b09b222291",
       "max": 255,
       "style": "IPY_MODEL_794c0af0d20341e29b6e7dd2b18aa6ec",
       "value": 255
      }
     },
     "f785890f3a1440fd87de7c592bdd9d37": {
      "model_module": "@jupyter-widgets/base",
      "model_module_version": "1.0.0",
      "model_name": "LayoutModel",
      "state": {}
     },
     "f7a572f44dd7448ea0e1a4ccb1dda9e4": {
      "model_module": "@jupyter-widgets/controls",
      "model_module_version": "1.0.0",
      "model_name": "IntSliderModel",
      "state": {
       "description": "lineWidth",
       "layout": "IPY_MODEL_49f9f96431484d729ee0545a8fa0c400",
       "max": 20,
       "style": "IPY_MODEL_199f2b4a3fbf4137927b3c986b69f21d",
       "value": 3
      }
     },
     "f7a6b5e89f744eec985e065c4ae1a9bc": {
      "model_module": "@jupyter-widgets/controls",
      "model_module_version": "1.0.0",
      "model_name": "IntSliderModel",
      "state": {
       "description": "w",
       "layout": "IPY_MODEL_b650597f9fba4815b7269579254f8321",
       "max": 300,
       "min": -300,
       "style": "IPY_MODEL_4b9a3d349d11466598208f0b66361fbd",
       "value": 100
      }
     },
     "f7aaec5aece8452e8c351af6478aa83a": {
      "model_module": "@jupyter-widgets/controls",
      "model_module_version": "1.0.0",
      "model_name": "IntSliderModel",
      "state": {
       "description": "w",
       "layout": "IPY_MODEL_f2a5875e415c4e47b4e2d9b42aed1602",
       "max": 300,
       "min": -300,
       "style": "IPY_MODEL_d1ab587eed194597bdf7f29b7a4daa22",
       "value": 60
      }
     },
     "f7bd49fe65e045bdb3d5332f42390d7d": {
      "model_module": "@jupyter-widgets/base",
      "model_module_version": "1.0.0",
      "model_name": "LayoutModel",
      "state": {}
     },
     "f7c612bab7e541bc8f1451c7b2b166f7": {
      "model_module": "@jupyter-widgets/controls",
      "model_module_version": "1.0.0",
      "model_name": "SliderStyleModel",
      "state": {
       "description_width": ""
      }
     },
     "f7c7c2ac98c340aba364ee302d3034df": {
      "model_module": "@jupyter-widgets/base",
      "model_module_version": "1.0.0",
      "model_name": "LayoutModel",
      "state": {}
     },
     "f7c994458fa34135a1c306a91053c617": {
      "model_module": "@jupyter-widgets/controls",
      "model_module_version": "1.0.0",
      "model_name": "IntSliderModel",
      "state": {
       "description": "y",
       "layout": "IPY_MODEL_0efde9d58262422e94d9940d190f9520",
       "min": -100,
       "style": "IPY_MODEL_623248918cdd493eaf760c9327f0c033"
      }
     },
     "f7f6b5f8e6fc44de9f7b4cbd20901760": {
      "model_module": "@jupyter-widgets/controls",
      "model_module_version": "1.0.0",
      "model_name": "TabModel",
      "state": {
       "_titles": {
        "0": "Canvas",
        "1": "Snapshot"
       },
       "children": [
        "IPY_MODEL_cc875a482b81481aabaa4b59941bb886",
        "IPY_MODEL_788bd8e238b24981aa738bfa96547882"
       ],
       "layout": "IPY_MODEL_81003e64eda141608d83a58d16225ba8"
      }
     },
     "f8064f5681034ad28c0fb847780f621e": {
      "model_module": "@jupyter-widgets/base",
      "model_module_version": "1.0.0",
      "model_name": "LayoutModel",
      "state": {}
     },
     "f815b2710c114a04baaf46c85e440583": {
      "model_module": "@jupyter-widgets/controls",
      "model_module_version": "1.0.0",
      "model_name": "SliderStyleModel",
      "state": {
       "description_width": ""
      }
     },
     "f847ca4b5c34462e8e7336c76c01c97b": {
      "model_module": "@jupyter-widgets/base",
      "model_module_version": "1.0.0",
      "model_name": "LayoutModel",
      "state": {}
     },
     "f867e165590a4816926b53cfe5af2f28": {
      "model_module": "@jupyter-widgets/base",
      "model_module_version": "1.0.0",
      "model_name": "LayoutModel",
      "state": {}
     },
     "f870f64f1f7843428fc4c3c8181e368e": {
      "model_module": "@jupyter-widgets/controls",
      "model_module_version": "1.0.0",
      "model_name": "IntSliderModel",
      "state": {
       "description": "x",
       "layout": "IPY_MODEL_92f90e70447345fb992a22bc56de04ac",
       "min": -100,
       "style": "IPY_MODEL_12ec4dcca7e1440aab1ba95c407f5aca"
      }
     },
     "f87b8aed1b2244caa33bd15e06207836": {
      "model_module": "@jupyter-widgets/base",
      "model_module_version": "1.0.0",
      "model_name": "LayoutModel",
      "state": {}
     },
     "f8939d170ea24aa49e517bfc1737ab31": {
      "model_module": "@jupyter-widgets/controls",
      "model_module_version": "1.0.0",
      "model_name": "CheckboxModel",
      "state": {
       "description": "fill",
       "disabled": false,
       "layout": "IPY_MODEL_b3f89d10763c4ecea7ea82b3555326f0",
       "style": "IPY_MODEL_b075a8d9ce1b484591f76e43c8aa5231",
       "value": true
      }
     },
     "f89e3301135847bea965f3e3716f890d": {
      "model_module": "@jupyter-widgets/output",
      "model_module_version": "1.0.0",
      "model_name": "OutputModel",
      "state": {
       "layout": "IPY_MODEL_d9f068785a9c422abd494a633656441a"
      }
     },
     "f8b532b8784241b7a5adb735f8327b7d": {
      "model_module": "@jupyter-widgets/base",
      "model_module_version": "1.0.0",
      "model_name": "LayoutModel",
      "state": {}
     },
     "f8bcaad5bb39448a8670c1dfe4507c88": {
      "model_module": "@jupyter-widgets/output",
      "model_module_version": "1.0.0",
      "model_name": "OutputModel",
      "state": {
       "layout": "IPY_MODEL_8a95a701a455426694f56406b8643549"
      }
     },
     "f8c7f18ee78d4eaf9f3558a0ac96dab7": {
      "model_module": "@jupyter-widgets/controls",
      "model_module_version": "1.0.0",
      "model_name": "SliderStyleModel",
      "state": {
       "description_width": ""
      }
     },
     "f8ced2bdfc204b8a98b0151b8ae9518b": {
      "model_module": "@jupyter-widgets/base",
      "model_module_version": "1.0.0",
      "model_name": "LayoutModel",
      "state": {}
     },
     "f8df1b22de074004a55d08cfec2a9777": {
      "model_module": "@jupyter-widgets/controls",
      "model_module_version": "1.0.0",
      "model_name": "SliderStyleModel",
      "state": {
       "description_width": ""
      }
     },
     "f8e6ba793fc4496ca2f453da7b1d4a63": {
      "model_module": "@jupyter-widgets/controls",
      "model_module_version": "1.0.0",
      "model_name": "SliderStyleModel",
      "state": {
       "description_width": ""
      }
     },
     "f9115cd814a4459792918ce9d0c592af": {
      "model_module": "@jupyter-widgets/controls",
      "model_module_version": "1.0.0",
      "model_name": "IntSliderModel",
      "state": {
       "description": "lineWidth",
       "layout": "IPY_MODEL_f867e165590a4816926b53cfe5af2f28",
       "max": 20,
       "style": "IPY_MODEL_3e0b2938dd5b453faa0317b9956d2099",
       "value": 18
      }
     },
     "f9128485ea0740f5b534a29ecfc3d87a": {
      "model_module": "@jupyter-widgets/controls",
      "model_module_version": "1.0.0",
      "model_name": "IntSliderModel",
      "state": {
       "description": "w",
       "layout": "IPY_MODEL_1074c68f3fbb4175a73ee6587dac4f2d",
       "min": -100,
       "style": "IPY_MODEL_ec41ba11eecb4d7183eff806a19f3d7c"
      }
     },
     "f92d3ffb7ea74ffa92685d4c4c5f3d06": {
      "model_module": "@jupyter-widgets/controls",
      "model_module_version": "1.0.0",
      "model_name": "SliderStyleModel",
      "state": {
       "description_width": ""
      }
     },
     "f93645cc012b4ae3bdc8dfefc535e600": {
      "model_module": "@jupyter-widgets/controls",
      "model_module_version": "1.0.0",
      "model_name": "DescriptionStyleModel",
      "state": {
       "description_width": ""
      }
     },
     "f97b7b9bd4b542b190353ca6174627ff": {
      "model_module": "@jupyter-widgets/controls",
      "model_module_version": "1.0.0",
      "model_name": "DescriptionStyleModel",
      "state": {
       "description_width": ""
      }
     },
     "f980b369b69346d690870d0e912bdc64": {
      "model_module": "@jupyter-widgets/base",
      "model_module_version": "1.0.0",
      "model_name": "LayoutModel",
      "state": {}
     },
     "f9ad8d21513547de90ca9045004db9fa": {
      "model_module": "@jupyter-widgets/controls",
      "model_module_version": "1.0.0",
      "model_name": "IntSliderModel",
      "state": {
       "description": "r",
       "layout": "IPY_MODEL_1d95cb6fa5934b18bfca058c30c09ee5",
       "style": "IPY_MODEL_293316fd146f458b9ed8526a62cc02ff",
       "value": 59
      }
     },
     "f9d4de99477a466d8dfd1d60b7f67cb7": {
      "model_module": "@jupyter-widgets/base",
      "model_module_version": "1.0.0",
      "model_name": "LayoutModel",
      "state": {}
     },
     "f9ebb59cfe704d27b3625b8d5b3b1343": {
      "model_module": "@jupyter-widgets/controls",
      "model_module_version": "1.0.0",
      "model_name": "SliderStyleModel",
      "state": {
       "description_width": ""
      }
     },
     "f9f512b2f04245e0be43eee7d5d43c29": {
      "model_module": "@jupyter-widgets/base",
      "model_module_version": "1.0.0",
      "model_name": "LayoutModel",
      "state": {}
     },
     "fa287936da9d4725bbe8c4e87e7ff883": {
      "model_module": "@jupyter-widgets/controls",
      "model_module_version": "1.0.0",
      "model_name": "SliderStyleModel",
      "state": {
       "description_width": ""
      }
     },
     "fa557b579ffd4b80b187222183f9de82": {
      "model_module": "@jupyter-widgets/base",
      "model_module_version": "1.0.0",
      "model_name": "LayoutModel",
      "state": {}
     },
     "fa580b0c64fd4022b1b921bb7097f816": {
      "model_module": "@jupyter-widgets/controls",
      "model_module_version": "1.0.0",
      "model_name": "TabModel",
      "state": {
       "_titles": {
        "0": "Canvas",
        "1": "Snapshot"
       },
       "children": [
        "IPY_MODEL_c40ad9f3188f43e88703c35c0ec0f9b2",
        "IPY_MODEL_eb74267019084640b5f9a7632c91c872"
       ],
       "layout": "IPY_MODEL_58019bee6d2c459396450b6c07d8c1e3"
      }
     },
     "fa59932b4aa2426596538c48dfa0378a": {
      "model_module": "@jupyter-widgets/base",
      "model_module_version": "1.0.0",
      "model_name": "LayoutModel",
      "state": {}
     },
     "fa62757de3c74db9b81fc5a0178d7852": {
      "model_module": "@jupyter-widgets/controls",
      "model_module_version": "1.0.0",
      "model_name": "IntSliderModel",
      "state": {
       "description": "lineWidth",
       "layout": "IPY_MODEL_f11202db31ea46248e35d5977814894f",
       "max": 20,
       "style": "IPY_MODEL_4d57ca66b9894897b8fe3d03c2c3460a",
       "value": 13
      }
     },
     "fa71a705efd74b09b968b39c4b2b2dbe": {
      "model_module": "@jupyter-widgets/controls",
      "model_module_version": "1.0.0",
      "model_name": "IntSliderModel",
      "state": {
       "description": "h",
       "layout": "IPY_MODEL_9d029c3ec77a4027af5a903f9a252011",
       "min": -100,
       "style": "IPY_MODEL_f2975fe9213c44688c2eb639a547b33b"
      }
     },
     "fa8412402ec34e09a339adf095c6de1a": {
      "model_module": "@jupyter-widgets/base",
      "model_module_version": "1.0.0",
      "model_name": "LayoutModel",
      "state": {}
     },
     "faa7a14f16684d438afa4d69158245dd": {
      "model_module": "@jupyter-widgets/controls",
      "model_module_version": "1.0.0",
      "model_name": "IntSliderModel",
      "state": {
       "description": "w",
       "layout": "IPY_MODEL_4d3a2259cd6049dfbf4cfde90d435461",
       "max": 300,
       "min": -300,
       "style": "IPY_MODEL_526a27a2f7ad41c79312d9d48632750f",
       "value": 60
      }
     },
     "fad4edcbbed241e3894fee5b2bc15c4a": {
      "model_module": "@jupyter-widgets/controls",
      "model_module_version": "1.0.0",
      "model_name": "SliderStyleModel",
      "state": {
       "description_width": ""
      }
     },
     "fb11654398a84c8d9e44e7eef5f91b69": {
      "model_module": "jp_proxy_widget",
      "model_module_version": "^0.3.4",
      "model_name": "JSProxyModel",
      "state": {
       "_model_module_version": "^0.3.4",
       "_send_counter": 2,
       "_view_module_version": "^0.3.4",
       "error_msg": "No error",
       "layout": "IPY_MODEL_ffcf951c70024c22881e2f0618667e8e",
       "rendered": true,
       "status": "Got results."
      }
     },
     "fb136458447a4a3babc1aba38566dcc5": {
      "model_module": "@jupyter-widgets/controls",
      "model_module_version": "1.0.0",
      "model_name": "IntSliderModel",
      "state": {
       "description": "green",
       "layout": "IPY_MODEL_f5460a51d7b64e7c9304ed8978309d2f",
       "max": 255,
       "style": "IPY_MODEL_6d012ed42fcc4acb83d52b4c84315eec"
      }
     },
     "fb17bc911b11445a9165639f979e9eab": {
      "model_module": "@jupyter-widgets/output",
      "model_module_version": "1.0.0",
      "model_name": "OutputModel",
      "state": {
       "layout": "IPY_MODEL_106ae15c35714f68a260aa36ffcbdf87"
      }
     },
     "fb6492d0dfbf480e93f89353b21a2fd3": {
      "model_module": "@jupyter-widgets/controls",
      "model_module_version": "1.0.0",
      "model_name": "VBoxModel",
      "state": {
       "_dom_classes": [
        "widget-interact"
       ],
       "children": [
        "IPY_MODEL_e1b4027107304460a650f380f9ff5a5e",
        "IPY_MODEL_41d329c9fb844c58b33a0e053b44c6aa",
        "IPY_MODEL_ef12e6bf3c0141b8b03e806a20bf05c3",
        "IPY_MODEL_f3155e34e93847f2b33d1656fdbfc664",
        "IPY_MODEL_fd8137c934a443388ea382aa54339aca",
        "IPY_MODEL_153e79a861aa4a6c82c63a2fa002bc94",
        "IPY_MODEL_12931c63b5634be2afedfda63b29c293",
        "IPY_MODEL_bed8d8d90cca495c8eafbe6f09802fca",
        "IPY_MODEL_db0755d3aaa4465ea839aee6faf992c3",
        "IPY_MODEL_6baa799853bb4fd99fc6abba6e05a97c",
        "IPY_MODEL_a9725976eee54c08869ce129eed45be3",
        "IPY_MODEL_96db201a68074106b9687c2e0aa8ce02"
       ],
       "layout": "IPY_MODEL_158b238502984896a59ed0fb976c0294"
      }
     },
     "fb6b06434ccc4d08a576f28986e68133": {
      "model_module": "@jupyter-widgets/base",
      "model_module_version": "1.0.0",
      "model_name": "LayoutModel",
      "state": {}
     },
     "fb93666fd93040ffb7d3daa37993b0b7": {
      "model_module": "@jupyter-widgets/base",
      "model_module_version": "1.0.0",
      "model_name": "LayoutModel",
      "state": {}
     },
     "fbacfc3ceee1477a99901563054f35c6": {
      "model_module": "@jupyter-widgets/controls",
      "model_module_version": "1.0.0",
      "model_name": "IntSliderModel",
      "state": {
       "description": "green",
       "layout": "IPY_MODEL_44ee557031604031a6861c063720caf1",
       "max": 255,
       "style": "IPY_MODEL_88352f4c399d4fd0bdd7436f2b9e2e8e"
      }
     },
     "fbceecffda414f9ea76655d23a557869": {
      "model_module": "@jupyter-widgets/output",
      "model_module_version": "1.0.0",
      "model_name": "OutputModel",
      "state": {
       "layout": "IPY_MODEL_7376d47badbb45339288218712a8c41a"
      }
     },
     "fbd71857f06448d7a28737ef53f21e4b": {
      "model_module": "@jupyter-widgets/controls",
      "model_module_version": "1.0.0",
      "model_name": "IntSliderModel",
      "state": {
       "description": "y",
       "layout": "IPY_MODEL_9d17ea2d416f4ce7a81e70c1aa66639a",
       "min": -100,
       "style": "IPY_MODEL_a37b43d43ac5429291462ebbe5ffb025"
      }
     },
     "fbec0491c079437da1d0353af56861a7": {
      "model_module": "@jupyter-widgets/controls",
      "model_module_version": "1.0.0",
      "model_name": "VBoxModel",
      "state": {
       "children": [
        "IPY_MODEL_c9197738c9e74ffca50503ed157fd7a5",
        "IPY_MODEL_d860346a4d4c4ed6a843f3216705e6de"
       ],
       "layout": "IPY_MODEL_0f51c34da49247b99b71ecdd5497bf39"
      }
     },
     "fc18c23598724be4a593a94ecd4c123f": {
      "model_module": "@jupyter-widgets/controls",
      "model_module_version": "1.0.0",
      "model_name": "IntSliderModel",
      "state": {
       "description": "x",
       "layout": "IPY_MODEL_0925f9491d2a46b09bdc1c4198ebbe9e",
       "min": -100,
       "style": "IPY_MODEL_9c6f5f20a35344f29479e723f2b92239"
      }
     },
     "fc1a7e2dab4949baaaf6d3b7ce2f7b60": {
      "model_module": "@jupyter-widgets/controls",
      "model_module_version": "1.0.0",
      "model_name": "SliderStyleModel",
      "state": {
       "description_width": ""
      }
     },
     "fc3b94290d26444d8078c309bdf6a796": {
      "model_module": "@jupyter-widgets/base",
      "model_module_version": "1.0.0",
      "model_name": "LayoutModel",
      "state": {}
     },
     "fc466280281b46d1b6aad61a3266a9e4": {
      "model_module": "@jupyter-widgets/controls",
      "model_module_version": "1.0.0",
      "model_name": "FloatSliderModel",
      "state": {
       "description": "start",
       "layout": "IPY_MODEL_cfe0245f48dd46f288899164a0a516bd",
       "max": 6.283185307179586,
       "step": 0.1,
       "style": "IPY_MODEL_2a9785a69adc473a994b99bbb9c29fb7"
      }
     },
     "fc8459e7d59548afb0a8384995efeeca": {
      "model_module": "@jupyter-widgets/controls",
      "model_module_version": "1.0.0",
      "model_name": "HTMLModel",
      "state": {
       "layout": "IPY_MODEL_402f95aa334748b0bde5c7de2a447f2d",
       "style": "IPY_MODEL_c9564860f70c4668a5fdd72cb85d52c1",
       "value": "<img src=\"interactive_circle.png\" id=\"snapshot_id_25_1536247401851\"/>\n <div id=\"snapshot_id_26_1536247401851\">interactive_circle.png</div>"
      }
     },
     "fc8d2275459b40cebe497f274631f612": {
      "model_module": "@jupyter-widgets/controls",
      "model_module_version": "1.0.0",
      "model_name": "HTMLModel",
      "state": {
       "layout": "IPY_MODEL_cfbbbecad58c4ae8a3386420c343def5",
       "style": "IPY_MODEL_f93645cc012b4ae3bdc8dfefc535e600",
       "value": "<img src=\"interactive_rectangle.png\" id=\"snapshot_id_11_1536267309901\"/>\n <div id=\"snapshot_id_12_1536267309901\">interactive_rectangle.png</div>"
      }
     },
     "fc8d68c23cf44f31824d99928cb1941c": {
      "model_module": "@jupyter-widgets/controls",
      "model_module_version": "1.0.0",
      "model_name": "FloatSliderModel",
      "state": {
       "description": "alpha",
       "layout": "IPY_MODEL_14c06f2ae0914a7d88688b7f53be2152",
       "max": 1,
       "step": 0.1,
       "style": "IPY_MODEL_bb240a5d30264b119e5837e4330708e5",
       "value": 1
      }
     },
     "fc9d2b5ecf9d4cdfa606c23b3fb04cd2": {
      "model_module": "@jupyter-widgets/output",
      "model_module_version": "1.0.0",
      "model_name": "OutputModel",
      "state": {
       "layout": "IPY_MODEL_c1f7a3959b0a4e5ca8f9a70415bc3998"
      }
     },
     "fd03c594c7ca4c2099ee16f624d755ed": {
      "model_module": "@jupyter-widgets/controls",
      "model_module_version": "1.0.0",
      "model_name": "FloatSliderModel",
      "state": {
       "description": "alpha",
       "layout": "IPY_MODEL_7cabe852dbc24c31acc7c6a7c6d0ede4",
       "max": 1,
       "step": 0.1,
       "style": "IPY_MODEL_ad8a2b78acbf49ca920c3a83de258486",
       "value": 1
      }
     },
     "fd0cab56d81e429e8cfb05189ed230e6": {
      "model_module": "@jupyter-widgets/controls",
      "model_module_version": "1.0.0",
      "model_name": "IntSliderModel",
      "state": {
       "description": "red",
       "layout": "IPY_MODEL_052b9bb8a8514d9fb17b8f5fb392876c",
       "max": 255,
       "style": "IPY_MODEL_f6c096ce6cca471bbb844d3e0c893aaa",
       "value": 255
      }
     },
     "fd1cee0fb14e4f829e869365b300dac3": {
      "model_module": "@jupyter-widgets/base",
      "model_module_version": "1.0.0",
      "model_name": "LayoutModel",
      "state": {}
     },
     "fd24a03937a54d3ab9ffd2997e8eaa9d": {
      "model_module": "@jupyter-widgets/controls",
      "model_module_version": "1.0.0",
      "model_name": "SliderStyleModel",
      "state": {
       "description_width": ""
      }
     },
     "fd43698bb1194bdb8258140acfcdfd3d": {
      "model_module": "@jupyter-widgets/controls",
      "model_module_version": "1.0.0",
      "model_name": "IntSliderModel",
      "state": {
       "description": "x",
       "layout": "IPY_MODEL_a310748f15544800944ced5a4d761722",
       "min": -100,
       "style": "IPY_MODEL_1760473947cd40e2a78b5104a2058f8d"
      }
     },
     "fd47c552ddb648b2812b397bcb7305c1": {
      "model_module": "@jupyter-widgets/controls",
      "model_module_version": "1.0.0",
      "model_name": "VBoxModel",
      "state": {
       "_dom_classes": [
        "widget-interact"
       ],
       "children": [
        "IPY_MODEL_266a1b69002f43df828cbbd586abb503",
        "IPY_MODEL_0497085973f24842bbc8acb93622ec08",
        "IPY_MODEL_3bf03e2b61e64d0d839847d558021c8d",
        "IPY_MODEL_b4a3a574878540ffb08c5b0cf8d7ca45",
        "IPY_MODEL_d94c866fd871461f8531a21a8894da17",
        "IPY_MODEL_80828539fecd44cabeaece7134eb7eb8",
        "IPY_MODEL_2f495c39c6cb4ab1898d1bde88aeddf9",
        "IPY_MODEL_d564cf7922044760ba2c31a0f498dc94",
        "IPY_MODEL_75bbe9e5394a4ea5b7935b97532a3629",
        "IPY_MODEL_0077f871efb442d488e6daf1aa85f782",
        "IPY_MODEL_ac09a2d816d245b1b4e2206d6f441ef9",
        "IPY_MODEL_87e0fb16f13b41a8a808d9a2ed43a3b7",
        "IPY_MODEL_9322699c6b354233a97a8b61c0ed46a6",
        "IPY_MODEL_95ff717ffd9f4d25be2d9134e4c071c1"
       ],
       "layout": "IPY_MODEL_4191f12f667d4f8ca6c0787bddc7619c"
      }
     },
     "fd71ba3eafa342c6a26823f834be5996": {
      "model_module": "@jupyter-widgets/controls",
      "model_module_version": "1.0.0",
      "model_name": "SliderStyleModel",
      "state": {
       "description_width": ""
      }
     },
     "fd725ccb3b304ee095f66041fb006870": {
      "model_module": "@jupyter-widgets/base",
      "model_module_version": "1.0.0",
      "model_name": "LayoutModel",
      "state": {}
     },
     "fd8137c934a443388ea382aa54339aca": {
      "model_module": "@jupyter-widgets/controls",
      "model_module_version": "1.0.0",
      "model_name": "IntSliderModel",
      "state": {
       "description": "degrees",
       "layout": "IPY_MODEL_c6a7788f85dd48d8b515c7f1dd1182f5",
       "max": 360,
       "min": -360,
       "style": "IPY_MODEL_8a32684ce4bf486cb3a914b93c1a63ec",
       "value": 259
      }
     },
     "fd84cdb996cc4455a58be1a082d33d64": {
      "model_module": "@jupyter-widgets/base",
      "model_module_version": "1.0.0",
      "model_name": "LayoutModel",
      "state": {}
     },
     "fd8923b361584ce9818b2443c511e6e6": {
      "model_module": "@jupyter-widgets/controls",
      "model_module_version": "1.0.0",
      "model_name": "SliderStyleModel",
      "state": {
       "description_width": ""
      }
     },
     "fd89396ce5eb466e89d973f1cb217129": {
      "model_module": "@jupyter-widgets/base",
      "model_module_version": "1.0.0",
      "model_name": "LayoutModel",
      "state": {}
     },
     "fdadf82036e54dedab8373150bed1d18": {
      "model_module": "@jupyter-widgets/controls",
      "model_module_version": "1.0.0",
      "model_name": "DescriptionStyleModel",
      "state": {
       "description_width": ""
      }
     },
     "fdf2b1be9bf445b5a1c4e757ac5b3c39": {
      "model_module": "@jupyter-widgets/controls",
      "model_module_version": "1.0.0",
      "model_name": "IntSliderModel",
      "state": {
       "description": "w",
       "layout": "IPY_MODEL_a39191e79ab94869bce99b1b46ed065f",
       "max": 300,
       "min": -300,
       "style": "IPY_MODEL_8ec1a5b4ccc949b5bf4f6a161858bbb2",
       "value": 100
      }
     },
     "fdfddd90df834e06a1e3624430080d0f": {
      "model_module": "@jupyter-widgets/controls",
      "model_module_version": "1.0.0",
      "model_name": "SliderStyleModel",
      "state": {
       "description_width": ""
      }
     },
     "fe2fed39a8214696815758d627af9200": {
      "model_module": "@jupyter-widgets/controls",
      "model_module_version": "1.0.0",
      "model_name": "IntSliderModel",
      "state": {
       "description": "h",
       "layout": "IPY_MODEL_12ea862f319a46c8aa68afac893f4b87",
       "max": 300,
       "min": -300,
       "style": "IPY_MODEL_f757cfdc6e98470da17519d0b6b10c4f",
       "value": 222
      }
     },
     "fe3abd8add854c0d916060fd09e84ef7": {
      "model_module": "@jupyter-widgets/base",
      "model_module_version": "1.0.0",
      "model_name": "LayoutModel",
      "state": {}
     },
     "fe3bff1ddfa742259d7feae110fec4cc": {
      "model_module": "@jupyter-widgets/base",
      "model_module_version": "1.0.0",
      "model_name": "LayoutModel",
      "state": {}
     },
     "fe75751d16454078b012b8d4221cefab": {
      "model_module": "@jupyter-widgets/controls",
      "model_module_version": "1.0.0",
      "model_name": "DescriptionStyleModel",
      "state": {
       "description_width": ""
      }
     },
     "fea6b3d7744b4a73ab9b5329648375eb": {
      "model_module": "@jupyter-widgets/controls",
      "model_module_version": "1.0.0",
      "model_name": "IntSliderModel",
      "state": {
       "description": "y",
       "layout": "IPY_MODEL_64221c31e8db4368bb08104bb5a81691",
       "min": -100,
       "style": "IPY_MODEL_7d8875bda6b5402284ce4d68d8ddeded",
       "value": 26
      }
     },
     "feafdda46982449a8226a17e3c72aa24": {
      "model_module": "@jupyter-widgets/controls",
      "model_module_version": "1.0.0",
      "model_name": "SliderStyleModel",
      "state": {
       "description_width": ""
      }
     },
     "fec0ed28eaac45e79b9c209f08869788": {
      "model_module": "@jupyter-widgets/controls",
      "model_module_version": "1.0.0",
      "model_name": "IntSliderModel",
      "state": {
       "description": "green",
       "layout": "IPY_MODEL_f36f1cf92ff6498eae08115f63875bd2",
       "max": 255,
       "style": "IPY_MODEL_a5cd14585e15469ea4523aacb8a51489",
       "value": 127
      }
     },
     "fee3b7fa2337463999f7d7e635542804": {
      "model_module": "jp_proxy_widget",
      "model_module_version": "^0.3.4",
      "model_name": "JSProxyModel",
      "state": {
       "_model_module_version": "^0.3.4",
       "_send_counter": 1966,
       "_view_module_version": "^0.3.4",
       "error_msg": "No error",
       "layout": "IPY_MODEL_38891d0ccd9441e799bc2e001f2b5598",
       "rendered": true,
       "status": "Got results."
      }
     },
     "ff2b85b3af354540b4feffc43c975ae3": {
      "model_module": "@jupyter-widgets/base",
      "model_module_version": "1.0.0",
      "model_name": "LayoutModel",
      "state": {}
     },
     "ff59da232fb842459eb945e86381e6c2": {
      "model_module": "@jupyter-widgets/controls",
      "model_module_version": "1.0.0",
      "model_name": "VBoxModel",
      "state": {
       "children": [
        "IPY_MODEL_548681b9419845498ce0b180b6f43dd2",
        "IPY_MODEL_4f7b2ecb3a2b4fd59ca3e1e006c40469"
       ],
       "layout": "IPY_MODEL_4976f286fcd14d76b5fa92eef53be5a5"
      }
     },
     "ff5bc05f5fb24d5486365803f5ef211b": {
      "model_module": "@jupyter-widgets/base",
      "model_module_version": "1.0.0",
      "model_name": "LayoutModel",
      "state": {}
     },
     "ff6caf81169d4e109b32f9e2487c79b5": {
      "model_module": "@jupyter-widgets/controls",
      "model_module_version": "1.0.0",
      "model_name": "VBoxModel",
      "state": {
       "children": [
        "IPY_MODEL_f5791560a9b6438dacc830569596a3fd",
        "IPY_MODEL_e47f032df6b444b488e74843da63ab7a"
       ],
       "layout": "IPY_MODEL_99d1520b5d1b490d9e68949745c79fbd"
      }
     },
     "ff700983c343484cbb7f6850177ee17f": {
      "model_module": "@jupyter-widgets/base",
      "model_module_version": "1.0.0",
      "model_name": "LayoutModel",
      "state": {}
     },
     "ffa850661d08447ca0356de52696b2f7": {
      "model_module": "@jupyter-widgets/controls",
      "model_module_version": "1.0.0",
      "model_name": "HTMLModel",
      "state": {
       "layout": "IPY_MODEL_a6fba46921864a83bf30ef7489ffdd71",
       "style": "IPY_MODEL_f5b56121883743ec950100446366ead8",
       "value": "<img src=\"interactive_image.png\" id=\"snapshot_id_35_1536960893640\"/>\n <div id=\"snapshot_id_36_1536960893640\">interactive_image.png</div>"
      }
     },
     "ffad6978826b47b891f654ef2fd3c8d6": {
      "model_module": "@jupyter-widgets/base",
      "model_module_version": "1.0.0",
      "model_name": "LayoutModel",
      "state": {}
     },
     "ffceb71bc89f49c5ab790f1587748f36": {
      "model_module": "@jupyter-widgets/base",
      "model_module_version": "1.0.0",
      "model_name": "LayoutModel",
      "state": {}
     },
     "ffcf951c70024c22881e2f0618667e8e": {
      "model_module": "@jupyter-widgets/base",
      "model_module_version": "1.0.0",
      "model_name": "LayoutModel",
      "state": {}
     },
     "ffd809b2f3824b25aa959835fa730ebe": {
      "model_module": "@jupyter-widgets/controls",
      "model_module_version": "1.0.0",
      "model_name": "SliderStyleModel",
      "state": {
       "description_width": ""
      }
     },
     "ffe61169182049e3a6377207d7c8862c": {
      "model_module": "@jupyter-widgets/base",
      "model_module_version": "1.0.0",
      "model_name": "LayoutModel",
      "state": {}
     },
     "fff9bb4b535947c7bf79a0bea121892c": {
      "model_module": "@jupyter-widgets/base",
      "model_module_version": "1.0.0",
      "model_name": "LayoutModel",
      "state": {}
     }
    },
    "version_major": 2,
    "version_minor": 0
   }
  }
 },
 "nbformat": 4,
 "nbformat_minor": 2
}
