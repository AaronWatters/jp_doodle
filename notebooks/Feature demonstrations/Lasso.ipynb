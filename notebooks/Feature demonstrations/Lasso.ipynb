{
 "cells": [
  {
   "cell_type": "markdown",
   "metadata": {},
   "source": [
    "<img src=\"Lasso.png?v=2\" width=\"320\"/>\n",
    "\n",
    "# Interactive Lasso\n",
    "\n",
    "The `lasso` feature allows the user to draw a polygon around named\n",
    "canvas elements."
   ]
  },
  {
   "cell_type": "code",
   "execution_count": null,
   "metadata": {},
   "outputs": [],
   "source": [
    "from jp_doodle import dual_canvas\n",
    "from IPython.display import display"
   ]
  },
  {
   "cell_type": "code",
   "execution_count": null,
   "metadata": {},
   "outputs": [],
   "source": [
    "# In this demonstration we do most of the work in Javascript.\n",
    "\n",
    "demo = dual_canvas.DualCanvasWidget(width=320, height=220)\n",
    "display(demo)\n",
    "\n",
    "demo.js_init(\"\"\"\n",
    "\n",
    "var make_circles = function() {\n",
    "    for (var i=20; i<400; i+=20) {\n",
    "        for (var j=20; j<400; j+=20) {\n",
    "            element.circle({name: \"\"+i+\":\"+j, x:i, y:j, r:4, color:\"green\"});\n",
    "        }\n",
    "    }\n",
    "};\n",
    "\n",
    "var lasso_callback = function(names_mapping) {\n",
    "    // change lassoed elements to pink\n",
    "    for (var name in names_mapping) {\n",
    "        element.change(name, {color: \"pink\"});\n",
    "    }\n",
    "};\n",
    "\n",
    "// Provide a name for the lasso polygon for reference.\n",
    "var lasso_name = \"my_lasso_polygon\"\n",
    "\n",
    "var reset_lasso = function () {\n",
    "    // delete the lasso polygon if it exists\n",
    "    element.forget_objects([lasso_name]);\n",
    "    // make or replace the circles.\n",
    "    make_circles();\n",
    "    // Don't delete the lasso polygon automatically so we can admire it for a while.\n",
    "    var delete_it=false;\n",
    "    element.do_lasso(lasso_callback, {name: lasso_name}, delete_it);\n",
    "};\n",
    "\n",
    "// set up the lasso the first time.\n",
    "reset_lasso();\n",
    "\n",
    "$(\"<div>Please lasso some circles once to turn them pink.</div>\").appendTo(element);\n",
    "\n",
    "var reset_button = $(\"<button>Reset</button>\").appendTo(element);\n",
    "\n",
    "reset_button.click(reset_lasso);\n",
    "\n",
    "element.fit();\n",
    "\n",
    "\"\"\")"
   ]
  },
  {
   "cell_type": "code",
   "execution_count": null,
   "metadata": {},
   "outputs": [],
   "source": [
    "#demo.save_pixels_to_png_async(\"Lasso.png\")"
   ]
  },
  {
   "cell_type": "markdown",
   "metadata": {
    "collapsed": true
   },
   "source": [
    "# Similar logic but using the Python interface.\n",
    "\n",
    "No Javascript up our sleeves."
   ]
  },
  {
   "cell_type": "code",
   "execution_count": null,
   "metadata": {},
   "outputs": [],
   "source": [
    "demo2 = dual_canvas.DualCanvasWidget(width=320, height=220)\n",
    "\n",
    "def make_circles():\n",
    "    for i in range(20, 400, 20):\n",
    "        for j in range(20, 400, 20):\n",
    "            name = \"circle\" + repr((i,j))\n",
    "            demo2.circle(name=name, x=i, y=j, r=4, color=\"green\")\n",
    "            \n",
    "selected = []\n",
    "\n",
    "def lasso_callback(names_mapping):\n",
    "    selected[:] = []\n",
    "    for name in names_mapping:\n",
    "        selected.append(name)\n",
    "        demo2.change(name, color=\"pink\")\n",
    "\n",
    "lasso_name = \"my_lasso_polygon\"\n",
    "\n",
    "def reset_lasso():\n",
    "    with demo2.delay_redraw():\n",
    "        demo2.forget_objects([lasso_name])\n",
    "        make_circles()\n",
    "        demo2.do_lasso(lasso_callback, delete_after=False, name=lasso_name)\n",
    "\n",
    "reset_lasso()\n",
    "demo2.fit()\n",
    "#demo2.debugging_display()\n",
    "display(demo2)"
   ]
  },
  {
   "cell_type": "code",
   "execution_count": null,
   "metadata": {},
   "outputs": [],
   "source": [
    "# Examine the selected names\n",
    "selected"
   ]
  },
  {
   "cell_type": "code",
   "execution_count": null,
   "metadata": {},
   "outputs": [],
   "source": [
    "# go again...\n",
    "reset_lasso()"
   ]
  },
  {
   "cell_type": "code",
   "execution_count": null,
   "metadata": {},
   "outputs": [],
   "source": []
  }
 ],
 "metadata": {
  "kernelspec": {
   "display_name": "Python 3",
   "language": "python",
   "name": "python3"
  },
  "language_info": {
   "codemirror_mode": {
    "name": "ipython",
    "version": 3
   },
   "file_extension": ".py",
   "mimetype": "text/x-python",
   "name": "python",
   "nbconvert_exporter": "python",
   "pygments_lexer": "ipython3",
   "version": "3.6.8"
  }
 },
 "nbformat": 4,
 "nbformat_minor": 2
}
