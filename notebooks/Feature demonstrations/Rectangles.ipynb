{
 "cells": [
  {
   "cell_type": "markdown",
   "metadata": {
    "deletable": true,
    "editable": true
   },
   "source": [
    " <img src=\"Rectangles.png\" width=\"320\"> \n",
    " \n",
    "# Rectangles\n",
    "\n",
    "\n",
    "You can draw rectangles on canvases by providing `x`, `y` lower left corner coordinates\n",
    "and width `w` and height `h`.\n",
    "The rectangles can have transparent colors and they may be filled or not (stroked).\n",
    "Rectangles may have negative widths and heights.  Rectangles may be rotated."
   ]
  },
  {
   "cell_type": "code",
   "execution_count": null,
   "metadata": {
    "collapsed": true,
    "deletable": true,
    "editable": true
   },
   "outputs": [],
   "source": [
    "from jp_doodle import dual_canvas\n",
    "from IPython.display import display"
   ]
  },
  {
   "cell_type": "code",
   "execution_count": null,
   "metadata": {
    "collapsed": false,
    "deletable": true,
    "editable": true
   },
   "outputs": [],
   "source": [
    "# In this demonstration we do most of the work in Javascript.\n",
    "\n",
    "demo = dual_canvas.DualCanvasWidget(width=320, height=220)\n",
    "display(demo)\n",
    "\n",
    "demo.js_init(\"\"\"\n",
    "\n",
    "element.rect({name: \"full\", x:0, y:0, w:50, h:30, color:\"green\"});\n",
    "element.rect({name: \"stroked rotated\", x:0, y:-20, w:40, h:90, color:\"#7DD\",\n",
    "    degrees: 33, fill: false, lineWidth: 5});\n",
    "element.rect({name: \"stroked transparent\", x:-20, y:0, \n",
    "    w:100, h:40, color:\"rgba(2,22,222,0.5)\",\n",
    "    fill: false, lineWidth: 10});\n",
    "element.rect({name: \"negative rotated\", x:60, y:20, \n",
    "    degrees: -10, w:-30, h:-50, color:\"rgba(200,150,50,0.8)\"});\n",
    "\n",
    "// Fit the figure into the available space\n",
    "element.fit(null, 10);\n",
    "\"\"\")"
   ]
  },
  {
   "cell_type": "code",
   "execution_count": null,
   "metadata": {
    "collapsed": false,
    "deletable": true,
    "editable": true
   },
   "outputs": [],
   "source": [
    "# python equivalent\n",
    "import math\n",
    "\n",
    "demo2 = dual_canvas.DualCanvasWidget(width=320, height=220)\n",
    "display(demo2)\n",
    "\n",
    "demo2.rect(name=\"full\", x=0, y=0, w=50, h=30, color=\"green\")\n",
    "demo2.rect(name=\"stroked rotated\", x=0, y=-20, w=40, h=90, color=\"#7DD\",\n",
    "    degrees=33, fill=False, lineWidth=5)\n",
    "demo2.rect(name=\"stroked transparent\", x=-20, y=0, \n",
    "    w=100, h=40, color=\"rgba(2,22,222,0.5)\",\n",
    "    fill=False, lineWidth=10)\n",
    "demo2.rect(name=\"negative rotated\", x=60, y=20, \n",
    "    degrees=-10, w=-30, h=-50, color=\"rgba(200,150,50,0.8)\")\n",
    "\n",
    "# Fit the figure into the available space\n",
    "demo2.fit(None, 10);"
   ]
  },
  {
   "cell_type": "code",
   "execution_count": null,
   "metadata": {
    "collapsed": true,
    "deletable": true,
    "editable": true
   },
   "outputs": [],
   "source": [
    "#demo2.save_pixels_to_png_async(\"Rectangles.png\")"
   ]
  },
  {
   "cell_type": "code",
   "execution_count": null,
   "metadata": {
    "collapsed": true,
    "deletable": true,
    "editable": true
   },
   "outputs": [],
   "source": []
  }
 ],
 "metadata": {
  "kernelspec": {
   "display_name": "Python 2",
   "language": "python",
   "name": "python2"
  },
  "language_info": {
   "codemirror_mode": {
    "name": "ipython",
    "version": 2
   },
   "file_extension": ".py",
   "mimetype": "text/x-python",
   "name": "python",
   "nbconvert_exporter": "python",
   "pygments_lexer": "ipython2",
   "version": "2.7.13"
  }
 },
 "nbformat": 4,
 "nbformat_minor": 2
}
