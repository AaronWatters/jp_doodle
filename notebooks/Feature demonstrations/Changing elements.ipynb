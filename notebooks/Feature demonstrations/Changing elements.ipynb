{
 "cells": [
  {
   "cell_type": "markdown",
   "metadata": {},
   "source": [
    "<img src=\"Changing.png\" width=\"320\"/>\n",
    "\n",
    "# Changing elements\n",
    "\n",
    "Use the `change` method to adjust the properties\n",
    "of a named element.  Use `requestAnimationFrame` to animate changing elements."
   ]
  },
  {
   "cell_type": "code",
   "execution_count": null,
   "metadata": {},
   "outputs": [],
   "source": [
    "from jp_doodle import dual_canvas\n",
    "from IPython.display import display"
   ]
  },
  {
   "cell_type": "code",
   "execution_count": null,
   "metadata": {},
   "outputs": [],
   "source": [
    "# In this demonstration we do most of the work in Javascript.\n",
    "\n",
    "demo = dual_canvas.DualCanvasWidget(width=320, height=220)\n",
    "display(demo)\n",
    "\n",
    "demo.js_init(\"\"\"\n",
    "\n",
    "// adjust coordinate transform in range -100..100\n",
    "element.fit({min_x: -100, min_y: -100, max_x: 100, max_y: 100})\n",
    "\n",
    "// make a circle to move around\n",
    "var circ = element.circle({\n",
    "    name: \"moving circle\",\n",
    "    x: 0, y:0, color: \"green\", r:10\n",
    "});\n",
    "\n",
    "// make a trailing poly line, initially with no points\n",
    "var polygon_points = [];\n",
    "var poly = element.polygon({\n",
    "    name: \"trailer\", points: [], color: \"blue\", fill: false, lineWidth:2, close: false\n",
    "})\n",
    "\n",
    "// define an animation which moves the circle\n",
    "var animate = function () {\n",
    "    var milliseconds = (new Date()).getTime();\n",
    "    var theta = milliseconds / 500.0;\n",
    "    var x = 90 * Math.sin(theta * 0.211);\n",
    "    var y = 90 * Math.cos(theta);\n",
    "    // Adjust the circle location\n",
    "    circ.change({x: x, y:y});\n",
    "    // Add the point to the polyline\n",
    "    polygon_points.unshift([x, y])\n",
    "    polygon_points = polygon_points.slice(0,1000);\n",
    "    poly.change({points: polygon_points})\n",
    "    // Repeat the animation again on the next animation iteration.\n",
    "    requestAnimationFrame(animate);\n",
    "}\n",
    "\n",
    "// Start the animation\n",
    "animate();\n",
    "\n",
    "\"\"\")"
   ]
  },
  {
   "cell_type": "code",
   "execution_count": null,
   "metadata": {},
   "outputs": [],
   "source": [
    "#demo.save_pixels_to_png_async(\"Changing.png\")"
   ]
  },
  {
   "cell_type": "markdown",
   "metadata": {
    "collapsed": true
   },
   "source": [
    "# Similar logic but using the Python interface.\n",
    "\n",
    "No Javascript up our sleeves."
   ]
  },
  {
   "cell_type": "code",
   "execution_count": null,
   "metadata": {},
   "outputs": [],
   "source": [
    "demo2 = dual_canvas.DualCanvasWidget(width=320, height=220)\n",
    "demo2.fit({\"min_x\": -100, \"min_y\": -100, \"max_x\": 100, \"max_y\": 100})\n",
    "circ = demo2.circle(name=\"moving circle\", x=0, y=0, r=10, color=\"green\")\n",
    "points = []\n",
    "poly = demo2.polygon(name=\"trailer\", points=points, color=\"blue\", fill=False, lineWidth=2, close=False)\n",
    "\n",
    "import time, math\n",
    "\n",
    "def animate(*ignored):\n",
    "    theta = time.time() * 3\n",
    "    #print (\"animating at\", theta)\n",
    "    x = 90 * math.sin(theta * 0.311)\n",
    "    y = 90 * math.cos(theta)\n",
    "    points.append([x,y])\n",
    "    points[:] = points[-1000:]\n",
    "    poly.change(points=points)\n",
    "    circ.change(x=x, y=y)\n",
    "    demo2.requestAnimationFrame(animate)\n",
    "    \n",
    "animate()\n",
    "    \n",
    "#demo2.debugging_display()\n",
    "display(demo2)"
   ]
  },
  {
   "cell_type": "code",
   "execution_count": null,
   "metadata": {},
   "outputs": [],
   "source": []
  },
  {
   "cell_type": "code",
   "execution_count": null,
   "metadata": {},
   "outputs": [],
   "source": []
  }
 ],
 "metadata": {
  "kernelspec": {
   "display_name": "Python 3",
   "language": "python",
   "name": "python3"
  },
  "language_info": {
   "codemirror_mode": {
    "name": "ipython",
    "version": 3
   },
   "file_extension": ".py",
   "mimetype": "text/x-python",
   "name": "python",
   "nbconvert_exporter": "python",
   "pygments_lexer": "ipython3",
   "version": "3.6.8"
  }
 },
 "nbformat": 4,
 "nbformat_minor": 2
}
