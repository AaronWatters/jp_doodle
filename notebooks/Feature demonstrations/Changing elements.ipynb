{
 "cells": [
  {
   "cell_type": "markdown",
   "metadata": {
    "deletable": true,
    "editable": true
   },
   "source": [
    "# Changing elements\n",
    "\n",
    "Use the `change_element` method to adjust the properties\n",
    "of a named element."
   ]
  },
  {
   "cell_type": "code",
   "execution_count": 1,
   "metadata": {
    "collapsed": true,
    "deletable": true,
    "editable": true
   },
   "outputs": [],
   "source": [
    "from jp_doodle import dual_canvas\n",
    "from IPython.display import display"
   ]
  },
  {
   "cell_type": "code",
   "execution_count": 2,
   "metadata": {
    "collapsed": false,
    "deletable": true,
    "editable": true
   },
   "outputs": [
    {
     "data": {
      "application/vnd.jupyter.widget-view+json": {
       "model_id": "59b3ea315b314a20a1f6355b0e777701",
       "version_major": 2,
       "version_minor": 0
      },
      "text/html": [
       "<p>Failed to display Jupyter Widget of type <code>DualCanvasWidget</code>.</p>\n",
       "<p>\n",
       "  If you're reading this message in Jupyter Notebook or JupyterLab, it may mean\n",
       "  that the widgets JavaScript is still loading. If this message persists, it\n",
       "  likely means that the widgets JavaScript library is either not installed or\n",
       "  not enabled. See the <a href=\"https://ipywidgets.readthedocs.io/en/stable/user_install.html\">Jupyter\n",
       "  Widgets Documentation</a> for setup instructions.\n",
       "</p>\n",
       "<p>\n",
       "  If you're reading this message in another notebook frontend (for example, a static\n",
       "  rendering on GitHub or <a href=\"https://nbviewer.jupyter.org/\">NBViewer</a>),\n",
       "  it may mean that your frontend doesn't currently support widgets.\n",
       "</p>\n"
      ],
      "text/plain": [
       "DualCanvasWidget(status=u'Not yet rendered')"
      ]
     },
     "metadata": {},
     "output_type": "display_data"
    }
   ],
   "source": [
    "# In this demonstration we do most of the work in Javascript.\n",
    "\n",
    "demo = dual_canvas.DualCanvasWidget(width=320, height=220)\n",
    "display(demo)\n",
    "\n",
    "demo.js_init(\"\"\"\n",
    "\n",
    "// adjust coordinate transform in range -100..100\n",
    "element.fit({min_x: -100, min_y: -100, max_x: 100, max_y: 100})\n",
    "\n",
    "// make a circle to move around\n",
    "element.circle({\n",
    "    name: \"moving circle\",\n",
    "    x: 0, y:0, color: \"green\", r:10\n",
    "});\n",
    "\n",
    "// make a trailing poly line, initially with no points\n",
    "var polygon_points = [];\n",
    "element.polygon({\n",
    "    name: \"trailer\", points: [], color: \"blue\", fill: false, lineWidth:2, close: false\n",
    "})\n",
    "\n",
    "// define an animation which moves the circle\n",
    "var animate = function () {\n",
    "    var milliseconds = (new Date()).getTime();\n",
    "    var theta = milliseconds / 500.0;\n",
    "    var x = 90 * Math.sin(theta * 0.211);\n",
    "    var y = 90 * Math.cos(theta);\n",
    "    // Adjust the circle location\n",
    "    element.change_element(\"moving circle\", {x: x, y:y});\n",
    "    // Add the point to the polyline\n",
    "    polygon_points.unshift([x, y])\n",
    "    polygon_points = polygon_points.slice(0,1000);\n",
    "    element.change_element(\"trailer\", {points: polygon_points})\n",
    "    // Repeat the animation again on the next animation iteration.\n",
    "    requestAnimationFrame(animate);\n",
    "}\n",
    "\n",
    "// Start the animation\n",
    "animate();\n",
    "\n",
    "\"\"\")"
   ]
  }
 ],
 "metadata": {
  "kernelspec": {
   "display_name": "Python 2",
   "language": "python",
   "name": "python2"
  },
  "language_info": {
   "codemirror_mode": {
    "name": "ipython",
    "version": 2
   },
   "file_extension": ".py",
   "mimetype": "text/x-python",
   "name": "python",
   "nbconvert_exporter": "python",
   "pygments_lexer": "ipython2",
   "version": "2.7.13"
  }
 },
 "nbformat": 4,
 "nbformat_minor": 2
}
