{
 "cells": [
  {
   "cell_type": "markdown",
   "metadata": {
    "deletable": true,
    "editable": true
   },
   "source": [
    " <img src=\"Text.png\" width=\"320\"> \n",
    " \n",
    "# Text\n",
    "\n",
    "You can draw text on canvases by providing `x`, `y` lower left corner coordinates\n",
    "and a text string with an optional font specification.\n",
    "The text can have transparent colors, may be rotated, and can be aligned `left` or `center`\n",
    "and vertically aligned `center`."
   ]
  },
  {
   "cell_type": "code",
   "execution_count": null,
   "metadata": {
    "collapsed": true,
    "deletable": true,
    "editable": true
   },
   "outputs": [],
   "source": [
    "from jp_doodle import dual_canvas\n",
    "from IPython.display import display"
   ]
  },
  {
   "cell_type": "code",
   "execution_count": null,
   "metadata": {
    "collapsed": false,
    "deletable": true,
    "editable": true
   },
   "outputs": [],
   "source": [
    "# In this demonstration we do most of the work in Javascript.\n",
    "\n",
    "demo = dual_canvas.DualCanvasWidget(width=320, height=220)\n",
    "display(demo)\n",
    "\n",
    "demo.js_init(\"\"\"\n",
    "\n",
    "element.text({name: \"full\", x:-20, y:20, \n",
    "    text:\"Cookie\", font: \"40pt Arial\", color:\"#ee3\"});\n",
    "element.text({name: \"rotated\", x:-30, y:-40, text: \"UP\\u2192\", color:\"#7DD\",\n",
    "    font: \"40pt Times\", degrees: 92});\n",
    "element.circle({name: \"alignment reference\", x:20, y:-10, r:3, color:\"red\"});\n",
    "element.text({name: \"transparent\", x:20, y:-10, text: \"EYES ONLY\",\n",
    "    color:\"rgba(222,111,111,0.4)\", degrees:45, align:\"center\",\n",
    "    valign: \"center\", font: \"30pt Courier\"});\n",
    "element.text({name: \"left aligned\", text: \"\\u2190EXIT\", x:20, y:-10, \n",
    "    degrees: -10, align:\"left\", color:\"rgba(200,150,50,0.8)\",\n",
    "    font: \"20pt Arial\"});\n",
    "\n",
    "// Fit the figure into the available space\n",
    "element.fit(null, 10);\n",
    "\"\"\")"
   ]
  },
  {
   "cell_type": "code",
   "execution_count": null,
   "metadata": {
    "collapsed": false,
    "deletable": true,
    "editable": true
   },
   "outputs": [],
   "source": [
    "# python equivalent\n",
    "import math\n",
    "\n",
    "demo2 = dual_canvas.DualCanvasWidget(width=320, height=220)\n",
    "display(demo2)\n",
    "\n",
    "demo2.text(name= \"full\", x=-20, y=20, \n",
    "    text=\"Cookie\", font= \"40pt Arial\", color=\"#ee3\", background=\"#9e9\")\n",
    "demo2.text(name=\"rotated\", x=-30, y=-40, text=u\"UP\\u2192\", color=\"#7DD\",\n",
    "    font=\"40pt Times\", degrees=92)\n",
    "demo2.text(name=\"transparent\", x=20, y=-10, text=\"EYES ONLY\",\n",
    "    color=\"rgba(222,111,111,0.3)\", degrees=45, align=\"center\", background=\"rgba(0,0,0,0.05)\",\n",
    "    font=\"30pt Courier\")\n",
    "demo2.text(name=\"left aligned\", text=u\"\\u2190EXIT\", x=20, y=-20, \n",
    "    degrees=-10, align=\"left\", color=\"rgba(200,150,50,0.8)\",\n",
    "    font=\"20pt Arial\")\n",
    "\n",
    "# Fit the figure into the available space\n",
    "demo2.fit(None, 10);"
   ]
  },
  {
   "cell_type": "code",
   "execution_count": null,
   "metadata": {
    "collapsed": true,
    "deletable": true,
    "editable": true
   },
   "outputs": [],
   "source": [
    "demo2.save_pixels_to_png_async(\"Text.png\")"
   ]
  },
  {
   "cell_type": "code",
   "execution_count": null,
   "metadata": {
    "collapsed": true,
    "deletable": true,
    "editable": true
   },
   "outputs": [],
   "source": []
  }
 ],
 "metadata": {
  "kernelspec": {
   "display_name": "Python 2",
   "language": "python",
   "name": "python2"
  },
  "language_info": {
   "codemirror_mode": {
    "name": "ipython",
    "version": 2
   },
   "file_extension": ".py",
   "mimetype": "text/x-python",
   "name": "python",
   "nbconvert_exporter": "python",
   "pygments_lexer": "ipython2",
   "version": "2.7.13"
  }
 },
 "nbformat": 4,
 "nbformat_minor": 2
}
