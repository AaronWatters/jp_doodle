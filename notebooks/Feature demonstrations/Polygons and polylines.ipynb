{
 "cells": [
  {
   "cell_type": "markdown",
   "metadata": {
    "deletable": true,
    "editable": true
   },
   "source": [
    "<img src=\"Polygons.png\" width=\"320\"/>\n",
    "\n",
    "# Polygons and polylines\n",
    "\n",
    "You can draw polygons or polylines on canvases by providing a sequence of points.\n",
    "The polygons can have transparent colors and they may be filled or not (stroked).\n",
    "\n",
    "Below for convenience we use reference frames to draw polygons in different places\n",
    "at different scales using the same point sequence.  All drawing methods available\n",
    "for canvases are also available for reference frames."
   ]
  },
  {
   "cell_type": "code",
   "execution_count": null,
   "metadata": {
    "collapsed": true,
    "deletable": true,
    "editable": true
   },
   "outputs": [],
   "source": [
    "from jp_doodle import dual_canvas\n",
    "from IPython.display import display"
   ]
  },
  {
   "cell_type": "code",
   "execution_count": null,
   "metadata": {
    "collapsed": false,
    "deletable": true,
    "editable": true
   },
   "outputs": [],
   "source": [
    "# In this demonstration we do most of the work in Javascript.\n",
    "\n",
    "demo = dual_canvas.DualCanvasWidget(width=320, height=220)\n",
    "display(demo)\n",
    "\n",
    "demo.js_init(\"\"\"\n",
    "\n",
    "var points = [[5,0], [4,2], [4,4], [3,6], [3,5], [1,4], [2,3], [2,2], [3,1], [0,0]];\n",
    "\n",
    "// Use reference frames for positioning:\n",
    "var ul = element.frame_region(-90,0,0,90, 0,0,6,6);\n",
    "var ll = element.frame_region(-90,-90,0,0, 0,0,6,6);\n",
    "var ur = element.frame_region(0,0,90,90, 0,0,6,6);\n",
    "var big = element.frame_region(-130,-100,130,90, 0,0,6,6);\n",
    "\n",
    "ul.polygon({name: \"full filled\", points: points, color:\"green\"});\n",
    "ll.polygon({name: \"stroked closed\", points: points, color:\"red\",\n",
    "    fill: false, close: true});\n",
    "ur.polygon({name: \"stroked open\", points: points, color:\"cyan\",\n",
    "    fill: false, close: false});\n",
    "big.polygon({name: \"transparent\", points: points, color:\"rgba(100,100,100,0.7)\"});\n",
    "\n",
    "// Fit the figure into the available space\n",
    "element.fit(null, 10);\n",
    "\"\"\")"
   ]
  },
  {
   "cell_type": "code",
   "execution_count": null,
   "metadata": {
    "collapsed": false,
    "deletable": true,
    "editable": true
   },
   "outputs": [],
   "source": [
    "# python equivalent\n",
    "import math\n",
    "\n",
    "demo2 = dual_canvas.DualCanvasWidget(width=320, height=220)\n",
    "display(demo2)\n",
    "#element = demo2.element\n",
    "\n",
    "points = [[5,0], [4,2], [4,4], [3,6], [3,5], [1,4], [2,3], [2,2], [3,1], [0,0]];\n",
    "ul = demo2.named_frame_region(\"ul\",-90,0,0,90, 0,0,6,6);\n",
    "ll = demo2.named_frame_region(\"ll\",-90,-90,0,0, 0,0,6,6);\n",
    "ur = demo2.named_frame_region(\"ur\",0,0,90,90, 0,0,6,6);\n",
    "big = demo2.named_frame_region(\"big\",-130,-100,130,90, 0,0,6,6);\n",
    "\n",
    "ul.polygon(name=\"full filled\", points= points, color=\"green\")\n",
    "ll.polygon(name= \"stroked closed\", points= points, color=\"red\",\n",
    "    fill= False, close= True)\n",
    "ur.polygon(name= \"stroked open\", points= points, color=\"cyan\",\n",
    "    fill= False, close= False)\n",
    "\n",
    "# The named frames can be used from Javascript like so\n",
    "demo2.js_init(\"\"\"\n",
    "element.big.polygon({name: \"transparent\", points: points, color:\"rgba(100,100,100,0.7)\"});\n",
    "\"\"\", points=points)\n",
    "\n",
    "# Fit the figure into the available space\n",
    "demo2.fit(None, 10);"
   ]
  },
  {
   "cell_type": "code",
   "execution_count": null,
   "metadata": {
    "collapsed": false,
    "deletable": true,
    "editable": true
   },
   "outputs": [],
   "source": [
    "demo2.save_pixels_to_png_async(\"Polygons.png\")"
   ]
  },
  {
   "cell_type": "code",
   "execution_count": null,
   "metadata": {
    "collapsed": true,
    "deletable": true,
    "editable": true
   },
   "outputs": [],
   "source": []
  }
 ],
 "metadata": {
  "kernelspec": {
   "display_name": "Python 2",
   "language": "python",
   "name": "python2"
  },
  "language_info": {
   "codemirror_mode": {
    "name": "ipython",
    "version": 2
   },
   "file_extension": ".py",
   "mimetype": "text/x-python",
   "name": "python",
   "nbconvert_exporter": "python",
   "pygments_lexer": "ipython2",
   "version": "2.7.13"
  }
 },
 "nbformat": 4,
 "nbformat_minor": 2
}
