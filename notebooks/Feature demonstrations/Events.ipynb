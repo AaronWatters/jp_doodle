{
 "cells": [
  {
   "cell_type": "markdown",
   "metadata": {
    "deletable": true,
    "editable": true
   },
   "source": [
    " <img src=\"Events.png\" width=\"320\"> \n",
    " \n",
    "# Events\n",
    "\n",
    "The whole canvas and named components can respond to mouse and\n",
    "keyboard events.  Canvases and reference frames provide methods\n",
    "for converting event pixel offsets into x and y coordinates\n",
    "relative to the frame of reference.  Events over a named object\n",
    "provide the properties of the named object as `event.object_info`."
   ]
  },
  {
   "cell_type": "code",
   "execution_count": null,
   "metadata": {
    "collapsed": true,
    "deletable": true,
    "editable": true
   },
   "outputs": [],
   "source": [
    "from jp_doodle import dual_canvas\n",
    "from IPython.display import display"
   ]
  },
  {
   "cell_type": "code",
   "execution_count": null,
   "metadata": {
    "collapsed": false,
    "deletable": true,
    "editable": true
   },
   "outputs": [],
   "source": [
    "# In this demonstration we do most of the work in Javascript.\n",
    "\n",
    "demo = dual_canvas.DualCanvasWidget(width=320, height=220)\n",
    "display(demo)\n",
    "\n",
    "demo.js_init(\"\"\"\n",
    "\n",
    "// A floating tooltip (not a canvas object)\n",
    "var tooltip = $(\"<div>tooltip here</div>\").appendTo(element);\n",
    "tooltip.css({\n",
    "    position: \"absolute\",\n",
    "    width: \"140px\",\n",
    "    height: \"auto\",\n",
    "    background: \"#ddd\",\n",
    "    font: \"12px sans-serif\",\n",
    "    opacity: 0\n",
    "});\n",
    "\n",
    "// Draw some named elements on the canvas.\n",
    "// A filled yellow circle (disk) named \"Colonel Mustard\n",
    "element.circle({name: \"Colonel Mustard\", x:100, y:150, r:90, color:\"yellow\"});\n",
    "\n",
    "// A filled red rectangle named \"Miss Scarlett\"\n",
    "element.rect({name: \"Miss Scarlett\", x:100, y:130, w:100, h:20, color: \"red\"});\n",
    "\n",
    "// An unfilled white circle named \"Mrs. White\"\n",
    "element.circle({\n",
    "    name: \"Mrs. White\", x:100, y:150, r:58, fill:false, \n",
    "    color:\"white\", lineWidth: 14});\n",
    "    \n",
    "// An unfilled blue rectangle named Mrs. Peacock\n",
    "element.rect({\n",
    "    name: \"Mrs. Peacock\", x:40, y:110, w:100, h:20,\n",
    "    color: \"blue\", lineWidth: 10, degrees:70, fill:false});\n",
    "\n",
    "// A line segment named \"Professor Plum\".\n",
    "element.line({\n",
    "    name: \"Professor Plum\", x1:190, y1:100, x2:10, y2:200,\n",
    "    color:\"purple\", lineWidth: 20});\n",
    "    \n",
    "// A click indicator circle, initially hidden\n",
    "element.circle({\n",
    "    name: \"click indicator\", x:0, y:0, r:3, hide:true\n",
    "});\n",
    "    \n",
    "var say_on_click = function(phrase) {\n",
    "    return function (event) {\n",
    "        var object_name = event.object_info.name;\n",
    "        var element_offset = element.visible_canvas.offset();\n",
    "        var canvas_location = element.event_model_location(event);\n",
    "        var pixel_offset = element.event_pixel_location(event);\n",
    "        var name = event.canvas_name;\n",
    "        element.change_element(\"click indicator\", {hide: false, x: canvas_location.x, y: canvas_location.y});\n",
    "        tooltip.offset({\n",
    "            left: pixel_offset.x + element_offset.left + 10,\n",
    "            top: pixel_offset.y + element_offset.top + 10,\n",
    "        })\n",
    "        tooltip.html(\"<b>\"+object_name + \"</b> says <em>\" + phrase + \"</em>\");\n",
    "        tooltip.css({opacity: 0.8});\n",
    "    };\n",
    "};\n",
    "// Attach some click handlers to the objects.\n",
    "element.on_canvas_event(\"click\", say_on_click(\"By Jove!\"), \"Colonel Mustard\");\n",
    "element.on_canvas_event(\"click\", say_on_click(\"My Word!\"), \"Miss Scarlett\");\n",
    "element.on_canvas_event(\"click\", say_on_click(\"Goodness!\"), \"Mrs. Peacock\");\n",
    "element.on_canvas_event(\"click\", say_on_click(\"By Gad!\"), \"Professor Plum\");\n",
    "\n",
    "// Background click makes the dialog and click indicator disappear\n",
    "element.on_canvas_event(\"click\", function() {\n",
    "    tooltip.css({opacity: 0});\n",
    "    element.change_element(\"click indicator\", {hide: true});\n",
    "    });\n",
    "\n",
    "// Fit the figure into the available space\n",
    "element.fit(null, 10);\n",
    "\n",
    "$(\"<button>Silence Col. Mustard</button>\")\n",
    ".appendTo(element)\n",
    ".click(function() {\n",
    "    element.off_canvas_event(\"click\", \"Colonel Mustard\");\n",
    "});\n",
    "\n",
    "var saved_events = null;  // keep events for re-enabling later.\n",
    "\n",
    "$(\"<button>Disable events</button>\")\n",
    ".appendTo(element)\n",
    ".click(function() {\n",
    "    saved_events = element.reset_events();\n",
    "});\n",
    "\n",
    "$(\"<button>Re-enable events</button>\")\n",
    ".appendTo(element)\n",
    ".click(function() {\n",
    "    if (saved_events) {\n",
    "        element.restore_events(saved_events);\n",
    "    }\n",
    "});\n",
    "\"\"\")"
   ]
  },
  {
   "cell_type": "code",
   "execution_count": null,
   "metadata": {
    "collapsed": true,
    "deletable": true,
    "editable": true
   },
   "outputs": [],
   "source": [
    "demo.save_pixels_to_png_async(\"Events.png\")"
   ]
  },
  {
   "cell_type": "code",
   "execution_count": null,
   "metadata": {
    "collapsed": true
   },
   "outputs": [],
   "source": []
  }
 ],
 "metadata": {
  "kernelspec": {
   "display_name": "Python 2",
   "language": "python",
   "name": "python2"
  },
  "language_info": {
   "codemirror_mode": {
    "name": "ipython",
    "version": 2
   },
   "file_extension": ".py",
   "mimetype": "text/x-python",
   "name": "python",
   "nbconvert_exporter": "python",
   "pygments_lexer": "ipython2",
   "version": "2.7.13"
  }
 },
 "nbformat": 4,
 "nbformat_minor": 2
}
