{
 "cells": [
  {
   "cell_type": "code",
   "execution_count": null,
   "metadata": {
    "collapsed": false,
    "deletable": true,
    "editable": true
   },
   "outputs": [],
   "source": [
    "from jp_doodle import dual_canvas\n",
    "from IPython.display import display\n",
    "from jp_proxy_widget import notebook_test_helpers\n",
    "\n",
    "validators = notebook_test_helpers.ValidationSuite()"
   ]
  },
  {
   "cell_type": "code",
   "execution_count": null,
   "metadata": {
    "collapsed": false,
    "deletable": true,
    "editable": true
   },
   "outputs": [],
   "source": [
    "circle_canvas = dual_canvas.DualCanvasWidget(width=120, height=120)\n",
    "display(circle_canvas)\n",
    "circle_canvas.circle(0, 0, 100, \"rgba(100,200,100,1.0)\")\n",
    "circle_canvas.fit(10)"
   ]
  },
  {
   "cell_type": "code",
   "execution_count": null,
   "metadata": {
    "collapsed": true,
    "deletable": true,
    "editable": true
   },
   "outputs": [],
   "source": [
    "class ColorTester:\n",
    "    \n",
    "    def __init__(self, on_canvas, name):\n",
    "        self.name = name\n",
    "        self.position_to_color_expected = {}\n",
    "        self.on_canvas = on_canvas\n",
    "        self.position_to_color_found = {}\n",
    "    def add_check(self, x, y, color_list_expected):\n",
    "        position = (x, y)\n",
    "        self.position_to_color_expected[position] = color_list_expected\n",
    "        def check_callback(color_list_found):\n",
    "            self.position_to_color_found[position] = color_list_found\n",
    "        self.on_canvas.callback_with_pixel_color(x, y, check_callback)\n",
    "    def validate(self):\n",
    "        for position in self.position_to_color_expected:\n",
    "            color_list_expected = self.position_to_color_expected[position]\n",
    "            color_list_found = self.position_to_color_found.get(position)\n",
    "            assert color_list_expected == color_list_found, repr(\n",
    "                (self.name, position, color_list_expected, color_list_found))\n",
    "        print (\"Color tests okay for \"+repr(self.name))\n",
    "        \n",
    "\n",
    "circle_tester = ColorTester(circle_canvas, \"circle\")\n",
    "circle_tester.add_check(60, 60, [100, 200, 100, 255])\n",
    "validators.add_validation(circle_canvas, circle_tester.validate)"
   ]
  },
  {
   "cell_type": "code",
   "execution_count": null,
   "metadata": {
    "collapsed": false,
    "deletable": true,
    "editable": true
   },
   "outputs": [],
   "source": [
    "#circle_tester.validate()"
   ]
  },
  {
   "cell_type": "code",
   "execution_count": null,
   "metadata": {
    "collapsed": false,
    "deletable": true,
    "editable": true
   },
   "outputs": [],
   "source": [
    "rect_canvas = dual_canvas.DualCanvasWidget(width=120, height=120)\n",
    "display(rect_canvas)\n",
    "rect_canvas.rect(0, 0, 50, 25, \"rgba(100,200,100,1.0)\")\n",
    "rect_canvas.rect(0, 25, 50, 25, \"rgba(200,200,100,1.0)\")\n",
    "rect_canvas.fit(0)\n",
    "rect_canvas.js_init(\"\"\"\n",
    "var info = $(\"<div>info here</div>\").appendTo(element);\n",
    "var on_mouse_move = function(event) {\n",
    "    var ploc = event.pixel_location;\n",
    "    var x = Math.floor(ploc.x);\n",
    "    var y = Math.floor(ploc.y);\n",
    "    var color = element.visible_canvas.color_at(x, y).data;\n",
    "    info.html(\"<div>\"+x+\",\"+y+\"::\"+color+\"</div>\");\n",
    "};\n",
    "element.on_canvas_event(\"mousemove\", on_mouse_move);\n",
    "\"\"\")"
   ]
  },
  {
   "cell_type": "code",
   "execution_count": null,
   "metadata": {
    "collapsed": true,
    "deletable": true,
    "editable": true
   },
   "outputs": [],
   "source": [
    "rect_tester = ColorTester(rect_canvas, \"rect\")\n",
    "rect_tester.add_check(20, 20, [200, 200, 100, 255])\n",
    "rect_tester.add_check(20, 60, [100, 200, 100, 255])\n",
    "validators.add_validation(rect_canvas, rect_tester.validate)"
   ]
  },
  {
   "cell_type": "code",
   "execution_count": null,
   "metadata": {
    "collapsed": true,
    "deletable": true,
    "editable": true
   },
   "outputs": [],
   "source": [
    "#rect_tester.validate()"
   ]
  },
  {
   "cell_type": "code",
   "execution_count": null,
   "metadata": {
    "collapsed": false,
    "deletable": true,
    "editable": true
   },
   "outputs": [],
   "source": [
    "text_canvas = dual_canvas.DualCanvasWidget(width=120, height=120)\n",
    "display(text_canvas)\n",
    "text_canvas.text(0, 0, u\"\\u2588\", \"rgba(100,200,4,1.0)\")\n",
    "text_canvas.fit(0)"
   ]
  },
  {
   "cell_type": "code",
   "execution_count": null,
   "metadata": {
    "collapsed": true,
    "deletable": true,
    "editable": true
   },
   "outputs": [],
   "source": [
    "text_tester = ColorTester(text_canvas, \"text\")\n",
    "text_tester.add_check(20, 20, [100, 200, 4, 255])\n",
    "validators.add_validation(text_canvas, text_tester.validate)"
   ]
  },
  {
   "cell_type": "code",
   "execution_count": null,
   "metadata": {
    "collapsed": false,
    "deletable": true,
    "editable": true
   },
   "outputs": [],
   "source": [
    "#text_tester.validate()"
   ]
  },
  {
   "cell_type": "code",
   "execution_count": null,
   "metadata": {
    "collapsed": false,
    "deletable": true,
    "editable": true
   },
   "outputs": [],
   "source": [
    "\n",
    "do_validations = True\n",
    "if do_validations:\n",
    "    delay_ms = 5000\n",
    "    display(validators.run_all_in_widget(delay_ms=delay_ms))"
   ]
  },
  {
   "cell_type": "code",
   "execution_count": null,
   "metadata": {
    "collapsed": true,
    "deletable": true,
    "editable": true
   },
   "outputs": [],
   "source": []
  }
 ],
 "metadata": {
  "kernelspec": {
   "display_name": "Python 2",
   "language": "python",
   "name": "python2"
  },
  "language_info": {
   "codemirror_mode": {
    "name": "ipython",
    "version": 2
   },
   "file_extension": ".py",
   "mimetype": "text/x-python",
   "name": "python",
   "nbconvert_exporter": "python",
   "pygments_lexer": "ipython2",
   "version": "2.7.13"
  }
 },
 "nbformat": 4,
 "nbformat_minor": 2
}
