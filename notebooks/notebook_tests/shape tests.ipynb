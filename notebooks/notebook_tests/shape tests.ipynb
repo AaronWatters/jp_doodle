{
 "cells": [
  {
   "cell_type": "code",
   "execution_count": null,
   "metadata": {
    "collapsed": true,
    "deletable": true,
    "editable": true
   },
   "outputs": [],
   "source": [
    "from jp_doodle import dual_canvas\n",
    "from IPython.display import display\n",
    "from jp_proxy_widget import notebook_test_helpers\n",
    "from canvas_test_helpers import ColorTester\n",
    "\n",
    "validators = notebook_test_helpers.ValidationSuite()"
   ]
  },
  {
   "cell_type": "code",
   "execution_count": null,
   "metadata": {
    "collapsed": false,
    "deletable": true,
    "editable": true
   },
   "outputs": [],
   "source": [
    "circle_canvas = dual_canvas.DualCanvasWidget(width=120, height=120)\n",
    "display(circle_canvas)\n",
    "circle_canvas.circle(0, 0, 100, \"rgba(100,200,100,1.0)\")\n",
    "circle_canvas.fit(None, 10)"
   ]
  },
  {
   "cell_type": "code",
   "execution_count": null,
   "metadata": {
    "collapsed": false,
    "deletable": true,
    "editable": true
   },
   "outputs": [],
   "source": [
    "circle_canvas.js_debug()"
   ]
  },
  {
   "cell_type": "code",
   "execution_count": null,
   "metadata": {
    "collapsed": true,
    "deletable": true,
    "editable": true
   },
   "outputs": [],
   "source": [
    "circle_tester = ColorTester(circle_canvas, \"circle\")\n",
    "circle_tester.add_check(60, 60, [100, 200, 100, 255])\n",
    "validators.add_validation(circle_canvas, circle_tester.validate)"
   ]
  },
  {
   "cell_type": "code",
   "execution_count": null,
   "metadata": {
    "collapsed": false,
    "deletable": true,
    "editable": true
   },
   "outputs": [],
   "source": [
    "#circle_tester.validate()"
   ]
  },
  {
   "cell_type": "code",
   "execution_count": null,
   "metadata": {
    "collapsed": false,
    "deletable": true,
    "editable": true
   },
   "outputs": [],
   "source": [
    "rect_canvas = dual_canvas.DualCanvasWidget(width=120, height=120)\n",
    "display(rect_canvas)\n",
    "rect_canvas.rect(0, 0, 50, 25, \"rgba(100,200,100,1.0)\")\n",
    "rect_canvas.rect(0, 25, 50, 25, \"rgba(200,200,100,1.0)\")\n",
    "rect_canvas.fit(0)\n",
    "rect_canvas.js_init(\"\"\"\n",
    "var info = $(\"<div>info here</div>\").appendTo(element);\n",
    "var on_mouse_move = function(event) {\n",
    "    var ploc = event.pixel_location;\n",
    "    var x = Math.floor(ploc.x);\n",
    "    var y = Math.floor(ploc.y);\n",
    "    var color = element.visible_canvas.color_at(x, y).data;\n",
    "    info.html(\"<div>\"+x+\",\"+y+\"::\"+color+\"</div>\");\n",
    "};\n",
    "element.on_canvas_event(\"mousemove\", on_mouse_move);\n",
    "\"\"\")"
   ]
  },
  {
   "cell_type": "code",
   "execution_count": null,
   "metadata": {
    "collapsed": true,
    "deletable": true,
    "editable": true
   },
   "outputs": [],
   "source": [
    "rect_tester = ColorTester(rect_canvas, \"rect\")\n",
    "rect_tester.add_check(20, 20, [200, 200, 100, 255])\n",
    "rect_tester.add_check(20, 60, [100, 200, 100, 255])\n",
    "validators.add_validation(rect_canvas, rect_tester.validate)"
   ]
  },
  {
   "cell_type": "code",
   "execution_count": null,
   "metadata": {
    "collapsed": true,
    "deletable": true,
    "editable": true
   },
   "outputs": [],
   "source": [
    "#rect_tester.validate()"
   ]
  },
  {
   "cell_type": "code",
   "execution_count": null,
   "metadata": {
    "collapsed": false,
    "deletable": true,
    "editable": true
   },
   "outputs": [],
   "source": [
    "poly_canvas = dual_canvas.DualCanvasWidget(width=120, height=120)\n",
    "display(poly_canvas)\n",
    "poly_canvas.rect(0, 0, 50, 50, \"rgba(100,200,100,1.0)\")\n",
    "points = [[0,0], [0,50], [50,50]]\n",
    "poly_canvas.polygon(points, \"rgba(200,200,100,1.0)\")\n",
    "poly_canvas.fit(0)\n",
    "\n",
    "poly_canvas.js_init(\"\"\"\n",
    "var info = $(\"<div>info here</div>\").appendTo(element);\n",
    "var on_mouse_move = function(event) {\n",
    "    var ploc = event.pixel_location;\n",
    "    var x = Math.floor(ploc.x);\n",
    "    var y = Math.floor(ploc.y);\n",
    "    var color = element.visible_canvas.color_at(x, y).data;\n",
    "    info.html(\"<div>\"+x+\",\"+y+\"::\"+color+\"</div>\");\n",
    "};\n",
    "element.on_canvas_event(\"mousemove\", on_mouse_move);\n",
    "\"\"\")"
   ]
  },
  {
   "cell_type": "code",
   "execution_count": null,
   "metadata": {
    "collapsed": true,
    "deletable": true,
    "editable": true
   },
   "outputs": [],
   "source": [
    "poly_tester = ColorTester(poly_canvas, \"poly\")\n",
    "poly_tester.add_check(20, 20, [200, 200, 100, 255])\n",
    "poly_tester.add_check(80, 80, [100, 200, 100, 255])\n",
    "validators.add_validation(poly_canvas, poly_tester.validate)"
   ]
  },
  {
   "cell_type": "code",
   "execution_count": null,
   "metadata": {
    "collapsed": true,
    "deletable": true,
    "editable": true
   },
   "outputs": [],
   "source": [
    "#poly_tester.validate()"
   ]
  },
  {
   "cell_type": "code",
   "execution_count": null,
   "metadata": {
    "collapsed": false,
    "deletable": true,
    "editable": true
   },
   "outputs": [],
   "source": [
    "line_canvas = dual_canvas.DualCanvasWidget(width=120, height=120)\n",
    "display(line_canvas)\n",
    "line_canvas.rect(0, 0, 50, 50, \"rgba(200,200,100,1.0)\")\n",
    "line_canvas.line(0, 0, 50, 50, \"rgba(100,200,100,1.0)\", lineWidth=20)\n",
    "line_canvas.fit(0)"
   ]
  },
  {
   "cell_type": "code",
   "execution_count": null,
   "metadata": {
    "collapsed": true,
    "deletable": true,
    "editable": true
   },
   "outputs": [],
   "source": [
    "line_tester = ColorTester(line_canvas, \"line\")\n",
    "line_tester.add_check(10, 10, [200, 200, 100, 255])\n",
    "line_tester.add_check(60, 60, [100, 200, 100, 255])\n",
    "validators.add_validation(line_canvas, line_tester.validate)"
   ]
  },
  {
   "cell_type": "code",
   "execution_count": null,
   "metadata": {
    "collapsed": false,
    "deletable": true,
    "editable": true
   },
   "outputs": [],
   "source": [
    "#line_tester.validate()"
   ]
  },
  {
   "cell_type": "code",
   "execution_count": null,
   "metadata": {
    "collapsed": false,
    "deletable": true,
    "editable": true
   },
   "outputs": [],
   "source": [
    "text_canvas = dual_canvas.DualCanvasWidget(width=120, height=120)\n",
    "display(text_canvas)\n",
    "text_canvas.text(0, 0, u\"\\u2588\", \"rgba(100,200,4,1.0)\")\n",
    "text_canvas.fit(0)"
   ]
  },
  {
   "cell_type": "code",
   "execution_count": null,
   "metadata": {
    "collapsed": true,
    "deletable": true,
    "editable": true
   },
   "outputs": [],
   "source": [
    "text_tester = ColorTester(text_canvas, \"text\")\n",
    "text_tester.add_check(60, 60, [100, 200, 4, 255])\n",
    "validators.add_validation(text_canvas, text_tester.validate)"
   ]
  },
  {
   "cell_type": "code",
   "execution_count": null,
   "metadata": {
    "collapsed": false,
    "deletable": true,
    "editable": true
   },
   "outputs": [],
   "source": [
    "# Text with background\n",
    "text_background = dual_canvas.DualCanvasWidget(width=120, height=120)\n",
    "display(text_background)\n",
    "text_background.text(0, 0, u\"\\u25bc\", \"rgba(100,200,4,1.0)\", background=\"rgba(200,100,250,1.0)\")\n",
    "text_background.fit(0)\n",
    "\n",
    "text_background.js_init(\"\"\"\n",
    "var info = $(\"<div>info here</div>\").appendTo(element);\n",
    "var on_mouse_move = function(event) {\n",
    "    var ploc = event.pixel_location;\n",
    "    var x = Math.floor(ploc.x);\n",
    "    var y = Math.floor(ploc.y);\n",
    "    var color = element.visible_canvas.color_at(x, y).data;\n",
    "    info.html(\"<div>\"+x+\",\"+y+\"::\"+color+\"</div>\");\n",
    "};\n",
    "element.on_canvas_event(\"mousemove\", on_mouse_move);\n",
    "\"\"\")"
   ]
  },
  {
   "cell_type": "code",
   "execution_count": null,
   "metadata": {
    "collapsed": false,
    "deletable": true,
    "editable": true
   },
   "outputs": [],
   "source": [
    "tb_tester = ColorTester(text_background, \"text background\")\n",
    "tb_tester.add_check(60, 80, [100, 200, 4, 255])\n",
    "tb_tester.add_check(60, 30, [200, 100, 250, 255])\n",
    "validators.add_validation(text_background, tb_tester.validate)"
   ]
  },
  {
   "cell_type": "code",
   "execution_count": null,
   "metadata": {
    "collapsed": true,
    "deletable": true,
    "editable": true
   },
   "outputs": [],
   "source": [
    "#text_tester.validate()"
   ]
  },
  {
   "cell_type": "code",
   "execution_count": null,
   "metadata": {
    "collapsed": false,
    "deletable": true,
    "editable": true
   },
   "outputs": [],
   "source": [
    "# drawing 2 elements with the same name should override the first instance\n",
    "name_canvas = dual_canvas.DualCanvasWidget(width=120, height=120)\n",
    "display(name_canvas)\n",
    "#name_canvas.rect(0, 0, 50, 50, \"rgba(200,0,0,1.0)\", name=\"different\")\n",
    "#name_canvas.rect(0, 0, 50, 50, \"rgba(0,200,0,1.0)\", name=\"same\")\n",
    "#name_canvas.line(0, 0, 50, 50, \"rgba(0,0,200,1.0)\", lineWidth=20, name=\"same\")\n",
    "#name_canvas.fit()\n",
    "name_canvas.js_init(\"\"\"\n",
    "debugger;\n",
    "element.rect({x:0, y:0, w:50, h:50, color:\"rgba(200,0,0,1.0)\", name:\"different\"});\n",
    "element.rect({x:0, y:0, w:50, h:50, color:\"rgba(0,200,0,1.0)\", name:\"same\"});\n",
    "element.line({x1:0, y1:0, x2:50, y2:50, color:\"rgba(0,0,200,1.0)\", lineWidth:20, name:\"same\"});\n",
    "element.fit();\n",
    "\"\"\")"
   ]
  },
  {
   "cell_type": "code",
   "execution_count": null,
   "metadata": {
    "collapsed": false,
    "deletable": true,
    "editable": true
   },
   "outputs": [],
   "source": [
    "name_tester = ColorTester(name_canvas, \"name\")\n",
    "name_tester.add_check(10, 10, [200, 0, 0, 255])\n",
    "name_tester.add_check(60, 60, [0, 0, 200, 255])\n",
    "validators.add_validation(name_canvas, name_tester.validate)"
   ]
  },
  {
   "cell_type": "code",
   "execution_count": null,
   "metadata": {
    "collapsed": false,
    "deletable": true,
    "editable": true
   },
   "outputs": [],
   "source": [
    "#name_tester.validate()"
   ]
  },
  {
   "cell_type": "code",
   "execution_count": null,
   "metadata": {
    "collapsed": false,
    "deletable": true,
    "editable": true
   },
   "outputs": [],
   "source": [
    "\n",
    "do_validations = True\n",
    "if do_validations:\n",
    "    delay_ms = 5000\n",
    "    display(validators.run_all_in_widget(delay_ms=delay_ms))"
   ]
  },
  {
   "cell_type": "code",
   "execution_count": null,
   "metadata": {
    "collapsed": false,
    "deletable": true,
    "editable": true
   },
   "outputs": [],
   "source": [
    "line_tester.position_to_color_found"
   ]
  },
  {
   "cell_type": "code",
   "execution_count": null,
   "metadata": {
    "collapsed": true,
    "deletable": true,
    "editable": true
   },
   "outputs": [],
   "source": []
  }
 ],
 "metadata": {
  "kernelspec": {
   "display_name": "Python 2",
   "language": "python",
   "name": "python2"
  },
  "language_info": {
   "codemirror_mode": {
    "name": "ipython",
    "version": 2
   },
   "file_extension": ".py",
   "mimetype": "text/x-python",
   "name": "python",
   "nbconvert_exporter": "python",
   "pygments_lexer": "ipython2",
   "version": "2.7.13"
  }
 },
 "nbformat": 4,
 "nbformat_minor": 2
}
