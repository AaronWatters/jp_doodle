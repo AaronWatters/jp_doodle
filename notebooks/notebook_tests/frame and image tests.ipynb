{
 "cells": [
  {
   "cell_type": "code",
   "execution_count": null,
   "metadata": {
    "collapsed": true
   },
   "outputs": [],
   "source": [
    "from jp_doodle import dual_canvas\n",
    "from IPython.display import display\n",
    "from jp_proxy_widget import notebook_test_helpers\n",
    "from canvas_test_helpers import ColorTester\n",
    "\n",
    "validators = notebook_test_helpers.ValidationSuite()"
   ]
  },
  {
   "cell_type": "code",
   "execution_count": null,
   "metadata": {
    "collapsed": false
   },
   "outputs": [],
   "source": [
    "im = dual_canvas.DualCanvasWidget(width=320, height=220)\n",
    "display(im)\n",
    "frame = im.rframe(scale_x=1, scale_y=1, translate_x=150, translate_y=50)\n",
    "frame.frame_rect(0, 0, 100, 100, color=\"rgb(254,200,100)\", name=\"rect\")\n",
    "\n",
    "import numpy as np\n",
    "test3x2x4 = np.zeros((30,20,4), dtype=np.ubyte)\n",
    "test3x2x4[:,:] = [2, 25, 255, 255]\n",
    "im.name_image_array(\"testimage\", test3x2x4)\n",
    "frame.named_image(\"testimage\", 10, 10, 100, 100, name=\"image\")\n",
    "#frame.text(text=\"EXAMPLE TEXT\", x=10, y=120, name=\"text\")\n",
    "\n",
    "def add_axes(frame, color):\n",
    "    cfg = {\"color\":color}\n",
    "    frame.lower_left_axes(min_x=10, min_y=-10, max_x=200, max_y=200,\n",
    "            tick_text_config=cfg, tick_line_config=cfg,\n",
    "            x_anchor=50, y_anchor=50)\n",
    "    \n",
    "#add_axes(im, \"#999\")\n",
    "#add_axes(frame, \"salmon\")\n",
    "\n",
    "im.element.invisible_canvas.show()\n",
    "im.fit()"
   ]
  },
  {
   "cell_type": "code",
   "execution_count": null,
   "metadata": {
    "collapsed": true
   },
   "outputs": [],
   "source": [
    "im_tester = ColorTester(im, \"image\", height=220)\n",
    "im_tester.add_check(150,100, [2, 25, 255, 255])\n",
    "validators.add_validation(im, im_tester.validate)"
   ]
  },
  {
   "cell_type": "code",
   "execution_count": null,
   "metadata": {
    "collapsed": false
   },
   "outputs": [],
   "source": [
    "#im_tester.validate()"
   ]
  },
  {
   "cell_type": "code",
   "execution_count": null,
   "metadata": {
    "collapsed": false
   },
   "outputs": [],
   "source": [
    "do_validations = True\n",
    "if do_validations:\n",
    "    delay_ms = 5000\n",
    "    display(validators.run_all_in_widget(delay_ms=delay_ms))"
   ]
  },
  {
   "cell_type": "code",
   "execution_count": null,
   "metadata": {
    "collapsed": true
   },
   "outputs": [],
   "source": []
  }
 ],
 "metadata": {
  "kernelspec": {
   "display_name": "Python 2",
   "language": "python",
   "name": "python2"
  },
  "language_info": {
   "codemirror_mode": {
    "name": "ipython",
    "version": 2
   },
   "file_extension": ".py",
   "mimetype": "text/x-python",
   "name": "python",
   "nbconvert_exporter": "python",
   "pygments_lexer": "ipython2",
   "version": "2.7.13"
  }
 },
 "nbformat": 4,
 "nbformat_minor": 2
}
