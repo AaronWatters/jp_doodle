{
 "cells": [
  {
   "cell_type": "code",
   "execution_count": null,
   "metadata": {
    "collapsed": false,
    "deletable": true,
    "editable": true
   },
   "outputs": [],
   "source": [
    "from jp_doodle import dual_canvas\n",
    "from IPython.display import display\n",
    "from jp_proxy_widget import notebook_test_helpers\n",
    "from canvas_test_helpers import ColorTester\n",
    "\n",
    "validators = notebook_test_helpers.ValidationSuite()"
   ]
  },
  {
   "cell_type": "code",
   "execution_count": null,
   "metadata": {
    "collapsed": false,
    "deletable": true,
    "editable": true
   },
   "outputs": [],
   "source": [
    "vf = dual_canvas.DualCanvasWidget(width=320, height=220)\n",
    "display(vf)\n",
    "x_vector = dict(x=0.5, y=0)\n",
    "y_vector = dict(x=0.5, y=0.5)\n",
    "xy_offset = dict(x=20, y=50)\n",
    "vf.lower_left_axes(50, 50, 280, 180, add_end_points=False)\n",
    "frame = vf.named_vector_frame(\"skew\", x_vector, y_vector, xy_offset)\n",
    "frame.lower_left_axes(\n",
    "    50, 50, 280, 180, add_end_points=False, \n",
    "    tick_line_config=dict(color=\"red\"),\n",
    "    tick_text_config=dict(color=\"pink\"))\n",
    "vf.circle(20, 150, 12, \"cyan\")\n",
    "frame.circle(-200, 200, 10, \"rgba(100,200,100,1.0)\")"
   ]
  },
  {
   "cell_type": "code",
   "execution_count": null,
   "metadata": {
    "collapsed": false,
    "deletable": true,
    "editable": true
   },
   "outputs": [],
   "source": [
    "vf_tester = ColorTester(vf, \"vector frame\", height=220)\n",
    "vf_tester.add_check(20, 150, [100, 200, 100, 255])\n",
    "validators.add_validation(vf, vf_tester.validate)"
   ]
  },
  {
   "cell_type": "code",
   "execution_count": null,
   "metadata": {
    "collapsed": false,
    "deletable": true,
    "editable": true
   },
   "outputs": [],
   "source": [
    "#vf_tester.validate()"
   ]
  },
  {
   "cell_type": "code",
   "execution_count": null,
   "metadata": {
    "collapsed": false,
    "deletable": true,
    "editable": true
   },
   "outputs": [],
   "source": [
    "rf = dual_canvas.DualCanvasWidget(width=320, height=220)\n",
    "display(rf)\n",
    "scale_x = 0.5\n",
    "scale_y = 2.0\n",
    "translate_x = 20\n",
    "translate_y = 10\n",
    "rf.lower_left_axes(30, 30, 180, 100, add_end_points=False)\n",
    "frame = rf.named_rframe(\"scaled\", scale_x, scale_y, translate_x, translate_y)\n",
    "frame.lower_left_axes(\n",
    "    30, 30, 180, 100, add_end_points=False, \n",
    "    tick_line_config=dict(color=\"red\"),\n",
    "    tick_text_config=dict(color=\"pink\"))\n",
    "rf.circle(20 + 100*0.5, 10 + 2.0*60, 12, \"cyan\")\n",
    "frame.circle(100, 60, 10, \"rgba(100,200,100,1.0)\")"
   ]
  },
  {
   "cell_type": "code",
   "execution_count": null,
   "metadata": {
    "collapsed": false,
    "deletable": true,
    "editable": true
   },
   "outputs": [],
   "source": [
    "rf_tester = ColorTester(rf, \"rectangular frame\", height=220)\n",
    "rf_tester.add_check(70, 130, [100, 200, 100, 255])\n",
    "validators.add_validation(rf, rf_tester.validate)\n",
    "20 + 100*0.5, 10 + 2.0*60"
   ]
  },
  {
   "cell_type": "code",
   "execution_count": null,
   "metadata": {
    "collapsed": true,
    "deletable": true,
    "editable": true
   },
   "outputs": [],
   "source": [
    "#rf_tester.validate()"
   ]
  },
  {
   "cell_type": "code",
   "execution_count": null,
   "metadata": {
    "collapsed": false,
    "deletable": true,
    "editable": true
   },
   "outputs": [],
   "source": [
    "rgf = dual_canvas.DualCanvasWidget(width=320, height=220)\n",
    "display(rgf)\n",
    "minx = 50\n",
    "miny = 30\n",
    "maxx = 250\n",
    "maxy = 130\n",
    "frame_min_x = 20\n",
    "frame_max_x = 220\n",
    "frame_min_y = 10\n",
    "frame_max_y = 210\n",
    "\n",
    "rgf.lower_left_axes(minx, miny, maxx, maxy, add_end_points=True, max_tick_count=4)\n",
    "\n",
    "frame = rgf.named_frame_region(\n",
    "    \"the_region\",\n",
    "    minx, miny, maxx, maxy, frame_min_x, frame_min_y, frame_max_x, frame_max_y)\n",
    "\n",
    "frame.lower_left_axes(\n",
    "    frame_min_x, frame_min_y, frame_max_x, frame_max_y, add_end_points=True, \n",
    "    tick_line_config=dict(color=\"red\"),\n",
    "    tick_text_config=dict(color=\"pink\"),\n",
    "    max_tick_count=4)\n",
    "rgf.circle(150, 80, 12, \"cyan\")\n",
    "frame.circle(120, 110, 10, \"rgba(100,200,100,1.0)\")"
   ]
  },
  {
   "cell_type": "code",
   "execution_count": null,
   "metadata": {
    "collapsed": false,
    "deletable": true,
    "editable": true
   },
   "outputs": [],
   "source": [
    "rgf_tester = ColorTester(rgf, \"region frame\", height=220)\n",
    "rgf_tester.add_check(150, 80, [100, 200, 100, 255])\n",
    "validators.add_validation(rgf, rgf_tester.validate)"
   ]
  },
  {
   "cell_type": "code",
   "execution_count": null,
   "metadata": {
    "collapsed": false,
    "deletable": true,
    "editable": true
   },
   "outputs": [],
   "source": [
    "do_validations = True\n",
    "if do_validations:\n",
    "    delay_ms = 5000\n",
    "    display(validators.run_all_in_widget(delay_ms=delay_ms))"
   ]
  },
  {
   "cell_type": "code",
   "execution_count": null,
   "metadata": {
    "collapsed": false,
    "deletable": true,
    "editable": true
   },
   "outputs": [],
   "source": [
    "#rf_tester.position_to_color_found"
   ]
  },
  {
   "cell_type": "code",
   "execution_count": null,
   "metadata": {
    "collapsed": true,
    "deletable": true,
    "editable": true
   },
   "outputs": [],
   "source": []
  }
 ],
 "metadata": {
  "kernelspec": {
   "display_name": "Python 3",
   "language": "python",
   "name": "python3"
  },
  "language_info": {
   "codemirror_mode": {
    "name": "ipython",
    "version": 3
   },
   "file_extension": ".py",
   "mimetype": "text/x-python",
   "name": "python",
   "nbconvert_exporter": "python",
   "pygments_lexer": "ipython3",
   "version": "3.6.3"
  }
 },
 "nbformat": 4,
 "nbformat_minor": 2
}
