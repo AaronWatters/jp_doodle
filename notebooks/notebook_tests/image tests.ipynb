{
 "cells": [
  {
   "cell_type": "code",
   "execution_count": null,
   "metadata": {
    "collapsed": true
   },
   "outputs": [],
   "source": [
    "from jp_doodle import dual_canvas\n",
    "from IPython.display import display\n",
    "from jp_proxy_widget import notebook_test_helpers\n",
    "from canvas_test_helpers import ColorTester\n",
    "\n",
    "validators = notebook_test_helpers.ValidationSuite()"
   ]
  },
  {
   "cell_type": "code",
   "execution_count": null,
   "metadata": {
    "collapsed": false
   },
   "outputs": [],
   "source": [
    "import numpy as np\n",
    "test3x2x4 = np.zeros((30,20,4), dtype=np.ubyte)\n",
    "# fully opaque red everywhere\n",
    "test3x2x4[:,:] = [255, 0, 0, 255]\n",
    "# grey lower left\n",
    "test3x2x4[20:30,0:10] = [100, 100, 100, 255]\n",
    "# greenish middle right\n",
    "test3x2x4[10:20,10:20] = [100, 255, 33, 255]\n",
    "#test3x2x4"
   ]
  },
  {
   "cell_type": "code",
   "execution_count": null,
   "metadata": {
    "collapsed": false
   },
   "outputs": [],
   "source": [
    "image_bytes = bytearray(test3x2x4.tobytes())\n",
    "im = dual_canvas.DualCanvasWidget(width=320, height=220)\n",
    "display(im)\n",
    "im.element.name_image_data(\"example\", image_bytes, 20, 30)\n",
    "im.named_image(\"example\", 0, 0, 320, 220)"
   ]
  },
  {
   "cell_type": "code",
   "execution_count": null,
   "metadata": {
    "collapsed": false
   },
   "outputs": [],
   "source": [
    "im_tester = ColorTester(im, \"image\", height=220)\n",
    "im_tester.add_check(30, 50, [100, 100, 100, 255])\n",
    "im_tester.add_check(30, 150, [255, 0, 0, 255])\n",
    "im_tester.add_check(200, 100, [100, 255, 33, 255])\n",
    "validators.add_validation(im, im_tester.validate)"
   ]
  },
  {
   "cell_type": "code",
   "execution_count": null,
   "metadata": {
    "collapsed": false
   },
   "outputs": [],
   "source": [
    "do_validations = True\n",
    "if do_validations:\n",
    "    delay_ms = 1000\n",
    "    display(validators.run_all_in_widget(delay_ms=delay_ms))"
   ]
  },
  {
   "cell_type": "code",
   "execution_count": null,
   "metadata": {
    "collapsed": false
   },
   "outputs": [],
   "source": [
    "im_tester.position_to_color_found"
   ]
  },
  {
   "cell_type": "code",
   "execution_count": null,
   "metadata": {
    "collapsed": true
   },
   "outputs": [],
   "source": []
  }
 ],
 "metadata": {
  "kernelspec": {
   "display_name": "Python 2",
   "language": "python",
   "name": "python2"
  },
  "language_info": {
   "codemirror_mode": {
    "name": "ipython",
    "version": 2
   },
   "file_extension": ".py",
   "mimetype": "text/x-python",
   "name": "python",
   "nbconvert_exporter": "python",
   "pygments_lexer": "ipython2",
   "version": "2.7.13"
  }
 },
 "nbformat": 4,
 "nbformat_minor": 2
}
