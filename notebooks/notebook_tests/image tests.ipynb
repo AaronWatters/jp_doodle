{
 "cells": [
  {
   "cell_type": "code",
   "execution_count": null,
   "metadata": {
    "collapsed": true
   },
   "outputs": [],
   "source": [
    "from jp_doodle import dual_canvas\n",
    "from IPython.display import display\n",
    "from jp_proxy_widget import notebook_test_helpers\n",
    "from canvas_test_helpers import ColorTester\n",
    "\n",
    "validators = notebook_test_helpers.ValidationSuite()"
   ]
  },
  {
   "cell_type": "code",
   "execution_count": null,
   "metadata": {
    "collapsed": false
   },
   "outputs": [],
   "source": [
    "import numpy as np\n",
    "test3x2x4 = np.zeros((30,20,4), dtype=np.ubyte)\n",
    "# fully opaque red everywhere\n",
    "test3x2x4[:,:] = [255, 0, 0, 255]\n",
    "# grey lower left\n",
    "test3x2x4[20:30,0:10] = [100, 100, 100, 255]\n",
    "# greenish middle right\n",
    "test3x2x4[10:20,10:20] = [100, 255, 33, 255]\n",
    "# upper right partially transparent\n",
    "test3x2x4[0:10,0:10] = [100, 23, 255, 100]\n",
    "#test3x2x4"
   ]
  },
  {
   "cell_type": "code",
   "execution_count": null,
   "metadata": {
    "collapsed": false
   },
   "outputs": [],
   "source": [
    "image_bytes = bytearray(test3x2x4.tobytes())\n",
    "im = dual_canvas.DualCanvasWidget(width=320, height=220)\n",
    "display(im)\n",
    "# test underlying javascript naming method\n",
    "im.element.name_image_data(\"example\", image_bytes, 20, 30)\n",
    "im.named_image(\"example\", 0, 0, 320, 220)"
   ]
  },
  {
   "cell_type": "code",
   "execution_count": null,
   "metadata": {
    "collapsed": false
   },
   "outputs": [],
   "source": [
    "im_tester = ColorTester(im, \"image\", height=220)\n",
    "im_tester.add_check(30, 50, [100, 100, 100, 255])\n",
    "im_tester.add_check(30, 120, [255, 0, 0, 255])\n",
    "im_tester.add_check(200, 100, [100, 255, 33, 255])\n",
    "# im_tester.add_check(30, 190, [23, 23, 23, 255]) -- messed up?\n",
    "validators.add_validation(im, im_tester.validate)"
   ]
  },
  {
   "cell_type": "code",
   "execution_count": null,
   "metadata": {
    "collapsed": false
   },
   "outputs": [],
   "source": [
    "bw_array = test3x2x4[:,:,1]  # green channel\n",
    "imbw = dual_canvas.DualCanvasWidget(width=320, height=220)\n",
    "imbw.name_image_array(\"black&white\", bw_array)\n",
    "imbw.named_image(\"black&white\", 0, 0, 320, 220)\n",
    "display(imbw)"
   ]
  },
  {
   "cell_type": "code",
   "execution_count": null,
   "metadata": {
    "collapsed": false
   },
   "outputs": [],
   "source": [
    "imbw_tester = ColorTester(imbw, \"bw\", height=220)\n",
    "imbw_tester.add_check(30, 50, [100, 100, 100, 255])\n",
    "imbw_tester.add_check(30, 120, [0, 0, 0, 255])\n",
    "imbw_tester.add_check(200, 100, [255, 255, 255, 255])\n",
    "imbw_tester.add_check(30, 190, [23, 23, 23, 255]) # -- messed up?\n",
    "validators.add_validation(imbw, imbw_tester.validate)"
   ]
  },
  {
   "cell_type": "code",
   "execution_count": null,
   "metadata": {
    "collapsed": false
   },
   "outputs": [],
   "source": [
    "rgb_array = test3x2x4[:,:,0:3]  # omit alpha channel\n",
    "imrgb = dual_canvas.DualCanvasWidget(width=320, height=220)\n",
    "imrgb.name_image_array(\"color\", rgb_array)\n",
    "imrgb.named_image(\"color\", 0, 0, 320, 220)\n",
    "display(imrgb)"
   ]
  },
  {
   "cell_type": "code",
   "execution_count": null,
   "metadata": {
    "collapsed": true
   },
   "outputs": [],
   "source": [
    "rgb_tester = ColorTester(imrgb, \"rgb\", height=220)\n",
    "rgb_tester.add_check(30, 50, [100, 100, 100, 255])\n",
    "rgb_tester.add_check(30, 120, [255, 0, 0, 255])\n",
    "rgb_tester.add_check(200, 100, [100, 255, 33, 255])\n",
    "rgb_tester.add_check(30, 190, [100, 23, 255, 255]) # -- messed up?\n",
    "validators.add_validation(imrgb, rgb_tester.validate)"
   ]
  },
  {
   "cell_type": "code",
   "execution_count": null,
   "metadata": {
    "collapsed": false
   },
   "outputs": [],
   "source": [
    "rgba_array = test3x2x4\n",
    "imrgba = dual_canvas.DualCanvasWidget(width=320, height=220)\n",
    "imrgba.name_image_array(\"rgba\", rgba_array)\n",
    "imrgba.named_image(\"rgba\", 0, 0, 320, 220)\n",
    "display(imrgba)"
   ]
  },
  {
   "cell_type": "code",
   "execution_count": null,
   "metadata": {
    "collapsed": true
   },
   "outputs": [],
   "source": [
    "rgba_tester = ColorTester(imrgba, \"rgba\", height=220)\n",
    "rgba_tester.add_check(30, 50, [100, 100, 100, 255])\n",
    "rgba_tester.add_check(30, 120, [255, 0, 0, 255])\n",
    "rgba_tester.add_check(200, 100, [100, 255, 33, 255])\n",
    "#rgba_tester.add_check(30, 190, [100, 23, 255, 255]) # -- messed up?\n",
    "validators.add_validation(imrgba, rgba_tester.validate)"
   ]
  },
  {
   "cell_type": "code",
   "execution_count": null,
   "metadata": {
    "collapsed": false
   },
   "outputs": [],
   "source": [
    "do_validations = True\n",
    "if do_validations:\n",
    "    delay_ms = 1000\n",
    "    display(validators.run_all_in_widget(delay_ms=delay_ms))"
   ]
  },
  {
   "cell_type": "code",
   "execution_count": null,
   "metadata": {
    "collapsed": true
   },
   "outputs": [],
   "source": []
  }
 ],
 "metadata": {
  "kernelspec": {
   "display_name": "Python 2",
   "language": "python",
   "name": "python2"
  },
  "language_info": {
   "codemirror_mode": {
    "name": "ipython",
    "version": 2
   },
   "file_extension": ".py",
   "mimetype": "text/x-python",
   "name": "python",
   "nbconvert_exporter": "python",
   "pygments_lexer": "ipython2",
   "version": "2.7.13"
  }
 },
 "nbformat": 4,
 "nbformat_minor": 2
}
