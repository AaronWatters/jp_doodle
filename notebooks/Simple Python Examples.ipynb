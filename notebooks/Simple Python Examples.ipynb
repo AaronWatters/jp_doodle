{
 "cells": [
  {
   "cell_type": "markdown",
   "metadata": {
    "deletable": true,
    "editable": true
   },
   "source": [
    "# Simple Python examples\n",
    "\n",
    "This notebook features some simple examples of diagrams created\n",
    "in Jupyter notebooks using the dual canvas Python interface and avoiding\n",
    "injected Javascript.  It also shows how to add interactive controls to\n",
    "simple diagrams.\n",
    "\n",
    "# The sine function\n",
    "\n",
    "Here we plot the `sin(x)` function as x varies from -4 to 4.  Below\n",
    "we will add interactive controls."
   ]
  },
  {
   "cell_type": "code",
   "execution_count": null,
   "metadata": {
    "collapsed": false,
    "deletable": true,
    "editable": true
   },
   "outputs": [],
   "source": [
    "from jp_doodle import dual_canvas\n",
    "from IPython.display import display\n",
    "\n",
    "# Use numpy to get some X values and matching sines\n",
    "import numpy as np\n",
    "xs = np.linspace(-4,4,300)\n",
    "# Compute the sine values for the xs\n",
    "sins = np.sin(xs)\n",
    "# pair the (x,sin(x)) values.\n",
    "pairs = zip(xs, sins)\n",
    "\n",
    "# Display a canvas which can be saved to an image snapshot.\n",
    "plot = dual_canvas.SnapshotCanvas(\"simple_sine.png\", width=520, height=320)\n",
    "plot.display_all()\n",
    "\n",
    "def draw_sine_curve(plot):\n",
    "    # plot the points scaled 1 unit to 50 pixels in both x and y dimensions.\n",
    "    frame = plot.rframe(50, 50)\n",
    "    \n",
    "    # add a named background rectangle (used for receiving events later).\n",
    "    background = frame.frame_rect(-4.2, -1.2, 8.4, 2.4, color=\"cornsilk\", name=\"background\")\n",
    "    \n",
    "    # draw the sine curve in green.  It has no name and therefore will not receive events.\n",
    "    frame.polyline(pairs, \"green\", lineWidth=3)\n",
    "\n",
    "    # add axes and some labels, also invisible to events.\n",
    "    frame.lower_left_axes(-4, -1, 4, 1, max_tick_count=6)\n",
    "    frame.text(4, 0.1, \"X\", align=\"right\")\n",
    "    frame.text(0.1, 1, \"Y\", valign=\"center\")\n",
    "    return (frame, background)\n",
    "\n",
    "(frame, background) = draw_sine_curve(plot)\n",
    "\n",
    "# fit the plot into the canvas\n",
    "plot.fit()"
   ]
  },
  {
   "cell_type": "markdown",
   "metadata": {
    "deletable": true,
    "editable": true
   },
   "source": [
    "Snapshotting the plot shown above produces the following image:\n",
    "\n",
    "<img src=\"simple_sine.png\" width=\"520\">\n",
    "\n",
    "**Exercise:**\n",
    "Change `draw_sine_curve` to also draw a cosine curve over the same\n",
    "`x` values in cyan.\n",
    "\n",
    "**Exercise**\n",
    "Make a similar plot which plots the $y = x^2$ curve as $x$ varies\n",
    "from -1 to 1.  Do the same for $y = x^2 - x^3$.\n",
    "\n",
    "# Sine curve with slider\n",
    "\n",
    "Now we make the same plot as above but add a sliding text and reference line\n",
    "which update as the mouse moves over the background region."
   ]
  },
  {
   "cell_type": "code",
   "execution_count": null,
   "metadata": {
    "collapsed": false,
    "deletable": true,
    "editable": true,
    "scrolled": true
   },
   "outputs": [],
   "source": [
    "# Make a copy of the above diagram\n",
    "plot2 = dual_canvas.SnapshotCanvas(\"simple_sine_slider.png\", width=520, height=320)\n",
    "plot2.display_all()\n",
    "(frame, background) = draw_sine_curve(plot2)\n",
    "\n",
    "# add a slider line which is invisible to event handling.\n",
    "slider_line = frame.line(\n",
    "    x1=-1, y1=-1,\n",
    "    x2=-1, y2=1, \n",
    "    color=\"blue\", name=\"line\", events=False, hide=True, lineWidth=3)\n",
    "\n",
    "# add a sliding text feedback\n",
    "slider_text = frame.text(name=\"text\", hide=True, events=False,\n",
    "    x=0, y=1.1, text=\"x=0, sin(x)=0\", color=\"blue\", align=\"center\", background=\"#fb9\"\n",
    "    )\n",
    "\n",
    "# When the mouse moves over the background, slide the slider to the mouse.\n",
    "def move_slider_to_event(event):\n",
    "    position = event['model_location']\n",
    "    x = position[\"x\"]\n",
    "    # Don't redraw the canvas until both updates are complete\n",
    "    with frame.delay_redraw():\n",
    "        slider_line.change(x1=x, x2=x, hide=False)\n",
    "        slider_text.change(x=x, text=\"x=%3.2f; sin(x)=%3.2f\" % (x, np.sin(x)), hide=False)\n",
    "background.on(\"mousemove\", move_slider_to_event)\n",
    "\n",
    "# fit the plot into the canvas\n",
    "plot2.fit()\n",
    "#plot2.debugging_display()"
   ]
  },
  {
   "cell_type": "markdown",
   "metadata": {
    "collapsed": true,
    "deletable": true,
    "editable": true
   },
   "source": [
    "Here is a snapshot of the diagram after mousing over the plot.\n",
    "\n",
    "<img src=\"simple_sine_slider.png?a=b\" width=\"520\">\n",
    "\n",
    "**Exercise:** Change the callback so the text display aligns\n",
    "to the right or left when the slider line gets too close to the \n",
    "left or right edges of the diagram, but remains aligned to the\n",
    "center otherwise.\n",
    "\n",
    "**Exercise:** Split the text control so the `x` value is at the top\n",
    "of the slider line and the `sin(x)` value is at the bottom.  Update\n",
    "the callback appropriately."
   ]
  },
  {
   "cell_type": "markdown",
   "metadata": {
    "collapsed": true,
    "deletable": true,
    "editable": true
   },
   "source": [
    "# Image color sampling\n",
    "\n",
    "The example below selects a color sample from an image, displays the color, and delivers\n",
    "the color values to a Python function callback."
   ]
  },
  {
   "cell_type": "code",
   "execution_count": null,
   "metadata": {
    "collapsed": false,
    "deletable": true,
    "editable": true
   },
   "outputs": [],
   "source": [
    "# reading an image from python\n",
    "import matplotlib.image as mpimg\n",
    "img = mpimg.imread('./mandrill.png')\n",
    "img.shape, img.max(), img.min()"
   ]
  },
  {
   "cell_type": "code",
   "execution_count": null,
   "metadata": {
    "collapsed": false,
    "deletable": true,
    "editable": true,
    "scrolled": false
   },
   "outputs": [],
   "source": [
    "# Scale the inverted image to byte values.\n",
    "inverted = (1 - img) * 255\n",
    "\n",
    "# Create the canvas for the color sampler\n",
    "color_sampler = dual_canvas.SnapshotCanvas(\"color_sampler.png\", width=820, height=320)\n",
    "color_sampler.display_all()\n",
    "\n",
    "# Load the image to the canvas and name it.\n",
    "color_sampler.name_image_array(\"inverted mandrill\", inverted)\n",
    "\n",
    "# Create a reference frame with y pointing downward with origin at canvas position (0, 200)\n",
    "frame = color_sampler.rframe(scale_x=1, scale_y=-1, translate_x=0, translate_y=200)\n",
    "\n",
    "# Draw the full image by name at normal resolution with lower left corner at frame (0, 200)\n",
    "full = frame.named_image(\"inverted mandrill\", 0, 200, 200, 200, name=True)\n",
    "\n",
    "# Draw a 3x3 image window to track mouse position.\n",
    "window = frame.named_image(\"inverted mandrill\", 220, 200, 200, 200, sx=0, sy=0, sWidth=3, sHeight=3, name=True)\n",
    "\n",
    "# Draw a color swatch\n",
    "swatch = frame.frame_rect(440, 0, 200, 200, color=\"pink\", name=True)\n",
    "detail = frame.text(440, 0, text=\"No color selected yet\", name=True)\n",
    "\n",
    "# Mouse tracker, does not respond to events\n",
    "tracker = frame.frame_rect(0, 0, 10, 10, dx=-5, dy=-5, color=\"#999\", \n",
    "                           fill=False, lineWidth=5, events=False, name=True)\n",
    "\n",
    "events = []\n",
    "color_array = []\n",
    "\n",
    "def track_mouse(event):\n",
    "    events.append(event)\n",
    "    position = event['model_location']\n",
    "    #print \"mouse move at\", position\n",
    "    #print event\n",
    "    x = int(position[\"x\"])\n",
    "    y = int(position[\"y\"])\n",
    "    tracker.change(x=x, y=y)\n",
    "    window.change(sx=x-1, sy=y-1)\n",
    "    color_array[:] = inverted[y][x]\n",
    "    (r,g,b) = color_array\n",
    "    color_name = \"rgb(%s,%s,%s)\" % (r,g,b)\n",
    "    detail.change(text=\"color at (%s,%s) is %s\" % (x,y,color_name))\n",
    "    swatch.change(color=color_name)\n",
    "\n",
    "full.on(\"mousemove\", track_mouse)\n",
    "#full.on(\"click\", track_mouse)\n",
    "#frame.on_canvas_event(\"click\", track_mouse)\n",
    "\n",
    "color_sampler.fit(None, 20)"
   ]
  },
  {
   "cell_type": "markdown",
   "metadata": {},
   "source": [
    "A snapshot of the color sampler in action looks like this:\n",
    "\n",
    "<img src=\"color_sampler.png\" width=\"500\">"
   ]
  },
  {
   "cell_type": "code",
   "execution_count": null,
   "metadata": {
    "collapsed": false
   },
   "outputs": [],
   "source": [
    "events\n"
   ]
  },
  {
   "cell_type": "code",
   "execution_count": null,
   "metadata": {
    "collapsed": false
   },
   "outputs": [],
   "source": [
    "frame.attribute_name"
   ]
  },
  {
   "cell_type": "code",
   "execution_count": null,
   "metadata": {
    "collapsed": true
   },
   "outputs": [],
   "source": []
  }
 ],
 "metadata": {
  "kernelspec": {
   "display_name": "Python 2",
   "language": "python",
   "name": "python2"
  },
  "language_info": {
   "codemirror_mode": {
    "name": "ipython",
    "version": 2
   },
   "file_extension": ".py",
   "mimetype": "text/x-python",
   "name": "python",
   "nbconvert_exporter": "python",
   "pygments_lexer": "ipython2",
   "version": "2.7.13"
  }
 },
 "nbformat": 4,
 "nbformat_minor": 2
}
