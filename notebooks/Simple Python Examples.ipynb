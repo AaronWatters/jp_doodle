{
 "cells": [
  {
   "cell_type": "markdown",
   "metadata": {},
   "source": [
    "# Simple Python examples\n",
    "\n",
    "This notebook features some simple examples of diagrams created\n",
    "in Jupyter notebooks using the dual canvas Python interface and avoiding\n",
    "injected Javascript."
   ]
  },
  {
   "cell_type": "code",
   "execution_count": null,
   "metadata": {
    "collapsed": false
   },
   "outputs": [],
   "source": [
    "from jp_doodle import dual_canvas\n",
    "from IPython.display import display\n",
    "\n",
    "# Create a canvas which can be saved to an image snapshot.\n",
    "plot = dual_canvas.SnapshotCanvas(\"simple_sine.png\", width=520, height=320)\n",
    "plot.display_all()\n",
    "\n",
    "# Use numpy to get some X values and matching sines\n",
    "import numpy as np\n",
    "xs = np.linspace(-4,4,300)\n",
    "# Compute the sine values for the xs\n",
    "sins = np.sin(xs)\n",
    "# pair them up\n",
    "pairs = zip(xs, sins)\n",
    "\n",
    "# plot the points in green scaled 1:50\n",
    "frame = plot.rframe(50, 50)\n",
    "frame.polyline(pairs, \"green\", lineWidth=3)\n",
    "\n",
    "# add axes and some labels\n",
    "frame.lower_left_axes(-4, -1, 4, 1, max_tick_count=6)\n",
    "frame.text(4, 0.1, \"X\", align=\"right\")\n",
    "frame.text(0.1, 1, \"Y\", valign=\"center\")\n",
    "\n",
    "# fit the plot into the canvas\n",
    "plot.fit()"
   ]
  },
  {
   "cell_type": "markdown",
   "metadata": {},
   "source": [
    "Snapshotting the plot shown above produces the following image:\n",
    "\n",
    "<img src=\"simple_sine.png\" width=\"520\">"
   ]
  },
  {
   "cell_type": "code",
   "execution_count": null,
   "metadata": {
    "collapsed": true
   },
   "outputs": [],
   "source": []
  }
 ],
 "metadata": {
  "kernelspec": {
   "display_name": "Python 2",
   "language": "python",
   "name": "python2"
  },
  "language_info": {
   "codemirror_mode": {
    "name": "ipython",
    "version": 2
   },
   "file_extension": ".py",
   "mimetype": "text/x-python",
   "name": "python",
   "nbconvert_exporter": "python",
   "pygments_lexer": "ipython2",
   "version": "2.7.13"
  }
 },
 "nbformat": 4,
 "nbformat_minor": 2
}
