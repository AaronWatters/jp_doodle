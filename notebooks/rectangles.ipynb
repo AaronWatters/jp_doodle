{
 "cells": [
  {
   "cell_type": "markdown",
   "metadata": {
    "deletable": true,
    "editable": true
   },
   "source": [
    "# Dual category bar chart proof of concept\n",
    "\n",
    "This is an experimental bar chart implementation which needs to be refactored and hardened.\n",
    "It presents bars with two categorical dimensions (for example Person Type and State) and one\n",
    "quantitative dimension.  You can adjust the presentation by changing the vectors associated\n",
    "with the categories either programmatically or using mouse events.\n",
    "\n",
    "- Mouse over the bars and data labels to focus.\n",
    "- Click the category labels to adjust geometry.  Click again to drop the label.\n",
    "\n",
    "The visualization requires a live notebook to view (it does not work in nbviewer for\n",
    "example).  Here is a screenshot.\n",
    "\n",
    "<img src=\"rectangles.png\" width=\"300px\">\n",
    "\n",
    "Please execute the cells below to create \"live\" visualizations."
   ]
  },
  {
   "cell_type": "code",
   "execution_count": null,
   "metadata": {
    "collapsed": false,
    "deletable": true,
    "editable": true
   },
   "outputs": [],
   "source": [
    "import jp_proxy_widget\n",
    "from jp_doodle import doodle_files\n",
    "from IPython.display import HTML, display\n",
    "fn1 = \"js/canvas_2d_widget_helper.js\"\n",
    "fn2 = \"js/dual_canvas_helper.js\"\n",
    "fn3 = \"js/rectangle_collection.js\"\n",
    "paths = [doodle_files.vendor_path(fn) for fn in [fn1, fn2, fn3]]\n",
    "#paths = [doodle_files.vendor_path(fn) for fn in [fn1, fn2]]|"
   ]
  },
  {
   "cell_type": "code",
   "execution_count": null,
   "metadata": {
    "collapsed": true,
    "deletable": true,
    "editable": true
   },
   "outputs": [],
   "source": [
    "rdemo = jp_proxy_widget.JSProxyWidget()"
   ]
  },
  {
   "cell_type": "code",
   "execution_count": null,
   "metadata": {
    "collapsed": true,
    "deletable": true,
    "editable": true
   },
   "outputs": [],
   "source": [
    "rdemo.load_js_files(paths)\n",
    "rdemo.js_init(\"\"\"\n",
    "    debugger;\n",
    "    element.empty();\n",
    "    element.rectangle_collection.example(element);\n",
    "    element.info = $(\"<div>\" + element.interpolate_color(0.5) + \" ...ready</div>\").appendTo(element);\n",
    "    //element.invisible_canvas.show();\n",
    "\"\"\")"
   ]
  },
  {
   "cell_type": "code",
   "execution_count": null,
   "metadata": {
    "collapsed": false,
    "deletable": true,
    "editable": true
   },
   "outputs": [],
   "source": [
    "rdemo"
   ]
  },
  {
   "cell_type": "code",
   "execution_count": null,
   "metadata": {
    "collapsed": false,
    "deletable": true,
    "editable": true
   },
   "outputs": [],
   "source": [
    "r2 = jp_proxy_widget.JSProxyWidget()\n",
    "\n",
    "import math\n",
    "anchors = list(range(-100,101,20))\n",
    "anchor_strings = list(str(x) for x in anchors)\n",
    "bars = []\n",
    "count = 0\n",
    "for x in anchors:\n",
    "    for y in anchors:\n",
    "        count += 1\n",
    "        # skip some entries\n",
    "        if ((count**2) % 7) < 4:\n",
    "            continue\n",
    "        d2 = 100*100 - x*x - y*y\n",
    "        if d2 > 0:\n",
    "            d = math.sqrt(d2)\n",
    "            rect = {\"height\": d, \"u_anchor\": str(x), \"v_anchor\": str(y)}\n",
    "            bars.append(rect)\n",
    "bar_config = {\n",
    "    \"u_anchors\": anchor_strings,\n",
    "    \"v_anchors\": anchor_strings,\n",
    "    \"u_label\": \"X value\",\n",
    "    \"v_label\": \"Y value\",\n",
    "    \"bars\": bars,\n",
    "    \"max_width\": 200,\n",
    "    \"labels_position\": {\"x\": 0, \"y\": -150},\n",
    "    \"width_fraction\": 0.7,\n",
    "}\n",
    "canvas_config = {\n",
    "    \"width\": 600,\n",
    "    \"height\": 400,\n",
    "}\n",
    "r2.js_init(\"\"\"\n",
    "    debugger;\n",
    "    element.empty();\n",
    "    element.dual_canvas_helper(element, canvas_config);\n",
    "    element.rectangle_collection(element, bar_config);\n",
    "    element.draw_bars();\n",
    "    //element.invisible_canvas.show();\n",
    "\"\"\", canvas_config=canvas_config, bar_config=bar_config)\n",
    "r2"
   ]
  },
  {
   "cell_type": "code",
   "execution_count": null,
   "metadata": {
    "collapsed": true
   },
   "outputs": [],
   "source": []
  }
 ],
 "metadata": {
  "kernelspec": {
   "display_name": "Python 3",
   "language": "python",
   "name": "python3"
  },
  "language_info": {
   "codemirror_mode": {
    "name": "ipython",
    "version": 3
   },
   "file_extension": ".py",
   "mimetype": "text/x-python",
   "name": "python",
   "nbconvert_exporter": "python",
   "pygments_lexer": "ipython3",
   "version": "3.6.3"
  }
 },
 "nbformat": 4,
 "nbformat_minor": 2
}
