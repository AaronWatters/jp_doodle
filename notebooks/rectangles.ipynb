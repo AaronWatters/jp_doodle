{
 "cells": [
  {
   "cell_type": "code",
   "execution_count": null,
   "metadata": {
    "collapsed": false
   },
   "outputs": [],
   "source": [
    "import jp_proxy_widget\n",
    "from jp_doodle import doodle_files\n",
    "from IPython.display import HTML, display\n",
    "fn1 = \"js/canvas_2d_widget_helper.js\"\n",
    "fn2 = \"js/dual_canvas_helper.js\"\n",
    "fn3 = \"js/rectangle_collection.js\"\n",
    "paths = [doodle_files.vendor_path(fn) for fn in [fn1, fn2, fn3]]\n",
    "#paths = [doodle_files.vendor_path(fn) for fn in [fn1, fn2]]"
   ]
  },
  {
   "cell_type": "code",
   "execution_count": null,
   "metadata": {
    "collapsed": true
   },
   "outputs": [],
   "source": [
    "rdemo = jp_proxy_widget.JSProxyWidget()"
   ]
  },
  {
   "cell_type": "code",
   "execution_count": null,
   "metadata": {
    "collapsed": true
   },
   "outputs": [],
   "source": [
    "rdemo.load_js_files(paths)\n",
    "rdemo.js_init(\"\"\"\n",
    "    debugger;\n",
    "    element.empty();\n",
    "    element.rectangle_collection.example(element);\n",
    "    element.info = $(\"<div>...ready</div>\").appendTo(element);\n",
    "\"\"\")"
   ]
  },
  {
   "cell_type": "code",
   "execution_count": null,
   "metadata": {
    "collapsed": false
   },
   "outputs": [],
   "source": [
    "rdemo"
   ]
  },
  {
   "cell_type": "code",
   "execution_count": null,
   "metadata": {
    "collapsed": false
   },
   "outputs": [],
   "source": [
    "rdemo.print_status()"
   ]
  },
  {
   "cell_type": "code",
   "execution_count": null,
   "metadata": {
    "collapsed": true
   },
   "outputs": [],
   "source": []
  },
  {
   "cell_type": "code",
   "execution_count": null,
   "metadata": {
    "collapsed": true
   },
   "outputs": [],
   "source": []
  }
 ],
 "metadata": {
  "kernelspec": {
   "display_name": "Python 3",
   "language": "python",
   "name": "python3"
  },
  "language_info": {
   "codemirror_mode": {
    "name": "ipython",
    "version": 3
   },
   "file_extension": ".py",
   "mimetype": "text/x-python",
   "name": "python",
   "nbconvert_exporter": "python",
   "pygments_lexer": "ipython3",
   "version": "3.6.3"
  }
 },
 "nbformat": 4,
 "nbformat_minor": 2
}
