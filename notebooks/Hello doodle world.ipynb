{
 "cells": [
  {
   "cell_type": "markdown",
   "metadata": {},
   "source": [
    "# This is a \"Hello world\" example using `jp_doodle.dual_canvas`"
   ]
  },
  {
   "cell_type": "code",
   "execution_count": null,
   "metadata": {},
   "outputs": [],
   "source": [
    "from jp_doodle import dual_canvas\n",
    "demo = dual_canvas.DualCanvasWidget(width=320, height=220)\n",
    "\n",
    "demo.circle(x=0, y=0, r=100, color=\"#e99\")\n",
    "txt = demo.text(x=0, y=0, text=\"Hello World\", degrees=45, name=True,\n",
    "           font= \"40pt Arial\", color=\"#ee3\", background=\"#9e9\", align=\"center\", valign=\"center\")\n",
    "demo.fit()\n",
    "demo"
   ]
  },
  {
   "cell_type": "code",
   "execution_count": null,
   "metadata": {},
   "outputs": [],
   "source": [
    "# add a click event\n",
    "def on_click(*ignored):\n",
    "    txt.transition(text=\"That tickles\", degrees=720, color=\"#f90\", background=\"#009\", seconds_duration=5)\n",
    "    \n",
    "txt.on(\"click\", on_click)\n",
    "# Now click the text"
   ]
  },
  {
   "cell_type": "code",
   "execution_count": null,
   "metadata": {},
   "outputs": [],
   "source": []
  }
 ],
 "metadata": {
  "kernelspec": {
   "display_name": "Python 3",
   "language": "python",
   "name": "python3"
  },
  "language_info": {
   "codemirror_mode": {
    "name": "ipython",
    "version": 3
   },
   "file_extension": ".py",
   "mimetype": "text/x-python",
   "name": "python",
   "nbconvert_exporter": "python",
   "pygments_lexer": "ipython3",
   "version": "3.7.0"
  }
 },
 "nbformat": 4,
 "nbformat_minor": 2
}
