{
 "cells": [
  {
   "cell_type": "code",
   "execution_count": null,
   "metadata": {},
   "outputs": [],
   "source": []
  },
  {
   "cell_type": "code",
   "execution_count": 1,
   "metadata": {},
   "outputs": [],
   "source": [
    "from ipywidgets import interactive\n",
    "from jp_doodle import histogram\n",
    "\n",
    "data = [\n",
    "    9.47, 9.35, 9.37, 8.28, 8.75, 9.22, 7.73, 8.77, 10.8, 13.7, \n",
    "    16.0, 17.1, 17.8, 17.3, 18.8, 18.9, 15.3, 15.5, 14.2, 13.1, \n",
    "    11.5, 11.1, 10.1, 10.2, 10.4, 9.91, 11.1, 7.15, 6.11, 6.78, \n",
    "    7.26, 7.79, 9.87, 12.2, 15.0, 17.3, 19.0, 20.0, 21.0, 21.1, \n",
    "    20.1, 20.2, 20.0, 17.8, 16.0, 15.0, 14.4, 14.2, 13.7, 13.2, \n",
    "    8.63, 11.2, 11.1, 10.6, 11.1, 11.1, 12.1, 12.7, 13.8, 16.1,\n",
    "    17.5, 17.3, 17.3, 17.2, 15.6, 13.5, 10.9, 8.80, 8.96, 8.19, \n",
    "    7.68, 7.76, 8.19, 8.17, 7.31, 7.64, 6.62, 6.68, 6.08, 6.06, \n",
    "    6.14, 7.13, 7.20, 7.56, 8.90, 9.96, 9.88, 11.0, 10.1, 11.0, \n",
    "    10.6, 10.0, 9.89, 8.79, 7.82, 7.85, 7.31, 7.24, 5.43, 7.20, \n",
    "    6.68, 6.21, 6.11, 6.11, 6.17, 7.22, 7.28, 7.40, 7.96, 8.03,\n",
    "    9.07, 9.04, 9.04, 9.18, 9.07, 7.98, 8.07, 7.89, 7.31, 7.33, \n",
    "    6.62, 6.06, 8.33, 5.18, 3.72, 4.85, 5.21, 6.25, 7.79, 10.0, \n",
    "    12.2, 12.7, 13.9, 15.0, 15.1, 16.1, 16.2, 16.2, 16.0, 12.9, \n",
    "    13.8, 12.7, 12.1, 10.6, 10.4, 9.82, 11.0, 7.13, 7.62, 7.62, \n",
    "    7.04, 8.59, 9.64, 12.1, 12.7, 13.8, 16.0, 17.1, 17.1, 17.7, \n",
    "    17.7, 17.8, 16.1, 14.0, 13.0, 12.2, 12.7, 12.7, 12.2, 11.7, \n",
    "    10.8, 12.2, 12.2, 11.6, 11.2, 11.1, 11.4, 13.0, 17.2, 17.7, \n",
    "    17.8, 18.8, 18.6, 17.8, 17.8, 17.3, 16.0, 14.9, 13.9, 12.7, \n",
    "    12.7, 12.3, 11.1, 11.6, 8.97, 10.5, 10.5, 10.5, 9.98, 11.0,\n",
    "]"
   ]
  },
  {
   "cell_type": "code",
   "execution_count": 2,
   "metadata": {},
   "outputs": [
    {
     "data": {
      "application/vnd.jupyter.widget-view+json": {
       "model_id": "f1a7e1a1ddf141d996003288fb4b365f",
       "version_major": 2,
       "version_minor": 0
      },
      "text/plain": [
       "DualCanvasWidget(status='Not yet rendered')"
      ]
     },
     "metadata": {},
     "output_type": "display_data"
    }
   ],
   "source": [
    "histogram.histogram(data)"
   ]
  },
  {
   "cell_type": "code",
   "execution_count": null,
   "metadata": {},
   "outputs": [],
   "source": []
  }
 ],
 "metadata": {
  "kernelspec": {
   "display_name": "Python 3",
   "language": "python",
   "name": "python3"
  },
  "language_info": {
   "codemirror_mode": {
    "name": "ipython",
    "version": 3
   },
   "file_extension": ".py",
   "mimetype": "text/x-python",
   "name": "python",
   "nbconvert_exporter": "python",
   "pygments_lexer": "ipython3",
   "version": "3.6.8"
  }
 },
 "nbformat": 4,
 "nbformat_minor": 2
}
