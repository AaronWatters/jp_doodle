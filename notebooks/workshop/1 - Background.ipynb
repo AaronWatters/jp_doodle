{
 "cells": [
  {
   "cell_type": "markdown",
   "metadata": {},
   "source": [
    "# Dual canvas background information\n",
    "\n",
    "Zooming outward:\n",
    "\n",
    "## What is a dual canvas?\n",
    "\n",
    "The `dual canvas` framework provides Javascript functionality for\n",
    "\n",
    "- drawing visualizations\n",
    "- which support interactions (using the mouse or keyboard or other device visible to a web browser)\n",
    "- which can be animated\n",
    "- with reference frames for managing groups of objects and other conveniences.\n",
    "\n",
    "It is designed:\n",
    "\n",
    "- to be useful for building quantitative and scientific visualizations\n",
    "- with Jupyter in mind\n",
    "- to be used also outside of Jupyter without any Jupyter dependencies\n",
    "- emphasizing simplicity, clarity, and othogonality of components\n",
    "\n",
    "It is built\n",
    "\n",
    "- As a collection of `jQuery` plugins,\n",
    "- Using HTML 5 canvases and other HTML 5 features,\n",
    "- With extensive internal data structures for managing object collections and events.\n",
    "\n",
    "## How do you use a `jQuery` plugin in Jupyter?\n",
    "\n",
    "The `jp_doodle` package includes Python wrapper modules which embed\n",
    "dual canvases in Jupyter using proxy widgets.\n",
    "\n",
    "## What is a proxy widget?\n",
    "\n",
    "A `jp_proxy_widget` is a generic implementation for a Jupyter widget\n",
    "which can make use of most Javascript libraries easily.\n",
    "\n",
    "## What is a Jupyter widget?\n",
    "\n",
    "A Jupyter widget is a component of a Jupyter notebook which is implemented\n",
    "using Javascript and HTML and which communicates with the (Python) kernel process\n",
    "for the notebook.\n",
    "\n",
    "It consists of\n",
    "\n",
    "- A \"view\" implementation instance on the Javascript side on the client browser.\n",
    "- A \"model\" implementation on the kernel side in the server kernel process.\n",
    "- A communications channel connecting the view to the model.\n",
    "\n",
    "## What is Jupyter?\n",
    "\n",
    "Jupyter is a web application which provides advanced interfaces\n",
    "to programming command interpreters.\n",
    "\n",
    "- A Jupyter server which manages all connections between kernels and front-end pages.\n",
    "- Server kernel processes which run the command interpreters.\n",
    "- Client web browser pages which present a user front end.\n",
    "\n",
    "The server and client processes can be on different machines."
   ]
  },
  {
   "cell_type": "code",
   "execution_count": null,
   "metadata": {},
   "outputs": [],
   "source": []
  }
 ],
 "metadata": {
  "kernelspec": {
   "display_name": "Python 3",
   "language": "python",
   "name": "python3"
  },
  "language_info": {
   "codemirror_mode": {
    "name": "ipython",
    "version": 3
   },
   "file_extension": ".py",
   "mimetype": "text/x-python",
   "name": "python",
   "nbconvert_exporter": "python",
   "pygments_lexer": "ipython3",
   "version": "3.7.0"
  }
 },
 "nbformat": 4,
 "nbformat_minor": 2
}
