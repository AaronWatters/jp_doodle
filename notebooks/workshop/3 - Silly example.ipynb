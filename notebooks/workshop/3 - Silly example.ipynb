{
 "cells": [
  {
   "cell_type": "markdown",
   "metadata": {},
   "source": [
    "# A silly example to warm up\n",
    "\n",
    "- Create a canvas.\n",
    "- Make it float as a dialog.\n",
    "- Put some colored rectangles in it.\n",
    "- Add a text element.\n",
    "- Make the text element name the color of the rectangle when the rectangle is clicked."
   ]
  },
  {
   "cell_type": "code",
   "execution_count": null,
   "metadata": {},
   "outputs": [],
   "source": [
    "from jp_doodle import dual_canvas\n",
    "from IPython.display import display\n",
    "demo = dual_canvas.DualCanvasWidget(width=320, height=220)\n",
    "display(demo)"
   ]
  },
  {
   "cell_type": "code",
   "execution_count": null,
   "metadata": {},
   "outputs": [],
   "source": [
    "demo.in_dialog()"
   ]
  },
  {
   "cell_type": "code",
   "execution_count": null,
   "metadata": {},
   "outputs": [],
   "source": [
    "colors = \"yellow green blue magenta red brown\".split()\n",
    "\n",
    "rectangles = []\n",
    "x = 0\n",
    "for color in colors:\n",
    "    rectangle = demo.rect(x=x, y=0, w=30, h=30, color=color, name=True)\n",
    "    rectangles.append(rectangle)\n",
    "    x = x + 40"
   ]
  },
  {
   "cell_type": "code",
   "execution_count": null,
   "metadata": {},
   "outputs": [],
   "source": [
    "demo.fit()"
   ]
  },
  {
   "cell_type": "code",
   "execution_count": null,
   "metadata": {},
   "outputs": [],
   "source": [
    "text = demo.text(x=20, y=-20, text=\"Here is some text\", color=\"white\", background=\"black\", name=True)"
   ]
  },
  {
   "cell_type": "code",
   "execution_count": null,
   "metadata": {},
   "outputs": [],
   "source": [
    "def click_handler(event):\n",
    "    color = event[\"object_info\"][\"color\"]\n",
    "    text.change(background=color, text=color)\n",
    "    \n",
    "for rectangle in rectangles:\n",
    "    rectangle.on(\"click\", click_handler)"
   ]
  },
  {
   "cell_type": "code",
   "execution_count": null,
   "metadata": {},
   "outputs": [],
   "source": []
  }
 ],
 "metadata": {
  "kernelspec": {
   "display_name": "Python 3",
   "language": "python",
   "name": "python3"
  },
  "language_info": {
   "codemirror_mode": {
    "name": "ipython",
    "version": 3
   },
   "file_extension": ".py",
   "mimetype": "text/x-python",
   "name": "python",
   "nbconvert_exporter": "python",
   "pygments_lexer": "ipython3",
   "version": "3.7.0"
  }
 },
 "nbformat": 4,
 "nbformat_minor": 2
}
