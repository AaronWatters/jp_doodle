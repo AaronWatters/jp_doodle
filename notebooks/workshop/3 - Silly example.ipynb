{
 "cells": [
  {
   "cell_type": "markdown",
   "metadata": {},
   "source": [
    "# A silly example to warm up\n",
    "\n",
    "- Create a canvas.\n",
    "- Make it float as a dialog.\n",
    "- Put some colored rectangles in it.\n",
    "- Add a text element.\n",
    "- Make the text element name the color of the rectangle when the rectangle is clicked."
   ]
  },
  {
   "cell_type": "code",
   "execution_count": null,
   "metadata": {},
   "outputs": [],
   "source": [
    "from jp_doodle import dual_canvas\n",
    "from IPython.display import display\n",
    "\n",
    "# Create an empty canvas and display it\n",
    "demo = dual_canvas.DualCanvasWidget(width=320, height=220)\n",
    "display(demo)"
   ]
  },
  {
   "cell_type": "code",
   "execution_count": null,
   "metadata": {},
   "outputs": [],
   "source": [
    "# Pop the canvas out into a dialog so it won't scroll with the page.\n",
    "demo.in_dialog()"
   ]
  },
  {
   "cell_type": "code",
   "execution_count": null,
   "metadata": {},
   "outputs": [],
   "source": [
    "# Put some colored rectangles on the canvas\n",
    "# Name them so they can respond to events keep them in a list.\n",
    "colors = \"yellow green blue magenta red brown\".split()\n",
    "\n",
    "rectangles = []\n",
    "x = 0\n",
    "for color in colors:\n",
    "    rectangle = demo.rect(x=x, y=0, w=30, h=30, color=color, name=True)\n",
    "    rectangles.append(rectangle)\n",
    "    x = x + 40"
   ]
  },
  {
   "cell_type": "code",
   "execution_count": null,
   "metadata": {},
   "outputs": [],
   "source": [
    "# Center the rectangles in the canvas.\n",
    "demo.fit()"
   ]
  },
  {
   "cell_type": "code",
   "execution_count": null,
   "metadata": {},
   "outputs": [],
   "source": [
    "# Add a changable text area to the canvas.\n",
    "text = demo.text(x=20, y=-20, text=\"Here is some text\", color=\"white\", background=\"black\", name=True)"
   ]
  },
  {
   "cell_type": "code",
   "execution_count": null,
   "metadata": {},
   "outputs": [],
   "source": [
    "# Attach mouse click handlers to the rectangles which change the text.\n",
    "\n",
    "def click_handler(event):\n",
    "    color = event[\"object_info\"][\"color\"]\n",
    "    text.change(background=color, text=color)\n",
    "    \n",
    "for rectangle in rectangles:\n",
    "    rectangle.on(\"click\", click_handler)"
   ]
  },
  {
   "cell_type": "markdown",
   "metadata": {},
   "source": [
    "# Making scatter plots instead of rectangles\n",
    "\n",
    "The dual canvas framework is designed for making scientific visualizations\n",
    "and a scatter plot a more realistic approximation of a scientific visualization\n",
    "than a rectangle.\n",
    "\n",
    "To make it easy to create a lot of scatter plots we will\n",
    "use reference frames.\n",
    "\n",
    "The following function creates a small scatter plot on a reference frame\n",
    "using randomly generated points."
   ]
  },
  {
   "cell_type": "code",
   "execution_count": null,
   "metadata": {},
   "outputs": [],
   "source": [
    "import numpy as np\n",
    "\n",
    "def random_scatter(frame, n=7, color=\"green\", circle_mouseover=None):\n",
    "    points = np.random.random(n*2).reshape((n, 2))\n",
    "    frame.lower_left_axes(max_tick_count=4, min_x=0, max_x=1, min_y=0, max_y=1)\n",
    "    for (x,y) in points:\n",
    "        c = frame.frame_circle(x=x, y=y, r=0.05, color=color, name=True)\n",
    "        if circle_mouseover:\n",
    "            c.on(\"mouseover\", circle_mouseover)\n",
    "\n",
    "# To test the function we create a canvas, a frame in the canvas, and draw a plot:\n",
    "test_scatter = dual_canvas.DualCanvasWidget(width=320, height=220)\n",
    "# Create a frame which scales 1 unit to 100 pixels in both dimensions.\n",
    "test_frame = test_scatter.rframe(scale_x=100, scale_y=100)\n",
    "random_scatter(test_frame, color=\"salmon\")\n",
    "\n",
    "# add some niceties:\n",
    "test_frame.text(x=0.5, y=-0.5, text=\"Just a test...\", align=\"center\")\n",
    "test_scatter.fit()\n",
    "display(test_scatter)"
   ]
  },
  {
   "cell_type": "markdown",
   "metadata": {},
   "source": [
    "# Using multiple frames with multiple plots\n",
    "\n",
    "To create several scatter plots we create several frames offset in different\n",
    "positions and use the `random_scatter` function with those frames."
   ]
  },
  {
   "cell_type": "code",
   "execution_count": null,
   "metadata": {},
   "outputs": [],
   "source": [
    "# Create the canvas.\n",
    "multiple_scatter = dual_canvas.DualCanvasWidget(width=820, height=220)\n",
    "\n",
    "# Add a feedback text area for mouse event feedback.\n",
    "feedback = multiple_scatter.text(\n",
    "    x=20, y=-80, text=\"Mouse over a circle to see it's coordinates.\", \n",
    "    color=\"#ccc\", background=\"black\", name=True, font=\"normal 30px Arial\"\n",
    ")\n",
    "\n",
    "# Define an event handler.\n",
    "def circle_mouseover(event):\n",
    "    \"When the mouse is over a circle, show the color and position of the circle.\"\n",
    "    info = event[\"object_info\"]\n",
    "    color = info[\"color\"]\n",
    "    newtext = \"%s : %4.2f, %4.2f\" % (color, info[\"x\"], info[\"y\"])\n",
    "    feedback.change(background=color, text=newtext)\n",
    "\n",
    "# Draw a scatter plot for each color.\n",
    "x_offset = 0\n",
    "for c in colors:\n",
    "    frame = multiple_scatter.rframe(scale_x=100, scale_y=100, translate_x=x_offset)\n",
    "    random_scatter(frame, color=c, circle_mouseover=circle_mouseover)\n",
    "    x_offset += 150\n",
    "    \n",
    "multiple_scatter.fit()\n",
    "display(multiple_scatter)"
   ]
  },
  {
   "cell_type": "code",
   "execution_count": null,
   "metadata": {},
   "outputs": [],
   "source": []
  }
 ],
 "metadata": {
  "kernelspec": {
   "display_name": "Python 3",
   "language": "python",
   "name": "python3"
  },
  "language_info": {
   "codemirror_mode": {
    "name": "ipython",
    "version": 3
   },
   "file_extension": ".py",
   "mimetype": "text/x-python",
   "name": "python",
   "nbconvert_exporter": "python",
   "pygments_lexer": "ipython3",
   "version": "3.7.0"
  }
 },
 "nbformat": 4,
 "nbformat_minor": 2
}
