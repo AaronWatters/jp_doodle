{
 "cells": [
  {
   "cell_type": "markdown",
   "metadata": {},
   "source": [
    "<img src=\"canvas.png\" width=\"300\"/>\n",
    "\n",
    "# Using dual canvases in Jupyter\n",
    "\n",
    "The following explains how to install the dual canvas framework\n",
    "and how to use the framework to build interactive scientific visualizations.\n",
    "\n",
    "This presentation consists of a collection of Jupyter notebooks\n",
    "which introduce dual canvases and how to build interactive visualizations\n",
    "with dual canvases.  The presentation will focus on using Python in\n",
    "Jupyter notebooks to build visualizations (even though it is also possible to use Javascript\n",
    "in other contexts).\n",
    "\n",
    "To use the links provided here\n",
    "find this notebook on Github here: `https://github.com/AaronWatters/jp_doodle/blob/master/notebooks/workshop/0%20-%20Outline.ipynb` (go to `https://github.com/AaronWatters/jp_doodle` and navigate to `notebooks` --> `workshop` --> `0 - Outline.ipynb`"
   ]
  },
  {
   "cell_type": "markdown",
   "metadata": {},
   "source": [
    "# First some demos\n",
    "\n",
    "Here are some examples of things you can build using dual canvas widgets.\n",
    "\n",
    "- [An array explorer.](../misc/z%20transform%20array.ipynb)\n",
    "- [A quasi-3d two category bar chart proof of concept.](../rectangles.ipynb)\n",
    "- [Animated vector field.](../misc/vector%20field%20test.ipynb)\n",
    "- [Comparing AUPR and AUROC for assessing ranking methods.](../misc/precision%20recall%20and%20roc%20curve%20areas.ipynb)\n",
    "- [Quantified trees for examining compositional data such as biomes or file systems.](../misc/quantity%20forest%20test.ipynb)\n",
    "\n",
    "[...more](http://localhost:8888/notebooks/misc/talks/Flatware_Jupyter_Widgets/0%20Jupyter%20Widgets%20Use%20and%20Development.ipynb)"
   ]
  },
  {
   "cell_type": "markdown",
   "metadata": {},
   "source": [
    "# How do you run this stuff?\n",
    "\n",
    "## [Use Binder for experimentation](https://mybinder.org/v2/gh/AaronWatters/jp_doodle/master)\n",
    "\n",
    "You can run the contents of the `jp_doodle` repository without installing\n",
    "anything using a web browser via the Binder service.  But if you want to\n",
    "develop your own software you will need to install stuff locally...\n",
    "\n",
    "## For Development:\n",
    "\n",
    "### [Install Anaconda](https://www.anaconda.com/download)\n",
    "\n",
    "That will give you Python 3, git, and the Jupyter environment.  If you can't use Anaconda\n",
    "for some reason then use some other method to get set up with Python, git, and Jupyter.\n",
    "\n",
    "### Enable widgets in Jupyter\n",
    "\n",
    "\n",
    "```\n",
    "jupyter labextension install @jupyter-widgets/jupyterlab-manager\n",
    "```\n",
    "\n",
    "### Install proxy widgets in Python\n",
    "\n",
    "```\n",
    "pip install jp_proxy_widget\n",
    "```\n",
    "\n",
    "### Enable proxy widgets in Jupyter\n",
    "\n",
    "```\n",
    "jupyter labextension install jp_proxy_widget\n",
    "```\n",
    "\n",
    "### Then install `jp_doodle` from github\n",
    "\n",
    "```\n",
    "pip install git+https://github.com/aaronwatters/jp_doodle\n",
    "```\n",
    "\n",
    "### Verify that everything is working\n",
    "\n",
    "Execute the \n",
    "[Validation notebook](./Set%20up%20verification.ipynb)."
   ]
  },
  {
   "cell_type": "code",
   "execution_count": null,
   "metadata": {},
   "outputs": [],
   "source": [
    "from jp_doodle import dual_canvas\n",
    "demo = dual_canvas.DualCanvasWidget(width=320, height=220)\n",
    "\n",
    "demo.circle(x=0, y=0, r=100, color=\"#e99\")\n",
    "txt = demo.text(x=0, y=0, text=\"Hello World\", degrees=45, name=True,\n",
    "           font= \"40pt Arial\", color=\"#ee3\", background=\"#9e9\", align=\"center\", valign=\"center\")\n",
    "def on_click(*ignored):\n",
    "    txt.transition(text=\"That tickles\", degrees=720, color=\"#f90\", background=\"#009\", seconds_duration=5)\n",
    "    \n",
    "txt.on(\"click\", on_click)\n",
    "demo.fit()\n",
    "demo"
   ]
  },
  {
   "cell_type": "markdown",
   "metadata": {},
   "source": [
    "### Clone the repository to get the examples locally\n",
    "\n",
    "```\n",
    "mkdir ~/test_repositories\n",
    "cd ~/test_repositories\n",
    "git clone https://github.com/AaronWatters/jp_doodle.git\n",
    "```"
   ]
  },
  {
   "cell_type": "markdown",
   "metadata": {},
   "source": [
    "# What is all this stuff I want you to install?\n",
    "\n",
    "## [Please see the background notebook](./1%20-%20Background.ipynb)."
   ]
  },
  {
   "cell_type": "markdown",
   "metadata": {},
   "source": [
    "# How do you use it?\n",
    "\n",
    "## [Try out the tutorial](../Tutorial%20-%20Drawing%20Interactive%20Diagrams%20with%20Dual%20Canvases.ipynb)\n",
    "\n",
    "The tutorial focusses on the Javascript interface.\n",
    "\n",
    "## [Look at the features index](../Feature%20demonstrations/index.ipynb)\n",
    "\n",
    "For additional usage examples including Python interface examples.\n",
    "\n",
    "## [Examine the Python examples](../Simple%20Python%20Examples.ipynb)\n",
    "\n",
    "For some small but interesting examples of how to build visualizations\n",
    "using dual canvases."
   ]
  },
  {
   "cell_type": "code",
   "execution_count": null,
   "metadata": {},
   "outputs": [],
   "source": []
  }
 ],
 "metadata": {
  "kernelspec": {
   "display_name": "Python 3",
   "language": "python",
   "name": "python3"
  },
  "language_info": {
   "codemirror_mode": {
    "name": "ipython",
    "version": 3
   },
   "file_extension": ".py",
   "mimetype": "text/x-python",
   "name": "python",
   "nbconvert_exporter": "python",
   "pygments_lexer": "ipython3",
   "version": "3.7.0"
  }
 },
 "nbformat": 4,
 "nbformat_minor": 2
}
