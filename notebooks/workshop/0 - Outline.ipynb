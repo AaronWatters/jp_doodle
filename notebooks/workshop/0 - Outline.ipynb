{
 "cells": [
  {
   "cell_type": "markdown",
   "metadata": {},
   "source": [
    "# Presentation outline\n",
    "\n",
    "This presentation consists of a collection of Jupyter notebooks\n",
    "which introduce dual canvases and how to build interactive visualizations\n",
    "with dual canvases.  The presentation will focus on using Python in\n",
    "Jupyter notebooks to build visualizations (even though it is also possible to use Javascript\n",
    "in other contexts)."
   ]
  },
  {
   "cell_type": "markdown",
   "metadata": {},
   "source": [
    "# First some demos\n",
    "\n",
    "\n",
    "- [A quasi-3d two category bar chart proof of concept.](../notebooks/rectangles.ipynb)\n",
    "- [Animated vector field.](../vector%20field%20test.ipynb)\n",
    "- [Comparing AUPR and AUROC for assessing ranking methods.](../notebooks/misc/precision%20recall%20and%20roc%20curve%20areas.ipynb)\n",
    "- [Quantified trees for examining compositional data such as biomes or file systems.](../misc/quantity%20forest%20test.ipynb)"
   ]
  },
  {
   "cell_type": "markdown",
   "metadata": {},
   "source": [
    "# How do you run this stuff?\n",
    "\n",
    "## [Use Binder for experimentation](https://mybinder.org/v2/gh/AaronWatters/jp_doodle/master)\n",
    "\n",
    "You can run the contents of the `jp_doodle` repository without installing\n",
    "anything using a web browser via the Binder service.  But if you want to\n",
    "develop your own software you will need to install stuff locally...\n",
    "\n",
    "## For Development:\n",
    "\n",
    "### [Install Anaconda](https://www.anaconda.com/download)\n",
    "\n",
    "That will give you Python 3 and the Jupyter environment.  If you can't use Anaconda\n",
    "for some reason then use some other method to get set up with \n",
    "\n",
    "### Enable widgets in Jupyter\n",
    "\n"
   ]
  }
 ],
 "metadata": {
  "kernelspec": {
   "display_name": "Python 3",
   "language": "python",
   "name": "python3"
  },
  "language_info": {
   "codemirror_mode": {
    "name": "ipython",
    "version": 3
   },
   "file_extension": ".py",
   "mimetype": "text/x-python",
   "name": "python",
   "nbconvert_exporter": "python",
   "pygments_lexer": "ipython3",
   "version": "3.7.0"
  }
 },
 "nbformat": 4,
 "nbformat_minor": 2
}
