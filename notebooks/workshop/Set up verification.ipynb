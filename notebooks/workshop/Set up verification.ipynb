{
 "cells": [
  {
   "cell_type": "markdown",
   "metadata": {},
   "source": [
    "# Verify that jp_doodle and dependencies are working.\n",
    "\n",
    "## First make sure basic widgets work."
   ]
  },
  {
   "cell_type": "code",
   "execution_count": null,
   "metadata": {},
   "outputs": [],
   "source": [
    "import ipywidgets as widgets\n",
    "\n",
    "widgets.Button(\n",
    "    description='Click me',\n",
    "    disabled=False,\n",
    "    button_style='', # 'success', 'info', 'warning', 'danger' or ''\n",
    "    tooltip='Click me',\n",
    "    icon='check'\n",
    ")"
   ]
  },
  {
   "cell_type": "markdown",
   "metadata": {},
   "source": [
    "You should see this button when you execute the cell above\n",
    "\n",
    "<img src=\"button.png\" width=\"200\"/>\n",
    "\n",
    "# Next make sure proxy widgets work."
   ]
  },
  {
   "cell_type": "code",
   "execution_count": null,
   "metadata": {},
   "outputs": [],
   "source": [
    "import jp_proxy_widget\n",
    "\n",
    "greeter = jp_proxy_widget.JSProxyWidget()\n",
    "greeter.element.html(\"<h1>Hello world</h1>\")\n",
    "greeter.element.css(\"color\", \"magenta\")\n",
    "greeter.element.css(\"background-color\", \"blue\")\n",
    "greeter.element.width(200)\n",
    "greeter"
   ]
  },
  {
   "cell_type": "markdown",
   "metadata": {},
   "source": [
    "You should see this text when you execute the cell above\n",
    "\n",
    "<img src=\"proxy.png\" width=\"200\"/>\n",
    "\n",
    "# Finally verify that dual canvases work"
   ]
  },
  {
   "cell_type": "code",
   "execution_count": null,
   "metadata": {},
   "outputs": [],
   "source": [
    "from jp_doodle import dual_canvas\n",
    "demo = dual_canvas.DualCanvasWidget(width=320, height=220)\n",
    "\n",
    "demo.circle(x=0, y=0, r=100, color=\"#e99\")\n",
    "txt = demo.text(x=0, y=0, text=\"Hello World\", degrees=45, name=True,\n",
    "           font= \"40pt Arial\", color=\"#ee3\", background=\"#9e9\", align=\"center\", valign=\"center\")\n",
    "def on_click(*ignored):\n",
    "    txt.transition(text=\"That tickles\", degrees=720, color=\"#f90\", background=\"#009\", seconds_duration=5)\n",
    "    \n",
    "txt.on(\"click\", on_click)\n",
    "demo.fit()\n",
    "demo"
   ]
  },
  {
   "cell_type": "markdown",
   "metadata": {},
   "source": [
    "After executing the cell above you should see\n",
    "\n",
    "<img src=\"canvas.png\" width=\"200\"/>"
   ]
  },
  {
   "cell_type": "code",
   "execution_count": null,
   "metadata": {},
   "outputs": [],
   "source": []
  }
 ],
 "metadata": {
  "kernelspec": {
   "display_name": "Python 3",
   "language": "python",
   "name": "python3"
  },
  "language_info": {
   "codemirror_mode": {
    "name": "ipython",
    "version": 3
   },
   "file_extension": ".py",
   "mimetype": "text/x-python",
   "name": "python",
   "nbconvert_exporter": "python",
   "pygments_lexer": "ipython3",
   "version": "3.7.0"
  }
 },
 "nbformat": 4,
 "nbformat_minor": 2
}
